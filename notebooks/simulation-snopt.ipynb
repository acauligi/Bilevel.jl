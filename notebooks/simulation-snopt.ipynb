{
 "cells": [
  {
   "cell_type": "code",
   "execution_count": 1,
   "metadata": {
    "collapsed": false
   },
   "outputs": [
    {
     "data": {
      "text/html": [
       "    <script class='js-collapse-script'>\n",
       "        var curMatch =\n",
       "            window.location.href\n",
       "            .match(/(.*?)\\/notebooks\\/.*\\.ipynb/);\n",
       "\n",
       "        curMatch = curMatch ||\n",
       "            window.location.href\n",
       "            .match(/(.*?)\\/apps\\/.*\\.ipynb/);\n",
       "\n",
       "        if ( curMatch ) {\n",
       "            $('head').append('<base href=\"' + curMatch[1] + '/\">');\n",
       "        }\n",
       "    </script>\n"
      ],
      "text/plain": [
       "HTML{String}(\"    <script class='js-collapse-script'>\\n        var curMatch =\\n            window.location.href\\n            .match(/(.*?)\\\\/notebooks\\\\/.*\\\\.ipynb/);\\n\\n        curMatch = curMatch ||\\n            window.location.href\\n            .match(/(.*?)\\\\/apps\\\\/.*\\\\.ipynb/);\\n\\n        if ( curMatch ) {\\n            \\$('head').append('<base href=\\\"' + curMatch[1] + '/\\\">');\\n        }\\n    </script>\\n\")"
      ]
     },
     "metadata": {},
     "output_type": "display_data"
    },
    {
     "data": {
      "text/html": [
       "<script class='js-collapse-script' src='/assetserver/8c8a043c2f00369f3e7ae550277d2a54e59a34ad-assets/webio/dist/bundle.js'></script>"
      ],
      "text/plain": [
       "HTML{String}(\"<script class='js-collapse-script' src='/assetserver/8c8a043c2f00369f3e7ae550277d2a54e59a34ad-assets/webio/dist/bundle.js'></script>\")"
      ]
     },
     "metadata": {},
     "output_type": "display_data"
    },
    {
     "data": {
      "text/html": [
       "<script class='js-collapse-script' src='/assetserver/8c8a043c2f00369f3e7ae550277d2a54e59a34ad-assets/providers/ijulia_setup.js'></script>"
      ],
      "text/plain": [
       "HTML{String}(\"<script class='js-collapse-script' src='/assetserver/8c8a043c2f00369f3e7ae550277d2a54e59a34ad-assets/providers/ijulia_setup.js'></script>\")"
      ]
     },
     "metadata": {},
     "output_type": "display_data"
    },
    {
     "data": {
      "text/html": [
       "  <script class='js-collapse-script'>\n",
       "    $('.js-collapse-script').parent('.output_subarea').css('padding', '0');\n",
       "  </script>\n"
      ],
      "text/plain": [
       "HTML{String}(\"  <script class='js-collapse-script'>\\n    \\$('.js-collapse-script').parent('.output_subarea').css('padding', '0');\\n  </script>\\n\")"
      ]
     },
     "metadata": {},
     "output_type": "display_data"
    }
   ],
   "source": [
    "using Revise\n",
    "\n",
    "using RigidBodyDynamics\n",
    "using RigidBodyDynamics: Bounds\n",
    "\n",
    "using DrakeVisualizer\n",
    "using Plots\n",
    "using RigidBodyTreeInspector\n",
    "\n",
    "using BilevelTrajOpt\n",
    "gr(size=(500,500), html_output_format=:png);"
   ]
  },
  {
   "cell_type": "code",
   "execution_count": 2,
   "metadata": {
    "collapsed": false
   },
   "outputs": [],
   "source": [
    "urdf = joinpath(\"..\", \"urdf\", \"ball.urdf\")\n",
    "mechanism = parse_urdf(Float64, urdf)\n",
    "body = findbody(mechanism, \"ball\")\n",
    "basejoint = joint_to_parent(body, mechanism)\n",
    "floatingjoint = Joint(basejoint.name, frame_before(basejoint), frame_after(basejoint), QuaternionFloating{Float64}())\n",
    "replace_joint!(mechanism, basejoint, floatingjoint)\n",
    "position_bounds(floatingjoint) .= Bounds(-100, 100)\n",
    "velocity_bounds(floatingjoint) .= Bounds(-100, 100)\n",
    "μ = 0.5\n",
    "motion_type = :xyz\n",
    "point = Point3D(default_frame(findbody(mechanism, \"floor\")), [0.,0.,0.])\n",
    "normal = FreeVector3D(default_frame(findbody(mechanism, \"floor\")), [0.,0.,1.])\n",
    "hs = HalfSpace(point, normal)\n",
    "floor = Obstacle(hs, μ, motion_type)\n",
    "obstacles = [floor]\n",
    "env = parse_contacts(mechanism, urdf, obstacles)\n",
    "x0 = MechanismState(mechanism)\n",
    "Δt = 0.005;"
   ]
  },
  {
   "cell_type": "code",
   "execution_count": 45,
   "metadata": {
    "collapsed": false
   },
   "outputs": [
    {
     "data": {
      "text/plain": [
       "(::#43) (generic function with 1 method)"
      ]
     },
     "execution_count": 45,
     "metadata": {},
     "output_type": "execute_result"
    }
   ],
   "source": [
    "# q0 = [1., 0., 0., 0., 0., 0., 0.005]\n",
    "q0 = [1., 0., 0., 0., 0., 0., 0.05]\n",
    "v0 = [0., 0., 0., 0.2, 0. , 0.]\n",
    "N = 10\n",
    "\n",
    "set_configuration!(x0, q0)\n",
    "set_velocity!(x0, v0)\n",
    "setdirty!(x0)\n",
    "\n",
    "ctrl! = (u,t,x) -> u[:] = 0."
   ]
  },
  {
   "cell_type": "code",
   "execution_count": 46,
   "metadata": {
    "collapsed": false
   },
   "outputs": [
    {
     "name": "stdout",
     "output_type": "stream",
     "text": [
      "Explicit Contacts\n",
      "Finished successfully: optimality conditions satisfied\n",
      "Finished successfully: optimality conditions satisfied\n",
      "Finished successfully: optimality conditions satisfied\n",
      "Finished successfully: optimality conditions satisfied\n",
      "Finished successfully: optimality conditions satisfied\n",
      "Finished successfully: optimality conditions satisfied\n",
      "Finished successfully: optimality conditions satisfied\n",
      "Finished successfully: optimality conditions satisfied\n",
      "Finished successfully: optimality conditions satisfied\n",
      "Finished successfully: optimality conditions satisfied\n"
     ]
    }
   ],
   "source": [
    "println(\"Explicit Contacts\")\n",
    "traj_exp = BilevelTrajOpt.simulate_snopt(x0,env,Δt,N,ctrl!,implicit_contact=false);"
   ]
  },
  {
   "cell_type": "code",
   "execution_count": 47,
   "metadata": {
    "collapsed": false
   },
   "outputs": [
    {
     "data": {
      "text/plain": [
       "6-element Array{Float64,1}:\n",
       "  0.0        \n",
       "  0.0        \n",
       "  0.0        \n",
       "  1.84958    \n",
       "  4.47275e-12\n",
       " -4.35452    "
      ]
     },
     "metadata": {},
     "output_type": "display_data"
    },
    {
     "data": {
      "text/plain": [
       "6-element Array{Float64,1}:\n",
       "  0.0        \n",
       "  0.0        \n",
       "  0.0        \n",
       "  1.84958    \n",
       "  4.47275e-12\n",
       " -4.35452    "
      ]
     },
     "metadata": {},
     "output_type": "display_data"
    },
    {
     "name": "stdout",
     "output_type": "stream",
     "text": [
      "Implicit Contacts\n"
     ]
    },
    {
     "data": {
      "text/plain": [
       "6-element Array{Float64,1}:\n",
       "  0.0        \n",
       "  0.0        \n",
       "  0.0        \n",
       "  1.84958    \n",
       "  4.47275e-12\n",
       " -4.35452    "
      ]
     },
     "metadata": {},
     "output_type": "display_data"
    },
    {
     "data": {
      "text/plain": [
       "6-element Array{Float64,1}:\n",
       "  0.0        \n",
       "  0.0        \n",
       "  0.0        \n",
       "  1.84958    \n",
       "  4.47275e-12\n",
       " -4.35452    "
      ]
     },
     "metadata": {},
     "output_type": "display_data"
    },
    {
     "name": "stdout",
     "output_type": "stream",
     "text": [
      "elapsed time: 1.527728625 seconds\n"
     ]
    },
    {
     "data": {
      "text/plain": [
       "6-element Array{Float64,1}:\n",
       "  0.0       \n",
       "  0.0       \n",
       "  0.0       \n",
       "  0.0998354 \n",
       "  4.82678e-9\n",
       " -0.00148124"
      ]
     },
     "metadata": {},
     "output_type": "display_data"
    },
    {
     "data": {
      "text/plain": [
       "6-element Array{Float64,1}:\n",
       "  0.0       \n",
       "  0.0       \n",
       "  0.0       \n",
       "  0.0998354 \n",
       "  4.82678e-9\n",
       " -0.00148124"
      ]
     },
     "metadata": {},
     "output_type": "display_data"
    },
    {
     "name": "stdout",
     "output_type": "stream",
     "text": [
      "elapsed time: 1.650748621 seconds\n"
     ]
    },
    {
     "data": {
      "text/plain": [
       "6-element Array{Float64,1}:\n",
       "  0.0       \n",
       "  0.0       \n",
       "  0.0       \n",
       " -0.00137528\n",
       "  1.7162e-9 \n",
       "  0.00288796"
      ]
     },
     "metadata": {},
     "output_type": "display_data"
    },
    {
     "data": {
      "text/plain": [
       "6-element Array{Float64,1}:\n",
       "  0.0       \n",
       "  0.0       \n",
       "  0.0       \n",
       " -0.00137528\n",
       "  1.7162e-9 \n",
       "  0.00288796"
      ]
     },
     "metadata": {},
     "output_type": "display_data"
    },
    {
     "name": "stdout",
     "output_type": "stream",
     "text": [
      "elapsed time: 1.872919309 seconds\n"
     ]
    },
    {
     "data": {
      "text/plain": [
       "6-element Array{Float64,1}:\n",
       "  0.0       \n",
       "  0.0       \n",
       "  0.0       \n",
       "  8.04755e-6\n",
       "  1.20151e-6\n",
       " -3.28045e-5"
      ]
     },
     "metadata": {},
     "output_type": "display_data"
    },
    {
     "data": {
      "text/plain": [
       "6-element Array{Float64,1}:\n",
       "  0.0       \n",
       "  0.0       \n",
       "  0.0       \n",
       "  8.04755e-6\n",
       "  1.20151e-6\n",
       " -3.28045e-5"
      ]
     },
     "metadata": {},
     "output_type": "display_data"
    },
    {
     "name": "stdout",
     "output_type": "stream",
     "text": [
      "elapsed time: 1.575010959 seconds\n"
     ]
    },
    {
     "data": {
      "text/plain": [
       "6-element Array{Float64,1}:\n",
       "  0.0       \n",
       "  0.0       \n",
       "  0.0       \n",
       "  0.00705318\n",
       "  4.59546e-7\n",
       " -0.0147    "
      ]
     },
     "metadata": {},
     "output_type": "display_data"
    },
    {
     "data": {
      "text/plain": [
       "6-element Array{Float64,1}:\n",
       "  0.0       \n",
       "  0.0       \n",
       "  0.0       \n",
       "  0.00705318\n",
       "  4.59546e-7\n",
       " -0.0147    "
      ]
     },
     "metadata": {},
     "output_type": "display_data"
    },
    {
     "name": "stdout",
     "output_type": "stream",
     "text": [
      "elapsed time: 1.582130023 seconds\n"
     ]
    },
    {
     "data": {
      "text/plain": [
       "6-element Array{Float64,1}:\n",
       "  0.0       \n",
       "  0.0       \n",
       "  0.0       \n",
       "  0.00160036\n",
       "  1.63977e-7\n",
       " -0.00332062"
      ]
     },
     "metadata": {},
     "output_type": "display_data"
    },
    {
     "data": {
      "text/plain": [
       "6-element Array{Float64,1}:\n",
       "  0.0       \n",
       "  0.0       \n",
       "  0.0       \n",
       "  0.00160036\n",
       "  1.63977e-7\n",
       " -0.00332062"
      ]
     },
     "metadata": {},
     "output_type": "display_data"
    },
    {
     "name": "stdout",
     "output_type": "stream",
     "text": [
      "elapsed time: 1.629845989 seconds\n"
     ]
    },
    {
     "data": {
      "text/plain": [
       "6-element Array{Float64,1}:\n",
       "  0.0       \n",
       "  0.0       \n",
       "  0.0       \n",
       "  0.00077244\n",
       "  1.19435e-7\n",
       " -0.00159306"
      ]
     },
     "metadata": {},
     "output_type": "display_data"
    },
    {
     "data": {
      "text/plain": [
       "6-element Array{Float64,1}:\n",
       "  0.0       \n",
       "  0.0       \n",
       "  0.0       \n",
       "  0.00077244\n",
       "  1.19435e-7\n",
       " -0.00159306"
      ]
     },
     "metadata": {},
     "output_type": "display_data"
    },
    {
     "name": "stdout",
     "output_type": "stream",
     "text": [
      "elapsed time: 1.623290888 seconds\n"
     ]
    },
    {
     "data": {
      "text/plain": [
       "6-element Array{Float64,1}:\n",
       "  0.0        \n",
       "  0.0        \n",
       "  0.0        \n",
       "  0.000242037\n",
       "  9.23825e-8 \n",
       " -0.000486176"
      ]
     },
     "metadata": {},
     "output_type": "display_data"
    },
    {
     "data": {
      "text/plain": [
       "6-element Array{Float64,1}:\n",
       "  0.0        \n",
       "  0.0        \n",
       "  0.0        \n",
       "  0.000242037\n",
       "  9.23825e-8 \n",
       " -0.000486176"
      ]
     },
     "metadata": {},
     "output_type": "display_data"
    },
    {
     "name": "stdout",
     "output_type": "stream",
     "text": [
      "elapsed time: 3.102792541 seconds\n"
     ]
    },
    {
     "data": {
      "text/plain": [
       "6-element Array{Float64,1}:\n",
       "  0.0       \n",
       "  0.0       \n",
       "  0.0       \n",
       "  3.09324e-5\n",
       "  1.22172e-6\n",
       " -8.87217e-5"
      ]
     },
     "metadata": {},
     "output_type": "display_data"
    },
    {
     "data": {
      "text/plain": [
       "6-element Array{Float64,1}:\n",
       "  0.0       \n",
       "  0.0       \n",
       "  0.0       \n",
       "  3.09324e-5\n",
       "  1.22172e-6\n",
       " -8.87217e-5"
      ]
     },
     "metadata": {},
     "output_type": "display_data"
    },
    {
     "name": "stdout",
     "output_type": "stream",
     "text": [
      "elapsed time: 1.634306061 seconds\n"
     ]
    },
    {
     "data": {
      "text/plain": [
       "6-element Array{Float64,1}:\n",
       "  0.0       \n",
       "  0.0       \n",
       "  0.0       \n",
       "  3.3929e-5 \n",
       "  1.24966e-6\n",
       " -0.00016662"
      ]
     },
     "metadata": {},
     "output_type": "display_data"
    },
    {
     "data": {
      "text/plain": [
       "6-element Array{Float64,1}:\n",
       "  0.0       \n",
       "  0.0       \n",
       "  0.0       \n",
       "  3.3929e-5 \n",
       "  1.24966e-6\n",
       " -0.00016662"
      ]
     },
     "metadata": {},
     "output_type": "display_data"
    },
    {
     "name": "stdout",
     "output_type": "stream",
     "text": [
      "elapsed time: 1.704605843 seconds\n"
     ]
    },
    {
     "data": {
      "text/plain": [
       "6-element Array{Float64,1}:\n",
       "  0.0        \n",
       "  0.0        \n",
       "  0.0        \n",
       "  3.22583e-5 \n",
       "  1.23325e-6 \n",
       " -0.000121723"
      ]
     },
     "metadata": {},
     "output_type": "display_data"
    },
    {
     "data": {
      "text/plain": [
       "6-element Array{Float64,1}:\n",
       "  0.0        \n",
       "  0.0        \n",
       "  0.0        \n",
       "  3.22583e-5 \n",
       "  1.23325e-6 \n",
       " -0.000121723"
      ]
     },
     "metadata": {},
     "output_type": "display_data"
    },
    {
     "name": "stdout",
     "output_type": "stream",
     "text": [
      "elapsed time: 1.639105179 seconds\n"
     ]
    },
    {
     "data": {
      "text/plain": [
       "6-element Array{Float64,1}:\n",
       "  0.0       \n",
       "  0.0       \n",
       "  0.0       \n",
       "  1.85679   \n",
       " -1.37948e-8\n",
       " -4.37476   "
      ]
     },
     "metadata": {},
     "output_type": "display_data"
    },
    {
     "data": {
      "text/plain": [
       "6-element Array{Float64,1}:\n",
       "  0.0       \n",
       "  0.0       \n",
       "  0.0       \n",
       "  1.85679   \n",
       " -1.37948e-8\n",
       " -4.37476   "
      ]
     },
     "metadata": {},
     "output_type": "display_data"
    },
    {
     "name": "stdout",
     "output_type": "stream",
     "text": [
      "elapsed time: 1.612987287 seconds\n",
      "Finished successfully: optimality conditions satisfied\n"
     ]
    },
    {
     "data": {
      "text/plain": [
       "6-element Array{Float64,1}:\n",
       "  0.0       \n",
       "  0.0       \n",
       "  0.0       \n",
       "  1.85679   \n",
       " -1.37948e-8\n",
       " -4.37476   "
      ]
     },
     "metadata": {},
     "output_type": "display_data"
    },
    {
     "data": {
      "text/plain": [
       "6-element Array{Float64,1}:\n",
       "  0.0       \n",
       "  0.0       \n",
       "  0.0       \n",
       "  1.85679   \n",
       " -1.37948e-8\n",
       " -4.37476   "
      ]
     },
     "metadata": {},
     "output_type": "display_data"
    },
    {
     "name": "stdout",
     "output_type": "stream",
     "text": [
      "elapsed time: 1.586442762 seconds\n"
     ]
    },
    {
     "data": {
      "text/plain": [
       "6-element Array{Float64,1}:\n",
       "  0.0       \n",
       "  0.0       \n",
       "  0.0       \n",
       "  0.104099  \n",
       "  2.20181e-9\n",
       " -0.0453416 "
      ]
     },
     "metadata": {},
     "output_type": "display_data"
    },
    {
     "data": {
      "text/plain": [
       "6-element Array{Float64,1}:\n",
       "  0.0       \n",
       "  0.0       \n",
       "  0.0       \n",
       "  0.104099  \n",
       "  2.20181e-9\n",
       " -0.0453416 "
      ]
     },
     "metadata": {},
     "output_type": "display_data"
    },
    {
     "name": "stdout",
     "output_type": "stream",
     "text": [
      "elapsed time: 1.595850062 seconds\n"
     ]
    },
    {
     "data": {
      "text/plain": [
       "6-element Array{Float64,1}:\n",
       "  0.0        \n",
       "  0.0        \n",
       "  0.0        \n",
       "  0.000158196\n",
       "  1.38832e-9 \n",
       " -0.000718127"
      ]
     },
     "metadata": {},
     "output_type": "display_data"
    },
    {
     "data": {
      "text/plain": [
       "6-element Array{Float64,1}:\n",
       "  0.0        \n",
       "  0.0        \n",
       "  0.0        \n",
       "  0.000158196\n",
       "  1.38832e-9 \n",
       " -0.000718127"
      ]
     },
     "metadata": {},
     "output_type": "display_data"
    },
    {
     "name": "stdout",
     "output_type": "stream",
     "text": [
      "elapsed time: 1.595288086 seconds\n"
     ]
    },
    {
     "data": {
      "text/plain": [
       "6-element Array{Float64,1}:\n",
       "  0.0        \n",
       "  0.0        \n",
       "  0.0        \n",
       "  0.000456185\n",
       " -8.59676e-6 \n",
       " -0.000715726"
      ]
     },
     "metadata": {},
     "output_type": "display_data"
    },
    {
     "data": {
      "text/plain": [
       "6-element Array{Float64,1}:\n",
       "  0.0        \n",
       "  0.0        \n",
       "  0.0        \n",
       "  0.000456185\n",
       " -8.59676e-6 \n",
       " -0.000715726"
      ]
     },
     "metadata": {},
     "output_type": "display_data"
    },
    {
     "name": "stdout",
     "output_type": "stream",
     "text": [
      "elapsed time: 1.63207331 seconds\n"
     ]
    },
    {
     "data": {
      "text/plain": [
       "6-element Array{Float64,1}:\n",
       "  0.0        \n",
       "  0.0        \n",
       "  0.0        \n",
       "  0.000332097\n",
       " -4.74995e-6 \n",
       " -0.000712097"
      ]
     },
     "metadata": {},
     "output_type": "display_data"
    },
    {
     "data": {
      "text/plain": [
       "6-element Array{Float64,1}:\n",
       "  0.0        \n",
       "  0.0        \n",
       "  0.0        \n",
       "  0.000332097\n",
       " -4.74995e-6 \n",
       " -0.000712097"
      ]
     },
     "metadata": {},
     "output_type": "display_data"
    },
    {
     "name": "stdout",
     "output_type": "stream",
     "text": [
      "elapsed time: 1.661328854 seconds\n"
     ]
    },
    {
     "data": {
      "text/plain": [
       "6-element Array{Float64,1}:\n",
       "  0.0        \n",
       "  0.0        \n",
       "  0.0        \n",
       "  0.000158199\n",
       "  1.29697e-9 \n",
       " -0.000718127"
      ]
     },
     "metadata": {},
     "output_type": "display_data"
    },
    {
     "data": {
      "text/plain": [
       "6-element Array{Float64,1}:\n",
       "  0.0        \n",
       "  0.0        \n",
       "  0.0        \n",
       "  0.000158199\n",
       "  1.29697e-9 \n",
       " -0.000718127"
      ]
     },
     "metadata": {},
     "output_type": "display_data"
    },
    {
     "name": "stdout",
     "output_type": "stream",
     "text": [
      "elapsed time: 1.676803923 seconds\n"
     ]
    },
    {
     "data": {
      "text/plain": [
       "6-element Array{Float64,1}:\n",
       "  0.0        \n",
       "  0.0        \n",
       "  0.0        \n",
       "  0.000158196\n",
       "  1.49172e-9 \n",
       " -0.000718127"
      ]
     },
     "metadata": {},
     "output_type": "display_data"
    },
    {
     "data": {
      "text/plain": [
       "6-element Array{Float64,1}:\n",
       "  0.0        \n",
       "  0.0        \n",
       "  0.0        \n",
       "  0.000158196\n",
       "  1.49172e-9 \n",
       " -0.000718127"
      ]
     },
     "metadata": {},
     "output_type": "display_data"
    },
    {
     "name": "stdout",
     "output_type": "stream",
     "text": [
      "elapsed time: 1.611696962 seconds\n"
     ]
    },
    {
     "data": {
      "text/plain": [
       "6-element Array{Float64,1}:\n",
       "  0.0      \n",
       "  0.0      \n",
       "  0.0      \n",
       "  1.87128  \n",
       " -1.3932e-8\n",
       " -4.41551  "
      ]
     },
     "metadata": {},
     "output_type": "display_data"
    },
    {
     "data": {
      "text/plain": [
       "6-element Array{Float64,1}:\n",
       "  0.0      \n",
       "  0.0      \n",
       "  0.0      \n",
       "  1.87128  \n",
       " -1.3932e-8\n",
       " -4.41551  "
      ]
     },
     "metadata": {},
     "output_type": "display_data"
    },
    {
     "name": "stdout",
     "output_type": "stream",
     "text": [
      "elapsed time: 1.603256485 seconds\n",
      "Finished successfully: requested accuracy could not be achieved\n"
     ]
    },
    {
     "data": {
      "text/plain": [
       "6-element Array{Float64,1}:\n",
       "  0.0      \n",
       "  0.0      \n",
       "  0.0      \n",
       "  1.87128  \n",
       " -1.3932e-8\n",
       " -4.41551  "
      ]
     },
     "metadata": {},
     "output_type": "display_data"
    },
    {
     "data": {
      "text/plain": [
       "6-element Array{Float64,1}:\n",
       "  0.0      \n",
       "  0.0      \n",
       "  0.0      \n",
       "  1.87128  \n",
       " -1.3932e-8\n",
       " -4.41551  "
      ]
     },
     "metadata": {},
     "output_type": "display_data"
    },
    {
     "name": "stdout",
     "output_type": "stream",
     "text": [
      "elapsed time: 1.632899203 seconds\n"
     ]
    },
    {
     "data": {
      "text/plain": [
       "6-element Array{Float64,1}:\n",
       "  0.0       \n",
       "  0.0       \n",
       "  0.0       \n",
       "  0.116315  \n",
       "  1.80386e-9\n",
       " -0.0798442 "
      ]
     },
     "metadata": {},
     "output_type": "display_data"
    },
    {
     "data": {
      "text/plain": [
       "6-element Array{Float64,1}:\n",
       "  0.0       \n",
       "  0.0       \n",
       "  0.0       \n",
       "  0.116315  \n",
       "  1.80386e-9\n",
       " -0.0798442 "
      ]
     },
     "metadata": {},
     "output_type": "display_data"
    },
    {
     "name": "stdout",
     "output_type": "stream",
     "text": [
      "elapsed time: 1.616696194 seconds\n"
     ]
    },
    {
     "data": {
      "text/plain": [
       "6-element Array{Float64,1}:\n",
       "  0.0        \n",
       "  0.0        \n",
       "  0.0        \n",
       " -0.000178055\n",
       " -5.02808e-9 \n",
       " -0.000500082"
      ]
     },
     "metadata": {},
     "output_type": "display_data"
    },
    {
     "data": {
      "text/plain": [
       "6-element Array{Float64,1}:\n",
       "  0.0        \n",
       "  0.0        \n",
       "  0.0        \n",
       " -0.000178055\n",
       " -5.02808e-9 \n",
       " -0.000500082"
      ]
     },
     "metadata": {},
     "output_type": "display_data"
    },
    {
     "name": "stdout",
     "output_type": "stream",
     "text": [
      "elapsed time: 1.600713589 seconds\n"
     ]
    },
    {
     "data": {
      "text/plain": [
       "6-element Array{Float64,1}:\n",
       "  0.0        \n",
       "  0.0        \n",
       "  0.0        \n",
       " -0.000191457\n",
       " -0.000114289\n",
       " -0.000256586"
      ]
     },
     "metadata": {},
     "output_type": "display_data"
    },
    {
     "data": {
      "text/plain": [
       "6-element Array{Float64,1}:\n",
       "  0.0        \n",
       "  0.0        \n",
       "  0.0        \n",
       " -0.000191457\n",
       " -0.000114289\n",
       " -0.000256586"
      ]
     },
     "metadata": {},
     "output_type": "display_data"
    },
    {
     "name": "stdout",
     "output_type": "stream",
     "text": [
      "elapsed time: 1.788461675 seconds\n"
     ]
    },
    {
     "data": {
      "text/plain": [
       "6-element Array{Float64,1}:\n",
       "  0.0        \n",
       "  0.0        \n",
       "  0.0        \n",
       " -0.000149214\n",
       " -1.2234e-5  \n",
       " -0.00047403 "
      ]
     },
     "metadata": {},
     "output_type": "display_data"
    },
    {
     "data": {
      "text/plain": [
       "6-element Array{Float64,1}:\n",
       "  0.0        \n",
       "  0.0        \n",
       "  0.0        \n",
       " -0.000149214\n",
       " -1.2234e-5  \n",
       " -0.00047403 "
      ]
     },
     "metadata": {},
     "output_type": "display_data"
    },
    {
     "name": "stdout",
     "output_type": "stream",
     "text": [
      "elapsed time: 1.820177416 seconds\n"
     ]
    },
    {
     "data": {
      "text/plain": [
       "6-element Array{Float64,1}:\n",
       "  0.0        \n",
       "  0.0        \n",
       "  0.0        \n",
       " -0.000178487\n",
       " -2.03908e-7 \n",
       " -0.000499658"
      ]
     },
     "metadata": {},
     "output_type": "display_data"
    },
    {
     "data": {
      "text/plain": [
       "6-element Array{Float64,1}:\n",
       "  0.0        \n",
       "  0.0        \n",
       "  0.0        \n",
       " -0.000178487\n",
       " -2.03908e-7 \n",
       " -0.000499658"
      ]
     },
     "metadata": {},
     "output_type": "display_data"
    },
    {
     "name": "stdout",
     "output_type": "stream",
     "text": [
      "elapsed time: 1.540655011 seconds\n"
     ]
    },
    {
     "data": {
      "text/plain": [
       "6-element Array{Float64,1}:\n",
       "  0.0        \n",
       "  0.0        \n",
       "  0.0        \n",
       " -0.000178268\n",
       " -1.0437e-7  \n",
       " -0.00049987 "
      ]
     },
     "metadata": {},
     "output_type": "display_data"
    },
    {
     "data": {
      "text/plain": [
       "6-element Array{Float64,1}:\n",
       "  0.0        \n",
       "  0.0        \n",
       "  0.0        \n",
       " -0.000178268\n",
       " -1.0437e-7  \n",
       " -0.00049987 "
      ]
     },
     "metadata": {},
     "output_type": "display_data"
    },
    {
     "name": "stdout",
     "output_type": "stream",
     "text": [
      "elapsed time: 1.636921705 seconds\n"
     ]
    },
    {
     "data": {
      "text/plain": [
       "6-element Array{Float64,1}:\n",
       "  0.0        \n",
       "  0.0        \n",
       "  0.0        \n",
       " -0.000178161\n",
       " -5.47593e-8 \n",
       " -0.000499976"
      ]
     },
     "metadata": {},
     "output_type": "display_data"
    },
    {
     "data": {
      "text/plain": [
       "6-element Array{Float64,1}:\n",
       "  0.0        \n",
       "  0.0        \n",
       "  0.0        \n",
       " -0.000178161\n",
       " -5.47593e-8 \n",
       " -0.000499976"
      ]
     },
     "metadata": {},
     "output_type": "display_data"
    },
    {
     "name": "stdout",
     "output_type": "stream",
     "text": [
      "elapsed time: 1.555014042 seconds\n"
     ]
    },
    {
     "data": {
      "text/plain": [
       "6-element Array{Float64,1}:\n",
       "  0.0        \n",
       "  0.0        \n",
       "  0.0        \n",
       " -0.000178109\n",
       " -2.99929e-8 \n",
       " -0.000500029"
      ]
     },
     "metadata": {},
     "output_type": "display_data"
    },
    {
     "data": {
      "text/plain": [
       "6-element Array{Float64,1}:\n",
       "  0.0        \n",
       "  0.0        \n",
       "  0.0        \n",
       " -0.000178109\n",
       " -2.99929e-8 \n",
       " -0.000500029"
      ]
     },
     "metadata": {},
     "output_type": "display_data"
    },
    {
     "name": "stdout",
     "output_type": "stream",
     "text": [
      "elapsed time: 1.944875435 seconds\n"
     ]
    },
    {
     "data": {
      "text/plain": [
       "6-element Array{Float64,1}:\n",
       "  0.0        \n",
       "  0.0        \n",
       "  0.0        \n",
       " -0.000178055\n",
       " -4.94602e-9 \n",
       " -0.000500082"
      ]
     },
     "metadata": {},
     "output_type": "display_data"
    },
    {
     "data": {
      "text/plain": [
       "6-element Array{Float64,1}:\n",
       "  0.0        \n",
       "  0.0        \n",
       "  0.0        \n",
       " -0.000178055\n",
       " -4.94602e-9 \n",
       " -0.000500082"
      ]
     },
     "metadata": {},
     "output_type": "display_data"
    },
    {
     "name": "stdout",
     "output_type": "stream",
     "text": [
      "elapsed time: 1.629777426 seconds\n"
     ]
    },
    {
     "data": {
      "text/plain": [
       "6-element Array{Float64,1}:\n",
       "  0.0       \n",
       "  0.0       \n",
       "  0.0       \n",
       "  1.89313   \n",
       " -1.37113e-8\n",
       " -4.47732   "
      ]
     },
     "metadata": {},
     "output_type": "display_data"
    },
    {
     "data": {
      "text/plain": [
       "6-element Array{Float64,1}:\n",
       "  0.0       \n",
       "  0.0       \n",
       "  0.0       \n",
       "  1.89313   \n",
       " -1.37113e-8\n",
       " -4.47732   "
      ]
     },
     "metadata": {},
     "output_type": "display_data"
    },
    {
     "name": "stdout",
     "output_type": "stream",
     "text": [
      "elapsed time: 1.66970842 seconds\n",
      "Finished successfully: requested accuracy could not be achieved\n"
     ]
    },
    {
     "data": {
      "text/plain": [
       "6-element Array{Float64,1}:\n",
       "  0.0       \n",
       "  0.0       \n",
       "  0.0       \n",
       "  1.89313   \n",
       " -1.37113e-8\n",
       " -4.47732   "
      ]
     },
     "metadata": {},
     "output_type": "display_data"
    },
    {
     "data": {
      "text/plain": [
       "6-element Array{Float64,1}:\n",
       "  0.0       \n",
       "  0.0       \n",
       "  0.0       \n",
       "  1.89313   \n",
       " -1.37113e-8\n",
       " -4.47732   "
      ]
     },
     "metadata": {},
     "output_type": "display_data"
    },
    {
     "name": "stdout",
     "output_type": "stream",
     "text": [
      "elapsed time: 1.585165403 seconds\n"
     ]
    },
    {
     "data": {
      "text/plain": [
       "6-element Array{Float64,1}:\n",
       "  0.0       \n",
       "  0.0       \n",
       "  0.0       \n",
       "  0.132915  \n",
       "  2.04372e-9\n",
       " -0.113967  "
      ]
     },
     "metadata": {},
     "output_type": "display_data"
    },
    {
     "data": {
      "text/plain": [
       "6-element Array{Float64,1}:\n",
       "  0.0       \n",
       "  0.0       \n",
       "  0.0       \n",
       "  0.132915  \n",
       "  2.04372e-9\n",
       " -0.113967  "
      ]
     },
     "metadata": {},
     "output_type": "display_data"
    },
    {
     "name": "stdout",
     "output_type": "stream",
     "text": [
      "elapsed time: 1.594850186 seconds\n"
     ]
    },
    {
     "data": {
      "text/plain": [
       "6-element Array{Float64,1}:\n",
       "  0.0        \n",
       "  0.0        \n",
       "  0.0        \n",
       " -0.000455552\n",
       " -8.58062e-10\n",
       " -0.000328764"
      ]
     },
     "metadata": {},
     "output_type": "display_data"
    },
    {
     "data": {
      "text/plain": [
       "6-element Array{Float64,1}:\n",
       "  0.0        \n",
       "  0.0        \n",
       "  0.0        \n",
       " -0.000455552\n",
       " -8.58062e-10\n",
       " -0.000328764"
      ]
     },
     "metadata": {},
     "output_type": "display_data"
    },
    {
     "name": "stdout",
     "output_type": "stream",
     "text": [
      "elapsed time: 1.586795074 seconds\n"
     ]
    },
    {
     "data": {
      "text/plain": [
       "6-element Array{Float64,1}:\n",
       "  0.0        \n",
       "  0.0        \n",
       "  0.0        \n",
       " -3.64219e-6 \n",
       "  0.000938193\n",
       " -1.58078e-5 "
      ]
     },
     "metadata": {},
     "output_type": "display_data"
    },
    {
     "data": {
      "text/plain": [
       "6-element Array{Float64,1}:\n",
       "  0.0        \n",
       "  0.0        \n",
       "  0.0        \n",
       " -3.64219e-6 \n",
       "  0.000938193\n",
       " -1.58078e-5 "
      ]
     },
     "metadata": {},
     "output_type": "display_data"
    },
    {
     "name": "stdout",
     "output_type": "stream",
     "text": [
      "elapsed time: 1.673680979 seconds\n"
     ]
    },
    {
     "data": {
      "text/plain": [
       "6-element Array{Float64,1}:\n",
       "  0.0        \n",
       "  0.0        \n",
       "  0.0        \n",
       "  0.00675987 \n",
       "  0.00174479 \n",
       " -0.000984087"
      ]
     },
     "metadata": {},
     "output_type": "display_data"
    },
    {
     "data": {
      "text/plain": [
       "6-element Array{Float64,1}:\n",
       "  0.0        \n",
       "  0.0        \n",
       "  0.0        \n",
       "  0.00675987 \n",
       "  0.00174479 \n",
       " -0.000984087"
      ]
     },
     "metadata": {},
     "output_type": "display_data"
    },
    {
     "name": "stdout",
     "output_type": "stream",
     "text": [
      "elapsed time: 1.560771657 seconds\n"
     ]
    },
    {
     "data": {
      "text/plain": [
       "6-element Array{Float64,1}:\n",
       " 0.0        \n",
       " 0.0        \n",
       " 0.0        \n",
       " 0.000361418\n",
       " 0.00198727 \n",
       " 0.000334155"
      ]
     },
     "metadata": {},
     "output_type": "display_data"
    },
    {
     "data": {
      "text/plain": [
       "6-element Array{Float64,1}:\n",
       " 0.0        \n",
       " 0.0        \n",
       " 0.0        \n",
       " 0.000361418\n",
       " 0.00198727 \n",
       " 0.000334155"
      ]
     },
     "metadata": {},
     "output_type": "display_data"
    },
    {
     "name": "stdout",
     "output_type": "stream",
     "text": [
      "elapsed time: 1.678472564 seconds\n"
     ]
    },
    {
     "data": {
      "text/plain": [
       "6-element Array{Float64,1}:\n",
       " 0.0        \n",
       " 0.0        \n",
       " 0.0        \n",
       " 0.000137929\n",
       " 0.00143423 \n",
       " 0.000149672"
      ]
     },
     "metadata": {},
     "output_type": "display_data"
    },
    {
     "data": {
      "text/plain": [
       "6-element Array{Float64,1}:\n",
       " 0.0        \n",
       " 0.0        \n",
       " 0.0        \n",
       " 0.000137929\n",
       " 0.00143423 \n",
       " 0.000149672"
      ]
     },
     "metadata": {},
     "output_type": "display_data"
    },
    {
     "name": "stdout",
     "output_type": "stream",
     "text": [
      "elapsed time: 1.602756254 seconds\n"
     ]
    },
    {
     "data": {
      "text/plain": [
       "6-element Array{Float64,1}:\n",
       " 0.0       \n",
       " 0.0       \n",
       " 0.0       \n",
       " 2.74619e-5\n",
       " 0.00107994\n",
       " 3.14793e-5"
      ]
     },
     "metadata": {},
     "output_type": "display_data"
    },
    {
     "data": {
      "text/plain": [
       "6-element Array{Float64,1}:\n",
       " 0.0       \n",
       " 0.0       \n",
       " 0.0       \n",
       " 2.74619e-5\n",
       " 0.00107994\n",
       " 3.14793e-5"
      ]
     },
     "metadata": {},
     "output_type": "display_data"
    },
    {
     "name": "stdout",
     "output_type": "stream",
     "text": [
      "elapsed time: 1.625733449 seconds\n"
     ]
    },
    {
     "data": {
      "text/plain": [
       "6-element Array{Float64,1}:\n",
       "  0.0       \n",
       "  0.0       \n",
       "  0.0       \n",
       " -7.22882e-7\n",
       "  0.00095437\n",
       " -1.04112e-5"
      ]
     },
     "metadata": {},
     "output_type": "display_data"
    },
    {
     "data": {
      "text/plain": [
       "6-element Array{Float64,1}:\n",
       "  0.0       \n",
       "  0.0       \n",
       "  0.0       \n",
       " -7.22882e-7\n",
       "  0.00095437\n",
       " -1.04112e-5"
      ]
     },
     "metadata": {},
     "output_type": "display_data"
    },
    {
     "name": "stdout",
     "output_type": "stream",
     "text": [
      "elapsed time: 1.587496756 seconds\n"
     ]
    },
    {
     "data": {
      "text/plain": [
       "6-element Array{Float64,1}:\n",
       "  0.0        \n",
       "  0.0        \n",
       "  0.0        \n",
       "  1.48626e-6 \n",
       "  0.000966569\n",
       " -6.34127e-6 "
      ]
     },
     "metadata": {},
     "output_type": "display_data"
    },
    {
     "data": {
      "text/plain": [
       "6-element Array{Float64,1}:\n",
       "  0.0        \n",
       "  0.0        \n",
       "  0.0        \n",
       "  1.48626e-6 \n",
       "  0.000966569\n",
       " -6.34127e-6 "
      ]
     },
     "metadata": {},
     "output_type": "display_data"
    },
    {
     "name": "stdout",
     "output_type": "stream",
     "text": [
      "elapsed time: 1.586545294 seconds\n"
     ]
    },
    {
     "data": {
      "text/plain": [
       "6-element Array{Float64,1}:\n",
       "  0.0       \n",
       "  0.0       \n",
       "  0.0       \n",
       "  1.92243   \n",
       " -1.08365e-5\n",
       " -4.56102   "
      ]
     },
     "metadata": {},
     "output_type": "display_data"
    },
    {
     "data": {
      "text/plain": [
       "6-element Array{Float64,1}:\n",
       "  0.0       \n",
       "  0.0       \n",
       "  0.0       \n",
       "  1.92243   \n",
       " -1.08365e-5\n",
       " -4.56102   "
      ]
     },
     "metadata": {},
     "output_type": "display_data"
    },
    {
     "name": "stdout",
     "output_type": "stream",
     "text": [
      "elapsed time: 1.594164037 seconds\n",
      "Finished successfully: optimality conditions satisfied\n"
     ]
    },
    {
     "data": {
      "text/plain": [
       "6-element Array{Float64,1}:\n",
       "  0.0       \n",
       "  0.0       \n",
       "  0.0       \n",
       "  1.92243   \n",
       " -1.08365e-5\n",
       " -4.56102   "
      ]
     },
     "metadata": {},
     "output_type": "display_data"
    },
    {
     "data": {
      "text/plain": [
       "6-element Array{Float64,1}:\n",
       "  0.0       \n",
       "  0.0       \n",
       "  0.0       \n",
       "  1.92243   \n",
       " -1.08365e-5\n",
       " -4.56102   "
      ]
     },
     "metadata": {},
     "output_type": "display_data"
    },
    {
     "name": "stdout",
     "output_type": "stream",
     "text": [
      "elapsed time: 1.612622732 seconds\n"
     ]
    },
    {
     "data": {
      "text/plain": [
       "6-element Array{Float64,1}:\n",
       "  0.0       \n",
       "  0.0       \n",
       "  0.0       \n",
       "  0.153776  \n",
       "  3.78669e-8\n",
       " -0.151731  "
      ]
     },
     "metadata": {},
     "output_type": "display_data"
    },
    {
     "data": {
      "text/plain": [
       "6-element Array{Float64,1}:\n",
       "  0.0       \n",
       "  0.0       \n",
       "  0.0       \n",
       "  0.153776  \n",
       "  3.78669e-8\n",
       " -0.151731  "
      ]
     },
     "metadata": {},
     "output_type": "display_data"
    },
    {
     "name": "stdout",
     "output_type": "stream",
     "text": [
      "elapsed time: 1.521882576 seconds\n"
     ]
    },
    {
     "data": {
      "text/plain": [
       "6-element Array{Float64,1}:\n",
       "  0.0        \n",
       "  0.0        \n",
       "  0.0        \n",
       " -0.000668392\n",
       " -2.12461e-7 \n",
       " -0.000387092"
      ]
     },
     "metadata": {},
     "output_type": "display_data"
    },
    {
     "data": {
      "text/plain": [
       "6-element Array{Float64,1}:\n",
       "  0.0        \n",
       "  0.0        \n",
       "  0.0        \n",
       " -0.000668392\n",
       " -2.12461e-7 \n",
       " -0.000387092"
      ]
     },
     "metadata": {},
     "output_type": "display_data"
    },
    {
     "name": "stdout",
     "output_type": "stream",
     "text": [
      "elapsed time: 1.525193789 seconds\n"
     ]
    },
    {
     "data": {
      "text/plain": [
       "6-element Array{Float64,1}:\n",
       "  0.0        \n",
       "  0.0        \n",
       "  0.0        \n",
       " -0.000315303\n",
       "  0.000332831\n",
       " -0.000544972"
      ]
     },
     "metadata": {},
     "output_type": "display_data"
    },
    {
     "data": {
      "text/plain": [
       "6-element Array{Float64,1}:\n",
       "  0.0        \n",
       "  0.0        \n",
       "  0.0        \n",
       " -0.000315303\n",
       "  0.000332831\n",
       " -0.000544972"
      ]
     },
     "metadata": {},
     "output_type": "display_data"
    },
    {
     "name": "stdout",
     "output_type": "stream",
     "text": [
      "elapsed time: 1.430064123 seconds\n"
     ]
    },
    {
     "data": {
      "text/plain": [
       "6-element Array{Float64,1}:\n",
       "  0.0        \n",
       "  0.0        \n",
       "  0.0        \n",
       " -0.000668591\n",
       " -1.49701e-7 \n",
       " -0.000387454"
      ]
     },
     "metadata": {},
     "output_type": "display_data"
    },
    {
     "data": {
      "text/plain": [
       "6-element Array{Float64,1}:\n",
       "  0.0        \n",
       "  0.0        \n",
       "  0.0        \n",
       " -0.000668591\n",
       " -1.49701e-7 \n",
       " -0.000387454"
      ]
     },
     "metadata": {},
     "output_type": "display_data"
    },
    {
     "name": "stdout",
     "output_type": "stream",
     "text": [
      "elapsed time: 1.481663169 seconds\n"
     ]
    },
    {
     "data": {
      "text/plain": [
       "6-element Array{Float64,1}:\n",
       "  0.0        \n",
       "  0.0        \n",
       "  0.0        \n",
       " -0.000668493\n",
       " -1.80799e-7 \n",
       " -0.000387274"
      ]
     },
     "metadata": {},
     "output_type": "display_data"
    },
    {
     "data": {
      "text/plain": [
       "6-element Array{Float64,1}:\n",
       "  0.0        \n",
       "  0.0        \n",
       "  0.0        \n",
       " -0.000668493\n",
       " -1.80799e-7 \n",
       " -0.000387274"
      ]
     },
     "metadata": {},
     "output_type": "display_data"
    },
    {
     "name": "stdout",
     "output_type": "stream",
     "text": [
      "elapsed time: 1.450914391 seconds\n"
     ]
    },
    {
     "data": {
      "text/plain": [
       "6-element Array{Float64,1}:\n",
       "  0.0        \n",
       "  0.0        \n",
       "  0.0        \n",
       " -0.000668442\n",
       " -1.969e-7   \n",
       " -0.000387182"
      ]
     },
     "metadata": {},
     "output_type": "display_data"
    },
    {
     "data": {
      "text/plain": [
       "6-element Array{Float64,1}:\n",
       "  0.0        \n",
       "  0.0        \n",
       "  0.0        \n",
       " -0.000668442\n",
       " -1.969e-7   \n",
       " -0.000387182"
      ]
     },
     "metadata": {},
     "output_type": "display_data"
    },
    {
     "name": "stdout",
     "output_type": "stream",
     "text": [
      "elapsed time: 1.480334358 seconds\n"
     ]
    },
    {
     "data": {
      "text/plain": [
       "6-element Array{Float64,1}:\n",
       "  0.0        \n",
       "  0.0        \n",
       "  0.0        \n",
       " -0.000668417\n",
       " -2.04475e-7 \n",
       " -0.000387137"
      ]
     },
     "metadata": {},
     "output_type": "display_data"
    },
    {
     "data": {
      "text/plain": [
       "6-element Array{Float64,1}:\n",
       "  0.0        \n",
       "  0.0        \n",
       "  0.0        \n",
       " -0.000668417\n",
       " -2.04475e-7 \n",
       " -0.000387137"
      ]
     },
     "metadata": {},
     "output_type": "display_data"
    },
    {
     "name": "stdout",
     "output_type": "stream",
     "text": [
      "elapsed time: 1.363484345 seconds\n"
     ]
    },
    {
     "data": {
      "text/plain": [
       "6-element Array{Float64,1}:\n",
       "  0.0        \n",
       "  0.0        \n",
       "  0.0        \n",
       " -0.000668393\n",
       " -2.1221e-7  \n",
       " -0.000387092"
      ]
     },
     "metadata": {},
     "output_type": "display_data"
    },
    {
     "data": {
      "text/plain": [
       "6-element Array{Float64,1}:\n",
       "  0.0        \n",
       "  0.0        \n",
       "  0.0        \n",
       " -0.000668393\n",
       " -2.1221e-7  \n",
       " -0.000387092"
      ]
     },
     "metadata": {},
     "output_type": "display_data"
    },
    {
     "name": "stdout",
     "output_type": "stream",
     "text": [
      "elapsed time: 1.375506487 seconds\n"
     ]
    },
    {
     "data": {
      "text/plain": [
       "6-element Array{Float64,1}:\n",
       "  0.0       \n",
       "  0.0       \n",
       "  0.0       \n",
       "  1.9594    \n",
       " -1.08093e-5\n",
       " -4.66765   "
      ]
     },
     "metadata": {},
     "output_type": "display_data"
    },
    {
     "data": {
      "text/plain": [
       "6-element Array{Float64,1}:\n",
       "  0.0       \n",
       "  0.0       \n",
       "  0.0       \n",
       "  1.9594    \n",
       " -1.08093e-5\n",
       " -4.66765   "
      ]
     },
     "metadata": {},
     "output_type": "display_data"
    },
    {
     "name": "stdout",
     "output_type": "stream",
     "text": [
      "elapsed time: 1.346214502 seconds\n",
      "Finished successfully: requested accuracy could not be achieved\n"
     ]
    },
    {
     "data": {
      "text/plain": [
       "6-element Array{Float64,1}:\n",
       "  0.0       \n",
       "  0.0       \n",
       "  0.0       \n",
       "  1.9594    \n",
       " -1.08093e-5\n",
       " -4.66765   "
      ]
     },
     "metadata": {},
     "output_type": "display_data"
    },
    {
     "data": {
      "text/plain": [
       "6-element Array{Float64,1}:\n",
       "  0.0       \n",
       "  0.0       \n",
       "  0.0       \n",
       "  1.9594    \n",
       " -1.08093e-5\n",
       " -4.66765   "
      ]
     },
     "metadata": {},
     "output_type": "display_data"
    },
    {
     "name": "stdout",
     "output_type": "stream",
     "text": [
      "elapsed time: 1.425859513 seconds\n"
     ]
    },
    {
     "data": {
      "text/plain": [
       "6-element Array{Float64,1}:\n",
       "  0.0       \n",
       "  0.0       \n",
       "  0.0       \n",
       "  0.179745  \n",
       " -1.39075e-7\n",
       " -0.196408  "
      ]
     },
     "metadata": {},
     "output_type": "display_data"
    },
    {
     "data": {
      "text/plain": [
       "6-element Array{Float64,1}:\n",
       "  0.0       \n",
       "  0.0       \n",
       "  0.0       \n",
       "  0.179745  \n",
       " -1.39075e-7\n",
       " -0.196408  "
      ]
     },
     "metadata": {},
     "output_type": "display_data"
    },
    {
     "name": "stdout",
     "output_type": "stream",
     "text": [
      "elapsed time: 1.359972539 seconds\n"
     ]
    },
    {
     "data": {
      "text/plain": [
       "6-element Array{Float64,1}:\n",
       "  0.0        \n",
       "  0.0        \n",
       "  0.0        \n",
       " -0.000634982\n",
       " -1.47959e-7 \n",
       " -0.000169257"
      ]
     },
     "metadata": {},
     "output_type": "display_data"
    },
    {
     "data": {
      "text/plain": [
       "6-element Array{Float64,1}:\n",
       "  0.0        \n",
       "  0.0        \n",
       "  0.0        \n",
       " -0.000634982\n",
       " -1.47959e-7 \n",
       " -0.000169257"
      ]
     },
     "metadata": {},
     "output_type": "display_data"
    },
    {
     "name": "stdout",
     "output_type": "stream",
     "text": [
      "elapsed time: 1.399451149 seconds\n"
     ]
    },
    {
     "data": {
      "text/plain": [
       "6-element Array{Float64,1}:\n",
       "  0.0        \n",
       "  0.0        \n",
       "  0.0        \n",
       "  0.000144543\n",
       " -2.78866e-5 \n",
       " -6.38954e-5 "
      ]
     },
     "metadata": {},
     "output_type": "display_data"
    },
    {
     "data": {
      "text/plain": [
       "6-element Array{Float64,1}:\n",
       "  0.0        \n",
       "  0.0        \n",
       "  0.0        \n",
       "  0.000144543\n",
       " -2.78866e-5 \n",
       " -6.38954e-5 "
      ]
     },
     "metadata": {},
     "output_type": "display_data"
    },
    {
     "name": "stdout",
     "output_type": "stream",
     "text": [
      "elapsed time: 1.36204332 seconds\n"
     ]
    },
    {
     "data": {
      "text/plain": [
       "6-element Array{Float64,1}:\n",
       "  0.0        \n",
       "  0.0        \n",
       "  0.0        \n",
       " -6.11339e-6 \n",
       "  0.000749049\n",
       " -4.22561e-5 "
      ]
     },
     "metadata": {},
     "output_type": "display_data"
    },
    {
     "data": {
      "text/plain": [
       "6-element Array{Float64,1}:\n",
       "  0.0        \n",
       "  0.0        \n",
       "  0.0        \n",
       " -6.11339e-6 \n",
       "  0.000749049\n",
       " -4.22561e-5 "
      ]
     },
     "metadata": {},
     "output_type": "display_data"
    },
    {
     "name": "stdout",
     "output_type": "stream",
     "text": [
      "elapsed time: 1.429548686 seconds\n"
     ]
    },
    {
     "data": {
      "text/plain": [
       "6-element Array{Float64,1}:\n",
       " 0.0       \n",
       " 0.0       \n",
       " 0.0       \n",
       " 4.04008e-6\n",
       " 0.00023194\n",
       " 3.6788e-6 "
      ]
     },
     "metadata": {},
     "output_type": "display_data"
    },
    {
     "data": {
      "text/plain": [
       "6-element Array{Float64,1}:\n",
       " 0.0       \n",
       " 0.0       \n",
       " 0.0       \n",
       " 4.04008e-6\n",
       " 0.00023194\n",
       " 3.6788e-6 "
      ]
     },
     "metadata": {},
     "output_type": "display_data"
    },
    {
     "name": "stdout",
     "output_type": "stream",
     "text": [
      "elapsed time: 1.40611458 seconds\n"
     ]
    },
    {
     "data": {
      "text/plain": [
       "6-element Array{Float64,1}:\n",
       "  0.0       \n",
       "  0.0       \n",
       "  0.0       \n",
       "  1.34646e-6\n",
       "  0.0003884 \n",
       " -1.02197e-5"
      ]
     },
     "metadata": {},
     "output_type": "display_data"
    },
    {
     "data": {
      "text/plain": [
       "6-element Array{Float64,1}:\n",
       "  0.0       \n",
       "  0.0       \n",
       "  0.0       \n",
       "  1.34646e-6\n",
       "  0.0003884 \n",
       " -1.02197e-5"
      ]
     },
     "metadata": {},
     "output_type": "display_data"
    },
    {
     "name": "stdout",
     "output_type": "stream",
     "text": [
      "elapsed time: 1.459042214 seconds\n"
     ]
    },
    {
     "data": {
      "text/plain": [
       "6-element Array{Float64,1}:\n",
       "  0.0        \n",
       "  0.0        \n",
       "  0.0        \n",
       "  2.90304e-8 \n",
       " -0.000182443\n",
       " -3.59632e-9 "
      ]
     },
     "metadata": {},
     "output_type": "display_data"
    },
    {
     "data": {
      "text/plain": [
       "6-element Array{Float64,1}:\n",
       "  0.0        \n",
       "  0.0        \n",
       "  0.0        \n",
       "  2.90304e-8 \n",
       " -0.000182443\n",
       " -3.59632e-9 "
      ]
     },
     "metadata": {},
     "output_type": "display_data"
    },
    {
     "name": "stdout",
     "output_type": "stream",
     "text": [
      "elapsed time: 1.361189498 seconds\n"
     ]
    },
    {
     "data": {
      "text/plain": [
       "6-element Array{Float64,1}:\n",
       "  0.0       \n",
       "  0.0       \n",
       "  0.0       \n",
       "  2.00414   \n",
       " -8.74728e-6\n",
       " -4.79849   "
      ]
     },
     "metadata": {},
     "output_type": "display_data"
    },
    {
     "data": {
      "text/plain": [
       "6-element Array{Float64,1}:\n",
       "  0.0       \n",
       "  0.0       \n",
       "  0.0       \n",
       "  2.00414   \n",
       " -8.74728e-6\n",
       " -4.79849   "
      ]
     },
     "metadata": {},
     "output_type": "display_data"
    },
    {
     "name": "stdout",
     "output_type": "stream",
     "text": [
      "elapsed time: 1.371197749 seconds\n",
      "Finished successfully: optimality conditions satisfied\n"
     ]
    },
    {
     "data": {
      "text/plain": [
       "6-element Array{Float64,1}:\n",
       "  0.0       \n",
       "  0.0       \n",
       "  0.0       \n",
       "  2.00414   \n",
       " -8.74728e-6\n",
       " -4.79849   "
      ]
     },
     "metadata": {},
     "output_type": "display_data"
    },
    {
     "data": {
      "text/plain": [
       "6-element Array{Float64,1}:\n",
       "  0.0       \n",
       "  0.0       \n",
       "  0.0       \n",
       "  2.00414   \n",
       " -8.74728e-6\n",
       " -4.79849   "
      ]
     },
     "metadata": {},
     "output_type": "display_data"
    },
    {
     "name": "stdout",
     "output_type": "stream",
     "text": [
      "elapsed time: 1.355662845 seconds\n"
     ]
    },
    {
     "data": {
      "text/plain": [
       "6-element Array{Float64,1}:\n",
       "  0.0       \n",
       "  0.0       \n",
       "  0.0       \n",
       "  0.21257   \n",
       " -2.35559e-7\n",
       " -0.252042  "
      ]
     },
     "metadata": {},
     "output_type": "display_data"
    },
    {
     "data": {
      "text/plain": [
       "6-element Array{Float64,1}:\n",
       "  0.0       \n",
       "  0.0       \n",
       "  0.0       \n",
       "  0.21257   \n",
       " -2.35559e-7\n",
       " -0.252042  "
      ]
     },
     "metadata": {},
     "output_type": "display_data"
    },
    {
     "name": "stdout",
     "output_type": "stream",
     "text": [
      "elapsed time: 1.324480904 seconds\n"
     ]
    },
    {
     "data": {
      "text/plain": [
       "6-element Array{Float64,1}:\n",
       "  0.0        \n",
       "  0.0        \n",
       "  0.0        \n",
       " -0.000689211\n",
       " -1.02709e-7 \n",
       " -8.93146e-5 "
      ]
     },
     "metadata": {},
     "output_type": "display_data"
    },
    {
     "data": {
      "text/plain": [
       "6-element Array{Float64,1}:\n",
       "  0.0        \n",
       "  0.0        \n",
       "  0.0        \n",
       " -0.000689211\n",
       " -1.02709e-7 \n",
       " -8.93146e-5 "
      ]
     },
     "metadata": {},
     "output_type": "display_data"
    },
    {
     "name": "stdout",
     "output_type": "stream",
     "text": [
      "elapsed time: 1.3499258 seconds\n"
     ]
    },
    {
     "data": {
      "text/plain": [
       "6-element Array{Float64,1}:\n",
       "  0.0        \n",
       "  0.0        \n",
       "  0.0        \n",
       "  0.000511675\n",
       " -6.14841e-7 \n",
       " -0.000663044"
      ]
     },
     "metadata": {},
     "output_type": "display_data"
    },
    {
     "data": {
      "text/plain": [
       "6-element Array{Float64,1}:\n",
       "  0.0        \n",
       "  0.0        \n",
       "  0.0        \n",
       "  0.000511675\n",
       " -6.14841e-7 \n",
       " -0.000663044"
      ]
     },
     "metadata": {},
     "output_type": "display_data"
    },
    {
     "name": "stdout",
     "output_type": "stream",
     "text": [
      "elapsed time: 1.403188799 seconds\n"
     ]
    },
    {
     "data": {
      "text/plain": [
       "6-element Array{Float64,1}:\n",
       "  0.0        \n",
       "  0.0        \n",
       "  0.0        \n",
       " -0.000662327\n",
       " -3.76277e-7 \n",
       " -0.000164312"
      ]
     },
     "metadata": {},
     "output_type": "display_data"
    },
    {
     "data": {
      "text/plain": [
       "6-element Array{Float64,1}:\n",
       "  0.0        \n",
       "  0.0        \n",
       "  0.0        \n",
       " -0.000662327\n",
       " -3.76277e-7 \n",
       " -0.000164312"
      ]
     },
     "metadata": {},
     "output_type": "display_data"
    },
    {
     "name": "stdout",
     "output_type": "stream",
     "text": [
      "elapsed time: 1.326946056 seconds\n"
     ]
    },
    {
     "data": {
      "text/plain": [
       "6-element Array{Float64,1}:\n",
       "  0.0        \n",
       "  0.0        \n",
       "  0.0        \n",
       " -0.000657889\n",
       " -8.72264e-7 \n",
       " -0.000398088"
      ]
     },
     "metadata": {},
     "output_type": "display_data"
    },
    {
     "data": {
      "text/plain": [
       "6-element Array{Float64,1}:\n",
       "  0.0        \n",
       "  0.0        \n",
       "  0.0        \n",
       " -0.000657889\n",
       " -8.72264e-7 \n",
       " -0.000398088"
      ]
     },
     "metadata": {},
     "output_type": "display_data"
    },
    {
     "name": "stdout",
     "output_type": "stream",
     "text": [
      "elapsed time: 1.366188197 seconds\n"
     ]
    },
    {
     "data": {
      "text/plain": [
       "6-element Array{Float64,1}:\n",
       "  0.0        \n",
       "  0.0        \n",
       "  0.0        \n",
       " -0.000646501\n",
       " -9.25061e-7 \n",
       " -0.000305095"
      ]
     },
     "metadata": {},
     "output_type": "display_data"
    },
    {
     "data": {
      "text/plain": [
       "6-element Array{Float64,1}:\n",
       "  0.0        \n",
       "  0.0        \n",
       "  0.0        \n",
       " -0.000646501\n",
       " -9.25061e-7 \n",
       " -0.000305095"
      ]
     },
     "metadata": {},
     "output_type": "display_data"
    },
    {
     "name": "stdout",
     "output_type": "stream",
     "text": [
      "elapsed time: 1.346910689 seconds\n"
     ]
    },
    {
     "data": {
      "text/plain": [
       "6-element Array{Float64,1}:\n",
       "  0.0        \n",
       "  0.0        \n",
       "  0.0        \n",
       " -0.000650618\n",
       " -9.2897e-7  \n",
       " -0.00035322 "
      ]
     },
     "metadata": {},
     "output_type": "display_data"
    },
    {
     "data": {
      "text/plain": [
       "6-element Array{Float64,1}:\n",
       "  0.0        \n",
       "  0.0        \n",
       "  0.0        \n",
       " -0.000650618\n",
       " -9.2897e-7  \n",
       " -0.00035322 "
      ]
     },
     "metadata": {},
     "output_type": "display_data"
    },
    {
     "name": "stdout",
     "output_type": "stream",
     "text": [
      "elapsed time: 1.373303944 seconds\n"
     ]
    },
    {
     "data": {
      "text/plain": [
       "6-element Array{Float64,1}:\n",
       "  0.0        \n",
       "  0.0        \n",
       "  0.0        \n",
       " -0.00065338 \n",
       " -9.02509e-7 \n",
       " -0.000372393"
      ]
     },
     "metadata": {},
     "output_type": "display_data"
    },
    {
     "data": {
      "text/plain": [
       "6-element Array{Float64,1}:\n",
       "  0.0        \n",
       "  0.0        \n",
       "  0.0        \n",
       " -0.00065338 \n",
       " -9.02509e-7 \n",
       " -0.000372393"
      ]
     },
     "metadata": {},
     "output_type": "display_data"
    },
    {
     "name": "stdout",
     "output_type": "stream",
     "text": [
      "elapsed time: 1.425335781 seconds\n"
     ]
    },
    {
     "data": {
      "text/plain": [
       "6-element Array{Float64,1}:\n",
       "  0.0        \n",
       "  0.0        \n",
       "  0.0        \n",
       " -0.000657692\n",
       " -8.72101e-7 \n",
       " -0.000397047"
      ]
     },
     "metadata": {},
     "output_type": "display_data"
    },
    {
     "data": {
      "text/plain": [
       "6-element Array{Float64,1}:\n",
       "  0.0        \n",
       "  0.0        \n",
       "  0.0        \n",
       " -0.000657692\n",
       " -8.72101e-7 \n",
       " -0.000397047"
      ]
     },
     "metadata": {},
     "output_type": "display_data"
    },
    {
     "name": "stdout",
     "output_type": "stream",
     "text": [
      "elapsed time: 1.359893892 seconds\n"
     ]
    },
    {
     "data": {
      "text/plain": [
       "6-element Array{Float64,1}:\n",
       "  0.0        \n",
       "  0.0        \n",
       "  0.0        \n",
       " -0.000657886\n",
       " -8.72188e-7 \n",
       " -0.000398072"
      ]
     },
     "metadata": {},
     "output_type": "display_data"
    },
    {
     "data": {
      "text/plain": [
       "6-element Array{Float64,1}:\n",
       "  0.0        \n",
       "  0.0        \n",
       "  0.0        \n",
       " -0.000657886\n",
       " -8.72188e-7 \n",
       " -0.000398072"
      ]
     },
     "metadata": {},
     "output_type": "display_data"
    },
    {
     "name": "stdout",
     "output_type": "stream",
     "text": [
      "elapsed time: 1.53350289 seconds\n"
     ]
    },
    {
     "data": {
      "text/plain": [
       "6-element Array{Float64,1}:\n",
       "  0.0        \n",
       "  0.0        \n",
       "  0.0        \n",
       " -0.000657879\n",
       " -8.72381e-7 \n",
       " -0.000398039"
      ]
     },
     "metadata": {},
     "output_type": "display_data"
    },
    {
     "data": {
      "text/plain": [
       "6-element Array{Float64,1}:\n",
       "  0.0        \n",
       "  0.0        \n",
       "  0.0        \n",
       " -0.000657879\n",
       " -8.72381e-7 \n",
       " -0.000398039"
      ]
     },
     "metadata": {},
     "output_type": "display_data"
    },
    {
     "name": "stdout",
     "output_type": "stream",
     "text": [
      "elapsed time: 1.537193351 seconds\n",
      "elapsed time: 1.453713859 seconds\n"
     ]
    },
    {
     "ename": "LoadError",
     "evalue": "\u001b[91mInterruptException:\u001b[39m",
     "output_type": "error",
     "traceback": [
      "\u001b[91mInterruptException:\u001b[39m",
      "",
      "Stacktrace:",
      " [1] \u001b[1mgesdd!\u001b[22m\u001b[22m\u001b[1m(\u001b[22m\u001b[22m::Char, ::Array{Float64,2}\u001b[1m)\u001b[22m\u001b[22m at \u001b[1m./linalg/lapack.jl:1598\u001b[22m\u001b[22m",
      " [2] \u001b[1m#svdfact!#50\u001b[22m\u001b[22m\u001b[1m(\u001b[22m\u001b[22m::Bool, ::Function, ::Array{Float64,2}\u001b[1m)\u001b[22m\u001b[22m at \u001b[1m./linalg/svd.jl:24\u001b[22m\u001b[22m",
      " [3] \u001b[1m(::Base.LinAlg.#kw##svdfact!)\u001b[22m\u001b[22m\u001b[1m(\u001b[22m\u001b[22m::Array{Any,1}, ::Base.LinAlg.#svdfact!, ::Array{Float64,2}\u001b[1m)\u001b[22m\u001b[22m at \u001b[1m./<missing>:0\u001b[22m\u001b[22m",
      " [4] \u001b[1m#svdfact#51\u001b[22m\u001b[22m\u001b[1m(\u001b[22m\u001b[22m::Bool, ::Function, ::Array{Float64,2}\u001b[1m)\u001b[22m\u001b[22m at \u001b[1m./linalg/svd.jl:65\u001b[22m\u001b[22m",
      " [5] \u001b[1m(::Base.LinAlg.#kw##svdfact)\u001b[22m\u001b[22m\u001b[1m(\u001b[22m\u001b[22m::Array{Any,1}, ::Base.LinAlg.#svdfact, ::Array{Float64,2}\u001b[1m)\u001b[22m\u001b[22m at \u001b[1m./<missing>:0\u001b[22m\u001b[22m",
      " [6] \u001b[1m#svd#54\u001b[22m\u001b[22m at \u001b[1m./linalg/svd.jl:106\u001b[22m\u001b[22m [inlined]",
      " [7] \u001b[1msvd\u001b[22m\u001b[22m\u001b[1m(\u001b[22m\u001b[22m::Array{Float64,2}\u001b[1m)\u001b[22m\u001b[22m at \u001b[1m./linalg/svd.jl:106\u001b[22m\u001b[22m",
      " [8] \u001b[1m#auglag_solve#136\u001b[22m\u001b[22m\u001b[1m(\u001b[22m\u001b[22m::Float64, ::Function, ::Array{Float64,1}, ::Array{Float64,1}, ::Array{Float64,1}, ::BilevelTrajOpt.##40#44, ::BilevelTrajOpt.##41#45{BilevelTrajOpt.SimData,Array{Float64,1},Array{Float64,2},Array{Tuple{RigidBodyDynamics.Spatial.Transform3D{Float64},RigidBodyDynamics.Spatial.Transform3D{Float64}},1},Array{RigidBodyDynamics.Spatial.GeometricJacobian{Array{Float64,2}},1},Array{Float64,1},Array{Float64,1}}, ::BilevelTrajOpt.##42#46{BilevelTrajOpt.SimData,Array{Float64,2},Array{Float64,1},Array{Float64,1}}\u001b[1m)\u001b[22m\u001b[22m at \u001b[1m/Users/blandry/.julia/v0.6/BilevelTrajOpt/src/auglag.jl:64\u001b[22m\u001b[22m",
      " [9] \u001b[1m#solve_implicit_contact_τ#38\u001b[22m\u001b[22m\u001b[1m(\u001b[22m\u001b[22m::Bool, ::Function, ::BilevelTrajOpt.SimData, ::Array{Float64,1}, ::Array{Float64,2}, ::Array{Tuple{RigidBodyDynamics.Spatial.Transform3D{Float64},RigidBodyDynamics.Spatial.Transform3D{Float64}},1}, ::Array{RigidBodyDynamics.Spatial.GeometricJacobian{Array{Float64,2}},1}, ::Array{Float64,1}, ::Array{Float64,1}, ::Array{Float64,1}, ::Array{Float64,1}, ::Array{Float64,1}\u001b[1m)\u001b[22m\u001b[22m at \u001b[1m/Users/blandry/.julia/v0.6/BilevelTrajOpt/src/contact.jl:162\u001b[22m\u001b[22m",
      " [10] \u001b[1m(::BilevelTrajOpt.#evalg#170{BilevelTrajOpt.SimData,Array{Float64,1},Array{Float64,1},Array{Float64,1},Array{Float64,1},Array{Float64,1},Array{Float64,1},Symmetric{Float64,Array{Float64,2}}})\u001b[22m\u001b[22m\u001b[1m(\u001b[22m\u001b[22m::Array{Float64,1}\u001b[1m)\u001b[22m\u001b[22m at \u001b[1m/Users/blandry/.julia/v0.6/BilevelTrajOpt/src/simulation_snopt.jl:139\u001b[22m\u001b[22m",
      " [11] \u001b[1m(::BilevelTrajOpt.#update_fn#177{BilevelTrajOpt.#evalf#168{BilevelTrajOpt.SimData},BilevelTrajOpt.#evaldfdx#169{BilevelTrajOpt.SimData},BilevelTrajOpt.#evalg#170{BilevelTrajOpt.SimData,Array{Float64,1},Array{Float64,1},Array{Float64,1},Array{Float64,1},Array{Float64,1},Array{Float64,1},Symmetric{Float64,Array{Float64,2}}},BilevelTrajOpt.#evaldgdx#175{BilevelTrajOpt.#evalg#170{BilevelTrajOpt.SimData,Array{Float64,1},Array{Float64,1},Array{Float64,1},Array{Float64,1},Array{Float64,1},Array{Float64,1},Symmetric{Float64,Array{Float64,2}}}}})\u001b[22m\u001b[22m\u001b[1m(\u001b[22m\u001b[22m::Array{Float64,1}\u001b[1m)\u001b[22m\u001b[22m at \u001b[1m/Users/blandry/.julia/v0.6/BilevelTrajOpt/src/simulation_snopt.jl:174\u001b[22m\u001b[22m",
      " [12] \u001b[1mobjcon_wrapper\u001b[22m\u001b[22m\u001b[1m(\u001b[22m\u001b[22m::Ptr{Int64}, ::Int64, ::Ptr{Float64}, ::Int64, ::Int64, ::Ptr{Float64}, ::Int64, ::Int64, ::Ptr{Float64}, ::Ptr{Int8}, ::Int64, ::Ptr{Int64}, ::Int64, ::Ptr{Float64}, ::Int64\u001b[1m)\u001b[22m\u001b[22m at \u001b[1m/Users/blandry/.julia/v0.6/Snopt/src/Snopt.jl:66\u001b[22m\u001b[22m",
      " [13] \u001b[1m#snopt#1\u001b[22m\u001b[22m\u001b[1m(\u001b[22m\u001b[22m::String, ::String, ::Function, ::BilevelTrajOpt.#update_fn#177{BilevelTrajOpt.#evalf#168{BilevelTrajOpt.SimData},BilevelTrajOpt.#evaldfdx#169{BilevelTrajOpt.SimData},BilevelTrajOpt.#evalg#170{BilevelTrajOpt.SimData,Array{Float64,1},Array{Float64,1},Array{Float64,1},Array{Float64,1},Array{Float64,1},Array{Float64,1},Symmetric{Float64,Array{Float64,2}}},BilevelTrajOpt.#evaldgdx#175{BilevelTrajOpt.#evalg#170{BilevelTrajOpt.SimData,Array{Float64,1},Array{Float64,1},Array{Float64,1},Array{Float64,1},Array{Float64,1},Array{Float64,1},Symmetric{Float64,Array{Float64,2}}}}}, ::Array{Float64,1}, ::Array{Float64,1}, ::Array{Float64,1}, ::Dict{String,Any}\u001b[1m)\u001b[22m\u001b[22m at \u001b[1m/Users/blandry/.julia/v0.6/Snopt/src/Snopt.jl:339\u001b[22m\u001b[22m",
      " [14] \u001b[1msnopt\u001b[22m\u001b[22m\u001b[1m(\u001b[22m\u001b[22m::Function, ::Array{Float64,1}, ::Array{Float64,1}, ::Array{Float64,1}, ::Dict{String,Any}\u001b[1m)\u001b[22m\u001b[22m at \u001b[1m/Users/blandry/.julia/v0.6/Snopt/src/Snopt.jl:143\u001b[22m\u001b[22m",
      " [15] \u001b[1m#simulate_snopt#162\u001b[22m\u001b[22m\u001b[1m(\u001b[22m\u001b[22m::Bool, ::Function, ::RigidBodyDynamics.MechanismState{Float64,Float64,Float64,TypeSortedCollections.TypeSortedCollection{Tuple{Array{RigidBodyDynamics.Joint{Float64,RigidBodyDynamics.Fixed{Float64}},1},Array{RigidBodyDynamics.Joint{Float64,RigidBodyDynamics.QuaternionFloating{Float64}},1}},2}}, ::BilevelTrajOpt.Environment, ::Float64, ::Int64, ::##43#44\u001b[1m)\u001b[22m\u001b[22m at \u001b[1m/Users/blandry/.julia/v0.6/BilevelTrajOpt/src/simulation_snopt.jl:243\u001b[22m\u001b[22m",
      " [16] \u001b[1m(::BilevelTrajOpt.#kw##simulate_snopt)\u001b[22m\u001b[22m\u001b[1m(\u001b[22m\u001b[22m::Array{Any,1}, ::BilevelTrajOpt.#simulate_snopt, ::RigidBodyDynamics.MechanismState{Float64,Float64,Float64,TypeSortedCollections.TypeSortedCollection{Tuple{Array{RigidBodyDynamics.Joint{Float64,RigidBodyDynamics.Fixed{Float64}},1},Array{RigidBodyDynamics.Joint{Float64,RigidBodyDynamics.QuaternionFloating{Float64}},1}},2}}, ::BilevelTrajOpt.Environment, ::Float64, ::Int64, ::Function\u001b[1m)\u001b[22m\u001b[22m at \u001b[1m./<missing>:0\u001b[22m\u001b[22m",
      " [17] \u001b[1minclude_string\u001b[22m\u001b[22m\u001b[1m(\u001b[22m\u001b[22m::String, ::String\u001b[1m)\u001b[22m\u001b[22m at \u001b[1m./loading.jl:522\u001b[22m\u001b[22m",
      " [18] \u001b[1mexecute_request\u001b[22m\u001b[22m\u001b[1m(\u001b[22m\u001b[22m::ZMQ.Socket, ::IJulia.Msg\u001b[1m)\u001b[22m\u001b[22m at \u001b[1m/Users/blandry/.julia/v0.6/IJulia/src/execute_request.jl:193\u001b[22m\u001b[22m",
      " [19] \u001b[1m(::Compat.#inner#6{Array{Any,1},IJulia.#execute_request,Tuple{ZMQ.Socket,IJulia.Msg}})\u001b[22m\u001b[22m\u001b[1m(\u001b[22m\u001b[22m\u001b[1m)\u001b[22m\u001b[22m at \u001b[1m/Users/blandry/.julia/v0.6/Compat/src/Compat.jl:189\u001b[22m\u001b[22m",
      " [20] \u001b[1meventloop\u001b[22m\u001b[22m\u001b[1m(\u001b[22m\u001b[22m::ZMQ.Socket\u001b[1m)\u001b[22m\u001b[22m at \u001b[1m/Users/blandry/.julia/v0.6/IJulia/src/eventloop.jl:8\u001b[22m\u001b[22m",
      " [21] \u001b[1m(::IJulia.##13#16)\u001b[22m\u001b[22m\u001b[1m(\u001b[22m\u001b[22m\u001b[1m)\u001b[22m\u001b[22m at \u001b[1m./task.jl:335\u001b[22m\u001b[22m"
     ]
    }
   ],
   "source": [
    "println(\"Implicit Contacts\")\n",
    "traj_imp = BilevelTrajOpt.simulate_snopt(x0,env,Δt,N,ctrl!,implicit_contact=true);"
   ]
  },
  {
   "cell_type": "code",
   "execution_count": 43,
   "metadata": {
    "collapsed": false
   },
   "outputs": [
    {
     "data": {
      "image/png": "[encoded data removed]"
     },
     "execution_count": 43,
     "metadata": {},
     "output_type": "execute_result"
    }
   ],
   "source": [
    "ts = cumsum([Δt for i in 1:N]);\n",
    "j = 7\n",
    "plot(traj_exp[j,:],label=\"explicit\")\n",
    "plot!(traj_imp[j,:],label=\"implicit\")"
   ]
  }
 ],
 "metadata": {
  "kernelspec": {
   "display_name": "Julia 0.6.4",
   "language": "julia",
   "name": "julia-0.6"
  },
  "language_info": {
   "file_extension": ".jl",
   "mimetype": "application/julia",
   "name": "julia",
   "version": "0.6.4"
  }
 },
 "nbformat": 4,
 "nbformat_minor": 2
}
