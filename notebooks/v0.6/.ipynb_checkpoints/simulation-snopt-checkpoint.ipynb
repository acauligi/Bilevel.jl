{
 "cells": [
  {
   "cell_type": "code",
   "execution_count": 1,
   "metadata": {
    "collapsed": false
   },
   "outputs": [
    {
     "data": {
      "text/html": [
       "    <script class='js-collapse-script'>\n",
       "        var curMatch =\n",
       "            window.location.href\n",
       "            .match(/(.*?)\\/notebooks\\/.*\\.ipynb/);\n",
       "\n",
       "        curMatch = curMatch ||\n",
       "            window.location.href\n",
       "            .match(/(.*?)\\/apps\\/.*\\.ipynb/);\n",
       "\n",
       "        if ( curMatch ) {\n",
       "            $('head').append('<base href=\"' + curMatch[1] + '/\">');\n",
       "        }\n",
       "    </script>\n"
      ],
      "text/plain": [
       "HTML{String}(\"    <script class='js-collapse-script'>\\n        var curMatch =\\n            window.location.href\\n            .match(/(.*?)\\\\/notebooks\\\\/.*\\\\.ipynb/);\\n\\n        curMatch = curMatch ||\\n            window.location.href\\n            .match(/(.*?)\\\\/apps\\\\/.*\\\\.ipynb/);\\n\\n        if ( curMatch ) {\\n            \\$('head').append('<base href=\\\"' + curMatch[1] + '/\\\">');\\n        }\\n    </script>\\n\")"
      ]
     },
     "metadata": {},
     "output_type": "display_data"
    },
    {
     "data": {
      "text/html": [
       "<script class='js-collapse-script' src='/assetserver/8c8a043c2f00369f3e7ae550277d2a54e59a34ad-assets/webio/dist/bundle.js'></script>"
      ],
      "text/plain": [
       "HTML{String}(\"<script class='js-collapse-script' src='/assetserver/8c8a043c2f00369f3e7ae550277d2a54e59a34ad-assets/webio/dist/bundle.js'></script>\")"
      ]
     },
     "metadata": {},
     "output_type": "display_data"
    },
    {
     "data": {
      "text/html": [
       "<script class='js-collapse-script' src='/assetserver/8c8a043c2f00369f3e7ae550277d2a54e59a34ad-assets/providers/ijulia_setup.js'></script>"
      ],
      "text/plain": [
       "HTML{String}(\"<script class='js-collapse-script' src='/assetserver/8c8a043c2f00369f3e7ae550277d2a54e59a34ad-assets/providers/ijulia_setup.js'></script>\")"
      ]
     },
     "metadata": {},
     "output_type": "display_data"
    },
    {
     "data": {
      "text/html": [
       "  <script class='js-collapse-script'>\n",
       "    $('.js-collapse-script').parent('.output_subarea').css('padding', '0');\n",
       "  </script>\n"
      ],
      "text/plain": [
       "HTML{String}(\"  <script class='js-collapse-script'>\\n    \\$('.js-collapse-script').parent('.output_subarea').css('padding', '0');\\n  </script>\\n\")"
      ]
     },
     "metadata": {},
     "output_type": "display_data"
    }
   ],
   "source": [
    "using Revise\n",
    "\n",
    "using RigidBodyDynamics\n",
    "using RigidBodyDynamics: Bounds\n",
    "\n",
    "using DrakeVisualizer\n",
    "using Plots\n",
    "using RigidBodyTreeInspector\n",
    "\n",
    "using BilevelTrajOpt\n",
    "gr(size=(500,500), html_output_format=:png);"
   ]
  },
  {
   "cell_type": "code",
   "execution_count": 2,
   "metadata": {
    "collapsed": false
   },
   "outputs": [],
   "source": [
    "urdf = joinpath(\"..\", \"urdf\", \"ball.urdf\")\n",
    "mechanism = parse_urdf(Float64, urdf)\n",
    "body = findbody(mechanism, \"ball\")\n",
    "basejoint = joint_to_parent(body, mechanism)\n",
    "floatingjoint = Joint(basejoint.name, frame_before(basejoint), frame_after(basejoint), QuaternionFloating{Float64}())\n",
    "replace_joint!(mechanism, basejoint, floatingjoint)\n",
    "position_bounds(floatingjoint) .= Bounds(-100, 100)\n",
    "velocity_bounds(floatingjoint) .= Bounds(-100, 100)\n",
    "μ = 0.5\n",
    "motion_type = :xyz\n",
    "point = Point3D(default_frame(findbody(mechanism, \"floor\")), [0.,0.,0.])\n",
    "normal = FreeVector3D(default_frame(findbody(mechanism, \"floor\")), [0.,0.,1.])\n",
    "hs = HalfSpace(point, normal)\n",
    "floor = Obstacle(hs, μ, motion_type)\n",
    "obstacles = [floor]\n",
    "env = parse_contacts(mechanism, urdf, obstacles)\n",
    "x0 = MechanismState(mechanism)\n",
    "Δt = 0.005;"
   ]
  },
  {
   "cell_type": "code",
   "execution_count": 41,
   "metadata": {
    "collapsed": false
   },
   "outputs": [
    {
     "data": {
      "text/plain": [
       "(::#39) (generic function with 1 method)"
      ]
     },
     "execution_count": 41,
     "metadata": {},
     "output_type": "execute_result"
    }
   ],
   "source": [
    "# q0 = [1., 0., 0., 0., 0., 0., 0.005]\n",
    "q0 = [1., 0., 0., 0., 0., 0., 0.05]\n",
    "v0 = [0., 0., 0., 0.2, 0. , 0.]\n",
    "N = 10\n",
    "\n",
    "set_configuration!(x0, q0)\n",
    "set_velocity!(x0, v0)\n",
    "setdirty!(x0)\n",
    "\n",
    "ctrl! = (u,t,x) -> u[:] = 0."
   ]
  },
  {
   "cell_type": "code",
   "execution_count": 42,
   "metadata": {
    "collapsed": false
   },
   "outputs": [
    {
     "name": "stdout",
     "output_type": "stream",
     "text": [
      "Explicit Contacts\n",
      "Finished successfully: optimality conditions satisfied\n",
      "Finished successfully: optimality conditions satisfied\n",
      "Finished successfully: optimality conditions satisfied\n",
      "Finished successfully: optimality conditions satisfied\n",
      "Finished successfully: optimality conditions satisfied\n",
      "Finished successfully: optimality conditions satisfied\n",
      "Finished successfully: optimality conditions satisfied\n",
      "Finished successfully: optimality conditions satisfied\n",
      "Finished successfully: optimality conditions satisfied\n",
      "Finished successfully: optimality conditions satisfied\n"
     ]
    }
   ],
   "source": [
    "println(\"Explicit Contacts\")\n",
    "traj_exp = BilevelTrajOpt.simulate_snopt(x0,env,Δt,N,ctrl!,implicit_contact=false);"
   ]
  },
  {
   "cell_type": "code",
   "execution_count": 44,
   "metadata": {
    "collapsed": false
   },
   "outputs": [
    {
     "data": {
      "text/plain": [
       "6-element Array{Float64,1}:\n",
       "  0.0       \n",
       "  0.0       \n",
       "  0.0       \n",
       " -1.32582   \n",
       " -9.7697e-11\n",
       " -9.4043    "
      ]
     },
     "metadata": {},
     "output_type": "display_data"
    },
    {
     "data": {
      "text/plain": [
       "6-element Array{Float64,1}:\n",
       "  0.0       \n",
       "  0.0       \n",
       "  0.0       \n",
       " -1.32582   \n",
       " -9.7697e-11\n",
       " -9.4043    "
      ]
     },
     "metadata": {},
     "output_type": "display_data"
    },
    {
     "name": "stdout",
     "output_type": "stream",
     "text": [
      "Implicit Contacts\n"
     ]
    },
    {
     "data": {
      "text/plain": [
       "6-element Array{Float64,1}:\n",
       "  0.0       \n",
       "  0.0       \n",
       "  0.0       \n",
       " -1.32582   \n",
       " -9.7697e-11\n",
       " -9.4043    "
      ]
     },
     "metadata": {},
     "output_type": "display_data"
    },
    {
     "data": {
      "text/plain": [
       "6-element Array{Float64,1}:\n",
       "  0.0       \n",
       "  0.0       \n",
       "  0.0       \n",
       " -1.32582   \n",
       " -9.7697e-11\n",
       " -9.4043    "
      ]
     },
     "metadata": {},
     "output_type": "display_data"
    },
    {
     "name": "stdout",
     "output_type": "stream",
     "text": [
      "elapsed time: 1.72164052 seconds\n"
     ]
    },
    {
     "data": {
      "text/plain": [
       "6-element Array{Float64,1}:\n",
       "   0.0       \n",
       "   0.0       \n",
       "   0.0       \n",
       "  -2.23744   \n",
       "   3.80929e-7\n",
       " -11.3873    "
      ]
     },
     "metadata": {},
     "output_type": "display_data"
    },
    {
     "data": {
      "text/plain": [
       "6-element Array{Float64,1}:\n",
       "   0.0       \n",
       "   0.0       \n",
       "   0.0       \n",
       "  -2.23744   \n",
       "   3.80929e-7\n",
       " -11.3873    "
      ]
     },
     "metadata": {},
     "output_type": "display_data"
    },
    {
     "name": "stdout",
     "output_type": "stream",
     "text": [
      "elapsed time: 1.813406036 seconds\n"
     ]
    },
    {
     "data": {
      "text/plain": [
       "6-element Array{Float64,1}:\n",
       "  0.0       \n",
       "  0.0       \n",
       "  0.0       \n",
       "  2.77554   \n",
       "  1.73884e-5\n",
       " -2.98263   "
      ]
     },
     "metadata": {},
     "output_type": "display_data"
    },
    {
     "data": {
      "text/plain": [
       "6-element Array{Float64,1}:\n",
       "  0.0       \n",
       "  0.0       \n",
       "  0.0       \n",
       "  2.77554   \n",
       "  1.73884e-5\n",
       " -2.98263   "
      ]
     },
     "metadata": {},
     "output_type": "display_data"
    },
    {
     "name": "stdout",
     "output_type": "stream",
     "text": [
      "elapsed time: 1.580354066 seconds\n"
     ]
    },
    {
     "data": {
      "text/plain": [
       "6-element Array{Float64,1}:\n",
       "   0.0      \n",
       "   0.0      \n",
       "   0.0      \n",
       "  -2.22249  \n",
       "   4.0962e-7\n",
       " -11.3779   "
      ]
     },
     "metadata": {},
     "output_type": "display_data"
    },
    {
     "data": {
      "text/plain": [
       "6-element Array{Float64,1}:\n",
       "   0.0      \n",
       "   0.0      \n",
       "   0.0      \n",
       "  -2.22249  \n",
       "   4.0962e-7\n",
       " -11.3779   "
      ]
     },
     "metadata": {},
     "output_type": "display_data"
    },
    {
     "name": "stdout",
     "output_type": "stream",
     "text": [
      "elapsed time: 1.639153696 seconds\n"
     ]
    },
    {
     "data": {
      "text/plain": [
       "6-element Array{Float64,1}:\n",
       "  0.0       \n",
       "  0.0       \n",
       "  0.0       \n",
       "  2.75443   \n",
       "  1.89047e-5\n",
       " -2.97828   "
      ]
     },
     "metadata": {},
     "output_type": "display_data"
    },
    {
     "data": {
      "text/plain": [
       "6-element Array{Float64,1}:\n",
       "  0.0       \n",
       "  0.0       \n",
       "  0.0       \n",
       "  2.75443   \n",
       "  1.89047e-5\n",
       " -2.97828   "
      ]
     },
     "metadata": {},
     "output_type": "display_data"
    },
    {
     "name": "stdout",
     "output_type": "stream",
     "text": [
      "elapsed time: 1.581795539 seconds\n"
     ]
    },
    {
     "data": {
      "text/plain": [
       "6-element Array{Float64,1}:\n",
       "   0.0       \n",
       "   0.0       \n",
       "   0.0       \n",
       "  -2.20439   \n",
       "   4.46737e-7\n",
       " -11.3665    "
      ]
     },
     "metadata": {},
     "output_type": "display_data"
    },
    {
     "data": {
      "text/plain": [
       "6-element Array{Float64,1}:\n",
       "   0.0       \n",
       "   0.0       \n",
       "   0.0       \n",
       "  -2.20439   \n",
       "   4.46737e-7\n",
       " -11.3665    "
      ]
     },
     "metadata": {},
     "output_type": "display_data"
    },
    {
     "name": "stdout",
     "output_type": "stream",
     "text": [
      "elapsed time: 1.537691057 seconds\n"
     ]
    },
    {
     "data": {
      "text/plain": [
       "6-element Array{Float64,1}:\n",
       "  0.0      \n",
       "  0.0      \n",
       "  0.0      \n",
       "  2.728    \n",
       "  2.0972e-5\n",
       " -2.97442  "
      ]
     },
     "metadata": {},
     "output_type": "display_data"
    },
    {
     "data": {
      "text/plain": [
       "6-element Array{Float64,1}:\n",
       "  0.0      \n",
       "  0.0      \n",
       "  0.0      \n",
       "  2.728    \n",
       "  2.0972e-5\n",
       " -2.97442  "
      ]
     },
     "metadata": {},
     "output_type": "display_data"
    },
    {
     "name": "stdout",
     "output_type": "stream",
     "text": [
      "elapsed time: 1.725511225 seconds\n"
     ]
    },
    {
     "data": {
      "text/plain": [
       "6-element Array{Float64,1}:\n",
       "   0.0       \n",
       "   0.0       \n",
       "   0.0       \n",
       "  -2.18644   \n",
       "   4.87607e-7\n",
       " -11.3552    "
      ]
     },
     "metadata": {},
     "output_type": "display_data"
    },
    {
     "data": {
      "text/plain": [
       "6-element Array{Float64,1}:\n",
       "   0.0       \n",
       "   0.0       \n",
       "   0.0       \n",
       "  -2.18644   \n",
       "   4.87607e-7\n",
       " -11.3552    "
      ]
     },
     "metadata": {},
     "output_type": "display_data"
    },
    {
     "name": "stdout",
     "output_type": "stream",
     "text": [
      "elapsed time: 1.662336852 seconds\n"
     ]
    },
    {
     "data": {
      "text/plain": [
       "6-element Array{Float64,1}:\n",
       "  0.0       \n",
       "  0.0       \n",
       "  0.0       \n",
       "  2.70218   \n",
       "  2.82409e-5\n",
       " -2.97126   "
      ]
     },
     "metadata": {},
     "output_type": "display_data"
    },
    {
     "data": {
      "text/plain": [
       "6-element Array{Float64,1}:\n",
       "  0.0       \n",
       "  0.0       \n",
       "  0.0       \n",
       "  2.70218   \n",
       "  2.82409e-5\n",
       " -2.97126   "
      ]
     },
     "metadata": {},
     "output_type": "display_data"
    },
    {
     "name": "stdout",
     "output_type": "stream",
     "text": [
      "elapsed time: 1.607395891 seconds\n"
     ]
    },
    {
     "data": {
      "text/plain": [
       "6-element Array{Float64,1}:\n",
       "   0.0       \n",
       "   0.0       \n",
       "   0.0       \n",
       "  -2.16859   \n",
       "   5.41121e-7\n",
       " -11.3441    "
      ]
     },
     "metadata": {},
     "output_type": "display_data"
    },
    {
     "data": {
      "text/plain": [
       "6-element Array{Float64,1}:\n",
       "   0.0       \n",
       "   0.0       \n",
       "   0.0       \n",
       "  -2.16859   \n",
       "   5.41121e-7\n",
       " -11.3441    "
      ]
     },
     "metadata": {},
     "output_type": "display_data"
    },
    {
     "name": "stdout",
     "output_type": "stream",
     "text": [
      "elapsed time: 1.590107884 seconds\n"
     ]
    },
    {
     "data": {
      "text/plain": [
       "6-element Array{Float64,1}:\n",
       "  0.0       \n",
       "  0.0       \n",
       "  0.0       \n",
       "  2.67628   \n",
       "  2.39927e-5\n",
       " -2.96931   "
      ]
     },
     "metadata": {},
     "output_type": "display_data"
    },
    {
     "data": {
      "text/plain": [
       "6-element Array{Float64,1}:\n",
       "  0.0       \n",
       "  0.0       \n",
       "  0.0       \n",
       "  2.67628   \n",
       "  2.39927e-5\n",
       " -2.96931   "
      ]
     },
     "metadata": {},
     "output_type": "display_data"
    },
    {
     "name": "stdout",
     "output_type": "stream",
     "text": [
      "elapsed time: 1.71508351 seconds\n"
     ]
    },
    {
     "data": {
      "text/plain": [
       "6-element Array{Float64,1}:\n",
       "   0.0       \n",
       "   0.0       \n",
       "   0.0       \n",
       "  -2.15079   \n",
       "   5.85597e-7\n",
       " -11.3329    "
      ]
     },
     "metadata": {},
     "output_type": "display_data"
    },
    {
     "data": {
      "text/plain": [
       "6-element Array{Float64,1}:\n",
       "   0.0       \n",
       "   0.0       \n",
       "   0.0       \n",
       "  -2.15079   \n",
       "   5.85597e-7\n",
       " -11.3329    "
      ]
     },
     "metadata": {},
     "output_type": "display_data"
    },
    {
     "name": "stdout",
     "output_type": "stream",
     "text": [
      "elapsed time: 1.604366715 seconds\n"
     ]
    },
    {
     "data": {
      "text/plain": [
       "6-element Array{Float64,1}:\n",
       "  0.0       \n",
       "  0.0       \n",
       "  0.0       \n",
       "  2.65068   \n",
       "  5.76824e-5\n",
       " -2.96826   "
      ]
     },
     "metadata": {},
     "output_type": "display_data"
    },
    {
     "data": {
      "text/plain": [
       "6-element Array{Float64,1}:\n",
       "  0.0       \n",
       "  0.0       \n",
       "  0.0       \n",
       "  2.65068   \n",
       "  5.76824e-5\n",
       " -2.96826   "
      ]
     },
     "metadata": {},
     "output_type": "display_data"
    },
    {
     "name": "stdout",
     "output_type": "stream",
     "text": [
      "elapsed time: 1.631877534 seconds\n"
     ]
    },
    {
     "data": {
      "text/plain": [
       "6-element Array{Float64,1}:\n",
       "   0.0       \n",
       "   0.0       \n",
       "   0.0       \n",
       "  -2.13298   \n",
       "   6.92123e-7\n",
       " -11.3219    "
      ]
     },
     "metadata": {},
     "output_type": "display_data"
    },
    {
     "data": {
      "text/plain": [
       "6-element Array{Float64,1}:\n",
       "   0.0       \n",
       "   0.0       \n",
       "   0.0       \n",
       "  -2.13298   \n",
       "   6.92123e-7\n",
       " -11.3219    "
      ]
     },
     "metadata": {},
     "output_type": "display_data"
    },
    {
     "name": "stdout",
     "output_type": "stream",
     "text": [
      "elapsed time: 1.636416146 seconds\n"
     ]
    },
    {
     "data": {
      "text/plain": [
       "6-element Array{Float64,1}:\n",
       "  0.0      \n",
       "  0.0      \n",
       "  0.0      \n",
       "  2.62528  \n",
       "  7.3475e-5\n",
       " -2.96825  "
      ]
     },
     "metadata": {},
     "output_type": "display_data"
    },
    {
     "data": {
      "text/plain": [
       "6-element Array{Float64,1}:\n",
       "  0.0      \n",
       "  0.0      \n",
       "  0.0      \n",
       "  2.62528  \n",
       "  7.3475e-5\n",
       " -2.96825  "
      ]
     },
     "metadata": {},
     "output_type": "display_data"
    },
    {
     "name": "stdout",
     "output_type": "stream",
     "text": [
      "elapsed time: 1.685051238 seconds\n"
     ]
    },
    {
     "data": {
      "text/plain": [
       "6-element Array{Float64,1}:\n",
       "   0.0       \n",
       "   0.0       \n",
       "   0.0       \n",
       "  -2.11513   \n",
       "   8.25942e-7\n",
       " -11.3108    "
      ]
     },
     "metadata": {},
     "output_type": "display_data"
    },
    {
     "data": {
      "text/plain": [
       "6-element Array{Float64,1}:\n",
       "   0.0       \n",
       "   0.0       \n",
       "   0.0       \n",
       "  -2.11513   \n",
       "   8.25942e-7\n",
       " -11.3108    "
      ]
     },
     "metadata": {},
     "output_type": "display_data"
    },
    {
     "name": "stdout",
     "output_type": "stream",
     "text": [
      "elapsed time: 1.641118525 seconds\n"
     ]
    },
    {
     "data": {
      "text/plain": [
       "6-element Array{Float64,1}:\n",
       "  0.0        \n",
       "  0.0        \n",
       "  0.0        \n",
       "  2.60018    \n",
       "  0.000136614\n",
       " -2.96921    "
      ]
     },
     "metadata": {},
     "output_type": "display_data"
    },
    {
     "data": {
      "text/plain": [
       "6-element Array{Float64,1}:\n",
       "  0.0        \n",
       "  0.0        \n",
       "  0.0        \n",
       "  2.60018    \n",
       "  0.000136614\n",
       " -2.96921    "
      ]
     },
     "metadata": {},
     "output_type": "display_data"
    },
    {
     "name": "stdout",
     "output_type": "stream",
     "text": [
      "elapsed time: 1.559297407 seconds\n"
     ]
    },
    {
     "data": {
      "text/plain": [
       "6-element Array{Float64,1}:\n",
       "   0.0      \n",
       "   0.0      \n",
       "   0.0      \n",
       "  -2.09719  \n",
       "   1.0723e-6\n",
       " -11.2997   "
      ]
     },
     "metadata": {},
     "output_type": "display_data"
    },
    {
     "data": {
      "text/plain": [
       "6-element Array{Float64,1}:\n",
       "   0.0      \n",
       "   0.0      \n",
       "   0.0      \n",
       "  -2.09719  \n",
       "   1.0723e-6\n",
       " -11.2997   "
      ]
     },
     "metadata": {},
     "output_type": "display_data"
    },
    {
     "name": "stdout",
     "output_type": "stream",
     "text": [
      "elapsed time: 1.506030043 seconds\n"
     ]
    },
    {
     "data": {
      "text/plain": [
       "6-element Array{Float64,1}:\n",
       "  0.0        \n",
       "  0.0        \n",
       "  0.0        \n",
       "  2.57501    \n",
       "  0.000280593\n",
       " -2.97157    "
      ]
     },
     "metadata": {},
     "output_type": "display_data"
    },
    {
     "data": {
      "text/plain": [
       "6-element Array{Float64,1}:\n",
       "  0.0        \n",
       "  0.0        \n",
       "  0.0        \n",
       "  2.57501    \n",
       "  0.000280593\n",
       " -2.97157    "
      ]
     },
     "metadata": {},
     "output_type": "display_data"
    },
    {
     "name": "stdout",
     "output_type": "stream",
     "text": [
      "elapsed time: 1.479099797 seconds\n"
     ]
    },
    {
     "data": {
      "text/plain": [
       "6-element Array{Float64,1}:\n",
       "   0.0       \n",
       "   0.0       \n",
       "   0.0       \n",
       "  -2.07912   \n",
       "   1.57504e-6\n",
       " -11.2885    "
      ]
     },
     "metadata": {},
     "output_type": "display_data"
    },
    {
     "data": {
      "text/plain": [
       "6-element Array{Float64,1}:\n",
       "   0.0       \n",
       "   0.0       \n",
       "   0.0       \n",
       "  -2.07912   \n",
       "   1.57504e-6\n",
       " -11.2885    "
      ]
     },
     "metadata": {},
     "output_type": "display_data"
    },
    {
     "name": "stdout",
     "output_type": "stream",
     "text": [
      "elapsed time: 1.486042994 seconds\n"
     ]
    },
    {
     "data": {
      "text/plain": [
       "6-element Array{Float64,1}:\n",
       "  0.0        \n",
       "  0.0        \n",
       "  0.0        \n",
       "  2.55042    \n",
       "  0.000737774\n",
       " -2.97477    "
      ]
     },
     "metadata": {},
     "output_type": "display_data"
    },
    {
     "data": {
      "text/plain": [
       "6-element Array{Float64,1}:\n",
       "  0.0        \n",
       "  0.0        \n",
       "  0.0        \n",
       "  2.55042    \n",
       "  0.000737774\n",
       " -2.97477    "
      ]
     },
     "metadata": {},
     "output_type": "display_data"
    },
    {
     "name": "stdout",
     "output_type": "stream",
     "text": [
      "elapsed time: 1.404991871 seconds\n"
     ]
    },
    {
     "data": {
      "text/plain": [
       "6-element Array{Float64,1}:\n",
       "   0.0       \n",
       "   0.0       \n",
       "   0.0       \n",
       "  -2.06089   \n",
       "   2.88748e-6\n",
       " -11.2773    "
      ]
     },
     "metadata": {},
     "output_type": "display_data"
    },
    {
     "data": {
      "text/plain": [
       "6-element Array{Float64,1}:\n",
       "   0.0       \n",
       "   0.0       \n",
       "   0.0       \n",
       "  -2.06089   \n",
       "   2.88748e-6\n",
       " -11.2773    "
      ]
     },
     "metadata": {},
     "output_type": "display_data"
    },
    {
     "name": "stdout",
     "output_type": "stream",
     "text": [
      "elapsed time: 1.411574499 seconds\n"
     ]
    },
    {
     "data": {
      "text/plain": [
       "6-element Array{Float64,1}:\n",
       "  0.0      \n",
       "  0.0      \n",
       "  0.0      \n",
       "  2.52591  \n",
       "  0.0143523\n",
       " -2.97935  "
      ]
     },
     "metadata": {},
     "output_type": "display_data"
    },
    {
     "data": {
      "text/plain": [
       "6-element Array{Float64,1}:\n",
       "  0.0      \n",
       "  0.0      \n",
       "  0.0      \n",
       "  2.52591  \n",
       "  0.0143523\n",
       " -2.97935  "
      ]
     },
     "metadata": {},
     "output_type": "display_data"
    },
    {
     "name": "stdout",
     "output_type": "stream",
     "text": [
      "elapsed time: 1.617318593 seconds\n"
     ]
    },
    {
     "data": {
      "text/plain": [
       "6-element Array{Float64,1}:\n",
       "   0.0       \n",
       "   0.0       \n",
       "   0.0       \n",
       "  -2.04246   \n",
       "   2.82897e-5\n",
       " -11.266     "
      ]
     },
     "metadata": {},
     "output_type": "display_data"
    },
    {
     "data": {
      "text/plain": [
       "6-element Array{Float64,1}:\n",
       "   0.0       \n",
       "   0.0       \n",
       "   0.0       \n",
       "  -2.04246   \n",
       "   2.82897e-5\n",
       " -11.266     "
      ]
     },
     "metadata": {},
     "output_type": "display_data"
    },
    {
     "name": "stdout",
     "output_type": "stream",
     "text": [
      "elapsed time: 1.403004032 seconds\n"
     ]
    },
    {
     "data": {
      "text/plain": [
       "6-element Array{Float64,1}:\n",
       "  0.0      \n",
       "  0.0      \n",
       "  0.0      \n",
       "  2.50194  \n",
       " -0.0184172\n",
       " -2.98516  "
      ]
     },
     "metadata": {},
     "output_type": "display_data"
    },
    {
     "data": {
      "text/plain": [
       "6-element Array{Float64,1}:\n",
       "  0.0      \n",
       "  0.0      \n",
       "  0.0      \n",
       "  2.50194  \n",
       " -0.0184172\n",
       " -2.98516  "
      ]
     },
     "metadata": {},
     "output_type": "display_data"
    },
    {
     "name": "stdout",
     "output_type": "stream",
     "text": [
      "elapsed time: 1.58343933 seconds\n"
     ]
    },
    {
     "data": {
      "text/plain": [
       "6-element Array{Float64,1}:\n",
       "   0.0     \n",
       "   0.0     \n",
       "   0.0     \n",
       "  -2.0238  \n",
       "  -4.171e-6\n",
       " -11.2546  "
      ]
     },
     "metadata": {},
     "output_type": "display_data"
    },
    {
     "data": {
      "text/plain": [
       "6-element Array{Float64,1}:\n",
       "   0.0     \n",
       "   0.0     \n",
       "   0.0     \n",
       "  -2.0238  \n",
       "  -4.171e-6\n",
       " -11.2546  "
      ]
     },
     "metadata": {},
     "output_type": "display_data"
    },
    {
     "name": "stdout",
     "output_type": "stream",
     "text": [
      "elapsed time: 1.429670622 seconds\n"
     ]
    },
    {
     "data": {
      "text/plain": [
       "6-element Array{Float64,1}:\n",
       "  0.0       \n",
       "  0.0       \n",
       "  0.0       \n",
       "  2.47854   \n",
       "  0.00123456\n",
       " -2.99238   "
      ]
     },
     "metadata": {},
     "output_type": "display_data"
    },
    {
     "data": {
      "text/plain": [
       "6-element Array{Float64,1}:\n",
       "  0.0       \n",
       "  0.0       \n",
       "  0.0       \n",
       "  2.47854   \n",
       "  0.00123456\n",
       " -2.99238   "
      ]
     },
     "metadata": {},
     "output_type": "display_data"
    },
    {
     "name": "stdout",
     "output_type": "stream",
     "text": [
      "elapsed time: 1.606140825 seconds\n"
     ]
    },
    {
     "data": {
      "text/plain": [
       "6-element Array{Float64,1}:\n",
       "   0.0       \n",
       "   0.0       \n",
       "   0.0       \n",
       "  -2.00489   \n",
       "  -2.00265e-6\n",
       " -11.243     "
      ]
     },
     "metadata": {},
     "output_type": "display_data"
    },
    {
     "data": {
      "text/plain": [
       "6-element Array{Float64,1}:\n",
       "   0.0       \n",
       "   0.0       \n",
       "   0.0       \n",
       "  -2.00489   \n",
       "  -2.00265e-6\n",
       " -11.243     "
      ]
     },
     "metadata": {},
     "output_type": "display_data"
    },
    {
     "name": "stdout",
     "output_type": "stream",
     "text": [
      "elapsed time: 1.419041198 seconds\n"
     ]
    },
    {
     "data": {
      "text/plain": [
       "6-element Array{Float64,1}:\n",
       "  0.0        \n",
       "  0.0        \n",
       "  0.0        \n",
       "  2.45568    \n",
       "  0.000419564\n",
       " -3.00101    "
      ]
     },
     "metadata": {},
     "output_type": "display_data"
    },
    {
     "data": {
      "text/plain": [
       "6-element Array{Float64,1}:\n",
       "  0.0        \n",
       "  0.0        \n",
       "  0.0        \n",
       "  2.45568    \n",
       "  0.000419564\n",
       " -3.00101    "
      ]
     },
     "metadata": {},
     "output_type": "display_data"
    },
    {
     "name": "stdout",
     "output_type": "stream",
     "text": [
      "elapsed time: 1.39969204 seconds\n"
     ]
    },
    {
     "data": {
      "text/plain": [
       "6-element Array{Float64,1}:\n",
       "   0.0       \n",
       "   0.0       \n",
       "   0.0       \n",
       "  -1.98571   \n",
       "  -1.26739e-6\n",
       " -11.2314    "
      ]
     },
     "metadata": {},
     "output_type": "display_data"
    },
    {
     "data": {
      "text/plain": [
       "6-element Array{Float64,1}:\n",
       "   0.0       \n",
       "   0.0       \n",
       "   0.0       \n",
       "  -1.98571   \n",
       "  -1.26739e-6\n",
       " -11.2314    "
      ]
     },
     "metadata": {},
     "output_type": "display_data"
    },
    {
     "name": "stdout",
     "output_type": "stream",
     "text": [
      "elapsed time: 1.406371937 seconds\n"
     ]
    },
    {
     "data": {
      "text/plain": [
       "6-element Array{Float64,1}:\n",
       "  0.0        \n",
       "  0.0        \n",
       "  0.0        \n",
       "  2.43388    \n",
       "  0.000213317\n",
       " -3.01081    "
      ]
     },
     "metadata": {},
     "output_type": "display_data"
    },
    {
     "data": {
      "text/plain": [
       "6-element Array{Float64,1}:\n",
       "  0.0        \n",
       "  0.0        \n",
       "  0.0        \n",
       "  2.43388    \n",
       "  0.000213317\n",
       " -3.01081    "
      ]
     },
     "metadata": {},
     "output_type": "display_data"
    },
    {
     "name": "stdout",
     "output_type": "stream",
     "text": [
      "elapsed time: 1.377353349 seconds\n"
     ]
    },
    {
     "data": {
      "text/plain": [
       "6-element Array{Float64,1}:\n",
       "   0.0       \n",
       "   0.0       \n",
       "   0.0       \n",
       "  -1.96622   \n",
       "  -8.94968e-7\n",
       " -11.2195    "
      ]
     },
     "metadata": {},
     "output_type": "display_data"
    },
    {
     "data": {
      "text/plain": [
       "6-element Array{Float64,1}:\n",
       "   0.0       \n",
       "   0.0       \n",
       "   0.0       \n",
       "  -1.96622   \n",
       "  -8.94968e-7\n",
       " -11.2195    "
      ]
     },
     "metadata": {},
     "output_type": "display_data"
    },
    {
     "name": "stdout",
     "output_type": "stream",
     "text": [
      "elapsed time: 1.387796395 seconds\n"
     ]
    },
    {
     "data": {
      "text/plain": [
       "6-element Array{Float64,1}:\n",
       "  0.0        \n",
       "  0.0        \n",
       "  0.0        \n",
       "  2.41259    \n",
       "  0.000122304\n",
       " -3.02274    "
      ]
     },
     "metadata": {},
     "output_type": "display_data"
    },
    {
     "data": {
      "text/plain": [
       "6-element Array{Float64,1}:\n",
       "  0.0        \n",
       "  0.0        \n",
       "  0.0        \n",
       "  2.41259    \n",
       "  0.000122304\n",
       " -3.02274    "
      ]
     },
     "metadata": {},
     "output_type": "display_data"
    },
    {
     "name": "stdout",
     "output_type": "stream",
     "text": [
      "elapsed time: 1.37781346 seconds\n"
     ]
    },
    {
     "data": {
      "text/plain": [
       "6-element Array{Float64,1}:\n",
       "   0.0       \n",
       "   0.0       \n",
       "   0.0       \n",
       "  -1.94642   \n",
       "  -6.81719e-7\n",
       " -11.2076    "
      ]
     },
     "metadata": {},
     "output_type": "display_data"
    },
    {
     "data": {
      "text/plain": [
       "6-element Array{Float64,1}:\n",
       "   0.0       \n",
       "   0.0       \n",
       "   0.0       \n",
       "  -1.94642   \n",
       "  -6.81719e-7\n",
       " -11.2076    "
      ]
     },
     "metadata": {},
     "output_type": "display_data"
    },
    {
     "name": "stdout",
     "output_type": "stream",
     "text": [
      "elapsed time: 1.387045168 seconds\n"
     ]
    },
    {
     "data": {
      "text/plain": [
       "6-element Array{Float64,1}:\n",
       "  0.0       \n",
       "  0.0       \n",
       "  0.0       \n",
       "  2.39311   \n",
       "  9.09163e-5\n",
       " -3.03554   "
      ]
     },
     "metadata": {},
     "output_type": "display_data"
    },
    {
     "data": {
      "text/plain": [
       "6-element Array{Float64,1}:\n",
       "  0.0       \n",
       "  0.0       \n",
       "  0.0       \n",
       "  2.39311   \n",
       "  9.09163e-5\n",
       " -3.03554   "
      ]
     },
     "metadata": {},
     "output_type": "display_data"
    },
    {
     "name": "stdout",
     "output_type": "stream",
     "text": [
      "elapsed time: 1.368929418 seconds\n"
     ]
    },
    {
     "data": {
      "text/plain": [
       "6-element Array{Float64,1}:\n",
       "   0.0       \n",
       "   0.0       \n",
       "   0.0       \n",
       "  -1.9263    \n",
       "  -5.23736e-7\n",
       " -11.1955    "
      ]
     },
     "metadata": {},
     "output_type": "display_data"
    },
    {
     "data": {
      "text/plain": [
       "6-element Array{Float64,1}:\n",
       "   0.0       \n",
       "   0.0       \n",
       "   0.0       \n",
       "  -1.9263    \n",
       "  -5.23736e-7\n",
       " -11.1955    "
      ]
     },
     "metadata": {},
     "output_type": "display_data"
    },
    {
     "name": "stdout",
     "output_type": "stream",
     "text": [
      "elapsed time: 1.369556974 seconds\n"
     ]
    },
    {
     "data": {
      "text/plain": [
       "6-element Array{Float64,1}:\n",
       "  0.0       \n",
       "  0.0       \n",
       "  0.0       \n",
       "  2.37509   \n",
       "  2.44712e-5\n",
       " -3.05001   "
      ]
     },
     "metadata": {},
     "output_type": "display_data"
    },
    {
     "data": {
      "text/plain": [
       "6-element Array{Float64,1}:\n",
       "  0.0       \n",
       "  0.0       \n",
       "  0.0       \n",
       "  2.37509   \n",
       "  2.44712e-5\n",
       " -3.05001   "
      ]
     },
     "metadata": {},
     "output_type": "display_data"
    },
    {
     "name": "stdout",
     "output_type": "stream",
     "text": [
      "elapsed time: 1.432671216 seconds\n"
     ]
    },
    {
     "data": {
      "text/plain": [
       "6-element Array{Float64,1}:\n",
       "   0.0       \n",
       "   0.0       \n",
       "   0.0       \n",
       "  -1.90584   \n",
       "  -4.81359e-7\n",
       " -11.1832    "
      ]
     },
     "metadata": {},
     "output_type": "display_data"
    },
    {
     "data": {
      "text/plain": [
       "6-element Array{Float64,1}:\n",
       "   0.0       \n",
       "   0.0       \n",
       "   0.0       \n",
       "  -1.90584   \n",
       "  -4.81359e-7\n",
       " -11.1832    "
      ]
     },
     "metadata": {},
     "output_type": "display_data"
    },
    {
     "name": "stdout",
     "output_type": "stream",
     "text": [
      "elapsed time: 1.409725546 seconds\n"
     ]
    },
    {
     "data": {
      "text/plain": [
       "6-element Array{Float64,1}:\n",
       "  0.0       \n",
       "  0.0       \n",
       "  0.0       \n",
       "  2.35921   \n",
       "  2.29739e-5\n",
       " -3.06565   "
      ]
     },
     "metadata": {},
     "output_type": "display_data"
    },
    {
     "data": {
      "text/plain": [
       "6-element Array{Float64,1}:\n",
       "  0.0       \n",
       "  0.0       \n",
       "  0.0       \n",
       "  2.35921   \n",
       "  2.29739e-5\n",
       " -3.06565   "
      ]
     },
     "metadata": {},
     "output_type": "display_data"
    },
    {
     "name": "stdout",
     "output_type": "stream",
     "text": [
      "elapsed time: 1.598352373 seconds\n"
     ]
    },
    {
     "data": {
      "text/plain": [
       "6-element Array{Float64,1}:\n",
       "   0.0       \n",
       "   0.0       \n",
       "   0.0       \n",
       "  -1.88507   \n",
       "  -4.41497e-7\n",
       " -11.1708    "
      ]
     },
     "metadata": {},
     "output_type": "display_data"
    },
    {
     "data": {
      "text/plain": [
       "6-element Array{Float64,1}:\n",
       "   0.0       \n",
       "   0.0       \n",
       "   0.0       \n",
       "  -1.88507   \n",
       "  -4.41497e-7\n",
       " -11.1708    "
      ]
     },
     "metadata": {},
     "output_type": "display_data"
    },
    {
     "name": "stdout",
     "output_type": "stream",
     "text": [
      "elapsed time: 1.569677471 seconds\n"
     ]
    },
    {
     "data": {
      "text/plain": [
       "6-element Array{Float64,1}:\n",
       "  0.0       \n",
       "  0.0       \n",
       "  0.0       \n",
       "  2.34574   \n",
       "  2.88833e-5\n",
       " -3.08256   "
      ]
     },
     "metadata": {},
     "output_type": "display_data"
    },
    {
     "data": {
      "text/plain": [
       "6-element Array{Float64,1}:\n",
       "  0.0       \n",
       "  0.0       \n",
       "  0.0       \n",
       "  2.34574   \n",
       "  2.88833e-5\n",
       " -3.08256   "
      ]
     },
     "metadata": {},
     "output_type": "display_data"
    },
    {
     "name": "stdout",
     "output_type": "stream",
     "text": [
      "elapsed time: 1.505427742 seconds\n"
     ]
    },
    {
     "data": {
      "text/plain": [
       "6-element Array{Float64,1}:\n",
       "   0.0       \n",
       "   0.0       \n",
       "   0.0       \n",
       "  -1.86398   \n",
       "  -3.91736e-7\n",
       " -11.1583    "
      ]
     },
     "metadata": {},
     "output_type": "display_data"
    },
    {
     "data": {
      "text/plain": [
       "6-element Array{Float64,1}:\n",
       "   0.0       \n",
       "   0.0       \n",
       "   0.0       \n",
       "  -1.86398   \n",
       "  -3.91736e-7\n",
       " -11.1583    "
      ]
     },
     "metadata": {},
     "output_type": "display_data"
    },
    {
     "name": "stdout",
     "output_type": "stream",
     "text": [
      "elapsed time: 1.376289369 seconds\n"
     ]
    },
    {
     "data": {
      "text/plain": [
       "6-element Array{Float64,1}:\n",
       "  0.0       \n",
       "  0.0       \n",
       "  0.0       \n",
       "  2.33534   \n",
       "  1.87897e-5\n",
       " -3.10027   "
      ]
     },
     "metadata": {},
     "output_type": "display_data"
    },
    {
     "data": {
      "text/plain": [
       "6-element Array{Float64,1}:\n",
       "  0.0       \n",
       "  0.0       \n",
       "  0.0       \n",
       "  2.33534   \n",
       "  1.87897e-5\n",
       " -3.10027   "
      ]
     },
     "metadata": {},
     "output_type": "display_data"
    },
    {
     "name": "stdout",
     "output_type": "stream",
     "text": [
      "elapsed time: 1.494427234 seconds\n"
     ]
    },
    {
     "data": {
      "text/plain": [
       "6-element Array{Float64,1}:\n",
       "   0.0       \n",
       "   0.0       \n",
       "   0.0       \n",
       "  -1.8426    \n",
       "  -3.59476e-7\n",
       " -11.1456    "
      ]
     },
     "metadata": {},
     "output_type": "display_data"
    },
    {
     "data": {
      "text/plain": [
       "6-element Array{Float64,1}:\n",
       "   0.0       \n",
       "   0.0       \n",
       "   0.0       \n",
       "  -1.8426    \n",
       "  -3.59476e-7\n",
       " -11.1456    "
      ]
     },
     "metadata": {},
     "output_type": "display_data"
    },
    {
     "name": "stdout",
     "output_type": "stream",
     "text": [
      "elapsed time: 1.474418051 seconds\n"
     ]
    },
    {
     "data": {
      "text/plain": [
       "6-element Array{Float64,1}:\n",
       "  0.0       \n",
       "  0.0       \n",
       "  0.0       \n",
       "  2.32852   \n",
       "  2.03808e-5\n",
       " -3.11849   "
      ]
     },
     "metadata": {},
     "output_type": "display_data"
    },
    {
     "data": {
      "text/plain": [
       "6-element Array{Float64,1}:\n",
       "  0.0       \n",
       "  0.0       \n",
       "  0.0       \n",
       "  2.32852   \n",
       "  2.03808e-5\n",
       " -3.11849   "
      ]
     },
     "metadata": {},
     "output_type": "display_data"
    },
    {
     "name": "stdout",
     "output_type": "stream",
     "text": [
      "elapsed time: 1.515929678 seconds\n"
     ]
    },
    {
     "data": {
      "text/plain": [
       "6-element Array{Float64,1}:\n",
       "   0.0       \n",
       "   0.0       \n",
       "   0.0       \n",
       "  -1.82096   \n",
       "  -3.24633e-7\n",
       " -11.1329    "
      ]
     },
     "metadata": {},
     "output_type": "display_data"
    },
    {
     "data": {
      "text/plain": [
       "6-element Array{Float64,1}:\n",
       "   0.0       \n",
       "   0.0       \n",
       "   0.0       \n",
       "  -1.82096   \n",
       "  -3.24633e-7\n",
       " -11.1329    "
      ]
     },
     "metadata": {},
     "output_type": "display_data"
    },
    {
     "name": "stdout",
     "output_type": "stream",
     "text": [
      "elapsed time: 1.410743213 seconds\n"
     ]
    },
    {
     "data": {
      "text/plain": [
       "6-element Array{Float64,1}:\n",
       "  0.0       \n",
       "  0.0       \n",
       "  0.0       \n",
       "  2.32588   \n",
       "  2.07624e-5\n",
       " -3.13682   "
      ]
     },
     "metadata": {},
     "output_type": "display_data"
    },
    {
     "data": {
      "text/plain": [
       "6-element Array{Float64,1}:\n",
       "  0.0       \n",
       "  0.0       \n",
       "  0.0       \n",
       "  2.32588   \n",
       "  2.07624e-5\n",
       " -3.13682   "
      ]
     },
     "metadata": {},
     "output_type": "display_data"
    },
    {
     "name": "stdout",
     "output_type": "stream",
     "text": [
      "elapsed time: 1.428778613 seconds\n"
     ]
    },
    {
     "data": {
      "text/plain": [
       "6-element Array{Float64,1}:\n",
       "   0.0       \n",
       "   0.0       \n",
       "   0.0       \n",
       "  -1.79909   \n",
       "  -2.89461e-7\n",
       " -11.12      "
      ]
     },
     "metadata": {},
     "output_type": "display_data"
    },
    {
     "data": {
      "text/plain": [
       "6-element Array{Float64,1}:\n",
       "   0.0       \n",
       "   0.0       \n",
       "   0.0       \n",
       "  -1.79909   \n",
       "  -2.89461e-7\n",
       " -11.12      "
      ]
     },
     "metadata": {},
     "output_type": "display_data"
    },
    {
     "name": "stdout",
     "output_type": "stream",
     "text": [
      "elapsed time: 1.408144635 seconds\n"
     ]
    },
    {
     "data": {
      "text/plain": [
       "6-element Array{Float64,1}:\n",
       "  0.0       \n",
       "  0.0       \n",
       "  0.0       \n",
       "  2.32819   \n",
       "  9.01395e-6\n",
       " -3.15447   "
      ]
     },
     "metadata": {},
     "output_type": "display_data"
    },
    {
     "data": {
      "text/plain": [
       "6-element Array{Float64,1}:\n",
       "  0.0       \n",
       "  0.0       \n",
       "  0.0       \n",
       "  2.32819   \n",
       "  9.01395e-6\n",
       " -3.15447   "
      ]
     },
     "metadata": {},
     "output_type": "display_data"
    },
    {
     "name": "stdout",
     "output_type": "stream",
     "text": [
      "elapsed time: 1.417055797 seconds\n"
     ]
    },
    {
     "data": {
      "text/plain": [
       "6-element Array{Float64,1}:\n",
       "   0.0       \n",
       "   0.0       \n",
       "   0.0       \n",
       "  -1.77704   \n",
       "  -2.74538e-7\n",
       " -11.1071    "
      ]
     },
     "metadata": {},
     "output_type": "display_data"
    },
    {
     "data": {
      "text/plain": [
       "6-element Array{Float64,1}:\n",
       "   0.0       \n",
       "   0.0       \n",
       "   0.0       \n",
       "  -1.77704   \n",
       "  -2.74538e-7\n",
       " -11.1071    "
      ]
     },
     "metadata": {},
     "output_type": "display_data"
    },
    {
     "name": "stdout",
     "output_type": "stream",
     "text": [
      "elapsed time: 1.44436354 seconds\n"
     ]
    },
    {
     "data": {
      "text/plain": [
       "6-element Array{Float64,1}:\n",
       "  0.0       \n",
       "  0.0       \n",
       "  0.0       \n",
       "  2.3362    \n",
       "  1.90243e-5\n",
       " -3.1706    "
      ]
     },
     "metadata": {},
     "output_type": "display_data"
    },
    {
     "data": {
      "text/plain": [
       "6-element Array{Float64,1}:\n",
       "  0.0       \n",
       "  0.0       \n",
       "  0.0       \n",
       "  2.3362    \n",
       "  1.90243e-5\n",
       " -3.1706    "
      ]
     },
     "metadata": {},
     "output_type": "display_data"
    },
    {
     "name": "stdout",
     "output_type": "stream",
     "text": [
      "elapsed time: 1.585269064 seconds\n"
     ]
    },
    {
     "data": {
      "text/plain": [
       "6-element Array{Float64,1}:\n",
       "   0.0       \n",
       "   0.0       \n",
       "   0.0       \n",
       "  -1.7549    \n",
       "  -2.42907e-7\n",
       " -11.0943    "
      ]
     },
     "metadata": {},
     "output_type": "display_data"
    },
    {
     "data": {
      "text/plain": [
       "6-element Array{Float64,1}:\n",
       "   0.0       \n",
       "   0.0       \n",
       "   0.0       \n",
       "  -1.7549    \n",
       "  -2.42907e-7\n",
       " -11.0943    "
      ]
     },
     "metadata": {},
     "output_type": "display_data"
    },
    {
     "name": "stdout",
     "output_type": "stream",
     "text": [
      "elapsed time: 1.471500024 seconds\n"
     ]
    },
    {
     "data": {
      "text/plain": [
       "6-element Array{Float64,1}:\n",
       "  0.0       \n",
       "  0.0       \n",
       "  0.0       \n",
       "  2.35088   \n",
       "  1.07576e-5\n",
       " -3.18379   "
      ]
     },
     "metadata": {},
     "output_type": "display_data"
    },
    {
     "data": {
      "text/plain": [
       "6-element Array{Float64,1}:\n",
       "  0.0       \n",
       "  0.0       \n",
       "  0.0       \n",
       "  2.35088   \n",
       "  1.07576e-5\n",
       " -3.18379   "
      ]
     },
     "metadata": {},
     "output_type": "display_data"
    },
    {
     "name": "stdout",
     "output_type": "stream",
     "text": [
      "elapsed time: 1.412414498 seconds\n"
     ]
    },
    {
     "data": {
      "text/plain": [
       "6-element Array{Float64,1}:\n",
       "   0.0       \n",
       "   0.0       \n",
       "   0.0       \n",
       "  -1.73275   \n",
       "  -2.24959e-7\n",
       " -11.0815    "
      ]
     },
     "metadata": {},
     "output_type": "display_data"
    },
    {
     "data": {
      "text/plain": [
       "6-element Array{Float64,1}:\n",
       "   0.0       \n",
       "   0.0       \n",
       "   0.0       \n",
       "  -1.73275   \n",
       "  -2.24959e-7\n",
       " -11.0815    "
      ]
     },
     "metadata": {},
     "output_type": "display_data"
    },
    {
     "name": "stdout",
     "output_type": "stream",
     "text": [
      "elapsed time: 1.369051136 seconds\n"
     ]
    },
    {
     "data": {
      "text/plain": [
       "6-element Array{Float64,1}:\n",
       "  0.0       \n",
       "  0.0       \n",
       "  0.0       \n",
       "  2.37272   \n",
       "  3.50859e-6\n",
       " -3.19319   "
      ]
     },
     "metadata": {},
     "output_type": "display_data"
    },
    {
     "data": {
      "text/plain": [
       "6-element Array{Float64,1}:\n",
       "  0.0       \n",
       "  0.0       \n",
       "  0.0       \n",
       "  2.37272   \n",
       "  3.50859e-6\n",
       " -3.19319   "
      ]
     },
     "metadata": {},
     "output_type": "display_data"
    },
    {
     "name": "stdout",
     "output_type": "stream",
     "text": [
      "elapsed time: 1.461205165 seconds\n"
     ]
    },
    {
     "data": {
      "text/plain": [
       "6-element Array{Float64,1}:\n",
       "   0.0       \n",
       "   0.0       \n",
       "   0.0       \n",
       "  -1.71074   \n",
       "  -2.19216e-7\n",
       " -11.0688    "
      ]
     },
     "metadata": {},
     "output_type": "display_data"
    },
    {
     "data": {
      "text/plain": [
       "6-element Array{Float64,1}:\n",
       "   0.0       \n",
       "   0.0       \n",
       "   0.0       \n",
       "  -1.71074   \n",
       "  -2.19216e-7\n",
       " -11.0688    "
      ]
     },
     "metadata": {},
     "output_type": "display_data"
    },
    {
     "name": "stdout",
     "output_type": "stream",
     "text": [
      "elapsed time: 1.442630164 seconds\n"
     ]
    },
    {
     "data": {
      "text/plain": [
       "6-element Array{Float64,1}:\n",
       "  0.0       \n",
       "  0.0       \n",
       "  0.0       \n",
       "  2.40262   \n",
       "  1.14223e-5\n",
       " -3.19687   "
      ]
     },
     "metadata": {},
     "output_type": "display_data"
    },
    {
     "data": {
      "text/plain": [
       "6-element Array{Float64,1}:\n",
       "  0.0       \n",
       "  0.0       \n",
       "  0.0       \n",
       "  2.40262   \n",
       "  1.14223e-5\n",
       " -3.19687   "
      ]
     },
     "metadata": {},
     "output_type": "display_data"
    },
    {
     "name": "stdout",
     "output_type": "stream",
     "text": [
      "elapsed time: 1.563970867 seconds\n"
     ]
    },
    {
     "data": {
      "text/plain": [
       "6-element Array{Float64,1}:\n",
       "   0.0       \n",
       "   0.0       \n",
       "   0.0       \n",
       "  -1.68905   \n",
       "  -2.01197e-7\n",
       " -11.0564    "
      ]
     },
     "metadata": {},
     "output_type": "display_data"
    },
    {
     "data": {
      "text/plain": [
       "6-element Array{Float64,1}:\n",
       "   0.0       \n",
       "   0.0       \n",
       "   0.0       \n",
       "  -1.68905   \n",
       "  -2.01197e-7\n",
       " -11.0564    "
      ]
     },
     "metadata": {},
     "output_type": "display_data"
    },
    {
     "name": "stdout",
     "output_type": "stream",
     "text": [
      "elapsed time: 1.386643522 seconds\n"
     ]
    },
    {
     "data": {
      "text/plain": [
       "6-element Array{Float64,1}:\n",
       "  0.0       \n",
       "  0.0       \n",
       "  0.0       \n",
       "  2.44075   \n",
       "  1.07955e-5\n",
       " -3.19371   "
      ]
     },
     "metadata": {},
     "output_type": "display_data"
    },
    {
     "data": {
      "text/plain": [
       "6-element Array{Float64,1}:\n",
       "  0.0       \n",
       "  0.0       \n",
       "  0.0       \n",
       "  2.44075   \n",
       "  1.07955e-5\n",
       " -3.19371   "
      ]
     },
     "metadata": {},
     "output_type": "display_data"
    },
    {
     "name": "stdout",
     "output_type": "stream",
     "text": [
      "elapsed time: 1.492079082 seconds\n"
     ]
    },
    {
     "data": {
      "text/plain": [
       "6-element Array{Float64,1}:\n",
       "   0.0       \n",
       "   0.0       \n",
       "   0.0       \n",
       "  -1.66788   \n",
       "  -1.84456e-7\n",
       " -11.0443    "
      ]
     },
     "metadata": {},
     "output_type": "display_data"
    },
    {
     "data": {
      "text/plain": [
       "6-element Array{Float64,1}:\n",
       "   0.0       \n",
       "   0.0       \n",
       "   0.0       \n",
       "  -1.66788   \n",
       "  -1.84456e-7\n",
       " -11.0443    "
      ]
     },
     "metadata": {},
     "output_type": "display_data"
    },
    {
     "name": "stdout",
     "output_type": "stream",
     "text": [
      "elapsed time: 1.477679812 seconds\n"
     ]
    },
    {
     "data": {
      "text/plain": [
       "6-element Array{Float64,1}:\n",
       "  0.0       \n",
       "  0.0       \n",
       "  0.0       \n",
       "  2.48705   \n",
       "  1.64511e-5\n",
       " -3.18247   "
      ]
     },
     "metadata": {},
     "output_type": "display_data"
    },
    {
     "data": {
      "text/plain": [
       "6-element Array{Float64,1}:\n",
       "  0.0       \n",
       "  0.0       \n",
       "  0.0       \n",
       "  2.48705   \n",
       "  1.64511e-5\n",
       " -3.18247   "
      ]
     },
     "metadata": {},
     "output_type": "display_data"
    },
    {
     "name": "stdout",
     "output_type": "stream",
     "text": [
      "elapsed time: 1.429597708 seconds\n"
     ]
    },
    {
     "data": {
      "text/plain": [
       "6-element Array{Float64,1}:\n",
       "   0.0       \n",
       "   0.0       \n",
       "   0.0       \n",
       "  -1.64745   \n",
       "  -1.59776e-7\n",
       " -11.0328    "
      ]
     },
     "metadata": {},
     "output_type": "display_data"
    },
    {
     "data": {
      "text/plain": [
       "6-element Array{Float64,1}:\n",
       "   0.0       \n",
       "   0.0       \n",
       "   0.0       \n",
       "  -1.64745   \n",
       "  -1.59776e-7\n",
       " -11.0328    "
      ]
     },
     "metadata": {},
     "output_type": "display_data"
    },
    {
     "name": "stdout",
     "output_type": "stream",
     "text": [
      "elapsed time: 1.592786918 seconds\n"
     ]
    },
    {
     "data": {
      "text/plain": [
       "6-element Array{Float64,1}:\n",
       "  0.0      \n",
       "  0.0      \n",
       "  0.0      \n",
       "  2.54098  \n",
       "  6.6064e-6\n",
       " -3.16236  "
      ]
     },
     "metadata": {},
     "output_type": "display_data"
    },
    {
     "data": {
      "text/plain": [
       "6-element Array{Float64,1}:\n",
       "  0.0      \n",
       "  0.0      \n",
       "  0.0      \n",
       "  2.54098  \n",
       "  6.6064e-6\n",
       " -3.16236  "
      ]
     },
     "metadata": {},
     "output_type": "display_data"
    },
    {
     "name": "stdout",
     "output_type": "stream",
     "text": [
      "elapsed time: 1.906329099 seconds\n"
     ]
    },
    {
     "data": {
      "text/plain": [
       "6-element Array{Float64,1}:\n",
       "   0.0       \n",
       "   0.0       \n",
       "   0.0       \n",
       "  -1.62795   \n",
       "  -1.50182e-7\n",
       " -11.0218    "
      ]
     },
     "metadata": {},
     "output_type": "display_data"
    },
    {
     "data": {
      "text/plain": [
       "6-element Array{Float64,1}:\n",
       "   0.0       \n",
       "   0.0       \n",
       "   0.0       \n",
       "  -1.62795   \n",
       "  -1.50182e-7\n",
       " -11.0218    "
      ]
     },
     "metadata": {},
     "output_type": "display_data"
    },
    {
     "name": "stdout",
     "output_type": "stream",
     "text": [
      "elapsed time: 1.627695869 seconds\n"
     ]
    },
    {
     "data": {
      "text/plain": [
       "6-element Array{Float64,1}:\n",
       "  0.0       \n",
       "  0.0       \n",
       "  0.0       \n",
       "  2.60233   \n",
       "  4.91252e-6\n",
       " -3.13177   "
      ]
     },
     "metadata": {},
     "output_type": "display_data"
    },
    {
     "data": {
      "text/plain": [
       "6-element Array{Float64,1}:\n",
       "  0.0       \n",
       "  0.0       \n",
       "  0.0       \n",
       "  2.60233   \n",
       "  4.91252e-6\n",
       " -3.13177   "
      ]
     },
     "metadata": {},
     "output_type": "display_data"
    },
    {
     "name": "stdout",
     "output_type": "stream",
     "text": [
      "elapsed time: 1.623071279 seconds\n"
     ]
    },
    {
     "data": {
      "text/plain": [
       "6-element Array{Float64,1}:\n",
       "   0.0       \n",
       "   0.0       \n",
       "   0.0       \n",
       "  -1.60952   \n",
       "  -1.43511e-7\n",
       " -11.0115    "
      ]
     },
     "metadata": {},
     "output_type": "display_data"
    },
    {
     "data": {
      "text/plain": [
       "6-element Array{Float64,1}:\n",
       "   0.0       \n",
       "   0.0       \n",
       "   0.0       \n",
       "  -1.60952   \n",
       "  -1.43511e-7\n",
       " -11.0115    "
      ]
     },
     "metadata": {},
     "output_type": "display_data"
    },
    {
     "name": "stdout",
     "output_type": "stream",
     "text": [
      "elapsed time: 1.628055147 seconds\n"
     ]
    },
    {
     "data": {
      "text/plain": [
       "6-element Array{Float64,1}:\n",
       "  0.0      \n",
       "  0.0      \n",
       "  0.0      \n",
       "  2.66939  \n",
       "  1.2169e-5\n",
       " -3.0917   "
      ]
     },
     "metadata": {},
     "output_type": "display_data"
    },
    {
     "data": {
      "text/plain": [
       "6-element Array{Float64,1}:\n",
       "  0.0      \n",
       "  0.0      \n",
       "  0.0      \n",
       "  2.66939  \n",
       "  1.2169e-5\n",
       " -3.0917   "
      ]
     },
     "metadata": {},
     "output_type": "display_data"
    },
    {
     "name": "stdout",
     "output_type": "stream",
     "text": [
      "elapsed time: 1.695823173 seconds\n"
     ]
    },
    {
     "data": {
      "text/plain": [
       "6-element Array{Float64,1}:\n",
       "   0.0       \n",
       "   0.0       \n",
       "   0.0       \n",
       "  -1.59219   \n",
       "  -1.27431e-7\n",
       " -11.0018    "
      ]
     },
     "metadata": {},
     "output_type": "display_data"
    },
    {
     "data": {
      "text/plain": [
       "6-element Array{Float64,1}:\n",
       "   0.0       \n",
       "   0.0       \n",
       "   0.0       \n",
       "  -1.59219   \n",
       "  -1.27431e-7\n",
       " -11.0018    "
      ]
     },
     "metadata": {},
     "output_type": "display_data"
    },
    {
     "name": "stdout",
     "output_type": "stream",
     "text": [
      "elapsed time: 1.714172424 seconds\n"
     ]
    },
    {
     "data": {
      "text/plain": [
       "6-element Array{Float64,1}:\n",
       "  0.0       \n",
       "  0.0       \n",
       "  0.0       \n",
       "  2.7411    \n",
       "  3.40471e-6\n",
       " -3.04242   "
      ]
     },
     "metadata": {},
     "output_type": "display_data"
    },
    {
     "data": {
      "text/plain": [
       "6-element Array{Float64,1}:\n",
       "  0.0       \n",
       "  0.0       \n",
       "  0.0       \n",
       "  2.7411    \n",
       "  3.40471e-6\n",
       " -3.04242   "
      ]
     },
     "metadata": {},
     "output_type": "display_data"
    },
    {
     "name": "stdout",
     "output_type": "stream",
     "text": [
      "elapsed time: 1.734656147 seconds\n"
     ]
    },
    {
     "data": {
      "text/plain": [
       "6-element Array{Float64,1}:\n",
       "   0.0       \n",
       "   0.0       \n",
       "   0.0       \n",
       "  -1.57594   \n",
       "  -1.23218e-7\n",
       " -10.9928    "
      ]
     },
     "metadata": {},
     "output_type": "display_data"
    },
    {
     "data": {
      "text/plain": [
       "6-element Array{Float64,1}:\n",
       "   0.0       \n",
       "   0.0       \n",
       "   0.0       \n",
       "  -1.57594   \n",
       "  -1.23218e-7\n",
       " -10.9928    "
      ]
     },
     "metadata": {},
     "output_type": "display_data"
    },
    {
     "name": "stdout",
     "output_type": "stream",
     "text": [
      "elapsed time: 1.826276373 seconds\n"
     ]
    },
    {
     "data": {
      "text/plain": [
       "6-element Array{Float64,1}:\n",
       "  0.0       \n",
       "  0.0       \n",
       "  0.0       \n",
       "  2.81695   \n",
       "  8.70075e-7\n",
       " -2.98385   "
      ]
     },
     "metadata": {},
     "output_type": "display_data"
    },
    {
     "data": {
      "text/plain": [
       "6-element Array{Float64,1}:\n",
       "  0.0       \n",
       "  0.0       \n",
       "  0.0       \n",
       "  2.81695   \n",
       "  8.70075e-7\n",
       " -2.98385   "
      ]
     },
     "metadata": {},
     "output_type": "display_data"
    },
    {
     "name": "stdout",
     "output_type": "stream",
     "text": [
      "elapsed time: 2.35348368 seconds\n"
     ]
    },
    {
     "data": {
      "text/plain": [
       "6-element Array{Float64,1}:\n",
       "   0.0       \n",
       "   0.0       \n",
       "   0.0       \n",
       "  -1.56065   \n",
       "  -1.22158e-7\n",
       " -10.9844    "
      ]
     },
     "metadata": {},
     "output_type": "display_data"
    },
    {
     "data": {
      "text/plain": [
       "6-element Array{Float64,1}:\n",
       "   0.0       \n",
       "   0.0       \n",
       "   0.0       \n",
       "  -1.56065   \n",
       "  -1.22158e-7\n",
       " -10.9844    "
      ]
     },
     "metadata": {},
     "output_type": "display_data"
    },
    {
     "name": "stdout",
     "output_type": "stream",
     "text": [
      "elapsed time: 2.014847483 seconds\n"
     ]
    },
    {
     "data": {
      "text/plain": [
       "6-element Array{Float64,1}:\n",
       "  0.0      \n",
       "  0.0      \n",
       "  0.0      \n",
       "  2.89552  \n",
       "  1.2822e-5\n",
       " -2.91758  "
      ]
     },
     "metadata": {},
     "output_type": "display_data"
    },
    {
     "data": {
      "text/plain": [
       "6-element Array{Float64,1}:\n",
       "  0.0      \n",
       "  0.0      \n",
       "  0.0      \n",
       "  2.89552  \n",
       "  1.2822e-5\n",
       " -2.91758  "
      ]
     },
     "metadata": {},
     "output_type": "display_data"
    },
    {
     "name": "stdout",
     "output_type": "stream",
     "text": [
      "elapsed time: 2.082577378 seconds\n"
     ]
    },
    {
     "data": {
      "text/plain": [
       "6-element Array{Float64,1}:\n",
       "   0.0       \n",
       "   0.0       \n",
       "   0.0       \n",
       "  -1.54617   \n",
       "  -1.07416e-7\n",
       " -10.9764    "
      ]
     },
     "metadata": {},
     "output_type": "display_data"
    },
    {
     "data": {
      "text/plain": [
       "6-element Array{Float64,1}:\n",
       "   0.0       \n",
       "   0.0       \n",
       "   0.0       \n",
       "  -1.54617   \n",
       "  -1.07416e-7\n",
       " -10.9764    "
      ]
     },
     "metadata": {},
     "output_type": "display_data"
    },
    {
     "name": "stdout",
     "output_type": "stream",
     "text": [
      "elapsed time: 2.261993568 seconds\n"
     ]
    },
    {
     "data": {
      "text/plain": [
       "6-element Array{Float64,1}:\n",
       "  0.0       \n",
       "  0.0       \n",
       "  0.0       \n",
       "  2.97725   \n",
       "  4.18719e-6\n",
       " -2.84284   "
      ]
     },
     "metadata": {},
     "output_type": "display_data"
    },
    {
     "data": {
      "text/plain": [
       "6-element Array{Float64,1}:\n",
       "  0.0       \n",
       "  0.0       \n",
       "  0.0       \n",
       "  2.97725   \n",
       "  4.18719e-6\n",
       " -2.84284   "
      ]
     },
     "metadata": {},
     "output_type": "display_data"
    },
    {
     "name": "stdout",
     "output_type": "stream",
     "text": [
      "elapsed time: 1.894906314 seconds\n"
     ]
    },
    {
     "data": {
      "text/plain": [
       "6-element Array{Float64,1}:\n",
       "   0.0       \n",
       "   0.0       \n",
       "   0.0       \n",
       "  -1.53234   \n",
       "  -1.02852e-7\n",
       " -10.9689    "
      ]
     },
     "metadata": {},
     "output_type": "display_data"
    },
    {
     "data": {
      "text/plain": [
       "6-element Array{Float64,1}:\n",
       "   0.0       \n",
       "   0.0       \n",
       "   0.0       \n",
       "  -1.53234   \n",
       "  -1.02852e-7\n",
       " -10.9689    "
      ]
     },
     "metadata": {},
     "output_type": "display_data"
    },
    {
     "name": "stdout",
     "output_type": "stream",
     "text": [
      "elapsed time: 1.628058259 seconds\n"
     ]
    },
    {
     "data": {
      "text/plain": [
       "6-element Array{Float64,1}:\n",
       "  0.0       \n",
       "  0.0       \n",
       "  0.0       \n",
       "  3.06165   \n",
       " -3.49458e-6\n",
       " -2.76027   "
      ]
     },
     "metadata": {},
     "output_type": "display_data"
    },
    {
     "data": {
      "text/plain": [
       "6-element Array{Float64,1}:\n",
       "  0.0       \n",
       "  0.0       \n",
       "  0.0       \n",
       "  3.06165   \n",
       " -3.49458e-6\n",
       " -2.76027   "
      ]
     },
     "metadata": {},
     "output_type": "display_data"
    },
    {
     "name": "stdout",
     "output_type": "stream",
     "text": [
      "elapsed time: 1.548228316 seconds\n"
     ]
    },
    {
     "data": {
      "text/plain": [
       "6-element Array{Float64,1}:\n",
       "   0.0       \n",
       "   0.0       \n",
       "   0.0       \n",
       "  -1.51894   \n",
       "  -1.06329e-7\n",
       " -10.9616    "
      ]
     },
     "metadata": {},
     "output_type": "display_data"
    },
    {
     "data": {
      "text/plain": [
       "6-element Array{Float64,1}:\n",
       "   0.0       \n",
       "   0.0       \n",
       "   0.0       \n",
       "  -1.51894   \n",
       "  -1.06329e-7\n",
       " -10.9616    "
      ]
     },
     "metadata": {},
     "output_type": "display_data"
    },
    {
     "name": "stdout",
     "output_type": "stream",
     "text": [
      "elapsed time: 1.549573951 seconds\n"
     ]
    },
    {
     "data": {
      "text/plain": [
       "6-element Array{Float64,1}:\n",
       "  0.0       \n",
       "  0.0       \n",
       "  0.0       \n",
       "  3.14995   \n",
       " -5.90816e-6\n",
       " -2.66819   "
      ]
     },
     "metadata": {},
     "output_type": "display_data"
    },
    {
     "data": {
      "text/plain": [
       "6-element Array{Float64,1}:\n",
       "  0.0       \n",
       "  0.0       \n",
       "  0.0       \n",
       "  3.14995   \n",
       " -5.90816e-6\n",
       " -2.66819   "
      ]
     },
     "metadata": {},
     "output_type": "display_data"
    },
    {
     "name": "stdout",
     "output_type": "stream",
     "text": [
      "elapsed time: 1.88804324 seconds\n"
     ]
    },
    {
     "data": {
      "text/plain": [
       "6-element Array{Float64,1}:\n",
       "   0.0       \n",
       "   0.0       \n",
       "   0.0       \n",
       "  -1.50573   \n",
       "  -1.12922e-7\n",
       " -10.9544    "
      ]
     },
     "metadata": {},
     "output_type": "display_data"
    },
    {
     "data": {
      "text/plain": [
       "6-element Array{Float64,1}:\n",
       "   0.0       \n",
       "   0.0       \n",
       "   0.0       \n",
       "  -1.50573   \n",
       "  -1.12922e-7\n",
       " -10.9544    "
      ]
     },
     "metadata": {},
     "output_type": "display_data"
    },
    {
     "name": "stdout",
     "output_type": "stream",
     "text": [
      "elapsed time: 1.957700732 seconds\n"
     ]
    },
    {
     "data": {
      "text/plain": [
       "6-element Array{Float64,1}:\n",
       "  0.0       \n",
       "  0.0       \n",
       "  0.0       \n",
       "  3.24289   \n",
       "  1.38578e-6\n",
       " -2.5655    "
      ]
     },
     "metadata": {},
     "output_type": "display_data"
    },
    {
     "data": {
      "text/plain": [
       "6-element Array{Float64,1}:\n",
       "  0.0       \n",
       "  0.0       \n",
       "  0.0       \n",
       "  3.24289   \n",
       "  1.38578e-6\n",
       " -2.5655    "
      ]
     },
     "metadata": {},
     "output_type": "display_data"
    },
    {
     "name": "stdout",
     "output_type": "stream",
     "text": [
      "elapsed time: 1.915657281 seconds\n"
     ]
    },
    {
     "data": {
      "text/plain": [
       "6-element Array{Float64,1}:\n",
       "   0.0       \n",
       "   0.0       \n",
       "   0.0       \n",
       "  -1.49242   \n",
       "  -1.11554e-7\n",
       " -10.9472    "
      ]
     },
     "metadata": {},
     "output_type": "display_data"
    },
    {
     "data": {
      "text/plain": [
       "6-element Array{Float64,1}:\n",
       "   0.0       \n",
       "   0.0       \n",
       "   0.0       \n",
       "  -1.49242   \n",
       "  -1.11554e-7\n",
       " -10.9472    "
      ]
     },
     "metadata": {},
     "output_type": "display_data"
    },
    {
     "name": "stdout",
     "output_type": "stream",
     "text": [
      "elapsed time: 1.758319266 seconds\n"
     ]
    },
    {
     "data": {
      "text/plain": [
       "6-element Array{Float64,1}:\n",
       "  0.0      \n",
       "  0.0      \n",
       "  0.0      \n",
       "  3.34196  \n",
       "  7.4552e-6\n",
       " -2.44977  "
      ]
     },
     "metadata": {},
     "output_type": "display_data"
    },
    {
     "data": {
      "text/plain": [
       "6-element Array{Float64,1}:\n",
       "  0.0      \n",
       "  0.0      \n",
       "  0.0      \n",
       "  3.34196  \n",
       "  7.4552e-6\n",
       " -2.44977  "
      ]
     },
     "metadata": {},
     "output_type": "display_data"
    },
    {
     "name": "stdout",
     "output_type": "stream",
     "text": [
      "elapsed time: 1.869198803 seconds\n"
     ]
    },
    {
     "data": {
      "text/plain": [
       "6-element Array{Float64,1}:\n",
       "   0.0       \n",
       "   0.0       \n",
       "   0.0       \n",
       "  -1.47851   \n",
       "  -1.02317e-7\n",
       " -10.9398    "
      ]
     },
     "metadata": {},
     "output_type": "display_data"
    },
    {
     "data": {
      "text/plain": [
       "6-element Array{Float64,1}:\n",
       "   0.0       \n",
       "   0.0       \n",
       "   0.0       \n",
       "  -1.47851   \n",
       "  -1.02317e-7\n",
       " -10.9398    "
      ]
     },
     "metadata": {},
     "output_type": "display_data"
    },
    {
     "name": "stdout",
     "output_type": "stream",
     "text": [
      "elapsed time: 1.864226907 seconds\n"
     ]
    },
    {
     "data": {
      "text/plain": [
       "6-element Array{Float64,1}:\n",
       "  0.0       \n",
       "  0.0       \n",
       "  0.0       \n",
       "  3.4511    \n",
       "  2.97019e-6\n",
       " -2.31486   "
      ]
     },
     "metadata": {},
     "output_type": "display_data"
    },
    {
     "data": {
      "text/plain": [
       "6-element Array{Float64,1}:\n",
       "  0.0       \n",
       "  0.0       \n",
       "  0.0       \n",
       "  3.4511    \n",
       "  2.97019e-6\n",
       " -2.31486   "
      ]
     },
     "metadata": {},
     "output_type": "display_data"
    },
    {
     "name": "stdout",
     "output_type": "stream",
     "text": [
      "elapsed time: 1.798112041 seconds\n"
     ]
    },
    {
     "data": {
      "text/plain": [
       "6-element Array{Float64,1}:\n",
       "   0.0       \n",
       "   0.0       \n",
       "   0.0       \n",
       "  -1.46314   \n",
       "  -9.81242e-8\n",
       " -10.9315    "
      ]
     },
     "metadata": {},
     "output_type": "display_data"
    },
    {
     "data": {
      "text/plain": [
       "6-element Array{Float64,1}:\n",
       "   0.0       \n",
       "   0.0       \n",
       "   0.0       \n",
       "  -1.46314   \n",
       "  -9.81242e-8\n",
       " -10.9315    "
      ]
     },
     "metadata": {},
     "output_type": "display_data"
    },
    {
     "name": "stdout",
     "output_type": "stream",
     "text": [
      "elapsed time: 1.562493364 seconds\n"
     ]
    },
    {
     "data": {
      "text/plain": [
       "6-element Array{Float64,1}:\n",
       "  0.0       \n",
       "  0.0       \n",
       "  0.0       \n",
       "  3.57765   \n",
       "  3.07613e-6\n",
       " -2.14861   "
      ]
     },
     "metadata": {},
     "output_type": "display_data"
    },
    {
     "data": {
      "text/plain": [
       "6-element Array{Float64,1}:\n",
       "  0.0       \n",
       "  0.0       \n",
       "  0.0       \n",
       "  3.57765   \n",
       "  3.07613e-6\n",
       " -2.14861   "
      ]
     },
     "metadata": {},
     "output_type": "display_data"
    },
    {
     "name": "stdout",
     "output_type": "stream",
     "text": [
      "elapsed time: 1.732050625 seconds\n"
     ]
    },
    {
     "data": {
      "text/plain": [
       "6-element Array{Float64,1}:\n",
       "   0.0       \n",
       "   0.0       \n",
       "   0.0       \n",
       "  -1.44389   \n",
       "  -9.24342e-8\n",
       " -10.9213    "
      ]
     },
     "metadata": {},
     "output_type": "display_data"
    },
    {
     "data": {
      "text/plain": [
       "6-element Array{Float64,1}:\n",
       "   0.0       \n",
       "   0.0       \n",
       "   0.0       \n",
       "  -1.44389   \n",
       "  -9.24342e-8\n",
       " -10.9213    "
      ]
     },
     "metadata": {},
     "output_type": "display_data"
    },
    {
     "name": "stdout",
     "output_type": "stream",
     "text": [
      "elapsed time: 2.045018965 seconds\n"
     ]
    },
    {
     "data": {
      "text/plain": [
       "6-element Array{Float64,1}:\n",
       "  0.0       \n",
       "  0.0       \n",
       "  0.0       \n",
       "  3.74062   \n",
       "  4.89972e-6\n",
       " -1.91768   "
      ]
     },
     "metadata": {},
     "output_type": "display_data"
    },
    {
     "data": {
      "text/plain": [
       "6-element Array{Float64,1}:\n",
       "  0.0       \n",
       "  0.0       \n",
       "  0.0       \n",
       "  3.74062   \n",
       "  4.89972e-6\n",
       " -1.91768   "
      ]
     },
     "metadata": {},
     "output_type": "display_data"
    },
    {
     "name": "stdout",
     "output_type": "stream",
     "text": [
      "elapsed time: 1.590821264 seconds\n"
     ]
    },
    {
     "data": {
      "text/plain": [
       "6-element Array{Float64,1}:\n",
       "   0.0       \n",
       "   0.0       \n",
       "   0.0       \n",
       "  -1.40508   \n",
       "  -7.35624e-8\n",
       " -10.9006    "
      ]
     },
     "metadata": {},
     "output_type": "display_data"
    },
    {
     "data": {
      "text/plain": [
       "6-element Array{Float64,1}:\n",
       "   0.0       \n",
       "   0.0       \n",
       "   0.0       \n",
       "  -1.40508   \n",
       "  -7.35624e-8\n",
       " -10.9006    "
      ]
     },
     "metadata": {},
     "output_type": "display_data"
    },
    {
     "name": "stdout",
     "output_type": "stream",
     "text": [
      "elapsed time: 1.678369168 seconds\n"
     ]
    },
    {
     "data": {
      "text/plain": [
       "6-element Array{Float64,1}:\n",
       "  0.0       \n",
       "  0.0       \n",
       "  0.0       \n",
       "  4.05106   \n",
       "  3.86892e-6\n",
       " -1.40258   "
      ]
     },
     "metadata": {},
     "output_type": "display_data"
    },
    {
     "data": {
      "text/plain": [
       "6-element Array{Float64,1}:\n",
       "  0.0       \n",
       "  0.0       \n",
       "  0.0       \n",
       "  4.05106   \n",
       "  3.86892e-6\n",
       " -1.40258   "
      ]
     },
     "metadata": {},
     "output_type": "display_data"
    },
    {
     "name": "stdout",
     "output_type": "stream",
     "text": [
      "elapsed time: 1.635556782 seconds\n"
     ]
    },
    {
     "data": {
      "text/plain": [
       "6-element Array{Float64,1}:\n",
       "  0.0       \n",
       "  0.0       \n",
       "  0.0       \n",
       "  0.196164  \n",
       "  1.93663e-6\n",
       " -9.04927   "
      ]
     },
     "metadata": {},
     "output_type": "display_data"
    },
    {
     "data": {
      "text/plain": [
       "6-element Array{Float64,1}:\n",
       "  0.0       \n",
       "  0.0       \n",
       "  0.0       \n",
       "  0.196164  \n",
       "  1.93663e-6\n",
       " -9.04927   "
      ]
     },
     "metadata": {},
     "output_type": "display_data"
    },
    {
     "name": "stdout",
     "output_type": "stream",
     "text": [
      "elapsed time: 1.743967979 seconds\n"
     ]
    },
    {
     "data": {
      "text/plain": [
       "6-element Array{Float64,1}:\n",
       "   0.0       \n",
       "   0.0       \n",
       "   0.0       \n",
       "  -1.30138   \n",
       "  -2.84266e-8\n",
       " -10.8448    "
      ]
     },
     "metadata": {},
     "output_type": "display_data"
    },
    {
     "data": {
      "text/plain": [
       "6-element Array{Float64,1}:\n",
       "   0.0       \n",
       "   0.0       \n",
       "   0.0       \n",
       "  -1.30138   \n",
       "  -2.84266e-8\n",
       " -10.8448    "
      ]
     },
     "metadata": {},
     "output_type": "display_data"
    },
    {
     "name": "stdout",
     "output_type": "stream",
     "text": [
      "elapsed time: 1.683608448 seconds\n"
     ]
    },
    {
     "data": {
      "text/plain": [
       "6-element Array{Float64,1}:\n",
       "   0.0       \n",
       "   0.0       \n",
       "   0.0       \n",
       "  -1.39723   \n",
       "  -7.03545e-8\n",
       " -10.8965    "
      ]
     },
     "metadata": {},
     "output_type": "display_data"
    },
    {
     "data": {
      "text/plain": [
       "6-element Array{Float64,1}:\n",
       "   0.0       \n",
       "   0.0       \n",
       "   0.0       \n",
       "  -1.39723   \n",
       "  -7.03545e-8\n",
       " -10.8965    "
      ]
     },
     "metadata": {},
     "output_type": "display_data"
    },
    {
     "name": "stdout",
     "output_type": "stream",
     "text": [
      "elapsed time: 1.866368454 seconds\n"
     ]
    },
    {
     "data": {
      "text/plain": [
       "6-element Array{Float64,1}:\n",
       "  0.0      \n",
       "  0.0      \n",
       "  0.0      \n",
       "  4.11909  \n",
       "  1.2568e-6\n",
       " -1.27852  "
      ]
     },
     "metadata": {},
     "output_type": "display_data"
    },
    {
     "data": {
      "text/plain": [
       "6-element Array{Float64,1}:\n",
       "  0.0      \n",
       "  0.0      \n",
       "  0.0      \n",
       "  4.11909  \n",
       "  1.2568e-6\n",
       " -1.27852  "
      ]
     },
     "metadata": {},
     "output_type": "display_data"
    },
    {
     "name": "stdout",
     "output_type": "stream",
     "text": [
      "elapsed time: 1.661735155 seconds\n"
     ]
    },
    {
     "data": {
      "text/plain": [
       "6-element Array{Float64,1}:\n",
       "  0.0       \n",
       "  0.0       \n",
       "  0.0       \n",
       "  0.293838  \n",
       "  9.45336e-7\n",
       " -8.79246   "
      ]
     },
     "metadata": {},
     "output_type": "display_data"
    },
    {
     "data": {
      "text/plain": [
       "6-element Array{Float64,1}:\n",
       "  0.0       \n",
       "  0.0       \n",
       "  0.0       \n",
       "  0.293838  \n",
       "  9.45336e-7\n",
       " -8.79246   "
      ]
     },
     "metadata": {},
     "output_type": "display_data"
    },
    {
     "name": "stdout",
     "output_type": "stream",
     "text": [
      "elapsed time: 1.629110719 seconds\n"
     ]
    },
    {
     "data": {
      "text/plain": [
       "6-element Array{Float64,1}:\n",
       "   0.0       \n",
       "   0.0       \n",
       "   0.0       \n",
       "  -1.29321   \n",
       "  -5.53284e-8\n",
       " -10.8407    "
      ]
     },
     "metadata": {},
     "output_type": "display_data"
    },
    {
     "data": {
      "text/plain": [
       "6-element Array{Float64,1}:\n",
       "   0.0       \n",
       "   0.0       \n",
       "   0.0       \n",
       "  -1.29321   \n",
       "  -5.53284e-8\n",
       " -10.8407    "
      ]
     },
     "metadata": {},
     "output_type": "display_data"
    },
    {
     "name": "stdout",
     "output_type": "stream",
     "text": [
      "elapsed time: 1.668665048 seconds\n"
     ]
    },
    {
     "data": {
      "text/plain": [
       "6-element Array{Float64,1}:\n",
       "   0.0       \n",
       "   0.0       \n",
       "   0.0       \n",
       "  -1.38762   \n",
       "  -6.89399e-8\n",
       " -10.8915    "
      ]
     },
     "metadata": {},
     "output_type": "display_data"
    },
    {
     "data": {
      "text/plain": [
       "6-element Array{Float64,1}:\n",
       "   0.0       \n",
       "   0.0       \n",
       "   0.0       \n",
       "  -1.38762   \n",
       "  -6.89399e-8\n",
       " -10.8915    "
      ]
     },
     "metadata": {},
     "output_type": "display_data"
    },
    {
     "name": "stdout",
     "output_type": "stream",
     "text": [
      "elapsed time: 1.65744669 seconds\n"
     ]
    },
    {
     "data": {
      "text/plain": [
       "6-element Array{Float64,1}:\n",
       "  0.0       \n",
       "  0.0       \n",
       "  0.0       \n",
       "  4.19835   \n",
       " -6.00213e-7\n",
       " -1.12421   "
      ]
     },
     "metadata": {},
     "output_type": "display_data"
    },
    {
     "data": {
      "text/plain": [
       "6-element Array{Float64,1}:\n",
       "  0.0       \n",
       "  0.0       \n",
       "  0.0       \n",
       "  4.19835   \n",
       " -6.00213e-7\n",
       " -1.12421   "
      ]
     },
     "metadata": {},
     "output_type": "display_data"
    },
    {
     "name": "stdout",
     "output_type": "stream",
     "text": [
      "elapsed time: 1.668673805 seconds\n"
     ]
    },
    {
     "data": {
      "text/plain": [
       "6-element Array{Float64,1}:\n",
       "  0.0       \n",
       "  0.0       \n",
       "  0.0       \n",
       "  0.39158   \n",
       " -3.10544e-7\n",
       " -8.53565   "
      ]
     },
     "metadata": {},
     "output_type": "display_data"
    },
    {
     "data": {
      "text/plain": [
       "6-element Array{Float64,1}:\n",
       "  0.0       \n",
       "  0.0       \n",
       "  0.0       \n",
       "  0.39158   \n",
       " -3.10544e-7\n",
       " -8.53565   "
      ]
     },
     "metadata": {},
     "output_type": "display_data"
    },
    {
     "name": "stdout",
     "output_type": "stream",
     "text": [
      "elapsed time: 1.677291273 seconds\n",
      "elapsed time: 1.839794069 seconds\n"
     ]
    },
    {
     "ename": "LoadError",
     "evalue": "\u001b[91mInterruptException:\u001b[39m",
     "output_type": "error",
     "traceback": [
      "\u001b[91mInterruptException:\u001b[39m",
      "",
      "Stacktrace:",
      " [1] \u001b[1mgesdd!\u001b[22m\u001b[22m\u001b[1m(\u001b[22m\u001b[22m::Char, ::Array{Float64,2}\u001b[1m)\u001b[22m\u001b[22m at \u001b[1m./linalg/lapack.jl:1598\u001b[22m\u001b[22m",
      " [2] \u001b[1m#svdfact!#50\u001b[22m\u001b[22m\u001b[1m(\u001b[22m\u001b[22m::Bool, ::Function, ::Array{Float64,2}\u001b[1m)\u001b[22m\u001b[22m at \u001b[1m./linalg/svd.jl:24\u001b[22m\u001b[22m",
      " [3] \u001b[1m(::Base.LinAlg.#kw##svdfact!)\u001b[22m\u001b[22m\u001b[1m(\u001b[22m\u001b[22m::Array{Any,1}, ::Base.LinAlg.#svdfact!, ::Array{Float64,2}\u001b[1m)\u001b[22m\u001b[22m at \u001b[1m./<missing>:0\u001b[22m\u001b[22m",
      " [4] \u001b[1m#svdfact#51\u001b[22m\u001b[22m\u001b[1m(\u001b[22m\u001b[22m::Bool, ::Function, ::Array{Float64,2}\u001b[1m)\u001b[22m\u001b[22m at \u001b[1m./linalg/svd.jl:65\u001b[22m\u001b[22m",
      " [5] \u001b[1m(::Base.LinAlg.#kw##svdfact)\u001b[22m\u001b[22m\u001b[1m(\u001b[22m\u001b[22m::Array{Any,1}, ::Base.LinAlg.#svdfact, ::Array{Float64,2}\u001b[1m)\u001b[22m\u001b[22m at \u001b[1m./<missing>:0\u001b[22m\u001b[22m",
      " [6] \u001b[1m#svd#54\u001b[22m\u001b[22m at \u001b[1m./linalg/svd.jl:106\u001b[22m\u001b[22m [inlined]",
      " [7] \u001b[1msvd\u001b[22m\u001b[22m\u001b[1m(\u001b[22m\u001b[22m::Array{Float64,2}\u001b[1m)\u001b[22m\u001b[22m at \u001b[1m./linalg/svd.jl:106\u001b[22m\u001b[22m",
      " [8] \u001b[1m#auglag_solve#136\u001b[22m\u001b[22m\u001b[1m(\u001b[22m\u001b[22m::Float64, ::Function, ::Array{Float64,1}, ::Array{Float64,1}, ::Array{Float64,1}, ::BilevelTrajOpt.##40#44, ::BilevelTrajOpt.##41#45{BilevelTrajOpt.SimData,Array{Float64,1},Array{Float64,2},Array{Tuple{RigidBodyDynamics.Spatial.Transform3D{Float64},RigidBodyDynamics.Spatial.Transform3D{Float64}},1},Array{RigidBodyDynamics.Spatial.GeometricJacobian{Array{Float64,2}},1},Array{Float64,1},Array{Float64,1}}, ::BilevelTrajOpt.##42#46{BilevelTrajOpt.SimData,Array{Float64,2},Array{Float64,1},Array{Float64,1}}\u001b[1m)\u001b[22m\u001b[22m at \u001b[1m/Users/blandry/.julia/v0.6/BilevelTrajOpt/src/auglag.jl:64\u001b[22m\u001b[22m",
      " [9] \u001b[1m#solve_implicit_contact_τ#38\u001b[22m\u001b[22m\u001b[1m(\u001b[22m\u001b[22m::Bool, ::Function, ::BilevelTrajOpt.SimData, ::Array{Float64,1}, ::Array{Float64,2}, ::Array{Tuple{RigidBodyDynamics.Spatial.Transform3D{Float64},RigidBodyDynamics.Spatial.Transform3D{Float64}},1}, ::Array{RigidBodyDynamics.Spatial.GeometricJacobian{Array{Float64,2}},1}, ::Array{Float64,1}, ::Array{Float64,1}, ::Array{Float64,1}, ::Array{Float64,1}, ::Array{Float64,1}\u001b[1m)\u001b[22m\u001b[22m at \u001b[1m/Users/blandry/.julia/v0.6/BilevelTrajOpt/src/contact.jl:162\u001b[22m\u001b[22m",
      " [10] \u001b[1m(::BilevelTrajOpt.#evalg#170{BilevelTrajOpt.SimData,Array{Float64,1},Array{Float64,1},Array{Float64,1},Array{Float64,1},Array{Float64,1},Array{Float64,1},Symmetric{Float64,Array{Float64,2}}})\u001b[22m\u001b[22m\u001b[1m(\u001b[22m\u001b[22m::Array{Float64,1}\u001b[1m)\u001b[22m\u001b[22m at \u001b[1m/Users/blandry/.julia/v0.6/BilevelTrajOpt/src/simulation_snopt.jl:139\u001b[22m\u001b[22m",
      " [11] \u001b[1m(::BilevelTrajOpt.#update_fn#177{BilevelTrajOpt.#evalf#168{BilevelTrajOpt.SimData},BilevelTrajOpt.#evaldfdx#169{BilevelTrajOpt.SimData},BilevelTrajOpt.#evalg#170{BilevelTrajOpt.SimData,Array{Float64,1},Array{Float64,1},Array{Float64,1},Array{Float64,1},Array{Float64,1},Array{Float64,1},Symmetric{Float64,Array{Float64,2}}},BilevelTrajOpt.#evaldgdx#175{BilevelTrajOpt.#evalg#170{BilevelTrajOpt.SimData,Array{Float64,1},Array{Float64,1},Array{Float64,1},Array{Float64,1},Array{Float64,1},Array{Float64,1},Symmetric{Float64,Array{Float64,2}}}}})\u001b[22m\u001b[22m\u001b[1m(\u001b[22m\u001b[22m::Array{Float64,1}\u001b[1m)\u001b[22m\u001b[22m at \u001b[1m/Users/blandry/.julia/v0.6/BilevelTrajOpt/src/simulation_snopt.jl:174\u001b[22m\u001b[22m",
      " [12] \u001b[1mobjcon_wrapper\u001b[22m\u001b[22m\u001b[1m(\u001b[22m\u001b[22m::Ptr{Int64}, ::Int64, ::Ptr{Float64}, ::Int64, ::Int64, ::Ptr{Float64}, ::Int64, ::Int64, ::Ptr{Float64}, ::Ptr{Int8}, ::Int64, ::Ptr{Int64}, ::Int64, ::Ptr{Float64}, ::Int64\u001b[1m)\u001b[22m\u001b[22m at \u001b[1m/Users/blandry/.julia/v0.6/Snopt/src/Snopt.jl:66\u001b[22m\u001b[22m",
      " [13] \u001b[1m#snopt#1\u001b[22m\u001b[22m\u001b[1m(\u001b[22m\u001b[22m::String, ::String, ::Function, ::BilevelTrajOpt.#update_fn#177{BilevelTrajOpt.#evalf#168{BilevelTrajOpt.SimData},BilevelTrajOpt.#evaldfdx#169{BilevelTrajOpt.SimData},BilevelTrajOpt.#evalg#170{BilevelTrajOpt.SimData,Array{Float64,1},Array{Float64,1},Array{Float64,1},Array{Float64,1},Array{Float64,1},Array{Float64,1},Symmetric{Float64,Array{Float64,2}}},BilevelTrajOpt.#evaldgdx#175{BilevelTrajOpt.#evalg#170{BilevelTrajOpt.SimData,Array{Float64,1},Array{Float64,1},Array{Float64,1},Array{Float64,1},Array{Float64,1},Array{Float64,1},Symmetric{Float64,Array{Float64,2}}}}}, ::Array{Float64,1}, ::Array{Float64,1}, ::Array{Float64,1}, ::Dict{String,Any}\u001b[1m)\u001b[22m\u001b[22m at \u001b[1m/Users/blandry/.julia/v0.6/Snopt/src/Snopt.jl:339\u001b[22m\u001b[22m",
      " [14] \u001b[1msnopt\u001b[22m\u001b[22m\u001b[1m(\u001b[22m\u001b[22m::Function, ::Array{Float64,1}, ::Array{Float64,1}, ::Array{Float64,1}, ::Dict{String,Any}\u001b[1m)\u001b[22m\u001b[22m at \u001b[1m/Users/blandry/.julia/v0.6/Snopt/src/Snopt.jl:143\u001b[22m\u001b[22m",
      " [15] \u001b[1m#simulate_snopt#162\u001b[22m\u001b[22m\u001b[1m(\u001b[22m\u001b[22m::Bool, ::Function, ::RigidBodyDynamics.MechanismState{Float64,Float64,Float64,TypeSortedCollections.TypeSortedCollection{Tuple{Array{RigidBodyDynamics.Joint{Float64,RigidBodyDynamics.Fixed{Float64}},1},Array{RigidBodyDynamics.Joint{Float64,RigidBodyDynamics.QuaternionFloating{Float64}},1}},2}}, ::BilevelTrajOpt.Environment, ::Float64, ::Int64, ::##39#40\u001b[1m)\u001b[22m\u001b[22m at \u001b[1m/Users/blandry/.julia/v0.6/BilevelTrajOpt/src/simulation_snopt.jl:243\u001b[22m\u001b[22m",
      " [16] \u001b[1m(::BilevelTrajOpt.#kw##simulate_snopt)\u001b[22m\u001b[22m\u001b[1m(\u001b[22m\u001b[22m::Array{Any,1}, ::BilevelTrajOpt.#simulate_snopt, ::RigidBodyDynamics.MechanismState{Float64,Float64,Float64,TypeSortedCollections.TypeSortedCollection{Tuple{Array{RigidBodyDynamics.Joint{Float64,RigidBodyDynamics.Fixed{Float64}},1},Array{RigidBodyDynamics.Joint{Float64,RigidBodyDynamics.QuaternionFloating{Float64}},1}},2}}, ::BilevelTrajOpt.Environment, ::Float64, ::Int64, ::Function\u001b[1m)\u001b[22m\u001b[22m at \u001b[1m./<missing>:0\u001b[22m\u001b[22m",
      " [17] \u001b[1minclude_string\u001b[22m\u001b[22m\u001b[1m(\u001b[22m\u001b[22m::String, ::String\u001b[1m)\u001b[22m\u001b[22m at \u001b[1m./loading.jl:522\u001b[22m\u001b[22m",
      " [18] \u001b[1mexecute_request\u001b[22m\u001b[22m\u001b[1m(\u001b[22m\u001b[22m::ZMQ.Socket, ::IJulia.Msg\u001b[1m)\u001b[22m\u001b[22m at \u001b[1m/Users/blandry/.julia/v0.6/IJulia/src/execute_request.jl:193\u001b[22m\u001b[22m",
      " [19] \u001b[1m(::Compat.#inner#6{Array{Any,1},IJulia.#execute_request,Tuple{ZMQ.Socket,IJulia.Msg}})\u001b[22m\u001b[22m\u001b[1m(\u001b[22m\u001b[22m\u001b[1m)\u001b[22m\u001b[22m at \u001b[1m/Users/blandry/.julia/v0.6/Compat/src/Compat.jl:189\u001b[22m\u001b[22m",
      " [20] \u001b[1meventloop\u001b[22m\u001b[22m\u001b[1m(\u001b[22m\u001b[22m::ZMQ.Socket\u001b[1m)\u001b[22m\u001b[22m at \u001b[1m/Users/blandry/.julia/v0.6/IJulia/src/eventloop.jl:8\u001b[22m\u001b[22m",
      " [21] \u001b[1m(::IJulia.##13#16)\u001b[22m\u001b[22m\u001b[1m(\u001b[22m\u001b[22m\u001b[1m)\u001b[22m\u001b[22m at \u001b[1m./task.jl:335\u001b[22m\u001b[22m"
     ]
    }
   ],
   "source": [
    "println(\"Implicit Contacts\")\n",
    "traj_imp = BilevelTrajOpt.simulate_snopt(x0,env,Δt,N,ctrl!,implicit_contact=true);"
   ]
  },
  {
   "cell_type": "code",
   "execution_count": 43,
   "metadata": {
    "collapsed": false
   },
   "outputs": [
    {
     "data": {
      "image/png": "[encoded data removed]"
     },
     "execution_count": 43,
     "metadata": {},
     "output_type": "execute_result"
    }
   ],
   "source": [
    "ts = cumsum([Δt for i in 1:N]);\n",
    "j = 7\n",
    "plot(traj_exp[j,:],label=\"explicit\")\n",
    "plot!(traj_imp[j,:],label=\"implicit\")"
   ]
  }
 ],
 "metadata": {
  "kernelspec": {
   "display_name": "Julia 0.6.4",
   "language": "julia",
   "name": "julia-0.6"
  },
  "language_info": {
   "file_extension": ".jl",
   "mimetype": "application/julia",
   "name": "julia",
   "version": "0.6.4"
  }
 },
 "nbformat": 4,
 "nbformat_minor": 2
}
