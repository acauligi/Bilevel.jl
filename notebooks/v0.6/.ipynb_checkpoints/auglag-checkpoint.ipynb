{
 "cells": [
  {
   "cell_type": "code",
   "execution_count": 12,
   "metadata": {},
   "outputs": [],
   "source": [
    "using Ipopt\n",
    "using ForwardDiff\n",
    "using ReverseDiff"
   ]
  },
  {
   "cell_type": "code",
   "execution_count": 313,
   "metadata": {},
   "outputs": [
    {
     "data": {
      "text/plain": [
       "ip_solve (generic function with 3 methods)"
      ]
     },
     "execution_count": 313,
     "metadata": {},
     "output_type": "execute_result"
    }
   ],
   "source": [
    "function ip_solve(x0::AbstractArray{T},f_obj,h_eq,g_ineq,num_h,num_g,x_min,x_max) where T\n",
    "    num_x = length(x0)\n",
    "    x_L = x_min\n",
    "    x_U = x_max\n",
    "    g_L = vcat(0. * ones(num_h), -1e19 * ones(num_g))\n",
    "    g_U = vcat(0. * ones(num_h), 0. * ones(num_g))\n",
    "\n",
    "    eval_f = x̃ -> f_obj(x̃)\n",
    "    eval_grad_f = (x̃,grad_f) -> grad_f[:] = ForwardDiff.gradient(eval_f,x̃)[:]\n",
    "\n",
    "    eval_g = (x̃,g̃) -> g̃[:] = vcat(h_eq(x̃),g_ineq(x̃))[:]\n",
    "    function eval_jac_g(x, mode, rows, cols, values)\n",
    "        if mode == :Structure\n",
    "            for i = 1:num_h+num_g\n",
    "                for j = 1:num_x\n",
    "                    rows[(i-1)*num_x+j] = i\n",
    "                    cols[(i-1)*num_x+j] = j\n",
    "                end\n",
    "            end\n",
    "        else\n",
    "            J = vcat(ForwardDiff.jacobian(h_eq,x),ForwardDiff.jacobian(g_ineq,x))\n",
    "            values[:] = J'[:]\n",
    "        end\n",
    "    end\n",
    "\n",
    "    prob = createProblem(num_x,x_L,x_U,\n",
    "                         num_h+num_g,g_L,g_U,\n",
    "                         num_x*(num_g+num_h),0,\n",
    "                         eval_f,eval_g,\n",
    "                         eval_grad_f,eval_jac_g)\n",
    "    prob.x[:] = x0[:]\n",
    "\n",
    "    addOption(prob, \"hessian_approximation\", \"limited-memory\")\n",
    "    addOption(prob, \"print_level\", 0)\n",
    "    status = solveProblem(prob)\n",
    "    println(Ipopt.ApplicationReturnStatus[status])\n",
    "\n",
    "    prob.x\n",
    "end"
   ]
  },
  {
   "cell_type": "code",
   "execution_count": 346,
   "metadata": {},
   "outputs": [
    {
     "data": {
      "text/plain": [
       "auglag_solve (generic function with 3 methods)"
      ]
     },
     "execution_count": 346,
     "metadata": {},
     "output_type": "execute_result"
    }
   ],
   "source": [
    "function softmax(x,y;k=1.)\n",
    "    log.(exp.(k*x) + exp.(k*y))/k\n",
    "end\n",
    "\n",
    "function L(x,λ,h,c)\n",
    "    f(x) - dot(λ,h(x)) + .5*c*dot(h(x),h(x))\n",
    "end\n",
    "\n",
    "function auglag_solve(x0,λ0,μ0,f0,h0,g0,x_min,x_max)\n",
    "    num_h0 = length(λ0)\n",
    "    num_g0 = length(μ0)\n",
    "    num_x0 = length(x0)\n",
    "    \n",
    "    x = vcat(x0,zeros(num_g0))\n",
    "    num_x = length(x)\n",
    "    λ = vcat(λ0,μ0)\n",
    "    num_h = length(λ)\n",
    "    \n",
    "    h = x̃ -> vcat(h0(x̃[1:num_x0]),g0(x̃[1:num_x0]) + x̃[num_x0+1:num_x0+num_g0].^2)\n",
    "    f = x̃ -> f0(x̃[1:num_x0])\n",
    "    \n",
    "    num_steps = 10\n",
    "    c = 1.\n",
    "    k = 10.\n",
    "    \n",
    "    for i = 1:num_steps\n",
    "        hx = h(x)\n",
    "        ∇h = ForwardDiff.jacobian(h,x)\n",
    "        ∇f = ForwardDiff.gradient(f,x)\n",
    "        Hf = ForwardDiff.hessian(f,x)\n",
    "        gL = ∇f + ∇h'*λ + c*∇h'*hx\n",
    "        HL = Hf + c*∇h'*∇h\n",
    "    \n",
    "        A = vcat(hcat(HL,∇h'),hcat(∇h,zeros(num_h,num_h)))\n",
    "        δ = (A+eye(num_x+num_h)*1e-12)\\(-vcat(gL,hx))\n",
    "        x += δ[1:num_x]\n",
    "        λ += δ[num_x+1:num_x+num_h]\n",
    "        \n",
    "        x[1:num_x0] = -softmax.(-x[1:num_x0],-x_max,k=k)\n",
    "        x[1:num_x0] = softmax.(x[1:num_x0],x_min,k=k)\n",
    "    end\n",
    "    \n",
    "    x[1:num_x0]\n",
    "end"
   ]
  },
  {
   "cell_type": "code",
   "execution_count": 347,
   "metadata": {},
   "outputs": [
    {
     "data": {
      "text/plain": [
       "4-element Array{Float64,1}:\n",
       " 6.03556e-5\n",
       " 0.499971  \n",
       " 6.28492   \n",
       " 0.499859  "
      ]
     },
     "metadata": {},
     "output_type": "display_data"
    },
    {
     "data": {
      "text/plain": [
       "4-element Array{Float64,1}:\n",
       " 4.45523e-12\n",
       " 0.5        \n",
       " 6.2849     \n",
       " 0.5        "
      ]
     },
     "metadata": {},
     "output_type": "display_data"
    },
    {
     "data": {
      "text/plain": [
       "\"Aug Lag\""
      ]
     },
     "metadata": {},
     "output_type": "display_data"
    },
    {
     "data": {
      "text/plain": [
       "6.2851208122245525"
      ]
     },
     "metadata": {},
     "output_type": "display_data"
    },
    {
     "data": {
      "text/plain": [
       "4-element Array{Any,1}:\n",
       " -1.48283e-6 \n",
       " -0.00011191 \n",
       "  0.00037933 \n",
       " -0.000108756"
      ]
     },
     "metadata": {},
     "output_type": "display_data"
    },
    {
     "data": {
      "text/plain": [
       "1-element Array{Any,1}:\n",
       " 3.01693e-5"
      ]
     },
     "metadata": {},
     "output_type": "display_data"
    },
    {
     "data": {
      "text/plain": [
       "\"IP\""
      ]
     },
     "metadata": {},
     "output_type": "display_data"
    },
    {
     "data": {
      "text/plain": [
       "6.284902545005155"
      ]
     },
     "metadata": {},
     "output_type": "display_data"
    },
    {
     "data": {
      "text/plain": [
       "4-element Array{Any,1}:\n",
       " -6.50857e-12\n",
       "  5.82501e-12\n",
       "  2.80007e-11\n",
       " -1.13354e-11"
      ]
     },
     "metadata": {},
     "output_type": "display_data"
    },
    {
     "data": {
      "text/plain": [
       "1-element Array{Any,1}:\n",
       " 2.22762e-12"
      ]
     },
     "metadata": {},
     "output_type": "display_data"
    },
    {
     "name": "stdout",
     "output_type": "stream",
     "text": [
      "Solve_Succeeded\n"
     ]
    }
   ],
   "source": [
    "function f(x)\n",
    "    return x[1] * x[4] * (x[1] + x[2] + x[3]) + x[3]\n",
    "end\n",
    "\n",
    "function h(x)\n",
    "    h = []\n",
    "    h = vcat(h,[40. - (x[1]^2 + x[2]^2 + x[3]^2 + x[4]^2)])\n",
    "    h = vcat(h, x[4] - x[2])\n",
    "    h = vcat(h, x[1] * x[3])\n",
    "    h = vcat(h, x[1] + x[2] + x[4] - 1.)\n",
    "    h\n",
    "end\n",
    "\n",
    "function g(x)\n",
    "    g = []\n",
    "    g = vcat(g, x[4] * x[1])\n",
    "    g\n",
    "end\n",
    "\n",
    "x0 = [-.5, 1., 1., 1.]\n",
    "λ0 = ones(length(h(x0)))\n",
    "μ0 = ones(length(g(x0)))\n",
    "\n",
    "x_min = -1.*ones(length(x0))\n",
    "x_max = 10.*ones(length(x0))\n",
    "\n",
    "x_sol = auglag_solve(x0,λ0,μ0,f,h,g,x_min,x_max)\n",
    "\n",
    "num_h = length(λ0)\n",
    "num_g = length(μ0)\n",
    "x_sol_ip = ip_solve(x0,f,h,g,num_h,num_g,x_min,x_max)\n",
    "\n",
    "display(x_sol)\n",
    "display(x_sol_ip)\n",
    "\n",
    "display(\"Aug Lag\")\n",
    "display(f(x_sol))\n",
    "display(h(x_sol))\n",
    "display(g(x_sol))\n",
    "display(\"IP\")\n",
    "display(f(x_sol_ip))\n",
    "display(h(x_sol_ip))\n",
    "display(g(x_sol_ip))"
   ]
  }
 ],
 "metadata": {
  "kernelspec": {
   "display_name": "Julia 0.6.4",
   "language": "julia",
   "name": "julia-0.6"
  },
  "language_info": {
   "file_extension": ".jl",
   "mimetype": "application/julia",
   "name": "julia",
   "version": "0.6.4"
  }
 },
 "nbformat": 4,
 "nbformat_minor": 2
}
