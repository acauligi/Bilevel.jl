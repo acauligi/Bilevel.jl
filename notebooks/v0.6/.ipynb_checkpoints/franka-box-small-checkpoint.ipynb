{
 "cells": [
  {
   "cell_type": "code",
   "execution_count": 29,
   "metadata": {},
   "outputs": [],
   "source": [
    "using Revise\n",
    "using MeshCat\n",
    "using RigidBodyDynamics\n",
    "using RigidBodyDynamics: Bounds\n",
    "using MeshCatMechanisms\n",
    "using Bilevel\n",
    "using GeometryTypes\n",
    "using Plots\n",
    "using Profile\n",
    "using ProfileView"
   ]
  },
  {
   "cell_type": "code",
   "execution_count": 2,
   "metadata": {},
   "outputs": [],
   "source": [
    "urdf = joinpath(\"..\", \"urdf\", \"panda\", \"panda_arm_box_small.urdf\")\n",
    "mechanism = parse_urdf(Float64, urdf)\n",
    "box = findbody(mechanism, \"box\")\n",
    "basejoint = joint_to_parent(box, mechanism)\n",
    "floatingjoint = Joint(basejoint.name, frame_before(basejoint), frame_after(basejoint), QuaternionFloating{Float64}())\n",
    "replace_joint!(mechanism, basejoint, floatingjoint)\n",
    "position_bounds(floatingjoint) .= Bounds(-100, 100)\n",
    "velocity_bounds(floatingjoint) .= Bounds(-100, 100);"
   ]
  },
  {
   "cell_type": "code",
   "execution_count": 3,
   "metadata": {},
   "outputs": [],
   "source": [
    "function make_end_effector_controller(state::MechanismState,\n",
    "                                      end_effector::RigidBody,\n",
    "                                      end_effector_point::Point3D,\n",
    "                                      desired_point::Point3D)\n",
    "    \n",
    "    mechanism = state.mechanism\n",
    "    v̇ = similar(velocity(state))\n",
    "    \n",
    "    joint_path = path(mechanism, root_body(mechanism), end_effector) # from root to end effector\n",
    "    Jp = point_jacobian(state, joint_path, transform(state, end_effector_point, root_frame(mechanism)))\n",
    "        \n",
    "    function controller!(τ, t, state)\n",
    "        ef_point_in_world = transform_to_root(state, end_effector) * end_effector_point\n",
    "        point_jacobian!(Jp, state, joint_path, ef_point_in_world)\n",
    "        des_point_in_world = transform(state, desired_point, root_frame(mechanism))\n",
    "        Kp = 100.\n",
    "        Kd = 10.\n",
    "        Δp = des_point_in_world - ef_point_in_world\n",
    "        v̇ .= Kp * Array(Jp)' * Δp.v .- Kd .* velocity(state)\n",
    "        τ .= inverse_dynamics(state, v̇)\n",
    "        τ[1:7] .= 0. # the box\n",
    "    end\n",
    "end\n",
    "\n",
    "state = MechanismState(mechanism)\n",
    "desired_point_v = [1., 0., .25]\n",
    "end_effector = findbody(mechanism, \"pusher\")\n",
    "end_effector_point = Point3D(default_frame(end_effector), [0.,0.,0.])\n",
    "desired_point = Point3D(root_frame(mechanism), desired_point_v)\n",
    "point_ctrl! = make_end_effector_controller(state, end_effector, end_effector_point, desired_point);\n",
    "\n",
    "# point_ctrl! = (u,t,x) -> u[:] = 0."
   ]
  },
  {
   "cell_type": "code",
   "execution_count": null,
   "metadata": {},
   "outputs": [],
   "source": [
    "# q0 = [1.0,0.0,0.0,0.0,1.0,0.0,0.25,0.000915268,0.940503,0.020397,-1.54156,0.0731173,-2.20121,0.138407]\n",
    "# v0 = vcat([0.,0.,0.,0.,0.,0.],zeros(7))\n",
    "# set_configuration!(state, q0)\n",
    "# set_velocity!(state, zeros(num_velocities(mechanism)))\n",
    "# final_time = 5.0\n",
    "# t, q, v = RigidBodyDynamics.simulate(state, final_time, point_ctrl!);"
   ]
  },
  {
   "cell_type": "code",
   "execution_count": 4,
   "metadata": {},
   "outputs": [],
   "source": [
    "q0 = [1.0,0.0,0.0,0.0,1.0,0.0,0.0, 0.000915268,0.940503,0.020397,-1.54156,0.0731173,-2.20121,0.138407]\n",
    "v0 = vcat([0.,0.,0.,0.,0.,0.],zeros(7))\n",
    "# q0 = [1.0,0.0,0.0,0.0,1.0,0.0,0.25]\n",
    "# v0 = zeros(6)\n",
    "# q0 = [1., 0., 0., 0., 0., 0., 0.0025]\n",
    "# v0 = [0., 0., 0., .25, 0. , 0.]\n",
    "\n",
    "x0 = MechanismState(mechanism)\n",
    "set_configuration!(x0, q0)\n",
    "set_velocity!(x0, v0)\n",
    "setdirty!(x0)\n",
    "Δt = 0.005\n",
    "N = 1\n",
    "\n",
    "# obstacles\n",
    "μ = 0.5\n",
    "motion_type = :xyz\n",
    "\n",
    "point = Point3D(default_frame(findbody(mechanism, \"floor\")), [0.,0.,0.])\n",
    "normal = FreeVector3D(default_frame(findbody(mechanism, \"floor\")), [0.,0.,1.])\n",
    "hs = HalfSpace(point, normal)\n",
    "floor = Obstacle(hs, μ, motion_type)\n",
    "\n",
    "point = Point3D(default_frame(findbody(mechanism, \"box\")), [-.25,0.,0.])\n",
    "normal = FreeVector3D(default_frame(findbody(mechanism, \"box\")), [-1.,0.,0.])\n",
    "hs = HalfSpace(point, normal)\n",
    "box = Obstacle(hs, μ, motion_type)\n",
    "\n",
    "obstacles = [floor,box]\n",
    "env = parse_contacts(mechanism, urdf, obstacles);"
   ]
  },
  {
   "cell_type": "code",
   "execution_count": 25,
   "metadata": {},
   "outputs": [
    {
     "name": "stdout",
     "output_type": "stream",
     "text": [
      "elapsed time: 14.847673208 seconds\n"
     ]
    },
    {
     "name": "stderr",
     "output_type": "stream",
     "text": [
      "WARNING: Method definition L(Any, Any, Any, Any, Any, Any, Any) in module Bilevel at /home/blandry/.julia/v0.6/Bilevel/src/bilevel.jl:14 overwritten at /home/blandry/.julia/v0.6/Bilevel/src/bilevel.jl:14.\n",
      "WARNING: Method definition ∇xL(Any, Any, Any, Any, Any, Any, Any) in module Bilevel at /home/blandry/.julia/v0.6/Bilevel/src/bilevel.jl:21 overwritten at /home/blandry/.julia/v0.6/Bilevel/src/bilevel.jl:21.\n",
      "WARNING: Method definition auglag_solve(Any, Any, Any, Any, Any, Any, Any, Any, Any) in module Bilevel at /home/blandry/.julia/v0.6/Bilevel/src/bilevel.jl:29 overwritten at /home/blandry/.julia/v0.6/Bilevel/src/bilevel.jl:29.\n"
     ]
    },
    {
     "name": "stdout",
     "output_type": "stream",
     "text": [
      "elapsed time: 2.546959976 seconds\n",
      "elapsed time: 2.546020172 seconds\n",
      "elapsed time: 2.485488586 seconds\n",
      "elapsed time: 2.506474002 seconds\n",
      "elapsed time: 2.647488922 seconds\n",
      "elapsed time: 2.508652591 seconds\n",
      "elapsed time: 2.726752744 seconds\n",
      "elapsed time: 2.605553914 seconds\n",
      "elapsed time: 2.57742275 seconds\n",
      "elapsed time: 2.525733022 seconds\n",
      "Solve_Succeeded\n"
     ]
    }
   ],
   "source": [
    "traj = Bilevel.simulate(x0,env,Δt,N,point_ctrl!,implicit_contact=true);\n",
    "q = [traj[1:num_positions(x0),i] for i in 1:N]\n",
    "t = cumsum([Δt for i in 1:N]);"
   ]
  },
  {
   "cell_type": "code",
   "execution_count": 32,
   "metadata": {},
   "outputs": [],
   "source": [
    "function profile_test(n)\n",
    "    for i = 1:n\n",
    "        A = randn(100,100,20)\n",
    "        m = maximum(A)\n",
    "        Am = mapslices(sum, A; dims=2)\n",
    "        B = A[:,:,5]\n",
    "        Bsort = mapslices(sort, B; dims=1)\n",
    "        b = rand(100)\n",
    "        C = B.*b\n",
    "    end\n",
    "end\n",
    "\n",
    "profile_test(1)\n",
    "Profile.clear()\n",
    "@profile profile_test(10)"
   ]
  },
  {
   "cell_type": "code",
   "execution_count": null,
   "metadata": {},
   "outputs": [],
   "source": [
    "traj_exp = Bilevel.simulate(x0,env,Δt,N,point_ctrl!,implicit_contact=false);\n",
    "q_exp = [traj_exp[1:num_positions(x0),i] for i in 1:N]\n",
    "t_exp = cumsum([Δt for i in 1:N]);"
   ]
  },
  {
   "cell_type": "code",
   "execution_count": null,
   "metadata": {},
   "outputs": [],
   "source": [
    "vis = Visualizer()\n",
    "# open(vis)\n",
    "mvis = MechanismVisualizer(mechanism, URDFVisuals(urdf), vis);"
   ]
  },
  {
   "cell_type": "code",
   "execution_count": null,
   "metadata": {},
   "outputs": [],
   "source": [
    "IJuliaCell(mvis)"
   ]
  },
  {
   "cell_type": "code",
   "execution_count": null,
   "metadata": {},
   "outputs": [],
   "source": [
    "setanimation!(mvis, t, q)"
   ]
  },
  {
   "cell_type": "code",
   "execution_count": null,
   "metadata": {},
   "outputs": [],
   "source": [
    "widget = manipulate!(mvis)"
   ]
  }
 ],
 "metadata": {
  "kernelspec": {
   "display_name": "Julia 0.6.4",
   "language": "julia",
   "name": "julia-0.6"
  },
  "language_info": {
   "file_extension": ".jl",
   "mimetype": "application/julia",
   "name": "julia",
   "version": "0.6.4"
  }
 },
 "nbformat": 4,
 "nbformat_minor": 2
}
