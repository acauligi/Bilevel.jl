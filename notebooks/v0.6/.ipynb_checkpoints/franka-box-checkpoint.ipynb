{
 "cells": [
  {
   "cell_type": "code",
   "execution_count": 1,
   "metadata": {},
   "outputs": [
    {
     "data": {
      "text/html": [
       "    <script class='js-collapse-script'>\n",
       "        var curMatch =\n",
       "            window.location.href\n",
       "            .match(/(.*?)\\/notebooks\\/.*\\.ipynb/);\n",
       "\n",
       "        curMatch = curMatch ||\n",
       "            window.location.href\n",
       "            .match(/(.*?)\\/apps\\/.*\\.ipynb/);\n",
       "\n",
       "        if ( curMatch ) {\n",
       "            $('head').append('<base href=\"' + curMatch[1] + '/\">');\n",
       "        }\n",
       "    </script>\n"
      ],
      "text/plain": [
       "HTML{String}(\"    <script class='js-collapse-script'>\\n        var curMatch =\\n            window.location.href\\n            .match(/(.*?)\\\\/notebooks\\\\/.*\\\\.ipynb/);\\n\\n        curMatch = curMatch ||\\n            window.location.href\\n            .match(/(.*?)\\\\/apps\\\\/.*\\\\.ipynb/);\\n\\n        if ( curMatch ) {\\n            \\$('head').append('<base href=\\\"' + curMatch[1] + '/\\\">');\\n        }\\n    </script>\\n\")"
      ]
     },
     "metadata": {},
     "output_type": "display_data"
    },
    {
     "data": {
      "text/html": [
       "<script class='js-collapse-script' src='/assetserver/9dd84cf97c4fc16956f39829c81f3b6907c8fc83-assets/webio/dist/bundle.js'></script>"
      ],
      "text/plain": [
       "HTML{String}(\"<script class='js-collapse-script' src='/assetserver/9dd84cf97c4fc16956f39829c81f3b6907c8fc83-assets/webio/dist/bundle.js'></script>\")"
      ]
     },
     "metadata": {},
     "output_type": "display_data"
    },
    {
     "data": {
      "text/html": [
       "<script class='js-collapse-script' src='/assetserver/9dd84cf97c4fc16956f39829c81f3b6907c8fc83-assets/providers/ijulia_setup.js'></script>"
      ],
      "text/plain": [
       "HTML{String}(\"<script class='js-collapse-script' src='/assetserver/9dd84cf97c4fc16956f39829c81f3b6907c8fc83-assets/providers/ijulia_setup.js'></script>\")"
      ]
     },
     "metadata": {},
     "output_type": "display_data"
    },
    {
     "data": {
      "text/html": [
       "  <script class='js-collapse-script'>\n",
       "    $('.js-collapse-script').parent('.output_subarea').css('padding', '0');\n",
       "  </script>\n"
      ],
      "text/plain": [
       "HTML{String}(\"  <script class='js-collapse-script'>\\n    \\$('.js-collapse-script').parent('.output_subarea').css('padding', '0');\\n  </script>\\n\")"
      ]
     },
     "metadata": {},
     "output_type": "display_data"
    },
    {
     "name": "stderr",
     "output_type": "stream",
     "text": [
      "\u001b[1m\u001b[36mINFO: \u001b[39m\u001b[22m\u001b[36mLoading HttpServer methods...\n",
      "\u001b[39m"
     ]
    }
   ],
   "source": [
    "using Revise\n",
    "using MeshCat\n",
    "using RigidBodyDynamics\n",
    "using RigidBodyDynamics: Bounds\n",
    "using MeshCatMechanisms\n",
    "using Bilevel\n",
    "using GeometryTypes"
   ]
  },
  {
   "cell_type": "code",
   "execution_count": 2,
   "metadata": {},
   "outputs": [
    {
     "data": {
      "text/plain": [
       "6-element Array{RigidBodyDynamics.Bounds{Float64},1}:\n",
       " (-100.0, 100.0)\n",
       " (-100.0, 100.0)\n",
       " (-100.0, 100.0)\n",
       " (-100.0, 100.0)\n",
       " (-100.0, 100.0)\n",
       " (-100.0, 100.0)"
      ]
     },
     "execution_count": 2,
     "metadata": {},
     "output_type": "execute_result"
    }
   ],
   "source": [
    "urdf = joinpath(\"..\", \"urdf\", \"panda\", \"panda_arm_box.urdf\")\n",
    "mechanism = parse_urdf(Float64, urdf)\n",
    "box = findbody(mechanism, \"box\")\n",
    "basejoint = joint_to_parent(box, mechanism)\n",
    "floatingjoint = Joint(basejoint.name, frame_before(basejoint), frame_after(basejoint), QuaternionFloating{Float64}())\n",
    "replace_joint!(mechanism, basejoint, floatingjoint)\n",
    "position_bounds(floatingjoint) .= Bounds(-100, 100)\n",
    "velocity_bounds(floatingjoint) .= Bounds(-100, 100);"
   ]
  },
  {
   "cell_type": "code",
   "execution_count": 3,
   "metadata": {},
   "outputs": [],
   "source": [
    "function make_end_effector_controller(state::MechanismState,\n",
    "                                      end_effector::RigidBody,\n",
    "                                      end_effector_point::Point3D,\n",
    "                                      desired_point::Point3D)\n",
    "    \n",
    "    mechanism = state.mechanism\n",
    "    v̇ = similar(velocity(state))\n",
    "    \n",
    "    joint_path = path(mechanism, root_body(mechanism), end_effector) # from root to end effector\n",
    "    Jp = point_jacobian(state, joint_path, transform(state, end_effector_point, root_frame(mechanism)))\n",
    "        \n",
    "    function controller!(τ, t, state)\n",
    "        ef_point_in_world = transform_to_root(state, end_effector) * end_effector_point\n",
    "        point_jacobian!(Jp, state, joint_path, ef_point_in_world)\n",
    "        des_point_in_world = transform(state, desired_point, root_frame(mechanism))\n",
    "        Kp = 100.\n",
    "        Kd = 10.\n",
    "        Δp = des_point_in_world - ef_point_in_world\n",
    "        v̇ .= Kp * Array(Jp)' * Δp.v .- Kd .* velocity(state)\n",
    "        τ .= inverse_dynamics(state, v̇)\n",
    "        τ[1:7] .= 0. # the box\n",
    "    end\n",
    "end\n",
    "\n",
    "state = MechanismState(mechanism)\n",
    "desired_point_v = [1., 0., .25]\n",
    "end_effector = findbody(mechanism, \"panda_link8\")\n",
    "end_effector_point = Point3D(default_frame(end_effector), [0.,0.,0.])\n",
    "desired_point = Point3D(root_frame(mechanism), desired_point_v)\n",
    "point_ctrl! = make_end_effector_controller(state, end_effector, end_effector_point, desired_point);"
   ]
  },
  {
   "cell_type": "code",
   "execution_count": null,
   "metadata": {},
   "outputs": [],
   "source": [
    "# q0 = [1.0,0.0,0.0,0.0,1.0,0.0,0.25,0.000915268,0.940503,0.020397,-1.54156,0.0731173,-2.20121,0.138407]\n",
    "# v0 = vcat([0.,0.,0.,0.,0.,0.],zeros(7))\n",
    "# set_configuration!(state, q0)\n",
    "# set_velocity!(state, zeros(num_velocities(mechanism)))\n",
    "# final_time = 5.0\n",
    "# t, q, v = RigidBodyDynamics.simulate(state, final_time, point_ctrl!);"
   ]
  },
  {
   "cell_type": "code",
   "execution_count": 4,
   "metadata": {},
   "outputs": [],
   "source": [
    "q0 = [1.0,0.0,0.0,0.0,1.0,0.0,0.25,0.000915268,0.940503,0.020397,-1.54156,0.0731173,-2.20121,0.138407]\n",
    "v0 = vcat([0.,0.,0.,0.,0.,0.],zeros(7))\n",
    "x0 = MechanismState(mechanism)\n",
    "set_configuration!(x0, q0)\n",
    "set_velocity!(x0, v0)\n",
    "Δt = 0.01\n",
    "N = 10 #250\n",
    "\n",
    "# obstacles\n",
    "μ = 0.01\n",
    "motion_type = :xyz\n",
    "\n",
    "point = Point3D(default_frame(findbody(mechanism, \"floor\")), [0.,0.,0.])\n",
    "normal = FreeVector3D(default_frame(findbody(mechanism, \"floor\")), [0.,0.,1.])\n",
    "hs = HalfSpace(point, normal)\n",
    "floor = Obstacle(hs, μ, motion_type)\n",
    "\n",
    "point = Point3D(default_frame(findbody(mechanism, \"box\")), [-.25,0.,0.])\n",
    "normal = FreeVector3D(default_frame(findbody(mechanism, \"box\")), [-1.,0.,0.])\n",
    "hs = HalfSpace(point, normal)\n",
    "box = Obstacle(hs, μ, motion_type)\n",
    "\n",
    "obstacles = [floor,box]\n",
    "env = parse_contacts(mechanism, urdf, obstacles);"
   ]
  },
  {
   "cell_type": "code",
   "execution_count": null,
   "metadata": {},
   "outputs": [],
   "source": [
    "traj = Bilevel.simulate(x0,env,Δt,N,point_ctrl!,implicit_contact=true);\n",
    "q = [traj[1:num_positions(x0),i] for i in 1:N]\n",
    "t = cumsum([Δt for i in 1:N]);"
   ]
  },
  {
   "cell_type": "code",
   "execution_count": null,
   "metadata": {},
   "outputs": [],
   "source": [
    "vis = Visualizer()\n",
    "open(vis)\n",
    "mvis = MechanismVisualizer(mechanism, URDFVisuals(urdf), vis);"
   ]
  },
  {
   "cell_type": "code",
   "execution_count": null,
   "metadata": {},
   "outputs": [],
   "source": [
    "setanimation!(mvis, t, q)"
   ]
  },
  {
   "cell_type": "code",
   "execution_count": null,
   "metadata": {},
   "outputs": [],
   "source": [
    "widget = manipulate!(mvis)"
   ]
  }
 ],
 "metadata": {
  "kernelspec": {
   "display_name": "Julia 0.6.4",
   "language": "julia",
   "name": "julia-0.6"
  },
  "language_info": {
   "file_extension": ".jl",
   "mimetype": "application/julia",
   "name": "julia",
   "version": "0.6.4"
  }
 },
 "nbformat": 4,
 "nbformat_minor": 2
}
