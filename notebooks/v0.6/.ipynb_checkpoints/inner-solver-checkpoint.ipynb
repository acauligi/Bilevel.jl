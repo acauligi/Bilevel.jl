{
 "cells": [
  {
   "cell_type": "code",
   "execution_count": 2,
   "metadata": {},
   "outputs": [],
   "source": [
    "using Revise\n",
    "\n",
    "using RigidBodyDynamics\n",
    "using RigidBodyDynamics: Bounds\n",
    "\n",
    "using Plots\n",
    "using Bilevel"
   ]
  },
  {
   "cell_type": "code",
   "execution_count": 3,
   "metadata": {},
   "outputs": [],
   "source": [
    "urdf = joinpath(\"..\", \"urdf\", \"ball.urdf\")\n",
    "mechanism = parse_urdf(Float64, urdf)\n",
    "body = findbody(mechanism, \"ball\")\n",
    "basejoint = joint_to_parent(body, mechanism)\n",
    "floatingjoint = Joint(basejoint.name, frame_before(basejoint), frame_after(basejoint), QuaternionFloating{Float64}())\n",
    "replace_joint!(mechanism, basejoint, floatingjoint)\n",
    "position_bounds(floatingjoint) .= Bounds(-100, 100)\n",
    "velocity_bounds(floatingjoint) .= Bounds(-100, 100)\n",
    "μ = 0.5\n",
    "motion_type = :xyz\n",
    "point = Point3D(default_frame(findbody(mechanism, \"floor\")), [0.,0.,0.])\n",
    "normal = FreeVector3D(default_frame(findbody(mechanism, \"floor\")), [0.,0.,1.])\n",
    "hs = HalfSpace(point, normal)\n",
    "floor = Obstacle(hs, μ, motion_type)\n",
    "obstacles = [floor]\n",
    "env = parse_contacts(mechanism, urdf, obstacles)\n",
    "x0 = MechanismState(mechanism)\n",
    "Δt = 0.005\n",
    "sim_data = get_sim_data(x0,env,Δt,true);"
   ]
  },
  {
   "cell_type": "code",
   "execution_count": 4,
   "metadata": {},
   "outputs": [
    {
     "name": "stdout",
     "output_type": "stream",
     "text": [
      "elapsed time: 24.814369673 seconds\n",
      "elapsed time: 0.004541149 seconds\n",
      "\n",
      "******************************************************************************\n",
      "This program contains Ipopt, a library for large-scale nonlinear optimization.\n",
      " Ipopt is released as open source code under the Eclipse Public License (EPL).\n",
      "         For more information visit http://projects.coin-or.org/Ipopt\n",
      "******************************************************************************\n",
      "\n",
      "elapsed time: 0.004179815 seconds\n",
      "elapsed time: 0.004352532 seconds\n",
      "elapsed time: 0.004039058 seconds\n",
      "elapsed time: 0.004028898 seconds\n",
      "elapsed time: 0.004087509 seconds\n",
      "elapsed time: 0.004229479 seconds\n",
      "elapsed time: 0.004097829 seconds\n",
      "elapsed time: 0.004065167 seconds\n",
      "elapsed time: 0.004213569 seconds\n",
      "elapsed time: 0.00396139 seconds\n",
      "elapsed time: 0.004109481 seconds\n",
      "elapsed time: 0.004000725 seconds\n",
      "elapsed time: 0.004218107 seconds\n",
      "elapsed time: 0.003978102 seconds\n",
      "elapsed time: 0.003982691 seconds\n",
      "elapsed time: 0.003975817 seconds\n",
      "elapsed time: 0.004423566 seconds\n",
      "elapsed time: 0.004176829 seconds\n",
      "elapsed time: 0.003986147 seconds\n",
      "Solve_Succeeded\n"
     ]
    },
    {
     "data": {
      "text/plain": [
       "\"Explicit\""
      ]
     },
     "metadata": {},
     "output_type": "display_data"
    },
    {
     "data": {
      "text/plain": [
       "6-element Array{Float64,1}:\n",
       " 2.34941e-8\n",
       " 5.19883e-8\n",
       " 0.500003  \n",
       " 5.19883e-8\n",
       " 0.0877374 \n",
       " 1.00001   "
      ]
     },
     "metadata": {},
     "output_type": "display_data"
    },
    {
     "data": {
      "text/plain": [
       "\"IP\""
      ]
     },
     "metadata": {},
     "output_type": "display_data"
    },
    {
     "data": {
      "text/plain": [
       "6-element Array{Float64,1}:\n",
       " 0.0\n",
       " 0.0\n",
       " 0.0\n",
       " 0.0\n",
       " 0.0\n",
       " 0.0"
      ]
     },
     "metadata": {},
     "output_type": "display_data"
    },
    {
     "data": {
      "text/plain": [
       "\"Aug Lag\""
      ]
     },
     "metadata": {},
     "output_type": "display_data"
    },
    {
     "data": {
      "text/plain": [
       "6-element Array{Float64,1}:\n",
       " 5.21715e-9\n",
       " 1.06838e-8\n",
       " 0.500003  \n",
       " 1.06525e-8\n",
       " 0.0877374 \n",
       " 1.00001   "
      ]
     },
     "metadata": {},
     "output_type": "display_data"
    },
    {
     "data": {
      "text/plain": [
       "\"torques\""
      ]
     },
     "metadata": {},
     "output_type": "display_data"
    },
    {
     "data": {
      "text/plain": [
       "6-element Array{Float64,1}:\n",
       " 0.0\n",
       " 0.0\n",
       " 0.0\n",
       " 0.0\n",
       " 0.0\n",
       " 0.0"
      ]
     },
     "metadata": {},
     "output_type": "display_data"
    },
    {
     "data": {
      "text/plain": [
       "6-element Array{Float64,1}:\n",
       "  0.0        \n",
       "  0.0        \n",
       "  0.0        \n",
       "  4.90503    \n",
       " -3.06562e-10\n",
       " -9.81006    "
      ]
     },
     "metadata": {},
     "output_type": "display_data"
    },
    {
     "name": "stdout",
     "output_type": "stream",
     "text": [
      "Not_Enough_Degrees_Of_Freedom\n"
     ]
    }
   ],
   "source": [
    "q0 = [1., 0., 0., 0., 0., 0., 0.]\n",
    "v0 = [0., 0., 0., 0.1, 0., 0.]\n",
    "\n",
    "u0 = zeros(sim_data.num_v)\n",
    "set_configuration!(x0, q0)\n",
    "set_velocity!(x0, v0)\n",
    "setdirty!(x0)\n",
    "ctrl! = (u,t,x) -> u[:] = 0.\n",
    "traj = Bilevel.simulate(x0,env,sim_data.Δt,1,ctrl!,implicit_contact=false)\n",
    "qnext = traj[1:sim_data.num_q,2]\n",
    "vnext = traj[sim_data.num_q+1:sim_data.num_q+sim_data.num_v,2]\n",
    "x_sol_exp = traj[sim_data.num_q+sim_data.num_v+2:end,2]\n",
    "\n",
    "# qnext = q0\n",
    "# vnext = v0\n",
    "\n",
    "τ_ip, x_sol_ip, λ_ip, μ_ip, fx_ip = solve_implicit_contact_τ(sim_data,q0,v0,u0,qnext,vnext,ip_method=true);\n",
    "\n",
    "τ_auglag, x_sol_auglag, λ_auglag, μ_auglag, fx_auglag = solve_implicit_contact_τ(sim_data,q0,v0,u0,qnext,vnext,ip_method=false);\n",
    "\n",
    "display(\"Explicit\")\n",
    "display(x_sol_exp)\n",
    "display(\"IP\")\n",
    "display(x_sol_ip)\n",
    "display(\"Aug Lag\")\n",
    "display(x_sol_auglag)\n",
    "\n",
    "display(\"torques\")\n",
    "display(τ_ip)\n",
    "display(τ_auglag)"
   ]
  },
  {
   "cell_type": "code",
   "execution_count": 58,
   "metadata": {},
   "outputs": [
    {
     "data": {
      "text/plain": [
       "6×13 Array{Float64,2}:\n",
       " 0.0  -0.0122564     0.0122564   …    0.999501    0.999502   0.499752  \n",
       " 0.0  -0.0122561     0.0122561        0.999477    0.999477   0.499739  \n",
       " 0.0  -0.0906845     0.0906845      -12.9921      7.39527    3.69764   \n",
       " 0.0  -0.0906842     0.0906842        7.39525   -12.9921     3.69763   \n",
       " 0.0   2.34523e-10  -2.3597e-10       0.5         0.5       -1.45653e-8\n",
       " 0.0  -0.460786      0.460786    …   -3.19788    -3.19788   18.7884    "
      ]
     },
     "execution_count": 58,
     "metadata": {},
     "output_type": "execute_result"
    }
   ],
   "source": [
    "J_auto = ForwardDiff.jacobian(qv -> solve_implicit_contact_τ(sim_data,q0,v0,u0,qv[1:sim_data.num_q],qv[sim_data.num_q+1:sim_data.num_q+sim_data.num_v],ip_method=false)[2], vcat(qnext,vnext))"
   ]
  },
  {
   "cell_type": "code",
   "execution_count": 37,
   "metadata": {},
   "outputs": [
    {
     "data": {
      "text/plain": [
       "6×13 Array{Float64,2}:\n",
       " 0.0  -2.0317e-9    0.0419092   …    1.70884  -1.77554e-7   0.854418  \n",
       " 0.0  -1.8282e-8    0.0838182        3.41766   4.66776      1.70883   \n",
       " 0.0  -4.46787e-9   0.240365       -10.5865   -1.53171e-6   4.90042   \n",
       " 0.0   1.84168e-8   0.0838182        3.41766  -4.66776      1.70883   \n",
       " 0.0   5.20931e-10  2.68641e-9       1.0      -2.51861e-8  -1.59267e-8\n",
       " 0.0  -8.58499e-9   0.900771    …   -4.046     6.45071e-7  18.3644    "
      ]
     },
     "metadata": {},
     "output_type": "display_data"
    },
    {
     "data": {
      "text/plain": [
       "6×13 Array{Float64,2}:\n",
       " 0.0  -0.00389021   0.0189988    -0.00817128  …   0.000689012   0.835957   \n",
       " 0.0   0.00893744   0.0929382    -0.224206        4.66265       1.7171     \n",
       " 0.0  -0.0050733    0.245688      0.00986436      0.00658301    4.91052    \n",
       " 0.0  -0.000865491  0.0856733     0.22097        -4.67645       1.71142    \n",
       " 0.0  -0.000229972  0.000164535   0.00178606      0.00166126    0.000688162\n",
       " 0.0  -0.00539515   0.889179     -0.00507381  …  -0.0130828    18.3684     "
      ]
     },
     "metadata": {},
     "output_type": "display_data"
    }
   ],
   "source": [
    "τ_auglag, x_sol_auglag, λ_auglag, μ_auglag, fx_auglag = solve_implicit_contact_τ(sim_data,q0,v0,u0,qnext,vnext,ip_method=false);\n",
    "\n",
    "# autodiff \n",
    "J_auto = ForwardDiff.jacobian(qv -> solve_implicit_contact_τ(sim_data,q0,v0,u0,qv[1:sim_data.num_q],qv[sim_data.num_q+1:sim_data.num_q+sim_data.num_v],ip_method=false)[2], vcat(qnext,vnext))\n",
    "# Jt_auto = ForwardDiff.jacobian(qv -> solve_implicit_contact_τ(sim_data,q0,v0,u0,qv[1:sim_data.num_q],qv[sim_data.num_q+1:sim_data.num_q+sim_data.num_v],ip_method=false)[1], vcat(qnext,vnext))\n",
    "\n",
    "# numerical\n",
    "ϵ = 1e-8\n",
    "J_num = zeros(size(J_auto))\n",
    "# Jt_num = zeros(size(J_auto))\n",
    "# Jt_num_ip = zeros(size(J_auto))\n",
    "qv = vcat(qnext,vnext)\n",
    "for i = 1:length(qv)\n",
    "    δ = zeros(length(qv))\n",
    "    δ[i] = ϵ \n",
    "    τ, x, λ, μ, fx = solve_implicit_contact_τ(sim_data,q0,v0,u0,(qv+δ)[1:sim_data.num_q],(qv+δ)[sim_data.num_q+1:sim_data.num_q+sim_data.num_v],ip_method=false)\n",
    "    J_num[:,i] = (x - x_sol_auglag)/ϵ\n",
    "#     Jt_num[:,i] = (τ - τ_auglag)/ϵ\n",
    "#     τ, x, λ, μ, fx = solve_implicit_contact_τ(sim_data,q0,v0,u0,(qv+δ)[1:sim_data.num_q],(qv+δ)[sim_data.num_q+1:sim_data.num_q+sim_data.num_v],ip_method=true)\n",
    "#     Jt_num_ip[:,i] = (τ - τ_auglag)/ϵ\n",
    "end\n",
    "\n",
    "display(J_auto)\n",
    "display(J_num)\n",
    "\n",
    "# display(Jt_auto)\n",
    "# display(Jt_num)\n",
    "# display(Jt_num_ip)"
   ]
  },
  {
   "cell_type": "code",
   "execution_count": 36,
   "metadata": {},
   "outputs": [
    {
     "data": {
      "text/plain": [
       "6×13 Array{Float64,2}:\n",
       " 0.0  -2.66371e-9    0.041909     …    1.70883  -2.55858e-6   0.854414  \n",
       " 0.0  -1.7208e-8     0.0838183         3.41767   4.66777      1.70883   \n",
       " 0.0  -2.65416e-8    0.240365        -10.5865   -1.46727e-5   4.90042   \n",
       " 0.0   7.27417e-9    0.0838181         3.41766  -4.66774      1.70883   \n",
       " 0.0   1.12996e-10  -3.87681e-10       1.0      -5.35341e-9  -3.94319e-8\n",
       " 0.0  -7.98513e-8    0.900771     …   -4.04601   6.06338e-6  18.3644    "
      ]
     },
     "metadata": {},
     "output_type": "display_data"
    },
    {
     "data": {
      "text/plain": [
       "6×13 Array{Float64,2}:\n",
       " 0.0  -0.000943053   0.0377401    -0.00695856  …  -0.0059646    0.842861   \n",
       " 0.0   0.00141541    0.0841931    -0.23106         4.67418      1.7125     \n",
       " 0.0  -0.00397753    0.233688      0.0137627       0.00101429   4.89938    \n",
       " 0.0   0.00480142    0.0861786     0.2209         -4.66442      1.71835    \n",
       " 0.0  -0.000216623  -0.000396977   0.00192992      0.00187081  -0.000515939\n",
       " 0.0   0.000233757   0.886196     -0.00758604  …   0.00823586  18.3675     "
      ]
     },
     "metadata": {},
     "output_type": "display_data"
    },
    {
     "name": "stderr",
     "output_type": "stream",
     "text": [
      "WARNING: Method definition solve_implicit_contact_τ(Any, Any, Any, Any, Any, Any, Any, Any, Any, Any) in module Bilevel at /Users/blandry/.julia/v0.6/Bilevel/src/contact.jl:141 overwritten at /Users/blandry/.julia/v0.6/Bilevel/src/contact.jl:142.\n",
      "WARNING: Method definition #solve_implicit_contact_τ(Array{Any, 1}, typeof(Bilevel.solve_implicit_contact_τ), Any, Any, Any, Any, Any, Any, Any, Any, Any, Any) in module Bilevel overwritten.\n"
     ]
    }
   ],
   "source": [
    "display(J_auto)\n",
    "display(J_num)"
   ]
  },
  {
   "cell_type": "code",
   "execution_count": 40,
   "metadata": {},
   "outputs": [
    {
     "data": {
      "text/plain": [
       "6×6 Array{Float64,2}:\n",
       " 0.0  0.0  -2.05647e-10   2.19791e-16  -0.000322436  -9.83194e-11\n",
       " 0.0  0.0  -4.13323e-10  -2.66586e-11  -0.000644871   0.0017615  \n",
       " 0.0  0.0  -1.20477e-9    6.16206e-15  -0.0018493    -5.80304e-10\n",
       " 0.0  0.0  -4.10356e-10   2.66481e-11  -0.00064487   -0.0017615  \n",
       " 0.0  0.0  -4.24756e-13   1.87721e-17   6.0039e-12   -9.83364e-12\n",
       " 0.0  0.0  -4.4723e-9    -8.34799e-15  -0.00693025    2.2827e-10 "
      ]
     },
     "metadata": {},
     "output_type": "display_data"
    },
    {
     "data": {
      "text/plain": [
       "6×6 Array{Float64,2}:\n",
       " 0.0  0.0  -0.00435328   -0.00926907   -0.0070735    -0.00340542 \n",
       " 0.0  0.0   0.00434015   -0.00327026    0.00381036    0.00741166 \n",
       " 0.0  0.0  -0.00288652    0.00878751   -0.00310972   -0.00292666 \n",
       " 0.0  0.0  -0.00740216   -0.000392491   0.00351041   -0.0013809  \n",
       " 0.0  0.0   0.000146949   0.000392512  -0.000396957   0.000250959\n",
       " 0.0  0.0  -0.0231815    -0.00738357   -0.00305753   -0.000421307"
      ]
     },
     "metadata": {},
     "output_type": "display_data"
    }
   ],
   "source": [
    "display(J_auto[:,5:10])\n",
    "display(J_num[:,5:10])\n",
    "# display(Jt_num_ip[:,11:13])"
   ]
  },
  {
   "cell_type": "code",
   "execution_count": null,
   "metadata": {
    "collapsed": true
   },
   "outputs": [],
   "source": [
    " (J_num[:,1] - x_sol_auglag)/ϵ"
   ]
  },
  {
   "cell_type": "code",
   "execution_count": 63,
   "metadata": {},
   "outputs": [
    {
     "data": {
      "text/plain": [
       "0.027098530150311717"
      ]
     },
     "execution_count": 63,
     "metadata": {},
     "output_type": "execute_result"
    }
   ],
   "source": [
    "maximum(abs.(J_auto-J_num))"
   ]
  },
  {
   "cell_type": "code",
   "execution_count": null,
   "metadata": {
    "collapsed": true
   },
   "outputs": [],
   "source": [
    "abs.(J_auto-J_num)"
   ]
  },
  {
   "cell_type": "code",
   "execution_count": null,
   "metadata": {
    "collapsed": true
   },
   "outputs": [],
   "source": [
    "J_num"
   ]
  },
  {
   "cell_type": "code",
   "execution_count": null,
   "metadata": {
    "collapsed": true
   },
   "outputs": [],
   "source": [
    "J_auto"
   ]
  }
 ],
 "metadata": {
  "kernelspec": {
   "display_name": "Julia 0.6.4",
   "language": "julia",
   "name": "julia-0.6"
  },
  "language_info": {
   "file_extension": ".jl",
   "mimetype": "application/julia",
   "name": "julia",
   "version": "0.6.4"
  }
 },
 "nbformat": 4,
 "nbformat_minor": 2
}
