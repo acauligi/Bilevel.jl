{
 "cells": [
  {
   "cell_type": "code",
   "execution_count": 6,
   "metadata": {
    "collapsed": true
   },
   "outputs": [],
   "source": [
    "using Revise\n",
    "using Bilevel"
   ]
  },
  {
   "cell_type": "code",
   "execution_count": 25,
   "metadata": {
    "collapsed": false
   },
   "outputs": [
    {
     "data": {
      "text/plain": [
       "4-element Array{Float64,1}:\n",
       "  88.7849  \n",
       "   0.231532\n",
       " -14.58    \n",
       " -10.5938  "
      ]
     },
     "execution_count": 25,
     "metadata": {},
     "output_type": "execute_result"
    }
   ],
   "source": [
    "z0 = rand(4)*200. - 100."
   ]
  },
  {
   "cell_type": "code",
   "execution_count": 36,
   "metadata": {
    "collapsed": false
   },
   "outputs": [
    {
     "data": {
      "text/plain": [
       "10-element Array{Float64,1}:\n",
       " -0.99976  \n",
       " -0.0219076\n",
       " -0.0219076\n",
       "  0.99976  \n",
       " 89.9954   \n",
       " 10.4138   \n",
       " -0.986369 \n",
       "  0.164549 \n",
       " -0.164549 \n",
       " -0.986369 "
      ]
     },
     "metadata": {},
     "output_type": "display_data"
    },
    {
     "data": {
      "text/plain": [
       "10×4 Array{Float64,2}:\n",
       " -1.00285e-5    0.000243209  -2.72655e-5  -4.12069e-5 \n",
       "  0.000457656  -0.0110989     0.00124427   0.00188049 \n",
       "  0.000457656  -0.0110989     0.00124427   0.00188049 \n",
       "  1.00285e-5   -0.000243209   2.72655e-5   4.12069e-5 \n",
       "  0.986132      0.0216089    -0.164509    -0.00360486 \n",
       "  0.00360486   -0.164509      0.0216089   -0.986132   \n",
       " -0.000309507   0.000204792  -0.00182675  -7.53248e-5 \n",
       " -0.00185531    0.0012276    -0.0109503   -0.000451526\n",
       "  0.00185531   -0.0012276     0.0109503    0.000451526\n",
       " -0.000309507   0.000204792  -0.00182675  -7.53248e-5 "
      ]
     },
     "metadata": {},
     "output_type": "display_data"
    },
    {
     "data": {
      "text/plain": [
       "10×4 Array{Float64,2}:\n",
       " -1.00289e-5    0.000243209  -2.72651e-5  -4.12069e-5 \n",
       "  0.000457656  -0.0110989     0.00124427   0.00188049 \n",
       "  0.000457656  -0.0110989     0.00124427   0.00188049 \n",
       "  1.00286e-5   -0.000243209   2.72652e-5   4.12068e-5 \n",
       "  0.986132      0.021609     -0.164509    -0.00360488 \n",
       "  0.00360486   -0.164509      0.0216089   -0.986132   \n",
       " -0.000309507   0.000204792  -0.00182675  -7.53247e-5 \n",
       " -0.00185531    0.0012276    -0.0109503   -0.000451526\n",
       "  0.00185531   -0.0012276     0.0109503    0.000451526\n",
       " -0.000309507   0.000204792  -0.00182675  -7.53247e-5 "
      ]
     },
     "metadata": {},
     "output_type": "display_data"
    },
    {
     "data": {
      "text/plain": [
       "1.9226678392610108e-8"
      ]
     },
     "metadata": {},
     "output_type": "display_data"
    }
   ],
   "source": [
    "function f(a)\n",
    "    n = Int(sqrt(length(a)))\n",
    "    A = reshape(a,n,n)\n",
    "    U,s,V = svd(A)\n",
    "    return vcat(U[:],s[:],V[:])\n",
    "end\n",
    "\n",
    "sol = f(z0)\n",
    "\n",
    "# autodiff \n",
    "J_auto = ForwardDiff.jacobian(f,z0)\n",
    "\n",
    "# # numerical\n",
    "ϵ = 1e-8\n",
    "J_num = zeros(size(J_auto))\n",
    "for i = 1:length(z0)\n",
    "    δ = zeros(length(z0))\n",
    "    δ[i] = ϵ\n",
    "    J_num[:,i] = (f(z0 + δ) - sol)/ϵ\n",
    "end\n",
    "\n",
    "display(sol)\n",
    "display(J_auto)\n",
    "display(J_num)\n",
    "\n",
    "err = maximum(abs.(J_auto - J_num))\n",
    "display(err)"
   ]
  }
 ],
 "metadata": {
  "kernelspec": {
   "display_name": "Julia 0.6.4",
   "language": "julia",
   "name": "julia-0.6"
  },
  "language_info": {
   "file_extension": ".jl",
   "mimetype": "application/julia",
   "name": "julia",
   "version": "0.6.4"
  }
 },
 "nbformat": 4,
 "nbformat_minor": 2
}
