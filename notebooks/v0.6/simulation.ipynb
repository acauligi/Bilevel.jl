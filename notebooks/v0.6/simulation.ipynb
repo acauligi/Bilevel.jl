{
 "cells": [
  {
   "cell_type": "code",
   "execution_count": 1,
   "metadata": {},
   "outputs": [
    {
     "data": {
      "text/html": [
       "    <script class='js-collapse-script'>\n",
       "        var curMatch =\n",
       "            window.location.href\n",
       "            .match(/(.*?)\\/notebooks\\/.*\\.ipynb/);\n",
       "\n",
       "        curMatch = curMatch ||\n",
       "            window.location.href\n",
       "            .match(/(.*?)\\/apps\\/.*\\.ipynb/);\n",
       "\n",
       "        if ( curMatch ) {\n",
       "            $('head').append('<base href=\"' + curMatch[1] + '/\">');\n",
       "        }\n",
       "    </script>\n"
      ],
      "text/plain": [
       "HTML{String}(\"    <script class='js-collapse-script'>\\n        var curMatch =\\n            window.location.href\\n            .match(/(.*?)\\\\/notebooks\\\\/.*\\\\.ipynb/);\\n\\n        curMatch = curMatch ||\\n            window.location.href\\n            .match(/(.*?)\\\\/apps\\\\/.*\\\\.ipynb/);\\n\\n        if ( curMatch ) {\\n            \\$('head').append('<base href=\\\"' + curMatch[1] + '/\\\">');\\n        }\\n    </script>\\n\")"
      ]
     },
     "metadata": {},
     "output_type": "display_data"
    },
    {
     "data": {
      "text/html": [
       "<script class='js-collapse-script' src='/assetserver/9dd84cf97c4fc16956f39829c81f3b6907c8fc83-assets/webio/dist/bundle.js'></script>"
      ],
      "text/plain": [
       "HTML{String}(\"<script class='js-collapse-script' src='/assetserver/9dd84cf97c4fc16956f39829c81f3b6907c8fc83-assets/webio/dist/bundle.js'></script>\")"
      ]
     },
     "metadata": {},
     "output_type": "display_data"
    },
    {
     "data": {
      "text/html": [
       "<script class='js-collapse-script' src='/assetserver/9dd84cf97c4fc16956f39829c81f3b6907c8fc83-assets/providers/ijulia_setup.js'></script>"
      ],
      "text/plain": [
       "HTML{String}(\"<script class='js-collapse-script' src='/assetserver/9dd84cf97c4fc16956f39829c81f3b6907c8fc83-assets/providers/ijulia_setup.js'></script>\")"
      ]
     },
     "metadata": {},
     "output_type": "display_data"
    },
    {
     "data": {
      "text/html": [
       "  <script class='js-collapse-script'>\n",
       "    $('.js-collapse-script').parent('.output_subarea').css('padding', '0');\n",
       "  </script>\n"
      ],
      "text/plain": [
       "HTML{String}(\"  <script class='js-collapse-script'>\\n    \\$('.js-collapse-script').parent('.output_subarea').css('padding', '0');\\n  </script>\\n\")"
      ]
     },
     "metadata": {},
     "output_type": "display_data"
    }
   ],
   "source": [
    "using Revise\n",
    "\n",
    "using RigidBodyDynamics\n",
    "using RigidBodyDynamics: Bounds\n",
    "\n",
    "using DrakeVisualizer\n",
    "using Plots\n",
    "using RigidBodyTreeInspector\n",
    "\n",
    "using BilevelTrajOpt\n",
    "gr(size=(500,500), html_output_format=:png);"
   ]
  },
  {
   "cell_type": "code",
   "execution_count": 2,
   "metadata": {},
   "outputs": [],
   "source": [
    "urdf = joinpath(\"..\", \"urdf\", \"ball.urdf\")\n",
    "mechanism = parse_urdf(Float64, urdf)\n",
    "body = findbody(mechanism, \"ball\")\n",
    "basejoint = joint_to_parent(body, mechanism)\n",
    "floatingjoint = Joint(basejoint.name, frame_before(basejoint), frame_after(basejoint), QuaternionFloating{Float64}())\n",
    "replace_joint!(mechanism, basejoint, floatingjoint)\n",
    "position_bounds(floatingjoint) .= Bounds(-100, 100)\n",
    "velocity_bounds(floatingjoint) .= Bounds(-100, 100)\n",
    "μ = 0.5\n",
    "motion_type = :xyz\n",
    "point = Point3D(default_frame(findbody(mechanism, \"floor\")), [0.,0.,0.])\n",
    "normal = FreeVector3D(default_frame(findbody(mechanism, \"floor\")), [0.,0.,1.])\n",
    "hs = HalfSpace(point, normal)\n",
    "floor = Obstacle(hs, μ, motion_type)\n",
    "obstacles = [floor]\n",
    "env = parse_contacts(mechanism, urdf, obstacles)\n",
    "x0 = MechanismState(mechanism)\n",
    "Δt = 0.005;"
   ]
  },
  {
   "cell_type": "code",
   "execution_count": 3,
   "metadata": {},
   "outputs": [
    {
     "data": {
      "text/plain": [
       "(::#1) (generic function with 1 method)"
      ]
     },
     "execution_count": 3,
     "metadata": {},
     "output_type": "execute_result"
    }
   ],
   "source": [
    "# q0 = [1., 0., 0., 0., 0., 0., 0.005]\n",
    "q0 = [1., 0., 0., 0., 0., 0., 0.]\n",
    "v0 = [0., 0., 0., 0.1, 0. , 0.]\n",
    "N = 5\n",
    "\n",
    "set_configuration!(x0, q0)\n",
    "set_velocity!(x0, v0)\n",
    "setdirty!(x0)\n",
    "\n",
    "ctrl! = (u,t,x) -> u[:] = 0."
   ]
  },
  {
   "cell_type": "code",
   "execution_count": 4,
   "metadata": {
    "scrolled": false
   },
   "outputs": [
    {
     "data": {
      "text/plain": [
       "19-element Array{Float64,1}:\n",
       " 1.0\n",
       " 0.0\n",
       " 0.0\n",
       " 0.0\n",
       " 0.0\n",
       " 0.0\n",
       " 0.0\n",
       " 0.0\n",
       " 0.0\n",
       " 0.0\n",
       " 0.1\n",
       " 0.0\n",
       " 0.0\n",
       " 0.0\n",
       " 0.0\n",
       " 0.0\n",
       " 0.0\n",
       " 0.0\n",
       " 0.0"
      ]
     },
     "metadata": {},
     "output_type": "display_data"
    },
    {
     "data": {
      "text/plain": [
       "6-element Array{Float64,1}:\n",
       "  0.0        \n",
       "  0.0        \n",
       "  0.0        \n",
       "  2.47086    \n",
       " -8.79433e-10\n",
       " -8.57413    "
      ]
     },
     "metadata": {},
     "output_type": "display_data"
    },
    {
     "data": {
      "text/plain": [
       "6-element Array{Float64,1}:\n",
       "  0.0        \n",
       "  0.0        \n",
       "  0.0        \n",
       "  2.47086    \n",
       " -8.79433e-10\n",
       " -8.57413    "
      ]
     },
     "metadata": {},
     "output_type": "display_data"
    },
    {
     "name": "stdout",
     "output_type": "stream",
     "text": [
      "Implicit Contacts\n"
     ]
    },
    {
     "data": {
      "text/plain": [
       "19-element Array{Float64,1}:\n",
       " 1.0\n",
       " 0.0\n",
       " 0.0\n",
       " 0.0\n",
       " 0.0\n",
       " 0.0\n",
       " 0.0\n",
       " 0.0\n",
       " 0.0\n",
       " 0.0\n",
       " 0.1\n",
       " 0.0\n",
       " 0.0\n",
       " 0.0\n",
       " 0.0\n",
       " 0.0\n",
       " 0.0\n",
       " 0.0\n",
       " 0.0"
      ]
     },
     "metadata": {},
     "output_type": "display_data"
    },
    {
     "data": {
      "text/plain": [
       "6-element Array{Float64,1}:\n",
       "  0.0        \n",
       "  0.0        \n",
       "  0.0        \n",
       "  2.47086    \n",
       " -8.79433e-10\n",
       " -8.57413    "
      ]
     },
     "metadata": {},
     "output_type": "display_data"
    },
    {
     "data": {
      "text/plain": [
       "6-element Array{Float64,1}:\n",
       "  0.0        \n",
       "  0.0        \n",
       "  0.0        \n",
       "  2.47086    \n",
       " -8.79433e-10\n",
       " -8.57413    "
      ]
     },
     "metadata": {},
     "output_type": "display_data"
    },
    {
     "name": "stdout",
     "output_type": "stream",
     "text": [
      "elapsed time: 257.873083536 seconds\n"
     ]
    },
    {
     "data": {
      "text/plain": [
       "19-element Array{Float64,1}:\n",
       "  1.0        \n",
       "  1.17246e-19\n",
       " -1.09594e-12\n",
       "  9.5872e-21 \n",
       "  0.000326895\n",
       "  4.24704e-11\n",
       "  0.000162462\n",
       "  4.68984e-17\n",
       " -4.38375e-10\n",
       "  3.83488e-18\n",
       "  0.0653789  \n",
       "  8.49407e-9 \n",
       "  0.0324925  \n",
       " -9.37969e-15\n",
       "  8.76751e-8 \n",
       " -7.66976e-16\n",
       "  0.000484392\n",
       "  3.15625e-10\n",
       "  0.000137929"
      ]
     },
     "metadata": {},
     "output_type": "display_data"
    },
    {
     "data": {
      "text/plain": [
       "6-element Array{Float64,1}:\n",
       "   0.0        \n",
       "   0.0        \n",
       "  -1.03398e-25\n",
       "   7.34205    \n",
       "  -8.40172e-7 \n",
       " -16.0994     "
      ]
     },
     "metadata": {},
     "output_type": "display_data"
    },
    {
     "data": {
      "text/plain": [
       "6-element Array{Float64,1}:\n",
       "   0.0        \n",
       "   0.0        \n",
       "  -1.03398e-25\n",
       "   7.34205    \n",
       "  -8.40172e-7 \n",
       " -16.0994     "
      ]
     },
     "metadata": {},
     "output_type": "display_data"
    },
    {
     "name": "stdout",
     "output_type": "stream",
     "text": [
      "elapsed time: 0.740591462 seconds\n",
      "\n",
      "******************************************************************************\n",
      "This program contains Ipopt, a library for large-scale nonlinear optimization.\n",
      " Ipopt is released as open source code under the Eclipse Public License (EPL).\n",
      "         For more information visit http://projects.coin-or.org/Ipopt\n",
      "******************************************************************************\n",
      "\n"
     ]
    },
    {
     "data": {
      "text/plain": [
       "19-element Array{Float64,1}:\n",
       "  1.0        \n",
       " -9.58813e-19\n",
       "  6.71239e-14\n",
       "  6.05105e-19\n",
       "  0.000278837\n",
       "  3.46516e-10\n",
       "  0.000207379\n",
       " -3.83525e-16\n",
       "  2.68496e-11\n",
       "  2.42042e-16\n",
       "  0.0557673  \n",
       "  6.93032e-8 \n",
       "  0.0414759  \n",
       "  7.67051e-14\n",
       " -5.36991e-9 \n",
       " -4.84084e-14\n",
       "  7.15597e-5 \n",
       "  5.46809e-10\n",
       " -0.000251057"
      ]
     },
     "metadata": {},
     "output_type": "display_data"
    },
    {
     "data": {
      "text/plain": [
       "6-element Array{Float64,1}:\n",
       "   0.0        \n",
       "   0.0        \n",
       "  -8.27181e-25\n",
       "   8.90415    \n",
       "  -8.32923e-6 \n",
       " -18.076      "
      ]
     },
     "metadata": {},
     "output_type": "display_data"
    },
    {
     "data": {
      "text/plain": [
       "6-element Array{Float64,1}:\n",
       "   0.0        \n",
       "   0.0        \n",
       "  -8.27181e-25\n",
       "   8.90415    \n",
       "  -8.32923e-6 \n",
       " -18.076      "
      ]
     },
     "metadata": {},
     "output_type": "display_data"
    },
    {
     "name": "stdout",
     "output_type": "stream",
     "text": [
      "elapsed time: 0.748681508 seconds\n"
     ]
    },
    {
     "data": {
      "text/plain": [
       "19-element Array{Float64,1}:\n",
       "  1.0        \n",
       "  2.03309e-15\n",
       "  4.78014e-11\n",
       " -4.88648e-16\n",
       "  0.000378355\n",
       "  5.57013e-10\n",
       "  2.06389e-6 \n",
       "  8.13237e-13\n",
       "  1.91205e-8 \n",
       " -1.95459e-13\n",
       "  0.0756711  \n",
       "  1.11403e-7 \n",
       "  0.000412779\n",
       " -1.62647e-10\n",
       " -3.82411e-6 \n",
       "  3.90919e-11\n",
       " -0.000432243\n",
       " -7.6737e-7  \n",
       "  0.000294744"
      ]
     },
     "metadata": {},
     "output_type": "display_data"
    },
    {
     "data": {
      "text/plain": [
       "6-element Array{Float64,1}:\n",
       "  8.27181e-25\n",
       "  0.0        \n",
       "  0.0        \n",
       "  4.89782    \n",
       " -1.01277e-5 \n",
       " -9.87654    "
      ]
     },
     "metadata": {},
     "output_type": "display_data"
    },
    {
     "data": {
      "text/plain": [
       "6-element Array{Float64,1}:\n",
       "  8.27181e-25\n",
       "  0.0        \n",
       "  0.0        \n",
       "  4.89782    \n",
       " -1.01277e-5 \n",
       " -9.87654    "
      ]
     },
     "metadata": {},
     "output_type": "display_data"
    },
    {
     "name": "stdout",
     "output_type": "stream",
     "text": [
      "elapsed time: 0.74678763 seconds\n"
     ]
    },
    {
     "data": {
      "text/plain": [
       "19-element Array{Float64,1}:\n",
       "  1.0        \n",
       " -1.79972e-14\n",
       " -4.19688e-10\n",
       "  4.8598e-15 \n",
       "  0.000379062\n",
       "  1.64783e-7 \n",
       "  1.07389e-8 \n",
       " -7.19887e-12\n",
       " -1.67875e-7 \n",
       "  1.94376e-12\n",
       "  0.0758123  \n",
       "  3.29565e-5 \n",
       "  2.14788e-6 \n",
       "  1.43977e-9 \n",
       "  3.3575e-5  \n",
       " -3.88753e-10\n",
       "  0.00223829 \n",
       "  7.07582e-6 \n",
       " -0.00253938 "
      ]
     },
     "metadata": {},
     "output_type": "display_data"
    },
    {
     "data": {
      "text/plain": [
       "6-element Array{Float64,1}:\n",
       "  2.11758e-22\n",
       "  0.0        \n",
       "  4.23516e-22\n",
       "  4.86452    \n",
       " -0.0029928  \n",
       " -9.79694    "
      ]
     },
     "metadata": {},
     "output_type": "display_data"
    },
    {
     "data": {
      "text/plain": [
       "6-element Array{Float64,1}:\n",
       "  2.11758e-22\n",
       "  0.0        \n",
       "  4.23516e-22\n",
       "  4.86452    \n",
       " -0.0029928  \n",
       " -9.79694    "
      ]
     },
     "metadata": {},
     "output_type": "display_data"
    },
    {
     "name": "stdout",
     "output_type": "stream",
     "text": [
      "elapsed time: 0.74524095 seconds\n"
     ]
    },
    {
     "data": {
      "text/plain": [
       "19-element Array{Float64,1}:\n",
       "  1.0        \n",
       "  1.16234e-13\n",
       "  2.43644e-9 \n",
       " -2.58216e-14\n",
       "  0.000379061\n",
       "  1.65214e-7 \n",
       " -9.79261e-9 \n",
       "  4.64937e-11\n",
       "  9.74577e-7 \n",
       " -1.03288e-11\n",
       "  0.0758122  \n",
       "  3.30427e-5 \n",
       " -1.95799e-6 \n",
       " -9.29874e-9 \n",
       " -0.000194915\n",
       "  2.06576e-9 \n",
       "  0.00222047 \n",
       " -4.51999e-5 \n",
       " -0.00251957 "
      ]
     },
     "metadata": {},
     "output_type": "display_data"
    },
    {
     "data": {
      "text/plain": [
       "6-element Array{Float64,1}:\n",
       "  2.11758e-22\n",
       "  0.0        \n",
       "  0.0        \n",
       "  4.86437    \n",
       " -0.0030007  \n",
       " -9.7962     "
      ]
     },
     "metadata": {},
     "output_type": "display_data"
    },
    {
     "data": {
      "text/plain": [
       "6-element Array{Float64,1}:\n",
       "  2.11758e-22\n",
       "  0.0        \n",
       "  0.0        \n",
       "  4.86437    \n",
       " -0.0030007  \n",
       " -9.7962     "
      ]
     },
     "metadata": {},
     "output_type": "display_data"
    },
    {
     "name": "stdout",
     "output_type": "stream",
     "text": [
      "elapsed time: 0.745735977 seconds\n"
     ]
    },
    {
     "data": {
      "text/plain": [
       "19-element Array{Float64,1}:\n",
       "  1.0        \n",
       "  1.21998e-13\n",
       "  2.75972e-9 \n",
       " -3.07165e-14\n",
       "  0.000377956\n",
       "  1.68353e-7 \n",
       "  4.21928e-6 \n",
       "  4.87991e-11\n",
       "  1.10389e-6 \n",
       " -1.22868e-11\n",
       "  0.0755912  \n",
       "  3.36707e-5 \n",
       "  0.000843857\n",
       " -9.75981e-9 \n",
       " -0.000220778\n",
       "  2.45735e-9 \n",
       " -0.000372705\n",
       " -5.59289e-5 \n",
       "  0.000348631"
      ]
     },
     "metadata": {},
     "output_type": "display_data"
    },
    {
     "data": {
      "text/plain": [
       "6-element Array{Float64,1}:\n",
       "  2.11758e-22\n",
       "  0.0        \n",
       "  0.0        \n",
       "  4.92455    \n",
       " -0.00306098 \n",
       " -9.95738    "
      ]
     },
     "metadata": {},
     "output_type": "display_data"
    },
    {
     "data": {
      "text/plain": [
       "6-element Array{Float64,1}:\n",
       "  2.11758e-22\n",
       "  0.0        \n",
       "  0.0        \n",
       "  4.92455    \n",
       " -0.00306098 \n",
       " -9.95738    "
      ]
     },
     "metadata": {},
     "output_type": "display_data"
    },
    {
     "name": "stdout",
     "output_type": "stream",
     "text": [
      "elapsed time: 0.749402642 seconds\n"
     ]
    },
    {
     "data": {
      "text/plain": [
       "19-element Array{Float64,1}:\n",
       "  1.0        \n",
       "  7.17896e-11\n",
       "  1.3207e-7  \n",
       "  7.31032e-12\n",
       "  0.000376243\n",
       " -2.11848e-6 \n",
       "  2.42274e-6 \n",
       "  2.87159e-8 \n",
       "  5.28279e-5 \n",
       "  2.92413e-9 \n",
       "  0.0752487  \n",
       " -0.000423696\n",
       "  0.000484568\n",
       " -5.74317e-6 \n",
       " -0.0105656  \n",
       " -5.84826e-7 \n",
       " -6.21284e-5 \n",
       "  0.0462362  \n",
       "  7.98304e-5 "
      ]
     },
     "metadata": {},
     "output_type": "display_data"
    },
    {
     "data": {
      "text/plain": [
       "6-element Array{Float64,1}:\n",
       "  0.0      \n",
       "  0.0      \n",
       "  0.0      \n",
       "  4.95171  \n",
       "  0.0389233\n",
       " -9.90619  "
      ]
     },
     "metadata": {},
     "output_type": "display_data"
    },
    {
     "data": {
      "text/plain": [
       "6-element Array{Float64,1}:\n",
       "  0.0      \n",
       "  0.0      \n",
       "  0.0      \n",
       "  4.95171  \n",
       "  0.0389233\n",
       " -9.90619  "
      ]
     },
     "metadata": {},
     "output_type": "display_data"
    },
    {
     "name": "stdout",
     "output_type": "stream",
     "text": [
      "elapsed time: 0.75433178 seconds\n"
     ]
    },
    {
     "data": {
      "text/plain": [
       "19-element Array{Float64,1}:\n",
       "  1.0        \n",
       "  3.56209e-11\n",
       "  6.10947e-8 \n",
       "  3.71028e-12\n",
       "  0.000377205\n",
       " -1.05472e-6 \n",
       "  1.43274e-8 \n",
       "  1.42484e-8 \n",
       "  2.44379e-5 \n",
       "  1.48411e-9 \n",
       "  0.0754411  \n",
       " -0.000210944\n",
       "  2.87477e-6 \n",
       " -2.84967e-6 \n",
       " -0.00488758 \n",
       " -2.96822e-7 \n",
       "  0.000139474\n",
       "  0.0231813  \n",
       " -0.00010188 "
      ]
     },
     "metadata": {},
     "output_type": "display_data"
    },
    {
     "data": {
      "text/plain": [
       "6-element Array{Float64,1}:\n",
       "  0.0        \n",
       " -4.33681e-19\n",
       " -1.69407e-21\n",
       "  4.90925    \n",
       "  0.0193346  \n",
       " -9.81184    "
      ]
     },
     "metadata": {},
     "output_type": "display_data"
    },
    {
     "data": {
      "text/plain": [
       "6-element Array{Float64,1}:\n",
       "  0.0        \n",
       " -4.33681e-19\n",
       " -1.69407e-21\n",
       "  4.90925    \n",
       "  0.0193346  \n",
       " -9.81184    "
      ]
     },
     "metadata": {},
     "output_type": "display_data"
    },
    {
     "name": "stdout",
     "output_type": "stream",
     "text": [
      "elapsed time: 0.749887581 seconds\n"
     ]
    },
    {
     "data": {
      "text/plain": [
       "19-element Array{Float64,1}:\n",
       "  1.0        \n",
       "  4.30568e-11\n",
       "  5.41548e-8 \n",
       " -1.44133e-11\n",
       "  0.000377249\n",
       " -9.2205e-7  \n",
       " -9.75673e-9 \n",
       "  1.72227e-8 \n",
       "  2.16619e-5 \n",
       " -5.76533e-9 \n",
       "  0.0754498  \n",
       " -0.00018441 \n",
       " -1.94311e-6 \n",
       " -3.44454e-6 \n",
       " -0.00433239 \n",
       "  1.15307e-6 \n",
       "  8.09883e-5 \n",
       "  0.0202624  \n",
       " -6.13553e-5 "
      ]
     },
     "metadata": {},
     "output_type": "display_data"
    },
    {
     "data": {
      "text/plain": [
       "6-element Array{Float64,1}:\n",
       " -1.69407e-21\n",
       "  0.0        \n",
       "  0.0        \n",
       "  4.908      \n",
       "  0.0168993  \n",
       " -9.81063    "
      ]
     },
     "metadata": {},
     "output_type": "display_data"
    },
    {
     "data": {
      "text/plain": [
       "6-element Array{Float64,1}:\n",
       " -1.69407e-21\n",
       "  0.0        \n",
       "  0.0        \n",
       "  4.908      \n",
       "  0.0168993  \n",
       " -9.81063    "
      ]
     },
     "metadata": {},
     "output_type": "display_data"
    },
    {
     "name": "stdout",
     "output_type": "stream",
     "text": [
      "elapsed time: 0.749830983 seconds\n"
     ]
    },
    {
     "data": {
      "text/plain": [
       "19-element Array{Float64,1}:\n",
       "  1.0        \n",
       "  4.17219e-11\n",
       "  5.41544e-8 \n",
       " -1.2428e-11 \n",
       "  0.000377249\n",
       " -9.22049e-7 \n",
       " -9.99757e-9 \n",
       "  1.66888e-8 \n",
       "  2.16618e-5 \n",
       " -4.97121e-9 \n",
       "  0.0754498  \n",
       " -0.00018441 \n",
       " -1.99128e-6 \n",
       " -3.33775e-6 \n",
       " -0.00433235 \n",
       "  9.94242e-7 \n",
       "  8.08587e-5 \n",
       "  0.0202624  \n",
       " -6.14687e-5 "
      ]
     },
     "metadata": {},
     "output_type": "display_data"
    },
    {
     "data": {
      "text/plain": [
       "6-element Array{Float64,1}:\n",
       " -1.69407e-21\n",
       " -8.67362e-19\n",
       "  0.0        \n",
       "  4.908      \n",
       "  0.0168993  \n",
       " -9.81062    "
      ]
     },
     "metadata": {},
     "output_type": "display_data"
    },
    {
     "data": {
      "text/plain": [
       "6-element Array{Float64,1}:\n",
       " -1.69407e-21\n",
       " -8.67362e-19\n",
       "  0.0        \n",
       "  4.908      \n",
       "  0.0168993  \n",
       " -9.81062    "
      ]
     },
     "metadata": {},
     "output_type": "display_data"
    },
    {
     "name": "stdout",
     "output_type": "stream",
     "text": [
      "elapsed time: 0.751489195 seconds\n"
     ]
    },
    {
     "data": {
      "text/plain": [
       "19-element Array{Float64,1}:\n",
       "  1.0        \n",
       " -2.73611e-8 \n",
       " -1.4642e-9  \n",
       "  4.06851e-8 \n",
       "  0.000376958\n",
       " -9.62406e-9 \n",
       " -9.45039e-9 \n",
       " -1.09444e-5 \n",
       " -5.8568e-7  \n",
       "  1.62741e-5 \n",
       "  0.0753916  \n",
       " -1.93095e-6 \n",
       " -1.89025e-6 \n",
       "  0.00218889 \n",
       "  0.000117136\n",
       " -0.00325481 \n",
       "  0.00390128 \n",
       "  0.000445216\n",
       "  0.00175535 "
      ]
     },
     "metadata": {},
     "output_type": "display_data"
    },
    {
     "data": {
      "text/plain": [
       "6-element Array{Float64,1}:\n",
       "  1.32349e-23\n",
       "  0.0        \n",
       "  1.32349e-23\n",
       "  4.915      \n",
       "  0.000176966\n",
       " -9.81297    "
      ]
     },
     "metadata": {},
     "output_type": "display_data"
    },
    {
     "data": {
      "text/plain": [
       "6-element Array{Float64,1}:\n",
       "  1.32349e-23\n",
       "  0.0        \n",
       "  1.32349e-23\n",
       "  4.915      \n",
       "  0.000176966\n",
       " -9.81297    "
      ]
     },
     "metadata": {},
     "output_type": "display_data"
    },
    {
     "name": "stdout",
     "output_type": "stream",
     "text": [
      "elapsed time: 0.749661211 seconds\n"
     ]
    },
    {
     "data": {
      "text/plain": [
       "19-element Array{Float64,1}:\n",
       "  1.0        \n",
       " -2.7215e-8  \n",
       " -1.46206e-9 \n",
       "  4.04679e-8 \n",
       "  0.000376959\n",
       " -9.35229e-9 \n",
       " -9.9945e-9  \n",
       " -1.0886e-5  \n",
       " -5.84825e-7 \n",
       "  1.61872e-5 \n",
       "  0.0753917  \n",
       " -1.87656e-6 \n",
       " -1.99908e-6 \n",
       "  0.0021772  \n",
       "  0.000116965\n",
       " -0.00323743 \n",
       "  0.00389813 \n",
       "  0.000440128\n",
       "  0.0017521  "
      ]
     },
     "metadata": {},
     "output_type": "display_data"
    },
    {
     "data": {
      "text/plain": [
       "6-element Array{Float64,1}:\n",
       "  0.0        \n",
       " -4.33681e-19\n",
       "  1.32349e-23\n",
       "  4.91497    \n",
       "  0.000171983\n",
       " -9.81294    "
      ]
     },
     "metadata": {},
     "output_type": "display_data"
    },
    {
     "data": {
      "text/plain": [
       "6-element Array{Float64,1}:\n",
       "  0.0        \n",
       " -4.33681e-19\n",
       "  1.32349e-23\n",
       "  4.91497    \n",
       "  0.000171983\n",
       " -9.81294    "
      ]
     },
     "metadata": {},
     "output_type": "display_data"
    },
    {
     "name": "stdout",
     "output_type": "stream",
     "text": [
      "elapsed time: 0.751209362 seconds\n"
     ]
    },
    {
     "data": {
      "text/plain": [
       "19-element Array{Float64,1}:\n",
       "  1.0        \n",
       " -2.74245e-8 \n",
       "  4.34749e-9 \n",
       "  4.07761e-8 \n",
       "  0.000376961\n",
       " -4.48832e-9 \n",
       " -9.9945e-9  \n",
       " -1.09698e-5 \n",
       "  1.73899e-6 \n",
       "  1.63104e-5 \n",
       "  0.0753922  \n",
       " -9.03817e-7 \n",
       " -1.9982e-6  \n",
       "  0.00219396 \n",
       " -0.000347799\n",
       " -0.00326209 \n",
       "  0.00386675 \n",
       "  0.000334559\n",
       "  0.00173646 "
      ]
     },
     "metadata": {},
     "output_type": "display_data"
    },
    {
     "data": {
      "text/plain": [
       "6-element Array{Float64,1}:\n",
       " -6.61744e-24\n",
       " -4.33681e-19\n",
       "  0.0        \n",
       "  4.91492    \n",
       "  8.26947e-5 \n",
       " -9.81292    "
      ]
     },
     "metadata": {},
     "output_type": "display_data"
    },
    {
     "data": {
      "text/plain": [
       "6-element Array{Float64,1}:\n",
       " -6.61744e-24\n",
       " -4.33681e-19\n",
       "  0.0        \n",
       "  4.91492    \n",
       "  8.26947e-5 \n",
       " -9.81292    "
      ]
     },
     "metadata": {},
     "output_type": "display_data"
    },
    {
     "name": "stdout",
     "output_type": "stream",
     "text": [
      "elapsed time: 0.750523442 seconds\n"
     ]
    },
    {
     "data": {
      "text/plain": [
       "19-element Array{Float64,1}:\n",
       "  1.0        \n",
       " -2.4957e-8  \n",
       " -4.77483e-9 \n",
       "  3.71247e-8 \n",
       "  0.000377368\n",
       "  4.17111e-8 \n",
       " -9.94552e-9 \n",
       " -9.98278e-6 \n",
       " -1.90993e-6 \n",
       "  1.48499e-5 \n",
       "  0.0754736  \n",
       "  8.3366e-6  \n",
       " -1.98978e-6 \n",
       "  0.00199656 \n",
       "  0.000381987\n",
       " -0.00296997 \n",
       " -0.00196625 \n",
       " -0.000705165\n",
       " -0.00123185 "
      ]
     },
     "metadata": {},
     "output_type": "display_data"
    },
    {
     "data": {
      "text/plain": [
       "6-element Array{Float64,1}:\n",
       "  0.0        \n",
       "  0.0        \n",
       "  0.0        \n",
       "  4.90509    \n",
       " -0.000763733\n",
       " -9.8097     "
      ]
     },
     "metadata": {},
     "output_type": "display_data"
    },
    {
     "data": {
      "text/plain": [
       "6-element Array{Float64,1}:\n",
       "  0.0        \n",
       "  0.0        \n",
       "  0.0        \n",
       "  4.90509    \n",
       " -0.000763733\n",
       " -9.8097     "
      ]
     },
     "metadata": {},
     "output_type": "display_data"
    },
    {
     "name": "stdout",
     "output_type": "stream",
     "text": [
      "elapsed time: 0.751215141 seconds\n"
     ]
    },
    {
     "data": {
      "text/plain": [
       "19-element Array{Float64,1}:\n",
       "  1.0        \n",
       " -2.49566e-8 \n",
       " -4.77391e-9 \n",
       "  3.71116e-8 \n",
       "  0.000377368\n",
       "  4.17053e-8 \n",
       " -9.99946e-9 \n",
       " -9.98263e-6 \n",
       " -1.90956e-6 \n",
       "  1.48446e-5 \n",
       "  0.0754736  \n",
       "  8.33545e-6 \n",
       " -2.00057e-6 \n",
       "  0.00199653 \n",
       "  0.000381913\n",
       " -0.00296893 \n",
       " -0.00196592 \n",
       " -0.00070507 \n",
       " -0.00123165 "
      ]
     },
     "metadata": {},
     "output_type": "display_data"
    },
    {
     "data": {
      "text/plain": [
       "6-element Array{Float64,1}:\n",
       "  5.29396e-23\n",
       " -4.33681e-19\n",
       " -1.05879e-22\n",
       "  4.90509    \n",
       " -0.000763625\n",
       " -9.80969    "
      ]
     },
     "metadata": {},
     "output_type": "display_data"
    },
    {
     "data": {
      "text/plain": [
       "6-element Array{Float64,1}:\n",
       "  5.29396e-23\n",
       " -4.33681e-19\n",
       " -1.05879e-22\n",
       "  4.90509    \n",
       " -0.000763625\n",
       " -9.80969    "
      ]
     },
     "metadata": {},
     "output_type": "display_data"
    },
    {
     "name": "stdout",
     "output_type": "stream",
     "text": [
      "elapsed time: 0.750710465 seconds\n"
     ]
    },
    {
     "data": {
      "text/plain": [
       "19-element Array{Float64,1}:\n",
       "  1.0        \n",
       " -2.86103e-8 \n",
       " -4.74447e-9 \n",
       "  3.43418e-8 \n",
       "  0.000377367\n",
       "  4.1454e-8  \n",
       " -9.99946e-9 \n",
       " -1.14441e-5 \n",
       " -1.89779e-6 \n",
       "  1.37367e-5 \n",
       "  0.0754735  \n",
       "  8.28561e-6 \n",
       " -2.00057e-6 \n",
       "  0.00228883 \n",
       "  0.000379558\n",
       " -0.00274734 \n",
       " -0.00195413 \n",
       " -0.000699485\n",
       " -0.00122558 "
      ]
     },
     "metadata": {},
     "output_type": "display_data"
    },
    {
     "data": {
      "text/plain": [
       "6-element Array{Float64,1}:\n",
       "  5.29396e-23\n",
       "  0.0        \n",
       "  1.05879e-22\n",
       "  4.9051     \n",
       " -0.00075893 \n",
       " -9.8097     "
      ]
     },
     "metadata": {},
     "output_type": "display_data"
    },
    {
     "data": {
      "text/plain": [
       "6-element Array{Float64,1}:\n",
       "  5.29396e-23\n",
       "  0.0        \n",
       "  1.05879e-22\n",
       "  4.9051     \n",
       " -0.00075893 \n",
       " -9.8097     "
      ]
     },
     "metadata": {},
     "output_type": "display_data"
    },
    {
     "name": "stdout",
     "output_type": "stream",
     "text": [
      "elapsed time: 0.752311548 seconds\n"
     ]
    },
    {
     "data": {
      "text/plain": [
       "19-element Array{Float64,1}:\n",
       "  1.0        \n",
       "  2.34836e-8 \n",
       "  2.46388e-10\n",
       " -3.32822e-8 \n",
       "  0.000377347\n",
       "  2.05133e-8 \n",
       " -9.99946e-9 \n",
       "  9.39342e-6 \n",
       "  9.85551e-8 \n",
       " -1.33129e-5 \n",
       "  0.0754693  \n",
       "  4.10767e-6 \n",
       " -1.99981e-6 \n",
       " -0.00187868 \n",
       " -1.9711e-5  \n",
       "  0.00266257 \n",
       " -0.00155862 \n",
       " -0.000241441\n",
       " -0.00102847 "
      ]
     },
     "metadata": {},
     "output_type": "display_data"
    },
    {
     "data": {
      "text/plain": [
       "6-element Array{Float64,1}:\n",
       " -2.64698e-23\n",
       " -4.33681e-19\n",
       "  5.29396e-23\n",
       "  4.90561    \n",
       " -0.000376055\n",
       " -9.80987    "
      ]
     },
     "metadata": {},
     "output_type": "display_data"
    },
    {
     "data": {
      "text/plain": [
       "6-element Array{Float64,1}:\n",
       " -2.64698e-23\n",
       " -4.33681e-19\n",
       "  5.29396e-23\n",
       "  4.90561    \n",
       " -0.000376055\n",
       " -9.80987    "
      ]
     },
     "metadata": {},
     "output_type": "display_data"
    },
    {
     "name": "stdout",
     "output_type": "stream",
     "text": [
      "elapsed time: 0.751039267 seconds\n"
     ]
    },
    {
     "data": {
      "text/plain": [
       "19-element Array{Float64,1}:\n",
       "  1.0        \n",
       "  2.32638e-8 \n",
       "  1.57341e-9 \n",
       " -3.28518e-8 \n",
       "  0.000377348\n",
       " -1.85116e-9 \n",
       " -9.99946e-9 \n",
       "  9.30552e-6 \n",
       "  6.29362e-7 \n",
       " -1.31407e-5 \n",
       "  0.0754695  \n",
       " -3.65278e-7 \n",
       " -1.99961e-6 \n",
       " -0.0018611  \n",
       " -0.000125872\n",
       "  0.00262814 \n",
       " -0.00157432 \n",
       "  0.00024342 \n",
       " -0.00103566 "
      ]
     },
     "metadata": {},
     "output_type": "display_data"
    },
    {
     "data": {
      "text/plain": [
       "6-element Array{Float64,1}:\n",
       "  3.30872e-24\n",
       " -4.33681e-19\n",
       "  3.30872e-24\n",
       "  4.90558    \n",
       "  3.36309e-5 \n",
       " -9.80986    "
      ]
     },
     "metadata": {},
     "output_type": "display_data"
    },
    {
     "data": {
      "text/plain": [
       "6-element Array{Float64,1}:\n",
       "  3.30872e-24\n",
       " -4.33681e-19\n",
       "  3.30872e-24\n",
       "  4.90558    \n",
       "  3.36309e-5 \n",
       " -9.80986    "
      ]
     },
     "metadata": {},
     "output_type": "display_data"
    },
    {
     "name": "stdout",
     "output_type": "stream",
     "text": [
      "elapsed time: 0.752025695 seconds\n"
     ]
    },
    {
     "data": {
      "text/plain": [
       "19-element Array{Float64,1}:\n",
       "  1.0        \n",
       " -2.91628e-10\n",
       "  1.11607e-9 \n",
       "  1.23163e-9 \n",
       "  0.000377342\n",
       "  3.12756e-10\n",
       " -9.99997e-9 \n",
       " -1.16651e-7 \n",
       "  4.46427e-7 \n",
       "  4.92651e-7 \n",
       "  0.0754685  \n",
       "  6.23652e-8 \n",
       " -1.99983e-6 \n",
       "  2.33303e-5 \n",
       " -8.92854e-5 \n",
       " -9.85302e-5 \n",
       "  0.000593192\n",
       " -6.63076e-6 \n",
       "  0.000301343"
      ]
     },
     "metadata": {},
     "output_type": "display_data"
    },
    {
     "data": {
      "text/plain": [
       "6-element Array{Float64,1}:\n",
       "  0.0        \n",
       " -4.33681e-19\n",
       "  0.0        \n",
       "  4.90571    \n",
       " -5.73079e-6 \n",
       " -9.8099     "
      ]
     },
     "metadata": {},
     "output_type": "display_data"
    },
    {
     "data": {
      "text/plain": [
       "6-element Array{Float64,1}:\n",
       "  0.0        \n",
       " -4.33681e-19\n",
       "  0.0        \n",
       "  4.90571    \n",
       " -5.73079e-6 \n",
       " -9.8099     "
      ]
     },
     "metadata": {},
     "output_type": "display_data"
    },
    {
     "name": "stdout",
     "output_type": "stream",
     "text": [
      "elapsed time: 0.761550639 seconds\n"
     ]
    },
    {
     "data": {
      "text/plain": [
       "19-element Array{Float64,1}:\n",
       "  1.0        \n",
       " -3.02198e-10\n",
       " -2.38992e-10\n",
       "  1.23942e-9 \n",
       "  0.000377342\n",
       " -7.68684e-10\n",
       " -9.99997e-9 \n",
       " -1.20879e-7 \n",
       " -9.55966e-8 \n",
       "  4.95768e-7 \n",
       "  0.0754685  \n",
       " -1.53924e-7 \n",
       " -2.00003e-6 \n",
       "  2.41758e-5 \n",
       "  1.91193e-5 \n",
       " -9.91536e-5 \n",
       "  0.000592782\n",
       "  1.68322e-5 \n",
       "  0.000301136"
      ]
     },
     "metadata": {},
     "output_type": "display_data"
    },
    {
     "data": {
      "text/plain": [
       "6-element Array{Float64,1}:\n",
       "  1.65436e-24\n",
       "  0.0        \n",
       " -1.65436e-24\n",
       "  4.90571    \n",
       "  1.40912e-5 \n",
       " -9.8099     "
      ]
     },
     "metadata": {},
     "output_type": "display_data"
    },
    {
     "data": {
      "text/plain": [
       "6-element Array{Float64,1}:\n",
       "  1.65436e-24\n",
       "  0.0        \n",
       " -1.65436e-24\n",
       "  4.90571    \n",
       "  1.40912e-5 \n",
       " -9.8099     "
      ]
     },
     "metadata": {},
     "output_type": "display_data"
    },
    {
     "name": "stdout",
     "output_type": "stream",
     "text": [
      "elapsed time: 0.774230099 seconds\n"
     ]
    },
    {
     "data": {
      "text/plain": [
       "19-element Array{Float64,1}:\n",
       "  1.0        \n",
       " -9.24439e-11\n",
       " -4.34783e-11\n",
       "  3.12297e-10\n",
       "  0.000377351\n",
       " -7.12831e-10\n",
       " -9.99611e-9 \n",
       " -3.69776e-8 \n",
       " -1.73913e-8 \n",
       "  1.24919e-7 \n",
       "  0.0754701  \n",
       " -1.42613e-7 \n",
       " -1.99923e-6 \n",
       "  7.39552e-6 \n",
       "  3.47826e-6 \n",
       " -2.49838e-5 \n",
       "  0.000487356\n",
       "  1.44145e-5 \n",
       "  0.000242218"
      ]
     },
     "metadata": {},
     "output_type": "display_data"
    },
    {
     "data": {
      "text/plain": [
       "6-element Array{Float64,1}:\n",
       "  0.0       \n",
       "  0.0       \n",
       "  0.0       \n",
       "  4.90551   \n",
       "  1.30544e-5\n",
       " -9.80983   "
      ]
     },
     "metadata": {},
     "output_type": "display_data"
    },
    {
     "data": {
      "text/plain": [
       "6-element Array{Float64,1}:\n",
       "  0.0       \n",
       "  0.0       \n",
       "  0.0       \n",
       "  4.90551   \n",
       "  1.30544e-5\n",
       " -9.80983   "
      ]
     },
     "metadata": {},
     "output_type": "display_data"
    },
    {
     "name": "stdout",
     "output_type": "stream",
     "text": [
      "elapsed time: 0.782358839 seconds\n"
     ]
    },
    {
     "data": {
      "text/plain": [
       "19-element Array{Float64,1}:\n",
       "  1.0        \n",
       " -2.02845e-9 \n",
       " -3.40026e-10\n",
       "  2.8379e-9  \n",
       "  0.000377361\n",
       "  6.97701e-10\n",
       " -9.99598e-9 \n",
       " -8.11382e-7 \n",
       " -1.3601e-7  \n",
       "  1.13516e-6 \n",
       "  0.0754722  \n",
       "  1.39112e-7 \n",
       " -1.99925e-6 \n",
       "  0.000162276\n",
       "  2.72021e-5 \n",
       " -0.000227032\n",
       "  0.000357438\n",
       " -1.80482e-5 \n",
       "  0.000170576"
      ]
     },
     "metadata": {},
     "output_type": "display_data"
    },
    {
     "data": {
      "text/plain": [
       "6-element Array{Float64,1}:\n",
       " -1.65436e-24\n",
       "  0.0        \n",
       " -1.65436e-24\n",
       "  4.90526    \n",
       " -1.2754e-5  \n",
       " -9.80975    "
      ]
     },
     "metadata": {},
     "output_type": "display_data"
    },
    {
     "data": {
      "text/plain": [
       "6-element Array{Float64,1}:\n",
       " -1.65436e-24\n",
       "  0.0        \n",
       " -1.65436e-24\n",
       "  4.90526    \n",
       " -1.2754e-5  \n",
       " -9.80975    "
      ]
     },
     "metadata": {},
     "output_type": "display_data"
    },
    {
     "name": "stdout",
     "output_type": "stream",
     "text": [
      "elapsed time: 0.767638129 seconds\n"
     ]
    },
    {
     "data": {
      "text/plain": [
       "19-element Array{Float64,1}:\n",
       "  1.0        \n",
       " -8.23457e-10\n",
       " -3.18388e-10\n",
       "  3.55961e-9 \n",
       "  0.000377362\n",
       "  7.67202e-10\n",
       " -9.99623e-9 \n",
       " -3.29383e-7 \n",
       " -1.27355e-7 \n",
       "  1.42384e-6 \n",
       "  0.0754724  \n",
       "  1.52903e-7 \n",
       " -1.99929e-6 \n",
       "  6.58765e-5 \n",
       "  2.5471e-5  \n",
       " -0.000284769\n",
       "  0.000337456\n",
       " -1.9753e-5  \n",
       "  0.00016146 "
      ]
     },
     "metadata": {},
     "output_type": "display_data"
    },
    {
     "data": {
      "text/plain": [
       "6-element Array{Float64,1}:\n",
       "  0.0       \n",
       "  0.0       \n",
       "  0.0       \n",
       "  4.90524   \n",
       " -1.40599e-5\n",
       " -9.80974   "
      ]
     },
     "metadata": {},
     "output_type": "display_data"
    },
    {
     "data": {
      "text/plain": [
       "6-element Array{Float64,1}:\n",
       "  0.0       \n",
       "  0.0       \n",
       "  0.0       \n",
       "  4.90524   \n",
       " -1.40599e-5\n",
       " -9.80974   "
      ]
     },
     "metadata": {},
     "output_type": "display_data"
    },
    {
     "name": "stdout",
     "output_type": "stream",
     "text": [
      "elapsed time: 0.780575398 seconds\n"
     ]
    },
    {
     "data": {
      "text/plain": [
       "19-element Array{Float64,1}:\n",
       "  1.0        \n",
       "  6.78404e-13\n",
       "  2.90305e-10\n",
       "  1.40709e-10\n",
       "  0.000377373\n",
       " -3.81382e-9 \n",
       " -9.70937e-9 \n",
       "  2.71361e-10\n",
       "  1.16122e-7 \n",
       "  5.62837e-8 \n",
       "  0.0754746  \n",
       " -7.62786e-7 \n",
       " -1.94183e-6 \n",
       " -5.42723e-8 \n",
       " -2.32244e-5 \n",
       " -1.12567e-5 \n",
       " -4.30154e-6 \n",
       "  8.51444e-5 \n",
       " -6.30137e-6 "
      ]
     },
     "metadata": {},
     "output_type": "display_data"
    },
    {
     "data": {
      "text/plain": [
       "6-element Array{Float64,1}:\n",
       "  6.61744e-24\n",
       " -4.33681e-19\n",
       "  6.61744e-24\n",
       "  4.90497    \n",
       "  6.98532e-5 \n",
       " -9.80967    "
      ]
     },
     "metadata": {},
     "output_type": "display_data"
    },
    {
     "data": {
      "text/plain": [
       "6-element Array{Float64,1}:\n",
       "  6.61744e-24\n",
       " -4.33681e-19\n",
       "  6.61744e-24\n",
       "  4.90497    \n",
       "  6.98532e-5 \n",
       " -9.80967    "
      ]
     },
     "metadata": {},
     "output_type": "display_data"
    },
    {
     "name": "stdout",
     "output_type": "stream",
     "text": [
      "elapsed time: 0.776479598 seconds\n"
     ]
    },
    {
     "data": {
      "text/plain": [
       "19-element Array{Float64,1}:\n",
       "  1.0        \n",
       "  1.13582e-10\n",
       "  4.05471e-11\n",
       " -1.36147e-10\n",
       "  0.000377374\n",
       "  5.84374e-10\n",
       " -9.70526e-9 \n",
       "  4.54327e-8 \n",
       "  1.62189e-8 \n",
       " -5.4459e-8  \n",
       "  0.0754747  \n",
       "  1.16895e-7 \n",
       " -1.94105e-6 \n",
       " -9.08653e-6 \n",
       " -3.24377e-6 \n",
       "  1.08918e-5 \n",
       " -1.43773e-5 \n",
       " -1.0233e-5  \n",
       " -1.15459e-5 "
      ]
     },
     "metadata": {},
     "output_type": "display_data"
    },
    {
     "data": {
      "text/plain": [
       "6-element Array{Float64,1}:\n",
       "  0.0        \n",
       "  0.0        \n",
       "  1.65436e-24\n",
       "  4.90496    \n",
       " -1.07015e-5 \n",
       " -9.80966    "
      ]
     },
     "metadata": {},
     "output_type": "display_data"
    },
    {
     "data": {
      "text/plain": [
       "6-element Array{Float64,1}:\n",
       "  0.0        \n",
       "  0.0        \n",
       "  1.65436e-24\n",
       "  4.90496    \n",
       " -1.07015e-5 \n",
       " -9.80966    "
      ]
     },
     "metadata": {},
     "output_type": "display_data"
    },
    {
     "name": "stdout",
     "output_type": "stream",
     "text": [
      "elapsed time: 0.809066432 seconds\n"
     ]
    },
    {
     "data": {
      "text/plain": [
       "19-element Array{Float64,1}:\n",
       "  1.0        \n",
       "  1.14485e-10\n",
       " -3.55541e-11\n",
       " -1.40022e-10\n",
       "  0.000377374\n",
       "  5.13958e-10\n",
       " -9.43896e-9 \n",
       "  4.57941e-8 \n",
       " -1.42216e-8 \n",
       " -5.6009e-8  \n",
       "  0.0754747  \n",
       "  1.02813e-7 \n",
       " -1.8878e-6  \n",
       " -9.15882e-6 \n",
       "  2.84433e-6 \n",
       "  1.12018e-5 \n",
       " -1.42361e-5 \n",
       " -8.7666e-6  \n",
       " -1.17076e-5 "
      ]
     },
     "metadata": {},
     "output_type": "display_data"
    },
    {
     "data": {
      "text/plain": [
       "6-element Array{Float64,1}:\n",
       "  8.27181e-25\n",
       "  0.0        \n",
       "  0.0        \n",
       "  4.90496    \n",
       " -9.41973e-6 \n",
       " -9.80967    "
      ]
     },
     "metadata": {},
     "output_type": "display_data"
    },
    {
     "data": {
      "text/plain": [
       "6-element Array{Float64,1}:\n",
       "  8.27181e-25\n",
       "  0.0        \n",
       "  0.0        \n",
       "  4.90496    \n",
       " -9.41973e-6 \n",
       " -9.80967    "
      ]
     },
     "metadata": {},
     "output_type": "display_data"
    },
    {
     "name": "stdout",
     "output_type": "stream",
     "text": [
      "elapsed time: 0.839159392 seconds\n",
      "elapsed time: 0.783505865 seconds\n"
     ]
    },
    {
     "ename": "LoadError",
     "evalue": "\u001b[91mInterruptException:\u001b[39m",
     "output_type": "error",
     "traceback": [
      "\u001b[91mInterruptException:\u001b[39m",
      "",
      "Stacktrace:",
      " [1] \u001b[1m_methods_by_ftype\u001b[22m\u001b[22m\u001b[1m(\u001b[22m\u001b[22m::Any, ::Int64, ::UInt64, ::Array{UInt64,1}, ::Array{UInt64,1}\u001b[1m)\u001b[22m\u001b[22m at \u001b[1m./reflection.jl:521\u001b[22m\u001b[22m",
      " [2] \u001b[1m_methods_by_ftype\u001b[22m\u001b[22m\u001b[1m(\u001b[22m\u001b[22m::Any, ::Int64, ::UInt64\u001b[1m)\u001b[22m\u001b[22m at \u001b[1m./reflection.jl:507\u001b[22m\u001b[22m",
      " [3] \u001b[1m_methods\u001b[22m\u001b[22m\u001b[1m(\u001b[22m\u001b[22m::ANY, ::ANY, ::Int64, ::UInt64\u001b[1m)\u001b[22m\u001b[22m at \u001b[1m./reflection.jl:503\u001b[22m\u001b[22m",
      " [4] \u001b[1mreturn_type\u001b[22m\u001b[22m\u001b[1m(\u001b[22m\u001b[22m::Any, ::Any\u001b[1m)\u001b[22m\u001b[22m at \u001b[1m./inference.jl:5401\u001b[22m\u001b[22m",
      " [5] \u001b[1mbroadcast_c\u001b[22m\u001b[22m at \u001b[1m./broadcast.jl:312\u001b[22m\u001b[22m [inlined]",
      " [6] \u001b[1mbroadcast\u001b[22m\u001b[22m\u001b[1m(\u001b[22m\u001b[22m::Function, ::Array{Any,1}, ::Array{ForwardDiff.Dual{ForwardDiff.Tag{BilevelTrajOpt.##3#8{BilevelTrajOpt.##41#45{BilevelTrajOpt.SimData,Array{Float64,1},Array{Float64,2},Array{Tuple{RigidBodyDynamics.Spatial.Transform3D{Float64},RigidBodyDynamics.Spatial.Transform3D{Float64}},1},Array{RigidBodyDynamics.Spatial.GeometricJacobian{Array{Float64,2}},1},Array{Float64,1},Array{Float64,1}},BilevelTrajOpt.##42#46{BilevelTrajOpt.SimData,Array{Float64,2},Array{Float64,1},Array{Float64,1}},Int64,Int64},Float64},Float64,8},1}\u001b[1m)\u001b[22m\u001b[22m at \u001b[1m./broadcast.jl:455\u001b[22m\u001b[22m",
      " [7] \u001b[1mcomplementarity_contact_constraints\u001b[22m\u001b[22m\u001b[1m(\u001b[22m\u001b[22m::Array{ForwardDiff.Dual{ForwardDiff.Tag{BilevelTrajOpt.##3#8{BilevelTrajOpt.##41#45{BilevelTrajOpt.SimData,Array{Float64,1},Array{Float64,2},Array{Tuple{RigidBodyDynamics.Spatial.Transform3D{Float64},RigidBodyDynamics.Spatial.Transform3D{Float64}},1},Array{RigidBodyDynamics.Spatial.GeometricJacobian{Array{Float64,2}},1},Array{Float64,1},Array{Float64,1}},BilevelTrajOpt.##42#46{BilevelTrajOpt.SimData,Array{Float64,2},Array{Float64,1},Array{Float64,1}},Int64,Int64},Float64},Float64,8},1}, ::Array{Float64,1}, ::Array{Float64,2}, ::BilevelTrajOpt.SimData\u001b[1m)\u001b[22m\u001b[22m at \u001b[1m/home/blandry/.julia/v0.6/BilevelTrajOpt/src/contact.jl:81\u001b[22m\u001b[22m",
      " [8] \u001b[1m#41\u001b[22m\u001b[22m at \u001b[1m/home/blandry/.julia/v0.6/BilevelTrajOpt/src/contact.jl:149\u001b[22m\u001b[22m [inlined]",
      " [9] \u001b[1m(::BilevelTrajOpt.##3#8{BilevelTrajOpt.##41#45{BilevelTrajOpt.SimData,Array{Float64,1},Array{Float64,2},Array{Tuple{RigidBodyDynamics.Spatial.Transform3D{Float64},RigidBodyDynamics.Spatial.Transform3D{Float64}},1},Array{RigidBodyDynamics.Spatial.GeometricJacobian{Array{Float64,2}},1},Array{Float64,1},Array{Float64,1}},BilevelTrajOpt.##42#46{BilevelTrajOpt.SimData,Array{Float64,2},Array{Float64,1},Array{Float64,1}},Int64,Int64})\u001b[22m\u001b[22m\u001b[1m(\u001b[22m\u001b[22m::Array{ForwardDiff.Dual{ForwardDiff.Tag{BilevelTrajOpt.##3#8{BilevelTrajOpt.##41#45{BilevelTrajOpt.SimData,Array{Float64,1},Array{Float64,2},Array{Tuple{RigidBodyDynamics.Spatial.Transform3D{Float64},RigidBodyDynamics.Spatial.Transform3D{Float64}},1},Array{RigidBodyDynamics.Spatial.GeometricJacobian{Array{Float64,2}},1},Array{Float64,1},Array{Float64,1}},BilevelTrajOpt.##42#46{BilevelTrajOpt.SimData,Array{Float64,2},Array{Float64,1},Array{Float64,1}},Int64,Int64},Float64},Float64,8},2}\u001b[1m)\u001b[22m\u001b[22m at \u001b[1m/home/blandry/.julia/v0.6/BilevelTrajOpt/src/auglag.jl:32\u001b[22m\u001b[22m",
      " [10] \u001b[1mchunk_mode_jacobian\u001b[22m\u001b[22m\u001b[1m(\u001b[22m\u001b[22m::BilevelTrajOpt.##3#8{BilevelTrajOpt.##41#45{BilevelTrajOpt.SimData,Array{Float64,1},Array{Float64,2},Array{Tuple{RigidBodyDynamics.Spatial.Transform3D{Float64},RigidBodyDynamics.Spatial.Transform3D{Float64}},1},Array{RigidBodyDynamics.Spatial.GeometricJacobian{Array{Float64,2}},1},Array{Float64,1},Array{Float64,1}},BilevelTrajOpt.##42#46{BilevelTrajOpt.SimData,Array{Float64,2},Array{Float64,1},Array{Float64,1}},Int64,Int64}, ::Array{Float64,2}, ::ForwardDiff.JacobianConfig{ForwardDiff.Tag{BilevelTrajOpt.##3#8{BilevelTrajOpt.##41#45{BilevelTrajOpt.SimData,Array{Float64,1},Array{Float64,2},Array{Tuple{RigidBodyDynamics.Spatial.Transform3D{Float64},RigidBodyDynamics.Spatial.Transform3D{Float64}},1},Array{RigidBodyDynamics.Spatial.GeometricJacobian{Array{Float64,2}},1},Array{Float64,1},Array{Float64,1}},BilevelTrajOpt.##42#46{BilevelTrajOpt.SimData,Array{Float64,2},Array{Float64,1},Array{Float64,1}},Int64,Int64},Float64},Float64,8,Array{ForwardDiff.Dual{ForwardDiff.Tag{BilevelTrajOpt.##3#8{BilevelTrajOpt.##41#45{BilevelTrajOpt.SimData,Array{Float64,1},Array{Float64,2},Array{Tuple{RigidBodyDynamics.Spatial.Transform3D{Float64},RigidBodyDynamics.Spatial.Transform3D{Float64}},1},Array{RigidBodyDynamics.Spatial.GeometricJacobian{Array{Float64,2}},1},Array{Float64,1},Array{Float64,1}},BilevelTrajOpt.##42#46{BilevelTrajOpt.SimData,Array{Float64,2},Array{Float64,1},Array{Float64,1}},Int64,Int64},Float64},Float64,8},2}}\u001b[1m)\u001b[22m\u001b[22m at \u001b[1m/home/blandry/.julia/v0.6/ForwardDiff/src/jacobian.jl:229\u001b[22m\u001b[22m",
      " [11] \u001b[1mjacobian\u001b[22m\u001b[22m\u001b[1m(\u001b[22m\u001b[22m::Function, ::Array{Float64,2}, ::ForwardDiff.JacobianConfig{ForwardDiff.Tag{BilevelTrajOpt.##3#8{BilevelTrajOpt.##41#45{BilevelTrajOpt.SimData,Array{Float64,1},Array{Float64,2},Array{Tuple{RigidBodyDynamics.Spatial.Transform3D{Float64},RigidBodyDynamics.Spatial.Transform3D{Float64}},1},Array{RigidBodyDynamics.Spatial.GeometricJacobian{Array{Float64,2}},1},Array{Float64,1},Array{Float64,1}},BilevelTrajOpt.##42#46{BilevelTrajOpt.SimData,Array{Float64,2},Array{Float64,1},Array{Float64,1}},Int64,Int64},Float64},Float64,8,Array{ForwardDiff.Dual{ForwardDiff.Tag{BilevelTrajOpt.##3#8{BilevelTrajOpt.##41#45{BilevelTrajOpt.SimData,Array{Float64,1},Array{Float64,2},Array{Tuple{RigidBodyDynamics.Spatial.Transform3D{Float64},RigidBodyDynamics.Spatial.Transform3D{Float64}},1},Array{RigidBodyDynamics.Spatial.GeometricJacobian{Array{Float64,2}},1},Array{Float64,1},Array{Float64,1}},BilevelTrajOpt.##42#46{BilevelTrajOpt.SimData,Array{Float64,2},Array{Float64,1},Array{Float64,1}},Int64,Int64},Float64},Float64,8},2}}, ::Val{true}\u001b[1m)\u001b[22m\u001b[22m at \u001b[1m/home/blandry/.julia/v0.6/ForwardDiff/src/jacobian.jl:19\u001b[22m\u001b[22m",
      " [12] \u001b[1mjacobian\u001b[22m\u001b[22m\u001b[1m(\u001b[22m\u001b[22m::Function, ::Array{Float64,2}, ::ForwardDiff.JacobianConfig{ForwardDiff.Tag{BilevelTrajOpt.##3#8{BilevelTrajOpt.##41#45{BilevelTrajOpt.SimData,Array{Float64,1},Array{Float64,2},Array{Tuple{RigidBodyDynamics.Spatial.Transform3D{Float64},RigidBodyDynamics.Spatial.Transform3D{Float64}},1},Array{RigidBodyDynamics.Spatial.GeometricJacobian{Array{Float64,2}},1},Array{Float64,1},Array{Float64,1}},BilevelTrajOpt.##42#46{BilevelTrajOpt.SimData,Array{Float64,2},Array{Float64,1},Array{Float64,1}},Int64,Int64},Float64},Float64,8,Array{ForwardDiff.Dual{ForwardDiff.Tag{BilevelTrajOpt.##3#8{BilevelTrajOpt.##41#45{BilevelTrajOpt.SimData,Array{Float64,1},Array{Float64,2},Array{Tuple{RigidBodyDynamics.Spatial.Transform3D{Float64},RigidBodyDynamics.Spatial.Transform3D{Float64}},1},Array{RigidBodyDynamics.Spatial.GeometricJacobian{Array{Float64,2}},1},Array{Float64,1},Array{Float64,1}},BilevelTrajOpt.##42#46{BilevelTrajOpt.SimData,Array{Float64,2},Array{Float64,1},Array{Float64,1}},Int64,Int64},Float64},Float64,8},2}}\u001b[1m)\u001b[22m\u001b[22m at \u001b[1m/home/blandry/.julia/v0.6/ForwardDiff/src/jacobian.jl:15\u001b[22m\u001b[22m (repeats 2 times)",
      " [13] \u001b[1m#auglag_solve#2\u001b[22m\u001b[22m\u001b[1m(\u001b[22m\u001b[22m::Float64, ::Function, ::Array{Float64,1}, ::Array{Float64,1}, ::Array{Float64,1}, ::BilevelTrajOpt.##40#44, ::BilevelTrajOpt.##41#45{BilevelTrajOpt.SimData,Array{Float64,1},Array{Float64,2},Array{Tuple{RigidBodyDynamics.Spatial.Transform3D{Float64},RigidBodyDynamics.Spatial.Transform3D{Float64}},1},Array{RigidBodyDynamics.Spatial.GeometricJacobian{Array{Float64,2}},1},Array{Float64,1},Array{Float64,1}}, ::BilevelTrajOpt.##42#46{BilevelTrajOpt.SimData,Array{Float64,2},Array{Float64,1},Array{Float64,1}}\u001b[1m)\u001b[22m\u001b[22m at \u001b[1m/home/blandry/.julia/v0.6/BilevelTrajOpt/src/auglag.jl:57\u001b[22m\u001b[22m",
      " [14] \u001b[1m#solve_implicit_contact_τ#38\u001b[22m\u001b[22m\u001b[1m(\u001b[22m\u001b[22m::Bool, ::Function, ::BilevelTrajOpt.SimData, ::Array{Float64,1}, ::Array{Float64,2}, ::Array{Tuple{RigidBodyDynamics.Spatial.Transform3D{Float64},RigidBodyDynamics.Spatial.Transform3D{Float64}},1}, ::Array{RigidBodyDynamics.Spatial.GeometricJacobian{Array{Float64,2}},1}, ::Array{Float64,1}, ::Array{Float64,1}, ::Array{Float64,1}, ::Array{Float64,1}, ::Array{Float64,1}\u001b[1m)\u001b[22m\u001b[22m at \u001b[1m/home/blandry/.julia/v0.6/BilevelTrajOpt/src/contact.jl:162\u001b[22m\u001b[22m",
      " [15] \u001b[1m(::BilevelTrajOpt.#eval_g#68{BilevelTrajOpt.SimData,Array{Float64,1},Array{Float64,1},Array{Float64,1},Array{Float64,1},Array{Float64,1},Array{Float64,1},Symmetric{Float64,Array{Float64,2}}})\u001b[22m\u001b[22m\u001b[1m(\u001b[22m\u001b[22m::Array{Float64,1}, ::Array{Float64,1}\u001b[1m)\u001b[22m\u001b[22m at \u001b[1m/home/blandry/.julia/v0.6/BilevelTrajOpt/src/simulation.jl:125\u001b[22m\u001b[22m",
      " [16] \u001b[1meval_g_wrapper\u001b[22m\u001b[22m\u001b[1m(\u001b[22m\u001b[22m::Int32, ::Ptr{Float64}, ::Int32, ::Int32, ::Ptr{Float64}, ::Ptr{Void}\u001b[1m)\u001b[22m\u001b[22m at \u001b[1m/home/blandry/.julia/v0.6/Ipopt/src/Ipopt.jl:116\u001b[22m\u001b[22m",
      " [17] \u001b[1msolveProblem\u001b[22m\u001b[22m\u001b[1m(\u001b[22m\u001b[22m::Ipopt.IpoptProblem\u001b[1m)\u001b[22m\u001b[22m at \u001b[1m/home/blandry/.julia/v0.6/Ipopt/src/Ipopt.jl:318\u001b[22m\u001b[22m",
      " [18] \u001b[1m#simulate#78\u001b[22m\u001b[22m\u001b[1m(\u001b[22m\u001b[22m::Bool, ::Function, ::RigidBodyDynamics.MechanismState{Float64,Float64,Float64,TypeSortedCollections.TypeSortedCollection{Tuple{Array{RigidBodyDynamics.Joint{Float64,RigidBodyDynamics.Fixed{Float64}},1},Array{RigidBodyDynamics.Joint{Float64,RigidBodyDynamics.QuaternionFloating{Float64}},1}},2}}, ::BilevelTrajOpt.Environment, ::Float64, ::Int64, ::##1#2\u001b[1m)\u001b[22m\u001b[22m at \u001b[1m/home/blandry/.julia/v0.6/BilevelTrajOpt/src/simulation.jl:300\u001b[22m\u001b[22m",
      " [19] \u001b[1m(::BilevelTrajOpt.#kw##simulate)\u001b[22m\u001b[22m\u001b[1m(\u001b[22m\u001b[22m::Array{Any,1}, ::BilevelTrajOpt.#simulate, ::RigidBodyDynamics.MechanismState{Float64,Float64,Float64,TypeSortedCollections.TypeSortedCollection{Tuple{Array{RigidBodyDynamics.Joint{Float64,RigidBodyDynamics.Fixed{Float64}},1},Array{RigidBodyDynamics.Joint{Float64,RigidBodyDynamics.QuaternionFloating{Float64}},1}},2}}, ::BilevelTrajOpt.Environment, ::Float64, ::Int64, ::Function\u001b[1m)\u001b[22m\u001b[22m at \u001b[1m./<missing>:0\u001b[22m\u001b[22m",
      " [20] \u001b[1minclude_string\u001b[22m\u001b[22m\u001b[1m(\u001b[22m\u001b[22m::String, ::String\u001b[1m)\u001b[22m\u001b[22m at \u001b[1m./loading.jl:522\u001b[22m\u001b[22m",
      " [21] \u001b[1mexecute_request\u001b[22m\u001b[22m\u001b[1m(\u001b[22m\u001b[22m::ZMQ.Socket, ::IJulia.Msg\u001b[1m)\u001b[22m\u001b[22m at \u001b[1m/home/blandry/.julia/v0.6/IJulia/src/execute_request.jl:193\u001b[22m\u001b[22m",
      " [22] \u001b[1m(::Compat.#inner#14{Array{Any,1},IJulia.#execute_request,Tuple{ZMQ.Socket,IJulia.Msg}})\u001b[22m\u001b[22m\u001b[1m(\u001b[22m\u001b[22m\u001b[1m)\u001b[22m\u001b[22m at \u001b[1m/home/blandry/.julia/v0.6/Compat/src/Compat.jl:332\u001b[22m\u001b[22m",
      " [23] \u001b[1meventloop\u001b[22m\u001b[22m\u001b[1m(\u001b[22m\u001b[22m::ZMQ.Socket\u001b[1m)\u001b[22m\u001b[22m at \u001b[1m/home/blandry/.julia/v0.6/IJulia/src/eventloop.jl:8\u001b[22m\u001b[22m",
      " [24] \u001b[1m(::IJulia.##13#16)\u001b[22m\u001b[22m\u001b[1m(\u001b[22m\u001b[22m\u001b[1m)\u001b[22m\u001b[22m at \u001b[1m./task.jl:335\u001b[22m\u001b[22m"
     ]
    }
   ],
   "source": [
    "println(\"Implicit Contacts\")\n",
    "traj_imp = BilevelTrajOpt.simulate(x0,env,Δt,N,ctrl!,implicit_contact=true);"
   ]
  },
  {
   "cell_type": "code",
   "execution_count": 8,
   "metadata": {},
   "outputs": [
    {
     "name": "stdout",
     "output_type": "stream",
     "text": [
      "Explicit Contacts\n",
      "elapsed time: 137.132422711 seconds\n",
      "elapsed time: 0.027518419 seconds\n",
      "\n",
      "******************************************************************************\n",
      "This program contains Ipopt, a library for large-scale nonlinear optimization.\n",
      " Ipopt is released as open source code under the Eclipse Public License (EPL).\n",
      "         For more information visit http://projects.coin-or.org/Ipopt\n",
      "******************************************************************************\n",
      "\n",
      "elapsed time: 0.017489856 seconds\n",
      "elapsed time: 0.033624668 seconds\n",
      "elapsed time: 0.054792904 seconds\n",
      "elapsed time: 0.074861825 seconds\n",
      "elapsed time: 0.036892436 seconds\n",
      "elapsed time: 0.032217669 seconds\n",
      "elapsed time: 0.027680029 seconds\n",
      "elapsed time: 0.065733802 seconds\n",
      "elapsed time: 0.012051595 seconds\n",
      "elapsed time: 0.028770254 seconds\n",
      "elapsed time: 0.03412752 seconds\n",
      "elapsed time: 0.061277711 seconds\n",
      "elapsed time: 0.04415214 seconds\n",
      "elapsed time: 0.009026114 seconds\n",
      "elapsed time: 0.053560504 seconds\n",
      "elapsed time: 0.052375043 seconds\n",
      "elapsed time: 0.050809886 seconds\n",
      "elapsed time: 0.044874673 seconds\n",
      "Solve_Succeeded\n",
      "elapsed time: 0.025939085 seconds\n",
      "elapsed time: 0.009913582 seconds\n",
      "elapsed time: 0.055383038 seconds\n",
      "elapsed time: 0.057941703 seconds\n",
      "elapsed time: 0.009575403 seconds\n",
      "elapsed time: 0.044855643 seconds\n",
      "elapsed time: 0.031205812 seconds\n",
      "elapsed time: 0.032200394 seconds\n",
      "elapsed time: 0.010397364 seconds\n",
      "elapsed time: 0.050677859 seconds\n",
      "elapsed time: 0.031660437 seconds\n",
      "elapsed time: 0.031830134 seconds\n",
      "elapsed time: 0.034071708 seconds\n",
      "elapsed time: 0.03253362 seconds\n",
      "elapsed time: 0.024172559 seconds\n",
      "elapsed time: 0.0357061 seconds\n",
      "Solve_Succeeded\n",
      "elapsed time: 0.023513103 seconds\n",
      "elapsed time: 0.024185776 seconds\n",
      "elapsed time: 0.037238287 seconds\n",
      "elapsed time: 0.035189609 seconds\n",
      "elapsed time: 0.023718195 seconds\n",
      "elapsed time: 0.111411896 seconds\n",
      "elapsed time: 0.025402168 seconds\n",
      "elapsed time: 0.048333834 seconds\n",
      "elapsed time: 0.029970215 seconds\n",
      "elapsed time: 0.020893214 seconds\n",
      "elapsed time: 0.057110527 seconds\n",
      "elapsed time: 0.033444382 seconds\n",
      "elapsed time: 0.026235932 seconds\n",
      "elapsed time: 0.027893762 seconds\n",
      "elapsed time: 0.032742353 seconds\n",
      "elapsed time: 0.038265645 seconds\n",
      "elapsed time: 0.047643801 seconds\n",
      "elapsed time: 0.009824605 seconds\n",
      "Solve_Succeeded\n",
      "elapsed time: 0.044017502 seconds\n",
      "elapsed time: 0.051177865 seconds\n",
      "elapsed time: 0.055233479 seconds\n",
      "elapsed time: 0.038852317 seconds\n",
      "elapsed time: 0.034842355 seconds\n",
      "elapsed time: 0.04614289 seconds\n",
      "elapsed time: 0.032784887 seconds\n",
      "elapsed time: 0.040182609 seconds\n",
      "elapsed time: 0.093263004 seconds\n",
      "elapsed time: 0.02824773 seconds\n",
      "elapsed time: 0.030219255 seconds\n",
      "elapsed time: 0.010051232 seconds\n",
      "elapsed time: 0.05693443 seconds\n",
      "elapsed time: 0.023573377 seconds\n",
      "elapsed time: 0.035629397 seconds\n",
      "elapsed time: 0.0417076 seconds\n",
      "elapsed time: 0.034462044 seconds\n",
      "elapsed time: 0.035491101 seconds\n",
      "elapsed time: 0.010399245 seconds\n",
      "elapsed time: 0.051274763 seconds\n",
      "Solve_Succeeded\n",
      "elapsed time: 0.034501876 seconds\n",
      "elapsed time: 0.020775694 seconds\n",
      "elapsed time: 0.039537845 seconds\n",
      "elapsed time: 0.009912691 seconds\n",
      "elapsed time: 0.035913297 seconds\n",
      "elapsed time: 0.048520372 seconds\n",
      "elapsed time: 0.042834627 seconds\n",
      "elapsed time: 0.03797523 seconds\n",
      "elapsed time: 0.072235567 seconds\n",
      "elapsed time: 0.106278248 seconds\n",
      "elapsed time: 0.030968464 seconds\n",
      "elapsed time: 0.029429155 seconds\n",
      "elapsed time: 0.042368926 seconds\n",
      "elapsed time: 0.028628788 seconds\n",
      "elapsed time: 0.009761705 seconds\n",
      "elapsed time: 0.043407178 seconds\n",
      "elapsed time: 0.040071519 seconds\n",
      "elapsed time: 0.063028248 seconds\n",
      "elapsed time: 0.0251237 seconds\n",
      "elapsed time: 0.03248286 seconds\n",
      "elapsed time: 0.039833719 seconds\n",
      "elapsed time: 0.034297429 seconds\n",
      "elapsed time: 0.01023523 seconds\n",
      "elapsed time: 0.054750376 seconds\n",
      "Solve_Succeeded\n"
     ]
    }
   ],
   "source": [
    "println(\"Explicit Contacts\")\n",
    "traj_exp = BilevelTrajOpt.simulate(x0,env,Δt,N,ctrl!,implicit_contact=false);"
   ]
  },
  {
   "cell_type": "code",
   "execution_count": 12,
   "metadata": {},
   "outputs": [
    {
     "data": {
      "image/png": "[encoded data removed]"
     },
     "execution_count": 12,
     "metadata": {},
     "output_type": "execute_result"
    }
   ],
   "source": [
    "ts = cumsum([Δt for i in 1:N]);\n",
    "j = 11\n",
    "plot(traj_exp[j,:],label=\"explicit\")\n",
    "# plot!(traj_imp[j,:],label=\"implicit\")"
   ]
  }
 ],
 "metadata": {
  "kernelspec": {
   "display_name": "Julia 0.6.4",
   "language": "julia",
   "name": "julia-0.6"
  },
  "language_info": {
   "file_extension": ".jl",
   "mimetype": "application/julia",
   "name": "julia",
   "version": "0.6.4"
  }
 },
 "nbformat": 4,
 "nbformat_minor": 2
}
