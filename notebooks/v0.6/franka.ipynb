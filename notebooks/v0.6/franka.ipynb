{
 "cells": [
  {
   "cell_type": "code",
   "execution_count": 1,
   "metadata": {
    "collapsed": false
   },
   "outputs": [
    {
     "data": {
      "text/html": [
       "    <script class='js-collapse-script'>\n",
       "        var curMatch =\n",
       "            window.location.href\n",
       "            .match(/(.*?)\\/notebooks\\/.*\\.ipynb/);\n",
       "\n",
       "        curMatch = curMatch ||\n",
       "            window.location.href\n",
       "            .match(/(.*?)\\/apps\\/.*\\.ipynb/);\n",
       "\n",
       "        if ( curMatch ) {\n",
       "            $('head').append('<base href=\"' + curMatch[1] + '/\">');\n",
       "        }\n",
       "    </script>\n"
      ],
      "text/plain": [
       "HTML{String}(\"    <script class='js-collapse-script'>\\n        var curMatch =\\n            window.location.href\\n            .match(/(.*?)\\\\/notebooks\\\\/.*\\\\.ipynb/);\\n\\n        curMatch = curMatch ||\\n            window.location.href\\n            .match(/(.*?)\\\\/apps\\\\/.*\\\\.ipynb/);\\n\\n        if ( curMatch ) {\\n            \\$('head').append('<base href=\\\"' + curMatch[1] + '/\\\">');\\n        }\\n    </script>\\n\")"
      ]
     },
     "metadata": {},
     "output_type": "display_data"
    },
    {
     "data": {
      "text/html": [
       "<script class='js-collapse-script' src='/assetserver/8c8a043c2f00369f3e7ae550277d2a54e59a34ad-assets/webio/dist/bundle.js'></script>"
      ],
      "text/plain": [
       "HTML{String}(\"<script class='js-collapse-script' src='/assetserver/8c8a043c2f00369f3e7ae550277d2a54e59a34ad-assets/webio/dist/bundle.js'></script>\")"
      ]
     },
     "metadata": {},
     "output_type": "display_data"
    },
    {
     "data": {
      "text/html": [
       "<script class='js-collapse-script' src='/assetserver/8c8a043c2f00369f3e7ae550277d2a54e59a34ad-assets/providers/ijulia_setup.js'></script>"
      ],
      "text/plain": [
       "HTML{String}(\"<script class='js-collapse-script' src='/assetserver/8c8a043c2f00369f3e7ae550277d2a54e59a34ad-assets/providers/ijulia_setup.js'></script>\")"
      ]
     },
     "metadata": {},
     "output_type": "display_data"
    },
    {
     "data": {
      "text/html": [
       "  <script class='js-collapse-script'>\n",
       "    $('.js-collapse-script').parent('.output_subarea').css('padding', '0');\n",
       "  </script>\n"
      ],
      "text/plain": [
       "HTML{String}(\"  <script class='js-collapse-script'>\\n    \\$('.js-collapse-script').parent('.output_subarea').css('padding', '0');\\n  </script>\\n\")"
      ]
     },
     "metadata": {},
     "output_type": "display_data"
    }
   ],
   "source": [
    "using Revise\n",
    "using RigidBodyDynamics\n",
    "using DrakeVisualizer\n",
    "using Plots\n",
    "using RigidBodyTreeInspector"
   ]
  },
  {
   "cell_type": "code",
   "execution_count": 2,
   "metadata": {
    "collapsed": false
   },
   "outputs": [
    {
     "data": {
      "text/plain": [
       "MechanismState{Float64, Float64, Float64, …}(…)"
      ]
     },
     "execution_count": 2,
     "metadata": {},
     "output_type": "execute_result"
    }
   ],
   "source": [
    "urdf = joinpath(\"..\", \"urdf\", \"panda\", \"panda_arm.urdf\")\n",
    "mechanism = parse_urdf(Float64, urdf)\n",
    "state = MechanismState(mechanism)"
   ]
  },
  {
   "cell_type": "code",
   "execution_count": 20,
   "metadata": {
    "collapsed": false
   },
   "outputs": [
    {
     "data": {
      "text/plain": [
       "(::controller!) (generic function with 1 method)"
      ]
     },
     "execution_count": 20,
     "metadata": {},
     "output_type": "execute_result"
    }
   ],
   "source": [
    "function make_end_effector_controller(state::MechanismState,\n",
    "                                      end_effector::RigidBody,\n",
    "                                      end_effector_point::Point3D,\n",
    "                                      desired_point::Point3D)\n",
    "    \n",
    "    mechanism = state.mechanism\n",
    "    v̇ = similar(velocity(state))\n",
    "    \n",
    "    joint_path = path(mechanism, root_body(mechanism), end_effector) # from root to end effector\n",
    "    Jp = point_jacobian(state, joint_path, transform(state, end_effector_point, root_frame(mechanism)))\n",
    "        \n",
    "    function controller!(τ, t, state)\n",
    "        ef_point_in_world = transform_to_root(state, end_effector) * end_effector_point\n",
    "        point_jacobian!(Jp, state, joint_path, ef_point_in_world)\n",
    "        des_point_in_world = transform(state, desired_point, root_frame(mechanism))\n",
    "        Kp = 10.\n",
    "        Kd = 5.\n",
    "        Δp = des_point_in_world - ef_point_in_world\n",
    "        v̇ .= Kp * Array(Jp)' * Δp.v .- Kd .* velocity(state)\n",
    "        τ .= inverse_dynamics(state, v̇)\n",
    "    end\n",
    "end\n",
    "\n",
    "desired_point_v = [-.5, .6, .6]\n",
    "end_effector = findbody(mechanism, \"panda_link8\")\n",
    "end_effector_point = Point3D(default_frame(end_effector), [0.,.025,0.])\n",
    "desired_point = Point3D(root_frame(mechanism), desired_point_v)\n",
    "point_ctrl! = make_end_effector_controller(state, end_effector, end_effector_point, desired_point)"
   ]
  },
  {
   "cell_type": "code",
   "execution_count": 21,
   "metadata": {
    "collapsed": false
   },
   "outputs": [],
   "source": [
    "set_configuration!(state, zeros(num_positions(mechanism)))\n",
    "set_velocity!(state, zeros(num_velocities(mechanism)))\n",
    "setdirty!(state)\n",
    "final_time = 20.\n",
    "ts, qs, vs = simulate(state, final_time, point_ctrl!; Δt = 1e-3);"
   ]
  },
  {
   "cell_type": "code",
   "execution_count": 8,
   "metadata": {
    "collapsed": false
   },
   "outputs": [
    {
     "data": {
      "text/plain": [
       "20001-element Array{RigidBodyDynamics.CustomCollections.SegmentedVector{RigidBodyDynamics.JointID,Float64,Base.OneTo{RigidBodyDynamics.JointID},Array{Float64,1}},1}:\n",
       " [0.0, 0.0, 0.0, 0.0, 0.0, 0.0, 0.0]                                                     \n",
       " [2.19927e-8, 5.45338e-8, 2.19927e-8, -1.58957e-8, 2.19927e-8, -1.53469e-8, -1.03106e-33]\n",
       " [8.79414e-8, 2.18063e-7, 8.79414e-8, -6.35616e-8, 8.79414e-8, -6.13671e-8, 3.80644e-23] \n",
       " [1.97802e-7, 4.90477e-7, 1.97802e-7, -1.42966e-7, 1.97802e-7, -1.3803e-7, 9.5161e-23]   \n",
       " [3.51531e-7, 8.71669e-7, 3.51531e-7, -2.54077e-7, 3.51531e-7, -2.45305e-7, 1.7129e-22]  \n",
       " [5.49085e-7, 1.36153e-6, 5.49084e-7, -3.96864e-7, 5.49084e-7, -3.83161e-7, 2.09354e-22] \n",
       " [7.9042e-7, 1.95995e-6, 7.90418e-7, -5.71293e-7, 7.90418e-7, -5.51568e-7, 2.56935e-22]  \n",
       " [1.07549e-6, 2.66682e-6, 1.07549e-6, -7.77335e-7, 1.07549e-6, -7.50494e-7, 3.42579e-22] \n",
       " [1.40426e-6, 3.48204e-6, 1.40425e-6, -1.01496e-6, 1.40425e-6, -9.79911e-7, 4.47257e-22] \n",
       " [1.77667e-6, 4.40549e-6, 1.77667e-6, -1.28413e-6, 1.77666e-6, -1.23979e-6, 5.89998e-22] \n",
       " [2.1927e-6, 5.43706e-6, 2.19268e-6, -1.58482e-6, 2.19268e-6, -1.53009e-6, 7.70804e-22]  \n",
       " [2.65229e-6, 6.57666e-6, 2.65227e-6, -1.91699e-6, 2.65226e-6, -1.85079e-6, 9.32577e-22] \n",
       " [3.15539e-6, 7.82416e-6, 3.15537e-6, -2.28062e-6, 3.15536e-6, -2.20186e-6, 1.10387e-21] \n",
       " ⋮                                                                                       \n",
       " [1.01634, 1.08299, 0.360807, -0.551863, 0.239985, 0.0330338, -1.9886e-16]               \n",
       " [1.01634, 1.08299, 0.360807, -0.551865, 0.239985, 0.0330307, -1.98844e-16]              \n",
       " [1.01634, 1.08299, 0.360807, -0.551866, 0.239984, 0.0330276, -1.9883e-16]               \n",
       " [1.01634, 1.08299, 0.360807, -0.551868, 0.239984, 0.0330245, -1.98816e-16]              \n",
       " [1.01634, 1.08299, 0.360806, -0.55187, 0.239984, 0.0330215, -1.98802e-16]               \n",
       " [1.01634, 1.08299, 0.360806, -0.551871, 0.239984, 0.0330184, -1.98785e-16]              \n",
       " [1.01634, 1.08299, 0.360806, -0.551873, 0.239983, 0.0330153, -1.98769e-16]              \n",
       " [1.01634, 1.08299, 0.360806, -0.551874, 0.239983, 0.0330123, -1.98755e-16]              \n",
       " [1.01634, 1.08299, 0.360806, -0.551876, 0.239983, 0.0330092, -1.98742e-16]              \n",
       " [1.01634, 1.08299, 0.360806, -0.551877, 0.239983, 0.0330061, -1.98726e-16]              \n",
       " [1.01633, 1.08299, 0.360806, -0.551879, 0.239982, 0.033003, -1.98709e-16]               \n",
       " [1.01633, 1.08299, 0.360806, -0.55188, 0.239982, 0.033, -1.98693e-16]                   "
      ]
     },
     "execution_count": 8,
     "metadata": {},
     "output_type": "execute_result"
    }
   ],
   "source": [
    "qs"
   ]
  },
  {
   "cell_type": "code",
   "execution_count": 10,
   "metadata": {
    "collapsed": false
   },
   "outputs": [],
   "source": [
    "DrakeVisualizer.any_open_windows() || (DrakeVisualizer.new_window(); sleep(1));\n",
    "geometries = visual_elements(mechanism, URDFVisuals(urdf))\n",
    "vis = Visualizer(mechanism, geometries);"
   ]
  },
  {
   "cell_type": "code",
   "execution_count": 15,
   "metadata": {
    "collapsed": true
   },
   "outputs": [],
   "source": [
    "desired_point_vis = Point3D(root_frame(mechanism), desired_point_v)\n",
    "addgeometry!(vis, mechanism, desired_point_vis; radius=0.025)"
   ]
  },
  {
   "cell_type": "code",
   "execution_count": 22,
   "metadata": {
    "collapsed": false
   },
   "outputs": [],
   "source": [
    "RigidBodyTreeInspector.animate(vis, mechanism, ts, qs; realtimerate = 1.);"
   ]
  }
 ],
 "metadata": {
  "kernelspec": {
   "display_name": "Julia 0.6.4",
   "language": "julia",
   "name": "julia-0.6"
  },
  "language_info": {
   "file_extension": ".jl",
   "mimetype": "application/julia",
   "name": "julia",
   "version": "0.6.4"
  }
 },
 "nbformat": 4,
 "nbformat_minor": 2
}
