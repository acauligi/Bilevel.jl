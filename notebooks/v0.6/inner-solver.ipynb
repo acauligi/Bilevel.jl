{
 "cells": [
  {
   "cell_type": "code",
   "execution_count": 1,
   "metadata": {},
   "outputs": [],
   "source": [
    "using Revise\n",
    "\n",
    "using RigidBodyDynamics\n",
    "using RigidBodyDynamics: Bounds\n",
    "\n",
    "using Plots\n",
    "using Bilevel"
   ]
  },
  {
   "cell_type": "code",
   "execution_count": 2,
   "metadata": {},
   "outputs": [],
   "source": [
    "urdf = joinpath(\"..\", \"urdf\", \"ball.urdf\")\n",
    "mechanism = parse_urdf(Float64, urdf)\n",
    "body = findbody(mechanism, \"ball\")\n",
    "basejoint = joint_to_parent(body, mechanism)\n",
    "floatingjoint = Joint(basejoint.name, frame_before(basejoint), frame_after(basejoint), QuaternionFloating{Float64}())\n",
    "replace_joint!(mechanism, basejoint, floatingjoint)\n",
    "position_bounds(floatingjoint) .= Bounds(-100, 100)\n",
    "velocity_bounds(floatingjoint) .= Bounds(-100, 100)\n",
    "μ = 0.5\n",
    "motion_type = :xyz\n",
    "point = Point3D(default_frame(findbody(mechanism, \"floor\")), [0.,0.,0.])\n",
    "normal = FreeVector3D(default_frame(findbody(mechanism, \"floor\")), [0.,0.,1.])\n",
    "hs = HalfSpace(point, normal)\n",
    "floor = Obstacle(hs, μ, motion_type)\n",
    "obstacles = [floor]\n",
    "env = parse_contacts(mechanism, urdf, obstacles)\n",
    "x0 = MechanismState(mechanism)\n",
    "Δt = 0.005\n",
    "sim_data = get_sim_data(x0,env,Δt,true);"
   ]
  },
  {
   "cell_type": "code",
   "execution_count": 3,
   "metadata": {},
   "outputs": [
    {
     "name": "stdout",
     "output_type": "stream",
     "text": [
      "elapsed time: 23.677732814 seconds\n",
      "elapsed time: 0.004962273 seconds\n",
      "\n",
      "******************************************************************************\n",
      "This program contains Ipopt, a library for large-scale nonlinear optimization.\n",
      " Ipopt is released as open source code under the Eclipse Public License (EPL).\n",
      "         For more information visit http://projects.coin-or.org/Ipopt\n",
      "******************************************************************************\n",
      "\n",
      "elapsed time: 0.004321039 seconds\n",
      "elapsed time: 0.005525651 seconds\n",
      "elapsed time: 0.004324706 seconds\n",
      "elapsed time: 0.004271795 seconds\n",
      "elapsed time: 0.004239183 seconds\n",
      "elapsed time: 0.004366555 seconds\n",
      "elapsed time: 0.004574319 seconds\n",
      "elapsed time: 0.004282986 seconds\n",
      "elapsed time: 0.004291372 seconds\n",
      "elapsed time: 0.004291222 seconds\n",
      "elapsed time: 0.004371003 seconds\n",
      "elapsed time: 0.004340285 seconds\n",
      "elapsed time: 0.004233302 seconds\n",
      "elapsed time: 0.004416279 seconds\n",
      "elapsed time: 0.004483446 seconds\n",
      "elapsed time: 0.004345175 seconds\n",
      "elapsed time: 0.004370262 seconds\n",
      "elapsed time: 0.004354061 seconds\n",
      "elapsed time: 0.004537288 seconds\n",
      "Solve_Succeeded\n"
     ]
    },
    {
     "data": {
      "text/plain": [
       "\"Explicit\""
      ]
     },
     "metadata": {},
     "output_type": "display_data"
    },
    {
     "data": {
      "text/plain": [
       "6-element Array{Float64,1}:\n",
       " 5.58841e-8\n",
       " 5.58841e-8\n",
       " 0.24999   \n",
       " 0.24999   \n",
       " 0.087738  \n",
       " 0.999959  "
      ]
     },
     "metadata": {},
     "output_type": "display_data"
    },
    {
     "data": {
      "text/plain": [
       "\"IP\""
      ]
     },
     "metadata": {},
     "output_type": "display_data"
    },
    {
     "data": {
      "text/plain": [
       "6-element Array{Float64,1}:\n",
       " 0.0\n",
       " 0.0\n",
       " 0.0\n",
       " 0.0\n",
       " 0.0\n",
       " 0.0"
      ]
     },
     "metadata": {},
     "output_type": "display_data"
    },
    {
     "data": {
      "text/plain": [
       "\"Aug Lag\""
      ]
     },
     "metadata": {},
     "output_type": "display_data"
    },
    {
     "data": {
      "text/plain": [
       "6-element Array{Float64,1}:\n",
       " 1.77679e-8\n",
       " 1.85149e-8\n",
       " 0.24999   \n",
       " 0.24999   \n",
       " 0.087738  \n",
       " 0.999959  "
      ]
     },
     "metadata": {},
     "output_type": "display_data"
    },
    {
     "data": {
      "text/plain": [
       "\"torques\""
      ]
     },
     "metadata": {},
     "output_type": "display_data"
    },
    {
     "data": {
      "text/plain": [
       "6-element Array{Float64,1}:\n",
       " 0.0\n",
       " 0.0\n",
       " 0.0\n",
       " 0.0\n",
       " 0.0\n",
       " 0.0"
      ]
     },
     "metadata": {},
     "output_type": "display_data"
    },
    {
     "data": {
      "text/plain": [
       "6-element Array{Float64,1}:\n",
       "  0.0   \n",
       "  0.0   \n",
       "  0.0   \n",
       "  2.4524\n",
       "  2.4524\n",
       " -9.8096"
      ]
     },
     "metadata": {},
     "output_type": "display_data"
    },
    {
     "name": "stdout",
     "output_type": "stream",
     "text": [
      "Not_Enough_Degrees_Of_Freedom\n"
     ]
    }
   ],
   "source": [
    "q0 = [1., 0., 0., 0., 0., 0., 0.]\n",
    "v0 = [0., 0., 0., 0.1, 0.1, 0.]\n",
    "\n",
    "u0 = zeros(sim_data.num_v)\n",
    "set_configuration!(x0, q0)\n",
    "set_velocity!(x0, v0)\n",
    "setdirty!(x0)\n",
    "ctrl! = (u,t,x) -> u[:] = 0.\n",
    "traj = Bilevel.simulate(x0,env,sim_data.Δt,1,ctrl!,implicit_contact=false)\n",
    "qnext = traj[1:sim_data.num_q,2]\n",
    "vnext = traj[sim_data.num_q+1:sim_data.num_q+sim_data.num_v,2]\n",
    "x_sol_exp = traj[sim_data.num_q+sim_data.num_v+2:end,2]\n",
    "\n",
    "# qnext = q0\n",
    "# vnext = v0\n",
    "\n",
    "τ_ip, x_sol_ip, λ_ip, μ_ip, fx_ip = solve_implicit_contact_τ(sim_data,q0,v0,u0,qnext,vnext,ip_method=true);\n",
    "\n",
    "τ_auglag, x_sol_auglag, λ_auglag, μ_auglag, fx_auglag = solve_implicit_contact_τ(sim_data,q0,v0,u0,qnext,vnext,ip_method=false);\n",
    "\n",
    "display(\"Explicit\")\n",
    "display(x_sol_exp)\n",
    "display(\"IP\")\n",
    "display(x_sol_ip)\n",
    "display(\"Aug Lag\")\n",
    "display(x_sol_auglag)\n",
    "\n",
    "display(\"torques\")\n",
    "display(τ_ip)\n",
    "display(τ_auglag)"
   ]
  },
  {
   "cell_type": "code",
   "execution_count": 4,
   "metadata": {},
   "outputs": [
    {
     "data": {
      "text/plain": [
       "6×13 Array{Float64,2}:\n",
       " 0.0  -0.0135725    0.0135724   …    1.10736    1.1072    0.553617  \n",
       " 0.0  -0.0135718    0.0135719        1.10719    1.10724   0.553591  \n",
       " 0.0  -0.100423     0.100504       -12.195      8.19231   4.0962    \n",
       " 0.0  -0.1005       0.100419         8.19223  -12.1949    4.09606   \n",
       " 0.0   1.99951e-6  -1.99974e-6       0.5        0.5       9.51224e-9\n",
       " 0.0  -0.456549     0.456549    …   -3.54255   -3.54245  18.6159    "
      ]
     },
     "execution_count": 4,
     "metadata": {},
     "output_type": "execute_result"
    }
   ],
   "source": [
    "J_auto = ForwardDiff.jacobian(qv -> solve_implicit_contact_τ(sim_data,q0,v0,u0,qv[1:sim_data.num_q],qv[sim_data.num_q+1:sim_data.num_q+sim_data.num_v],ip_method=false)[2], vcat(qnext,vnext))"
   ]
  },
  {
   "cell_type": "code",
   "execution_count": 11,
   "metadata": {},
   "outputs": [
    {
     "data": {
      "text/plain": [
       "6×13 Array{Float64,2}:\n",
       " 0.0  -0.0135775    0.0135775   …    1.1072      1.1072     0.553618 \n",
       " 0.0  -0.0135771    0.0135771        1.1072      1.1072     0.553602 \n",
       " 0.0  -0.100459     0.100459       -12.195       8.19238    4.09618  \n",
       " 0.0  -0.100459     0.100459         8.19237   -12.195      4.09618  \n",
       " 0.0   8.72873e-5  -8.72174e-5       0.500858    0.500858  -0.0035544\n",
       " 0.0  -0.456558     0.456558    …   -3.54258    -3.54258   18.616    "
      ]
     },
     "metadata": {},
     "output_type": "display_data"
    },
    {
     "data": {
      "text/plain": [
       "6×13 Array{Float64,2}:\n",
       " 0.0  -0.0185299     0.00553914    0.00044324   …    1.11388    0.548876   \n",
       " 0.0  -0.0190978     0.00923254   -0.00305802        1.1071     0.546554   \n",
       " 0.0  -0.0981233     0.105992     -0.49522           8.19176    4.09663    \n",
       " 0.0  -0.0945507     0.10802       0.501013        -12.1943     4.1035     \n",
       " 0.0   0.000206446  -0.000168009   0.000576633       0.499467   0.000207435\n",
       " 0.0  -0.458721      0.458196      0.00693677   …   -3.53242   18.6096     "
      ]
     },
     "metadata": {},
     "output_type": "display_data"
    },
    {
     "name": "stderr",
     "output_type": "stream",
     "text": [
      "WARNING: Method definition update_constraints_implicit_contact(Any, Any, Any, Any, Any, Any, Any) in module Bilevel at /home/blandry/.julia/v0.6/Bilevel/src/simulation.jl:93 overwritten at /home/blandry/.julia/v0.6/Bilevel/src/simulation.jl:93.\n",
      "WARNING: Method definition simulate(RigidBodyDynamics.MechanismState{T, M, C, JointCollection} where JointCollection where C, Bilevel.Environment, Real, Integer, Any) in module Bilevel at /home/blandry/.julia/v0.6/Bilevel/src/simulation.jl:226 overwritten at /home/blandry/.julia/v0.6/Bilevel/src/simulation.jl:225.\n",
      "WARNING: Method definition #simulate(Array{Any, 1}, typeof(Bilevel.simulate), RigidBodyDynamics.MechanismState{T, M, C, JointCollection} where JointCollection where C, Bilevel.Environment, Real, Integer, Any) in module Bilevel overwritten.\n"
     ]
    }
   ],
   "source": [
    "τ_auglag, x_sol_auglag, λ_auglag, μ_auglag, fx_auglag = solve_implicit_contact_τ(sim_data,q0,v0,u0,qnext,vnext,ip_method=false);\n",
    "\n",
    "# autodiff \n",
    "J_auto = ForwardDiff.jacobian(qv -> solve_implicit_contact_τ(sim_data,q0,v0,u0,qv[1:sim_data.num_q],qv[sim_data.num_q+1:sim_data.num_q+sim_data.num_v],ip_method=false)[2], vcat(qnext,vnext))\n",
    "# Jt_auto = ForwardDiff.jacobian(qv -> solve_implicit_contact_τ(sim_data,q0,v0,u0,qv[1:sim_data.num_q],qv[sim_data.num_q+1:sim_data.num_q+sim_data.num_v],ip_method=false)[1], vcat(qnext,vnext))\n",
    "\n",
    "# numerical\n",
    "ϵ = 1e-8\n",
    "J_num = zeros(size(J_auto))\n",
    "# Jt_num = zeros(size(J_auto))\n",
    "# Jt_num_ip = zeros(size(J_auto))\n",
    "qv = vcat(qnext,vnext)\n",
    "for i = 1:length(qv)\n",
    "    δ = zeros(length(qv))\n",
    "    δ[i] = ϵ \n",
    "    τ, x, λ, μ, fx = solve_implicit_contact_τ(sim_data,q0,v0,u0,(qv+δ)[1:sim_data.num_q],(qv+δ)[sim_data.num_q+1:sim_data.num_q+sim_data.num_v],ip_method=false)\n",
    "    J_num[:,i] = (x - x_sol_auglag)/ϵ\n",
    "#     Jt_num[:,i] = (τ - τ_auglag)/ϵ\n",
    "#     τ, x, λ, μ, fx = solve_implicit_contact_τ(sim_data,q0,v0,u0,(qv+δ)[1:sim_data.num_q],(qv+δ)[sim_data.num_q+1:sim_data.num_q+sim_data.num_v],ip_method=true)\n",
    "#     Jt_num_ip[:,i] = (τ - τ_auglag)/ϵ\n",
    "end\n",
    "\n",
    "display(J_auto)\n",
    "display(J_num)\n",
    "\n",
    "# display(Jt_auto)\n",
    "# display(Jt_num)\n",
    "# display(Jt_num_ip)"
   ]
  },
  {
   "cell_type": "code",
   "execution_count": 36,
   "metadata": {},
   "outputs": [
    {
     "data": {
      "text/plain": [
       "6×13 Array{Float64,2}:\n",
       " 0.0  -2.66371e-9    0.041909     …    1.70883  -2.55858e-6   0.854414  \n",
       " 0.0  -1.7208e-8     0.0838183         3.41767   4.66777      1.70883   \n",
       " 0.0  -2.65416e-8    0.240365        -10.5865   -1.46727e-5   4.90042   \n",
       " 0.0   7.27417e-9    0.0838181         3.41766  -4.66774      1.70883   \n",
       " 0.0   1.12996e-10  -3.87681e-10       1.0      -5.35341e-9  -3.94319e-8\n",
       " 0.0  -7.98513e-8    0.900771     …   -4.04601   6.06338e-6  18.3644    "
      ]
     },
     "metadata": {},
     "output_type": "display_data"
    },
    {
     "data": {
      "text/plain": [
       "6×13 Array{Float64,2}:\n",
       " 0.0  -0.000943053   0.0377401    -0.00695856  …  -0.0059646    0.842861   \n",
       " 0.0   0.00141541    0.0841931    -0.23106         4.67418      1.7125     \n",
       " 0.0  -0.00397753    0.233688      0.0137627       0.00101429   4.89938    \n",
       " 0.0   0.00480142    0.0861786     0.2209         -4.66442      1.71835    \n",
       " 0.0  -0.000216623  -0.000396977   0.00192992      0.00187081  -0.000515939\n",
       " 0.0   0.000233757   0.886196     -0.00758604  …   0.00823586  18.3675     "
      ]
     },
     "metadata": {},
     "output_type": "display_data"
    },
    {
     "name": "stderr",
     "output_type": "stream",
     "text": [
      "WARNING: Method definition solve_implicit_contact_τ(Any, Any, Any, Any, Any, Any, Any, Any, Any, Any) in module Bilevel at /Users/blandry/.julia/v0.6/Bilevel/src/contact.jl:141 overwritten at /Users/blandry/.julia/v0.6/Bilevel/src/contact.jl:142.\n",
      "WARNING: Method definition #solve_implicit_contact_τ(Array{Any, 1}, typeof(Bilevel.solve_implicit_contact_τ), Any, Any, Any, Any, Any, Any, Any, Any, Any, Any) in module Bilevel overwritten.\n"
     ]
    }
   ],
   "source": [
    "display(J_auto)\n",
    "display(J_num)"
   ]
  },
  {
   "cell_type": "code",
   "execution_count": 40,
   "metadata": {},
   "outputs": [
    {
     "data": {
      "text/plain": [
       "6×6 Array{Float64,2}:\n",
       " 0.0  0.0  -2.05647e-10   2.19791e-16  -0.000322436  -9.83194e-11\n",
       " 0.0  0.0  -4.13323e-10  -2.66586e-11  -0.000644871   0.0017615  \n",
       " 0.0  0.0  -1.20477e-9    6.16206e-15  -0.0018493    -5.80304e-10\n",
       " 0.0  0.0  -4.10356e-10   2.66481e-11  -0.00064487   -0.0017615  \n",
       " 0.0  0.0  -4.24756e-13   1.87721e-17   6.0039e-12   -9.83364e-12\n",
       " 0.0  0.0  -4.4723e-9    -8.34799e-15  -0.00693025    2.2827e-10 "
      ]
     },
     "metadata": {},
     "output_type": "display_data"
    },
    {
     "data": {
      "text/plain": [
       "6×6 Array{Float64,2}:\n",
       " 0.0  0.0  -0.00435328   -0.00926907   -0.0070735    -0.00340542 \n",
       " 0.0  0.0   0.00434015   -0.00327026    0.00381036    0.00741166 \n",
       " 0.0  0.0  -0.00288652    0.00878751   -0.00310972   -0.00292666 \n",
       " 0.0  0.0  -0.00740216   -0.000392491   0.00351041   -0.0013809  \n",
       " 0.0  0.0   0.000146949   0.000392512  -0.000396957   0.000250959\n",
       " 0.0  0.0  -0.0231815    -0.00738357   -0.00305753   -0.000421307"
      ]
     },
     "metadata": {},
     "output_type": "display_data"
    }
   ],
   "source": [
    "display(J_auto[:,5:10])\n",
    "display(J_num[:,5:10])\n",
    "# display(Jt_num_ip[:,11:13])"
   ]
  },
  {
   "cell_type": "code",
   "execution_count": null,
   "metadata": {
    "collapsed": true
   },
   "outputs": [],
   "source": [
    " (J_num[:,1] - x_sol_auglag)/ϵ"
   ]
  },
  {
   "cell_type": "code",
   "execution_count": 63,
   "metadata": {},
   "outputs": [
    {
     "data": {
      "text/plain": [
       "0.027098530150311717"
      ]
     },
     "execution_count": 63,
     "metadata": {},
     "output_type": "execute_result"
    }
   ],
   "source": [
    "maximum(abs.(J_auto-J_num))"
   ]
  },
  {
   "cell_type": "code",
   "execution_count": null,
   "metadata": {
    "collapsed": true
   },
   "outputs": [],
   "source": [
    "abs.(J_auto-J_num)"
   ]
  },
  {
   "cell_type": "code",
   "execution_count": null,
   "metadata": {
    "collapsed": true
   },
   "outputs": [],
   "source": [
    "J_num"
   ]
  },
  {
   "cell_type": "code",
   "execution_count": null,
   "metadata": {
    "collapsed": true
   },
   "outputs": [],
   "source": [
    "J_auto"
   ]
  }
 ],
 "metadata": {
  "kernelspec": {
   "display_name": "Julia 0.6.4",
   "language": "julia",
   "name": "julia-0.6"
  },
  "language_info": {
   "file_extension": ".jl",
   "mimetype": "application/julia",
   "name": "julia",
   "version": "0.6.4"
  }
 },
 "nbformat": 4,
 "nbformat_minor": 2
}
