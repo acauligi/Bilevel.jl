{
 "cells": [
  {
   "cell_type": "code",
   "execution_count": 1,
   "metadata": {},
   "outputs": [
    {
     "data": {
      "text/html": [
       "    <script class='js-collapse-script'>\n",
       "        var curMatch =\n",
       "            window.location.href\n",
       "            .match(/(.*?)\\/notebooks\\/.*\\.ipynb/);\n",
       "\n",
       "        curMatch = curMatch ||\n",
       "            window.location.href\n",
       "            .match(/(.*?)\\/apps\\/.*\\.ipynb/);\n",
       "\n",
       "        if ( curMatch ) {\n",
       "            $('head').append('<base href=\"' + curMatch[1] + '/\">');\n",
       "        }\n",
       "    </script>\n"
      ],
      "text/plain": [
       "HTML{String}(\"    <script class='js-collapse-script'>\\n        var curMatch =\\n            window.location.href\\n            .match(/(.*?)\\\\/notebooks\\\\/.*\\\\.ipynb/);\\n\\n        curMatch = curMatch ||\\n            window.location.href\\n            .match(/(.*?)\\\\/apps\\\\/.*\\\\.ipynb/);\\n\\n        if ( curMatch ) {\\n            \\$('head').append('<base href=\\\"' + curMatch[1] + '/\\\">');\\n        }\\n    </script>\\n\")"
      ]
     },
     "metadata": {},
     "output_type": "display_data"
    },
    {
     "data": {
      "text/html": [
       "<script class='js-collapse-script' src='/assetserver/9dd84cf97c4fc16956f39829c81f3b6907c8fc83-assets/webio/dist/bundle.js'></script>"
      ],
      "text/plain": [
       "HTML{String}(\"<script class='js-collapse-script' src='/assetserver/9dd84cf97c4fc16956f39829c81f3b6907c8fc83-assets/webio/dist/bundle.js'></script>\")"
      ]
     },
     "metadata": {},
     "output_type": "display_data"
    },
    {
     "data": {
      "text/html": [
       "<script class='js-collapse-script' src='/assetserver/9dd84cf97c4fc16956f39829c81f3b6907c8fc83-assets/providers/ijulia_setup.js'></script>"
      ],
      "text/plain": [
       "HTML{String}(\"<script class='js-collapse-script' src='/assetserver/9dd84cf97c4fc16956f39829c81f3b6907c8fc83-assets/providers/ijulia_setup.js'></script>\")"
      ]
     },
     "metadata": {},
     "output_type": "display_data"
    },
    {
     "data": {
      "text/html": [
       "  <script class='js-collapse-script'>\n",
       "    $('.js-collapse-script').parent('.output_subarea').css('padding', '0');\n",
       "  </script>\n"
      ],
      "text/plain": [
       "HTML{String}(\"  <script class='js-collapse-script'>\\n    \\$('.js-collapse-script').parent('.output_subarea').css('padding', '0');\\n  </script>\\n\")"
      ]
     },
     "metadata": {},
     "output_type": "display_data"
    }
   ],
   "source": [
    "using Revise\n",
    "\n",
    "using RigidBodyDynamics\n",
    "using RigidBodyDynamics: Bounds\n",
    "\n",
    "using DrakeVisualizer\n",
    "using Plots\n",
    "using RigidBodyTreeInspector\n",
    "\n",
    "using Bilevel\n",
    "gr(size=(500,500), html_output_format=:png);"
   ]
  },
  {
   "cell_type": "code",
   "execution_count": 2,
   "metadata": {},
   "outputs": [],
   "source": [
    "urdf = joinpath(\"..\", \"urdf\", \"ball.urdf\")\n",
    "mechanism = parse_urdf(Float64, urdf)\n",
    "body = findbody(mechanism, \"ball\")\n",
    "basejoint = joint_to_parent(body, mechanism)\n",
    "floatingjoint = Joint(basejoint.name, frame_before(basejoint), frame_after(basejoint), QuaternionFloating{Float64}())\n",
    "replace_joint!(mechanism, basejoint, floatingjoint)\n",
    "position_bounds(floatingjoint) .= Bounds(-100, 100)\n",
    "velocity_bounds(floatingjoint) .= Bounds(-100, 100)\n",
    "μ = 0.5\n",
    "motion_type = :xyz\n",
    "point = Point3D(default_frame(findbody(mechanism, \"floor\")), [0.,0.,0.])\n",
    "normal = FreeVector3D(default_frame(findbody(mechanism, \"floor\")), [0.,0.,1.])\n",
    "hs = HalfSpace(point, normal)\n",
    "floor = Obstacle(hs, μ, motion_type)\n",
    "obstacles = [floor]\n",
    "env = parse_contacts(mechanism, urdf, obstacles)\n",
    "x0 = MechanismState(mechanism)\n",
    "Δt = 0.005;"
   ]
  },
  {
   "cell_type": "code",
   "execution_count": 20,
   "metadata": {},
   "outputs": [
    {
     "data": {
      "text/plain": [
       "(::#25) (generic function with 1 method)"
      ]
     },
     "execution_count": 20,
     "metadata": {},
     "output_type": "execute_result"
    }
   ],
   "source": [
    "# q0 = [1., 0., 0., 0., 0., 0., 0.005]\n",
    "q0 = [1., 0., 0., 0., 0., 0., 0.0]\n",
    "v0 = [0., 0., 0., 0.1, 0. , 0.]\n",
    "N = 5\n",
    "\n",
    "set_configuration!(x0, q0)\n",
    "set_velocity!(x0, v0)\n",
    "setdirty!(x0)\n",
    "\n",
    "ctrl! = (u,t,x) -> u[:] = 0."
   ]
  },
  {
   "cell_type": "code",
   "execution_count": 27,
   "metadata": {
    "scrolled": false
   },
   "outputs": [
    {
     "name": "stdout",
     "output_type": "stream",
     "text": [
      "Explicit Contacts\n",
      "Finished successfully: optimality conditions satisfied\n",
      "Finished successfully: optimality conditions satisfied\n",
      "Finished successfully: optimality conditions satisfied\n",
      "Finished successfully: optimality conditions satisfied\n",
      "Finished successfully: optimality conditions satisfied\n"
     ]
    }
   ],
   "source": [
    "println(\"Explicit Contacts\")\n",
    "traj_exp = Bilevel.simulate_snopt(x0,env,Δt,N,ctrl!,implicit_contact=false);"
   ]
  },
  {
   "cell_type": "code",
   "execution_count": 29,
   "metadata": {},
   "outputs": [
    {
     "name": "stdout",
     "output_type": "stream",
     "text": [
      "Implicit Contacts\n"
     ]
    },
    {
     "name": "stderr",
     "output_type": "stream",
     "text": [
      "WARNING: Method definition update_constraints_implicit_snopt(Any, Any, Any, Any, Any, Any, Any) in module Bilevel at /home/blandry/.julia/v0.6/Bilevel/src/simulation_snopt.jl:92 overwritten at /home/blandry/.julia/v0.6/Bilevel/src/simulation_snopt.jl:92.\n",
      "WARNING: Method definition simulate_snopt(RigidBodyDynamics.MechanismState{T, M, C, JointCollection} where JointCollection where C, Bilevel.Environment, Real, Integer, Any) in module Bilevel at /home/blandry/.julia/v0.6/Bilevel/src/simulation_snopt.jl:196 overwritten at /home/blandry/.julia/v0.6/Bilevel/src/simulation_snopt.jl:196.\n",
      "WARNING: Method definition #simulate_snopt(Array{Any, 1}, typeof(Bilevel.simulate_snopt), RigidBodyDynamics.MechanismState{T, M, C, JointCollection} where JointCollection where C, Bilevel.Environment, Real, Integer, Any) in module Bilevel overwritten.\n"
     ]
    },
    {
     "name": "stdout",
     "output_type": "stream",
     "text": [
      "elapsed time: 242.194557072 seconds\n",
      "elapsed time: 0.866916012 seconds\n",
      "elapsed time: 0.858684106 seconds\n",
      "elapsed time: 0.858152469 seconds\n",
      "elapsed time: 0.857327546 seconds\n",
      "elapsed time: 0.856528031 seconds\n",
      "elapsed time: 0.861651007 seconds\n",
      "Finished successfully: optimality conditions satisfied\n",
      "elapsed time: 0.851284877 seconds\n",
      "elapsed time: 0.862713339 seconds\n",
      "elapsed time: 0.857001768 seconds\n",
      "elapsed time: 0.860078858 seconds\n",
      "elapsed time: 1.083094022 seconds\n",
      "elapsed time: 0.814887291 seconds\n",
      "elapsed time: 0.815643414 seconds\n",
      "elapsed time: 0.820084838 seconds\n",
      "elapsed time: 0.817258943 seconds\n",
      "elapsed time: 0.822417316 seconds\n",
      "elapsed time: 0.815011776 seconds\n",
      "elapsed time: 0.815959903 seconds\n",
      "Finished successfully: optimality conditions satisfied\n",
      "elapsed time: 0.82608247 seconds\n",
      "elapsed time: 0.815445147 seconds\n",
      "elapsed time: 0.816297251 seconds\n",
      "elapsed time: 0.815451349 seconds\n",
      "elapsed time: 0.817376295 seconds\n",
      "elapsed time: 0.823814442 seconds\n",
      "elapsed time: 0.812491881 seconds\n",
      "elapsed time: 0.816399995 seconds\n",
      "elapsed time: 0.820130182 seconds\n",
      "elapsed time: 0.816775647 seconds\n",
      "Finished successfully: optimality conditions satisfied\n",
      "elapsed time: 0.823353558 seconds\n",
      "elapsed time: 0.816969894 seconds\n",
      "elapsed time: 0.819835192 seconds\n",
      "elapsed time: 0.820491535 seconds\n",
      "elapsed time: 0.814051795 seconds\n",
      "elapsed time: 0.817164933 seconds\n",
      "elapsed time: 0.819251697 seconds\n",
      "elapsed time: 0.819791328 seconds\n",
      "elapsed time: 0.823994291 seconds\n",
      "elapsed time: 0.814953723 seconds\n",
      "elapsed time: 0.818430019 seconds\n",
      "elapsed time: 0.822432952 seconds\n",
      "elapsed time: 0.822245908 seconds\n",
      "elapsed time: 0.823349178 seconds\n",
      "elapsed time: 0.819416166 seconds\n",
      "elapsed time: 0.824829994 seconds\n",
      "elapsed time: 0.82077969 seconds\n",
      "elapsed time: 0.81773401 seconds\n",
      "elapsed time: 0.816243345 seconds\n",
      "elapsed time: 0.818171408 seconds\n",
      "elapsed time: 0.824323363 seconds\n",
      "elapsed time: 0.820974678 seconds\n",
      "elapsed time: 0.812377851 seconds\n",
      "elapsed time: 0.818187488 seconds\n",
      "elapsed time: 0.999320335 seconds\n",
      "elapsed time: 0.794846739 seconds\n",
      "elapsed time: 0.863859092 seconds\n",
      "elapsed time: 0.81821506 seconds\n",
      "elapsed time: 0.820113476 seconds\n",
      "elapsed time: 0.823733574 seconds\n",
      "elapsed time: 0.815869876 seconds\n",
      "elapsed time: 0.881365717 seconds\n",
      "elapsed time: 0.84759527 seconds\n",
      "elapsed time: 0.820660562 seconds\n",
      "elapsed time: 0.826522236 seconds\n",
      "elapsed time: 0.8186646 seconds\n",
      "elapsed time: 0.821455387 seconds\n",
      "elapsed time: 0.823078482 seconds\n",
      "elapsed time: 0.821673911 seconds\n",
      "elapsed time: 0.825393057 seconds\n",
      "elapsed time: 0.819511033 seconds\n",
      "elapsed time: 0.82912698 seconds\n",
      "elapsed time: 0.8272532 seconds\n",
      "elapsed time: 0.819453814 seconds\n",
      "elapsed time: 0.824539098 seconds\n",
      "elapsed time: 0.822452645 seconds\n",
      "elapsed time: 0.821360136 seconds\n",
      "elapsed time: 0.827599666 seconds\n",
      "elapsed time: 0.820200809 seconds\n",
      "elapsed time: 0.821569721 seconds\n",
      "elapsed time: 0.827302553 seconds\n",
      "elapsed time: 0.819053775 seconds\n",
      "elapsed time: 0.820026838 seconds\n",
      "elapsed time: 0.816488425 seconds\n",
      "elapsed time: 0.819132123 seconds\n",
      "elapsed time: 0.822491036 seconds\n",
      "elapsed time: 0.81800073 seconds\n",
      "elapsed time: 0.823218314 seconds\n",
      "elapsed time: 0.824495013 seconds\n",
      "elapsed time: 0.819668018 seconds\n",
      "elapsed time: 0.851007861 seconds\n",
      "elapsed time: 0.847909692 seconds\n",
      "elapsed time: 0.812709264 seconds\n",
      "elapsed time: 0.832430196 seconds\n",
      "elapsed time: 0.812117694 seconds\n",
      "elapsed time: 0.811581989 seconds\n",
      "elapsed time: 0.818887388 seconds\n",
      "elapsed time: 0.848485081 seconds\n",
      "elapsed time: 0.821840853 seconds\n",
      "elapsed time: 0.818418209 seconds\n",
      "elapsed time: 0.814896717 seconds\n",
      "elapsed time: 0.813401365 seconds\n",
      "elapsed time: 0.814141236 seconds\n",
      "elapsed time: 0.816716474 seconds\n",
      "elapsed time: 0.810429133 seconds\n",
      "elapsed time: 0.812347738 seconds\n",
      "elapsed time: 0.81566429 seconds\n",
      "elapsed time: 0.812520023 seconds\n",
      "elapsed time: 0.813951626 seconds\n",
      "elapsed time: 0.812083196 seconds\n",
      "elapsed time: 0.812093746 seconds\n",
      "elapsed time: 1.058407114 seconds\n",
      "elapsed time: 0.807336582 seconds\n",
      "elapsed time: 0.809569543 seconds\n",
      "elapsed time: 0.810530293 seconds\n",
      "elapsed time: 0.810124566 seconds\n",
      "elapsed time: 0.813615388 seconds\n",
      "elapsed time: 0.805963491 seconds\n",
      "elapsed time: 0.80895075 seconds\n",
      "elapsed time: 0.812834308 seconds\n",
      "elapsed time: 0.80762073 seconds\n",
      "Terminated after numerical difficulties: current point cannot be improved\n",
      "elapsed time: 0.818187058 seconds\n",
      "elapsed time: 0.807284152 seconds\n",
      "elapsed time: 0.808011551 seconds\n",
      "elapsed time: 0.813313796 seconds\n",
      "elapsed time: 0.809293499 seconds\n",
      "elapsed time: 0.813684708 seconds\n",
      "elapsed time: 0.811868297 seconds\n",
      "elapsed time: 0.809079875 seconds\n",
      "elapsed time: 0.814919337 seconds\n",
      "elapsed time: 0.861315524 seconds\n",
      "Finished successfully: optimality conditions satisfied\n"
     ]
    }
   ],
   "source": [
    "println(\"Implicit Contacts\")\n",
    "traj_imp = Bilevel.simulate_snopt(x0,env,Δt,N,ctrl!,implicit_contact=true);"
   ]
  },
  {
   "cell_type": "code",
   "execution_count": 30,
   "metadata": {},
   "outputs": [
    {
     "data": {
      "image/png": "[encoded data removed]"
     },
     "execution_count": 30,
     "metadata": {},
     "output_type": "execute_result"
    }
   ],
   "source": [
    "ts = cumsum([Δt for i in 1:N]);\n",
    "j = 5\n",
    "plot(traj_exp[j,:],label=\"explicit\")\n",
    "plot!(traj_imp[j,:],label=\"implicit\")"
   ]
  }
 ],
 "metadata": {
  "kernelspec": {
   "display_name": "Julia 0.6.4",
   "language": "julia",
   "name": "julia-0.6"
  },
  "language_info": {
   "file_extension": ".jl",
   "mimetype": "application/julia",
   "name": "julia",
   "version": "0.6.4"
  }
 },
 "nbformat": 4,
 "nbformat_minor": 2
}
