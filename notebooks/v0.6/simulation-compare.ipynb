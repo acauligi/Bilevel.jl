{
 "cells": [
  {
   "cell_type": "code",
   "execution_count": 1,
   "metadata": {},
   "outputs": [
    {
     "data": {
      "text/html": [
       "    <script class='js-collapse-script'>\n",
       "        var curMatch =\n",
       "            window.location.href\n",
       "            .match(/(.*?)\\/notebooks\\/.*\\.ipynb/);\n",
       "\n",
       "        curMatch = curMatch ||\n",
       "            window.location.href\n",
       "            .match(/(.*?)\\/apps\\/.*\\.ipynb/);\n",
       "\n",
       "        if ( curMatch ) {\n",
       "            $('head').append('<base href=\"' + curMatch[1] + '/\">');\n",
       "        }\n",
       "    </script>\n"
      ],
      "text/plain": [
       "HTML{String}(\"    <script class='js-collapse-script'>\\n        var curMatch =\\n            window.location.href\\n            .match(/(.*?)\\\\/notebooks\\\\/.*\\\\.ipynb/);\\n\\n        curMatch = curMatch ||\\n            window.location.href\\n            .match(/(.*?)\\\\/apps\\\\/.*\\\\.ipynb/);\\n\\n        if ( curMatch ) {\\n            \\$('head').append('<base href=\\\"' + curMatch[1] + '/\\\">');\\n        }\\n    </script>\\n\")"
      ]
     },
     "metadata": {},
     "output_type": "display_data"
    },
    {
     "data": {
      "text/html": [
       "<script class='js-collapse-script' src='/assetserver/9dd84cf97c4fc16956f39829c81f3b6907c8fc83-assets/webio/dist/bundle.js'></script>"
      ],
      "text/plain": [
       "HTML{String}(\"<script class='js-collapse-script' src='/assetserver/9dd84cf97c4fc16956f39829c81f3b6907c8fc83-assets/webio/dist/bundle.js'></script>\")"
      ]
     },
     "metadata": {},
     "output_type": "display_data"
    },
    {
     "data": {
      "text/html": [
       "<script class='js-collapse-script' src='/assetserver/9dd84cf97c4fc16956f39829c81f3b6907c8fc83-assets/providers/ijulia_setup.js'></script>"
      ],
      "text/plain": [
       "HTML{String}(\"<script class='js-collapse-script' src='/assetserver/9dd84cf97c4fc16956f39829c81f3b6907c8fc83-assets/providers/ijulia_setup.js'></script>\")"
      ]
     },
     "metadata": {},
     "output_type": "display_data"
    },
    {
     "data": {
      "text/html": [
       "  <script class='js-collapse-script'>\n",
       "    $('.js-collapse-script').parent('.output_subarea').css('padding', '0');\n",
       "  </script>\n"
      ],
      "text/plain": [
       "HTML{String}(\"  <script class='js-collapse-script'>\\n    \\$('.js-collapse-script').parent('.output_subarea').css('padding', '0');\\n  </script>\\n\")"
      ]
     },
     "metadata": {},
     "output_type": "display_data"
    }
   ],
   "source": [
    "using Revise\n",
    "\n",
    "using RigidBodyDynamics\n",
    "using RigidBodyDynamics: Bounds\n",
    "\n",
    "using DrakeVisualizer\n",
    "using Plots\n",
    "using RigidBodyTreeInspector\n",
    "\n",
    "using BilevelTrajOpt\n",
    "gr(size=(500,500), html_output_format=:png);"
   ]
  },
  {
   "cell_type": "code",
   "execution_count": 40,
   "metadata": {},
   "outputs": [
    {
     "name": "stderr",
     "output_type": "stream",
     "text": [
      "WARNING: Method definition solve_implicit_contact_τ(Any, Any, Any, Any, Any, Any, Any, Any, Any, Any) in module BilevelTrajOpt at /home/blandry/.julia/v0.6/BilevelTrajOpt/src/contact.jl:163 overwritten at /home/blandry/.julia/v0.6/BilevelTrajOpt/src/contact.jl:141.\n",
      "WARNING: Method definition #solve_implicit_contact_τ(Array{Any, 1}, typeof(BilevelTrajOpt.solve_implicit_contact_τ), Any, Any, Any, Any, Any, Any, Any, Any, Any, Any) in module BilevelTrajOpt overwritten.\n",
      "WARNING: Method definition update_constraints_implicit_contact(Any, Any, Any, Any) in module BilevelTrajOpt at /home/blandry/.julia/v0.6/BilevelTrajOpt/src/simulation.jl:90 overwritten at /home/blandry/.julia/v0.6/BilevelTrajOpt/src/simulation.jl:90.\n"
     ]
    }
   ],
   "source": [
    "urdf = joinpath(\"..\", \"urdf\", \"ball.urdf\")\n",
    "mechanism = parse_urdf(Float64, urdf)\n",
    "body = findbody(mechanism, \"ball\")\n",
    "basejoint = joint_to_parent(body, mechanism)\n",
    "floatingjoint = Joint(basejoint.name, frame_before(basejoint), frame_after(basejoint), QuaternionFloating{Float64}())\n",
    "replace_joint!(mechanism, basejoint, floatingjoint)\n",
    "position_bounds(floatingjoint) .= Bounds(-100, 100)\n",
    "velocity_bounds(floatingjoint) .= Bounds(-100, 100)\n",
    "μ = 0.5\n",
    "motion_type = :xyz\n",
    "point = Point3D(default_frame(findbody(mechanism, \"floor\")), [0.,0.,0.])\n",
    "normal = FreeVector3D(default_frame(findbody(mechanism, \"floor\")), [0.,0.,1.])\n",
    "hs = HalfSpace(point, normal)\n",
    "floor = Obstacle(hs, μ, motion_type)\n",
    "obstacles = [floor]\n",
    "env = parse_contacts(mechanism, urdf, obstacles)\n",
    "x0 = MechanismState(mechanism)\n",
    "Δt = 0.005;"
   ]
  },
  {
   "cell_type": "code",
   "execution_count": 41,
   "metadata": {},
   "outputs": [
    {
     "name": "stdout",
     "output_type": "stream",
     "text": [
      "Explicit Contacts\n",
      "Solve_Succeeded\n",
      "Solve_Succeeded\n",
      "Solve_Succeeded\n",
      "Solve_Succeeded\n",
      "Solve_Succeeded\n",
      "Solve_Succeeded\n",
      "Solve_Succeeded\n",
      "Solve_Succeeded\n",
      "Solve_Succeeded\n",
      "Solve_Succeeded\n"
     ]
    }
   ],
   "source": [
    "q0 = [1., 0., 0., 0., 0., 0., 0.]\n",
    "v0 = [0., 0., 0., 0.1, 0. , 0.]\n",
    "N = 10\n",
    "set_configuration!(x0, q0)\n",
    "set_velocity!(x0, v0)\n",
    "setdirty!(x0)\n",
    "ctrl! = (u,t,x) -> u[:] = 0.\n",
    "sim_data = get_sim_data(x0,env,Δt,true)\n",
    "\n",
    "println(\"Explicit Contacts\")\n",
    "traj_exp = BilevelTrajOpt.simulate(x0,env,Δt,N,ctrl!,implicit_contact=false);"
   ]
  },
  {
   "cell_type": "code",
   "execution_count": 76,
   "metadata": {},
   "outputs": [
    {
     "name": "stdout",
     "output_type": "stream",
     "text": [
      "Solve_Succeeded\n"
     ]
    },
    {
     "name": "stderr",
     "output_type": "stream",
     "text": [
      "WARNING: Method definition auglag_solve(Any, Any, Any, Any, Any, Any, Any, Any) in module BilevelTrajOpt at /home/blandry/.julia/v0.6/BilevelTrajOpt/src/auglag.jl:18 overwritten at /home/blandry/.julia/v0.6/BilevelTrajOpt/src/auglag.jl:18.\n"
     ]
    },
    {
     "name": "stdout",
     "output_type": "stream",
     "text": [
      "Solve_Succeeded\n",
      "Solve_Succeeded\n",
      "Solve_Succeeded\n",
      "Solve_Succeeded\n",
      "Solve_Succeeded\n",
      "Solve_Succeeded\n",
      "Solve_Succeeded\n",
      "Solve_Succeeded\n"
     ]
    }
   ],
   "source": [
    "traj_imp = zeros(6,N-1)\n",
    "traj_imp_ip = zeros(6,N-1)\n",
    "for i=1:N-1\n",
    "    q0 = traj_exp[1:sim_data.num_q,i]\n",
    "    v0 = traj_exp[sim_data.num_q+1:sim_data.num_q+sim_data.num_v,i]\n",
    "    u0 = zeros(sim_data.num_v)\n",
    "    qnext = traj_exp[1:sim_data.num_q,i+1]\n",
    "    vnext = traj_exp[sim_data.num_q+1:sim_data.num_q+sim_data.num_v,i+1]\n",
    "    τ_auglag, x_sol_auglag, λ_auglag, μ_auglag, fx_auglag = solve_implicit_contact_τ(sim_data,q0,v0,u0,qnext,vnext,ip_method=false);\n",
    "    traj_imp[:,i] = x_sol_auglag\n",
    "    τ_ip, x_sol_ip, λ_ip, μ_ip, fx_ip = solve_implicit_contact_τ(sim_data,q0,v0,u0,qnext,vnext,ip_method=true);\n",
    "    traj_imp_ip[:,i] = x_sol_ip\n",
    "end"
   ]
  },
  {
   "cell_type": "code",
   "execution_count": 77,
   "metadata": {},
   "outputs": [
    {
     "data": {
      "text/plain": [
       "6×6 Array{Float64,2}:\n",
       " 2.81235e-8  2.38686e-8  1.27964e-7  2.07837e-6  0.108827    0.111155  \n",
       " 6.12471e-8  1.21273e-7  2.40798e-7  3.45272e-6  0.0928791   0.0944082 \n",
       " 0.5         0.500017    0.49995     0.500031    0.147567    0.111155  \n",
       " 6.12471e-8  1.21273e-7  2.40798e-7  3.45272e-6  0.0928791   0.0944082 \n",
       " 0.075475    0.0509492   0.0264266   0.00190019  4.34442e-8  4.45357e-8\n",
       " 1.0         1.00004     0.999902    1.00009     0.999973    1.0       "
      ]
     },
     "metadata": {},
     "output_type": "display_data"
    },
    {
     "data": {
      "text/plain": [
       "6×6 Array{Float64,2}:\n",
       " 0.00481002  0.00483432  0.0048215   0.00482999  0.105632    0.125139  \n",
       " 0.00962812  0.00959262  0.00961051  0.00960023  0.124991    0.124861  \n",
       " 0.495182    0.495263    0.495163    0.495264    0.144372    0.12514   \n",
       " 0.00962812  0.00959262  0.00961051  0.00960023  0.124991    0.124861  \n",
       " 0.00693177  0.00693134  0.0069314   0.00693148  0.00693147  0.00693147\n",
       " 1.0         1.00006     0.99991     1.00009     0.999973    1.0       "
      ]
     },
     "metadata": {},
     "output_type": "display_data"
    },
    {
     "data": {
      "text/plain": [
       "6×6 Array{Float64,2}:\n",
       " 0.0       0.0        5.28871e-8  0.0         2.54314e-6  0.00999999\n",
       " 0.0       0.0        1.30616e-7  0.0         9.06214e-6  0.00999999\n",
       " 0.5       0.500017   0.49995     0.500029    0.038742    0.00999999\n",
       " 0.0       0.0        1.30616e-7  0.0         9.06214e-6  0.00999999\n",
       " 0.075475  0.0509492  0.0264267   0.00190017  0.0         0.00999999\n",
       " 1.0       1.00004    0.999902    1.00009     0.999973    1.0       "
      ]
     },
     "metadata": {},
     "output_type": "display_data"
    }
   ],
   "source": [
    "j = 6\n",
    "display(traj_exp[sim_data.num_q+sim_data.num_v+2:end,2:j+1])\n",
    "display(traj_imp[:,1:j])\n",
    "display(traj_imp_ip[:,1:j])"
   ]
  }
 ],
 "metadata": {
  "kernelspec": {
   "display_name": "Julia 0.6.4",
   "language": "julia",
   "name": "julia-0.6"
  },
  "language_info": {
   "file_extension": ".jl",
   "mimetype": "application/julia",
   "name": "julia",
   "version": "0.6.4"
  }
 },
 "nbformat": 4,
 "nbformat_minor": 2
}
