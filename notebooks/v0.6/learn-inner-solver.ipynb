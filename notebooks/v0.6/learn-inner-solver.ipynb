{
 "cells": [
  {
   "cell_type": "code",
   "execution_count": null,
   "metadata": {
    "collapsed": true
   },
   "outputs": [],
   "source": [
    "# generate a random pair q0,v0 (probably sliding on a surface)\n",
    "# solve for x_ipopt using ipopt using explicit contact forces\n",
    "# we want loss = (x_lag - x_ipopt)^2 == 0\n",
    "# compute the gradient of the loss with respect to the parameters\n",
    "# update the parameters using SGD\n",
    "# repeat"
   ]
  },
  {
   "cell_type": "code",
   "execution_count": 2,
   "metadata": {},
   "outputs": [
    {
     "name": "stderr",
     "output_type": "stream",
     "text": [
      "WARNING: Method definition simulate(RigidBodyDynamics.MechanismState{T, M, C, JointCollection} where JointCollection where C, BilevelTrajOpt.Environment{T} where T, Real, Integer) in module BilevelTrajOpt at /home/blandry/.julia/v0.6/BilevelTrajOpt/src/simulation.jl:213 overwritten at /home/blandry/.julia/v0.6/BilevelTrajOpt/src/simulation.jl:212.\n",
      "WARNING: Method definition #simulate(Array{Any, 1}, typeof(BilevelTrajOpt.simulate), RigidBodyDynamics.MechanismState{T, M, C, JointCollection} where JointCollection where C, BilevelTrajOpt.Environment{T} where T, Real, Integer) in module BilevelTrajOpt overwritten.\n"
     ]
    }
   ],
   "source": [
    "using Revise\n",
    "\n",
    "using RigidBodyDynamics\n",
    "using RigidBodyDynamics: Bounds\n",
    "\n",
    "using RigidBodyTreeInspector\n",
    "using DrakeVisualizer\n",
    "using Plots\n",
    "\n",
    "using BilevelTrajOpt"
   ]
  },
  {
   "cell_type": "code",
   "execution_count": 3,
   "metadata": {},
   "outputs": [],
   "source": [
    "urdf = joinpath(\"..\", \"urdf\", \"ball.urdf\")\n",
    "mechanism = parse_urdf(Float64, urdf)\n",
    "body = findbody(mechanism, \"ball\")\n",
    "basejoint = joint_to_parent(body, mechanism)\n",
    "floatingjoint = Joint(basejoint.name, frame_before(basejoint), frame_after(basejoint), QuaternionFloating{Float64}())\n",
    "replace_joint!(mechanism, basejoint, floatingjoint)\n",
    "position_bounds(floatingjoint) .= Bounds(-100, 100)\n",
    "velocity_bounds(floatingjoint) .= Bounds(-100, 100)\n",
    "env = parse_contacts(mechanism, urdf, .5);\n",
    "x0 = MechanismState(mechanism)\n",
    "Δt = 0.005\n",
    "sim_data = get_sim_data(x0,env,Δt,true);\n",
    "xnext = MechanismState(mechanism);"
   ]
  },
  {
   "cell_type": "code",
   "execution_count": null,
   "metadata": {},
   "outputs": [],
   "source": [
    "num_steps_default = 10\n",
    "α_vect_default = [1.^i for i in 1:num_steps_default]\n",
    "c_vect_default = [200.+min.(2.^i,200) for i in 1:num_steps_default]\n",
    "I_vect_default = 1e-16*ones(num_steps_default)\n",
    "z = vcat(α_vect_default,c_vect_default,I_vect_default)\n",
    "\n",
    "num_iter = 1\n",
    "batch_size = 1\n",
    "α_sgd = 0.1\n",
    "\n",
    "xmax = 2.\n",
    "zmax = 1.\n",
    "vmax = 1.\n",
    "\n",
    "for iter = 1:num_iter\n",
    "    loss_batch = 0.\n",
    "    g_batch = zeros(length(z))\n",
    "    \n",
    "    for j = 1:batch_size\n",
    "        # half in contact, half not\n",
    "        if j%2==0 \n",
    "            q0 = vcat([1., 0., 0., 0.], (rand(2) .- .5) .* 2. .* xmax, 0.)\n",
    "        else\n",
    "            q0 = vcat([1., 0., 0., 0.], (rand(2) .- .5) .* 2. .* xmax, (rand(1) .- .5) .* 2. .* zmax)\n",
    "        end\n",
    "        v0 = vcat(zeros(3),(rand(3) .- .5) .* 2. .* vmax)\n",
    "        u0 = zeros(sim_data.num_v)\n",
    "        z0 = zeros(sim_data.num_contacts*(sim_data.β_dim+2))\n",
    "\n",
    "        set_configuration!(x0, q0)\n",
    "        set_velocity!(x0, v0)\n",
    "        setdirty!(x0)\n",
    "        traj = BilevelTrajOpt.simulate(x0,env,sim_data.Δt,1,implicit_contact=false)\n",
    "        qnext = traj[1:sim_data.num_q,end]\n",
    "        vnext = traj[sim_data.num_q+1:sim_data.num_q+sim_data.num_v,end]\n",
    "        \n",
    "        τ_ip, x_sol_ip = solve_implicit_contact_τ(sim_data,q0,v0,u0,z0,qnext,vnext,ip_method=true);\n",
    "        τ_auglag, x_sol_auglag = solve_implicit_contact_τ(sim_data,q0,v0,u0,z0,qnext,vnext,ip_method=false,α_vect=z[1:num_steps_default],c_vect=z[num_steps_default+1:2*num_steps_default],I_vect=z[2*num_steps_default+1:3*num_steps_default])\n",
    "        J = ForwardDiff.jacobian(z̃ -> solve_implicit_contact_τ(sim_data,q0,v0,u0,z0,qnext,vnext,ip_method=false,α_vect=z̃[1:num_steps_default],c_vect=z̃[num_steps_default+1:2*num_steps_default],I_vect=z̃[2*num_steps_default+1:3*num_steps_default])[2], z)\n",
    "    \n",
    "        loss = .5 * dot(x_sol_ip - x_sol_auglag, x_sol_ip - x_sol_auglag)\n",
    "        \n",
    "        loss_batch += loss\n",
    "        g_batch += J'*(x_sol_ip - x_sol_auglag)\n",
    "    end\n",
    "    loss_batch /= batch_size\n",
    "    g_batch /= batch_size\n",
    "    \n",
    "    z = z + α_sgd .* g_batch\n",
    "    z = min.(200.,max.(1e-6, z))\n",
    "    \n",
    "    println(loss_batch)\n",
    "    println(z[1:num_steps_default])\n",
    "    println(z[num_steps_default+1:2*num_steps_default])\n",
    "    println(\"***\")\n",
    "end"
   ]
  }
 ],
 "metadata": {
  "kernelspec": {
   "display_name": "Julia 0.6.4",
   "language": "julia",
   "name": "julia-0.6"
  },
  "language_info": {
   "file_extension": ".jl",
   "mimetype": "application/julia",
   "name": "julia",
   "version": "0.6.4"
  }
 },
 "nbformat": 4,
 "nbformat_minor": 2
}
