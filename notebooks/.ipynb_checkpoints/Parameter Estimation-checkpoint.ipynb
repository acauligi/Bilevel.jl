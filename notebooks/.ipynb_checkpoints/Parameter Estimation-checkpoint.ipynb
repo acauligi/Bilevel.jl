{
 "cells": [
  {
   "cell_type": "code",
   "execution_count": 1,
   "metadata": {},
   "outputs": [
    {
     "name": "stderr",
     "output_type": "stream",
     "text": [
      "┌ Info: Precompiling Bilevel [9688c538-179f-11e9-3174-495cea6b7f67]\n",
      "└ @ Base loading.jl:1186\n"
     ]
    },
    {
     "data": {
      "text/html": [
       "    <script class='js-collapse-script'>\n",
       "        var curMatch =\n",
       "            window.location.href\n",
       "            .match(/(.*?)\\/notebooks\\/.*\\.ipynb/);\n",
       "\n",
       "        curMatch = curMatch ||\n",
       "            window.location.href\n",
       "            .match(/(.*?)\\/apps\\/.*\\.ipynb/);\n",
       "\n",
       "        if ( curMatch ) {\n",
       "            $('head').append('<base href=\"' + curMatch[1] + '/\">');\n",
       "        }\n",
       "    </script>\n"
      ],
      "text/plain": [
       "HTML{String}(\"    <script class='js-collapse-script'>\\n        var curMatch =\\n            window.location.href\\n            .match(/(.*?)\\\\/notebooks\\\\/.*\\\\.ipynb/);\\n\\n        curMatch = curMatch ||\\n            window.location.href\\n            .match(/(.*?)\\\\/apps\\\\/.*\\\\.ipynb/);\\n\\n        if ( curMatch ) {\\n            \\$('head').append('<base href=\\\"' + curMatch[1] + '/\\\">');\\n        }\\n    </script>\\n\")"
      ]
     },
     "metadata": {},
     "output_type": "display_data"
    },
    {
     "data": {
      "text/html": [
       "<script class='js-collapse-script' src='/assetserver/b464848323e0a4c9a3cfe11f8edca2932188b6d9-assets/webio/dist/bundle.js'></script>"
      ],
      "text/plain": [
       "HTML{String}(\"<script class='js-collapse-script' src='/assetserver/b464848323e0a4c9a3cfe11f8edca2932188b6d9-assets/webio/dist/bundle.js'></script>\")"
      ]
     },
     "metadata": {},
     "output_type": "display_data"
    },
    {
     "data": {
      "text/html": [
       "<script class='js-collapse-script' src='/assetserver/b464848323e0a4c9a3cfe11f8edca2932188b6d9-assets/providers/ijulia_setup.js'></script>"
      ],
      "text/plain": [
       "HTML{String}(\"<script class='js-collapse-script' src='/assetserver/b464848323e0a4c9a3cfe11f8edca2932188b6d9-assets/providers/ijulia_setup.js'></script>\")"
      ]
     },
     "metadata": {},
     "output_type": "display_data"
    },
    {
     "data": {
      "text/html": [
       "  <script class='js-collapse-script'>\n",
       "    $('.js-collapse-script').parent('.output_subarea').css('padding', '0');\n",
       "  </script>\n"
      ],
      "text/plain": [
       "HTML{String}(\"  <script class='js-collapse-script'>\\n    \\$('.js-collapse-script').parent('.output_subarea').css('padding', '0');\\n  </script>\\n\")"
      ]
     },
     "metadata": {},
     "output_type": "display_data"
    },
    {
     "name": "stderr",
     "output_type": "stream",
     "text": [
      "┌ Error: evaluation error\n",
      "│   mod = Bilevel\n",
      "│   ex = const usrfun = #= /home/blandry/.julia/dev/Bilevel/src/solvers/snopt.jl:154 =# @cfunction(objcon_wrapper, Cvoid, (Ptr{Clong}, Ref{Clong}, Ptr{Cdouble}, Ref{Clong}, Ref{Clong}, Ptr{Cdouble}, Ref{Clong}, Ref{Clong}, Ptr{Cdouble}, Ptr{Cchar}, Ref{Clong}, Ptr{Clong}, Ref{Clong}, Ptr{Cdouble}, Ref{Clong}))\n",
      "│   exception = (ErrorException(\"invalid lookup expr (\\$(QuoteNode(Core.svec)))(JuliaInterpreter.SSAValue(2), JuliaInterpreter.SSAValue(3), JuliaInterpreter.SSAValue(4), JuliaInterpreter.SSAValue(5), JuliaInterpreter.SSAValue(6), JuliaInterpreter.SSAValue(7), JuliaInterpreter.SSAValue(8), JuliaInterpreter.SSAValue(9), JuliaInterpreter.SSAValue(10), JuliaInterpreter.SSAValue(11), JuliaInterpreter.SSAValue(12), JuliaInterpreter.SSAValue(13), JuliaInterpreter.SSAValue(14), JuliaInterpreter.SSAValue(15), JuliaInterpreter.SSAValue(16))\"), Union{Ptr{Nothing}, InterpreterIP}[Ptr{Nothing} @0x00007fd70fe9a5eb, Ptr{Nothing} @0x00007fd70fe6b204, Ptr{Nothing} @0x00007fd6d43e3080, Ptr{Nothing} @0x00007fd6d43ed7c5, Ptr{Nothing} @0x00007fd6940fc2ad, Ptr{Nothing} @0x00007fd6940fc894, Ptr{Nothing} @0x00007fd6d43ede13, Ptr{Nothing} @0x00007fd6d43ef32b, Ptr{Nothing} @0x00007fd6d43f31cb, Ptr{Nothing} @0x00007fd6d43ec674, Ptr{Nothing} @0x00007fd6d43ed1c4, Ptr{Nothing} @0x00007fd70fe4f5d6, Ptr{Nothing} @0x00007fd6d43deff5, Ptr{Nothing} @0x00007fd70fe4f5d6, Ptr{Nothing} @0x00007fd6d43dd8f0, Ptr{Nothing} @0x00007fd6d43dd944, Ptr{Nothing} @0x00007fd6d43dd0c4, Ptr{Nothing} @0x00007fd6d43dd6ef, Ptr{Nothing} @0x00007fd70fe4f5d6, Ptr{Nothing} @0x00007fd6d43d6c94, Ptr{Nothing} @0x00007fd6d43d764c, Ptr{Nothing} @0x00007fd6d43d91ee, Ptr{Nothing} @0x00007fd6d43d13c1, Ptr{Nothing} @0x00007fd70fe4f5d6, Ptr{Nothing} @0x00007fd70fe6ba92, Ptr{Nothing} @0x0000000000000000])\n",
      "└ @ Revise /home/blandry/.julia/packages/Revise/UtBAC/src/lowered.jl:52\n"
     ]
    }
   ],
   "source": [
    "using Revise\n",
    "using Bilevel\n",
    "\n",
    "using ForwardDiff\n",
    "using DiffResults\n",
    "using RigidBodyDynamics\n",
    "using MeshCat\n",
    "using MeshCatMechanisms\n",
    "using Base.Threads\n",
    "using Plots\n",
    "using Interpolations\n",
    "using StaticArrays\n",
    "\n",
    "using Bilevel: VariableSelector, ConstraintSelector, add_var!, add_ineq!"
   ]
  },
  {
   "cell_type": "code",
   "execution_count": null,
   "metadata": {},
   "outputs": [],
   "source": [
    "nthreads()"
   ]
  },
  {
   "cell_type": "markdown",
   "metadata": {},
   "source": [
    "# Synthesizing a controller"
   ]
  },
  {
   "cell_type": "code",
   "execution_count": null,
   "metadata": {},
   "outputs": [],
   "source": [
    "urdf = joinpath(\"..\", \"urdf\", \"panda\", \"panda_arm.urdf\")\n",
    "mechanism = parse_urdf(Float64, urdf)\n",
    "obstacles = []\n",
    "env = Environment(mechanism, urdf, obstacles);"
   ]
  },
  {
   "cell_type": "code",
   "execution_count": null,
   "metadata": {},
   "outputs": [],
   "source": [
    "mvis = MechanismVisualizer(mechanism, URDFVisuals(urdf))\n",
    "open(mvis)"
   ]
  },
  {
   "cell_type": "code",
   "execution_count": null,
   "metadata": {},
   "outputs": [],
   "source": [
    "Δt = 0.05\n",
    "N = 50\n",
    "\n",
    "q0 = [0., .3, 0., -2.75, 0., -1.65, 0.]\n",
    "qN = [0., .8, 0., -1.67, 0., -2.2, 0.]\n",
    "\n",
    "function add_prob_constraints!(sim_data)\n",
    "    vs = sim_data.vs\n",
    "\n",
    "    add_eq!(sim_data, :cq1, num_positions(mechanism), x -> vs(x, :q1) - q0)\n",
    "    add_eq!(sim_data, :cv1, num_velocities(mechanism), x -> vs(x, :v1))\n",
    "    \n",
    "    add_eq!(sim_data, :cqN, num_positions(mechanism), x -> vs(x, Symbol(\"q\", N)) - qN)\n",
    "    add_eq!(sim_data, :cvN, num_velocities(mechanism), x -> vs(x, Symbol(\"v\", N)))\n",
    "    \n",
    "#     add_ineq!(sim_data, :cN2, 1, x -> -pi - vs(x, Symbol(\"q\", Int(N/2)))[4])\n",
    "end\n",
    "\n",
    "function add_prob_obj!(sim_data)\n",
    "    for n = 1:N\n",
    "        add_obj!(sim_data, Symbol(\"u\", n), x -> sim_data.vs(x, Symbol(\"v\", n))'*sim_data.vs(x, Symbol(\"v\", n)))\n",
    "    end\n",
    "end\n",
    "\n",
    "function get_prob_limits(sim_data)\n",
    "    x_min = -1e19*ones(sim_data.vs.num_vars)\n",
    "    x_max = 1e19*ones(sim_data.vs.num_vars)\n",
    "    \n",
    "    # torques limits\n",
    "    u_limit = 1000.\n",
    "    add_box_con_snopt!(x_min, x_max, sim_data, :u, -u_limit * ones(num_velocities(mechanism)), u_limit * ones(num_velocities(mechanism)), 1:N-1)\n",
    "\n",
    "    # step size limit\n",
    "    add_box_con_snopt!(x_min, x_max, sim_data, :h, [Δt], [Δt], 1:N-1)\n",
    "    \n",
    "    x_min, x_max\n",
    "end\n",
    "\n",
    "function get_prob_init(sim_data)\n",
    "    x0 = zeros(sim_data.vs.num_vars)\n",
    "    for n = 1:N\n",
    "        x0[sim_data.vs(Symbol(\"q\", n))] .= q0\n",
    "    end\n",
    "    \n",
    "    x0\n",
    "end\n",
    "\n",
    "function setup_prob!(sim_data)\n",
    "    add_prob_constraints!(sim_data)\n",
    "    add_prob_obj!(sim_data)\n",
    "    x_min, x_max = get_prob_limits(sim_data)\n",
    "    x0 = get_prob_init(sim_data)\n",
    "    \n",
    "    x0, x_min, x_max\n",
    "end"
   ]
  },
  {
   "cell_type": "code",
   "execution_count": null,
   "metadata": {},
   "outputs": [],
   "source": [
    "sim_data = get_trajopt_data_indirect(mechanism,env,Δt,N,relax_comp=false)\n",
    "x0, x_min, x_max = setup_prob!(sim_data)\n",
    "traj = Bilevel.trajopt(sim_data, x0=x0, x_min=x_min, x_max=x_max, verbose=1)"
   ]
  },
  {
   "cell_type": "code",
   "execution_count": null,
   "metadata": {},
   "outputs": [],
   "source": [
    "setanimation!(mvis, traj[7], traj[1])"
   ]
  },
  {
   "cell_type": "code",
   "execution_count": null,
   "metadata": {},
   "outputs": [],
   "source": [
    "# package the resulting controller in a ctrl function to test\n",
    "function feedforward_ctrl!(u,t,x)\n",
    "    i = min(max(searchsortedfirst(traj[7], t),1),length(traj[7]))\n",
    "    u_nom = traj[3][i]\n",
    "    u .= u_nom\n",
    "end\n",
    "\n",
    "function feedback_ctrl!(u,t,x)\n",
    "    if t >= traj[7][end]\n",
    "        u .= 0.\n",
    "        return\n",
    "    end\n",
    "    \n",
    "    i = min(max(searchsortedfirst(traj[7], t),1),length(traj[7]))\n",
    "\n",
    "    Kp = 0.\n",
    "    Kd = 0.\n",
    "    \n",
    "    q = configuration(x)\n",
    "    v = velocity(x)\n",
    "        \n",
    "    q_nom = traj[1][i]\n",
    "    v_nom = traj[2][i]\n",
    "    u_nom = traj[3][i]\n",
    "    \n",
    "    u .= u_nom + Kp*(q - q_nom) + Kd*(v - v_nom)\n",
    "end\n",
    "\n",
    "x0 = MechanismState(mechanism)\n",
    "set_configuration!(x0,traj[1][1])\n",
    "set_velocity!(x0,traj[2][1])\n",
    "setdirty!(x0)\n",
    "\n",
    "sim_data = get_sim_data_indirect(mechanism,env,Δt)\n",
    "\n",
    "# traj_sim = Bilevel.simulate(sim_data,feedforward_ctrl!,x0,N)\n",
    "traj_sim = Bilevel.simulate(sim_data,feedback_ctrl!,x0,N)"
   ]
  },
  {
   "cell_type": "code",
   "execution_count": null,
   "metadata": {},
   "outputs": [],
   "source": [
    "setanimation!(mvis, traj_sim[6], traj_sim[1])"
   ]
  },
  {
   "cell_type": "markdown",
   "metadata": {},
   "source": [
    "# Generating data with controller"
   ]
  },
  {
   "cell_type": "code",
   "execution_count": null,
   "metadata": {},
   "outputs": [],
   "source": [
    "Δt = 0.02\n",
    "N = 100\n",
    "\n",
    "μ_floor = .1\n",
    "μ_box = .05\n",
    "\n",
    "urdf = joinpath(\"..\", \"urdf\", \"panda\", \"panda_arm_box.urdf\")\n",
    "mechanism = parse_urdf(Float64, urdf)\n",
    "\n",
    "floor = findbody(mechanism, \"floor\")\n",
    "point = Point3D(default_frame(floor), SVector([0.,0.,0.]...))\n",
    "normal = FreeVector3D(default_frame(floor), SVector([0.,0.,1.]...))\n",
    "floor_obs = Obstacle(floor, point, normal, :xyz, μ_floor)\n",
    "\n",
    "box = findbody(mechanism, \"box\")\n",
    "point = Point3D(default_frame(box), SVector([-.25,0.,.25]...))\n",
    "normal = FreeVector3D(default_frame(box), SVector([-1.,0.,0.]...))\n",
    "box_obs = Obstacle(box, point, normal, :xyz, μ_box)\n",
    "\n",
    "obstacles = [floor_obs, box_obs]\n",
    "env = Environment(mechanism, urdf, obstacles);"
   ]
  },
  {
   "cell_type": "code",
   "execution_count": null,
   "metadata": {},
   "outputs": [],
   "source": [
    "mvis = MechanismVisualizer(mechanism, URDFVisuals(urdf))\n",
    "open(mvis)"
   ]
  },
  {
   "cell_type": "code",
   "execution_count": null,
   "metadata": {},
   "outputs": [],
   "source": [
    "# same feedback but ignoring the box state\n",
    "function feedback_ctrl!(u,t,x)\n",
    "    Kp = 5.\n",
    "    Kd = 1.\n",
    "    \n",
    "    q = configuration(x)[8:end]\n",
    "    v = velocity(x)[7:end]\n",
    "    i = min(max(1,searchsortedfirst(traj[7], t)),length(traj[3]))\n",
    "    \n",
    "    q_nom = traj[1][i+1]\n",
    "    v_nom = traj[2][i+1]\n",
    "    u_nom = traj[3][i]\n",
    "    u[7:end] .= u_nom + Kd*(v - v_nom) + Kp*(q - q_nom)\n",
    "end"
   ]
  },
  {
   "cell_type": "code",
   "execution_count": null,
   "metadata": {},
   "outputs": [],
   "source": [
    "x0 = MechanismState(mechanism)\n",
    "set_configuration!(x0,vcat([1.,0.,0.,0.,.8,0.,.275],traj[1][1]))\n",
    "set_velocity!(x0,vcat([0.,0.,0.,0.,0.,0.],traj[2][1]))\n",
    "setdirty!(x0)\n",
    "\n",
    "sim_data = get_sim_data_indirect(mechanism,env,Δt)\n",
    "\n",
    "traj_sim = Bilevel.simulate(sim_data,feedback_ctrl!,x0,N+10)"
   ]
  },
  {
   "cell_type": "code",
   "execution_count": null,
   "metadata": {},
   "outputs": [],
   "source": [
    "setanimation!(mvis, traj_sim[6], traj_sim[1])"
   ]
  },
  {
   "cell_type": "markdown",
   "metadata": {},
   "source": [
    "# Generating simpler data with just the cube initial velocity"
   ]
  },
  {
   "cell_type": "code",
   "execution_count": 2,
   "metadata": {},
   "outputs": [],
   "source": [
    "μ_floor = .1\n",
    "\n",
    "urdf = joinpath(\"..\", \"urdf\", \"box.urdf\")\n",
    "mechanism = parse_urdf(Float64, urdf)\n",
    "\n",
    "floor = findbody(mechanism, \"floor\")\n",
    "point = Point3D(default_frame(floor), SVector([0.,0.,0.]...))\n",
    "normal = FreeVector3D(default_frame(floor), SVector([0.,0.,1.]...))\n",
    "floor_obs = Obstacle(floor, point, normal, :xyz, μ_floor)\n",
    "\n",
    "obstacles = [floor_obs]\n",
    "env = Environment(mechanism, urdf, obstacles);"
   ]
  },
  {
   "cell_type": "code",
   "execution_count": null,
   "metadata": {},
   "outputs": [],
   "source": [
    "mvis = MechanismVisualizer(mechanism, URDFVisuals(urdf))\n",
    "open(mvis)"
   ]
  },
  {
   "cell_type": "code",
   "execution_count": 3,
   "metadata": {},
   "outputs": [
    {
     "data": {
      "text/plain": [
       "(Array{Float64,1}[[1.0, 0.0, 0.0, 0.0, 0.0, 0.0, 0.25], [1.0, 2.92102e-17, 2.11774e-12, -1.65407e-16, 0.0099019, -2.6125e-20, 0.25], [1.0, -6.12911e-17, -1.26077e-16, -6.40296e-18, 0.0197057, -1.28552e-15, 0.25], [1.0, 1.57615e-16, 2.53185e-16, 1.80907e-16, 0.0294114, 2.41523e-16, 0.25], [1.0, -1.2428e-16, -2.37765e-16, -1.24088e-17, 0.039019, 1.41962e-15, 0.25], [1.0, 1.00793e-16, 3.34721e-16, 1.00861e-17, 0.0485285, 2.94667e-15, 0.25], [1.0, -1.56147e-16, -3.80451e-16, -1.56121e-17, 0.0579399, 4.11137e-15, 0.25], [1.0, 1.7378e-16, 4.9237e-16, 1.73462e-17, 0.0672532, 5.63841e-15, 0.25], [1.0, -1.94182e-16, -5.31843e-16, -1.9444e-17, 0.0764684, 6.80312e-15, 0.25], [1.0, 2.46768e-16, 6.12079e-16, 2.46969e-17, 0.0855855, 8.33016e-15, 0.25]  …  [1.0, -2.06168e-11, -1.16412e-12, -9.48797e-12, 0.504687, 9.19149e-12, 0.25], [1.0, -4.91221e-7, 5.64909e-7, -8.75171e-12, 0.504687, 2.45609e-7, 0.250001], [1.0, -6.13236e-9, 7.91416e-9, -9.00558e-12, 0.504687, 3.06489e-9, 0.25], [1.0, -1.60174e-11, -2.54239e-15, -8.90662e-12, 0.504687, 6.78733e-12, 0.25], [1.0, -4.34136e-7, 4.96174e-7, -8.02824e-12, 0.504687, 2.17067e-7, 0.250001], [1.0, -5.02963e-9, 6.64064e-9, -7.74173e-12, 0.504687, 2.51337e-9, 0.25], [1.0, -8.05886e-12, -2.11954e-15, -7.63301e-12, 0.504687, 2.63762e-12, 0.25], [1.0, -3.84848e-7, 4.36814e-7, -6.89878e-12, 0.504687, 1.92422e-7, 0.250001], [1.0, -1.43247e-6, 2.23543e-9, -5.52069e-12, 0.504687, 7.16235e-7, 0.250001], [1.0, -8.6299e-9, -4.81259e-9, -9.33041e-12, 0.504687, 4.30898e-9, 0.25]], Array{Float64,1}[[0.0, 0.0, 0.0, 1.0, 0.0, 0.0], [-3.30258e-13, 4.23547e-10, -3.30794e-14, 0.99019, 2.65619e-15, 1.1022e-10], [-1.22585e-14, -4.23572e-10, 3.17988e-14, 0.98038, 7.26565e-18, -1.05973e-10], [4.37814e-14, 5.0637e-14, 4.38264e-15, 0.97057, -3.46971e-16, -1.34525e-15], [-6.86379e-14, -9.819e-14, -6.86439e-15, 0.96076, 2.90244e-17, 1.11133e-14], [8.87965e-14, 1.65134e-13, 8.88162e-15, 0.95095, -1.88983e-17, -8.61968e-15], [-1.20026e-13, -2.41224e-13, -1.2004e-14, 0.94114, 3.16569e-17, 6.20422e-15], [1.54782e-13, 3.39698e-13, 1.54733e-14, 0.93133, -3.25926e-17, -7.14003e-15], [-1.93618e-13, -1.06369e-13, -1.93621e-14, 0.92152, 3.88956e-17, 1.09605e-14], [2.42972e-13, 2.28785e-13, 2.43015e-14, 0.91171, -4.61123e-17, -9.52726e-15]  …  [1.48759e-6, -1.88898e-6, 2.74841e-10, -4.72281e-7, -3.71832e-7, -1.00295e-7], [-9.824e-5, 0.000112982, 1.47167e-10, 2.82455e-5, 2.456e-5, 7.03823e-5], [9.70177e-5, -0.000111399, -5.07755e-11, -2.78495e-5, -2.42543e-5, -7.02921e-5], [1.22327e-6, -1.58283e-6, 1.97049e-11, -3.95703e-7, -3.05812e-7, -8.99045e-8], [-8.68241e-5, 9.92348e-5, 1.75598e-10, 2.48087e-5, 2.1706e-5, 6.75154e-5], [8.58214e-5, -9.79067e-5, 5.72994e-11, -2.44765e-5, -2.14552e-5, -6.7434e-5], [1.00431e-6, -1.32813e-6, 2.16666e-11, -3.32049e-7, -2.51074e-7, -8.09639e-8], [-7.69679e-5, 8.73629e-5, 1.46774e-10, 2.18408e-5, 1.92419e-5, 6.47615e-5], [-0.000209524, -8.69158e-5, 2.75617e-10, -2.17288e-5, 5.23811e-5, 6.97423e-6], [0.000284768, -1.4096e-6, -6.38214e-10, -3.53002e-7, -7.11924e-5, -7.15445e-5]], Array{Float64,1}[], Array{Float64,1}[[0.0, 0.0, 0.0, 0.0, 0.0, 0.0], [0.0, 0.0, 0.0, 0.0, 0.0, 0.0], [0.0, 0.0, 0.0, 0.0, 0.0, 0.0], [0.0, 0.0, 0.0, 0.0, 0.0, 0.0], [0.225, 0.0, 0.0, 0.0225, 0.0, 0.99019], [0.225, 0.0, 0.0, 0.0225, 0.0, 0.99019], [0.275, 0.0, 0.0, 0.0275, 0.0, 0.99019], [0.275, 0.0, 0.0, 0.0275, 0.0, 0.99019], [0.225, 0.0, 0.0, 0.0225, 0.0, 0.98038], [0.225, 0.0, 0.0, 0.0225, 0.0, 0.98038]  …  [0.252969, 0.0120334, 0.000179834, 0.0130837, 0.0, 7.33259e-11], [0.247068, 0.0105695, 5.78898e-5, 0.0140756, 3.82137e-6, 5.87728e-13], [0.246963, 0.0121784, 0.000577341, 0.0113112, 0.000629339, 1.96851e-10], [0.252165, 0.0116831, 9.83573e-5, 0.00810299, 0.0, 0.0], [0.253181, 0.0119487, 0.00020904, 0.0131605, 0.0, 2.7257e-10], [0.247101, 0.0104741, 8.24129e-5, 0.0141537, 0.0, 1.11302e-10], [0.246306, 0.0122292, 0.000306758, 0.0112276, 0.000867067, -7.61828e-10], [0.253577, 0.0117814, 0.0, 0.00800471, 0.000254156, 2.78622e-15], [0.251656, 0.0119397, 0.0, 0.013017, 0.00020897, -7.61816e-10], [0.24766, 0.0105234, 0.0, 0.0140064, 0.000236236, -4.40838e-10]], Array{Float64,1}[], [0.0, 0.01, 0.02, 0.03, 0.04, 0.05, 0.06, 0.07, 0.08, 0.09  …  1.9, 1.91, 1.92, 1.93, 1.94, 1.95, 1.96, 1.97, 1.98, 1.99], [1.0 1.0 … 1.0 1.0; 0.0 2.92102e-17 … -1.43247e-6 -8.6299e-9; … ; 0.0 2.65619e-15 … 5.23811e-5 -7.11924e-5; 0.0 1.1022e-10 … 6.97423e-6 -7.15445e-5])"
      ]
     },
     "execution_count": 3,
     "metadata": {},
     "output_type": "execute_result"
    }
   ],
   "source": [
    "Δt = 0.01\n",
    "N = 200\n",
    "\n",
    "x0 = MechanismState(mechanism)\n",
    "set_configuration!(x0,[1.,0.,0.,0.,0.,0.,.25])\n",
    "set_velocity!(x0,[0.,0.,0.,1.,0.,0.])\n",
    "setdirty!(x0)\n",
    "\n",
    "sim_data = get_sim_data_indirect(mechanism,env,Δt)\n",
    "# sim_data = get_sim_data_direct(mechanism,env,Δt)\n",
    "\n",
    "null_ctrl! = (u,t,x) -> u[:] .= 0.\n",
    "traj_sim = Bilevel.simulate(sim_data,null_ctrl!,x0,N)"
   ]
  },
  {
   "cell_type": "code",
   "execution_count": null,
   "metadata": {},
   "outputs": [],
   "source": [
    "setanimation!(mvis, traj_sim[6], traj_sim[1])"
   ]
  },
  {
   "cell_type": "code",
   "execution_count": 4,
   "metadata": {},
   "outputs": [
    {
     "data": {
      "image/svg+xml": [
       "<?xml version=\"1.0\" encoding=\"utf-8\"?>\n",
       "<svg xmlns=\"http://www.w3.org/2000/svg\" xmlns:xlink=\"http://www.w3.org/1999/xlink\" width=\"600\" height=\"400\" viewBox=\"0 0 2400 1600\">\n",
       "<defs>\n",
       "  <clipPath id=\"clip0000\">\n",
       "    <rect x=\"0\" y=\"0\" width=\"2400\" height=\"1600\"/>\n",
       "  </clipPath>\n",
       "</defs>\n",
       "<polygon clip-path=\"url(#clip0000)\" points=\"\n",
       "0,1600 2400,1600 2400,0 0,0 \n",
       "  \" fill=\"#ffffff\" fill-rule=\"evenodd\" fill-opacity=\"1\"/>\n",
       "<defs>\n",
       "  <clipPath id=\"clip0001\">\n",
       "    <rect x=\"480\" y=\"0\" width=\"1681\" height=\"1600\"/>\n",
       "  </clipPath>\n",
       "</defs>\n",
       "<polygon clip-path=\"url(#clip0000)\" points=\"\n",
       "180.66,1487.47 2352.76,1487.47 2352.76,47.2441 180.66,47.2441 \n",
       "  \" fill=\"#ffffff\" fill-rule=\"evenodd\" fill-opacity=\"1\"/>\n",
       "<defs>\n",
       "  <clipPath id=\"clip0002\">\n",
       "    <rect x=\"180\" y=\"47\" width=\"2173\" height=\"1441\"/>\n",
       "  </clipPath>\n",
       "</defs>\n",
       "<polyline clip-path=\"url(#clip0002)\" style=\"stroke:#000000; stroke-width:2; stroke-opacity:0.1; fill:none\" points=\"\n",
       "  231.837,1487.47 231.837,47.2441 \n",
       "  \"/>\n",
       "<polyline clip-path=\"url(#clip0002)\" style=\"stroke:#000000; stroke-width:2; stroke-opacity:0.1; fill:none\" points=\"\n",
       "  746.698,1487.47 746.698,47.2441 \n",
       "  \"/>\n",
       "<polyline clip-path=\"url(#clip0002)\" style=\"stroke:#000000; stroke-width:2; stroke-opacity:0.1; fill:none\" points=\"\n",
       "  1261.56,1487.47 1261.56,47.2441 \n",
       "  \"/>\n",
       "<polyline clip-path=\"url(#clip0002)\" style=\"stroke:#000000; stroke-width:2; stroke-opacity:0.1; fill:none\" points=\"\n",
       "  1776.42,1487.47 1776.42,47.2441 \n",
       "  \"/>\n",
       "<polyline clip-path=\"url(#clip0002)\" style=\"stroke:#000000; stroke-width:2; stroke-opacity:0.1; fill:none\" points=\"\n",
       "  2291.28,1487.47 2291.28,47.2441 \n",
       "  \"/>\n",
       "<polyline clip-path=\"url(#clip0002)\" style=\"stroke:#000000; stroke-width:2; stroke-opacity:0.1; fill:none\" points=\"\n",
       "  180.66,1446.64 2352.76,1446.64 \n",
       "  \"/>\n",
       "<polyline clip-path=\"url(#clip0002)\" style=\"stroke:#000000; stroke-width:2; stroke-opacity:0.1; fill:none\" points=\"\n",
       "  180.66,1106.98 2352.76,1106.98 \n",
       "  \"/>\n",
       "<polyline clip-path=\"url(#clip0002)\" style=\"stroke:#000000; stroke-width:2; stroke-opacity:0.1; fill:none\" points=\"\n",
       "  180.66,767.323 2352.76,767.323 \n",
       "  \"/>\n",
       "<polyline clip-path=\"url(#clip0002)\" style=\"stroke:#000000; stroke-width:2; stroke-opacity:0.1; fill:none\" points=\"\n",
       "  180.66,427.664 2352.76,427.664 \n",
       "  \"/>\n",
       "<polyline clip-path=\"url(#clip0002)\" style=\"stroke:#000000; stroke-width:2; stroke-opacity:0.1; fill:none\" points=\"\n",
       "  180.66,88.0053 2352.76,88.0053 \n",
       "  \"/>\n",
       "<polyline clip-path=\"url(#clip0000)\" style=\"stroke:#000000; stroke-width:4; stroke-opacity:1; fill:none\" points=\"\n",
       "  180.66,1487.47 2352.76,1487.47 \n",
       "  \"/>\n",
       "<polyline clip-path=\"url(#clip0000)\" style=\"stroke:#000000; stroke-width:4; stroke-opacity:1; fill:none\" points=\"\n",
       "  180.66,1487.47 180.66,47.2441 \n",
       "  \"/>\n",
       "<polyline clip-path=\"url(#clip0000)\" style=\"stroke:#000000; stroke-width:4; stroke-opacity:1; fill:none\" points=\"\n",
       "  231.837,1487.47 231.837,1465.87 \n",
       "  \"/>\n",
       "<polyline clip-path=\"url(#clip0000)\" style=\"stroke:#000000; stroke-width:4; stroke-opacity:1; fill:none\" points=\"\n",
       "  746.698,1487.47 746.698,1465.87 \n",
       "  \"/>\n",
       "<polyline clip-path=\"url(#clip0000)\" style=\"stroke:#000000; stroke-width:4; stroke-opacity:1; fill:none\" points=\"\n",
       "  1261.56,1487.47 1261.56,1465.87 \n",
       "  \"/>\n",
       "<polyline clip-path=\"url(#clip0000)\" style=\"stroke:#000000; stroke-width:4; stroke-opacity:1; fill:none\" points=\"\n",
       "  1776.42,1487.47 1776.42,1465.87 \n",
       "  \"/>\n",
       "<polyline clip-path=\"url(#clip0000)\" style=\"stroke:#000000; stroke-width:4; stroke-opacity:1; fill:none\" points=\"\n",
       "  2291.28,1487.47 2291.28,1465.87 \n",
       "  \"/>\n",
       "<polyline clip-path=\"url(#clip0000)\" style=\"stroke:#000000; stroke-width:4; stroke-opacity:1; fill:none\" points=\"\n",
       "  180.66,1446.64 213.242,1446.64 \n",
       "  \"/>\n",
       "<polyline clip-path=\"url(#clip0000)\" style=\"stroke:#000000; stroke-width:4; stroke-opacity:1; fill:none\" points=\"\n",
       "  180.66,1106.98 213.242,1106.98 \n",
       "  \"/>\n",
       "<polyline clip-path=\"url(#clip0000)\" style=\"stroke:#000000; stroke-width:4; stroke-opacity:1; fill:none\" points=\"\n",
       "  180.66,767.323 213.242,767.323 \n",
       "  \"/>\n",
       "<polyline clip-path=\"url(#clip0000)\" style=\"stroke:#000000; stroke-width:4; stroke-opacity:1; fill:none\" points=\"\n",
       "  180.66,427.664 213.242,427.664 \n",
       "  \"/>\n",
       "<polyline clip-path=\"url(#clip0000)\" style=\"stroke:#000000; stroke-width:4; stroke-opacity:1; fill:none\" points=\"\n",
       "  180.66,88.0053 213.242,88.0053 \n",
       "  \"/>\n",
       "<g clip-path=\"url(#clip0000)\">\n",
       "<text style=\"fill:#000000; fill-opacity:1; font-family:Arial,Helvetica Neue,Helvetica,sans-serif; font-size:48px; text-anchor:middle;\" transform=\"rotate(0, 231.837, 1541.47)\" x=\"231.837\" y=\"1541.47\">0</text>\n",
       "</g>\n",
       "<g clip-path=\"url(#clip0000)\">\n",
       "<text style=\"fill:#000000; fill-opacity:1; font-family:Arial,Helvetica Neue,Helvetica,sans-serif; font-size:48px; text-anchor:middle;\" transform=\"rotate(0, 746.698, 1541.47)\" x=\"746.698\" y=\"1541.47\">50</text>\n",
       "</g>\n",
       "<g clip-path=\"url(#clip0000)\">\n",
       "<text style=\"fill:#000000; fill-opacity:1; font-family:Arial,Helvetica Neue,Helvetica,sans-serif; font-size:48px; text-anchor:middle;\" transform=\"rotate(0, 1261.56, 1541.47)\" x=\"1261.56\" y=\"1541.47\">100</text>\n",
       "</g>\n",
       "<g clip-path=\"url(#clip0000)\">\n",
       "<text style=\"fill:#000000; fill-opacity:1; font-family:Arial,Helvetica Neue,Helvetica,sans-serif; font-size:48px; text-anchor:middle;\" transform=\"rotate(0, 1776.42, 1541.47)\" x=\"1776.42\" y=\"1541.47\">150</text>\n",
       "</g>\n",
       "<g clip-path=\"url(#clip0000)\">\n",
       "<text style=\"fill:#000000; fill-opacity:1; font-family:Arial,Helvetica Neue,Helvetica,sans-serif; font-size:48px; text-anchor:middle;\" transform=\"rotate(0, 2291.28, 1541.47)\" x=\"2291.28\" y=\"1541.47\">200</text>\n",
       "</g>\n",
       "<g clip-path=\"url(#clip0000)\">\n",
       "<text style=\"fill:#000000; fill-opacity:1; font-family:Arial,Helvetica Neue,Helvetica,sans-serif; font-size:48px; text-anchor:end;\" transform=\"rotate(0, 156.66, 1464.14)\" x=\"156.66\" y=\"1464.14\">0.00</text>\n",
       "</g>\n",
       "<g clip-path=\"url(#clip0000)\">\n",
       "<text style=\"fill:#000000; fill-opacity:1; font-family:Arial,Helvetica Neue,Helvetica,sans-serif; font-size:48px; text-anchor:end;\" transform=\"rotate(0, 156.66, 1124.48)\" x=\"156.66\" y=\"1124.48\">0.25</text>\n",
       "</g>\n",
       "<g clip-path=\"url(#clip0000)\">\n",
       "<text style=\"fill:#000000; fill-opacity:1; font-family:Arial,Helvetica Neue,Helvetica,sans-serif; font-size:48px; text-anchor:end;\" transform=\"rotate(0, 156.66, 784.823)\" x=\"156.66\" y=\"784.823\">0.50</text>\n",
       "</g>\n",
       "<g clip-path=\"url(#clip0000)\">\n",
       "<text style=\"fill:#000000; fill-opacity:1; font-family:Arial,Helvetica Neue,Helvetica,sans-serif; font-size:48px; text-anchor:end;\" transform=\"rotate(0, 156.66, 445.164)\" x=\"156.66\" y=\"445.164\">0.75</text>\n",
       "</g>\n",
       "<g clip-path=\"url(#clip0000)\">\n",
       "<text style=\"fill:#000000; fill-opacity:1; font-family:Arial,Helvetica Neue,Helvetica,sans-serif; font-size:48px; text-anchor:end;\" transform=\"rotate(0, 156.66, 105.505)\" x=\"156.66\" y=\"105.505\">1.00</text>\n",
       "</g>\n",
       "<polyline clip-path=\"url(#clip0002)\" style=\"stroke:#009af9; stroke-width:4; stroke-opacity:1; fill:none\" points=\"\n",
       "  242.135,88.0053 252.432,101.334 262.729,114.662 273.026,127.99 283.324,141.318 293.621,154.646 303.918,167.975 314.215,181.303 324.512,194.631 334.81,207.959 \n",
       "  345.107,221.287 355.404,234.616 365.701,247.944 375.999,261.272 386.296,274.6 396.593,287.928 406.89,301.257 417.187,314.585 427.485,327.913 437.782,341.241 \n",
       "  448.079,354.569 458.376,367.898 468.674,381.226 478.971,394.554 489.268,407.882 499.565,421.211 509.862,434.539 520.16,447.867 530.457,461.195 540.754,474.523 \n",
       "  551.051,487.852 561.349,501.18 571.646,514.508 581.943,527.836 592.24,541.164 602.537,554.493 612.835,567.821 623.132,581.149 633.429,594.477 643.726,607.805 \n",
       "  654.024,621.134 664.321,634.462 674.618,647.79 684.915,661.118 695.212,674.446 705.51,687.775 715.807,701.103 726.104,714.431 736.401,727.759 746.698,741.087 \n",
       "  756.996,754.416 767.293,767.744 777.59,781.072 787.887,794.4 798.185,807.729 808.482,821.057 818.779,834.385 829.076,847.713 839.373,861.041 849.671,874.37 \n",
       "  859.968,887.698 870.265,901.026 880.562,914.354 890.86,927.682 901.157,941.011 911.454,954.339 921.751,967.667 932.048,980.995 942.346,994.323 952.643,1007.65 \n",
       "  962.94,1020.98 973.237,1034.31 983.535,1047.64 993.832,1060.96 1004.13,1074.29 1014.43,1087.62 1024.72,1100.95 1035.02,1114.28 1045.32,1127.61 1055.62,1140.93 \n",
       "  1065.91,1154.26 1076.21,1167.59 1086.51,1180.92 1096.8,1194.25 1107.1,1207.57 1117.4,1220.9 1127.7,1234.23 1137.99,1247.56 1148.29,1260.89 1158.59,1274.22 \n",
       "  1168.88,1287.54 1179.18,1300.87 1189.48,1314.2 1199.78,1327.53 1210.07,1340.86 1220.37,1354.18 1230.67,1367.51 1240.97,1380.84 1251.26,1394.17 1261.56,1407.5 \n",
       "  1271.86,1420.83 1282.15,1434.15 1292.45,1446.64 1302.75,1446.64 1313.05,1446.64 1323.34,1446.64 1333.64,1446.64 1343.94,1446.64 1354.23,1446.64 1364.53,1446.66 \n",
       "  1374.83,1446.62 1385.13,1446.64 1395.42,1446.64 1405.72,1446.64 1416.02,1446.64 1426.32,1446.64 1436.61,1446.64 1446.91,1446.64 1457.21,1446.67 1467.5,1446.61 \n",
       "  1477.8,1446.57 1488.1,1446.71 1498.4,1446.64 1508.69,1446.58 1518.99,1446.7 1529.29,1446.64 1539.58,1446.58 1549.88,1446.69 1560.18,1446.64 1570.48,1446.59 \n",
       "  1580.77,1446.69 1591.07,1446.64 1601.37,1446.6 1611.66,1446.68 1621.96,1446.64 1632.26,1446.6 1642.56,1446.68 1652.85,1446.64 1663.15,1446.61 1673.45,1446.67 \n",
       "  1683.75,1446.64 1694.04,1446.61 1704.34,1446.67 1714.64,1446.64 1724.93,1446.62 1735.23,1446.66 1745.53,1446.64 1755.83,1446.64 1766.12,1446.64 1776.42,1446.64 \n",
       "  1786.72,1446.64 1797.01,1446.64 1807.31,1446.64 1817.61,1446.64 1827.91,1446.64 1838.2,1446.64 1848.5,1446.64 1858.8,1446.64 1869.1,1446.64 1879.39,1446.64 \n",
       "  1889.69,1446.64 1899.99,1446.64 1910.28,1446.64 1920.58,1446.64 1930.88,1446.66 1941.18,1446.62 1951.47,1446.59 1961.77,1446.69 1972.07,1446.64 1982.36,1446.59 \n",
       "  1992.66,1446.69 2002.96,1446.64 2013.26,1446.64 2023.55,1446.64 2033.85,1446.64 2044.15,1446.64 2054.45,1446.64 2064.74,1446.64 2075.04,1446.64 2085.34,1446.64 \n",
       "  2095.63,1446.67 2105.93,1446.62 2116.23,1446.58 2126.53,1446.7 2136.82,1446.64 2147.12,1446.59 2157.42,1446.69 2167.71,1446.64 2178.01,1446.6 2188.31,1446.68 \n",
       "  2198.61,1446.64 2208.9,1446.6 2219.2,1446.68 2229.5,1446.64 2239.8,1446.61 2250.09,1446.67 2260.39,1446.64 2270.69,1446.61 2280.98,1446.67 2291.28,1446.64 \n",
       "  \n",
       "  \"/>\n",
       "<polygon clip-path=\"url(#clip0000)\" points=\"\n",
       "1989.93,251.724 2280.76,251.724 2280.76,130.764 1989.93,130.764 \n",
       "  \" fill=\"#ffffff\" fill-rule=\"evenodd\" fill-opacity=\"1\"/>\n",
       "<polyline clip-path=\"url(#clip0000)\" style=\"stroke:#000000; stroke-width:4; stroke-opacity:1; fill:none\" points=\"\n",
       "  1989.93,251.724 2280.76,251.724 2280.76,130.764 1989.93,130.764 1989.93,251.724 \n",
       "  \"/>\n",
       "<polyline clip-path=\"url(#clip0000)\" style=\"stroke:#009af9; stroke-width:4; stroke-opacity:1; fill:none\" points=\"\n",
       "  2013.93,191.244 2157.93,191.244 \n",
       "  \"/>\n",
       "<g clip-path=\"url(#clip0000)\">\n",
       "<text style=\"fill:#000000; fill-opacity:1; font-family:Arial,Helvetica Neue,Helvetica,sans-serif; font-size:48px; text-anchor:start;\" transform=\"rotate(0, 2181.93, 208.744)\" x=\"2181.93\" y=\"208.744\">y1</text>\n",
       "</g>\n",
       "</svg>\n"
      ]
     },
     "execution_count": 4,
     "metadata": {},
     "output_type": "execute_result"
    }
   ],
   "source": [
    "plot(traj_sim[7][11,:])"
   ]
  },
  {
   "cell_type": "code",
   "execution_count": null,
   "metadata": {},
   "outputs": [],
   "source": [
    "traj_sim[4][17:30]"
   ]
  },
  {
   "cell_type": "markdown",
   "metadata": {},
   "source": [
    "# Estimating the parameters"
   ]
  },
  {
   "cell_type": "markdown",
   "metadata": {},
   "source": [
    "## Bilevel"
   ]
  },
  {
   "cell_type": "code",
   "execution_count": 5,
   "metadata": {},
   "outputs": [
    {
     "data": {
      "text/plain": [
       "get_estimation_data_direct (generic function with 1 method)"
      ]
     },
     "execution_count": 5,
     "metadata": {},
     "output_type": "execute_result"
    }
   ],
   "source": [
    "function get_estimation_data_direct(mechanism::Mechanism,env::Environment)\n",
    "    vs = VariableSelector()\n",
    "\n",
    "    add_var!(vs, :q0, num_positions(mechanism))\n",
    "    add_var!(vs, :v0, num_velocities(mechanism))\n",
    "    add_var!(vs, :u0, num_velocities(mechanism))\n",
    "    add_var!(vs, :qnext, num_positions(mechanism))\n",
    "    add_var!(vs, :vnext, num_velocities(mechanism))\n",
    "    add_var!(vs, :h, 1)\n",
    "    \n",
    "    cs = ConstraintSelector()\n",
    "    \n",
    "    add_ineq!(cs, :μ_pos, 1)\n",
    "\n",
    "    state_cache = [StateCache(mechanism) for n = 1:2]\n",
    "    envj_cache = [EnvironmentJacobianCache(env) for n = 1:2]\n",
    "\n",
    "    generate_solver_fn = :generate_solver_fn_estimation_direct\n",
    "    extract_sol = :nothing\n",
    "\n",
    "    n_options = Dict{String, Any}()\n",
    "    n_options[\"num_fosteps\"] = 1\n",
    "    n_options[\"num_sosteps\"] = 20\n",
    "    n_options[\"c\"] = 1.\n",
    "    n_options[\"c_fos\"] = 1.\n",
    "    n_options[\"c_sos\"] = 1.\n",
    "\n",
    "    f_options = Dict{String, Any}()\n",
    "    f_options[\"num_fosteps\"] = 1\n",
    "    f_options[\"num_sosteps\"] = 10\n",
    "    f_options[\"c\"] = 1.\n",
    "    f_options[\"c_fos\"] = 1.\n",
    "    f_options[\"c_sos\"] = 1.\n",
    "    \n",
    "    n_vs = VariableSelector()\n",
    "    for i = 1:length(env.contacts)\n",
    "        add_var!(n_vs, Symbol(\"c_n\", i), 1)\n",
    "    end\n",
    "\n",
    "    n_cs = ConstraintSelector()\n",
    "    for i = 1:length(env.contacts)\n",
    "        add_ineq!(n_cs, Symbol(\"c_n_pos\", i), 1)\n",
    "        add_ineq!(n_cs, Symbol(\"ϕ\", i), 1)\n",
    "    end\n",
    "\n",
    "    f_vs = VariableSelector()\n",
    "    for i = 1:length(env.contacts)\n",
    "        β_dim = size(env.contacts[i].obstacle.basis,2)\n",
    "        add_var!(f_vs, Symbol(\"β\", i), β_dim)\n",
    "    end\n",
    "\n",
    "    f_cs = ConstraintSelector()\n",
    "    for i = 1:length(env.contacts)\n",
    "        β_dim = size(env.contacts[i].obstacle.basis,2)\n",
    "        add_ineq!(f_cs, Symbol(\"β_pos\", i), β_dim)\n",
    "        add_ineq!(f_cs, Symbol(\"fric_cone\", i), 1)\n",
    "    end\n",
    "\n",
    "    sim_data = SimData(mechanism,env,\n",
    "                       state_cache,envj_cache,\n",
    "                       0.,vs,cs,generate_solver_fn,extract_sol,\n",
    "                       [],[],[],\n",
    "                       [n_vs],[n_cs],[n_options],\n",
    "                       [f_vs],[f_cs],[f_options],\n",
    "                       0,[],[])\n",
    "\n",
    "    sim_data\n",
    "end"
   ]
  },
  {
   "cell_type": "code",
   "execution_count": 6,
   "metadata": {},
   "outputs": [
    {
     "data": {
      "text/plain": [
       "load_data (generic function with 1 method)"
      ]
     },
     "execution_count": 6,
     "metadata": {},
     "output_type": "execute_result"
    }
   ],
   "source": [
    "function load_data(traj, sim_data)\n",
    "    vs = sim_data.vs\n",
    "    data = []\n",
    "    \n",
    "    for n = 10:30\n",
    "        q0 = traj_sim[1][n]\n",
    "        v0 = traj_sim[2][n]\n",
    "        u0 = zeros(num_velocities(mechanism)) #traj_sim[3][n]\n",
    "        h = traj_sim[6][n+1] - traj_sim[6][n]\n",
    "        qnext = traj_sim[1][n+1]\n",
    "        vnext = traj_sim[2][n+1]\n",
    "        \n",
    "        sample = zeros(vs.num_vars)\n",
    "        sample[vs(:q0)] = q0\n",
    "        sample[vs(:v0)] = v0\n",
    "        sample[vs(:u0)] = u0\n",
    "        sample[vs(:qnext)] = qnext\n",
    "        sample[vs(:vnext)] = vnext\n",
    "        sample[vs(:h)] = [h]\n",
    "        \n",
    "        push!(data, sample)\n",
    "    end\n",
    "    \n",
    "    data\n",
    "end"
   ]
  },
  {
   "cell_type": "code",
   "execution_count": 20,
   "metadata": {},
   "outputs": [
    {
     "data": {
      "text/plain": [
       "generate_solver_fn_estimation_direct (generic function with 1 method)"
      ]
     },
     "execution_count": 20,
     "metadata": {},
     "output_type": "execute_result"
    }
   ],
   "source": [
    "function generate_solver_fn_estimation_direct(sim_data, data)\n",
    "    vs = sim_data.vs\n",
    "    cs = sim_data.cs\n",
    "    num_samples = length(data)\n",
    "    num_vel = num_velocities(mechanism)\n",
    "    \n",
    "    function eval_obj(params::AbstractArray{T}) where T\n",
    "        # set the friction coefficient for the floor\n",
    "        obstacles[1].μ = params[1]\n",
    "        \n",
    "        # evaluate the dynamics residual on each datapoint as an inner problem\n",
    "        losses = Array{T,1}(undef, num_samples)\n",
    "        for i = 1:num_samples # PARRALEL\n",
    "            sample = data[i]\n",
    "            q0 = vs(sample, :q0)\n",
    "            v0 = vs(sample, :v0)\n",
    "            u0 = vs(sample, :u0)\n",
    "            qnext = vs(sample, :qnext)\n",
    "            vnext = vs(sample, :vnext)\n",
    "            h = vs(sample, :h)\n",
    "            \n",
    "            x0 = sim_data.state_cache[1][Float64]\n",
    "            xn = sim_data.state_cache[2][Float64]\n",
    "            envj = sim_data.envj_cache[2][Float64]\n",
    "\n",
    "            set_configuration!(x0, q0)\n",
    "            set_velocity!(x0, v0)\n",
    "            setdirty!(x0)\n",
    "            set_configuration!(xn, qnext)\n",
    "            set_velocity!(xn, vnext)\n",
    "            setdirty!(xn)\n",
    "\n",
    "            H = mass_matrix(x0) .* params[1]\n",
    "            Hi = inv(H)\n",
    "            dyn_bias = dynamics_bias(xn)\n",
    "\n",
    "            Bilevel.contact_jacobian!(envj, xn)\n",
    "            contact_bias = Vector{T}(undef, num_vel)\n",
    "            normal_bias = Vector{T}(undef, num_vel)\n",
    "            \n",
    "            # compute normal forces\n",
    "            x_normal = Bilevel.contact_normal_τ_direct!(normal_bias, sim_data, Hi, envj, dyn_bias, u0, v0, params, 1)\n",
    "                        \n",
    "            # compute friction forces\n",
    "            Bilevel.contact_friction_τ_direct!(contact_bias, sim_data, Hi, envj, dyn_bias, u0, v0, params, x_normal, 1)\n",
    "\n",
    "            dyn_res = H * (vnext - v0) .- h .* (u0 .- dyn_bias .- contact_bias)\n",
    "                        \n",
    "#             losses[i] = (dyn_res' * dyn_res + sum(abs.(dyn_res))) / num_samples\n",
    "            losses[i] = sum(abs.(dyn_res)) / num_samples\n",
    "        end\n",
    "        \n",
    "        # add losses\n",
    "        sum(losses)\n",
    "    end\n",
    "\n",
    "    function eval_cons(params::AbstractArray{T}) where T        \n",
    "        # friction coeffs are positive\n",
    "        g = Vector{T}(undef, cs.num_eqs + cs.num_ineqs)\n",
    "\n",
    "        μ = params[1]\n",
    "\n",
    "        g[cs(:μ_pos)] .= 1e-5 - μ\n",
    "        \n",
    "        g\n",
    "    end\n",
    "    \n",
    "    return Bilevel.generate_autodiff_solver_fn(eval_obj,eval_cons,cs.eqs,cs.ineqs,1,hessian=false)\n",
    "end"
   ]
  },
  {
   "cell_type": "code",
   "execution_count": 21,
   "metadata": {},
   "outputs": [
    {
     "data": {
      "text/plain": [
       "1.0e-6"
      ]
     },
     "execution_count": 21,
     "metadata": {},
     "output_type": "execute_result"
    }
   ],
   "source": [
    "estimation_sim_data = get_estimation_data_direct(mechanism, env)\n",
    "estimation_data = load_data(traj_sim, estimation_sim_data)\n",
    "solver_fn = generate_solver_fn_estimation_direct(estimation_sim_data, estimation_data)\n",
    "\n",
    "μ0 = [0.5]\n",
    "options = Dict{String, Any}()\n",
    "options[\"Derivative option\"] = 1\n",
    "options[\"Verify level\"] = -1\n",
    "options[\"Major optimality tolerance\"] = 1e-6\n",
    "\n",
    "# μopt, info = Bilevel.snopt(solver_fn, estimation_sim_data.cs.num_eqs, estimation_sim_data.cs.num_ineqs, μ0, options)"
   ]
  },
  {
   "cell_type": "code",
   "execution_count": 24,
   "metadata": {
    "scrolled": false
   },
   "outputs": [
    {
     "ename": "ForwardDiff.DualMismatchError{DataType,DataType}",
     "evalue": "Cannot determine ordering of Dual tags ForwardDiff.Tag{getfield(Bilevel, Symbol(\"#eval_cons_#20\")){Int64,VariableSelector,Array{Any,1},Array{Any,1}},Float64} and ForwardDiff.Tag{getfield(Main, Symbol(\"#eval_obj#11\")){SimData,Array{Any,1},VariableSelector,Int64,Int64},Float64}",
     "output_type": "error",
     "traceback": [
      "Cannot determine ordering of Dual tags ForwardDiff.Tag{getfield(Bilevel, Symbol(\"#eval_cons_#20\")){Int64,VariableSelector,Array{Any,1},Array{Any,1}},Float64} and ForwardDiff.Tag{getfield(Main, Symbol(\"#eval_obj#11\")){SimData,Array{Any,1},VariableSelector,Int64,Int64},Float64}",
      "",
      "Stacktrace:",
      " [1] partials(::Type{ForwardDiff.Tag{getfield(Bilevel, Symbol(\"#eval_cons_#20\")){Int64,VariableSelector,Array{Any,1},Array{Any,1}},Float64}}, ::ForwardDiff.Dual{ForwardDiff.Tag{getfield(Main, Symbol(\"#eval_obj#11\")){SimData,Array{Any,1},VariableSelector,Int64,Int64},Float64},ForwardDiff.Dual{ForwardDiff.Tag{getfield(Main, Symbol(\"#eval_obj#11\")){SimData,Array{Any,1},VariableSelector,Int64,Int64},Float64},ForwardDiff.Dual{ForwardDiff.Tag{getfield(Bilevel, Symbol(\"#eval_cons_#20\")){Int64,VariableSelector,Array{Any,1},Array{Any,1}},Float64},Float64,4},1},1}, ::Int64) at /home/blandry/.julia/packages/ForwardDiff/N0wMF/src/dual.jl:106",
      " [2] extract_jacobian!(::Type{ForwardDiff.Tag{getfield(Bilevel, Symbol(\"#eval_cons_#20\")){Int64,VariableSelector,Array{Any,1},Array{Any,1}},Float64}}, ::Array{ForwardDiff.Dual{ForwardDiff.Tag{getfield(Main, Symbol(\"#eval_obj#11\")){SimData,Array{Any,1},VariableSelector,Int64,Int64},Float64},ForwardDiff.Dual{ForwardDiff.Tag{getfield(Main, Symbol(\"#eval_obj#11\")){SimData,Array{Any,1},VariableSelector,Int64,Int64},Float64},Float64,1},1},2}, ::Array{Any,1}, ::Int64) at /home/blandry/.julia/packages/ForwardDiff/N0wMF/src/jacobian.jl:111",
      " [3] extract_jacobian!(::Type{ForwardDiff.Tag{getfield(Bilevel, Symbol(\"#eval_cons_#20\")){Int64,VariableSelector,Array{Any,1},Array{Any,1}},Float64}}, ::DiffResults.MutableDiffResult{1,Array{ForwardDiff.Dual{ForwardDiff.Tag{getfield(Main, Symbol(\"#eval_obj#11\")){SimData,Array{Any,1},VariableSelector,Int64,Int64},Float64},ForwardDiff.Dual{ForwardDiff.Tag{getfield(Main, Symbol(\"#eval_obj#11\")){SimData,Array{Any,1},VariableSelector,Int64,Int64},Float64},Float64,1},1},1},Tuple{Array{ForwardDiff.Dual{ForwardDiff.Tag{getfield(Main, Symbol(\"#eval_obj#11\")){SimData,Array{Any,1},VariableSelector,Int64,Int64},Float64},ForwardDiff.Dual{ForwardDiff.Tag{getfield(Main, Symbol(\"#eval_obj#11\")){SimData,Array{Any,1},VariableSelector,Int64,Int64},Float64},Float64,1},1},2}}}, ::Array{Any,1}, ::Int64) at /home/blandry/.julia/packages/ForwardDiff/N0wMF/src/jacobian.jl:117",
      " [4] vector_mode_jacobian!(::DiffResults.MutableDiffResult{1,Array{ForwardDiff.Dual{ForwardDiff.Tag{getfield(Main, Symbol(\"#eval_obj#11\")){SimData,Array{Any,1},VariableSelector,Int64,Int64},Float64},ForwardDiff.Dual{ForwardDiff.Tag{getfield(Main, Symbol(\"#eval_obj#11\")){SimData,Array{Any,1},VariableSelector,Int64,Int64},Float64},Float64,1},1},1},Tuple{Array{ForwardDiff.Dual{ForwardDiff.Tag{getfield(Main, Symbol(\"#eval_obj#11\")){SimData,Array{Any,1},VariableSelector,Int64,Int64},Float64},ForwardDiff.Dual{ForwardDiff.Tag{getfield(Main, Symbol(\"#eval_obj#11\")){SimData,Array{Any,1},VariableSelector,Int64,Int64},Float64},Float64,1},1},2}}}, ::getfield(Bilevel, Symbol(\"#eval_cons_#20\")){Int64,VariableSelector,Array{Any,1},Array{Any,1}}, ::Array{Float64,1}, ::ForwardDiff.JacobianConfig{ForwardDiff.Tag{getfield(Bilevel, Symbol(\"#eval_cons_#20\")){Int64,VariableSelector,Array{Any,1},Array{Any,1}},Float64},Float64,4,Array{ForwardDiff.Dual{ForwardDiff.Tag{getfield(Bilevel, Symbol(\"#eval_cons_#20\")){Int64,VariableSelector,Array{Any,1},Array{Any,1}},Float64},Float64,4},1}}) at /home/blandry/.julia/packages/ForwardDiff/N0wMF/src/jacobian.jl:158",
      " [5] jacobian!(::DiffResults.MutableDiffResult{1,Array{ForwardDiff.Dual{ForwardDiff.Tag{getfield(Main, Symbol(\"#eval_obj#11\")){SimData,Array{Any,1},VariableSelector,Int64,Int64},Float64},ForwardDiff.Dual{ForwardDiff.Tag{getfield(Main, Symbol(\"#eval_obj#11\")){SimData,Array{Any,1},VariableSelector,Int64,Int64},Float64},Float64,1},1},1},Tuple{Array{ForwardDiff.Dual{ForwardDiff.Tag{getfield(Main, Symbol(\"#eval_obj#11\")){SimData,Array{Any,1},VariableSelector,Int64,Int64},Float64},ForwardDiff.Dual{ForwardDiff.Tag{getfield(Main, Symbol(\"#eval_obj#11\")){SimData,Array{Any,1},VariableSelector,Int64,Int64},Float64},Float64,1},1},2}}}, ::Function, ::Array{Float64,1}, ::ForwardDiff.JacobianConfig{ForwardDiff.Tag{getfield(Bilevel, Symbol(\"#eval_cons_#20\")){Int64,VariableSelector,Array{Any,1},Array{Any,1}},Float64},Float64,4,Array{ForwardDiff.Dual{ForwardDiff.Tag{getfield(Bilevel, Symbol(\"#eval_cons_#20\")){Int64,VariableSelector,Array{Any,1},Array{Any,1}},Float64},Float64,4},1}}, ::Val{true}) at /home/blandry/.julia/packages/ForwardDiff/N0wMF/src/jacobian.jl:54",
      " [6] jacobian!(::DiffResults.MutableDiffResult{1,Array{ForwardDiff.Dual{ForwardDiff.Tag{getfield(Main, Symbol(\"#eval_obj#11\")){SimData,Array{Any,1},VariableSelector,Int64,Int64},Float64},ForwardDiff.Dual{ForwardDiff.Tag{getfield(Main, Symbol(\"#eval_obj#11\")){SimData,Array{Any,1},VariableSelector,Int64,Int64},Float64},Float64,1},1},1},Tuple{Array{ForwardDiff.Dual{ForwardDiff.Tag{getfield(Main, Symbol(\"#eval_obj#11\")){SimData,Array{Any,1},VariableSelector,Int64,Int64},Float64},ForwardDiff.Dual{ForwardDiff.Tag{getfield(Main, Symbol(\"#eval_obj#11\")){SimData,Array{Any,1},VariableSelector,Int64,Int64},Float64},Float64,1},1},2}}}, ::Function, ::Array{Float64,1}, ::ForwardDiff.JacobianConfig{ForwardDiff.Tag{getfield(Bilevel, Symbol(\"#eval_cons_#20\")){Int64,VariableSelector,Array{Any,1},Array{Any,1}},Float64},Float64,4,Array{ForwardDiff.Dual{ForwardDiff.Tag{getfield(Bilevel, Symbol(\"#eval_cons_#20\")){Int64,VariableSelector,Array{Any,1},Array{Any,1}},Float64},Float64,4},1}}) at /home/blandry/.julia/packages/ForwardDiff/N0wMF/src/jacobian.jl:52 (repeats 2 times)",
      " [7] (::getfield(Bilevel, Symbol(\"#solver_fn#88\")){Bool,getfield(Bilevel, Symbol(\"#eval_obj_#19\")){Int64,VariableSelector},DiffResults.MutableDiffResult{2,ForwardDiff.Dual{ForwardDiff.Tag{getfield(Main, Symbol(\"#eval_obj#11\")){SimData,Array{Any,1},VariableSelector,Int64,Int64},Float64},ForwardDiff.Dual{ForwardDiff.Tag{getfield(Main, Symbol(\"#eval_obj#11\")){SimData,Array{Any,1},VariableSelector,Int64,Int64},Float64},Float64,1},1},Tuple{Array{ForwardDiff.Dual{ForwardDiff.Tag{getfield(Main, Symbol(\"#eval_obj#11\")){SimData,Array{Any,1},VariableSelector,Int64,Int64},Float64},ForwardDiff.Dual{ForwardDiff.Tag{getfield(Main, Symbol(\"#eval_obj#11\")){SimData,Array{Any,1},VariableSelector,Int64,Int64},Float64},Float64,1},1},1},Array{ForwardDiff.Dual{ForwardDiff.Tag{getfield(Main, Symbol(\"#eval_obj#11\")){SimData,Array{Any,1},VariableSelector,Int64,Int64},Float64},ForwardDiff.Dual{ForwardDiff.Tag{getfield(Main, Symbol(\"#eval_obj#11\")){SimData,Array{Any,1},VariableSelector,Int64,Int64},Float64},Float64,1},1},2}}},getfield(Bilevel, Symbol(\"#eval_cons_#20\")){Int64,VariableSelector,Array{Any,1},Array{Any,1}},DiffResults.MutableDiffResult{1,Array{ForwardDiff.Dual{ForwardDiff.Tag{getfield(Main, Symbol(\"#eval_obj#11\")){SimData,Array{Any,1},VariableSelector,Int64,Int64},Float64},ForwardDiff.Dual{ForwardDiff.Tag{getfield(Main, Symbol(\"#eval_obj#11\")){SimData,Array{Any,1},VariableSelector,Int64,Int64},Float64},Float64,1},1},1},Tuple{Array{ForwardDiff.Dual{ForwardDiff.Tag{getfield(Main, Symbol(\"#eval_obj#11\")){SimData,Array{Any,1},VariableSelector,Int64,Int64},Float64},ForwardDiff.Dual{ForwardDiff.Tag{getfield(Main, Symbol(\"#eval_obj#11\")){SimData,Array{Any,1},VariableSelector,Int64,Int64},Float64},Float64,1},1},2}}},Array{Int64,1},Array{Int64,1}})(::Array{Float64,1}) at /home/blandry/.julia/dev/Bilevel/src/solvers/autodiff.jl:62",
      " [8] auglag(::getfield(Bilevel, Symbol(\"#solver_fn#88\")){Bool,getfield(Bilevel, Symbol(\"#eval_obj_#19\")){Int64,VariableSelector},DiffResults.MutableDiffResult{2,ForwardDiff.Dual{ForwardDiff.Tag{getfield(Main, Symbol(\"#eval_obj#11\")){SimData,Array{Any,1},VariableSelector,Int64,Int64},Float64},ForwardDiff.Dual{ForwardDiff.Tag{getfield(Main, Symbol(\"#eval_obj#11\")){SimData,Array{Any,1},VariableSelector,Int64,Int64},Float64},Float64,1},1},Tuple{Array{ForwardDiff.Dual{ForwardDiff.Tag{getfield(Main, Symbol(\"#eval_obj#11\")){SimData,Array{Any,1},VariableSelector,Int64,Int64},Float64},ForwardDiff.Dual{ForwardDiff.Tag{getfield(Main, Symbol(\"#eval_obj#11\")){SimData,Array{Any,1},VariableSelector,Int64,Int64},Float64},Float64,1},1},1},Array{ForwardDiff.Dual{ForwardDiff.Tag{getfield(Main, Symbol(\"#eval_obj#11\")){SimData,Array{Any,1},VariableSelector,Int64,Int64},Float64},ForwardDiff.Dual{ForwardDiff.Tag{getfield(Main, Symbol(\"#eval_obj#11\")){SimData,Array{Any,1},VariableSelector,Int64,Int64},Float64},Float64,1},1},2}}},getfield(Bilevel, Symbol(\"#eval_cons_#20\")){Int64,VariableSelector,Array{Any,1},Array{Any,1}},DiffResults.MutableDiffResult{1,Array{ForwardDiff.Dual{ForwardDiff.Tag{getfield(Main, Symbol(\"#eval_obj#11\")){SimData,Array{Any,1},VariableSelector,Int64,Int64},Float64},ForwardDiff.Dual{ForwardDiff.Tag{getfield(Main, Symbol(\"#eval_obj#11\")){SimData,Array{Any,1},VariableSelector,Int64,Int64},Float64},Float64,1},1},1},Tuple{Array{ForwardDiff.Dual{ForwardDiff.Tag{getfield(Main, Symbol(\"#eval_obj#11\")){SimData,Array{Any,1},VariableSelector,Int64,Int64},Float64},ForwardDiff.Dual{ForwardDiff.Tag{getfield(Main, Symbol(\"#eval_obj#11\")){SimData,Array{Any,1},VariableSelector,Int64,Int64},Float64},Float64,1},1},2}}},Array{Int64,1},Array{Int64,1}}, ::Int64, ::Int64, ::Array{Float64,1}, ::Dict{String,Any}) at /home/blandry/.julia/dev/Bilevel/src/solvers/auglag.jl:47",
      " [9] contact_normal_τ_direct!(::Array{ForwardDiff.Dual{ForwardDiff.Tag{getfield(Main, Symbol(\"#eval_obj#11\")){SimData,Array{Any,1},VariableSelector,Int64,Int64},Float64},ForwardDiff.Dual{ForwardDiff.Tag{getfield(Main, Symbol(\"#eval_obj#11\")){SimData,Array{Any,1},VariableSelector,Int64,Int64},Float64},Float64,1},1},1}, ::SimData, ::Array{ForwardDiff.Dual{ForwardDiff.Tag{getfield(Main, Symbol(\"#eval_obj#11\")){SimData,Array{Any,1},VariableSelector,Int64,Int64},Float64},ForwardDiff.Dual{ForwardDiff.Tag{getfield(Main, Symbol(\"#eval_obj#11\")){SimData,Array{Any,1},VariableSelector,Int64,Int64},Float64},Float64,1},1},2}, ::EnvironmentJacobian{Float64}, ::SegmentedVector{JointID,Float64,Base.OneTo{JointID},Array{Float64,1}}, ::Array{Float64,1}, ::Array{Float64,1}, ::Array{ForwardDiff.Dual{ForwardDiff.Tag{getfield(Main, Symbol(\"#eval_obj#11\")){SimData,Array{Any,1},VariableSelector,Int64,Int64},Float64},ForwardDiff.Dual{ForwardDiff.Tag{getfield(Main, Symbol(\"#eval_obj#11\")){SimData,Array{Any,1},VariableSelector,Int64,Int64},Float64},Float64,1},1},1}, ::Int64) at /home/blandry/.julia/dev/Bilevel/src/contact_sim.jl:57",
      " [10] (::getfield(Main, Symbol(\"#eval_obj#11\")){SimData,Array{Any,1},VariableSelector,Int64,Int64})(::Array{ForwardDiff.Dual{ForwardDiff.Tag{getfield(Main, Symbol(\"#eval_obj#11\")){SimData,Array{Any,1},VariableSelector,Int64,Int64},Float64},ForwardDiff.Dual{ForwardDiff.Tag{getfield(Main, Symbol(\"#eval_obj#11\")){SimData,Array{Any,1},VariableSelector,Int64,Int64},Float64},Float64,1},1},1}) at ./In[20]:42",
      " [11] gradient!(::DiffResults.MutableDiffResult{1,ForwardDiff.Dual{ForwardDiff.Tag{getfield(Main, Symbol(\"#eval_obj#11\")){SimData,Array{Any,1},VariableSelector,Int64,Int64},Float64},Float64,1},Tuple{Array{ForwardDiff.Dual{ForwardDiff.Tag{getfield(Main, Symbol(\"#eval_obj#11\")){SimData,Array{Any,1},VariableSelector,Int64,Int64},Float64},Float64,1},1}}}, ::getfield(Main, Symbol(\"#eval_obj#11\")){SimData,Array{Any,1},VariableSelector,Int64,Int64}, ::Array{ForwardDiff.Dual{ForwardDiff.Tag{getfield(Main, Symbol(\"#eval_obj#11\")){SimData,Array{Any,1},VariableSelector,Int64,Int64},Float64},Float64,1},1}, ::ForwardDiff.GradientConfig{ForwardDiff.Tag{getfield(Main, Symbol(\"#eval_obj#11\")){SimData,Array{Any,1},VariableSelector,Int64,Int64},Float64},ForwardDiff.Dual{ForwardDiff.Tag{getfield(Main, Symbol(\"#eval_obj#11\")){SimData,Array{Any,1},VariableSelector,Int64,Int64},Float64},Float64,1},1,Array{ForwardDiff.Dual{ForwardDiff.Tag{getfield(Main, Symbol(\"#eval_obj#11\")){SimData,Array{Any,1},VariableSelector,Int64,Int64},Float64},ForwardDiff.Dual{ForwardDiff.Tag{getfield(Main, Symbol(\"#eval_obj#11\")){SimData,Array{Any,1},VariableSelector,Int64,Int64},Float64},Float64,1},1},1}}, ::Val{false}) at /home/blandry/.julia/packages/ForwardDiff/N0wMF/src/apiutils.jl:37",
      " [12] InnerGradientForHess at /home/blandry/.julia/packages/ForwardDiff/N0wMF/src/hessian.jl:50 [inlined]",
      " [13] vector_mode_dual_eval(::ForwardDiff.InnerGradientForHess{DiffResults.MutableDiffResult{2,Float64,Tuple{Array{Float64,1},Array{Float64,2}}},ForwardDiff.HessianConfig{ForwardDiff.Tag{getfield(Main, Symbol(\"#eval_obj#11\")){SimData,Array{Any,1},VariableSelector,Int64,Int64},Float64},Float64,1,Array{ForwardDiff.Dual{ForwardDiff.Tag{getfield(Main, Symbol(\"#eval_obj#11\")){SimData,Array{Any,1},VariableSelector,Int64,Int64},Float64},ForwardDiff.Dual{ForwardDiff.Tag{getfield(Main, Symbol(\"#eval_obj#11\")){SimData,Array{Any,1},VariableSelector,Int64,Int64},Float64},Float64,1},1},1},Tuple{Array{ForwardDiff.Dual{ForwardDiff.Tag{getfield(Main, Symbol(\"#eval_obj#11\")){SimData,Array{Any,1},VariableSelector,Int64,Int64},Float64},Float64,1},1},Array{ForwardDiff.Dual{ForwardDiff.Tag{getfield(Main, Symbol(\"#eval_obj#11\")){SimData,Array{Any,1},VariableSelector,Int64,Int64},Float64},Float64,1},1}}},getfield(Main, Symbol(\"#eval_obj#11\")){SimData,Array{Any,1},VariableSelector,Int64,Int64}}, ::Array{Float64,1}, ::Array{Float64,1}, ::ForwardDiff.JacobianConfig{ForwardDiff.Tag{getfield(Main, Symbol(\"#eval_obj#11\")){SimData,Array{Any,1},VariableSelector,Int64,Int64},Float64},Float64,1,Tuple{Array{ForwardDiff.Dual{ForwardDiff.Tag{getfield(Main, Symbol(\"#eval_obj#11\")){SimData,Array{Any,1},VariableSelector,Int64,Int64},Float64},Float64,1},1},Array{ForwardDiff.Dual{ForwardDiff.Tag{getfield(Main, Symbol(\"#eval_obj#11\")){SimData,Array{Any,1},VariableSelector,Int64,Int64},Float64},Float64,1},1}}}) at /home/blandry/.julia/packages/ForwardDiff/N0wMF/src/apiutils.jl:44",
      " [14] vector_mode_jacobian!(::Array{Float64,2}, ::ForwardDiff.InnerGradientForHess{DiffResults.MutableDiffResult{2,Float64,Tuple{Array{Float64,1},Array{Float64,2}}},ForwardDiff.HessianConfig{ForwardDiff.Tag{getfield(Main, Symbol(\"#eval_obj#11\")){SimData,Array{Any,1},VariableSelector,Int64,Int64},Float64},Float64,1,Array{ForwardDiff.Dual{ForwardDiff.Tag{getfield(Main, Symbol(\"#eval_obj#11\")){SimData,Array{Any,1},VariableSelector,Int64,Int64},Float64},ForwardDiff.Dual{ForwardDiff.Tag{getfield(Main, Symbol(\"#eval_obj#11\")){SimData,Array{Any,1},VariableSelector,Int64,Int64},Float64},Float64,1},1},1},Tuple{Array{ForwardDiff.Dual{ForwardDiff.Tag{getfield(Main, Symbol(\"#eval_obj#11\")){SimData,Array{Any,1},VariableSelector,Int64,Int64},Float64},Float64,1},1},Array{ForwardDiff.Dual{ForwardDiff.Tag{getfield(Main, Symbol(\"#eval_obj#11\")){SimData,Array{Any,1},VariableSelector,Int64,Int64},Float64},Float64,1},1}}},getfield(Main, Symbol(\"#eval_obj#11\")){SimData,Array{Any,1},VariableSelector,Int64,Int64}}, ::Array{Float64,1}, ::Array{Float64,1}, ::ForwardDiff.JacobianConfig{ForwardDiff.Tag{getfield(Main, Symbol(\"#eval_obj#11\")){SimData,Array{Any,1},VariableSelector,Int64,Int64},Float64},Float64,1,Tuple{Array{ForwardDiff.Dual{ForwardDiff.Tag{getfield(Main, Symbol(\"#eval_obj#11\")){SimData,Array{Any,1},VariableSelector,Int64,Int64},Float64},Float64,1},1},Array{ForwardDiff.Dual{ForwardDiff.Tag{getfield(Main, Symbol(\"#eval_obj#11\")){SimData,Array{Any,1},VariableSelector,Int64,Int64},Float64},Float64,1},1}}}) at /home/blandry/.julia/packages/ForwardDiff/N0wMF/src/jacobian.jl:164",
      " [15] jacobian! at /home/blandry/.julia/packages/ForwardDiff/N0wMF/src/jacobian.jl:74 [inlined]",
      " [16] hessian! at /home/blandry/.julia/packages/ForwardDiff/N0wMF/src/hessian.jl:67 [inlined]",
      " [17] hessian! at /home/blandry/.julia/packages/ForwardDiff/N0wMF/src/hessian.jl:65 [inlined]",
      " [18] (::getfield(Bilevel, Symbol(\"#solver_fn#86\")){Bool,getfield(Main, Symbol(\"#eval_obj#11\")){SimData,Array{Any,1},VariableSelector,Int64,Int64},DiffResults.MutableDiffResult{2,Float64,Tuple{Array{Float64,1},Array{Float64,2}}},ForwardDiff.HessianConfig{ForwardDiff.Tag{getfield(Main, Symbol(\"#eval_obj#11\")){SimData,Array{Any,1},VariableSelector,Int64,Int64},Float64},Float64,1,Array{ForwardDiff.Dual{ForwardDiff.Tag{getfield(Main, Symbol(\"#eval_obj#11\")){SimData,Array{Any,1},VariableSelector,Int64,Int64},Float64},ForwardDiff.Dual{ForwardDiff.Tag{getfield(Main, Symbol(\"#eval_obj#11\")){SimData,Array{Any,1},VariableSelector,Int64,Int64},Float64},Float64,1},1},1},Tuple{Array{ForwardDiff.Dual{ForwardDiff.Tag{getfield(Main, Symbol(\"#eval_obj#11\")){SimData,Array{Any,1},VariableSelector,Int64,Int64},Float64},Float64,1},1},Array{ForwardDiff.Dual{ForwardDiff.Tag{getfield(Main, Symbol(\"#eval_obj#11\")){SimData,Array{Any,1},VariableSelector,Int64,Int64},Float64},Float64,1},1}}},getfield(Main, Symbol(\"#eval_cons#12\")){ConstraintSelector},DiffResults.MutableDiffResult{1,Array{Float64,1},Tuple{Array{Float64,2}}},ForwardDiff.JacobianConfig{ForwardDiff.Tag{getfield(Main, Symbol(\"#eval_cons#12\")){ConstraintSelector},Float64},Float64,1,Array{ForwardDiff.Dual{ForwardDiff.Tag{getfield(Main, Symbol(\"#eval_cons#12\")){ConstraintSelector},Float64},Float64,1},1}},Array{Int64,1},Array{Int64,1}})(::Array{Float64,1}) at /home/blandry/.julia/dev/Bilevel/src/solvers/autodiff.jl:27",
      " [19] top-level scope at In[24]:1"
     ]
    }
   ],
   "source": [
    "obj_sol = solver_fn([.1])"
   ]
  },
  {
   "cell_type": "code",
   "execution_count": 18,
   "metadata": {},
   "outputs": [
    {
     "data": {
      "text/plain": [
       "106.0361937639125"
      ]
     },
     "execution_count": 18,
     "metadata": {},
     "output_type": "execute_result"
    }
   ],
   "source": [
    "solver_fn([100.])[1] - obj_sol[1]"
   ]
  },
  {
   "cell_type": "markdown",
   "metadata": {},
   "source": [
    "## Classical"
   ]
  }
 ],
 "metadata": {
  "kernelspec": {
   "display_name": "Julia 1.1.0",
   "language": "julia",
   "name": "julia-1.1"
  },
  "language_info": {
   "file_extension": ".jl",
   "mimetype": "application/julia",
   "name": "julia",
   "version": "1.1.0"
  }
 },
 "nbformat": 4,
 "nbformat_minor": 2
}
