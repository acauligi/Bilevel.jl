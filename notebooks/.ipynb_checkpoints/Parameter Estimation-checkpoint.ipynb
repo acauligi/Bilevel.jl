{
 "cells": [
  {
   "cell_type": "code",
   "execution_count": 119,
   "metadata": {},
   "outputs": [],
   "source": [
    "using Revise\n",
    "using Bilevel\n",
    "\n",
    "using ForwardDiff\n",
    "using DiffResults\n",
    "using RigidBodyDynamics\n",
    "using MeshCat\n",
    "using MeshCatMechanisms\n",
    "using Base.Threads\n",
    "using Plots\n",
    "using Interpolations\n",
    "using StaticArrays"
   ]
  },
  {
   "cell_type": "code",
   "execution_count": 3,
   "metadata": {},
   "outputs": [
    {
     "data": {
      "text/plain": [
       "16"
      ]
     },
     "execution_count": 3,
     "metadata": {},
     "output_type": "execute_result"
    }
   ],
   "source": [
    "nthreads()"
   ]
  },
  {
   "cell_type": "markdown",
   "metadata": {},
   "source": [
    "# Synthesizing a controller"
   ]
  },
  {
   "cell_type": "code",
   "execution_count": 162,
   "metadata": {},
   "outputs": [],
   "source": [
    "urdf = joinpath(\"..\", \"urdf\", \"panda\", \"panda_arm.urdf\")\n",
    "mechanism = parse_urdf(Float64, urdf)\n",
    "obstacles = []\n",
    "env = Environment(mechanism, urdf, obstacles);"
   ]
  },
  {
   "cell_type": "code",
   "execution_count": 163,
   "metadata": {},
   "outputs": [
    {
     "name": "stderr",
     "output_type": "stream",
     "text": [
      "┌ Info: Serving MeshCat visualizer at http://127.0.0.1:8702\n",
      "└ @ MeshCat /home/blandry/.julia/packages/MeshCat/WlA0B/src/servers.jl:24\n"
     ]
    },
    {
     "data": {
      "text/plain": [
       "Process(`\u001b[4mxdg-open\u001b[24m \u001b[4mhttp://127.0.0.1:8702\u001b[24m`, ProcessExited(0))"
      ]
     },
     "execution_count": 163,
     "metadata": {},
     "output_type": "execute_result"
    },
    {
     "name": "stdout",
     "output_type": "stream",
     "text": [
      "Created new window in existing browser session.\n"
     ]
    },
    {
     "name": "stderr",
     "output_type": "stream",
     "text": [
      "Error handling websocket connection:\n",
      "\u001b[91mWebSockets.WebSocketClosedError(\"ws|server respond to OPCODE_CLOSE 1001:Going Away\")\u001b[39m\n",
      "Stacktrace:\n",
      " [1] \u001b[1mtry_yieldto\u001b[22m\u001b[1m(\u001b[22m::typeof(Base.ensure_rescheduled), ::Base.RefValue{Task}\u001b[1m)\u001b[22m at \u001b[1m./event.jl:196\u001b[22m\n",
      " [2] \u001b[1mwait\u001b[22m\u001b[1m(\u001b[22m\u001b[1m)\u001b[22m at \u001b[1m./event.jl:255\u001b[22m\n",
      " [3] \u001b[1mwait\u001b[22m\u001b[1m(\u001b[22m::Condition\u001b[1m)\u001b[22m at \u001b[1m./event.jl:46\u001b[22m\n",
      " [4] \u001b[1mwait\u001b[22m\u001b[1m(\u001b[22m::Task\u001b[1m)\u001b[22m at \u001b[1m./task.jl:188\u001b[22m\n",
      " [5] \u001b[1mcreate_socket\u001b[22m\u001b[1m(\u001b[22m::Dict{Any,Any}\u001b[1m)\u001b[22m at \u001b[1m/home/blandry/.julia/packages/WebIO/Rk8wc/src/providers/mux.jl:44\u001b[22m\n",
      " [6] \u001b[1m(::getfield(Mux, Symbol(\"##5#6\")){getfield(Mux, Symbol(\"##28#29\")){Array{SubString{String},1}},typeof(WebIO.create_socket)})\u001b[22m\u001b[1m(\u001b[22m::Function, ::Dict{Any,Any}\u001b[1m)\u001b[22m at \u001b[1m/home/blandry/.julia/packages/Mux/FeATY/src/Mux.jl:17\u001b[22m\n",
      " [7] \u001b[1m#1\u001b[22m at \u001b[1m/home/blandry/.julia/packages/Mux/FeATY/src/Mux.jl:10\u001b[22m [inlined]\n",
      " [8] \u001b[1msplitquery\u001b[22m\u001b[1m(\u001b[22m::getfield(Mux, Symbol(\"##1#2\")){getfield(Mux, Symbol(\"##5#6\")){getfield(Mux, Symbol(\"##28#29\")){Array{SubString{String},1}},typeof(WebIO.create_socket)},getfield(Mux, Symbol(\"##1#2\")){typeof(Mux.wclose),getfield(Mux, Symbol(\"##1#2\")){getfield(Mux, Symbol(\"##18#19\")){getfield(Mux, Symbol(\"##22#23\")){Symbol,Int64}},getfield(Mux, Symbol(\"##20#21\")){String}}}}, ::Dict{Any,Any}\u001b[1m)\u001b[22m at \u001b[1m/home/blandry/.julia/packages/Mux/FeATY/src/basics.jl:34\u001b[22m\n",
      " [9] \u001b[1m#1\u001b[22m at \u001b[1m/home/blandry/.julia/packages/Mux/FeATY/src/Mux.jl:10\u001b[22m [inlined]\n",
      " [10] \u001b[1mwcatch\u001b[22m\u001b[1m(\u001b[22m::getfield(Mux, Symbol(\"##1#2\")){typeof(Mux.splitquery),getfield(Mux, Symbol(\"##1#2\")){getfield(Mux, Symbol(\"##5#6\")){getfield(Mux, Symbol(\"##28#29\")){Array{SubString{String},1}},typeof(WebIO.create_socket)},getfield(Mux, Symbol(\"##1#2\")){typeof(Mux.wclose),getfield(Mux, Symbol(\"##1#2\")){getfield(Mux, Symbol(\"##18#19\")){getfield(Mux, Symbol(\"##22#23\")){Symbol,Int64}},getfield(Mux, Symbol(\"##20#21\")){String}}}}}, ::Dict{Any,Any}\u001b[1m)\u001b[22m at \u001b[1m/home/blandry/.julia/packages/Mux/FeATY/src/websockets_integration.jl:12\u001b[22m\n",
      " [11] \u001b[1m#1\u001b[22m at \u001b[1m/home/blandry/.julia/packages/Mux/FeATY/src/Mux.jl:10\u001b[22m [inlined]\n",
      " [12] \u001b[1mtodict\u001b[22m at \u001b[1m/home/blandry/.julia/packages/Mux/FeATY/src/basics.jl:25\u001b[22m [inlined]\n",
      " [13] \u001b[1m#3\u001b[22m at \u001b[1m/home/blandry/.julia/packages/Mux/FeATY/src/Mux.jl:14\u001b[22m [inlined] (repeats 2 times)\n",
      " [14] \u001b[1m(::getfield(Mux, Symbol(\"##1#2\")){getfield(Mux, Symbol(\"##3#4\")){getfield(Mux, Symbol(\"##3#4\")){typeof(Mux.todict),typeof(Mux.wcatch)},typeof(Mux.splitquery)},getfield(Mux, Symbol(\"##1#2\")){getfield(Mux, Symbol(\"##5#6\")){getfield(Mux, Symbol(\"##28#29\")){Array{SubString{String},1}},typeof(WebIO.create_socket)},getfield(Mux, Symbol(\"##1#2\")){typeof(Mux.wclose),getfield(Mux, Symbol(\"##1#2\")){getfield(Mux, Symbol(\"##18#19\")){getfield(Mux, Symbol(\"##22#23\")){Symbol,Int64}},getfield(Mux, Symbol(\"##20#21\")){String}}}}})\u001b[22m\u001b[1m(\u001b[22m::Tuple{HTTP.Messages.Request,WebSockets.WebSocket{Sockets.TCPSocket}}\u001b[1m)\u001b[22m at \u001b[1m/home/blandry/.julia/packages/Mux/FeATY/src/Mux.jl:10\u001b[22m\n",
      " [15] \u001b[1m(::getfield(Mux, Symbol(\"##9#10\")){Mux.App})\u001b[22m\u001b[1m(\u001b[22m::HTTP.Messages.Request, ::WebSockets.WebSocket{Sockets.TCPSocket}\u001b[1m)\u001b[22m at \u001b[1m/home/blandry/.julia/packages/Mux/FeATY/src/server.jl:49\u001b[22m\n",
      " [16] \u001b[1mupgrade\u001b[22m\u001b[1m(\u001b[22m::getfield(Mux, Symbol(\"##9#10\")){Mux.App}, ::HTTP.Streams.Stream{HTTP.Messages.Request,HTTP.ConnectionPool.Transaction{Sockets.TCPSocket}}\u001b[1m)\u001b[22m at \u001b[1m/home/blandry/.julia/packages/WebSockets/pc4iW/src/HTTP.jl:201\u001b[22m\n",
      " [17] \u001b[1m(::getfield(WebSockets, Symbol(\"#_servercoroutine#11\")){WebSockets.ServerWS})\u001b[22m\u001b[1m(\u001b[22m::HTTP.Streams.Stream{HTTP.Messages.Request,HTTP.ConnectionPool.Transaction{Sockets.TCPSocket}}\u001b[1m)\u001b[22m at \u001b[1m/home/blandry/.julia/packages/WebSockets/pc4iW/src/HTTP.jl:370\u001b[22m\n",
      " [18] \u001b[1mmacro expansion\u001b[22m at \u001b[1m/home/blandry/.julia/packages/HTTP/GN0Te/src/Servers.jl:352\u001b[22m [inlined]\n",
      " [19] \u001b[1m(::getfield(HTTP.Servers, Symbol(\"##13#14\")){getfield(WebSockets, Symbol(\"#_servercoroutine#11\")){WebSockets.ServerWS},HTTP.ConnectionPool.Transaction{Sockets.TCPSocket},HTTP.Streams.Stream{HTTP.Messages.Request,HTTP.ConnectionPool.Transaction{Sockets.TCPSocket}}})\u001b[22m\u001b[1m(\u001b[22m\u001b[1m)\u001b[22m at \u001b[1m./task.jl:259\u001b[22m"
     ]
    }
   ],
   "source": [
    "mvis = MechanismVisualizer(mechanism, URDFVisuals(urdf))\n",
    "open(mvis)"
   ]
  },
  {
   "cell_type": "code",
   "execution_count": 258,
   "metadata": {},
   "outputs": [
    {
     "data": {
      "text/plain": [
       "setup_prob! (generic function with 1 method)"
      ]
     },
     "execution_count": 258,
     "metadata": {},
     "output_type": "execute_result"
    }
   ],
   "source": [
    "Δt = 0.05\n",
    "N = 50\n",
    "\n",
    "q0 = [0., .3, 0., -2.75, 0., -1.65, 0.]\n",
    "qN = [0., .8, 0., -1.67, 0., -2.2, 0.]\n",
    "\n",
    "function add_prob_constraints!(sim_data)\n",
    "    vs = sim_data.vs\n",
    "\n",
    "    add_eq!(sim_data, :cq1, num_positions(mechanism), x -> vs(x, :q1) - q0)\n",
    "    add_eq!(sim_data, :cv1, num_velocities(mechanism), x -> vs(x, :v1))\n",
    "    \n",
    "    add_eq!(sim_data, :cqN, num_positions(mechanism), x -> vs(x, Symbol(\"q\", N)) - qN)\n",
    "    add_eq!(sim_data, :cvN, num_velocities(mechanism), x -> vs(x, Symbol(\"v\", N)))\n",
    "    \n",
    "#     add_ineq!(sim_data, :cN2, 1, x -> -pi - vs(x, Symbol(\"q\", Int(N/2)))[4])\n",
    "end\n",
    "\n",
    "function add_prob_obj!(sim_data)\n",
    "    for n = 1:N\n",
    "        add_obj!(sim_data, Symbol(\"u\", n), x -> sim_data.vs(x, Symbol(\"v\", n))'*sim_data.vs(x, Symbol(\"v\", n)))\n",
    "    end\n",
    "end\n",
    "\n",
    "function get_prob_limits(sim_data)\n",
    "    x_min = -1e19*ones(sim_data.vs.num_vars)\n",
    "    x_max = 1e19*ones(sim_data.vs.num_vars)\n",
    "    \n",
    "    # torques limits\n",
    "    u_limit = 1000.\n",
    "    add_box_con_snopt!(x_min, x_max, sim_data, :u, -u_limit * ones(num_velocities(mechanism)), u_limit * ones(num_velocities(mechanism)), 1:N-1)\n",
    "\n",
    "    # step size limit\n",
    "    add_box_con_snopt!(x_min, x_max, sim_data, :h, [Δt], [Δt], 1:N-1)\n",
    "    \n",
    "    x_min, x_max\n",
    "end\n",
    "\n",
    "function get_prob_init(sim_data)\n",
    "    x0 = zeros(sim_data.vs.num_vars)\n",
    "    for n = 1:N\n",
    "        x0[sim_data.vs(Symbol(\"q\", n))] .= q0\n",
    "    end\n",
    "    \n",
    "    x0\n",
    "end\n",
    "\n",
    "function setup_prob!(sim_data)\n",
    "    add_prob_constraints!(sim_data)\n",
    "    add_prob_obj!(sim_data)\n",
    "    x_min, x_max = get_prob_limits(sim_data)\n",
    "    x0 = get_prob_init(sim_data)\n",
    "    \n",
    "    x0, x_min, x_max\n",
    "end"
   ]
  },
  {
   "cell_type": "code",
   "execution_count": 259,
   "metadata": {},
   "outputs": [
    {
     "ename": "InterruptException",
     "evalue": "InterruptException:",
     "output_type": "error",
     "traceback": [
      "InterruptException:",
      "",
      "Stacktrace:",
      " [1] print_to_string(::String, ::Vararg{Any,N} where N) at ./strings/io.jl:121",
      " [2] string at ./strings/io.jl:156 [inlined]",
      " [3] Type at ./sysimg.jl:131 [inlined]",
      " [4] (::getfield(Main, Symbol(\"##61#62\")){SimData,Int64})(::Array{ForwardDiff.Dual{ForwardDiff.Tag{getfield(Bilevel, Symbol(\"#eval_obj#58\")){SimData,Int64,Bilevel.VariableSelector,Bool,Int64},Float64},ForwardDiff.Dual{ForwardDiff.Tag{getfield(Bilevel, Symbol(\"#eval_obj#58\")){SimData,Int64,Bilevel.VariableSelector,Bool,Int64},Float64},Float64,12},12},1}) at ./In[258]:21",
      " [5] (::getfield(Bilevel, Symbol(\"#eval_obj#58\")){SimData,Int64,Bilevel.VariableSelector,Bool,Int64})(::Array{ForwardDiff.Dual{ForwardDiff.Tag{getfield(Bilevel, Symbol(\"#eval_obj#58\")){SimData,Int64,Bilevel.VariableSelector,Bool,Int64},Float64},ForwardDiff.Dual{ForwardDiff.Tag{getfield(Bilevel, Symbol(\"#eval_obj#58\")){SimData,Int64,Bilevel.VariableSelector,Bool,Int64},Float64},Float64,12},12},1}) at /home/blandry/.julia/dev/Bilevel/src/trajopt_indirect.jl:130",
      " [6] chunk_mode_gradient!(::DiffResults.MutableDiffResult{1,ForwardDiff.Dual{ForwardDiff.Tag{getfield(Bilevel, Symbol(\"#eval_obj#58\")){SimData,Int64,Bilevel.VariableSelector,Bool,Int64},Float64},Float64,12},Tuple{Array{ForwardDiff.Dual{ForwardDiff.Tag{getfield(Bilevel, Symbol(\"#eval_obj#58\")){SimData,Int64,Bilevel.VariableSelector,Bool,Int64},Float64},Float64,12},1}}}, ::getfield(Bilevel, Symbol(\"#eval_obj#58\")){SimData,Int64,Bilevel.VariableSelector,Bool,Int64}, ::Array{ForwardDiff.Dual{ForwardDiff.Tag{getfield(Bilevel, Symbol(\"#eval_obj#58\")){SimData,Int64,Bilevel.VariableSelector,Bool,Int64},Float64},Float64,12},1}, ::ForwardDiff.GradientConfig{ForwardDiff.Tag{getfield(Bilevel, Symbol(\"#eval_obj#58\")){SimData,Int64,Bilevel.VariableSelector,Bool,Int64},Float64},ForwardDiff.Dual{ForwardDiff.Tag{getfield(Bilevel, Symbol(\"#eval_obj#58\")){SimData,Int64,Bilevel.VariableSelector,Bool,Int64},Float64},Float64,12},12,Array{ForwardDiff.Dual{ForwardDiff.Tag{getfield(Bilevel, Symbol(\"#eval_obj#58\")){SimData,Int64,Bilevel.VariableSelector,Bool,Int64},Float64},ForwardDiff.Dual{ForwardDiff.Tag{getfield(Bilevel, Symbol(\"#eval_obj#58\")){SimData,Int64,Bilevel.VariableSelector,Bool,Int64},Float64},Float64,12},12},1}}) at /home/blandry/.julia/packages/ForwardDiff/N0wMF/src/gradient.jl:149",
      " [7] gradient! at /home/blandry/.julia/packages/ForwardDiff/N0wMF/src/gradient.jl:37 [inlined]",
      " [8] InnerGradientForHess at /home/blandry/.julia/packages/ForwardDiff/N0wMF/src/hessian.jl:50 [inlined]",
      " [9] chunk_mode_jacobian!(::Array{Float64,2}, ::ForwardDiff.InnerGradientForHess{DiffResults.MutableDiffResult{2,Float64,Tuple{Array{Float64,1},Array{Float64,2}}},ForwardDiff.HessianConfig{ForwardDiff.Tag{getfield(Bilevel, Symbol(\"#eval_obj#58\")){SimData,Int64,Bilevel.VariableSelector,Bool,Int64},Float64},Float64,12,Array{ForwardDiff.Dual{ForwardDiff.Tag{getfield(Bilevel, Symbol(\"#eval_obj#58\")){SimData,Int64,Bilevel.VariableSelector,Bool,Int64},Float64},ForwardDiff.Dual{ForwardDiff.Tag{getfield(Bilevel, Symbol(\"#eval_obj#58\")){SimData,Int64,Bilevel.VariableSelector,Bool,Int64},Float64},Float64,12},12},1},Tuple{Array{ForwardDiff.Dual{ForwardDiff.Tag{getfield(Bilevel, Symbol(\"#eval_obj#58\")){SimData,Int64,Bilevel.VariableSelector,Bool,Int64},Float64},Float64,12},1},Array{ForwardDiff.Dual{ForwardDiff.Tag{getfield(Bilevel, Symbol(\"#eval_obj#58\")){SimData,Int64,Bilevel.VariableSelector,Bool,Int64},Float64},Float64,12},1}}},getfield(Bilevel, Symbol(\"#eval_obj#58\")){SimData,Int64,Bilevel.VariableSelector,Bool,Int64}}, ::Array{Float64,1}, ::Array{Float64,1}, ::ForwardDiff.JacobianConfig{ForwardDiff.Tag{getfield(Bilevel, Symbol(\"#eval_obj#58\")){SimData,Int64,Bilevel.VariableSelector,Bool,Int64},Float64},Float64,12,Tuple{Array{ForwardDiff.Dual{ForwardDiff.Tag{getfield(Bilevel, Symbol(\"#eval_obj#58\")){SimData,Int64,Bilevel.VariableSelector,Bool,Int64},Float64},Float64,12},1},Array{ForwardDiff.Dual{ForwardDiff.Tag{getfield(Bilevel, Symbol(\"#eval_obj#58\")){SimData,Int64,Bilevel.VariableSelector,Bool,Int64},Float64},Float64,12},1}}}) at /home/blandry/.julia/packages/ForwardDiff/N0wMF/src/jacobian.jl:223",
      " [10] jacobian! at /home/blandry/.julia/packages/ForwardDiff/N0wMF/src/jacobian.jl:76 [inlined]",
      " [11] hessian! at /home/blandry/.julia/packages/ForwardDiff/N0wMF/src/hessian.jl:67 [inlined]",
      " [12] hessian! at /home/blandry/.julia/packages/ForwardDiff/N0wMF/src/hessian.jl:65 [inlined]",
      " [13] (::getfield(Bilevel, Symbol(\"#solver_fn#86\")){Bool,getfield(Bilevel, Symbol(\"#eval_obj#58\")){SimData,Int64,Bilevel.VariableSelector,Bool,Int64},DiffResults.MutableDiffResult{2,Float64,Tuple{Array{Float64,1},Array{Float64,2}}},ForwardDiff.HessianConfig{ForwardDiff.Tag{getfield(Bilevel, Symbol(\"#eval_obj#58\")){SimData,Int64,Bilevel.VariableSelector,Bool,Int64},Float64},Float64,12,Array{ForwardDiff.Dual{ForwardDiff.Tag{getfield(Bilevel, Symbol(\"#eval_obj#58\")){SimData,Int64,Bilevel.VariableSelector,Bool,Int64},Float64},ForwardDiff.Dual{ForwardDiff.Tag{getfield(Bilevel, Symbol(\"#eval_obj#58\")){SimData,Int64,Bilevel.VariableSelector,Bool,Int64},Float64},Float64,12},12},1},Tuple{Array{ForwardDiff.Dual{ForwardDiff.Tag{getfield(Bilevel, Symbol(\"#eval_obj#58\")){SimData,Int64,Bilevel.VariableSelector,Bool,Int64},Float64},Float64,12},1},Array{ForwardDiff.Dual{ForwardDiff.Tag{getfield(Bilevel, Symbol(\"#eval_obj#58\")){SimData,Int64,Bilevel.VariableSelector,Bool,Int64},Float64},Float64,12},1}}},getfield(Bilevel, Symbol(\"#eval_cons#59\")){SimData,Int64,Bilevel.VariableSelector,Bilevel.ConstraintSelector,Bool,Int64,Int64,RigidBody{Float64},CartesianFrame3D},DiffResults.MutableDiffResult{1,Array{Float64,1},Tuple{Array{Float64,2}}},ForwardDiff.JacobianConfig{ForwardDiff.Tag{getfield(Bilevel, Symbol(\"#eval_cons#59\")){SimData,Int64,Bilevel.VariableSelector,Bilevel.ConstraintSelector,Bool,Int64,Int64,RigidBody{Float64},CartesianFrame3D},Float64},Float64,12,Array{ForwardDiff.Dual{ForwardDiff.Tag{getfield(Bilevel, Symbol(\"#eval_cons#59\")){SimData,Int64,Bilevel.VariableSelector,Bilevel.ConstraintSelector,Bool,Int64,Int64,RigidBody{Float64},CartesianFrame3D},Float64},Float64,12},1}},Array{Int64,1},Array{Int64,1}})(::Array{Float64,1}) at /home/blandry/.julia/dev/Bilevel/src/solvers/autodiff.jl:27",
      " [14] objcon_wrapper(::Ptr{Int64}, ::Int64, ::Ptr{Float64}, ::Int64, ::Int64, ::Ptr{Float64}, ::Int64, ::Int64, ::Ptr{Float64}, ::Ptr{Int8}, ::Int64, ::Ptr{Int64}, ::Int64, ::Ptr{Float64}, ::Int64) at /home/blandry/.julia/dev/Bilevel/src/solvers/snopt.jl:104",
      " [15] #snopt#76(::Array{Float64,1}, ::Array{Float64,1}, ::String, ::String, ::Nothing, ::Function, ::Function, ::Int64, ::Int64, ::Array{Float64,1}, ::Dict{String,Any}) at /home/blandry/.julia/dev/Bilevel/src/solvers/snopt.jl:350",
      " [16] (::getfield(Bilevel, Symbol(\"#kw##snopt\")))(::NamedTuple{(:x_min, :x_max, :callback_fn),Tuple{Array{Float64,1},Array{Float64,1},Nothing}}, ::typeof(Bilevel.snopt), ::Function, ::Int64, ::Int64, ::Array{Float64,1}, ::Dict{String,Any}) at none:0",
      " [17] #trajopt#52(::Array{Float64,1}, ::Bool, ::Array{Float64,1}, ::Array{Float64,1}, ::Float64, ::Float64, ::Float64, ::Int64, ::Nothing, ::typeof(trajopt), ::SimData) at /home/blandry/.julia/dev/Bilevel/src/trajopt.jl:46",
      " [18] (::getfield(Bilevel, Symbol(\"#kw##trajopt\")))(::NamedTuple{(:x0, :x_min, :x_max, :verbose),Tuple{Array{Float64,1},Array{Float64,1},Array{Float64,1},Int64}}, ::typeof(trajopt), ::SimData) at none:0",
      " [19] top-level scope at In[259]:3"
     ]
    }
   ],
   "source": [
    "sim_data = get_trajopt_data_indirect(mechanism,env,Δt,N,relax_comp=false)\n",
    "x0, x_min, x_max = setup_prob!(sim_data)\n",
    "traj = Bilevel.trajopt(sim_data, x0=x0, x_min=x_min, x_max=x_max, verbose=1)"
   ]
  },
  {
   "cell_type": "code",
   "execution_count": 189,
   "metadata": {},
   "outputs": [],
   "source": [
    "setanimation!(mvis, traj[7], traj[1])"
   ]
  },
  {
   "cell_type": "code",
   "execution_count": 252,
   "metadata": {},
   "outputs": [
    {
     "data": {
      "text/plain": [
       "(Array{Float64,1}[[1.61304e-10, 0.3, 0.0, -2.75, 0.0, -1.65, -2.85154e-13], [1.50111e-10, 0.317856, 0.0, -2.71143, 0.0, -1.66964, -2.60221e-13], [1.39237e-10, 0.335714, 0.0, -2.67286, 0.0, -1.68929, -2.60275e-13], [1.28778e-10, 0.353572, 0.0, -2.63429, 0.0, -1.70893, -2.60323e-13], [1.18737e-10, 0.37143, -1.57067e-16, -2.59571, 0.0, -1.72857, -2.60323e-13], [1.09116e-10, 0.389287, -3.12385e-16, -2.55714, 0.0, -1.74821, -2.60323e-13], [9.99143e-11, 0.407143, -4.72726e-16, -2.51857, 0.0, -1.76786, -2.60323e-13], [9.11297e-11, 0.421959, 2.82908e-14, -2.48044, 0.0, -1.79021, -2.60323e-13], [8.27627e-11, 0.433111, 6.33123e-14, -2.44388, 0.0, -1.81484, -2.60323e-13], [7.4807e-11, 0.439384, 1.1084e-13, -2.41072, 0.0, -1.84129, -2.60323e-13]  …  [2.16075e-11, -3.1341, -2.85079e-12, -5.62189, -2.98524e-14, -2.21574, -2.60323e-13], [2.10801e-11, -4.10451, 2.28828e-12, -6.84749, -4.04506e-13, -2.01153, -2.60323e-13], [1.77626e-11, -4.9211, 8.10088e-12, -7.62811, -7.7916e-13, -2.13437, -2.60323e-13], [1.4445e-11, -5.65522, 6.21317e-12, -8.09369, -1.15381e-12, -2.49716, -2.60323e-13], [1.11275e-11, -6.39023, 5.57684e-12, -8.36582, -1.52847e-12, -3.05208, -2.60323e-13], [7.80994e-12, -7.15383, -2.31176e-11, -8.44136, -1.90312e-12, -3.81747, -2.60323e-13], [4.49239e-12, -7.83544, -6.62125e-11, -8.1701, -2.27778e-12, -4.79444, -2.60323e-13], [1.51024e-11, -8.36301, 2.06859e-12, -7.45391, -2.65243e-12, -5.96174, -2.60323e-13], [2.57124e-11, -9.05027, -7.77135e-11, -6.77076, 5.87335e-12, -7.2768, -2.60323e-13], [3.63224e-11, -10.0119, 8.08316e-11, -6.55028, -4.93594e-11, -8.58963, -2.60323e-13]], Array{Float64,1}[[-1.14749e-10, 0.0, 0.0, 0.0, 0.0, 0.0, 0.0], [-1.12868e-10, 0.178565, 0.0, 0.385719, 0.0, -0.196425, 1.30617e-12], [-1.08743e-10, 0.178575, 0.0, 0.385713, 0.0, -0.19643, 1.30542e-12], [-1.04588e-10, 0.178581, 0.0, 0.385707, 0.0, -0.196432, 1.30469e-12], [-1.00409e-10, 0.178576, -1.57067e-15, 0.385711, 0.0, -0.196432, 1.30469e-12], [-9.62151e-11, 0.178571, -3.12385e-15, 0.385716, 0.0, -0.196428, 1.30469e-12], [-9.20123e-11, 0.178565, -4.72726e-15, 0.38572, 0.0, -0.196425, 1.30469e-12], [-8.78409e-11, 0.148159, 2.82908e-13, 0.381346, 0.0, -0.223544, 1.30469e-12], [-8.36934e-11, 0.111522, 6.33123e-13, 0.365525, 0.0, -0.2463, 1.30469e-12], [-7.96253e-11, 0.0627252, 1.1084e-12, 0.331634, 0.0, -0.264474, 1.30469e-12]  …  [-5.27309e-12, -9.70536, 8.14406e-11, -12.7609, -3.74654e-12, 3.24452, 1.30469e-12], [-5.27309e-12, -9.70411, 8.14406e-11, -12.2559, -3.74654e-12, 2.04212, 1.30469e-12], [-3.31755e-11, -8.16596, 8.14406e-11, -7.80624, -3.74654e-12, -1.22846, 1.30469e-12], [-3.31755e-11, -7.34121, 8.14406e-11, -4.65583, -3.74654e-12, -3.62786, 1.30469e-12], [-3.31755e-11, -7.35008, 8.14406e-11, -2.7213, -3.74654e-12, -5.54923, 1.30469e-12], [-3.31755e-11, -7.63599, 8.14406e-11, -0.755352, -3.74654e-12, -7.65385, 1.30469e-12], [-3.31755e-11, -6.8161, 8.14406e-11, 2.71259, -3.74654e-12, -9.76976, 1.30469e-12], [1.061e-10, -5.27565, 8.14406e-11, 7.16192, -3.74654e-12, -11.673, 1.30469e-12], [1.061e-10, -6.87267, 8.14406e-11, 6.8315, -3.74654e-12, -13.1506, 1.30469e-12], [1.061e-10, -9.61638, 8.14406e-11, 2.20478, -3.74654e-12, -13.1283, 1.30469e-12]], Array{Float64,1}[], Array{Float64,1}[], Array{Float64,1}[], [0.0, 0.1, 0.2, 0.3, 0.4, 0.5, 0.6, 0.7, 0.8, 0.9  …  2.0, 2.1, 2.2, 2.3, 2.4, 2.5, 2.6, 2.7, 2.8, 2.9], [1.61304e-10 1.50111e-10 … 2.57124e-11 3.63224e-11; 0.3 0.317856 … -9.05027 -10.0119; … ; 0.0 -0.196425 … -13.1506 -13.1283; 0.0 1.30617e-12 … 1.30469e-12 1.30469e-12])"
      ]
     },
     "execution_count": 252,
     "metadata": {},
     "output_type": "execute_result"
    }
   ],
   "source": [
    "# package the resulting controller in a ctrl function to test\n",
    "function feedforward_ctrl!(u,t,x)\n",
    "    i = min(max(searchsortedfirst(traj[7], t),1),length(traj[7]))\n",
    "    u_nom = traj[3][i]\n",
    "    u .= u_nom\n",
    "end\n",
    "\n",
    "function feedback_ctrl!(u,t,x)\n",
    "    if t >= traj[7][end]\n",
    "        u .= 0.\n",
    "        return\n",
    "    end\n",
    "    \n",
    "    i = min(max(searchsortedfirst(traj[7], t),1),length(traj[7]))\n",
    "\n",
    "    Kp = 0.\n",
    "    Kd = 0.\n",
    "    \n",
    "    q = configuration(x)\n",
    "    v = velocity(x)\n",
    "        \n",
    "    q_nom = traj[1][i]\n",
    "    v_nom = traj[2][i]\n",
    "    u_nom = traj[3][i]\n",
    "    \n",
    "    u .= u_nom + Kp*(q - q_nom) + Kd*(v - v_nom)\n",
    "end\n",
    "\n",
    "x0 = MechanismState(mechanism)\n",
    "set_configuration!(x0,traj[1][1])\n",
    "set_velocity!(x0,traj[2][1])\n",
    "setdirty!(x0)\n",
    "\n",
    "sim_data = get_sim_data_indirect(mechanism,env,Δt)\n",
    "\n",
    "# traj_sim = Bilevel.simulate(sim_data,feedforward_ctrl!,x0,N)\n",
    "traj_sim = Bilevel.simulate(sim_data,feedback_ctrl!,x0,N)"
   ]
  },
  {
   "cell_type": "code",
   "execution_count": 254,
   "metadata": {},
   "outputs": [],
   "source": [
    "setanimation!(mvis, traj_sim[6], traj_sim[1])"
   ]
  },
  {
   "cell_type": "markdown",
   "metadata": {},
   "source": [
    "# Generating data with controller"
   ]
  },
  {
   "cell_type": "code",
   "execution_count": 158,
   "metadata": {},
   "outputs": [],
   "source": [
    "Δt = 0.02\n",
    "N = 100\n",
    "\n",
    "μ_floor = .1\n",
    "μ_box = .05\n",
    "\n",
    "urdf = joinpath(\"..\", \"urdf\", \"panda\", \"panda_arm_box.urdf\")\n",
    "mechanism = parse_urdf(Float64, urdf)\n",
    "\n",
    "floor = findbody(mechanism, \"floor\")\n",
    "point = Point3D(default_frame(floor), SVector([0.,0.,0.]...))\n",
    "normal = FreeVector3D(default_frame(floor), SVector([0.,0.,1.]...))\n",
    "floor_obs = Obstacle(floor, point, normal, :xyz, μ_floor)\n",
    "\n",
    "box = findbody(mechanism, \"box\")\n",
    "point = Point3D(default_frame(box), SVector([-.25,0.,.25]...))\n",
    "normal = FreeVector3D(default_frame(box), SVector([-1.,0.,0.]...))\n",
    "box_obs = Obstacle(box, point, normal, :xyz, μ_box)\n",
    "\n",
    "obstacles = [floor_obs, box_obs]\n",
    "env = Environment(mechanism, urdf, obstacles);"
   ]
  },
  {
   "cell_type": "code",
   "execution_count": 122,
   "metadata": {},
   "outputs": [
    {
     "name": "stderr",
     "output_type": "stream",
     "text": [
      "┌ Info: Serving MeshCat visualizer at http://127.0.0.1:8701\n",
      "└ @ MeshCat /home/blandry/.julia/packages/MeshCat/WlA0B/src/servers.jl:24\n"
     ]
    },
    {
     "data": {
      "text/plain": [
       "Process(`\u001b[4mxdg-open\u001b[24m \u001b[4mhttp://127.0.0.1:8701\u001b[24m`, ProcessExited(0))"
      ]
     },
     "execution_count": 122,
     "metadata": {},
     "output_type": "execute_result"
    },
    {
     "name": "stdout",
     "output_type": "stream",
     "text": [
      "Created new window in existing browser session.\n"
     ]
    },
    {
     "name": "stderr",
     "output_type": "stream",
     "text": [
      "Error handling websocket connection:\n",
      "\u001b[91mWebSockets.WebSocketClosedError(\"ws|server respond to OPCODE_CLOSE 1001:Going Away\")\u001b[39m\n",
      "Stacktrace:\n",
      " [1] \u001b[1mtry_yieldto\u001b[22m\u001b[1m(\u001b[22m::typeof(Base.ensure_rescheduled), ::Base.RefValue{Task}\u001b[1m)\u001b[22m at \u001b[1m./event.jl:196\u001b[22m\n",
      " [2] \u001b[1mwait\u001b[22m\u001b[1m(\u001b[22m\u001b[1m)\u001b[22m at \u001b[1m./event.jl:255\u001b[22m\n",
      " [3] \u001b[1mwait\u001b[22m\u001b[1m(\u001b[22m::Condition\u001b[1m)\u001b[22m at \u001b[1m./event.jl:46\u001b[22m\n",
      " [4] \u001b[1mwait\u001b[22m\u001b[1m(\u001b[22m::Task\u001b[1m)\u001b[22m at \u001b[1m./task.jl:188\u001b[22m\n",
      " [5] \u001b[1mcreate_socket\u001b[22m\u001b[1m(\u001b[22m::Dict{Any,Any}\u001b[1m)\u001b[22m at \u001b[1m/home/blandry/.julia/packages/WebIO/Rk8wc/src/providers/mux.jl:44\u001b[22m\n",
      " [6] \u001b[1m(::getfield(Mux, Symbol(\"##5#6\")){getfield(Mux, Symbol(\"##28#29\")){Array{SubString{String},1}},typeof(WebIO.create_socket)})\u001b[22m\u001b[1m(\u001b[22m::Function, ::Dict{Any,Any}\u001b[1m)\u001b[22m at \u001b[1m/home/blandry/.julia/packages/Mux/FeATY/src/Mux.jl:17\u001b[22m\n",
      " [7] \u001b[1m#1\u001b[22m at \u001b[1m/home/blandry/.julia/packages/Mux/FeATY/src/Mux.jl:10\u001b[22m [inlined]\n",
      " [8] \u001b[1msplitquery\u001b[22m\u001b[1m(\u001b[22m::getfield(Mux, Symbol(\"##1#2\")){getfield(Mux, Symbol(\"##5#6\")){getfield(Mux, Symbol(\"##28#29\")){Array{SubString{String},1}},typeof(WebIO.create_socket)},getfield(Mux, Symbol(\"##1#2\")){typeof(Mux.wclose),getfield(Mux, Symbol(\"##1#2\")){getfield(Mux, Symbol(\"##18#19\")){getfield(Mux, Symbol(\"##22#23\")){Symbol,Int64}},getfield(Mux, Symbol(\"##20#21\")){String}}}}, ::Dict{Any,Any}\u001b[1m)\u001b[22m at \u001b[1m/home/blandry/.julia/packages/Mux/FeATY/src/basics.jl:34\u001b[22m\n",
      " [9] \u001b[1m#1\u001b[22m at \u001b[1m/home/blandry/.julia/packages/Mux/FeATY/src/Mux.jl:10\u001b[22m [inlined]\n",
      " [10] \u001b[1mwcatch\u001b[22m\u001b[1m(\u001b[22m::getfield(Mux, Symbol(\"##1#2\")){typeof(Mux.splitquery),getfield(Mux, Symbol(\"##1#2\")){getfield(Mux, Symbol(\"##5#6\")){getfield(Mux, Symbol(\"##28#29\")){Array{SubString{String},1}},typeof(WebIO.create_socket)},getfield(Mux, Symbol(\"##1#2\")){typeof(Mux.wclose),getfield(Mux, Symbol(\"##1#2\")){getfield(Mux, Symbol(\"##18#19\")){getfield(Mux, Symbol(\"##22#23\")){Symbol,Int64}},getfield(Mux, Symbol(\"##20#21\")){String}}}}}, ::Dict{Any,Any}\u001b[1m)\u001b[22m at \u001b[1m/home/blandry/.julia/packages/Mux/FeATY/src/websockets_integration.jl:12\u001b[22m\n",
      " [11] \u001b[1m#1\u001b[22m at \u001b[1m/home/blandry/.julia/packages/Mux/FeATY/src/Mux.jl:10\u001b[22m [inlined]\n",
      " [12] \u001b[1mtodict\u001b[22m at \u001b[1m/home/blandry/.julia/packages/Mux/FeATY/src/basics.jl:25\u001b[22m [inlined]\n",
      " [13] \u001b[1m#3\u001b[22m at \u001b[1m/home/blandry/.julia/packages/Mux/FeATY/src/Mux.jl:14\u001b[22m [inlined] (repeats 2 times)\n",
      " [14] \u001b[1m(::getfield(Mux, Symbol(\"##1#2\")){getfield(Mux, Symbol(\"##3#4\")){getfield(Mux, Symbol(\"##3#4\")){typeof(Mux.todict),typeof(Mux.wcatch)},typeof(Mux.splitquery)},getfield(Mux, Symbol(\"##1#2\")){getfield(Mux, Symbol(\"##5#6\")){getfield(Mux, Symbol(\"##28#29\")){Array{SubString{String},1}},typeof(WebIO.create_socket)},getfield(Mux, Symbol(\"##1#2\")){typeof(Mux.wclose),getfield(Mux, Symbol(\"##1#2\")){getfield(Mux, Symbol(\"##18#19\")){getfield(Mux, Symbol(\"##22#23\")){Symbol,Int64}},getfield(Mux, Symbol(\"##20#21\")){String}}}}})\u001b[22m\u001b[1m(\u001b[22m::Tuple{HTTP.Messages.Request,WebSockets.WebSocket{Sockets.TCPSocket}}\u001b[1m)\u001b[22m at \u001b[1m/home/blandry/.julia/packages/Mux/FeATY/src/Mux.jl:10\u001b[22m\n",
      " [15] \u001b[1m(::getfield(Mux, Symbol(\"##9#10\")){Mux.App})\u001b[22m\u001b[1m(\u001b[22m::HTTP.Messages.Request, ::WebSockets.WebSocket{Sockets.TCPSocket}\u001b[1m)\u001b[22m at \u001b[1m/home/blandry/.julia/packages/Mux/FeATY/src/server.jl:49\u001b[22m\n",
      " [16] \u001b[1mupgrade\u001b[22m\u001b[1m(\u001b[22m::getfield(Mux, Symbol(\"##9#10\")){Mux.App}, ::HTTP.Streams.Stream{HTTP.Messages.Request,HTTP.ConnectionPool.Transaction{Sockets.TCPSocket}}\u001b[1m)\u001b[22m at \u001b[1m/home/blandry/.julia/packages/WebSockets/pc4iW/src/HTTP.jl:201\u001b[22m\n",
      " [17] \u001b[1m(::getfield(WebSockets, Symbol(\"#_servercoroutine#11\")){WebSockets.ServerWS})\u001b[22m\u001b[1m(\u001b[22m::HTTP.Streams.Stream{HTTP.Messages.Request,HTTP.ConnectionPool.Transaction{Sockets.TCPSocket}}\u001b[1m)\u001b[22m at \u001b[1m/home/blandry/.julia/packages/WebSockets/pc4iW/src/HTTP.jl:370\u001b[22m\n",
      " [18] \u001b[1mmacro expansion\u001b[22m at \u001b[1m/home/blandry/.julia/packages/HTTP/GN0Te/src/Servers.jl:352\u001b[22m [inlined]\n",
      " [19] \u001b[1m(::getfield(HTTP.Servers, Symbol(\"##13#14\")){getfield(WebSockets, Symbol(\"#_servercoroutine#11\")){WebSockets.ServerWS},HTTP.ConnectionPool.Transaction{Sockets.TCPSocket},HTTP.Streams.Stream{HTTP.Messages.Request,HTTP.ConnectionPool.Transaction{Sockets.TCPSocket}}})\u001b[22m\u001b[1m(\u001b[22m\u001b[1m)\u001b[22m at \u001b[1m./task.jl:259\u001b[22m"
     ]
    }
   ],
   "source": [
    "mvis = MechanismVisualizer(mechanism, URDFVisuals(urdf))\n",
    "open(mvis)"
   ]
  },
  {
   "cell_type": "code",
   "execution_count": 159,
   "metadata": {},
   "outputs": [
    {
     "data": {
      "text/plain": [
       "feedback_ctrl! (generic function with 1 method)"
      ]
     },
     "execution_count": 159,
     "metadata": {},
     "output_type": "execute_result"
    }
   ],
   "source": [
    "# same feedback but ignoring the box state\n",
    "function feedback_ctrl!(u,t,x)\n",
    "    Kp = 5.\n",
    "    Kd = 1.\n",
    "    \n",
    "    q = configuration(x)[8:end]\n",
    "    v = velocity(x)[7:end]\n",
    "    i = min(max(1,searchsortedfirst(traj[7], t)),length(traj[3]))\n",
    "    \n",
    "    q_nom = traj[1][i+1]\n",
    "    v_nom = traj[2][i+1]\n",
    "    u_nom = traj[3][i]\n",
    "    u[7:end] .= u_nom + Kd*(v - v_nom) + Kp*(q - q_nom)\n",
    "end"
   ]
  },
  {
   "cell_type": "code",
   "execution_count": 160,
   "metadata": {},
   "outputs": [
    {
     "data": {
      "text/plain": [
       "(Array{Float64,1}[[1.0, 0.0, 0.0, 0.0, 0.8, 0.0, 0.275, 2.13964e-11, 0.3, 0.0, -2.75, 0.0, -1.65, 3.82715e-12], [1.0, -5.4126e-19, -2.30091e-18, 1.25844e-13, 0.8, -4.2876e-19, 0.271076, 2.06814e-11, 0.292794, 0.0, -2.73859, 0.0, -1.68337, 3.82715e-12], [1.0, -5.41292e-19, -5.14308e-18, 1.08252e-18, 0.8, -4.24507e-19, 0.263228, 2.01519e-11, 0.288416, 0.0, -2.73074, 0.0, -1.70607, 3.82715e-12], [1.0, -5.99361e-19, -5.08499e-18, 1.19871e-18, 0.8, -4.6629e-19, 0.251456, 1.96207e-11, 0.286244, 0.0, -2.72644, 0.0, -1.71924, 3.82715e-12], [1.0, -7.81283e-17, 4.4447e-10, -4.16463e-18, 0.8, 3.95983e-17, 0.25, 1.90694e-11, 0.286099, -1.59325e-15, -2.72535, -1.21904e-15, -1.72384, 3.86742e-12], [1.0, 4.59662e-17, 4.22664e-18, 2.72245e-19, 0.8, -2.54353e-17, 0.25, 1.85304e-11, 0.287599, -1.59325e-15, -2.72726, -1.21904e-15, -1.72089, 3.86742e-12], [1.0, 2.46145e-17, -1.07376e-16, 1.36517e-18, 0.8, -1.31747e-17, 0.25, 1.80073e-11, 0.290451, -1.59325e-15, -2.73187, -1.21904e-15, -1.71135, 3.86742e-12], [1.0, 8.39681e-10, -2.59331e-7, 3.94826e-9, 0.8, 2.02239e-9, 0.25, 1.74888e-11, 0.294436, -1.59325e-15, -2.73883, -1.21904e-15, -1.69615, 3.86742e-12], [1.0, -1.94184e-11, -8.70669e-7, 1.13426e-8, 0.8, 9.32876e-10, 0.25, 1.69754e-11, 0.299391, -1.59325e-15, -2.74775, -1.21904e-15, -1.67614, 3.86742e-12], [1.0, -1.27348e-7, -1.5572e-6, 1.13428e-8, 0.8, 6.4597e-8, 0.250001, 1.64671e-11, 0.305195, -1.59325e-15, -2.75821, -1.21904e-15, -1.65216, 3.86742e-12]  …  [0.999928, 0.00497731, 0.00968265, -0.0169867, 0.804453, -0.00358252, 0.253185, 0.135987, -32.2028, 0.497853, -18.9516, 1.17669, -10.7495, 20.9293], [0.999928, 0.00497731, 0.00968265, -0.0169867, 0.804453, -0.00358252, 0.253185, 0.135987, -32.2028, 0.497853, -18.9516, 1.17669, -10.7495, 20.9293], [0.999928, 0.00497731, 0.00968265, -0.0169867, 0.804453, -0.00358252, 0.253185, 0.135987, -32.2028, 0.497853, -18.9516, 1.17669, -10.7495, 20.9293], [0.999928, 0.00497731, 0.00968265, -0.0169867, 0.804453, -0.00358252, 0.253185, 0.135987, -32.2028, 0.497853, -18.9516, 1.17669, -10.7495, 20.9293], [0.999928, 0.00497731, 0.00968265, -0.0169867, 0.804453, -0.00358252, 0.253185, 0.135987, -32.2028, 0.497853, -18.9516, 1.17669, -10.7495, 20.9293], [0.999928, 0.00497731, 0.00968265, -0.0169867, 0.804453, -0.00358252, 0.253185, 0.135987, -32.2028, 0.497853, -18.9516, 1.17669, -10.7495, 20.9293], [0.999928, 0.00497731, 0.00968265, -0.0169867, 0.804453, -0.00358252, 0.253185, 0.135987, -32.2028, 0.497853, -18.9516, 1.17669, -10.7495, 20.9293], [0.999928, 0.00497731, 0.00968265, -0.0169867, 0.804453, -0.00358252, 0.253185, 0.135987, -32.2028, 0.497853, -18.9516, 1.17669, -10.7495, 20.9293], [0.999928, 0.00497731, 0.00968265, -0.0169867, 0.804453, -0.00358252, 0.253185, 0.135987, -32.2028, 0.497853, -18.9516, 1.17669, -10.7495, 20.9293], [0.999928, 0.00497731, 0.00968265, -0.0169867, 0.804453, -0.00358252, 0.253185, 0.135987, -32.2028, 0.497853, -18.9516, 1.17669, -10.7495, 20.9293]], Array{Float64,1}[[0.0, 0.0, 0.0, 0.0, 0.0, 0.0, -3.0145e-11, 0.0, 0.0, 0.0, 0.0, 0.0, 0.0], [-5.4126e-17, -2.30091e-16, 1.08252e-16, -2.25533e-17, -2.1438e-17, -0.1962, -2.81623e-11, -0.360284, 0.0, 0.570253, 0.0, -1.66851, 5.94868e-12], [-1.11918e-21, -2.84217e-16, 7.25851e-23, -5.84194e-18, 8.49277e-19, -0.3924, -2.80717e-11, -0.218933, 0.0, 0.392656, 0.0, -1.13517, 4.28527e-12], [-5.99349e-17, -2.24282e-16, 1.19871e-16, -3.30936e-17, -2.30562e-17, -0.5886, -2.78271e-11, -0.108606, 0.0, 0.214991, 0.0, -0.658265, 2.99877e-12], [-7.7529e-15, 4.4447e-8, -5.36334e-16, 1.11765e-8, 2.09503e-15, -0.0728, -2.7562e-11, -0.00720784, -7.96626e-14, 0.0545514, -6.0952e-14, -0.229953, 2.01379e-12], [1.24095e-14, -4.4447e-8, 5.63559e-16, -1.11117e-8, -3.24785e-15, -1.11118e-8, -2.72606e-11, 0.0749924, -7.96626e-14, -0.0952562, -6.0952e-14, 0.147504, 1.42566e-12], [-9.948e-15, -1.07376e-14, -4.27042e-16, -9.47503e-17, 2.58912e-15, 1.02583e-15, -2.6921e-11, 0.142595, -7.96626e-14, -0.230502, -6.0952e-14, 0.476774, 9.14499e-13], [8.39681e-8, -2.59331e-5, 3.94812e-7, -5.58631e-7, 1.0112e-7, -6.62941e-9, -2.65697e-11, 0.199244, -7.96626e-14, -0.348187, -6.0952e-14, 0.760313, 4.65207e-13], [-8.59146e-8, -6.11338e-5, 7.3943e-7, -3.74749e-6, -5.44756e-8, 1.3195e-8, -2.62277e-11, 0.247749, -7.96626e-14, -0.446127, -6.0952e-14, 1.00038, 6.65823e-14], [-1.27329e-5, -6.86528e-5, 3.63618e-11, -1.7163e-5, 3.1832e-6, 3.57397e-5, -2.59079e-11, 0.290201, -7.96626e-14, -0.522851, -6.0952e-14, 1.19904, -2.89285e-13]  …  [0.045151, 0.042099, 4.23462e-5, 0.014429, -0.0133032, -0.191075, -7.0619, -54.3318, -15.2824, -1.26565, 4.59651, 5.89962, 111.024], [0.045151, 0.042099, 4.23462e-5, 0.014429, -0.0133032, -0.191075, -7.0619, -54.3318, -15.2824, -1.26565, 4.59651, 5.89962, 111.024], [0.045151, 0.042099, 4.23462e-5, 0.014429, -0.0133032, -0.191075, -7.0619, -54.3318, -15.2824, -1.26565, 4.59651, 5.89962, 111.024], [0.045151, 0.042099, 4.23462e-5, 0.014429, -0.0133032, -0.191075, -7.0619, -54.3318, -15.2824, -1.26565, 4.59651, 5.89962, 111.024], [0.045151, 0.042099, 4.23462e-5, 0.014429, -0.0133032, -0.191075, -7.0619, -54.3318, -15.2824, -1.26565, 4.59651, 5.89962, 111.024], [0.045151, 0.042099, 4.23462e-5, 0.014429, -0.0133032, -0.191075, -7.0619, -54.3318, -15.2824, -1.26565, 4.59651, 5.89962, 111.024], [0.045151, 0.042099, 4.23462e-5, 0.014429, -0.0133032, -0.191075, -7.0619, -54.3318, -15.2824, -1.26565, 4.59651, 5.89962, 111.024], [0.045151, 0.042099, 4.23462e-5, 0.014429, -0.0133032, -0.191075, -7.0619, -54.3318, -15.2824, -1.26565, 4.59651, 5.89962, 111.024], [0.045151, 0.042099, 4.23462e-5, 0.014429, -0.0133032, -0.191075, -7.0619, -54.3318, -15.2824, -1.26565, 4.59651, 5.89962, 111.024], [0.045151, 0.042099, 4.23462e-5, 0.014429, -0.0133032, -0.191075, -7.0619, -54.3318, -15.2824, -1.26565, 4.59651, 5.89962, 111.024]], Array{Float64,1}[], Array{Float64,1}[[0.0, 0.0, 0.0, 0.0, 0.0, 0.0], [0.0, 0.0, 0.0, 0.0, 0.0, 0.0], [0.0, 0.0, 0.0, 0.0, 0.0, 0.0], [0.0, 0.0, 0.0, 0.0, 0.0, 0.0], [0.0, 0.0, 0.0, 0.0, 0.0, 0.0], [0.0, 0.0, 0.0, 0.0, 0.0, 0.0], [-4.1359e-25, -5.16988e-26, 0.0, 0.0, 0.0, -6.20325e-17], [0.0, -5.80782e-17, 0.0, 0.0, 5.80782e-17, -6.20325e-17], [-4.1359e-25, 0.0, 0.0, 0.0, 0.0, -6.20325e-17], [0.0, 0.0, 0.0, 0.0, 0.0, -7.90651e-18]  …  [1.897e-17, 0.0, 0.0, 0.0, 0.0, 6.97389], [2.68387e-11, -8.16508e-19, 0.0, -1.29247e-26, 2.68387e-12, 0.291434], [0.0, 0.0, 0.0, 0.0, 0.0, 141.246], [0.0, 0.0, 0.0, 0.0, 0.0, 117.907], [1.21249e-8, 0.0, 6.65451e-21, 0.0, 1.21249e-9, 0.207074], [1.12114e-18, 0.0, 0.0, 0.0, 0.0, 1.49316], [1.897e-17, 0.0, 0.0, 0.0, 0.0, 6.97389], [2.68387e-11, -8.16508e-19, 0.0, -1.29247e-26, 2.68387e-12, 0.291434], [0.0, 0.0, 0.0, 0.0, 0.0, 141.246], [0.0, 0.0, 0.0, 0.0, 0.0, 117.907]], Array{Float64,1}[], [0.0, 0.02, 0.04, 0.06, 0.08, 0.1, 0.12, 0.14, 0.16, 0.18  …  2.0, 2.02, 2.04, 2.06, 2.08, 2.1, 2.12, 2.14, 2.16, 2.18], [1.0 1.0 … 0.999928 0.999928; 0.0 -5.4126e-19 … 0.00497731 0.00497731; … ; 0.0 -1.66851 … 5.89962 5.89962; 0.0 5.94868e-12 … 111.024 111.024])"
      ]
     },
     "execution_count": 160,
     "metadata": {},
     "output_type": "execute_result"
    }
   ],
   "source": [
    "x0 = MechanismState(mechanism)\n",
    "set_configuration!(x0,vcat([1.,0.,0.,0.,.8,0.,.275],traj[1][1]))\n",
    "set_velocity!(x0,vcat([0.,0.,0.,0.,0.,0.],traj[2][1]))\n",
    "setdirty!(x0)\n",
    "\n",
    "sim_data = get_sim_data_indirect(mechanism,env,Δt)\n",
    "\n",
    "traj_sim = Bilevel.simulate(sim_data,feedback_ctrl!,x0,N+10)"
   ]
  },
  {
   "cell_type": "code",
   "execution_count": 161,
   "metadata": {},
   "outputs": [],
   "source": [
    "setanimation!(mvis, traj_sim[6], traj_sim[1])"
   ]
  },
  {
   "cell_type": "markdown",
   "metadata": {},
   "source": [
    "# Generating simpler data with just the cube initial velocity"
   ]
  },
  {
   "cell_type": "code",
   "execution_count": 266,
   "metadata": {},
   "outputs": [],
   "source": [
    "μ_floor = .1\n",
    "\n",
    "urdf = joinpath(\"..\", \"urdf\", \"box.urdf\")\n",
    "mechanism = parse_urdf(Float64, urdf)\n",
    "\n",
    "floor = findbody(mechanism, \"floor\")\n",
    "point = Point3D(default_frame(floor), SVector([0.,0.,0.]...))\n",
    "normal = FreeVector3D(default_frame(floor), SVector([0.,0.,1.]...))\n",
    "floor_obs = Obstacle(floor, point, normal, :xyz, μ_floor)\n",
    "\n",
    "obstacles = [floor_obs]\n",
    "env = Environment(mechanism, urdf, obstacles);"
   ]
  },
  {
   "cell_type": "code",
   "execution_count": 302,
   "metadata": {},
   "outputs": [
    {
     "name": "stderr",
     "output_type": "stream",
     "text": [
      "┌ Info: Serving MeshCat visualizer at http://127.0.0.1:8705\n",
      "└ @ MeshCat /home/blandry/.julia/packages/MeshCat/WlA0B/src/servers.jl:24\n"
     ]
    },
    {
     "data": {
      "text/plain": [
       "Process(`\u001b[4mxdg-open\u001b[24m \u001b[4mhttp://127.0.0.1:8705\u001b[24m`, ProcessExited(0))"
      ]
     },
     "execution_count": 302,
     "metadata": {},
     "output_type": "execute_result"
    },
    {
     "name": "stdout",
     "output_type": "stream",
     "text": [
      "Created new window in existing browser session.\n"
     ]
    }
   ],
   "source": [
    "mvis = MechanismVisualizer(mechanism, URDFVisuals(urdf))\n",
    "open(mvis)"
   ]
  },
  {
   "cell_type": "code",
   "execution_count": 332,
   "metadata": {},
   "outputs": [
    {
     "data": {
      "text/plain": [
       "(Array{Float64,1}[[1.0, 0.0, 0.0, 0.0, 0.0, 0.0, 0.25], [1.0, 2.92102e-17, 2.11774e-12, -1.65407e-16, 0.0099019, -2.6125e-20, 0.25], [1.0, -6.12911e-17, -1.26077e-16, -6.40296e-18, 0.0197057, -1.28552e-15, 0.25], [1.0, 1.57615e-16, 2.53185e-16, 1.80907e-16, 0.0294114, 2.41523e-16, 0.25], [1.0, -1.2428e-16, -2.37765e-16, -1.24088e-17, 0.039019, 1.41962e-15, 0.25], [1.0, 1.00793e-16, 3.34721e-16, 1.00861e-17, 0.0485285, 2.94667e-15, 0.25], [1.0, -1.56147e-16, -3.80451e-16, -1.56121e-17, 0.0579399, 4.11137e-15, 0.25], [1.0, 1.7378e-16, 4.9237e-16, 1.73462e-17, 0.0672532, 5.63841e-15, 0.25], [1.0, -1.94182e-16, -5.31843e-16, -1.9444e-17, 0.0764684, 6.80312e-15, 0.25], [1.0, 2.46768e-16, 6.12079e-16, 2.46969e-17, 0.0855855, 8.33016e-15, 0.25]  …  [1.0, -2.06168e-11, -1.16412e-12, -9.48797e-12, 0.504687, 9.19149e-12, 0.25], [1.0, -4.91221e-7, 5.64909e-7, -8.75171e-12, 0.504687, 2.45609e-7, 0.250001], [1.0, -6.13236e-9, 7.91416e-9, -9.00558e-12, 0.504687, 3.06489e-9, 0.25], [1.0, -1.60174e-11, -2.54239e-15, -8.90662e-12, 0.504687, 6.78733e-12, 0.25], [1.0, -4.34136e-7, 4.96174e-7, -8.02824e-12, 0.504687, 2.17067e-7, 0.250001], [1.0, -5.02963e-9, 6.64064e-9, -7.74173e-12, 0.504687, 2.51337e-9, 0.25], [1.0, -8.05886e-12, -2.11954e-15, -7.63301e-12, 0.504687, 2.63762e-12, 0.25], [1.0, -3.84848e-7, 4.36814e-7, -6.89878e-12, 0.504687, 1.92422e-7, 0.250001], [1.0, -1.43247e-6, 2.23543e-9, -5.52069e-12, 0.504687, 7.16235e-7, 0.250001], [1.0, -8.6299e-9, -4.81259e-9, -9.33041e-12, 0.504687, 4.30898e-9, 0.25]], Array{Float64,1}[[0.0, 0.0, 0.0, 1.0, 0.0, 0.0], [-3.30258e-13, 4.23547e-10, -3.30794e-14, 0.99019, 2.65619e-15, 1.1022e-10], [-1.22585e-14, -4.23572e-10, 3.17988e-14, 0.98038, 7.26565e-18, -1.05973e-10], [4.37814e-14, 5.0637e-14, 4.38264e-15, 0.97057, -3.46971e-16, -1.34525e-15], [-6.86379e-14, -9.819e-14, -6.86439e-15, 0.96076, 2.90244e-17, 1.11133e-14], [8.87965e-14, 1.65134e-13, 8.88162e-15, 0.95095, -1.88983e-17, -8.61968e-15], [-1.20026e-13, -2.41224e-13, -1.2004e-14, 0.94114, 3.16569e-17, 6.20422e-15], [1.54782e-13, 3.39698e-13, 1.54733e-14, 0.93133, -3.25926e-17, -7.14003e-15], [-1.93618e-13, -1.06369e-13, -1.93621e-14, 0.92152, 3.88956e-17, 1.09605e-14], [2.42972e-13, 2.28785e-13, 2.43015e-14, 0.91171, -4.61123e-17, -9.52726e-15]  …  [1.48759e-6, -1.88898e-6, 2.74841e-10, -4.72281e-7, -3.71832e-7, -1.00295e-7], [-9.824e-5, 0.000112982, 1.47167e-10, 2.82455e-5, 2.456e-5, 7.03823e-5], [9.70177e-5, -0.000111399, -5.07755e-11, -2.78495e-5, -2.42543e-5, -7.02921e-5], [1.22327e-6, -1.58283e-6, 1.97049e-11, -3.95703e-7, -3.05812e-7, -8.99045e-8], [-8.68241e-5, 9.92348e-5, 1.75598e-10, 2.48087e-5, 2.1706e-5, 6.75154e-5], [8.58214e-5, -9.79067e-5, 5.72994e-11, -2.44765e-5, -2.14552e-5, -6.7434e-5], [1.00431e-6, -1.32813e-6, 2.16666e-11, -3.32049e-7, -2.51074e-7, -8.09639e-8], [-7.69679e-5, 8.73629e-5, 1.46774e-10, 2.18408e-5, 1.92419e-5, 6.47615e-5], [-0.000209524, -8.69158e-5, 2.75617e-10, -2.17288e-5, 5.23811e-5, 6.97423e-6], [0.000284768, -1.4096e-6, -6.38214e-10, -3.53002e-7, -7.11924e-5, -7.15445e-5]], Array{Float64,1}[], Array{Float64,1}[[0.0, 0.0, 0.0, 0.0, 0.0, 0.0], [0.0, 0.0, 0.0, 0.0, 0.0, 0.0], [0.0, 0.0, 0.0, 0.0, 0.0, 0.0], [0.0, 0.0, 0.0, 0.0, 0.0, 0.0], [0.225, 0.0, 0.0, 0.0225, 0.0, 0.99019], [0.225, 0.0, 0.0, 0.0225, 0.0, 0.99019], [0.275, 0.0, 0.0, 0.0275, 0.0, 0.99019], [0.275, 0.0, 0.0, 0.0275, 0.0, 0.99019], [0.225, 0.0, 0.0, 0.0225, 0.0, 0.98038], [0.225, 0.0, 0.0, 0.0225, 0.0, 0.98038]  …  [0.252969, 0.0120334, 0.000179834, 0.0130837, 0.0, 7.33259e-11], [0.247068, 0.0105695, 5.78898e-5, 0.0140756, 3.82137e-6, 5.87728e-13], [0.246963, 0.0121784, 0.000577341, 0.0113112, 0.000629339, 1.96851e-10], [0.252165, 0.0116831, 9.83573e-5, 0.00810299, 0.0, 0.0], [0.253181, 0.0119487, 0.00020904, 0.0131605, 0.0, 2.7257e-10], [0.247101, 0.0104741, 8.24129e-5, 0.0141537, 0.0, 1.11302e-10], [0.246306, 0.0122292, 0.000306758, 0.0112276, 0.000867067, -7.61828e-10], [0.253577, 0.0117814, 0.0, 0.00800471, 0.000254156, 2.78622e-15], [0.251656, 0.0119397, 0.0, 0.013017, 0.00020897, -7.61816e-10], [0.24766, 0.0105234, 0.0, 0.0140064, 0.000236236, -4.40838e-10]], Array{Float64,1}[], [0.0, 0.01, 0.02, 0.03, 0.04, 0.05, 0.06, 0.07, 0.08, 0.09  …  1.9, 1.91, 1.92, 1.93, 1.94, 1.95, 1.96, 1.97, 1.98, 1.99], [1.0 1.0 … 1.0 1.0; 0.0 2.92102e-17 … -1.43247e-6 -8.6299e-9; … ; 0.0 2.65619e-15 … 5.23811e-5 -7.11924e-5; 0.0 1.1022e-10 … 6.97423e-6 -7.15445e-5])"
      ]
     },
     "execution_count": 332,
     "metadata": {},
     "output_type": "execute_result"
    }
   ],
   "source": [
    "Δt = 0.01\n",
    "N = 200\n",
    "\n",
    "x0 = MechanismState(mechanism)\n",
    "set_configuration!(x0,[1.,0.,0.,0.,0.,0.,.25])\n",
    "set_velocity!(x0,[0.,0.,0.,1.,0.,0.])\n",
    "setdirty!(x0)\n",
    "\n",
    "sim_data = get_sim_data_indirect(mechanism,env,Δt)\n",
    "# sim_data = get_sim_data_direct(mechanism,env,Δt)\n",
    "\n",
    "null_ctrl! = (u,t,x) -> u[:] .= 0.\n",
    "traj_sim = Bilevel.simulate(sim_data,null_ctrl!,x0,N)"
   ]
  },
  {
   "cell_type": "code",
   "execution_count": 333,
   "metadata": {},
   "outputs": [],
   "source": [
    "setanimation!(mvis, traj_sim[6], traj_sim[1])"
   ]
  },
  {
   "cell_type": "code",
   "execution_count": 334,
   "metadata": {},
   "outputs": [
    {
     "data": {
      "text/plain": [
       "200-element Array{Array{Float64,1},1}:\n",
       " [1.0, 0.0, 0.0, 0.0, 0.0, 0.0, 0.25]                                          \n",
       " [1.0, 2.92102e-17, 2.11774e-12, -1.65407e-16, 0.0099019, -2.6125e-20, 0.25]   \n",
       " [1.0, -6.12911e-17, -1.26077e-16, -6.40296e-18, 0.0197057, -1.28552e-15, 0.25]\n",
       " [1.0, 1.57615e-16, 2.53185e-16, 1.80907e-16, 0.0294114, 2.41523e-16, 0.25]    \n",
       " [1.0, -1.2428e-16, -2.37765e-16, -1.24088e-17, 0.039019, 1.41962e-15, 0.25]   \n",
       " [1.0, 1.00793e-16, 3.34721e-16, 1.00861e-17, 0.0485285, 2.94667e-15, 0.25]    \n",
       " [1.0, -1.56147e-16, -3.80451e-16, -1.56121e-17, 0.0579399, 4.11137e-15, 0.25] \n",
       " [1.0, 1.7378e-16, 4.9237e-16, 1.73462e-17, 0.0672532, 5.63841e-15, 0.25]      \n",
       " [1.0, -1.94182e-16, -5.31843e-16, -1.9444e-17, 0.0764684, 6.80312e-15, 0.25]  \n",
       " [1.0, 2.46768e-16, 6.12079e-16, 2.46969e-17, 0.0855855, 8.33016e-15, 0.25]    \n",
       " [1.0, -3.43239e-16, -5.81044e-16, -3.42967e-17, 0.0946045, 9.49487e-15, 0.25] \n",
       " [1.0, 3.81434e-16, 6.50248e-16, 3.81498e-17, 0.103525, 1.10219e-14, 0.25]     \n",
       " [1.0, -3.17786e-16, -6.4731e-16, 1.24025e-16, 0.112348, 1.22428e-14, 0.25]    \n",
       " ⋮                                                                             \n",
       " [1.0, -5.54722e-7, 6.48258e-7, -1.10929e-11, 0.504687, 2.77359e-7, 0.250001]  \n",
       " [1.0, -7.45858e-9, 9.44373e-9, -1.08626e-11, 0.504687, 3.7275e-9, 0.25]       \n",
       " [1.0, -2.06168e-11, -1.16412e-12, -9.48797e-12, 0.504687, 9.19149e-12, 0.25]  \n",
       " [1.0, -4.91221e-7, 5.64909e-7, -8.75171e-12, 0.504687, 2.45609e-7, 0.250001]  \n",
       " [1.0, -6.13236e-9, 7.91416e-9, -9.00558e-12, 0.504687, 3.06489e-9, 0.25]      \n",
       " [1.0, -1.60174e-11, -2.54239e-15, -8.90662e-12, 0.504687, 6.78733e-12, 0.25]  \n",
       " [1.0, -4.34136e-7, 4.96174e-7, -8.02824e-12, 0.504687, 2.17067e-7, 0.250001]  \n",
       " [1.0, -5.02963e-9, 6.64064e-9, -7.74173e-12, 0.504687, 2.51337e-9, 0.25]      \n",
       " [1.0, -8.05886e-12, -2.11954e-15, -7.63301e-12, 0.504687, 2.63762e-12, 0.25]  \n",
       " [1.0, -3.84848e-7, 4.36814e-7, -6.89878e-12, 0.504687, 1.92422e-7, 0.250001]  \n",
       " [1.0, -1.43247e-6, 2.23543e-9, -5.52069e-12, 0.504687, 7.16235e-7, 0.250001]  \n",
       " [1.0, -8.6299e-9, -4.81259e-9, -9.33041e-12, 0.504687, 4.30898e-9, 0.25]      "
      ]
     },
     "execution_count": 334,
     "metadata": {},
     "output_type": "execute_result"
    }
   ],
   "source": [
    "traj_sim[1]"
   ]
  },
  {
   "cell_type": "markdown",
   "metadata": {},
   "source": [
    "# Regressing the parameters"
   ]
  },
  {
   "cell_type": "code",
   "execution_count": null,
   "metadata": {},
   "outputs": [],
   "source": [
    "function generate_solver_fn_regression_direct()\n",
    "    function eval_obj(μ::AbstractArray{T}) where T        \n",
    "        # set the friction coefficient for the obstacle\n",
    "        envj.contact_jacobians[1].contact.obstacle.μ = μ[1]\n",
    "        \n",
    "        # evaluate the dynamics residual on each datapoint as an inner problem\n",
    "        losses = Array{T,1}(undef, num_samples)\n",
    "        for i = 1:num_samples # PARRALEL\n",
    "            sample = data[i]\n",
    "            q0 = vs(sample, :q0)\n",
    "            v0 = vs(sample, :v0)\n",
    "            qnext = vs(sample, :qnext)\n",
    "            vnext = vs(sample, :vnext)\n",
    "            \n",
    "            x0 = sim_data.state_cache[1][T]\n",
    "            xn = sim_data.state_cache[2][T]\n",
    "            envj = sim_data.envj_cache[2][T]\n",
    "\n",
    "            set_configuration!(x0, q0)\n",
    "            set_velocity!(x0, v0)\n",
    "            setdirty!(x0)\n",
    "            set_configuration!(xn, qnext)\n",
    "            set_velocity!(xn, vnext)\n",
    "            setdirty!(xn)\n",
    "\n",
    "            H = mass_matrix(x0)\n",
    "            Hi = inv(H)\n",
    "            dyn_bias = dynamics_bias(xn)\n",
    "\n",
    "            contact_jacobian!(envj, xn)\n",
    "            contact_bias = Vector{T}(undef, num_vel)\n",
    "            normal_bias = Vector{T}(undef, num_vel)\n",
    "            \n",
    "            # compute normal forces\n",
    "            x_normal = contact_normal_τ_direct!(normal_bias, sim_data, Hi, envj, dyn_bias, u0, v0, x, n)\n",
    "            \n",
    "            # compute friction forces\n",
    "            contact_friction_τ_direct!(contact_bias, sim_data, Hi, envj, dyn_bias, u0, v0, x, x_normal, n)\n",
    "\n",
    "            dyn_res = H * (vnext - v0) .- h .* (u0 .- dyn_bias .- contact_bias)\n",
    "            \n",
    "            losses[i] = (dyn_res'*dyn_res)/num_samples\n",
    "        end\n",
    "        \n",
    "        # add losses\n",
    "        sum(losses)\n",
    "    end\n",
    "\n",
    "    function eval_cons(μ::AbstractArray{T}) where T        \n",
    "        # friction coeffs are positive\n",
    "        g = -μ\n",
    "        \n",
    "        g\n",
    "    end\n",
    "    \n",
    "    return Bilevel.generate_autodiff_solver_fn(eval_obj,eval_cons,[],1:1,hessian=false)\n",
    "end"
   ]
  },
  {
   "cell_type": "markdown",
   "metadata": {},
   "source": [
    "## Classical"
   ]
  },
  {
   "cell_type": "markdown",
   "metadata": {},
   "source": [
    "## Bilevel"
   ]
  }
 ],
 "metadata": {
  "kernelspec": {
   "display_name": "Julia 1.1.0",
   "language": "julia",
   "name": "julia-1.1"
  },
  "language_info": {
   "file_extension": ".jl",
   "mimetype": "application/julia",
   "name": "julia",
   "version": "1.1.0"
  }
 },
 "nbformat": 4,
 "nbformat_minor": 2
}
