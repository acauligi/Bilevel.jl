{
 "cells": [
  {
   "cell_type": "code",
   "execution_count": 1,
   "metadata": {},
   "outputs": [
    {
     "name": "stderr",
     "output_type": "stream",
     "text": [
      "┌ Info: Precompiling Bilevel [9688c538-179f-11e9-3174-495cea6b7f67]\n",
      "└ @ Base loading.jl:1186\n"
     ]
    },
    {
     "data": {
      "text/html": [
       "    <script class='js-collapse-script'>\n",
       "        var curMatch =\n",
       "            window.location.href\n",
       "            .match(/(.*?)\\/notebooks\\/.*\\.ipynb/);\n",
       "\n",
       "        curMatch = curMatch ||\n",
       "            window.location.href\n",
       "            .match(/(.*?)\\/apps\\/.*\\.ipynb/);\n",
       "\n",
       "        if ( curMatch ) {\n",
       "            $('head').append('<base href=\"' + curMatch[1] + '/\">');\n",
       "        }\n",
       "    </script>\n"
      ],
      "text/plain": [
       "HTML{String}(\"    <script class='js-collapse-script'>\\n        var curMatch =\\n            window.location.href\\n            .match(/(.*?)\\\\/notebooks\\\\/.*\\\\.ipynb/);\\n\\n        curMatch = curMatch ||\\n            window.location.href\\n            .match(/(.*?)\\\\/apps\\\\/.*\\\\.ipynb/);\\n\\n        if ( curMatch ) {\\n            \\$('head').append('<base href=\\\"' + curMatch[1] + '/\\\">');\\n        }\\n    </script>\\n\")"
      ]
     },
     "metadata": {},
     "output_type": "display_data"
    },
    {
     "data": {
      "text/html": [
       "<script class='js-collapse-script' src='/assetserver/b464848323e0a4c9a3cfe11f8edca2932188b6d9-assets/webio/dist/bundle.js'></script>"
      ],
      "text/plain": [
       "HTML{String}(\"<script class='js-collapse-script' src='/assetserver/b464848323e0a4c9a3cfe11f8edca2932188b6d9-assets/webio/dist/bundle.js'></script>\")"
      ]
     },
     "metadata": {},
     "output_type": "display_data"
    },
    {
     "data": {
      "text/html": [
       "<script class='js-collapse-script' src='/assetserver/b464848323e0a4c9a3cfe11f8edca2932188b6d9-assets/providers/ijulia_setup.js'></script>"
      ],
      "text/plain": [
       "HTML{String}(\"<script class='js-collapse-script' src='/assetserver/b464848323e0a4c9a3cfe11f8edca2932188b6d9-assets/providers/ijulia_setup.js'></script>\")"
      ]
     },
     "metadata": {},
     "output_type": "display_data"
    },
    {
     "data": {
      "text/html": [
       "  <script class='js-collapse-script'>\n",
       "    $('.js-collapse-script').parent('.output_subarea').css('padding', '0');\n",
       "  </script>\n"
      ],
      "text/plain": [
       "HTML{String}(\"  <script class='js-collapse-script'>\\n    \\$('.js-collapse-script').parent('.output_subarea').css('padding', '0');\\n  </script>\\n\")"
      ]
     },
     "metadata": {},
     "output_type": "display_data"
    },
    {
     "name": "stderr",
     "output_type": "stream",
     "text": [
      "┌ Error: evaluation error\n",
      "│   mod = Bilevel\n",
      "│   ex = const usrfun = #= /home/blandry/.julia/dev/Bilevel/src/solvers/snopt.jl:154 =# @cfunction(objcon_wrapper, Cvoid, (Ptr{Clong}, Ref{Clong}, Ptr{Cdouble}, Ref{Clong}, Ref{Clong}, Ptr{Cdouble}, Ref{Clong}, Ref{Clong}, Ptr{Cdouble}, Ptr{Cchar}, Ref{Clong}, Ptr{Clong}, Ref{Clong}, Ptr{Cdouble}, Ref{Clong}))\n",
      "│   exception = (ErrorException(\"invalid lookup expr (\\$(QuoteNode(Core.svec)))(JuliaInterpreter.SSAValue(2), JuliaInterpreter.SSAValue(3), JuliaInterpreter.SSAValue(4), JuliaInterpreter.SSAValue(5), JuliaInterpreter.SSAValue(6), JuliaInterpreter.SSAValue(7), JuliaInterpreter.SSAValue(8), JuliaInterpreter.SSAValue(9), JuliaInterpreter.SSAValue(10), JuliaInterpreter.SSAValue(11), JuliaInterpreter.SSAValue(12), JuliaInterpreter.SSAValue(13), JuliaInterpreter.SSAValue(14), JuliaInterpreter.SSAValue(15), JuliaInterpreter.SSAValue(16))\"), Union{Ptr{Nothing}, InterpreterIP}[Ptr{Nothing} @0x00007fa0931765eb, Ptr{Nothing} @0x00007fa093147204, Ptr{Nothing} @0x00007fa0583e3070, Ptr{Nothing} @0x00007fa0583ed7b5, Ptr{Nothing} @0x00007fa00e51e2ad, Ptr{Nothing} @0x00007fa00e51e894, Ptr{Nothing} @0x00007fa0583ede03, Ptr{Nothing} @0x00007fa0583ef31b, Ptr{Nothing} @0x00007fa0583f31bb, Ptr{Nothing} @0x00007fa0583ec664, Ptr{Nothing} @0x00007fa0583ed1b4, Ptr{Nothing} @0x00007fa09312b5d6, Ptr{Nothing} @0x00007fa0583defe5, Ptr{Nothing} @0x00007fa09312b5d6, Ptr{Nothing} @0x00007fa0583dd8e0, Ptr{Nothing} @0x00007fa0583dd934, Ptr{Nothing} @0x00007fa0583dd0b4, Ptr{Nothing} @0x00007fa0583dd6df, Ptr{Nothing} @0x00007fa09312b5d6, Ptr{Nothing} @0x00007fa0583d6c84, Ptr{Nothing} @0x00007fa0583d763c, Ptr{Nothing} @0x00007fa0583d91de, Ptr{Nothing} @0x00007fa0583d13b1, Ptr{Nothing} @0x00007fa09312b5d6, Ptr{Nothing} @0x00007fa093147a92, Ptr{Nothing} @0x0000000000000000])\n",
      "└ @ Revise /home/blandry/.julia/packages/Revise/UtBAC/src/lowered.jl:52\n"
     ]
    }
   ],
   "source": [
    "using Revise\n",
    "using Bilevel\n",
    "\n",
    "using ForwardDiff\n",
    "using DiffResults\n",
    "using RigidBodyDynamics\n",
    "using MeshCat\n",
    "using MeshCatMechanisms\n",
    "using Base.Threads\n",
    "using Plots\n",
    "using Interpolations\n",
    "using StaticArrays\n",
    "\n",
    "using Bilevel: VariableSelector, ConstraintSelector, add_var!, add_ineq!"
   ]
  },
  {
   "cell_type": "code",
   "execution_count": null,
   "metadata": {},
   "outputs": [],
   "source": [
    "nthreads()"
   ]
  },
  {
   "cell_type": "markdown",
   "metadata": {},
   "source": [
    "# Synthesizing a controller"
   ]
  },
  {
   "cell_type": "code",
   "execution_count": null,
   "metadata": {},
   "outputs": [],
   "source": [
    "urdf = joinpath(\"..\", \"urdf\", \"panda\", \"panda_arm.urdf\")\n",
    "mechanism = parse_urdf(Float64, urdf)\n",
    "obstacles = []\n",
    "env = Environment(mechanism, urdf, obstacles);"
   ]
  },
  {
   "cell_type": "code",
   "execution_count": null,
   "metadata": {},
   "outputs": [],
   "source": [
    "mvis = MechanismVisualizer(mechanism, URDFVisuals(urdf))\n",
    "open(mvis)"
   ]
  },
  {
   "cell_type": "code",
   "execution_count": null,
   "metadata": {},
   "outputs": [],
   "source": [
    "Δt = 0.05\n",
    "N = 50\n",
    "\n",
    "q0 = [0., .3, 0., -2.75, 0., -1.65, 0.]\n",
    "qN = [0., .8, 0., -1.67, 0., -2.2, 0.]\n",
    "\n",
    "function add_prob_constraints!(sim_data)\n",
    "    vs = sim_data.vs\n",
    "\n",
    "    add_eq!(sim_data, :cq1, num_positions(mechanism), x -> vs(x, :q1) - q0)\n",
    "    add_eq!(sim_data, :cv1, num_velocities(mechanism), x -> vs(x, :v1))\n",
    "    \n",
    "    add_eq!(sim_data, :cqN, num_positions(mechanism), x -> vs(x, Symbol(\"q\", N)) - qN)\n",
    "    add_eq!(sim_data, :cvN, num_velocities(mechanism), x -> vs(x, Symbol(\"v\", N)))\n",
    "    \n",
    "#     add_ineq!(sim_data, :cN2, 1, x -> -pi - vs(x, Symbol(\"q\", Int(N/2)))[4])\n",
    "end\n",
    "\n",
    "function add_prob_obj!(sim_data)\n",
    "    for n = 1:N\n",
    "        add_obj!(sim_data, Symbol(\"u\", n), x -> sim_data.vs(x, Symbol(\"v\", n))'*sim_data.vs(x, Symbol(\"v\", n)))\n",
    "    end\n",
    "end\n",
    "\n",
    "function get_prob_limits(sim_data)\n",
    "    x_min = -1e19*ones(sim_data.vs.num_vars)\n",
    "    x_max = 1e19*ones(sim_data.vs.num_vars)\n",
    "    \n",
    "    # torques limits\n",
    "    u_limit = 1000.\n",
    "    add_box_con_snopt!(x_min, x_max, sim_data, :u, -u_limit * ones(num_velocities(mechanism)), u_limit * ones(num_velocities(mechanism)), 1:N-1)\n",
    "\n",
    "    # step size limit\n",
    "    add_box_con_snopt!(x_min, x_max, sim_data, :h, [Δt], [Δt], 1:N-1)\n",
    "    \n",
    "    x_min, x_max\n",
    "end\n",
    "\n",
    "function get_prob_init(sim_data)\n",
    "    x0 = zeros(sim_data.vs.num_vars)\n",
    "    for n = 1:N\n",
    "        x0[sim_data.vs(Symbol(\"q\", n))] .= q0\n",
    "    end\n",
    "    \n",
    "    x0\n",
    "end\n",
    "\n",
    "function setup_prob!(sim_data)\n",
    "    add_prob_constraints!(sim_data)\n",
    "    add_prob_obj!(sim_data)\n",
    "    x_min, x_max = get_prob_limits(sim_data)\n",
    "    x0 = get_prob_init(sim_data)\n",
    "    \n",
    "    x0, x_min, x_max\n",
    "end"
   ]
  },
  {
   "cell_type": "code",
   "execution_count": null,
   "metadata": {},
   "outputs": [],
   "source": [
    "sim_data = get_trajopt_data_indirect(mechanism,env,Δt,N,relax_comp=false)\n",
    "x0, x_min, x_max = setup_prob!(sim_data)\n",
    "traj = Bilevel.trajopt(sim_data, x0=x0, x_min=x_min, x_max=x_max, verbose=1)"
   ]
  },
  {
   "cell_type": "code",
   "execution_count": null,
   "metadata": {},
   "outputs": [],
   "source": [
    "setanimation!(mvis, traj[7], traj[1])"
   ]
  },
  {
   "cell_type": "code",
   "execution_count": null,
   "metadata": {},
   "outputs": [],
   "source": [
    "# package the resulting controller in a ctrl function to test\n",
    "function feedforward_ctrl!(u,t,x)\n",
    "    i = min(max(searchsortedfirst(traj[7], t),1),length(traj[7]))\n",
    "    u_nom = traj[3][i]\n",
    "    u .= u_nom\n",
    "end\n",
    "\n",
    "function feedback_ctrl!(u,t,x)\n",
    "    if t >= traj[7][end]\n",
    "        u .= 0.\n",
    "        return\n",
    "    end\n",
    "    \n",
    "    i = min(max(searchsortedfirst(traj[7], t),1),length(traj[7]))\n",
    "\n",
    "    Kp = 0.\n",
    "    Kd = 0.\n",
    "    \n",
    "    q = configuration(x)\n",
    "    v = velocity(x)\n",
    "        \n",
    "    q_nom = traj[1][i]\n",
    "    v_nom = traj[2][i]\n",
    "    u_nom = traj[3][i]\n",
    "    \n",
    "    u .= u_nom + Kp*(q - q_nom) + Kd*(v - v_nom)\n",
    "end\n",
    "\n",
    "x0 = MechanismState(mechanism)\n",
    "set_configuration!(x0,traj[1][1])\n",
    "set_velocity!(x0,traj[2][1])\n",
    "setdirty!(x0)\n",
    "\n",
    "sim_data = get_sim_data_indirect(mechanism,env,Δt)\n",
    "\n",
    "# traj_sim = Bilevel.simulate(sim_data,feedforward_ctrl!,x0,N)\n",
    "traj_sim = Bilevel.simulate(sim_data,feedback_ctrl!,x0,N)"
   ]
  },
  {
   "cell_type": "code",
   "execution_count": null,
   "metadata": {},
   "outputs": [],
   "source": [
    "setanimation!(mvis, traj_sim[6], traj_sim[1])"
   ]
  },
  {
   "cell_type": "markdown",
   "metadata": {},
   "source": [
    "# Generating data with controller"
   ]
  },
  {
   "cell_type": "code",
   "execution_count": null,
   "metadata": {},
   "outputs": [],
   "source": [
    "Δt = 0.02\n",
    "N = 100\n",
    "\n",
    "μ_floor = .1\n",
    "μ_box = .05\n",
    "\n",
    "urdf = joinpath(\"..\", \"urdf\", \"panda\", \"panda_arm_box.urdf\")\n",
    "mechanism = parse_urdf(Float64, urdf)\n",
    "\n",
    "floor = findbody(mechanism, \"floor\")\n",
    "point = Point3D(default_frame(floor), SVector([0.,0.,0.]...))\n",
    "normal = FreeVector3D(default_frame(floor), SVector([0.,0.,1.]...))\n",
    "floor_obs = Obstacle(floor, point, normal, :xyz, μ_floor)\n",
    "\n",
    "box = findbody(mechanism, \"box\")\n",
    "point = Point3D(default_frame(box), SVector([-.25,0.,.25]...))\n",
    "normal = FreeVector3D(default_frame(box), SVector([-1.,0.,0.]...))\n",
    "box_obs = Obstacle(box, point, normal, :xyz, μ_box)\n",
    "\n",
    "obstacles = [floor_obs, box_obs]\n",
    "env = Environment(mechanism, urdf, obstacles);"
   ]
  },
  {
   "cell_type": "code",
   "execution_count": null,
   "metadata": {},
   "outputs": [],
   "source": [
    "mvis = MechanismVisualizer(mechanism, URDFVisuals(urdf))\n",
    "open(mvis)"
   ]
  },
  {
   "cell_type": "code",
   "execution_count": null,
   "metadata": {},
   "outputs": [],
   "source": [
    "# same feedback but ignoring the box state\n",
    "function feedback_ctrl!(u,t,x)\n",
    "    Kp = 5.\n",
    "    Kd = 1.\n",
    "    \n",
    "    q = configuration(x)[8:end]\n",
    "    v = velocity(x)[7:end]\n",
    "    i = min(max(1,searchsortedfirst(traj[7], t)),length(traj[3]))\n",
    "    \n",
    "    q_nom = traj[1][i+1]\n",
    "    v_nom = traj[2][i+1]\n",
    "    u_nom = traj[3][i]\n",
    "    u[7:end] .= u_nom + Kd*(v - v_nom) + Kp*(q - q_nom)\n",
    "end"
   ]
  },
  {
   "cell_type": "code",
   "execution_count": null,
   "metadata": {},
   "outputs": [],
   "source": [
    "x0 = MechanismState(mechanism)\n",
    "set_configuration!(x0,vcat([1.,0.,0.,0.,.8,0.,.275],traj[1][1]))\n",
    "set_velocity!(x0,vcat([0.,0.,0.,0.,0.,0.],traj[2][1]))\n",
    "setdirty!(x0)\n",
    "\n",
    "sim_data = get_sim_data_indirect(mechanism,env,Δt)\n",
    "\n",
    "traj_sim = Bilevel.simulate(sim_data,feedback_ctrl!,x0,N+10)"
   ]
  },
  {
   "cell_type": "code",
   "execution_count": null,
   "metadata": {},
   "outputs": [],
   "source": [
    "setanimation!(mvis, traj_sim[6], traj_sim[1])"
   ]
  },
  {
   "cell_type": "markdown",
   "metadata": {},
   "source": [
    "# Generating simpler data with just the cube initial velocity"
   ]
  },
  {
   "cell_type": "code",
   "execution_count": 186,
   "metadata": {},
   "outputs": [],
   "source": [
    "μ_floor = 10.\n",
    "\n",
    "# urdf = joinpath(\"..\", \"urdf\", \"box.urdf\")\n",
    "urdf = joinpath(\"..\", \"urdf\", \"ball.urdf\")\n",
    "mechanism = parse_urdf(Float64, urdf)\n",
    "\n",
    "floor = findbody(mechanism, \"floor\")\n",
    "point = Point3D(default_frame(floor), SVector([0.,0.,0.]...))\n",
    "normal = FreeVector3D(default_frame(floor), SVector([0.,0.,1.]...))\n",
    "floor_obs = Obstacle(floor, point, normal, :xyz, μ_floor)\n",
    "\n",
    "obstacles = [floor_obs]\n",
    "env = Environment(mechanism, urdf, obstacles);"
   ]
  },
  {
   "cell_type": "code",
   "execution_count": 187,
   "metadata": {},
   "outputs": [
    {
     "name": "stderr",
     "output_type": "stream",
     "text": [
      "┌ Info: Serving MeshCat visualizer at http://127.0.0.1:8702\n",
      "└ @ MeshCat /home/blandry/.julia/packages/MeshCat/WlA0B/src/servers.jl:24\n"
     ]
    },
    {
     "data": {
      "text/plain": [
       "Process(`\u001b[4mxdg-open\u001b[24m \u001b[4mhttp://127.0.0.1:8702\u001b[24m`, ProcessExited(0))"
      ]
     },
     "execution_count": 187,
     "metadata": {},
     "output_type": "execute_result"
    },
    {
     "name": "stdout",
     "output_type": "stream",
     "text": [
      "Created new window in existing browser session.\n"
     ]
    },
    {
     "name": "stderr",
     "output_type": "stream",
     "text": [
      "Error handling websocket connection:\n",
      "\u001b[91mWebSockets.WebSocketClosedError(\"ws|server respond to OPCODE_CLOSE 1001:Going Away\")\u001b[39m\n",
      "Stacktrace:\n",
      " [1] \u001b[1mtry_yieldto\u001b[22m\u001b[1m(\u001b[22m::typeof(Base.ensure_rescheduled), ::Base.RefValue{Task}\u001b[1m)\u001b[22m at \u001b[1m./event.jl:196\u001b[22m\n",
      " [2] \u001b[1mwait\u001b[22m\u001b[1m(\u001b[22m\u001b[1m)\u001b[22m at \u001b[1m./event.jl:255\u001b[22m\n",
      " [3] \u001b[1mwait\u001b[22m\u001b[1m(\u001b[22m::Condition\u001b[1m)\u001b[22m at \u001b[1m./event.jl:46\u001b[22m\n",
      " [4] \u001b[1mwait\u001b[22m\u001b[1m(\u001b[22m::Task\u001b[1m)\u001b[22m at \u001b[1m./task.jl:188\u001b[22m\n",
      " [5] \u001b[1mcreate_socket\u001b[22m\u001b[1m(\u001b[22m::Dict{Any,Any}\u001b[1m)\u001b[22m at \u001b[1m/home/blandry/.julia/packages/WebIO/Rk8wc/src/providers/mux.jl:44\u001b[22m\n",
      " [6] \u001b[1m(::getfield(Mux, Symbol(\"##5#6\")){getfield(Mux, Symbol(\"##28#29\")){Array{SubString{String},1}},typeof(WebIO.create_socket)})\u001b[22m\u001b[1m(\u001b[22m::Function, ::Dict{Any,Any}\u001b[1m)\u001b[22m at \u001b[1m/home/blandry/.julia/packages/Mux/FeATY/src/Mux.jl:17\u001b[22m\n",
      " [7] \u001b[1m#1\u001b[22m at \u001b[1m/home/blandry/.julia/packages/Mux/FeATY/src/Mux.jl:10\u001b[22m [inlined]\n",
      " [8] \u001b[1msplitquery\u001b[22m\u001b[1m(\u001b[22m::getfield(Mux, Symbol(\"##1#2\")){getfield(Mux, Symbol(\"##5#6\")){getfield(Mux, Symbol(\"##28#29\")){Array{SubString{String},1}},typeof(WebIO.create_socket)},getfield(Mux, Symbol(\"##1#2\")){typeof(Mux.wclose),getfield(Mux, Symbol(\"##1#2\")){getfield(Mux, Symbol(\"##18#19\")){getfield(Mux, Symbol(\"##22#23\")){Symbol,Int64}},getfield(Mux, Symbol(\"##20#21\")){String}}}}, ::Dict{Any,Any}\u001b[1m)\u001b[22m at \u001b[1m/home/blandry/.julia/packages/Mux/FeATY/src/basics.jl:34\u001b[22m\n",
      " [9] \u001b[1m#1\u001b[22m at \u001b[1m/home/blandry/.julia/packages/Mux/FeATY/src/Mux.jl:10\u001b[22m [inlined]\n",
      " [10] \u001b[1mwcatch\u001b[22m\u001b[1m(\u001b[22m::getfield(Mux, Symbol(\"##1#2\")){typeof(Mux.splitquery),getfield(Mux, Symbol(\"##1#2\")){getfield(Mux, Symbol(\"##5#6\")){getfield(Mux, Symbol(\"##28#29\")){Array{SubString{String},1}},typeof(WebIO.create_socket)},getfield(Mux, Symbol(\"##1#2\")){typeof(Mux.wclose),getfield(Mux, Symbol(\"##1#2\")){getfield(Mux, Symbol(\"##18#19\")){getfield(Mux, Symbol(\"##22#23\")){Symbol,Int64}},getfield(Mux, Symbol(\"##20#21\")){String}}}}}, ::Dict{Any,Any}\u001b[1m)\u001b[22m at \u001b[1m/home/blandry/.julia/packages/Mux/FeATY/src/websockets_integration.jl:12\u001b[22m\n",
      " [11] \u001b[1m#1\u001b[22m at \u001b[1m/home/blandry/.julia/packages/Mux/FeATY/src/Mux.jl:10\u001b[22m [inlined]\n",
      " [12] \u001b[1mtodict\u001b[22m at \u001b[1m/home/blandry/.julia/packages/Mux/FeATY/src/basics.jl:25\u001b[22m [inlined]\n",
      " [13] \u001b[1m#3\u001b[22m at \u001b[1m/home/blandry/.julia/packages/Mux/FeATY/src/Mux.jl:14\u001b[22m [inlined] (repeats 2 times)\n",
      " [14] \u001b[1m(::getfield(Mux, Symbol(\"##1#2\")){getfield(Mux, Symbol(\"##3#4\")){getfield(Mux, Symbol(\"##3#4\")){typeof(Mux.todict),typeof(Mux.wcatch)},typeof(Mux.splitquery)},getfield(Mux, Symbol(\"##1#2\")){getfield(Mux, Symbol(\"##5#6\")){getfield(Mux, Symbol(\"##28#29\")){Array{SubString{String},1}},typeof(WebIO.create_socket)},getfield(Mux, Symbol(\"##1#2\")){typeof(Mux.wclose),getfield(Mux, Symbol(\"##1#2\")){getfield(Mux, Symbol(\"##18#19\")){getfield(Mux, Symbol(\"##22#23\")){Symbol,Int64}},getfield(Mux, Symbol(\"##20#21\")){String}}}}})\u001b[22m\u001b[1m(\u001b[22m::Tuple{HTTP.Messages.Request,WebSockets.WebSocket{Sockets.TCPSocket}}\u001b[1m)\u001b[22m at \u001b[1m/home/blandry/.julia/packages/Mux/FeATY/src/Mux.jl:10\u001b[22m\n",
      " [15] \u001b[1m(::getfield(Mux, Symbol(\"##9#10\")){Mux.App})\u001b[22m\u001b[1m(\u001b[22m::HTTP.Messages.Request, ::WebSockets.WebSocket{Sockets.TCPSocket}\u001b[1m)\u001b[22m at \u001b[1m/home/blandry/.julia/packages/Mux/FeATY/src/server.jl:49\u001b[22m\n",
      " [16] \u001b[1mupgrade\u001b[22m\u001b[1m(\u001b[22m::getfield(Mux, Symbol(\"##9#10\")){Mux.App}, ::HTTP.Streams.Stream{HTTP.Messages.Request,HTTP.ConnectionPool.Transaction{Sockets.TCPSocket}}\u001b[1m)\u001b[22m at \u001b[1m/home/blandry/.julia/packages/WebSockets/pc4iW/src/HTTP.jl:201\u001b[22m\n",
      " [17] \u001b[1m(::getfield(WebSockets, Symbol(\"#_servercoroutine#11\")){WebSockets.ServerWS})\u001b[22m\u001b[1m(\u001b[22m::HTTP.Streams.Stream{HTTP.Messages.Request,HTTP.ConnectionPool.Transaction{Sockets.TCPSocket}}\u001b[1m)\u001b[22m at \u001b[1m/home/blandry/.julia/packages/WebSockets/pc4iW/src/HTTP.jl:370\u001b[22m\n",
      " [18] \u001b[1mmacro expansion\u001b[22m at \u001b[1m/home/blandry/.julia/packages/HTTP/GN0Te/src/Servers.jl:352\u001b[22m [inlined]\n",
      " [19] \u001b[1m(::getfield(HTTP.Servers, Symbol(\"##13#14\")){getfield(WebSockets, Symbol(\"#_servercoroutine#11\")){WebSockets.ServerWS},HTTP.ConnectionPool.Transaction{Sockets.TCPSocket},HTTP.Streams.Stream{HTTP.Messages.Request,HTTP.ConnectionPool.Transaction{Sockets.TCPSocket}}})\u001b[22m\u001b[1m(\u001b[22m\u001b[1m)\u001b[22m at \u001b[1m./task.jl:259\u001b[22m"
     ]
    }
   ],
   "source": [
    "mvis = MechanismVisualizer(mechanism, URDFVisuals(urdf))\n",
    "open(mvis)"
   ]
  },
  {
   "cell_type": "code",
   "execution_count": 207,
   "metadata": {},
   "outputs": [
    {
     "data": {
      "text/plain": [
       "(Array{Float64,1}[[1.0, 0.0, 0.0, 0.0, 0.0, 0.0, 0.0], [1.0, 0.0, -1.17874e-13, 4.16423e-14, 0.09019, -3.92428e-15, 0.0], [1.0, 0.0, -0.000474572, 4.16423e-14, 0.170662, -3.92428e-15, 0.0], [0.999998, 0.0, -0.0014156, 4.16423e-14, 0.241505, -3.92428e-15, 0.0], [0.999995, 0.0, -0.00281568, 4.16423e-14, 0.302805, -3.92428e-15, 0.0], [0.999986, 0.0, -0.00466776, 4.16423e-14, 0.354645, -3.92428e-15, 0.0], [0.99997, 0.0, -0.00696482, 4.16423e-14, 0.397106, -3.92428e-15, 0.0], [0.999944, 0.0, -0.00961267, 4.16423e-14, 0.430248, -3.92428e-15, 0.0], [0.999911, 0.0, -0.0123242, 4.16423e-14, 0.454084, -3.92428e-15, 8.86768e-8], [0.99987, 0.0, -0.015039, 4.16423e-14, 0.468615, -3.92428e-15, 1.0338e-7]  …  [0.994875, 9.33789e-14, -0.0997864, 3.26327e-14, 0.473844, 1.14101e-26, 0.0], [0.994594, 9.33789e-14, -0.102511, 3.26327e-14, 0.473844, 1.14101e-26, 0.0], [0.994306, 9.33789e-14, -0.105235, 3.26327e-14, 0.473844, 1.14101e-26, 0.0], [0.99401, 9.33789e-14, -0.107957, 3.26327e-14, 0.473844, 1.14101e-26, 0.0], [0.993707, 9.33789e-14, -0.110679, 3.26327e-14, 0.473844, 1.14101e-26, 0.0], [0.993397, 9.33789e-14, -0.1134, 3.26327e-14, 0.473844, 1.14101e-26, 0.0], [0.993079, 9.33789e-14, -0.11612, 3.26327e-14, 0.473844, 1.14101e-26, 0.0], [0.992753, 9.33789e-14, -0.11884, 3.26327e-14, 0.473844, 1.14101e-26, 0.0], [0.99242, 9.33789e-14, -0.121558, 3.26327e-14, 0.473844, 1.14101e-26, 0.0], [0.99208, 9.33789e-14, -0.124275, 3.26327e-14, 0.473844, 1.14101e-26, 0.0]], Array{Float64,1}[[0.0, 0.0, 0.0, 10.0, 0.0, 0.0], [0.0, -2.35746e-11, -6.77626e-21, 9.019, -2.55289e-16, -2.12622e-12], [0.0, -0.0949144, -6.77626e-21, 8.04722, -2.55289e-16, -0.00763797], [0.0, -0.188206, -6.77626e-21, 7.0843, -2.55289e-16, -0.0200572], [0.0, -0.280018, -6.77626e-21, 6.12993, -2.55289e-16, -0.0345203], [0.0, -0.370421, -6.77626e-21, 5.1838, -2.55289e-16, -0.0483952], [0.0, -0.459425, -6.77626e-21, 4.24565, -2.55289e-16, -0.059145], [0.0, -0.529601, -6.77626e-21, 3.31372, -2.55289e-16, -0.0637188], [0.0, -0.542346, -6.77626e-21, 2.38292, -2.55289e-16, -0.0587402], [0.0, -0.543031, -6.77626e-21, 1.45253, -2.55289e-16, -0.0437033]  …  [8.85935e-12, -0.547885, -7.38808e-12, 7.93726e-6, -2.53416e-13, 4.03027e-5], [8.85935e-12, -0.547872, -7.38808e-12, 2.20924e-7, -2.53416e-13, -4.28807e-8], [8.85935e-12, -0.547858, -7.38808e-12, -8.37777e-6, -2.53416e-13, -4.02103e-5], [8.85935e-12, -0.547844, -7.38808e-12, -2.20414e-7, -2.53416e-13, 4.52934e-8], [8.85935e-12, -0.547831, -7.38808e-12, 8.81623e-6, -2.53416e-13, 4.01087e-5], [8.85935e-12, -0.547817, -7.38808e-12, 2.19853e-7, -2.53416e-13, -4.76945e-8], [8.85935e-12, -0.547803, -7.38808e-12, -9.25451e-6, -2.53416e-13, -4.0007e-5], [8.85935e-12, -0.54779, -7.38808e-12, -2.19291e-7, -2.53416e-13, 5.00946e-8], [8.85935e-12, -0.547776, -7.38808e-12, 9.69043e-6, -2.53416e-13, 3.98957e-5], [8.85935e-12, -0.547762, -7.38808e-12, 2.18677e-7, -2.53416e-13, -5.24815e-8]], Array{Float64,1}[], Array{Float64,1}[[0.0, 0.0, 0.0, 0.0, 0.0, 0.0], [1.0, 0.0, 0.0, 10.0, 3.55272e-15, 9.019], [0.990598, 0.0, 0.0, 9.90598, 3.55272e-15, 8.04722], [0.981527, 0.0, 0.0, 9.81527, 3.55272e-15, 7.08432], [0.972759, 0.0, 0.0, 9.72759, 3.55272e-15, 6.13001], [0.964278, 0.0, 0.0, 9.64278, 3.55272e-15, 5.18399], [0.95607, 0.0, 0.0, 9.5607, 3.55272e-15, 4.24602], [0.949715, 0.0, 0.0, 9.49715, 3.55272e-15, 3.31427], [0.948654, 0.0, 0.0, 9.48654, 3.55272e-15, 2.38358], [0.948418, 0.0, 0.0, 9.48418, 3.55272e-15, 1.45314]  …  [1.00042, 2.67933, 0.0, 2.67934, 0.0, -3.81304e-22], [0.999581, 2.67933, 0.0, 2.67933, 0.0, -3.81304e-22], [0.999581, 2.67933, 0.0, 2.67933, 0.0, -3.81304e-22], [1.00042, 2.67933, 0.0, 2.67933, 0.0, -3.81304e-22], [1.00042, 2.67933, 0.0, 2.67933, 0.0, -3.81304e-22], [0.999582, 2.67933, 0.0, 2.67933, 0.0, -3.81304e-22], [0.999582, 2.67933, 0.0, 2.67933, 0.0, -3.81304e-22], [1.00042, 2.67932, 0.0, 2.67933, 0.0, -3.81304e-22], [1.00042, 2.67932, 0.0, 2.67933, 0.0, -3.81304e-22], [0.999582, 2.67932, 0.0, 2.67932, 0.0, -3.81304e-22]], Array{Float64,1}[], [0.0, 0.01, 0.02, 0.03, 0.04, 0.05, 0.06, 0.07, 0.08, 0.09  …  0.4, 0.41, 0.42, 0.43, 0.44, 0.45, 0.46, 0.47, 0.48, 0.49], [1.0 1.0 … 0.99242 0.99208; 0.0 0.0 … 9.33789e-14 9.33789e-14; … ; 0.0 -2.55289e-16 … -2.53416e-13 -2.53416e-13; 0.0 -2.12622e-12 … 3.98957e-5 -5.24815e-8])"
      ]
     },
     "execution_count": 207,
     "metadata": {},
     "output_type": "execute_result"
    }
   ],
   "source": [
    "Δt = 0.01\n",
    "N = 50\n",
    "\n",
    "x0 = MechanismState(mechanism)\n",
    "set_configuration!(x0,[1.,0.,0.,0.,0.,0.,0.])\n",
    "set_velocity!(x0,[0.,0.,0.,10.,0.,0.])\n",
    "setdirty!(x0)\n",
    "\n",
    "sim_data = get_sim_data_indirect(mechanism,env,Δt)\n",
    "# sim_data = get_sim_data_direct(mechanism,env,Δt)\n",
    "\n",
    "null_ctrl! = (u,t,x) -> u[:] .= 0.\n",
    "traj_sim = Bilevel.simulate(sim_data,null_ctrl!,x0,N)"
   ]
  },
  {
   "cell_type": "code",
   "execution_count": 208,
   "metadata": {},
   "outputs": [],
   "source": [
    "setanimation!(mvis, traj_sim[6], traj_sim[1])"
   ]
  },
  {
   "cell_type": "code",
   "execution_count": 209,
   "metadata": {},
   "outputs": [
    {
     "data": {
      "image/svg+xml": [
       "<?xml version=\"1.0\" encoding=\"utf-8\"?>\n",
       "<svg xmlns=\"http://www.w3.org/2000/svg\" xmlns:xlink=\"http://www.w3.org/1999/xlink\" width=\"600\" height=\"400\" viewBox=\"0 0 2400 1600\">\n",
       "<defs>\n",
       "  <clipPath id=\"clip0600\">\n",
       "    <rect x=\"0\" y=\"0\" width=\"2400\" height=\"1600\"/>\n",
       "  </clipPath>\n",
       "</defs>\n",
       "<polygon clip-path=\"url(#clip0600)\" points=\"\n",
       "0,1600 2400,1600 2400,0 0,0 \n",
       "  \" fill=\"#ffffff\" fill-rule=\"evenodd\" fill-opacity=\"1\"/>\n",
       "<defs>\n",
       "  <clipPath id=\"clip0601\">\n",
       "    <rect x=\"480\" y=\"0\" width=\"1681\" height=\"1600\"/>\n",
       "  </clipPath>\n",
       "</defs>\n",
       "<polygon clip-path=\"url(#clip0600)\" points=\"\n",
       "180.66,1487.47 2352.76,1487.47 2352.76,47.2441 180.66,47.2441 \n",
       "  \" fill=\"#ffffff\" fill-rule=\"evenodd\" fill-opacity=\"1\"/>\n",
       "<defs>\n",
       "  <clipPath id=\"clip0602\">\n",
       "    <rect x=\"180\" y=\"47\" width=\"2173\" height=\"1441\"/>\n",
       "  </clipPath>\n",
       "</defs>\n",
       "<polyline clip-path=\"url(#clip0602)\" style=\"stroke:#000000; stroke-width:2; stroke-opacity:0.1; fill:none\" points=\"\n",
       "  200.315,1487.47 200.315,47.2441 \n",
       "  \"/>\n",
       "<polyline clip-path=\"url(#clip0602)\" style=\"stroke:#000000; stroke-width:2; stroke-opacity:0.1; fill:none\" points=\"\n",
       "  618.509,1487.47 618.509,47.2441 \n",
       "  \"/>\n",
       "<polyline clip-path=\"url(#clip0602)\" style=\"stroke:#000000; stroke-width:2; stroke-opacity:0.1; fill:none\" points=\"\n",
       "  1036.7,1487.47 1036.7,47.2441 \n",
       "  \"/>\n",
       "<polyline clip-path=\"url(#clip0602)\" style=\"stroke:#000000; stroke-width:2; stroke-opacity:0.1; fill:none\" points=\"\n",
       "  1454.9,1487.47 1454.9,47.2441 \n",
       "  \"/>\n",
       "<polyline clip-path=\"url(#clip0602)\" style=\"stroke:#000000; stroke-width:2; stroke-opacity:0.1; fill:none\" points=\"\n",
       "  1873.09,1487.47 1873.09,47.2441 \n",
       "  \"/>\n",
       "<polyline clip-path=\"url(#clip0602)\" style=\"stroke:#000000; stroke-width:2; stroke-opacity:0.1; fill:none\" points=\"\n",
       "  2291.28,1487.47 2291.28,47.2441 \n",
       "  \"/>\n",
       "<polyline clip-path=\"url(#clip0602)\" style=\"stroke:#000000; stroke-width:2; stroke-opacity:0.1; fill:none\" points=\"\n",
       "  180.66,1446.71 2352.76,1446.71 \n",
       "  \"/>\n",
       "<polyline clip-path=\"url(#clip0602)\" style=\"stroke:#000000; stroke-width:2; stroke-opacity:0.1; fill:none\" points=\"\n",
       "  180.66,1107.04 2352.76,1107.04 \n",
       "  \"/>\n",
       "<polyline clip-path=\"url(#clip0602)\" style=\"stroke:#000000; stroke-width:2; stroke-opacity:0.1; fill:none\" points=\"\n",
       "  180.66,767.359 2352.76,767.359 \n",
       "  \"/>\n",
       "<polyline clip-path=\"url(#clip0602)\" style=\"stroke:#000000; stroke-width:2; stroke-opacity:0.1; fill:none\" points=\"\n",
       "  180.66,427.682 2352.76,427.682 \n",
       "  \"/>\n",
       "<polyline clip-path=\"url(#clip0602)\" style=\"stroke:#000000; stroke-width:2; stroke-opacity:0.1; fill:none\" points=\"\n",
       "  180.66,88.0053 2352.76,88.0053 \n",
       "  \"/>\n",
       "<polyline clip-path=\"url(#clip0600)\" style=\"stroke:#000000; stroke-width:4; stroke-opacity:1; fill:none\" points=\"\n",
       "  180.66,1487.47 2352.76,1487.47 \n",
       "  \"/>\n",
       "<polyline clip-path=\"url(#clip0600)\" style=\"stroke:#000000; stroke-width:4; stroke-opacity:1; fill:none\" points=\"\n",
       "  180.66,1487.47 180.66,47.2441 \n",
       "  \"/>\n",
       "<polyline clip-path=\"url(#clip0600)\" style=\"stroke:#000000; stroke-width:4; stroke-opacity:1; fill:none\" points=\"\n",
       "  200.315,1487.47 200.315,1465.87 \n",
       "  \"/>\n",
       "<polyline clip-path=\"url(#clip0600)\" style=\"stroke:#000000; stroke-width:4; stroke-opacity:1; fill:none\" points=\"\n",
       "  618.509,1487.47 618.509,1465.87 \n",
       "  \"/>\n",
       "<polyline clip-path=\"url(#clip0600)\" style=\"stroke:#000000; stroke-width:4; stroke-opacity:1; fill:none\" points=\"\n",
       "  1036.7,1487.47 1036.7,1465.87 \n",
       "  \"/>\n",
       "<polyline clip-path=\"url(#clip0600)\" style=\"stroke:#000000; stroke-width:4; stroke-opacity:1; fill:none\" points=\"\n",
       "  1454.9,1487.47 1454.9,1465.87 \n",
       "  \"/>\n",
       "<polyline clip-path=\"url(#clip0600)\" style=\"stroke:#000000; stroke-width:4; stroke-opacity:1; fill:none\" points=\"\n",
       "  1873.09,1487.47 1873.09,1465.87 \n",
       "  \"/>\n",
       "<polyline clip-path=\"url(#clip0600)\" style=\"stroke:#000000; stroke-width:4; stroke-opacity:1; fill:none\" points=\"\n",
       "  2291.28,1487.47 2291.28,1465.87 \n",
       "  \"/>\n",
       "<polyline clip-path=\"url(#clip0600)\" style=\"stroke:#000000; stroke-width:4; stroke-opacity:1; fill:none\" points=\"\n",
       "  180.66,1446.71 213.242,1446.71 \n",
       "  \"/>\n",
       "<polyline clip-path=\"url(#clip0600)\" style=\"stroke:#000000; stroke-width:4; stroke-opacity:1; fill:none\" points=\"\n",
       "  180.66,1107.04 213.242,1107.04 \n",
       "  \"/>\n",
       "<polyline clip-path=\"url(#clip0600)\" style=\"stroke:#000000; stroke-width:4; stroke-opacity:1; fill:none\" points=\"\n",
       "  180.66,767.359 213.242,767.359 \n",
       "  \"/>\n",
       "<polyline clip-path=\"url(#clip0600)\" style=\"stroke:#000000; stroke-width:4; stroke-opacity:1; fill:none\" points=\"\n",
       "  180.66,427.682 213.242,427.682 \n",
       "  \"/>\n",
       "<polyline clip-path=\"url(#clip0600)\" style=\"stroke:#000000; stroke-width:4; stroke-opacity:1; fill:none\" points=\"\n",
       "  180.66,88.0053 213.242,88.0053 \n",
       "  \"/>\n",
       "<g clip-path=\"url(#clip0600)\">\n",
       "<text style=\"fill:#000000; fill-opacity:1; font-family:Arial,Helvetica Neue,Helvetica,sans-serif; font-size:48px; text-anchor:middle;\" transform=\"rotate(0, 200.315, 1541.47)\" x=\"200.315\" y=\"1541.47\">0</text>\n",
       "</g>\n",
       "<g clip-path=\"url(#clip0600)\">\n",
       "<text style=\"fill:#000000; fill-opacity:1; font-family:Arial,Helvetica Neue,Helvetica,sans-serif; font-size:48px; text-anchor:middle;\" transform=\"rotate(0, 618.509, 1541.47)\" x=\"618.509\" y=\"1541.47\">10</text>\n",
       "</g>\n",
       "<g clip-path=\"url(#clip0600)\">\n",
       "<text style=\"fill:#000000; fill-opacity:1; font-family:Arial,Helvetica Neue,Helvetica,sans-serif; font-size:48px; text-anchor:middle;\" transform=\"rotate(0, 1036.7, 1541.47)\" x=\"1036.7\" y=\"1541.47\">20</text>\n",
       "</g>\n",
       "<g clip-path=\"url(#clip0600)\">\n",
       "<text style=\"fill:#000000; fill-opacity:1; font-family:Arial,Helvetica Neue,Helvetica,sans-serif; font-size:48px; text-anchor:middle;\" transform=\"rotate(0, 1454.9, 1541.47)\" x=\"1454.9\" y=\"1541.47\">30</text>\n",
       "</g>\n",
       "<g clip-path=\"url(#clip0600)\">\n",
       "<text style=\"fill:#000000; fill-opacity:1; font-family:Arial,Helvetica Neue,Helvetica,sans-serif; font-size:48px; text-anchor:middle;\" transform=\"rotate(0, 1873.09, 1541.47)\" x=\"1873.09\" y=\"1541.47\">40</text>\n",
       "</g>\n",
       "<g clip-path=\"url(#clip0600)\">\n",
       "<text style=\"fill:#000000; fill-opacity:1; font-family:Arial,Helvetica Neue,Helvetica,sans-serif; font-size:48px; text-anchor:middle;\" transform=\"rotate(0, 2291.28, 1541.47)\" x=\"2291.28\" y=\"1541.47\">50</text>\n",
       "</g>\n",
       "<g clip-path=\"url(#clip0600)\">\n",
       "<text style=\"fill:#000000; fill-opacity:1; font-family:Arial,Helvetica Neue,Helvetica,sans-serif; font-size:48px; text-anchor:end;\" transform=\"rotate(0, 156.66, 1464.21)\" x=\"156.66\" y=\"1464.21\">0.0</text>\n",
       "</g>\n",
       "<g clip-path=\"url(#clip0600)\">\n",
       "<text style=\"fill:#000000; fill-opacity:1; font-family:Arial,Helvetica Neue,Helvetica,sans-serif; font-size:48px; text-anchor:end;\" transform=\"rotate(0, 156.66, 1124.54)\" x=\"156.66\" y=\"1124.54\">2.5</text>\n",
       "</g>\n",
       "<g clip-path=\"url(#clip0600)\">\n",
       "<text style=\"fill:#000000; fill-opacity:1; font-family:Arial,Helvetica Neue,Helvetica,sans-serif; font-size:48px; text-anchor:end;\" transform=\"rotate(0, 156.66, 784.859)\" x=\"156.66\" y=\"784.859\">5.0</text>\n",
       "</g>\n",
       "<g clip-path=\"url(#clip0600)\">\n",
       "<text style=\"fill:#000000; fill-opacity:1; font-family:Arial,Helvetica Neue,Helvetica,sans-serif; font-size:48px; text-anchor:end;\" transform=\"rotate(0, 156.66, 445.182)\" x=\"156.66\" y=\"445.182\">7.5</text>\n",
       "</g>\n",
       "<g clip-path=\"url(#clip0600)\">\n",
       "<text style=\"fill:#000000; fill-opacity:1; font-family:Arial,Helvetica Neue,Helvetica,sans-serif; font-size:48px; text-anchor:end;\" transform=\"rotate(0, 156.66, 105.505)\" x=\"156.66\" y=\"105.505\">10.0</text>\n",
       "</g>\n",
       "<polyline clip-path=\"url(#clip0602)\" style=\"stroke:#009af9; stroke-width:4; stroke-opacity:1; fill:none\" points=\"\n",
       "  242.135,88.0053 283.954,221.294 325.773,353.331 367.593,484.163 409.412,613.835 451.231,742.386 493.051,869.852 534.87,996.475 576.689,1122.94 618.509,1249.36 \n",
       "  660.328,1375.71 702.147,1446.71 743.967,1446.71 785.786,1446.71 827.605,1446.71 869.425,1446.71 911.244,1446.71 953.063,1446.71 994.883,1446.71 1036.7,1446.71 \n",
       "  1078.52,1446.71 1120.34,1446.71 1162.16,1446.71 1203.98,1446.71 1245.8,1446.71 1287.62,1446.71 1329.44,1446.71 1371.26,1446.71 1413.08,1446.71 1454.9,1446.71 \n",
       "  1496.71,1446.71 1538.53,1446.71 1580.35,1446.71 1622.17,1446.71 1663.99,1446.71 1705.81,1446.71 1747.63,1446.71 1789.45,1446.71 1831.27,1446.71 1873.09,1446.71 \n",
       "  1914.91,1446.71 1956.73,1446.71 1998.55,1446.71 2040.37,1446.71 2082.18,1446.71 2124,1446.71 2165.82,1446.71 2207.64,1446.71 2249.46,1446.71 2291.28,1446.71 \n",
       "  \n",
       "  \"/>\n",
       "<polygon clip-path=\"url(#clip0600)\" points=\"\n",
       "1989.93,251.724 2280.76,251.724 2280.76,130.764 1989.93,130.764 \n",
       "  \" fill=\"#ffffff\" fill-rule=\"evenodd\" fill-opacity=\"1\"/>\n",
       "<polyline clip-path=\"url(#clip0600)\" style=\"stroke:#000000; stroke-width:4; stroke-opacity:1; fill:none\" points=\"\n",
       "  1989.93,251.724 2280.76,251.724 2280.76,130.764 1989.93,130.764 1989.93,251.724 \n",
       "  \"/>\n",
       "<polyline clip-path=\"url(#clip0600)\" style=\"stroke:#009af9; stroke-width:4; stroke-opacity:1; fill:none\" points=\"\n",
       "  2013.93,191.244 2157.93,191.244 \n",
       "  \"/>\n",
       "<g clip-path=\"url(#clip0600)\">\n",
       "<text style=\"fill:#000000; fill-opacity:1; font-family:Arial,Helvetica Neue,Helvetica,sans-serif; font-size:48px; text-anchor:start;\" transform=\"rotate(0, 2181.93, 208.744)\" x=\"2181.93\" y=\"208.744\">y1</text>\n",
       "</g>\n",
       "</svg>\n"
      ]
     },
     "execution_count": 209,
     "metadata": {},
     "output_type": "execute_result"
    }
   ],
   "source": [
    "plot(traj_sim[7][11,:])"
   ]
  },
  {
   "cell_type": "code",
   "execution_count": 130,
   "metadata": {},
   "outputs": [
    {
     "data": {
      "text/plain": [
       "100-element Array{Array{Float64,1},1}:\n",
       " [0.0, 0.0, 0.0, 0.0, 0.0, 0.0]                         \n",
       " [0.999995, 0.0, 0.0, 0.499998, 0.0, 0.95095]           \n",
       " [0.99999, 0.0, 0.0, 0.499995, 0.0, 0.901901]           \n",
       " [0.999995, 0.0, 0.0, 0.499997, 0.0, 0.852851]          \n",
       " [0.999995, 0.0, 0.0, 0.499997, 0.0, 0.803801]          \n",
       " [0.999995, 0.0, 0.0, 0.499997, 0.0, 0.754752]          \n",
       " [0.999994, 0.0, 0.0, 0.499997, 0.0, 0.705702]          \n",
       " [0.999994, 0.0, 0.0, 0.499997, 0.0, 0.656652]          \n",
       " [0.999994, 0.0, 0.0, 0.499997, 0.0, 0.607602]          \n",
       " [0.999994, 0.0, 0.0, 0.499997, 0.0, 0.558553]          \n",
       " [0.999994, 0.0, 0.0, 0.499997, 0.0, 0.509503]          \n",
       " [0.999994, 0.0, 0.0, 0.499997, 0.0, 0.460453]          \n",
       " [0.999994, 0.0, 0.0, 0.499997, 1.29247e-26, 0.411404]  \n",
       " ⋮                                                      \n",
       " [0.999525, 0.0968713, 0.0, 0.0968713, 0.0, -1.0159e-17]\n",
       " [1.00047, 0.0968713, 0.0, 0.0968713, 0.0, -1.0159e-17] \n",
       " [1.00047, 0.0968713, 0.0, 0.0968713, 0.0, -1.0159e-17] \n",
       " [0.999525, 0.0968713, 0.0, 0.0968713, 0.0, -1.0159e-17]\n",
       " [0.999525, 0.0968713, 0.0, 0.0968713, 0.0, -1.0159e-17]\n",
       " [1.00047, 0.0968713, 0.0, 0.0968713, 0.0, -1.0159e-17] \n",
       " [1.00047, 0.0968713, 0.0, 0.0968713, 0.0, -1.0159e-17] \n",
       " [0.999525, 0.0968713, 0.0, 0.0968713, 0.0, -1.0159e-17]\n",
       " [0.999525, 0.0968713, 0.0, 0.0968713, 0.0, -1.0159e-17]\n",
       " [1.00047, 0.0968713, 0.0, 0.0968713, 0.0, -1.0159e-17] \n",
       " [1.00047, 0.0968713, 0.0, 0.0968713, 0.0, -1.0159e-17] \n",
       " [0.999525, 0.0968713, 0.0, 0.0968713, 0.0, -1.0159e-17]"
      ]
     },
     "execution_count": 130,
     "metadata": {},
     "output_type": "execute_result"
    }
   ],
   "source": [
    "traj_sim[4]"
   ]
  },
  {
   "cell_type": "markdown",
   "metadata": {},
   "source": [
    "# Estimating the parameters"
   ]
  },
  {
   "cell_type": "markdown",
   "metadata": {},
   "source": [
    "## Bilevel"
   ]
  },
  {
   "cell_type": "code",
   "execution_count": 12,
   "metadata": {},
   "outputs": [
    {
     "data": {
      "text/plain": [
       "get_estimation_data_direct (generic function with 1 method)"
      ]
     },
     "execution_count": 12,
     "metadata": {},
     "output_type": "execute_result"
    }
   ],
   "source": [
    "function get_estimation_data_direct(mechanism::Mechanism,env::Environment)\n",
    "    vs = VariableSelector()\n",
    "\n",
    "    add_var!(vs, :q0, num_positions(mechanism))\n",
    "    add_var!(vs, :v0, num_velocities(mechanism))\n",
    "    add_var!(vs, :u0, num_velocities(mechanism))\n",
    "    add_var!(vs, :qnext, num_positions(mechanism))\n",
    "    add_var!(vs, :vnext, num_velocities(mechanism))\n",
    "    add_var!(vs, :h, 1)\n",
    "    \n",
    "    cs = ConstraintSelector()\n",
    "    \n",
    "    add_ineq!(cs, :μ_pos, 1)\n",
    "\n",
    "    state_cache = [StateCache(mechanism) for n = 1:2]\n",
    "    envj_cache = [EnvironmentJacobianCache(env) for n = 1:2]\n",
    "\n",
    "    generate_solver_fn = :generate_solver_fn_estimation_direct\n",
    "    extract_sol = :nothing\n",
    "\n",
    "    n_options = Dict{String, Any}()\n",
    "    n_options[\"num_fosteps\"] = 2\n",
    "    n_options[\"num_sosteps\"] = 25\n",
    "    n_options[\"c\"] = 1.\n",
    "    n_options[\"c_fos\"] = 1.\n",
    "    n_options[\"c_sos\"] = 1.\n",
    "    n_options[\"ls_method\"] = :svd\n",
    "\n",
    "    f_options = Dict{String, Any}()\n",
    "    f_options[\"num_fosteps\"] = 1\n",
    "    f_options[\"num_sosteps\"] = 15\n",
    "    f_options[\"c\"] = 1.\n",
    "    f_options[\"c_fos\"] = 1.\n",
    "    f_options[\"c_sos\"] = 1.\n",
    "    \n",
    "    n_vs = VariableSelector()\n",
    "    for i = 1:length(env.contacts)\n",
    "        add_var!(n_vs, Symbol(\"c_n\", i), 1)\n",
    "    end\n",
    "\n",
    "    n_cs = ConstraintSelector()\n",
    "    for i = 1:length(env.contacts)\n",
    "        add_ineq!(n_cs, Symbol(\"c_n_pos\", i), 1)\n",
    "        add_ineq!(n_cs, Symbol(\"ϕ\", i), 1)\n",
    "    end\n",
    "\n",
    "    f_vs = VariableSelector()\n",
    "    for i = 1:length(env.contacts)\n",
    "        β_dim = size(env.contacts[i].obstacle.basis,2)\n",
    "        add_var!(f_vs, Symbol(\"β\", i), β_dim)\n",
    "    end\n",
    "\n",
    "    f_cs = ConstraintSelector()\n",
    "    for i = 1:length(env.contacts)\n",
    "        β_dim = size(env.contacts[i].obstacle.basis,2)\n",
    "        add_ineq!(f_cs, Symbol(\"β_pos\", i), β_dim)\n",
    "        add_ineq!(f_cs, Symbol(\"fric_cone\", i), 1)\n",
    "    end\n",
    "\n",
    "    sim_data = SimData(mechanism,env,\n",
    "                       state_cache,envj_cache,\n",
    "                       0.,vs,cs,generate_solver_fn,extract_sol,\n",
    "                       [],[],[],\n",
    "                       [n_vs],[n_cs],[n_options],\n",
    "                       [f_vs],[f_cs],[f_options],\n",
    "                       0,[],[])\n",
    "\n",
    "    sim_data\n",
    "end"
   ]
  },
  {
   "cell_type": "code",
   "execution_count": 210,
   "metadata": {},
   "outputs": [
    {
     "data": {
      "text/plain": [
       "load_data (generic function with 1 method)"
      ]
     },
     "execution_count": 210,
     "metadata": {},
     "output_type": "execute_result"
    }
   ],
   "source": [
    "function load_data(traj, sim_data)\n",
    "    vs = sim_data.vs\n",
    "    data = []\n",
    "    \n",
    "    for n = 1:10\n",
    "        q0 = traj_sim[1][n]\n",
    "        v0 = traj_sim[2][n]\n",
    "        u0 = zeros(num_velocities(mechanism)) #traj_sim[3][n]\n",
    "        h = traj_sim[6][n+1] - traj_sim[6][n]\n",
    "        qnext = traj_sim[1][n+1]\n",
    "        vnext = traj_sim[2][n+1]\n",
    "        \n",
    "        sample = zeros(vs.num_vars)\n",
    "        sample[vs(:q0)] = q0\n",
    "        sample[vs(:v0)] = v0\n",
    "        sample[vs(:u0)] = u0\n",
    "        sample[vs(:qnext)] = qnext\n",
    "        sample[vs(:vnext)] = vnext\n",
    "        sample[vs(:h)] = [h]\n",
    "        \n",
    "        push!(data, sample)\n",
    "    end\n",
    "    \n",
    "    data\n",
    "end"
   ]
  },
  {
   "cell_type": "code",
   "execution_count": 166,
   "metadata": {},
   "outputs": [
    {
     "data": {
      "text/plain": [
       "generate_solver_fn_estimation_direct (generic function with 1 method)"
      ]
     },
     "execution_count": 166,
     "metadata": {},
     "output_type": "execute_result"
    }
   ],
   "source": [
    "function generate_solver_fn_estimation_direct(sim_data, data)\n",
    "    vs = sim_data.vs\n",
    "    cs = sim_data.cs\n",
    "    num_samples = length(data)\n",
    "    num_vel = num_velocities(mechanism)\n",
    "    \n",
    "    function eval_obj(params::AbstractArray{T}) where T\n",
    "        # set the friction coefficient for the floor\n",
    "        obstacles[1].μ = params[1]\n",
    "        \n",
    "        # evaluate the dynamics residual on each datapoint as an inner problem\n",
    "        losses = Array{T,1}(undef, num_samples)\n",
    "        for i = 1:num_samples # PARRALEL\n",
    "            sample = data[i]\n",
    "            q0 = vs(sample, :q0)\n",
    "            v0 = vs(sample, :v0)\n",
    "            u0 = vs(sample, :u0)\n",
    "            qnext = vs(sample, :qnext)\n",
    "            vnext = vs(sample, :vnext)\n",
    "            h = vs(sample, :h)\n",
    "            \n",
    "            x0 = sim_data.state_cache[1][Float64]\n",
    "            xn = sim_data.state_cache[2][Float64]\n",
    "            envj = sim_data.envj_cache[2][Float64]\n",
    "\n",
    "            set_configuration!(x0, q0)\n",
    "            set_velocity!(x0, v0)\n",
    "            setdirty!(x0)\n",
    "            set_configuration!(xn, qnext)\n",
    "            set_velocity!(xn, vnext)\n",
    "            setdirty!(xn)\n",
    "\n",
    "            H = mass_matrix(x0)\n",
    "            Hi = inv(H)\n",
    "            dyn_bias = dynamics_bias(xn)\n",
    "\n",
    "            Bilevel.contact_jacobian!(envj, xn)\n",
    "            contact_bias = Vector{T}(undef, num_vel)\n",
    "            normal_bias = Vector{T}(undef, num_vel)\n",
    "            \n",
    "            # compute normal forces\n",
    "            x_normal = Bilevel.contact_normal_τ_direct!(normal_bias, sim_data, Hi, envj, dyn_bias, u0, v0, params, 1)\n",
    "                        \n",
    "            # compute friction forces\n",
    "            Bilevel.contact_friction_τ_direct!(contact_bias, sim_data, Hi, envj, dyn_bias, u0, v0, params, x_normal, 1)\n",
    "\n",
    "            dyn_res = H * (vnext - v0) .- h .* (u0 .- dyn_bias .- contact_bias)\n",
    "                        \n",
    "#             losses[i] = (dyn_res' * dyn_res + sum(abs.(dyn_res))) / num_samples\n",
    "#             losses[i] = sum(abs.(dyn_res)) / num_samples\n",
    "            losses[i] = abs.(dyn_res[4])\n",
    "        end\n",
    "        \n",
    "        # add losses\n",
    "        sum(losses)\n",
    "    end\n",
    "\n",
    "    function eval_cons(params::AbstractArray{T}) where T        \n",
    "        # friction coeffs are positive\n",
    "        g = Vector{T}(undef, cs.num_eqs + cs.num_ineqs)\n",
    "\n",
    "        μ = params[1]\n",
    "\n",
    "        g[cs(:μ_pos)] .= 1e-5 - μ\n",
    "        \n",
    "        g\n",
    "    end\n",
    "    \n",
    "    return Bilevel.generate_autodiff_solver_fn(eval_obj,eval_cons,cs.eqs,cs.ineqs,1,hessian=false)\n",
    "end"
   ]
  },
  {
   "cell_type": "code",
   "execution_count": 211,
   "metadata": {},
   "outputs": [
    {
     "data": {
      "text/plain": [
       "1.0e-6"
      ]
     },
     "execution_count": 211,
     "metadata": {},
     "output_type": "execute_result"
    }
   ],
   "source": [
    "estimation_sim_data = get_estimation_data_direct(mechanism, env)\n",
    "estimation_data = load_data(traj_sim, estimation_sim_data)\n",
    "solver_fn = generate_solver_fn_estimation_direct(estimation_sim_data, estimation_data)\n",
    "\n",
    "μ0 = [1.5]\n",
    "options = Dict{String, Any}()\n",
    "options[\"Derivative option\"] = 1\n",
    "options[\"Verify level\"] = -1\n",
    "options[\"Major optimality tolerance\"] = 1e-6\n",
    "\n",
    "# μopt, info = Bilevel.snopt(solver_fn, estimation_sim_data.cs.num_eqs, estimation_sim_data.cs.num_ineqs, μ0, options)"
   ]
  },
  {
   "cell_type": "code",
   "execution_count": 221,
   "metadata": {
    "scrolled": false
   },
   "outputs": [
    {
     "data": {
      "text/plain": [
       "(9.461698836021986, Float64[], [-30.0], [-3.35694e-15], Array{Float64}(0,1), [-1.0], [0.0])"
      ]
     },
     "execution_count": 221,
     "metadata": {},
     "output_type": "execute_result"
    }
   ],
   "source": [
    "obj_sol = solver_fn([30.])"
   ]
  },
  {
   "cell_type": "code",
   "execution_count": 177,
   "metadata": {},
   "outputs": [
    {
     "data": {
      "text/plain": [
       "4.5285997174460135e-12"
      ]
     },
     "execution_count": 177,
     "metadata": {},
     "output_type": "execute_result"
    }
   ],
   "source": [
    "solver_fn([2000.])[1] - obj_sol[1]"
   ]
  },
  {
   "cell_type": "code",
   "execution_count": 185,
   "metadata": {},
   "outputs": [
    {
     "data": {
      "text/plain": [
       "Dual{ForwardDiff.Tag{getfield(Main, Symbol(\"#eval_obj#53\")){SimData,Array{Any,1},VariableSelector,Int64,Int64},Float64}}(Dual{ForwardDiff.Tag{getfield(Main, Symbol(\"#eval_obj#53\")){SimData,Array{Any,1},VariableSelector,Int64,Int64},Float64}}(2000.0,1.0),Dual{ForwardDiff.Tag{getfield(Main, Symbol(\"#eval_obj#53\")){SimData,Array{Any,1},VariableSelector,Int64,Int64},Float64}}(1.0,0.0))"
      ]
     },
     "execution_count": 185,
     "metadata": {},
     "output_type": "execute_result"
    }
   ],
   "source": [
    "obstacles[1].μ"
   ]
  },
  {
   "cell_type": "markdown",
   "metadata": {},
   "source": [
    "## Classical"
   ]
  }
 ],
 "metadata": {
  "kernelspec": {
   "display_name": "Julia 1.1.0",
   "language": "julia",
   "name": "julia-1.1"
  },
  "language_info": {
   "file_extension": ".jl",
   "mimetype": "application/julia",
   "name": "julia",
   "version": "1.1.0"
  }
 },
 "nbformat": 4,
 "nbformat_minor": 2
}
