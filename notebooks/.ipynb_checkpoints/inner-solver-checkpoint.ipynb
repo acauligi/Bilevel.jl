{
 "cells": [
  {
   "cell_type": "code",
   "execution_count": 1,
   "metadata": {},
   "outputs": [],
   "source": [
    "using Revise\n",
    "\n",
    "using RigidBodyDynamics\n",
    "using RigidBodyDynamics: Bounds\n",
    "\n",
    "using Plots\n",
    "using BilevelTrajOpt"
   ]
  },
  {
   "cell_type": "code",
   "execution_count": 2,
   "metadata": {},
   "outputs": [],
   "source": [
    "urdf = joinpath(\"..\", \"urdf\", \"ball.urdf\")\n",
    "mechanism = parse_urdf(Float64, urdf)\n",
    "body = findbody(mechanism, \"ball\")\n",
    "basejoint = joint_to_parent(body, mechanism)\n",
    "floatingjoint = Joint(basejoint.name, frame_before(basejoint), frame_after(basejoint), QuaternionFloating{Float64}())\n",
    "replace_joint!(mechanism, basejoint, floatingjoint)\n",
    "position_bounds(floatingjoint) .= Bounds(-100, 100)\n",
    "velocity_bounds(floatingjoint) .= Bounds(-100, 100)\n",
    "μ = 0.5\n",
    "motion_type = :xyz\n",
    "point = Point3D(default_frame(findbody(mechanism, \"floor\")), [0.,0.,0.])\n",
    "normal = FreeVector3D(default_frame(findbody(mechanism, \"floor\")), [0.,0.,1.])\n",
    "hs = HalfSpace(point, normal)\n",
    "floor = Obstacle(hs, μ, motion_type)\n",
    "obstacles = [floor]\n",
    "env = parse_contacts(mechanism, urdf, obstacles)\n",
    "x0 = MechanismState(mechanism)\n",
    "Δt = 0.005\n",
    "sim_data = get_sim_data(x0,env,Δt,true);"
   ]
  },
  {
   "cell_type": "code",
   "execution_count": 64,
   "metadata": {},
   "outputs": [
    {
     "name": "stdout",
     "output_type": "stream",
     "text": [
      "elapsed time: 0.005019097 seconds\n",
      "elapsed time: 0.004617305 seconds\n",
      "elapsed time: 0.004854205 seconds\n",
      "elapsed time: 0.004526943 seconds\n",
      "elapsed time: 0.004763152 seconds\n",
      "elapsed time: 0.004541691 seconds\n",
      "elapsed time: 0.004544326 seconds\n",
      "elapsed time: 0.004696385 seconds\n",
      "elapsed time: 0.004375736 seconds\n",
      "elapsed time: 0.004627404 seconds\n",
      "elapsed time: 0.004708718 seconds\n",
      "elapsed time: 0.004314711 seconds\n",
      "elapsed time: 0.004390424 seconds\n",
      "elapsed time: 0.004622485 seconds\n"
     ]
    },
    {
     "name": "stderr",
     "output_type": "stream",
     "text": [
      "WARNING: Method definition solve_implicit_contact_τ(Any, Any, Any, Any, Any, Any, Any, Any, Any, Any) in module BilevelTrajOpt at /home/blandry/.julia/v0.6/BilevelTrajOpt/src/contact.jl:141 overwritten at /home/blandry/.julia/v0.6/BilevelTrajOpt/src/contact.jl:141.\n",
      "WARNING: Method definition #solve_implicit_contact_τ(Array{Any, 1}, typeof(BilevelTrajOpt.solve_implicit_contact_τ), Any, Any, Any, Any, Any, Any, Any, Any, Any, Any) in module BilevelTrajOpt overwritten.\n",
      "WARNING: local variable T conflicts with a static parameter in eval_g at /home/blandry/.julia/v0.6/BilevelTrajOpt/src/simulation.jl:111.\n",
      "WARNING: Method definition update_constraints_implicit_contact(Any, Any, Any, Any, Any, Any, Any) in module BilevelTrajOpt at /home/blandry/.julia/v0.6/BilevelTrajOpt/src/simulation.jl:93 overwritten at /home/blandry/.julia/v0.6/BilevelTrajOpt/src/simulation.jl:93.\n"
     ]
    },
    {
     "name": "stdout",
     "output_type": "stream",
     "text": [
      "elapsed time: 0.00458854 seconds\n",
      "elapsed time: 0.005053112 seconds\n",
      "elapsed time: 0.004875835 seconds\n",
      "elapsed time: 0.004867329 seconds\n",
      "elapsed time: 0.0050942 seconds\n",
      "elapsed time: 0.004829287 seconds\n",
      "elapsed time: 0.004816472 seconds\n",
      "elapsed time: 0.004800282 seconds\n",
      "elapsed time: 0.004689321 seconds\n",
      "Solve_Succeeded\n",
      "Not_Enough_Degrees_Of_Freedom"
     ]
    },
    {
     "data": {
      "text/plain": [
       "\"Explicit\""
      ]
     },
     "metadata": {},
     "output_type": "display_data"
    },
    {
     "data": {
      "text/plain": [
       "6-element Array{Float64,1}:\n",
       " 2.34941e-8\n",
       " 2.34941e-8\n",
       " 0.25      \n",
       " 0.25      \n",
       " 0.0877375 \n",
       " 1.0       "
      ]
     },
     "metadata": {},
     "output_type": "display_data"
    },
    {
     "data": {
      "text/plain": [
       "\"IP\""
      ]
     },
     "metadata": {},
     "output_type": "display_data"
    },
    {
     "data": {
      "text/plain": [
       "6-element Array{Float64,1}:\n",
       " 0.0\n",
       " 0.0\n",
       " 0.0\n",
       " 0.0\n",
       " 0.0\n",
       " 0.0"
      ]
     },
     "metadata": {},
     "output_type": "display_data"
    },
    {
     "data": {
      "text/plain": [
       "\"Aug Lag\""
      ]
     },
     "metadata": {},
     "output_type": "display_data"
    },
    {
     "data": {
      "text/plain": [
       "6-element Array{Float64,1}:\n",
       " 7.93053e-9\n",
       " 7.95988e-9\n",
       " 0.25      \n",
       " 0.25      \n",
       " 0.0877375 \n",
       " 1.0       "
      ]
     },
     "metadata": {},
     "output_type": "display_data"
    },
    {
     "data": {
      "text/plain": [
       "\"torques\""
      ]
     },
     "metadata": {},
     "output_type": "display_data"
    },
    {
     "data": {
      "text/plain": [
       "6-element Array{Float64,1}:\n",
       " 0.0\n",
       " 0.0\n",
       " 0.0\n",
       " 0.0\n",
       " 0.0\n",
       " 0.0"
      ]
     },
     "metadata": {},
     "output_type": "display_data"
    },
    {
     "data": {
      "text/plain": [
       "6-element Array{Float64,1}:\n",
       "  0.0   \n",
       "  0.0   \n",
       "  0.0   \n",
       "  2.4525\n",
       "  2.4525\n",
       " -9.81  "
      ]
     },
     "metadata": {},
     "output_type": "display_data"
    },
    {
     "name": "stdout",
     "output_type": "stream",
     "text": [
      "\n"
     ]
    }
   ],
   "source": [
    "q0 = [1., 0., 0., 0., 0., 0., 0.]\n",
    "v0 = [0., 0., 0., 0.1, 0.1, 0.]\n",
    "\n",
    "u0 = zeros(sim_data.num_v)\n",
    "set_configuration!(x0, q0)\n",
    "set_velocity!(x0, v0)\n",
    "setdirty!(x0)\n",
    "ctrl! = (u,t,x) -> u[:] = 0.\n",
    "traj = BilevelTrajOpt.simulate(x0,env,sim_data.Δt,1,ctrl!,implicit_contact=false)\n",
    "qnext = traj[1:sim_data.num_q,2]\n",
    "vnext = traj[sim_data.num_q+1:sim_data.num_q+sim_data.num_v,2]\n",
    "x_sol_exp = traj[sim_data.num_q+sim_data.num_v+2:end,2]\n",
    "\n",
    "# qnext = q0\n",
    "# vnext = v0\n",
    "\n",
    "τ_ip, x_sol_ip, λ_ip, μ_ip, fx_ip = solve_implicit_contact_τ(sim_data,q0,v0,u0,qnext,vnext,ip_method=true);\n",
    "\n",
    "τ_auglag, x_sol_auglag, λ_auglag, μ_auglag, fx_auglag = solve_implicit_contact_τ(sim_data,q0,v0,u0,qnext,vnext,ip_method=false);\n",
    "\n",
    "display(\"Explicit\")\n",
    "display(x_sol_exp)\n",
    "display(\"IP\")\n",
    "display(x_sol_ip)\n",
    "display(\"Aug Lag\")\n",
    "display(x_sol_auglag)\n",
    "\n",
    "display(\"torques\")\n",
    "display(τ_ip)\n",
    "display(τ_auglag)"
   ]
  },
  {
   "cell_type": "code",
   "execution_count": 58,
   "metadata": {},
   "outputs": [
    {
     "data": {
      "text/plain": [
       "6×13 Array{Float64,2}:\n",
       " 0.0  -0.0122564     0.0122564   …    0.999501    0.999502   0.499752  \n",
       " 0.0  -0.0122561     0.0122561        0.999477    0.999477   0.499739  \n",
       " 0.0  -0.0906845     0.0906845      -12.9921      7.39527    3.69764   \n",
       " 0.0  -0.0906842     0.0906842        7.39525   -12.9921     3.69763   \n",
       " 0.0   2.34523e-10  -2.3597e-10       0.5         0.5       -1.45653e-8\n",
       " 0.0  -0.460786      0.460786    …   -3.19788    -3.19788   18.7884    "
      ]
     },
     "execution_count": 58,
     "metadata": {},
     "output_type": "execute_result"
    }
   ],
   "source": [
    "J_auto = ForwardDiff.jacobian(qv -> solve_implicit_contact_τ(sim_data,q0,v0,u0,qv[1:sim_data.num_q],qv[sim_data.num_q+1:sim_data.num_q+sim_data.num_v],ip_method=false)[2], vcat(qnext,vnext))"
   ]
  },
  {
   "cell_type": "code",
   "execution_count": 61,
   "metadata": {},
   "outputs": [
    {
     "data": {
      "text/plain": [
       "6×13 Array{Float64,2}:\n",
       " 0.0  -0.0122564     0.0122564    …    0.999501    0.999502   0.499752  \n",
       " 0.0  -0.0122561     0.0122561         0.999477    0.999477   0.499739  \n",
       " 0.0  -0.0906845     0.0906845       -12.9921      7.39527    3.69764   \n",
       " 0.0  -0.0906842     0.0906842         7.39525   -12.9921     3.69763   \n",
       " 0.0   2.34665e-10  -2.37722e-10       0.5         0.5       -1.44663e-8\n",
       " 0.0  -0.460786      0.460786     …   -3.19788    -3.19788   18.7884    "
      ]
     },
     "metadata": {},
     "output_type": "display_data"
    },
    {
     "data": {
      "text/plain": [
       "6×13 Array{Float64,2}:\n",
       " 0.0  -0.0106759     0.00870404  -0.00142115   …    1.00077    0.501481   \n",
       " 0.0  -0.0175677     0.0104824   -0.00312049        0.994886   0.495367   \n",
       " 0.0  -0.0917931     0.0983238   -0.511127          7.41608    3.71226    \n",
       " 0.0  -0.0871896     0.083739     0.51783         -13.0102     3.68208    \n",
       " 0.0  -0.000906698  -0.00211529  -0.000126232       0.499387   0.000479182\n",
       " 0.0  -0.461999      0.450934    -0.000741873  …   -3.18726   18.7869     "
      ]
     },
     "metadata": {},
     "output_type": "display_data"
    },
    {
     "data": {
      "text/plain": [
       "6×13 Array{Float64,2}:\n",
       " 0.0    0.0           0.0      …     0.0        0.0        0.0   \n",
       " 0.0    0.0           0.0            0.0        0.0        0.0   \n",
       " 0.0   -1.73472e-18   0.0            0.0        0.0        0.0   \n",
       " 0.0   -0.76938      20.3894      -137.258     62.7425    31.3712\n",
       " 0.0  -20.3894        0.76938       62.7425  -137.258     31.3713\n",
       " 0.0   -0.38469       0.38469  …    31.3712    31.3712  -184.314 "
      ]
     },
     "metadata": {},
     "output_type": "display_data"
    },
    {
     "data": {
      "text/plain": [
       "6×13 Array{Float64,2}:\n",
       " 0.0    0.0         0.0          …     0.0        0.0        0.0   \n",
       " 0.0    0.0         0.0                0.0        0.0        0.0   \n",
       " 0.0    1.884e-11  -2.45281e-11        0.0        0.0        0.0   \n",
       " 0.0   -0.79576    20.4992          -137.0       62.9342    31.4977\n",
       " 0.0  -20.303       0.718647          62.6138  -137.39      31.2617\n",
       " 0.0   -0.372787    0.481341     …    31.3348    31.267   -184.299 "
      ]
     },
     "metadata": {},
     "output_type": "display_data"
    }
   ],
   "source": [
    "τ_auglag, x_sol_auglag, λ_auglag, μ_auglag, fx_auglag = solve_implicit_contact_τ(sim_data,q0,v0,u0,qnext,vnext,ip_method=false);\n",
    "\n",
    "# autodiff \n",
    "J_auto = ForwardDiff.jacobian(qv -> solve_implicit_contact_τ(sim_data,q0,v0,u0,qv[1:sim_data.num_q],qv[sim_data.num_q+1:sim_data.num_q+sim_data.num_v],ip_method=false)[2], vcat(qnext,vnext))\n",
    "# Jt_auto = ForwardDiff.jacobian(qv -> solve_implicit_contact_τ(sim_data,q0,v0,u0,qv[1:sim_data.num_q],qv[sim_data.num_q+1:sim_data.num_q+sim_data.num_v],ip_method=false)[1], vcat(qnext,vnext))\n",
    "\n",
    "# numerical\n",
    "ϵ = 1e-8\n",
    "J_num = zeros(size(J_auto))\n",
    "# Jt_num = zeros(size(J_auto))\n",
    "# Jt_num_ip = zeros(size(J_auto))\n",
    "qv = vcat(qnext,vnext)\n",
    "for i = 1:length(qv)\n",
    "    δ = zeros(length(qv))\n",
    "    δ[i] = ϵ \n",
    "    τ, x, λ, μ, fx = solve_implicit_contact_τ(sim_data,q0,v0,u0,(qv+δ)[1:sim_data.num_q],(qv+δ)[sim_data.num_q+1:sim_data.num_q+sim_data.num_v],ip_method=false)\n",
    "    J_num[:,i] = (x - x_sol_auglag)/ϵ\n",
    "#     Jt_num[:,i] = (τ - τ_auglag)/ϵ\n",
    "#     τ, x, λ, μ, fx = solve_implicit_contact_τ(sim_data,q0,v0,u0,(qv+δ)[1:sim_data.num_q],(qv+δ)[sim_data.num_q+1:sim_data.num_q+sim_data.num_v],ip_method=true)\n",
    "#     Jt_num_ip[:,i] = (τ - τ_auglag)/ϵ\n",
    "end\n",
    "\n",
    "display(J_auto)\n",
    "display(J_num)\n",
    "\n",
    "# display(Jt_auto)\n",
    "# display(Jt_num)\n",
    "# display(Jt_num_ip)"
   ]
  },
  {
   "cell_type": "code",
   "execution_count": null,
   "metadata": {},
   "outputs": [],
   "source": [
    "display(Jt_auto[:,11:13])\n",
    "display(Jt_num[:,11:13])\n",
    "display(Jt_num_ip[:,11:13])"
   ]
  },
  {
   "cell_type": "code",
   "execution_count": null,
   "metadata": {},
   "outputs": [],
   "source": [
    " (J_num[:,1] - x_sol_auglag)/ϵ"
   ]
  },
  {
   "cell_type": "code",
   "execution_count": 63,
   "metadata": {},
   "outputs": [
    {
     "data": {
      "text/plain": [
       "0.027098530150311717"
      ]
     },
     "execution_count": 63,
     "metadata": {},
     "output_type": "execute_result"
    }
   ],
   "source": [
    "maximum(abs.(J_auto-J_num))"
   ]
  },
  {
   "cell_type": "code",
   "execution_count": null,
   "metadata": {},
   "outputs": [],
   "source": [
    "abs.(J_auto-J_num)"
   ]
  },
  {
   "cell_type": "code",
   "execution_count": null,
   "metadata": {},
   "outputs": [],
   "source": [
    "J_num"
   ]
  },
  {
   "cell_type": "code",
   "execution_count": null,
   "metadata": {},
   "outputs": [],
   "source": [
    "J_auto"
   ]
  }
 ],
 "metadata": {
  "kernelspec": {
   "display_name": "Julia 0.6.4",
   "language": "julia",
   "name": "julia-0.6"
  },
  "language_info": {
   "file_extension": ".jl",
   "mimetype": "application/julia",
   "name": "julia",
   "version": "0.6.4"
  }
 },
 "nbformat": 4,
 "nbformat_minor": 2
}
