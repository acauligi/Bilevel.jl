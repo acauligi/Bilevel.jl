{
 "cells": [
  {
   "cell_type": "code",
   "execution_count": 1,
   "metadata": {
    "collapsed": true
   },
   "outputs": [],
   "source": [
    "using Revise\n",
    "\n",
    "using RigidBodyDynamics\n",
    "using RigidBodyDynamics: Bounds\n",
    "\n",
    "using Plots\n",
    "using BilevelTrajOpt"
   ]
  },
  {
   "cell_type": "code",
   "execution_count": 2,
   "metadata": {
    "collapsed": true
   },
   "outputs": [],
   "source": [
    "urdf = joinpath(\"..\", \"urdf\", \"ball.urdf\")\n",
    "mechanism = parse_urdf(Float64, urdf)\n",
    "body = findbody(mechanism, \"ball\")\n",
    "basejoint = joint_to_parent(body, mechanism)\n",
    "floatingjoint = Joint(basejoint.name, frame_before(basejoint), frame_after(basejoint), QuaternionFloating{Float64}())\n",
    "replace_joint!(mechanism, basejoint, floatingjoint)\n",
    "position_bounds(floatingjoint) .= Bounds(-100, 100)\n",
    "velocity_bounds(floatingjoint) .= Bounds(-100, 100)\n",
    "μ = 0.5\n",
    "motion_type = :xyz\n",
    "point = Point3D(default_frame(findbody(mechanism, \"floor\")), [0.,0.,0.])\n",
    "normal = FreeVector3D(default_frame(findbody(mechanism, \"floor\")), [0.,0.,1.])\n",
    "hs = HalfSpace(point, normal)\n",
    "floor = Obstacle(hs, μ, motion_type)\n",
    "obstacles = [floor]\n",
    "env = parse_contacts(mechanism, urdf, obstacles)\n",
    "x0 = MechanismState(mechanism)\n",
    "Δt = 0.005\n",
    "sim_data = get_sim_data(x0,env,Δt,true);"
   ]
  },
  {
   "cell_type": "code",
   "execution_count": 15,
   "metadata": {
    "collapsed": false
   },
   "outputs": [
    {
     "name": "stdout",
     "output_type": "stream",
     "text": [
      "elapsed time: 0.00695015 seconds\n",
      "elapsed time: 0.006626416 seconds\n",
      "elapsed time: 0.006377718 seconds\n",
      "elapsed time: 0.007157055 seconds\n",
      "elapsed time: 0.006615178 seconds\n",
      "elapsed time: 0.00676213 seconds\n",
      "elapsed time: 0.006411094 seconds\n",
      "elapsed time: 0.006513259 seconds\n",
      "elapsed time: 0.006483656 seconds\n",
      "elapsed time: 0.006539038 seconds\n"
     ]
    },
    {
     "name": "stderr",
     "output_type": "stream",
     "text": [
      "WARNING: Method definition auglag_solve(Any, Any, Any, Any, Any, Any) in module BilevelTrajOpt at /Users/blandry/.julia/v0.6/BilevelTrajOpt/src/auglag.jl:18 overwritten at /Users/blandry/.julia/v0.6/BilevelTrajOpt/src/auglag.jl:18.\n",
      "WARNING: Method definition #auglag_solve(Array{Any, 1}, typeof(BilevelTrajOpt.auglag_solve), Any, Any, Any, Any, Any, Any) in module BilevelTrajOpt overwritten.\n",
      "WARNING: Method definition solve_implicit_contact_τ(Any, Any, Any, Any, Any, Any, Any, Any, Any, Any) in module BilevelTrajOpt at /Users/blandry/.julia/v0.6/BilevelTrajOpt/src/contact.jl:141 overwritten at /Users/blandry/.julia/v0.6/BilevelTrajOpt/src/contact.jl:141.\n",
      "WARNING: Method definition #solve_implicit_contact_τ(Array{Any, 1}, typeof(BilevelTrajOpt.solve_implicit_contact_τ), Any, Any, Any, Any, Any, Any, Any, Any, Any, Any) in module BilevelTrajOpt overwritten.\n"
     ]
    },
    {
     "name": "stdout",
     "output_type": "stream",
     "text": [
      "elapsed time: 0.009632878 seconds\n",
      "elapsed time: 0.014853979 seconds\n",
      "elapsed time: 0.013980705 seconds\n",
      "elapsed time: 0.007913876 seconds\n",
      "elapsed time: 0.00715179 seconds\n",
      "elapsed time: 0.007307935 seconds\n",
      "elapsed time: 0.006953675 seconds\n",
      "elapsed time: 0.006474212 seconds\n",
      "elapsed time: 0.009439041 seconds\n",
      "Solve_Succeeded\n",
      "Not_Enough_Degrees_Of_Freedom"
     ]
    },
    {
     "data": {
      "text/plain": [
       "\"Explicit\""
      ]
     },
     "metadata": {},
     "output_type": "display_data"
    },
    {
     "data": {
      "text/plain": [
       "6-element Array{Float64,1}:\n",
       " 2.81235e-8\n",
       " 6.12471e-8\n",
       " 0.5       \n",
       " 6.12471e-8\n",
       " 0.075475  \n",
       " 1.0       "
      ]
     },
     "metadata": {},
     "output_type": "display_data"
    },
    {
     "data": {
      "text/plain": [
       "\"IP\""
      ]
     },
     "metadata": {},
     "output_type": "display_data"
    },
    {
     "data": {
      "text/plain": [
       "6-element Array{Float64,1}:\n",
       " 0.0\n",
       " 0.0\n",
       " 0.0\n",
       " 0.0\n",
       " 0.0\n",
       " 0.0"
      ]
     },
     "metadata": {},
     "output_type": "display_data"
    },
    {
     "data": {
      "text/plain": [
       "\"Aug Lag\""
      ]
     },
     "metadata": {},
     "output_type": "display_data"
    },
    {
     "data": {
      "text/plain": [
       "6-element Array{Float64,1}:\n",
       " 1.75564e-8\n",
       " 3.47045e-8\n",
       " 0.5       \n",
       " 3.48241e-8\n",
       " 0.075475  \n",
       " 1.0       "
      ]
     },
     "metadata": {},
     "output_type": "display_data"
    },
    {
     "data": {
      "text/plain": [
       "\"torques\""
      ]
     },
     "metadata": {},
     "output_type": "display_data"
    },
    {
     "data": {
      "text/plain": [
       "6-element Array{Float64,1}:\n",
       " 0.0\n",
       " 0.0\n",
       " 0.0\n",
       " 0.0\n",
       " 0.0\n",
       " 0.0"
      ]
     },
     "metadata": {},
     "output_type": "display_data"
    },
    {
     "data": {
      "text/plain": [
       "6-element Array{Float64,1}:\n",
       "  0.0       \n",
       "  0.0       \n",
       "  0.0       \n",
       "  4.905     \n",
       "  1.17289e-9\n",
       " -9.81      "
      ]
     },
     "metadata": {},
     "output_type": "display_data"
    },
    {
     "name": "stdout",
     "output_type": "stream",
     "text": [
      "\n"
     ]
    }
   ],
   "source": [
    "q0 = [1., 0., 0., 0., 0., 0., 0.]\n",
    "v0 = [0., 0., 0., 0.1, 0., 0.]\n",
    "\n",
    "u0 = zeros(sim_data.num_v)\n",
    "set_configuration!(x0, q0)\n",
    "set_velocity!(x0, v0)\n",
    "setdirty!(x0)\n",
    "ctrl! = (u,t,x) -> u[:] = 0.\n",
    "traj = BilevelTrajOpt.simulate(x0,env,sim_data.Δt,1,ctrl!,implicit_contact=false)\n",
    "qnext = traj[1:sim_data.num_q,2]\n",
    "vnext = traj[sim_data.num_q+1:sim_data.num_q+sim_data.num_v,2]\n",
    "x_sol_exp = traj[sim_data.num_q+sim_data.num_v+2:end,2]\n",
    "\n",
    "# qnext = q0\n",
    "# vnext = v0\n",
    "\n",
    "τ_ip, x_sol_ip, λ_ip, μ_ip, fx_ip = solve_implicit_contact_τ(sim_data,q0,v0,u0,qnext,vnext,ip_method=true);\n",
    "\n",
    "τ_auglag, x_sol_auglag, λ_auglag, μ_auglag, fx_auglag = solve_implicit_contact_τ(sim_data,q0,v0,u0,qnext,vnext,ip_method=false);\n",
    "\n",
    "display(\"Explicit\")\n",
    "display(x_sol_exp)\n",
    "display(\"IP\")\n",
    "display(x_sol_ip)\n",
    "display(\"Aug Lag\")\n",
    "display(x_sol_auglag)\n",
    "\n",
    "display(\"torques\")\n",
    "display(τ_ip)\n",
    "display(τ_auglag)"
   ]
  },
  {
   "cell_type": "code",
   "execution_count": 58,
   "metadata": {
    "collapsed": false
   },
   "outputs": [
    {
     "data": {
      "text/plain": [
       "6×13 Array{Float64,2}:\n",
       " 0.0  -0.0122564     0.0122564   …    0.999501    0.999502   0.499752  \n",
       " 0.0  -0.0122561     0.0122561        0.999477    0.999477   0.499739  \n",
       " 0.0  -0.0906845     0.0906845      -12.9921      7.39527    3.69764   \n",
       " 0.0  -0.0906842     0.0906842        7.39525   -12.9921     3.69763   \n",
       " 0.0   2.34523e-10  -2.3597e-10       0.5         0.5       -1.45653e-8\n",
       " 0.0  -0.460786      0.460786    …   -3.19788    -3.19788   18.7884    "
      ]
     },
     "execution_count": 58,
     "metadata": {},
     "output_type": "execute_result"
    }
   ],
   "source": [
    "J_auto = ForwardDiff.jacobian(qv -> solve_implicit_contact_τ(sim_data,q0,v0,u0,qv[1:sim_data.num_q],qv[sim_data.num_q+1:sim_data.num_q+sim_data.num_v],ip_method=false)[2], vcat(qnext,vnext))"
   ]
  },
  {
   "cell_type": "code",
   "execution_count": 19,
   "metadata": {
    "collapsed": false
   },
   "outputs": [
    {
     "data": {
      "text/plain": [
       "6×13 Array{Float64,2}:\n",
       " 0.0   1.84311e-8  0.0309578   …    1.26202  -0.00592168   0.631156  \n",
       " 0.0   1.26184e-8  0.0797209        3.25068   4.24179      1.62531   \n",
       " 0.0  -1.00595e-8  0.253779       -10.0395   -0.022022     5.17391   \n",
       " 0.0  -1.98224e-7  0.0793023        3.23362  -4.20951      1.61677   \n",
       " 0.0   2.86359e-8  2.28551e-7       1.00001  -0.00050714   4.12793e-6\n",
       " 0.0  -3.45092e-7  0.888672    …   -4.53927   0.00842003  18.1178    "
      ]
     },
     "metadata": {},
     "output_type": "display_data"
    },
    {
     "data": {
      "text/plain": [
       "6×13 Array{Float64,2}:\n",
       " 0.0   102.357   -614.794     -55.5038  …   1361.95    318.073     140.945 \n",
       " 0.0   202.157  -2285.46    -3626.4        -3978.84   -428.09    -1554.98  \n",
       " 0.0   792.428   5757.34   -15008.0         3697.64   6155.66     2681.57  \n",
       " 0.0  4447.74    4425.42     2374.48         822.403   -71.0975   4812.86  \n",
       " 0.0  -327.168   -209.881      78.4513      -843.973  -376.864     -31.6694\n",
       " 0.0  9942.3    12496.0    -30384.0     …  -1146.54   8070.79    10463.2   "
      ]
     },
     "metadata": {},
     "output_type": "display_data"
    },
    {
     "name": "stderr",
     "output_type": "stream",
     "text": [
      "WARNING: Method definition auglag_solve(Any, Any, Any, Any, Any, Any) in module BilevelTrajOpt at /Users/blandry/.julia/v0.6/BilevelTrajOpt/src/auglag.jl:18 overwritten at /Users/blandry/.julia/v0.6/BilevelTrajOpt/src/auglag.jl:18.\n",
      "WARNING: Method definition #auglag_solve(Array{Any, 1}, typeof(BilevelTrajOpt.auglag_solve), Any, Any, Any, Any, Any, Any) in module BilevelTrajOpt overwritten.\n",
      "WARNING: Method definition solve_implicit_contact_τ(Any, Any, Any, Any, Any, Any, Any, Any, Any, Any) in module BilevelTrajOpt at /Users/blandry/.julia/v0.6/BilevelTrajOpt/src/contact.jl:141 overwritten at /Users/blandry/.julia/v0.6/BilevelTrajOpt/src/contact.jl:141.\n",
      "WARNING: Method definition #solve_implicit_contact_τ(Array{Any, 1}, typeof(BilevelTrajOpt.solve_implicit_contact_τ), Any, Any, Any, Any, Any, Any, Any, Any, Any, Any) in module BilevelTrajOpt overwritten.\n"
     ]
    }
   ],
   "source": [
    "τ_auglag, x_sol_auglag, λ_auglag, μ_auglag, fx_auglag = solve_implicit_contact_τ(sim_data,q0,v0,u0,qnext,vnext,ip_method=false);\n",
    "\n",
    "# autodiff \n",
    "J_auto = ForwardDiff.jacobian(qv -> solve_implicit_contact_τ(sim_data,q0,v0,u0,qv[1:sim_data.num_q],qv[sim_data.num_q+1:sim_data.num_q+sim_data.num_v],ip_method=false)[2], vcat(qnext,vnext))\n",
    "# Jt_auto = ForwardDiff.jacobian(qv -> solve_implicit_contact_τ(sim_data,q0,v0,u0,qv[1:sim_data.num_q],qv[sim_data.num_q+1:sim_data.num_q+sim_data.num_v],ip_method=false)[1], vcat(qnext,vnext))\n",
    "\n",
    "# numerical\n",
    "ϵ = 1e-8\n",
    "J_num = zeros(size(J_auto))\n",
    "# Jt_num = zeros(size(J_auto))\n",
    "# Jt_num_ip = zeros(size(J_auto))\n",
    "qv = vcat(qnext,vnext)\n",
    "for i = 1:length(qv)\n",
    "    δ = zeros(length(qv))\n",
    "    δ[i] = ϵ \n",
    "    τ, x, λ, μ, fx = solve_implicit_contact_τ(sim_data,q0,v0,u0,(qv+δ)[1:sim_data.num_q],(qv+δ)[sim_data.num_q+1:sim_data.num_q+sim_data.num_v],ip_method=false)\n",
    "    J_num[:,i] = (x - x_sol_auglag)/ϵ\n",
    "#     Jt_num[:,i] = (τ - τ_auglag)/ϵ\n",
    "#     τ, x, λ, μ, fx = solve_implicit_contact_τ(sim_data,q0,v0,u0,(qv+δ)[1:sim_data.num_q],(qv+δ)[sim_data.num_q+1:sim_data.num_q+sim_data.num_v],ip_method=true)\n",
    "#     Jt_num_ip[:,i] = (τ - τ_auglag)/ϵ\n",
    "end\n",
    "\n",
    "display(J_auto)\n",
    "display(J_num)\n",
    "\n",
    "# display(Jt_auto)\n",
    "# display(Jt_num)\n",
    "# display(Jt_num_ip)"
   ]
  },
  {
   "cell_type": "code",
   "execution_count": 17,
   "metadata": {
    "collapsed": false
   },
   "outputs": [
    {
     "data": {
      "text/plain": [
       "6×13 Array{Float64,2}:\n",
       " 0.0   1.38999e-8   0.0358894   -1.96036e-5   …   0.000410706   0.73169   \n",
       " 0.0   7.73886e-8   0.0718421   -0.228896         4.66655       1.46468   \n",
       " 0.0   1.2004e-7    0.205992    -0.000111306      0.00234019    4.19964   \n",
       " 0.0  -1.74571e-7   0.0719161    0.229089        -4.67062       1.46617   \n",
       " 0.0   2.4831e-10  -1.77426e-7  -3.74182e-8       5.02854e-7   -3.67804e-6\n",
       " 0.0   2.10005e-7   0.914959     4.64334e-5   …  -0.000974377  18.6536    "
      ]
     },
     "metadata": {},
     "output_type": "display_data"
    },
    {
     "data": {
      "text/plain": [
       "6×13 Array{Float64,2}:\n",
       " 0.0    565.212    -236.832    …   -131.319    -461.315    -820.773  \n",
       " 0.0   -462.201     120.945        -709.137    -324.127     187.935  \n",
       " 0.0    465.956   -1856.67         -651.418   -2986.65     -224.879  \n",
       " 0.0  -1374.62     -403.219        -235.359     836.157    -401.405  \n",
       " 0.0     15.5504     -3.26601        99.3435    -67.1059      6.86116\n",
       " 0.0  -1020.9     -2711.5      …  -2294.34    -3135.0     -1356.11   "
      ]
     },
     "metadata": {},
     "output_type": "display_data"
    },
    {
     "name": "stderr",
     "output_type": "stream",
     "text": [
      "WARNING: Method definition solve_implicit_contact_τ(Any, Any, Any, Any, Any, Any, Any, Any, Any, Any) in module BilevelTrajOpt at /Users/blandry/.julia/v0.6/BilevelTrajOpt/src/contact.jl:141 overwritten at /Users/blandry/.julia/v0.6/BilevelTrajOpt/src/contact.jl:141.\n",
      "WARNING: Method definition #solve_implicit_contact_τ(Array{Any, 1}, typeof(BilevelTrajOpt.solve_implicit_contact_τ), Any, Any, Any, Any, Any, Any, Any, Any, Any, Any) in module BilevelTrajOpt overwritten.\n"
     ]
    }
   ],
   "source": [
    "display(J_auto)\n",
    "display(J_num)"
   ]
  },
  {
   "cell_type": "code",
   "execution_count": null,
   "metadata": {
    "collapsed": true
   },
   "outputs": [],
   "source": [
    "display(Jt_auto[:,11:13])\n",
    "display(Jt_num[:,11:13])\n",
    "display(Jt_num_ip[:,11:13])"
   ]
  },
  {
   "cell_type": "code",
   "execution_count": null,
   "metadata": {
    "collapsed": true
   },
   "outputs": [],
   "source": [
    " (J_num[:,1] - x_sol_auglag)/ϵ"
   ]
  },
  {
   "cell_type": "code",
   "execution_count": 63,
   "metadata": {
    "collapsed": false
   },
   "outputs": [
    {
     "data": {
      "text/plain": [
       "0.027098530150311717"
      ]
     },
     "execution_count": 63,
     "metadata": {},
     "output_type": "execute_result"
    }
   ],
   "source": [
    "maximum(abs.(J_auto-J_num))"
   ]
  },
  {
   "cell_type": "code",
   "execution_count": null,
   "metadata": {
    "collapsed": true
   },
   "outputs": [],
   "source": [
    "abs.(J_auto-J_num)"
   ]
  },
  {
   "cell_type": "code",
   "execution_count": null,
   "metadata": {
    "collapsed": true
   },
   "outputs": [],
   "source": [
    "J_num"
   ]
  },
  {
   "cell_type": "code",
   "execution_count": null,
   "metadata": {
    "collapsed": true
   },
   "outputs": [],
   "source": [
    "J_auto"
   ]
  }
 ],
 "metadata": {
  "kernelspec": {
   "display_name": "Julia 0.6.4",
   "language": "julia",
   "name": "julia-0.6"
  },
  "language_info": {
   "file_extension": ".jl",
   "mimetype": "application/julia",
   "name": "julia",
   "version": "0.6.4"
  }
 },
 "nbformat": 4,
 "nbformat_minor": 2
}
