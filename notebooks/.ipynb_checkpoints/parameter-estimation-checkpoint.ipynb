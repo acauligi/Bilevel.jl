{
 "cells": [
  {
   "cell_type": "code",
   "execution_count": 161,
   "metadata": {
    "collapsed": false
   },
   "outputs": [
    {
     "ename": "ArgumentError",
     "evalue": "ArgumentError: Package ProgileView not found in current path:\n- Run `Pkg.add(\"ProgileView\")` to install the ProgileView package.\n",
     "output_type": "error",
     "traceback": [
      "ArgumentError: Package ProgileView not found in current path:\n- Run `Pkg.add(\"ProgileView\")` to install the ProgileView package.\n",
      "",
      "Stacktrace:",
      " [1] require(::Module, ::Symbol) at ./loading.jl:817",
      " [2] top-level scope at In[161]:11"
     ]
    }
   ],
   "source": [
    "using Revise\n",
    "using BilevelTrajOpt\n",
    "\n",
    "using ForwardDiff\n",
    "using DiffResults\n",
    "using RigidBodyDynamics\n",
    "using MeshCatMechanisms\n",
    "using Plots\n",
    "using Interpolations\n",
    "# using Profile\n",
    "# using ProgileView"
   ]
  },
  {
   "cell_type": "code",
   "execution_count": 2,
   "metadata": {
    "collapsed": true
   },
   "outputs": [],
   "source": [
    "urdf = joinpath(\"..\", \"urdf\", \"panda\", \"panda_arm.urdf\")\n",
    "mechanism = parse_urdf(Float64, urdf)\n",
    "env = parse_contacts(mechanism, urdf, [])\n",
    "x0 = MechanismState(mechanism);"
   ]
  },
  {
   "cell_type": "code",
   "execution_count": null,
   "metadata": {
    "collapsed": true
   },
   "outputs": [],
   "source": [
    "mvis = MechanismVisualizer(mechanism, URDFVisuals(urdf))\n",
    "open(mvis)\n",
    "# IJuliaCell(mvis)"
   ]
  },
  {
   "cell_type": "code",
   "execution_count": 3,
   "metadata": {
    "collapsed": false
   },
   "outputs": [
    {
     "name": "stderr",
     "output_type": "stream",
     "text": [
      "┌ Warning: `a::Number + b::AbstractArray` is deprecated, use `a .+ b` instead.\n",
      "│   caller = +(::Int64, ::Int64, ::UnitRange{Int64}) at operators.jl:502\n",
      "└ @ Base ./operators.jl:502\n"
     ]
    },
    {
     "name": "stdout",
     "output_type": "stream",
     "text": [
      "Finished successfully: optimality conditions satisfied\n"
     ]
    }
   ],
   "source": [
    "# simple trajopt without the box to get a trajectory to simulate\n",
    "\n",
    "Δt = 0.02\n",
    "N = 50\n",
    "traj_data = get_traj_data(mechanism,env,Δt,N,false)\n",
    "\n",
    "x_start = zeros(traj_data.num_q+traj_data.num_v)\n",
    "x_goal = zeros(traj_data.num_q+traj_data.num_v)\n",
    "\n",
    "x_start[2] = .3\n",
    "x_start[4] = -2.75\n",
    "x_start[6] = -1.65\n",
    "\n",
    "x_goal[2] = .8\n",
    "x_goal[4] = -1.67\n",
    "x_goal[6] = -2.2\n",
    "\n",
    "add_state_eq!(traj_data, xi -> xi - x_start, 1)\n",
    "add_state_eq!(traj_data, xi -> xi - x_goal, N)\n",
    "add_fn_ineq!(traj_data, xi -> -pi - xi[4], Int(N/2))\n",
    "\n",
    "traj = BilevelTrajOpt.trajopt_snopt(traj_data)\n",
    "\n",
    "traj_t = vcat(0.,cumsum([Δt for i in 1:N-1]));\n",
    "traj_q = [traj[1:num_positions(mechanism),i] for i in 1:N]\n",
    "traj_u = traj[traj_data.num_q+traj_data.num_v+1:traj_data.num_q+2*traj_data.num_v,:]\n",
    "ctrl_itp = Vector()\n",
    "for i = 1:traj_data.num_v\n",
    "   push!(ctrl_itp, Interpolations.CubicSplineInterpolation(0.:Δt:(N-1)*Δt,traj_u[i,:],extrapolation_bc=0.))\n",
    "end\n",
    "traj_itp = Vector()\n",
    "for i = 1:traj_data.num_q+traj_data.num_v\n",
    "    push!(traj_itp, Interpolations.CubicSplineInterpolation(0.:Δt:(N-1)*Δt,traj[i,:],extrapolation_bc=traj[i,end]))\n",
    "end"
   ]
  },
  {
   "cell_type": "code",
   "execution_count": null,
   "metadata": {
    "collapsed": true
   },
   "outputs": [],
   "source": [
    "setanimation!(mvis, traj_t, traj_q)"
   ]
  },
  {
   "cell_type": "code",
   "execution_count": null,
   "metadata": {
    "collapsed": true,
    "scrolled": true
   },
   "outputs": [],
   "source": [
    "# package the resulting controller in a ctrl function to test (optional)\n",
    "# urdf = joinpath(\"..\", \"urdf\", \"panda\", \"panda_arm.urdf\")\n",
    "# mechanism = parse_urdf(Float64, urdf)\n",
    "\n",
    "Δt = 0.02\n",
    "N = 100\n",
    "sim_data = get_sim_data(mechanism,env,Δt,false)\n",
    "\n",
    "function feedforward_ctrl!(u,t,x)\n",
    "    u[:] = map(ctrl_itp) do itp\n",
    "       itp(t) \n",
    "    end\n",
    "end\n",
    "function feedback_ctrl!(u,t,x)\n",
    "    Kp = 250.\n",
    "    Kd = 5.\n",
    "    q = configuration(x)\n",
    "    v = velocity(x)\n",
    "    for i = 1:length(u)\n",
    "       u[i] = ctrl_itp[i](t) + Kd*(traj_itp[traj_data.num_q+i](t)-v[i]) + Kp*(traj_itp[i](t)-q[i]) \n",
    "    end\n",
    "end\n",
    "\n",
    "set_configuration!(x0,x_start[1:traj_data.num_q])\n",
    "set_velocity!(x0,x_start[sim_data.num_q+1:sim_data.num_q+sim_data.num_v])\n",
    "setdirty!(x0)\n",
    "\n",
    "traj_sim = BilevelTrajOpt.simulate_snopt(sim_data,feedback_ctrl!,x0,N-1)\n",
    "traj_t_sim = vcat(0.,cumsum([Δt for i in 1:N-1]));\n",
    "traj_q_sim = [traj_sim[1:num_positions(mechanism),i] for i in 1:N];"
   ]
  },
  {
   "cell_type": "code",
   "execution_count": null,
   "metadata": {
    "collapsed": true
   },
   "outputs": [],
   "source": [
    "setanimation!(mvis, traj_t_sim, traj_q_sim)"
   ]
  },
  {
   "cell_type": "code",
   "execution_count": 145,
   "metadata": {
    "collapsed": false
   },
   "outputs": [
    {
     "data": {
      "text/plain": [
       "feedback_ctrl_with_box! (generic function with 1 method)"
      ]
     },
     "execution_count": 145,
     "metadata": {},
     "output_type": "execute_result"
    }
   ],
   "source": [
    "# simulating the panda arm pushing the box with the controller\n",
    "\n",
    "urdf = joinpath(\"..\", \"urdf\", \"panda\", \"panda_arm_box.urdf\")\n",
    "mechanism = parse_urdf(Float64, urdf)\n",
    "\n",
    "box_body = findbody(mechanism, \"box\")\n",
    "basejoint = joint_to_parent(box_body, mechanism)\n",
    "floatingjoint = Joint(basejoint.name, frame_before(basejoint), frame_after(basejoint), QuaternionFloating{Float64}())\n",
    "replace_joint!(mechanism, basejoint, floatingjoint)\n",
    "position_bounds(floatingjoint) .= RigidBodyDynamics.Bounds(-100, 100)\n",
    "velocity_bounds(floatingjoint) .= RigidBodyDynamics.Bounds(-100, 100)\n",
    "\n",
    "# adding surfaces\n",
    "# Floor\n",
    "μ = .31\n",
    "# μ = .42\n",
    "# μ = .68\n",
    "motion_type = :xyz\n",
    "floor_body = findbody(mechanism, \"floor\")\n",
    "point = Point3D(default_frame(floor_body), [0.,0.,0.])\n",
    "normal = FreeVector3D(default_frame(floor_body), [0.,0.,1.])\n",
    "hs = HalfSpace(point, normal)\n",
    "floor = Obstacle(hs, μ, motion_type, floor_body)\n",
    "\n",
    "# Box (right now torque on the plane is ignored)\n",
    "μ = 0.05\n",
    "motion_type = :xyz\n",
    "box_body = findbody(mechanism, \"box\")\n",
    "point = Point3D(default_frame(box_body), [-.25,0.,.25])\n",
    "normal = FreeVector3D(default_frame(box_body), [-1.,0.,0.])\n",
    "hs = HalfSpace(point, normal)\n",
    "box = Obstacle(hs, μ, motion_type, box_body, is_floating=true)\n",
    "\n",
    "# obstacles = [floor]\n",
    "obstacles = [floor,box]\n",
    "\n",
    "env = parse_contacts(mechanism, urdf, obstacles)\n",
    "Δt = 0.02\n",
    "x0 = MechanismState(mechanism)\n",
    "sim_data = get_sim_data(mechanism,env,Δt,false)\n",
    "\n",
    "function feedback_ctrl_with_box!(u,t,x)\n",
    "    u[:] .= 0.\n",
    "    \n",
    "    Kp = 250.\n",
    "    Kd = 5.\n",
    "    \n",
    "    # todo use naming of states instead of assuming order\n",
    "    q = configuration(x)[8:end]\n",
    "    v = velocity(x)[7:end]\n",
    "    for i = 1:length(u[7:end])\n",
    "       u[6+i] = ctrl_itp[i](t) + Kd*(traj_itp[7+i](t)-v[i]) + Kp*(traj_itp[i](t)-q[i]) \n",
    "    end\n",
    "end"
   ]
  },
  {
   "cell_type": "code",
   "execution_count": null,
   "metadata": {
    "collapsed": false
   },
   "outputs": [],
   "source": [
    "mvis = MechanismVisualizer(mechanism, URDFVisuals(urdf))\n",
    "open(mvis)\n",
    "# IJuliaCell(mvis)"
   ]
  },
  {
   "cell_type": "code",
   "execution_count": 146,
   "metadata": {
    "collapsed": false,
    "scrolled": true
   },
   "outputs": [
    {
     "name": "stdout",
     "output_type": "stream",
     "text": [
      "Finished successfully: optimality conditions satisfied\n",
      "Finished successfully: optimality conditions satisfied\n",
      "Finished successfully: optimality conditions satisfied\n",
      "Finished successfully: optimality conditions satisfied\n",
      "Finished successfully: optimality conditions satisfied\n",
      "Finished successfully: optimality conditions satisfied\n",
      "Finished successfully: optimality conditions satisfied\n",
      "Finished successfully: optimality conditions satisfied\n",
      "Finished successfully: optimality conditions satisfied\n",
      "Finished successfully: optimality conditions satisfied\n",
      "Finished successfully: optimality conditions satisfied\n",
      "Finished successfully: optimality conditions satisfied\n",
      "Finished successfully: optimality conditions satisfied\n",
      "Finished successfully: optimality conditions satisfied\n",
      "Finished successfully: optimality conditions satisfied\n",
      "Finished successfully: optimality conditions satisfied\n",
      "Finished successfully: optimality conditions satisfied\n",
      "Finished successfully: optimality conditions satisfied\n",
      "Finished successfully: optimality conditions satisfied\n",
      "Finished successfully: optimality conditions satisfied\n",
      "Finished successfully: optimality conditions satisfied\n",
      "Finished successfully: optimality conditions satisfied\n",
      "Finished successfully: optimality conditions satisfied\n",
      "Finished successfully: optimality conditions satisfied\n",
      "Finished successfully: optimality conditions satisfied\n",
      "Finished successfully: optimality conditions satisfied\n",
      "Finished successfully: optimality conditions satisfied\n",
      "Finished successfully: optimality conditions satisfied\n",
      "Finished successfully: optimality conditions satisfied\n",
      "Finished successfully: optimality conditions satisfied\n",
      "Finished successfully: optimality conditions satisfied\n",
      "Finished successfully: optimality conditions satisfied\n",
      "Finished successfully: optimality conditions satisfied\n",
      "Finished successfully: optimality conditions satisfied\n",
      "Finished successfully: optimality conditions satisfied\n",
      "Finished successfully: optimality conditions satisfied\n",
      "Finished successfully: optimality conditions satisfied\n",
      "Finished successfully: optimality conditions satisfied\n",
      "Finished successfully: optimality conditions satisfied\n",
      "Finished successfully: optimality conditions satisfied\n",
      "Finished successfully: requested accuracy could not be achieved\n",
      "Finished successfully: optimality conditions satisfied\n",
      "Finished successfully: optimality conditions satisfied\n",
      "Finished successfully: optimality conditions satisfied\n",
      "Finished successfully: optimality conditions satisfied\n",
      "Finished successfully: optimality conditions satisfied\n",
      "Finished successfully: optimality conditions satisfied\n",
      "Finished successfully: optimality conditions satisfied\n",
      "Finished successfully: optimality conditions satisfied\n",
      "Finished successfully: optimality conditions satisfied\n",
      "Finished successfully: optimality conditions satisfied\n",
      "Finished successfully: optimality conditions satisfied\n",
      "Finished successfully: optimality conditions satisfied\n",
      "Finished successfully: optimality conditions satisfied\n",
      "Finished successfully: optimality conditions satisfied\n",
      "Finished successfully: optimality conditions satisfied\n",
      "Finished successfully: optimality conditions satisfied\n",
      "Finished successfully: optimality conditions satisfied\n",
      "Finished successfully: optimality conditions satisfied\n",
      "Finished successfully: optimality conditions satisfied\n",
      "Finished successfully: optimality conditions satisfied\n",
      "Finished successfully: requested accuracy could not be achieved\n",
      "Finished successfully: optimality conditions satisfied\n",
      "Finished successfully: optimality conditions satisfied\n",
      "Finished successfully: optimality conditions satisfied\n",
      "Finished successfully: optimality conditions satisfied\n",
      "Finished successfully: optimality conditions satisfied\n",
      "Finished successfully: optimality conditions satisfied\n",
      "Finished successfully: optimality conditions satisfied\n",
      "Finished successfully: optimality conditions satisfied\n",
      "Finished successfully: optimality conditions satisfied\n",
      "Finished successfully: optimality conditions satisfied\n",
      "Finished successfully: optimality conditions satisfied\n",
      "Finished successfully: optimality conditions satisfied\n",
      "Finished successfully: optimality conditions satisfied\n",
      "Finished successfully: optimality conditions satisfied\n",
      "Finished successfully: optimality conditions satisfied\n",
      "Finished successfully: optimality conditions satisfied\n",
      "Finished successfully: optimality conditions satisfied\n",
      "Finished successfully: optimality conditions satisfied\n",
      "Finished successfully: optimality conditions satisfied\n",
      "Finished successfully: optimality conditions satisfied\n",
      "Finished successfully: optimality conditions satisfied\n",
      "Finished successfully: optimality conditions satisfied\n",
      "Finished successfully: optimality conditions satisfied\n",
      "Finished successfully: optimality conditions satisfied\n",
      "Finished successfully: optimality conditions satisfied\n",
      "Finished successfully: optimality conditions satisfied\n",
      "Finished successfully: optimality conditions satisfied\n",
      "Finished successfully: optimality conditions satisfied\n",
      "Finished successfully: optimality conditions satisfied\n",
      "Finished successfully: optimality conditions satisfied\n",
      "Finished successfully: optimality conditions satisfied\n",
      "Finished successfully: optimality conditions satisfied\n",
      "Finished successfully: optimality conditions satisfied\n",
      "Finished successfully: optimality conditions satisfied\n",
      "Finished successfully: optimality conditions satisfied\n",
      "Finished successfully: optimality conditions satisfied\n",
      "Finished successfully: optimality conditions satisfied\n"
     ]
    }
   ],
   "source": [
    "N = 100\n",
    "\n",
    "x_start = zeros(sim_data.num_q+sim_data.num_v)\n",
    "\n",
    "# box\n",
    "x_start[1] = 1.\n",
    "x_start[5] = .8\n",
    "x_start[7] = .275\n",
    "\n",
    "# arm\n",
    "x_start[7+2] = .3\n",
    "x_start[7+4] = -2.75\n",
    "x_start[7+6] = -1.65\n",
    "\n",
    "set_configuration!(x0,x_start[1:sim_data.num_q])\n",
    "set_velocity!(x0,x_start[sim_data.num_q+1:sim_data.num_q+sim_data.num_v])\n",
    "setdirty!(x0)\n",
    "\n",
    "sim_traj = BilevelTrajOpt.simulate_snopt(sim_data,feedback_ctrl_with_box!,x0,N-1)\n",
    "sim_traj_t = vcat(0.,cumsum([Δt for i in 1:N-1]));\n",
    "sim_traj_q = [sim_traj[1:num_positions(mechanism),i] for i in 1:N];\n",
    "sim_traj_u = zeros(sim_data.num_v,N)\n",
    "for i=1:N\n",
    "    set_configuration!(x0,sim_traj[1:sim_data.num_q,i])\n",
    "    set_velocity!(x0,sim_traj[sim_data.num_q+1:sim_data.num_q+sim_data.num_v,i])\n",
    "    setdirty!(x0)\n",
    "    t = sim_traj_t[i]\n",
    "    u = zeros(sim_data.num_v)\n",
    "    feedback_ctrl_with_box!(u,t,x0)\n",
    "    sim_traj_u[:,i] = u[:]\n",
    "end"
   ]
  },
  {
   "cell_type": "code",
   "execution_count": null,
   "metadata": {
    "collapsed": true
   },
   "outputs": [],
   "source": [
    "setanimation!(mvis, sim_traj_t, sim_traj_q)"
   ]
  },
  {
   "cell_type": "code",
   "execution_count": 147,
   "metadata": {
    "collapsed": false
   },
   "outputs": [
    {
     "data": {
      "image/png": "[encoded data removed]"
     },
     "execution_count": 147,
     "metadata": {},
     "output_type": "execute_result"
    }
   ],
   "source": [
    "gr(size=(800,500), html_output_format=:png);\n",
    "first_sample = 50\n",
    "last_sample = 60\n",
    "plot(sim_traj[5,first_sample:last_sample])"
   ]
  },
  {
   "cell_type": "code",
   "execution_count": null,
   "metadata": {
    "collapsed": false
   },
   "outputs": [],
   "source": [
    "# (optional) adding some noise - none in the results reported\n",
    "q_noise_stddev = .001*(maximum(abs.(sim_traj[1:sim_data.num_q,:])))\n",
    "v_noise_stddev = .001*(maximum(abs.(sim_traj[sim_data.num_q+1:sim_data.num_q+sim_data.num_v,:])))\n",
    "sim_traj[1:sim_data.num_q,:] += randn(sim_data.num_q,N)*q_noise_stddev\n",
    "sim_traj[sim_data.num_q+1:sim_data.num_q+sim_data.num_v,:] += randn(sim_data.num_v,N)*v_noise_stddev"
   ]
  },
  {
   "cell_type": "code",
   "execution_count": 156,
   "metadata": {
    "collapsed": false
   },
   "outputs": [
    {
     "data": {
      "text/plain": [
       "\"Finished successfully: optimality conditions satisfied\""
      ]
     },
     "metadata": {},
     "output_type": "display_data"
    },
    {
     "data": {
      "text/plain": [
       "1-element Array{Float64,1}:\n",
       " 0.31000657958770916"
      ]
     },
     "metadata": {},
     "output_type": "display_data"
    },
    {
     "name": "stdout",
     "output_type": "stream",
     "text": [
      " 72.385936 seconds (499.60 M allocations: 26.460 GiB, 21.92% gc time)\n"
     ]
    }
   ],
   "source": [
    "# regressing the parameters of that simulation back (friction)\n",
    "\n",
    "# portion of the traj we will use for parameter regression\n",
    "regression_indx_raw = collect(first_sample:last_sample)\n",
    "\n",
    "# pre-computing some of the transforms needed for the regression\n",
    "regression_indx = []\n",
    "contact_params = []\n",
    "for i = 1:length(regression_indx_raw)\n",
    "    q0 = sim_traj[1:sim_data.num_q,regression_indx_raw[i]]\n",
    "    v0 = sim_traj[sim_data.num_q+1:sim_data.num_q+sim_data.num_v,regression_indx_raw[i]]\n",
    "    u0 = sim_traj_u[:,regression_indx_raw[i]]\n",
    "    qnext = sim_traj[1:sim_data.num_q,regression_indx_raw[i]+1]\n",
    "    vnext = sim_traj[sim_data.num_q+1:sim_data.num_q+sim_data.num_v,regression_indx_raw[i]+1]\n",
    "    cp = compute_contact_params(sim_data,q0,v0,u0,qnext,vnext)\n",
    "    # only use datapoints where the contact points were active\n",
    "    if all(cp.ϕs[1:4] .< 1e-8)\n",
    "        push!(regression_indx, regression_indx_raw[i])\n",
    "        push!(contact_params, cp)\n",
    "    end\n",
    "end\n",
    "l_contact_params = length(contact_params)\n",
    "\n",
    "function friction_loss_bilevel(μs)\n",
    "    sim_data.μs[1:5] .= μs[1]\n",
    "    \n",
    "    loss = 0.\n",
    "    for i = 1:l_contact_params\n",
    "        cp = contact_params[i]\n",
    "        x, λ, μ = solve_implicit_contact_τ(sim_data,cp.ϕs,cp.Dtv,\n",
    "                                           cp.rel_transforms,cp.geo_jacobians,cp.geo_jacobians_surfaces,\n",
    "                                           cp.HΔv,cp.bias,cp.contact_x0,cp.contact_λ0,cp.contact_μ0,\n",
    "                                           ip_method=false,in_place=false,comp_scale=1000.,num_fosteps=1,num_sosteps=3)\n",
    "        d = dynamics_contact_constraints(x,cp.rel_transforms,cp.geo_jacobians,cp.geo_jacobians_surfaces,\n",
    "                                         cp.HΔv,cp.bias,sim_data)\n",
    "        loss += (d[1:6]'*d[1:6])/l_contact_params\n",
    "    end\n",
    "    \n",
    "    loss\n",
    "end\n",
    "\n",
    "fric_res = DiffResults.GradientResult(zeros(1))\n",
    "function friction_fn_bilevel(μs)\n",
    "    ForwardDiff.gradient!(fric_res, friction_loss_bilevel, μs)\n",
    "    J = DiffResults.value(fric_res)\n",
    "    gJ = DiffResults.gradient(fric_res)\n",
    "    c = []\n",
    "    gc = []\n",
    "    fail = false\n",
    "    J, c, gJ, gc, fail\n",
    "end\n",
    "\n",
    "μs0 = [1.]\n",
    "lb = zeros(length(μs0))\n",
    "ub = ones(length(μs0))\n",
    "options = Dict{String, Any}()\n",
    "options[\"Derivative option\"] = 1\n",
    "options[\"Verify level\"] = -1\n",
    "options[\"Major optimality tolerance\"] = 1e-6\n",
    "\n",
    "# call it once to compile\n",
    "friction_fn_bilevel(μs0)\n",
    "\n",
    "@time μsopt, fopt, info = snopt(friction_fn_bilevel, μs0, lb, ub, options)\n",
    "\n",
    "display(info)\n",
    "display(μsopt)"
   ]
  },
  {
   "cell_type": "code",
   "execution_count": 157,
   "metadata": {
    "collapsed": false
   },
   "outputs": [
    {
     "name": "stdout",
     "output_type": "stream",
     "text": [
      " 19.952290 seconds (142.63 M allocations: 7.555 GiB, 21.52% gc time)\n"
     ]
    },
    {
     "data": {
      "text/plain": [
       "([0.310007], 3.1962555352346105e-8, \"Finished successfully: optimality conditions satisfied\")"
      ]
     },
     "execution_count": 157,
     "metadata": {},
     "output_type": "execute_result"
    }
   ],
   "source": [
    "@time μsopt, fopt, info = snopt(friction_fn_bilevel, μs0, lb, ub, options)"
   ]
  },
  {
   "cell_type": "code",
   "execution_count": 150,
   "metadata": {
    "collapsed": false
   },
   "outputs": [
    {
     "data": {
      "text/plain": [
       "\"Terminated after numerical difficulties: current point cannot be improved\""
      ]
     },
     "metadata": {},
     "output_type": "display_data"
    },
    {
     "data": {
      "text/plain": [
       "289-element Array{Float64,1}:\n",
       "  0.30999999999995964   \n",
       "  0.0                   \n",
       "  1.110032387441601e-16 \n",
       "  0.0557332876414417    \n",
       "  1.1102230193543035e-16\n",
       "  0.9503491645316713    \n",
       "  0.1797847988433846    \n",
       "  0.0                   \n",
       "  1.3990223912256121e-16\n",
       "  1.4566588325959765e-7 \n",
       "  5.784433883513187e-17 \n",
       "  0.9502579336454019    \n",
       "  4.698899468286725e-7  \n",
       "  ⋮                     \n",
       "  2.2204460455188117e-16\n",
       "  9.683180907741939e-17 \n",
       "  1.0375008877051861e-16\n",
       "  1.372482074342472e-16 \n",
       "  0.704508289426274     \n",
       "  2.404885333167186e-15 \n",
       "  3.7423755315232345e-14\n",
       " -3.820806792448779e-14 \n",
       "  1.1101928468670952e-16\n",
       "  3.357351650569644e-16 \n",
       "  0.3451524158833263    \n",
       "  0.0                   "
      ]
     },
     "metadata": {},
     "output_type": "display_data"
    },
    {
     "name": "stdout",
     "output_type": "stream",
     "text": [
      " 12.007104 seconds (159.32 M allocations: 6.875 GiB, 21.31% gc time)\n"
     ]
    }
   ],
   "source": [
    "# regressing with a single large NLP for comparison on time efficiency\n",
    "\n",
    "# portion of the traj we will use for parameter regression\n",
    "regression_indx_raw = collect(first_sample:last_sample)\n",
    "\n",
    "# pre-computing some of the transforms needed for the regression\n",
    "regression_indx = []\n",
    "contact_params = []\n",
    "for i = 1:length(regression_indx_raw)\n",
    "    q0 = sim_traj[1:sim_data.num_q,regression_indx_raw[i]]\n",
    "    v0 = sim_traj[sim_data.num_q+1:sim_data.num_q+sim_data.num_v,regression_indx_raw[i]]\n",
    "    u0 = sim_traj_u[:,regression_indx_raw[i]]\n",
    "    qnext = sim_traj[1:sim_data.num_q,regression_indx_raw[i]+1]\n",
    "    vnext = sim_traj[sim_data.num_q+1:sim_data.num_q+sim_data.num_v,regression_indx_raw[i]+1]\n",
    "    cp = compute_contact_params(sim_data,q0,v0,u0,qnext,vnext)\n",
    "    # only use datapoints where the contact points were active\n",
    "    if all(cp.ϕs[1:4] .< 1e-8)\n",
    "        push!(regression_indx, regression_indx_raw[i])\n",
    "        push!(contact_params, cp)\n",
    "    end\n",
    "end\n",
    "l_contact_params = length(contact_params)\n",
    "\n",
    "num_dyn = sim_data.num_v\n",
    "num_comp = sim_data.num_contacts*(2+sim_data.β_dim)\n",
    "num_pos = sim_data.num_contacts*(1+sim_data.β_dim) + 2*sim_data.num_contacts*(2+sim_data.β_dim)\n",
    "function friction_loss(μsx::AbstractArray{T}) where T\n",
    "    sim_data.μs[1:5] .= μsx[1]\n",
    "    xall = reshape(μsx[2:end],sim_data.num_contacts*(2+sim_data.β_dim),l_contact_params)\n",
    "    eq_con = zeros(T,l_contact_params*(num_comp+num_dyn))\n",
    "    ineq_con = zeros(T,l_contact_params*num_pos)\n",
    "    \n",
    "    J = 0.\n",
    "    for i = 1:l_contact_params\n",
    "        cp = contact_params[i]\n",
    "        x̃ = xall[:,i]\n",
    "        d = BilevelTrajOpt.dynamics_contact_constraints(x̃,cp.rel_transforms,cp.geo_jacobians,cp.geo_jacobians_surfaces,cp.HΔv,cp.bias,sim_data)\n",
    "        c = 1000. * BilevelTrajOpt.complementarity_contact_constraints(x̃,cp.ϕs,cp.Dtv,sim_data)\n",
    "        p = BilevelTrajOpt.pos_contact_constraints(x̃,cp.Dtv,sim_data)\n",
    "    \n",
    "        J += (d[1:6]'*d[1:6])/l_contact_params\n",
    "        eq_con[(i-1)*(num_comp+num_dyn)+1:i*(num_comp+num_dyn)] = vcat(c,d)\n",
    "        ineq_con[(i-1)*num_pos+1:i*num_pos] = p\n",
    "    end\n",
    "    \n",
    "    vcat(J,eq_con,ineq_con)\n",
    "end\n",
    "\n",
    "μxtmp = zeros(1+sim_data.num_contacts*(2+sim_data.β_dim)*l_contact_params)\n",
    "fric_res = DiffResults.JacobianResult(friction_loss(μxtmp),μxtmp)\n",
    "function friction_fn(μsx)\n",
    "    ForwardDiff.jacobian!(fric_res, friction_loss, μsx)\n",
    "    val = DiffResults.value(fric_res)\n",
    "    grad = DiffResults.gradient(fric_res)\n",
    "    \n",
    "    J = val[1]\n",
    "    c_eq = val[1+1:1+l_contact_params*(num_comp+num_dyn)]\n",
    "    c_ineq = val[1+l_contact_params*(num_comp+num_dyn)+1:1+l_contact_params*(num_comp+num_dyn)+l_contact_params*num_pos]\n",
    "    \n",
    "    gJ = grad[1,:]\n",
    "    gc_eq = grad[1+1:1+l_contact_params*(num_comp+num_dyn),:]\n",
    "    gc_ineq = grad[1+l_contact_params*(num_comp+num_dyn)+1:1+l_contact_params*(num_comp+num_dyn)+l_contact_params*num_pos,:]\n",
    "    \n",
    "    fail = false\n",
    "    \n",
    "    J, c_ineq, c_eq, gJ, gc_ineq, gc_eq, fail\n",
    "end\n",
    "\n",
    "μsx0 = vcat(1.,zeros(sim_data.num_contacts*(2+sim_data.β_dim)*l_contact_params))\n",
    "lb = zeros(length(μsx0))\n",
    "ub = 100. * ones(length(μsx0))\n",
    "ub[1] = 1.\n",
    "options = Dict{String, Any}()\n",
    "options[\"Derivative option\"] = 1\n",
    "options[\"Verify level\"] = -1\n",
    "options[\"Major optimality tolerance\"] = 1e-6\n",
    "options[\"Iterations limit\"] = 50000\n",
    "options[\"Major iterations limit\"] = 10000\n",
    "\n",
    "# call it once to compile\n",
    "friction_fn(μsx0)\n",
    "\n",
    "@time μsxopt, fopt, info = snopt(friction_fn, μsx0, lb, ub, options)\n",
    "\n",
    "display(info)\n",
    "display(μsxopt)"
   ]
  },
  {
   "cell_type": "code",
   "execution_count": 151,
   "metadata": {
    "collapsed": false
   },
   "outputs": [
    {
     "name": "stdout",
     "output_type": "stream",
     "text": [
      "  2.059815 seconds (25.44 M allocations: 1.185 GiB, 28.62% gc time)\n"
     ]
    },
    {
     "data": {
      "text/plain": [
       "([0.31, 0.0, 1.11003e-16, 0.0557331, 1.11022e-16, 0.950349, 0.179784, 0.0, 1.39902e-16, 2.921e-7  …  1.0375e-16, 1.37248e-16, 0.0921245, -2.40489e-15, -3.96376e-14, 6.72062e-16, 1.11019e-16, 3.35735e-16, 0.342186, 0.0], 8.192363379765964e-22, \"Terminated after numerical difficulties: current point cannot be improved\")"
      ]
     },
     "execution_count": 151,
     "metadata": {},
     "output_type": "execute_result"
    }
   ],
   "source": [
    "@time μsxopt, fopt, info = snopt(friction_fn, μsx0, lb, ub, options)"
   ]
  },
  {
   "cell_type": "code",
   "execution_count": null,
   "metadata": {
    "collapsed": false,
    "scrolled": true
   },
   "outputs": [],
   "source": [
    "# regressing a simple ball simulation with one point of contact (toy example to debug as needed)\n",
    "\n",
    "urdf = joinpath(\"..\", \"urdf\", \"ball.urdf\")\n",
    "mechanism = parse_urdf(Float64, urdf)\n",
    "body = findbody(mechanism, \"ball\")\n",
    "basejoint = joint_to_parent(body, mechanism)\n",
    "floatingjoint = Joint(basejoint.name, frame_before(basejoint), frame_after(basejoint), QuaternionFloating{Float64}())\n",
    "replace_joint!(mechanism, basejoint, floatingjoint)\n",
    "position_bounds(floatingjoint) .= RigidBodyDynamics.Bounds(-100, 100)\n",
    "velocity_bounds(floatingjoint) .= RigidBodyDynamics.Bounds(-100, 100)\n",
    "μ = 0.34\n",
    "motion_type = :xyz \n",
    "floor_body = findbody(mechanism, \"floor\")\n",
    "point = Point3D(default_frame(floor_body), [0.,0.,0.])\n",
    "normal = FreeVector3D(default_frame(floor_body), [0.,0.,1.])\n",
    "hs = HalfSpace(point, normal)\n",
    "floor = Obstacle(hs, μ, motion_type, floor_body)\n",
    "obstacles = [floor]\n",
    "env = parse_contacts(mechanism, urdf, obstacles)\n",
    "x0 = MechanismState(mechanism)\n",
    "Δt = 0.005\n",
    "sim_data = get_sim_data(mechanism,env,Δt,false);\n",
    "\n",
    "N = 100\n",
    "q0 = [1., 0., 0., 0., 0., 0., 0.]\n",
    "v0 = [0., 0., 0., 5., 0., 0.]\n",
    "\n",
    "u0 = zeros(sim_data.num_v)\n",
    "set_configuration!(x0, q0)\n",
    "set_velocity!(x0, v0)\n",
    "setdirty!(x0)\n",
    "ctrl! = (u,t,x) -> u[:] .= 0.\n",
    "traj = BilevelTrajOpt.simulate_snopt(sim_data,ctrl!,x0,N);"
   ]
  },
  {
   "cell_type": "code",
   "execution_count": null,
   "metadata": {
    "collapsed": false
   },
   "outputs": [],
   "source": [
    "function friction_loss_toy(μs)\n",
    "    sim_data.μs[:] = μs[:]\n",
    "    \n",
    "    loss = 0.\n",
    "    for i = 1:N-1\n",
    "        q0 = traj[1:sim_data.num_q,i]\n",
    "        v0 = traj[sim_data.num_q+1:sim_data.num_q+sim_data.num_v,i]\n",
    "        qnext = traj[1:sim_data.num_q,i+1]\n",
    "        vnext = traj[sim_data.num_q+1:sim_data.num_q+sim_data.num_v,i+1]\n",
    "        τ, x, d = solve_implicit_contact_τ(sim_data,q0,v0,u0,qnext,vnext,ip_method=false,in_place=true) \n",
    "        loss += d'*d \n",
    "    end\n",
    "    \n",
    "    loss\n",
    "end\n",
    "\n",
    "fric_res = DiffResults.GradientResult(zeros(sim_data.num_contacts))\n",
    "function friction_fn_toy(μs)\n",
    "    ForwardDiff.gradient!(fric_res, friction_loss_toy, μs)\n",
    "    J = DiffResults.value(fric_res)\n",
    "    gJ = DiffResults.gradient(fric_res)\n",
    "    \n",
    "    c = []\n",
    "    gc = []\n",
    "    \n",
    "    fail = false\n",
    "    \n",
    "    J, c, gJ, gc, fail\n",
    "end\n",
    "\n",
    "μs0 = [1.]\n",
    "lb = zeros(length(μs0))\n",
    "ub = ones(length(μs0))\n",
    "options = Dict{String, Any}()\n",
    "options[\"Derivative option\"] = 1\n",
    "options[\"Verify level\"] = -1\n",
    "options[\"Major optimality tolerance\"] = 1e-6\n",
    "\n",
    "μsopt, fopt, info = snopt(friction_fn_toy, μs0, lb, ub, options)\n",
    "\n",
    "display(info)\n",
    "display(μsopt)"
   ]
  }
 ],
 "metadata": {
  "kernelspec": {
   "display_name": "Julia 0.7.0",
   "language": "julia",
   "name": "julia-0.7"
  },
  "language_info": {
   "file_extension": ".jl",
   "mimetype": "application/julia",
   "name": "julia",
   "version": "0.7.0"
  }
 },
 "nbformat": 4,
 "nbformat_minor": 2
}
