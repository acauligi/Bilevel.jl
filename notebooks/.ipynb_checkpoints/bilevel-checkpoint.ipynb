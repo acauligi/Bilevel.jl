{
 "cells": [
  {
   "cell_type": "code",
   "execution_count": 28,
   "metadata": {},
   "outputs": [],
   "source": [
    "using Revise\n",
    "\n",
    "using BilevelTrajOpt\n",
    "using ForwardDiff\n",
    "using DiffResults"
   ]
  },
  {
   "cell_type": "code",
   "execution_count": 94,
   "metadata": {},
   "outputs": [
    {
     "data": {
      "text/plain": [
       "#953 (generic function with 1 method)"
      ]
     },
     "execution_count": 94,
     "metadata": {},
     "output_type": "execute_result"
    }
   ],
   "source": [
    "num_x = 5\n",
    "num_y = 5\n",
    "num_z = num_x + num_y\n",
    "xymin = -10.\n",
    "xymax = 10.\n",
    "\n",
    "fx = x -> x'*x\n",
    "hx = x -> [x[1] - 1.]\n",
    "gx = x -> [x[2] - 3., 3. - x[3]]\n",
    "hxy = (x,y) -> [x[4]*y[1]]\n",
    "gxy = (x,y) -> [x[5]^2*y[2]^3 - 1., y[4]^2*x[1] + 1]\n",
    "hy = y -> [y[4] - 2.5]\n",
    "gy = y -> [2. - y[5]]"
   ]
  },
  {
   "cell_type": "code",
   "execution_count": 98,
   "metadata": {},
   "outputs": [
    {
     "data": {
      "text/plain": [
       "\"The problem appears to be infeasible: nonlinear infeasibilities minimized\""
      ]
     },
     "metadata": {},
     "output_type": "display_data"
    },
    {
     "data": {
      "text/plain": [
       "10-element Array{Float64,1}:\n",
       " -0.16              \n",
       "  0.0               \n",
       "  3.0               \n",
       "  0.0               \n",
       "  0.0               \n",
       "  0.0               \n",
       "  0.0               \n",
       "  0.0               \n",
       "  2.4999999999999996\n",
       "  2.083866328076683 "
      ]
     },
     "metadata": {},
     "output_type": "display_data"
    }
   ],
   "source": [
    "function full_prob(z)\n",
    "    x = z[1:num_x]\n",
    "    y = z[num_x+1:num_x+num_y]\n",
    "    \n",
    "    J = fx(x)\n",
    "    c = vcat(gx(x),gxy(x,y),gy(y))\n",
    "    ceq = vcat(hx(x),hxy(x,y),hy(y))\n",
    "    \n",
    "    gJ = ForwardDiff.gradient(s -> fx(s[1:num_x]), z)\n",
    "    gc = vcat(ForwardDiff.jacobian(s -> gx(s[1:num_x]), z), \n",
    "              ForwardDiff.jacobian(s -> gxy(s[1:num_x],s[num_x+1:num_x+num_y]),z),\n",
    "              ForwardDiff.jacobian(s -> gy(s[num_x+1:num_x+num_y]), z))\n",
    "    gceq = vcat(ForwardDiff.jacobian(s -> hx(s[1:num_x]), z), \n",
    "                ForwardDiff.jacobian(s -> hxy(s[1:num_x],s[num_x+1:num_x+num_y]),z),\n",
    "                ForwardDiff.jacobian(s -> hy(s[num_x+1:num_x+num_y]), z))\n",
    "    \n",
    "    fail = false\n",
    "    \n",
    "    J, c, ceq, gJ, gc, gceq, fail\n",
    "end\n",
    "\n",
    "z0 = zeros(num_z)\n",
    "lb = xymin * ones(num_z)\n",
    "ub = xymax * ones(num_z)\n",
    "options = Dict{String, Any}()\n",
    "options[\"Derivative option\"] = 1\n",
    "options[\"Verify level\"] = 1\n",
    "options[\"Major optimality tolerance\"] = 1e-6\n",
    "\n",
    "zopt, fopt, info = snopt(full_prob, z0, lb, ub, options)\n",
    "\n",
    "display(info)\n",
    "display(zopt)"
   ]
  },
  {
   "cell_type": "code",
   "execution_count": 97,
   "metadata": {},
   "outputs": [
    {
     "data": {
      "text/plain": [
       "\"The problem appears to be infeasible: nonlinear infeasibilities minimized\""
      ]
     },
     "metadata": {},
     "output_type": "display_data"
    },
    {
     "data": {
      "text/plain": [
       "5-element Array{Float64,1}:\n",
       " -0.15999999999982345   \n",
       "  0.0                   \n",
       "  3.0                   \n",
       " -1.4526513325563428e-10\n",
       "  0.0                   "
      ]
     },
     "metadata": {},
     "output_type": "display_data"
    }
   ],
   "source": [
    "function F(x)\n",
    "    fy = y -> y'*y\n",
    "    hxyy = y -> vcat(hxy(x,y),hy(y))\n",
    "    gxyy = y -> vcat(gxy(x,y),gy(y),y .- xymax,xymin .- y)\n",
    "    y0 = zeros(num_y)\n",
    "    λ0 = zeros(length(hxyy(y0)))\n",
    "    μ0 = zeros(length(gxyy(y0)))\n",
    "    ysol,λsol,μsol,csol = auglag_solve(y0,λ0,μ0,fy,hxyy,gxyy)\n",
    "    \n",
    "    J = fx(x)\n",
    "    c = vcat(gx(x),gxy(x,ysol))\n",
    "    ceq = vcat(hx(x),hxy(x,ysol))\n",
    "    \n",
    "    vcat(J,c,ceq)\n",
    "end\n",
    "\n",
    "Fres = DiffResults.JacobianResult(F(zeros(num_x)),zeros(num_x))\n",
    "num_g = length(gx(zeros(num_x))) + length(gxy(zeros(num_x),zeros(num_y)))\n",
    "num_h = length(hx(zeros(num_x))) + length(hxy(zeros(num_x),zeros(num_y)))\n",
    "function bilevel_prob(x)\n",
    "    ForwardDiff.jacobian!(Fres, F, x)\n",
    "    Fv = DiffResults.value(Fres)\n",
    "    FJ = DiffResults.jacobian(Fres)\n",
    "    \n",
    "    fail = false\n",
    "    \n",
    "    J = Fv[1]\n",
    "    c = Fv[2:1+num_g]\n",
    "    ceq = Fv[1+num_g+1:1+num_g+num_h]\n",
    "\n",
    "    gJ = FJ[1,:]\n",
    "    gc = FJ[2:1+num_g,:]\n",
    "    gceq = FJ[1+num_g+1:1+num_g+num_h,:]\n",
    "    \n",
    "    J, c, ceq, gJ, gc, gceq, fail\n",
    "end\n",
    "\n",
    "x0 = zeros(num_x)\n",
    "lb = xymin * ones(num_x)\n",
    "ub = xymax * ones(num_x)\n",
    "options = Dict{String, Any}()\n",
    "options[\"Derivative option\"] = 1\n",
    "options[\"Verify level\"] = -1\n",
    "options[\"Major optimality tolerance\"] = 1e-3\n",
    "\n",
    "xopt, fopt, info = snopt(bilevel_prob, x0, lb, ub, options)\n",
    "\n",
    "display(info)\n",
    "display(xopt)"
   ]
  },
  {
   "cell_type": "code",
   "execution_count": 93,
   "metadata": {},
   "outputs": [
    {
     "data": {
      "text/plain": [
       "5-element Array{Float64,1}:\n",
       " -4.9480167946029995e-15\n",
       " -3.071821602792873e-14 \n",
       " -9.773466698630485e-15 \n",
       "  2.5000000000000084    \n",
       "  2.000000000000007     "
      ]
     },
     "metadata": {},
     "output_type": "display_data"
    }
   ],
   "source": [
    "fy = y -> y'*y\n",
    "hxyy = y -> vcat(hxy(xopt,y),hy(y))\n",
    "gxyy = y -> vcat(gxy(xopt,y),gy(y),y .- xymax,xymin .- y)\n",
    "y0 = zeros(num_y)\n",
    "λ0 = zeros(length(hxyy(y0)))\n",
    "μ0 = zeros(length(gxyy(y0)))\n",
    "ysol,λsol,μsol,csol = auglag_solve(y0,λ0,μ0,fy,hxyy,gxyy)\n",
    "display(ysol)"
   ]
  }
 ],
 "metadata": {
  "kernelspec": {
   "display_name": "Julia 0.7.0",
   "language": "julia",
   "name": "julia-0.7"
  },
  "language_info": {
   "file_extension": ".jl",
   "mimetype": "application/julia",
   "name": "julia",
   "version": "0.7.0"
  }
 },
 "nbformat": 4,
 "nbformat_minor": 2
}
