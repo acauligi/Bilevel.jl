{
 "cells": [
  {
   "cell_type": "code",
   "execution_count": 1,
   "metadata": {
    "collapsed": false
   },
   "outputs": [
    {
     "name": "stderr",
     "output_type": "stream",
     "text": [
      "\u001b[1m\u001b[36mINFO: \u001b[39m\u001b[22m\u001b[36mRecompiling stale cache file /Users/blandry/.julia/lib/v0.6/LCPSim.ji for module LCPSim.\n",
      "\u001b[39m"
     ]
    },
    {
     "data": {
      "text/html": [
       "    <script class='js-collapse-script'>\n",
       "        var curMatch =\n",
       "            window.location.href\n",
       "            .match(/(.*?)\\/notebooks\\/.*\\.ipynb/);\n",
       "\n",
       "        curMatch = curMatch ||\n",
       "            window.location.href\n",
       "            .match(/(.*?)\\/apps\\/.*\\.ipynb/);\n",
       "\n",
       "        if ( curMatch ) {\n",
       "            $('head').append('<base href=\"' + curMatch[1] + '/\">');\n",
       "        }\n",
       "    </script>\n"
      ],
      "text/plain": [
       "HTML{String}(\"    <script class='js-collapse-script'>\\n        var curMatch =\\n            window.location.href\\n            .match(/(.*?)\\\\/notebooks\\\\/.*\\\\.ipynb/);\\n\\n        curMatch = curMatch ||\\n            window.location.href\\n            .match(/(.*?)\\\\/apps\\\\/.*\\\\.ipynb/);\\n\\n        if ( curMatch ) {\\n            \\$('head').append('<base href=\\\"' + curMatch[1] + '/\\\">');\\n        }\\n    </script>\\n\")"
      ]
     },
     "metadata": {},
     "output_type": "display_data"
    },
    {
     "data": {
      "text/html": [
       "<script class='js-collapse-script' src='/assetserver/8c8a043c2f00369f3e7ae550277d2a54e59a34ad-assets/webio/dist/bundle.js'></script>"
      ],
      "text/plain": [
       "HTML{String}(\"<script class='js-collapse-script' src='/assetserver/8c8a043c2f00369f3e7ae550277d2a54e59a34ad-assets/webio/dist/bundle.js'></script>\")"
      ]
     },
     "metadata": {},
     "output_type": "display_data"
    },
    {
     "data": {
      "text/html": [
       "<script class='js-collapse-script' src='/assetserver/8c8a043c2f00369f3e7ae550277d2a54e59a34ad-assets/providers/ijulia_setup.js'></script>"
      ],
      "text/plain": [
       "HTML{String}(\"<script class='js-collapse-script' src='/assetserver/8c8a043c2f00369f3e7ae550277d2a54e59a34ad-assets/providers/ijulia_setup.js'></script>\")"
      ]
     },
     "metadata": {},
     "output_type": "display_data"
    },
    {
     "data": {
      "text/html": [
       "  <script class='js-collapse-script'>\n",
       "    $('.js-collapse-script').parent('.output_subarea').css('padding', '0');\n",
       "  </script>\n"
      ],
      "text/plain": [
       "HTML{String}(\"  <script class='js-collapse-script'>\\n    \\$('.js-collapse-script').parent('.output_subarea').css('padding', '0');\\n  </script>\\n\")"
      ]
     },
     "metadata": {},
     "output_type": "display_data"
    }
   ],
   "source": [
    "using Revise\n",
    "\n",
    "using RigidBodyDynamics\n",
    "using RigidBodyDynamics: Bounds\n",
    "using LCPSim\n",
    "\n",
    "using RigidBodyTreeInspector\n",
    "using DrakeVisualizer\n",
    "using Plots"
   ]
  },
  {
   "cell_type": "code",
   "execution_count": 2,
   "metadata": {
    "collapsed": false
   },
   "outputs": [],
   "source": [
    "urdf = joinpath(\"..\",\"urdf\", \"brick.urdf\")\n",
    "mechanism = parse_urdf(Float64, urdf)\n",
    "\n",
    "body = findbody(mechanism, \"brick\")\n",
    "basejoint = joint_to_parent(body, mechanism)\n",
    "floatingjoint = Joint(basejoint.name, frame_before(basejoint), frame_after(basejoint), QuaternionFloating{Float64}())\n",
    "replace_joint!(mechanism, basejoint, floatingjoint)\n",
    "position_bounds(floatingjoint) .= Bounds(-100, 100)\n",
    "velocity_bounds(floatingjoint) .= Bounds(-100, 100);"
   ]
  },
  {
   "cell_type": "code",
   "execution_count": 3,
   "metadata": {
    "collapsed": false,
    "scrolled": false
   },
   "outputs": [],
   "source": [
    "x0 = MechanismState(mechanism)\n",
    "set_configuration!(x0, [1., 0., 0., 0., 0., 0., -.3])\n",
    "# set_velocity!(x0, [0., 1., 0., 0., 1. , 0.])\n",
    "set_velocity!(x0, [0., 0., 0., 0., 0. , 0.])\n",
    "setdirty!(x0)\n",
    "env = LCPSim.parse_contacts(mechanism, urdf);\n",
    "controller = LCPSim.passive_controller()\n",
    "Δt = 0.01\n",
    "N = 5;\n",
    "# N = 20;"
   ]
  },
  {
   "cell_type": "code",
   "execution_count": 10,
   "metadata": {
    "collapsed": false
   },
   "outputs": [
    {
     "name": "stdout",
     "output_type": "stream",
     "text": [
      "This is Ipopt version 3.12.8, running with linear solver mumps.\n",
      "NOTE: Other linear solvers might be more efficient (see Ipopt documentation).\n",
      "\n",
      "Number of nonzeros in equality constraint Jacobian...:        0\n",
      "Number of nonzeros in inequality constraint Jacobian.:      221\n",
      "Number of nonzeros in Lagrangian Hessian.............:        0\n",
      "\n",
      "Total number of variables............................:       13\n",
      "                     variables with only lower bounds:        0\n",
      "                variables with lower and upper bounds:        0\n",
      "                     variables with only upper bounds:        0\n",
      "Total number of equality constraints.................:        0\n",
      "Total number of inequality constraints...............:       17\n",
      "        inequality constraints with only lower bounds:        4\n",
      "   inequality constraints with lower and upper bounds:       13\n",
      "        inequality constraints with only upper bounds:        0\n",
      "\n",
      "iter    objective    inf_pr   inf_du lg(mu)  ||d||  lg(rg) alpha_du alpha_pr  ls\n",
      "   0  0.0000000e+00 3.27e-01 6.67e-01   0.0 0.00e+00    -  0.00e+00 0.00e+00   0\n",
      "   1  0.0000000e+00 2.29e-01 3.27e-01  -7.6 3.27e-01    -  9.79e-01 1.00e+00h  1\n",
      "   2  0.0000000e+00 9.54e-02 2.69e-01  -9.0 2.29e-01    -  5.01e-01 9.90e-01h  1\n",
      "   3  0.0000000e+00 9.42e-02 2.20e-01  -5.4 9.52e-02    -  9.89e-01 1.20e-02h  1\n",
      "   4  0.0000000e+00 4.45e-05 9.41e-02  -6.3 9.41e-02    -  1.00e+00 1.00e+00h  1\n",
      "Cholesky factorization failed for LBFGS update! Skipping update.\n",
      "   5  0.0000000e+00 0.00e+00 5.36e-05  -8.2 4.53e-05    -  1.00e+00 1.00e+00h  1\n",
      "WARNING: Problem in step computation; switching to emergency mode.\n",
      "Restoration phase is called at point that is almost feasible,\n",
      "  with constraint violation 1.446834e-14. Abort.\n",
      "\n",
      "Number of Iterations....: 5\n",
      "\n",
      "                                   (scaled)                 (unscaled)\n",
      "Objective...............:   0.0000000000000000e+00    0.0000000000000000e+00\n",
      "Dual infeasibility......:   5.3579787567195816e-05    5.3579787567195816e-05\n",
      "Constraint violation....:   0.0000000000000000e+00    0.0000000000000000e+00\n",
      "Complementarity.........:   1.2982485183979309e-08    1.2982485183979309e-08\n",
      "Overall NLP error.......:   5.3579787567195816e-05    5.3579787567195816e-05\n",
      "\n",
      "\n",
      "Number of objective function evaluations             = 6\n",
      "Number of objective gradient evaluations             = 6\n",
      "Number of equality constraint evaluations            = 0\n",
      "Number of inequality constraint evaluations          = 6\n",
      "Number of equality constraint Jacobian evaluations   = 0\n",
      "Number of inequality constraint Jacobian evaluations = 6\n",
      "Number of Lagrangian Hessian evaluations             = 0\n",
      "Total CPU secs in IPOPT (w/o function evaluations)   =     38.664\n",
      "Total CPU secs in NLP function evaluations           =      3.723\n",
      "\n",
      "EXIT: Restoration Failed!\n",
      "This is Ipopt version 3.12.8, running with linear solver mumps.\n",
      "NOTE: Other linear solvers might be more efficient (see Ipopt documentation).\n",
      "\n",
      "Number of nonzeros in equality constraint Jacobian...:        0\n",
      "Number of nonzeros in inequality constraint Jacobian.:      221\n",
      "Number of nonzeros in Lagrangian Hessian.............:        0\n",
      "\n",
      "Total number of variables............................:       13\n",
      "                     variables with only lower bounds:        0\n",
      "                variables with lower and upper bounds:        0\n",
      "                     variables with only upper bounds:        0\n",
      "Total number of equality constraints.................:        0\n",
      "Total number of inequality constraints...............:       17\n",
      "        inequality constraints with only lower bounds:        4\n",
      "   inequality constraints with lower and upper bounds:       13\n",
      "        inequality constraints with only upper bounds:        0\n",
      "\n",
      "iter    objective    inf_pr   inf_du lg(mu)  ||d||  lg(rg) alpha_du alpha_pr  ls\n",
      "   0  0.0000000e+00 9.81e-02 6.67e-01   0.0 0.00e+00    -  0.00e+00 0.00e+00   0\n",
      "   1  0.0000000e+00 0.00e+00 5.74e-02  -7.6 9.81e-02    -  1.00e+00 1.00e+00h  1\n",
      "   2  0.0000000e+00 0.00e+00 1.63e-04  -4.8 2.43e-04    -  1.00e+00 8.19e-03f  1\n",
      "   3  0.0000000e+00 0.00e+00 1.50e-04  -4.9 1.12e-06    -  1.00e+00 1.00e+00f  1\n",
      "   4  0.0000000e+00 0.00e+00 7.89e-05  -4.9 2.53e-07    -  1.00e+00 1.00e+00h  1\n",
      "   5  0.0000000e+00 0.00e+00 1.08e-09  -7.3 8.72e-11    -  1.00e+00 1.00e+00h  1\n",
      "   6  0.0000000e+00 0.00e+00 6.16e-11  -9.0 1.41e-13    -  1.00e+00 1.00e+00h  1\n",
      "\n",
      "Number of Iterations....: 6\n",
      "\n",
      "                                   (scaled)                 (unscaled)\n",
      "Objective...............:   0.0000000000000000e+00    0.0000000000000000e+00\n",
      "Dual infeasibility......:   6.1647085620339130e-11    6.1647085620339130e-11\n",
      "Constraint violation....:   0.0000000000000000e+00    0.0000000000000000e+00\n",
      "Complementarity.........:   9.0909638286683677e-10    9.0909638286683677e-10\n",
      "Overall NLP error.......:   9.0909638286683677e-10    9.0909638286683677e-10\n",
      "\n",
      "\n",
      "Number of objective function evaluations             = 7\n",
      "Number of objective gradient evaluations             = 7\n",
      "Number of equality constraint evaluations            = 0\n",
      "Number of inequality constraint evaluations          = 7\n",
      "Number of equality constraint Jacobian evaluations   = 0\n",
      "Number of inequality constraint Jacobian evaluations = 7\n",
      "Number of Lagrangian Hessian evaluations             = 0\n",
      "Total CPU secs in IPOPT (w/o function evaluations)   =      0.040\n",
      "Total CPU secs in NLP function evaluations           =      0.307\n",
      "\n",
      "EXIT: Optimal Solution Found.\n",
      "This is Ipopt version 3.12.8, running with linear solver mumps.\n",
      "NOTE: Other linear solvers might be more efficient (see Ipopt documentation).\n",
      "\n",
      "Number of nonzeros in equality constraint Jacobian...:        0\n",
      "Number of nonzeros in inequality constraint Jacobian.:      221\n",
      "Number of nonzeros in Lagrangian Hessian.............:        0\n",
      "\n",
      "Total number of variables............................:       13\n",
      "                     variables with only lower bounds:        0\n",
      "                variables with lower and upper bounds:        0\n",
      "                     variables with only upper bounds:        0\n",
      "Total number of equality constraints.................:        0\n",
      "Total number of inequality constraints...............:       17\n",
      "        inequality constraints with only lower bounds:        4\n",
      "   inequality constraints with lower and upper bounds:       13\n",
      "        inequality constraints with only upper bounds:        0\n",
      "\n",
      "iter    objective    inf_pr   inf_du lg(mu)  ||d||  lg(rg) alpha_du alpha_pr  ls\n",
      "   0  0.0000000e+00 8.64e-01 6.67e-01   0.0 0.00e+00    -  0.00e+00 0.00e+00   0\n",
      "   1  0.0000000e+00 9.84e-02 1.35e+00  -2.2 1.07e+00    -  9.86e-01 3.12e-04h  1\n",
      "   2  0.0000000e+00 1.07e-02 1.30e-01  -4.1 1.03e-01    -  1.00e+00 1.00e+00h  1\n",
      "   3  0.0000000e+00 6.46e-04 7.59e-03  -5.5 1.05e-02    -  1.00e+00 1.00e+00h  1\n",
      "   4  0.0000000e+00 3.31e-06 1.19e-04  -7.6 6.47e-04    -  1.00e+00 1.00e+00h  1\n",
      "   5  0.0000000e+00 0.00e+00 4.81e-08 -11.0 4.30e-06    -  1.00e+00 1.00e+00h  1\n",
      "   6  0.0000000e+00 4.51e-01 1.08e-06 -11.0 9.56e-07    -  1.00e+00 1.00e+00h  1\n",
      "   7  0.0000000e+00 1.65e-05 7.90e-05 -11.0 5.83e-01    -  2.83e-05 2.84e-05h  1\n",
      "   8  0.0000000e+00 1.41e-05 1.93e-05 -11.0 1.90e-05    -  8.74e-01 1.25e-01f  4\n",
      "   9  0.0000000e+00 3.42e-04 3.08e-05 -11.0 2.63e-04    -  1.80e-01 3.82e-03h  2\n",
      "iter    objective    inf_pr   inf_du lg(mu)  ||d||  lg(rg) alpha_du alpha_pr  ls\n",
      "  10  0.0000000e+00 1.14e-05 2.83e-05 -11.0 3.24e-04    -  5.99e-02 7.75e-03h  4\n",
      "  11  0.0000000e+00 0.00e+00 5.93e-06 -11.0 1.18e-05    -  1.00e+00 1.00e+00h  1\n",
      "  12  0.0000000e+00 0.00e+00 1.24e-09 -11.0 9.81e-07    -  1.00e+00 1.00e+00h  1\n",
      "\n",
      "Number of Iterations....: 12\n",
      "\n",
      "                                   (scaled)                 (unscaled)\n",
      "Objective...............:   0.0000000000000000e+00    0.0000000000000000e+00\n",
      "Dual infeasibility......:   1.2364178643945328e-09    1.2364178643945328e-09\n",
      "Constraint violation....:   0.0000000000000000e+00    0.0000000000000000e+00\n",
      "Complementarity.........:   1.3392529112195571e-11    1.3392529112195571e-11\n",
      "Overall NLP error.......:   1.2364178643945328e-09    1.2364178643945328e-09\n",
      "\n",
      "\n",
      "Number of objective function evaluations             = 27\n",
      "Number of objective gradient evaluations             = 13\n",
      "Number of equality constraint evaluations            = 0\n",
      "Number of inequality constraint evaluations          = 27\n",
      "Number of equality constraint Jacobian evaluations   = 0\n",
      "Number of inequality constraint Jacobian evaluations = 13\n",
      "Number of Lagrangian Hessian evaluations             = 0\n",
      "Total CPU secs in IPOPT (w/o function evaluations)   =      0.063\n",
      "Total CPU secs in NLP function evaluations           =      0.700\n",
      "\n",
      "EXIT: Optimal Solution Found.\n",
      "This is Ipopt version 3.12.8, running with linear solver mumps.\n",
      "NOTE: Other linear solvers might be more efficient (see Ipopt documentation).\n",
      "\n",
      "Number of nonzeros in equality constraint Jacobian...:        0\n",
      "Number of nonzeros in inequality constraint Jacobian.:      221\n",
      "Number of nonzeros in Lagrangian Hessian.............:        0\n",
      "\n",
      "Total number of variables............................:       13\n",
      "                     variables with only lower bounds:        0\n",
      "                variables with lower and upper bounds:        0\n",
      "                     variables with only upper bounds:        0\n",
      "Total number of equality constraints.................:        0\n",
      "Total number of inequality constraints...............:       17\n",
      "        inequality constraints with only lower bounds:        4\n",
      "   inequality constraints with lower and upper bounds:       13\n",
      "        inequality constraints with only upper bounds:        0\n",
      "\n",
      "iter    objective    inf_pr   inf_du lg(mu)  ||d||  lg(rg) alpha_du alpha_pr  ls\n",
      "   0  0.0000000e+00 9.81e-02 6.67e-01   0.0 0.00e+00    -  0.00e+00 0.00e+00   0\n",
      "   1  0.0000000e+00 2.69e-03 9.82e-02  -7.6 9.81e-02    -  1.00e+00 1.00e+00h  1\n",
      "   2  0.0000000e+00 2.67e-03 9.77e-02  -4.6 2.72e-03    -  9.97e-01 9.12e-03h  1\n",
      "   3  0.0000000e+00 1.99e-05 1.94e-02  -6.3 2.68e-03    -  1.00e+00 1.00e+00h  1\n",
      "   4  0.0000000e+00 1.92e+00 6.37e-02  -7.4 4.36e-04    -  1.00e+00 1.00e+00h  1\n",
      "   5  0.0000000e+00 7.02e-02 8.28e-02  -7.5 1.92e+00    -  5.78e-02 3.63e-02h  1\n",
      "   6  0.0000000e+00 2.35e-05 1.42e-01  -7.5 7.01e-02    -  6.96e-01 1.00e+00h  1\n",
      "   7  0.0000000e+00 2.22e-05 6.91e-02  -7.5 2.45e-05    -  1.00e+00 5.16e-02h  2\n",
      "   8  0.0000000e+00 9.34e-06 6.29e-02  -7.5 2.56e-05    -  5.91e-01 5.91e-01h  1\n",
      "   9  0.0000000e+00 3.75e+00 1.99e-01  -8.2 1.01e-05    -  1.00e+00 1.00e+00f  1\n",
      "iter    objective    inf_pr   inf_du lg(mu)  ||d||  lg(rg) alpha_du alpha_pr  ls\n",
      "  10  0.0000000e+00 4.47e-06 2.45e-01  -8.3 3.40e+00    -  6.83e-07 1.66e-06h  1\n",
      "  11  0.0000000e+00 0.00e+00 3.09e-06  -9.3 6.17e-06    -  1.00e+00 1.00e+00h  1\n",
      "  12  0.0000000e+00 0.00e+00 1.75e-08 -11.0 3.58e-08    -  1.00e+00 1.00e+00h  1\n",
      "  13  0.0000000e+00 0.00e+00 9.18e-07 -11.0 9.42e-07    -  1.00e+00 1.00e+00h  1\n",
      "  14  0.0000000e+00 0.00e+00 7.62e-07 -11.0 7.32e-07    -  1.00e+00 1.00e+00h  1\n",
      "  15  0.0000000e+00 0.00e+00 3.41e-07 -11.0 7.07e-07    -  1.00e+00 1.00e+00h  1\n",
      "  16  0.0000000e+00 0.00e+00 2.60e-09 -11.0 3.45e-08    -  1.00e+00 1.00e+00h  1\n",
      "\n",
      "Number of Iterations....: 16\n",
      "\n",
      "                                   (scaled)                 (unscaled)\n",
      "Objective...............:   0.0000000000000000e+00    0.0000000000000000e+00\n",
      "Dual infeasibility......:   2.5981919135362767e-09    2.5981919135362767e-09\n",
      "Constraint violation....:   0.0000000000000000e+00    0.0000000000000000e+00\n",
      "Complementarity.........:   1.0000001087205002e-11    1.0000001087205002e-11\n",
      "Overall NLP error.......:   2.5981919135362767e-09    2.5981919135362767e-09\n",
      "\n",
      "\n",
      "Number of objective function evaluations             = 21\n",
      "Number of objective gradient evaluations             = 17\n",
      "Number of equality constraint evaluations            = 0\n",
      "Number of inequality constraint evaluations          = 21\n",
      "Number of equality constraint Jacobian evaluations   = 0\n",
      "Number of inequality constraint Jacobian evaluations = 17\n",
      "Number of Lagrangian Hessian evaluations             = 0\n",
      "Total CPU secs in IPOPT (w/o function evaluations)   =      0.067\n",
      "Total CPU secs in NLP function evaluations           =      0.809\n",
      "\n",
      "EXIT: Optimal Solution Found.\n",
      "This is Ipopt version 3.12.8, running with linear solver mumps.\n",
      "NOTE: Other linear solvers might be more efficient (see Ipopt documentation).\n",
      "\n",
      "Number of nonzeros in equality constraint Jacobian...:        0\n",
      "Number of nonzeros in inequality constraint Jacobian.:      221\n",
      "Number of nonzeros in Lagrangian Hessian.............:        0\n",
      "\n",
      "Total number of variables............................:       13\n",
      "                     variables with only lower bounds:        0\n",
      "                variables with lower and upper bounds:        0\n",
      "                     variables with only upper bounds:        0\n",
      "Total number of equality constraints.................:        0\n",
      "Total number of inequality constraints...............:       17\n",
      "        inequality constraints with only lower bounds:        4\n",
      "   inequality constraints with lower and upper bounds:       13\n",
      "        inequality constraints with only upper bounds:        0\n",
      "\n",
      "iter    objective    inf_pr   inf_du lg(mu)  ||d||  lg(rg) alpha_du alpha_pr  ls\n",
      "   0  0.0000000e+00 9.81e-02 1.00e+00   0.0 0.00e+00    -  0.00e+00 0.00e+00   0\n",
      "WARNING: Problem in step computation; switching to emergency mode.\n",
      "   1r 0.0000000e+00 9.81e-02 9.90e+02   0.0 0.00e+00  20.0 0.00e+00 0.00e+00R  1\n",
      "WARNING: Problem in step computation; switching to emergency mode.\n",
      "Restoration phase is called at point that is almost feasible,\n",
      "  with constraint violation 1.082432e-17. Abort.\n",
      "Restoration phase in the restoration phase failed.\n",
      "\n",
      "Number of Iterations....: 1\n",
      "\n",
      "                                   (scaled)                 (unscaled)\n",
      "Objective...............:   0.0000000000000000e+00    0.0000000000000000e+00\n",
      "Dual infeasibility......:   1.0000000000000000e+00    1.0000000000000000e+00\n",
      "Constraint violation....:   9.8098990000383954e-02    9.8098990000383954e-02\n",
      "Complementarity.........:   1.9019122231372868e-01    1.9019122231372868e-01\n",
      "Overall NLP error.......:   1.0000000000000000e+00    1.0000000000000000e+00\n",
      "\n",
      "\n",
      "Number of objective function evaluations             = 2\n",
      "Number of objective gradient evaluations             = 2\n",
      "Number of equality constraint evaluations            = 0\n",
      "Number of inequality constraint evaluations          = 2\n",
      "Number of equality constraint Jacobian evaluations   = 0\n",
      "Number of inequality constraint Jacobian evaluations = 2\n",
      "Number of Lagrangian Hessian evaluations             = 0\n",
      "Total CPU secs in IPOPT (w/o function evaluations)   =      0.034\n",
      "Total CPU secs in NLP function evaluations           =      0.462\n",
      "\n",
      "EXIT: Restoration Failed!\n"
     ]
    },
    {
     "name": "stderr",
     "output_type": "stream",
     "text": [
      "WARNING: Method definition τ_contact_wrenches(Any, Any, Any, Any, Any, Any, Any, Any, Any, Any, Any, Any, Any, Any, Any, Any, Any, Any, Any, Any, Any, Any, Any, Any, AbstractArray{M, N} where N, AbstractArray{M, N} where N, AbstractArray{M, N} where N, AbstractArray{T, N} where N, AbstractArray{T, N} where N) in module LCPSim at /Users/blandry/.julia/v0.6/LCPSim/src/contact.jl:174 overwritten at /Users/blandry/.julia/v0.6/LCPSim/src/contact.jl:174.\n"
     ]
    }
   ],
   "source": [
    "results = LCPSim.simulate(x0, controller, env, Δt, N)\n",
    "qs = [results[1:num_positions(x0),i] for i in 1:N]\n",
    "ts = cumsum([Δt for i in 1:N]);"
   ]
  },
  {
   "cell_type": "code",
   "execution_count": null,
   "metadata": {
    "collapsed": false
   },
   "outputs": [],
   "source": [
    "RigidBodyTreeInspector.animate(vis, mechanism, ts, qs; realtimerate = .25);"
   ]
  },
  {
   "cell_type": "code",
   "execution_count": null,
   "metadata": {
    "collapsed": true
   },
   "outputs": [],
   "source": [
    "DrakeVisualizer.any_open_windows() || (DrakeVisualizer.new_window(); sleep(1));\n",
    "geometries = visual_elements(mechanism, URDFVisuals(urdf))\n",
    "vis = Visualizer(mechanism, geometries);"
   ]
  },
  {
   "cell_type": "code",
   "execution_count": null,
   "metadata": {
    "collapsed": false
   },
   "outputs": [],
   "source": [
    "plot(results[7,:])"
   ]
  },
  {
   "cell_type": "code",
   "execution_count": null,
   "metadata": {
    "collapsed": false
   },
   "outputs": [],
   "source": [
    "# testing the contact wrench function\n",
    "\n",
    "q0 = [1., 0., 0., 0., 0., 0., 2.]\n",
    "v0 = [0., 1., 0., 0., 1. , 0.]\n",
    "set_configuration!(x0, q0)\n",
    "set_velocity!(x0, v0)\n",
    "qnext = [1., 0., 0., 0., 0., 0., 2.]\n",
    "vnext = [0., 1., 0., 0., 1. , 0.]\n",
    "num_q = length(q0)\n",
    "num_v = length(v0)\n",
    "τ_contact_wrenches(env,mechanism,Δt,x0,qnext,vnext)\n",
    "ForwardDiff.jacobian(x -> τ_contact_wrenches(env,mechanism,Δt,x0,x[1:num_q],x[num_q+1:num_q+num_v]),vcat(qnext,vnext))"
   ]
  },
  {
   "cell_type": "code",
   "execution_count": null,
   "metadata": {
    "collapsed": false
   },
   "outputs": [],
   "source": [
    "# testing the augm,ented lagragian method\n",
    "\n",
    "n = 5\n",
    "x = zeros(n)\n",
    "f = x -> x'*x\n",
    "h = x -> [0.]\n",
    "g = x -> 5. - x\n",
    "num_h = length(h(x))\n",
    "num_g = length(g(x))\n",
    "N = 5\n",
    "α = 1.\n",
    "I = 1e-12\n",
    "augmented_lagrangian_newton!(x,f,h,g,num_h,num_g,N,α,I)"
   ]
  },
  {
   "cell_type": "code",
   "execution_count": null,
   "metadata": {
    "collapsed": true
   },
   "outputs": [],
   "source": [
    "τ_contact_wrenches(env,mechanism,bodies,contact_points,obstacles,Δt,\n",
    "                   num_v,num_contacts,β_dim,β_selector,λ_selector,c_n_selector,\n",
    "                   contact_bases,μs,ϕs,Ds,Dtv,world_frame,total_weight,\n",
    "                   rel_transforms,geo_jacobians,\n",
    "                   config_derivative,HΔv,dyn_bias,\n",
    "                   q0,v0,u0,qnext,vnext)"
   ]
  }
 ],
 "metadata": {
  "kernelspec": {
   "display_name": "Julia 0.6.4",
   "language": "julia",
   "name": "julia-0.6"
  },
  "language_info": {
   "file_extension": ".jl",
   "mimetype": "application/julia",
   "name": "julia",
   "version": "0.6.4"
  }
 },
 "nbformat": 4,
 "nbformat_minor": 2
}
