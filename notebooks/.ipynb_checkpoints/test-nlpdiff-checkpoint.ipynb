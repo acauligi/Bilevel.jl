{
 "cells": [
  {
   "cell_type": "code",
   "execution_count": 1,
   "metadata": {
    "collapsed": false
   },
   "outputs": [],
   "source": [
    "using Revise\n",
    "using BilevelTrajOpt"
   ]
  },
  {
   "cell_type": "code",
   "execution_count": 2,
   "metadata": {
    "collapsed": false
   },
   "outputs": [
    {
     "data": {
      "text/plain": [
       "4×4 Array{Float64,2}:\n",
       " 0.535168  0.0       0.0       0.0     \n",
       " 0.0       0.478549  0.0       0.0     \n",
       " 0.0       0.0       0.673624  0.0     \n",
       " 0.0       0.0       0.0       0.759276"
      ]
     },
     "execution_count": 2,
     "metadata": {},
     "output_type": "execute_result"
    }
   ],
   "source": [
    "a = rand(4)\n",
    "A = diagm(a)"
   ]
  },
  {
   "cell_type": "code",
   "execution_count": 122,
   "metadata": {
    "collapsed": false,
    "scrolled": true
   },
   "outputs": [
    {
     "data": {
      "text/plain": [
       "10-element Array{Float64,1}:\n",
       "  0.342591 \n",
       " -0.0158541\n",
       "  0.167881 \n",
       "  1.49031  \n",
       " -0.0184756\n",
       " -0.0136877\n",
       " -0.10952  \n",
       " -0.239813 \n",
       " -0.422224 \n",
       "  0.112231 "
      ]
     },
     "metadata": {},
     "output_type": "display_data"
    },
    {
     "data": {
      "text/plain": [
       "10-element Array{Float64,1}:\n",
       "  0.387204 \n",
       " -0.0137515\n",
       "  0.182031 \n",
       "  1.59608  \n",
       " -0.0196701\n",
       " -0.0145832\n",
       " -0.116375 \n",
       " -0.253733 \n",
       " -0.444236 \n",
       "  0.11898  "
      ]
     },
     "metadata": {},
     "output_type": "display_data"
    },
    {
     "data": {
      "text/plain": [
       "10-element Array{Float64,1}:\n",
       "  0.391413 \n",
       " -0.0135318\n",
       "  0.183344 \n",
       "  1.60574  \n",
       " -0.01978  \n",
       " -0.0146631\n",
       " -0.116983 \n",
       " -0.254984 \n",
       " -0.446216 \n",
       "  0.119593 "
      ]
     },
     "metadata": {},
     "output_type": "display_data"
    },
    {
     "data": {
      "text/plain": [
       "10-element Array{Float64,1}:\n",
       "   6.0      \n",
       "   0.193899 \n",
       "   1.0      \n",
       "  10.6739   \n",
       "  -1.00837  \n",
       "   0.618292 \n",
       "  10.5833   \n",
       "  -0.0255139\n",
       " -17.9237   \n",
       " -16.7501   "
      ]
     },
     "metadata": {},
     "output_type": "display_data"
    },
    {
     "data": {
      "text/plain": [
       "10-element Array{Float64,1}:\n",
       "   6.0        \n",
       "   2.32395e-10\n",
       "   1.0        \n",
       "   4.47219    \n",
       "  -2.17193    \n",
       "   0.54237    \n",
       "  -0.528118   \n",
       " -12.6025     \n",
       "  -7.62148e8  \n",
       "  -4.10756e8  "
      ]
     },
     "metadata": {},
     "output_type": "display_data"
    },
    {
     "data": {
      "text/plain": [
       "4-element Array{Float64,1}:\n",
       " 6.0        \n",
       " 2.32395e-10\n",
       " 1.0        \n",
       " 4.47219    "
      ]
     },
     "metadata": {},
     "output_type": "display_data"
    },
    {
     "data": {
      "text/plain": [
       "4-element Array{Float64,1}:\n",
       "  0.294118   \n",
       "  2.31209e-15\n",
       "  3.85294    \n",
       " 17.0        "
      ]
     },
     "metadata": {},
     "output_type": "display_data"
    },
    {
     "name": "stdout",
     "output_type": "stream",
     "text": [
      "Infeasible_Problem_Detected\n"
     ]
    }
   ],
   "source": [
    "# A = diagm(rand(4))\n",
    "\n",
    "# test the solution\n",
    "function f(x)\n",
    "#     return x[1] * x[4] * (x[1] + x[2] + x[3]) + x[3]\n",
    "#     return x'*A*x \n",
    "#     return 0.\n",
    "    return sum(x)\n",
    "end\n",
    "\n",
    "function h(x)\n",
    "#     return [40. - (x[1]^2 + x[2]^2 + x[3]^2 + x[4]^2)]\n",
    "    return [6. - x[1],x[1]*x[2],x[1]*.5+x[3]-4.]\n",
    "#     return [x[1] + x[2] - 1., x[3] - 1., x[4]*x[1]]\n",
    "end\n",
    "\n",
    "function g(x)\n",
    "#     return [25. - (x[1]*x[2]*x[3]*x[4])]\n",
    "#     return vcat([25. - (x[1]*x[2]*x[3]*x[4])], 1. - x, x - 5.)\n",
    "#     return vcat([1. - x[2]],-x)\n",
    "\n",
    "    return vcat(-x[2:3],5.-x[4],10.-x[4],17.-x[4],5-x[1]*x[4])\n",
    "#     return vcat(-x[2:3],5.-x[4])\n",
    "    \n",
    "#     return [0.]\n",
    "#     return vcat([x[1] - .1], 5. - x[4])\n",
    "end\n",
    "\n",
    "x0 = zeros(4)\n",
    "λ0 = zeros(length(h(x0)))\n",
    "μ0 = zeros(length(g(x0)))\n",
    "c0 = 1.\n",
    "\n",
    "# x0 = x_sol\n",
    "# λ0 = λ_sol\n",
    "# μ0 = μ_sol\n",
    "# c0 = c_sol\n",
    "\n",
    "x_sol, λ_sol, μ_sol, c_sol = auglag_solve(x0,λ0,μ0,f,h,g,c0=c0)\n",
    "\n",
    "num_h = length(λ0)\n",
    "num_g = length(μ0)\n",
    "x_sol_ip = ip_solve(x0,f,h,g,num_h,num_g)\n",
    "\n",
    "# x_sol_known = [1.000, 4.743, 3.821, 1.379]\n",
    "\n",
    "display(x_sol)\n",
    "display(x_sol_ip)\n",
    "# display(x_sol_known)"
   ]
  },
  {
   "cell_type": "code",
   "execution_count": 90,
   "metadata": {
    "collapsed": false
   },
   "outputs": [
    {
     "data": {
      "text/plain": [
       "4-element Array{Float64,1}:\n",
       "    0.14712\n",
       "   -4.65494\n",
       " -222.0    \n",
       " -227.0    "
      ]
     },
     "execution_count": 90,
     "metadata": {},
     "output_type": "execute_result"
    }
   ],
   "source": [
    "μ_sol"
   ]
  },
  {
   "cell_type": "code",
   "execution_count": 113,
   "metadata": {
    "collapsed": false
   },
   "outputs": [
    {
     "data": {
      "text/plain": [
       "17.389794243745335"
      ]
     },
     "metadata": {},
     "output_type": "display_data"
    },
    {
     "data": {
      "text/plain": [
       "3-element Array{Float64,1}:\n",
       "  4.05533e-11\n",
       " -4.58422e-15\n",
       "  5.29443e-12"
      ]
     },
     "metadata": {},
     "output_type": "display_data"
    },
    {
     "data": {
      "text/plain": [
       "4-element Array{Float64,1}:\n",
       "  7.64037e-16\n",
       " -1.0        \n",
       " -5.38979    \n",
       " -0.389794   "
      ]
     },
     "metadata": {},
     "output_type": "display_data"
    },
    {
     "data": {
      "text/plain": [
       "16.999999990009997"
      ]
     },
     "metadata": {},
     "output_type": "display_data"
    },
    {
     "data": {
      "text/plain": [
       "3-element Array{Float64,1}:\n",
       "  0.0        \n",
       " -1.24077e-24\n",
       "  0.0        "
      ]
     },
     "metadata": {},
     "output_type": "display_data"
    },
    {
     "data": {
      "text/plain": [
       "4-element Array{Float64,1}:\n",
       "  2.06795e-25\n",
       " -1.0        \n",
       " -5.0        \n",
       "  9.99e-9    "
      ]
     },
     "metadata": {},
     "output_type": "display_data"
    }
   ],
   "source": [
    "x = x_sol\n",
    "display(f(x))\n",
    "display(h(x))\n",
    "display(g(x))\n",
    "\n",
    "x = x_sol_ip\n",
    "display(f(x))\n",
    "display(h(x))\n",
    "display(g(x))"
   ]
  },
  {
   "cell_type": "code",
   "execution_count": null,
   "metadata": {
    "collapsed": true
   },
   "outputs": [],
   "source": [
    "# test the gradient\n",
    "\n",
    "A = diagm(rand(4))\n",
    "\n",
    "function solve_prob(z)\n",
    "    function f(x)\n",
    "        return x'*A*x + z[1]\n",
    "    end\n",
    "\n",
    "    function h(x)\n",
    "        return [x[1] + x[2] - 1., x[3] - z[2], x[4]*x[1]]\n",
    "    end\n",
    "\n",
    "    function g(x)\n",
    "        return vcat([x[1] - z[4]], z[3] - x[4])\n",
    "    end\n",
    "\n",
    "    x0 = [1., 1., 1., 1.]\n",
    "    λ0 = ones(length(h(x0)))\n",
    "    μ0 = ones(length(g(x0)))\n",
    "\n",
    "    x_min = 1.*ones(length(x0))\n",
    "    x_max = 10.*ones(length(x0))\n",
    "\n",
    "    x_sol, λ_sol, μ_sol = auglag_solve(x0,λ0,μ0,f,h,g,x_min,x_max)\n",
    "    \n",
    "    x_sol\n",
    "end"
   ]
  },
  {
   "cell_type": "code",
   "execution_count": null,
   "metadata": {
    "collapsed": true
   },
   "outputs": [],
   "source": [
    "z0 = [2.,-1.]\n",
    "\n",
    "# autodiff \n",
    "J_auto = ForwardDiff.jacobian(solve_prob,z0)\n",
    "\n",
    "# numerical\n",
    "ϵ = 1e-12\n",
    "J_num = zeros(size(J_auto))\n",
    "for i = 1:length(z0)\n",
    "    δ = zeros(length(z0))\n",
    "    δ[i] = ϵ\n",
    "    J_num[:,i] = (solve_prob(z0 + δ) - solve_prob(z0))/ϵ\n",
    "end\n",
    "\n",
    "display(solve_prob(z0))\n",
    "\n",
    "display(J_auto)\n",
    "display(J_num)"
   ]
  }
 ],
 "metadata": {
  "kernelspec": {
   "display_name": "Julia 0.6.4",
   "language": "julia",
   "name": "julia-0.6"
  },
  "language_info": {
   "file_extension": ".jl",
   "mimetype": "application/julia",
   "name": "julia",
   "version": "0.6.4"
  }
 },
 "nbformat": 4,
 "nbformat_minor": 2
}
