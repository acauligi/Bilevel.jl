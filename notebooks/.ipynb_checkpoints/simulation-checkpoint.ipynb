{
 "cells": [
  {
   "cell_type": "code",
   "execution_count": 17,
   "metadata": {},
   "outputs": [],
   "source": [
    "using Revise\n",
    "\n",
    "using RigidBodyDynamics\n",
    "using RigidBodyDynamics: Bounds\n",
    "\n",
    "using DrakeVisualizer\n",
    "using Plots\n",
    "using RigidBodyTreeInspector\n",
    "\n",
    "using BilevelTrajOpt\n",
    "gr(size=(500,500), html_output_format=:png);"
   ]
  },
  {
   "cell_type": "code",
   "execution_count": 18,
   "metadata": {},
   "outputs": [],
   "source": [
    "urdf = joinpath(\"..\", \"urdf\", \"ball.urdf\")\n",
    "mechanism = parse_urdf(Float64, urdf)\n",
    "body = findbody(mechanism, \"ball\")\n",
    "basejoint = joint_to_parent(body, mechanism)\n",
    "floatingjoint = Joint(basejoint.name, frame_before(basejoint), frame_after(basejoint), QuaternionFloating{Float64}())\n",
    "replace_joint!(mechanism, basejoint, floatingjoint)\n",
    "position_bounds(floatingjoint) .= Bounds(-100, 100)\n",
    "velocity_bounds(floatingjoint) .= Bounds(-100, 100)\n",
    "μ = 0.5\n",
    "motion_type = :xyz\n",
    "point = Point3D(default_frame(findbody(mechanism, \"floor\")), [0.,0.,0.])\n",
    "normal = FreeVector3D(default_frame(findbody(mechanism, \"floor\")), [0.,0.,1.])\n",
    "hs = HalfSpace(point, normal)\n",
    "floor = Obstacle(hs, μ, motion_type)\n",
    "obstacles = [floor]\n",
    "env = parse_contacts(mechanism, urdf, obstacles)\n",
    "x0 = MechanismState(mechanism)\n",
    "Δt = 0.005;"
   ]
  },
  {
   "cell_type": "code",
   "execution_count": 35,
   "metadata": {},
   "outputs": [
    {
     "data": {
      "text/plain": [
       "(::#23) (generic function with 1 method)"
      ]
     },
     "execution_count": 35,
     "metadata": {},
     "output_type": "execute_result"
    }
   ],
   "source": [
    "# q0 = [1., 0., 0., 0., 0., 0., 0.005]\n",
    "q0 = [1., 0., 0., 0., 0., 0., 0.]\n",
    "v0 = [0., 0., 0., 0.1, 0. , 0.]\n",
    "N = 5\n",
    "\n",
    "set_configuration!(x0, q0)\n",
    "set_velocity!(x0, v0)\n",
    "setdirty!(x0)\n",
    "\n",
    "ctrl! = (u,t,x) -> u[:] = 0."
   ]
  },
  {
   "cell_type": "code",
   "execution_count": 41,
   "metadata": {},
   "outputs": [
    {
     "data": {
      "text/plain": [
       "6-element Array{Float64,1}:\n",
       "  0.0    \n",
       "  0.0    \n",
       "  0.0    \n",
       "  1.19252\n",
       "  1.19252\n",
       " -8.88093"
      ]
     },
     "metadata": {},
     "output_type": "display_data"
    },
    {
     "data": {
      "text/plain": [
       "6-element Array{Float64,1}:\n",
       "  0.0    \n",
       "  0.0    \n",
       "  0.0    \n",
       "  1.19252\n",
       "  1.19252\n",
       " -8.88093"
      ]
     },
     "metadata": {},
     "output_type": "display_data"
    },
    {
     "name": "stdout",
     "output_type": "stream",
     "text": [
      "Implicit Contacts\n"
     ]
    },
    {
     "name": "stderr",
     "output_type": "stream",
     "text": [
      "WARNING: Method definition simulate(RigidBodyDynamics.MechanismState{T, M, C, JointCollection} where JointCollection where C, BilevelTrajOpt.Environment, Real, Integer, Any) in module BilevelTrajOpt at /home/blandry/.julia/v0.6/BilevelTrajOpt/src/simulation.jl:225 overwritten at /home/blandry/.julia/v0.6/BilevelTrajOpt/src/simulation.jl:225.\n",
      "WARNING: Method definition #simulate(Array{Any, 1}, typeof(BilevelTrajOpt.simulate), RigidBodyDynamics.MechanismState{T, M, C, JointCollection} where JointCollection where C, BilevelTrajOpt.Environment, Real, Integer, Any) in module BilevelTrajOpt overwritten.\n"
     ]
    },
    {
     "data": {
      "text/plain": [
       "6-element Array{Float64,1}:\n",
       "  0.0    \n",
       "  0.0    \n",
       "  0.0    \n",
       "  1.19252\n",
       "  1.19252\n",
       " -8.88093"
      ]
     },
     "metadata": {},
     "output_type": "display_data"
    },
    {
     "data": {
      "text/plain": [
       "6-element Array{Float64,1}:\n",
       "  0.0    \n",
       "  0.0    \n",
       "  0.0    \n",
       "  1.19252\n",
       "  1.19252\n",
       " -8.88093"
      ]
     },
     "metadata": {},
     "output_type": "display_data"
    },
    {
     "name": "stdout",
     "output_type": "stream",
     "text": [
      "elapsed time: 0.931379641 seconds\n"
     ]
    },
    {
     "data": {
      "text/plain": [
       "6-element Array{Float64,1}:\n",
       " -1.73472e-18\n",
       "  0.0        \n",
       "  9.82558e-20\n",
       "  1.20422    \n",
       "  1.18811    \n",
       " -8.86994    "
      ]
     },
     "metadata": {},
     "output_type": "display_data"
    },
    {
     "data": {
      "text/plain": [
       "6-element Array{Float64,1}:\n",
       " -1.73472e-18\n",
       "  0.0        \n",
       "  9.82558e-20\n",
       "  1.20422    \n",
       "  1.18811    \n",
       " -8.86994    "
      ]
     },
     "metadata": {},
     "output_type": "display_data"
    },
    {
     "name": "stdout",
     "output_type": "stream",
     "text": [
      "elapsed time: 0.918799896 seconds\n"
     ]
    },
    {
     "data": {
      "text/plain": [
       "6-element Array{Float64,1}:\n",
       "  0.0    \n",
       "  0.0    \n",
       "  0.0    \n",
       "  1.00996\n",
       "  1.37861\n",
       " -8.8816 "
      ]
     },
     "metadata": {},
     "output_type": "display_data"
    },
    {
     "data": {
      "text/plain": [
       "6-element Array{Float64,1}:\n",
       "  0.0    \n",
       "  0.0    \n",
       "  0.0    \n",
       "  1.00996\n",
       "  1.37861\n",
       " -8.8816 "
      ]
     },
     "metadata": {},
     "output_type": "display_data"
    },
    {
     "name": "stdout",
     "output_type": "stream",
     "text": [
      "elapsed time: 0.988665293 seconds\n"
     ]
    },
    {
     "data": {
      "text/plain": [
       "6-element Array{Float64,1}:\n",
       " -8.67362e-19\n",
       "  0.0        \n",
       "  0.0        \n",
       "  1.00995    \n",
       "  1.37861    \n",
       " -8.88161    "
      ]
     },
     "metadata": {},
     "output_type": "display_data"
    },
    {
     "data": {
      "text/plain": [
       "6-element Array{Float64,1}:\n",
       " -8.67362e-19\n",
       "  0.0        \n",
       "  0.0        \n",
       "  1.00995    \n",
       "  1.37861    \n",
       " -8.88161    "
      ]
     },
     "metadata": {},
     "output_type": "display_data"
    },
    {
     "name": "stdout",
     "output_type": "stream",
     "text": [
      "elapsed time: 0.902957694 seconds\n"
     ]
    },
    {
     "data": {
      "text/plain": [
       "6-element Array{Float64,1}:\n",
       "  8.67362e-19\n",
       " -8.67362e-19\n",
       "  0.0        \n",
       "  1.00995    \n",
       "  1.37861    \n",
       " -8.88161    "
      ]
     },
     "metadata": {},
     "output_type": "display_data"
    },
    {
     "data": {
      "text/plain": [
       "6-element Array{Float64,1}:\n",
       "  8.67362e-19\n",
       " -8.67362e-19\n",
       "  0.0        \n",
       "  1.00995    \n",
       "  1.37861    \n",
       " -8.88161    "
      ]
     },
     "metadata": {},
     "output_type": "display_data"
    },
    {
     "name": "stdout",
     "output_type": "stream",
     "text": [
      "elapsed time: 0.922461862 seconds\n"
     ]
    },
    {
     "data": {
      "text/plain": [
       "6-element Array{Float64,1}:\n",
       "  0.0    \n",
       "  0.0    \n",
       "  0.0    \n",
       "  1.00995\n",
       "  1.37861\n",
       " -8.88161"
      ]
     },
     "metadata": {},
     "output_type": "display_data"
    },
    {
     "data": {
      "text/plain": [
       "6-element Array{Float64,1}:\n",
       "  0.0    \n",
       "  0.0    \n",
       "  0.0    \n",
       "  1.00995\n",
       "  1.37861\n",
       " -8.88161"
      ]
     },
     "metadata": {},
     "output_type": "display_data"
    },
    {
     "name": "stdout",
     "output_type": "stream",
     "text": [
      "elapsed time: 0.998180672 seconds\n"
     ]
    },
    {
     "data": {
      "text/plain": [
       "6-element Array{Float64,1}:\n",
       " -8.67362e-19\n",
       "  8.67362e-19\n",
       "  0.0        \n",
       "  1.00995    \n",
       "  1.37861    \n",
       " -8.88161    "
      ]
     },
     "metadata": {},
     "output_type": "display_data"
    },
    {
     "data": {
      "text/plain": [
       "6-element Array{Float64,1}:\n",
       " -8.67362e-19\n",
       "  8.67362e-19\n",
       "  0.0        \n",
       "  1.00995    \n",
       "  1.37861    \n",
       " -8.88161    "
      ]
     },
     "metadata": {},
     "output_type": "display_data"
    },
    {
     "name": "stdout",
     "output_type": "stream",
     "text": [
      "elapsed time: 0.970471584 seconds\n"
     ]
    },
    {
     "data": {
      "text/plain": [
       "6-element Array{Float64,1}:\n",
       "  0.0        \n",
       "  8.67362e-19\n",
       "  0.0        \n",
       "  1.00995    \n",
       "  1.37861    \n",
       " -8.88161    "
      ]
     },
     "metadata": {},
     "output_type": "display_data"
    },
    {
     "data": {
      "text/plain": [
       "6-element Array{Float64,1}:\n",
       "  0.0        \n",
       "  8.67362e-19\n",
       "  0.0        \n",
       "  1.00995    \n",
       "  1.37861    \n",
       " -8.88161    "
      ]
     },
     "metadata": {},
     "output_type": "display_data"
    },
    {
     "name": "stdout",
     "output_type": "stream",
     "text": [
      "elapsed time: 1.010943095 seconds\n"
     ]
    },
    {
     "data": {
      "text/plain": [
       "6-element Array{Float64,1}:\n",
       " -8.67362e-19\n",
       "  8.67362e-19\n",
       "  0.0        \n",
       "  1.00995    \n",
       "  1.37861    \n",
       " -8.88161    "
      ]
     },
     "metadata": {},
     "output_type": "display_data"
    },
    {
     "data": {
      "text/plain": [
       "6-element Array{Float64,1}:\n",
       " -8.67362e-19\n",
       "  8.67362e-19\n",
       "  0.0        \n",
       "  1.00995    \n",
       "  1.37861    \n",
       " -8.88161    "
      ]
     },
     "metadata": {},
     "output_type": "display_data"
    },
    {
     "name": "stdout",
     "output_type": "stream",
     "text": [
      "elapsed time: 0.916034063 seconds\n"
     ]
    },
    {
     "data": {
      "text/plain": [
       "6-element Array{Float64,1}:\n",
       "  0.0        \n",
       "  8.67362e-19\n",
       "  0.0        \n",
       "  1.00995    \n",
       "  1.37861    \n",
       " -8.88161    "
      ]
     },
     "metadata": {},
     "output_type": "display_data"
    },
    {
     "data": {
      "text/plain": [
       "6-element Array{Float64,1}:\n",
       "  0.0        \n",
       "  8.67362e-19\n",
       "  0.0        \n",
       "  1.00995    \n",
       "  1.37861    \n",
       " -8.88161    "
      ]
     },
     "metadata": {},
     "output_type": "display_data"
    },
    {
     "name": "stdout",
     "output_type": "stream",
     "text": [
      "elapsed time: 1.228336693 seconds\n"
     ]
    },
    {
     "data": {
      "text/plain": [
       "6-element Array{Float64,1}:\n",
       " -1.73472e-18\n",
       "  0.0        \n",
       "  0.0        \n",
       "  1.00995    \n",
       "  1.37861    \n",
       " -8.88161    "
      ]
     },
     "metadata": {},
     "output_type": "display_data"
    },
    {
     "data": {
      "text/plain": [
       "6-element Array{Float64,1}:\n",
       " -1.73472e-18\n",
       "  0.0        \n",
       "  0.0        \n",
       "  1.00995    \n",
       "  1.37861    \n",
       " -8.88161    "
      ]
     },
     "metadata": {},
     "output_type": "display_data"
    },
    {
     "name": "stdout",
     "output_type": "stream",
     "text": [
      "elapsed time: 0.941520753 seconds\n"
     ]
    },
    {
     "data": {
      "text/plain": [
       "6-element Array{Float64,1}:\n",
       "  0.0        \n",
       " -1.73472e-18\n",
       "  1.0842e-19 \n",
       "  0.741033   \n",
       "  1.69157    \n",
       " -8.87016    "
      ]
     },
     "metadata": {},
     "output_type": "display_data"
    },
    {
     "data": {
      "text/plain": [
       "6-element Array{Float64,1}:\n",
       "  0.0        \n",
       " -1.73472e-18\n",
       "  1.0842e-19 \n",
       "  0.741033   \n",
       "  1.69157    \n",
       " -8.87016    "
      ]
     },
     "metadata": {},
     "output_type": "display_data"
    },
    {
     "name": "stdout",
     "output_type": "stream",
     "text": [
      "elapsed time: 0.931211417 seconds\n",
      "elapsed time: 0.971766194 seconds\n"
     ]
    },
    {
     "ename": "LoadError",
     "evalue": "\u001b[91mInterruptException:\u001b[39m",
     "output_type": "error",
     "traceback": [
      "\u001b[91mInterruptException:\u001b[39m",
      "",
      "Stacktrace:",
      " [1] \u001b[1msvd\u001b[22m\u001b[22m\u001b[1m(\u001b[22m\u001b[22m::Array{ForwardDiff.Dual{ForwardDiff.Tag{BilevelTrajOpt.##137#147{BilevelTrajOpt.#eval_g#138{BilevelTrajOpt.SimData,Array{Float64,1},Array{Float64,1},Array{Float64,1},Array{Float64,1},Array{Float64,1},Array{Float64,1},Symmetric{Float64,Array{Float64,2}}}},Float64},Float64,10},2}\u001b[1m)\u001b[22m\u001b[22m at \u001b[1m/home/blandry/.julia/v0.6/BilevelTrajOpt/src/svd.jl:53\u001b[22m\u001b[22m",
      " [2] \u001b[1m#auglag_solve#2\u001b[22m\u001b[22m\u001b[1m(\u001b[22m\u001b[22m::Float64, ::Function, ::Array{Float64,1}, ::Array{Float64,1}, ::Array{Float64,1}, ::BilevelTrajOpt.##40#44, ::BilevelTrajOpt.##41#45{BilevelTrajOpt.SimData,Array{ForwardDiff.Dual{ForwardDiff.Tag{BilevelTrajOpt.##137#147{BilevelTrajOpt.#eval_g#138{BilevelTrajOpt.SimData,Array{Float64,1},Array{Float64,1},Array{Float64,1},Array{Float64,1},Array{Float64,1},Array{Float64,1},Symmetric{Float64,Array{Float64,2}}}},Float64},Float64,10},1},Array{ForwardDiff.Dual{ForwardDiff.Tag{BilevelTrajOpt.##137#147{BilevelTrajOpt.#eval_g#138{BilevelTrajOpt.SimData,Array{Float64,1},Array{Float64,1},Array{Float64,1},Array{Float64,1},Array{Float64,1},Array{Float64,1},Symmetric{Float64,Array{Float64,2}}}},Float64},Float64,10},2},Array{Tuple{RigidBodyDynamics.Spatial.Transform3D{ForwardDiff.Dual{ForwardDiff.Tag{BilevelTrajOpt.##137#147{BilevelTrajOpt.#eval_g#138{BilevelTrajOpt.SimData,Array{Float64,1},Array{Float64,1},Array{Float64,1},Array{Float64,1},Array{Float64,1},Array{Float64,1},Symmetric{Float64,Array{Float64,2}}}},Float64},Float64,10}},RigidBodyDynamics.Spatial.Transform3D{ForwardDiff.Dual{ForwardDiff.Tag{BilevelTrajOpt.##137#147{BilevelTrajOpt.#eval_g#138{BilevelTrajOpt.SimData,Array{Float64,1},Array{Float64,1},Array{Float64,1},Array{Float64,1},Array{Float64,1},Array{Float64,1},Symmetric{Float64,Array{Float64,2}}}},Float64},Float64,10}}},1},Array{RigidBodyDynamics.Spatial.GeometricJacobian{Array{ForwardDiff.Dual{ForwardDiff.Tag{BilevelTrajOpt.##137#147{BilevelTrajOpt.#eval_g#138{BilevelTrajOpt.SimData,Array{Float64,1},Array{Float64,1},Array{Float64,1},Array{Float64,1},Array{Float64,1},Array{Float64,1},Symmetric{Float64,Array{Float64,2}}}},Float64},Float64,10},2}},1},Array{ForwardDiff.Dual{ForwardDiff.Tag{BilevelTrajOpt.##137#147{BilevelTrajOpt.#eval_g#138{BilevelTrajOpt.SimData,Array{Float64,1},Array{Float64,1},Array{Float64,1},Array{Float64,1},Array{Float64,1},Array{Float64,1},Symmetric{Float64,Array{Float64,2}}}},Float64},Float64,10},1},Array{ForwardDiff.Dual{ForwardDiff.Tag{BilevelTrajOpt.##137#147{BilevelTrajOpt.#eval_g#138{BilevelTrajOpt.SimData,Array{Float64,1},Array{Float64,1},Array{Float64,1},Array{Float64,1},Array{Float64,1},Array{Float64,1},Symmetric{Float64,Array{Float64,2}}}},Float64},Float64,10},1}}, ::BilevelTrajOpt.##42#46{BilevelTrajOpt.SimData,Array{ForwardDiff.Dual{ForwardDiff.Tag{BilevelTrajOpt.##137#147{BilevelTrajOpt.#eval_g#138{BilevelTrajOpt.SimData,Array{Float64,1},Array{Float64,1},Array{Float64,1},Array{Float64,1},Array{Float64,1},Array{Float64,1},Symmetric{Float64,Array{Float64,2}}}},Float64},Float64,10},2},Array{Float64,1},Array{Float64,1}}\u001b[1m)\u001b[22m\u001b[22m at \u001b[1m/home/blandry/.julia/v0.6/BilevelTrajOpt/src/auglag.jl:64\u001b[22m\u001b[22m",
      " [3] \u001b[1m#solve_implicit_contact_τ#38\u001b[22m\u001b[22m\u001b[1m(\u001b[22m\u001b[22m::Bool, ::Function, ::BilevelTrajOpt.SimData, ::Array{ForwardDiff.Dual{ForwardDiff.Tag{BilevelTrajOpt.##137#147{BilevelTrajOpt.#eval_g#138{BilevelTrajOpt.SimData,Array{Float64,1},Array{Float64,1},Array{Float64,1},Array{Float64,1},Array{Float64,1},Array{Float64,1},Symmetric{Float64,Array{Float64,2}}}},Float64},Float64,10},1}, ::Array{ForwardDiff.Dual{ForwardDiff.Tag{BilevelTrajOpt.##137#147{BilevelTrajOpt.#eval_g#138{BilevelTrajOpt.SimData,Array{Float64,1},Array{Float64,1},Array{Float64,1},Array{Float64,1},Array{Float64,1},Array{Float64,1},Symmetric{Float64,Array{Float64,2}}}},Float64},Float64,10},2}, ::Array{Tuple{RigidBodyDynamics.Spatial.Transform3D{ForwardDiff.Dual{ForwardDiff.Tag{BilevelTrajOpt.##137#147{BilevelTrajOpt.#eval_g#138{BilevelTrajOpt.SimData,Array{Float64,1},Array{Float64,1},Array{Float64,1},Array{Float64,1},Array{Float64,1},Array{Float64,1},Symmetric{Float64,Array{Float64,2}}}},Float64},Float64,10}},RigidBodyDynamics.Spatial.Transform3D{ForwardDiff.Dual{ForwardDiff.Tag{BilevelTrajOpt.##137#147{BilevelTrajOpt.#eval_g#138{BilevelTrajOpt.SimData,Array{Float64,1},Array{Float64,1},Array{Float64,1},Array{Float64,1},Array{Float64,1},Array{Float64,1},Symmetric{Float64,Array{Float64,2}}}},Float64},Float64,10}}},1}, ::Array{RigidBodyDynamics.Spatial.GeometricJacobian{Array{ForwardDiff.Dual{ForwardDiff.Tag{BilevelTrajOpt.##137#147{BilevelTrajOpt.#eval_g#138{BilevelTrajOpt.SimData,Array{Float64,1},Array{Float64,1},Array{Float64,1},Array{Float64,1},Array{Float64,1},Array{Float64,1},Symmetric{Float64,Array{Float64,2}}}},Float64},Float64,10},2}},1}, ::Array{ForwardDiff.Dual{ForwardDiff.Tag{BilevelTrajOpt.##137#147{BilevelTrajOpt.#eval_g#138{BilevelTrajOpt.SimData,Array{Float64,1},Array{Float64,1},Array{Float64,1},Array{Float64,1},Array{Float64,1},Array{Float64,1},Symmetric{Float64,Array{Float64,2}}}},Float64},Float64,10},1}, ::Array{ForwardDiff.Dual{ForwardDiff.Tag{BilevelTrajOpt.##137#147{BilevelTrajOpt.#eval_g#138{BilevelTrajOpt.SimData,Array{Float64,1},Array{Float64,1},Array{Float64,1},Array{Float64,1},Array{Float64,1},Array{Float64,1},Symmetric{Float64,Array{Float64,2}}}},Float64},Float64,10},1}, ::Array{Float64,1}, ::Array{Float64,1}, ::Array{Float64,1}\u001b[1m)\u001b[22m\u001b[22m at \u001b[1m/home/blandry/.julia/v0.6/BilevelTrajOpt/src/contact.jl:162\u001b[22m\u001b[22m",
      " [4] \u001b[1m(::BilevelTrajOpt.#eval_g#138{BilevelTrajOpt.SimData,Array{Float64,1},Array{Float64,1},Array{Float64,1},Array{Float64,1},Array{Float64,1},Array{Float64,1},Symmetric{Float64,Array{Float64,2}}})\u001b[22m\u001b[22m\u001b[1m(\u001b[22m\u001b[22m::Array{ForwardDiff.Dual{ForwardDiff.Tag{BilevelTrajOpt.##137#147{BilevelTrajOpt.#eval_g#138{BilevelTrajOpt.SimData,Array{Float64,1},Array{Float64,1},Array{Float64,1},Array{Float64,1},Array{Float64,1},Array{Float64,1},Symmetric{Float64,Array{Float64,2}}}},Float64},Float64,10},1}, ::Array{ForwardDiff.Dual{ForwardDiff.Tag{BilevelTrajOpt.##137#147{BilevelTrajOpt.#eval_g#138{BilevelTrajOpt.SimData,Array{Float64,1},Array{Float64,1},Array{Float64,1},Array{Float64,1},Array{Float64,1},Array{Float64,1},Symmetric{Float64,Array{Float64,2}}}},Float64},Float64,10},1}\u001b[1m)\u001b[22m\u001b[22m at \u001b[1m/home/blandry/.julia/v0.6/BilevelTrajOpt/src/simulation.jl:125\u001b[22m\u001b[22m",
      " [5] \u001b[1mchunk_mode_jacobian\u001b[22m\u001b[22m\u001b[1m(\u001b[22m\u001b[22m::BilevelTrajOpt.##137#147{BilevelTrajOpt.#eval_g#138{BilevelTrajOpt.SimData,Array{Float64,1},Array{Float64,1},Array{Float64,1},Array{Float64,1},Array{Float64,1},Array{Float64,1},Symmetric{Float64,Array{Float64,2}}}}, ::Array{Float64,1}, ::Array{Float64,1}, ::ForwardDiff.JacobianConfig{ForwardDiff.Tag{BilevelTrajOpt.##137#147{BilevelTrajOpt.#eval_g#138{BilevelTrajOpt.SimData,Array{Float64,1},Array{Float64,1},Array{Float64,1},Array{Float64,1},Array{Float64,1},Array{Float64,1},Symmetric{Float64,Array{Float64,2}}}},Float64},Float64,10,Tuple{Array{ForwardDiff.Dual{ForwardDiff.Tag{BilevelTrajOpt.##137#147{BilevelTrajOpt.#eval_g#138{BilevelTrajOpt.SimData,Array{Float64,1},Array{Float64,1},Array{Float64,1},Array{Float64,1},Array{Float64,1},Array{Float64,1},Symmetric{Float64,Array{Float64,2}}}},Float64},Float64,10},1},Array{ForwardDiff.Dual{ForwardDiff.Tag{BilevelTrajOpt.##137#147{BilevelTrajOpt.#eval_g#138{BilevelTrajOpt.SimData,Array{Float64,1},Array{Float64,1},Array{Float64,1},Array{Float64,1},Array{Float64,1},Array{Float64,1},Symmetric{Float64,Array{Float64,2}}}},Float64},Float64,10},1}}}\u001b[1m)\u001b[22m\u001b[22m at \u001b[1m/home/blandry/.julia/v0.6/ForwardDiff/src/jacobian.jl:212\u001b[22m\u001b[22m",
      " [6] \u001b[1mjacobian\u001b[22m\u001b[22m\u001b[1m(\u001b[22m\u001b[22m::Function, ::Array{Float64,1}, ::Array{Float64,1}, ::ForwardDiff.JacobianConfig{ForwardDiff.Tag{BilevelTrajOpt.##137#147{BilevelTrajOpt.#eval_g#138{BilevelTrajOpt.SimData,Array{Float64,1},Array{Float64,1},Array{Float64,1},Array{Float64,1},Array{Float64,1},Array{Float64,1},Symmetric{Float64,Array{Float64,2}}}},Float64},Float64,10,Tuple{Array{ForwardDiff.Dual{ForwardDiff.Tag{BilevelTrajOpt.##137#147{BilevelTrajOpt.#eval_g#138{BilevelTrajOpt.SimData,Array{Float64,1},Array{Float64,1},Array{Float64,1},Array{Float64,1},Array{Float64,1},Array{Float64,1},Symmetric{Float64,Array{Float64,2}}}},Float64},Float64,10},1},Array{ForwardDiff.Dual{ForwardDiff.Tag{BilevelTrajOpt.##137#147{BilevelTrajOpt.#eval_g#138{BilevelTrajOpt.SimData,Array{Float64,1},Array{Float64,1},Array{Float64,1},Array{Float64,1},Array{Float64,1},Array{Float64,1},Symmetric{Float64,Array{Float64,2}}}},Float64},Float64,10},1}}}, ::Val{true}\u001b[1m)\u001b[22m\u001b[22m at \u001b[1m/home/blandry/.julia/v0.6/ForwardDiff/src/jacobian.jl:36\u001b[22m\u001b[22m",
      " [7] \u001b[1mjacobian\u001b[22m\u001b[22m\u001b[1m(\u001b[22m\u001b[22m::Function, ::Array{Float64,1}, ::Array{Float64,1}, ::ForwardDiff.JacobianConfig{ForwardDiff.Tag{BilevelTrajOpt.##137#147{BilevelTrajOpt.#eval_g#138{BilevelTrajOpt.SimData,Array{Float64,1},Array{Float64,1},Array{Float64,1},Array{Float64,1},Array{Float64,1},Array{Float64,1},Symmetric{Float64,Array{Float64,2}}}},Float64},Float64,10,Tuple{Array{ForwardDiff.Dual{ForwardDiff.Tag{BilevelTrajOpt.##137#147{BilevelTrajOpt.#eval_g#138{BilevelTrajOpt.SimData,Array{Float64,1},Array{Float64,1},Array{Float64,1},Array{Float64,1},Array{Float64,1},Array{Float64,1},Symmetric{Float64,Array{Float64,2}}}},Float64},Float64,10},1},Array{ForwardDiff.Dual{ForwardDiff.Tag{BilevelTrajOpt.##137#147{BilevelTrajOpt.#eval_g#138{BilevelTrajOpt.SimData,Array{Float64,1},Array{Float64,1},Array{Float64,1},Array{Float64,1},Array{Float64,1},Array{Float64,1},Symmetric{Float64,Array{Float64,2}}}},Float64},Float64,10},1}}}\u001b[1m)\u001b[22m\u001b[22m at \u001b[1m/home/blandry/.julia/v0.6/ForwardDiff/src/jacobian.jl:32\u001b[22m\u001b[22m (repeats 2 times)",
      " [8] \u001b[1m(::BilevelTrajOpt.#eval_jac_g#146{BilevelTrajOpt.SimData,BilevelTrajOpt.#eval_g#138{BilevelTrajOpt.SimData,Array{Float64,1},Array{Float64,1},Array{Float64,1},Array{Float64,1},Array{Float64,1},Array{Float64,1},Symmetric{Float64,Array{Float64,2}}}})\u001b[22m\u001b[22m\u001b[1m(\u001b[22m\u001b[22m::Array{Float64,1}, ::Symbol, ::Array{Int32,1}, ::Array{Int32,1}, ::Array{Float64,1}\u001b[1m)\u001b[22m\u001b[22m at \u001b[1m/home/blandry/.julia/v0.6/BilevelTrajOpt/src/simulation.jl:155\u001b[22m\u001b[22m",
      " [9] \u001b[1meval_jac_g_wrapper\u001b[22m\u001b[22m\u001b[1m(\u001b[22m\u001b[22m::Int32, ::Ptr{Float64}, ::Int32, ::Int32, ::Int32, ::Ptr{Int32}, ::Ptr{Int32}, ::Ptr{Float64}, ::Ptr{Void}\u001b[1m)\u001b[22m\u001b[22m at \u001b[1m/home/blandry/.julia/v0.6/Ipopt/src/Ipopt.jl:142\u001b[22m\u001b[22m",
      " [10] \u001b[1msolveProblem\u001b[22m\u001b[22m\u001b[1m(\u001b[22m\u001b[22m::Ipopt.IpoptProblem\u001b[1m)\u001b[22m\u001b[22m at \u001b[1m/home/blandry/.julia/v0.6/Ipopt/src/Ipopt.jl:318\u001b[22m\u001b[22m",
      " [11] \u001b[1m#simulate#202\u001b[22m\u001b[22m\u001b[1m(\u001b[22m\u001b[22m::Bool, ::Function, ::RigidBodyDynamics.MechanismState{Float64,Float64,Float64,TypeSortedCollections.TypeSortedCollection{Tuple{Array{RigidBodyDynamics.Joint{Float64,RigidBodyDynamics.Fixed{Float64}},1},Array{RigidBodyDynamics.Joint{Float64,RigidBodyDynamics.QuaternionFloating{Float64}},1}},2}}, ::BilevelTrajOpt.Environment, ::Float64, ::Int64, ::##23#24\u001b[1m)\u001b[22m\u001b[22m at \u001b[1m/home/blandry/.julia/v0.6/BilevelTrajOpt/src/simulation.jl:299\u001b[22m\u001b[22m",
      " [12] \u001b[1m(::BilevelTrajOpt.#kw##simulate)\u001b[22m\u001b[22m\u001b[1m(\u001b[22m\u001b[22m::Array{Any,1}, ::BilevelTrajOpt.#simulate, ::RigidBodyDynamics.MechanismState{Float64,Float64,Float64,TypeSortedCollections.TypeSortedCollection{Tuple{Array{RigidBodyDynamics.Joint{Float64,RigidBodyDynamics.Fixed{Float64}},1},Array{RigidBodyDynamics.Joint{Float64,RigidBodyDynamics.QuaternionFloating{Float64}},1}},2}}, ::BilevelTrajOpt.Environment, ::Float64, ::Int64, ::Function\u001b[1m)\u001b[22m\u001b[22m at \u001b[1m./<missing>:0\u001b[22m\u001b[22m",
      " [13] \u001b[1minclude_string\u001b[22m\u001b[22m\u001b[1m(\u001b[22m\u001b[22m::String, ::String\u001b[1m)\u001b[22m\u001b[22m at \u001b[1m./loading.jl:522\u001b[22m\u001b[22m",
      " [14] \u001b[1mexecute_request\u001b[22m\u001b[22m\u001b[1m(\u001b[22m\u001b[22m::ZMQ.Socket, ::IJulia.Msg\u001b[1m)\u001b[22m\u001b[22m at \u001b[1m/home/blandry/.julia/v0.6/IJulia/src/execute_request.jl:193\u001b[22m\u001b[22m",
      " [15] \u001b[1m(::Compat.#inner#14{Array{Any,1},IJulia.#execute_request,Tuple{ZMQ.Socket,IJulia.Msg}})\u001b[22m\u001b[22m\u001b[1m(\u001b[22m\u001b[22m\u001b[1m)\u001b[22m\u001b[22m at \u001b[1m/home/blandry/.julia/v0.6/Compat/src/Compat.jl:332\u001b[22m\u001b[22m",
      " [16] \u001b[1meventloop\u001b[22m\u001b[22m\u001b[1m(\u001b[22m\u001b[22m::ZMQ.Socket\u001b[1m)\u001b[22m\u001b[22m at \u001b[1m/home/blandry/.julia/v0.6/IJulia/src/eventloop.jl:8\u001b[22m\u001b[22m",
      " [17] \u001b[1m(::IJulia.##13#16)\u001b[22m\u001b[22m\u001b[1m(\u001b[22m\u001b[22m\u001b[1m)\u001b[22m\u001b[22m at \u001b[1m./task.jl:335\u001b[22m\u001b[22m"
     ]
    }
   ],
   "source": [
    "println(\"Implicit Contacts\")\n",
    "traj_imp = BilevelTrajOpt.simulate(x0,env,Δt,N,ctrl!,implicit_contact=true);"
   ]
  },
  {
   "cell_type": "code",
   "execution_count": 8,
   "metadata": {},
   "outputs": [
    {
     "name": "stdout",
     "output_type": "stream",
     "text": [
      "Explicit Contacts\n",
      "elapsed time: 20.582249204 seconds\n",
      "elapsed time: 0.006179685 seconds\n",
      "elapsed time: 0.006192169 seconds\n",
      "elapsed time: 0.00482289 seconds\n",
      "elapsed time: 0.005411348 seconds\n",
      "elapsed time: 0.004667436 seconds\n",
      "elapsed time: 0.005442167 seconds\n",
      "elapsed time: 0.004747658 seconds\n",
      "elapsed time: 0.005413121 seconds\n",
      "elapsed time: 0.004700679 seconds\n",
      "elapsed time: 0.005464318 seconds\n",
      "elapsed time: 0.004767517 seconds\n",
      "elapsed time: 0.00560274 seconds\n",
      "elapsed time: 0.005168678 seconds\n",
      "elapsed time: 0.005709013 seconds\n",
      "elapsed time: 0.004714265 seconds\n",
      "elapsed time: 0.005947395 seconds\n",
      "elapsed time: 0.004933372 seconds\n",
      "elapsed time: 0.005169488 seconds\n",
      "Solve_Succeeded\n",
      "elapsed time: 0.004956786 seconds\n",
      "elapsed time: 0.017357204 seconds\n",
      "elapsed time: 0.004908995 seconds\n",
      "elapsed time: 0.00515944 seconds\n",
      "elapsed time: 0.004740164 seconds\n",
      "elapsed time: 0.005265501 seconds\n",
      "elapsed time: 0.00560271 seconds\n",
      "elapsed time: 0.005447166 seconds\n",
      "elapsed time: 0.004760322 seconds\n",
      "elapsed time: 0.005231447 seconds\n",
      "elapsed time: 0.004772586 seconds\n",
      "Solve_Succeeded\n",
      "elapsed time: 0.005447236 seconds\n",
      "elapsed time: 0.004773488 seconds\n",
      "elapsed time: 0.00488045 seconds\n",
      "elapsed time: 0.005061014 seconds\n",
      "elapsed time: 0.005368386 seconds\n",
      "elapsed time: 0.004801291 seconds\n",
      "elapsed time: 0.004812491 seconds\n",
      "elapsed time: 0.004623042 seconds\n",
      "elapsed time: 0.005432759 seconds\n",
      "elapsed time: 0.004965231 seconds\n",
      "elapsed time: 0.005130284 seconds\n",
      "Solve_Succeeded\n",
      "elapsed time: 0.017053988 seconds\n",
      "elapsed time: 0.004422702 seconds\n",
      "elapsed time: 0.005638368 seconds\n",
      "elapsed time: 0.0051067 seconds\n",
      "elapsed time: 0.004710548 seconds\n",
      "elapsed time: 0.004810227 seconds\n",
      "elapsed time: 0.004653469 seconds\n",
      "elapsed time: 0.004441908 seconds\n",
      "elapsed time: 0.005292652 seconds\n",
      "elapsed time: 0.004754491 seconds\n",
      "elapsed time: 0.004918663 seconds\n",
      "elapsed time: 0.004724665 seconds\n",
      "elapsed time: 0.004757377 seconds\n",
      "elapsed time: 0.004382495 seconds\n",
      "Solve_Succeeded\n",
      "elapsed time: 0.004738451 seconds\n",
      "elapsed time: 0.004531458 seconds\n",
      "elapsed time: 0.004671474 seconds\n",
      "elapsed time: 0.004526098 seconds\n",
      "elapsed time: 0.004552468 seconds\n",
      "elapsed time: 0.004754 seconds\n",
      "elapsed time: 0.004340787 seconds\n",
      "elapsed time: 0.005257525 seconds\n",
      "elapsed time: 0.005146997 seconds\n",
      "elapsed time: 0.004482676 seconds\n",
      "elapsed time: 0.004754642 seconds\n",
      "elapsed time: 0.004406881 seconds\n",
      "elapsed time: 0.005401028 seconds\n",
      "elapsed time: 0.004690861 seconds\n",
      "elapsed time: 0.00494339 seconds\n",
      "elapsed time: 0.004775712 seconds\n",
      "elapsed time: 0.004752968 seconds\n",
      "elapsed time: 0.004683286 seconds\n",
      "elapsed time: 0.005115807 seconds\n",
      "elapsed time: 0.005256934 seconds\n",
      "Solve_Succeeded\n",
      "elapsed time: 0.005807399 seconds\n",
      "elapsed time: 0.004553299 seconds\n",
      "elapsed time: 0.00478037 seconds\n",
      "elapsed time: 0.005002852 seconds\n",
      "elapsed time: 0.004593756 seconds\n",
      "elapsed time: 0.004666865 seconds\n",
      "elapsed time: 0.004257218 seconds\n",
      "elapsed time: 0.004744463 seconds\n",
      "elapsed time: 0.004509536 seconds\n",
      "elapsed time: 0.013504644 seconds\n",
      "elapsed time: 0.004479019 seconds\n",
      "elapsed time: 0.005391641 seconds\n",
      "elapsed time: 0.005204515 seconds\n",
      "elapsed time: 0.004502393 seconds\n",
      "elapsed time: 0.004845854 seconds\n",
      "Solve_Succeeded\n",
      "elapsed time: 0.004850364 seconds\n",
      "elapsed time: 0.004364492 seconds\n",
      "elapsed time: 0.008220799 seconds\n",
      "elapsed time: 0.008046578 seconds\n",
      "elapsed time: 0.004851946 seconds\n",
      "elapsed time: 0.004875541 seconds\n",
      "elapsed time: 0.004673579 seconds\n",
      "elapsed time: 0.00481767 seconds\n",
      "elapsed time: 0.006032597 seconds\n",
      "elapsed time: 0.005150052 seconds\n",
      "elapsed time: 0.004700208 seconds\n",
      "elapsed time: 0.005326938 seconds\n",
      "Solve_Succeeded\n",
      "elapsed time: 0.005450181 seconds\n",
      "elapsed time: 0.004918653 seconds\n",
      "elapsed time: 0.005757164 seconds\n",
      "elapsed time: 0.014439939 seconds\n",
      "elapsed time: 0.005632918 seconds\n",
      "elapsed time: 0.004692534 seconds\n",
      "elapsed time: 0.005057225 seconds\n",
      "elapsed time: 0.00501736 seconds\n",
      "elapsed time: 0.005116829 seconds\n",
      "elapsed time: 0.0058025 seconds\n",
      "elapsed time: 0.004806601 seconds\n",
      "elapsed time: 0.004517842 seconds\n",
      "Solve_Succeeded\n",
      "elapsed time: 0.005319263 seconds\n",
      "elapsed time: 0.004529635 seconds\n",
      "elapsed time: 0.005001449 seconds\n",
      "elapsed time: 0.004394488 seconds\n",
      "elapsed time: 0.004662828 seconds\n",
      "elapsed time: 0.004520838 seconds\n",
      "elapsed time: 0.004413293 seconds\n",
      "elapsed time: 0.004647459 seconds\n",
      "elapsed time: 0.004710728 seconds\n",
      "elapsed time: 0.004863558 seconds\n",
      "elapsed time: 0.00469597 seconds\n",
      "elapsed time: 0.004623092 seconds\n",
      "Solve_Succeeded\n",
      "elapsed time: 0.004635986 seconds\n",
      "elapsed time: 0.004545705 seconds\n",
      "elapsed time: 0.004441658 seconds\n",
      "elapsed time: 0.004404146 seconds\n",
      "elapsed time: 0.004506422 seconds\n",
      "elapsed time: 0.004430456 seconds\n",
      "elapsed time: 0.004489398 seconds\n",
      "elapsed time: 0.004518884 seconds\n",
      "elapsed time: 0.004728572 seconds\n",
      "elapsed time: 0.004934172 seconds\n",
      "elapsed time: 0.004774118 seconds\n",
      "elapsed time: 0.00460064 seconds\n",
      "Solve_Succeeded\n"
     ]
    }
   ],
   "source": [
    "println(\"Explicit Contacts\")\n",
    "traj_exp = BilevelTrajOpt.simulate(x0,env,Δt,N,ctrl!,implicit_contact=false);"
   ]
  },
  {
   "cell_type": "code",
   "execution_count": 12,
   "metadata": {},
   "outputs": [
    {
     "data": {
      "image/png": "[encoded data removed]"
     },
     "execution_count": 12,
     "metadata": {},
     "output_type": "execute_result"
    }
   ],
   "source": [
    "ts = cumsum([Δt for i in 1:N]);\n",
    "j = 5\n",
    "plot(traj_exp[j,:],label=\"explicit\")\n",
    "plot!(traj_imp[j,:],label=\"implicit\")"
   ]
  },
  {
   "cell_type": "code",
   "execution_count": null,
   "metadata": {
    "collapsed": true
   },
   "outputs": [],
   "source": [
    "traj_imp"
   ]
  },
  {
   "cell_type": "code",
   "execution_count": null,
   "metadata": {
    "collapsed": true
   },
   "outputs": [],
   "source": [
    "maximum(traj_exp)"
   ]
  }
 ],
 "metadata": {
  "kernelspec": {
   "display_name": "Julia 0.6.4",
   "language": "julia",
   "name": "julia-0.6"
  },
  "language_info": {
   "file_extension": ".jl",
   "mimetype": "application/julia",
   "name": "julia",
   "version": "0.6.4"
  }
 },
 "nbformat": 4,
 "nbformat_minor": 2
}
