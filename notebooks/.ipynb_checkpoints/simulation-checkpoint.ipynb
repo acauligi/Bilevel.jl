{
 "cells": [
  {
   "cell_type": "code",
   "execution_count": 1,
   "metadata": {},
   "outputs": [
    {
     "data": {
      "text/html": [
       "    <script class='js-collapse-script'>\n",
       "        var curMatch =\n",
       "            window.location.href\n",
       "            .match(/(.*?)\\/notebooks\\/.*\\.ipynb/);\n",
       "\n",
       "        curMatch = curMatch ||\n",
       "            window.location.href\n",
       "            .match(/(.*?)\\/apps\\/.*\\.ipynb/);\n",
       "\n",
       "        if ( curMatch ) {\n",
       "            $('head').append('<base href=\"' + curMatch[1] + '/\">');\n",
       "        }\n",
       "    </script>\n"
      ],
      "text/plain": [
       "HTML{String}(\"    <script class='js-collapse-script'>\\n        var curMatch =\\n            window.location.href\\n            .match(/(.*?)\\\\/notebooks\\\\/.*\\\\.ipynb/);\\n\\n        curMatch = curMatch ||\\n            window.location.href\\n            .match(/(.*?)\\\\/apps\\\\/.*\\\\.ipynb/);\\n\\n        if ( curMatch ) {\\n            \\$('head').append('<base href=\\\"' + curMatch[1] + '/\\\">');\\n        }\\n    </script>\\n\")"
      ]
     },
     "metadata": {},
     "output_type": "display_data"
    },
    {
     "data": {
      "text/html": [
       "<script class='js-collapse-script' src='/assetserver/9dd84cf97c4fc16956f39829c81f3b6907c8fc83-assets/webio/dist/bundle.js'></script>"
      ],
      "text/plain": [
       "HTML{String}(\"<script class='js-collapse-script' src='/assetserver/9dd84cf97c4fc16956f39829c81f3b6907c8fc83-assets/webio/dist/bundle.js'></script>\")"
      ]
     },
     "metadata": {},
     "output_type": "display_data"
    },
    {
     "data": {
      "text/html": [
       "<script class='js-collapse-script' src='/assetserver/9dd84cf97c4fc16956f39829c81f3b6907c8fc83-assets/providers/ijulia_setup.js'></script>"
      ],
      "text/plain": [
       "HTML{String}(\"<script class='js-collapse-script' src='/assetserver/9dd84cf97c4fc16956f39829c81f3b6907c8fc83-assets/providers/ijulia_setup.js'></script>\")"
      ]
     },
     "metadata": {},
     "output_type": "display_data"
    },
    {
     "data": {
      "text/html": [
       "  <script class='js-collapse-script'>\n",
       "    $('.js-collapse-script').parent('.output_subarea').css('padding', '0');\n",
       "  </script>\n"
      ],
      "text/plain": [
       "HTML{String}(\"  <script class='js-collapse-script'>\\n    \\$('.js-collapse-script').parent('.output_subarea').css('padding', '0');\\n  </script>\\n\")"
      ]
     },
     "metadata": {},
     "output_type": "display_data"
    }
   ],
   "source": [
    "using Revise\n",
    "\n",
    "using RigidBodyDynamics\n",
    "using RigidBodyDynamics: Bounds\n",
    "\n",
    "using DrakeVisualizer\n",
    "using Plots\n",
    "using RigidBodyTreeInspector\n",
    "\n",
    "using BilevelTrajOpt\n",
    "gr(size=(500,500), html_output_format=:png);"
   ]
  },
  {
   "cell_type": "code",
   "execution_count": 2,
   "metadata": {},
   "outputs": [],
   "source": [
    "urdf = joinpath(\"..\", \"urdf\", \"ball.urdf\")\n",
    "mechanism = parse_urdf(Float64, urdf)\n",
    "body = findbody(mechanism, \"ball\")\n",
    "basejoint = joint_to_parent(body, mechanism)\n",
    "floatingjoint = Joint(basejoint.name, frame_before(basejoint), frame_after(basejoint), QuaternionFloating{Float64}())\n",
    "replace_joint!(mechanism, basejoint, floatingjoint)\n",
    "position_bounds(floatingjoint) .= Bounds(-100, 100)\n",
    "velocity_bounds(floatingjoint) .= Bounds(-100, 100)\n",
    "μ = 0.5\n",
    "motion_type = :xyz\n",
    "point = Point3D(default_frame(findbody(mechanism, \"floor\")), [0.,0.,0.])\n",
    "normal = FreeVector3D(default_frame(findbody(mechanism, \"floor\")), [0.,0.,1.])\n",
    "hs = HalfSpace(point, normal)\n",
    "floor = Obstacle(hs, μ, motion_type)\n",
    "obstacles = [floor]\n",
    "env = parse_contacts(mechanism, urdf, obstacles)\n",
    "x0 = MechanismState(mechanism)\n",
    "Δt = 0.005;"
   ]
  },
  {
   "cell_type": "code",
   "execution_count": 34,
   "metadata": {},
   "outputs": [
    {
     "data": {
      "text/plain": [
       "(::#39) (generic function with 1 method)"
      ]
     },
     "execution_count": 34,
     "metadata": {},
     "output_type": "execute_result"
    }
   ],
   "source": [
    "# q0 = [1., 0., 0., 0., 0., 0., 0.005]\n",
    "q0 = [1., 0., 0., 0., 0., 0., 0.00]\n",
    "v0 = [0., 0., 0., 0.5, 0. , 0.]\n",
    "N = 10\n",
    "\n",
    "set_configuration!(x0, q0)\n",
    "set_velocity!(x0, v0)\n",
    "setdirty!(x0)\n",
    "\n",
    "ctrl! = (u,t,x) -> u[:] = 0."
   ]
  },
  {
   "cell_type": "code",
   "execution_count": 40,
   "metadata": {},
   "outputs": [
    {
     "data": {
      "text/plain": [
       "6-element Array{Float64,1}:\n",
       "  0.0        \n",
       "  0.0        \n",
       "  0.0        \n",
       "  3.79785    \n",
       "  9.19322e-11\n",
       " -7.8297     "
      ]
     },
     "metadata": {},
     "output_type": "display_data"
    },
    {
     "data": {
      "text/plain": [
       "6-element Array{Float64,1}:\n",
       "  0.0        \n",
       "  0.0        \n",
       "  0.0        \n",
       "  3.79785    \n",
       "  9.19322e-11\n",
       " -7.8297     "
      ]
     },
     "metadata": {},
     "output_type": "display_data"
    },
    {
     "name": "stdout",
     "output_type": "stream",
     "text": [
      "Implicit Contacts\n"
     ]
    },
    {
     "name": "stderr",
     "output_type": "stream",
     "text": [
      "WARNING: local variable T conflicts with a static parameter in eval_g at /home/blandry/.julia/v0.6/BilevelTrajOpt/src/simulation.jl:111.\n",
      "WARNING: Method definition update_constraints_implicit_contact(Any, Any, Any, Any, Any, Any, Any) in module BilevelTrajOpt at /home/blandry/.julia/v0.6/BilevelTrajOpt/src/simulation.jl:93 overwritten at /home/blandry/.julia/v0.6/BilevelTrajOpt/src/simulation.jl:93.\n"
     ]
    },
    {
     "data": {
      "text/plain": [
       "6-element Array{Float64,1}:\n",
       "  0.0        \n",
       "  0.0        \n",
       "  0.0        \n",
       "  3.79785    \n",
       "  9.19322e-11\n",
       " -7.8297     "
      ]
     },
     "metadata": {},
     "output_type": "display_data"
    },
    {
     "data": {
      "text/plain": [
       "6-element Array{Float64,1}:\n",
       "  0.0        \n",
       "  0.0        \n",
       "  0.0        \n",
       "  3.79785    \n",
       "  9.19322e-11\n",
       " -7.8297     "
      ]
     },
     "metadata": {},
     "output_type": "display_data"
    },
    {
     "name": "stdout",
     "output_type": "stream",
     "text": [
      "elapsed time: 235.224576563 seconds\n"
     ]
    },
    {
     "data": {
      "text/plain": [
       "6-element Array{Float64,1}:\n",
       "  0.0       \n",
       "  0.0       \n",
       "  0.0       \n",
       "  0.353524  \n",
       "  2.1729e-10\n",
       " -0.706893  "
      ]
     },
     "metadata": {},
     "output_type": "display_data"
    },
    {
     "data": {
      "text/plain": [
       "6-element Array{Float64,1}:\n",
       "  0.0       \n",
       "  0.0       \n",
       "  0.0       \n",
       "  0.353524  \n",
       "  2.1729e-10\n",
       " -0.706893  "
      ]
     },
     "metadata": {},
     "output_type": "display_data"
    },
    {
     "name": "stdout",
     "output_type": "stream",
     "text": [
      "elapsed time: 1.110189208 seconds\n"
     ]
    },
    {
     "data": {
      "text/plain": [
       "6-element Array{Float64,1}:\n",
       "  0.0        \n",
       "  0.0        \n",
       "  0.0        \n",
       "  0.00258691 \n",
       "  1.52233e-10\n",
       " -0.0051724  "
      ]
     },
     "metadata": {},
     "output_type": "display_data"
    },
    {
     "data": {
      "text/plain": [
       "6-element Array{Float64,1}:\n",
       "  0.0        \n",
       "  0.0        \n",
       "  0.0        \n",
       "  0.00258691 \n",
       "  1.52233e-10\n",
       " -0.0051724  "
      ]
     },
     "metadata": {},
     "output_type": "display_data"
    },
    {
     "name": "stdout",
     "output_type": "stream",
     "text": [
      "elapsed time: 1.163299685 seconds\n"
     ]
    },
    {
     "data": {
      "text/plain": [
       "6-element Array{Float64,1}:\n",
       "  0.0        \n",
       "  0.0        \n",
       "  0.0        \n",
       "  8.84616e-5 \n",
       "  3.10427e-10\n",
       " -0.000176873"
      ]
     },
     "metadata": {},
     "output_type": "display_data"
    },
    {
     "data": {
      "text/plain": [
       "6-element Array{Float64,1}:\n",
       "  0.0        \n",
       "  0.0        \n",
       "  0.0        \n",
       "  8.84616e-5 \n",
       "  3.10427e-10\n",
       " -0.000176873"
      ]
     },
     "metadata": {},
     "output_type": "display_data"
    },
    {
     "name": "stdout",
     "output_type": "stream",
     "text": [
      "elapsed time: 0.805917576 seconds\n"
     ]
    },
    {
     "data": {
      "text/plain": [
       "6-element Array{Float64,1}:\n",
       "  0.0       \n",
       "  0.0       \n",
       "  0.0       \n",
       "  6.90519e-8\n",
       "  7.57318e-8\n",
       " -4.70906e-5"
      ]
     },
     "metadata": {},
     "output_type": "display_data"
    },
    {
     "data": {
      "text/plain": [
       "6-element Array{Float64,1}:\n",
       "  0.0       \n",
       "  0.0       \n",
       "  0.0       \n",
       "  6.90519e-8\n",
       "  7.57318e-8\n",
       " -4.70906e-5"
      ]
     },
     "metadata": {},
     "output_type": "display_data"
    },
    {
     "name": "stdout",
     "output_type": "stream",
     "text": [
      "elapsed time: 1.267218233 seconds\n",
      "Solve_Succeeded\n"
     ]
    },
    {
     "data": {
      "text/plain": [
       "6-element Array{Float64,1}:\n",
       "  0.0       \n",
       "  0.0       \n",
       "  0.0       \n",
       "  6.90519e-8\n",
       "  7.57318e-8\n",
       " -4.70906e-5"
      ]
     },
     "metadata": {},
     "output_type": "display_data"
    },
    {
     "data": {
      "text/plain": [
       "6-element Array{Float64,1}:\n",
       "  0.0       \n",
       "  0.0       \n",
       "  0.0       \n",
       "  6.90519e-8\n",
       "  7.57318e-8\n",
       " -4.70906e-5"
      ]
     },
     "metadata": {},
     "output_type": "display_data"
    },
    {
     "name": "stdout",
     "output_type": "stream",
     "text": [
      "elapsed time: 0.793368772 seconds\n"
     ]
    },
    {
     "data": {
      "text/plain": [
       "6-element Array{Float64,1}:\n",
       "  0.0        \n",
       "  0.0        \n",
       "  0.0        \n",
       " -3.73274e-10\n",
       "  3.84269e-11\n",
       "  1.71458e-9 "
      ]
     },
     "metadata": {},
     "output_type": "display_data"
    },
    {
     "data": {
      "text/plain": [
       "6-element Array{Float64,1}:\n",
       "  0.0        \n",
       "  0.0        \n",
       "  0.0        \n",
       " -3.73274e-10\n",
       "  3.84269e-11\n",
       "  1.71458e-9 "
      ]
     },
     "metadata": {},
     "output_type": "display_data"
    },
    {
     "name": "stdout",
     "output_type": "stream",
     "text": [
      "elapsed time: 1.169415571 seconds\n"
     ]
    },
    {
     "data": {
      "text/plain": [
       "6-element Array{Float64,1}:\n",
       "  0.0        \n",
       "  0.0        \n",
       "  0.0        \n",
       "  8.85125e-10\n",
       " -1.38832e-9 \n",
       " -7.45886e-9 "
      ]
     },
     "metadata": {},
     "output_type": "display_data"
    },
    {
     "data": {
      "text/plain": [
       "6-element Array{Float64,1}:\n",
       "  0.0        \n",
       "  0.0        \n",
       "  0.0        \n",
       "  8.85125e-10\n",
       " -1.38832e-9 \n",
       " -7.45886e-9 "
      ]
     },
     "metadata": {},
     "output_type": "display_data"
    },
    {
     "name": "stdout",
     "output_type": "stream",
     "text": [
      "elapsed time: 1.191429396 seconds\n"
     ]
    },
    {
     "data": {
      "text/plain": [
       "6-element Array{Float64,1}:\n",
       "  0.0        \n",
       "  0.0        \n",
       "  0.0        \n",
       " -6.13379e-10\n",
       " -1.44299e-8 \n",
       " -6.08024e-9 "
      ]
     },
     "metadata": {},
     "output_type": "display_data"
    },
    {
     "data": {
      "text/plain": [
       "6-element Array{Float64,1}:\n",
       "  0.0        \n",
       "  0.0        \n",
       "  0.0        \n",
       " -6.13379e-10\n",
       " -1.44299e-8 \n",
       " -6.08024e-9 "
      ]
     },
     "metadata": {},
     "output_type": "display_data"
    },
    {
     "name": "stdout",
     "output_type": "stream",
     "text": [
      "elapsed time: 0.647796561 seconds\n"
     ]
    },
    {
     "data": {
      "text/plain": [
       "6-element Array{Float64,1}:\n",
       "  0.0       \n",
       "  0.0       \n",
       "  0.0       \n",
       " -7.96042e-5\n",
       " -4.96392e-5\n",
       " -9.73737   "
      ]
     },
     "metadata": {},
     "output_type": "display_data"
    },
    {
     "data": {
      "text/plain": [
       "6-element Array{Float64,1}:\n",
       "  0.0       \n",
       "  0.0       \n",
       "  0.0       \n",
       " -7.96042e-5\n",
       " -4.96392e-5\n",
       " -9.73737   "
      ]
     },
     "metadata": {},
     "output_type": "display_data"
    },
    {
     "name": "stdout",
     "output_type": "stream",
     "text": [
      "elapsed time: 1.305643871 seconds\n",
      "Solve_Succeeded\n"
     ]
    },
    {
     "data": {
      "text/plain": [
       "6-element Array{Float64,1}:\n",
       "  0.0       \n",
       "  0.0       \n",
       "  0.0       \n",
       " -7.96042e-5\n",
       " -4.96392e-5\n",
       " -9.73737   "
      ]
     },
     "metadata": {},
     "output_type": "display_data"
    },
    {
     "data": {
      "text/plain": [
       "6-element Array{Float64,1}:\n",
       "  0.0       \n",
       "  0.0       \n",
       "  0.0       \n",
       " -7.96042e-5\n",
       " -4.96392e-5\n",
       " -9.73737   "
      ]
     },
     "metadata": {},
     "output_type": "display_data"
    },
    {
     "name": "stdout",
     "output_type": "stream",
     "text": [
      "elapsed time: 0.82265193 seconds\n"
     ]
    },
    {
     "data": {
      "text/plain": [
       "6-element Array{Float64,1}:\n",
       "     0.0  \n",
       "     0.0  \n",
       "     0.0  \n",
       "   385.955\n",
       "  -727.885\n",
       " -1060.95 "
      ]
     },
     "metadata": {},
     "output_type": "display_data"
    },
    {
     "data": {
      "text/plain": [
       "6-element Array{Float64,1}:\n",
       "     0.0  \n",
       "     0.0  \n",
       "     0.0  \n",
       "   385.955\n",
       "  -727.885\n",
       " -1060.95 "
      ]
     },
     "metadata": {},
     "output_type": "display_data"
    },
    {
     "name": "stdout",
     "output_type": "stream",
     "text": [
      "elapsed time: 1.137274335 seconds\n"
     ]
    },
    {
     "data": {
      "text/plain": [
       "6-element Array{Float64,1}:\n",
       "     0.0    \n",
       "     0.0    \n",
       "     0.0    \n",
       "     7.85523\n",
       "   753.725  \n",
       " -1100.03   "
      ]
     },
     "metadata": {},
     "output_type": "display_data"
    },
    {
     "data": {
      "text/plain": [
       "6-element Array{Float64,1}:\n",
       "     0.0    \n",
       "     0.0    \n",
       "     0.0    \n",
       "     7.85523\n",
       "   753.725  \n",
       " -1100.03   "
      ]
     },
     "metadata": {},
     "output_type": "display_data"
    },
    {
     "name": "stdout",
     "output_type": "stream",
     "text": [
      "elapsed time: 1.068322752 seconds\n"
     ]
    },
    {
     "data": {
      "text/plain": [
       "6-element Array{Float64,1}:\n",
       " 0.0        \n",
       " 0.0        \n",
       " 0.0        \n",
       " 1.23347e-5 \n",
       " 5.62935e-5 \n",
       " 0.000267149"
      ]
     },
     "metadata": {},
     "output_type": "display_data"
    },
    {
     "data": {
      "text/plain": [
       "6-element Array{Float64,1}:\n",
       " 0.0        \n",
       " 0.0        \n",
       " 0.0        \n",
       " 1.23347e-5 \n",
       " 5.62935e-5 \n",
       " 0.000267149"
      ]
     },
     "metadata": {},
     "output_type": "display_data"
    },
    {
     "name": "stdout",
     "output_type": "stream",
     "text": [
      "elapsed time: 0.792981379 seconds\n"
     ]
    },
    {
     "data": {
      "text/plain": [
       "6-element Array{Float64,1}:\n",
       "  0.0       \n",
       "  0.0       \n",
       "  0.0       \n",
       "  2.30947e-7\n",
       " -5.46935e-8\n",
       "  7.15551e-7"
      ]
     },
     "metadata": {},
     "output_type": "display_data"
    },
    {
     "data": {
      "text/plain": [
       "6-element Array{Float64,1}:\n",
       "  0.0       \n",
       "  0.0       \n",
       "  0.0       \n",
       "  2.30947e-7\n",
       " -5.46935e-8\n",
       "  7.15551e-7"
      ]
     },
     "metadata": {},
     "output_type": "display_data"
    },
    {
     "name": "stdout",
     "output_type": "stream",
     "text": [
      "elapsed time: 1.29755245 seconds\n"
     ]
    },
    {
     "data": {
      "text/plain": [
       "6-element Array{Float64,1}:\n",
       "  0.0       \n",
       "  0.0       \n",
       "  0.0       \n",
       "  2.76963e-7\n",
       " -4.16907e-6\n",
       "  1.05187e-5"
      ]
     },
     "metadata": {},
     "output_type": "display_data"
    },
    {
     "data": {
      "text/plain": [
       "6-element Array{Float64,1}:\n",
       "  0.0       \n",
       "  0.0       \n",
       "  0.0       \n",
       "  2.76963e-7\n",
       " -4.16907e-6\n",
       "  1.05187e-5"
      ]
     },
     "metadata": {},
     "output_type": "display_data"
    },
    {
     "name": "stdout",
     "output_type": "stream",
     "text": [
      "elapsed time: 0.78342114 seconds\n"
     ]
    },
    {
     "data": {
      "text/plain": [
       "6-element Array{Float64,1}:\n",
       "  0.0       \n",
       "  0.0       \n",
       "  0.0       \n",
       " -2.27532e-7\n",
       "  1.463e-7  \n",
       " -4.7788e-8 "
      ]
     },
     "metadata": {},
     "output_type": "display_data"
    },
    {
     "data": {
      "text/plain": [
       "6-element Array{Float64,1}:\n",
       "  0.0       \n",
       "  0.0       \n",
       "  0.0       \n",
       " -2.27532e-7\n",
       "  1.463e-7  \n",
       " -4.7788e-8 "
      ]
     },
     "metadata": {},
     "output_type": "display_data"
    },
    {
     "name": "stdout",
     "output_type": "stream",
     "text": [
      "elapsed time: 1.126475136 seconds\n"
     ]
    },
    {
     "data": {
      "text/plain": [
       "6-element Array{Float64,1}:\n",
       "  0.0       \n",
       "  0.0       \n",
       "  0.0       \n",
       "  3.23831e-7\n",
       "  1.2228e-7 \n",
       " -1.48304e-8"
      ]
     },
     "metadata": {},
     "output_type": "display_data"
    },
    {
     "data": {
      "text/plain": [
       "6-element Array{Float64,1}:\n",
       "  0.0       \n",
       "  0.0       \n",
       "  0.0       \n",
       "  3.23831e-7\n",
       "  1.2228e-7 \n",
       " -1.48304e-8"
      ]
     },
     "metadata": {},
     "output_type": "display_data"
    },
    {
     "name": "stdout",
     "output_type": "stream",
     "text": [
      "elapsed time: 1.181111665 seconds\n"
     ]
    },
    {
     "data": {
      "text/plain": [
       "6-element Array{Float64,1}:\n",
       "  0.0       \n",
       "  0.0       \n",
       "  0.0       \n",
       "  3.56865   \n",
       " -0.00530335\n",
       " -7.42596   "
      ]
     },
     "metadata": {},
     "output_type": "display_data"
    },
    {
     "data": {
      "text/plain": [
       "6-element Array{Float64,1}:\n",
       "  0.0       \n",
       "  0.0       \n",
       "  0.0       \n",
       "  3.56865   \n",
       " -0.00530335\n",
       " -7.42596   "
      ]
     },
     "metadata": {},
     "output_type": "display_data"
    },
    {
     "name": "stdout",
     "output_type": "stream",
     "text": [
      "elapsed time: 0.857654114 seconds\n",
      "Solve_Succeeded\n"
     ]
    },
    {
     "data": {
      "text/plain": [
       "6-element Array{Float64,1}:\n",
       "  0.0       \n",
       "  0.0       \n",
       "  0.0       \n",
       "  3.56865   \n",
       " -0.00530335\n",
       " -7.42596   "
      ]
     },
     "metadata": {},
     "output_type": "display_data"
    },
    {
     "data": {
      "text/plain": [
       "6-element Array{Float64,1}:\n",
       "  0.0       \n",
       "  0.0       \n",
       "  0.0       \n",
       "  3.56865   \n",
       " -0.00530335\n",
       " -7.42596   "
      ]
     },
     "metadata": {},
     "output_type": "display_data"
    },
    {
     "name": "stdout",
     "output_type": "stream",
     "text": [
      "elapsed time: 1.178183686 seconds\n"
     ]
    },
    {
     "data": {
      "text/plain": [
       "6-element Array{Float64,1}:\n",
       "  0.0      \n",
       "  0.0      \n",
       "  0.0      \n",
       "  3.81896  \n",
       "  0.0396105\n",
       " -7.97451  "
      ]
     },
     "metadata": {},
     "output_type": "display_data"
    },
    {
     "data": {
      "text/plain": [
       "6-element Array{Float64,1}:\n",
       "  0.0      \n",
       "  0.0      \n",
       "  0.0      \n",
       "  3.81896  \n",
       "  0.0396105\n",
       " -7.97451  "
      ]
     },
     "metadata": {},
     "output_type": "display_data"
    },
    {
     "name": "stdout",
     "output_type": "stream",
     "text": [
      "elapsed time: 0.622921227 seconds\n"
     ]
    },
    {
     "data": {
      "text/plain": [
       "6-element Array{Float64,1}:\n",
       "  0.0      \n",
       "  0.0      \n",
       "  0.0      \n",
       "  2.09252  \n",
       " -0.0511892\n",
       " -2.63346  "
      ]
     },
     "metadata": {},
     "output_type": "display_data"
    },
    {
     "data": {
      "text/plain": [
       "6-element Array{Float64,1}:\n",
       "  0.0      \n",
       "  0.0      \n",
       "  0.0      \n",
       "  2.09252  \n",
       " -0.0511892\n",
       " -2.63346  "
      ]
     },
     "metadata": {},
     "output_type": "display_data"
    },
    {
     "name": "stdout",
     "output_type": "stream",
     "text": [
      "elapsed time: 0.985712595 seconds\n"
     ]
    },
    {
     "data": {
      "text/plain": [
       "6-element Array{Float64,1}:\n",
       "  0.0      \n",
       "  0.0      \n",
       "  0.0      \n",
       "  3.77889  \n",
       "  0.0434315\n",
       " -7.82339  "
      ]
     },
     "metadata": {},
     "output_type": "display_data"
    },
    {
     "data": {
      "text/plain": [
       "6-element Array{Float64,1}:\n",
       "  0.0      \n",
       "  0.0      \n",
       "  0.0      \n",
       "  3.77889  \n",
       "  0.0434315\n",
       " -7.82339  "
      ]
     },
     "metadata": {},
     "output_type": "display_data"
    },
    {
     "name": "stdout",
     "output_type": "stream",
     "text": [
      "elapsed time: 1.055628676 seconds\n"
     ]
    },
    {
     "data": {
      "text/plain": [
       "6-element Array{Float64,1}:\n",
       "  0.0      \n",
       "  0.0      \n",
       "  0.0      \n",
       "  3.77794  \n",
       "  0.0126958\n",
       " -7.74986  "
      ]
     },
     "metadata": {},
     "output_type": "display_data"
    },
    {
     "data": {
      "text/plain": [
       "6-element Array{Float64,1}:\n",
       "  0.0      \n",
       "  0.0      \n",
       "  0.0      \n",
       "  3.77794  \n",
       "  0.0126958\n",
       " -7.74986  "
      ]
     },
     "metadata": {},
     "output_type": "display_data"
    },
    {
     "name": "stdout",
     "output_type": "stream",
     "text": [
      "elapsed time: 1.232685082 seconds\n"
     ]
    },
    {
     "data": {
      "text/plain": [
       "6-element Array{Float64,1}:\n",
       "  0.0      \n",
       "  0.0      \n",
       "  0.0      \n",
       "  3.77889  \n",
       "  0.0434315\n",
       " -7.82339  "
      ]
     },
     "metadata": {},
     "output_type": "display_data"
    },
    {
     "data": {
      "text/plain": [
       "6-element Array{Float64,1}:\n",
       "  0.0      \n",
       "  0.0      \n",
       "  0.0      \n",
       "  3.77889  \n",
       "  0.0434315\n",
       " -7.82339  "
      ]
     },
     "metadata": {},
     "output_type": "display_data"
    },
    {
     "name": "stdout",
     "output_type": "stream",
     "text": [
      "elapsed time: 1.165990596 seconds\n"
     ]
    },
    {
     "data": {
      "text/plain": [
       "6-element Array{Float64,1}:\n",
       "  0.0      \n",
       "  0.0      \n",
       "  0.0      \n",
       "  3.52741  \n",
       "  0.0390592\n",
       " -7.36678  "
      ]
     },
     "metadata": {},
     "output_type": "display_data"
    },
    {
     "data": {
      "text/plain": [
       "6-element Array{Float64,1}:\n",
       "  0.0      \n",
       "  0.0      \n",
       "  0.0      \n",
       "  3.52741  \n",
       "  0.0390592\n",
       " -7.36678  "
      ]
     },
     "metadata": {},
     "output_type": "display_data"
    },
    {
     "name": "stdout",
     "output_type": "stream",
     "text": [
      "elapsed time: 1.189764874 seconds\n"
     ]
    },
    {
     "data": {
      "text/plain": [
       "6-element Array{Float64,1}:\n",
       "  6.77626e-21\n",
       "  0.0        \n",
       "  0.0        \n",
       "  3.74932    \n",
       "  0.0309064  \n",
       " -7.79333    "
      ]
     },
     "metadata": {},
     "output_type": "display_data"
    },
    {
     "data": {
      "text/plain": [
       "6-element Array{Float64,1}:\n",
       "  6.77626e-21\n",
       "  0.0        \n",
       "  0.0        \n",
       "  3.74932    \n",
       "  0.0309064  \n",
       " -7.79333    "
      ]
     },
     "metadata": {},
     "output_type": "display_data"
    },
    {
     "name": "stdout",
     "output_type": "stream",
     "text": [
      "elapsed time: 0.815139605 seconds\n"
     ]
    },
    {
     "data": {
      "text/plain": [
       "6-element Array{Float64,1}:\n",
       "  5.42101e-20\n",
       "  0.0        \n",
       "  1.0842e-19 \n",
       "  2.16387    \n",
       " -0.0684437  \n",
       " -2.65522    "
      ]
     },
     "metadata": {},
     "output_type": "display_data"
    },
    {
     "data": {
      "text/plain": [
       "6-element Array{Float64,1}:\n",
       "  5.42101e-20\n",
       "  0.0        \n",
       "  1.0842e-19 \n",
       "  2.16387    \n",
       " -0.0684437  \n",
       " -2.65522    "
      ]
     },
     "metadata": {},
     "output_type": "display_data"
    },
    {
     "name": "stdout",
     "output_type": "stream",
     "text": [
      "elapsed time: 1.18624441 seconds\n"
     ]
    },
    {
     "data": {
      "text/plain": [
       "6-element Array{Float64,1}:\n",
       "  0.0     \n",
       "  0.0     \n",
       "  0.0     \n",
       "  3.59333 \n",
       "  0.026823\n",
       " -7.50976 "
      ]
     },
     "metadata": {},
     "output_type": "display_data"
    },
    {
     "data": {
      "text/plain": [
       "6-element Array{Float64,1}:\n",
       "  0.0     \n",
       "  0.0     \n",
       "  0.0     \n",
       "  3.59333 \n",
       "  0.026823\n",
       " -7.50976 "
      ]
     },
     "metadata": {},
     "output_type": "display_data"
    },
    {
     "name": "stdout",
     "output_type": "stream",
     "text": [
      "elapsed time: 0.879289304 seconds\n"
     ]
    },
    {
     "data": {
      "text/plain": [
       "6-element Array{Float64,1}:\n",
       " -3.38813e-21\n",
       "  1.38778e-17\n",
       " -2.71051e-20\n",
       "  3.75272    \n",
       "  0.0208983  \n",
       " -7.66542    "
      ]
     },
     "metadata": {},
     "output_type": "display_data"
    },
    {
     "data": {
      "text/plain": [
       "6-element Array{Float64,1}:\n",
       " -3.38813e-21\n",
       "  1.38778e-17\n",
       " -2.71051e-20\n",
       "  3.75272    \n",
       "  0.0208983  \n",
       " -7.66542    "
      ]
     },
     "metadata": {},
     "output_type": "display_data"
    },
    {
     "name": "stdout",
     "output_type": "stream",
     "text": [
      "elapsed time: 1.223749544 seconds\n"
     ]
    },
    {
     "data": {
      "text/plain": [
       "6-element Array{Float64,1}:\n",
       " -3.38813e-21\n",
       "  0.0        \n",
       "  0.0        \n",
       "  3.86554    \n",
       "  0.020161   \n",
       " -7.85924    "
      ]
     },
     "metadata": {},
     "output_type": "display_data"
    },
    {
     "data": {
      "text/plain": [
       "6-element Array{Float64,1}:\n",
       " -3.38813e-21\n",
       "  0.0        \n",
       "  0.0        \n",
       "  3.86554    \n",
       "  0.020161   \n",
       " -7.85924    "
      ]
     },
     "metadata": {},
     "output_type": "display_data"
    },
    {
     "name": "stdout",
     "output_type": "stream",
     "text": [
      "elapsed time: 1.22934896 seconds\n"
     ]
    },
    {
     "data": {
      "text/plain": [
       "6-element Array{Float64,1}:\n",
       " -2.03288e-20\n",
       "  0.0        \n",
       "  0.0        \n",
       "  3.76308    \n",
       "  0.0308687  \n",
       " -7.79718    "
      ]
     },
     "metadata": {},
     "output_type": "display_data"
    },
    {
     "data": {
      "text/plain": [
       "6-element Array{Float64,1}:\n",
       " -2.03288e-20\n",
       "  0.0        \n",
       "  0.0        \n",
       "  3.76308    \n",
       "  0.0308687  \n",
       " -7.79718    "
      ]
     },
     "metadata": {},
     "output_type": "display_data"
    },
    {
     "name": "stdout",
     "output_type": "stream",
     "text": [
      "elapsed time: 0.915161232 seconds\n"
     ]
    },
    {
     "data": {
      "text/plain": [
       "6-element Array{Float64,1}:\n",
       "  1.0842e-19 \n",
       "  1.38778e-17\n",
       "  4.33681e-19\n",
       " -0.0229374  \n",
       " -0.277182   \n",
       " -9.54859    "
      ]
     },
     "metadata": {},
     "output_type": "display_data"
    },
    {
     "data": {
      "text/plain": [
       "6-element Array{Float64,1}:\n",
       "  1.0842e-19 \n",
       "  1.38778e-17\n",
       "  4.33681e-19\n",
       " -0.0229374  \n",
       " -0.277182   \n",
       " -9.54859    "
      ]
     },
     "metadata": {},
     "output_type": "display_data"
    },
    {
     "name": "stdout",
     "output_type": "stream",
     "text": [
      "elapsed time: 1.08970255 seconds\n"
     ]
    },
    {
     "data": {
      "text/plain": [
       "6-element Array{Float64,1}:\n",
       "  4.33681e-19\n",
       "  0.0        \n",
       " -8.67362e-19\n",
       "  0.0173867  \n",
       "  0.489868   \n",
       " -9.99251    "
      ]
     },
     "metadata": {},
     "output_type": "display_data"
    },
    {
     "data": {
      "text/plain": [
       "6-element Array{Float64,1}:\n",
       "  4.33681e-19\n",
       "  0.0        \n",
       " -8.67362e-19\n",
       "  0.0173867  \n",
       "  0.489868   \n",
       " -9.99251    "
      ]
     },
     "metadata": {},
     "output_type": "display_data"
    },
    {
     "name": "stdout",
     "output_type": "stream",
     "text": [
      "elapsed time: 0.873954881 seconds\n"
     ]
    },
    {
     "data": {
      "text/plain": [
       "6-element Array{Float64,1}:\n",
       "  1.0842e-19 \n",
       "  1.38778e-17\n",
       "  4.33681e-19\n",
       " -0.0229374  \n",
       " -0.277182   \n",
       " -9.54859    "
      ]
     },
     "metadata": {},
     "output_type": "display_data"
    },
    {
     "data": {
      "text/plain": [
       "6-element Array{Float64,1}:\n",
       "  1.0842e-19 \n",
       "  1.38778e-17\n",
       "  4.33681e-19\n",
       " -0.0229374  \n",
       " -0.277182   \n",
       " -9.54859    "
      ]
     },
     "metadata": {},
     "output_type": "display_data"
    },
    {
     "name": "stdout",
     "output_type": "stream",
     "text": [
      "elapsed time: 0.846317844 seconds\n"
     ]
    },
    {
     "data": {
      "text/plain": [
       "6-element Array{Float64,1}:\n",
       " -3.38813e-21\n",
       "  0.0        \n",
       "  0.0        \n",
       "  3.83416    \n",
       "  0.0166629  \n",
       " -8.03537    "
      ]
     },
     "metadata": {},
     "output_type": "display_data"
    },
    {
     "data": {
      "text/plain": [
       "6-element Array{Float64,1}:\n",
       " -3.38813e-21\n",
       "  0.0        \n",
       "  0.0        \n",
       "  3.83416    \n",
       "  0.0166629  \n",
       " -8.03537    "
      ]
     },
     "metadata": {},
     "output_type": "display_data"
    },
    {
     "name": "stdout",
     "output_type": "stream",
     "text": [
      "elapsed time: 1.083463632 seconds\n"
     ]
    },
    {
     "data": {
      "text/plain": [
       "6-element Array{Float64,1}:\n",
       "  2.03288e-20\n",
       "  0.0        \n",
       "  0.0        \n",
       "  3.66608    \n",
       "  0.0229137  \n",
       " -7.62038    "
      ]
     },
     "metadata": {},
     "output_type": "display_data"
    },
    {
     "data": {
      "text/plain": [
       "6-element Array{Float64,1}:\n",
       "  2.03288e-20\n",
       "  0.0        \n",
       "  0.0        \n",
       "  3.66608    \n",
       "  0.0229137  \n",
       " -7.62038    "
      ]
     },
     "metadata": {},
     "output_type": "display_data"
    },
    {
     "name": "stdout",
     "output_type": "stream",
     "text": [
      "elapsed time: 1.225239785 seconds\n"
     ]
    },
    {
     "data": {
      "text/plain": [
       "6-element Array{Float64,1}:\n",
       "  0.0        \n",
       "  0.0        \n",
       "  5.42101e-20\n",
       "  3.67163    \n",
       "  0.0246979  \n",
       " -7.62716    "
      ]
     },
     "metadata": {},
     "output_type": "display_data"
    },
    {
     "data": {
      "text/plain": [
       "6-element Array{Float64,1}:\n",
       "  0.0        \n",
       "  0.0        \n",
       "  5.42101e-20\n",
       "  3.67163    \n",
       "  0.0246979  \n",
       " -7.62716    "
      ]
     },
     "metadata": {},
     "output_type": "display_data"
    },
    {
     "name": "stdout",
     "output_type": "stream",
     "text": [
      "elapsed time: 0.815611007 seconds\n"
     ]
    },
    {
     "data": {
      "text/plain": [
       "6-element Array{Float64,1}:\n",
       "  6.77626e-21\n",
       " -1.38778e-17\n",
       "  0.0        \n",
       "  0.418876   \n",
       "  0.0276243  \n",
       " -6.12485    "
      ]
     },
     "metadata": {},
     "output_type": "display_data"
    },
    {
     "data": {
      "text/plain": [
       "6-element Array{Float64,1}:\n",
       "  6.77626e-21\n",
       " -1.38778e-17\n",
       "  0.0        \n",
       "  0.418876   \n",
       "  0.0276243  \n",
       " -6.12485    "
      ]
     },
     "metadata": {},
     "output_type": "display_data"
    },
    {
     "name": "stdout",
     "output_type": "stream",
     "text": [
      "elapsed time: 1.272920934 seconds\n"
     ]
    },
    {
     "data": {
      "text/plain": [
       "6-element Array{Float64,1}:\n",
       "  3.38813e-21\n",
       "  0.0        \n",
       " -2.71051e-20\n",
       "  2.73538    \n",
       "  0.0137673  \n",
       " -3.05954    "
      ]
     },
     "metadata": {},
     "output_type": "display_data"
    },
    {
     "data": {
      "text/plain": [
       "6-element Array{Float64,1}:\n",
       "  3.38813e-21\n",
       "  0.0        \n",
       " -2.71051e-20\n",
       "  2.73538    \n",
       "  0.0137673  \n",
       " -3.05954    "
      ]
     },
     "metadata": {},
     "output_type": "display_data"
    },
    {
     "name": "stdout",
     "output_type": "stream",
     "text": [
      "elapsed time: 1.284057878 seconds\n"
     ]
    },
    {
     "data": {
      "text/plain": [
       "6-element Array{Float64,1}:\n",
       "  3.38813e-21\n",
       "  0.0        \n",
       "  2.71051e-20\n",
       "  3.77862    \n",
       "  0.0124155  \n",
       " -7.84051    "
      ]
     },
     "metadata": {},
     "output_type": "display_data"
    },
    {
     "data": {
      "text/plain": [
       "6-element Array{Float64,1}:\n",
       "  3.38813e-21\n",
       "  0.0        \n",
       "  2.71051e-20\n",
       "  3.77862    \n",
       "  0.0124155  \n",
       " -7.84051    "
      ]
     },
     "metadata": {},
     "output_type": "display_data"
    },
    {
     "name": "stdout",
     "output_type": "stream",
     "text": [
      "elapsed time: 0.86426097 seconds\n"
     ]
    },
    {
     "data": {
      "text/plain": [
       "6-element Array{Float64,1}:\n",
       "  0.0      \n",
       "  0.0      \n",
       "  0.0      \n",
       "  3.59656  \n",
       "  0.0189855\n",
       " -7.4436   "
      ]
     },
     "metadata": {},
     "output_type": "display_data"
    },
    {
     "data": {
      "text/plain": [
       "6-element Array{Float64,1}:\n",
       "  0.0      \n",
       "  0.0      \n",
       "  0.0      \n",
       "  3.59656  \n",
       "  0.0189855\n",
       " -7.4436   "
      ]
     },
     "metadata": {},
     "output_type": "display_data"
    },
    {
     "name": "stdout",
     "output_type": "stream",
     "text": [
      "elapsed time: 1.270053152 seconds\n"
     ]
    },
    {
     "data": {
      "text/plain": [
       "6-element Array{Float64,1}:\n",
       "  0.0        \n",
       "  0.0        \n",
       "  2.71051e-20\n",
       "  3.73856    \n",
       "  0.0128991  \n",
       " -7.74531    "
      ]
     },
     "metadata": {},
     "output_type": "display_data"
    },
    {
     "data": {
      "text/plain": [
       "6-element Array{Float64,1}:\n",
       "  0.0        \n",
       "  0.0        \n",
       "  2.71051e-20\n",
       "  3.73856    \n",
       "  0.0128991  \n",
       " -7.74531    "
      ]
     },
     "metadata": {},
     "output_type": "display_data"
    },
    {
     "name": "stdout",
     "output_type": "stream",
     "text": [
      "elapsed time: 0.812486801 seconds\n"
     ]
    },
    {
     "data": {
      "text/plain": [
       "6-element Array{Float64,1}:\n",
       "  0.0       \n",
       "  0.0       \n",
       "  0.0       \n",
       "  0.00498548\n",
       "  0.0692197 \n",
       " -9.66533   "
      ]
     },
     "metadata": {},
     "output_type": "display_data"
    },
    {
     "data": {
      "text/plain": [
       "6-element Array{Float64,1}:\n",
       "  0.0       \n",
       "  0.0       \n",
       "  0.0       \n",
       "  0.00498548\n",
       "  0.0692197 \n",
       " -9.66533   "
      ]
     },
     "metadata": {},
     "output_type": "display_data"
    },
    {
     "name": "stdout",
     "output_type": "stream",
     "text": [
      "elapsed time: 1.157187189 seconds\n"
     ]
    },
    {
     "data": {
      "text/plain": [
       "6-element Array{Float64,1}:\n",
       "  0.0      \n",
       "  0.0      \n",
       "  0.0      \n",
       "  3.83154  \n",
       "  0.0206101\n",
       " -7.88904  "
      ]
     },
     "metadata": {},
     "output_type": "display_data"
    },
    {
     "data": {
      "text/plain": [
       "6-element Array{Float64,1}:\n",
       "  0.0      \n",
       "  0.0      \n",
       "  0.0      \n",
       "  3.83154  \n",
       "  0.0206101\n",
       " -7.88904  "
      ]
     },
     "metadata": {},
     "output_type": "display_data"
    },
    {
     "name": "stdout",
     "output_type": "stream",
     "text": [
      "elapsed time: 1.271737004 seconds\n"
     ]
    },
    {
     "data": {
      "text/plain": [
       "6-element Array{Float64,1}:\n",
       "  0.0       \n",
       "  0.0       \n",
       "  0.0       \n",
       "  0.00498548\n",
       "  0.0692197 \n",
       " -9.66533   "
      ]
     },
     "metadata": {},
     "output_type": "display_data"
    },
    {
     "data": {
      "text/plain": [
       "6-element Array{Float64,1}:\n",
       "  0.0       \n",
       "  0.0       \n",
       "  0.0       \n",
       "  0.00498548\n",
       "  0.0692197 \n",
       " -9.66533   "
      ]
     },
     "metadata": {},
     "output_type": "display_data"
    },
    {
     "name": "stdout",
     "output_type": "stream",
     "text": [
      "elapsed time: 1.215965424 seconds\n"
     ]
    },
    {
     "data": {
      "text/plain": [
       "6-element Array{Float64,1}:\n",
       "  0.0     \n",
       "  0.0     \n",
       "  0.0     \n",
       "  0.030304\n",
       " -0.158425\n",
       " -6.5362  "
      ]
     },
     "metadata": {},
     "output_type": "display_data"
    },
    {
     "data": {
      "text/plain": [
       "6-element Array{Float64,1}:\n",
       "  0.0     \n",
       "  0.0     \n",
       "  0.0     \n",
       "  0.030304\n",
       " -0.158425\n",
       " -6.5362  "
      ]
     },
     "metadata": {},
     "output_type": "display_data"
    },
    {
     "name": "stdout",
     "output_type": "stream",
     "text": [
      "elapsed time: 1.223032667 seconds\n"
     ]
    },
    {
     "data": {
      "text/plain": [
       "6-element Array{Float64,1}:\n",
       "  1.35525e-20\n",
       "  0.0        \n",
       "  0.0        \n",
       "  3.80266    \n",
       "  0.0427377  \n",
       " -7.73407    "
      ]
     },
     "metadata": {},
     "output_type": "display_data"
    },
    {
     "data": {
      "text/plain": [
       "6-element Array{Float64,1}:\n",
       "  1.35525e-20\n",
       "  0.0        \n",
       "  0.0        \n",
       "  3.80266    \n",
       "  0.0427377  \n",
       " -7.73407    "
      ]
     },
     "metadata": {},
     "output_type": "display_data"
    },
    {
     "name": "stdout",
     "output_type": "stream",
     "text": [
      "elapsed time: 0.783289221 seconds\n"
     ]
    },
    {
     "data": {
      "text/plain": [
       "6-element Array{Float64,1}:\n",
       "  0.0      \n",
       "  0.0      \n",
       "  0.0      \n",
       " -0.0180963\n",
       " -0.0444388\n",
       " -9.37585  "
      ]
     },
     "metadata": {},
     "output_type": "display_data"
    },
    {
     "data": {
      "text/plain": [
       "6-element Array{Float64,1}:\n",
       "  0.0      \n",
       "  0.0      \n",
       "  0.0      \n",
       " -0.0180963\n",
       " -0.0444388\n",
       " -9.37585  "
      ]
     },
     "metadata": {},
     "output_type": "display_data"
    },
    {
     "name": "stdout",
     "output_type": "stream",
     "text": [
      "elapsed time: 1.21698112 seconds\n"
     ]
    },
    {
     "data": {
      "text/plain": [
       "6-element Array{Float64,1}:\n",
       "  0.0      \n",
       "  0.0      \n",
       "  0.0      \n",
       "  3.87306  \n",
       "  0.0184977\n",
       " -8.03942  "
      ]
     },
     "metadata": {},
     "output_type": "display_data"
    },
    {
     "data": {
      "text/plain": [
       "6-element Array{Float64,1}:\n",
       "  0.0      \n",
       "  0.0      \n",
       "  0.0      \n",
       "  3.87306  \n",
       "  0.0184977\n",
       " -8.03942  "
      ]
     },
     "metadata": {},
     "output_type": "display_data"
    },
    {
     "name": "stdout",
     "output_type": "stream",
     "text": [
      "elapsed time: 0.781174911 seconds\n"
     ]
    },
    {
     "data": {
      "text/plain": [
       "6-element Array{Float64,1}:\n",
       "  0.0      \n",
       "  0.0      \n",
       "  0.0      \n",
       "  3.76668  \n",
       "  0.0289671\n",
       " -7.85142  "
      ]
     },
     "metadata": {},
     "output_type": "display_data"
    },
    {
     "data": {
      "text/plain": [
       "6-element Array{Float64,1}:\n",
       "  0.0      \n",
       "  0.0      \n",
       "  0.0      \n",
       "  3.76668  \n",
       "  0.0289671\n",
       " -7.85142  "
      ]
     },
     "metadata": {},
     "output_type": "display_data"
    },
    {
     "name": "stdout",
     "output_type": "stream",
     "text": [
      "elapsed time: 1.260275702 seconds\n"
     ]
    },
    {
     "data": {
      "text/plain": [
       "6-element Array{Float64,1}:\n",
       "  0.0      \n",
       "  0.0      \n",
       "  0.0      \n",
       "  3.84585  \n",
       "  0.0216189\n",
       " -7.98106  "
      ]
     },
     "metadata": {},
     "output_type": "display_data"
    },
    {
     "data": {
      "text/plain": [
       "6-element Array{Float64,1}:\n",
       "  0.0      \n",
       "  0.0      \n",
       "  0.0      \n",
       "  3.84585  \n",
       "  0.0216189\n",
       " -7.98106  "
      ]
     },
     "metadata": {},
     "output_type": "display_data"
    },
    {
     "name": "stdout",
     "output_type": "stream",
     "text": [
      "elapsed time: 0.78562748 seconds\n"
     ]
    },
    {
     "data": {
      "text/plain": [
       "6-element Array{Float64,1}:\n",
       "  0.0      \n",
       "  0.0      \n",
       "  0.0      \n",
       "  3.88955  \n",
       "  0.0269893\n",
       " -8.05968  "
      ]
     },
     "metadata": {},
     "output_type": "display_data"
    },
    {
     "data": {
      "text/plain": [
       "6-element Array{Float64,1}:\n",
       "  0.0      \n",
       "  0.0      \n",
       "  0.0      \n",
       "  3.88955  \n",
       "  0.0269893\n",
       " -8.05968  "
      ]
     },
     "metadata": {},
     "output_type": "display_data"
    },
    {
     "name": "stdout",
     "output_type": "stream",
     "text": [
      "elapsed time: 1.165977927 seconds\n"
     ]
    },
    {
     "data": {
      "text/plain": [
       "6-element Array{Float64,1}:\n",
       " -8.47033e-22\n",
       "  0.0        \n",
       "  0.0        \n",
       "  3.80466    \n",
       "  0.00855846 \n",
       " -7.89366    "
      ]
     },
     "metadata": {},
     "output_type": "display_data"
    },
    {
     "data": {
      "text/plain": [
       "6-element Array{Float64,1}:\n",
       " -8.47033e-22\n",
       "  0.0        \n",
       "  0.0        \n",
       "  3.80466    \n",
       "  0.00855846 \n",
       " -7.89366    "
      ]
     },
     "metadata": {},
     "output_type": "display_data"
    },
    {
     "name": "stdout",
     "output_type": "stream",
     "text": [
      "elapsed time: 0.999710385 seconds\n"
     ]
    },
    {
     "data": {
      "text/plain": [
       "6-element Array{Float64,1}:\n",
       " -2.96462e-21\n",
       "  0.0        \n",
       "  0.0        \n",
       "  3.78036    \n",
       "  0.0107845  \n",
       " -7.69048    "
      ]
     },
     "metadata": {},
     "output_type": "display_data"
    },
    {
     "data": {
      "text/plain": [
       "6-element Array{Float64,1}:\n",
       " -2.96462e-21\n",
       "  0.0        \n",
       "  0.0        \n",
       "  3.78036    \n",
       "  0.0107845  \n",
       " -7.69048    "
      ]
     },
     "metadata": {},
     "output_type": "display_data"
    },
    {
     "name": "stdout",
     "output_type": "stream",
     "text": [
      "elapsed time: 0.641980081 seconds\n"
     ]
    },
    {
     "data": {
      "text/plain": [
       "6-element Array{Float64,1}:\n",
       "  0.0     \n",
       "  0.0     \n",
       "  0.0     \n",
       "  1.99806 \n",
       "  0.034718\n",
       " -3.27502 "
      ]
     },
     "metadata": {},
     "output_type": "display_data"
    },
    {
     "data": {
      "text/plain": [
       "6-element Array{Float64,1}:\n",
       "  0.0     \n",
       "  0.0     \n",
       "  0.0     \n",
       "  1.99806 \n",
       "  0.034718\n",
       " -3.27502 "
      ]
     },
     "metadata": {},
     "output_type": "display_data"
    },
    {
     "name": "stdout",
     "output_type": "stream",
     "text": [
      "elapsed time: 0.806278185 seconds\n"
     ]
    },
    {
     "data": {
      "text/plain": [
       "6-element Array{Float64,1}:\n",
       "  0.0        \n",
       "  0.0        \n",
       "  2.71051e-20\n",
       "  3.74441    \n",
       "  0.0178684  \n",
       " -7.75403    "
      ]
     },
     "metadata": {},
     "output_type": "display_data"
    },
    {
     "data": {
      "text/plain": [
       "6-element Array{Float64,1}:\n",
       "  0.0        \n",
       "  0.0        \n",
       "  2.71051e-20\n",
       "  3.74441    \n",
       "  0.0178684  \n",
       " -7.75403    "
      ]
     },
     "metadata": {},
     "output_type": "display_data"
    },
    {
     "name": "stdout",
     "output_type": "stream",
     "text": [
      "elapsed time: 0.634267573 seconds\n"
     ]
    },
    {
     "data": {
      "text/plain": [
       "6-element Array{Float64,1}:\n",
       "  0.0        \n",
       " -1.38778e-17\n",
       "  0.0        \n",
       " -0.00338872 \n",
       "  0.217054   \n",
       " -9.40758    "
      ]
     },
     "metadata": {},
     "output_type": "display_data"
    },
    {
     "data": {
      "text/plain": [
       "6-element Array{Float64,1}:\n",
       "  0.0        \n",
       " -1.38778e-17\n",
       "  0.0        \n",
       " -0.00338872 \n",
       "  0.217054   \n",
       " -9.40758    "
      ]
     },
     "metadata": {},
     "output_type": "display_data"
    },
    {
     "name": "stdout",
     "output_type": "stream",
     "text": [
      "elapsed time: 1.164606674 seconds\n"
     ]
    },
    {
     "data": {
      "text/plain": [
       "6-element Array{Float64,1}:\n",
       " -6.77626e-21\n",
       " -1.38778e-17\n",
       " -3.38813e-21\n",
       "  3.84513    \n",
       " -0.00279149 \n",
       " -7.92483    "
      ]
     },
     "metadata": {},
     "output_type": "display_data"
    },
    {
     "data": {
      "text/plain": [
       "6-element Array{Float64,1}:\n",
       " -6.77626e-21\n",
       " -1.38778e-17\n",
       " -3.38813e-21\n",
       "  3.84513    \n",
       " -0.00279149 \n",
       " -7.92483    "
      ]
     },
     "metadata": {},
     "output_type": "display_data"
    },
    {
     "name": "stdout",
     "output_type": "stream",
     "text": [
      "elapsed time: 1.236494944 seconds\n"
     ]
    },
    {
     "data": {
      "text/plain": [
       "6-element Array{Float64,1}:\n",
       " -1.35525e-20\n",
       "  0.0        \n",
       "  5.42101e-20\n",
       "  2.13507    \n",
       "  0.0269062  \n",
       " -3.49503    "
      ]
     },
     "metadata": {},
     "output_type": "display_data"
    },
    {
     "data": {
      "text/plain": [
       "6-element Array{Float64,1}:\n",
       " -1.35525e-20\n",
       "  0.0        \n",
       "  5.42101e-20\n",
       "  2.13507    \n",
       "  0.0269062  \n",
       " -3.49503    "
      ]
     },
     "metadata": {},
     "output_type": "display_data"
    },
    {
     "name": "stdout",
     "output_type": "stream",
     "text": [
      "elapsed time: 0.869531085 seconds\n"
     ]
    },
    {
     "data": {
      "text/plain": [
       "6-element Array{Float64,1}:\n",
       "  3.38813e-21\n",
       "  0.0        \n",
       "  1.69407e-21\n",
       "  3.73069    \n",
       " -0.000885571\n",
       " -7.64887    "
      ]
     },
     "metadata": {},
     "output_type": "display_data"
    },
    {
     "data": {
      "text/plain": [
       "6-element Array{Float64,1}:\n",
       "  3.38813e-21\n",
       "  0.0        \n",
       "  1.69407e-21\n",
       "  3.73069    \n",
       " -0.000885571\n",
       " -7.64887    "
      ]
     },
     "metadata": {},
     "output_type": "display_data"
    },
    {
     "name": "stdout",
     "output_type": "stream",
     "text": [
      "elapsed time: 1.22665402 seconds\n"
     ]
    },
    {
     "data": {
      "text/plain": [
       "6-element Array{Float64,1}:\n",
       "  1.35525e-20\n",
       "  0.0        \n",
       "  5.42101e-20\n",
       "  3.80078    \n",
       "  0.0453253  \n",
       " -7.77255    "
      ]
     },
     "metadata": {},
     "output_type": "display_data"
    },
    {
     "data": {
      "text/plain": [
       "6-element Array{Float64,1}:\n",
       "  1.35525e-20\n",
       "  0.0        \n",
       "  5.42101e-20\n",
       "  3.80078    \n",
       "  0.0453253  \n",
       " -7.77255    "
      ]
     },
     "metadata": {},
     "output_type": "display_data"
    },
    {
     "name": "stdout",
     "output_type": "stream",
     "text": [
      "elapsed time: 1.210248297 seconds\n"
     ]
    },
    {
     "data": {
      "text/plain": [
       "6-element Array{Float64,1}:\n",
       "  3.38813e-21\n",
       "  0.0        \n",
       "  1.69407e-21\n",
       "  3.73069    \n",
       " -0.000885571\n",
       " -7.64887    "
      ]
     },
     "metadata": {},
     "output_type": "display_data"
    },
    {
     "data": {
      "text/plain": [
       "6-element Array{Float64,1}:\n",
       "  3.38813e-21\n",
       "  0.0        \n",
       "  1.69407e-21\n",
       "  3.73069    \n",
       " -0.000885571\n",
       " -7.64887    "
      ]
     },
     "metadata": {},
     "output_type": "display_data"
    },
    {
     "name": "stdout",
     "output_type": "stream",
     "text": [
      "elapsed time: 1.005521624 seconds\n"
     ]
    },
    {
     "data": {
      "text/plain": [
       "6-element Array{Float64,1}:\n",
       " -4.65868e-21\n",
       "  0.0        \n",
       "  0.0        \n",
       "  3.66492    \n",
       "  0.00957807 \n",
       " -7.72659    "
      ]
     },
     "metadata": {},
     "output_type": "display_data"
    },
    {
     "data": {
      "text/plain": [
       "6-element Array{Float64,1}:\n",
       " -4.65868e-21\n",
       "  0.0        \n",
       "  0.0        \n",
       "  3.66492    \n",
       "  0.00957807 \n",
       " -7.72659    "
      ]
     },
     "metadata": {},
     "output_type": "display_data"
    },
    {
     "name": "stdout",
     "output_type": "stream",
     "text": [
      "elapsed time: 0.877126947 seconds\n"
     ]
    },
    {
     "data": {
      "text/plain": [
       "6-element Array{Float64,1}:\n",
       "  1.35525e-20\n",
       "  0.0        \n",
       " -5.42101e-20\n",
       "  3.67692    \n",
       "  0.0353844  \n",
       " -7.63121    "
      ]
     },
     "metadata": {},
     "output_type": "display_data"
    },
    {
     "data": {
      "text/plain": [
       "6-element Array{Float64,1}:\n",
       "  1.35525e-20\n",
       "  0.0        \n",
       " -5.42101e-20\n",
       "  3.67692    \n",
       "  0.0353844  \n",
       " -7.63121    "
      ]
     },
     "metadata": {},
     "output_type": "display_data"
    },
    {
     "name": "stdout",
     "output_type": "stream",
     "text": [
      "elapsed time: 0.873645791 seconds\n"
     ]
    },
    {
     "data": {
      "text/plain": [
       "6-element Array{Float64,1}:\n",
       "  6.77626e-21\n",
       "  0.0        \n",
       "  0.0        \n",
       "  3.66072    \n",
       "  0.0226892  \n",
       " -7.6212     "
      ]
     },
     "metadata": {},
     "output_type": "display_data"
    },
    {
     "data": {
      "text/plain": [
       "6-element Array{Float64,1}:\n",
       "  6.77626e-21\n",
       "  0.0        \n",
       "  0.0        \n",
       "  3.66072    \n",
       "  0.0226892  \n",
       " -7.6212     "
      ]
     },
     "metadata": {},
     "output_type": "display_data"
    },
    {
     "name": "stdout",
     "output_type": "stream",
     "text": [
      "elapsed time: 1.327203647 seconds\n"
     ]
    },
    {
     "data": {
      "text/plain": [
       "6-element Array{Float64,1}:\n",
       "  0.0     \n",
       "  0.0     \n",
       "  0.0     \n",
       "  2.04347 \n",
       " -0.106858\n",
       " -1.84511 "
      ]
     },
     "metadata": {},
     "output_type": "display_data"
    },
    {
     "data": {
      "text/plain": [
       "6-element Array{Float64,1}:\n",
       "  0.0     \n",
       "  0.0     \n",
       "  0.0     \n",
       "  2.04347 \n",
       " -0.106858\n",
       " -1.84511 "
      ]
     },
     "metadata": {},
     "output_type": "display_data"
    },
    {
     "name": "stdout",
     "output_type": "stream",
     "text": [
      "elapsed time: 0.880160171 seconds\n"
     ]
    },
    {
     "data": {
      "text/plain": [
       "6-element Array{Float64,1}:\n",
       "  0.0      \n",
       "  0.0      \n",
       "  0.0      \n",
       "  3.82747  \n",
       "  0.0277288\n",
       " -7.86129  "
      ]
     },
     "metadata": {},
     "output_type": "display_data"
    },
    {
     "data": {
      "text/plain": [
       "6-element Array{Float64,1}:\n",
       "  0.0      \n",
       "  0.0      \n",
       "  0.0      \n",
       "  3.82747  \n",
       "  0.0277288\n",
       " -7.86129  "
      ]
     },
     "metadata": {},
     "output_type": "display_data"
    },
    {
     "name": "stdout",
     "output_type": "stream",
     "text": [
      "elapsed time: 1.291699832 seconds\n"
     ]
    },
    {
     "data": {
      "text/plain": [
       "6-element Array{Float64,1}:\n",
       "  0.0       \n",
       "  0.0       \n",
       "  0.0       \n",
       "  3.87906   \n",
       "  0.00489508\n",
       " -7.9678    "
      ]
     },
     "metadata": {},
     "output_type": "display_data"
    },
    {
     "data": {
      "text/plain": [
       "6-element Array{Float64,1}:\n",
       "  0.0       \n",
       "  0.0       \n",
       "  0.0       \n",
       "  3.87906   \n",
       "  0.00489508\n",
       " -7.9678    "
      ]
     },
     "metadata": {},
     "output_type": "display_data"
    },
    {
     "name": "stdout",
     "output_type": "stream",
     "text": [
      "elapsed time: 1.249371255 seconds\n"
     ]
    },
    {
     "data": {
      "text/plain": [
       "6-element Array{Float64,1}:\n",
       "  0.0        \n",
       "  0.0        \n",
       "  0.0        \n",
       "  3.77797    \n",
       " -0.000449589\n",
       " -7.83172    "
      ]
     },
     "metadata": {},
     "output_type": "display_data"
    },
    {
     "data": {
      "text/plain": [
       "6-element Array{Float64,1}:\n",
       "  0.0        \n",
       "  0.0        \n",
       "  0.0        \n",
       "  3.77797    \n",
       " -0.000449589\n",
       " -7.83172    "
      ]
     },
     "metadata": {},
     "output_type": "display_data"
    },
    {
     "name": "stdout",
     "output_type": "stream",
     "text": [
      "elapsed time: 0.810482085 seconds\n"
     ]
    },
    {
     "data": {
      "text/plain": [
       "6-element Array{Float64,1}:\n",
       "  0.0      \n",
       "  0.0      \n",
       "  0.0      \n",
       "  0.0179996\n",
       "  0.111227 \n",
       " -9.61479  "
      ]
     },
     "metadata": {},
     "output_type": "display_data"
    },
    {
     "data": {
      "text/plain": [
       "6-element Array{Float64,1}:\n",
       "  0.0      \n",
       "  0.0      \n",
       "  0.0      \n",
       "  0.0179996\n",
       "  0.111227 \n",
       " -9.61479  "
      ]
     },
     "metadata": {},
     "output_type": "display_data"
    },
    {
     "name": "stdout",
     "output_type": "stream",
     "text": [
      "elapsed time: 1.268350248 seconds\n"
     ]
    },
    {
     "data": {
      "text/plain": [
       "6-element Array{Float64,1}:\n",
       "  0.0       \n",
       "  0.0       \n",
       "  0.0       \n",
       " -0.00678222\n",
       " -0.00525331\n",
       " -0.911512  "
      ]
     },
     "metadata": {},
     "output_type": "display_data"
    },
    {
     "data": {
      "text/plain": [
       "6-element Array{Float64,1}:\n",
       "  0.0       \n",
       "  0.0       \n",
       "  0.0       \n",
       " -0.00678222\n",
       " -0.00525331\n",
       " -0.911512  "
      ]
     },
     "metadata": {},
     "output_type": "display_data"
    },
    {
     "name": "stdout",
     "output_type": "stream",
     "text": [
      "elapsed time: 0.785733745 seconds\n"
     ]
    },
    {
     "data": {
      "text/plain": [
       "6-element Array{Float64,1}:\n",
       "  0.0      \n",
       "  0.0      \n",
       "  0.0      \n",
       "  1.99161  \n",
       " -0.0432163\n",
       " -2.76381  "
      ]
     },
     "metadata": {},
     "output_type": "display_data"
    },
    {
     "data": {
      "text/plain": [
       "6-element Array{Float64,1}:\n",
       "  0.0      \n",
       "  0.0      \n",
       "  0.0      \n",
       "  1.99161  \n",
       " -0.0432163\n",
       " -2.76381  "
      ]
     },
     "metadata": {},
     "output_type": "display_data"
    },
    {
     "name": "stdout",
     "output_type": "stream",
     "text": [
      "elapsed time: 1.187935702 seconds\n"
     ]
    },
    {
     "data": {
      "text/plain": [
       "6-element Array{Float64,1}:\n",
       " -5.92923e-21\n",
       " -1.38778e-17\n",
       "  2.71051e-20\n",
       "  3.87383    \n",
       "  0.0119911  \n",
       " -7.98336    "
      ]
     },
     "metadata": {},
     "output_type": "display_data"
    },
    {
     "data": {
      "text/plain": [
       "6-element Array{Float64,1}:\n",
       " -5.92923e-21\n",
       " -1.38778e-17\n",
       "  2.71051e-20\n",
       "  3.87383    \n",
       "  0.0119911  \n",
       " -7.98336    "
      ]
     },
     "metadata": {},
     "output_type": "display_data"
    },
    {
     "name": "stdout",
     "output_type": "stream",
     "text": [
      "elapsed time: 1.317774421 seconds\n"
     ]
    },
    {
     "data": {
      "text/plain": [
       "6-element Array{Float64,1}:\n",
       "  0.0       \n",
       "  0.0       \n",
       "  0.0       \n",
       "  3.68635   \n",
       "  0.00727714\n",
       " -7.61802   "
      ]
     },
     "metadata": {},
     "output_type": "display_data"
    },
    {
     "data": {
      "text/plain": [
       "6-element Array{Float64,1}:\n",
       "  0.0       \n",
       "  0.0       \n",
       "  0.0       \n",
       "  3.68635   \n",
       "  0.00727714\n",
       " -7.61802   "
      ]
     },
     "metadata": {},
     "output_type": "display_data"
    },
    {
     "name": "stdout",
     "output_type": "stream",
     "text": [
      "elapsed time: 1.372650264 seconds\n",
      "elapsed time: 1.280831599 seconds\n"
     ]
    },
    {
     "data": {
      "text/plain": [
       "6-element Array{Float64,1}:\n",
       " -2.32831e-10\n",
       " -4.76837e-7 \n",
       "  0.0        \n",
       "  3.07027e9  \n",
       "  1.3034e7   \n",
       " -4.28153e11 "
      ]
     },
     "metadata": {},
     "output_type": "display_data"
    },
    {
     "data": {
      "text/plain": [
       "6-element Array{Float64,1}:\n",
       " -2.32831e-10\n",
       " -4.76837e-7 \n",
       "  0.0        \n",
       "  3.07027e9  \n",
       "  1.3034e7   \n",
       " -4.28153e11 "
      ]
     },
     "metadata": {},
     "output_type": "display_data"
    },
    {
     "name": "stdout",
     "output_type": "stream",
     "text": [
      "Solved_To_Acceptable_Level\n"
     ]
    },
    {
     "data": {
      "text/plain": [
       "6-element Array{Float64,1}:\n",
       " -2.32831e-10\n",
       " -4.76837e-7 \n",
       "  0.0        \n",
       "  3.07027e9  \n",
       "  1.3034e7   \n",
       " -4.28153e11 "
      ]
     },
     "metadata": {},
     "output_type": "display_data"
    },
    {
     "data": {
      "text/plain": [
       "6-element Array{Float64,1}:\n",
       " -2.32831e-10\n",
       " -4.76837e-7 \n",
       "  0.0        \n",
       "  3.07027e9  \n",
       "  1.3034e7   \n",
       " -4.28153e11 "
      ]
     },
     "metadata": {},
     "output_type": "display_data"
    },
    {
     "name": "stdout",
     "output_type": "stream",
     "text": [
      "elapsed time: 0.876707039 seconds\n"
     ]
    },
    {
     "data": {
      "text/plain": [
       "6-element Array{Float64,1}:\n",
       "  0.0       \n",
       "  0.0       \n",
       " -1.49012e-8\n",
       " -4.40153e9 \n",
       "  4.64132e9 \n",
       "  3.52847e8 "
      ]
     },
     "metadata": {},
     "output_type": "display_data"
    },
    {
     "data": {
      "text/plain": [
       "6-element Array{Float64,1}:\n",
       "  0.0       \n",
       "  0.0       \n",
       " -1.49012e-8\n",
       " -4.40153e9 \n",
       "  4.64132e9 \n",
       "  3.52847e8 "
      ]
     },
     "metadata": {},
     "output_type": "display_data"
    },
    {
     "name": "stdout",
     "output_type": "stream",
     "text": [
      "elapsed time: 1.189387054 seconds\n"
     ]
    },
    {
     "data": {
      "text/plain": [
       "6-element Array{Float64,1}:\n",
       "     1.16415e-10\n",
       "     5.82077e-11\n",
       "     0.0        \n",
       "  -119.571      \n",
       "   178.052      \n",
       " 21138.0        "
      ]
     },
     "metadata": {},
     "output_type": "display_data"
    },
    {
     "data": {
      "text/plain": [
       "6-element Array{Float64,1}:\n",
       "     1.16415e-10\n",
       "     5.82077e-11\n",
       "     0.0        \n",
       "  -119.571      \n",
       "   178.052      \n",
       " 21138.0        "
      ]
     },
     "metadata": {},
     "output_type": "display_data"
    },
    {
     "name": "stdout",
     "output_type": "stream",
     "text": [
      "elapsed time: 0.84787703 seconds\n"
     ]
    },
    {
     "data": {
      "text/plain": [
       "6-element Array{Float64,1}:\n",
       "     9.31323e-10\n",
       "    -9.31323e-10\n",
       "     0.0        \n",
       " -1375.42       \n",
       "  1354.09       \n",
       "  1460.9        "
      ]
     },
     "metadata": {},
     "output_type": "display_data"
    },
    {
     "data": {
      "text/plain": [
       "6-element Array{Float64,1}:\n",
       "     9.31323e-10\n",
       "    -9.31323e-10\n",
       "     0.0        \n",
       " -1375.42       \n",
       "  1354.09       \n",
       "  1460.9        "
      ]
     },
     "metadata": {},
     "output_type": "display_data"
    },
    {
     "name": "stdout",
     "output_type": "stream",
     "text": [
      "elapsed time: 1.308998972 seconds\n"
     ]
    },
    {
     "data": {
      "text/plain": [
       "6-element Array{Float64,1}:\n",
       "  0.0       \n",
       "  0.0       \n",
       "  4.47035e-8\n",
       " -8.61503e6 \n",
       " -1.78198e7 \n",
       "  8.11588e6 "
      ]
     },
     "metadata": {},
     "output_type": "display_data"
    },
    {
     "data": {
      "text/plain": [
       "6-element Array{Float64,1}:\n",
       "  0.0       \n",
       "  0.0       \n",
       "  4.47035e-8\n",
       " -8.61503e6 \n",
       " -1.78198e7 \n",
       "  8.11588e6 "
      ]
     },
     "metadata": {},
     "output_type": "display_data"
    },
    {
     "name": "stdout",
     "output_type": "stream",
     "text": [
      "elapsed time: 1.573147745 seconds\n"
     ]
    },
    {
     "data": {
      "text/plain": [
       "6-element Array{Float64,1}:\n",
       "  0.0        \n",
       " -1.13687e-13\n",
       "  3.55271e-15\n",
       " -0.309597   \n",
       " -1.2321     \n",
       "  0.127013   "
      ]
     },
     "metadata": {},
     "output_type": "display_data"
    },
    {
     "data": {
      "text/plain": [
       "6-element Array{Float64,1}:\n",
       "  0.0        \n",
       " -1.13687e-13\n",
       "  3.55271e-15\n",
       " -0.309597   \n",
       " -1.2321     \n",
       "  0.127013   "
      ]
     },
     "metadata": {},
     "output_type": "display_data"
    },
    {
     "name": "stdout",
     "output_type": "stream",
     "text": [
      "elapsed time: 0.883304635 seconds\n"
     ]
    },
    {
     "data": {
      "text/plain": [
       "6-element Array{Float64,1}:\n",
       "   1.42109e-13\n",
       "   0.0        \n",
       "  -5.68434e-14\n",
       " -17.3506     \n",
       " -18.2161     \n",
       "  -3.19377    "
      ]
     },
     "metadata": {},
     "output_type": "display_data"
    },
    {
     "data": {
      "text/plain": [
       "6-element Array{Float64,1}:\n",
       "   1.42109e-13\n",
       "   0.0        \n",
       "  -5.68434e-14\n",
       " -17.3506     \n",
       " -18.2161     \n",
       "  -3.19377    "
      ]
     },
     "metadata": {},
     "output_type": "display_data"
    },
    {
     "name": "stdout",
     "output_type": "stream",
     "text": [
      "elapsed time: 1.208062193 seconds\n"
     ]
    },
    {
     "data": {
      "text/plain": [
       "6-element Array{Float64,1}:\n",
       "  -1.36424e-12\n",
       "   0.0        \n",
       "   0.0        \n",
       " -48.3653     \n",
       "  24.3334     \n",
       "  18.7025     "
      ]
     },
     "metadata": {},
     "output_type": "display_data"
    },
    {
     "data": {
      "text/plain": [
       "6-element Array{Float64,1}:\n",
       "  -1.36424e-12\n",
       "   0.0        \n",
       "   0.0        \n",
       " -48.3653     \n",
       "  24.3334     \n",
       "  18.7025     "
      ]
     },
     "metadata": {},
     "output_type": "display_data"
    },
    {
     "name": "stdout",
     "output_type": "stream",
     "text": [
      "elapsed time: 1.159222778 seconds\n"
     ]
    },
    {
     "data": {
      "text/plain": [
       "6-element Array{Float64,1}:\n",
       "    -5.82077e-11\n",
       "     0.0        \n",
       "     0.0        \n",
       "   813.265      \n",
       " -2841.54       \n",
       " -1522.39       "
      ]
     },
     "metadata": {},
     "output_type": "display_data"
    },
    {
     "data": {
      "text/plain": [
       "6-element Array{Float64,1}:\n",
       "    -5.82077e-11\n",
       "     0.0        \n",
       "     0.0        \n",
       "   813.265      \n",
       " -2841.54       \n",
       " -1522.39       "
      ]
     },
     "metadata": {},
     "output_type": "display_data"
    },
    {
     "name": "stdout",
     "output_type": "stream",
     "text": [
      "elapsed time: 0.835210761 seconds\n"
     ]
    },
    {
     "data": {
      "text/plain": [
       "6-element Array{Float64,1}:\n",
       "     -1.86265e-9 \n",
       "     -9.31323e-10\n",
       "      7.45058e-9 \n",
       " -31126.0        \n",
       "  83205.5        \n",
       "  -2962.82       "
      ]
     },
     "metadata": {},
     "output_type": "display_data"
    },
    {
     "data": {
      "text/plain": [
       "6-element Array{Float64,1}:\n",
       "     -1.86265e-9 \n",
       "     -9.31323e-10\n",
       "      7.45058e-9 \n",
       " -31126.0        \n",
       "  83205.5        \n",
       "  -2962.82       "
      ]
     },
     "metadata": {},
     "output_type": "display_data"
    },
    {
     "name": "stdout",
     "output_type": "stream",
     "text": [
      "elapsed time: 1.013616963 seconds\n"
     ]
    },
    {
     "data": {
      "text/plain": [
       "6-element Array{Float64,1}:\n",
       "   5.68434e-14\n",
       "   1.42109e-13\n",
       "   1.42109e-14\n",
       "   2.23719    \n",
       "  -4.21793    \n",
       " -15.5888     "
      ]
     },
     "metadata": {},
     "output_type": "display_data"
    },
    {
     "data": {
      "text/plain": [
       "6-element Array{Float64,1}:\n",
       "   5.68434e-14\n",
       "   1.42109e-13\n",
       "   1.42109e-14\n",
       "   2.23719    \n",
       "  -4.21793    \n",
       " -15.5888     "
      ]
     },
     "metadata": {},
     "output_type": "display_data"
    },
    {
     "name": "stdout",
     "output_type": "stream",
     "text": [
      "elapsed time: 1.191798497 seconds\n"
     ]
    },
    {
     "data": {
      "text/plain": [
       "6-element Array{Float64,1}:\n",
       "  0.0        \n",
       " -1.9984e-15 \n",
       "  4.44089e-16\n",
       "  0.152565   \n",
       " -0.262845   \n",
       " -0.906799   "
      ]
     },
     "metadata": {},
     "output_type": "display_data"
    },
    {
     "data": {
      "text/plain": [
       "6-element Array{Float64,1}:\n",
       "  0.0        \n",
       " -1.9984e-15 \n",
       "  4.44089e-16\n",
       "  0.152565   \n",
       " -0.262845   \n",
       " -0.906799   "
      ]
     },
     "metadata": {},
     "output_type": "display_data"
    },
    {
     "name": "stdout",
     "output_type": "stream",
     "text": [
      "elapsed time: 0.841491384 seconds\n"
     ]
    },
    {
     "data": {
      "text/plain": [
       "6-element Array{Float64,1}:\n",
       "     1.16415e-10\n",
       "     0.0        \n",
       "    -1.16415e-10\n",
       " -9524.78       \n",
       "  4602.53       \n",
       "  5353.98       "
      ]
     },
     "metadata": {},
     "output_type": "display_data"
    },
    {
     "data": {
      "text/plain": [
       "6-element Array{Float64,1}:\n",
       "     1.16415e-10\n",
       "     0.0        \n",
       "    -1.16415e-10\n",
       " -9524.78       \n",
       "  4602.53       \n",
       "  5353.98       "
      ]
     },
     "metadata": {},
     "output_type": "display_data"
    },
    {
     "name": "stdout",
     "output_type": "stream",
     "text": [
      "elapsed time: 1.309138799 seconds\n"
     ]
    },
    {
     "data": {
      "text/plain": [
       "6-element Array{Float64,1}:\n",
       "      0.0       \n",
       "      1.86265e-9\n",
       "      1.86265e-9\n",
       "  15478.8       \n",
       " -33326.3       \n",
       "  26559.0       "
      ]
     },
     "metadata": {},
     "output_type": "display_data"
    },
    {
     "data": {
      "text/plain": [
       "6-element Array{Float64,1}:\n",
       "      0.0       \n",
       "      1.86265e-9\n",
       "      1.86265e-9\n",
       "  15478.8       \n",
       " -33326.3       \n",
       "  26559.0       "
      ]
     },
     "metadata": {},
     "output_type": "display_data"
    },
    {
     "name": "stdout",
     "output_type": "stream",
     "text": [
      "elapsed time: 0.828202418 seconds\n"
     ]
    },
    {
     "data": {
      "text/plain": [
       "6-element Array{Float64,1}:\n",
       "    -1.45519e-11\n",
       "    -3.49246e-10\n",
       "    -4.65661e-10\n",
       "  5941.1        \n",
       "  4416.17       \n",
       " -1698.39       "
      ]
     },
     "metadata": {},
     "output_type": "display_data"
    },
    {
     "data": {
      "text/plain": [
       "6-element Array{Float64,1}:\n",
       "    -1.45519e-11\n",
       "    -3.49246e-10\n",
       "    -4.65661e-10\n",
       "  5941.1        \n",
       "  4416.17       \n",
       " -1698.39       "
      ]
     },
     "metadata": {},
     "output_type": "display_data"
    },
    {
     "name": "stdout",
     "output_type": "stream",
     "text": [
      "elapsed time: 0.859997827 seconds\n"
     ]
    },
    {
     "data": {
      "text/plain": [
       "6-element Array{Float64,1}:\n",
       "     2.18279e-11\n",
       "     0.0        \n",
       "     2.32831e-10\n",
       " -4094.91       \n",
       " -2846.54       \n",
       "  1401.73       "
      ]
     },
     "metadata": {},
     "output_type": "display_data"
    },
    {
     "data": {
      "text/plain": [
       "6-element Array{Float64,1}:\n",
       "     2.18279e-11\n",
       "     0.0        \n",
       "     2.32831e-10\n",
       " -4094.91       \n",
       " -2846.54       \n",
       "  1401.73       "
      ]
     },
     "metadata": {},
     "output_type": "display_data"
    },
    {
     "name": "stdout",
     "output_type": "stream",
     "text": [
      "elapsed time: 1.328259755 seconds\n"
     ]
    },
    {
     "data": {
      "text/plain": [
       "6-element Array{Float64,1}:\n",
       " -0.000976563\n",
       "  0.0        \n",
       "  0.0        \n",
       "  4.99029e7  \n",
       " -1.41127e9  \n",
       " -2.81568e9  "
      ]
     },
     "metadata": {},
     "output_type": "display_data"
    },
    {
     "data": {
      "text/plain": [
       "6-element Array{Float64,1}:\n",
       " -0.000976563\n",
       "  0.0        \n",
       "  0.0        \n",
       "  4.99029e7  \n",
       " -1.41127e9  \n",
       " -2.81568e9  "
      ]
     },
     "metadata": {},
     "output_type": "display_data"
    },
    {
     "name": "stdout",
     "output_type": "stream",
     "text": [
      "elapsed time: 1.203991764 seconds\n"
     ]
    },
    {
     "data": {
      "text/plain": [
       "6-element Array{Float64,1}:\n",
       "  0.0        \n",
       "  0.0        \n",
       " -2.84217e-14\n",
       " -0.192406   \n",
       "  0.350621   \n",
       "  0.808679   "
      ]
     },
     "metadata": {},
     "output_type": "display_data"
    },
    {
     "data": {
      "text/plain": [
       "6-element Array{Float64,1}:\n",
       "  0.0        \n",
       "  0.0        \n",
       " -2.84217e-14\n",
       " -0.192406   \n",
       "  0.350621   \n",
       "  0.808679   "
      ]
     },
     "metadata": {},
     "output_type": "display_data"
    },
    {
     "name": "stdout",
     "output_type": "stream",
     "text": [
      "elapsed time: 1.231030492 seconds\n"
     ]
    },
    {
     "data": {
      "text/plain": [
       "6-element Array{Float64,1}:\n",
       " -0.000976563\n",
       "  0.0        \n",
       "  0.0        \n",
       "  4.99029e7  \n",
       " -1.41127e9  \n",
       " -2.81568e9  "
      ]
     },
     "metadata": {},
     "output_type": "display_data"
    },
    {
     "data": {
      "text/plain": [
       "6-element Array{Float64,1}:\n",
       " -0.000976563\n",
       "  0.0        \n",
       "  0.0        \n",
       "  4.99029e7  \n",
       " -1.41127e9  \n",
       " -2.81568e9  "
      ]
     },
     "metadata": {},
     "output_type": "display_data"
    },
    {
     "name": "stdout",
     "output_type": "stream",
     "text": [
      "elapsed time: 0.850158207 seconds\n"
     ]
    },
    {
     "data": {
      "text/plain": [
       "6-element Array{Float64,1}:\n",
       "    2.32831e-10\n",
       "    4.65661e-10\n",
       "   -2.32831e-10\n",
       " -247.68       \n",
       " 1223.43       \n",
       " 2526.92       "
      ]
     },
     "metadata": {},
     "output_type": "display_data"
    },
    {
     "data": {
      "text/plain": [
       "6-element Array{Float64,1}:\n",
       "    2.32831e-10\n",
       "    4.65661e-10\n",
       "   -2.32831e-10\n",
       " -247.68       \n",
       " 1223.43       \n",
       " 2526.92       "
      ]
     },
     "metadata": {},
     "output_type": "display_data"
    },
    {
     "name": "stdout",
     "output_type": "stream",
     "text": [
      "elapsed time: 1.244188053 seconds\n"
     ]
    },
    {
     "data": {
      "text/plain": [
       "6-element Array{Float64,1}:\n",
       "  0.0       \n",
       "  0.0       \n",
       "  1.0       \n",
       " -2.04475e11\n",
       "  3.67155e12\n",
       "  6.37071e12"
      ]
     },
     "metadata": {},
     "output_type": "display_data"
    },
    {
     "data": {
      "text/plain": [
       "6-element Array{Float64,1}:\n",
       "  0.0       \n",
       "  0.0       \n",
       "  1.0       \n",
       " -2.04475e11\n",
       "  3.67155e12\n",
       "  6.37071e12"
      ]
     },
     "metadata": {},
     "output_type": "display_data"
    },
    {
     "name": "stdout",
     "output_type": "stream",
     "text": [
      "elapsed time: 0.838469422 seconds\n"
     ]
    },
    {
     "data": {
      "text/plain": [
       "6-element Array{Float64,1}:\n",
       "  0.5       \n",
       "  0.0       \n",
       "  0.0       \n",
       " -2.05014e11\n",
       "  3.67751e12\n",
       "  6.38047e12"
      ]
     },
     "metadata": {},
     "output_type": "display_data"
    },
    {
     "data": {
      "text/plain": [
       "6-element Array{Float64,1}:\n",
       "  0.5       \n",
       "  0.0       \n",
       "  0.0       \n",
       " -2.05014e11\n",
       "  3.67751e12\n",
       "  6.38047e12"
      ]
     },
     "metadata": {},
     "output_type": "display_data"
    },
    {
     "name": "stdout",
     "output_type": "stream",
     "text": [
      "elapsed time: 1.189056424 seconds\n"
     ]
    },
    {
     "data": {
      "text/plain": [
       "6-element Array{Float64,1}:\n",
       "  0.0       \n",
       "  2.0       \n",
       "  0.0       \n",
       " -2.34203e11\n",
       "  4.18856e12\n",
       "  7.26344e12"
      ]
     },
     "metadata": {},
     "output_type": "display_data"
    },
    {
     "data": {
      "text/plain": [
       "6-element Array{Float64,1}:\n",
       "  0.0       \n",
       "  2.0       \n",
       "  0.0       \n",
       " -2.34203e11\n",
       "  4.18856e12\n",
       "  7.26344e12"
      ]
     },
     "metadata": {},
     "output_type": "display_data"
    },
    {
     "name": "stdout",
     "output_type": "stream",
     "text": [
      "elapsed time: 1.193411468 seconds\n"
     ]
    },
    {
     "data": {
      "text/plain": [
       "6-element Array{Float64,1}:\n",
       " -0.25      \n",
       "  0.0       \n",
       "  0.5       \n",
       " -1.229e11  \n",
       "  2.19215e12\n",
       "  3.79684e12"
      ]
     },
     "metadata": {},
     "output_type": "display_data"
    },
    {
     "data": {
      "text/plain": [
       "6-element Array{Float64,1}:\n",
       " -0.25      \n",
       "  0.0       \n",
       "  0.5       \n",
       " -1.229e11  \n",
       "  2.19215e12\n",
       "  3.79684e12"
      ]
     },
     "metadata": {},
     "output_type": "display_data"
    },
    {
     "name": "stdout",
     "output_type": "stream",
     "text": [
      "elapsed time: 0.860172546 seconds\n"
     ]
    },
    {
     "data": {
      "text/plain": [
       "6-element Array{Float64,1}:\n",
       "  0.0       \n",
       " -4.0       \n",
       "  4.0       \n",
       " -6.66292e11\n",
       "  1.18665e13\n",
       "  2.05547e13"
      ]
     },
     "metadata": {},
     "output_type": "display_data"
    },
    {
     "data": {
      "text/plain": [
       "6-element Array{Float64,1}:\n",
       "  0.0       \n",
       " -4.0       \n",
       "  4.0       \n",
       " -6.66292e11\n",
       "  1.18665e13\n",
       "  2.05547e13"
      ]
     },
     "metadata": {},
     "output_type": "display_data"
    },
    {
     "name": "stdout",
     "output_type": "stream",
     "text": [
      "elapsed time: 1.258507408 seconds\n"
     ]
    },
    {
     "data": {
      "text/plain": [
       "6-element Array{Float64,1}:\n",
       "  0.0       \n",
       " -4.0       \n",
       " -2.0       \n",
       " -5.0181e11 \n",
       "  8.71448e12\n",
       "  1.50094e13"
      ]
     },
     "metadata": {},
     "output_type": "display_data"
    },
    {
     "data": {
      "text/plain": [
       "6-element Array{Float64,1}:\n",
       "  0.0       \n",
       " -4.0       \n",
       " -2.0       \n",
       " -5.0181e11 \n",
       "  8.71448e12\n",
       "  1.50094e13"
      ]
     },
     "metadata": {},
     "output_type": "display_data"
    },
    {
     "name": "stdout",
     "output_type": "stream",
     "text": [
      "elapsed time: 0.811621903 seconds\n"
     ]
    },
    {
     "data": {
      "text/plain": [
       "6-element Array{Float64,1}:\n",
       "  0.5       \n",
       "  0.0       \n",
       " -1.0       \n",
       " -2.13372e11\n",
       "  3.70585e12\n",
       "  6.38261e12"
      ]
     },
     "metadata": {},
     "output_type": "display_data"
    },
    {
     "data": {
      "text/plain": [
       "6-element Array{Float64,1}:\n",
       "  0.5       \n",
       "  0.0       \n",
       " -1.0       \n",
       " -2.13372e11\n",
       "  3.70585e12\n",
       "  6.38261e12"
      ]
     },
     "metadata": {},
     "output_type": "display_data"
    },
    {
     "name": "stdout",
     "output_type": "stream",
     "text": [
      "elapsed time: 1.165841455 seconds\n"
     ]
    },
    {
     "data": {
      "text/plain": [
       "6-element Array{Float64,1}:\n",
       "  6.10352e-5\n",
       "  0.0       \n",
       "  0.0       \n",
       " -2.76889e7 \n",
       "  4.42466e8 \n",
       "  7.72308e8 "
      ]
     },
     "metadata": {},
     "output_type": "display_data"
    },
    {
     "data": {
      "text/plain": [
       "6-element Array{Float64,1}:\n",
       "  6.10352e-5\n",
       "  0.0       \n",
       "  0.0       \n",
       " -2.76889e7 \n",
       "  4.42466e8 \n",
       "  7.72308e8 "
      ]
     },
     "metadata": {},
     "output_type": "display_data"
    },
    {
     "name": "stdout",
     "output_type": "stream",
     "text": [
      "elapsed time: 1.183822727 seconds\n"
     ]
    },
    {
     "data": {
      "text/plain": [
       "6-element Array{Float64,1}:\n",
       " -0.0625    \n",
       " -0.25      \n",
       "  0.125     \n",
       " -4.26651e10\n",
       "  6.62186e11\n",
       "  1.15374e12"
      ]
     },
     "metadata": {},
     "output_type": "display_data"
    },
    {
     "data": {
      "text/plain": [
       "6-element Array{Float64,1}:\n",
       " -0.0625    \n",
       " -0.25      \n",
       "  0.125     \n",
       " -4.26651e10\n",
       "  6.62186e11\n",
       "  1.15374e12"
      ]
     },
     "metadata": {},
     "output_type": "display_data"
    },
    {
     "name": "stdout",
     "output_type": "stream",
     "text": [
      "elapsed time: 0.795146699 seconds\n"
     ]
    },
    {
     "data": {
      "text/plain": [
       "6-element Array{Float64,1}:\n",
       "  0.00195313\n",
       " -0.00390625\n",
       " -0.00390625\n",
       " -6.8396e8  \n",
       "  1.05346e10\n",
       "  1.8323e10 "
      ]
     },
     "metadata": {},
     "output_type": "display_data"
    },
    {
     "data": {
      "text/plain": [
       "6-element Array{Float64,1}:\n",
       "  0.00195313\n",
       " -0.00390625\n",
       " -0.00390625\n",
       " -6.8396e8  \n",
       "  1.05346e10\n",
       "  1.8323e10 "
      ]
     },
     "metadata": {},
     "output_type": "display_data"
    },
    {
     "name": "stdout",
     "output_type": "stream",
     "text": [
      "elapsed time: 1.331386682 seconds\n"
     ]
    },
    {
     "data": {
      "text/plain": [
       "6-element Array{Float64,1}:\n",
       "  0.0       \n",
       "  0.0       \n",
       "  1.0       \n",
       " -2.45628e11\n",
       "  3.64812e12\n",
       "  6.29096e12"
      ]
     },
     "metadata": {},
     "output_type": "display_data"
    },
    {
     "data": {
      "text/plain": [
       "6-element Array{Float64,1}:\n",
       "  0.0       \n",
       "  0.0       \n",
       "  1.0       \n",
       " -2.45628e11\n",
       "  3.64812e12\n",
       "  6.29096e12"
      ]
     },
     "metadata": {},
     "output_type": "display_data"
    },
    {
     "name": "stdout",
     "output_type": "stream",
     "text": [
      "elapsed time: 0.862192352 seconds\n"
     ]
    },
    {
     "data": {
      "text/plain": [
       "6-element Array{Float64,1}:\n",
       "  0.0       \n",
       "  0.0       \n",
       "  0.0       \n",
       " -8.67748e12\n",
       "  9.54099e13\n",
       "  1.64179e14"
      ]
     },
     "metadata": {},
     "output_type": "display_data"
    },
    {
     "data": {
      "text/plain": [
       "6-element Array{Float64,1}:\n",
       "  0.0       \n",
       "  0.0       \n",
       "  0.0       \n",
       " -8.67748e12\n",
       "  9.54099e13\n",
       "  1.64179e14"
      ]
     },
     "metadata": {},
     "output_type": "display_data"
    },
    {
     "name": "stdout",
     "output_type": "stream",
     "text": [
      "elapsed time: 1.160176494 seconds\n"
     ]
    },
    {
     "data": {
      "text/plain": [
       "6-element Array{Float64,1}:\n",
       "  0.5       \n",
       "  2.0       \n",
       "  0.0       \n",
       " -3.94927e11\n",
       "  4.34185e12\n",
       "  7.47115e12"
      ]
     },
     "metadata": {},
     "output_type": "display_data"
    },
    {
     "data": {
      "text/plain": [
       "6-element Array{Float64,1}:\n",
       "  0.5       \n",
       "  2.0       \n",
       "  0.0       \n",
       " -3.94927e11\n",
       "  4.34185e12\n",
       "  7.47115e12"
      ]
     },
     "metadata": {},
     "output_type": "display_data"
    },
    {
     "name": "stdout",
     "output_type": "stream",
     "text": [
      "elapsed time: 1.158447538 seconds\n"
     ]
    },
    {
     "data": {
      "text/plain": [
       "6-element Array{Float64,1}:\n",
       "  0.0       \n",
       " -0.0625    \n",
       "  0.0       \n",
       " -4.05646e11\n",
       "  1.634e12  \n",
       "  2.82689e12"
      ]
     },
     "metadata": {},
     "output_type": "display_data"
    },
    {
     "data": {
      "text/plain": [
       "6-element Array{Float64,1}:\n",
       "  0.0       \n",
       " -0.0625    \n",
       "  0.0       \n",
       " -4.05646e11\n",
       "  1.634e12  \n",
       "  2.82689e12"
      ]
     },
     "metadata": {},
     "output_type": "display_data"
    },
    {
     "name": "stdout",
     "output_type": "stream",
     "text": [
      "elapsed time: 0.822325023 seconds\n"
     ]
    },
    {
     "data": {
      "text/plain": [
       "6-element Array{Float64,1}:\n",
       "  0.0       \n",
       "  0.0625    \n",
       " -0.25      \n",
       " -3.27133e11\n",
       "  3.56869e11\n",
       "  5.44544e11"
      ]
     },
     "metadata": {},
     "output_type": "display_data"
    },
    {
     "data": {
      "text/plain": [
       "6-element Array{Float64,1}:\n",
       "  0.0       \n",
       "  0.0625    \n",
       " -0.25      \n",
       " -3.27133e11\n",
       "  3.56869e11\n",
       "  5.44544e11"
      ]
     },
     "metadata": {},
     "output_type": "display_data"
    },
    {
     "name": "stdout",
     "output_type": "stream",
     "text": [
      "elapsed time: 1.426584913 seconds\n"
     ]
    },
    {
     "data": {
      "text/plain": [
       "6-element Array{Float64,1}:\n",
       " -0.000244141\n",
       " -6.10352e-5 \n",
       "  1.52588e-5 \n",
       "  4.16941e7  \n",
       " -2.09988e8  \n",
       " -2.52782e8  "
      ]
     },
     "metadata": {},
     "output_type": "display_data"
    },
    {
     "data": {
      "text/plain": [
       "6-element Array{Float64,1}:\n",
       " -0.000244141\n",
       " -6.10352e-5 \n",
       "  1.52588e-5 \n",
       "  4.16941e7  \n",
       " -2.09988e8  \n",
       " -2.52782e8  "
      ]
     },
     "metadata": {},
     "output_type": "display_data"
    },
    {
     "name": "stdout",
     "output_type": "stream",
     "text": [
      "elapsed time: 0.838101036 seconds\n"
     ]
    },
    {
     "data": {
      "text/plain": [
       "6-element Array{Float64,1}:\n",
       " -2.0       \n",
       " -2.0       \n",
       "  0.5       \n",
       " -1.85822e12\n",
       "  2.92309e12\n",
       "  6.38405e12"
      ]
     },
     "metadata": {},
     "output_type": "display_data"
    },
    {
     "data": {
      "text/plain": [
       "6-element Array{Float64,1}:\n",
       " -2.0       \n",
       " -2.0       \n",
       "  0.5       \n",
       " -1.85822e12\n",
       "  2.92309e12\n",
       "  6.38405e12"
      ]
     },
     "metadata": {},
     "output_type": "display_data"
    },
    {
     "name": "stdout",
     "output_type": "stream",
     "text": [
      "elapsed time: 0.835105616 seconds\n"
     ]
    },
    {
     "data": {
      "text/plain": [
       "6-element Array{Float64,1}:\n",
       " -0.5       \n",
       " -4.0       \n",
       "  0.0       \n",
       " -3.97062e12\n",
       "  3.36935e12\n",
       "  9.92012e12"
      ]
     },
     "metadata": {},
     "output_type": "display_data"
    },
    {
     "data": {
      "text/plain": [
       "6-element Array{Float64,1}:\n",
       " -0.5       \n",
       " -4.0       \n",
       "  0.0       \n",
       " -3.97062e12\n",
       "  3.36935e12\n",
       "  9.92012e12"
      ]
     },
     "metadata": {},
     "output_type": "display_data"
    },
    {
     "name": "stdout",
     "output_type": "stream",
     "text": [
      "elapsed time: 1.228950028 seconds\n"
     ]
    },
    {
     "data": {
      "text/plain": [
       "6-element Array{Float64,1}:\n",
       " -1.0       \n",
       "  8.0       \n",
       "  0.0       \n",
       " -6.85555e12\n",
       "  5.78991e12\n",
       "  1.70981e13"
      ]
     },
     "metadata": {},
     "output_type": "display_data"
    },
    {
     "data": {
      "text/plain": [
       "6-element Array{Float64,1}:\n",
       " -1.0       \n",
       "  8.0       \n",
       "  0.0       \n",
       " -6.85555e12\n",
       "  5.78991e12\n",
       "  1.70981e13"
      ]
     },
     "metadata": {},
     "output_type": "display_data"
    },
    {
     "name": "stdout",
     "output_type": "stream",
     "text": [
      "elapsed time: 0.854650464 seconds\n"
     ]
    },
    {
     "data": {
      "text/plain": [
       "6-element Array{Float64,1}:\n",
       "  1.13687e-13\n",
       "  0.0        \n",
       "  0.0        \n",
       " -1.45722    \n",
       "  1.03369    \n",
       "  2.31132    "
      ]
     },
     "metadata": {},
     "output_type": "display_data"
    },
    {
     "data": {
      "text/plain": [
       "6-element Array{Float64,1}:\n",
       "  1.13687e-13\n",
       "  0.0        \n",
       "  0.0        \n",
       " -1.45722    \n",
       "  1.03369    \n",
       "  2.31132    "
      ]
     },
     "metadata": {},
     "output_type": "display_data"
    },
    {
     "name": "stdout",
     "output_type": "stream",
     "text": [
      "elapsed time: 1.36626321 seconds\n"
     ]
    },
    {
     "data": {
      "text/plain": [
       "6-element Array{Float64,1}:\n",
       "  1.13687e-13\n",
       "  0.0        \n",
       "  0.0        \n",
       " -1.45722    \n",
       "  1.03369    \n",
       "  2.31132    "
      ]
     },
     "metadata": {},
     "output_type": "display_data"
    },
    {
     "data": {
      "text/plain": [
       "6-element Array{Float64,1}:\n",
       "  1.13687e-13\n",
       "  0.0        \n",
       "  0.0        \n",
       " -1.45722    \n",
       "  1.03369    \n",
       "  2.31132    "
      ]
     },
     "metadata": {},
     "output_type": "display_data"
    },
    {
     "name": "stdout",
     "output_type": "stream",
     "text": [
      "elapsed time: 0.904142822 seconds\n"
     ]
    },
    {
     "data": {
      "text/plain": [
       "6-element Array{Float64,1}:\n",
       "  0.0        \n",
       "  0.0        \n",
       "  4.54747e-13\n",
       " -1.40633    \n",
       "  1.00027    \n",
       "  2.23338    "
      ]
     },
     "metadata": {},
     "output_type": "display_data"
    },
    {
     "data": {
      "text/plain": [
       "6-element Array{Float64,1}:\n",
       "  0.0        \n",
       "  0.0        \n",
       "  4.54747e-13\n",
       " -1.40633    \n",
       "  1.00027    \n",
       "  2.23338    "
      ]
     },
     "metadata": {},
     "output_type": "display_data"
    },
    {
     "name": "stdout",
     "output_type": "stream",
     "text": [
      "elapsed time: 1.178118439 seconds\n"
     ]
    },
    {
     "data": {
      "text/plain": [
       "6-element Array{Float64,1}:\n",
       "     -1.86265e-9\n",
       "      0.0       \n",
       "     -1.86265e-9\n",
       "   9731.99      \n",
       "  -4369.54      \n",
       " -16377.9       "
      ]
     },
     "metadata": {},
     "output_type": "display_data"
    },
    {
     "data": {
      "text/plain": [
       "6-element Array{Float64,1}:\n",
       "     -1.86265e-9\n",
       "      0.0       \n",
       "     -1.86265e-9\n",
       "   9731.99      \n",
       "  -4369.54      \n",
       " -16377.9       "
      ]
     },
     "metadata": {},
     "output_type": "display_data"
    },
    {
     "name": "stdout",
     "output_type": "stream",
     "text": [
      "elapsed time: 1.199657744 seconds\n"
     ]
    },
    {
     "data": {
      "text/plain": [
       "6-element Array{Float64,1}:\n",
       "  0.0078125  \n",
       " -0.015625   \n",
       "  0.000976563\n",
       " -1.25484e10 \n",
       " -9.9462e8   \n",
       "  5.91299e10 "
      ]
     },
     "metadata": {},
     "output_type": "display_data"
    },
    {
     "data": {
      "text/plain": [
       "6-element Array{Float64,1}:\n",
       "  0.0078125  \n",
       " -0.015625   \n",
       "  0.000976563\n",
       " -1.25484e10 \n",
       " -9.9462e8   \n",
       "  5.91299e10 "
      ]
     },
     "metadata": {},
     "output_type": "display_data"
    },
    {
     "name": "stdout",
     "output_type": "stream",
     "text": [
      "elapsed time: 0.853826357 seconds\n"
     ]
    },
    {
     "data": {
      "text/plain": [
       "6-element Array{Float64,1}:\n",
       "  0.5       \n",
       "  1.0       \n",
       "  2.0       \n",
       "  5.03499e11\n",
       " -2.67559e12\n",
       "  3.55888e12"
      ]
     },
     "metadata": {},
     "output_type": "display_data"
    },
    {
     "data": {
      "text/plain": [
       "6-element Array{Float64,1}:\n",
       "  0.5       \n",
       "  1.0       \n",
       "  2.0       \n",
       "  5.03499e11\n",
       " -2.67559e12\n",
       "  3.55888e12"
      ]
     },
     "metadata": {},
     "output_type": "display_data"
    },
    {
     "name": "stdout",
     "output_type": "stream",
     "text": [
      "elapsed time: 1.321470789 seconds\n"
     ]
    },
    {
     "data": {
      "text/plain": [
       "6-element Array{Float64,1}:\n",
       "   -8.73115e-11\n",
       "    0.0        \n",
       "   -2.32831e-10\n",
       "   73.398      \n",
       "  604.777      \n",
       " -934.547      "
      ]
     },
     "metadata": {},
     "output_type": "display_data"
    },
    {
     "data": {
      "text/plain": [
       "6-element Array{Float64,1}:\n",
       "   -8.73115e-11\n",
       "    0.0        \n",
       "   -2.32831e-10\n",
       "   73.398      \n",
       "  604.777      \n",
       " -934.547      "
      ]
     },
     "metadata": {},
     "output_type": "display_data"
    },
    {
     "name": "stdout",
     "output_type": "stream",
     "text": [
      "elapsed time: 0.851912059 seconds\n"
     ]
    },
    {
     "data": {
      "text/plain": [
       "6-element Array{Float64,1}:\n",
       " -0.09375   \n",
       " -0.5       \n",
       " -0.25      \n",
       "  2.36407e11\n",
       " -1.12463e12\n",
       "  1.44498e12"
      ]
     },
     "metadata": {},
     "output_type": "display_data"
    },
    {
     "data": {
      "text/plain": [
       "6-element Array{Float64,1}:\n",
       " -0.09375   \n",
       " -0.5       \n",
       " -0.25      \n",
       "  2.36407e11\n",
       " -1.12463e12\n",
       "  1.44498e12"
      ]
     },
     "metadata": {},
     "output_type": "display_data"
    },
    {
     "name": "stdout",
     "output_type": "stream",
     "text": [
      "elapsed time: 1.19433184 seconds\n"
     ]
    },
    {
     "data": {
      "text/plain": [
       "6-element Array{Float64,1}:\n",
       "      9.31323e-10\n",
       "      0.0        \n",
       "     -3.72529e-9 \n",
       "  -4002.98       \n",
       "  12626.2        \n",
       " -18137.5        "
      ]
     },
     "metadata": {},
     "output_type": "display_data"
    },
    {
     "data": {
      "text/plain": [
       "6-element Array{Float64,1}:\n",
       "      9.31323e-10\n",
       "      0.0        \n",
       "     -3.72529e-9 \n",
       "  -4002.98       \n",
       "  12626.2        \n",
       " -18137.5        "
      ]
     },
     "metadata": {},
     "output_type": "display_data"
    },
    {
     "name": "stdout",
     "output_type": "stream",
     "text": [
      "elapsed time: 1.154825751 seconds\n"
     ]
    },
    {
     "data": {
      "text/plain": [
       "6-element Array{Float64,1}:\n",
       " -0.25      \n",
       "  0.5       \n",
       " -0.5       \n",
       "  2.89105e11\n",
       " -1.52763e12\n",
       "  1.8451e12 "
      ]
     },
     "metadata": {},
     "output_type": "display_data"
    },
    {
     "data": {
      "text/plain": [
       "6-element Array{Float64,1}:\n",
       " -0.25      \n",
       "  0.5       \n",
       " -0.5       \n",
       "  2.89105e11\n",
       " -1.52763e12\n",
       "  1.8451e12 "
      ]
     },
     "metadata": {},
     "output_type": "display_data"
    },
    {
     "name": "stdout",
     "output_type": "stream",
     "text": [
      "elapsed time: 0.820785443 seconds\n"
     ]
    },
    {
     "data": {
      "text/plain": [
       "6-element Array{Float64,1}:\n",
       "  3.8147e-6\n",
       "  0.0      \n",
       "  0.0      \n",
       " -4.03684e6\n",
       "  2.31292e7\n",
       " -2.84172e7"
      ]
     },
     "metadata": {},
     "output_type": "display_data"
    },
    {
     "data": {
      "text/plain": [
       "6-element Array{Float64,1}:\n",
       "  3.8147e-6\n",
       "  0.0      \n",
       "  0.0      \n",
       " -4.03684e6\n",
       "  2.31292e7\n",
       " -2.84172e7"
      ]
     },
     "metadata": {},
     "output_type": "display_data"
    },
    {
     "name": "stdout",
     "output_type": "stream",
     "text": [
      "elapsed time: 1.300587298 seconds\n"
     ]
    },
    {
     "data": {
      "text/plain": [
       "6-element Array{Float64,1}:\n",
       "  0.0       \n",
       "  0.0       \n",
       "  0.0       \n",
       "  1.44044e11\n",
       " -7.5663e11 \n",
       "  9.14225e11"
      ]
     },
     "metadata": {},
     "output_type": "display_data"
    },
    {
     "data": {
      "text/plain": [
       "6-element Array{Float64,1}:\n",
       "  0.0       \n",
       "  0.0       \n",
       "  0.0       \n",
       "  1.44044e11\n",
       " -7.5663e11 \n",
       "  9.14225e11"
      ]
     },
     "metadata": {},
     "output_type": "display_data"
    },
    {
     "name": "stdout",
     "output_type": "stream",
     "text": [
      "elapsed time: 0.883429306 seconds\n"
     ]
    },
    {
     "data": {
      "text/plain": [
       "6-element Array{Float64,1}:\n",
       "  2.27374e-13\n",
       "  4.54747e-13\n",
       "  4.54747e-13\n",
       "  0.341752   \n",
       " -1.54591    \n",
       "  3.0652     "
      ]
     },
     "metadata": {},
     "output_type": "display_data"
    },
    {
     "data": {
      "text/plain": [
       "6-element Array{Float64,1}:\n",
       "  2.27374e-13\n",
       "  4.54747e-13\n",
       "  4.54747e-13\n",
       "  0.341752   \n",
       " -1.54591    \n",
       "  3.0652     "
      ]
     },
     "metadata": {},
     "output_type": "display_data"
    },
    {
     "name": "stdout",
     "output_type": "stream",
     "text": [
      "elapsed time: 1.133734511 seconds\n"
     ]
    },
    {
     "data": {
      "text/plain": [
       "6-element Array{Float64,1}:\n",
       "  0.125     \n",
       "  0.0       \n",
       "  0.0       \n",
       "  9.90562e11\n",
       " -3.81591e12\n",
       "  3.87961e12"
      ]
     },
     "metadata": {},
     "output_type": "display_data"
    },
    {
     "data": {
      "text/plain": [
       "6-element Array{Float64,1}:\n",
       "  0.125     \n",
       "  0.0       \n",
       "  0.0       \n",
       "  9.90562e11\n",
       " -3.81591e12\n",
       "  3.87961e12"
      ]
     },
     "metadata": {},
     "output_type": "display_data"
    },
    {
     "name": "stdout",
     "output_type": "stream",
     "text": [
      "elapsed time: 1.192495764 seconds\n"
     ]
    },
    {
     "data": {
      "text/plain": [
       "6-element Array{Float64,1}:\n",
       "      0.0       \n",
       "     -7.45058e-9\n",
       "     -3.72529e-9\n",
       "   4293.81      \n",
       " -18926.6       \n",
       "  29391.9       "
      ]
     },
     "metadata": {},
     "output_type": "display_data"
    },
    {
     "data": {
      "text/plain": [
       "6-element Array{Float64,1}:\n",
       "      0.0       \n",
       "     -7.45058e-9\n",
       "     -3.72529e-9\n",
       "   4293.81      \n",
       " -18926.6       \n",
       "  29391.9       "
      ]
     },
     "metadata": {},
     "output_type": "display_data"
    },
    {
     "name": "stdout",
     "output_type": "stream",
     "text": [
      "elapsed time: 0.815968187 seconds\n"
     ]
    },
    {
     "data": {
      "text/plain": [
       "6-element Array{Float64,1}:\n",
       "  0.0625    \n",
       " -0.25      \n",
       "  0.0       \n",
       "  2.62928e11\n",
       " -1.00678e12\n",
       "  9.87716e11"
      ]
     },
     "metadata": {},
     "output_type": "display_data"
    },
    {
     "data": {
      "text/plain": [
       "6-element Array{Float64,1}:\n",
       "  0.0625    \n",
       " -0.25      \n",
       "  0.0       \n",
       "  2.62928e11\n",
       " -1.00678e12\n",
       "  9.87716e11"
      ]
     },
     "metadata": {},
     "output_type": "display_data"
    },
    {
     "name": "stdout",
     "output_type": "stream",
     "text": [
      "elapsed time: 1.200268744 seconds\n"
     ]
    },
    {
     "data": {
      "text/plain": [
       "6-element Array{Float64,1}:\n",
       "      0.0       \n",
       "      3.72529e-9\n",
       "      0.0       \n",
       "  -2970.3       \n",
       "  13465.7       \n",
       " -19975.5       "
      ]
     },
     "metadata": {},
     "output_type": "display_data"
    },
    {
     "data": {
      "text/plain": [
       "6-element Array{Float64,1}:\n",
       "      0.0       \n",
       "      3.72529e-9\n",
       "      0.0       \n",
       "  -2970.3       \n",
       "  13465.7       \n",
       " -19975.5       "
      ]
     },
     "metadata": {},
     "output_type": "display_data"
    },
    {
     "name": "stdout",
     "output_type": "stream",
     "text": [
      "elapsed time: 1.149042866 seconds\n"
     ]
    },
    {
     "data": {
      "text/plain": [
       "6-element Array{Float64,1}:\n",
       "  0.0       \n",
       " -0.0625    \n",
       " -0.25      \n",
       "  2.09199e11\n",
       " -5.30229e11\n",
       "  2.25125e11"
      ]
     },
     "metadata": {},
     "output_type": "display_data"
    },
    {
     "data": {
      "text/plain": [
       "6-element Array{Float64,1}:\n",
       "  0.0       \n",
       " -0.0625    \n",
       " -0.25      \n",
       "  2.09199e11\n",
       " -5.30229e11\n",
       "  2.25125e11"
      ]
     },
     "metadata": {},
     "output_type": "display_data"
    },
    {
     "name": "stdout",
     "output_type": "stream",
     "text": [
      "elapsed time: 0.821388027 seconds\n"
     ]
    },
    {
     "data": {
      "text/plain": [
       "6-element Array{Float64,1}:\n",
       " -0.015625  \n",
       " -0.0625    \n",
       "  0.0       \n",
       "  2.17505e11\n",
       " -5.5591e11 \n",
       "  2.3836e11 "
      ]
     },
     "metadata": {},
     "output_type": "display_data"
    },
    {
     "data": {
      "text/plain": [
       "6-element Array{Float64,1}:\n",
       " -0.015625  \n",
       " -0.0625    \n",
       "  0.0       \n",
       "  2.17505e11\n",
       " -5.5591e11 \n",
       "  2.3836e11 "
      ]
     },
     "metadata": {},
     "output_type": "display_data"
    },
    {
     "name": "stdout",
     "output_type": "stream",
     "text": [
      "elapsed time: 1.19808697 seconds\n"
     ]
    },
    {
     "data": {
      "text/plain": [
       "6-element Array{Float64,1}:\n",
       "  0.0625    \n",
       " -0.125     \n",
       "  0.0       \n",
       "  2.15766e11\n",
       " -5.58468e11\n",
       "  2.67082e11"
      ]
     },
     "metadata": {},
     "output_type": "display_data"
    },
    {
     "data": {
      "text/plain": [
       "6-element Array{Float64,1}:\n",
       "  0.0625    \n",
       " -0.125     \n",
       "  0.0       \n",
       "  2.15766e11\n",
       " -5.58468e11\n",
       "  2.67082e11"
      ]
     },
     "metadata": {},
     "output_type": "display_data"
    },
    {
     "name": "stdout",
     "output_type": "stream",
     "text": [
      "elapsed time: 1.131480068 seconds\n"
     ]
    },
    {
     "data": {
      "text/plain": [
       "6-element Array{Float64,1}:\n",
       "  0.0       \n",
       "  0.0       \n",
       "  0.0625    \n",
       "  1.09831e11\n",
       " -2.8231e11 \n",
       "  1.31992e11"
      ]
     },
     "metadata": {},
     "output_type": "display_data"
    },
    {
     "data": {
      "text/plain": [
       "6-element Array{Float64,1}:\n",
       "  0.0       \n",
       "  0.0       \n",
       "  0.0625    \n",
       "  1.09831e11\n",
       " -2.8231e11 \n",
       "  1.31992e11"
      ]
     },
     "metadata": {},
     "output_type": "display_data"
    },
    {
     "name": "stdout",
     "output_type": "stream",
     "text": [
      "elapsed time: 0.826117448 seconds\n"
     ]
    },
    {
     "data": {
      "text/plain": [
       "6-element Array{Float64,1}:\n",
       "  0.015625  \n",
       "  0.0       \n",
       "  0.0       \n",
       "  1.11473e11\n",
       " -2.85864e11\n",
       "  1.33758e11"
      ]
     },
     "metadata": {},
     "output_type": "display_data"
    },
    {
     "data": {
      "text/plain": [
       "6-element Array{Float64,1}:\n",
       "  0.015625  \n",
       "  0.0       \n",
       "  0.0       \n",
       "  1.11473e11\n",
       " -2.85864e11\n",
       "  1.33758e11"
      ]
     },
     "metadata": {},
     "output_type": "display_data"
    },
    {
     "name": "stdout",
     "output_type": "stream",
     "text": [
      "elapsed time: 1.273942055 seconds\n"
     ]
    },
    {
     "data": {
      "text/plain": [
       "6-element Array{Float64,1}:\n",
       "  0.0       \n",
       "  0.0       \n",
       " -0.03125   \n",
       "  5.86578e10\n",
       " -1.40736e11\n",
       "  6.0309e10 "
      ]
     },
     "metadata": {},
     "output_type": "display_data"
    },
    {
     "data": {
      "text/plain": [
       "6-element Array{Float64,1}:\n",
       "  0.0       \n",
       "  0.0       \n",
       " -0.03125   \n",
       "  5.86578e10\n",
       " -1.40736e11\n",
       "  6.0309e10 "
      ]
     },
     "metadata": {},
     "output_type": "display_data"
    },
    {
     "name": "stdout",
     "output_type": "stream",
     "text": [
      "elapsed time: 0.839418463 seconds\n"
     ]
    },
    {
     "data": {
      "text/plain": [
       "6-element Array{Float64,1}:\n",
       "  0.0       \n",
       " -0.25      \n",
       " -0.5       \n",
       "  9.46006e11\n",
       " -2.26894e12\n",
       "  9.70825e11"
      ]
     },
     "metadata": {},
     "output_type": "display_data"
    },
    {
     "data": {
      "text/plain": [
       "6-element Array{Float64,1}:\n",
       "  0.0       \n",
       " -0.25      \n",
       " -0.5       \n",
       "  9.46006e11\n",
       " -2.26894e12\n",
       "  9.70825e11"
      ]
     },
     "metadata": {},
     "output_type": "display_data"
    },
    {
     "name": "stdout",
     "output_type": "stream",
     "text": [
      "elapsed time: 1.175028663 seconds\n"
     ]
    },
    {
     "data": {
      "text/plain": [
       "6-element Array{Float64,1}:\n",
       "  0.03125   \n",
       "  0.0       \n",
       "  0.0       \n",
       " -1.29808e11\n",
       "  3.13223e11\n",
       " -2.18798e11"
      ]
     },
     "metadata": {},
     "output_type": "display_data"
    },
    {
     "data": {
      "text/plain": [
       "6-element Array{Float64,1}:\n",
       "  0.03125   \n",
       "  0.0       \n",
       "  0.0       \n",
       " -1.29808e11\n",
       "  3.13223e11\n",
       " -2.18798e11"
      ]
     },
     "metadata": {},
     "output_type": "display_data"
    },
    {
     "name": "stdout",
     "output_type": "stream",
     "text": [
      "elapsed time: 1.156752805 seconds\n"
     ]
    },
    {
     "data": {
      "text/plain": [
       "6-element Array{Float64,1}:\n",
       "  0.0       \n",
       " -0.015625  \n",
       " -0.03125   \n",
       "  1.16653e11\n",
       " -2.80444e11\n",
       "  1.18158e11"
      ]
     },
     "metadata": {},
     "output_type": "display_data"
    },
    {
     "data": {
      "text/plain": [
       "6-element Array{Float64,1}:\n",
       "  0.0       \n",
       " -0.015625  \n",
       " -0.03125   \n",
       "  1.16653e11\n",
       " -2.80444e11\n",
       "  1.18158e11"
      ]
     },
     "metadata": {},
     "output_type": "display_data"
    },
    {
     "name": "stdout",
     "output_type": "stream",
     "text": [
      "elapsed time: 0.79905318 seconds\n"
     ]
    },
    {
     "data": {
      "text/plain": [
       "6-element Array{Float64,1}:\n",
       "  0.0        \n",
       "  0.0        \n",
       " -4.54747e-13\n",
       "  0.483507   \n",
       " -1.30343    \n",
       "  1.35942    "
      ]
     },
     "metadata": {},
     "output_type": "display_data"
    },
    {
     "data": {
      "text/plain": [
       "6-element Array{Float64,1}:\n",
       "  0.0        \n",
       "  0.0        \n",
       " -4.54747e-13\n",
       "  0.483507   \n",
       " -1.30343    \n",
       "  1.35942    "
      ]
     },
     "metadata": {},
     "output_type": "display_data"
    },
    {
     "name": "stdout",
     "output_type": "stream",
     "text": [
      "elapsed time: 1.016291655 seconds\n"
     ]
    },
    {
     "data": {
      "text/plain": [
       "6-element Array{Float64,1}:\n",
       "  0.25      \n",
       "  1.0       \n",
       " -0.5       \n",
       "  2.32022e12\n",
       "  7.08859e11\n",
       "  1.02e12   "
      ]
     },
     "metadata": {},
     "output_type": "display_data"
    },
    {
     "data": {
      "text/plain": [
       "6-element Array{Float64,1}:\n",
       "  0.25      \n",
       "  1.0       \n",
       " -0.5       \n",
       "  2.32022e12\n",
       "  7.08859e11\n",
       "  1.02e12   "
      ]
     },
     "metadata": {},
     "output_type": "display_data"
    },
    {
     "name": "stdout",
     "output_type": "stream",
     "text": [
      "elapsed time: 0.854530817 seconds\n"
     ]
    },
    {
     "data": {
      "text/plain": [
       "6-element Array{Float64,1}:\n",
       "  0.0       \n",
       "  7.62939e-6\n",
       " -6.10352e-5\n",
       " -2.29516e8 \n",
       " -1.92623e8 \n",
       " -3.50179e7 "
      ]
     },
     "metadata": {},
     "output_type": "display_data"
    },
    {
     "data": {
      "text/plain": [
       "6-element Array{Float64,1}:\n",
       "  0.0       \n",
       "  7.62939e-6\n",
       " -6.10352e-5\n",
       " -2.29516e8 \n",
       " -1.92623e8 \n",
       " -3.50179e7 "
      ]
     },
     "metadata": {},
     "output_type": "display_data"
    },
    {
     "name": "stdout",
     "output_type": "stream",
     "text": [
      "elapsed time: 1.248075135 seconds\n"
     ]
    },
    {
     "data": {
      "text/plain": [
       "6-element Array{Float64,1}:\n",
       "  -2.91038e-11\n",
       "   0.0        \n",
       "  -1.16415e-10\n",
       " 372.03       \n",
       " 300.406      \n",
       " -43.5214     "
      ]
     },
     "metadata": {},
     "output_type": "display_data"
    },
    {
     "data": {
      "text/plain": [
       "6-element Array{Float64,1}:\n",
       "  -2.91038e-11\n",
       "   0.0        \n",
       "  -1.16415e-10\n",
       " 372.03       \n",
       " 300.406      \n",
       " -43.5214     "
      ]
     },
     "metadata": {},
     "output_type": "display_data"
    },
    {
     "name": "stdout",
     "output_type": "stream",
     "text": [
      "elapsed time: 0.824649022 seconds\n"
     ]
    },
    {
     "data": {
      "text/plain": [
       "6-element Array{Float64,1}:\n",
       "  0.0       \n",
       "  0.0       \n",
       " -6.10352e-5\n",
       "  1.91039e8 \n",
       "  1.6479e8  \n",
       "  3.73337e7 "
      ]
     },
     "metadata": {},
     "output_type": "display_data"
    },
    {
     "data": {
      "text/plain": [
       "6-element Array{Float64,1}:\n",
       "  0.0       \n",
       "  0.0       \n",
       " -6.10352e-5\n",
       "  1.91039e8 \n",
       "  1.6479e8  \n",
       "  3.73337e7 "
      ]
     },
     "metadata": {},
     "output_type": "display_data"
    },
    {
     "name": "stdout",
     "output_type": "stream",
     "text": [
      "elapsed time: 1.320380943 seconds\n"
     ]
    },
    {
     "data": {
      "text/plain": [
       "6-element Array{Float64,1}:\n",
       "  -2.91038e-11\n",
       "   0.0        \n",
       "  -1.16415e-10\n",
       " 372.03       \n",
       " 300.406      \n",
       " -43.5214     "
      ]
     },
     "metadata": {},
     "output_type": "display_data"
    },
    {
     "data": {
      "text/plain": [
       "6-element Array{Float64,1}:\n",
       "  -2.91038e-11\n",
       "   0.0        \n",
       "  -1.16415e-10\n",
       " 372.03       \n",
       " 300.406      \n",
       " -43.5214     "
      ]
     },
     "metadata": {},
     "output_type": "display_data"
    },
    {
     "name": "stdout",
     "output_type": "stream",
     "text": [
      "elapsed time: 1.187802069 seconds\n"
     ]
    },
    {
     "data": {
      "text/plain": [
       "6-element Array{Float64,1}:\n",
       "    0.0        \n",
       "    2.91038e-11\n",
       "    0.0        \n",
       " -873.927      \n",
       " -596.805      \n",
       " -490.56       "
      ]
     },
     "metadata": {},
     "output_type": "display_data"
    },
    {
     "data": {
      "text/plain": [
       "6-element Array{Float64,1}:\n",
       "    0.0        \n",
       "    2.91038e-11\n",
       "    0.0        \n",
       " -873.927      \n",
       " -596.805      \n",
       " -490.56       "
      ]
     },
     "metadata": {},
     "output_type": "display_data"
    },
    {
     "name": "stdout",
     "output_type": "stream",
     "text": [
      "elapsed time: 0.832432187 seconds\n"
     ]
    },
    {
     "data": {
      "text/plain": [
       "6-element Array{Float64,1}:\n",
       " 0.0        \n",
       " 0.000244141\n",
       " 0.0        \n",
       " 3.92409e9  \n",
       " 3.02575e9  \n",
       " 7.22157e8  "
      ]
     },
     "metadata": {},
     "output_type": "display_data"
    },
    {
     "data": {
      "text/plain": [
       "6-element Array{Float64,1}:\n",
       " 0.0        \n",
       " 0.000244141\n",
       " 0.0        \n",
       " 3.92409e9  \n",
       " 3.02575e9  \n",
       " 7.22157e8  "
      ]
     },
     "metadata": {},
     "output_type": "display_data"
    },
    {
     "name": "stdout",
     "output_type": "stream",
     "text": [
      "elapsed time: 1.311107676 seconds\n"
     ]
    },
    {
     "data": {
      "text/plain": [
       "6-element Array{Float64,1}:\n",
       "   -2.32831e-10\n",
       "    2.32831e-10\n",
       "    1.86265e-9 \n",
       " 3934.96       \n",
       " 3217.98       \n",
       " -294.027      "
      ]
     },
     "metadata": {},
     "output_type": "display_data"
    },
    {
     "data": {
      "text/plain": [
       "6-element Array{Float64,1}:\n",
       "   -2.32831e-10\n",
       "    2.32831e-10\n",
       "    1.86265e-9 \n",
       " 3934.96       \n",
       " 3217.98       \n",
       " -294.027      "
      ]
     },
     "metadata": {},
     "output_type": "display_data"
    },
    {
     "name": "stdout",
     "output_type": "stream",
     "text": [
      "elapsed time: 0.80492595 seconds\n"
     ]
    },
    {
     "data": {
      "text/plain": [
       "6-element Array{Float64,1}:\n",
       "  0.0       \n",
       " -0.00390625\n",
       "  0.015625  \n",
       "  5.11003e10\n",
       "  3.72708e10\n",
       "  1.00843e10"
      ]
     },
     "metadata": {},
     "output_type": "display_data"
    },
    {
     "data": {
      "text/plain": [
       "6-element Array{Float64,1}:\n",
       "  0.0       \n",
       " -0.00390625\n",
       "  0.015625  \n",
       "  5.11003e10\n",
       "  3.72708e10\n",
       "  1.00843e10"
      ]
     },
     "metadata": {},
     "output_type": "display_data"
    },
    {
     "name": "stdout",
     "output_type": "stream",
     "text": [
      "elapsed time: 1.264159892 seconds\n"
     ]
    },
    {
     "data": {
      "text/plain": [
       "6-element Array{Float64,1}:\n",
       " -0.000976563\n",
       " -0.00390625 \n",
       "  0.0        \n",
       "  5.08561e10 \n",
       "  3.67804e10 \n",
       "  9.99633e9  "
      ]
     },
     "metadata": {},
     "output_type": "display_data"
    },
    {
     "data": {
      "text/plain": [
       "6-element Array{Float64,1}:\n",
       " -0.000976563\n",
       " -0.00390625 \n",
       "  0.0        \n",
       "  5.08561e10 \n",
       "  3.67804e10 \n",
       "  9.99633e9  "
      ]
     },
     "metadata": {},
     "output_type": "display_data"
    },
    {
     "name": "stdout",
     "output_type": "stream",
     "text": [
      "elapsed time: 1.169518326 seconds\n"
     ]
    },
    {
     "data": {
      "text/plain": [
       "6-element Array{Float64,1}:\n",
       "  0.0012207 \n",
       "  0.00390625\n",
       " -0.015625  \n",
       "  5.14022e10\n",
       "  3.69213e10\n",
       "  1.00874e10"
      ]
     },
     "metadata": {},
     "output_type": "display_data"
    },
    {
     "data": {
      "text/plain": [
       "6-element Array{Float64,1}:\n",
       "  0.0012207 \n",
       "  0.00390625\n",
       " -0.015625  \n",
       "  5.14022e10\n",
       "  3.69213e10\n",
       "  1.00874e10"
      ]
     },
     "metadata": {},
     "output_type": "display_data"
    },
    {
     "name": "stdout",
     "output_type": "stream",
     "text": [
      "elapsed time: 0.83295028 seconds\n"
     ]
    },
    {
     "data": {
      "text/plain": [
       "6-element Array{Float64,1}:\n",
       " -0.000732422\n",
       "  0.0117188  \n",
       " -0.015625   \n",
       "  5.07306e10 \n",
       "  3.64391e10 \n",
       "  9.95562e9  "
      ]
     },
     "metadata": {},
     "output_type": "display_data"
    },
    {
     "data": {
      "text/plain": [
       "6-element Array{Float64,1}:\n",
       " -0.000732422\n",
       "  0.0117188  \n",
       " -0.015625   \n",
       "  5.07306e10 \n",
       "  3.64391e10 \n",
       "  9.95562e9  "
      ]
     },
     "metadata": {},
     "output_type": "display_data"
    },
    {
     "name": "stdout",
     "output_type": "stream",
     "text": [
      "elapsed time: 1.24060012 seconds\n"
     ]
    },
    {
     "data": {
      "text/plain": [
       "6-element Array{Float64,1}:\n",
       "  0.0012207 \n",
       " -0.0078125 \n",
       "  0.0       \n",
       "  5.10112e10\n",
       "  3.66396e10\n",
       "  1.00102e10"
      ]
     },
     "metadata": {},
     "output_type": "display_data"
    },
    {
     "data": {
      "text/plain": [
       "6-element Array{Float64,1}:\n",
       "  0.0012207 \n",
       " -0.0078125 \n",
       "  0.0       \n",
       "  5.10112e10\n",
       "  3.66396e10\n",
       "  1.00102e10"
      ]
     },
     "metadata": {},
     "output_type": "display_data"
    },
    {
     "name": "stdout",
     "output_type": "stream",
     "text": [
      "elapsed time: 0.836395616 seconds\n"
     ]
    },
    {
     "data": {
      "text/plain": [
       "6-element Array{Float64,1}:\n",
       " -0.000244141\n",
       " -0.00390625 \n",
       "  0.0        \n",
       "  5.09602e10 \n",
       "  3.6602e10  \n",
       "  9.99945e9  "
      ]
     },
     "metadata": {},
     "output_type": "display_data"
    },
    {
     "data": {
      "text/plain": [
       "6-element Array{Float64,1}:\n",
       " -0.000244141\n",
       " -0.00390625 \n",
       "  0.0        \n",
       "  5.09602e10 \n",
       "  3.6602e10  \n",
       "  9.99945e9  "
      ]
     },
     "metadata": {},
     "output_type": "display_data"
    },
    {
     "name": "stdout",
     "output_type": "stream",
     "text": [
      "elapsed time: 1.129307867 seconds\n"
     ]
    },
    {
     "data": {
      "text/plain": [
       "6-element Array{Float64,1}:\n",
       "      9.31323e-10\n",
       "      4.65661e-10\n",
       "      0.0        \n",
       " -23417.3        \n",
       "  51629.7        \n",
       "  48851.3        "
      ]
     },
     "metadata": {},
     "output_type": "display_data"
    },
    {
     "data": {
      "text/plain": [
       "6-element Array{Float64,1}:\n",
       "      9.31323e-10\n",
       "      4.65661e-10\n",
       "      0.0        \n",
       " -23417.3        \n",
       "  51629.7        \n",
       "  48851.3        "
      ]
     },
     "metadata": {},
     "output_type": "display_data"
    },
    {
     "name": "stdout",
     "output_type": "stream",
     "text": [
      "elapsed time: 1.197579267 seconds\n"
     ]
    },
    {
     "data": {
      "text/plain": [
       "6-element Array{Float64,1}:\n",
       "      0.0       \n",
       "     -1.49012e-8\n",
       "     -1.49012e-8\n",
       "  85115.3       \n",
       " -11026.1       \n",
       "  52870.2       "
      ]
     },
     "metadata": {},
     "output_type": "display_data"
    },
    {
     "data": {
      "text/plain": [
       "6-element Array{Float64,1}:\n",
       "      0.0       \n",
       "     -1.49012e-8\n",
       "     -1.49012e-8\n",
       "  85115.3       \n",
       " -11026.1       \n",
       "  52870.2       "
      ]
     },
     "metadata": {},
     "output_type": "display_data"
    },
    {
     "name": "stdout",
     "output_type": "stream",
     "text": [
      "elapsed time: 0.869878168 seconds\n"
     ]
    },
    {
     "data": {
      "text/plain": [
       "6-element Array{Float64,1}:\n",
       " 0.0625    \n",
       " 0.0       \n",
       " 0.0       \n",
       " 8.1059e11 \n",
       " 3.0437e11 \n",
       " 5.57602e10"
      ]
     },
     "metadata": {},
     "output_type": "display_data"
    },
    {
     "data": {
      "text/plain": [
       "6-element Array{Float64,1}:\n",
       " 0.0625    \n",
       " 0.0       \n",
       " 0.0       \n",
       " 8.1059e11 \n",
       " 3.0437e11 \n",
       " 5.57602e10"
      ]
     },
     "metadata": {},
     "output_type": "display_data"
    },
    {
     "name": "stdout",
     "output_type": "stream",
     "text": [
      "elapsed time: 1.305538812 seconds\n"
     ]
    },
    {
     "data": {
      "text/plain": [
       "6-element Array{Float64,1}:\n",
       " -0.0078125 \n",
       " -0.015625  \n",
       "  0.03125   \n",
       " -1.20603e11\n",
       " -4.35009e10\n",
       " -6.88575e9 "
      ]
     },
     "metadata": {},
     "output_type": "display_data"
    },
    {
     "data": {
      "text/plain": [
       "6-element Array{Float64,1}:\n",
       " -0.0078125 \n",
       " -0.015625  \n",
       "  0.03125   \n",
       " -1.20603e11\n",
       " -4.35009e10\n",
       " -6.88575e9 "
      ]
     },
     "metadata": {},
     "output_type": "display_data"
    },
    {
     "name": "stdout",
     "output_type": "stream",
     "text": [
      "elapsed time: 0.874656934 seconds\n"
     ]
    },
    {
     "data": {
      "text/plain": [
       "6-element Array{Float64,1}:\n",
       "      0.0       \n",
       "      0.0       \n",
       "     -1.86265e-9\n",
       "  17516.1       \n",
       " -60320.4       \n",
       "  68420.4       "
      ]
     },
     "metadata": {},
     "output_type": "display_data"
    },
    {
     "data": {
      "text/plain": [
       "6-element Array{Float64,1}:\n",
       "      0.0       \n",
       "      0.0       \n",
       "     -1.86265e-9\n",
       "  17516.1       \n",
       " -60320.4       \n",
       "  68420.4       "
      ]
     },
     "metadata": {},
     "output_type": "display_data"
    },
    {
     "name": "stdout",
     "output_type": "stream",
     "text": [
      "elapsed time: 1.263483405 seconds\n"
     ]
    },
    {
     "data": {
      "text/plain": [
       "6-element Array{Float64,1}:\n",
       "     -1.86265e-9\n",
       "      0.0       \n",
       "     -3.72529e-9\n",
       " -24066.7       \n",
       "  -8543.74      \n",
       "  -1664.48      "
      ]
     },
     "metadata": {},
     "output_type": "display_data"
    },
    {
     "data": {
      "text/plain": [
       "6-element Array{Float64,1}:\n",
       "     -1.86265e-9\n",
       "      0.0       \n",
       "     -3.72529e-9\n",
       " -24066.7       \n",
       "  -8543.74      \n",
       "  -1664.48      "
      ]
     },
     "metadata": {},
     "output_type": "display_data"
    },
    {
     "name": "stdout",
     "output_type": "stream",
     "text": [
      "elapsed time: 1.234847474 seconds\n"
     ]
    },
    {
     "data": {
      "text/plain": [
       "6-element Array{Float64,1}:\n",
       "  0.0       \n",
       "  0.0       \n",
       "  0.0       \n",
       "  8.79514e10\n",
       " -4.34376e10\n",
       " -8.37875e8 "
      ]
     },
     "metadata": {},
     "output_type": "display_data"
    },
    {
     "data": {
      "text/plain": [
       "6-element Array{Float64,1}:\n",
       "  0.0       \n",
       "  0.0       \n",
       "  0.0       \n",
       "  8.79514e10\n",
       " -4.34376e10\n",
       " -8.37875e8 "
      ]
     },
     "metadata": {},
     "output_type": "display_data"
    },
    {
     "name": "stdout",
     "output_type": "stream",
     "text": [
      "elapsed time: 0.825996409 seconds\n"
     ]
    },
    {
     "data": {
      "text/plain": [
       "6-element Array{Float64,1}:\n",
       "    0.0        \n",
       "    2.18279e-11\n",
       "    0.0        \n",
       "  311.94       \n",
       " -176.238      \n",
       "  -76.6331     "
      ]
     },
     "metadata": {},
     "output_type": "display_data"
    },
    {
     "data": {
      "text/plain": [
       "6-element Array{Float64,1}:\n",
       "    0.0        \n",
       "    2.18279e-11\n",
       "    0.0        \n",
       "  311.94       \n",
       " -176.238      \n",
       "  -76.6331     "
      ]
     },
     "metadata": {},
     "output_type": "display_data"
    },
    {
     "name": "stdout",
     "output_type": "stream",
     "text": [
      "elapsed time: 1.293053375 seconds\n"
     ]
    },
    {
     "data": {
      "text/plain": [
       "6-element Array{Float64,1}:\n",
       "  0.0       \n",
       " -0.5       \n",
       "  0.125     \n",
       "  1.43038e12\n",
       "  1.37738e12\n",
       " -1.98148e12"
      ]
     },
     "metadata": {},
     "output_type": "display_data"
    },
    {
     "data": {
      "text/plain": [
       "6-element Array{Float64,1}:\n",
       "  0.0       \n",
       " -0.5       \n",
       "  0.125     \n",
       "  1.43038e12\n",
       "  1.37738e12\n",
       " -1.98148e12"
      ]
     },
     "metadata": {},
     "output_type": "display_data"
    },
    {
     "name": "stdout",
     "output_type": "stream",
     "text": [
      "elapsed time: 0.870496315 seconds\n"
     ]
    },
    {
     "data": {
      "text/plain": [
       "6-element Array{Float64,1}:\n",
       " -1.0       \n",
       "  2.0       \n",
       "  0.125     \n",
       "  2.57275e12\n",
       "  2.49429e12\n",
       " -3.5686e12 "
      ]
     },
     "metadata": {},
     "output_type": "display_data"
    },
    {
     "data": {
      "text/plain": [
       "6-element Array{Float64,1}:\n",
       " -1.0       \n",
       "  2.0       \n",
       "  0.125     \n",
       "  2.57275e12\n",
       "  2.49429e12\n",
       " -3.5686e12 "
      ]
     },
     "metadata": {},
     "output_type": "display_data"
    },
    {
     "name": "stdout",
     "output_type": "stream",
     "text": [
      "elapsed time: 1.175763189 seconds\n"
     ]
    },
    {
     "data": {
      "text/plain": [
       "6-element Array{Float64,1}:\n",
       "  1.0       \n",
       "  1.0       \n",
       "  0.0       \n",
       "  2.86909e12\n",
       "  2.78006e12\n",
       " -3.97964e12"
      ]
     },
     "metadata": {},
     "output_type": "display_data"
    },
    {
     "data": {
      "text/plain": [
       "6-element Array{Float64,1}:\n",
       "  1.0       \n",
       "  1.0       \n",
       "  0.0       \n",
       "  2.86909e12\n",
       "  2.78006e12\n",
       " -3.97964e12"
      ]
     },
     "metadata": {},
     "output_type": "display_data"
    },
    {
     "name": "stdout",
     "output_type": "stream",
     "text": [
      "elapsed time: 1.241468717 seconds\n"
     ]
    },
    {
     "data": {
      "text/plain": [
       "6-element Array{Float64,1}:\n",
       "  0.0        \n",
       " -0.00195313 \n",
       "  0.000244141\n",
       "  4.26329e9  \n",
       "  4.12449e9  \n",
       " -5.91398e9  "
      ]
     },
     "metadata": {},
     "output_type": "display_data"
    },
    {
     "data": {
      "text/plain": [
       "6-element Array{Float64,1}:\n",
       "  0.0        \n",
       " -0.00195313 \n",
       "  0.000244141\n",
       "  4.26329e9  \n",
       "  4.12449e9  \n",
       " -5.91398e9  "
      ]
     },
     "metadata": {},
     "output_type": "display_data"
    },
    {
     "name": "stdout",
     "output_type": "stream",
     "text": [
      "elapsed time: 0.838176659 seconds\n"
     ]
    },
    {
     "data": {
      "text/plain": [
       "6-element Array{Float64,1}:\n",
       "  0.0       \n",
       " -1.0       \n",
       "  0.25      \n",
       "  2.53379e12\n",
       "  2.45822e12\n",
       " -3.52549e12"
      ]
     },
     "metadata": {},
     "output_type": "display_data"
    },
    {
     "data": {
      "text/plain": [
       "6-element Array{Float64,1}:\n",
       "  0.0       \n",
       " -1.0       \n",
       "  0.25      \n",
       "  2.53379e12\n",
       "  2.45822e12\n",
       " -3.52549e12"
      ]
     },
     "metadata": {},
     "output_type": "display_data"
    },
    {
     "name": "stdout",
     "output_type": "stream",
     "text": [
      "elapsed time: 0.990467772 seconds\n"
     ]
    },
    {
     "data": {
      "text/plain": [
       "6-element Array{Float64,1}:\n",
       " -1.0       \n",
       " -1.0       \n",
       "  0.25      \n",
       "  2.85556e12\n",
       "  2.78271e12\n",
       " -3.98051e12"
      ]
     },
     "metadata": {},
     "output_type": "display_data"
    },
    {
     "data": {
      "text/plain": [
       "6-element Array{Float64,1}:\n",
       " -1.0       \n",
       " -1.0       \n",
       "  0.25      \n",
       "  2.85556e12\n",
       "  2.78271e12\n",
       " -3.98051e12"
      ]
     },
     "metadata": {},
     "output_type": "display_data"
    },
    {
     "name": "stdout",
     "output_type": "stream",
     "text": [
      "elapsed time: 1.220775434 seconds\n"
     ]
    },
    {
     "data": {
      "text/plain": [
       "6-element Array{Float64,1}:\n",
       "  0.5       \n",
       " -0.5       \n",
       "  0.0       \n",
       "  1.54682e12\n",
       "  1.60467e12\n",
       " -2.29539e12"
      ]
     },
     "metadata": {},
     "output_type": "display_data"
    },
    {
     "data": {
      "text/plain": [
       "6-element Array{Float64,1}:\n",
       "  0.5       \n",
       " -0.5       \n",
       "  0.0       \n",
       "  1.54682e12\n",
       "  1.60467e12\n",
       " -2.29539e12"
      ]
     },
     "metadata": {},
     "output_type": "display_data"
    },
    {
     "name": "stdout",
     "output_type": "stream",
     "text": [
      "elapsed time: 0.802264662 seconds\n"
     ]
    },
    {
     "data": {
      "text/plain": [
       "6-element Array{Float64,1}:\n",
       "  0.0       \n",
       "  0.0       \n",
       " -0.25      \n",
       "  4.80949e11\n",
       "  1.6909e12 \n",
       " -2.23495e12"
      ]
     },
     "metadata": {},
     "output_type": "display_data"
    },
    {
     "name": "stdout",
     "output_type": "stream",
     "text": [
      "elapsed time: 1.248181369 seconds\n"
     ]
    },
    {
     "ename": "LoadError",
     "evalue": "\u001b[91mInterruptException:\u001b[39m",
     "output_type": "error",
     "traceback": [
      "\u001b[91mInterruptException:\u001b[39m",
      "",
      "Stacktrace:",
      " [1] \u001b[1msvd\u001b[22m\u001b[22m\u001b[1m(\u001b[22m\u001b[22m::Array{ForwardDiff.Dual{ForwardDiff.Tag{BilevelTrajOpt.##209#219{BilevelTrajOpt.#eval_g#210{BilevelTrajOpt.SimData,Array{Float64,1},Array{Float64,1},Array{Float64,1},Array{Float64,1},Array{Float64,1},Array{Float64,1},Symmetric{Float64,Array{Float64,2}}}},Float64},Float64,10},2}\u001b[1m)\u001b[22m\u001b[22m at \u001b[1m/home/blandry/.julia/v0.6/BilevelTrajOpt/src/svd.jl:53\u001b[22m\u001b[22m",
      " [2] \u001b[1m#auglag_solve#191\u001b[22m\u001b[22m\u001b[1m(\u001b[22m\u001b[22m::Float64, ::Function, ::Array{Float64,1}, ::Array{Float64,1}, ::Array{Float64,1}, ::BilevelTrajOpt.##141#145, ::BilevelTrajOpt.##142#146{BilevelTrajOpt.SimData,Array{ForwardDiff.Dual{ForwardDiff.Tag{BilevelTrajOpt.##209#219{BilevelTrajOpt.#eval_g#210{BilevelTrajOpt.SimData,Array{Float64,1},Array{Float64,1},Array{Float64,1},Array{Float64,1},Array{Float64,1},Array{Float64,1},Symmetric{Float64,Array{Float64,2}}}},Float64},Float64,10},1},Array{ForwardDiff.Dual{ForwardDiff.Tag{BilevelTrajOpt.##209#219{BilevelTrajOpt.#eval_g#210{BilevelTrajOpt.SimData,Array{Float64,1},Array{Float64,1},Array{Float64,1},Array{Float64,1},Array{Float64,1},Array{Float64,1},Symmetric{Float64,Array{Float64,2}}}},Float64},Float64,10},2},Array{Tuple{RigidBodyDynamics.Spatial.Transform3D{ForwardDiff.Dual{ForwardDiff.Tag{BilevelTrajOpt.##209#219{BilevelTrajOpt.#eval_g#210{BilevelTrajOpt.SimData,Array{Float64,1},Array{Float64,1},Array{Float64,1},Array{Float64,1},Array{Float64,1},Array{Float64,1},Symmetric{Float64,Array{Float64,2}}}},Float64},Float64,10}},RigidBodyDynamics.Spatial.Transform3D{ForwardDiff.Dual{ForwardDiff.Tag{BilevelTrajOpt.##209#219{BilevelTrajOpt.#eval_g#210{BilevelTrajOpt.SimData,Array{Float64,1},Array{Float64,1},Array{Float64,1},Array{Float64,1},Array{Float64,1},Array{Float64,1},Symmetric{Float64,Array{Float64,2}}}},Float64},Float64,10}}},1},Array{RigidBodyDynamics.Spatial.GeometricJacobian{Array{ForwardDiff.Dual{ForwardDiff.Tag{BilevelTrajOpt.##209#219{BilevelTrajOpt.#eval_g#210{BilevelTrajOpt.SimData,Array{Float64,1},Array{Float64,1},Array{Float64,1},Array{Float64,1},Array{Float64,1},Array{Float64,1},Symmetric{Float64,Array{Float64,2}}}},Float64},Float64,10},2}},1},Array{ForwardDiff.Dual{ForwardDiff.Tag{BilevelTrajOpt.##209#219{BilevelTrajOpt.#eval_g#210{BilevelTrajOpt.SimData,Array{Float64,1},Array{Float64,1},Array{Float64,1},Array{Float64,1},Array{Float64,1},Array{Float64,1},Symmetric{Float64,Array{Float64,2}}}},Float64},Float64,10},1},Array{ForwardDiff.Dual{ForwardDiff.Tag{BilevelTrajOpt.##209#219{BilevelTrajOpt.#eval_g#210{BilevelTrajOpt.SimData,Array{Float64,1},Array{Float64,1},Array{Float64,1},Array{Float64,1},Array{Float64,1},Array{Float64,1},Symmetric{Float64,Array{Float64,2}}}},Float64},Float64,10},1}}, ::BilevelTrajOpt.##143#147{BilevelTrajOpt.SimData,Array{ForwardDiff.Dual{ForwardDiff.Tag{BilevelTrajOpt.##209#219{BilevelTrajOpt.#eval_g#210{BilevelTrajOpt.SimData,Array{Float64,1},Array{Float64,1},Array{Float64,1},Array{Float64,1},Array{Float64,1},Array{Float64,1},Symmetric{Float64,Array{Float64,2}}}},Float64},Float64,10},2},Array{Float64,1},Array{Float64,1}}\u001b[1m)\u001b[22m\u001b[22m at \u001b[1m/home/blandry/.julia/v0.6/BilevelTrajOpt/src/auglag.jl:64\u001b[22m\u001b[22m",
      " [3] \u001b[1m#solve_implicit_contact_τ#139\u001b[22m\u001b[22m\u001b[1m(\u001b[22m\u001b[22m::Bool, ::Function, ::BilevelTrajOpt.SimData, ::Array{ForwardDiff.Dual{ForwardDiff.Tag{BilevelTrajOpt.##209#219{BilevelTrajOpt.#eval_g#210{BilevelTrajOpt.SimData,Array{Float64,1},Array{Float64,1},Array{Float64,1},Array{Float64,1},Array{Float64,1},Array{Float64,1},Symmetric{Float64,Array{Float64,2}}}},Float64},Float64,10},1}, ::Array{ForwardDiff.Dual{ForwardDiff.Tag{BilevelTrajOpt.##209#219{BilevelTrajOpt.#eval_g#210{BilevelTrajOpt.SimData,Array{Float64,1},Array{Float64,1},Array{Float64,1},Array{Float64,1},Array{Float64,1},Array{Float64,1},Symmetric{Float64,Array{Float64,2}}}},Float64},Float64,10},2}, ::Array{Tuple{RigidBodyDynamics.Spatial.Transform3D{ForwardDiff.Dual{ForwardDiff.Tag{BilevelTrajOpt.##209#219{BilevelTrajOpt.#eval_g#210{BilevelTrajOpt.SimData,Array{Float64,1},Array{Float64,1},Array{Float64,1},Array{Float64,1},Array{Float64,1},Array{Float64,1},Symmetric{Float64,Array{Float64,2}}}},Float64},Float64,10}},RigidBodyDynamics.Spatial.Transform3D{ForwardDiff.Dual{ForwardDiff.Tag{BilevelTrajOpt.##209#219{BilevelTrajOpt.#eval_g#210{BilevelTrajOpt.SimData,Array{Float64,1},Array{Float64,1},Array{Float64,1},Array{Float64,1},Array{Float64,1},Array{Float64,1},Symmetric{Float64,Array{Float64,2}}}},Float64},Float64,10}}},1}, ::Array{RigidBodyDynamics.Spatial.GeometricJacobian{Array{ForwardDiff.Dual{ForwardDiff.Tag{BilevelTrajOpt.##209#219{BilevelTrajOpt.#eval_g#210{BilevelTrajOpt.SimData,Array{Float64,1},Array{Float64,1},Array{Float64,1},Array{Float64,1},Array{Float64,1},Array{Float64,1},Symmetric{Float64,Array{Float64,2}}}},Float64},Float64,10},2}},1}, ::Array{ForwardDiff.Dual{ForwardDiff.Tag{BilevelTrajOpt.##209#219{BilevelTrajOpt.#eval_g#210{BilevelTrajOpt.SimData,Array{Float64,1},Array{Float64,1},Array{Float64,1},Array{Float64,1},Array{Float64,1},Array{Float64,1},Symmetric{Float64,Array{Float64,2}}}},Float64},Float64,10},1}, ::Array{ForwardDiff.Dual{ForwardDiff.Tag{BilevelTrajOpt.##209#219{BilevelTrajOpt.#eval_g#210{BilevelTrajOpt.SimData,Array{Float64,1},Array{Float64,1},Array{Float64,1},Array{Float64,1},Array{Float64,1},Array{Float64,1},Symmetric{Float64,Array{Float64,2}}}},Float64},Float64,10},1}, ::Array{Float64,1}, ::Array{Float64,1}, ::Array{Float64,1}\u001b[1m)\u001b[22m\u001b[22m at \u001b[1m/home/blandry/.julia/v0.6/BilevelTrajOpt/src/contact.jl:168\u001b[22m\u001b[22m",
      " [4] \u001b[1m(::BilevelTrajOpt.#eval_g#210{BilevelTrajOpt.SimData,Array{Float64,1},Array{Float64,1},Array{Float64,1},Array{Float64,1},Array{Float64,1},Array{Float64,1},Symmetric{Float64,Array{Float64,2}}})\u001b[22m\u001b[22m\u001b[1m(\u001b[22m\u001b[22m::Array{ForwardDiff.Dual{ForwardDiff.Tag{BilevelTrajOpt.##209#219{BilevelTrajOpt.#eval_g#210{BilevelTrajOpt.SimData,Array{Float64,1},Array{Float64,1},Array{Float64,1},Array{Float64,1},Array{Float64,1},Array{Float64,1},Symmetric{Float64,Array{Float64,2}}}},Float64},Float64,10},1}, ::Array{ForwardDiff.Dual{ForwardDiff.Tag{BilevelTrajOpt.##209#219{BilevelTrajOpt.#eval_g#210{BilevelTrajOpt.SimData,Array{Float64,1},Array{Float64,1},Array{Float64,1},Array{Float64,1},Array{Float64,1},Array{Float64,1},Symmetric{Float64,Array{Float64,2}}}},Float64},Float64,10},1}\u001b[1m)\u001b[22m\u001b[22m at \u001b[1m/home/blandry/.julia/v0.6/BilevelTrajOpt/src/simulation.jl:137\u001b[22m\u001b[22m",
      " [5] \u001b[1mchunk_mode_jacobian\u001b[22m\u001b[22m\u001b[1m(\u001b[22m\u001b[22m::BilevelTrajOpt.##209#219{BilevelTrajOpt.#eval_g#210{BilevelTrajOpt.SimData,Array{Float64,1},Array{Float64,1},Array{Float64,1},Array{Float64,1},Array{Float64,1},Array{Float64,1},Symmetric{Float64,Array{Float64,2}}}}, ::Array{Float64,1}, ::Array{Float64,1}, ::ForwardDiff.JacobianConfig{ForwardDiff.Tag{BilevelTrajOpt.##209#219{BilevelTrajOpt.#eval_g#210{BilevelTrajOpt.SimData,Array{Float64,1},Array{Float64,1},Array{Float64,1},Array{Float64,1},Array{Float64,1},Array{Float64,1},Symmetric{Float64,Array{Float64,2}}}},Float64},Float64,10,Tuple{Array{ForwardDiff.Dual{ForwardDiff.Tag{BilevelTrajOpt.##209#219{BilevelTrajOpt.#eval_g#210{BilevelTrajOpt.SimData,Array{Float64,1},Array{Float64,1},Array{Float64,1},Array{Float64,1},Array{Float64,1},Array{Float64,1},Symmetric{Float64,Array{Float64,2}}}},Float64},Float64,10},1},Array{ForwardDiff.Dual{ForwardDiff.Tag{BilevelTrajOpt.##209#219{BilevelTrajOpt.#eval_g#210{BilevelTrajOpt.SimData,Array{Float64,1},Array{Float64,1},Array{Float64,1},Array{Float64,1},Array{Float64,1},Array{Float64,1},Symmetric{Float64,Array{Float64,2}}}},Float64},Float64,10},1}}}\u001b[1m)\u001b[22m\u001b[22m at \u001b[1m/home/blandry/.julia/v0.6/ForwardDiff/src/jacobian.jl:229\u001b[22m\u001b[22m",
      " [6] \u001b[1mjacobian\u001b[22m\u001b[22m\u001b[1m(\u001b[22m\u001b[22m::Function, ::Array{Float64,1}, ::Array{Float64,1}, ::ForwardDiff.JacobianConfig{ForwardDiff.Tag{BilevelTrajOpt.##209#219{BilevelTrajOpt.#eval_g#210{BilevelTrajOpt.SimData,Array{Float64,1},Array{Float64,1},Array{Float64,1},Array{Float64,1},Array{Float64,1},Array{Float64,1},Symmetric{Float64,Array{Float64,2}}}},Float64},Float64,10,Tuple{Array{ForwardDiff.Dual{ForwardDiff.Tag{BilevelTrajOpt.##209#219{BilevelTrajOpt.#eval_g#210{BilevelTrajOpt.SimData,Array{Float64,1},Array{Float64,1},Array{Float64,1},Array{Float64,1},Array{Float64,1},Array{Float64,1},Symmetric{Float64,Array{Float64,2}}}},Float64},Float64,10},1},Array{ForwardDiff.Dual{ForwardDiff.Tag{BilevelTrajOpt.##209#219{BilevelTrajOpt.#eval_g#210{BilevelTrajOpt.SimData,Array{Float64,1},Array{Float64,1},Array{Float64,1},Array{Float64,1},Array{Float64,1},Array{Float64,1},Symmetric{Float64,Array{Float64,2}}}},Float64},Float64,10},1}}}, ::Val{true}\u001b[1m)\u001b[22m\u001b[22m at \u001b[1m/home/blandry/.julia/v0.6/ForwardDiff/src/jacobian.jl:36\u001b[22m\u001b[22m",
      " [7] \u001b[1mjacobian\u001b[22m\u001b[22m\u001b[1m(\u001b[22m\u001b[22m::Function, ::Array{Float64,1}, ::Array{Float64,1}, ::ForwardDiff.JacobianConfig{ForwardDiff.Tag{BilevelTrajOpt.##209#219{BilevelTrajOpt.#eval_g#210{BilevelTrajOpt.SimData,Array{Float64,1},Array{Float64,1},Array{Float64,1},Array{Float64,1},Array{Float64,1},Array{Float64,1},Symmetric{Float64,Array{Float64,2}}}},Float64},Float64,10,Tuple{Array{ForwardDiff.Dual{ForwardDiff.Tag{BilevelTrajOpt.##209#219{BilevelTrajOpt.#eval_g#210{BilevelTrajOpt.SimData,Array{Float64,1},Array{Float64,1},Array{Float64,1},Array{Float64,1},Array{Float64,1},Array{Float64,1},Symmetric{Float64,Array{Float64,2}}}},Float64},Float64,10},1},Array{ForwardDiff.Dual{ForwardDiff.Tag{BilevelTrajOpt.##209#219{BilevelTrajOpt.#eval_g#210{BilevelTrajOpt.SimData,Array{Float64,1},Array{Float64,1},Array{Float64,1},Array{Float64,1},Array{Float64,1},Array{Float64,1},Symmetric{Float64,Array{Float64,2}}}},Float64},Float64,10},1}}}\u001b[1m)\u001b[22m\u001b[22m at \u001b[1m/home/blandry/.julia/v0.6/ForwardDiff/src/jacobian.jl:32\u001b[22m\u001b[22m (repeats 2 times)",
      " [8] \u001b[1m(::BilevelTrajOpt.#eval_jac_g#218{BilevelTrajOpt.SimData,BilevelTrajOpt.#eval_g#210{BilevelTrajOpt.SimData,Array{Float64,1},Array{Float64,1},Array{Float64,1},Array{Float64,1},Array{Float64,1},Array{Float64,1},Symmetric{Float64,Array{Float64,2}}}})\u001b[22m\u001b[22m\u001b[1m(\u001b[22m\u001b[22m::Array{Float64,1}, ::Symbol, ::Array{Int32,1}, ::Array{Int32,1}, ::Array{Float64,1}\u001b[1m)\u001b[22m\u001b[22m at \u001b[1m/home/blandry/.julia/v0.6/BilevelTrajOpt/src/simulation.jl:167\u001b[22m\u001b[22m",
      " [9] \u001b[1meval_jac_g_wrapper\u001b[22m\u001b[22m\u001b[1m(\u001b[22m\u001b[22m::Int32, ::Ptr{Float64}, ::Int32, ::Int32, ::Int32, ::Ptr{Int32}, ::Ptr{Int32}, ::Ptr{Float64}, ::Ptr{Void}\u001b[1m)\u001b[22m\u001b[22m at \u001b[1m/home/blandry/.julia/v0.6/Ipopt/src/Ipopt.jl:142\u001b[22m\u001b[22m",
      " [10] \u001b[1msolveProblem\u001b[22m\u001b[22m\u001b[1m(\u001b[22m\u001b[22m::Ipopt.IpoptProblem\u001b[1m)\u001b[22m\u001b[22m at \u001b[1m/home/blandry/.julia/v0.6/Ipopt/src/Ipopt.jl:318\u001b[22m\u001b[22m",
      " [11] \u001b[1m#simulate#186\u001b[22m\u001b[22m\u001b[1m(\u001b[22m\u001b[22m::Bool, ::Function, ::RigidBodyDynamics.MechanismState{Float64,Float64,Float64,TypeSortedCollections.TypeSortedCollection{Tuple{Array{RigidBodyDynamics.Joint{Float64,RigidBodyDynamics.Fixed{Float64}},1},Array{RigidBodyDynamics.Joint{Float64,RigidBodyDynamics.QuaternionFloating{Float64}},1}},2}}, ::BilevelTrajOpt.Environment, ::Float64, ::Int64, ::##39#40\u001b[1m)\u001b[22m\u001b[22m at \u001b[1m/home/blandry/.julia/v0.6/BilevelTrajOpt/src/simulation.jl:307\u001b[22m\u001b[22m",
      " [12] \u001b[1m(::BilevelTrajOpt.#kw##simulate)\u001b[22m\u001b[22m\u001b[1m(\u001b[22m\u001b[22m::Array{Any,1}, ::BilevelTrajOpt.#simulate, ::RigidBodyDynamics.MechanismState{Float64,Float64,Float64,TypeSortedCollections.TypeSortedCollection{Tuple{Array{RigidBodyDynamics.Joint{Float64,RigidBodyDynamics.Fixed{Float64}},1},Array{RigidBodyDynamics.Joint{Float64,RigidBodyDynamics.QuaternionFloating{Float64}},1}},2}}, ::BilevelTrajOpt.Environment, ::Float64, ::Int64, ::Function\u001b[1m)\u001b[22m\u001b[22m at \u001b[1m./<missing>:0\u001b[22m\u001b[22m",
      " [13] \u001b[1minclude_string\u001b[22m\u001b[22m\u001b[1m(\u001b[22m\u001b[22m::String, ::String\u001b[1m)\u001b[22m\u001b[22m at \u001b[1m./loading.jl:522\u001b[22m\u001b[22m",
      " [14] \u001b[1mexecute_request\u001b[22m\u001b[22m\u001b[1m(\u001b[22m\u001b[22m::ZMQ.Socket, ::IJulia.Msg\u001b[1m)\u001b[22m\u001b[22m at \u001b[1m/home/blandry/.julia/v0.6/IJulia/src/execute_request.jl:193\u001b[22m\u001b[22m",
      " [15] \u001b[1m(::Compat.#inner#14{Array{Any,1},IJulia.#execute_request,Tuple{ZMQ.Socket,IJulia.Msg}})\u001b[22m\u001b[22m\u001b[1m(\u001b[22m\u001b[22m\u001b[1m)\u001b[22m\u001b[22m at \u001b[1m/home/blandry/.julia/v0.6/Compat/src/Compat.jl:332\u001b[22m\u001b[22m",
      " [16] \u001b[1meventloop\u001b[22m\u001b[22m\u001b[1m(\u001b[22m\u001b[22m::ZMQ.Socket\u001b[1m)\u001b[22m\u001b[22m at \u001b[1m/home/blandry/.julia/v0.6/IJulia/src/eventloop.jl:8\u001b[22m\u001b[22m",
      " [17] \u001b[1m(::IJulia.##13#16)\u001b[22m\u001b[22m\u001b[1m(\u001b[22m\u001b[22m\u001b[1m)\u001b[22m\u001b[22m at \u001b[1m./task.jl:335\u001b[22m\u001b[22m"
     ]
    }
   ],
   "source": [
    "println(\"Implicit Contacts\")\n",
    "traj_imp = BilevelTrajOpt.simulate(x0,env,Δt,N,ctrl!,implicit_contact=true);"
   ]
  },
  {
   "cell_type": "code",
   "execution_count": 35,
   "metadata": {},
   "outputs": [
    {
     "name": "stdout",
     "output_type": "stream",
     "text": [
      "Explicit Contacts\n",
      "elapsed time: 0.004804581 seconds\n",
      "elapsed time: 0.005540747 seconds\n",
      "elapsed time: 0.005288238 seconds\n",
      "elapsed time: 0.004937061 seconds\n",
      "elapsed time: 0.004764656 seconds\n",
      "elapsed time: 0.004677991 seconds\n",
      "elapsed time: 0.004439008 seconds\n",
      "elapsed time: 0.004351963 seconds\n",
      "elapsed time: 0.004566529 seconds\n",
      "elapsed time: 0.005125158 seconds\n",
      "elapsed time: 0.00458278 seconds\n",
      "elapsed time: 0.004618156 seconds\n",
      "elapsed time: 0.004633707 seconds\n",
      "elapsed time: 0.004607698 seconds\n",
      "elapsed time: 0.005501973 seconds\n",
      "elapsed time: 0.005551217 seconds\n",
      "elapsed time: 0.005082147 seconds\n",
      "elapsed time: 0.004599782 seconds\n",
      "elapsed time: 0.004452533 seconds\n",
      "elapsed time: 0.004362833 seconds\n",
      "elapsed time: 0.004372761 seconds\n",
      "elapsed time: 0.004575196 seconds\n",
      "elapsed time: 0.004518889 seconds\n",
      "elapsed time: 0.004335661 seconds\n",
      "elapsed time: 0.004361351 seconds\n",
      "elapsed time: 0.005540807 seconds\n",
      "elapsed time: 0.005313987 seconds\n",
      "elapsed time: 0.004958493 seconds\n",
      "elapsed time: 0.004850016 seconds\n",
      "Solve_Succeeded\n",
      "elapsed time: 0.004783791 seconds\n",
      "elapsed time: 0.004572551 seconds\n",
      "elapsed time: 0.004598219 seconds\n",
      "elapsed time: 0.004501807 seconds\n",
      "elapsed time: 0.004462643 seconds\n",
      "elapsed time: 0.004320864 seconds\n",
      "elapsed time: 0.004353476 seconds\n",
      "elapsed time: 0.004343406 seconds\n",
      "elapsed time: 0.004355188 seconds\n",
      "elapsed time: 0.006877923 seconds\n",
      "Solve_Succeeded\n",
      "elapsed time: 0.005255446 seconds\n",
      "elapsed time: 0.004566981 seconds\n",
      "elapsed time: 0.004729679 seconds\n",
      "elapsed time: 0.004380898 seconds\n",
      "elapsed time: 0.004670126 seconds\n",
      "elapsed time: 0.004440621 seconds\n",
      "elapsed time: 0.004634569 seconds\n",
      "elapsed time: 0.00431893 seconds\n",
      "elapsed time: 0.004304422 seconds\n",
      "elapsed time: 0.004338938 seconds\n",
      "Solve_Succeeded\n",
      "elapsed time: 0.004632034 seconds\n",
      "elapsed time: 0.004254597 seconds\n",
      "elapsed time: 0.006461073 seconds\n",
      "elapsed time: 0.004945328 seconds\n",
      "elapsed time: 0.004914479 seconds\n",
      "elapsed time: 0.004873211 seconds\n",
      "elapsed time: 0.004600803 seconds\n",
      "elapsed time: 0.004537865 seconds\n",
      "elapsed time: 0.004523207 seconds\n",
      "elapsed time: 0.004603349 seconds\n",
      "Solve_Succeeded\n",
      "elapsed time: 0.004638707 seconds\n",
      "elapsed time: 0.004669014 seconds\n",
      "elapsed time: 0.004527876 seconds\n",
      "elapsed time: 0.004528126 seconds\n",
      "elapsed time: 0.004343267 seconds\n",
      "elapsed time: 0.005385432 seconds\n",
      "elapsed time: 0.00547892 seconds\n",
      "elapsed time: 0.004932052 seconds\n",
      "elapsed time: 0.005180193 seconds\n",
      "elapsed time: 0.004691998 seconds\n",
      "Solve_Succeeded\n",
      "elapsed time: 0.004680194 seconds\n",
      "elapsed time: 0.004444478 seconds\n",
      "elapsed time: 0.00455618 seconds\n",
      "elapsed time: 0.004573142 seconds\n",
      "elapsed time: 0.004465348 seconds\n",
      "elapsed time: 0.004273434 seconds\n",
      "elapsed time: 0.00428188 seconds\n",
      "elapsed time: 0.004465268 seconds\n",
      "elapsed time: 0.00533162 seconds\n",
      "elapsed time: 0.005717402 seconds\n",
      "elapsed time: 0.005250928 seconds\n",
      "elapsed time: 0.004883019 seconds\n",
      "elapsed time: 0.004712266 seconds\n",
      "elapsed time: 0.004753584 seconds\n",
      "elapsed time: 0.004480126 seconds\n",
      "elapsed time: 0.00432937 seconds\n",
      "elapsed time: 0.004582669 seconds\n",
      "elapsed time: 0.004637654 seconds\n",
      "Solve_Succeeded\n",
      "elapsed time: 0.004727735 seconds\n",
      "elapsed time: 0.004527085 seconds\n",
      "elapsed time: 0.004602908 seconds\n",
      "elapsed time: 0.005376536 seconds\n",
      "elapsed time: 0.006039292 seconds\n",
      "elapsed time: 0.005220189 seconds\n",
      "elapsed time: 0.004827133 seconds\n",
      "elapsed time: 0.004681828 seconds\n",
      "elapsed time: 0.004604302 seconds\n",
      "elapsed time: 0.004516794 seconds\n",
      "elapsed time: 0.004550739 seconds\n",
      "elapsed time: 0.004366861 seconds\n",
      "elapsed time: 0.004339699 seconds\n",
      "Solve_Succeeded\n",
      "elapsed time: 0.00459314 seconds\n",
      "elapsed time: 0.004319661 seconds\n",
      "elapsed time: 0.005019608 seconds\n",
      "elapsed time: 0.005397185 seconds\n",
      "elapsed time: 0.008114457 seconds\n",
      "elapsed time: 0.006427047 seconds\n",
      "elapsed time: 0.005539504 seconds\n",
      "elapsed time: 0.00563232 seconds\n",
      "elapsed time: 0.005111853 seconds\n",
      "elapsed time: 0.005552049 seconds\n",
      "elapsed time: 0.005021913 seconds\n",
      "elapsed time: 0.005786363 seconds\n",
      "elapsed time: 0.005373049 seconds\n",
      "elapsed time: 0.00547353 seconds\n",
      "elapsed time: 0.005607684 seconds\n",
      "Restoration_Failed\n",
      "elapsed time: 0.006619432 seconds\n",
      "elapsed time: 0.004917254 seconds\n",
      "elapsed time: 0.004935409 seconds\n",
      "elapsed time: 0.005011524 seconds\n",
      "elapsed time: 0.004667291 seconds\n",
      "elapsed time: 0.005067119 seconds\n",
      "elapsed time: 0.005068792 seconds\n",
      "elapsed time: 0.005155937 seconds\n",
      "elapsed time: 0.00509378 seconds\n",
      "elapsed time: 0.005020079 seconds\n",
      "elapsed time: 0.005043173 seconds\n",
      "elapsed time: 0.005365935 seconds\n",
      "elapsed time: 0.005988035 seconds\n",
      "elapsed time: 0.005233775 seconds\n",
      "elapsed time: 0.00509422 seconds\n",
      "Restoration_Failed\n",
      "elapsed time: 0.005225239 seconds\n",
      "elapsed time: 0.004957421 seconds\n",
      "elapsed time: 0.005040578 seconds\n",
      "elapsed time: 0.005079121 seconds\n",
      "elapsed time: 0.005012234 seconds\n",
      "elapsed time: 0.004942012 seconds\n",
      "elapsed time: 0.005034807 seconds\n",
      "elapsed time: 0.005308757 seconds\n",
      "elapsed time: 0.00644928 seconds\n",
      "elapsed time: 0.005171937 seconds\n",
      "elapsed time: 0.00507348 seconds\n",
      "elapsed time: 0.004877579 seconds\n",
      "elapsed time: 0.004800894 seconds\n",
      "Solve_Succeeded\n"
     ]
    }
   ],
   "source": [
    "println(\"Explicit Contacts\")\n",
    "traj_exp = BilevelTrajOpt.simulate(x0,env,Δt,N,ctrl!,implicit_contact=false);"
   ]
  },
  {
   "cell_type": "code",
   "execution_count": 36,
   "metadata": {},
   "outputs": [
    {
     "data": {
      "image/png": "[encoded data removed]"
     },
     "execution_count": 36,
     "metadata": {},
     "output_type": "execute_result"
    }
   ],
   "source": [
    "ts = cumsum([Δt for i in 1:N]);\n",
    "j = 7\n",
    "plot(traj_exp[j,:],label=\"explicit\")\n",
    "plot!(traj_imp[j,:],label=\"implicit\")"
   ]
  },
  {
   "cell_type": "code",
   "execution_count": null,
   "metadata": {},
   "outputs": [],
   "source": [
    "traj_imp"
   ]
  },
  {
   "cell_type": "code",
   "execution_count": null,
   "metadata": {},
   "outputs": [],
   "source": [
    "maximum(traj_exp)"
   ]
  }
 ],
 "metadata": {
  "kernelspec": {
   "display_name": "Julia 0.6.4",
   "language": "julia",
   "name": "julia-0.6"
  },
  "language_info": {
   "file_extension": ".jl",
   "mimetype": "application/julia",
   "name": "julia",
   "version": "0.6.4"
  }
 },
 "nbformat": 4,
 "nbformat_minor": 2
}
