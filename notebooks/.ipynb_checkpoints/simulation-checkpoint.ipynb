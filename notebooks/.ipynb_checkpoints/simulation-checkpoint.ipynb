{
 "cells": [
  {
   "cell_type": "code",
   "execution_count": 5,
   "metadata": {
    "collapsed": false
   },
   "outputs": [],
   "source": [
    "using Revise\n",
    "using BilevelTrajOpt\n",
    "\n",
    "using RigidBodyDynamics\n",
    "using Plots\n",
    "gr(size=(500,500), html_output_format=:png);"
   ]
  },
  {
   "cell_type": "code",
   "execution_count": 84,
   "metadata": {
    "collapsed": true
   },
   "outputs": [],
   "source": [
    "urdf = joinpath(\"..\", \"urdf\", \"ball.urdf\")\n",
    "mechanism = parse_urdf(Float64, urdf)\n",
    "body = findbody(mechanism, \"ball\")\n",
    "basejoint = joint_to_parent(body, mechanism)\n",
    "floatingjoint = Joint(basejoint.name, frame_before(basejoint), frame_after(basejoint), QuaternionFloating{Float64}())\n",
    "replace_joint!(mechanism, basejoint, floatingjoint)\n",
    "position_bounds(floatingjoint) .= RigidBodyDynamics.Bounds(-100, 100)\n",
    "velocity_bounds(floatingjoint) .= RigidBodyDynamics.Bounds(-100, 100)\n",
    "μ = 0.5\n",
    "motion_type = :xyz\n",
    "point = Point3D(default_frame(findbody(mechanism, \"floor\")), [0.,0.,0.])\n",
    "normal = FreeVector3D(default_frame(findbody(mechanism, \"floor\")), [0.,0.,1.])\n",
    "hs = HalfSpace(point, normal)\n",
    "floor = Obstacle(hs, μ, motion_type)\n",
    "obstacles = [floor]\n",
    "env = parse_contacts(mechanism, urdf, obstacles)\n",
    "x0 = MechanismState(mechanism)\n",
    "Δt = 0.0025;"
   ]
  },
  {
   "cell_type": "code",
   "execution_count": 111,
   "metadata": {
    "collapsed": false
   },
   "outputs": [],
   "source": [
    "q0 = [1., 0., 0., 0., 0., 0., 0.00]\n",
    "v0 = [0., 0., 0., 0.1, 0. , 0.]\n",
    "N = 20\n",
    "\n",
    "set_configuration!(x0, q0)\n",
    "set_velocity!(x0, v0)\n",
    "setdirty!(x0)\n",
    "\n",
    "ctrl! = (u,t,x) -> u[:] .= 0.;"
   ]
  },
  {
   "cell_type": "code",
   "execution_count": null,
   "metadata": {
    "collapsed": false
   },
   "outputs": [],
   "source": [
    "println(\"Explicit Contacts\")\n",
    "traj_exp = BilevelTrajOpt.simulate_ipopt(x0,env,Δt,N,ctrl!,implicit_contact=false);"
   ]
  },
  {
   "cell_type": "code",
   "execution_count": null,
   "metadata": {
    "collapsed": false
   },
   "outputs": [],
   "source": [
    "println(\"Implicit Contacts\")\n",
    "traj_imp = BilevelTrajOpt.simulate_ipopt(x0,env,Δt,N,ctrl!,implicit_contact=true);"
   ]
  },
  {
   "cell_type": "code",
   "execution_count": 112,
   "metadata": {
    "collapsed": false
   },
   "outputs": [
    {
     "name": "stdout",
     "output_type": "stream",
     "text": [
      "Explicit Contacts\n",
      "  0.369919 seconds (752.69 k allocations: 40.850 MiB, 12.69% gc time)\n",
      "  0.002111 seconds (1.76 k allocations: 272.844 KiB)\n",
      "  0.001761 seconds (1.76 k allocations: 272.844 KiB)\n",
      "  0.002909 seconds (1.76 k allocations: 272.844 KiB)\n",
      "  0.003310 seconds (1.76 k allocations: 272.844 KiB)\n",
      "Finished successfully: optimality conditions satisfied\n",
      "  0.002427 seconds (1.76 k allocations: 272.844 KiB)\n",
      "  0.002051 seconds (1.76 k allocations: 272.844 KiB)\n",
      "  0.001912 seconds (1.76 k allocations: 272.844 KiB)\n",
      "Finished successfully: optimality conditions satisfied\n",
      "  0.002613 seconds (1.76 k allocations: 272.844 KiB)\n",
      "  0.001945 seconds (1.76 k allocations: 272.844 KiB)\n",
      "  0.002508 seconds (1.76 k allocations: 272.844 KiB)\n",
      "Finished successfully: optimality conditions satisfied\n",
      "  0.003942 seconds (1.76 k allocations: 272.844 KiB)\n",
      "  0.002002 seconds (1.76 k allocations: 272.844 KiB)\n",
      "  0.003391 seconds (1.76 k allocations: 272.844 KiB)\n",
      "Finished successfully: optimality conditions satisfied\n",
      "  0.003913 seconds (1.76 k allocations: 272.844 KiB)\n",
      "  0.005437 seconds (1.76 k allocations: 272.844 KiB)\n",
      "  0.005025 seconds (1.76 k allocations: 272.844 KiB)\n",
      "Finished successfully: optimality conditions satisfied\n",
      "  0.002479 seconds (1.76 k allocations: 272.844 KiB)\n",
      "  0.002359 seconds (1.76 k allocations: 272.844 KiB)\n",
      "  0.002030 seconds (1.76 k allocations: 272.844 KiB)\n",
      "Finished successfully: optimality conditions satisfied\n",
      "  0.002630 seconds (1.76 k allocations: 272.844 KiB)\n",
      "  0.003028 seconds (1.76 k allocations: 272.844 KiB)\n",
      "  0.002379 seconds (1.76 k allocations: 272.844 KiB)\n",
      "Finished successfully: optimality conditions satisfied\n",
      "  0.028695 seconds (1.76 k allocations: 272.844 KiB, 86.58% gc time)\n",
      "  0.002046 seconds (1.76 k allocations: 272.844 KiB)\n",
      "  0.002885 seconds (1.76 k allocations: 272.844 KiB)\n",
      "Finished successfully: optimality conditions satisfied\n",
      "  0.003136 seconds (1.76 k allocations: 272.844 KiB)\n",
      "  0.002031 seconds (1.76 k allocations: 272.844 KiB)\n",
      "  0.003983 seconds (1.76 k allocations: 272.844 KiB)\n",
      "Finished successfully: optimality conditions satisfied\n",
      "  0.004440 seconds (1.76 k allocations: 272.844 KiB)\n",
      "  0.003738 seconds (1.76 k allocations: 272.844 KiB)\n",
      "  0.001812 seconds (1.76 k allocations: 272.844 KiB)\n",
      "Finished successfully: optimality conditions satisfied\n",
      "  0.003923 seconds (1.76 k allocations: 272.844 KiB)\n",
      "  0.002923 seconds (1.76 k allocations: 272.844 KiB)\n",
      "  0.002317 seconds (1.76 k allocations: 272.844 KiB)\n",
      "Finished successfully: optimality conditions satisfied\n",
      "  0.002580 seconds (1.76 k allocations: 272.844 KiB)\n",
      "  0.002224 seconds (1.76 k allocations: 272.844 KiB)\n",
      "  0.003204 seconds (1.76 k allocations: 272.844 KiB)\n",
      "Finished successfully: optimality conditions satisfied\n",
      "  0.003268 seconds (1.76 k allocations: 272.844 KiB)\n",
      "  0.002155 seconds (1.76 k allocations: 272.844 KiB)\n",
      "  0.002093 seconds (1.76 k allocations: 272.844 KiB)\n",
      "Finished successfully: optimality conditions satisfied\n",
      "  0.002581 seconds (1.76 k allocations: 272.844 KiB)\n",
      "  0.001939 seconds (1.76 k allocations: 272.844 KiB)\n",
      "  0.002064 seconds (1.76 k allocations: 272.844 KiB)\n",
      "Finished successfully: optimality conditions satisfied\n",
      "  0.002747 seconds (1.76 k allocations: 272.844 KiB)\n",
      "  0.002067 seconds (1.76 k allocations: 272.844 KiB)\n",
      "  0.002067 seconds (1.76 k allocations: 272.844 KiB)\n",
      "Finished successfully: optimality conditions satisfied\n",
      "  0.003324 seconds (1.76 k allocations: 272.844 KiB)\n",
      "  0.003202 seconds (1.76 k allocations: 272.844 KiB)\n",
      "  0.006395 seconds (1.76 k allocations: 272.844 KiB)\n",
      "Finished successfully: optimality conditions satisfied\n",
      "  0.005001 seconds (1.76 k allocations: 272.844 KiB)\n",
      "  0.002834 seconds (1.76 k allocations: 272.844 KiB)\n",
      "  0.001832 seconds (1.76 k allocations: 272.844 KiB)\n",
      "Finished successfully: optimality conditions satisfied\n",
      "  0.003137 seconds (1.76 k allocations: 272.844 KiB)\n",
      "  0.001960 seconds (1.76 k allocations: 272.844 KiB)\n",
      "  0.001940 seconds (1.76 k allocations: 272.844 KiB)\n",
      "Finished successfully: optimality conditions satisfied\n",
      "  0.002914 seconds (1.76 k allocations: 272.844 KiB)\n",
      "  0.002637 seconds (1.76 k allocations: 272.844 KiB)\n",
      "  0.001946 seconds (1.76 k allocations: 272.844 KiB)\n",
      "Finished successfully: optimality conditions satisfied\n",
      "  0.002795 seconds (1.76 k allocations: 272.844 KiB)\n",
      "  0.002008 seconds (1.76 k allocations: 272.844 KiB)\n",
      "  0.002179 seconds (1.76 k allocations: 272.844 KiB)\n",
      "Finished successfully: optimality conditions satisfied\n"
     ]
    }
   ],
   "source": [
    "println(\"Explicit Contacts\")\n",
    "traj_exp = BilevelTrajOpt.simulate_snopt(x0,env,Δt,N,ctrl!,implicit_contact=false);"
   ]
  },
  {
   "cell_type": "code",
   "execution_count": 113,
   "metadata": {
    "collapsed": false
   },
   "outputs": [
    {
     "name": "stdout",
     "output_type": "stream",
     "text": [
      "Implicit Contacts\n",
      " 29.780025 seconds (24.06 M allocations: 1.074 GiB, 4.84% gc time)\n",
      "  0.243956 seconds (628.30 k allocations: 114.922 MiB, 30.27% gc time)\n",
      "  0.233995 seconds (628.30 k allocations: 114.922 MiB, 32.53% gc time)\n",
      "The problem appears to be infeasible: nonlinear infeasibilities minimized\n",
      "  0.228750 seconds (628.30 k allocations: 114.922 MiB, 32.34% gc time)\n",
      "  0.249327 seconds (628.30 k allocations: 114.922 MiB, 35.60% gc time)\n",
      "  0.237953 seconds (628.30 k allocations: 114.922 MiB, 31.26% gc time)\n",
      "The problem appears to be infeasible: nonlinear infeasibilities minimized\n",
      "  0.222993 seconds (628.30 k allocations: 114.922 MiB, 33.17% gc time)\n",
      "  0.251935 seconds (628.30 k allocations: 114.922 MiB, 30.56% gc time)\n",
      "  0.264293 seconds (628.30 k allocations: 114.922 MiB, 34.94% gc time)\n",
      "  0.238198 seconds (628.30 k allocations: 114.922 MiB, 32.66% gc time)\n",
      "The problem appears to be infeasible: nonlinear infeasibilities minimized\n",
      "  0.247209 seconds (628.30 k allocations: 114.922 MiB, 30.41% gc time)\n",
      "  0.230664 seconds (628.30 k allocations: 114.922 MiB, 31.91% gc time)\n",
      "  0.628263 seconds (628.30 k allocations: 114.922 MiB, 75.08% gc time)\n",
      "The problem appears to be infeasible: nonlinear infeasibilities minimized\n",
      "  0.239637 seconds (628.30 k allocations: 114.922 MiB, 34.88% gc time)\n",
      "  0.252818 seconds (628.30 k allocations: 114.922 MiB, 32.03% gc time)\n",
      "  0.231278 seconds (628.30 k allocations: 114.922 MiB, 32.13% gc time)\n",
      "The problem appears to be infeasible: nonlinear infeasibilities minimized\n",
      "  0.246680 seconds (628.30 k allocations: 114.922 MiB, 37.10% gc time)\n",
      "  0.239272 seconds (628.30 k allocations: 114.922 MiB, 31.29% gc time)\n",
      "  0.244903 seconds (628.30 k allocations: 114.922 MiB, 31.92% gc time)\n",
      "The problem appears to be infeasible: nonlinear infeasibilities minimized\n",
      "  0.262830 seconds (628.30 k allocations: 114.922 MiB, 31.33% gc time)\n",
      "  0.244954 seconds (628.30 k allocations: 114.922 MiB, 36.28% gc time)\n",
      "  0.240978 seconds (628.30 k allocations: 114.922 MiB, 31.26% gc time)\n",
      "The problem appears to be infeasible: nonlinear infeasibilities minimized\n",
      "  0.238274 seconds (628.30 k allocations: 114.922 MiB, 33.16% gc time)\n",
      "  0.242759 seconds (628.30 k allocations: 114.922 MiB, 32.48% gc time)\n",
      "  0.266098 seconds (628.30 k allocations: 114.922 MiB, 35.17% gc time)\n",
      "  0.372521 seconds (628.30 k allocations: 114.922 MiB, 23.21% gc time)\n",
      "  0.241413 seconds (628.30 k allocations: 114.929 MiB, 31.43% gc time)\n",
      "  0.253494 seconds (628.30 k allocations: 114.925 MiB, 32.93% gc time)\n",
      "  0.283897 seconds (628.30 k allocations: 114.922 MiB, 35.26% gc time)\n",
      "  0.546779 seconds (628.30 k allocations: 114.922 MiB, 27.67% gc time)\n",
      "  0.903169 seconds (628.30 k allocations: 114.922 MiB, 29.70% gc time)\n",
      "  0.216872 seconds (628.30 k allocations: 114.922 MiB, 32.67% gc time)\n",
      "  0.435699 seconds (628.30 k allocations: 114.922 MiB, 30.06% gc time)\n",
      "  0.388854 seconds (628.30 k allocations: 114.922 MiB, 21.97% gc time)\n",
      "  0.216086 seconds (628.30 k allocations: 114.922 MiB, 34.08% gc time)\n",
      "  0.253757 seconds (628.30 k allocations: 114.922 MiB, 35.69% gc time)\n",
      "  0.260268 seconds (628.30 k allocations: 114.922 MiB, 34.29% gc time)\n",
      "  0.264598 seconds (628.30 k allocations: 114.922 MiB, 29.29% gc time)\n",
      "  0.241140 seconds (628.30 k allocations: 114.922 MiB, 30.35% gc time)\n",
      "  0.245713 seconds (628.30 k allocations: 114.922 MiB, 36.35% gc time)\n",
      "  0.220157 seconds (628.30 k allocations: 114.929 MiB, 31.94% gc time)\n",
      "The problem appears to be infeasible: nonlinear infeasibilities minimized\n",
      "  0.211269 seconds (628.30 k allocations: 114.922 MiB, 34.26% gc time)\n",
      "  0.207322 seconds (628.30 k allocations: 114.922 MiB, 33.56% gc time)\n",
      "  0.231348 seconds (628.30 k allocations: 114.922 MiB, 37.76% gc time)\n",
      "The problem appears to be infeasible: nonlinear infeasibilities minimized\n",
      "  0.336443 seconds (628.30 k allocations: 114.922 MiB, 26.39% gc time)\n",
      "  0.318377 seconds (628.30 k allocations: 114.922 MiB, 27.15% gc time)\n",
      "  0.250894 seconds (628.30 k allocations: 114.922 MiB, 29.93% gc time)\n",
      "The problem appears to be infeasible: nonlinear infeasibilities minimized\n",
      "  0.225830 seconds (628.30 k allocations: 114.922 MiB, 38.38% gc time)\n",
      "  0.214380 seconds (628.30 k allocations: 114.922 MiB, 31.89% gc time)\n",
      "  0.207022 seconds (628.30 k allocations: 114.922 MiB, 33.85% gc time)\n",
      "  0.216114 seconds (628.30 k allocations: 114.922 MiB, 32.36% gc time)\n",
      "  0.339983 seconds (628.30 k allocations: 114.929 MiB, 56.03% gc time)\n",
      "  0.531481 seconds (628.30 k allocations: 114.922 MiB, 35.26% gc time)\n",
      "  0.374064 seconds (628.30 k allocations: 114.929 MiB, 35.15% gc time)\n",
      "  0.500672 seconds (628.30 k allocations: 114.929 MiB, 32.22% gc time)\n",
      "  0.988549 seconds (628.30 k allocations: 114.929 MiB, 16.89% gc time)\n",
      "  0.657872 seconds (628.30 k allocations: 114.929 MiB, 19.12% gc time)\n",
      "  0.474190 seconds (628.30 k allocations: 114.929 MiB, 23.85% gc time)\n",
      "  0.344675 seconds (628.30 k allocations: 114.929 MiB, 27.90% gc time)\n",
      "  0.318950 seconds (628.30 k allocations: 114.929 MiB, 33.84% gc time)\n",
      "  0.323967 seconds (628.30 k allocations: 114.929 MiB, 26.72% gc time)\n",
      "  0.329841 seconds (628.30 k allocations: 114.929 MiB, 28.75% gc time)\n",
      "  0.325327 seconds (628.30 k allocations: 114.929 MiB, 31.43% gc time)\n",
      "  0.295017 seconds (628.30 k allocations: 114.929 MiB, 32.18% gc time)\n",
      "  0.221080 seconds (628.30 k allocations: 114.929 MiB, 32.82% gc time)\n",
      "  0.218802 seconds (628.30 k allocations: 114.929 MiB, 32.76% gc time)\n",
      "  0.213626 seconds (628.30 k allocations: 114.929 MiB, 34.46% gc time)\n",
      "  0.225348 seconds (628.30 k allocations: 114.929 MiB, 36.35% gc time)\n",
      "  0.205214 seconds (628.30 k allocations: 114.929 MiB, 32.92% gc time)\n",
      "Finished successfully: feasible point found\n",
      "  0.209973 seconds (628.30 k allocations: 114.922 MiB, 32.99% gc time)\n",
      "  0.215953 seconds (628.30 k allocations: 114.922 MiB, 32.72% gc time)\n",
      "  0.218317 seconds (628.30 k allocations: 114.922 MiB, 38.24% gc time)\n",
      "  0.204338 seconds (628.30 k allocations: 114.922 MiB, 33.51% gc time)\n",
      "Finished successfully: feasible point found\n",
      "  0.213136 seconds (628.30 k allocations: 114.922 MiB, 32.23% gc time)\n",
      "  0.204515 seconds (628.30 k allocations: 114.922 MiB, 32.60% gc time)\n",
      "  0.227454 seconds (628.30 k allocations: 114.922 MiB, 36.92% gc time)\n",
      "  0.222083 seconds (628.30 k allocations: 114.922 MiB, 32.50% gc time)\n",
      "Finished successfully: feasible point found\n",
      "  0.226718 seconds (628.30 k allocations: 114.922 MiB, 31.53% gc time)\n",
      "  0.211546 seconds (628.30 k allocations: 114.922 MiB, 33.43% gc time)\n",
      "  0.221209 seconds (628.30 k allocations: 114.922 MiB, 36.49% gc time)\n",
      "  0.205752 seconds (628.30 k allocations: 114.922 MiB, 33.07% gc time)\n",
      "  0.210907 seconds (628.30 k allocations: 114.922 MiB, 32.38% gc time)\n",
      "  0.206500 seconds (628.30 k allocations: 114.922 MiB, 33.55% gc time)\n",
      "  0.223624 seconds (628.30 k allocations: 114.922 MiB, 37.37% gc time)\n",
      "  0.238879 seconds (628.30 k allocations: 114.922 MiB, 30.49% gc time)\n",
      "The problem appears to be infeasible: nonlinear infeasibilities minimized\n",
      "  0.211725 seconds (628.30 k allocations: 114.922 MiB, 33.01% gc time)\n",
      "  0.305405 seconds (628.30 k allocations: 114.922 MiB, 25.95% gc time)\n",
      "  0.374349 seconds (628.30 k allocations: 114.922 MiB, 30.10% gc time)\n",
      "  0.376675 seconds (628.30 k allocations: 114.922 MiB, 28.81% gc time)\n",
      "The problem appears to be infeasible: nonlinear infeasibilities minimized\n",
      "  0.582563 seconds (628.30 k allocations: 114.922 MiB, 20.32% gc time)\n",
      "  0.436325 seconds (628.30 k allocations: 114.922 MiB, 22.38% gc time)\n",
      "  0.283011 seconds (628.30 k allocations: 114.922 MiB, 36.32% gc time)\n",
      "  0.294539 seconds (628.30 k allocations: 114.922 MiB, 28.60% gc time)\n",
      "The problem appears to be infeasible: nonlinear infeasibilities minimized\n",
      "  0.252730 seconds (628.30 k allocations: 114.922 MiB, 29.12% gc time)\n",
      "  0.226090 seconds (628.30 k allocations: 114.922 MiB, 32.75% gc time)\n",
      "  0.245068 seconds (628.30 k allocations: 114.922 MiB, 36.85% gc time)\n",
      "  0.251632 seconds (628.30 k allocations: 114.922 MiB, 43.21% gc time)\n",
      "The problem appears to be infeasible: nonlinear infeasibilities minimized\n",
      "  0.572152 seconds (628.30 k allocations: 114.922 MiB, 72.65% gc time)\n",
      "  0.209655 seconds (628.30 k allocations: 114.922 MiB, 32.89% gc time)\n",
      "  0.231120 seconds (628.30 k allocations: 114.922 MiB, 29.86% gc time)\n",
      "  0.222989 seconds (628.30 k allocations: 114.922 MiB, 32.83% gc time)\n",
      "The problem appears to be infeasible: nonlinear infeasibilities minimized\n",
      "  0.211803 seconds (628.30 k allocations: 114.922 MiB, 33.39% gc time)\n",
      "  0.231718 seconds (628.30 k allocations: 114.922 MiB, 37.34% gc time)\n",
      "  0.201940 seconds (628.30 k allocations: 114.922 MiB, 33.59% gc time)\n",
      "  0.207416 seconds (628.30 k allocations: 114.922 MiB, 33.88% gc time)\n",
      "The problem appears to be infeasible: nonlinear infeasibilities minimized\n",
      "  0.217485 seconds (628.30 k allocations: 114.922 MiB, 33.23% gc time)\n",
      "  0.223693 seconds (628.30 k allocations: 114.922 MiB, 37.75% gc time)\n",
      "  0.230305 seconds (628.30 k allocations: 114.922 MiB, 32.71% gc time)\n",
      "  0.212714 seconds (628.30 k allocations: 114.922 MiB, 33.67% gc time)\n",
      "The problem appears to be infeasible: nonlinear infeasibilities minimized\n"
     ]
    }
   ],
   "source": [
    "println(\"Implicit Contacts\")\n",
    "traj_imp = BilevelTrajOpt.simulate_snopt(x0,env,Δt,N,ctrl!,implicit_contact=true);"
   ]
  },
  {
   "cell_type": "code",
   "execution_count": 114,
   "metadata": {
    "collapsed": false
   },
   "outputs": [
    {
     "data": {
      "image/png": "[encoded data removed]"
     },
     "execution_count": 114,
     "metadata": {},
     "output_type": "execute_result"
    }
   ],
   "source": [
    "ts = cumsum([Δt for i in 1:N]);\n",
    "j = 11\n",
    "plot(traj_exp[j,:],label=\"explicit\")\n",
    "plot!(traj_imp[j,:],label=\"implicit\")"
   ]
  }
 ],
 "metadata": {
  "kernelspec": {
   "display_name": "Julia 0.7.0",
   "language": "julia",
   "name": "julia-0.7"
  },
  "language_info": {
   "file_extension": ".jl",
   "mimetype": "application/julia",
   "name": "julia",
   "version": "0.7.0"
  }
 },
 "nbformat": 4,
 "nbformat_minor": 2
}
