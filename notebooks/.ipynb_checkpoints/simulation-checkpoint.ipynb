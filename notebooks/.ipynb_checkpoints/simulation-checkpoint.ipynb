{
 "cells": [
  {
   "cell_type": "code",
   "execution_count": 1,
   "metadata": {
    "collapsed": false
   },
   "outputs": [
    {
     "data": {
      "text/html": [
       "    <script class='js-collapse-script'>\n",
       "        var curMatch =\n",
       "            window.location.href\n",
       "            .match(/(.*?)\\/notebooks\\/.*\\.ipynb/);\n",
       "\n",
       "        curMatch = curMatch ||\n",
       "            window.location.href\n",
       "            .match(/(.*?)\\/apps\\/.*\\.ipynb/);\n",
       "\n",
       "        if ( curMatch ) {\n",
       "            $('head').append('<base href=\"' + curMatch[1] + '/\">');\n",
       "        }\n",
       "    </script>\n"
      ],
      "text/plain": [
       "HTML{String}(\"    <script class='js-collapse-script'>\\n        var curMatch =\\n            window.location.href\\n            .match(/(.*?)\\\\/notebooks\\\\/.*\\\\.ipynb/);\\n\\n        curMatch = curMatch ||\\n            window.location.href\\n            .match(/(.*?)\\\\/apps\\\\/.*\\\\.ipynb/);\\n\\n        if ( curMatch ) {\\n            \\$('head').append('<base href=\\\"' + curMatch[1] + '/\\\">');\\n        }\\n    </script>\\n\")"
      ]
     },
     "metadata": {},
     "output_type": "display_data"
    },
    {
     "data": {
      "text/html": [
       "<script class='js-collapse-script' src='/assetserver/8c8a043c2f00369f3e7ae550277d2a54e59a34ad-assets/webio/dist/bundle.js'></script>"
      ],
      "text/plain": [
       "HTML{String}(\"<script class='js-collapse-script' src='/assetserver/8c8a043c2f00369f3e7ae550277d2a54e59a34ad-assets/webio/dist/bundle.js'></script>\")"
      ]
     },
     "metadata": {},
     "output_type": "display_data"
    },
    {
     "data": {
      "text/html": [
       "<script class='js-collapse-script' src='/assetserver/8c8a043c2f00369f3e7ae550277d2a54e59a34ad-assets/providers/ijulia_setup.js'></script>"
      ],
      "text/plain": [
       "HTML{String}(\"<script class='js-collapse-script' src='/assetserver/8c8a043c2f00369f3e7ae550277d2a54e59a34ad-assets/providers/ijulia_setup.js'></script>\")"
      ]
     },
     "metadata": {},
     "output_type": "display_data"
    },
    {
     "data": {
      "text/html": [
       "  <script class='js-collapse-script'>\n",
       "    $('.js-collapse-script').parent('.output_subarea').css('padding', '0');\n",
       "  </script>\n"
      ],
      "text/plain": [
       "HTML{String}(\"  <script class='js-collapse-script'>\\n    \\$('.js-collapse-script').parent('.output_subarea').css('padding', '0');\\n  </script>\\n\")"
      ]
     },
     "metadata": {},
     "output_type": "display_data"
    }
   ],
   "source": [
    "using Revise\n",
    "\n",
    "using RigidBodyDynamics\n",
    "using RigidBodyDynamics: Bounds\n",
    "\n",
    "using RigidBodyTreeInspector\n",
    "using DrakeVisualizer\n",
    "using Plots\n",
    "\n",
    "using BilevelTrajOpt"
   ]
  },
  {
   "cell_type": "code",
   "execution_count": 38,
   "metadata": {
    "collapsed": false
   },
   "outputs": [],
   "source": [
    "urdf = joinpath(\"..\", \"urdf\", \"ball.urdf\")\n",
    "mechanism = parse_urdf(Float64, urdf)\n",
    "body = findbody(mechanism, \"ball\")\n",
    "basejoint = joint_to_parent(body, mechanism)\n",
    "floatingjoint = Joint(basejoint.name, frame_before(basejoint), frame_after(basejoint), QuaternionFloating{Float64}())\n",
    "replace_joint!(mechanism, basejoint, floatingjoint)\n",
    "position_bounds(floatingjoint) .= Bounds(-100, 100)\n",
    "velocity_bounds(floatingjoint) .= Bounds(-100, 100)\n",
    "env = parse_contacts(mechanism, urdf, .5);\n",
    "x0 = MechanismState(mechanism)\n",
    "Δt = 0.01;"
   ]
  },
  {
   "cell_type": "code",
   "execution_count": 3,
   "metadata": {
    "collapsed": true
   },
   "outputs": [],
   "source": [
    "DrakeVisualizer.any_open_windows() || (DrakeVisualizer.new_window(); sleep(1));\n",
    "geometries = visual_elements(mechanism, URDFVisuals(urdf))\n",
    "vis = Visualizer(mechanism, geometries);"
   ]
  },
  {
   "cell_type": "code",
   "execution_count": 56,
   "metadata": {
    "collapsed": false
   },
   "outputs": [
    {
     "name": "stdout",
     "output_type": "stream",
     "text": [
      "Maximum_Iterations_Exceeded\n",
      "Solve_Succeeded\n",
      "Solve_Succeeded\n",
      "Solve_Succeeded\n",
      "Solve_Succeeded\n",
      "Solve_Succeeded\n",
      "Solve_Succeeded\n",
      "Solve_Succeeded\n",
      "Solve_Succeeded\n",
      "Solve_Succeeded\n",
      "Solve_Succeeded\n",
      "Solved_To_Acceptable_Level\n",
      "Solve_Succeeded\n",
      "Solve_Succeeded\n",
      "Solve_Succeeded\n",
      "Solve_Succeeded\n",
      "Solve_Succeeded\n",
      "Solve_Succeeded\n",
      "Solve_Succeeded\n",
      "Solve_Succeeded\n",
      "Solve_Succeeded\n",
      "Solve_Succeeded\n",
      "Solve_Succeeded\n",
      "Solve_Succeeded\n",
      "Solve_Succeeded\n",
      "Solve_Succeeded\n",
      "Solve_Succeeded\n",
      "Solve_Succeeded\n",
      "Solve_Succeeded\n",
      "Solve_Succeeded\n",
      "Solve_Succeeded\n",
      "Solve_Succeeded\n",
      "Solve_Succeeded\n",
      "Solve_Succeeded\n",
      "Solve_Succeeded\n",
      "Solve_Succeeded\n",
      "Solve_Succeeded\n",
      "Solve_Succeeded\n",
      "Solve_Succeeded\n",
      "Solve_Succeeded\n",
      "Solve_Succeeded\n",
      "Solve_Succeeded\n",
      "Solve_Succeeded\n",
      "Solve_Succeeded\n",
      "Solve_Succeeded\n",
      "Solve_Succeeded\n",
      "Solve_Succeeded\n",
      "Solve_Succeeded\n",
      "Solve_Succeeded\n",
      "Solve_Succeeded\n",
      "Solve_Succeeded\n",
      "Solve_Succeeded\n",
      "Solve_Succeeded\n",
      "Solve_Succeeded\n",
      "Solve_Succeeded\n",
      "Solve_Succeeded\n",
      "Solve_Succeeded\n",
      "Solve_Succeeded\n",
      "Solve_Succeeded\n",
      "Solve_Succeeded\n"
     ]
    },
    {
     "data": {
      "text/plain": [
       "20×61 Array{Float64,2}:\n",
       " 1.0    1.0           1.0          …   1.0           1.0        \n",
       " 0.0   -6.89588e-45   1.26134e-43     -1.48187e-42  -1.52441e-42\n",
       " 0.0    8.27181e-29   1.65436e-28     -1.36485e-26  -1.38966e-26\n",
       " 0.0    7.51949e-48   1.47189e-46     -1.69957e-33  -1.64209e-33\n",
       " 0.0    0.02          0.04             0.42279       0.42279    \n",
       " 0.0    4.11741e-27   7.94701e-26  …  -7.3317e-15   -7.3317e-15 \n",
       " 0.05   0.049019      0.047057         2.18226e-9    2.18205e-9 \n",
       " 0.0   -1.37918e-42   2.66059e-41     -8.50838e-42  -8.50838e-42\n",
       " 0.0    1.65436e-26   1.65436e-26     -4.96308e-26  -4.96308e-26\n",
       " 0.0    1.5039e-45    2.7934e-44       1.14966e-32   1.14966e-32\n",
       " 2.0    2.0           2.0          …  -3.43416e-22   2.18023e-22\n",
       " 0.0    4.11741e-25   7.53527e-24     -1.81919e-22   3.89094e-22\n",
       " 0.0   -0.0981       -0.1962          -4.12549e-11  -2.16101e-11\n",
       " 0.0    0.0           0.0              0.0           0.0        \n",
       " 0.0   -3.45132e-9   -2.35708e-9       0.201733      0.201732   \n",
       " 0.0   -2.20385e-9   -1.43738e-9   …   0.0321829     0.0321836  \n",
       " 0.0    3.69075e-8    3.86441e-8       0.201733      0.201732   \n",
       " 0.0   -2.20385e-9   -1.43738e-9       0.0321829     0.0321836  \n",
       " 0.0    2.16056       2.14932          2.24468e-8    2.24509e-8 \n",
       " 0.0    5.36893e-8    6.40092e-8       1.0           1.0        "
      ]
     },
     "execution_count": 56,
     "metadata": {},
     "output_type": "execute_result"
    }
   ],
   "source": [
    "q0 = [1., 0., 0., 0., 0., 0., .05]\n",
    "v0 = [0., 0., 0., 2., 0. , 0.]\n",
    "N = 60\n",
    "\n",
    "set_configuration!(x0, q0)\n",
    "set_velocity!(x0, v0)\n",
    "setdirty!(x0)\n",
    "\n",
    "traj = BilevelTrajOpt.simulate(x0,env,Δt,N)"
   ]
  },
  {
   "cell_type": "code",
   "execution_count": 59,
   "metadata": {
    "collapsed": false
   },
   "outputs": [],
   "source": [
    "qs = [traj[1:num_positions(x0),i] for i in 1:N]\n",
    "ts = cumsum([Δt for i in 1:N]);\n",
    "RigidBodyTreeInspector.animate(vis, mechanism, ts, qs; realtimerate = .25);"
   ]
  }
 ],
 "metadata": {
  "kernelspec": {
   "display_name": "Julia 0.6.4",
   "language": "julia",
   "name": "julia-0.6"
  },
  "language_info": {
   "file_extension": ".jl",
   "mimetype": "application/julia",
   "name": "julia",
   "version": "0.6.4"
  }
 },
 "nbformat": 4,
 "nbformat_minor": 2
}
