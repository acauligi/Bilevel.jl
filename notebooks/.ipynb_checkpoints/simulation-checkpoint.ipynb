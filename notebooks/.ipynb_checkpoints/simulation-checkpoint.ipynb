{
 "cells": [
  {
   "cell_type": "code",
   "execution_count": 1,
   "metadata": {
    "collapsed": false
   },
   "outputs": [
    {
     "data": {
      "text/html": [
       "    <script class='js-collapse-script'>\n",
       "        var curMatch =\n",
       "            window.location.href\n",
       "            .match(/(.*?)\\/notebooks\\/.*\\.ipynb/);\n",
       "\n",
       "        curMatch = curMatch ||\n",
       "            window.location.href\n",
       "            .match(/(.*?)\\/apps\\/.*\\.ipynb/);\n",
       "\n",
       "        if ( curMatch ) {\n",
       "            $('head').append('<base href=\"' + curMatch[1] + '/\">');\n",
       "        }\n",
       "    </script>\n"
      ],
      "text/plain": [
       "HTML{String}(\"    <script class='js-collapse-script'>\\n        var curMatch =\\n            window.location.href\\n            .match(/(.*?)\\\\/notebooks\\\\/.*\\\\.ipynb/);\\n\\n        curMatch = curMatch ||\\n            window.location.href\\n            .match(/(.*?)\\\\/apps\\\\/.*\\\\.ipynb/);\\n\\n        if ( curMatch ) {\\n            \\$('head').append('<base href=\\\"' + curMatch[1] + '/\\\">');\\n        }\\n    </script>\\n\")"
      ]
     },
     "metadata": {},
     "output_type": "display_data"
    },
    {
     "data": {
      "text/html": [
       "<script class='js-collapse-script' src='/assetserver/8c8a043c2f00369f3e7ae550277d2a54e59a34ad-assets/webio/dist/bundle.js'></script>"
      ],
      "text/plain": [
       "HTML{String}(\"<script class='js-collapse-script' src='/assetserver/8c8a043c2f00369f3e7ae550277d2a54e59a34ad-assets/webio/dist/bundle.js'></script>\")"
      ]
     },
     "metadata": {},
     "output_type": "display_data"
    },
    {
     "data": {
      "text/html": [
       "<script class='js-collapse-script' src='/assetserver/8c8a043c2f00369f3e7ae550277d2a54e59a34ad-assets/providers/ijulia_setup.js'></script>"
      ],
      "text/plain": [
       "HTML{String}(\"<script class='js-collapse-script' src='/assetserver/8c8a043c2f00369f3e7ae550277d2a54e59a34ad-assets/providers/ijulia_setup.js'></script>\")"
      ]
     },
     "metadata": {},
     "output_type": "display_data"
    },
    {
     "data": {
      "text/html": [
       "  <script class='js-collapse-script'>\n",
       "    $('.js-collapse-script').parent('.output_subarea').css('padding', '0');\n",
       "  </script>\n"
      ],
      "text/plain": [
       "HTML{String}(\"  <script class='js-collapse-script'>\\n    \\$('.js-collapse-script').parent('.output_subarea').css('padding', '0');\\n  </script>\\n\")"
      ]
     },
     "metadata": {},
     "output_type": "display_data"
    },
    {
     "name": "stderr",
     "output_type": "stream",
     "text": [
      "WARNING: local variable T conflicts with a static parameter in eval_g at /Users/blandry/.julia/v0.6/BilevelTrajOpt/src/simulation.jl:111.\n"
     ]
    }
   ],
   "source": [
    "using Revise\n",
    "\n",
    "using RigidBodyDynamics\n",
    "using RigidBodyDynamics: Bounds\n",
    "\n",
    "using DrakeVisualizer\n",
    "using Plots\n",
    "using RigidBodyTreeInspector\n",
    "\n",
    "using BilevelTrajOpt\n",
    "gr(size=(500,500), html_output_format=:png);"
   ]
  },
  {
   "cell_type": "code",
   "execution_count": 2,
   "metadata": {
    "collapsed": true
   },
   "outputs": [],
   "source": [
    "urdf = joinpath(\"..\", \"urdf\", \"ball.urdf\")\n",
    "mechanism = parse_urdf(Float64, urdf)\n",
    "body = findbody(mechanism, \"ball\")\n",
    "basejoint = joint_to_parent(body, mechanism)\n",
    "floatingjoint = Joint(basejoint.name, frame_before(basejoint), frame_after(basejoint), QuaternionFloating{Float64}())\n",
    "replace_joint!(mechanism, basejoint, floatingjoint)\n",
    "position_bounds(floatingjoint) .= Bounds(-100, 100)\n",
    "velocity_bounds(floatingjoint) .= Bounds(-100, 100)\n",
    "μ = 0.5\n",
    "motion_type = :xyz\n",
    "point = Point3D(default_frame(findbody(mechanism, \"floor\")), [0.,0.,0.])\n",
    "normal = FreeVector3D(default_frame(findbody(mechanism, \"floor\")), [0.,0.,1.])\n",
    "hs = HalfSpace(point, normal)\n",
    "floor = Obstacle(hs, μ, motion_type)\n",
    "obstacles = [floor]\n",
    "env = parse_contacts(mechanism, urdf, obstacles)\n",
    "x0 = MechanismState(mechanism)\n",
    "Δt = 0.005;"
   ]
  },
  {
   "cell_type": "code",
   "execution_count": 3,
   "metadata": {
    "collapsed": false
   },
   "outputs": [
    {
     "data": {
      "text/plain": [
       "(::#1) (generic function with 1 method)"
      ]
     },
     "execution_count": 3,
     "metadata": {},
     "output_type": "execute_result"
    }
   ],
   "source": [
    "# q0 = [1., 0., 0., 0., 0., 0., 0.005]\n",
    "q0 = [1., 0., 0., 0., 0., 0., 0.]\n",
    "v0 = [0., 0., 0., 0.1, 0. , 0.]\n",
    "N = 10\n",
    "\n",
    "set_configuration!(x0, q0)\n",
    "set_velocity!(x0, v0)\n",
    "setdirty!(x0)\n",
    "\n",
    "ctrl! = (u,t,x) -> u[:] = 0."
   ]
  },
  {
   "cell_type": "code",
   "execution_count": 4,
   "metadata": {
    "collapsed": false,
    "scrolled": false
   },
   "outputs": [
    {
     "data": {
      "text/plain": [
       "6-element Array{Float64,1}:\n",
       "  0.0        \n",
       "  0.0        \n",
       "  0.0        \n",
       "  2.47088    \n",
       "  9.29046e-10\n",
       " -8.57412    "
      ]
     },
     "metadata": {},
     "output_type": "display_data"
    },
    {
     "data": {
      "text/plain": [
       "6-element Array{Float64,1}:\n",
       "  0.0        \n",
       "  0.0        \n",
       "  0.0        \n",
       "  2.47088    \n",
       "  9.29046e-10\n",
       " -8.57412    "
      ]
     },
     "metadata": {},
     "output_type": "display_data"
    },
    {
     "name": "stdout",
     "output_type": "stream",
     "text": [
      "Implicit Contacts\n"
     ]
    },
    {
     "data": {
      "text/plain": [
       "6-element Array{Float64,1}:\n",
       "  0.0        \n",
       "  0.0        \n",
       "  0.0        \n",
       "  2.47088    \n",
       "  9.29046e-10\n",
       " -8.57412    "
      ]
     },
     "metadata": {},
     "output_type": "display_data"
    },
    {
     "data": {
      "text/plain": [
       "6-element Array{Float64,1}:\n",
       "  0.0        \n",
       "  0.0        \n",
       "  0.0        \n",
       "  2.47088    \n",
       "  9.29046e-10\n",
       " -8.57412    "
      ]
     },
     "metadata": {},
     "output_type": "display_data"
    },
    {
     "name": "stdout",
     "output_type": "stream",
     "text": [
      "elapsed time: 294.312332911 seconds\n"
     ]
    },
    {
     "data": {
      "text/plain": [
       "6-element Array{Float64,1}:\n",
       "  0.0       \n",
       "  0.0       \n",
       "  0.0       \n",
       "  4.13276   \n",
       "  8.26954e-8\n",
       " -8.95602   "
      ]
     },
     "metadata": {},
     "output_type": "display_data"
    },
    {
     "data": {
      "text/plain": [
       "6-element Array{Float64,1}:\n",
       "  0.0       \n",
       "  0.0       \n",
       "  0.0       \n",
       "  4.13276   \n",
       "  8.26954e-8\n",
       " -8.95602   "
      ]
     },
     "metadata": {},
     "output_type": "display_data"
    },
    {
     "name": "stdout",
     "output_type": "stream",
     "text": [
      "elapsed time: 0.786020684 seconds\n",
      "\n",
      "******************************************************************************\n",
      "This program contains Ipopt, a library for large-scale nonlinear optimization.\n",
      " Ipopt is released as open source code under the Eclipse Public License (EPL).\n",
      "         For more information visit http://projects.coin-or.org/Ipopt\n",
      "******************************************************************************\n",
      "\n"
     ]
    },
    {
     "data": {
      "text/plain": [
       "6-element Array{Float64,1}:\n",
       "  0.0       \n",
       "  0.0       \n",
       "  0.0       \n",
       "  4.77401   \n",
       "  4.41419e-7\n",
       " -9.62049   "
      ]
     },
     "metadata": {},
     "output_type": "display_data"
    },
    {
     "data": {
      "text/plain": [
       "6-element Array{Float64,1}:\n",
       "  0.0       \n",
       "  0.0       \n",
       "  0.0       \n",
       "  4.77401   \n",
       "  4.41419e-7\n",
       " -9.62049   "
      ]
     },
     "metadata": {},
     "output_type": "display_data"
    },
    {
     "name": "stdout",
     "output_type": "stream",
     "text": [
      "elapsed time: 0.745006206 seconds\n"
     ]
    },
    {
     "data": {
      "text/plain": [
       "6-element Array{Float64,1}:\n",
       "  0.0       \n",
       "  0.0       \n",
       "  0.0       \n",
       "  4.80614   \n",
       "  2.95186e-7\n",
       " -9.66004   "
      ]
     },
     "metadata": {},
     "output_type": "display_data"
    },
    {
     "data": {
      "text/plain": [
       "6-element Array{Float64,1}:\n",
       "  0.0       \n",
       "  0.0       \n",
       "  0.0       \n",
       "  4.80614   \n",
       "  2.95186e-7\n",
       " -9.66004   "
      ]
     },
     "metadata": {},
     "output_type": "display_data"
    },
    {
     "name": "stdout",
     "output_type": "stream",
     "text": [
      "elapsed time: 0.781656949 seconds\n"
     ]
    },
    {
     "data": {
      "text/plain": [
       "6-element Array{Float64,1}:\n",
       "  0.0      \n",
       "  0.0      \n",
       "  0.0      \n",
       "  4.80646  \n",
       "  2.9404e-7\n",
       " -9.66044  "
      ]
     },
     "metadata": {},
     "output_type": "display_data"
    },
    {
     "data": {
      "text/plain": [
       "6-element Array{Float64,1}:\n",
       "  0.0      \n",
       "  0.0      \n",
       "  0.0      \n",
       "  4.80646  \n",
       "  2.9404e-7\n",
       " -9.66044  "
      ]
     },
     "metadata": {},
     "output_type": "display_data"
    },
    {
     "name": "stdout",
     "output_type": "stream",
     "text": [
      "elapsed time: 0.772408343 seconds\n"
     ]
    },
    {
     "data": {
      "text/plain": [
       "6-element Array{Float64,1}:\n",
       "  0.0       \n",
       "  0.0       \n",
       "  0.0       \n",
       "  4.80647   \n",
       "  2.93835e-7\n",
       " -9.66045   "
      ]
     },
     "metadata": {},
     "output_type": "display_data"
    },
    {
     "data": {
      "text/plain": [
       "6-element Array{Float64,1}:\n",
       "  0.0       \n",
       "  0.0       \n",
       "  0.0       \n",
       "  4.80647   \n",
       "  2.93835e-7\n",
       " -9.66045   "
      ]
     },
     "metadata": {},
     "output_type": "display_data"
    },
    {
     "name": "stdout",
     "output_type": "stream",
     "text": [
      "elapsed time: 0.727918442 seconds\n"
     ]
    },
    {
     "data": {
      "text/plain": [
       "6-element Array{Float64,1}:\n",
       "  0.0       \n",
       "  0.0       \n",
       "  0.0       \n",
       "  4.90534   \n",
       "  1.30851e-8\n",
       " -9.81106   "
      ]
     },
     "metadata": {},
     "output_type": "display_data"
    },
    {
     "data": {
      "text/plain": [
       "6-element Array{Float64,1}:\n",
       "  0.0       \n",
       "  0.0       \n",
       "  0.0       \n",
       "  4.90534   \n",
       "  1.30851e-8\n",
       " -9.81106   "
      ]
     },
     "metadata": {},
     "output_type": "display_data"
    },
    {
     "name": "stdout",
     "output_type": "stream",
     "text": [
      "elapsed time: 0.742731518 seconds\n"
     ]
    },
    {
     "data": {
      "text/plain": [
       "6-element Array{Float64,1}:\n",
       "  8.07794e-28\n",
       "  0.0        \n",
       "  1.61559e-27\n",
       "  4.90534    \n",
       "  1.34666e-8 \n",
       " -9.81106    "
      ]
     },
     "metadata": {},
     "output_type": "display_data"
    },
    {
     "data": {
      "text/plain": [
       "6-element Array{Float64,1}:\n",
       "  8.07794e-28\n",
       "  0.0        \n",
       "  1.61559e-27\n",
       "  4.90534    \n",
       "  1.34666e-8 \n",
       " -9.81106    "
      ]
     },
     "metadata": {},
     "output_type": "display_data"
    },
    {
     "name": "stdout",
     "output_type": "stream",
     "text": [
      "elapsed time: 0.720694085 seconds\n"
     ]
    },
    {
     "data": {
      "text/plain": [
       "6-element Array{Float64,1}:\n",
       "  0.0       \n",
       "  0.0       \n",
       "  0.0       \n",
       "  4.90534   \n",
       "  1.30851e-8\n",
       " -9.81106   "
      ]
     },
     "metadata": {},
     "output_type": "display_data"
    },
    {
     "data": {
      "text/plain": [
       "6-element Array{Float64,1}:\n",
       "  0.0       \n",
       "  0.0       \n",
       "  0.0       \n",
       "  4.90534   \n",
       "  1.30851e-8\n",
       " -9.81106   "
      ]
     },
     "metadata": {},
     "output_type": "display_data"
    },
    {
     "name": "stdout",
     "output_type": "stream",
     "text": [
      "elapsed time: 0.769340733 seconds\n"
     ]
    },
    {
     "data": {
      "text/plain": [
       "6-element Array{Float64,1}:\n",
       "  0.0       \n",
       "  0.0       \n",
       "  0.0       \n",
       "  4.90565   \n",
       "  1.58092e-8\n",
       " -9.8113    "
      ]
     },
     "metadata": {},
     "output_type": "display_data"
    },
    {
     "data": {
      "text/plain": [
       "6-element Array{Float64,1}:\n",
       "  0.0       \n",
       "  0.0       \n",
       "  0.0       \n",
       "  4.90565   \n",
       "  1.58092e-8\n",
       " -9.8113    "
      ]
     },
     "metadata": {},
     "output_type": "display_data"
    },
    {
     "name": "stdout",
     "output_type": "stream",
     "text": [
      "elapsed time: 0.73852462 seconds\n"
     ]
    },
    {
     "data": {
      "text/plain": [
       "6-element Array{Float64,1}:\n",
       "  0.0       \n",
       "  0.0       \n",
       "  0.0       \n",
       "  4.90564   \n",
       "  1.42977e-8\n",
       " -9.81129   "
      ]
     },
     "metadata": {},
     "output_type": "display_data"
    },
    {
     "data": {
      "text/plain": [
       "6-element Array{Float64,1}:\n",
       "  0.0       \n",
       "  0.0       \n",
       "  0.0       \n",
       "  4.90564   \n",
       "  1.42977e-8\n",
       " -9.81129   "
      ]
     },
     "metadata": {},
     "output_type": "display_data"
    },
    {
     "name": "stdout",
     "output_type": "stream",
     "text": [
      "elapsed time: 0.728009319 seconds\n"
     ]
    },
    {
     "data": {
      "text/plain": [
       "6-element Array{Float64,1}:\n",
       "  0.0        \n",
       "  0.0        \n",
       " -1.26218e-29\n",
       "  4.9048     \n",
       "  1.88412e-10\n",
       " -9.8096     "
      ]
     },
     "metadata": {},
     "output_type": "display_data"
    },
    {
     "data": {
      "text/plain": [
       "6-element Array{Float64,1}:\n",
       "  0.0        \n",
       "  0.0        \n",
       " -1.26218e-29\n",
       "  4.9048     \n",
       "  1.88412e-10\n",
       " -9.8096     "
      ]
     },
     "metadata": {},
     "output_type": "display_data"
    },
    {
     "name": "stdout",
     "output_type": "stream",
     "text": [
      "elapsed time: 0.736122358 seconds\n"
     ]
    },
    {
     "data": {
      "text/plain": [
       "6-element Array{Float64,1}:\n",
       "  0.0       \n",
       "  0.0       \n",
       "  0.0       \n",
       "  3.33705e-8\n",
       " -2.5119e-8 \n",
       " -4.72373e-5"
      ]
     },
     "metadata": {},
     "output_type": "display_data"
    },
    {
     "data": {
      "text/plain": [
       "6-element Array{Float64,1}:\n",
       "  0.0       \n",
       "  0.0       \n",
       "  0.0       \n",
       "  3.33705e-8\n",
       " -2.5119e-8 \n",
       " -4.72373e-5"
      ]
     },
     "metadata": {},
     "output_type": "display_data"
    },
    {
     "name": "stdout",
     "output_type": "stream",
     "text": [
      "elapsed time: 0.731967274 seconds\n",
      "Solve_Succeeded\n"
     ]
    },
    {
     "data": {
      "text/plain": [
       "6-element Array{Float64,1}:\n",
       "  0.0       \n",
       "  0.0       \n",
       "  0.0       \n",
       "  3.33705e-8\n",
       " -2.5119e-8 \n",
       " -4.72373e-5"
      ]
     },
     "metadata": {},
     "output_type": "display_data"
    },
    {
     "data": {
      "text/plain": [
       "6-element Array{Float64,1}:\n",
       "  0.0       \n",
       "  0.0       \n",
       "  0.0       \n",
       "  3.33705e-8\n",
       " -2.5119e-8 \n",
       " -4.72373e-5"
      ]
     },
     "metadata": {},
     "output_type": "display_data"
    },
    {
     "name": "stdout",
     "output_type": "stream",
     "text": [
      "elapsed time: 0.733019713 seconds\n"
     ]
    },
    {
     "data": {
      "text/plain": [
       "6-element Array{Float64,1}:\n",
       "  0.0       \n",
       "  0.0       \n",
       "  0.0       \n",
       " -8.02329e-6\n",
       " -5.0116e-8 \n",
       " -1.70304e-6"
      ]
     },
     "metadata": {},
     "output_type": "display_data"
    },
    {
     "data": {
      "text/plain": [
       "6-element Array{Float64,1}:\n",
       "  0.0       \n",
       "  0.0       \n",
       "  0.0       \n",
       " -8.02329e-6\n",
       " -5.0116e-8 \n",
       " -1.70304e-6"
      ]
     },
     "metadata": {},
     "output_type": "display_data"
    },
    {
     "name": "stdout",
     "output_type": "stream",
     "text": [
      "elapsed time: 0.750492015 seconds\n"
     ]
    },
    {
     "data": {
      "text/plain": [
       "6-element Array{Float64,1}:\n",
       "  1.61559e-27\n",
       "  0.0        \n",
       "  0.0        \n",
       " -8.03185e-6 \n",
       "  3.57741e-8 \n",
       " -1.24999e-6 "
      ]
     },
     "metadata": {},
     "output_type": "display_data"
    },
    {
     "data": {
      "text/plain": [
       "6-element Array{Float64,1}:\n",
       "  1.61559e-27\n",
       "  0.0        \n",
       "  0.0        \n",
       " -8.03185e-6 \n",
       "  3.57741e-8 \n",
       " -1.24999e-6 "
      ]
     },
     "metadata": {},
     "output_type": "display_data"
    },
    {
     "name": "stdout",
     "output_type": "stream",
     "text": [
      "elapsed time: 0.737447261 seconds\n"
     ]
    },
    {
     "data": {
      "text/plain": [
       "6-element Array{Float64,1}:\n",
       "  0.0       \n",
       "  0.0       \n",
       "  0.0       \n",
       " -8.02839e-6\n",
       " -5.45237e-8\n",
       " -1.20373e-6"
      ]
     },
     "metadata": {},
     "output_type": "display_data"
    },
    {
     "data": {
      "text/plain": [
       "6-element Array{Float64,1}:\n",
       "  0.0       \n",
       "  0.0       \n",
       "  0.0       \n",
       " -8.02839e-6\n",
       " -5.45237e-8\n",
       " -1.20373e-6"
      ]
     },
     "metadata": {},
     "output_type": "display_data"
    },
    {
     "name": "stdout",
     "output_type": "stream",
     "text": [
      "elapsed time: 0.734166992 seconds\n"
     ]
    },
    {
     "data": {
      "text/plain": [
       "6-element Array{Float64,1}:\n",
       "  0.0       \n",
       "  0.0       \n",
       "  0.0       \n",
       " -8.04075e-6\n",
       "  1.39352e-7\n",
       " -1.09704e-6"
      ]
     },
     "metadata": {},
     "output_type": "display_data"
    },
    {
     "data": {
      "text/plain": [
       "6-element Array{Float64,1}:\n",
       "  0.0       \n",
       "  0.0       \n",
       "  0.0       \n",
       " -8.04075e-6\n",
       "  1.39352e-7\n",
       " -1.09704e-6"
      ]
     },
     "metadata": {},
     "output_type": "display_data"
    },
    {
     "name": "stdout",
     "output_type": "stream",
     "text": [
      "elapsed time: 0.730922842 seconds\n"
     ]
    },
    {
     "data": {
      "text/plain": [
       "6-element Array{Float64,1}:\n",
       "  0.0       \n",
       "  0.0       \n",
       "  0.0       \n",
       " -8.04326e-6\n",
       " -1.5349e-8 \n",
       " -1.58261e-7"
      ]
     },
     "metadata": {},
     "output_type": "display_data"
    },
    {
     "data": {
      "text/plain": [
       "6-element Array{Float64,1}:\n",
       "  0.0       \n",
       "  0.0       \n",
       "  0.0       \n",
       " -8.04326e-6\n",
       " -1.5349e-8 \n",
       " -1.58261e-7"
      ]
     },
     "metadata": {},
     "output_type": "display_data"
    },
    {
     "name": "stdout",
     "output_type": "stream",
     "text": [
      "elapsed time: 0.745050677 seconds\n"
     ]
    },
    {
     "data": {
      "text/plain": [
       "6-element Array{Float64,1}:\n",
       "  0.0       \n",
       "  0.0       \n",
       "  0.0       \n",
       " -8.04311e-6\n",
       " -1.56666e-8\n",
       "  5.32002e-9"
      ]
     },
     "metadata": {},
     "output_type": "display_data"
    },
    {
     "data": {
      "text/plain": [
       "6-element Array{Float64,1}:\n",
       "  0.0       \n",
       "  0.0       \n",
       "  0.0       \n",
       " -8.04311e-6\n",
       " -1.56666e-8\n",
       "  5.32002e-9"
      ]
     },
     "metadata": {},
     "output_type": "display_data"
    },
    {
     "name": "stdout",
     "output_type": "stream",
     "text": [
      "elapsed time: 0.763088466 seconds\n"
     ]
    },
    {
     "data": {
      "text/plain": [
       "6-element Array{Float64,1}:\n",
       "  0.0       \n",
       "  0.0       \n",
       "  0.0       \n",
       " -8.03772e-6\n",
       " -6.33712e-8\n",
       "  1.58087e-7"
      ]
     },
     "metadata": {},
     "output_type": "display_data"
    },
    {
     "data": {
      "text/plain": [
       "6-element Array{Float64,1}:\n",
       "  0.0       \n",
       "  0.0       \n",
       "  0.0       \n",
       " -8.03772e-6\n",
       " -6.33712e-8\n",
       "  1.58087e-7"
      ]
     },
     "metadata": {},
     "output_type": "display_data"
    },
    {
     "name": "stdout",
     "output_type": "stream",
     "text": [
      "elapsed time: 0.72074288 seconds\n"
     ]
    },
    {
     "data": {
      "text/plain": [
       "6-element Array{Float64,1}:\n",
       "  0.0       \n",
       "  0.0       \n",
       "  0.0       \n",
       " -8.04311e-6\n",
       " -1.56666e-8\n",
       "  5.32002e-9"
      ]
     },
     "metadata": {},
     "output_type": "display_data"
    },
    {
     "data": {
      "text/plain": [
       "6-element Array{Float64,1}:\n",
       "  0.0       \n",
       "  0.0       \n",
       "  0.0       \n",
       " -8.04311e-6\n",
       " -1.56666e-8\n",
       "  5.32002e-9"
      ]
     },
     "metadata": {},
     "output_type": "display_data"
    },
    {
     "name": "stdout",
     "output_type": "stream",
     "text": [
      "elapsed time: 0.773060572 seconds\n"
     ]
    },
    {
     "data": {
      "text/plain": [
       "6-element Array{Float64,1}:\n",
       " -8.07794e-28\n",
       "  0.0        \n",
       "  6.46235e-27\n",
       " -8.03833e-6 \n",
       " -3.75282e-8 \n",
       "  3.50045e-9 "
      ]
     },
     "metadata": {},
     "output_type": "display_data"
    },
    {
     "data": {
      "text/plain": [
       "6-element Array{Float64,1}:\n",
       " -8.07794e-28\n",
       "  0.0        \n",
       "  6.46235e-27\n",
       " -8.03833e-6 \n",
       " -3.75282e-8 \n",
       "  3.50045e-9 "
      ]
     },
     "metadata": {},
     "output_type": "display_data"
    },
    {
     "name": "stdout",
     "output_type": "stream",
     "text": [
      "elapsed time: 0.732204405 seconds\n"
     ]
    },
    {
     "data": {
      "text/plain": [
       "6-element Array{Float64,1}:\n",
       "  0.0        \n",
       "  0.0        \n",
       " -3.23117e-27\n",
       " -8.03589e-6 \n",
       " -2.37604e-8 \n",
       "  3.16674e-8 "
      ]
     },
     "metadata": {},
     "output_type": "display_data"
    },
    {
     "data": {
      "text/plain": [
       "6-element Array{Float64,1}:\n",
       "  0.0        \n",
       "  0.0        \n",
       " -3.23117e-27\n",
       " -8.03589e-6 \n",
       " -2.37604e-8 \n",
       "  3.16674e-8 "
      ]
     },
     "metadata": {},
     "output_type": "display_data"
    },
    {
     "name": "stdout",
     "output_type": "stream",
     "text": [
      "elapsed time: 0.751427668 seconds\n"
     ]
    },
    {
     "data": {
      "text/plain": [
       "6-element Array{Float64,1}:\n",
       "  0.0       \n",
       "  0.0       \n",
       "  0.0       \n",
       " -8.03088e-6\n",
       "  2.13071e-9\n",
       " -9.86682e-8"
      ]
     },
     "metadata": {},
     "output_type": "display_data"
    },
    {
     "data": {
      "text/plain": [
       "6-element Array{Float64,1}:\n",
       "  0.0       \n",
       "  0.0       \n",
       "  0.0       \n",
       " -8.03088e-6\n",
       "  2.13071e-9\n",
       " -9.86682e-8"
      ]
     },
     "metadata": {},
     "output_type": "display_data"
    },
    {
     "name": "stdout",
     "output_type": "stream",
     "text": [
      "elapsed time: 0.753554345 seconds\n"
     ]
    },
    {
     "data": {
      "text/plain": [
       "6-element Array{Float64,1}:\n",
       "  8.07794e-28\n",
       "  0.0        \n",
       " -3.23117e-27\n",
       " -8.04426e-6 \n",
       "  3.18348e-8 \n",
       "  3.26278e-10"
      ]
     },
     "metadata": {},
     "output_type": "display_data"
    },
    {
     "data": {
      "text/plain": [
       "6-element Array{Float64,1}:\n",
       "  8.07794e-28\n",
       "  0.0        \n",
       " -3.23117e-27\n",
       " -8.04426e-6 \n",
       "  3.18348e-8 \n",
       "  3.26278e-10"
      ]
     },
     "metadata": {},
     "output_type": "display_data"
    },
    {
     "name": "stdout",
     "output_type": "stream",
     "text": [
      "elapsed time: 0.734070831 seconds\n"
     ]
    },
    {
     "data": {
      "text/plain": [
       "6-element Array{Float64,1}:\n",
       "  0.0       \n",
       "  0.0       \n",
       "  0.0       \n",
       " -8.02911e-6\n",
       "  2.09579e-8\n",
       " -2.189e-8  "
      ]
     },
     "metadata": {},
     "output_type": "display_data"
    },
    {
     "data": {
      "text/plain": [
       "6-element Array{Float64,1}:\n",
       "  0.0       \n",
       "  0.0       \n",
       "  0.0       \n",
       " -8.02911e-6\n",
       "  2.09579e-8\n",
       " -2.189e-8  "
      ]
     },
     "metadata": {},
     "output_type": "display_data"
    },
    {
     "name": "stdout",
     "output_type": "stream",
     "text": [
      "elapsed time: 0.727966505 seconds\n"
     ]
    },
    {
     "data": {
      "text/plain": [
       "6-element Array{Float64,1}:\n",
       " -1.61559e-27\n",
       "  0.0        \n",
       "  1.29247e-26\n",
       " -8.03772e-6 \n",
       " -8.20136e-8 \n",
       "  6.57058e-8 "
      ]
     },
     "metadata": {},
     "output_type": "display_data"
    },
    {
     "data": {
      "text/plain": [
       "6-element Array{Float64,1}:\n",
       " -1.61559e-27\n",
       "  0.0        \n",
       "  1.29247e-26\n",
       " -8.03772e-6 \n",
       " -8.20136e-8 \n",
       "  6.57058e-8 "
      ]
     },
     "metadata": {},
     "output_type": "display_data"
    },
    {
     "name": "stdout",
     "output_type": "stream",
     "text": [
      "elapsed time: 0.760274 seconds\n"
     ]
    },
    {
     "data": {
      "text/plain": [
       "6-element Array{Float64,1}:\n",
       "  8.07794e-28\n",
       "  0.0        \n",
       "  6.46235e-27\n",
       " -8.03605e-6 \n",
       " -5.50389e-8 \n",
       "  8.41654e-8 "
      ]
     },
     "metadata": {},
     "output_type": "display_data"
    },
    {
     "data": {
      "text/plain": [
       "6-element Array{Float64,1}:\n",
       "  8.07794e-28\n",
       "  0.0        \n",
       "  6.46235e-27\n",
       " -8.03605e-6 \n",
       " -5.50389e-8 \n",
       "  8.41654e-8 "
      ]
     },
     "metadata": {},
     "output_type": "display_data"
    },
    {
     "name": "stdout",
     "output_type": "stream",
     "text": [
      "elapsed time: 0.752850592 seconds\n"
     ]
    },
    {
     "data": {
      "text/plain": [
       "6-element Array{Float64,1}:\n",
       "  0.0       \n",
       "  0.0       \n",
       "  0.0       \n",
       " -8.04958e-6\n",
       "  3.1024e-8 \n",
       "  3.49493e-8"
      ]
     },
     "metadata": {},
     "output_type": "display_data"
    },
    {
     "data": {
      "text/plain": [
       "6-element Array{Float64,1}:\n",
       "  0.0       \n",
       "  0.0       \n",
       "  0.0       \n",
       " -8.04958e-6\n",
       "  3.1024e-8 \n",
       "  3.49493e-8"
      ]
     },
     "metadata": {},
     "output_type": "display_data"
    },
    {
     "name": "stdout",
     "output_type": "stream",
     "text": [
      "elapsed time: 0.764091166 seconds\n"
     ]
    },
    {
     "data": {
      "text/plain": [
       "6-element Array{Float64,1}:\n",
       "  4.03897e-28\n",
       "  0.0        \n",
       "  3.23117e-27\n",
       " -8.01564e-6 \n",
       " -2.4039e-8  \n",
       " -3.52636e-7 "
      ]
     },
     "metadata": {},
     "output_type": "display_data"
    },
    {
     "data": {
      "text/plain": [
       "6-element Array{Float64,1}:\n",
       "  4.03897e-28\n",
       "  0.0        \n",
       "  3.23117e-27\n",
       " -8.01564e-6 \n",
       " -2.4039e-8  \n",
       " -3.52636e-7 "
      ]
     },
     "metadata": {},
     "output_type": "display_data"
    },
    {
     "name": "stdout",
     "output_type": "stream",
     "text": [
      "elapsed time: 0.732208193 seconds\n"
     ]
    },
    {
     "data": {
      "text/plain": [
       "6-element Array{Float64,1}:\n",
       "  0.0       \n",
       "  0.0       \n",
       "  0.0       \n",
       " -8.03772e-6\n",
       "  2.25552e-8\n",
       " -2.528e-8  "
      ]
     },
     "metadata": {},
     "output_type": "display_data"
    },
    {
     "data": {
      "text/plain": [
       "6-element Array{Float64,1}:\n",
       "  0.0       \n",
       "  0.0       \n",
       "  0.0       \n",
       " -8.03772e-6\n",
       "  2.25552e-8\n",
       " -2.528e-8  "
      ]
     },
     "metadata": {},
     "output_type": "display_data"
    },
    {
     "name": "stdout",
     "output_type": "stream",
     "text": [
      "elapsed time: 0.747607845 seconds\n"
     ]
    },
    {
     "data": {
      "text/plain": [
       "6-element Array{Float64,1}:\n",
       "  0.0       \n",
       "  0.0       \n",
       "  0.0       \n",
       " -8.05211e-6\n",
       " -1.05562e-8\n",
       "  6.32818e-8"
      ]
     },
     "metadata": {},
     "output_type": "display_data"
    },
    {
     "data": {
      "text/plain": [
       "6-element Array{Float64,1}:\n",
       "  0.0       \n",
       "  0.0       \n",
       "  0.0       \n",
       " -8.05211e-6\n",
       " -1.05562e-8\n",
       "  6.32818e-8"
      ]
     },
     "metadata": {},
     "output_type": "display_data"
    },
    {
     "name": "stdout",
     "output_type": "stream",
     "text": [
      "elapsed time: 0.727924081 seconds\n"
     ]
    },
    {
     "data": {
      "text/plain": [
       "6-element Array{Float64,1}:\n",
       "  0.0        \n",
       "  0.0        \n",
       "  3.23117e-27\n",
       " -8.02178e-6 \n",
       " -2.35388e-8 \n",
       "  3.81844e-8 "
      ]
     },
     "metadata": {},
     "output_type": "display_data"
    },
    {
     "data": {
      "text/plain": [
       "6-element Array{Float64,1}:\n",
       "  0.0        \n",
       "  0.0        \n",
       "  3.23117e-27\n",
       " -8.02178e-6 \n",
       " -2.35388e-8 \n",
       "  3.81844e-8 "
      ]
     },
     "metadata": {},
     "output_type": "display_data"
    },
    {
     "name": "stdout",
     "output_type": "stream",
     "text": [
      "elapsed time: 0.760348746 seconds\n"
     ]
    },
    {
     "data": {
      "text/plain": [
       "6-element Array{Float64,1}:\n",
       " -8.07794e-28\n",
       "  0.0        \n",
       "  0.0        \n",
       " -8.03695e-6 \n",
       "  5.86869e-8 \n",
       " -4.02667e-8 "
      ]
     },
     "metadata": {},
     "output_type": "display_data"
    },
    {
     "data": {
      "text/plain": [
       "6-element Array{Float64,1}:\n",
       " -8.07794e-28\n",
       "  0.0        \n",
       "  0.0        \n",
       " -8.03695e-6 \n",
       "  5.86869e-8 \n",
       " -4.02667e-8 "
      ]
     },
     "metadata": {},
     "output_type": "display_data"
    },
    {
     "name": "stdout",
     "output_type": "stream",
     "text": [
      "elapsed time: 0.803128794 seconds\n"
     ]
    },
    {
     "data": {
      "text/plain": [
       "6-element Array{Float64,1}:\n",
       "  0.0        \n",
       "  0.0        \n",
       " -8.07794e-28\n",
       " -8.02654e-6 \n",
       "  7.81652e-9 \n",
       " -4.04227e-8 "
      ]
     },
     "metadata": {},
     "output_type": "display_data"
    },
    {
     "data": {
      "text/plain": [
       "6-element Array{Float64,1}:\n",
       "  0.0        \n",
       "  0.0        \n",
       " -8.07794e-28\n",
       " -8.02654e-6 \n",
       "  7.81652e-9 \n",
       " -4.04227e-8 "
      ]
     },
     "metadata": {},
     "output_type": "display_data"
    },
    {
     "name": "stdout",
     "output_type": "stream",
     "text": [
      "elapsed time: 0.757123996 seconds\n"
     ]
    },
    {
     "data": {
      "text/plain": [
       "6-element Array{Float64,1}:\n",
       "  0.0       \n",
       "  0.0       \n",
       "  0.0       \n",
       " -8.02549e-6\n",
       " -5.34931e-8\n",
       " -2.09198e-9"
      ]
     },
     "metadata": {},
     "output_type": "display_data"
    },
    {
     "data": {
      "text/plain": [
       "6-element Array{Float64,1}:\n",
       "  0.0       \n",
       "  0.0       \n",
       "  0.0       \n",
       " -8.02549e-6\n",
       " -5.34931e-8\n",
       " -2.09198e-9"
      ]
     },
     "metadata": {},
     "output_type": "display_data"
    },
    {
     "name": "stdout",
     "output_type": "stream",
     "text": [
      "elapsed time: 0.799395223 seconds\n"
     ]
    },
    {
     "data": {
      "text/plain": [
       "6-element Array{Float64,1}:\n",
       "  2.01948e-28\n",
       "  0.0        \n",
       "  1.61559e-27\n",
       " -8.02804e-6 \n",
       " -1.20078e-8 \n",
       " -3.40438e-7 "
      ]
     },
     "metadata": {},
     "output_type": "display_data"
    },
    {
     "data": {
      "text/plain": [
       "6-element Array{Float64,1}:\n",
       "  2.01948e-28\n",
       "  0.0        \n",
       "  1.61559e-27\n",
       " -8.02804e-6 \n",
       " -1.20078e-8 \n",
       " -3.40438e-7 "
      ]
     },
     "metadata": {},
     "output_type": "display_data"
    },
    {
     "name": "stdout",
     "output_type": "stream",
     "text": [
      "elapsed time: 0.774474495 seconds\n"
     ]
    },
    {
     "data": {
      "text/plain": [
       "6-element Array{Float64,1}:\n",
       "  0.0       \n",
       "  0.0       \n",
       "  0.0       \n",
       " -8.04136e-6\n",
       "  1.06255e-8\n",
       " -6.8744e-9 "
      ]
     },
     "metadata": {},
     "output_type": "display_data"
    },
    {
     "data": {
      "text/plain": [
       "6-element Array{Float64,1}:\n",
       "  0.0       \n",
       "  0.0       \n",
       "  0.0       \n",
       " -8.04136e-6\n",
       "  1.06255e-8\n",
       " -6.8744e-9 "
      ]
     },
     "metadata": {},
     "output_type": "display_data"
    },
    {
     "name": "stdout",
     "output_type": "stream",
     "text": [
      "elapsed time: 0.737903013 seconds\n"
     ]
    },
    {
     "data": {
      "text/plain": [
       "6-element Array{Float64,1}:\n",
       "  0.0       \n",
       "  0.0       \n",
       "  0.0       \n",
       " -8.03077e-6\n",
       " -1.05966e-7\n",
       "  5.4009e-8 "
      ]
     },
     "metadata": {},
     "output_type": "display_data"
    },
    {
     "data": {
      "text/plain": [
       "6-element Array{Float64,1}:\n",
       "  0.0       \n",
       "  0.0       \n",
       "  0.0       \n",
       " -8.03077e-6\n",
       " -1.05966e-7\n",
       "  5.4009e-8 "
      ]
     },
     "metadata": {},
     "output_type": "display_data"
    },
    {
     "name": "stdout",
     "output_type": "stream",
     "text": [
      "elapsed time: 0.763187608 seconds\n"
     ]
    },
    {
     "data": {
      "text/plain": [
       "6-element Array{Float64,1}:\n",
       "  0.0       \n",
       "  0.0       \n",
       "  0.0       \n",
       " -8.04276e-6\n",
       "  1.55006e-8\n",
       "  5.75232e-8"
      ]
     },
     "metadata": {},
     "output_type": "display_data"
    },
    {
     "data": {
      "text/plain": [
       "6-element Array{Float64,1}:\n",
       "  0.0       \n",
       "  0.0       \n",
       "  0.0       \n",
       " -8.04276e-6\n",
       "  1.55006e-8\n",
       "  5.75232e-8"
      ]
     },
     "metadata": {},
     "output_type": "display_data"
    },
    {
     "name": "stdout",
     "output_type": "stream",
     "text": [
      "elapsed time: 0.869549336 seconds\n"
     ]
    },
    {
     "data": {
      "text/plain": [
       "6-element Array{Float64,1}:\n",
       "  0.0       \n",
       "  0.0       \n",
       "  0.0       \n",
       " -8.03218e-6\n",
       "  3.02358e-8\n",
       "  7.04798e-9"
      ]
     },
     "metadata": {},
     "output_type": "display_data"
    },
    {
     "data": {
      "text/plain": [
       "6-element Array{Float64,1}:\n",
       "  0.0       \n",
       "  0.0       \n",
       "  0.0       \n",
       " -8.03218e-6\n",
       "  3.02358e-8\n",
       "  7.04798e-9"
      ]
     },
     "metadata": {},
     "output_type": "display_data"
    },
    {
     "name": "stdout",
     "output_type": "stream",
     "text": [
      "elapsed time: 0.760546862 seconds\n"
     ]
    },
    {
     "data": {
      "text/plain": [
       "6-element Array{Float64,1}:\n",
       "  0.0        \n",
       "  0.0        \n",
       " -1.29247e-26\n",
       " -8.03458e-6 \n",
       "  1.4312e-7  \n",
       " -4.21032e-8 "
      ]
     },
     "metadata": {},
     "output_type": "display_data"
    },
    {
     "data": {
      "text/plain": [
       "6-element Array{Float64,1}:\n",
       "  0.0        \n",
       "  0.0        \n",
       " -1.29247e-26\n",
       " -8.03458e-6 \n",
       "  1.4312e-7  \n",
       " -4.21032e-8 "
      ]
     },
     "metadata": {},
     "output_type": "display_data"
    },
    {
     "name": "stdout",
     "output_type": "stream",
     "text": [
      "elapsed time: 0.733924092 seconds\n"
     ]
    },
    {
     "data": {
      "text/plain": [
       "6-element Array{Float64,1}:\n",
       "  0.0        \n",
       "  0.0        \n",
       "  3.23117e-27\n",
       " -8.0409e-6  \n",
       " -3.50545e-8 \n",
       " -5.44555e-8 "
      ]
     },
     "metadata": {},
     "output_type": "display_data"
    },
    {
     "data": {
      "text/plain": [
       "6-element Array{Float64,1}:\n",
       "  0.0        \n",
       "  0.0        \n",
       "  3.23117e-27\n",
       " -8.0409e-6  \n",
       " -3.50545e-8 \n",
       " -5.44555e-8 "
      ]
     },
     "metadata": {},
     "output_type": "display_data"
    },
    {
     "name": "stdout",
     "output_type": "stream",
     "text": [
      "elapsed time: 0.739797788 seconds\n"
     ]
    },
    {
     "data": {
      "text/plain": [
       "6-element Array{Float64,1}:\n",
       "  0.0        \n",
       "  0.0        \n",
       " -1.26218e-29\n",
       " -8.03556e-6 \n",
       " -7.64824e-11\n",
       " -3.6749e-9  "
      ]
     },
     "metadata": {},
     "output_type": "display_data"
    },
    {
     "data": {
      "text/plain": [
       "6-element Array{Float64,1}:\n",
       "  0.0        \n",
       "  0.0        \n",
       " -1.26218e-29\n",
       " -8.03556e-6 \n",
       " -7.64824e-11\n",
       " -3.6749e-9  "
      ]
     },
     "metadata": {},
     "output_type": "display_data"
    },
    {
     "name": "stdout",
     "output_type": "stream",
     "text": [
      "elapsed time: 0.738905592 seconds\n"
     ]
    },
    {
     "data": {
      "text/plain": [
       "6-element Array{Float64,1}:\n",
       "  0.0       \n",
       "  0.0       \n",
       "  0.0       \n",
       " -8.03206e-6\n",
       " -9.64602e-9\n",
       " -2.28995e-9"
      ]
     },
     "metadata": {},
     "output_type": "display_data"
    },
    {
     "data": {
      "text/plain": [
       "6-element Array{Float64,1}:\n",
       "  0.0       \n",
       "  0.0       \n",
       "  0.0       \n",
       " -8.03206e-6\n",
       " -9.64602e-9\n",
       " -2.28995e-9"
      ]
     },
     "metadata": {},
     "output_type": "display_data"
    },
    {
     "name": "stdout",
     "output_type": "stream",
     "text": [
      "elapsed time: 0.99271611 seconds\n"
     ]
    },
    {
     "data": {
      "text/plain": [
       "6-element Array{Float64,1}:\n",
       "  0.0       \n",
       "  0.0       \n",
       "  0.0       \n",
       " -8.03531e-6\n",
       "  9.74647e-9\n",
       "  5.96722e-8"
      ]
     },
     "metadata": {},
     "output_type": "display_data"
    },
    {
     "data": {
      "text/plain": [
       "6-element Array{Float64,1}:\n",
       "  0.0       \n",
       "  0.0       \n",
       "  0.0       \n",
       " -8.03531e-6\n",
       "  9.74647e-9\n",
       "  5.96722e-8"
      ]
     },
     "metadata": {},
     "output_type": "display_data"
    },
    {
     "name": "stdout",
     "output_type": "stream",
     "text": [
      "elapsed time: 0.744176246 seconds\n"
     ]
    },
    {
     "data": {
      "text/plain": [
       "6-element Array{Float64,1}:\n",
       "  0.0        \n",
       "  0.0        \n",
       "  6.46235e-27\n",
       " -8.05123e-6 \n",
       " -5.14107e-8 \n",
       " -1.59532e-8 "
      ]
     },
     "metadata": {},
     "output_type": "display_data"
    },
    {
     "data": {
      "text/plain": [
       "6-element Array{Float64,1}:\n",
       "  0.0        \n",
       "  0.0        \n",
       "  6.46235e-27\n",
       " -8.05123e-6 \n",
       " -5.14107e-8 \n",
       " -1.59532e-8 "
      ]
     },
     "metadata": {},
     "output_type": "display_data"
    },
    {
     "name": "stdout",
     "output_type": "stream",
     "text": [
      "elapsed time: 0.738782805 seconds\n"
     ]
    },
    {
     "data": {
      "text/plain": [
       "6-element Array{Float64,1}:\n",
       "  0.0       \n",
       "  0.0       \n",
       "  0.0       \n",
       " -8.03447e-6\n",
       "  1.44337e-9\n",
       "  1.92095e-8"
      ]
     },
     "metadata": {},
     "output_type": "display_data"
    },
    {
     "data": {
      "text/plain": [
       "6-element Array{Float64,1}:\n",
       "  0.0       \n",
       "  0.0       \n",
       "  0.0       \n",
       " -8.03447e-6\n",
       "  1.44337e-9\n",
       "  1.92095e-8"
      ]
     },
     "metadata": {},
     "output_type": "display_data"
    },
    {
     "name": "stdout",
     "output_type": "stream",
     "text": [
      "elapsed time: 0.743381433 seconds\n"
     ]
    },
    {
     "data": {
      "text/plain": [
       "6-element Array{Float64,1}:\n",
       "  2.01948e-28\n",
       "  0.0        \n",
       "  1.61559e-27\n",
       " -8.02728e-6 \n",
       " -1.19482e-8 \n",
       "  5.86545e-8 "
      ]
     },
     "metadata": {},
     "output_type": "display_data"
    },
    {
     "data": {
      "text/plain": [
       "6-element Array{Float64,1}:\n",
       "  2.01948e-28\n",
       "  0.0        \n",
       "  1.61559e-27\n",
       " -8.02728e-6 \n",
       " -1.19482e-8 \n",
       "  5.86545e-8 "
      ]
     },
     "metadata": {},
     "output_type": "display_data"
    },
    {
     "name": "stdout",
     "output_type": "stream",
     "text": [
      "elapsed time: 0.741185278 seconds\n"
     ]
    },
    {
     "data": {
      "text/plain": [
       "6-element Array{Float64,1}:\n",
       "  0.0        \n",
       "  0.0        \n",
       "  6.46235e-27\n",
       " -8.02109e-6 \n",
       " -4.81629e-8 \n",
       " -5.56666e-8 "
      ]
     },
     "metadata": {},
     "output_type": "display_data"
    },
    {
     "data": {
      "text/plain": [
       "6-element Array{Float64,1}:\n",
       "  0.0        \n",
       "  0.0        \n",
       "  6.46235e-27\n",
       " -8.02109e-6 \n",
       " -4.81629e-8 \n",
       " -5.56666e-8 "
      ]
     },
     "metadata": {},
     "output_type": "display_data"
    },
    {
     "name": "stdout",
     "output_type": "stream",
     "text": [
      "elapsed time: 0.750214624 seconds\n"
     ]
    },
    {
     "data": {
      "text/plain": [
       "6-element Array{Float64,1}:\n",
       " -2.01948e-28\n",
       "  0.0        \n",
       " -1.61559e-27\n",
       " -8.02747e-6 \n",
       "  1.32223e-8 \n",
       "  1.29254e-8 "
      ]
     },
     "metadata": {},
     "output_type": "display_data"
    },
    {
     "data": {
      "text/plain": [
       "6-element Array{Float64,1}:\n",
       " -2.01948e-28\n",
       "  0.0        \n",
       " -1.61559e-27\n",
       " -8.02747e-6 \n",
       "  1.32223e-8 \n",
       "  1.29254e-8 "
      ]
     },
     "metadata": {},
     "output_type": "display_data"
    },
    {
     "name": "stdout",
     "output_type": "stream",
     "text": [
      "elapsed time: 0.752161913 seconds\n"
     ]
    },
    {
     "data": {
      "text/plain": [
       "6-element Array{Float64,1}:\n",
       "  8.07794e-28\n",
       "  0.0        \n",
       "  0.0        \n",
       " -8.03165e-6 \n",
       "  3.7013e-8  \n",
       "  8.96743e-9 "
      ]
     },
     "metadata": {},
     "output_type": "display_data"
    },
    {
     "data": {
      "text/plain": [
       "6-element Array{Float64,1}:\n",
       "  8.07794e-28\n",
       "  0.0        \n",
       "  0.0        \n",
       " -8.03165e-6 \n",
       "  3.7013e-8  \n",
       "  8.96743e-9 "
      ]
     },
     "metadata": {},
     "output_type": "display_data"
    },
    {
     "name": "stdout",
     "output_type": "stream",
     "text": [
      "elapsed time: 0.747043257 seconds\n"
     ]
    },
    {
     "data": {
      "text/plain": [
       "6-element Array{Float64,1}:\n",
       " -8.07794e-28\n",
       "  0.0        \n",
       "  0.0        \n",
       " -8.03719e-6 \n",
       "  4.01524e-8 \n",
       " -8.37425e-8 "
      ]
     },
     "metadata": {},
     "output_type": "display_data"
    },
    {
     "data": {
      "text/plain": [
       "6-element Array{Float64,1}:\n",
       " -8.07794e-28\n",
       "  0.0        \n",
       "  0.0        \n",
       " -8.03719e-6 \n",
       "  4.01524e-8 \n",
       " -8.37425e-8 "
      ]
     },
     "metadata": {},
     "output_type": "display_data"
    },
    {
     "name": "stdout",
     "output_type": "stream",
     "text": [
      "elapsed time: 0.758991972 seconds\n"
     ]
    },
    {
     "data": {
      "text/plain": [
       "6-element Array{Float64,1}:\n",
       "  0.0       \n",
       "  0.0       \n",
       "  0.0       \n",
       " -8.01943e-6\n",
       " -1.81941e-8\n",
       " -2.3915e-8 "
      ]
     },
     "metadata": {},
     "output_type": "display_data"
    },
    {
     "data": {
      "text/plain": [
       "6-element Array{Float64,1}:\n",
       "  0.0       \n",
       "  0.0       \n",
       "  0.0       \n",
       " -8.01943e-6\n",
       " -1.81941e-8\n",
       " -2.3915e-8 "
      ]
     },
     "metadata": {},
     "output_type": "display_data"
    },
    {
     "name": "stdout",
     "output_type": "stream",
     "text": [
      "elapsed time: 0.743149948 seconds\n"
     ]
    },
    {
     "data": {
      "text/plain": [
       "6-element Array{Float64,1}:\n",
       "  1.00974e-28\n",
       "  0.0        \n",
       " -8.07794e-28\n",
       " -8.03007e-6 \n",
       "  5.7623e-9  \n",
       " -6.08017e-9 "
      ]
     },
     "metadata": {},
     "output_type": "display_data"
    },
    {
     "data": {
      "text/plain": [
       "6-element Array{Float64,1}:\n",
       "  1.00974e-28\n",
       "  0.0        \n",
       " -8.07794e-28\n",
       " -8.03007e-6 \n",
       "  5.7623e-9  \n",
       " -6.08017e-9 "
      ]
     },
     "metadata": {},
     "output_type": "display_data"
    },
    {
     "name": "stdout",
     "output_type": "stream",
     "text": [
      "elapsed time: 0.740288391 seconds\n"
     ]
    },
    {
     "data": {
      "text/plain": [
       "6-element Array{Float64,1}:\n",
       "  0.0       \n",
       "  0.0       \n",
       "  0.0       \n",
       " -8.02449e-6\n",
       " -5.23784e-8\n",
       " -4.87786e-8"
      ]
     },
     "metadata": {},
     "output_type": "display_data"
    },
    {
     "data": {
      "text/plain": [
       "6-element Array{Float64,1}:\n",
       "  0.0       \n",
       "  0.0       \n",
       "  0.0       \n",
       " -8.02449e-6\n",
       " -5.23784e-8\n",
       " -4.87786e-8"
      ]
     },
     "metadata": {},
     "output_type": "display_data"
    },
    {
     "name": "stdout",
     "output_type": "stream",
     "text": [
      "elapsed time: 0.74478328 seconds\n"
     ]
    },
    {
     "data": {
      "text/plain": [
       "6-element Array{Float64,1}:\n",
       "  0.0       \n",
       "  0.0       \n",
       "  0.0       \n",
       " -8.0202e-6 \n",
       "  3.47953e-8\n",
       "  8.25345e-8"
      ]
     },
     "metadata": {},
     "output_type": "display_data"
    },
    {
     "data": {
      "text/plain": [
       "6-element Array{Float64,1}:\n",
       "  0.0       \n",
       "  0.0       \n",
       "  0.0       \n",
       " -8.0202e-6 \n",
       "  3.47953e-8\n",
       "  8.25345e-8"
      ]
     },
     "metadata": {},
     "output_type": "display_data"
    },
    {
     "name": "stdout",
     "output_type": "stream",
     "text": [
      "elapsed time: 0.915444955 seconds\n"
     ]
    },
    {
     "data": {
      "text/plain": [
       "6-element Array{Float64,1}:\n",
       "  0.0       \n",
       "  0.0       \n",
       "  0.0       \n",
       " -8.04745e-6\n",
       "  5.16082e-8\n",
       " -8.45478e-8"
      ]
     },
     "metadata": {},
     "output_type": "display_data"
    },
    {
     "data": {
      "text/plain": [
       "6-element Array{Float64,1}:\n",
       "  0.0       \n",
       "  0.0       \n",
       "  0.0       \n",
       " -8.04745e-6\n",
       "  5.16082e-8\n",
       " -8.45478e-8"
      ]
     },
     "metadata": {},
     "output_type": "display_data"
    },
    {
     "name": "stdout",
     "output_type": "stream",
     "text": [
      "elapsed time: 1.167267822 seconds\n"
     ]
    },
    {
     "data": {
      "text/plain": [
       "6-element Array{Float64,1}:\n",
       "  0.0       \n",
       "  0.0       \n",
       "  0.0       \n",
       " -8.03006e-6\n",
       " -1.21132e-8\n",
       " -1.91678e-8"
      ]
     },
     "metadata": {},
     "output_type": "display_data"
    },
    {
     "data": {
      "text/plain": [
       "6-element Array{Float64,1}:\n",
       "  0.0       \n",
       "  0.0       \n",
       "  0.0       \n",
       " -8.03006e-6\n",
       " -1.21132e-8\n",
       " -1.91678e-8"
      ]
     },
     "metadata": {},
     "output_type": "display_data"
    },
    {
     "name": "stdout",
     "output_type": "stream",
     "text": [
      "elapsed time: 0.832388425 seconds\n"
     ]
    },
    {
     "data": {
      "text/plain": [
       "6-element Array{Float64,1}:\n",
       "  0.0       \n",
       "  0.0       \n",
       "  0.0       \n",
       " -8.03735e-6\n",
       "  4.10147e-8\n",
       "  1.4879e-7 "
      ]
     },
     "metadata": {},
     "output_type": "display_data"
    },
    {
     "data": {
      "text/plain": [
       "6-element Array{Float64,1}:\n",
       "  0.0       \n",
       "  0.0       \n",
       "  0.0       \n",
       " -8.03735e-6\n",
       "  4.10147e-8\n",
       "  1.4879e-7 "
      ]
     },
     "metadata": {},
     "output_type": "display_data"
    },
    {
     "name": "stdout",
     "output_type": "stream",
     "text": [
      "elapsed time: 0.744668479 seconds\n"
     ]
    },
    {
     "data": {
      "text/plain": [
       "6-element Array{Float64,1}:\n",
       " -4.03897e-28\n",
       "  0.0        \n",
       "  0.0        \n",
       " -8.05728e-6 \n",
       "  2.47931e-8 \n",
       "  7.26053e-8 "
      ]
     },
     "metadata": {},
     "output_type": "display_data"
    },
    {
     "data": {
      "text/plain": [
       "6-element Array{Float64,1}:\n",
       " -4.03897e-28\n",
       "  0.0        \n",
       "  0.0        \n",
       " -8.05728e-6 \n",
       "  2.47931e-8 \n",
       "  7.26053e-8 "
      ]
     },
     "metadata": {},
     "output_type": "display_data"
    },
    {
     "name": "stdout",
     "output_type": "stream",
     "text": [
      "elapsed time: 0.741113959 seconds\n"
     ]
    },
    {
     "data": {
      "text/plain": [
       "6-element Array{Float64,1}:\n",
       "  0.0        \n",
       "  0.0        \n",
       " -6.46235e-27\n",
       " -8.0291e-6  \n",
       "  4.98994e-8 \n",
       "  3.15868e-10"
      ]
     },
     "metadata": {},
     "output_type": "display_data"
    },
    {
     "data": {
      "text/plain": [
       "6-element Array{Float64,1}:\n",
       "  0.0        \n",
       "  0.0        \n",
       " -6.46235e-27\n",
       " -8.0291e-6  \n",
       "  4.98994e-8 \n",
       "  3.15868e-10"
      ]
     },
     "metadata": {},
     "output_type": "display_data"
    },
    {
     "name": "stdout",
     "output_type": "stream",
     "text": [
      "elapsed time: 0.73718115 seconds\n"
     ]
    },
    {
     "data": {
      "text/plain": [
       "6-element Array{Float64,1}:\n",
       "  0.0       \n",
       "  0.0       \n",
       "  0.0       \n",
       " -8.02981e-6\n",
       "  6.5453e-8 \n",
       "  9.08746e-8"
      ]
     },
     "metadata": {},
     "output_type": "display_data"
    },
    {
     "data": {
      "text/plain": [
       "6-element Array{Float64,1}:\n",
       "  0.0       \n",
       "  0.0       \n",
       "  0.0       \n",
       " -8.02981e-6\n",
       "  6.5453e-8 \n",
       "  9.08746e-8"
      ]
     },
     "metadata": {},
     "output_type": "display_data"
    },
    {
     "name": "stdout",
     "output_type": "stream",
     "text": [
      "elapsed time: 0.761770897 seconds\n"
     ]
    },
    {
     "data": {
      "text/plain": [
       "6-element Array{Float64,1}:\n",
       "  0.0       \n",
       "  0.0       \n",
       "  0.0       \n",
       " -8.03688e-6\n",
       "  2.91589e-8\n",
       "  5.94172e-8"
      ]
     },
     "metadata": {},
     "output_type": "display_data"
    },
    {
     "data": {
      "text/plain": [
       "6-element Array{Float64,1}:\n",
       "  0.0       \n",
       "  0.0       \n",
       "  0.0       \n",
       " -8.03688e-6\n",
       "  2.91589e-8\n",
       "  5.94172e-8"
      ]
     },
     "metadata": {},
     "output_type": "display_data"
    },
    {
     "name": "stdout",
     "output_type": "stream",
     "text": [
      "elapsed time: 0.746666683 seconds\n"
     ]
    },
    {
     "data": {
      "text/plain": [
       "6-element Array{Float64,1}:\n",
       "  2.01948e-28\n",
       "  0.0        \n",
       "  0.0        \n",
       " -8.03951e-6 \n",
       " -1.26594e-8 \n",
       "  2.8499e-8  "
      ]
     },
     "metadata": {},
     "output_type": "display_data"
    },
    {
     "data": {
      "text/plain": [
       "6-element Array{Float64,1}:\n",
       "  2.01948e-28\n",
       "  0.0        \n",
       "  0.0        \n",
       " -8.03951e-6 \n",
       " -1.26594e-8 \n",
       "  2.8499e-8  "
      ]
     },
     "metadata": {},
     "output_type": "display_data"
    },
    {
     "name": "stdout",
     "output_type": "stream",
     "text": [
      "elapsed time: 0.739406763 seconds\n"
     ]
    },
    {
     "data": {
      "text/plain": [
       "6-element Array{Float64,1}:\n",
       " -1.61559e-27\n",
       "  0.0        \n",
       "  0.0        \n",
       " -8.02172e-6 \n",
       " -7.74482e-8 \n",
       " -9.59723e-8 "
      ]
     },
     "metadata": {},
     "output_type": "display_data"
    },
    {
     "data": {
      "text/plain": [
       "6-element Array{Float64,1}:\n",
       " -1.61559e-27\n",
       "  0.0        \n",
       "  0.0        \n",
       " -8.02172e-6 \n",
       " -7.74482e-8 \n",
       " -9.59723e-8 "
      ]
     },
     "metadata": {},
     "output_type": "display_data"
    },
    {
     "name": "stdout",
     "output_type": "stream",
     "text": [
      "elapsed time: 0.759118457 seconds\n"
     ]
    },
    {
     "data": {
      "text/plain": [
       "6-element Array{Float64,1}:\n",
       "  0.0       \n",
       "  0.0       \n",
       "  0.0       \n",
       " -8.02466e-6\n",
       " -3.53653e-8\n",
       "  2.17694e-7"
      ]
     },
     "metadata": {},
     "output_type": "display_data"
    },
    {
     "data": {
      "text/plain": [
       "6-element Array{Float64,1}:\n",
       "  0.0       \n",
       "  0.0       \n",
       "  0.0       \n",
       " -8.02466e-6\n",
       " -3.53653e-8\n",
       "  2.17694e-7"
      ]
     },
     "metadata": {},
     "output_type": "display_data"
    },
    {
     "name": "stdout",
     "output_type": "stream",
     "text": [
      "elapsed time: 0.753909784 seconds\n"
     ]
    },
    {
     "data": {
      "text/plain": [
       "6-element Array{Float64,1}:\n",
       "  0.0        \n",
       "  0.0        \n",
       "  6.46235e-27\n",
       " -8.04172e-6 \n",
       " -5.24633e-8 \n",
       "  1.03243e-7 "
      ]
     },
     "metadata": {},
     "output_type": "display_data"
    },
    {
     "data": {
      "text/plain": [
       "6-element Array{Float64,1}:\n",
       "  0.0        \n",
       "  0.0        \n",
       "  6.46235e-27\n",
       " -8.04172e-6 \n",
       " -5.24633e-8 \n",
       "  1.03243e-7 "
      ]
     },
     "metadata": {},
     "output_type": "display_data"
    },
    {
     "name": "stdout",
     "output_type": "stream",
     "text": [
      "elapsed time: 0.745635112 seconds\n"
     ]
    },
    {
     "data": {
      "text/plain": [
       "6-element Array{Float64,1}:\n",
       "  0.0        \n",
       "  0.0        \n",
       "  1.26218e-29\n",
       " -8.03416e-6 \n",
       "  1.05837e-10\n",
       "  5.45311e-8 "
      ]
     },
     "metadata": {},
     "output_type": "display_data"
    },
    {
     "data": {
      "text/plain": [
       "6-element Array{Float64,1}:\n",
       "  0.0        \n",
       "  0.0        \n",
       "  1.26218e-29\n",
       " -8.03416e-6 \n",
       "  1.05837e-10\n",
       "  5.45311e-8 "
      ]
     },
     "metadata": {},
     "output_type": "display_data"
    },
    {
     "name": "stdout",
     "output_type": "stream",
     "text": [
      "elapsed time: 0.748633671 seconds\n"
     ]
    },
    {
     "data": {
      "text/plain": [
       "6-element Array{Float64,1}:\n",
       "  0.0        \n",
       "  0.0        \n",
       " -1.00974e-28\n",
       " -8.04401e-6 \n",
       "  9.33891e-10\n",
       " -1.02696e-8 "
      ]
     },
     "metadata": {},
     "output_type": "display_data"
    },
    {
     "data": {
      "text/plain": [
       "6-element Array{Float64,1}:\n",
       "  0.0        \n",
       "  0.0        \n",
       " -1.00974e-28\n",
       " -8.04401e-6 \n",
       "  9.33891e-10\n",
       " -1.02696e-8 "
      ]
     },
     "metadata": {},
     "output_type": "display_data"
    },
    {
     "name": "stdout",
     "output_type": "stream",
     "text": [
      "elapsed time: 0.755026998 seconds\n"
     ]
    },
    {
     "data": {
      "text/plain": [
       "6-element Array{Float64,1}:\n",
       "  0.0       \n",
       "  0.0       \n",
       "  0.0       \n",
       " -8.02767e-6\n",
       " -1.65814e-9\n",
       "  3.50494e-8"
      ]
     },
     "metadata": {},
     "output_type": "display_data"
    },
    {
     "data": {
      "text/plain": [
       "6-element Array{Float64,1}:\n",
       "  0.0       \n",
       "  0.0       \n",
       "  0.0       \n",
       " -8.02767e-6\n",
       " -1.65814e-9\n",
       "  3.50494e-8"
      ]
     },
     "metadata": {},
     "output_type": "display_data"
    },
    {
     "name": "stdout",
     "output_type": "stream",
     "text": [
      "elapsed time: 0.741877761 seconds\n"
     ]
    },
    {
     "data": {
      "text/plain": [
       "6-element Array{Float64,1}:\n",
       "  0.0        \n",
       "  0.0        \n",
       "  3.23117e-27\n",
       " -8.0392e-6  \n",
       " -2.28179e-8 \n",
       "  6.91596e-8 "
      ]
     },
     "metadata": {},
     "output_type": "display_data"
    },
    {
     "data": {
      "text/plain": [
       "6-element Array{Float64,1}:\n",
       "  0.0        \n",
       "  0.0        \n",
       "  3.23117e-27\n",
       " -8.0392e-6  \n",
       " -2.28179e-8 \n",
       "  6.91596e-8 "
      ]
     },
     "metadata": {},
     "output_type": "display_data"
    },
    {
     "name": "stdout",
     "output_type": "stream",
     "text": [
      "elapsed time: 0.75273622 seconds\n"
     ]
    },
    {
     "data": {
      "text/plain": [
       "6-element Array{Float64,1}:\n",
       "  2.01948e-28\n",
       "  0.0        \n",
       "  0.0        \n",
       " -8.03678e-6 \n",
       "  1.30494e-8 \n",
       "  4.93187e-8 "
      ]
     },
     "metadata": {},
     "output_type": "display_data"
    },
    {
     "data": {
      "text/plain": [
       "6-element Array{Float64,1}:\n",
       "  2.01948e-28\n",
       "  0.0        \n",
       "  0.0        \n",
       " -8.03678e-6 \n",
       "  1.30494e-8 \n",
       "  4.93187e-8 "
      ]
     },
     "metadata": {},
     "output_type": "display_data"
    },
    {
     "name": "stdout",
     "output_type": "stream",
     "text": [
      "elapsed time: 0.756039132 seconds\n"
     ]
    },
    {
     "data": {
      "text/plain": [
       "6-element Array{Float64,1}:\n",
       "  0.0        \n",
       "  0.0        \n",
       " -6.46235e-27\n",
       " -8.01305e-6 \n",
       "  4.475e-8   \n",
       "  1.22252e-8 "
      ]
     },
     "metadata": {},
     "output_type": "display_data"
    },
    {
     "data": {
      "text/plain": [
       "6-element Array{Float64,1}:\n",
       "  0.0        \n",
       "  0.0        \n",
       " -6.46235e-27\n",
       " -8.01305e-6 \n",
       "  4.475e-8   \n",
       "  1.22252e-8 "
      ]
     },
     "metadata": {},
     "output_type": "display_data"
    },
    {
     "name": "stdout",
     "output_type": "stream",
     "text": [
      "elapsed time: 0.752842766 seconds\n"
     ]
    },
    {
     "data": {
      "text/plain": [
       "6-element Array{Float64,1}:\n",
       "  0.0        \n",
       "  0.0        \n",
       "  0.0        \n",
       " -8.03183e-6 \n",
       "  2.05883e-10\n",
       "  5.30908e-8 "
      ]
     },
     "metadata": {},
     "output_type": "display_data"
    },
    {
     "data": {
      "text/plain": [
       "6-element Array{Float64,1}:\n",
       "  0.0        \n",
       "  0.0        \n",
       "  0.0        \n",
       " -8.03183e-6 \n",
       "  2.05883e-10\n",
       "  5.30908e-8 "
      ]
     },
     "metadata": {},
     "output_type": "display_data"
    },
    {
     "name": "stdout",
     "output_type": "stream",
     "text": [
      "elapsed time: 0.743734319 seconds\n"
     ]
    },
    {
     "data": {
      "text/plain": [
       "6-element Array{Float64,1}:\n",
       "  0.0       \n",
       "  0.0       \n",
       "  0.0       \n",
       " -8.01988e-6\n",
       " -7.10852e-8\n",
       "  1.03188e-8"
      ]
     },
     "metadata": {},
     "output_type": "display_data"
    },
    {
     "data": {
      "text/plain": [
       "6-element Array{Float64,1}:\n",
       "  0.0       \n",
       "  0.0       \n",
       "  0.0       \n",
       " -8.01988e-6\n",
       " -7.10852e-8\n",
       "  1.03188e-8"
      ]
     },
     "metadata": {},
     "output_type": "display_data"
    },
    {
     "name": "stdout",
     "output_type": "stream",
     "text": [
      "elapsed time: 0.745056924 seconds\n"
     ]
    },
    {
     "data": {
      "text/plain": [
       "6-element Array{Float64,1}:\n",
       "  0.0        \n",
       "  0.0        \n",
       " -1.61559e-27\n",
       " -8.05195e-6 \n",
       "  1.92412e-8 \n",
       "  1.03612e-8 "
      ]
     },
     "metadata": {},
     "output_type": "display_data"
    },
    {
     "data": {
      "text/plain": [
       "6-element Array{Float64,1}:\n",
       "  0.0        \n",
       "  0.0        \n",
       " -1.61559e-27\n",
       " -8.05195e-6 \n",
       "  1.92412e-8 \n",
       "  1.03612e-8 "
      ]
     },
     "metadata": {},
     "output_type": "display_data"
    },
    {
     "name": "stdout",
     "output_type": "stream",
     "text": [
      "elapsed time: 0.750406397 seconds\n"
     ]
    },
    {
     "data": {
      "text/plain": [
       "6-element Array{Float64,1}:\n",
       "  0.0        \n",
       "  0.0        \n",
       "  8.07794e-28\n",
       " -8.01785e-6 \n",
       " -9.14988e-9 \n",
       " -7.94963e-9 "
      ]
     },
     "metadata": {},
     "output_type": "display_data"
    },
    {
     "data": {
      "text/plain": [
       "6-element Array{Float64,1}:\n",
       "  0.0        \n",
       "  0.0        \n",
       "  8.07794e-28\n",
       " -8.01785e-6 \n",
       " -9.14988e-9 \n",
       " -7.94963e-9 "
      ]
     },
     "metadata": {},
     "output_type": "display_data"
    },
    {
     "name": "stdout",
     "output_type": "stream",
     "text": [
      "elapsed time: 0.838969746 seconds\n"
     ]
    },
    {
     "data": {
      "text/plain": [
       "6-element Array{Float64,1}:\n",
       "  4.03897e-28\n",
       "  0.0        \n",
       "  0.0        \n",
       " -8.00618e-6 \n",
       "  2.93608e-8 \n",
       " -1.04513e-7 "
      ]
     },
     "metadata": {},
     "output_type": "display_data"
    },
    {
     "data": {
      "text/plain": [
       "6-element Array{Float64,1}:\n",
       "  4.03897e-28\n",
       "  0.0        \n",
       "  0.0        \n",
       " -8.00618e-6 \n",
       "  2.93608e-8 \n",
       " -1.04513e-7 "
      ]
     },
     "metadata": {},
     "output_type": "display_data"
    },
    {
     "name": "stdout",
     "output_type": "stream",
     "text": [
      "elapsed time: 0.773918885 seconds\n"
     ]
    },
    {
     "data": {
      "text/plain": [
       "6-element Array{Float64,1}:\n",
       "  8.07794e-28\n",
       "  0.0        \n",
       "  0.0        \n",
       " -8.03992e-6 \n",
       " -5.39458e-8 \n",
       "  3.43879e-8 "
      ]
     },
     "metadata": {},
     "output_type": "display_data"
    },
    {
     "data": {
      "text/plain": [
       "6-element Array{Float64,1}:\n",
       "  8.07794e-28\n",
       "  0.0        \n",
       "  0.0        \n",
       " -8.03992e-6 \n",
       " -5.39458e-8 \n",
       "  3.43879e-8 "
      ]
     },
     "metadata": {},
     "output_type": "display_data"
    },
    {
     "name": "stdout",
     "output_type": "stream",
     "text": [
      "elapsed time: 0.882546159 seconds\n"
     ]
    },
    {
     "data": {
      "text/plain": [
       "6-element Array{Float64,1}:\n",
       "  0.0       \n",
       "  0.0       \n",
       "  0.0       \n",
       " -8.0379e-6 \n",
       " -1.72514e-8\n",
       "  4.31683e-8"
      ]
     },
     "metadata": {},
     "output_type": "display_data"
    },
    {
     "data": {
      "text/plain": [
       "6-element Array{Float64,1}:\n",
       "  0.0       \n",
       "  0.0       \n",
       "  0.0       \n",
       " -8.0379e-6 \n",
       " -1.72514e-8\n",
       "  4.31683e-8"
      ]
     },
     "metadata": {},
     "output_type": "display_data"
    },
    {
     "name": "stdout",
     "output_type": "stream",
     "text": [
      "elapsed time: 0.79615986 seconds\n"
     ]
    },
    {
     "data": {
      "text/plain": [
       "6-element Array{Float64,1}:\n",
       "  0.0       \n",
       "  0.0       \n",
       "  0.0       \n",
       " -8.03461e-6\n",
       "  9.86451e-9\n",
       " -2.95419e-8"
      ]
     },
     "metadata": {},
     "output_type": "display_data"
    },
    {
     "data": {
      "text/plain": [
       "6-element Array{Float64,1}:\n",
       "  0.0       \n",
       "  0.0       \n",
       "  0.0       \n",
       " -8.03461e-6\n",
       "  9.86451e-9\n",
       " -2.95419e-8"
      ]
     },
     "metadata": {},
     "output_type": "display_data"
    },
    {
     "name": "stdout",
     "output_type": "stream",
     "text": [
      "elapsed time: 0.777051355 seconds\n"
     ]
    },
    {
     "data": {
      "text/plain": [
       "6-element Array{Float64,1}:\n",
       "  0.0        \n",
       "  0.0        \n",
       " -3.23117e-27\n",
       " -8.0393e-6  \n",
       "  2.5519e-8  \n",
       " -1.33479e-8 "
      ]
     },
     "metadata": {},
     "output_type": "display_data"
    },
    {
     "data": {
      "text/plain": [
       "6-element Array{Float64,1}:\n",
       "  0.0        \n",
       "  0.0        \n",
       " -3.23117e-27\n",
       " -8.0393e-6  \n",
       "  2.5519e-8  \n",
       " -1.33479e-8 "
      ]
     },
     "metadata": {},
     "output_type": "display_data"
    },
    {
     "name": "stdout",
     "output_type": "stream",
     "text": [
      "elapsed time: 0.789683824 seconds\n"
     ]
    },
    {
     "data": {
      "text/plain": [
       "6-element Array{Float64,1}:\n",
       "  0.0        \n",
       "  0.0        \n",
       " -6.46235e-27\n",
       " -8.03776e-6 \n",
       "  6.45634e-8 \n",
       "  4.60017e-8 "
      ]
     },
     "metadata": {},
     "output_type": "display_data"
    },
    {
     "data": {
      "text/plain": [
       "6-element Array{Float64,1}:\n",
       "  0.0        \n",
       "  0.0        \n",
       " -6.46235e-27\n",
       " -8.03776e-6 \n",
       "  6.45634e-8 \n",
       "  4.60017e-8 "
      ]
     },
     "metadata": {},
     "output_type": "display_data"
    },
    {
     "name": "stdout",
     "output_type": "stream",
     "text": [
      "elapsed time: 0.77214975 seconds\n"
     ]
    },
    {
     "data": {
      "text/plain": [
       "6-element Array{Float64,1}:\n",
       "  0.0        \n",
       "  0.0        \n",
       "  0.0        \n",
       " -8.03158e-6 \n",
       " -8.42423e-9 \n",
       "  6.77156e-10"
      ]
     },
     "metadata": {},
     "output_type": "display_data"
    },
    {
     "data": {
      "text/plain": [
       "6-element Array{Float64,1}:\n",
       "  0.0        \n",
       "  0.0        \n",
       "  0.0        \n",
       " -8.03158e-6 \n",
       " -8.42423e-9 \n",
       "  6.77156e-10"
      ]
     },
     "metadata": {},
     "output_type": "display_data"
    },
    {
     "name": "stdout",
     "output_type": "stream",
     "text": [
      "elapsed time: 0.843902799 seconds\n"
     ]
    },
    {
     "data": {
      "text/plain": [
       "6-element Array{Float64,1}:\n",
       "  0.0       \n",
       "  0.0       \n",
       "  0.0       \n",
       " -8.00793e-6\n",
       "  1.85506e-8\n",
       " -2.81449e-8"
      ]
     },
     "metadata": {},
     "output_type": "display_data"
    },
    {
     "data": {
      "text/plain": [
       "6-element Array{Float64,1}:\n",
       "  0.0       \n",
       "  0.0       \n",
       "  0.0       \n",
       " -8.00793e-6\n",
       "  1.85506e-8\n",
       " -2.81449e-8"
      ]
     },
     "metadata": {},
     "output_type": "display_data"
    },
    {
     "name": "stdout",
     "output_type": "stream",
     "text": [
      "elapsed time: 0.865278067 seconds\n"
     ]
    },
    {
     "data": {
      "text/plain": [
       "6-element Array{Float64,1}:\n",
       "  0.0       \n",
       "  0.0       \n",
       "  0.0       \n",
       " -8.02746e-6\n",
       " -7.07361e-8\n",
       " -3.83908e-8"
      ]
     },
     "metadata": {},
     "output_type": "display_data"
    },
    {
     "data": {
      "text/plain": [
       "6-element Array{Float64,1}:\n",
       "  0.0       \n",
       "  0.0       \n",
       "  0.0       \n",
       " -8.02746e-6\n",
       " -7.07361e-8\n",
       " -3.83908e-8"
      ]
     },
     "metadata": {},
     "output_type": "display_data"
    },
    {
     "name": "stdout",
     "output_type": "stream",
     "text": [
      "elapsed time: 0.775045233 seconds\n"
     ]
    },
    {
     "data": {
      "text/plain": [
       "6-element Array{Float64,1}:\n",
       " -2.01948e-28\n",
       "  0.0        \n",
       "  0.0        \n",
       " -8.03617e-6 \n",
       "  1.12992e-8 \n",
       "  1.15708e-7 "
      ]
     },
     "metadata": {},
     "output_type": "display_data"
    },
    {
     "data": {
      "text/plain": [
       "6-element Array{Float64,1}:\n",
       " -2.01948e-28\n",
       "  0.0        \n",
       "  0.0        \n",
       " -8.03617e-6 \n",
       "  1.12992e-8 \n",
       "  1.15708e-7 "
      ]
     },
     "metadata": {},
     "output_type": "display_data"
    },
    {
     "name": "stdout",
     "output_type": "stream",
     "text": [
      "elapsed time: 0.737225434 seconds\n"
     ]
    },
    {
     "data": {
      "text/plain": [
       "6-element Array{Float64,1}:\n",
       "  0.0       \n",
       "  0.0       \n",
       "  0.0       \n",
       " -8.05508e-6\n",
       " -7.14013e-8\n",
       "  1.71491e-7"
      ]
     },
     "metadata": {},
     "output_type": "display_data"
    },
    {
     "data": {
      "text/plain": [
       "6-element Array{Float64,1}:\n",
       "  0.0       \n",
       "  0.0       \n",
       "  0.0       \n",
       " -8.05508e-6\n",
       " -7.14013e-8\n",
       "  1.71491e-7"
      ]
     },
     "metadata": {},
     "output_type": "display_data"
    },
    {
     "name": "stdout",
     "output_type": "stream",
     "text": [
      "elapsed time: 0.787380299 seconds\n"
     ]
    },
    {
     "data": {
      "text/plain": [
       "6-element Array{Float64,1}:\n",
       "  0.0       \n",
       "  0.0       \n",
       "  0.0       \n",
       " -8.01992e-6\n",
       " -1.12062e-7\n",
       " -4.49462e-8"
      ]
     },
     "metadata": {},
     "output_type": "display_data"
    },
    {
     "data": {
      "text/plain": [
       "6-element Array{Float64,1}:\n",
       "  0.0       \n",
       "  0.0       \n",
       "  0.0       \n",
       " -8.01992e-6\n",
       " -1.12062e-7\n",
       " -4.49462e-8"
      ]
     },
     "metadata": {},
     "output_type": "display_data"
    },
    {
     "name": "stdout",
     "output_type": "stream",
     "text": [
      "elapsed time: 0.765241242 seconds\n"
     ]
    },
    {
     "data": {
      "text/plain": [
       "6-element Array{Float64,1}:\n",
       " -8.07794e-28\n",
       "  0.0        \n",
       "  0.0        \n",
       " -8.02232e-6 \n",
       "  3.61257e-8 \n",
       " -1.08637e-7 "
      ]
     },
     "metadata": {},
     "output_type": "display_data"
    },
    {
     "data": {
      "text/plain": [
       "6-element Array{Float64,1}:\n",
       " -8.07794e-28\n",
       "  0.0        \n",
       "  0.0        \n",
       " -8.02232e-6 \n",
       "  3.61257e-8 \n",
       " -1.08637e-7 "
      ]
     },
     "metadata": {},
     "output_type": "display_data"
    },
    {
     "name": "stdout",
     "output_type": "stream",
     "text": [
      "elapsed time: 0.762912931 seconds\n"
     ]
    },
    {
     "data": {
      "text/plain": [
       "6-element Array{Float64,1}:\n",
       "  0.0       \n",
       "  0.0       \n",
       "  0.0       \n",
       " -8.03816e-6\n",
       " -6.97934e-8\n",
       " -1.1114e-7 "
      ]
     },
     "metadata": {},
     "output_type": "display_data"
    },
    {
     "data": {
      "text/plain": [
       "6-element Array{Float64,1}:\n",
       "  0.0       \n",
       "  0.0       \n",
       "  0.0       \n",
       " -8.03816e-6\n",
       " -6.97934e-8\n",
       " -1.1114e-7 "
      ]
     },
     "metadata": {},
     "output_type": "display_data"
    },
    {
     "name": "stdout",
     "output_type": "stream",
     "text": [
      "elapsed time: 0.755206026 seconds\n"
     ]
    },
    {
     "data": {
      "text/plain": [
       "6-element Array{Float64,1}:\n",
       "  4.03897e-28\n",
       "  0.0        \n",
       "  0.0        \n",
       " -8.01952e-6 \n",
       "  2.88307e-8 \n",
       " -1.53755e-8 "
      ]
     },
     "metadata": {},
     "output_type": "display_data"
    },
    {
     "data": {
      "text/plain": [
       "6-element Array{Float64,1}:\n",
       "  4.03897e-28\n",
       "  0.0        \n",
       "  0.0        \n",
       " -8.01952e-6 \n",
       "  2.88307e-8 \n",
       " -1.53755e-8 "
      ]
     },
     "metadata": {},
     "output_type": "display_data"
    },
    {
     "name": "stdout",
     "output_type": "stream",
     "text": [
      "elapsed time: 0.738510691 seconds\n"
     ]
    },
    {
     "data": {
      "text/plain": [
       "6-element Array{Float64,1}:\n",
       "  0.0        \n",
       "  0.0        \n",
       "  3.23117e-27\n",
       " -8.06464e-6 \n",
       " -3.41289e-8 \n",
       "  5.75659e-8 "
      ]
     },
     "metadata": {},
     "output_type": "display_data"
    },
    {
     "data": {
      "text/plain": [
       "6-element Array{Float64,1}:\n",
       "  0.0        \n",
       "  0.0        \n",
       "  3.23117e-27\n",
       " -8.06464e-6 \n",
       " -3.41289e-8 \n",
       "  5.75659e-8 "
      ]
     },
     "metadata": {},
     "output_type": "display_data"
    },
    {
     "name": "stdout",
     "output_type": "stream",
     "text": [
      "elapsed time: 0.750022259 seconds\n"
     ]
    },
    {
     "data": {
      "text/plain": [
       "6-element Array{Float64,1}:\n",
       "  0.0        \n",
       "  0.0        \n",
       " -6.46235e-27\n",
       " -8.02163e-6 \n",
       "  4.63563e-8 \n",
       "  2.05813e-7 "
      ]
     },
     "metadata": {},
     "output_type": "display_data"
    },
    {
     "data": {
      "text/plain": [
       "6-element Array{Float64,1}:\n",
       "  0.0        \n",
       "  0.0        \n",
       " -6.46235e-27\n",
       " -8.02163e-6 \n",
       "  4.63563e-8 \n",
       "  2.05813e-7 "
      ]
     },
     "metadata": {},
     "output_type": "display_data"
    },
    {
     "name": "stdout",
     "output_type": "stream",
     "text": [
      "elapsed time: 0.770907512 seconds\n"
     ]
    },
    {
     "data": {
      "text/plain": [
       "6-element Array{Float64,1}:\n",
       "  8.07794e-28\n",
       "  0.0        \n",
       " -6.46235e-27\n",
       " -8.02163e-6 \n",
       "  4.63563e-8 \n",
       "  2.05813e-7 "
      ]
     },
     "metadata": {},
     "output_type": "display_data"
    },
    {
     "data": {
      "text/plain": [
       "6-element Array{Float64,1}:\n",
       "  8.07794e-28\n",
       "  0.0        \n",
       " -6.46235e-27\n",
       " -8.02163e-6 \n",
       "  4.63563e-8 \n",
       "  2.05813e-7 "
      ]
     },
     "metadata": {},
     "output_type": "display_data"
    },
    {
     "name": "stdout",
     "output_type": "stream",
     "text": [
      "elapsed time: 0.749985945 seconds\n"
     ]
    },
    {
     "data": {
      "text/plain": [
       "6-element Array{Float64,1}:\n",
       "  8.07794e-28\n",
       "  0.0        \n",
       " -6.46235e-27\n",
       " -8.02163e-6 \n",
       "  4.63563e-8 \n",
       "  2.05813e-7 "
      ]
     },
     "metadata": {},
     "output_type": "display_data"
    },
    {
     "data": {
      "text/plain": [
       "6-element Array{Float64,1}:\n",
       "  8.07794e-28\n",
       "  0.0        \n",
       " -6.46235e-27\n",
       " -8.02163e-6 \n",
       "  4.63563e-8 \n",
       "  2.05813e-7 "
      ]
     },
     "metadata": {},
     "output_type": "display_data"
    },
    {
     "name": "stdout",
     "output_type": "stream",
     "text": [
      "elapsed time: 0.737418514 seconds\n"
     ]
    },
    {
     "data": {
      "text/plain": [
       "6-element Array{Float64,1}:\n",
       "  0.0       \n",
       "  0.0       \n",
       "  0.0       \n",
       "  1.91456   \n",
       "  4.99939e-5\n",
       " -8.85167   "
      ]
     },
     "metadata": {},
     "output_type": "display_data"
    },
    {
     "data": {
      "text/plain": [
       "6-element Array{Float64,1}:\n",
       "  0.0       \n",
       "  0.0       \n",
       "  0.0       \n",
       "  1.91456   \n",
       "  4.99939e-5\n",
       " -8.85167   "
      ]
     },
     "metadata": {},
     "output_type": "display_data"
    },
    {
     "name": "stdout",
     "output_type": "stream",
     "text": [
      "elapsed time: 0.772128475 seconds\n",
      "Infeasible_Problem_Detected\n"
     ]
    },
    {
     "data": {
      "text/plain": [
       "6-element Array{Float64,1}:\n",
       "  0.0       \n",
       "  0.0       \n",
       "  0.0       \n",
       "  1.91456   \n",
       "  4.99939e-5\n",
       " -8.85167   "
      ]
     },
     "metadata": {},
     "output_type": "display_data"
    },
    {
     "data": {
      "text/plain": [
       "6-element Array{Float64,1}:\n",
       "  0.0       \n",
       "  0.0       \n",
       "  0.0       \n",
       "  1.91456   \n",
       "  4.99939e-5\n",
       " -8.85167   "
      ]
     },
     "metadata": {},
     "output_type": "display_data"
    },
    {
     "name": "stdout",
     "output_type": "stream",
     "text": [
      "elapsed time: 0.834946496 seconds\n"
     ]
    },
    {
     "data": {
      "text/plain": [
       "6-element Array{Float64,1}:\n",
       "  0.0     \n",
       "  0.0     \n",
       "  0.0     \n",
       "  1.17487 \n",
       " -0.121821\n",
       " -2.8498  "
      ]
     },
     "metadata": {},
     "output_type": "display_data"
    },
    {
     "data": {
      "text/plain": [
       "6-element Array{Float64,1}:\n",
       "  0.0     \n",
       "  0.0     \n",
       "  0.0     \n",
       "  1.17487 \n",
       " -0.121821\n",
       " -2.8498  "
      ]
     },
     "metadata": {},
     "output_type": "display_data"
    },
    {
     "name": "stdout",
     "output_type": "stream",
     "text": [
      "elapsed time: 0.744377162 seconds\n"
     ]
    },
    {
     "data": {
      "text/plain": [
       "6-element Array{Float64,1}:\n",
       "  1.35525e-20\n",
       "  0.0        \n",
       "  0.0        \n",
       "  1.1035     \n",
       " -0.108672   \n",
       " -2.83169    "
      ]
     },
     "metadata": {},
     "output_type": "display_data"
    },
    {
     "data": {
      "text/plain": [
       "6-element Array{Float64,1}:\n",
       "  1.35525e-20\n",
       "  0.0        \n",
       "  0.0        \n",
       "  1.1035     \n",
       " -0.108672   \n",
       " -2.83169    "
      ]
     },
     "metadata": {},
     "output_type": "display_data"
    },
    {
     "name": "stdout",
     "output_type": "stream",
     "text": [
      "elapsed time: 0.752180164 seconds\n"
     ]
    },
    {
     "data": {
      "text/plain": [
       "6-element Array{Float64,1}:\n",
       "  1.35525e-20\n",
       "  0.0        \n",
       "  0.0        \n",
       "  1.10341    \n",
       " -0.109221   \n",
       " -2.83171    "
      ]
     },
     "metadata": {},
     "output_type": "display_data"
    },
    {
     "data": {
      "text/plain": [
       "6-element Array{Float64,1}:\n",
       "  1.35525e-20\n",
       "  0.0        \n",
       "  0.0        \n",
       "  1.10341    \n",
       " -0.109221   \n",
       " -2.83171    "
      ]
     },
     "metadata": {},
     "output_type": "display_data"
    },
    {
     "name": "stdout",
     "output_type": "stream",
     "text": [
      "elapsed time: 0.745742599 seconds\n"
     ]
    },
    {
     "data": {
      "text/plain": [
       "6-element Array{Float64,1}:\n",
       "  1.35525e-20\n",
       "  0.0        \n",
       "  0.0        \n",
       "  1.103      \n",
       " -0.109035   \n",
       " -2.83179    "
      ]
     },
     "metadata": {},
     "output_type": "display_data"
    },
    {
     "data": {
      "text/plain": [
       "6-element Array{Float64,1}:\n",
       "  1.35525e-20\n",
       "  0.0        \n",
       "  0.0        \n",
       "  1.103      \n",
       " -0.109035   \n",
       " -2.83179    "
      ]
     },
     "metadata": {},
     "output_type": "display_data"
    },
    {
     "name": "stdout",
     "output_type": "stream",
     "text": [
      "elapsed time: 0.78798731 seconds\n"
     ]
    },
    {
     "data": {
      "text/plain": [
       "6-element Array{Float64,1}:\n",
       "  1.35525e-20\n",
       "  0.0        \n",
       "  0.0        \n",
       "  1.10341    \n",
       " -0.109221   \n",
       " -2.83171    "
      ]
     },
     "metadata": {},
     "output_type": "display_data"
    },
    {
     "data": {
      "text/plain": [
       "6-element Array{Float64,1}:\n",
       "  1.35525e-20\n",
       "  0.0        \n",
       "  0.0        \n",
       "  1.10341    \n",
       " -0.109221   \n",
       " -2.83171    "
      ]
     },
     "metadata": {},
     "output_type": "display_data"
    },
    {
     "name": "stdout",
     "output_type": "stream",
     "text": [
      "elapsed time: 0.771478594 seconds\n"
     ]
    },
    {
     "data": {
      "text/plain": [
       "6-element Array{Float64,1}:\n",
       "  1.69407e-21\n",
       "  0.0        \n",
       "  0.0        \n",
       "  1.09768    \n",
       " -0.00103015 \n",
       " -2.65718    "
      ]
     },
     "metadata": {},
     "output_type": "display_data"
    },
    {
     "data": {
      "text/plain": [
       "6-element Array{Float64,1}:\n",
       "  1.69407e-21\n",
       "  0.0        \n",
       "  0.0        \n",
       "  1.09768    \n",
       " -0.00103015 \n",
       " -2.65718    "
      ]
     },
     "metadata": {},
     "output_type": "display_data"
    },
    {
     "name": "stdout",
     "output_type": "stream",
     "text": [
      "elapsed time: 0.861663315 seconds\n"
     ]
    },
    {
     "data": {
      "text/plain": [
       "6-element Array{Float64,1}:\n",
       " -2.11758e-22\n",
       " -2.1684e-19 \n",
       "  0.0        \n",
       "  0.89047    \n",
       " -0.00102188 \n",
       " -1.50912    "
      ]
     },
     "metadata": {},
     "output_type": "display_data"
    },
    {
     "data": {
      "text/plain": [
       "6-element Array{Float64,1}:\n",
       " -2.11758e-22\n",
       " -2.1684e-19 \n",
       "  0.0        \n",
       "  0.89047    \n",
       " -0.00102188 \n",
       " -1.50912    "
      ]
     },
     "metadata": {},
     "output_type": "display_data"
    },
    {
     "name": "stdout",
     "output_type": "stream",
     "text": [
      "elapsed time: 0.781085648 seconds\n"
     ]
    },
    {
     "data": {
      "text/plain": [
       "6-element Array{Float64,1}:\n",
       "  5.29396e-23\n",
       "  0.0        \n",
       "  0.0        \n",
       "  0.891739   \n",
       " -0.000451458\n",
       " -1.50908    "
      ]
     },
     "metadata": {},
     "output_type": "display_data"
    },
    {
     "data": {
      "text/plain": [
       "6-element Array{Float64,1}:\n",
       "  5.29396e-23\n",
       "  0.0        \n",
       "  0.0        \n",
       "  0.891739   \n",
       " -0.000451458\n",
       " -1.50908    "
      ]
     },
     "metadata": {},
     "output_type": "display_data"
    },
    {
     "name": "stdout",
     "output_type": "stream",
     "text": [
      "elapsed time: 0.838865158 seconds\n"
     ]
    },
    {
     "data": {
      "text/plain": [
       "6-element Array{Float64,1}:\n",
       "  1.05879e-22\n",
       "  0.0        \n",
       "  0.0        \n",
       "  0.891465   \n",
       " -0.000626462\n",
       " -1.50911    "
      ]
     },
     "metadata": {},
     "output_type": "display_data"
    },
    {
     "data": {
      "text/plain": [
       "6-element Array{Float64,1}:\n",
       "  1.05879e-22\n",
       "  0.0        \n",
       "  0.0        \n",
       "  0.891465   \n",
       " -0.000626462\n",
       " -1.50911    "
      ]
     },
     "metadata": {},
     "output_type": "display_data"
    },
    {
     "name": "stdout",
     "output_type": "stream",
     "text": [
      "elapsed time: 0.810068226 seconds\n"
     ]
    },
    {
     "data": {
      "text/plain": [
       "6-element Array{Float64,1}:\n",
       "  8.47033e-22\n",
       "  2.1684e-19 \n",
       "  0.0        \n",
       "  0.756464   \n",
       "  0.0105456  \n",
       " -1.50083    "
      ]
     },
     "metadata": {},
     "output_type": "display_data"
    },
    {
     "data": {
      "text/plain": [
       "6-element Array{Float64,1}:\n",
       "  8.47033e-22\n",
       "  2.1684e-19 \n",
       "  0.0        \n",
       "  0.756464   \n",
       "  0.0105456  \n",
       " -1.50083    "
      ]
     },
     "metadata": {},
     "output_type": "display_data"
    },
    {
     "name": "stdout",
     "output_type": "stream",
     "text": [
      "elapsed time: 0.830449143 seconds\n"
     ]
    },
    {
     "data": {
      "text/plain": [
       "6-element Array{Float64,1}:\n",
       "  8.47033e-22\n",
       "  2.1684e-19 \n",
       "  1.69407e-21\n",
       "  0.753194   \n",
       "  0.0107377  \n",
       " -1.50183    "
      ]
     },
     "metadata": {},
     "output_type": "display_data"
    },
    {
     "data": {
      "text/plain": [
       "6-element Array{Float64,1}:\n",
       "  8.47033e-22\n",
       "  2.1684e-19 \n",
       "  1.69407e-21\n",
       "  0.753194   \n",
       "  0.0107377  \n",
       " -1.50183    "
      ]
     },
     "metadata": {},
     "output_type": "display_data"
    },
    {
     "name": "stdout",
     "output_type": "stream",
     "text": [
      "elapsed time: 0.816631211 seconds\n"
     ]
    },
    {
     "data": {
      "text/plain": [
       "6-element Array{Float64,1}:\n",
       "  0.0        \n",
       " -2.1684e-19 \n",
       " -1.69407e-21\n",
       "  0.75553    \n",
       "  0.0102215  \n",
       " -1.50236    "
      ]
     },
     "metadata": {},
     "output_type": "display_data"
    },
    {
     "data": {
      "text/plain": [
       "6-element Array{Float64,1}:\n",
       "  0.0        \n",
       " -2.1684e-19 \n",
       " -1.69407e-21\n",
       "  0.75553    \n",
       "  0.0102215  \n",
       " -1.50236    "
      ]
     },
     "metadata": {},
     "output_type": "display_data"
    },
    {
     "name": "stdout",
     "output_type": "stream",
     "text": [
      "elapsed time: 0.753211506 seconds\n"
     ]
    },
    {
     "data": {
      "text/plain": [
       "6-element Array{Float64,1}:\n",
       "  0.0        \n",
       " -2.1684e-19 \n",
       "  1.69407e-21\n",
       "  0.756783   \n",
       "  0.00943703 \n",
       " -1.50481    "
      ]
     },
     "metadata": {},
     "output_type": "display_data"
    },
    {
     "data": {
      "text/plain": [
       "6-element Array{Float64,1}:\n",
       "  0.0        \n",
       " -2.1684e-19 \n",
       "  1.69407e-21\n",
       "  0.756783   \n",
       "  0.00943703 \n",
       " -1.50481    "
      ]
     },
     "metadata": {},
     "output_type": "display_data"
    },
    {
     "name": "stdout",
     "output_type": "stream",
     "text": [
      "elapsed time: 0.743635277 seconds\n"
     ]
    },
    {
     "data": {
      "text/plain": [
       "6-element Array{Float64,1}:\n",
       "  5.29396e-23\n",
       "  0.0        \n",
       "  0.0        \n",
       "  0.780018   \n",
       "  0.00126539 \n",
       " -1.57464    "
      ]
     },
     "metadata": {},
     "output_type": "display_data"
    },
    {
     "data": {
      "text/plain": [
       "6-element Array{Float64,1}:\n",
       "  5.29396e-23\n",
       "  0.0        \n",
       "  0.0        \n",
       "  0.780018   \n",
       "  0.00126539 \n",
       " -1.57464    "
      ]
     },
     "metadata": {},
     "output_type": "display_data"
    },
    {
     "name": "stdout",
     "output_type": "stream",
     "text": [
      "elapsed time: 0.790617546 seconds\n"
     ]
    },
    {
     "data": {
      "text/plain": [
       "6-element Array{Float64,1}:\n",
       "  0.0        \n",
       "  0.0        \n",
       " -2.11758e-22\n",
       "  0.780855   \n",
       "  0.00123963 \n",
       " -1.57628    "
      ]
     },
     "metadata": {},
     "output_type": "display_data"
    },
    {
     "data": {
      "text/plain": [
       "6-element Array{Float64,1}:\n",
       "  0.0        \n",
       "  0.0        \n",
       " -2.11758e-22\n",
       "  0.780855   \n",
       "  0.00123963 \n",
       " -1.57628    "
      ]
     },
     "metadata": {},
     "output_type": "display_data"
    },
    {
     "name": "stdout",
     "output_type": "stream",
     "text": [
      "elapsed time: 0.751556802 seconds\n"
     ]
    },
    {
     "data": {
      "text/plain": [
       "6-element Array{Float64,1}:\n",
       "  0.0        \n",
       " -2.1684e-19 \n",
       " -2.64698e-23\n",
       "  0.781213   \n",
       "  0.00017869 \n",
       " -1.57447    "
      ]
     },
     "metadata": {},
     "output_type": "display_data"
    },
    {
     "data": {
      "text/plain": [
       "6-element Array{Float64,1}:\n",
       "  0.0        \n",
       " -2.1684e-19 \n",
       " -2.64698e-23\n",
       "  0.781213   \n",
       "  0.00017869 \n",
       " -1.57447    "
      ]
     },
     "metadata": {},
     "output_type": "display_data"
    },
    {
     "name": "stdout",
     "output_type": "stream",
     "text": [
      "elapsed time: 0.787688845 seconds\n"
     ]
    },
    {
     "data": {
      "text/plain": [
       "6-element Array{Float64,1}:\n",
       "  0.0        \n",
       "  2.1684e-19 \n",
       "  2.64698e-23\n",
       "  0.780967   \n",
       "  0.000198614\n",
       " -1.5746     "
      ]
     },
     "metadata": {},
     "output_type": "display_data"
    },
    {
     "data": {
      "text/plain": [
       "6-element Array{Float64,1}:\n",
       "  0.0        \n",
       "  2.1684e-19 \n",
       "  2.64698e-23\n",
       "  0.780967   \n",
       "  0.000198614\n",
       " -1.5746     "
      ]
     },
     "metadata": {},
     "output_type": "display_data"
    },
    {
     "name": "stdout",
     "output_type": "stream",
     "text": [
      "elapsed time: 0.821530524 seconds\n"
     ]
    },
    {
     "data": {
      "text/plain": [
       "6-element Array{Float64,1}:\n",
       " -1.05879e-22\n",
       "  0.0        \n",
       "  0.0        \n",
       "  0.781127   \n",
       "  0.00251236 \n",
       " -1.57426    "
      ]
     },
     "metadata": {},
     "output_type": "display_data"
    },
    {
     "data": {
      "text/plain": [
       "6-element Array{Float64,1}:\n",
       " -1.05879e-22\n",
       "  0.0        \n",
       "  0.0        \n",
       "  0.781127   \n",
       "  0.00251236 \n",
       " -1.57426    "
      ]
     },
     "metadata": {},
     "output_type": "display_data"
    },
    {
     "name": "stdout",
     "output_type": "stream",
     "text": [
      "elapsed time: 0.817641018 seconds\n"
     ]
    },
    {
     "data": {
      "text/plain": [
       "6-element Array{Float64,1}:\n",
       "  0.0        \n",
       "  0.0        \n",
       " -4.23516e-22\n",
       "  0.781812   \n",
       "  0.00290951 \n",
       " -1.57529    "
      ]
     },
     "metadata": {},
     "output_type": "display_data"
    },
    {
     "data": {
      "text/plain": [
       "6-element Array{Float64,1}:\n",
       "  0.0        \n",
       "  0.0        \n",
       " -4.23516e-22\n",
       "  0.781812   \n",
       "  0.00290951 \n",
       " -1.57529    "
      ]
     },
     "metadata": {},
     "output_type": "display_data"
    },
    {
     "name": "stdout",
     "output_type": "stream",
     "text": [
      "elapsed time: 0.811756878 seconds\n"
     ]
    },
    {
     "data": {
      "text/plain": [
       "6-element Array{Float64,1}:\n",
       " -1.05879e-22\n",
       "  0.0        \n",
       "  0.0        \n",
       "  0.781127   \n",
       "  0.00251236 \n",
       " -1.57426    "
      ]
     },
     "metadata": {},
     "output_type": "display_data"
    },
    {
     "data": {
      "text/plain": [
       "6-element Array{Float64,1}:\n",
       " -1.05879e-22\n",
       "  0.0        \n",
       "  0.0        \n",
       "  0.781127   \n",
       "  0.00251236 \n",
       " -1.57426    "
      ]
     },
     "metadata": {},
     "output_type": "display_data"
    },
    {
     "name": "stdout",
     "output_type": "stream",
     "text": [
      "elapsed time: 0.79147106 seconds\n"
     ]
    },
    {
     "data": {
      "text/plain": [
       "6-element Array{Float64,1}:\n",
       "  0.0        \n",
       " -2.1684e-19 \n",
       " -4.23516e-22\n",
       "  0.780363   \n",
       "  0.00313843 \n",
       " -1.57207    "
      ]
     },
     "metadata": {},
     "output_type": "display_data"
    },
    {
     "data": {
      "text/plain": [
       "6-element Array{Float64,1}:\n",
       "  0.0        \n",
       " -2.1684e-19 \n",
       " -4.23516e-22\n",
       "  0.780363   \n",
       "  0.00313843 \n",
       " -1.57207    "
      ]
     },
     "metadata": {},
     "output_type": "display_data"
    },
    {
     "name": "stdout",
     "output_type": "stream",
     "text": [
      "elapsed time: 0.790374713 seconds\n"
     ]
    },
    {
     "data": {
      "text/plain": [
       "6-element Array{Float64,1}:\n",
       "  0.0        \n",
       "  0.0        \n",
       "  2.11758e-22\n",
       "  0.778457   \n",
       "  0.00113184 \n",
       " -1.56527    "
      ]
     },
     "metadata": {},
     "output_type": "display_data"
    },
    {
     "data": {
      "text/plain": [
       "6-element Array{Float64,1}:\n",
       "  0.0        \n",
       "  0.0        \n",
       "  2.11758e-22\n",
       "  0.778457   \n",
       "  0.00113184 \n",
       " -1.56527    "
      ]
     },
     "metadata": {},
     "output_type": "display_data"
    },
    {
     "name": "stdout",
     "output_type": "stream",
     "text": [
      "elapsed time: 0.843562576 seconds\n"
     ]
    },
    {
     "data": {
      "text/plain": [
       "6-element Array{Float64,1}:\n",
       "  0.0        \n",
       "  0.0        \n",
       "  0.0        \n",
       "  0.777205   \n",
       "  0.000121183\n",
       " -1.56377    "
      ]
     },
     "metadata": {},
     "output_type": "display_data"
    },
    {
     "data": {
      "text/plain": [
       "6-element Array{Float64,1}:\n",
       "  0.0        \n",
       "  0.0        \n",
       "  0.0        \n",
       "  0.777205   \n",
       "  0.000121183\n",
       " -1.56377    "
      ]
     },
     "metadata": {},
     "output_type": "display_data"
    },
    {
     "name": "stdout",
     "output_type": "stream",
     "text": [
      "elapsed time: 0.752366761 seconds\n"
     ]
    },
    {
     "data": {
      "text/plain": [
       "6-element Array{Float64,1}:\n",
       "  0.0        \n",
       "  2.1684e-19 \n",
       " -4.23516e-22\n",
       "  0.779885   \n",
       " -0.00170229 \n",
       " -1.56901    "
      ]
     },
     "metadata": {},
     "output_type": "display_data"
    },
    {
     "data": {
      "text/plain": [
       "6-element Array{Float64,1}:\n",
       "  0.0        \n",
       "  2.1684e-19 \n",
       " -4.23516e-22\n",
       "  0.779885   \n",
       " -0.00170229 \n",
       " -1.56901    "
      ]
     },
     "metadata": {},
     "output_type": "display_data"
    },
    {
     "name": "stdout",
     "output_type": "stream",
     "text": [
      "elapsed time: 0.807147923 seconds\n"
     ]
    },
    {
     "data": {
      "text/plain": [
       "6-element Array{Float64,1}:\n",
       "  0.0       \n",
       "  2.1684e-19\n",
       "  0.0       \n",
       "  0.779449  \n",
       " -0.00144536\n",
       " -1.56898   "
      ]
     },
     "metadata": {},
     "output_type": "display_data"
    },
    {
     "data": {
      "text/plain": [
       "6-element Array{Float64,1}:\n",
       "  0.0       \n",
       "  2.1684e-19\n",
       "  0.0       \n",
       "  0.779449  \n",
       " -0.00144536\n",
       " -1.56898   "
      ]
     },
     "metadata": {},
     "output_type": "display_data"
    },
    {
     "name": "stdout",
     "output_type": "stream",
     "text": [
      "elapsed time: 0.771315363 seconds\n"
     ]
    },
    {
     "data": {
      "text/plain": [
       "6-element Array{Float64,1}:\n",
       "  0.0       \n",
       "  0.0       \n",
       "  0.0       \n",
       "  0.779368  \n",
       " -0.00187471\n",
       " -1.56903   "
      ]
     },
     "metadata": {},
     "output_type": "display_data"
    },
    {
     "data": {
      "text/plain": [
       "6-element Array{Float64,1}:\n",
       "  0.0       \n",
       "  0.0       \n",
       "  0.0       \n",
       "  0.779368  \n",
       " -0.00187471\n",
       " -1.56903   "
      ]
     },
     "metadata": {},
     "output_type": "display_data"
    },
    {
     "name": "stdout",
     "output_type": "stream",
     "text": [
      "elapsed time: 0.819205052 seconds\n"
     ]
    },
    {
     "data": {
      "text/plain": [
       "6-element Array{Float64,1}:\n",
       "  0.0       \n",
       "  2.1684e-19\n",
       "  0.0       \n",
       "  0.779449  \n",
       " -0.00144536\n",
       " -1.56898   "
      ]
     },
     "metadata": {},
     "output_type": "display_data"
    },
    {
     "data": {
      "text/plain": [
       "6-element Array{Float64,1}:\n",
       "  0.0       \n",
       "  2.1684e-19\n",
       "  0.0       \n",
       "  0.779449  \n",
       " -0.00144536\n",
       " -1.56898   "
      ]
     },
     "metadata": {},
     "output_type": "display_data"
    },
    {
     "name": "stdout",
     "output_type": "stream",
     "text": [
      "elapsed time: 0.850376712 seconds\n"
     ]
    },
    {
     "data": {
      "text/plain": [
       "6-element Array{Float64,1}:\n",
       "  0.0        \n",
       " -2.1684e-19 \n",
       "  4.23516e-22\n",
       "  0.781686   \n",
       " -0.00188746 \n",
       " -1.5735     "
      ]
     },
     "metadata": {},
     "output_type": "display_data"
    },
    {
     "data": {
      "text/plain": [
       "6-element Array{Float64,1}:\n",
       "  0.0        \n",
       " -2.1684e-19 \n",
       "  4.23516e-22\n",
       "  0.781686   \n",
       " -0.00188746 \n",
       " -1.5735     "
      ]
     },
     "metadata": {},
     "output_type": "display_data"
    },
    {
     "name": "stdout",
     "output_type": "stream",
     "text": [
      "elapsed time: 0.80309234 seconds\n"
     ]
    },
    {
     "data": {
      "text/plain": [
       "6-element Array{Float64,1}:\n",
       "  0.0       \n",
       "  0.0       \n",
       "  0.0       \n",
       "  0.780433  \n",
       " -0.00130077\n",
       " -1.5728    "
      ]
     },
     "metadata": {},
     "output_type": "display_data"
    },
    {
     "data": {
      "text/plain": [
       "6-element Array{Float64,1}:\n",
       "  0.0       \n",
       "  0.0       \n",
       "  0.0       \n",
       "  0.780433  \n",
       " -0.00130077\n",
       " -1.5728    "
      ]
     },
     "metadata": {},
     "output_type": "display_data"
    },
    {
     "name": "stdout",
     "output_type": "stream",
     "text": [
      "elapsed time: 0.867265357 seconds\n"
     ]
    },
    {
     "data": {
      "text/plain": [
       "6-element Array{Float64,1}:\n",
       "   0.0       \n",
       "   0.0       \n",
       "  -1.0842e-19\n",
       "  10.2333    \n",
       "  -0.013605  \n",
       " -24.3104    "
      ]
     },
     "metadata": {},
     "output_type": "display_data"
    },
    {
     "data": {
      "text/plain": [
       "6-element Array{Float64,1}:\n",
       "   0.0       \n",
       "   0.0       \n",
       "  -1.0842e-19\n",
       "  10.2333    \n",
       "  -0.013605  \n",
       " -24.3104    "
      ]
     },
     "metadata": {},
     "output_type": "display_data"
    },
    {
     "name": "stdout",
     "output_type": "stream",
     "text": [
      "elapsed time: 0.819234611 seconds\n"
     ]
    },
    {
     "data": {
      "text/plain": [
       "6-element Array{Float64,1}:\n",
       "   0.0      \n",
       "   0.0      \n",
       "   0.0      \n",
       "  10.2295   \n",
       "  -0.0136168\n",
       " -24.3117   "
      ]
     },
     "metadata": {},
     "output_type": "display_data"
    },
    {
     "data": {
      "text/plain": [
       "6-element Array{Float64,1}:\n",
       "   0.0      \n",
       "   0.0      \n",
       "   0.0      \n",
       "  10.2295   \n",
       "  -0.0136168\n",
       " -24.3117   "
      ]
     },
     "metadata": {},
     "output_type": "display_data"
    },
    {
     "name": "stdout",
     "output_type": "stream",
     "text": [
      "elapsed time: 0.905527311 seconds\n"
     ]
    },
    {
     "data": {
      "text/plain": [
       "6-element Array{Float64,1}:\n",
       "   2.1684e-19\n",
       "   0.0       \n",
       "   1.0842e-19\n",
       "  10.233     \n",
       "  -0.013568  \n",
       " -24.3094    "
      ]
     },
     "metadata": {},
     "output_type": "display_data"
    },
    {
     "data": {
      "text/plain": [
       "6-element Array{Float64,1}:\n",
       "   2.1684e-19\n",
       "   0.0       \n",
       "   1.0842e-19\n",
       "  10.233     \n",
       "  -0.013568  \n",
       " -24.3094    "
      ]
     },
     "metadata": {},
     "output_type": "display_data"
    },
    {
     "name": "stdout",
     "output_type": "stream",
     "text": [
      "elapsed time: 0.793885797 seconds\n"
     ]
    },
    {
     "data": {
      "text/plain": [
       "6-element Array{Float64,1}:\n",
       "   0.0       \n",
       "   0.0       \n",
       "   1.0842e-19\n",
       "  10.2688    \n",
       "  -0.0133683 \n",
       " -24.3701    "
      ]
     },
     "metadata": {},
     "output_type": "display_data"
    },
    {
     "data": {
      "text/plain": [
       "6-element Array{Float64,1}:\n",
       "   0.0       \n",
       "   0.0       \n",
       "   1.0842e-19\n",
       "  10.2688    \n",
       "  -0.0133683 \n",
       " -24.3701    "
      ]
     },
     "metadata": {},
     "output_type": "display_data"
    },
    {
     "name": "stdout",
     "output_type": "stream",
     "text": [
      "elapsed time: 0.813580411 seconds\n"
     ]
    },
    {
     "data": {
      "text/plain": [
       "6-element Array{Float64,1}:\n",
       "  -2.1684e-19\n",
       "   0.0       \n",
       "  -1.0842e-19\n",
       "  10.2689    \n",
       "  -0.0133563 \n",
       " -24.37      "
      ]
     },
     "metadata": {},
     "output_type": "display_data"
    },
    {
     "data": {
      "text/plain": [
       "6-element Array{Float64,1}:\n",
       "  -2.1684e-19\n",
       "   0.0       \n",
       "  -1.0842e-19\n",
       "  10.2689    \n",
       "  -0.0133563 \n",
       " -24.37      "
      ]
     },
     "metadata": {},
     "output_type": "display_data"
    },
    {
     "name": "stdout",
     "output_type": "stream",
     "text": [
      "elapsed time: 0.861615107 seconds\n"
     ]
    },
    {
     "data": {
      "text/plain": [
       "6-element Array{Float64,1}:\n",
       "   2.1684e-19 \n",
       "  -3.46945e-18\n",
       "  -1.0842e-19 \n",
       "  10.2719     \n",
       "  -0.0130324  \n",
       " -24.3683     "
      ]
     },
     "metadata": {},
     "output_type": "display_data"
    },
    {
     "data": {
      "text/plain": [
       "6-element Array{Float64,1}:\n",
       "   2.1684e-19 \n",
       "  -3.46945e-18\n",
       "  -1.0842e-19 \n",
       "  10.2719     \n",
       "  -0.0130324  \n",
       " -24.3683     "
      ]
     },
     "metadata": {},
     "output_type": "display_data"
    },
    {
     "name": "stdout",
     "output_type": "stream",
     "text": [
      "elapsed time: 0.796312778 seconds\n"
     ]
    },
    {
     "data": {
      "text/plain": [
       "6-element Array{Float64,1}:\n",
       "   0.0       \n",
       "   0.0       \n",
       "  -1.0842e-19\n",
       "  10.2723    \n",
       "  -0.0129734 \n",
       " -24.3683    "
      ]
     },
     "metadata": {},
     "output_type": "display_data"
    },
    {
     "data": {
      "text/plain": [
       "6-element Array{Float64,1}:\n",
       "   0.0       \n",
       "   0.0       \n",
       "  -1.0842e-19\n",
       "  10.2723    \n",
       "  -0.0129734 \n",
       " -24.3683    "
      ]
     },
     "metadata": {},
     "output_type": "display_data"
    },
    {
     "name": "stdout",
     "output_type": "stream",
     "text": [
      "elapsed time: 0.849180562 seconds\n"
     ]
    },
    {
     "data": {
      "text/plain": [
       "6-element Array{Float64,1}:\n",
       "   0.0        \n",
       "   3.46945e-18\n",
       "   0.0        \n",
       "  10.2767     \n",
       "  -0.0124876  \n",
       " -24.3659     "
      ]
     },
     "metadata": {},
     "output_type": "display_data"
    },
    {
     "data": {
      "text/plain": [
       "6-element Array{Float64,1}:\n",
       "   0.0        \n",
       "   3.46945e-18\n",
       "   0.0        \n",
       "  10.2767     \n",
       "  -0.0124876  \n",
       " -24.3659     "
      ]
     },
     "metadata": {},
     "output_type": "display_data"
    },
    {
     "name": "stdout",
     "output_type": "stream",
     "text": [
      "elapsed time: 0.808045405 seconds\n"
     ]
    },
    {
     "data": {
      "text/plain": [
       "6-element Array{Float64,1}:\n",
       "   2.1684e-19\n",
       "   0.0       \n",
       "  -1.0842e-19\n",
       "  10.2772    \n",
       "  -0.0124699 \n",
       " -24.3656    "
      ]
     },
     "metadata": {},
     "output_type": "display_data"
    },
    {
     "data": {
      "text/plain": [
       "6-element Array{Float64,1}:\n",
       "   2.1684e-19\n",
       "   0.0       \n",
       "  -1.0842e-19\n",
       "  10.2772    \n",
       "  -0.0124699 \n",
       " -24.3656    "
      ]
     },
     "metadata": {},
     "output_type": "display_data"
    },
    {
     "name": "stdout",
     "output_type": "stream",
     "text": [
      "elapsed time: 0.852851759 seconds\n"
     ]
    },
    {
     "data": {
      "text/plain": [
       "6-element Array{Float64,1}:\n",
       "   0.0       \n",
       "   0.0       \n",
       "  -1.0842e-19\n",
       "  10.2785    \n",
       "  -0.0133419 \n",
       " -24.3648    "
      ]
     },
     "metadata": {},
     "output_type": "display_data"
    },
    {
     "data": {
      "text/plain": [
       "6-element Array{Float64,1}:\n",
       "   0.0       \n",
       "   0.0       \n",
       "  -1.0842e-19\n",
       "  10.2785    \n",
       "  -0.0133419 \n",
       " -24.3648    "
      ]
     },
     "metadata": {},
     "output_type": "display_data"
    },
    {
     "name": "stdout",
     "output_type": "stream",
     "text": [
      "elapsed time: 0.813030773 seconds\n"
     ]
    },
    {
     "data": {
      "text/plain": [
       "6-element Array{Float64,1}:\n",
       "   0.0      \n",
       "   0.0      \n",
       "   0.0      \n",
       "  10.2821   \n",
       "  -0.0123394\n",
       " -24.3627   "
      ]
     },
     "metadata": {},
     "output_type": "display_data"
    },
    {
     "data": {
      "text/plain": [
       "6-element Array{Float64,1}:\n",
       "   0.0      \n",
       "   0.0      \n",
       "   0.0      \n",
       "  10.2821   \n",
       "  -0.0123394\n",
       " -24.3627   "
      ]
     },
     "metadata": {},
     "output_type": "display_data"
    },
    {
     "name": "stdout",
     "output_type": "stream",
     "text": [
      "elapsed time: 0.787162512 seconds\n"
     ]
    },
    {
     "data": {
      "text/plain": [
       "6-element Array{Float64,1}:\n",
       "   0.0      \n",
       "   0.0      \n",
       "   0.0      \n",
       "  10.2833   \n",
       "  -0.0124685\n",
       " -24.3619   "
      ]
     },
     "metadata": {},
     "output_type": "display_data"
    },
    {
     "data": {
      "text/plain": [
       "6-element Array{Float64,1}:\n",
       "   0.0      \n",
       "   0.0      \n",
       "   0.0      \n",
       "  10.2833   \n",
       "  -0.0124685\n",
       " -24.3619   "
      ]
     },
     "metadata": {},
     "output_type": "display_data"
    },
    {
     "name": "stdout",
     "output_type": "stream",
     "text": [
      "elapsed time: 0.82016201 seconds\n"
     ]
    },
    {
     "data": {
      "text/plain": [
       "6-element Array{Float64,1}:\n",
       "  -2.1684e-19\n",
       "   0.0       \n",
       "   1.0842e-19\n",
       "  10.283     \n",
       "  -0.0114878 \n",
       " -24.3621    "
      ]
     },
     "metadata": {},
     "output_type": "display_data"
    },
    {
     "data": {
      "text/plain": [
       "6-element Array{Float64,1}:\n",
       "  -2.1684e-19\n",
       "   0.0       \n",
       "   1.0842e-19\n",
       "  10.283     \n",
       "  -0.0114878 \n",
       " -24.3621    "
      ]
     },
     "metadata": {},
     "output_type": "display_data"
    },
    {
     "name": "stdout",
     "output_type": "stream",
     "text": [
      "elapsed time: 0.83724015 seconds\n"
     ]
    },
    {
     "data": {
      "text/plain": [
       "6-element Array{Float64,1}:\n",
       "   0.0        \n",
       "  -3.46945e-18\n",
       "  -5.42101e-20\n",
       "  10.3233     \n",
       "  -0.0063561  \n",
       " -24.3782     "
      ]
     },
     "metadata": {},
     "output_type": "display_data"
    },
    {
     "data": {
      "text/plain": [
       "6-element Array{Float64,1}:\n",
       "   0.0        \n",
       "  -3.46945e-18\n",
       "  -5.42101e-20\n",
       "  10.3233     \n",
       "  -0.0063561  \n",
       " -24.3782     "
      ]
     },
     "metadata": {},
     "output_type": "display_data"
    },
    {
     "name": "stdout",
     "output_type": "stream",
     "text": [
      "elapsed time: 0.854616062 seconds\n"
     ]
    },
    {
     "data": {
      "text/plain": [
       "6-element Array{Float64,1}:\n",
       "   0.0        \n",
       "  -3.46945e-18\n",
       "   0.0        \n",
       "  10.5022     \n",
       "  -0.00628444 \n",
       " -24.5972     "
      ]
     },
     "metadata": {},
     "output_type": "display_data"
    },
    {
     "data": {
      "text/plain": [
       "6-element Array{Float64,1}:\n",
       "   0.0        \n",
       "  -3.46945e-18\n",
       "   0.0        \n",
       "  10.5022     \n",
       "  -0.00628444 \n",
       " -24.5972     "
      ]
     },
     "metadata": {},
     "output_type": "display_data"
    },
    {
     "name": "stdout",
     "output_type": "stream",
     "text": [
      "elapsed time: 1.094153723 seconds\n"
     ]
    },
    {
     "data": {
      "text/plain": [
       "6-element Array{Float64,1}:\n",
       "   2.64698e-23\n",
       "   0.0        \n",
       "   1.32349e-23\n",
       "   9.98144    \n",
       "  -1.75429e-5 \n",
       " -23.8236     "
      ]
     },
     "metadata": {},
     "output_type": "display_data"
    },
    {
     "data": {
      "text/plain": [
       "6-element Array{Float64,1}:\n",
       "   2.64698e-23\n",
       "   0.0        \n",
       "   1.32349e-23\n",
       "   9.98144    \n",
       "  -1.75429e-5 \n",
       " -23.8236     "
      ]
     },
     "metadata": {},
     "output_type": "display_data"
    },
    {
     "name": "stdout",
     "output_type": "stream",
     "text": [
      "elapsed time: 0.823055594 seconds\n"
     ]
    },
    {
     "data": {
      "text/plain": [
       "6-element Array{Float64,1}:\n",
       "   0.0        \n",
       "  -3.46945e-18\n",
       "   0.0        \n",
       "   9.98165    \n",
       "  -2.06507e-5 \n",
       " -23.824      "
      ]
     },
     "metadata": {},
     "output_type": "display_data"
    },
    {
     "data": {
      "text/plain": [
       "6-element Array{Float64,1}:\n",
       "   0.0        \n",
       "  -3.46945e-18\n",
       "   0.0        \n",
       "   9.98165    \n",
       "  -2.06507e-5 \n",
       " -23.824      "
      ]
     },
     "metadata": {},
     "output_type": "display_data"
    },
    {
     "name": "stdout",
     "output_type": "stream",
     "text": [
      "elapsed time: 0.968403297 seconds\n"
     ]
    },
    {
     "data": {
      "text/plain": [
       "6-element Array{Float64,1}:\n",
       "   0.0        \n",
       "  -3.46945e-18\n",
       "   0.0        \n",
       "   9.98198    \n",
       "  -4.14061e-5 \n",
       " -23.824      "
      ]
     },
     "metadata": {},
     "output_type": "display_data"
    },
    {
     "data": {
      "text/plain": [
       "6-element Array{Float64,1}:\n",
       "   0.0        \n",
       "  -3.46945e-18\n",
       "   0.0        \n",
       "   9.98198    \n",
       "  -4.14061e-5 \n",
       " -23.824      "
      ]
     },
     "metadata": {},
     "output_type": "display_data"
    },
    {
     "name": "stdout",
     "output_type": "stream",
     "text": [
      "elapsed time: 0.828449483 seconds\n"
     ]
    },
    {
     "data": {
      "text/plain": [
       "6-element Array{Float64,1}:\n",
       "   0.0        \n",
       "  -3.46945e-18\n",
       "   0.0        \n",
       "   9.97805    \n",
       "  -0.000126661\n",
       " -23.8254     "
      ]
     },
     "metadata": {},
     "output_type": "display_data"
    },
    {
     "data": {
      "text/plain": [
       "6-element Array{Float64,1}:\n",
       "   0.0        \n",
       "  -3.46945e-18\n",
       "   0.0        \n",
       "   9.97805    \n",
       "  -0.000126661\n",
       " -23.8254     "
      ]
     },
     "metadata": {},
     "output_type": "display_data"
    },
    {
     "name": "stdout",
     "output_type": "stream",
     "text": [
      "elapsed time: 0.750274874 seconds\n"
     ]
    },
    {
     "data": {
      "text/plain": [
       "6-element Array{Float64,1}:\n",
       "   2.64698e-23\n",
       "   0.0        \n",
       "   0.0        \n",
       "   9.97915    \n",
       "  -6.43853e-5 \n",
       " -23.8248     "
      ]
     },
     "metadata": {},
     "output_type": "display_data"
    },
    {
     "data": {
      "text/plain": [
       "6-element Array{Float64,1}:\n",
       "   2.64698e-23\n",
       "   0.0        \n",
       "   0.0        \n",
       "   9.97915    \n",
       "  -6.43853e-5 \n",
       " -23.8248     "
      ]
     },
     "metadata": {},
     "output_type": "display_data"
    },
    {
     "name": "stdout",
     "output_type": "stream",
     "text": [
      "elapsed time: 0.780605496 seconds\n"
     ]
    },
    {
     "data": {
      "text/plain": [
       "6-element Array{Float64,1}:\n",
       "   0.0        \n",
       "   3.46945e-18\n",
       "   0.0        \n",
       "   9.97873    \n",
       "  -9.89815e-5 \n",
       " -23.8249     "
      ]
     },
     "metadata": {},
     "output_type": "display_data"
    },
    {
     "data": {
      "text/plain": [
       "6-element Array{Float64,1}:\n",
       "   0.0        \n",
       "   3.46945e-18\n",
       "   0.0        \n",
       "   9.97873    \n",
       "  -9.89815e-5 \n",
       " -23.8249     "
      ]
     },
     "metadata": {},
     "output_type": "display_data"
    },
    {
     "name": "stdout",
     "output_type": "stream",
     "text": [
      "elapsed time: 1.010613728 seconds\n"
     ]
    },
    {
     "data": {
      "text/plain": [
       "6-element Array{Float64,1}:\n",
       "   0.0        \n",
       "  -3.46945e-18\n",
       "  -1.32349e-23\n",
       "   9.97798    \n",
       "   1.61898e-5 \n",
       " -23.8256     "
      ]
     },
     "metadata": {},
     "output_type": "display_data"
    },
    {
     "data": {
      "text/plain": [
       "6-element Array{Float64,1}:\n",
       "   0.0        \n",
       "  -3.46945e-18\n",
       "  -1.32349e-23\n",
       "   9.97798    \n",
       "   1.61898e-5 \n",
       " -23.8256     "
      ]
     },
     "metadata": {},
     "output_type": "display_data"
    },
    {
     "name": "stdout",
     "output_type": "stream",
     "text": [
      "elapsed time: 0.798133682 seconds\n"
     ]
    },
    {
     "data": {
      "text/plain": [
       "6-element Array{Float64,1}:\n",
       "  -2.64698e-23\n",
       "  -3.46945e-18\n",
       "   1.05879e-22\n",
       "   9.97215    \n",
       "  -0.000707001\n",
       " -23.8359     "
      ]
     },
     "metadata": {},
     "output_type": "display_data"
    },
    {
     "data": {
      "text/plain": [
       "6-element Array{Float64,1}:\n",
       "  -2.64698e-23\n",
       "  -3.46945e-18\n",
       "   1.05879e-22\n",
       "   9.97215    \n",
       "  -0.000707001\n",
       " -23.8359     "
      ]
     },
     "metadata": {},
     "output_type": "display_data"
    },
    {
     "name": "stdout",
     "output_type": "stream",
     "text": [
      "elapsed time: 0.864625926 seconds\n"
     ]
    },
    {
     "data": {
      "text/plain": [
       "6-element Array{Float64,1}:\n",
       "   7.94093e-23\n",
       "  -3.46945e-18\n",
       "   1.05879e-22\n",
       "   9.97074    \n",
       "  -0.000888687\n",
       " -23.8384     "
      ]
     },
     "metadata": {},
     "output_type": "display_data"
    },
    {
     "data": {
      "text/plain": [
       "6-element Array{Float64,1}:\n",
       "   7.94093e-23\n",
       "  -3.46945e-18\n",
       "   1.05879e-22\n",
       "   9.97074    \n",
       "  -0.000888687\n",
       " -23.8384     "
      ]
     },
     "metadata": {},
     "output_type": "display_data"
    },
    {
     "name": "stdout",
     "output_type": "stream",
     "text": [
      "elapsed time: 0.820074203 seconds\n"
     ]
    },
    {
     "data": {
      "text/plain": [
       "6-element Array{Float64,1}:\n",
       "   1.85288e-22\n",
       "   3.46945e-18\n",
       "   0.0        \n",
       "   9.9707     \n",
       "  -0.000794753\n",
       " -23.8385     "
      ]
     },
     "metadata": {},
     "output_type": "display_data"
    },
    {
     "data": {
      "text/plain": [
       "6-element Array{Float64,1}:\n",
       "   1.85288e-22\n",
       "   3.46945e-18\n",
       "   0.0        \n",
       "   9.9707     \n",
       "  -0.000794753\n",
       " -23.8385     "
      ]
     },
     "metadata": {},
     "output_type": "display_data"
    },
    {
     "name": "stdout",
     "output_type": "stream",
     "text": [
      "elapsed time: 0.830177389 seconds\n"
     ]
    },
    {
     "data": {
      "text/plain": [
       "6-element Array{Float64,1}:\n",
       "  -1.05879e-22\n",
       "   0.0        \n",
       "   0.0        \n",
       "   9.97077    \n",
       "   0.000151404\n",
       " -23.838      "
      ]
     },
     "metadata": {},
     "output_type": "display_data"
    },
    {
     "data": {
      "text/plain": [
       "6-element Array{Float64,1}:\n",
       "  -1.05879e-22\n",
       "   0.0        \n",
       "   0.0        \n",
       "   9.97077    \n",
       "   0.000151404\n",
       " -23.838      "
      ]
     },
     "metadata": {},
     "output_type": "display_data"
    },
    {
     "name": "stdout",
     "output_type": "stream",
     "text": [
      "elapsed time: 1.008094222 seconds\n"
     ]
    },
    {
     "data": {
      "text/plain": [
       "6-element Array{Float64,1}:\n",
       "  -1.05879e-22\n",
       "   0.0        \n",
       "   0.0        \n",
       "   9.97087    \n",
       "   0.000412912\n",
       " -23.8384     "
      ]
     },
     "metadata": {},
     "output_type": "display_data"
    },
    {
     "data": {
      "text/plain": [
       "6-element Array{Float64,1}:\n",
       "  -1.05879e-22\n",
       "   0.0        \n",
       "   0.0        \n",
       "   9.97087    \n",
       "   0.000412912\n",
       " -23.8384     "
      ]
     },
     "metadata": {},
     "output_type": "display_data"
    },
    {
     "name": "stdout",
     "output_type": "stream",
     "text": [
      "elapsed time: 1.350825361 seconds\n"
     ]
    },
    {
     "data": {
      "text/plain": [
       "6-element Array{Float64,1}:\n",
       "   0.0        \n",
       "   3.46945e-18\n",
       "  -5.29396e-23\n",
       "   9.97109    \n",
       "   7.72974e-5 \n",
       " -23.8384     "
      ]
     },
     "metadata": {},
     "output_type": "display_data"
    },
    {
     "data": {
      "text/plain": [
       "6-element Array{Float64,1}:\n",
       "   0.0        \n",
       "   3.46945e-18\n",
       "  -5.29396e-23\n",
       "   9.97109    \n",
       "   7.72974e-5 \n",
       " -23.8384     "
      ]
     },
     "metadata": {},
     "output_type": "display_data"
    },
    {
     "name": "stdout",
     "output_type": "stream",
     "text": [
      "elapsed time: 0.831313702 seconds\n"
     ]
    },
    {
     "data": {
      "text/plain": [
       "6-element Array{Float64,1}:\n",
       "   0.0        \n",
       "   3.46945e-18\n",
       "   1.32349e-23\n",
       "   9.97247    \n",
       "  -0.000140391\n",
       " -23.8384     "
      ]
     },
     "metadata": {},
     "output_type": "display_data"
    },
    {
     "data": {
      "text/plain": [
       "6-element Array{Float64,1}:\n",
       "   0.0        \n",
       "   3.46945e-18\n",
       "   1.32349e-23\n",
       "   9.97247    \n",
       "  -0.000140391\n",
       " -23.8384     "
      ]
     },
     "metadata": {},
     "output_type": "display_data"
    },
    {
     "name": "stdout",
     "output_type": "stream",
     "text": [
      "elapsed time: 0.776773322 seconds\n"
     ]
    },
    {
     "data": {
      "text/plain": [
       "6-element Array{Float64,1}:\n",
       "   5.29396e-23\n",
       "   3.46945e-18\n",
       "   0.0        \n",
       "   9.96708    \n",
       "  -9.62443e-5 \n",
       " -23.837      "
      ]
     },
     "metadata": {},
     "output_type": "display_data"
    },
    {
     "data": {
      "text/plain": [
       "6-element Array{Float64,1}:\n",
       "   5.29396e-23\n",
       "   3.46945e-18\n",
       "   0.0        \n",
       "   9.96708    \n",
       "  -9.62443e-5 \n",
       " -23.837      "
      ]
     },
     "metadata": {},
     "output_type": "display_data"
    },
    {
     "name": "stdout",
     "output_type": "stream",
     "text": [
      "elapsed time: 0.985958081 seconds\n"
     ]
    },
    {
     "data": {
      "text/plain": [
       "6-element Array{Float64,1}:\n",
       "   0.0        \n",
       "   3.46945e-18\n",
       "   0.0        \n",
       "   9.96762    \n",
       "   2.11806e-5 \n",
       " -23.8373     "
      ]
     },
     "metadata": {},
     "output_type": "display_data"
    },
    {
     "data": {
      "text/plain": [
       "6-element Array{Float64,1}:\n",
       "   0.0        \n",
       "   3.46945e-18\n",
       "   0.0        \n",
       "   9.96762    \n",
       "   2.11806e-5 \n",
       " -23.8373     "
      ]
     },
     "metadata": {},
     "output_type": "display_data"
    },
    {
     "name": "stdout",
     "output_type": "stream",
     "text": [
      "elapsed time: 0.75131909 seconds\n"
     ]
    },
    {
     "data": {
      "text/plain": [
       "6-element Array{Float64,1}:\n",
       "  -6.61744e-24\n",
       "  -3.46945e-18\n",
       "  -3.30872e-24\n",
       "   9.96746    \n",
       "  -4.85401e-5 \n",
       " -23.8373     "
      ]
     },
     "metadata": {},
     "output_type": "display_data"
    },
    {
     "data": {
      "text/plain": [
       "6-element Array{Float64,1}:\n",
       "  -6.61744e-24\n",
       "  -3.46945e-18\n",
       "  -3.30872e-24\n",
       "   9.96746    \n",
       "  -4.85401e-5 \n",
       " -23.8373     "
      ]
     },
     "metadata": {},
     "output_type": "display_data"
    },
    {
     "name": "stdout",
     "output_type": "stream",
     "text": [
      "elapsed time: 0.752901086 seconds\n"
     ]
    },
    {
     "data": {
      "text/plain": [
       "6-element Array{Float64,1}:\n",
       "   1.90252e-23\n",
       "   0.0        \n",
       "  -1.98523e-23\n",
       "   9.9673     \n",
       "  -6.52549e-5 \n",
       " -23.8372     "
      ]
     },
     "metadata": {},
     "output_type": "display_data"
    },
    {
     "data": {
      "text/plain": [
       "6-element Array{Float64,1}:\n",
       "   1.90252e-23\n",
       "   0.0        \n",
       "  -1.98523e-23\n",
       "   9.9673     \n",
       "  -6.52549e-5 \n",
       " -23.8372     "
      ]
     },
     "metadata": {},
     "output_type": "display_data"
    },
    {
     "name": "stdout",
     "output_type": "stream",
     "text": [
      "elapsed time: 0.770361706 seconds\n"
     ]
    },
    {
     "data": {
      "text/plain": [
       "6-element Array{Float64,1}:\n",
       "   0.0        \n",
       "   0.0        \n",
       "   0.0        \n",
       "   9.96737    \n",
       "   0.000333632\n",
       " -23.8372     "
      ]
     },
     "metadata": {},
     "output_type": "display_data"
    },
    {
     "data": {
      "text/plain": [
       "6-element Array{Float64,1}:\n",
       "   0.0        \n",
       "   0.0        \n",
       "   0.0        \n",
       "   9.96737    \n",
       "   0.000333632\n",
       " -23.8372     "
      ]
     },
     "metadata": {},
     "output_type": "display_data"
    },
    {
     "name": "stdout",
     "output_type": "stream",
     "text": [
      "elapsed time: 0.73858881 seconds\n"
     ]
    },
    {
     "data": {
      "text/plain": [
       "6-element Array{Float64,1}:\n",
       "  -1.05879e-22\n",
       "   3.46945e-18\n",
       "   0.0        \n",
       "   9.96714    \n",
       "   7.19984e-5 \n",
       " -23.8374     "
      ]
     },
     "metadata": {},
     "output_type": "display_data"
    },
    {
     "data": {
      "text/plain": [
       "6-element Array{Float64,1}:\n",
       "  -1.05879e-22\n",
       "   3.46945e-18\n",
       "   0.0        \n",
       "   9.96714    \n",
       "   7.19984e-5 \n",
       " -23.8374     "
      ]
     },
     "metadata": {},
     "output_type": "display_data"
    },
    {
     "name": "stdout",
     "output_type": "stream",
     "text": [
      "elapsed time: 0.759585228 seconds\n"
     ]
    },
    {
     "data": {
      "text/plain": [
       "6-element Array{Float64,1}:\n",
       "   5.29396e-23\n",
       "   0.0        \n",
       "  -1.32349e-23\n",
       "   9.96718    \n",
       "   6.4703e-5  \n",
       " -23.8374     "
      ]
     },
     "metadata": {},
     "output_type": "display_data"
    },
    {
     "data": {
      "text/plain": [
       "6-element Array{Float64,1}:\n",
       "   5.29396e-23\n",
       "   0.0        \n",
       "  -1.32349e-23\n",
       "   9.96718    \n",
       "   6.4703e-5  \n",
       " -23.8374     "
      ]
     },
     "metadata": {},
     "output_type": "display_data"
    },
    {
     "name": "stdout",
     "output_type": "stream",
     "text": [
      "elapsed time: 0.755257857 seconds\n"
     ]
    },
    {
     "data": {
      "text/plain": [
       "6-element Array{Float64,1}:\n",
       "   2.64698e-23\n",
       "   3.46945e-18\n",
       "   1.32349e-23\n",
       "   9.96726    \n",
       "   0.00019197 \n",
       " -23.8374     "
      ]
     },
     "metadata": {},
     "output_type": "display_data"
    },
    {
     "data": {
      "text/plain": [
       "6-element Array{Float64,1}:\n",
       "   2.64698e-23\n",
       "   3.46945e-18\n",
       "   1.32349e-23\n",
       "   9.96726    \n",
       "   0.00019197 \n",
       " -23.8374     "
      ]
     },
     "metadata": {},
     "output_type": "display_data"
    },
    {
     "name": "stdout",
     "output_type": "stream",
     "text": [
      "elapsed time: 0.744919742 seconds\n"
     ]
    },
    {
     "data": {
      "text/plain": [
       "6-element Array{Float64,1}:\n",
       "   5.29396e-23\n",
       "  -3.46945e-18\n",
       "   1.32349e-23\n",
       "   9.96748    \n",
       "   5.53241e-5 \n",
       " -23.8374     "
      ]
     },
     "metadata": {},
     "output_type": "display_data"
    },
    {
     "data": {
      "text/plain": [
       "6-element Array{Float64,1}:\n",
       "   5.29396e-23\n",
       "  -3.46945e-18\n",
       "   1.32349e-23\n",
       "   9.96748    \n",
       "   5.53241e-5 \n",
       " -23.8374     "
      ]
     },
     "metadata": {},
     "output_type": "display_data"
    },
    {
     "name": "stdout",
     "output_type": "stream",
     "text": [
      "elapsed time: 0.733345117 seconds\n"
     ]
    },
    {
     "data": {
      "text/plain": [
       "6-element Array{Float64,1}:\n",
       "   5.29396e-23\n",
       "   0.0        \n",
       "   0.0        \n",
       "   9.9674     \n",
       "  -4.39895e-5 \n",
       " -23.8377     "
      ]
     },
     "metadata": {},
     "output_type": "display_data"
    },
    {
     "data": {
      "text/plain": [
       "6-element Array{Float64,1}:\n",
       "   5.29396e-23\n",
       "   0.0        \n",
       "   0.0        \n",
       "   9.9674     \n",
       "  -4.39895e-5 \n",
       " -23.8377     "
      ]
     },
     "metadata": {},
     "output_type": "display_data"
    },
    {
     "name": "stdout",
     "output_type": "stream",
     "text": [
      "elapsed time: 0.765192287 seconds\n"
     ]
    },
    {
     "data": {
      "text/plain": [
       "6-element Array{Float64,1}:\n",
       "   1.32349e-23\n",
       "   0.0        \n",
       "  -1.32349e-23\n",
       "   9.96731    \n",
       "  -4.12111e-5 \n",
       " -23.8374     "
      ]
     },
     "metadata": {},
     "output_type": "display_data"
    },
    {
     "data": {
      "text/plain": [
       "6-element Array{Float64,1}:\n",
       "   1.32349e-23\n",
       "   0.0        \n",
       "  -1.32349e-23\n",
       "   9.96731    \n",
       "  -4.12111e-5 \n",
       " -23.8374     "
      ]
     },
     "metadata": {},
     "output_type": "display_data"
    },
    {
     "name": "stdout",
     "output_type": "stream",
     "text": [
      "elapsed time: 0.74269148 seconds\n"
     ]
    },
    {
     "data": {
      "text/plain": [
       "6-element Array{Float64,1}:\n",
       "   0.0        \n",
       "   3.46945e-18\n",
       "   1.05879e-22\n",
       "   9.96739    \n",
       "   0.00013739 \n",
       " -23.8373     "
      ]
     },
     "metadata": {},
     "output_type": "display_data"
    },
    {
     "data": {
      "text/plain": [
       "6-element Array{Float64,1}:\n",
       "   0.0        \n",
       "   3.46945e-18\n",
       "   1.05879e-22\n",
       "   9.96739    \n",
       "   0.00013739 \n",
       " -23.8373     "
      ]
     },
     "metadata": {},
     "output_type": "display_data"
    },
    {
     "name": "stdout",
     "output_type": "stream",
     "text": [
      "elapsed time: 0.73293794 seconds\n"
     ]
    },
    {
     "data": {
      "text/plain": [
       "6-element Array{Float64,1}:\n",
       "   0.0        \n",
       "  -3.46945e-18\n",
       "  -4.23516e-22\n",
       "   9.9675     \n",
       "   0.000991015\n",
       " -23.8375     "
      ]
     },
     "metadata": {},
     "output_type": "display_data"
    },
    {
     "data": {
      "text/plain": [
       "6-element Array{Float64,1}:\n",
       "   0.0        \n",
       "  -3.46945e-18\n",
       "  -4.23516e-22\n",
       "   9.9675     \n",
       "   0.000991015\n",
       " -23.8375     "
      ]
     },
     "metadata": {},
     "output_type": "display_data"
    },
    {
     "name": "stdout",
     "output_type": "stream",
     "text": [
      "elapsed time: 0.717948587 seconds\n"
     ]
    },
    {
     "data": {
      "text/plain": [
       "6-element Array{Float64,1}:\n",
       "   4.23516e-22\n",
       "   0.0        \n",
       "   0.0        \n",
       "   9.96745    \n",
       "   0.000952207\n",
       " -23.8377     "
      ]
     },
     "metadata": {},
     "output_type": "display_data"
    },
    {
     "data": {
      "text/plain": [
       "6-element Array{Float64,1}:\n",
       "   4.23516e-22\n",
       "   0.0        \n",
       "   0.0        \n",
       "   9.96745    \n",
       "   0.000952207\n",
       " -23.8377     "
      ]
     },
     "metadata": {},
     "output_type": "display_data"
    },
    {
     "name": "stdout",
     "output_type": "stream",
     "text": [
      "elapsed time: 0.744677453 seconds\n"
     ]
    },
    {
     "data": {
      "text/plain": [
       "6-element Array{Float64,1}:\n",
       "  -1.05879e-22\n",
       "   3.46945e-18\n",
       "   0.0        \n",
       "   9.96749    \n",
       "   0.000273734\n",
       " -23.8378     "
      ]
     },
     "metadata": {},
     "output_type": "display_data"
    },
    {
     "data": {
      "text/plain": [
       "6-element Array{Float64,1}:\n",
       "  -1.05879e-22\n",
       "   3.46945e-18\n",
       "   0.0        \n",
       "   9.96749    \n",
       "   0.000273734\n",
       " -23.8378     "
      ]
     },
     "metadata": {},
     "output_type": "display_data"
    },
    {
     "name": "stdout",
     "output_type": "stream",
     "text": [
      "elapsed time: 0.746796768 seconds\n"
     ]
    },
    {
     "data": {
      "text/plain": [
       "6-element Array{Float64,1}:\n",
       "  -4.96308e-24\n",
       "   0.0        \n",
       "   0.0        \n",
       "   9.96734    \n",
       "   0.000159937\n",
       " -23.8376     "
      ]
     },
     "metadata": {},
     "output_type": "display_data"
    },
    {
     "data": {
      "text/plain": [
       "6-element Array{Float64,1}:\n",
       "  -4.96308e-24\n",
       "   0.0        \n",
       "   0.0        \n",
       "   9.96734    \n",
       "   0.000159937\n",
       " -23.8376     "
      ]
     },
     "metadata": {},
     "output_type": "display_data"
    },
    {
     "name": "stdout",
     "output_type": "stream",
     "text": [
      "elapsed time: 0.72806428 seconds\n"
     ]
    },
    {
     "data": {
      "text/plain": [
       "6-element Array{Float64,1}:\n",
       "   0.0       \n",
       "   0.0       \n",
       "   0.0       \n",
       "   9.96754   \n",
       "  -9.32037e-5\n",
       " -23.8375    "
      ]
     },
     "metadata": {},
     "output_type": "display_data"
    },
    {
     "data": {
      "text/plain": [
       "6-element Array{Float64,1}:\n",
       "   0.0       \n",
       "   0.0       \n",
       "   0.0       \n",
       "   9.96754   \n",
       "  -9.32037e-5\n",
       " -23.8375    "
      ]
     },
     "metadata": {},
     "output_type": "display_data"
    },
    {
     "name": "stdout",
     "output_type": "stream",
     "text": [
      "elapsed time: 0.748214894 seconds\n"
     ]
    },
    {
     "data": {
      "text/plain": [
       "6-element Array{Float64,1}:\n",
       "   0.0        \n",
       "   3.46945e-18\n",
       "  -2.64698e-23\n",
       "   9.96757    \n",
       "  -5.08653e-5 \n",
       " -23.8375     "
      ]
     },
     "metadata": {},
     "output_type": "display_data"
    },
    {
     "data": {
      "text/plain": [
       "6-element Array{Float64,1}:\n",
       "   0.0        \n",
       "   3.46945e-18\n",
       "  -2.64698e-23\n",
       "   9.96757    \n",
       "  -5.08653e-5 \n",
       " -23.8375     "
      ]
     },
     "metadata": {},
     "output_type": "display_data"
    },
    {
     "name": "stdout",
     "output_type": "stream",
     "text": [
      "elapsed time: 0.782285178 seconds\n"
     ]
    },
    {
     "data": {
      "text/plain": [
       "6-element Array{Float64,1}:\n",
       "  -4.23516e-22\n",
       "  -3.46945e-18\n",
       "   0.0        \n",
       "   9.96746    \n",
       "   1.21122e-5 \n",
       " -23.8371     "
      ]
     },
     "metadata": {},
     "output_type": "display_data"
    },
    {
     "data": {
      "text/plain": [
       "6-element Array{Float64,1}:\n",
       "  -4.23516e-22\n",
       "  -3.46945e-18\n",
       "   0.0        \n",
       "   9.96746    \n",
       "   1.21122e-5 \n",
       " -23.8371     "
      ]
     },
     "metadata": {},
     "output_type": "display_data"
    },
    {
     "name": "stdout",
     "output_type": "stream",
     "text": [
      "elapsed time: 0.792896519 seconds\n"
     ]
    },
    {
     "data": {
      "text/plain": [
       "6-element Array{Float64,1}:\n",
       "   0.0       \n",
       "   0.0       \n",
       "   0.0       \n",
       "   9.96743   \n",
       "  -6.96766e-5\n",
       " -23.837     "
      ]
     },
     "metadata": {},
     "output_type": "display_data"
    },
    {
     "name": "stdout",
     "output_type": "stream",
     "text": [
      "elapsed time: 0.790685635 seconds\n"
     ]
    },
    {
     "ename": "LoadError",
     "evalue": "\u001b[91mInterruptException:\u001b[39m",
     "output_type": "error",
     "traceback": [
      "\u001b[91mInterruptException:\u001b[39m",
      "",
      "Stacktrace:",
      " [1] \u001b[1mτ_external_wrench\u001b[22m\u001b[22m\u001b[1m(\u001b[22m\u001b[22m::Array{ForwardDiff.Dual{ForwardDiff.Tag{BilevelTrajOpt.##67#77{BilevelTrajOpt.#eval_g#68{BilevelTrajOpt.SimData,Array{Float64,1},Array{Float64,1},Array{Float64,1},Array{Float64,1},Array{Float64,1},Array{Float64,1},Symmetric{Float64,Array{Float64,2}}}},Float64},Float64,10},1}, ::ForwardDiff.Dual{ForwardDiff.Tag{BilevelTrajOpt.##67#77{BilevelTrajOpt.#eval_g#68{BilevelTrajOpt.SimData,Array{Float64,1},Array{Float64,1},Array{Float64,1},Array{Float64,1},Array{Float64,1},Array{Float64,1},Symmetric{Float64,Array{Float64,2}}}},Float64},Float64,10}, ::ForwardDiff.Dual{ForwardDiff.Tag{BilevelTrajOpt.##67#77{BilevelTrajOpt.#eval_g#68{BilevelTrajOpt.SimData,Array{Float64,1},Array{Float64,1},Array{Float64,1},Array{Float64,1},Array{Float64,1},Array{Float64,1},Symmetric{Float64,Array{Float64,2}}}},Float64},Float64,10}, ::RigidBodyDynamics.RigidBody{Float64}, ::RigidBodyDynamics.Spatial.Point3D{GeometryTypes.Point{3,Float64}}, ::BilevelTrajOpt.Obstacle, ::Array{RigidBodyDynamics.Spatial.FreeVector3D,1}, ::RigidBodyDynamics.Spatial.CartesianFrame3D, ::Float64, ::Tuple{RigidBodyDynamics.Spatial.Transform3D{ForwardDiff.Dual{ForwardDiff.Tag{BilevelTrajOpt.##67#77{BilevelTrajOpt.#eval_g#68{BilevelTrajOpt.SimData,Array{Float64,1},Array{Float64,1},Array{Float64,1},Array{Float64,1},Array{Float64,1},Array{Float64,1},Symmetric{Float64,Array{Float64,2}}}},Float64},Float64,10}},RigidBodyDynamics.Spatial.Transform3D{ForwardDiff.Dual{ForwardDiff.Tag{BilevelTrajOpt.##67#77{BilevelTrajOpt.#eval_g#68{BilevelTrajOpt.SimData,Array{Float64,1},Array{Float64,1},Array{Float64,1},Array{Float64,1},Array{Float64,1},Array{Float64,1},Symmetric{Float64,Array{Float64,2}}}},Float64},Float64,10}}}, ::RigidBodyDynamics.Spatial.GeometricJacobian{Array{ForwardDiff.Dual{ForwardDiff.Tag{BilevelTrajOpt.##67#77{BilevelTrajOpt.#eval_g#68{BilevelTrajOpt.SimData,Array{Float64,1},Array{Float64,1},Array{Float64,1},Array{Float64,1},Array{Float64,1},Array{Float64,1},Symmetric{Float64,Array{Float64,2}}}},Float64},Float64,10},2}}\u001b[1m)\u001b[22m\u001b[22m at \u001b[1m/Users/blandry/.julia/v0.6/BilevelTrajOpt/src/contact.jl:10\u001b[22m\u001b[22m",
      " [2] \u001b[1mτ_total\u001b[22m\u001b[22m\u001b[1m(\u001b[22m\u001b[22m::Array{ForwardDiff.Dual{ForwardDiff.Tag{BilevelTrajOpt.##67#77{BilevelTrajOpt.#eval_g#68{BilevelTrajOpt.SimData,Array{Float64,1},Array{Float64,1},Array{Float64,1},Array{Float64,1},Array{Float64,1},Array{Float64,1},Symmetric{Float64,Array{Float64,2}}}},Float64},Float64,10},1}, ::Array{Tuple{RigidBodyDynamics.Spatial.Transform3D{ForwardDiff.Dual{ForwardDiff.Tag{BilevelTrajOpt.##67#77{BilevelTrajOpt.#eval_g#68{BilevelTrajOpt.SimData,Array{Float64,1},Array{Float64,1},Array{Float64,1},Array{Float64,1},Array{Float64,1},Array{Float64,1},Symmetric{Float64,Array{Float64,2}}}},Float64},Float64,10}},RigidBodyDynamics.Spatial.Transform3D{ForwardDiff.Dual{ForwardDiff.Tag{BilevelTrajOpt.##67#77{BilevelTrajOpt.#eval_g#68{BilevelTrajOpt.SimData,Array{Float64,1},Array{Float64,1},Array{Float64,1},Array{Float64,1},Array{Float64,1},Array{Float64,1},Symmetric{Float64,Array{Float64,2}}}},Float64},Float64,10}}},1}, ::Array{RigidBodyDynamics.Spatial.GeometricJacobian{Array{ForwardDiff.Dual{ForwardDiff.Tag{BilevelTrajOpt.##67#77{BilevelTrajOpt.#eval_g#68{BilevelTrajOpt.SimData,Array{Float64,1},Array{Float64,1},Array{Float64,1},Array{Float64,1},Array{Float64,1},Array{Float64,1},Symmetric{Float64,Array{Float64,2}}}},Float64},Float64,10},2}},1}, ::BilevelTrajOpt.SimData\u001b[1m)\u001b[22m\u001b[22m at \u001b[1m/Users/blandry/.julia/v0.6/BilevelTrajOpt/src/contact.jl:51\u001b[22m\u001b[22m",
      " [3] \u001b[1mdynamics_contact_constraints\u001b[22m\u001b[22m\u001b[1m(\u001b[22m\u001b[22m::Array{ForwardDiff.Dual{ForwardDiff.Tag{BilevelTrajOpt.##67#77{BilevelTrajOpt.#eval_g#68{BilevelTrajOpt.SimData,Array{Float64,1},Array{Float64,1},Array{Float64,1},Array{Float64,1},Array{Float64,1},Array{Float64,1},Symmetric{Float64,Array{Float64,2}}}},Float64},Float64,10},1}, ::Array{Tuple{RigidBodyDynamics.Spatial.Transform3D{ForwardDiff.Dual{ForwardDiff.Tag{BilevelTrajOpt.##67#77{BilevelTrajOpt.#eval_g#68{BilevelTrajOpt.SimData,Array{Float64,1},Array{Float64,1},Array{Float64,1},Array{Float64,1},Array{Float64,1},Array{Float64,1},Symmetric{Float64,Array{Float64,2}}}},Float64},Float64,10}},RigidBodyDynamics.Spatial.Transform3D{ForwardDiff.Dual{ForwardDiff.Tag{BilevelTrajOpt.##67#77{BilevelTrajOpt.#eval_g#68{BilevelTrajOpt.SimData,Array{Float64,1},Array{Float64,1},Array{Float64,1},Array{Float64,1},Array{Float64,1},Array{Float64,1},Symmetric{Float64,Array{Float64,2}}}},Float64},Float64,10}}},1}, ::Array{RigidBodyDynamics.Spatial.GeometricJacobian{Array{ForwardDiff.Dual{ForwardDiff.Tag{BilevelTrajOpt.##67#77{BilevelTrajOpt.#eval_g#68{BilevelTrajOpt.SimData,Array{Float64,1},Array{Float64,1},Array{Float64,1},Array{Float64,1},Array{Float64,1},Array{Float64,1},Symmetric{Float64,Array{Float64,2}}}},Float64},Float64,10},2}},1}, ::Array{ForwardDiff.Dual{ForwardDiff.Tag{BilevelTrajOpt.##67#77{BilevelTrajOpt.#eval_g#68{BilevelTrajOpt.SimData,Array{Float64,1},Array{Float64,1},Array{Float64,1},Array{Float64,1},Array{Float64,1},Array{Float64,1},Symmetric{Float64,Array{Float64,2}}}},Float64},Float64,10},1}, ::Array{ForwardDiff.Dual{ForwardDiff.Tag{BilevelTrajOpt.##67#77{BilevelTrajOpt.#eval_g#68{BilevelTrajOpt.SimData,Array{Float64,1},Array{Float64,1},Array{Float64,1},Array{Float64,1},Array{Float64,1},Array{Float64,1},Symmetric{Float64,Array{Float64,2}}}},Float64},Float64,10},1}, ::BilevelTrajOpt.SimData\u001b[1m)\u001b[22m\u001b[22m at \u001b[1m/Users/blandry/.julia/v0.6/BilevelTrajOpt/src/contact.jl:114\u001b[22m\u001b[22m",
      " [4] \u001b[1m(::BilevelTrajOpt.##41#45{BilevelTrajOpt.SimData,Array{ForwardDiff.Dual{ForwardDiff.Tag{BilevelTrajOpt.##67#77{BilevelTrajOpt.#eval_g#68{BilevelTrajOpt.SimData,Array{Float64,1},Array{Float64,1},Array{Float64,1},Array{Float64,1},Array{Float64,1},Array{Float64,1},Symmetric{Float64,Array{Float64,2}}}},Float64},Float64,10},1},Array{ForwardDiff.Dual{ForwardDiff.Tag{BilevelTrajOpt.##67#77{BilevelTrajOpt.#eval_g#68{BilevelTrajOpt.SimData,Array{Float64,1},Array{Float64,1},Array{Float64,1},Array{Float64,1},Array{Float64,1},Array{Float64,1},Symmetric{Float64,Array{Float64,2}}}},Float64},Float64,10},2},Array{Tuple{RigidBodyDynamics.Spatial.Transform3D{ForwardDiff.Dual{ForwardDiff.Tag{BilevelTrajOpt.##67#77{BilevelTrajOpt.#eval_g#68{BilevelTrajOpt.SimData,Array{Float64,1},Array{Float64,1},Array{Float64,1},Array{Float64,1},Array{Float64,1},Array{Float64,1},Symmetric{Float64,Array{Float64,2}}}},Float64},Float64,10}},RigidBodyDynamics.Spatial.Transform3D{ForwardDiff.Dual{ForwardDiff.Tag{BilevelTrajOpt.##67#77{BilevelTrajOpt.#eval_g#68{BilevelTrajOpt.SimData,Array{Float64,1},Array{Float64,1},Array{Float64,1},Array{Float64,1},Array{Float64,1},Array{Float64,1},Symmetric{Float64,Array{Float64,2}}}},Float64},Float64,10}}},1},Array{RigidBodyDynamics.Spatial.GeometricJacobian{Array{ForwardDiff.Dual{ForwardDiff.Tag{BilevelTrajOpt.##67#77{BilevelTrajOpt.#eval_g#68{BilevelTrajOpt.SimData,Array{Float64,1},Array{Float64,1},Array{Float64,1},Array{Float64,1},Array{Float64,1},Array{Float64,1},Symmetric{Float64,Array{Float64,2}}}},Float64},Float64,10},2}},1},Array{ForwardDiff.Dual{ForwardDiff.Tag{BilevelTrajOpt.##67#77{BilevelTrajOpt.#eval_g#68{BilevelTrajOpt.SimData,Array{Float64,1},Array{Float64,1},Array{Float64,1},Array{Float64,1},Array{Float64,1},Array{Float64,1},Symmetric{Float64,Array{Float64,2}}}},Float64},Float64,10},1},Array{ForwardDiff.Dual{ForwardDiff.Tag{BilevelTrajOpt.##67#77{BilevelTrajOpt.#eval_g#68{BilevelTrajOpt.SimData,Array{Float64,1},Array{Float64,1},Array{Float64,1},Array{Float64,1},Array{Float64,1},Array{Float64,1},Symmetric{Float64,Array{Float64,2}}}},Float64},Float64,10},1}})\u001b[22m\u001b[22m\u001b[1m(\u001b[22m\u001b[22m::Array{ForwardDiff.Dual{ForwardDiff.Tag{BilevelTrajOpt.##67#77{BilevelTrajOpt.#eval_g#68{BilevelTrajOpt.SimData,Array{Float64,1},Array{Float64,1},Array{Float64,1},Array{Float64,1},Array{Float64,1},Array{Float64,1},Symmetric{Float64,Array{Float64,2}}}},Float64},Float64,10},1}\u001b[1m)\u001b[22m\u001b[22m at \u001b[1m/Users/blandry/.julia/v0.6/BilevelTrajOpt/src/contact.jl:153\u001b[22m\u001b[22m",
      " [5] \u001b[1m(::BilevelTrajOpt.##3#8{BilevelTrajOpt.##41#45{BilevelTrajOpt.SimData,Array{ForwardDiff.Dual{ForwardDiff.Tag{BilevelTrajOpt.##67#77{BilevelTrajOpt.#eval_g#68{BilevelTrajOpt.SimData,Array{Float64,1},Array{Float64,1},Array{Float64,1},Array{Float64,1},Array{Float64,1},Array{Float64,1},Symmetric{Float64,Array{Float64,2}}}},Float64},Float64,10},1},Array{ForwardDiff.Dual{ForwardDiff.Tag{BilevelTrajOpt.##67#77{BilevelTrajOpt.#eval_g#68{BilevelTrajOpt.SimData,Array{Float64,1},Array{Float64,1},Array{Float64,1},Array{Float64,1},Array{Float64,1},Array{Float64,1},Symmetric{Float64,Array{Float64,2}}}},Float64},Float64,10},2},Array{Tuple{RigidBodyDynamics.Spatial.Transform3D{ForwardDiff.Dual{ForwardDiff.Tag{BilevelTrajOpt.##67#77{BilevelTrajOpt.#eval_g#68{BilevelTrajOpt.SimData,Array{Float64,1},Array{Float64,1},Array{Float64,1},Array{Float64,1},Array{Float64,1},Array{Float64,1},Symmetric{Float64,Array{Float64,2}}}},Float64},Float64,10}},RigidBodyDynamics.Spatial.Transform3D{ForwardDiff.Dual{ForwardDiff.Tag{BilevelTrajOpt.##67#77{BilevelTrajOpt.#eval_g#68{BilevelTrajOpt.SimData,Array{Float64,1},Array{Float64,1},Array{Float64,1},Array{Float64,1},Array{Float64,1},Array{Float64,1},Symmetric{Float64,Array{Float64,2}}}},Float64},Float64,10}}},1},Array{RigidBodyDynamics.Spatial.GeometricJacobian{Array{ForwardDiff.Dual{ForwardDiff.Tag{BilevelTrajOpt.##67#77{BilevelTrajOpt.#eval_g#68{BilevelTrajOpt.SimData,Array{Float64,1},Array{Float64,1},Array{Float64,1},Array{Float64,1},Array{Float64,1},Array{Float64,1},Symmetric{Float64,Array{Float64,2}}}},Float64},Float64,10},2}},1},Array{ForwardDiff.Dual{ForwardDiff.Tag{BilevelTrajOpt.##67#77{BilevelTrajOpt.#eval_g#68{BilevelTrajOpt.SimData,Array{Float64,1},Array{Float64,1},Array{Float64,1},Array{Float64,1},Array{Float64,1},Array{Float64,1},Symmetric{Float64,Array{Float64,2}}}},Float64},Float64,10},1},Array{ForwardDiff.Dual{ForwardDiff.Tag{BilevelTrajOpt.##67#77{BilevelTrajOpt.#eval_g#68{BilevelTrajOpt.SimData,Array{Float64,1},Array{Float64,1},Array{Float64,1},Array{Float64,1},Array{Float64,1},Array{Float64,1},Symmetric{Float64,Array{Float64,2}}}},Float64},Float64,10},1}},BilevelTrajOpt.##42#46{BilevelTrajOpt.SimData,Array{ForwardDiff.Dual{ForwardDiff.Tag{BilevelTrajOpt.##67#77{BilevelTrajOpt.#eval_g#68{BilevelTrajOpt.SimData,Array{Float64,1},Array{Float64,1},Array{Float64,1},Array{Float64,1},Array{Float64,1},Array{Float64,1},Symmetric{Float64,Array{Float64,2}}}},Float64},Float64,10},2},Array{Float64,1},Array{Float64,1}},Int64,Int64})\u001b[22m\u001b[22m\u001b[1m(\u001b[22m\u001b[22m::Array{ForwardDiff.Dual{ForwardDiff.Tag{BilevelTrajOpt.##67#77{BilevelTrajOpt.#eval_g#68{BilevelTrajOpt.SimData,Array{Float64,1},Array{Float64,1},Array{Float64,1},Array{Float64,1},Array{Float64,1},Array{Float64,1},Symmetric{Float64,Array{Float64,2}}}},Float64},Float64,10},2}\u001b[1m)\u001b[22m\u001b[22m at \u001b[1m/Users/blandry/.julia/v0.6/BilevelTrajOpt/src/auglag.jl:32\u001b[22m\u001b[22m",
      " [6] \u001b[1m#auglag_solve#2\u001b[22m\u001b[22m\u001b[1m(\u001b[22m\u001b[22m::Float64, ::Function, ::Array{Float64,1}, ::Array{Float64,1}, ::Array{Float64,1}, ::BilevelTrajOpt.##40#44, ::BilevelTrajOpt.##41#45{BilevelTrajOpt.SimData,Array{ForwardDiff.Dual{ForwardDiff.Tag{BilevelTrajOpt.##67#77{BilevelTrajOpt.#eval_g#68{BilevelTrajOpt.SimData,Array{Float64,1},Array{Float64,1},Array{Float64,1},Array{Float64,1},Array{Float64,1},Array{Float64,1},Symmetric{Float64,Array{Float64,2}}}},Float64},Float64,10},1},Array{ForwardDiff.Dual{ForwardDiff.Tag{BilevelTrajOpt.##67#77{BilevelTrajOpt.#eval_g#68{BilevelTrajOpt.SimData,Array{Float64,1},Array{Float64,1},Array{Float64,1},Array{Float64,1},Array{Float64,1},Array{Float64,1},Symmetric{Float64,Array{Float64,2}}}},Float64},Float64,10},2},Array{Tuple{RigidBodyDynamics.Spatial.Transform3D{ForwardDiff.Dual{ForwardDiff.Tag{BilevelTrajOpt.##67#77{BilevelTrajOpt.#eval_g#68{BilevelTrajOpt.SimData,Array{Float64,1},Array{Float64,1},Array{Float64,1},Array{Float64,1},Array{Float64,1},Array{Float64,1},Symmetric{Float64,Array{Float64,2}}}},Float64},Float64,10}},RigidBodyDynamics.Spatial.Transform3D{ForwardDiff.Dual{ForwardDiff.Tag{BilevelTrajOpt.##67#77{BilevelTrajOpt.#eval_g#68{BilevelTrajOpt.SimData,Array{Float64,1},Array{Float64,1},Array{Float64,1},Array{Float64,1},Array{Float64,1},Array{Float64,1},Symmetric{Float64,Array{Float64,2}}}},Float64},Float64,10}}},1},Array{RigidBodyDynamics.Spatial.GeometricJacobian{Array{ForwardDiff.Dual{ForwardDiff.Tag{BilevelTrajOpt.##67#77{BilevelTrajOpt.#eval_g#68{BilevelTrajOpt.SimData,Array{Float64,1},Array{Float64,1},Array{Float64,1},Array{Float64,1},Array{Float64,1},Array{Float64,1},Symmetric{Float64,Array{Float64,2}}}},Float64},Float64,10},2}},1},Array{ForwardDiff.Dual{ForwardDiff.Tag{BilevelTrajOpt.##67#77{BilevelTrajOpt.#eval_g#68{BilevelTrajOpt.SimData,Array{Float64,1},Array{Float64,1},Array{Float64,1},Array{Float64,1},Array{Float64,1},Array{Float64,1},Symmetric{Float64,Array{Float64,2}}}},Float64},Float64,10},1},Array{ForwardDiff.Dual{ForwardDiff.Tag{BilevelTrajOpt.##67#77{BilevelTrajOpt.#eval_g#68{BilevelTrajOpt.SimData,Array{Float64,1},Array{Float64,1},Array{Float64,1},Array{Float64,1},Array{Float64,1},Array{Float64,1},Symmetric{Float64,Array{Float64,2}}}},Float64},Float64,10},1}}, ::BilevelTrajOpt.##42#46{BilevelTrajOpt.SimData,Array{ForwardDiff.Dual{ForwardDiff.Tag{BilevelTrajOpt.##67#77{BilevelTrajOpt.#eval_g#68{BilevelTrajOpt.SimData,Array{Float64,1},Array{Float64,1},Array{Float64,1},Array{Float64,1},Array{Float64,1},Array{Float64,1},Symmetric{Float64,Array{Float64,2}}}},Float64},Float64,10},2},Array{Float64,1},Array{Float64,1}}\u001b[1m)\u001b[22m\u001b[22m at \u001b[1m/Users/blandry/.julia/v0.6/BilevelTrajOpt/src/auglag.jl:56\u001b[22m\u001b[22m",
      " [7] \u001b[1m#solve_implicit_contact_τ#38\u001b[22m\u001b[22m\u001b[1m(\u001b[22m\u001b[22m::Bool, ::Function, ::BilevelTrajOpt.SimData, ::Array{ForwardDiff.Dual{ForwardDiff.Tag{BilevelTrajOpt.##67#77{BilevelTrajOpt.#eval_g#68{BilevelTrajOpt.SimData,Array{Float64,1},Array{Float64,1},Array{Float64,1},Array{Float64,1},Array{Float64,1},Array{Float64,1},Symmetric{Float64,Array{Float64,2}}}},Float64},Float64,10},1}, ::Array{ForwardDiff.Dual{ForwardDiff.Tag{BilevelTrajOpt.##67#77{BilevelTrajOpt.#eval_g#68{BilevelTrajOpt.SimData,Array{Float64,1},Array{Float64,1},Array{Float64,1},Array{Float64,1},Array{Float64,1},Array{Float64,1},Symmetric{Float64,Array{Float64,2}}}},Float64},Float64,10},2}, ::Array{Tuple{RigidBodyDynamics.Spatial.Transform3D{ForwardDiff.Dual{ForwardDiff.Tag{BilevelTrajOpt.##67#77{BilevelTrajOpt.#eval_g#68{BilevelTrajOpt.SimData,Array{Float64,1},Array{Float64,1},Array{Float64,1},Array{Float64,1},Array{Float64,1},Array{Float64,1},Symmetric{Float64,Array{Float64,2}}}},Float64},Float64,10}},RigidBodyDynamics.Spatial.Transform3D{ForwardDiff.Dual{ForwardDiff.Tag{BilevelTrajOpt.##67#77{BilevelTrajOpt.#eval_g#68{BilevelTrajOpt.SimData,Array{Float64,1},Array{Float64,1},Array{Float64,1},Array{Float64,1},Array{Float64,1},Array{Float64,1},Symmetric{Float64,Array{Float64,2}}}},Float64},Float64,10}}},1}, ::Array{RigidBodyDynamics.Spatial.GeometricJacobian{Array{ForwardDiff.Dual{ForwardDiff.Tag{BilevelTrajOpt.##67#77{BilevelTrajOpt.#eval_g#68{BilevelTrajOpt.SimData,Array{Float64,1},Array{Float64,1},Array{Float64,1},Array{Float64,1},Array{Float64,1},Array{Float64,1},Symmetric{Float64,Array{Float64,2}}}},Float64},Float64,10},2}},1}, ::Array{ForwardDiff.Dual{ForwardDiff.Tag{BilevelTrajOpt.##67#77{BilevelTrajOpt.#eval_g#68{BilevelTrajOpt.SimData,Array{Float64,1},Array{Float64,1},Array{Float64,1},Array{Float64,1},Array{Float64,1},Array{Float64,1},Symmetric{Float64,Array{Float64,2}}}},Float64},Float64,10},1}, ::Array{ForwardDiff.Dual{ForwardDiff.Tag{BilevelTrajOpt.##67#77{BilevelTrajOpt.#eval_g#68{BilevelTrajOpt.SimData,Array{Float64,1},Array{Float64,1},Array{Float64,1},Array{Float64,1},Array{Float64,1},Array{Float64,1},Symmetric{Float64,Array{Float64,2}}}},Float64},Float64,10},1}, ::Array{Float64,1}, ::Array{Float64,1}, ::Array{Float64,1}\u001b[1m)\u001b[22m\u001b[22m at \u001b[1m/Users/blandry/.julia/v0.6/BilevelTrajOpt/src/contact.jl:169\u001b[22m\u001b[22m",
      " [8] \u001b[1m(::BilevelTrajOpt.#eval_g#68{BilevelTrajOpt.SimData,Array{Float64,1},Array{Float64,1},Array{Float64,1},Array{Float64,1},Array{Float64,1},Array{Float64,1},Symmetric{Float64,Array{Float64,2}}})\u001b[22m\u001b[22m\u001b[1m(\u001b[22m\u001b[22m::Array{ForwardDiff.Dual{ForwardDiff.Tag{BilevelTrajOpt.##67#77{BilevelTrajOpt.#eval_g#68{BilevelTrajOpt.SimData,Array{Float64,1},Array{Float64,1},Array{Float64,1},Array{Float64,1},Array{Float64,1},Array{Float64,1},Symmetric{Float64,Array{Float64,2}}}},Float64},Float64,10},1}, ::Array{ForwardDiff.Dual{ForwardDiff.Tag{BilevelTrajOpt.##67#77{BilevelTrajOpt.#eval_g#68{BilevelTrajOpt.SimData,Array{Float64,1},Array{Float64,1},Array{Float64,1},Array{Float64,1},Array{Float64,1},Array{Float64,1},Symmetric{Float64,Array{Float64,2}}}},Float64},Float64,10},1}\u001b[1m)\u001b[22m\u001b[22m at \u001b[1m/Users/blandry/.julia/v0.6/BilevelTrajOpt/src/simulation.jl:137\u001b[22m\u001b[22m",
      " [9] \u001b[1mchunk_mode_jacobian\u001b[22m\u001b[22m\u001b[1m(\u001b[22m\u001b[22m::BilevelTrajOpt.##67#77{BilevelTrajOpt.#eval_g#68{BilevelTrajOpt.SimData,Array{Float64,1},Array{Float64,1},Array{Float64,1},Array{Float64,1},Array{Float64,1},Array{Float64,1},Symmetric{Float64,Array{Float64,2}}}}, ::Array{Float64,1}, ::Array{Float64,1}, ::ForwardDiff.JacobianConfig{ForwardDiff.Tag{BilevelTrajOpt.##67#77{BilevelTrajOpt.#eval_g#68{BilevelTrajOpt.SimData,Array{Float64,1},Array{Float64,1},Array{Float64,1},Array{Float64,1},Array{Float64,1},Array{Float64,1},Symmetric{Float64,Array{Float64,2}}}},Float64},Float64,10,Tuple{Array{ForwardDiff.Dual{ForwardDiff.Tag{BilevelTrajOpt.##67#77{BilevelTrajOpt.#eval_g#68{BilevelTrajOpt.SimData,Array{Float64,1},Array{Float64,1},Array{Float64,1},Array{Float64,1},Array{Float64,1},Array{Float64,1},Symmetric{Float64,Array{Float64,2}}}},Float64},Float64,10},1},Array{ForwardDiff.Dual{ForwardDiff.Tag{BilevelTrajOpt.##67#77{BilevelTrajOpt.#eval_g#68{BilevelTrajOpt.SimData,Array{Float64,1},Array{Float64,1},Array{Float64,1},Array{Float64,1},Array{Float64,1},Array{Float64,1},Symmetric{Float64,Array{Float64,2}}}},Float64},Float64,10},1}}}\u001b[1m)\u001b[22m\u001b[22m at \u001b[1m/Users/blandry/.julia/v0.6/ForwardDiff/src/jacobian.jl:229\u001b[22m\u001b[22m",
      " [10] \u001b[1mjacobian\u001b[22m\u001b[22m\u001b[1m(\u001b[22m\u001b[22m::Function, ::Array{Float64,1}, ::Array{Float64,1}, ::ForwardDiff.JacobianConfig{ForwardDiff.Tag{BilevelTrajOpt.##67#77{BilevelTrajOpt.#eval_g#68{BilevelTrajOpt.SimData,Array{Float64,1},Array{Float64,1},Array{Float64,1},Array{Float64,1},Array{Float64,1},Array{Float64,1},Symmetric{Float64,Array{Float64,2}}}},Float64},Float64,10,Tuple{Array{ForwardDiff.Dual{ForwardDiff.Tag{BilevelTrajOpt.##67#77{BilevelTrajOpt.#eval_g#68{BilevelTrajOpt.SimData,Array{Float64,1},Array{Float64,1},Array{Float64,1},Array{Float64,1},Array{Float64,1},Array{Float64,1},Symmetric{Float64,Array{Float64,2}}}},Float64},Float64,10},1},Array{ForwardDiff.Dual{ForwardDiff.Tag{BilevelTrajOpt.##67#77{BilevelTrajOpt.#eval_g#68{BilevelTrajOpt.SimData,Array{Float64,1},Array{Float64,1},Array{Float64,1},Array{Float64,1},Array{Float64,1},Array{Float64,1},Symmetric{Float64,Array{Float64,2}}}},Float64},Float64,10},1}}}, ::Val{true}\u001b[1m)\u001b[22m\u001b[22m at \u001b[1m/Users/blandry/.julia/v0.6/ForwardDiff/src/jacobian.jl:36\u001b[22m\u001b[22m",
      " [11] \u001b[1mjacobian\u001b[22m\u001b[22m\u001b[1m(\u001b[22m\u001b[22m::Function, ::Array{Float64,1}, ::Array{Float64,1}, ::ForwardDiff.JacobianConfig{ForwardDiff.Tag{BilevelTrajOpt.##67#77{BilevelTrajOpt.#eval_g#68{BilevelTrajOpt.SimData,Array{Float64,1},Array{Float64,1},Array{Float64,1},Array{Float64,1},Array{Float64,1},Array{Float64,1},Symmetric{Float64,Array{Float64,2}}}},Float64},Float64,10,Tuple{Array{ForwardDiff.Dual{ForwardDiff.Tag{BilevelTrajOpt.##67#77{BilevelTrajOpt.#eval_g#68{BilevelTrajOpt.SimData,Array{Float64,1},Array{Float64,1},Array{Float64,1},Array{Float64,1},Array{Float64,1},Array{Float64,1},Symmetric{Float64,Array{Float64,2}}}},Float64},Float64,10},1},Array{ForwardDiff.Dual{ForwardDiff.Tag{BilevelTrajOpt.##67#77{BilevelTrajOpt.#eval_g#68{BilevelTrajOpt.SimData,Array{Float64,1},Array{Float64,1},Array{Float64,1},Array{Float64,1},Array{Float64,1},Array{Float64,1},Symmetric{Float64,Array{Float64,2}}}},Float64},Float64,10},1}}}\u001b[1m)\u001b[22m\u001b[22m at \u001b[1m/Users/blandry/.julia/v0.6/ForwardDiff/src/jacobian.jl:32\u001b[22m\u001b[22m (repeats 2 times)",
      " [12] \u001b[1m(::BilevelTrajOpt.#eval_jac_g#76{BilevelTrajOpt.SimData,BilevelTrajOpt.#eval_g#68{BilevelTrajOpt.SimData,Array{Float64,1},Array{Float64,1},Array{Float64,1},Array{Float64,1},Array{Float64,1},Array{Float64,1},Symmetric{Float64,Array{Float64,2}}}})\u001b[22m\u001b[22m\u001b[1m(\u001b[22m\u001b[22m::Array{Float64,1}, ::Symbol, ::Array{Int32,1}, ::Array{Int32,1}, ::Array{Float64,1}\u001b[1m)\u001b[22m\u001b[22m at \u001b[1m/Users/blandry/.julia/v0.6/BilevelTrajOpt/src/simulation.jl:167\u001b[22m\u001b[22m",
      " [13] \u001b[1meval_jac_g_wrapper\u001b[22m\u001b[22m\u001b[1m(\u001b[22m\u001b[22m::Int32, ::Ptr{Float64}, ::Int32, ::Int32, ::Int32, ::Ptr{Int32}, ::Ptr{Int32}, ::Ptr{Float64}, ::Ptr{Void}\u001b[1m)\u001b[22m\u001b[22m at \u001b[1m/Users/blandry/.julia/v0.6/Ipopt/src/Ipopt.jl:143\u001b[22m\u001b[22m",
      " [14] \u001b[1msolveProblem\u001b[22m\u001b[22m\u001b[1m(\u001b[22m\u001b[22m::Ipopt.IpoptProblem\u001b[1m)\u001b[22m\u001b[22m at \u001b[1m/Users/blandry/.julia/v0.6/Ipopt/src/Ipopt.jl:322\u001b[22m\u001b[22m",
      " [15] \u001b[1m#simulate#78\u001b[22m\u001b[22m\u001b[1m(\u001b[22m\u001b[22m::Bool, ::Function, ::RigidBodyDynamics.MechanismState{Float64,Float64,Float64,TypeSortedCollections.TypeSortedCollection{Tuple{Array{RigidBodyDynamics.Joint{Float64,RigidBodyDynamics.Fixed{Float64}},1},Array{RigidBodyDynamics.Joint{Float64,RigidBodyDynamics.QuaternionFloating{Float64}},1}},2}}, ::BilevelTrajOpt.Environment, ::Float64, ::Int64, ::##1#2\u001b[1m)\u001b[22m\u001b[22m at \u001b[1m/Users/blandry/.julia/v0.6/BilevelTrajOpt/src/simulation.jl:310\u001b[22m\u001b[22m",
      " [16] \u001b[1m(::BilevelTrajOpt.#kw##simulate)\u001b[22m\u001b[22m\u001b[1m(\u001b[22m\u001b[22m::Array{Any,1}, ::BilevelTrajOpt.#simulate, ::RigidBodyDynamics.MechanismState{Float64,Float64,Float64,TypeSortedCollections.TypeSortedCollection{Tuple{Array{RigidBodyDynamics.Joint{Float64,RigidBodyDynamics.Fixed{Float64}},1},Array{RigidBodyDynamics.Joint{Float64,RigidBodyDynamics.QuaternionFloating{Float64}},1}},2}}, ::BilevelTrajOpt.Environment, ::Float64, ::Int64, ::Function\u001b[1m)\u001b[22m\u001b[22m at \u001b[1m./<missing>:0\u001b[22m\u001b[22m",
      " [17] \u001b[1minclude_string\u001b[22m\u001b[22m\u001b[1m(\u001b[22m\u001b[22m::String, ::String\u001b[1m)\u001b[22m\u001b[22m at \u001b[1m./loading.jl:522\u001b[22m\u001b[22m",
      " [18] \u001b[1mexecute_request\u001b[22m\u001b[22m\u001b[1m(\u001b[22m\u001b[22m::ZMQ.Socket, ::IJulia.Msg\u001b[1m)\u001b[22m\u001b[22m at \u001b[1m/Users/blandry/.julia/v0.6/IJulia/src/execute_request.jl:193\u001b[22m\u001b[22m",
      " [19] \u001b[1m(::Compat.#inner#14{Array{Any,1},IJulia.#execute_request,Tuple{ZMQ.Socket,IJulia.Msg}})\u001b[22m\u001b[22m\u001b[1m(\u001b[22m\u001b[22m\u001b[1m)\u001b[22m\u001b[22m at \u001b[1m/Users/blandry/.julia/v0.6/Compat/src/Compat.jl:332\u001b[22m\u001b[22m",
      " [20] \u001b[1meventloop\u001b[22m\u001b[22m\u001b[1m(\u001b[22m\u001b[22m::ZMQ.Socket\u001b[1m)\u001b[22m\u001b[22m at \u001b[1m/Users/blandry/.julia/v0.6/IJulia/src/eventloop.jl:8\u001b[22m\u001b[22m",
      " [21] \u001b[1m(::IJulia.##13#16)\u001b[22m\u001b[22m\u001b[1m(\u001b[22m\u001b[22m\u001b[1m)\u001b[22m\u001b[22m at \u001b[1m./task.jl:335\u001b[22m\u001b[22m"
     ]
    }
   ],
   "source": [
    "println(\"Implicit Contacts\")\n",
    "traj_imp = BilevelTrajOpt.simulate(x0,env,Δt,N,ctrl!,implicit_contact=true);"
   ]
  },
  {
   "cell_type": "code",
   "execution_count": null,
   "metadata": {
    "collapsed": false
   },
   "outputs": [],
   "source": [
    "println(\"Explicit Contacts\")\n",
    "traj_exp = BilevelTrajOpt.simulate(x0,env,Δt,N,ctrl!,implicit_contact=false);"
   ]
  },
  {
   "cell_type": "code",
   "execution_count": null,
   "metadata": {
    "collapsed": false
   },
   "outputs": [],
   "source": [
    "ts = cumsum([Δt for i in 1:N]);\n",
    "j = 11\n",
    "plot(traj_exp[j,:],label=\"explicit\")\n",
    "# plot!(traj_imp[j,:],label=\"implicit\")"
   ]
  },
  {
   "cell_type": "code",
   "execution_count": null,
   "metadata": {
    "collapsed": true
   },
   "outputs": [],
   "source": [
    "traj_imp"
   ]
  },
  {
   "cell_type": "code",
   "execution_count": null,
   "metadata": {
    "collapsed": true
   },
   "outputs": [],
   "source": [
    "maximum(traj_exp)"
   ]
  }
 ],
 "metadata": {
  "kernelspec": {
   "display_name": "Julia 0.6.4",
   "language": "julia",
   "name": "julia-0.6"
  },
  "language_info": {
   "file_extension": ".jl",
   "mimetype": "application/julia",
   "name": "julia",
   "version": "0.6.4"
  }
 },
 "nbformat": 4,
 "nbformat_minor": 2
}
