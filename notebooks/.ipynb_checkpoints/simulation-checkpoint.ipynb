{
 "cells": [
  {
   "cell_type": "code",
   "execution_count": 1,
   "metadata": {},
   "outputs": [
    {
     "data": {
      "text/html": [
       "    <script class='js-collapse-script'>\n",
       "        var curMatch =\n",
       "            window.location.href\n",
       "            .match(/(.*?)\\/notebooks\\/.*\\.ipynb/);\n",
       "\n",
       "        curMatch = curMatch ||\n",
       "            window.location.href\n",
       "            .match(/(.*?)\\/apps\\/.*\\.ipynb/);\n",
       "\n",
       "        if ( curMatch ) {\n",
       "            $('head').append('<base href=\"' + curMatch[1] + '/\">');\n",
       "        }\n",
       "    </script>\n"
      ],
      "text/plain": [
       "HTML{String}(\"    <script class='js-collapse-script'>\\n        var curMatch =\\n            window.location.href\\n            .match(/(.*?)\\\\/notebooks\\\\/.*\\\\.ipynb/);\\n\\n        curMatch = curMatch ||\\n            window.location.href\\n            .match(/(.*?)\\\\/apps\\\\/.*\\\\.ipynb/);\\n\\n        if ( curMatch ) {\\n            \\$('head').append('<base href=\\\"' + curMatch[1] + '/\\\">');\\n        }\\n    </script>\\n\")"
      ]
     },
     "metadata": {},
     "output_type": "display_data"
    },
    {
     "data": {
      "text/html": [
       "<script class='js-collapse-script' src='/assetserver/9dd84cf97c4fc16956f39829c81f3b6907c8fc83-assets/webio/dist/bundle.js'></script>"
      ],
      "text/plain": [
       "HTML{String}(\"<script class='js-collapse-script' src='/assetserver/9dd84cf97c4fc16956f39829c81f3b6907c8fc83-assets/webio/dist/bundle.js'></script>\")"
      ]
     },
     "metadata": {},
     "output_type": "display_data"
    },
    {
     "data": {
      "text/html": [
       "<script class='js-collapse-script' src='/assetserver/9dd84cf97c4fc16956f39829c81f3b6907c8fc83-assets/providers/ijulia_setup.js'></script>"
      ],
      "text/plain": [
       "HTML{String}(\"<script class='js-collapse-script' src='/assetserver/9dd84cf97c4fc16956f39829c81f3b6907c8fc83-assets/providers/ijulia_setup.js'></script>\")"
      ]
     },
     "metadata": {},
     "output_type": "display_data"
    },
    {
     "data": {
      "text/html": [
       "  <script class='js-collapse-script'>\n",
       "    $('.js-collapse-script').parent('.output_subarea').css('padding', '0');\n",
       "  </script>\n"
      ],
      "text/plain": [
       "HTML{String}(\"  <script class='js-collapse-script'>\\n    \\$('.js-collapse-script').parent('.output_subarea').css('padding', '0');\\n  </script>\\n\")"
      ]
     },
     "metadata": {},
     "output_type": "display_data"
    }
   ],
   "source": [
    "using Revise\n",
    "\n",
    "using RigidBodyDynamics\n",
    "using RigidBodyDynamics: Bounds\n",
    "\n",
    "using DrakeVisualizer\n",
    "using Plots\n",
    "using RigidBodyTreeInspector\n",
    "\n",
    "using BilevelTrajOpt\n",
    "gr(size=(500,500), html_output_format=:png);"
   ]
  },
  {
   "cell_type": "code",
   "execution_count": 2,
   "metadata": {},
   "outputs": [],
   "source": [
    "urdf = joinpath(\"..\", \"urdf\", \"ball.urdf\")\n",
    "mechanism = parse_urdf(Float64, urdf)\n",
    "body = findbody(mechanism, \"ball\")\n",
    "basejoint = joint_to_parent(body, mechanism)\n",
    "floatingjoint = Joint(basejoint.name, frame_before(basejoint), frame_after(basejoint), QuaternionFloating{Float64}())\n",
    "replace_joint!(mechanism, basejoint, floatingjoint)\n",
    "position_bounds(floatingjoint) .= Bounds(-100, 100)\n",
    "velocity_bounds(floatingjoint) .= Bounds(-100, 100)\n",
    "env = parse_contacts(mechanism, urdf, .5);\n",
    "x0 = MechanismState(mechanism)\n",
    "Δt = 0.01;"
   ]
  },
  {
   "cell_type": "code",
   "execution_count": 24,
   "metadata": {},
   "outputs": [
    {
     "name": "stdout",
     "output_type": "stream",
     "text": [
      "Explicit Contacts\n",
      "Solve_Succeeded\n",
      "Solve_Succeeded\n",
      "Solve_Succeeded\n",
      "Solve_Succeeded\n",
      "Solve_Succeeded\n",
      "Solve_Succeeded\n",
      "Solve_Succeeded\n",
      "Solve_Succeeded\n",
      "Solve_Succeeded\n",
      "Solve_Succeeded\n",
      "Implicit Contacts\n",
      "Solve_Succeeded\n",
      "Solve_Succeeded\n",
      "Solve_Succeeded\n",
      "Solve_Succeeded\n",
      "Solve_Succeeded\n",
      "Solve_Succeeded\n",
      "Solved_To_Acceptable_Level\n",
      "Solve_Succeeded\n",
      "Solved_To_Acceptable_Level\n",
      "Solve_Succeeded\n"
     ]
    }
   ],
   "source": [
    "q0 = [1., 0., 0., 0., 0., 0., .025]\n",
    "v0 = [0., 0., 0., .25, 0. , 0.]\n",
    "N = 10\n",
    "\n",
    "set_configuration!(x0, q0)\n",
    "set_velocity!(x0, v0)\n",
    "setdirty!(x0)\n",
    "\n",
    "println(\"Explicit Contacts\")\n",
    "traj_exp = BilevelTrajOpt.simulate(x0,env,Δt,N,implicit_contact=false);\n",
    "println(\"Implicit Contacts\")\n",
    "traj_imp = BilevelTrajOpt.simulate(x0,env,Δt,N,implicit_contact=true);"
   ]
  },
  {
   "cell_type": "code",
   "execution_count": 39,
   "metadata": {},
   "outputs": [
    {
     "data": {
      "image/png": "[encoded data removed]"
     },
     "execution_count": 39,
     "metadata": {},
     "output_type": "execute_result"
    }
   ],
   "source": [
    "ts = cumsum([Δt for i in 1:N]);\n",
    "plot(traj_exp[11,:],label=\"explicit\")\n",
    "plot!(traj_imp[11,:],label=\"implicit\")"
   ]
  },
  {
   "cell_type": "code",
   "execution_count": 55,
   "metadata": {},
   "outputs": [
    {
     "name": "stdout",
     "output_type": "stream",
     "text": [
      "[0.0, 0.38959, 0.226423, 1.68011, 0.226423, 6.97269e-9, 5.48421]\n",
      "[0.0, 0.366802, 0.672334, 0.3668, 0.671554, 0.253828, 5.49821]\n"
     ]
    }
   ],
   "source": [
    "println(traj_exp[7+6+1:end,9])\n",
    "println(traj_imp[7+6+1:end,9])"
   ]
  },
  {
   "cell_type": "code",
   "execution_count": null,
   "metadata": {},
   "outputs": [],
   "source": [
    "println(traj_imp[14:end,9])"
   ]
  },
  {
   "cell_type": "code",
   "execution_count": 53,
   "metadata": {},
   "outputs": [
    {
     "name": "stdout",
     "output_type": "stream",
     "text": [
      "[1.0, 1.02527e-44, -3.30872e-28, -8.9132e-46, 0.016266, 1.5112e-19, -1.40034e-9, -9.0404e-42, -2.86986e-41, -3.59817e-44, 0.1266, 1.51121e-17, -0.439901]\n"
     ]
    }
   ],
   "source": [
    "println(traj_exp[1:7+6,8])"
   ]
  },
  {
   "cell_type": "code",
   "execution_count": 26,
   "metadata": {},
   "outputs": [],
   "source": [
    "DrakeVisualizer.any_open_windows() || (DrakeVisualizer.new_window(); sleep(1));\n",
    "geometries = visual_elements(mechanism, URDFVisuals(urdf))\n",
    "vis = Visualizer(mechanism, geometries);"
   ]
  },
  {
   "cell_type": "code",
   "execution_count": 36,
   "metadata": {},
   "outputs": [],
   "source": [
    "traj = traj_exp\n",
    "qs = [traj[1:num_positions(x0),i] for i in 1:N]\n",
    "ts = cumsum([Δt for i in 1:N]);\n",
    "RigidBodyTreeInspector.animate(vis, mechanism, ts, qs; realtimerate = .25);"
   ]
  }
 ],
 "metadata": {
  "kernelspec": {
   "display_name": "Julia 0.6.4",
   "language": "julia",
   "name": "julia-0.6"
  },
  "language_info": {
   "file_extension": ".jl",
   "mimetype": "application/julia",
   "name": "julia",
   "version": "0.6.4"
  }
 },
 "nbformat": 4,
 "nbformat_minor": 2
}
