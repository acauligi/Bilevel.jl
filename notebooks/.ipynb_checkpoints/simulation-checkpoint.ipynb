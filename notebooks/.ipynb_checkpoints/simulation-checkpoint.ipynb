{
 "cells": [
  {
   "cell_type": "code",
   "execution_count": 1,
   "metadata": {},
   "outputs": [
    {
     "data": {
      "text/html": [
       "    <script class='js-collapse-script'>\n",
       "        var curMatch =\n",
       "            window.location.href\n",
       "            .match(/(.*?)\\/notebooks\\/.*\\.ipynb/);\n",
       "\n",
       "        curMatch = curMatch ||\n",
       "            window.location.href\n",
       "            .match(/(.*?)\\/apps\\/.*\\.ipynb/);\n",
       "\n",
       "        if ( curMatch ) {\n",
       "            $('head').append('<base href=\"' + curMatch[1] + '/\">');\n",
       "        }\n",
       "    </script>\n"
      ],
      "text/plain": [
       "HTML{String}(\"    <script class='js-collapse-script'>\\n        var curMatch =\\n            window.location.href\\n            .match(/(.*?)\\\\/notebooks\\\\/.*\\\\.ipynb/);\\n\\n        curMatch = curMatch ||\\n            window.location.href\\n            .match(/(.*?)\\\\/apps\\\\/.*\\\\.ipynb/);\\n\\n        if ( curMatch ) {\\n            \\$('head').append('<base href=\\\"' + curMatch[1] + '/\\\">');\\n        }\\n    </script>\\n\")"
      ]
     },
     "metadata": {},
     "output_type": "display_data"
    },
    {
     "data": {
      "text/html": [
       "<script class='js-collapse-script' src='/assetserver/9dd84cf97c4fc16956f39829c81f3b6907c8fc83-assets/webio/dist/bundle.js'></script>"
      ],
      "text/plain": [
       "HTML{String}(\"<script class='js-collapse-script' src='/assetserver/9dd84cf97c4fc16956f39829c81f3b6907c8fc83-assets/webio/dist/bundle.js'></script>\")"
      ]
     },
     "metadata": {},
     "output_type": "display_data"
    },
    {
     "data": {
      "text/html": [
       "<script class='js-collapse-script' src='/assetserver/9dd84cf97c4fc16956f39829c81f3b6907c8fc83-assets/providers/ijulia_setup.js'></script>"
      ],
      "text/plain": [
       "HTML{String}(\"<script class='js-collapse-script' src='/assetserver/9dd84cf97c4fc16956f39829c81f3b6907c8fc83-assets/providers/ijulia_setup.js'></script>\")"
      ]
     },
     "metadata": {},
     "output_type": "display_data"
    },
    {
     "data": {
      "text/html": [
       "  <script class='js-collapse-script'>\n",
       "    $('.js-collapse-script').parent('.output_subarea').css('padding', '0');\n",
       "  </script>\n"
      ],
      "text/plain": [
       "HTML{String}(\"  <script class='js-collapse-script'>\\n    \\$('.js-collapse-script').parent('.output_subarea').css('padding', '0');\\n  </script>\\n\")"
      ]
     },
     "metadata": {},
     "output_type": "display_data"
    },
    {
     "name": "stderr",
     "output_type": "stream",
     "text": [
      "WARNING: local variable T conflicts with a static parameter in eval_g at /home/blandry/.julia/v0.6/BilevelTrajOpt/src/simulation.jl:102.\n",
      "WARNING: local variable T conflicts with a static parameter in eval_g at /home/blandry/.julia/v0.6/BilevelTrajOpt/src/simulation.jl:102.\n",
      "WARNING: local variable T conflicts with a static parameter in eval_g at /home/blandry/.julia/v0.6/BilevelTrajOpt/src/simulation.jl:102.\n"
     ]
    }
   ],
   "source": [
    "using Revise\n",
    "\n",
    "using RigidBodyDynamics\n",
    "using RigidBodyDynamics: Bounds\n",
    "\n",
    "using DrakeVisualizer\n",
    "using Plots\n",
    "using RigidBodyTreeInspector\n",
    "\n",
    "using BilevelTrajOpt\n",
    "gr(size=(500,500), html_output_format=:png);"
   ]
  },
  {
   "cell_type": "code",
   "execution_count": 2,
   "metadata": {},
   "outputs": [],
   "source": [
    "urdf = joinpath(\"..\", \"urdf\", \"ball.urdf\")\n",
    "mechanism = parse_urdf(Float64, urdf)\n",
    "body = findbody(mechanism, \"ball\")\n",
    "basejoint = joint_to_parent(body, mechanism)\n",
    "floatingjoint = Joint(basejoint.name, frame_before(basejoint), frame_after(basejoint), QuaternionFloating{Float64}())\n",
    "replace_joint!(mechanism, basejoint, floatingjoint)\n",
    "position_bounds(floatingjoint) .= Bounds(-100, 100)\n",
    "velocity_bounds(floatingjoint) .= Bounds(-100, 100)\n",
    "μ = 0.5\n",
    "motion_type = :xyz\n",
    "point = Point3D(default_frame(findbody(mechanism, \"floor\")), [0.,0.,0.])\n",
    "normal = FreeVector3D(default_frame(findbody(mechanism, \"floor\")), [0.,0.,1.])\n",
    "hs = HalfSpace(point, normal)\n",
    "floor = Obstacle(hs, μ, motion_type)\n",
    "obstacles = [floor]\n",
    "env = parse_contacts(mechanism, urdf, obstacles)\n",
    "x0 = MechanismState(mechanism)\n",
    "Δt = 0.005;"
   ]
  },
  {
   "cell_type": "code",
   "execution_count": 3,
   "metadata": {},
   "outputs": [
    {
     "data": {
      "text/plain": [
       "6-element Array{Float64,1}:\n",
       " 0.0\n",
       " 0.0\n",
       " 0.0\n",
       " 0.0\n",
       " 0.0\n",
       " 0.0"
      ]
     },
     "metadata": {},
     "output_type": "display_data"
    },
    {
     "data": {
      "text/plain": [
       "6-element Array{Float64,1}:\n",
       " 0.0\n",
       " 0.0\n",
       " 0.0\n",
       " 0.0\n",
       " 0.0\n",
       " 0.0"
      ]
     },
     "metadata": {},
     "output_type": "display_data"
    },
    {
     "data": {
      "text/plain": [
       "17-element Array{Float64,1}:\n",
       " 0.0\n",
       " 0.0\n",
       " 0.0\n",
       " 0.0\n",
       " 0.0\n",
       " 0.0\n",
       " 0.0\n",
       " 0.0\n",
       " 0.0\n",
       " 0.0\n",
       " 0.0\n",
       " 0.0\n",
       " 0.0\n",
       " 0.0\n",
       " 0.0\n",
       " 0.0\n",
       " 0.0"
      ]
     },
     "metadata": {},
     "output_type": "display_data"
    },
    {
     "data": {
      "text/plain": [
       "\"---\""
      ]
     },
     "metadata": {},
     "output_type": "display_data"
    },
    {
     "data": {
      "text/plain": [
       "6-element Array{Float64,1}:\n",
       " -0.0331825\n",
       "  0.0066202\n",
       "  0.0464229\n",
       "  0.0066202\n",
       "  0.134848 \n",
       "  0.0724579"
      ]
     },
     "metadata": {},
     "output_type": "display_data"
    },
    {
     "data": {
      "text/plain": [
       "6-element Array{Float64,1}:\n",
       " 0.0       \n",
       " 0.0       \n",
       " 0.0       \n",
       " 0.195232  \n",
       " 2.1272e-18\n",
       " 2.2748    "
      ]
     },
     "metadata": {},
     "output_type": "display_data"
    },
    {
     "data": {
      "text/plain": [
       "17×1 Array{Float64,2}:\n",
       " 2.77676  \n",
       " 1.63264  \n",
       " 0.926837 \n",
       " 1.63264  \n",
       " 0.300306 \n",
       " 0.649649 \n",
       " 0.0215425\n",
       " 0.300306 \n",
       " 6.13663  \n",
       " 0.300306 \n",
       " 1.56187  \n",
       " 0.0      \n",
       " 0.0      \n",
       " 0.0      \n",
       " 0.0      \n",
       " 0.0      \n",
       " 0.0      "
      ]
     },
     "metadata": {},
     "output_type": "display_data"
    },
    {
     "data": {
      "text/plain": [
       "\"---\""
      ]
     },
     "metadata": {},
     "output_type": "display_data"
    },
    {
     "name": "stdout",
     "output_type": "stream",
     "text": [
      "Implicit Contacts\n"
     ]
    },
    {
     "data": {
      "text/plain": [
       "6-element Array{Float64,1}:\n",
       "  0.0861533\n",
       "  0.0141064\n",
       " -0.0309539\n",
       "  0.0141064\n",
       "  0.587719 \n",
       "  0.187155 "
      ]
     },
     "metadata": {},
     "output_type": "display_data"
    },
    {
     "data": {
      "text/plain": [
       "6-element Array{Float64,1}:\n",
       "  0.0        \n",
       "  0.0        \n",
       "  0.0        \n",
       " -0.0919733  \n",
       "  6.59433e-17\n",
       "  4.2683     "
      ]
     },
     "metadata": {},
     "output_type": "display_data"
    },
    {
     "data": {
      "text/plain": [
       "17×1 Array{Float64,2}:\n",
       " 0.654753   \n",
       " 1.85224    \n",
       " 3.09451    \n",
       " 1.85224    \n",
       " 0.00280658 \n",
       " 0.167153   \n",
       " 0.000230082\n",
       " 0.00280658 \n",
       " 0.0347604  \n",
       " 0.00280658 \n",
       " 1.94453    \n",
       " 0.0        \n",
       " 0.0        \n",
       " 0.0        \n",
       " 0.0        \n",
       " 0.0        \n",
       " 0.0        "
      ]
     },
     "metadata": {},
     "output_type": "display_data"
    },
    {
     "data": {
      "text/plain": [
       "\"---\""
      ]
     },
     "metadata": {},
     "output_type": "display_data"
    },
    {
     "data": {
      "text/plain": [
       "6-element Array{Float64,1}:\n",
       " 0.0252962\n",
       " 0.0307841\n",
       " 0.0392091\n",
       " 0.0307841\n",
       " 0.342128 \n",
       " 0.317125 "
      ]
     },
     "metadata": {},
     "output_type": "display_data"
    },
    {
     "data": {
      "text/plain": [
       "6-element Array{Float64,1}:\n",
       " 0.0        \n",
       " 0.0        \n",
       " 0.0        \n",
       " 0.0733775  \n",
       " 2.33993e-17\n",
       " 5.89536    "
      ]
     },
     "metadata": {},
     "output_type": "display_data"
    },
    {
     "data": {
      "text/plain": [
       "17×1 Array{Float64,2}:\n",
       " 1.64823   \n",
       " 1.43709   \n",
       " 1.22616   \n",
       " 1.43709   \n",
       " 0.0347981 \n",
       " 0.0424969 \n",
       " 0.00269639\n",
       " 0.0347981 \n",
       " 1.29419   \n",
       " 0.0347981 \n",
       " 1.38119   \n",
       " 0.0       \n",
       " 0.0       \n",
       " 0.0       \n",
       " 0.0       \n",
       " 0.0       \n",
       " 0.0       "
      ]
     },
     "metadata": {},
     "output_type": "display_data"
    },
    {
     "data": {
      "text/plain": [
       "\"---\""
      ]
     },
     "metadata": {},
     "output_type": "display_data"
    },
    {
     "data": {
      "text/plain": [
       "6-element Array{Float64,1}:\n",
       " 0.0257043\n",
       " 0.0316576\n",
       " 0.0398648\n",
       " 0.0316576\n",
       " 0.301725 \n",
       " 0.325391 "
      ]
     },
     "metadata": {},
     "output_type": "display_data"
    },
    {
     "data": {
      "text/plain": [
       "6-element Array{Float64,1}:\n",
       " 0.0        \n",
       " 0.0        \n",
       " 0.0        \n",
       " 0.108106   \n",
       " 6.38161e-18\n",
       " 7.54984    "
      ]
     },
     "metadata": {},
     "output_type": "display_data"
    },
    {
     "data": {
      "text/plain": [
       "17×1 Array{Float64,2}:\n",
       " 1.53238   \n",
       " 1.33305   \n",
       " 1.12867   \n",
       " 1.33305   \n",
       " 0.0501736 \n",
       " 0.0393883 \n",
       " 0.00402498\n",
       " 0.0501736 \n",
       " 0.941749  \n",
       " 0.0501736 \n",
       " 1.27447   \n",
       " 0.0       \n",
       " 0.0       \n",
       " 0.0       \n",
       " 0.0       \n",
       " 0.0       \n",
       " 0.0       "
      ]
     },
     "metadata": {},
     "output_type": "display_data"
    },
    {
     "data": {
      "text/plain": [
       "\"---\""
      ]
     },
     "metadata": {},
     "output_type": "display_data"
    },
    {
     "name": "stdout",
     "output_type": "stream",
     "text": [
      "elapsed time: 51.946213271 seconds\n"
     ]
    },
    {
     "data": {
      "text/plain": [
       "6-element Array{Float64,1}:\n",
       " 0.0260021\n",
       " 0.0335924\n",
       " 0.0434176\n",
       " 0.0335924\n",
       " 0.275755 \n",
       " 0.345935 "
      ]
     },
     "metadata": {},
     "output_type": "display_data"
    },
    {
     "data": {
      "text/plain": [
       "6-element Array{Float64,1}:\n",
       " 0.0        \n",
       " 0.0        \n",
       " 0.0        \n",
       " 0.150818   \n",
       " 6.38161e-18\n",
       " 9.15393    "
      ]
     },
     "metadata": {},
     "output_type": "display_data"
    },
    {
     "data": {
      "text/plain": [
       "17×1 Array{Float64,2}:\n",
       " 1.49038   \n",
       " 1.26933   \n",
       " 1.05364   \n",
       " 1.26933   \n",
       " 0.0655493 \n",
       " 0.0319554 \n",
       " 0.00522166\n",
       " 0.0655493 \n",
       " 1.36011   \n",
       " 0.0655493 \n",
       " 1.2025    \n",
       " 0.0       \n",
       " 0.0       \n",
       " 0.0       \n",
       " 0.0       \n",
       " 0.0       \n",
       " 0.0       "
      ]
     },
     "metadata": {},
     "output_type": "display_data"
    },
    {
     "data": {
      "text/plain": [
       "\"---\""
      ]
     },
     "metadata": {},
     "output_type": "display_data"
    },
    {
     "data": {
      "text/plain": [
       "6-element Array{Float64,1}:\n",
       " 0.0268641\n",
       " 0.0342108\n",
       " 0.0442999\n",
       " 0.0342108\n",
       " 0.289293 \n",
       " 0.353041 "
      ]
     },
     "metadata": {},
     "output_type": "display_data"
    },
    {
     "data": {
      "text/plain": [
       "6-element Array{Float64,1}:\n",
       " -7.94038e-26\n",
       "  5.2311e-8  \n",
       "  1.43833e-27\n",
       "  0.158345   \n",
       " -1.40396e-17\n",
       "  9.06229    "
      ]
     },
     "metadata": {},
     "output_type": "display_data"
    },
    {
     "data": {
      "text/plain": [
       "17×1 Array{Float64,2}:\n",
       " 1.4507    \n",
       " 1.24246   \n",
       " 1.03013   \n",
       " 1.24246   \n",
       " 0.057003  \n",
       " 0.0297237 \n",
       " 0.00459026\n",
       " 0.057003  \n",
       " 1.11137   \n",
       " 0.057003  \n",
       " 1.17806   \n",
       " 0.0       \n",
       " 0.0       \n",
       " 0.0       \n",
       " 0.0       \n",
       " 0.0       \n",
       " 0.0       "
      ]
     },
     "metadata": {},
     "output_type": "display_data"
    },
    {
     "data": {
      "text/plain": [
       "\"---\""
      ]
     },
     "metadata": {},
     "output_type": "display_data"
    },
    {
     "data": {
      "text/plain": [
       "6-element Array{Float64,1}:\n",
       " 0.0268038\n",
       " 0.0341543\n",
       " 0.0442478\n",
       " 0.0341543\n",
       " 0.289278 \n",
       " 0.352478 "
      ]
     },
     "metadata": {},
     "output_type": "display_data"
    },
    {
     "data": {
      "text/plain": [
       "6-element Array{Float64,1}:\n",
       " -1.58808e-25\n",
       "  1.04622e-7 \n",
       "  2.87666e-27\n",
       "  0.167006   \n",
       " -1.40396e-17\n",
       "  8.97563    "
      ]
     },
     "metadata": {},
     "output_type": "display_data"
    },
    {
     "data": {
      "text/plain": [
       "17×1 Array{Float64,2}:\n",
       " 1.44845   \n",
       " 1.24061   \n",
       " 1.02864   \n",
       " 1.24061   \n",
       " 0.0570171 \n",
       " 0.0299009 \n",
       " 0.00459099\n",
       " 0.0570171 \n",
       " 1.11057   \n",
       " 0.0570171 \n",
       " 1.17655   \n",
       " 0.0       \n",
       " 0.0       \n",
       " 0.0       \n",
       " 0.0       \n",
       " 0.0       \n",
       " 0.0       "
      ]
     },
     "metadata": {},
     "output_type": "display_data"
    },
    {
     "data": {
      "text/plain": [
       "\"---\""
      ]
     },
     "metadata": {},
     "output_type": "display_data"
    },
    {
     "name": "stdout",
     "output_type": "stream",
     "text": [
      "elapsed time: 0.312779911 seconds\n",
      "\n",
      "******************************************************************************\n",
      "This program contains Ipopt, a library for large-scale nonlinear optimization.\n",
      " Ipopt is released as open source code under the Eclipse Public License (EPL).\n",
      "         For more information visit http://projects.coin-or.org/Ipopt\n",
      "******************************************************************************\n",
      "\n"
     ]
    },
    {
     "data": {
      "text/plain": [
       "6-element Array{Float64,1}:\n",
       " 0.0266207\n",
       " 0.0339624\n",
       " 0.0440324\n",
       " 0.0339624\n",
       " 0.289326 \n",
       " 0.350491 "
      ]
     },
     "metadata": {},
     "output_type": "display_data"
    },
    {
     "data": {
      "text/plain": [
       "6-element Array{Float64,1}:\n",
       " -2.38211e-25\n",
       "  1.56933e-7 \n",
       "  4.31499e-27\n",
       "  0.175587   \n",
       "  2.97809e-18\n",
       "  8.89385    "
      ]
     },
     "metadata": {},
     "output_type": "display_data"
    },
    {
     "data": {
      "text/plain": [
       "17×1 Array{Float64,2}:\n",
       " 1.45227  \n",
       " 1.24414  \n",
       " 1.03193  \n",
       " 1.24414  \n",
       " 0.0569891\n",
       " 0.0305102\n",
       " 0.0045888\n",
       " 0.0569891\n",
       " 1.10962  \n",
       " 0.0569891\n",
       " 1.18031  \n",
       " 0.0      \n",
       " 0.0      \n",
       " 0.0      \n",
       " 0.0      \n",
       " 0.0      \n",
       " 0.0      "
      ]
     },
     "metadata": {},
     "output_type": "display_data"
    },
    {
     "data": {
      "text/plain": [
       "\"---\""
      ]
     },
     "metadata": {},
     "output_type": "display_data"
    },
    {
     "data": {
      "text/plain": [
       "6-element Array{Float64,1}:\n",
       " 0.0266386\n",
       " 0.0339326\n",
       " 0.043925 \n",
       " 0.0339326\n",
       " 0.289142 \n",
       " 0.350122 "
      ]
     },
     "metadata": {},
     "output_type": "display_data"
    },
    {
     "data": {
      "text/plain": [
       "6-element Array{Float64,1}:\n",
       " -2.55633e-21\n",
       " -5.98107e-8 \n",
       "  4.63057e-23\n",
       "  0.175135   \n",
       " -2.76537e-17\n",
       "  8.90134    "
      ]
     },
     "metadata": {},
     "output_type": "display_data"
    },
    {
     "data": {
      "text/plain": [
       "17×1 Array{Float64,2}:\n",
       " 1.4529    \n",
       " 1.24556   \n",
       " 1.03421   \n",
       " 1.24556   \n",
       " 0.0570969 \n",
       " 0.0306252 \n",
       " 0.00460525\n",
       " 0.0570969 \n",
       " 1.10964   \n",
       " 0.0570969 \n",
       " 1.18174   \n",
       " 0.0       \n",
       " 0.0       \n",
       " 0.0       \n",
       " 0.0       \n",
       " 0.0       \n",
       " 0.0       "
      ]
     },
     "metadata": {},
     "output_type": "display_data"
    },
    {
     "data": {
      "text/plain": [
       "\"---\""
      ]
     },
     "metadata": {},
     "output_type": "display_data"
    },
    {
     "data": {
      "text/plain": [
       "6-element Array{Float64,1}:\n",
       " 0.0266419\n",
       " 0.033936 \n",
       " 0.0439286\n",
       " 0.033936 \n",
       " 0.289141 \n",
       " 0.350157 "
      ]
     },
     "metadata": {},
     "output_type": "display_data"
    },
    {
     "data": {
      "text/plain": [
       "6-element Array{Float64,1}:\n",
       " -5.11242e-21\n",
       " -2.76554e-7 \n",
       "  9.26071e-23\n",
       "  0.174744   \n",
       "  6.38161e-18\n",
       "  8.90841    "
      ]
     },
     "metadata": {},
     "output_type": "display_data"
    },
    {
     "data": {
      "text/plain": [
       "17×1 Array{Float64,2}:\n",
       " 1.45293   \n",
       " 1.24558   \n",
       " 1.03422   \n",
       " 1.24558   \n",
       " 0.0570971 \n",
       " 0.030614  \n",
       " 0.00460526\n",
       " 0.0570971 \n",
       " 1.10968   \n",
       " 0.0570971 \n",
       " 1.18174   \n",
       " 0.0       \n",
       " 0.0       \n",
       " 0.0       \n",
       " 0.0       \n",
       " 0.0       \n",
       " 0.0       "
      ]
     },
     "metadata": {},
     "output_type": "display_data"
    },
    {
     "data": {
      "text/plain": [
       "\"---\""
      ]
     },
     "metadata": {},
     "output_type": "display_data"
    },
    {
     "name": "stdout",
     "output_type": "stream",
     "text": [
      "elapsed time: 0.29995443 seconds\n"
     ]
    },
    {
     "data": {
      "text/plain": [
       "6-element Array{Float64,1}:\n",
       " 0.0266537\n",
       " 0.0339496\n",
       " 0.0439452\n",
       " 0.0339496\n",
       " 0.289137 \n",
       " 0.350299 "
      ]
     },
     "metadata": {},
     "output_type": "display_data"
    },
    {
     "data": {
      "text/plain": [
       "6-element Array{Float64,1}:\n",
       " -7.66852e-21\n",
       " -4.93298e-7 \n",
       "  1.38908e-22\n",
       "  0.174364   \n",
       "  4.04169e-17\n",
       "  8.91513    "
      ]
     },
     "metadata": {},
     "output_type": "display_data"
    },
    {
     "data": {
      "text/plain": [
       "17×1 Array{Float64,2}:\n",
       " 1.45265   \n",
       " 1.24531   \n",
       " 1.03395   \n",
       " 1.24531   \n",
       " 0.0570998 \n",
       " 0.0305697 \n",
       " 0.00460547\n",
       " 0.0570998 \n",
       " 1.10977   \n",
       " 0.0570998 \n",
       " 1.18144   \n",
       " 0.0       \n",
       " 0.0       \n",
       " 0.0       \n",
       " 0.0       \n",
       " 0.0       \n",
       " 0.0       "
      ]
     },
     "metadata": {},
     "output_type": "display_data"
    },
    {
     "data": {
      "text/plain": [
       "\"---\""
      ]
     },
     "metadata": {},
     "output_type": "display_data"
    },
    {
     "data": {
      "text/plain": [
       "6-element Array{Float64,1}:\n",
       " 0.0266544\n",
       " 0.0339517\n",
       " 0.0439501\n",
       " 0.0339517\n",
       " 0.289162 \n",
       " 0.350323 "
      ]
     },
     "metadata": {},
     "output_type": "display_data"
    },
    {
     "data": {
      "text/plain": [
       "6-element Array{Float64,1}:\n",
       "  7.73251e-20\n",
       "  6.20187e-6 \n",
       " -1.39748e-21\n",
       "  0.175236   \n",
       "  1.05081e-16\n",
       "  8.91413    "
      ]
     },
     "metadata": {},
     "output_type": "display_data"
    },
    {
     "data": {
      "text/plain": [
       "17×1 Array{Float64,2}:\n",
       " 1.45256   \n",
       " 1.2452    \n",
       " 1.03382   \n",
       " 1.2452    \n",
       " 0.0570851 \n",
       " 0.0305622 \n",
       " 0.00460318\n",
       " 0.0570851 \n",
       " 1.10978   \n",
       " 0.0570851 \n",
       " 1.18133   \n",
       " 0.0       \n",
       " 0.0       \n",
       " 0.0       \n",
       " 0.0       \n",
       " 0.0       \n",
       " 0.0       "
      ]
     },
     "metadata": {},
     "output_type": "display_data"
    },
    {
     "data": {
      "text/plain": [
       "\"---\""
      ]
     },
     "metadata": {},
     "output_type": "display_data"
    },
    {
     "data": {
      "text/plain": [
       "6-element Array{Float64,1}:\n",
       " 0.0266543\n",
       " 0.0339513\n",
       " 0.0439493\n",
       " 0.0339513\n",
       " 0.289162 \n",
       " 0.350319 "
      ]
     },
     "metadata": {},
     "output_type": "display_data"
    },
    {
     "data": {
      "text/plain": [
       "6-element Array{Float64,1}:\n",
       "  1.62319e-19\n",
       "  1.2897e-5  \n",
       " -2.93388e-21\n",
       "  0.176098   \n",
       "  2.24202e-16\n",
       "  8.91317    "
      ]
     },
     "metadata": {},
     "output_type": "display_data"
    },
    {
     "data": {
      "text/plain": [
       "17×1 Array{Float64,2}:\n",
       " 1.45254   \n",
       " 1.2452    \n",
       " 1.03384   \n",
       " 1.2452    \n",
       " 0.0570851 \n",
       " 0.0305635 \n",
       " 0.00460318\n",
       " 0.0570851 \n",
       " 1.10978   \n",
       " 0.0570851 \n",
       " 1.18134   \n",
       " 0.0       \n",
       " 0.0       \n",
       " 0.0       \n",
       " 0.0       \n",
       " 0.0       \n",
       " 0.0       "
      ]
     },
     "metadata": {},
     "output_type": "display_data"
    },
    {
     "data": {
      "text/plain": [
       "\"---\""
      ]
     },
     "metadata": {},
     "output_type": "display_data"
    },
    {
     "name": "stdout",
     "output_type": "stream",
     "text": [
      "elapsed time: 0.307185391 seconds\n"
     ]
    },
    {
     "data": {
      "text/plain": [
       "6-element Array{Float64,1}:\n",
       " 0.0266551\n",
       " 0.0339498\n",
       " 0.043944 \n",
       " 0.0339498\n",
       " 0.289163 \n",
       " 0.3503   "
      ]
     },
     "metadata": {},
     "output_type": "display_data"
    },
    {
     "data": {
      "text/plain": [
       "6-element Array{Float64,1}:\n",
       "  2.47312e-19\n",
       "  1.95922e-5 \n",
       " -4.47027e-21\n",
       "  0.176946   \n",
       "  3.09288e-16\n",
       "  8.91226    "
      ]
     },
     "metadata": {},
     "output_type": "display_data"
    },
    {
     "data": {
      "text/plain": [
       "17×1 Array{Float64,2}:\n",
       " 1.45251   \n",
       " 1.24523   \n",
       " 1.03393   \n",
       " 1.24523   \n",
       " 0.0570847 \n",
       " 0.0305694 \n",
       " 0.00460315\n",
       " 0.0570847 \n",
       " 1.10976   \n",
       " 0.0570847 \n",
       " 1.18138   \n",
       " 0.0       \n",
       " 0.0       \n",
       " 0.0       \n",
       " 0.0       \n",
       " 0.0       \n",
       " 0.0       "
      ]
     },
     "metadata": {},
     "output_type": "display_data"
    },
    {
     "data": {
      "text/plain": [
       "\"---\""
      ]
     },
     "metadata": {},
     "output_type": "display_data"
    },
    {
     "data": {
      "text/plain": [
       "6-element Array{Float64,1}:\n",
       " 0.0266547\n",
       " 0.0339496\n",
       " 0.043943 \n",
       " 0.0339496\n",
       " 0.289147 \n",
       " 0.350297 "
      ]
     },
     "metadata": {},
     "output_type": "display_data"
    },
    {
     "data": {
      "text/plain": [
       "6-element Array{Float64,1}:\n",
       "  2.47138e-19\n",
       "  1.95737e-5 \n",
       " -4.46613e-21\n",
       "  0.176925   \n",
       "  3.43322e-16\n",
       "  8.91233    "
      ]
     },
     "metadata": {},
     "output_type": "display_data"
    },
    {
     "data": {
      "text/plain": [
       "17×1 Array{Float64,2}:\n",
       " 1.45252   \n",
       " 1.24524   \n",
       " 1.03396   \n",
       " 1.24524   \n",
       " 0.0570941 \n",
       " 0.0305705 \n",
       " 0.00460469\n",
       " 0.0570941 \n",
       " 1.10974   \n",
       " 0.0570941 \n",
       " 1.18139   \n",
       " 0.0       \n",
       " 0.0       \n",
       " 0.0       \n",
       " 0.0       \n",
       " 0.0       \n",
       " 0.0       "
      ]
     },
     "metadata": {},
     "output_type": "display_data"
    },
    {
     "data": {
      "text/plain": [
       "\"---\""
      ]
     },
     "metadata": {},
     "output_type": "display_data"
    },
    {
     "data": {
      "text/plain": [
       "6-element Array{Float64,1}:\n",
       " 0.0266547\n",
       " 0.0339496\n",
       " 0.0439431\n",
       " 0.0339496\n",
       " 0.289147 \n",
       " 0.350297 "
      ]
     },
     "metadata": {},
     "output_type": "display_data"
    },
    {
     "data": {
      "text/plain": [
       "6-element Array{Float64,1}:\n",
       "  2.46964e-19\n",
       "  1.95553e-5 \n",
       " -4.46199e-21\n",
       "  0.176905   \n",
       "  3.77357e-16\n",
       "  8.91239    "
      ]
     },
     "metadata": {},
     "output_type": "display_data"
    },
    {
     "data": {
      "text/plain": [
       "17×1 Array{Float64,2}:\n",
       " 1.45252   \n",
       " 1.24524   \n",
       " 1.03396   \n",
       " 1.24524   \n",
       " 0.0570941 \n",
       " 0.0305704 \n",
       " 0.00460469\n",
       " 0.0570941 \n",
       " 1.10974   \n",
       " 0.0570941 \n",
       " 1.18139   \n",
       " 0.0       \n",
       " 0.0       \n",
       " 0.0       \n",
       " 0.0       \n",
       " 0.0       \n",
       " 0.0       "
      ]
     },
     "metadata": {},
     "output_type": "display_data"
    },
    {
     "data": {
      "text/plain": [
       "\"---\""
      ]
     },
     "metadata": {},
     "output_type": "display_data"
    },
    {
     "name": "stdout",
     "output_type": "stream",
     "text": [
      "elapsed time: 0.31262087 seconds\n"
     ]
    },
    {
     "data": {
      "text/plain": [
       "6-element Array{Float64,1}:\n",
       " 0.0266548\n",
       " 0.0339497\n",
       " 0.0439433\n",
       " 0.0339497\n",
       " 0.289147 \n",
       " 0.350298 "
      ]
     },
     "metadata": {},
     "output_type": "display_data"
    },
    {
     "data": {
      "text/plain": [
       "6-element Array{Float64,1}:\n",
       "  2.4679e-19 \n",
       "  1.95368e-5 \n",
       " -4.45785e-21\n",
       "  0.176885   \n",
       "  3.60338e-16\n",
       "  8.91245    "
      ]
     },
     "metadata": {},
     "output_type": "display_data"
    },
    {
     "data": {
      "text/plain": [
       "17×1 Array{Float64,2}:\n",
       " 1.45252   \n",
       " 1.24524   \n",
       " 1.03395   \n",
       " 1.24524   \n",
       " 0.0570941 \n",
       " 0.03057   \n",
       " 0.00460469\n",
       " 0.0570941 \n",
       " 1.10974   \n",
       " 0.0570941 \n",
       " 1.18138   \n",
       " 0.0       \n",
       " 0.0       \n",
       " 0.0       \n",
       " 0.0       \n",
       " 0.0       \n",
       " 0.0       "
      ]
     },
     "metadata": {},
     "output_type": "display_data"
    },
    {
     "data": {
      "text/plain": [
       "\"---\""
      ]
     },
     "metadata": {},
     "output_type": "display_data"
    },
    {
     "data": {
      "text/plain": [
       "6-element Array{Float64,1}:\n",
       " 0.0266548\n",
       " 0.0339498\n",
       " 0.0439433\n",
       " 0.0339498\n",
       " 0.289147 \n",
       " 0.350298 "
      ]
     },
     "metadata": {},
     "output_type": "display_data"
    },
    {
     "data": {
      "text/plain": [
       "6-element Array{Float64,1}:\n",
       "  2.46721e-19\n",
       "  1.95296e-5 \n",
       " -4.45819e-21\n",
       "  0.176885   \n",
       "  3.16094e-16\n",
       "  8.91244    "
      ]
     },
     "metadata": {},
     "output_type": "display_data"
    },
    {
     "data": {
      "text/plain": [
       "17×1 Array{Float64,2}:\n",
       " 1.45252   \n",
       " 1.24524   \n",
       " 1.03395   \n",
       " 1.24524   \n",
       " 0.0570939 \n",
       " 0.03057   \n",
       " 0.00460466\n",
       " 0.0570939 \n",
       " 1.10974   \n",
       " 0.0570939 \n",
       " 1.18138   \n",
       " 0.0       \n",
       " 0.0       \n",
       " 0.0       \n",
       " 0.0       \n",
       " 0.0       \n",
       " 0.0       "
      ]
     },
     "metadata": {},
     "output_type": "display_data"
    },
    {
     "data": {
      "text/plain": [
       "\"---\""
      ]
     },
     "metadata": {},
     "output_type": "display_data"
    },
    {
     "data": {
      "text/plain": [
       "6-element Array{Float64,1}:\n",
       " 0.0266548\n",
       " 0.0339498\n",
       " 0.0439433\n",
       " 0.0339498\n",
       " 0.289147 \n",
       " 0.350298 "
      ]
     },
     "metadata": {},
     "output_type": "display_data"
    },
    {
     "data": {
      "text/plain": [
       "6-element Array{Float64,1}:\n",
       "  2.46653e-19\n",
       "  1.95224e-5 \n",
       " -4.45854e-21\n",
       "  0.176885   \n",
       "  3.16095e-16\n",
       "  8.91244    "
      ]
     },
     "metadata": {},
     "output_type": "display_data"
    },
    {
     "data": {
      "text/plain": [
       "17×1 Array{Float64,2}:\n",
       " 1.45252   \n",
       " 1.24524   \n",
       " 1.03395   \n",
       " 1.24524   \n",
       " 0.0570939 \n",
       " 0.03057   \n",
       " 0.00460466\n",
       " 0.0570939 \n",
       " 1.10974   \n",
       " 0.0570939 \n",
       " 1.18138   \n",
       " 0.0       \n",
       " 0.0       \n",
       " 0.0       \n",
       " 0.0       \n",
       " 0.0       \n",
       " 0.0       "
      ]
     },
     "metadata": {},
     "output_type": "display_data"
    },
    {
     "data": {
      "text/plain": [
       "\"---\""
      ]
     },
     "metadata": {},
     "output_type": "display_data"
    },
    {
     "name": "stdout",
     "output_type": "stream",
     "text": [
      "elapsed time: 0.330077011 seconds\n"
     ]
    },
    {
     "data": {
      "text/plain": [
       "6-element Array{Float64,1}:\n",
       " 0.0266548\n",
       " 0.0339498\n",
       " 0.0439433\n",
       " 0.0339498\n",
       " 0.289147 \n",
       " 0.350298 "
      ]
     },
     "metadata": {},
     "output_type": "display_data"
    },
    {
     "data": {
      "text/plain": [
       "6-element Array{Float64,1}:\n",
       "  2.46584e-19\n",
       "  1.95151e-5 \n",
       " -4.45888e-21\n",
       "  0.176885   \n",
       "  2.13991e-16\n",
       "  8.91243    "
      ]
     },
     "metadata": {},
     "output_type": "display_data"
    },
    {
     "data": {
      "text/plain": [
       "17×1 Array{Float64,2}:\n",
       " 1.45252   \n",
       " 1.24524   \n",
       " 1.03395   \n",
       " 1.24524   \n",
       " 0.0570939 \n",
       " 0.03057   \n",
       " 0.00460465\n",
       " 0.0570939 \n",
       " 1.10974   \n",
       " 0.0570939 \n",
       " 1.18138   \n",
       " 0.0       \n",
       " 0.0       \n",
       " 0.0       \n",
       " 0.0       \n",
       " 0.0       \n",
       " 0.0       "
      ]
     },
     "metadata": {},
     "output_type": "display_data"
    },
    {
     "data": {
      "text/plain": [
       "\"---\""
      ]
     },
     "metadata": {},
     "output_type": "display_data"
    },
    {
     "data": {
      "text/plain": [
       "6-element Array{Float64,1}:\n",
       " 0.0266548\n",
       " 0.0339498\n",
       " 0.0439433\n",
       " 0.0339498\n",
       " 0.289147 \n",
       " 0.350298 "
      ]
     },
     "metadata": {},
     "output_type": "display_data"
    },
    {
     "data": {
      "text/plain": [
       "6-element Array{Float64,1}:\n",
       "  2.46584e-19\n",
       "  1.95151e-5 \n",
       " -4.45623e-21\n",
       "  0.176885   \n",
       "  2.37813e-16\n",
       "  8.91243    "
      ]
     },
     "metadata": {},
     "output_type": "display_data"
    },
    {
     "data": {
      "text/plain": [
       "17×1 Array{Float64,2}:\n",
       " 1.45252   \n",
       " 1.24524   \n",
       " 1.03395   \n",
       " 1.24524   \n",
       " 0.0570939 \n",
       " 0.03057   \n",
       " 0.00460465\n",
       " 0.0570939 \n",
       " 1.10974   \n",
       " 0.0570939 \n",
       " 1.18138   \n",
       " 0.0       \n",
       " 0.0       \n",
       " 0.0       \n",
       " 0.0       \n",
       " 0.0       \n",
       " 0.0       "
      ]
     },
     "metadata": {},
     "output_type": "display_data"
    },
    {
     "data": {
      "text/plain": [
       "\"---\""
      ]
     },
     "metadata": {},
     "output_type": "display_data"
    },
    {
     "data": {
      "text/plain": [
       "6-element Array{Float64,1}:\n",
       " 0.0266548\n",
       " 0.0339498\n",
       " 0.0439433\n",
       " 0.0339498\n",
       " 0.289147 \n",
       " 0.350298 "
      ]
     },
     "metadata": {},
     "output_type": "display_data"
    },
    {
     "data": {
      "text/plain": [
       "6-element Array{Float64,1}:\n",
       "  2.46585e-19\n",
       "  1.95151e-5 \n",
       " -4.45358e-21\n",
       "  0.176885   \n",
       "  2.54829e-16\n",
       "  8.91243    "
      ]
     },
     "metadata": {},
     "output_type": "display_data"
    },
    {
     "data": {
      "text/plain": [
       "17×1 Array{Float64,2}:\n",
       " 1.45252   \n",
       " 1.24524   \n",
       " 1.03395   \n",
       " 1.24524   \n",
       " 0.0570939 \n",
       " 0.03057   \n",
       " 0.00460465\n",
       " 0.0570939 \n",
       " 1.10974   \n",
       " 0.0570939 \n",
       " 1.18138   \n",
       " 0.0       \n",
       " 0.0       \n",
       " 0.0       \n",
       " 0.0       \n",
       " 0.0       \n",
       " 0.0       "
      ]
     },
     "metadata": {},
     "output_type": "display_data"
    },
    {
     "data": {
      "text/plain": [
       "\"---\""
      ]
     },
     "metadata": {},
     "output_type": "display_data"
    },
    {
     "name": "stdout",
     "output_type": "stream",
     "text": [
      "elapsed time: 0.318874547 seconds\n",
      "elapsed time: 0.32003593 seconds\n",
      "Solve_Succeeded\n"
     ]
    }
   ],
   "source": [
    "q0 = [1., 0., 0., 0., 0., 0., 0.0025]\n",
    "v0 = [0., 0., 0., .25, 0. , 0.]\n",
    "N = 15\n",
    "\n",
    "set_configuration!(x0, q0)\n",
    "set_velocity!(x0, v0)\n",
    "setdirty!(x0)\n",
    "\n",
    "ctrl! = (u,t,x) -> u[:] = 0.\n",
    "\n",
    "# println(\"Explicit Contacts\")\n",
    "# traj_exp = BilevelTrajOpt.simulate(x0,env,Δt,N,ctrl!,implicit_contact=false);\n",
    "println(\"Implicit Contacts\")\n",
    "traj_imp = BilevelTrajOpt.simulate(x0,env,Δt,N,ctrl!,implicit_contact=true);"
   ]
  },
  {
   "cell_type": "code",
   "execution_count": null,
   "metadata": {},
   "outputs": [],
   "source": [
    "ts = cumsum([Δt for i in 1:N]);\n",
    "j = 11\n",
    "plot(traj_exp[j,:],label=\"explicit\")\n",
    "plot!(traj_imp[j,:],label=\"implicit\")"
   ]
  }
 ],
 "metadata": {
  "kernelspec": {
   "display_name": "Julia 0.6.4",
   "language": "julia",
   "name": "julia-0.6"
  },
  "language_info": {
   "file_extension": ".jl",
   "mimetype": "application/julia",
   "name": "julia",
   "version": "0.6.4"
  }
 },
 "nbformat": 4,
 "nbformat_minor": 2
}
