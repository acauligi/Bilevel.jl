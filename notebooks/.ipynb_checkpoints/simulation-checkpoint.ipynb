{
 "cells": [
  {
   "cell_type": "code",
   "execution_count": 1,
   "metadata": {},
   "outputs": [
    {
     "data": {
      "text/html": [
       "    <script class='js-collapse-script'>\n",
       "        var curMatch =\n",
       "            window.location.href\n",
       "            .match(/(.*?)\\/notebooks\\/.*\\.ipynb/);\n",
       "\n",
       "        curMatch = curMatch ||\n",
       "            window.location.href\n",
       "            .match(/(.*?)\\/apps\\/.*\\.ipynb/);\n",
       "\n",
       "        if ( curMatch ) {\n",
       "            $('head').append('<base href=\"' + curMatch[1] + '/\">');\n",
       "        }\n",
       "    </script>\n"
      ],
      "text/plain": [
       "HTML{String}(\"    <script class='js-collapse-script'>\\n        var curMatch =\\n            window.location.href\\n            .match(/(.*?)\\\\/notebooks\\\\/.*\\\\.ipynb/);\\n\\n        curMatch = curMatch ||\\n            window.location.href\\n            .match(/(.*?)\\\\/apps\\\\/.*\\\\.ipynb/);\\n\\n        if ( curMatch ) {\\n            \\$('head').append('<base href=\\\"' + curMatch[1] + '/\\\">');\\n        }\\n    </script>\\n\")"
      ]
     },
     "metadata": {},
     "output_type": "display_data"
    },
    {
     "data": {
      "text/html": [
       "<script class='js-collapse-script' src='/assetserver/9dd84cf97c4fc16956f39829c81f3b6907c8fc83-assets/webio/dist/bundle.js'></script>"
      ],
      "text/plain": [
       "HTML{String}(\"<script class='js-collapse-script' src='/assetserver/9dd84cf97c4fc16956f39829c81f3b6907c8fc83-assets/webio/dist/bundle.js'></script>\")"
      ]
     },
     "metadata": {},
     "output_type": "display_data"
    },
    {
     "data": {
      "text/html": [
       "<script class='js-collapse-script' src='/assetserver/9dd84cf97c4fc16956f39829c81f3b6907c8fc83-assets/providers/ijulia_setup.js'></script>"
      ],
      "text/plain": [
       "HTML{String}(\"<script class='js-collapse-script' src='/assetserver/9dd84cf97c4fc16956f39829c81f3b6907c8fc83-assets/providers/ijulia_setup.js'></script>\")"
      ]
     },
     "metadata": {},
     "output_type": "display_data"
    },
    {
     "data": {
      "text/html": [
       "  <script class='js-collapse-script'>\n",
       "    $('.js-collapse-script').parent('.output_subarea').css('padding', '0');\n",
       "  </script>\n"
      ],
      "text/plain": [
       "HTML{String}(\"  <script class='js-collapse-script'>\\n    \\$('.js-collapse-script').parent('.output_subarea').css('padding', '0');\\n  </script>\\n\")"
      ]
     },
     "metadata": {},
     "output_type": "display_data"
    }
   ],
   "source": [
    "using Revise\n",
    "\n",
    "using RigidBodyDynamics\n",
    "using RigidBodyDynamics: Bounds\n",
    "\n",
    "using DrakeVisualizer\n",
    "using Plots\n",
    "using RigidBodyTreeInspector\n",
    "\n",
    "using BilevelTrajOpt\n",
    "gr(size=(500,500), html_output_format=:png);"
   ]
  },
  {
   "cell_type": "code",
   "execution_count": 2,
   "metadata": {},
   "outputs": [],
   "source": [
    "urdf = joinpath(\"..\", \"urdf\", \"ball.urdf\")\n",
    "mechanism = parse_urdf(Float64, urdf)\n",
    "body = findbody(mechanism, \"ball\")\n",
    "basejoint = joint_to_parent(body, mechanism)\n",
    "floatingjoint = Joint(basejoint.name, frame_before(basejoint), frame_after(basejoint), QuaternionFloating{Float64}())\n",
    "replace_joint!(mechanism, basejoint, floatingjoint)\n",
    "position_bounds(floatingjoint) .= Bounds(-100, 100)\n",
    "velocity_bounds(floatingjoint) .= Bounds(-100, 100)\n",
    "μ = 0.5\n",
    "motion_type = :xyz\n",
    "point = Point3D(default_frame(findbody(mechanism, \"floor\")), [0.,0.,0.])\n",
    "normal = FreeVector3D(default_frame(findbody(mechanism, \"floor\")), [0.,0.,1.])\n",
    "hs = HalfSpace(point, normal)\n",
    "floor = Obstacle(hs, μ, motion_type)\n",
    "obstacles = [floor]\n",
    "env = parse_contacts(mechanism, urdf, obstacles)\n",
    "x0 = MechanismState(mechanism)\n",
    "Δt = 0.005;"
   ]
  },
  {
   "cell_type": "code",
   "execution_count": 20,
   "metadata": {},
   "outputs": [
    {
     "name": "stdout",
     "output_type": "stream",
     "text": [
      "Implicit Contacts\n",
      "elapsed time: 0.256282334 seconds\n",
      "elapsed time: 0.275042923 seconds\n",
      "elapsed time: 0.253162067 seconds\n",
      "elapsed time: 0.256156816 seconds\n",
      "elapsed time: 0.247907421 seconds\n",
      "elapsed time: 0.284063088 seconds\n",
      "elapsed time: 0.269415831 seconds\n",
      "elapsed time: 0.263039879 seconds\n",
      "Solve_Succeeded\n",
      "elapsed time: 0.244499117 seconds\n",
      "elapsed time: 0.269536509 seconds\n",
      "elapsed time: 0.247853459 seconds\n",
      "elapsed time: 0.24831288 seconds\n",
      "elapsed time: 0.271140672 seconds\n",
      "elapsed time: 0.272184251 seconds\n",
      "elapsed time: 0.275484328 seconds\n",
      "Solve_Succeeded\n",
      "elapsed time: 0.247792563 seconds\n",
      "elapsed time: 0.259916064 seconds\n",
      "elapsed time: 0.238662829 seconds\n",
      "elapsed time: 0.238288048 seconds\n",
      "elapsed time: 0.26083139 seconds\n",
      "elapsed time: 0.258022974 seconds\n",
      "Solve_Succeeded\n",
      "elapsed time: 0.251429119 seconds\n",
      "elapsed time: 0.271843703 seconds\n",
      "elapsed time: 0.246962338 seconds\n",
      "elapsed time: 0.248527665 seconds\n",
      "elapsed time: 0.276665287 seconds\n",
      "elapsed time: 0.269714215 seconds\n",
      "elapsed time: 0.273154058 seconds\n",
      "Solve_Succeeded\n",
      "elapsed time: 0.237401526 seconds\n",
      "elapsed time: 0.257876575 seconds\n",
      "elapsed time: 0.256804473 seconds\n",
      "elapsed time: 0.249572467 seconds\n",
      "elapsed time: 0.257750416 seconds\n",
      "elapsed time: 0.271456698 seconds\n",
      "elapsed time: 0.269547187 seconds\n",
      "Solve_Succeeded\n",
      "elapsed time: 0.249928571 seconds\n",
      "elapsed time: 0.274911961 seconds\n",
      "elapsed time: 0.237017768 seconds\n",
      "elapsed time: 0.239811085 seconds\n",
      "elapsed time: 0.272545724 seconds\n",
      "elapsed time: 0.281158107 seconds\n",
      "elapsed time: 0.264590558 seconds\n",
      "Solve_Succeeded\n",
      "elapsed time: 0.252879218 seconds\n",
      "elapsed time: 0.269599255 seconds\n",
      "elapsed time: 0.276306746 seconds\n",
      "elapsed time: 0.284864094 seconds\n",
      "elapsed time: 0.270635461 seconds\n",
      "elapsed time: 0.292928968 seconds\n",
      "elapsed time: 0.288286574 seconds\n",
      "Solve_Succeeded\n",
      "elapsed time: 0.248057083 seconds\n",
      "elapsed time: 0.267659937 seconds\n",
      "elapsed time: 0.262479222 seconds\n",
      "elapsed time: 0.269722439 seconds\n",
      "elapsed time: 0.261817247 seconds\n",
      "elapsed time: 0.267841251 seconds\n",
      "elapsed time: 0.288647668 seconds\n",
      "Solve_Succeeded\n",
      "elapsed time: 0.263290009 seconds\n",
      "elapsed time: 0.287401645 seconds\n",
      "elapsed time: 0.252888914 seconds\n",
      "elapsed time: 0.241805335 seconds\n",
      "elapsed time: 0.29165484 seconds\n",
      "elapsed time: 0.273123337 seconds\n",
      "elapsed time: 0.273467109 seconds\n",
      "Solve_Succeeded\n",
      "elapsed time: 0.279115411 seconds\n",
      "elapsed time: 0.31383875 seconds\n",
      "elapsed time: 0.276171939 seconds\n",
      "elapsed time: 0.271565833 seconds\n",
      "elapsed time: 0.277266504 seconds\n",
      "elapsed time: 0.270112126 seconds\n",
      "elapsed time: 0.272681067 seconds\n",
      "Solve_Succeeded\n",
      "elapsed time: 0.251731067 seconds\n",
      "elapsed time: 0.275771017 seconds\n",
      "elapsed time: 0.280341415 seconds\n",
      "elapsed time: 0.285189428 seconds\n",
      "elapsed time: 0.282710467 seconds\n",
      "elapsed time: 0.282440085 seconds\n",
      "elapsed time: 0.279363029 seconds\n",
      "Solve_Succeeded\n",
      "elapsed time: 0.264716373 seconds\n",
      "elapsed time: 0.298253743 seconds\n",
      "elapsed time: 0.246324133 seconds\n",
      "elapsed time: 0.260264229 seconds\n",
      "elapsed time: 0.289351179 seconds\n",
      "elapsed time: 0.276673528 seconds\n",
      "elapsed time: 0.272031345 seconds\n",
      "Solve_Succeeded\n",
      "elapsed time: 0.264322675 seconds\n",
      "elapsed time: 0.296560962 seconds\n",
      "elapsed time: 0.263013172 seconds\n",
      "elapsed time: 0.264688479 seconds\n",
      "elapsed time: 0.277324873 seconds\n",
      "elapsed time: 0.274960849 seconds\n",
      "elapsed time: 0.272597127 seconds\n",
      "Solve_Succeeded\n",
      "elapsed time: 0.239049356 seconds\n",
      "elapsed time: 0.262360894 seconds\n",
      "elapsed time: 0.237209257 seconds\n",
      "elapsed time: 0.259454592 seconds\n",
      "elapsed time: 0.26145213 seconds\n",
      "elapsed time: 0.270358691 seconds\n",
      "elapsed time: 0.281812303 seconds\n",
      "Solve_Succeeded\n",
      "elapsed time: 0.266767751 seconds\n",
      "elapsed time: 0.287751625 seconds\n",
      "elapsed time: 0.249663334 seconds\n",
      "elapsed time: 0.24228939 seconds\n",
      "elapsed time: 0.275660966 seconds\n",
      "elapsed time: 0.268770899 seconds\n",
      "elapsed time: 0.258366508 seconds\n",
      "Solve_Succeeded\n"
     ]
    }
   ],
   "source": [
    "q0 = [1., 0., 0., 0., 0., 0., 0.00]\n",
    "v0 = [0., 0., 0., 25., 0. , 0.]\n",
    "N = 15\n",
    "\n",
    "set_configuration!(x0, q0)\n",
    "set_velocity!(x0, v0)\n",
    "setdirty!(x0)\n",
    "\n",
    "ctrl! = (u,t,x) -> u[:] = 0.\n",
    "\n",
    "println(\"Implicit Contacts\")\n",
    "traj_imp = BilevelTrajOpt.simulate(x0,env,Δt,N,ctrl!,implicit_contact=true);"
   ]
  },
  {
   "cell_type": "code",
   "execution_count": 21,
   "metadata": {},
   "outputs": [
    {
     "name": "stdout",
     "output_type": "stream",
     "text": [
      "Explicit Contacts\n",
      "Solve_Succeeded\n",
      "Solve_Succeeded\n",
      "Solve_Succeeded\n",
      "Solve_Succeeded\n",
      "Solve_Succeeded\n",
      "Solve_Succeeded\n",
      "Solve_Succeeded\n",
      "Solve_Succeeded\n",
      "Solve_Succeeded\n",
      "Solve_Succeeded\n",
      "Solve_Succeeded\n",
      "Solve_Succeeded\n",
      "Solve_Succeeded\n",
      "Solve_Succeeded\n",
      "Solve_Succeeded\n"
     ]
    }
   ],
   "source": [
    "println(\"Explicit Contacts\")\n",
    "traj_exp = BilevelTrajOpt.simulate(x0,env,Δt,N,ctrl!,implicit_contact=false);"
   ]
  },
  {
   "cell_type": "code",
   "execution_count": 23,
   "metadata": {},
   "outputs": [
    {
     "data": {
      "image/png": "[encoded data removed]"
     },
     "execution_count": 23,
     "metadata": {},
     "output_type": "execute_result"
    }
   ],
   "source": [
    "ts = cumsum([Δt for i in 1:N]);\n",
    "j = 7\n",
    "plot(traj_exp[j,:],label=\"explicit\")\n",
    "plot!(traj_imp[j,:],label=\"implicit\")"
   ]
  },
  {
   "cell_type": "code",
   "execution_count": null,
   "metadata": {},
   "outputs": [],
   "source": [
    "traj_imp"
   ]
  }
 ],
 "metadata": {
  "kernelspec": {
   "display_name": "Julia 0.6.4",
   "language": "julia",
   "name": "julia-0.6"
  },
  "language_info": {
   "file_extension": ".jl",
   "mimetype": "application/julia",
   "name": "julia",
   "version": "0.6.4"
  }
 },
 "nbformat": 4,
 "nbformat_minor": 2
}
