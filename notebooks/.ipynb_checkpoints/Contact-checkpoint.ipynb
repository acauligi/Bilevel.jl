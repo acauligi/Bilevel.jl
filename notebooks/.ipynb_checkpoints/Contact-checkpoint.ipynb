{
 "cells": [
  {
   "cell_type": "code",
   "execution_count": 108,
   "metadata": {},
   "outputs": [],
   "source": [
    "using Revise\n",
    "using Bilevel: contact_jacobian!, contact_friction_τ_direct!, contact_normal_τ_direct!\n",
    "\n",
    "using RigidBodyDynamics\n",
    "using MeshCatMechanisms\n",
    "using MeshCat\n",
    "\n",
    "using ForwardDiff\n",
    "using DiffResults\n",
    "using LinearAlgebra\n",
    "using StaticArrays\n",
    "using Plots\n",
    "using BenchmarkTools\n",
    "using Profile\n",
    "using ProfileView"
   ]
  },
  {
   "cell_type": "code",
   "execution_count": 87,
   "metadata": {},
   "outputs": [
    {
     "data": {
      "text/plain": [
       "Environment(Contact[Contact(Spanning tree:\n",
       "Vertex: world (root)\n",
       "  Vertex: floor, Edge: floor_to_world\n",
       "    Vertex: ball, Edge: floor_to_ball\n",
       "No non-tree joints., ball, Point3D in \"after_floor_to_ball\": [0.0, 0.0, 0.0], Obstacle(floor, Point3D in \"after_floor_to_world\": [0.0, 0.0, 0.0], FreeVector3D in \"after_floor_to_world\": [0.0, 0.0, 1.0], [1.0 6.12323e-17 -1.0 -1.83697e-16; 0.0 1.0 1.22465e-16 -1.0; 0.0 0.0 0.0 0.0], 1.0, false))])"
      ]
     },
     "execution_count": 87,
     "metadata": {},
     "output_type": "execute_result"
    }
   ],
   "source": [
    "urdf = joinpath(\"..\", \"urdf\", \"ball.urdf\")\n",
    "mechanism = parse_urdf(Float64, urdf)\n",
    "\n",
    "floor = findbody(mechanism, \"floor\")\n",
    "point = Point3D(default_frame(floor), SVector([0.,0.,0.]...))\n",
    "normal = FreeVector3D(default_frame(floor), SVector([0.,0.,1.]...))\n",
    "floor_obs = Obstacle(floor, point, normal, :xyz, 1.)\n",
    "\n",
    "obstacles = [floor_obs]\n",
    "env = Environment(mechanism, urdf, obstacles)"
   ]
  },
  {
   "cell_type": "code",
   "execution_count": 99,
   "metadata": {},
   "outputs": [
    {
     "data": {
      "text/plain": [
       "6-element Array{Float64,1}:\n",
       " 0.0\n",
       " 0.0\n",
       " 0.0\n",
       " 0.0\n",
       " 0.0\n",
       " 0.0"
      ]
     },
     "metadata": {},
     "output_type": "display_data"
    },
    {
     "data": {
      "text/plain": [
       "6-element Array{Float64,1}:\n",
       " 0.0\n",
       " 0.0\n",
       " 0.0\n",
       " 0.0\n",
       " 0.0\n",
       " 0.0"
      ]
     },
     "metadata": {},
     "output_type": "display_data"
    },
    {
     "data": {
      "text/plain": [
       "6-element Array{Float64,1}:\n",
       "  0.0                  \n",
       "  0.0                  \n",
       "  0.0                  \n",
       "  5.701856300804691e-26\n",
       "  3.396095767988533e-42\n",
       " -6.578584405559081    "
      ]
     },
     "metadata": {},
     "output_type": "display_data"
    },
    {
     "data": {
      "text/plain": [
       "6-element Array{Float64,1}:\n",
       "  0.0                  \n",
       "  0.0                  \n",
       "  0.0                  \n",
       "  5.701856300804691e-26\n",
       "  3.396095767988533e-42\n",
       " -6.578584405559081    "
      ]
     },
     "metadata": {},
     "output_type": "display_data"
    },
    {
     "data": {
      "text/plain": [
       "6-element Array{Float64,1}:\n",
       " 0.0                  \n",
       " 0.0                  \n",
       " 0.0                  \n",
       " 0.7773404933049529   \n",
       " 6.904170509526963e-17\n",
       " 2.9680132267098167   "
      ]
     },
     "metadata": {},
     "output_type": "display_data"
    },
    {
     "data": {
      "text/plain": [
       "6-element Array{Float64,1}:\n",
       " 0.0                  \n",
       " 0.0                  \n",
       " 0.0                  \n",
       " 0.7773404933049529   \n",
       " 6.904170509526963e-17\n",
       " 2.9680132267098167   "
      ]
     },
     "metadata": {},
     "output_type": "display_data"
    },
    {
     "data": {
      "text/plain": [
       "6-element Array{Float64,1}:\n",
       "  0.0                   \n",
       "  0.0                   \n",
       "  0.0                   \n",
       "  1.2679127826789387e-25\n",
       "  1.1261327717029176e-41\n",
       " -9.810000000000008     "
      ]
     },
     "metadata": {},
     "output_type": "display_data"
    },
    {
     "data": {
      "text/plain": [
       "6-element Array{Float64,1}:\n",
       "  0.0                   \n",
       "  0.0                   \n",
       "  0.0                   \n",
       "  1.2679127826789387e-25\n",
       "  1.1261327717029176e-41\n",
       " -9.810000000000008     "
      ]
     },
     "metadata": {},
     "output_type": "display_data"
    },
    {
     "data": {
      "text/plain": [
       "6-element Array{Float64,1}:\n",
       "  0.0                   \n",
       "  0.0                   \n",
       "  0.0                   \n",
       " -0.004603605275369609  \n",
       " -4.0888228586389397e-19\n",
       " -0.029104053651095363  "
      ]
     },
     "metadata": {},
     "output_type": "display_data"
    },
    {
     "data": {
      "text/plain": [
       "6-element Array{Float64,1}:\n",
       "  0.0                   \n",
       "  0.0                   \n",
       "  0.0                   \n",
       " -0.004603605275369609  \n",
       " -4.0888228586389397e-19\n",
       " -0.029104053651095363  "
      ]
     },
     "metadata": {},
     "output_type": "display_data"
    },
    {
     "data": {
      "text/plain": [
       "6-element Array{Float64,1}:\n",
       " 0.0                  \n",
       " 0.0                  \n",
       " 0.0                  \n",
       " 0.0009439512988441162\n",
       " 8.38397172930049e-20 \n",
       " 0.004660821190576489 "
      ]
     },
     "metadata": {},
     "output_type": "display_data"
    },
    {
     "data": {
      "text/plain": [
       "6-element Array{Float64,1}:\n",
       " 0.0                  \n",
       " 0.0                  \n",
       " 0.0                  \n",
       " 0.0009439512988441162\n",
       " 8.38397172930049e-20 \n",
       " 0.004660821190576489 "
      ]
     },
     "metadata": {},
     "output_type": "display_data"
    },
    {
     "data": {
      "text/plain": [
       "6-element Array{Float64,1}:\n",
       "  0.0                  \n",
       "  0.0                  \n",
       "  0.0                  \n",
       "  9.760279617332216    \n",
       "  5.384844261567079e-16\n",
       " -9.760279617332218    "
      ]
     },
     "metadata": {},
     "output_type": "display_data"
    },
    {
     "data": {
      "text/plain": [
       "6-element Array{Float64,1}:\n",
       "  0.0                  \n",
       "  0.0                  \n",
       "  0.0                  \n",
       "  9.760279617332216    \n",
       "  5.384844261567079e-16\n",
       " -9.760279617332218    "
      ]
     },
     "metadata": {},
     "output_type": "display_data"
    },
    {
     "data": {
      "text/plain": [
       "6-element Array{Float64,1}:\n",
       "  0.0                   \n",
       "  0.0                   \n",
       "  0.0                   \n",
       " -1.967943456831696e-6  \n",
       " -1.7478849096497178e-22\n",
       " -1.5364707503821873e-5 "
      ]
     },
     "metadata": {},
     "output_type": "display_data"
    },
    {
     "data": {
      "text/plain": [
       "6-element Array{Float64,1}:\n",
       "  0.0                   \n",
       "  0.0                   \n",
       "  0.0                   \n",
       " -1.967943456831696e-6  \n",
       " -1.7478849096497178e-22\n",
       " -1.5364707503821873e-5 "
      ]
     },
     "metadata": {},
     "output_type": "display_data"
    },
    {
     "data": {
      "text/plain": [
       "6-element Array{Float64,1}:\n",
       "  0.0                  \n",
       "  0.0                  \n",
       "  0.0                  \n",
       "  9.750874243583462    \n",
       "  5.376490611573736e-16\n",
       " -9.769675936429108    "
      ]
     },
     "metadata": {},
     "output_type": "display_data"
    },
    {
     "data": {
      "text/plain": [
       "6-element Array{Float64,1}:\n",
       "  0.0                  \n",
       "  0.0                  \n",
       "  0.0                  \n",
       "  9.750874243583462    \n",
       "  5.376490611573736e-16\n",
       " -9.769675936429108    "
      ]
     },
     "metadata": {},
     "output_type": "display_data"
    },
    {
     "data": {
      "text/plain": [
       "6-element Array{Float64,1}:\n",
       "  0.0                  \n",
       "  0.0                  \n",
       "  0.0                  \n",
       "  9.754282776027436    \n",
       "  5.378471887624892e-16\n",
       " -9.772486144505939    "
      ]
     },
     "metadata": {},
     "output_type": "display_data"
    },
    {
     "data": {
      "text/plain": [
       "6-element Array{Float64,1}:\n",
       "  0.0                  \n",
       "  0.0                  \n",
       "  0.0                  \n",
       "  9.754282776027436    \n",
       "  5.378471887624892e-16\n",
       " -9.772486144505939    "
      ]
     },
     "metadata": {},
     "output_type": "display_data"
    },
    {
     "data": {
      "text/plain": [
       "6-element Array{Float64,1}:\n",
       "  0.0                  \n",
       "  0.0                  \n",
       "  0.0                  \n",
       "  9.809999979831668    \n",
       "  5.412275484768181e-16\n",
       " -9.809999979831671    "
      ]
     },
     "metadata": {},
     "output_type": "display_data"
    },
    {
     "data": {
      "text/plain": [
       "6-element Array{Float64,1}:\n",
       "  0.0                  \n",
       "  0.0                  \n",
       "  0.0                  \n",
       "  9.809999979831668    \n",
       "  5.412275484768181e-16\n",
       " -9.809999979831671    "
      ]
     },
     "metadata": {},
     "output_type": "display_data"
    },
    {
     "data": {
      "text/plain": [
       "6-element Array{Float64,1}:\n",
       "  0.0                  \n",
       "  0.0                  \n",
       "  0.0                  \n",
       "  9.754282775993365    \n",
       "  5.378471887594634e-16\n",
       " -9.772486144539949    "
      ]
     },
     "metadata": {},
     "output_type": "display_data"
    },
    {
     "data": {
      "text/plain": [
       "6-element Array{Float64,1}:\n",
       "  0.0                  \n",
       "  0.0                  \n",
       "  0.0                  \n",
       "  9.754282775993365    \n",
       "  5.378471887594634e-16\n",
       " -9.772486144539949    "
      ]
     },
     "metadata": {},
     "output_type": "display_data"
    },
    {
     "data": {
      "text/plain": [
       "6-element Array{Float64,1}:\n",
       "  0.0                  \n",
       "  0.0                  \n",
       "  0.0                  \n",
       "  9.809999999999997    \n",
       "  5.412275495895251e-16\n",
       " -9.81                 "
      ]
     },
     "metadata": {},
     "output_type": "display_data"
    },
    {
     "data": {
      "text/plain": [
       "6-element Array{Float64,1}:\n",
       "  0.0                  \n",
       "  0.0                  \n",
       "  0.0                  \n",
       "  9.809999999999997    \n",
       "  5.412275495895251e-16\n",
       " -9.81                 "
      ]
     },
     "metadata": {},
     "output_type": "display_data"
    },
    {
     "data": {
      "text/plain": [
       "6-element Array{Float64,1}:\n",
       "  0.0                  \n",
       "  0.0                  \n",
       "  0.0                  \n",
       "  9.809999999999997    \n",
       "  5.412275495895251e-16\n",
       " -9.81                 "
      ]
     },
     "metadata": {},
     "output_type": "display_data"
    },
    {
     "data": {
      "text/plain": [
       "6-element Array{Float64,1}:\n",
       "  0.0                  \n",
       "  0.0                  \n",
       "  0.0                  \n",
       "  9.809999999999997    \n",
       "  5.412275495895251e-16\n",
       " -9.81                 "
      ]
     },
     "metadata": {},
     "output_type": "display_data"
    },
    {
     "data": {
      "text/plain": [
       "6-element Array{Float64,1}:\n",
       "  0.0                  \n",
       "  0.0                  \n",
       "  0.0                  \n",
       "  9.809999999999997    \n",
       "  5.412275495895251e-16\n",
       " -9.81                 "
      ]
     },
     "metadata": {},
     "output_type": "display_data"
    },
    {
     "data": {
      "text/plain": [
       "6-element Array{Float64,1}:\n",
       "  0.0                  \n",
       "  0.0                  \n",
       "  0.0                  \n",
       "  9.809999999999997    \n",
       "  5.412275495895251e-16\n",
       " -9.81                 "
      ]
     },
     "metadata": {},
     "output_type": "display_data"
    },
    {
     "data": {
      "text/plain": [
       "6-element Array{Float64,1}:\n",
       "  0.0                  \n",
       "  0.0                  \n",
       "  0.0                  \n",
       "  9.809999999999997    \n",
       "  5.412275495895251e-16\n",
       " -9.81                 "
      ]
     },
     "metadata": {},
     "output_type": "display_data"
    },
    {
     "data": {
      "text/plain": [
       "6-element Array{Float64,1}:\n",
       "  0.0                  \n",
       "  0.0                  \n",
       "  0.0                  \n",
       "  9.809999999999997    \n",
       "  5.412275495895251e-16\n",
       " -9.81                 "
      ]
     },
     "metadata": {},
     "output_type": "display_data"
    },
    {
     "data": {
      "text/plain": [
       "6-element Array{Float64,1}:\n",
       "  0.0                  \n",
       "  0.0                  \n",
       "  0.0                  \n",
       "  9.809999999999997    \n",
       "  5.412275495895251e-16\n",
       " -9.81                 "
      ]
     },
     "metadata": {},
     "output_type": "display_data"
    },
    {
     "data": {
      "text/plain": [
       "6-element Array{Float64,1}:\n",
       "  0.0                  \n",
       "  0.0                  \n",
       "  0.0                  \n",
       "  9.809999999999997    \n",
       "  5.412275495895251e-16\n",
       " -9.81                 "
      ]
     },
     "metadata": {},
     "output_type": "display_data"
    },
    {
     "data": {
      "text/plain": [
       "6-element Array{Float64,1}:\n",
       "  0.0                  \n",
       "  0.0                  \n",
       "  0.0                  \n",
       "  9.809999999999997    \n",
       "  5.412275495895251e-16\n",
       " -9.81                 "
      ]
     },
     "metadata": {},
     "output_type": "display_data"
    },
    {
     "data": {
      "text/plain": [
       "6-element Array{Float64,1}:\n",
       "  0.0                  \n",
       "  0.0                  \n",
       "  0.0                  \n",
       "  9.809999999999997    \n",
       "  5.412275495895251e-16\n",
       " -9.81                 "
      ]
     },
     "metadata": {},
     "output_type": "display_data"
    },
    {
     "data": {
      "text/plain": [
       "6-element Array{Float64,1}:\n",
       "  0.0                 \n",
       "  0.0                 \n",
       "  0.0                 \n",
       "  9.809999999999995   \n",
       "  5.41227549589525e-16\n",
       " -9.809999999999999   "
      ]
     },
     "metadata": {},
     "output_type": "display_data"
    },
    {
     "data": {
      "text/plain": [
       "6-element Array{Float64,1}:\n",
       "  0.0                 \n",
       "  0.0                 \n",
       "  0.0                 \n",
       "  9.809999999999995   \n",
       "  5.41227549589525e-16\n",
       " -9.809999999999999   "
      ]
     },
     "metadata": {},
     "output_type": "display_data"
    },
    {
     "data": {
      "text/plain": [
       "6-element Array{Float64,1}:\n",
       "  0.0                 \n",
       "  0.0                 \n",
       "  0.0                 \n",
       "  9.809999999999995   \n",
       "  5.41227549589525e-16\n",
       " -9.809999999999999   "
      ]
     },
     "metadata": {},
     "output_type": "display_data"
    },
    {
     "data": {
      "text/plain": [
       "6-element Array{Float64,1}:\n",
       "  0.0                 \n",
       "  0.0                 \n",
       "  0.0                 \n",
       "  9.809999999999995   \n",
       "  5.41227549589525e-16\n",
       " -9.809999999999999   "
      ]
     },
     "metadata": {},
     "output_type": "display_data"
    },
    {
     "data": {
      "text/plain": [
       "6-element Array{Float64,1}:\n",
       "  0.0                 \n",
       "  0.0                 \n",
       "  0.0                 \n",
       "  9.809999999999995   \n",
       "  5.41227549589525e-16\n",
       " -9.809999999999999   "
      ]
     },
     "metadata": {},
     "output_type": "display_data"
    },
    {
     "data": {
      "text/plain": [
       "6-element Array{Float64,1}:\n",
       "  0.0                 \n",
       "  0.0                 \n",
       "  0.0                 \n",
       "  9.809999999999995   \n",
       "  5.41227549589525e-16\n",
       " -9.809999999999999   "
      ]
     },
     "metadata": {},
     "output_type": "display_data"
    },
    {
     "data": {
      "text/plain": [
       "6-element Array{Float64,1}:\n",
       "  0.0                 \n",
       "  0.0                 \n",
       "  0.0                 \n",
       "  9.809999999999995   \n",
       "  5.41227549589525e-16\n",
       " -9.809999999999999   "
      ]
     },
     "metadata": {},
     "output_type": "display_data"
    },
    {
     "data": {
      "text/plain": [
       "6-element Array{Float64,1}:\n",
       "  0.0                 \n",
       "  0.0                 \n",
       "  0.0                 \n",
       "  9.809999999999995   \n",
       "  5.41227549589525e-16\n",
       " -9.809999999999999   "
      ]
     },
     "metadata": {},
     "output_type": "display_data"
    },
    {
     "data": {
      "text/plain": [
       "6-element Array{Float64,1}:\n",
       "  0.0                 \n",
       "  0.0                 \n",
       "  0.0                 \n",
       "  9.809999999999995   \n",
       "  5.41227549589525e-16\n",
       " -9.809999999999999   "
      ]
     },
     "metadata": {},
     "output_type": "display_data"
    },
    {
     "data": {
      "text/plain": [
       "6-element Array{Float64,1}:\n",
       "  0.0                 \n",
       "  0.0                 \n",
       "  0.0                 \n",
       "  9.809999999999995   \n",
       "  5.41227549589525e-16\n",
       " -9.809999999999999   "
      ]
     },
     "metadata": {},
     "output_type": "display_data"
    },
    {
     "data": {
      "text/plain": [
       "6-element Array{Float64,1}:\n",
       "  0.0                 \n",
       "  0.0                 \n",
       "  0.0                 \n",
       "  9.809999999999995   \n",
       "  5.41227549589525e-16\n",
       " -9.809999999999999   "
      ]
     },
     "metadata": {},
     "output_type": "display_data"
    },
    {
     "data": {
      "text/plain": [
       "6-element Array{Float64,1}:\n",
       "  0.0                 \n",
       "  0.0                 \n",
       "  0.0                 \n",
       "  9.809999999999995   \n",
       "  5.41227549589525e-16\n",
       " -9.809999999999999   "
      ]
     },
     "metadata": {},
     "output_type": "display_data"
    },
    {
     "data": {
      "text/plain": [
       "6-element Array{Float64,1}:\n",
       "  0.0                 \n",
       "  0.0                 \n",
       "  0.0                 \n",
       "  9.809999999999995   \n",
       "  5.41227549589525e-16\n",
       " -9.809999999999999   "
      ]
     },
     "metadata": {},
     "output_type": "display_data"
    },
    {
     "data": {
      "text/plain": [
       "6-element Array{Float64,1}:\n",
       "  0.0                 \n",
       "  0.0                 \n",
       "  0.0                 \n",
       "  9.809999999999995   \n",
       "  5.41227549589525e-16\n",
       " -9.809999999999999   "
      ]
     },
     "metadata": {},
     "output_type": "display_data"
    },
    {
     "data": {
      "text/plain": [
       "6-element Array{Float64,1}:\n",
       "  0.0                 \n",
       "  0.0                 \n",
       "  0.0                 \n",
       "  9.809999999999995   \n",
       "  5.41227549589525e-16\n",
       " -9.809999999999999   "
      ]
     },
     "metadata": {},
     "output_type": "display_data"
    },
    {
     "data": {
      "text/plain": [
       "6-element Array{Float64,1}:\n",
       "  0.0                 \n",
       "  0.0                 \n",
       "  0.0                 \n",
       "  9.809999999999995   \n",
       "  5.41227549589525e-16\n",
       " -9.809999999999999   "
      ]
     },
     "metadata": {},
     "output_type": "display_data"
    },
    {
     "data": {
      "text/plain": [
       "6-element Array{Float64,1}:\n",
       "  0.0                 \n",
       "  0.0                 \n",
       "  0.0                 \n",
       "  9.809999999999995   \n",
       "  5.41227549589525e-16\n",
       " -9.809999999999999   "
      ]
     },
     "metadata": {},
     "output_type": "display_data"
    },
    {
     "data": {
      "text/plain": [
       "6-element Array{Float64,1}:\n",
       "  0.0                 \n",
       "  0.0                 \n",
       "  0.0                 \n",
       "  9.809999999999995   \n",
       "  5.41227549589525e-16\n",
       " -9.809999999999999   "
      ]
     },
     "metadata": {},
     "output_type": "display_data"
    },
    {
     "data": {
      "text/plain": [
       "6-element Array{Float64,1}:\n",
       "  0.0                   \n",
       "  0.0                   \n",
       "  0.0                   \n",
       "  0.9500000000000091    \n",
       " -1.2034243715199166e-15\n",
       " -9.809999999999997     "
      ]
     },
     "metadata": {},
     "output_type": "display_data"
    },
    {
     "data": {
      "text/plain": [
       "6-element Array{Float64,1}:\n",
       "  0.0                   \n",
       "  0.0                   \n",
       "  0.0                   \n",
       "  0.9500000000000091    \n",
       " -1.2034243715199166e-15\n",
       " -9.809999999999997     "
      ]
     },
     "metadata": {},
     "output_type": "display_data"
    },
    {
     "data": {
      "text/plain": [
       "6-element Array{Float64,1}:\n",
       "  0.0                   \n",
       "  0.0                   \n",
       "  0.0                   \n",
       "  0.9500000000000091    \n",
       " -1.2034243715199166e-15\n",
       " -9.809999999999997     "
      ]
     },
     "metadata": {},
     "output_type": "display_data"
    },
    {
     "data": {
      "text/plain": [
       "6-element Array{Float64,1}:\n",
       "  0.0                   \n",
       "  0.0                   \n",
       "  0.0                   \n",
       "  0.9500000000000091    \n",
       " -1.2034243715199166e-15\n",
       " -9.809999999999997     "
      ]
     },
     "metadata": {},
     "output_type": "display_data"
    },
    {
     "data": {
      "text/plain": [
       "6-element Array{Float64,1}:\n",
       "  0.0                   \n",
       "  0.0                   \n",
       "  0.0                   \n",
       "  0.9500000000000091    \n",
       " -1.2034243715199166e-15\n",
       " -9.809999999999997     "
      ]
     },
     "metadata": {},
     "output_type": "display_data"
    },
    {
     "data": {
      "text/plain": [
       "6-element Array{Float64,1}:\n",
       "  0.0                   \n",
       "  0.0                   \n",
       "  0.0                   \n",
       "  0.9500000000000091    \n",
       " -1.2034243715199166e-15\n",
       " -9.809999999999997     "
      ]
     },
     "metadata": {},
     "output_type": "display_data"
    },
    {
     "data": {
      "text/plain": [
       "6-element Array{Float64,1}:\n",
       "  0.0                   \n",
       "  0.0                   \n",
       "  0.0                   \n",
       " -3.5527136788005025e-15\n",
       " -1.1452536485604168e-15\n",
       " -9.809999999999997     "
      ]
     },
     "metadata": {},
     "output_type": "display_data"
    },
    {
     "data": {
      "text/plain": [
       "6-element Array{Float64,1}:\n",
       "  0.0                   \n",
       "  0.0                   \n",
       "  0.0                   \n",
       " -3.5527136788005025e-15\n",
       " -1.1452536485604168e-15\n",
       " -9.809999999999997     "
      ]
     },
     "metadata": {},
     "output_type": "display_data"
    },
    {
     "data": {
      "text/plain": [
       "6-element Array{Float64,1}:\n",
       "  0.0                   \n",
       "  0.0                   \n",
       "  0.0                   \n",
       " -3.5527136788005025e-15\n",
       " -1.1452536485604168e-15\n",
       " -9.809999999999997     "
      ]
     },
     "metadata": {},
     "output_type": "display_data"
    },
    {
     "data": {
      "text/plain": [
       "6-element Array{Float64,1}:\n",
       "  0.0                   \n",
       "  0.0                   \n",
       "  0.0                   \n",
       " -3.5527136788005025e-15\n",
       " -1.1452536485604168e-15\n",
       " -9.809999999999997     "
      ]
     },
     "metadata": {},
     "output_type": "display_data"
    },
    {
     "data": {
      "text/plain": [
       "6-element Array{Float64,1}:\n",
       "  0.0                   \n",
       "  0.0                   \n",
       "  0.0                   \n",
       " -3.5527136788005025e-15\n",
       " -1.1452536485604168e-15\n",
       " -9.809999999999997     "
      ]
     },
     "metadata": {},
     "output_type": "display_data"
    },
    {
     "data": {
      "text/plain": [
       "6-element Array{Float64,1}:\n",
       "  0.0                   \n",
       "  0.0                   \n",
       "  0.0                   \n",
       " -3.5527136788005025e-15\n",
       " -1.1452536485604168e-15\n",
       " -9.809999999999997     "
      ]
     },
     "metadata": {},
     "output_type": "display_data"
    },
    {
     "data": {
      "text/plain": [
       "6-element Array{Float64,1}:\n",
       "  0.0                   \n",
       "  0.0                   \n",
       "  0.0                   \n",
       " -3.5527136788005025e-15\n",
       " -1.1452536485604168e-15\n",
       " -9.809999999999997     "
      ]
     },
     "metadata": {},
     "output_type": "display_data"
    },
    {
     "data": {
      "text/plain": [
       "6-element Array{Float64,1}:\n",
       "  0.0                   \n",
       "  0.0                   \n",
       "  0.0                   \n",
       " -3.5527136788005025e-15\n",
       " -1.1452536485604168e-15\n",
       " -9.809999999999997     "
      ]
     },
     "metadata": {},
     "output_type": "display_data"
    },
    {
     "data": {
      "text/plain": [
       "6-element Array{Float64,1}:\n",
       "  0.0                   \n",
       "  0.0                   \n",
       "  0.0                   \n",
       " -3.5527136788005025e-15\n",
       " -1.1452536485604168e-15\n",
       " -9.809999999999997     "
      ]
     },
     "metadata": {},
     "output_type": "display_data"
    },
    {
     "data": {
      "text/plain": [
       "6-element Array{Float64,1}:\n",
       "  0.0                   \n",
       "  0.0                   \n",
       "  0.0                   \n",
       " -3.5527136788005025e-15\n",
       " -1.1452536485604168e-15\n",
       " -9.809999999999997     "
      ]
     },
     "metadata": {},
     "output_type": "display_data"
    },
    {
     "data": {
      "text/plain": [
       "6-element Array{Float64,1}:\n",
       "  0.0                   \n",
       "  0.0                   \n",
       "  0.0                   \n",
       " -3.5527136788005025e-15\n",
       " -1.1452536485604168e-15\n",
       " -9.809999999999997     "
      ]
     },
     "metadata": {},
     "output_type": "display_data"
    },
    {
     "data": {
      "text/plain": [
       "6-element Array{Float64,1}:\n",
       "  0.0                   \n",
       "  0.0                   \n",
       "  0.0                   \n",
       " -3.5527136788005025e-15\n",
       " -1.1452536485604168e-15\n",
       " -9.809999999999997     "
      ]
     },
     "metadata": {},
     "output_type": "display_data"
    },
    {
     "data": {
      "text/plain": [
       "(Array{Float64,1}[[1.0, 0.0, 0.0, 0.0, 0.0, 0.0, 0.0], [1.0, 0.0, -6.657e-17, -8.88178e-17, 0.4019, 0.0, 3.46945e-18], [1.0, 0.0, -6.66134e-17, -8.88178e-17, 0.7057, 0.0, 3.46945e-18], [1.0, 0.0, -6.66134e-17, -8.88178e-17, 0.9114, 0.0, 3.46945e-18], [1.0, 0.0, -6.66134e-17, -8.88178e-17, 1.019, 0.0, 3.46945e-18], [1.0, 0.0, -6.66134e-17, -8.88178e-17, 1.0285, 0.0, 3.46945e-18], [1.0, 0.0, -6.66134e-17, 0.0, 1.0285, -2.9976e-19, 3.46945e-18], [1.0, 0.0, -6.66134e-17, 0.0, 1.0285, 1.45403e-26, 3.46945e-18], [1.0, 0.0, -6.66134e-17, 0.0, 1.0285, 1.45403e-26, 3.46945e-18], [1.0, 0.0, -6.66134e-17, 0.0, 1.0285, 1.45403e-26, 3.46945e-18]], Array{Float64,1}[[0.0, 0.0, 0.0, 5.0, 0.0, 0.0], [0.0, -1.33227e-15, 0.0, 4.019, 0.0, -5.00397e-16], [0.0, -1.33227e-15, 0.0, 3.038, 0.0, -4.74216e-16], [0.0, -1.33227e-15, 0.0, 2.057, 0.0, -2.39269e-16], [0.0, -1.33227e-15, 0.0, 1.076, 0.0, -2.12825e-16], [0.0, -1.33227e-15, 0.0, 0.095, 0.0, 2.21217e-17], [0.0, -1.33227e-15, 0.0, -1.00166e-25, -2.9976e-18, -6.94728e-17], [0.0, -1.33227e-15, 0.0, 2.32645e-25, 2.9976e-18, -6.94728e-17], [0.0, -1.33227e-15, 0.0, 2.32645e-25, 2.9976e-18, -6.94728e-17], [0.0, -1.33227e-15, 0.0, 2.32645e-25, 2.9976e-18, -6.94728e-17]], Array{Float64,1}[], Array{Array{Float64,1},1}[[[0.0, 0.0, 0.0, 0.0, 0.0, 0.0]], [[1.0, 0.0, 0.0, 1.0, 0.0, 4.019]], [[1.0, 0.0, 0.0, 1.0, 0.0, 3.038]], [[1.0, 0.0, 0.0, 1.0, 0.0, 2.057]], [[1.0, 0.0, 0.0, 1.0, 0.0, 1.076]], [[1.0, 0.0, 0.0, 1.0, 0.0, 0.095]], [[1.0, 0.45158, -9.99201e-16, 0.54842, -1.05471e-15, -3.55429e-26]], [[1.0, 0.5, -9.99201e-16, 0.5, -1.05471e-15, -9.69352e-26]], [[1.0, 0.5, -9.99201e-16, 0.5, -1.05471e-15, -9.69352e-26]], [[1.0, 0.5, -9.99201e-16, 0.5, -1.05471e-15, -9.69352e-26]]], Array{Float64,1}[], [0.0, 0.1, 0.2, 0.3, 0.4, 0.5, 0.6, 0.7, 0.8, 0.9], [1.0 1.0 … 1.0 1.0; 0.0 0.0 … 0.0 0.0; … ; 0.0 0.0 … 2.9976e-18 2.9976e-18; 0.0 -5.00397e-16 … -6.94728e-17 -6.94728e-17], [1.0 1.0 … 1.0 1.0; 0.0 0.0 … 0.0 0.0; … ; 0.0 4.019 … -9.69352e-26 -9.69352e-26; 0.0 1.0 … 1.0 1.0])"
      ]
     },
     "execution_count": 99,
     "metadata": {},
     "output_type": "execute_result"
    }
   ],
   "source": [
    "N = 10\n",
    "Δt = 0.1\n",
    "q0 = [1., 0., 0., 0., 0., 0., 0.]\n",
    "v0 = [0., 0., 0., 5., 0., 0.]\n",
    "\n",
    "sim_data = get_sim_data_indirect(mechanism,env,Δt)\n",
    "null_ctrl! = (u,t,x) -> u[:] .= 0.\n",
    "x0 = MechanismState(mechanism)\n",
    "set_configuration!(x0, q0)\n",
    "set_velocity!(x0, v0)\n",
    "setdirty!(x0)\n",
    "traj = Bilevel.simulate(sim_data,null_ctrl!,x0,N)"
   ]
  },
  {
   "cell_type": "code",
   "execution_count": 89,
   "metadata": {},
   "outputs": [
    {
     "data": {
      "image/svg+xml": [
       "<?xml version=\"1.0\" encoding=\"utf-8\"?>\n",
       "<svg xmlns=\"http://www.w3.org/2000/svg\" xmlns:xlink=\"http://www.w3.org/1999/xlink\" width=\"600\" height=\"400\" viewBox=\"0 0 2400 1600\">\n",
       "<defs>\n",
       "  <clipPath id=\"clip4500\">\n",
       "    <rect x=\"0\" y=\"0\" width=\"2400\" height=\"1600\"/>\n",
       "  </clipPath>\n",
       "</defs>\n",
       "<polygon clip-path=\"url(#clip4500)\" points=\"\n",
       "0,1600 2400,1600 2400,0 0,0 \n",
       "  \" fill=\"#ffffff\" fill-rule=\"evenodd\" fill-opacity=\"1\"/>\n",
       "<defs>\n",
       "  <clipPath id=\"clip4501\">\n",
       "    <rect x=\"480\" y=\"0\" width=\"1681\" height=\"1600\"/>\n",
       "  </clipPath>\n",
       "</defs>\n",
       "<polygon clip-path=\"url(#clip4500)\" points=\"\n",
       "180.66,1487.47 2352.76,1487.47 2352.76,47.2441 180.66,47.2441 \n",
       "  \" fill=\"#ffffff\" fill-rule=\"evenodd\" fill-opacity=\"1\"/>\n",
       "<defs>\n",
       "  <clipPath id=\"clip4502\">\n",
       "    <rect x=\"180\" y=\"47\" width=\"2173\" height=\"1441\"/>\n",
       "  </clipPath>\n",
       "</defs>\n",
       "<polyline clip-path=\"url(#clip4502)\" style=\"stroke:#000000; stroke-width:2; stroke-opacity:0.1; fill:none\" points=\"\n",
       "  469.818,1487.47 469.818,47.2441 \n",
       "  \"/>\n",
       "<polyline clip-path=\"url(#clip4502)\" style=\"stroke:#000000; stroke-width:2; stroke-opacity:0.1; fill:none\" points=\"\n",
       "  925.184,1487.47 925.184,47.2441 \n",
       "  \"/>\n",
       "<polyline clip-path=\"url(#clip4502)\" style=\"stroke:#000000; stroke-width:2; stroke-opacity:0.1; fill:none\" points=\"\n",
       "  1380.55,1487.47 1380.55,47.2441 \n",
       "  \"/>\n",
       "<polyline clip-path=\"url(#clip4502)\" style=\"stroke:#000000; stroke-width:2; stroke-opacity:0.1; fill:none\" points=\"\n",
       "  1835.92,1487.47 1835.92,47.2441 \n",
       "  \"/>\n",
       "<polyline clip-path=\"url(#clip4502)\" style=\"stroke:#000000; stroke-width:2; stroke-opacity:0.1; fill:none\" points=\"\n",
       "  2291.28,1487.47 2291.28,47.2441 \n",
       "  \"/>\n",
       "<polyline clip-path=\"url(#clip4502)\" style=\"stroke:#000000; stroke-width:2; stroke-opacity:0.1; fill:none\" points=\"\n",
       "  180.66,1446.71 2352.76,1446.71 \n",
       "  \"/>\n",
       "<polyline clip-path=\"url(#clip4502)\" style=\"stroke:#000000; stroke-width:2; stroke-opacity:0.1; fill:none\" points=\"\n",
       "  180.66,1116.45 2352.76,1116.45 \n",
       "  \"/>\n",
       "<polyline clip-path=\"url(#clip4502)\" style=\"stroke:#000000; stroke-width:2; stroke-opacity:0.1; fill:none\" points=\"\n",
       "  180.66,786.184 2352.76,786.184 \n",
       "  \"/>\n",
       "<polyline clip-path=\"url(#clip4502)\" style=\"stroke:#000000; stroke-width:2; stroke-opacity:0.1; fill:none\" points=\"\n",
       "  180.66,455.92 2352.76,455.92 \n",
       "  \"/>\n",
       "<polyline clip-path=\"url(#clip4502)\" style=\"stroke:#000000; stroke-width:2; stroke-opacity:0.1; fill:none\" points=\"\n",
       "  180.66,125.655 2352.76,125.655 \n",
       "  \"/>\n",
       "<polyline clip-path=\"url(#clip4500)\" style=\"stroke:#000000; stroke-width:4; stroke-opacity:1; fill:none\" points=\"\n",
       "  180.66,1487.47 2352.76,1487.47 \n",
       "  \"/>\n",
       "<polyline clip-path=\"url(#clip4500)\" style=\"stroke:#000000; stroke-width:4; stroke-opacity:1; fill:none\" points=\"\n",
       "  180.66,1487.47 180.66,47.2441 \n",
       "  \"/>\n",
       "<polyline clip-path=\"url(#clip4500)\" style=\"stroke:#000000; stroke-width:4; stroke-opacity:1; fill:none\" points=\"\n",
       "  469.818,1487.47 469.818,1465.87 \n",
       "  \"/>\n",
       "<polyline clip-path=\"url(#clip4500)\" style=\"stroke:#000000; stroke-width:4; stroke-opacity:1; fill:none\" points=\"\n",
       "  925.184,1487.47 925.184,1465.87 \n",
       "  \"/>\n",
       "<polyline clip-path=\"url(#clip4500)\" style=\"stroke:#000000; stroke-width:4; stroke-opacity:1; fill:none\" points=\"\n",
       "  1380.55,1487.47 1380.55,1465.87 \n",
       "  \"/>\n",
       "<polyline clip-path=\"url(#clip4500)\" style=\"stroke:#000000; stroke-width:4; stroke-opacity:1; fill:none\" points=\"\n",
       "  1835.92,1487.47 1835.92,1465.87 \n",
       "  \"/>\n",
       "<polyline clip-path=\"url(#clip4500)\" style=\"stroke:#000000; stroke-width:4; stroke-opacity:1; fill:none\" points=\"\n",
       "  2291.28,1487.47 2291.28,1465.87 \n",
       "  \"/>\n",
       "<polyline clip-path=\"url(#clip4500)\" style=\"stroke:#000000; stroke-width:4; stroke-opacity:1; fill:none\" points=\"\n",
       "  180.66,1446.71 213.242,1446.71 \n",
       "  \"/>\n",
       "<polyline clip-path=\"url(#clip4500)\" style=\"stroke:#000000; stroke-width:4; stroke-opacity:1; fill:none\" points=\"\n",
       "  180.66,1116.45 213.242,1116.45 \n",
       "  \"/>\n",
       "<polyline clip-path=\"url(#clip4500)\" style=\"stroke:#000000; stroke-width:4; stroke-opacity:1; fill:none\" points=\"\n",
       "  180.66,786.184 213.242,786.184 \n",
       "  \"/>\n",
       "<polyline clip-path=\"url(#clip4500)\" style=\"stroke:#000000; stroke-width:4; stroke-opacity:1; fill:none\" points=\"\n",
       "  180.66,455.92 213.242,455.92 \n",
       "  \"/>\n",
       "<polyline clip-path=\"url(#clip4500)\" style=\"stroke:#000000; stroke-width:4; stroke-opacity:1; fill:none\" points=\"\n",
       "  180.66,125.655 213.242,125.655 \n",
       "  \"/>\n",
       "<g clip-path=\"url(#clip4500)\">\n",
       "<text style=\"fill:#000000; fill-opacity:1; font-family:Arial,Helvetica Neue,Helvetica,sans-serif; font-size:48px; text-anchor:middle;\" transform=\"rotate(0, 469.818, 1541.47)\" x=\"469.818\" y=\"1541.47\">2</text>\n",
       "</g>\n",
       "<g clip-path=\"url(#clip4500)\">\n",
       "<text style=\"fill:#000000; fill-opacity:1; font-family:Arial,Helvetica Neue,Helvetica,sans-serif; font-size:48px; text-anchor:middle;\" transform=\"rotate(0, 925.184, 1541.47)\" x=\"925.184\" y=\"1541.47\">4</text>\n",
       "</g>\n",
       "<g clip-path=\"url(#clip4500)\">\n",
       "<text style=\"fill:#000000; fill-opacity:1; font-family:Arial,Helvetica Neue,Helvetica,sans-serif; font-size:48px; text-anchor:middle;\" transform=\"rotate(0, 1380.55, 1541.47)\" x=\"1380.55\" y=\"1541.47\">6</text>\n",
       "</g>\n",
       "<g clip-path=\"url(#clip4500)\">\n",
       "<text style=\"fill:#000000; fill-opacity:1; font-family:Arial,Helvetica Neue,Helvetica,sans-serif; font-size:48px; text-anchor:middle;\" transform=\"rotate(0, 1835.92, 1541.47)\" x=\"1835.92\" y=\"1541.47\">8</text>\n",
       "</g>\n",
       "<g clip-path=\"url(#clip4500)\">\n",
       "<text style=\"fill:#000000; fill-opacity:1; font-family:Arial,Helvetica Neue,Helvetica,sans-serif; font-size:48px; text-anchor:middle;\" transform=\"rotate(0, 2291.28, 1541.47)\" x=\"2291.28\" y=\"1541.47\">10</text>\n",
       "</g>\n",
       "<g clip-path=\"url(#clip4500)\">\n",
       "<text style=\"fill:#000000; fill-opacity:1; font-family:Arial,Helvetica Neue,Helvetica,sans-serif; font-size:48px; text-anchor:end;\" transform=\"rotate(0, 156.66, 1464.21)\" x=\"156.66\" y=\"1464.21\">0.00</text>\n",
       "</g>\n",
       "<g clip-path=\"url(#clip4500)\">\n",
       "<text style=\"fill:#000000; fill-opacity:1; font-family:Arial,Helvetica Neue,Helvetica,sans-serif; font-size:48px; text-anchor:end;\" transform=\"rotate(0, 156.66, 1133.95)\" x=\"156.66\" y=\"1133.95\">0.25</text>\n",
       "</g>\n",
       "<g clip-path=\"url(#clip4500)\">\n",
       "<text style=\"fill:#000000; fill-opacity:1; font-family:Arial,Helvetica Neue,Helvetica,sans-serif; font-size:48px; text-anchor:end;\" transform=\"rotate(0, 156.66, 803.684)\" x=\"156.66\" y=\"803.684\">0.50</text>\n",
       "</g>\n",
       "<g clip-path=\"url(#clip4500)\">\n",
       "<text style=\"fill:#000000; fill-opacity:1; font-family:Arial,Helvetica Neue,Helvetica,sans-serif; font-size:48px; text-anchor:end;\" transform=\"rotate(0, 156.66, 473.42)\" x=\"156.66\" y=\"473.42\">0.75</text>\n",
       "</g>\n",
       "<g clip-path=\"url(#clip4500)\">\n",
       "<text style=\"fill:#000000; fill-opacity:1; font-family:Arial,Helvetica Neue,Helvetica,sans-serif; font-size:48px; text-anchor:end;\" transform=\"rotate(0, 156.66, 143.155)\" x=\"156.66\" y=\"143.155\">1.00</text>\n",
       "</g>\n",
       "<polyline clip-path=\"url(#clip4502)\" style=\"stroke:#009af9; stroke-width:4; stroke-opacity:1; fill:none\" points=\"\n",
       "  242.135,1446.71 469.818,915.78 697.501,514.443 925.184,242.701 1152.87,100.555 1380.55,88.0053 1608.23,88.0053 1835.92,88.0053 2063.6,88.0053 2291.28,88.0053 \n",
       "  \n",
       "  \"/>\n",
       "<polygon clip-path=\"url(#clip4500)\" points=\"\n",
       "1989.93,251.724 2280.76,251.724 2280.76,130.764 1989.93,130.764 \n",
       "  \" fill=\"#ffffff\" fill-rule=\"evenodd\" fill-opacity=\"1\"/>\n",
       "<polyline clip-path=\"url(#clip4500)\" style=\"stroke:#000000; stroke-width:4; stroke-opacity:1; fill:none\" points=\"\n",
       "  1989.93,251.724 2280.76,251.724 2280.76,130.764 1989.93,130.764 1989.93,251.724 \n",
       "  \"/>\n",
       "<polyline clip-path=\"url(#clip4500)\" style=\"stroke:#009af9; stroke-width:4; stroke-opacity:1; fill:none\" points=\"\n",
       "  2013.93,191.244 2157.93,191.244 \n",
       "  \"/>\n",
       "<g clip-path=\"url(#clip4500)\">\n",
       "<text style=\"fill:#000000; fill-opacity:1; font-family:Arial,Helvetica Neue,Helvetica,sans-serif; font-size:48px; text-anchor:start;\" transform=\"rotate(0, 2181.93, 208.744)\" x=\"2181.93\" y=\"208.744\">y1</text>\n",
       "</g>\n",
       "</svg>\n"
      ]
     },
     "execution_count": 89,
     "metadata": {},
     "output_type": "execute_result"
    }
   ],
   "source": [
    "plot(traj[7][5,:])"
   ]
  },
  {
   "cell_type": "code",
   "execution_count": 101,
   "metadata": {},
   "outputs": [
    {
     "data": {
      "text/plain": [
       "10-element Array{Array{Array{Float64,1},1},1}:\n",
       " [[0.0, 0.0, 0.0, 0.0, 0.0, 0.0]]                                   \n",
       " [[1.0, 0.0, 0.0, 1.0, 0.0, 4.019]]                                 \n",
       " [[1.0, 0.0, 0.0, 1.0, 0.0, 3.038]]                                 \n",
       " [[1.0, 0.0, 0.0, 1.0, 0.0, 2.057]]                                 \n",
       " [[1.0, 0.0, 0.0, 1.0, 0.0, 1.076]]                                 \n",
       " [[1.0, 0.0, 0.0, 1.0, 0.0, 0.095]]                                 \n",
       " [[1.0, 0.45158, -9.99201e-16, 0.54842, -1.05471e-15, -3.55429e-26]]\n",
       " [[1.0, 0.5, -9.99201e-16, 0.5, -1.05471e-15, -9.69352e-26]]        \n",
       " [[1.0, 0.5, -9.99201e-16, 0.5, -1.05471e-15, -9.69352e-26]]        \n",
       " [[1.0, 0.5, -9.99201e-16, 0.5, -1.05471e-15, -9.69352e-26]]        "
      ]
     },
     "execution_count": 101,
     "metadata": {},
     "output_type": "execute_result"
    }
   ],
   "source": [
    "traj[4]"
   ]
  },
  {
   "cell_type": "code",
   "execution_count": 118,
   "metadata": {},
   "outputs": [
    {
     "data": {
      "text/plain": [
       "9-element Array{Array{Float64,1},1}:\n",
       " [-9.86076e-32, 1.33227e-15, -2.18953e-47, 9.81, -1.16005e-31, -9.81]\n",
       " [-1.97215e-31, 8.88178e-16, -3.28429e-47, 9.81, -1.16081e-31, -9.81]\n",
       " [3.9443e-31, -1.77636e-15, -4.37906e-47, 9.81, -1.16081e-31, -9.81] \n",
       " [0.0, 0.0, 0.0, 9.81, -1.16081e-31, -9.81]                          \n",
       " [-5.36982e-47, 0.0, 0.0, 9.81, -1.16081e-31, -9.81]                 \n",
       " [0.0, 0.0, 8.55285e-50, 0.95, 2.9976e-17, -9.81]                    \n",
       " [0.0, 0.0, 0.0, -1.30695e-15, -5.9952e-17, -9.81]                   \n",
       " [0.0, 0.0, 0.0, -1.30695e-15, 0.0, -9.81]                           \n",
       " [0.0, 0.0, 0.0, -1.30695e-15, 0.0, -9.81]                           "
      ]
     },
     "execution_count": 118,
     "metadata": {},
     "output_type": "execute_result"
    }
   ],
   "source": [
    "bias_traj = Array{Array{Float64,1},1}()\n",
    "\n",
    "for n = 1:N-1\n",
    "    q0 = traj[1][n]\n",
    "    v0 = traj[2][n]\n",
    "    u0 = zeros(num_vel)\n",
    "    h = traj[6][n+1] - traj[6][n]\n",
    "    qnext = traj[1][n+1]\n",
    "    vnext = traj[2][n+1]\n",
    "\n",
    "    nvs = sim_data.normal_vs[1]\n",
    "    x_normal = zeros(nvs.num_vars)\n",
    "    for i = 1:num_contacts\n",
    "        x_normal[nvs(Symbol(\"c_n\", i))] = [traj[4][n+1][i][1]]\n",
    "    end\n",
    "    \n",
    "    x0 = sim_data.state_cache[1][Float64]\n",
    "    xn = sim_data.state_cache[2][Float64]\n",
    "    envj = sim_data.envj_cache[2][Float64]\n",
    "\n",
    "    set_configuration!(x0, q0)\n",
    "    set_velocity!(x0, v0)\n",
    "    setdirty!(x0)\n",
    "    set_configuration!(xn, qnext)\n",
    "    set_velocity!(xn, vnext)\n",
    "    setdirty!(xn)\n",
    "\n",
    "    normalize_configuration!(x0)\n",
    "    normalize_configuration!(xn)\n",
    "\n",
    "    H = mass_matrix(x0)\n",
    "    Hi = inv(H)\n",
    "    config_derivative = configuration_derivative(xn)\n",
    "    dyn_bias = dynamics_bias(xn)\n",
    "    \n",
    "    contact_bias = u0 .- dyn_bias .- (1. / Δt)*H*(vnext - v0)\n",
    "    \n",
    "    push!(bias_traj, contact_bias)\n",
    "end\n",
    "\n",
    "bias_traj"
   ]
  },
  {
   "cell_type": "markdown",
   "metadata": {},
   "source": [
    "# semidirect"
   ]
  },
  {
   "cell_type": "code",
   "execution_count": 106,
   "metadata": {},
   "outputs": [
    {
     "data": {
      "text/plain": [
       "6-element Array{Float64,1}:\n",
       "  0.0                  \n",
       "  0.0                  \n",
       "  0.0                  \n",
       "  9.809999999999961    \n",
       " -8.392800334951622e-15\n",
       " -9.81                 "
      ]
     },
     "metadata": {},
     "output_type": "display_data"
    },
    {
     "data": {
      "text/plain": [
       "6-element Array{Float64,1}:\n",
       "  0.0                   \n",
       "  0.0                   \n",
       "  0.0                   \n",
       "  9.809999999999963     \n",
       " -1.8604897180183867e-14\n",
       " -9.81                  "
      ]
     },
     "metadata": {},
     "output_type": "display_data"
    },
    {
     "data": {
      "text/plain": [
       "6-element Array{Float64,1}:\n",
       "  0.0                  \n",
       "  0.0                  \n",
       "  0.0                  \n",
       "  9.809999999994778    \n",
       "  1.441236342702233e-14\n",
       " -9.809999999999999    "
      ]
     },
     "metadata": {},
     "output_type": "display_data"
    },
    {
     "data": {
      "text/plain": [
       "6-element Array{Float64,1}:\n",
       "  0.0                  \n",
       "  0.0                  \n",
       "  0.0                  \n",
       "  9.809999999999995    \n",
       "  6.092980987868551e-16\n",
       " -9.809999999999999    "
      ]
     },
     "metadata": {},
     "output_type": "display_data"
    },
    {
     "data": {
      "text/plain": [
       "6-element Array{Float64,1}:\n",
       "  0.0                   \n",
       "  0.0                   \n",
       "  0.0                   \n",
       " 10.76000000000202      \n",
       "  1.0246803405777882e-12\n",
       " -9.809999999999999     "
      ]
     },
     "metadata": {},
     "output_type": "display_data"
    },
    {
     "data": {
      "text/plain": [
       "6-element Array{Float64,1}:\n",
       "  0.0                  \n",
       "  0.0                  \n",
       "  0.0                  \n",
       "  0.9500000000000093   \n",
       "  4.440892098500626e-16\n",
       " -9.809999999999997    "
      ]
     },
     "metadata": {},
     "output_type": "display_data"
    },
    {
     "data": {
      "text/plain": [
       "6-element Array{Float64,1}:\n",
       "  0.0                   \n",
       "  0.0                   \n",
       "  0.0                   \n",
       " -1.3563320722547928e-15\n",
       " -2.220446049250313e-16 \n",
       " -9.809999999999997     "
      ]
     },
     "metadata": {},
     "output_type": "display_data"
    },
    {
     "data": {
      "text/plain": [
       "6-element Array{Float64,1}:\n",
       "  0.0                   \n",
       "  0.0                   \n",
       "  0.0                   \n",
       " -1.1342874673297615e-15\n",
       "  2.220446049250313e-16 \n",
       " -9.809999999999997     "
      ]
     },
     "metadata": {},
     "output_type": "display_data"
    },
    {
     "data": {
      "text/plain": [
       "6-element Array{Float64,1}:\n",
       "  0.0                   \n",
       "  0.0                   \n",
       "  0.0                   \n",
       " -1.1342874673297615e-15\n",
       "  2.220446049250313e-16 \n",
       " -9.809999999999997     "
      ]
     },
     "metadata": {},
     "output_type": "display_data"
    }
   ],
   "source": [
    "sim_data = get_sim_data_direct(mechanism,env,Δt)\n",
    "num_contacts = length(sim_data.env.contacts)\n",
    "num_vel = num_velocities(mechanism)\n",
    "\n",
    "sim_data.fric_options[1][\"num_fosteps\"] = 0\n",
    "sim_data.fric_options[1][\"num_sosteps\"] = 5\n",
    "sim_data.fric_options[1][\"c\"] = 1\n",
    "sim_data.fric_options[1][\"c_fos\"] = 1\n",
    "sim_data.fric_options[1][\"c_sos\"] = 1\n",
    "\n",
    "for n = 1:N-1\n",
    "    q0 = traj[1][n]\n",
    "    v0 = traj[2][n]\n",
    "    u0 = zeros(num_vel)\n",
    "    h = traj[6][n+1] - traj[6][n]\n",
    "    qnext = traj[1][n+1]\n",
    "    vnext = traj[2][n+1]\n",
    "\n",
    "    nvs = sim_data.normal_vs[1]\n",
    "    x_normal = zeros(nvs.num_vars)\n",
    "    for i = 1:num_contacts\n",
    "        x_normal[nvs(Symbol(\"c_n\", i))] = [traj[4][n+1][i][1]]\n",
    "    end\n",
    "    \n",
    "    x0 = sim_data.state_cache[1][Float64]\n",
    "    xn = sim_data.state_cache[2][Float64]\n",
    "    envj = sim_data.envj_cache[2][Float64]\n",
    "\n",
    "    set_configuration!(x0, q0)\n",
    "    set_velocity!(x0, v0)\n",
    "    setdirty!(x0)\n",
    "    set_configuration!(xn, qnext)\n",
    "    set_velocity!(xn, vnext)\n",
    "    setdirty!(xn)\n",
    "\n",
    "    normalize_configuration!(x0)\n",
    "    normalize_configuration!(xn)\n",
    "\n",
    "    H = mass_matrix(x0)\n",
    "    Hi = inv(H)\n",
    "    config_derivative = configuration_derivative(xn)\n",
    "    dyn_bias = dynamics_bias(xn)\n",
    "\n",
    "    contact_jacobian!(envj, xn)\n",
    "    contact_bias = Vector{Float64}(undef, num_vel)\n",
    "    if (num_contacts > 0)\n",
    "        # compute friction forces\n",
    "        contact_friction_τ_direct!(contact_bias, sim_data, Hi, envj, dyn_bias, u0, v0, Array{Float64,1}(), x_normal, 1)\n",
    "    \n",
    "        display(contact_bias)\n",
    "    end\n",
    "end"
   ]
  },
  {
   "cell_type": "markdown",
   "metadata": {},
   "source": [
    "# direct"
   ]
  },
  {
   "cell_type": "code",
   "execution_count": 115,
   "metadata": {},
   "outputs": [
    {
     "data": {
      "text/plain": [
       "6-element Array{Float64,1}:\n",
       "  0.0                   \n",
       "  0.0                   \n",
       "  0.0                   \n",
       "  9.810000000000008     \n",
       " -1.2811230876573432e-14\n",
       " -9.810000000000073     "
      ]
     },
     "metadata": {},
     "output_type": "display_data"
    },
    {
     "data": {
      "text/plain": [
       "6-element Array{Float64,1}:\n",
       "  0.0                  \n",
       "  0.0                  \n",
       "  0.0                  \n",
       "  9.810000000000137    \n",
       "  3.214875610728092e-14\n",
       " -9.81000000000009     "
      ]
     },
     "metadata": {},
     "output_type": "display_data"
    },
    {
     "data": {
      "text/plain": [
       "6-element Array{Float64,1}:\n",
       "  0.0                   \n",
       "  0.0                   \n",
       "  0.0                   \n",
       "  9.809999999995036     \n",
       " -3.3782438949083186e-14\n",
       " -9.81000000000009      "
      ]
     },
     "metadata": {},
     "output_type": "display_data"
    },
    {
     "data": {
      "text/plain": [
       "6-element Array{Float64,1}:\n",
       "  0.0                  \n",
       "  0.0                  \n",
       "  0.0                  \n",
       "  9.810000000000048    \n",
       "  4.731570003921971e-16\n",
       " -9.810000000000072    "
      ]
     },
     "metadata": {},
     "output_type": "display_data"
    },
    {
     "data": {
      "text/plain": [
       "6-element Array{Float64,1}:\n",
       "  0.0                  \n",
       "  0.0                  \n",
       "  0.0                  \n",
       " 10.760000000001517    \n",
       " -8.179568133925841e-14\n",
       " -9.810000000000072    "
      ]
     },
     "metadata": {},
     "output_type": "display_data"
    },
    {
     "data": {
      "text/plain": [
       "6-element Array{Float64,1}:\n",
       "  0.0                  \n",
       "  0.0                  \n",
       "  0.0                  \n",
       "  0.9500000000000096   \n",
       " -2.220446049250313e-16\n",
       " -9.810000000000038    "
      ]
     },
     "metadata": {},
     "output_type": "display_data"
    },
    {
     "data": {
      "text/plain": [
       "6-element Array{Float64,1}:\n",
       "  0.0                   \n",
       "  0.0                   \n",
       "  0.0                   \n",
       " -1.2577997788193175e-15\n",
       "  0.0                   \n",
       " -9.81000000000007      "
      ]
     },
     "metadata": {},
     "output_type": "display_data"
    },
    {
     "data": {
      "text/plain": [
       "6-element Array{Float64,1}:\n",
       "  0.0                   \n",
       "  0.0                   \n",
       "  0.0                   \n",
       " -1.2577997788193175e-15\n",
       "  0.0                   \n",
       " -9.81000000000007      "
      ]
     },
     "metadata": {},
     "output_type": "display_data"
    },
    {
     "data": {
      "text/plain": [
       "6-element Array{Float64,1}:\n",
       "  0.0                   \n",
       "  0.0                   \n",
       "  0.0                   \n",
       " -1.2577997788193175e-15\n",
       "  0.0                   \n",
       " -9.81000000000007      "
      ]
     },
     "metadata": {},
     "output_type": "display_data"
    }
   ],
   "source": [
    "sim_data = get_sim_data_direct(mechanism,env,Δt)\n",
    "num_contacts = length(sim_data.env.contacts)\n",
    "num_vel = num_velocities(mechanism)\n",
    "\n",
    "sim_data.normal_options[1][\"num_fosteps\"] = 0\n",
    "sim_data.normal_options[1][\"num_sosteps\"] = 5\n",
    "sim_data.normal_options[1][\"c\"] = 1\n",
    "sim_data.normal_options[1][\"c_fos\"] = 1\n",
    "sim_data.normal_options[1][\"c_sos\"] = 1\n",
    "\n",
    "sim_data.fric_options[1][\"num_fosteps\"] = 0\n",
    "sim_data.fric_options[1][\"num_sosteps\"] = 5\n",
    "sim_data.fric_options[1][\"c\"] = 1\n",
    "sim_data.fric_options[1][\"c_fos\"] = 1\n",
    "sim_data.fric_options[1][\"c_sos\"] = 1\n",
    "\n",
    "for n = 1:N-1\n",
    "    q0 = traj[1][n]\n",
    "    v0 = traj[2][n]\n",
    "    u0 = zeros(num_vel)\n",
    "    h = traj[6][n+1] - traj[6][n]\n",
    "    qnext = traj[1][n+1]\n",
    "    vnext = traj[2][n+1]\n",
    "    \n",
    "    x0 = sim_data.state_cache[1][Float64]\n",
    "    xn = sim_data.state_cache[2][Float64]\n",
    "    envj = sim_data.envj_cache[2][Float64]\n",
    "\n",
    "    set_configuration!(x0, q0)\n",
    "    set_velocity!(x0, v0)\n",
    "    setdirty!(x0)\n",
    "    set_configuration!(xn, qnext)\n",
    "    set_velocity!(xn, vnext)\n",
    "    setdirty!(xn)\n",
    "\n",
    "    normalize_configuration!(x0)\n",
    "    normalize_configuration!(xn)\n",
    "\n",
    "    H = mass_matrix(x0)\n",
    "    Hi = inv(H)\n",
    "    config_derivative = configuration_derivative(xn)\n",
    "    dyn_bias = dynamics_bias(xn)\n",
    "\n",
    "    contact_jacobian!(envj, xn)\n",
    "    normal_bias = Vector{Float64}(undef, num_vel)\n",
    "    contact_bias = Vector{Float64}(undef, num_vel)\n",
    "    if (num_contacts > 0)\n",
    "        # compute the normal forces\n",
    "        x_normal = contact_normal_τ_direct!(normal_bias, sim_data, Hi, envj, dyn_bias, u0, v0, Array{Float64,1}(), 1)\n",
    "        \n",
    "        # compute friction forces\n",
    "        contact_friction_τ_direct!(contact_bias, sim_data, Hi, envj, dyn_bias, u0, v0, Array{Float64,1}(), x_normal, 1)\n",
    "    \n",
    "        display(contact_bias)\n",
    "    end\n",
    "end"
   ]
  },
  {
   "cell_type": "markdown",
   "metadata": {},
   "source": [
    "# estimation"
   ]
  },
  {
   "cell_type": "code",
   "execution_count": 139,
   "metadata": {},
   "outputs": [
    {
     "data": {
      "text/plain": [
       "generate_solver_fn_estimation_direct (generic function with 2 methods)"
      ]
     },
     "execution_count": 139,
     "metadata": {},
     "output_type": "execute_result"
    }
   ],
   "source": [
    "function generate_solver_fn_estimation_direct()\n",
    "    sim_data = get_sim_data_direct(mechanism,env,Δt)\n",
    "    num_contacts = length(sim_data.env.contacts)\n",
    "    num_vel = num_velocities(mechanism)\n",
    "    \n",
    "    sim_data.normal_options[1][\"num_fosteps\"] = 0\n",
    "    sim_data.normal_options[1][\"num_sosteps\"] = 10\n",
    "    sim_data.normal_options[1][\"c\"] = 1\n",
    "    sim_data.normal_options[1][\"c_fos\"] = 1\n",
    "    sim_data.normal_options[1][\"c_sos\"] = 1\n",
    "\n",
    "    sim_data.fric_options[1][\"num_fosteps\"] = 0\n",
    "    sim_data.fric_options[1][\"num_sosteps\"] = 10\n",
    "    sim_data.fric_options[1][\"c\"] = 1\n",
    "    sim_data.fric_options[1][\"c_fos\"] = 1\n",
    "    sim_data.fric_options[1][\"c_sos\"] = 1\n",
    "    \n",
    "    function eval_obj(params::AbstractArray{T}) where T\n",
    "        # set the friction coefficient for the floor\n",
    "        obstacles[1].μ = params[1]\n",
    "        \n",
    "        # evaluate the dynamics residual on each datapoint as an inner problem\n",
    "        losses = Array{T,1}(undef, N-1)\n",
    "        for n = 1:N-1\n",
    "            q0 = traj[1][n]\n",
    "            v0 = traj[2][n]\n",
    "            u0 = zeros(num_vel)\n",
    "            h = traj[6][n+1] - traj[6][n]\n",
    "            qnext = traj[1][n+1]\n",
    "            vnext = traj[2][n+1]\n",
    "\n",
    "            x0 = sim_data.state_cache[1][Float64]\n",
    "            xn = sim_data.state_cache[2][Float64]\n",
    "            envj = sim_data.envj_cache[2][Float64]\n",
    "\n",
    "            set_configuration!(x0, q0)\n",
    "            set_velocity!(x0, v0)\n",
    "            setdirty!(x0)\n",
    "            set_configuration!(xn, qnext)\n",
    "            set_velocity!(xn, vnext)\n",
    "            setdirty!(xn)\n",
    "\n",
    "            normalize_configuration!(x0)\n",
    "            normalize_configuration!(xn)\n",
    "\n",
    "            H = mass_matrix(x0)\n",
    "            Hi = inv(H)\n",
    "            config_derivative = configuration_derivative(xn)\n",
    "            dyn_bias = dynamics_bias(xn)\n",
    "\n",
    "            contact_jacobian!(envj, xn)\n",
    "            normal_bias = Vector{T}(undef, num_vel)\n",
    "            contact_bias = Vector{T}(undef, num_vel)\n",
    "\n",
    "            x_normal = contact_normal_τ_direct!(normal_bias, sim_data, Hi, envj, dyn_bias, u0, v0, params, 1)\n",
    "            contact_friction_τ_direct!(contact_bias, sim_data, Hi, envj, dyn_bias, u0, v0, params, x_normal, 1)\n",
    "        \n",
    "            err = contact_bias - bias_traj[n]\n",
    "            loss = sum(abs.(err)) + err'*err\n",
    "            \n",
    "            losses[n] = loss\n",
    "        end\n",
    "        \n",
    "        # add losses\n",
    "        sum(losses)\n",
    "    end\n",
    "\n",
    "    function eval_cons(params::AbstractArray{T}) where T        \n",
    "        # friction coeffs are positive\n",
    "#         g = Vector{T}(undef, cs.num_eqs + cs.num_ineqs)\n",
    "#         μ = params[1]\n",
    "#         g[cs(:μ_pos)] .= 1e-5 - μ\n",
    "        g = -params\n",
    "        \n",
    "        g\n",
    "    end\n",
    "    \n",
    "    return Bilevel.generate_autodiff_solver_fn(eval_obj,eval_cons,[],1:1,1,hessian=false)\n",
    "end"
   ]
  },
  {
   "cell_type": "code",
   "execution_count": 140,
   "metadata": {},
   "outputs": [
    {
     "data": {
      "text/plain": [
       "1.0e-6"
      ]
     },
     "execution_count": 140,
     "metadata": {},
     "output_type": "execute_result"
    }
   ],
   "source": [
    "solver_fn = generate_solver_fn_estimation_direct()\n",
    "\n",
    "μ0 = [.5]\n",
    "options = Dict{String, Any}()\n",
    "options[\"Derivative option\"] = 1\n",
    "options[\"Verify level\"] = -1\n",
    "options[\"Major optimality tolerance\"] = 1e-6"
   ]
  },
  {
   "cell_type": "code",
   "execution_count": 146,
   "metadata": {},
   "outputs": [
    {
     "data": {
      "text/plain": [
       "(39.24000000164619, Float64[], [-0.2], [-49.05], Array{Float64}(0,1), [-1.0], [0.0])"
      ]
     },
     "metadata": {},
     "output_type": "display_data"
    },
    {
     "data": {
      "text/plain": [
       "(24.525000001701475, Float64[], [-0.5], [-49.05], Array{Float64}(0,1), [-1.0], [0.0])"
      ]
     },
     "metadata": {},
     "output_type": "display_data"
    },
    {
     "data": {
      "text/plain": [
       "(12.262501586112414, Float64[], [-0.75], [-49.0499], Array{Float64}(0,1), [-1.0], [0.0])"
      ]
     },
     "metadata": {},
     "output_type": "display_data"
    },
    {
     "data": {
      "text/plain": [
       "(2.4364316136312874e-11, Float64[], [-1.0], [-49.05], Array{Float64}(0,1), [-1.0], [0.0])"
      ]
     },
     "metadata": {},
     "output_type": "display_data"
    },
    {
     "data": {
      "text/plain": [
       "(10.759999998461854, Float64[], [-1.25], [39.24], Array{Float64}(0,1), [-1.0], [0.0])"
      ]
     },
     "metadata": {},
     "output_type": "display_data"
    },
    {
     "data": {
      "text/plain": [
       "(20.56999928018277, Float64[], [-1.5], [39.24], Array{Float64}(0,1), [-1.0], [0.0])"
      ]
     },
     "metadata": {},
     "output_type": "display_data"
    },
    {
     "data": {
      "text/plain": [
       "(40.189999956804876, Float64[], [-2.0], [39.24], Array{Float64}(0,1), [-1.0], [0.0])"
      ]
     },
     "metadata": {},
     "output_type": "display_data"
    }
   ],
   "source": [
    "display(solver_fn([.2]))\n",
    "display(solver_fn([.5]))\n",
    "display(solver_fn([.75]))\n",
    "display(solver_fn([1.]))\n",
    "display(solver_fn([1.25]))\n",
    "display(solver_fn([1.5]))\n",
    "display(solver_fn([2.]))"
   ]
  },
  {
   "cell_type": "code",
   "execution_count": 147,
   "metadata": {},
   "outputs": [
    {
     "data": {
      "text/plain": [
       "([1.0], \"Terminated after numerical difficulties: current point cannot be improved\")"
      ]
     },
     "execution_count": 147,
     "metadata": {},
     "output_type": "execute_result"
    }
   ],
   "source": [
    "μopt, info = Bilevel.snopt(solver_fn, 0, 1, μ0, options)"
   ]
  }
 ],
 "metadata": {
  "kernelspec": {
   "display_name": "Julia 1.1.0",
   "language": "julia",
   "name": "julia-1.1"
  },
  "language_info": {
   "file_extension": ".jl",
   "mimetype": "application/julia",
   "name": "julia",
   "version": "1.1.0"
  }
 },
 "nbformat": 4,
 "nbformat_minor": 2
}
