{
 "cells": [
  {
   "cell_type": "code",
   "execution_count": 1,
   "metadata": {
    "collapsed": false
   },
   "outputs": [
    {
     "name": "stderr",
     "output_type": "stream",
     "text": [
      "\u001b[1m\u001b[36mINFO: \u001b[39m\u001b[22m\u001b[36mRecompiling stale cache file /Users/blandry/.julia/lib/v0.6/LCPSim.ji for module LCPSim.\n",
      "\u001b[39m"
     ]
    },
    {
     "data": {
      "text/html": [
       "    <script class='js-collapse-script'>\n",
       "        var curMatch =\n",
       "            window.location.href\n",
       "            .match(/(.*?)\\/notebooks\\/.*\\.ipynb/);\n",
       "\n",
       "        curMatch = curMatch ||\n",
       "            window.location.href\n",
       "            .match(/(.*?)\\/apps\\/.*\\.ipynb/);\n",
       "\n",
       "        if ( curMatch ) {\n",
       "            $('head').append('<base href=\"' + curMatch[1] + '/\">');\n",
       "        }\n",
       "    </script>\n"
      ],
      "text/plain": [
       "HTML{String}(\"    <script class='js-collapse-script'>\\n        var curMatch =\\n            window.location.href\\n            .match(/(.*?)\\\\/notebooks\\\\/.*\\\\.ipynb/);\\n\\n        curMatch = curMatch ||\\n            window.location.href\\n            .match(/(.*?)\\\\/apps\\\\/.*\\\\.ipynb/);\\n\\n        if ( curMatch ) {\\n            \\$('head').append('<base href=\\\"' + curMatch[1] + '/\\\">');\\n        }\\n    </script>\\n\")"
      ]
     },
     "metadata": {},
     "output_type": "display_data"
    },
    {
     "data": {
      "text/html": [
       "<script class='js-collapse-script' src='/assetserver/8c8a043c2f00369f3e7ae550277d2a54e59a34ad-assets/webio/dist/bundle.js'></script>"
      ],
      "text/plain": [
       "HTML{String}(\"<script class='js-collapse-script' src='/assetserver/8c8a043c2f00369f3e7ae550277d2a54e59a34ad-assets/webio/dist/bundle.js'></script>\")"
      ]
     },
     "metadata": {},
     "output_type": "display_data"
    },
    {
     "data": {
      "text/html": [
       "<script class='js-collapse-script' src='/assetserver/8c8a043c2f00369f3e7ae550277d2a54e59a34ad-assets/providers/ijulia_setup.js'></script>"
      ],
      "text/plain": [
       "HTML{String}(\"<script class='js-collapse-script' src='/assetserver/8c8a043c2f00369f3e7ae550277d2a54e59a34ad-assets/providers/ijulia_setup.js'></script>\")"
      ]
     },
     "metadata": {},
     "output_type": "display_data"
    },
    {
     "data": {
      "text/html": [
       "  <script class='js-collapse-script'>\n",
       "    $('.js-collapse-script').parent('.output_subarea').css('padding', '0');\n",
       "  </script>\n"
      ],
      "text/plain": [
       "HTML{String}(\"  <script class='js-collapse-script'>\\n    \\$('.js-collapse-script').parent('.output_subarea').css('padding', '0');\\n  </script>\\n\")"
      ]
     },
     "metadata": {},
     "output_type": "display_data"
    }
   ],
   "source": [
    "using Revise\n",
    "\n",
    "using RigidBodyDynamics\n",
    "using RigidBodyDynamics: Bounds\n",
    "using LCPSim\n",
    "\n",
    "using RigidBodyTreeInspector\n",
    "using DrakeVisualizer\n",
    "using Plots"
   ]
  },
  {
   "cell_type": "code",
   "execution_count": 66,
   "metadata": {
    "collapsed": true
   },
   "outputs": [],
   "source": [
    "urdf = joinpath(\"..\",\"urdf\", \"ball.urdf\")\n",
    "mechanism = parse_urdf(Float64, urdf)\n",
    "body = findbody(mechanism, \"ball\")\n",
    "basejoint = joint_to_parent(body, mechanism)\n",
    "floatingjoint = Joint(basejoint.name, frame_before(basejoint), frame_after(basejoint), QuaternionFloating{Float64}())\n",
    "replace_joint!(mechanism, basejoint, floatingjoint)\n",
    "position_bounds(floatingjoint) .= Bounds(-100, 100)\n",
    "velocity_bounds(floatingjoint) .= Bounds(-100, 100);"
   ]
  },
  {
   "cell_type": "code",
   "execution_count": 95,
   "metadata": {
    "collapsed": false
   },
   "outputs": [
    {
     "name": "stderr",
     "output_type": "stream",
     "text": [
      "WARNING: Method definition τ_contact_wrenches(Any, Any, Any, Any, Any, Any, Any, Any, Any, Any, Any, Any, Any, Any, Any, Any, Any, Any, Any, Any, Any, Any, Any, Any, AbstractArray{M, N} where N, AbstractArray{M, N} where N, AbstractArray{M, N} where N, AbstractArray{T, N} where N, AbstractArray{T, N} where N) in module LCPSim at /Users/blandry/.julia/v0.6/LCPSim/src/contact.jl:169 overwritten at /Users/blandry/.julia/v0.6/LCPSim/src/contact.jl:173.\n"
     ]
    }
   ],
   "source": [
    "q0 = [1., 0., 0., 0., 0., 0., 0.]\n",
    "v0 = [0., 0., 0., 0., 0. , 0.]\n",
    "qnext = [1., 0., 0., 0., 0., 0., 0.]\n",
    "vnext = [0., 0., 0., 0., 0., 0.]\n",
    "\n",
    "x0 = MechanismState(mechanism)\n",
    "\n",
    "u0 = zeros(length(v0))\n",
    "set_configuration!(x0, q0)\n",
    "set_velocity!(x0, v0)\n",
    "env = LCPSim.parse_contacts(mechanism, urdf);\n",
    "Δt = 0.01;\n",
    "\n",
    "# some useful variable for inner constraints\n",
    "world = root_body(mechanism)\n",
    "world_frame = default_frame(world)\n",
    "total_weight = mass(mechanism) * norm(mechanism.gravitational_acceleration)\n",
    "num_q = length(q0)\n",
    "num_v = length(v0)\n",
    "num_x = num_q + num_v\n",
    "num_contacts = length(env.contacts)\n",
    "num_g = num_q + num_v + num_contacts\n",
    "bodies = []\n",
    "contact_points = []\n",
    "obstacles = []\n",
    "contact_bases = []\n",
    "μs = []\n",
    "paths = []\n",
    "Ds = []\n",
    "for (body, contact_point, obstacle) in env.contacts\n",
    "     push!(bodies, body)\n",
    "     push!(contact_points, contact_point)\n",
    "     push!(obstacles, obstacle)\n",
    "     push!(contact_bases, contact_basis(obstacle))\n",
    "     push!(μs, obstacle.μ)\n",
    "     push!(paths, path(mechanism, body, world))\n",
    "     push!(Ds, contact_basis(obstacle))\n",
    "end\n",
    "β_dim = length(contact_bases[1])\n",
    "β_selector = find(repmat(vcat(ones(β_dim),[0,0]),num_contacts))\n",
    "λ_selector = find(repmat(vcat(zeros(β_dim),[1,0]),num_contacts))\n",
    "c_n_selector = find(repmat(vcat(zeros(β_dim),[0,1]),num_contacts));\n",
    "\n",
    "H = mass_matrix(x0)\n",
    "\n",
    "rel_transforms = Vector{Tuple{Transform3D, Transform3D}}(num_contacts) # force transform, point transform\n",
    "geo_jacobians = Vector{GeometricJacobian}(num_contacts)\n",
    "xnext = MechanismState(mechanism)\n",
    "set_configuration!(xnext, qnext)\n",
    "set_velocity!(xnext, vnext)\n",
    "\n",
    "ϕs = Vector{Float64}(num_contacts)\n",
    "Dtv = Matrix{Float64}(β_dim,num_contacts)\n",
    "for i = 1:num_contacts\n",
    "    v = point_velocity(twist_wrt_world(xnext,bodies[i]), transform_to_root(xnext, contact_points[i].frame) * contact_points[i])\n",
    "    Dtv[:,i] = map(contact_bases[i]) do d\n",
    "        dot(transform_to_root(xnext, d.frame) * d, v)\n",
    "    end\n",
    "    rel_transforms[i] = (relative_transform(xnext, obstacles[i].contact_face.outward_normal.frame, world_frame),\n",
    "                         relative_transform(xnext, contact_points[i].frame, world_frame))\n",
    "    geo_jacobians[i] = geometric_jacobian(xnext, paths[i])\n",
    "            \n",
    "    ϕs[i] = RigidBodyDynamics.separation(obstacles[i], transform(xnext, contact_points[i], obstacles[i].contact_face.outward_normal.frame))\n",
    "end    \n",
    "config_derivative = configuration_derivative(xnext)\n",
    "HΔv = H * (vnext - v0)\n",
    "dyn_bias = dynamics_bias(xnext);"
   ]
  },
  {
   "cell_type": "code",
   "execution_count": 103,
   "metadata": {
    "collapsed": false
   },
   "outputs": [],
   "source": [
    "τ_contact_wrenches(env,mechanism,bodies,contact_points,obstacles,Δt,\n",
    "                   num_v,num_contacts,β_dim,β_selector,λ_selector,c_n_selector,\n",
    "                   contact_bases,μs,ϕs,Ds,Dtv,world_frame,total_weight,\n",
    "                   rel_transforms,geo_jacobians,\n",
    "                   config_derivative,HΔv,dyn_bias,\n",
    "                   q0,v0,u0,qnext,vnext)"
   ]
  },
  {
   "cell_type": "code",
   "execution_count": null,
   "metadata": {
    "collapsed": false
   },
   "outputs": [],
   "source": [
    "DrakeVisualizer.any_open_windows() || (DrakeVisualizer.new_window(); sleep(1));\n",
    "geometries = visual_elements(mechanism, URDFVisuals(urdf))\n",
    "vis = Visualizer(mechanism, geometries);"
   ]
  },
  {
   "cell_type": "code",
   "execution_count": null,
   "metadata": {
    "collapsed": false
   },
   "outputs": [],
   "source": [
    "N = 10\n",
    "Δt = .1\n",
    "qs = [[1.,0.,0.,0.,0.,0.,1.] for i in 1:N]\n",
    "ts = cumsum([Δt for i in 1:N]);\n",
    "RigidBodyTreeInspector.animate(vis, mechanism, ts, qs; realtimerate = .25);"
   ]
  }
 ],
 "metadata": {
  "kernelspec": {
   "display_name": "Julia 0.6.4",
   "language": "julia",
   "name": "julia-0.6"
  },
  "language_info": {
   "file_extension": ".jl",
   "mimetype": "application/julia",
   "name": "julia",
   "version": "0.6.4"
  }
 },
 "nbformat": 4,
 "nbformat_minor": 2
}
