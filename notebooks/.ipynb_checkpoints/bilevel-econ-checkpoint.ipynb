{
 "cells": [
  {
   "cell_type": "code",
   "execution_count": 142,
   "metadata": {},
   "outputs": [],
   "source": [
    "using Revise\n",
    "\n",
    "using BilevelTrajOpt\n",
    "using ForwardDiff\n",
    "using DiffResults"
   ]
  },
  {
   "cell_type": "code",
   "execution_count": 167,
   "metadata": {},
   "outputs": [
    {
     "data": {
      "text/plain": [
       "#399 (generic function with 1 method)"
      ]
     },
     "execution_count": 167,
     "metadata": {},
     "output_type": "execute_result"
    }
   ],
   "source": [
    "# Problem taken from:\n",
    "# Sinha, Ankur, Pekka Malo, and Kalyanmoy Deb. \n",
    "# \"A review on bilevel optimization: from classical to evolutionary approaches and applications.\" \n",
    "# IEEE Transactions on Evolutionary Computation 22.2 (2018): 276-295.\n",
    "\n",
    "α = 10.\n",
    "β = .2\n",
    "\n",
    "δl = 1.\n",
    "δf = 2.\n",
    "γl = .3\n",
    "γf = 5.8\n",
    "cl = 10.\n",
    "cf = 1.\n",
    "\n",
    "P = (ql,qf) -> α - β*(ql + qf)\n",
    "Cl = ql -> δl*ql*ql + γl*ql + cl\n",
    "Cf = qf -> δf*qf*qf + γf*qf + cf"
   ]
  },
  {
   "cell_type": "code",
   "execution_count": 168,
   "metadata": {},
   "outputs": [
    {
     "data": {
      "text/plain": [
       "3.99236641221374"
      ]
     },
     "metadata": {},
     "output_type": "display_data"
    },
    {
     "data": {
      "text/plain": [
       "0.7730742539902844"
      ]
     },
     "metadata": {},
     "output_type": "display_data"
    }
   ],
   "source": [
    "# closed form solution\n",
    "\n",
    "qlopt = (2. * (β + δf)*(α - γl)-β * (α - γf))/(4. * (β + δf)*(β + δl) - 2. * β^2)\n",
    "qfopt = (α - γf)/(2. * (β + δf)) - (β * (α - γl) - (β^2 * (α - γf))/(2. * (β + δf)))/(4. * (β + δf) * (β + δl) - 2. * β^2)\n",
    "\n",
    "display(qlopt)\n",
    "display(qfopt)"
   ]
  },
  {
   "cell_type": "code",
   "execution_count": 171,
   "metadata": {},
   "outputs": [
    {
     "ename": "MethodError",
     "evalue": "MethodError: no method matching Float64(::ForwardDiff.Dual{ForwardDiff.Tag{typeof(F),Float64},Float64,1})\nClosest candidates are:\n  Float64(::Real, !Matched::RoundingMode) where T<:AbstractFloat at rounding.jl:173\n  Float64(::T<:Number) where T<:Number at boot.jl:725\n  Float64(!Matched::Int8) at float.jl:60\n  ...",
     "output_type": "error",
     "traceback": [
      "MethodError: no method matching Float64(::ForwardDiff.Dual{ForwardDiff.Tag{typeof(F),Float64},Float64,1})\nClosest candidates are:\n  Float64(::Real, !Matched::RoundingMode) where T<:AbstractFloat at rounding.jl:173\n  Float64(::T<:Number) where T<:Number at boot.jl:725\n  Float64(!Matched::Int8) at float.jl:60\n  ...",
      "",
      "Stacktrace:",
      " [1] Float64(::ForwardDiff.Dual{ForwardDiff.Tag{typeof(F),Float64},Float64,1}) at ./deprecated.jl:468",
      " [2] convert at ./number.jl:7 [inlined]",
      " [3] convert(::Type{ForwardDiff.Dual{ForwardDiff.Tag{getfield(BilevelTrajOpt, Symbol(\"##105#107\")){getfield(Main, Symbol(\"##419#422\")){Array{ForwardDiff.Dual{ForwardDiff.Tag{typeof(F),Float64},Float64,1},1}},Int64},Float64},Float64,2}}, ::ForwardDiff.Dual{ForwardDiff.Tag{getfield(BilevelTrajOpt, Symbol(\"##105#107\")){getfield(Main, Symbol(\"##419#422\")){Array{ForwardDiff.Dual{ForwardDiff.Tag{typeof(F),Float64},Float64,1},1}},Int64},Float64},ForwardDiff.Dual{ForwardDiff.Tag{typeof(F),Float64},Float64,1},2}) at /home/blandry/.julia/packages/ForwardDiff/KHAmA/src/dual.jl:342",
      " [4] setproperty! at ./sysimg.jl:19 [inlined]",
      " [5] value! at /home/blandry/.julia/packages/DiffResults/1LURj/src/DiffResults.jl:159 [inlined]",
      " [6] extract_gradient!(::Type{ForwardDiff.Tag{getfield(BilevelTrajOpt, Symbol(\"##105#107\")){getfield(Main, Symbol(\"##419#422\")){Array{ForwardDiff.Dual{ForwardDiff.Tag{typeof(F),Float64},Float64,1},1}},Int64},Float64}}, ::DiffResults.MutableDiffResult{1,ForwardDiff.Dual{ForwardDiff.Tag{getfield(BilevelTrajOpt, Symbol(\"##105#107\")){getfield(Main, Symbol(\"##419#422\")){Array{ForwardDiff.Dual{ForwardDiff.Tag{typeof(F),Float64},Float64,1},1}},Int64},Float64},Float64,2},Tuple{Array{ForwardDiff.Dual{ForwardDiff.Tag{getfield(BilevelTrajOpt, Symbol(\"##105#107\")){getfield(Main, Symbol(\"##419#422\")){Array{ForwardDiff.Dual{ForwardDiff.Tag{typeof(F),Float64},Float64,1},1}},Int64},Float64},Float64,2},1}}}, ::ForwardDiff.Dual{ForwardDiff.Tag{getfield(BilevelTrajOpt, Symbol(\"##105#107\")){getfield(Main, Symbol(\"##419#422\")){Array{ForwardDiff.Dual{ForwardDiff.Tag{typeof(F),Float64},Float64,1},1}},Int64},Float64},ForwardDiff.Dual{ForwardDiff.Tag{getfield(BilevelTrajOpt, Symbol(\"##105#107\")){getfield(Main, Symbol(\"##419#422\")){Array{ForwardDiff.Dual{ForwardDiff.Tag{typeof(F),Float64},Float64,1},1}},Int64},Float64},ForwardDiff.Dual{ForwardDiff.Tag{typeof(F),Float64},Float64,1},2},2}) at /home/blandry/.julia/packages/ForwardDiff/KHAmA/src/gradient.jl:70",
      " [7] vector_mode_gradient!(::DiffResults.MutableDiffResult{1,ForwardDiff.Dual{ForwardDiff.Tag{getfield(BilevelTrajOpt, Symbol(\"##105#107\")){getfield(Main, Symbol(\"##419#422\")){Array{ForwardDiff.Dual{ForwardDiff.Tag{typeof(F),Float64},Float64,1},1}},Int64},Float64},Float64,2},Tuple{Array{ForwardDiff.Dual{ForwardDiff.Tag{getfield(BilevelTrajOpt, Symbol(\"##105#107\")){getfield(Main, Symbol(\"##419#422\")){Array{ForwardDiff.Dual{ForwardDiff.Tag{typeof(F),Float64},Float64,1},1}},Int64},Float64},Float64,2},1}}}, ::getfield(BilevelTrajOpt, Symbol(\"##105#107\")){getfield(Main, Symbol(\"##419#422\")){Array{ForwardDiff.Dual{ForwardDiff.Tag{typeof(F),Float64},Float64,1},1}},Int64}, ::Array{ForwardDiff.Dual{ForwardDiff.Tag{getfield(BilevelTrajOpt, Symbol(\"##105#107\")){getfield(Main, Symbol(\"##419#422\")){Array{ForwardDiff.Dual{ForwardDiff.Tag{typeof(F),Float64},Float64,1},1}},Int64},Float64},Float64,2},1}, ::ForwardDiff.GradientConfig{ForwardDiff.Tag{getfield(BilevelTrajOpt, Symbol(\"##105#107\")){getfield(Main, Symbol(\"##419#422\")){Array{ForwardDiff.Dual{ForwardDiff.Tag{typeof(F),Float64},Float64,1},1}},Int64},Float64},ForwardDiff.Dual{ForwardDiff.Tag{getfield(BilevelTrajOpt, Symbol(\"##105#107\")){getfield(Main, Symbol(\"##419#422\")){Array{ForwardDiff.Dual{ForwardDiff.Tag{typeof(F),Float64},Float64,1},1}},Int64},Float64},Float64,2},2,Array{ForwardDiff.Dual{ForwardDiff.Tag{getfield(BilevelTrajOpt, Symbol(\"##105#107\")){getfield(Main, Symbol(\"##419#422\")){Array{ForwardDiff.Dual{ForwardDiff.Tag{typeof(F),Float64},Float64,1},1}},Int64},Float64},ForwardDiff.Dual{ForwardDiff.Tag{getfield(BilevelTrajOpt, Symbol(\"##105#107\")){getfield(Main, Symbol(\"##419#422\")){Array{ForwardDiff.Dual{ForwardDiff.Tag{typeof(F),Float64},Float64,1},1}},Int64},Float64},Float64,2},2},1}}) at /home/blandry/.julia/packages/ForwardDiff/KHAmA/src/gradient.jl:103",
      " [8] InnerGradientForHess at /home/blandry/.julia/packages/ForwardDiff/KHAmA/src/gradient.jl:35 [inlined]",
      " [9] vector_mode_dual_eval(::ForwardDiff.InnerGradientForHess{DiffResults.MutableDiffResult{2,Float64,Tuple{Array{Float64,1},Array{Float64,2}}},ForwardDiff.HessianConfig{ForwardDiff.Tag{getfield(BilevelTrajOpt, Symbol(\"##105#107\")){getfield(Main, Symbol(\"##419#422\")){Array{ForwardDiff.Dual{ForwardDiff.Tag{typeof(F),Float64},Float64,1},1}},Int64},Float64},Float64,2,Array{ForwardDiff.Dual{ForwardDiff.Tag{getfield(BilevelTrajOpt, Symbol(\"##105#107\")){getfield(Main, Symbol(\"##419#422\")){Array{ForwardDiff.Dual{ForwardDiff.Tag{typeof(F),Float64},Float64,1},1}},Int64},Float64},ForwardDiff.Dual{ForwardDiff.Tag{getfield(BilevelTrajOpt, Symbol(\"##105#107\")){getfield(Main, Symbol(\"##419#422\")){Array{ForwardDiff.Dual{ForwardDiff.Tag{typeof(F),Float64},Float64,1},1}},Int64},Float64},Float64,2},2},1},Tuple{Array{ForwardDiff.Dual{ForwardDiff.Tag{getfield(BilevelTrajOpt, Symbol(\"##105#107\")){getfield(Main, Symbol(\"##419#422\")){Array{ForwardDiff.Dual{ForwardDiff.Tag{typeof(F),Float64},Float64,1},1}},Int64},Float64},Float64,2},1},Array{ForwardDiff.Dual{ForwardDiff.Tag{getfield(BilevelTrajOpt, Symbol(\"##105#107\")){getfield(Main, Symbol(\"##419#422\")){Array{ForwardDiff.Dual{ForwardDiff.Tag{typeof(F),Float64},Float64,1},1}},Int64},Float64},Float64,2},1}}},getfield(BilevelTrajOpt, Symbol(\"##105#107\")){getfield(Main, Symbol(\"##419#422\")){Array{ForwardDiff.Dual{ForwardDiff.Tag{typeof(F),Float64},Float64,1},1}},Int64}}, ::Array{Float64,1}, ::Array{Float64,1}, ::ForwardDiff.JacobianConfig{ForwardDiff.Tag{getfield(BilevelTrajOpt, Symbol(\"##105#107\")){getfield(Main, Symbol(\"##419#422\")){Array{ForwardDiff.Dual{ForwardDiff.Tag{typeof(F),Float64},Float64,1},1}},Int64},Float64},Float64,2,Tuple{Array{ForwardDiff.Dual{ForwardDiff.Tag{getfield(BilevelTrajOpt, Symbol(\"##105#107\")){getfield(Main, Symbol(\"##419#422\")){Array{ForwardDiff.Dual{ForwardDiff.Tag{typeof(F),Float64},Float64,1},1}},Int64},Float64},Float64,2},1},Array{ForwardDiff.Dual{ForwardDiff.Tag{getfield(BilevelTrajOpt, Symbol(\"##105#107\")){getfield(Main, Symbol(\"##419#422\")){Array{ForwardDiff.Dual{ForwardDiff.Tag{typeof(F),Float64},Float64,1},1}},Int64},Float64},Float64,2},1}}}) at /home/blandry/.julia/packages/ForwardDiff/KHAmA/src/apiutils.jl:42",
      " [10] vector_mode_jacobian!(::Array{Float64,2}, ::ForwardDiff.InnerGradientForHess{DiffResults.MutableDiffResult{2,Float64,Tuple{Array{Float64,1},Array{Float64,2}}},ForwardDiff.HessianConfig{ForwardDiff.Tag{getfield(BilevelTrajOpt, Symbol(\"##105#107\")){getfield(Main, Symbol(\"##419#422\")){Array{ForwardDiff.Dual{ForwardDiff.Tag{typeof(F),Float64},Float64,1},1}},Int64},Float64},Float64,2,Array{ForwardDiff.Dual{ForwardDiff.Tag{getfield(BilevelTrajOpt, Symbol(\"##105#107\")){getfield(Main, Symbol(\"##419#422\")){Array{ForwardDiff.Dual{ForwardDiff.Tag{typeof(F),Float64},Float64,1},1}},Int64},Float64},ForwardDiff.Dual{ForwardDiff.Tag{getfield(BilevelTrajOpt, Symbol(\"##105#107\")){getfield(Main, Symbol(\"##419#422\")){Array{ForwardDiff.Dual{ForwardDiff.Tag{typeof(F),Float64},Float64,1},1}},Int64},Float64},Float64,2},2},1},Tuple{Array{ForwardDiff.Dual{ForwardDiff.Tag{getfield(BilevelTrajOpt, Symbol(\"##105#107\")){getfield(Main, Symbol(\"##419#422\")){Array{ForwardDiff.Dual{ForwardDiff.Tag{typeof(F),Float64},Float64,1},1}},Int64},Float64},Float64,2},1},Array{ForwardDiff.Dual{ForwardDiff.Tag{getfield(BilevelTrajOpt, Symbol(\"##105#107\")){getfield(Main, Symbol(\"##419#422\")){Array{ForwardDiff.Dual{ForwardDiff.Tag{typeof(F),Float64},Float64,1},1}},Int64},Float64},Float64,2},1}}},getfield(BilevelTrajOpt, Symbol(\"##105#107\")){getfield(Main, Symbol(\"##419#422\")){Array{ForwardDiff.Dual{ForwardDiff.Tag{typeof(F),Float64},Float64,1},1}},Int64}}, ::Array{Float64,1}, ::Array{Float64,1}, ::ForwardDiff.JacobianConfig{ForwardDiff.Tag{getfield(BilevelTrajOpt, Symbol(\"##105#107\")){getfield(Main, Symbol(\"##419#422\")){Array{ForwardDiff.Dual{ForwardDiff.Tag{typeof(F),Float64},Float64,1},1}},Int64},Float64},Float64,2,Tuple{Array{ForwardDiff.Dual{ForwardDiff.Tag{getfield(BilevelTrajOpt, Symbol(\"##105#107\")){getfield(Main, Symbol(\"##419#422\")){Array{ForwardDiff.Dual{ForwardDiff.Tag{typeof(F),Float64},Float64,1},1}},Int64},Float64},Float64,2},1},Array{ForwardDiff.Dual{ForwardDiff.Tag{getfield(BilevelTrajOpt, Symbol(\"##105#107\")){getfield(Main, Symbol(\"##419#422\")){Array{ForwardDiff.Dual{ForwardDiff.Tag{typeof(F),Float64},Float64,1},1}},Int64},Float64},Float64,2},1}}}) at /home/blandry/.julia/packages/ForwardDiff/KHAmA/src/jacobian.jl:163",
      " [11] jacobian!(::Array{Float64,2}, ::ForwardDiff.InnerGradientForHess{DiffResults.MutableDiffResult{2,Float64,Tuple{Array{Float64,1},Array{Float64,2}}},ForwardDiff.HessianConfig{ForwardDiff.Tag{getfield(BilevelTrajOpt, Symbol(\"##105#107\")){getfield(Main, Symbol(\"##419#422\")){Array{ForwardDiff.Dual{ForwardDiff.Tag{typeof(F),Float64},Float64,1},1}},Int64},Float64},Float64,2,Array{ForwardDiff.Dual{ForwardDiff.Tag{getfield(BilevelTrajOpt, Symbol(\"##105#107\")){getfield(Main, Symbol(\"##419#422\")){Array{ForwardDiff.Dual{ForwardDiff.Tag{typeof(F),Float64},Float64,1},1}},Int64},Float64},ForwardDiff.Dual{ForwardDiff.Tag{getfield(BilevelTrajOpt, Symbol(\"##105#107\")){getfield(Main, Symbol(\"##419#422\")){Array{ForwardDiff.Dual{ForwardDiff.Tag{typeof(F),Float64},Float64,1},1}},Int64},Float64},Float64,2},2},1},Tuple{Array{ForwardDiff.Dual{ForwardDiff.Tag{getfield(BilevelTrajOpt, Symbol(\"##105#107\")){getfield(Main, Symbol(\"##419#422\")){Array{ForwardDiff.Dual{ForwardDiff.Tag{typeof(F),Float64},Float64,1},1}},Int64},Float64},Float64,2},1},Array{ForwardDiff.Dual{ForwardDiff.Tag{getfield(BilevelTrajOpt, Symbol(\"##105#107\")){getfield(Main, Symbol(\"##419#422\")){Array{ForwardDiff.Dual{ForwardDiff.Tag{typeof(F),Float64},Float64,1},1}},Int64},Float64},Float64,2},1}}},getfield(BilevelTrajOpt, Symbol(\"##105#107\")){getfield(Main, Symbol(\"##419#422\")){Array{ForwardDiff.Dual{ForwardDiff.Tag{typeof(F),Float64},Float64,1},1}},Int64}}, ::Array{Float64,1}, ::Array{Float64,1}, ::ForwardDiff.JacobianConfig{ForwardDiff.Tag{getfield(BilevelTrajOpt, Symbol(\"##105#107\")){getfield(Main, Symbol(\"##419#422\")){Array{ForwardDiff.Dual{ForwardDiff.Tag{typeof(F),Float64},Float64,1},1}},Int64},Float64},Float64,2,Tuple{Array{ForwardDiff.Dual{ForwardDiff.Tag{getfield(BilevelTrajOpt, Symbol(\"##105#107\")){getfield(Main, Symbol(\"##419#422\")){Array{ForwardDiff.Dual{ForwardDiff.Tag{typeof(F),Float64},Float64,1},1}},Int64},Float64},Float64,2},1},Array{ForwardDiff.Dual{ForwardDiff.Tag{getfield(BilevelTrajOpt, Symbol(\"##105#107\")){getfield(Main, Symbol(\"##419#422\")){Array{ForwardDiff.Dual{ForwardDiff.Tag{typeof(F),Float64},Float64,1},1}},Int64},Float64},Float64,2},1}}}, ::Val{false}) at /home/blandry/.julia/packages/ForwardDiff/KHAmA/src/jacobian.jl:74",
      " [12] hessian!(::DiffResults.MutableDiffResult{2,Float64,Tuple{Array{Float64,1},Array{Float64,2}}}, ::Function, ::Array{Float64,1}, ::ForwardDiff.HessianConfig{ForwardDiff.Tag{getfield(BilevelTrajOpt, Symbol(\"##105#107\")){getfield(Main, Symbol(\"##419#422\")){Array{ForwardDiff.Dual{ForwardDiff.Tag{typeof(F),Float64},Float64,1},1}},Int64},Float64},Float64,2,Array{ForwardDiff.Dual{ForwardDiff.Tag{getfield(BilevelTrajOpt, Symbol(\"##105#107\")){getfield(Main, Symbol(\"##419#422\")){Array{ForwardDiff.Dual{ForwardDiff.Tag{typeof(F),Float64},Float64,1},1}},Int64},Float64},ForwardDiff.Dual{ForwardDiff.Tag{getfield(BilevelTrajOpt, Symbol(\"##105#107\")){getfield(Main, Symbol(\"##419#422\")){Array{ForwardDiff.Dual{ForwardDiff.Tag{typeof(F),Float64},Float64,1},1}},Int64},Float64},Float64,2},2},1},Tuple{Array{ForwardDiff.Dual{ForwardDiff.Tag{getfield(BilevelTrajOpt, Symbol(\"##105#107\")){getfield(Main, Symbol(\"##419#422\")){Array{ForwardDiff.Dual{ForwardDiff.Tag{typeof(F),Float64},Float64,1},1}},Int64},Float64},Float64,2},1},Array{ForwardDiff.Dual{ForwardDiff.Tag{getfield(BilevelTrajOpt, Symbol(\"##105#107\")){getfield(Main, Symbol(\"##419#422\")){Array{ForwardDiff.Dual{ForwardDiff.Tag{typeof(F),Float64},Float64,1},1}},Int64},Float64},Float64,2},1}}}, ::Val{true}) at /home/blandry/.julia/packages/ForwardDiff/KHAmA/src/hessian.jl:67",
      " [13] hessian!(::DiffResults.MutableDiffResult{2,Float64,Tuple{Array{Float64,1},Array{Float64,2}}}, ::Function, ::Array{Float64,1}, ::ForwardDiff.HessianConfig{ForwardDiff.Tag{getfield(BilevelTrajOpt, Symbol(\"##105#107\")){getfield(Main, Symbol(\"##419#422\")){Array{ForwardDiff.Dual{ForwardDiff.Tag{typeof(F),Float64},Float64,1},1}},Int64},Float64},Float64,2,Array{ForwardDiff.Dual{ForwardDiff.Tag{getfield(BilevelTrajOpt, Symbol(\"##105#107\")){getfield(Main, Symbol(\"##419#422\")){Array{ForwardDiff.Dual{ForwardDiff.Tag{typeof(F),Float64},Float64,1},1}},Int64},Float64},ForwardDiff.Dual{ForwardDiff.Tag{getfield(BilevelTrajOpt, Symbol(\"##105#107\")){getfield(Main, Symbol(\"##419#422\")){Array{ForwardDiff.Dual{ForwardDiff.Tag{typeof(F),Float64},Float64,1},1}},Int64},Float64},Float64,2},2},1},Tuple{Array{ForwardDiff.Dual{ForwardDiff.Tag{getfield(BilevelTrajOpt, Symbol(\"##105#107\")){getfield(Main, Symbol(\"##419#422\")){Array{ForwardDiff.Dual{ForwardDiff.Tag{typeof(F),Float64},Float64,1},1}},Int64},Float64},Float64,2},1},Array{ForwardDiff.Dual{ForwardDiff.Tag{getfield(BilevelTrajOpt, Symbol(\"##105#107\")){getfield(Main, Symbol(\"##419#422\")){Array{ForwardDiff.Dual{ForwardDiff.Tag{typeof(F),Float64},Float64,1},1}},Int64},Float64},Float64,2},1}}}) at /home/blandry/.julia/packages/ForwardDiff/KHAmA/src/hessian.jl:65",
      " [14] #auglag_solve#103(::Float64, ::Bool, ::Function, ::Array{Float64,1}, ::Array{Float64,1}, ::Array{Float64,1}, ::getfield(Main, Symbol(\"##419#422\")){Array{ForwardDiff.Dual{ForwardDiff.Tag{typeof(F),Float64},Float64,1},1}}, ::getfield(Main, Symbol(\"##420#423\")), ::getfield(Main, Symbol(\"##421#424\"))) at /home/blandry/.julia/dev/BilevelTrajOpt/src/auglag.jl:58",
      " [15] #auglag_solve at ./none:0 [inlined]",
      " [16] F(::Array{ForwardDiff.Dual{ForwardDiff.Tag{typeof(F),Float64},Float64,1},1}) at ./In[171]:10",
      " [17] vector_mode_jacobian!(::DiffResults.MutableDiffResult{1,Array{Float64,1},Tuple{Array{Float64,2}}}, ::typeof(F), ::Array{Float64,1}, ::ForwardDiff.JacobianConfig{ForwardDiff.Tag{typeof(F),Float64},Float64,1,Array{ForwardDiff.Dual{ForwardDiff.Tag{typeof(F),Float64},Float64,1},1}}) at /home/blandry/.julia/packages/ForwardDiff/KHAmA/src/apiutils.jl:35",
      " [18] jacobian!(::DiffResults.MutableDiffResult{1,Array{Float64,1},Tuple{Array{Float64,2}}}, ::Function, ::Array{Float64,1}, ::ForwardDiff.JacobianConfig{ForwardDiff.Tag{typeof(F),Float64},Float64,1,Array{ForwardDiff.Dual{ForwardDiff.Tag{typeof(F),Float64},Float64,1},1}}, ::Val{true}) at /home/blandry/.julia/packages/ForwardDiff/KHAmA/src/jacobian.jl:54",
      " [19] jacobian!(::DiffResults.MutableDiffResult{1,Array{Float64,1},Tuple{Array{Float64,2}}}, ::Function, ::Array{Float64,1}, ::ForwardDiff.JacobianConfig{ForwardDiff.Tag{typeof(F),Float64},Float64,1,Array{ForwardDiff.Dual{ForwardDiff.Tag{typeof(F),Float64},Float64,1},1}}) at /home/blandry/.julia/packages/ForwardDiff/KHAmA/src/jacobian.jl:52 (repeats 2 times)",
      " [20] bilevel_prob(::Array{Float64,1}) at ./In[171]:22",
      " [21] #snopt#18(::String, ::String, ::Function, ::typeof(bilevel_prob), ::Array{Float64,1}, ::Array{Float64,1}, ::Array{Float64,1}, ::Dict{String,Any}) at /home/blandry/.julia/dev/BilevelTrajOpt/src/snopt.jl:133",
      " [22] snopt(::Function, ::Array{Float64,1}, ::Array{Float64,1}, ::Array{Float64,1}, ::Dict{String,Any}) at /home/blandry/.julia/dev/BilevelTrajOpt/src/snopt.jl:133",
      " [23] top-level scope at In[171]:43"
     ]
    }
   ],
   "source": [
    "# solution using our bilevel solver\n",
    "\n",
    "function F(ql)\n",
    "    fqf = qf -> -(P(ql[1],qf[1])*qf[1] - Cf(qf[1]))\n",
    "    hqf = qf -> [0.]\n",
    "    gqf = qf -> -qf\n",
    "    qf0 = [0.]\n",
    "    λ0 = [0.]\n",
    "    μ0 = [0.]\n",
    "    qfsol,λsol,μsol,Lsol = auglag_solve(qf0,λ0,μ0,fqf,hqf,gqf,inplace=true)\n",
    "    \n",
    "    J = -(P(ql[1],qfsol[1])*ql[1] - Cl(ql[1]))\n",
    "    c = -ql\n",
    "    \n",
    "    vcat(J,c)\n",
    "end\n",
    "\n",
    "ql0 = [0.]\n",
    "Fres = DiffResults.JacobianResult(F(ql0),ql0)\n",
    "num_g = 1\n",
    "function bilevel_prob(ql)\n",
    "    ForwardDiff.jacobian!(Fres, F, ql)\n",
    "    Fv = DiffResults.value(Fres)\n",
    "    FJ = DiffResults.jacobian(Fres)\n",
    "        \n",
    "    J = Fv[1]\n",
    "    c = Fv[2:1+num_g]\n",
    "\n",
    "    gJ = FJ[1,:]\n",
    "    gc = FJ[2:1+num_g,:]\n",
    "    \n",
    "    fail = false\n",
    "    \n",
    "    J, c, gJ, gc, fail\n",
    "end\n",
    "\n",
    "lb = [-1e19]\n",
    "ub = [1e19]\n",
    "options = Dict{String, Any}()\n",
    "options[\"Derivative option\"] = 1\n",
    "options[\"Verify level\"] = -1\n",
    "options[\"Major optimality tolerance\"] = 1e-3\n",
    "\n",
    "qlsol, fsol, info = snopt(bilevel_prob, ql0, lb, ub, options)\n",
    "\n",
    "display(info)\n",
    "display(qlsol)\n",
    "\n",
    "function compute_qfsol(ql)\n",
    "    fqf = qf -> -(P(ql[1],qf[1])*qf[1] - Cf(qf[1]))\n",
    "    hqf = qf -> [0.]\n",
    "    gqf = qf -> -qf\n",
    "    qf0 = [0.]\n",
    "    λ0 = [0.]\n",
    "    μ0 = [0.]\n",
    "    qfsol,λsol,μsol,Lsol = auglag_solve(qf0,λ0,μ0,fqf,hqf,gqf)\n",
    "end\n",
    "\n",
    "qfsol,λsol,μsol,Lsol = compute_qfsol(qlsol)\n",
    "display(qfsol)"
   ]
  }
 ],
 "metadata": {
  "kernelspec": {
   "display_name": "Julia 0.7.0",
   "language": "julia",
   "name": "julia-0.7"
  },
  "language_info": {
   "file_extension": ".jl",
   "mimetype": "application/julia",
   "name": "julia",
   "version": "0.7.0"
  }
 },
 "nbformat": 4,
 "nbformat_minor": 2
}
