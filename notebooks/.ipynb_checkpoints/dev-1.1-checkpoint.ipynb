{
 "cells": [
  {
   "cell_type": "code",
   "execution_count": null,
   "metadata": {
    "collapsed": false
   },
   "outputs": [],
   "source": [
    "using Revise\n",
    "using Bilevel\n",
    "\n",
    "using RigidBodyDynamics\n",
    "using MeshCatMechanisms\n",
    "using MeshCat\n",
    "using ForwardDiff\n",
    "using Plots\n",
    "using LinearAlgebra\n",
    "using StaticArrays\n",
    "using Base.Threads"
   ]
  },
  {
   "cell_type": "code",
   "execution_count": 2,
   "metadata": {
    "collapsed": false
   },
   "outputs": [
    {
     "data": {
      "text/plain": [
       "4"
      ]
     },
     "execution_count": 2,
     "metadata": {},
     "output_type": "execute_result"
    }
   ],
   "source": [
    "nthreads()"
   ]
  },
  {
   "cell_type": "code",
   "execution_count": null,
   "metadata": {
    "collapsed": false
   },
   "outputs": [],
   "source": [
    "function get_barnesgrad()\n",
    "    a1 = 75.196\n",
    "    a3 = 0.12694\n",
    "    a5 = 1.0345e-5\n",
    "    a7 = 0.030234\n",
    "    a9 = 3.5256e-5\n",
    "    a11 = 0.25645\n",
    "    a13 = 1.3514e-5\n",
    "    a15 = -5.2375e-6\n",
    "    a17 = 7.0e-10\n",
    "    a19 = -1.6638e-6\n",
    "    a21 = 0.0005\n",
    "    a2 = -3.8112\n",
    "    a4 = -2.0567e-3\n",
    "    a6 = -6.8306\n",
    "    a8 = -1.28134e-3\n",
    "    a10 = -2.266e-7\n",
    "    a12 = -3.4604e-3\n",
    "    a14 = -28.106\n",
    "    a16 = -6.3e-8\n",
    "    a18 = 3.4054e-4\n",
    "    a20 = -2.8673\n",
    "    \n",
    "    function eval_obj(x::AbstractArray{T}) where T\n",
    "        x1 = x[1]\n",
    "        x2 = x[2]\n",
    "        y1 = x1*x2\n",
    "        y2 = y1*x1\n",
    "        y3 = x2^2\n",
    "        y4 = x1^2\n",
    "\n",
    "        f = a1 + a2*x1 + a3*y4 + a4*y4*x1 + a5*y4^2 +\n",
    "            a6*x2 + a7*y1 + a8*x1*y1 + a9*y1*y4 + a10*y2*y4 +\n",
    "            a11*y3 + a12*x2*y3 + a13*y3^2 + a14/(x2+1) +\n",
    "            a15*y3*y4 + a16*y1*y4*x2 + a17*y1*y3*y4 + a18*x1*y3 +\n",
    "            a19*y1*y3 + a20*exp(a21*y1)\n",
    "        \n",
    "        f\n",
    "    end\n",
    "\n",
    "    function eval_cons(x::AbstractArray{T}) where T\n",
    "        x1 = x[1]\n",
    "        x2 = x[2]\n",
    "        y1 = x1*x2\n",
    "        y2 = y1*x1\n",
    "        y3 = x2^2\n",
    "        y4 = x1^2\n",
    "        \n",
    "        c = zeros(T, 3)\n",
    "        c[1] = 1 - y1/700.0\n",
    "        c[2] = y4/25.0^2 - x2/5.0\n",
    "        c[3] = (x1/500.0- 0.11) - (x2/50.0-1)^2\n",
    "        \n",
    "        c\n",
    "    end\n",
    "    \n",
    "    fres = DiffResults.GradientResult(zeros(2))\n",
    "    fcfg = ForwardDiff.GradientConfig(eval_obj, zeros(2))\n",
    "    gres = DiffResults.JacobianResult(zeros(3), zeros(2))\n",
    "    gcfg = ForwardDiff.JacobianConfig(eval_cons, zeros(2))\n",
    "    function solver_fn(x)\n",
    "        ForwardDiff.gradient!(fres, eval_obj, x, fcfg)\n",
    "    \n",
    "        J = eval_obj(x)\n",
    "        gJ = ForwardDiff.gradient(eval_obj, x)\n",
    "        \n",
    "        HJ = ForwardDiff.hessian(eval_obj, x)\n",
    "        \n",
    "        ForwardDiff.jacobian!(gres, eval_cons, x, gcfg)\n",
    "    \n",
    "        g = DiffResults.value(gres)\n",
    "        ceq = zeros(0)\n",
    "        c = g\n",
    "    \n",
    "        dgdx = DiffResults.jacobian(gres)\n",
    "        gceq = zeros(0,2)\n",
    "        gc = dgdx\n",
    "    \n",
    "        J, ceq, c, gJ, gceq, gc, HJ\n",
    "    end\n",
    "    \n",
    "    solver_fn\n",
    "end\n",
    "\n",
    "solver_fn = get_barnesgrad()\n",
    "\n",
    "x0 = [10.0, 10.0]\n",
    "options = Dict{String, Any}()\n",
    "options[\"Derivative option\"] = 1\n",
    "options[\"Verify level\"] = 1\n",
    "xopt, info = Bilevel.snopt(solver_fn, 0, 3, x0, options)\n",
    "\n",
    "display(info)\n",
    "display(xopt)\n",
    "display(isapprox(xopt[1], 49.5263; atol=1e-4))\n",
    "display(isapprox(xopt[2], 19.6228; atol=1e-4))\n",
    "\n",
    "x0 = [10.0, 10.0]\n",
    "options = Dict{String, Any}()\n",
    "options[\"num_fosteps\"] = 0\n",
    "options[\"num_sosteps\"] = 10\n",
    "options[\"c\"] = 100.\n",
    "options[\"c_fos\"] = 1.\n",
    "options[\"c_sos\"] = 5.\n",
    "xopt, info = Bilevel.auglag(solver_fn, 0, 3, x0, options)\n",
    "\n",
    "display(info)\n",
    "display(xopt)\n",
    "display(isapprox(xopt[1], 49.5263; atol=1e-4))\n",
    "display(isapprox(xopt[2], 19.6228; atol=1e-4))"
   ]
  },
  {
   "cell_type": "code",
   "execution_count": 3,
   "metadata": {
    "collapsed": false
   },
   "outputs": [
    {
     "data": {
      "text/plain": [
       "0.01"
      ]
     },
     "execution_count": 3,
     "metadata": {},
     "output_type": "execute_result"
    }
   ],
   "source": [
    "urdf = joinpath(\"..\", \"urdf\", \"ball.urdf\")\n",
    "mechanism = parse_urdf(Float64, urdf)\n",
    "\n",
    "floor = findbody(mechanism, \"floor\")\n",
    "point = Point3D(default_frame(floor), SVector([0.,0.,0.]...))\n",
    "normal = FreeVector3D(default_frame(floor), SVector([0.,0.,1.]...))\n",
    "floor_obs = Obstacle(floor, point, normal, :xyz, .5)\n",
    "\n",
    "obstacles = [floor_obs]\n",
    "env = Environment(mechanism, urdf, obstacles)\n",
    "ctrl! = (u,t,x) -> u[:] .= 0.\n",
    "x0 = MechanismState(mechanism)\n",
    "Δt = .01"
   ]
  },
  {
   "cell_type": "code",
   "execution_count": null,
   "metadata": {
    "collapsed": false
   },
   "outputs": [],
   "source": [
    "q1 = [1., 0., 0., 0., 0., 0., 0.017]\n",
    "v1 = [0., 0., 0., 1., 0., 0.]\n",
    "N = 25"
   ]
  },
  {
   "cell_type": "code",
   "execution_count": null,
   "metadata": {
    "collapsed": false,
    "scrolled": false
   },
   "outputs": [],
   "source": [
    "sim_data_indirect = get_sim_data_indirect(mechanism,env,Δt,relax_comp=false)\n",
    "set_configuration!(x0, q1)\n",
    "set_velocity!(x0, v1)\n",
    "traj_indirect = Bilevel.simulate(sim_data_indirect, ctrl!, x0, N, verbose=1)"
   ]
  },
  {
   "cell_type": "code",
   "execution_count": null,
   "metadata": {
    "collapsed": false
   },
   "outputs": [],
   "source": [
    "sim_data_direct = get_sim_data_direct(mechanism,env,Δt,relax_comp=false)\n",
    "set_configuration!(x0, q1)\n",
    "set_velocity!(x0, v1)\n",
    "traj_direct = Bilevel.simulate(sim_data_direct, ctrl!, x0, N, verbose=1)"
   ]
  },
  {
   "cell_type": "code",
   "execution_count": null,
   "metadata": {
    "collapsed": false
   },
   "outputs": [],
   "source": [
    "j = 7\n",
    "clibrary(:Plots)\n",
    "gr(size=(800,500), html_output_format=:png, \n",
    "    seriescolor=:magma,  background_color_legend=:white, \n",
    "    background=RGB(((240,240,240) ./ 255.)...));\n",
    "plot(traj_indirect[6],traj_indirect[7][j,:],label=\"Indirect\",seriescolor=RGB(((227,74,51) ./ 255.)...),linewidth=4,marker=6)\n",
    "plot!(traj_direct[6],traj_direct[7][j,:],label=\"Direct\",seriescolor=RGB(((254,232,200) ./ 255.)...),linewidth=0,marker=4)"
   ]
  },
  {
   "cell_type": "code",
   "execution_count": 35,
   "metadata": {
    "collapsed": false
   },
   "outputs": [
    {
     "data": {
      "text/plain": [
       "0.01"
      ]
     },
     "execution_count": 35,
     "metadata": {},
     "output_type": "execute_result"
    }
   ],
   "source": [
    "q1 = [1., 0., 0., 0., 0., 0., 0.]\n",
    "qN = [1., 0., 0., 0., .1, 0., 0.]\n",
    "N = 10\n",
    "Δt = .01"
   ]
  },
  {
   "cell_type": "code",
   "execution_count": 58,
   "metadata": {
    "collapsed": false
   },
   "outputs": [],
   "source": [
    "sim_data_indirect = get_trajopt_data_indirect(mechanism,env,Δt,N,relax_comp=false)\n",
    "\n",
    "# adding user defined constraint\n",
    "vs = sim_data_indirect.vs\n",
    "\n",
    "add_eq!(sim_data_indirect, :cq1, length(q1), x -> vs(x, :q1) - q1)\n",
    "add_eq!(sim_data_indirect, :cqN, length(qN), x -> vs(x, Symbol(\"q\", N)) - qN)\n",
    "\n",
    "add_box_con!(sim_data_indirect, :u, :u, zeros(num_velocities(mechanism)), zeros(num_velocities(mechanism)), 1:N-1)\n",
    "add_box_con!(sim_data_indirect, :hbox, :h, [.005], [.01], 1:N-1)\n",
    "\n",
    "for i=1:N\n",
    "    add_ineq!(sim_data_indirect, Symbol(\"height\",i), 1, x -> vs(x, Symbol(\"q\",i))[7] - .001)\n",
    "end\n",
    "\n",
    "for i=1:N-1\n",
    "    add_obj!(sim_data_indirect, Symbol(\"v\",i), x -> vs(x, Symbol(\"h\",i))[1]*vs(x, Symbol(\"v\",i))'*vs(x, Symbol(\"v\",i)))\n",
    "end\n",
    "add_obj!(sim_data_indirect, Symbol(\"v\",N), x -> vs(x, Symbol(\"v\",N))'*vs(x, Symbol(\"v\",N)))"
   ]
  },
  {
   "cell_type": "code",
   "execution_count": 59,
   "metadata": {
    "collapsed": false
   },
   "outputs": [
    {
     "name": "stdout",
     "output_type": "stream",
     "text": [
      "Finished successfully: optimality conditions satisfied\n"
     ]
    },
    {
     "data": {
      "text/plain": [
       "(Array{Float64,1}[[1.0, 0.0, 0.0, 0.0, 0.0, 0.0, 0.0], [1.0, 1.148e-15, 5.68871e-6, -2.01021e-14, 0.0125778, -2.44582e-14, 0.0009905], [1.0, -7.76854e-15, 1.1403e-5, -5.03614e-14, 0.0251557, -9.15024e-14, 0.001], [1.0, -1.39085e-14, 1.71624e-5, -7.45568e-14, 0.0377335, -7.22043e-14, 2.85e-5], [1.0, -1.25912e-14, 7.60744e-6, -1.00348e-13, 0.0493494, -2.71043e-13, 0.0], [1.0, 1.93629e-16, 5.43161e-6, -9.74098e-14, 0.0604605, -1.99936e-13, 0.0], [1.0, -1.02508e-14, 3.65434e-6, -7.63929e-14, 0.0710811, -2.73334e-13, 0.0], [1.0, 1.41191e-15, 2.13952e-6, -8.21597e-14, 0.0812112, -2.41217e-13, 0.0], [1.0, 3.16196e-15, 8.92023e-7, 1.88828e-14, 0.0908509, -1.17401e-13, 0.0], [1.0, 0.0, 0.0, 0.0, 0.1, 0.0, 0.0]], Array{Float64,1}[[-1.63291e-10, 0.0, 5.45973e-14, 1.25778, -6.06613e-13, 0.19715], [-2.87063e-13, 0.00113774, -4.55762e-12, 1.25778, -6.20136e-13, 0.0990643], [-3.23835e-13, 0.00114285, -4.70236e-12, 1.25778, -5.49143e-13, 0.000978685], [-5.44325e-13, 0.00115188, -4.67984e-12, 1.25779, -4.89583e-13, -0.0971068], [-5.53816e-13, -0.00191099, -4.67505e-12, 1.16159, -4.42752e-13, -0.00283233], [-5.52917e-13, -0.000435165, -4.54995e-12, 1.11111, -2.39718e-13, 1.20703e-5], [-6.05212e-13, -0.000355456, -4.64937e-12, 1.06206, -1.14825e-13, 7.76227e-6], [-6.72868e-13, -0.000302962, -4.60949e-12, 1.01301, -5.5486e-14, 4.33473e-6], [-6.31516e-13, -0.0002495, -4.64374e-12, 0.963963, 7.15397e-14, 1.71975e-6], [-6.32679e-13, -0.000178405, -4.64574e-12, 0.914913, -1.0771e-13, 4.89989e-13]], Array{Float64,1}[[0.0, 0.0, 0.0, 0.0, 0.0, 0.0], [0.0, 0.0, 0.0, 0.0, 0.0, 0.0], [0.0, 0.0, 0.0, 0.0, 0.0, 0.0], [0.0, 0.0, 0.0, 0.0, 0.0, 0.0], [0.0, 0.0, 0.0, 0.0, 0.0, 0.0], [0.0, 0.0, 0.0, 0.0, 0.0, 0.0], [0.0, 0.0, 0.0, 0.0, 0.0, 0.0], [0.0, 0.0, 0.0, 0.0, 0.0, 0.0], [0.0, 0.0, 0.0, 0.0, 0.0, 0.0]], [0.01, 0.01, 0.01, 0.01, 0.01, 0.01, 0.01, 0.01, 0.01], Array{Float64,1}[[-1.30672e-14, 1.92152e-14, -2.5496e-14, 0.0, 0.0, 1.25788], [-4.91979e-12, 0.0, 0.0, -2.4599e-12, 0.0, 1.25789], [6.3934e-11, -8.39954e-14, 0.0, 3.1967e-11, 0.0, 1.25778], [1.96125, 2.7353e-14, 0.0, 0.980623, 0.0, 1.16159], [1.02905, 6.96416e-14, 0.0, 0.514525, 0.0, 1.11111], [0.999998, -1.24221e-13, 0.0, 0.499999, 0.0, 1.06206], [0.999998, -3.13823e-21, -3.23117e-27, 0.499999, 0.0, 1.01301], [0.999999, 8.09392e-14, 0.0, 0.499999, 0.0, 0.963963], [0.999999, 4.55406e-14, 0.0, 0.5, 0.0, 0.914913]], Array{Float64,1}[], [0.0, 0.01, 0.02, 0.03, 0.04, 0.05, 0.06, 0.07, 0.08, 0.09], [1.0 1.0 … 1.0 1.0; 0.0 1.148e-15 … 3.16196e-15 0.0; … ; -6.06613e-13 -6.20136e-13 … 7.15397e-14 -1.0771e-13; 0.19715 0.0990643 … 1.71975e-6 4.89989e-13])"
      ]
     },
     "execution_count": 59,
     "metadata": {},
     "output_type": "execute_result"
    }
   ],
   "source": [
    "traj_indirect = Bilevel.trajopt(sim_data_indirect, quaternion_state=true, verbose=1)"
   ]
  },
  {
   "cell_type": "code",
   "execution_count": 64,
   "metadata": {
    "collapsed": false
   },
   "outputs": [
    {
     "data": {
      "text/plain": [
       "10-element Array{Tuple{Symbol,Any},1}:\n",
       " (:v1, getfield(Main, Symbol(\"##87#88\")){Int64}(1))\n",
       " (:v2, getfield(Main, Symbol(\"##87#88\")){Int64}(2))\n",
       " (:v3, getfield(Main, Symbol(\"##87#88\")){Int64}(3))\n",
       " (:v4, getfield(Main, Symbol(\"##87#88\")){Int64}(4))\n",
       " (:v5, getfield(Main, Symbol(\"##87#88\")){Int64}(5))\n",
       " (:v6, getfield(Main, Symbol(\"##87#88\")){Int64}(6))\n",
       " (:v7, getfield(Main, Symbol(\"##87#88\")){Int64}(7))\n",
       " (:v8, getfield(Main, Symbol(\"##87#88\")){Int64}(8))\n",
       " (:v9, getfield(Main, Symbol(\"##87#88\")){Int64}(9))\n",
       " (:v10, getfield(Main, Symbol(\"##89#90\"))())       "
      ]
     },
     "execution_count": 64,
     "metadata": {},
     "output_type": "execute_result"
    }
   ],
   "source": [
    "sim_data_direct = get_trajopt_data_direct(mechanism,env,Δt,N)\n",
    "\n",
    "# adding user defined constraint\n",
    "vs = sim_data_direct.vs\n",
    "\n",
    "add_eq!(sim_data_direct, :cq1, length(q1), x -> vs(x, :q1) - q1)\n",
    "add_eq!(sim_data_direct, :cqN, length(qN), x -> vs(x, Symbol(\"q\", N)) - qN)\n",
    "\n",
    "add_box_con!(sim_data_direct, :u, :u, zeros(num_velocities(mechanism)), zeros(num_velocities(mechanism)), 1:N-1)\n",
    "add_box_con!(sim_data_direct, :hbox, :h, [.005], [.01], 1:N-1)\n",
    "\n",
    "for i=1:N\n",
    "    add_ineq!(sim_data_direct, Symbol(\"height\",i), 1, x -> vs(x, Symbol(\"q\",i))[7] - .001)\n",
    "end\n",
    "\n",
    "for i=1:N-1\n",
    "    add_obj!(sim_data_direct, Symbol(\"v\",i), x -> vs(x, Symbol(\"h\",i))[1]*vs(x, Symbol(\"v\",i))'*vs(x, Symbol(\"v\",i)))\n",
    "end\n",
    "add_obj!(sim_data_direct, Symbol(\"v\",N), x -> vs(x, Symbol(\"v\",N))'*vs(x, Symbol(\"v\",N)))"
   ]
  },
  {
   "cell_type": "code",
   "execution_count": 65,
   "metadata": {
    "collapsed": false
   },
   "outputs": [
    {
     "name": "stdout",
     "output_type": "stream",
     "text": [
      "Terminated after numerical difficulties: singular basis\n"
     ]
    },
    {
     "data": {
      "text/plain": [
       "(Any[[1.0, 0.0, 0.0, 0.0, 0.0, 0.0, 4.65644e-17], [1.0, 0.0, 0.00018315, 0.0, 0.0111112, 0.0, -1.62062e-6], [1.0, 0.0, 0.000183382, 0.0, 0.0222224, 0.0, -1.02059e-6], [1.0, 0.0, 0.000183893, 0.0, 0.0333336, 0.0, 6.57663e-8], [1.0, 0.0, 0.000185346, 0.0, 0.0444448, 0.0, -4.01209e-8], [1.0, 0.0, 0.000184648, 0.0, 0.055556, 0.0, -3.10364e-8], [1.0, 0.0, 0.000182703, 0.0, 0.0666672, 0.0, 2.21824e-8], [1.0, 0.0, 0.000169003, 0.0, 0.0777783, 0.0, 1.40063e-7], [1.0, 0.0, 2.85809e-6, 0.0, 0.0888892, 0.0, 1.82061e-6], [1.0, 0.0, 0.0, 0.0, 0.1, 0.0, 0.0]], Any[[0.0, 2.15858e-5, 0.0, 1.11108, 0.0, 3.34638e-5], [0.0, 0.03663, 0.0, 1.11112, 0.0, 0.000244939], [0.0, 4.63067e-5, 0.0, 1.11112, 0.0, 0.00046752], [0.0, 0.000102235, 0.0, 1.11112, 0.0, 0.000517288], [0.0, 0.000290588, 0.0, 1.11112, 0.0, 0.000401292], [0.0, -0.000139512, 0.0, 1.11112, 0.0, 0.000411239], [0.0, -0.000389055, 0.0, 1.11112, 0.0, 0.00041133], [0.0, -0.00273988, 0.0, 1.11112, 0.0, 0.000387352], [0.0, -0.0332291, 0.0, 1.11108, 0.0, 0.000174406], [0.0, -0.000571619, 0.0, 1.11108, 0.0, -0.000182061]], Any[[0.0, 0.0, 0.0, 0.0, 0.0, 0.0], [0.0, 0.0, 0.0, 0.0, 0.0, 0.0], [0.0, 0.0, 0.0, 0.0, 0.0, 0.0], [0.0, 0.0, 0.0, 0.0, 0.0, 0.0], [0.0, 0.0, 0.0, 0.0, 0.0, 0.0], [0.0, 0.0, 0.0, 0.0, 0.0, 0.0], [0.0, 0.0, 0.0, 0.0, 0.0, 0.0], [0.0, 0.0, 0.0, 0.0, 0.0, 0.0], [0.0, 0.0, 0.0, 0.0, 0.0, 0.0]], Any[[0.01], [0.01], [0.01], [0.01], [0.01], [0.01], [0.01], [0.01], [0.01]], Any[Any[], Any[], Any[], Any[], Any[], Any[], Any[], Any[], Any[]], Any[], [0.0, 0.01, 0.02, 0.03, 0.04, 0.05, 0.06, 0.07, 0.08, 0.09], [1.0 1.0 … 1.0 1.0; 0.0 0.0 … 0.0 0.0; … ; 0.0 0.0 … 0.0 0.0; 3.34638e-5 0.000244939 … 0.000174406 -0.000182061])"
      ]
     },
     "execution_count": 65,
     "metadata": {},
     "output_type": "execute_result"
    }
   ],
   "source": [
    "traj_direct = Bilevel.trajopt(sim_data_direct, quaternion_state=true, verbose=1)"
   ]
  },
  {
   "cell_type": "code",
   "execution_count": 68,
   "metadata": {
    "collapsed": false
   },
   "outputs": [
    {
     "data": {
      "image/png": "[encoded data removed]"
     },
     "execution_count": 68,
     "metadata": {},
     "output_type": "execute_result"
    }
   ],
   "source": [
    "j = 5\n",
    "clibrary(:Plots)\n",
    "gr(size=(800,500), html_output_format=:png, \n",
    "    seriescolor=:magma,  background_color_legend=:white, \n",
    "    background=RGB(((240,240,240) ./ 255.)...));\n",
    "plot(traj_indirect[7],traj_indirect[8][j,:],label=\"Indirect\",seriescolor=RGB(((227,74,51) ./ 255.)...),linewidth=4,marker=6)\n",
    "plot!(traj_direct[7],traj_direct[8][j,:],label=\"Direct\",seriescolor=RGB(((254,232,200) ./ 255.)...),linewidth=0,marker=4)"
   ]
  }
 ],
 "metadata": {
  "kernelspec": {
   "display_name": "Julia 1.1.0",
   "language": "julia",
   "name": "julia-1.1"
  },
  "language_info": {
   "file_extension": ".jl",
   "mimetype": "application/julia",
   "name": "julia",
   "version": "1.1.0"
  }
 },
 "nbformat": 4,
 "nbformat_minor": 2
}
