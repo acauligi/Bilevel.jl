{
 "cells": [
  {
   "cell_type": "code",
   "execution_count": 1,
   "metadata": {
    "collapsed": false
   },
   "outputs": [
    {
     "data": {
      "text/html": [
       "    <script class='js-collapse-script'>\n",
       "        var curMatch =\n",
       "            window.location.href\n",
       "            .match(/(.*?)\\/notebooks\\/.*\\.ipynb/);\n",
       "\n",
       "        curMatch = curMatch ||\n",
       "            window.location.href\n",
       "            .match(/(.*?)\\/apps\\/.*\\.ipynb/);\n",
       "\n",
       "        if ( curMatch ) {\n",
       "            $('head').append('<base href=\"' + curMatch[1] + '/\">');\n",
       "        }\n",
       "    </script>\n"
      ],
      "text/plain": [
       "HTML{String}(\"    <script class='js-collapse-script'>\\n        var curMatch =\\n            window.location.href\\n            .match(/(.*?)\\\\/notebooks\\\\/.*\\\\.ipynb/);\\n\\n        curMatch = curMatch ||\\n            window.location.href\\n            .match(/(.*?)\\\\/apps\\\\/.*\\\\.ipynb/);\\n\\n        if ( curMatch ) {\\n            \\$('head').append('<base href=\\\"' + curMatch[1] + '/\\\">');\\n        }\\n    </script>\\n\")"
      ]
     },
     "metadata": {},
     "output_type": "display_data"
    },
    {
     "data": {
      "text/html": [
       "<script class='js-collapse-script' src='/assetserver/8c8a043c2f00369f3e7ae550277d2a54e59a34ad-assets/webio/dist/bundle.js'></script>"
      ],
      "text/plain": [
       "HTML{String}(\"<script class='js-collapse-script' src='/assetserver/8c8a043c2f00369f3e7ae550277d2a54e59a34ad-assets/webio/dist/bundle.js'></script>\")"
      ]
     },
     "metadata": {},
     "output_type": "display_data"
    },
    {
     "data": {
      "text/html": [
       "<script class='js-collapse-script' src='/assetserver/8c8a043c2f00369f3e7ae550277d2a54e59a34ad-assets/providers/ijulia_setup.js'></script>"
      ],
      "text/plain": [
       "HTML{String}(\"<script class='js-collapse-script' src='/assetserver/8c8a043c2f00369f3e7ae550277d2a54e59a34ad-assets/providers/ijulia_setup.js'></script>\")"
      ]
     },
     "metadata": {},
     "output_type": "display_data"
    },
    {
     "data": {
      "text/html": [
       "  <script class='js-collapse-script'>\n",
       "    $('.js-collapse-script').parent('.output_subarea').css('padding', '0');\n",
       "  </script>\n"
      ],
      "text/plain": [
       "HTML{String}(\"  <script class='js-collapse-script'>\\n    \\$('.js-collapse-script').parent('.output_subarea').css('padding', '0');\\n  </script>\\n\")"
      ]
     },
     "metadata": {},
     "output_type": "display_data"
    }
   ],
   "source": [
    "using Revise\n",
    "using RigidBodyDynamics\n",
    "using DrakeVisualizer\n",
    "using Plots\n",
    "using RigidBodyTreeInspector"
   ]
  },
  {
   "cell_type": "code",
   "execution_count": 226,
   "metadata": {
    "collapsed": false
   },
   "outputs": [
    {
     "data": {
      "text/plain": [
       "true"
      ]
     },
     "execution_count": 226,
     "metadata": {},
     "output_type": "execute_result"
    }
   ],
   "source": [
    "urdf = joinpath(\"..\", \"urdf\", \"panda\", \"panda_arm.urdf\")\n",
    "mechanism = parse_urdf(Float64, urdf)\n",
    "state = MechanismState(mechanism)\n",
    "# set_velocity!(state,[0.,0.,0.,0.,0.,0.,1.])"
   ]
  },
  {
   "cell_type": "code",
   "execution_count": 222,
   "metadata": {
    "collapsed": true
   },
   "outputs": [],
   "source": [
    "ts, qs, vs = simulate(state, .1, Δt = 1e-3);"
   ]
  },
  {
   "cell_type": "code",
   "execution_count": 223,
   "metadata": {
    "collapsed": false
   },
   "outputs": [
    {
     "data": {
      "text/plain": [
       "101-element Array{RigidBodyDynamics.CustomCollections.SegmentedVector{RigidBodyDynamics.JointID,Float64,Base.OneTo{RigidBodyDynamics.JointID},Array{Float64,1}},1}:\n",
       " [0.0, 0.0, 0.0, 0.0, 0.0, 0.0, 0.0]                                                         \n",
       " [-1.14476e-15, 2.23923e-6, 3.07364e-15, 4.04951e-6, -2.36486e-11, -4.38041e-6, 0.001]       \n",
       " [-4.32302e-14, 8.95696e-6, 1.1717e-13, 1.61981e-5, -1.89312e-10, -1.75217e-5, 0.002]        \n",
       " [-3.30882e-13, 2.01533e-5, 8.97517e-13, 3.6446e-5, -6.39594e-10, -3.94238e-5, 0.003]        \n",
       " [-1.39614e-12, 3.58286e-5, 3.78773e-12, 6.47934e-5, -1.51828e-9, -7.00868e-5, 0.004]        \n",
       " [-4.26219e-12, 5.59829e-5, 1.1564e-11, 0.000101241, -2.97093e-9, -0.000109511, 0.005]       \n",
       " [-1.06071e-11, 8.06169e-5, 2.87796e-11, 0.000145789, -5.14545e-9, -0.000157696, 0.006]      \n",
       " [-2.29277e-11, 0.000109731, 6.2209e-11, 0.000198438, -8.19271e-9, -0.000214642, 0.00699999] \n",
       " [-4.47033e-11, 0.000143325, 1.21292e-10, 0.000259189, -1.22671e-8, -0.000280349, 0.00799999]\n",
       " [-8.05598e-11, 0.000181401, 2.1858e-10, 0.000328042, -1.75272e-8, -0.000354818, 0.00899998] \n",
       " [-1.36433e-10, 0.000223959, 3.70178e-10, 0.000405, -2.41363e-8, -0.000438048, 0.00999998]   \n",
       " [-2.19735e-10, 0.000271, 5.96193e-10, 0.000490063, -3.22629e-8, -0.000530041, 0.011]        \n",
       " [-3.39513e-10, 0.000322525, 9.21173e-10, 0.000583232, -4.20815e-8, -0.000630795, 0.012]     \n",
       " ⋮                                                                                           \n",
       " [-7.66828e-6, 0.0179664, 2.07537e-5, 0.0323856, -4.40401e-5, -0.0347422, 0.0889612]         \n",
       " [-8.10917e-6, 0.0183777, 2.1946e-5, 0.0331246, -4.61768e-5, -0.0355283, 0.0899594]          \n",
       " [-8.57009e-6, 0.0187938, 2.31924e-5, 0.0338721, -4.83971e-5, -0.0363233, 0.0909574]         \n",
       " [-9.05169e-6, 0.0192148, 2.44947e-5, 0.0346283, -5.07035e-5, -0.037127, 0.0919554]          \n",
       " [-9.55466e-6, 0.0196406, 2.58547e-5, 0.035393, -5.30985e-5, -0.0379396, 0.0929534]          \n",
       " [-1.00797e-5, 0.0200713, 2.72743e-5, 0.0361663, -5.55848e-5, -0.038761, 0.0939512]          \n",
       " [-1.06275e-5, 0.0205068, 2.87554e-5, 0.0369483, -5.81649e-5, -0.0395913, 0.094949]          \n",
       " [-1.11988e-5, 0.0209472, 3.03e-5, 0.0377389, -6.08416e-5, -0.0404304, 0.0959466]            \n",
       " [-1.17944e-5, 0.0213925, 3.19101e-5, 0.0385381, -6.36177e-5, -0.0412783, 0.0969442]         \n",
       " [-1.2415e-5, 0.0218427, 3.35878e-5, 0.0393459, -6.64958e-5, -0.042135, 0.0979417]           \n",
       " [-1.30613e-5, 0.0222977, 3.5335e-5, 0.0401625, -6.94789e-5, -0.0430006, 0.0989392]          \n",
       " [-1.37342e-5, 0.0227577, 3.71539e-5, 0.0409877, -7.25698e-5, -0.043875, 0.0999365]          "
      ]
     },
     "execution_count": 223,
     "metadata": {},
     "output_type": "execute_result"
    }
   ],
   "source": [
    "qs"
   ]
  },
  {
   "cell_type": "code",
   "execution_count": 224,
   "metadata": {
    "collapsed": false
   },
   "outputs": [],
   "source": [
    "DrakeVisualizer.any_open_windows() || (DrakeVisualizer.new_window(); sleep(1));\n",
    "geometries = visual_elements(mechanism, URDFVisuals(urdf))\n",
    "vis = Visualizer(mechanism, geometries);"
   ]
  },
  {
   "cell_type": "code",
   "execution_count": 225,
   "metadata": {
    "collapsed": false
   },
   "outputs": [],
   "source": [
    "RigidBodyTreeInspector.animate(vis, mechanism, ts, qs; realtimerate = .5);"
   ]
  }
 ],
 "metadata": {
  "kernelspec": {
   "display_name": "Julia 0.6.4",
   "language": "julia",
   "name": "julia-0.6"
  },
  "language_info": {
   "file_extension": ".jl",
   "mimetype": "application/julia",
   "name": "julia",
   "version": "0.6.4"
  }
 },
 "nbformat": 4,
 "nbformat_minor": 2
}
