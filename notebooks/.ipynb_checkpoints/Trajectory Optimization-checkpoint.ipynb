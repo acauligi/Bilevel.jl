{
 "cells": [
  {
   "cell_type": "code",
   "execution_count": 3,
   "metadata": {},
   "outputs": [],
   "source": [
    "using Revise\n",
    "using Bilevel\n",
    "\n",
    "using RigidBodyDynamics\n",
    "using MeshCatMechanisms\n",
    "using MeshCat\n",
    "using Plots\n",
    "using LinearAlgebra\n",
    "using StaticArrays\n",
    "\n",
    "clibrary(:Plots)\n",
    "gr(size=(800,500),html_output_format=:png,\n",
    "    seriescolor=:magma,background_color_legend=:white,\n",
    "    background=RGB(((240,240,240) ./ 255.)...));"
   ]
  },
  {
   "cell_type": "markdown",
   "metadata": {},
   "source": [
    "# Loading the urdf"
   ]
  },
  {
   "cell_type": "code",
   "execution_count": 4,
   "metadata": {},
   "outputs": [
    {
     "data": {
      "text/plain": [
       "Environment(Contact[Contact(Spanning tree:\n",
       "Vertex: world (root)\n",
       "  Vertex: floor, Edge: floor_to_world\n",
       "    Vertex: ball, Edge: floor_to_ball\n",
       "No non-tree joints., ball, Point3D in \"after_floor_to_ball\": [0.0, 0.0, 0.0], Obstacle(floor, Point3D in \"after_floor_to_world\": [0.0, 0.0, 0.0], FreeVector3D in \"after_floor_to_world\": [0.0, 0.0, 1.0], [1.0 6.12323e-17 -1.0 -1.83697e-16; 0.0 1.0 1.22465e-16 -1.0; 0.0 0.0 0.0 0.0], 1.0, false))])"
      ]
     },
     "execution_count": 4,
     "metadata": {},
     "output_type": "execute_result"
    }
   ],
   "source": [
    "urdf = joinpath(\"..\", \"urdf\", \"ball.urdf\")\n",
    "mechanism = parse_urdf(Float64, urdf)\n",
    "\n",
    "floor = findbody(mechanism, \"floor\")\n",
    "point = Point3D(default_frame(floor), SVector([0.,0.,0.]...))\n",
    "normal = FreeVector3D(default_frame(floor), SVector([0.,0.,1.]...))\n",
    "floor_obs = Obstacle(floor, point, normal, :xyz, 1.)\n",
    "\n",
    "obstacles = [floor_obs]\n",
    "env = Environment(mechanism, urdf, obstacles)"
   ]
  },
  {
   "cell_type": "markdown",
   "metadata": {},
   "source": [
    "# Single point trajectory optimization"
   ]
  },
  {
   "cell_type": "code",
   "execution_count": 5,
   "metadata": {},
   "outputs": [
    {
     "data": {
      "text/plain": [
       "0.005"
      ]
     },
     "execution_count": 5,
     "metadata": {},
     "output_type": "execute_result"
    }
   ],
   "source": [
    "q1 = [1., 0., 0., 0., 0., 0., 0.]\n",
    "qN = [1., 0., 0., 0., .1, 0., 0.]\n",
    "N = 5\n",
    "Δt = .005\n",
    "\n",
    "function add_prob_constraints!(sim_data)\n",
    "    vs = sim_data.vs\n",
    "\n",
    "    add_eq!(sim_data, :cq1, length(q1), x -> vs(x, :q1) - q1)\n",
    "    add_eq!(sim_data, :cqN, length(qN), x -> vs(x, Symbol(\"q\", N)) - qN)\n",
    "\n",
    "    add_box_con!(sim_data, :u, :u, zeros(num_velocities(mechanism)), zeros(num_velocities(mechanism)), 1:N-1)\n",
    "    add_box_con!(sim_data, :hbox, :h, .5*[Δt], 2.*[Δt], 1:N-1)\n",
    "end"
   ]
  },
  {
   "cell_type": "code",
   "execution_count": 6,
   "metadata": {},
   "outputs": [
    {
     "data": {
      "text/plain": [
       "SimData(Spanning tree:\n",
       "Vertex: world (root)\n",
       "  Vertex: floor, Edge: floor_to_world\n",
       "    Vertex: ball, Edge: floor_to_ball\n",
       "No non-tree joints., Environment(Contact[Contact(Spanning tree:\n",
       "Vertex: world (root)\n",
       "  Vertex: floor, Edge: floor_to_world\n",
       "    Vertex: ball, Edge: floor_to_ball\n",
       "No non-tree joints., ball, Point3D in \"after_floor_to_ball\": [0.0, 0.0, 0.0], Obstacle(floor, Point3D in \"after_floor_to_world\": [0.0, 0.0, 0.0], FreeVector3D in \"after_floor_to_world\": [0.0, 0.0, 1.0], [1.0 6.12323e-17 -1.0 -1.83697e-16; 0.0 1.0 1.22465e-16 -1.0; 0.0 0.0 0.0 0.0], 1.0, false))]), StateCache{…}(…), StateCache{…}(…), EnvironmentJacobianCache{…}(…), 0.005, Bilevel.VariableSelector(Dict(:u1=>14:19,:h1=>20:20,:β1_3=>73:76,:u2=>40:45,:h3=>72:72,:h4=>98:98,:v2=>34:39,:q1=>1:7,:q4=>79:85,:λ1_4=>103:103…), 117), Bilevel.ConstraintSelector(Dict(:β_pos1_2=>47:50,:kin3=>65:71,:ϕ_pos1_3=>85:85,:β_pos1_4=>111:114,:cone_pos1_3=>90:90,:fric_pos1_4=>118:121,:cone_pos1_4=>122:122,:fric_β_comp1_4=>124:127,:β_pos1_1=>15:18,:ϕ_c_n_comp1_1=>27:27…), [1, 2, 3, 4, 5, 6, 7, 8, 9, 10  …  106, 107, 108, 109, 123, 124, 125, 126, 127, 128], [14, 15, 16, 17, 18, 19, 20, 21, 22, 23  …  113, 114, 115, 116, 117, 118, 119, 120, 121, 122], 128, 76, 52), :generate_solver_fn_trajopt_indirect, :extract_sol_trajopt_indirect, Bilevel.VariableSelector[], Bilevel.ConstraintSelector[], Dict[], Bilevel.VariableSelector[], Bilevel.ConstraintSelector[], Dict[], Bilevel.VariableSelector[], Bilevel.ConstraintSelector[], Dict[], 5, Tuple{Symbol,Any}[], Tuple{Symbol,Any}[])"
      ]
     },
     "execution_count": 6,
     "metadata": {},
     "output_type": "execute_result"
    }
   ],
   "source": [
    "sim_data = get_trajopt_data_indirect(mechanism,env,Δt,N,relax_comp=false)\n",
    "add_prob_constraints!(sim_data)\n",
    "traj_indirect = Bilevel.trajopt(sim_data, quaternion_state=true, verbose=1)"
   ]
  },
  {
   "cell_type": "code",
   "execution_count": 48,
   "metadata": {},
   "outputs": [
    {
     "data": {
      "text/plain": [
       "SimData(Spanning tree:\n",
       "Vertex: world (root)\n",
       "  Vertex: floor, Edge: floor_to_world\n",
       "    Vertex: ball, Edge: floor_to_ball\n",
       "No non-tree joints., Environment(Contact[Contact(Spanning tree:\n",
       "Vertex: world (root)\n",
       "  Vertex: floor, Edge: floor_to_world\n",
       "    Vertex: ball, Edge: floor_to_ball\n",
       "No non-tree joints., ball, Point3D in \"after_floor_to_ball\": [0.0, 0.0, 0.0], Obstacle(floor, Point3D in \"after_floor_to_world\": [0.0, 0.0, 0.0], FreeVector3D in \"after_floor_to_world\": [0.0, 0.0, 1.0], [1.0 6.12323e-17 -1.0 -1.83697e-16; 0.0 1.0 1.22465e-16 -1.0; 0.0 0.0 0.0 0.0], 1.0, false))]), StateCache{…}(…), StateCache{…}(…), EnvironmentJacobianCache{…}(…), 0.005, Bilevel.VariableSelector(Dict(:u1=>14:19,:h1=>20:20,:u2=>34:39,:h3=>60:60,:h4=>80:80,:v2=>28:33,:q1=>1:7,:q4=>61:67,:v3=>48:53,:v1=>8:13…), 93), Bilevel.ConstraintSelector(Dict(:h_pos4=>56:56,:dyn1=>8:13,:dyn3=>36:41,:kin3=>29:35,:kin2=>15:21,:dyn4=>50:55,:kin4=>43:49,:h_pos3=>42:42,:h_pos2=>28:28,:kin1=>1:7…), [1, 2, 3, 4, 5, 6, 7, 8, 9, 10  …  46, 47, 48, 49, 50, 51, 52, 53, 54, 55], [14, 28, 42, 56], 56, 52, 4), :generate_solver_fn_trajopt_direct, :extract_sol_trajopt_direct, Bilevel.VariableSelector[], Bilevel.ConstraintSelector[], Dict[], Bilevel.VariableSelector[VariableSelector(Dict(:c_n1=>1:1), 1), VariableSelector(Dict(:c_n1=>1:1), 1), VariableSelector(Dict(:c_n1=>1:1), 1), VariableSelector(Dict(:c_n1=>1:1), 1)], Bilevel.ConstraintSelector[ConstraintSelector(Dict(:c_n_pos1=>1:1,:ϕ1=>2:2), Int64[], [1, 2], 2, 0, 2), ConstraintSelector(Dict(:c_n_pos1=>1:1,:ϕ1=>2:2), Int64[], [1, 2], 2, 0, 2), ConstraintSelector(Dict(:c_n_pos1=>1:1,:ϕ1=>2:2), Int64[], [1, 2], 2, 0, 2), ConstraintSelector(Dict(:c_n_pos1=>1:1,:ϕ1=>2:2), Int64[], [1, 2], 2, 0, 2)], Dict[Dict{String,Any}(\"num_sosteps\"=>5,\"c\"=>1000.0,\"c_fos\"=>10.0,\"num_fosteps\"=>0,\"c_sos\"=>10.0), Dict{String,Any}(\"num_sosteps\"=>5,\"c\"=>1000.0,\"c_fos\"=>10.0,\"num_fosteps\"=>0,\"c_sos\"=>10.0), Dict{String,Any}(\"num_sosteps\"=>5,\"c\"=>1000.0,\"c_fos\"=>10.0,\"num_fosteps\"=>0,\"c_sos\"=>10.0), Dict{String,Any}(\"num_sosteps\"=>5,\"c\"=>1000.0,\"c_fos\"=>10.0,\"num_fosteps\"=>0,\"c_sos\"=>10.0)], Bilevel.VariableSelector[VariableSelector(Dict(:β1=>1:4), 4), VariableSelector(Dict(:β1=>1:4), 4), VariableSelector(Dict(:β1=>1:4), 4), VariableSelector(Dict(:β1=>1:4), 4)], Bilevel.ConstraintSelector[ConstraintSelector(Dict(:β_pos1=>1:4,:fric_cone1=>5:5), Int64[], [1, 2, 3, 4, 5], 5, 0, 5), ConstraintSelector(Dict(:β_pos1=>1:4,:fric_cone1=>5:5), Int64[], [1, 2, 3, 4, 5], 5, 0, 5), ConstraintSelector(Dict(:β_pos1=>1:4,:fric_cone1=>5:5), Int64[], [1, 2, 3, 4, 5], 5, 0, 5), ConstraintSelector(Dict(:β_pos1=>1:4,:fric_cone1=>5:5), Int64[], [1, 2, 3, 4, 5], 5, 0, 5)], Dict[Dict{String,Any}(\"num_sosteps\"=>0,\"c\"=>1000.0,\"c_fos\"=>10.0,\"num_fosteps\"=>0,\"c_sos\"=>10.0), Dict{String,Any}(\"num_sosteps\"=>0,\"c\"=>1000.0,\"c_fos\"=>10.0,\"num_fosteps\"=>0,\"c_sos\"=>10.0), Dict{String,Any}(\"num_sosteps\"=>0,\"c\"=>1000.0,\"c_fos\"=>10.0,\"num_fosteps\"=>0,\"c_sos\"=>10.0), Dict{String,Any}(\"num_sosteps\"=>0,\"c\"=>1000.0,\"c_fos\"=>10.0,\"num_fosteps\"=>0,\"c_sos\"=>10.0)], 5, Tuple{Symbol,Any}[], Tuple{Symbol,Any}[])"
      ]
     },
     "execution_count": 48,
     "metadata": {},
     "output_type": "execute_result"
    }
   ],
   "source": [
    "sim_data = get_trajopt_data_semidirect(mechanism,env,Δt,N,relax_comp=false)\n",
    "add_prob_constraints!(sim_data)\n",
    "traj_semidirect = Bilevel.trajopt(sim_data, quaternion_state=true, verbose=1)"
   ]
  },
  {
   "cell_type": "code",
   "execution_count": 71,
   "metadata": {},
   "outputs": [
    {
     "data": {
      "image/png": "[encoded data removed]"
     },
     "execution_count": 71,
     "metadata": {},
     "output_type": "execute_result"
    }
   ],
   "source": [
    "j = 11\n",
    "plot(traj_indirect[7],traj_indirect[8][j,:],label=\"Indirect\",seriescolor=RGB(((227,74,51) ./ 255.)...),linewidth=4,marker=6)\n",
    "plot!(traj_semidirect[7],traj_semidirect[8][j,:],label=\"Direct\",seriescolor=RGB(((254,232,200) ./ 255.)...),linewidth=0,marker=4)"
   ]
  }
 ],
 "metadata": {
  "kernelspec": {
   "display_name": "Julia 1.1.0",
   "language": "julia",
   "name": "julia-1.1"
  },
  "language_info": {
   "file_extension": ".jl",
   "mimetype": "application/julia",
   "name": "julia",
   "version": "1.1.0"
  }
 },
 "nbformat": 4,
 "nbformat_minor": 2
}
