{
 "cells": [
  {
   "cell_type": "code",
   "execution_count": 2,
   "metadata": {},
   "outputs": [],
   "source": [
    "using Revise\n",
    "using Bilevel\n",
    "\n",
    "using RigidBodyDynamics\n",
    "using MeshCatMechanisms\n",
    "using MeshCat\n",
    "using Plots\n",
    "using LinearAlgebra\n",
    "using StaticArrays\n",
    "\n",
    "gr(size=(800,500),html_output_format=:png,\n",
    "    seriescolor=:magma,background_color_legend=:white,\n",
    "    background=RGB(((240,240,240) ./ 255.)...));"
   ]
  },
  {
   "cell_type": "markdown",
   "metadata": {},
   "source": [
    "# Contact"
   ]
  },
  {
   "cell_type": "markdown",
   "metadata": {},
   "source": [
    "## Single point with contact"
   ]
  },
  {
   "cell_type": "code",
   "execution_count": 3,
   "metadata": {},
   "outputs": [
    {
     "data": {
      "text/plain": [
       "Environment(Contact[Contact(Spanning tree:\n",
       "Vertex: world (root)\n",
       "  Vertex: floor, Edge: floor_to_world\n",
       "    Vertex: ball, Edge: floor_to_ball\n",
       "No non-tree joints., ball, Point3D in \"after_floor_to_ball\": [0.0, 0.0, 0.0], Obstacle(floor, Point3D in \"after_floor_to_world\": [0.0, 0.0, 0.0], FreeVector3D in \"after_floor_to_world\": [0.0, 0.0, 1.0], [1.0 6.12323e-17 -1.0 -1.83697e-16; 0.0 1.0 1.22465e-16 -1.0; 0.0 0.0 0.0 0.0], 1.0, false))])"
      ]
     },
     "execution_count": 3,
     "metadata": {},
     "output_type": "execute_result"
    }
   ],
   "source": [
    "urdf = joinpath(\"..\", \"urdf\", \"ball.urdf\")\n",
    "mechanism = parse_urdf(Float64, urdf)\n",
    "\n",
    "floor = findbody(mechanism, \"floor\")\n",
    "point = Point3D(default_frame(floor), SVector([0.,0.,0.]...))\n",
    "normal = FreeVector3D(default_frame(floor), SVector([0.,0.,1.]...))\n",
    "floor_obs = Obstacle(floor, point, normal, :xyz, 1.)\n",
    "\n",
    "obstacles = [floor_obs]\n",
    "env = Environment(mechanism, urdf, obstacles)"
   ]
  },
  {
   "cell_type": "code",
   "execution_count": null,
   "metadata": {},
   "outputs": [],
   "source": [
    "sim_data = get_sim_data_indirect(mechanism,env,.005,relax_comp=false)\n",
    "control! = (u,t,x) -> u[:] .= 0.\n",
    "state0 = MechanismState(mechanism)\n",
    "set_velocity!(state0, [0.,0.,0.,.3,0.,0.])\n",
    "sim = Bilevel.simulate(sim_data,control!,state0,10)"
   ]
  },
  {
   "cell_type": "code",
   "execution_count": null,
   "metadata": {},
   "outputs": [],
   "source": [
    "plot(sim[6],sim[7][5,:],label=\"Indirect\",seriescolor=RGB(((227,74,51) ./ 255.)...),linewidth=4,marker=6)"
   ]
  },
  {
   "cell_type": "code",
   "execution_count": null,
   "metadata": {},
   "outputs": [],
   "source": [
    "sim[1][end]"
   ]
  },
  {
   "cell_type": "code",
   "execution_count": 50,
   "metadata": {},
   "outputs": [
    {
     "data": {
      "text/plain": [
       "add_prob_constraints! (generic function with 1 method)"
      ]
     },
     "execution_count": 50,
     "metadata": {},
     "output_type": "execute_result"
    }
   ],
   "source": [
    "q1 = [1., 0., 0., 0., 0., 0., 0.]\n",
    "qN = [1., 0., 0., 0., .004, 0., 0.]\n",
    "N = 10\n",
    "Δt = .005\n",
    "\n",
    "q_min = [1., 0., 0., 0., -1., -1., -1.]\n",
    "q_max = [1., 0., 0., 0., 1., 1., 1.]\n",
    "\n",
    "function get_prob_limits(sim_data)\n",
    "    x_min = -1e19*ones(sim_data.vs.num_vars)\n",
    "    x_max = 1e19*ones(sim_data.vs.num_vars)\n",
    "    \n",
    "    # joint limits\n",
    "    add_box_con_snopt!(x_min, x_max, sim_data, :q, q_min, q_max, 1:N)\n",
    "    add_box_con_snopt!(x_min, x_max, sim_data, :h, [Δt], [Δt], 1:N-1)\n",
    "    \n",
    "    # torques limits\n",
    "    add_box_con_snopt!(x_min, x_max, sim_data, :u, zeros(num_velocities(mechanism)), zeros(num_velocities(mechanism)), 1:N-1)\n",
    "\n",
    "    x_min, x_max\n",
    "end\n",
    "\n",
    "function add_prob_constraints!(sim_data)\n",
    "    vs = sim_data.vs\n",
    "\n",
    "    add_eq!(sim_data, :cq1, length(q1), x -> vs(x, :q1) - q1)\n",
    "    add_eq!(sim_data, :cqN, length(qN), x -> vs(x, Symbol(\"q\", N)) - qN)\n",
    "    add_eq!(sim_data, :cv1, 1, x -> vs(x, :v1)[6])\n",
    "    add_eq!(sim_data, :cvN, 1, x -> vs(x, Symbol(\"v\", N))[4])\n",
    "end"
   ]
  },
  {
   "cell_type": "code",
   "execution_count": 51,
   "metadata": {
    "scrolled": false
   },
   "outputs": [
    {
     "name": "stdout",
     "output_type": "stream",
     "text": [
      "Finished successfully: optimality conditions satisfied\n"
     ]
    },
    {
     "data": {
      "text/plain": [
       "(Array{Float64,1}[[1.0, 0.0, 0.0, 0.0, 0.0, 0.0, 0.0], [1.0, 0.0, 0.0, 0.0, 0.00127979, 1.02467e-15, 0.0], [1.0, 0.0, 0.0, 0.0, 0.00231433, 2.90877e-13, 0.0], [1.0, 0.0, 0.0, 0.0, 0.00310363, 1.46533e-14, 0.0], [1.0, 0.0, 0.0, 0.0, 0.00364767, 4.097e-15, 0.0], [1.0, 0.0, 0.0, 0.0, 0.00394646, 5.12128e-15, 5.43035e-12], [1.0, 0.0, 0.0, 0.0, 0.004, -1.09931e-13, 0.0], [1.0, 0.0, 0.0, 0.0, 0.004, 2.44999e-13, 2.98238e-7], [1.0, 0.0, 0.0, 0.0, 0.004, -1.39412e-13, -8.88319e-13], [1.0, 0.0, 0.0, 0.0, 0.004, 0.0, 0.0]], Array{Float64,1}[[0.0, 0.0, 0.0, 0.305008, 8.2895e-13, 0.0], [0.0, 0.0, 0.0, 0.255958, 8.28956e-13, 1.35525e-18], [0.0, 0.0, 0.0, 0.206908, 8.2897e-13, 9.63023e-18], [0.0, 0.0, 0.0, 0.157858, 8.2897e-13, 1.38778e-17], [0.0, 0.0, 0.0, 0.108808, 8.28977e-13, -8.67362e-18], [0.0, 0.0, 0.0, 0.0597583, 8.2898e-13, 1.08607e-9], [0.0, 0.0, 0.0, 0.0107083, 8.24351e-13, -1.08607e-9], [0.0, 0.0, 0.0, 7.19478e-19, 9.60012e-17, 5.96477e-5], [0.0, 0.0, 0.0, 6.43612e-19, 1.94525e-16, -5.96478e-5], [0.0, 0.0, 0.0, 0.0, -1.26663e-16, 1.77664e-10]], Array{Float64,1}[[0.0, 0.0, 0.0, 0.0, 0.0, 0.0], [0.0, 0.0, 0.0, 0.0, 0.0, 0.0], [0.0, 0.0, 0.0, 0.0, 0.0, 0.0], [0.0, 0.0, 0.0, 0.0, 0.0, 0.0], [0.0, 0.0, 0.0, 0.0, 0.0, 0.0], [0.0, 0.0, 0.0, 0.0, 0.0, 0.0], [0.0, 0.0, 0.0, 0.0, 0.0, 0.0], [0.0, 0.0, 0.0, 0.0, 0.0, 0.0], [0.0, 0.0, 0.0, 0.0, 0.0, 0.0]], [0.005, 0.005, 0.005, 0.005, 0.005, 0.005, 0.005, 0.005, 0.005], Array{Float64,1}[[1.0, -4.24747e-18, 0.0, 1.0, 0.0, 0.255958], [1.0, 0.0, 0.0, 1.0, 0.0, 0.206908], [1.0, 0.0, 0.0, 1.0, 0.0, 0.157858], [1.0, 0.0, 0.0, 1.0, 0.0, 0.108808], [1.0, 0.0, 0.0, 1.0, 0.0, 0.0597583], [1.0, 0.0, -2.83887e-13, 1.0, 2.83857e-13, 0.0107083], [1.00122, 0.0464096, 0.0425749, 0.264724, 0.0425749, -1.15316e-18], [0.997568, 0.200737, -5.47234e-15, 0.200737, 3.33395e-17, 3.17471e-19], [1.00122, 0.500608, 0.0, 0.500608, -4.98954e-16, -8.99476e-17]], Array{Float64,1}[], [0.0, 0.005, 0.01, 0.015, 0.02, 0.025, 0.03, 0.035, 0.04, 0.045], [1.0 1.0 … 1.0 1.0; 0.0 0.0 … 0.0 0.0; … ; 8.2895e-13 8.28956e-13 … 1.94525e-16 -1.26663e-16; 0.0 1.35525e-18 … -5.96478e-5 1.77664e-10])"
      ]
     },
     "execution_count": 51,
     "metadata": {},
     "output_type": "execute_result"
    }
   ],
   "source": [
    "sim_data = get_trajopt_data_indirect(mechanism,env,Δt,N,relax_comp=false)\n",
    "add_prob_constraints!(sim_data)\n",
    "x_min, x_max = get_prob_limits(sim_data)\n",
    "traj_indirect = Bilevel.trajopt(sim_data, x_min=x_min, x_max=x_max, quaternion_state=true, verbose=1)"
   ]
  },
  {
   "cell_type": "code",
   "execution_count": 48,
   "metadata": {
    "scrolled": true
   },
   "outputs": [
    {
     "name": "stdout",
     "output_type": "stream",
     "text": [
      "Terminated after numerical difficulties: singular basis\n"
     ]
    },
    {
     "data": {
      "text/plain": [
       "(Array{Float64,1}[[1.0, 0.0, 0.0, 0.0, 0.00336654, 0.0, 0.0], [0.999998, -0.000100205, 0.00123568, 0.000214537, 0.00336654, 2.78166e-15, 7.4723e-14], [0.999994, -0.000972023, 0.00247775, 0.000432422, 0.00336654, -1.09681e-13, -4.96133e-6], [0.999988, -0.00184232, 0.00371424, 0.000651166, 0.00336649, -1.44711e-8, 0.0], [0.999976, -0.00307754, 0.00531219, 0.0008884, 0.00336628, 4.37012e-6, 0.000351572], [0.999949, 0.00143589, -0.002502, -0.000511395, 0.00340613, 5.07073e-5, 0.000456403], [0.999996, 0.00231575, -0.00274577, -0.000308553, 0.00398812, 8.26096e-5, 0.000337259], [0.999999, 0.00148271, -0.00178848, -0.000213386, 0.004, 9.44897e-5, 1.65842e-5], [1.0, 0.000740992, -0.000869833, -0.000106927, 0.004, 2.46573e-10, -8.82408e-10], [1.0, 0.0, 0.0, 0.0, 0.004, 0.0, 0.0]], Array{Float64,1}[[1.80549e-14, 2.68357e-18, -0.000450646, -0.013146, 0.00639713, 0.0], [-0.0400819, 0.494274, 0.0858148, 1.35131e-13, 3.40425e-16, 9.69692e-17], [-0.34765, 0.49536, 0.0865219, 4.90287e-6, 1.92095e-6, -0.000989199], [-0.348125, 0.494665, 0.087117, -0.000886286, -0.00043685, 0.117929], [-0.494034, 0.639347, 0.0942393, -0.00078888, 0.00044486, 0.0703148], [1.8, -3.11591, -0.55822, 0.00804034, 0.00930732, 0.0208357], [0.352198, -0.0972138, 0.0803952, 0.0062455, 0.00627382, -0.0238926], [-0.335117, 0.385071, 0.0383142, 0.00216228, 0.00220373, -0.064513], [-0.296691, 0.367459, 0.0425695, -5.76933e-6, -4.91582e-6, -0.003317], [-0.299327, 0.351372, 0.043205, 0.0, -4.93289e-8, -1.29199e-6]], Array{Float64,1}[[0.0, 0.0, 0.0, 0.0, 0.0, 0.0], [0.0, 2.16606e-7, 1.41006e-7, 0.0, 0.0, 0.0], [-9.49329e-8, -1.39141e-7, 1.19014e-7, 0.0, 0.0, 0.0], [0.0, 0.0, 0.0, 0.0, 1.69319e-8, 0.0], [0.0, 0.0, 0.0, 2.211e-7, 2.88817e-14, -4.55572e-5], [0.0, 0.0, 0.0, 0.0, 0.0, 0.0], [0.0, 0.0, 0.0, 0.0, 8.27181e-25, 0.0], [0.0, 0.0, 0.0, 0.0, 0.0, 0.0], [0.0, 0.0, 1.28357e-7, 0.0, 0.0, 0.0]], [0.005, 0.0050155, 0.005, 0.005, 0.00501574, 0.005, 0.00497186, 0.005, 0.00495094], Array{Float64,1}[[0.999364], [0.979895], [3.42451], [0.0292756], [2.2487e-8], [0.0881104], [0.166453], [2.24748], [1.06824]], Array{Float64,1}[], [0.0, 0.005, 0.0100155, 0.0150155, 0.0200155, 0.0250312, 0.0300312, 0.0350031, 0.0400031, 0.044954], [1.0 0.999998 … 1.0 1.0; 0.0 -0.000100205 … 0.000740992 0.0; … ; 0.00639713 3.40425e-16 … -4.91582e-6 -4.93289e-8; 0.0 9.69692e-17 … -0.003317 -1.29199e-6])"
      ]
     },
     "execution_count": 48,
     "metadata": {},
     "output_type": "execute_result"
    }
   ],
   "source": [
    "sim_data = get_trajopt_data_semidirect(mechanism,env,Δt,N,relax_comp=false)\n",
    "add_prob_constraints!(sim_data)\n",
    "x_min, x_max = get_prob_limits(sim_data)\n",
    "traj_semidirect = Bilevel.trajopt(sim_data, x_min=x_min, x_max=x_max, quaternion_state=true, verbose=1)"
   ]
  },
  {
   "cell_type": "code",
   "execution_count": 52,
   "metadata": {},
   "outputs": [
    {
     "data": {
      "image/png": "[encoded data removed]"
     },
     "execution_count": 52,
     "metadata": {},
     "output_type": "execute_result"
    }
   ],
   "source": [
    "j = 5\n",
    "plot(traj_indirect[7],traj_indirect[8][j,:],label=\"Indirect\",seriescolor=RGB(((227,74,51) ./ 255.)...),linewidth=4,marker=6)\n",
    "plot!(traj_semidirect[7],traj_semidirect[8][j,:],label=\"Semidirect\",seriescolor=RGB(((254,232,200) ./ 255.)...),linewidth=0,marker=4)"
   ]
  },
  {
   "cell_type": "markdown",
   "metadata": {},
   "source": [
    "## Little dog"
   ]
  },
  {
   "cell_type": "code",
   "execution_count": 2,
   "metadata": {},
   "outputs": [],
   "source": [
    "urdf = joinpath(\"..\", \"urdf\", \"little_dog\", \"little_dog.urdf\")\n",
    "mechanism = parse_urdf(Float64, urdf)\n",
    "\n",
    "floor = findbody(mechanism, \"floor\")\n",
    "point = Point3D(default_frame(floor), SVector([0.,0.,0.]...))\n",
    "normal = FreeVector3D(default_frame(floor), SVector([0.,0.,1.]...))\n",
    "floor_obs = Obstacle(floor, point, normal, :xyz, 1.)\n",
    "\n",
    "obstacles = [floor_obs]\n",
    "env = Environment(mechanism, urdf, obstacles);"
   ]
  },
  {
   "cell_type": "code",
   "execution_count": 3,
   "metadata": {},
   "outputs": [
    {
     "data": {
      "text/plain": [
       "setup_prob! (generic function with 1 method)"
      ]
     },
     "execution_count": 3,
     "metadata": {},
     "output_type": "execute_result"
    }
   ],
   "source": [
    "q_nom = [1., 0., 0., 0., 0., 0., .175, 0., 0., 0., 0., .036, 0., 0., 0., .00758, 0., .002445, 0.]  \n",
    "q_min = [-1., -1., -1., -1., -.1, -.01, .05, -.6, -.6, -.6, -.6, -3.5, -3.5, -3.5, -3.5, -3.1, -3.1, -3.1, -3.1]\n",
    "q_max = [1., 1., 1., 1., 5., .01, .2, .6, .6, .6, .6, 2.4, 2.4, 2.4, 2.4, 1., 1., 1., 1.]\n",
    "\n",
    "N = 10\n",
    "Δt = .05\n",
    "\n",
    "function add_prob_constraints!(sim_data)\n",
    "    vs = sim_data.vs\n",
    "\n",
    "    add_eq!(sim_data, :cq1, num_positions(mechanism), x -> vs(x, :q1) - q_nom)\n",
    "    add_eq!(sim_data, :cv1, num_velocities(mechanism), x -> vs(x, :v1))\n",
    "end\n",
    "\n",
    "function add_prob_obj!(sim_data)\n",
    "    add_obj!(sim_data, :xf, x -> -sim_data.vs(x, Symbol(\"q\", N))[5])\n",
    "end\n",
    "\n",
    "function get_prob_limits(sim_data)\n",
    "    x_min = -1e19*ones(sim_data.vs.num_vars)\n",
    "    x_max = 1e19*ones(sim_data.vs.num_vars)\n",
    "    \n",
    "    # joint limits\n",
    "    add_box_con_snopt!(x_min, x_max, sim_data, :q, q_min, q_max, 1:N)\n",
    "    add_box_con_snopt!(x_min, x_max, sim_data, :h, [.5 * Δt], [2. * Δt], 1:N-1)\n",
    "    \n",
    "    # torques limits\n",
    "    u_limit = .5\n",
    "    add_box_con_snopt!(x_min, x_max, sim_data, :u, -u_limit * ones(num_velocities(mechanism)), u_limit * ones(num_velocities(mechanism)), 1:N-1)\n",
    "\n",
    "    x_min, x_max\n",
    "end\n",
    "\n",
    "function get_prob_init(sim_data)\n",
    "    x0 = zeros(sim_data.vs.num_vars)\n",
    "    for n = 1:N\n",
    "        x0[sim_data.vs(Symbol(\"q\", n))] .= q_nom\n",
    "    end\n",
    "    \n",
    "    x0\n",
    "end\n",
    "\n",
    "function setup_prob!(sim_data)\n",
    "    add_prob_constraints!(sim_data)\n",
    "    add_prob_obj!(sim_data)\n",
    "    x_min, x_max = get_prob_limits(sim_data)\n",
    "    x0 = get_prob_init(sim_data)\n",
    "    \n",
    "    x0, x_min, x_max\n",
    "end"
   ]
  },
  {
   "cell_type": "code",
   "execution_count": 5,
   "metadata": {},
   "outputs": [
    {
     "name": "stdout",
     "output_type": "stream",
     "text": [
      "Could not open browser automatically: ErrorException(\"failed process: Process(`xdg-open http://127.0.0.1:8701`, ProcessExited(3)) [3]\")\n",
      "Please open the following URL in your browser:\n",
      "http://127.0.0.1:8701\n"
     ]
    },
    {
     "name": "stderr",
     "output_type": "stream",
     "text": [
      "┌ Info: Serving MeshCat visualizer at http://127.0.0.1:8701\n",
      "└ @ MeshCat /home/blandry/.julia/packages/MeshCat/WlA0B/src/servers.jl:24\n",
      "/usr/bin/xdg-open: 778: /usr/bin/xdg-open: www-browser: not found\n",
      "/usr/bin/xdg-open: 778: /usr/bin/xdg-open: links2: not found\n",
      "/usr/bin/xdg-open: 778: /usr/bin/xdg-open: elinks: not found\n",
      "/usr/bin/xdg-open: 778: /usr/bin/xdg-open: links: not found\n",
      "/usr/bin/xdg-open: 778: /usr/bin/xdg-open: lynx: not found\n",
      "/usr/bin/xdg-open: 778: /usr/bin/xdg-open: w3m: not found\n",
      "xdg-open: no method available for opening 'http://127.0.0.1:8701'\n",
      "Error handling websocket connection:\n",
      "\u001b[91mWebSockets.WebSocketClosedError(\"ws|server respond to OPCODE_CLOSE 1001:Going Away\")\u001b[39m\n",
      "Stacktrace:\n",
      " [1] \u001b[1mtry_yieldto\u001b[22m\u001b[1m(\u001b[22m::typeof(Base.ensure_rescheduled), ::Base.RefValue{Task}\u001b[1m)\u001b[22m at \u001b[1m./event.jl:196\u001b[22m\n",
      " [2] \u001b[1mwait\u001b[22m\u001b[1m(\u001b[22m\u001b[1m)\u001b[22m at \u001b[1m./event.jl:255\u001b[22m\n",
      " [3] \u001b[1mwait\u001b[22m\u001b[1m(\u001b[22m::Condition\u001b[1m)\u001b[22m at \u001b[1m./event.jl:46\u001b[22m\n",
      " [4] \u001b[1mwait\u001b[22m\u001b[1m(\u001b[22m::Task\u001b[1m)\u001b[22m at \u001b[1m./task.jl:188\u001b[22m\n",
      " [5] \u001b[1mcreate_socket\u001b[22m\u001b[1m(\u001b[22m::Dict{Any,Any}\u001b[1m)\u001b[22m at \u001b[1m/home/blandry/.julia/packages/WebIO/Rk8wc/src/providers/mux.jl:44\u001b[22m\n",
      " [6] \u001b[1m(::getfield(Mux, Symbol(\"##5#6\")){getfield(Mux, Symbol(\"##28#29\")){Array{SubString{String},1}},typeof(WebIO.create_socket)})\u001b[22m\u001b[1m(\u001b[22m::Function, ::Dict{Any,Any}\u001b[1m)\u001b[22m at \u001b[1m/home/blandry/.julia/packages/Mux/FeATY/src/Mux.jl:17\u001b[22m\n",
      " [7] \u001b[1m#1\u001b[22m at \u001b[1m/home/blandry/.julia/packages/Mux/FeATY/src/Mux.jl:10\u001b[22m [inlined]\n",
      " [8] \u001b[1msplitquery\u001b[22m\u001b[1m(\u001b[22m::getfield(Mux, Symbol(\"##1#2\")){getfield(Mux, Symbol(\"##5#6\")){getfield(Mux, Symbol(\"##28#29\")){Array{SubString{String},1}},typeof(WebIO.create_socket)},getfield(Mux, Symbol(\"##1#2\")){typeof(Mux.wclose),getfield(Mux, Symbol(\"##1#2\")){getfield(Mux, Symbol(\"##18#19\")){getfield(Mux, Symbol(\"##22#23\")){Symbol,Int64}},getfield(Mux, Symbol(\"##20#21\")){String}}}}, ::Dict{Any,Any}\u001b[1m)\u001b[22m at \u001b[1m/home/blandry/.julia/packages/Mux/FeATY/src/basics.jl:34\u001b[22m\n",
      " [9] \u001b[1m#1\u001b[22m at \u001b[1m/home/blandry/.julia/packages/Mux/FeATY/src/Mux.jl:10\u001b[22m [inlined]\n",
      " [10] \u001b[1mwcatch\u001b[22m\u001b[1m(\u001b[22m::getfield(Mux, Symbol(\"##1#2\")){typeof(Mux.splitquery),getfield(Mux, Symbol(\"##1#2\")){getfield(Mux, Symbol(\"##5#6\")){getfield(Mux, Symbol(\"##28#29\")){Array{SubString{String},1}},typeof(WebIO.create_socket)},getfield(Mux, Symbol(\"##1#2\")){typeof(Mux.wclose),getfield(Mux, Symbol(\"##1#2\")){getfield(Mux, Symbol(\"##18#19\")){getfield(Mux, Symbol(\"##22#23\")){Symbol,Int64}},getfield(Mux, Symbol(\"##20#21\")){String}}}}}, ::Dict{Any,Any}\u001b[1m)\u001b[22m at \u001b[1m/home/blandry/.julia/packages/Mux/FeATY/src/websockets_integration.jl:12\u001b[22m\n",
      " [11] \u001b[1m#1\u001b[22m at \u001b[1m/home/blandry/.julia/packages/Mux/FeATY/src/Mux.jl:10\u001b[22m [inlined]\n",
      " [12] \u001b[1mtodict\u001b[22m at \u001b[1m/home/blandry/.julia/packages/Mux/FeATY/src/basics.jl:25\u001b[22m [inlined]\n",
      " [13] \u001b[1m#3\u001b[22m at \u001b[1m/home/blandry/.julia/packages/Mux/FeATY/src/Mux.jl:14\u001b[22m [inlined] (repeats 2 times)\n",
      " [14] \u001b[1m(::getfield(Mux, Symbol(\"##1#2\")){getfield(Mux, Symbol(\"##3#4\")){getfield(Mux, Symbol(\"##3#4\")){typeof(Mux.todict),typeof(Mux.wcatch)},typeof(Mux.splitquery)},getfield(Mux, Symbol(\"##1#2\")){getfield(Mux, Symbol(\"##5#6\")){getfield(Mux, Symbol(\"##28#29\")){Array{SubString{String},1}},typeof(WebIO.create_socket)},getfield(Mux, Symbol(\"##1#2\")){typeof(Mux.wclose),getfield(Mux, Symbol(\"##1#2\")){getfield(Mux, Symbol(\"##18#19\")){getfield(Mux, Symbol(\"##22#23\")){Symbol,Int64}},getfield(Mux, Symbol(\"##20#21\")){String}}}}})\u001b[22m\u001b[1m(\u001b[22m::Tuple{HTTP.Messages.Request,WebSockets.WebSocket{Sockets.TCPSocket}}\u001b[1m)\u001b[22m at \u001b[1m/home/blandry/.julia/packages/Mux/FeATY/src/Mux.jl:10\u001b[22m\n",
      " [15] \u001b[1m(::getfield(Mux, Symbol(\"##9#10\")){Mux.App})\u001b[22m\u001b[1m(\u001b[22m::HTTP.Messages.Request, ::WebSockets.WebSocket{Sockets.TCPSocket}\u001b[1m)\u001b[22m at \u001b[1m/home/blandry/.julia/packages/Mux/FeATY/src/server.jl:49\u001b[22m\n",
      " [16] \u001b[1mupgrade\u001b[22m\u001b[1m(\u001b[22m::getfield(Mux, Symbol(\"##9#10\")){Mux.App}, ::HTTP.Streams.Stream{HTTP.Messages.Request,HTTP.ConnectionPool.Transaction{Sockets.TCPSocket}}\u001b[1m)\u001b[22m at \u001b[1m/home/blandry/.julia/packages/WebSockets/pc4iW/src/HTTP.jl:201\u001b[22m\n",
      " [17] \u001b[1m(::getfield(WebSockets, Symbol(\"#_servercoroutine#11\")){WebSockets.ServerWS})\u001b[22m\u001b[1m(\u001b[22m::HTTP.Streams.Stream{HTTP.Messages.Request,HTTP.ConnectionPool.Transaction{Sockets.TCPSocket}}\u001b[1m)\u001b[22m at \u001b[1m/home/blandry/.julia/packages/WebSockets/pc4iW/src/HTTP.jl:370\u001b[22m\n",
      " [18] \u001b[1mmacro expansion\u001b[22m at \u001b[1m/home/blandry/.julia/packages/HTTP/GN0Te/src/Servers.jl:352\u001b[22m [inlined]\n",
      " [19] \u001b[1m(::getfield(HTTP.Servers, Symbol(\"##13#14\")){getfield(WebSockets, Symbol(\"#_servercoroutine#11\")){WebSockets.ServerWS},HTTP.ConnectionPool.Transaction{Sockets.TCPSocket},HTTP.Streams.Stream{HTTP.Messages.Request,HTTP.ConnectionPool.Transaction{Sockets.TCPSocket}}})\u001b[22m\u001b[1m(\u001b[22m\u001b[1m)\u001b[22m at \u001b[1m./task.jl:259\u001b[22m"
     ]
    }
   ],
   "source": [
    "mvis = MechanismVisualizer(mechanism, URDFVisuals(urdf));\n",
    "open(mvis)"
   ]
  },
  {
   "cell_type": "code",
   "execution_count": 7,
   "metadata": {},
   "outputs": [
    {
     "name": "stdout",
     "output_type": "stream",
     "text": [
      "Resource limit error: iteration limit reached\n"
     ]
    }
   ],
   "source": [
    "sim_data = get_trajopt_data_indirect(mechanism,env,Δt,N,relax_comp=false)\n",
    "x0, x_min, x_max = setup_prob!(sim_data)\n",
    "traj_indirect = Bilevel.trajopt(sim_data, x0=x0, x_min=x_min, x_max=x_max, verbose=1, opt_tol=1e-3, major_feas=1e-3, minor_feas=1e-3);"
   ]
  },
  {
   "cell_type": "code",
   "execution_count": 8,
   "metadata": {},
   "outputs": [],
   "source": [
    "setanimation!(mvis, traj_indirect[7], traj_indirect[1])"
   ]
  },
  {
   "cell_type": "code",
   "execution_count": 9,
   "metadata": {},
   "outputs": [
    {
     "name": "stderr",
     "output_type": "stream",
     "text": [
      "\n",
      "Error thrown in threaded loop on thread 0: InterruptException()"
     ]
    },
    {
     "ename": "InterruptException",
     "evalue": "InterruptException:",
     "output_type": "error",
     "traceback": [
      "InterruptException:",
      "",
      "Stacktrace:",
      " [1] macro expansion at ./threadingconstructs.jl:75 [inlined]",
      " [2] (::getfield(Bilevel, Symbol(\"#eval_cons#75\")){SimData,Int64,Bilevel.VariableSelector,Bilevel.ConstraintSelector,Int64,Int64,Bool})(::Array{ForwardDiff.Dual{ForwardDiff.Tag{getfield(Bilevel, Symbol(\"#eval_cons#75\")){SimData,Int64,Bilevel.VariableSelector,Bilevel.ConstraintSelector,Int64,Int64,Bool},Float64},Float64,12},1}) at /home/blandry/.julia/dev/Bilevel/src/trajopt_semidirect.jl:158",
      " [3] chunk_mode_jacobian!(::DiffResults.MutableDiffResult{1,Array{Float64,1},Tuple{Array{Float64,2}}}, ::getfield(Bilevel, Symbol(\"#eval_cons#75\")){SimData,Int64,Bilevel.VariableSelector,Bilevel.ConstraintSelector,Int64,Int64,Bool}, ::Array{Float64,1}, ::ForwardDiff.JacobianConfig{ForwardDiff.Tag{getfield(Bilevel, Symbol(\"#eval_cons#75\")){SimData,Int64,Bilevel.VariableSelector,Bilevel.ConstraintSelector,Int64,Int64,Bool},Float64},Float64,12,Array{ForwardDiff.Dual{ForwardDiff.Tag{getfield(Bilevel, Symbol(\"#eval_cons#75\")){SimData,Int64,Bilevel.VariableSelector,Bilevel.ConstraintSelector,Int64,Int64,Bool},Float64},Float64,12},1}}) at /home/blandry/.julia/packages/ForwardDiff/N0wMF/src/jacobian.jl:223",
      " [4] jacobian! at /home/blandry/.julia/packages/ForwardDiff/N0wMF/src/jacobian.jl:56 [inlined]",
      " [5] jacobian! at /home/blandry/.julia/packages/ForwardDiff/N0wMF/src/jacobian.jl:52 [inlined]",
      " [6] (::getfield(Bilevel, Symbol(\"#solver_fn#85\")){getfield(Bilevel, Symbol(\"#eval_obj#74\")){SimData,Int64,Bilevel.VariableSelector,Int64,Bool},DiffResults.MutableDiffResult{2,Float64,Tuple{Array{Float64,1},Array{Float64,2}}},ForwardDiff.HessianConfig{ForwardDiff.Tag{getfield(Bilevel, Symbol(\"#eval_obj#74\")){SimData,Int64,Bilevel.VariableSelector,Int64,Bool},Float64},Float64,12,Array{ForwardDiff.Dual{ForwardDiff.Tag{getfield(Bilevel, Symbol(\"#eval_obj#74\")){SimData,Int64,Bilevel.VariableSelector,Int64,Bool},Float64},ForwardDiff.Dual{ForwardDiff.Tag{getfield(Bilevel, Symbol(\"#eval_obj#74\")){SimData,Int64,Bilevel.VariableSelector,Int64,Bool},Float64},Float64,12},12},1},Tuple{Array{ForwardDiff.Dual{ForwardDiff.Tag{getfield(Bilevel, Symbol(\"#eval_obj#74\")){SimData,Int64,Bilevel.VariableSelector,Int64,Bool},Float64},Float64,12},1},Array{ForwardDiff.Dual{ForwardDiff.Tag{getfield(Bilevel, Symbol(\"#eval_obj#74\")){SimData,Int64,Bilevel.VariableSelector,Int64,Bool},Float64},Float64,12},1}}},getfield(Bilevel, Symbol(\"#eval_cons#75\")){SimData,Int64,Bilevel.VariableSelector,Bilevel.ConstraintSelector,Int64,Int64,Bool},DiffResults.MutableDiffResult{1,Array{Float64,1},Tuple{Array{Float64,2}}},ForwardDiff.JacobianConfig{ForwardDiff.Tag{getfield(Bilevel, Symbol(\"#eval_cons#75\")){SimData,Int64,Bilevel.VariableSelector,Bilevel.ConstraintSelector,Int64,Int64,Bool},Float64},Float64,12,Array{ForwardDiff.Dual{ForwardDiff.Tag{getfield(Bilevel, Symbol(\"#eval_cons#75\")){SimData,Int64,Bilevel.VariableSelector,Bilevel.ConstraintSelector,Int64,Int64,Bool},Float64},Float64,12},1}},Array{Int64,1},Array{Int64,1}})(::Array{Float64,1}) at /home/blandry/.julia/dev/Bilevel/src/solvers/autodiff.jl:28",
      " [7] objcon_wrapper(::Ptr{Int64}, ::Int64, ::Ptr{Float64}, ::Int64, ::Int64, ::Ptr{Float64}, ::Int64, ::Int64, ::Ptr{Float64}, ::Ptr{Int8}, ::Int64, ::Ptr{Int64}, ::Int64, ::Ptr{Float64}, ::Int64) at /home/blandry/.julia/dev/Bilevel/src/solvers/snopt.jl:104",
      " [8] #snopt#77(::Array{Float64,1}, ::Array{Float64,1}, ::String, ::String, ::Nothing, ::Function, ::Function, ::Int64, ::Int64, ::Array{Float64,1}, ::Dict{String,Any}) at /home/blandry/.julia/dev/Bilevel/src/solvers/snopt.jl:350",
      " [9] (::getfield(Bilevel, Symbol(\"#kw##snopt\")))(::NamedTuple{(:x_min, :x_max, :callback_fn),Tuple{Array{Float64,1},Array{Float64,1},Nothing}}, ::typeof(Bilevel.snopt), ::Function, ::Int64, ::Int64, ::Array{Float64,1}, ::Dict{String,Any}) at none:0",
      " [10] #trajopt#52(::Array{Float64,1}, ::Bool, ::Array{Float64,1}, ::Array{Float64,1}, ::Float64, ::Float64, ::Float64, ::Int64, ::Nothing, ::typeof(trajopt), ::SimData) at /home/blandry/.julia/dev/Bilevel/src/trajopt.jl:46",
      " [11] (::getfield(Bilevel, Symbol(\"#kw##trajopt\")))(::NamedTuple{(:x0, :x_min, :x_max, :verbose, :opt_tol, :major_feas, :minor_feas),Tuple{Array{Float64,1},Array{Float64,1},Array{Float64,1},Int64,Float64,Float64,Float64}}, ::typeof(trajopt), ::SimData) at none:0",
      " [12] top-level scope at In[9]:3"
     ]
    },
    {
     "name": "stderr",
     "output_type": "stream",
     "text": [
      "Error handling websocket connection:\n",
      "\u001b[91mWebSockets.WebSocketClosedError(\"ws|server respond to OPCODE_CLOSE 1001:Going Away\")\u001b[39m\n",
      "Stacktrace:\n",
      " [1] \u001b[1mtry_yieldto\u001b[22m\u001b[1m(\u001b[22m::typeof(Base.ensure_rescheduled), ::Base.RefValue{Task}\u001b[1m)\u001b[22m at \u001b[1m./event.jl:196\u001b[22m\n",
      " [2] \u001b[1mwait\u001b[22m\u001b[1m(\u001b[22m\u001b[1m)\u001b[22m at \u001b[1m./event.jl:255\u001b[22m\n",
      " [3] \u001b[1mwait\u001b[22m\u001b[1m(\u001b[22m::Condition\u001b[1m)\u001b[22m at \u001b[1m./event.jl:46\u001b[22m\n",
      " [4] \u001b[1mwait\u001b[22m\u001b[1m(\u001b[22m::Task\u001b[1m)\u001b[22m at \u001b[1m./task.jl:188\u001b[22m\n",
      " [5] \u001b[1mcreate_socket\u001b[22m\u001b[1m(\u001b[22m::Dict{Any,Any}\u001b[1m)\u001b[22m at \u001b[1m/home/blandry/.julia/packages/WebIO/Rk8wc/src/providers/mux.jl:44\u001b[22m\n",
      " [6] \u001b[1m(::getfield(Mux, Symbol(\"##5#6\")){getfield(Mux, Symbol(\"##28#29\")){Array{SubString{String},1}},typeof(WebIO.create_socket)})\u001b[22m\u001b[1m(\u001b[22m::Function, ::Dict{Any,Any}\u001b[1m)\u001b[22m at \u001b[1m/home/blandry/.julia/packages/Mux/FeATY/src/Mux.jl:17\u001b[22m\n",
      " [7] \u001b[1m#1\u001b[22m at \u001b[1m/home/blandry/.julia/packages/Mux/FeATY/src/Mux.jl:10\u001b[22m [inlined]\n",
      " [8] \u001b[1msplitquery\u001b[22m\u001b[1m(\u001b[22m::getfield(Mux, Symbol(\"##1#2\")){getfield(Mux, Symbol(\"##5#6\")){getfield(Mux, Symbol(\"##28#29\")){Array{SubString{String},1}},typeof(WebIO.create_socket)},getfield(Mux, Symbol(\"##1#2\")){typeof(Mux.wclose),getfield(Mux, Symbol(\"##1#2\")){getfield(Mux, Symbol(\"##18#19\")){getfield(Mux, Symbol(\"##22#23\")){Symbol,Int64}},getfield(Mux, Symbol(\"##20#21\")){String}}}}, ::Dict{Any,Any}\u001b[1m)\u001b[22m at \u001b[1m/home/blandry/.julia/packages/Mux/FeATY/src/basics.jl:34\u001b[22m\n",
      " [9] \u001b[1m#1\u001b[22m at \u001b[1m/home/blandry/.julia/packages/Mux/FeATY/src/Mux.jl:10\u001b[22m [inlined]\n",
      " [10] \u001b[1mwcatch\u001b[22m\u001b[1m(\u001b[22m::getfield(Mux, Symbol(\"##1#2\")){typeof(Mux.splitquery),getfield(Mux, Symbol(\"##1#2\")){getfield(Mux, Symbol(\"##5#6\")){getfield(Mux, Symbol(\"##28#29\")){Array{SubString{String},1}},typeof(WebIO.create_socket)},getfield(Mux, Symbol(\"##1#2\")){typeof(Mux.wclose),getfield(Mux, Symbol(\"##1#2\")){getfield(Mux, Symbol(\"##18#19\")){getfield(Mux, Symbol(\"##22#23\")){Symbol,Int64}},getfield(Mux, Symbol(\"##20#21\")){String}}}}}, ::Dict{Any,Any}\u001b[1m)\u001b[22m at \u001b[1m/home/blandry/.julia/packages/Mux/FeATY/src/websockets_integration.jl:12\u001b[22m\n",
      " [11] \u001b[1m#1\u001b[22m at \u001b[1m/home/blandry/.julia/packages/Mux/FeATY/src/Mux.jl:10\u001b[22m [inlined]\n",
      " [12] \u001b[1mtodict\u001b[22m at \u001b[1m/home/blandry/.julia/packages/Mux/FeATY/src/basics.jl:25\u001b[22m [inlined]\n",
      " [13] \u001b[1m#3\u001b[22m at \u001b[1m/home/blandry/.julia/packages/Mux/FeATY/src/Mux.jl:14\u001b[22m [inlined] (repeats 2 times)\n",
      " [14] \u001b[1m(::getfield(Mux, Symbol(\"##1#2\")){getfield(Mux, Symbol(\"##3#4\")){getfield(Mux, Symbol(\"##3#4\")){typeof(Mux.todict),typeof(Mux.wcatch)},typeof(Mux.splitquery)},getfield(Mux, Symbol(\"##1#2\")){getfield(Mux, Symbol(\"##5#6\")){getfield(Mux, Symbol(\"##28#29\")){Array{SubString{String},1}},typeof(WebIO.create_socket)},getfield(Mux, Symbol(\"##1#2\")){typeof(Mux.wclose),getfield(Mux, Symbol(\"##1#2\")){getfield(Mux, Symbol(\"##18#19\")){getfield(Mux, Symbol(\"##22#23\")){Symbol,Int64}},getfield(Mux, Symbol(\"##20#21\")){String}}}}})\u001b[22m\u001b[1m(\u001b[22m::Tuple{HTTP.Messages.Request,WebSockets.WebSocket{Sockets.TCPSocket}}\u001b[1m)\u001b[22m at \u001b[1m/home/blandry/.julia/packages/Mux/FeATY/src/Mux.jl:10\u001b[22m\n",
      " [15] \u001b[1m(::getfield(Mux, Symbol(\"##9#10\")){Mux.App})\u001b[22m\u001b[1m(\u001b[22m::HTTP.Messages.Request, ::WebSockets.WebSocket{Sockets.TCPSocket}\u001b[1m)\u001b[22m at \u001b[1m/home/blandry/.julia/packages/Mux/FeATY/src/server.jl:49\u001b[22m\n",
      " [16] \u001b[1mupgrade\u001b[22m\u001b[1m(\u001b[22m::getfield(Mux, Symbol(\"##9#10\")){Mux.App}, ::HTTP.Streams.Stream{HTTP.Messages.Request,HTTP.ConnectionPool.Transaction{Sockets.TCPSocket}}\u001b[1m)\u001b[22m at \u001b[1m/home/blandry/.julia/packages/WebSockets/pc4iW/src/HTTP.jl:201\u001b[22m\n",
      " [17] \u001b[1m(::getfield(WebSockets, Symbol(\"#_servercoroutine#11\")){WebSockets.ServerWS})\u001b[22m\u001b[1m(\u001b[22m::HTTP.Streams.Stream{HTTP.Messages.Request,HTTP.ConnectionPool.Transaction{Sockets.TCPSocket}}\u001b[1m)\u001b[22m at \u001b[1m/home/blandry/.julia/packages/WebSockets/pc4iW/src/HTTP.jl:370\u001b[22m\n",
      " [18] \u001b[1mmacro expansion\u001b[22m at \u001b[1m/home/blandry/.julia/packages/HTTP/GN0Te/src/Servers.jl:352\u001b[22m [inlined]\n",
      " [19] \u001b[1m(::getfield(HTTP.Servers, Symbol(\"##13#14\")){getfield(WebSockets, Symbol(\"#_servercoroutine#11\")){WebSockets.ServerWS},HTTP.ConnectionPool.Transaction{Sockets.TCPSocket},HTTP.Streams.Stream{HTTP.Messages.Request,HTTP.ConnectionPool.Transaction{Sockets.TCPSocket}}})\u001b[22m\u001b[1m(\u001b[22m\u001b[1m)\u001b[22m at \u001b[1m./task.jl:259\u001b[22m"
     ]
    }
   ],
   "source": [
    "sim_data = get_trajopt_data_semidirect(mechanism,env,Δt,N,relax_comp=false)\n",
    "x0, x_min, x_max = setup_prob!(sim_data)\n",
    "traj_semidirect = Bilevel.trajopt(sim_data, x0=x0, x_min=x_min, x_max=x_max, verbose=1, opt_tol=1e-3, major_feas=1e-3, minor_feas=1e-3);"
   ]
  },
  {
   "cell_type": "code",
   "execution_count": null,
   "metadata": {},
   "outputs": [],
   "source": [
    "setanimation!(mvis, traj_semidirect[7], traj_semidirect[1])"
   ]
  },
  {
   "cell_type": "code",
   "execution_count": null,
   "metadata": {},
   "outputs": [],
   "source": [
    "traj_semidirect[1]"
   ]
  },
  {
   "cell_type": "markdown",
   "metadata": {},
   "source": [
    "## Panda arm"
   ]
  },
  {
   "cell_type": "code",
   "execution_count": null,
   "metadata": {},
   "outputs": [],
   "source": []
  }
 ],
 "metadata": {
  "kernelspec": {
   "display_name": "Julia 1.1.0",
   "language": "julia",
   "name": "julia-1.1"
  },
  "language_info": {
   "file_extension": ".jl",
   "mimetype": "application/julia",
   "name": "julia",
   "version": "1.1.0"
  }
 },
 "nbformat": 4,
 "nbformat_minor": 2
}
