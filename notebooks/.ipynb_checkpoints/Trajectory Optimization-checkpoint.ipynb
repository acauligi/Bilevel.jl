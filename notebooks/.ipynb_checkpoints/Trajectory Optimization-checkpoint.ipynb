{
 "cells": [
  {
   "cell_type": "code",
   "execution_count": 2,
   "metadata": {},
   "outputs": [],
   "source": [
    "using Revise\n",
    "using Bilevel\n",
    "\n",
    "using RigidBodyDynamics\n",
    "using MeshCatMechanisms\n",
    "using MeshCat\n",
    "using Plots\n",
    "using LinearAlgebra\n",
    "using StaticArrays \n",
    "\n",
    "gr(size=(800,500),html_output_format=:png,\n",
    "    seriescolor=:magma,background_color_legend=:white,\n",
    "    background=RGB(((240,240,240) ./ 255.)...));"
   ]
  },
  {
   "cell_type": "markdown",
   "metadata": {},
   "source": [
    "# Contact"
   ]
  },
  {
   "cell_type": "markdown",
   "metadata": {},
   "source": [
    "## Single point with contact"
   ]
  },
  {
   "cell_type": "code",
   "execution_count": null,
   "metadata": {},
   "outputs": [],
   "source": [
    "urdf = joinpath(\"..\", \"urdf\", \"ball.urdf\")\n",
    "mechanism = parse_urdf(Float64, urdf)\n",
    "\n",
    "floor = findbody(mechanism, \"floor\")\n",
    "point = Point3D(default_frame(floor), SVector([0.,0.,0.]...))\n",
    "normal = FreeVector3D(default_frame(floor), SVector([0.,0.,1.]...))\n",
    "floor_obs = Obstacle(floor, point, normal, :xyz, 1.)\n",
    "\n",
    "obstacles = [floor_obs]\n",
    "env = Environment(mechanism, urdf, obstacles)"
   ]
  },
  {
   "cell_type": "code",
   "execution_count": null,
   "metadata": {},
   "outputs": [],
   "source": [
    "q1 = [1., 0., 0., 0., 0., 0., 0.]\n",
    "qN = [1., 0., 0., 0., .004, 0., 0.]\n",
    "N = 10\n",
    "Δt = .005\n",
    "\n",
    "q_min = [1., 0., 0., 0., -1., -1., -1.]\n",
    "q_max = [1., 0., 0., 0., 1., 1., 1.]\n",
    "\n",
    "function get_prob_limits(sim_data)\n",
    "    x_min = -1e19*ones(sim_data.vs.num_vars)\n",
    "    x_max = 1e19*ones(sim_data.vs.num_vars)\n",
    "    \n",
    "    # joint limits\n",
    "    add_box_con_snopt!(x_min, x_max, sim_data, :q, q_min, q_max, 1:N)\n",
    "    add_box_con_snopt!(x_min, x_max, sim_data, :h, [Δt], [Δt], 1:N-1)\n",
    "    \n",
    "    # torques limits\n",
    "    add_box_con_snopt!(x_min, x_max, sim_data, :u, zeros(num_velocities(mechanism)), zeros(num_velocities(mechanism)), 1:N-1)\n",
    "\n",
    "    x_min, x_max\n",
    "end\n",
    "\n",
    "function add_prob_constraints!(sim_data)\n",
    "    vs = sim_data.vs\n",
    "\n",
    "    add_eq!(sim_data, :cq1, length(q1), x -> vs(x, :q1) - q1)\n",
    "    add_eq!(sim_data, :cqN, length(qN), x -> vs(x, Symbol(\"q\", N)) - qN)\n",
    "    add_eq!(sim_data, :cv1, 1, x -> vs(x, :v1)[6])\n",
    "    add_eq!(sim_data, :cvN, 1, x -> vs(x, Symbol(\"v\", N))[4])\n",
    "end"
   ]
  },
  {
   "cell_type": "code",
   "execution_count": null,
   "metadata": {
    "scrolled": false
   },
   "outputs": [],
   "source": [
    "sim_data = get_trajopt_data_indirect(mechanism,env,Δt,N,relax_comp=false)\n",
    "add_prob_constraints!(sim_data)\n",
    "x_min, x_max = get_prob_limits(sim_data)\n",
    "traj_indirect = Bilevel.trajopt(sim_data, x_min=x_min, x_max=x_max, quaternion_state=true, verbose=1)"
   ]
  },
  {
   "cell_type": "code",
   "execution_count": null,
   "metadata": {
    "scrolled": true
   },
   "outputs": [],
   "source": [
    "sim_data = get_trajopt_data_semidirect(mechanism,env,Δt,N,relax_comp=false)\n",
    "add_prob_constraints!(sim_data)\n",
    "x_min, x_max = get_prob_limits(sim_data)\n",
    "traj_semidirect = Bilevel.trajopt(sim_data, x_min=x_min, x_max=x_max, quaternion_state=true, verbose=1)"
   ]
  },
  {
   "cell_type": "code",
   "execution_count": null,
   "metadata": {},
   "outputs": [],
   "source": [
    "j = 5\n",
    "plot(traj_indirect[7],traj_indirect[8][j,:],label=\"Indirect\",seriescolor=RGB(((227,74,51) ./ 255.)...),linewidth=4,marker=6)\n",
    "plot!(traj_semidirect[7],traj_semidirect[8][j,:],label=\"Semidirect\",seriescolor=RGB(((254,232,200) ./ 255.)...),linewidth=0,marker=4)"
   ]
  },
  {
   "cell_type": "markdown",
   "metadata": {},
   "source": [
    "# Box with four contact"
   ]
  },
  {
   "cell_type": "code",
   "execution_count": 2,
   "metadata": {},
   "outputs": [],
   "source": [
    "μ_floor = .1\n",
    "\n",
    "urdf = joinpath(\"..\", \"urdf\", \"box.urdf\")\n",
    "mechanism = parse_urdf(Float64, urdf)\n",
    "\n",
    "floor = findbody(mechanism, \"floor\")\n",
    "point = Point3D(default_frame(floor), SVector([0.,0.,0.]...))\n",
    "normal = FreeVector3D(default_frame(floor), SVector([0.,0.,1.]...))\n",
    "floor_obs = Obstacle(floor, point, normal, :xyz, μ_floor)\n",
    "\n",
    "obstacles = [floor_obs]\n",
    "env = Environment(mechanism, urdf, obstacles);"
   ]
  },
  {
   "cell_type": "code",
   "execution_count": 69,
   "metadata": {},
   "outputs": [
    {
     "data": {
      "text/plain": [
       "(Array{Float64,1}[[1.0, 0.0, 0.0, 0.0, 0.0, 0.0, 0.25], [1.0, 7.29997e-16, 3.37187e-12, -9.58343e-14, 0.06519, -4.92838e-15, 0.25], [1.0, -7.04225e-16, -2.61386e-17, -2.14743e-16, 0.12057, -1.50827e-14, 0.25], [1.0, 6.43356e-16, 8.84634e-17, 6.08221e-17, 0.16614, -1.88089e-15, 0.25], [1.0, -6.66361e-16, -1.10505e-16, -6.70981e-17, 0.2019, -1.93363e-18, 0.25], [1.0, 7.15574e-16, 5.68698e-17, 7.34883e-17, 0.22785, 3.72146e-18, 0.25], [1.0, -7.00907e-16, -5.05358e-17, -7.26173e-17, 0.24399, 1.10338e-18, 0.25], [1.0, 6.78331e-16, 5.73521e-17, 6.87635e-17, 0.25032, 3.76897e-18, 0.25], [1.0, -7.08417e-16, -1.78182e-10, -9.6441e-11, 0.25032, -4.57726e-11, 0.25], [1.0, -1.1731e-14, -1.08127e-11, -1.3151e-10, 0.25032, -6.23236e-11, 0.25]], Array{Float64,1}[[0.0, 0.0, 0.0, 0.75, 0.0, 0.0], [2.14717e-15, 6.77282e-11, -2.44475e-15, 0.6519, -2.73438e-14, 2.25211e-11], [-1.62317e-14, -6.7438e-11, -1.8501e-15, 0.5538, -1.7057e-14, -1.79474e-11], [2.90988e-14, 1.76927e-15, 3.06654e-15, 0.4557, -1.62348e-15, 2.05651e-15], [-4.2426e-14, -3.97936e-15, -4.4085e-15, 0.3576, 1.62179e-15, -2.63812e-15], [5.67375e-14, 5.11676e-15, 5.87827e-15, 0.2595, -1.60231e-15, 3.96332e-15], [-7.07556e-14, -6.12747e-15, -7.33061e-15, 0.1614, 1.62731e-15, -4.09025e-15], [8.43222e-14, 7.27452e-15, 8.70588e-15, 0.0633, -1.60263e-15, 3.97469e-15], [-9.84906e-14, -3.56365e-9, -1.92883e-9, -1.34861e-9, -4.45515e-10, 8.68372e-10], [-1.36129e-13, 3.34738e-9, -7.01389e-10, 6.71278e-10, -1.65509e-10, -8.36994e-10]], Array{Float64,1}[], Array{Float64,1}[[0.0, 0.0, 0.0, 0.0, 0.0, 0.0], [0.0, 0.0, 0.0, 0.0, 0.0, 0.0], [0.0, 0.0, 0.0, 0.0, 0.0, 0.0], [0.0, 0.0, 0.0, 0.0, 0.0, 0.0], [0.225, 0.0, 0.0, 0.0225, 0.0, 0.6519], [0.225, 0.0, 0.0, 0.0225, -4.91612e-15, 0.6519], [0.275, 0.0, 1.73501e-15, 0.0275, -1.88526e-15, 0.6519], [0.275, 0.0, 0.0, 0.0275, -1.75851e-15, 0.6519], [0.225, 0.0, 0.0, 0.0225, 0.0, 0.5538], [0.225, 0.0, 0.0, 0.0225, 4.17633e-15, 0.5538]  …  [0.275, 1.29247e-25, 1.68471e-16, 0.0275, -1.8306e-16, 0.0633], [0.275, 0.0, 0.0, 0.0275, -1.70753e-16, 0.0633], [0.233948, 0.00587803, 0.0, 0.0163185, 0.00119831, 8.90907e-10], [0.233789, 0.00487503, 0.0, 0.0173109, 0.00119301, 2.44972e-11], [0.266052, 0.0, 0.00239132, 0.0242139, 1.65436e-23, 9.39909e-10], [0.266211, 0.00459263, 0.0, 0.0220285, 2.99853e-24, -2.44999e-11], [0.250084, 0.0140334, 8.96444e-5, 0.00816306, 0.00110866, -9.77916e-12], [0.249916, 0.0128511, 8.96444e-5, 0.00933476, 0.00110337, -9.77916e-12], [0.249916, 0.00752788, 0.00203274, 0.015431, 1.65302e-23, 3.40915e-10], [0.250084, 0.0117624, 0.0, 0.013246, 2.99853e-24, -9.77916e-12]], Array{Float64,1}[], [0.0, 0.1, 0.2, 0.3, 0.4, 0.5, 0.6, 0.7, 0.8, 0.9], [1.0 1.0 … 1.0 1.0; 0.0 7.29997e-16 … -7.08417e-16 -1.1731e-14; … ; 0.0 -2.73438e-14 … -4.45515e-10 -1.65509e-10; 0.0 2.25211e-11 … 8.68372e-10 -8.36994e-10])"
      ]
     },
     "execution_count": 69,
     "metadata": {},
     "output_type": "execute_result"
    }
   ],
   "source": [
    "Δt = 0.1\n",
    "N = 10\n",
    "\n",
    "x0 = MechanismState(mechanism)\n",
    "set_configuration!(x0,[1.,0.,0.,0.,0.,0.,0.25])\n",
    "set_velocity!(x0,[0.,0.,0.,.75,0.,0.])\n",
    "setdirty!(x0)\n",
    "\n",
    "sim_data = get_sim_data_indirect(mechanism,env,Δt)\n",
    "\n",
    "null_ctrl! = (u,t,x) -> u[:] .= 0.\n",
    "traj_sim = Bilevel.simulate(sim_data,null_ctrl!,x0,N)"
   ]
  },
  {
   "cell_type": "code",
   "execution_count": 4,
   "metadata": {},
   "outputs": [
    {
     "name": "stderr",
     "output_type": "stream",
     "text": [
      "┌ Info: Serving MeshCat visualizer at http://127.0.0.1:8701\n",
      "└ @ MeshCat /home/blandry/.julia/packages/MeshCat/WlA0B/src/servers.jl:24\n"
     ]
    },
    {
     "data": {
      "text/plain": [
       "Process(`\u001b[4mxdg-open\u001b[24m \u001b[4mhttp://127.0.0.1:8701\u001b[24m`, ProcessExited(0))"
      ]
     },
     "execution_count": 4,
     "metadata": {},
     "output_type": "execute_result"
    },
    {
     "name": "stdout",
     "output_type": "stream",
     "text": [
      "Created new window in existing browser session.\n"
     ]
    }
   ],
   "source": [
    "mvis = MechanismVisualizer(mechanism, URDFVisuals(urdf))\n",
    "open(mvis)"
   ]
  },
  {
   "cell_type": "code",
   "execution_count": 71,
   "metadata": {},
   "outputs": [],
   "source": [
    "setanimation!(mvis, traj_sim[6], traj_sim[1])"
   ]
  },
  {
   "cell_type": "code",
   "execution_count": 70,
   "metadata": {},
   "outputs": [
    {
     "data": {
      "image/png": "[encoded data removed]"
     },
     "execution_count": 70,
     "metadata": {},
     "output_type": "execute_result"
    }
   ],
   "source": [
    "plot(traj_sim[7][5,:])"
   ]
  },
  {
   "cell_type": "code",
   "execution_count": 72,
   "metadata": {},
   "outputs": [
    {
     "data": {
      "text/plain": [
       "add_prob_constraints! (generic function with 1 method)"
      ]
     },
     "execution_count": 72,
     "metadata": {},
     "output_type": "execute_result"
    }
   ],
   "source": [
    "q1 = [1., 0., 0., 0., 0., 0., 0.25]\n",
    "qN = [1., 0., 0., 0., .25, 0., 0.25]\n",
    "N = 10\n",
    "Δt = 0.1\n",
    "\n",
    "q_min = [1., 0., 0., 0., -5., -5., -5.]\n",
    "q_max = [1., 0., 0., 0., 5., 5., 5.]\n",
    "\n",
    "function get_prob_limits(sim_data)\n",
    "    x_min = -1e19*ones(sim_data.vs.num_vars)\n",
    "    x_max = 1e19*ones(sim_data.vs.num_vars)\n",
    "    \n",
    "    # joint limits\n",
    "    add_box_con_snopt!(x_min, x_max, sim_data, :q, q_min, q_max, 1:N)\n",
    "    add_box_con_snopt!(x_min, x_max, sim_data, :h, [.9 * Δt], [1.1 * Δt], 1:N-1)\n",
    "    \n",
    "    # torques limits\n",
    "    add_box_con_snopt!(x_min, x_max, sim_data, :u, zeros(num_velocities(mechanism)), zeros(num_velocities(mechanism)), 1:N-1)\n",
    "\n",
    "    x_min, x_max\n",
    "end\n",
    "\n",
    "function get_prob_init(sim_data)\n",
    "    x0 = zeros(sim_data.vs.num_vars)\n",
    "    for n = 1:N\n",
    "       x0[sim_data.vs(Symbol(\"q\", n))] = n/N * (qN - q1) + q1 \n",
    "    end\n",
    "end\n",
    "\n",
    "function add_prob_constraints!(sim_data)\n",
    "    vs = sim_data.vs\n",
    "\n",
    "    add_eq!(sim_data, :cq1, length(q1), x -> vs(x, :q1) - q1)\n",
    "    add_eq!(sim_data, :cqN, length(qN), x -> vs(x, Symbol(\"q\", N)) - qN)\n",
    "    add_eq!(sim_data, :cv1, 1, x -> vs(x, :v1)[6])\n",
    "#     add_eq!(sim_data, :cvN, 1, x -> vs(x, Symbol(\"v\", N))[4])\n",
    "end"
   ]
  },
  {
   "cell_type": "code",
   "execution_count": 73,
   "metadata": {},
   "outputs": [
    {
     "name": "stdout",
     "output_type": "stream",
     "text": [
      "Finished successfully: optimality conditions satisfied\n"
     ]
    },
    {
     "data": {
      "text/plain": [
       "(Array{Float64,1}[[1.0, 0.0, 0.0, 0.0, 0.0, 0.0, 0.25], [1.0, 0.0, 0.0, 0.0, 0.059148, -6.92257e-8, 0.25], [1.0, 0.0, 0.0, 0.0, 0.110376, -1.38451e-7, 0.25], [1.0, 0.0, 0.0, 0.0, 0.153856, -2.08143e-7, 0.25], [1.0, 0.0, 0.0, 0.0, 0.189123, -2.77446e-7, 0.250001], [1.0, 0.0, 0.0, 0.0, 0.216416, -3.46714e-7, 0.25], [1.0, 0.0, 0.0, 0.0, 0.235775, -2.8153e-7, 0.25], [1.0, 0.0, 0.0, 0.0, 0.247184, -2.15623e-7, 0.25], [1.0, 0.0, 0.0, 0.0, 0.25, 2.45043e-13, 0.25], [1.0, 0.0, 0.0, 0.0, 0.25, 0.0, 0.25]], Array{Float64,1}[[-1.43875, -1.65948, -0.143875, 0.745376, -7.69174e-7, -1.06131e-22], [-1.44571e-13, 1.50687e-12, 6.40778e-12, 0.657068, -7.69174e-7, -3.99454e-14], [6.44814e-15, 1.12871e-12, 5.77126e-12, 0.5687, -7.69174e-7, 1.16668e-6], [-8.27181e-25, 3.99365e-18, 4.6646e-12, 0.479803, -7.69175e-7, -1.15887e-6], [6.24315e-22, -1.19716e-12, 4.66468e-12, 0.391411, -7.69175e-7, 8.98551e-6], [9.04946e-14, -1.19715e-12, 4.62862e-12, 0.303067, -7.69175e-7, -8.9901e-6], [9.37103e-14, -1.49103e-12, -7.10855e-6, 0.214551, 7.22445e-7, -2.23212e-11], [9.37229e-14, 6.2187e-13, -4.91842e-14, 0.125053, 7.22445e-7, 2.21141e-11], [-1.70344e-13, 2.28361e-21, -2.85935e-13, 0.0286327, 2.19321e-6, 6.20197e-15], [1.11289e-12, -1.04661e-12, -1.51582e-13, -2.32553e-13, -5.50312e-13, 4.96296e-16]], Array{Float64,1}[[0.0, 0.0, 0.0, 0.0, 0.0, 0.0], [0.0, 0.0, 0.0, 0.0, 0.0, 0.0], [0.0, 0.0, 0.0, 0.0, 0.0, 0.0], [0.0, 0.0, 0.0, 0.0, 0.0, 0.0], [0.0, 0.0, 0.0, 0.0, 0.0, 0.0], [0.0, 0.0, 0.0, 0.0, 0.0, 0.0], [0.0, 0.0, 0.0, 0.0, 0.0, 0.0], [0.0, 0.0, 0.0, 0.0, 0.0, 0.0], [0.0, 0.0, 0.0, 0.0, 0.0, 0.0]], [0.090018, 0.0900799, 0.0906187, 0.0901032, 0.090057, 0.0902308, 0.0912345, 0.0983334, 0.0900033], Array{Float64,1}[[-9.18882e-15, 0.0, 0.0, -2.51684e-13, 0.0, 0.657068, 0.82584, 0.0, 0.0, 0.082584  …  0.0, 0.0174151, 0.0, 0.657068, 8.65409e-6, 0.0, 0.0, 8.65409e-7, 2.51987e-13, 0.657068], [2.9732e-7, 0.0, 0.0, 2.9732e-8, -7.75482e-26, 0.5687, 0.45, 8.95066e-14, 0.0, 0.045  …  0.0, 0.05, 7.16325e-19, 0.5687, 0.0500004, -9.46514e-20, -9.94555e-20, 0.00500004, 1.3153e-16, 0.5687], [0.449999, 0.0, 0.0, 0.0449999, -1.03863e-14, 0.479803, -1.91046e-14, 0.0, 1.58751e-15, 0.0  …  0.0, 0.00499999, 0.0, 0.479803, 0.499999, 2.49834e-23, 4.44971e-15, 0.0499999, 0.0, 0.479803], [0.450003, 0.0, 0.0, 0.0450003, 1.88426e-17, 0.391411, 2.58233e-6, -6.40798e-16, 5.16988e-26, 2.58233e-7  …  0.0, 0.00500032, -1.29118e-22, 0.391411, 0.500003, 1.29247e-26, 0.0, 0.0500003, 3.10193e-25, 0.391411], [0.449991, -1.01612e-15, -2.38228e-22, 0.0449991, 0.0, 0.303067, 2.22404e-13, 0.0, 0.0, -2.25345e-13  …  -9.76845e-15, 0.0049999, 4.28358e-21, 0.303067, 0.49999, -3.10193e-25, 0.0, 0.049999, -1.48346e-15, 0.303067], [0.44999, -1.31414e-13, 0.0, 0.044999, 7.75482e-26, 0.214549, 1.52972e-5, 0.0, 1.52972e-6, -2.60209e-17  …  0.0, 0.00500158, -7.75482e-26, 0.214549, 0.499989, 2.64187e-13, -1.05559e-21, 0.0499989, 1.11511e-15, 0.214553], [0.225002, -6.62351e-13, 0.0, 0.0224985, 0.0, 0.125053, 0.225, 0.0, -2.40878e-17, 0.0225  …  8.06501e-24, 0.0274983, -2.0598e-15, 0.125053, 0.275, 1.90141e-13, -1.55096e-25, 0.0275, 0.0, 0.125053], [0.243539, 6.29267e-6, 1.50518e-6, 0.0243461, -4.81905e-14, 0.0286327, 0.206484, 1.1279e-15, 1.67137e-6, 0.0206309  …  -2.12504e-17, 0.0256377, 5.09392e-6, 0.0286327, 0.293515, 6.82739e-14, 3.44232e-6, 0.029348, 0.0, 0.0286327], [0.251202, 0.00137023, 1.90812e-5, 0.0140246, 0.00943514, 8.45022e-14, 0.232583, 0.0202496, 1.90812e-5, 0.00273757  …  0.00939559, 0.0142197, 3.82169e-7, -7.65059e-14, 0.267418, 0.00120532, -1.49088e-13, 0.0255358, 3.82169e-7, 1.64674e-14]], Array{Float64,1}[], [0.0, 0.090018, 0.180098, 0.270717, 0.36082, 0.450877, 0.541108, 0.632342, 0.730676, 0.820679], [1.0 1.0 … 1.0 1.0; 0.0 0.0 … 0.0 0.0; … ; -7.69174e-7 -7.69174e-7 … 2.19321e-6 -5.50312e-13; -1.06131e-22 -3.99454e-14 … 6.20197e-15 4.96296e-16])"
      ]
     },
     "execution_count": 73,
     "metadata": {},
     "output_type": "execute_result"
    }
   ],
   "source": [
    "sim_data = get_trajopt_data_indirect(mechanism,env,Δt,N,relax_comp=false)\n",
    "add_prob_constraints!(sim_data)\n",
    "x_min, x_max = get_prob_limits(sim_data)\n",
    "x0 = get_prob_init(sim_data)\n",
    "traj_indirect = Bilevel.trajopt(sim_data, x0=x0, x_min=x_min, x_max=x_max, quaternion_state=true, verbose=1)"
   ]
  },
  {
   "cell_type": "code",
   "execution_count": null,
   "metadata": {},
   "outputs": [],
   "source": [
    "sim_data = get_trajopt_data_semidirect(mechanism,env,Δt,N,relax_comp=false)\n",
    "add_prob_constraints!(sim_data)\n",
    "x_min, x_max = get_prob_limits(sim_data)\n",
    "x0 = get_prob_init(sim_data)\n",
    "traj_semidirect = Bilevel.trajopt(sim_data, x0=x0, x_min=x_min, x_max=x_max, quaternion_state=true, verbose=1)"
   ]
  },
  {
   "cell_type": "code",
   "execution_count": 75,
   "metadata": {},
   "outputs": [
    {
     "data": {
      "image/png": "[encoded data removed]"
     },
     "execution_count": 75,
     "metadata": {},
     "output_type": "execute_result"
    }
   ],
   "source": [
    "j = 5\n",
    "plot(traj_indirect[7],traj_indirect[8][j,:],label=\"Indirect\",seriescolor=RGB(((227,74,51) ./ 255.)...),linewidth=4,marker=6)\n",
    "plot!(traj_semidirect[7],traj_semidirect[8][j,:],label=\"Semidirect\",seriescolor=RGB(((254,232,200) ./ 255.)...),linewidth=0,marker=4)"
   ]
  },
  {
   "cell_type": "markdown",
   "metadata": {},
   "source": [
    "## Little dog"
   ]
  },
  {
   "cell_type": "code",
   "execution_count": 17,
   "metadata": {},
   "outputs": [],
   "source": [
    "urdf = joinpath(\"..\", \"urdf\", \"little_dog\", \"little_dog_2d.urdf\")\n",
    "mechanism = parse_urdf(Float64, urdf)\n",
    "\n",
    "floor = findbody(mechanism, \"floor\")\n",
    "point = Point3D(default_frame(floor), SVector([0.,0.,0.]...))\n",
    "normal = FreeVector3D(default_frame(floor), SVector([0.,0.,1.]...))\n",
    "floor_obs = Obstacle(floor, point, normal, :xyz, 1.)\n",
    "\n",
    "obstacles = [floor_obs]\n",
    "env = Environment(mechanism, urdf, obstacles);"
   ]
  },
  {
   "cell_type": "code",
   "execution_count": 18,
   "metadata": {},
   "outputs": [
    {
     "data": {
      "text/plain": [
       "(Array{Float64,1}[[0.0, -0.175, 0.0, 0.0, 0.0, 0.0, 0.0, 0.036, 0.0, 0.0, 0.0, 0.00758, 0.0, 0.002445, 0.0], [-0.000160554, -0.173514, 0.00292943, 6.17188e-13, 5.52821e-15, -4.5144e-14, 6.46885e-18, 0.284229, -0.0811904, 0.0739048, -0.291593, -0.423937, 0.137143, -0.135488, 0.491203], [-0.000241362, -0.17377, 0.0034491, 2.17509e-13, 2.93889e-11, -1.94709e-11, -1.39454e-16, 0.266239, -0.148042, 0.140426, -0.272174, -0.394752, 0.254513, -0.255871, 0.456278], [-0.000354953, -0.173638, 0.0030097, -3.34657e-14, 2.22156e-7, 1.3695e-7, -5.21066e-16, 0.276326, -0.169822, 0.162768, -0.282832, -0.412407, 0.292964, -0.296201, 0.474129], [-0.000511482, -0.173661, 0.00289793, 5.77499e-15, 2.24073e-7, 1.14463e-7, -8.22938e-16, 0.275192, -0.161013, 0.153033, -0.281264, -0.411819, 0.275804, -0.280277, 0.470102], [-0.000701835, -0.173661, 0.0026968, -3.45394e-17, 2.23156e-7, 1.14257e-7, 8.477e-15, 0.275816, -0.14471, 0.135884, -0.281531, -0.414425, 0.245136, -0.251334, 0.46903], [-0.000922093, -0.173667, 0.00248213, 4.38533e-17, 2.22801e-7, 1.13974e-7, -1.04308e-13, 0.275972, -0.135076, 0.125523, -0.281223, -0.4165, 0.226079, -0.234792, 0.466704], [-0.00116732, -0.173673, 0.00224014, -3.41778e-19, 2.22697e-7, 1.13985e-7, -1.16694e-15, 0.276247, -0.134038, 0.123865, -0.28099, -0.418978, 0.222101, -0.233983, 0.464307], [-0.00143255, -0.173679, 0.00197919, 8.89319e-19, 2.22754e-7, 1.14112e-7, 3.98129e-14, 0.276519, -0.137375, 0.126562, -0.28071, -0.421615, 0.225726, -0.241127, 0.461665], [-0.00171239, -0.173684, 0.00170375, -8.42371e-19, 2.22811e-7, 1.14247e-7, 3.16255e-14, 0.276811, -0.140784, 0.129252, -0.28042, -0.424405, 0.229352, -0.248393, 0.458887]], Array{Float64,1}[[0.0, 0.0, 0.0, 0.0, 0.0, 0.0, 0.0, 0.0, 0.0, 0.0, 0.0, 0.0, 0.0, 0.0, 0.0], [-0.001562, 0.0148636, 0.0292943, 6.17188e-12, 5.52821e-14, -4.5144e-13, 6.46885e-17, 2.48229, -0.811904, 0.739048, -2.91593, -4.31517, 1.37143, -1.37933, 4.91203], [-0.0008169, -0.00255655, 0.00519669, -3.99679e-12, 2.93834e-10, -1.94257e-10, -1.45923e-15, -0.1799, -0.668515, 0.665212, 0.194191, 0.29185, 1.1737, -1.20384, -0.349249], [-0.00113194, 0.00132205, -0.00439402, -3.34657e-13, 2.22127e-6, 1.36969e-6, -3.81613e-15, 0.100865, -0.217799, 0.223424, -0.106575, -0.176541, 0.384513, -0.403293, 0.178502], [-0.00156596, -0.000226522, -0.00111769, 5.77499e-14, 1.91733e-8, -2.2487e-7, -3.01871e-15, -0.0113372, 0.0880896, -0.0973511, 0.0156713, 0.00587539, -0.171602, 0.159237, -0.0402701], [-0.00190351, 1.13894e-5, -0.00201132, -5.80953e-14, -9.16971e-9, -2.05988e-9, 8.77887e-14, 0.00624269, 0.163029, -0.171489, -0.00266963, -0.0260584, -0.306675, 0.28943, -0.0107133], [-0.00220274, -6.29972e-5, -0.00214665, 5.85338e-14, -3.55603e-9, -2.83206e-9, -1.13087e-12, 0.0015603, 0.0963371, -0.103611, 0.00308611, -0.0207525, -0.190571, 0.165415, -0.0232656], [-0.00245243, -5.06764e-5, -0.00241996, -5.85372e-14, -1.03439e-9, 1.09658e-10, -1.16694e-14, 0.00274719, 0.010385, -0.0165804, 0.00233282, -0.0247779, -0.0397778, 0.00809028, -0.02397], [-0.00265237, -5.22848e-5, -0.00260953, 5.85461e-14, 5.65851e-10, 1.27867e-9, 4.09799e-13, 0.00272013, -0.033372, 0.0269715, 0.00279943, -0.0263736, 0.0362506, -0.0714358, -0.026415], [-0.00279846, -5.14332e-5, -0.00275436, -5.85546e-14, 5.69559e-10, 1.35032e-9, 3.16255e-13, 0.00291878, -0.0340958, 0.0268931, 0.00289826, -0.0279002, 0.0362533, -0.0726605, -0.0277786]], Array{Float64,1}[], Array{Array{Float64,1},1}[[[0.0, 0.0, 0.0, 0.0, 0.0, 0.0], [0.0, 0.0, 0.0, 0.0, 0.0, 0.0], [0.0, 0.0, 0.0, 0.0, 0.0, 0.0], [0.0, 0.0, 0.0, 0.0, 0.0, 0.0]], [[0.482606, 0.136211, 0.0582696, 0.00613369, 0.115851, 1.05201e-12], [0.0100868, 0.00258982, 0.0, -2.71051e-20, 0.00749702, 9.3661e-15], [0.0101614, -4.33681e-19, 0.00754768, 0.00261372, 0.0, 7.33925e-14], [0.48561, 0.0232352, 0.0507425, 0.154334, 0.0, -1.08842e-17]], [[0.497479, 0.1592, 0.127009, 0.0246563, 0.186614, 5.98154e-13], [0.0101876, 0.00234111, 0.0, -2.71051e-20, 0.00784647, 6.04123e-11], [0.0101375, -4.33681e-19, 0.00781624, 0.00232123, 0.0, 3.23238e-11], [0.496475, 0.0117739, 0.0521715, 0.146277, 0.0, 2.60764e-16]], [[0.48814, 0.154233, 0.126544, 0.0224754, 0.184887, -3.7274e-14], [0.00983465, 0.00216706, 0.0, -4.08084e-20, 0.0076676, 3.43171e-7], [0.00980413, -4.33681e-19, 0.00765923, 0.0021449, 0.0, -3.34578e-20], [0.488345, 0.0826103, 0.12113, 0.21463, 0.0699748, 6.62629e-16]], [[0.490178, 0.132348, 0.149611, 0.0, 0.208219, 4.46478e-14], [0.00992418, 0.00223271, 0.0, 0.0, 0.00769147, 1.09675e-8], [0.0099104, -8.67362e-19, 0.00770405, 0.00220635, 0.0, 3.81855e-8], [0.491189, 0.0822567, 0.122661, 0.215078, 0.0711929, 5.25108e-16]], [[0.489536, 0.13217, 0.149421, 0.0, 0.207945, -4.49412e-14], [0.0099995, 0.00232577, 0.0, 0.0, 0.00767373, 0.0], [0.00996527, -8.67362e-19, 0.00768087, 0.0022844, 0.0, -3.58433e-10], [0.490238, 0.082157, 0.122371, 0.214702, 0.0710076, -1.52656e-14]], [[0.489671, 0.132216, 0.149457, 0.0, 0.207998, 4.53156e-14], [0.0100585, 0.00238872, 0.0, 0.0, 0.00766981, 3.54208e-10], [0.0100102, -8.67362e-19, 0.00767944, 0.00233073, 0.0, 1.07878e-10], [0.490378, 0.0821761, 0.122414, 0.214754, 0.0710344, 1.96594e-13]], [[0.489655, 0.132219, 0.149448, 0.0, 0.207988, -4.53131e-14], [0.0100732, 0.00240589, 0.0, 0.0, 0.00766735, 7.66363e-11], [0.0100061, -8.67362e-19, 0.00767823, 0.00232789, 0.0, -1.58928e-13], [0.490306, 0.0821729, 0.122391, 0.214722, 0.0710198, -1.94599e-13]], [[0.489685, 0.132237, 0.149453, 0.0, 0.207996, 4.53148e-14], [0.0100686, 0.00240039, 0.0, 0.0, 0.00766819, 2.65962e-12], [0.00998146, -8.67362e-19, 0.00768081, 0.00230066, 0.0, 3.37503e-12], [0.490292, 0.0821761, 0.122386, 0.214713, 0.0710165, 1.2539e-13]], [[0.489711, 0.132253, 0.149456, 0.0, 0.208002, -4.5316e-14], [0.0100641, 0.00239513, 0.0, 0.0, 0.00766894, -2.61076e-16], [0.00995603, -1.30104e-18, 0.0076833, 0.00227273, 0.0, 7.88162e-14], [0.490268, 0.0821781, 0.122379, 0.214699, 0.0710118, -1.80345e-13]]], Array{Float64,1}[], [0.0, 0.1, 0.2, 0.3, 0.4, 0.5, 0.6, 0.7, 0.8, 0.9], [0.0 -0.000160554 … -0.00143255 -0.00171239; -0.175 -0.173514 … -0.173679 -0.173684; … ; 0.0 -1.37933 … -0.0714358 -0.0726605; 0.0 4.91203 … -0.026415 -0.0277786], [0.0 -0.000160554 … -0.00143255 -0.00171239; -0.175 -0.173514 … -0.173679 -0.173684; … ; 0.0 -1.08842e-17 … 1.2539e-13 -1.80345e-13; 0.0 0.48561 … 0.490292 0.490268])"
      ]
     },
     "execution_count": 18,
     "metadata": {},
     "output_type": "execute_result"
    }
   ],
   "source": [
    "N = 10\n",
    "Δt = 0.1\n",
    "q0 = [0., -.175, 0., 0., 0., 0., 0., .036, 0., 0., 0., .00758, 0., .002445, 0.]  \n",
    "v0 = zeros(num_velocities(mechanism))\n",
    "\n",
    "sim_data = get_sim_data_indirect(mechanism,env,Δt)\n",
    "null_ctrl! = (u,t,x) -> u[:] .= 0.\n",
    "x0 = MechanismState(mechanism)\n",
    "set_configuration!(x0, q0)\n",
    "set_velocity!(x0, v0)\n",
    "setdirty!(x0)\n",
    "traj = Bilevel.simulate(sim_data,null_ctrl!,x0,N)"
   ]
  },
  {
   "cell_type": "code",
   "execution_count": 5,
   "metadata": {},
   "outputs": [
    {
     "name": "stderr",
     "output_type": "stream",
     "text": [
      "┌ Info: Serving MeshCat visualizer at http://127.0.0.1:8700\n",
      "└ @ MeshCat /home/blandry/.julia/packages/MeshCat/WlA0B/src/servers.jl:24\n"
     ]
    },
    {
     "data": {
      "text/plain": [
       "Process(`\u001b[4mxdg-open\u001b[24m \u001b[4mhttp://127.0.0.1:8700\u001b[24m`, ProcessExited(0))"
      ]
     },
     "execution_count": 5,
     "metadata": {},
     "output_type": "execute_result"
    },
    {
     "name": "stdout",
     "output_type": "stream",
     "text": [
      "Created new window in existing browser session.\n"
     ]
    }
   ],
   "source": [
    "mvis = MechanismVisualizer(mechanism, URDFVisuals(urdf));\n",
    "open(mvis)"
   ]
  },
  {
   "cell_type": "code",
   "execution_count": 19,
   "metadata": {},
   "outputs": [],
   "source": [
    "setanimation!(mvis, traj[6], traj[1])"
   ]
  },
  {
   "cell_type": "code",
   "execution_count": null,
   "metadata": {},
   "outputs": [],
   "source": [
    "q_nom = [0., -.175, 0., 0., 0., 0., 0., .036, 0., 0., 0., .00758, 0., .002445, 0.] \n",
    "q_min = [-5., -.25, -2*pi, -.6, -.6, -.6, -.6, -3.5, -3.5, -3.5, -3.5, -3.1, -3.1, -3.1, -3.1]\n",
    "q_max = [5., -.1, 2*pi, .6, .6, .6, .6, 2.4, 2.4, 2.4, 2.4, 1., 1., 1., 1.]\n",
    "\n",
    "N = 20\n",
    "Δt = .1\n",
    "\n",
    "function add_prob_constraints!(sim_data)\n",
    "    vs = sim_data.vs\n",
    "\n",
    "    add_eq!(sim_data, :cq1, num_positions(mechanism), x -> vs(x, :q1) - q_nom)\n",
    "    add_eq!(sim_data, :cv1, num_velocities(mechanism), x -> vs(x, :v1))\n",
    "    \n",
    "    # final position\n",
    "    add_eq!(sim_data, :cqN, 2, x -> vs(x, Symbol(\"q\", N))[1:2] - [.1, -.175])\n",
    "end\n",
    "\n",
    "function add_prob_obj!(sim_data)\n",
    "    for n = 1:N\n",
    "        add_obj!(sim_data, Symbol(\"u\", n), x -> sim_data.vs(x, Symbol(\"u\", n))' * sim_data.vs(x, Symbol(\"u\", n)))\n",
    "    end\n",
    "end\n",
    "\n",
    "function get_prob_limits(sim_data)\n",
    "    x_min = -1e19*ones(sim_data.vs.num_vars)\n",
    "    x_max = 1e19*ones(sim_data.vs.num_vars)\n",
    "    \n",
    "    # joint limits\n",
    "    add_box_con_snopt!(x_min, x_max, sim_data, :q, q_min, q_max, 1:N)\n",
    "    add_box_con_snopt!(x_min, x_max, sim_data, :h, [.5 * Δt], [2. * Δt], 1:N-1)\n",
    "    \n",
    "    # torques limits\n",
    "    u_limit = .5\n",
    "    add_box_con_snopt!(x_min, x_max, sim_data, :u, -u_limit * ones(num_velocities(mechanism)), u_limit * ones(num_velocities(mechanism)), 1:N-1)\n",
    "    \n",
    "    x_min, x_max\n",
    "end\n",
    "\n",
    "function get_prob_init(sim_data)\n",
    "    x0 = zeros(sim_data.vs.num_vars)\n",
    "    for n = 1:N\n",
    "        x0[sim_data.vs(Symbol(\"q\", n))] .= q_nom\n",
    "    end\n",
    "    \n",
    "    x0\n",
    "end\n",
    "\n",
    "function setup_prob!(sim_data)\n",
    "    add_prob_constraints!(sim_data)\n",
    "    add_prob_obj!(sim_data)\n",
    "    x_min, x_max = get_prob_limits(sim_data)\n",
    "    x0 = get_prob_init(sim_data)\n",
    "    \n",
    "    x0, x_min, x_max\n",
    "end"
   ]
  },
  {
   "cell_type": "code",
   "execution_count": null,
   "metadata": {},
   "outputs": [],
   "source": [
    "sim_data = get_trajopt_data_indirect(mechanism,env,Δt,N,relax_comp=false)\n",
    "x0, x_min, x_max = setup_prob!(sim_data)\n",
    "traj_indirect = Bilevel.trajopt(sim_data, x0=x0, x_min=x_min, x_max=x_max, verbose=1, opt_tol=1e-3, major_feas=1e-3, minor_feas=1e-3);"
   ]
  },
  {
   "cell_type": "code",
   "execution_count": null,
   "metadata": {},
   "outputs": [],
   "source": [
    "setanimation!(mvis, traj_indirect[7], traj_indirect[1])"
   ]
  },
  {
   "cell_type": "code",
   "execution_count": null,
   "metadata": {},
   "outputs": [],
   "source": [
    "sim_data = get_trajopt_data_semidirect(mechanism,env,Δt,N,relax_comp=false)\n",
    "x0, x_min, x_max = setup_prob!(sim_data)\n",
    "traj_semidirect = Bilevel.trajopt(sim_data, x0=x0, x_min=x_min, x_max=x_max, verbose=1, opt_tol=1e-3, major_feas=1e-3, minor_feas=1e-3);"
   ]
  },
  {
   "cell_type": "code",
   "execution_count": null,
   "metadata": {},
   "outputs": [],
   "source": [
    "setanimation!(mvis, traj_semidirect[7], traj_semidirect[1])"
   ]
  },
  {
   "cell_type": "code",
   "execution_count": null,
   "metadata": {},
   "outputs": [],
   "source": [
    "traj_semidirect[1]"
   ]
  },
  {
   "cell_type": "markdown",
   "metadata": {},
   "source": [
    "## Panda arm"
   ]
  },
  {
   "cell_type": "code",
   "execution_count": null,
   "metadata": {},
   "outputs": [],
   "source": []
  }
 ],
 "metadata": {
  "kernelspec": {
   "display_name": "Julia 1.1.0",
   "language": "julia",
   "name": "julia-1.1"
  },
  "language_info": {
   "file_extension": ".jl",
   "mimetype": "application/julia",
   "name": "julia",
   "version": "1.1.0"
  }
 },
 "nbformat": 4,
 "nbformat_minor": 2
}
