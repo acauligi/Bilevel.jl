{
 "cells": [
  {
   "cell_type": "code",
   "execution_count": 1,
   "metadata": {},
   "outputs": [
    {
     "name": "stderr",
     "output_type": "stream",
     "text": [
      "┌ Info: Precompiling Bilevel [9688c538-179f-11e9-3174-495cea6b7f67]\n",
      "└ @ Base loading.jl:1186\n"
     ]
    },
    {
     "data": {
      "text/html": [
       "    <script class='js-collapse-script'>\n",
       "        var curMatch =\n",
       "            window.location.href\n",
       "            .match(/(.*?)\\/notebooks\\/.*\\.ipynb/);\n",
       "\n",
       "        curMatch = curMatch ||\n",
       "            window.location.href\n",
       "            .match(/(.*?)\\/apps\\/.*\\.ipynb/);\n",
       "\n",
       "        if ( curMatch ) {\n",
       "            $('head').append('<base href=\"' + curMatch[1] + '/\">');\n",
       "        }\n",
       "    </script>\n"
      ],
      "text/plain": [
       "HTML{String}(\"    <script class='js-collapse-script'>\\n        var curMatch =\\n            window.location.href\\n            .match(/(.*?)\\\\/notebooks\\\\/.*\\\\.ipynb/);\\n\\n        curMatch = curMatch ||\\n            window.location.href\\n            .match(/(.*?)\\\\/apps\\\\/.*\\\\.ipynb/);\\n\\n        if ( curMatch ) {\\n            \\$('head').append('<base href=\\\"' + curMatch[1] + '/\\\">');\\n        }\\n    </script>\\n\")"
      ]
     },
     "metadata": {},
     "output_type": "display_data"
    },
    {
     "data": {
      "text/html": [
       "<script class='js-collapse-script' src='/assetserver/ac453cbe1838fe7a6d3794b312bfa72db072de98-assets/webio/dist/bundle.js'></script>"
      ],
      "text/plain": [
       "HTML{String}(\"<script class='js-collapse-script' src='/assetserver/ac453cbe1838fe7a6d3794b312bfa72db072de98-assets/webio/dist/bundle.js'></script>\")"
      ]
     },
     "metadata": {},
     "output_type": "display_data"
    },
    {
     "data": {
      "text/html": [
       "<script class='js-collapse-script' src='/assetserver/ac453cbe1838fe7a6d3794b312bfa72db072de98-assets/providers/ijulia_setup.js'></script>"
      ],
      "text/plain": [
       "HTML{String}(\"<script class='js-collapse-script' src='/assetserver/ac453cbe1838fe7a6d3794b312bfa72db072de98-assets/providers/ijulia_setup.js'></script>\")"
      ]
     },
     "metadata": {},
     "output_type": "display_data"
    },
    {
     "data": {
      "text/html": [
       "  <script class='js-collapse-script'>\n",
       "    $('.js-collapse-script').parent('.output_subarea').css('padding', '0');\n",
       "  </script>\n"
      ],
      "text/plain": [
       "HTML{String}(\"  <script class='js-collapse-script'>\\n    \\$('.js-collapse-script').parent('.output_subarea').css('padding', '0');\\n  </script>\\n\")"
      ]
     },
     "metadata": {},
     "output_type": "display_data"
    },
    {
     "name": "stderr",
     "output_type": "stream",
     "text": [
      "┌ Error: evaluation error\n",
      "│   mod = Bilevel\n",
      "│   ex = const usrfun = #= /Users/blandry/.julia/dev/Bilevel/src/solvers/snopt.jl:154 =# @cfunction(objcon_wrapper, Cvoid, (Ptr{Clong}, Ref{Clong}, Ptr{Cdouble}, Ref{Clong}, Ref{Clong}, Ptr{Cdouble}, Ref{Clong}, Ref{Clong}, Ptr{Cdouble}, Ptr{Cchar}, Ref{Clong}, Ptr{Clong}, Ref{Clong}, Ptr{Cdouble}, Ref{Clong}))\n",
      "│   exception = (ErrorException(\"invalid lookup expr (\\$(QuoteNode(Core.svec)))(JuliaInterpreter.SSAValue(2), JuliaInterpreter.SSAValue(3), JuliaInterpreter.SSAValue(4), JuliaInterpreter.SSAValue(5), JuliaInterpreter.SSAValue(6), JuliaInterpreter.SSAValue(7), JuliaInterpreter.SSAValue(8), JuliaInterpreter.SSAValue(9), JuliaInterpreter.SSAValue(10), JuliaInterpreter.SSAValue(11), JuliaInterpreter.SSAValue(12), JuliaInterpreter.SSAValue(13), JuliaInterpreter.SSAValue(14), JuliaInterpreter.SSAValue(15), JuliaInterpreter.SSAValue(16))\"), Union{Ptr{Nothing}, InterpreterIP}[Ptr{Nothing} @0x000000010377b572, Ptr{Nothing} @0x000000010375271d, Ptr{Nothing} @0x0000000116ddf858, Ptr{Nothing} @0x0000000116dea4cf, Ptr{Nothing} @0x000000011cc08eaa, Ptr{Nothing} @0x000000011cc09444, Ptr{Nothing} @0x0000000116deaaee, Ptr{Nothing} @0x0000000116dec03a, Ptr{Nothing} @0x0000000116defe55, Ptr{Nothing} @0x0000000116de93be, Ptr{Nothing} @0x0000000116de9f04, Ptr{Nothing} @0x0000000116ddb82d, Ptr{Nothing} @0x0000000116dd8da7, Ptr{Nothing} @0x0000000116dd8e04, Ptr{Nothing} @0x0000000116dd8023, Ptr{Nothing} @0x0000000116dd861f, Ptr{Nothing} @0x0000000116dcdc74, Ptr{Nothing} @0x0000000116dce615, Ptr{Nothing} @0x0000000116dd0178, Ptr{Nothing} @0x0000000116dcc8c1, Ptr{Nothing} @0x0000000103752e87])\n",
      "└ @ Revise /Users/blandry/.julia/packages/Revise/UtBAC/src/lowered.jl:52\n"
     ]
    }
   ],
   "source": [
    "using Revise\n",
    "using Bilevel\n",
    "\n",
    "using RigidBodyDynamics\n",
    "using MeshCatMechanisms\n",
    "using MeshCat\n",
    "using Plots\n",
    "using LinearAlgebra\n",
    "using StaticArrays\n",
    "\n",
    "gr(size=(800,500),html_output_format=:png,\n",
    "    seriescolor=:magma,background_color_legend=:white,\n",
    "    background=RGB(((240,240,240) ./ 255.)...));"
   ]
  },
  {
   "cell_type": "markdown",
   "metadata": {},
   "source": [
    "# Contact"
   ]
  },
  {
   "cell_type": "markdown",
   "metadata": {},
   "source": [
    "## Single point with contact"
   ]
  },
  {
   "cell_type": "code",
   "execution_count": null,
   "metadata": {},
   "outputs": [],
   "source": [
    "urdf = joinpath(\"..\", \"urdf\", \"ball.urdf\")\n",
    "mechanism = parse_urdf(Float64, urdf)\n",
    "\n",
    "floor = findbody(mechanism, \"floor\")\n",
    "point = Point3D(default_frame(floor), SVector([0.,0.,0.]...))\n",
    "normal = FreeVector3D(default_frame(floor), SVector([0.,0.,1.]...))\n",
    "floor_obs = Obstacle(floor, point, normal, :xyz, 1.)\n",
    "\n",
    "obstacles = [floor_obs]\n",
    "env = Environment(mechanism, urdf, obstacles)"
   ]
  },
  {
   "cell_type": "code",
   "execution_count": null,
   "metadata": {},
   "outputs": [],
   "source": [
    "q1 = [1., 0., 0., 0., 0., 0., 0.]\n",
    "qN = [1., 0., 0., 0., .1, 0., 0.]\n",
    "N = 5\n",
    "Δt = .005\n",
    "\n",
    "function add_prob_constraints!(sim_data)\n",
    "    vs = sim_data.vs\n",
    "\n",
    "    add_eq!(sim_data, :cq1, length(q1), x -> vs(x, :q1) - q1)\n",
    "    add_eq!(sim_data, :cqN, length(qN), x -> vs(x, Symbol(\"q\", N)) - qN)\n",
    "\n",
    "    add_box_con!(sim_data, :u, :u, zeros(num_velocities(mechanism)), zeros(num_velocities(mechanism)), 1:N-1)\n",
    "    add_box_con!(sim_data, :hbox, :h, .5 * [Δt], 2. * [Δt], 1:N-1)\n",
    "end"
   ]
  },
  {
   "cell_type": "code",
   "execution_count": null,
   "metadata": {},
   "outputs": [],
   "source": [
    "sim_data = get_trajopt_data_indirect(mechanism,env,Δt,N,relax_comp=false)\n",
    "add_prob_constraints!(sim_data)\n",
    "traj_indirect = Bilevel.trajopt(sim_data, quaternion_state=true, verbose=1)"
   ]
  },
  {
   "cell_type": "code",
   "execution_count": null,
   "metadata": {},
   "outputs": [],
   "source": [
    "sim_data = get_trajopt_data_semidirect(mechanism,env,Δt,N,relax_comp=false)\n",
    "add_prob_constraints!(sim_data)\n",
    "traj_semidirect = Bilevel.trajopt(sim_data, quaternion_state=true, verbose=1)"
   ]
  },
  {
   "cell_type": "code",
   "execution_count": null,
   "metadata": {},
   "outputs": [],
   "source": [
    "sim_data = get_trajopt_data_direct(mechanism,env,Δt,N,relax_comp=false)\n",
    "add_prob_constraints!(sim_data)\n",
    "traj_direct = Bilevel.trajopt(sim_data, quaternion_state=true, verbose=1)"
   ]
  },
  {
   "cell_type": "code",
   "execution_count": null,
   "metadata": {},
   "outputs": [],
   "source": [
    "j = 7\n",
    "plot(traj_indirect[7],traj_indirect[8][j,:],label=\"Indirect\",seriescolor=RGB(((227,74,51) ./ 255.)...),linewidth=4,marker=6)\n",
    "plot!(traj_semidirect[7],traj_semidirect[8][j,:],label=\"Semidirect\",seriescolor=RGB(((254,232,200) ./ 255.)...),linewidth=0,marker=4)\n",
    "plot!(traj_direct[7],traj_direct[8][j,:],label=\"Direct\",seriescolor=RGB(((224,132,200) ./ 255.)...),linewidth=0,marker=4)"
   ]
  },
  {
   "cell_type": "markdown",
   "metadata": {},
   "source": [
    "## Little dog"
   ]
  },
  {
   "cell_type": "code",
   "execution_count": 38,
   "metadata": {},
   "outputs": [],
   "source": [
    "urdf = joinpath(\"..\", \"urdf\", \"little_dog\", \"little_dog.urdf\")\n",
    "mechanism = parse_urdf(Float64, urdf)\n",
    "\n",
    "floor = findbody(mechanism, \"floor\")\n",
    "point = Point3D(default_frame(floor), SVector([0.,0.,0.]...))\n",
    "normal = FreeVector3D(default_frame(floor), SVector([0.,0.,1.]...))\n",
    "floor_obs = Obstacle(floor, point, normal, :xyz, 1.)\n",
    "\n",
    "obstacles = [floor_obs]\n",
    "env = Environment(mechanism, urdf, obstacles);"
   ]
  },
  {
   "cell_type": "code",
   "execution_count": 39,
   "metadata": {},
   "outputs": [
    {
     "data": {
      "text/plain": [
       "setup_prob! (generic function with 1 method)"
      ]
     },
     "execution_count": 39,
     "metadata": {},
     "output_type": "execute_result"
    }
   ],
   "source": [
    "q_nom = [1., 0., 0., 0., 0., 0., .175, 0., 0., 0., 0., .036, 0., 0., 0., .00758, 0., .002445, 0.]  \n",
    "q_min = [-1., -1., -1., -1., -.1, -.01, .05, -.6, -.6, -.6, -.6, -3.5, -3.5, -3.5, -3.5, -3.1, -3.1, -3.1, -3.1]\n",
    "q_max = [1., 1., 1., 1., 5., .01, .2, .6, .6, .6, .6, 2.4, 2.4, 2.4, 2.4, 1., 1., 1., 1.]\n",
    "\n",
    "N = 10\n",
    "Δt = .05\n",
    "\n",
    "function add_prob_constraints!(sim_data)\n",
    "    vs = sim_data.vs\n",
    "\n",
    "    add_eq!(sim_data, :cq1, num_positions(mechanism), x -> vs(x, :q1) - q_nom)\n",
    "    add_eq!(sim_data, :cv1, num_velocities(mechanism), x -> vs(x, :v1))\n",
    "end\n",
    "\n",
    "function add_prob_obj!(sim_data)\n",
    "    add_obj!(sim_data, :xf, x -> -sim_data.vs(x, Symbol(\"q\", N))[5])\n",
    "end\n",
    "\n",
    "function get_prob_limits(sim_data)\n",
    "    x_min = -1e19*ones(sim_data.vs.num_vars)\n",
    "    x_max = 1e19*ones(sim_data.vs.num_vars)\n",
    "    \n",
    "    # joint limits\n",
    "    add_box_con_snopt!(x_min, x_max, sim_data, :q, q_min, q_max, 1:N)\n",
    "    add_box_con_snopt!(x_min, x_max, sim_data, :h, [.5 * Δt], [2. * Δt], 1:N-1)\n",
    "    \n",
    "    # torques limits\n",
    "    u_limit = .5\n",
    "    add_box_con_snopt!(x_min, x_max, sim_data, :u, -u_limit * ones(num_velocities(mechanism)), u_limit * ones(num_velocities(mechanism)), 1:N-1)\n",
    "\n",
    "    x_min, x_max\n",
    "end\n",
    "\n",
    "function get_prob_init(sim_data)\n",
    "    x0 = zeros(sim_data.vs.num_vars)\n",
    "    for n = 1:N\n",
    "        x0[sim_data.vs(Symbol(\"q\", n))] .= q_nom\n",
    "    end\n",
    "    \n",
    "    x0\n",
    "end\n",
    "\n",
    "function setup_prob!(sim_data)\n",
    "    add_prob_constraints!(sim_data)\n",
    "    add_prob_obj!(sim_data)\n",
    "    x_min, x_max = get_prob_limits(sim_data)\n",
    "    x0 = get_prob_init(sim_data)\n",
    "    \n",
    "    x0, x_min, x_max\n",
    "end"
   ]
  },
  {
   "cell_type": "code",
   "execution_count": 18,
   "metadata": {},
   "outputs": [
    {
     "name": "stderr",
     "output_type": "stream",
     "text": [
      "┌ Info: Serving MeshCat visualizer at http://127.0.0.1:8701\n",
      "└ @ MeshCat /Users/blandry/.julia/packages/MeshCat/WlA0B/src/servers.jl:24\n"
     ]
    },
    {
     "data": {
      "text/plain": [
       "Process(`\u001b[4mopen\u001b[24m \u001b[4mhttp://127.0.0.1:8701\u001b[24m`, ProcessExited(0))"
      ]
     },
     "execution_count": 18,
     "metadata": {},
     "output_type": "execute_result"
    }
   ],
   "source": [
    "mvis = MechanismVisualizer(mechanism, URDFVisuals(urdf));\n",
    "open(mvis)"
   ]
  },
  {
   "cell_type": "code",
   "execution_count": 16,
   "metadata": {},
   "outputs": [
    {
     "name": "stdout",
     "output_type": "stream",
     "text": [
      "Resource limit error: iteration limit reached\n"
     ]
    }
   ],
   "source": [
    "sim_data = get_trajopt_data_indirect(mechanism,env,Δt,N,relax_comp=false)\n",
    "x0, x_min, x_max = setup_prob!(sim_data)\n",
    "traj_indirect = Bilevel.trajopt(sim_data, x0=x0, x_min=x_min, x_max=x_max, verbose=1, opt_tol=1e-3, major_feas=1e-3, minor_feas=1e-3);"
   ]
  },
  {
   "cell_type": "code",
   "execution_count": 19,
   "metadata": {},
   "outputs": [],
   "source": [
    "setanimation!(mvis, traj_indirect[7], traj_indirect[1])"
   ]
  },
  {
   "cell_type": "code",
   "execution_count": 40,
   "metadata": {},
   "outputs": [],
   "source": [
    "sim_data = get_trajopt_data_semidirect(mechanism,env,Δt,N,relax_comp=false)\n",
    "x0, x_min, x_max = setup_prob!(sim_data)\n",
    "traj_semidirect = Bilevel.trajopt(sim_data, x0=x0, x_min=x_min, x_max=x_max, verbose=1, opt_tol=1e-3, major_feas=1e-3, minor_feas=1e-3);"
   ]
  },
  {
   "cell_type": "code",
   "execution_count": null,
   "metadata": {},
   "outputs": [],
   "source": [
    "setanimation!(mvis, traj_semidirect[7], traj_semidirect[1])"
   ]
  }
 ],
 "metadata": {
  "kernelspec": {
   "display_name": "Julia 1.1.0",
   "language": "julia",
   "name": "julia-1.1"
  },
  "language_info": {
   "file_extension": ".jl",
   "mimetype": "application/julia",
   "name": "julia",
   "version": "1.1.0"
  }
 },
 "nbformat": 4,
 "nbformat_minor": 2
}
