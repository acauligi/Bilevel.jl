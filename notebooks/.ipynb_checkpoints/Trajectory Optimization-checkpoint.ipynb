{
 "cells": [
  {
   "cell_type": "code",
   "execution_count": 1,
   "metadata": {},
   "outputs": [
    {
     "name": "stderr",
     "output_type": "stream",
     "text": [
      "┌ Info: Precompiling Bilevel [9688c538-179f-11e9-3174-495cea6b7f67]\n",
      "└ @ Base loading.jl:1186\n"
     ]
    },
    {
     "data": {
      "text/html": [
       "    <script class='js-collapse-script'>\n",
       "        var curMatch =\n",
       "            window.location.href\n",
       "            .match(/(.*?)\\/notebooks\\/.*\\.ipynb/);\n",
       "\n",
       "        curMatch = curMatch ||\n",
       "            window.location.href\n",
       "            .match(/(.*?)\\/apps\\/.*\\.ipynb/);\n",
       "\n",
       "        if ( curMatch ) {\n",
       "            $('head').append('<base href=\"' + curMatch[1] + '/\">');\n",
       "        }\n",
       "    </script>\n"
      ],
      "text/plain": [
       "HTML{String}(\"    <script class='js-collapse-script'>\\n        var curMatch =\\n            window.location.href\\n            .match(/(.*?)\\\\/notebooks\\\\/.*\\\\.ipynb/);\\n\\n        curMatch = curMatch ||\\n            window.location.href\\n            .match(/(.*?)\\\\/apps\\\\/.*\\\\.ipynb/);\\n\\n        if ( curMatch ) {\\n            \\$('head').append('<base href=\\\"' + curMatch[1] + '/\\\">');\\n        }\\n    </script>\\n\")"
      ]
     },
     "metadata": {},
     "output_type": "display_data"
    },
    {
     "data": {
      "text/html": [
       "<script class='js-collapse-script' src='/assetserver/ac453cbe1838fe7a6d3794b312bfa72db072de98-assets/webio/dist/bundle.js'></script>"
      ],
      "text/plain": [
       "HTML{String}(\"<script class='js-collapse-script' src='/assetserver/ac453cbe1838fe7a6d3794b312bfa72db072de98-assets/webio/dist/bundle.js'></script>\")"
      ]
     },
     "metadata": {},
     "output_type": "display_data"
    },
    {
     "data": {
      "text/html": [
       "<script class='js-collapse-script' src='/assetserver/ac453cbe1838fe7a6d3794b312bfa72db072de98-assets/providers/ijulia_setup.js'></script>"
      ],
      "text/plain": [
       "HTML{String}(\"<script class='js-collapse-script' src='/assetserver/ac453cbe1838fe7a6d3794b312bfa72db072de98-assets/providers/ijulia_setup.js'></script>\")"
      ]
     },
     "metadata": {},
     "output_type": "display_data"
    },
    {
     "data": {
      "text/html": [
       "  <script class='js-collapse-script'>\n",
       "    $('.js-collapse-script').parent('.output_subarea').css('padding', '0');\n",
       "  </script>\n"
      ],
      "text/plain": [
       "HTML{String}(\"  <script class='js-collapse-script'>\\n    \\$('.js-collapse-script').parent('.output_subarea').css('padding', '0');\\n  </script>\\n\")"
      ]
     },
     "metadata": {},
     "output_type": "display_data"
    },
    {
     "name": "stderr",
     "output_type": "stream",
     "text": [
      "┌ Error: evaluation error\n",
      "│   mod = Bilevel\n",
      "│   ex = const usrfun = #= /Users/blandry/.julia/dev/Bilevel/src/solvers/snopt.jl:154 =# @cfunction(objcon_wrapper, Cvoid, (Ptr{Clong}, Ref{Clong}, Ptr{Cdouble}, Ref{Clong}, Ref{Clong}, Ptr{Cdouble}, Ref{Clong}, Ref{Clong}, Ptr{Cdouble}, Ptr{Cchar}, Ref{Clong}, Ptr{Clong}, Ref{Clong}, Ptr{Cdouble}, Ref{Clong}))\n",
      "│   exception = (ErrorException(\"invalid lookup expr (\\$(QuoteNode(Core.svec)))(JuliaInterpreter.SSAValue(2), JuliaInterpreter.SSAValue(3), JuliaInterpreter.SSAValue(4), JuliaInterpreter.SSAValue(5), JuliaInterpreter.SSAValue(6), JuliaInterpreter.SSAValue(7), JuliaInterpreter.SSAValue(8), JuliaInterpreter.SSAValue(9), JuliaInterpreter.SSAValue(10), JuliaInterpreter.SSAValue(11), JuliaInterpreter.SSAValue(12), JuliaInterpreter.SSAValue(13), JuliaInterpreter.SSAValue(14), JuliaInterpreter.SSAValue(15), JuliaInterpreter.SSAValue(16))\"), Union{Ptr{Nothing}, InterpreterIP}[Ptr{Nothing} @0x0000000108228572, Ptr{Nothing} @0x00000001081ff71d, Ptr{Nothing} @0x000000011b88ed28, Ptr{Nothing} @0x000000011b89999f, Ptr{Nothing} @0x000000012167ceaa, Ptr{Nothing} @0x000000012167d444, Ptr{Nothing} @0x000000011b899fbe, Ptr{Nothing} @0x000000011b89b50a, Ptr{Nothing} @0x000000011b89f325, Ptr{Nothing} @0x000000011b89888e, Ptr{Nothing} @0x000000011b8993d4, Ptr{Nothing} @0x000000011b88acfd, Ptr{Nothing} @0x000000011b888277, Ptr{Nothing} @0x000000011b8882d4, Ptr{Nothing} @0x000000011b8874f3, Ptr{Nothing} @0x000000011b887aef, Ptr{Nothing} @0x000000011b87d144, Ptr{Nothing} @0x000000011b87dae5, Ptr{Nothing} @0x000000011b87f648, Ptr{Nothing} @0x000000011b87bd91, Ptr{Nothing} @0x00000001081ffe87])\n",
      "└ @ Revise /Users/blandry/.julia/packages/Revise/UtBAC/src/lowered.jl:52\n"
     ]
    }
   ],
   "source": [
    "using Revise\n",
    "using Bilevel\n",
    "\n",
    "using RigidBodyDynamics\n",
    "using MeshCatMechanisms\n",
    "using MeshCat\n",
    "using Plots\n",
    "using LinearAlgebra\n",
    "using StaticArrays\n",
    "\n",
    "gr(size=(800,500),html_output_format=:png,\n",
    "    seriescolor=:magma,background_color_legend=:white,\n",
    "    background=RGB(((240,240,240) ./ 255.)...));"
   ]
  },
  {
   "cell_type": "markdown",
   "metadata": {},
   "source": [
    "# Contact"
   ]
  },
  {
   "cell_type": "markdown",
   "metadata": {},
   "source": [
    "## Single point with contact"
   ]
  },
  {
   "cell_type": "code",
   "execution_count": 2,
   "metadata": {},
   "outputs": [
    {
     "data": {
      "text/plain": [
       "Environment(Contact[Contact(Spanning tree:\n",
       "Vertex: world (root)\n",
       "  Vertex: floor, Edge: floor_to_world\n",
       "    Vertex: ball, Edge: floor_to_ball\n",
       "No non-tree joints., ball, Point3D in \"after_floor_to_ball\": [0.0, 0.0, 0.0], Obstacle(floor, Point3D in \"after_floor_to_world\": [0.0, 0.0, 0.0], FreeVector3D in \"after_floor_to_world\": [0.0, 0.0, 1.0], [1.0 6.12323e-17 -1.0 -1.83697e-16; 0.0 1.0 1.22465e-16 -1.0; 0.0 0.0 0.0 0.0], 1.0, false))])"
      ]
     },
     "execution_count": 2,
     "metadata": {},
     "output_type": "execute_result"
    }
   ],
   "source": [
    "urdf = joinpath(\"..\", \"urdf\", \"ball.urdf\")\n",
    "mechanism = parse_urdf(Float64, urdf)\n",
    "\n",
    "floor = findbody(mechanism, \"floor\")\n",
    "point = Point3D(default_frame(floor), SVector([0.,0.,0.]...))\n",
    "normal = FreeVector3D(default_frame(floor), SVector([0.,0.,1.]...))\n",
    "floor_obs = Obstacle(floor, point, normal, :xyz, 1.)\n",
    "\n",
    "obstacles = [floor_obs]\n",
    "env = Environment(mechanism, urdf, obstacles)"
   ]
  },
  {
   "cell_type": "code",
   "execution_count": 61,
   "metadata": {},
   "outputs": [
    {
     "data": {
      "text/plain": [
       "(Array{Float64,1}[[1.0, 0.0, 0.0, 0.0, 0.0, 0.0, 0.0], [1.0, 0.0, 0.0, -3.23117e-27, 0.00125475, -6.31089e-30, 0.0], [1.0, 0.0, -6.01671e-8, -1.29247e-26, 0.00226425, -3.78653e-29, 0.0], [1.0, 0.0, -1.8048e-7, 1.09427e-13, 0.0030285, 2.9699e-20, 0.0], [1.0, 0.0, -3.00793e-7, 1.09427e-13, 0.0035475, 2.9699e-20, 0.0], [1.0, 0.0, -4.21106e-7, 1.09427e-13, 0.00382125, 2.9699e-20, 0.0], [1.0, 0.0, -5.4142e-7, 1.09427e-13, 0.00384976, 2.9699e-20, 0.0], [1.0, -1.05137e-16, -6.19973e-5, 8.546e-15, 0.00384976, -9.10145e-17, 0.0], [1.0, -1.05137e-16, -0.000123453, 8.546e-15, 0.00384976, -2.45091e-13, 0.0], [1.0, -1.05137e-16, -0.000184909, 8.546e-15, 0.00384976, -2.45091e-13, 0.0]], Array{Float64,1}[[0.0, 0.0, 0.0, 0.3, 0.0, 0.0], [0.0, 0.0, -8.27181e-25, 0.25095, 0.0, -1.93738e-11], [0.0, -2.40668e-5, -3.30872e-24, 0.2019, 0.0, -3.01979e-8], [0.0, -4.81252e-5, -2.73517e-16, 0.15285, 6.21592e-18, -6.69756e-8], [0.0, -4.81252e-5, -2.73517e-16, 0.1038, 6.21592e-18, -7.42475e-8], [0.0, -4.81252e-5, -2.73517e-16, 0.0547502, 6.21592e-18, -5.7914e-8], [0.0, -4.81252e-5, -2.73517e-16, 0.00570022, 6.21592e-18, -1.79751e-8], [0.0, -0.0245824, 3.41867e-12, -2.1843e-12, 2.17986e-12, -3.58675e-11], [0.0, -0.0245824, 3.41867e-12, -5.86247e-13, 2.17986e-12, 1.1731e-8], [0.0, -0.0245824, 3.41867e-12, -2.98257e-10, 4.97669e-20, -6.77126e-7]], Array{Float64,1}[], Array{Float64,1}[[0.0, 0.0, 0.0, 0.0, 0.0, 0.0], [1.0, 0.0, 0.0, 0.999997, 0.0, 0.25095], [1.0, 0.0, 0.0, 0.999999, 0.0, 0.2019], [1.0, 0.0, 0.0, 1.0, 0.0, 0.15285], [1.0, 0.0, 0.0, 1.0, 0.0, 0.1038], [1.0, 0.0, 0.0, 1.0, 0.0, 0.0547502], [1.0, 0.0, 0.0, 1.0, 0.0, 0.00570022], [0.999986, 6.07008e-6, 4.44395e-11, 0.116218, 0.0, 2.17985e-12], [0.999986, 0.0581122, 0.0, 0.0581122, 0.0, -2.26434e-22], [0.999986, 0.0581122, 0.0, 0.0581122, 0.0, -2.26434e-22]], Array{Float64,1}[], [0.0, 0.005, 0.01, 0.015, 0.02, 0.025, 0.03, 0.035, 0.04, 0.045], [1.0 1.0 … 1.0 1.0; 0.0 0.0 … -1.05137e-16 -1.05137e-16; … ; 0.0 0.0 … 2.17986e-12 4.97669e-20; 0.0 -1.93738e-11 … 1.1731e-8 -6.77126e-7])"
      ]
     },
     "execution_count": 61,
     "metadata": {},
     "output_type": "execute_result"
    }
   ],
   "source": [
    "sim_data = get_sim_data_indirect(mechanism,env,.005,relax_comp=false)\n",
    "control! = (u,t,x) -> u[:] .= 0.\n",
    "state0 = MechanismState(mechanism)\n",
    "set_velocity!(state0, [0.,0.,0.,.3,0.,0.])\n",
    "sim = Bilevel.simulate(sim_data,control!,state0,10)"
   ]
  },
  {
   "cell_type": "code",
   "execution_count": 62,
   "metadata": {},
   "outputs": [
    {
     "data": {
      "image/png": "[encoded data removed]"
     },
     "execution_count": 62,
     "metadata": {},
     "output_type": "execute_result"
    }
   ],
   "source": [
    "plot(sim[6],sim[7][5,:],label=\"Indirect\",seriescolor=RGB(((227,74,51) ./ 255.)...),linewidth=4,marker=6)"
   ]
  },
  {
   "cell_type": "code",
   "execution_count": 65,
   "metadata": {},
   "outputs": [
    {
     "data": {
      "text/plain": [
       "7-element Array{Float64,1}:\n",
       "  0.9999999772391998    \n",
       " -1.0513738975687836e-16\n",
       " -0.00018490913818571626\n",
       "  8.546002609505338e-15 \n",
       "  0.003849755372440942  \n",
       " -2.4509101539819656e-13\n",
       "  0.0                   "
      ]
     },
     "execution_count": 65,
     "metadata": {},
     "output_type": "execute_result"
    }
   ],
   "source": [
    "sim[1][end]"
   ]
  },
  {
   "cell_type": "code",
   "execution_count": 95,
   "metadata": {},
   "outputs": [
    {
     "data": {
      "text/plain": [
       "add_prob_constraints! (generic function with 1 method)"
      ]
     },
     "execution_count": 95,
     "metadata": {},
     "output_type": "execute_result"
    }
   ],
   "source": [
    "q1 = [1., 0., 0., 0., 0., 0., 0.]\n",
    "qN = [1., 0., 0., 0., .004, 0., 0.]\n",
    "N = 10\n",
    "Δt = .005\n",
    "\n",
    "function add_prob_constraints!(sim_data)\n",
    "    vs = sim_data.vs\n",
    "\n",
    "    add_eq!(sim_data, :cq1, length(q1), x -> vs(x, :q1) - q1)\n",
    "    add_eq!(sim_data, :cqN, length(qN), x -> vs(x, Symbol(\"q\", N)) - qN)\n",
    "    add_eq!(sim_data, :cv1, 1, x -> vs(x, :v1)[6])\n",
    "    add_eq!(sim_data, :cvN, 1, x -> vs(x, Symbol(\"v\", N))[4])\n",
    "\n",
    "    add_box_con!(sim_data, :u, :u, zeros(num_velocities(mechanism)), zeros(num_velocities(mechanism)), 1:N-1)\n",
    "    add_box_con!(sim_data, :hbox, :h, 1. * [Δt], 1. * [Δt], 1:N-1)\n",
    "end"
   ]
  },
  {
   "cell_type": "code",
   "execution_count": 68,
   "metadata": {},
   "outputs": [
    {
     "name": "stdout",
     "output_type": "stream",
     "text": [
      "Finished successfully: optimality conditions satisfied\n"
     ]
    },
    {
     "data": {
      "text/plain": [
       "(Array{Float64,1}[[1.0, -1.36315e-13, 0.0, 0.0, 0.0, 0.0, 0.0], [1.0, -1.36315e-13, 0.000111996, -3.73908e-18, 0.00128011, -8.05589e-13, 7.58708e-16], [1.0, -1.36315e-13, 0.000384679, -1.24278e-16, 0.00231483, -1.61118e-12, -5.0843e-20], [1.0, -1.36315e-13, 0.000576551, -8.45732e-17, 0.00310422, -2.41678e-12, 5.32473e-15], [1.0, 1.88537e-12, 0.00084813, 3.23266e-9, 0.00364821, -1.63588e-12, 0.0], [0.999999, 5.17756e-12, 0.00134661, 8.99917e-9, 0.00394671, 1.97632e-12, 6.46235e-27], [0.999999, -1.99561e-12, 0.00124707, -2.40921e-9, 0.004, -1.41667e-14, 2.32707e-11], [1.0, 0.0, 0.000826125, 0.0, 0.004, -1.80982e-17, 0.0], [1.0, 0.0, 0.000411403, 0.0, 0.004, 2.45e-13, 4.03184e-14], [1.0, 0.0, 0.0, 0.0, 0.004, 0.0, 0.0]], Array{Float64,1}[[0.0, 0.0, 0.0, 0.305082, -1.61118e-10, 0.0], [0.0, 0.0447985, 0.0, 0.256021, -1.61118e-10, 5.73468e-5], [0.0, 0.109073, 0.0, 0.206945, -1.61118e-10, 0.000159215], [0.0, 0.0767474, 0.0, 0.157875, -1.61118e-10, 0.000182046], [0.0, 0.108632, 1.29306e-6, 0.108798, -5.47236e-10, 0.00018455], [0.0, 0.199391, 2.3066e-6, 0.059699, -3.52046e-10, 0.000160783], [2.9304e-9, -0.0398141, -4.56335e-6, 0.0106589, -3.45138e-10, 2.65896e-5], [0.0, -0.168379, 9.63684e-7, -8.52885e-12, 1.23476e-12, -4.65413e-9], [0.0, -0.165889, 0.0, -3.7859e-15, -8.96215e-14, 7.77523e-12], [0.0, -0.164561, 0.0, 0.0, -7.44787e-18, -8.06368e-12]], Array{Float64,1}[[0.0, 0.0, 0.0, 0.0, 0.0, 0.0], [0.0, 0.0, 0.0, 0.0, 0.0, 0.0], [0.0, 0.0, 0.0, 0.0, 0.0, 0.0], [0.0, 0.0, 0.0, 0.0, 0.0, 0.0], [0.0, 0.0, 0.0, 0.0, 0.0, 0.0], [0.0, 0.0, 0.0, 0.0, 0.0, 0.0], [0.0, 0.0, 0.0, 0.0, 0.0, 0.0], [0.0, 0.0, 0.0, 0.0, 0.0, 0.0], [0.0, 0.0, 0.0, 0.0, 0.0, 0.0]], [0.005, 0.005, 0.00500009, 0.005, 0.005, 0.005, 0.005, 0.005, 0.005], Array{Float64,1}[[1.00022, -7.23411e-14, 0.0, 1.00022, 0.0, 0.256021], [1.00055, 5.9368e-25, 0.0, 1.00055, -1.94886e-24, 0.206945], [1.00038, 0.0, 0.0, 1.00038, 0.0, 0.157875], [1.00054, 0.0, 1.37277e-21, 1.00054, 7.12253e-17, 0.108798], [1.001, 0.0, 0.0, 1.001, 0.0, 0.0596992], [0.999801, -9.53275e-16, 0.0, 0.999801, 0.0, 0.010659], [0.999817, 0.184597, 0.0491583, 0.401905, 0.0491583, 2.67727e-11], [1.0, 0.121946, 0.159725, 0.121946, 0.159725, -8.96499e-14], [1.0, 0.403668, 0.0963322, 0.403668, 0.0963322, 8.46104e-18]], Array{Float64,1}[], [0.0, 0.005, 0.01, 0.0150001, 0.0200001, 0.0250001, 0.0300001, 0.0350001, 0.0400001, 0.0450001], [1.0 1.0 … 1.0 1.0; -1.36315e-13 -1.36315e-13 … 0.0 0.0; … ; -1.61118e-10 -1.61118e-10 … -8.96215e-14 -7.44787e-18; 0.0 5.73468e-5 … 7.77523e-12 -8.06368e-12])"
      ]
     },
     "execution_count": 68,
     "metadata": {},
     "output_type": "execute_result"
    }
   ],
   "source": [
    "sim_data = get_trajopt_data_indirect(mechanism,env,Δt,N,relax_comp=false)\n",
    "add_prob_constraints!(sim_data)\n",
    "traj_indirect = Bilevel.trajopt(sim_data, quaternion_state=true, verbose=1)"
   ]
  },
  {
   "cell_type": "code",
   "execution_count": 96,
   "metadata": {},
   "outputs": [
    {
     "name": "stdout",
     "output_type": "stream",
     "text": [
      "Finished successfully: optimality conditions satisfied\n"
     ]
    },
    {
     "data": {
      "text/plain": [
       "(Array{Float64,1}[[1.0, 0.0, 0.0, 0.0, 0.0, 8.97653e-15, 0.0], [1.0, 0.0, 0.000258101, 0.0, 0.00136319, 4.48823e-15, 0.0], [1.0, 0.0, 0.000410003, 0.0, 0.00248106, -2.19944e-20, 0.0], [1.0, 0.0, 0.000410003, 0.0, 0.00335367, -9.22486e-21, 0.0], [1.0, 0.0, 0.000410003, 0.0, 0.00398105, -6.93828e-21, 4.09446e-22], [1.0, 0.0, 0.000410003, 0.0, 0.00436315, -3.29206e-21, 0.0], [1.0, 0.0, 0.000410003, 0.0, 0.0045, -3.47063e-21, -3.89512e-14], [1.0, 0.0, 0.000410003, 0.0, 0.0045, -3.44453e-21, 2.56217e-15], [1.0, 0.0, 0.000240669, 0.0, 0.0045, 4.48069e-22, 0.0], [1.0, 0.0, 0.0, 0.0, 0.0045, 0.0, 0.0]], Array{Float64,1}[[0.0, 0.0, 0.0, 0.321713, -8.97716e-13, 0.0], [0.0, 0.10324, 0.0, 0.272637, -8.97654e-13, 0.000140736], [0.0, 0.0607606, 0.0, 0.223572, -8.9765e-13, 0.000183331], [0.0, 0.0, 0.0, 0.174522, -8.97648e-13, 0.000143109], [0.0, 0.0, 0.0, 0.12547, -8.97629e-13, 0.000102886], [0.0, 0.0, 0.0, 0.0764201, -8.97623e-13, 6.26649e-5], [0.0, 0.0, 0.0, 0.0273701, -8.97617e-13, 2.24437e-5], [0.0, 0.0, 0.0, 4.11246e-15, 5.22073e-21, 5.12437e-13], [0.0, -0.0677333, 0.0, -8.78357e-16, 7.78519e-19, -5.10879e-13], [0.0, -0.0962668, 0.0, 1.00902e-15, -8.96132e-20, -1.31433e-17]], Array{Float64,1}[[0.0, 0.0, 0.0, 0.0, 0.0, 0.0], [0.0, 0.0, 0.0, 0.0, 0.0, 0.0], [0.0, 0.0, 0.0, 0.0, 0.0, 0.0], [0.0, 0.0, 0.0, 0.0, 0.0, 0.0], [0.0, 0.0, 0.0, 0.0, 0.0, 0.0], [0.0, 0.0, 0.0, 0.0, 0.0, 0.0], [0.0, 0.0, 0.0, 0.0, 0.0, 0.0], [0.0, 0.0, 0.0, 0.0, 0.0, 0.0], [0.0, 0.0, 0.0, 0.0, 0.0, 0.0]], [0.00500003, 0.005, 0.005, 0.00500023, 0.005, 0.005, 0.005, 0.005, 0.00500005], Array{Float64,1}[[1.00052], [1.0003], [1.0], [1.0], [1.0], [1.0], [1.0], [1.0], [1.0]], Array{Float64,1}[], [0.0, 0.00500003, 0.01, 0.015, 0.0200003, 0.0250003, 0.0300003, 0.0350003, 0.0400003, 0.0450003], [1.0 1.0 … 1.0 1.0; 0.0 0.0 … 0.0 0.0; … ; -8.97716e-13 -8.97654e-13 … 7.78519e-19 -8.96132e-20; 0.0 0.000140736 … -5.10879e-13 -1.31433e-17])"
      ]
     },
     "execution_count": 96,
     "metadata": {},
     "output_type": "execute_result"
    }
   ],
   "source": [
    "sim_data = get_trajopt_data_semidirect(mechanism,env,Δt,N,relax_comp=false)\n",
    "add_prob_constraints!(sim_data)\n",
    "traj_semidirect = Bilevel.trajopt(sim_data, quaternion_state=true, verbose=1)"
   ]
  },
  {
   "cell_type": "code",
   "execution_count": 97,
   "metadata": {},
   "outputs": [
    {
     "data": {
      "image/png": "[encoded data removed]"
     },
     "execution_count": 97,
     "metadata": {},
     "output_type": "execute_result"
    }
   ],
   "source": [
    "j = 5\n",
    "plot(traj_indirect[7],traj_indirect[8][j,:],label=\"Indirect\",seriescolor=RGB(((227,74,51) ./ 255.)...),linewidth=4,marker=6)\n",
    "plot!(traj_semidirect[7],traj_semidirect[8][j,:],label=\"Semidirect\",seriescolor=RGB(((254,232,200) ./ 255.)...),linewidth=0,marker=4)"
   ]
  },
  {
   "cell_type": "markdown",
   "metadata": {},
   "source": [
    "## Little dog"
   ]
  },
  {
   "cell_type": "code",
   "execution_count": null,
   "metadata": {},
   "outputs": [],
   "source": [
    "urdf = joinpath(\"..\", \"urdf\", \"little_dog\", \"little_dog.urdf\")\n",
    "mechanism = parse_urdf(Float64, urdf)\n",
    "\n",
    "floor = findbody(mechanism, \"floor\")\n",
    "point = Point3D(default_frame(floor), SVector([0.,0.,0.]...))\n",
    "normal = FreeVector3D(default_frame(floor), SVector([0.,0.,1.]...))\n",
    "floor_obs = Obstacle(floor, point, normal, :xyz, 1.)\n",
    "\n",
    "obstacles = [floor_obs]\n",
    "env = Environment(mechanism, urdf, obstacles);"
   ]
  },
  {
   "cell_type": "code",
   "execution_count": null,
   "metadata": {},
   "outputs": [],
   "source": [
    "mass(mechanism) * 9.81"
   ]
  },
  {
   "cell_type": "code",
   "execution_count": null,
   "metadata": {},
   "outputs": [],
   "source": [
    "q_nom = [1., 0., 0., 0., 0., 0., .175, 0., 0., 0., 0., .036, 0., 0., 0., .00758, 0., .002445, 0.]  \n",
    "q_min = [-1., -1., -1., -1., -.1, -.01, .05, -.6, -.6, -.6, -.6, -3.5, -3.5, -3.5, -3.5, -3.1, -3.1, -3.1, -3.1]\n",
    "q_max = [1., 1., 1., 1., 5., .01, .2, .6, .6, .6, .6, 2.4, 2.4, 2.4, 2.4, 1., 1., 1., 1.]\n",
    "\n",
    "N = 10\n",
    "Δt = .05\n",
    "\n",
    "function add_prob_constraints!(sim_data)\n",
    "    vs = sim_data.vs\n",
    "\n",
    "    add_eq!(sim_data, :cq1, num_positions(mechanism), x -> vs(x, :q1) - q_nom)\n",
    "    add_eq!(sim_data, :cv1, num_velocities(mechanism), x -> vs(x, :v1))\n",
    "end\n",
    "\n",
    "function add_prob_obj!(sim_data)\n",
    "    add_obj!(sim_data, :xf, x -> -sim_data.vs(x, Symbol(\"q\", N))[5])\n",
    "end\n",
    "\n",
    "function get_prob_limits(sim_data)\n",
    "    x_min = -1e19*ones(sim_data.vs.num_vars)\n",
    "    x_max = 1e19*ones(sim_data.vs.num_vars)\n",
    "    \n",
    "    # joint limits\n",
    "    add_box_con_snopt!(x_min, x_max, sim_data, :q, q_min, q_max, 1:N)\n",
    "    add_box_con_snopt!(x_min, x_max, sim_data, :h, [.5 * Δt], [2. * Δt], 1:N-1)\n",
    "    \n",
    "    # torques limits\n",
    "    u_limit = .5\n",
    "    add_box_con_snopt!(x_min, x_max, sim_data, :u, -u_limit * ones(num_velocities(mechanism)), u_limit * ones(num_velocities(mechanism)), 1:N-1)\n",
    "\n",
    "    x_min, x_max\n",
    "end\n",
    "\n",
    "function get_prob_init(sim_data)\n",
    "    x0 = zeros(sim_data.vs.num_vars)\n",
    "    for n = 1:N\n",
    "        x0[sim_data.vs(Symbol(\"q\", n))] .= q_nom\n",
    "    end\n",
    "    \n",
    "    x0\n",
    "end\n",
    "\n",
    "function setup_prob!(sim_data)\n",
    "    add_prob_constraints!(sim_data)\n",
    "    add_prob_obj!(sim_data)\n",
    "    x_min, x_max = get_prob_limits(sim_data)\n",
    "    x0 = get_prob_init(sim_data)\n",
    "    \n",
    "    x0, x_min, x_max\n",
    "end"
   ]
  },
  {
   "cell_type": "code",
   "execution_count": null,
   "metadata": {},
   "outputs": [],
   "source": [
    "mvis = MechanismVisualizer(mechanism, URDFVisuals(urdf));\n",
    "open(mvis)"
   ]
  },
  {
   "cell_type": "code",
   "execution_count": null,
   "metadata": {},
   "outputs": [],
   "source": [
    "sim_data = get_trajopt_data_indirect(mechanism,env,Δt,N,relax_comp=false)\n",
    "x0, x_min, x_max = setup_prob!(sim_data)\n",
    "traj_indirect = Bilevel.trajopt(sim_data, x0=x0, x_min=x_min, x_max=x_max, verbose=1, opt_tol=1e-3, major_feas=1e-3, minor_feas=1e-3);"
   ]
  },
  {
   "cell_type": "code",
   "execution_count": null,
   "metadata": {},
   "outputs": [],
   "source": [
    "setanimation!(mvis, traj_indirect[7], traj_indirect[1])"
   ]
  },
  {
   "cell_type": "code",
   "execution_count": null,
   "metadata": {},
   "outputs": [],
   "source": [
    "sim_data = get_trajopt_data_semidirect(mechanism,env,Δt,N,relax_comp=false)\n",
    "x0, x_min, x_max = setup_prob!(sim_data)\n",
    "traj_semidirect = Bilevel.trajopt(sim_data, x0=x0, x_min=x_min, x_max=x_max, verbose=1, opt_tol=1e-3, major_feas=1e-3, minor_feas=1e-3);"
   ]
  },
  {
   "cell_type": "code",
   "execution_count": null,
   "metadata": {},
   "outputs": [],
   "source": [
    "setanimation!(mvis, traj_semidirect[7], traj_semidirect[1])"
   ]
  },
  {
   "cell_type": "markdown",
   "metadata": {},
   "source": [
    "## Panda arm"
   ]
  },
  {
   "cell_type": "code",
   "execution_count": null,
   "metadata": {},
   "outputs": [],
   "source": []
  }
 ],
 "metadata": {
  "kernelspec": {
   "display_name": "Julia 1.1.0",
   "language": "julia",
   "name": "julia-1.1"
  },
  "language_info": {
   "file_extension": ".jl",
   "mimetype": "application/julia",
   "name": "julia",
   "version": "1.1.0"
  }
 },
 "nbformat": 4,
 "nbformat_minor": 2
}
