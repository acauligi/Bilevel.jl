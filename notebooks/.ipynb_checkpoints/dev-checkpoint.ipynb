{
 "cells": [
  {
   "cell_type": "code",
   "execution_count": 1,
   "metadata": {
    "collapsed": false
   },
   "outputs": [
    {
     "name": "stderr",
     "output_type": "stream",
     "text": [
      "┌ Info: Precompiling Bilevel [9688c538-179f-11e9-3174-495cea6b7f67]\n",
      "└ @ Base loading.jl:1187\n"
     ]
    }
   ],
   "source": [
    "using Revise\n",
    "using Bilevel\n",
    "\n",
    "using ForwardDiff"
   ]
  },
  {
   "cell_type": "code",
   "execution_count": 241,
   "metadata": {
    "collapsed": false
   },
   "outputs": [
    {
     "data": {
      "text/plain": [
       "\"Finished successfully: optimality conditions satisfied\""
      ]
     },
     "metadata": {},
     "output_type": "display_data"
    },
    {
     "data": {
      "text/plain": [
       "2-element Array{Float64,1}:\n",
       " 49.52630320092698 \n",
       " 19.622837627545735"
      ]
     },
     "metadata": {},
     "output_type": "display_data"
    },
    {
     "data": {
      "text/plain": [
       "true"
      ]
     },
     "metadata": {},
     "output_type": "display_data"
    },
    {
     "data": {
      "text/plain": [
       "true"
      ]
     },
     "metadata": {},
     "output_type": "display_data"
    },
    {
     "data": {
      "text/plain": [
       "\"Finished successfully\""
      ]
     },
     "metadata": {},
     "output_type": "display_data"
    },
    {
     "data": {
      "text/plain": [
       "2-element Array{Float64,1}:\n",
       " 46.18327103780919\n",
       " 17.14140847461035"
      ]
     },
     "metadata": {},
     "output_type": "display_data"
    },
    {
     "data": {
      "text/plain": [
       "false"
      ]
     },
     "metadata": {},
     "output_type": "display_data"
    },
    {
     "data": {
      "text/plain": [
       "false"
      ]
     },
     "metadata": {},
     "output_type": "display_data"
    }
   ],
   "source": [
    "function get_barnesgrad()\n",
    "    a1 = 75.196\n",
    "    a3 = 0.12694\n",
    "    a5 = 1.0345e-5\n",
    "    a7 = 0.030234\n",
    "    a9 = 3.5256e-5\n",
    "    a11 = 0.25645\n",
    "    a13 = 1.3514e-5\n",
    "    a15 = -5.2375e-6\n",
    "    a17 = 7.0e-10\n",
    "    a19 = -1.6638e-6\n",
    "    a21 = 0.0005\n",
    "    a2 = -3.8112\n",
    "    a4 = -2.0567e-3\n",
    "    a6 = -6.8306\n",
    "    a8 = -1.28134e-3\n",
    "    a10 = -2.266e-7\n",
    "    a12 = -3.4604e-3\n",
    "    a14 = -28.106\n",
    "    a16 = -6.3e-8\n",
    "    a18 = 3.4054e-4\n",
    "    a20 = -2.8673\n",
    "    \n",
    "    function eval_obj(x::AbstractArray{T}) where T\n",
    "        x1 = x[1]\n",
    "        x2 = x[2]\n",
    "        y1 = x1*x2\n",
    "        y2 = y1*x1\n",
    "        y3 = x2^2\n",
    "        y4 = x1^2\n",
    "\n",
    "        f = a1 + a2*x1 + a3*y4 + a4*y4*x1 + a5*y4^2 +\n",
    "            a6*x2 + a7*y1 + a8*x1*y1 + a9*y1*y4 + a10*y2*y4 +\n",
    "            a11*y3 + a12*x2*y3 + a13*y3^2 + a14/(x2+1) +\n",
    "            a15*y3*y4 + a16*y1*y4*x2 + a17*y1*y3*y4 + a18*x1*y3 +\n",
    "            a19*y1*y3 + a20*exp(a21*y1)\n",
    "        \n",
    "        f\n",
    "    end\n",
    "\n",
    "    function eval_cons(x::AbstractArray{T}) where T\n",
    "        x1 = x[1]\n",
    "        x2 = x[2]\n",
    "        y1 = x1*x2\n",
    "        y2 = y1*x1\n",
    "        y3 = x2^2\n",
    "        y4 = x1^2\n",
    "        \n",
    "        c = zeros(T, 3)\n",
    "        c[1] = 1 - y1/700.0\n",
    "        c[2] = y4/25.0^2 - x2/5.0\n",
    "        c[3] = (x1/500.0- 0.11) - (x2/50.0-1)^2\n",
    "        \n",
    "        c\n",
    "    end\n",
    "    \n",
    "    fres = DiffResults.GradientResult(zeros(2))\n",
    "    fcfg = ForwardDiff.GradientConfig(eval_obj, zeros(2))\n",
    "    gres = DiffResults.JacobianResult(zeros(3), zeros(2))\n",
    "    gcfg = ForwardDiff.JacobianConfig(eval_cons, zeros(2))\n",
    "    function solver_fn(x)\n",
    "        ForwardDiff.gradient!(fres, eval_obj, x, fcfg)\n",
    "    \n",
    "        J = eval_obj(x)\n",
    "        gJ = ForwardDiff.gradient(eval_obj, x)\n",
    "        \n",
    "        HJ = ForwardDiff.hessian(eval_obj, x)\n",
    "        \n",
    "        ForwardDiff.jacobian!(gres, eval_cons, x, gcfg)\n",
    "    \n",
    "        g = DiffResults.value(gres)\n",
    "        ceq = zeros(0)\n",
    "        c = g\n",
    "    \n",
    "        dgdx = DiffResults.jacobian(gres)\n",
    "        gceq = zeros(0,2)\n",
    "        gc = dgdx\n",
    "    \n",
    "        J, ceq, c, gJ, gceq, gc, HJ\n",
    "    end\n",
    "    \n",
    "    solver_fn\n",
    "end\n",
    "\n",
    "solver_fn = get_barnesgrad()\n",
    "\n",
    "x0 = [10.0, 10.0]\n",
    "options = Dict{String, Any}()\n",
    "options[\"Derivative option\"] = 1\n",
    "options[\"Verify level\"] = 1\n",
    "xopt, info = Bilevel.snopt(solver_fn, 0, 3, x0, options)\n",
    "\n",
    "display(info)\n",
    "display(xopt)\n",
    "display(isapprox(xopt[1], 49.5263; atol=1e-4))\n",
    "display(isapprox(xopt[2], 19.6228; atol=1e-4))\n",
    "\n",
    "x0 = [0., 0.]\n",
    "options = Dict{String, Any}()\n",
    "options[\"num_fosteps\"] = 3\n",
    "options[\"num_sosteps\"] = 10\n",
    "options[\"c\"] = 10000.\n",
    "options[\"c_fos\"] = 10.\n",
    "options[\"c_sos\"] = 1.\n",
    "xopt, info = Bilevel.auglag(solver_fn, 0, 3, x0, options)\n",
    "\n",
    "display(info)\n",
    "display(xopt)\n",
    "display(isapprox(xopt[1], 49.5263; atol=1e-4))\n",
    "display(isapprox(xopt[2], 19.6228; atol=1e-4))"
   ]
  }
 ],
 "metadata": {
  "kernelspec": {
   "display_name": "Julia 0.7.0",
   "language": "julia",
   "name": "julia-0.7"
  },
  "language_info": {
   "file_extension": ".jl",
   "mimetype": "application/julia",
   "name": "julia",
   "version": "0.7.0"
  }
 },
 "nbformat": 4,
 "nbformat_minor": 2
}
