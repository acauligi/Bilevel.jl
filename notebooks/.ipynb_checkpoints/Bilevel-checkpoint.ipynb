{
 "cells": [
  {
   "cell_type": "code",
   "execution_count": 1,
   "metadata": {},
   "outputs": [
    {
     "name": "stderr",
     "output_type": "stream",
     "text": [
      "┌ Info: Precompiling Bilevel [9688c538-179f-11e9-3174-495cea6b7f67]\n",
      "└ @ Base loading.jl:1186\n",
      "┌ Error: evaluation error\n",
      "│   mod = Bilevel\n",
      "│   ex = const usrfun = #= /Users/blandry/.julia/dev/Bilevel/src/solvers/snopt.jl:154 =# @cfunction(objcon_wrapper, Cvoid, (Ptr{Clong}, Ref{Clong}, Ptr{Cdouble}, Ref{Clong}, Ref{Clong}, Ptr{Cdouble}, Ref{Clong}, Ref{Clong}, Ptr{Cdouble}, Ptr{Cchar}, Ref{Clong}, Ptr{Clong}, Ref{Clong}, Ptr{Cdouble}, Ref{Clong}))\n",
      "│   exception = (ErrorException(\"invalid lookup expr (\\$(QuoteNode(Core.svec)))(JuliaInterpreter.SSAValue(2), JuliaInterpreter.SSAValue(3), JuliaInterpreter.SSAValue(4), JuliaInterpreter.SSAValue(5), JuliaInterpreter.SSAValue(6), JuliaInterpreter.SSAValue(7), JuliaInterpreter.SSAValue(8), JuliaInterpreter.SSAValue(9), JuliaInterpreter.SSAValue(10), JuliaInterpreter.SSAValue(11), JuliaInterpreter.SSAValue(12), JuliaInterpreter.SSAValue(13), JuliaInterpreter.SSAValue(14), JuliaInterpreter.SSAValue(15), JuliaInterpreter.SSAValue(16))\"), Union{Ptr{Nothing}, InterpreterIP}[Ptr{Nothing} @0x000000010476e572, Ptr{Nothing} @0x000000010474571d, Ptr{Nothing} @0x0000000117a746a8, Ptr{Nothing} @0x000000011cf2aa1f, Ptr{Nothing} @0x000000011cf54eea, Ptr{Nothing} @0x000000011cf55484, Ptr{Nothing} @0x000000011cf2b03e, Ptr{Nothing} @0x000000011cf2c58a, Ptr{Nothing} @0x000000011cf303a5, Ptr{Nothing} @0x000000011cf2990e, Ptr{Nothing} @0x000000011cf2a454, Ptr{Nothing} @0x0000000117a7067d, Ptr{Nothing} @0x0000000117a6e007, Ptr{Nothing} @0x0000000117a6e064, Ptr{Nothing} @0x0000000117a6d283, Ptr{Nothing} @0x0000000117a6d87f, Ptr{Nothing} @0x0000000117a62f14, Ptr{Nothing} @0x0000000117a638b5, Ptr{Nothing} @0x0000000117a65418, Ptr{Nothing} @0x0000000117a61da1, Ptr{Nothing} @0x0000000104745e87])\n",
      "└ @ Revise /Users/blandry/.julia/packages/Revise/UtBAC/src/lowered.jl:52\n"
     ]
    }
   ],
   "source": [
    "using Revise\n",
    "using Bilevel\n",
    "\n",
    "using ForwardDiff\n",
    "using DiffResults\n",
    "using LinearAlgebra\n",
    "using Plots\n",
    "using BenchmarkTools"
   ]
  },
  {
   "cell_type": "markdown",
   "metadata": {},
   "source": [
    "# Nonlinear problems"
   ]
  },
  {
   "cell_type": "code",
   "execution_count": null,
   "metadata": {},
   "outputs": [],
   "source": [
    "function get_rosenbrock()\n",
    "    function eval_obj(x::AbstractArray{T}) where T\n",
    "        f = (1 - x[1])^2 + 100*(x[2] - x[1]^2)^2\n",
    "\n",
    "        f\n",
    "    end\n",
    "    \n",
    "    function eval_cons(x::AbstractArray{T}) where T\n",
    "        g = vcat(-5. .- x, x .- 5.)\n",
    "        \n",
    "        g\n",
    "    end\n",
    "    \n",
    "    return Bilevel.generate_autodiff_solver_fn(eval_obj,eval_cons,[],1:4)\n",
    "end\n",
    "\n",
    "solver_fn = get_rosenbrock()\n",
    "\n",
    "x0 = [3.0; 3.0]\n",
    "options = Dict{String, Any}()\n",
    "options[\"Derivative option\"] = 1\n",
    "options[\"Verify level\"] = 1\n",
    "xopt, info = Bilevel.snopt(solver_fn, 0, 4, x0, options)\n",
    "\n",
    "display(info)\n",
    "display(xopt)\n",
    "\n",
    "x0 = [3.0; 3.0]\n",
    "options = Dict{String, Any}()\n",
    "options[\"num_fosteps\"] = 1\n",
    "options[\"num_sosteps\"] = 5\n",
    "options[\"c\"] = 1.\n",
    "options[\"c_fos\"] = 1.\n",
    "options[\"c_sos\"] = 1.\n",
    "xopt, info = Bilevel.auglag(solver_fn, 0, 4, x0, options)\n",
    "\n",
    "display(info)\n",
    "display(xopt)"
   ]
  },
  {
   "cell_type": "code",
   "execution_count": 123,
   "metadata": {},
   "outputs": [
    {
     "ename": "LAPACKException",
     "evalue": "LAPACKException(7)",
     "output_type": "error",
     "traceback": [
      "LAPACKException(7)",
      "",
      "Stacktrace:",
      " [1] chklapackerror at /Users/osx/buildbot/slave/package_osx64/build/usr/share/julia/stdlib/v1.1/LinearAlgebra/src/lapack.jl:38 [inlined]",
      " [2] gesdd!(::Char, ::Array{Float64,2}) at /Users/osx/buildbot/slave/package_osx64/build/usr/share/julia/stdlib/v1.1/LinearAlgebra/src/lapack.jl:1602",
      " [3] #svd!#66(::Bool, ::Function, ::Array{Float64,2}) at /Users/osx/buildbot/slave/package_osx64/build/usr/share/julia/stdlib/v1.1/LinearAlgebra/src/svd.jl:63",
      " [4] #svd#67 at ./none:0 [inlined]",
      " [5] #svd at ./none:0 [inlined]",
      " [6] #pinv#31(::Float64, ::Float64, ::Function, ::Array{Float64,2}) at /Users/osx/buildbot/slave/package_osx64/build/usr/share/julia/stdlib/v1.1/LinearAlgebra/src/dense.jl:1307",
      " [7] pinv(::Array{Float64,2}) at /Users/osx/buildbot/slave/package_osx64/build/usr/share/julia/stdlib/v1.1/LinearAlgebra/src/dense.jl:1286",
      " [8] auglag(::getfield(Bilevel, Symbol(\"#solver_fn#86\")){Bool,getfield(Main, Symbol(\"#eval_obj#255\")){Float64,Float64,Float64,Float64,Float64,Float64,Float64,Float64,Float64,Float64,Float64,Float64,Float64,Float64,Float64,Float64,Float64,Float64,Float64,Float64,Float64},DiffResults.MutableDiffResult{2,Float64,Tuple{Array{Float64,1},Array{Float64,2}}},ForwardDiff.HessianConfig{ForwardDiff.Tag{getfield(Main, Symbol(\"#eval_obj#255\")){Float64,Float64,Float64,Float64,Float64,Float64,Float64,Float64,Float64,Float64,Float64,Float64,Float64,Float64,Float64,Float64,Float64,Float64,Float64,Float64,Float64},Float64},Float64,2,Array{ForwardDiff.Dual{ForwardDiff.Tag{getfield(Main, Symbol(\"#eval_obj#255\")){Float64,Float64,Float64,Float64,Float64,Float64,Float64,Float64,Float64,Float64,Float64,Float64,Float64,Float64,Float64,Float64,Float64,Float64,Float64,Float64,Float64},Float64},ForwardDiff.Dual{ForwardDiff.Tag{getfield(Main, Symbol(\"#eval_obj#255\")){Float64,Float64,Float64,Float64,Float64,Float64,Float64,Float64,Float64,Float64,Float64,Float64,Float64,Float64,Float64,Float64,Float64,Float64,Float64,Float64,Float64},Float64},Float64,2},2},1},Tuple{Array{ForwardDiff.Dual{ForwardDiff.Tag{getfield(Main, Symbol(\"#eval_obj#255\")){Float64,Float64,Float64,Float64,Float64,Float64,Float64,Float64,Float64,Float64,Float64,Float64,Float64,Float64,Float64,Float64,Float64,Float64,Float64,Float64,Float64},Float64},Float64,2},1},Array{ForwardDiff.Dual{ForwardDiff.Tag{getfield(Main, Symbol(\"#eval_obj#255\")){Float64,Float64,Float64,Float64,Float64,Float64,Float64,Float64,Float64,Float64,Float64,Float64,Float64,Float64,Float64,Float64,Float64,Float64,Float64,Float64,Float64},Float64},Float64,2},1}}},getfield(Main, Symbol(\"#eval_cons#256\")),DiffResults.MutableDiffResult{1,Array{Float64,1},Tuple{Array{Float64,2}}},ForwardDiff.JacobianConfig{ForwardDiff.Tag{getfield(Main, Symbol(\"#eval_cons#256\")),Float64},Float64,2,Array{ForwardDiff.Dual{ForwardDiff.Tag{getfield(Main, Symbol(\"#eval_cons#256\")),Float64},Float64,2},1}},Array{Any,1},UnitRange{Int64}}, ::Int64, ::Int64, ::Array{Float64,1}, ::Dict{String,Any}) at /Users/blandry/.julia/dev/Bilevel/src/solvers/auglag.jl:85",
      " [9] top-level scope at In[123]:83"
     ]
    }
   ],
   "source": [
    "function get_barnesgrad()\n",
    "    a1 = 75.196\n",
    "    a3 = 0.12694\n",
    "    a5 = 1.0345e-5\n",
    "    a7 = 0.030234\n",
    "    a9 = 3.5256e-5\n",
    "    a11 = 0.25645\n",
    "    a13 = 1.3514e-5\n",
    "    a15 = -5.2375e-6\n",
    "    a17 = 7.0e-10\n",
    "    a19 = -1.6638e-6\n",
    "    a21 = 0.0005\n",
    "    a2 = -3.8112\n",
    "    a4 = -2.0567e-3\n",
    "    a6 = -6.8306\n",
    "    a8 = -1.28134e-3\n",
    "    a10 = -2.266e-7\n",
    "    a12 = -3.4604e-3\n",
    "    a14 = -28.106\n",
    "    a16 = -6.3e-8\n",
    "    a18 = 3.4054e-4\n",
    "    a20 = -2.8673\n",
    "    \n",
    "    function eval_obj(x::AbstractArray{T}) where T\n",
    "        x1 = x[1]\n",
    "        x2 = x[2]\n",
    "        y1 = x1*x2\n",
    "        y2 = y1*x1\n",
    "        y3 = x2^2\n",
    "        y4 = x1^2\n",
    "\n",
    "        f = a1 + a2*x1 + a3*y4 + a4*y4*x1 + a5*y4^2 +\n",
    "            a6*x2 + a7*y1 + a8*x1*y1 + a9*y1*y4 + a10*y2*y4 +\n",
    "            a11*y3 + a12*x2*y3 + a13*y3^2 + a14/(x2+1) +\n",
    "            a15*y3*y4 + a16*y1*y4*x2 + a17*y1*y3*y4 + a18*x1*y3 +\n",
    "            a19*y1*y3 + a20*exp(a21*y1)\n",
    "        \n",
    "        f\n",
    "    end\n",
    "\n",
    "    function eval_cons(x::AbstractArray{T}) where T\n",
    "        x1 = x[1]\n",
    "        x2 = x[2]\n",
    "        y1 = x1*x2\n",
    "        y2 = y1*x1\n",
    "        y3 = x2^2\n",
    "        y4 = x1^2\n",
    "        \n",
    "        g = zeros(T, 3)\n",
    "        g[1] = 1 - y1/700.0\n",
    "        g[2] = y4/25.0^2 - x2/5.0\n",
    "        g[3] = (x1/500.0- 0.11) - (x2/50.0-1)^2\n",
    "        \n",
    "        g\n",
    "    end\n",
    "    \n",
    "    fres = DiffResults.HessianResult(zeros(2))\n",
    "    fcfg = ForwardDiff.HessianConfig(eval_obj, fres, zeros(2))\n",
    "    gres = DiffResults.JacobianResult(zeros(3), zeros(2))\n",
    "    gcfg = ForwardDiff.JacobianConfig(eval_cons, zeros(2))\n",
    "    \n",
    "    return Bilevel.generate_autodiff_solver_fn(eval_obj,fres,fcfg,eval_cons,gres,gcfg,[],1:3)\n",
    "end\n",
    "\n",
    "solver_fn = get_barnesgrad()\n",
    "\n",
    "# x0 = [10., 10.]\n",
    "# options = Dict{String, Any}()\n",
    "# options[\"Derivative option\"] = 1\n",
    "# options[\"Verify level\"] = 1\n",
    "# xopt, info = Bilevel.snopt(solver_fn, 0, 3, x0, options)\n",
    "\n",
    "# display(info)\n",
    "# display(xopt)\n",
    "\n",
    "x0 = [10., 10.]\n",
    "options = Dict{String, Any}()\n",
    "options[\"num_fosteps\"] = 0\n",
    "options[\"num_sosteps\"] = 100\n",
    "options[\"c\"] = 1\n",
    "options[\"c_fos\"] = 1.\n",
    "options[\"c_sos\"] = 1.\n",
    "xopt, info = Bilevel.auglag(solver_fn, 0, 3, x0, options)\n",
    "\n",
    "display(info)\n",
    "display(xopt)"
   ]
  },
  {
   "cell_type": "markdown",
   "metadata": {},
   "source": [
    "# Bilevel problem"
   ]
  },
  {
   "cell_type": "code",
   "execution_count": 104,
   "metadata": {},
   "outputs": [
    {
     "data": {
      "text/plain": [
       "#211 (generic function with 1 method)"
      ]
     },
     "execution_count": 104,
     "metadata": {},
     "output_type": "execute_result"
    }
   ],
   "source": [
    "# Problem taken from:\n",
    "# Sinha, Ankur, Pekka Malo, and Kalyanmoy Deb. \n",
    "# \"A review on bilevel optimization: from classical to evolutionary approaches and applications.\" \n",
    "# IEEE Transactions on Evolutionary Computation 22.2 (2018): 276-295.\n",
    "\n",
    "α = 10.\n",
    "β = .2\n",
    "\n",
    "δl = 1.\n",
    "δf = 2.\n",
    "γl = .3\n",
    "γf = 5.8\n",
    "cl = 10.\n",
    "cf = 1.\n",
    "\n",
    "P = (ql,qf) -> α - β*(ql + qf)\n",
    "Cl = ql -> δl*ql*ql + γl*ql + cl\n",
    "Cf = qf -> δf*qf*qf + γf*qf + cf"
   ]
  },
  {
   "cell_type": "code",
   "execution_count": 105,
   "metadata": {},
   "outputs": [
    {
     "data": {
      "text/plain": [
       "3.99236641221374"
      ]
     },
     "metadata": {},
     "output_type": "display_data"
    },
    {
     "data": {
      "text/plain": [
       "0.7730742539902844"
      ]
     },
     "metadata": {},
     "output_type": "display_data"
    }
   ],
   "source": [
    "# closed form solution\n",
    "\n",
    "qlopt = (2. * (β + δf)*(α - γl)-β * (α - γf))/(4. * (β + δf)*(β + δl) - 2. * β^2)\n",
    "qfopt = (α - γf)/(2. * (β + δf)) - (β * (α - γl) - (β^2 * (α - γf))/(2. * (β + δf)))/(4. * (β + δf) * (β + δl) - 2. * β^2)\n",
    "\n",
    "display(qlopt)\n",
    "display(qfopt)"
   ]
  },
  {
   "cell_type": "code",
   "execution_count": 109,
   "metadata": {},
   "outputs": [
    {
     "data": {
      "text/plain": [
       "\"Finished successfully: optimality conditions satisfied\""
      ]
     },
     "metadata": {},
     "output_type": "display_data"
    },
    {
     "data": {
      "text/plain": [
       "1-element Array{Float64,1}:\n",
       " 3.992382163694746"
      ]
     },
     "metadata": {},
     "output_type": "display_data"
    },
    {
     "data": {
      "text/plain": [
       "1-element Array{Float64,1}:\n",
       " 0.7729603707370146"
      ]
     },
     "metadata": {},
     "output_type": "display_data"
    }
   ],
   "source": [
    "# solution using our bilevel solver\n",
    "\n",
    "f_options = Dict{String, Any}()\n",
    "f_options[\"num_fosteps\"] = 0\n",
    "f_options[\"num_sosteps\"] = 50\n",
    "f_options[\"c\"] = 1.\n",
    "f_options[\"c_fos\"] = 1.\n",
    "f_options[\"c_sos\"] = 1.\n",
    "\n",
    "function solve_follower(ql::AbstractArray{U}) where U\n",
    "    function eval_obj_(qf::AbstractArray{T}) where T\n",
    "        f = -(P(ql[1],qf[1])*qf[1] - Cf(qf[1]))\n",
    "        \n",
    "        f\n",
    "    end\n",
    "    \n",
    "    function eval_cons_(qf::AbstractArray{T}) where T\n",
    "        g = -qf\n",
    "        \n",
    "        g\n",
    "    end\n",
    "    \n",
    "    fres = DiffResults.HessianResult(zeros(U, 1))\n",
    "    gres = DiffResults.JacobianResult(zeros(U, 1), zeros(U, 1))\n",
    "    solver_fn = Bilevel.generate_autodiff_solver_fn(eval_obj_,fres,eval_cons_,gres,[],1:1)\n",
    "    \n",
    "    qf0 = zeros(1)\n",
    "\n",
    "    qfopt, info = Bilevel.auglag(solver_fn, 0, 1, qf0, f_options)\n",
    "\n",
    "    qfopt\n",
    "end\n",
    "\n",
    "function get_bilevel()\n",
    "    function eval_obj(ql::AbstractArray{T}) where T\n",
    "        qfopt = solve_follower(ql)\n",
    "        \n",
    "        f = -(P(ql[1],qfopt[1])*ql[1] - Cl(ql[1]))\n",
    "        \n",
    "        f\n",
    "    end\n",
    "\n",
    "    function eval_cons(ql::AbstractArray{T}) where T        \n",
    "        g = -ql\n",
    "        \n",
    "        g\n",
    "    end\n",
    "    \n",
    "    return Bilevel.generate_autodiff_solver_fn(eval_obj,eval_cons,[],1:1,hessian=false)\n",
    "end\n",
    "\n",
    "solver_fn = get_bilevel()\n",
    "\n",
    "x0 = [0.]\n",
    "options = Dict{String, Any}()\n",
    "options[\"Derivative option\"] = 1\n",
    "options[\"Verify level\"] = -1\n",
    "options[\"Major optimality tolerance\"] = 1e-3\n",
    "\n",
    "qlopt, info = Bilevel.snopt(solver_fn, 0, 1, x0, options)\n",
    "\n",
    "qfopt = solve_follower(qlopt)\n",
    "\n",
    "display(info)\n",
    "display(qlopt)\n",
    "display(qfopt)"
   ]
  },
  {
   "cell_type": "code",
   "execution_count": null,
   "metadata": {},
   "outputs": [],
   "source": []
  }
 ],
 "metadata": {
  "kernelspec": {
   "display_name": "Julia 1.1.0",
   "language": "julia",
   "name": "julia-1.1"
  },
  "language_info": {
   "file_extension": ".jl",
   "mimetype": "application/julia",
   "name": "julia",
   "version": "1.1.0"
  }
 },
 "nbformat": 4,
 "nbformat_minor": 2
}
