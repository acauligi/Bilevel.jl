{
 "cells": [
  {
   "cell_type": "code",
   "execution_count": 1,
   "metadata": {
    "collapsed": false
   },
   "outputs": [
    {
     "name": "stderr",
     "output_type": "stream",
     "text": [
      "┌ Info: Precompiling Bilevel [9688c538-179f-11e9-3174-495cea6b7f67]\n",
      "└ @ Base loading.jl:1187\n"
     ]
    },
    {
     "ename": "LoadError",
     "evalue": "LoadError: ArgumentError: invalid type for argument fres in method definition for generate_autodiff_solver_fn at /Users/blandry/.julia/dev/Bilevel/src/solvers/autodiff.jl:22\nin expression starting at /Users/blandry/.julia/dev/Bilevel/src/solvers/autodiff.jl:21",
     "output_type": "error",
     "traceback": [
      "LoadError: ArgumentError: invalid type for argument fres in method definition for generate_autodiff_solver_fn at /Users/blandry/.julia/dev/Bilevel/src/solvers/autodiff.jl:22\nin expression starting at /Users/blandry/.julia/dev/Bilevel/src/solvers/autodiff.jl:21",
      "",
      "Stacktrace:",
      " [1] top-level scope at none:0",
      " [2] include at ./boot.jl:317 [inlined]",
      " [3] include_relative(::Module, ::String) at ./loading.jl:1038",
      " [4] include at ./sysimg.jl:29 [inlined]",
      " [5] include(::String) at /Users/blandry/.julia/dev/Bilevel/src/Bilevel.jl:1",
      " [6] top-level scope at none:0",
      " [7] include at ./boot.jl:317 [inlined]",
      " [8] include_relative(::Module, ::String) at ./loading.jl:1038",
      " [9] _require(::Base.PkgId) at ./loading.jl:950",
      " [10] require(::Base.PkgId) at ./loading.jl:852",
      " [11] macro expansion at ./logging.jl:311 [inlined]",
      " [12] require(::Module, ::Symbol) at ./loading.jl:834",
      " [13] top-level scope at In[1]:2"
     ]
    }
   ],
   "source": [
    "using Revise\n",
    "using Bilevel\n",
    "\n",
    "using RigidBodyDynamics\n",
    "using ForwardDiff\n",
    "using Plots"
   ]
  },
  {
   "cell_type": "code",
   "execution_count": null,
   "metadata": {
    "collapsed": false
   },
   "outputs": [],
   "source": [
    "urdf = joinpath(\"..\", \"urdf\", \"ball.urdf\")\n",
    "mechanism = parse_urdf(Float64, urdf)\n",
    "\n",
    "floor = findbody(mechanism, \"floor\")\n",
    "point = Point3D(default_frame(floor), [0.,0.,0.])\n",
    "normal = FreeVector3D(default_frame(floor), [0.,0.,1.])\n",
    "floor_obs = Obstacle(floor, point, normal, :xyz, .5)\n",
    "\n",
    "obstacles = [floor_obs]\n",
    "env = Environment(mechanism, urdf, obstacles)\n",
    "ctrl! = (u,t,x) -> u[:] .= 0.\n",
    "x0 = MechanismState(mechanism)"
   ]
  },
  {
   "cell_type": "code",
   "execution_count": null,
   "metadata": {
    "collapsed": false
   },
   "outputs": [],
   "source": [
    "# q0 = [1., 0., 0., 0., 0., 0., 0.015]\n",
    "# v0 = [0., 0., 0., 1., 0., 0.]\n",
    "# N = 25\n",
    "q0 = [1., 0., 0., 0., 0., 0., 0.]\n",
    "v0 = [0., 0., 0., 0., 0., 0.]\n",
    "N = 1\n",
    "Δt = .01\n",
    "\n",
    "# sim_data = get_sim_data_indirect(mechanism,env,Δt,relax_comp=false)\n",
    "sim_data = get_sim_data_direct(mechanism,env,Δt)\n",
    "set_configuration!(x0, q0)\n",
    "set_velocity!(x0, v0)"
   ]
  },
  {
   "cell_type": "code",
   "execution_count": null,
   "metadata": {
    "collapsed": false
   },
   "outputs": [],
   "source": [
    "traj = Bilevel.simulate(sim_data, ctrl!, x0, N, verbose=1)\n",
    "traj_t = vcat(0.,cumsum([Δt for i in 1:N]));\n",
    "traj_q = [traj[sim_data.vs(:qnext),i] for i in 1:N+1];"
   ]
  },
  {
   "cell_type": "code",
   "execution_count": null,
   "metadata": {
    "collapsed": false
   },
   "outputs": [],
   "source": [
    "traj"
   ]
  },
  {
   "cell_type": "code",
   "execution_count": null,
   "metadata": {
    "collapsed": false
   },
   "outputs": [],
   "source": [
    "j = 11\n",
    "clibrary(:Plots)\n",
    "gr(size=(800,500), html_output_format=:png, \n",
    "    seriescolor=:magma,  background_color_legend=:white, \n",
    "    background=RGB(((240,240,240) ./ 255.)...));\n",
    "plot(traj_t,traj[j,:],label=\"Indirect\",seriescolor=RGB(((227,74,51) ./ 255.)...),linewidth=4,marker=6)\n",
    "# plot!(traj_bi_t,traj_bi[j,:],label=\"Bilevel Solver\",seriescolor=RGB(((254,232,200) ./ 255.)...),linewidth=0,marker=4)"
   ]
  }
 ],
 "metadata": {
  "kernelspec": {
   "display_name": "Julia 0.7.0",
   "language": "julia",
   "name": "julia-0.7"
  },
  "language_info": {
   "file_extension": ".jl",
   "mimetype": "application/julia",
   "name": "julia",
   "version": "0.7.0"
  }
 },
 "nbformat": 4,
 "nbformat_minor": 2
}
