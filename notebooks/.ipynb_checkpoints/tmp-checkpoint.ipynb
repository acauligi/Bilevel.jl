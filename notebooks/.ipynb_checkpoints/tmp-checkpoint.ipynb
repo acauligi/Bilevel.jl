{
 "cells": [
  {
   "cell_type": "code",
   "execution_count": 65,
   "metadata": {
    "collapsed": false
   },
   "outputs": [],
   "source": [
    "using Revise\n",
    "using Bilevel\n",
    "\n",
    "using RigidBodyDynamics\n",
    "using ForwardDiff"
   ]
  },
  {
   "cell_type": "code",
   "execution_count": 2,
   "metadata": {
    "collapsed": false
   },
   "outputs": [
    {
     "data": {
      "text/plain": [
       "1-element Array{Obstacle,1}:\n",
       " Obstacle(RigidBody: \"floor\", Point3D in \"after_floor_to_world\": [0.0, 0.0, 0.0], FreeVector3D in \"after_floor_to_world\": [0.0, 0.0, 1.0], [1.0 6.12323e-17 -1.0 -1.83697e-16; 0.0 1.0 1.22465e-16 -1.0; 0.0 0.0 0.0 0.0], 0.5, false)"
      ]
     },
     "execution_count": 2,
     "metadata": {},
     "output_type": "execute_result"
    }
   ],
   "source": [
    "urdf = joinpath(\"..\", \"urdf\", \"ball.urdf\")\n",
    "mechanism = parse_urdf(Float64, urdf)\n",
    "\n",
    "floor = findbody(mechanism, \"floor\")\n",
    "point = Point3D(default_frame(floor), [0.,0.,0.])\n",
    "normal = FreeVector3D(default_frame(floor), [0.,0.,1.])\n",
    "floor_obs = Obstacle(floor, point, normal, :xyz, .5)\n",
    "\n",
    "obstacles = [floor_obs]"
   ]
  },
  {
   "cell_type": "code",
   "execution_count": 3,
   "metadata": {
    "collapsed": false
   },
   "outputs": [
    {
     "data": {
      "text/plain": [
       "Environment(Contact[Contact(Spanning tree:\n",
       "Vertex: world (root)\n",
       "  Vertex: floor, Edge: floor_to_world\n",
       "    Vertex: ball, Edge: floor_to_ball\n",
       "No non-tree joints., ball, Point3D in \"after_floor_to_ball\": [0.0, 0.0, 0.0], Obstacle(floor, Point3D in \"after_floor_to_world\": [0.0, 0.0, 0.0], FreeVector3D in \"after_floor_to_world\": [0.0, 0.0, 1.0], [1.0 6.12323e-17 -1.0 -1.83697e-16; 0.0 1.0 1.22465e-16 -1.0; 0.0 0.0 0.0 0.0], 0.5, false))])"
      ]
     },
     "execution_count": 3,
     "metadata": {},
     "output_type": "execute_result"
    }
   ],
   "source": [
    "env = Environment(mechanism, urdf, obstacles)"
   ]
  },
  {
   "cell_type": "code",
   "execution_count": 5,
   "metadata": {
    "collapsed": false
   },
   "outputs": [
    {
     "data": {
      "text/plain": [
       "SimData(Spanning tree:\n",
       "Vertex: world (root)\n",
       "  Vertex: floor, Edge: floor_to_world\n",
       "    Vertex: ball, Edge: floor_to_ball\n",
       "No non-tree joints., StateCache{…}(…), StateCache{…}(…), Bilevel.EnvironmentCache(Bilevel.ContactJacobianCache[ContactJacobianCache{Dual}(Contact(Spanning tree:\n",
       "Vertex: world (root)\n",
       "  Vertex: floor, Edge: floor_to_world\n",
       "    Vertex: ball, Edge: floor_to_ball\n",
       "No non-tree joints., ball, Point3D in \"after_floor_to_ball\": [0.0, 0.0, 0.0], Obstacle(floor, Point3D in \"after_floor_to_world\": [0.0, 0.0, 0.0], FreeVector3D in \"after_floor_to_world\": [0.0, 0.0, 1.0], [1.0 6.12323e-17 -1.0 -1.83697e-16; 0.0 1.0 1.22465e-16 -1.0; 0.0 0.0 0.0 0.0], 0.5, false)), [0.0 9.81 … -9.81 -1.80207e-15; 0.0 0.0 … 1.20138e-15 -9.81; 9.81 0.0 … 0.0 0.0], Dual{Nothing}(0.0), ForwardDiff.Dual[Dual{Nothing}(1.0) Dual{Nothing}(0.0) Dual{Nothing}(0.0); Dual{Nothing}(0.0) Dual{Nothing}(1.0) Dual{Nothing}(0.0); Dual{Nothing}(0.0) Dual{Nothing}(0.0) Dual{Nothing}(1.0)], ForwardDiff.Dual[Dual{Nothing}(0.0), Dual{Nothing}(0.0), Dual{Nothing}(0.0)], GeometricJacobian: body: \"world\", base: \"after_floor_to_ball\", expressed in \"world\":\n",
       "ForwardDiff.Dual[Dual{Nothing}(-1.0) Dual{Nothing}(-0.0) Dual{Nothing}(-0.0) Dual{Nothing}(-0.0) Dual{Nothing}(-0.0) Dual{Nothing}(-0.0); Dual{Nothing}(-0.0) Dual{Nothing}(-1.0) Dual{Nothing}(-0.0) Dual{Nothing}(-0.0) Dual{Nothing}(-0.0) Dual{Nothing}(-0.0); Dual{Nothing}(-0.0) Dual{Nothing}(-0.0) Dual{Nothing}(-1.0) Dual{Nothing}(-0.0) Dual{Nothing}(-0.0) Dual{Nothing}(-0.0); Dual{Nothing}(-0.0) Dual{Nothing}(-0.0) Dual{Nothing}(-0.0) Dual{Nothing}(-1.0) Dual{Nothing}(-0.0) Dual{Nothing}(-0.0); Dual{Nothing}(-0.0) Dual{Nothing}(-0.0) Dual{Nothing}(-0.0) Dual{Nothing}(-0.0) Dual{Nothing}(-1.0) Dual{Nothing}(-0.0); Dual{Nothing}(-0.0) Dual{Nothing}(-0.0) Dual{Nothing}(-0.0) Dual{Nothing}(-0.0) Dual{Nothing}(-0.0) Dual{Nothing}(-1.0)], nothing, ForwardDiff.Dual[Dual{Nothing}(0.0) Dual{Nothing}(-0.0) Dual{Nothing}(0.0); Dual{Nothing}(0.0) Dual{Nothing}(0.0) Dual{Nothing}(-0.0); Dual{Nothing}(-0.0) Dual{Nothing}(0.0) Dual{Nothing}(0.0)], ForwardDiff.Dual[Dual{Nothing}(0.0) Dual{Nothing}(0.0) … Dual{Nothing}(0.0) Dual{Nothing}(0.0); Dual{Nothing}(0.0) Dual{Nothing}(0.0) … Dual{Nothing}(0.0) Dual{Nothing}(0.0); … ; Dual{Nothing}(0.0) Dual{Nothing}(0.0) … Dual{Nothing}(-1.20138e-15) Dual{Nothing}(9.81); Dual{Nothing}(-9.81) Dual{Nothing}(0.0) … Dual{Nothing}(0.0) Dual{Nothing}(0.0)])]), 0.01, Bilevel.VariableSelector(Dict(:qnext=>1:7,:vnext=>8:13,:β1=>14:17,:λ1=>18:18,:c_n1=>19:19), 19), Bilevel.ConstraintSelector(Dict(:dyn=>8:13,:fric_β_comp1=>15:18,:ϕ_c_n_comp1=>14:14,:kin=>1:7,:cone_λ_comp1=>19:19), 19, Dict(:ϕ_pos1=>7:7,:fric_pos1=>8:11,:c_n_pos1=>6:6,:β_pos1=>1:4,:λ_pos1=>5:5,:cone_pos1=>12:12), 12), :generate_solver_fn_sim_indirect)"
      ]
     },
     "execution_count": 5,
     "metadata": {},
     "output_type": "execute_result"
    }
   ],
   "source": [
    "sim_data = get_sim_data_indirect(mechanism,env,.01,relax_comp=false)"
   ]
  },
  {
   "cell_type": "markdown",
   "metadata": {},
   "source": [
    "Compute the resulting force as a free vector at the contact point (D \\beta + c_n)\n",
    "\n",
    "Rotate this free vector in the world frame\n",
    "\n",
    "Transform the contact point from the body (with the contact point) frame to the root frame\n",
    "\n",
    "linear is just the force\n",
    "\n",
    "angular is point \\times force\n",
    "\n",
    "Compute the resulting joint torque from the wrench using the geometric jacobian"
   ]
  },
  {
   "cell_type": "code",
   "execution_count": 26,
   "metadata": {
    "collapsed": false
   },
   "outputs": [
    {
     "data": {
      "text/plain": [
       "Bilevel.EnvironmentCache(Bilevel.ContactJacobianCache[ContactJacobianCache{Float64}(Contact(Spanning tree:\n",
       "Vertex: world (root)\n",
       "  Vertex: floor, Edge: floor_to_world\n",
       "    Vertex: ball, Edge: floor_to_ball\n",
       "No non-tree joints., ball, Point3D in \"after_floor_to_ball\": [0.0, 0.0, 0.0], Obstacle(floor, Point3D in \"after_floor_to_world\": [0.0, 0.0, 0.0], FreeVector3D in \"after_floor_to_world\": [0.0, 0.0, 1.0], [1.0 6.12323e-17 -1.0 -1.83697e-16; 0.0 1.0 1.22465e-16 -1.0; 0.0 0.0 0.0 0.0], 0.5, false)), [0.0 9.81 … -9.81 -1.80207e-15; 0.0 0.0 … 1.20138e-15 -9.81; 9.81 0.0 … 0.0 0.0], 0.0, [1.0 0.0 0.0; 0.0 1.0 0.0; 0.0 0.0 1.0], [0.0, 0.0, 0.0], GeometricJacobian: body: \"world\", base: \"after_floor_to_ball\", expressed in \"world\":\n",
       "[-1.0 -0.0 -0.0 -0.0 -0.0 -0.0; -0.0 -1.0 -0.0 -0.0 -0.0 -0.0; -0.0 -0.0 -1.0 -0.0 -0.0 -0.0; -0.0 -0.0 -0.0 -1.0 -0.0 -0.0; -0.0 -0.0 -0.0 -0.0 -1.0 -0.0; -0.0 -0.0 -0.0 -0.0 -0.0 -1.0], nothing, [0.0 -0.0 0.0; 0.0 0.0 -0.0; -0.0 0.0 0.0], [0.0 0.0 … 0.0 0.0; 0.0 0.0 … 0.0 0.0; … ; 0.0 0.0 … -1.20138e-15 9.81; -9.81 0.0 … 0.0 0.0])])"
      ]
     },
     "execution_count": 26,
     "metadata": {},
     "output_type": "execute_result"
    }
   ],
   "source": [
    "ec = Bilevel.EnvironmentCache(env, sim_data.xn_cache[Float64])"
   ]
  },
  {
   "cell_type": "code",
   "execution_count": 56,
   "metadata": {
    "collapsed": false
   },
   "outputs": [
    {
     "data": {
      "text/plain": [
       "6-element Array{Float64,1}:\n",
       "  0.0 \n",
       "  0.0 \n",
       "  0.0 \n",
       "  0.0 \n",
       "  0.0 \n",
       " -9.81"
      ]
     },
     "execution_count": 56,
     "metadata": {},
     "output_type": "execute_result"
    }
   ],
   "source": [
    "set_configuration!(sim_data.xn_cache[Float64], [1.,0.,0.,0.,1.,2.,1.])\n",
    "Bilevel.contact_jacobian!(ec, sim_data.xn_cache[Float64])\n",
    "ec.contact_jacobians[1].J * [1.,0.,0.,0.,0.]"
   ]
  },
  {
   "cell_type": "code",
   "execution_count": 86,
   "metadata": {
    "collapsed": false
   },
   "outputs": [
    {
     "data": {
      "text/plain": [
       "(::getfield(Bilevel, Symbol(\"#eval_dyn#29\")){StateCache{Float64,TypeSortedCollections.TypeSortedCollection{Tuple{Array{Joint{Float64,Fixed{Float64}},1},Array{Joint{Float64,QuaternionFloating{Float64}},1}},2}},Bilevel.VariableSelector,Bool,SegmentedVector{JointID,ForwardDiff.Dual,Base.OneTo{JointID},Array{ForwardDiff.Dual,1}},Array{ForwardDiff.Dual,1}}) (generic function with 1 method)"
      ]
     },
     "execution_count": 86,
     "metadata": {},
     "output_type": "execute_result"
    }
   ],
   "source": [
    "q0 = [1., 0., 0., 0., 0., 0., 0.]\n",
    "v0 = [0., 0., 0., 0., 0., 0.]\n",
    "u0 = [0., 0., 0., 0., 0., 0.]\n",
    "dyn = generate_solver_fn_sim_indirect(sim_data, q0, v0, u0)"
   ]
  },
  {
   "cell_type": "code",
   "execution_count": 87,
   "metadata": {
    "collapsed": false
   },
   "outputs": [
    {
     "ename": "InterruptException",
     "evalue": "InterruptException:",
     "output_type": "error",
     "traceback": [
      "InterruptException:",
      "",
      "Stacktrace:",
      " [1] backtrace() at ./stacktraces.jl:167",
      " [2] macro expansion at ./deprecated.jl:72 [inlined]",
      " [3] macro expansion at ./logging.jl:311 [inlined]",
      " [4] depwarn(::String, ::Symbol) at ./deprecated.jl:68",
      " [5] Wrench{Real}(::Wrench{Any}) at ./deprecated.jl:471",
      " [6] convert at /Users/blandry/.julia/packages/RigidBodyDynamics/uyInU/src/spatial/common.jl:10 [inlined]",
      " [7] Wrench{Real}(::Wrench{Any}) at ./deprecated.jl:473",
      " ... (the last 2 lines are repeated 30859 more times)",
      " [61726] convert at /Users/blandry/.julia/packages/RigidBodyDynamics/uyInU/src/spatial/common.jl:10 [inlined]",
      " [61727] setindex!(::Array{Wrench{Real},1}, ::Wrench{Any}, ::Int64) at ./array.jl:769",
      " [61728] setindex! at /Users/blandry/.julia/packages/RigidBodyDynamics/uyInU/src/custom_collections.jl:220 [inlined]",
      " [61729] newton_euler!(::RigidBodyDynamics.CustomCollections.IndexDict{BodyID,Base.OneTo{BodyID},Wrench{Real}}, ::MechanismState{ForwardDiff.Dual,Float64,Real,TypeSortedCollections.TypeSortedCollection{Tuple{Array{Joint{Float64,Fixed{Float64}},1},Array{Joint{Float64,QuaternionFloating{Float64}},1}},2}}, ::RigidBodyDynamics.CustomCollections.IndexDict{BodyID,Base.OneTo{BodyID},SpatialAcceleration{Real}}, ::RigidBodyDynamics.CustomCollections.NullDict{BodyID,Wrench{ForwardDiff.Dual}}) at /Users/blandry/.julia/packages/RigidBodyDynamics/uyInU/src/mechanism_algorithms.jl:445",
      " [61730] dynamics_bias!(::SegmentedVector{JointID,Real,Base.OneTo{JointID},Array{Real,1}}, ::RigidBodyDynamics.CustomCollections.IndexDict{BodyID,Base.OneTo{BodyID},SpatialAcceleration{Real}}, ::RigidBodyDynamics.CustomCollections.IndexDict{BodyID,Base.OneTo{BodyID},Wrench{Real}}, ::MechanismState{ForwardDiff.Dual,Float64,Real,TypeSortedCollections.TypeSortedCollection{Tuple{Array{Joint{Float64,Fixed{Float64}},1},Array{Joint{Float64,QuaternionFloating{Float64}},1}},2}}, ::RigidBodyDynamics.CustomCollections.NullDict{BodyID,Wrench{ForwardDiff.Dual}}) at /Users/blandry/.julia/packages/RigidBodyDynamics/uyInU/src/mechanism_algorithms.jl:509",
      " [61731] dynamics_bias(::MechanismState{ForwardDiff.Dual,Float64,Real,TypeSortedCollections.TypeSortedCollection{Tuple{Array{Joint{Float64,Fixed{Float64}},1},Array{Joint{Float64,QuaternionFloating{Float64}},1}},2}}, ::RigidBodyDynamics.CustomCollections.NullDict{BodyID,Wrench{ForwardDiff.Dual}}) at /Users/blandry/.julia/packages/RigidBodyDynamics/uyInU/src/mechanism_algorithms.jl:532",
      " [61732] dynamics_bias at /Users/blandry/.julia/packages/RigidBodyDynamics/uyInU/src/mechanism_algorithms.jl:526 [inlined]",
      " [61733] (::getfield(Bilevel, Symbol(\"#eval_dyn#29\")){StateCache{Float64,TypeSortedCollections.TypeSortedCollection{Tuple{Array{Joint{Float64,Fixed{Float64}},1},Array{Joint{Float64,QuaternionFloating{Float64}},1}},2}},Bilevel.VariableSelector,Bool,SegmentedVector{JointID,ForwardDiff.Dual,Base.OneTo{JointID},Array{ForwardDiff.Dual,1}},Array{ForwardDiff.Dual,1}})(::Array{ForwardDiff.Dual,1}) at /Users/blandry/.julia/dev/Bilevel/src/simulation_indirect.jl:88"
     ]
    }
   ],
   "source": [
    "x = Vector{ForwardDiff.Dual}(undef, sim_data.vs.num_vars)\n",
    "# x .= rand(sim_data.vs.num_vars)\n",
    "x .= vcat(q0,v0,[0.,0.,0.,0.,0.,0.])\n",
    "dyn(x)"
   ]
  },
  {
   "cell_type": "code",
   "execution_count": 97,
   "metadata": {
    "collapsed": false
   },
   "outputs": [
    {
     "ename": "InterruptException",
     "evalue": "InterruptException:",
     "output_type": "error",
     "traceback": [
      "InterruptException:",
      "",
      "Stacktrace:",
      " [1] backtrace() at ./stacktraces.jl:167",
      " [2] macro expansion at ./deprecated.jl:72 [inlined]",
      " [3] macro expansion at ./logging.jl:311 [inlined]",
      " [4] depwarn(::String, ::Symbol) at ./deprecated.jl:68",
      " [5] Wrench{Real}(::Wrench{Any}) at ./deprecated.jl:471",
      " [6] convert at /Users/blandry/.julia/packages/RigidBodyDynamics/uyInU/src/spatial/common.jl:10 [inlined]",
      " [7] Wrench{Real}(::Wrench{Any}) at ./deprecated.jl:473",
      " ... (the last 2 lines are repeated 1993 more times)",
      " [3994] convert at /Users/blandry/.julia/packages/RigidBodyDynamics/uyInU/src/spatial/common.jl:10 [inlined]",
      " [3995] setindex!(::Array{Wrench{Real},1}, ::Wrench{Any}, ::Int64) at ./array.jl:769",
      " [3996] setindex! at /Users/blandry/.julia/packages/RigidBodyDynamics/uyInU/src/custom_collections.jl:220 [inlined]",
      " [3997] newton_euler!(::RigidBodyDynamics.CustomCollections.IndexDict{BodyID,Base.OneTo{BodyID},Wrench{Real}}, ::MechanismState{ForwardDiff.Dual,Float64,Real,TypeSortedCollections.TypeSortedCollection{Tuple{Array{Joint{Float64,Fixed{Float64}},1},Array{Joint{Float64,QuaternionFloating{Float64}},1}},2}}, ::RigidBodyDynamics.CustomCollections.IndexDict{BodyID,Base.OneTo{BodyID},SpatialAcceleration{Real}}, ::RigidBodyDynamics.CustomCollections.NullDict{BodyID,Wrench{ForwardDiff.Dual}}) at /Users/blandry/.julia/packages/RigidBodyDynamics/uyInU/src/mechanism_algorithms.jl:445",
      " [3998] dynamics_bias!(::SegmentedVector{JointID,Real,Base.OneTo{JointID},Array{Real,1}}, ::RigidBodyDynamics.CustomCollections.IndexDict{BodyID,Base.OneTo{BodyID},SpatialAcceleration{Real}}, ::RigidBodyDynamics.CustomCollections.IndexDict{BodyID,Base.OneTo{BodyID},Wrench{Real}}, ::MechanismState{ForwardDiff.Dual,Float64,Real,TypeSortedCollections.TypeSortedCollection{Tuple{Array{Joint{Float64,Fixed{Float64}},1},Array{Joint{Float64,QuaternionFloating{Float64}},1}},2}}, ::RigidBodyDynamics.CustomCollections.NullDict{BodyID,Wrench{ForwardDiff.Dual}}) at /Users/blandry/.julia/packages/RigidBodyDynamics/uyInU/src/mechanism_algorithms.jl:509",
      " [3999] dynamics_bias(::MechanismState{ForwardDiff.Dual,Float64,Real,TypeSortedCollections.TypeSortedCollection{Tuple{Array{Joint{Float64,Fixed{Float64}},1},Array{Joint{Float64,QuaternionFloating{Float64}},1}},2}}, ::RigidBodyDynamics.CustomCollections.NullDict{BodyID,Wrench{ForwardDiff.Dual}}) at /Users/blandry/.julia/packages/RigidBodyDynamics/uyInU/src/mechanism_algorithms.jl:532",
      " [4000] dynamics_bias(::MechanismState{ForwardDiff.Dual,Float64,Real,TypeSortedCollections.TypeSortedCollection{Tuple{Array{Joint{Float64,Fixed{Float64}},1},Array{Joint{Float64,QuaternionFloating{Float64}},1}},2}}) at /Users/blandry/.julia/packages/RigidBodyDynamics/uyInU/src/mechanism_algorithms.jl:526"
     ]
    }
   ],
   "source": [
    "x = sim_data.xn_cache[ForwardDiff.Dual]\n",
    "set_configuration!(x, q0)\n",
    "set_velocity!(x, v0)\n",
    "dynamics_bias(x)"
   ]
  },
  {
   "cell_type": "code",
   "execution_count": 122,
   "metadata": {
    "collapsed": false
   },
   "outputs": [
    {
     "data": {
      "text/plain": [
       "f (generic function with 1 method)"
      ]
     },
     "execution_count": 122,
     "metadata": {},
     "output_type": "execute_result"
    }
   ],
   "source": [
    "sc = StateCache(mechanism)\n",
    "# db = velocity(sc[ForwardDiff.Dual])\n",
    "function f(x::AbstractArray{T}) where T\n",
    "    set_configuration!(sc[T],x)\n",
    "    db = velocity(sc[T])\n",
    "    dynamics_bias!(db, sc[T])\n",
    "    db\n",
    "end"
   ]
  },
  {
   "cell_type": "code",
   "execution_count": 120,
   "metadata": {
    "collapsed": false
   },
   "outputs": [
    {
     "ename": "MethodError",
     "evalue": "MethodError: no method matching dynamics_bias!(::SegmentedVector{JointID,ForwardDiff.Dual,Base.OneTo{JointID},Array{ForwardDiff.Dual,1}}, ::MechanismState{Float64,Float64,Float64,TypeSortedCollections.TypeSortedCollection{Tuple{Array{Joint{Float64,Fixed{Float64}},1},Array{Joint{Float64,QuaternionFloating{Float64}},1}},2}})\nClosest candidates are:\n  dynamics_bias!(::SegmentedVector{JointID,T,KeyRange,P} where P<:AbstractArray{T,1} where KeyRange<:AbstractRange{JointID} where T, !Matched::AbstractDict{BodyID,#s117} where #s117<:SpatialAcceleration, !Matched::AbstractDict{BodyID,#s116} where #s116<:Wrench, !Matched::MechanismState{X,M,C,JointCollection} where JointCollection where C where M) where X at /Users/blandry/.julia/packages/RigidBodyDynamics/uyInU/src/mechanism_algorithms.jl:508\n  dynamics_bias!(::SegmentedVector{JointID,T,KeyRange,P} where P<:AbstractArray{T,1} where KeyRange<:AbstractRange{JointID} where T, !Matched::AbstractDict{BodyID,#s17} where #s17<:SpatialAcceleration, !Matched::AbstractDict{BodyID,#s16} where #s16<:Wrench, !Matched::MechanismState{X,M,C,JointCollection} where JointCollection where C where M, !Matched::AbstractDict{BodyID,#s15} where #s15<:Wrench) where X at /Users/blandry/.julia/packages/RigidBodyDynamics/uyInU/src/mechanism_algorithms.jl:508\n  dynamics_bias!(!Matched::DynamicsResult, ::MechanismState) at /Users/blandry/.julia/packages/RigidBodyDynamics/uyInU/src/mechanism_algorithms.jl:515",
     "output_type": "error",
     "traceback": [
      "MethodError: no method matching dynamics_bias!(::SegmentedVector{JointID,ForwardDiff.Dual,Base.OneTo{JointID},Array{ForwardDiff.Dual,1}}, ::MechanismState{Float64,Float64,Float64,TypeSortedCollections.TypeSortedCollection{Tuple{Array{Joint{Float64,Fixed{Float64}},1},Array{Joint{Float64,QuaternionFloating{Float64}},1}},2}})\nClosest candidates are:\n  dynamics_bias!(::SegmentedVector{JointID,T,KeyRange,P} where P<:AbstractArray{T,1} where KeyRange<:AbstractRange{JointID} where T, !Matched::AbstractDict{BodyID,#s117} where #s117<:SpatialAcceleration, !Matched::AbstractDict{BodyID,#s116} where #s116<:Wrench, !Matched::MechanismState{X,M,C,JointCollection} where JointCollection where C where M) where X at /Users/blandry/.julia/packages/RigidBodyDynamics/uyInU/src/mechanism_algorithms.jl:508\n  dynamics_bias!(::SegmentedVector{JointID,T,KeyRange,P} where P<:AbstractArray{T,1} where KeyRange<:AbstractRange{JointID} where T, !Matched::AbstractDict{BodyID,#s17} where #s17<:SpatialAcceleration, !Matched::AbstractDict{BodyID,#s16} where #s16<:Wrench, !Matched::MechanismState{X,M,C,JointCollection} where JointCollection where C where M, !Matched::AbstractDict{BodyID,#s15} where #s15<:Wrench) where X at /Users/blandry/.julia/packages/RigidBodyDynamics/uyInU/src/mechanism_algorithms.jl:508\n  dynamics_bias!(!Matched::DynamicsResult, ::MechanismState) at /Users/blandry/.julia/packages/RigidBodyDynamics/uyInU/src/mechanism_algorithms.jl:515",
      "",
      "Stacktrace:",
      " [1] f(::Array{Float64,1}) at ./In[119]:5",
      " [2] top-level scope at In[120]:1"
     ]
    }
   ],
   "source": [
    "f([1.,0.,0.,0.,0.,0.,0.])\n",
    "# ForwardDiff.jacobian(f,[1.,0.,0.,0.,0.,0.,0.])"
   ]
  }
 ],
 "metadata": {
  "kernelspec": {
   "display_name": "Julia 0.7.0",
   "language": "julia",
   "name": "julia-0.7"
  },
  "language_info": {
   "file_extension": ".jl",
   "mimetype": "application/julia",
   "name": "julia",
   "version": "0.7.0"
  }
 },
 "nbformat": 4,
 "nbformat_minor": 2
}
