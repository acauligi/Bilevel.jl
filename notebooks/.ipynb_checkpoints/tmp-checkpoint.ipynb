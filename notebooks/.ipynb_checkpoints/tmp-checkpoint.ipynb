{
 "cells": [
  {
   "cell_type": "code",
   "execution_count": 15,
   "metadata": {
    "collapsed": false
   },
   "outputs": [],
   "source": [
    "using Revise\n",
    "using Bilevel\n",
    "\n",
    "using RigidBodyDynamics\n",
    "using ForwardDiff\n",
    "using Plots"
   ]
  },
  {
   "cell_type": "code",
   "execution_count": 10,
   "metadata": {
    "collapsed": false
   },
   "outputs": [
    {
     "data": {
      "text/plain": [
       "MechanismState{Float64, Float64, Float64, …}(…)"
      ]
     },
     "execution_count": 10,
     "metadata": {},
     "output_type": "execute_result"
    }
   ],
   "source": [
    "urdf = joinpath(\"..\", \"urdf\", \"ball.urdf\")\n",
    "mechanism = parse_urdf(Float64, urdf)\n",
    "\n",
    "floor = findbody(mechanism, \"floor\")\n",
    "point = Point3D(default_frame(floor), [0.,0.,0.])\n",
    "normal = FreeVector3D(default_frame(floor), [0.,0.,1.])\n",
    "floor_obs = Obstacle(floor, point, normal, :xyz, .5)\n",
    "\n",
    "obstacles = [floor_obs]\n",
    "env = Environment(mechanism, urdf, obstacles)\n",
    "ctrl! = (u,t,x) -> u[:] .= 0.\n",
    "x0 = MechanismState(mechanism)"
   ]
  },
  {
   "cell_type": "code",
   "execution_count": 11,
   "metadata": {
    "collapsed": false
   },
   "outputs": [],
   "source": [
    "q0 = [1., 0., 0., 0., 0., 0., 0.015]\n",
    "v0 = [0., 0., 0., .1, 0., 0.]\n",
    "N = 25\n",
    "Δt = .01\n",
    "\n",
    "sim_data = get_sim_data_indirect(mechanism,env,Δt,relax_comp=false)\n",
    "set_configuration!(x0, q0)\n",
    "set_velocity!(x0, v0)"
   ]
  },
  {
   "cell_type": "code",
   "execution_count": 12,
   "metadata": {
    "collapsed": false
   },
   "outputs": [
    {
     "name": "stdout",
     "output_type": "stream",
     "text": [
      "Finished successfully: optimality conditions satisfied\n",
      "Finished successfully: optimality conditions satisfied\n",
      "Finished successfully: optimality conditions satisfied\n",
      "Finished successfully: optimality conditions satisfied\n",
      "Finished successfully: optimality conditions satisfied\n",
      "Finished successfully: optimality conditions satisfied\n",
      "Finished successfully: optimality conditions satisfied\n",
      "Finished successfully: optimality conditions satisfied\n",
      "Finished successfully: optimality conditions satisfied\n",
      "Finished successfully: optimality conditions satisfied\n",
      "Finished successfully: optimality conditions satisfied\n",
      "Finished successfully: optimality conditions satisfied\n",
      "Finished successfully: optimality conditions satisfied\n",
      "Finished successfully: optimality conditions satisfied\n",
      "Finished successfully: optimality conditions satisfied\n",
      "Finished successfully: optimality conditions satisfied\n",
      "Finished successfully: optimality conditions satisfied\n",
      "Finished successfully: optimality conditions satisfied\n",
      "Finished successfully: optimality conditions satisfied\n",
      "Finished successfully: optimality conditions satisfied\n",
      "Finished successfully: optimality conditions satisfied\n",
      "Finished successfully: optimality conditions satisfied\n",
      "Finished successfully: optimality conditions satisfied\n",
      "Finished successfully: optimality conditions satisfied\n",
      "Finished successfully: optimality conditions satisfied\n"
     ]
    }
   ],
   "source": [
    "traj = Bilevel.simulate(sim_data, ctrl!, x0, N, verbose=1)\n",
    "traj_t = vcat(0.,cumsum([Δt for i in 1:N-1]));\n",
    "traj_q = [traj[sim_data.vs(:qnext),i] for i in 1:N];"
   ]
  },
  {
   "cell_type": "code",
   "execution_count": 17,
   "metadata": {
    "collapsed": false
   },
   "outputs": [
    {
     "ename": "BoundsError",
     "evalue": "BoundsError: attempt to access 24-element Array{Float64,1} at index [1:25]",
     "output_type": "error",
     "traceback": [
      "BoundsError: attempt to access 24-element Array{Float64,1} at index [1:25]",
      "",
      "Stacktrace:",
      " [1] throw_boundserror(::Array{Float64,1}, ::Tuple{UnitRange{Int64}}) at ./abstractarray.jl:492",
      " [2] checkbounds at ./abstractarray.jl:457 [inlined]",
      " [3] getindex(::Array{Float64,1}, ::UnitRange{Int64}) at ./array.jl:737",
      " [4] gr_display(::Plots.Subplot{Plots.GRBackend}, ::Measures.Length{:mm,Float64}, ::Measures.Length{:mm,Float64}, ::Array{Float64,1}) at /Users/blandry/.julia/packages/Plots/ex9On/src/backends/gr.jl:1022",
      " [5] gr_display(::Plots.Plot{Plots.GRBackend}, ::String) at /Users/blandry/.julia/packages/Plots/ex9On/src/backends/gr.jl:575",
      " [6] _show(::Base64.Base64EncodePipe, ::MIME{Symbol(\"image/png\")}, ::Plots.Plot{Plots.GRBackend}) at /Users/blandry/.julia/packages/Plots/ex9On/src/backends/gr.jl:1384",
      " [7] show(::Base64.Base64EncodePipe, ::MIME{Symbol(\"image/png\")}, ::Plots.Plot{Plots.GRBackend}) at /Users/blandry/.julia/packages/Plots/ex9On/src/output.jl:206",
      " [8] #base64encode#3(::Nothing, ::Function, ::Function, ::MIME{Symbol(\"image/png\")}, ::Vararg{Any,N} where N) at /Users/osx/buildbot/slave/package_osx64/build/usr/share/julia/stdlib/v0.7/Base64/src/encode.jl:206",
      " [9] base64encode(::Function, ::MIME{Symbol(\"image/png\")}, ::Vararg{Any,N} where N) at /Users/osx/buildbot/slave/package_osx64/build/usr/share/julia/stdlib/v0.7/Base64/src/encode.jl:203",
      " [10] display_dict(::Plots.Plot{Plots.GRBackend}) at /Users/blandry/.julia/packages/Plots/ex9On/src/init.jl:53",
      " [11] #invokelatest#1 at ./essentials.jl:691 [inlined]",
      " [12] invokelatest at ./essentials.jl:690 [inlined]",
      " [13] execute_request(::ZMQ.Socket, ::IJulia.Msg) at /Users/blandry/.julia/packages/IJulia/9ajf8/src/execute_request.jl:110",
      " [14] #invokelatest#1 at ./essentials.jl:691 [inlined]",
      " [15] invokelatest at ./essentials.jl:690 [inlined]",
      " [16] eventloop(::ZMQ.Socket) at /Users/blandry/.julia/packages/IJulia/9ajf8/src/eventloop.jl:8",
      " [17] (::getfield(IJulia, Symbol(\"##15#18\")))() at ./task.jl:262"
     ]
    }
   ],
   "source": [
    "j = 11\n",
    "clibrary(:Plots)\n",
    "gr(size=(800,500), html_output_format=:png, \n",
    "    seriescolor=:magma,  background_color_legend=:white, \n",
    "    background=RGB(((240,240,240) ./ 255.)...));\n",
    "plot(traj_t,traj[j,:],label=\"Indirect\",seriescolor=RGB(((227,74,51) ./ 255.)...),linewidth=4)\n",
    "# plot!(traj_bi_t,traj_bi[j,:],label=\"Bilevel Solver\",seriescolor=RGB(((254,232,200) ./ 255.)...),linewidth=0,marker=4)"
   ]
  }
 ],
 "metadata": {
  "kernelspec": {
   "display_name": "Julia 0.7.0",
   "language": "julia",
   "name": "julia-0.7"
  },
  "language_info": {
   "file_extension": ".jl",
   "mimetype": "application/julia",
   "name": "julia",
   "version": "0.7.0"
  }
 },
 "nbformat": 4,
 "nbformat_minor": 2
}
