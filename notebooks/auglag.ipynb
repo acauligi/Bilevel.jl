{
 "cells": [
  {
   "cell_type": "code",
   "execution_count": 16,
   "metadata": {
    "collapsed": false
   },
   "outputs": [],
   "source": [
    "using Revise\n",
    "\n",
    "using BilevelTrajOpt\n",
    "using LinearAlgebra\n",
    "using ForwardDiff"
   ]
  },
  {
   "cell_type": "code",
   "execution_count": 4,
   "metadata": {
    "collapsed": false
   },
   "outputs": [
    {
     "data": {
      "text/plain": [
       "4×4 Array{Float64,2}:\n",
       " 0.9575  0.0        0.0      0.0      \n",
       " 0.0     0.0128424  0.0      0.0      \n",
       " 0.0     0.0        0.19172  0.0      \n",
       " 0.0     0.0        0.0      0.0898911"
      ]
     },
     "execution_count": 4,
     "metadata": {},
     "output_type": "execute_result"
    }
   ],
   "source": [
    "a = rand(4)\n",
    "A = Matrix(Diagonal(a))"
   ]
  },
  {
   "cell_type": "code",
   "execution_count": 55,
   "metadata": {
    "collapsed": false
   },
   "outputs": [
    {
     "name": "stdout",
     "output_type": "stream",
     "text": [
      "Solve_Succeeded\n",
      "[6.0, 1.50878e-12, 1.0, 17.0]\n",
      "[6.0, 2.16408e-24, 1.0, 17.0]\n"
     ]
    }
   ],
   "source": [
    "# test the solution\n",
    "function f(x)\n",
    "    return sum(x)\n",
    "end\n",
    "\n",
    "function h(x)\n",
    "    return [6. .- x[1], x[1]*x[2], x[1]*.5 + x[3] - 4.]\n",
    "end\n",
    "\n",
    "function g(x)\n",
    "    return vcat(-x[2:3],5. - x[4],10. - x[4],17. - x[4],5. - x[1]*x[4])\n",
    "end\n",
    "\n",
    "x0 = zeros(4)\n",
    "λ0 = zeros(length(h(x0)))\n",
    "μ0 = zeros(length(g(x0)))\n",
    "c0 = 1.\n",
    "\n",
    "x_sol, λ_sol, μ_sol, c_sol = auglag_solve(x0,λ0,μ0,f,h,g,c0=c0)\n",
    "\n",
    "num_h = length(λ0)\n",
    "num_g = length(μ0)\n",
    "x_sol_ip = ip_solve(x0,f,h,g,num_h,num_g)\n",
    "\n",
    "println(x_sol)\n",
    "println(x_sol_ip)"
   ]
  },
  {
   "cell_type": "code",
   "execution_count": 56,
   "metadata": {
    "collapsed": false
   },
   "outputs": [
    {
     "data": {
      "text/plain": [
       "solve_prob (generic function with 1 method)"
      ]
     },
     "execution_count": 56,
     "metadata": {},
     "output_type": "execute_result"
    }
   ],
   "source": [
    "# test the gradient\n",
    "function solve_prob(z)\n",
    "    function f(x)\n",
    "        return sum(x)\n",
    "    end\n",
    "\n",
    "    function h(x)\n",
    "        return [z[1] - x[1], x[1]*x[2], x[1]*.5 + x[3] - z[2]]\n",
    "    end\n",
    "\n",
    "    function g(x)\n",
    "        return vcat(-x[2:3], z[3] - x[4], 10. - x[4], z[4] - x[4], 5. - x[1]*x[4])\n",
    "    end\n",
    "\n",
    "    x0 = zeros(4)\n",
    "    λ0 = zeros(length(h(x0)))\n",
    "    μ0 = zeros(length(g(x0)))\n",
    "\n",
    "    # x_sol_ip = ip_solve(x0,f,h,g,length(h(x0)),length(g(x0)))\n",
    "    # println(x_sol_ip)\n",
    "    \n",
    "    x_sol, λ_sol, μ_sol, c_sol = auglag_solve(x0,λ0,μ0,f,h,g)\n",
    "    # println(x_sol)\n",
    "\n",
    "    x_sol\n",
    "end"
   ]
  },
  {
   "cell_type": "code",
   "execution_count": 103,
   "metadata": {
    "collapsed": false
   },
   "outputs": [
    {
     "data": {
      "text/plain": [
       "4-element Array{Float64,1}:\n",
       "  5.400794044375547   \n",
       "  0.006073391694890981\n",
       "  0.935586826537582   \n",
       " 14.329164068888042   "
      ]
     },
     "metadata": {},
     "output_type": "display_data"
    },
    {
     "data": {
      "text/plain": [
       "4×4 Array{Float64,2}:\n",
       "  0.897474     0.00945254   -3.73698e-13   2.61753e-11\n",
       "  7.87403e-5  -0.000279967   1.46313e-14  -3.51195e-13\n",
       " -0.439284     0.894099      1.93308e-13  -1.31759e-11\n",
       " -0.200563    -0.0428933    -0.00396176    0.902163   "
      ]
     },
     "metadata": {},
     "output_type": "display_data"
    },
    {
     "data": {
      "text/plain": [
       "4×4 Array{Float64,2}:\n",
       "  0.897474     0.00945437    2.32458e-6  2.5034e-6 \n",
       "  7.96301e-5  -0.000279587   6.77072e-7  1.08092e-6\n",
       " -0.439283     0.894098      2.90573e-6  3.02494e-6\n",
       " -0.200566    -0.0428977    -0.0039643   0.902161  "
      ]
     },
     "metadata": {},
     "output_type": "display_data"
    },
    {
     "data": {
      "text/plain": [
       "4.449259473904288e-6"
      ]
     },
     "metadata": {},
     "output_type": "display_data"
    },
    {
     "name": "stdout",
     "output_type": "stream",
     "text": [
      "----\n"
     ]
    }
   ],
   "source": [
    "# z0 = [2.,-1.,0.,1.]\n",
    "z0 = [6.,4.,5.,17.]\n",
    "\n",
    "sol = solve_prob(z0)\n",
    "\n",
    "# autodiff \n",
    "J_auto = ForwardDiff.jacobian(solve_prob,z0)\n",
    "\n",
    "# numerical\n",
    "ϵ = sqrt(eps(1.))\n",
    "J_num = zeros(size(J_auto))\n",
    "for i = 1:length(z0)\n",
    "    δ = zeros(length(z0))\n",
    "    δ[i] = ϵ\n",
    "    J_num[:,i] = (solve_prob(z0 + δ) - sol) ./ ϵ\n",
    "end\n",
    "\n",
    "println(\"----\")\n",
    "display(sol)\n",
    "display(J_auto)\n",
    "display(J_num)\n",
    "display(maximum(abs.(J_auto - J_num)))"
   ]
  },
  {
   "cell_type": "code",
   "execution_count": 97,
   "metadata": {
    "collapsed": false
   },
   "outputs": [
    {
     "data": {
      "text/plain": [
       "0.002547256759153016"
      ]
     },
     "metadata": {},
     "output_type": "display_data"
    }
   ],
   "source": [
    "display(maximum(abs.(J_auto - J_num)))"
   ]
  }
 ],
 "metadata": {
  "kernelspec": {
   "display_name": "Julia 0.7.0",
   "language": "julia",
   "name": "julia-0.7"
  },
  "language_info": {
   "file_extension": ".jl",
   "mimetype": "application/julia",
   "name": "julia",
   "version": "0.7.0"
  }
 },
 "nbformat": 4,
 "nbformat_minor": 2
}
