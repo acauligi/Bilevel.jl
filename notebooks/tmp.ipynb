{
 "cells": [
  {
   "cell_type": "code",
   "execution_count": 6,
   "metadata": {
    "collapsed": false
   },
   "outputs": [],
   "source": [
    "using Revise\n",
    "using Bilevel\n",
    "\n",
    "using RigidBodyDynamics\n",
    "using ForwardDiff"
   ]
  },
  {
   "cell_type": "code",
   "execution_count": 2,
   "metadata": {
    "collapsed": false
   },
   "outputs": [
    {
     "data": {
      "text/plain": [
       "1-element Array{Obstacle,1}:\n",
       " Obstacle(RigidBody: \"floor\", Point3D in \"after_floor_to_world\": [0.0, 0.0, 0.0], FreeVector3D in \"after_floor_to_world\": [0.0, 0.0, 1.0], [1.0 6.12323e-17 -1.0 -1.83697e-16; 0.0 1.0 1.22465e-16 -1.0; 0.0 0.0 0.0 0.0], 0.5, false)"
      ]
     },
     "execution_count": 2,
     "metadata": {},
     "output_type": "execute_result"
    }
   ],
   "source": [
    "urdf = joinpath(\"..\", \"urdf\", \"ball.urdf\")\n",
    "mechanism = parse_urdf(Float64, urdf)\n",
    "\n",
    "floor = findbody(mechanism, \"floor\")\n",
    "point = Point3D(default_frame(floor), [0.,0.,0.])\n",
    "normal = FreeVector3D(default_frame(floor), [0.,0.,1.])\n",
    "floor_obs = Obstacle(floor, point, normal, :xyz, .5)\n",
    "\n",
    "obstacles = [floor_obs]"
   ]
  },
  {
   "cell_type": "code",
   "execution_count": 3,
   "metadata": {
    "collapsed": false
   },
   "outputs": [
    {
     "data": {
      "text/plain": [
       "Environment(Contact[Contact(Spanning tree:\n",
       "Vertex: world (root)\n",
       "  Vertex: floor, Edge: floor_to_world\n",
       "    Vertex: ball, Edge: floor_to_ball\n",
       "No non-tree joints., ball, Point3D in \"after_floor_to_ball\": [0.0, 0.0, 0.0], Obstacle(floor, Point3D in \"after_floor_to_world\": [0.0, 0.0, 0.0], FreeVector3D in \"after_floor_to_world\": [0.0, 0.0, 1.0], [1.0 6.12323e-17 -1.0 -1.83697e-16; 0.0 1.0 1.22465e-16 -1.0; 0.0 0.0 0.0 0.0], 0.5, false))])"
      ]
     },
     "execution_count": 3,
     "metadata": {},
     "output_type": "execute_result"
    }
   ],
   "source": [
    "env = Environment(mechanism, urdf, obstacles)"
   ]
  },
  {
   "cell_type": "code",
   "execution_count": 4,
   "metadata": {
    "collapsed": false
   },
   "outputs": [
    {
     "data": {
      "text/plain": [
       "SimData(Spanning tree:\n",
       "Vertex: world (root)\n",
       "  Vertex: floor, Edge: floor_to_world\n",
       "    Vertex: ball, Edge: floor_to_ball\n",
       "No non-tree joints., Environment(Contact[Contact(Spanning tree:\n",
       "Vertex: world (root)\n",
       "  Vertex: floor, Edge: floor_to_world\n",
       "    Vertex: ball, Edge: floor_to_ball\n",
       "No non-tree joints., ball, Point3D in \"after_floor_to_ball\": [0.0, 0.0, 0.0], Obstacle(floor, Point3D in \"after_floor_to_world\": [0.0, 0.0, 0.0], FreeVector3D in \"after_floor_to_world\": [0.0, 0.0, 1.0], [1.0 6.12323e-17 -1.0 -1.83697e-16; 0.0 1.0 1.22465e-16 -1.0; 0.0 0.0 0.0 0.0], 0.5, false))]), StateCache{…}(…), StateCache{…}(…), EnvironmentJacobianCache{…}(…), 0.01, Bilevel.VariableSelector(Dict(:qnext=>1:7,:vnext=>8:13,:β1=>14:17,:λ1=>18:18,:c_n1=>19:19), 19), Bilevel.ConstraintSelector(Dict(:dyn=>8:13,:fric_β_comp1=>15:18,:ϕ_c_n_comp1=>14:14,:kin=>1:7,:cone_λ_comp1=>19:19), 19, Dict(:ϕ_pos1=>7:7,:fric_pos1=>8:11,:c_n_pos1=>6:6,:β_pos1=>1:4,:λ_pos1=>5:5,:cone_pos1=>12:12), 12), :generate_solver_fn_sim_indirect)"
      ]
     },
     "execution_count": 4,
     "metadata": {},
     "output_type": "execute_result"
    }
   ],
   "source": [
    "sim_data = get_sim_data_indirect(mechanism,env,.01,relax_comp=false)"
   ]
  },
  {
   "cell_type": "code",
   "execution_count": 18,
   "metadata": {
    "collapsed": false
   },
   "outputs": [
    {
     "data": {
      "text/plain": [
       "EnvironmentJacobian{ForwardDiff.Dual}(Bilevel.ContactJacobian{ForwardDiff.Dual}[ContactJacobian{Dual}(Contact(Spanning tree:\n",
       "Vertex: world (root)\n",
       "  Vertex: floor, Edge: floor_to_world\n",
       "    Vertex: ball, Edge: floor_to_ball\n",
       "No non-tree joints., ball, Point3D in \"after_floor_to_ball\": [0.0, 0.0, 0.0], Obstacle(floor, Point3D in \"after_floor_to_world\": [0.0, 0.0, 0.0], FreeVector3D in \"after_floor_to_world\": [0.0, 0.0, 1.0], [1.0 6.12323e-17 -1.0 -1.83697e-16; 0.0 1.0 1.22465e-16 -1.0; 0.0 0.0 0.0 0.0], 0.5, false)), [0.0 9.81 … -9.81 -1.80207e-15; 0.0 0.0 … 1.20138e-15 -9.81; 9.81 0.0 … 0.0 0.0], Dual{Nothing}(0.0), ForwardDiff.Dual[Dual{Nothing}(1.0) Dual{Nothing}(0.0) Dual{Nothing}(0.0); Dual{Nothing}(0.0) Dual{Nothing}(1.0) Dual{Nothing}(0.0); Dual{Nothing}(0.0) Dual{Nothing}(0.0) Dual{Nothing}(1.0)], ForwardDiff.Dual[Dual{Nothing}(0.0), Dual{Nothing}(0.0), Dual{Nothing}(0.0)], GeometricJacobian: body: \"world\", base: \"after_floor_to_ball\", expressed in \"world\":\n",
       "ForwardDiff.Dual[Dual{Nothing}(-1.0) Dual{Nothing}(-0.0) Dual{Nothing}(-0.0) Dual{Nothing}(-0.0) Dual{Nothing}(-0.0) Dual{Nothing}(-0.0); Dual{Nothing}(-0.0) Dual{Nothing}(-1.0) Dual{Nothing}(-0.0) Dual{Nothing}(-0.0) Dual{Nothing}(-0.0) Dual{Nothing}(-0.0); Dual{Nothing}(-0.0) Dual{Nothing}(-0.0) Dual{Nothing}(-1.0) Dual{Nothing}(-0.0) Dual{Nothing}(-0.0) Dual{Nothing}(-0.0); Dual{Nothing}(-0.0) Dual{Nothing}(-0.0) Dual{Nothing}(-0.0) Dual{Nothing}(-1.0) Dual{Nothing}(-0.0) Dual{Nothing}(-0.0); Dual{Nothing}(-0.0) Dual{Nothing}(-0.0) Dual{Nothing}(-0.0) Dual{Nothing}(-0.0) Dual{Nothing}(-1.0) Dual{Nothing}(-0.0); Dual{Nothing}(-0.0) Dual{Nothing}(-0.0) Dual{Nothing}(-0.0) Dual{Nothing}(-0.0) Dual{Nothing}(-0.0) Dual{Nothing}(-1.0)], nothing, ForwardDiff.Dual[Dual{Nothing}(0.0) Dual{Nothing}(-0.0) Dual{Nothing}(0.0); Dual{Nothing}(0.0) Dual{Nothing}(0.0) Dual{Nothing}(-0.0); Dual{Nothing}(-0.0) Dual{Nothing}(0.0) Dual{Nothing}(0.0)], ForwardDiff.Dual[Dual{Nothing}(0.0) Dual{Nothing}(0.0) … Dual{Nothing}(0.0) Dual{Nothing}(0.0); Dual{Nothing}(0.0) Dual{Nothing}(0.0) … Dual{Nothing}(0.0) Dual{Nothing}(0.0); … ; Dual{Nothing}(0.0) Dual{Nothing}(0.0) … Dual{Nothing}(-1.20138e-15) Dual{Nothing}(9.81); Dual{Nothing}(-9.81) Dual{Nothing}(0.0) … Dual{Nothing}(0.0) Dual{Nothing}(0.0)])])"
      ]
     },
     "execution_count": 18,
     "metadata": {},
     "output_type": "execute_result"
    }
   ],
   "source": [
    "sim_data.envj_cache[ForwardDiff.Dual]"
   ]
  },
  {
   "cell_type": "code",
   "execution_count": 20,
   "metadata": {
    "collapsed": false
   },
   "outputs": [
    {
     "data": {
      "text/plain": [
       "19"
      ]
     },
     "execution_count": 20,
     "metadata": {},
     "output_type": "execute_result"
    }
   ],
   "source": [
    "sim_data.vs.num_vars"
   ]
  },
  {
   "cell_type": "code",
   "execution_count": 22,
   "metadata": {
    "collapsed": false
   },
   "outputs": [
    {
     "data": {
      "text/plain": [
       "31-element Array{Float64,1}:\n",
       " 0.0\n",
       " 0.0\n",
       " 0.0\n",
       " 0.0\n",
       " 0.0\n",
       " 0.0\n",
       " 0.0\n",
       " 0.0\n",
       " 0.0\n",
       " 0.0\n",
       " 0.0\n",
       " 0.0\n",
       " 0.0\n",
       " ⋮  \n",
       " 0.0\n",
       " 0.0\n",
       " 0.0\n",
       " 0.0\n",
       " 0.0\n",
       " 0.0\n",
       " 0.0\n",
       " 0.0\n",
       " 0.0\n",
       " 0.0\n",
       " 0.0\n",
       " 0.0"
      ]
     },
     "execution_count": 22,
     "metadata": {},
     "output_type": "execute_result"
    }
   ],
   "source": [
    "q0 = [1., 0., 0., 0., 0., 0., 0.]\n",
    "v0 = [0., 0., 0., 0., 0., 0.]\n",
    "u0 = [0., 0., 0., 0., 0., 0.]\n",
    "dyn = generate_solver_fn_sim_indirect(sim_data, q0, v0, u0)\n",
    "dyn(vcat(q0,v0,zeros(6)))"
   ]
  },
  {
   "cell_type": "code",
   "execution_count": 38,
   "metadata": {
    "collapsed": false
   },
   "outputs": [
    {
     "data": {
      "text/plain": [
       "31×19 Array{Float64,2}:\n",
       "   2.27558e-314  NaN             …  NaN             NaN           \n",
       " NaN               2.27558e-314       1.9098e-312     1.84614e-312\n",
       "   2.27558e-314    2.27558e-314       3.37397e-312    3.33153e-312\n",
       " NaN             NaN                  4.71083e-312    4.56229e-312\n",
       "   2.27558e-314    2.27558e-314       2.54639e-313    2.75859e-313\n",
       " NaN             NaN             …    6.28111e-312    6.13257e-312\n",
       "   2.27558e-314  NaN                  2.97079e-313    2.97079e-313\n",
       "   2.27558e-314    2.27558e-314       6.98137e-312    6.89649e-312\n",
       "   2.27558e-314  NaN                  3.60739e-313    3.60739e-313\n",
       " NaN               2.27558e-314     NaN             NaN           \n",
       "   2.27558e-314    2.34903e-314  …    1.0228e-311     1.00158e-311\n",
       " NaN               2.34791e-314     NaN             NaN           \n",
       "   2.27558e-314  NaN                  4.45619e-313    4.45619e-313\n",
       "   ⋮                             ⋱                                \n",
       " NaN               2.27558e-314       1.73579e-311    1.73791e-311\n",
       "   2.27558e-314    2.27558e-314  …  NaN               2.09441e-311\n",
       "   2.27558e-314    2.27558e-314       6.57819e-313    6.57819e-313\n",
       "   2.27558e-314    2.27558e-314     NaN             NaN           \n",
       " NaN               2.34848e-314       2.19839e-311    2.209e-311  \n",
       "   2.27558e-314  NaN                NaN             NaN           \n",
       " NaN               2.27558e-314  …    2.32359e-311    2.33207e-311\n",
       "   2.27558e-314    2.27558e-314       5.30132e-321    8.06358e-313\n",
       " NaN             NaN                  8.70018e-313    2.43393e-311\n",
       "   2.27558e-314    2.27558e-314       2.48486e-311    2.4891e-311 \n",
       " NaN             NaN                  2.53154e-311    2.52093e-311\n",
       "   2.27558e-314  NaN             …    2.6334e-311     2.52517e-311"
      ]
     },
     "execution_count": 38,
     "metadata": {},
     "output_type": "execute_result"
    }
   ],
   "source": [
    "ForwardDiff.jacobian(dyn,vcat(q0,v0,zeros(6)))"
   ]
  }
 ],
 "metadata": {
  "kernelspec": {
   "display_name": "Julia 0.7.0",
   "language": "julia",
   "name": "julia-0.7"
  },
  "language_info": {
   "file_extension": ".jl",
   "mimetype": "application/julia",
   "name": "julia",
   "version": "0.7.0"
  }
 },
 "nbformat": 4,
 "nbformat_minor": 2
}
