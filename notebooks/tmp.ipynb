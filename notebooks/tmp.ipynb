{
 "cells": [
  {
   "cell_type": "code",
   "execution_count": 1,
   "metadata": {
    "collapsed": false
   },
   "outputs": [
    {
     "name": "stderr",
     "output_type": "stream",
     "text": [
      "┌ Info: Precompiling Bilevel [9688c538-179f-11e9-3174-495cea6b7f67]\n",
      "└ @ Base loading.jl:1187\n",
      "┌ Info: Recompiling stale cache file /Users/blandry/.julia/compiled/v0.7/ForwardDiff/k0ETY.ji for ForwardDiff [f6369f11-7733-5829-9624-2563aa707210]\n",
      "└ @ Base loading.jl:1185\n",
      "┌ Info: Recompiling stale cache file /Users/blandry/.julia/compiled/v0.7/Ipopt/yMQMo.ji for Ipopt [b6b21f68-93f8-5de0-b562-5493be1d77c9]\n",
      "└ @ Base loading.jl:1185\n",
      "┌ Info: Recompiling stale cache file /Users/blandry/.julia/compiled/v0.7/RigidBodyDynamics/WeevQ.ji for RigidBodyDynamics [366cf18f-59d5-5db9-a4de-86a9f6786172]\n",
      "└ @ Base loading.jl:1185\n",
      "┌ Warning: Deprecated syntax `@doc call with ->` at /Users/blandry/.julia/packages/RigidBodyDynamics/uyInU/src/spatial/frame.jl:34.\n",
      "│ Use `a line break` instead.\n",
      "└ @ ~/.julia/packages/RigidBodyDynamics/uyInU/src/spatial/frame.jl:34\n",
      "┌ Warning: Deprecated syntax `@doc call with ->` at /Users/blandry/.julia/packages/RigidBodyDynamics/uyInU/src/spatial/frame.jl:45.\n",
      "│ Use `a line break` instead.\n",
      "└ @ ~/.julia/packages/RigidBodyDynamics/uyInU/src/spatial/frame.jl:45\n",
      "┌ Warning: Deprecated syntax `@doc call with ->` at /Users/blandry/.julia/packages/RigidBodyDynamics/uyInU/src/joint_types/prismatic.jl:20.\n",
      "│ Use `a line break` instead.\n",
      "└ @ ~/.julia/packages/RigidBodyDynamics/uyInU/src/joint_types/prismatic.jl:20\n",
      "┌ Warning: Deprecated syntax `@doc call with ->` at /Users/blandry/.julia/packages/RigidBodyDynamics/uyInU/src/joint_types/planar.jl:39.\n",
      "│ Use `a line break` instead.\n",
      "└ @ ~/.julia/packages/RigidBodyDynamics/uyInU/src/joint_types/planar.jl:39\n",
      "┌ Warning: Deprecated syntax `@doc call with ->` at /Users/blandry/.julia/packages/RigidBodyDynamics/uyInU/src/mechanism.jl:34.\n",
      "│ Use `a line break` instead.\n",
      "└ @ ~/.julia/packages/RigidBodyDynamics/uyInU/src/mechanism.jl:34\n",
      "┌ Warning: Deprecated syntax `@doc call with ->` at /Users/blandry/.julia/packages/RigidBodyDynamics/uyInU/src/ode_integrators.jl:223.\n",
      "│ Use `a line break` instead.\n",
      "└ @ ~/.julia/packages/RigidBodyDynamics/uyInU/src/ode_integrators.jl:223\n",
      "┌ Info: Recompiling stale cache file /Users/blandry/.julia/compiled/v0.7/MechanismGeometries/lrgai.ji for MechanismGeometries [931e9471-e8fb-5385-a477-07ad12718aca]\n",
      "└ @ Base loading.jl:1185\n"
     ]
    }
   ],
   "source": [
    "using Revise\n",
    "using Bilevel\n",
    "\n",
    "using RigidBodyDynamics"
   ]
  },
  {
   "cell_type": "code",
   "execution_count": 2,
   "metadata": {
    "collapsed": false
   },
   "outputs": [
    {
     "data": {
      "text/plain": [
       "1-element Array{Obstacle,1}:\n",
       " Obstacle(RigidBody: \"floor\", Point3D in \"after_floor_to_world\": [0.0, 0.0, 0.0], FreeVector3D in \"after_floor_to_world\": [0.0, 0.0, 1.0], [1.0 6.12323e-17 -1.0 -1.83697e-16; 0.0 1.0 1.22465e-16 -1.0; 0.0 0.0 0.0 0.0], 0.5, false)"
      ]
     },
     "execution_count": 2,
     "metadata": {},
     "output_type": "execute_result"
    }
   ],
   "source": [
    "urdf = joinpath(\"..\", \"urdf\", \"ball.urdf\")\n",
    "mechanism = parse_urdf(Float64, urdf)\n",
    "\n",
    "floor = findbody(mechanism, \"floor\")\n",
    "point = Point3D(default_frame(floor), [0.,0.,0.])\n",
    "normal = FreeVector3D(default_frame(floor), [0.,0.,1.])\n",
    "floor_obs = Obstacle(floor, point, normal, :xyz, .5)\n",
    "\n",
    "obstacles = [floor_obs]"
   ]
  },
  {
   "cell_type": "code",
   "execution_count": 3,
   "metadata": {
    "collapsed": false
   },
   "outputs": [
    {
     "data": {
      "text/plain": [
       "Environment(Contact[Contact(Spanning tree:\n",
       "Vertex: world (root)\n",
       "  Vertex: floor, Edge: floor_to_world\n",
       "    Vertex: ball, Edge: floor_to_ball\n",
       "No non-tree joints., ball, Point3D in \"after_floor_to_ball\": [0.0, 0.0, 0.0], Obstacle(floor, Point3D in \"after_floor_to_world\": [0.0, 0.0, 0.0], FreeVector3D in \"after_floor_to_world\": [0.0, 0.0, 1.0], [1.0 6.12323e-17 -1.0 -1.83697e-16; 0.0 1.0 1.22465e-16 -1.0; 0.0 0.0 0.0 0.0], 0.5, false))])"
      ]
     },
     "execution_count": 3,
     "metadata": {},
     "output_type": "execute_result"
    }
   ],
   "source": [
    "env = Environment(mechanism, urdf, obstacles)"
   ]
  },
  {
   "cell_type": "code",
   "execution_count": 5,
   "metadata": {
    "collapsed": false
   },
   "outputs": [
    {
     "data": {
      "text/plain": [
       "SimData(Spanning tree:\n",
       "Vertex: world (root)\n",
       "  Vertex: floor, Edge: floor_to_world\n",
       "    Vertex: ball, Edge: floor_to_ball\n",
       "No non-tree joints., StateCache{…}(…), StateCache{…}(…), Bilevel.EnvironmentCache(Bilevel.ContactJacobianCache[ContactJacobianCache{Dual}(Contact(Spanning tree:\n",
       "Vertex: world (root)\n",
       "  Vertex: floor, Edge: floor_to_world\n",
       "    Vertex: ball, Edge: floor_to_ball\n",
       "No non-tree joints., ball, Point3D in \"after_floor_to_ball\": [0.0, 0.0, 0.0], Obstacle(floor, Point3D in \"after_floor_to_world\": [0.0, 0.0, 0.0], FreeVector3D in \"after_floor_to_world\": [0.0, 0.0, 1.0], [1.0 6.12323e-17 -1.0 -1.83697e-16; 0.0 1.0 1.22465e-16 -1.0; 0.0 0.0 0.0 0.0], 0.5, false)), [0.0 9.81 … -9.81 -1.80207e-15; 0.0 0.0 … 1.20138e-15 -9.81; 9.81 0.0 … 0.0 0.0], Dual{Nothing}(0.0), ForwardDiff.Dual[Dual{Nothing}(1.0) Dual{Nothing}(0.0) Dual{Nothing}(0.0); Dual{Nothing}(0.0) Dual{Nothing}(1.0) Dual{Nothing}(0.0); Dual{Nothing}(0.0) Dual{Nothing}(0.0) Dual{Nothing}(1.0)], ForwardDiff.Dual[Dual{Nothing}(0.0), Dual{Nothing}(0.0), Dual{Nothing}(0.0)], GeometricJacobian: body: \"world\", base: \"after_floor_to_ball\", expressed in \"world\":\n",
       "ForwardDiff.Dual[Dual{Nothing}(-1.0) Dual{Nothing}(-0.0) Dual{Nothing}(-0.0) Dual{Nothing}(-0.0) Dual{Nothing}(-0.0) Dual{Nothing}(-0.0); Dual{Nothing}(-0.0) Dual{Nothing}(-1.0) Dual{Nothing}(-0.0) Dual{Nothing}(-0.0) Dual{Nothing}(-0.0) Dual{Nothing}(-0.0); Dual{Nothing}(-0.0) Dual{Nothing}(-0.0) Dual{Nothing}(-1.0) Dual{Nothing}(-0.0) Dual{Nothing}(-0.0) Dual{Nothing}(-0.0); Dual{Nothing}(-0.0) Dual{Nothing}(-0.0) Dual{Nothing}(-0.0) Dual{Nothing}(-1.0) Dual{Nothing}(-0.0) Dual{Nothing}(-0.0); Dual{Nothing}(-0.0) Dual{Nothing}(-0.0) Dual{Nothing}(-0.0) Dual{Nothing}(-0.0) Dual{Nothing}(-1.0) Dual{Nothing}(-0.0); Dual{Nothing}(-0.0) Dual{Nothing}(-0.0) Dual{Nothing}(-0.0) Dual{Nothing}(-0.0) Dual{Nothing}(-0.0) Dual{Nothing}(-1.0)], nothing, ForwardDiff.Dual[Dual{Nothing}(0.0) Dual{Nothing}(-0.0) Dual{Nothing}(0.0); Dual{Nothing}(0.0) Dual{Nothing}(0.0) Dual{Nothing}(-0.0); Dual{Nothing}(-0.0) Dual{Nothing}(0.0) Dual{Nothing}(0.0)], ForwardDiff.Dual[Dual{Nothing}(0.0) Dual{Nothing}(0.0) … Dual{Nothing}(0.0) Dual{Nothing}(0.0); Dual{Nothing}(0.0) Dual{Nothing}(0.0) … Dual{Nothing}(0.0) Dual{Nothing}(0.0); … ; Dual{Nothing}(0.0) Dual{Nothing}(0.0) … Dual{Nothing}(-1.20138e-15) Dual{Nothing}(9.81); Dual{Nothing}(-9.81) Dual{Nothing}(0.0) … Dual{Nothing}(0.0) Dual{Nothing}(0.0)])]), 0.01, Bilevel.VariableSelector(Dict(:qnext=>1:7,:vnext=>8:13,:β1=>14:17,:λ1=>18:18,:c_n1=>19:19), 19), Bilevel.ConstraintSelector(Dict(:dyn=>8:13,:fric_β_comp1=>15:18,:ϕ_c_n_comp1=>14:14,:kin=>1:7,:cone_λ_comp1=>19:19), 19, Dict(:ϕ_pos1=>7:7,:fric_pos1=>8:11,:c_n_pos1=>6:6,:β_pos1=>1:4,:λ_pos1=>5:5,:cone_pos1=>12:12), 12), :generate_solver_fn_sim_indirect)"
      ]
     },
     "execution_count": 5,
     "metadata": {},
     "output_type": "execute_result"
    }
   ],
   "source": [
    "sim_data = get_sim_data_indirect(mechanism,env,.01,relax_comp=false)"
   ]
  },
  {
   "cell_type": "code",
   "execution_count": 9,
   "metadata": {
    "collapsed": false
   },
   "outputs": [
    {
     "data": {
      "text/plain": [
       "Bilevel.EnvironmentCache(Bilevel.ContactJacobianCache[ContactJacobianCache{Float64}(Contact(Spanning tree:\n",
       "Vertex: world (root)\n",
       "  Vertex: floor, Edge: floor_to_world\n",
       "    Vertex: ball, Edge: floor_to_ball\n",
       "No non-tree joints., ball, Point3D in \"after_floor_to_ball\": [0.0, 0.0, 0.0], Obstacle(floor, Point3D in \"after_floor_to_world\": [0.0, 0.0, 0.0], FreeVector3D in \"after_floor_to_world\": [0.0, 0.0, 1.0], [1.0 6.12323e-17 -1.0 -1.83697e-16; 0.0 1.0 1.22465e-16 -1.0; 0.0 0.0 0.0 0.0], 0.5, false)), [0.0 9.81 … -9.81 -1.80207e-15; 0.0 0.0 … 1.20138e-15 -9.81; 9.81 0.0 … 0.0 0.0], 0.0, [1.0 0.0 0.0; 0.0 1.0 0.0; 0.0 0.0 1.0], [0.0, 0.0, 0.0], GeometricJacobian: body: \"world\", base: \"after_floor_to_ball\", expressed in \"world\":\n",
       "[-1.0 -0.0 -0.0 -0.0 -0.0 -0.0; -0.0 -1.0 -0.0 -0.0 -0.0 -0.0; -0.0 -0.0 -1.0 -0.0 -0.0 -0.0; -0.0 -0.0 -0.0 -1.0 -0.0 -0.0; -0.0 -0.0 -0.0 -0.0 -1.0 -0.0; -0.0 -0.0 -0.0 -0.0 -0.0 -1.0], nothing, [0.0 -0.0 0.0; 0.0 0.0 -0.0; -0.0 0.0 0.0], [0.0 0.0 … 0.0 0.0; 0.0 0.0 … 0.0 0.0; … ; 0.0 0.0 … -1.20138e-15 9.81; -9.81 0.0 … 0.0 0.0])])"
      ]
     },
     "execution_count": 9,
     "metadata": {},
     "output_type": "execute_result"
    }
   ],
   "source": [
    "ec = Bilevel.EnvironmentCache(env, sim_data.xn_cache[Fo])"
   ]
  },
  {
   "cell_type": "code",
   "execution_count": 25,
   "metadata": {
    "collapsed": false
   },
   "outputs": [],
   "source": [
    "Bilevel.contact_jacobian!(ec, sim_data.xn_cache[Float64])"
   ]
  },
  {
   "cell_type": "markdown",
   "metadata": {},
   "source": [
    "Compute the resulting force as a free vector at the contact point (D \\beta + c_n)\n",
    "\n",
    "Rotate this free vector in the world frame\n",
    "\n",
    "Transform the contact point from the body (with the contact point) frame to the root frame\n",
    "\n",
    "linear is just the force\n",
    "\n",
    "angular is point \\times force\n",
    "\n",
    "Compute the resulting joint torque from the wrench using the geometric jacobian"
   ]
  }
 ],
 "metadata": {
  "kernelspec": {
   "display_name": "Julia 0.7.0",
   "language": "julia",
   "name": "julia-0.7"
  },
  "language_info": {
   "file_extension": ".jl",
   "mimetype": "application/julia",
   "name": "julia",
   "version": "0.7.0"
  }
 },
 "nbformat": 4,
 "nbformat_minor": 2
}
