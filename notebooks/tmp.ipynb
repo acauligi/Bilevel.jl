{
 "cells": [
  {
   "cell_type": "code",
   "execution_count": 24,
   "metadata": {
    "collapsed": false
   },
   "outputs": [],
   "source": [
    "using Revise\n",
    "using Bilevel\n",
    "\n",
    "using RigidBodyDynamics\n",
    "using MeshCatMechanisms\n",
    "using MeshCat\n",
    "using ForwardDiff\n",
    "using Plots\n",
    "using BenchmarkTools\n",
    "using LinearAlgebra"
   ]
  },
  {
   "cell_type": "code",
   "execution_count": 2,
   "metadata": {
    "collapsed": false
   },
   "outputs": [
    {
     "data": {
      "text/plain": [
       "MechanismState{Float64, Float64, Float64, …}(…)"
      ]
     },
     "execution_count": 2,
     "metadata": {},
     "output_type": "execute_result"
    }
   ],
   "source": [
    "urdf = joinpath(\"..\", \"urdf\", \"ball.urdf\")\n",
    "mechanism = parse_urdf(Float64, urdf)\n",
    "\n",
    "floor = findbody(mechanism, \"floor\")\n",
    "point = Point3D(default_frame(floor), [0.,0.,0.])\n",
    "normal = FreeVector3D(default_frame(floor), [0.,0.,1.])\n",
    "floor_obs = Obstacle(floor, point, normal, :xyz, .5)\n",
    "\n",
    "obstacles = [floor_obs]\n",
    "env = Environment(mechanism, urdf, obstacles)\n",
    "ctrl! = (u,t,x) -> u[:] .= 0.\n",
    "x0 = MechanismState(mechanism)"
   ]
  },
  {
   "cell_type": "markdown",
   "metadata": {},
   "source": [
    "# Simulation"
   ]
  },
  {
   "cell_type": "code",
   "execution_count": 3,
   "metadata": {
    "collapsed": false
   },
   "outputs": [],
   "source": [
    "q1 = [1., 0., 0., 0., 0., 0., 0.015]\n",
    "v1 = [0., 0., 0., 1., 0., 0.]\n",
    "N = 25\n",
    "# q1 = [1., 0., 0., 0., 0., 0., 0.]\n",
    "# v1 = [0., 0., 0., 1., 0., 0.]\n",
    "# N = 10\n",
    "Δt = .01\n",
    "\n",
    "sim_data_indirect = get_sim_data_indirect(mechanism,env,Δt,relax_comp=false)\n",
    "sim_data_direct = get_sim_data_direct(mechanism,env,Δt)\n",
    "set_configuration!(x0, q1)\n",
    "set_velocity!(x0, v1)"
   ]
  },
  {
   "cell_type": "code",
   "execution_count": 4,
   "metadata": {
    "collapsed": false
   },
   "outputs": [
    {
     "name": "stdout",
     "output_type": "stream",
     "text": [
      "Finished successfully: optimality conditions satisfied\n",
      "Finished successfully: optimality conditions satisfied\n",
      "Finished successfully: optimality conditions satisfied\n",
      "Finished successfully: optimality conditions satisfied\n",
      "Finished successfully: optimality conditions satisfied\n",
      "Finished successfully: optimality conditions satisfied\n",
      "Finished successfully: optimality conditions satisfied\n",
      "Finished successfully: optimality conditions satisfied\n",
      "Finished successfully: optimality conditions satisfied\n",
      "Finished successfully: optimality conditions satisfied\n",
      "Finished successfully: optimality conditions satisfied\n",
      "Finished successfully: optimality conditions satisfied\n",
      "Finished successfully: optimality conditions satisfied\n",
      "Finished successfully: optimality conditions satisfied\n",
      "Finished successfully: optimality conditions satisfied\n",
      "Finished successfully: optimality conditions satisfied\n",
      "Finished successfully: optimality conditions satisfied\n",
      "Finished successfully: optimality conditions satisfied\n",
      "Finished successfully: optimality conditions satisfied\n",
      "Finished successfully: optimality conditions satisfied\n",
      "Finished successfully: optimality conditions satisfied\n",
      "Finished successfully: optimality conditions satisfied\n",
      "Finished successfully: optimality conditions satisfied\n",
      "Finished successfully: optimality conditions satisfied\n"
     ]
    },
    {
     "data": {
      "text/plain": [
       "(Any[[1.0, 0.0, 0.0, 0.0, 0.0, 0.0, 0.015], [1.0, 0.0, 1.65037e-10, -6.85009e-25, 0.01, -1.35305e-26, 0.014019], [1.0, 0.0, 5.04735e-10, -6.85009e-25, 0.02, -1.35305e-26, 0.012057], [1.0, 0.0, 1.04531e-9, -6.85009e-25, 0.03, -1.35305e-26, 0.009114], [1.0, 0.0, 1.8492e-9, -6.85009e-25, 0.04, -1.35305e-26, 0.00519], [1.0, 0.0, 3.11326e-9, -6.85009e-25, 0.05, -1.35305e-26, 0.000285], [1.0, -2.91168e-21, 4.20869e-9, 3.79577e-20, 0.0571995, 5.48007e-24, -5.69206e-19], [1.0, -2.91168e-21, 0.000393223, 3.79577e-20, 0.0637655, 5.48007e-24, -5.69206e-19], [1.0, -2.91168e-21, 0.000797848, 3.79577e-20, 0.0698408, 5.48007e-24, -5.69206e-19], [0.999999, -2.91168e-21, 0.00120233, 3.79577e-20, 0.0754255, 5.48003e-24, -5.69206e-19]  …  [0.999993, -2.91168e-21, 0.00362621, 3.79576e-20, 0.0986285, 5.47977e-24, -5.69206e-19], [0.999991, -2.91168e-21, 0.00402971, 3.79576e-20, 0.100778, 5.47972e-24, -5.69206e-19], [0.999989, -2.91168e-21, 0.00443308, 3.79576e-20, 0.102437, 5.47972e-24, -5.69206e-19], [0.999987, 3.22013e-15, 0.00483631, 7.54918e-20, 0.103606, 5.96291e-20, -5.69206e-19], [0.999985, 3.22013e-15, 0.00523941, 7.54918e-20, 0.104283, 5.96291e-20, -5.69206e-19], [0.999983, 3.22013e-15, 0.00564238, 7.54918e-20, 0.10447, 5.96291e-20, -5.69206e-19], [0.999982, 8.60592e-14, 0.00572202, -6.91052e-11, 0.10447, 5.26652e-16, 5.69206e-19], [0.999982, 8.60592e-14, 0.00580165, -1.38211e-10, 0.10447, -2.09808e-14, 5.69206e-19], [0.999982, 8.60592e-14, 0.00588129, -2.07316e-10, 0.10447, -2.09808e-14, 5.69206e-19], [0.999981, 8.60592e-14, 0.00596093, -2.76421e-10, 0.10447, -2.09808e-14, 5.69206e-19]], Any[[0.0, 0.0, 0.0, 1.0, 0.0, 0.0], [0.0, 3.30074e-8, -1.35658e-22, 1.0, 0.0, -0.0981], [0.0, 6.79395e-8, -1.35658e-22, 1.0, 0.0, -0.1962], [0.0, 1.08115e-7, -1.35658e-22, 1.0, 0.0, -0.2943], [0.0, 1.60779e-7, -1.35658e-22, 1.0, 0.0, -0.3924], [0.0, 2.52811e-7, -1.35658e-22, 1.0, 0.0, -0.4905], [-5.96311e-19, 2.19057e-7, 7.60974e-18, 0.71995, -7.25272e-20, -0.0285], [-5.96311e-19, 0.0786438, 7.60974e-18, 0.656602, -7.25272e-20, 0.000516382], [-5.96311e-19, 0.0809251, 7.60974e-18, 0.607532, -7.25272e-20, 0.000969437], [-5.96311e-19, 0.0808956, 7.60974e-18, 0.558461, -7.25272e-20, 0.00134291]  …  [-5.96311e-19, 0.0807277, 7.60974e-18, 0.264035, -7.25272e-20, 0.00191494], [-5.96311e-19, 0.0807008, 7.60974e-18, 0.214965, -7.25272e-20, 0.00173254], [-5.96311e-19, 0.0806742, 7.60973e-18, 0.165896, -7.25272e-20, 0.0014709], [-5.96311e-19, 0.0806477, 7.5081e-18, 0.116827, 6.00153e-18, 0.00113006], [-5.96311e-19, 0.0806214, 7.5081e-18, 0.0677589, 6.00153e-18, 0.000710064], [-5.96311e-19, 0.0805952, 7.5081e-18, 0.0186915, 6.00153e-18, 0.00021094], [8.9626e-11, 0.0159276, -1.38208e-8, -4.87664e-13, 4.85406e-13, -1.2048e-14], [8.9626e-11, 0.0159276, -1.38208e-8, -3.45461e-8, 4.85401e-13, 2.97711e-6], [8.9626e-11, 0.0159276, -1.38208e-8, -7.00401e-8, -1.05881e-17, 5.95421e-6], [8.9626e-11, 0.0159276, -1.38208e-8, -1.06483e-7, -1.05881e-17, 8.9313e-6]], Any[], Any[[0.0, 0.0, 0.0, 0.0, 0.0, 0.0], [0.0, 0.0, 0.0, 0.0, 0.0, 1.0], [0.0, 0.0, 0.0, 0.0, 0.0, 1.0], [0.0, 0.0, 0.0, 0.0, 0.0, 1.0], [0.0, 0.0, 0.0, 0.0, 0.0, 1.0], [0.0, 0.0, 0.0, 0.0, 0.0, 1.0], [5.70948, 0.0, 0.0, 2.85474, 0.0, 0.71995], [1.29103, 0.0, 0.0, 0.645514, 0.0, 0.656602], [1.0004, 0.0, 0.0, 0.500202, 0.0, 0.607532], [1.0004, 0.0, 0.0, 0.500202, 0.0, 0.558462]  …  [1.0004, 0.0, 0.0, 0.500202, 0.0, 0.264042], [1.0004, 0.0, 0.0, 0.500202, 0.0, 0.214972], [1.0004, 0.0, 0.0, 0.500202, 0.0, 0.165902], [1.0004, 0.0, 0.0, 0.500202, 0.0, 0.116832], [1.0004, 0.0, 0.0, 0.500202, 0.0, 0.0677625], [1.0004, 0.0, 0.0, 0.500202, 0.0, 0.0186927], [1.00003, 2.6124e-6, 0.0, 0.19055, -3.12363e-11, 4.90025e-13], [1.00003, 0.0952762, 0.0, 0.0952762, 0.0, 3.67023e-23], [1.00003, 0.0952762, 0.0, 0.0952762, 0.0, 3.67023e-23], [1.00003, 0.0952762, 0.0, 0.0952762, 0.0, 3.67023e-23]], Any[], [0.0, 0.01, 0.02, 0.03, 0.04, 0.05, 0.06, 0.07, 0.08, 0.09  …  0.15, 0.16, 0.17, 0.18, 0.19, 0.2, 0.21, 0.22, 0.23, 0.24], [1.0 1.0 … 0.999982 0.999981; 0.0 0.0 … 8.60592e-14 8.60592e-14; … ; 0.0 0.0 … -1.05881e-17 -1.05881e-17; 0.0 -0.0981 … 5.95421e-6 8.9313e-6])"
      ]
     },
     "execution_count": 4,
     "metadata": {},
     "output_type": "execute_result"
    }
   ],
   "source": [
    "traj_indirect = Bilevel.simulate(sim_data_indirect, ctrl!, x0, N, verbose=1)"
   ]
  },
  {
   "cell_type": "code",
   "execution_count": 5,
   "metadata": {
    "collapsed": false
   },
   "outputs": [
    {
     "name": "stdout",
     "output_type": "stream",
     "text": [
      "Finished successfully: optimality conditions satisfied\n",
      "Finished successfully: optimality conditions satisfied\n",
      "Finished successfully: optimality conditions satisfied\n",
      "Finished successfully: optimality conditions satisfied\n",
      "Finished successfully: optimality conditions satisfied\n",
      "Finished successfully: optimality conditions satisfied\n",
      "Finished successfully: optimality conditions satisfied\n",
      "Finished successfully: optimality conditions satisfied\n",
      "Finished successfully: optimality conditions satisfied\n",
      "Finished successfully: optimality conditions satisfied\n",
      "Finished successfully: optimality conditions satisfied\n",
      "Finished successfully: optimality conditions satisfied\n",
      "Finished successfully: optimality conditions satisfied\n",
      "Finished successfully: optimality conditions satisfied\n",
      "Finished successfully: optimality conditions satisfied\n",
      "Finished successfully: optimality conditions satisfied\n",
      "Finished successfully: optimality conditions satisfied\n",
      "Finished successfully: optimality conditions satisfied\n",
      "Finished successfully: optimality conditions satisfied\n",
      "Finished successfully: optimality conditions satisfied\n",
      "Finished successfully: optimality conditions satisfied\n",
      "Finished successfully: optimality conditions satisfied\n",
      "Finished successfully: optimality conditions satisfied\n",
      "Finished successfully: optimality conditions satisfied\n"
     ]
    },
    {
     "data": {
      "text/plain": [
       "(Any[[1.0, 0.0, 0.0, 0.0, 0.0, 0.0, 0.015], [1.0, 0.0, 4.90389e-6, 0.0, 0.01, 3.041e-21, 0.014019], [1.0, 0.0, 1.4711e-5, 0.0, 0.02, -1.06609e-20, 0.012057], [1.0, 0.0, 2.94207e-5, 0.0, 0.0300001, -1.72042e-20, 0.009114], [1.0, 0.0, 4.90322e-5, 0.0, 0.0400002, -1.72042e-20, 0.00519], [1.0, 0.0, 7.35446e-5, 0.0, 0.0500003, -2.81942e-20, 0.000285], [1.0, 7.53488e-15, 6.91e-5, -3.61017e-14, 0.0572, 9.86806e-17, 3.66749e-9], [1.0, 7.53488e-15, 0.000544218, -3.61017e-14, 0.0637661, -2.26318e-14, -1.67795e-15], [0.999999, 7.53488e-15, 0.00102854, -3.61017e-14, 0.0698414, -1.92163e-14, -1.67795e-15], [0.999999, 7.53488e-15, 0.00151278, -3.43797e-14, 0.075426, -1.91838e-14, -1.67795e-15]  …  [0.999989, 7.50051e-15, 0.00441641, -5.45571e-15, 0.098628, -1.8977e-14, -1.67795e-15], [0.999987, 7.01344e-15, 0.00490007, -9.06751e-14, 0.100777, -1.94511e-14, -1.67795e-15], [0.999984, 7.03176e-15, 0.00538366, -9.14267e-14, 0.102436, -1.94982e-14, -1.67795e-15], [0.999981, 5.44249e-15, 0.00586717, -3.94945e-13, 0.103604, -2.03164e-14, -1.67795e-15], [0.999978, 6.79219e-15, 0.0063506, -4.20682e-13, 0.104281, -2.03164e-14, -1.67795e-15], [0.999975, -1.68966e-14, 0.00680588, -4.46424e-13, 0.104468, -8.43665e-13, -1.67795e-15], [0.999972, -1.68966e-14, 0.00726116, -4.46424e-13, 0.104468, -8.43665e-13, -1.67795e-15], [0.999968, -1.68966e-14, 0.00771644, -4.46424e-13, 0.104468, -8.44717e-13, -1.67795e-15], [0.999965, -1.68966e-14, 0.00817172, -4.46424e-13, 0.104468, -8.44717e-13, -1.67795e-15], [0.999961, -1.68966e-14, 0.00862699, -4.46424e-13, 0.104468, -8.45433e-13, -1.67795e-15]], Any[[0.0, 0.0, 0.0, 1.0, 0.0, 0.0], [0.0, 0.000980778, 0.0, 1.0, 3.041e-19, -0.0980902], [0.0, 0.00196143, 0.0, 1.00001, -1.06609e-18, -0.196171], [0.0, 0.00294194, 0.0, 1.00002, -1.72042e-18, -0.294241], [0.0, 0.00392229, 0.0, 1.00004, -1.61014e-18, -0.392302], [0.0, 0.00490247, 0.0, 1.00008, -2.70914e-18, -0.490353], [1.50733e-12, -0.000888909, -7.22027e-12, 0.719969, 6.14156e-14, -0.0284001], [1.50733e-12, 0.0950237, -7.22027e-12, 0.656607, 3.0915e-13, 0.000714309], [1.50733e-12, 0.096865, -7.22027e-12, 0.607532, 3.8542e-13, 0.00124975], [1.50733e-12, 0.096847, -6.87587e-12, 0.558457, 3.8542e-13, 0.00168965]  …  [1.50733e-12, 0.0967486, -1.07925e-12, 0.264005, 3.8542e-13, 0.00233198], [1.50733e-12, 0.0967334, -1.81233e-11, 0.214931, 3.8542e-13, 0.00210643], [1.50733e-12, 0.0967185, -1.82736e-11, 0.165858, 3.8542e-13, 0.00178592], [1.50733e-12, 0.0967037, -7.89782e-11, 0.116785, 3.8542e-13, 0.00137047], [1.50733e-12, 0.0966891, -5.13961e-12, 0.0677141, 3.8542e-13, 0.000860104], [1.50733e-12, 0.0910586, -5.13961e-12, 0.0186455, 3.33923e-13, 0.000253816], [1.50733e-12, 0.0910586, -5.13961e-12, -4.33238e-7, 4.60817e-15, 2.77007e-5], [1.50733e-12, 0.0910586, -5.13961e-12, -6.59088e-8, -1.00667e-13, -9.73901e-10], [1.50733e-12, 0.0910586, -5.13961e-12, 4.52764e-7, -1.00667e-13, -2.77003e-5], [1.50733e-12, 0.0910586, -5.13961e-12, 5.04472e-8, -1.72261e-13, 8.13078e-10]], Any[], Any[], Any[], [0.0, 0.01, 0.02, 0.03, 0.04, 0.05, 0.06, 0.07, 0.08, 0.09  …  0.15, 0.16, 0.17, 0.18, 0.19, 0.2, 0.21, 0.22, 0.23, 0.24], [1.0 1.0 … 0.999965 0.999961; 0.0 0.0 … -1.68966e-14 -1.68966e-14; … ; 0.0 3.041e-19 … -1.00667e-13 -1.72261e-13; 0.0 -0.0980902 … -2.77003e-5 8.13078e-10])"
      ]
     },
     "execution_count": 5,
     "metadata": {},
     "output_type": "execute_result"
    }
   ],
   "source": [
    "traj_direct = Bilevel.simulate(sim_data_direct, ctrl!, x0, N, verbose=1)"
   ]
  },
  {
   "cell_type": "code",
   "execution_count": 6,
   "metadata": {
    "collapsed": false
   },
   "outputs": [
    {
     "data": {
      "image/png": "[encoded data removed]"
     },
     "execution_count": 6,
     "metadata": {},
     "output_type": "execute_result"
    }
   ],
   "source": [
    "j = 11\n",
    "clibrary(:Plots)\n",
    "gr(size=(800,500), html_output_format=:png, \n",
    "    seriescolor=:magma,  background_color_legend=:white, \n",
    "    background=RGB(((240,240,240) ./ 255.)...));\n",
    "plot(traj_indirect[6],traj_indirect[7][j,:],label=\"Indirect\",seriescolor=RGB(((227,74,51) ./ 255.)...),linewidth=4,marker=6)\n",
    "plot!(traj_direct[6],traj_direct[7][j,:],label=\"Direct\",seriescolor=RGB(((254,232,200) ./ 255.)...),linewidth=0,marker=4)"
   ]
  },
  {
   "cell_type": "code",
   "execution_count": null,
   "metadata": {
    "collapsed": false
   },
   "outputs": [],
   "source": [
    "@benchmark Bilevel.simulate(sim_data_indirect, ctrl!, x0, N)"
   ]
  },
  {
   "cell_type": "code",
   "execution_count": null,
   "metadata": {
    "collapsed": false
   },
   "outputs": [],
   "source": [
    "@benchmark Bilevel.simulate(sim_data_direct, ctrl!, x0, N)"
   ]
  },
  {
   "cell_type": "markdown",
   "metadata": {},
   "source": [
    "# Tuning Lower Solver"
   ]
  },
  {
   "cell_type": "code",
   "execution_count": null,
   "metadata": {
    "collapsed": false
   },
   "outputs": [],
   "source": [
    "# tuning the lower level solver\n",
    "q0 = [1., 0., 0., 0., 0., 0., 0.]\n",
    "v0 = [0., 0., 0., 0., 0.1, 0.]\n",
    "u0 = zeros(6)\n",
    "eval_cons = generate_solver_fn_sim_direct(sim_data,q0,v0,u0)\n",
    "sim_data.lower_options[\"num_fosteps\"] = 3\n",
    "sim_data.lower_options[\"num_sosteps\"] = 2\n",
    "sim_data.lower_options[\"c\"] = 1.\n",
    "sim_data.lower_options[\"c_fos\"] = 10.\n",
    "sim_data.lower_options[\"c_sos\"] = 10.\n",
    "x = vcat(q0,v0,[1.])\n",
    "eval_cons(x);"
   ]
  },
  {
   "cell_type": "markdown",
   "metadata": {},
   "source": [
    "# Trajectory Optimization"
   ]
  },
  {
   "cell_type": "code",
   "execution_count": 31,
   "metadata": {
    "collapsed": false
   },
   "outputs": [],
   "source": [
    "q1 = [1., 0., 0., 0., 0., 0., 0.]\n",
    "v1 = [0., 0., 0., 0., 0., 0.]\n",
    "qN = [1., 0., 0., 0., 10., 0., 0.]\n",
    "vN = [0., 0., 0., 0., 0., 0.]\n",
    "N = 10\n",
    "Δt = .01\n",
    "\n",
    "sim_data_indirect = get_trajopt_data_indirect(mechanism,env,Δt,N,relax_comp=false)\n",
    "\n",
    "# adding user defined constraint\n",
    "add_eq!(sim_data_indirect, :cq1, length(q1), x -> sim_data_indirect.vs(x, :q1) - q1)\n",
    "add_eq!(sim_data_indirect, :cv1, length(v1), x -> sim_data_indirect.vs(x, :v1) - v1)\n",
    "add_eq!(sim_data_indirect, :cqN, length(qN), x -> sim_data_indirect.vs(x, Symbol(\"q\",N)) - qN)\n",
    "add_eq!(sim_data_indirect, :cvN, length(vN), x -> sim_data_indirect.vs(x, Symbol(\"v\",N)) - vN)\n",
    "\n",
    "for n=1:N\n",
    "    add_obj!(sim_data_indirect, Symbol(\"objv\", n), x -> norm(sim_data_indirect.vs(x, Symbol(\"v\", n))))\n",
    "end\n",
    "\n",
    "for n=1:N-1\n",
    "    add_obj!(sim_data_indirect, Symbol(\"obju\", n), x -> norm(sim_data_indirect.vs(x, Symbol(\"u\", n))))\n",
    "end"
   ]
  },
  {
   "cell_type": "code",
   "execution_count": null,
   "metadata": {
    "collapsed": false
   },
   "outputs": [],
   "source": [
    "traj_indirect = Bilevel.trajopt(sim_data_indirect, verbose=1)"
   ]
  },
  {
   "cell_type": "code",
   "execution_count": null,
   "metadata": {
    "collapsed": false
   },
   "outputs": [],
   "source": [
    "traj_indirect[7][5,:]"
   ]
  }
 ],
 "metadata": {
  "kernelspec": {
   "display_name": "Julia 0.7.0",
   "language": "julia",
   "name": "julia-0.7"
  },
  "language_info": {
   "file_extension": ".jl",
   "mimetype": "application/julia",
   "name": "julia",
   "version": "0.7.0"
  }
 },
 "nbformat": 4,
 "nbformat_minor": 2
}
