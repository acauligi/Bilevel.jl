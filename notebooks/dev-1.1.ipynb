{
 "cells": [
  {
   "cell_type": "code",
   "execution_count": null,
   "metadata": {
    "collapsed": false
   },
   "outputs": [],
   "source": [
    "using Revise\n",
    "using Bilevel\n",
    "\n",
    "using RigidBodyDynamics\n",
    "using MeshCatMechanisms\n",
    "using MeshCat\n",
    "using ForwardDiff\n",
    "using Plots\n",
    "using LinearAlgebra\n",
    "using StaticArrays\n",
    "using Base.Threads"
   ]
  },
  {
   "cell_type": "code",
   "execution_count": 2,
   "metadata": {
    "collapsed": false
   },
   "outputs": [
    {
     "data": {
      "text/plain": [
       "4"
      ]
     },
     "execution_count": 2,
     "metadata": {},
     "output_type": "execute_result"
    }
   ],
   "source": [
    "nthreads()"
   ]
  },
  {
   "cell_type": "code",
   "execution_count": null,
   "metadata": {
    "collapsed": false
   },
   "outputs": [],
   "source": [
    "function get_barnesgrad()\n",
    "    a1 = 75.196\n",
    "    a3 = 0.12694\n",
    "    a5 = 1.0345e-5\n",
    "    a7 = 0.030234\n",
    "    a9 = 3.5256e-5\n",
    "    a11 = 0.25645\n",
    "    a13 = 1.3514e-5\n",
    "    a15 = -5.2375e-6\n",
    "    a17 = 7.0e-10\n",
    "    a19 = -1.6638e-6\n",
    "    a21 = 0.0005\n",
    "    a2 = -3.8112\n",
    "    a4 = -2.0567e-3\n",
    "    a6 = -6.8306\n",
    "    a8 = -1.28134e-3\n",
    "    a10 = -2.266e-7\n",
    "    a12 = -3.4604e-3\n",
    "    a14 = -28.106\n",
    "    a16 = -6.3e-8\n",
    "    a18 = 3.4054e-4\n",
    "    a20 = -2.8673\n",
    "    \n",
    "    function eval_obj(x::AbstractArray{T}) where T\n",
    "        x1 = x[1]\n",
    "        x2 = x[2]\n",
    "        y1 = x1*x2\n",
    "        y2 = y1*x1\n",
    "        y3 = x2^2\n",
    "        y4 = x1^2\n",
    "\n",
    "        f = a1 + a2*x1 + a3*y4 + a4*y4*x1 + a5*y4^2 +\n",
    "            a6*x2 + a7*y1 + a8*x1*y1 + a9*y1*y4 + a10*y2*y4 +\n",
    "            a11*y3 + a12*x2*y3 + a13*y3^2 + a14/(x2+1) +\n",
    "            a15*y3*y4 + a16*y1*y4*x2 + a17*y1*y3*y4 + a18*x1*y3 +\n",
    "            a19*y1*y3 + a20*exp(a21*y1)\n",
    "        \n",
    "        f\n",
    "    end\n",
    "\n",
    "    function eval_cons(x::AbstractArray{T}) where T\n",
    "        x1 = x[1]\n",
    "        x2 = x[2]\n",
    "        y1 = x1*x2\n",
    "        y2 = y1*x1\n",
    "        y3 = x2^2\n",
    "        y4 = x1^2\n",
    "        \n",
    "        c = zeros(T, 3)\n",
    "        c[1] = 1 - y1/700.0\n",
    "        c[2] = y4/25.0^2 - x2/5.0\n",
    "        c[3] = (x1/500.0- 0.11) - (x2/50.0-1)^2\n",
    "        \n",
    "        c\n",
    "    end\n",
    "    \n",
    "    fres = DiffResults.GradientResult(zeros(2))\n",
    "    fcfg = ForwardDiff.GradientConfig(eval_obj, zeros(2))\n",
    "    gres = DiffResults.JacobianResult(zeros(3), zeros(2))\n",
    "    gcfg = ForwardDiff.JacobianConfig(eval_cons, zeros(2))\n",
    "    function solver_fn(x)\n",
    "        ForwardDiff.gradient!(fres, eval_obj, x, fcfg)\n",
    "    \n",
    "        J = eval_obj(x)\n",
    "        gJ = ForwardDiff.gradient(eval_obj, x)\n",
    "        \n",
    "        HJ = ForwardDiff.hessian(eval_obj, x)\n",
    "        \n",
    "        ForwardDiff.jacobian!(gres, eval_cons, x, gcfg)\n",
    "    \n",
    "        g = DiffResults.value(gres)\n",
    "        ceq = zeros(0)\n",
    "        c = g\n",
    "    \n",
    "        dgdx = DiffResults.jacobian(gres)\n",
    "        gceq = zeros(0,2)\n",
    "        gc = dgdx\n",
    "    \n",
    "        J, ceq, c, gJ, gceq, gc, HJ\n",
    "    end\n",
    "    \n",
    "    solver_fn\n",
    "end\n",
    "\n",
    "solver_fn = get_barnesgrad()\n",
    "\n",
    "x0 = [10.0, 10.0]\n",
    "options = Dict{String, Any}()\n",
    "options[\"Derivative option\"] = 1\n",
    "options[\"Verify level\"] = 1\n",
    "xopt, info = Bilevel.snopt(solver_fn, 0, 3, x0, options)\n",
    "\n",
    "display(info)\n",
    "display(xopt)\n",
    "display(isapprox(xopt[1], 49.5263; atol=1e-4))\n",
    "display(isapprox(xopt[2], 19.6228; atol=1e-4))\n",
    "\n",
    "x0 = [10.0, 10.0]\n",
    "options = Dict{String, Any}()\n",
    "options[\"num_fosteps\"] = 0\n",
    "options[\"num_sosteps\"] = 10\n",
    "options[\"c\"] = 100.\n",
    "options[\"c_fos\"] = 1.\n",
    "options[\"c_sos\"] = 5.\n",
    "xopt, info = Bilevel.auglag(solver_fn, 0, 3, x0, options)\n",
    "\n",
    "display(info)\n",
    "display(xopt)\n",
    "display(isapprox(xopt[1], 49.5263; atol=1e-4))\n",
    "display(isapprox(xopt[2], 19.6228; atol=1e-4))"
   ]
  },
  {
   "cell_type": "code",
   "execution_count": 3,
   "metadata": {
    "collapsed": false
   },
   "outputs": [
    {
     "data": {
      "text/plain": [
       "0.01"
      ]
     },
     "execution_count": 3,
     "metadata": {},
     "output_type": "execute_result"
    }
   ],
   "source": [
    "urdf = joinpath(\"..\", \"urdf\", \"ball.urdf\")\n",
    "mechanism = parse_urdf(Float64, urdf)\n",
    "\n",
    "floor = findbody(mechanism, \"floor\")\n",
    "point = Point3D(default_frame(floor), SVector([0.,0.,0.]...))\n",
    "normal = FreeVector3D(default_frame(floor), SVector([0.,0.,1.]...))\n",
    "floor_obs = Obstacle(floor, point, normal, :xyz, .5)\n",
    "\n",
    "obstacles = [floor_obs]\n",
    "env = Environment(mechanism, urdf, obstacles)\n",
    "ctrl! = (u,t,x) -> u[:] .= 0.\n",
    "x0 = MechanismState(mechanism)\n",
    "Δt = .01"
   ]
  },
  {
   "cell_type": "code",
   "execution_count": null,
   "metadata": {
    "collapsed": false
   },
   "outputs": [],
   "source": [
    "q1 = [1., 0., 0., 0., 0., 0., 0.017]\n",
    "v1 = [0., 0., 0., 1., 0., 0.]\n",
    "N = 25"
   ]
  },
  {
   "cell_type": "code",
   "execution_count": null,
   "metadata": {
    "collapsed": false,
    "scrolled": false
   },
   "outputs": [],
   "source": [
    "sim_data_indirect = get_sim_data_indirect(mechanism,env,Δt,relax_comp=false)\n",
    "set_configuration!(x0, q1)\n",
    "set_velocity!(x0, v1)\n",
    "traj_indirect = Bilevel.simulate(sim_data_indirect, ctrl!, x0, N, verbose=1)"
   ]
  },
  {
   "cell_type": "code",
   "execution_count": null,
   "metadata": {
    "collapsed": false
   },
   "outputs": [],
   "source": [
    "sim_data_direct = get_sim_data_direct(mechanism,env,Δt,relax_comp=false)\n",
    "set_configuration!(x0, q1)\n",
    "set_velocity!(x0, v1)\n",
    "traj_direct = Bilevel.simulate(sim_data_direct, ctrl!, x0, N, verbose=1)"
   ]
  },
  {
   "cell_type": "code",
   "execution_count": null,
   "metadata": {
    "collapsed": false
   },
   "outputs": [],
   "source": [
    "j = 7\n",
    "clibrary(:Plots)\n",
    "gr(size=(800,500), html_output_format=:png, \n",
    "    seriescolor=:magma,  background_color_legend=:white, \n",
    "    background=RGB(((240,240,240) ./ 255.)...));\n",
    "plot(traj_indirect[6],traj_indirect[7][j,:],label=\"Indirect\",seriescolor=RGB(((227,74,51) ./ 255.)...),linewidth=4,marker=6)\n",
    "plot!(traj_direct[6],traj_direct[7][j,:],label=\"Direct\",seriescolor=RGB(((254,232,200) ./ 255.)...),linewidth=0,marker=4)"
   ]
  },
  {
   "cell_type": "code",
   "execution_count": 35,
   "metadata": {
    "collapsed": false
   },
   "outputs": [
    {
     "data": {
      "text/plain": [
       "0.01"
      ]
     },
     "execution_count": 35,
     "metadata": {},
     "output_type": "execute_result"
    }
   ],
   "source": [
    "q1 = [1., 0., 0., 0., 0., 0., 0.]\n",
    "qN = [1., 0., 0., 0., .1, 0., 0.]\n",
    "N = 10\n",
    "Δt = .01"
   ]
  },
  {
   "cell_type": "code",
   "execution_count": 69,
   "metadata": {
    "collapsed": false
   },
   "outputs": [
    {
     "data": {
      "text/plain": [
       "10-element Array{Tuple{Symbol,Any},1}:\n",
       " (:v1, getfield(Main, Symbol(\"##97#98\")){Int64}(1))\n",
       " (:v2, getfield(Main, Symbol(\"##97#98\")){Int64}(2))\n",
       " (:v3, getfield(Main, Symbol(\"##97#98\")){Int64}(3))\n",
       " (:v4, getfield(Main, Symbol(\"##97#98\")){Int64}(4))\n",
       " (:v5, getfield(Main, Symbol(\"##97#98\")){Int64}(5))\n",
       " (:v6, getfield(Main, Symbol(\"##97#98\")){Int64}(6))\n",
       " (:v7, getfield(Main, Symbol(\"##97#98\")){Int64}(7))\n",
       " (:v8, getfield(Main, Symbol(\"##97#98\")){Int64}(8))\n",
       " (:v9, getfield(Main, Symbol(\"##97#98\")){Int64}(9))\n",
       " (:v10, getfield(Main, Symbol(\"##99#100\"))())      "
      ]
     },
     "execution_count": 69,
     "metadata": {},
     "output_type": "execute_result"
    }
   ],
   "source": [
    "sim_data_indirect = get_trajopt_data_indirect(mechanism,env,Δt,N,relax_comp=false)\n",
    "\n",
    "# adding user defined constraint\n",
    "vs = sim_data_indirect.vs\n",
    "\n",
    "add_eq!(sim_data_indirect, :cq1, length(q1), x -> vs(x, :q1) - q1)\n",
    "add_eq!(sim_data_indirect, :cqN, length(qN), x -> vs(x, Symbol(\"q\", N)) - qN)\n",
    "\n",
    "add_box_con!(sim_data_indirect, :u, :u, zeros(num_velocities(mechanism)), zeros(num_velocities(mechanism)), 1:N-1)\n",
    "add_box_con!(sim_data_indirect, :hbox, :h, [.005], [.01], 1:N-1)\n",
    "\n",
    "for i=1:N\n",
    "    add_ineq!(sim_data_indirect, Symbol(\"height\",i), 1, x -> vs(x, Symbol(\"q\",i))[7] - .001)\n",
    "end\n",
    "\n",
    "for i=1:N-1\n",
    "    add_obj!(sim_data_indirect, Symbol(\"v\",i), x -> vs(x, Symbol(\"h\",i))[1]*vs(x, Symbol(\"v\",i))'*vs(x, Symbol(\"v\",i)))\n",
    "end\n",
    "add_obj!(sim_data_indirect, Symbol(\"v\",N), x -> vs(x, Symbol(\"v\",N))'*vs(x, Symbol(\"v\",N)))"
   ]
  },
  {
   "cell_type": "code",
   "execution_count": 70,
   "metadata": {
    "collapsed": false
   },
   "outputs": [
    {
     "name": "stdout",
     "output_type": "stream",
     "text": [
      "Finished successfully: optimality conditions satisfied\n"
     ]
    },
    {
     "data": {
      "text/plain": [
       "(Array{Float64,1}[[1.0, 0.0, 0.0, 0.0, 0.0, 0.0, 0.0], [1.0, 5.06336e-12, -4.55018e-5, 6.80215e-13, 0.0125784, -1.44622e-14, 0.0009905], [1.0, 2.4872e-12, -9.14452e-5, 6.96916e-13, 0.0251566, -1.03396e-15, 0.001], [1.0, 2.47308e-12, -0.000234415, 6.93925e-13, 0.0377346, -7.76916e-15, 2.85001e-5], [1.0, 2.3972e-12, -0.000152481, -1.79747e-14, 0.0493503, -2.48435e-15, 3.71554e-22], [1.0, 6.47497e-17, -7.06055e-5, 2.91398e-14, 0.0604613, -1.18225e-16, 0.0], [1.0, -9.54564e-18, -5.99726e-5, 2.10705e-14, 0.0710817, -7.84851e-17, -5.50763e-14], [1.0, -8.38247e-17, -3.6679e-5, 1.47651e-14, 0.0812117, -4.49554e-17, -6.77626e-21], [1.0, -4.19125e-17, -4.20901e-7, 1.46377e-14, 0.0908511, -1.93365e-17, 8.4159e-14], [1.0, 0.0, 0.0, 0.0, 0.1, 0.0, 0.0]], Array{Float64,1}[[2.22367e-10, -0.00910293, 5.18789e-12, 1.25784, 7.78507e-13, 0.19715], [1.02251e-9, -0.00910036, 1.44521e-10, 1.25784, -1.01902e-12, 0.0989355], [-5.64829e-10, -0.00918868, 8.17006e-15, 1.25783, -1.48782e-12, 0.000719954], [-4.33022e-12, -0.0285939, -1.9128e-12, 1.25775, -2.04146e-12, -0.0977397], [-1.12196e-11, 0.0163867, -1.41417e-10, 1.16157, -1.14432e-14, -0.00320425], [-4.79447e-10, 0.0163751, -6.12069e-12, 1.1111, 5.06501e-14, -0.000156899], [-1.27599e-14, 0.00212659, -1.60936e-12, 1.06204, 7.10968e-14, -0.000127387], [-2.07748e-14, 0.00465872, -1.25335e-12, 1.01299, 8.63041e-14, -7.43111e-5], [1.12008e-14, 0.00725162, -3.7093e-14, 0.963942, 8.79141e-14, -8.11441e-7], [1.22024e-14, 8.41802e-5, -2.93916e-12, 0.914892, 1.16795e-13, -8.4159e-12]], Array{Float64,1}[[0.0, 0.0, 0.0, 0.0, 0.0, 0.0], [0.0, 0.0, 0.0, 0.0, 0.0, 0.0], [0.0, 0.0, 0.0, 0.0, 0.0, 0.0], [0.0, 0.0, 0.0, 0.0, 0.0, 0.0], [0.0, 0.0, 0.0, 0.0, 0.0, 0.0], [0.0, 0.0, 0.0, 0.0, 0.0, 0.0], [0.0, 0.0, 0.0, 0.0, 0.0, 0.0], [0.0, 0.0, 0.0, 0.0, 0.0, 0.0], [0.0, 0.0, 0.0, 0.0, 0.0, 0.0]], [0.01, 0.01, 0.01, 0.01, 0.01, 0.01, 0.01, 0.01, 0.01], Array{Float64,1}[[0.0, 4.84273e-17, 0.0, -4.84273e-17, 0.0, 1.30872], [-9.88824e-11, 0.0, 0.0, -4.94412e-11, 0.0, 1.30874], [-3.91623e-11, 1.19108e-17, 0.0, -1.95812e-11, 0.0, 1.3095], [1.96142, 3.72889e-18, 0.0, 0.980712, 0.0, 1.16157], [1.02914, 2.71853e-18, 0.0, 0.514568, 0.0, 1.1111], [1.00001, 5.79721e-17, 0.0, 0.500005, 3.23117e-27, 1.06204], [1.00002, 2.48724e-16, 0.0, 0.500012, 0.0, 1.01299], [1.00004, 1.38048e-16, 0.0, 0.500018, 0.0, 0.963942], [1.0, 6.46419e-19, 0.0, 0.5, 0.0, 0.914892]], Array{Float64,1}[], [0.0, 0.01, 0.02, 0.03, 0.04, 0.05, 0.06, 0.07, 0.08, 0.09], [1.0 1.0 … 1.0 1.0; 0.0 5.06336e-12 … -4.19125e-17 0.0; … ; 7.78507e-13 -1.01902e-12 … 8.79141e-14 1.16795e-13; 0.19715 0.0989355 … -8.11441e-7 -8.4159e-12])"
      ]
     },
     "execution_count": 70,
     "metadata": {},
     "output_type": "execute_result"
    }
   ],
   "source": [
    "traj_indirect = Bilevel.trajopt(sim_data_indirect, quaternion_state=true, verbose=1)"
   ]
  },
  {
   "cell_type": "code",
   "execution_count": 109,
   "metadata": {
    "collapsed": false
   },
   "outputs": [],
   "source": [
    "sim_data_direct = get_trajopt_data_direct(mechanism,env,Δt,N)\n",
    "\n",
    "# adding user defined constraint\n",
    "vs = sim_data_direct.vs\n",
    "\n",
    "add_eq!(sim_data_direct, :cq1, length(q1), x -> vs(x, :q1) - q1)\n",
    "add_eq!(sim_data_direct, :cqN, length(qN), x -> vs(x, Symbol(\"q\", N)) - qN)\n",
    "\n",
    "add_box_con!(sim_data_direct, :u, :u, zeros(num_velocities(mechanism)), zeros(num_velocities(mechanism)), 1:N-1)\n",
    "add_box_con!(sim_data_direct, :hbox, :h, [.005], [.01], 1:N-1)\n",
    "\n",
    "for i=1:N\n",
    "    add_ineq!(sim_data_direct, Symbol(\"height\",i), 1, x -> vs(x, Symbol(\"q\",i))[7] - .001)\n",
    "end\n",
    "\n",
    "for i=1:N-1\n",
    "    add_obj!(sim_data_direct, Symbol(\"v\",i), x -> vs(x, Symbol(\"h\",i))[1]*vs(x, Symbol(\"v\",i))'*vs(x, Symbol(\"v\",i)))\n",
    "end\n",
    "add_obj!(sim_data_direct, Symbol(\"v\",N), x -> vs(x, Symbol(\"v\",N))'*vs(x, Symbol(\"v\",N)));"
   ]
  },
  {
   "cell_type": "code",
   "execution_count": 110,
   "metadata": {
    "collapsed": false
   },
   "outputs": [
    {
     "ename": "ForwardDiff.DualMismatchError{DataType,DataType}",
     "evalue": "Cannot determine ordering of Dual tags ForwardDiff.Tag{getfield(Bilevel, Symbol(\"#eval_cons_#30\")){Int64,Bilevel.VariableSelector,Array{Any,1},Array{Any,1}},Float64} and ForwardDiff.Tag{getfield(Bilevel, Symbol(\"#eval_cons#112\")){SimData,Int64,Bilevel.VariableSelector,Bilevel.ConstraintSelector,Int64,Int64},Float64}",
     "output_type": "error",
     "traceback": [
      "Cannot determine ordering of Dual tags ForwardDiff.Tag{getfield(Bilevel, Symbol(\"#eval_cons_#30\")){Int64,Bilevel.VariableSelector,Array{Any,1},Array{Any,1}},Float64} and ForwardDiff.Tag{getfield(Bilevel, Symbol(\"#eval_cons#112\")){SimData,Int64,Bilevel.VariableSelector,Bilevel.ConstraintSelector,Int64,Int64},Float64}",
      "",
      "Stacktrace:",
      " [1] partials(::Type{ForwardDiff.Tag{getfield(Bilevel, Symbol(\"#eval_cons_#30\")){Int64,Bilevel.VariableSelector,Array{Any,1},Array{Any,1}},Float64}}, ::ForwardDiff.Dual{ForwardDiff.Tag{getfield(Bilevel, Symbol(\"#eval_cons#112\")){SimData,Int64,Bilevel.VariableSelector,Bilevel.ConstraintSelector,Int64,Int64},Float64},ForwardDiff.Dual{ForwardDiff.Tag{getfield(Bilevel, Symbol(\"#eval_cons_#30\")){Int64,Bilevel.VariableSelector,Array{Any,1},Array{Any,1}},Float64},Float64,1},12}, ::Int64) at /Users/blandry/.julia/packages/ForwardDiff/okZnq/src/dual.jl:99",
      " [2] extract_jacobian!(::Type{ForwardDiff.Tag{getfield(Bilevel, Symbol(\"#eval_cons_#30\")){Int64,Bilevel.VariableSelector,Array{Any,1},Array{Any,1}},Float64}}, ::Array{ForwardDiff.Dual{ForwardDiff.Tag{getfield(Bilevel, Symbol(\"#eval_cons#112\")){SimData,Int64,Bilevel.VariableSelector,Bilevel.ConstraintSelector,Int64,Int64},Float64},Float64,12},2}, ::Array{Any,1}, ::Int64) at /Users/blandry/.julia/packages/ForwardDiff/okZnq/src/jacobian.jl:110",
      " [3] extract_jacobian!(::Type{ForwardDiff.Tag{getfield(Bilevel, Symbol(\"#eval_cons_#30\")){Int64,Bilevel.VariableSelector,Array{Any,1},Array{Any,1}},Float64}}, ::DiffResults.MutableDiffResult{1,Array{ForwardDiff.Dual{ForwardDiff.Tag{getfield(Bilevel, Symbol(\"#eval_cons#112\")){SimData,Int64,Bilevel.VariableSelector,Bilevel.ConstraintSelector,Int64,Int64},Float64},Float64,12},1},Tuple{Array{ForwardDiff.Dual{ForwardDiff.Tag{getfield(Bilevel, Symbol(\"#eval_cons#112\")){SimData,Int64,Bilevel.VariableSelector,Bilevel.ConstraintSelector,Int64,Int64},Float64},Float64,12},2}}}, ::Array{Any,1}, ::Int64) at /Users/blandry/.julia/packages/ForwardDiff/okZnq/src/jacobian.jl:116",
      " [4] vector_mode_jacobian!(::DiffResults.MutableDiffResult{1,Array{ForwardDiff.Dual{ForwardDiff.Tag{getfield(Bilevel, Symbol(\"#eval_cons#112\")){SimData,Int64,Bilevel.VariableSelector,Bilevel.ConstraintSelector,Int64,Int64},Float64},Float64,12},1},Tuple{Array{ForwardDiff.Dual{ForwardDiff.Tag{getfield(Bilevel, Symbol(\"#eval_cons#112\")){SimData,Int64,Bilevel.VariableSelector,Bilevel.ConstraintSelector,Int64,Int64},Float64},Float64,12},2}}}, ::getfield(Bilevel, Symbol(\"#eval_cons_#30\")){Int64,Bilevel.VariableSelector,Array{Any,1},Array{Any,1}}, ::Array{Float64,1}, ::ForwardDiff.JacobianConfig{ForwardDiff.Tag{getfield(Bilevel, Symbol(\"#eval_cons_#30\")){Int64,Bilevel.VariableSelector,Array{Any,1},Array{Any,1}},Float64},Float64,1,Array{ForwardDiff.Dual{ForwardDiff.Tag{getfield(Bilevel, Symbol(\"#eval_cons_#30\")){Int64,Bilevel.VariableSelector,Array{Any,1},Array{Any,1}},Float64},Float64,1},1}}) at /Users/blandry/.julia/packages/ForwardDiff/okZnq/src/jacobian.jl:157",
      " [5] jacobian!(::DiffResults.MutableDiffResult{1,Array{ForwardDiff.Dual{ForwardDiff.Tag{getfield(Bilevel, Symbol(\"#eval_cons#112\")){SimData,Int64,Bilevel.VariableSelector,Bilevel.ConstraintSelector,Int64,Int64},Float64},Float64,12},1},Tuple{Array{ForwardDiff.Dual{ForwardDiff.Tag{getfield(Bilevel, Symbol(\"#eval_cons#112\")){SimData,Int64,Bilevel.VariableSelector,Bilevel.ConstraintSelector,Int64,Int64},Float64},Float64,12},2}}}, ::Function, ::Array{Float64,1}, ::ForwardDiff.JacobianConfig{ForwardDiff.Tag{getfield(Bilevel, Symbol(\"#eval_cons_#30\")){Int64,Bilevel.VariableSelector,Array{Any,1},Array{Any,1}},Float64},Float64,1,Array{ForwardDiff.Dual{ForwardDiff.Tag{getfield(Bilevel, Symbol(\"#eval_cons_#30\")){Int64,Bilevel.VariableSelector,Array{Any,1},Array{Any,1}},Float64},Float64,1},1}}, ::Val{true}) at /Users/blandry/.julia/packages/ForwardDiff/okZnq/src/jacobian.jl:54",
      " [6] jacobian!(::DiffResults.MutableDiffResult{1,Array{ForwardDiff.Dual{ForwardDiff.Tag{getfield(Bilevel, Symbol(\"#eval_cons#112\")){SimData,Int64,Bilevel.VariableSelector,Bilevel.ConstraintSelector,Int64,Int64},Float64},Float64,12},1},Tuple{Array{ForwardDiff.Dual{ForwardDiff.Tag{getfield(Bilevel, Symbol(\"#eval_cons#112\")){SimData,Int64,Bilevel.VariableSelector,Bilevel.ConstraintSelector,Int64,Int64},Float64},Float64,12},2}}}, ::Function, ::Array{Float64,1}, ::ForwardDiff.JacobianConfig{ForwardDiff.Tag{getfield(Bilevel, Symbol(\"#eval_cons_#30\")){Int64,Bilevel.VariableSelector,Array{Any,1},Array{Any,1}},Float64},Float64,1,Array{ForwardDiff.Dual{ForwardDiff.Tag{getfield(Bilevel, Symbol(\"#eval_cons_#30\")){Int64,Bilevel.VariableSelector,Array{Any,1},Array{Any,1}},Float64},Float64,1},1}}) at /Users/blandry/.julia/packages/ForwardDiff/okZnq/src/jacobian.jl:52 (repeats 2 times)",
      " [7] (::getfield(Bilevel, Symbol(\"#solver_fn#55\")){getfield(Bilevel, Symbol(\"#eval_obj_#29\")){Int64,Bilevel.VariableSelector},DiffResults.MutableDiffResult{2,ForwardDiff.Dual{ForwardDiff.Tag{getfield(Bilevel, Symbol(\"#eval_cons#112\")){SimData,Int64,Bilevel.VariableSelector,Bilevel.ConstraintSelector,Int64,Int64},Float64},Float64,12},Tuple{Array{ForwardDiff.Dual{ForwardDiff.Tag{getfield(Bilevel, Symbol(\"#eval_cons#112\")){SimData,Int64,Bilevel.VariableSelector,Bilevel.ConstraintSelector,Int64,Int64},Float64},Float64,12},1},Array{ForwardDiff.Dual{ForwardDiff.Tag{getfield(Bilevel, Symbol(\"#eval_cons#112\")){SimData,Int64,Bilevel.VariableSelector,Bilevel.ConstraintSelector,Int64,Int64},Float64},Float64,12},2}}},getfield(Bilevel, Symbol(\"#eval_cons_#30\")){Int64,Bilevel.VariableSelector,Array{Any,1},Array{Any,1}},DiffResults.MutableDiffResult{1,Array{ForwardDiff.Dual{ForwardDiff.Tag{getfield(Bilevel, Symbol(\"#eval_cons#112\")){SimData,Int64,Bilevel.VariableSelector,Bilevel.ConstraintSelector,Int64,Int64},Float64},Float64,12},1},Tuple{Array{ForwardDiff.Dual{ForwardDiff.Tag{getfield(Bilevel, Symbol(\"#eval_cons#112\")){SimData,Int64,Bilevel.VariableSelector,Bilevel.ConstraintSelector,Int64,Int64},Float64},Float64,12},2}}},Array{Int64,1},Array{Int64,1}})(::Array{Float64,1}) at /Users/blandry/.julia/dev/Bilevel/src/solvers/autodiff.jl:50",
      " [8] auglag(::getfield(Bilevel, Symbol(\"#solver_fn#55\")){getfield(Bilevel, Symbol(\"#eval_obj_#29\")){Int64,Bilevel.VariableSelector},DiffResults.MutableDiffResult{2,ForwardDiff.Dual{ForwardDiff.Tag{getfield(Bilevel, Symbol(\"#eval_cons#112\")){SimData,Int64,Bilevel.VariableSelector,Bilevel.ConstraintSelector,Int64,Int64},Float64},Float64,12},Tuple{Array{ForwardDiff.Dual{ForwardDiff.Tag{getfield(Bilevel, Symbol(\"#eval_cons#112\")){SimData,Int64,Bilevel.VariableSelector,Bilevel.ConstraintSelector,Int64,Int64},Float64},Float64,12},1},Array{ForwardDiff.Dual{ForwardDiff.Tag{getfield(Bilevel, Symbol(\"#eval_cons#112\")){SimData,Int64,Bilevel.VariableSelector,Bilevel.ConstraintSelector,Int64,Int64},Float64},Float64,12},2}}},getfield(Bilevel, Symbol(\"#eval_cons_#30\")){Int64,Bilevel.VariableSelector,Array{Any,1},Array{Any,1}},DiffResults.MutableDiffResult{1,Array{ForwardDiff.Dual{ForwardDiff.Tag{getfield(Bilevel, Symbol(\"#eval_cons#112\")){SimData,Int64,Bilevel.VariableSelector,Bilevel.ConstraintSelector,Int64,Int64},Float64},Float64,12},1},Tuple{Array{ForwardDiff.Dual{ForwardDiff.Tag{getfield(Bilevel, Symbol(\"#eval_cons#112\")){SimData,Int64,Bilevel.VariableSelector,Bilevel.ConstraintSelector,Int64,Int64},Float64},Float64,12},2}}},Array{Int64,1},Array{Int64,1}}, ::Int64, ::Int64, ::Array{Float64,1}, ::Dict{String,Any}) at /Users/blandry/.julia/dev/Bilevel/src/solvers/auglag.jl:46",
      " [9] contact_normal_τ_direct!(::Array{ForwardDiff.Dual{ForwardDiff.Tag{getfield(Bilevel, Symbol(\"#eval_cons#112\")){SimData,Int64,Bilevel.VariableSelector,Bilevel.ConstraintSelector,Int64,Int64},Float64},Float64,12},1}, ::SimData, ::Symmetric{ForwardDiff.Dual{ForwardDiff.Tag{getfield(Bilevel, Symbol(\"#eval_cons#112\")){SimData,Int64,Bilevel.VariableSelector,Bilevel.ConstraintSelector,Int64,Int64},Float64},Float64,12},Array{ForwardDiff.Dual{ForwardDiff.Tag{getfield(Bilevel, Symbol(\"#eval_cons#112\")){SimData,Int64,Bilevel.VariableSelector,Bilevel.ConstraintSelector,Int64,Int64},Float64},Float64,12},2}}, ::EnvironmentJacobian{ForwardDiff.Dual{ForwardDiff.Tag{getfield(Bilevel, Symbol(\"#eval_cons#112\")){SimData,Int64,Bilevel.VariableSelector,Bilevel.ConstraintSelector,Int64,Int64},Float64},Float64,12}}, ::SegmentedVector{JointID,ForwardDiff.Dual{ForwardDiff.Tag{getfield(Bilevel, Symbol(\"#eval_cons#112\")){SimData,Int64,Bilevel.VariableSelector,Bilevel.ConstraintSelector,Int64,Int64},Float64},Float64,12},Base.OneTo{JointID},Array{ForwardDiff.Dual{ForwardDiff.Tag{getfield(Bilevel, Symbol(\"#eval_cons#112\")){SimData,Int64,Bilevel.VariableSelector,Bilevel.ConstraintSelector,Int64,Int64},Float64},Float64,12},1}}, ::Array{ForwardDiff.Dual{ForwardDiff.Tag{getfield(Bilevel, Symbol(\"#eval_cons#112\")){SimData,Int64,Bilevel.VariableSelector,Bilevel.ConstraintSelector,Int64,Int64},Float64},Float64,12},1}, ::Array{ForwardDiff.Dual{ForwardDiff.Tag{getfield(Bilevel, Symbol(\"#eval_cons#112\")){SimData,Int64,Bilevel.VariableSelector,Bilevel.ConstraintSelector,Int64,Int64},Float64},Float64,12},1}, ::Array{ForwardDiff.Dual{ForwardDiff.Tag{getfield(Bilevel, Symbol(\"#eval_cons#112\")){SimData,Int64,Bilevel.VariableSelector,Bilevel.ConstraintSelector,Int64,Int64},Float64},Float64,12},1}, ::Int64) at /Users/blandry/.julia/dev/Bilevel/src/simulation_direct.jl:156",
      " [10] (::getfield(Bilevel, Symbol(\"#eval_cons#112\")){SimData,Int64,Bilevel.VariableSelector,Bilevel.ConstraintSelector,Int64,Int64})(::Array{ForwardDiff.Dual{ForwardDiff.Tag{getfield(Bilevel, Symbol(\"#eval_cons#112\")){SimData,Int64,Bilevel.VariableSelector,Bilevel.ConstraintSelector,Int64,Int64},Float64},Float64,12},1}) at /Users/blandry/.julia/dev/Bilevel/src/trajopt_direct.jl:179",
      " [11] chunk_mode_jacobian!(::DiffResults.MutableDiffResult{1,Array{Float64,1},Tuple{Array{Float64,2}}}, ::getfield(Bilevel, Symbol(\"#eval_cons#112\")){SimData,Int64,Bilevel.VariableSelector,Bilevel.ConstraintSelector,Int64,Int64}, ::Array{Float64,1}, ::ForwardDiff.JacobianConfig{ForwardDiff.Tag{getfield(Bilevel, Symbol(\"#eval_cons#112\")){SimData,Int64,Bilevel.VariableSelector,Bilevel.ConstraintSelector,Int64,Int64},Float64},Float64,12,Array{ForwardDiff.Dual{ForwardDiff.Tag{getfield(Bilevel, Symbol(\"#eval_cons#112\")){SimData,Int64,Bilevel.VariableSelector,Bilevel.ConstraintSelector,Int64,Int64},Float64},Float64,12},1}}) at /Users/blandry/.julia/packages/ForwardDiff/okZnq/src/jacobian.jl:212",
      " [12] jacobian! at /Users/blandry/.julia/packages/ForwardDiff/okZnq/src/jacobian.jl:56 [inlined]",
      " [13] jacobian! at /Users/blandry/.julia/packages/ForwardDiff/okZnq/src/jacobian.jl:52 [inlined]",
      " [14] (::getfield(Bilevel, Symbol(\"#solver_fn#54\")){getfield(Bilevel, Symbol(\"#eval_obj#111\")){SimData},DiffResults.MutableDiffResult{2,Float64,Tuple{Array{Float64,1},Array{Float64,2}}},ForwardDiff.HessianConfig{ForwardDiff.Tag{getfield(Bilevel, Symbol(\"#eval_obj#111\")){SimData},Float64},Float64,12,Array{ForwardDiff.Dual{ForwardDiff.Tag{getfield(Bilevel, Symbol(\"#eval_obj#111\")){SimData},Float64},ForwardDiff.Dual{ForwardDiff.Tag{getfield(Bilevel, Symbol(\"#eval_obj#111\")){SimData},Float64},Float64,12},12},1},Tuple{Array{ForwardDiff.Dual{ForwardDiff.Tag{getfield(Bilevel, Symbol(\"#eval_obj#111\")){SimData},Float64},Float64,12},1},Array{ForwardDiff.Dual{ForwardDiff.Tag{getfield(Bilevel, Symbol(\"#eval_obj#111\")){SimData},Float64},Float64,12},1}}},getfield(Bilevel, Symbol(\"#eval_cons#112\")){SimData,Int64,Bilevel.VariableSelector,Bilevel.ConstraintSelector,Int64,Int64},DiffResults.MutableDiffResult{1,Array{Float64,1},Tuple{Array{Float64,2}}},ForwardDiff.JacobianConfig{ForwardDiff.Tag{getfield(Bilevel, Symbol(\"#eval_cons#112\")){SimData,Int64,Bilevel.VariableSelector,Bilevel.ConstraintSelector,Int64,Int64},Float64},Float64,12,Array{ForwardDiff.Dual{ForwardDiff.Tag{getfield(Bilevel, Symbol(\"#eval_cons#112\")){SimData,Int64,Bilevel.VariableSelector,Bilevel.ConstraintSelector,Int64,Int64},Float64},Float64,12},1}},Array{Int64,1},Array{Int64,1}})(::Array{Float64,1}) at /Users/blandry/.julia/dev/Bilevel/src/solvers/autodiff.jl:28",
      " [15] objcon_wrapper(::Ptr{Int64}, ::Int64, ::Ptr{Float64}, ::Int64, ::Int64, ::Ptr{Float64}, ::Int64, ::Int64, ::Ptr{Float64}, ::Ptr{Int8}, ::Int64, ::Ptr{Int64}, ::Int64, ::Ptr{Float64}, ::Int64) at /Users/blandry/.julia/dev/Bilevel/src/solvers/snopt.jl:104",
      " [16] #snopt#46(::String, ::String, ::Nothing, ::Function, ::Function, ::Int64, ::Int64, ::Array{Float64,1}, ::Dict{String,Any}) at /Users/blandry/.julia/dev/Bilevel/src/solvers/snopt.jl:342",
      " [17] (::getfield(Bilevel, Symbol(\"#kw##snopt\")))(::NamedTuple{(:callback_fn,),Tuple{Nothing}}, ::typeof(Bilevel.snopt), ::Function, ::Int64, ::Int64, ::Array{Float64,1}, ::Dict{String,Any}) at none:0",
      " [18] #trajopt#38(::Nothing, ::Bool, ::Float64, ::Float64, ::Float64, ::Int64, ::Nothing, ::Function, ::SimData) at /Users/blandry/.julia/dev/Bilevel/src/trajopt.jl:39",
      " [19] (::getfield(Bilevel, Symbol(\"#kw##trajopt\")))(::NamedTuple{(:quaternion_state, :verbose),Tuple{Bool,Int64}}, ::typeof(trajopt), ::SimData) at none:0",
      " [20] top-level scope at In[110]:1"
     ]
    }
   ],
   "source": [
    "traj_direct = Bilevel.trajopt(sim_data_direct, quaternion_state=true, verbose=1)"
   ]
  },
  {
   "cell_type": "code",
   "execution_count": 106,
   "metadata": {
    "collapsed": false
   },
   "outputs": [
    {
     "data": {
      "image/png": "[encoded data removed]"
     },
     "execution_count": 106,
     "metadata": {},
     "output_type": "execute_result"
    }
   ],
   "source": [
    "j = 11\n",
    "clibrary(:Plots)\n",
    "gr(size=(800,500), html_output_format=:png, \n",
    "    seriescolor=:magma,  background_color_legend=:white, \n",
    "    background=RGB(((240,240,240) ./ 255.)...));\n",
    "plot(traj_indirect[7],traj_indirect[8][j,:],label=\"Indirect\",seriescolor=RGB(((227,74,51) ./ 255.)...),linewidth=4,marker=6)\n",
    "plot!(traj_direct[7],traj_direct[8][j,:],label=\"Direct\",seriescolor=RGB(((254,232,200) ./ 255.)...),linewidth=0,marker=4)"
   ]
  }
 ],
 "metadata": {
  "kernelspec": {
   "display_name": "Julia 1.1.0",
   "language": "julia",
   "name": "julia-1.1"
  },
  "language_info": {
   "file_extension": ".jl",
   "mimetype": "application/julia",
   "name": "julia",
   "version": "1.1.0"
  }
 },
 "nbformat": 4,
 "nbformat_minor": 2
}
