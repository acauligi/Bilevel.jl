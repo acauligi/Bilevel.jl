{
 "cells": [
  {
   "cell_type": "code",
   "execution_count": 34,
   "metadata": {
    "collapsed": false
   },
   "outputs": [],
   "source": [
    "using Revise\n",
    "using Bilevel\n",
    "\n",
    "using RigidBodyDynamics\n",
    "using MeshCatMechanisms\n",
    "using MeshCat\n",
    "using ForwardDiff\n",
    "using Plots\n",
    "using LinearAlgebra\n",
    "using StaticArrays\n",
    "using Base.Threads"
   ]
  },
  {
   "cell_type": "code",
   "execution_count": 35,
   "metadata": {
    "collapsed": false
   },
   "outputs": [
    {
     "data": {
      "text/plain": [
       "1"
      ]
     },
     "execution_count": 35,
     "metadata": {},
     "output_type": "execute_result"
    }
   ],
   "source": [
    "nthreads()"
   ]
  },
  {
   "cell_type": "code",
   "execution_count": 30,
   "metadata": {
    "collapsed": false
   },
   "outputs": [
    {
     "data": {
      "text/plain": [
       "\"Finished successfully: optimality conditions satisfied\""
      ]
     },
     "metadata": {},
     "output_type": "display_data"
    },
    {
     "data": {
      "text/plain": [
       "2-element Array{Float64,1}:\n",
       " 49.52630320092698 \n",
       " 19.622837627545735"
      ]
     },
     "metadata": {},
     "output_type": "display_data"
    },
    {
     "data": {
      "text/plain": [
       "true"
      ]
     },
     "metadata": {},
     "output_type": "display_data"
    },
    {
     "data": {
      "text/plain": [
       "true"
      ]
     },
     "metadata": {},
     "output_type": "display_data"
    },
    {
     "data": {
      "text/plain": [
       "\"Finished successfully\""
      ]
     },
     "metadata": {},
     "output_type": "display_data"
    },
    {
     "data": {
      "text/plain": [
       "2-element Array{Float64,1}:\n",
       " 70.31175797733866\n",
       " 39.54984329150459"
      ]
     },
     "metadata": {},
     "output_type": "display_data"
    },
    {
     "data": {
      "text/plain": [
       "false"
      ]
     },
     "metadata": {},
     "output_type": "display_data"
    },
    {
     "data": {
      "text/plain": [
       "false"
      ]
     },
     "metadata": {},
     "output_type": "display_data"
    }
   ],
   "source": [
    "function get_barnesgrad()\n",
    "    a1 = 75.196\n",
    "    a3 = 0.12694\n",
    "    a5 = 1.0345e-5\n",
    "    a7 = 0.030234\n",
    "    a9 = 3.5256e-5\n",
    "    a11 = 0.25645\n",
    "    a13 = 1.3514e-5\n",
    "    a15 = -5.2375e-6\n",
    "    a17 = 7.0e-10\n",
    "    a19 = -1.6638e-6\n",
    "    a21 = 0.0005\n",
    "    a2 = -3.8112\n",
    "    a4 = -2.0567e-3\n",
    "    a6 = -6.8306\n",
    "    a8 = -1.28134e-3\n",
    "    a10 = -2.266e-7\n",
    "    a12 = -3.4604e-3\n",
    "    a14 = -28.106\n",
    "    a16 = -6.3e-8\n",
    "    a18 = 3.4054e-4\n",
    "    a20 = -2.8673\n",
    "    \n",
    "    function eval_obj(x::AbstractArray{T}) where T\n",
    "        x1 = x[1]\n",
    "        x2 = x[2]\n",
    "        y1 = x1*x2\n",
    "        y2 = y1*x1\n",
    "        y3 = x2^2\n",
    "        y4 = x1^2\n",
    "\n",
    "        f = a1 + a2*x1 + a3*y4 + a4*y4*x1 + a5*y4^2 +\n",
    "            a6*x2 + a7*y1 + a8*x1*y1 + a9*y1*y4 + a10*y2*y4 +\n",
    "            a11*y3 + a12*x2*y3 + a13*y3^2 + a14/(x2+1) +\n",
    "            a15*y3*y4 + a16*y1*y4*x2 + a17*y1*y3*y4 + a18*x1*y3 +\n",
    "            a19*y1*y3 + a20*exp(a21*y1)\n",
    "        \n",
    "        f\n",
    "    end\n",
    "\n",
    "    function eval_cons(x::AbstractArray{T}) where T\n",
    "        x1 = x[1]\n",
    "        x2 = x[2]\n",
    "        y1 = x1*x2\n",
    "        y2 = y1*x1\n",
    "        y3 = x2^2\n",
    "        y4 = x1^2\n",
    "        \n",
    "        c = zeros(T, 3)\n",
    "        c[1] = 1 - y1/700.0\n",
    "        c[2] = y4/25.0^2 - x2/5.0\n",
    "        c[3] = (x1/500.0- 0.11) - (x2/50.0-1)^2\n",
    "        \n",
    "        c\n",
    "    end\n",
    "    \n",
    "    fres = DiffResults.GradientResult(zeros(2))\n",
    "    fcfg = ForwardDiff.GradientConfig(eval_obj, zeros(2))\n",
    "    gres = DiffResults.JacobianResult(zeros(3), zeros(2))\n",
    "    gcfg = ForwardDiff.JacobianConfig(eval_cons, zeros(2))\n",
    "    function solver_fn(x)\n",
    "        ForwardDiff.gradient!(fres, eval_obj, x, fcfg)\n",
    "    \n",
    "        J = eval_obj(x)\n",
    "        gJ = ForwardDiff.gradient(eval_obj, x)\n",
    "        \n",
    "        HJ = ForwardDiff.hessian(eval_obj, x)\n",
    "        \n",
    "        ForwardDiff.jacobian!(gres, eval_cons, x, gcfg)\n",
    "    \n",
    "        g = DiffResults.value(gres)\n",
    "        ceq = zeros(0)\n",
    "        c = g\n",
    "    \n",
    "        dgdx = DiffResults.jacobian(gres)\n",
    "        gceq = zeros(0,2)\n",
    "        gc = dgdx\n",
    "    \n",
    "        J, ceq, c, gJ, gceq, gc, HJ\n",
    "    end\n",
    "    \n",
    "    solver_fn\n",
    "end\n",
    "\n",
    "solver_fn = get_barnesgrad()\n",
    "\n",
    "x0 = [10.0, 10.0]\n",
    "options = Dict{String, Any}()\n",
    "options[\"Derivative option\"] = 1\n",
    "options[\"Verify level\"] = 1\n",
    "xopt, info = Bilevel.snopt(solver_fn, 0, 3, x0, options)\n",
    "\n",
    "display(info)\n",
    "display(xopt)\n",
    "display(isapprox(xopt[1], 49.5263; atol=1e-4))\n",
    "display(isapprox(xopt[2], 19.6228; atol=1e-4))\n",
    "\n",
    "x0 = [10.0, 10.0]\n",
    "options = Dict{String, Any}()\n",
    "options[\"num_fosteps\"] = 0\n",
    "options[\"num_sosteps\"] = 10\n",
    "options[\"c\"] = 100.\n",
    "options[\"c_fos\"] = 1.\n",
    "options[\"c_sos\"] = 5.\n",
    "xopt, info = Bilevel.auglag(solver_fn, 0, 3, x0, options)\n",
    "\n",
    "display(info)\n",
    "display(xopt)\n",
    "display(isapprox(xopt[1], 49.5263; atol=1e-4))\n",
    "display(isapprox(xopt[2], 19.6228; atol=1e-4))"
   ]
  },
  {
   "cell_type": "code",
   "execution_count": 31,
   "metadata": {
    "collapsed": false
   },
   "outputs": [
    {
     "data": {
      "text/plain": [
       "0.01"
      ]
     },
     "execution_count": 31,
     "metadata": {},
     "output_type": "execute_result"
    }
   ],
   "source": [
    "urdf = joinpath(\"..\", \"urdf\", \"ball.urdf\")\n",
    "mechanism = parse_urdf(Float64, urdf)\n",
    "\n",
    "floor = findbody(mechanism, \"floor\")\n",
    "point = Point3D(default_frame(floor), SVector([0.,0.,0.]...))\n",
    "normal = FreeVector3D(default_frame(floor), SVector([0.,0.,1.]...))\n",
    "floor_obs = Obstacle(floor, point, normal, :xyz, .5)\n",
    "\n",
    "obstacles = [floor_obs]\n",
    "env = Environment(mechanism, urdf, obstacles)\n",
    "ctrl! = (u,t,x) -> u[:] .= 0.\n",
    "x0 = MechanismState(mechanism)\n",
    "Δt = .01"
   ]
  },
  {
   "cell_type": "code",
   "execution_count": 32,
   "metadata": {
    "collapsed": false
   },
   "outputs": [
    {
     "data": {
      "text/plain": [
       "25"
      ]
     },
     "execution_count": 32,
     "metadata": {},
     "output_type": "execute_result"
    }
   ],
   "source": [
    "q1 = [1., 0., 0., 0., 0., 0., 0.017]\n",
    "v1 = [0., 0., 0., 1., 0., 0.]\n",
    "N = 25"
   ]
  },
  {
   "cell_type": "code",
   "execution_count": 39,
   "metadata": {
    "collapsed": false,
    "scrolled": false
   },
   "outputs": [
    {
     "name": "stdout",
     "output_type": "stream",
     "text": [
      "Finished successfully: optimality conditions satisfied\n",
      "Finished successfully: optimality conditions satisfied\n",
      "Finished successfully: optimality conditions satisfied\n",
      "Finished successfully: optimality conditions satisfied\n",
      "Finished successfully: optimality conditions satisfied\n",
      "Finished successfully: optimality conditions satisfied\n",
      "Finished successfully: optimality conditions satisfied\n",
      "Finished successfully: optimality conditions satisfied\n",
      "Finished successfully: optimality conditions satisfied\n",
      "Finished successfully: optimality conditions satisfied\n",
      "Finished successfully: optimality conditions satisfied\n",
      "Finished successfully: optimality conditions satisfied\n",
      "Finished successfully: optimality conditions satisfied\n",
      "Finished successfully: optimality conditions satisfied\n",
      "Finished successfully: optimality conditions satisfied\n",
      "Finished successfully: optimality conditions satisfied\n",
      "Finished successfully: optimality conditions satisfied\n",
      "Finished successfully: optimality conditions satisfied\n",
      "Finished successfully: optimality conditions satisfied\n",
      "Finished successfully: optimality conditions satisfied\n",
      "Finished successfully: optimality conditions satisfied\n",
      "Finished successfully: optimality conditions satisfied\n",
      "Finished successfully: optimality conditions satisfied\n",
      "Finished successfully: optimality conditions satisfied\n"
     ]
    },
    {
     "data": {
      "text/plain": [
       "(Array{Float64,1}[[1.0, 0.0, 0.0, 0.0, 0.0, 0.0, 0.017], [1.0, 0.0, 1.46186e-10, -6.97934e-25, 0.01, -1.41364e-26, 0.016019], [1.0, 0.0, 4.45811e-10, -6.97934e-25, 0.02, -1.41364e-26, 0.014057], [1.0, 0.0, 9.18338e-10, -6.97934e-25, 0.03, -1.41364e-26, 0.011114], [1.0, 0.0, 1.60738e-9, -6.97934e-25, 0.04, -1.41364e-26, 0.00719], [1.0, 0.0, 2.62888e-9, -6.97934e-25, 0.05, -1.41364e-26, 0.002285], [1.0, -7.57036e-21, 3.6508e-9, 9.95264e-21, 0.0581995, 1.5613e-23, 5.07349e-8], [1.0, -7.57036e-21, 2.5933e-5, 9.95264e-21, 0.0647658, 1.5613e-23, 1.93701e-14], [1.0, -7.57036e-21, 0.000292603, 9.95264e-21, 0.0708415, 1.5613e-23, 1.93701e-14], [1.0, -7.57036e-21, 0.000559136, 9.95264e-21, 0.0764266, 1.5613e-23, 1.93701e-14]  …  [0.999997, -7.57036e-21, 0.00215551, 9.95262e-21, 0.0996338, 1.56128e-23, 1.93701e-14], [0.999997, -7.57036e-21, 0.00242112, 9.95262e-21, 0.101784, 1.56129e-23, 1.93701e-14], [0.999996, -7.57036e-21, 0.00268659, 9.95259e-21, 0.103444, 1.56128e-23, 1.93701e-14], [0.999995, 1.92573e-15, 0.00295194, 1.927e-20, 0.104614, 6.00437e-20, 1.93701e-14], [0.999994, 1.92573e-15, 0.00321716, 1.927e-20, 0.105293, 6.00437e-20, 1.93701e-14], [0.999993, 1.92573e-15, 0.00348225, 1.927e-20, 0.105481, 6.00437e-20, 1.93701e-14], [0.999994, 1.24016e-13, 0.00331102, -1.91623e-11, 0.105481, -7.21017e-15, -1.93701e-14], [0.999995, 1.24016e-13, 0.00313979, -3.83247e-11, 0.105481, -1.44204e-14, -1.93701e-14], [0.999995, 1.24016e-13, 0.00296856, -5.74871e-11, 0.105481, -1.44204e-14, -1.93701e-14], [0.999996, 1.24016e-13, 0.00279733, -7.66495e-11, 0.105481, -1.44204e-14, -1.93701e-14]], Array{Float64,1}[[0.0, 0.0, 0.0, 1.0, 0.0, 0.0], [0.0, 2.92373e-8, -1.40621e-22, 1.0, 0.0, -0.0981], [0.0, 5.99249e-8, -1.40621e-22, 1.0, 0.0, -0.1962], [0.0, 9.45054e-8, -1.40621e-22, 1.0, 0.0, -0.2943], [0.0, 1.37808e-7, -1.40621e-22, 1.0, 0.0, -0.3924], [0.0, 2.043e-7, -1.40621e-22, 1.0, 0.0, -0.4905], [-1.51111e-18, 2.04385e-7, 1.99222e-18, 0.819947, -1.09055e-20, -0.228495], [-1.51111e-18, 0.00518588, 1.99222e-18, 0.656636, -1.09055e-20, 2.89837e-5], [-1.51111e-18, 0.053334, 1.99222e-18, 0.607571, -1.09055e-20, 0.000355554], [-1.51111e-18, 0.0533067, 1.99222e-18, 0.558507, -1.09055e-20, 0.000624563]  …  [-1.51111e-18, 0.0531468, 1.99222e-18, 0.264126, -1.09055e-20, 0.00113866], [-1.51111e-18, 0.0531209, 1.99222e-18, 0.215063, -1.09055e-20, 0.0010414], [-1.51111e-18, 0.0530952, 1.99221e-18, 0.166, -1.09055e-20, 0.00089196], [-1.51111e-18, 0.0530695, 1.87025e-18, 0.116938, 6.00652e-18, 0.000690394], [-1.51111e-18, 0.053044, 1.87025e-18, 0.0678751, 6.00652e-18, 0.000436737], [-1.51111e-18, 0.0530185, 1.87025e-18, 0.018813, 6.00652e-18, 0.000131025], [3.71327e-11, -0.0342461, -3.83237e-9, 1.28269e-14, -7.21024e-13, 6.21981e-12], [3.71327e-11, -0.0342461, -3.83237e-9, 2.00363e-8, -7.21024e-13, -3.19065e-6], [3.71327e-11, -0.0342461, -3.83237e-9, 3.78872e-8, 1.64385e-19, -6.38133e-6], [3.71327e-11, -0.0342461, -3.83237e-9, 5.35529e-8, 1.64385e-19, -9.57201e-6]], Array{Float64,1}[], Array{Float64,1}[[0.0, 0.0, 0.0, 0.0, 0.0, 0.0], [0.0, 0.0, 0.0, 0.0, 0.0, 1.0], [0.0, 0.0, 0.0, 0.0, 0.0, 1.0], [-4.1359e-25, 0.0, 0.0, -2.06795e-25, 0.0, 1.0], [0.0, 0.0, 0.0, 4.1359e-25, 0.0, 1.0], [8.27181e-25, 0.0, 0.0, -8.27181e-25, 0.0, 1.0], [3.6708, 0.0, 0.0, 1.8354, 0.0, 0.819947], [3.32924, 0.0, 0.0, 1.66462, 0.0, 0.656636], [1.00032, 0.0, 0.0, 0.500159, 0.0, 0.607571], [1.00027, 0.0, 0.0, 0.500133, 0.0, 0.558507]  …  [1.00027, 0.0, 0.0, 0.500133, 0.0, 0.264129], [1.00027, 0.0, 0.0, 0.500133, 0.0, 0.215066], [1.00027, 0.0, 0.0, 0.500133, 0.0, 0.166003], [1.00027, 0.0, 0.0, 0.500133, 0.0, 0.116939], [1.00027, 0.0, 0.0, 0.500133, 0.0, 0.0678764], [1.00027, 0.0, 0.0, 0.500133, 0.0, 0.0188134], [0.999934, 6.04049e-5, 0.0, 0.191838, 0.0, -3.13665e-16], [0.999967, 0.0959494, 0.0, 0.0959494, 0.0, 1.18403e-16], [0.999967, 0.0959494, 0.0, 0.0959494, 0.0, 1.18403e-16], [0.999967, 0.0959494, 0.0, 0.0959494, 0.0, 1.18403e-16]], Array{Float64,1}[], [0.0, 0.01, 0.02, 0.03, 0.04, 0.05, 0.06, 0.07, 0.08, 0.09  …  0.15, 0.16, 0.17, 0.18, 0.19, 0.2, 0.21, 0.22, 0.23, 0.24], [1.0 1.0 … 0.999995 0.999996; 0.0 0.0 … 1.24016e-13 1.24016e-13; … ; 0.0 0.0 … 1.64385e-19 1.64385e-19; 0.0 -0.0981 … -6.38133e-6 -9.57201e-6])"
      ]
     },
     "execution_count": 39,
     "metadata": {},
     "output_type": "execute_result"
    }
   ],
   "source": [
    "sim_data_indirect = get_sim_data_indirect(mechanism,env,Δt,relax_comp=false)\n",
    "set_configuration!(x0, q1)\n",
    "set_velocity!(x0, v1)\n",
    "traj_indirect = Bilevel.simulate(sim_data_indirect, ctrl!, x0, N, verbose=1)"
   ]
  },
  {
   "cell_type": "code",
   "execution_count": 38,
   "metadata": {
    "collapsed": false
   },
   "outputs": [
    {
     "name": "stdout",
     "output_type": "stream",
     "text": [
      "Finished successfully: optimality conditions satisfied\n",
      "Finished successfully: optimality conditions satisfied\n",
      "Finished successfully: optimality conditions satisfied\n",
      "Finished successfully: optimality conditions satisfied\n",
      "Finished successfully: optimality conditions satisfied\n",
      "Finished successfully: optimality conditions satisfied\n",
      "Finished successfully: optimality conditions satisfied\n",
      "Finished successfully: optimality conditions satisfied\n",
      "Finished successfully: optimality conditions satisfied\n",
      "Finished successfully: optimality conditions satisfied\n",
      "Finished successfully: optimality conditions satisfied\n",
      "Finished successfully: optimality conditions satisfied\n",
      "Finished successfully: optimality conditions satisfied\n",
      "Finished successfully: optimality conditions satisfied\n",
      "Finished successfully: optimality conditions satisfied\n",
      "Finished successfully: optimality conditions satisfied\n",
      "Finished successfully: optimality conditions satisfied\n",
      "Finished successfully: optimality conditions satisfied\n",
      "Finished successfully: optimality conditions satisfied\n",
      "Finished successfully: optimality conditions satisfied\n",
      "Finished successfully: optimality conditions satisfied\n",
      "Finished successfully: optimality conditions satisfied\n",
      "Finished successfully: optimality conditions satisfied\n",
      "Finished successfully: optimality conditions satisfied\n"
     ]
    },
    {
     "data": {
      "text/plain": [
       "(Any[[1.0, 0.0, 0.0, 0.0, 0.0, 0.0, 0.017], [1.0, 0.0, 4.90389e-6, 0.0, 0.01, 0.0, 0.016019], [1.0, 0.0, 1.4711e-5, 0.0, 0.02, 0.0, 0.014057], [1.0, 0.0, 2.94207e-5, 0.0, 0.0300001, 0.0, 0.011114], [1.0, 0.0, 4.90322e-5, 0.0, 0.0400002, 0.0, 0.00719], [1.0, 0.0, 7.35446e-5, 0.0, 0.0500003, 0.0, 0.002285], [1.0, 0.0, 9.02541e-5, 0.0, 0.0582002, 0.0, -4.90249e-7], [1.0, 0.0, 0.000100259, 0.0, 0.0647668, 0.0, -2.74032e-7], [1.0, 0.0, 0.000110503, 0.0, 0.0708428, 0.0, -1.41203e-7], [1.0, 0.0, 0.000120987, 0.0, 0.0764285, 0.0, -1.34538e-7]  …  [1.0, 0.0, 0.000188929, 0.0, 0.0996426, 0.0, -8.46763e-8], [1.0, 0.0, 0.000201093, 0.0, 0.101795, 0.0, -7.47194e-8], [1.0, 0.0, 0.000213496, 0.0, 0.103457, 0.0, -6.4292e-8], [1.0, 0.0, 0.00022614, 0.0, 0.104628, 0.0, -5.33937e-8], [1.0, 0.0, 0.000239024, 0.0, 0.105309, 0.0, -4.20245e-8], [1.0, 0.0, 0.000252149, 0.0, 0.105499, 0.0, -3.01841e-8], [1.0, 0.0, 0.000265366, 0.0, 0.1055, -7.48664e-13, -9.99634e-9], [1.0, 0.0, 0.000278583, 0.0, 0.1055, 1.07357e-11, -3.45564e-13], [1.0, 0.0, 0.000291801, 0.0, 0.1055, -8.54829e-12, -3.45564e-13], [1.0, 0.0, 0.000305018, 0.0, 0.1055, 1.50302e-11, -3.45564e-13]], Any[[0.0, 0.0, 0.0, 1.0, 0.0, 0.0], [0.0, 0.000980778, 0.0, 1.0, -8.64014e-13, -0.0980902], [0.0, 0.00196143, 0.0, 1.00001, -4.76011e-13, -0.196171], [0.0, 0.00294194, 0.0, 1.00002, 1.10286e-12, -0.294241], [0.0, 0.00392229, 0.0, 1.00004, 2.46051e-12, -0.392302], [0.0, 0.00490247, 0.0, 1.00008, 4.69408e-12, -0.490353], [0.0, 0.00334191, 0.0, 0.820029, 4.69408e-12, -0.228401], [0.0, 0.0020009, 0.0, 0.656654, 4.69408e-12, 0.000153292], [0.0, 0.00204885, 0.0, 0.60761, 4.69408e-12, 0.000148573], [0.0, 0.00209685, 0.0, 0.558568, 4.69408e-12, 0.000136854]  …  [0.0, 0.00238471, 0.0, 0.264281, 5.06865e-12, 0.000101979], [0.0, 0.00243272, 0.0, 0.215234, 5.06865e-12, 8.87527e-5], [0.0, 0.00248075, 0.0, 0.166186, 5.06865e-12, 7.32197e-5], [0.0, 0.00252878, 0.0, 0.117139, 5.4503e-12, 5.53096e-5], [0.0, 0.00257682, 0.0, 0.068091, 5.4503e-12, 3.49516e-5], [0.0, 0.00262486, 0.0, 0.0190436, 5.4503e-12, 1.20751e-5], [0.0, 0.00264348, 0.0, 2.59217e-6, -7.48664e-11, 2.5235e-6], [0.0, 0.00264348, 0.0, 2.59248e-6, 1.14843e-9, 1.00104e-6], [0.0, 0.00264348, 0.0, 2.59435e-6, -1.9284e-9, 1.51408e-9], [0.0, 0.00264348, 0.0, 2.59282e-6, 2.35785e-9, 1.58214e-9]], Any[], Any[], Any[], [0.0, 0.01, 0.02, 0.03, 0.04, 0.05, 0.06, 0.07, 0.08, 0.09  …  0.15, 0.16, 0.17, 0.18, 0.19, 0.2, 0.21, 0.22, 0.23, 0.24], [1.0 1.0 … 1.0 1.0; 0.0 0.0 … 0.0 0.0; … ; 0.0 -8.64014e-13 … -1.9284e-9 2.35785e-9; 0.0 -0.0980902 … 1.51408e-9 1.58214e-9])"
      ]
     },
     "execution_count": 38,
     "metadata": {},
     "output_type": "execute_result"
    }
   ],
   "source": [
    "sim_data_direct = get_sim_data_direct(mechanism,env,Δt,relax_comp=false)\n",
    "set_configuration!(x0, q1)\n",
    "set_velocity!(x0, v1)\n",
    "traj_direct = Bilevel.simulate(sim_data_direct, ctrl!, x0, N, verbose=1)"
   ]
  },
  {
   "cell_type": "code",
   "execution_count": 40,
   "metadata": {
    "collapsed": false
   },
   "outputs": [
    {
     "data": {
      "image/png": "[encoded data removed]"
     },
     "execution_count": 40,
     "metadata": {},
     "output_type": "execute_result"
    }
   ],
   "source": [
    "j = 7\n",
    "clibrary(:Plots)\n",
    "gr(size=(800,500), html_output_format=:png, \n",
    "    seriescolor=:magma,  background_color_legend=:white, \n",
    "    background=RGB(((240,240,240) ./ 255.)...));\n",
    "plot(traj_indirect[6],traj_indirect[7][j,:],label=\"Indirect\",seriescolor=RGB(((227,74,51) ./ 255.)...),linewidth=4,marker=6)\n",
    "plot!(traj_direct[6],traj_direct[7][j,:],label=\"Direct\",seriescolor=RGB(((254,232,200) ./ 255.)...),linewidth=0,marker=4)"
   ]
  }
 ],
 "metadata": {
  "kernelspec": {
   "display_name": "Julia 1.1.0",
   "language": "julia",
   "name": "julia-1.1"
  },
  "language_info": {
   "file_extension": ".jl",
   "mimetype": "application/julia",
   "name": "julia",
   "version": "1.1.0"
  }
 },
 "nbformat": 4,
 "nbformat_minor": 2
}
