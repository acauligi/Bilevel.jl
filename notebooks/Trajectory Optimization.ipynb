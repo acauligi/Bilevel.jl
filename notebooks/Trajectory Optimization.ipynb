{
 "cells": [
  {
   "cell_type": "code",
   "execution_count": 1,
   "metadata": {},
   "outputs": [
    {
     "name": "stderr",
     "output_type": "stream",
     "text": [
      "┌ Info: Precompiling Bilevel [9688c538-179f-11e9-3174-495cea6b7f67]\n",
      "└ @ Base loading.jl:1186\n"
     ]
    },
    {
     "data": {
      "text/html": [
       "    <script class='js-collapse-script'>\n",
       "        var curMatch =\n",
       "            window.location.href\n",
       "            .match(/(.*?)\\/notebooks\\/.*\\.ipynb/);\n",
       "\n",
       "        curMatch = curMatch ||\n",
       "            window.location.href\n",
       "            .match(/(.*?)\\/apps\\/.*\\.ipynb/);\n",
       "\n",
       "        if ( curMatch ) {\n",
       "            $('head').append('<base href=\"' + curMatch[1] + '/\">');\n",
       "        }\n",
       "    </script>\n"
      ],
      "text/plain": [
       "HTML{String}(\"    <script class='js-collapse-script'>\\n        var curMatch =\\n            window.location.href\\n            .match(/(.*?)\\\\/notebooks\\\\/.*\\\\.ipynb/);\\n\\n        curMatch = curMatch ||\\n            window.location.href\\n            .match(/(.*?)\\\\/apps\\\\/.*\\\\.ipynb/);\\n\\n        if ( curMatch ) {\\n            \\$('head').append('<base href=\\\"' + curMatch[1] + '/\\\">');\\n        }\\n    </script>\\n\")"
      ]
     },
     "metadata": {},
     "output_type": "display_data"
    },
    {
     "data": {
      "text/html": [
       "<script class='js-collapse-script' src='/assetserver/b464848323e0a4c9a3cfe11f8edca2932188b6d9-assets/webio/dist/bundle.js'></script>"
      ],
      "text/plain": [
       "HTML{String}(\"<script class='js-collapse-script' src='/assetserver/b464848323e0a4c9a3cfe11f8edca2932188b6d9-assets/webio/dist/bundle.js'></script>\")"
      ]
     },
     "metadata": {},
     "output_type": "display_data"
    },
    {
     "data": {
      "text/html": [
       "<script class='js-collapse-script' src='/assetserver/b464848323e0a4c9a3cfe11f8edca2932188b6d9-assets/providers/ijulia_setup.js'></script>"
      ],
      "text/plain": [
       "HTML{String}(\"<script class='js-collapse-script' src='/assetserver/b464848323e0a4c9a3cfe11f8edca2932188b6d9-assets/providers/ijulia_setup.js'></script>\")"
      ]
     },
     "metadata": {},
     "output_type": "display_data"
    },
    {
     "data": {
      "text/html": [
       "  <script class='js-collapse-script'>\n",
       "    $('.js-collapse-script').parent('.output_subarea').css('padding', '0');\n",
       "  </script>\n"
      ],
      "text/plain": [
       "HTML{String}(\"  <script class='js-collapse-script'>\\n    \\$('.js-collapse-script').parent('.output_subarea').css('padding', '0');\\n  </script>\\n\")"
      ]
     },
     "metadata": {},
     "output_type": "display_data"
    },
    {
     "name": "stderr",
     "output_type": "stream",
     "text": [
      "┌ Error: evaluation error\n",
      "│   mod = Bilevel\n",
      "│   ex = const usrfun = #= /home/blandry/.julia/dev/Bilevel/src/solvers/snopt.jl:154 =# @cfunction(objcon_wrapper, Cvoid, (Ptr{Clong}, Ref{Clong}, Ptr{Cdouble}, Ref{Clong}, Ref{Clong}, Ptr{Cdouble}, Ref{Clong}, Ref{Clong}, Ptr{Cdouble}, Ptr{Cchar}, Ref{Clong}, Ptr{Clong}, Ref{Clong}, Ptr{Cdouble}, Ref{Clong}))\n",
      "│   exception = (ErrorException(\"invalid lookup expr (\\$(QuoteNode(Core.svec)))(JuliaInterpreter.SSAValue(2), JuliaInterpreter.SSAValue(3), JuliaInterpreter.SSAValue(4), JuliaInterpreter.SSAValue(5), JuliaInterpreter.SSAValue(6), JuliaInterpreter.SSAValue(7), JuliaInterpreter.SSAValue(8), JuliaInterpreter.SSAValue(9), JuliaInterpreter.SSAValue(10), JuliaInterpreter.SSAValue(11), JuliaInterpreter.SSAValue(12), JuliaInterpreter.SSAValue(13), JuliaInterpreter.SSAValue(14), JuliaInterpreter.SSAValue(15), JuliaInterpreter.SSAValue(16))\"), Union{Ptr{Nothing}, InterpreterIP}[Ptr{Nothing} @0x00007f6def2735eb, Ptr{Nothing} @0x00007f6def244204, Ptr{Nothing} @0x00007f6d9c3e4ca0, Ptr{Nothing} @0x00007f6d9c3efad5, Ptr{Nothing} @0x00007f6d700cd2ad, Ptr{Nothing} @0x00007f6d700cd894, Ptr{Nothing} @0x00007f6d9c3f0123, Ptr{Nothing} @0x00007f6d9c3f163b, Ptr{Nothing} @0x00007f6d9c3f54db, Ptr{Nothing} @0x00007f6d9c3ee984, Ptr{Nothing} @0x00007f6d9c3ef4d4, Ptr{Nothing} @0x00007f6def2285d6, Ptr{Nothing} @0x00007f6d9c3e0c15, Ptr{Nothing} @0x00007f6def2285d6, Ptr{Nothing} @0x00007f6d9c3df510, Ptr{Nothing} @0x00007f6d9c3df564, Ptr{Nothing} @0x00007f6d9c3dece4, Ptr{Nothing} @0x00007f6d9c3df30f, Ptr{Nothing} @0x00007f6def2285d6, Ptr{Nothing} @0x00007f6d9c3d8c84, Ptr{Nothing} @0x00007f6d9c3d963c, Ptr{Nothing} @0x00007f6d9c3db1de, Ptr{Nothing} @0x00007f6d9c3d33b1, Ptr{Nothing} @0x00007f6def2285d6, Ptr{Nothing} @0x00007f6def244a92, Ptr{Nothing} @0x0000000000000000])\n",
      "└ @ Revise /home/blandry/.julia/packages/Revise/UtBAC/src/lowered.jl:52\n"
     ]
    }
   ],
   "source": [
    "using Revise\n",
    "using Bilevel\n",
    "\n",
    "using RigidBodyDynamics\n",
    "using MeshCatMechanisms\n",
    "using MeshCat\n",
    "using Plots\n",
    "using LinearAlgebra\n",
    "using StaticArrays\n",
    "\n",
    "gr(size=(800,500),html_output_format=:png,\n",
    "    seriescolor=:magma,background_color_legend=:white,\n",
    "    background=RGB(((240,240,240) ./ 255.)...));"
   ]
  },
  {
   "cell_type": "markdown",
   "metadata": {},
   "source": [
    "# Contact"
   ]
  },
  {
   "cell_type": "markdown",
   "metadata": {},
   "source": [
    "## Single point with contact"
   ]
  },
  {
   "cell_type": "code",
   "execution_count": null,
   "metadata": {},
   "outputs": [],
   "source": [
    "urdf = joinpath(\"..\", \"urdf\", \"ball.urdf\")\n",
    "mechanism = parse_urdf(Float64, urdf)\n",
    "\n",
    "floor = findbody(mechanism, \"floor\")\n",
    "point = Point3D(default_frame(floor), SVector([0.,0.,0.]...))\n",
    "normal = FreeVector3D(default_frame(floor), SVector([0.,0.,1.]...))\n",
    "floor_obs = Obstacle(floor, point, normal, :xyz, 1.)\n",
    "\n",
    "obstacles = [floor_obs]\n",
    "env = Environment(mechanism, urdf, obstacles)"
   ]
  },
  {
   "cell_type": "code",
   "execution_count": null,
   "metadata": {},
   "outputs": [],
   "source": [
    "sim_data = get_sim_data_indirect(mechanism,env,.005,relax_comp=false)\n",
    "control! = (u,t,x) -> u[:] .= 0.\n",
    "state0 = MechanismState(mechanism)\n",
    "set_velocity!(state0, [0.,0.,0.,.3,0.,0.])\n",
    "sim = Bilevel.simulate(sim_data,control!,state0,10)"
   ]
  },
  {
   "cell_type": "code",
   "execution_count": null,
   "metadata": {},
   "outputs": [],
   "source": [
    "plot(sim[6],sim[7][5,:],label=\"Indirect\",seriescolor=RGB(((227,74,51) ./ 255.)...),linewidth=4,marker=6)"
   ]
  },
  {
   "cell_type": "code",
   "execution_count": null,
   "metadata": {},
   "outputs": [],
   "source": [
    "sim[1][end]"
   ]
  },
  {
   "cell_type": "code",
   "execution_count": null,
   "metadata": {},
   "outputs": [],
   "source": [
    "q1 = [1., 0., 0., 0., 0., 0., 0.]\n",
    "qN = [1., 0., 0., 0., .004, 0., 0.]\n",
    "N = 10\n",
    "Δt = .005\n",
    "\n",
    "function add_prob_constraints!(sim_data)\n",
    "    vs = sim_data.vs\n",
    "\n",
    "    add_eq!(sim_data, :cq1, length(q1), x -> vs(x, :q1) - q1)\n",
    "    add_eq!(sim_data, :cqN, length(qN), x -> vs(x, Symbol(\"q\", N)) - qN)\n",
    "    add_eq!(sim_data, :cv1, 1, x -> vs(x, :v1)[6])\n",
    "    add_eq!(sim_data, :cvN, 1, x -> vs(x, Symbol(\"v\", N))[4])\n",
    "\n",
    "    add_box_con!(sim_data, :u, :u, zeros(num_velocities(mechanism)), zeros(num_velocities(mechanism)), 1:N-1)\n",
    "    add_box_con!(sim_data, :hbox, :h, 1. * [Δt], 1. * [Δt], 1:N-1)\n",
    "end"
   ]
  },
  {
   "cell_type": "code",
   "execution_count": null,
   "metadata": {
    "scrolled": false
   },
   "outputs": [],
   "source": [
    "sim_data = get_trajopt_data_indirect(mechanism,env,Δt,N,relax_comp=false)\n",
    "add_prob_constraints!(sim_data)\n",
    "traj_indirect = Bilevel.trajopt(sim_data, quaternion_state=true, verbose=1)"
   ]
  },
  {
   "cell_type": "code",
   "execution_count": null,
   "metadata": {
    "scrolled": true
   },
   "outputs": [],
   "source": [
    "sim_data = get_trajopt_data_semidirect(mechanism,env,Δt,N,relax_comp=false)\n",
    "add_prob_constraints!(sim_data)\n",
    "traj_semidirect = Bilevel.trajopt(sim_data, quaternion_state=true, verbose=1)"
   ]
  },
  {
   "cell_type": "code",
   "execution_count": null,
   "metadata": {},
   "outputs": [],
   "source": [
    "j = 5\n",
    "plot(traj_indirect[7],traj_indirect[8][j,:],label=\"Indirect\",seriescolor=RGB(((227,74,51) ./ 255.)...),linewidth=4,marker=6)\n",
    "plot!(traj_semidirect[7],traj_semidirect[8][j,:],label=\"Semidirect\",seriescolor=RGB(((254,232,200) ./ 255.)...),linewidth=0,marker=4)"
   ]
  },
  {
   "cell_type": "markdown",
   "metadata": {},
   "source": [
    "## Little dog"
   ]
  },
  {
   "cell_type": "code",
   "execution_count": 2,
   "metadata": {},
   "outputs": [],
   "source": [
    "urdf = joinpath(\"..\", \"urdf\", \"little_dog\", \"little_dog.urdf\")\n",
    "mechanism = parse_urdf(Float64, urdf)\n",
    "\n",
    "floor = findbody(mechanism, \"floor\")\n",
    "point = Point3D(default_frame(floor), SVector([0.,0.,0.]...))\n",
    "normal = FreeVector3D(default_frame(floor), SVector([0.,0.,1.]...))\n",
    "floor_obs = Obstacle(floor, point, normal, :xyz, 1.)\n",
    "\n",
    "obstacles = [floor_obs]\n",
    "env = Environment(mechanism, urdf, obstacles);"
   ]
  },
  {
   "cell_type": "code",
   "execution_count": 3,
   "metadata": {},
   "outputs": [
    {
     "data": {
      "text/plain": [
       "setup_prob! (generic function with 1 method)"
      ]
     },
     "execution_count": 3,
     "metadata": {},
     "output_type": "execute_result"
    }
   ],
   "source": [
    "q_nom = [1., 0., 0., 0., 0., 0., .175, 0., 0., 0., 0., .036, 0., 0., 0., .00758, 0., .002445, 0.]  \n",
    "q_min = [-1., -1., -1., -1., -.1, -.01, .05, -.6, -.6, -.6, -.6, -3.5, -3.5, -3.5, -3.5, -3.1, -3.1, -3.1, -3.1]\n",
    "q_max = [1., 1., 1., 1., 5., .01, .2, .6, .6, .6, .6, 2.4, 2.4, 2.4, 2.4, 1., 1., 1., 1.]\n",
    "\n",
    "N = 10\n",
    "Δt = .05\n",
    "\n",
    "function add_prob_constraints!(sim_data)\n",
    "    vs = sim_data.vs\n",
    "\n",
    "    add_eq!(sim_data, :cq1, num_positions(mechanism), x -> vs(x, :q1) - q_nom)\n",
    "    add_eq!(sim_data, :cv1, num_velocities(mechanism), x -> vs(x, :v1))\n",
    "end\n",
    "\n",
    "function add_prob_obj!(sim_data)\n",
    "    add_obj!(sim_data, :xf, x -> -sim_data.vs(x, Symbol(\"q\", N))[5])\n",
    "end\n",
    "\n",
    "function get_prob_limits(sim_data)\n",
    "    x_min = -1e19*ones(sim_data.vs.num_vars)\n",
    "    x_max = 1e19*ones(sim_data.vs.num_vars)\n",
    "    \n",
    "    # joint limits\n",
    "    add_box_con_snopt!(x_min, x_max, sim_data, :q, q_min, q_max, 1:N)\n",
    "    add_box_con_snopt!(x_min, x_max, sim_data, :h, [.5 * Δt], [2. * Δt], 1:N-1)\n",
    "    \n",
    "    # torques limits\n",
    "    u_limit = .5\n",
    "    add_box_con_snopt!(x_min, x_max, sim_data, :u, -u_limit * ones(num_velocities(mechanism)), u_limit * ones(num_velocities(mechanism)), 1:N-1)\n",
    "\n",
    "    x_min, x_max\n",
    "end\n",
    "\n",
    "function get_prob_init(sim_data)\n",
    "    x0 = zeros(sim_data.vs.num_vars)\n",
    "    for n = 1:N\n",
    "        x0[sim_data.vs(Symbol(\"q\", n))] .= q_nom\n",
    "    end\n",
    "    \n",
    "    x0\n",
    "end\n",
    "\n",
    "function setup_prob!(sim_data)\n",
    "    add_prob_constraints!(sim_data)\n",
    "    add_prob_obj!(sim_data)\n",
    "    x_min, x_max = get_prob_limits(sim_data)\n",
    "    x0 = get_prob_init(sim_data)\n",
    "    \n",
    "    x0, x_min, x_max\n",
    "end"
   ]
  },
  {
   "cell_type": "code",
   "execution_count": 5,
   "metadata": {},
   "outputs": [
    {
     "name": "stdout",
     "output_type": "stream",
     "text": [
      "Could not open browser automatically: ErrorException(\"failed process: Process(`xdg-open http://127.0.0.1:8701`, ProcessExited(3)) [3]\")\n",
      "Please open the following URL in your browser:\n",
      "http://127.0.0.1:8701\n"
     ]
    },
    {
     "name": "stderr",
     "output_type": "stream",
     "text": [
      "┌ Info: Serving MeshCat visualizer at http://127.0.0.1:8701\n",
      "└ @ MeshCat /home/blandry/.julia/packages/MeshCat/WlA0B/src/servers.jl:24\n",
      "/usr/bin/xdg-open: 778: /usr/bin/xdg-open: www-browser: not found\n",
      "/usr/bin/xdg-open: 778: /usr/bin/xdg-open: links2: not found\n",
      "/usr/bin/xdg-open: 778: /usr/bin/xdg-open: elinks: not found\n",
      "/usr/bin/xdg-open: 778: /usr/bin/xdg-open: links: not found\n",
      "/usr/bin/xdg-open: 778: /usr/bin/xdg-open: lynx: not found\n",
      "/usr/bin/xdg-open: 778: /usr/bin/xdg-open: w3m: not found\n",
      "xdg-open: no method available for opening 'http://127.0.0.1:8701'\n",
      "Error handling websocket connection:\n",
      "\u001b[91mWebSockets.WebSocketClosedError(\"ws|server respond to OPCODE_CLOSE 1001:Going Away\")\u001b[39m\n",
      "Stacktrace:\n",
      " [1] \u001b[1mtry_yieldto\u001b[22m\u001b[1m(\u001b[22m::typeof(Base.ensure_rescheduled), ::Base.RefValue{Task}\u001b[1m)\u001b[22m at \u001b[1m./event.jl:196\u001b[22m\n",
      " [2] \u001b[1mwait\u001b[22m\u001b[1m(\u001b[22m\u001b[1m)\u001b[22m at \u001b[1m./event.jl:255\u001b[22m\n",
      " [3] \u001b[1mwait\u001b[22m\u001b[1m(\u001b[22m::Condition\u001b[1m)\u001b[22m at \u001b[1m./event.jl:46\u001b[22m\n",
      " [4] \u001b[1mwait\u001b[22m\u001b[1m(\u001b[22m::Task\u001b[1m)\u001b[22m at \u001b[1m./task.jl:188\u001b[22m\n",
      " [5] \u001b[1mcreate_socket\u001b[22m\u001b[1m(\u001b[22m::Dict{Any,Any}\u001b[1m)\u001b[22m at \u001b[1m/home/blandry/.julia/packages/WebIO/Rk8wc/src/providers/mux.jl:44\u001b[22m\n",
      " [6] \u001b[1m(::getfield(Mux, Symbol(\"##5#6\")){getfield(Mux, Symbol(\"##28#29\")){Array{SubString{String},1}},typeof(WebIO.create_socket)})\u001b[22m\u001b[1m(\u001b[22m::Function, ::Dict{Any,Any}\u001b[1m)\u001b[22m at \u001b[1m/home/blandry/.julia/packages/Mux/FeATY/src/Mux.jl:17\u001b[22m\n",
      " [7] \u001b[1m#1\u001b[22m at \u001b[1m/home/blandry/.julia/packages/Mux/FeATY/src/Mux.jl:10\u001b[22m [inlined]\n",
      " [8] \u001b[1msplitquery\u001b[22m\u001b[1m(\u001b[22m::getfield(Mux, Symbol(\"##1#2\")){getfield(Mux, Symbol(\"##5#6\")){getfield(Mux, Symbol(\"##28#29\")){Array{SubString{String},1}},typeof(WebIO.create_socket)},getfield(Mux, Symbol(\"##1#2\")){typeof(Mux.wclose),getfield(Mux, Symbol(\"##1#2\")){getfield(Mux, Symbol(\"##18#19\")){getfield(Mux, Symbol(\"##22#23\")){Symbol,Int64}},getfield(Mux, Symbol(\"##20#21\")){String}}}}, ::Dict{Any,Any}\u001b[1m)\u001b[22m at \u001b[1m/home/blandry/.julia/packages/Mux/FeATY/src/basics.jl:34\u001b[22m\n",
      " [9] \u001b[1m#1\u001b[22m at \u001b[1m/home/blandry/.julia/packages/Mux/FeATY/src/Mux.jl:10\u001b[22m [inlined]\n",
      " [10] \u001b[1mwcatch\u001b[22m\u001b[1m(\u001b[22m::getfield(Mux, Symbol(\"##1#2\")){typeof(Mux.splitquery),getfield(Mux, Symbol(\"##1#2\")){getfield(Mux, Symbol(\"##5#6\")){getfield(Mux, Symbol(\"##28#29\")){Array{SubString{String},1}},typeof(WebIO.create_socket)},getfield(Mux, Symbol(\"##1#2\")){typeof(Mux.wclose),getfield(Mux, Symbol(\"##1#2\")){getfield(Mux, Symbol(\"##18#19\")){getfield(Mux, Symbol(\"##22#23\")){Symbol,Int64}},getfield(Mux, Symbol(\"##20#21\")){String}}}}}, ::Dict{Any,Any}\u001b[1m)\u001b[22m at \u001b[1m/home/blandry/.julia/packages/Mux/FeATY/src/websockets_integration.jl:12\u001b[22m\n",
      " [11] \u001b[1m#1\u001b[22m at \u001b[1m/home/blandry/.julia/packages/Mux/FeATY/src/Mux.jl:10\u001b[22m [inlined]\n",
      " [12] \u001b[1mtodict\u001b[22m at \u001b[1m/home/blandry/.julia/packages/Mux/FeATY/src/basics.jl:25\u001b[22m [inlined]\n",
      " [13] \u001b[1m#3\u001b[22m at \u001b[1m/home/blandry/.julia/packages/Mux/FeATY/src/Mux.jl:14\u001b[22m [inlined] (repeats 2 times)\n",
      " [14] \u001b[1m(::getfield(Mux, Symbol(\"##1#2\")){getfield(Mux, Symbol(\"##3#4\")){getfield(Mux, Symbol(\"##3#4\")){typeof(Mux.todict),typeof(Mux.wcatch)},typeof(Mux.splitquery)},getfield(Mux, Symbol(\"##1#2\")){getfield(Mux, Symbol(\"##5#6\")){getfield(Mux, Symbol(\"##28#29\")){Array{SubString{String},1}},typeof(WebIO.create_socket)},getfield(Mux, Symbol(\"##1#2\")){typeof(Mux.wclose),getfield(Mux, Symbol(\"##1#2\")){getfield(Mux, Symbol(\"##18#19\")){getfield(Mux, Symbol(\"##22#23\")){Symbol,Int64}},getfield(Mux, Symbol(\"##20#21\")){String}}}}})\u001b[22m\u001b[1m(\u001b[22m::Tuple{HTTP.Messages.Request,WebSockets.WebSocket{Sockets.TCPSocket}}\u001b[1m)\u001b[22m at \u001b[1m/home/blandry/.julia/packages/Mux/FeATY/src/Mux.jl:10\u001b[22m\n",
      " [15] \u001b[1m(::getfield(Mux, Symbol(\"##9#10\")){Mux.App})\u001b[22m\u001b[1m(\u001b[22m::HTTP.Messages.Request, ::WebSockets.WebSocket{Sockets.TCPSocket}\u001b[1m)\u001b[22m at \u001b[1m/home/blandry/.julia/packages/Mux/FeATY/src/server.jl:49\u001b[22m\n",
      " [16] \u001b[1mupgrade\u001b[22m\u001b[1m(\u001b[22m::getfield(Mux, Symbol(\"##9#10\")){Mux.App}, ::HTTP.Streams.Stream{HTTP.Messages.Request,HTTP.ConnectionPool.Transaction{Sockets.TCPSocket}}\u001b[1m)\u001b[22m at \u001b[1m/home/blandry/.julia/packages/WebSockets/pc4iW/src/HTTP.jl:201\u001b[22m\n",
      " [17] \u001b[1m(::getfield(WebSockets, Symbol(\"#_servercoroutine#11\")){WebSockets.ServerWS})\u001b[22m\u001b[1m(\u001b[22m::HTTP.Streams.Stream{HTTP.Messages.Request,HTTP.ConnectionPool.Transaction{Sockets.TCPSocket}}\u001b[1m)\u001b[22m at \u001b[1m/home/blandry/.julia/packages/WebSockets/pc4iW/src/HTTP.jl:370\u001b[22m\n",
      " [18] \u001b[1mmacro expansion\u001b[22m at \u001b[1m/home/blandry/.julia/packages/HTTP/GN0Te/src/Servers.jl:352\u001b[22m [inlined]\n",
      " [19] \u001b[1m(::getfield(HTTP.Servers, Symbol(\"##13#14\")){getfield(WebSockets, Symbol(\"#_servercoroutine#11\")){WebSockets.ServerWS},HTTP.ConnectionPool.Transaction{Sockets.TCPSocket},HTTP.Streams.Stream{HTTP.Messages.Request,HTTP.ConnectionPool.Transaction{Sockets.TCPSocket}}})\u001b[22m\u001b[1m(\u001b[22m\u001b[1m)\u001b[22m at \u001b[1m./task.jl:259\u001b[22m"
     ]
    }
   ],
   "source": [
    "mvis = MechanismVisualizer(mechanism, URDFVisuals(urdf));\n",
    "open(mvis)"
   ]
  },
  {
   "cell_type": "code",
   "execution_count": 7,
   "metadata": {},
   "outputs": [
    {
     "name": "stdout",
     "output_type": "stream",
     "text": [
      "Resource limit error: iteration limit reached\n"
     ]
    }
   ],
   "source": [
    "sim_data = get_trajopt_data_indirect(mechanism,env,Δt,N,relax_comp=false)\n",
    "x0, x_min, x_max = setup_prob!(sim_data)\n",
    "traj_indirect = Bilevel.trajopt(sim_data, x0=x0, x_min=x_min, x_max=x_max, verbose=1, opt_tol=1e-3, major_feas=1e-3, minor_feas=1e-3);"
   ]
  },
  {
   "cell_type": "code",
   "execution_count": 8,
   "metadata": {},
   "outputs": [],
   "source": [
    "setanimation!(mvis, traj_indirect[7], traj_indirect[1])"
   ]
  },
  {
   "cell_type": "code",
   "execution_count": 9,
   "metadata": {},
   "outputs": [
    {
     "name": "stderr",
     "output_type": "stream",
     "text": [
      "\n",
      "Error thrown in threaded loop on thread 0: InterruptException()"
     ]
    },
    {
     "ename": "InterruptException",
     "evalue": "InterruptException:",
     "output_type": "error",
     "traceback": [
      "InterruptException:",
      "",
      "Stacktrace:",
      " [1] macro expansion at ./threadingconstructs.jl:75 [inlined]",
      " [2] (::getfield(Bilevel, Symbol(\"#eval_cons#75\")){SimData,Int64,Bilevel.VariableSelector,Bilevel.ConstraintSelector,Int64,Int64,Bool})(::Array{ForwardDiff.Dual{ForwardDiff.Tag{getfield(Bilevel, Symbol(\"#eval_cons#75\")){SimData,Int64,Bilevel.VariableSelector,Bilevel.ConstraintSelector,Int64,Int64,Bool},Float64},Float64,12},1}) at /home/blandry/.julia/dev/Bilevel/src/trajopt_semidirect.jl:158",
      " [3] chunk_mode_jacobian!(::DiffResults.MutableDiffResult{1,Array{Float64,1},Tuple{Array{Float64,2}}}, ::getfield(Bilevel, Symbol(\"#eval_cons#75\")){SimData,Int64,Bilevel.VariableSelector,Bilevel.ConstraintSelector,Int64,Int64,Bool}, ::Array{Float64,1}, ::ForwardDiff.JacobianConfig{ForwardDiff.Tag{getfield(Bilevel, Symbol(\"#eval_cons#75\")){SimData,Int64,Bilevel.VariableSelector,Bilevel.ConstraintSelector,Int64,Int64,Bool},Float64},Float64,12,Array{ForwardDiff.Dual{ForwardDiff.Tag{getfield(Bilevel, Symbol(\"#eval_cons#75\")){SimData,Int64,Bilevel.VariableSelector,Bilevel.ConstraintSelector,Int64,Int64,Bool},Float64},Float64,12},1}}) at /home/blandry/.julia/packages/ForwardDiff/N0wMF/src/jacobian.jl:223",
      " [4] jacobian! at /home/blandry/.julia/packages/ForwardDiff/N0wMF/src/jacobian.jl:56 [inlined]",
      " [5] jacobian! at /home/blandry/.julia/packages/ForwardDiff/N0wMF/src/jacobian.jl:52 [inlined]",
      " [6] (::getfield(Bilevel, Symbol(\"#solver_fn#85\")){getfield(Bilevel, Symbol(\"#eval_obj#74\")){SimData,Int64,Bilevel.VariableSelector,Int64,Bool},DiffResults.MutableDiffResult{2,Float64,Tuple{Array{Float64,1},Array{Float64,2}}},ForwardDiff.HessianConfig{ForwardDiff.Tag{getfield(Bilevel, Symbol(\"#eval_obj#74\")){SimData,Int64,Bilevel.VariableSelector,Int64,Bool},Float64},Float64,12,Array{ForwardDiff.Dual{ForwardDiff.Tag{getfield(Bilevel, Symbol(\"#eval_obj#74\")){SimData,Int64,Bilevel.VariableSelector,Int64,Bool},Float64},ForwardDiff.Dual{ForwardDiff.Tag{getfield(Bilevel, Symbol(\"#eval_obj#74\")){SimData,Int64,Bilevel.VariableSelector,Int64,Bool},Float64},Float64,12},12},1},Tuple{Array{ForwardDiff.Dual{ForwardDiff.Tag{getfield(Bilevel, Symbol(\"#eval_obj#74\")){SimData,Int64,Bilevel.VariableSelector,Int64,Bool},Float64},Float64,12},1},Array{ForwardDiff.Dual{ForwardDiff.Tag{getfield(Bilevel, Symbol(\"#eval_obj#74\")){SimData,Int64,Bilevel.VariableSelector,Int64,Bool},Float64},Float64,12},1}}},getfield(Bilevel, Symbol(\"#eval_cons#75\")){SimData,Int64,Bilevel.VariableSelector,Bilevel.ConstraintSelector,Int64,Int64,Bool},DiffResults.MutableDiffResult{1,Array{Float64,1},Tuple{Array{Float64,2}}},ForwardDiff.JacobianConfig{ForwardDiff.Tag{getfield(Bilevel, Symbol(\"#eval_cons#75\")){SimData,Int64,Bilevel.VariableSelector,Bilevel.ConstraintSelector,Int64,Int64,Bool},Float64},Float64,12,Array{ForwardDiff.Dual{ForwardDiff.Tag{getfield(Bilevel, Symbol(\"#eval_cons#75\")){SimData,Int64,Bilevel.VariableSelector,Bilevel.ConstraintSelector,Int64,Int64,Bool},Float64},Float64,12},1}},Array{Int64,1},Array{Int64,1}})(::Array{Float64,1}) at /home/blandry/.julia/dev/Bilevel/src/solvers/autodiff.jl:28",
      " [7] objcon_wrapper(::Ptr{Int64}, ::Int64, ::Ptr{Float64}, ::Int64, ::Int64, ::Ptr{Float64}, ::Int64, ::Int64, ::Ptr{Float64}, ::Ptr{Int8}, ::Int64, ::Ptr{Int64}, ::Int64, ::Ptr{Float64}, ::Int64) at /home/blandry/.julia/dev/Bilevel/src/solvers/snopt.jl:104",
      " [8] #snopt#77(::Array{Float64,1}, ::Array{Float64,1}, ::String, ::String, ::Nothing, ::Function, ::Function, ::Int64, ::Int64, ::Array{Float64,1}, ::Dict{String,Any}) at /home/blandry/.julia/dev/Bilevel/src/solvers/snopt.jl:350",
      " [9] (::getfield(Bilevel, Symbol(\"#kw##snopt\")))(::NamedTuple{(:x_min, :x_max, :callback_fn),Tuple{Array{Float64,1},Array{Float64,1},Nothing}}, ::typeof(Bilevel.snopt), ::Function, ::Int64, ::Int64, ::Array{Float64,1}, ::Dict{String,Any}) at none:0",
      " [10] #trajopt#52(::Array{Float64,1}, ::Bool, ::Array{Float64,1}, ::Array{Float64,1}, ::Float64, ::Float64, ::Float64, ::Int64, ::Nothing, ::typeof(trajopt), ::SimData) at /home/blandry/.julia/dev/Bilevel/src/trajopt.jl:46",
      " [11] (::getfield(Bilevel, Symbol(\"#kw##trajopt\")))(::NamedTuple{(:x0, :x_min, :x_max, :verbose, :opt_tol, :major_feas, :minor_feas),Tuple{Array{Float64,1},Array{Float64,1},Array{Float64,1},Int64,Float64,Float64,Float64}}, ::typeof(trajopt), ::SimData) at none:0",
      " [12] top-level scope at In[9]:3"
     ]
    },
    {
     "name": "stderr",
     "output_type": "stream",
     "text": [
      "Error handling websocket connection:\n",
      "\u001b[91mWebSockets.WebSocketClosedError(\"ws|server respond to OPCODE_CLOSE 1001:Going Away\")\u001b[39m\n",
      "Stacktrace:\n",
      " [1] \u001b[1mtry_yieldto\u001b[22m\u001b[1m(\u001b[22m::typeof(Base.ensure_rescheduled), ::Base.RefValue{Task}\u001b[1m)\u001b[22m at \u001b[1m./event.jl:196\u001b[22m\n",
      " [2] \u001b[1mwait\u001b[22m\u001b[1m(\u001b[22m\u001b[1m)\u001b[22m at \u001b[1m./event.jl:255\u001b[22m\n",
      " [3] \u001b[1mwait\u001b[22m\u001b[1m(\u001b[22m::Condition\u001b[1m)\u001b[22m at \u001b[1m./event.jl:46\u001b[22m\n",
      " [4] \u001b[1mwait\u001b[22m\u001b[1m(\u001b[22m::Task\u001b[1m)\u001b[22m at \u001b[1m./task.jl:188\u001b[22m\n",
      " [5] \u001b[1mcreate_socket\u001b[22m\u001b[1m(\u001b[22m::Dict{Any,Any}\u001b[1m)\u001b[22m at \u001b[1m/home/blandry/.julia/packages/WebIO/Rk8wc/src/providers/mux.jl:44\u001b[22m\n",
      " [6] \u001b[1m(::getfield(Mux, Symbol(\"##5#6\")){getfield(Mux, Symbol(\"##28#29\")){Array{SubString{String},1}},typeof(WebIO.create_socket)})\u001b[22m\u001b[1m(\u001b[22m::Function, ::Dict{Any,Any}\u001b[1m)\u001b[22m at \u001b[1m/home/blandry/.julia/packages/Mux/FeATY/src/Mux.jl:17\u001b[22m\n",
      " [7] \u001b[1m#1\u001b[22m at \u001b[1m/home/blandry/.julia/packages/Mux/FeATY/src/Mux.jl:10\u001b[22m [inlined]\n",
      " [8] \u001b[1msplitquery\u001b[22m\u001b[1m(\u001b[22m::getfield(Mux, Symbol(\"##1#2\")){getfield(Mux, Symbol(\"##5#6\")){getfield(Mux, Symbol(\"##28#29\")){Array{SubString{String},1}},typeof(WebIO.create_socket)},getfield(Mux, Symbol(\"##1#2\")){typeof(Mux.wclose),getfield(Mux, Symbol(\"##1#2\")){getfield(Mux, Symbol(\"##18#19\")){getfield(Mux, Symbol(\"##22#23\")){Symbol,Int64}},getfield(Mux, Symbol(\"##20#21\")){String}}}}, ::Dict{Any,Any}\u001b[1m)\u001b[22m at \u001b[1m/home/blandry/.julia/packages/Mux/FeATY/src/basics.jl:34\u001b[22m\n",
      " [9] \u001b[1m#1\u001b[22m at \u001b[1m/home/blandry/.julia/packages/Mux/FeATY/src/Mux.jl:10\u001b[22m [inlined]\n",
      " [10] \u001b[1mwcatch\u001b[22m\u001b[1m(\u001b[22m::getfield(Mux, Symbol(\"##1#2\")){typeof(Mux.splitquery),getfield(Mux, Symbol(\"##1#2\")){getfield(Mux, Symbol(\"##5#6\")){getfield(Mux, Symbol(\"##28#29\")){Array{SubString{String},1}},typeof(WebIO.create_socket)},getfield(Mux, Symbol(\"##1#2\")){typeof(Mux.wclose),getfield(Mux, Symbol(\"##1#2\")){getfield(Mux, Symbol(\"##18#19\")){getfield(Mux, Symbol(\"##22#23\")){Symbol,Int64}},getfield(Mux, Symbol(\"##20#21\")){String}}}}}, ::Dict{Any,Any}\u001b[1m)\u001b[22m at \u001b[1m/home/blandry/.julia/packages/Mux/FeATY/src/websockets_integration.jl:12\u001b[22m\n",
      " [11] \u001b[1m#1\u001b[22m at \u001b[1m/home/blandry/.julia/packages/Mux/FeATY/src/Mux.jl:10\u001b[22m [inlined]\n",
      " [12] \u001b[1mtodict\u001b[22m at \u001b[1m/home/blandry/.julia/packages/Mux/FeATY/src/basics.jl:25\u001b[22m [inlined]\n",
      " [13] \u001b[1m#3\u001b[22m at \u001b[1m/home/blandry/.julia/packages/Mux/FeATY/src/Mux.jl:14\u001b[22m [inlined] (repeats 2 times)\n",
      " [14] \u001b[1m(::getfield(Mux, Symbol(\"##1#2\")){getfield(Mux, Symbol(\"##3#4\")){getfield(Mux, Symbol(\"##3#4\")){typeof(Mux.todict),typeof(Mux.wcatch)},typeof(Mux.splitquery)},getfield(Mux, Symbol(\"##1#2\")){getfield(Mux, Symbol(\"##5#6\")){getfield(Mux, Symbol(\"##28#29\")){Array{SubString{String},1}},typeof(WebIO.create_socket)},getfield(Mux, Symbol(\"##1#2\")){typeof(Mux.wclose),getfield(Mux, Symbol(\"##1#2\")){getfield(Mux, Symbol(\"##18#19\")){getfield(Mux, Symbol(\"##22#23\")){Symbol,Int64}},getfield(Mux, Symbol(\"##20#21\")){String}}}}})\u001b[22m\u001b[1m(\u001b[22m::Tuple{HTTP.Messages.Request,WebSockets.WebSocket{Sockets.TCPSocket}}\u001b[1m)\u001b[22m at \u001b[1m/home/blandry/.julia/packages/Mux/FeATY/src/Mux.jl:10\u001b[22m\n",
      " [15] \u001b[1m(::getfield(Mux, Symbol(\"##9#10\")){Mux.App})\u001b[22m\u001b[1m(\u001b[22m::HTTP.Messages.Request, ::WebSockets.WebSocket{Sockets.TCPSocket}\u001b[1m)\u001b[22m at \u001b[1m/home/blandry/.julia/packages/Mux/FeATY/src/server.jl:49\u001b[22m\n",
      " [16] \u001b[1mupgrade\u001b[22m\u001b[1m(\u001b[22m::getfield(Mux, Symbol(\"##9#10\")){Mux.App}, ::HTTP.Streams.Stream{HTTP.Messages.Request,HTTP.ConnectionPool.Transaction{Sockets.TCPSocket}}\u001b[1m)\u001b[22m at \u001b[1m/home/blandry/.julia/packages/WebSockets/pc4iW/src/HTTP.jl:201\u001b[22m\n",
      " [17] \u001b[1m(::getfield(WebSockets, Symbol(\"#_servercoroutine#11\")){WebSockets.ServerWS})\u001b[22m\u001b[1m(\u001b[22m::HTTP.Streams.Stream{HTTP.Messages.Request,HTTP.ConnectionPool.Transaction{Sockets.TCPSocket}}\u001b[1m)\u001b[22m at \u001b[1m/home/blandry/.julia/packages/WebSockets/pc4iW/src/HTTP.jl:370\u001b[22m\n",
      " [18] \u001b[1mmacro expansion\u001b[22m at \u001b[1m/home/blandry/.julia/packages/HTTP/GN0Te/src/Servers.jl:352\u001b[22m [inlined]\n",
      " [19] \u001b[1m(::getfield(HTTP.Servers, Symbol(\"##13#14\")){getfield(WebSockets, Symbol(\"#_servercoroutine#11\")){WebSockets.ServerWS},HTTP.ConnectionPool.Transaction{Sockets.TCPSocket},HTTP.Streams.Stream{HTTP.Messages.Request,HTTP.ConnectionPool.Transaction{Sockets.TCPSocket}}})\u001b[22m\u001b[1m(\u001b[22m\u001b[1m)\u001b[22m at \u001b[1m./task.jl:259\u001b[22m"
     ]
    }
   ],
   "source": [
    "sim_data = get_trajopt_data_semidirect(mechanism,env,Δt,N,relax_comp=false)\n",
    "x0, x_min, x_max = setup_prob!(sim_data)\n",
    "traj_semidirect = Bilevel.trajopt(sim_data, x0=x0, x_min=x_min, x_max=x_max, verbose=1, opt_tol=1e-3, major_feas=1e-3, minor_feas=1e-3);"
   ]
  },
  {
   "cell_type": "code",
   "execution_count": null,
   "metadata": {},
   "outputs": [],
   "source": [
    "setanimation!(mvis, traj_semidirect[7], traj_semidirect[1])"
   ]
  },
  {
   "cell_type": "code",
   "execution_count": null,
   "metadata": {},
   "outputs": [],
   "source": [
    "traj_semidirect[1]"
   ]
  },
  {
   "cell_type": "markdown",
   "metadata": {},
   "source": [
    "## Panda arm"
   ]
  },
  {
   "cell_type": "code",
   "execution_count": null,
   "metadata": {},
   "outputs": [],
   "source": []
  }
 ],
 "metadata": {
  "kernelspec": {
   "display_name": "Julia 1.1.0",
   "language": "julia",
   "name": "julia-1.1"
  },
  "language_info": {
   "file_extension": ".jl",
   "mimetype": "application/julia",
   "name": "julia",
   "version": "1.1.0"
  }
 },
 "nbformat": 4,
 "nbformat_minor": 2
}
