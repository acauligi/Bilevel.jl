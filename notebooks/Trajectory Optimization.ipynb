{
 "cells": [
  {
   "cell_type": "code",
   "execution_count": 1,
   "metadata": {},
   "outputs": [
    {
     "name": "stderr",
     "output_type": "stream",
     "text": [
      "┌ Info: Precompiling Bilevel [9688c538-179f-11e9-3174-495cea6b7f67]\n",
      "└ @ Base loading.jl:1186\n"
     ]
    },
    {
     "data": {
      "text/html": [
       "    <script class='js-collapse-script'>\n",
       "        var curMatch =\n",
       "            window.location.href\n",
       "            .match(/(.*?)\\/notebooks\\/.*\\.ipynb/);\n",
       "\n",
       "        curMatch = curMatch ||\n",
       "            window.location.href\n",
       "            .match(/(.*?)\\/apps\\/.*\\.ipynb/);\n",
       "\n",
       "        if ( curMatch ) {\n",
       "            $('head').append('<base href=\"' + curMatch[1] + '/\">');\n",
       "        }\n",
       "    </script>\n"
      ],
      "text/plain": [
       "HTML{String}(\"    <script class='js-collapse-script'>\\n        var curMatch =\\n            window.location.href\\n            .match(/(.*?)\\\\/notebooks\\\\/.*\\\\.ipynb/);\\n\\n        curMatch = curMatch ||\\n            window.location.href\\n            .match(/(.*?)\\\\/apps\\\\/.*\\\\.ipynb/);\\n\\n        if ( curMatch ) {\\n            \\$('head').append('<base href=\\\"' + curMatch[1] + '/\\\">');\\n        }\\n    </script>\\n\")"
      ]
     },
     "metadata": {},
     "output_type": "display_data"
    },
    {
     "data": {
      "text/html": [
       "<script class='js-collapse-script' src='/assetserver/ac453cbe1838fe7a6d3794b312bfa72db072de98-assets/webio/dist/bundle.js'></script>"
      ],
      "text/plain": [
       "HTML{String}(\"<script class='js-collapse-script' src='/assetserver/ac453cbe1838fe7a6d3794b312bfa72db072de98-assets/webio/dist/bundle.js'></script>\")"
      ]
     },
     "metadata": {},
     "output_type": "display_data"
    },
    {
     "data": {
      "text/html": [
       "<script class='js-collapse-script' src='/assetserver/ac453cbe1838fe7a6d3794b312bfa72db072de98-assets/providers/ijulia_setup.js'></script>"
      ],
      "text/plain": [
       "HTML{String}(\"<script class='js-collapse-script' src='/assetserver/ac453cbe1838fe7a6d3794b312bfa72db072de98-assets/providers/ijulia_setup.js'></script>\")"
      ]
     },
     "metadata": {},
     "output_type": "display_data"
    },
    {
     "data": {
      "text/html": [
       "  <script class='js-collapse-script'>\n",
       "    $('.js-collapse-script').parent('.output_subarea').css('padding', '0');\n",
       "  </script>\n"
      ],
      "text/plain": [
       "HTML{String}(\"  <script class='js-collapse-script'>\\n    \\$('.js-collapse-script').parent('.output_subarea').css('padding', '0');\\n  </script>\\n\")"
      ]
     },
     "metadata": {},
     "output_type": "display_data"
    },
    {
     "name": "stderr",
     "output_type": "stream",
     "text": [
      "┌ Error: evaluation error\n",
      "│   mod = Bilevel\n",
      "│   ex = const usrfun = #= /Users/blandry/.julia/dev/Bilevel/src/solvers/snopt.jl:154 =# @cfunction(objcon_wrapper, Cvoid, (Ptr{Clong}, Ref{Clong}, Ptr{Cdouble}, Ref{Clong}, Ref{Clong}, Ptr{Cdouble}, Ref{Clong}, Ref{Clong}, Ptr{Cdouble}, Ptr{Cchar}, Ref{Clong}, Ptr{Clong}, Ref{Clong}, Ptr{Cdouble}, Ref{Clong}))\n",
      "│   exception = (ErrorException(\"invalid lookup expr (\\$(QuoteNode(Core.svec)))(JuliaInterpreter.SSAValue(2), JuliaInterpreter.SSAValue(3), JuliaInterpreter.SSAValue(4), JuliaInterpreter.SSAValue(5), JuliaInterpreter.SSAValue(6), JuliaInterpreter.SSAValue(7), JuliaInterpreter.SSAValue(8), JuliaInterpreter.SSAValue(9), JuliaInterpreter.SSAValue(10), JuliaInterpreter.SSAValue(11), JuliaInterpreter.SSAValue(12), JuliaInterpreter.SSAValue(13), JuliaInterpreter.SSAValue(14), JuliaInterpreter.SSAValue(15), JuliaInterpreter.SSAValue(16))\"), Union{Ptr{Nothing}, InterpreterIP}[Ptr{Nothing} @0x0000000100184572, Ptr{Nothing} @0x000000010015b71d, Ptr{Nothing} @0x00000001137f4c38, Ptr{Nothing} @0x00000001137ff8af, Ptr{Nothing} @0x0000000119632eaa, Ptr{Nothing} @0x0000000119633444, Ptr{Nothing} @0x00000001137ffece, Ptr{Nothing} @0x000000011380141a, Ptr{Nothing} @0x0000000113805235, Ptr{Nothing} @0x00000001137fe79e, Ptr{Nothing} @0x00000001137ff2e4, Ptr{Nothing} @0x00000001137f0c0d, Ptr{Nothing} @0x00000001137ee187, Ptr{Nothing} @0x00000001137ee1e4, Ptr{Nothing} @0x00000001137ed403, Ptr{Nothing} @0x00000001137ed9ff, Ptr{Nothing} @0x00000001137e3084, Ptr{Nothing} @0x00000001137e3a25, Ptr{Nothing} @0x00000001137e5588, Ptr{Nothing} @0x00000001137e1f11, Ptr{Nothing} @0x000000010015be87])\n",
      "└ @ Revise /Users/blandry/.julia/packages/Revise/UtBAC/src/lowered.jl:52\n"
     ]
    }
   ],
   "source": [
    "using Revise\n",
    "using Bilevel\n",
    "\n",
    "using RigidBodyDynamics\n",
    "using MeshCatMechanisms\n",
    "using MeshCat\n",
    "using Plots\n",
    "using LinearAlgebra\n",
    "using StaticArrays\n",
    "\n",
    "gr(size=(800,500),html_output_format=:png,\n",
    "    seriescolor=:magma,background_color_legend=:white,\n",
    "    background=RGB(((240,240,240) ./ 255.)...));"
   ]
  },
  {
   "cell_type": "markdown",
   "metadata": {},
   "source": [
    "# Contact"
   ]
  },
  {
   "cell_type": "markdown",
   "metadata": {},
   "source": [
    "## Single point with contact"
   ]
  },
  {
   "cell_type": "code",
   "execution_count": 2,
   "metadata": {},
   "outputs": [
    {
     "data": {
      "text/plain": [
       "Environment(Contact[Contact(Spanning tree:\n",
       "Vertex: world (root)\n",
       "  Vertex: floor, Edge: floor_to_world\n",
       "    Vertex: ball, Edge: floor_to_ball\n",
       "No non-tree joints., ball, Point3D in \"after_floor_to_ball\": [0.0, 0.0, 0.0], Obstacle(floor, Point3D in \"after_floor_to_world\": [0.0, 0.0, 0.0], FreeVector3D in \"after_floor_to_world\": [0.0, 0.0, 1.0], [1.0 6.12323e-17 -1.0 -1.83697e-16; 0.0 1.0 1.22465e-16 -1.0; 0.0 0.0 0.0 0.0], 1.0, false))])"
      ]
     },
     "execution_count": 2,
     "metadata": {},
     "output_type": "execute_result"
    }
   ],
   "source": [
    "urdf = joinpath(\"..\", \"urdf\", \"ball.urdf\")\n",
    "mechanism = parse_urdf(Float64, urdf)\n",
    "\n",
    "floor = findbody(mechanism, \"floor\")\n",
    "point = Point3D(default_frame(floor), SVector([0.,0.,0.]...))\n",
    "normal = FreeVector3D(default_frame(floor), SVector([0.,0.,1.]...))\n",
    "floor_obs = Obstacle(floor, point, normal, :xyz, 1.)\n",
    "\n",
    "obstacles = [floor_obs]\n",
    "env = Environment(mechanism, urdf, obstacles)"
   ]
  },
  {
   "cell_type": "code",
   "execution_count": 3,
   "metadata": {},
   "outputs": [
    {
     "data": {
      "text/plain": [
       "add_prob_constraints! (generic function with 1 method)"
      ]
     },
     "execution_count": 3,
     "metadata": {},
     "output_type": "execute_result"
    }
   ],
   "source": [
    "q1 = [1., 0., 0., 0., 0., 0., 0.]\n",
    "qN = [1., 0., 0., 0., .004, 0., 0.]\n",
    "N = 10\n",
    "Δt = .005\n",
    "\n",
    "q_min = [1., 0., 0., 0., -1., -1., -1.]\n",
    "q_max = [1., 0., 0., 0., 1., 1., 1.]\n",
    "\n",
    "function get_prob_limits(sim_data)\n",
    "    x_min = -1e19*ones(sim_data.vs.num_vars)\n",
    "    x_max = 1e19*ones(sim_data.vs.num_vars)\n",
    "    \n",
    "    # joint limits\n",
    "    add_box_con_snopt!(x_min, x_max, sim_data, :q, q_min, q_max, 1:N)\n",
    "    add_box_con_snopt!(x_min, x_max, sim_data, :h, [Δt], [Δt], 1:N-1)\n",
    "    \n",
    "    # torques limits\n",
    "    add_box_con_snopt!(x_min, x_max, sim_data, :u, zeros(num_velocities(mechanism)), zeros(num_velocities(mechanism)), 1:N-1)\n",
    "\n",
    "    x_min, x_max\n",
    "end\n",
    "\n",
    "function add_prob_constraints!(sim_data)\n",
    "    vs = sim_data.vs\n",
    "\n",
    "    add_eq!(sim_data, :cq1, length(q1), x -> vs(x, :q1) - q1)\n",
    "    add_eq!(sim_data, :cqN, length(qN), x -> vs(x, Symbol(\"q\", N)) - qN)\n",
    "    add_eq!(sim_data, :cv1, 1, x -> vs(x, :v1)[6])\n",
    "    add_eq!(sim_data, :cvN, 1, x -> vs(x, Symbol(\"v\", N))[4])\n",
    "end"
   ]
  },
  {
   "cell_type": "code",
   "execution_count": null,
   "metadata": {
    "scrolled": false
   },
   "outputs": [],
   "source": [
    "sim_data = get_trajopt_data_indirect(mechanism,env,Δt,N,relax_comp=false)\n",
    "add_prob_constraints!(sim_data)\n",
    "x_min, x_max = get_prob_limits(sim_data)\n",
    "traj_indirect = Bilevel.trajopt(sim_data, x_min=x_min, x_max=x_max, quaternion_state=true, verbose=1)"
   ]
  },
  {
   "cell_type": "code",
   "execution_count": 6,
   "metadata": {
    "scrolled": true
   },
   "outputs": [
    {
     "ename": "UndefVarError",
     "evalue": "UndefVarError: Av not defined",
     "output_type": "error",
     "traceback": [
      "UndefVarError: Av not defined",
      "",
      "Stacktrace:",
      " [1] auglag(::getfield(Bilevel, Symbol(\"#solver_fn#85\")){getfield(Bilevel, Symbol(\"#eval_obj_#27\")){Array{ForwardDiff.Dual{ForwardDiff.Tag{getfield(Bilevel, Symbol(\"#eval_cons#75\")){SimData,Int64,Bilevel.VariableSelector,Bilevel.ConstraintSelector,Int64,Int64,Bool},Float64},Float64,12},1},Int64,Int64,Bilevel.VariableSelector,Bilevel.VariableSelector,Array{Any,1},Array{Any,1}},DiffResults.MutableDiffResult{2,ForwardDiff.Dual{ForwardDiff.Tag{getfield(Bilevel, Symbol(\"#eval_cons#75\")){SimData,Int64,Bilevel.VariableSelector,Bilevel.ConstraintSelector,Int64,Int64,Bool},Float64},Float64,12},Tuple{Array{ForwardDiff.Dual{ForwardDiff.Tag{getfield(Bilevel, Symbol(\"#eval_cons#75\")){SimData,Int64,Bilevel.VariableSelector,Bilevel.ConstraintSelector,Int64,Int64,Bool},Float64},Float64,12},1},Array{ForwardDiff.Dual{ForwardDiff.Tag{getfield(Bilevel, Symbol(\"#eval_cons#75\")){SimData,Int64,Bilevel.VariableSelector,Bilevel.ConstraintSelector,Int64,Int64,Bool},Float64},Float64,12},2}}},getfield(Bilevel, Symbol(\"#eval_cons_#28\")){Array{ForwardDiff.Dual{ForwardDiff.Tag{getfield(Bilevel, Symbol(\"#eval_cons#75\")){SimData,Int64,Bilevel.VariableSelector,Bilevel.ConstraintSelector,Int64,Int64,Bool},Float64},Float64,12},1},Int64,Int64,Environment,Bilevel.VariableSelector,Bilevel.VariableSelector},DiffResults.MutableDiffResult{1,Array{ForwardDiff.Dual{ForwardDiff.Tag{getfield(Bilevel, Symbol(\"#eval_cons#75\")){SimData,Int64,Bilevel.VariableSelector,Bilevel.ConstraintSelector,Int64,Int64,Bool},Float64},Float64,12},1},Tuple{Array{ForwardDiff.Dual{ForwardDiff.Tag{getfield(Bilevel, Symbol(\"#eval_cons#75\")){SimData,Int64,Bilevel.VariableSelector,Bilevel.ConstraintSelector,Int64,Int64,Bool},Float64},Float64,12},2}}},Array{Int64,1},Array{Int64,1}}, ::Int64, ::Int64, ::Array{Float64,1}, ::Dict{String,Any}) at /Users/blandry/.julia/dev/Bilevel/src/solvers/auglag.jl:83",
      " [2] contact_friction_τ_direct!(::Array{ForwardDiff.Dual{ForwardDiff.Tag{getfield(Bilevel, Symbol(\"#eval_cons#75\")){SimData,Int64,Bilevel.VariableSelector,Bilevel.ConstraintSelector,Int64,Int64,Bool},Float64},Float64,12},1}, ::SimData, ::Symmetric{ForwardDiff.Dual{ForwardDiff.Tag{getfield(Bilevel, Symbol(\"#eval_cons#75\")){SimData,Int64,Bilevel.VariableSelector,Bilevel.ConstraintSelector,Int64,Int64,Bool},Float64},Float64,12},Array{ForwardDiff.Dual{ForwardDiff.Tag{getfield(Bilevel, Symbol(\"#eval_cons#75\")){SimData,Int64,Bilevel.VariableSelector,Bilevel.ConstraintSelector,Int64,Int64,Bool},Float64},Float64,12},2}}, ::EnvironmentJacobian{ForwardDiff.Dual{ForwardDiff.Tag{getfield(Bilevel, Symbol(\"#eval_cons#75\")){SimData,Int64,Bilevel.VariableSelector,Bilevel.ConstraintSelector,Int64,Int64,Bool},Float64},Float64,12}}, ::SegmentedVector{JointID,ForwardDiff.Dual{ForwardDiff.Tag{getfield(Bilevel, Symbol(\"#eval_cons#75\")){SimData,Int64,Bilevel.VariableSelector,Bilevel.ConstraintSelector,Int64,Int64,Bool},Float64},Float64,12},Base.OneTo{JointID},Array{ForwardDiff.Dual{ForwardDiff.Tag{getfield(Bilevel, Symbol(\"#eval_cons#75\")){SimData,Int64,Bilevel.VariableSelector,Bilevel.ConstraintSelector,Int64,Int64,Bool},Float64},Float64,12},1}}, ::Array{ForwardDiff.Dual{ForwardDiff.Tag{getfield(Bilevel, Symbol(\"#eval_cons#75\")){SimData,Int64,Bilevel.VariableSelector,Bilevel.ConstraintSelector,Int64,Int64,Bool},Float64},Float64,12},1}, ::Array{ForwardDiff.Dual{ForwardDiff.Tag{getfield(Bilevel, Symbol(\"#eval_cons#75\")){SimData,Int64,Bilevel.VariableSelector,Bilevel.ConstraintSelector,Int64,Int64,Bool},Float64},Float64,12},1}, ::Array{ForwardDiff.Dual{ForwardDiff.Tag{getfield(Bilevel, Symbol(\"#eval_cons#75\")){SimData,Int64,Bilevel.VariableSelector,Bilevel.ConstraintSelector,Int64,Int64,Bool},Float64},Float64,12},1}, ::Int64) at /Users/blandry/.julia/dev/Bilevel/src/contact_sim.jl:197",
      " [3] (::getfield(Bilevel, Symbol(\"#eval_cons#75\")){SimData,Int64,Bilevel.VariableSelector,Bilevel.ConstraintSelector,Int64,Int64,Bool})(::Array{ForwardDiff.Dual{ForwardDiff.Tag{getfield(Bilevel, Symbol(\"#eval_cons#75\")){SimData,Int64,Bilevel.VariableSelector,Bilevel.ConstraintSelector,Int64,Int64,Bool},Float64},Float64,12},1}) at /Users/blandry/.julia/dev/Bilevel/src/trajopt_semidirect.jl:189",
      " [4] chunk_mode_jacobian!(::DiffResults.MutableDiffResult{1,Array{Float64,1},Tuple{Array{Float64,2}}}, ::getfield(Bilevel, Symbol(\"#eval_cons#75\")){SimData,Int64,Bilevel.VariableSelector,Bilevel.ConstraintSelector,Int64,Int64,Bool}, ::Array{Float64,1}, ::ForwardDiff.JacobianConfig{ForwardDiff.Tag{getfield(Bilevel, Symbol(\"#eval_cons#75\")){SimData,Int64,Bilevel.VariableSelector,Bilevel.ConstraintSelector,Int64,Int64,Bool},Float64},Float64,12,Array{ForwardDiff.Dual{ForwardDiff.Tag{getfield(Bilevel, Symbol(\"#eval_cons#75\")){SimData,Int64,Bilevel.VariableSelector,Bilevel.ConstraintSelector,Int64,Int64,Bool},Float64},Float64,12},1}}) at /Users/blandry/.julia/packages/ForwardDiff/N0wMF/src/jacobian.jl:213",
      " [5] jacobian! at /Users/blandry/.julia/packages/ForwardDiff/N0wMF/src/jacobian.jl:56 [inlined]",
      " [6] jacobian! at /Users/blandry/.julia/packages/ForwardDiff/N0wMF/src/jacobian.jl:52 [inlined]",
      " [7] (::getfield(Bilevel, Symbol(\"#solver_fn#84\")){getfield(Bilevel, Symbol(\"#eval_obj#74\")){SimData,Int64,Bilevel.VariableSelector,Int64,Bool},DiffResults.MutableDiffResult{2,Float64,Tuple{Array{Float64,1},Array{Float64,2}}},ForwardDiff.HessianConfig{ForwardDiff.Tag{getfield(Bilevel, Symbol(\"#eval_obj#74\")){SimData,Int64,Bilevel.VariableSelector,Int64,Bool},Float64},Float64,12,Array{ForwardDiff.Dual{ForwardDiff.Tag{getfield(Bilevel, Symbol(\"#eval_obj#74\")){SimData,Int64,Bilevel.VariableSelector,Int64,Bool},Float64},ForwardDiff.Dual{ForwardDiff.Tag{getfield(Bilevel, Symbol(\"#eval_obj#74\")){SimData,Int64,Bilevel.VariableSelector,Int64,Bool},Float64},Float64,12},12},1},Tuple{Array{ForwardDiff.Dual{ForwardDiff.Tag{getfield(Bilevel, Symbol(\"#eval_obj#74\")){SimData,Int64,Bilevel.VariableSelector,Int64,Bool},Float64},Float64,12},1},Array{ForwardDiff.Dual{ForwardDiff.Tag{getfield(Bilevel, Symbol(\"#eval_obj#74\")){SimData,Int64,Bilevel.VariableSelector,Int64,Bool},Float64},Float64,12},1}}},getfield(Bilevel, Symbol(\"#eval_cons#75\")){SimData,Int64,Bilevel.VariableSelector,Bilevel.ConstraintSelector,Int64,Int64,Bool},DiffResults.MutableDiffResult{1,Array{Float64,1},Tuple{Array{Float64,2}}},ForwardDiff.JacobianConfig{ForwardDiff.Tag{getfield(Bilevel, Symbol(\"#eval_cons#75\")){SimData,Int64,Bilevel.VariableSelector,Bilevel.ConstraintSelector,Int64,Int64,Bool},Float64},Float64,12,Array{ForwardDiff.Dual{ForwardDiff.Tag{getfield(Bilevel, Symbol(\"#eval_cons#75\")){SimData,Int64,Bilevel.VariableSelector,Bilevel.ConstraintSelector,Int64,Int64,Bool},Float64},Float64,12},1}},Array{Int64,1},Array{Int64,1}})(::Array{Float64,1}) at /Users/blandry/.julia/dev/Bilevel/src/solvers/autodiff.jl:28",
      " [8] objcon_wrapper(::Ptr{Int64}, ::Int64, ::Ptr{Float64}, ::Int64, ::Int64, ::Ptr{Float64}, ::Int64, ::Int64, ::Ptr{Float64}, ::Ptr{Int8}, ::Int64, ::Ptr{Int64}, ::Int64, ::Ptr{Float64}, ::Int64) at /Users/blandry/.julia/dev/Bilevel/src/solvers/snopt.jl:104",
      " [9] #snopt#76(::Array{Float64,1}, ::Array{Float64,1}, ::String, ::String, ::Nothing, ::Function, ::Function, ::Int64, ::Int64, ::Array{Float64,1}, ::Dict{String,Any}) at /Users/blandry/.julia/dev/Bilevel/src/solvers/snopt.jl:350",
      " [10] (::getfield(Bilevel, Symbol(\"#kw##snopt\")))(::NamedTuple{(:x_min, :x_max, :callback_fn),Tuple{Array{Float64,1},Array{Float64,1},Nothing}}, ::typeof(Bilevel.snopt), ::Function, ::Int64, ::Int64, ::Array{Float64,1}, ::Dict{String,Any}) at none:0",
      " [11] #trajopt#52(::Nothing, ::Bool, ::Array{Float64,1}, ::Array{Float64,1}, ::Float64, ::Float64, ::Float64, ::Int64, ::Nothing, ::typeof(trajopt), ::SimData) at /Users/blandry/.julia/dev/Bilevel/src/trajopt.jl:46",
      " [12] (::getfield(Bilevel, Symbol(\"#kw##trajopt\")))(::NamedTuple{(:x_min, :x_max, :quaternion_state, :verbose),Tuple{Array{Float64,1},Array{Float64,1},Bool,Int64}}, ::typeof(trajopt), ::SimData) at none:0",
      " [13] top-level scope at In[6]:4"
     ]
    }
   ],
   "source": [
    "sim_data = get_trajopt_data_semidirect(mechanism,env,Δt,N,relax_comp=false)\n",
    "add_prob_constraints!(sim_data)\n",
    "x_min, x_max = get_prob_limits(sim_data)\n",
    "traj_semidirect = Bilevel.trajopt(sim_data, x_min=x_min, x_max=x_max, quaternion_state=true, verbose=1)"
   ]
  },
  {
   "cell_type": "code",
   "execution_count": null,
   "metadata": {},
   "outputs": [],
   "source": [
    "j = 5\n",
    "plot(traj_indirect[7],traj_indirect[8][j,:],label=\"Indirect\",seriescolor=RGB(((227,74,51) ./ 255.)...),linewidth=4,marker=6)\n",
    "plot!(traj_semidirect[7],traj_semidirect[8][j,:],label=\"Semidirect\",seriescolor=RGB(((254,232,200) ./ 255.)...),linewidth=0,marker=4)"
   ]
  },
  {
   "cell_type": "markdown",
   "metadata": {},
   "source": [
    "## Little dog"
   ]
  },
  {
   "cell_type": "code",
   "execution_count": null,
   "metadata": {},
   "outputs": [],
   "source": [
    "urdf = joinpath(\"..\", \"urdf\", \"little_dog\", \"little_dog.urdf\")\n",
    "mechanism = parse_urdf(Float64, urdf)\n",
    "\n",
    "floor = findbody(mechanism, \"floor\")\n",
    "point = Point3D(default_frame(floor), SVector([0.,0.,0.]...))\n",
    "normal = FreeVector3D(default_frame(floor), SVector([0.,0.,1.]...))\n",
    "floor_obs = Obstacle(floor, point, normal, :xyz, 1.)\n",
    "\n",
    "obstacles = [floor_obs]\n",
    "env = Environment(mechanism, urdf, obstacles);"
   ]
  },
  {
   "cell_type": "code",
   "execution_count": null,
   "metadata": {},
   "outputs": [],
   "source": [
    "q_nom = [1., 0., 0., 0., 0., 0., .175, 0., 0., 0., 0., .036, 0., 0., 0., .00758, 0., .002445, 0.]  \n",
    "q_min = [-1., -1., -1., -1., -.1, -.01, .05, -.6, -.6, -.6, -.6, -3.5, -3.5, -3.5, -3.5, -3.1, -3.1, -3.1, -3.1]\n",
    "q_max = [1., 1., 1., 1., 5., .01, .2, .6, .6, .6, .6, 2.4, 2.4, 2.4, 2.4, 1., 1., 1., 1.]\n",
    "\n",
    "N = 10\n",
    "Δt = .05\n",
    "\n",
    "function add_prob_constraints!(sim_data)\n",
    "    vs = sim_data.vs\n",
    "\n",
    "    add_eq!(sim_data, :cq1, num_positions(mechanism), x -> vs(x, :q1) - q_nom)\n",
    "    add_eq!(sim_data, :cv1, num_velocities(mechanism), x -> vs(x, :v1))\n",
    "end\n",
    "\n",
    "function add_prob_obj!(sim_data)\n",
    "    add_obj!(sim_data, :xf, x -> -sim_data.vs(x, Symbol(\"q\", N))[5])\n",
    "end\n",
    "\n",
    "function get_prob_limits(sim_data)\n",
    "    x_min = -1e19*ones(sim_data.vs.num_vars)\n",
    "    x_max = 1e19*ones(sim_data.vs.num_vars)\n",
    "    \n",
    "    # joint limits\n",
    "    add_box_con_snopt!(x_min, x_max, sim_data, :q, q_min, q_max, 1:N)\n",
    "    add_box_con_snopt!(x_min, x_max, sim_data, :h, [.5 * Δt], [2. * Δt], 1:N-1)\n",
    "    \n",
    "    # torques limits\n",
    "    u_limit = .5\n",
    "    add_box_con_snopt!(x_min, x_max, sim_data, :u, -u_limit * ones(num_velocities(mechanism)), u_limit * ones(num_velocities(mechanism)), 1:N-1)\n",
    "\n",
    "    x_min, x_max\n",
    "end\n",
    "\n",
    "function get_prob_init(sim_data)\n",
    "    x0 = zeros(sim_data.vs.num_vars)\n",
    "    for n = 1:N\n",
    "        x0[sim_data.vs(Symbol(\"q\", n))] .= q_nom\n",
    "    end\n",
    "    \n",
    "    x0\n",
    "end\n",
    "\n",
    "function setup_prob!(sim_data)\n",
    "    add_prob_constraints!(sim_data)\n",
    "    add_prob_obj!(sim_data)\n",
    "    x_min, x_max = get_prob_limits(sim_data)\n",
    "    x0 = get_prob_init(sim_data)\n",
    "    \n",
    "    x0, x_min, x_max\n",
    "end"
   ]
  },
  {
   "cell_type": "code",
   "execution_count": null,
   "metadata": {},
   "outputs": [],
   "source": [
    "mvis = MechanismVisualizer(mechanism, URDFVisuals(urdf));\n",
    "open(mvis)"
   ]
  },
  {
   "cell_type": "code",
   "execution_count": null,
   "metadata": {},
   "outputs": [],
   "source": [
    "sim_data = get_trajopt_data_indirect(mechanism,env,Δt,N,relax_comp=false)\n",
    "x0, x_min, x_max = setup_prob!(sim_data)\n",
    "traj_indirect = Bilevel.trajopt(sim_data, x0=x0, x_min=x_min, x_max=x_max, verbose=1, opt_tol=1e-3, major_feas=1e-3, minor_feas=1e-3);"
   ]
  },
  {
   "cell_type": "code",
   "execution_count": null,
   "metadata": {},
   "outputs": [],
   "source": [
    "setanimation!(mvis, traj_indirect[7], traj_indirect[1])"
   ]
  },
  {
   "cell_type": "code",
   "execution_count": null,
   "metadata": {},
   "outputs": [],
   "source": [
    "sim_data = get_trajopt_data_semidirect(mechanism,env,Δt,N,relax_comp=false)\n",
    "x0, x_min, x_max = setup_prob!(sim_data)\n",
    "traj_semidirect = Bilevel.trajopt(sim_data, x0=x0, x_min=x_min, x_max=x_max, verbose=1, opt_tol=1e-3, major_feas=1e-3, minor_feas=1e-3);"
   ]
  },
  {
   "cell_type": "code",
   "execution_count": null,
   "metadata": {},
   "outputs": [],
   "source": [
    "setanimation!(mvis, traj_semidirect[7], traj_semidirect[1])"
   ]
  },
  {
   "cell_type": "code",
   "execution_count": null,
   "metadata": {},
   "outputs": [],
   "source": [
    "traj_semidirect[1]"
   ]
  },
  {
   "cell_type": "markdown",
   "metadata": {},
   "source": [
    "## Panda arm"
   ]
  },
  {
   "cell_type": "code",
   "execution_count": null,
   "metadata": {},
   "outputs": [],
   "source": []
  }
 ],
 "metadata": {
  "kernelspec": {
   "display_name": "Julia 1.1.0",
   "language": "julia",
   "name": "julia-1.1"
  },
  "language_info": {
   "file_extension": ".jl",
   "mimetype": "application/julia",
   "name": "julia",
   "version": "1.1.0"
  }
 },
 "nbformat": 4,
 "nbformat_minor": 2
}
