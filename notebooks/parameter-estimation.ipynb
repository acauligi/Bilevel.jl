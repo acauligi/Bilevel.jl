{
 "cells": [
  {
   "cell_type": "code",
   "execution_count": 2,
   "metadata": {
    "collapsed": false
   },
   "outputs": [
    {
     "ename": "ArgumentError",
     "evalue": "ArgumentError: Package BenchmarkTools not found in current path:\n- Run `Pkg.add(\"BenchmarkTools\")` to install the BenchmarkTools package.\n",
     "output_type": "error",
     "traceback": [
      "ArgumentError: Package BenchmarkTools not found in current path:\n- Run `Pkg.add(\"BenchmarkTools\")` to install the BenchmarkTools package.\n",
      "",
      "Stacktrace:",
      " [1] require(::Module, ::Symbol) at ./loading.jl:817",
      " [2] top-level scope at In[2]:14"
     ]
    }
   ],
   "source": [
    "using Revise\n",
    "using Bilevel\n",
    "\n",
    "using ForwardDiff\n",
    "using DiffResults\n",
    "using RigidBodyDynamics\n",
    "using MeshCatMechanisms\n",
    "using Plots\n",
    "using Interpolations\n",
    "using Profile\n",
    "using ProfileView\n",
    "using Distributed\n",
    "using Base.Threads\n",
    "using BenchmarkTools\n",
    "using MeshCat"
   ]
  },
  {
   "cell_type": "code",
   "execution_count": 19,
   "metadata": {
    "collapsed": false
   },
   "outputs": [
    {
     "data": {
      "text/plain": [
       "16"
      ]
     },
     "execution_count": 19,
     "metadata": {},
     "output_type": "execute_result"
    }
   ],
   "source": [
    "nthreads()"
   ]
  },
  {
   "cell_type": "code",
   "execution_count": 20,
   "metadata": {
    "collapsed": true
   },
   "outputs": [],
   "source": [
    "urdf = joinpath(\"..\", \"urdf\", \"panda\", \"panda_arm.urdf\")\n",
    "mechanism = parse_urdf(Float64, urdf)\n",
    "env = parse_contacts(mechanism, urdf, [])\n",
    "x0 = MechanismState(mechanism);"
   ]
  },
  {
   "cell_type": "code",
   "execution_count": null,
   "metadata": {
    "collapsed": true
   },
   "outputs": [],
   "source": [
    "mvis = MechanismVisualizer(mechanism, URDFVisuals(urdf))\n",
    "open(mvis)\n",
    "# IJuliaCell(mvis)"
   ]
  },
  {
   "cell_type": "code",
   "execution_count": 43,
   "metadata": {
    "collapsed": false
   },
   "outputs": [
    {
     "data": {
      "text/plain": [
       "MeshCat Visualizer with path /Cameras/default/rotated"
      ]
     },
     "execution_count": 43,
     "metadata": {},
     "output_type": "execute_result"
    }
   ],
   "source": [
    "settransform!(mvis[\"/Cameras/default/rotated\"], MeshCat.Translation(-0.02, -1.25, -0.35) \n",
    "    ∘ MeshCat.LinearMap(MeshCat.RotX(π/2))\n",
    "    ∘ MeshCat.LinearMap(MeshCat.RotY(1.65*π/5)) \n",
    ")"
   ]
  },
  {
   "cell_type": "code",
   "execution_count": 8,
   "metadata": {
    "collapsed": true
   },
   "outputs": [],
   "source": [
    "setanimation!(mvis, traj_t, traj_q)"
   ]
  },
  {
   "cell_type": "code",
   "execution_count": 4,
   "metadata": {
    "collapsed": false
   },
   "outputs": [
    {
     "name": "stderr",
     "output_type": "stream",
     "text": [
      "┌ Warning: `a::Number + b::AbstractArray` is deprecated, use `a .+ b` instead.\n",
      "│   caller = +(::Int64, ::Int64, ::UnitRange{Int64}) at operators.jl:502\n",
      "└ @ Base ./operators.jl:502\n",
      "┌ Warning: `a::Number + b::AbstractArray` is deprecated, use `a .+ b` instead.\n",
      "│   caller = traj_fn_snopt(::Bilevel.TrajData) at trajopt_snopt.jl:143\n",
      "└ @ Bilevel /home/blandry/.julia/dev/Bilevel/src/trajopt_snopt.jl:143\n"
     ]
    },
    {
     "name": "stdout",
     "output_type": "stream",
     "text": [
      "Finished successfully: optimality conditions satisfied\n"
     ]
    }
   ],
   "source": [
    "# simple trajopt without the box to get a trajectory to simulate\n",
    "\n",
    "Δt = 0.02\n",
    "N = 50\n",
    "traj_data = get_traj_data(mechanism,env,Δt,N,false)\n",
    "\n",
    "x_start = zeros(traj_data.num_q+traj_data.num_v)\n",
    "x_goal = zeros(traj_data.num_q+traj_data.num_v)\n",
    "\n",
    "x_start[2] = .3\n",
    "x_start[4] = -2.75\n",
    "x_start[6] = -1.65\n",
    "\n",
    "x_goal[2] = .8\n",
    "x_goal[4] = -1.67\n",
    "x_goal[6] = -2.2\n",
    "\n",
    "add_state_eq!(traj_data, xi -> xi - x_start, 1)\n",
    "add_state_eq!(traj_data, xi -> xi - x_goal, N)\n",
    "add_fn_ineq!(traj_data, xi -> -pi - xi[4], Int(N/2))\n",
    "\n",
    "traj = Bilevel.trajopt_snopt(traj_data)\n",
    "\n",
    "traj_t = vcat(0.,cumsum([Δt for i in 1:N-1]));\n",
    "traj_q = [traj[1:num_positions(mechanism),i] for i in 1:N]\n",
    "traj_u = traj[traj_data.num_q+traj_data.num_v+1:traj_data.num_q+2*traj_data.num_v,:]\n",
    "ctrl_itp = Vector()\n",
    "for i = 1:traj_data.num_v\n",
    "   push!(ctrl_itp, Interpolations.CubicSplineInterpolation(0.:Δt:(N-1)*Δt,traj_u[i,:],extrapolation_bc=0.))\n",
    "end\n",
    "traj_itp = Vector()\n",
    "for i = 1:traj_data.num_q+traj_data.num_v\n",
    "    push!(traj_itp, Interpolations.CubicSplineInterpolation(0.:Δt:(N-1)*Δt,traj[i,:],extrapolation_bc=traj[i,end]))\n",
    "end"
   ]
  },
  {
   "cell_type": "code",
   "execution_count": null,
   "metadata": {
    "collapsed": true,
    "scrolled": true
   },
   "outputs": [],
   "source": [
    "# package the resulting controller in a ctrl function to test (optional)\n",
    "# urdf = joinpath(\"..\", \"urdf\", \"panda\", \"panda_arm.urdf\")\n",
    "# mechanism = parse_urdf(Float64, urdf)\n",
    "\n",
    "Δt = 0.02\n",
    "N = 100\n",
    "sim_data = get_sim_data(mechanism,env,Δt,false)\n",
    "\n",
    "function feedforward_ctrl!(u,t,x)\n",
    "    u[:] = map(ctrl_itp) do itp\n",
    "       itp(t) \n",
    "    end\n",
    "end\n",
    "function feedback_ctrl!(u,t,x)\n",
    "    Kp = 250.\n",
    "    Kd = 5.\n",
    "    q = configuration(x)\n",
    "    v = velocity(x)\n",
    "    for i = 1:length(u)\n",
    "       u[i] = ctrl_itp[i](t) + Kd*(traj_itp[traj_data.num_q+i](t)-v[i]) + Kp*(traj_itp[i](t)-q[i]) \n",
    "    end\n",
    "end\n",
    "\n",
    "set_configuration!(x0,x_start[1:traj_data.num_q])\n",
    "set_velocity!(x0,x_start[sim_data.num_q+1:sim_data.num_q+sim_data.num_v])\n",
    "setdirty!(x0)\n",
    "\n",
    "traj_sim = Bilevel.simulate_snopt(sim_data,feedback_ctrl!,x0,N-1)\n",
    "traj_t_sim = vcat(0.,cumsum([Δt for i in 1:N-1]));\n",
    "traj_q_sim = [traj_sim[1:num_positions(mechanism),i] for i in 1:N];"
   ]
  },
  {
   "cell_type": "code",
   "execution_count": null,
   "metadata": {
    "collapsed": true
   },
   "outputs": [],
   "source": [
    "\n",
    "\n",
    "\n",
    "\n",
    "\n",
    "\n",
    "\n",
    "\n",
    "\n",
    "\n",
    "\n",
    "\n",
    "\n",
    "\n",
    "\n",
    "\n",
    "\n",
    "\n",
    "\n",
    "\n"
   ]
  },
  {
   "cell_type": "code",
   "execution_count": 169,
   "metadata": {
    "collapsed": false,
    "scrolled": true
   },
   "outputs": [
    {
     "name": "stdout",
     "output_type": "stream",
     "text": [
      "Finished successfully: optimality conditions satisfied\n",
      "Finished successfully: optimality conditions satisfied\n",
      "Finished successfully: optimality conditions satisfied\n",
      "Finished successfully: optimality conditions satisfied\n",
      "Finished successfully: optimality conditions satisfied\n",
      "Finished successfully: optimality conditions satisfied\n",
      "Finished successfully: optimality conditions satisfied\n",
      "Finished successfully: optimality conditions satisfied\n",
      "Finished successfully: optimality conditions satisfied\n",
      "Finished successfully: optimality conditions satisfied\n",
      "Finished successfully: optimality conditions satisfied\n",
      "Finished successfully: optimality conditions satisfied\n",
      "Finished successfully: optimality conditions satisfied\n",
      "Finished successfully: optimality conditions satisfied\n",
      "Finished successfully: optimality conditions satisfied\n",
      "Finished successfully: optimality conditions satisfied\n",
      "Finished successfully: optimality conditions satisfied\n",
      "Finished successfully: optimality conditions satisfied\n",
      "Finished successfully: optimality conditions satisfied\n",
      "Finished successfully: optimality conditions satisfied\n",
      "Finished successfully: optimality conditions satisfied\n",
      "Finished successfully: optimality conditions satisfied\n",
      "Finished successfully: optimality conditions satisfied\n",
      "Finished successfully: optimality conditions satisfied\n",
      "Finished successfully: optimality conditions satisfied\n",
      "Finished successfully: optimality conditions satisfied\n",
      "Finished successfully: optimality conditions satisfied\n",
      "Finished successfully: optimality conditions satisfied\n",
      "Finished successfully: optimality conditions satisfied\n",
      "Finished successfully: optimality conditions satisfied\n",
      "Finished successfully: optimality conditions satisfied\n",
      "Finished successfully: optimality conditions satisfied\n",
      "Finished successfully: optimality conditions satisfied\n",
      "Finished successfully: optimality conditions satisfied\n",
      "Finished successfully: optimality conditions satisfied\n",
      "Finished successfully: optimality conditions satisfied\n",
      "Finished successfully: optimality conditions satisfied\n",
      "Finished successfully: optimality conditions satisfied\n",
      "Finished successfully: optimality conditions satisfied\n",
      "Finished successfully: optimality conditions satisfied\n",
      "Finished successfully: optimality conditions satisfied\n",
      "Finished successfully: optimality conditions satisfied\n",
      "Finished successfully: optimality conditions satisfied\n",
      "Finished successfully: optimality conditions satisfied\n",
      "Finished successfully: optimality conditions satisfied\n",
      "Finished successfully: optimality conditions satisfied\n",
      "Finished successfully: optimality conditions satisfied\n",
      "Finished successfully: optimality conditions satisfied\n",
      "Finished successfully: optimality conditions satisfied\n",
      "Finished successfully: optimality conditions satisfied\n",
      "Finished successfully: optimality conditions satisfied\n",
      "Finished successfully: optimality conditions satisfied\n",
      "Finished successfully: optimality conditions satisfied\n",
      "Finished successfully: optimality conditions satisfied\n",
      "Finished successfully: optimality conditions satisfied\n",
      "Finished successfully: optimality conditions satisfied\n",
      "Finished successfully: optimality conditions satisfied\n",
      "Finished successfully: optimality conditions satisfied\n",
      "Finished successfully: optimality conditions satisfied\n",
      "Finished successfully: optimality conditions satisfied\n",
      "Finished successfully: optimality conditions satisfied\n",
      "Finished successfully: optimality conditions satisfied\n",
      "Finished successfully: optimality conditions satisfied\n",
      "Finished successfully: optimality conditions satisfied\n",
      "Finished successfully: optimality conditions satisfied\n",
      "Finished successfully: optimality conditions satisfied\n",
      "Finished successfully: optimality conditions satisfied\n",
      "Finished successfully: optimality conditions satisfied\n",
      "Finished successfully: optimality conditions satisfied\n",
      "Finished successfully: optimality conditions satisfied\n",
      "Finished successfully: optimality conditions satisfied\n",
      "Finished successfully: optimality conditions satisfied\n",
      "Finished successfully: optimality conditions satisfied\n",
      "Finished successfully: optimality conditions satisfied\n",
      "Finished successfully: optimality conditions satisfied\n",
      "Finished successfully: optimality conditions satisfied\n",
      "Finished successfully: optimality conditions satisfied\n",
      "Finished successfully: optimality conditions satisfied\n",
      "Finished successfully: optimality conditions satisfied\n",
      "Finished successfully: optimality conditions satisfied\n",
      "Finished successfully: optimality conditions satisfied\n",
      "Finished successfully: optimality conditions satisfied\n",
      "Finished successfully: optimality conditions satisfied\n",
      "Finished successfully: optimality conditions satisfied\n",
      "Finished successfully: optimality conditions satisfied\n",
      "Finished successfully: optimality conditions satisfied\n",
      "Finished successfully: optimality conditions satisfied\n",
      "Finished successfully: optimality conditions satisfied\n",
      "Finished successfully: optimality conditions satisfied\n",
      "Finished successfully: optimality conditions satisfied\n",
      "Finished successfully: optimality conditions satisfied\n",
      "Finished successfully: optimality conditions satisfied\n",
      "Finished successfully: optimality conditions satisfied\n",
      "Finished successfully: optimality conditions satisfied\n",
      "Finished successfully: optimality conditions satisfied\n",
      "Finished successfully: optimality conditions satisfied\n",
      "Finished successfully: optimality conditions satisfied\n",
      "Finished successfully: optimality conditions satisfied\n",
      "Finished successfully: optimality conditions satisfied\n",
      "Finished successfully: optimality conditions satisfied\n",
      "Finished successfully: optimality conditions satisfied\n",
      "Finished successfully: optimality conditions satisfied\n",
      "Finished successfully: optimality conditions satisfied\n",
      "Finished successfully: optimality conditions satisfied\n",
      "Finished successfully: optimality conditions satisfied\n",
      "Finished successfully: optimality conditions satisfied\n",
      "Finished successfully: optimality conditions satisfied\n",
      "Finished successfully: optimality conditions satisfied\n",
      "Finished successfully: optimality conditions satisfied\n",
      "Finished successfully: optimality conditions satisfied\n",
      "Finished successfully: optimality conditions satisfied\n",
      "Finished successfully: optimality conditions satisfied\n",
      "Finished successfully: optimality conditions satisfied\n",
      "Finished successfully: optimality conditions satisfied\n",
      "Finished successfully: optimality conditions satisfied\n",
      "Finished successfully: optimality conditions satisfied\n",
      "Finished successfully: optimality conditions satisfied\n",
      "Finished successfully: optimality conditions satisfied\n",
      "Finished successfully: optimality conditions satisfied\n",
      "Finished successfully: optimality conditions satisfied\n",
      "Finished successfully: optimality conditions satisfied\n",
      "Finished successfully: optimality conditions satisfied\n",
      "Finished successfully: optimality conditions satisfied\n",
      "Finished successfully: optimality conditions satisfied\n",
      "Finished successfully: optimality conditions satisfied\n",
      "Finished successfully: optimality conditions satisfied\n",
      "Finished successfully: requested accuracy could not be achieved\n",
      "Finished successfully: optimality conditions satisfied\n",
      "Finished successfully: optimality conditions satisfied\n",
      "Finished successfully: optimality conditions satisfied\n",
      "Finished successfully: optimality conditions satisfied\n",
      "Finished successfully: optimality conditions satisfied\n",
      "Finished successfully: optimality conditions satisfied\n",
      "Finished successfully: requested accuracy could not be achieved\n",
      "Finished successfully: optimality conditions satisfied\n",
      "Finished successfully: requested accuracy could not be achieved\n",
      "Finished successfully: requested accuracy could not be achieved\n",
      "Finished successfully: requested accuracy could not be achieved\n",
      "Finished successfully: optimality conditions satisfied\n",
      "Finished successfully: optimality conditions satisfied\n",
      "Finished successfully: optimality conditions satisfied\n",
      "Finished successfully: optimality conditions satisfied\n",
      "Finished successfully: optimality conditions satisfied\n",
      "Finished successfully: optimality conditions satisfied\n",
      "Finished successfully: requested accuracy could not be achieved\n",
      "Finished successfully: optimality conditions satisfied\n",
      "Finished successfully: optimality conditions satisfied\n",
      "Finished successfully: optimality conditions satisfied\n",
      "Finished successfully: optimality conditions satisfied\n",
      "Finished successfully: optimality conditions satisfied\n",
      "Finished successfully: optimality conditions satisfied\n",
      "Finished successfully: optimality conditions satisfied\n",
      "Finished successfully: optimality conditions satisfied\n",
      "Finished successfully: optimality conditions satisfied\n",
      "Finished successfully: optimality conditions satisfied\n",
      "Finished successfully: optimality conditions satisfied\n",
      "Finished successfully: optimality conditions satisfied\n",
      "Finished successfully: optimality conditions satisfied\n",
      "Finished successfully: optimality conditions satisfied\n",
      "Finished successfully: optimality conditions satisfied\n",
      "Finished successfully: optimality conditions satisfied\n",
      "Finished successfully: optimality conditions satisfied\n",
      "Finished successfully: optimality conditions satisfied\n",
      "Finished successfully: optimality conditions satisfied\n",
      "Finished successfully: optimality conditions satisfied\n",
      "Finished successfully: optimality conditions satisfied\n",
      "Finished successfully: optimality conditions satisfied\n",
      "Finished successfully: optimality conditions satisfied\n",
      "Finished successfully: optimality conditions satisfied\n",
      "Finished successfully: optimality conditions satisfied\n",
      "Finished successfully: optimality conditions satisfied\n",
      "Finished successfully: optimality conditions satisfied\n",
      "Finished successfully: optimality conditions satisfied\n",
      "Finished successfully: optimality conditions satisfied\n",
      "Finished successfully: optimality conditions satisfied\n",
      "Finished successfully: optimality conditions satisfied\n",
      "Finished successfully: optimality conditions satisfied\n",
      "Finished successfully: optimality conditions satisfied\n",
      "Finished successfully: optimality conditions satisfied\n",
      "Finished successfully: optimality conditions satisfied\n",
      "Finished successfully: optimality conditions satisfied\n",
      "Finished successfully: optimality conditions satisfied\n",
      "Finished successfully: optimality conditions satisfied\n",
      "Finished successfully: optimality conditions satisfied\n",
      "Finished successfully: optimality conditions satisfied\n",
      "Finished successfully: optimality conditions satisfied\n",
      "Finished successfully: optimality conditions satisfied\n",
      "Finished successfully: optimality conditions satisfied\n",
      "Finished successfully: optimality conditions satisfied\n",
      "Finished successfully: optimality conditions satisfied\n",
      "Finished successfully: optimality conditions satisfied\n",
      "Finished successfully: optimality conditions satisfied\n",
      "Finished successfully: optimality conditions satisfied\n",
      "Finished successfully: optimality conditions satisfied\n",
      "Finished successfully: optimality conditions satisfied\n",
      "Finished successfully: optimality conditions satisfied\n",
      "Finished successfully: optimality conditions satisfied\n",
      "Finished successfully: optimality conditions satisfied\n",
      "Finished successfully: optimality conditions satisfied\n",
      "Finished successfully: optimality conditions satisfied\n",
      "Finished successfully: optimality conditions satisfied\n",
      "Finished successfully: optimality conditions satisfied\n",
      "Finished successfully: optimality conditions satisfied\n",
      "Finished successfully: optimality conditions satisfied\n",
      "Finished successfully: optimality conditions satisfied\n",
      "Finished successfully: optimality conditions satisfied\n",
      "Finished successfully: optimality conditions satisfied\n",
      "Finished successfully: optimality conditions satisfied\n",
      "Finished successfully: optimality conditions satisfied\n",
      "Finished successfully: optimality conditions satisfied\n",
      "Finished successfully: optimality conditions satisfied\n",
      "Finished successfully: optimality conditions satisfied\n",
      "Finished successfully: optimality conditions satisfied\n",
      "Finished successfully: optimality conditions satisfied\n",
      "Finished successfully: optimality conditions satisfied\n",
      "Finished successfully: optimality conditions satisfied\n",
      "Finished successfully: optimality conditions satisfied\n",
      "Finished successfully: requested accuracy could not be achieved\n",
      "Finished successfully: requested accuracy could not be achieved\n",
      "Finished successfully: requested accuracy could not be achieved\n",
      "Finished successfully: requested accuracy could not be achieved\n",
      "Finished successfully: requested accuracy could not be achieved\n",
      "Finished successfully: requested accuracy could not be achieved\n",
      "Finished successfully: optimality conditions satisfied\n",
      "Finished successfully: optimality conditions satisfied\n",
      "Finished successfully: optimality conditions satisfied\n",
      "Finished successfully: requested accuracy could not be achieved\n",
      "Finished successfully: requested accuracy could not be achieved\n",
      "Finished successfully: requested accuracy could not be achieved\n",
      "Finished successfully: requested accuracy could not be achieved\n",
      "Finished successfully: optimality conditions satisfied\n",
      "Finished successfully: optimality conditions satisfied\n",
      "Finished successfully: optimality conditions satisfied\n",
      "Finished successfully: optimality conditions satisfied\n",
      "Finished successfully: optimality conditions satisfied\n",
      "Finished successfully: optimality conditions satisfied\n",
      "Finished successfully: optimality conditions satisfied\n",
      "Finished successfully: optimality conditions satisfied\n",
      "Finished successfully: optimality conditions satisfied\n",
      "Finished successfully: optimality conditions satisfied\n",
      "Finished successfully: optimality conditions satisfied\n",
      "Finished successfully: optimality conditions satisfied\n",
      "Finished successfully: optimality conditions satisfied\n",
      "Finished successfully: optimality conditions satisfied\n",
      "Finished successfully: optimality conditions satisfied\n",
      "Finished successfully: optimality conditions satisfied\n",
      "Finished successfully: optimality conditions satisfied\n",
      "Finished successfully: optimality conditions satisfied\n",
      "Finished successfully: optimality conditions satisfied\n",
      "Finished successfully: optimality conditions satisfied\n",
      "Finished successfully: optimality conditions satisfied\n",
      "Finished successfully: optimality conditions satisfied\n",
      "Finished successfully: optimality conditions satisfied\n",
      "Finished successfully: optimality conditions satisfied\n",
      "Finished successfully: optimality conditions satisfied\n",
      "Finished successfully: optimality conditions satisfied\n",
      "Finished successfully: optimality conditions satisfied\n",
      "Finished successfully: optimality conditions satisfied\n",
      "Finished successfully: optimality conditions satisfied\n",
      "Finished successfully: optimality conditions satisfied\n",
      "Finished successfully: optimality conditions satisfied\n",
      "Finished successfully: optimality conditions satisfied\n",
      "Finished successfully: optimality conditions satisfied\n",
      "Finished successfully: optimality conditions satisfied\n",
      "Finished successfully: optimality conditions satisfied\n",
      "Finished successfully: optimality conditions satisfied\n",
      "Finished successfully: optimality conditions satisfied\n",
      "Finished successfully: optimality conditions satisfied\n",
      "Finished successfully: optimality conditions satisfied\n",
      "Finished successfully: optimality conditions satisfied\n",
      "Finished successfully: optimality conditions satisfied\n",
      "Finished successfully: optimality conditions satisfied\n",
      "Finished successfully: optimality conditions satisfied\n",
      "Finished successfully: optimality conditions satisfied\n",
      "Finished successfully: optimality conditions satisfied\n",
      "Finished successfully: optimality conditions satisfied\n",
      "Finished successfully: optimality conditions satisfied\n",
      "Finished successfully: optimality conditions satisfied\n",
      "Finished successfully: optimality conditions satisfied\n",
      "Finished successfully: optimality conditions satisfied\n",
      "Finished successfully: optimality conditions satisfied\n",
      "Finished successfully: optimality conditions satisfied\n",
      "Finished successfully: optimality conditions satisfied\n",
      "Finished successfully: optimality conditions satisfied\n",
      "Finished successfully: optimality conditions satisfied\n",
      "Finished successfully: optimality conditions satisfied\n",
      "Finished successfully: optimality conditions satisfied\n",
      "Finished successfully: optimality conditions satisfied\n",
      "Finished successfully: optimality conditions satisfied\n",
      "Finished successfully: optimality conditions satisfied\n",
      "Finished successfully: optimality conditions satisfied\n",
      "Finished successfully: optimality conditions satisfied\n",
      "Finished successfully: optimality conditions satisfied\n",
      "Finished successfully: optimality conditions satisfied\n",
      "Finished successfully: optimality conditions satisfied\n",
      "Finished successfully: optimality conditions satisfied\n",
      "Finished successfully: optimality conditions satisfied\n",
      "Finished successfully: optimality conditions satisfied\n",
      "Finished successfully: optimality conditions satisfied\n"
     ]
    }
   ],
   "source": [
    "# simulating the panda arm pushing the box with the controller\n",
    "# Δt = 0.01\n",
    "# N = 300\n",
    "Δt = 0.01\n",
    "N = 200\n",
    "# Δt = 0.02\n",
    "# N = 100\n",
    "\n",
    "# adding surfaces\n",
    "# Floor\n",
    "μ = .1\n",
    "# μ = .19\n",
    "# μ = .21\n",
    "# μ = .23\n",
    "# μ = .25\n",
    "# μ = .31\n",
    "# μ = .42\n",
    "# μ = .68\n",
    "\n",
    "urdf = joinpath(\"..\", \"urdf\", \"panda\", \"panda_arm_box.urdf\")\n",
    "mechanism = parse_urdf(Float64, urdf)\n",
    "\n",
    "box_body = findbody(mechanism, \"box\")\n",
    "basejoint = joint_to_parent(box_body, mechanism)\n",
    "floatingjoint = Joint(basejoint.name, frame_before(basejoint), frame_after(basejoint), QuaternionFloating{Float64}())\n",
    "replace_joint!(mechanism, basejoint, floatingjoint)\n",
    "position_bounds(floatingjoint) .= RigidBodyDynamics.Bounds(-100, 100)\n",
    "velocity_bounds(floatingjoint) .= RigidBodyDynamics.Bounds(-100, 100)\n",
    "\n",
    "motion_type = :xyz\n",
    "floor_body = findbody(mechanism, \"floor\")\n",
    "point = Point3D(default_frame(floor_body), [0.,0.,0.])\n",
    "normal = FreeVector3D(default_frame(floor_body), [0.,0.,1.])\n",
    "hs = HalfSpace(point, normal)\n",
    "floor = Obstacle(hs, μ, motion_type, floor_body)\n",
    "\n",
    "# Box (right now torque on the plane is ignored)\n",
    "μ = 0.05\n",
    "motion_type = :xyz\n",
    "box_body = findbody(mechanism, \"box\")\n",
    "point = Point3D(default_frame(box_body), [-.25,0.,.25])\n",
    "normal = FreeVector3D(default_frame(box_body), [-1.,0.,0.])\n",
    "hs = HalfSpace(point, normal)\n",
    "box = Obstacle(hs, μ, motion_type, box_body, is_floating=true)\n",
    "\n",
    "# obstacles = [floor]\n",
    "obstacles = [floor,box]\n",
    "\n",
    "env = parse_contacts(mechanism, urdf, obstacles)\n",
    "x0 = MechanismState(mechanism)\n",
    "sim_data = get_sim_data(mechanism,env,Δt,false)\n",
    "\n",
    "function feedback_ctrl_with_box!(u,t,x)\n",
    "    u[:] .= 0.\n",
    "    \n",
    "    Kp = 250.\n",
    "    Kd = 5.\n",
    "    \n",
    "    # todo use naming of states instead of assuming order\n",
    "    q = configuration(x)[8:end]\n",
    "    v = velocity(x)[7:end]\n",
    "    for i = 1:length(u[7:end])\n",
    "       u[6+i] = ctrl_itp[i](t) + Kd*(traj_itp[7+i](t)-v[i]) + Kp*(traj_itp[i](t)-q[i]) \n",
    "    end\n",
    "end\n",
    "\n",
    "x_start = zeros(sim_data.num_q+sim_data.num_v)\n",
    "\n",
    "# box\n",
    "x_start[1] = 1.\n",
    "x_start[5] = .8\n",
    "x_start[7] = .275\n",
    "\n",
    "# arm\n",
    "x_start[7+2] = .3\n",
    "x_start[7+4] = -2.75\n",
    "x_start[7+6] = -1.65\n",
    "\n",
    "set_configuration!(x0,x_start[1:sim_data.num_q])\n",
    "set_velocity!(x0,x_start[sim_data.num_q+1:sim_data.num_q+sim_data.num_v])\n",
    "setdirty!(x0)\n",
    "\n",
    "sim_traj = Bilevel.simulate_snopt(sim_data,feedback_ctrl_with_box!,x0,N-1)\n",
    "sim_traj_t = vcat(0.,cumsum([Δt for i in 1:N-1]));\n",
    "sim_traj_q = [sim_traj[1:num_positions(mechanism),i] for i in 1:N];\n",
    "sim_traj_u = zeros(sim_data.num_v,N)\n",
    "for i=1:N\n",
    "    set_configuration!(x0,sim_traj[1:sim_data.num_q,i])\n",
    "    set_velocity!(x0,sim_traj[sim_data.num_q+1:sim_data.num_q+sim_data.num_v,i])\n",
    "    setdirty!(x0)\n",
    "    t = sim_traj_t[i]\n",
    "    u = zeros(sim_data.num_v)\n",
    "    feedback_ctrl_with_box!(u,t,x0)\n",
    "    sim_traj_u[:,i] = u[:]\n",
    "end"
   ]
  },
  {
   "cell_type": "code",
   "execution_count": 178,
   "metadata": {
    "collapsed": false
   },
   "outputs": [
    {
     "data": {
      "image/png": "[encoded data removed]"
     },
     "execution_count": 178,
     "metadata": {},
     "output_type": "execute_result"
    }
   ],
   "source": [
    "gr(size=(800,500), html_output_format=:png);\n",
    "first_sample = 90\n",
    "last_sample = 230\n",
    "plot(sim_traj[5,first_sample:last_sample])"
   ]
  },
  {
   "cell_type": "code",
   "execution_count": 189,
   "metadata": {
    "collapsed": false
   },
   "outputs": [
    {
     "data": {
      "text/plain": [
       "friction_fn_bilevel (generic function with 1 method)"
      ]
     },
     "execution_count": 189,
     "metadata": {},
     "output_type": "execute_result"
    }
   ],
   "source": [
    "# regressing the parameters of that simulation back (friction)\n",
    "\n",
    "# portion of the traj we will use for parameter regression\n",
    "regression_indx_raw = collect(first_sample:last_sample)\n",
    "\n",
    "# pre-computing some of the transforms needed for the regression\n",
    "regression_indx = []\n",
    "contact_params = []\n",
    "for i = 1:length(regression_indx_raw)\n",
    "    q0 = sim_traj[1:sim_data.num_q,regression_indx_raw[i]]\n",
    "    v0 = sim_traj[sim_data.num_q+1:sim_data.num_q+sim_data.num_v,regression_indx_raw[i]]\n",
    "    u0 = sim_traj_u[:,regression_indx_raw[i]]\n",
    "    qnext = sim_traj[1:sim_data.num_q,regression_indx_raw[i]+1]\n",
    "    vnext = sim_traj[sim_data.num_q+1:sim_data.num_q+sim_data.num_v,regression_indx_raw[i]+1]\n",
    "    cp = compute_contact_params(sim_data,q0,v0,u0,qnext,vnext)\n",
    "    # only use datapoints where the contact points were active\n",
    "    if all(cp.ϕs[1:4] .< 1e-8)\n",
    "        push!(regression_indx, regression_indx_raw[i])\n",
    "        push!(contact_params, cp)\n",
    "    end\n",
    "end\n",
    "l_contact_params = length(contact_params)\n",
    "\n",
    "function friction_loss_bilevel(μs::AbstractArray{T}) where T\n",
    "    sim_data.μs[1:5] .= μs[1]\n",
    "    \n",
    "#     loss = 0.\n",
    "#     for i = 1:l_contact_params\n",
    "#         cp = contact_params[i]\n",
    "#         x, λ, μ = solve_implicit_contact_τ(sim_data,cp.ϕs,cp.Dtv,\n",
    "#                                            cp.rel_transforms,cp.geo_jacobians,cp.geo_jacobians_surfaces,\n",
    "#                                            cp.HΔv,cp.bias,cp.contact_x0,cp.contact_λ0,cp.contact_μ0,\n",
    "#                                            ip_method=false,in_place=false,comp_scale=1000.,num_fosteps=1,num_sosteps=3)\n",
    "#         d = dynamics_contact_constraints(x,cp.rel_transforms,cp.geo_jacobians,cp.geo_jacobians_surfaces,\n",
    "#                                          cp.HΔv,cp.bias,sim_data)\n",
    "#         loss += (d[1:6]'*d[1:6])/l_contact_params\n",
    "#     end\n",
    "    \n",
    "#     # distributed (multi-core)\n",
    "#     loss = @distributed (+) for i = 1:l_contact_params\n",
    "#         cp = contact_params[i]\n",
    "#         x, λ, μ = solve_implicit_contact_τ(sim_data,cp.ϕs,cp.Dtv,\n",
    "#                                            cp.rel_transforms,cp.geo_jacobians,cp.geo_jacobians_surfaces,\n",
    "#                                            cp.HΔv,cp.bias,cp.contact_x0,cp.contact_λ0,cp.contact_μ0,\n",
    "#                                            ip_method=false,in_place=false,comp_scale=1000.,num_fosteps=1,num_sosteps=3)\n",
    "#         d = dynamics_contact_constraints(x,cp.rel_transforms,cp.geo_jacobians,cp.geo_jacobians_surfaces,\n",
    "#                                          cp.HΔv,cp.bias,sim_data)\n",
    "#         (d[1:6]'*d[1:6])/l_contact_params\n",
    "#     end\n",
    "    \n",
    "    # multi-thread\n",
    "    losses = Array{T}(undef, l_contact_params)\n",
    "    @threads for i = 1:l_contact_params\n",
    "        cp = contact_params[i]\n",
    "        x, λ, μ = solve_implicit_contact_τ(sim_data,cp.ϕs,cp.Dtv,\n",
    "                                           cp.rel_transforms,cp.geo_jacobians,cp.geo_jacobians_surfaces,\n",
    "                                           cp.HΔv,cp.bias,cp.contact_x0,cp.contact_λ0,cp.contact_μ0,\n",
    "                                           ip_method=false,in_place=false,comp_scale=1000.,num_fosteps=1,num_sosteps=3)\n",
    "        d = dynamics_contact_constraints(x,cp.rel_transforms,cp.geo_jacobians,cp.geo_jacobians_surfaces,\n",
    "                                         cp.HΔv,cp.bias,sim_data)\n",
    "        losses[i] = (d[1:6]'*d[1:6])/l_contact_params\n",
    "    end\n",
    "    loss = sum(losses)\n",
    "    \n",
    "    loss\n",
    "end\n",
    "\n",
    "fric_res = DiffResults.GradientResult(zeros(1))\n",
    "function friction_fn_bilevel(μs)\n",
    "    ForwardDiff.gradient!(fric_res, friction_loss_bilevel, μs)\n",
    "    J = DiffResults.value(fric_res)\n",
    "    gJ = DiffResults.gradient(fric_res)\n",
    "    c = []\n",
    "    gc = []\n",
    "    fail = false\n",
    "    J, c, gJ, gc, fail\n",
    "end\n",
    "\n",
    "μs0 = [1.]\n",
    "lb = zeros(length(μs0))\n",
    "ub = ones(length(μs0))\n",
    "options = Dict{String, Any}()\n",
    "options[\"Derivative option\"] = 1\n",
    "options[\"Verify level\"] = -1\n",
    "options[\"Major optimality tolerance\"] = 1e-6\n",
    "\n",
    "# call it once to compile\n",
    "friction_fn_bilevel(μs0)\n",
    "\n",
    "@time μsopt, fopt, info = snopt(friction_fn_bilevel, μs0, lb, ub, options, num_ineq=0, num_eq=0)\n",
    "\n",
    "display(info)\n",
    "display(μsopt)"
   ]
  },
  {
   "cell_type": "code",
   "execution_count": 190,
   "metadata": {
    "collapsed": false
   },
   "outputs": [
    {
     "data": {
      "text/plain": [
       "39"
      ]
     },
     "execution_count": 190,
     "metadata": {},
     "output_type": "execute_result"
    }
   ],
   "source": [
    "l_contact_params"
   ]
  },
  {
   "cell_type": "code",
   "execution_count": null,
   "metadata": {
    "collapsed": true
   },
   "outputs": [],
   "source": [
    "@time μsopt, fopt, info = snopt(friction_fn_bilevel, μs0, lb, ub, options, num_ineq=0, num_eq=0)"
   ]
  },
  {
   "cell_type": "code",
   "execution_count": 186,
   "metadata": {
    "collapsed": false
   },
   "outputs": [
    {
     "ename": "InterruptException",
     "evalue": "InterruptException:",
     "output_type": "error",
     "traceback": [
      "InterruptException:",
      "",
      "Stacktrace:",
      " [1] _totuple at ./tuple.jl:261 [inlined]",
      " [2] Type at ./tuple.jl:243 [inlined]",
      " [3] svd(::Array{ForwardDiff.Dual{ForwardDiff.Tag{typeof(friction_loss_bilevel),Float64},Float64,1},2}) at /home/blandry/.julia/dev/Bilevel/src/svd.jl:41",
      " [4] #auglag_solve#6(::Float64, ::Bool, ::Int64, ::Int64, ::Function, ::Array{Float64,1}, ::Array{Float64,1}, ::Array{Float64,1}, ::getfield(Bilevel, Symbol(\"##32#35\")){Bilevel.SimData}, ::getfield(Bilevel, Symbol(\"##33#36\")){Float64,Bilevel.SimData,Array{Float64,1},Array{Float64,2},Array{Tuple{Transform3D{Float64},Transform3D{Float64}},1},Array{GeometricJacobian{Array{Float64,2}},1},Array{Union{Nothing, GeometricJacobian{Array{Float64,2}}},1},Array{Float64,1},Array{Float64,1}}, ::getfield(Bilevel, Symbol(\"##34#37\")){Bilevel.SimData,Array{Float64,2}}) at /home/blandry/.julia/dev/Bilevel/src/auglag.jl:101",
      " [5] #auglag_solve at ./none:0 [inlined]",
      " [6] #solve_implicit_contact_τ#31 at /home/blandry/.julia/dev/Bilevel/src/contact.jl:191 [inlined]",
      " [7] (::getfield(Bilevel, Symbol(\"#kw##solve_implicit_contact_τ\")))(::NamedTuple{(:ip_method, :in_place, :comp_scale, :num_fosteps, :num_sosteps),Tuple{Bool,Bool,Float64,Int64,Int64}}, ::typeof(solve_implicit_contact_τ), ::Bilevel.SimData, ::Array{Float64,1}, ::Array{Float64,2}, ::Array{Tuple{Transform3D{Float64},Transform3D{Float64}},1}, ::Array{GeometricJacobian{Array{Float64,2}},1}, ::Array{Union{Nothing, GeometricJacobian{Array{Float64,2}}},1}, ::Array{Float64,1}, ::Array{Float64,1}, ::Array{Float64,1}, ::Array{Float64,1}, ::Array{Float64,1}) at ./none:0",
      " [8] macro expansion at ./In[185]:56 [inlined]",
      " [9] (::getfield(Main, Symbol(\"##1517#threadsfor_fun#101\")){Array{ForwardDiff.Dual{ForwardDiff.Tag{typeof(friction_loss_bilevel),Float64},Float64,1},1},UnitRange{Int64}})(::Bool) at ./threadingconstructs.jl:64",
      " [10] macro expansion at ./threadingconstructs.jl:71 [inlined]",
      " [11] friction_loss_bilevel(::Array{ForwardDiff.Dual{ForwardDiff.Tag{typeof(friction_loss_bilevel),Float64},Float64,1},1}) at ./In[185]:54",
      " [12] vector_mode_gradient!(::DiffResults.MutableDiffResult{1,Float64,Tuple{Array{Float64,1}}}, ::typeof(friction_loss_bilevel), ::Array{Float64,1}, ::ForwardDiff.GradientConfig{ForwardDiff.Tag{typeof(friction_loss_bilevel),Float64},Float64,1,Array{ForwardDiff.Dual{ForwardDiff.Tag{typeof(friction_loss_bilevel),Float64},Float64,1},1}}) at /home/blandry/.julia/packages/ForwardDiff/okZnq/src/apiutils.jl:35",
      " [13] gradient! at /home/blandry/.julia/packages/ForwardDiff/okZnq/src/gradient.jl:35 [inlined]",
      " [14] gradient!(::DiffResults.MutableDiffResult{1,Float64,Tuple{Array{Float64,1}}}, ::typeof(friction_loss_bilevel), ::Array{Float64,1}, ::ForwardDiff.GradientConfig{ForwardDiff.Tag{typeof(friction_loss_bilevel),Float64},Float64,1,Array{ForwardDiff.Dual{ForwardDiff.Tag{typeof(friction_loss_bilevel),Float64},Float64,1},1}}) at /home/blandry/.julia/packages/ForwardDiff/okZnq/src/gradient.jl:33 (repeats 2 times)",
      " [15] friction_fn_bilevel(::Array{Float64,1}) at ./In[185]:71",
      " [16] objcon_wrapper(::Ptr{Int64}, ::Int64, ::Ptr{Float64}, ::Int64, ::Int64, ::Ptr{Float64}, ::Int64, ::Int64, ::Ptr{Float64}, ::Ptr{Int8}, ::Int64, ::Ptr{Int64}, ::Int64, ::Ptr{Float64}, ::Int64) at /home/blandry/.julia/dev/Bilevel/src/snopt.jl:65",
      " [17] #snopt#18(::String, ::String, ::Int64, ::Int64, ::Function, ::typeof(friction_fn_bilevel), ::Array{Float64,1}, ::Array{Float64,1}, ::Array{Float64,1}, ::Dict{String,Any}) at /home/blandry/.julia/dev/Bilevel/src/snopt.jl:335",
      " [18] (::getfield(Bilevel, Symbol(\"#kw##snopt\")))(::NamedTuple{(:num_ineq, :num_eq),Tuple{Int64,Int64}}, ::typeof(snopt), ::Function, ::Array{Float64,1}, ::Array{Float64,1}, ::Array{Float64,1}, ::Dict{String,Any}) at ./none:0",
      " [19] ##core#469() at /home/blandry/.julia/packages/BenchmarkTools/mVOqg/src/execution.jl:297",
      " [20] ##sample#470(::BenchmarkTools.Parameters) at /home/blandry/.julia/packages/BenchmarkTools/mVOqg/src/execution.jl:303",
      " [21] #_run#102(::Bool, ::String, ::Base.Iterators.Pairs{Symbol,Integer,NTuple{4,Symbol},NamedTuple{(:samples, :evals, :gctrial, :gcsample),Tuple{Int64,Int64,Bool,Bool}}}, ::Function, ::BenchmarkTools.Benchmark{Symbol(\"##benchmark#468\")}, ::BenchmarkTools.Parameters) at /home/blandry/.julia/packages/BenchmarkTools/mVOqg/src/execution.jl:331",
      " [22] (::getfield(Base, Symbol(\"#inner#2\")){Base.Iterators.Pairs{Symbol,Integer,NTuple{5,Symbol},NamedTuple{(:verbose, :samples, :evals, :gctrial, :gcsample),Tuple{Bool,Int64,Int64,Bool,Bool}}},typeof(BenchmarkTools._run),Tuple{BenchmarkTools.Benchmark{Symbol(\"##benchmark#468\")},BenchmarkTools.Parameters}})() at ./none:0",
      " [23] #invokelatest#1 at ./essentials.jl:695 [inlined]",
      " [24] #invokelatest at ./none:0 [inlined]",
      " [25] #run_result#19 at /home/blandry/.julia/packages/BenchmarkTools/mVOqg/src/execution.jl:32 [inlined]",
      " [26] #run_result at ./none:0 [inlined]",
      " [27] #run#21(::Base.Iterators.Pairs{Symbol,Integer,NTuple{5,Symbol},NamedTuple{(:verbose, :samples, :evals, :gctrial, :gcsample),Tuple{Bool,Int64,Int64,Bool,Bool}}}, ::Function, ::BenchmarkTools.Benchmark{Symbol(\"##benchmark#468\")}, ::BenchmarkTools.Parameters) at /home/blandry/.julia/packages/BenchmarkTools/mVOqg/src/execution.jl:46",
      " [28] warmup(::BenchmarkTools.Benchmark{Symbol(\"##benchmark#468\")}) at ./none:0",
      " [29] top-level scope at /home/blandry/.julia/packages/BenchmarkTools/mVOqg/src/execution.jl:213",
      " [30] top-level scope at In[186]:1"
     ]
    }
   ],
   "source": [
    "@benchmark μsopt, fopt, info = snopt(friction_fn_bilevel, μs0, lb, ub, options, num_ineq=0, num_eq=0)"
   ]
  },
  {
   "cell_type": "code",
   "execution_count": 152,
   "metadata": {
    "collapsed": false,
    "scrolled": true
   },
   "outputs": [
    {
     "data": {
      "text/plain": [
       "2019-02-01T18:52:49.395"
      ]
     },
     "metadata": {},
     "output_type": "display_data"
    },
    {
     "data": {
      "text/plain": [
       "\"The problem appears to be infeasible: nonlinear infeasibilities minimized\""
      ]
     },
     "metadata": {},
     "output_type": "display_data"
    },
    {
     "data": {
      "text/plain": [
       "1225-element Array{Float64,1}:\n",
       "  0.15000000004990155   \n",
       "  0.0                   \n",
       "  2.63250271717622e-16  \n",
       "  0.014040714810019927  \n",
       "  2.220446046601255e-16 \n",
       "  1.0240708766068842    \n",
       "  0.09360476536899329   \n",
       "  0.0                   \n",
       "  2.5592110159300306e-16\n",
       "  0.019035979278248887  \n",
       " -2.6066488663398937e-25\n",
       "  1.0240122886328287    \n",
       "  0.12690652847944164   \n",
       "  ⋮                     \n",
       "  6.383828990907877e-16 \n",
       "  1.2628739036434997e-15\n",
       "  1.981667338929835e-13 \n",
       "  1.2628734057851638e-15\n",
       "  0.08791764576595533   \n",
       "  1.4855716532829987e-12\n",
       "  1.1102035738775592e-16\n",
       " -1.4711655825087802e-14\n",
       "  1.3907279337225076e-14\n",
       "  3.3306690590371853e-16\n",
       "  0.3531556807694395    \n",
       "  0.0                   "
      ]
     },
     "metadata": {},
     "output_type": "display_data"
    },
    {
     "name": "stdout",
     "output_type": "stream",
     "text": [
      "3271.737458 seconds (80.05 G allocations: 2.825 TiB, 8.29% gc time)\n"
     ]
    },
    {
     "name": "stderr",
     "output_type": "stream",
     "text": [
      "WARNING: Base.now is deprecated: it has been moved to the standard library package `Dates`.\n",
      "Add `using Dates` to your imports.\n",
      "  likely near /home/blandry/.julia/packages/IJulia/GIANC/src/kernel.jl:41\n"
     ]
    }
   ],
   "source": [
    "# regressing with a single large NLP for comparison on time efficiency\n",
    "\n",
    "# portion of the traj we will use for parameter regression\n",
    "regression_indx_raw = collect(first_sample:last_sample)\n",
    "\n",
    "# pre-computing some of the transforms needed for the regression\n",
    "regression_indx = []\n",
    "contact_params = []\n",
    "for i = 1:length(regression_indx_raw)\n",
    "    q0 = sim_traj[1:sim_data.num_q,regression_indx_raw[i]]\n",
    "    v0 = sim_traj[sim_data.num_q+1:sim_data.num_q+sim_data.num_v,regression_indx_raw[i]]\n",
    "    u0 = sim_traj_u[:,regression_indx_raw[i]]\n",
    "    qnext = sim_traj[1:sim_data.num_q,regression_indx_raw[i]+1]\n",
    "    vnext = sim_traj[sim_data.num_q+1:sim_data.num_q+sim_data.num_v,regression_indx_raw[i]+1]\n",
    "    cp = compute_contact_params(sim_data,q0,v0,u0,qnext,vnext)\n",
    "    # only use datapoints where the contact points were active\n",
    "    if all(cp.ϕs[1:4] .< 1e-8)\n",
    "        push!(regression_indx, regression_indx_raw[i])\n",
    "        push!(contact_params, cp)\n",
    "    end\n",
    "end\n",
    "l_contact_params = length(contact_params)\n",
    "\n",
    "num_dyn = sim_data.num_v\n",
    "num_comp = sim_data.num_contacts*(2+sim_data.β_dim)\n",
    "num_pos = sim_data.num_contacts*(1+sim_data.β_dim) + 2*sim_data.num_contacts*(2+sim_data.β_dim)\n",
    "function friction_loss(μsx::AbstractArray{T}) where T\n",
    "    sim_data.μs[1:5] .= μsx[1]\n",
    "    xall = reshape(μsx[2:end],sim_data.num_contacts*(2+sim_data.β_dim),l_contact_params)\n",
    "    eq_con = zeros(T,l_contact_params*(num_comp+num_dyn))\n",
    "    ineq_con = zeros(T,l_contact_params*num_pos)\n",
    "    \n",
    "    J = 0.\n",
    "    for i = 1:l_contact_params\n",
    "        cp = contact_params[i]\n",
    "        x̃ = xall[:,i]\n",
    "        d = Bilevel.dynamics_contact_constraints(x̃,cp.rel_transforms,cp.geo_jacobians,cp.geo_jacobians_surfaces,cp.HΔv,cp.bias,sim_data)\n",
    "        c = 1000. * Bilevel.complementarity_contact_constraints(x̃,cp.ϕs,cp.Dtv,sim_data)\n",
    "        p = Bilevel.pos_contact_constraints(x̃,cp.Dtv,sim_data)\n",
    "    \n",
    "        J += (d[1:6]'*d[1:6])/l_contact_params\n",
    "        eq_con[(i-1)*(num_comp+num_dyn)+1:i*(num_comp+num_dyn)] = vcat(c,d)\n",
    "        ineq_con[(i-1)*num_pos+1:i*num_pos] = p\n",
    "    end\n",
    "    \n",
    "    vcat(J,eq_con,ineq_con)\n",
    "end\n",
    "\n",
    "μxtmp = zeros(1+sim_data.num_contacts*(2+sim_data.β_dim)*l_contact_params)\n",
    "fric_res = DiffResults.JacobianResult(friction_loss(μxtmp),μxtmp)\n",
    "function friction_fn(μsx)\n",
    "    ForwardDiff.jacobian!(fric_res, friction_loss, μsx)\n",
    "    val = DiffResults.value(fric_res)\n",
    "    grad = DiffResults.gradient(fric_res)\n",
    "    \n",
    "    J = val[1]\n",
    "    c_eq = val[1+1:1+l_contact_params*(num_comp+num_dyn)]\n",
    "    c_ineq = val[1+l_contact_params*(num_comp+num_dyn)+1:1+l_contact_params*(num_comp+num_dyn)+l_contact_params*num_pos]\n",
    "    \n",
    "    gJ = grad[1,:]\n",
    "    gc_eq = grad[1+1:1+l_contact_params*(num_comp+num_dyn),:]\n",
    "    gc_ineq = grad[1+l_contact_params*(num_comp+num_dyn)+1:1+l_contact_params*(num_comp+num_dyn)+l_contact_params*num_pos,:]\n",
    "    \n",
    "    fail = false\n",
    "    \n",
    "    J, c_ineq, c_eq, gJ, gc_ineq, gc_eq, fail\n",
    "end\n",
    "\n",
    "μsx0 = vcat(1.,zeros(sim_data.num_contacts*(2+sim_data.β_dim)*l_contact_params))\n",
    "lb = zeros(length(μsx0))\n",
    "ub = 100. * ones(length(μsx0))\n",
    "ub[1] = 1.\n",
    "options = Dict{String, Any}()\n",
    "options[\"Derivative option\"] = 1\n",
    "options[\"Verify level\"] = -1\n",
    "options[\"Major optimality tolerance\"] = 1e-6\n",
    "options[\"Iterations limit\"] = 50000\n",
    "options[\"Major iterations limit\"] = 10000\n",
    "\n",
    "# call it once to compile\n",
    "friction_fn(μsx0)\n",
    "\n",
    "display(now())\n",
    "@time μsxopt, fopt, info = snopt(friction_fn, μsx0, lb, ub, options)\n",
    "\n",
    "display(info)\n",
    "display(μsxopt)"
   ]
  },
  {
   "cell_type": "code",
   "execution_count": 146,
   "metadata": {
    "collapsed": false
   },
   "outputs": [
    {
     "data": {
      "text/plain": [
       "829"
      ]
     },
     "execution_count": 146,
     "metadata": {},
     "output_type": "execute_result"
    }
   ],
   "source": [
    "length(μsx0)"
   ]
  },
  {
   "cell_type": "code",
   "execution_count": null,
   "metadata": {
    "collapsed": true
   },
   "outputs": [],
   "source": [
    "@time μsxopt, fopt, info = snopt(friction_fn, μsx0, lb, ub, options)"
   ]
  },
  {
   "cell_type": "code",
   "execution_count": 154,
   "metadata": {
    "collapsed": false
   },
   "outputs": [
    {
     "data": {
      "text/plain": [
       "BenchmarkTools.Trial: \n",
       "  memory estimate:  3.99 GiB\n",
       "  allocs estimate:  58799350\n",
       "  --------------\n",
       "  minimum time:     3.475 s (0.00% GC)\n",
       "  median time:      3.518 s (0.00% GC)\n",
       "  mean time:        3.518 s (0.00% GC)\n",
       "  maximum time:     3.560 s (0.00% GC)\n",
       "  --------------\n",
       "  samples:          2\n",
       "  evals/sample:     1"
      ]
     },
     "execution_count": 154,
     "metadata": {},
     "output_type": "execute_result"
    }
   ],
   "source": [
    "@benchmark μsxopt, fopt, info = snopt(friction_fn, μsx0, lb, ub, options)"
   ]
  },
  {
   "cell_type": "code",
   "execution_count": null,
   "metadata": {
    "collapsed": true
   },
   "outputs": [],
   "source": [
    "Profile.clear()\n",
    "@profile μsopt, fopt, info = snopt(friction_fn_bilevel, μs0, lb, ub, options, num_ineq=0, num_eq=0)\n",
    "ProfileView.view()"
   ]
  },
  {
   "cell_type": "code",
   "execution_count": null,
   "metadata": {
    "collapsed": true
   },
   "outputs": [],
   "source": [
    "# (optional) adding some noise - none in the results reported\n",
    "q_noise_stddev = 0.001*(maximum(abs.(sim_traj[1:sim_data.num_q,:])))\n",
    "v_noise_stddev = 0.001*(maximum(abs.(sim_traj[sim_data.num_q+1:sim_data.num_q+sim_data.num_v,:])))\n",
    "sim_traj[1:sim_data.num_q,:] += randn(sim_data.num_q,N)*q_noise_stddev\n",
    "sim_traj[sim_data.num_q+1:sim_data.num_q+sim_data.num_v,:] += randn(sim_data.num_v,N)*v_noise_stddev"
   ]
  },
  {
   "cell_type": "code",
   "execution_count": null,
   "metadata": {
    "collapsed": true,
    "scrolled": true
   },
   "outputs": [],
   "source": [
    "# regressing a simple ball simulation with one point of contact (toy example to debug as needed)\n",
    "\n",
    "urdf = joinpath(\"..\", \"urdf\", \"ball.urdf\")\n",
    "mechanism = parse_urdf(Float64, urdf)\n",
    "body = findbody(mechanism, \"ball\")\n",
    "basejoint = joint_to_parent(body, mechanism)\n",
    "floatingjoint = Joint(basejoint.name, frame_before(basejoint), frame_after(basejoint), QuaternionFloating{Float64}())\n",
    "replace_joint!(mechanism, basejoint, floatingjoint)\n",
    "position_bounds(floatingjoint) .= RigidBodyDynamics.Bounds(-100, 100)\n",
    "velocity_bounds(floatingjoint) .= RigidBodyDynamics.Bounds(-100, 100)\n",
    "μ = 0.34\n",
    "motion_type = :xyz \n",
    "floor_body = findbody(mechanism, \"floor\")\n",
    "point = Point3D(default_frame(floor_body), [0.,0.,0.])\n",
    "normal = FreeVector3D(default_frame(floor_body), [0.,0.,1.])\n",
    "hs = HalfSpace(point, normal)\n",
    "floor = Obstacle(hs, μ, motion_type, floor_body)\n",
    "obstacles = [floor]\n",
    "env = parse_contacts(mechanism, urdf, obstacles)\n",
    "x0 = MechanismState(mechanism)\n",
    "Δt = 0.005\n",
    "sim_data = get_sim_data(mechanism,env,Δt,false);\n",
    "\n",
    "N = 100\n",
    "q0 = [1., 0., 0., 0., 0., 0., 0.]\n",
    "v0 = [0., 0., 0., 5., 0., 0.]\n",
    "\n",
    "u0 = zeros(sim_data.num_v)\n",
    "set_configuration!(x0, q0)\n",
    "set_velocity!(x0, v0)\n",
    "setdirty!(x0)\n",
    "ctrl! = (u,t,x) -> u[:] .= 0.\n",
    "traj = Bilevel.simulate_snopt(sim_data,ctrl!,x0,N);"
   ]
  },
  {
   "cell_type": "code",
   "execution_count": null,
   "metadata": {
    "collapsed": true
   },
   "outputs": [],
   "source": [
    "function friction_loss_toy(μs)\n",
    "    sim_data.μs[:] = μs[:]\n",
    "    \n",
    "    loss = 0.\n",
    "    for i = 1:N-1\n",
    "        q0 = traj[1:sim_data.num_q,i]\n",
    "        v0 = traj[sim_data.num_q+1:sim_data.num_q+sim_data.num_v,i]\n",
    "        qnext = traj[1:sim_data.num_q,i+1]\n",
    "        vnext = traj[sim_data.num_q+1:sim_data.num_q+sim_data.num_v,i+1]\n",
    "        τ, x, d = solve_implicit_contact_τ(sim_data,q0,v0,u0,qnext,vnext,ip_method=false,in_place=true) \n",
    "        loss += d'*d \n",
    "    end\n",
    "    \n",
    "    loss\n",
    "end\n",
    "\n",
    "fric_res = DiffResults.GradientResult(zeros(sim_data.num_contacts))\n",
    "function friction_fn_toy(μs)\n",
    "    ForwardDiff.gradient!(fric_res, friction_loss_toy, μs)\n",
    "    J = DiffResults.value(fric_res)\n",
    "    gJ = DiffResults.gradient(fric_res)\n",
    "    \n",
    "    c = []\n",
    "    gc = []\n",
    "    \n",
    "    fail = false\n",
    "    \n",
    "    J, c, gJ, gc, fail\n",
    "end\n",
    "\n",
    "μs0 = [1.]\n",
    "lb = zeros(length(μs0))\n",
    "ub = ones(length(μs0))\n",
    "options = Dict{String, Any}()\n",
    "options[\"Derivative option\"] = 1\n",
    "options[\"Verify level\"] = -1\n",
    "options[\"Major optimality tolerance\"] = 1e-6\n",
    "\n",
    "μsopt, fopt, info = snopt(friction_fn_toy, μs0, lb, ub, options)\n",
    "\n",
    "display(info)\n",
    "display(μsopt)"
   ]
  }
 ],
 "metadata": {
  "kernelspec": {
   "display_name": "Julia 0.7.0",
   "language": "julia",
   "name": "julia-0.7"
  },
  "language_info": {
   "file_extension": ".jl",
   "mimetype": "application/julia",
   "name": "julia",
   "version": "0.7.0"
  }
 },
 "nbformat": 4,
 "nbformat_minor": 2
}
