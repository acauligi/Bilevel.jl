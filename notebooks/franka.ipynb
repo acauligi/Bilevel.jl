{
 "cells": [
  {
   "cell_type": "code",
   "execution_count": 1,
   "metadata": {
    "collapsed": false
   },
   "outputs": [
    {
     "data": {
      "text/html": [
       "    <script class='js-collapse-script'>\n",
       "        var curMatch =\n",
       "            window.location.href\n",
       "            .match(/(.*?)\\/notebooks\\/.*\\.ipynb/);\n",
       "\n",
       "        curMatch = curMatch ||\n",
       "            window.location.href\n",
       "            .match(/(.*?)\\/apps\\/.*\\.ipynb/);\n",
       "\n",
       "        if ( curMatch ) {\n",
       "            $('head').append('<base href=\"' + curMatch[1] + '/\">');\n",
       "        }\n",
       "    </script>\n"
      ],
      "text/plain": [
       "HTML{String}(\"    <script class='js-collapse-script'>\\n        var curMatch =\\n            window.location.href\\n            .match(/(.*?)\\\\/notebooks\\\\/.*\\\\.ipynb/);\\n\\n        curMatch = curMatch ||\\n            window.location.href\\n            .match(/(.*?)\\\\/apps\\\\/.*\\\\.ipynb/);\\n\\n        if ( curMatch ) {\\n            \\$('head').append('<base href=\\\"' + curMatch[1] + '/\\\">');\\n        }\\n    </script>\\n\")"
      ]
     },
     "metadata": {},
     "output_type": "display_data"
    },
    {
     "data": {
      "text/html": [
       "<script class='js-collapse-script' src='/assetserver/8c8a043c2f00369f3e7ae550277d2a54e59a34ad-assets/webio/dist/bundle.js'></script>"
      ],
      "text/plain": [
       "HTML{String}(\"<script class='js-collapse-script' src='/assetserver/8c8a043c2f00369f3e7ae550277d2a54e59a34ad-assets/webio/dist/bundle.js'></script>\")"
      ]
     },
     "metadata": {},
     "output_type": "display_data"
    },
    {
     "data": {
      "text/html": [
       "<script class='js-collapse-script' src='/assetserver/8c8a043c2f00369f3e7ae550277d2a54e59a34ad-assets/providers/ijulia_setup.js'></script>"
      ],
      "text/plain": [
       "HTML{String}(\"<script class='js-collapse-script' src='/assetserver/8c8a043c2f00369f3e7ae550277d2a54e59a34ad-assets/providers/ijulia_setup.js'></script>\")"
      ]
     },
     "metadata": {},
     "output_type": "display_data"
    },
    {
     "data": {
      "text/html": [
       "  <script class='js-collapse-script'>\n",
       "    $('.js-collapse-script').parent('.output_subarea').css('padding', '0');\n",
       "  </script>\n"
      ],
      "text/plain": [
       "HTML{String}(\"  <script class='js-collapse-script'>\\n    \\$('.js-collapse-script').parent('.output_subarea').css('padding', '0');\\n  </script>\\n\")"
      ]
     },
     "metadata": {},
     "output_type": "display_data"
    }
   ],
   "source": [
    "using Revise\n",
    "using RigidBodyDynamics\n",
    "using DrakeVisualizer\n",
    "using Plots\n",
    "using RigidBodyTreeInspector"
   ]
  },
  {
   "cell_type": "code",
   "execution_count": 2,
   "metadata": {
    "collapsed": false
   },
   "outputs": [
    {
     "data": {
      "text/plain": [
       "MechanismState{Float64, Float64, Float64, …}(…)"
      ]
     },
     "execution_count": 2,
     "metadata": {},
     "output_type": "execute_result"
    }
   ],
   "source": [
    "urdf = joinpath(\"..\", \"urdf\", \"panda\", \"panda_arm.urdf\")\n",
    "mechanism = parse_urdf(Float64, urdf)\n",
    "state = MechanismState(mechanism)\n",
    "# set_velocity!(state,[0.,0.,0.,0.,0.,0.,1.])"
   ]
  },
  {
   "cell_type": "code",
   "execution_count": 3,
   "metadata": {
    "collapsed": true
   },
   "outputs": [],
   "source": [
    "ts, qs, vs = simulate(state, .1, Δt = 1e-3);"
   ]
  },
  {
   "cell_type": "code",
   "execution_count": 4,
   "metadata": {
    "collapsed": false
   },
   "outputs": [
    {
     "data": {
      "text/plain": [
       "101-element Array{RigidBodyDynamics.CustomCollections.SegmentedVector{RigidBodyDynamics.JointID,Float64,Base.OneTo{RigidBodyDynamics.JointID},Array{Float64,1}},1}:\n",
       " [0.0, 0.0, 0.0, 0.0, 0.0, 0.0, 0.0]                                                           \n",
       " [-9.15686e-18, 2.47971e-6, -1.22611e-17, 4.70615e-6, 9.74345e-18, -3.07768e-6, 1.6778e-17]    \n",
       " [-3.66267e-17, 9.91889e-6, -4.90462e-17, 1.88247e-5, 3.89744e-17, -1.23107e-5, 6.71116e-17]   \n",
       " [-8.24071e-17, 2.23177e-5, -1.10361e-16, 4.23558e-5, 8.76945e-17, -2.76993e-5, 1.51e-16]      \n",
       " [-1.46494e-16, 3.96763e-5, -1.96216e-16, 7.53e-5, 1.55907e-16, -4.92434e-5, 2.68443e-16]      \n",
       " [-2.28883e-16, 6.19949e-5, -3.06624e-16, 0.000117658, 2.43615e-16, -7.69433e-5, 4.19439e-16]  \n",
       " [-3.29565e-16, 8.92741e-5, -4.41603e-16, 0.00016943, 3.50826e-16, -0.000110799, 6.03985e-16]  \n",
       " [-4.48533e-16, 0.000121514, -6.01174e-16, 0.000230617, 4.77544e-16, -0.000150812, 8.2208e-16] \n",
       " [-5.85777e-16, 0.000158716, -7.85363e-16, 0.00030122, 6.23777e-16, -0.000196981, 1.07372e-15] \n",
       " [-7.41285e-16, 0.00020088, -9.94199e-16, 0.00038124, 7.89535e-16, -0.000249307, 1.35891e-15]  \n",
       " [-9.15043e-16, 0.000248006, -1.22771e-15, 0.000470679, 9.74828e-16, -0.000307791, 1.67763e-15]\n",
       " [-1.10704e-15, 0.000300097, -1.48595e-15, 0.000569537, 1.17967e-15, -0.000372433, 2.02989e-15]\n",
       " [-1.31725e-15, 0.000357151, -1.76894e-15, 0.000677818, 1.40406e-15, -0.000443233, 2.41568e-15]\n",
       " ⋮                                                                                             \n",
       " [-6.84564e-14, 0.0198616, -1.07269e-13, 0.0376742, 8.01466e-14, -0.024521, 1.31765e-13]       \n",
       " [-6.99095e-14, 0.0203155, -1.09925e-13, 0.0385346, 8.20237e-14, -0.0250784, 1.34715e-13]      \n",
       " [-7.13747e-14, 0.0207746, -1.12622e-13, 0.039405, 8.39246e-14, -0.0256421, 1.37696e-13]       \n",
       " [-7.28517e-14, 0.0212391, -1.15359e-13, 0.0402855, 8.58493e-14, -0.0262122, 1.40709e-13]      \n",
       " [-7.43405e-14, 0.0217089, -1.18137e-13, 0.041176, 8.7798e-14, -0.0267887, 1.43753e-13]        \n",
       " [-7.5841e-14, 0.0221839, -1.20956e-13, 0.0420766, 8.97707e-14, -0.0273715, 1.46829e-13]       \n",
       " [-7.73529e-14, 0.0226644, -1.23816e-13, 0.0429872, 9.17676e-14, -0.0279608, 1.49936e-13]      \n",
       " [-7.88762e-14, 0.0231501, -1.26718e-13, 0.0439079, 9.37886e-14, -0.0285564, 1.53074e-13]      \n",
       " [-8.04107e-14, 0.0236412, -1.29662e-13, 0.0448388, 9.58339e-14, -0.0291585, 1.56244e-13]      \n",
       " [-8.19562e-14, 0.0241376, -1.32649e-13, 0.0457797, 9.79036e-14, -0.0297669, 1.59445e-13]      \n",
       " [-8.35127e-14, 0.0246394, -1.35678e-13, 0.0467307, 9.99977e-14, -0.0303818, 1.62677e-13]      \n",
       " [-8.50799e-14, 0.0251466, -1.3875e-13, 0.0476919, 1.02116e-13, -0.031003, 1.6594e-13]         "
      ]
     },
     "execution_count": 4,
     "metadata": {},
     "output_type": "execute_result"
    }
   ],
   "source": [
    "qs"
   ]
  },
  {
   "cell_type": "code",
   "execution_count": 5,
   "metadata": {
    "collapsed": false
   },
   "outputs": [],
   "source": [
    "DrakeVisualizer.any_open_windows() || (DrakeVisualizer.new_window(); sleep(1));\n",
    "geometries = visual_elements(mechanism, URDFVisuals(urdf))\n",
    "vis = Visualizer(mechanism, geometries);"
   ]
  },
  {
   "cell_type": "code",
   "execution_count": 6,
   "metadata": {
    "collapsed": false
   },
   "outputs": [],
   "source": [
    "RigidBodyTreeInspector.animate(vis, mechanism, ts, qs; realtimerate = .5);"
   ]
  }
 ],
 "metadata": {
  "kernelspec": {
   "display_name": "Julia 0.6.4",
   "language": "julia",
   "name": "julia-0.6"
  },
  "language_info": {
   "file_extension": ".jl",
   "mimetype": "application/julia",
   "name": "julia",
   "version": "0.6.4"
  }
 },
 "nbformat": 4,
 "nbformat_minor": 2
}
