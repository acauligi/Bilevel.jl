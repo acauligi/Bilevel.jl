{
 "cells": [
  {
   "cell_type": "code",
   "execution_count": 1,
   "metadata": {
    "collapsed": false
   },
   "outputs": [
    {
     "data": {
      "text/html": [
       "    <script class='js-collapse-script'>\n",
       "        var curMatch =\n",
       "            window.location.href\n",
       "            .match(/(.*?)\\/notebooks\\/.*\\.ipynb/);\n",
       "\n",
       "        curMatch = curMatch ||\n",
       "            window.location.href\n",
       "            .match(/(.*?)\\/apps\\/.*\\.ipynb/);\n",
       "\n",
       "        if ( curMatch ) {\n",
       "            $('head').append('<base href=\"' + curMatch[1] + '/\">');\n",
       "        }\n",
       "    </script>\n"
      ],
      "text/plain": [
       "HTML{String}(\"    <script class='js-collapse-script'>\\n        var curMatch =\\n            window.location.href\\n            .match(/(.*?)\\\\/notebooks\\\\/.*\\\\.ipynb/);\\n\\n        curMatch = curMatch ||\\n            window.location.href\\n            .match(/(.*?)\\\\/apps\\\\/.*\\\\.ipynb/);\\n\\n        if ( curMatch ) {\\n            \\$('head').append('<base href=\\\"' + curMatch[1] + '/\\\">');\\n        }\\n    </script>\\n\")"
      ]
     },
     "metadata": {},
     "output_type": "display_data"
    },
    {
     "data": {
      "text/html": [
       "<script class='js-collapse-script' src='/assetserver/8c8a043c2f00369f3e7ae550277d2a54e59a34ad-assets/webio/dist/bundle.js'></script>"
      ],
      "text/plain": [
       "HTML{String}(\"<script class='js-collapse-script' src='/assetserver/8c8a043c2f00369f3e7ae550277d2a54e59a34ad-assets/webio/dist/bundle.js'></script>\")"
      ]
     },
     "metadata": {},
     "output_type": "display_data"
    },
    {
     "data": {
      "text/html": [
       "<script class='js-collapse-script' src='/assetserver/8c8a043c2f00369f3e7ae550277d2a54e59a34ad-assets/providers/ijulia_setup.js'></script>"
      ],
      "text/plain": [
       "HTML{String}(\"<script class='js-collapse-script' src='/assetserver/8c8a043c2f00369f3e7ae550277d2a54e59a34ad-assets/providers/ijulia_setup.js'></script>\")"
      ]
     },
     "metadata": {},
     "output_type": "display_data"
    },
    {
     "data": {
      "text/html": [
       "  <script class='js-collapse-script'>\n",
       "    $('.js-collapse-script').parent('.output_subarea').css('padding', '0');\n",
       "  </script>\n"
      ],
      "text/plain": [
       "HTML{String}(\"  <script class='js-collapse-script'>\\n    \\$('.js-collapse-script').parent('.output_subarea').css('padding', '0');\\n  </script>\\n\")"
      ]
     },
     "metadata": {},
     "output_type": "display_data"
    },
    {
     "name": "stderr",
     "output_type": "stream",
     "text": [
      "WARNING: local variable T conflicts with a static parameter in eval_g at /Users/blandry/.julia/v0.6/BilevelTrajOpt/src/simulation.jl:111.\n"
     ]
    }
   ],
   "source": [
    "using Revise\n",
    "\n",
    "using RigidBodyDynamics\n",
    "using RigidBodyDynamics: Bounds\n",
    "\n",
    "using DrakeVisualizer\n",
    "using Plots\n",
    "using RigidBodyTreeInspector\n",
    "\n",
    "using BilevelTrajOpt\n",
    "gr(size=(500,500), html_output_format=:png);"
   ]
  },
  {
   "cell_type": "code",
   "execution_count": 2,
   "metadata": {
    "collapsed": true
   },
   "outputs": [],
   "source": [
    "urdf = joinpath(\"..\", \"urdf\", \"ball.urdf\")\n",
    "mechanism = parse_urdf(Float64, urdf)\n",
    "body = findbody(mechanism, \"ball\")\n",
    "basejoint = joint_to_parent(body, mechanism)\n",
    "floatingjoint = Joint(basejoint.name, frame_before(basejoint), frame_after(basejoint), QuaternionFloating{Float64}())\n",
    "replace_joint!(mechanism, basejoint, floatingjoint)\n",
    "position_bounds(floatingjoint) .= Bounds(-100, 100)\n",
    "velocity_bounds(floatingjoint) .= Bounds(-100, 100)\n",
    "μ = 0.5\n",
    "motion_type = :xyz\n",
    "point = Point3D(default_frame(findbody(mechanism, \"floor\")), [0.,0.,0.])\n",
    "normal = FreeVector3D(default_frame(findbody(mechanism, \"floor\")), [0.,0.,1.])\n",
    "hs = HalfSpace(point, normal)\n",
    "floor = Obstacle(hs, μ, motion_type)\n",
    "obstacles = [floor]\n",
    "env = parse_contacts(mechanism, urdf, obstacles)\n",
    "x0 = MechanismState(mechanism)\n",
    "Δt = 0.005;"
   ]
  },
  {
   "cell_type": "code",
   "execution_count": 3,
   "metadata": {
    "collapsed": false
   },
   "outputs": [
    {
     "data": {
      "text/plain": [
       "(::#1) (generic function with 1 method)"
      ]
     },
     "execution_count": 3,
     "metadata": {},
     "output_type": "execute_result"
    }
   ],
   "source": [
    "# q0 = [1., 0., 0., 0., 0., 0., 0.005]\n",
    "q0 = [1., 0., 0., 0., 0., 0., 0.]\n",
    "v0 = [0., 0., 0., 0.1, 0. , 0.]\n",
    "N = 10\n",
    "\n",
    "set_configuration!(x0, q0)\n",
    "set_velocity!(x0, v0)\n",
    "setdirty!(x0)\n",
    "\n",
    "ctrl! = (u,t,x) -> u[:] = 0."
   ]
  },
  {
   "cell_type": "code",
   "execution_count": 12,
   "metadata": {
    "collapsed": false
   },
   "outputs": [
    {
     "data": {
      "text/plain": [
       "6-element Array{Float64,1}:\n",
       "  0.0        \n",
       "  0.0        \n",
       "  0.0        \n",
       "  2.47088    \n",
       "  9.29046e-10\n",
       " -8.57412    "
      ]
     },
     "metadata": {},
     "output_type": "display_data"
    },
    {
     "data": {
      "text/plain": [
       "6-element Array{Float64,1}:\n",
       "  0.0        \n",
       "  0.0        \n",
       "  0.0        \n",
       "  2.47088    \n",
       "  9.29046e-10\n",
       " -8.57412    "
      ]
     },
     "metadata": {},
     "output_type": "display_data"
    },
    {
     "name": "stdout",
     "output_type": "stream",
     "text": [
      "Implicit Contacts\n"
     ]
    },
    {
     "data": {
      "text/plain": [
       "6-element Array{Float64,1}:\n",
       "  0.0        \n",
       "  0.0        \n",
       "  0.0        \n",
       "  2.47088    \n",
       "  9.29046e-10\n",
       " -8.57412    "
      ]
     },
     "metadata": {},
     "output_type": "display_data"
    },
    {
     "data": {
      "text/plain": [
       "6-element Array{Float64,1}:\n",
       "  0.0        \n",
       "  0.0        \n",
       "  0.0        \n",
       "  2.47088    \n",
       "  9.29046e-10\n",
       " -8.57412    "
      ]
     },
     "metadata": {},
     "output_type": "display_data"
    },
    {
     "name": "stdout",
     "output_type": "stream",
     "text": [
      "elapsed time: 267.634777646 seconds\n"
     ]
    },
    {
     "data": {
      "text/plain": [
       "6-element Array{Float64,1}:\n",
       "  0.0       \n",
       "  0.0       \n",
       "  0.0       \n",
       "  4.13276   \n",
       "  8.26954e-8\n",
       " -8.95602   "
      ]
     },
     "metadata": {},
     "output_type": "display_data"
    },
    {
     "data": {
      "text/plain": [
       "6-element Array{Float64,1}:\n",
       "  0.0       \n",
       "  0.0       \n",
       "  0.0       \n",
       "  4.13276   \n",
       "  8.26954e-8\n",
       " -8.95602   "
      ]
     },
     "metadata": {},
     "output_type": "display_data"
    },
    {
     "name": "stdout",
     "output_type": "stream",
     "text": [
      "elapsed time: 0.888926993 seconds\n"
     ]
    },
    {
     "data": {
      "text/plain": [
       "6-element Array{Float64,1}:\n",
       "  0.0       \n",
       "  0.0       \n",
       "  0.0       \n",
       "  4.77401   \n",
       "  4.41419e-7\n",
       " -9.62049   "
      ]
     },
     "metadata": {},
     "output_type": "display_data"
    },
    {
     "data": {
      "text/plain": [
       "6-element Array{Float64,1}:\n",
       "  0.0       \n",
       "  0.0       \n",
       "  0.0       \n",
       "  4.77401   \n",
       "  4.41419e-7\n",
       " -9.62049   "
      ]
     },
     "metadata": {},
     "output_type": "display_data"
    },
    {
     "name": "stdout",
     "output_type": "stream",
     "text": [
      "elapsed time: 1.401621515 seconds\n"
     ]
    },
    {
     "data": {
      "text/plain": [
       "6-element Array{Float64,1}:\n",
       "  0.0       \n",
       "  0.0       \n",
       "  0.0       \n",
       "  4.80614   \n",
       "  2.95186e-7\n",
       " -9.66004   "
      ]
     },
     "metadata": {},
     "output_type": "display_data"
    },
    {
     "data": {
      "text/plain": [
       "6-element Array{Float64,1}:\n",
       "  0.0       \n",
       "  0.0       \n",
       "  0.0       \n",
       "  4.80614   \n",
       "  2.95186e-7\n",
       " -9.66004   "
      ]
     },
     "metadata": {},
     "output_type": "display_data"
    },
    {
     "name": "stdout",
     "output_type": "stream",
     "text": [
      "elapsed time: 0.998766441 seconds\n"
     ]
    },
    {
     "data": {
      "text/plain": [
       "6-element Array{Float64,1}:\n",
       "  0.0      \n",
       "  0.0      \n",
       "  0.0      \n",
       "  4.80646  \n",
       "  2.9404e-7\n",
       " -9.66044  "
      ]
     },
     "metadata": {},
     "output_type": "display_data"
    },
    {
     "data": {
      "text/plain": [
       "6-element Array{Float64,1}:\n",
       "  0.0      \n",
       "  0.0      \n",
       "  0.0      \n",
       "  4.80646  \n",
       "  2.9404e-7\n",
       " -9.66044  "
      ]
     },
     "metadata": {},
     "output_type": "display_data"
    },
    {
     "name": "stdout",
     "output_type": "stream",
     "text": [
      "elapsed time: 1.327874301 seconds\n"
     ]
    },
    {
     "data": {
      "text/plain": [
       "6-element Array{Float64,1}:\n",
       "  0.0       \n",
       "  0.0       \n",
       "  0.0       \n",
       "  4.80647   \n",
       "  2.93835e-7\n",
       " -9.66045   "
      ]
     },
     "metadata": {},
     "output_type": "display_data"
    },
    {
     "data": {
      "text/plain": [
       "6-element Array{Float64,1}:\n",
       "  0.0       \n",
       "  0.0       \n",
       "  0.0       \n",
       "  4.80647   \n",
       "  2.93835e-7\n",
       " -9.66045   "
      ]
     },
     "metadata": {},
     "output_type": "display_data"
    },
    {
     "name": "stdout",
     "output_type": "stream",
     "text": [
      "elapsed time: 1.107827554 seconds\n"
     ]
    },
    {
     "data": {
      "text/plain": [
       "6-element Array{Float64,1}:\n",
       "  0.0       \n",
       "  0.0       \n",
       "  0.0       \n",
       "  4.90534   \n",
       "  1.30851e-8\n",
       " -9.81106   "
      ]
     },
     "metadata": {},
     "output_type": "display_data"
    },
    {
     "data": {
      "text/plain": [
       "6-element Array{Float64,1}:\n",
       "  0.0       \n",
       "  0.0       \n",
       "  0.0       \n",
       "  4.90534   \n",
       "  1.30851e-8\n",
       " -9.81106   "
      ]
     },
     "metadata": {},
     "output_type": "display_data"
    },
    {
     "name": "stdout",
     "output_type": "stream",
     "text": [
      "elapsed time: 0.691910739 seconds\n"
     ]
    },
    {
     "data": {
      "text/plain": [
       "6-element Array{Float64,1}:\n",
       "  8.07794e-28\n",
       "  0.0        \n",
       "  1.61559e-27\n",
       "  4.90534    \n",
       "  1.34666e-8 \n",
       " -9.81106    "
      ]
     },
     "metadata": {},
     "output_type": "display_data"
    },
    {
     "data": {
      "text/plain": [
       "6-element Array{Float64,1}:\n",
       "  8.07794e-28\n",
       "  0.0        \n",
       "  1.61559e-27\n",
       "  4.90534    \n",
       "  1.34666e-8 \n",
       " -9.81106    "
      ]
     },
     "metadata": {},
     "output_type": "display_data"
    },
    {
     "name": "stdout",
     "output_type": "stream",
     "text": [
      "elapsed time: 1.138903842 seconds\n"
     ]
    },
    {
     "data": {
      "text/plain": [
       "6-element Array{Float64,1}:\n",
       "  0.0       \n",
       "  0.0       \n",
       "  0.0       \n",
       "  4.90534   \n",
       "  1.30851e-8\n",
       " -9.81106   "
      ]
     },
     "metadata": {},
     "output_type": "display_data"
    },
    {
     "data": {
      "text/plain": [
       "6-element Array{Float64,1}:\n",
       "  0.0       \n",
       "  0.0       \n",
       "  0.0       \n",
       "  4.90534   \n",
       "  1.30851e-8\n",
       " -9.81106   "
      ]
     },
     "metadata": {},
     "output_type": "display_data"
    },
    {
     "name": "stdout",
     "output_type": "stream",
     "text": [
      "elapsed time: 0.696397755 seconds\n"
     ]
    },
    {
     "data": {
      "text/plain": [
       "6-element Array{Float64,1}:\n",
       "  0.0       \n",
       "  0.0       \n",
       "  0.0       \n",
       "  4.90565   \n",
       "  1.58092e-8\n",
       " -9.8113    "
      ]
     },
     "metadata": {},
     "output_type": "display_data"
    },
    {
     "data": {
      "text/plain": [
       "6-element Array{Float64,1}:\n",
       "  0.0       \n",
       "  0.0       \n",
       "  0.0       \n",
       "  4.90565   \n",
       "  1.58092e-8\n",
       " -9.8113    "
      ]
     },
     "metadata": {},
     "output_type": "display_data"
    },
    {
     "name": "stdout",
     "output_type": "stream",
     "text": [
      "elapsed time: 1.116835558 seconds\n"
     ]
    },
    {
     "data": {
      "text/plain": [
       "6-element Array{Float64,1}:\n",
       "  0.0       \n",
       "  0.0       \n",
       "  0.0       \n",
       "  4.90564   \n",
       "  1.42977e-8\n",
       " -9.81129   "
      ]
     },
     "metadata": {},
     "output_type": "display_data"
    },
    {
     "data": {
      "text/plain": [
       "6-element Array{Float64,1}:\n",
       "  0.0       \n",
       "  0.0       \n",
       "  0.0       \n",
       "  4.90564   \n",
       "  1.42977e-8\n",
       " -9.81129   "
      ]
     },
     "metadata": {},
     "output_type": "display_data"
    },
    {
     "name": "stdout",
     "output_type": "stream",
     "text": [
      "elapsed time: 1.097341764 seconds\n"
     ]
    },
    {
     "data": {
      "text/plain": [
       "6-element Array{Float64,1}:\n",
       "  0.0        \n",
       "  0.0        \n",
       " -1.26218e-29\n",
       "  4.9048     \n",
       "  1.88412e-10\n",
       " -9.8096     "
      ]
     },
     "metadata": {},
     "output_type": "display_data"
    },
    {
     "data": {
      "text/plain": [
       "6-element Array{Float64,1}:\n",
       "  0.0        \n",
       "  0.0        \n",
       " -1.26218e-29\n",
       "  4.9048     \n",
       "  1.88412e-10\n",
       " -9.8096     "
      ]
     },
     "metadata": {},
     "output_type": "display_data"
    },
    {
     "name": "stdout",
     "output_type": "stream",
     "text": [
      "elapsed time: 0.689200054 seconds\n"
     ]
    },
    {
     "data": {
      "text/plain": [
       "6-element Array{Float64,1}:\n",
       "  0.0       \n",
       "  0.0       \n",
       "  0.0       \n",
       "  3.33705e-8\n",
       " -2.5119e-8 \n",
       " -4.72373e-5"
      ]
     },
     "metadata": {},
     "output_type": "display_data"
    },
    {
     "data": {
      "text/plain": [
       "6-element Array{Float64,1}:\n",
       "  0.0       \n",
       "  0.0       \n",
       "  0.0       \n",
       "  3.33705e-8\n",
       " -2.5119e-8 \n",
       " -4.72373e-5"
      ]
     },
     "metadata": {},
     "output_type": "display_data"
    },
    {
     "name": "stdout",
     "output_type": "stream",
     "text": [
      "elapsed time: 1.17347282 seconds\n",
      "Solve_Succeeded\n"
     ]
    },
    {
     "data": {
      "text/plain": [
       "6-element Array{Float64,1}:\n",
       "  0.0       \n",
       "  0.0       \n",
       "  0.0       \n",
       "  3.33705e-8\n",
       " -2.5119e-8 \n",
       " -4.72373e-5"
      ]
     },
     "metadata": {},
     "output_type": "display_data"
    },
    {
     "data": {
      "text/plain": [
       "6-element Array{Float64,1}:\n",
       "  0.0       \n",
       "  0.0       \n",
       "  0.0       \n",
       "  3.33705e-8\n",
       " -2.5119e-8 \n",
       " -4.72373e-5"
      ]
     },
     "metadata": {},
     "output_type": "display_data"
    },
    {
     "name": "stdout",
     "output_type": "stream",
     "text": [
      "elapsed time: 0.687264486 seconds\n"
     ]
    },
    {
     "data": {
      "text/plain": [
       "6-element Array{Float64,1}:\n",
       "  0.0       \n",
       "  0.0       \n",
       "  0.0       \n",
       " -8.02329e-6\n",
       " -5.0116e-8 \n",
       " -1.70304e-6"
      ]
     },
     "metadata": {},
     "output_type": "display_data"
    },
    {
     "data": {
      "text/plain": [
       "6-element Array{Float64,1}:\n",
       "  0.0       \n",
       "  0.0       \n",
       "  0.0       \n",
       " -8.02329e-6\n",
       " -5.0116e-8 \n",
       " -1.70304e-6"
      ]
     },
     "metadata": {},
     "output_type": "display_data"
    },
    {
     "name": "stdout",
     "output_type": "stream",
     "text": [
      "elapsed time: 1.107038359 seconds\n"
     ]
    },
    {
     "data": {
      "text/plain": [
       "6-element Array{Float64,1}:\n",
       "  1.61559e-27\n",
       "  0.0        \n",
       "  0.0        \n",
       " -8.03185e-6 \n",
       "  3.57741e-8 \n",
       " -1.24999e-6 "
      ]
     },
     "metadata": {},
     "output_type": "display_data"
    },
    {
     "data": {
      "text/plain": [
       "6-element Array{Float64,1}:\n",
       "  1.61559e-27\n",
       "  0.0        \n",
       "  0.0        \n",
       " -8.03185e-6 \n",
       "  3.57741e-8 \n",
       " -1.24999e-6 "
      ]
     },
     "metadata": {},
     "output_type": "display_data"
    },
    {
     "name": "stdout",
     "output_type": "stream",
     "text": [
      "elapsed time: 1.106993252 seconds\n"
     ]
    },
    {
     "data": {
      "text/plain": [
       "6-element Array{Float64,1}:\n",
       "  0.0       \n",
       "  0.0       \n",
       "  0.0       \n",
       " -8.02839e-6\n",
       " -5.45237e-8\n",
       " -1.20373e-6"
      ]
     },
     "metadata": {},
     "output_type": "display_data"
    },
    {
     "data": {
      "text/plain": [
       "6-element Array{Float64,1}:\n",
       "  0.0       \n",
       "  0.0       \n",
       "  0.0       \n",
       " -8.02839e-6\n",
       " -5.45237e-8\n",
       " -1.20373e-6"
      ]
     },
     "metadata": {},
     "output_type": "display_data"
    },
    {
     "name": "stdout",
     "output_type": "stream",
     "text": [
      "elapsed time: 0.695406952 seconds\n"
     ]
    },
    {
     "data": {
      "text/plain": [
       "6-element Array{Float64,1}:\n",
       "  0.0       \n",
       "  0.0       \n",
       "  0.0       \n",
       " -8.04075e-6\n",
       "  1.39352e-7\n",
       " -1.09704e-6"
      ]
     },
     "metadata": {},
     "output_type": "display_data"
    },
    {
     "data": {
      "text/plain": [
       "6-element Array{Float64,1}:\n",
       "  0.0       \n",
       "  0.0       \n",
       "  0.0       \n",
       " -8.04075e-6\n",
       "  1.39352e-7\n",
       " -1.09704e-6"
      ]
     },
     "metadata": {},
     "output_type": "display_data"
    },
    {
     "name": "stdout",
     "output_type": "stream",
     "text": [
      "elapsed time: 1.17515017 seconds\n"
     ]
    },
    {
     "data": {
      "text/plain": [
       "6-element Array{Float64,1}:\n",
       "  0.0       \n",
       "  0.0       \n",
       "  0.0       \n",
       " -8.04326e-6\n",
       " -1.5349e-8 \n",
       " -1.58261e-7"
      ]
     },
     "metadata": {},
     "output_type": "display_data"
    },
    {
     "data": {
      "text/plain": [
       "6-element Array{Float64,1}:\n",
       "  0.0       \n",
       "  0.0       \n",
       "  0.0       \n",
       " -8.04326e-6\n",
       " -1.5349e-8 \n",
       " -1.58261e-7"
      ]
     },
     "metadata": {},
     "output_type": "display_data"
    },
    {
     "name": "stdout",
     "output_type": "stream",
     "text": [
      "elapsed time: 0.74432335 seconds\n"
     ]
    },
    {
     "data": {
      "text/plain": [
       "6-element Array{Float64,1}:\n",
       "  0.0       \n",
       "  0.0       \n",
       "  0.0       \n",
       " -8.04311e-6\n",
       " -1.56666e-8\n",
       "  5.32002e-9"
      ]
     },
     "metadata": {},
     "output_type": "display_data"
    },
    {
     "data": {
      "text/plain": [
       "6-element Array{Float64,1}:\n",
       "  0.0       \n",
       "  0.0       \n",
       "  0.0       \n",
       " -8.04311e-6\n",
       " -1.56666e-8\n",
       "  5.32002e-9"
      ]
     },
     "metadata": {},
     "output_type": "display_data"
    },
    {
     "name": "stdout",
     "output_type": "stream",
     "text": [
      "elapsed time: 1.183326369 seconds\n"
     ]
    },
    {
     "data": {
      "text/plain": [
       "6-element Array{Float64,1}:\n",
       "  0.0       \n",
       "  0.0       \n",
       "  0.0       \n",
       " -8.03772e-6\n",
       " -6.33712e-8\n",
       "  1.58087e-7"
      ]
     },
     "metadata": {},
     "output_type": "display_data"
    },
    {
     "data": {
      "text/plain": [
       "6-element Array{Float64,1}:\n",
       "  0.0       \n",
       "  0.0       \n",
       "  0.0       \n",
       " -8.03772e-6\n",
       " -6.33712e-8\n",
       "  1.58087e-7"
      ]
     },
     "metadata": {},
     "output_type": "display_data"
    },
    {
     "name": "stdout",
     "output_type": "stream",
     "text": [
      "elapsed time: 1.478287502 seconds\n"
     ]
    },
    {
     "data": {
      "text/plain": [
       "6-element Array{Float64,1}:\n",
       "  0.0       \n",
       "  0.0       \n",
       "  0.0       \n",
       " -8.04311e-6\n",
       " -1.56666e-8\n",
       "  5.32002e-9"
      ]
     },
     "metadata": {},
     "output_type": "display_data"
    },
    {
     "data": {
      "text/plain": [
       "6-element Array{Float64,1}:\n",
       "  0.0       \n",
       "  0.0       \n",
       "  0.0       \n",
       " -8.04311e-6\n",
       " -1.56666e-8\n",
       "  5.32002e-9"
      ]
     },
     "metadata": {},
     "output_type": "display_data"
    },
    {
     "name": "stdout",
     "output_type": "stream",
     "text": [
      "elapsed time: 1.284957816 seconds\n"
     ]
    },
    {
     "data": {
      "text/plain": [
       "6-element Array{Float64,1}:\n",
       " -8.07794e-28\n",
       "  0.0        \n",
       "  6.46235e-27\n",
       " -8.03833e-6 \n",
       " -3.75282e-8 \n",
       "  3.50045e-9 "
      ]
     },
     "metadata": {},
     "output_type": "display_data"
    },
    {
     "data": {
      "text/plain": [
       "6-element Array{Float64,1}:\n",
       " -8.07794e-28\n",
       "  0.0        \n",
       "  6.46235e-27\n",
       " -8.03833e-6 \n",
       " -3.75282e-8 \n",
       "  3.50045e-9 "
      ]
     },
     "metadata": {},
     "output_type": "display_data"
    },
    {
     "name": "stdout",
     "output_type": "stream",
     "text": [
      "elapsed time: 0.727267941 seconds\n"
     ]
    },
    {
     "data": {
      "text/plain": [
       "6-element Array{Float64,1}:\n",
       "  0.0        \n",
       "  0.0        \n",
       " -3.23117e-27\n",
       " -8.03589e-6 \n",
       " -2.37604e-8 \n",
       "  3.16674e-8 "
      ]
     },
     "metadata": {},
     "output_type": "display_data"
    },
    {
     "data": {
      "text/plain": [
       "6-element Array{Float64,1}:\n",
       "  0.0        \n",
       "  0.0        \n",
       " -3.23117e-27\n",
       " -8.03589e-6 \n",
       " -2.37604e-8 \n",
       "  3.16674e-8 "
      ]
     },
     "metadata": {},
     "output_type": "display_data"
    },
    {
     "name": "stdout",
     "output_type": "stream",
     "text": [
      "elapsed time: 1.210445628 seconds\n"
     ]
    },
    {
     "data": {
      "text/plain": [
       "6-element Array{Float64,1}:\n",
       "  0.0       \n",
       "  0.0       \n",
       "  0.0       \n",
       " -8.03088e-6\n",
       "  2.13071e-9\n",
       " -9.86682e-8"
      ]
     },
     "metadata": {},
     "output_type": "display_data"
    },
    {
     "data": {
      "text/plain": [
       "6-element Array{Float64,1}:\n",
       "  0.0       \n",
       "  0.0       \n",
       "  0.0       \n",
       " -8.03088e-6\n",
       "  2.13071e-9\n",
       " -9.86682e-8"
      ]
     },
     "metadata": {},
     "output_type": "display_data"
    },
    {
     "name": "stdout",
     "output_type": "stream",
     "text": [
      "elapsed time: 0.767837187 seconds\n"
     ]
    },
    {
     "data": {
      "text/plain": [
       "6-element Array{Float64,1}:\n",
       "  8.07794e-28\n",
       "  0.0        \n",
       " -3.23117e-27\n",
       " -8.04426e-6 \n",
       "  3.18348e-8 \n",
       "  3.26278e-10"
      ]
     },
     "metadata": {},
     "output_type": "display_data"
    },
    {
     "data": {
      "text/plain": [
       "6-element Array{Float64,1}:\n",
       "  8.07794e-28\n",
       "  0.0        \n",
       " -3.23117e-27\n",
       " -8.04426e-6 \n",
       "  3.18348e-8 \n",
       "  3.26278e-10"
      ]
     },
     "metadata": {},
     "output_type": "display_data"
    },
    {
     "name": "stdout",
     "output_type": "stream",
     "text": [
      "elapsed time: 1.10825868 seconds\n"
     ]
    },
    {
     "data": {
      "text/plain": [
       "6-element Array{Float64,1}:\n",
       "  0.0       \n",
       "  0.0       \n",
       "  0.0       \n",
       " -8.02911e-6\n",
       "  2.09579e-8\n",
       " -2.189e-8  "
      ]
     },
     "metadata": {},
     "output_type": "display_data"
    },
    {
     "data": {
      "text/plain": [
       "6-element Array{Float64,1}:\n",
       "  0.0       \n",
       "  0.0       \n",
       "  0.0       \n",
       " -8.02911e-6\n",
       "  2.09579e-8\n",
       " -2.189e-8  "
      ]
     },
     "metadata": {},
     "output_type": "display_data"
    },
    {
     "name": "stdout",
     "output_type": "stream",
     "text": [
      "elapsed time: 1.154479038 seconds\n"
     ]
    },
    {
     "data": {
      "text/plain": [
       "6-element Array{Float64,1}:\n",
       " -1.61559e-27\n",
       "  0.0        \n",
       "  1.29247e-26\n",
       " -8.03772e-6 \n",
       " -8.20136e-8 \n",
       "  6.57058e-8 "
      ]
     },
     "metadata": {},
     "output_type": "display_data"
    },
    {
     "data": {
      "text/plain": [
       "6-element Array{Float64,1}:\n",
       " -1.61559e-27\n",
       "  0.0        \n",
       "  1.29247e-26\n",
       " -8.03772e-6 \n",
       " -8.20136e-8 \n",
       "  6.57058e-8 "
      ]
     },
     "metadata": {},
     "output_type": "display_data"
    },
    {
     "name": "stdout",
     "output_type": "stream",
     "text": [
      "elapsed time: 1.09158632 seconds\n"
     ]
    },
    {
     "data": {
      "text/plain": [
       "6-element Array{Float64,1}:\n",
       "  8.07794e-28\n",
       "  0.0        \n",
       "  6.46235e-27\n",
       " -8.03605e-6 \n",
       " -5.50389e-8 \n",
       "  8.41654e-8 "
      ]
     },
     "metadata": {},
     "output_type": "display_data"
    },
    {
     "data": {
      "text/plain": [
       "6-element Array{Float64,1}:\n",
       "  8.07794e-28\n",
       "  0.0        \n",
       "  6.46235e-27\n",
       " -8.03605e-6 \n",
       " -5.50389e-8 \n",
       "  8.41654e-8 "
      ]
     },
     "metadata": {},
     "output_type": "display_data"
    },
    {
     "name": "stdout",
     "output_type": "stream",
     "text": [
      "elapsed time: 0.691937535 seconds\n"
     ]
    },
    {
     "data": {
      "text/plain": [
       "6-element Array{Float64,1}:\n",
       "  0.0       \n",
       "  0.0       \n",
       "  0.0       \n",
       " -8.04958e-6\n",
       "  3.1024e-8 \n",
       "  3.49493e-8"
      ]
     },
     "metadata": {},
     "output_type": "display_data"
    },
    {
     "data": {
      "text/plain": [
       "6-element Array{Float64,1}:\n",
       "  0.0       \n",
       "  0.0       \n",
       "  0.0       \n",
       " -8.04958e-6\n",
       "  3.1024e-8 \n",
       "  3.49493e-8"
      ]
     },
     "metadata": {},
     "output_type": "display_data"
    },
    {
     "name": "stdout",
     "output_type": "stream",
     "text": [
      "elapsed time: 1.149837738 seconds\n"
     ]
    },
    {
     "data": {
      "text/plain": [
       "6-element Array{Float64,1}:\n",
       "  4.03897e-28\n",
       "  0.0        \n",
       "  3.23117e-27\n",
       " -8.01564e-6 \n",
       " -2.4039e-8  \n",
       " -3.52636e-7 "
      ]
     },
     "metadata": {},
     "output_type": "display_data"
    },
    {
     "data": {
      "text/plain": [
       "6-element Array{Float64,1}:\n",
       "  4.03897e-28\n",
       "  0.0        \n",
       "  3.23117e-27\n",
       " -8.01564e-6 \n",
       " -2.4039e-8  \n",
       " -3.52636e-7 "
      ]
     },
     "metadata": {},
     "output_type": "display_data"
    },
    {
     "name": "stdout",
     "output_type": "stream",
     "text": [
      "elapsed time: 0.698821367 seconds\n"
     ]
    },
    {
     "data": {
      "text/plain": [
       "6-element Array{Float64,1}:\n",
       "  0.0       \n",
       "  0.0       \n",
       "  0.0       \n",
       " -8.03772e-6\n",
       "  2.25552e-8\n",
       " -2.528e-8  "
      ]
     },
     "metadata": {},
     "output_type": "display_data"
    },
    {
     "data": {
      "text/plain": [
       "6-element Array{Float64,1}:\n",
       "  0.0       \n",
       "  0.0       \n",
       "  0.0       \n",
       " -8.03772e-6\n",
       "  2.25552e-8\n",
       " -2.528e-8  "
      ]
     },
     "metadata": {},
     "output_type": "display_data"
    },
    {
     "name": "stdout",
     "output_type": "stream",
     "text": [
      "elapsed time: 1.172543874 seconds\n"
     ]
    },
    {
     "data": {
      "text/plain": [
       "6-element Array{Float64,1}:\n",
       "  0.0       \n",
       "  0.0       \n",
       "  0.0       \n",
       " -8.05211e-6\n",
       " -1.05562e-8\n",
       "  6.32818e-8"
      ]
     },
     "metadata": {},
     "output_type": "display_data"
    },
    {
     "data": {
      "text/plain": [
       "6-element Array{Float64,1}:\n",
       "  0.0       \n",
       "  0.0       \n",
       "  0.0       \n",
       " -8.05211e-6\n",
       " -1.05562e-8\n",
       "  6.32818e-8"
      ]
     },
     "metadata": {},
     "output_type": "display_data"
    },
    {
     "name": "stdout",
     "output_type": "stream",
     "text": [
      "elapsed time: 1.090100949 seconds\n"
     ]
    },
    {
     "data": {
      "text/plain": [
       "6-element Array{Float64,1}:\n",
       "  0.0        \n",
       "  0.0        \n",
       "  3.23117e-27\n",
       " -8.02178e-6 \n",
       " -2.35388e-8 \n",
       "  3.81844e-8 "
      ]
     },
     "metadata": {},
     "output_type": "display_data"
    },
    {
     "data": {
      "text/plain": [
       "6-element Array{Float64,1}:\n",
       "  0.0        \n",
       "  0.0        \n",
       "  3.23117e-27\n",
       " -8.02178e-6 \n",
       " -2.35388e-8 \n",
       "  3.81844e-8 "
      ]
     },
     "metadata": {},
     "output_type": "display_data"
    },
    {
     "name": "stdout",
     "output_type": "stream",
     "text": [
      "elapsed time: 1.151763742 seconds\n"
     ]
    },
    {
     "data": {
      "text/plain": [
       "6-element Array{Float64,1}:\n",
       " -8.07794e-28\n",
       "  0.0        \n",
       "  0.0        \n",
       " -8.03695e-6 \n",
       "  5.86869e-8 \n",
       " -4.02667e-8 "
      ]
     },
     "metadata": {},
     "output_type": "display_data"
    },
    {
     "data": {
      "text/plain": [
       "6-element Array{Float64,1}:\n",
       " -8.07794e-28\n",
       "  0.0        \n",
       "  0.0        \n",
       " -8.03695e-6 \n",
       "  5.86869e-8 \n",
       " -4.02667e-8 "
      ]
     },
     "metadata": {},
     "output_type": "display_data"
    },
    {
     "name": "stdout",
     "output_type": "stream",
     "text": [
      "elapsed time: 0.688500466 seconds\n"
     ]
    },
    {
     "data": {
      "text/plain": [
       "6-element Array{Float64,1}:\n",
       "  0.0        \n",
       "  0.0        \n",
       " -8.07794e-28\n",
       " -8.02654e-6 \n",
       "  7.81652e-9 \n",
       " -4.04227e-8 "
      ]
     },
     "metadata": {},
     "output_type": "display_data"
    },
    {
     "data": {
      "text/plain": [
       "6-element Array{Float64,1}:\n",
       "  0.0        \n",
       "  0.0        \n",
       " -8.07794e-28\n",
       " -8.02654e-6 \n",
       "  7.81652e-9 \n",
       " -4.04227e-8 "
      ]
     },
     "metadata": {},
     "output_type": "display_data"
    },
    {
     "name": "stdout",
     "output_type": "stream",
     "text": [
      "elapsed time: 1.112977537 seconds\n"
     ]
    },
    {
     "data": {
      "text/plain": [
       "6-element Array{Float64,1}:\n",
       "  0.0       \n",
       "  0.0       \n",
       "  0.0       \n",
       " -8.02549e-6\n",
       " -5.34931e-8\n",
       " -2.09198e-9"
      ]
     },
     "metadata": {},
     "output_type": "display_data"
    },
    {
     "data": {
      "text/plain": [
       "6-element Array{Float64,1}:\n",
       "  0.0       \n",
       "  0.0       \n",
       "  0.0       \n",
       " -8.02549e-6\n",
       " -5.34931e-8\n",
       " -2.09198e-9"
      ]
     },
     "metadata": {},
     "output_type": "display_data"
    },
    {
     "name": "stdout",
     "output_type": "stream",
     "text": [
      "elapsed time: 0.700758716 seconds\n"
     ]
    },
    {
     "data": {
      "text/plain": [
       "6-element Array{Float64,1}:\n",
       "  2.01948e-28\n",
       "  0.0        \n",
       "  1.61559e-27\n",
       " -8.02804e-6 \n",
       " -1.20078e-8 \n",
       " -3.40438e-7 "
      ]
     },
     "metadata": {},
     "output_type": "display_data"
    },
    {
     "data": {
      "text/plain": [
       "6-element Array{Float64,1}:\n",
       "  2.01948e-28\n",
       "  0.0        \n",
       "  1.61559e-27\n",
       " -8.02804e-6 \n",
       " -1.20078e-8 \n",
       " -3.40438e-7 "
      ]
     },
     "metadata": {},
     "output_type": "display_data"
    },
    {
     "name": "stdout",
     "output_type": "stream",
     "text": [
      "elapsed time: 0.67860416 seconds\n"
     ]
    },
    {
     "data": {
      "text/plain": [
       "6-element Array{Float64,1}:\n",
       "  0.0       \n",
       "  0.0       \n",
       "  0.0       \n",
       " -8.04136e-6\n",
       "  1.06255e-8\n",
       " -6.8744e-9 "
      ]
     },
     "metadata": {},
     "output_type": "display_data"
    },
    {
     "data": {
      "text/plain": [
       "6-element Array{Float64,1}:\n",
       "  0.0       \n",
       "  0.0       \n",
       "  0.0       \n",
       " -8.04136e-6\n",
       "  1.06255e-8\n",
       " -6.8744e-9 "
      ]
     },
     "metadata": {},
     "output_type": "display_data"
    },
    {
     "name": "stdout",
     "output_type": "stream",
     "text": [
      "elapsed time: 1.143285607 seconds\n"
     ]
    },
    {
     "data": {
      "text/plain": [
       "6-element Array{Float64,1}:\n",
       "  0.0       \n",
       "  0.0       \n",
       "  0.0       \n",
       " -8.03077e-6\n",
       " -1.05966e-7\n",
       "  5.4009e-8 "
      ]
     },
     "metadata": {},
     "output_type": "display_data"
    },
    {
     "data": {
      "text/plain": [
       "6-element Array{Float64,1}:\n",
       "  0.0       \n",
       "  0.0       \n",
       "  0.0       \n",
       " -8.03077e-6\n",
       " -1.05966e-7\n",
       "  5.4009e-8 "
      ]
     },
     "metadata": {},
     "output_type": "display_data"
    },
    {
     "name": "stdout",
     "output_type": "stream",
     "text": [
      "elapsed time: 0.702730165 seconds\n"
     ]
    },
    {
     "data": {
      "text/plain": [
       "6-element Array{Float64,1}:\n",
       "  0.0       \n",
       "  0.0       \n",
       "  0.0       \n",
       " -8.04276e-6\n",
       "  1.55006e-8\n",
       "  5.75232e-8"
      ]
     },
     "metadata": {},
     "output_type": "display_data"
    },
    {
     "data": {
      "text/plain": [
       "6-element Array{Float64,1}:\n",
       "  0.0       \n",
       "  0.0       \n",
       "  0.0       \n",
       " -8.04276e-6\n",
       "  1.55006e-8\n",
       "  5.75232e-8"
      ]
     },
     "metadata": {},
     "output_type": "display_data"
    },
    {
     "name": "stdout",
     "output_type": "stream",
     "text": [
      "elapsed time: 1.10387701 seconds\n"
     ]
    },
    {
     "data": {
      "text/plain": [
       "6-element Array{Float64,1}:\n",
       "  0.0       \n",
       "  0.0       \n",
       "  0.0       \n",
       " -8.03218e-6\n",
       "  3.02358e-8\n",
       "  7.04798e-9"
      ]
     },
     "metadata": {},
     "output_type": "display_data"
    },
    {
     "data": {
      "text/plain": [
       "6-element Array{Float64,1}:\n",
       "  0.0       \n",
       "  0.0       \n",
       "  0.0       \n",
       " -8.03218e-6\n",
       "  3.02358e-8\n",
       "  7.04798e-9"
      ]
     },
     "metadata": {},
     "output_type": "display_data"
    },
    {
     "name": "stdout",
     "output_type": "stream",
     "text": [
      "elapsed time: 1.26702991 seconds\n"
     ]
    },
    {
     "data": {
      "text/plain": [
       "6-element Array{Float64,1}:\n",
       "  0.0        \n",
       "  0.0        \n",
       " -1.29247e-26\n",
       " -8.03458e-6 \n",
       "  1.4312e-7  \n",
       " -4.21032e-8 "
      ]
     },
     "metadata": {},
     "output_type": "display_data"
    },
    {
     "data": {
      "text/plain": [
       "6-element Array{Float64,1}:\n",
       "  0.0        \n",
       "  0.0        \n",
       " -1.29247e-26\n",
       " -8.03458e-6 \n",
       "  1.4312e-7  \n",
       " -4.21032e-8 "
      ]
     },
     "metadata": {},
     "output_type": "display_data"
    },
    {
     "name": "stdout",
     "output_type": "stream",
     "text": [
      "elapsed time: 1.113864089 seconds\n"
     ]
    },
    {
     "data": {
      "text/plain": [
       "6-element Array{Float64,1}:\n",
       "  0.0        \n",
       "  0.0        \n",
       "  3.23117e-27\n",
       " -8.0409e-6  \n",
       " -3.50545e-8 \n",
       " -5.44555e-8 "
      ]
     },
     "metadata": {},
     "output_type": "display_data"
    },
    {
     "data": {
      "text/plain": [
       "6-element Array{Float64,1}:\n",
       "  0.0        \n",
       "  0.0        \n",
       "  3.23117e-27\n",
       " -8.0409e-6  \n",
       " -3.50545e-8 \n",
       " -5.44555e-8 "
      ]
     },
     "metadata": {},
     "output_type": "display_data"
    },
    {
     "name": "stdout",
     "output_type": "stream",
     "text": [
      "elapsed time: 0.679779902 seconds\n"
     ]
    },
    {
     "data": {
      "text/plain": [
       "6-element Array{Float64,1}:\n",
       "  0.0        \n",
       "  0.0        \n",
       " -1.26218e-29\n",
       " -8.03556e-6 \n",
       " -7.64824e-11\n",
       " -3.6749e-9  "
      ]
     },
     "metadata": {},
     "output_type": "display_data"
    },
    {
     "data": {
      "text/plain": [
       "6-element Array{Float64,1}:\n",
       "  0.0        \n",
       "  0.0        \n",
       " -1.26218e-29\n",
       " -8.03556e-6 \n",
       " -7.64824e-11\n",
       " -3.6749e-9  "
      ]
     },
     "metadata": {},
     "output_type": "display_data"
    },
    {
     "name": "stdout",
     "output_type": "stream",
     "text": [
      "elapsed time: 1.133948328 seconds\n"
     ]
    },
    {
     "data": {
      "text/plain": [
       "6-element Array{Float64,1}:\n",
       "  0.0       \n",
       "  0.0       \n",
       "  0.0       \n",
       " -8.03206e-6\n",
       " -9.64602e-9\n",
       " -2.28995e-9"
      ]
     },
     "metadata": {},
     "output_type": "display_data"
    },
    {
     "data": {
      "text/plain": [
       "6-element Array{Float64,1}:\n",
       "  0.0       \n",
       "  0.0       \n",
       "  0.0       \n",
       " -8.03206e-6\n",
       " -9.64602e-9\n",
       " -2.28995e-9"
      ]
     },
     "metadata": {},
     "output_type": "display_data"
    },
    {
     "name": "stdout",
     "output_type": "stream",
     "text": [
      "elapsed time: 0.73424504 seconds\n"
     ]
    },
    {
     "data": {
      "text/plain": [
       "6-element Array{Float64,1}:\n",
       "  0.0       \n",
       "  0.0       \n",
       "  0.0       \n",
       " -8.03531e-6\n",
       "  9.74647e-9\n",
       "  5.96722e-8"
      ]
     },
     "metadata": {},
     "output_type": "display_data"
    },
    {
     "data": {
      "text/plain": [
       "6-element Array{Float64,1}:\n",
       "  0.0       \n",
       "  0.0       \n",
       "  0.0       \n",
       " -8.03531e-6\n",
       "  9.74647e-9\n",
       "  5.96722e-8"
      ]
     },
     "metadata": {},
     "output_type": "display_data"
    },
    {
     "name": "stdout",
     "output_type": "stream",
     "text": [
      "elapsed time: 1.142174782 seconds\n"
     ]
    },
    {
     "data": {
      "text/plain": [
       "6-element Array{Float64,1}:\n",
       "  0.0        \n",
       "  0.0        \n",
       "  6.46235e-27\n",
       " -8.05123e-6 \n",
       " -5.14107e-8 \n",
       " -1.59532e-8 "
      ]
     },
     "metadata": {},
     "output_type": "display_data"
    },
    {
     "data": {
      "text/plain": [
       "6-element Array{Float64,1}:\n",
       "  0.0        \n",
       "  0.0        \n",
       "  6.46235e-27\n",
       " -8.05123e-6 \n",
       " -5.14107e-8 \n",
       " -1.59532e-8 "
      ]
     },
     "metadata": {},
     "output_type": "display_data"
    },
    {
     "name": "stdout",
     "output_type": "stream",
     "text": [
      "elapsed time: 1.121996279 seconds\n"
     ]
    },
    {
     "data": {
      "text/plain": [
       "6-element Array{Float64,1}:\n",
       "  0.0       \n",
       "  0.0       \n",
       "  0.0       \n",
       " -8.03447e-6\n",
       "  1.44337e-9\n",
       "  1.92095e-8"
      ]
     },
     "metadata": {},
     "output_type": "display_data"
    },
    {
     "data": {
      "text/plain": [
       "6-element Array{Float64,1}:\n",
       "  0.0       \n",
       "  0.0       \n",
       "  0.0       \n",
       " -8.03447e-6\n",
       "  1.44337e-9\n",
       "  1.92095e-8"
      ]
     },
     "metadata": {},
     "output_type": "display_data"
    },
    {
     "name": "stdout",
     "output_type": "stream",
     "text": [
      "elapsed time: 0.70917462 seconds\n"
     ]
    },
    {
     "data": {
      "text/plain": [
       "6-element Array{Float64,1}:\n",
       "  2.01948e-28\n",
       "  0.0        \n",
       "  1.61559e-27\n",
       " -8.02728e-6 \n",
       " -1.19482e-8 \n",
       "  5.86545e-8 "
      ]
     },
     "metadata": {},
     "output_type": "display_data"
    },
    {
     "data": {
      "text/plain": [
       "6-element Array{Float64,1}:\n",
       "  2.01948e-28\n",
       "  0.0        \n",
       "  1.61559e-27\n",
       " -8.02728e-6 \n",
       " -1.19482e-8 \n",
       "  5.86545e-8 "
      ]
     },
     "metadata": {},
     "output_type": "display_data"
    },
    {
     "name": "stdout",
     "output_type": "stream",
     "text": [
      "elapsed time: 0.970244232 seconds\n"
     ]
    },
    {
     "data": {
      "text/plain": [
       "6-element Array{Float64,1}:\n",
       "  0.0        \n",
       "  0.0        \n",
       "  6.46235e-27\n",
       " -8.02109e-6 \n",
       " -4.81629e-8 \n",
       " -5.56666e-8 "
      ]
     },
     "metadata": {},
     "output_type": "display_data"
    },
    {
     "data": {
      "text/plain": [
       "6-element Array{Float64,1}:\n",
       "  0.0        \n",
       "  0.0        \n",
       "  6.46235e-27\n",
       " -8.02109e-6 \n",
       " -4.81629e-8 \n",
       " -5.56666e-8 "
      ]
     },
     "metadata": {},
     "output_type": "display_data"
    },
    {
     "name": "stdout",
     "output_type": "stream",
     "text": [
      "elapsed time: 0.741485001 seconds\n"
     ]
    },
    {
     "data": {
      "text/plain": [
       "6-element Array{Float64,1}:\n",
       " -2.01948e-28\n",
       "  0.0        \n",
       " -1.61559e-27\n",
       " -8.02747e-6 \n",
       "  1.32223e-8 \n",
       "  1.29254e-8 "
      ]
     },
     "metadata": {},
     "output_type": "display_data"
    },
    {
     "data": {
      "text/plain": [
       "6-element Array{Float64,1}:\n",
       " -2.01948e-28\n",
       "  0.0        \n",
       " -1.61559e-27\n",
       " -8.02747e-6 \n",
       "  1.32223e-8 \n",
       "  1.29254e-8 "
      ]
     },
     "metadata": {},
     "output_type": "display_data"
    },
    {
     "name": "stdout",
     "output_type": "stream",
     "text": [
      "elapsed time: 1.175765357 seconds\n"
     ]
    },
    {
     "data": {
      "text/plain": [
       "6-element Array{Float64,1}:\n",
       "  8.07794e-28\n",
       "  0.0        \n",
       "  0.0        \n",
       " -8.03165e-6 \n",
       "  3.7013e-8  \n",
       "  8.96743e-9 "
      ]
     },
     "metadata": {},
     "output_type": "display_data"
    },
    {
     "data": {
      "text/plain": [
       "6-element Array{Float64,1}:\n",
       "  8.07794e-28\n",
       "  0.0        \n",
       "  0.0        \n",
       " -8.03165e-6 \n",
       "  3.7013e-8  \n",
       "  8.96743e-9 "
      ]
     },
     "metadata": {},
     "output_type": "display_data"
    },
    {
     "name": "stdout",
     "output_type": "stream",
     "text": [
      "elapsed time: 1.278280992 seconds\n"
     ]
    },
    {
     "data": {
      "text/plain": [
       "6-element Array{Float64,1}:\n",
       " -8.07794e-28\n",
       "  0.0        \n",
       "  0.0        \n",
       " -8.03719e-6 \n",
       "  4.01524e-8 \n",
       " -8.37425e-8 "
      ]
     },
     "metadata": {},
     "output_type": "display_data"
    },
    {
     "data": {
      "text/plain": [
       "6-element Array{Float64,1}:\n",
       " -8.07794e-28\n",
       "  0.0        \n",
       "  0.0        \n",
       " -8.03719e-6 \n",
       "  4.01524e-8 \n",
       " -8.37425e-8 "
      ]
     },
     "metadata": {},
     "output_type": "display_data"
    },
    {
     "name": "stdout",
     "output_type": "stream",
     "text": [
      "elapsed time: 0.867453094 seconds\n"
     ]
    },
    {
     "data": {
      "text/plain": [
       "6-element Array{Float64,1}:\n",
       "  0.0       \n",
       "  0.0       \n",
       "  0.0       \n",
       " -8.01943e-6\n",
       " -1.81941e-8\n",
       " -2.3915e-8 "
      ]
     },
     "metadata": {},
     "output_type": "display_data"
    },
    {
     "data": {
      "text/plain": [
       "6-element Array{Float64,1}:\n",
       "  0.0       \n",
       "  0.0       \n",
       "  0.0       \n",
       " -8.01943e-6\n",
       " -1.81941e-8\n",
       " -2.3915e-8 "
      ]
     },
     "metadata": {},
     "output_type": "display_data"
    },
    {
     "name": "stdout",
     "output_type": "stream",
     "text": [
      "elapsed time: 1.184406938 seconds\n"
     ]
    },
    {
     "data": {
      "text/plain": [
       "6-element Array{Float64,1}:\n",
       "  1.00974e-28\n",
       "  0.0        \n",
       " -8.07794e-28\n",
       " -8.03007e-6 \n",
       "  5.7623e-9  \n",
       " -6.08017e-9 "
      ]
     },
     "metadata": {},
     "output_type": "display_data"
    },
    {
     "data": {
      "text/plain": [
       "6-element Array{Float64,1}:\n",
       "  1.00974e-28\n",
       "  0.0        \n",
       " -8.07794e-28\n",
       " -8.03007e-6 \n",
       "  5.7623e-9  \n",
       " -6.08017e-9 "
      ]
     },
     "metadata": {},
     "output_type": "display_data"
    },
    {
     "name": "stdout",
     "output_type": "stream",
     "text": [
      "elapsed time: 0.714415171 seconds\n"
     ]
    },
    {
     "data": {
      "text/plain": [
       "6-element Array{Float64,1}:\n",
       "  0.0       \n",
       "  0.0       \n",
       "  0.0       \n",
       " -8.02449e-6\n",
       " -5.23784e-8\n",
       " -4.87786e-8"
      ]
     },
     "metadata": {},
     "output_type": "display_data"
    },
    {
     "data": {
      "text/plain": [
       "6-element Array{Float64,1}:\n",
       "  0.0       \n",
       "  0.0       \n",
       "  0.0       \n",
       " -8.02449e-6\n",
       " -5.23784e-8\n",
       " -4.87786e-8"
      ]
     },
     "metadata": {},
     "output_type": "display_data"
    },
    {
     "name": "stdout",
     "output_type": "stream",
     "text": [
      "elapsed time: 0.689610201 seconds\n"
     ]
    },
    {
     "data": {
      "text/plain": [
       "6-element Array{Float64,1}:\n",
       "  0.0       \n",
       "  0.0       \n",
       "  0.0       \n",
       " -8.0202e-6 \n",
       "  3.47953e-8\n",
       "  8.25345e-8"
      ]
     },
     "metadata": {},
     "output_type": "display_data"
    },
    {
     "data": {
      "text/plain": [
       "6-element Array{Float64,1}:\n",
       "  0.0       \n",
       "  0.0       \n",
       "  0.0       \n",
       " -8.0202e-6 \n",
       "  3.47953e-8\n",
       "  8.25345e-8"
      ]
     },
     "metadata": {},
     "output_type": "display_data"
    },
    {
     "name": "stdout",
     "output_type": "stream",
     "text": [
      "elapsed time: 1.20007766 seconds\n"
     ]
    },
    {
     "data": {
      "text/plain": [
       "6-element Array{Float64,1}:\n",
       "  0.0       \n",
       "  0.0       \n",
       "  0.0       \n",
       " -8.04745e-6\n",
       "  5.16082e-8\n",
       " -8.45478e-8"
      ]
     },
     "metadata": {},
     "output_type": "display_data"
    },
    {
     "data": {
      "text/plain": [
       "6-element Array{Float64,1}:\n",
       "  0.0       \n",
       "  0.0       \n",
       "  0.0       \n",
       " -8.04745e-6\n",
       "  5.16082e-8\n",
       " -8.45478e-8"
      ]
     },
     "metadata": {},
     "output_type": "display_data"
    },
    {
     "name": "stdout",
     "output_type": "stream",
     "text": [
      "elapsed time: 0.755836791 seconds\n"
     ]
    },
    {
     "data": {
      "text/plain": [
       "6-element Array{Float64,1}:\n",
       "  0.0       \n",
       "  0.0       \n",
       "  0.0       \n",
       " -8.03006e-6\n",
       " -1.21132e-8\n",
       " -1.91678e-8"
      ]
     },
     "metadata": {},
     "output_type": "display_data"
    },
    {
     "data": {
      "text/plain": [
       "6-element Array{Float64,1}:\n",
       "  0.0       \n",
       "  0.0       \n",
       "  0.0       \n",
       " -8.03006e-6\n",
       " -1.21132e-8\n",
       " -1.91678e-8"
      ]
     },
     "metadata": {},
     "output_type": "display_data"
    },
    {
     "name": "stdout",
     "output_type": "stream",
     "text": [
      "elapsed time: 1.202488832 seconds\n"
     ]
    },
    {
     "data": {
      "text/plain": [
       "6-element Array{Float64,1}:\n",
       "  0.0       \n",
       "  0.0       \n",
       "  0.0       \n",
       " -8.03735e-6\n",
       "  4.10147e-8\n",
       "  1.4879e-7 "
      ]
     },
     "metadata": {},
     "output_type": "display_data"
    },
    {
     "data": {
      "text/plain": [
       "6-element Array{Float64,1}:\n",
       "  0.0       \n",
       "  0.0       \n",
       "  0.0       \n",
       " -8.03735e-6\n",
       "  4.10147e-8\n",
       "  1.4879e-7 "
      ]
     },
     "metadata": {},
     "output_type": "display_data"
    },
    {
     "name": "stdout",
     "output_type": "stream",
     "text": [
      "elapsed time: 0.86920572 seconds\n"
     ]
    },
    {
     "data": {
      "text/plain": [
       "6-element Array{Float64,1}:\n",
       " -4.03897e-28\n",
       "  0.0        \n",
       "  0.0        \n",
       " -8.05728e-6 \n",
       "  2.47931e-8 \n",
       "  7.26053e-8 "
      ]
     },
     "metadata": {},
     "output_type": "display_data"
    },
    {
     "data": {
      "text/plain": [
       "6-element Array{Float64,1}:\n",
       " -4.03897e-28\n",
       "  0.0        \n",
       "  0.0        \n",
       " -8.05728e-6 \n",
       "  2.47931e-8 \n",
       "  7.26053e-8 "
      ]
     },
     "metadata": {},
     "output_type": "display_data"
    },
    {
     "name": "stdout",
     "output_type": "stream",
     "text": [
      "elapsed time: 1.075799091 seconds\n"
     ]
    },
    {
     "data": {
      "text/plain": [
       "6-element Array{Float64,1}:\n",
       "  0.0        \n",
       "  0.0        \n",
       " -6.46235e-27\n",
       " -8.0291e-6  \n",
       "  4.98994e-8 \n",
       "  3.15868e-10"
      ]
     },
     "metadata": {},
     "output_type": "display_data"
    },
    {
     "data": {
      "text/plain": [
       "6-element Array{Float64,1}:\n",
       "  0.0        \n",
       "  0.0        \n",
       " -6.46235e-27\n",
       " -8.0291e-6  \n",
       "  4.98994e-8 \n",
       "  3.15868e-10"
      ]
     },
     "metadata": {},
     "output_type": "display_data"
    },
    {
     "name": "stdout",
     "output_type": "stream",
     "text": [
      "elapsed time: 1.199713773 seconds\n"
     ]
    },
    {
     "data": {
      "text/plain": [
       "6-element Array{Float64,1}:\n",
       "  0.0       \n",
       "  0.0       \n",
       "  0.0       \n",
       " -8.02981e-6\n",
       "  6.5453e-8 \n",
       "  9.08746e-8"
      ]
     },
     "metadata": {},
     "output_type": "display_data"
    },
    {
     "data": {
      "text/plain": [
       "6-element Array{Float64,1}:\n",
       "  0.0       \n",
       "  0.0       \n",
       "  0.0       \n",
       " -8.02981e-6\n",
       "  6.5453e-8 \n",
       "  9.08746e-8"
      ]
     },
     "metadata": {},
     "output_type": "display_data"
    },
    {
     "name": "stdout",
     "output_type": "stream",
     "text": [
      "elapsed time: 1.201705697 seconds\n"
     ]
    },
    {
     "data": {
      "text/plain": [
       "6-element Array{Float64,1}:\n",
       "  0.0       \n",
       "  0.0       \n",
       "  0.0       \n",
       " -8.03688e-6\n",
       "  2.91589e-8\n",
       "  5.94172e-8"
      ]
     },
     "metadata": {},
     "output_type": "display_data"
    },
    {
     "data": {
      "text/plain": [
       "6-element Array{Float64,1}:\n",
       "  0.0       \n",
       "  0.0       \n",
       "  0.0       \n",
       " -8.03688e-6\n",
       "  2.91589e-8\n",
       "  5.94172e-8"
      ]
     },
     "metadata": {},
     "output_type": "display_data"
    },
    {
     "name": "stdout",
     "output_type": "stream",
     "text": [
      "elapsed time: 0.759550676 seconds\n"
     ]
    },
    {
     "data": {
      "text/plain": [
       "6-element Array{Float64,1}:\n",
       "  2.01948e-28\n",
       "  0.0        \n",
       "  0.0        \n",
       " -8.03951e-6 \n",
       " -1.26594e-8 \n",
       "  2.8499e-8  "
      ]
     },
     "metadata": {},
     "output_type": "display_data"
    },
    {
     "data": {
      "text/plain": [
       "6-element Array{Float64,1}:\n",
       "  2.01948e-28\n",
       "  0.0        \n",
       "  0.0        \n",
       " -8.03951e-6 \n",
       " -1.26594e-8 \n",
       "  2.8499e-8  "
      ]
     },
     "metadata": {},
     "output_type": "display_data"
    },
    {
     "name": "stdout",
     "output_type": "stream",
     "text": [
      "elapsed time: 1.158891223 seconds\n"
     ]
    },
    {
     "data": {
      "text/plain": [
       "6-element Array{Float64,1}:\n",
       " -1.61559e-27\n",
       "  0.0        \n",
       "  0.0        \n",
       " -8.02172e-6 \n",
       " -7.74482e-8 \n",
       " -9.59723e-8 "
      ]
     },
     "metadata": {},
     "output_type": "display_data"
    },
    {
     "data": {
      "text/plain": [
       "6-element Array{Float64,1}:\n",
       " -1.61559e-27\n",
       "  0.0        \n",
       "  0.0        \n",
       " -8.02172e-6 \n",
       " -7.74482e-8 \n",
       " -9.59723e-8 "
      ]
     },
     "metadata": {},
     "output_type": "display_data"
    },
    {
     "name": "stdout",
     "output_type": "stream",
     "text": [
      "elapsed time: 1.191492653 seconds\n"
     ]
    },
    {
     "data": {
      "text/plain": [
       "6-element Array{Float64,1}:\n",
       "  0.0       \n",
       "  0.0       \n",
       "  0.0       \n",
       " -8.02466e-6\n",
       " -3.53653e-8\n",
       "  2.17694e-7"
      ]
     },
     "metadata": {},
     "output_type": "display_data"
    },
    {
     "data": {
      "text/plain": [
       "6-element Array{Float64,1}:\n",
       "  0.0       \n",
       "  0.0       \n",
       "  0.0       \n",
       " -8.02466e-6\n",
       " -3.53653e-8\n",
       "  2.17694e-7"
      ]
     },
     "metadata": {},
     "output_type": "display_data"
    },
    {
     "name": "stdout",
     "output_type": "stream",
     "text": [
      "elapsed time: 0.78281761 seconds\n"
     ]
    },
    {
     "data": {
      "text/plain": [
       "6-element Array{Float64,1}:\n",
       "  0.0        \n",
       "  0.0        \n",
       "  6.46235e-27\n",
       " -8.04172e-6 \n",
       " -5.24633e-8 \n",
       "  1.03243e-7 "
      ]
     },
     "metadata": {},
     "output_type": "display_data"
    },
    {
     "data": {
      "text/plain": [
       "6-element Array{Float64,1}:\n",
       "  0.0        \n",
       "  0.0        \n",
       "  6.46235e-27\n",
       " -8.04172e-6 \n",
       " -5.24633e-8 \n",
       "  1.03243e-7 "
      ]
     },
     "metadata": {},
     "output_type": "display_data"
    },
    {
     "name": "stdout",
     "output_type": "stream",
     "text": [
      "elapsed time: 1.195703447 seconds\n"
     ]
    },
    {
     "data": {
      "text/plain": [
       "6-element Array{Float64,1}:\n",
       "  0.0        \n",
       "  0.0        \n",
       "  1.26218e-29\n",
       " -8.03416e-6 \n",
       "  1.05837e-10\n",
       "  5.45311e-8 "
      ]
     },
     "metadata": {},
     "output_type": "display_data"
    },
    {
     "data": {
      "text/plain": [
       "6-element Array{Float64,1}:\n",
       "  0.0        \n",
       "  0.0        \n",
       "  1.26218e-29\n",
       " -8.03416e-6 \n",
       "  1.05837e-10\n",
       "  5.45311e-8 "
      ]
     },
     "metadata": {},
     "output_type": "display_data"
    },
    {
     "name": "stdout",
     "output_type": "stream",
     "text": [
      "elapsed time: 0.713353964 seconds\n"
     ]
    },
    {
     "data": {
      "text/plain": [
       "6-element Array{Float64,1}:\n",
       "  0.0        \n",
       "  0.0        \n",
       " -1.00974e-28\n",
       " -8.04401e-6 \n",
       "  9.33891e-10\n",
       " -1.02696e-8 "
      ]
     },
     "metadata": {},
     "output_type": "display_data"
    },
    {
     "data": {
      "text/plain": [
       "6-element Array{Float64,1}:\n",
       "  0.0        \n",
       "  0.0        \n",
       " -1.00974e-28\n",
       " -8.04401e-6 \n",
       "  9.33891e-10\n",
       " -1.02696e-8 "
      ]
     },
     "metadata": {},
     "output_type": "display_data"
    },
    {
     "name": "stdout",
     "output_type": "stream",
     "text": [
      "elapsed time: 1.057209638 seconds\n"
     ]
    },
    {
     "data": {
      "text/plain": [
       "6-element Array{Float64,1}:\n",
       "  0.0       \n",
       "  0.0       \n",
       "  0.0       \n",
       " -8.02767e-6\n",
       " -1.65814e-9\n",
       "  3.50494e-8"
      ]
     },
     "metadata": {},
     "output_type": "display_data"
    },
    {
     "data": {
      "text/plain": [
       "6-element Array{Float64,1}:\n",
       "  0.0       \n",
       "  0.0       \n",
       "  0.0       \n",
       " -8.02767e-6\n",
       " -1.65814e-9\n",
       "  3.50494e-8"
      ]
     },
     "metadata": {},
     "output_type": "display_data"
    },
    {
     "name": "stdout",
     "output_type": "stream",
     "text": [
      "elapsed time: 1.083911695 seconds\n"
     ]
    },
    {
     "data": {
      "text/plain": [
       "6-element Array{Float64,1}:\n",
       "  0.0        \n",
       "  0.0        \n",
       "  3.23117e-27\n",
       " -8.0392e-6  \n",
       " -2.28179e-8 \n",
       "  6.91596e-8 "
      ]
     },
     "metadata": {},
     "output_type": "display_data"
    },
    {
     "data": {
      "text/plain": [
       "6-element Array{Float64,1}:\n",
       "  0.0        \n",
       "  0.0        \n",
       "  3.23117e-27\n",
       " -8.0392e-6  \n",
       " -2.28179e-8 \n",
       "  6.91596e-8 "
      ]
     },
     "metadata": {},
     "output_type": "display_data"
    },
    {
     "name": "stdout",
     "output_type": "stream",
     "text": [
      "elapsed time: 0.693392672 seconds\n"
     ]
    },
    {
     "data": {
      "text/plain": [
       "6-element Array{Float64,1}:\n",
       "  2.01948e-28\n",
       "  0.0        \n",
       "  0.0        \n",
       " -8.03678e-6 \n",
       "  1.30494e-8 \n",
       "  4.93187e-8 "
      ]
     },
     "metadata": {},
     "output_type": "display_data"
    },
    {
     "data": {
      "text/plain": [
       "6-element Array{Float64,1}:\n",
       "  2.01948e-28\n",
       "  0.0        \n",
       "  0.0        \n",
       " -8.03678e-6 \n",
       "  1.30494e-8 \n",
       "  4.93187e-8 "
      ]
     },
     "metadata": {},
     "output_type": "display_data"
    },
    {
     "name": "stdout",
     "output_type": "stream",
     "text": [
      "elapsed time: 1.213700807 seconds\n"
     ]
    },
    {
     "data": {
      "text/plain": [
       "6-element Array{Float64,1}:\n",
       "  0.0        \n",
       "  0.0        \n",
       " -6.46235e-27\n",
       " -8.01305e-6 \n",
       "  4.475e-8   \n",
       "  1.22252e-8 "
      ]
     },
     "metadata": {},
     "output_type": "display_data"
    },
    {
     "data": {
      "text/plain": [
       "6-element Array{Float64,1}:\n",
       "  0.0        \n",
       "  0.0        \n",
       " -6.46235e-27\n",
       " -8.01305e-6 \n",
       "  4.475e-8   \n",
       "  1.22252e-8 "
      ]
     },
     "metadata": {},
     "output_type": "display_data"
    },
    {
     "name": "stdout",
     "output_type": "stream",
     "text": [
      "elapsed time: 0.721367883 seconds\n"
     ]
    },
    {
     "data": {
      "text/plain": [
       "6-element Array{Float64,1}:\n",
       "  0.0        \n",
       "  0.0        \n",
       "  0.0        \n",
       " -8.03183e-6 \n",
       "  2.05883e-10\n",
       "  5.30908e-8 "
      ]
     },
     "metadata": {},
     "output_type": "display_data"
    },
    {
     "data": {
      "text/plain": [
       "6-element Array{Float64,1}:\n",
       "  0.0        \n",
       "  0.0        \n",
       "  0.0        \n",
       " -8.03183e-6 \n",
       "  2.05883e-10\n",
       "  5.30908e-8 "
      ]
     },
     "metadata": {},
     "output_type": "display_data"
    },
    {
     "name": "stdout",
     "output_type": "stream",
     "text": [
      "elapsed time: 1.143564159 seconds\n"
     ]
    },
    {
     "data": {
      "text/plain": [
       "6-element Array{Float64,1}:\n",
       "  0.0       \n",
       "  0.0       \n",
       "  0.0       \n",
       " -8.01988e-6\n",
       " -7.10852e-8\n",
       "  1.03188e-8"
      ]
     },
     "metadata": {},
     "output_type": "display_data"
    },
    {
     "data": {
      "text/plain": [
       "6-element Array{Float64,1}:\n",
       "  0.0       \n",
       "  0.0       \n",
       "  0.0       \n",
       " -8.01988e-6\n",
       " -7.10852e-8\n",
       "  1.03188e-8"
      ]
     },
     "metadata": {},
     "output_type": "display_data"
    },
    {
     "name": "stdout",
     "output_type": "stream",
     "text": [
      "elapsed time: 1.08448581 seconds\n"
     ]
    },
    {
     "data": {
      "text/plain": [
       "6-element Array{Float64,1}:\n",
       "  0.0        \n",
       "  0.0        \n",
       " -1.61559e-27\n",
       " -8.05195e-6 \n",
       "  1.92412e-8 \n",
       "  1.03612e-8 "
      ]
     },
     "metadata": {},
     "output_type": "display_data"
    },
    {
     "data": {
      "text/plain": [
       "6-element Array{Float64,1}:\n",
       "  0.0        \n",
       "  0.0        \n",
       " -1.61559e-27\n",
       " -8.05195e-6 \n",
       "  1.92412e-8 \n",
       "  1.03612e-8 "
      ]
     },
     "metadata": {},
     "output_type": "display_data"
    },
    {
     "name": "stdout",
     "output_type": "stream",
     "text": [
      "elapsed time: 0.692255733 seconds\n"
     ]
    },
    {
     "data": {
      "text/plain": [
       "6-element Array{Float64,1}:\n",
       "  0.0        \n",
       "  0.0        \n",
       "  8.07794e-28\n",
       " -8.01785e-6 \n",
       " -9.14988e-9 \n",
       " -7.94963e-9 "
      ]
     },
     "metadata": {},
     "output_type": "display_data"
    },
    {
     "data": {
      "text/plain": [
       "6-element Array{Float64,1}:\n",
       "  0.0        \n",
       "  0.0        \n",
       "  8.07794e-28\n",
       " -8.01785e-6 \n",
       " -9.14988e-9 \n",
       " -7.94963e-9 "
      ]
     },
     "metadata": {},
     "output_type": "display_data"
    },
    {
     "name": "stdout",
     "output_type": "stream",
     "text": [
      "elapsed time: 1.211721099 seconds\n"
     ]
    },
    {
     "data": {
      "text/plain": [
       "6-element Array{Float64,1}:\n",
       "  4.03897e-28\n",
       "  0.0        \n",
       "  0.0        \n",
       " -8.00618e-6 \n",
       "  2.93608e-8 \n",
       " -1.04513e-7 "
      ]
     },
     "metadata": {},
     "output_type": "display_data"
    },
    {
     "data": {
      "text/plain": [
       "6-element Array{Float64,1}:\n",
       "  4.03897e-28\n",
       "  0.0        \n",
       "  0.0        \n",
       " -8.00618e-6 \n",
       "  2.93608e-8 \n",
       " -1.04513e-7 "
      ]
     },
     "metadata": {},
     "output_type": "display_data"
    },
    {
     "name": "stdout",
     "output_type": "stream",
     "text": [
      "elapsed time: 1.138384682 seconds\n"
     ]
    },
    {
     "data": {
      "text/plain": [
       "6-element Array{Float64,1}:\n",
       "  8.07794e-28\n",
       "  0.0        \n",
       "  0.0        \n",
       " -8.03992e-6 \n",
       " -5.39458e-8 \n",
       "  3.43879e-8 "
      ]
     },
     "metadata": {},
     "output_type": "display_data"
    },
    {
     "data": {
      "text/plain": [
       "6-element Array{Float64,1}:\n",
       "  8.07794e-28\n",
       "  0.0        \n",
       "  0.0        \n",
       " -8.03992e-6 \n",
       " -5.39458e-8 \n",
       "  3.43879e-8 "
      ]
     },
     "metadata": {},
     "output_type": "display_data"
    },
    {
     "name": "stdout",
     "output_type": "stream",
     "text": [
      "elapsed time: 0.678307877 seconds\n"
     ]
    },
    {
     "data": {
      "text/plain": [
       "6-element Array{Float64,1}:\n",
       "  0.0       \n",
       "  0.0       \n",
       "  0.0       \n",
       " -8.0379e-6 \n",
       " -1.72514e-8\n",
       "  4.31683e-8"
      ]
     },
     "metadata": {},
     "output_type": "display_data"
    },
    {
     "data": {
      "text/plain": [
       "6-element Array{Float64,1}:\n",
       "  0.0       \n",
       "  0.0       \n",
       "  0.0       \n",
       " -8.0379e-6 \n",
       " -1.72514e-8\n",
       "  4.31683e-8"
      ]
     },
     "metadata": {},
     "output_type": "display_data"
    },
    {
     "name": "stdout",
     "output_type": "stream",
     "text": [
      "elapsed time: 1.195476955 seconds\n"
     ]
    },
    {
     "data": {
      "text/plain": [
       "6-element Array{Float64,1}:\n",
       "  0.0       \n",
       "  0.0       \n",
       "  0.0       \n",
       " -8.03461e-6\n",
       "  9.86451e-9\n",
       " -2.95419e-8"
      ]
     },
     "metadata": {},
     "output_type": "display_data"
    },
    {
     "data": {
      "text/plain": [
       "6-element Array{Float64,1}:\n",
       "  0.0       \n",
       "  0.0       \n",
       "  0.0       \n",
       " -8.03461e-6\n",
       "  9.86451e-9\n",
       " -2.95419e-8"
      ]
     },
     "metadata": {},
     "output_type": "display_data"
    },
    {
     "name": "stdout",
     "output_type": "stream",
     "text": [
      "elapsed time: 0.813599232 seconds\n"
     ]
    },
    {
     "data": {
      "text/plain": [
       "6-element Array{Float64,1}:\n",
       "  0.0        \n",
       "  0.0        \n",
       " -3.23117e-27\n",
       " -8.0393e-6  \n",
       "  2.5519e-8  \n",
       " -1.33479e-8 "
      ]
     },
     "metadata": {},
     "output_type": "display_data"
    },
    {
     "data": {
      "text/plain": [
       "6-element Array{Float64,1}:\n",
       "  0.0        \n",
       "  0.0        \n",
       " -3.23117e-27\n",
       " -8.0393e-6  \n",
       "  2.5519e-8  \n",
       " -1.33479e-8 "
      ]
     },
     "metadata": {},
     "output_type": "display_data"
    },
    {
     "name": "stdout",
     "output_type": "stream",
     "text": [
      "elapsed time: 0.828737733 seconds\n"
     ]
    },
    {
     "data": {
      "text/plain": [
       "6-element Array{Float64,1}:\n",
       "  0.0        \n",
       "  0.0        \n",
       " -6.46235e-27\n",
       " -8.03776e-6 \n",
       "  6.45634e-8 \n",
       "  4.60017e-8 "
      ]
     },
     "metadata": {},
     "output_type": "display_data"
    },
    {
     "data": {
      "text/plain": [
       "6-element Array{Float64,1}:\n",
       "  0.0        \n",
       "  0.0        \n",
       " -6.46235e-27\n",
       " -8.03776e-6 \n",
       "  6.45634e-8 \n",
       "  4.60017e-8 "
      ]
     },
     "metadata": {},
     "output_type": "display_data"
    },
    {
     "name": "stdout",
     "output_type": "stream",
     "text": [
      "elapsed time: 1.184105405 seconds\n"
     ]
    },
    {
     "data": {
      "text/plain": [
       "6-element Array{Float64,1}:\n",
       "  0.0        \n",
       "  0.0        \n",
       "  0.0        \n",
       " -8.03158e-6 \n",
       " -8.42423e-9 \n",
       "  6.77156e-10"
      ]
     },
     "metadata": {},
     "output_type": "display_data"
    },
    {
     "data": {
      "text/plain": [
       "6-element Array{Float64,1}:\n",
       "  0.0        \n",
       "  0.0        \n",
       "  0.0        \n",
       " -8.03158e-6 \n",
       " -8.42423e-9 \n",
       "  6.77156e-10"
      ]
     },
     "metadata": {},
     "output_type": "display_data"
    },
    {
     "name": "stdout",
     "output_type": "stream",
     "text": [
      "elapsed time: 0.837602347 seconds\n"
     ]
    },
    {
     "data": {
      "text/plain": [
       "6-element Array{Float64,1}:\n",
       "  0.0       \n",
       "  0.0       \n",
       "  0.0       \n",
       " -8.00793e-6\n",
       "  1.85506e-8\n",
       " -2.81449e-8"
      ]
     },
     "metadata": {},
     "output_type": "display_data"
    },
    {
     "data": {
      "text/plain": [
       "6-element Array{Float64,1}:\n",
       "  0.0       \n",
       "  0.0       \n",
       "  0.0       \n",
       " -8.00793e-6\n",
       "  1.85506e-8\n",
       " -2.81449e-8"
      ]
     },
     "metadata": {},
     "output_type": "display_data"
    },
    {
     "name": "stdout",
     "output_type": "stream",
     "text": [
      "elapsed time: 0.726695098 seconds\n"
     ]
    },
    {
     "data": {
      "text/plain": [
       "6-element Array{Float64,1}:\n",
       "  0.0       \n",
       "  0.0       \n",
       "  0.0       \n",
       " -8.02746e-6\n",
       " -7.07361e-8\n",
       " -3.83908e-8"
      ]
     },
     "metadata": {},
     "output_type": "display_data"
    },
    {
     "data": {
      "text/plain": [
       "6-element Array{Float64,1}:\n",
       "  0.0       \n",
       "  0.0       \n",
       "  0.0       \n",
       " -8.02746e-6\n",
       " -7.07361e-8\n",
       " -3.83908e-8"
      ]
     },
     "metadata": {},
     "output_type": "display_data"
    },
    {
     "name": "stdout",
     "output_type": "stream",
     "text": [
      "elapsed time: 1.280001854 seconds\n"
     ]
    },
    {
     "data": {
      "text/plain": [
       "6-element Array{Float64,1}:\n",
       " -2.01948e-28\n",
       "  0.0        \n",
       "  0.0        \n",
       " -8.03617e-6 \n",
       "  1.12992e-8 \n",
       "  1.15708e-7 "
      ]
     },
     "metadata": {},
     "output_type": "display_data"
    },
    {
     "data": {
      "text/plain": [
       "6-element Array{Float64,1}:\n",
       " -2.01948e-28\n",
       "  0.0        \n",
       "  0.0        \n",
       " -8.03617e-6 \n",
       "  1.12992e-8 \n",
       "  1.15708e-7 "
      ]
     },
     "metadata": {},
     "output_type": "display_data"
    },
    {
     "name": "stdout",
     "output_type": "stream",
     "text": [
      "elapsed time: 0.760301438 seconds\n"
     ]
    },
    {
     "data": {
      "text/plain": [
       "6-element Array{Float64,1}:\n",
       "  0.0       \n",
       "  0.0       \n",
       "  0.0       \n",
       " -8.05508e-6\n",
       " -7.14013e-8\n",
       "  1.71491e-7"
      ]
     },
     "metadata": {},
     "output_type": "display_data"
    },
    {
     "data": {
      "text/plain": [
       "6-element Array{Float64,1}:\n",
       "  0.0       \n",
       "  0.0       \n",
       "  0.0       \n",
       " -8.05508e-6\n",
       " -7.14013e-8\n",
       "  1.71491e-7"
      ]
     },
     "metadata": {},
     "output_type": "display_data"
    },
    {
     "name": "stdout",
     "output_type": "stream",
     "text": [
      "elapsed time: 1.385304124 seconds\n"
     ]
    },
    {
     "data": {
      "text/plain": [
       "6-element Array{Float64,1}:\n",
       "  0.0       \n",
       "  0.0       \n",
       "  0.0       \n",
       " -8.01992e-6\n",
       " -1.12062e-7\n",
       " -4.49462e-8"
      ]
     },
     "metadata": {},
     "output_type": "display_data"
    },
    {
     "data": {
      "text/plain": [
       "6-element Array{Float64,1}:\n",
       "  0.0       \n",
       "  0.0       \n",
       "  0.0       \n",
       " -8.01992e-6\n",
       " -1.12062e-7\n",
       " -4.49462e-8"
      ]
     },
     "metadata": {},
     "output_type": "display_data"
    },
    {
     "name": "stdout",
     "output_type": "stream",
     "text": [
      "elapsed time: 0.713880595 seconds\n"
     ]
    },
    {
     "data": {
      "text/plain": [
       "6-element Array{Float64,1}:\n",
       " -8.07794e-28\n",
       "  0.0        \n",
       "  0.0        \n",
       " -8.02232e-6 \n",
       "  3.61257e-8 \n",
       " -1.08637e-7 "
      ]
     },
     "metadata": {},
     "output_type": "display_data"
    },
    {
     "data": {
      "text/plain": [
       "6-element Array{Float64,1}:\n",
       " -8.07794e-28\n",
       "  0.0        \n",
       "  0.0        \n",
       " -8.02232e-6 \n",
       "  3.61257e-8 \n",
       " -1.08637e-7 "
      ]
     },
     "metadata": {},
     "output_type": "display_data"
    },
    {
     "name": "stdout",
     "output_type": "stream",
     "text": [
      "elapsed time: 0.684104431 seconds\n"
     ]
    },
    {
     "data": {
      "text/plain": [
       "6-element Array{Float64,1}:\n",
       "  0.0       \n",
       "  0.0       \n",
       "  0.0       \n",
       " -8.03816e-6\n",
       " -6.97934e-8\n",
       " -1.1114e-7 "
      ]
     },
     "metadata": {},
     "output_type": "display_data"
    },
    {
     "data": {
      "text/plain": [
       "6-element Array{Float64,1}:\n",
       "  0.0       \n",
       "  0.0       \n",
       "  0.0       \n",
       " -8.03816e-6\n",
       " -6.97934e-8\n",
       " -1.1114e-7 "
      ]
     },
     "metadata": {},
     "output_type": "display_data"
    },
    {
     "name": "stdout",
     "output_type": "stream",
     "text": [
      "elapsed time: 0.824752153 seconds\n"
     ]
    },
    {
     "data": {
      "text/plain": [
       "6-element Array{Float64,1}:\n",
       "  4.03897e-28\n",
       "  0.0        \n",
       "  0.0        \n",
       " -8.01952e-6 \n",
       "  2.88307e-8 \n",
       " -1.53755e-8 "
      ]
     },
     "metadata": {},
     "output_type": "display_data"
    },
    {
     "data": {
      "text/plain": [
       "6-element Array{Float64,1}:\n",
       "  4.03897e-28\n",
       "  0.0        \n",
       "  0.0        \n",
       " -8.01952e-6 \n",
       "  2.88307e-8 \n",
       " -1.53755e-8 "
      ]
     },
     "metadata": {},
     "output_type": "display_data"
    },
    {
     "name": "stdout",
     "output_type": "stream",
     "text": [
      "elapsed time: 1.157920597 seconds\n"
     ]
    },
    {
     "data": {
      "text/plain": [
       "6-element Array{Float64,1}:\n",
       "  0.0        \n",
       "  0.0        \n",
       "  3.23117e-27\n",
       " -8.06464e-6 \n",
       " -3.41289e-8 \n",
       "  5.75659e-8 "
      ]
     },
     "metadata": {},
     "output_type": "display_data"
    },
    {
     "data": {
      "text/plain": [
       "6-element Array{Float64,1}:\n",
       "  0.0        \n",
       "  0.0        \n",
       "  3.23117e-27\n",
       " -8.06464e-6 \n",
       " -3.41289e-8 \n",
       "  5.75659e-8 "
      ]
     },
     "metadata": {},
     "output_type": "display_data"
    },
    {
     "name": "stdout",
     "output_type": "stream",
     "text": [
      "elapsed time: 0.705002213 seconds\n"
     ]
    },
    {
     "data": {
      "text/plain": [
       "6-element Array{Float64,1}:\n",
       "  0.0        \n",
       "  0.0        \n",
       " -6.46235e-27\n",
       " -8.02163e-6 \n",
       "  4.63563e-8 \n",
       "  2.05813e-7 "
      ]
     },
     "metadata": {},
     "output_type": "display_data"
    },
    {
     "data": {
      "text/plain": [
       "6-element Array{Float64,1}:\n",
       "  0.0        \n",
       "  0.0        \n",
       " -6.46235e-27\n",
       " -8.02163e-6 \n",
       "  4.63563e-8 \n",
       "  2.05813e-7 "
      ]
     },
     "metadata": {},
     "output_type": "display_data"
    },
    {
     "name": "stdout",
     "output_type": "stream",
     "text": [
      "elapsed time: 0.801799823 seconds\n"
     ]
    },
    {
     "data": {
      "text/plain": [
       "6-element Array{Float64,1}:\n",
       "  8.07794e-28\n",
       "  0.0        \n",
       " -6.46235e-27\n",
       " -8.02163e-6 \n",
       "  4.63563e-8 \n",
       "  2.05813e-7 "
      ]
     },
     "metadata": {},
     "output_type": "display_data"
    },
    {
     "data": {
      "text/plain": [
       "6-element Array{Float64,1}:\n",
       "  8.07794e-28\n",
       "  0.0        \n",
       " -6.46235e-27\n",
       " -8.02163e-6 \n",
       "  4.63563e-8 \n",
       "  2.05813e-7 "
      ]
     },
     "metadata": {},
     "output_type": "display_data"
    },
    {
     "name": "stdout",
     "output_type": "stream",
     "text": [
      "elapsed time: 1.210892052 seconds\n"
     ]
    },
    {
     "data": {
      "text/plain": [
       "6-element Array{Float64,1}:\n",
       "  8.07794e-28\n",
       "  0.0        \n",
       " -6.46235e-27\n",
       " -8.02163e-6 \n",
       "  4.63563e-8 \n",
       "  2.05813e-7 "
      ]
     },
     "metadata": {},
     "output_type": "display_data"
    },
    {
     "data": {
      "text/plain": [
       "6-element Array{Float64,1}:\n",
       "  8.07794e-28\n",
       "  0.0        \n",
       " -6.46235e-27\n",
       " -8.02163e-6 \n",
       "  4.63563e-8 \n",
       "  2.05813e-7 "
      ]
     },
     "metadata": {},
     "output_type": "display_data"
    },
    {
     "name": "stdout",
     "output_type": "stream",
     "text": [
      "elapsed time: 0.87507042 seconds\n"
     ]
    },
    {
     "data": {
      "text/plain": [
       "6-element Array{Float64,1}:\n",
       "  0.0       \n",
       "  0.0       \n",
       "  0.0       \n",
       "  1.91456   \n",
       "  4.99939e-5\n",
       " -8.85167   "
      ]
     },
     "metadata": {},
     "output_type": "display_data"
    },
    {
     "data": {
      "text/plain": [
       "6-element Array{Float64,1}:\n",
       "  0.0       \n",
       "  0.0       \n",
       "  0.0       \n",
       "  1.91456   \n",
       "  4.99939e-5\n",
       " -8.85167   "
      ]
     },
     "metadata": {},
     "output_type": "display_data"
    },
    {
     "name": "stdout",
     "output_type": "stream",
     "text": [
      "elapsed time: 1.109800378 seconds\n",
      "Infeasible_Problem_Detected\n"
     ]
    },
    {
     "data": {
      "text/plain": [
       "6-element Array{Float64,1}:\n",
       "  0.0       \n",
       "  0.0       \n",
       "  0.0       \n",
       "  1.91456   \n",
       "  4.99939e-5\n",
       " -8.85167   "
      ]
     },
     "metadata": {},
     "output_type": "display_data"
    },
    {
     "data": {
      "text/plain": [
       "6-element Array{Float64,1}:\n",
       "  0.0       \n",
       "  0.0       \n",
       "  0.0       \n",
       "  1.91456   \n",
       "  4.99939e-5\n",
       " -8.85167   "
      ]
     },
     "metadata": {},
     "output_type": "display_data"
    },
    {
     "name": "stdout",
     "output_type": "stream",
     "text": [
      "elapsed time: 1.093265871 seconds\n"
     ]
    },
    {
     "data": {
      "text/plain": [
       "6-element Array{Float64,1}:\n",
       "  0.0     \n",
       "  0.0     \n",
       "  0.0     \n",
       "  1.17487 \n",
       " -0.121821\n",
       " -2.8498  "
      ]
     },
     "metadata": {},
     "output_type": "display_data"
    },
    {
     "data": {
      "text/plain": [
       "6-element Array{Float64,1}:\n",
       "  0.0     \n",
       "  0.0     \n",
       "  0.0     \n",
       "  1.17487 \n",
       " -0.121821\n",
       " -2.8498  "
      ]
     },
     "metadata": {},
     "output_type": "display_data"
    },
    {
     "name": "stdout",
     "output_type": "stream",
     "text": [
      "elapsed time: 0.7123846 seconds\n"
     ]
    },
    {
     "data": {
      "text/plain": [
       "6-element Array{Float64,1}:\n",
       "  1.35525e-20\n",
       "  0.0        \n",
       "  0.0        \n",
       "  1.1035     \n",
       " -0.108672   \n",
       " -2.83169    "
      ]
     },
     "metadata": {},
     "output_type": "display_data"
    },
    {
     "data": {
      "text/plain": [
       "6-element Array{Float64,1}:\n",
       "  1.35525e-20\n",
       "  0.0        \n",
       "  0.0        \n",
       "  1.1035     \n",
       " -0.108672   \n",
       " -2.83169    "
      ]
     },
     "metadata": {},
     "output_type": "display_data"
    },
    {
     "name": "stdout",
     "output_type": "stream",
     "text": [
      "elapsed time: 1.173819302 seconds\n"
     ]
    },
    {
     "data": {
      "text/plain": [
       "6-element Array{Float64,1}:\n",
       "  1.35525e-20\n",
       "  0.0        \n",
       "  0.0        \n",
       "  1.10341    \n",
       " -0.109221   \n",
       " -2.83171    "
      ]
     },
     "metadata": {},
     "output_type": "display_data"
    },
    {
     "data": {
      "text/plain": [
       "6-element Array{Float64,1}:\n",
       "  1.35525e-20\n",
       "  0.0        \n",
       "  0.0        \n",
       "  1.10341    \n",
       " -0.109221   \n",
       " -2.83171    "
      ]
     },
     "metadata": {},
     "output_type": "display_data"
    },
    {
     "name": "stdout",
     "output_type": "stream",
     "text": [
      "elapsed time: 0.702800452 seconds\n"
     ]
    },
    {
     "data": {
      "text/plain": [
       "6-element Array{Float64,1}:\n",
       "  1.35525e-20\n",
       "  0.0        \n",
       "  0.0        \n",
       "  1.103      \n",
       " -0.109035   \n",
       " -2.83179    "
      ]
     },
     "metadata": {},
     "output_type": "display_data"
    },
    {
     "data": {
      "text/plain": [
       "6-element Array{Float64,1}:\n",
       "  1.35525e-20\n",
       "  0.0        \n",
       "  0.0        \n",
       "  1.103      \n",
       " -0.109035   \n",
       " -2.83179    "
      ]
     },
     "metadata": {},
     "output_type": "display_data"
    },
    {
     "name": "stdout",
     "output_type": "stream",
     "text": [
      "elapsed time: 0.677689186 seconds\n"
     ]
    },
    {
     "data": {
      "text/plain": [
       "6-element Array{Float64,1}:\n",
       "  1.35525e-20\n",
       "  0.0        \n",
       "  0.0        \n",
       "  1.10341    \n",
       " -0.109221   \n",
       " -2.83171    "
      ]
     },
     "metadata": {},
     "output_type": "display_data"
    },
    {
     "data": {
      "text/plain": [
       "6-element Array{Float64,1}:\n",
       "  1.35525e-20\n",
       "  0.0        \n",
       "  0.0        \n",
       "  1.10341    \n",
       " -0.109221   \n",
       " -2.83171    "
      ]
     },
     "metadata": {},
     "output_type": "display_data"
    },
    {
     "name": "stdout",
     "output_type": "stream",
     "text": [
      "elapsed time: 1.207493806 seconds\n"
     ]
    },
    {
     "data": {
      "text/plain": [
       "6-element Array{Float64,1}:\n",
       "  1.69407e-21\n",
       "  0.0        \n",
       "  0.0        \n",
       "  1.09768    \n",
       " -0.00103015 \n",
       " -2.65718    "
      ]
     },
     "metadata": {},
     "output_type": "display_data"
    },
    {
     "data": {
      "text/plain": [
       "6-element Array{Float64,1}:\n",
       "  1.69407e-21\n",
       "  0.0        \n",
       "  0.0        \n",
       "  1.09768    \n",
       " -0.00103015 \n",
       " -2.65718    "
      ]
     },
     "metadata": {},
     "output_type": "display_data"
    },
    {
     "name": "stdout",
     "output_type": "stream",
     "text": [
      "elapsed time: 0.69109333 seconds\n"
     ]
    },
    {
     "data": {
      "text/plain": [
       "6-element Array{Float64,1}:\n",
       " -2.11758e-22\n",
       " -2.1684e-19 \n",
       "  0.0        \n",
       "  0.89047    \n",
       " -0.00102188 \n",
       " -1.50912    "
      ]
     },
     "metadata": {},
     "output_type": "display_data"
    },
    {
     "data": {
      "text/plain": [
       "6-element Array{Float64,1}:\n",
       " -2.11758e-22\n",
       " -2.1684e-19 \n",
       "  0.0        \n",
       "  0.89047    \n",
       " -0.00102188 \n",
       " -1.50912    "
      ]
     },
     "metadata": {},
     "output_type": "display_data"
    },
    {
     "name": "stdout",
     "output_type": "stream",
     "text": [
      "elapsed time: 1.055439193 seconds\n"
     ]
    },
    {
     "data": {
      "text/plain": [
       "6-element Array{Float64,1}:\n",
       "  5.29396e-23\n",
       "  0.0        \n",
       "  0.0        \n",
       "  0.891739   \n",
       " -0.000451458\n",
       " -1.50908    "
      ]
     },
     "metadata": {},
     "output_type": "display_data"
    },
    {
     "data": {
      "text/plain": [
       "6-element Array{Float64,1}:\n",
       "  5.29396e-23\n",
       "  0.0        \n",
       "  0.0        \n",
       "  0.891739   \n",
       " -0.000451458\n",
       " -1.50908    "
      ]
     },
     "metadata": {},
     "output_type": "display_data"
    },
    {
     "name": "stdout",
     "output_type": "stream",
     "text": [
      "elapsed time: 1.075717394 seconds\n"
     ]
    },
    {
     "data": {
      "text/plain": [
       "6-element Array{Float64,1}:\n",
       "  1.05879e-22\n",
       "  0.0        \n",
       "  0.0        \n",
       "  0.891465   \n",
       " -0.000626462\n",
       " -1.50911    "
      ]
     },
     "metadata": {},
     "output_type": "display_data"
    },
    {
     "data": {
      "text/plain": [
       "6-element Array{Float64,1}:\n",
       "  1.05879e-22\n",
       "  0.0        \n",
       "  0.0        \n",
       "  0.891465   \n",
       " -0.000626462\n",
       " -1.50911    "
      ]
     },
     "metadata": {},
     "output_type": "display_data"
    },
    {
     "name": "stdout",
     "output_type": "stream",
     "text": [
      "elapsed time: 0.687522507 seconds\n"
     ]
    },
    {
     "data": {
      "text/plain": [
       "6-element Array{Float64,1}:\n",
       "  8.47033e-22\n",
       "  2.1684e-19 \n",
       "  0.0        \n",
       "  0.756464   \n",
       "  0.0105456  \n",
       " -1.50083    "
      ]
     },
     "metadata": {},
     "output_type": "display_data"
    },
    {
     "data": {
      "text/plain": [
       "6-element Array{Float64,1}:\n",
       "  8.47033e-22\n",
       "  2.1684e-19 \n",
       "  0.0        \n",
       "  0.756464   \n",
       "  0.0105456  \n",
       " -1.50083    "
      ]
     },
     "metadata": {},
     "output_type": "display_data"
    },
    {
     "name": "stdout",
     "output_type": "stream",
     "text": [
      "elapsed time: 1.131020128 seconds\n"
     ]
    },
    {
     "data": {
      "text/plain": [
       "6-element Array{Float64,1}:\n",
       "  8.47033e-22\n",
       "  2.1684e-19 \n",
       "  1.69407e-21\n",
       "  0.753194   \n",
       "  0.0107377  \n",
       " -1.50183    "
      ]
     },
     "metadata": {},
     "output_type": "display_data"
    },
    {
     "data": {
      "text/plain": [
       "6-element Array{Float64,1}:\n",
       "  8.47033e-22\n",
       "  2.1684e-19 \n",
       "  1.69407e-21\n",
       "  0.753194   \n",
       "  0.0107377  \n",
       " -1.50183    "
      ]
     },
     "metadata": {},
     "output_type": "display_data"
    },
    {
     "name": "stdout",
     "output_type": "stream",
     "text": [
      "elapsed time: 0.728720851 seconds\n"
     ]
    },
    {
     "data": {
      "text/plain": [
       "6-element Array{Float64,1}:\n",
       "  0.0        \n",
       " -2.1684e-19 \n",
       " -1.69407e-21\n",
       "  0.75553    \n",
       "  0.0102215  \n",
       " -1.50236    "
      ]
     },
     "metadata": {},
     "output_type": "display_data"
    },
    {
     "data": {
      "text/plain": [
       "6-element Array{Float64,1}:\n",
       "  0.0        \n",
       " -2.1684e-19 \n",
       " -1.69407e-21\n",
       "  0.75553    \n",
       "  0.0102215  \n",
       " -1.50236    "
      ]
     },
     "metadata": {},
     "output_type": "display_data"
    },
    {
     "name": "stdout",
     "output_type": "stream",
     "text": [
      "elapsed time: 0.681790348 seconds\n"
     ]
    },
    {
     "data": {
      "text/plain": [
       "6-element Array{Float64,1}:\n",
       "  0.0        \n",
       " -2.1684e-19 \n",
       "  1.69407e-21\n",
       "  0.756783   \n",
       "  0.00943703 \n",
       " -1.50481    "
      ]
     },
     "metadata": {},
     "output_type": "display_data"
    },
    {
     "data": {
      "text/plain": [
       "6-element Array{Float64,1}:\n",
       "  0.0        \n",
       " -2.1684e-19 \n",
       "  1.69407e-21\n",
       "  0.756783   \n",
       "  0.00943703 \n",
       " -1.50481    "
      ]
     },
     "metadata": {},
     "output_type": "display_data"
    },
    {
     "name": "stdout",
     "output_type": "stream",
     "text": [
      "elapsed time: 1.078126637 seconds\n"
     ]
    },
    {
     "data": {
      "text/plain": [
       "6-element Array{Float64,1}:\n",
       "  5.29396e-23\n",
       "  0.0        \n",
       "  0.0        \n",
       "  0.780018   \n",
       "  0.00126539 \n",
       " -1.57464    "
      ]
     },
     "metadata": {},
     "output_type": "display_data"
    },
    {
     "data": {
      "text/plain": [
       "6-element Array{Float64,1}:\n",
       "  5.29396e-23\n",
       "  0.0        \n",
       "  0.0        \n",
       "  0.780018   \n",
       "  0.00126539 \n",
       " -1.57464    "
      ]
     },
     "metadata": {},
     "output_type": "display_data"
    },
    {
     "name": "stdout",
     "output_type": "stream",
     "text": [
      "elapsed time: 0.692361718 seconds\n"
     ]
    },
    {
     "data": {
      "text/plain": [
       "6-element Array{Float64,1}:\n",
       "  0.0        \n",
       "  0.0        \n",
       " -2.11758e-22\n",
       "  0.780855   \n",
       "  0.00123963 \n",
       " -1.57628    "
      ]
     },
     "metadata": {},
     "output_type": "display_data"
    },
    {
     "data": {
      "text/plain": [
       "6-element Array{Float64,1}:\n",
       "  0.0        \n",
       "  0.0        \n",
       " -2.11758e-22\n",
       "  0.780855   \n",
       "  0.00123963 \n",
       " -1.57628    "
      ]
     },
     "metadata": {},
     "output_type": "display_data"
    },
    {
     "name": "stdout",
     "output_type": "stream",
     "text": [
      "elapsed time: 0.821860402 seconds\n"
     ]
    },
    {
     "data": {
      "text/plain": [
       "6-element Array{Float64,1}:\n",
       "  0.0        \n",
       " -2.1684e-19 \n",
       " -2.64698e-23\n",
       "  0.781213   \n",
       "  0.00017869 \n",
       " -1.57447    "
      ]
     },
     "metadata": {},
     "output_type": "display_data"
    },
    {
     "data": {
      "text/plain": [
       "6-element Array{Float64,1}:\n",
       "  0.0        \n",
       " -2.1684e-19 \n",
       " -2.64698e-23\n",
       "  0.781213   \n",
       "  0.00017869 \n",
       " -1.57447    "
      ]
     },
     "metadata": {},
     "output_type": "display_data"
    },
    {
     "name": "stdout",
     "output_type": "stream",
     "text": [
      "elapsed time: 1.078678165 seconds\n"
     ]
    },
    {
     "data": {
      "text/plain": [
       "6-element Array{Float64,1}:\n",
       "  0.0        \n",
       "  2.1684e-19 \n",
       "  2.64698e-23\n",
       "  0.780967   \n",
       "  0.000198614\n",
       " -1.5746     "
      ]
     },
     "metadata": {},
     "output_type": "display_data"
    },
    {
     "data": {
      "text/plain": [
       "6-element Array{Float64,1}:\n",
       "  0.0        \n",
       "  2.1684e-19 \n",
       "  2.64698e-23\n",
       "  0.780967   \n",
       "  0.000198614\n",
       " -1.5746     "
      ]
     },
     "metadata": {},
     "output_type": "display_data"
    },
    {
     "name": "stdout",
     "output_type": "stream",
     "text": [
      "elapsed time: 0.732265006 seconds\n"
     ]
    },
    {
     "data": {
      "text/plain": [
       "6-element Array{Float64,1}:\n",
       " -1.05879e-22\n",
       "  0.0        \n",
       "  0.0        \n",
       "  0.781127   \n",
       "  0.00251236 \n",
       " -1.57426    "
      ]
     },
     "metadata": {},
     "output_type": "display_data"
    },
    {
     "data": {
      "text/plain": [
       "6-element Array{Float64,1}:\n",
       " -1.05879e-22\n",
       "  0.0        \n",
       "  0.0        \n",
       "  0.781127   \n",
       "  0.00251236 \n",
       " -1.57426    "
      ]
     },
     "metadata": {},
     "output_type": "display_data"
    },
    {
     "name": "stdout",
     "output_type": "stream",
     "text": [
      "elapsed time: 1.180315892 seconds\n"
     ]
    },
    {
     "data": {
      "text/plain": [
       "6-element Array{Float64,1}:\n",
       "  0.0        \n",
       "  0.0        \n",
       " -4.23516e-22\n",
       "  0.781812   \n",
       "  0.00290951 \n",
       " -1.57529    "
      ]
     },
     "metadata": {},
     "output_type": "display_data"
    },
    {
     "data": {
      "text/plain": [
       "6-element Array{Float64,1}:\n",
       "  0.0        \n",
       "  0.0        \n",
       " -4.23516e-22\n",
       "  0.781812   \n",
       "  0.00290951 \n",
       " -1.57529    "
      ]
     },
     "metadata": {},
     "output_type": "display_data"
    },
    {
     "name": "stdout",
     "output_type": "stream",
     "text": [
      "elapsed time: 1.081134682 seconds\n"
     ]
    },
    {
     "data": {
      "text/plain": [
       "6-element Array{Float64,1}:\n",
       " -1.05879e-22\n",
       "  0.0        \n",
       "  0.0        \n",
       "  0.781127   \n",
       "  0.00251236 \n",
       " -1.57426    "
      ]
     },
     "metadata": {},
     "output_type": "display_data"
    },
    {
     "data": {
      "text/plain": [
       "6-element Array{Float64,1}:\n",
       " -1.05879e-22\n",
       "  0.0        \n",
       "  0.0        \n",
       "  0.781127   \n",
       "  0.00251236 \n",
       " -1.57426    "
      ]
     },
     "metadata": {},
     "output_type": "display_data"
    },
    {
     "name": "stdout",
     "output_type": "stream",
     "text": [
      "elapsed time: 1.06821225 seconds\n"
     ]
    },
    {
     "data": {
      "text/plain": [
       "6-element Array{Float64,1}:\n",
       "  0.0        \n",
       " -2.1684e-19 \n",
       " -4.23516e-22\n",
       "  0.780363   \n",
       "  0.00313843 \n",
       " -1.57207    "
      ]
     },
     "metadata": {},
     "output_type": "display_data"
    },
    {
     "data": {
      "text/plain": [
       "6-element Array{Float64,1}:\n",
       "  0.0        \n",
       " -2.1684e-19 \n",
       " -4.23516e-22\n",
       "  0.780363   \n",
       "  0.00313843 \n",
       " -1.57207    "
      ]
     },
     "metadata": {},
     "output_type": "display_data"
    },
    {
     "name": "stdout",
     "output_type": "stream",
     "text": [
      "elapsed time: 0.685496849 seconds\n"
     ]
    },
    {
     "data": {
      "text/plain": [
       "6-element Array{Float64,1}:\n",
       "  0.0        \n",
       "  0.0        \n",
       "  2.11758e-22\n",
       "  0.778457   \n",
       "  0.00113184 \n",
       " -1.56527    "
      ]
     },
     "metadata": {},
     "output_type": "display_data"
    },
    {
     "data": {
      "text/plain": [
       "6-element Array{Float64,1}:\n",
       "  0.0        \n",
       "  0.0        \n",
       "  2.11758e-22\n",
       "  0.778457   \n",
       "  0.00113184 \n",
       " -1.56527    "
      ]
     },
     "metadata": {},
     "output_type": "display_data"
    },
    {
     "name": "stdout",
     "output_type": "stream",
     "text": [
      "elapsed time: 1.110368144 seconds\n"
     ]
    },
    {
     "data": {
      "text/plain": [
       "6-element Array{Float64,1}:\n",
       "  0.0        \n",
       "  0.0        \n",
       "  0.0        \n",
       "  0.777205   \n",
       "  0.000121183\n",
       " -1.56377    "
      ]
     },
     "metadata": {},
     "output_type": "display_data"
    },
    {
     "data": {
      "text/plain": [
       "6-element Array{Float64,1}:\n",
       "  0.0        \n",
       "  0.0        \n",
       "  0.0        \n",
       "  0.777205   \n",
       "  0.000121183\n",
       " -1.56377    "
      ]
     },
     "metadata": {},
     "output_type": "display_data"
    },
    {
     "name": "stdout",
     "output_type": "stream",
     "text": [
      "elapsed time: 0.689671575 seconds\n"
     ]
    },
    {
     "data": {
      "text/plain": [
       "6-element Array{Float64,1}:\n",
       "  0.0        \n",
       "  2.1684e-19 \n",
       " -4.23516e-22\n",
       "  0.779885   \n",
       " -0.00170229 \n",
       " -1.56901    "
      ]
     },
     "metadata": {},
     "output_type": "display_data"
    },
    {
     "data": {
      "text/plain": [
       "6-element Array{Float64,1}:\n",
       "  0.0        \n",
       "  2.1684e-19 \n",
       " -4.23516e-22\n",
       "  0.779885   \n",
       " -0.00170229 \n",
       " -1.56901    "
      ]
     },
     "metadata": {},
     "output_type": "display_data"
    },
    {
     "name": "stdout",
     "output_type": "stream",
     "text": [
      "elapsed time: 1.092736345 seconds\n"
     ]
    },
    {
     "data": {
      "text/plain": [
       "6-element Array{Float64,1}:\n",
       "  0.0       \n",
       "  2.1684e-19\n",
       "  0.0       \n",
       "  0.779449  \n",
       " -0.00144536\n",
       " -1.56898   "
      ]
     },
     "metadata": {},
     "output_type": "display_data"
    },
    {
     "data": {
      "text/plain": [
       "6-element Array{Float64,1}:\n",
       "  0.0       \n",
       "  2.1684e-19\n",
       "  0.0       \n",
       "  0.779449  \n",
       " -0.00144536\n",
       " -1.56898   "
      ]
     },
     "metadata": {},
     "output_type": "display_data"
    },
    {
     "name": "stdout",
     "output_type": "stream",
     "text": [
      "elapsed time: 1.092188935 seconds\n"
     ]
    },
    {
     "data": {
      "text/plain": [
       "6-element Array{Float64,1}:\n",
       "  0.0       \n",
       "  0.0       \n",
       "  0.0       \n",
       "  0.779368  \n",
       " -0.00187471\n",
       " -1.56903   "
      ]
     },
     "metadata": {},
     "output_type": "display_data"
    },
    {
     "data": {
      "text/plain": [
       "6-element Array{Float64,1}:\n",
       "  0.0       \n",
       "  0.0       \n",
       "  0.0       \n",
       "  0.779368  \n",
       " -0.00187471\n",
       " -1.56903   "
      ]
     },
     "metadata": {},
     "output_type": "display_data"
    },
    {
     "name": "stdout",
     "output_type": "stream",
     "text": [
      "elapsed time: 0.688057201 seconds\n"
     ]
    },
    {
     "data": {
      "text/plain": [
       "6-element Array{Float64,1}:\n",
       "  0.0       \n",
       "  2.1684e-19\n",
       "  0.0       \n",
       "  0.779449  \n",
       " -0.00144536\n",
       " -1.56898   "
      ]
     },
     "metadata": {},
     "output_type": "display_data"
    },
    {
     "data": {
      "text/plain": [
       "6-element Array{Float64,1}:\n",
       "  0.0       \n",
       "  2.1684e-19\n",
       "  0.0       \n",
       "  0.779449  \n",
       " -0.00144536\n",
       " -1.56898   "
      ]
     },
     "metadata": {},
     "output_type": "display_data"
    },
    {
     "name": "stdout",
     "output_type": "stream",
     "text": [
      "elapsed time: 0.811502943 seconds\n"
     ]
    },
    {
     "data": {
      "text/plain": [
       "6-element Array{Float64,1}:\n",
       "  0.0        \n",
       " -2.1684e-19 \n",
       "  4.23516e-22\n",
       "  0.781686   \n",
       " -0.00188746 \n",
       " -1.5735     "
      ]
     },
     "metadata": {},
     "output_type": "display_data"
    },
    {
     "data": {
      "text/plain": [
       "6-element Array{Float64,1}:\n",
       "  0.0        \n",
       " -2.1684e-19 \n",
       "  4.23516e-22\n",
       "  0.781686   \n",
       " -0.00188746 \n",
       " -1.5735     "
      ]
     },
     "metadata": {},
     "output_type": "display_data"
    },
    {
     "name": "stdout",
     "output_type": "stream",
     "text": [
      "elapsed time: 0.666281457 seconds\n"
     ]
    },
    {
     "data": {
      "text/plain": [
       "6-element Array{Float64,1}:\n",
       "  0.0       \n",
       "  0.0       \n",
       "  0.0       \n",
       "  0.780433  \n",
       " -0.00130077\n",
       " -1.5728    "
      ]
     },
     "metadata": {},
     "output_type": "display_data"
    },
    {
     "data": {
      "text/plain": [
       "6-element Array{Float64,1}:\n",
       "  0.0       \n",
       "  0.0       \n",
       "  0.0       \n",
       "  0.780433  \n",
       " -0.00130077\n",
       " -1.5728    "
      ]
     },
     "metadata": {},
     "output_type": "display_data"
    },
    {
     "name": "stdout",
     "output_type": "stream",
     "text": [
      "elapsed time: 1.068441177 seconds\n"
     ]
    },
    {
     "data": {
      "text/plain": [
       "6-element Array{Float64,1}:\n",
       "   0.0       \n",
       "   0.0       \n",
       "  -1.0842e-19\n",
       "  10.2333    \n",
       "  -0.013605  \n",
       " -24.3104    "
      ]
     },
     "metadata": {},
     "output_type": "display_data"
    },
    {
     "data": {
      "text/plain": [
       "6-element Array{Float64,1}:\n",
       "   0.0       \n",
       "   0.0       \n",
       "  -1.0842e-19\n",
       "  10.2333    \n",
       "  -0.013605  \n",
       " -24.3104    "
      ]
     },
     "metadata": {},
     "output_type": "display_data"
    },
    {
     "name": "stdout",
     "output_type": "stream",
     "text": [
      "elapsed time: 1.064736696 seconds\n"
     ]
    },
    {
     "data": {
      "text/plain": [
       "6-element Array{Float64,1}:\n",
       "   0.0      \n",
       "   0.0      \n",
       "   0.0      \n",
       "  10.2295   \n",
       "  -0.0136168\n",
       " -24.3117   "
      ]
     },
     "metadata": {},
     "output_type": "display_data"
    },
    {
     "data": {
      "text/plain": [
       "6-element Array{Float64,1}:\n",
       "   0.0      \n",
       "   0.0      \n",
       "   0.0      \n",
       "  10.2295   \n",
       "  -0.0136168\n",
       " -24.3117   "
      ]
     },
     "metadata": {},
     "output_type": "display_data"
    },
    {
     "name": "stdout",
     "output_type": "stream",
     "text": [
      "elapsed time: 0.72720192 seconds\n"
     ]
    },
    {
     "data": {
      "text/plain": [
       "6-element Array{Float64,1}:\n",
       "   2.1684e-19\n",
       "   0.0       \n",
       "   1.0842e-19\n",
       "  10.233     \n",
       "  -0.013568  \n",
       " -24.3094    "
      ]
     },
     "metadata": {},
     "output_type": "display_data"
    },
    {
     "data": {
      "text/plain": [
       "6-element Array{Float64,1}:\n",
       "   2.1684e-19\n",
       "   0.0       \n",
       "   1.0842e-19\n",
       "  10.233     \n",
       "  -0.013568  \n",
       " -24.3094    "
      ]
     },
     "metadata": {},
     "output_type": "display_data"
    },
    {
     "name": "stdout",
     "output_type": "stream",
     "text": [
      "elapsed time: 1.180686474 seconds\n"
     ]
    },
    {
     "data": {
      "text/plain": [
       "6-element Array{Float64,1}:\n",
       "   0.0       \n",
       "   0.0       \n",
       "   1.0842e-19\n",
       "  10.2688    \n",
       "  -0.0133683 \n",
       " -24.3701    "
      ]
     },
     "metadata": {},
     "output_type": "display_data"
    },
    {
     "data": {
      "text/plain": [
       "6-element Array{Float64,1}:\n",
       "   0.0       \n",
       "   0.0       \n",
       "   1.0842e-19\n",
       "  10.2688    \n",
       "  -0.0133683 \n",
       " -24.3701    "
      ]
     },
     "metadata": {},
     "output_type": "display_data"
    },
    {
     "name": "stdout",
     "output_type": "stream",
     "text": [
      "elapsed time: 0.695011286 seconds\n"
     ]
    },
    {
     "data": {
      "text/plain": [
       "6-element Array{Float64,1}:\n",
       "  -2.1684e-19\n",
       "   0.0       \n",
       "  -1.0842e-19\n",
       "  10.2689    \n",
       "  -0.0133563 \n",
       " -24.37      "
      ]
     },
     "metadata": {},
     "output_type": "display_data"
    },
    {
     "data": {
      "text/plain": [
       "6-element Array{Float64,1}:\n",
       "  -2.1684e-19\n",
       "   0.0       \n",
       "  -1.0842e-19\n",
       "  10.2689    \n",
       "  -0.0133563 \n",
       " -24.37      "
      ]
     },
     "metadata": {},
     "output_type": "display_data"
    },
    {
     "name": "stdout",
     "output_type": "stream",
     "text": [
      "elapsed time: 1.069489749 seconds\n"
     ]
    },
    {
     "data": {
      "text/plain": [
       "6-element Array{Float64,1}:\n",
       "   2.1684e-19 \n",
       "  -3.46945e-18\n",
       "  -1.0842e-19 \n",
       "  10.2719     \n",
       "  -0.0130324  \n",
       " -24.3683     "
      ]
     },
     "metadata": {},
     "output_type": "display_data"
    },
    {
     "data": {
      "text/plain": [
       "6-element Array{Float64,1}:\n",
       "   2.1684e-19 \n",
       "  -3.46945e-18\n",
       "  -1.0842e-19 \n",
       "  10.2719     \n",
       "  -0.0130324  \n",
       " -24.3683     "
      ]
     },
     "metadata": {},
     "output_type": "display_data"
    },
    {
     "name": "stdout",
     "output_type": "stream",
     "text": [
      "elapsed time: 1.085715699 seconds\n"
     ]
    },
    {
     "data": {
      "text/plain": [
       "6-element Array{Float64,1}:\n",
       "   0.0       \n",
       "   0.0       \n",
       "  -1.0842e-19\n",
       "  10.2723    \n",
       "  -0.0129734 \n",
       " -24.3683    "
      ]
     },
     "metadata": {},
     "output_type": "display_data"
    },
    {
     "data": {
      "text/plain": [
       "6-element Array{Float64,1}:\n",
       "   0.0       \n",
       "   0.0       \n",
       "  -1.0842e-19\n",
       "  10.2723    \n",
       "  -0.0129734 \n",
       " -24.3683    "
      ]
     },
     "metadata": {},
     "output_type": "display_data"
    },
    {
     "name": "stdout",
     "output_type": "stream",
     "text": [
      "elapsed time: 0.675026869 seconds\n"
     ]
    },
    {
     "data": {
      "text/plain": [
       "6-element Array{Float64,1}:\n",
       "   0.0        \n",
       "   3.46945e-18\n",
       "   0.0        \n",
       "  10.2767     \n",
       "  -0.0124876  \n",
       " -24.3659     "
      ]
     },
     "metadata": {},
     "output_type": "display_data"
    },
    {
     "data": {
      "text/plain": [
       "6-element Array{Float64,1}:\n",
       "   0.0        \n",
       "   3.46945e-18\n",
       "   0.0        \n",
       "  10.2767     \n",
       "  -0.0124876  \n",
       " -24.3659     "
      ]
     },
     "metadata": {},
     "output_type": "display_data"
    },
    {
     "name": "stdout",
     "output_type": "stream",
     "text": [
      "elapsed time: 1.131739366 seconds\n"
     ]
    },
    {
     "data": {
      "text/plain": [
       "6-element Array{Float64,1}:\n",
       "   2.1684e-19\n",
       "   0.0       \n",
       "  -1.0842e-19\n",
       "  10.2772    \n",
       "  -0.0124699 \n",
       " -24.3656    "
      ]
     },
     "metadata": {},
     "output_type": "display_data"
    },
    {
     "data": {
      "text/plain": [
       "6-element Array{Float64,1}:\n",
       "   2.1684e-19\n",
       "   0.0       \n",
       "  -1.0842e-19\n",
       "  10.2772    \n",
       "  -0.0124699 \n",
       " -24.3656    "
      ]
     },
     "metadata": {},
     "output_type": "display_data"
    },
    {
     "name": "stdout",
     "output_type": "stream",
     "text": [
      "elapsed time: 0.68682624 seconds\n"
     ]
    },
    {
     "data": {
      "text/plain": [
       "6-element Array{Float64,1}:\n",
       "   0.0       \n",
       "   0.0       \n",
       "  -1.0842e-19\n",
       "  10.2785    \n",
       "  -0.0133419 \n",
       " -24.3648    "
      ]
     },
     "metadata": {},
     "output_type": "display_data"
    },
    {
     "data": {
      "text/plain": [
       "6-element Array{Float64,1}:\n",
       "   0.0       \n",
       "   0.0       \n",
       "  -1.0842e-19\n",
       "  10.2785    \n",
       "  -0.0133419 \n",
       " -24.3648    "
      ]
     },
     "metadata": {},
     "output_type": "display_data"
    },
    {
     "name": "stdout",
     "output_type": "stream",
     "text": [
      "elapsed time: 1.065472138 seconds\n"
     ]
    },
    {
     "data": {
      "text/plain": [
       "6-element Array{Float64,1}:\n",
       "   0.0      \n",
       "   0.0      \n",
       "   0.0      \n",
       "  10.2821   \n",
       "  -0.0123394\n",
       " -24.3627   "
      ]
     },
     "metadata": {},
     "output_type": "display_data"
    },
    {
     "data": {
      "text/plain": [
       "6-element Array{Float64,1}:\n",
       "   0.0      \n",
       "   0.0      \n",
       "   0.0      \n",
       "  10.2821   \n",
       "  -0.0123394\n",
       " -24.3627   "
      ]
     },
     "metadata": {},
     "output_type": "display_data"
    },
    {
     "name": "stdout",
     "output_type": "stream",
     "text": [
      "elapsed time: 1.062260984 seconds\n"
     ]
    },
    {
     "data": {
      "text/plain": [
       "6-element Array{Float64,1}:\n",
       "   0.0      \n",
       "   0.0      \n",
       "   0.0      \n",
       "  10.2833   \n",
       "  -0.0124685\n",
       " -24.3619   "
      ]
     },
     "metadata": {},
     "output_type": "display_data"
    },
    {
     "data": {
      "text/plain": [
       "6-element Array{Float64,1}:\n",
       "   0.0      \n",
       "   0.0      \n",
       "   0.0      \n",
       "  10.2833   \n",
       "  -0.0124685\n",
       " -24.3619   "
      ]
     },
     "metadata": {},
     "output_type": "display_data"
    },
    {
     "name": "stdout",
     "output_type": "stream",
     "text": [
      "elapsed time: 0.698935286 seconds\n"
     ]
    },
    {
     "data": {
      "text/plain": [
       "6-element Array{Float64,1}:\n",
       "  -2.1684e-19\n",
       "   0.0       \n",
       "   1.0842e-19\n",
       "  10.283     \n",
       "  -0.0114878 \n",
       " -24.3621    "
      ]
     },
     "metadata": {},
     "output_type": "display_data"
    },
    {
     "data": {
      "text/plain": [
       "6-element Array{Float64,1}:\n",
       "  -2.1684e-19\n",
       "   0.0       \n",
       "   1.0842e-19\n",
       "  10.283     \n",
       "  -0.0114878 \n",
       " -24.3621    "
      ]
     },
     "metadata": {},
     "output_type": "display_data"
    },
    {
     "name": "stdout",
     "output_type": "stream",
     "text": [
      "elapsed time: 1.149759309 seconds\n"
     ]
    },
    {
     "data": {
      "text/plain": [
       "6-element Array{Float64,1}:\n",
       "   0.0        \n",
       "  -3.46945e-18\n",
       "  -5.42101e-20\n",
       "  10.3233     \n",
       "  -0.0063561  \n",
       " -24.3782     "
      ]
     },
     "metadata": {},
     "output_type": "display_data"
    },
    {
     "data": {
      "text/plain": [
       "6-element Array{Float64,1}:\n",
       "   0.0        \n",
       "  -3.46945e-18\n",
       "  -5.42101e-20\n",
       "  10.3233     \n",
       "  -0.0063561  \n",
       " -24.3782     "
      ]
     },
     "metadata": {},
     "output_type": "display_data"
    },
    {
     "name": "stdout",
     "output_type": "stream",
     "text": [
      "elapsed time: 0.702018305 seconds\n"
     ]
    },
    {
     "data": {
      "text/plain": [
       "6-element Array{Float64,1}:\n",
       "   0.0        \n",
       "  -3.46945e-18\n",
       "   0.0        \n",
       "  10.5022     \n",
       "  -0.00628444 \n",
       " -24.5972     "
      ]
     },
     "metadata": {},
     "output_type": "display_data"
    },
    {
     "data": {
      "text/plain": [
       "6-element Array{Float64,1}:\n",
       "   0.0        \n",
       "  -3.46945e-18\n",
       "   0.0        \n",
       "  10.5022     \n",
       "  -0.00628444 \n",
       " -24.5972     "
      ]
     },
     "metadata": {},
     "output_type": "display_data"
    },
    {
     "name": "stdout",
     "output_type": "stream",
     "text": [
      "elapsed time: 1.097784013 seconds\n"
     ]
    },
    {
     "data": {
      "text/plain": [
       "6-element Array{Float64,1}:\n",
       "   2.64698e-23\n",
       "   0.0        \n",
       "   1.32349e-23\n",
       "   9.98144    \n",
       "  -1.75429e-5 \n",
       " -23.8236     "
      ]
     },
     "metadata": {},
     "output_type": "display_data"
    },
    {
     "data": {
      "text/plain": [
       "6-element Array{Float64,1}:\n",
       "   2.64698e-23\n",
       "   0.0        \n",
       "   1.32349e-23\n",
       "   9.98144    \n",
       "  -1.75429e-5 \n",
       " -23.8236     "
      ]
     },
     "metadata": {},
     "output_type": "display_data"
    },
    {
     "name": "stdout",
     "output_type": "stream",
     "text": [
      "elapsed time: 1.130298351 seconds\n"
     ]
    },
    {
     "data": {
      "text/plain": [
       "6-element Array{Float64,1}:\n",
       "   0.0        \n",
       "  -3.46945e-18\n",
       "   0.0        \n",
       "   9.98165    \n",
       "  -2.06507e-5 \n",
       " -23.824      "
      ]
     },
     "metadata": {},
     "output_type": "display_data"
    },
    {
     "data": {
      "text/plain": [
       "6-element Array{Float64,1}:\n",
       "   0.0        \n",
       "  -3.46945e-18\n",
       "   0.0        \n",
       "   9.98165    \n",
       "  -2.06507e-5 \n",
       " -23.824      "
      ]
     },
     "metadata": {},
     "output_type": "display_data"
    },
    {
     "name": "stdout",
     "output_type": "stream",
     "text": [
      "elapsed time: 0.687772265 seconds\n"
     ]
    },
    {
     "data": {
      "text/plain": [
       "6-element Array{Float64,1}:\n",
       "   0.0        \n",
       "  -3.46945e-18\n",
       "   0.0        \n",
       "   9.98198    \n",
       "  -4.14061e-5 \n",
       " -23.824      "
      ]
     },
     "metadata": {},
     "output_type": "display_data"
    },
    {
     "data": {
      "text/plain": [
       "6-element Array{Float64,1}:\n",
       "   0.0        \n",
       "  -3.46945e-18\n",
       "   0.0        \n",
       "   9.98198    \n",
       "  -4.14061e-5 \n",
       " -23.824      "
      ]
     },
     "metadata": {},
     "output_type": "display_data"
    },
    {
     "name": "stdout",
     "output_type": "stream",
     "text": [
      "elapsed time: 1.171564254 seconds\n"
     ]
    },
    {
     "data": {
      "text/plain": [
       "6-element Array{Float64,1}:\n",
       "   0.0        \n",
       "  -3.46945e-18\n",
       "   0.0        \n",
       "   9.97805    \n",
       "  -0.000126661\n",
       " -23.8254     "
      ]
     },
     "metadata": {},
     "output_type": "display_data"
    },
    {
     "data": {
      "text/plain": [
       "6-element Array{Float64,1}:\n",
       "   0.0        \n",
       "  -3.46945e-18\n",
       "   0.0        \n",
       "   9.97805    \n",
       "  -0.000126661\n",
       " -23.8254     "
      ]
     },
     "metadata": {},
     "output_type": "display_data"
    },
    {
     "name": "stdout",
     "output_type": "stream",
     "text": [
      "elapsed time: 0.682773912 seconds\n"
     ]
    },
    {
     "data": {
      "text/plain": [
       "6-element Array{Float64,1}:\n",
       "   2.64698e-23\n",
       "   0.0        \n",
       "   0.0        \n",
       "   9.97915    \n",
       "  -6.43853e-5 \n",
       " -23.8248     "
      ]
     },
     "metadata": {},
     "output_type": "display_data"
    },
    {
     "data": {
      "text/plain": [
       "6-element Array{Float64,1}:\n",
       "   2.64698e-23\n",
       "   0.0        \n",
       "   0.0        \n",
       "   9.97915    \n",
       "  -6.43853e-5 \n",
       " -23.8248     "
      ]
     },
     "metadata": {},
     "output_type": "display_data"
    },
    {
     "name": "stdout",
     "output_type": "stream",
     "text": [
      "elapsed time: 1.07877976 seconds\n"
     ]
    },
    {
     "data": {
      "text/plain": [
       "6-element Array{Float64,1}:\n",
       "   0.0        \n",
       "   3.46945e-18\n",
       "   0.0        \n",
       "   9.97873    \n",
       "  -9.89815e-5 \n",
       " -23.8249     "
      ]
     },
     "metadata": {},
     "output_type": "display_data"
    },
    {
     "data": {
      "text/plain": [
       "6-element Array{Float64,1}:\n",
       "   0.0        \n",
       "   3.46945e-18\n",
       "   0.0        \n",
       "   9.97873    \n",
       "  -9.89815e-5 \n",
       " -23.8249     "
      ]
     },
     "metadata": {},
     "output_type": "display_data"
    },
    {
     "name": "stdout",
     "output_type": "stream",
     "text": [
      "elapsed time: 1.075334228 seconds\n"
     ]
    },
    {
     "data": {
      "text/plain": [
       "6-element Array{Float64,1}:\n",
       "   0.0        \n",
       "  -3.46945e-18\n",
       "  -1.32349e-23\n",
       "   9.97798    \n",
       "   1.61898e-5 \n",
       " -23.8256     "
      ]
     },
     "metadata": {},
     "output_type": "display_data"
    },
    {
     "data": {
      "text/plain": [
       "6-element Array{Float64,1}:\n",
       "   0.0        \n",
       "  -3.46945e-18\n",
       "  -1.32349e-23\n",
       "   9.97798    \n",
       "   1.61898e-5 \n",
       " -23.8256     "
      ]
     },
     "metadata": {},
     "output_type": "display_data"
    },
    {
     "name": "stdout",
     "output_type": "stream",
     "text": [
      "elapsed time: 0.670983954 seconds\n"
     ]
    },
    {
     "data": {
      "text/plain": [
       "6-element Array{Float64,1}:\n",
       "  -2.64698e-23\n",
       "  -3.46945e-18\n",
       "   1.05879e-22\n",
       "   9.97215    \n",
       "  -0.000707001\n",
       " -23.8359     "
      ]
     },
     "metadata": {},
     "output_type": "display_data"
    },
    {
     "data": {
      "text/plain": [
       "6-element Array{Float64,1}:\n",
       "  -2.64698e-23\n",
       "  -3.46945e-18\n",
       "   1.05879e-22\n",
       "   9.97215    \n",
       "  -0.000707001\n",
       " -23.8359     "
      ]
     },
     "metadata": {},
     "output_type": "display_data"
    },
    {
     "name": "stdout",
     "output_type": "stream",
     "text": [
      "elapsed time: 1.15358429 seconds\n"
     ]
    },
    {
     "data": {
      "text/plain": [
       "6-element Array{Float64,1}:\n",
       "   7.94093e-23\n",
       "  -3.46945e-18\n",
       "   1.05879e-22\n",
       "   9.97074    \n",
       "  -0.000888687\n",
       " -23.8384     "
      ]
     },
     "metadata": {},
     "output_type": "display_data"
    },
    {
     "data": {
      "text/plain": [
       "6-element Array{Float64,1}:\n",
       "   7.94093e-23\n",
       "  -3.46945e-18\n",
       "   1.05879e-22\n",
       "   9.97074    \n",
       "  -0.000888687\n",
       " -23.8384     "
      ]
     },
     "metadata": {},
     "output_type": "display_data"
    },
    {
     "name": "stdout",
     "output_type": "stream",
     "text": [
      "elapsed time: 0.678591749 seconds\n"
     ]
    },
    {
     "data": {
      "text/plain": [
       "6-element Array{Float64,1}:\n",
       "   1.85288e-22\n",
       "   3.46945e-18\n",
       "   0.0        \n",
       "   9.9707     \n",
       "  -0.000794753\n",
       " -23.8385     "
      ]
     },
     "metadata": {},
     "output_type": "display_data"
    },
    {
     "data": {
      "text/plain": [
       "6-element Array{Float64,1}:\n",
       "   1.85288e-22\n",
       "   3.46945e-18\n",
       "   0.0        \n",
       "   9.9707     \n",
       "  -0.000794753\n",
       " -23.8385     "
      ]
     },
     "metadata": {},
     "output_type": "display_data"
    },
    {
     "name": "stdout",
     "output_type": "stream",
     "text": [
      "elapsed time: 1.067463598 seconds\n"
     ]
    },
    {
     "data": {
      "text/plain": [
       "6-element Array{Float64,1}:\n",
       "  -1.05879e-22\n",
       "   0.0        \n",
       "   0.0        \n",
       "   9.97077    \n",
       "   0.000151404\n",
       " -23.838      "
      ]
     },
     "metadata": {},
     "output_type": "display_data"
    },
    {
     "data": {
      "text/plain": [
       "6-element Array{Float64,1}:\n",
       "  -1.05879e-22\n",
       "   0.0        \n",
       "   0.0        \n",
       "   9.97077    \n",
       "   0.000151404\n",
       " -23.838      "
      ]
     },
     "metadata": {},
     "output_type": "display_data"
    },
    {
     "name": "stdout",
     "output_type": "stream",
     "text": [
      "elapsed time: 1.053451561 seconds\n"
     ]
    },
    {
     "data": {
      "text/plain": [
       "6-element Array{Float64,1}:\n",
       "  -1.05879e-22\n",
       "   0.0        \n",
       "   0.0        \n",
       "   9.97087    \n",
       "   0.000412912\n",
       " -23.8384     "
      ]
     },
     "metadata": {},
     "output_type": "display_data"
    },
    {
     "data": {
      "text/plain": [
       "6-element Array{Float64,1}:\n",
       "  -1.05879e-22\n",
       "   0.0        \n",
       "   0.0        \n",
       "   9.97087    \n",
       "   0.000412912\n",
       " -23.8384     "
      ]
     },
     "metadata": {},
     "output_type": "display_data"
    },
    {
     "name": "stdout",
     "output_type": "stream",
     "text": [
      "elapsed time: 0.678826713 seconds\n"
     ]
    },
    {
     "data": {
      "text/plain": [
       "6-element Array{Float64,1}:\n",
       "   0.0        \n",
       "   3.46945e-18\n",
       "  -5.29396e-23\n",
       "   9.97109    \n",
       "   7.72974e-5 \n",
       " -23.8384     "
      ]
     },
     "metadata": {},
     "output_type": "display_data"
    },
    {
     "data": {
      "text/plain": [
       "6-element Array{Float64,1}:\n",
       "   0.0        \n",
       "   3.46945e-18\n",
       "  -5.29396e-23\n",
       "   9.97109    \n",
       "   7.72974e-5 \n",
       " -23.8384     "
      ]
     },
     "metadata": {},
     "output_type": "display_data"
    },
    {
     "name": "stdout",
     "output_type": "stream",
     "text": [
      "elapsed time: 1.160722373 seconds\n"
     ]
    },
    {
     "data": {
      "text/plain": [
       "6-element Array{Float64,1}:\n",
       "   0.0        \n",
       "   3.46945e-18\n",
       "   1.32349e-23\n",
       "   9.97247    \n",
       "  -0.000140391\n",
       " -23.8384     "
      ]
     },
     "metadata": {},
     "output_type": "display_data"
    },
    {
     "data": {
      "text/plain": [
       "6-element Array{Float64,1}:\n",
       "   0.0        \n",
       "   3.46945e-18\n",
       "   1.32349e-23\n",
       "   9.97247    \n",
       "  -0.000140391\n",
       " -23.8384     "
      ]
     },
     "metadata": {},
     "output_type": "display_data"
    },
    {
     "name": "stdout",
     "output_type": "stream",
     "text": [
      "elapsed time: 0.681284673 seconds\n"
     ]
    },
    {
     "data": {
      "text/plain": [
       "6-element Array{Float64,1}:\n",
       "   5.29396e-23\n",
       "   3.46945e-18\n",
       "   0.0        \n",
       "   9.96708    \n",
       "  -9.62443e-5 \n",
       " -23.837      "
      ]
     },
     "metadata": {},
     "output_type": "display_data"
    },
    {
     "data": {
      "text/plain": [
       "6-element Array{Float64,1}:\n",
       "   5.29396e-23\n",
       "   3.46945e-18\n",
       "   0.0        \n",
       "   9.96708    \n",
       "  -9.62443e-5 \n",
       " -23.837      "
      ]
     },
     "metadata": {},
     "output_type": "display_data"
    },
    {
     "name": "stdout",
     "output_type": "stream",
     "text": [
      "elapsed time: 0.699707707 seconds\n"
     ]
    },
    {
     "data": {
      "text/plain": [
       "6-element Array{Float64,1}:\n",
       "   0.0        \n",
       "   3.46945e-18\n",
       "   0.0        \n",
       "   9.96762    \n",
       "   2.11806e-5 \n",
       " -23.8373     "
      ]
     },
     "metadata": {},
     "output_type": "display_data"
    },
    {
     "data": {
      "text/plain": [
       "6-element Array{Float64,1}:\n",
       "   0.0        \n",
       "   3.46945e-18\n",
       "   0.0        \n",
       "   9.96762    \n",
       "   2.11806e-5 \n",
       " -23.8373     "
      ]
     },
     "metadata": {},
     "output_type": "display_data"
    },
    {
     "name": "stdout",
     "output_type": "stream",
     "text": [
      "elapsed time: 1.168287046 seconds\n"
     ]
    },
    {
     "data": {
      "text/plain": [
       "6-element Array{Float64,1}:\n",
       "  -6.61744e-24\n",
       "  -3.46945e-18\n",
       "  -3.30872e-24\n",
       "   9.96746    \n",
       "  -4.85401e-5 \n",
       " -23.8373     "
      ]
     },
     "metadata": {},
     "output_type": "display_data"
    },
    {
     "data": {
      "text/plain": [
       "6-element Array{Float64,1}:\n",
       "  -6.61744e-24\n",
       "  -3.46945e-18\n",
       "  -3.30872e-24\n",
       "   9.96746    \n",
       "  -4.85401e-5 \n",
       " -23.8373     "
      ]
     },
     "metadata": {},
     "output_type": "display_data"
    },
    {
     "name": "stdout",
     "output_type": "stream",
     "text": [
      "elapsed time: 0.68757343 seconds\n"
     ]
    },
    {
     "data": {
      "text/plain": [
       "6-element Array{Float64,1}:\n",
       "   1.90252e-23\n",
       "   0.0        \n",
       "  -1.98523e-23\n",
       "   9.9673     \n",
       "  -6.52549e-5 \n",
       " -23.8372     "
      ]
     },
     "metadata": {},
     "output_type": "display_data"
    },
    {
     "data": {
      "text/plain": [
       "6-element Array{Float64,1}:\n",
       "   1.90252e-23\n",
       "   0.0        \n",
       "  -1.98523e-23\n",
       "   9.9673     \n",
       "  -6.52549e-5 \n",
       " -23.8372     "
      ]
     },
     "metadata": {},
     "output_type": "display_data"
    },
    {
     "name": "stdout",
     "output_type": "stream",
     "text": [
      "elapsed time: 1.192842951 seconds\n"
     ]
    },
    {
     "data": {
      "text/plain": [
       "6-element Array{Float64,1}:\n",
       "   0.0        \n",
       "   0.0        \n",
       "   0.0        \n",
       "   9.96737    \n",
       "   0.000333632\n",
       " -23.8372     "
      ]
     },
     "metadata": {},
     "output_type": "display_data"
    },
    {
     "data": {
      "text/plain": [
       "6-element Array{Float64,1}:\n",
       "   0.0        \n",
       "   0.0        \n",
       "   0.0        \n",
       "   9.96737    \n",
       "   0.000333632\n",
       " -23.8372     "
      ]
     },
     "metadata": {},
     "output_type": "display_data"
    },
    {
     "name": "stdout",
     "output_type": "stream",
     "text": [
      "elapsed time: 1.087652554 seconds\n"
     ]
    },
    {
     "data": {
      "text/plain": [
       "6-element Array{Float64,1}:\n",
       "  -1.05879e-22\n",
       "   3.46945e-18\n",
       "   0.0        \n",
       "   9.96714    \n",
       "   7.19984e-5 \n",
       " -23.8374     "
      ]
     },
     "metadata": {},
     "output_type": "display_data"
    },
    {
     "data": {
      "text/plain": [
       "6-element Array{Float64,1}:\n",
       "  -1.05879e-22\n",
       "   3.46945e-18\n",
       "   0.0        \n",
       "   9.96714    \n",
       "   7.19984e-5 \n",
       " -23.8374     "
      ]
     },
     "metadata": {},
     "output_type": "display_data"
    },
    {
     "name": "stdout",
     "output_type": "stream",
     "text": [
      "elapsed time: 0.685393514 seconds\n"
     ]
    },
    {
     "data": {
      "text/plain": [
       "6-element Array{Float64,1}:\n",
       "   5.29396e-23\n",
       "   0.0        \n",
       "  -1.32349e-23\n",
       "   9.96718    \n",
       "   6.4703e-5  \n",
       " -23.8374     "
      ]
     },
     "metadata": {},
     "output_type": "display_data"
    },
    {
     "data": {
      "text/plain": [
       "6-element Array{Float64,1}:\n",
       "   5.29396e-23\n",
       "   0.0        \n",
       "  -1.32349e-23\n",
       "   9.96718    \n",
       "   6.4703e-5  \n",
       " -23.8374     "
      ]
     },
     "metadata": {},
     "output_type": "display_data"
    },
    {
     "name": "stdout",
     "output_type": "stream",
     "text": [
      "elapsed time: 1.118920889 seconds\n"
     ]
    },
    {
     "data": {
      "text/plain": [
       "6-element Array{Float64,1}:\n",
       "   2.64698e-23\n",
       "   3.46945e-18\n",
       "   1.32349e-23\n",
       "   9.96726    \n",
       "   0.00019197 \n",
       " -23.8374     "
      ]
     },
     "metadata": {},
     "output_type": "display_data"
    },
    {
     "data": {
      "text/plain": [
       "6-element Array{Float64,1}:\n",
       "   2.64698e-23\n",
       "   3.46945e-18\n",
       "   1.32349e-23\n",
       "   9.96726    \n",
       "   0.00019197 \n",
       " -23.8374     "
      ]
     },
     "metadata": {},
     "output_type": "display_data"
    },
    {
     "name": "stdout",
     "output_type": "stream",
     "text": [
      "elapsed time: 1.077890101 seconds\n"
     ]
    },
    {
     "data": {
      "text/plain": [
       "6-element Array{Float64,1}:\n",
       "   5.29396e-23\n",
       "  -3.46945e-18\n",
       "   1.32349e-23\n",
       "   9.96748    \n",
       "   5.53241e-5 \n",
       " -23.8374     "
      ]
     },
     "metadata": {},
     "output_type": "display_data"
    },
    {
     "data": {
      "text/plain": [
       "6-element Array{Float64,1}:\n",
       "   5.29396e-23\n",
       "  -3.46945e-18\n",
       "   1.32349e-23\n",
       "   9.96748    \n",
       "   5.53241e-5 \n",
       " -23.8374     "
      ]
     },
     "metadata": {},
     "output_type": "display_data"
    },
    {
     "name": "stdout",
     "output_type": "stream",
     "text": [
      "elapsed time: 0.678279043 seconds\n"
     ]
    },
    {
     "data": {
      "text/plain": [
       "6-element Array{Float64,1}:\n",
       "   5.29396e-23\n",
       "   0.0        \n",
       "   0.0        \n",
       "   9.9674     \n",
       "  -4.39895e-5 \n",
       " -23.8377     "
      ]
     },
     "metadata": {},
     "output_type": "display_data"
    },
    {
     "data": {
      "text/plain": [
       "6-element Array{Float64,1}:\n",
       "   5.29396e-23\n",
       "   0.0        \n",
       "   0.0        \n",
       "   9.9674     \n",
       "  -4.39895e-5 \n",
       " -23.8377     "
      ]
     },
     "metadata": {},
     "output_type": "display_data"
    },
    {
     "name": "stdout",
     "output_type": "stream",
     "text": [
      "elapsed time: 1.176643507 seconds\n"
     ]
    },
    {
     "data": {
      "text/plain": [
       "6-element Array{Float64,1}:\n",
       "   1.32349e-23\n",
       "   0.0        \n",
       "  -1.32349e-23\n",
       "   9.96731    \n",
       "  -4.12111e-5 \n",
       " -23.8374     "
      ]
     },
     "metadata": {},
     "output_type": "display_data"
    },
    {
     "data": {
      "text/plain": [
       "6-element Array{Float64,1}:\n",
       "   1.32349e-23\n",
       "   0.0        \n",
       "  -1.32349e-23\n",
       "   9.96731    \n",
       "  -4.12111e-5 \n",
       " -23.8374     "
      ]
     },
     "metadata": {},
     "output_type": "display_data"
    },
    {
     "name": "stdout",
     "output_type": "stream",
     "text": [
      "elapsed time: 0.686426254 seconds\n"
     ]
    },
    {
     "data": {
      "text/plain": [
       "6-element Array{Float64,1}:\n",
       "   0.0        \n",
       "   3.46945e-18\n",
       "   1.05879e-22\n",
       "   9.96739    \n",
       "   0.00013739 \n",
       " -23.8373     "
      ]
     },
     "metadata": {},
     "output_type": "display_data"
    },
    {
     "data": {
      "text/plain": [
       "6-element Array{Float64,1}:\n",
       "   0.0        \n",
       "   3.46945e-18\n",
       "   1.05879e-22\n",
       "   9.96739    \n",
       "   0.00013739 \n",
       " -23.8373     "
      ]
     },
     "metadata": {},
     "output_type": "display_data"
    },
    {
     "name": "stdout",
     "output_type": "stream",
     "text": [
      "elapsed time: 1.069316291 seconds\n"
     ]
    },
    {
     "data": {
      "text/plain": [
       "6-element Array{Float64,1}:\n",
       "   0.0        \n",
       "  -3.46945e-18\n",
       "  -4.23516e-22\n",
       "   9.9675     \n",
       "   0.000991015\n",
       " -23.8375     "
      ]
     },
     "metadata": {},
     "output_type": "display_data"
    },
    {
     "data": {
      "text/plain": [
       "6-element Array{Float64,1}:\n",
       "   0.0        \n",
       "  -3.46945e-18\n",
       "  -4.23516e-22\n",
       "   9.9675     \n",
       "   0.000991015\n",
       " -23.8375     "
      ]
     },
     "metadata": {},
     "output_type": "display_data"
    },
    {
     "name": "stdout",
     "output_type": "stream",
     "text": [
      "elapsed time: 1.118919943 seconds\n"
     ]
    },
    {
     "data": {
      "text/plain": [
       "6-element Array{Float64,1}:\n",
       "   4.23516e-22\n",
       "   0.0        \n",
       "   0.0        \n",
       "   9.96745    \n",
       "   0.000952207\n",
       " -23.8377     "
      ]
     },
     "metadata": {},
     "output_type": "display_data"
    },
    {
     "data": {
      "text/plain": [
       "6-element Array{Float64,1}:\n",
       "   4.23516e-22\n",
       "   0.0        \n",
       "   0.0        \n",
       "   9.96745    \n",
       "   0.000952207\n",
       " -23.8377     "
      ]
     },
     "metadata": {},
     "output_type": "display_data"
    },
    {
     "name": "stdout",
     "output_type": "stream",
     "text": [
      "elapsed time: 1.07524491 seconds\n"
     ]
    },
    {
     "data": {
      "text/plain": [
       "6-element Array{Float64,1}:\n",
       "  -1.05879e-22\n",
       "   3.46945e-18\n",
       "   0.0        \n",
       "   9.96749    \n",
       "   0.000273734\n",
       " -23.8378     "
      ]
     },
     "metadata": {},
     "output_type": "display_data"
    },
    {
     "data": {
      "text/plain": [
       "6-element Array{Float64,1}:\n",
       "  -1.05879e-22\n",
       "   3.46945e-18\n",
       "   0.0        \n",
       "   9.96749    \n",
       "   0.000273734\n",
       " -23.8378     "
      ]
     },
     "metadata": {},
     "output_type": "display_data"
    },
    {
     "name": "stdout",
     "output_type": "stream",
     "text": [
      "elapsed time: 0.69476254 seconds\n"
     ]
    },
    {
     "data": {
      "text/plain": [
       "6-element Array{Float64,1}:\n",
       "  -4.96308e-24\n",
       "   0.0        \n",
       "   0.0        \n",
       "   9.96734    \n",
       "   0.000159937\n",
       " -23.8376     "
      ]
     },
     "metadata": {},
     "output_type": "display_data"
    },
    {
     "data": {
      "text/plain": [
       "6-element Array{Float64,1}:\n",
       "  -4.96308e-24\n",
       "   0.0        \n",
       "   0.0        \n",
       "   9.96734    \n",
       "   0.000159937\n",
       " -23.8376     "
      ]
     },
     "metadata": {},
     "output_type": "display_data"
    },
    {
     "name": "stdout",
     "output_type": "stream",
     "text": [
      "elapsed time: 1.13062814 seconds\n"
     ]
    },
    {
     "data": {
      "text/plain": [
       "6-element Array{Float64,1}:\n",
       "   0.0       \n",
       "   0.0       \n",
       "   0.0       \n",
       "   9.96754   \n",
       "  -9.32037e-5\n",
       " -23.8375    "
      ]
     },
     "metadata": {},
     "output_type": "display_data"
    },
    {
     "data": {
      "text/plain": [
       "6-element Array{Float64,1}:\n",
       "   0.0       \n",
       "   0.0       \n",
       "   0.0       \n",
       "   9.96754   \n",
       "  -9.32037e-5\n",
       " -23.8375    "
      ]
     },
     "metadata": {},
     "output_type": "display_data"
    },
    {
     "name": "stdout",
     "output_type": "stream",
     "text": [
      "elapsed time: 0.696132477 seconds\n"
     ]
    },
    {
     "data": {
      "text/plain": [
       "6-element Array{Float64,1}:\n",
       "   0.0        \n",
       "   3.46945e-18\n",
       "  -2.64698e-23\n",
       "   9.96757    \n",
       "  -5.08653e-5 \n",
       " -23.8375     "
      ]
     },
     "metadata": {},
     "output_type": "display_data"
    },
    {
     "data": {
      "text/plain": [
       "6-element Array{Float64,1}:\n",
       "   0.0        \n",
       "   3.46945e-18\n",
       "  -2.64698e-23\n",
       "   9.96757    \n",
       "  -5.08653e-5 \n",
       " -23.8375     "
      ]
     },
     "metadata": {},
     "output_type": "display_data"
    },
    {
     "name": "stdout",
     "output_type": "stream",
     "text": [
      "elapsed time: 1.058159124 seconds\n"
     ]
    },
    {
     "data": {
      "text/plain": [
       "6-element Array{Float64,1}:\n",
       "  -4.23516e-22\n",
       "  -3.46945e-18\n",
       "   0.0        \n",
       "   9.96746    \n",
       "   1.21122e-5 \n",
       " -23.8371     "
      ]
     },
     "metadata": {},
     "output_type": "display_data"
    },
    {
     "data": {
      "text/plain": [
       "6-element Array{Float64,1}:\n",
       "  -4.23516e-22\n",
       "  -3.46945e-18\n",
       "   0.0        \n",
       "   9.96746    \n",
       "   1.21122e-5 \n",
       " -23.8371     "
      ]
     },
     "metadata": {},
     "output_type": "display_data"
    },
    {
     "name": "stdout",
     "output_type": "stream",
     "text": [
      "elapsed time: 1.106561063 seconds\n"
     ]
    },
    {
     "data": {
      "text/plain": [
       "6-element Array{Float64,1}:\n",
       "   0.0       \n",
       "   0.0       \n",
       "   0.0       \n",
       "   9.96743   \n",
       "  -6.96766e-5\n",
       " -23.837     "
      ]
     },
     "metadata": {},
     "output_type": "display_data"
    },
    {
     "data": {
      "text/plain": [
       "6-element Array{Float64,1}:\n",
       "   0.0       \n",
       "   0.0       \n",
       "   0.0       \n",
       "   9.96743   \n",
       "  -6.96766e-5\n",
       " -23.837     "
      ]
     },
     "metadata": {},
     "output_type": "display_data"
    },
    {
     "name": "stdout",
     "output_type": "stream",
     "text": [
      "elapsed time: 0.671086189 seconds\n"
     ]
    },
    {
     "data": {
      "text/plain": [
       "6-element Array{Float64,1}:\n",
       "  -1.05879e-22\n",
       "   0.0        \n",
       "   2.64698e-23\n",
       "   9.96757    \n",
       "  -1.99721e-5 \n",
       " -23.8373     "
      ]
     },
     "metadata": {},
     "output_type": "display_data"
    },
    {
     "data": {
      "text/plain": [
       "6-element Array{Float64,1}:\n",
       "  -1.05879e-22\n",
       "   0.0        \n",
       "   2.64698e-23\n",
       "   9.96757    \n",
       "  -1.99721e-5 \n",
       " -23.8373     "
      ]
     },
     "metadata": {},
     "output_type": "display_data"
    },
    {
     "name": "stdout",
     "output_type": "stream",
     "text": [
      "elapsed time: 1.158421849 seconds\n"
     ]
    },
    {
     "data": {
      "text/plain": [
       "6-element Array{Float64,1}:\n",
       "   0.0        \n",
       "   3.46945e-18\n",
       "  -2.11758e-22\n",
       "   9.96771    \n",
       "  -0.000432271\n",
       " -23.8351     "
      ]
     },
     "metadata": {},
     "output_type": "display_data"
    },
    {
     "data": {
      "text/plain": [
       "6-element Array{Float64,1}:\n",
       "   0.0        \n",
       "   3.46945e-18\n",
       "  -2.11758e-22\n",
       "   9.96771    \n",
       "  -0.000432271\n",
       " -23.8351     "
      ]
     },
     "metadata": {},
     "output_type": "display_data"
    },
    {
     "name": "stdout",
     "output_type": "stream",
     "text": [
      "elapsed time: 0.679749856 seconds\n"
     ]
    },
    {
     "data": {
      "text/plain": [
       "6-element Array{Float64,1}:\n",
       "   1.69407e-21\n",
       "   0.0        \n",
       "  -4.23516e-22\n",
       "   9.96753    \n",
       "  -0.000129284\n",
       " -23.8351     "
      ]
     },
     "metadata": {},
     "output_type": "display_data"
    },
    {
     "data": {
      "text/plain": [
       "6-element Array{Float64,1}:\n",
       "   1.69407e-21\n",
       "   0.0        \n",
       "  -4.23516e-22\n",
       "   9.96753    \n",
       "  -0.000129284\n",
       " -23.8351     "
      ]
     },
     "metadata": {},
     "output_type": "display_data"
    },
    {
     "name": "stdout",
     "output_type": "stream",
     "text": [
      "elapsed time: 1.058620962 seconds\n"
     ]
    },
    {
     "data": {
      "text/plain": [
       "6-element Array{Float64,1}:\n",
       "   0.0        \n",
       "   0.0        \n",
       "   0.0        \n",
       "   9.96768    \n",
       "  -0.000516105\n",
       " -23.8352     "
      ]
     },
     "metadata": {},
     "output_type": "display_data"
    },
    {
     "data": {
      "text/plain": [
       "6-element Array{Float64,1}:\n",
       "   0.0        \n",
       "   0.0        \n",
       "   0.0        \n",
       "   9.96768    \n",
       "  -0.000516105\n",
       " -23.8352     "
      ]
     },
     "metadata": {},
     "output_type": "display_data"
    },
    {
     "name": "stdout",
     "output_type": "stream",
     "text": [
      "elapsed time: 1.056500968 seconds\n"
     ]
    },
    {
     "data": {
      "text/plain": [
       "6-element Array{Float64,1}:\n",
       "   0.0        \n",
       "   3.46945e-18\n",
       "   2.11758e-22\n",
       "   9.96769    \n",
       "   0.000257166\n",
       " -23.8353     "
      ]
     },
     "metadata": {},
     "output_type": "display_data"
    },
    {
     "data": {
      "text/plain": [
       "6-element Array{Float64,1}:\n",
       "   0.0        \n",
       "   3.46945e-18\n",
       "   2.11758e-22\n",
       "   9.96769    \n",
       "   0.000257166\n",
       " -23.8353     "
      ]
     },
     "metadata": {},
     "output_type": "display_data"
    },
    {
     "name": "stdout",
     "output_type": "stream",
     "text": [
      "elapsed time: 0.68562409 seconds\n"
     ]
    },
    {
     "data": {
      "text/plain": [
       "6-element Array{Float64,1}:\n",
       "   1.32349e-23\n",
       "   0.0        \n",
       "   0.0        \n",
       "   9.96793    \n",
       "  -6.36364e-5 \n",
       " -23.8354     "
      ]
     },
     "metadata": {},
     "output_type": "display_data"
    },
    {
     "data": {
      "text/plain": [
       "6-element Array{Float64,1}:\n",
       "   1.32349e-23\n",
       "   0.0        \n",
       "   0.0        \n",
       "   9.96793    \n",
       "  -6.36364e-5 \n",
       " -23.8354     "
      ]
     },
     "metadata": {},
     "output_type": "display_data"
    },
    {
     "name": "stdout",
     "output_type": "stream",
     "text": [
      "elapsed time: 1.156626812 seconds\n"
     ]
    },
    {
     "data": {
      "text/plain": [
       "6-element Array{Float64,1}:\n",
       "   2.11758e-22\n",
       "   0.0        \n",
       "  -1.05879e-22\n",
       "   9.96821    \n",
       "  -0.000128147\n",
       " -23.8352     "
      ]
     },
     "metadata": {},
     "output_type": "display_data"
    },
    {
     "data": {
      "text/plain": [
       "6-element Array{Float64,1}:\n",
       "   2.11758e-22\n",
       "   0.0        \n",
       "  -1.05879e-22\n",
       "   9.96821    \n",
       "  -0.000128147\n",
       " -23.8352     "
      ]
     },
     "metadata": {},
     "output_type": "display_data"
    },
    {
     "name": "stdout",
     "output_type": "stream",
     "text": [
      "elapsed time: 0.683311117 seconds\n"
     ]
    },
    {
     "data": {
      "text/plain": [
       "6-element Array{Float64,1}:\n",
       "   0.0        \n",
       "   0.0        \n",
       "   6.61744e-24\n",
       "   9.96758    \n",
       "  -3.62741e-6 \n",
       " -23.8353     "
      ]
     },
     "metadata": {},
     "output_type": "display_data"
    },
    {
     "data": {
      "text/plain": [
       "6-element Array{Float64,1}:\n",
       "   0.0        \n",
       "   0.0        \n",
       "   6.61744e-24\n",
       "   9.96758    \n",
       "  -3.62741e-6 \n",
       " -23.8353     "
      ]
     },
     "metadata": {},
     "output_type": "display_data"
    },
    {
     "name": "stdout",
     "output_type": "stream",
     "text": [
      "elapsed time: 0.680228847 seconds\n"
     ]
    },
    {
     "data": {
      "text/plain": [
       "6-element Array{Float64,1}:\n",
       "   0.0       \n",
       "   0.0       \n",
       "   0.0       \n",
       "   9.96749   \n",
       "  -5.61711e-5\n",
       " -23.8351    "
      ]
     },
     "metadata": {},
     "output_type": "display_data"
    },
    {
     "data": {
      "text/plain": [
       "6-element Array{Float64,1}:\n",
       "   0.0       \n",
       "   0.0       \n",
       "   0.0       \n",
       "   9.96749   \n",
       "  -5.61711e-5\n",
       " -23.8351    "
      ]
     },
     "metadata": {},
     "output_type": "display_data"
    },
    {
     "name": "stdout",
     "output_type": "stream",
     "text": [
      "elapsed time: 1.082220836 seconds\n"
     ]
    },
    {
     "data": {
      "text/plain": [
       "6-element Array{Float64,1}:\n",
       "   4.23516e-22\n",
       "  -3.46945e-18\n",
       "   2.11758e-22\n",
       "   9.96765    \n",
       "  -4.91008e-5 \n",
       " -23.8353     "
      ]
     },
     "metadata": {},
     "output_type": "display_data"
    },
    {
     "data": {
      "text/plain": [
       "6-element Array{Float64,1}:\n",
       "   4.23516e-22\n",
       "  -3.46945e-18\n",
       "   2.11758e-22\n",
       "   9.96765    \n",
       "  -4.91008e-5 \n",
       " -23.8353     "
      ]
     },
     "metadata": {},
     "output_type": "display_data"
    },
    {
     "name": "stdout",
     "output_type": "stream",
     "text": [
      "elapsed time: 0.679905011 seconds\n"
     ]
    },
    {
     "data": {
      "text/plain": [
       "6-element Array{Float64,1}:\n",
       "   8.47033e-22\n",
       "   3.46945e-18\n",
       "   0.0        \n",
       "   9.96764    \n",
       "   0.000165222\n",
       " -23.8352     "
      ]
     },
     "metadata": {},
     "output_type": "display_data"
    },
    {
     "data": {
      "text/plain": [
       "6-element Array{Float64,1}:\n",
       "   8.47033e-22\n",
       "   3.46945e-18\n",
       "   0.0        \n",
       "   9.96764    \n",
       "   0.000165222\n",
       " -23.8352     "
      ]
     },
     "metadata": {},
     "output_type": "display_data"
    },
    {
     "name": "stdout",
     "output_type": "stream",
     "text": [
      "elapsed time: 0.67646974 seconds\n"
     ]
    },
    {
     "data": {
      "text/plain": [
       "6-element Array{Float64,1}:\n",
       "   0.0        \n",
       "   0.0        \n",
       "   0.0        \n",
       "   9.96754    \n",
       "   0.000672705\n",
       " -23.8349     "
      ]
     },
     "metadata": {},
     "output_type": "display_data"
    },
    {
     "data": {
      "text/plain": [
       "6-element Array{Float64,1}:\n",
       "   0.0        \n",
       "   0.0        \n",
       "   0.0        \n",
       "   9.96754    \n",
       "   0.000672705\n",
       " -23.8349     "
      ]
     },
     "metadata": {},
     "output_type": "display_data"
    },
    {
     "name": "stdout",
     "output_type": "stream",
     "text": [
      "elapsed time: 1.10737084 seconds\n"
     ]
    },
    {
     "data": {
      "text/plain": [
       "6-element Array{Float64,1}:\n",
       "   4.23516e-22\n",
       "   0.0        \n",
       "   1.58819e-22\n",
       "   9.96762    \n",
       "  -0.000264007\n",
       " -23.8344     "
      ]
     },
     "metadata": {},
     "output_type": "display_data"
    },
    {
     "data": {
      "text/plain": [
       "6-element Array{Float64,1}:\n",
       "   4.23516e-22\n",
       "   0.0        \n",
       "   1.58819e-22\n",
       "   9.96762    \n",
       "  -0.000264007\n",
       " -23.8344     "
      ]
     },
     "metadata": {},
     "output_type": "display_data"
    },
    {
     "name": "stdout",
     "output_type": "stream",
     "text": [
      "elapsed time: 1.090076797 seconds\n"
     ]
    },
    {
     "data": {
      "text/plain": [
       "6-element Array{Float64,1}:\n",
       "   4.23516e-22\n",
       "  -3.46945e-18\n",
       "   0.0        \n",
       "   9.96768    \n",
       "   0.000330769\n",
       " -23.8348     "
      ]
     },
     "metadata": {},
     "output_type": "display_data"
    },
    {
     "data": {
      "text/plain": [
       "6-element Array{Float64,1}:\n",
       "   4.23516e-22\n",
       "  -3.46945e-18\n",
       "   0.0        \n",
       "   9.96768    \n",
       "   0.000330769\n",
       " -23.8348     "
      ]
     },
     "metadata": {},
     "output_type": "display_data"
    },
    {
     "name": "stdout",
     "output_type": "stream",
     "text": [
      "elapsed time: 0.676007854 seconds\n"
     ]
    },
    {
     "data": {
      "text/plain": [
       "6-element Array{Float64,1}:\n",
       "  -1.69407e-21\n",
       "  -3.46945e-18\n",
       "  -8.47033e-22\n",
       "   9.96751    \n",
       "   0.000970754\n",
       " -23.8359     "
      ]
     },
     "metadata": {},
     "output_type": "display_data"
    },
    {
     "data": {
      "text/plain": [
       "6-element Array{Float64,1}:\n",
       "  -1.69407e-21\n",
       "  -3.46945e-18\n",
       "  -8.47033e-22\n",
       "   9.96751    \n",
       "   0.000970754\n",
       " -23.8359     "
      ]
     },
     "metadata": {},
     "output_type": "display_data"
    },
    {
     "name": "stdout",
     "output_type": "stream",
     "text": [
      "elapsed time: 1.118974995 seconds\n"
     ]
    },
    {
     "data": {
      "text/plain": [
       "6-element Array{Float64,1}:\n",
       "   8.47033e-22\n",
       "  -6.93889e-18\n",
       "   0.0        \n",
       "   9.9676     \n",
       "   0.000332683\n",
       " -23.8351     "
      ]
     },
     "metadata": {},
     "output_type": "display_data"
    },
    {
     "data": {
      "text/plain": [
       "6-element Array{Float64,1}:\n",
       "   8.47033e-22\n",
       "  -6.93889e-18\n",
       "   0.0        \n",
       "   9.9676     \n",
       "   0.000332683\n",
       " -23.8351     "
      ]
     },
     "metadata": {},
     "output_type": "display_data"
    },
    {
     "name": "stdout",
     "output_type": "stream",
     "text": [
      "elapsed time: 0.671533836 seconds\n"
     ]
    },
    {
     "data": {
      "text/plain": [
       "6-element Array{Float64,1}:\n",
       "  -8.47033e-22\n",
       "  -3.46945e-18\n",
       "  -4.23516e-22\n",
       "   9.96761    \n",
       "  -0.000301292\n",
       " -23.8354     "
      ]
     },
     "metadata": {},
     "output_type": "display_data"
    },
    {
     "data": {
      "text/plain": [
       "6-element Array{Float64,1}:\n",
       "  -8.47033e-22\n",
       "  -3.46945e-18\n",
       "  -4.23516e-22\n",
       "   9.96761    \n",
       "  -0.000301292\n",
       " -23.8354     "
      ]
     },
     "metadata": {},
     "output_type": "display_data"
    },
    {
     "name": "stdout",
     "output_type": "stream",
     "text": [
      "elapsed time: 1.062900437 seconds\n"
     ]
    },
    {
     "data": {
      "text/plain": [
       "6-element Array{Float64,1}:\n",
       "   0.0        \n",
       "   3.46945e-18\n",
       "   0.0        \n",
       "   9.9674     \n",
       "  -0.000296043\n",
       " -23.8357     "
      ]
     },
     "metadata": {},
     "output_type": "display_data"
    },
    {
     "data": {
      "text/plain": [
       "6-element Array{Float64,1}:\n",
       "   0.0        \n",
       "   3.46945e-18\n",
       "   0.0        \n",
       "   9.9674     \n",
       "  -0.000296043\n",
       " -23.8357     "
      ]
     },
     "metadata": {},
     "output_type": "display_data"
    },
    {
     "name": "stdout",
     "output_type": "stream",
     "text": [
      "elapsed time: 1.064800131 seconds\n"
     ]
    },
    {
     "data": {
      "text/plain": [
       "6-element Array{Float64,1}:\n",
       "   0.0        \n",
       "  -3.46945e-18\n",
       "   0.0        \n",
       "   9.96733    \n",
       "  -0.000290492\n",
       " -23.8357     "
      ]
     },
     "metadata": {},
     "output_type": "display_data"
    },
    {
     "data": {
      "text/plain": [
       "6-element Array{Float64,1}:\n",
       "   0.0        \n",
       "  -3.46945e-18\n",
       "   0.0        \n",
       "   9.96733    \n",
       "  -0.000290492\n",
       " -23.8357     "
      ]
     },
     "metadata": {},
     "output_type": "display_data"
    },
    {
     "name": "stdout",
     "output_type": "stream",
     "text": [
      "elapsed time: 0.693530648 seconds\n"
     ]
    },
    {
     "data": {
      "text/plain": [
       "6-element Array{Float64,1}:\n",
       "   4.23516e-22\n",
       "   3.46945e-18\n",
       "   0.0        \n",
       "   9.96741    \n",
       "  -0.000183754\n",
       " -23.8357     "
      ]
     },
     "metadata": {},
     "output_type": "display_data"
    },
    {
     "data": {
      "text/plain": [
       "6-element Array{Float64,1}:\n",
       "   4.23516e-22\n",
       "   3.46945e-18\n",
       "   0.0        \n",
       "   9.96741    \n",
       "  -0.000183754\n",
       " -23.8357     "
      ]
     },
     "metadata": {},
     "output_type": "display_data"
    },
    {
     "name": "stdout",
     "output_type": "stream",
     "text": [
      "elapsed time: 0.821444281 seconds\n"
     ]
    },
    {
     "data": {
      "text/plain": [
       "6-element Array{Float64,1}:\n",
       "   0.0        \n",
       "   0.0        \n",
       "   4.23516e-22\n",
       "   9.96724    \n",
       "  -0.000199681\n",
       " -23.8356     "
      ]
     },
     "metadata": {},
     "output_type": "display_data"
    },
    {
     "data": {
      "text/plain": [
       "6-element Array{Float64,1}:\n",
       "   0.0        \n",
       "   0.0        \n",
       "   4.23516e-22\n",
       "   9.96724    \n",
       "  -0.000199681\n",
       " -23.8356     "
      ]
     },
     "metadata": {},
     "output_type": "display_data"
    },
    {
     "name": "stdout",
     "output_type": "stream",
     "text": [
      "elapsed time: 1.064775795 seconds\n"
     ]
    },
    {
     "data": {
      "text/plain": [
       "6-element Array{Float64,1}:\n",
       "   0.0        \n",
       "   3.46945e-18\n",
       "   1.05879e-22\n",
       "   9.9674     \n",
       "  -0.000111675\n",
       " -23.8358     "
      ]
     },
     "metadata": {},
     "output_type": "display_data"
    },
    {
     "data": {
      "text/plain": [
       "6-element Array{Float64,1}:\n",
       "   0.0        \n",
       "   3.46945e-18\n",
       "   1.05879e-22\n",
       "   9.9674     \n",
       "  -0.000111675\n",
       " -23.8358     "
      ]
     },
     "metadata": {},
     "output_type": "display_data"
    },
    {
     "name": "stdout",
     "output_type": "stream",
     "text": [
      "elapsed time: 0.681084879 seconds\n"
     ]
    },
    {
     "data": {
      "text/plain": [
       "6-element Array{Float64,1}:\n",
       "   1.05879e-22\n",
       "   0.0        \n",
       "   1.32349e-23\n",
       "   9.96735    \n",
       "  -5.51025e-5 \n",
       " -23.8358     "
      ]
     },
     "metadata": {},
     "output_type": "display_data"
    },
    {
     "data": {
      "text/plain": [
       "6-element Array{Float64,1}:\n",
       "   1.05879e-22\n",
       "   0.0        \n",
       "   1.32349e-23\n",
       "   9.96735    \n",
       "  -5.51025e-5 \n",
       " -23.8358     "
      ]
     },
     "metadata": {},
     "output_type": "display_data"
    },
    {
     "name": "stdout",
     "output_type": "stream",
     "text": [
      "elapsed time: 0.81659285 seconds\n"
     ]
    },
    {
     "data": {
      "text/plain": [
       "6-element Array{Float64,1}:\n",
       "   0.0        \n",
       "  -6.93889e-18\n",
       "  -1.32349e-23\n",
       "   9.96738    \n",
       "  -5.85437e-6 \n",
       " -23.8359     "
      ]
     },
     "metadata": {},
     "output_type": "display_data"
    },
    {
     "data": {
      "text/plain": [
       "6-element Array{Float64,1}:\n",
       "   0.0        \n",
       "  -6.93889e-18\n",
       "  -1.32349e-23\n",
       "   9.96738    \n",
       "  -5.85437e-6 \n",
       " -23.8359     "
      ]
     },
     "metadata": {},
     "output_type": "display_data"
    },
    {
     "name": "stdout",
     "output_type": "stream",
     "text": [
      "elapsed time: 0.683826835 seconds\n"
     ]
    },
    {
     "data": {
      "text/plain": [
       "6-element Array{Float64,1}:\n",
       "   5.29396e-23\n",
       "   3.46945e-18\n",
       "   1.32349e-23\n",
       "   9.9675     \n",
       "   0.000134893\n",
       " -23.8359     "
      ]
     },
     "metadata": {},
     "output_type": "display_data"
    },
    {
     "data": {
      "text/plain": [
       "6-element Array{Float64,1}:\n",
       "   5.29396e-23\n",
       "   3.46945e-18\n",
       "   1.32349e-23\n",
       "   9.9675     \n",
       "   0.000134893\n",
       " -23.8359     "
      ]
     },
     "metadata": {},
     "output_type": "display_data"
    },
    {
     "name": "stdout",
     "output_type": "stream",
     "text": [
      "elapsed time: 0.674723361 seconds\n"
     ]
    },
    {
     "data": {
      "text/plain": [
       "6-element Array{Float64,1}:\n",
       "   5.29396e-23\n",
       "  -3.46945e-18\n",
       "   1.32349e-23\n",
       "  10.2611     \n",
       "   0.000129344\n",
       " -24.3213     "
      ]
     },
     "metadata": {},
     "output_type": "display_data"
    },
    {
     "data": {
      "text/plain": [
       "6-element Array{Float64,1}:\n",
       "   5.29396e-23\n",
       "  -3.46945e-18\n",
       "   1.32349e-23\n",
       "  10.2611     \n",
       "   0.000129344\n",
       " -24.3213     "
      ]
     },
     "metadata": {},
     "output_type": "display_data"
    },
    {
     "name": "stdout",
     "output_type": "stream",
     "text": [
      "elapsed time: 1.085501708 seconds\n"
     ]
    },
    {
     "data": {
      "text/plain": [
       "6-element Array{Float64,1}:\n",
       "   5.29396e-23\n",
       "   0.0        \n",
       "   0.0        \n",
       "  10.2605     \n",
       "   5.5959e-5  \n",
       " -24.3198     "
      ]
     },
     "metadata": {},
     "output_type": "display_data"
    },
    {
     "data": {
      "text/plain": [
       "6-element Array{Float64,1}:\n",
       "   5.29396e-23\n",
       "   0.0        \n",
       "   0.0        \n",
       "  10.2605     \n",
       "   5.5959e-5  \n",
       " -24.3198     "
      ]
     },
     "metadata": {},
     "output_type": "display_data"
    },
    {
     "name": "stdout",
     "output_type": "stream",
     "text": [
      "elapsed time: 0.69010748 seconds\n"
     ]
    },
    {
     "data": {
      "text/plain": [
       "6-element Array{Float64,1}:\n",
       "  -5.29396e-23\n",
       "  -3.46945e-18\n",
       "   2.64698e-23\n",
       "  10.2602     \n",
       "   4.72989e-5 \n",
       " -24.3184     "
      ]
     },
     "metadata": {},
     "output_type": "display_data"
    },
    {
     "data": {
      "text/plain": [
       "6-element Array{Float64,1}:\n",
       "  -5.29396e-23\n",
       "  -3.46945e-18\n",
       "   2.64698e-23\n",
       "  10.2602     \n",
       "   4.72989e-5 \n",
       " -24.3184     "
      ]
     },
     "metadata": {},
     "output_type": "display_data"
    },
    {
     "name": "stdout",
     "output_type": "stream",
     "text": [
      "elapsed time: 1.059419115 seconds\n"
     ]
    },
    {
     "data": {
      "text/plain": [
       "6-element Array{Float64,1}:\n",
       "  -5.29396e-23\n",
       "   3.46945e-18\n",
       "  -1.32349e-23\n",
       "  10.2603     \n",
       "   3.33755e-5 \n",
       " -24.3182     "
      ]
     },
     "metadata": {},
     "output_type": "display_data"
    },
    {
     "data": {
      "text/plain": [
       "6-element Array{Float64,1}:\n",
       "  -5.29396e-23\n",
       "   3.46945e-18\n",
       "  -1.32349e-23\n",
       "  10.2603     \n",
       "   3.33755e-5 \n",
       " -24.3182     "
      ]
     },
     "metadata": {},
     "output_type": "display_data"
    },
    {
     "name": "stdout",
     "output_type": "stream",
     "text": [
      "elapsed time: 1.059602137 seconds\n"
     ]
    },
    {
     "data": {
      "text/plain": [
       "6-element Array{Float64,1}:\n",
       "  -5.29396e-23\n",
       "  -3.46945e-18\n",
       "   2.64698e-23\n",
       "  13.9687     \n",
       "   3.58434e-5 \n",
       " -23.4284     "
      ]
     },
     "metadata": {},
     "output_type": "display_data"
    },
    {
     "data": {
      "text/plain": [
       "6-element Array{Float64,1}:\n",
       "  -5.29396e-23\n",
       "  -3.46945e-18\n",
       "   2.64698e-23\n",
       "  13.9687     \n",
       "   3.58434e-5 \n",
       " -23.4284     "
      ]
     },
     "metadata": {},
     "output_type": "display_data"
    },
    {
     "name": "stdout",
     "output_type": "stream",
     "text": [
      "elapsed time: 0.683131535 seconds\n"
     ]
    },
    {
     "data": {
      "text/plain": [
       "6-element Array{Float64,1}:\n",
       "   0.0        \n",
       "   0.0        \n",
       "  -2.64698e-23\n",
       "  13.9685     \n",
       "   1.7612e-5  \n",
       " -23.4281     "
      ]
     },
     "metadata": {},
     "output_type": "display_data"
    },
    {
     "data": {
      "text/plain": [
       "6-element Array{Float64,1}:\n",
       "   0.0        \n",
       "   0.0        \n",
       "  -2.64698e-23\n",
       "  13.9685     \n",
       "   1.7612e-5  \n",
       " -23.4281     "
      ]
     },
     "metadata": {},
     "output_type": "display_data"
    },
    {
     "name": "stdout",
     "output_type": "stream",
     "text": [
      "elapsed time: 1.172007864 seconds\n"
     ]
    },
    {
     "data": {
      "text/plain": [
       "6-element Array{Float64,1}:\n",
       "   2.64698e-23\n",
       "   0.0        \n",
       "  -3.97047e-23\n",
       "  13.9691     \n",
       "   1.31223e-5 \n",
       " -23.4285     "
      ]
     },
     "metadata": {},
     "output_type": "display_data"
    },
    {
     "data": {
      "text/plain": [
       "6-element Array{Float64,1}:\n",
       "   2.64698e-23\n",
       "   0.0        \n",
       "  -3.97047e-23\n",
       "  13.9691     \n",
       "   1.31223e-5 \n",
       " -23.4285     "
      ]
     },
     "metadata": {},
     "output_type": "display_data"
    },
    {
     "name": "stdout",
     "output_type": "stream",
     "text": [
      "elapsed time: 0.689192021 seconds\n"
     ]
    },
    {
     "data": {
      "text/plain": [
       "6-element Array{Float64,1}:\n",
       "   0.0        \n",
       "   0.0        \n",
       "  -2.64698e-23\n",
       "  13.9685     \n",
       "   1.7612e-5  \n",
       " -23.4281     "
      ]
     },
     "metadata": {},
     "output_type": "display_data"
    },
    {
     "data": {
      "text/plain": [
       "6-element Array{Float64,1}:\n",
       "   0.0        \n",
       "   0.0        \n",
       "  -2.64698e-23\n",
       "  13.9685     \n",
       "   1.7612e-5  \n",
       " -23.4281     "
      ]
     },
     "metadata": {},
     "output_type": "display_data"
    },
    {
     "name": "stdout",
     "output_type": "stream",
     "text": [
      "elapsed time: 0.666985206 seconds\n"
     ]
    },
    {
     "data": {
      "text/plain": [
       "6-element Array{Float64,1}:\n",
       "   2.64698e-23\n",
       "  -3.46945e-18\n",
       "  -1.32349e-23\n",
       "  14.1868     \n",
       "   2.47099e-5 \n",
       " -23.4798     "
      ]
     },
     "metadata": {},
     "output_type": "display_data"
    },
    {
     "data": {
      "text/plain": [
       "6-element Array{Float64,1}:\n",
       "   2.64698e-23\n",
       "  -3.46945e-18\n",
       "  -1.32349e-23\n",
       "  14.1868     \n",
       "   2.47099e-5 \n",
       " -23.4798     "
      ]
     },
     "metadata": {},
     "output_type": "display_data"
    },
    {
     "name": "stdout",
     "output_type": "stream",
     "text": [
      "elapsed time: 1.144679159 seconds\n"
     ]
    },
    {
     "data": {
      "text/plain": [
       "6-element Array{Float64,1}:\n",
       "   2.64698e-23\n",
       "   0.0        \n",
       "   1.32349e-23\n",
       "  14.1864     \n",
       "   1.65564e-5 \n",
       " -23.48       "
      ]
     },
     "metadata": {},
     "output_type": "display_data"
    },
    {
     "data": {
      "text/plain": [
       "6-element Array{Float64,1}:\n",
       "   2.64698e-23\n",
       "   0.0        \n",
       "   1.32349e-23\n",
       "  14.1864     \n",
       "   1.65564e-5 \n",
       " -23.48       "
      ]
     },
     "metadata": {},
     "output_type": "display_data"
    },
    {
     "name": "stdout",
     "output_type": "stream",
     "text": [
      "elapsed time: 0.679553533 seconds\n"
     ]
    },
    {
     "data": {
      "text/plain": [
       "6-element Array{Float64,1}:\n",
       "   0.0        \n",
       "  -3.46945e-18\n",
       "  -2.64698e-23\n",
       "  14.1865     \n",
       "   8.61282e-6 \n",
       " -23.4799     "
      ]
     },
     "metadata": {},
     "output_type": "display_data"
    },
    {
     "data": {
      "text/plain": [
       "6-element Array{Float64,1}:\n",
       "   0.0        \n",
       "  -3.46945e-18\n",
       "  -2.64698e-23\n",
       "  14.1865     \n",
       "   8.61282e-6 \n",
       " -23.4799     "
      ]
     },
     "metadata": {},
     "output_type": "display_data"
    },
    {
     "name": "stdout",
     "output_type": "stream",
     "text": [
      "elapsed time: 1.066087239 seconds\n"
     ]
    },
    {
     "data": {
      "text/plain": [
       "6-element Array{Float64,1}:\n",
       "  -2.64698e-23\n",
       "   0.0        \n",
       "   0.0        \n",
       "  14.1867     \n",
       "   1.24079e-6 \n",
       " -23.4797     "
      ]
     },
     "metadata": {},
     "output_type": "display_data"
    },
    {
     "data": {
      "text/plain": [
       "6-element Array{Float64,1}:\n",
       "  -2.64698e-23\n",
       "   0.0        \n",
       "   0.0        \n",
       "  14.1867     \n",
       "   1.24079e-6 \n",
       " -23.4797     "
      ]
     },
     "metadata": {},
     "output_type": "display_data"
    },
    {
     "name": "stdout",
     "output_type": "stream",
     "text": [
      "elapsed time: 1.065446647 seconds\n"
     ]
    },
    {
     "data": {
      "text/plain": [
       "6-element Array{Float64,1}:\n",
       "  -2.64698e-23\n",
       "   0.0        \n",
       "   0.0        \n",
       "  14.1863     \n",
       "   1.11451e-5 \n",
       " -23.4801     "
      ]
     },
     "metadata": {},
     "output_type": "display_data"
    },
    {
     "data": {
      "text/plain": [
       "6-element Array{Float64,1}:\n",
       "  -2.64698e-23\n",
       "   0.0        \n",
       "   0.0        \n",
       "  14.1863     \n",
       "   1.11451e-5 \n",
       " -23.4801     "
      ]
     },
     "metadata": {},
     "output_type": "display_data"
    },
    {
     "name": "stdout",
     "output_type": "stream",
     "text": [
      "elapsed time: 1.186423971 seconds\n"
     ]
    },
    {
     "data": {
      "text/plain": [
       "6-element Array{Float64,1}:\n",
       "  -4.33681e-19\n",
       "   0.0        \n",
       "  -8.67362e-19\n",
       " -10.6208     \n",
       "   2.37387    \n",
       " -70.5263     "
      ]
     },
     "metadata": {},
     "output_type": "display_data"
    },
    {
     "data": {
      "text/plain": [
       "6-element Array{Float64,1}:\n",
       "  -4.33681e-19\n",
       "   0.0        \n",
       "  -8.67362e-19\n",
       " -10.6208     \n",
       "   2.37387    \n",
       " -70.5263     "
      ]
     },
     "metadata": {},
     "output_type": "display_data"
    },
    {
     "name": "stdout",
     "output_type": "stream",
     "text": [
      "elapsed time: 0.680436169 seconds\n"
     ]
    },
    {
     "data": {
      "text/plain": [
       "6-element Array{Float64,1}:\n",
       "  -2.64698e-23\n",
       "   0.0        \n",
       "   0.0        \n",
       "  14.1863     \n",
       "   1.11451e-5 \n",
       " -23.4801     "
      ]
     },
     "metadata": {},
     "output_type": "display_data"
    },
    {
     "data": {
      "text/plain": [
       "6-element Array{Float64,1}:\n",
       "  -2.64698e-23\n",
       "   0.0        \n",
       "   0.0        \n",
       "  14.1863     \n",
       "   1.11451e-5 \n",
       " -23.4801     "
      ]
     },
     "metadata": {},
     "output_type": "display_data"
    },
    {
     "name": "stdout",
     "output_type": "stream",
     "text": [
      "elapsed time: 1.0621501 seconds\n"
     ]
    },
    {
     "data": {
      "text/plain": [
       "6-element Array{Float64,1}:\n",
       "   5.29396e-23\n",
       "   6.93889e-18\n",
       "   0.0        \n",
       "  14.182      \n",
       "   1.68862e-5 \n",
       " -23.5273     "
      ]
     },
     "metadata": {},
     "output_type": "display_data"
    },
    {
     "data": {
      "text/plain": [
       "6-element Array{Float64,1}:\n",
       "   5.29396e-23\n",
       "   6.93889e-18\n",
       "   0.0        \n",
       "  14.182      \n",
       "   1.68862e-5 \n",
       " -23.5273     "
      ]
     },
     "metadata": {},
     "output_type": "display_data"
    },
    {
     "name": "stdout",
     "output_type": "stream",
     "text": [
      "elapsed time: 0.67566383 seconds\n"
     ]
    },
    {
     "data": {
      "text/plain": [
       "6-element Array{Float64,1}:\n",
       "  -1.32349e-23\n",
       "  -3.46945e-18\n",
       "   0.0        \n",
       "  14.037      \n",
       "  -9.38703e-6 \n",
       " -23.6208     "
      ]
     },
     "metadata": {},
     "output_type": "display_data"
    },
    {
     "data": {
      "text/plain": [
       "6-element Array{Float64,1}:\n",
       "  -1.32349e-23\n",
       "  -3.46945e-18\n",
       "   0.0        \n",
       "  14.037      \n",
       "  -9.38703e-6 \n",
       " -23.6208     "
      ]
     },
     "metadata": {},
     "output_type": "display_data"
    },
    {
     "name": "stdout",
     "output_type": "stream",
     "text": [
      "elapsed time: 1.11811151 seconds\n"
     ]
    },
    {
     "data": {
      "text/plain": [
       "6-element Array{Float64,1}:\n",
       "   0.0        \n",
       "   0.0        \n",
       "   6.61744e-24\n",
       "  13.6034     \n",
       "   1.69017e-5 \n",
       " -24.5307     "
      ]
     },
     "metadata": {},
     "output_type": "display_data"
    },
    {
     "data": {
      "text/plain": [
       "6-element Array{Float64,1}:\n",
       "   0.0        \n",
       "   0.0        \n",
       "   6.61744e-24\n",
       "  13.6034     \n",
       "   1.69017e-5 \n",
       " -24.5307     "
      ]
     },
     "metadata": {},
     "output_type": "display_data"
    },
    {
     "name": "stdout",
     "output_type": "stream",
     "text": [
      "elapsed time: 0.691031398 seconds\n"
     ]
    },
    {
     "data": {
      "text/plain": [
       "6-element Array{Float64,1}:\n",
       "   1.32349e-23\n",
       "   0.0        \n",
       "  -1.32349e-23\n",
       "  13.6032     \n",
       "   1.14086e-5 \n",
       " -24.5303     "
      ]
     },
     "metadata": {},
     "output_type": "display_data"
    },
    {
     "data": {
      "text/plain": [
       "6-element Array{Float64,1}:\n",
       "   1.32349e-23\n",
       "   0.0        \n",
       "  -1.32349e-23\n",
       "  13.6032     \n",
       "   1.14086e-5 \n",
       " -24.5303     "
      ]
     },
     "metadata": {},
     "output_type": "display_data"
    },
    {
     "name": "stdout",
     "output_type": "stream",
     "text": [
      "elapsed time: 1.062134765 seconds\n"
     ]
    },
    {
     "data": {
      "text/plain": [
       "6-element Array{Float64,1}:\n",
       "  -1.65436e-24\n",
       "   0.0        \n",
       "  -1.65436e-24\n",
       "  13.9008     \n",
       "  -1.84951e-5 \n",
       " -24.8891     "
      ]
     },
     "metadata": {},
     "output_type": "display_data"
    },
    {
     "data": {
      "text/plain": [
       "6-element Array{Float64,1}:\n",
       "  -1.65436e-24\n",
       "   0.0        \n",
       "  -1.65436e-24\n",
       "  13.9008     \n",
       "  -1.84951e-5 \n",
       " -24.8891     "
      ]
     },
     "metadata": {},
     "output_type": "display_data"
    },
    {
     "name": "stdout",
     "output_type": "stream",
     "text": [
      "elapsed time: 1.144169267 seconds\n"
     ]
    },
    {
     "data": {
      "text/plain": [
       "6-element Array{Float64,1}:\n",
       "  -4.1359e-25\n",
       "   0.0       \n",
       "   0.0       \n",
       "  14.0901    \n",
       "   1.72117e-5\n",
       " -25.023     "
      ]
     },
     "metadata": {},
     "output_type": "display_data"
    },
    {
     "data": {
      "text/plain": [
       "6-element Array{Float64,1}:\n",
       "  -4.1359e-25\n",
       "   0.0       \n",
       "   0.0       \n",
       "  14.0901    \n",
       "   1.72117e-5\n",
       " -25.023     "
      ]
     },
     "metadata": {},
     "output_type": "display_data"
    },
    {
     "name": "stdout",
     "output_type": "stream",
     "text": [
      "elapsed time: 0.674369789 seconds\n"
     ]
    },
    {
     "data": {
      "text/plain": [
       "6-element Array{Float64,1}:\n",
       "   8.27181e-25\n",
       "   0.0        \n",
       "   0.0        \n",
       "  14.2142     \n",
       "   1.82432e-5 \n",
       " -25.0578     "
      ]
     },
     "metadata": {},
     "output_type": "display_data"
    },
    {
     "data": {
      "text/plain": [
       "6-element Array{Float64,1}:\n",
       "   8.27181e-25\n",
       "   0.0        \n",
       "   0.0        \n",
       "  14.2142     \n",
       "   1.82432e-5 \n",
       " -25.0578     "
      ]
     },
     "metadata": {},
     "output_type": "display_data"
    },
    {
     "name": "stdout",
     "output_type": "stream",
     "text": [
      "elapsed time: 1.079832578 seconds\n"
     ]
    },
    {
     "data": {
      "text/plain": [
       "6-element Array{Float64,1}:\n",
       "  -2.06795e-25\n",
       "   0.0        \n",
       "   0.0        \n",
       "  14.2225     \n",
       "  -4.53545e-7 \n",
       " -25.0475     "
      ]
     },
     "metadata": {},
     "output_type": "display_data"
    },
    {
     "data": {
      "text/plain": [
       "6-element Array{Float64,1}:\n",
       "  -2.06795e-25\n",
       "   0.0        \n",
       "   0.0        \n",
       "  14.2225     \n",
       "  -4.53545e-7 \n",
       " -25.0475     "
      ]
     },
     "metadata": {},
     "output_type": "display_data"
    },
    {
     "name": "stdout",
     "output_type": "stream",
     "text": [
      "elapsed time: 1.06658233 seconds\n"
     ]
    },
    {
     "data": {
      "text/plain": [
       "6-element Array{Float64,1}:\n",
       "  0.0       \n",
       "  0.0       \n",
       "  2.1684e-19\n",
       "  1.10613e7 \n",
       " -1.71492   \n",
       " -4.07567e8 "
      ]
     },
     "metadata": {},
     "output_type": "display_data"
    },
    {
     "data": {
      "text/plain": [
       "6-element Array{Float64,1}:\n",
       "  0.0       \n",
       "  0.0       \n",
       "  2.1684e-19\n",
       "  1.10613e7 \n",
       " -1.71492   \n",
       " -4.07567e8 "
      ]
     },
     "metadata": {},
     "output_type": "display_data"
    },
    {
     "name": "stdout",
     "output_type": "stream",
     "text": [
      "elapsed time: 1.268782891 seconds\n",
      "Solved_To_Acceptable_Level\n"
     ]
    },
    {
     "data": {
      "text/plain": [
       "6-element Array{Float64,1}:\n",
       "  0.0       \n",
       "  0.0       \n",
       "  2.1684e-19\n",
       "  1.10613e7 \n",
       " -1.71492   \n",
       " -4.07567e8 "
      ]
     },
     "metadata": {},
     "output_type": "display_data"
    },
    {
     "data": {
      "text/plain": [
       "6-element Array{Float64,1}:\n",
       "  0.0       \n",
       "  0.0       \n",
       "  2.1684e-19\n",
       "  1.10613e7 \n",
       " -1.71492   \n",
       " -4.07567e8 "
      ]
     },
     "metadata": {},
     "output_type": "display_data"
    },
    {
     "name": "stdout",
     "output_type": "stream",
     "text": [
      "elapsed time: 0.857909367 seconds\n"
     ]
    },
    {
     "data": {
      "text/plain": [
       "6-element Array{Float64,1}:\n",
       "    0.0        \n",
       "    0.0        \n",
       "   -3.46945e-18\n",
       " -348.993      \n",
       "    2.07316    \n",
       "   -0.0102265  "
      ]
     },
     "metadata": {},
     "output_type": "display_data"
    },
    {
     "data": {
      "text/plain": [
       "6-element Array{Float64,1}:\n",
       "    0.0        \n",
       "    0.0        \n",
       "   -3.46945e-18\n",
       " -348.993      \n",
       "    2.07316    \n",
       "   -0.0102265  "
      ]
     },
     "metadata": {},
     "output_type": "display_data"
    },
    {
     "name": "stdout",
     "output_type": "stream",
     "text": [
      "elapsed time: 1.103191227 seconds\n"
     ]
    },
    {
     "data": {
      "text/plain": [
       "6-element Array{Float64,1}:\n",
       "  0.0        \n",
       "  0.0        \n",
       "  1.69407e-21\n",
       "  0.00451805 \n",
       " -0.00137693 \n",
       " -1.01453    "
      ]
     },
     "metadata": {},
     "output_type": "display_data"
    },
    {
     "data": {
      "text/plain": [
       "6-element Array{Float64,1}:\n",
       "  0.0        \n",
       "  0.0        \n",
       "  1.69407e-21\n",
       "  0.00451805 \n",
       " -0.00137693 \n",
       " -1.01453    "
      ]
     },
     "metadata": {},
     "output_type": "display_data"
    },
    {
     "name": "stdout",
     "output_type": "stream",
     "text": [
      "elapsed time: 1.09045761 seconds\n"
     ]
    },
    {
     "data": {
      "text/plain": [
       "6-element Array{Float64,1}:\n",
       "    0.0        \n",
       "   -2.91038e-11\n",
       "    1.45519e-11\n",
       "   20.4682     \n",
       " -452.264      \n",
       "  -24.0296     "
      ]
     },
     "metadata": {},
     "output_type": "display_data"
    },
    {
     "data": {
      "text/plain": [
       "6-element Array{Float64,1}:\n",
       "    0.0        \n",
       "   -2.91038e-11\n",
       "    1.45519e-11\n",
       "   20.4682     \n",
       " -452.264      \n",
       "  -24.0296     "
      ]
     },
     "metadata": {},
     "output_type": "display_data"
    },
    {
     "name": "stdout",
     "output_type": "stream",
     "text": [
      "elapsed time: 0.701561556 seconds\n"
     ]
    },
    {
     "data": {
      "text/plain": [
       "6-element Array{Float64,1}:\n",
       "  0.0        \n",
       "  4.44089e-16\n",
       "  1.77636e-15\n",
       "  0.0212382  \n",
       " -0.0545875  \n",
       " -0.000222196"
      ]
     },
     "metadata": {},
     "output_type": "display_data"
    },
    {
     "data": {
      "text/plain": [
       "6-element Array{Float64,1}:\n",
       "  0.0        \n",
       "  4.44089e-16\n",
       "  1.77636e-15\n",
       "  0.0212382  \n",
       " -0.0545875  \n",
       " -0.000222196"
      ]
     },
     "metadata": {},
     "output_type": "display_data"
    },
    {
     "name": "stdout",
     "output_type": "stream",
     "text": [
      "elapsed time: 1.153906239 seconds\n"
     ]
    },
    {
     "data": {
      "text/plain": [
       "6-element Array{Float64,1}:\n",
       "     1.45519e-11\n",
       "     2.32831e-10\n",
       "     2.91038e-11\n",
       "    19.1271     \n",
       "   863.56       \n",
       " -3750.72       "
      ]
     },
     "metadata": {},
     "output_type": "display_data"
    },
    {
     "data": {
      "text/plain": [
       "6-element Array{Float64,1}:\n",
       "     1.45519e-11\n",
       "     2.32831e-10\n",
       "     2.91038e-11\n",
       "    19.1271     \n",
       "   863.56       \n",
       " -3750.72       "
      ]
     },
     "metadata": {},
     "output_type": "display_data"
    },
    {
     "name": "stdout",
     "output_type": "stream",
     "text": [
      "elapsed time: 0.707659272 seconds\n"
     ]
    },
    {
     "data": {
      "text/plain": [
       "6-element Array{Float64,1}:\n",
       " -2.22045e-16\n",
       "  8.88178e-16\n",
       "  0.0        \n",
       "  0.0347948  \n",
       " -0.00642219 \n",
       "  0.00664605 "
      ]
     },
     "metadata": {},
     "output_type": "display_data"
    },
    {
     "data": {
      "text/plain": [
       "6-element Array{Float64,1}:\n",
       " -2.22045e-16\n",
       "  8.88178e-16\n",
       "  0.0        \n",
       "  0.0347948  \n",
       " -0.00642219 \n",
       "  0.00664605 "
      ]
     },
     "metadata": {},
     "output_type": "display_data"
    },
    {
     "name": "stdout",
     "output_type": "stream",
     "text": [
      "elapsed time: 1.069134228 seconds\n"
     ]
    },
    {
     "data": {
      "text/plain": [
       "6-element Array{Float64,1}:\n",
       "     0.0        \n",
       "    -5.82077e-11\n",
       "     0.0        \n",
       "    37.9742     \n",
       " -1094.48       \n",
       "   995.471      "
      ]
     },
     "metadata": {},
     "output_type": "display_data"
    },
    {
     "data": {
      "text/plain": [
       "6-element Array{Float64,1}:\n",
       "     0.0        \n",
       "    -5.82077e-11\n",
       "     0.0        \n",
       "    37.9742     \n",
       " -1094.48       \n",
       "   995.471      "
      ]
     },
     "metadata": {},
     "output_type": "display_data"
    },
    {
     "name": "stdout",
     "output_type": "stream",
     "text": [
      "elapsed time: 1.10386829 seconds\n"
     ]
    },
    {
     "data": {
      "text/plain": [
       "6-element Array{Float64,1}:\n",
       "  4.54747e-13\n",
       "  0.0        \n",
       "  1.81899e-12\n",
       " -8.85887    \n",
       " 32.5402     \n",
       " -9.6074     "
      ]
     },
     "metadata": {},
     "output_type": "display_data"
    },
    {
     "data": {
      "text/plain": [
       "6-element Array{Float64,1}:\n",
       "  4.54747e-13\n",
       "  0.0        \n",
       "  1.81899e-12\n",
       " -8.85887    \n",
       " 32.5402     \n",
       " -9.6074     "
      ]
     },
     "metadata": {},
     "output_type": "display_data"
    },
    {
     "name": "stdout",
     "output_type": "stream",
     "text": [
      "elapsed time: 1.16070371 seconds\n"
     ]
    },
    {
     "data": {
      "text/plain": [
       "6-element Array{Float64,1}:\n",
       "    0.0    \n",
       "    0.0    \n",
       "    0.0    \n",
       "    5.72033\n",
       " -131.199  \n",
       "  -41.0421 "
      ]
     },
     "metadata": {},
     "output_type": "display_data"
    },
    {
     "data": {
      "text/plain": [
       "6-element Array{Float64,1}:\n",
       "    0.0    \n",
       "    0.0    \n",
       "    0.0    \n",
       "    5.72033\n",
       " -131.199  \n",
       "  -41.0421 "
      ]
     },
     "metadata": {},
     "output_type": "display_data"
    },
    {
     "name": "stdout",
     "output_type": "stream",
     "text": [
      "elapsed time: 1.073294739 seconds\n"
     ]
    },
    {
     "data": {
      "text/plain": [
       "6-element Array{Float64,1}:\n",
       "  3.33067e-16\n",
       " -2.4869e-14 \n",
       "  1.11022e-15\n",
       "  1.86789    \n",
       "  0.0124595  \n",
       " -0.550906   "
      ]
     },
     "metadata": {},
     "output_type": "display_data"
    },
    {
     "data": {
      "text/plain": [
       "6-element Array{Float64,1}:\n",
       "  3.33067e-16\n",
       " -2.4869e-14 \n",
       "  1.11022e-15\n",
       "  1.86789    \n",
       "  0.0124595  \n",
       " -0.550906   "
      ]
     },
     "metadata": {},
     "output_type": "display_data"
    },
    {
     "name": "stdout",
     "output_type": "stream",
     "text": [
      "elapsed time: 0.68984163 seconds\n"
     ]
    },
    {
     "data": {
      "text/plain": [
       "6-element Array{Float64,1}:\n",
       "      0.0        \n",
       "      3.72529e-9 \n",
       "     -9.31323e-10\n",
       "   1088.16       \n",
       " -16851.0        \n",
       " -68608.9        "
      ]
     },
     "metadata": {},
     "output_type": "display_data"
    },
    {
     "data": {
      "text/plain": [
       "6-element Array{Float64,1}:\n",
       "      0.0        \n",
       "      3.72529e-9 \n",
       "     -9.31323e-10\n",
       "   1088.16       \n",
       " -16851.0        \n",
       " -68608.9        "
      ]
     },
     "metadata": {},
     "output_type": "display_data"
    },
    {
     "name": "stdout",
     "output_type": "stream",
     "text": [
      "elapsed time: 0.812376088 seconds\n"
     ]
    },
    {
     "data": {
      "text/plain": [
       "6-element Array{Float64,1}:\n",
       "  3.33067e-16\n",
       " -2.4869e-14 \n",
       "  1.11022e-15\n",
       "  1.86789    \n",
       "  0.0124595  \n",
       " -0.550906   "
      ]
     },
     "metadata": {},
     "output_type": "display_data"
    },
    {
     "data": {
      "text/plain": [
       "6-element Array{Float64,1}:\n",
       "  3.33067e-16\n",
       " -2.4869e-14 \n",
       "  1.11022e-15\n",
       "  1.86789    \n",
       "  0.0124595  \n",
       " -0.550906   "
      ]
     },
     "metadata": {},
     "output_type": "display_data"
    },
    {
     "name": "stdout",
     "output_type": "stream",
     "text": [
      "elapsed time: 0.69200574 seconds\n"
     ]
    },
    {
     "data": {
      "text/plain": [
       "6-element Array{Float64,1}:\n",
       " -1.49012e-8\n",
       "  0.0       \n",
       "  0.0       \n",
       " -3.76588e6 \n",
       " -1.04054e6 \n",
       " -7.26897e6 "
      ]
     },
     "metadata": {},
     "output_type": "display_data"
    },
    {
     "data": {
      "text/plain": [
       "6-element Array{Float64,1}:\n",
       " -1.49012e-8\n",
       "  0.0       \n",
       "  0.0       \n",
       " -3.76588e6 \n",
       " -1.04054e6 \n",
       " -7.26897e6 "
      ]
     },
     "metadata": {},
     "output_type": "display_data"
    },
    {
     "name": "stdout",
     "output_type": "stream",
     "text": [
      "elapsed time: 1.259563913 seconds\n"
     ]
    },
    {
     "data": {
      "text/plain": [
       "6-element Array{Float64,1}:\n",
       "    5.82077e-11\n",
       "    5.82077e-11\n",
       "    4.65661e-10\n",
       " -170.379      \n",
       " 3972.28       \n",
       " -672.052      "
      ]
     },
     "metadata": {},
     "output_type": "display_data"
    },
    {
     "data": {
      "text/plain": [
       "6-element Array{Float64,1}:\n",
       "    5.82077e-11\n",
       "    5.82077e-11\n",
       "    4.65661e-10\n",
       " -170.379      \n",
       " 3972.28       \n",
       " -672.052      "
      ]
     },
     "metadata": {},
     "output_type": "display_data"
    },
    {
     "name": "stdout",
     "output_type": "stream",
     "text": [
      "elapsed time: 1.066675456 seconds\n"
     ]
    },
    {
     "data": {
      "text/plain": [
       "6-element Array{Float64,1}:\n",
       "  2.84217e-14\n",
       "  0.0        \n",
       "  1.13687e-13\n",
       " -0.990085   \n",
       "  1.30031    \n",
       " -5.84367    "
      ]
     },
     "metadata": {},
     "output_type": "display_data"
    },
    {
     "data": {
      "text/plain": [
       "6-element Array{Float64,1}:\n",
       "  2.84217e-14\n",
       "  0.0        \n",
       "  1.13687e-13\n",
       " -0.990085   \n",
       "  1.30031    \n",
       " -5.84367    "
      ]
     },
     "metadata": {},
     "output_type": "display_data"
    },
    {
     "name": "stdout",
     "output_type": "stream",
     "text": [
      "elapsed time: 0.753767811 seconds\n"
     ]
    },
    {
     "data": {
      "text/plain": [
       "6-element Array{Float64,1}:\n",
       "  5.68434e-14\n",
       " -9.09495e-13\n",
       "  0.0        \n",
       " 54.1511     \n",
       "  4.2895     \n",
       " -0.173237   "
      ]
     },
     "metadata": {},
     "output_type": "display_data"
    },
    {
     "data": {
      "text/plain": [
       "6-element Array{Float64,1}:\n",
       "  5.68434e-14\n",
       " -9.09495e-13\n",
       "  0.0        \n",
       " 54.1511     \n",
       "  4.2895     \n",
       " -0.173237   "
      ]
     },
     "metadata": {},
     "output_type": "display_data"
    },
    {
     "name": "stdout",
     "output_type": "stream",
     "text": [
      "elapsed time: 1.154863696 seconds\n"
     ]
    },
    {
     "data": {
      "text/plain": [
       "6-element Array{Float64,1}:\n",
       "    2.91038e-11\n",
       "   -1.45519e-11\n",
       "    1.16415e-10\n",
       " -107.213      \n",
       " 2125.93       \n",
       " -362.247      "
      ]
     },
     "metadata": {},
     "output_type": "display_data"
    },
    {
     "data": {
      "text/plain": [
       "6-element Array{Float64,1}:\n",
       "    2.91038e-11\n",
       "   -1.45519e-11\n",
       "    1.16415e-10\n",
       " -107.213      \n",
       " 2125.93       \n",
       " -362.247      "
      ]
     },
     "metadata": {},
     "output_type": "display_data"
    },
    {
     "name": "stdout",
     "output_type": "stream",
     "text": [
      "elapsed time: 0.677912693 seconds\n"
     ]
    },
    {
     "data": {
      "text/plain": [
       "6-element Array{Float64,1}:\n",
       " -4.44089e-16\n",
       "  0.0        \n",
       "  0.0        \n",
       "  0.000517654\n",
       " -0.0231289  \n",
       " -0.245808   "
      ]
     },
     "metadata": {},
     "output_type": "display_data"
    },
    {
     "data": {
      "text/plain": [
       "6-element Array{Float64,1}:\n",
       " -4.44089e-16\n",
       "  0.0        \n",
       "  0.0        \n",
       "  0.000517654\n",
       " -0.0231289  \n",
       " -0.245808   "
      ]
     },
     "metadata": {},
     "output_type": "display_data"
    },
    {
     "name": "stdout",
     "output_type": "stream",
     "text": [
      "elapsed time: 1.059004024 seconds\n"
     ]
    },
    {
     "data": {
      "text/plain": [
       "6-element Array{Float64,1}:\n",
       "   4.54747e-13\n",
       "   9.09495e-13\n",
       "  -1.81899e-12\n",
       "   4.52634    \n",
       " -25.4703     \n",
       "  14.0111     "
      ]
     },
     "metadata": {},
     "output_type": "display_data"
    },
    {
     "data": {
      "text/plain": [
       "6-element Array{Float64,1}:\n",
       "   4.54747e-13\n",
       "   9.09495e-13\n",
       "  -1.81899e-12\n",
       "   4.52634    \n",
       " -25.4703     \n",
       "  14.0111     "
      ]
     },
     "metadata": {},
     "output_type": "display_data"
    },
    {
     "name": "stdout",
     "output_type": "stream",
     "text": [
      "elapsed time: 1.067825506 seconds\n"
     ]
    },
    {
     "data": {
      "text/plain": [
       "6-element Array{Float64,1}:\n",
       "  0.0      \n",
       "  0.0      \n",
       "  0.0      \n",
       "  1.38758  \n",
       " -0.0522307\n",
       " -0.927719 "
      ]
     },
     "metadata": {},
     "output_type": "display_data"
    },
    {
     "data": {
      "text/plain": [
       "6-element Array{Float64,1}:\n",
       "  0.0      \n",
       "  0.0      \n",
       "  0.0      \n",
       "  1.38758  \n",
       " -0.0522307\n",
       " -0.927719 "
      ]
     },
     "metadata": {},
     "output_type": "display_data"
    },
    {
     "name": "stdout",
     "output_type": "stream",
     "text": [
      "elapsed time: 0.678025684 seconds\n"
     ]
    },
    {
     "data": {
      "text/plain": [
       "6-element Array{Float64,1}:\n",
       " -2.22045e-16\n",
       "  0.0        \n",
       "  0.0        \n",
       " -0.018282   \n",
       "  0.00840944 \n",
       " -0.00212363 "
      ]
     },
     "metadata": {},
     "output_type": "display_data"
    },
    {
     "data": {
      "text/plain": [
       "6-element Array{Float64,1}:\n",
       " -2.22045e-16\n",
       "  0.0        \n",
       "  0.0        \n",
       " -0.018282   \n",
       "  0.00840944 \n",
       " -0.00212363 "
      ]
     },
     "metadata": {},
     "output_type": "display_data"
    },
    {
     "name": "stdout",
     "output_type": "stream",
     "text": [
      "elapsed time: 1.156934369 seconds\n"
     ]
    },
    {
     "data": {
      "text/plain": [
       "6-element Array{Float64,1}:\n",
       "     0.0        \n",
       "    -9.31323e-10\n",
       "     1.49012e-8 \n",
       " 10123.9        \n",
       "    -2.36029e5  \n",
       " 17108.6        "
      ]
     },
     "metadata": {},
     "output_type": "display_data"
    },
    {
     "data": {
      "text/plain": [
       "6-element Array{Float64,1}:\n",
       "     0.0        \n",
       "    -9.31323e-10\n",
       "     1.49012e-8 \n",
       " 10123.9        \n",
       "    -2.36029e5  \n",
       " 17108.6        "
      ]
     },
     "metadata": {},
     "output_type": "display_data"
    },
    {
     "name": "stdout",
     "output_type": "stream",
     "text": [
      "elapsed time: 0.700448019 seconds\n"
     ]
    },
    {
     "data": {
      "text/plain": [
       "6-element Array{Float64,1}:\n",
       "      1.49012e-8\n",
       "      7.45058e-9\n",
       "      0.0       \n",
       " -60864.2       \n",
       "      1.41841e6 \n",
       "     -1.9134e5  "
      ]
     },
     "metadata": {},
     "output_type": "display_data"
    },
    {
     "data": {
      "text/plain": [
       "6-element Array{Float64,1}:\n",
       "      1.49012e-8\n",
       "      7.45058e-9\n",
       "      0.0       \n",
       " -60864.2       \n",
       "      1.41841e6 \n",
       "     -1.9134e5  "
      ]
     },
     "metadata": {},
     "output_type": "display_data"
    },
    {
     "name": "stdout",
     "output_type": "stream",
     "text": [
      "elapsed time: 1.065294494 seconds\n"
     ]
    },
    {
     "data": {
      "text/plain": [
       "6-element Array{Float64,1}:\n",
       "     0.0        \n",
       "     4.65661e-10\n",
       "    -4.65661e-10\n",
       "   136.135      \n",
       " -3254.99       \n",
       " 11745.1        "
      ]
     },
     "metadata": {},
     "output_type": "display_data"
    },
    {
     "data": {
      "text/plain": [
       "6-element Array{Float64,1}:\n",
       "     0.0        \n",
       "     4.65661e-10\n",
       "    -4.65661e-10\n",
       "   136.135      \n",
       " -3254.99       \n",
       " 11745.1        "
      ]
     },
     "metadata": {},
     "output_type": "display_data"
    },
    {
     "name": "stdout",
     "output_type": "stream",
     "text": [
      "elapsed time: 1.072108545 seconds\n"
     ]
    },
    {
     "data": {
      "text/plain": [
       "6-element Array{Float64,1}:\n",
       "      -4.65661e-10\n",
       "       2.98023e-8 \n",
       "       1.86265e-9 \n",
       " -162580.0        \n",
       "  -19267.6        \n",
       "      -5.39386e5  "
      ]
     },
     "metadata": {},
     "output_type": "display_data"
    },
    {
     "data": {
      "text/plain": [
       "6-element Array{Float64,1}:\n",
       "      -4.65661e-10\n",
       "       2.98023e-8 \n",
       "       1.86265e-9 \n",
       " -162580.0        \n",
       "  -19267.6        \n",
       "      -5.39386e5  "
      ]
     },
     "metadata": {},
     "output_type": "display_data"
    },
    {
     "name": "stdout",
     "output_type": "stream",
     "text": [
      "elapsed time: 0.683536783 seconds\n"
     ]
    },
    {
     "data": {
      "text/plain": [
       "6-element Array{Float64,1}:\n",
       "      1.86265e-9 \n",
       "     -9.31323e-10\n",
       "     -7.45058e-9 \n",
       "  -6368.63       \n",
       "      1.46925e5  \n",
       " -29149.1        "
      ]
     },
     "metadata": {},
     "output_type": "display_data"
    },
    {
     "data": {
      "text/plain": [
       "6-element Array{Float64,1}:\n",
       "      1.86265e-9 \n",
       "     -9.31323e-10\n",
       "     -7.45058e-9 \n",
       "  -6368.63       \n",
       "      1.46925e5  \n",
       " -29149.1        "
      ]
     },
     "metadata": {},
     "output_type": "display_data"
    },
    {
     "name": "stdout",
     "output_type": "stream",
     "text": [
      "elapsed time: 1.144704747 seconds\n"
     ]
    },
    {
     "data": {
      "text/plain": [
       "6-element Array{Float64,1}:\n",
       " -1.55431e-15\n",
       "  3.90799e-14\n",
       "  4.44089e-15\n",
       "  3.13265    \n",
       "  0.0256707  \n",
       " -0.913968   "
      ]
     },
     "metadata": {},
     "output_type": "display_data"
    },
    {
     "data": {
      "text/plain": [
       "6-element Array{Float64,1}:\n",
       " -1.55431e-15\n",
       "  3.90799e-14\n",
       "  4.44089e-15\n",
       "  3.13265    \n",
       "  0.0256707  \n",
       " -0.913968   "
      ]
     },
     "metadata": {},
     "output_type": "display_data"
    },
    {
     "name": "stdout",
     "output_type": "stream",
     "text": [
      "elapsed time: 0.746868431 seconds\n"
     ]
    },
    {
     "data": {
      "text/plain": [
       "6-element Array{Float64,1}:\n",
       "  0.0        \n",
       " -2.84217e-14\n",
       " -2.84217e-14\n",
       " -1.30724    \n",
       "  0.638809   \n",
       " -0.072082   "
      ]
     },
     "metadata": {},
     "output_type": "display_data"
    },
    {
     "data": {
      "text/plain": [
       "6-element Array{Float64,1}:\n",
       "  0.0        \n",
       " -2.84217e-14\n",
       " -2.84217e-14\n",
       " -1.30724    \n",
       "  0.638809   \n",
       " -0.072082   "
      ]
     },
     "metadata": {},
     "output_type": "display_data"
    },
    {
     "name": "stdout",
     "output_type": "stream",
     "text": [
      "elapsed time: 1.088018062 seconds\n"
     ]
    },
    {
     "data": {
      "text/plain": [
       "6-element Array{Float64,1}:\n",
       "     1.16415e-10\n",
       "     0.0        \n",
       "     2.32831e-10\n",
       "  -280.922      \n",
       "  6511.94       \n",
       " -1773.94       "
      ]
     },
     "metadata": {},
     "output_type": "display_data"
    },
    {
     "data": {
      "text/plain": [
       "6-element Array{Float64,1}:\n",
       "     1.16415e-10\n",
       "     0.0        \n",
       "     2.32831e-10\n",
       "  -280.922      \n",
       "  6511.94       \n",
       " -1773.94       "
      ]
     },
     "metadata": {},
     "output_type": "display_data"
    },
    {
     "name": "stdout",
     "output_type": "stream",
     "text": [
      "elapsed time: 1.072682724 seconds\n"
     ]
    },
    {
     "data": {
      "text/plain": [
       "6-element Array{Float64,1}:\n",
       "   1.81899e-12\n",
       "  -7.27596e-12\n",
       "   0.0        \n",
       " 394.629      \n",
       " -91.7991     \n",
       "  13.6819     "
      ]
     },
     "metadata": {},
     "output_type": "display_data"
    },
    {
     "data": {
      "text/plain": [
       "6-element Array{Float64,1}:\n",
       "   1.81899e-12\n",
       "  -7.27596e-12\n",
       "   0.0        \n",
       " 394.629      \n",
       " -91.7991     \n",
       "  13.6819     "
      ]
     },
     "metadata": {},
     "output_type": "display_data"
    },
    {
     "name": "stdout",
     "output_type": "stream",
     "text": [
      "elapsed time: 0.687993615 seconds\n"
     ]
    },
    {
     "data": {
      "text/plain": [
       "6-element Array{Float64,1}:\n",
       "  8.88178e-16\n",
       " -1.42109e-14\n",
       "  3.55271e-15\n",
       "  0.163662   \n",
       " -0.0582614  \n",
       "  0.272415   "
      ]
     },
     "metadata": {},
     "output_type": "display_data"
    },
    {
     "data": {
      "text/plain": [
       "6-element Array{Float64,1}:\n",
       "  8.88178e-16\n",
       " -1.42109e-14\n",
       "  3.55271e-15\n",
       "  0.163662   \n",
       " -0.0582614  \n",
       "  0.272415   "
      ]
     },
     "metadata": {},
     "output_type": "display_data"
    },
    {
     "name": "stdout",
     "output_type": "stream",
     "text": [
      "elapsed time: 1.147254541 seconds\n"
     ]
    },
    {
     "data": {
      "text/plain": [
       "6-element Array{Float64,1}:\n",
       "  0.0      \n",
       "  0.0      \n",
       "  0.0      \n",
       "  1.32699  \n",
       " -0.0925127\n",
       "  0.0909262"
      ]
     },
     "metadata": {},
     "output_type": "display_data"
    },
    {
     "data": {
      "text/plain": [
       "6-element Array{Float64,1}:\n",
       "  0.0      \n",
       "  0.0      \n",
       "  0.0      \n",
       "  1.32699  \n",
       " -0.0925127\n",
       "  0.0909262"
      ]
     },
     "metadata": {},
     "output_type": "display_data"
    },
    {
     "name": "stdout",
     "output_type": "stream",
     "text": [
      "elapsed time: 0.681114628 seconds\n"
     ]
    },
    {
     "data": {
      "text/plain": [
       "6-element Array{Float64,1}:\n",
       "   1.81899e-12\n",
       "   0.0        \n",
       "  -3.63798e-12\n",
       " -17.1259     \n",
       "  98.9642     \n",
       " -10.6412     "
      ]
     },
     "metadata": {},
     "output_type": "display_data"
    },
    {
     "data": {
      "text/plain": [
       "6-element Array{Float64,1}:\n",
       "   1.81899e-12\n",
       "   0.0        \n",
       "  -3.63798e-12\n",
       " -17.1259     \n",
       "  98.9642     \n",
       " -10.6412     "
      ]
     },
     "metadata": {},
     "output_type": "display_data"
    },
    {
     "name": "stdout",
     "output_type": "stream",
     "text": [
      "elapsed time: 0.682516561 seconds\n"
     ]
    },
    {
     "data": {
      "text/plain": [
       "6-element Array{Float64,1}:\n",
       "     3.72529e-9\n",
       "     3.72529e-9\n",
       "     0.0       \n",
       " 12723.9       \n",
       "    -2.99339e5 \n",
       " 83001.0       "
      ]
     },
     "metadata": {},
     "output_type": "display_data"
    },
    {
     "data": {
      "text/plain": [
       "6-element Array{Float64,1}:\n",
       "     3.72529e-9\n",
       "     3.72529e-9\n",
       "     0.0       \n",
       " 12723.9       \n",
       "    -2.99339e5 \n",
       " 83001.0       "
      ]
     },
     "metadata": {},
     "output_type": "display_data"
    },
    {
     "name": "stdout",
     "output_type": "stream",
     "text": [
      "elapsed time: 1.08933442 seconds\n"
     ]
    },
    {
     "data": {
      "text/plain": [
       "6-element Array{Float64,1}:\n",
       "    -1.16415e-10\n",
       "     5.82077e-11\n",
       "     4.65661e-10\n",
       "  -404.208      \n",
       "  9486.15       \n",
       " -1652.39       "
      ]
     },
     "metadata": {},
     "output_type": "display_data"
    },
    {
     "data": {
      "text/plain": [
       "6-element Array{Float64,1}:\n",
       "    -1.16415e-10\n",
       "     5.82077e-11\n",
       "     4.65661e-10\n",
       "  -404.208      \n",
       "  9486.15       \n",
       " -1652.39       "
      ]
     },
     "metadata": {},
     "output_type": "display_data"
    },
    {
     "name": "stdout",
     "output_type": "stream",
     "text": [
      "elapsed time: 0.683370271 seconds\n"
     ]
    },
    {
     "data": {
      "text/plain": [
       "6-element Array{Float64,1}:\n",
       "  0.0        \n",
       "  2.84217e-14\n",
       "  1.13687e-13\n",
       " -0.012023   \n",
       "  2.4694     \n",
       " -0.295241   "
      ]
     },
     "metadata": {},
     "output_type": "display_data"
    },
    {
     "data": {
      "text/plain": [
       "6-element Array{Float64,1}:\n",
       "  0.0        \n",
       "  2.84217e-14\n",
       "  1.13687e-13\n",
       " -0.012023   \n",
       "  2.4694     \n",
       " -0.295241   "
      ]
     },
     "metadata": {},
     "output_type": "display_data"
    },
    {
     "name": "stdout",
     "output_type": "stream",
     "text": [
      "elapsed time: 1.080429779 seconds\n"
     ]
    },
    {
     "data": {
      "text/plain": [
       "6-element Array{Float64,1}:\n",
       "  3.55271e-15\n",
       "  0.0        \n",
       "  2.13163e-14\n",
       "  1.77875    \n",
       " -0.144569   \n",
       "  0.0274833  "
      ]
     },
     "metadata": {},
     "output_type": "display_data"
    },
    {
     "data": {
      "text/plain": [
       "6-element Array{Float64,1}:\n",
       "  3.55271e-15\n",
       "  0.0        \n",
       "  2.13163e-14\n",
       "  1.77875    \n",
       " -0.144569   \n",
       "  0.0274833  "
      ]
     },
     "metadata": {},
     "output_type": "display_data"
    },
    {
     "name": "stdout",
     "output_type": "stream",
     "text": [
      "elapsed time: 1.073925239 seconds\n"
     ]
    },
    {
     "data": {
      "text/plain": [
       "6-element Array{Float64,1}:\n",
       "  0.0        \n",
       " -0.00012207 \n",
       " -0.000976563\n",
       " -8.9382e8   \n",
       "  2.05845e10 \n",
       " -3.5455e9   "
      ]
     },
     "metadata": {},
     "output_type": "display_data"
    },
    {
     "data": {
      "text/plain": [
       "6-element Array{Float64,1}:\n",
       "  0.0        \n",
       " -0.00012207 \n",
       " -0.000976563\n",
       " -8.9382e8   \n",
       "  2.05845e10 \n",
       " -3.5455e9   "
      ]
     },
     "metadata": {},
     "output_type": "display_data"
    },
    {
     "name": "stdout",
     "output_type": "stream",
     "text": [
      "elapsed time: 0.68820454 seconds\n"
     ]
    },
    {
     "data": {
      "text/plain": [
       "6-element Array{Float64,1}:\n",
       "  0.0       \n",
       "  0.0       \n",
       "  4.76837e-7\n",
       " -5.9252e5  \n",
       "  1.41066e7 \n",
       " -1.43011e6 "
      ]
     },
     "metadata": {},
     "output_type": "display_data"
    },
    {
     "data": {
      "text/plain": [
       "6-element Array{Float64,1}:\n",
       "  0.0       \n",
       "  0.0       \n",
       "  4.76837e-7\n",
       " -5.9252e5  \n",
       "  1.41066e7 \n",
       " -1.43011e6 "
      ]
     },
     "metadata": {},
     "output_type": "display_data"
    },
    {
     "name": "stdout",
     "output_type": "stream",
     "text": [
      "elapsed time: 1.133168535 seconds\n"
     ]
    },
    {
     "data": {
      "text/plain": [
       "6-element Array{Float64,1}:\n",
       "     0.0        \n",
       "     0.0        \n",
       "    -1.45519e-11\n",
       "   127.366      \n",
       "  -332.943      \n",
       " -2832.22       "
      ]
     },
     "metadata": {},
     "output_type": "display_data"
    },
    {
     "data": {
      "text/plain": [
       "6-element Array{Float64,1}:\n",
       "     0.0        \n",
       "     0.0        \n",
       "    -1.45519e-11\n",
       "   127.366      \n",
       "  -332.943      \n",
       " -2832.22       "
      ]
     },
     "metadata": {},
     "output_type": "display_data"
    },
    {
     "name": "stdout",
     "output_type": "stream",
     "text": [
      "elapsed time: 0.682632592 seconds\n"
     ]
    },
    {
     "data": {
      "text/plain": [
       "6-element Array{Float64,1}:\n",
       "  1.88738e-15\n",
       " -7.10543e-15\n",
       "  3.55271e-15\n",
       "  1.87232    \n",
       "  0.0148427  \n",
       " -0.542504   "
      ]
     },
     "metadata": {},
     "output_type": "display_data"
    },
    {
     "data": {
      "text/plain": [
       "6-element Array{Float64,1}:\n",
       "  1.88738e-15\n",
       " -7.10543e-15\n",
       "  3.55271e-15\n",
       "  1.87232    \n",
       "  0.0148427  \n",
       " -0.542504   "
      ]
     },
     "metadata": {},
     "output_type": "display_data"
    },
    {
     "name": "stdout",
     "output_type": "stream",
     "text": [
      "elapsed time: 1.079492033 seconds\n"
     ]
    },
    {
     "data": {
      "text/plain": [
       "6-element Array{Float64,1}:\n",
       " -5.68434e-14\n",
       "  0.0        \n",
       "  2.27374e-13\n",
       "  6.49801    \n",
       " -5.28465    \n",
       "  0.67172    "
      ]
     },
     "metadata": {},
     "output_type": "display_data"
    },
    {
     "data": {
      "text/plain": [
       "6-element Array{Float64,1}:\n",
       " -5.68434e-14\n",
       "  0.0        \n",
       "  2.27374e-13\n",
       "  6.49801    \n",
       " -5.28465    \n",
       "  0.67172    "
      ]
     },
     "metadata": {},
     "output_type": "display_data"
    },
    {
     "name": "stdout",
     "output_type": "stream",
     "text": [
      "elapsed time: 1.072587311 seconds\n"
     ]
    },
    {
     "data": {
      "text/plain": [
       "6-element Array{Float64,1}:\n",
       "   0.0        \n",
       "  -1.81899e-12\n",
       "   0.0        \n",
       " -44.3756     \n",
       " 234.123      \n",
       " -28.2082     "
      ]
     },
     "metadata": {},
     "output_type": "display_data"
    },
    {
     "data": {
      "text/plain": [
       "6-element Array{Float64,1}:\n",
       "   0.0        \n",
       "  -1.81899e-12\n",
       "   0.0        \n",
       " -44.3756     \n",
       " 234.123      \n",
       " -28.2082     "
      ]
     },
     "metadata": {},
     "output_type": "display_data"
    },
    {
     "name": "stdout",
     "output_type": "stream",
     "text": [
      "elapsed time: 0.683386645 seconds\n"
     ]
    },
    {
     "data": {
      "text/plain": [
       "6-element Array{Float64,1}:\n",
       "     0.0        \n",
       "     2.91038e-11\n",
       "     2.32831e-10\n",
       "   204.38       \n",
       " -4798.11       \n",
       "   641.2        "
      ]
     },
     "metadata": {},
     "output_type": "display_data"
    },
    {
     "data": {
      "text/plain": [
       "6-element Array{Float64,1}:\n",
       "     0.0        \n",
       "     2.91038e-11\n",
       "     2.32831e-10\n",
       "   204.38       \n",
       " -4798.11       \n",
       "   641.2        "
      ]
     },
     "metadata": {},
     "output_type": "display_data"
    },
    {
     "name": "stdout",
     "output_type": "stream",
     "text": [
      "elapsed time: 1.160731334 seconds\n"
     ]
    },
    {
     "data": {
      "text/plain": [
       "6-element Array{Float64,1}:\n",
       "    -5.82077e-11\n",
       "     5.82077e-11\n",
       "     1.16415e-10\n",
       "   519.812      \n",
       " -3865.54       \n",
       "  1610.16       "
      ]
     },
     "metadata": {},
     "output_type": "display_data"
    },
    {
     "data": {
      "text/plain": [
       "6-element Array{Float64,1}:\n",
       "    -5.82077e-11\n",
       "     5.82077e-11\n",
       "     1.16415e-10\n",
       "   519.812      \n",
       " -3865.54       \n",
       "  1610.16       "
      ]
     },
     "metadata": {},
     "output_type": "display_data"
    },
    {
     "name": "stdout",
     "output_type": "stream",
     "text": [
      "elapsed time: 0.690557412 seconds\n"
     ]
    },
    {
     "data": {
      "text/plain": [
       "6-element Array{Float64,1}:\n",
       "     5.82077e-11\n",
       "     5.82077e-11\n",
       "     0.0        \n",
       "   182.794      \n",
       " -4312.8        \n",
       "  1552.93       "
      ]
     },
     "metadata": {},
     "output_type": "display_data"
    },
    {
     "data": {
      "text/plain": [
       "6-element Array{Float64,1}:\n",
       "     5.82077e-11\n",
       "     5.82077e-11\n",
       "     0.0        \n",
       "   182.794      \n",
       " -4312.8        \n",
       "  1552.93       "
      ]
     },
     "metadata": {},
     "output_type": "display_data"
    },
    {
     "name": "stdout",
     "output_type": "stream",
     "text": [
      "elapsed time: 1.070804841 seconds\n"
     ]
    },
    {
     "data": {
      "text/plain": [
       "6-element Array{Float64,1}:\n",
       "   -5.82077e-11\n",
       "   -2.91038e-11\n",
       "    2.32831e-10\n",
       " -236.873      \n",
       " 5680.82       \n",
       " -724.902      "
      ]
     },
     "metadata": {},
     "output_type": "display_data"
    },
    {
     "data": {
      "text/plain": [
       "6-element Array{Float64,1}:\n",
       "   -5.82077e-11\n",
       "   -2.91038e-11\n",
       "    2.32831e-10\n",
       " -236.873      \n",
       " 5680.82       \n",
       " -724.902      "
      ]
     },
     "metadata": {},
     "output_type": "display_data"
    },
    {
     "name": "stdout",
     "output_type": "stream",
     "text": [
      "elapsed time: 1.06271799 seconds\n"
     ]
    },
    {
     "data": {
      "text/plain": [
       "6-element Array{Float64,1}:\n",
       " -1.33227e-15\n",
       "  0.0        \n",
       "  1.42109e-14\n",
       " 15.5897     \n",
       "  0.121474   \n",
       " -8.02348    "
      ]
     },
     "metadata": {},
     "output_type": "display_data"
    },
    {
     "data": {
      "text/plain": [
       "6-element Array{Float64,1}:\n",
       " -1.33227e-15\n",
       "  0.0        \n",
       "  1.42109e-14\n",
       " 15.5897     \n",
       "  0.121474   \n",
       " -8.02348    "
      ]
     },
     "metadata": {},
     "output_type": "display_data"
    },
    {
     "name": "stdout",
     "output_type": "stream",
     "text": [
      "elapsed time: 0.69132784 seconds\n"
     ]
    },
    {
     "data": {
      "text/plain": [
       "6-element Array{Float64,1}:\n",
       " -2.98023e-8\n",
       "  1.90735e-6\n",
       "  1.19209e-7\n",
       " -2.64114e6 \n",
       "  2.33018e6 \n",
       " -1.66273e7 "
      ]
     },
     "metadata": {},
     "output_type": "display_data"
    },
    {
     "data": {
      "text/plain": [
       "6-element Array{Float64,1}:\n",
       " -2.98023e-8\n",
       "  1.90735e-6\n",
       "  1.19209e-7\n",
       " -2.64114e6 \n",
       "  2.33018e6 \n",
       " -1.66273e7 "
      ]
     },
     "metadata": {},
     "output_type": "display_data"
    },
    {
     "name": "stdout",
     "output_type": "stream",
     "text": [
      "elapsed time: 1.151313982 seconds\n"
     ]
    },
    {
     "data": {
      "text/plain": [
       "6-element Array{Float64,1}:\n",
       "     5.82077e-11\n",
       "    -1.16415e-10\n",
       "    -1.16415e-10\n",
       "   164.696      \n",
       " -3883.31       \n",
       " -3215.11       "
      ]
     },
     "metadata": {},
     "output_type": "display_data"
    },
    {
     "data": {
      "text/plain": [
       "6-element Array{Float64,1}:\n",
       "     5.82077e-11\n",
       "    -1.16415e-10\n",
       "    -1.16415e-10\n",
       "   164.696      \n",
       " -3883.31       \n",
       " -3215.11       "
      ]
     },
     "metadata": {},
     "output_type": "display_data"
    },
    {
     "name": "stdout",
     "output_type": "stream",
     "text": [
      "elapsed time: 0.717644801 seconds\n"
     ]
    },
    {
     "data": {
      "text/plain": [
       "6-element Array{Float64,1}:\n",
       "  2.27374e-13\n",
       "  5.68434e-14\n",
       "  4.54747e-13\n",
       "  0.749989   \n",
       " -8.91118    \n",
       "  0.709452   "
      ]
     },
     "metadata": {},
     "output_type": "display_data"
    },
    {
     "data": {
      "text/plain": [
       "6-element Array{Float64,1}:\n",
       "  2.27374e-13\n",
       "  5.68434e-14\n",
       "  4.54747e-13\n",
       "  0.749989   \n",
       " -8.91118    \n",
       "  0.709452   "
      ]
     },
     "metadata": {},
     "output_type": "display_data"
    },
    {
     "name": "stdout",
     "output_type": "stream",
     "text": [
      "elapsed time: 1.078339648 seconds\n"
     ]
    },
    {
     "data": {
      "text/plain": [
       "6-element Array{Float64,1}:\n",
       "   -3.63798e-12\n",
       "    0.0        \n",
       "    0.0        \n",
       "    2.59795    \n",
       " -263.115      \n",
       "  -46.7863     "
      ]
     },
     "metadata": {},
     "output_type": "display_data"
    },
    {
     "data": {
      "text/plain": [
       "6-element Array{Float64,1}:\n",
       "   -3.63798e-12\n",
       "    0.0        \n",
       "    0.0        \n",
       "    2.59795    \n",
       " -263.115      \n",
       "  -46.7863     "
      ]
     },
     "metadata": {},
     "output_type": "display_data"
    },
    {
     "name": "stdout",
     "output_type": "stream",
     "text": [
      "elapsed time: 1.069601401 seconds\n"
     ]
    },
    {
     "data": {
      "text/plain": [
       "6-element Array{Float64,1}:\n",
       "    -5.82077e-11\n",
       "    -5.82077e-11\n",
       "     2.32831e-10\n",
       "   189.598      \n",
       " -4389.48       \n",
       "  -645.857      "
      ]
     },
     "metadata": {},
     "output_type": "display_data"
    },
    {
     "data": {
      "text/plain": [
       "6-element Array{Float64,1}:\n",
       "    -5.82077e-11\n",
       "    -5.82077e-11\n",
       "     2.32831e-10\n",
       "   189.598      \n",
       " -4389.48       \n",
       "  -645.857      "
      ]
     },
     "metadata": {},
     "output_type": "display_data"
    },
    {
     "name": "stdout",
     "output_type": "stream",
     "text": [
      "elapsed time: 0.676186641 seconds\n"
     ]
    },
    {
     "data": {
      "text/plain": [
       "6-element Array{Float64,1}:\n",
       "     0.0        \n",
       "    -1.45519e-11\n",
       "     0.0        \n",
       "  -110.036      \n",
       " -2053.37       \n",
       "   393.233      "
      ]
     },
     "metadata": {},
     "output_type": "display_data"
    },
    {
     "data": {
      "text/plain": [
       "6-element Array{Float64,1}:\n",
       "     0.0        \n",
       "    -1.45519e-11\n",
       "     0.0        \n",
       "  -110.036      \n",
       " -2053.37       \n",
       "   393.233      "
      ]
     },
     "metadata": {},
     "output_type": "display_data"
    },
    {
     "name": "stdout",
     "output_type": "stream",
     "text": [
      "elapsed time: 1.165739732 seconds\n"
     ]
    },
    {
     "data": {
      "text/plain": [
       "6-element Array{Float64,1}:\n",
       "    0.0        \n",
       "    0.0        \n",
       "   -5.82077e-11\n",
       "   43.2801     \n",
       " -692.057      \n",
       "  245.496      "
      ]
     },
     "metadata": {},
     "output_type": "display_data"
    },
    {
     "data": {
      "text/plain": [
       "6-element Array{Float64,1}:\n",
       "    0.0        \n",
       "    0.0        \n",
       "   -5.82077e-11\n",
       "   43.2801     \n",
       " -692.057      \n",
       "  245.496      "
      ]
     },
     "metadata": {},
     "output_type": "display_data"
    },
    {
     "name": "stdout",
     "output_type": "stream",
     "text": [
      "elapsed time: 0.67391026 seconds\n"
     ]
    },
    {
     "data": {
      "text/plain": [
       "6-element Array{Float64,1}:\n",
       "  -1.81899e-12\n",
       "   0.0        \n",
       "   0.0        \n",
       "  10.7629     \n",
       " 112.75       \n",
       " 596.592      "
      ]
     },
     "metadata": {},
     "output_type": "display_data"
    },
    {
     "data": {
      "text/plain": [
       "6-element Array{Float64,1}:\n",
       "  -1.81899e-12\n",
       "   0.0        \n",
       "   0.0        \n",
       "  10.7629     \n",
       " 112.75       \n",
       " 596.592      "
      ]
     },
     "metadata": {},
     "output_type": "display_data"
    },
    {
     "name": "stdout",
     "output_type": "stream",
     "text": [
      "elapsed time: 1.072505996 seconds\n"
     ]
    },
    {
     "data": {
      "text/plain": [
       "6-element Array{Float64,1}:\n",
       "   4.54747e-13\n",
       "   0.0        \n",
       "   0.0        \n",
       "  -5.95724    \n",
       "  39.8012     \n",
       " 343.368      "
      ]
     },
     "metadata": {},
     "output_type": "display_data"
    },
    {
     "data": {
      "text/plain": [
       "6-element Array{Float64,1}:\n",
       "   4.54747e-13\n",
       "   0.0        \n",
       "   0.0        \n",
       "  -5.95724    \n",
       "  39.8012     \n",
       " 343.368      "
      ]
     },
     "metadata": {},
     "output_type": "display_data"
    },
    {
     "name": "stdout",
     "output_type": "stream",
     "text": [
      "elapsed time: 1.084498155 seconds\n"
     ]
    },
    {
     "data": {
      "text/plain": [
       "6-element Array{Float64,1}:\n",
       "  0.0        \n",
       "  9.09495e-13\n",
       "  5.68434e-14\n",
       " -0.377138   \n",
       "  1.07515    \n",
       " -8.09359    "
      ]
     },
     "metadata": {},
     "output_type": "display_data"
    },
    {
     "data": {
      "text/plain": [
       "6-element Array{Float64,1}:\n",
       "  0.0        \n",
       "  9.09495e-13\n",
       "  5.68434e-14\n",
       " -0.377138   \n",
       "  1.07515    \n",
       " -8.09359    "
      ]
     },
     "metadata": {},
     "output_type": "display_data"
    },
    {
     "name": "stdout",
     "output_type": "stream",
     "text": [
      "elapsed time: 0.68208903 seconds\n"
     ]
    },
    {
     "data": {
      "text/plain": [
       "6-element Array{Float64,1}:\n",
       "     -2.32831e-10\n",
       "     -1.86265e-9 \n",
       "      0.0        \n",
       "      1.49801e5  \n",
       " -18579.1        \n",
       " -87087.7        "
      ]
     },
     "metadata": {},
     "output_type": "display_data"
    },
    {
     "data": {
      "text/plain": [
       "6-element Array{Float64,1}:\n",
       "     -2.32831e-10\n",
       "     -1.86265e-9 \n",
       "      0.0        \n",
       "      1.49801e5  \n",
       " -18579.1        \n",
       " -87087.7        "
      ]
     },
     "metadata": {},
     "output_type": "display_data"
    },
    {
     "name": "stdout",
     "output_type": "stream",
     "text": [
      "elapsed time: 0.808586107 seconds\n"
     ]
    },
    {
     "data": {
      "text/plain": [
       "6-element Array{Float64,1}:\n",
       "   0.0        \n",
       "   1.81899e-12\n",
       "   0.0        \n",
       "   6.80349    \n",
       " 293.422      \n",
       " -35.2857     "
      ]
     },
     "metadata": {},
     "output_type": "display_data"
    },
    {
     "data": {
      "text/plain": [
       "6-element Array{Float64,1}:\n",
       "   0.0        \n",
       "   1.81899e-12\n",
       "   0.0        \n",
       "   6.80349    \n",
       " 293.422      \n",
       " -35.2857     "
      ]
     },
     "metadata": {},
     "output_type": "display_data"
    },
    {
     "name": "stdout",
     "output_type": "stream",
     "text": [
      "elapsed time: 0.671093331 seconds\n"
     ]
    },
    {
     "data": {
      "text/plain": [
       "6-element Array{Float64,1}:\n",
       "  -3.63798e-12\n",
       "   0.0        \n",
       "   7.27596e-12\n",
       " -10.0312     \n",
       " 243.159      \n",
       " -69.8144     "
      ]
     },
     "metadata": {},
     "output_type": "display_data"
    },
    {
     "data": {
      "text/plain": [
       "6-element Array{Float64,1}:\n",
       "  -3.63798e-12\n",
       "   0.0        \n",
       "   7.27596e-12\n",
       " -10.0312     \n",
       " 243.159      \n",
       " -69.8144     "
      ]
     },
     "metadata": {},
     "output_type": "display_data"
    },
    {
     "name": "stdout",
     "output_type": "stream",
     "text": [
      "elapsed time: 0.670510693 seconds\n"
     ]
    },
    {
     "data": {
      "text/plain": [
       "6-element Array{Float64,1}:\n",
       "  1.77636e-15\n",
       "  0.0        \n",
       "  3.55271e-15\n",
       " -0.708657   \n",
       "  0.0890076  \n",
       " -0.0320247  "
      ]
     },
     "metadata": {},
     "output_type": "display_data"
    },
    {
     "data": {
      "text/plain": [
       "6-element Array{Float64,1}:\n",
       "  1.77636e-15\n",
       "  0.0        \n",
       "  3.55271e-15\n",
       " -0.708657   \n",
       "  0.0890076  \n",
       " -0.0320247  "
      ]
     },
     "metadata": {},
     "output_type": "display_data"
    },
    {
     "name": "stdout",
     "output_type": "stream",
     "text": [
      "elapsed time: 1.156037301 seconds\n"
     ]
    },
    {
     "data": {
      "text/plain": [
       "6-element Array{Float64,1}:\n",
       "    5.82077e-11\n",
       "    0.0        \n",
       "   -1.16415e-10\n",
       "  -87.7883     \n",
       " 2048.12       \n",
       " -472.981      "
      ]
     },
     "metadata": {},
     "output_type": "display_data"
    },
    {
     "data": {
      "text/plain": [
       "6-element Array{Float64,1}:\n",
       "    5.82077e-11\n",
       "    0.0        \n",
       "   -1.16415e-10\n",
       "  -87.7883     \n",
       " 2048.12       \n",
       " -472.981      "
      ]
     },
     "metadata": {},
     "output_type": "display_data"
    },
    {
     "name": "stdout",
     "output_type": "stream",
     "text": [
      "elapsed time: 0.673398678 seconds\n"
     ]
    },
    {
     "data": {
      "text/plain": [
       "6-element Array{Float64,1}:\n",
       "  0.0        \n",
       "  3.55271e-15\n",
       " -4.44089e-16\n",
       " -0.00488727 \n",
       "  0.0140921  \n",
       " -0.043006   "
      ]
     },
     "metadata": {},
     "output_type": "display_data"
    },
    {
     "data": {
      "text/plain": [
       "6-element Array{Float64,1}:\n",
       "  0.0        \n",
       "  3.55271e-15\n",
       " -4.44089e-16\n",
       " -0.00488727 \n",
       "  0.0140921  \n",
       " -0.043006   "
      ]
     },
     "metadata": {},
     "output_type": "display_data"
    },
    {
     "name": "stdout",
     "output_type": "stream",
     "text": [
      "elapsed time: 1.053940076 seconds\n"
     ]
    },
    {
     "data": {
      "text/plain": [
       "6-element Array{Float64,1}:\n",
       "  0.0        \n",
       " -1.13687e-13\n",
       "  0.0        \n",
       "  5.17024    \n",
       " -2.41038    \n",
       " -0.355584   "
      ]
     },
     "metadata": {},
     "output_type": "display_data"
    },
    {
     "data": {
      "text/plain": [
       "6-element Array{Float64,1}:\n",
       "  0.0        \n",
       " -1.13687e-13\n",
       "  0.0        \n",
       "  5.17024    \n",
       " -2.41038    \n",
       " -0.355584   "
      ]
     },
     "metadata": {},
     "output_type": "display_data"
    },
    {
     "name": "stdout",
     "output_type": "stream",
     "text": [
      "elapsed time: 1.066443142 seconds\n"
     ]
    },
    {
     "data": {
      "text/plain": [
       "6-element Array{Float64,1}:\n",
       "     5.82077e-11\n",
       "     0.0        \n",
       "    -1.16415e-10\n",
       "   129.678      \n",
       " -3039.7        \n",
       "  1162.82       "
      ]
     },
     "metadata": {},
     "output_type": "display_data"
    },
    {
     "data": {
      "text/plain": [
       "6-element Array{Float64,1}:\n",
       "     5.82077e-11\n",
       "     0.0        \n",
       "    -1.16415e-10\n",
       "   129.678      \n",
       " -3039.7        \n",
       "  1162.82       "
      ]
     },
     "metadata": {},
     "output_type": "display_data"
    },
    {
     "name": "stdout",
     "output_type": "stream",
     "text": [
      "elapsed time: 0.702179861 seconds\n"
     ]
    },
    {
     "data": {
      "text/plain": [
       "6-element Array{Float64,1}:\n",
       "    -1.45519e-11\n",
       "     0.0        \n",
       "     0.0        \n",
       "    65.8978     \n",
       " -1440.75       \n",
       " -3865.18       "
      ]
     },
     "metadata": {},
     "output_type": "display_data"
    },
    {
     "data": {
      "text/plain": [
       "6-element Array{Float64,1}:\n",
       "    -1.45519e-11\n",
       "     0.0        \n",
       "     0.0        \n",
       "    65.8978     \n",
       " -1440.75       \n",
       " -3865.18       "
      ]
     },
     "metadata": {},
     "output_type": "display_data"
    },
    {
     "name": "stdout",
     "output_type": "stream",
     "text": [
      "elapsed time: 1.156371054 seconds\n"
     ]
    },
    {
     "data": {
      "text/plain": [
       "6-element Array{Float64,1}:\n",
       "  0.0        \n",
       " -2.84217e-14\n",
       " -1.77636e-15\n",
       " -0.0922409  \n",
       " -0.0543044  \n",
       " -0.778742   "
      ]
     },
     "metadata": {},
     "output_type": "display_data"
    },
    {
     "data": {
      "text/plain": [
       "6-element Array{Float64,1}:\n",
       "  0.0        \n",
       " -2.84217e-14\n",
       " -1.77636e-15\n",
       " -0.0922409  \n",
       " -0.0543044  \n",
       " -0.778742   "
      ]
     },
     "metadata": {},
     "output_type": "display_data"
    },
    {
     "name": "stdout",
     "output_type": "stream",
     "text": [
      "elapsed time: 0.68540358 seconds\n"
     ]
    },
    {
     "data": {
      "text/plain": [
       "6-element Array{Float64,1}:\n",
       "  3.55271e-15\n",
       "  2.84217e-14\n",
       "  0.0        \n",
       "  3.33291    \n",
       " -0.182259   \n",
       " -0.571486   "
      ]
     },
     "metadata": {},
     "output_type": "display_data"
    },
    {
     "data": {
      "text/plain": [
       "6-element Array{Float64,1}:\n",
       "  3.55271e-15\n",
       "  2.84217e-14\n",
       "  0.0        \n",
       "  3.33291    \n",
       " -0.182259   \n",
       " -0.571486   "
      ]
     },
     "metadata": {},
     "output_type": "display_data"
    },
    {
     "name": "stdout",
     "output_type": "stream",
     "text": [
      "elapsed time: 0.677191351 seconds\n"
     ]
    },
    {
     "data": {
      "text/plain": [
       "6-element Array{Float64,1}:\n",
       "   0.0        \n",
       "   1.45519e-11\n",
       "   0.0        \n",
       "  -3.36878    \n",
       "  66.8322     \n",
       " 399.225      "
      ]
     },
     "metadata": {},
     "output_type": "display_data"
    },
    {
     "data": {
      "text/plain": [
       "6-element Array{Float64,1}:\n",
       "   0.0        \n",
       "   1.45519e-11\n",
       "   0.0        \n",
       "  -3.36878    \n",
       "  66.8322     \n",
       " 399.225      "
      ]
     },
     "metadata": {},
     "output_type": "display_data"
    },
    {
     "name": "stdout",
     "output_type": "stream",
     "text": [
      "elapsed time: 1.13293453 seconds\n"
     ]
    },
    {
     "data": {
      "text/plain": [
       "6-element Array{Float64,1}:\n",
       "    -1.45519e-11\n",
       "     0.0        \n",
       "    -5.82077e-11\n",
       "    53.5148     \n",
       " -1254.18       \n",
       "   185.092      "
      ]
     },
     "metadata": {},
     "output_type": "display_data"
    },
    {
     "data": {
      "text/plain": [
       "6-element Array{Float64,1}:\n",
       "    -1.45519e-11\n",
       "     0.0        \n",
       "    -5.82077e-11\n",
       "    53.5148     \n",
       " -1254.18       \n",
       "   185.092      "
      ]
     },
     "metadata": {},
     "output_type": "display_data"
    },
    {
     "name": "stdout",
     "output_type": "stream",
     "text": [
      "elapsed time: 0.690663323 seconds\n"
     ]
    },
    {
     "data": {
      "text/plain": [
       "6-element Array{Float64,1}:\n",
       "   -9.09495e-13\n",
       "    1.36424e-12\n",
       "    7.27596e-12\n",
       " -324.187      \n",
       "   92.8095     \n",
       "  103.016      "
      ]
     },
     "metadata": {},
     "output_type": "display_data"
    },
    {
     "data": {
      "text/plain": [
       "6-element Array{Float64,1}:\n",
       "   -9.09495e-13\n",
       "    1.36424e-12\n",
       "    7.27596e-12\n",
       " -324.187      \n",
       "   92.8095     \n",
       "  103.016      "
      ]
     },
     "metadata": {},
     "output_type": "display_data"
    },
    {
     "name": "stdout",
     "output_type": "stream",
     "text": [
      "elapsed time: 1.056568537 seconds\n"
     ]
    },
    {
     "data": {
      "text/plain": [
       "6-element Array{Float64,1}:\n",
       "    4.54747e-13\n",
       "    7.27596e-12\n",
       "    0.0        \n",
       "  -40.8979     \n",
       "   35.1107     \n",
       " -201.299      "
      ]
     },
     "metadata": {},
     "output_type": "display_data"
    },
    {
     "data": {
      "text/plain": [
       "6-element Array{Float64,1}:\n",
       "    4.54747e-13\n",
       "    7.27596e-12\n",
       "    0.0        \n",
       "  -40.8979     \n",
       "   35.1107     \n",
       " -201.299      "
      ]
     },
     "metadata": {},
     "output_type": "display_data"
    },
    {
     "name": "stdout",
     "output_type": "stream",
     "text": [
      "elapsed time: 1.062998241 seconds\n"
     ]
    },
    {
     "data": {
      "text/plain": [
       "6-element Array{Float64,1}:\n",
       "  5.68434e-14\n",
       "  0.0        \n",
       "  0.0        \n",
       " 71.0959     \n",
       "  4.53082    \n",
       "  0.398349   "
      ]
     },
     "metadata": {},
     "output_type": "display_data"
    },
    {
     "data": {
      "text/plain": [
       "6-element Array{Float64,1}:\n",
       "  5.68434e-14\n",
       "  0.0        \n",
       "  0.0        \n",
       " 71.0959     \n",
       "  4.53082    \n",
       "  0.398349   "
      ]
     },
     "metadata": {},
     "output_type": "display_data"
    },
    {
     "name": "stdout",
     "output_type": "stream",
     "text": [
      "elapsed time: 0.669162212 seconds\n"
     ]
    },
    {
     "data": {
      "text/plain": [
       "6-element Array{Float64,1}:\n",
       "  1.42109e-14\n",
       "  0.0        \n",
       " -5.68434e-14\n",
       " -0.0299136  \n",
       "  0.729743   \n",
       " -1.41285    "
      ]
     },
     "metadata": {},
     "output_type": "display_data"
    },
    {
     "data": {
      "text/plain": [
       "6-element Array{Float64,1}:\n",
       "  1.42109e-14\n",
       "  0.0        \n",
       " -5.68434e-14\n",
       " -0.0299136  \n",
       "  0.729743   \n",
       " -1.41285    "
      ]
     },
     "metadata": {},
     "output_type": "display_data"
    },
    {
     "name": "stdout",
     "output_type": "stream",
     "text": [
      "elapsed time: 1.144020685 seconds\n"
     ]
    },
    {
     "data": {
      "text/plain": [
       "6-element Array{Float64,1}:\n",
       "  3.72529e-9\n",
       "  2.98023e-8\n",
       " -7.45058e-9\n",
       "  4.53145e5 \n",
       " -1.89924e5 \n",
       " -5.59326e5 "
      ]
     },
     "metadata": {},
     "output_type": "display_data"
    },
    {
     "data": {
      "text/plain": [
       "6-element Array{Float64,1}:\n",
       "  3.72529e-9\n",
       "  2.98023e-8\n",
       " -7.45058e-9\n",
       "  4.53145e5 \n",
       " -1.89924e5 \n",
       " -5.59326e5 "
      ]
     },
     "metadata": {},
     "output_type": "display_data"
    },
    {
     "name": "stdout",
     "output_type": "stream",
     "text": [
      "elapsed time: 0.68348007 seconds\n"
     ]
    },
    {
     "data": {
      "text/plain": [
       "6-element Array{Float64,1}:\n",
       "   -7.27596e-12\n",
       "    0.0        \n",
       "    2.91038e-11\n",
       "  -21.8575     \n",
       "  559.46       \n",
       " -111.297      "
      ]
     },
     "metadata": {},
     "output_type": "display_data"
    },
    {
     "data": {
      "text/plain": [
       "6-element Array{Float64,1}:\n",
       "   -7.27596e-12\n",
       "    0.0        \n",
       "    2.91038e-11\n",
       "  -21.8575     \n",
       "  559.46       \n",
       " -111.297      "
      ]
     },
     "metadata": {},
     "output_type": "display_data"
    },
    {
     "name": "stdout",
     "output_type": "stream",
     "text": [
      "elapsed time: 1.10083618 seconds\n"
     ]
    },
    {
     "data": {
      "text/plain": [
       "6-element Array{Float64,1}:\n",
       "  0.0        \n",
       " -5.68434e-14\n",
       "  7.10543e-15\n",
       " -0.0956959  \n",
       "  0.139261   \n",
       "  1.22298    "
      ]
     },
     "metadata": {},
     "output_type": "display_data"
    },
    {
     "data": {
      "text/plain": [
       "6-element Array{Float64,1}:\n",
       "  0.0        \n",
       " -5.68434e-14\n",
       "  7.10543e-15\n",
       " -0.0956959  \n",
       "  0.139261   \n",
       "  1.22298    "
      ]
     },
     "metadata": {},
     "output_type": "display_data"
    },
    {
     "name": "stdout",
     "output_type": "stream",
     "text": [
      "elapsed time: 1.080898977 seconds\n"
     ]
    },
    {
     "data": {
      "text/plain": [
       "6-element Array{Float64,1}:\n",
       "  -9.09495e-13\n",
       "  -9.09495e-13\n",
       "   1.81899e-12\n",
       " -29.0858     \n",
       "  57.0574     \n",
       "  -6.99915    "
      ]
     },
     "metadata": {},
     "output_type": "display_data"
    },
    {
     "data": {
      "text/plain": [
       "6-element Array{Float64,1}:\n",
       "  -9.09495e-13\n",
       "  -9.09495e-13\n",
       "   1.81899e-12\n",
       " -29.0858     \n",
       "  57.0574     \n",
       "  -6.99915    "
      ]
     },
     "metadata": {},
     "output_type": "display_data"
    },
    {
     "name": "stdout",
     "output_type": "stream",
     "text": [
      "elapsed time: 0.686800228 seconds\n"
     ]
    },
    {
     "data": {
      "text/plain": [
       "6-element Array{Float64,1}:\n",
       "  -1.13687e-13\n",
       "   5.45697e-12\n",
       "  -4.54747e-13\n",
       " -24.2196     \n",
       "   2.53541    \n",
       "  67.7653     "
      ]
     },
     "metadata": {},
     "output_type": "display_data"
    },
    {
     "data": {
      "text/plain": [
       "6-element Array{Float64,1}:\n",
       "  -1.13687e-13\n",
       "   5.45697e-12\n",
       "  -4.54747e-13\n",
       " -24.2196     \n",
       "   2.53541    \n",
       "  67.7653     "
      ]
     },
     "metadata": {},
     "output_type": "display_data"
    },
    {
     "name": "stdout",
     "output_type": "stream",
     "text": [
      "elapsed time: 1.16660744 seconds\n"
     ]
    },
    {
     "data": {
      "text/plain": [
       "6-element Array{Float64,1}:\n",
       "  2.27374e-13\n",
       "  3.63798e-12\n",
       "  0.0        \n",
       " 23.5316     \n",
       " 15.6354     \n",
       " 59.4718     "
      ]
     },
     "metadata": {},
     "output_type": "display_data"
    },
    {
     "data": {
      "text/plain": [
       "6-element Array{Float64,1}:\n",
       "  2.27374e-13\n",
       "  3.63798e-12\n",
       "  0.0        \n",
       " 23.5316     \n",
       " 15.6354     \n",
       " 59.4718     "
      ]
     },
     "metadata": {},
     "output_type": "display_data"
    },
    {
     "name": "stdout",
     "output_type": "stream",
     "text": [
      "elapsed time: 0.693109157 seconds\n"
     ]
    },
    {
     "data": {
      "text/plain": [
       "6-element Array{Float64,1}:\n",
       "   -5.82077e-11\n",
       "    4.36557e-11\n",
       "    2.32831e-10\n",
       " -177.181      \n",
       " 4162.64       \n",
       " -359.058      "
      ]
     },
     "metadata": {},
     "output_type": "display_data"
    },
    {
     "data": {
      "text/plain": [
       "6-element Array{Float64,1}:\n",
       "   -5.82077e-11\n",
       "    4.36557e-11\n",
       "    2.32831e-10\n",
       " -177.181      \n",
       " 4162.64       \n",
       " -359.058      "
      ]
     },
     "metadata": {},
     "output_type": "display_data"
    },
    {
     "name": "stdout",
     "output_type": "stream",
     "text": [
      "elapsed time: 0.677000721 seconds\n"
     ]
    },
    {
     "data": {
      "text/plain": [
       "6-element Array{Float64,1}:\n",
       "  0.0        \n",
       " -7.10543e-15\n",
       "  1.13687e-13\n",
       " -0.0361894  \n",
       "  1.42553    \n",
       "  0.0285744  "
      ]
     },
     "metadata": {},
     "output_type": "display_data"
    },
    {
     "data": {
      "text/plain": [
       "6-element Array{Float64,1}:\n",
       "  0.0        \n",
       " -7.10543e-15\n",
       "  1.13687e-13\n",
       " -0.0361894  \n",
       "  1.42553    \n",
       "  0.0285744  "
      ]
     },
     "metadata": {},
     "output_type": "display_data"
    },
    {
     "name": "stdout",
     "output_type": "stream",
     "text": [
      "elapsed time: 1.072053266 seconds\n"
     ]
    },
    {
     "data": {
      "text/plain": [
       "6-element Array{Float64,1}:\n",
       "   -5.82077e-11\n",
       "    0.0        \n",
       "   -2.32831e-10\n",
       " -220.873      \n",
       " 5181.63       \n",
       " -907.137      "
      ]
     },
     "metadata": {},
     "output_type": "display_data"
    },
    {
     "data": {
      "text/plain": [
       "6-element Array{Float64,1}:\n",
       "   -5.82077e-11\n",
       "    0.0        \n",
       "   -2.32831e-10\n",
       " -220.873      \n",
       " 5181.63       \n",
       " -907.137      "
      ]
     },
     "metadata": {},
     "output_type": "display_data"
    },
    {
     "name": "stdout",
     "output_type": "stream",
     "text": [
      "elapsed time: 0.678597716 seconds\n"
     ]
    },
    {
     "data": {
      "text/plain": [
       "6-element Array{Float64,1}:\n",
       "  2.27374e-13\n",
       "  0.0        \n",
       "  0.0        \n",
       " -0.885424   \n",
       " 20.6703     \n",
       " -7.7053     "
      ]
     },
     "metadata": {},
     "output_type": "display_data"
    },
    {
     "data": {
      "text/plain": [
       "6-element Array{Float64,1}:\n",
       "  2.27374e-13\n",
       "  0.0        \n",
       "  0.0        \n",
       " -0.885424   \n",
       " 20.6703     \n",
       " -7.7053     "
      ]
     },
     "metadata": {},
     "output_type": "display_data"
    },
    {
     "name": "stdout",
     "output_type": "stream",
     "text": [
      "elapsed time: 1.156802052 seconds\n"
     ]
    },
    {
     "data": {
      "text/plain": [
       "6-element Array{Float64,1}:\n",
       "    0.0  \n",
       "    0.0  \n",
       "    0.0  \n",
       "  180.948\n",
       "  306.614\n",
       " 3824.55 "
      ]
     },
     "metadata": {},
     "output_type": "display_data"
    },
    {
     "data": {
      "text/plain": [
       "6-element Array{Float64,1}:\n",
       "    0.0  \n",
       "    0.0  \n",
       "    0.0  \n",
       "  180.948\n",
       "  306.614\n",
       " 3824.55 "
      ]
     },
     "metadata": {},
     "output_type": "display_data"
    },
    {
     "name": "stdout",
     "output_type": "stream",
     "text": [
      "elapsed time: 0.678659383 seconds\n"
     ]
    },
    {
     "data": {
      "text/plain": [
       "6-element Array{Float64,1}:\n",
       "  2.27374e-13\n",
       "  0.0        \n",
       "  0.0        \n",
       " -0.885424   \n",
       " 20.6703     \n",
       " -7.7053     "
      ]
     },
     "metadata": {},
     "output_type": "display_data"
    },
    {
     "data": {
      "text/plain": [
       "6-element Array{Float64,1}:\n",
       "  2.27374e-13\n",
       "  0.0        \n",
       "  0.0        \n",
       " -0.885424   \n",
       " 20.6703     \n",
       " -7.7053     "
      ]
     },
     "metadata": {},
     "output_type": "display_data"
    },
    {
     "name": "stdout",
     "output_type": "stream",
     "text": [
      "elapsed time: 1.05770095 seconds\n"
     ]
    },
    {
     "data": {
      "text/plain": [
       "6-element Array{Float64,1}:\n",
       "    0.0        \n",
       "    0.0        \n",
       "   -7.27596e-12\n",
       "   30.8903     \n",
       " -203.345      \n",
       "   43.2135     "
      ]
     },
     "metadata": {},
     "output_type": "display_data"
    },
    {
     "data": {
      "text/plain": [
       "6-element Array{Float64,1}:\n",
       "    0.0        \n",
       "    0.0        \n",
       "   -7.27596e-12\n",
       "   30.8903     \n",
       " -203.345      \n",
       "   43.2135     "
      ]
     },
     "metadata": {},
     "output_type": "display_data"
    },
    {
     "name": "stdout",
     "output_type": "stream",
     "text": [
      "elapsed time: 0.6665254 seconds\n"
     ]
    },
    {
     "data": {
      "text/plain": [
       "6-element Array{Float64,1}:\n",
       "    -5.82077e-11\n",
       "     5.82077e-11\n",
       "    -2.32831e-10\n",
       "   215.282      \n",
       " -5116.8        \n",
       "  1333.32       "
      ]
     },
     "metadata": {},
     "output_type": "display_data"
    },
    {
     "data": {
      "text/plain": [
       "6-element Array{Float64,1}:\n",
       "    -5.82077e-11\n",
       "     5.82077e-11\n",
       "    -2.32831e-10\n",
       "   215.282      \n",
       " -5116.8        \n",
       "  1333.32       "
      ]
     },
     "metadata": {},
     "output_type": "display_data"
    },
    {
     "name": "stdout",
     "output_type": "stream",
     "text": [
      "elapsed time: 1.109923481 seconds\n"
     ]
    },
    {
     "data": {
      "text/plain": [
       "6-element Array{Float64,1}:\n",
       "    0.0        \n",
       "    1.81899e-12\n",
       "   -7.27596e-12\n",
       "    9.61499    \n",
       " -223.931      \n",
       "   55.8743     "
      ]
     },
     "metadata": {},
     "output_type": "display_data"
    },
    {
     "data": {
      "text/plain": [
       "6-element Array{Float64,1}:\n",
       "    0.0        \n",
       "    1.81899e-12\n",
       "   -7.27596e-12\n",
       "    9.61499    \n",
       " -223.931      \n",
       "   55.8743     "
      ]
     },
     "metadata": {},
     "output_type": "display_data"
    },
    {
     "name": "stdout",
     "output_type": "stream",
     "text": [
      "elapsed time: 1.080036761 seconds\n"
     ]
    },
    {
     "data": {
      "text/plain": [
       "6-element Array{Float64,1}:\n",
       "    -1.45519e-11\n",
       "     0.0        \n",
       "     0.0        \n",
       "  -860.451      \n",
       " -1030.7        \n",
       " -3620.71       "
      ]
     },
     "metadata": {},
     "output_type": "display_data"
    },
    {
     "data": {
      "text/plain": [
       "6-element Array{Float64,1}:\n",
       "    -1.45519e-11\n",
       "     0.0        \n",
       "     0.0        \n",
       "  -860.451      \n",
       " -1030.7        \n",
       " -3620.71       "
      ]
     },
     "metadata": {},
     "output_type": "display_data"
    },
    {
     "name": "stdout",
     "output_type": "stream",
     "text": [
      "elapsed time: 0.686353451 seconds\n"
     ]
    },
    {
     "data": {
      "text/plain": [
       "6-element Array{Float64,1}:\n",
       " -4.54747e-13\n",
       " -2.27374e-13\n",
       "  0.0        \n",
       " -6.30532    \n",
       " 33.0675     \n",
       " -4.42864    "
      ]
     },
     "metadata": {},
     "output_type": "display_data"
    },
    {
     "data": {
      "text/plain": [
       "6-element Array{Float64,1}:\n",
       " -4.54747e-13\n",
       " -2.27374e-13\n",
       "  0.0        \n",
       " -6.30532    \n",
       " 33.0675     \n",
       " -4.42864    "
      ]
     },
     "metadata": {},
     "output_type": "display_data"
    },
    {
     "name": "stdout",
     "output_type": "stream",
     "text": [
      "elapsed time: 1.127583434 seconds\n"
     ]
    },
    {
     "data": {
      "text/plain": [
       "6-element Array{Float64,1}:\n",
       " -4.44089e-16\n",
       " -4.44089e-16\n",
       "  0.0        \n",
       "  0.0275345  \n",
       " -0.0433575  \n",
       "  0.00510339 "
      ]
     },
     "metadata": {},
     "output_type": "display_data"
    },
    {
     "data": {
      "text/plain": [
       "6-element Array{Float64,1}:\n",
       " -4.44089e-16\n",
       " -4.44089e-16\n",
       "  0.0        \n",
       "  0.0275345  \n",
       " -0.0433575  \n",
       "  0.00510339 "
      ]
     },
     "metadata": {},
     "output_type": "display_data"
    },
    {
     "name": "stdout",
     "output_type": "stream",
     "text": [
      "elapsed time: 1.080743468 seconds\n"
     ]
    },
    {
     "data": {
      "text/plain": [
       "6-element Array{Float64,1}:\n",
       " -5.68434e-14\n",
       "  0.0        \n",
       "  0.0        \n",
       " 12.1269     \n",
       " -5.066      \n",
       "  0.682026   "
      ]
     },
     "metadata": {},
     "output_type": "display_data"
    },
    {
     "data": {
      "text/plain": [
       "6-element Array{Float64,1}:\n",
       " -5.68434e-14\n",
       "  0.0        \n",
       "  0.0        \n",
       " 12.1269     \n",
       " -5.066      \n",
       "  0.682026   "
      ]
     },
     "metadata": {},
     "output_type": "display_data"
    },
    {
     "name": "stdout",
     "output_type": "stream",
     "text": [
      "elapsed time: 0.669153919 seconds\n"
     ]
    },
    {
     "data": {
      "text/plain": [
       "6-element Array{Float64,1}:\n",
       "  -4.54747e-13\n",
       "   0.0        \n",
       "  -3.63798e-12\n",
       "   0.777318   \n",
       " -41.6816     \n",
       " 790.979      "
      ]
     },
     "metadata": {},
     "output_type": "display_data"
    },
    {
     "data": {
      "text/plain": [
       "6-element Array{Float64,1}:\n",
       "  -4.54747e-13\n",
       "   0.0        \n",
       "  -3.63798e-12\n",
       "   0.777318   \n",
       " -41.6816     \n",
       " 790.979      "
      ]
     },
     "metadata": {},
     "output_type": "display_data"
    },
    {
     "name": "stdout",
     "output_type": "stream",
     "text": [
      "elapsed time: 1.078062836 seconds\n"
     ]
    },
    {
     "data": {
      "text/plain": [
       "6-element Array{Float64,1}:\n",
       "  4.26326e-14\n",
       "  5.68434e-14\n",
       "  0.0        \n",
       " -0.0607716  \n",
       "  1.44621    \n",
       " -1.32246    "
      ]
     },
     "metadata": {},
     "output_type": "display_data"
    },
    {
     "data": {
      "text/plain": [
       "6-element Array{Float64,1}:\n",
       "  4.26326e-14\n",
       "  5.68434e-14\n",
       "  0.0        \n",
       " -0.0607716  \n",
       "  1.44621    \n",
       " -1.32246    "
      ]
     },
     "metadata": {},
     "output_type": "display_data"
    },
    {
     "name": "stdout",
     "output_type": "stream",
     "text": [
      "elapsed time: 0.684759451 seconds\n"
     ]
    },
    {
     "data": {
      "text/plain": [
       "6-element Array{Float64,1}:\n",
       "   -7.27596e-12\n",
       "    5.82077e-11\n",
       "   -2.91038e-11\n",
       "   25.8392     \n",
       " -580.471      \n",
       " -636.064      "
      ]
     },
     "metadata": {},
     "output_type": "display_data"
    },
    {
     "data": {
      "text/plain": [
       "6-element Array{Float64,1}:\n",
       "   -7.27596e-12\n",
       "    5.82077e-11\n",
       "   -2.91038e-11\n",
       "   25.8392     \n",
       " -580.471      \n",
       " -636.064      "
      ]
     },
     "metadata": {},
     "output_type": "display_data"
    },
    {
     "name": "stdout",
     "output_type": "stream",
     "text": [
      "elapsed time: 1.069754322 seconds\n"
     ]
    },
    {
     "data": {
      "text/plain": [
       "6-element Array{Float64,1}:\n",
       "    -5.82077e-11\n",
       "     0.0        \n",
       "    -2.32831e-10\n",
       "  -220.643      \n",
       "  4629.06       \n",
       " 26381.3        "
      ]
     },
     "metadata": {},
     "output_type": "display_data"
    },
    {
     "data": {
      "text/plain": [
       "6-element Array{Float64,1}:\n",
       "    -5.82077e-11\n",
       "     0.0        \n",
       "    -2.32831e-10\n",
       "  -220.643      \n",
       "  4629.06       \n",
       " 26381.3        "
      ]
     },
     "metadata": {},
     "output_type": "display_data"
    },
    {
     "name": "stdout",
     "output_type": "stream",
     "text": [
      "elapsed time: 1.073358289 seconds\n"
     ]
    },
    {
     "data": {
      "text/plain": [
       "6-element Array{Float64,1}:\n",
       " -8.88178e-16\n",
       "  0.0        \n",
       "  1.77636e-15\n",
       "  0.258817   \n",
       " -0.0500426  \n",
       "  0.00792954 "
      ]
     },
     "metadata": {},
     "output_type": "display_data"
    },
    {
     "data": {
      "text/plain": [
       "6-element Array{Float64,1}:\n",
       " -8.88178e-16\n",
       "  0.0        \n",
       "  1.77636e-15\n",
       "  0.258817   \n",
       " -0.0500426  \n",
       "  0.00792954 "
      ]
     },
     "metadata": {},
     "output_type": "display_data"
    },
    {
     "name": "stdout",
     "output_type": "stream",
     "text": [
      "elapsed time: 0.681838336 seconds\n"
     ]
    },
    {
     "data": {
      "text/plain": [
       "6-element Array{Float64,1}:\n",
       "  2.84217e-14\n",
       "  4.54747e-13\n",
       "  2.27374e-13\n",
       " -4.77744    \n",
       "  2.9345     \n",
       " -7.46389    "
      ]
     },
     "metadata": {},
     "output_type": "display_data"
    },
    {
     "data": {
      "text/plain": [
       "6-element Array{Float64,1}:\n",
       "  2.84217e-14\n",
       "  4.54747e-13\n",
       "  2.27374e-13\n",
       " -4.77744    \n",
       "  2.9345     \n",
       " -7.46389    "
      ]
     },
     "metadata": {},
     "output_type": "display_data"
    },
    {
     "name": "stdout",
     "output_type": "stream",
     "text": [
      "elapsed time: 0.829293381 seconds\n"
     ]
    },
    {
     "data": {
      "text/plain": [
       "6-element Array{Float64,1}:\n",
       "  0.0        \n",
       " -5.68434e-14\n",
       "  5.68434e-14\n",
       "  4.22558    \n",
       " -1.87738    \n",
       "  0.279907   "
      ]
     },
     "metadata": {},
     "output_type": "display_data"
    },
    {
     "data": {
      "text/plain": [
       "6-element Array{Float64,1}:\n",
       "  0.0        \n",
       " -5.68434e-14\n",
       "  5.68434e-14\n",
       "  4.22558    \n",
       " -1.87738    \n",
       "  0.279907   "
      ]
     },
     "metadata": {},
     "output_type": "display_data"
    },
    {
     "name": "stdout",
     "output_type": "stream",
     "text": [
      "elapsed time: 1.119584585 seconds\n"
     ]
    },
    {
     "data": {
      "text/plain": [
       "6-element Array{Float64,1}:\n",
       "   -3.63798e-12\n",
       "   -3.63798e-12\n",
       "   -1.45519e-11\n",
       " -136.07       \n",
       "  266.791      \n",
       "  -32.9766     "
      ]
     },
     "metadata": {},
     "output_type": "display_data"
    },
    {
     "data": {
      "text/plain": [
       "6-element Array{Float64,1}:\n",
       "   -3.63798e-12\n",
       "   -3.63798e-12\n",
       "   -1.45519e-11\n",
       " -136.07       \n",
       "  266.791      \n",
       "  -32.9766     "
      ]
     },
     "metadata": {},
     "output_type": "display_data"
    },
    {
     "name": "stdout",
     "output_type": "stream",
     "text": [
      "elapsed time: 0.68827516 seconds\n"
     ]
    },
    {
     "data": {
      "text/plain": [
       "6-element Array{Float64,1}:\n",
       "  0.0        \n",
       "  0.0        \n",
       "  1.81899e-12\n",
       " -3.33499    \n",
       " 33.2662     \n",
       " -3.97994    "
      ]
     },
     "metadata": {},
     "output_type": "display_data"
    },
    {
     "data": {
      "text/plain": [
       "6-element Array{Float64,1}:\n",
       "  0.0        \n",
       "  0.0        \n",
       "  1.81899e-12\n",
       " -3.33499    \n",
       " 33.2662     \n",
       " -3.97994    "
      ]
     },
     "metadata": {},
     "output_type": "display_data"
    },
    {
     "name": "stdout",
     "output_type": "stream",
     "text": [
      "elapsed time: 0.806274911 seconds\n"
     ]
    },
    {
     "data": {
      "text/plain": [
       "6-element Array{Float64,1}:\n",
       " -1.9984e-15 \n",
       " -3.55271e-15\n",
       "  5.32907e-15\n",
       "  3.19866    \n",
       "  0.0244368  \n",
       " -0.934328   "
      ]
     },
     "metadata": {},
     "output_type": "display_data"
    },
    {
     "data": {
      "text/plain": [
       "6-element Array{Float64,1}:\n",
       " -1.9984e-15 \n",
       " -3.55271e-15\n",
       "  5.32907e-15\n",
       "  3.19866    \n",
       "  0.0244368  \n",
       " -0.934328   "
      ]
     },
     "metadata": {},
     "output_type": "display_data"
    },
    {
     "name": "stdout",
     "output_type": "stream",
     "text": [
      "elapsed time: 0.681576492 seconds\n"
     ]
    },
    {
     "data": {
      "text/plain": [
       "6-element Array{Float64,1}:\n",
       "  0.0        \n",
       " -8.88178e-16\n",
       "  0.0        \n",
       "  0.0639142  \n",
       " -0.0226877  \n",
       "  0.00571123 "
      ]
     },
     "metadata": {},
     "output_type": "display_data"
    },
    {
     "data": {
      "text/plain": [
       "6-element Array{Float64,1}:\n",
       "  0.0        \n",
       " -8.88178e-16\n",
       "  0.0        \n",
       "  0.0639142  \n",
       " -0.0226877  \n",
       "  0.00571123 "
      ]
     },
     "metadata": {},
     "output_type": "display_data"
    },
    {
     "name": "stdout",
     "output_type": "stream",
     "text": [
      "elapsed time: 1.104704787 seconds\n"
     ]
    },
    {
     "data": {
      "text/plain": [
       "6-element Array{Float64,1}:\n",
       " -1.9984e-15 \n",
       " -3.55271e-15\n",
       "  5.32907e-15\n",
       "  3.19866    \n",
       "  0.0244368  \n",
       " -0.934328   "
      ]
     },
     "metadata": {},
     "output_type": "display_data"
    },
    {
     "data": {
      "text/plain": [
       "6-element Array{Float64,1}:\n",
       " -1.9984e-15 \n",
       " -3.55271e-15\n",
       "  5.32907e-15\n",
       "  3.19866    \n",
       "  0.0244368  \n",
       " -0.934328   "
      ]
     },
     "metadata": {},
     "output_type": "display_data"
    },
    {
     "name": "stdout",
     "output_type": "stream",
     "text": [
      "elapsed time: 1.153316476 seconds\n"
     ]
    },
    {
     "data": {
      "text/plain": [
       "6-element Array{Float64,1}:\n",
       "  1.77636e-15\n",
       "  0.0        \n",
       " -7.10543e-15\n",
       " -0.00255802 \n",
       "  0.124971   \n",
       " -0.0189066  "
      ]
     },
     "metadata": {},
     "output_type": "display_data"
    },
    {
     "data": {
      "text/plain": [
       "6-element Array{Float64,1}:\n",
       "  1.77636e-15\n",
       "  0.0        \n",
       " -7.10543e-15\n",
       " -0.00255802 \n",
       "  0.124971   \n",
       " -0.0189066  "
      ]
     },
     "metadata": {},
     "output_type": "display_data"
    },
    {
     "name": "stdout",
     "output_type": "stream",
     "text": [
      "elapsed time: 0.703090224 seconds\n"
     ]
    },
    {
     "data": {
      "text/plain": [
       "6-element Array{Float64,1}:\n",
       "    -1.45519e-11\n",
       "    -5.82077e-11\n",
       "    -5.82077e-11\n",
       "   -41.2236     \n",
       "  1049.66       \n",
       " -1555.05       "
      ]
     },
     "metadata": {},
     "output_type": "display_data"
    },
    {
     "data": {
      "text/plain": [
       "6-element Array{Float64,1}:\n",
       "    -1.45519e-11\n",
       "    -5.82077e-11\n",
       "    -5.82077e-11\n",
       "   -41.2236     \n",
       "  1049.66       \n",
       " -1555.05       "
      ]
     },
     "metadata": {},
     "output_type": "display_data"
    },
    {
     "name": "stdout",
     "output_type": "stream",
     "text": [
      "elapsed time: 1.166048608 seconds\n"
     ]
    },
    {
     "data": {
      "text/plain": [
       "6-element Array{Float64,1}:\n",
       "   0.0        \n",
       "  -4.54747e-13\n",
       "   0.0        \n",
       " -24.4807     \n",
       "  11.0137     \n",
       "  -1.40743    "
      ]
     },
     "metadata": {},
     "output_type": "display_data"
    },
    {
     "data": {
      "text/plain": [
       "6-element Array{Float64,1}:\n",
       "   0.0        \n",
       "  -4.54747e-13\n",
       "   0.0        \n",
       " -24.4807     \n",
       "  11.0137     \n",
       "  -1.40743    "
      ]
     },
     "metadata": {},
     "output_type": "display_data"
    },
    {
     "name": "stdout",
     "output_type": "stream",
     "text": [
      "elapsed time: 0.690881196 seconds\n"
     ]
    },
    {
     "data": {
      "text/plain": [
       "6-element Array{Float64,1}:\n",
       "     -1.49012e-8\n",
       "     -7.45058e-9\n",
       "     -2.98023e-8\n",
       " -35179.9       \n",
       "      8.48541e5 \n",
       "     -1.76879e5 "
      ]
     },
     "metadata": {},
     "output_type": "display_data"
    },
    {
     "data": {
      "text/plain": [
       "6-element Array{Float64,1}:\n",
       "     -1.49012e-8\n",
       "     -7.45058e-9\n",
       "     -2.98023e-8\n",
       " -35179.9       \n",
       "      8.48541e5 \n",
       "     -1.76879e5 "
      ]
     },
     "metadata": {},
     "output_type": "display_data"
    },
    {
     "name": "stdout",
     "output_type": "stream",
     "text": [
      "elapsed time: 1.33768027 seconds\n"
     ]
    },
    {
     "data": {
      "text/plain": [
       "6-element Array{Float64,1}:\n",
       " -5.55112e-16\n",
       " -1.24345e-14\n",
       "  6.66134e-16\n",
       "  1.39377    \n",
       "  0.0101284  \n",
       " -0.405481   "
      ]
     },
     "metadata": {},
     "output_type": "display_data"
    },
    {
     "data": {
      "text/plain": [
       "6-element Array{Float64,1}:\n",
       " -5.55112e-16\n",
       " -1.24345e-14\n",
       "  6.66134e-16\n",
       "  1.39377    \n",
       "  0.0101284  \n",
       " -0.405481   "
      ]
     },
     "metadata": {},
     "output_type": "display_data"
    },
    {
     "name": "stdout",
     "output_type": "stream",
     "text": [
      "elapsed time: 1.226265817 seconds\n"
     ]
    },
    {
     "data": {
      "text/plain": [
       "6-element Array{Float64,1}:\n",
       "   0.0        \n",
       "  -4.54747e-13\n",
       "  -9.09495e-13\n",
       "  19.0742     \n",
       " -17.0209     \n",
       "   2.15505    "
      ]
     },
     "metadata": {},
     "output_type": "display_data"
    },
    {
     "data": {
      "text/plain": [
       "6-element Array{Float64,1}:\n",
       "   0.0        \n",
       "  -4.54747e-13\n",
       "  -9.09495e-13\n",
       "  19.0742     \n",
       " -17.0209     \n",
       "   2.15505    "
      ]
     },
     "metadata": {},
     "output_type": "display_data"
    },
    {
     "name": "stdout",
     "output_type": "stream",
     "text": [
      "elapsed time: 0.732060965 seconds\n"
     ]
    },
    {
     "data": {
      "text/plain": [
       "6-element Array{Float64,1}:\n",
       "   0.0        \n",
       "  -4.54747e-13\n",
       "  -1.45519e-11\n",
       "  16.1806     \n",
       " 146.074      \n",
       " -19.9147     "
      ]
     },
     "metadata": {},
     "output_type": "display_data"
    },
    {
     "data": {
      "text/plain": [
       "6-element Array{Float64,1}:\n",
       "   0.0        \n",
       "  -4.54747e-13\n",
       "  -1.45519e-11\n",
       "  16.1806     \n",
       " 146.074      \n",
       " -19.9147     "
      ]
     },
     "metadata": {},
     "output_type": "display_data"
    },
    {
     "name": "stdout",
     "output_type": "stream",
     "text": [
      "elapsed time: 1.168264247 seconds\n"
     ]
    },
    {
     "data": {
      "text/plain": [
       "6-element Array{Float64,1}:\n",
       "    9.09495e-13\n",
       "   -7.27596e-12\n",
       "    3.63798e-12\n",
       "   -2.86426    \n",
       "   64.6498     \n",
       " -193.96       "
      ]
     },
     "metadata": {},
     "output_type": "display_data"
    },
    {
     "data": {
      "text/plain": [
       "6-element Array{Float64,1}:\n",
       "    9.09495e-13\n",
       "   -7.27596e-12\n",
       "    3.63798e-12\n",
       "   -2.86426    \n",
       "   64.6498     \n",
       " -193.96       "
      ]
     },
     "metadata": {},
     "output_type": "display_data"
    },
    {
     "name": "stdout",
     "output_type": "stream",
     "text": [
      "elapsed time: 0.700095192 seconds\n"
     ]
    },
    {
     "data": {
      "text/plain": [
       "6-element Array{Float64,1}:\n",
       "    2.91038e-11\n",
       "    0.0        \n",
       "   -5.82077e-11\n",
       "  -69.0744     \n",
       " 1679.4        \n",
       "  -24.6639     "
      ]
     },
     "metadata": {},
     "output_type": "display_data"
    },
    {
     "data": {
      "text/plain": [
       "6-element Array{Float64,1}:\n",
       "    2.91038e-11\n",
       "    0.0        \n",
       "   -5.82077e-11\n",
       "  -69.0744     \n",
       " 1679.4        \n",
       "  -24.6639     "
      ]
     },
     "metadata": {},
     "output_type": "display_data"
    },
    {
     "name": "stdout",
     "output_type": "stream",
     "text": [
      "elapsed time: 1.081020492 seconds\n"
     ]
    },
    {
     "data": {
      "text/plain": [
       "6-element Array{Float64,1}:\n",
       "  1.13687e-13\n",
       " -4.54747e-13\n",
       "  4.54747e-13\n",
       " 42.0965     \n",
       "  8.47429    \n",
       " -1.93417    "
      ]
     },
     "metadata": {},
     "output_type": "display_data"
    },
    {
     "data": {
      "text/plain": [
       "6-element Array{Float64,1}:\n",
       "  1.13687e-13\n",
       " -4.54747e-13\n",
       "  4.54747e-13\n",
       " 42.0965     \n",
       "  8.47429    \n",
       " -1.93417    "
      ]
     },
     "metadata": {},
     "output_type": "display_data"
    },
    {
     "name": "stdout",
     "output_type": "stream",
     "text": [
      "elapsed time: 1.108442867 seconds\n"
     ]
    },
    {
     "data": {
      "text/plain": [
       "6-element Array{Float64,1}:\n",
       "    -1.16415e-10\n",
       "     0.0        \n",
       "     0.0        \n",
       "  -346.548      \n",
       "  8509.38       \n",
       " -2094.08       "
      ]
     },
     "metadata": {},
     "output_type": "display_data"
    },
    {
     "data": {
      "text/plain": [
       "6-element Array{Float64,1}:\n",
       "    -1.16415e-10\n",
       "     0.0        \n",
       "     0.0        \n",
       "  -346.548      \n",
       "  8509.38       \n",
       " -2094.08       "
      ]
     },
     "metadata": {},
     "output_type": "display_data"
    },
    {
     "name": "stdout",
     "output_type": "stream",
     "text": [
      "elapsed time: 0.683493989 seconds\n"
     ]
    },
    {
     "data": {
      "text/plain": [
       "6-element Array{Float64,1}:\n",
       "     2.32831e-10\n",
       "     0.0        \n",
       "    -9.31323e-10\n",
       "  -382.719      \n",
       " 15903.6        \n",
       "   997.934      "
      ]
     },
     "metadata": {},
     "output_type": "display_data"
    },
    {
     "data": {
      "text/plain": [
       "6-element Array{Float64,1}:\n",
       "     2.32831e-10\n",
       "     0.0        \n",
       "    -9.31323e-10\n",
       "  -382.719      \n",
       " 15903.6        \n",
       "   997.934      "
      ]
     },
     "metadata": {},
     "output_type": "display_data"
    },
    {
     "name": "stdout",
     "output_type": "stream",
     "text": [
      "elapsed time: 1.178263386 seconds\n"
     ]
    },
    {
     "data": {
      "text/plain": [
       "6-element Array{Float64,1}:\n",
       "   4.54747e-13\n",
       "   0.0        \n",
       "   0.0        \n",
       "  35.8026     \n",
       " -28.3193     \n",
       "  15.5608     "
      ]
     },
     "metadata": {},
     "output_type": "display_data"
    },
    {
     "data": {
      "text/plain": [
       "6-element Array{Float64,1}:\n",
       "   4.54747e-13\n",
       "   0.0        \n",
       "   0.0        \n",
       "  35.8026     \n",
       " -28.3193     \n",
       "  15.5608     "
      ]
     },
     "metadata": {},
     "output_type": "display_data"
    },
    {
     "name": "stdout",
     "output_type": "stream",
     "text": [
      "elapsed time: 0.693526628 seconds\n"
     ]
    },
    {
     "data": {
      "text/plain": [
       "6-element Array{Float64,1}:\n",
       "   1.45519e-11\n",
       "   9.09495e-13\n",
       "   0.0        \n",
       " -55.3187     \n",
       " 329.611      \n",
       "  37.6169     "
      ]
     },
     "metadata": {},
     "output_type": "display_data"
    },
    {
     "data": {
      "text/plain": [
       "6-element Array{Float64,1}:\n",
       "   1.45519e-11\n",
       "   9.09495e-13\n",
       "   0.0        \n",
       " -55.3187     \n",
       " 329.611      \n",
       "  37.6169     "
      ]
     },
     "metadata": {},
     "output_type": "display_data"
    },
    {
     "name": "stdout",
     "output_type": "stream",
     "text": [
      "elapsed time: 0.703706925 seconds\n"
     ]
    },
    {
     "data": {
      "text/plain": [
       "6-element Array{Float64,1}:\n",
       " -4.54747e-13\n",
       " -1.13687e-13\n",
       "  1.81899e-12\n",
       "  0.979652   \n",
       " 36.1527     \n",
       "  1.67893    "
      ]
     },
     "metadata": {},
     "output_type": "display_data"
    },
    {
     "data": {
      "text/plain": [
       "6-element Array{Float64,1}:\n",
       " -4.54747e-13\n",
       " -1.13687e-13\n",
       "  1.81899e-12\n",
       "  0.979652   \n",
       " 36.1527     \n",
       "  1.67893    "
      ]
     },
     "metadata": {},
     "output_type": "display_data"
    },
    {
     "name": "stdout",
     "output_type": "stream",
     "text": [
      "elapsed time: 1.140170928 seconds\n"
     ]
    },
    {
     "data": {
      "text/plain": [
       "6-element Array{Float64,1}:\n",
       " -5.68434e-14\n",
       " -1.42109e-14\n",
       "  0.0        \n",
       "  0.589716   \n",
       " -3.53693    \n",
       " -0.3887     "
      ]
     },
     "metadata": {},
     "output_type": "display_data"
    },
    {
     "data": {
      "text/plain": [
       "6-element Array{Float64,1}:\n",
       " -5.68434e-14\n",
       " -1.42109e-14\n",
       "  0.0        \n",
       "  0.589716   \n",
       " -3.53693    \n",
       " -0.3887     "
      ]
     },
     "metadata": {},
     "output_type": "display_data"
    },
    {
     "name": "stdout",
     "output_type": "stream",
     "text": [
      "elapsed time: 0.705058775 seconds\n"
     ]
    },
    {
     "data": {
      "text/plain": [
       "6-element Array{Float64,1}:\n",
       "     0.0       \n",
       "     1.49012e-8\n",
       "     0.0       \n",
       " -3803.83      \n",
       " 50277.4       \n",
       "    -3.48439e5 "
      ]
     },
     "metadata": {},
     "output_type": "display_data"
    },
    {
     "data": {
      "text/plain": [
       "6-element Array{Float64,1}:\n",
       "     0.0       \n",
       "     1.49012e-8\n",
       "     0.0       \n",
       " -3803.83      \n",
       " 50277.4       \n",
       "    -3.48439e5 "
      ]
     },
     "metadata": {},
     "output_type": "display_data"
    },
    {
     "name": "stdout",
     "output_type": "stream",
     "text": [
      "elapsed time: 1.142008616 seconds\n"
     ]
    },
    {
     "data": {
      "text/plain": [
       "6-element Array{Float64,1}:\n",
       "   -5.82077e-11\n",
       "    2.91038e-11\n",
       "    1.16415e-10\n",
       "   68.9616     \n",
       " 2658.28       \n",
       " -787.212      "
      ]
     },
     "metadata": {},
     "output_type": "display_data"
    },
    {
     "data": {
      "text/plain": [
       "6-element Array{Float64,1}:\n",
       "   -5.82077e-11\n",
       "    2.91038e-11\n",
       "    1.16415e-10\n",
       "   68.9616     \n",
       " 2658.28       \n",
       " -787.212      "
      ]
     },
     "metadata": {},
     "output_type": "display_data"
    },
    {
     "name": "stdout",
     "output_type": "stream",
     "text": [
      "elapsed time: 1.095346219 seconds\n"
     ]
    },
    {
     "data": {
      "text/plain": [
       "6-element Array{Float64,1}:\n",
       "   -1.81899e-12\n",
       "   -2.91038e-11\n",
       "   -7.27596e-12\n",
       "  -91.8038     \n",
       " -114.386      \n",
       "  456.504      "
      ]
     },
     "metadata": {},
     "output_type": "display_data"
    },
    {
     "data": {
      "text/plain": [
       "6-element Array{Float64,1}:\n",
       "   -1.81899e-12\n",
       "   -2.91038e-11\n",
       "   -7.27596e-12\n",
       "  -91.8038     \n",
       " -114.386      \n",
       "  456.504      "
      ]
     },
     "metadata": {},
     "output_type": "display_data"
    },
    {
     "name": "stdout",
     "output_type": "stream",
     "text": [
      "elapsed time: 0.853882601 seconds\n"
     ]
    },
    {
     "data": {
      "text/plain": [
       "6-element Array{Float64,1}:\n",
       "  8.88178e-16\n",
       "  1.13687e-13\n",
       " -4.26326e-14\n",
       " -0.0338751  \n",
       "  0.0267853  \n",
       " -2.2651     "
      ]
     },
     "metadata": {},
     "output_type": "display_data"
    },
    {
     "data": {
      "text/plain": [
       "6-element Array{Float64,1}:\n",
       "  8.88178e-16\n",
       "  1.13687e-13\n",
       " -4.26326e-14\n",
       " -0.0338751  \n",
       "  0.0267853  \n",
       " -2.2651     "
      ]
     },
     "metadata": {},
     "output_type": "display_data"
    },
    {
     "name": "stdout",
     "output_type": "stream",
     "text": [
      "elapsed time: 1.248819134 seconds\n"
     ]
    },
    {
     "data": {
      "text/plain": [
       "6-element Array{Float64,1}:\n",
       "      2.32831e-10\n",
       "      3.49246e-10\n",
       "      0.0        \n",
       "   -345.568      \n",
       " -12831.8        \n",
       "   3170.49       "
      ]
     },
     "metadata": {},
     "output_type": "display_data"
    },
    {
     "data": {
      "text/plain": [
       "6-element Array{Float64,1}:\n",
       "      2.32831e-10\n",
       "      3.49246e-10\n",
       "      0.0        \n",
       "   -345.568      \n",
       " -12831.8        \n",
       "   3170.49       "
      ]
     },
     "metadata": {},
     "output_type": "display_data"
    },
    {
     "name": "stdout",
     "output_type": "stream",
     "text": [
      "elapsed time: 0.871522231 seconds\n"
     ]
    },
    {
     "data": {
      "text/plain": [
       "6-element Array{Float64,1}:\n",
       "  3.55271e-15\n",
       "  0.0        \n",
       "  1.42109e-14\n",
       "  3.22054    \n",
       "  0.0930596  \n",
       " -2.30306    "
      ]
     },
     "metadata": {},
     "output_type": "display_data"
    },
    {
     "data": {
      "text/plain": [
       "6-element Array{Float64,1}:\n",
       "  3.55271e-15\n",
       "  0.0        \n",
       "  1.42109e-14\n",
       "  3.22054    \n",
       "  0.0930596  \n",
       " -2.30306    "
      ]
     },
     "metadata": {},
     "output_type": "display_data"
    },
    {
     "name": "stdout",
     "output_type": "stream",
     "text": [
      "elapsed time: 1.170172386 seconds\n"
     ]
    },
    {
     "data": {
      "text/plain": [
       "6-element Array{Float64,1}:\n",
       "  0.0        \n",
       "  2.27374e-13\n",
       "  0.0        \n",
       "  1.51402    \n",
       " 48.2179     \n",
       "  5.84445    "
      ]
     },
     "metadata": {},
     "output_type": "display_data"
    },
    {
     "data": {
      "text/plain": [
       "6-element Array{Float64,1}:\n",
       "  0.0        \n",
       "  2.27374e-13\n",
       "  0.0        \n",
       "  1.51402    \n",
       " 48.2179     \n",
       "  5.84445    "
      ]
     },
     "metadata": {},
     "output_type": "display_data"
    },
    {
     "name": "stdout",
     "output_type": "stream",
     "text": [
      "elapsed time: 1.146040553 seconds\n"
     ]
    },
    {
     "data": {
      "text/plain": [
       "6-element Array{Float64,1}:\n",
       "    -1.49012e-8\n",
       "     0.0       \n",
       "     0.0       \n",
       " 34517.6       \n",
       "     1.01097e6 \n",
       "     1.47142e5 "
      ]
     },
     "metadata": {},
     "output_type": "display_data"
    },
    {
     "data": {
      "text/plain": [
       "6-element Array{Float64,1}:\n",
       "    -1.49012e-8\n",
       "     0.0       \n",
       "     0.0       \n",
       " 34517.6       \n",
       "     1.01097e6 \n",
       "     1.47142e5 "
      ]
     },
     "metadata": {},
     "output_type": "display_data"
    },
    {
     "name": "stdout",
     "output_type": "stream",
     "text": [
      "elapsed time: 0.720958204 seconds\n"
     ]
    },
    {
     "data": {
      "text/plain": [
       "6-element Array{Float64,1}:\n",
       " -4.54747e-13\n",
       "  0.0        \n",
       " -1.81899e-12\n",
       "  1.05251    \n",
       " 29.4353     \n",
       "  3.53154    "
      ]
     },
     "metadata": {},
     "output_type": "display_data"
    },
    {
     "data": {
      "text/plain": [
       "6-element Array{Float64,1}:\n",
       " -4.54747e-13\n",
       "  0.0        \n",
       " -1.81899e-12\n",
       "  1.05251    \n",
       " 29.4353     \n",
       "  3.53154    "
      ]
     },
     "metadata": {},
     "output_type": "display_data"
    },
    {
     "name": "stdout",
     "output_type": "stream",
     "text": [
      "elapsed time: 1.196524956 seconds\n"
     ]
    },
    {
     "data": {
      "text/plain": [
       "6-element Array{Float64,1}:\n",
       "    1.45519e-11\n",
       "    1.16415e-10\n",
       "    0.0        \n",
       "  366.866      \n",
       " 1189.58       \n",
       " 1800.89       "
      ]
     },
     "metadata": {},
     "output_type": "display_data"
    },
    {
     "data": {
      "text/plain": [
       "6-element Array{Float64,1}:\n",
       "    1.45519e-11\n",
       "    1.16415e-10\n",
       "    0.0        \n",
       "  366.866      \n",
       " 1189.58       \n",
       " 1800.89       "
      ]
     },
     "metadata": {},
     "output_type": "display_data"
    },
    {
     "name": "stdout",
     "output_type": "stream",
     "text": [
      "elapsed time: 1.104026924 seconds\n"
     ]
    },
    {
     "data": {
      "text/plain": [
       "6-element Array{Float64,1}:\n",
       "      2.32831e-10\n",
       "     -9.31323e-10\n",
       "      9.31323e-10\n",
       " -18907.0        \n",
       " -18136.7        \n",
       "   8279.39       "
      ]
     },
     "metadata": {},
     "output_type": "display_data"
    },
    {
     "data": {
      "text/plain": [
       "6-element Array{Float64,1}:\n",
       "      2.32831e-10\n",
       "     -9.31323e-10\n",
       "      9.31323e-10\n",
       " -18907.0        \n",
       " -18136.7        \n",
       "   8279.39       "
      ]
     },
     "metadata": {},
     "output_type": "display_data"
    },
    {
     "name": "stdout",
     "output_type": "stream",
     "text": [
      "elapsed time: 0.70868906 seconds\n"
     ]
    },
    {
     "data": {
      "text/plain": [
       "6-element Array{Float64,1}:\n",
       "  0.0        \n",
       "  2.22045e-16\n",
       "  0.0        \n",
       "  0.004519   \n",
       " -0.00982231 \n",
       " -0.00658773 "
      ]
     },
     "metadata": {},
     "output_type": "display_data"
    },
    {
     "data": {
      "text/plain": [
       "6-element Array{Float64,1}:\n",
       "  0.0        \n",
       "  2.22045e-16\n",
       "  0.0        \n",
       "  0.004519   \n",
       " -0.00982231 \n",
       " -0.00658773 "
      ]
     },
     "metadata": {},
     "output_type": "display_data"
    },
    {
     "name": "stdout",
     "output_type": "stream",
     "text": [
      "elapsed time: 0.851011564 seconds\n"
     ]
    },
    {
     "data": {
      "text/plain": [
       "6-element Array{Float64,1}:\n",
       "   0.0        \n",
       "   2.91038e-11\n",
       "  -2.91038e-11\n",
       "  91.8739     \n",
       " 535.724      \n",
       " -71.776      "
      ]
     },
     "metadata": {},
     "output_type": "display_data"
    },
    {
     "data": {
      "text/plain": [
       "6-element Array{Float64,1}:\n",
       "   0.0        \n",
       "   2.91038e-11\n",
       "  -2.91038e-11\n",
       "  91.8739     \n",
       " 535.724      \n",
       " -71.776      "
      ]
     },
     "metadata": {},
     "output_type": "display_data"
    },
    {
     "name": "stdout",
     "output_type": "stream",
     "text": [
      "elapsed time: 1.09361181 seconds\n"
     ]
    },
    {
     "data": {
      "text/plain": [
       "6-element Array{Float64,1}:\n",
       " -3.55271e-15\n",
       "  0.0        \n",
       "  1.42109e-14\n",
       " -0.0546804  \n",
       "  0.213215   \n",
       "  0.125628   "
      ]
     },
     "metadata": {},
     "output_type": "display_data"
    },
    {
     "data": {
      "text/plain": [
       "6-element Array{Float64,1}:\n",
       " -3.55271e-15\n",
       "  0.0        \n",
       "  1.42109e-14\n",
       " -0.0546804  \n",
       "  0.213215   \n",
       "  0.125628   "
      ]
     },
     "metadata": {},
     "output_type": "display_data"
    },
    {
     "name": "stdout",
     "output_type": "stream",
     "text": [
      "elapsed time: 0.699765435 seconds\n"
     ]
    },
    {
     "data": {
      "text/plain": [
       "6-element Array{Float64,1}:\n",
       "   -1.45519e-11\n",
       "    2.91038e-11\n",
       "    2.91038e-11\n",
       "  -67.0216     \n",
       " -662.26       \n",
       "  765.76       "
      ]
     },
     "metadata": {},
     "output_type": "display_data"
    },
    {
     "data": {
      "text/plain": [
       "6-element Array{Float64,1}:\n",
       "   -1.45519e-11\n",
       "    2.91038e-11\n",
       "    2.91038e-11\n",
       "  -67.0216     \n",
       " -662.26       \n",
       "  765.76       "
      ]
     },
     "metadata": {},
     "output_type": "display_data"
    },
    {
     "name": "stdout",
     "output_type": "stream",
     "text": [
      "elapsed time: 1.197474485 seconds\n"
     ]
    },
    {
     "data": {
      "text/plain": [
       "6-element Array{Float64,1}:\n",
       "  0.0        \n",
       "  1.06581e-14\n",
       " -2.84217e-14\n",
       "  0.224659   \n",
       " -0.456505   \n",
       " -0.166585   "
      ]
     },
     "metadata": {},
     "output_type": "display_data"
    },
    {
     "data": {
      "text/plain": [
       "6-element Array{Float64,1}:\n",
       "  0.0        \n",
       "  1.06581e-14\n",
       " -2.84217e-14\n",
       "  0.224659   \n",
       " -0.456505   \n",
       " -0.166585   "
      ]
     },
     "metadata": {},
     "output_type": "display_data"
    },
    {
     "name": "stdout",
     "output_type": "stream",
     "text": [
      "elapsed time: 0.70736802 seconds\n"
     ]
    },
    {
     "data": {
      "text/plain": [
       "6-element Array{Float64,1}:\n",
       "    7.27596e-12\n",
       "    5.82077e-11\n",
       "    0.0        \n",
       "   -9.29221    \n",
       " -331.806      \n",
       "  789.095      "
      ]
     },
     "metadata": {},
     "output_type": "display_data"
    },
    {
     "data": {
      "text/plain": [
       "6-element Array{Float64,1}:\n",
       "    7.27596e-12\n",
       "    5.82077e-11\n",
       "    0.0        \n",
       "   -9.29221    \n",
       " -331.806      \n",
       "  789.095      "
      ]
     },
     "metadata": {},
     "output_type": "display_data"
    },
    {
     "name": "stdout",
     "output_type": "stream",
     "text": [
      "elapsed time: 0.723839914 seconds\n"
     ]
    },
    {
     "data": {
      "text/plain": [
       "6-element Array{Float64,1}:\n",
       "      1.86265e-9\n",
       "      0.0       \n",
       "     -3.72529e-9\n",
       "  -9761.09      \n",
       " -90618.6       \n",
       "  94439.2       "
      ]
     },
     "metadata": {},
     "output_type": "display_data"
    },
    {
     "data": {
      "text/plain": [
       "6-element Array{Float64,1}:\n",
       "      1.86265e-9\n",
       "      0.0       \n",
       "     -3.72529e-9\n",
       "  -9761.09      \n",
       " -90618.6       \n",
       "  94439.2       "
      ]
     },
     "metadata": {},
     "output_type": "display_data"
    },
    {
     "name": "stdout",
     "output_type": "stream",
     "text": [
      "elapsed time: 1.13259555 seconds\n"
     ]
    },
    {
     "data": {
      "text/plain": [
       "6-element Array{Float64,1}:\n",
       " -2.27374e-13\n",
       "  0.0        \n",
       "  9.09495e-13\n",
       "  3.08261    \n",
       " 16.1855     \n",
       "  9.71934    "
      ]
     },
     "metadata": {},
     "output_type": "display_data"
    },
    {
     "data": {
      "text/plain": [
       "6-element Array{Float64,1}:\n",
       " -2.27374e-13\n",
       "  0.0        \n",
       "  9.09495e-13\n",
       "  3.08261    \n",
       " 16.1855     \n",
       "  9.71934    "
      ]
     },
     "metadata": {},
     "output_type": "display_data"
    },
    {
     "name": "stdout",
     "output_type": "stream",
     "text": [
      "elapsed time: 0.701884769 seconds\n"
     ]
    },
    {
     "data": {
      "text/plain": [
       "6-element Array{Float64,1}:\n",
       "  0.0    \n",
       "  0.0    \n",
       "  0.0    \n",
       " -1.37646\n",
       " 48.1541 \n",
       " 28.4885 "
      ]
     },
     "metadata": {},
     "output_type": "display_data"
    },
    {
     "data": {
      "text/plain": [
       "6-element Array{Float64,1}:\n",
       "  0.0    \n",
       "  0.0    \n",
       "  0.0    \n",
       " -1.37646\n",
       " 48.1541 \n",
       " 28.4885 "
      ]
     },
     "metadata": {},
     "output_type": "display_data"
    },
    {
     "name": "stdout",
     "output_type": "stream",
     "text": [
      "elapsed time: 0.703748802 seconds\n"
     ]
    },
    {
     "data": {
      "text/plain": [
       "6-element Array{Float64,1}:\n",
       "    0.0        \n",
       "    3.63798e-12\n",
       "    0.0        \n",
       "   39.0519     \n",
       " -118.303      \n",
       "  -68.5851     "
      ]
     },
     "metadata": {},
     "output_type": "display_data"
    },
    {
     "data": {
      "text/plain": [
       "6-element Array{Float64,1}:\n",
       "    0.0        \n",
       "    3.63798e-12\n",
       "    0.0        \n",
       "   39.0519     \n",
       " -118.303      \n",
       "  -68.5851     "
      ]
     },
     "metadata": {},
     "output_type": "display_data"
    },
    {
     "name": "stdout",
     "output_type": "stream",
     "text": [
      "elapsed time: 1.114295192 seconds\n"
     ]
    },
    {
     "data": {
      "text/plain": [
       "6-element Array{Float64,1}:\n",
       "   -1.81899e-12\n",
       "   -7.27596e-12\n",
       "    7.27596e-12\n",
       "   35.9868     \n",
       " -126.656      \n",
       "  -73.6673     "
      ]
     },
     "metadata": {},
     "output_type": "display_data"
    },
    {
     "data": {
      "text/plain": [
       "6-element Array{Float64,1}:\n",
       "   -1.81899e-12\n",
       "   -7.27596e-12\n",
       "    7.27596e-12\n",
       "   35.9868     \n",
       " -126.656      \n",
       "  -73.6673     "
      ]
     },
     "metadata": {},
     "output_type": "display_data"
    },
    {
     "name": "stdout",
     "output_type": "stream",
     "text": [
      "elapsed time: 1.102062261 seconds\n"
     ]
    },
    {
     "data": {
      "text/plain": [
       "6-element Array{Float64,1}:\n",
       "    1.81899e-12\n",
       "    0.0        \n",
       "   -7.27596e-12\n",
       "  -11.8136     \n",
       " -137.669      \n",
       "  -81.8591     "
      ]
     },
     "metadata": {},
     "output_type": "display_data"
    },
    {
     "data": {
      "text/plain": [
       "6-element Array{Float64,1}:\n",
       "    1.81899e-12\n",
       "    0.0        \n",
       "   -7.27596e-12\n",
       "  -11.8136     \n",
       " -137.669      \n",
       "  -81.8591     "
      ]
     },
     "metadata": {},
     "output_type": "display_data"
    },
    {
     "name": "stdout",
     "output_type": "stream",
     "text": [
      "elapsed time: 0.702892061 seconds\n"
     ]
    },
    {
     "data": {
      "text/plain": [
       "6-element Array{Float64,1}:\n",
       "     0.0 \n",
       "     0.0 \n",
       "     0.0 \n",
       "  5130.79\n",
       " 32762.0 \n",
       " -4100.16"
      ]
     },
     "metadata": {},
     "output_type": "display_data"
    },
    {
     "data": {
      "text/plain": [
       "6-element Array{Float64,1}:\n",
       "     0.0 \n",
       "     0.0 \n",
       "     0.0 \n",
       "  5130.79\n",
       " 32762.0 \n",
       " -4100.16"
      ]
     },
     "metadata": {},
     "output_type": "display_data"
    },
    {
     "name": "stdout",
     "output_type": "stream",
     "text": [
      "elapsed time: 1.161611114 seconds\n"
     ]
    },
    {
     "data": {
      "text/plain": [
       "6-element Array{Float64,1}:\n",
       " -1.81899e-12\n",
       "  1.81899e-12\n",
       "  3.63798e-12\n",
       "  7.22194    \n",
       " 75.8921     \n",
       " 45.2629     "
      ]
     },
     "metadata": {},
     "output_type": "display_data"
    },
    {
     "data": {
      "text/plain": [
       "6-element Array{Float64,1}:\n",
       " -1.81899e-12\n",
       "  1.81899e-12\n",
       "  3.63798e-12\n",
       "  7.22194    \n",
       " 75.8921     \n",
       " 45.2629     "
      ]
     },
     "metadata": {},
     "output_type": "display_data"
    },
    {
     "name": "stdout",
     "output_type": "stream",
     "text": [
      "elapsed time: 1.076790852 seconds\n"
     ]
    },
    {
     "data": {
      "text/plain": [
       "6-element Array{Float64,1}:\n",
       "  -4.54747e-13\n",
       "   1.81899e-12\n",
       "  -9.09495e-13\n",
       "   2.02978    \n",
       "  24.2519     \n",
       " -36.8423     "
      ]
     },
     "metadata": {},
     "output_type": "display_data"
    },
    {
     "data": {
      "text/plain": [
       "6-element Array{Float64,1}:\n",
       "  -4.54747e-13\n",
       "   1.81899e-12\n",
       "  -9.09495e-13\n",
       "   2.02978    \n",
       "  24.2519     \n",
       " -36.8423     "
      ]
     },
     "metadata": {},
     "output_type": "display_data"
    },
    {
     "name": "stdout",
     "output_type": "stream",
     "text": [
      "elapsed time: 0.706404469 seconds\n"
     ]
    },
    {
     "data": {
      "text/plain": [
       "6-element Array{Float64,1}:\n",
       "   7.27596e-12\n",
       "  -1.45519e-11\n",
       "   1.45519e-11\n",
       "  34.8029     \n",
       " 386.231      \n",
       " 233.114      "
      ]
     },
     "metadata": {},
     "output_type": "display_data"
    },
    {
     "data": {
      "text/plain": [
       "6-element Array{Float64,1}:\n",
       "   7.27596e-12\n",
       "  -1.45519e-11\n",
       "   1.45519e-11\n",
       "  34.8029     \n",
       " 386.231      \n",
       " 233.114      "
      ]
     },
     "metadata": {},
     "output_type": "display_data"
    },
    {
     "name": "stdout",
     "output_type": "stream",
     "text": [
      "elapsed time: 1.165334517 seconds\n"
     ]
    },
    {
     "data": {
      "text/plain": [
       "6-element Array{Float64,1}:\n",
       "  0.0     \n",
       "  0.0     \n",
       "  0.0     \n",
       "  0.387179\n",
       " -7.26132 \n",
       " -4.16976 "
      ]
     },
     "metadata": {},
     "output_type": "display_data"
    },
    {
     "data": {
      "text/plain": [
       "6-element Array{Float64,1}:\n",
       "  0.0     \n",
       "  0.0     \n",
       "  0.0     \n",
       "  0.387179\n",
       " -7.26132 \n",
       " -4.16976 "
      ]
     },
     "metadata": {},
     "output_type": "display_data"
    },
    {
     "name": "stdout",
     "output_type": "stream",
     "text": [
      "elapsed time: 0.716349979 seconds\n"
     ]
    },
    {
     "data": {
      "text/plain": [
       "6-element Array{Float64,1}:\n",
       "     2.91038e-11\n",
       "     0.0        \n",
       "     0.0        \n",
       "   101.952      \n",
       "  1252.1        \n",
       " -2044.92       "
      ]
     },
     "metadata": {},
     "output_type": "display_data"
    },
    {
     "data": {
      "text/plain": [
       "6-element Array{Float64,1}:\n",
       "     2.91038e-11\n",
       "     0.0        \n",
       "     0.0        \n",
       "   101.952      \n",
       "  1252.1        \n",
       " -2044.92       "
      ]
     },
     "metadata": {},
     "output_type": "display_data"
    },
    {
     "name": "stdout",
     "output_type": "stream",
     "text": [
      "elapsed time: 1.064098455 seconds\n"
     ]
    },
    {
     "data": {
      "text/plain": [
       "6-element Array{Float64,1}:\n",
       " -1.59872e-14\n",
       " -5.68434e-14\n",
       " -7.10543e-15\n",
       "  3.22223    \n",
       " -0.127341   \n",
       " -0.659816   "
      ]
     },
     "metadata": {},
     "output_type": "display_data"
    },
    {
     "data": {
      "text/plain": [
       "6-element Array{Float64,1}:\n",
       " -1.59872e-14\n",
       " -5.68434e-14\n",
       " -7.10543e-15\n",
       "  3.22223    \n",
       " -0.127341   \n",
       " -0.659816   "
      ]
     },
     "metadata": {},
     "output_type": "display_data"
    },
    {
     "name": "stdout",
     "output_type": "stream",
     "text": [
      "elapsed time: 1.07166037 seconds\n"
     ]
    },
    {
     "data": {
      "text/plain": [
       "6-element Array{Float64,1}:\n",
       "  0.0        \n",
       " -1.81899e-12\n",
       "  0.0        \n",
       "  8.22879    \n",
       " 47.4121     \n",
       " 29.3689     "
      ]
     },
     "metadata": {},
     "output_type": "display_data"
    },
    {
     "data": {
      "text/plain": [
       "6-element Array{Float64,1}:\n",
       "  0.0        \n",
       " -1.81899e-12\n",
       "  0.0        \n",
       "  8.22879    \n",
       " 47.4121     \n",
       " 29.3689     "
      ]
     },
     "metadata": {},
     "output_type": "display_data"
    },
    {
     "name": "stdout",
     "output_type": "stream",
     "text": [
      "elapsed time: 0.665347864 seconds\n"
     ]
    },
    {
     "data": {
      "text/plain": [
       "6-element Array{Float64,1}:\n",
       "    7.27596e-12\n",
       "    0.0        \n",
       "    0.0        \n",
       "  -69.6386     \n",
       "  253.814      \n",
       " -512.171      "
      ]
     },
     "metadata": {},
     "output_type": "display_data"
    },
    {
     "data": {
      "text/plain": [
       "6-element Array{Float64,1}:\n",
       "    7.27596e-12\n",
       "    0.0        \n",
       "    0.0        \n",
       "  -69.6386     \n",
       "  253.814      \n",
       " -512.171      "
      ]
     },
     "metadata": {},
     "output_type": "display_data"
    },
    {
     "name": "stdout",
     "output_type": "stream",
     "text": [
      "elapsed time: 1.141539871 seconds\n"
     ]
    },
    {
     "data": {
      "text/plain": [
       "6-element Array{Float64,1}:\n",
       "  0.0        \n",
       "  0.0        \n",
       "  2.27374e-13\n",
       " -0.38309    \n",
       "  2.86477    \n",
       "  0.334653   "
      ]
     },
     "metadata": {},
     "output_type": "display_data"
    },
    {
     "data": {
      "text/plain": [
       "6-element Array{Float64,1}:\n",
       "  0.0        \n",
       "  0.0        \n",
       "  2.27374e-13\n",
       " -0.38309    \n",
       "  2.86477    \n",
       "  0.334653   "
      ]
     },
     "metadata": {},
     "output_type": "display_data"
    },
    {
     "name": "stdout",
     "output_type": "stream",
     "text": [
      "elapsed time: 0.677056874 seconds\n"
     ]
    },
    {
     "data": {
      "text/plain": [
       "6-element Array{Float64,1}:\n",
       "    0.0        \n",
       "    0.0        \n",
       "   -1.45519e-11\n",
       "  172.85       \n",
       " -315.159      \n",
       " -181.068      "
      ]
     },
     "metadata": {},
     "output_type": "display_data"
    },
    {
     "data": {
      "text/plain": [
       "6-element Array{Float64,1}:\n",
       "    0.0        \n",
       "    0.0        \n",
       "   -1.45519e-11\n",
       "  172.85       \n",
       " -315.159      \n",
       " -181.068      "
      ]
     },
     "metadata": {},
     "output_type": "display_data"
    },
    {
     "name": "stdout",
     "output_type": "stream",
     "text": [
      "elapsed time: 1.060839587 seconds\n"
     ]
    },
    {
     "data": {
      "text/plain": [
       "6-element Array{Float64,1}:\n",
       "    0.0   \n",
       "    0.0   \n",
       "    0.0   \n",
       "   16.0541\n",
       " -421.334 \n",
       " -250.324 "
      ]
     },
     "metadata": {},
     "output_type": "display_data"
    },
    {
     "data": {
      "text/plain": [
       "6-element Array{Float64,1}:\n",
       "    0.0   \n",
       "    0.0   \n",
       "    0.0   \n",
       "   16.0541\n",
       " -421.334 \n",
       " -250.324 "
      ]
     },
     "metadata": {},
     "output_type": "display_data"
    },
    {
     "name": "stdout",
     "output_type": "stream",
     "text": [
      "elapsed time: 1.099069547 seconds\n"
     ]
    },
    {
     "data": {
      "text/plain": [
       "6-element Array{Float64,1}:\n",
       "    0.0        \n",
       "    0.0        \n",
       "   -1.45519e-11\n",
       "   -5.24406    \n",
       " -167.37       \n",
       "  218.871      "
      ]
     },
     "metadata": {},
     "output_type": "display_data"
    },
    {
     "data": {
      "text/plain": [
       "6-element Array{Float64,1}:\n",
       "    0.0        \n",
       "    0.0        \n",
       "   -1.45519e-11\n",
       "   -5.24406    \n",
       " -167.37       \n",
       "  218.871      "
      ]
     },
     "metadata": {},
     "output_type": "display_data"
    },
    {
     "name": "stdout",
     "output_type": "stream",
     "text": [
      "elapsed time: 1.060869121 seconds\n"
     ]
    },
    {
     "data": {
      "text/plain": [
       "6-element Array{Float64,1}:\n",
       " -2.27374e-13\n",
       "  0.0        \n",
       " -9.09495e-13\n",
       " 17.0488     \n",
       " 11.5799     \n",
       " 59.2085     "
      ]
     },
     "metadata": {},
     "output_type": "display_data"
    },
    {
     "data": {
      "text/plain": [
       "6-element Array{Float64,1}:\n",
       " -2.27374e-13\n",
       "  0.0        \n",
       " -9.09495e-13\n",
       " 17.0488     \n",
       " 11.5799     \n",
       " 59.2085     "
      ]
     },
     "metadata": {},
     "output_type": "display_data"
    },
    {
     "name": "stdout",
     "output_type": "stream",
     "text": [
      "elapsed time: 0.672471854 seconds\n"
     ]
    },
    {
     "data": {
      "text/plain": [
       "6-element Array{Float64,1}:\n",
       "    0.0   \n",
       "    0.0   \n",
       "    0.0   \n",
       "   71.3683\n",
       "  522.962 \n",
       " -460.263 "
      ]
     },
     "metadata": {},
     "output_type": "display_data"
    },
    {
     "data": {
      "text/plain": [
       "6-element Array{Float64,1}:\n",
       "    0.0   \n",
       "    0.0   \n",
       "    0.0   \n",
       "   71.3683\n",
       "  522.962 \n",
       " -460.263 "
      ]
     },
     "metadata": {},
     "output_type": "display_data"
    },
    {
     "name": "stdout",
     "output_type": "stream",
     "text": [
      "elapsed time: 1.130940138 seconds\n"
     ]
    },
    {
     "data": {
      "text/plain": [
       "6-element Array{Float64,1}:\n",
       "    3.63798e-12\n",
       "    0.0        \n",
       "    0.0        \n",
       "   -7.61034    \n",
       " -184.383      \n",
       "  133.942      "
      ]
     },
     "metadata": {},
     "output_type": "display_data"
    },
    {
     "data": {
      "text/plain": [
       "6-element Array{Float64,1}:\n",
       "    3.63798e-12\n",
       "    0.0        \n",
       "    0.0        \n",
       "   -7.61034    \n",
       " -184.383      \n",
       "  133.942      "
      ]
     },
     "metadata": {},
     "output_type": "display_data"
    },
    {
     "name": "stdout",
     "output_type": "stream",
     "text": [
      "elapsed time: 0.671721899 seconds\n"
     ]
    },
    {
     "data": {
      "text/plain": [
       "6-element Array{Float64,1}:\n",
       "  1.42109e-14\n",
       " -1.13687e-13\n",
       "  0.0        \n",
       "  1.1104     \n",
       "  1.02875    \n",
       "  2.29743    "
      ]
     },
     "metadata": {},
     "output_type": "display_data"
    },
    {
     "data": {
      "text/plain": [
       "6-element Array{Float64,1}:\n",
       "  1.42109e-14\n",
       " -1.13687e-13\n",
       "  0.0        \n",
       "  1.1104     \n",
       "  1.02875    \n",
       "  2.29743    "
      ]
     },
     "metadata": {},
     "output_type": "display_data"
    },
    {
     "name": "stdout",
     "output_type": "stream",
     "text": [
      "elapsed time: 1.057512383 seconds\n"
     ]
    },
    {
     "data": {
      "text/plain": [
       "6-element Array{Float64,1}:\n",
       "    3.63798e-12\n",
       "   -7.27596e-12\n",
       "   -7.27596e-12\n",
       "  -42.3176     \n",
       " -120.529      \n",
       " -169.988      "
      ]
     },
     "metadata": {},
     "output_type": "display_data"
    },
    {
     "data": {
      "text/plain": [
       "6-element Array{Float64,1}:\n",
       "    3.63798e-12\n",
       "   -7.27596e-12\n",
       "   -7.27596e-12\n",
       "  -42.3176     \n",
       " -120.529      \n",
       " -169.988      "
      ]
     },
     "metadata": {},
     "output_type": "display_data"
    },
    {
     "name": "stdout",
     "output_type": "stream",
     "text": [
      "elapsed time: 1.084143046 seconds\n"
     ]
    },
    {
     "data": {
      "text/plain": [
       "6-element Array{Float64,1}:\n",
       "    1.45519e-11\n",
       "    2.91038e-11\n",
       "    1.45519e-11\n",
       "   28.0225     \n",
       "  309.444      \n",
       " -495.151      "
      ]
     },
     "metadata": {},
     "output_type": "display_data"
    },
    {
     "data": {
      "text/plain": [
       "6-element Array{Float64,1}:\n",
       "    1.45519e-11\n",
       "    2.91038e-11\n",
       "    1.45519e-11\n",
       "   28.0225     \n",
       "  309.444      \n",
       " -495.151      "
      ]
     },
     "metadata": {},
     "output_type": "display_data"
    },
    {
     "name": "stdout",
     "output_type": "stream",
     "text": [
      "elapsed time: 0.67585653 seconds\n"
     ]
    },
    {
     "data": {
      "text/plain": [
       "6-element Array{Float64,1}:\n",
       "     2.91038e-11\n",
       "    -1.16415e-10\n",
       "     5.82077e-11\n",
       "   -85.3441     \n",
       " -1284.53       \n",
       "  2336.83       "
      ]
     },
     "metadata": {},
     "output_type": "display_data"
    },
    {
     "data": {
      "text/plain": [
       "6-element Array{Float64,1}:\n",
       "     2.91038e-11\n",
       "    -1.16415e-10\n",
       "     5.82077e-11\n",
       "   -85.3441     \n",
       " -1284.53       \n",
       "  2336.83       "
      ]
     },
     "metadata": {},
     "output_type": "display_data"
    },
    {
     "name": "stdout",
     "output_type": "stream",
     "text": [
      "elapsed time: 1.1508496 seconds\n"
     ]
    },
    {
     "data": {
      "text/plain": [
       "6-element Array{Float64,1}:\n",
       "    7.27596e-12\n",
       "    2.91038e-11\n",
       "    1.45519e-11\n",
       "  -24.2004     \n",
       " -258.845      \n",
       "  384.791      "
      ]
     },
     "metadata": {},
     "output_type": "display_data"
    },
    {
     "data": {
      "text/plain": [
       "6-element Array{Float64,1}:\n",
       "    7.27596e-12\n",
       "    2.91038e-11\n",
       "    1.45519e-11\n",
       "  -24.2004     \n",
       " -258.845      \n",
       "  384.791      "
      ]
     },
     "metadata": {},
     "output_type": "display_data"
    },
    {
     "name": "stdout",
     "output_type": "stream",
     "text": [
      "elapsed time: 0.682691585 seconds\n"
     ]
    },
    {
     "data": {
      "text/plain": [
       "6-element Array{Float64,1}:\n",
       "    2.72848e-12\n",
       "    2.91038e-11\n",
       "    0.0        \n",
       "  -17.1989     \n",
       "   70.1372     \n",
       " -406.081      "
      ]
     },
     "metadata": {},
     "output_type": "display_data"
    },
    {
     "data": {
      "text/plain": [
       "6-element Array{Float64,1}:\n",
       "    2.72848e-12\n",
       "    2.91038e-11\n",
       "    0.0        \n",
       "  -17.1989     \n",
       "   70.1372     \n",
       " -406.081      "
      ]
     },
     "metadata": {},
     "output_type": "display_data"
    },
    {
     "name": "stdout",
     "output_type": "stream",
     "text": [
      "elapsed time: 1.064594452 seconds\n"
     ]
    },
    {
     "data": {
      "text/plain": [
       "6-element Array{Float64,1}:\n",
       "     0.0        \n",
       "     1.16415e-10\n",
       "     0.0        \n",
       "   -90.4767     \n",
       " -1068.06       \n",
       "  1780.5        "
      ]
     },
     "metadata": {},
     "output_type": "display_data"
    },
    {
     "data": {
      "text/plain": [
       "6-element Array{Float64,1}:\n",
       "     0.0        \n",
       "     1.16415e-10\n",
       "     0.0        \n",
       "   -90.4767     \n",
       " -1068.06       \n",
       "  1780.5        "
      ]
     },
     "metadata": {},
     "output_type": "display_data"
    },
    {
     "name": "stdout",
     "output_type": "stream",
     "text": [
      "elapsed time: 1.101310625 seconds\n"
     ]
    },
    {
     "data": {
      "text/plain": [
       "6-element Array{Float64,1}:\n",
       "      0.0        \n",
       "     -1.86265e-9 \n",
       "      9.31323e-10\n",
       "    556.831      \n",
       "  22576.4        \n",
       " -52886.1        "
      ]
     },
     "metadata": {},
     "output_type": "display_data"
    },
    {
     "data": {
      "text/plain": [
       "6-element Array{Float64,1}:\n",
       "      0.0        \n",
       "     -1.86265e-9 \n",
       "      9.31323e-10\n",
       "    556.831      \n",
       "  22576.4        \n",
       " -52886.1        "
      ]
     },
     "metadata": {},
     "output_type": "display_data"
    },
    {
     "name": "stdout",
     "output_type": "stream",
     "text": [
      "elapsed time: 0.693256972 seconds\n"
     ]
    },
    {
     "data": {
      "text/plain": [
       "6-element Array{Float64,1}:\n",
       "     1.45519e-11\n",
       "    -5.82077e-11\n",
       "    -8.73115e-11\n",
       "  -251.701      \n",
       "  -744.339      \n",
       " -1076.2        "
      ]
     },
     "metadata": {},
     "output_type": "display_data"
    },
    {
     "data": {
      "text/plain": [
       "6-element Array{Float64,1}:\n",
       "     1.45519e-11\n",
       "    -5.82077e-11\n",
       "    -8.73115e-11\n",
       "  -251.701      \n",
       "  -744.339      \n",
       " -1076.2        "
      ]
     },
     "metadata": {},
     "output_type": "display_data"
    },
    {
     "name": "stdout",
     "output_type": "stream",
     "text": [
      "elapsed time: 1.160630646 seconds\n"
     ]
    },
    {
     "data": {
      "text/plain": [
       "6-element Array{Float64,1}:\n",
       "     0.0        \n",
       "    -2.32831e-10\n",
       "    -1.16415e-10\n",
       "    85.9626     \n",
       "  2670.9        \n",
       " -6214.09       "
      ]
     },
     "metadata": {},
     "output_type": "display_data"
    },
    {
     "data": {
      "text/plain": [
       "6-element Array{Float64,1}:\n",
       "     0.0        \n",
       "    -2.32831e-10\n",
       "    -1.16415e-10\n",
       "    85.9626     \n",
       "  2670.9        \n",
       " -6214.09       "
      ]
     },
     "metadata": {},
     "output_type": "display_data"
    },
    {
     "name": "stdout",
     "output_type": "stream",
     "text": [
      "elapsed time: 1.074327196 seconds\n"
     ]
    },
    {
     "data": {
      "text/plain": [
       "6-element Array{Float64,1}:\n",
       "    1.81899e-12\n",
       "    0.0        \n",
       "    0.0        \n",
       "  -47.1661     \n",
       " -149.869      \n",
       " -113.537      "
      ]
     },
     "metadata": {},
     "output_type": "display_data"
    },
    {
     "data": {
      "text/plain": [
       "6-element Array{Float64,1}:\n",
       "    1.81899e-12\n",
       "    0.0        \n",
       "    0.0        \n",
       "  -47.1661     \n",
       " -149.869      \n",
       " -113.537      "
      ]
     },
     "metadata": {},
     "output_type": "display_data"
    },
    {
     "name": "stdout",
     "output_type": "stream",
     "text": [
      "elapsed time: 0.67130144 seconds\n"
     ]
    },
    {
     "data": {
      "text/plain": [
       "6-element Array{Float64,1}:\n",
       " -3.55271e-15\n",
       "  7.10543e-15\n",
       " -7.10543e-15\n",
       "  1.29557    \n",
       " -0.101465   \n",
       " -0.428032   "
      ]
     },
     "metadata": {},
     "output_type": "display_data"
    },
    {
     "data": {
      "text/plain": [
       "6-element Array{Float64,1}:\n",
       " -3.55271e-15\n",
       "  7.10543e-15\n",
       " -7.10543e-15\n",
       "  1.29557    \n",
       " -0.101465   \n",
       " -0.428032   "
      ]
     },
     "metadata": {},
     "output_type": "display_data"
    },
    {
     "name": "stdout",
     "output_type": "stream",
     "text": [
      "elapsed time: 1.083905737 seconds\n"
     ]
    },
    {
     "data": {
      "text/plain": [
       "6-element Array{Float64,1}:\n",
       "    1.45519e-11\n",
       "    0.0        \n",
       "    0.0        \n",
       " -190.625      \n",
       " -505.978      \n",
       " -426.392      "
      ]
     },
     "metadata": {},
     "output_type": "display_data"
    },
    {
     "data": {
      "text/plain": [
       "6-element Array{Float64,1}:\n",
       "    1.45519e-11\n",
       "    0.0        \n",
       "    0.0        \n",
       " -190.625      \n",
       " -505.978      \n",
       " -426.392      "
      ]
     },
     "metadata": {},
     "output_type": "display_data"
    },
    {
     "name": "stdout",
     "output_type": "stream",
     "text": [
      "elapsed time: 0.664819777 seconds\n"
     ]
    },
    {
     "data": {
      "text/plain": [
       "6-element Array{Float64,1}:\n",
       " -1.13687e-13\n",
       "  2.27374e-13\n",
       " -2.27374e-13\n",
       " -2.51904    \n",
       " -6.13403    \n",
       " -5.54496    "
      ]
     },
     "metadata": {},
     "output_type": "display_data"
    },
    {
     "data": {
      "text/plain": [
       "6-element Array{Float64,1}:\n",
       " -1.13687e-13\n",
       "  2.27374e-13\n",
       " -2.27374e-13\n",
       " -2.51904    \n",
       " -6.13403    \n",
       " -5.54496    "
      ]
     },
     "metadata": {},
     "output_type": "display_data"
    },
    {
     "name": "stdout",
     "output_type": "stream",
     "text": [
      "elapsed time: 1.174906635 seconds\n"
     ]
    },
    {
     "data": {
      "text/plain": [
       "6-element Array{Float64,1}:\n",
       "     0.0  \n",
       "     0.0  \n",
       "     0.0  \n",
       "  -192.814\n",
       " -1057.28 \n",
       "  -401.77 "
      ]
     },
     "metadata": {},
     "output_type": "display_data"
    },
    {
     "data": {
      "text/plain": [
       "6-element Array{Float64,1}:\n",
       "     0.0  \n",
       "     0.0  \n",
       "     0.0  \n",
       "  -192.814\n",
       " -1057.28 \n",
       "  -401.77 "
      ]
     },
     "metadata": {},
     "output_type": "display_data"
    },
    {
     "name": "stdout",
     "output_type": "stream",
     "text": [
      "elapsed time: 0.67645645 seconds\n"
     ]
    },
    {
     "data": {
      "text/plain": [
       "6-element Array{Float64,1}:\n",
       "   0.0        \n",
       "  -1.81899e-12\n",
       "   0.0        \n",
       "   3.08074    \n",
       " -55.2382     \n",
       " -46.3298     "
      ]
     },
     "metadata": {},
     "output_type": "display_data"
    },
    {
     "data": {
      "text/plain": [
       "6-element Array{Float64,1}:\n",
       "   0.0        \n",
       "  -1.81899e-12\n",
       "   0.0        \n",
       "   3.08074    \n",
       " -55.2382     \n",
       " -46.3298     "
      ]
     },
     "metadata": {},
     "output_type": "display_data"
    },
    {
     "name": "stdout",
     "output_type": "stream",
     "text": [
      "elapsed time: 1.055162464 seconds\n"
     ]
    },
    {
     "data": {
      "text/plain": [
       "6-element Array{Float64,1}:\n",
       "   2.27374e-13\n",
       "   4.54747e-13\n",
       "   9.09495e-13\n",
       " -49.7191     \n",
       "  12.8954     \n",
       "   4.66684    "
      ]
     },
     "metadata": {},
     "output_type": "display_data"
    },
    {
     "data": {
      "text/plain": [
       "6-element Array{Float64,1}:\n",
       "   2.27374e-13\n",
       "   4.54747e-13\n",
       "   9.09495e-13\n",
       " -49.7191     \n",
       "  12.8954     \n",
       "   4.66684    "
      ]
     },
     "metadata": {},
     "output_type": "display_data"
    },
    {
     "name": "stdout",
     "output_type": "stream",
     "text": [
      "elapsed time: 1.047411559 seconds\n"
     ]
    },
    {
     "data": {
      "text/plain": [
       "6-element Array{Float64,1}:\n",
       "   7.27596e-12\n",
       "  -1.45519e-11\n",
       "   1.45519e-11\n",
       " 132.506      \n",
       " 360.303      \n",
       " 325.306      "
      ]
     },
     "metadata": {},
     "output_type": "display_data"
    },
    {
     "data": {
      "text/plain": [
       "6-element Array{Float64,1}:\n",
       "   7.27596e-12\n",
       "  -1.45519e-11\n",
       "   1.45519e-11\n",
       " 132.506      \n",
       " 360.303      \n",
       " 325.306      "
      ]
     },
     "metadata": {},
     "output_type": "display_data"
    },
    {
     "name": "stdout",
     "output_type": "stream",
     "text": [
      "elapsed time: 0.684107824 seconds\n"
     ]
    },
    {
     "data": {
      "text/plain": [
       "6-element Array{Float64,1}:\n",
       " -2.13163e-14\n",
       " -5.68434e-14\n",
       "  2.84217e-14\n",
       "  2.77196    \n",
       "  0.409567   \n",
       " -1.64636    "
      ]
     },
     "metadata": {},
     "output_type": "display_data"
    },
    {
     "data": {
      "text/plain": [
       "6-element Array{Float64,1}:\n",
       " -2.13163e-14\n",
       " -5.68434e-14\n",
       "  2.84217e-14\n",
       "  2.77196    \n",
       "  0.409567   \n",
       " -1.64636    "
      ]
     },
     "metadata": {},
     "output_type": "display_data"
    },
    {
     "name": "stdout",
     "output_type": "stream",
     "text": [
      "elapsed time: 0.807861888 seconds\n"
     ]
    },
    {
     "data": {
      "text/plain": [
       "6-element Array{Float64,1}:\n",
       " -2.84217e-14\n",
       "  1.13687e-13\n",
       " -2.84217e-14\n",
       "  8.13005    \n",
       "  1.51864    \n",
       " -1.018      "
      ]
     },
     "metadata": {},
     "output_type": "display_data"
    },
    {
     "data": {
      "text/plain": [
       "6-element Array{Float64,1}:\n",
       " -2.84217e-14\n",
       "  1.13687e-13\n",
       " -2.84217e-14\n",
       "  8.13005    \n",
       "  1.51864    \n",
       " -1.018      "
      ]
     },
     "metadata": {},
     "output_type": "display_data"
    },
    {
     "name": "stdout",
     "output_type": "stream",
     "text": [
      "elapsed time: 1.073671325 seconds\n"
     ]
    },
    {
     "data": {
      "text/plain": [
       "6-element Array{Float64,1}:\n",
       "   -5.82077e-11\n",
       "    4.65661e-10\n",
       "   -5.82077e-11\n",
       " 1590.52       \n",
       " 1386.36       \n",
       " 4476.26       "
      ]
     },
     "metadata": {},
     "output_type": "display_data"
    },
    {
     "data": {
      "text/plain": [
       "6-element Array{Float64,1}:\n",
       "   -5.82077e-11\n",
       "    4.65661e-10\n",
       "   -5.82077e-11\n",
       " 1590.52       \n",
       " 1386.36       \n",
       " 4476.26       "
      ]
     },
     "metadata": {},
     "output_type": "display_data"
    },
    {
     "name": "stdout",
     "output_type": "stream",
     "text": [
      "elapsed time: 1.061600727 seconds\n"
     ]
    },
    {
     "data": {
      "text/plain": [
       "6-element Array{Float64,1}:\n",
       " -2.84217e-14\n",
       "  1.13687e-13\n",
       " -2.84217e-14\n",
       "  8.13005    \n",
       "  1.51864    \n",
       " -1.018      "
      ]
     },
     "metadata": {},
     "output_type": "display_data"
    },
    {
     "data": {
      "text/plain": [
       "6-element Array{Float64,1}:\n",
       " -2.84217e-14\n",
       "  1.13687e-13\n",
       " -2.84217e-14\n",
       "  8.13005    \n",
       "  1.51864    \n",
       " -1.018      "
      ]
     },
     "metadata": {},
     "output_type": "display_data"
    },
    {
     "name": "stdout",
     "output_type": "stream",
     "text": [
      "elapsed time: 0.675455232 seconds\n"
     ]
    },
    {
     "data": {
      "text/plain": [
       "6-element Array{Float64,1}:\n",
       "  -1.13687e-13\n",
       "   3.97904e-13\n",
       "   9.09495e-13\n",
       " -35.1968     \n",
       "  13.9752     \n",
       "   4.79313    "
      ]
     },
     "metadata": {},
     "output_type": "display_data"
    },
    {
     "data": {
      "text/plain": [
       "6-element Array{Float64,1}:\n",
       "  -1.13687e-13\n",
       "   3.97904e-13\n",
       "   9.09495e-13\n",
       " -35.1968     \n",
       "  13.9752     \n",
       "   4.79313    "
      ]
     },
     "metadata": {},
     "output_type": "display_data"
    },
    {
     "name": "stdout",
     "output_type": "stream",
     "text": [
      "elapsed time: 1.089486138 seconds\n"
     ]
    },
    {
     "data": {
      "text/plain": [
       "6-element Array{Float64,1}:\n",
       "  1.77636e-15\n",
       "  1.42109e-14\n",
       "  1.42109e-14\n",
       "  0.0497291  \n",
       " -0.329646   \n",
       "  0.231482   "
      ]
     },
     "metadata": {},
     "output_type": "display_data"
    },
    {
     "data": {
      "text/plain": [
       "6-element Array{Float64,1}:\n",
       "  1.77636e-15\n",
       "  1.42109e-14\n",
       "  1.42109e-14\n",
       "  0.0497291  \n",
       " -0.329646   \n",
       "  0.231482   "
      ]
     },
     "metadata": {},
     "output_type": "display_data"
    },
    {
     "name": "stdout",
     "output_type": "stream",
     "text": [
      "elapsed time: 0.692988436 seconds\n"
     ]
    },
    {
     "data": {
      "text/plain": [
       "6-element Array{Float64,1}:\n",
       "   -1.09139e-11\n",
       "   -2.91038e-11\n",
       "    5.82077e-11\n",
       " -134.266      \n",
       "  959.281      \n",
       " -627.18       "
      ]
     },
     "metadata": {},
     "output_type": "display_data"
    },
    {
     "data": {
      "text/plain": [
       "6-element Array{Float64,1}:\n",
       "   -1.09139e-11\n",
       "   -2.91038e-11\n",
       "    5.82077e-11\n",
       " -134.266      \n",
       "  959.281      \n",
       " -627.18       "
      ]
     },
     "metadata": {},
     "output_type": "display_data"
    },
    {
     "name": "stdout",
     "output_type": "stream",
     "text": [
      "elapsed time: 1.058697136 seconds\n"
     ]
    },
    {
     "data": {
      "text/plain": [
       "6-element Array{Float64,1}:\n",
       "   0.0    \n",
       "   0.0    \n",
       "   0.0    \n",
       "   4.40774\n",
       " -47.0549 \n",
       "  28.1638 "
      ]
     },
     "metadata": {},
     "output_type": "display_data"
    },
    {
     "data": {
      "text/plain": [
       "6-element Array{Float64,1}:\n",
       "   0.0    \n",
       "   0.0    \n",
       "   0.0    \n",
       "   4.40774\n",
       " -47.0549 \n",
       "  28.1638 "
      ]
     },
     "metadata": {},
     "output_type": "display_data"
    },
    {
     "name": "stdout",
     "output_type": "stream",
     "text": [
      "elapsed time: 1.083981509 seconds\n"
     ]
    },
    {
     "data": {
      "text/plain": [
       "6-element Array{Float64,1}:\n",
       "  0.0        \n",
       "  5.68434e-14\n",
       "  2.84217e-14\n",
       "  3.01753    \n",
       "  0.169127   \n",
       " -0.335535   "
      ]
     },
     "metadata": {},
     "output_type": "display_data"
    },
    {
     "data": {
      "text/plain": [
       "6-element Array{Float64,1}:\n",
       "  0.0        \n",
       "  5.68434e-14\n",
       "  2.84217e-14\n",
       "  3.01753    \n",
       "  0.169127   \n",
       " -0.335535   "
      ]
     },
     "metadata": {},
     "output_type": "display_data"
    },
    {
     "name": "stdout",
     "output_type": "stream",
     "text": [
      "elapsed time: 0.680245083 seconds\n"
     ]
    },
    {
     "data": {
      "text/plain": [
       "6-element Array{Float64,1}:\n",
       "   -1.45519e-11\n",
       "    0.0        \n",
       "   -1.45519e-11\n",
       "  182.02       \n",
       " -154.537      \n",
       "  591.447      "
      ]
     },
     "metadata": {},
     "output_type": "display_data"
    },
    {
     "data": {
      "text/plain": [
       "6-element Array{Float64,1}:\n",
       "   -1.45519e-11\n",
       "    0.0        \n",
       "   -1.45519e-11\n",
       "  182.02       \n",
       " -154.537      \n",
       "  591.447      "
      ]
     },
     "metadata": {},
     "output_type": "display_data"
    },
    {
     "name": "stdout",
     "output_type": "stream",
     "text": [
      "elapsed time: 1.150271304 seconds\n"
     ]
    },
    {
     "data": {
      "text/plain": [
       "6-element Array{Float64,1}:\n",
       " -1.77636e-15\n",
       " -7.10543e-15\n",
       " -1.42109e-14\n",
       " -0.0522261  \n",
       "  0.218993   \n",
       " -0.167988   "
      ]
     },
     "metadata": {},
     "output_type": "display_data"
    },
    {
     "data": {
      "text/plain": [
       "6-element Array{Float64,1}:\n",
       " -1.77636e-15\n",
       " -7.10543e-15\n",
       " -1.42109e-14\n",
       " -0.0522261  \n",
       "  0.218993   \n",
       " -0.167988   "
      ]
     },
     "metadata": {},
     "output_type": "display_data"
    },
    {
     "name": "stdout",
     "output_type": "stream",
     "text": [
      "elapsed time: 0.679059767 seconds\n"
     ]
    },
    {
     "data": {
      "text/plain": [
       "6-element Array{Float64,1}:\n",
       "    0.0        \n",
       "    7.27596e-12\n",
       "    0.0        \n",
       "  -11.4365     \n",
       " -675.192      \n",
       "  154.912      "
      ]
     },
     "metadata": {},
     "output_type": "display_data"
    },
    {
     "data": {
      "text/plain": [
       "6-element Array{Float64,1}:\n",
       "    0.0        \n",
       "    7.27596e-12\n",
       "    0.0        \n",
       "  -11.4365     \n",
       " -675.192      \n",
       "  154.912      "
      ]
     },
     "metadata": {},
     "output_type": "display_data"
    },
    {
     "name": "stdout",
     "output_type": "stream",
     "text": [
      "elapsed time: 1.066064972 seconds\n"
     ]
    },
    {
     "data": {
      "text/plain": [
       "6-element Array{Float64,1}:\n",
       "   -9.09495e-13\n",
       "   -7.27596e-12\n",
       "    0.0        \n",
       "  -29.7115     \n",
       "  -71.9058     \n",
       " -146.758      "
      ]
     },
     "metadata": {},
     "output_type": "display_data"
    },
    {
     "data": {
      "text/plain": [
       "6-element Array{Float64,1}:\n",
       "   -9.09495e-13\n",
       "   -7.27596e-12\n",
       "    0.0        \n",
       "  -29.7115     \n",
       "  -71.9058     \n",
       " -146.758      "
      ]
     },
     "metadata": {},
     "output_type": "display_data"
    },
    {
     "name": "stdout",
     "output_type": "stream",
     "text": [
      "elapsed time: 1.070673606 seconds\n"
     ]
    },
    {
     "data": {
      "text/plain": [
       "6-element Array{Float64,1}:\n",
       "  0.0      \n",
       "  0.0      \n",
       " -3.8147e-6\n",
       "  4.8512e7 \n",
       " -9.39417e7\n",
       "  1.36186e8"
      ]
     },
     "metadata": {},
     "output_type": "display_data"
    },
    {
     "data": {
      "text/plain": [
       "6-element Array{Float64,1}:\n",
       "  0.0      \n",
       "  0.0      \n",
       " -3.8147e-6\n",
       "  4.8512e7 \n",
       " -9.39417e7\n",
       "  1.36186e8"
      ]
     },
     "metadata": {},
     "output_type": "display_data"
    },
    {
     "name": "stdout",
     "output_type": "stream",
     "text": [
      "elapsed time: 0.679164534 seconds\n"
     ]
    },
    {
     "data": {
      "text/plain": [
       "6-element Array{Float64,1}:\n",
       "  2.66454e-15\n",
       " -7.10543e-15\n",
       "  0.0        \n",
       "  1.01941    \n",
       "  0.0723699  \n",
       " -0.209922   "
      ]
     },
     "metadata": {},
     "output_type": "display_data"
    },
    {
     "data": {
      "text/plain": [
       "6-element Array{Float64,1}:\n",
       "  2.66454e-15\n",
       " -7.10543e-15\n",
       "  0.0        \n",
       "  1.01941    \n",
       "  0.0723699  \n",
       " -0.209922   "
      ]
     },
     "metadata": {},
     "output_type": "display_data"
    },
    {
     "name": "stdout",
     "output_type": "stream",
     "text": [
      "elapsed time: 1.151161436 seconds\n"
     ]
    },
    {
     "data": {
      "text/plain": [
       "6-element Array{Float64,1}:\n",
       "   0.0        \n",
       "   1.81899e-12\n",
       "  -9.09495e-13\n",
       " -12.5325     \n",
       "  21.041      \n",
       " -34.6935     "
      ]
     },
     "metadata": {},
     "output_type": "display_data"
    },
    {
     "data": {
      "text/plain": [
       "6-element Array{Float64,1}:\n",
       "   0.0        \n",
       "   1.81899e-12\n",
       "  -9.09495e-13\n",
       " -12.5325     \n",
       "  21.041      \n",
       " -34.6935     "
      ]
     },
     "metadata": {},
     "output_type": "display_data"
    },
    {
     "name": "stdout",
     "output_type": "stream",
     "text": [
      "elapsed time: 0.6948738 seconds\n"
     ]
    },
    {
     "data": {
      "text/plain": [
       "6-element Array{Float64,1}:\n",
       "    2.91038e-11\n",
       "   -5.82077e-11\n",
       "   -5.82077e-11\n",
       " -170.533      \n",
       "  896.616      \n",
       " -772.429      "
      ]
     },
     "metadata": {},
     "output_type": "display_data"
    },
    {
     "data": {
      "text/plain": [
       "6-element Array{Float64,1}:\n",
       "    2.91038e-11\n",
       "   -5.82077e-11\n",
       "   -5.82077e-11\n",
       " -170.533      \n",
       "  896.616      \n",
       " -772.429      "
      ]
     },
     "metadata": {},
     "output_type": "display_data"
    },
    {
     "name": "stdout",
     "output_type": "stream",
     "text": [
      "elapsed time: 1.064534651 seconds\n"
     ]
    },
    {
     "data": {
      "text/plain": [
       "6-element Array{Float64,1}:\n",
       " -2.38419e-7\n",
       "  9.53674e-7\n",
       "  0.0       \n",
       "  5.54737e6 \n",
       " -1.43715e7 \n",
       "  1.68334e7 "
      ]
     },
     "metadata": {},
     "output_type": "display_data"
    },
    {
     "data": {
      "text/plain": [
       "6-element Array{Float64,1}:\n",
       " -2.38419e-7\n",
       "  9.53674e-7\n",
       "  0.0       \n",
       "  5.54737e6 \n",
       " -1.43715e7 \n",
       "  1.68334e7 "
      ]
     },
     "metadata": {},
     "output_type": "display_data"
    },
    {
     "name": "stdout",
     "output_type": "stream",
     "text": [
      "elapsed time: 1.06003908 seconds\n"
     ]
    },
    {
     "data": {
      "text/plain": [
       "6-element Array{Float64,1}:\n",
       "  0.0        \n",
       " -7.10543e-15\n",
       "  1.42109e-14\n",
       " -0.0251402  \n",
       " -0.374204   \n",
       "  0.0726764  "
      ]
     },
     "metadata": {},
     "output_type": "display_data"
    },
    {
     "data": {
      "text/plain": [
       "6-element Array{Float64,1}:\n",
       "  0.0        \n",
       " -7.10543e-15\n",
       "  1.42109e-14\n",
       " -0.0251402  \n",
       " -0.374204   \n",
       "  0.0726764  "
      ]
     },
     "metadata": {},
     "output_type": "display_data"
    },
    {
     "name": "stdout",
     "output_type": "stream",
     "text": [
      "elapsed time: 0.690015594 seconds\n"
     ]
    },
    {
     "data": {
      "text/plain": [
       "6-element Array{Float64,1}:\n",
       "    0.0        \n",
       "    0.0        \n",
       "   -1.45519e-11\n",
       "  -62.0814     \n",
       "  262.635      \n",
       " -217.686      "
      ]
     },
     "metadata": {},
     "output_type": "display_data"
    },
    {
     "data": {
      "text/plain": [
       "6-element Array{Float64,1}:\n",
       "    0.0        \n",
       "    0.0        \n",
       "   -1.45519e-11\n",
       "  -62.0814     \n",
       "  262.635      \n",
       " -217.686      "
      ]
     },
     "metadata": {},
     "output_type": "display_data"
    },
    {
     "name": "stdout",
     "output_type": "stream",
     "text": [
      "elapsed time: 1.132145621 seconds\n"
     ]
    },
    {
     "data": {
      "text/plain": [
       "6-element Array{Float64,1}:\n",
       "    0.0  \n",
       "    0.0  \n",
       "    0.0  \n",
       " -175.783\n",
       "  742.815\n",
       " -616.135"
      ]
     },
     "metadata": {},
     "output_type": "display_data"
    },
    {
     "data": {
      "text/plain": [
       "6-element Array{Float64,1}:\n",
       "    0.0  \n",
       "    0.0  \n",
       "    0.0  \n",
       " -175.783\n",
       "  742.815\n",
       " -616.135"
      ]
     },
     "metadata": {},
     "output_type": "display_data"
    },
    {
     "name": "stdout",
     "output_type": "stream",
     "text": [
      "elapsed time: 0.675593665 seconds\n"
     ]
    },
    {
     "data": {
      "text/plain": [
       "6-element Array{Float64,1}:\n",
       "      2.32831e-10\n",
       "      0.0        \n",
       "     -4.65661e-10\n",
       " -11343.7        \n",
       " -13230.9        \n",
       " -18315.5        "
      ]
     },
     "metadata": {},
     "output_type": "display_data"
    },
    {
     "data": {
      "text/plain": [
       "6-element Array{Float64,1}:\n",
       "      2.32831e-10\n",
       "      0.0        \n",
       "     -4.65661e-10\n",
       " -11343.7        \n",
       " -13230.9        \n",
       " -18315.5        "
      ]
     },
     "metadata": {},
     "output_type": "display_data"
    },
    {
     "name": "stdout",
     "output_type": "stream",
     "text": [
      "elapsed time: 0.675914311 seconds\n"
     ]
    },
    {
     "data": {
      "text/plain": [
       "6-element Array{Float64,1}:\n",
       "   5.45697e-12\n",
       "   0.0        \n",
       "   3.63798e-12\n",
       "  15.6834     \n",
       " -91.9577     \n",
       "  85.968      "
      ]
     },
     "metadata": {},
     "output_type": "display_data"
    },
    {
     "data": {
      "text/plain": [
       "6-element Array{Float64,1}:\n",
       "   5.45697e-12\n",
       "   0.0        \n",
       "   3.63798e-12\n",
       "  15.6834     \n",
       " -91.9577     \n",
       "  85.968      "
      ]
     },
     "metadata": {},
     "output_type": "display_data"
    },
    {
     "name": "stdout",
     "output_type": "stream",
     "text": [
      "elapsed time: 1.083821509 seconds\n"
     ]
    },
    {
     "data": {
      "text/plain": [
       "6-element Array{Float64,1}:\n",
       "     0.0        \n",
       "     0.0        \n",
       "     5.82077e-11\n",
       "   422.94       \n",
       " -1443.76       \n",
       "  1392.64       "
      ]
     },
     "metadata": {},
     "output_type": "display_data"
    },
    {
     "data": {
      "text/plain": [
       "6-element Array{Float64,1}:\n",
       "     0.0        \n",
       "     0.0        \n",
       "     5.82077e-11\n",
       "   422.94       \n",
       " -1443.76       \n",
       "  1392.64       "
      ]
     },
     "metadata": {},
     "output_type": "display_data"
    },
    {
     "name": "stdout",
     "output_type": "stream",
     "text": [
      "elapsed time: 0.691040354 seconds\n"
     ]
    },
    {
     "data": {
      "text/plain": [
       "6-element Array{Float64,1}:\n",
       "  2.27374e-13\n",
       "  0.0        \n",
       "  0.0        \n",
       "  4.02846    \n",
       " -6.57093    \n",
       " 10.6441     "
      ]
     },
     "metadata": {},
     "output_type": "display_data"
    },
    {
     "data": {
      "text/plain": [
       "6-element Array{Float64,1}:\n",
       "  2.27374e-13\n",
       "  0.0        \n",
       "  0.0        \n",
       "  4.02846    \n",
       " -6.57093    \n",
       " 10.6441     "
      ]
     },
     "metadata": {},
     "output_type": "display_data"
    },
    {
     "name": "stdout",
     "output_type": "stream",
     "text": [
      "elapsed time: 1.497102124 seconds\n"
     ]
    },
    {
     "data": {
      "text/plain": [
       "6-element Array{Float64,1}:\n",
       "  5.68434e-14\n",
       "  0.0        \n",
       " -5.68434e-14\n",
       "  0.219172   \n",
       " -1.29122    \n",
       "  1.20662    "
      ]
     },
     "metadata": {},
     "output_type": "display_data"
    },
    {
     "data": {
      "text/plain": [
       "6-element Array{Float64,1}:\n",
       "  5.68434e-14\n",
       "  0.0        \n",
       " -5.68434e-14\n",
       "  0.219172   \n",
       " -1.29122    \n",
       "  1.20662    "
      ]
     },
     "metadata": {},
     "output_type": "display_data"
    },
    {
     "name": "stdout",
     "output_type": "stream",
     "text": [
      "elapsed time: 0.693575538 seconds\n"
     ]
    },
    {
     "data": {
      "text/plain": [
       "6-element Array{Float64,1}:\n",
       "  7.10543e-15\n",
       "  5.68434e-14\n",
       " -1.42109e-14\n",
       "  3.34347    \n",
       "  0.261432   \n",
       " -0.706249   "
      ]
     },
     "metadata": {},
     "output_type": "display_data"
    },
    {
     "data": {
      "text/plain": [
       "6-element Array{Float64,1}:\n",
       "  7.10543e-15\n",
       "  5.68434e-14\n",
       " -1.42109e-14\n",
       "  3.34347    \n",
       "  0.261432   \n",
       " -0.706249   "
      ]
     },
     "metadata": {},
     "output_type": "display_data"
    },
    {
     "name": "stdout",
     "output_type": "stream",
     "text": [
      "elapsed time: 1.134113544 seconds\n"
     ]
    },
    {
     "data": {
      "text/plain": [
       "6-element Array{Float64,1}:\n",
       "  5.68434e-14\n",
       "  0.0        \n",
       "  0.0        \n",
       " -2.33136    \n",
       "  4.49655    \n",
       " -6.95909    "
      ]
     },
     "metadata": {},
     "output_type": "display_data"
    },
    {
     "data": {
      "text/plain": [
       "6-element Array{Float64,1}:\n",
       "  5.68434e-14\n",
       "  0.0        \n",
       "  0.0        \n",
       " -2.33136    \n",
       "  4.49655    \n",
       " -6.95909    "
      ]
     },
     "metadata": {},
     "output_type": "display_data"
    },
    {
     "name": "stdout",
     "output_type": "stream",
     "text": [
      "elapsed time: 1.068633933 seconds\n"
     ]
    },
    {
     "data": {
      "text/plain": [
       "6-element Array{Float64,1}:\n",
       "  -3.63798e-12\n",
       "   3.63798e-12\n",
       "  -3.63798e-12\n",
       " -25.1663     \n",
       "  63.5715     \n",
       " -73.5542     "
      ]
     },
     "metadata": {},
     "output_type": "display_data"
    },
    {
     "data": {
      "text/plain": [
       "6-element Array{Float64,1}:\n",
       "  -3.63798e-12\n",
       "   3.63798e-12\n",
       "  -3.63798e-12\n",
       " -25.1663     \n",
       "  63.5715     \n",
       " -73.5542     "
      ]
     },
     "metadata": {},
     "output_type": "display_data"
    },
    {
     "name": "stdout",
     "output_type": "stream",
     "text": [
      "elapsed time: 0.688270177 seconds\n"
     ]
    },
    {
     "data": {
      "text/plain": [
       "6-element Array{Float64,1}:\n",
       "  2.27374e-13\n",
       "  0.0        \n",
       "  0.0        \n",
       "  4.01108    \n",
       " -8.93129    \n",
       " 11.8826     "
      ]
     },
     "metadata": {},
     "output_type": "display_data"
    },
    {
     "data": {
      "text/plain": [
       "6-element Array{Float64,1}:\n",
       "  2.27374e-13\n",
       "  0.0        \n",
       "  0.0        \n",
       "  4.01108    \n",
       " -8.93129    \n",
       " 11.8826     "
      ]
     },
     "metadata": {},
     "output_type": "display_data"
    },
    {
     "name": "stdout",
     "output_type": "stream",
     "text": [
      "elapsed time: 1.157677683 seconds\n"
     ]
    },
    {
     "data": {
      "text/plain": [
       "6-element Array{Float64,1}:\n",
       "   9.09495e-13\n",
       "   0.0        \n",
       "   0.0        \n",
       "  -8.13489    \n",
       "  61.6954     \n",
       " -38.974      "
      ]
     },
     "metadata": {},
     "output_type": "display_data"
    },
    {
     "data": {
      "text/plain": [
       "6-element Array{Float64,1}:\n",
       "   9.09495e-13\n",
       "   0.0        \n",
       "   0.0        \n",
       "  -8.13489    \n",
       "  61.6954     \n",
       " -38.974      "
      ]
     },
     "metadata": {},
     "output_type": "display_data"
    },
    {
     "name": "stdout",
     "output_type": "stream",
     "text": [
      "elapsed time: 0.680319389 seconds\n"
     ]
    },
    {
     "data": {
      "text/plain": [
       "6-element Array{Float64,1}:\n",
       "    0.0        \n",
       "    2.91038e-11\n",
       "    5.82077e-11\n",
       "  -39.0709     \n",
       " 1519.13       \n",
       " -640.358      "
      ]
     },
     "metadata": {},
     "output_type": "display_data"
    },
    {
     "data": {
      "text/plain": [
       "6-element Array{Float64,1}:\n",
       "    0.0        \n",
       "    2.91038e-11\n",
       "    5.82077e-11\n",
       "  -39.0709     \n",
       " 1519.13       \n",
       " -640.358      "
      ]
     },
     "metadata": {},
     "output_type": "display_data"
    },
    {
     "name": "stdout",
     "output_type": "stream",
     "text": [
      "elapsed time: 1.061936435 seconds\n"
     ]
    },
    {
     "data": {
      "text/plain": [
       "6-element Array{Float64,1}:\n",
       "    0.0        \n",
       "   -1.45519e-11\n",
       "    0.0        \n",
       "  -69.66       \n",
       "  312.104      \n",
       " -282.742      "
      ]
     },
     "metadata": {},
     "output_type": "display_data"
    },
    {
     "data": {
      "text/plain": [
       "6-element Array{Float64,1}:\n",
       "    0.0        \n",
       "   -1.45519e-11\n",
       "    0.0        \n",
       "  -69.66       \n",
       "  312.104      \n",
       " -282.742      "
      ]
     },
     "metadata": {},
     "output_type": "display_data"
    },
    {
     "name": "stdout",
     "output_type": "stream",
     "text": [
      "elapsed time: 1.082963487 seconds\n"
     ]
    },
    {
     "data": {
      "text/plain": [
       "6-element Array{Float64,1}:\n",
       "    1.45519e-11\n",
       "    1.16415e-10\n",
       "   -5.82077e-11\n",
       " 1033.53       \n",
       "  575.607      \n",
       " 1960.58       "
      ]
     },
     "metadata": {},
     "output_type": "display_data"
    },
    {
     "data": {
      "text/plain": [
       "6-element Array{Float64,1}:\n",
       "    1.45519e-11\n",
       "    1.16415e-10\n",
       "   -5.82077e-11\n",
       " 1033.53       \n",
       "  575.607      \n",
       " 1960.58       "
      ]
     },
     "metadata": {},
     "output_type": "display_data"
    },
    {
     "name": "stdout",
     "output_type": "stream",
     "text": [
      "elapsed time: 0.687338839 seconds\n"
     ]
    },
    {
     "data": {
      "text/plain": [
       "6-element Array{Float64,1}:\n",
       "   -3.63798e-12\n",
       "    7.27596e-12\n",
       "   -7.27596e-12\n",
       "   58.7821     \n",
       " -194.985      \n",
       "  187.54       "
      ]
     },
     "metadata": {},
     "output_type": "display_data"
    },
    {
     "data": {
      "text/plain": [
       "6-element Array{Float64,1}:\n",
       "   -3.63798e-12\n",
       "    7.27596e-12\n",
       "   -7.27596e-12\n",
       "   58.7821     \n",
       " -194.985      \n",
       "  187.54       "
      ]
     },
     "metadata": {},
     "output_type": "display_data"
    },
    {
     "name": "stdout",
     "output_type": "stream",
     "text": [
      "elapsed time: 0.816423109 seconds\n"
     ]
    },
    {
     "data": {
      "text/plain": [
       "6-element Array{Float64,1}:\n",
       "  0.0      \n",
       "  0.0      \n",
       "  0.0      \n",
       " -2.14411e6\n",
       "  1.9872e6 \n",
       "  2.69238e5"
      ]
     },
     "metadata": {},
     "output_type": "display_data"
    },
    {
     "data": {
      "text/plain": [
       "6-element Array{Float64,1}:\n",
       "  0.0      \n",
       "  0.0      \n",
       "  0.0      \n",
       " -2.14411e6\n",
       "  1.9872e6 \n",
       "  2.69238e5"
      ]
     },
     "metadata": {},
     "output_type": "display_data"
    },
    {
     "name": "stdout",
     "output_type": "stream",
     "text": [
      "elapsed time: 0.680141257 seconds\n"
     ]
    },
    {
     "data": {
      "text/plain": [
       "6-element Array{Float64,1}:\n",
       "  -4.54747e-13\n",
       "   0.0        \n",
       "   9.09495e-13\n",
       "  24.203      \n",
       "  24.3837     \n",
       " -26.3771     "
      ]
     },
     "metadata": {},
     "output_type": "display_data"
    },
    {
     "data": {
      "text/plain": [
       "6-element Array{Float64,1}:\n",
       "  -4.54747e-13\n",
       "   0.0        \n",
       "   9.09495e-13\n",
       "  24.203      \n",
       "  24.3837     \n",
       " -26.3771     "
      ]
     },
     "metadata": {},
     "output_type": "display_data"
    },
    {
     "name": "stdout",
     "output_type": "stream",
     "text": [
      "elapsed time: 1.069825628 seconds\n"
     ]
    },
    {
     "data": {
      "text/plain": [
       "6-element Array{Float64,1}:\n",
       "    -5.82077e-11\n",
       "     0.0        \n",
       "     1.16415e-10\n",
       " -2405.18       \n",
       " -2969.43       \n",
       " -3803.12       "
      ]
     },
     "metadata": {},
     "output_type": "display_data"
    },
    {
     "data": {
      "text/plain": [
       "6-element Array{Float64,1}:\n",
       "    -5.82077e-11\n",
       "     0.0        \n",
       "     1.16415e-10\n",
       " -2405.18       \n",
       " -2969.43       \n",
       " -3803.12       "
      ]
     },
     "metadata": {},
     "output_type": "display_data"
    },
    {
     "name": "stdout",
     "output_type": "stream",
     "text": [
      "elapsed time: 1.078073019 seconds\n"
     ]
    },
    {
     "data": {
      "text/plain": [
       "6-element Array{Float64,1}:\n",
       "   1.36424e-12\n",
       "   0.0        \n",
       "   1.81899e-12\n",
       "   8.25266    \n",
       " -35.2622     \n",
       "  31.0017     "
      ]
     },
     "metadata": {},
     "output_type": "display_data"
    },
    {
     "data": {
      "text/plain": [
       "6-element Array{Float64,1}:\n",
       "   1.36424e-12\n",
       "   0.0        \n",
       "   1.81899e-12\n",
       "   8.25266    \n",
       " -35.2622     \n",
       "  31.0017     "
      ]
     },
     "metadata": {},
     "output_type": "display_data"
    },
    {
     "name": "stdout",
     "output_type": "stream",
     "text": [
      "elapsed time: 0.671765688 seconds\n"
     ]
    },
    {
     "data": {
      "text/plain": [
       "6-element Array{Float64,1}:\n",
       "   0.0      \n",
       "   0.0      \n",
       "   0.0      \n",
       "  -0.0432612\n",
       " -85.7086   \n",
       "  74.8675   "
      ]
     },
     "metadata": {},
     "output_type": "display_data"
    },
    {
     "data": {
      "text/plain": [
       "6-element Array{Float64,1}:\n",
       "   0.0      \n",
       "   0.0      \n",
       "   0.0      \n",
       "  -0.0432612\n",
       " -85.7086   \n",
       "  74.8675   "
      ]
     },
     "metadata": {},
     "output_type": "display_data"
    },
    {
     "name": "stdout",
     "output_type": "stream",
     "text": [
      "elapsed time: 1.210722621 seconds\n"
     ]
    },
    {
     "data": {
      "text/plain": [
       "6-element Array{Float64,1}:\n",
       "    1.81899e-12\n",
       "    0.0        \n",
       "    0.0        \n",
       "  -82.9697     \n",
       "   -9.55792    \n",
       " -165.211      "
      ]
     },
     "metadata": {},
     "output_type": "display_data"
    },
    {
     "data": {
      "text/plain": [
       "6-element Array{Float64,1}:\n",
       "    1.81899e-12\n",
       "    0.0        \n",
       "    0.0        \n",
       "  -82.9697     \n",
       "   -9.55792    \n",
       " -165.211      "
      ]
     },
     "metadata": {},
     "output_type": "display_data"
    },
    {
     "name": "stdout",
     "output_type": "stream",
     "text": [
      "elapsed time: 0.695436145 seconds\n"
     ]
    },
    {
     "data": {
      "text/plain": [
       "6-element Array{Float64,1}:\n",
       "  0.0       \n",
       " -1.7053e-13\n",
       "  0.0       \n",
       "  0.721348  \n",
       "  2.59483   \n",
       "  0.208794  "
      ]
     },
     "metadata": {},
     "output_type": "display_data"
    },
    {
     "data": {
      "text/plain": [
       "6-element Array{Float64,1}:\n",
       "  0.0       \n",
       " -1.7053e-13\n",
       "  0.0       \n",
       "  0.721348  \n",
       "  2.59483   \n",
       "  0.208794  "
      ]
     },
     "metadata": {},
     "output_type": "display_data"
    },
    {
     "name": "stdout",
     "output_type": "stream",
     "text": [
      "elapsed time: 1.067555232 seconds\n"
     ]
    },
    {
     "data": {
      "text/plain": [
       "6-element Array{Float64,1}:\n",
       " -3.41061e-13\n",
       "  4.54747e-13\n",
       "  4.54747e-13\n",
       " -1.70771    \n",
       "  8.66516    \n",
       " -7.53064    "
      ]
     },
     "metadata": {},
     "output_type": "display_data"
    },
    {
     "data": {
      "text/plain": [
       "6-element Array{Float64,1}:\n",
       " -3.41061e-13\n",
       "  4.54747e-13\n",
       "  4.54747e-13\n",
       " -1.70771    \n",
       "  8.66516    \n",
       " -7.53064    "
      ]
     },
     "metadata": {},
     "output_type": "display_data"
    },
    {
     "name": "stdout",
     "output_type": "stream",
     "text": [
      "elapsed time: 1.09315458 seconds\n"
     ]
    },
    {
     "data": {
      "text/plain": [
       "6-element Array{Float64,1}:\n",
       "  0.0        \n",
       "  0.0        \n",
       " -2.84217e-14\n",
       "  6.79655    \n",
       "  0.516075   \n",
       " -1.50736    "
      ]
     },
     "metadata": {},
     "output_type": "display_data"
    },
    {
     "data": {
      "text/plain": [
       "6-element Array{Float64,1}:\n",
       "  0.0        \n",
       "  0.0        \n",
       " -2.84217e-14\n",
       "  6.79655    \n",
       "  0.516075   \n",
       " -1.50736    "
      ]
     },
     "metadata": {},
     "output_type": "display_data"
    },
    {
     "name": "stdout",
     "output_type": "stream",
     "text": [
      "elapsed time: 0.676383645 seconds\n"
     ]
    },
    {
     "data": {
      "text/plain": [
       "6-element Array{Float64,1}:\n",
       "    1.45519e-11\n",
       "    0.0        \n",
       "    0.0        \n",
       "  170.073      \n",
       " -611.355      \n",
       "  564.554      "
      ]
     },
     "metadata": {},
     "output_type": "display_data"
    },
    {
     "data": {
      "text/plain": [
       "6-element Array{Float64,1}:\n",
       "    1.45519e-11\n",
       "    0.0        \n",
       "    0.0        \n",
       "  170.073      \n",
       " -611.355      \n",
       "  564.554      "
      ]
     },
     "metadata": {},
     "output_type": "display_data"
    },
    {
     "name": "stdout",
     "output_type": "stream",
     "text": [
      "elapsed time: 1.133205898 seconds\n"
     ]
    },
    {
     "data": {
      "text/plain": [
       "6-element Array{Float64,1}:\n",
       "  2.84217e-14\n",
       "  0.0        \n",
       "  0.0        \n",
       "  0.257555   \n",
       " -1.72699    \n",
       "  1.81378    "
      ]
     },
     "metadata": {},
     "output_type": "display_data"
    },
    {
     "data": {
      "text/plain": [
       "6-element Array{Float64,1}:\n",
       "  2.84217e-14\n",
       "  0.0        \n",
       "  0.0        \n",
       "  0.257555   \n",
       " -1.72699    \n",
       "  1.81378    "
      ]
     },
     "metadata": {},
     "output_type": "display_data"
    },
    {
     "name": "stdout",
     "output_type": "stream",
     "text": [
      "elapsed time: 1.092417399 seconds\n"
     ]
    },
    {
     "data": {
      "text/plain": [
       "6-element Array{Float64,1}:\n",
       "     1.45519e-11\n",
       "     0.0        \n",
       "     0.0        \n",
       "  -156.276      \n",
       "  -803.952      \n",
       " -1072.82       "
      ]
     },
     "metadata": {},
     "output_type": "display_data"
    },
    {
     "data": {
      "text/plain": [
       "6-element Array{Float64,1}:\n",
       "     1.45519e-11\n",
       "     0.0        \n",
       "     0.0        \n",
       "  -156.276      \n",
       "  -803.952      \n",
       " -1072.82       "
      ]
     },
     "metadata": {},
     "output_type": "display_data"
    },
    {
     "name": "stdout",
     "output_type": "stream",
     "text": [
      "elapsed time: 0.680610606 seconds\n"
     ]
    },
    {
     "data": {
      "text/plain": [
       "6-element Array{Float64,1}:\n",
       "  0.0        \n",
       "  1.13687e-13\n",
       "  5.68434e-14\n",
       " -0.00955438 \n",
       " -0.192065   \n",
       " -2.66121    "
      ]
     },
     "metadata": {},
     "output_type": "display_data"
    },
    {
     "data": {
      "text/plain": [
       "6-element Array{Float64,1}:\n",
       "  0.0        \n",
       "  1.13687e-13\n",
       "  5.68434e-14\n",
       " -0.00955438 \n",
       " -0.192065   \n",
       " -2.66121    "
      ]
     },
     "metadata": {},
     "output_type": "display_data"
    },
    {
     "name": "stdout",
     "output_type": "stream",
     "text": [
      "elapsed time: 1.141178556 seconds\n"
     ]
    },
    {
     "data": {
      "text/plain": [
       "6-element Array{Float64,1}:\n",
       " -0.00012207 \n",
       "  0.000488281\n",
       " -0.000732422\n",
       " -3.31977e9  \n",
       " -4.56564e9  \n",
       " -4.82542e9  "
      ]
     },
     "metadata": {},
     "output_type": "display_data"
    },
    {
     "data": {
      "text/plain": [
       "6-element Array{Float64,1}:\n",
       " -0.00012207 \n",
       "  0.000488281\n",
       " -0.000732422\n",
       " -3.31977e9  \n",
       " -4.56564e9  \n",
       " -4.82542e9  "
      ]
     },
     "metadata": {},
     "output_type": "display_data"
    },
    {
     "name": "stdout",
     "output_type": "stream",
     "text": [
      "elapsed time: 1.070234842 seconds\n"
     ]
    },
    {
     "data": {
      "text/plain": [
       "6-element Array{Float64,1}:\n",
       "     0.0        \n",
       "     1.16415e-10\n",
       "     0.0        \n",
       "   295.434      \n",
       " -1901.69       \n",
       "  1766.46       "
      ]
     },
     "metadata": {},
     "output_type": "display_data"
    },
    {
     "data": {
      "text/plain": [
       "6-element Array{Float64,1}:\n",
       "     0.0        \n",
       "     1.16415e-10\n",
       "     0.0        \n",
       "   295.434      \n",
       " -1901.69       \n",
       "  1766.46       "
      ]
     },
     "metadata": {},
     "output_type": "display_data"
    },
    {
     "name": "stdout",
     "output_type": "stream",
     "text": [
      "elapsed time: 0.689777172 seconds\n"
     ]
    },
    {
     "data": {
      "text/plain": [
       "6-element Array{Float64,1}:\n",
       "  -3.63798e-12\n",
       "   0.0        \n",
       "  -3.63798e-12\n",
       "  92.7118     \n",
       "   7.11737    \n",
       " 187.103      "
      ]
     },
     "metadata": {},
     "output_type": "display_data"
    },
    {
     "data": {
      "text/plain": [
       "6-element Array{Float64,1}:\n",
       "  -3.63798e-12\n",
       "   0.0        \n",
       "  -3.63798e-12\n",
       "  92.7118     \n",
       "   7.11737    \n",
       " 187.103      "
      ]
     },
     "metadata": {},
     "output_type": "display_data"
    },
    {
     "name": "stdout",
     "output_type": "stream",
     "text": [
      "elapsed time: 1.13107619 seconds\n"
     ]
    },
    {
     "data": {
      "text/plain": [
       "6-element Array{Float64,1}:\n",
       "   -1.45519e-11\n",
       "    0.0        \n",
       "   -5.82077e-11\n",
       "  586.145      \n",
       " 1146.32       \n",
       "  777.488      "
      ]
     },
     "metadata": {},
     "output_type": "display_data"
    },
    {
     "data": {
      "text/plain": [
       "6-element Array{Float64,1}:\n",
       "   -1.45519e-11\n",
       "    0.0        \n",
       "   -5.82077e-11\n",
       "  586.145      \n",
       " 1146.32       \n",
       "  777.488      "
      ]
     },
     "metadata": {},
     "output_type": "display_data"
    },
    {
     "name": "stdout",
     "output_type": "stream",
     "text": [
      "elapsed time: 0.685805857 seconds\n"
     ]
    },
    {
     "data": {
      "text/plain": [
       "6-element Array{Float64,1}:\n",
       "  0.0        \n",
       "  0.0        \n",
       " -1.42109e-14\n",
       "  0.09439    \n",
       " -0.355698   \n",
       "  0.324967   "
      ]
     },
     "metadata": {},
     "output_type": "display_data"
    },
    {
     "data": {
      "text/plain": [
       "6-element Array{Float64,1}:\n",
       "  0.0        \n",
       "  0.0        \n",
       " -1.42109e-14\n",
       "  0.09439    \n",
       " -0.355698   \n",
       "  0.324967   "
      ]
     },
     "metadata": {},
     "output_type": "display_data"
    },
    {
     "name": "stdout",
     "output_type": "stream",
     "text": [
      "elapsed time: 0.670734484 seconds\n"
     ]
    },
    {
     "data": {
      "text/plain": [
       "6-element Array{Float64,1}:\n",
       "   -1.45519e-11\n",
       "    2.91038e-11\n",
       "   -5.82077e-11\n",
       " -192.923      \n",
       "  726.129      \n",
       " -668.39       "
      ]
     },
     "metadata": {},
     "output_type": "display_data"
    },
    {
     "data": {
      "text/plain": [
       "6-element Array{Float64,1}:\n",
       "   -1.45519e-11\n",
       "    2.91038e-11\n",
       "   -5.82077e-11\n",
       " -192.923      \n",
       "  726.129      \n",
       " -668.39       "
      ]
     },
     "metadata": {},
     "output_type": "display_data"
    },
    {
     "name": "stdout",
     "output_type": "stream",
     "text": [
      "elapsed time: 1.091396823 seconds\n"
     ]
    },
    {
     "data": {
      "text/plain": [
       "6-element Array{Float64,1}:\n",
       "  0.0       \n",
       " -4.76837e-7\n",
       "  4.76837e-7\n",
       "  3.96178e6 \n",
       "  8.82203e6 \n",
       "  5.77567e6 "
      ]
     },
     "metadata": {},
     "output_type": "display_data"
    },
    {
     "data": {
      "text/plain": [
       "6-element Array{Float64,1}:\n",
       "  0.0       \n",
       " -4.76837e-7\n",
       "  4.76837e-7\n",
       "  3.96178e6 \n",
       "  8.82203e6 \n",
       "  5.77567e6 "
      ]
     },
     "metadata": {},
     "output_type": "display_data"
    },
    {
     "name": "stdout",
     "output_type": "stream",
     "text": [
      "elapsed time: 0.703055683 seconds\n"
     ]
    },
    {
     "data": {
      "text/plain": [
       "6-element Array{Float64,1}:\n",
       "    3.63798e-12\n",
       "    0.0        \n",
       "    0.0        \n",
       " -264.788      \n",
       " -250.681      \n",
       " -451.117      "
      ]
     },
     "metadata": {},
     "output_type": "display_data"
    },
    {
     "data": {
      "text/plain": [
       "6-element Array{Float64,1}:\n",
       "    3.63798e-12\n",
       "    0.0        \n",
       "    0.0        \n",
       " -264.788      \n",
       " -250.681      \n",
       " -451.117      "
      ]
     },
     "metadata": {},
     "output_type": "display_data"
    },
    {
     "name": "stdout",
     "output_type": "stream",
     "text": [
      "elapsed time: 0.964606294 seconds\n"
     ]
    },
    {
     "data": {
      "text/plain": [
       "6-element Array{Float64,1}:\n",
       "      0.0        \n",
       "      4.65661e-10\n",
       "     -4.65661e-10\n",
       " -22933.4        \n",
       "  -5847.31       \n",
       "   1084.74       "
      ]
     },
     "metadata": {},
     "output_type": "display_data"
    },
    {
     "data": {
      "text/plain": [
       "6-element Array{Float64,1}:\n",
       "      0.0        \n",
       "      4.65661e-10\n",
       "     -4.65661e-10\n",
       " -22933.4        \n",
       "  -5847.31       \n",
       "   1084.74       "
      ]
     },
     "metadata": {},
     "output_type": "display_data"
    },
    {
     "name": "stdout",
     "output_type": "stream",
     "text": [
      "elapsed time: 1.114718513 seconds\n"
     ]
    },
    {
     "data": {
      "text/plain": [
       "6-element Array{Float64,1}:\n",
       "    3.63798e-12\n",
       "    0.0        \n",
       "    1.45519e-11\n",
       "  -48.055      \n",
       "  196.257      \n",
       " -170.204      "
      ]
     },
     "metadata": {},
     "output_type": "display_data"
    },
    {
     "data": {
      "text/plain": [
       "6-element Array{Float64,1}:\n",
       "    3.63798e-12\n",
       "    0.0        \n",
       "    1.45519e-11\n",
       "  -48.055      \n",
       "  196.257      \n",
       " -170.204      "
      ]
     },
     "metadata": {},
     "output_type": "display_data"
    },
    {
     "name": "stdout",
     "output_type": "stream",
     "text": [
      "elapsed time: 0.687098201 seconds\n"
     ]
    },
    {
     "data": {
      "text/plain": [
       "6-element Array{Float64,1}:\n",
       "    7.27596e-12\n",
       "    0.0        \n",
       "    7.27596e-12\n",
       "   64.5443     \n",
       " -130.05       \n",
       "  181.86       "
      ]
     },
     "metadata": {},
     "output_type": "display_data"
    },
    {
     "data": {
      "text/plain": [
       "6-element Array{Float64,1}:\n",
       "    7.27596e-12\n",
       "    0.0        \n",
       "    7.27596e-12\n",
       "   64.5443     \n",
       " -130.05       \n",
       "  181.86       "
      ]
     },
     "metadata": {},
     "output_type": "display_data"
    },
    {
     "name": "stdout",
     "output_type": "stream",
     "text": [
      "elapsed time: 0.672593128 seconds\n"
     ]
    },
    {
     "data": {
      "text/plain": [
       "6-element Array{Float64,1}:\n",
       "    0.0   \n",
       "    0.0   \n",
       "    0.0   \n",
       "   41.8361\n",
       " -182.213 \n",
       "  173.876 "
      ]
     },
     "metadata": {},
     "output_type": "display_data"
    },
    {
     "data": {
      "text/plain": [
       "6-element Array{Float64,1}:\n",
       "    0.0   \n",
       "    0.0   \n",
       "    0.0   \n",
       "   41.8361\n",
       " -182.213 \n",
       "  173.876 "
      ]
     },
     "metadata": {},
     "output_type": "display_data"
    },
    {
     "name": "stdout",
     "output_type": "stream",
     "text": [
      "elapsed time: 1.06983325 seconds\n"
     ]
    },
    {
     "data": {
      "text/plain": [
       "6-element Array{Float64,1}:\n",
       "  0.0      \n",
       "  0.0      \n",
       "  0.0      \n",
       " -0.0196874\n",
       "  0.254825 \n",
       " -0.270197 "
      ]
     },
     "metadata": {},
     "output_type": "display_data"
    },
    {
     "data": {
      "text/plain": [
       "6-element Array{Float64,1}:\n",
       "  0.0      \n",
       "  0.0      \n",
       "  0.0      \n",
       " -0.0196874\n",
       "  0.254825 \n",
       " -0.270197 "
      ]
     },
     "metadata": {},
     "output_type": "display_data"
    },
    {
     "name": "stdout",
     "output_type": "stream",
     "text": [
      "elapsed time: 0.676809388 seconds\n"
     ]
    },
    {
     "data": {
      "text/plain": [
       "6-element Array{Float64,1}:\n",
       "  -1.45519e-11\n",
       "   1.45519e-11\n",
       "   0.0        \n",
       " 140.805      \n",
       " 668.923      \n",
       "  21.5126     "
      ]
     },
     "metadata": {},
     "output_type": "display_data"
    },
    {
     "data": {
      "text/plain": [
       "6-element Array{Float64,1}:\n",
       "  -1.45519e-11\n",
       "   1.45519e-11\n",
       "   0.0        \n",
       " 140.805      \n",
       " 668.923      \n",
       "  21.5126     "
      ]
     },
     "metadata": {},
     "output_type": "display_data"
    },
    {
     "name": "stdout",
     "output_type": "stream",
     "text": [
      "elapsed time: 0.83375011 seconds\n"
     ]
    },
    {
     "data": {
      "text/plain": [
       "6-element Array{Float64,1}:\n",
       "  0.0        \n",
       " -5.68434e-14\n",
       "  4.26326e-14\n",
       "  3.8946     \n",
       "  0.0754177  \n",
       " -0.985542   "
      ]
     },
     "metadata": {},
     "output_type": "display_data"
    },
    {
     "data": {
      "text/plain": [
       "6-element Array{Float64,1}:\n",
       "  0.0        \n",
       " -5.68434e-14\n",
       "  4.26326e-14\n",
       "  3.8946     \n",
       "  0.0754177  \n",
       " -0.985542   "
      ]
     },
     "metadata": {},
     "output_type": "display_data"
    },
    {
     "name": "stdout",
     "output_type": "stream",
     "text": [
      "elapsed time: 0.688565518 seconds\n"
     ]
    },
    {
     "data": {
      "text/plain": [
       "6-element Array{Float64,1}:\n",
       "   4.54747e-13\n",
       "   0.0        \n",
       "   1.81899e-12\n",
       "  -6.54018    \n",
       "  19.1963     \n",
       " -25.044      "
      ]
     },
     "metadata": {},
     "output_type": "display_data"
    },
    {
     "data": {
      "text/plain": [
       "6-element Array{Float64,1}:\n",
       "   4.54747e-13\n",
       "   0.0        \n",
       "   1.81899e-12\n",
       "  -6.54018    \n",
       "  19.1963     \n",
       " -25.044      "
      ]
     },
     "metadata": {},
     "output_type": "display_data"
    },
    {
     "name": "stdout",
     "output_type": "stream",
     "text": [
      "elapsed time: 0.67760305 seconds\n"
     ]
    },
    {
     "data": {
      "text/plain": [
       "6-element Array{Float64,1}:\n",
       "    0.0        \n",
       "   -4.65661e-10\n",
       "    2.32831e-10\n",
       " 2151.8        \n",
       " 6674.54       \n",
       " 8725.51       "
      ]
     },
     "metadata": {},
     "output_type": "display_data"
    },
    {
     "data": {
      "text/plain": [
       "6-element Array{Float64,1}:\n",
       "    0.0        \n",
       "   -4.65661e-10\n",
       "    2.32831e-10\n",
       " 2151.8        \n",
       " 6674.54       \n",
       " 8725.51       "
      ]
     },
     "metadata": {},
     "output_type": "display_data"
    },
    {
     "name": "stdout",
     "output_type": "stream",
     "text": [
      "elapsed time: 1.082778119 seconds\n"
     ]
    },
    {
     "data": {
      "text/plain": [
       "6-element Array{Float64,1}:\n",
       "     5.82077e-11\n",
       "     0.0        \n",
       "    -1.16415e-10\n",
       "   491.833      \n",
       " -2089.13       \n",
       "  1787.68       "
      ]
     },
     "metadata": {},
     "output_type": "display_data"
    },
    {
     "data": {
      "text/plain": [
       "6-element Array{Float64,1}:\n",
       "     5.82077e-11\n",
       "     0.0        \n",
       "    -1.16415e-10\n",
       "   491.833      \n",
       " -2089.13       \n",
       "  1787.68       "
      ]
     },
     "metadata": {},
     "output_type": "display_data"
    },
    {
     "name": "stdout",
     "output_type": "stream",
     "text": [
      "elapsed time: 0.690216665 seconds\n"
     ]
    },
    {
     "data": {
      "text/plain": [
       "6-element Array{Float64,1}:\n",
       "   9.09495e-13\n",
       "  -9.09495e-13\n",
       "   1.81899e-12\n",
       "   0.919344   \n",
       " -36.3279     \n",
       "  17.2622     "
      ]
     },
     "metadata": {},
     "output_type": "display_data"
    },
    {
     "data": {
      "text/plain": [
       "6-element Array{Float64,1}:\n",
       "   9.09495e-13\n",
       "  -9.09495e-13\n",
       "   1.81899e-12\n",
       "   0.919344   \n",
       " -36.3279     \n",
       "  17.2622     "
      ]
     },
     "metadata": {},
     "output_type": "display_data"
    },
    {
     "name": "stdout",
     "output_type": "stream",
     "text": [
      "elapsed time: 1.169360564 seconds\n"
     ]
    },
    {
     "data": {
      "text/plain": [
       "6-element Array{Float64,1}:\n",
       "   0.0        \n",
       "  -9.09495e-13\n",
       "  -3.63798e-12\n",
       "  -8.52732    \n",
       " -74.0536     \n",
       "  16.8099     "
      ]
     },
     "metadata": {},
     "output_type": "display_data"
    },
    {
     "data": {
      "text/plain": [
       "6-element Array{Float64,1}:\n",
       "   0.0        \n",
       "  -9.09495e-13\n",
       "  -3.63798e-12\n",
       "  -8.52732    \n",
       " -74.0536     \n",
       "  16.8099     "
      ]
     },
     "metadata": {},
     "output_type": "display_data"
    },
    {
     "name": "stdout",
     "output_type": "stream",
     "text": [
      "elapsed time: 1.081139717 seconds\n"
     ]
    },
    {
     "data": {
      "text/plain": [
       "6-element Array{Float64,1}:\n",
       "  0.0        \n",
       "  0.0        \n",
       " -3.55271e-15\n",
       "  0.068656   \n",
       " -0.0854697  \n",
       " -0.00123662 "
      ]
     },
     "metadata": {},
     "output_type": "display_data"
    },
    {
     "data": {
      "text/plain": [
       "6-element Array{Float64,1}:\n",
       "  0.0        \n",
       "  0.0        \n",
       " -3.55271e-15\n",
       "  0.068656   \n",
       " -0.0854697  \n",
       " -0.00123662 "
      ]
     },
     "metadata": {},
     "output_type": "display_data"
    },
    {
     "name": "stdout",
     "output_type": "stream",
     "text": [
      "elapsed time: 0.68422439 seconds\n"
     ]
    },
    {
     "data": {
      "text/plain": [
       "6-element Array{Float64,1}:\n",
       "   -3.63798e-12\n",
       "   -1.45519e-11\n",
       "    0.0        \n",
       "   69.6452     \n",
       " -143.867      \n",
       "   99.2042     "
      ]
     },
     "metadata": {},
     "output_type": "display_data"
    },
    {
     "data": {
      "text/plain": [
       "6-element Array{Float64,1}:\n",
       "   -3.63798e-12\n",
       "   -1.45519e-11\n",
       "    0.0        \n",
       "   69.6452     \n",
       " -143.867      \n",
       "   99.2042     "
      ]
     },
     "metadata": {},
     "output_type": "display_data"
    },
    {
     "name": "stdout",
     "output_type": "stream",
     "text": [
      "elapsed time: 1.097794404 seconds\n"
     ]
    },
    {
     "data": {
      "text/plain": [
       "6-element Array{Float64,1}:\n",
       "   0.0        \n",
       "  -9.09495e-13\n",
       "  -1.13687e-13\n",
       " -10.5868     \n",
       "   3.22724    \n",
       " -12.8572     "
      ]
     },
     "metadata": {},
     "output_type": "display_data"
    },
    {
     "data": {
      "text/plain": [
       "6-element Array{Float64,1}:\n",
       "   0.0        \n",
       "  -9.09495e-13\n",
       "  -1.13687e-13\n",
       " -10.5868     \n",
       "   3.22724    \n",
       " -12.8572     "
      ]
     },
     "metadata": {},
     "output_type": "display_data"
    },
    {
     "name": "stdout",
     "output_type": "stream",
     "text": [
      "elapsed time: 0.690657271 seconds\n"
     ]
    },
    {
     "data": {
      "text/plain": [
       "6-element Array{Float64,1}:\n",
       "   1.81899e-12\n",
       "   0.0        \n",
       "   7.27596e-12\n",
       " 127.083      \n",
       "  82.4717     \n",
       " 522.811      "
      ]
     },
     "metadata": {},
     "output_type": "display_data"
    },
    {
     "data": {
      "text/plain": [
       "6-element Array{Float64,1}:\n",
       "   1.81899e-12\n",
       "   0.0        \n",
       "   7.27596e-12\n",
       " 127.083      \n",
       "  82.4717     \n",
       " 522.811      "
      ]
     },
     "metadata": {},
     "output_type": "display_data"
    },
    {
     "name": "stdout",
     "output_type": "stream",
     "text": [
      "elapsed time: 1.078329511 seconds\n"
     ]
    },
    {
     "data": {
      "text/plain": [
       "6-element Array{Float64,1}:\n",
       "  0.0        \n",
       "  4.26326e-14\n",
       "  0.0        \n",
       "  1.18081    \n",
       "  0.00938069 \n",
       " -0.696063   "
      ]
     },
     "metadata": {},
     "output_type": "display_data"
    },
    {
     "data": {
      "text/plain": [
       "6-element Array{Float64,1}:\n",
       "  0.0        \n",
       "  4.26326e-14\n",
       "  0.0        \n",
       "  1.18081    \n",
       "  0.00938069 \n",
       " -0.696063   "
      ]
     },
     "metadata": {},
     "output_type": "display_data"
    },
    {
     "name": "stdout",
     "output_type": "stream",
     "text": [
      "elapsed time: 1.061282148 seconds\n"
     ]
    },
    {
     "data": {
      "text/plain": [
       "6-element Array{Float64,1}:\n",
       "     1.45519e-11\n",
       "    -1.16415e-10\n",
       "     0.0        \n",
       "  -628.284      \n",
       "  1100.65       \n",
       " -2545.91       "
      ]
     },
     "metadata": {},
     "output_type": "display_data"
    },
    {
     "data": {
      "text/plain": [
       "6-element Array{Float64,1}:\n",
       "     1.45519e-11\n",
       "    -1.16415e-10\n",
       "     0.0        \n",
       "  -628.284      \n",
       "  1100.65       \n",
       " -2545.91       "
      ]
     },
     "metadata": {},
     "output_type": "display_data"
    },
    {
     "name": "stdout",
     "output_type": "stream",
     "text": [
      "elapsed time: 0.699465855 seconds\n"
     ]
    },
    {
     "data": {
      "text/plain": [
       "6-element Array{Float64,1}:\n",
       "     0.0        \n",
       "     1.16415e-10\n",
       "    -7.45058e-9 \n",
       "   -83.223      \n",
       "    -1.24496e5  \n",
       " -1739.48       "
      ]
     },
     "metadata": {},
     "output_type": "display_data"
    },
    {
     "data": {
      "text/plain": [
       "6-element Array{Float64,1}:\n",
       "     0.0        \n",
       "     1.16415e-10\n",
       "    -7.45058e-9 \n",
       "   -83.223      \n",
       "    -1.24496e5  \n",
       " -1739.48       "
      ]
     },
     "metadata": {},
     "output_type": "display_data"
    },
    {
     "name": "stdout",
     "output_type": "stream",
     "text": [
      "elapsed time: 1.162941747 seconds\n"
     ]
    },
    {
     "data": {
      "text/plain": [
       "6-element Array{Float64,1}:\n",
       "     0.0        \n",
       "     0.0        \n",
       "    -2.32831e-10\n",
       " -1030.93       \n",
       "  4019.72       \n",
       " -4207.85       "
      ]
     },
     "metadata": {},
     "output_type": "display_data"
    },
    {
     "data": {
      "text/plain": [
       "6-element Array{Float64,1}:\n",
       "     0.0        \n",
       "     0.0        \n",
       "    -2.32831e-10\n",
       " -1030.93       \n",
       "  4019.72       \n",
       " -4207.85       "
      ]
     },
     "metadata": {},
     "output_type": "display_data"
    },
    {
     "name": "stdout",
     "output_type": "stream",
     "text": [
      "elapsed time: 0.686155539 seconds\n"
     ]
    },
    {
     "data": {
      "text/plain": [
       "6-element Array{Float64,1}:\n",
       "    0.0        \n",
       "   -2.91038e-11\n",
       "    1.45519e-11\n",
       "  -80.35       \n",
       " -397.587      \n",
       " -391.432      "
      ]
     },
     "metadata": {},
     "output_type": "display_data"
    },
    {
     "data": {
      "text/plain": [
       "6-element Array{Float64,1}:\n",
       "    0.0        \n",
       "   -2.91038e-11\n",
       "    1.45519e-11\n",
       "  -80.35       \n",
       " -397.587      \n",
       " -391.432      "
      ]
     },
     "metadata": {},
     "output_type": "display_data"
    },
    {
     "name": "stdout",
     "output_type": "stream",
     "text": [
      "elapsed time: 1.084756593 seconds\n"
     ]
    },
    {
     "data": {
      "text/plain": [
       "6-element Array{Float64,1}:\n",
       "    3.63798e-12\n",
       "   -2.91038e-11\n",
       "    7.27596e-12\n",
       "  289.438      \n",
       " -175.971      \n",
       "  682.61       "
      ]
     },
     "metadata": {},
     "output_type": "display_data"
    },
    {
     "data": {
      "text/plain": [
       "6-element Array{Float64,1}:\n",
       "    3.63798e-12\n",
       "   -2.91038e-11\n",
       "    7.27596e-12\n",
       "  289.438      \n",
       " -175.971      \n",
       "  682.61       "
      ]
     },
     "metadata": {},
     "output_type": "display_data"
    },
    {
     "name": "stdout",
     "output_type": "stream",
     "text": [
      "elapsed time: 1.073084141 seconds\n"
     ]
    },
    {
     "data": {
      "text/plain": [
       "6-element Array{Float64,1}:\n",
       "   0.0        \n",
       "   0.0        \n",
       "  -1.45519e-11\n",
       " 208.653      \n",
       " 393.892      \n",
       " 862.213      "
      ]
     },
     "metadata": {},
     "output_type": "display_data"
    },
    {
     "data": {
      "text/plain": [
       "6-element Array{Float64,1}:\n",
       "   0.0        \n",
       "   0.0        \n",
       "  -1.45519e-11\n",
       " 208.653      \n",
       " 393.892      \n",
       " 862.213      "
      ]
     },
     "metadata": {},
     "output_type": "display_data"
    },
    {
     "name": "stdout",
     "output_type": "stream",
     "text": [
      "elapsed time: 0.680667184 seconds\n"
     ]
    },
    {
     "data": {
      "text/plain": [
       "6-element Array{Float64,1}:\n",
       "     5.82077e-11\n",
       "     1.16415e-10\n",
       "     4.65661e-10\n",
       "  -727.236      \n",
       "  4042.36       \n",
       " -2936.34       "
      ]
     },
     "metadata": {},
     "output_type": "display_data"
    },
    {
     "data": {
      "text/plain": [
       "6-element Array{Float64,1}:\n",
       "     5.82077e-11\n",
       "     1.16415e-10\n",
       "     4.65661e-10\n",
       "  -727.236      \n",
       "  4042.36       \n",
       " -2936.34       "
      ]
     },
     "metadata": {},
     "output_type": "display_data"
    },
    {
     "name": "stdout",
     "output_type": "stream",
     "text": [
      "elapsed time: 1.16043017 seconds\n"
     ]
    },
    {
     "data": {
      "text/plain": [
       "6-element Array{Float64,1}:\n",
       "     0.0       \n",
       "     7.45058e-9\n",
       "     0.0       \n",
       " 27890.0       \n",
       " -2217.91      \n",
       "     1.53102e5 "
      ]
     },
     "metadata": {},
     "output_type": "display_data"
    },
    {
     "data": {
      "text/plain": [
       "6-element Array{Float64,1}:\n",
       "     0.0       \n",
       "     7.45058e-9\n",
       "     0.0       \n",
       " 27890.0       \n",
       " -2217.91      \n",
       "     1.53102e5 "
      ]
     },
     "metadata": {},
     "output_type": "display_data"
    },
    {
     "name": "stdout",
     "output_type": "stream",
     "text": [
      "elapsed time: 0.694807805 seconds\n"
     ]
    },
    {
     "data": {
      "text/plain": [
       "6-element Array{Float64,1}:\n",
       "     5.82077e-11\n",
       "     2.32831e-10\n",
       "     0.0        \n",
       "   871.424      \n",
       " -3479.33       \n",
       "  3534.72       "
      ]
     },
     "metadata": {},
     "output_type": "display_data"
    },
    {
     "data": {
      "text/plain": [
       "6-element Array{Float64,1}:\n",
       "     5.82077e-11\n",
       "     2.32831e-10\n",
       "     0.0        \n",
       "   871.424      \n",
       " -3479.33       \n",
       "  3534.72       "
      ]
     },
     "metadata": {},
     "output_type": "display_data"
    },
    {
     "name": "stdout",
     "output_type": "stream",
     "text": [
      "elapsed time: 1.066479534 seconds\n"
     ]
    },
    {
     "data": {
      "text/plain": [
       "6-element Array{Float64,1}:\n",
       " -4.44089e-16\n",
       "  2.84217e-14\n",
       "  0.0        \n",
       "  1.89482    \n",
       "  0.0313439  \n",
       " -1.1194     "
      ]
     },
     "metadata": {},
     "output_type": "display_data"
    },
    {
     "data": {
      "text/plain": [
       "6-element Array{Float64,1}:\n",
       " -4.44089e-16\n",
       "  2.84217e-14\n",
       "  0.0        \n",
       "  1.89482    \n",
       "  0.0313439  \n",
       " -1.1194     "
      ]
     },
     "metadata": {},
     "output_type": "display_data"
    },
    {
     "name": "stdout",
     "output_type": "stream",
     "text": [
      "elapsed time: 1.061702415 seconds\n"
     ]
    },
    {
     "data": {
      "text/plain": [
       "6-element Array{Float64,1}:\n",
       "     0.0        \n",
       "     0.0        \n",
       "     5.82077e-11\n",
       "  -439.258      \n",
       "  1359.09       \n",
       " -1788.18       "
      ]
     },
     "metadata": {},
     "output_type": "display_data"
    },
    {
     "data": {
      "text/plain": [
       "6-element Array{Float64,1}:\n",
       "     0.0        \n",
       "     0.0        \n",
       "     5.82077e-11\n",
       "  -439.258      \n",
       "  1359.09       \n",
       " -1788.18       "
      ]
     },
     "metadata": {},
     "output_type": "display_data"
    },
    {
     "name": "stdout",
     "output_type": "stream",
     "text": [
      "elapsed time: 0.671089539 seconds\n"
     ]
    },
    {
     "data": {
      "text/plain": [
       "6-element Array{Float64,1}:\n",
       "      0.0        \n",
       "      4.65661e-10\n",
       "      0.0        \n",
       "  -1805.91       \n",
       " -12278.4        \n",
       "  -7684.01       "
      ]
     },
     "metadata": {},
     "output_type": "display_data"
    },
    {
     "data": {
      "text/plain": [
       "6-element Array{Float64,1}:\n",
       "      0.0        \n",
       "      4.65661e-10\n",
       "      0.0        \n",
       "  -1805.91       \n",
       " -12278.4        \n",
       "  -7684.01       "
      ]
     },
     "metadata": {},
     "output_type": "display_data"
    },
    {
     "name": "stdout",
     "output_type": "stream",
     "text": [
      "elapsed time: 1.171378761 seconds\n"
     ]
    },
    {
     "data": {
      "text/plain": [
       "6-element Array{Float64,1}:\n",
       "     -9.31323e-10\n",
       "      0.0        \n",
       "      0.0        \n",
       " -40554.2        \n",
       " -54197.4        \n",
       "     -1.67059e5  "
      ]
     },
     "metadata": {},
     "output_type": "display_data"
    },
    {
     "data": {
      "text/plain": [
       "6-element Array{Float64,1}:\n",
       "     -9.31323e-10\n",
       "      0.0        \n",
       "      0.0        \n",
       " -40554.2        \n",
       " -54197.4        \n",
       "     -1.67059e5  "
      ]
     },
     "metadata": {},
     "output_type": "display_data"
    },
    {
     "name": "stdout",
     "output_type": "stream",
     "text": [
      "elapsed time: 0.699344261 seconds\n"
     ]
    },
    {
     "data": {
      "text/plain": [
       "6-element Array{Float64,1}:\n",
       " -2.27374e-13\n",
       " -2.13163e-14\n",
       "  4.54747e-13\n",
       " -1.02396    \n",
       " -9.51583    \n",
       "  0.436902   "
      ]
     },
     "metadata": {},
     "output_type": "display_data"
    },
    {
     "data": {
      "text/plain": [
       "6-element Array{Float64,1}:\n",
       " -2.27374e-13\n",
       " -2.13163e-14\n",
       "  4.54747e-13\n",
       " -1.02396    \n",
       " -9.51583    \n",
       "  0.436902   "
      ]
     },
     "metadata": {},
     "output_type": "display_data"
    },
    {
     "name": "stdout",
     "output_type": "stream",
     "text": [
      "elapsed time: 0.681028063 seconds\n"
     ]
    },
    {
     "data": {
      "text/plain": [
       "6-element Array{Float64,1}:\n",
       "   -4.54747e-13\n",
       "    2.32831e-10\n",
       "   -1.81899e-12\n",
       " 2455.86       \n",
       "  -43.3174     \n",
       " 2938.22       "
      ]
     },
     "metadata": {},
     "output_type": "display_data"
    },
    {
     "data": {
      "text/plain": [
       "6-element Array{Float64,1}:\n",
       "   -4.54747e-13\n",
       "    2.32831e-10\n",
       "   -1.81899e-12\n",
       " 2455.86       \n",
       "  -43.3174     \n",
       " 2938.22       "
      ]
     },
     "metadata": {},
     "output_type": "display_data"
    },
    {
     "name": "stdout",
     "output_type": "stream",
     "text": [
      "elapsed time: 1.195948152 seconds\n"
     ]
    },
    {
     "data": {
      "text/plain": [
       "6-element Array{Float64,1}:\n",
       "  0.0        \n",
       "  1.42109e-14\n",
       " -5.68434e-14\n",
       "  0.550179   \n",
       " -0.823575   \n",
       " -0.440431   "
      ]
     },
     "metadata": {},
     "output_type": "display_data"
    },
    {
     "data": {
      "text/plain": [
       "6-element Array{Float64,1}:\n",
       "  0.0        \n",
       "  1.42109e-14\n",
       " -5.68434e-14\n",
       "  0.550179   \n",
       " -0.823575   \n",
       " -0.440431   "
      ]
     },
     "metadata": {},
     "output_type": "display_data"
    },
    {
     "name": "stdout",
     "output_type": "stream",
     "text": [
      "elapsed time: 1.064252617 seconds\n"
     ]
    },
    {
     "data": {
      "text/plain": [
       "6-element Array{Float64,1}:\n",
       "  0.0        \n",
       "  0.0        \n",
       " -2.27374e-13\n",
       " -0.0739841  \n",
       "  1.68667    \n",
       "  0.0410719  "
      ]
     },
     "metadata": {},
     "output_type": "display_data"
    },
    {
     "data": {
      "text/plain": [
       "6-element Array{Float64,1}:\n",
       "  0.0        \n",
       "  0.0        \n",
       " -2.27374e-13\n",
       " -0.0739841  \n",
       "  1.68667    \n",
       "  0.0410719  "
      ]
     },
     "metadata": {},
     "output_type": "display_data"
    },
    {
     "name": "stdout",
     "output_type": "stream",
     "text": [
      "elapsed time: 0.683509846 seconds\n"
     ]
    },
    {
     "data": {
      "text/plain": [
       "6-element Array{Float64,1}:\n",
       " -5.55112e-17\n",
       "  1.38778e-17\n",
       " -2.22045e-16\n",
       "  0.00461612 \n",
       " -0.00205231 \n",
       " -0.00171406 "
      ]
     },
     "metadata": {},
     "output_type": "display_data"
    },
    {
     "data": {
      "text/plain": [
       "6-element Array{Float64,1}:\n",
       " -5.55112e-17\n",
       "  1.38778e-17\n",
       " -2.22045e-16\n",
       "  0.00461612 \n",
       " -0.00205231 \n",
       " -0.00171406 "
      ]
     },
     "metadata": {},
     "output_type": "display_data"
    },
    {
     "name": "stdout",
     "output_type": "stream",
     "text": [
      "elapsed time: 1.173998394 seconds\n"
     ]
    },
    {
     "data": {
      "text/plain": [
       "6-element Array{Float64,1}:\n",
       "   9.09495e-13\n",
       "   0.0        \n",
       "  -3.63798e-12\n",
       "  11.1567     \n",
       " -70.7204     \n",
       "  21.6097     "
      ]
     },
     "metadata": {},
     "output_type": "display_data"
    },
    {
     "data": {
      "text/plain": [
       "6-element Array{Float64,1}:\n",
       "   9.09495e-13\n",
       "   0.0        \n",
       "  -3.63798e-12\n",
       "  11.1567     \n",
       " -70.7204     \n",
       "  21.6097     "
      ]
     },
     "metadata": {},
     "output_type": "display_data"
    },
    {
     "name": "stdout",
     "output_type": "stream",
     "text": [
      "elapsed time: 0.674122851 seconds\n"
     ]
    },
    {
     "data": {
      "text/plain": [
       "6-element Array{Float64,1}:\n",
       "   0.0    \n",
       "   0.0    \n",
       "   0.0    \n",
       "  71.4058 \n",
       " -15.4697 \n",
       "  -4.88938"
      ]
     },
     "metadata": {},
     "output_type": "display_data"
    },
    {
     "data": {
      "text/plain": [
       "6-element Array{Float64,1}:\n",
       "   0.0    \n",
       "   0.0    \n",
       "   0.0    \n",
       "  71.4058 \n",
       " -15.4697 \n",
       "  -4.88938"
      ]
     },
     "metadata": {},
     "output_type": "display_data"
    },
    {
     "name": "stdout",
     "output_type": "stream",
     "text": [
      "elapsed time: 1.089771363 seconds\n"
     ]
    },
    {
     "data": {
      "text/plain": [
       "6-element Array{Float64,1}:\n",
       "   0.0        \n",
       "   7.27596e-12\n",
       "   0.0        \n",
       " 102.699      \n",
       " -97.5889     \n",
       " 108.995      "
      ]
     },
     "metadata": {},
     "output_type": "display_data"
    },
    {
     "data": {
      "text/plain": [
       "6-element Array{Float64,1}:\n",
       "   0.0        \n",
       "   7.27596e-12\n",
       "   0.0        \n",
       " 102.699      \n",
       " -97.5889     \n",
       " 108.995      "
      ]
     },
     "metadata": {},
     "output_type": "display_data"
    },
    {
     "name": "stdout",
     "output_type": "stream",
     "text": [
      "elapsed time: 1.071925406 seconds\n"
     ]
    },
    {
     "data": {
      "text/plain": [
       "6-element Array{Float64,1}:\n",
       "   0.0        \n",
       "   0.0        \n",
       "  -2.91038e-11\n",
       "  33.2967     \n",
       " 669.389      \n",
       " 138.419      "
      ]
     },
     "metadata": {},
     "output_type": "display_data"
    },
    {
     "data": {
      "text/plain": [
       "6-element Array{Float64,1}:\n",
       "   0.0        \n",
       "   0.0        \n",
       "  -2.91038e-11\n",
       "  33.2967     \n",
       " 669.389      \n",
       " 138.419      "
      ]
     },
     "metadata": {},
     "output_type": "display_data"
    },
    {
     "name": "stdout",
     "output_type": "stream",
     "text": [
      "elapsed time: 0.670083236 seconds\n"
     ]
    },
    {
     "data": {
      "text/plain": [
       "6-element Array{Float64,1}:\n",
       "  2.22045e-16\n",
       " -1.38778e-17\n",
       "  0.0        \n",
       " -0.000716382\n",
       " -0.0138308  \n",
       "  0.000206323"
      ]
     },
     "metadata": {},
     "output_type": "display_data"
    },
    {
     "data": {
      "text/plain": [
       "6-element Array{Float64,1}:\n",
       "  2.22045e-16\n",
       " -1.38778e-17\n",
       "  0.0        \n",
       " -0.000716382\n",
       " -0.0138308  \n",
       "  0.000206323"
      ]
     },
     "metadata": {},
     "output_type": "display_data"
    },
    {
     "name": "stdout",
     "output_type": "stream",
     "text": [
      "elapsed time: 1.166660329 seconds\n"
     ]
    },
    {
     "data": {
      "text/plain": [
       "6-element Array{Float64,1}:\n",
       "     5.82077e-11\n",
       "     0.0        \n",
       "     0.0        \n",
       "  -550.134      \n",
       "  2410.54       \n",
       " -2197.49       "
      ]
     },
     "metadata": {},
     "output_type": "display_data"
    },
    {
     "data": {
      "text/plain": [
       "6-element Array{Float64,1}:\n",
       "     5.82077e-11\n",
       "     0.0        \n",
       "     0.0        \n",
       "  -550.134      \n",
       "  2410.54       \n",
       " -2197.49       "
      ]
     },
     "metadata": {},
     "output_type": "display_data"
    },
    {
     "name": "stdout",
     "output_type": "stream",
     "text": [
      "elapsed time: 0.702975437 seconds\n"
     ]
    },
    {
     "data": {
      "text/plain": [
       "6-element Array{Float64,1}:\n",
       "    0.0   \n",
       "    0.0   \n",
       "    0.0   \n",
       "   57.4696\n",
       " -128.463 \n",
       "  227.316 "
      ]
     },
     "metadata": {},
     "output_type": "display_data"
    },
    {
     "data": {
      "text/plain": [
       "6-element Array{Float64,1}:\n",
       "    0.0   \n",
       "    0.0   \n",
       "    0.0   \n",
       "   57.4696\n",
       " -128.463 \n",
       "  227.316 "
      ]
     },
     "metadata": {},
     "output_type": "display_data"
    },
    {
     "name": "stdout",
     "output_type": "stream",
     "text": [
      "elapsed time: 1.079623007 seconds\n"
     ]
    },
    {
     "data": {
      "text/plain": [
       "6-element Array{Float64,1}:\n",
       "  1.13687e-13\n",
       " -2.84217e-14\n",
       "  0.0        \n",
       " -7.48837    \n",
       "  7.02869    \n",
       "  2.20285    "
      ]
     },
     "metadata": {},
     "output_type": "display_data"
    },
    {
     "data": {
      "text/plain": [
       "6-element Array{Float64,1}:\n",
       "  1.13687e-13\n",
       " -2.84217e-14\n",
       "  0.0        \n",
       " -7.48837    \n",
       "  7.02869    \n",
       "  2.20285    "
      ]
     },
     "metadata": {},
     "output_type": "display_data"
    },
    {
     "name": "stdout",
     "output_type": "stream",
     "text": [
      "elapsed time: 1.100759988 seconds\n"
     ]
    },
    {
     "data": {
      "text/plain": [
       "6-element Array{Float64,1}:\n",
       "   0.0        \n",
       "   0.0        \n",
       "   1.81899e-12\n",
       "  76.4292     \n",
       " -33.68       \n",
       " 320.153      "
      ]
     },
     "metadata": {},
     "output_type": "display_data"
    },
    {
     "data": {
      "text/plain": [
       "6-element Array{Float64,1}:\n",
       "   0.0        \n",
       "   0.0        \n",
       "   1.81899e-12\n",
       "  76.4292     \n",
       " -33.68       \n",
       " 320.153      "
      ]
     },
     "metadata": {},
     "output_type": "display_data"
    },
    {
     "name": "stdout",
     "output_type": "stream",
     "text": [
      "elapsed time: 0.710131397 seconds\n"
     ]
    },
    {
     "data": {
      "text/plain": [
       "6-element Array{Float64,1}:\n",
       "   -7.27596e-12\n",
       "    0.0        \n",
       "    1.45519e-11\n",
       "  -12.8905     \n",
       " -370.07       \n",
       "  -50.074      "
      ]
     },
     "metadata": {},
     "output_type": "display_data"
    },
    {
     "data": {
      "text/plain": [
       "6-element Array{Float64,1}:\n",
       "   -7.27596e-12\n",
       "    0.0        \n",
       "    1.45519e-11\n",
       "  -12.8905     \n",
       " -370.07       \n",
       "  -50.074      "
      ]
     },
     "metadata": {},
     "output_type": "display_data"
    },
    {
     "name": "stdout",
     "output_type": "stream",
     "text": [
      "elapsed time: 0.675446264 seconds\n"
     ]
    },
    {
     "data": {
      "text/plain": [
       "6-element Array{Float64,1}:\n",
       "     0.0  \n",
       "     0.0  \n",
       "     0.0  \n",
       "  -264.941\n",
       "  -221.797\n",
       " -1088.55 "
      ]
     },
     "metadata": {},
     "output_type": "display_data"
    },
    {
     "data": {
      "text/plain": [
       "6-element Array{Float64,1}:\n",
       "     0.0  \n",
       "     0.0  \n",
       "     0.0  \n",
       "  -264.941\n",
       "  -221.797\n",
       " -1088.55 "
      ]
     },
     "metadata": {},
     "output_type": "display_data"
    },
    {
     "name": "stdout",
     "output_type": "stream",
     "text": [
      "elapsed time: 1.05151092 seconds\n"
     ]
    },
    {
     "data": {
      "text/plain": [
       "6-element Array{Float64,1}:\n",
       "  5.68434e-14\n",
       "  0.0        \n",
       "  1.13687e-13\n",
       " -0.0948897  \n",
       "  2.36978    \n",
       "  0.231394   "
      ]
     },
     "metadata": {},
     "output_type": "display_data"
    },
    {
     "data": {
      "text/plain": [
       "6-element Array{Float64,1}:\n",
       "  5.68434e-14\n",
       "  0.0        \n",
       "  1.13687e-13\n",
       " -0.0948897  \n",
       "  2.36978    \n",
       "  0.231394   "
      ]
     },
     "metadata": {},
     "output_type": "display_data"
    },
    {
     "name": "stdout",
     "output_type": "stream",
     "text": [
      "elapsed time: 0.679075231 seconds\n"
     ]
    },
    {
     "data": {
      "text/plain": [
       "6-element Array{Float64,1}:\n",
       "     0.0        \n",
       "     5.82077e-11\n",
       "     0.0        \n",
       "   184.404      \n",
       " -1282.82       \n",
       "   740.714      "
      ]
     },
     "metadata": {},
     "output_type": "display_data"
    },
    {
     "data": {
      "text/plain": [
       "6-element Array{Float64,1}:\n",
       "     0.0        \n",
       "     5.82077e-11\n",
       "     0.0        \n",
       "   184.404      \n",
       " -1282.82       \n",
       "   740.714      "
      ]
     },
     "metadata": {},
     "output_type": "display_data"
    },
    {
     "name": "stdout",
     "output_type": "stream",
     "text": [
      "elapsed time: 1.187306349 seconds\n"
     ]
    },
    {
     "data": {
      "text/plain": [
       "6-element Array{Float64,1}:\n",
       "   -5.68434e-14\n",
       "    1.45519e-11\n",
       "    0.0        \n",
       "  542.189      \n",
       "    4.39663    \n",
       " -314.756      "
      ]
     },
     "metadata": {},
     "output_type": "display_data"
    },
    {
     "data": {
      "text/plain": [
       "6-element Array{Float64,1}:\n",
       "   -5.68434e-14\n",
       "    1.45519e-11\n",
       "    0.0        \n",
       "  542.189      \n",
       "    4.39663    \n",
       " -314.756      "
      ]
     },
     "metadata": {},
     "output_type": "display_data"
    },
    {
     "name": "stdout",
     "output_type": "stream",
     "text": [
      "elapsed time: 0.686131374 seconds\n"
     ]
    },
    {
     "data": {
      "text/plain": [
       "6-element Array{Float64,1}:\n",
       "  2.22045e-16\n",
       "  1.42109e-14\n",
       " -4.44089e-16\n",
       "  1.41329    \n",
       "  0.0109477  \n",
       " -0.823054   "
      ]
     },
     "metadata": {},
     "output_type": "display_data"
    },
    {
     "data": {
      "text/plain": [
       "6-element Array{Float64,1}:\n",
       "  2.22045e-16\n",
       "  1.42109e-14\n",
       " -4.44089e-16\n",
       "  1.41329    \n",
       "  0.0109477  \n",
       " -0.823054   "
      ]
     },
     "metadata": {},
     "output_type": "display_data"
    },
    {
     "name": "stdout",
     "output_type": "stream",
     "text": [
      "elapsed time: 1.075605628 seconds\n"
     ]
    },
    {
     "data": {
      "text/plain": [
       "6-element Array{Float64,1}:\n",
       "   0.0        \n",
       "  -4.54747e-13\n",
       "   0.0        \n",
       " -13.2049     \n",
       "   0.35786    \n",
       "  -3.35634    "
      ]
     },
     "metadata": {},
     "output_type": "display_data"
    },
    {
     "data": {
      "text/plain": [
       "6-element Array{Float64,1}:\n",
       "   0.0        \n",
       "  -4.54747e-13\n",
       "   0.0        \n",
       " -13.2049     \n",
       "   0.35786    \n",
       "  -3.35634    "
      ]
     },
     "metadata": {},
     "output_type": "display_data"
    },
    {
     "name": "stdout",
     "output_type": "stream",
     "text": [
      "elapsed time: 1.048967843 seconds\n"
     ]
    },
    {
     "data": {
      "text/plain": [
       "6-element Array{Float64,1}:\n",
       "  3.63798e-12\n",
       "  7.10543e-15\n",
       "  0.0        \n",
       " -8.89464    \n",
       " 78.0158     \n",
       "  3.28083    "
      ]
     },
     "metadata": {},
     "output_type": "display_data"
    },
    {
     "data": {
      "text/plain": [
       "6-element Array{Float64,1}:\n",
       "  3.63798e-12\n",
       "  7.10543e-15\n",
       "  0.0        \n",
       " -8.89464    \n",
       " 78.0158     \n",
       "  3.28083    "
      ]
     },
     "metadata": {},
     "output_type": "display_data"
    },
    {
     "name": "stdout",
     "output_type": "stream",
     "text": [
      "elapsed time: 0.683242107 seconds\n"
     ]
    },
    {
     "data": {
      "text/plain": [
       "6-element Array{Float64,1}:\n",
       "     0.0        \n",
       "     1.45519e-11\n",
       "    -1.16415e-10\n",
       "   -54.837      \n",
       " -2519.7        \n",
       "  -276.869      "
      ]
     },
     "metadata": {},
     "output_type": "display_data"
    },
    {
     "data": {
      "text/plain": [
       "6-element Array{Float64,1}:\n",
       "     0.0        \n",
       "     1.45519e-11\n",
       "    -1.16415e-10\n",
       "   -54.837      \n",
       " -2519.7        \n",
       "  -276.869      "
      ]
     },
     "metadata": {},
     "output_type": "display_data"
    },
    {
     "name": "stdout",
     "output_type": "stream",
     "text": [
      "elapsed time: 1.152056889 seconds\n"
     ]
    },
    {
     "data": {
      "text/plain": [
       "6-element Array{Float64,1}:\n",
       "    0.0        \n",
       "   -1.81899e-12\n",
       "    0.0        \n",
       "   54.1238     \n",
       " -386.381      \n",
       "    9.60351    "
      ]
     },
     "metadata": {},
     "output_type": "display_data"
    },
    {
     "data": {
      "text/plain": [
       "6-element Array{Float64,1}:\n",
       "    0.0        \n",
       "   -1.81899e-12\n",
       "    0.0        \n",
       "   54.1238     \n",
       " -386.381      \n",
       "    9.60351    "
      ]
     },
     "metadata": {},
     "output_type": "display_data"
    },
    {
     "name": "stdout",
     "output_type": "stream",
     "text": [
      "elapsed time: 0.774403818 seconds\n"
     ]
    },
    {
     "data": {
      "text/plain": [
       "6-element Array{Float64,1}:\n",
       "      0.0      \n",
       "      0.0      \n",
       "      0.0      \n",
       " -25469.3      \n",
       "   2352.61     \n",
       "     -1.04462e5"
      ]
     },
     "metadata": {},
     "output_type": "display_data"
    },
    {
     "data": {
      "text/plain": [
       "6-element Array{Float64,1}:\n",
       "      0.0      \n",
       "      0.0      \n",
       "      0.0      \n",
       " -25469.3      \n",
       "   2352.61     \n",
       "     -1.04462e5"
      ]
     },
     "metadata": {},
     "output_type": "display_data"
    },
    {
     "name": "stdout",
     "output_type": "stream",
     "text": [
      "elapsed time: 1.059412892 seconds\n"
     ]
    },
    {
     "data": {
      "text/plain": [
       "6-element Array{Float64,1}:\n",
       " -1.19209e-7\n",
       "  0.0       \n",
       "  0.0       \n",
       "  4.85379e7 \n",
       "  8.66958e6 \n",
       "  2.20271e8 "
      ]
     },
     "metadata": {},
     "output_type": "display_data"
    },
    {
     "data": {
      "text/plain": [
       "6-element Array{Float64,1}:\n",
       " -1.19209e-7\n",
       "  0.0       \n",
       "  0.0       \n",
       "  4.85379e7 \n",
       "  8.66958e6 \n",
       "  2.20271e8 "
      ]
     },
     "metadata": {},
     "output_type": "display_data"
    },
    {
     "name": "stdout",
     "output_type": "stream",
     "text": [
      "elapsed time: 1.060006867 seconds\n"
     ]
    },
    {
     "data": {
      "text/plain": [
       "6-element Array{Float64,1}:\n",
       "     0.0      \n",
       "     0.0      \n",
       "     0.0      \n",
       "  6633.05     \n",
       "    -1.01331e6\n",
       " 17293.8      "
      ]
     },
     "metadata": {},
     "output_type": "display_data"
    },
    {
     "data": {
      "text/plain": [
       "6-element Array{Float64,1}:\n",
       "     0.0      \n",
       "     0.0      \n",
       "     0.0      \n",
       "  6633.05     \n",
       "    -1.01331e6\n",
       " 17293.8      "
      ]
     },
     "metadata": {},
     "output_type": "display_data"
    },
    {
     "name": "stdout",
     "output_type": "stream",
     "text": [
      "elapsed time: 0.673549242 seconds\n"
     ]
    },
    {
     "data": {
      "text/plain": [
       "6-element Array{Float64,1}:\n",
       "  1.77636e-15\n",
       "  0.0        \n",
       "  0.0        \n",
       " -0.321955   \n",
       "  0.136      \n",
       " -0.974018   "
      ]
     },
     "metadata": {},
     "output_type": "display_data"
    },
    {
     "data": {
      "text/plain": [
       "6-element Array{Float64,1}:\n",
       "  1.77636e-15\n",
       "  0.0        \n",
       "  0.0        \n",
       " -0.321955   \n",
       "  0.136      \n",
       " -0.974018   "
      ]
     },
     "metadata": {},
     "output_type": "display_data"
    },
    {
     "name": "stdout",
     "output_type": "stream",
     "text": [
      "elapsed time: 1.170227422 seconds\n"
     ]
    },
    {
     "data": {
      "text/plain": [
       "6-element Array{Float64,1}:\n",
       "  2.27374e-13\n",
       "  0.0        \n",
       "  0.0        \n",
       " -0.225393   \n",
       " 13.0871     \n",
       "  0.379904   "
      ]
     },
     "metadata": {},
     "output_type": "display_data"
    },
    {
     "data": {
      "text/plain": [
       "6-element Array{Float64,1}:\n",
       "  2.27374e-13\n",
       "  0.0        \n",
       "  0.0        \n",
       " -0.225393   \n",
       " 13.0871     \n",
       "  0.379904   "
      ]
     },
     "metadata": {},
     "output_type": "display_data"
    },
    {
     "name": "stdout",
     "output_type": "stream",
     "text": [
      "elapsed time: 0.687821113 seconds\n"
     ]
    },
    {
     "data": {
      "text/plain": [
       "6-element Array{Float64,1}:\n",
       "     0.0   \n",
       "     0.0   \n",
       "     0.0   \n",
       "    28.4172\n",
       " -3549.27  \n",
       "    55.7826"
      ]
     },
     "metadata": {},
     "output_type": "display_data"
    },
    {
     "data": {
      "text/plain": [
       "6-element Array{Float64,1}:\n",
       "     0.0   \n",
       "     0.0   \n",
       "     0.0   \n",
       "    28.4172\n",
       " -3549.27  \n",
       "    55.7826"
      ]
     },
     "metadata": {},
     "output_type": "display_data"
    },
    {
     "name": "stdout",
     "output_type": "stream",
     "text": [
      "elapsed time: 1.059796647 seconds\n"
     ]
    },
    {
     "data": {
      "text/plain": [
       "6-element Array{Float64,1}:\n",
       "    -1.13687e-13\n",
       "     1.45519e-11\n",
       "     0.0        \n",
       " -1472.72       \n",
       "    -6.84776    \n",
       "   869.324      "
      ]
     },
     "metadata": {},
     "output_type": "display_data"
    },
    {
     "data": {
      "text/plain": [
       "6-element Array{Float64,1}:\n",
       "    -1.13687e-13\n",
       "     1.45519e-11\n",
       "     0.0        \n",
       " -1472.72       \n",
       "    -6.84776    \n",
       "   869.324      "
      ]
     },
     "metadata": {},
     "output_type": "display_data"
    },
    {
     "name": "stdout",
     "output_type": "stream",
     "text": [
      "elapsed time: 1.323407313 seconds\n"
     ]
    },
    {
     "data": {
      "text/plain": [
       "6-element Array{Float64,1}:\n",
       "    0.0        \n",
       "    4.26326e-14\n",
       "   -7.27596e-12\n",
       "    5.34278    \n",
       " -118.25       \n",
       "   -1.64889    "
      ]
     },
     "metadata": {},
     "output_type": "display_data"
    },
    {
     "data": {
      "text/plain": [
       "6-element Array{Float64,1}:\n",
       "    0.0        \n",
       "    4.26326e-14\n",
       "   -7.27596e-12\n",
       "    5.34278    \n",
       " -118.25       \n",
       "   -1.64889    "
      ]
     },
     "metadata": {},
     "output_type": "display_data"
    },
    {
     "name": "stdout",
     "output_type": "stream",
     "text": [
      "elapsed time: 1.017807643 seconds\n"
     ]
    },
    {
     "data": {
      "text/plain": [
       "6-element Array{Float64,1}:\n",
       "   0.0        \n",
       "   0.0        \n",
       "  -3.63798e-12\n",
       "  28.8383     \n",
       " -91.1748     \n",
       "  -7.2928     "
      ]
     },
     "metadata": {},
     "output_type": "display_data"
    },
    {
     "data": {
      "text/plain": [
       "6-element Array{Float64,1}:\n",
       "   0.0        \n",
       "   0.0        \n",
       "  -3.63798e-12\n",
       "  28.8383     \n",
       " -91.1748     \n",
       "  -7.2928     "
      ]
     },
     "metadata": {},
     "output_type": "display_data"
    },
    {
     "name": "stdout",
     "output_type": "stream",
     "text": [
      "elapsed time: 1.415177362 seconds\n"
     ]
    },
    {
     "data": {
      "text/plain": [
       "6-element Array{Float64,1}:\n",
       "      1.45519e-11\n",
       "      0.0        \n",
       "      1.16415e-10\n",
       "  -9367.68       \n",
       "   -789.371      \n",
       " -38565.0        "
      ]
     },
     "metadata": {},
     "output_type": "display_data"
    },
    {
     "data": {
      "text/plain": [
       "6-element Array{Float64,1}:\n",
       "      1.45519e-11\n",
       "      0.0        \n",
       "      1.16415e-10\n",
       "  -9367.68       \n",
       "   -789.371      \n",
       " -38565.0        "
      ]
     },
     "metadata": {},
     "output_type": "display_data"
    },
    {
     "name": "stdout",
     "output_type": "stream",
     "text": [
      "elapsed time: 0.716346078 seconds\n"
     ]
    },
    {
     "data": {
      "text/plain": [
       "6-element Array{Float64,1}:\n",
       "     0.0        \n",
       "     0.0        \n",
       "     5.82077e-11\n",
       "    73.6667     \n",
       " -1417.69       \n",
       "   307.521      "
      ]
     },
     "metadata": {},
     "output_type": "display_data"
    },
    {
     "data": {
      "text/plain": [
       "6-element Array{Float64,1}:\n",
       "     0.0        \n",
       "     0.0        \n",
       "     5.82077e-11\n",
       "    73.6667     \n",
       " -1417.69       \n",
       "   307.521      "
      ]
     },
     "metadata": {},
     "output_type": "display_data"
    },
    {
     "name": "stdout",
     "output_type": "stream",
     "text": [
      "elapsed time: 1.088613473 seconds\n"
     ]
    },
    {
     "data": {
      "text/plain": [
       "6-element Array{Float64,1}:\n",
       "   -7.27596e-12\n",
       "   -5.82077e-11\n",
       "    1.45519e-11\n",
       " -220.76       \n",
       " -234.615      \n",
       " -909.493      "
      ]
     },
     "metadata": {},
     "output_type": "display_data"
    },
    {
     "data": {
      "text/plain": [
       "6-element Array{Float64,1}:\n",
       "   -7.27596e-12\n",
       "   -5.82077e-11\n",
       "    1.45519e-11\n",
       " -220.76       \n",
       " -234.615      \n",
       " -909.493      "
      ]
     },
     "metadata": {},
     "output_type": "display_data"
    },
    {
     "name": "stdout",
     "output_type": "stream",
     "text": [
      "elapsed time: 1.206613115 seconds\n"
     ]
    },
    {
     "data": {
      "text/plain": [
       "6-element Array{Float64,1}:\n",
       "     0.0        \n",
       "     4.65661e-10\n",
       "    -5.82077e-11\n",
       "  -803.387      \n",
       "  1359.71       \n",
       " -3279.58       "
      ]
     },
     "metadata": {},
     "output_type": "display_data"
    },
    {
     "data": {
      "text/plain": [
       "6-element Array{Float64,1}:\n",
       "     0.0        \n",
       "     4.65661e-10\n",
       "    -5.82077e-11\n",
       "  -803.387      \n",
       "  1359.71       \n",
       " -3279.58       "
      ]
     },
     "metadata": {},
     "output_type": "display_data"
    },
    {
     "name": "stdout",
     "output_type": "stream",
     "text": [
      "elapsed time: 0.858678769 seconds\n"
     ]
    },
    {
     "data": {
      "text/plain": [
       "6-element Array{Float64,1}:\n",
       "     -5.82077e-11\n",
       "     -1.86265e-9 \n",
       "     -1.16415e-10\n",
       "  -6323.31       \n",
       "  -2896.01       \n",
       " -25996.1        "
      ]
     },
     "metadata": {},
     "output_type": "display_data"
    },
    {
     "data": {
      "text/plain": [
       "6-element Array{Float64,1}:\n",
       "     -5.82077e-11\n",
       "     -1.86265e-9 \n",
       "     -1.16415e-10\n",
       "  -6323.31       \n",
       "  -2896.01       \n",
       " -25996.1        "
      ]
     },
     "metadata": {},
     "output_type": "display_data"
    },
    {
     "name": "stdout",
     "output_type": "stream",
     "text": [
      "elapsed time: 0.816509215 seconds\n"
     ]
    },
    {
     "data": {
      "text/plain": [
       "6-element Array{Float64,1}:\n",
       "   4.26326e-14\n",
       "  -1.45519e-11\n",
       "   0.0        \n",
       "  50.3304     \n",
       "  -1.27246    \n",
       " 224.053      "
      ]
     },
     "metadata": {},
     "output_type": "display_data"
    },
    {
     "data": {
      "text/plain": [
       "6-element Array{Float64,1}:\n",
       "   4.26326e-14\n",
       "  -1.45519e-11\n",
       "   0.0        \n",
       "  50.3304     \n",
       "  -1.27246    \n",
       " 224.053      "
      ]
     },
     "metadata": {},
     "output_type": "display_data"
    },
    {
     "name": "stdout",
     "output_type": "stream",
     "text": [
      "elapsed time: 1.081854901 seconds\n"
     ]
    },
    {
     "data": {
      "text/plain": [
       "6-element Array{Float64,1}:\n",
       "    -3.63798e-12\n",
       "     1.16415e-10\n",
       "     0.0        \n",
       "  -398.004      \n",
       "  -226.141      \n",
       " -1589.81       "
      ]
     },
     "metadata": {},
     "output_type": "display_data"
    },
    {
     "data": {
      "text/plain": [
       "6-element Array{Float64,1}:\n",
       "    -3.63798e-12\n",
       "     1.16415e-10\n",
       "     0.0        \n",
       "  -398.004      \n",
       "  -226.141      \n",
       " -1589.81       "
      ]
     },
     "metadata": {},
     "output_type": "display_data"
    },
    {
     "name": "stdout",
     "output_type": "stream",
     "text": [
      "elapsed time: 0.729314273 seconds\n"
     ]
    },
    {
     "data": {
      "text/plain": [
       "6-element Array{Float64,1}:\n",
       "  -1.81899e-12\n",
       "   2.84217e-14\n",
       "   0.0        \n",
       "   4.41057    \n",
       " -96.146      \n",
       "  -1.36196    "
      ]
     },
     "metadata": {},
     "output_type": "display_data"
    },
    {
     "data": {
      "text/plain": [
       "6-element Array{Float64,1}:\n",
       "  -1.81899e-12\n",
       "   2.84217e-14\n",
       "   0.0        \n",
       "   4.41057    \n",
       " -96.146      \n",
       "  -1.36196    "
      ]
     },
     "metadata": {},
     "output_type": "display_data"
    },
    {
     "name": "stdout",
     "output_type": "stream",
     "text": [
      "elapsed time: 1.120176022 seconds\n"
     ]
    },
    {
     "data": {
      "text/plain": [
       "6-element Array{Float64,1}:\n",
       "   -3.63798e-12\n",
       "    2.91038e-11\n",
       "    0.0        \n",
       " -151.14       \n",
       "  188.044      \n",
       " -603.147      "
      ]
     },
     "metadata": {},
     "output_type": "display_data"
    },
    {
     "data": {
      "text/plain": [
       "6-element Array{Float64,1}:\n",
       "   -3.63798e-12\n",
       "    2.91038e-11\n",
       "    0.0        \n",
       " -151.14       \n",
       "  188.044      \n",
       " -603.147      "
      ]
     },
     "metadata": {},
     "output_type": "display_data"
    },
    {
     "name": "stdout",
     "output_type": "stream",
     "text": [
      "elapsed time: 0.696477442 seconds\n"
     ]
    },
    {
     "data": {
      "text/plain": [
       "6-element Array{Float64,1}:\n",
       "    0.0        \n",
       "    0.0        \n",
       "    1.16415e-10\n",
       "  641.7        \n",
       " 2766.19       \n",
       " 2704.39       "
      ]
     },
     "metadata": {},
     "output_type": "display_data"
    },
    {
     "data": {
      "text/plain": [
       "6-element Array{Float64,1}:\n",
       "    0.0        \n",
       "    0.0        \n",
       "    1.16415e-10\n",
       "  641.7        \n",
       " 2766.19       \n",
       " 2704.39       "
      ]
     },
     "metadata": {},
     "output_type": "display_data"
    },
    {
     "name": "stdout",
     "output_type": "stream",
     "text": [
      "elapsed time: 1.158925116 seconds\n"
     ]
    },
    {
     "data": {
      "text/plain": [
       "6-element Array{Float64,1}:\n",
       "  7.10543e-15\n",
       "  0.0        \n",
       "  0.0        \n",
       "  3.1099     \n",
       "  0.591745   \n",
       " -2.22972    "
      ]
     },
     "metadata": {},
     "output_type": "display_data"
    },
    {
     "data": {
      "text/plain": [
       "6-element Array{Float64,1}:\n",
       "  7.10543e-15\n",
       "  0.0        \n",
       "  0.0        \n",
       "  3.1099     \n",
       "  0.591745   \n",
       " -2.22972    "
      ]
     },
     "metadata": {},
     "output_type": "display_data"
    },
    {
     "name": "stdout",
     "output_type": "stream",
     "text": [
      "elapsed time: 0.726739527 seconds\n"
     ]
    },
    {
     "data": {
      "text/plain": [
       "6-element Array{Float64,1}:\n",
       "     0.0        \n",
       "     1.16415e-10\n",
       "     9.31323e-10\n",
       "  -639.342      \n",
       " 16255.1        \n",
       " -2381.2        "
      ]
     },
     "metadata": {},
     "output_type": "display_data"
    },
    {
     "data": {
      "text/plain": [
       "6-element Array{Float64,1}:\n",
       "     0.0        \n",
       "     1.16415e-10\n",
       "     9.31323e-10\n",
       "  -639.342      \n",
       " 16255.1        \n",
       " -2381.2        "
      ]
     },
     "metadata": {},
     "output_type": "display_data"
    },
    {
     "name": "stdout",
     "output_type": "stream",
     "text": [
      "elapsed time: 0.697984018 seconds\n"
     ]
    },
    {
     "data": {
      "text/plain": [
       "6-element Array{Float64,1}:\n",
       " -4.54747e-13\n",
       " -7.10543e-15\n",
       "  0.0        \n",
       " -1.6313     \n",
       " 34.2053     \n",
       "  0.524584   "
      ]
     },
     "metadata": {},
     "output_type": "display_data"
    },
    {
     "data": {
      "text/plain": [
       "6-element Array{Float64,1}:\n",
       " -4.54747e-13\n",
       " -7.10543e-15\n",
       "  0.0        \n",
       " -1.6313     \n",
       " 34.2053     \n",
       "  0.524584   "
      ]
     },
     "metadata": {},
     "output_type": "display_data"
    },
    {
     "name": "stdout",
     "output_type": "stream",
     "text": [
      "elapsed time: 1.242040653 seconds\n"
     ]
    },
    {
     "data": {
      "text/plain": [
       "6-element Array{Float64,1}:\n",
       "   -3.63798e-12\n",
       "    7.27596e-12\n",
       "   -1.45519e-11\n",
       "  -15.728      \n",
       "  288.868      \n",
       " -141.57       "
      ]
     },
     "metadata": {},
     "output_type": "display_data"
    },
    {
     "data": {
      "text/plain": [
       "6-element Array{Float64,1}:\n",
       "   -3.63798e-12\n",
       "    7.27596e-12\n",
       "   -1.45519e-11\n",
       "  -15.728      \n",
       "  288.868      \n",
       " -141.57       "
      ]
     },
     "metadata": {},
     "output_type": "display_data"
    },
    {
     "name": "stdout",
     "output_type": "stream",
     "text": [
      "elapsed time: 1.110598727 seconds\n"
     ]
    },
    {
     "data": {
      "text/plain": [
       "6-element Array{Float64,1}:\n",
       " -4.54747e-13\n",
       " -7.10543e-15\n",
       "  0.0        \n",
       " -1.6313     \n",
       " 34.2053     \n",
       "  0.524584   "
      ]
     },
     "metadata": {},
     "output_type": "display_data"
    },
    {
     "data": {
      "text/plain": [
       "6-element Array{Float64,1}:\n",
       " -4.54747e-13\n",
       " -7.10543e-15\n",
       "  0.0        \n",
       " -1.6313     \n",
       " 34.2053     \n",
       "  0.524584   "
      ]
     },
     "metadata": {},
     "output_type": "display_data"
    },
    {
     "name": "stdout",
     "output_type": "stream",
     "text": [
      "elapsed time: 0.688968676 seconds\n"
     ]
    },
    {
     "data": {
      "text/plain": [
       "6-element Array{Float64,1}:\n",
       "     5.82077e-11\n",
       "     0.0        \n",
       "     0.0        \n",
       "   796.566      \n",
       " -4290.92       \n",
       "  3211.32       "
      ]
     },
     "metadata": {},
     "output_type": "display_data"
    },
    {
     "data": {
      "text/plain": [
       "6-element Array{Float64,1}:\n",
       "     5.82077e-11\n",
       "     0.0        \n",
       "     0.0        \n",
       "   796.566      \n",
       " -4290.92       \n",
       "  3211.32       "
      ]
     },
     "metadata": {},
     "output_type": "display_data"
    },
    {
     "name": "stdout",
     "output_type": "stream",
     "text": [
      "elapsed time: 1.129124784 seconds\n"
     ]
    },
    {
     "data": {
      "text/plain": [
       "6-element Array{Float64,1}:\n",
       "     0.0        \n",
       "    -5.82077e-11\n",
       "     2.32831e-10\n",
       "  -388.74       \n",
       "  4542.08       \n",
       " -1401.63       "
      ]
     },
     "metadata": {},
     "output_type": "display_data"
    },
    {
     "data": {
      "text/plain": [
       "6-element Array{Float64,1}:\n",
       "     0.0        \n",
       "    -5.82077e-11\n",
       "     2.32831e-10\n",
       "  -388.74       \n",
       "  4542.08       \n",
       " -1401.63       "
      ]
     },
     "metadata": {},
     "output_type": "display_data"
    },
    {
     "name": "stdout",
     "output_type": "stream",
     "text": [
      "elapsed time: 0.703515919 seconds\n"
     ]
    },
    {
     "data": {
      "text/plain": [
       "6-element Array{Float64,1}:\n",
       "     0.0  \n",
       "     0.0  \n",
       "     0.0  \n",
       "  -379.642\n",
       " 43268.5  \n",
       "  -798.431"
      ]
     },
     "metadata": {},
     "output_type": "display_data"
    },
    {
     "data": {
      "text/plain": [
       "6-element Array{Float64,1}:\n",
       "     0.0  \n",
       "     0.0  \n",
       "     0.0  \n",
       "  -379.642\n",
       " 43268.5  \n",
       "  -798.431"
      ]
     },
     "metadata": {},
     "output_type": "display_data"
    },
    {
     "name": "stdout",
     "output_type": "stream",
     "text": [
      "elapsed time: 1.05986542 seconds\n"
     ]
    },
    {
     "data": {
      "text/plain": [
       "6-element Array{Float64,1}:\n",
       "  0.0        \n",
       "  0.0        \n",
       " -3.63798e-12\n",
       " -9.18642    \n",
       " 51.7669     \n",
       " -3.53154    "
      ]
     },
     "metadata": {},
     "output_type": "display_data"
    },
    {
     "data": {
      "text/plain": [
       "6-element Array{Float64,1}:\n",
       "  0.0        \n",
       "  0.0        \n",
       " -3.63798e-12\n",
       " -9.18642    \n",
       " 51.7669     \n",
       " -3.53154    "
      ]
     },
     "metadata": {},
     "output_type": "display_data"
    },
    {
     "name": "stdout",
     "output_type": "stream",
     "text": [
      "elapsed time: 1.080541598 seconds\n"
     ]
    },
    {
     "data": {
      "text/plain": [
       "6-element Array{Float64,1}:\n",
       "     -9.31323e-10\n",
       "     -4.65661e-10\n",
       "      0.0        \n",
       "   3389.56       \n",
       " -53106.6        \n",
       "   7910.66       "
      ]
     },
     "metadata": {},
     "output_type": "display_data"
    },
    {
     "data": {
      "text/plain": [
       "6-element Array{Float64,1}:\n",
       "     -9.31323e-10\n",
       "     -4.65661e-10\n",
       "      0.0        \n",
       "   3389.56       \n",
       " -53106.6        \n",
       "   7910.66       "
      ]
     },
     "metadata": {},
     "output_type": "display_data"
    },
    {
     "name": "stdout",
     "output_type": "stream",
     "text": [
      "elapsed time: 0.682533196 seconds\n"
     ]
    },
    {
     "data": {
      "text/plain": [
       "6-element Array{Float64,1}:\n",
       "  4.76837e-7\n",
       "  1.90735e-6\n",
       "  0.0       \n",
       "  1.6766e7  \n",
       " -2.66345e7 \n",
       "  3.97743e7 "
      ]
     },
     "metadata": {},
     "output_type": "display_data"
    },
    {
     "data": {
      "text/plain": [
       "6-element Array{Float64,1}:\n",
       "  4.76837e-7\n",
       "  1.90735e-6\n",
       "  0.0       \n",
       "  1.6766e7  \n",
       " -2.66345e7 \n",
       "  3.97743e7 "
      ]
     },
     "metadata": {},
     "output_type": "display_data"
    },
    {
     "name": "stdout",
     "output_type": "stream",
     "text": [
      "elapsed time: 1.142254593 seconds\n"
     ]
    },
    {
     "data": {
      "text/plain": [
       "6-element Array{Float64,1}:\n",
       "  3.57628e-7\n",
       " -6.10352e-5\n",
       "  4.76837e-7\n",
       "  3.08095e8 \n",
       "  1.01276e6 \n",
       "  1.33974e9 "
      ]
     },
     "metadata": {},
     "output_type": "display_data"
    },
    {
     "data": {
      "text/plain": [
       "6-element Array{Float64,1}:\n",
       "  3.57628e-7\n",
       " -6.10352e-5\n",
       "  4.76837e-7\n",
       "  3.08095e8 \n",
       "  1.01276e6 \n",
       "  1.33974e9 "
      ]
     },
     "metadata": {},
     "output_type": "display_data"
    },
    {
     "name": "stdout",
     "output_type": "stream",
     "text": [
      "elapsed time: 0.69326925 seconds\n"
     ]
    },
    {
     "data": {
      "text/plain": [
       "6-element Array{Float64,1}:\n",
       "  7.10543e-15\n",
       " -5.68434e-14\n",
       "  0.0        \n",
       "  0.422313   \n",
       " -0.350598   \n",
       "  0.79251    "
      ]
     },
     "metadata": {},
     "output_type": "display_data"
    },
    {
     "data": {
      "text/plain": [
       "6-element Array{Float64,1}:\n",
       "  7.10543e-15\n",
       " -5.68434e-14\n",
       "  0.0        \n",
       "  0.422313   \n",
       " -0.350598   \n",
       "  0.79251    "
      ]
     },
     "metadata": {},
     "output_type": "display_data"
    },
    {
     "name": "stdout",
     "output_type": "stream",
     "text": [
      "elapsed time: 1.061311971 seconds\n"
     ]
    },
    {
     "data": {
      "text/plain": [
       "6-element Array{Float64,1}:\n",
       "    3.63798e-12\n",
       "   -3.63798e-12\n",
       "    0.0        \n",
       " -104.19       \n",
       "  213.725      \n",
       "  -47.9389     "
      ]
     },
     "metadata": {},
     "output_type": "display_data"
    },
    {
     "data": {
      "text/plain": [
       "6-element Array{Float64,1}:\n",
       "    3.63798e-12\n",
       "   -3.63798e-12\n",
       "    0.0        \n",
       " -104.19       \n",
       "  213.725      \n",
       "  -47.9389     "
      ]
     },
     "metadata": {},
     "output_type": "display_data"
    },
    {
     "name": "stdout",
     "output_type": "stream",
     "text": [
      "elapsed time: 1.08430482 seconds\n"
     ]
    },
    {
     "data": {
      "text/plain": [
       "6-element Array{Float64,1}:\n",
       "     2.32831e-10\n",
       "     0.0        \n",
       "     0.0        \n",
       "   173.246      \n",
       " 18846.7        \n",
       "  1056.62       "
      ]
     },
     "metadata": {},
     "output_type": "display_data"
    },
    {
     "data": {
      "text/plain": [
       "6-element Array{Float64,1}:\n",
       "     2.32831e-10\n",
       "     0.0        \n",
       "     0.0        \n",
       "   173.246      \n",
       " 18846.7        \n",
       "  1056.62       "
      ]
     },
     "metadata": {},
     "output_type": "display_data"
    },
    {
     "name": "stdout",
     "output_type": "stream",
     "text": [
      "elapsed time: 0.680375537 seconds\n"
     ]
    },
    {
     "data": {
      "text/plain": [
       "6-element Array{Float64,1}:\n",
       "    0.0        \n",
       "    5.82077e-11\n",
       "    0.0        \n",
       "  329.355      \n",
       " 4036.9        \n",
       " 1398.81       "
      ]
     },
     "metadata": {},
     "output_type": "display_data"
    },
    {
     "data": {
      "text/plain": [
       "6-element Array{Float64,1}:\n",
       "    0.0        \n",
       "    5.82077e-11\n",
       "    0.0        \n",
       "  329.355      \n",
       " 4036.9        \n",
       " 1398.81       "
      ]
     },
     "metadata": {},
     "output_type": "display_data"
    },
    {
     "name": "stdout",
     "output_type": "stream",
     "text": [
      "elapsed time: 1.155692974 seconds\n"
     ]
    },
    {
     "data": {
      "text/plain": [
       "6-element Array{Float64,1}:\n",
       "   0.0        \n",
       "   1.13687e-13\n",
       "  -3.63798e-12\n",
       "  23.043      \n",
       " -67.8947     \n",
       "  -5.17192    "
      ]
     },
     "metadata": {},
     "output_type": "display_data"
    },
    {
     "data": {
      "text/plain": [
       "6-element Array{Float64,1}:\n",
       "   0.0        \n",
       "   1.13687e-13\n",
       "  -3.63798e-12\n",
       "  23.043      \n",
       " -67.8947     \n",
       "  -5.17192    "
      ]
     },
     "metadata": {},
     "output_type": "display_data"
    },
    {
     "name": "stdout",
     "output_type": "stream",
     "text": [
      "elapsed time: 0.687154619 seconds\n"
     ]
    },
    {
     "data": {
      "text/plain": [
       "6-element Array{Float64,1}:\n",
       "  0.0        \n",
       "  0.0        \n",
       "  2.27374e-13\n",
       "  8.88985    \n",
       " -6.18422    \n",
       " 36.4268     "
      ]
     },
     "metadata": {},
     "output_type": "display_data"
    },
    {
     "data": {
      "text/plain": [
       "6-element Array{Float64,1}:\n",
       "  0.0        \n",
       "  0.0        \n",
       "  2.27374e-13\n",
       "  8.88985    \n",
       " -6.18422    \n",
       " 36.4268     "
      ]
     },
     "metadata": {},
     "output_type": "display_data"
    },
    {
     "name": "stdout",
     "output_type": "stream",
     "text": [
      "elapsed time: 1.067697485 seconds\n"
     ]
    },
    {
     "data": {
      "text/plain": [
       "6-element Array{Float64,1}:\n",
       "      2.32831e-10\n",
       "      0.0        \n",
       "      0.0        \n",
       "     89.6577     \n",
       " -15723.5        \n",
       "     65.1442     "
      ]
     },
     "metadata": {},
     "output_type": "display_data"
    },
    {
     "data": {
      "text/plain": [
       "6-element Array{Float64,1}:\n",
       "      2.32831e-10\n",
       "      0.0        \n",
       "      0.0        \n",
       "     89.6577     \n",
       " -15723.5        \n",
       "     65.1442     "
      ]
     },
     "metadata": {},
     "output_type": "display_data"
    },
    {
     "name": "stdout",
     "output_type": "stream",
     "text": [
      "elapsed time: 1.077933091 seconds\n"
     ]
    },
    {
     "data": {
      "text/plain": [
       "6-element Array{Float64,1}:\n",
       "    2.91038e-11\n",
       "    0.0        \n",
       "    5.82077e-11\n",
       "  -85.5637     \n",
       " 1621.15       \n",
       "   -2.22095    "
      ]
     },
     "metadata": {},
     "output_type": "display_data"
    },
    {
     "data": {
      "text/plain": [
       "6-element Array{Float64,1}:\n",
       "    2.91038e-11\n",
       "    0.0        \n",
       "    5.82077e-11\n",
       "  -85.5637     \n",
       " 1621.15       \n",
       "   -2.22095    "
      ]
     },
     "metadata": {},
     "output_type": "display_data"
    },
    {
     "name": "stdout",
     "output_type": "stream",
     "text": [
      "elapsed time: 0.692212477 seconds\n"
     ]
    },
    {
     "data": {
      "text/plain": [
       "6-element Array{Float64,1}:\n",
       "    0.0  \n",
       "    0.0  \n",
       "    0.0  \n",
       "  517.714\n",
       " -607.63 \n",
       " 2092.37 "
      ]
     },
     "metadata": {},
     "output_type": "display_data"
    },
    {
     "data": {
      "text/plain": [
       "6-element Array{Float64,1}:\n",
       "    0.0  \n",
       "    0.0  \n",
       "    0.0  \n",
       "  517.714\n",
       " -607.63 \n",
       " 2092.37 "
      ]
     },
     "metadata": {},
     "output_type": "display_data"
    },
    {
     "name": "stdout",
     "output_type": "stream",
     "text": [
      "elapsed time: 1.16398264 seconds\n"
     ]
    },
    {
     "data": {
      "text/plain": [
       "6-element Array{Float64,1}:\n",
       "     0.0        \n",
       "    -2.91038e-11\n",
       "     1.16415e-10\n",
       "   -59.9093     \n",
       " -2305.8        \n",
       "  -403.967      "
      ]
     },
     "metadata": {},
     "output_type": "display_data"
    },
    {
     "data": {
      "text/plain": [
       "6-element Array{Float64,1}:\n",
       "     0.0        \n",
       "    -2.91038e-11\n",
       "     1.16415e-10\n",
       "   -59.9093     \n",
       " -2305.8        \n",
       "  -403.967      "
      ]
     },
     "metadata": {},
     "output_type": "display_data"
    },
    {
     "name": "stdout",
     "output_type": "stream",
     "text": [
      "elapsed time: 1.085967937 seconds\n"
     ]
    },
    {
     "data": {
      "text/plain": [
       "6-element Array{Float64,1}:\n",
       "  0.0        \n",
       "  5.68434e-14\n",
       " -6.66134e-16\n",
       "  5.50131    \n",
       "  0.00471322 \n",
       " -3.17738    "
      ]
     },
     "metadata": {},
     "output_type": "display_data"
    },
    {
     "data": {
      "text/plain": [
       "6-element Array{Float64,1}:\n",
       "  0.0        \n",
       "  5.68434e-14\n",
       " -6.66134e-16\n",
       "  5.50131    \n",
       "  0.00471322 \n",
       " -3.17738    "
      ]
     },
     "metadata": {},
     "output_type": "display_data"
    },
    {
     "name": "stdout",
     "output_type": "stream",
     "text": [
      "elapsed time: 0.690511216 seconds\n"
     ]
    },
    {
     "data": {
      "text/plain": [
       "6-element Array{Float64,1}:\n",
       "   -3.63798e-12\n",
       "    7.27596e-12\n",
       "    0.0        \n",
       "  -44.2394     \n",
       " -191.774      \n",
       " -129.475      "
      ]
     },
     "metadata": {},
     "output_type": "display_data"
    },
    {
     "data": {
      "text/plain": [
       "6-element Array{Float64,1}:\n",
       "   -3.63798e-12\n",
       "    7.27596e-12\n",
       "    0.0        \n",
       "  -44.2394     \n",
       " -191.774      \n",
       " -129.475      "
      ]
     },
     "metadata": {},
     "output_type": "display_data"
    },
    {
     "name": "stdout",
     "output_type": "stream",
     "text": [
      "elapsed time: 1.143155618 seconds\n"
     ]
    },
    {
     "data": {
      "text/plain": [
       "6-element Array{Float64,1}:\n",
       "    3.63798e-12\n",
       "   -2.32831e-10\n",
       "   -1.45519e-11\n",
       "  421.206      \n",
       "  235.435      \n",
       " 1785.04       "
      ]
     },
     "metadata": {},
     "output_type": "display_data"
    },
    {
     "data": {
      "text/plain": [
       "6-element Array{Float64,1}:\n",
       "    3.63798e-12\n",
       "   -2.32831e-10\n",
       "   -1.45519e-11\n",
       "  421.206      \n",
       "  235.435      \n",
       " 1785.04       "
      ]
     },
     "metadata": {},
     "output_type": "display_data"
    },
    {
     "name": "stdout",
     "output_type": "stream",
     "text": [
      "elapsed time: 0.688506494 seconds\n"
     ]
    },
    {
     "data": {
      "text/plain": [
       "6-element Array{Float64,1}:\n",
       " -9.09495e-13\n",
       " -2.84217e-13\n",
       " -3.63798e-12\n",
       "  7.40386    \n",
       " 57.857      \n",
       " -1.09274    "
      ]
     },
     "metadata": {},
     "output_type": "display_data"
    },
    {
     "data": {
      "text/plain": [
       "6-element Array{Float64,1}:\n",
       " -9.09495e-13\n",
       " -2.84217e-13\n",
       " -3.63798e-12\n",
       "  7.40386    \n",
       " 57.857      \n",
       " -1.09274    "
      ]
     },
     "metadata": {},
     "output_type": "display_data"
    },
    {
     "name": "stdout",
     "output_type": "stream",
     "text": [
      "elapsed time: 1.071941273 seconds\n"
     ]
    },
    {
     "data": {
      "text/plain": [
       "6-element Array{Float64,1}:\n",
       "  -9.09495e-13\n",
       "   3.63798e-12\n",
       "   0.0        \n",
       "  22.7151     \n",
       " -48.532      \n",
       "  93.5962     "
      ]
     },
     "metadata": {},
     "output_type": "display_data"
    },
    {
     "data": {
      "text/plain": [
       "6-element Array{Float64,1}:\n",
       "  -9.09495e-13\n",
       "   3.63798e-12\n",
       "   0.0        \n",
       "  22.7151     \n",
       " -48.532      \n",
       "  93.5962     "
      ]
     },
     "metadata": {},
     "output_type": "display_data"
    },
    {
     "name": "stdout",
     "output_type": "stream",
     "text": [
      "elapsed time: 1.106929523 seconds\n"
     ]
    },
    {
     "data": {
      "text/plain": [
       "6-element Array{Float64,1}:\n",
       "   -1.16415e-10\n",
       "   -1.16415e-10\n",
       "    0.0        \n",
       "  409.959      \n",
       " 4899.52       \n",
       " 2231.86       "
      ]
     },
     "metadata": {},
     "output_type": "display_data"
    },
    {
     "data": {
      "text/plain": [
       "6-element Array{Float64,1}:\n",
       "   -1.16415e-10\n",
       "   -1.16415e-10\n",
       "    0.0        \n",
       "  409.959      \n",
       " 4899.52       \n",
       " 2231.86       "
      ]
     },
     "metadata": {},
     "output_type": "display_data"
    },
    {
     "name": "stdout",
     "output_type": "stream",
     "text": [
      "elapsed time: 0.689793422 seconds\n"
     ]
    },
    {
     "data": {
      "text/plain": [
       "6-element Array{Float64,1}:\n",
       "     0.0        \n",
       "     1.81899e-12\n",
       "     0.0        \n",
       "   204.516      \n",
       " -1433.04       \n",
       "   -50.8321     "
      ]
     },
     "metadata": {},
     "output_type": "display_data"
    },
    {
     "data": {
      "text/plain": [
       "6-element Array{Float64,1}:\n",
       "     0.0        \n",
       "     1.81899e-12\n",
       "     0.0        \n",
       "   204.516      \n",
       " -1433.04       \n",
       "   -50.8321     "
      ]
     },
     "metadata": {},
     "output_type": "display_data"
    },
    {
     "name": "stdout",
     "output_type": "stream",
     "text": [
      "elapsed time: 1.156038762 seconds\n"
     ]
    },
    {
     "data": {
      "text/plain": [
       "6-element Array{Float64,1}:\n",
       "  4.54747e-13\n",
       "  7.10543e-15\n",
       "  0.0        \n",
       " -1.74247    \n",
       " 31.5766     \n",
       "  0.486661   "
      ]
     },
     "metadata": {},
     "output_type": "display_data"
    },
    {
     "data": {
      "text/plain": [
       "6-element Array{Float64,1}:\n",
       "  4.54747e-13\n",
       "  7.10543e-15\n",
       "  0.0        \n",
       " -1.74247    \n",
       " 31.5766     \n",
       "  0.486661   "
      ]
     },
     "metadata": {},
     "output_type": "display_data"
    },
    {
     "name": "stdout",
     "output_type": "stream",
     "text": [
      "elapsed time: 1.075734474 seconds\n"
     ]
    },
    {
     "data": {
      "text/plain": [
       "6-element Array{Float64,1}:\n",
       "  -3.63798e-12\n",
       "  -3.63798e-12\n",
       "  -7.27596e-12\n",
       "  -8.01192    \n",
       " 125.536      \n",
       " -61.2684     "
      ]
     },
     "metadata": {},
     "output_type": "display_data"
    },
    {
     "data": {
      "text/plain": [
       "6-element Array{Float64,1}:\n",
       "  -3.63798e-12\n",
       "  -3.63798e-12\n",
       "  -7.27596e-12\n",
       "  -8.01192    \n",
       " 125.536      \n",
       " -61.2684     "
      ]
     },
     "metadata": {},
     "output_type": "display_data"
    },
    {
     "name": "stdout",
     "output_type": "stream",
     "text": [
      "elapsed time: 0.682001506 seconds\n"
     ]
    },
    {
     "data": {
      "text/plain": [
       "6-element Array{Float64,1}:\n",
       "    -2.91038e-11\n",
       "    -7.27596e-12\n",
       "     1.16415e-10\n",
       "    69.6795     \n",
       " -1642.51       \n",
       "   156.215      "
      ]
     },
     "metadata": {},
     "output_type": "display_data"
    },
    {
     "data": {
      "text/plain": [
       "6-element Array{Float64,1}:\n",
       "    -2.91038e-11\n",
       "    -7.27596e-12\n",
       "     1.16415e-10\n",
       "    69.6795     \n",
       " -1642.51       \n",
       "   156.215      "
      ]
     },
     "metadata": {},
     "output_type": "display_data"
    },
    {
     "name": "stdout",
     "output_type": "stream",
     "text": [
      "elapsed time: 1.135213726 seconds\n"
     ]
    },
    {
     "data": {
      "text/plain": [
       "6-element Array{Float64,1}:\n",
       "     0.0        \n",
       "     0.0        \n",
       "     1.16415e-10\n",
       "   155.107      \n",
       " -1833.07       \n",
       "    -0.400331   "
      ]
     },
     "metadata": {},
     "output_type": "display_data"
    },
    {
     "data": {
      "text/plain": [
       "6-element Array{Float64,1}:\n",
       "     0.0        \n",
       "     0.0        \n",
       "     1.16415e-10\n",
       "   155.107      \n",
       " -1833.07       \n",
       "    -0.400331   "
      ]
     },
     "metadata": {},
     "output_type": "display_data"
    },
    {
     "name": "stdout",
     "output_type": "stream",
     "text": [
      "elapsed time: 0.67784178 seconds\n"
     ]
    },
    {
     "data": {
      "text/plain": [
       "6-element Array{Float64,1}:\n",
       "  1.42109e-14\n",
       "  4.54747e-13\n",
       " -2.84217e-14\n",
       "  5.72548    \n",
       "  0.67366    \n",
       "  4.71754    "
      ]
     },
     "metadata": {},
     "output_type": "display_data"
    },
    {
     "data": {
      "text/plain": [
       "6-element Array{Float64,1}:\n",
       "  1.42109e-14\n",
       "  4.54747e-13\n",
       " -2.84217e-14\n",
       "  5.72548    \n",
       "  0.67366    \n",
       "  4.71754    "
      ]
     },
     "metadata": {},
     "output_type": "display_data"
    },
    {
     "name": "stdout",
     "output_type": "stream",
     "text": [
      "elapsed time: 1.074711175 seconds\n"
     ]
    },
    {
     "data": {
      "text/plain": [
       "6-element Array{Float64,1}:\n",
       "    -1.16415e-10\n",
       "     0.0        \n",
       "     0.0        \n",
       "  -694.574      \n",
       "  4174.95       \n",
       " -2647.34       "
      ]
     },
     "metadata": {},
     "output_type": "display_data"
    },
    {
     "data": {
      "text/plain": [
       "6-element Array{Float64,1}:\n",
       "    -1.16415e-10\n",
       "     0.0        \n",
       "     0.0        \n",
       "  -694.574      \n",
       "  4174.95       \n",
       " -2647.34       "
      ]
     },
     "metadata": {},
     "output_type": "display_data"
    },
    {
     "name": "stdout",
     "output_type": "stream",
     "text": [
      "elapsed time: 1.081078228 seconds\n"
     ]
    },
    {
     "data": {
      "text/plain": [
       "6-element Array{Float64,1}:\n",
       "    7.27596e-12\n",
       "   -1.16415e-10\n",
       "   -2.91038e-11\n",
       "  397.194      \n",
       " -602.625      \n",
       " 1688.52       "
      ]
     },
     "metadata": {},
     "output_type": "display_data"
    },
    {
     "data": {
      "text/plain": [
       "6-element Array{Float64,1}:\n",
       "    7.27596e-12\n",
       "   -1.16415e-10\n",
       "   -2.91038e-11\n",
       "  397.194      \n",
       " -602.625      \n",
       " 1688.52       "
      ]
     },
     "metadata": {},
     "output_type": "display_data"
    },
    {
     "name": "stdout",
     "output_type": "stream",
     "text": [
      "elapsed time: 0.732868004 seconds\n"
     ]
    },
    {
     "data": {
      "text/plain": [
       "6-element Array{Float64,1}:\n",
       "    -2.32831e-10\n",
       "     0.0        \n",
       "     2.32831e-10\n",
       " -2076.34       \n",
       "  5737.27       \n",
       "   845.468      "
      ]
     },
     "metadata": {},
     "output_type": "display_data"
    },
    {
     "data": {
      "text/plain": [
       "6-element Array{Float64,1}:\n",
       "    -2.32831e-10\n",
       "     0.0        \n",
       "     2.32831e-10\n",
       " -2076.34       \n",
       "  5737.27       \n",
       "   845.468      "
      ]
     },
     "metadata": {},
     "output_type": "display_data"
    },
    {
     "name": "stdout",
     "output_type": "stream",
     "text": [
      "elapsed time: 1.194385868 seconds\n"
     ]
    },
    {
     "data": {
      "text/plain": [
       "6-element Array{Float64,1}:\n",
       "    -1.81899e-12\n",
       "    -1.16415e-10\n",
       "     0.0        \n",
       "  -491.398      \n",
       "  -125.98       \n",
       " -2157.46       "
      ]
     },
     "metadata": {},
     "output_type": "display_data"
    },
    {
     "data": {
      "text/plain": [
       "6-element Array{Float64,1}:\n",
       "    -1.81899e-12\n",
       "    -1.16415e-10\n",
       "     0.0        \n",
       "  -491.398      \n",
       "  -125.98       \n",
       " -2157.46       "
      ]
     },
     "metadata": {},
     "output_type": "display_data"
    },
    {
     "name": "stdout",
     "output_type": "stream",
     "text": [
      "elapsed time: 0.783646916 seconds\n"
     ]
    },
    {
     "data": {
      "text/plain": [
       "6-element Array{Float64,1}:\n",
       "   -2.27374e-13\n",
       "   -7.27596e-12\n",
       "   -9.09495e-13\n",
       "  -25.9486     \n",
       "   14.321      \n",
       " -114.797      "
      ]
     },
     "metadata": {},
     "output_type": "display_data"
    },
    {
     "data": {
      "text/plain": [
       "6-element Array{Float64,1}:\n",
       "   -2.27374e-13\n",
       "   -7.27596e-12\n",
       "   -9.09495e-13\n",
       "  -25.9486     \n",
       "   14.321      \n",
       " -114.797      "
      ]
     },
     "metadata": {},
     "output_type": "display_data"
    },
    {
     "name": "stdout",
     "output_type": "stream",
     "text": [
      "elapsed time: 1.092528735 seconds\n"
     ]
    },
    {
     "data": {
      "text/plain": [
       "6-element Array{Float64,1}:\n",
       "    3.63798e-12\n",
       "   -2.27374e-13\n",
       "    7.27596e-12\n",
       "    2.0029     \n",
       " -156.555      \n",
       "   -4.01229    "
      ]
     },
     "metadata": {},
     "output_type": "display_data"
    },
    {
     "data": {
      "text/plain": [
       "6-element Array{Float64,1}:\n",
       "    3.63798e-12\n",
       "   -2.27374e-13\n",
       "    7.27596e-12\n",
       "    2.0029     \n",
       " -156.555      \n",
       "   -4.01229    "
      ]
     },
     "metadata": {},
     "output_type": "display_data"
    },
    {
     "name": "stdout",
     "output_type": "stream",
     "text": [
      "elapsed time: 1.0817261 seconds\n"
     ]
    },
    {
     "data": {
      "text/plain": [
       "6-element Array{Float64,1}:\n",
       "    0.0        \n",
       "   -1.81899e-12\n",
       "    2.91038e-11\n",
       " -132.055      \n",
       " -648.612      \n",
       "   24.4065     "
      ]
     },
     "metadata": {},
     "output_type": "display_data"
    },
    {
     "data": {
      "text/plain": [
       "6-element Array{Float64,1}:\n",
       "    0.0        \n",
       "   -1.81899e-12\n",
       "    2.91038e-11\n",
       " -132.055      \n",
       " -648.612      \n",
       "   24.4065     "
      ]
     },
     "metadata": {},
     "output_type": "display_data"
    },
    {
     "name": "stdout",
     "output_type": "stream",
     "text": [
      "elapsed time: 0.687538407 seconds\n"
     ]
    },
    {
     "data": {
      "text/plain": [
       "6-element Array{Float64,1}:\n",
       "  -9.09495e-13\n",
       "   1.13687e-13\n",
       "  -1.81899e-12\n",
       "   0.374173   \n",
       " -49.8326     \n",
       "  -2.36134    "
      ]
     },
     "metadata": {},
     "output_type": "display_data"
    },
    {
     "data": {
      "text/plain": [
       "6-element Array{Float64,1}:\n",
       "  -9.09495e-13\n",
       "   1.13687e-13\n",
       "  -1.81899e-12\n",
       "   0.374173   \n",
       " -49.8326     \n",
       "  -2.36134    "
      ]
     },
     "metadata": {},
     "output_type": "display_data"
    },
    {
     "name": "stdout",
     "output_type": "stream",
     "text": [
      "elapsed time: 1.168277152 seconds\n"
     ]
    },
    {
     "data": {
      "text/plain": [
       "6-element Array{Float64,1}:\n",
       "    0.0        \n",
       "   -1.45519e-11\n",
       "   -2.32831e-10\n",
       " -119.386      \n",
       " 5084.32       \n",
       " -189.496      "
      ]
     },
     "metadata": {},
     "output_type": "display_data"
    },
    {
     "data": {
      "text/plain": [
       "6-element Array{Float64,1}:\n",
       "    0.0        \n",
       "   -1.45519e-11\n",
       "   -2.32831e-10\n",
       " -119.386      \n",
       " 5084.32       \n",
       " -189.496      "
      ]
     },
     "metadata": {},
     "output_type": "display_data"
    },
    {
     "name": "stdout",
     "output_type": "stream",
     "text": [
      "elapsed time: 0.686528749 seconds\n"
     ]
    },
    {
     "data": {
      "text/plain": [
       "6-element Array{Float64,1}:\n",
       "    2.91038e-11\n",
       "   -5.82077e-11\n",
       "    1.16415e-10\n",
       "  268.217      \n",
       " 1138.02       \n",
       " 1313.18       "
      ]
     },
     "metadata": {},
     "output_type": "display_data"
    },
    {
     "data": {
      "text/plain": [
       "6-element Array{Float64,1}:\n",
       "    2.91038e-11\n",
       "   -5.82077e-11\n",
       "    1.16415e-10\n",
       "  268.217      \n",
       " 1138.02       \n",
       " 1313.18       "
      ]
     },
     "metadata": {},
     "output_type": "display_data"
    },
    {
     "name": "stdout",
     "output_type": "stream",
     "text": [
      "elapsed time: 1.183367212 seconds\n"
     ]
    },
    {
     "data": {
      "text/plain": [
       "6-element Array{Float64,1}:\n",
       "    3.63798e-12\n",
       "    2.27374e-13\n",
       "    1.45519e-11\n",
       "    2.10862    \n",
       " -169.7        \n",
       "   -3.26617    "
      ]
     },
     "metadata": {},
     "output_type": "display_data"
    },
    {
     "data": {
      "text/plain": [
       "6-element Array{Float64,1}:\n",
       "    3.63798e-12\n",
       "    2.27374e-13\n",
       "    1.45519e-11\n",
       "    2.10862    \n",
       " -169.7        \n",
       "   -3.26617    "
      ]
     },
     "metadata": {},
     "output_type": "display_data"
    },
    {
     "name": "stdout",
     "output_type": "stream",
     "text": [
      "elapsed time: 1.058973313 seconds\n"
     ]
    },
    {
     "data": {
      "text/plain": [
       "6-element Array{Float64,1}:\n",
       "     0.0  \n",
       "     0.0  \n",
       "     0.0  \n",
       "  -807.791\n",
       "  7303.72 \n",
       " -3189.07 "
      ]
     },
     "metadata": {},
     "output_type": "display_data"
    },
    {
     "data": {
      "text/plain": [
       "6-element Array{Float64,1}:\n",
       "     0.0  \n",
       "     0.0  \n",
       "     0.0  \n",
       "  -807.791\n",
       "  7303.72 \n",
       " -3189.07 "
      ]
     },
     "metadata": {},
     "output_type": "display_data"
    },
    {
     "name": "stdout",
     "output_type": "stream",
     "text": [
      "elapsed time: 0.698629746 seconds\n"
     ]
    },
    {
     "data": {
      "text/plain": [
       "6-element Array{Float64,1}:\n",
       "   0.0   \n",
       "   0.0   \n",
       "   0.0   \n",
       "  13.3324\n",
       " -47.0953\n",
       "  29.5428"
      ]
     },
     "metadata": {},
     "output_type": "display_data"
    },
    {
     "data": {
      "text/plain": [
       "6-element Array{Float64,1}:\n",
       "   0.0   \n",
       "   0.0   \n",
       "   0.0   \n",
       "  13.3324\n",
       " -47.0953\n",
       "  29.5428"
      ]
     },
     "metadata": {},
     "output_type": "display_data"
    },
    {
     "name": "stdout",
     "output_type": "stream",
     "text": [
      "elapsed time: 1.14781254 seconds\n"
     ]
    },
    {
     "data": {
      "text/plain": [
       "6-element Array{Float64,1}:\n",
       "     2.91038e-11\n",
       "    -3.63798e-12\n",
       "    -5.82077e-11\n",
       "   131.07       \n",
       " -1529.23       \n",
       "    12.5501     "
      ]
     },
     "metadata": {},
     "output_type": "display_data"
    },
    {
     "data": {
      "text/plain": [
       "6-element Array{Float64,1}:\n",
       "     2.91038e-11\n",
       "    -3.63798e-12\n",
       "    -5.82077e-11\n",
       "   131.07       \n",
       " -1529.23       \n",
       "    12.5501     "
      ]
     },
     "metadata": {},
     "output_type": "display_data"
    },
    {
     "name": "stdout",
     "output_type": "stream",
     "text": [
      "elapsed time: 1.083507714 seconds\n"
     ]
    },
    {
     "data": {
      "text/plain": [
       "6-element Array{Float64,1}:\n",
       "   1.45519e-11\n",
       "   1.36424e-12\n",
       "   2.91038e-11\n",
       " -11.2369     \n",
       " 425.849      \n",
       "  -8.10434    "
      ]
     },
     "metadata": {},
     "output_type": "display_data"
    },
    {
     "data": {
      "text/plain": [
       "6-element Array{Float64,1}:\n",
       "   1.45519e-11\n",
       "   1.36424e-12\n",
       "   2.91038e-11\n",
       " -11.2369     \n",
       " 425.849      \n",
       "  -8.10434    "
      ]
     },
     "metadata": {},
     "output_type": "display_data"
    },
    {
     "name": "stdout",
     "output_type": "stream",
     "text": [
      "elapsed time: 0.674391165 seconds\n"
     ]
    },
    {
     "data": {
      "text/plain": [
       "6-element Array{Float64,1}:\n",
       "  -1.81899e-12\n",
       "  -2.91038e-11\n",
       "  -3.63798e-12\n",
       "  66.9606     \n",
       " -98.6636     \n",
       " 302.018      "
      ]
     },
     "metadata": {},
     "output_type": "display_data"
    },
    {
     "data": {
      "text/plain": [
       "6-element Array{Float64,1}:\n",
       "  -1.81899e-12\n",
       "  -2.91038e-11\n",
       "  -3.63798e-12\n",
       "  66.9606     \n",
       " -98.6636     \n",
       " 302.018      "
      ]
     },
     "metadata": {},
     "output_type": "display_data"
    },
    {
     "name": "stdout",
     "output_type": "stream",
     "text": [
      "elapsed time: 1.097166366 seconds\n"
     ]
    },
    {
     "data": {
      "text/plain": [
       "6-element Array{Float64,1}:\n",
       "   0.0     \n",
       "   0.0     \n",
       "   0.0     \n",
       "   0.750161\n",
       "  -0.649563\n",
       " -14.012   "
      ]
     },
     "metadata": {},
     "output_type": "display_data"
    },
    {
     "data": {
      "text/plain": [
       "6-element Array{Float64,1}:\n",
       "   0.0     \n",
       "   0.0     \n",
       "   0.0     \n",
       "   0.750161\n",
       "  -0.649563\n",
       " -14.012   "
      ]
     },
     "metadata": {},
     "output_type": "display_data"
    },
    {
     "name": "stdout",
     "output_type": "stream",
     "text": [
      "elapsed time: 0.679980085 seconds\n"
     ]
    },
    {
     "data": {
      "text/plain": [
       "6-element Array{Float64,1}:\n",
       "  2.84217e-14\n",
       "  0.0        \n",
       "  0.0        \n",
       " -0.0448168  \n",
       "  1.38605    \n",
       " -0.0276244  "
      ]
     },
     "metadata": {},
     "output_type": "display_data"
    },
    {
     "data": {
      "text/plain": [
       "6-element Array{Float64,1}:\n",
       "  2.84217e-14\n",
       "  0.0        \n",
       "  0.0        \n",
       " -0.0448168  \n",
       "  1.38605    \n",
       " -0.0276244  "
      ]
     },
     "metadata": {},
     "output_type": "display_data"
    },
    {
     "name": "stdout",
     "output_type": "stream",
     "text": [
      "elapsed time: 0.710085161 seconds\n"
     ]
    },
    {
     "data": {
      "text/plain": [
       "6-element Array{Float64,1}:\n",
       "   1.45519e-11\n",
       "   1.81899e-12\n",
       "   0.0        \n",
       " -33.3532     \n",
       " 707.007      \n",
       " -19.8981     "
      ]
     },
     "metadata": {},
     "output_type": "display_data"
    },
    {
     "data": {
      "text/plain": [
       "6-element Array{Float64,1}:\n",
       "   1.45519e-11\n",
       "   1.81899e-12\n",
       "   0.0        \n",
       " -33.3532     \n",
       " 707.007      \n",
       " -19.8981     "
      ]
     },
     "metadata": {},
     "output_type": "display_data"
    },
    {
     "name": "stdout",
     "output_type": "stream",
     "text": [
      "elapsed time: 1.153114705 seconds\n"
     ]
    },
    {
     "data": {
      "text/plain": [
       "6-element Array{Float64,1}:\n",
       " -7.62939e-6 \n",
       "  0.000244141\n",
       "  0.0        \n",
       "  1.19331e9  \n",
       " -4.04791e8  \n",
       "  5.58034e9  "
      ]
     },
     "metadata": {},
     "output_type": "display_data"
    },
    {
     "data": {
      "text/plain": [
       "6-element Array{Float64,1}:\n",
       " -7.62939e-6 \n",
       "  0.000244141\n",
       "  0.0        \n",
       "  1.19331e9  \n",
       " -4.04791e8  \n",
       "  5.58034e9  "
      ]
     },
     "metadata": {},
     "output_type": "display_data"
    },
    {
     "name": "stdout",
     "output_type": "stream",
     "text": [
      "elapsed time: 0.736629644 seconds\n"
     ]
    },
    {
     "data": {
      "text/plain": [
       "6-element Array{Float64,1}:\n",
       " -1.81899e-12\n",
       " -5.68434e-14\n",
       " -3.63798e-12\n",
       " -1.31722    \n",
       " 52.5346     \n",
       " -0.724427   "
      ]
     },
     "metadata": {},
     "output_type": "display_data"
    },
    {
     "data": {
      "text/plain": [
       "6-element Array{Float64,1}:\n",
       " -1.81899e-12\n",
       " -5.68434e-14\n",
       " -3.63798e-12\n",
       " -1.31722    \n",
       " 52.5346     \n",
       " -0.724427   "
      ]
     },
     "metadata": {},
     "output_type": "display_data"
    },
    {
     "name": "stdout",
     "output_type": "stream",
     "text": [
      "elapsed time: 0.715334239 seconds\n"
     ]
    },
    {
     "data": {
      "text/plain": [
       "6-element Array{Float64,1}:\n",
       "     0.0        \n",
       "     2.32831e-10\n",
       "     0.0        \n",
       "   797.189      \n",
       " -4274.34       \n",
       "  3695.95       "
      ]
     },
     "metadata": {},
     "output_type": "display_data"
    },
    {
     "data": {
      "text/plain": [
       "6-element Array{Float64,1}:\n",
       "     0.0        \n",
       "     2.32831e-10\n",
       "     0.0        \n",
       "   797.189      \n",
       " -4274.34       \n",
       "  3695.95       "
      ]
     },
     "metadata": {},
     "output_type": "display_data"
    },
    {
     "name": "stdout",
     "output_type": "stream",
     "text": [
      "elapsed time: 1.123196438 seconds\n"
     ]
    },
    {
     "data": {
      "text/plain": [
       "6-element Array{Float64,1}:\n",
       "   -7.27596e-12\n",
       "    2.32831e-10\n",
       "   -4.36557e-11\n",
       "  938.909      \n",
       "  335.941      \n",
       " 4529.74       "
      ]
     },
     "metadata": {},
     "output_type": "display_data"
    },
    {
     "data": {
      "text/plain": [
       "6-element Array{Float64,1}:\n",
       "   -7.27596e-12\n",
       "    2.32831e-10\n",
       "   -4.36557e-11\n",
       "  938.909      \n",
       "  335.941      \n",
       " 4529.74       "
      ]
     },
     "metadata": {},
     "output_type": "display_data"
    },
    {
     "name": "stdout",
     "output_type": "stream",
     "text": [
      "elapsed time: 0.683934616 seconds\n"
     ]
    },
    {
     "data": {
      "text/plain": [
       "6-element Array{Float64,1}:\n",
       "   0.0        \n",
       "  -2.91038e-11\n",
       "  -4.54747e-13\n",
       " 152.96       \n",
       " -10.273      \n",
       " 721.97       "
      ]
     },
     "metadata": {},
     "output_type": "display_data"
    },
    {
     "data": {
      "text/plain": [
       "6-element Array{Float64,1}:\n",
       "   0.0        \n",
       "  -2.91038e-11\n",
       "  -4.54747e-13\n",
       " 152.96       \n",
       " -10.273      \n",
       " 721.97       "
      ]
     },
     "metadata": {},
     "output_type": "display_data"
    },
    {
     "name": "stdout",
     "output_type": "stream",
     "text": [
      "elapsed time: 1.053069411 seconds\n"
     ]
    },
    {
     "data": {
      "text/plain": [
       "6-element Array{Float64,1}:\n",
       "   -7.27596e-12\n",
       "   -5.82077e-11\n",
       "   -2.91038e-11\n",
       "  241.585      \n",
       " -471.338      \n",
       " 1133.97       "
      ]
     },
     "metadata": {},
     "output_type": "display_data"
    },
    {
     "data": {
      "text/plain": [
       "6-element Array{Float64,1}:\n",
       "   -7.27596e-12\n",
       "   -5.82077e-11\n",
       "   -2.91038e-11\n",
       "  241.585      \n",
       " -471.338      \n",
       " 1133.97       "
      ]
     },
     "metadata": {},
     "output_type": "display_data"
    },
    {
     "name": "stdout",
     "output_type": "stream",
     "text": [
      "elapsed time: 1.051923016 seconds\n"
     ]
    },
    {
     "data": {
      "text/plain": [
       "6-element Array{Float64,1}:\n",
       " -7.10543e-15\n",
       "  0.0        \n",
       "  0.0        \n",
       "  2.92935    \n",
       " -0.306393   \n",
       " -1.45253    "
      ]
     },
     "metadata": {},
     "output_type": "display_data"
    },
    {
     "data": {
      "text/plain": [
       "6-element Array{Float64,1}:\n",
       " -7.10543e-15\n",
       "  0.0        \n",
       "  0.0        \n",
       "  2.92935    \n",
       " -0.306393   \n",
       " -1.45253    "
      ]
     },
     "metadata": {},
     "output_type": "display_data"
    },
    {
     "name": "stdout",
     "output_type": "stream",
     "text": [
      "elapsed time: 0.680347355 seconds\n"
     ]
    },
    {
     "data": {
      "text/plain": [
       "6-element Array{Float64,1}:\n",
       "    7.27596e-12\n",
       "    0.0        \n",
       "    2.91038e-11\n",
       "  -80.7878     \n",
       " -416.505      \n",
       " -305.243      "
      ]
     },
     "metadata": {},
     "output_type": "display_data"
    },
    {
     "data": {
      "text/plain": [
       "6-element Array{Float64,1}:\n",
       "    7.27596e-12\n",
       "    0.0        \n",
       "    2.91038e-11\n",
       "  -80.7878     \n",
       " -416.505      \n",
       " -305.243      "
      ]
     },
     "metadata": {},
     "output_type": "display_data"
    },
    {
     "name": "stdout",
     "output_type": "stream",
     "text": [
      "elapsed time: 1.157463674 seconds\n"
     ]
    },
    {
     "data": {
      "text/plain": [
       "6-element Array{Float64,1}:\n",
       "       0.0      \n",
       "       0.0      \n",
       "       0.0      \n",
       "       2.39771e5\n",
       " -112726.0      \n",
       "       1.1326e6 "
      ]
     },
     "metadata": {},
     "output_type": "display_data"
    },
    {
     "data": {
      "text/plain": [
       "6-element Array{Float64,1}:\n",
       "       0.0      \n",
       "       0.0      \n",
       "       0.0      \n",
       "       2.39771e5\n",
       " -112726.0      \n",
       "       1.1326e6 "
      ]
     },
     "metadata": {},
     "output_type": "display_data"
    },
    {
     "name": "stdout",
     "output_type": "stream",
     "text": [
      "elapsed time: 0.687827998 seconds\n"
     ]
    },
    {
     "data": {
      "text/plain": [
       "6-element Array{Float64,1}:\n",
       " -7.10543e-15\n",
       "  0.0        \n",
       "  1.42109e-14\n",
       "  3.00762    \n",
       " -0.370034   \n",
       " -1.48708    "
      ]
     },
     "metadata": {},
     "output_type": "display_data"
    },
    {
     "data": {
      "text/plain": [
       "6-element Array{Float64,1}:\n",
       " -7.10543e-15\n",
       "  0.0        \n",
       "  1.42109e-14\n",
       "  3.00762    \n",
       " -0.370034   \n",
       " -1.48708    "
      ]
     },
     "metadata": {},
     "output_type": "display_data"
    },
    {
     "name": "stdout",
     "output_type": "stream",
     "text": [
      "elapsed time: 1.085076791 seconds\n"
     ]
    },
    {
     "data": {
      "text/plain": [
       "6-element Array{Float64,1}:\n",
       "   0.0    \n",
       "   0.0    \n",
       "   0.0    \n",
       "  -6.09187\n",
       " 265.314  \n",
       "   6.97029"
      ]
     },
     "metadata": {},
     "output_type": "display_data"
    },
    {
     "data": {
      "text/plain": [
       "6-element Array{Float64,1}:\n",
       "   0.0    \n",
       "   0.0    \n",
       "   0.0    \n",
       "  -6.09187\n",
       " 265.314  \n",
       "   6.97029"
      ]
     },
     "metadata": {},
     "output_type": "display_data"
    },
    {
     "name": "stdout",
     "output_type": "stream",
     "text": [
      "elapsed time: 1.082894215 seconds\n"
     ]
    },
    {
     "data": {
      "text/plain": [
       "6-element Array{Float64,1}:\n",
       "    3.63798e-12\n",
       "    0.0        \n",
       "    7.27596e-12\n",
       "   -2.49045    \n",
       " -196.179      \n",
       "  -15.2351     "
      ]
     },
     "metadata": {},
     "output_type": "display_data"
    },
    {
     "data": {
      "text/plain": [
       "6-element Array{Float64,1}:\n",
       "    3.63798e-12\n",
       "    0.0        \n",
       "    7.27596e-12\n",
       "   -2.49045    \n",
       " -196.179      \n",
       "  -15.2351     "
      ]
     },
     "metadata": {},
     "output_type": "display_data"
    },
    {
     "name": "stdout",
     "output_type": "stream",
     "text": [
      "elapsed time: 0.695562274 seconds\n"
     ]
    },
    {
     "data": {
      "text/plain": [
       "6-element Array{Float64,1}:\n",
       "   2.84217e-14\n",
       "   7.95808e-13\n",
       "   1.13687e-13\n",
       " -79.0344     \n",
       "  -1.93701    \n",
       "  25.5934     "
      ]
     },
     "metadata": {},
     "output_type": "display_data"
    },
    {
     "data": {
      "text/plain": [
       "6-element Array{Float64,1}:\n",
       "   2.84217e-14\n",
       "   7.95808e-13\n",
       "   1.13687e-13\n",
       " -79.0344     \n",
       "  -1.93701    \n",
       "  25.5934     "
      ]
     },
     "metadata": {},
     "output_type": "display_data"
    },
    {
     "name": "stdout",
     "output_type": "stream",
     "text": [
      "elapsed time: 1.148280469 seconds\n"
     ]
    },
    {
     "data": {
      "text/plain": [
       "6-element Array{Float64,1}:\n",
       "  2.22045e-16\n",
       "  0.0        \n",
       " -4.44089e-16\n",
       "  0.0142623  \n",
       " -0.00855648 \n",
       "  0.0229499  "
      ]
     },
     "metadata": {},
     "output_type": "display_data"
    },
    {
     "data": {
      "text/plain": [
       "6-element Array{Float64,1}:\n",
       "  2.22045e-16\n",
       "  0.0        \n",
       " -4.44089e-16\n",
       "  0.0142623  \n",
       " -0.00855648 \n",
       "  0.0229499  "
      ]
     },
     "metadata": {},
     "output_type": "display_data"
    },
    {
     "name": "stdout",
     "output_type": "stream",
     "text": [
      "elapsed time: 0.696303085 seconds\n"
     ]
    },
    {
     "data": {
      "text/plain": [
       "6-element Array{Float64,1}:\n",
       "    1.81899e-12\n",
       "   -5.82077e-11\n",
       "    0.0        \n",
       "  224.302      \n",
       "   80.0918     \n",
       " 1061.94       "
      ]
     },
     "metadata": {},
     "output_type": "display_data"
    },
    {
     "data": {
      "text/plain": [
       "6-element Array{Float64,1}:\n",
       "    1.81899e-12\n",
       "   -5.82077e-11\n",
       "    0.0        \n",
       "  224.302      \n",
       "   80.0918     \n",
       " 1061.94       "
      ]
     },
     "metadata": {},
     "output_type": "display_data"
    },
    {
     "name": "stdout",
     "output_type": "stream",
     "text": [
      "elapsed time: 1.070907302 seconds\n"
     ]
    },
    {
     "data": {
      "text/plain": [
       "6-element Array{Float64,1}:\n",
       "    -1.16415e-10\n",
       "    -5.82077e-11\n",
       "     4.65661e-10\n",
       "   191.244      \n",
       " -7158.02       \n",
       "   825.006      "
      ]
     },
     "metadata": {},
     "output_type": "display_data"
    },
    {
     "data": {
      "text/plain": [
       "6-element Array{Float64,1}:\n",
       "    -1.16415e-10\n",
       "    -5.82077e-11\n",
       "     4.65661e-10\n",
       "   191.244      \n",
       " -7158.02       \n",
       "   825.006      "
      ]
     },
     "metadata": {},
     "output_type": "display_data"
    },
    {
     "name": "stdout",
     "output_type": "stream",
     "text": [
      "elapsed time: 1.066509719 seconds\n"
     ]
    },
    {
     "data": {
      "text/plain": [
       "6-element Array{Float64,1}:\n",
       "    1.45519e-11\n",
       "   -9.09495e-13\n",
       "    0.0        \n",
       "  -24.9052     \n",
       " 1038.83       \n",
       "   22.4804     "
      ]
     },
     "metadata": {},
     "output_type": "display_data"
    },
    {
     "data": {
      "text/plain": [
       "6-element Array{Float64,1}:\n",
       "    1.45519e-11\n",
       "   -9.09495e-13\n",
       "    0.0        \n",
       "  -24.9052     \n",
       " 1038.83       \n",
       "   22.4804     "
      ]
     },
     "metadata": {},
     "output_type": "display_data"
    },
    {
     "name": "stdout",
     "output_type": "stream",
     "text": [
      "elapsed time: 0.680456433 seconds\n"
     ]
    },
    {
     "data": {
      "text/plain": [
       "6-element Array{Float64,1}:\n",
       "  3.8147e-6  \n",
       " -0.000488281\n",
       "  0.0        \n",
       " -1.98601e9  \n",
       "  2.11215e8  \n",
       " -9.82602e9  "
      ]
     },
     "metadata": {},
     "output_type": "display_data"
    },
    {
     "data": {
      "text/plain": [
       "6-element Array{Float64,1}:\n",
       "  3.8147e-6  \n",
       " -0.000488281\n",
       "  0.0        \n",
       " -1.98601e9  \n",
       "  2.11215e8  \n",
       " -9.82602e9  "
      ]
     },
     "metadata": {},
     "output_type": "display_data"
    },
    {
     "name": "stdout",
     "output_type": "stream",
     "text": [
      "elapsed time: 0.838431899 seconds\n"
     ]
    },
    {
     "data": {
      "text/plain": [
       "6-element Array{Float64,1}:\n",
       "  -7.27596e-12\n",
       "  -6.82121e-13\n",
       "   0.0        \n",
       " -10.6841     \n",
       " 377.272      \n",
       "  -0.0306666  "
      ]
     },
     "metadata": {},
     "output_type": "display_data"
    },
    {
     "data": {
      "text/plain": [
       "6-element Array{Float64,1}:\n",
       "  -7.27596e-12\n",
       "  -6.82121e-13\n",
       "   0.0        \n",
       " -10.6841     \n",
       " 377.272      \n",
       "  -0.0306666  "
      ]
     },
     "metadata": {},
     "output_type": "display_data"
    },
    {
     "name": "stdout",
     "output_type": "stream",
     "text": [
      "elapsed time: 1.081222294 seconds\n"
     ]
    },
    {
     "data": {
      "text/plain": [
       "6-element Array{Float64,1}:\n",
       "  -3.63798e-12\n",
       "  -9.09495e-13\n",
       "  -1.45519e-11\n",
       " -63.9019     \n",
       " 131.307      \n",
       "  15.6959     "
      ]
     },
     "metadata": {},
     "output_type": "display_data"
    },
    {
     "data": {
      "text/plain": [
       "6-element Array{Float64,1}:\n",
       "  -3.63798e-12\n",
       "  -9.09495e-13\n",
       "  -1.45519e-11\n",
       " -63.9019     \n",
       " 131.307      \n",
       "  15.6959     "
      ]
     },
     "metadata": {},
     "output_type": "display_data"
    },
    {
     "name": "stdout",
     "output_type": "stream",
     "text": [
      "elapsed time: 0.667806723 seconds\n"
     ]
    },
    {
     "data": {
      "text/plain": [
       "6-element Array{Float64,1}:\n",
       "    2.91038e-11\n",
       "    0.0        \n",
       "    5.82077e-11\n",
       "  172.828      \n",
       " 1672.61       \n",
       "  707.386      "
      ]
     },
     "metadata": {},
     "output_type": "display_data"
    },
    {
     "data": {
      "text/plain": [
       "6-element Array{Float64,1}:\n",
       "    2.91038e-11\n",
       "    0.0        \n",
       "    5.82077e-11\n",
       "  172.828      \n",
       " 1672.61       \n",
       "  707.386      "
      ]
     },
     "metadata": {},
     "output_type": "display_data"
    },
    {
     "name": "stdout",
     "output_type": "stream",
     "text": [
      "elapsed time: 1.108776243 seconds\n"
     ]
    },
    {
     "data": {
      "text/plain": [
       "6-element Array{Float64,1}:\n",
       "   0.0        \n",
       "  -9.09495e-13\n",
       "   2.27374e-13\n",
       "  -2.95701    \n",
       "   5.9392     \n",
       " -12.6776     "
      ]
     },
     "metadata": {},
     "output_type": "display_data"
    },
    {
     "data": {
      "text/plain": [
       "6-element Array{Float64,1}:\n",
       "   0.0        \n",
       "  -9.09495e-13\n",
       "   2.27374e-13\n",
       "  -2.95701    \n",
       "   5.9392     \n",
       " -12.6776     "
      ]
     },
     "metadata": {},
     "output_type": "display_data"
    },
    {
     "name": "stdout",
     "output_type": "stream",
     "text": [
      "elapsed time: 0.674128786 seconds\n"
     ]
    },
    {
     "data": {
      "text/plain": [
       "6-element Array{Float64,1}:\n",
       "  0.0        \n",
       "  4.44089e-16\n",
       "  5.68434e-14\n",
       " -0.00408407 \n",
       "  0.48261    \n",
       "  0.00806758 "
      ]
     },
     "metadata": {},
     "output_type": "display_data"
    },
    {
     "data": {
      "text/plain": [
       "6-element Array{Float64,1}:\n",
       "  0.0        \n",
       "  4.44089e-16\n",
       "  5.68434e-14\n",
       " -0.00408407 \n",
       "  0.48261    \n",
       "  0.00806758 "
      ]
     },
     "metadata": {},
     "output_type": "display_data"
    },
    {
     "name": "stdout",
     "output_type": "stream",
     "text": [
      "elapsed time: 0.664809755 seconds\n"
     ]
    },
    {
     "data": {
      "text/plain": [
       "6-element Array{Float64,1}:\n",
       "    0.0        \n",
       "    4.54747e-13\n",
       "    7.27596e-12\n",
       "   41.549      \n",
       " -164.916      \n",
       "  -24.9154     "
      ]
     },
     "metadata": {},
     "output_type": "display_data"
    },
    {
     "data": {
      "text/plain": [
       "6-element Array{Float64,1}:\n",
       "    0.0        \n",
       "    4.54747e-13\n",
       "    7.27596e-12\n",
       "   41.549      \n",
       " -164.916      \n",
       "  -24.9154     "
      ]
     },
     "metadata": {},
     "output_type": "display_data"
    },
    {
     "name": "stdout",
     "output_type": "stream",
     "text": [
      "elapsed time: 1.118512769 seconds\n"
     ]
    },
    {
     "data": {
      "text/plain": [
       "6-element Array{Float64,1}:\n",
       " 5.96046e-8\n",
       " 9.53674e-7\n",
       " 1.19209e-7\n",
       " 3.58155e6 \n",
       " 2.28317e6 \n",
       " 1.73804e7 "
      ]
     },
     "metadata": {},
     "output_type": "display_data"
    },
    {
     "data": {
      "text/plain": [
       "6-element Array{Float64,1}:\n",
       " 5.96046e-8\n",
       " 9.53674e-7\n",
       " 1.19209e-7\n",
       " 3.58155e6 \n",
       " 2.28317e6 \n",
       " 1.73804e7 "
      ]
     },
     "metadata": {},
     "output_type": "display_data"
    },
    {
     "name": "stdout",
     "output_type": "stream",
     "text": [
      "elapsed time: 0.692592803 seconds\n"
     ]
    },
    {
     "data": {
      "text/plain": [
       "6-element Array{Float64,1}:\n",
       "   -7.27596e-12\n",
       "    0.0        \n",
       "   -2.91038e-11\n",
       "   55.5965     \n",
       " -696.077      \n",
       "  396.869      "
      ]
     },
     "metadata": {},
     "output_type": "display_data"
    },
    {
     "data": {
      "text/plain": [
       "6-element Array{Float64,1}:\n",
       "   -7.27596e-12\n",
       "    0.0        \n",
       "   -2.91038e-11\n",
       "   55.5965     \n",
       " -696.077      \n",
       "  396.869      "
      ]
     },
     "metadata": {},
     "output_type": "display_data"
    },
    {
     "name": "stdout",
     "output_type": "stream",
     "text": [
      "elapsed time: 1.061528079 seconds\n"
     ]
    },
    {
     "data": {
      "text/plain": [
       "6-element Array{Float64,1}:\n",
       "      2.32831e-10\n",
       "      0.0        \n",
       "     -9.31323e-10\n",
       " -16955.3        \n",
       " -16344.0        \n",
       " -49222.9        "
      ]
     },
     "metadata": {},
     "output_type": "display_data"
    },
    {
     "data": {
      "text/plain": [
       "6-element Array{Float64,1}:\n",
       "      2.32831e-10\n",
       "      0.0        \n",
       "     -9.31323e-10\n",
       " -16955.3        \n",
       " -16344.0        \n",
       " -49222.9        "
      ]
     },
     "metadata": {},
     "output_type": "display_data"
    },
    {
     "name": "stdout",
     "output_type": "stream",
     "text": [
      "elapsed time: 1.053883093 seconds\n"
     ]
    },
    {
     "data": {
      "text/plain": [
       "6-element Array{Float64,1}:\n",
       " -7.10543e-15\n",
       " -8.88178e-16\n",
       " -2.84217e-14\n",
       " -1.14065    \n",
       "  0.472657   \n",
       "  0.311529   "
      ]
     },
     "metadata": {},
     "output_type": "display_data"
    },
    {
     "data": {
      "text/plain": [
       "6-element Array{Float64,1}:\n",
       " -7.10543e-15\n",
       " -8.88178e-16\n",
       " -2.84217e-14\n",
       " -1.14065    \n",
       "  0.472657   \n",
       "  0.311529   "
      ]
     },
     "metadata": {},
     "output_type": "display_data"
    },
    {
     "name": "stdout",
     "output_type": "stream",
     "text": [
      "elapsed time: 1.086807749 seconds\n"
     ]
    },
    {
     "data": {
      "text/plain": [
       "6-element Array{Float64,1}:\n",
       "  3.55271e-15\n",
       " -5.68434e-14\n",
       "  0.0        \n",
       "  3.60575    \n",
       "  0.12259    \n",
       " -1.84967    "
      ]
     },
     "metadata": {},
     "output_type": "display_data"
    },
    {
     "data": {
      "text/plain": [
       "6-element Array{Float64,1}:\n",
       "  3.55271e-15\n",
       " -5.68434e-14\n",
       "  0.0        \n",
       "  3.60575    \n",
       "  0.12259    \n",
       " -1.84967    "
      ]
     },
     "metadata": {},
     "output_type": "display_data"
    },
    {
     "name": "stdout",
     "output_type": "stream",
     "text": [
      "elapsed time: 0.688929601 seconds\n"
     ]
    },
    {
     "data": {
      "text/plain": [
       "6-element Array{Float64,1}:\n",
       "  -9.09495e-13\n",
       "   0.0        \n",
       "   0.0        \n",
       " 427.678      \n",
       " -81.8845     \n",
       " 152.183      "
      ]
     },
     "metadata": {},
     "output_type": "display_data"
    },
    {
     "data": {
      "text/plain": [
       "6-element Array{Float64,1}:\n",
       "  -9.09495e-13\n",
       "   0.0        \n",
       "   0.0        \n",
       " 427.678      \n",
       " -81.8845     \n",
       " 152.183      "
      ]
     },
     "metadata": {},
     "output_type": "display_data"
    },
    {
     "name": "stdout",
     "output_type": "stream",
     "text": [
      "elapsed time: 1.138061844 seconds\n"
     ]
    },
    {
     "data": {
      "text/plain": [
       "6-element Array{Float64,1}:\n",
       "   2.27374e-13\n",
       "   0.0        \n",
       "   0.0        \n",
       "  -8.77597    \n",
       "  14.42       \n",
       " -29.859      "
      ]
     },
     "metadata": {},
     "output_type": "display_data"
    },
    {
     "data": {
      "text/plain": [
       "6-element Array{Float64,1}:\n",
       "   2.27374e-13\n",
       "   0.0        \n",
       "   0.0        \n",
       "  -8.77597    \n",
       "  14.42       \n",
       " -29.859      "
      ]
     },
     "metadata": {},
     "output_type": "display_data"
    },
    {
     "name": "stdout",
     "output_type": "stream",
     "text": [
      "elapsed time: 0.685277352 seconds\n"
     ]
    },
    {
     "data": {
      "text/plain": [
       "6-element Array{Float64,1}:\n",
       "  0.0        \n",
       " -3.55271e-15\n",
       " -7.10543e-15\n",
       "  0.963912   \n",
       " -0.102294   \n",
       " -0.194617   "
      ]
     },
     "metadata": {},
     "output_type": "display_data"
    },
    {
     "data": {
      "text/plain": [
       "6-element Array{Float64,1}:\n",
       "  0.0        \n",
       " -3.55271e-15\n",
       " -7.10543e-15\n",
       "  0.963912   \n",
       " -0.102294   \n",
       " -0.194617   "
      ]
     },
     "metadata": {},
     "output_type": "display_data"
    },
    {
     "name": "stdout",
     "output_type": "stream",
     "text": [
      "elapsed time: 1.082710665 seconds\n"
     ]
    },
    {
     "data": {
      "text/plain": [
       "6-element Array{Float64,1}:\n",
       "    0.0        \n",
       "    0.0        \n",
       "   -2.32831e-10\n",
       " 1409.94       \n",
       " 2388.23       \n",
       " 6939.76       "
      ]
     },
     "metadata": {},
     "output_type": "display_data"
    },
    {
     "data": {
      "text/plain": [
       "6-element Array{Float64,1}:\n",
       "    0.0        \n",
       "    0.0        \n",
       "   -2.32831e-10\n",
       " 1409.94       \n",
       " 2388.23       \n",
       " 6939.76       "
      ]
     },
     "metadata": {},
     "output_type": "display_data"
    },
    {
     "name": "stdout",
     "output_type": "stream",
     "text": [
      "elapsed time: 1.058986244 seconds\n"
     ]
    },
    {
     "data": {
      "text/plain": [
       "6-element Array{Float64,1}:\n",
       "   0.0   \n",
       "   0.0   \n",
       "   0.0   \n",
       " -11.35  \n",
       "  20.6105\n",
       " -57.0186"
      ]
     },
     "metadata": {},
     "output_type": "display_data"
    },
    {
     "data": {
      "text/plain": [
       "6-element Array{Float64,1}:\n",
       "   0.0   \n",
       "   0.0   \n",
       "   0.0   \n",
       " -11.35  \n",
       "  20.6105\n",
       " -57.0186"
      ]
     },
     "metadata": {},
     "output_type": "display_data"
    },
    {
     "name": "stdout",
     "output_type": "stream",
     "text": [
      "elapsed time: 1.063739377 seconds\n"
     ]
    },
    {
     "data": {
      "text/plain": [
       "6-element Array{Float64,1}:\n",
       "  5.68434e-14\n",
       " -9.9476e-14 \n",
       "  2.27374e-13\n",
       "  2.53528    \n",
       " -4.05908    \n",
       " -1.16593    "
      ]
     },
     "metadata": {},
     "output_type": "display_data"
    },
    {
     "data": {
      "text/plain": [
       "6-element Array{Float64,1}:\n",
       "  5.68434e-14\n",
       " -9.9476e-14 \n",
       "  2.27374e-13\n",
       "  2.53528    \n",
       " -4.05908    \n",
       " -1.16593    "
      ]
     },
     "metadata": {},
     "output_type": "display_data"
    },
    {
     "name": "stdout",
     "output_type": "stream",
     "text": [
      "elapsed time: 0.674198576 seconds\n"
     ]
    },
    {
     "data": {
      "text/plain": [
       "6-element Array{Float64,1}:\n",
       "     1.16415e-10\n",
       "     0.0        \n",
       "    -4.65661e-10\n",
       "  -430.07       \n",
       " -6661.96       \n",
       " -1237.23       "
      ]
     },
     "metadata": {},
     "output_type": "display_data"
    },
    {
     "data": {
      "text/plain": [
       "6-element Array{Float64,1}:\n",
       "     1.16415e-10\n",
       "     0.0        \n",
       "    -4.65661e-10\n",
       "  -430.07       \n",
       " -6661.96       \n",
       " -1237.23       "
      ]
     },
     "metadata": {},
     "output_type": "display_data"
    },
    {
     "name": "stdout",
     "output_type": "stream",
     "text": [
      "elapsed time: 1.217564231 seconds\n"
     ]
    },
    {
     "data": {
      "text/plain": [
       "6-element Array{Float64,1}:\n",
       "   -5.82077e-11\n",
       "   -2.32831e-10\n",
       "    0.0        \n",
       " 1223.74       \n",
       " 1693.67       \n",
       " 6045.72       "
      ]
     },
     "metadata": {},
     "output_type": "display_data"
    },
    {
     "data": {
      "text/plain": [
       "6-element Array{Float64,1}:\n",
       "   -5.82077e-11\n",
       "   -2.32831e-10\n",
       "    0.0        \n",
       " 1223.74       \n",
       " 1693.67       \n",
       " 6045.72       "
      ]
     },
     "metadata": {},
     "output_type": "display_data"
    },
    {
     "name": "stdout",
     "output_type": "stream",
     "text": [
      "elapsed time: 0.91187973 seconds\n"
     ]
    },
    {
     "data": {
      "text/plain": [
       "6-element Array{Float64,1}:\n",
       "  -1.81899e-12\n",
       "  -2.91038e-11\n",
       "   7.27596e-12\n",
       " 120.299      \n",
       " 114.401      \n",
       " 569.784      "
      ]
     },
     "metadata": {},
     "output_type": "display_data"
    },
    {
     "data": {
      "text/plain": [
       "6-element Array{Float64,1}:\n",
       "  -1.81899e-12\n",
       "  -2.91038e-11\n",
       "   7.27596e-12\n",
       " 120.299      \n",
       " 114.401      \n",
       " 569.784      "
      ]
     },
     "metadata": {},
     "output_type": "display_data"
    },
    {
     "name": "stdout",
     "output_type": "stream",
     "text": [
      "elapsed time: 1.13673504 seconds\n"
     ]
    },
    {
     "data": {
      "text/plain": [
       "6-element Array{Float64,1}:\n",
       " -1.77636e-15\n",
       " -8.88178e-16\n",
       "  0.0        \n",
       " -0.0333719  \n",
       "  0.122264   \n",
       "  0.01597    "
      ]
     },
     "metadata": {},
     "output_type": "display_data"
    },
    {
     "data": {
      "text/plain": [
       "6-element Array{Float64,1}:\n",
       " -1.77636e-15\n",
       " -8.88178e-16\n",
       "  0.0        \n",
       " -0.0333719  \n",
       "  0.122264   \n",
       "  0.01597    "
      ]
     },
     "metadata": {},
     "output_type": "display_data"
    },
    {
     "name": "stdout",
     "output_type": "stream",
     "text": [
      "elapsed time: 1.0908057 seconds\n"
     ]
    },
    {
     "data": {
      "text/plain": [
       "6-element Array{Float64,1}:\n",
       " -2.84217e-14\n",
       "  0.0        \n",
       "  0.0        \n",
       "  8.24474    \n",
       " -1.68419    \n",
       " -1.87539    "
      ]
     },
     "metadata": {},
     "output_type": "display_data"
    },
    {
     "data": {
      "text/plain": [
       "6-element Array{Float64,1}:\n",
       " -2.84217e-14\n",
       "  0.0        \n",
       "  0.0        \n",
       "  8.24474    \n",
       " -1.68419    \n",
       " -1.87539    "
      ]
     },
     "metadata": {},
     "output_type": "display_data"
    },
    {
     "name": "stdout",
     "output_type": "stream",
     "text": [
      "elapsed time: 1.074532445 seconds\n"
     ]
    },
    {
     "data": {
      "text/plain": [
       "6-element Array{Float64,1}:\n",
       "     0.0        \n",
       "     0.0        \n",
       "     1.16415e-10\n",
       "  -288.024      \n",
       " -2382.25       \n",
       " -1139.03       "
      ]
     },
     "metadata": {},
     "output_type": "display_data"
    },
    {
     "data": {
      "text/plain": [
       "6-element Array{Float64,1}:\n",
       "     0.0        \n",
       "     0.0        \n",
       "     1.16415e-10\n",
       "  -288.024      \n",
       " -2382.25       \n",
       " -1139.03       "
      ]
     },
     "metadata": {},
     "output_type": "display_data"
    },
    {
     "name": "stdout",
     "output_type": "stream",
     "text": [
      "elapsed time: 0.678984986 seconds\n"
     ]
    },
    {
     "data": {
      "text/plain": [
       "6-element Array{Float64,1}:\n",
       "   0.0        \n",
       "   0.0        \n",
       "   1.45519e-11\n",
       " 523.206      \n",
       " -18.5054     \n",
       " 803.227      "
      ]
     },
     "metadata": {},
     "output_type": "display_data"
    },
    {
     "data": {
      "text/plain": [
       "6-element Array{Float64,1}:\n",
       "   0.0        \n",
       "   0.0        \n",
       "   1.45519e-11\n",
       " 523.206      \n",
       " -18.5054     \n",
       " 803.227      "
      ]
     },
     "metadata": {},
     "output_type": "display_data"
    },
    {
     "name": "stdout",
     "output_type": "stream",
     "text": [
      "elapsed time: 1.138905994 seconds\n"
     ]
    },
    {
     "data": {
      "text/plain": [
       "6-element Array{Float64,1}:\n",
       "  0.0        \n",
       "  1.13687e-13\n",
       "  0.0        \n",
       " 24.2477     \n",
       " -8.49639    \n",
       " -6.32706    "
      ]
     },
     "metadata": {},
     "output_type": "display_data"
    },
    {
     "data": {
      "text/plain": [
       "6-element Array{Float64,1}:\n",
       "  0.0        \n",
       "  1.13687e-13\n",
       "  0.0        \n",
       " 24.2477     \n",
       " -8.49639    \n",
       " -6.32706    "
      ]
     },
     "metadata": {},
     "output_type": "display_data"
    },
    {
     "name": "stdout",
     "output_type": "stream",
     "text": [
      "elapsed time: 1.070892205 seconds\n"
     ]
    },
    {
     "data": {
      "text/plain": [
       "6-element Array{Float64,1}:\n",
       "    0.0        \n",
       "   -3.63798e-12\n",
       "   -2.91038e-11\n",
       "  -36.1853     \n",
       " -665.947      \n",
       "  -89.138      "
      ]
     },
     "metadata": {},
     "output_type": "display_data"
    },
    {
     "data": {
      "text/plain": [
       "6-element Array{Float64,1}:\n",
       "    0.0        \n",
       "   -3.63798e-12\n",
       "   -2.91038e-11\n",
       "  -36.1853     \n",
       " -665.947      \n",
       "  -89.138      "
      ]
     },
     "metadata": {},
     "output_type": "display_data"
    },
    {
     "name": "stdout",
     "output_type": "stream",
     "text": [
      "elapsed time: 0.676251935 seconds\n"
     ]
    },
    {
     "data": {
      "text/plain": [
       "6-element Array{Float64,1}:\n",
       "  9.09495e-13\n",
       "  0.0        \n",
       "  3.63798e-12\n",
       "  3.9288     \n",
       " 46.9079     \n",
       "  9.18797    "
      ]
     },
     "metadata": {},
     "output_type": "display_data"
    },
    {
     "data": {
      "text/plain": [
       "6-element Array{Float64,1}:\n",
       "  9.09495e-13\n",
       "  0.0        \n",
       "  3.63798e-12\n",
       "  3.9288     \n",
       " 46.9079     \n",
       "  9.18797    "
      ]
     },
     "metadata": {},
     "output_type": "display_data"
    },
    {
     "name": "stdout",
     "output_type": "stream",
     "text": [
      "elapsed time: 1.140517446 seconds\n"
     ]
    },
    {
     "data": {
      "text/plain": [
       "6-element Array{Float64,1}:\n",
       "   0.0    \n",
       "   0.0    \n",
       "   0.0    \n",
       "  -8.2263 \n",
       "   8.84318\n",
       " -17.4716 "
      ]
     },
     "metadata": {},
     "output_type": "display_data"
    },
    {
     "data": {
      "text/plain": [
       "6-element Array{Float64,1}:\n",
       "   0.0    \n",
       "   0.0    \n",
       "   0.0    \n",
       "  -8.2263 \n",
       "   8.84318\n",
       " -17.4716 "
      ]
     },
     "metadata": {},
     "output_type": "display_data"
    },
    {
     "name": "stdout",
     "output_type": "stream",
     "text": [
      "elapsed time: 1.0952888 seconds\n"
     ]
    },
    {
     "data": {
      "text/plain": [
       "6-element Array{Float64,1}:\n",
       "     -9.31323e-10\n",
       "      0.0        \n",
       "     -1.86265e-9 \n",
       "  -4117.82       \n",
       " -52330.6        \n",
       " -13540.3        "
      ]
     },
     "metadata": {},
     "output_type": "display_data"
    },
    {
     "data": {
      "text/plain": [
       "6-element Array{Float64,1}:\n",
       "     -9.31323e-10\n",
       "      0.0        \n",
       "     -1.86265e-9 \n",
       "  -4117.82       \n",
       " -52330.6        \n",
       " -13540.3        "
      ]
     },
     "metadata": {},
     "output_type": "display_data"
    },
    {
     "name": "stdout",
     "output_type": "stream",
     "text": [
      "elapsed time: 0.680547036 seconds\n"
     ]
    },
    {
     "data": {
      "text/plain": [
       "6-element Array{Float64,1}:\n",
       "      0.0        \n",
       "     -1.16415e-10\n",
       "      1.86265e-9 \n",
       "   -812.179      \n",
       " -16133.9        \n",
       "  -1779.05       "
      ]
     },
     "metadata": {},
     "output_type": "display_data"
    },
    {
     "data": {
      "text/plain": [
       "6-element Array{Float64,1}:\n",
       "      0.0        \n",
       "     -1.16415e-10\n",
       "      1.86265e-9 \n",
       "   -812.179      \n",
       " -16133.9        \n",
       "  -1779.05       "
      ]
     },
     "metadata": {},
     "output_type": "display_data"
    },
    {
     "name": "stdout",
     "output_type": "stream",
     "text": [
      "elapsed time: 1.17605248 seconds\n"
     ]
    },
    {
     "data": {
      "text/plain": [
       "6-element Array{Float64,1}:\n",
       "    5.82077e-11\n",
       "    5.82077e-11\n",
       "    0.0        \n",
       "  328.014      \n",
       " 4153.16       \n",
       "  493.186      "
      ]
     },
     "metadata": {},
     "output_type": "display_data"
    },
    {
     "data": {
      "text/plain": [
       "6-element Array{Float64,1}:\n",
       "    5.82077e-11\n",
       "    5.82077e-11\n",
       "    0.0        \n",
       "  328.014      \n",
       " 4153.16       \n",
       "  493.186      "
      ]
     },
     "metadata": {},
     "output_type": "display_data"
    },
    {
     "name": "stdout",
     "output_type": "stream",
     "text": [
      "elapsed time: 0.678082079 seconds\n"
     ]
    },
    {
     "data": {
      "text/plain": [
       "6-element Array{Float64,1}:\n",
       "   2.27374e-13\n",
       "   0.0        \n",
       "   4.54747e-13\n",
       "   9.93155    \n",
       " -11.3461     \n",
       "  22.988      "
      ]
     },
     "metadata": {},
     "output_type": "display_data"
    },
    {
     "data": {
      "text/plain": [
       "6-element Array{Float64,1}:\n",
       "   2.27374e-13\n",
       "   0.0        \n",
       "   4.54747e-13\n",
       "   9.93155    \n",
       " -11.3461     \n",
       "  22.988      "
      ]
     },
     "metadata": {},
     "output_type": "display_data"
    },
    {
     "name": "stdout",
     "output_type": "stream",
     "text": [
      "elapsed time: 1.077915606 seconds\n"
     ]
    },
    {
     "data": {
      "text/plain": [
       "6-element Array{Float64,1}:\n",
       "    -1.16415e-10\n",
       "     5.82077e-11\n",
       "    -2.32831e-10\n",
       "  -198.247      \n",
       " -5418.45       \n",
       "  -241.43       "
      ]
     },
     "metadata": {},
     "output_type": "display_data"
    },
    {
     "data": {
      "text/plain": [
       "6-element Array{Float64,1}:\n",
       "    -1.16415e-10\n",
       "     5.82077e-11\n",
       "    -2.32831e-10\n",
       "  -198.247      \n",
       " -5418.45       \n",
       "  -241.43       "
      ]
     },
     "metadata": {},
     "output_type": "display_data"
    },
    {
     "name": "stdout",
     "output_type": "stream",
     "text": [
      "elapsed time: 1.068972027 seconds\n"
     ]
    },
    {
     "data": {
      "text/plain": [
       "6-element Array{Float64,1}:\n",
       "  0.0        \n",
       " -1.11022e-16\n",
       "  0.0        \n",
       "  0.0235009  \n",
       " -0.00622496 \n",
       " -0.00545287 "
      ]
     },
     "metadata": {},
     "output_type": "display_data"
    },
    {
     "data": {
      "text/plain": [
       "6-element Array{Float64,1}:\n",
       "  0.0        \n",
       " -1.11022e-16\n",
       "  0.0        \n",
       "  0.0235009  \n",
       " -0.00622496 \n",
       " -0.00545287 "
      ]
     },
     "metadata": {},
     "output_type": "display_data"
    },
    {
     "name": "stdout",
     "output_type": "stream",
     "text": [
      "elapsed time: 0.696592044 seconds\n"
     ]
    },
    {
     "data": {
      "text/plain": [
       "6-element Array{Float64,1}:\n",
       " -2.84217e-14\n",
       "  0.0        \n",
       "  0.0        \n",
       " -0.475873   \n",
       " -1.38456    \n",
       " -2.51486    "
      ]
     },
     "metadata": {},
     "output_type": "display_data"
    },
    {
     "data": {
      "text/plain": [
       "6-element Array{Float64,1}:\n",
       " -2.84217e-14\n",
       "  0.0        \n",
       "  0.0        \n",
       " -0.475873   \n",
       " -1.38456    \n",
       " -2.51486    "
      ]
     },
     "metadata": {},
     "output_type": "display_data"
    },
    {
     "name": "stdout",
     "output_type": "stream",
     "text": [
      "elapsed time: 0.827763669 seconds\n"
     ]
    },
    {
     "data": {
      "text/plain": [
       "6-element Array{Float64,1}:\n",
       "      0.0 \n",
       "      0.0 \n",
       "      0.0 \n",
       "  -3447.03\n",
       " -44598.5 \n",
       "  -6941.56"
      ]
     },
     "metadata": {},
     "output_type": "display_data"
    },
    {
     "data": {
      "text/plain": [
       "6-element Array{Float64,1}:\n",
       "      0.0 \n",
       "      0.0 \n",
       "      0.0 \n",
       "  -3447.03\n",
       " -44598.5 \n",
       "  -6941.56"
      ]
     },
     "metadata": {},
     "output_type": "display_data"
    },
    {
     "name": "stdout",
     "output_type": "stream",
     "text": [
      "elapsed time: 1.074855408 seconds\n"
     ]
    },
    {
     "data": {
      "text/plain": [
       "6-element Array{Float64,1}:\n",
       "  -9.09495e-13\n",
       "  -7.27596e-12\n",
       "   0.0        \n",
       "  24.9433     \n",
       " -25.895      \n",
       " 118.628      "
      ]
     },
     "metadata": {},
     "output_type": "display_data"
    },
    {
     "data": {
      "text/plain": [
       "6-element Array{Float64,1}:\n",
       "  -9.09495e-13\n",
       "  -7.27596e-12\n",
       "   0.0        \n",
       "  24.9433     \n",
       " -25.895      \n",
       " 118.628      "
      ]
     },
     "metadata": {},
     "output_type": "display_data"
    },
    {
     "name": "stdout",
     "output_type": "stream",
     "text": [
      "elapsed time: 0.666148921 seconds\n"
     ]
    },
    {
     "data": {
      "text/plain": [
       "6-element Array{Float64,1}:\n",
       "    7.27596e-12\n",
       "    1.16415e-10\n",
       "    2.91038e-11\n",
       " 1834.93       \n",
       " -448.636      \n",
       " 2373.83       "
      ]
     },
     "metadata": {},
     "output_type": "display_data"
    },
    {
     "data": {
      "text/plain": [
       "6-element Array{Float64,1}:\n",
       "    7.27596e-12\n",
       "    1.16415e-10\n",
       "    2.91038e-11\n",
       " 1834.93       \n",
       " -448.636      \n",
       " 2373.83       "
      ]
     },
     "metadata": {},
     "output_type": "display_data"
    },
    {
     "name": "stdout",
     "output_type": "stream",
     "text": [
      "elapsed time: 1.173430142 seconds\n"
     ]
    },
    {
     "data": {
      "text/plain": [
       "6-element Array{Float64,1}:\n",
       " -2.84217e-14\n",
       " -2.84217e-14\n",
       "  0.0        \n",
       "  5.14546    \n",
       " -1.77261    \n",
       " -1.34058    "
      ]
     },
     "metadata": {},
     "output_type": "display_data"
    },
    {
     "data": {
      "text/plain": [
       "6-element Array{Float64,1}:\n",
       " -2.84217e-14\n",
       " -2.84217e-14\n",
       "  0.0        \n",
       "  5.14546    \n",
       " -1.77261    \n",
       " -1.34058    "
      ]
     },
     "metadata": {},
     "output_type": "display_data"
    },
    {
     "name": "stdout",
     "output_type": "stream",
     "text": [
      "elapsed time: 1.096330998 seconds\n"
     ]
    },
    {
     "data": {
      "text/plain": [
       "6-element Array{Float64,1}:\n",
       "   1.81899e-12\n",
       "   1.81899e-12\n",
       "   7.27596e-12\n",
       "  12.6125     \n",
       " 108.319      \n",
       "  24.9496     "
      ]
     },
     "metadata": {},
     "output_type": "display_data"
    },
    {
     "data": {
      "text/plain": [
       "6-element Array{Float64,1}:\n",
       "   1.81899e-12\n",
       "   1.81899e-12\n",
       "   7.27596e-12\n",
       "  12.6125     \n",
       " 108.319      \n",
       "  24.9496     "
      ]
     },
     "metadata": {},
     "output_type": "display_data"
    },
    {
     "name": "stdout",
     "output_type": "stream",
     "text": [
      "elapsed time: 0.689187048 seconds\n"
     ]
    },
    {
     "data": {
      "text/plain": [
       "6-element Array{Float64,1}:\n",
       "      0.0       \n",
       "      0.0       \n",
       "     -5.58794e-9\n",
       "  -2758.54      \n",
       " -42708.4       \n",
       "  -7937.75      "
      ]
     },
     "metadata": {},
     "output_type": "display_data"
    },
    {
     "data": {
      "text/plain": [
       "6-element Array{Float64,1}:\n",
       "      0.0       \n",
       "      0.0       \n",
       "     -5.58794e-9\n",
       "  -2758.54      \n",
       " -42708.4       \n",
       "  -7937.75      "
      ]
     },
     "metadata": {},
     "output_type": "display_data"
    },
    {
     "name": "stdout",
     "output_type": "stream",
     "text": [
      "elapsed time: 1.151960731 seconds\n"
     ]
    },
    {
     "data": {
      "text/plain": [
       "6-element Array{Float64,1}:\n",
       "   -1.16415e-10\n",
       "   -5.82077e-11\n",
       "    0.0        \n",
       "  129.412      \n",
       " 3002.79       \n",
       "  245.888      "
      ]
     },
     "metadata": {},
     "output_type": "display_data"
    },
    {
     "data": {
      "text/plain": [
       "6-element Array{Float64,1}:\n",
       "   -1.16415e-10\n",
       "   -5.82077e-11\n",
       "    0.0        \n",
       "  129.412      \n",
       " 3002.79       \n",
       "  245.888      "
      ]
     },
     "metadata": {},
     "output_type": "display_data"
    },
    {
     "name": "stdout",
     "output_type": "stream",
     "text": [
      "elapsed time: 1.086753922 seconds\n"
     ]
    },
    {
     "data": {
      "text/plain": [
       "6-element Array{Float64,1}:\n",
       "  4.44089e-16\n",
       " -3.33067e-16\n",
       "  1.77636e-15\n",
       "  0.0105029  \n",
       " -0.0207768  \n",
       " -0.00611598 "
      ]
     },
     "metadata": {},
     "output_type": "display_data"
    },
    {
     "data": {
      "text/plain": [
       "6-element Array{Float64,1}:\n",
       "  4.44089e-16\n",
       " -3.33067e-16\n",
       "  1.77636e-15\n",
       "  0.0105029  \n",
       " -0.0207768  \n",
       " -0.00611598 "
      ]
     },
     "metadata": {},
     "output_type": "display_data"
    },
    {
     "name": "stdout",
     "output_type": "stream",
     "text": [
      "elapsed time: 0.677264812 seconds\n"
     ]
    },
    {
     "data": {
      "text/plain": [
       "6-element Array{Float64,1}:\n",
       "    0.0        \n",
       "    2.91038e-11\n",
       "    7.27596e-12\n",
       "  -73.2628     \n",
       "   84.4559     \n",
       " -400.874      "
      ]
     },
     "metadata": {},
     "output_type": "display_data"
    },
    {
     "data": {
      "text/plain": [
       "6-element Array{Float64,1}:\n",
       "    0.0        \n",
       "    2.91038e-11\n",
       "    7.27596e-12\n",
       "  -73.2628     \n",
       "   84.4559     \n",
       " -400.874      "
      ]
     },
     "metadata": {},
     "output_type": "display_data"
    },
    {
     "name": "stdout",
     "output_type": "stream",
     "text": [
      "elapsed time: 1.143488906 seconds\n"
     ]
    },
    {
     "data": {
      "text/plain": [
       "6-element Array{Float64,1}:\n",
       "   1.45519e-11\n",
       "  -7.27596e-12\n",
       "   0.0        \n",
       "  45.4816     \n",
       " 744.078      \n",
       " 119.888      "
      ]
     },
     "metadata": {},
     "output_type": "display_data"
    },
    {
     "data": {
      "text/plain": [
       "6-element Array{Float64,1}:\n",
       "   1.45519e-11\n",
       "  -7.27596e-12\n",
       "   0.0        \n",
       "  45.4816     \n",
       " 744.078      \n",
       " 119.888      "
      ]
     },
     "metadata": {},
     "output_type": "display_data"
    },
    {
     "name": "stdout",
     "output_type": "stream",
     "text": [
      "elapsed time: 0.678812276 seconds\n"
     ]
    },
    {
     "data": {
      "text/plain": [
       "6-element Array{Float64,1}:\n",
       "  1.11022e-16\n",
       "  0.0        \n",
       "  0.0        \n",
       "  0.01086    \n",
       " -0.00687183 \n",
       "  0.00562561 "
      ]
     },
     "metadata": {},
     "output_type": "display_data"
    },
    {
     "data": {
      "text/plain": [
       "6-element Array{Float64,1}:\n",
       "  1.11022e-16\n",
       "  0.0        \n",
       "  0.0        \n",
       "  0.01086    \n",
       " -0.00687183 \n",
       "  0.00562561 "
      ]
     },
     "metadata": {},
     "output_type": "display_data"
    },
    {
     "name": "stdout",
     "output_type": "stream",
     "text": [
      "elapsed time: 1.101492345 seconds\n"
     ]
    },
    {
     "data": {
      "text/plain": [
       "6-element Array{Float64,1}:\n",
       "   3.63798e-12\n",
       "   1.81899e-12\n",
       "  -1.45519e-11\n",
       "  14.12       \n",
       " 236.078      \n",
       "  37.0688     "
      ]
     },
     "metadata": {},
     "output_type": "display_data"
    },
    {
     "data": {
      "text/plain": [
       "6-element Array{Float64,1}:\n",
       "   3.63798e-12\n",
       "   1.81899e-12\n",
       "  -1.45519e-11\n",
       "  14.12       \n",
       " 236.078      \n",
       "  37.0688     "
      ]
     },
     "metadata": {},
     "output_type": "display_data"
    },
    {
     "name": "stdout",
     "output_type": "stream",
     "text": [
      "elapsed time: 1.061388338 seconds\n"
     ]
    },
    {
     "data": {
      "text/plain": [
       "6-element Array{Float64,1}:\n",
       "  0.0        \n",
       "  0.0        \n",
       " -2.84217e-14\n",
       "  4.08117    \n",
       " -0.418455   \n",
       " -0.837941   "
      ]
     },
     "metadata": {},
     "output_type": "display_data"
    },
    {
     "data": {
      "text/plain": [
       "6-element Array{Float64,1}:\n",
       "  0.0        \n",
       "  0.0        \n",
       " -2.84217e-14\n",
       "  4.08117    \n",
       " -0.418455   \n",
       " -0.837941   "
      ]
     },
     "metadata": {},
     "output_type": "display_data"
    },
    {
     "name": "stdout",
     "output_type": "stream",
     "text": [
      "elapsed time: 0.690364853 seconds\n"
     ]
    },
    {
     "data": {
      "text/plain": [
       "6-element Array{Float64,1}:\n",
       "    0.0        \n",
       "   -1.45519e-11\n",
       "   -3.63798e-12\n",
       " -744.783      \n",
       "  -25.8815     \n",
       "  380.87       "
      ]
     },
     "metadata": {},
     "output_type": "display_data"
    },
    {
     "data": {
      "text/plain": [
       "6-element Array{Float64,1}:\n",
       "    0.0        \n",
       "   -1.45519e-11\n",
       "   -3.63798e-12\n",
       " -744.783      \n",
       "  -25.8815     \n",
       "  380.87       "
      ]
     },
     "metadata": {},
     "output_type": "display_data"
    },
    {
     "name": "stdout",
     "output_type": "stream",
     "text": [
      "elapsed time: 1.189218552 seconds\n"
     ]
    },
    {
     "data": {
      "text/plain": [
       "6-element Array{Float64,1}:\n",
       "    0.0        \n",
       "   -8.73115e-11\n",
       "    2.32831e-10\n",
       "  252.962      \n",
       " 4185.1        \n",
       "  689.083      "
      ]
     },
     "metadata": {},
     "output_type": "display_data"
    },
    {
     "data": {
      "text/plain": [
       "6-element Array{Float64,1}:\n",
       "    0.0        \n",
       "   -8.73115e-11\n",
       "    2.32831e-10\n",
       "  252.962      \n",
       " 4185.1        \n",
       "  689.083      "
      ]
     },
     "metadata": {},
     "output_type": "display_data"
    },
    {
     "name": "stdout",
     "output_type": "stream",
     "text": [
      "elapsed time: 1.077290319 seconds\n"
     ]
    },
    {
     "data": {
      "text/plain": [
       "6-element Array{Float64,1}:\n",
       " 4.44089e-16\n",
       " 0.0        \n",
       " 1.77636e-15\n",
       " 0.00168437 \n",
       " 0.0314318  \n",
       " 0.00554633 "
      ]
     },
     "metadata": {},
     "output_type": "display_data"
    },
    {
     "data": {
      "text/plain": [
       "6-element Array{Float64,1}:\n",
       " 4.44089e-16\n",
       " 0.0        \n",
       " 1.77636e-15\n",
       " 0.00168437 \n",
       " 0.0314318  \n",
       " 0.00554633 "
      ]
     },
     "metadata": {},
     "output_type": "display_data"
    },
    {
     "name": "stdout",
     "output_type": "stream",
     "text": [
      "elapsed time: 0.723692497 seconds\n"
     ]
    },
    {
     "data": {
      "text/plain": [
       "6-element Array{Float64,1}:\n",
       "      0.0 \n",
       "      0.0 \n",
       "      0.0 \n",
       "  -5491.72\n",
       "  -9764.17\n",
       " -26858.0 "
      ]
     },
     "metadata": {},
     "output_type": "display_data"
    },
    {
     "data": {
      "text/plain": [
       "6-element Array{Float64,1}:\n",
       "      0.0 \n",
       "      0.0 \n",
       "      0.0 \n",
       "  -5491.72\n",
       "  -9764.17\n",
       " -26858.0 "
      ]
     },
     "metadata": {},
     "output_type": "display_data"
    },
    {
     "name": "stdout",
     "output_type": "stream",
     "text": [
      "elapsed time: 1.175927111 seconds\n"
     ]
    },
    {
     "data": {
      "text/plain": [
       "6-element Array{Float64,1}:\n",
       "     1.16415e-10\n",
       "     4.65661e-10\n",
       "     2.32831e-10\n",
       "  1583.85       \n",
       " -5537.19       \n",
       "  8983.22       "
      ]
     },
     "metadata": {},
     "output_type": "display_data"
    },
    {
     "data": {
      "text/plain": [
       "6-element Array{Float64,1}:\n",
       "     1.16415e-10\n",
       "     4.65661e-10\n",
       "     2.32831e-10\n",
       "  1583.85       \n",
       " -5537.19       \n",
       "  8983.22       "
      ]
     },
     "metadata": {},
     "output_type": "display_data"
    },
    {
     "name": "stdout",
     "output_type": "stream",
     "text": [
      "elapsed time: 1.07301131 seconds\n"
     ]
    },
    {
     "data": {
      "text/plain": [
       "6-element Array{Float64,1}:\n",
       "     0.0 \n",
       "     0.0 \n",
       "     0.0 \n",
       "  2383.65\n",
       " 30683.9 \n",
       "  7785.61"
      ]
     },
     "metadata": {},
     "output_type": "display_data"
    },
    {
     "data": {
      "text/plain": [
       "6-element Array{Float64,1}:\n",
       "     0.0 \n",
       "     0.0 \n",
       "     0.0 \n",
       "  2383.65\n",
       " 30683.9 \n",
       "  7785.61"
      ]
     },
     "metadata": {},
     "output_type": "display_data"
    },
    {
     "name": "stdout",
     "output_type": "stream",
     "text": [
      "elapsed time: 0.689571944 seconds\n"
     ]
    },
    {
     "data": {
      "text/plain": [
       "6-element Array{Float64,1}:\n",
       "     0.0        \n",
       "     0.0        \n",
       "    -1.16415e-10\n",
       "   -83.7783     \n",
       " -2400.83       \n",
       "  -160.494      "
      ]
     },
     "metadata": {},
     "output_type": "display_data"
    },
    {
     "data": {
      "text/plain": [
       "6-element Array{Float64,1}:\n",
       "     0.0        \n",
       "     0.0        \n",
       "    -1.16415e-10\n",
       "   -83.7783     \n",
       " -2400.83       \n",
       "  -160.494      "
      ]
     },
     "metadata": {},
     "output_type": "display_data"
    },
    {
     "name": "stdout",
     "output_type": "stream",
     "text": [
      "elapsed time: 1.143447945 seconds\n"
     ]
    },
    {
     "data": {
      "text/plain": [
       "6-element Array{Float64,1}:\n",
       "     5.96046e-8\n",
       "    -2.98023e-8\n",
       "    -1.19209e-7\n",
       "     1.21984e5 \n",
       "     2.75908e6 \n",
       " -5198.84      "
      ]
     },
     "metadata": {},
     "output_type": "display_data"
    },
    {
     "data": {
      "text/plain": [
       "6-element Array{Float64,1}:\n",
       "     5.96046e-8\n",
       "    -2.98023e-8\n",
       "    -1.19209e-7\n",
       "     1.21984e5 \n",
       "     2.75908e6 \n",
       " -5198.84      "
      ]
     },
     "metadata": {},
     "output_type": "display_data"
    },
    {
     "name": "stdout",
     "output_type": "stream",
     "text": [
      "elapsed time: 1.094773327 seconds\n"
     ]
    },
    {
     "data": {
      "text/plain": [
       "6-element Array{Float64,1}:\n",
       "  0.0    \n",
       "  0.0    \n",
       "  0.0    \n",
       "  2.75117\n",
       " 52.2274 \n",
       "  7.19985"
      ]
     },
     "metadata": {},
     "output_type": "display_data"
    },
    {
     "data": {
      "text/plain": [
       "6-element Array{Float64,1}:\n",
       "  0.0    \n",
       "  0.0    \n",
       "  0.0    \n",
       "  2.75117\n",
       " 52.2274 \n",
       "  7.19985"
      ]
     },
     "metadata": {},
     "output_type": "display_data"
    },
    {
     "name": "stdout",
     "output_type": "stream",
     "text": [
      "elapsed time: 0.693710328 seconds\n"
     ]
    },
    {
     "data": {
      "text/plain": [
       "6-element Array{Float64,1}:\n",
       "   5.68434e-14\n",
       "   0.0        \n",
       "   0.0        \n",
       " -19.4359     \n",
       "   4.11968    \n",
       "   4.53648    "
      ]
     },
     "metadata": {},
     "output_type": "display_data"
    },
    {
     "data": {
      "text/plain": [
       "6-element Array{Float64,1}:\n",
       "   5.68434e-14\n",
       "   0.0        \n",
       "   0.0        \n",
       " -19.4359     \n",
       "   4.11968    \n",
       "   4.53648    "
      ]
     },
     "metadata": {},
     "output_type": "display_data"
    },
    {
     "name": "stdout",
     "output_type": "stream",
     "text": [
      "elapsed time: 1.176973826 seconds\n"
     ]
    },
    {
     "data": {
      "text/plain": [
       "6-element Array{Float64,1}:\n",
       "  0.0        \n",
       "  0.0        \n",
       " -2.84217e-14\n",
       " -0.0790069  \n",
       "  0.756961   \n",
       " -1.7185     "
      ]
     },
     "metadata": {},
     "output_type": "display_data"
    },
    {
     "data": {
      "text/plain": [
       "6-element Array{Float64,1}:\n",
       "  0.0        \n",
       "  0.0        \n",
       " -2.84217e-14\n",
       " -0.0790069  \n",
       "  0.756961   \n",
       " -1.7185     "
      ]
     },
     "metadata": {},
     "output_type": "display_data"
    },
    {
     "name": "stdout",
     "output_type": "stream",
     "text": [
      "elapsed time: 1.074234368 seconds\n"
     ]
    },
    {
     "data": {
      "text/plain": [
       "6-element Array{Float64,1}:\n",
       "  0.0        \n",
       " -2.27374e-13\n",
       " -1.13687e-13\n",
       " -3.93461    \n",
       "  0.783795   \n",
       " -5.04335    "
      ]
     },
     "metadata": {},
     "output_type": "display_data"
    },
    {
     "data": {
      "text/plain": [
       "6-element Array{Float64,1}:\n",
       "  0.0        \n",
       " -2.27374e-13\n",
       " -1.13687e-13\n",
       " -3.93461    \n",
       "  0.783795   \n",
       " -5.04335    "
      ]
     },
     "metadata": {},
     "output_type": "display_data"
    },
    {
     "name": "stdout",
     "output_type": "stream",
     "text": [
      "elapsed time: 0.700631016 seconds\n"
     ]
    },
    {
     "data": {
      "text/plain": [
       "6-element Array{Float64,1}:\n",
       " -5.68434e-14\n",
       "  4.54747e-13\n",
       "  0.0        \n",
       " -1.32444    \n",
       "  2.95279    \n",
       " -6.6646     "
      ]
     },
     "metadata": {},
     "output_type": "display_data"
    },
    {
     "data": {
      "text/plain": [
       "6-element Array{Float64,1}:\n",
       " -5.68434e-14\n",
       "  4.54747e-13\n",
       "  0.0        \n",
       " -1.32444    \n",
       "  2.95279    \n",
       " -6.6646     "
      ]
     },
     "metadata": {},
     "output_type": "display_data"
    },
    {
     "name": "stdout",
     "output_type": "stream",
     "text": [
      "elapsed time: 1.146158092 seconds\n"
     ]
    },
    {
     "data": {
      "text/plain": [
       "6-element Array{Float64,1}:\n",
       "    -1.81899e-12\n",
       "     0.0        \n",
       "     0.0        \n",
       " -1535.27       \n",
       "   -51.9541     \n",
       "   782.859      "
      ]
     },
     "metadata": {},
     "output_type": "display_data"
    },
    {
     "data": {
      "text/plain": [
       "6-element Array{Float64,1}:\n",
       "    -1.81899e-12\n",
       "     0.0        \n",
       "     0.0        \n",
       " -1535.27       \n",
       "   -51.9541     \n",
       "   782.859      "
      ]
     },
     "metadata": {},
     "output_type": "display_data"
    },
    {
     "name": "stdout",
     "output_type": "stream",
     "text": [
      "elapsed time: 1.083941982 seconds\n"
     ]
    },
    {
     "data": {
      "text/plain": [
       "6-element Array{Float64,1}:\n",
       "   0.0        \n",
       "   0.0        \n",
       "  -3.63798e-12\n",
       "  -5.53161    \n",
       " -60.5631     \n",
       " -20.6699     "
      ]
     },
     "metadata": {},
     "output_type": "display_data"
    },
    {
     "data": {
      "text/plain": [
       "6-element Array{Float64,1}:\n",
       "   0.0        \n",
       "   0.0        \n",
       "  -3.63798e-12\n",
       "  -5.53161    \n",
       " -60.5631     \n",
       " -20.6699     "
      ]
     },
     "metadata": {},
     "output_type": "display_data"
    },
    {
     "name": "stdout",
     "output_type": "stream",
     "text": [
      "elapsed time: 0.685780516 seconds\n"
     ]
    },
    {
     "data": {
      "text/plain": [
       "6-element Array{Float64,1}:\n",
       "  0.0    \n",
       "  0.0    \n",
       "  0.0    \n",
       " 20.0083 \n",
       " 39.6766 \n",
       "  4.93767"
      ]
     },
     "metadata": {},
     "output_type": "display_data"
    },
    {
     "data": {
      "text/plain": [
       "6-element Array{Float64,1}:\n",
       "  0.0    \n",
       "  0.0    \n",
       "  0.0    \n",
       " 20.0083 \n",
       " 39.6766 \n",
       "  4.93767"
      ]
     },
     "metadata": {},
     "output_type": "display_data"
    },
    {
     "name": "stdout",
     "output_type": "stream",
     "text": [
      "elapsed time: 1.152504268 seconds\n"
     ]
    },
    {
     "data": {
      "text/plain": [
       "6-element Array{Float64,1}:\n",
       "    4.54747e-13\n",
       "    7.27596e-12\n",
       "    0.0        \n",
       "  -22.1748     \n",
       "   20.4704     \n",
       " -149.949      "
      ]
     },
     "metadata": {},
     "output_type": "display_data"
    },
    {
     "data": {
      "text/plain": [
       "6-element Array{Float64,1}:\n",
       "    4.54747e-13\n",
       "    7.27596e-12\n",
       "    0.0        \n",
       "  -22.1748     \n",
       "   20.4704     \n",
       " -149.949      "
      ]
     },
     "metadata": {},
     "output_type": "display_data"
    },
    {
     "name": "stdout",
     "output_type": "stream",
     "text": [
      "elapsed time: 1.069704308 seconds\n"
     ]
    },
    {
     "data": {
      "text/plain": [
       "6-element Array{Float64,1}:\n",
       "    0.0        \n",
       "    7.27596e-12\n",
       "    7.27596e-12\n",
       "   -5.21931    \n",
       " -199.234      \n",
       "  130.057      "
      ]
     },
     "metadata": {},
     "output_type": "display_data"
    },
    {
     "data": {
      "text/plain": [
       "6-element Array{Float64,1}:\n",
       "    0.0        \n",
       "    7.27596e-12\n",
       "    7.27596e-12\n",
       "   -5.21931    \n",
       " -199.234      \n",
       "  130.057      "
      ]
     },
     "metadata": {},
     "output_type": "display_data"
    },
    {
     "name": "stdout",
     "output_type": "stream",
     "text": [
      "elapsed time: 0.694625635 seconds\n"
     ]
    },
    {
     "data": {
      "text/plain": [
       "6-element Array{Float64,1}:\n",
       "    4.54747e-13\n",
       "    7.27596e-12\n",
       "    0.0        \n",
       "  -22.1748     \n",
       "   20.4704     \n",
       " -149.949      "
      ]
     },
     "metadata": {},
     "output_type": "display_data"
    },
    {
     "data": {
      "text/plain": [
       "6-element Array{Float64,1}:\n",
       "    4.54747e-13\n",
       "    7.27596e-12\n",
       "    0.0        \n",
       "  -22.1748     \n",
       "   20.4704     \n",
       " -149.949      "
      ]
     },
     "metadata": {},
     "output_type": "display_data"
    },
    {
     "name": "stdout",
     "output_type": "stream",
     "text": [
      "elapsed time: 1.145602143 seconds\n"
     ]
    },
    {
     "data": {
      "text/plain": [
       "6-element Array{Float64,1}:\n",
       "    -5.82077e-11\n",
       "     5.82077e-11\n",
       "     0.0        \n",
       "  -249.966      \n",
       " -2965.31       \n",
       "  -865.201      "
      ]
     },
     "metadata": {},
     "output_type": "display_data"
    },
    {
     "data": {
      "text/plain": [
       "6-element Array{Float64,1}:\n",
       "    -5.82077e-11\n",
       "     5.82077e-11\n",
       "     0.0        \n",
       "  -249.966      \n",
       " -2965.31       \n",
       "  -865.201      "
      ]
     },
     "metadata": {},
     "output_type": "display_data"
    },
    {
     "name": "stdout",
     "output_type": "stream",
     "text": [
      "elapsed time: 0.687543112 seconds\n"
     ]
    },
    {
     "data": {
      "text/plain": [
       "6-element Array{Float64,1}:\n",
       "  0.0        \n",
       " -3.63798e-12\n",
       "  3.63798e-12\n",
       " 47.8747     \n",
       " 66.8722     \n",
       " 13.4445     "
      ]
     },
     "metadata": {},
     "output_type": "display_data"
    },
    {
     "data": {
      "text/plain": [
       "6-element Array{Float64,1}:\n",
       "  0.0        \n",
       " -3.63798e-12\n",
       "  3.63798e-12\n",
       " 47.8747     \n",
       " 66.8722     \n",
       " 13.4445     "
      ]
     },
     "metadata": {},
     "output_type": "display_data"
    },
    {
     "name": "stdout",
     "output_type": "stream",
     "text": [
      "elapsed time: 0.681287699 seconds\n"
     ]
    },
    {
     "data": {
      "text/plain": [
       "6-element Array{Float64,1}:\n",
       " 7.10543e-15\n",
       " 7.10543e-15\n",
       " 0.0        \n",
       " 0.385052   \n",
       " 0.340018   \n",
       " 0.0624131  "
      ]
     },
     "metadata": {},
     "output_type": "display_data"
    },
    {
     "data": {
      "text/plain": [
       "6-element Array{Float64,1}:\n",
       " 7.10543e-15\n",
       " 7.10543e-15\n",
       " 0.0        \n",
       " 0.385052   \n",
       " 0.340018   \n",
       " 0.0624131  "
      ]
     },
     "metadata": {},
     "output_type": "display_data"
    },
    {
     "name": "stdout",
     "output_type": "stream",
     "text": [
      "elapsed time: 1.135123345 seconds\n"
     ]
    },
    {
     "data": {
      "text/plain": [
       "6-element Array{Float64,1}:\n",
       "  1.77636e-15\n",
       "  2.13163e-14\n",
       " -7.10543e-15\n",
       "  1.5242     \n",
       " -0.118054   \n",
       " -0.664246   "
      ]
     },
     "metadata": {},
     "output_type": "display_data"
    },
    {
     "data": {
      "text/plain": [
       "6-element Array{Float64,1}:\n",
       "  1.77636e-15\n",
       "  2.13163e-14\n",
       " -7.10543e-15\n",
       "  1.5242     \n",
       " -0.118054   \n",
       " -0.664246   "
      ]
     },
     "metadata": {},
     "output_type": "display_data"
    },
    {
     "name": "stdout",
     "output_type": "stream",
     "text": [
      "elapsed time: 1.07004077 seconds\n"
     ]
    },
    {
     "data": {
      "text/plain": [
       "6-element Array{Float64,1}:\n",
       "  7.62939e-6\n",
       "  0.0       \n",
       "  9.15527e-5\n",
       "  2.11225e8 \n",
       " -4.34759e8 \n",
       "  4.54645e9 "
      ]
     },
     "metadata": {},
     "output_type": "display_data"
    },
    {
     "data": {
      "text/plain": [
       "6-element Array{Float64,1}:\n",
       "  7.62939e-6\n",
       "  0.0       \n",
       "  9.15527e-5\n",
       "  2.11225e8 \n",
       " -4.34759e8 \n",
       "  4.54645e9 "
      ]
     },
     "metadata": {},
     "output_type": "display_data"
    },
    {
     "name": "stdout",
     "output_type": "stream",
     "text": [
      "elapsed time: 0.66813132 seconds\n"
     ]
    },
    {
     "data": {
      "text/plain": [
       "6-element Array{Float64,1}:\n",
       "    1.45519e-11\n",
       "   -2.91038e-11\n",
       "    0.0        \n",
       "  531.504      \n",
       " 1132.64       \n",
       "  569.552      "
      ]
     },
     "metadata": {},
     "output_type": "display_data"
    },
    {
     "data": {
      "text/plain": [
       "6-element Array{Float64,1}:\n",
       "    1.45519e-11\n",
       "   -2.91038e-11\n",
       "    0.0        \n",
       "  531.504      \n",
       " 1132.64       \n",
       "  569.552      "
      ]
     },
     "metadata": {},
     "output_type": "display_data"
    },
    {
     "name": "stdout",
     "output_type": "stream",
     "text": [
      "elapsed time: 1.149624839 seconds\n"
     ]
    },
    {
     "data": {
      "text/plain": [
       "6-element Array{Float64,1}:\n",
       "  1.13687e-13\n",
       " -4.54747e-13\n",
       "  4.54747e-13\n",
       "  9.02551    \n",
       "  5.83978    \n",
       "  9.14475    "
      ]
     },
     "metadata": {},
     "output_type": "display_data"
    },
    {
     "data": {
      "text/plain": [
       "6-element Array{Float64,1}:\n",
       "  1.13687e-13\n",
       " -4.54747e-13\n",
       "  4.54747e-13\n",
       "  9.02551    \n",
       "  5.83978    \n",
       "  9.14475    "
      ]
     },
     "metadata": {},
     "output_type": "display_data"
    },
    {
     "name": "stdout",
     "output_type": "stream",
     "text": [
      "elapsed time: 0.680655167 seconds\n"
     ]
    },
    {
     "data": {
      "text/plain": [
       "6-element Array{Float64,1}:\n",
       "  -4.54747e-13\n",
       "   4.54747e-13\n",
       "   0.0        \n",
       "   2.92702    \n",
       " -26.2395     \n",
       "   6.69361    "
      ]
     },
     "metadata": {},
     "output_type": "display_data"
    },
    {
     "data": {
      "text/plain": [
       "6-element Array{Float64,1}:\n",
       "  -4.54747e-13\n",
       "   4.54747e-13\n",
       "   0.0        \n",
       "   2.92702    \n",
       " -26.2395     \n",
       "   6.69361    "
      ]
     },
     "metadata": {},
     "output_type": "display_data"
    },
    {
     "name": "stdout",
     "output_type": "stream",
     "text": [
      "elapsed time: 0.702797479 seconds\n"
     ]
    },
    {
     "data": {
      "text/plain": [
       "6-element Array{Float64,1}:\n",
       "  1.13687e-13\n",
       " -4.54747e-13\n",
       "  4.54747e-13\n",
       "  9.02551    \n",
       "  5.83978    \n",
       "  9.14475    "
      ]
     },
     "metadata": {},
     "output_type": "display_data"
    },
    {
     "data": {
      "text/plain": [
       "6-element Array{Float64,1}:\n",
       "  1.13687e-13\n",
       " -4.54747e-13\n",
       "  4.54747e-13\n",
       "  9.02551    \n",
       "  5.83978    \n",
       "  9.14475    "
      ]
     },
     "metadata": {},
     "output_type": "display_data"
    },
    {
     "name": "stdout",
     "output_type": "stream",
     "text": [
      "elapsed time: 1.210502878 seconds\n"
     ]
    },
    {
     "data": {
      "text/plain": [
       "6-element Array{Float64,1}:\n",
       "  8.88178e-16\n",
       " -2.84217e-14\n",
       " -1.42109e-14\n",
       "  3.82535    \n",
       " -0.0795647  \n",
       " -0.831545   "
      ]
     },
     "metadata": {},
     "output_type": "display_data"
    },
    {
     "data": {
      "text/plain": [
       "6-element Array{Float64,1}:\n",
       "  8.88178e-16\n",
       " -2.84217e-14\n",
       " -1.42109e-14\n",
       "  3.82535    \n",
       " -0.0795647  \n",
       " -0.831545   "
      ]
     },
     "metadata": {},
     "output_type": "display_data"
    },
    {
     "name": "stdout",
     "output_type": "stream",
     "text": [
      "elapsed time: 0.717277487 seconds\n"
     ]
    },
    {
     "data": {
      "text/plain": [
       "6-element Array{Float64,1}:\n",
       "  0.0        \n",
       "  0.0        \n",
       " -2.22045e-16\n",
       "  0.000701325\n",
       " -0.00470342 \n",
       "  0.00367183 "
      ]
     },
     "metadata": {},
     "output_type": "display_data"
    },
    {
     "data": {
      "text/plain": [
       "6-element Array{Float64,1}:\n",
       "  0.0        \n",
       "  0.0        \n",
       " -2.22045e-16\n",
       "  0.000701325\n",
       " -0.00470342 \n",
       "  0.00367183 "
      ]
     },
     "metadata": {},
     "output_type": "display_data"
    },
    {
     "name": "stdout",
     "output_type": "stream",
     "text": [
      "elapsed time: 0.687271968 seconds\n"
     ]
    },
    {
     "data": {
      "text/plain": [
       "6-element Array{Float64,1}:\n",
       "  1.81899e-12\n",
       "  1.81899e-12\n",
       "  0.0        \n",
       " -3.88795    \n",
       " 85.44       \n",
       "  3.65215    "
      ]
     },
     "metadata": {},
     "output_type": "display_data"
    },
    {
     "data": {
      "text/plain": [
       "6-element Array{Float64,1}:\n",
       "  1.81899e-12\n",
       "  1.81899e-12\n",
       "  0.0        \n",
       " -3.88795    \n",
       " 85.44       \n",
       "  3.65215    "
      ]
     },
     "metadata": {},
     "output_type": "display_data"
    },
    {
     "name": "stdout",
     "output_type": "stream",
     "text": [
      "elapsed time: 1.083918314 seconds\n"
     ]
    },
    {
     "data": {
      "text/plain": [
       "6-element Array{Float64,1}:\n",
       "    0.0        \n",
       "    1.45519e-11\n",
       "    2.91038e-11\n",
       "   73.8948     \n",
       " -467.618      \n",
       "  335.914      "
      ]
     },
     "metadata": {},
     "output_type": "display_data"
    },
    {
     "data": {
      "text/plain": [
       "6-element Array{Float64,1}:\n",
       "    0.0        \n",
       "    1.45519e-11\n",
       "    2.91038e-11\n",
       "   73.8948     \n",
       " -467.618      \n",
       "  335.914      "
      ]
     },
     "metadata": {},
     "output_type": "display_data"
    },
    {
     "name": "stdout",
     "output_type": "stream",
     "text": [
      "elapsed time: 0.687859165 seconds\n"
     ]
    },
    {
     "data": {
      "text/plain": [
       "6-element Array{Float64,1}:\n",
       "   -3.63798e-12\n",
       "    0.0        \n",
       "    7.27596e-12\n",
       "   14.5222     \n",
       " -165.682      \n",
       "   73.0834     "
      ]
     },
     "metadata": {},
     "output_type": "display_data"
    },
    {
     "data": {
      "text/plain": [
       "6-element Array{Float64,1}:\n",
       "   -3.63798e-12\n",
       "    0.0        \n",
       "    7.27596e-12\n",
       "   14.5222     \n",
       " -165.682      \n",
       "   73.0834     "
      ]
     },
     "metadata": {},
     "output_type": "display_data"
    },
    {
     "name": "stdout",
     "output_type": "stream",
     "text": [
      "elapsed time: 1.062737566 seconds\n"
     ]
    },
    {
     "data": {
      "text/plain": [
       "6-element Array{Float64,1}:\n",
       "   -1.45519e-11\n",
       "   -5.82077e-11\n",
       "    2.91038e-11\n",
       " -120.185      \n",
       "  408.725      \n",
       " -943.074      "
      ]
     },
     "metadata": {},
     "output_type": "display_data"
    },
    {
     "data": {
      "text/plain": [
       "6-element Array{Float64,1}:\n",
       "   -1.45519e-11\n",
       "   -5.82077e-11\n",
       "    2.91038e-11\n",
       " -120.185      \n",
       "  408.725      \n",
       " -943.074      "
      ]
     },
     "metadata": {},
     "output_type": "display_data"
    },
    {
     "name": "stdout",
     "output_type": "stream",
     "text": [
      "elapsed time: 1.089072924 seconds\n"
     ]
    },
    {
     "data": {
      "text/plain": [
       "6-element Array{Float64,1}:\n",
       "     0.0        \n",
       "     0.0        \n",
       "    -4.65661e-10\n",
       " -1211.28       \n",
       " 11135.9        \n",
       " -3975.09       "
      ]
     },
     "metadata": {},
     "output_type": "display_data"
    },
    {
     "data": {
      "text/plain": [
       "6-element Array{Float64,1}:\n",
       "     0.0        \n",
       "     0.0        \n",
       "    -4.65661e-10\n",
       " -1211.28       \n",
       " 11135.9        \n",
       " -3975.09       "
      ]
     },
     "metadata": {},
     "output_type": "display_data"
    },
    {
     "name": "stdout",
     "output_type": "stream",
     "text": [
      "elapsed time: 0.903134905 seconds\n"
     ]
    },
    {
     "data": {
      "text/plain": [
       "6-element Array{Float64,1}:\n",
       "   2.27374e-13\n",
       "  -4.54747e-13\n",
       "  -9.09495e-13\n",
       "   1.31263    \n",
       " -13.4595     \n",
       "  10.9196     "
      ]
     },
     "metadata": {},
     "output_type": "display_data"
    },
    {
     "data": {
      "text/plain": [
       "6-element Array{Float64,1}:\n",
       "   2.27374e-13\n",
       "  -4.54747e-13\n",
       "  -9.09495e-13\n",
       "   1.31263    \n",
       " -13.4595     \n",
       "  10.9196     "
      ]
     },
     "metadata": {},
     "output_type": "display_data"
    },
    {
     "name": "stdout",
     "output_type": "stream",
     "text": [
      "elapsed time: 1.325338559 seconds\n"
     ]
    },
    {
     "data": {
      "text/plain": [
       "6-element Array{Float64,1}:\n",
       "   -7.27596e-12\n",
       "   -1.45519e-11\n",
       "    0.0        \n",
       "  -66.469      \n",
       "  478.544      \n",
       " -223.832      "
      ]
     },
     "metadata": {},
     "output_type": "display_data"
    },
    {
     "data": {
      "text/plain": [
       "6-element Array{Float64,1}:\n",
       "   -7.27596e-12\n",
       "   -1.45519e-11\n",
       "    0.0        \n",
       "  -66.469      \n",
       "  478.544      \n",
       " -223.832      "
      ]
     },
     "metadata": {},
     "output_type": "display_data"
    },
    {
     "name": "stdout",
     "output_type": "stream",
     "text": [
      "elapsed time: 0.688514542 seconds\n"
     ]
    },
    {
     "data": {
      "text/plain": [
       "6-element Array{Float64,1}:\n",
       "   -1.45519e-11\n",
       "    2.91038e-11\n",
       "    0.0        \n",
       " -145.173      \n",
       " 1070.73       \n",
       " -455.998      "
      ]
     },
     "metadata": {},
     "output_type": "display_data"
    },
    {
     "data": {
      "text/plain": [
       "6-element Array{Float64,1}:\n",
       "   -1.45519e-11\n",
       "    2.91038e-11\n",
       "    0.0        \n",
       " -145.173      \n",
       " 1070.73       \n",
       " -455.998      "
      ]
     },
     "metadata": {},
     "output_type": "display_data"
    },
    {
     "name": "stdout",
     "output_type": "stream",
     "text": [
      "elapsed time: 1.072905083 seconds\n"
     ]
    },
    {
     "data": {
      "text/plain": [
       "6-element Array{Float64,1}:\n",
       "    0.0        \n",
       "    0.0        \n",
       "   -1.45519e-11\n",
       "  -45.5267     \n",
       "  348.602      \n",
       " -158.139      "
      ]
     },
     "metadata": {},
     "output_type": "display_data"
    },
    {
     "data": {
      "text/plain": [
       "6-element Array{Float64,1}:\n",
       "    0.0        \n",
       "    0.0        \n",
       "   -1.45519e-11\n",
       "  -45.5267     \n",
       "  348.602      \n",
       " -158.139      "
      ]
     },
     "metadata": {},
     "output_type": "display_data"
    },
    {
     "name": "stdout",
     "output_type": "stream",
     "text": [
      "elapsed time: 1.078670565 seconds\n"
     ]
    },
    {
     "data": {
      "text/plain": [
       "6-element Array{Float64,1}:\n",
       "  0.0        \n",
       "  0.0        \n",
       "  1.13687e-13\n",
       " -0.342634   \n",
       "  1.9766     \n",
       " -1.7724     "
      ]
     },
     "metadata": {},
     "output_type": "display_data"
    },
    {
     "data": {
      "text/plain": [
       "6-element Array{Float64,1}:\n",
       "  0.0        \n",
       "  0.0        \n",
       "  1.13687e-13\n",
       " -0.342634   \n",
       "  1.9766     \n",
       " -1.7724     "
      ]
     },
     "metadata": {},
     "output_type": "display_data"
    },
    {
     "name": "stdout",
     "output_type": "stream",
     "text": [
      "elapsed time: 0.684932636 seconds\n"
     ]
    },
    {
     "data": {
      "text/plain": [
       "6-element Array{Float64,1}:\n",
       "     0.0        \n",
       "     0.0        \n",
       "     4.65661e-10\n",
       "   581.68       \n",
       " 12565.4        \n",
       " 17162.1        "
      ]
     },
     "metadata": {},
     "output_type": "display_data"
    },
    {
     "data": {
      "text/plain": [
       "6-element Array{Float64,1}:\n",
       "     0.0        \n",
       "     0.0        \n",
       "     4.65661e-10\n",
       "   581.68       \n",
       " 12565.4        \n",
       " 17162.1        "
      ]
     },
     "metadata": {},
     "output_type": "display_data"
    },
    {
     "name": "stdout",
     "output_type": "stream",
     "text": [
      "elapsed time: 1.141779735 seconds\n"
     ]
    },
    {
     "data": {
      "text/plain": [
       "6-element Array{Float64,1}:\n",
       "     1.16415e-10\n",
       "     1.16415e-10\n",
       "    -4.65661e-10\n",
       "   339.488      \n",
       " -9239.51       \n",
       "  1325.51       "
      ]
     },
     "metadata": {},
     "output_type": "display_data"
    },
    {
     "data": {
      "text/plain": [
       "6-element Array{Float64,1}:\n",
       "     1.16415e-10\n",
       "     1.16415e-10\n",
       "    -4.65661e-10\n",
       "   339.488      \n",
       " -9239.51       \n",
       "  1325.51       "
      ]
     },
     "metadata": {},
     "output_type": "display_data"
    },
    {
     "name": "stdout",
     "output_type": "stream",
     "text": [
      "elapsed time: 0.719714446 seconds\n"
     ]
    },
    {
     "data": {
      "text/plain": [
       "6-element Array{Float64,1}:\n",
       "   7.27596e-12\n",
       "   0.0        \n",
       "   2.91038e-11\n",
       " -12.3716     \n",
       " 340.976      \n",
       " -36.543      "
      ]
     },
     "metadata": {},
     "output_type": "display_data"
    },
    {
     "data": {
      "text/plain": [
       "6-element Array{Float64,1}:\n",
       "   7.27596e-12\n",
       "   0.0        \n",
       "   2.91038e-11\n",
       " -12.3716     \n",
       " 340.976      \n",
       " -36.543      "
      ]
     },
     "metadata": {},
     "output_type": "display_data"
    },
    {
     "name": "stdout",
     "output_type": "stream",
     "text": [
      "elapsed time: 0.687229763 seconds\n"
     ]
    },
    {
     "data": {
      "text/plain": [
       "6-element Array{Float64,1}:\n",
       "   0.0    \n",
       "   0.0    \n",
       "   0.0    \n",
       "  -2.44684\n",
       " -27.0978 \n",
       "   4.3239 "
      ]
     },
     "metadata": {},
     "output_type": "display_data"
    },
    {
     "data": {
      "text/plain": [
       "6-element Array{Float64,1}:\n",
       "   0.0    \n",
       "   0.0    \n",
       "   0.0    \n",
       "  -2.44684\n",
       " -27.0978 \n",
       "   4.3239 "
      ]
     },
     "metadata": {},
     "output_type": "display_data"
    },
    {
     "name": "stdout",
     "output_type": "stream",
     "text": [
      "elapsed time: 1.075268009 seconds\n"
     ]
    },
    {
     "data": {
      "text/plain": [
       "6-element Array{Float64,1}:\n",
       "   0.0        \n",
       "   0.0        \n",
       "  -1.81899e-12\n",
       "  11.0342     \n",
       " -20.1703     \n",
       " 209.325      "
      ]
     },
     "metadata": {},
     "output_type": "display_data"
    },
    {
     "data": {
      "text/plain": [
       "6-element Array{Float64,1}:\n",
       "   0.0        \n",
       "   0.0        \n",
       "  -1.81899e-12\n",
       "  11.0342     \n",
       " -20.1703     \n",
       " 209.325      "
      ]
     },
     "metadata": {},
     "output_type": "display_data"
    },
    {
     "name": "stdout",
     "output_type": "stream",
     "text": [
      "elapsed time: 0.741204295 seconds\n"
     ]
    },
    {
     "data": {
      "text/plain": [
       "6-element Array{Float64,1}:\n",
       "   7.27596e-12\n",
       "  -7.27596e-12\n",
       "  -2.91038e-11\n",
       "  -2.8681     \n",
       " 498.728      \n",
       "  98.1048     "
      ]
     },
     "metadata": {},
     "output_type": "display_data"
    },
    {
     "data": {
      "text/plain": [
       "6-element Array{Float64,1}:\n",
       "   7.27596e-12\n",
       "  -7.27596e-12\n",
       "  -2.91038e-11\n",
       "  -2.8681     \n",
       " 498.728      \n",
       "  98.1048     "
      ]
     },
     "metadata": {},
     "output_type": "display_data"
    },
    {
     "name": "stdout",
     "output_type": "stream",
     "text": [
      "elapsed time: 1.189517879 seconds\n"
     ]
    },
    {
     "data": {
      "text/plain": [
       "6-element Array{Float64,1}:\n",
       "   0.0        \n",
       "  -3.63798e-12\n",
       "   0.0        \n",
       "   2.41171    \n",
       " 105.535      \n",
       "  18.7268     "
      ]
     },
     "metadata": {},
     "output_type": "display_data"
    },
    {
     "data": {
      "text/plain": [
       "6-element Array{Float64,1}:\n",
       "   0.0        \n",
       "  -3.63798e-12\n",
       "   0.0        \n",
       "   2.41171    \n",
       " 105.535      \n",
       "  18.7268     "
      ]
     },
     "metadata": {},
     "output_type": "display_data"
    },
    {
     "name": "stdout",
     "output_type": "stream",
     "text": [
      "elapsed time: 1.065206304 seconds\n"
     ]
    },
    {
     "data": {
      "text/plain": [
       "6-element Array{Float64,1}:\n",
       "  0.0        \n",
       "  0.0        \n",
       "  1.42109e-14\n",
       "  2.89107    \n",
       " -0.395908   \n",
       " -0.386754   "
      ]
     },
     "metadata": {},
     "output_type": "display_data"
    },
    {
     "data": {
      "text/plain": [
       "6-element Array{Float64,1}:\n",
       "  0.0        \n",
       "  0.0        \n",
       "  1.42109e-14\n",
       "  2.89107    \n",
       " -0.395908   \n",
       " -0.386754   "
      ]
     },
     "metadata": {},
     "output_type": "display_data"
    },
    {
     "name": "stdout",
     "output_type": "stream",
     "text": [
      "elapsed time: 0.727423985 seconds\n"
     ]
    },
    {
     "data": {
      "text/plain": [
       "6-element Array{Float64,1}:\n",
       "   7.27596e-12\n",
       "   2.27374e-12\n",
       "   0.0        \n",
       " 116.614      \n",
       " 482.548      \n",
       " -45.388      "
      ]
     },
     "metadata": {},
     "output_type": "display_data"
    },
    {
     "data": {
      "text/plain": [
       "6-element Array{Float64,1}:\n",
       "   7.27596e-12\n",
       "   2.27374e-12\n",
       "   0.0        \n",
       " 116.614      \n",
       " 482.548      \n",
       " -45.388      "
      ]
     },
     "metadata": {},
     "output_type": "display_data"
    },
    {
     "name": "stdout",
     "output_type": "stream",
     "text": [
      "elapsed time: 1.168852919 seconds\n"
     ]
    },
    {
     "data": {
      "text/plain": [
       "6-element Array{Float64,1}:\n",
       "    0.0        \n",
       "    0.0        \n",
       "   -4.65661e-10\n",
       "   -5.4842     \n",
       " 5264.63       \n",
       " 4780.05       "
      ]
     },
     "metadata": {},
     "output_type": "display_data"
    },
    {
     "data": {
      "text/plain": [
       "6-element Array{Float64,1}:\n",
       "    0.0        \n",
       "    0.0        \n",
       "   -4.65661e-10\n",
       "   -5.4842     \n",
       " 5264.63       \n",
       " 4780.05       "
      ]
     },
     "metadata": {},
     "output_type": "display_data"
    },
    {
     "name": "stdout",
     "output_type": "stream",
     "text": [
      "elapsed time: 1.063919634 seconds\n"
     ]
    },
    {
     "data": {
      "text/plain": [
       "6-element Array{Float64,1}:\n",
       "   3.63798e-12\n",
       "  -2.91038e-11\n",
       "   0.0        \n",
       "  11.0925     \n",
       " 249.258      \n",
       " 498.099      "
      ]
     },
     "metadata": {},
     "output_type": "display_data"
    },
    {
     "data": {
      "text/plain": [
       "6-element Array{Float64,1}:\n",
       "   3.63798e-12\n",
       "  -2.91038e-11\n",
       "   0.0        \n",
       "  11.0925     \n",
       " 249.258      \n",
       " 498.099      "
      ]
     },
     "metadata": {},
     "output_type": "display_data"
    },
    {
     "name": "stdout",
     "output_type": "stream",
     "text": [
      "elapsed time: 0.677962042 seconds\n"
     ]
    },
    {
     "data": {
      "text/plain": [
       "6-element Array{Float64,1}:\n",
       "     0.0        \n",
       "    -1.16415e-10\n",
       "     2.91038e-11\n",
       "  -138.644      \n",
       "  -513.218      \n",
       " -2647.8        "
      ]
     },
     "metadata": {},
     "output_type": "display_data"
    },
    {
     "data": {
      "text/plain": [
       "6-element Array{Float64,1}:\n",
       "     0.0        \n",
       "    -1.16415e-10\n",
       "     2.91038e-11\n",
       "  -138.644      \n",
       "  -513.218      \n",
       " -2647.8        "
      ]
     },
     "metadata": {},
     "output_type": "display_data"
    },
    {
     "name": "stdout",
     "output_type": "stream",
     "text": [
      "elapsed time: 1.199088484 seconds\n"
     ]
    },
    {
     "data": {
      "text/plain": [
       "6-element Array{Float64,1}:\n",
       "  -7.27596e-12\n",
       "   0.0        \n",
       "   0.0        \n",
       "  35.6274     \n",
       " 449.691      \n",
       " 806.989      "
      ]
     },
     "metadata": {},
     "output_type": "display_data"
    },
    {
     "data": {
      "text/plain": [
       "6-element Array{Float64,1}:\n",
       "  -7.27596e-12\n",
       "   0.0        \n",
       "   0.0        \n",
       "  35.6274     \n",
       " 449.691      \n",
       " 806.989      "
      ]
     },
     "metadata": {},
     "output_type": "display_data"
    },
    {
     "name": "stdout",
     "output_type": "stream",
     "text": [
      "elapsed time: 0.931585092 seconds\n"
     ]
    },
    {
     "data": {
      "text/plain": [
       "6-element Array{Float64,1}:\n",
       "    5.82077e-11\n",
       "   -1.16415e-10\n",
       "    0.0        \n",
       "   -4.67548    \n",
       " 4170.29       \n",
       " 1545.37       "
      ]
     },
     "metadata": {},
     "output_type": "display_data"
    },
    {
     "data": {
      "text/plain": [
       "6-element Array{Float64,1}:\n",
       "    5.82077e-11\n",
       "   -1.16415e-10\n",
       "    0.0        \n",
       "   -4.67548    \n",
       " 4170.29       \n",
       " 1545.37       "
      ]
     },
     "metadata": {},
     "output_type": "display_data"
    },
    {
     "name": "stdout",
     "output_type": "stream",
     "text": [
      "elapsed time: 0.679735901 seconds\n"
     ]
    },
    {
     "data": {
      "text/plain": [
       "6-element Array{Float64,1}:\n",
       "    1.45519e-11\n",
       "    0.0        \n",
       "    0.0        \n",
       "  -38.064      \n",
       " -481.156      \n",
       " -856.778      "
      ]
     },
     "metadata": {},
     "output_type": "display_data"
    },
    {
     "data": {
      "text/plain": [
       "6-element Array{Float64,1}:\n",
       "    1.45519e-11\n",
       "    0.0        \n",
       "    0.0        \n",
       "  -38.064      \n",
       " -481.156      \n",
       " -856.778      "
      ]
     },
     "metadata": {},
     "output_type": "display_data"
    },
    {
     "name": "stdout",
     "output_type": "stream",
     "text": [
      "elapsed time: 1.113724083 seconds\n"
     ]
    },
    {
     "data": {
      "text/plain": [
       "6-element Array{Float64,1}:\n",
       "   0.0        \n",
       "  -9.09495e-13\n",
       "  -7.27596e-12\n",
       " -20.2691     \n",
       " 128.401      \n",
       "  25.2938     "
      ]
     },
     "metadata": {},
     "output_type": "display_data"
    },
    {
     "data": {
      "text/plain": [
       "6-element Array{Float64,1}:\n",
       "   0.0        \n",
       "  -9.09495e-13\n",
       "  -7.27596e-12\n",
       " -20.2691     \n",
       " 128.401      \n",
       "  25.2938     "
      ]
     },
     "metadata": {},
     "output_type": "display_data"
    },
    {
     "name": "stdout",
     "output_type": "stream",
     "text": [
      "elapsed time: 0.735049222 seconds\n"
     ]
    },
    {
     "data": {
      "text/plain": [
       "6-element Array{Float64,1}:\n",
       "    1.81899e-12\n",
       "    0.0        \n",
       "    0.0        \n",
       "   78.4653     \n",
       " -126.636      \n",
       "   73.1331     "
      ]
     },
     "metadata": {},
     "output_type": "display_data"
    },
    {
     "data": {
      "text/plain": [
       "6-element Array{Float64,1}:\n",
       "    1.81899e-12\n",
       "    0.0        \n",
       "    0.0        \n",
       "   78.4653     \n",
       " -126.636      \n",
       "   73.1331     "
      ]
     },
     "metadata": {},
     "output_type": "display_data"
    },
    {
     "name": "stdout",
     "output_type": "stream",
     "text": [
      "elapsed time: 0.695404033 seconds\n"
     ]
    },
    {
     "data": {
      "text/plain": [
       "6-element Array{Float64,1}:\n",
       "    1.16415e-10\n",
       "    0.0        \n",
       "    0.0        \n",
       " -575.016      \n",
       " 7618.55       \n",
       "  343.669      "
      ]
     },
     "metadata": {},
     "output_type": "display_data"
    },
    {
     "data": {
      "text/plain": [
       "6-element Array{Float64,1}:\n",
       "    1.16415e-10\n",
       "    0.0        \n",
       "    0.0        \n",
       " -575.016      \n",
       " 7618.55       \n",
       "  343.669      "
      ]
     },
     "metadata": {},
     "output_type": "display_data"
    },
    {
     "name": "stdout",
     "output_type": "stream",
     "text": [
      "elapsed time: 1.129696213 seconds\n"
     ]
    },
    {
     "data": {
      "text/plain": [
       "6-element Array{Float64,1}:\n",
       "     0.0       \n",
       "     0.0       \n",
       "     5.96046e-8\n",
       " 59130.1       \n",
       "    -6.49365e5 \n",
       "     1.22875e5 "
      ]
     },
     "metadata": {},
     "output_type": "display_data"
    },
    {
     "data": {
      "text/plain": [
       "6-element Array{Float64,1}:\n",
       "     0.0       \n",
       "     0.0       \n",
       "     5.96046e-8\n",
       " 59130.1       \n",
       "    -6.49365e5 \n",
       "     1.22875e5 "
      ]
     },
     "metadata": {},
     "output_type": "display_data"
    },
    {
     "name": "stdout",
     "output_type": "stream",
     "text": [
      "elapsed time: 0.682579265 seconds\n"
     ]
    },
    {
     "data": {
      "text/plain": [
       "6-element Array{Float64,1}:\n",
       "     0.0        \n",
       "    -2.32831e-10\n",
       "    -4.65661e-10\n",
       "  1047.1        \n",
       " -9021.91       \n",
       "  2714.95       "
      ]
     },
     "metadata": {},
     "output_type": "display_data"
    },
    {
     "data": {
      "text/plain": [
       "6-element Array{Float64,1}:\n",
       "     0.0        \n",
       "    -2.32831e-10\n",
       "    -4.65661e-10\n",
       "  1047.1        \n",
       " -9021.91       \n",
       "  2714.95       "
      ]
     },
     "metadata": {},
     "output_type": "display_data"
    },
    {
     "name": "stdout",
     "output_type": "stream",
     "text": [
      "elapsed time: 1.081833786 seconds\n"
     ]
    },
    {
     "data": {
      "text/plain": [
       "6-element Array{Float64,1}:\n",
       "    0.0  \n",
       "    0.0  \n",
       "    0.0  \n",
       " -235.734\n",
       " 2677.28 \n",
       " -384.012"
      ]
     },
     "metadata": {},
     "output_type": "display_data"
    },
    {
     "data": {
      "text/plain": [
       "6-element Array{Float64,1}:\n",
       "    0.0  \n",
       "    0.0  \n",
       "    0.0  \n",
       " -235.734\n",
       " 2677.28 \n",
       " -384.012"
      ]
     },
     "metadata": {},
     "output_type": "display_data"
    },
    {
     "name": "stdout",
     "output_type": "stream",
     "text": [
      "elapsed time: 1.074398526 seconds\n"
     ]
    },
    {
     "data": {
      "text/plain": [
       "6-element Array{Float64,1}:\n",
       "    -1.16415e-10\n",
       "     1.16415e-10\n",
       "     0.0        \n",
       "   798.392      \n",
       " -8917.22       \n",
       "  1473.29       "
      ]
     },
     "metadata": {},
     "output_type": "display_data"
    },
    {
     "data": {
      "text/plain": [
       "6-element Array{Float64,1}:\n",
       "    -1.16415e-10\n",
       "     1.16415e-10\n",
       "     0.0        \n",
       "   798.392      \n",
       " -8917.22       \n",
       "  1473.29       "
      ]
     },
     "metadata": {},
     "output_type": "display_data"
    },
    {
     "name": "stdout",
     "output_type": "stream",
     "text": [
      "elapsed time: 0.677439939 seconds\n"
     ]
    },
    {
     "data": {
      "text/plain": [
       "6-element Array{Float64,1}:\n",
       "  0.0    \n",
       "  0.0    \n",
       "  0.0    \n",
       " 98.1273 \n",
       "  6.71094\n",
       " -9.32606"
      ]
     },
     "metadata": {},
     "output_type": "display_data"
    },
    {
     "data": {
      "text/plain": [
       "6-element Array{Float64,1}:\n",
       "  0.0    \n",
       "  0.0    \n",
       "  0.0    \n",
       " 98.1273 \n",
       "  6.71094\n",
       " -9.32606"
      ]
     },
     "metadata": {},
     "output_type": "display_data"
    },
    {
     "name": "stdout",
     "output_type": "stream",
     "text": [
      "elapsed time: 1.144635207 seconds\n"
     ]
    },
    {
     "data": {
      "text/plain": [
       "6-element Array{Float64,1}:\n",
       "     2.32831e-10\n",
       "    -2.32831e-10\n",
       "    -9.31323e-10\n",
       " -1612.32       \n",
       " 17411.6        \n",
       " -3715.98       "
      ]
     },
     "metadata": {},
     "output_type": "display_data"
    },
    {
     "data": {
      "text/plain": [
       "6-element Array{Float64,1}:\n",
       "     2.32831e-10\n",
       "    -2.32831e-10\n",
       "    -9.31323e-10\n",
       " -1612.32       \n",
       " 17411.6        \n",
       " -3715.98       "
      ]
     },
     "metadata": {},
     "output_type": "display_data"
    },
    {
     "name": "stdout",
     "output_type": "stream",
     "text": [
      "elapsed time: 0.689425548 seconds\n"
     ]
    },
    {
     "data": {
      "text/plain": [
       "6-element Array{Float64,1}:\n",
       "     -1.49012e-8\n",
       "      1.49012e-8\n",
       "      0.0       \n",
       "  66396.2       \n",
       "     -8.95579e5 \n",
       " -56485.5       "
      ]
     },
     "metadata": {},
     "output_type": "display_data"
    },
    {
     "data": {
      "text/plain": [
       "6-element Array{Float64,1}:\n",
       "     -1.49012e-8\n",
       "      1.49012e-8\n",
       "      0.0       \n",
       "  66396.2       \n",
       "     -8.95579e5 \n",
       " -56485.5       "
      ]
     },
     "metadata": {},
     "output_type": "display_data"
    },
    {
     "name": "stdout",
     "output_type": "stream",
     "text": [
      "elapsed time: 0.673767319 seconds\n"
     ]
    },
    {
     "data": {
      "text/plain": [
       "6-element Array{Float64,1}:\n",
       "    0.0        \n",
       "   -2.91038e-11\n",
       "    0.0        \n",
       " -242.854      \n",
       " 1418.48       \n",
       "  720.538      "
      ]
     },
     "metadata": {},
     "output_type": "display_data"
    },
    {
     "data": {
      "text/plain": [
       "6-element Array{Float64,1}:\n",
       "    0.0        \n",
       "   -2.91038e-11\n",
       "    0.0        \n",
       " -242.854      \n",
       " 1418.48       \n",
       "  720.538      "
      ]
     },
     "metadata": {},
     "output_type": "display_data"
    },
    {
     "name": "stdout",
     "output_type": "stream",
     "text": [
      "elapsed time: 1.060683645 seconds\n"
     ]
    },
    {
     "data": {
      "text/plain": [
       "6-element Array{Float64,1}:\n",
       "  0.0        \n",
       "  9.66338e-13\n",
       "  9.09495e-13\n",
       " 26.1008     \n",
       " 22.5725     \n",
       " -7.5647     "
      ]
     },
     "metadata": {},
     "output_type": "display_data"
    },
    {
     "data": {
      "text/plain": [
       "6-element Array{Float64,1}:\n",
       "  0.0        \n",
       "  9.66338e-13\n",
       "  9.09495e-13\n",
       " 26.1008     \n",
       " 22.5725     \n",
       " -7.5647     "
      ]
     },
     "metadata": {},
     "output_type": "display_data"
    },
    {
     "name": "stdout",
     "output_type": "stream",
     "text": [
      "elapsed time: 0.806260412 seconds\n"
     ]
    },
    {
     "data": {
      "text/plain": [
       "6-element Array{Float64,1}:\n",
       "     2.91038e-11\n",
       "     0.0        \n",
       "     1.16415e-10\n",
       "  -225.856      \n",
       "  1374.66       \n",
       " -1790.87       "
      ]
     },
     "metadata": {},
     "output_type": "display_data"
    },
    {
     "data": {
      "text/plain": [
       "6-element Array{Float64,1}:\n",
       "     2.91038e-11\n",
       "     0.0        \n",
       "     1.16415e-10\n",
       "  -225.856      \n",
       "  1374.66       \n",
       " -1790.87       "
      ]
     },
     "metadata": {},
     "output_type": "display_data"
    },
    {
     "name": "stdout",
     "output_type": "stream",
     "text": [
      "elapsed time: 0.671946536 seconds\n"
     ]
    },
    {
     "data": {
      "text/plain": [
       "6-element Array{Float64,1}:\n",
       "     0.0 \n",
       "     0.0 \n",
       "     0.0 \n",
       " -2496.92\n",
       " 28705.9 \n",
       " -3741.82"
      ]
     },
     "metadata": {},
     "output_type": "display_data"
    },
    {
     "data": {
      "text/plain": [
       "6-element Array{Float64,1}:\n",
       "     0.0 \n",
       "     0.0 \n",
       "     0.0 \n",
       " -2496.92\n",
       " 28705.9 \n",
       " -3741.82"
      ]
     },
     "metadata": {},
     "output_type": "display_data"
    },
    {
     "name": "stdout",
     "output_type": "stream",
     "text": [
      "elapsed time: 1.054526761 seconds\n"
     ]
    },
    {
     "data": {
      "text/plain": [
       "6-element Array{Float64,1}:\n",
       "   9.09495e-13\n",
       "   0.0        \n",
       "  -7.27596e-12\n",
       "  20.6054     \n",
       " -75.0272     \n",
       " 188.942      "
      ]
     },
     "metadata": {},
     "output_type": "display_data"
    },
    {
     "data": {
      "text/plain": [
       "6-element Array{Float64,1}:\n",
       "   9.09495e-13\n",
       "   0.0        \n",
       "  -7.27596e-12\n",
       "  20.6054     \n",
       " -75.0272     \n",
       " 188.942      "
      ]
     },
     "metadata": {},
     "output_type": "display_data"
    },
    {
     "name": "stdout",
     "output_type": "stream",
     "text": [
      "elapsed time: 1.060715943 seconds\n"
     ]
    },
    {
     "data": {
      "text/plain": [
       "6-element Array{Float64,1}:\n",
       "  0.0        \n",
       "  0.0        \n",
       " -1.13687e-13\n",
       " -1.64696    \n",
       "  2.3215     \n",
       "  6.1016     "
      ]
     },
     "metadata": {},
     "output_type": "display_data"
    },
    {
     "data": {
      "text/plain": [
       "6-element Array{Float64,1}:\n",
       "  0.0        \n",
       "  0.0        \n",
       " -1.13687e-13\n",
       " -1.64696    \n",
       "  2.3215     \n",
       "  6.1016     "
      ]
     },
     "metadata": {},
     "output_type": "display_data"
    },
    {
     "name": "stdout",
     "output_type": "stream",
     "text": [
      "elapsed time: 0.685308428 seconds\n"
     ]
    },
    {
     "data": {
      "text/plain": [
       "6-element Array{Float64,1}:\n",
       " -7.10543e-15\n",
       "  0.0        \n",
       "  0.0        \n",
       " -0.0913304  \n",
       " -0.441214   \n",
       "  0.153105   "
      ]
     },
     "metadata": {},
     "output_type": "display_data"
    },
    {
     "data": {
      "text/plain": [
       "6-element Array{Float64,1}:\n",
       " -7.10543e-15\n",
       "  0.0        \n",
       "  0.0        \n",
       " -0.0913304  \n",
       " -0.441214   \n",
       "  0.153105   "
      ]
     },
     "metadata": {},
     "output_type": "display_data"
    },
    {
     "name": "stdout",
     "output_type": "stream",
     "text": [
      "elapsed time: 1.13528943 seconds\n"
     ]
    },
    {
     "data": {
      "text/plain": [
       "6-element Array{Float64,1}:\n",
       "  0.0        \n",
       " -4.54747e-13\n",
       " -4.54747e-13\n",
       " 36.2719     \n",
       "  9.18562    \n",
       " -4.29689    "
      ]
     },
     "metadata": {},
     "output_type": "display_data"
    },
    {
     "data": {
      "text/plain": [
       "6-element Array{Float64,1}:\n",
       "  0.0        \n",
       " -4.54747e-13\n",
       " -4.54747e-13\n",
       " 36.2719     \n",
       "  9.18562    \n",
       " -4.29689    "
      ]
     },
     "metadata": {},
     "output_type": "display_data"
    },
    {
     "name": "stdout",
     "output_type": "stream",
     "text": [
      "elapsed time: 1.080657462 seconds\n"
     ]
    },
    {
     "data": {
      "text/plain": [
       "6-element Array{Float64,1}:\n",
       "    -1.16415e-10\n",
       "     0.0        \n",
       "     0.0        \n",
       "   738.039      \n",
       " -8066.49       \n",
       "  1647.17       "
      ]
     },
     "metadata": {},
     "output_type": "display_data"
    },
    {
     "data": {
      "text/plain": [
       "6-element Array{Float64,1}:\n",
       "    -1.16415e-10\n",
       "     0.0        \n",
       "     0.0        \n",
       "   738.039      \n",
       " -8066.49       \n",
       "  1647.17       "
      ]
     },
     "metadata": {},
     "output_type": "display_data"
    },
    {
     "name": "stdout",
     "output_type": "stream",
     "text": [
      "elapsed time: 0.690349347 seconds\n"
     ]
    },
    {
     "data": {
      "text/plain": [
       "6-element Array{Float64,1}:\n",
       "     2.91038e-11\n",
       "    -1.16415e-10\n",
       "    -1.16415e-10\n",
       "    82.9529     \n",
       " -2329.44       \n",
       " -1551.03       "
      ]
     },
     "metadata": {},
     "output_type": "display_data"
    },
    {
     "data": {
      "text/plain": [
       "6-element Array{Float64,1}:\n",
       "     2.91038e-11\n",
       "    -1.16415e-10\n",
       "    -1.16415e-10\n",
       "    82.9529     \n",
       " -2329.44       \n",
       " -1551.03       "
      ]
     },
     "metadata": {},
     "output_type": "display_data"
    },
    {
     "name": "stdout",
     "output_type": "stream",
     "text": [
      "elapsed time: 1.057202911 seconds\n"
     ]
    },
    {
     "data": {
      "text/plain": [
       "6-element Array{Float64,1}:\n",
       "    0.0        \n",
       "   -7.27596e-12\n",
       "   -1.45519e-11\n",
       "   21.7033     \n",
       " -360.313      \n",
       "  103.503      "
      ]
     },
     "metadata": {},
     "output_type": "display_data"
    },
    {
     "data": {
      "text/plain": [
       "6-element Array{Float64,1}:\n",
       "    0.0        \n",
       "   -7.27596e-12\n",
       "   -1.45519e-11\n",
       "   21.7033     \n",
       " -360.313      \n",
       "  103.503      "
      ]
     },
     "metadata": {},
     "output_type": "display_data"
    },
    {
     "name": "stdout",
     "output_type": "stream",
     "text": [
      "elapsed time: 1.086966976 seconds\n"
     ]
    },
    {
     "data": {
      "text/plain": [
       "6-element Array{Float64,1}:\n",
       "    0.0        \n",
       "    0.0        \n",
       "   -1.45519e-11\n",
       "   32.8285     \n",
       " -234.524      \n",
       "   65.9161     "
      ]
     },
     "metadata": {},
     "output_type": "display_data"
    },
    {
     "data": {
      "text/plain": [
       "6-element Array{Float64,1}:\n",
       "    0.0        \n",
       "    0.0        \n",
       "   -1.45519e-11\n",
       "   32.8285     \n",
       " -234.524      \n",
       "   65.9161     "
      ]
     },
     "metadata": {},
     "output_type": "display_data"
    },
    {
     "name": "stdout",
     "output_type": "stream",
     "text": [
      "elapsed time: 0.687109029 seconds\n"
     ]
    },
    {
     "data": {
      "text/plain": [
       "6-element Array{Float64,1}:\n",
       "     1.16415e-10\n",
       "     5.82077e-11\n",
       "     0.0        \n",
       "   479.767      \n",
       " -5773.77       \n",
       "   373.33       "
      ]
     },
     "metadata": {},
     "output_type": "display_data"
    },
    {
     "data": {
      "text/plain": [
       "6-element Array{Float64,1}:\n",
       "     1.16415e-10\n",
       "     5.82077e-11\n",
       "     0.0        \n",
       "   479.767      \n",
       " -5773.77       \n",
       "   373.33       "
      ]
     },
     "metadata": {},
     "output_type": "display_data"
    },
    {
     "name": "stdout",
     "output_type": "stream",
     "text": [
      "elapsed time: 1.109719378 seconds\n"
     ]
    },
    {
     "data": {
      "text/plain": [
       "6-element Array{Float64,1}:\n",
       "  0.0        \n",
       "  0.0        \n",
       "  4.54747e-13\n",
       "  0.0585131  \n",
       " 10.7228     \n",
       " -3.06649    "
      ]
     },
     "metadata": {},
     "output_type": "display_data"
    },
    {
     "data": {
      "text/plain": [
       "6-element Array{Float64,1}:\n",
       "  0.0        \n",
       "  0.0        \n",
       "  4.54747e-13\n",
       "  0.0585131  \n",
       " 10.7228     \n",
       " -3.06649    "
      ]
     },
     "metadata": {},
     "output_type": "display_data"
    },
    {
     "name": "stdout",
     "output_type": "stream",
     "text": [
      "elapsed time: 0.71158918 seconds\n"
     ]
    },
    {
     "data": {
      "text/plain": [
       "6-element Array{Float64,1}:\n",
       "   2.84217e-14\n",
       "  -3.41061e-13\n",
       "  -1.02318e-12\n",
       " 201.174      \n",
       "  -0.200868   \n",
       " -70.4227     "
      ]
     },
     "metadata": {},
     "output_type": "display_data"
    },
    {
     "data": {
      "text/plain": [
       "6-element Array{Float64,1}:\n",
       "   2.84217e-14\n",
       "  -3.41061e-13\n",
       "  -1.02318e-12\n",
       " 201.174      \n",
       "  -0.200868   \n",
       " -70.4227     "
      ]
     },
     "metadata": {},
     "output_type": "display_data"
    },
    {
     "name": "stdout",
     "output_type": "stream",
     "text": [
      "elapsed time: 0.70251332 seconds\n"
     ]
    },
    {
     "data": {
      "text/plain": [
       "6-element Array{Float64,1}:\n",
       "  1.13687e-13\n",
       "  1.13687e-13\n",
       "  0.0        \n",
       "  0.43196    \n",
       " -7.37184    \n",
       "  2.61024    "
      ]
     },
     "metadata": {},
     "output_type": "display_data"
    },
    {
     "data": {
      "text/plain": [
       "6-element Array{Float64,1}:\n",
       "  1.13687e-13\n",
       "  1.13687e-13\n",
       "  0.0        \n",
       "  0.43196    \n",
       " -7.37184    \n",
       "  2.61024    "
      ]
     },
     "metadata": {},
     "output_type": "display_data"
    },
    {
     "name": "stdout",
     "output_type": "stream",
     "text": [
      "elapsed time: 1.114086367 seconds\n"
     ]
    },
    {
     "data": {
      "text/plain": [
       "6-element Array{Float64,1}:\n",
       " -7.10543e-15\n",
       "  0.0        \n",
       "  2.84217e-14\n",
       "  6.93891    \n",
       "  0.516007   \n",
       " -1.29331    "
      ]
     },
     "metadata": {},
     "output_type": "display_data"
    },
    {
     "data": {
      "text/plain": [
       "6-element Array{Float64,1}:\n",
       " -7.10543e-15\n",
       "  0.0        \n",
       "  2.84217e-14\n",
       "  6.93891    \n",
       "  0.516007   \n",
       " -1.29331    "
      ]
     },
     "metadata": {},
     "output_type": "display_data"
    },
    {
     "name": "stdout",
     "output_type": "stream",
     "text": [
      "elapsed time: 0.678396189 seconds\n"
     ]
    },
    {
     "data": {
      "text/plain": [
       "6-element Array{Float64,1}:\n",
       "   0.0   \n",
       "   0.0   \n",
       "   0.0   \n",
       "  11.1194\n",
       " -49.0917\n",
       "  25.9121"
      ]
     },
     "metadata": {},
     "output_type": "display_data"
    },
    {
     "data": {
      "text/plain": [
       "6-element Array{Float64,1}:\n",
       "   0.0   \n",
       "   0.0   \n",
       "   0.0   \n",
       "  11.1194\n",
       " -49.0917\n",
       "  25.9121"
      ]
     },
     "metadata": {},
     "output_type": "display_data"
    },
    {
     "name": "stdout",
     "output_type": "stream",
     "text": [
      "elapsed time: 0.678066286 seconds\n"
     ]
    },
    {
     "data": {
      "text/plain": [
       "6-element Array{Float64,1}:\n",
       "  0.0        \n",
       "  0.0        \n",
       "  5.68434e-14\n",
       "  0.248037   \n",
       " -1.09207    \n",
       "  0.45913    "
      ]
     },
     "metadata": {},
     "output_type": "display_data"
    },
    {
     "data": {
      "text/plain": [
       "6-element Array{Float64,1}:\n",
       "  0.0        \n",
       "  0.0        \n",
       "  5.68434e-14\n",
       "  0.248037   \n",
       " -1.09207    \n",
       "  0.45913    "
      ]
     },
     "metadata": {},
     "output_type": "display_data"
    },
    {
     "name": "stdout",
     "output_type": "stream",
     "text": [
      "elapsed time: 1.111035816 seconds\n"
     ]
    },
    {
     "data": {
      "text/plain": [
       "6-element Array{Float64,1}:\n",
       "     0.0        \n",
       "     1.45519e-11\n",
       "     0.0        \n",
       "   115.63       \n",
       " -1359.92       \n",
       "   229.485      "
      ]
     },
     "metadata": {},
     "output_type": "display_data"
    },
    {
     "data": {
      "text/plain": [
       "6-element Array{Float64,1}:\n",
       "     0.0        \n",
       "     1.45519e-11\n",
       "     0.0        \n",
       "   115.63       \n",
       " -1359.92       \n",
       "   229.485      "
      ]
     },
     "metadata": {},
     "output_type": "display_data"
    },
    {
     "name": "stdout",
     "output_type": "stream",
     "text": [
      "elapsed time: 0.704773321 seconds\n"
     ]
    },
    {
     "data": {
      "text/plain": [
       "6-element Array{Float64,1}:\n",
       "  -1.06581e-14\n",
       "   8.52651e-14\n",
       "  -6.39488e-14\n",
       "  28.8192     \n",
       "  -0.04417    \n",
       " -10.2034     "
      ]
     },
     "metadata": {},
     "output_type": "display_data"
    },
    {
     "data": {
      "text/plain": [
       "6-element Array{Float64,1}:\n",
       "  -1.06581e-14\n",
       "   8.52651e-14\n",
       "  -6.39488e-14\n",
       "  28.8192     \n",
       "  -0.04417    \n",
       " -10.2034     "
      ]
     },
     "metadata": {},
     "output_type": "display_data"
    },
    {
     "name": "stdout",
     "output_type": "stream",
     "text": [
      "elapsed time: 1.069983871 seconds\n"
     ]
    },
    {
     "data": {
      "text/plain": [
       "6-element Array{Float64,1}:\n",
       "   0.0        \n",
       "   1.81899e-12\n",
       "  -1.81899e-12\n",
       " -31.0704     \n",
       " -29.183      \n",
       "  -9.15419    "
      ]
     },
     "metadata": {},
     "output_type": "display_data"
    },
    {
     "data": {
      "text/plain": [
       "6-element Array{Float64,1}:\n",
       "   0.0        \n",
       "   1.81899e-12\n",
       "  -1.81899e-12\n",
       " -31.0704     \n",
       " -29.183      \n",
       "  -9.15419    "
      ]
     },
     "metadata": {},
     "output_type": "display_data"
    },
    {
     "name": "stdout",
     "output_type": "stream",
     "text": [
      "elapsed time: 1.077968368 seconds\n"
     ]
    },
    {
     "data": {
      "text/plain": [
       "6-element Array{Float64,1}:\n",
       "    -2.91038e-11\n",
       "     0.0        \n",
       "    -1.74623e-10\n",
       "   135.487      \n",
       " -1546.65       \n",
       "   346.437      "
      ]
     },
     "metadata": {},
     "output_type": "display_data"
    },
    {
     "data": {
      "text/plain": [
       "6-element Array{Float64,1}:\n",
       "    -2.91038e-11\n",
       "     0.0        \n",
       "    -1.74623e-10\n",
       "   135.487      \n",
       " -1546.65       \n",
       "   346.437      "
      ]
     },
     "metadata": {},
     "output_type": "display_data"
    },
    {
     "name": "stdout",
     "output_type": "stream",
     "text": [
      "elapsed time: 0.699198451 seconds\n"
     ]
    },
    {
     "data": {
      "text/plain": [
       "6-element Array{Float64,1}:\n",
       "    1.45519e-11\n",
       "    2.32831e-10\n",
       "   -5.82077e-11\n",
       "  140.346      \n",
       "  884.214      \n",
       " 3355.0        "
      ]
     },
     "metadata": {},
     "output_type": "display_data"
    },
    {
     "data": {
      "text/plain": [
       "6-element Array{Float64,1}:\n",
       "    1.45519e-11\n",
       "    2.32831e-10\n",
       "   -5.82077e-11\n",
       "  140.346      \n",
       "  884.214      \n",
       " 3355.0        "
      ]
     },
     "metadata": {},
     "output_type": "display_data"
    },
    {
     "name": "stdout",
     "output_type": "stream",
     "text": [
      "elapsed time: 1.076748327 seconds\n"
     ]
    },
    {
     "data": {
      "text/plain": [
       "6-element Array{Float64,1}:\n",
       "     -9.31323e-10\n",
       "      9.31323e-10\n",
       "      3.72529e-9 \n",
       "  -5737.13       \n",
       "  63782.0        \n",
       " -15204.8        "
      ]
     },
     "metadata": {},
     "output_type": "display_data"
    },
    {
     "data": {
      "text/plain": [
       "6-element Array{Float64,1}:\n",
       "     -9.31323e-10\n",
       "      9.31323e-10\n",
       "      3.72529e-9 \n",
       "  -5737.13       \n",
       "  63782.0        \n",
       " -15204.8        "
      ]
     },
     "metadata": {},
     "output_type": "display_data"
    },
    {
     "name": "stdout",
     "output_type": "stream",
     "text": [
      "elapsed time: 1.311466453 seconds\n"
     ]
    },
    {
     "data": {
      "text/plain": [
       "6-element Array{Float64,1}:\n",
       "       0.0       \n",
       "       2.79397e-9\n",
       "       3.72529e-9\n",
       "    7575.7       \n",
       " -101849.0       \n",
       "     888.38      "
      ]
     },
     "metadata": {},
     "output_type": "display_data"
    },
    {
     "data": {
      "text/plain": [
       "6-element Array{Float64,1}:\n",
       "       0.0       \n",
       "       2.79397e-9\n",
       "       3.72529e-9\n",
       "    7575.7       \n",
       " -101849.0       \n",
       "     888.38      "
      ]
     },
     "metadata": {},
     "output_type": "display_data"
    },
    {
     "name": "stdout",
     "output_type": "stream",
     "text": [
      "elapsed time: 0.689370256 seconds\n"
     ]
    },
    {
     "data": {
      "text/plain": [
       "6-element Array{Float64,1}:\n",
       "   0.0        \n",
       "   1.45519e-11\n",
       "   0.0        \n",
       "  15.3721     \n",
       " -86.6883     \n",
       " 138.444      "
      ]
     },
     "metadata": {},
     "output_type": "display_data"
    },
    {
     "data": {
      "text/plain": [
       "6-element Array{Float64,1}:\n",
       "   0.0        \n",
       "   1.45519e-11\n",
       "   0.0        \n",
       "  15.3721     \n",
       " -86.6883     \n",
       " 138.444      "
      ]
     },
     "metadata": {},
     "output_type": "display_data"
    },
    {
     "name": "stdout",
     "output_type": "stream",
     "text": [
      "elapsed time: 1.147120395 seconds\n"
     ]
    },
    {
     "data": {
      "text/plain": [
       "6-element Array{Float64,1}:\n",
       "    -9.31323e-10\n",
       "     0.0        \n",
       "    -3.72529e-9 \n",
       " -5535.11       \n",
       " 69752.2        \n",
       " -5719.45       "
      ]
     },
     "metadata": {},
     "output_type": "display_data"
    },
    {
     "data": {
      "text/plain": [
       "6-element Array{Float64,1}:\n",
       "    -9.31323e-10\n",
       "     0.0        \n",
       "    -3.72529e-9 \n",
       " -5535.11       \n",
       " 69752.2        \n",
       " -5719.45       "
      ]
     },
     "metadata": {},
     "output_type": "display_data"
    },
    {
     "name": "stdout",
     "output_type": "stream",
     "text": [
      "elapsed time: 1.057895743 seconds\n"
     ]
    },
    {
     "data": {
      "text/plain": [
       "6-element Array{Float64,1}:\n",
       " -9.09495e-13\n",
       " -9.09495e-13\n",
       " -3.63798e-12\n",
       " -2.52867    \n",
       " 62.9779     \n",
       "  3.01176    "
      ]
     },
     "metadata": {},
     "output_type": "display_data"
    },
    {
     "data": {
      "text/plain": [
       "6-element Array{Float64,1}:\n",
       " -9.09495e-13\n",
       " -9.09495e-13\n",
       " -3.63798e-12\n",
       " -2.52867    \n",
       " 62.9779     \n",
       "  3.01176    "
      ]
     },
     "metadata": {},
     "output_type": "display_data"
    },
    {
     "name": "stdout",
     "output_type": "stream",
     "text": [
      "elapsed time: 0.679885633 seconds\n"
     ]
    },
    {
     "data": {
      "text/plain": [
       "6-element Array{Float64,1}:\n",
       "   -2.91038e-11\n",
       "    0.0        \n",
       "    0.0        \n",
       "  -95.9989     \n",
       "  886.84       \n",
       " -231.801      "
      ]
     },
     "metadata": {},
     "output_type": "display_data"
    },
    {
     "data": {
      "text/plain": [
       "6-element Array{Float64,1}:\n",
       "   -2.91038e-11\n",
       "    0.0        \n",
       "    0.0        \n",
       "  -95.9989     \n",
       "  886.84       \n",
       " -231.801      "
      ]
     },
     "metadata": {},
     "output_type": "display_data"
    },
    {
     "name": "stdout",
     "output_type": "stream",
     "text": [
      "elapsed time: 1.130947602 seconds\n"
     ]
    },
    {
     "data": {
      "text/plain": [
       "6-element Array{Float64,1}:\n",
       "     3.63798e-12\n",
       "    -1.16415e-10\n",
       "     0.0        \n",
       "   -48.0912     \n",
       "  -270.436      \n",
       " -1012.6        "
      ]
     },
     "metadata": {},
     "output_type": "display_data"
    },
    {
     "data": {
      "text/plain": [
       "6-element Array{Float64,1}:\n",
       "     3.63798e-12\n",
       "    -1.16415e-10\n",
       "     0.0        \n",
       "   -48.0912     \n",
       "  -270.436      \n",
       " -1012.6        "
      ]
     },
     "metadata": {},
     "output_type": "display_data"
    },
    {
     "name": "stdout",
     "output_type": "stream",
     "text": [
      "elapsed time: 1.0739587 seconds\n"
     ]
    },
    {
     "data": {
      "text/plain": [
       "6-element Array{Float64,1}:\n",
       "   0.0        \n",
       "   2.27374e-13\n",
       "   9.09495e-13\n",
       " -19.7679     \n",
       "  -9.76335    \n",
       "   3.60213    "
      ]
     },
     "metadata": {},
     "output_type": "display_data"
    },
    {
     "data": {
      "text/plain": [
       "6-element Array{Float64,1}:\n",
       "   0.0        \n",
       "   2.27374e-13\n",
       "   9.09495e-13\n",
       " -19.7679     \n",
       "  -9.76335    \n",
       "   3.60213    "
      ]
     },
     "metadata": {},
     "output_type": "display_data"
    },
    {
     "name": "stdout",
     "output_type": "stream",
     "text": [
      "elapsed time: 0.685159056 seconds\n"
     ]
    },
    {
     "data": {
      "text/plain": [
       "6-element Array{Float64,1}:\n",
       "     0.0        \n",
       "    -9.31323e-10\n",
       "    -3.72529e-9 \n",
       " -3129.82       \n",
       " 40951.6        \n",
       " -1609.76       "
      ]
     },
     "metadata": {},
     "output_type": "display_data"
    },
    {
     "data": {
      "text/plain": [
       "6-element Array{Float64,1}:\n",
       "     0.0        \n",
       "    -9.31323e-10\n",
       "    -3.72529e-9 \n",
       " -3129.82       \n",
       " 40951.6        \n",
       " -1609.76       "
      ]
     },
     "metadata": {},
     "output_type": "display_data"
    },
    {
     "name": "stdout",
     "output_type": "stream",
     "text": [
      "elapsed time: 1.090252114 seconds\n"
     ]
    },
    {
     "data": {
      "text/plain": [
       "6-element Array{Float64,1}:\n",
       "  0.0        \n",
       " -1.13687e-13\n",
       "  0.0        \n",
       "  3.22298    \n",
       "  6.08219    \n",
       " -1.1611     "
      ]
     },
     "metadata": {},
     "output_type": "display_data"
    },
    {
     "data": {
      "text/plain": [
       "6-element Array{Float64,1}:\n",
       "  0.0        \n",
       " -1.13687e-13\n",
       "  0.0        \n",
       "  3.22298    \n",
       "  6.08219    \n",
       " -1.1611     "
      ]
     },
     "metadata": {},
     "output_type": "display_data"
    },
    {
     "name": "stdout",
     "output_type": "stream",
     "text": [
      "elapsed time: 0.68613516 seconds\n"
     ]
    },
    {
     "data": {
      "text/plain": [
       "6-element Array{Float64,1}:\n",
       "    0.0        \n",
       "   -2.32831e-10\n",
       "   -2.32831e-10\n",
       " 2368.99       \n",
       " 1923.24       \n",
       " 3997.38       "
      ]
     },
     "metadata": {},
     "output_type": "display_data"
    },
    {
     "data": {
      "text/plain": [
       "6-element Array{Float64,1}:\n",
       "    0.0        \n",
       "   -2.32831e-10\n",
       "   -2.32831e-10\n",
       " 2368.99       \n",
       " 1923.24       \n",
       " 3997.38       "
      ]
     },
     "metadata": {},
     "output_type": "display_data"
    },
    {
     "name": "stdout",
     "output_type": "stream",
     "text": [
      "elapsed time: 0.67824153 seconds\n"
     ]
    },
    {
     "data": {
      "text/plain": [
       "6-element Array{Float64,1}:\n",
       "     0.0       \n",
       "     0.0       \n",
       "    -1.86265e-9\n",
       " -1391.49      \n",
       " 15119.3       \n",
       " -2898.28      "
      ]
     },
     "metadata": {},
     "output_type": "display_data"
    },
    {
     "data": {
      "text/plain": [
       "6-element Array{Float64,1}:\n",
       "     0.0       \n",
       "     0.0       \n",
       "    -1.86265e-9\n",
       " -1391.49      \n",
       " 15119.3       \n",
       " -2898.28      "
      ]
     },
     "metadata": {},
     "output_type": "display_data"
    },
    {
     "name": "stdout",
     "output_type": "stream",
     "text": [
      "elapsed time: 1.105759879 seconds\n"
     ]
    },
    {
     "data": {
      "text/plain": [
       "6-element Array{Float64,1}:\n",
       "   -5.82077e-11\n",
       "    0.0        \n",
       "    0.0        \n",
       " -437.777      \n",
       " 4783.62       \n",
       " -877.766      "
      ]
     },
     "metadata": {},
     "output_type": "display_data"
    },
    {
     "data": {
      "text/plain": [
       "6-element Array{Float64,1}:\n",
       "   -5.82077e-11\n",
       "    0.0        \n",
       "    0.0        \n",
       " -437.777      \n",
       " 4783.62       \n",
       " -877.766      "
      ]
     },
     "metadata": {},
     "output_type": "display_data"
    },
    {
     "name": "stdout",
     "output_type": "stream",
     "text": [
      "elapsed time: 1.074084648 seconds\n"
     ]
    },
    {
     "data": {
      "text/plain": [
       "6-element Array{Float64,1}:\n",
       "    -2.91038e-11\n",
       "     2.91038e-11\n",
       "     1.16415e-10\n",
       "   220.704      \n",
       " -1852.54       \n",
       "   519.412      "
      ]
     },
     "metadata": {},
     "output_type": "display_data"
    },
    {
     "data": {
      "text/plain": [
       "6-element Array{Float64,1}:\n",
       "    -2.91038e-11\n",
       "     2.91038e-11\n",
       "     1.16415e-10\n",
       "   220.704      \n",
       " -1852.54       \n",
       "   519.412      "
      ]
     },
     "metadata": {},
     "output_type": "display_data"
    },
    {
     "name": "stdout",
     "output_type": "stream",
     "text": [
      "elapsed time: 0.678867351 seconds\n"
     ]
    },
    {
     "data": {
      "text/plain": [
       "6-element Array{Float64,1}:\n",
       "    -2.91038e-11\n",
       "     0.0        \n",
       "    -2.32831e-10\n",
       "   219.809      \n",
       " -1341.14       \n",
       "  1540.58       "
      ]
     },
     "metadata": {},
     "output_type": "display_data"
    },
    {
     "data": {
      "text/plain": [
       "6-element Array{Float64,1}:\n",
       "    -2.91038e-11\n",
       "     0.0        \n",
       "    -2.32831e-10\n",
       "   219.809      \n",
       " -1341.14       \n",
       "  1540.58       "
      ]
     },
     "metadata": {},
     "output_type": "display_data"
    },
    {
     "name": "stdout",
     "output_type": "stream",
     "text": [
      "elapsed time: 1.18615852 seconds\n"
     ]
    },
    {
     "data": {
      "text/plain": [
       "6-element Array{Float64,1}:\n",
       "   4.54747e-13\n",
       "   4.54747e-13\n",
       "  -1.81899e-12\n",
       "  -7.80361    \n",
       " -24.5216     \n",
       "   6.0039     "
      ]
     },
     "metadata": {},
     "output_type": "display_data"
    },
    {
     "data": {
      "text/plain": [
       "6-element Array{Float64,1}:\n",
       "   4.54747e-13\n",
       "   4.54747e-13\n",
       "  -1.81899e-12\n",
       "  -7.80361    \n",
       " -24.5216     \n",
       "   6.0039     "
      ]
     },
     "metadata": {},
     "output_type": "display_data"
    },
    {
     "name": "stdout",
     "output_type": "stream",
     "text": [
      "elapsed time: 1.100176255 seconds\n"
     ]
    },
    {
     "data": {
      "text/plain": [
       "6-element Array{Float64,1}:\n",
       "      0.0        \n",
       "      2.32831e-10\n",
       "      0.0        \n",
       "   1210.74       \n",
       " -14041.7        \n",
       "   3166.53       "
      ]
     },
     "metadata": {},
     "output_type": "display_data"
    },
    {
     "data": {
      "text/plain": [
       "6-element Array{Float64,1}:\n",
       "      0.0        \n",
       "      2.32831e-10\n",
       "      0.0        \n",
       "   1210.74       \n",
       " -14041.7        \n",
       "   3166.53       "
      ]
     },
     "metadata": {},
     "output_type": "display_data"
    },
    {
     "name": "stdout",
     "output_type": "stream",
     "text": [
      "elapsed time: 0.674960625 seconds\n"
     ]
    },
    {
     "data": {
      "text/plain": [
       "6-element Array{Float64,1}:\n",
       "    0.0        \n",
       "    0.0        \n",
       "   -2.91038e-11\n",
       "  364.122      \n",
       " -624.107      \n",
       "  349.611      "
      ]
     },
     "metadata": {},
     "output_type": "display_data"
    },
    {
     "data": {
      "text/plain": [
       "6-element Array{Float64,1}:\n",
       "    0.0        \n",
       "    0.0        \n",
       "   -2.91038e-11\n",
       "  364.122      \n",
       " -624.107      \n",
       "  349.611      "
      ]
     },
     "metadata": {},
     "output_type": "display_data"
    },
    {
     "name": "stdout",
     "output_type": "stream",
     "text": [
      "elapsed time: 1.154163509 seconds\n"
     ]
    },
    {
     "data": {
      "text/plain": [
       "6-element Array{Float64,1}:\n",
       " -6.66134e-15\n",
       " -7.10543e-15\n",
       " -1.42109e-14\n",
       "  5.1085     \n",
       "  0.0302926  \n",
       " -1.65171    "
      ]
     },
     "metadata": {},
     "output_type": "display_data"
    },
    {
     "data": {
      "text/plain": [
       "6-element Array{Float64,1}:\n",
       " -6.66134e-15\n",
       " -7.10543e-15\n",
       " -1.42109e-14\n",
       "  5.1085     \n",
       "  0.0302926  \n",
       " -1.65171    "
      ]
     },
     "metadata": {},
     "output_type": "display_data"
    },
    {
     "name": "stdout",
     "output_type": "stream",
     "text": [
      "elapsed time: 1.070294303 seconds\n"
     ]
    },
    {
     "data": {
      "text/plain": [
       "6-element Array{Float64,1}:\n",
       "     0.0        \n",
       "    -9.31323e-10\n",
       "     4.65661e-10\n",
       "   -57.4198     \n",
       "  9050.31       \n",
       " 12314.9        "
      ]
     },
     "metadata": {},
     "output_type": "display_data"
    },
    {
     "data": {
      "text/plain": [
       "6-element Array{Float64,1}:\n",
       "     0.0        \n",
       "    -9.31323e-10\n",
       "     4.65661e-10\n",
       "   -57.4198     \n",
       "  9050.31       \n",
       " 12314.9        "
      ]
     },
     "metadata": {},
     "output_type": "display_data"
    },
    {
     "name": "stdout",
     "output_type": "stream",
     "text": [
      "elapsed time: 0.670293074 seconds\n"
     ]
    },
    {
     "data": {
      "text/plain": [
       "6-element Array{Float64,1}:\n",
       "    -5.45697e-12\n",
       "     0.0        \n",
       "     7.27596e-12\n",
       "    13.0383     \n",
       "   -84.7328     \n",
       " -1247.72       "
      ]
     },
     "metadata": {},
     "output_type": "display_data"
    },
    {
     "data": {
      "text/plain": [
       "6-element Array{Float64,1}:\n",
       "    -5.45697e-12\n",
       "     0.0        \n",
       "     7.27596e-12\n",
       "    13.0383     \n",
       "   -84.7328     \n",
       " -1247.72       "
      ]
     },
     "metadata": {},
     "output_type": "display_data"
    },
    {
     "name": "stdout",
     "output_type": "stream",
     "text": [
      "elapsed time: 1.085618331 seconds\n"
     ]
    },
    {
     "data": {
      "text/plain": [
       "6-element Array{Float64,1}:\n",
       "    0.0        \n",
       "    0.0        \n",
       "    1.45519e-11\n",
       "   25.4909     \n",
       "  218.532      \n",
       " 1089.96       "
      ]
     },
     "metadata": {},
     "output_type": "display_data"
    },
    {
     "data": {
      "text/plain": [
       "6-element Array{Float64,1}:\n",
       "    0.0        \n",
       "    0.0        \n",
       "    1.45519e-11\n",
       "   25.4909     \n",
       "  218.532      \n",
       " 1089.96       "
      ]
     },
     "metadata": {},
     "output_type": "display_data"
    },
    {
     "name": "stdout",
     "output_type": "stream",
     "text": [
      "elapsed time: 1.067252 seconds\n"
     ]
    },
    {
     "data": {
      "text/plain": [
       "6-element Array{Float64,1}:\n",
       "    0.0        \n",
       "   -7.27596e-12\n",
       "   -2.91038e-11\n",
       "  133.554      \n",
       " -576.894      \n",
       "  119.96       "
      ]
     },
     "metadata": {},
     "output_type": "display_data"
    },
    {
     "data": {
      "text/plain": [
       "6-element Array{Float64,1}:\n",
       "    0.0        \n",
       "   -7.27596e-12\n",
       "   -2.91038e-11\n",
       "  133.554      \n",
       " -576.894      \n",
       "  119.96       "
      ]
     },
     "metadata": {},
     "output_type": "display_data"
    },
    {
     "name": "stdout",
     "output_type": "stream",
     "text": [
      "elapsed time: 0.69678806 seconds\n"
     ]
    },
    {
     "data": {
      "text/plain": [
       "6-element Array{Float64,1}:\n",
       "    0.0        \n",
       "    0.0        \n",
       "   -2.91038e-11\n",
       "  155.569      \n",
       " -301.213      \n",
       "   45.824      "
      ]
     },
     "metadata": {},
     "output_type": "display_data"
    },
    {
     "data": {
      "text/plain": [
       "6-element Array{Float64,1}:\n",
       "    0.0        \n",
       "    0.0        \n",
       "   -2.91038e-11\n",
       "  155.569      \n",
       " -301.213      \n",
       "   45.824      "
      ]
     },
     "metadata": {},
     "output_type": "display_data"
    },
    {
     "name": "stdout",
     "output_type": "stream",
     "text": [
      "elapsed time: 1.158583346 seconds\n"
     ]
    },
    {
     "data": {
      "text/plain": [
       "6-element Array{Float64,1}:\n",
       " -1.42109e-14\n",
       "  1.42109e-14\n",
       "  0.0        \n",
       " -0.316069   \n",
       "  0.648938   \n",
       " -0.146564   "
      ]
     },
     "metadata": {},
     "output_type": "display_data"
    },
    {
     "data": {
      "text/plain": [
       "6-element Array{Float64,1}:\n",
       " -1.42109e-14\n",
       "  1.42109e-14\n",
       "  0.0        \n",
       " -0.316069   \n",
       "  0.648938   \n",
       " -0.146564   "
      ]
     },
     "metadata": {},
     "output_type": "display_data"
    },
    {
     "name": "stdout",
     "output_type": "stream",
     "text": [
      "elapsed time: 0.674340469 seconds\n"
     ]
    },
    {
     "data": {
      "text/plain": [
       "6-element Array{Float64,1}:\n",
       "    -9.09495e-13\n",
       "     2.91038e-11\n",
       "     0.0        \n",
       " -1333.41       \n",
       "   -58.7092     \n",
       "   413.401      "
      ]
     },
     "metadata": {},
     "output_type": "display_data"
    },
    {
     "data": {
      "text/plain": [
       "6-element Array{Float64,1}:\n",
       "    -9.09495e-13\n",
       "     2.91038e-11\n",
       "     0.0        \n",
       " -1333.41       \n",
       "   -58.7092     \n",
       "   413.401      "
      ]
     },
     "metadata": {},
     "output_type": "display_data"
    },
    {
     "name": "stdout",
     "output_type": "stream",
     "text": [
      "elapsed time: 0.674050214 seconds\n"
     ]
    },
    {
     "data": {
      "text/plain": [
       "6-element Array{Float64,1}:\n",
       "   -1.45519e-11\n",
       "    1.45519e-11\n",
       "    0.0        \n",
       "   19.6735     \n",
       " -551.544      \n",
       " -299.01       "
      ]
     },
     "metadata": {},
     "output_type": "display_data"
    },
    {
     "data": {
      "text/plain": [
       "6-element Array{Float64,1}:\n",
       "   -1.45519e-11\n",
       "    1.45519e-11\n",
       "    0.0        \n",
       "   19.6735     \n",
       " -551.544      \n",
       " -299.01       "
      ]
     },
     "metadata": {},
     "output_type": "display_data"
    },
    {
     "name": "stdout",
     "output_type": "stream",
     "text": [
      "elapsed time: 1.096571111 seconds\n"
     ]
    },
    {
     "data": {
      "text/plain": [
       "6-element Array{Float64,1}:\n",
       " -1.13687e-13\n",
       "  0.0        \n",
       " -4.54747e-13\n",
       "  2.34004    \n",
       " -5.39045    \n",
       " 67.5514     "
      ]
     },
     "metadata": {},
     "output_type": "display_data"
    },
    {
     "data": {
      "text/plain": [
       "6-element Array{Float64,1}:\n",
       " -1.13687e-13\n",
       "  0.0        \n",
       " -4.54747e-13\n",
       "  2.34004    \n",
       " -5.39045    \n",
       " 67.5514     "
      ]
     },
     "metadata": {},
     "output_type": "display_data"
    },
    {
     "name": "stdout",
     "output_type": "stream",
     "text": [
      "elapsed time: 0.709487411 seconds\n"
     ]
    },
    {
     "data": {
      "text/plain": [
       "6-element Array{Float64,1}:\n",
       "    -2.91038e-11\n",
       "     2.32831e-10\n",
       "     0.0        \n",
       "  -158.344      \n",
       "  1174.0        \n",
       " -3128.51       "
      ]
     },
     "metadata": {},
     "output_type": "display_data"
    },
    {
     "data": {
      "text/plain": [
       "6-element Array{Float64,1}:\n",
       "    -2.91038e-11\n",
       "     2.32831e-10\n",
       "     0.0        \n",
       "  -158.344      \n",
       "  1174.0        \n",
       " -3128.51       "
      ]
     },
     "metadata": {},
     "output_type": "display_data"
    },
    {
     "name": "stdout",
     "output_type": "stream",
     "text": [
      "elapsed time: 1.073192066 seconds\n"
     ]
    },
    {
     "data": {
      "text/plain": [
       "6-element Array{Float64,1}:\n",
       "  0.0        \n",
       " -5.68434e-14\n",
       "  7.10543e-15\n",
       " -1.01386    \n",
       "  0.110344   \n",
       "  1.23856    "
      ]
     },
     "metadata": {},
     "output_type": "display_data"
    },
    {
     "data": {
      "text/plain": [
       "6-element Array{Float64,1}:\n",
       "  0.0        \n",
       " -5.68434e-14\n",
       "  7.10543e-15\n",
       " -1.01386    \n",
       "  0.110344   \n",
       "  1.23856    "
      ]
     },
     "metadata": {},
     "output_type": "display_data"
    },
    {
     "name": "stdout",
     "output_type": "stream",
     "text": [
      "elapsed time: 1.091150605 seconds\n"
     ]
    },
    {
     "data": {
      "text/plain": [
       "6-element Array{Float64,1}:\n",
       "   2.13163e-14\n",
       "  -2.84217e-13\n",
       "  -1.27898e-13\n",
       "  35.2295     \n",
       "   0.16056    \n",
       " -11.3664     "
      ]
     },
     "metadata": {},
     "output_type": "display_data"
    },
    {
     "data": {
      "text/plain": [
       "6-element Array{Float64,1}:\n",
       "   2.13163e-14\n",
       "  -2.84217e-13\n",
       "  -1.27898e-13\n",
       "  35.2295     \n",
       "   0.16056    \n",
       " -11.3664     "
      ]
     },
     "metadata": {},
     "output_type": "display_data"
    },
    {
     "name": "stdout",
     "output_type": "stream",
     "text": [
      "elapsed time: 1.087934682 seconds\n"
     ]
    },
    {
     "data": {
      "text/plain": [
       "6-element Array{Float64,1}:\n",
       "     0.0        \n",
       "     0.0        \n",
       "     2.32831e-10\n",
       "   466.498      \n",
       " -3707.82       \n",
       "  1931.99       "
      ]
     },
     "metadata": {},
     "output_type": "display_data"
    },
    {
     "data": {
      "text/plain": [
       "6-element Array{Float64,1}:\n",
       "     0.0        \n",
       "     0.0        \n",
       "     2.32831e-10\n",
       "   466.498      \n",
       " -3707.82       \n",
       "  1931.99       "
      ]
     },
     "metadata": {},
     "output_type": "display_data"
    },
    {
     "name": "stdout",
     "output_type": "stream",
     "text": [
      "elapsed time: 0.688997119 seconds\n"
     ]
    },
    {
     "data": {
      "text/plain": [
       "6-element Array{Float64,1}:\n",
       "  0.0        \n",
       "  9.09495e-13\n",
       " -1.81899e-12\n",
       " 10.3149     \n",
       " 24.1883     \n",
       "  8.96983    "
      ]
     },
     "metadata": {},
     "output_type": "display_data"
    },
    {
     "data": {
      "text/plain": [
       "6-element Array{Float64,1}:\n",
       "  0.0        \n",
       "  9.09495e-13\n",
       " -1.81899e-12\n",
       " 10.3149     \n",
       " 24.1883     \n",
       "  8.96983    "
      ]
     },
     "metadata": {},
     "output_type": "display_data"
    },
    {
     "name": "stdout",
     "output_type": "stream",
     "text": [
      "elapsed time: 1.1194049 seconds\n"
     ]
    },
    {
     "data": {
      "text/plain": [
       "6-element Array{Float64,1}:\n",
       "   0.0        \n",
       "  -3.63798e-12\n",
       "   0.0        \n",
       " -23.9984     \n",
       " 275.257      \n",
       " -44.3171     "
      ]
     },
     "metadata": {},
     "output_type": "display_data"
    },
    {
     "data": {
      "text/plain": [
       "6-element Array{Float64,1}:\n",
       "   0.0        \n",
       "  -3.63798e-12\n",
       "   0.0        \n",
       " -23.9984     \n",
       " 275.257      \n",
       " -44.3171     "
      ]
     },
     "metadata": {},
     "output_type": "display_data"
    },
    {
     "name": "stdout",
     "output_type": "stream",
     "text": [
      "elapsed time: 0.701530119 seconds\n"
     ]
    },
    {
     "data": {
      "text/plain": [
       "6-element Array{Float64,1}:\n",
       "   0.0        \n",
       "   0.0        \n",
       "   1.45519e-11\n",
       " -37.3753     \n",
       " 259.736      \n",
       " -21.8874     "
      ]
     },
     "metadata": {},
     "output_type": "display_data"
    },
    {
     "data": {
      "text/plain": [
       "6-element Array{Float64,1}:\n",
       "   0.0        \n",
       "   0.0        \n",
       "   1.45519e-11\n",
       " -37.3753     \n",
       " 259.736      \n",
       " -21.8874     "
      ]
     },
     "metadata": {},
     "output_type": "display_data"
    },
    {
     "name": "stdout",
     "output_type": "stream",
     "text": [
      "elapsed time: 0.668206665 seconds\n"
     ]
    },
    {
     "data": {
      "text/plain": [
       "6-element Array{Float64,1}:\n",
       "  0.0        \n",
       "  5.68434e-14\n",
       "  2.27374e-13\n",
       "  1.00499    \n",
       " -3.42181    \n",
       "  0.531211   "
      ]
     },
     "metadata": {},
     "output_type": "display_data"
    },
    {
     "data": {
      "text/plain": [
       "6-element Array{Float64,1}:\n",
       "  0.0        \n",
       "  5.68434e-14\n",
       "  2.27374e-13\n",
       "  1.00499    \n",
       " -3.42181    \n",
       "  0.531211   "
      ]
     },
     "metadata": {},
     "output_type": "display_data"
    },
    {
     "name": "stdout",
     "output_type": "stream",
     "text": [
      "elapsed time: 1.076492826 seconds\n"
     ]
    },
    {
     "data": {
      "text/plain": [
       "6-element Array{Float64,1}:\n",
       "    -5.82077e-11\n",
       "     4.65661e-10\n",
       "    -5.82077e-11\n",
       " -4555.57       \n",
       " -1320.96       \n",
       " -5820.41       "
      ]
     },
     "metadata": {},
     "output_type": "display_data"
    },
    {
     "data": {
      "text/plain": [
       "6-element Array{Float64,1}:\n",
       "    -5.82077e-11\n",
       "     4.65661e-10\n",
       "    -5.82077e-11\n",
       " -4555.57       \n",
       " -1320.96       \n",
       " -5820.41       "
      ]
     },
     "metadata": {},
     "output_type": "display_data"
    },
    {
     "name": "stdout",
     "output_type": "stream",
     "text": [
      "elapsed time: 0.694709521 seconds\n"
     ]
    },
    {
     "data": {
      "text/plain": [
       "6-element Array{Float64,1}:\n",
       "  0.0      \n",
       "  0.0      \n",
       "  0.0      \n",
       " -0.0459368\n",
       "  0.564701 \n",
       " -0.0916917"
      ]
     },
     "metadata": {},
     "output_type": "display_data"
    },
    {
     "data": {
      "text/plain": [
       "6-element Array{Float64,1}:\n",
       "  0.0      \n",
       "  0.0      \n",
       "  0.0      \n",
       " -0.0459368\n",
       "  0.564701 \n",
       " -0.0916917"
      ]
     },
     "metadata": {},
     "output_type": "display_data"
    },
    {
     "name": "stdout",
     "output_type": "stream",
     "text": [
      "elapsed time: 1.174292982 seconds\n"
     ]
    },
    {
     "data": {
      "text/plain": [
       "6-element Array{Float64,1}:\n",
       "  2.84217e-14\n",
       "  4.54747e-13\n",
       "  0.0        \n",
       "  0.338256   \n",
       " -0.375443   \n",
       "  8.28153    "
      ]
     },
     "metadata": {},
     "output_type": "display_data"
    },
    {
     "data": {
      "text/plain": [
       "6-element Array{Float64,1}:\n",
       "  2.84217e-14\n",
       "  4.54747e-13\n",
       "  0.0        \n",
       "  0.338256   \n",
       " -0.375443   \n",
       "  8.28153    "
      ]
     },
     "metadata": {},
     "output_type": "display_data"
    },
    {
     "name": "stdout",
     "output_type": "stream",
     "text": [
      "elapsed time: 0.688044334 seconds\n"
     ]
    },
    {
     "data": {
      "text/plain": [
       "6-element Array{Float64,1}:\n",
       "     -4.65661e-10\n",
       "      0.0        \n",
       "      0.0        \n",
       "  -4441.0        \n",
       " -29461.6        \n",
       "     -1.80582e5  "
      ]
     },
     "metadata": {},
     "output_type": "display_data"
    },
    {
     "data": {
      "text/plain": [
       "6-element Array{Float64,1}:\n",
       "     -4.65661e-10\n",
       "      0.0        \n",
       "      0.0        \n",
       "  -4441.0        \n",
       " -29461.6        \n",
       "     -1.80582e5  "
      ]
     },
     "metadata": {},
     "output_type": "display_data"
    },
    {
     "name": "stdout",
     "output_type": "stream",
     "text": [
      "elapsed time: 0.682060622 seconds\n"
     ]
    },
    {
     "data": {
      "text/plain": [
       "6-element Array{Float64,1}:\n",
       "  2.84217e-14\n",
       "  0.0        \n",
       "  0.0        \n",
       "  0.36821    \n",
       " -1.42488    \n",
       " -0.941812   "
      ]
     },
     "metadata": {},
     "output_type": "display_data"
    },
    {
     "data": {
      "text/plain": [
       "6-element Array{Float64,1}:\n",
       "  2.84217e-14\n",
       "  0.0        \n",
       "  0.0        \n",
       "  0.36821    \n",
       " -1.42488    \n",
       " -0.941812   "
      ]
     },
     "metadata": {},
     "output_type": "display_data"
    },
    {
     "name": "stdout",
     "output_type": "stream",
     "text": [
      "elapsed time: 1.110777454 seconds\n"
     ]
    },
    {
     "data": {
      "text/plain": [
       "6-element Array{Float64,1}:\n",
       "     -5.82077e-11\n",
       "      1.86265e-9 \n",
       "     -1.16415e-10\n",
       "   -289.991      \n",
       "  -2499.98       \n",
       " -13000.7        "
      ]
     },
     "metadata": {},
     "output_type": "display_data"
    },
    {
     "data": {
      "text/plain": [
       "6-element Array{Float64,1}:\n",
       "     -5.82077e-11\n",
       "      1.86265e-9 \n",
       "     -1.16415e-10\n",
       "   -289.991      \n",
       "  -2499.98       \n",
       " -13000.7        "
      ]
     },
     "metadata": {},
     "output_type": "display_data"
    },
    {
     "name": "stdout",
     "output_type": "stream",
     "text": [
      "elapsed time: 1.078378824 seconds\n"
     ]
    },
    {
     "data": {
      "text/plain": [
       "6-element Array{Float64,1}:\n",
       "   0.0        \n",
       "  -9.09495e-13\n",
       "  -3.63798e-12\n",
       "  -5.43854    \n",
       " -87.3716     \n",
       "  20.2394     "
      ]
     },
     "metadata": {},
     "output_type": "display_data"
    },
    {
     "data": {
      "text/plain": [
       "6-element Array{Float64,1}:\n",
       "   0.0        \n",
       "  -9.09495e-13\n",
       "  -3.63798e-12\n",
       "  -5.43854    \n",
       " -87.3716     \n",
       "  20.2394     "
      ]
     },
     "metadata": {},
     "output_type": "display_data"
    },
    {
     "name": "stdout",
     "output_type": "stream",
     "text": [
      "elapsed time: 0.671260519 seconds\n"
     ]
    },
    {
     "data": {
      "text/plain": [
       "6-element Array{Float64,1}:\n",
       "   0.0    \n",
       "   0.0    \n",
       "   0.0    \n",
       " -22.3785 \n",
       "  -5.89838\n",
       "   1.52175"
      ]
     },
     "metadata": {},
     "output_type": "display_data"
    },
    {
     "data": {
      "text/plain": [
       "6-element Array{Float64,1}:\n",
       "   0.0    \n",
       "   0.0    \n",
       "   0.0    \n",
       " -22.3785 \n",
       "  -5.89838\n",
       "   1.52175"
      ]
     },
     "metadata": {},
     "output_type": "display_data"
    },
    {
     "name": "stdout",
     "output_type": "stream",
     "text": [
      "elapsed time: 1.065578042 seconds\n"
     ]
    },
    {
     "data": {
      "text/plain": [
       "6-element Array{Float64,1}:\n",
       "   1.81899e-12\n",
       "  -2.91038e-11\n",
       "   0.0        \n",
       "   4.87533    \n",
       " 128.25       \n",
       " 410.498      "
      ]
     },
     "metadata": {},
     "output_type": "display_data"
    },
    {
     "data": {
      "text/plain": [
       "6-element Array{Float64,1}:\n",
       "   1.81899e-12\n",
       "  -2.91038e-11\n",
       "   0.0        \n",
       "   4.87533    \n",
       " 128.25       \n",
       " 410.498      "
      ]
     },
     "metadata": {},
     "output_type": "display_data"
    },
    {
     "name": "stdout",
     "output_type": "stream",
     "text": [
      "elapsed time: 0.701986265 seconds\n"
     ]
    },
    {
     "data": {
      "text/plain": [
       "6-element Array{Float64,1}:\n",
       "  0.0        \n",
       "  3.55271e-15\n",
       "  1.42109e-14\n",
       "  0.0881806  \n",
       " -0.305142   \n",
       "  0.0477651  "
      ]
     },
     "metadata": {},
     "output_type": "display_data"
    },
    {
     "data": {
      "text/plain": [
       "6-element Array{Float64,1}:\n",
       "  0.0        \n",
       "  3.55271e-15\n",
       "  1.42109e-14\n",
       "  0.0881806  \n",
       " -0.305142   \n",
       "  0.0477651  "
      ]
     },
     "metadata": {},
     "output_type": "display_data"
    },
    {
     "name": "stdout",
     "output_type": "stream",
     "text": [
      "elapsed time: 1.166139751 seconds\n"
     ]
    },
    {
     "data": {
      "text/plain": [
       "6-element Array{Float64,1}:\n",
       "   0.0        \n",
       "   9.09495e-13\n",
       "   0.0        \n",
       "   2.20234    \n",
       " -19.7861     \n",
       "  14.0041     "
      ]
     },
     "metadata": {},
     "output_type": "display_data"
    },
    {
     "data": {
      "text/plain": [
       "6-element Array{Float64,1}:\n",
       "   0.0        \n",
       "   9.09495e-13\n",
       "   0.0        \n",
       "   2.20234    \n",
       " -19.7861     \n",
       "  14.0041     "
      ]
     },
     "metadata": {},
     "output_type": "display_data"
    },
    {
     "name": "stdout",
     "output_type": "stream",
     "text": [
      "elapsed time: 1.081348606 seconds\n"
     ]
    },
    {
     "data": {
      "text/plain": [
       "6-element Array{Float64,1}:\n",
       "     0.0        \n",
       "     1.16415e-10\n",
       "    -5.82077e-11\n",
       "    43.4905     \n",
       " -1232.67       \n",
       " -1433.75       "
      ]
     },
     "metadata": {},
     "output_type": "display_data"
    },
    {
     "data": {
      "text/plain": [
       "6-element Array{Float64,1}:\n",
       "     0.0        \n",
       "     1.16415e-10\n",
       "    -5.82077e-11\n",
       "    43.4905     \n",
       " -1232.67       \n",
       " -1433.75       "
      ]
     },
     "metadata": {},
     "output_type": "display_data"
    },
    {
     "name": "stdout",
     "output_type": "stream",
     "text": [
      "elapsed time: 0.669870861 seconds\n"
     ]
    },
    {
     "data": {
      "text/plain": [
       "6-element Array{Float64,1}:\n",
       "    3.63798e-12\n",
       "    1.45519e-11\n",
       "    7.27596e-12\n",
       "   42.8384     \n",
       " -142.105      \n",
       " -222.005      "
      ]
     },
     "metadata": {},
     "output_type": "display_data"
    },
    {
     "data": {
      "text/plain": [
       "6-element Array{Float64,1}:\n",
       "    3.63798e-12\n",
       "    1.45519e-11\n",
       "    7.27596e-12\n",
       "   42.8384     \n",
       " -142.105      \n",
       " -222.005      "
      ]
     },
     "metadata": {},
     "output_type": "display_data"
    },
    {
     "name": "stdout",
     "output_type": "stream",
     "text": [
      "elapsed time: 1.065278979 seconds\n"
     ]
    },
    {
     "data": {
      "text/plain": [
       "6-element Array{Float64,1}:\n",
       "  8.88178e-16\n",
       " -2.13163e-14\n",
       "  1.06581e-14\n",
       "  1.85       \n",
       "  0.0632292  \n",
       " -0.589476   "
      ]
     },
     "metadata": {},
     "output_type": "display_data"
    },
    {
     "data": {
      "text/plain": [
       "6-element Array{Float64,1}:\n",
       "  8.88178e-16\n",
       " -2.13163e-14\n",
       "  1.06581e-14\n",
       "  1.85       \n",
       "  0.0632292  \n",
       " -0.589476   "
      ]
     },
     "metadata": {},
     "output_type": "display_data"
    },
    {
     "name": "stdout",
     "output_type": "stream",
     "text": [
      "elapsed time: 0.741419812 seconds\n"
     ]
    },
    {
     "data": {
      "text/plain": [
       "6-element Array{Float64,1}:\n",
       "    -3.63798e-12\n",
       "    -2.91038e-11\n",
       "    -7.27596e-12\n",
       "  1962.48       \n",
       "  -161.724      \n",
       " -1366.28       "
      ]
     },
     "metadata": {},
     "output_type": "display_data"
    },
    {
     "data": {
      "text/plain": [
       "6-element Array{Float64,1}:\n",
       "    -3.63798e-12\n",
       "    -2.91038e-11\n",
       "    -7.27596e-12\n",
       "  1962.48       \n",
       "  -161.724      \n",
       " -1366.28       "
      ]
     },
     "metadata": {},
     "output_type": "display_data"
    },
    {
     "name": "stdout",
     "output_type": "stream",
     "text": [
      "elapsed time: 1.464612942 seconds\n"
     ]
    },
    {
     "data": {
      "text/plain": [
       "6-element Array{Float64,1}:\n",
       "     0.0        \n",
       "     0.0        \n",
       "    -9.31323e-10\n",
       " -1635.85       \n",
       " 18889.3        \n",
       " -4242.97       "
      ]
     },
     "metadata": {},
     "output_type": "display_data"
    },
    {
     "data": {
      "text/plain": [
       "6-element Array{Float64,1}:\n",
       "     0.0        \n",
       "     0.0        \n",
       "    -9.31323e-10\n",
       " -1635.85       \n",
       " 18889.3        \n",
       " -4242.97       "
      ]
     },
     "metadata": {},
     "output_type": "display_data"
    },
    {
     "name": "stdout",
     "output_type": "stream",
     "text": [
      "elapsed time: 0.779754306 seconds\n"
     ]
    },
    {
     "data": {
      "text/plain": [
       "6-element Array{Float64,1}:\n",
       " 2.98023e-8\n",
       " 0.0       \n",
       " 1.19209e-7\n",
       " 2.41322e6 \n",
       " 1.5005e6  \n",
       " 1.18978e7 "
      ]
     },
     "metadata": {},
     "output_type": "display_data"
    },
    {
     "data": {
      "text/plain": [
       "6-element Array{Float64,1}:\n",
       " 2.98023e-8\n",
       " 0.0       \n",
       " 1.19209e-7\n",
       " 2.41322e6 \n",
       " 1.5005e6  \n",
       " 1.18978e7 "
      ]
     },
     "metadata": {},
     "output_type": "display_data"
    },
    {
     "name": "stdout",
     "output_type": "stream",
     "text": [
      "elapsed time: 0.716568069 seconds\n"
     ]
    },
    {
     "data": {
      "text/plain": [
       "6-element Array{Float64,1}:\n",
       "    0.0        \n",
       "    5.82077e-11\n",
       "    0.0        \n",
       " -411.006      \n",
       " 4875.07       \n",
       " -802.538      "
      ]
     },
     "metadata": {},
     "output_type": "display_data"
    },
    {
     "data": {
      "text/plain": [
       "6-element Array{Float64,1}:\n",
       "    0.0        \n",
       "    5.82077e-11\n",
       "    0.0        \n",
       " -411.006      \n",
       " 4875.07       \n",
       " -802.538      "
      ]
     },
     "metadata": {},
     "output_type": "display_data"
    },
    {
     "name": "stdout",
     "output_type": "stream",
     "text": [
      "elapsed time: 1.105568745 seconds\n"
     ]
    },
    {
     "data": {
      "text/plain": [
       "6-element Array{Float64,1}:\n",
       "    5.82077e-11\n",
       "    5.82077e-11\n",
       "    2.32831e-10\n",
       " -317.437      \n",
       " 4003.48       \n",
       " -351.038      "
      ]
     },
     "metadata": {},
     "output_type": "display_data"
    },
    {
     "data": {
      "text/plain": [
       "6-element Array{Float64,1}:\n",
       "    5.82077e-11\n",
       "    5.82077e-11\n",
       "    2.32831e-10\n",
       " -317.437      \n",
       " 4003.48       \n",
       " -351.038      "
      ]
     },
     "metadata": {},
     "output_type": "display_data"
    },
    {
     "name": "stdout",
     "output_type": "stream",
     "text": [
      "elapsed time: 0.715503329 seconds\n"
     ]
    },
    {
     "data": {
      "text/plain": [
       "6-element Array{Float64,1}:\n",
       "  -1.25056e-12\n",
       "   0.0        \n",
       "  -3.63798e-12\n",
       "  11.8203     \n",
       "   2.59354    \n",
       " 326.107      "
      ]
     },
     "metadata": {},
     "output_type": "display_data"
    },
    {
     "data": {
      "text/plain": [
       "6-element Array{Float64,1}:\n",
       "  -1.25056e-12\n",
       "   0.0        \n",
       "  -3.63798e-12\n",
       "  11.8203     \n",
       "   2.59354    \n",
       " 326.107      "
      ]
     },
     "metadata": {},
     "output_type": "display_data"
    },
    {
     "name": "stdout",
     "output_type": "stream",
     "text": [
      "elapsed time: 1.091433907 seconds\n"
     ]
    },
    {
     "data": {
      "text/plain": [
       "6-element Array{Float64,1}:\n",
       " -8.88178e-16\n",
       "  1.42109e-14\n",
       " -3.55271e-15\n",
       " -0.0229872  \n",
       " -0.0410208  \n",
       " -0.341909   "
      ]
     },
     "metadata": {},
     "output_type": "display_data"
    },
    {
     "data": {
      "text/plain": [
       "6-element Array{Float64,1}:\n",
       " -8.88178e-16\n",
       "  1.42109e-14\n",
       " -3.55271e-15\n",
       " -0.0229872  \n",
       " -0.0410208  \n",
       " -0.341909   "
      ]
     },
     "metadata": {},
     "output_type": "display_data"
    },
    {
     "name": "stdout",
     "output_type": "stream",
     "text": [
      "elapsed time: 1.179864956 seconds\n"
     ]
    },
    {
     "data": {
      "text/plain": [
       "6-element Array{Float64,1}:\n",
       "   2.72848e-12\n",
       "  -2.91038e-11\n",
       "  -3.63798e-12\n",
       "  15.5        \n",
       " -39.371      \n",
       " 330.299      "
      ]
     },
     "metadata": {},
     "output_type": "display_data"
    },
    {
     "data": {
      "text/plain": [
       "6-element Array{Float64,1}:\n",
       "   2.72848e-12\n",
       "  -2.91038e-11\n",
       "  -3.63798e-12\n",
       "  15.5        \n",
       " -39.371      \n",
       " 330.299      "
      ]
     },
     "metadata": {},
     "output_type": "display_data"
    },
    {
     "name": "stdout",
     "output_type": "stream",
     "text": [
      "elapsed time: 0.692624145 seconds\n"
     ]
    },
    {
     "data": {
      "text/plain": [
       "6-element Array{Float64,1}:\n",
       "   1.81899e-12\n",
       "   1.81899e-12\n",
       "   0.0        \n",
       " -11.6846     \n",
       " 132.001      \n",
       " -34.8967     "
      ]
     },
     "metadata": {},
     "output_type": "display_data"
    },
    {
     "data": {
      "text/plain": [
       "6-element Array{Float64,1}:\n",
       "   1.81899e-12\n",
       "   1.81899e-12\n",
       "   0.0        \n",
       " -11.6846     \n",
       " 132.001      \n",
       " -34.8967     "
      ]
     },
     "metadata": {},
     "output_type": "display_data"
    },
    {
     "name": "stdout",
     "output_type": "stream",
     "text": [
      "elapsed time: 0.706831617 seconds\n"
     ]
    },
    {
     "data": {
      "text/plain": [
       "6-element Array{Float64,1}:\n",
       "  1.55431e-15\n",
       " -1.13687e-13\n",
       "  0.0        \n",
       "  3.12593    \n",
       " -0.0101102  \n",
       " -2.05627    "
      ]
     },
     "metadata": {},
     "output_type": "display_data"
    },
    {
     "data": {
      "text/plain": [
       "6-element Array{Float64,1}:\n",
       "  1.55431e-15\n",
       " -1.13687e-13\n",
       "  0.0        \n",
       "  3.12593    \n",
       " -0.0101102  \n",
       " -2.05627    "
      ]
     },
     "metadata": {},
     "output_type": "display_data"
    },
    {
     "name": "stdout",
     "output_type": "stream",
     "text": [
      "elapsed time: 1.103323485 seconds\n"
     ]
    },
    {
     "data": {
      "text/plain": [
       "6-element Array{Float64,1}:\n",
       "     0.0        \n",
       "    -2.91038e-11\n",
       "     1.16415e-10\n",
       "   279.647      \n",
       " -2313.51       \n",
       "   434.665      "
      ]
     },
     "metadata": {},
     "output_type": "display_data"
    },
    {
     "data": {
      "text/plain": [
       "6-element Array{Float64,1}:\n",
       "     0.0        \n",
       "    -2.91038e-11\n",
       "     1.16415e-10\n",
       "   279.647      \n",
       " -2313.51       \n",
       "   434.665      "
      ]
     },
     "metadata": {},
     "output_type": "display_data"
    },
    {
     "name": "stdout",
     "output_type": "stream",
     "text": [
      "elapsed time: 0.686509303 seconds\n"
     ]
    },
    {
     "data": {
      "text/plain": [
       "6-element Array{Float64,1}:\n",
       "    0.0        \n",
       "    2.91038e-11\n",
       "    1.45519e-11\n",
       "   49.0265     \n",
       " -340.838      \n",
       "  596.883      "
      ]
     },
     "metadata": {},
     "output_type": "display_data"
    },
    {
     "data": {
      "text/plain": [
       "6-element Array{Float64,1}:\n",
       "    0.0        \n",
       "    2.91038e-11\n",
       "    1.45519e-11\n",
       "   49.0265     \n",
       " -340.838      \n",
       "  596.883      "
      ]
     },
     "metadata": {},
     "output_type": "display_data"
    },
    {
     "name": "stdout",
     "output_type": "stream",
     "text": [
      "elapsed time: 1.092699361 seconds\n"
     ]
    },
    {
     "data": {
      "text/plain": [
       "6-element Array{Float64,1}:\n",
       "    -2.91038e-11\n",
       "     0.0        \n",
       "     0.0        \n",
       "    90.331      \n",
       " -1940.86       \n",
       "  1880.04       "
      ]
     },
     "metadata": {},
     "output_type": "display_data"
    },
    {
     "data": {
      "text/plain": [
       "6-element Array{Float64,1}:\n",
       "    -2.91038e-11\n",
       "     0.0        \n",
       "     0.0        \n",
       "    90.331      \n",
       " -1940.86       \n",
       "  1880.04       "
      ]
     },
     "metadata": {},
     "output_type": "display_data"
    },
    {
     "name": "stdout",
     "output_type": "stream",
     "text": [
      "elapsed time: 1.108205329 seconds\n"
     ]
    },
    {
     "data": {
      "text/plain": [
       "6-element Array{Float64,1}:\n",
       "  0.0    \n",
       "  0.0    \n",
       "  0.0    \n",
       " -1.42315\n",
       " 16.1121 \n",
       " -7.71782"
      ]
     },
     "metadata": {},
     "output_type": "display_data"
    },
    {
     "data": {
      "text/plain": [
       "6-element Array{Float64,1}:\n",
       "  0.0    \n",
       "  0.0    \n",
       "  0.0    \n",
       " -1.42315\n",
       " 16.1121 \n",
       " -7.71782"
      ]
     },
     "metadata": {},
     "output_type": "display_data"
    },
    {
     "name": "stdout",
     "output_type": "stream",
     "text": [
      "elapsed time: 0.705109199 seconds\n"
     ]
    },
    {
     "data": {
      "text/plain": [
       "6-element Array{Float64,1}:\n",
       "    5.82077e-11\n",
       "    2.91038e-11\n",
       "    0.0        \n",
       "  -50.1691     \n",
       " 2531.88       \n",
       "  328.256      "
      ]
     },
     "metadata": {},
     "output_type": "display_data"
    },
    {
     "data": {
      "text/plain": [
       "6-element Array{Float64,1}:\n",
       "    5.82077e-11\n",
       "    2.91038e-11\n",
       "    0.0        \n",
       "  -50.1691     \n",
       " 2531.88       \n",
       "  328.256      "
      ]
     },
     "metadata": {},
     "output_type": "display_data"
    },
    {
     "name": "stdout",
     "output_type": "stream",
     "text": [
      "elapsed time: 1.081173808 seconds\n"
     ]
    },
    {
     "data": {
      "text/plain": [
       "6-element Array{Float64,1}:\n",
       "    -2.91038e-11\n",
       "     0.0        \n",
       "    -5.82077e-11\n",
       "   -86.0159     \n",
       " -1210.28       \n",
       " -2923.83       "
      ]
     },
     "metadata": {},
     "output_type": "display_data"
    },
    {
     "data": {
      "text/plain": [
       "6-element Array{Float64,1}:\n",
       "    -2.91038e-11\n",
       "     0.0        \n",
       "    -5.82077e-11\n",
       "   -86.0159     \n",
       " -1210.28       \n",
       " -2923.83       "
      ]
     },
     "metadata": {},
     "output_type": "display_data"
    },
    {
     "name": "stdout",
     "output_type": "stream",
     "text": [
      "elapsed time: 1.065629525 seconds\n"
     ]
    },
    {
     "data": {
      "text/plain": [
       "6-element Array{Float64,1}:\n",
       "     2.32831e-10\n",
       "     0.0        \n",
       "     4.65661e-10\n",
       "  -443.127      \n",
       " 11664.6        \n",
       " -6249.06       "
      ]
     },
     "metadata": {},
     "output_type": "display_data"
    },
    {
     "data": {
      "text/plain": [
       "6-element Array{Float64,1}:\n",
       "     2.32831e-10\n",
       "     0.0        \n",
       "     4.65661e-10\n",
       "  -443.127      \n",
       " 11664.6        \n",
       " -6249.06       "
      ]
     },
     "metadata": {},
     "output_type": "display_data"
    },
    {
     "name": "stdout",
     "output_type": "stream",
     "text": [
      "elapsed time: 0.692813329 seconds\n"
     ]
    },
    {
     "data": {
      "text/plain": [
       "6-element Array{Float64,1}:\n",
       "   0.0        \n",
       "  -4.54747e-13\n",
       "   0.0        \n",
       " -37.2173     \n",
       " 689.355      \n",
       "   2.37936    "
      ]
     },
     "metadata": {},
     "output_type": "display_data"
    },
    {
     "data": {
      "text/plain": [
       "6-element Array{Float64,1}:\n",
       "   0.0        \n",
       "  -4.54747e-13\n",
       "   0.0        \n",
       " -37.2173     \n",
       " 689.355      \n",
       "   2.37936    "
      ]
     },
     "metadata": {},
     "output_type": "display_data"
    },
    {
     "name": "stdout",
     "output_type": "stream",
     "text": [
      "elapsed time: 0.811548027 seconds\n"
     ]
    },
    {
     "data": {
      "text/plain": [
       "6-element Array{Float64,1}:\n",
       "   2.27374e-13\n",
       "  -1.81899e-12\n",
       "   0.0        \n",
       " -36.7605     \n",
       " -13.8617     \n",
       "  41.3853     "
      ]
     },
     "metadata": {},
     "output_type": "display_data"
    },
    {
     "data": {
      "text/plain": [
       "6-element Array{Float64,1}:\n",
       "   2.27374e-13\n",
       "  -1.81899e-12\n",
       "   0.0        \n",
       " -36.7605     \n",
       " -13.8617     \n",
       "  41.3853     "
      ]
     },
     "metadata": {},
     "output_type": "display_data"
    },
    {
     "name": "stdout",
     "output_type": "stream",
     "text": [
      "elapsed time: 0.70857212 seconds\n"
     ]
    },
    {
     "data": {
      "text/plain": [
       "6-element Array{Float64,1}:\n",
       "  -1.81899e-12\n",
       "   6.82121e-13\n",
       "   0.0        \n",
       "  24.5405     \n",
       " 101.023      \n",
       "  -6.6657     "
      ]
     },
     "metadata": {},
     "output_type": "display_data"
    },
    {
     "data": {
      "text/plain": [
       "6-element Array{Float64,1}:\n",
       "  -1.81899e-12\n",
       "   6.82121e-13\n",
       "   0.0        \n",
       "  24.5405     \n",
       " 101.023      \n",
       "  -6.6657     "
      ]
     },
     "metadata": {},
     "output_type": "display_data"
    },
    {
     "name": "stdout",
     "output_type": "stream",
     "text": [
      "elapsed time: 1.081117074 seconds\n"
     ]
    },
    {
     "data": {
      "text/plain": [
       "6-element Array{Float64,1}:\n",
       "    0.0   \n",
       "    0.0   \n",
       "    0.0   \n",
       "   74.7421\n",
       " -901.591 \n",
       "  617.111 "
      ]
     },
     "metadata": {},
     "output_type": "display_data"
    },
    {
     "data": {
      "text/plain": [
       "6-element Array{Float64,1}:\n",
       "    0.0   \n",
       "    0.0   \n",
       "    0.0   \n",
       "   74.7421\n",
       " -901.591 \n",
       "  617.111 "
      ]
     },
     "metadata": {},
     "output_type": "display_data"
    },
    {
     "name": "stdout",
     "output_type": "stream",
     "text": [
      "elapsed time: 1.07634821 seconds\n"
     ]
    },
    {
     "data": {
      "text/plain": [
       "6-element Array{Float64,1}:\n",
       "    -2.32831e-10\n",
       "    -2.32831e-10\n",
       "    -4.65661e-10\n",
       "  -620.839      \n",
       " 10392.0        \n",
       " -2329.17       "
      ]
     },
     "metadata": {},
     "output_type": "display_data"
    },
    {
     "data": {
      "text/plain": [
       "6-element Array{Float64,1}:\n",
       "    -2.32831e-10\n",
       "    -2.32831e-10\n",
       "    -4.65661e-10\n",
       "  -620.839      \n",
       " 10392.0        \n",
       " -2329.17       "
      ]
     },
     "metadata": {},
     "output_type": "display_data"
    },
    {
     "name": "stdout",
     "output_type": "stream",
     "text": [
      "elapsed time: 0.814143063 seconds\n"
     ]
    },
    {
     "data": {
      "text/plain": [
       "6-element Array{Float64,1}:\n",
       "  3.55271e-15\n",
       "  4.26326e-14\n",
       "  0.0        \n",
       "  3.72156    \n",
       "  0.116992   \n",
       " -0.942991   "
      ]
     },
     "metadata": {},
     "output_type": "display_data"
    },
    {
     "data": {
      "text/plain": [
       "6-element Array{Float64,1}:\n",
       "  3.55271e-15\n",
       "  4.26326e-14\n",
       "  0.0        \n",
       "  3.72156    \n",
       "  0.116992   \n",
       " -0.942991   "
      ]
     },
     "metadata": {},
     "output_type": "display_data"
    },
    {
     "name": "stdout",
     "output_type": "stream",
     "text": [
      "elapsed time: 0.68836987 seconds\n"
     ]
    },
    {
     "data": {
      "text/plain": [
       "6-element Array{Float64,1}:\n",
       "   0.0        \n",
       "   1.81899e-12\n",
       "  -3.63798e-12\n",
       "  -7.24552    \n",
       " -58.8438     \n",
       " -34.8432     "
      ]
     },
     "metadata": {},
     "output_type": "display_data"
    },
    {
     "data": {
      "text/plain": [
       "6-element Array{Float64,1}:\n",
       "   0.0        \n",
       "   1.81899e-12\n",
       "  -3.63798e-12\n",
       "  -7.24552    \n",
       " -58.8438     \n",
       " -34.8432     "
      ]
     },
     "metadata": {},
     "output_type": "display_data"
    },
    {
     "name": "stdout",
     "output_type": "stream",
     "text": [
      "elapsed time: 1.071256003 seconds\n"
     ]
    },
    {
     "data": {
      "text/plain": [
       "6-element Array{Float64,1}:\n",
       "  3.55271e-15\n",
       "  4.26326e-14\n",
       "  0.0        \n",
       "  3.72156    \n",
       "  0.116992   \n",
       " -0.942991   "
      ]
     },
     "metadata": {},
     "output_type": "display_data"
    },
    {
     "data": {
      "text/plain": [
       "6-element Array{Float64,1}:\n",
       "  3.55271e-15\n",
       "  4.26326e-14\n",
       "  0.0        \n",
       "  3.72156    \n",
       "  0.116992   \n",
       " -0.942991   "
      ]
     },
     "metadata": {},
     "output_type": "display_data"
    },
    {
     "name": "stdout",
     "output_type": "stream",
     "text": [
      "elapsed time: 1.074250377 seconds\n"
     ]
    },
    {
     "data": {
      "text/plain": [
       "6-element Array{Float64,1}:\n",
       "     0.0        \n",
       "     0.0        \n",
       "    -1.16415e-10\n",
       "   124.282      \n",
       " -2089.42       \n",
       "   551.812      "
      ]
     },
     "metadata": {},
     "output_type": "display_data"
    },
    {
     "data": {
      "text/plain": [
       "6-element Array{Float64,1}:\n",
       "     0.0        \n",
       "     0.0        \n",
       "    -1.16415e-10\n",
       "   124.282      \n",
       " -2089.42       \n",
       "   551.812      "
      ]
     },
     "metadata": {},
     "output_type": "display_data"
    },
    {
     "name": "stdout",
     "output_type": "stream",
     "text": [
      "elapsed time: 0.69104105 seconds\n"
     ]
    },
    {
     "data": {
      "text/plain": [
       "6-element Array{Float64,1}:\n",
       "   -1.81899e-12\n",
       "    2.91038e-11\n",
       "    0.0        \n",
       "  -17.9979     \n",
       " -106.652      \n",
       " -538.683      "
      ]
     },
     "metadata": {},
     "output_type": "display_data"
    },
    {
     "data": {
      "text/plain": [
       "6-element Array{Float64,1}:\n",
       "   -1.81899e-12\n",
       "    2.91038e-11\n",
       "    0.0        \n",
       "  -17.9979     \n",
       " -106.652      \n",
       " -538.683      "
      ]
     },
     "metadata": {},
     "output_type": "display_data"
    },
    {
     "name": "stdout",
     "output_type": "stream",
     "text": [
      "elapsed time: 1.157599647 seconds\n"
     ]
    },
    {
     "data": {
      "text/plain": [
       "6-element Array{Float64,1}:\n",
       "   1.45519e-11\n",
       "   0.0        \n",
       "   2.91038e-11\n",
       " -40.0793     \n",
       " 717.533      \n",
       " -68.2296     "
      ]
     },
     "metadata": {},
     "output_type": "display_data"
    },
    {
     "data": {
      "text/plain": [
       "6-element Array{Float64,1}:\n",
       "   1.45519e-11\n",
       "   0.0        \n",
       "   2.91038e-11\n",
       " -40.0793     \n",
       " 717.533      \n",
       " -68.2296     "
      ]
     },
     "metadata": {},
     "output_type": "display_data"
    },
    {
     "name": "stdout",
     "output_type": "stream",
     "text": [
      "elapsed time: 0.684715825 seconds\n"
     ]
    },
    {
     "data": {
      "text/plain": [
       "6-element Array{Float64,1}:\n",
       "  0.0       \n",
       "  5.96046e-8\n",
       "  4.76837e-7\n",
       " -2.14511e6 \n",
       " -6.35746e6 \n",
       " -1.56692e5 "
      ]
     },
     "metadata": {},
     "output_type": "display_data"
    },
    {
     "data": {
      "text/plain": [
       "6-element Array{Float64,1}:\n",
       "  0.0       \n",
       "  5.96046e-8\n",
       "  4.76837e-7\n",
       " -2.14511e6 \n",
       " -6.35746e6 \n",
       " -1.56692e5 "
      ]
     },
     "metadata": {},
     "output_type": "display_data"
    },
    {
     "name": "stdout",
     "output_type": "stream",
     "text": [
      "elapsed time: 1.070238478 seconds\n"
     ]
    },
    {
     "data": {
      "text/plain": [
       "6-element Array{Float64,1}:\n",
       " -4.54747e-13\n",
       " -5.68434e-14\n",
       "  1.81899e-12\n",
       " -2.44637    \n",
       " 31.8942     \n",
       "  1.5239     "
      ]
     },
     "metadata": {},
     "output_type": "display_data"
    },
    {
     "data": {
      "text/plain": [
       "6-element Array{Float64,1}:\n",
       " -4.54747e-13\n",
       " -5.68434e-14\n",
       "  1.81899e-12\n",
       " -2.44637    \n",
       " 31.8942     \n",
       "  1.5239     "
      ]
     },
     "metadata": {},
     "output_type": "display_data"
    },
    {
     "name": "stdout",
     "output_type": "stream",
     "text": [
      "elapsed time: 1.07611844 seconds\n"
     ]
    },
    {
     "data": {
      "text/plain": [
       "6-element Array{Float64,1}:\n",
       "  -1.81899e-12\n",
       "   9.09495e-13\n",
       "  -3.63798e-12\n",
       "  -2.07971    \n",
       "  91.8836     \n",
       " -16.7552     "
      ]
     },
     "metadata": {},
     "output_type": "display_data"
    },
    {
     "data": {
      "text/plain": [
       "6-element Array{Float64,1}:\n",
       "  -1.81899e-12\n",
       "   9.09495e-13\n",
       "  -3.63798e-12\n",
       "  -2.07971    \n",
       "  91.8836     \n",
       " -16.7552     "
      ]
     },
     "metadata": {},
     "output_type": "display_data"
    },
    {
     "name": "stdout",
     "output_type": "stream",
     "text": [
      "elapsed time: 0.681477812 seconds\n"
     ]
    },
    {
     "data": {
      "text/plain": [
       "6-element Array{Float64,1}:\n",
       "    -1.16415e-10\n",
       "     0.0        \n",
       "     2.32831e-10\n",
       "    14.119      \n",
       " -4954.66       \n",
       "  -231.37       "
      ]
     },
     "metadata": {},
     "output_type": "display_data"
    },
    {
     "data": {
      "text/plain": [
       "6-element Array{Float64,1}:\n",
       "    -1.16415e-10\n",
       "     0.0        \n",
       "     2.32831e-10\n",
       "    14.119      \n",
       " -4954.66       \n",
       "  -231.37       "
      ]
     },
     "metadata": {},
     "output_type": "display_data"
    },
    {
     "name": "stdout",
     "output_type": "stream",
     "text": [
      "elapsed time: 1.153616886 seconds\n"
     ]
    },
    {
     "data": {
      "text/plain": [
       "6-element Array{Float64,1}:\n",
       "   -7.27596e-12\n",
       "   -1.13687e-12\n",
       "   -2.91038e-11\n",
       "   68.44       \n",
       " -428.152      \n",
       "  -27.1272     "
      ]
     },
     "metadata": {},
     "output_type": "display_data"
    },
    {
     "data": {
      "text/plain": [
       "6-element Array{Float64,1}:\n",
       "   -7.27596e-12\n",
       "   -1.13687e-12\n",
       "   -2.91038e-11\n",
       "   68.44       \n",
       " -428.152      \n",
       "  -27.1272     "
      ]
     },
     "metadata": {},
     "output_type": "display_data"
    },
    {
     "name": "stdout",
     "output_type": "stream",
     "text": [
      "elapsed time: 0.709966023 seconds\n"
     ]
    },
    {
     "data": {
      "text/plain": [
       "6-element Array{Float64,1}:\n",
       "  4.44089e-16\n",
       "  1.24345e-14\n",
       "  1.77636e-15\n",
       "  2.22832    \n",
       "  0.0339445  \n",
       " -0.722352   "
      ]
     },
     "metadata": {},
     "output_type": "display_data"
    },
    {
     "data": {
      "text/plain": [
       "6-element Array{Float64,1}:\n",
       "  4.44089e-16\n",
       "  1.24345e-14\n",
       "  1.77636e-15\n",
       "  2.22832    \n",
       "  0.0339445  \n",
       " -0.722352   "
      ]
     },
     "metadata": {},
     "output_type": "display_data"
    },
    {
     "name": "stdout",
     "output_type": "stream",
     "text": [
      "elapsed time: 1.114116551 seconds\n"
     ]
    },
    {
     "data": {
      "text/plain": [
       "6-element Array{Float64,1}:\n",
       "   -2.91038e-11\n",
       "   -5.82077e-11\n",
       "   -5.82077e-11\n",
       "  374.861      \n",
       " 1364.22       \n",
       " 1279.11       "
      ]
     },
     "metadata": {},
     "output_type": "display_data"
    },
    {
     "data": {
      "text/plain": [
       "6-element Array{Float64,1}:\n",
       "   -2.91038e-11\n",
       "   -5.82077e-11\n",
       "   -5.82077e-11\n",
       "  374.861      \n",
       " 1364.22       \n",
       " 1279.11       "
      ]
     },
     "metadata": {},
     "output_type": "display_data"
    },
    {
     "name": "stdout",
     "output_type": "stream",
     "text": [
      "elapsed time: 1.170612284 seconds\n"
     ]
    },
    {
     "data": {
      "text/plain": [
       "6-element Array{Float64,1}:\n",
       "  4.44089e-16\n",
       "  1.24345e-14\n",
       "  1.77636e-15\n",
       "  2.22832    \n",
       "  0.0339445  \n",
       " -0.722352   "
      ]
     },
     "metadata": {},
     "output_type": "display_data"
    },
    {
     "data": {
      "text/plain": [
       "6-element Array{Float64,1}:\n",
       "  4.44089e-16\n",
       "  1.24345e-14\n",
       "  1.77636e-15\n",
       "  2.22832    \n",
       "  0.0339445  \n",
       " -0.722352   "
      ]
     },
     "metadata": {},
     "output_type": "display_data"
    },
    {
     "name": "stdout",
     "output_type": "stream",
     "text": [
      "elapsed time: 1.07787833 seconds\n"
     ]
    },
    {
     "data": {
      "text/plain": [
       "6-element Array{Float64,1}:\n",
       "    9.09495e-13\n",
       "   -5.82077e-11\n",
       "   -5.45697e-12\n",
       "  -24.8137     \n",
       "  -38.8958     \n",
       " -787.908      "
      ]
     },
     "metadata": {},
     "output_type": "display_data"
    },
    {
     "data": {
      "text/plain": [
       "6-element Array{Float64,1}:\n",
       "    9.09495e-13\n",
       "   -5.82077e-11\n",
       "   -5.45697e-12\n",
       "  -24.8137     \n",
       "  -38.8958     \n",
       " -787.908      "
      ]
     },
     "metadata": {},
     "output_type": "display_data"
    },
    {
     "name": "stdout",
     "output_type": "stream",
     "text": [
      "elapsed time: 0.682159078 seconds\n"
     ]
    },
    {
     "data": {
      "text/plain": [
       "6-element Array{Float64,1}:\n",
       "   0.0        \n",
       "   1.45519e-11\n",
       "   0.0        \n",
       "   6.22251    \n",
       "  53.7657     \n",
       " 373.596      "
      ]
     },
     "metadata": {},
     "output_type": "display_data"
    },
    {
     "data": {
      "text/plain": [
       "6-element Array{Float64,1}:\n",
       "   0.0        \n",
       "   1.45519e-11\n",
       "   0.0        \n",
       "   6.22251    \n",
       "  53.7657     \n",
       " 373.596      "
      ]
     },
     "metadata": {},
     "output_type": "display_data"
    },
    {
     "name": "stdout",
     "output_type": "stream",
     "text": [
      "elapsed time: 1.171578125 seconds\n"
     ]
    },
    {
     "data": {
      "text/plain": [
       "6-element Array{Float64,1}:\n",
       "   -1.45519e-11\n",
       "    0.0        \n",
       "    0.0        \n",
       "  277.855      \n",
       " -751.451      \n",
       " 6872.94       "
      ]
     },
     "metadata": {},
     "output_type": "display_data"
    },
    {
     "data": {
      "text/plain": [
       "6-element Array{Float64,1}:\n",
       "   -1.45519e-11\n",
       "    0.0        \n",
       "    0.0        \n",
       "  277.855      \n",
       " -751.451      \n",
       " 6872.94       "
      ]
     },
     "metadata": {},
     "output_type": "display_data"
    },
    {
     "name": "stdout",
     "output_type": "stream",
     "text": [
      "elapsed time: 0.675626381 seconds\n"
     ]
    },
    {
     "data": {
      "text/plain": [
       "6-element Array{Float64,1}:\n",
       "     7.27596e-12\n",
       "     0.0        \n",
       "    -2.91038e-11\n",
       "   -70.7006     \n",
       "  -331.489      \n",
       " -2083.15       "
      ]
     },
     "metadata": {},
     "output_type": "display_data"
    },
    {
     "data": {
      "text/plain": [
       "6-element Array{Float64,1}:\n",
       "     7.27596e-12\n",
       "     0.0        \n",
       "    -2.91038e-11\n",
       "   -70.7006     \n",
       "  -331.489      \n",
       " -2083.15       "
      ]
     },
     "metadata": {},
     "output_type": "display_data"
    },
    {
     "name": "stdout",
     "output_type": "stream",
     "text": [
      "elapsed time: 1.07913091 seconds\n"
     ]
    },
    {
     "data": {
      "text/plain": [
       "6-element Array{Float64,1}:\n",
       "    0.0        \n",
       "    4.54747e-13\n",
       "    0.0        \n",
       "    1.52143    \n",
       " -172.1        \n",
       "   -6.85768    "
      ]
     },
     "metadata": {},
     "output_type": "display_data"
    },
    {
     "data": {
      "text/plain": [
       "6-element Array{Float64,1}:\n",
       "    0.0        \n",
       "    4.54747e-13\n",
       "    0.0        \n",
       "    1.52143    \n",
       " -172.1        \n",
       "   -6.85768    "
      ]
     },
     "metadata": {},
     "output_type": "display_data"
    },
    {
     "name": "stdout",
     "output_type": "stream",
     "text": [
      "elapsed time: 1.079161722 seconds\n"
     ]
    },
    {
     "data": {
      "text/plain": [
       "6-element Array{Float64,1}:\n",
       "  1.13687e-13\n",
       "  0.0        \n",
       "  0.0        \n",
       " -0.089158   \n",
       "  4.46228    \n",
       "  0.19009    "
      ]
     },
     "metadata": {},
     "output_type": "display_data"
    },
    {
     "data": {
      "text/plain": [
       "6-element Array{Float64,1}:\n",
       "  1.13687e-13\n",
       "  0.0        \n",
       "  0.0        \n",
       " -0.089158   \n",
       "  4.46228    \n",
       "  0.19009    "
      ]
     },
     "metadata": {},
     "output_type": "display_data"
    },
    {
     "name": "stdout",
     "output_type": "stream",
     "text": [
      "elapsed time: 1.09705546 seconds\n"
     ]
    },
    {
     "data": {
      "text/plain": [
       "6-element Array{Float64,1}:\n",
       "      0.0       \n",
       "      7.45058e-9\n",
       "      0.0       \n",
       "  -3380.66      \n",
       "  10479.8       \n",
       " -84122.6       "
      ]
     },
     "metadata": {},
     "output_type": "display_data"
    },
    {
     "data": {
      "text/plain": [
       "6-element Array{Float64,1}:\n",
       "      0.0       \n",
       "      7.45058e-9\n",
       "      0.0       \n",
       "  -3380.66      \n",
       "  10479.8       \n",
       " -84122.6       "
      ]
     },
     "metadata": {},
     "output_type": "display_data"
    },
    {
     "name": "stdout",
     "output_type": "stream",
     "text": [
      "elapsed time: 0.68460181 seconds\n"
     ]
    },
    {
     "data": {
      "text/plain": [
       "6-element Array{Float64,1}:\n",
       "    1.81899e-12\n",
       "    0.0        \n",
       "    0.0        \n",
       "    5.12447    \n",
       " -102.627      \n",
       "   58.854      "
      ]
     },
     "metadata": {},
     "output_type": "display_data"
    },
    {
     "data": {
      "text/plain": [
       "6-element Array{Float64,1}:\n",
       "    1.81899e-12\n",
       "    0.0        \n",
       "    0.0        \n",
       "    5.12447    \n",
       " -102.627      \n",
       "   58.854      "
      ]
     },
     "metadata": {},
     "output_type": "display_data"
    },
    {
     "name": "stdout",
     "output_type": "stream",
     "text": [
      "elapsed time: 1.146273009 seconds\n"
     ]
    },
    {
     "data": {
      "text/plain": [
       "6-element Array{Float64,1}:\n",
       "     0.0   \n",
       "     0.0   \n",
       "     0.0   \n",
       " -1645.65  \n",
       "   -61.3053\n",
       "  1197.33  "
      ]
     },
     "metadata": {},
     "output_type": "display_data"
    },
    {
     "data": {
      "text/plain": [
       "6-element Array{Float64,1}:\n",
       "     0.0   \n",
       "     0.0   \n",
       "     0.0   \n",
       " -1645.65  \n",
       "   -61.3053\n",
       "  1197.33  "
      ]
     },
     "metadata": {},
     "output_type": "display_data"
    },
    {
     "name": "stdout",
     "output_type": "stream",
     "text": [
      "elapsed time: 1.078693945 seconds\n"
     ]
    },
    {
     "data": {
      "text/plain": [
       "6-element Array{Float64,1}:\n",
       "    0.0        \n",
       "    1.81899e-12\n",
       "    0.0        \n",
       "    7.4358     \n",
       " -490.458      \n",
       "   10.4862     "
      ]
     },
     "metadata": {},
     "output_type": "display_data"
    },
    {
     "data": {
      "text/plain": [
       "6-element Array{Float64,1}:\n",
       "    0.0        \n",
       "    1.81899e-12\n",
       "    0.0        \n",
       "    7.4358     \n",
       " -490.458      \n",
       "   10.4862     "
      ]
     },
     "metadata": {},
     "output_type": "display_data"
    },
    {
     "name": "stdout",
     "output_type": "stream",
     "text": [
      "elapsed time: 0.681662789 seconds\n"
     ]
    },
    {
     "data": {
      "text/plain": [
       "6-element Array{Float64,1}:\n",
       "  -3.63798e-12\n",
       "   0.0        \n",
       "   0.0        \n",
       "  -3.88501    \n",
       " 164.755      \n",
       " -14.6317     "
      ]
     },
     "metadata": {},
     "output_type": "display_data"
    },
    {
     "data": {
      "text/plain": [
       "6-element Array{Float64,1}:\n",
       "  -3.63798e-12\n",
       "   0.0        \n",
       "   0.0        \n",
       "  -3.88501    \n",
       " 164.755      \n",
       " -14.6317     "
      ]
     },
     "metadata": {},
     "output_type": "display_data"
    },
    {
     "name": "stdout",
     "output_type": "stream",
     "text": [
      "elapsed time: 1.187610615 seconds\n"
     ]
    },
    {
     "data": {
      "text/plain": [
       "6-element Array{Float64,1}:\n",
       " -4.54747e-13\n",
       "  5.68434e-14\n",
       " -1.81899e-12\n",
       " -2.41683    \n",
       " 33.1824     \n",
       "  1.45686    "
      ]
     },
     "metadata": {},
     "output_type": "display_data"
    },
    {
     "data": {
      "text/plain": [
       "6-element Array{Float64,1}:\n",
       " -4.54747e-13\n",
       "  5.68434e-14\n",
       " -1.81899e-12\n",
       " -2.41683    \n",
       " 33.1824     \n",
       "  1.45686    "
      ]
     },
     "metadata": {},
     "output_type": "display_data"
    },
    {
     "name": "stdout",
     "output_type": "stream",
     "text": [
      "elapsed time: 1.086007886 seconds\n"
     ]
    },
    {
     "data": {
      "text/plain": [
       "6-element Array{Float64,1}:\n",
       "    1.45519e-11\n",
       "    0.0        \n",
       "    2.91038e-11\n",
       "    5.89711    \n",
       " -554.517      \n",
       "   79.0604     "
      ]
     },
     "metadata": {},
     "output_type": "display_data"
    },
    {
     "data": {
      "text/plain": [
       "6-element Array{Float64,1}:\n",
       "    1.45519e-11\n",
       "    0.0        \n",
       "    2.91038e-11\n",
       "    5.89711    \n",
       " -554.517      \n",
       "   79.0604     "
      ]
     },
     "metadata": {},
     "output_type": "display_data"
    },
    {
     "name": "stdout",
     "output_type": "stream",
     "text": [
      "elapsed time: 0.687416385 seconds\n"
     ]
    },
    {
     "data": {
      "text/plain": [
       "6-element Array{Float64,1}:\n",
       "  5.68434e-14\n",
       "  0.0        \n",
       "  2.27374e-13\n",
       " -0.0636457  \n",
       "  4.10627    \n",
       "  0.175639   "
      ]
     },
     "metadata": {},
     "output_type": "display_data"
    },
    {
     "data": {
      "text/plain": [
       "6-element Array{Float64,1}:\n",
       "  5.68434e-14\n",
       "  0.0        \n",
       "  2.27374e-13\n",
       " -0.0636457  \n",
       "  4.10627    \n",
       "  0.175639   "
      ]
     },
     "metadata": {},
     "output_type": "display_data"
    },
    {
     "name": "stdout",
     "output_type": "stream",
     "text": [
      "elapsed time: 1.109518689 seconds\n"
     ]
    },
    {
     "data": {
      "text/plain": [
       "6-element Array{Float64,1}:\n",
       "  -4.54747e-13\n",
       "   0.0        \n",
       "   1.81899e-12\n",
       "   3.21628    \n",
       " -24.2643     \n",
       "   1.52454    "
      ]
     },
     "metadata": {},
     "output_type": "display_data"
    },
    {
     "data": {
      "text/plain": [
       "6-element Array{Float64,1}:\n",
       "  -4.54747e-13\n",
       "   0.0        \n",
       "   1.81899e-12\n",
       "   3.21628    \n",
       " -24.2643     \n",
       "   1.52454    "
      ]
     },
     "metadata": {},
     "output_type": "display_data"
    },
    {
     "name": "stdout",
     "output_type": "stream",
     "text": [
      "elapsed time: 0.702291416 seconds\n"
     ]
    },
    {
     "data": {
      "text/plain": [
       "6-element Array{Float64,1}:\n",
       "      5.82077e-11\n",
       "     -4.65661e-10\n",
       "     -2.32831e-10\n",
       "   -416.454      \n",
       "  -3795.67       \n",
       " -11465.6        "
      ]
     },
     "metadata": {},
     "output_type": "display_data"
    },
    {
     "data": {
      "text/plain": [
       "6-element Array{Float64,1}:\n",
       "      5.82077e-11\n",
       "     -4.65661e-10\n",
       "     -2.32831e-10\n",
       "   -416.454      \n",
       "  -3795.67       \n",
       " -11465.6        "
      ]
     },
     "metadata": {},
     "output_type": "display_data"
    },
    {
     "name": "stdout",
     "output_type": "stream",
     "text": [
      "elapsed time: 0.684319953 seconds\n"
     ]
    },
    {
     "data": {
      "text/plain": [
       "6-element Array{Float64,1}:\n",
       "   0.0        \n",
       "  -7.27596e-12\n",
       "   0.0        \n",
       "  -4.32133    \n",
       " 984.422      \n",
       " 100.146      "
      ]
     },
     "metadata": {},
     "output_type": "display_data"
    },
    {
     "data": {
      "text/plain": [
       "6-element Array{Float64,1}:\n",
       "   0.0        \n",
       "  -7.27596e-12\n",
       "   0.0        \n",
       "  -4.32133    \n",
       " 984.422      \n",
       " 100.146      "
      ]
     },
     "metadata": {},
     "output_type": "display_data"
    },
    {
     "name": "stdout",
     "output_type": "stream",
     "text": [
      "elapsed time: 1.170154205 seconds\n"
     ]
    },
    {
     "data": {
      "text/plain": [
       "6-element Array{Float64,1}:\n",
       "   0.0        \n",
       "  -9.09495e-13\n",
       "   0.0        \n",
       "   2.65908    \n",
       " -65.1333     \n",
       "  18.0799     "
      ]
     },
     "metadata": {},
     "output_type": "display_data"
    },
    {
     "data": {
      "text/plain": [
       "6-element Array{Float64,1}:\n",
       "   0.0        \n",
       "  -9.09495e-13\n",
       "   0.0        \n",
       "   2.65908    \n",
       " -65.1333     \n",
       "  18.0799     "
      ]
     },
     "metadata": {},
     "output_type": "display_data"
    },
    {
     "name": "stdout",
     "output_type": "stream",
     "text": [
      "elapsed time: 1.071281787 seconds\n"
     ]
    },
    {
     "data": {
      "text/plain": [
       "6-element Array{Float64,1}:\n",
       "  0.0        \n",
       "  5.68434e-14\n",
       "  0.0        \n",
       " -4.87348    \n",
       " 34.7898     \n",
       "  1.8564     "
      ]
     },
     "metadata": {},
     "output_type": "display_data"
    },
    {
     "data": {
      "text/plain": [
       "6-element Array{Float64,1}:\n",
       "  0.0        \n",
       "  5.68434e-14\n",
       "  0.0        \n",
       " -4.87348    \n",
       " 34.7898     \n",
       "  1.8564     "
      ]
     },
     "metadata": {},
     "output_type": "display_data"
    },
    {
     "name": "stdout",
     "output_type": "stream",
     "text": [
      "elapsed time: 0.673455548 seconds\n"
     ]
    },
    {
     "data": {
      "text/plain": [
       "6-element Array{Float64,1}:\n",
       "  0.0        \n",
       " -1.13687e-13\n",
       " -2.84217e-14\n",
       " -9.25349    \n",
       " -0.539933   \n",
       "  0.503704   "
      ]
     },
     "metadata": {},
     "output_type": "display_data"
    },
    {
     "data": {
      "text/plain": [
       "6-element Array{Float64,1}:\n",
       "  0.0        \n",
       " -1.13687e-13\n",
       " -2.84217e-14\n",
       " -9.25349    \n",
       " -0.539933   \n",
       "  0.503704   "
      ]
     },
     "metadata": {},
     "output_type": "display_data"
    },
    {
     "name": "stdout",
     "output_type": "stream",
     "text": [
      "elapsed time: 1.13159467 seconds\n"
     ]
    },
    {
     "data": {
      "text/plain": [
       "6-element Array{Float64,1}:\n",
       "    0.0        \n",
       "   -7.27596e-12\n",
       "    0.0        \n",
       "  -20.0425     \n",
       "  -19.1413     \n",
       " -136.61       "
      ]
     },
     "metadata": {},
     "output_type": "display_data"
    },
    {
     "data": {
      "text/plain": [
       "6-element Array{Float64,1}:\n",
       "    0.0        \n",
       "   -7.27596e-12\n",
       "    0.0        \n",
       "  -20.0425     \n",
       "  -19.1413     \n",
       " -136.61       "
      ]
     },
     "metadata": {},
     "output_type": "display_data"
    },
    {
     "name": "stdout",
     "output_type": "stream",
     "text": [
      "elapsed time: 1.080419173 seconds\n"
     ]
    },
    {
     "data": {
      "text/plain": [
       "6-element Array{Float64,1}:\n",
       " -1.77636e-15\n",
       "  0.0        \n",
       "  0.0        \n",
       "  8.43159    \n",
       "  0.138308   \n",
       " -1.649      "
      ]
     },
     "metadata": {},
     "output_type": "display_data"
    },
    {
     "data": {
      "text/plain": [
       "6-element Array{Float64,1}:\n",
       " -1.77636e-15\n",
       "  0.0        \n",
       "  0.0        \n",
       "  8.43159    \n",
       "  0.138308   \n",
       " -1.649      "
      ]
     },
     "metadata": {},
     "output_type": "display_data"
    },
    {
     "name": "stdout",
     "output_type": "stream",
     "text": [
      "elapsed time: 0.678397581 seconds\n"
     ]
    },
    {
     "data": {
      "text/plain": [
       "6-element Array{Float64,1}:\n",
       "   0.0        \n",
       "  -9.09495e-13\n",
       "   0.0        \n",
       "  -0.372237   \n",
       " 444.31       \n",
       "   1.37957    "
      ]
     },
     "metadata": {},
     "output_type": "display_data"
    },
    {
     "data": {
      "text/plain": [
       "6-element Array{Float64,1}:\n",
       "   0.0        \n",
       "  -9.09495e-13\n",
       "   0.0        \n",
       "  -0.372237   \n",
       " 444.31       \n",
       "   1.37957    "
      ]
     },
     "metadata": {},
     "output_type": "display_data"
    },
    {
     "name": "stdout",
     "output_type": "stream",
     "text": [
      "elapsed time: 0.812085574 seconds\n"
     ]
    },
    {
     "data": {
      "text/plain": [
       "6-element Array{Float64,1}:\n",
       " -1.77636e-15\n",
       "  0.0        \n",
       "  0.0        \n",
       "  8.43159    \n",
       "  0.138308   \n",
       " -1.649      "
      ]
     },
     "metadata": {},
     "output_type": "display_data"
    },
    {
     "data": {
      "text/plain": [
       "6-element Array{Float64,1}:\n",
       " -1.77636e-15\n",
       "  0.0        \n",
       "  0.0        \n",
       "  8.43159    \n",
       "  0.138308   \n",
       " -1.649      "
      ]
     },
     "metadata": {},
     "output_type": "display_data"
    },
    {
     "name": "stdout",
     "output_type": "stream",
     "text": [
      "elapsed time: 1.074830662 seconds\n"
     ]
    },
    {
     "data": {
      "text/plain": [
       "6-element Array{Float64,1}:\n",
       "  2.84217e-14\n",
       " -7.10543e-15\n",
       "  0.0        \n",
       " -0.0605782  \n",
       "  1.70633    \n",
       " -0.139726   "
      ]
     },
     "metadata": {},
     "output_type": "display_data"
    },
    {
     "data": {
      "text/plain": [
       "6-element Array{Float64,1}:\n",
       "  2.84217e-14\n",
       " -7.10543e-15\n",
       "  0.0        \n",
       " -0.0605782  \n",
       "  1.70633    \n",
       " -0.139726   "
      ]
     },
     "metadata": {},
     "output_type": "display_data"
    },
    {
     "name": "stdout",
     "output_type": "stream",
     "text": [
      "elapsed time: 0.681546909 seconds\n"
     ]
    },
    {
     "data": {
      "text/plain": [
       "6-element Array{Float64,1}:\n",
       "   0.0        \n",
       "   0.0        \n",
       "  -7.27596e-12\n",
       "   0.317674   \n",
       " -96.8759     \n",
       "  -6.12232    "
      ]
     },
     "metadata": {},
     "output_type": "display_data"
    },
    {
     "data": {
      "text/plain": [
       "6-element Array{Float64,1}:\n",
       "   0.0        \n",
       "   0.0        \n",
       "  -7.27596e-12\n",
       "   0.317674   \n",
       " -96.8759     \n",
       "  -6.12232    "
      ]
     },
     "metadata": {},
     "output_type": "display_data"
    },
    {
     "name": "stdout",
     "output_type": "stream",
     "text": [
      "elapsed time: 1.123836379 seconds\n"
     ]
    },
    {
     "data": {
      "text/plain": [
       "6-element Array{Float64,1}:\n",
       "  0.0       \n",
       "  1.19209e-7\n",
       "  1.19209e-7\n",
       " -4.11995e5 \n",
       " -3.00773e6 \n",
       " -2.11309e6 "
      ]
     },
     "metadata": {},
     "output_type": "display_data"
    },
    {
     "data": {
      "text/plain": [
       "6-element Array{Float64,1}:\n",
       "  0.0       \n",
       "  1.19209e-7\n",
       "  1.19209e-7\n",
       " -4.11995e5 \n",
       " -3.00773e6 \n",
       " -2.11309e6 "
      ]
     },
     "metadata": {},
     "output_type": "display_data"
    },
    {
     "name": "stdout",
     "output_type": "stream",
     "text": [
      "elapsed time: 0.683722956 seconds\n"
     ]
    },
    {
     "data": {
      "text/plain": [
       "6-element Array{Float64,1}:\n",
       "    0.0        \n",
       "    2.91038e-11\n",
       "    0.0        \n",
       "   31.2178     \n",
       " -310.235      \n",
       "  732.705      "
      ]
     },
     "metadata": {},
     "output_type": "display_data"
    },
    {
     "data": {
      "text/plain": [
       "6-element Array{Float64,1}:\n",
       "    0.0        \n",
       "    2.91038e-11\n",
       "    0.0        \n",
       "   31.2178     \n",
       " -310.235      \n",
       "  732.705      "
      ]
     },
     "metadata": {},
     "output_type": "display_data"
    },
    {
     "name": "stdout",
     "output_type": "stream",
     "text": [
      "elapsed time: 1.061924679 seconds\n"
     ]
    },
    {
     "data": {
      "text/plain": [
       "6-element Array{Float64,1}:\n",
       "  4.54747e-13\n",
       " -1.13687e-13\n",
       "  0.0        \n",
       " -0.0333871  \n",
       " 31.0399     \n",
       "  1.62848    "
      ]
     },
     "metadata": {},
     "output_type": "display_data"
    },
    {
     "data": {
      "text/plain": [
       "6-element Array{Float64,1}:\n",
       "  4.54747e-13\n",
       " -1.13687e-13\n",
       "  0.0        \n",
       " -0.0333871  \n",
       " 31.0399     \n",
       "  1.62848    "
      ]
     },
     "metadata": {},
     "output_type": "display_data"
    },
    {
     "name": "stdout",
     "output_type": "stream",
     "text": [
      "elapsed time: 1.072285505 seconds\n"
     ]
    },
    {
     "data": {
      "text/plain": [
       "6-element Array{Float64,1}:\n",
       "  9.09495e-13\n",
       " -1.13687e-13\n",
       " -3.63798e-12\n",
       " -9.44723    \n",
       " 64.7036     \n",
       "  3.56693    "
      ]
     },
     "metadata": {},
     "output_type": "display_data"
    },
    {
     "data": {
      "text/plain": [
       "6-element Array{Float64,1}:\n",
       "  9.09495e-13\n",
       " -1.13687e-13\n",
       " -3.63798e-12\n",
       " -9.44723    \n",
       " 64.7036     \n",
       "  3.56693    "
      ]
     },
     "metadata": {},
     "output_type": "display_data"
    },
    {
     "name": "stdout",
     "output_type": "stream",
     "text": [
      "elapsed time: 0.678047518 seconds\n"
     ]
    },
    {
     "data": {
      "text/plain": [
       "6-element Array{Float64,1}:\n",
       "  0.0     \n",
       "  0.0     \n",
       "  0.0     \n",
       " -0.511456\n",
       "  6.57605 \n",
       "  0.364549"
      ]
     },
     "metadata": {},
     "output_type": "display_data"
    },
    {
     "data": {
      "text/plain": [
       "6-element Array{Float64,1}:\n",
       "  0.0     \n",
       "  0.0     \n",
       "  0.0     \n",
       " -0.511456\n",
       "  6.57605 \n",
       "  0.364549"
      ]
     },
     "metadata": {},
     "output_type": "display_data"
    },
    {
     "name": "stdout",
     "output_type": "stream",
     "text": [
      "elapsed time: 1.16767452 seconds\n"
     ]
    },
    {
     "data": {
      "text/plain": [
       "6-element Array{Float64,1}:\n",
       "   3.63798e-12\n",
       "  -9.09495e-13\n",
       "  -7.27596e-12\n",
       "  -0.630234   \n",
       " 176.808      \n",
       "   9.24966    "
      ]
     },
     "metadata": {},
     "output_type": "display_data"
    },
    {
     "data": {
      "text/plain": [
       "6-element Array{Float64,1}:\n",
       "   3.63798e-12\n",
       "  -9.09495e-13\n",
       "  -7.27596e-12\n",
       "  -0.630234   \n",
       " 176.808      \n",
       "   9.24966    "
      ]
     },
     "metadata": {},
     "output_type": "display_data"
    },
    {
     "name": "stdout",
     "output_type": "stream",
     "text": [
      "elapsed time: 0.687368738 seconds\n"
     ]
    },
    {
     "data": {
      "text/plain": [
       "6-element Array{Float64,1}:\n",
       "   0.0        \n",
       "  -3.63798e-12\n",
       "   0.0        \n",
       " -24.1019     \n",
       " 196.872      \n",
       " -81.4876     "
      ]
     },
     "metadata": {},
     "output_type": "display_data"
    },
    {
     "data": {
      "text/plain": [
       "6-element Array{Float64,1}:\n",
       "   0.0        \n",
       "  -3.63798e-12\n",
       "   0.0        \n",
       " -24.1019     \n",
       " 196.872      \n",
       " -81.4876     "
      ]
     },
     "metadata": {},
     "output_type": "display_data"
    },
    {
     "name": "stdout",
     "output_type": "stream",
     "text": [
      "elapsed time: 1.060284821 seconds\n"
     ]
    },
    {
     "data": {
      "text/plain": [
       "6-element Array{Float64,1}:\n",
       "  0.0        \n",
       " -3.55271e-15\n",
       "  0.0        \n",
       " -0.154755   \n",
       "  1.19642    \n",
       "  0.0689531  "
      ]
     },
     "metadata": {},
     "output_type": "display_data"
    },
    {
     "data": {
      "text/plain": [
       "6-element Array{Float64,1}:\n",
       "  0.0        \n",
       " -3.55271e-15\n",
       "  0.0        \n",
       " -0.154755   \n",
       "  1.19642    \n",
       "  0.0689531  "
      ]
     },
     "metadata": {},
     "output_type": "display_data"
    },
    {
     "name": "stdout",
     "output_type": "stream",
     "text": [
      "elapsed time: 1.149628754 seconds\n"
     ]
    },
    {
     "data": {
      "text/plain": [
       "6-element Array{Float64,1}:\n",
       "  0.0        \n",
       " -2.84217e-14\n",
       "  3.55271e-15\n",
       "  0.996331   \n",
       " -0.0772908  \n",
       " -0.636528   "
      ]
     },
     "metadata": {},
     "output_type": "display_data"
    },
    {
     "data": {
      "text/plain": [
       "6-element Array{Float64,1}:\n",
       "  0.0        \n",
       " -2.84217e-14\n",
       "  3.55271e-15\n",
       "  0.996331   \n",
       " -0.0772908  \n",
       " -0.636528   "
      ]
     },
     "metadata": {},
     "output_type": "display_data"
    },
    {
     "name": "stdout",
     "output_type": "stream",
     "text": [
      "elapsed time: 0.694468732 seconds\n"
     ]
    },
    {
     "data": {
      "text/plain": [
       "6-element Array{Float64,1}:\n",
       "      0.0     \n",
       "      0.0     \n",
       "      0.0     \n",
       " -13678.0     \n",
       "  87967.2     \n",
       "     -3.2141e5"
      ]
     },
     "metadata": {},
     "output_type": "display_data"
    },
    {
     "data": {
      "text/plain": [
       "6-element Array{Float64,1}:\n",
       "      0.0     \n",
       "      0.0     \n",
       "      0.0     \n",
       " -13678.0     \n",
       "  87967.2     \n",
       "     -3.2141e5"
      ]
     },
     "metadata": {},
     "output_type": "display_data"
    },
    {
     "name": "stdout",
     "output_type": "stream",
     "text": [
      "elapsed time: 1.062735249 seconds\n"
     ]
    },
    {
     "data": {
      "text/plain": [
       "6-element Array{Float64,1}:\n",
       "    -5.82077e-11\n",
       "    -3.72529e-9 \n",
       "     1.16415e-10\n",
       "  1997.96       \n",
       " -2884.52       \n",
       " 48147.3        "
      ]
     },
     "metadata": {},
     "output_type": "display_data"
    },
    {
     "data": {
      "text/plain": [
       "6-element Array{Float64,1}:\n",
       "    -5.82077e-11\n",
       "    -3.72529e-9 \n",
       "     1.16415e-10\n",
       "  1997.96       \n",
       " -2884.52       \n",
       " 48147.3        "
      ]
     },
     "metadata": {},
     "output_type": "display_data"
    },
    {
     "name": "stdout",
     "output_type": "stream",
     "text": [
      "elapsed time: 1.05992191 seconds\n"
     ]
    },
    {
     "data": {
      "text/plain": [
       "6-element Array{Float64,1}:\n",
       "  -9.09495e-13\n",
       "  -2.27374e-13\n",
       "   0.0        \n",
       "   5.35029    \n",
       " -49.0447     \n",
       "   3.38376    "
      ]
     },
     "metadata": {},
     "output_type": "display_data"
    },
    {
     "data": {
      "text/plain": [
       "6-element Array{Float64,1}:\n",
       "  -9.09495e-13\n",
       "  -2.27374e-13\n",
       "   0.0        \n",
       "   5.35029    \n",
       " -49.0447     \n",
       "   3.38376    "
      ]
     },
     "metadata": {},
     "output_type": "display_data"
    },
    {
     "name": "stdout",
     "output_type": "stream",
     "text": [
      "elapsed time: 0.706266977 seconds\n"
     ]
    },
    {
     "data": {
      "text/plain": [
       "6-element Array{Float64,1}:\n",
       "    0.0        \n",
       "    5.82077e-11\n",
       "   -1.45519e-11\n",
       "  -34.2326     \n",
       "  204.509      \n",
       " -830.699      "
      ]
     },
     "metadata": {},
     "output_type": "display_data"
    },
    {
     "data": {
      "text/plain": [
       "6-element Array{Float64,1}:\n",
       "    0.0        \n",
       "    5.82077e-11\n",
       "   -1.45519e-11\n",
       "  -34.2326     \n",
       "  204.509      \n",
       " -830.699      "
      ]
     },
     "metadata": {},
     "output_type": "display_data"
    },
    {
     "name": "stdout",
     "output_type": "stream",
     "text": [
      "elapsed time: 0.82384524 seconds\n"
     ]
    },
    {
     "data": {
      "text/plain": [
       "6-element Array{Float64,1}:\n",
       "  9.09495e-13\n",
       "  1.7053e-13 \n",
       "  0.0        \n",
       " -4.25099    \n",
       " 52.7104     \n",
       "  2.81283    "
      ]
     },
     "metadata": {},
     "output_type": "display_data"
    },
    {
     "data": {
      "text/plain": [
       "6-element Array{Float64,1}:\n",
       "  9.09495e-13\n",
       "  1.7053e-13 \n",
       "  0.0        \n",
       " -4.25099    \n",
       " 52.7104     \n",
       "  2.81283    "
      ]
     },
     "metadata": {},
     "output_type": "display_data"
    },
    {
     "name": "stdout",
     "output_type": "stream",
     "text": [
      "elapsed time: 0.680229375 seconds\n"
     ]
    },
    {
     "data": {
      "text/plain": [
       "6-element Array{Float64,1}:\n",
       "     0.0        \n",
       "     3.63798e-12\n",
       "    -1.16415e-10\n",
       "    82.8432     \n",
       " -1836.14       \n",
       "   -94.3485     "
      ]
     },
     "metadata": {},
     "output_type": "display_data"
    },
    {
     "data": {
      "text/plain": [
       "6-element Array{Float64,1}:\n",
       "     0.0        \n",
       "     3.63798e-12\n",
       "    -1.16415e-10\n",
       "    82.8432     \n",
       " -1836.14       \n",
       "   -94.3485     "
      ]
     },
     "metadata": {},
     "output_type": "display_data"
    },
    {
     "name": "stdout",
     "output_type": "stream",
     "text": [
      "elapsed time: 1.063579061 seconds\n"
     ]
    },
    {
     "data": {
      "text/plain": [
       "6-element Array{Float64,1}:\n",
       "      5.82077e-11\n",
       "      4.65661e-10\n",
       "      1.16415e-10\n",
       "   -483.325      \n",
       "   2927.43       \n",
       " -11286.6        "
      ]
     },
     "metadata": {},
     "output_type": "display_data"
    },
    {
     "data": {
      "text/plain": [
       "6-element Array{Float64,1}:\n",
       "      5.82077e-11\n",
       "      4.65661e-10\n",
       "      1.16415e-10\n",
       "   -483.325      \n",
       "   2927.43       \n",
       " -11286.6        "
      ]
     },
     "metadata": {},
     "output_type": "display_data"
    },
    {
     "name": "stdout",
     "output_type": "stream",
     "text": [
      "elapsed time: 1.06222888 seconds\n"
     ]
    },
    {
     "data": {
      "text/plain": [
       "6-element Array{Float64,1}:\n",
       "    2.27374e-13\n",
       "   -2.91038e-11\n",
       "   -1.81899e-12\n",
       " -324.55       \n",
       "   10.0227     \n",
       " -516.849      "
      ]
     },
     "metadata": {},
     "output_type": "display_data"
    },
    {
     "data": {
      "text/plain": [
       "6-element Array{Float64,1}:\n",
       "    2.27374e-13\n",
       "   -2.91038e-11\n",
       "   -1.81899e-12\n",
       " -324.55       \n",
       "   10.0227     \n",
       " -516.849      "
      ]
     },
     "metadata": {},
     "output_type": "display_data"
    },
    {
     "name": "stdout",
     "output_type": "stream",
     "text": [
      "elapsed time: 0.681596113 seconds\n"
     ]
    },
    {
     "data": {
      "text/plain": [
       "6-element Array{Float64,1}:\n",
       "     0.0  \n",
       "     0.0  \n",
       "     0.0  \n",
       "  -105.361\n",
       "   181.583\n",
       " -1841.97 "
      ]
     },
     "metadata": {},
     "output_type": "display_data"
    },
    {
     "data": {
      "text/plain": [
       "6-element Array{Float64,1}:\n",
       "     0.0  \n",
       "     0.0  \n",
       "     0.0  \n",
       "  -105.361\n",
       "   181.583\n",
       " -1841.97 "
      ]
     },
     "metadata": {},
     "output_type": "display_data"
    },
    {
     "name": "stdout",
     "output_type": "stream",
     "text": [
      "elapsed time: 1.167615368 seconds\n"
     ]
    },
    {
     "data": {
      "text/plain": [
       "6-element Array{Float64,1}:\n",
       "   -1.45519e-11\n",
       "    0.0        \n",
       "    5.82077e-11\n",
       "   27.8963     \n",
       " -874.408      \n",
       "  626.576      "
      ]
     },
     "metadata": {},
     "output_type": "display_data"
    },
    {
     "data": {
      "text/plain": [
       "6-element Array{Float64,1}:\n",
       "   -1.45519e-11\n",
       "    0.0        \n",
       "    5.82077e-11\n",
       "   27.8963     \n",
       " -874.408      \n",
       "  626.576      "
      ]
     },
     "metadata": {},
     "output_type": "display_data"
    },
    {
     "name": "stdout",
     "output_type": "stream",
     "text": [
      "elapsed time: 0.699547277 seconds\n"
     ]
    },
    {
     "data": {
      "text/plain": [
       "6-element Array{Float64,1}:\n",
       "  1.13687e-13\n",
       "  1.42109e-14\n",
       "  4.54747e-13\n",
       " -0.115072   \n",
       "  6.2559     \n",
       "  0.344422   "
      ]
     },
     "metadata": {},
     "output_type": "display_data"
    },
    {
     "data": {
      "text/plain": [
       "6-element Array{Float64,1}:\n",
       "  1.13687e-13\n",
       "  1.42109e-14\n",
       "  4.54747e-13\n",
       " -0.115072   \n",
       "  6.2559     \n",
       "  0.344422   "
      ]
     },
     "metadata": {},
     "output_type": "display_data"
    },
    {
     "name": "stdout",
     "output_type": "stream",
     "text": [
      "elapsed time: 0.67052674 seconds\n"
     ]
    },
    {
     "data": {
      "text/plain": [
       "6-element Array{Float64,1}:\n",
       "    0.0        \n",
       "    0.0        \n",
       "   -4.65661e-10\n",
       "   35.4557     \n",
       " 8929.83       \n",
       " 1604.47       "
      ]
     },
     "metadata": {},
     "output_type": "display_data"
    },
    {
     "data": {
      "text/plain": [
       "6-element Array{Float64,1}:\n",
       "    0.0        \n",
       "    0.0        \n",
       "   -4.65661e-10\n",
       "   35.4557     \n",
       " 8929.83       \n",
       " 1604.47       "
      ]
     },
     "metadata": {},
     "output_type": "display_data"
    },
    {
     "name": "stdout",
     "output_type": "stream",
     "text": [
      "elapsed time: 1.106305438 seconds\n"
     ]
    },
    {
     "data": {
      "text/plain": [
       "6-element Array{Float64,1}:\n",
       "    0.0        \n",
       "    1.81899e-12\n",
       "    0.0        \n",
       "   11.5402     \n",
       " -678.115      \n",
       "  -32.3821     "
      ]
     },
     "metadata": {},
     "output_type": "display_data"
    },
    {
     "data": {
      "text/plain": [
       "6-element Array{Float64,1}:\n",
       "    0.0        \n",
       "    1.81899e-12\n",
       "    0.0        \n",
       "   11.5402     \n",
       " -678.115      \n",
       "  -32.3821     "
      ]
     },
     "metadata": {},
     "output_type": "display_data"
    },
    {
     "name": "stdout",
     "output_type": "stream",
     "text": [
      "elapsed time: 0.769559374 seconds\n"
     ]
    },
    {
     "data": {
      "text/plain": [
       "6-element Array{Float64,1}:\n",
       "   -1.45519e-11\n",
       "    1.81899e-12\n",
       "    0.0        \n",
       "   59.5723     \n",
       " -771.406      \n",
       "  -29.5543     "
      ]
     },
     "metadata": {},
     "output_type": "display_data"
    },
    {
     "data": {
      "text/plain": [
       "6-element Array{Float64,1}:\n",
       "   -1.45519e-11\n",
       "    1.81899e-12\n",
       "    0.0        \n",
       "   59.5723     \n",
       " -771.406      \n",
       "  -29.5543     "
      ]
     },
     "metadata": {},
     "output_type": "display_data"
    },
    {
     "name": "stdout",
     "output_type": "stream",
     "text": [
      "elapsed time: 1.342222479 seconds\n"
     ]
    },
    {
     "data": {
      "text/plain": [
       "6-element Array{Float64,1}:\n",
       "  1.90735e-6\n",
       "  0.0       \n",
       " -3.8147e-6 \n",
       " -4.64211e7 \n",
       " -7.29654e7 \n",
       " -1.1115e9  "
      ]
     },
     "metadata": {},
     "output_type": "display_data"
    },
    {
     "data": {
      "text/plain": [
       "6-element Array{Float64,1}:\n",
       "  1.90735e-6\n",
       "  0.0       \n",
       " -3.8147e-6 \n",
       " -4.64211e7 \n",
       " -7.29654e7 \n",
       " -1.1115e9  "
      ]
     },
     "metadata": {},
     "output_type": "display_data"
    },
    {
     "name": "stdout",
     "output_type": "stream",
     "text": [
      "elapsed time: 1.118966706 seconds\n"
     ]
    },
    {
     "data": {
      "text/plain": [
       "6-element Array{Float64,1}:\n",
       "   -1.45519e-11\n",
       "    1.81899e-12\n",
       "    0.0        \n",
       "   59.5723     \n",
       " -771.406      \n",
       "  -29.5543     "
      ]
     },
     "metadata": {},
     "output_type": "display_data"
    },
    {
     "data": {
      "text/plain": [
       "6-element Array{Float64,1}:\n",
       "   -1.45519e-11\n",
       "    1.81899e-12\n",
       "    0.0        \n",
       "   59.5723     \n",
       " -771.406      \n",
       "  -29.5543     "
      ]
     },
     "metadata": {},
     "output_type": "display_data"
    },
    {
     "name": "stdout",
     "output_type": "stream",
     "text": [
      "elapsed time: 1.080399776 seconds\n"
     ]
    },
    {
     "data": {
      "text/plain": [
       "6-element Array{Float64,1}:\n",
       "   0.0        \n",
       "   2.27374e-13\n",
       "   9.09495e-13\n",
       "   0.192113   \n",
       " -19.9734     \n",
       "   2.3665     "
      ]
     },
     "metadata": {},
     "output_type": "display_data"
    },
    {
     "data": {
      "text/plain": [
       "6-element Array{Float64,1}:\n",
       "   0.0        \n",
       "   2.27374e-13\n",
       "   9.09495e-13\n",
       "   0.192113   \n",
       " -19.9734     \n",
       "   2.3665     "
      ]
     },
     "metadata": {},
     "output_type": "display_data"
    },
    {
     "name": "stdout",
     "output_type": "stream",
     "text": [
      "elapsed time: 1.065794134 seconds\n"
     ]
    },
    {
     "data": {
      "text/plain": [
       "6-element Array{Float64,1}:\n",
       "  0.0        \n",
       "  1.42109e-14\n",
       "  0.0        \n",
       "  2.85082    \n",
       "  0.0741318  \n",
       " -1.09087    "
      ]
     },
     "metadata": {},
     "output_type": "display_data"
    },
    {
     "data": {
      "text/plain": [
       "6-element Array{Float64,1}:\n",
       "  0.0        \n",
       "  1.42109e-14\n",
       "  0.0        \n",
       "  2.85082    \n",
       "  0.0741318  \n",
       " -1.09087    "
      ]
     },
     "metadata": {},
     "output_type": "display_data"
    },
    {
     "name": "stdout",
     "output_type": "stream",
     "text": [
      "elapsed time: 0.68605323 seconds\n"
     ]
    },
    {
     "data": {
      "text/plain": [
       "6-element Array{Float64,1}:\n",
       "     0.0        \n",
       "    -5.82077e-11\n",
       "     0.0        \n",
       "   -63.2966     \n",
       "  4595.33       \n",
       " -1309.12       "
      ]
     },
     "metadata": {},
     "output_type": "display_data"
    },
    {
     "data": {
      "text/plain": [
       "6-element Array{Float64,1}:\n",
       "     0.0        \n",
       "    -5.82077e-11\n",
       "     0.0        \n",
       "   -63.2966     \n",
       "  4595.33       \n",
       " -1309.12       "
      ]
     },
     "metadata": {},
     "output_type": "display_data"
    },
    {
     "name": "stdout",
     "output_type": "stream",
     "text": [
      "elapsed time: 1.118507706 seconds\n"
     ]
    },
    {
     "data": {
      "text/plain": [
       "6-element Array{Float64,1}:\n",
       "   -9.09495e-13\n",
       "    5.82077e-11\n",
       "   -3.63798e-12\n",
       "   31.605      \n",
       "  -68.3072     \n",
       " 1396.03       "
      ]
     },
     "metadata": {},
     "output_type": "display_data"
    },
    {
     "data": {
      "text/plain": [
       "6-element Array{Float64,1}:\n",
       "   -9.09495e-13\n",
       "    5.82077e-11\n",
       "   -3.63798e-12\n",
       "   31.605      \n",
       "  -68.3072     \n",
       " 1396.03       "
      ]
     },
     "metadata": {},
     "output_type": "display_data"
    },
    {
     "name": "stdout",
     "output_type": "stream",
     "text": [
      "elapsed time: 0.686007413 seconds\n"
     ]
    },
    {
     "data": {
      "text/plain": [
       "6-element Array{Float64,1}:\n",
       "    0.0        \n",
       "    4.43379e-12\n",
       "   -2.91038e-11\n",
       "   82.7354     \n",
       " -599.066      \n",
       "  -30.6508     "
      ]
     },
     "metadata": {},
     "output_type": "display_data"
    },
    {
     "data": {
      "text/plain": [
       "6-element Array{Float64,1}:\n",
       "    0.0        \n",
       "    4.43379e-12\n",
       "   -2.91038e-11\n",
       "   82.7354     \n",
       " -599.066      \n",
       "  -30.6508     "
      ]
     },
     "metadata": {},
     "output_type": "display_data"
    },
    {
     "name": "stdout",
     "output_type": "stream",
     "text": [
      "elapsed time: 1.072287456 seconds\n"
     ]
    },
    {
     "data": {
      "text/plain": [
       "6-element Array{Float64,1}:\n",
       "  -1.81899e-12\n",
       "  -5.82077e-11\n",
       "  -3.63798e-12\n",
       "  14.9702     \n",
       " -85.8304     \n",
       " 506.335      "
      ]
     },
     "metadata": {},
     "output_type": "display_data"
    },
    {
     "data": {
      "text/plain": [
       "6-element Array{Float64,1}:\n",
       "  -1.81899e-12\n",
       "  -5.82077e-11\n",
       "  -3.63798e-12\n",
       "  14.9702     \n",
       " -85.8304     \n",
       " 506.335      "
      ]
     },
     "metadata": {},
     "output_type": "display_data"
    },
    {
     "name": "stdout",
     "output_type": "stream",
     "text": [
      "elapsed time: 1.077018804 seconds\n"
     ]
    },
    {
     "data": {
      "text/plain": [
       "6-element Array{Float64,1}:\n",
       "    0.0        \n",
       "    1.45519e-11\n",
       "    5.82077e-11\n",
       "  -30.21       \n",
       " 1063.11       \n",
       " -103.982      "
      ]
     },
     "metadata": {},
     "output_type": "display_data"
    },
    {
     "data": {
      "text/plain": [
       "6-element Array{Float64,1}:\n",
       "    0.0        \n",
       "    1.45519e-11\n",
       "    5.82077e-11\n",
       "  -30.21       \n",
       " 1063.11       \n",
       " -103.982      "
      ]
     },
     "metadata": {},
     "output_type": "display_data"
    },
    {
     "name": "stdout",
     "output_type": "stream",
     "text": [
      "elapsed time: 0.6907787 seconds\n"
     ]
    },
    {
     "data": {
      "text/plain": [
       "6-element Array{Float64,1}:\n",
       "    0.0        \n",
       "   -3.63798e-12\n",
       "    0.0        \n",
       "   19.7426     \n",
       " -299.931      \n",
       "   80.655      "
      ]
     },
     "metadata": {},
     "output_type": "display_data"
    },
    {
     "data": {
      "text/plain": [
       "6-element Array{Float64,1}:\n",
       "    0.0        \n",
       "   -3.63798e-12\n",
       "    0.0        \n",
       "   19.7426     \n",
       " -299.931      \n",
       "   80.655      "
      ]
     },
     "metadata": {},
     "output_type": "display_data"
    },
    {
     "name": "stdout",
     "output_type": "stream",
     "text": [
      "elapsed time: 1.154523227 seconds\n"
     ]
    },
    {
     "data": {
      "text/plain": [
       "6-element Array{Float64,1}:\n",
       "    -1.81899e-12\n",
       "     0.0        \n",
       "    -3.63798e-12\n",
       " -4648.79       \n",
       "   -75.969      \n",
       "   124.032      "
      ]
     },
     "metadata": {},
     "output_type": "display_data"
    },
    {
     "data": {
      "text/plain": [
       "6-element Array{Float64,1}:\n",
       "    -1.81899e-12\n",
       "     0.0        \n",
       "    -3.63798e-12\n",
       " -4648.79       \n",
       "   -75.969      \n",
       "   124.032      "
      ]
     },
     "metadata": {},
     "output_type": "display_data"
    },
    {
     "name": "stdout",
     "output_type": "stream",
     "text": [
      "elapsed time: 0.685072221 seconds\n"
     ]
    },
    {
     "data": {
      "text/plain": [
       "6-element Array{Float64,1}:\n",
       "  0.0        \n",
       "  1.77636e-15\n",
       "  5.68434e-14\n",
       " -0.129621   \n",
       "  0.729449   \n",
       "  0.0854349  "
      ]
     },
     "metadata": {},
     "output_type": "display_data"
    },
    {
     "data": {
      "text/plain": [
       "6-element Array{Float64,1}:\n",
       "  0.0        \n",
       "  1.77636e-15\n",
       "  5.68434e-14\n",
       " -0.129621   \n",
       "  0.729449   \n",
       "  0.0854349  "
      ]
     },
     "metadata": {},
     "output_type": "display_data"
    },
    {
     "name": "stdout",
     "output_type": "stream",
     "text": [
      "elapsed time: 0.690433936 seconds\n"
     ]
    },
    {
     "data": {
      "text/plain": [
       "6-element Array{Float64,1}:\n",
       " -1.42109e-14\n",
       "  4.9738e-14 \n",
       "  0.0        \n",
       "  1.67283    \n",
       "  0.354571   \n",
       " -0.712993   "
      ]
     },
     "metadata": {},
     "output_type": "display_data"
    },
    {
     "data": {
      "text/plain": [
       "6-element Array{Float64,1}:\n",
       " -1.42109e-14\n",
       "  4.9738e-14 \n",
       "  0.0        \n",
       "  1.67283    \n",
       "  0.354571   \n",
       " -0.712993   "
      ]
     },
     "metadata": {},
     "output_type": "display_data"
    },
    {
     "name": "stdout",
     "output_type": "stream",
     "text": [
      "elapsed time: 1.070617698 seconds\n"
     ]
    },
    {
     "data": {
      "text/plain": [
       "6-element Array{Float64,1}:\n",
       "   -2.27374e-12\n",
       "    2.91038e-11\n",
       "    1.81899e-12\n",
       "  -30.803      \n",
       "   -2.15265    \n",
       " -270.059      "
      ]
     },
     "metadata": {},
     "output_type": "display_data"
    },
    {
     "data": {
      "text/plain": [
       "6-element Array{Float64,1}:\n",
       "   -2.27374e-12\n",
       "    2.91038e-11\n",
       "    1.81899e-12\n",
       "  -30.803      \n",
       "   -2.15265    \n",
       " -270.059      "
      ]
     },
     "metadata": {},
     "output_type": "display_data"
    },
    {
     "name": "stdout",
     "output_type": "stream",
     "text": [
      "elapsed time: 0.688053966 seconds\n"
     ]
    },
    {
     "data": {
      "text/plain": [
       "6-element Array{Float64,1}:\n",
       "    0.0        \n",
       "    5.45697e-12\n",
       "    0.0        \n",
       "   96.3965     \n",
       " -567.734      \n",
       "  -42.8548     "
      ]
     },
     "metadata": {},
     "output_type": "display_data"
    },
    {
     "data": {
      "text/plain": [
       "6-element Array{Float64,1}:\n",
       "    0.0        \n",
       "    5.45697e-12\n",
       "    0.0        \n",
       "   96.3965     \n",
       " -567.734      \n",
       "  -42.8548     "
      ]
     },
     "metadata": {},
     "output_type": "display_data"
    },
    {
     "name": "stdout",
     "output_type": "stream",
     "text": [
      "elapsed time: 1.150268782 seconds\n"
     ]
    },
    {
     "data": {
      "text/plain": [
       "6-element Array{Float64,1}:\n",
       " -2.27374e-13\n",
       "  1.42109e-14\n",
       " -4.54747e-13\n",
       " -1.76163    \n",
       "  9.69483    \n",
       "  0.880489   "
      ]
     },
     "metadata": {},
     "output_type": "display_data"
    },
    {
     "data": {
      "text/plain": [
       "6-element Array{Float64,1}:\n",
       " -2.27374e-13\n",
       "  1.42109e-14\n",
       " -4.54747e-13\n",
       " -1.76163    \n",
       "  9.69483    \n",
       "  0.880489   "
      ]
     },
     "metadata": {},
     "output_type": "display_data"
    },
    {
     "name": "stdout",
     "output_type": "stream",
     "text": [
      "elapsed time: 0.68579863 seconds\n"
     ]
    },
    {
     "data": {
      "text/plain": [
       "6-element Array{Float64,1}:\n",
       "    -3.63798e-12\n",
       "     1.16415e-10\n",
       "     1.45519e-11\n",
       "  -214.251      \n",
       "   189.248      \n",
       " -1610.31       "
      ]
     },
     "metadata": {},
     "output_type": "display_data"
    },
    {
     "data": {
      "text/plain": [
       "6-element Array{Float64,1}:\n",
       "    -3.63798e-12\n",
       "     1.16415e-10\n",
       "     1.45519e-11\n",
       "  -214.251      \n",
       "   189.248      \n",
       " -1610.31       "
      ]
     },
     "metadata": {},
     "output_type": "display_data"
    },
    {
     "name": "stdout",
     "output_type": "stream",
     "text": [
      "elapsed time: 0.673055209 seconds\n"
     ]
    },
    {
     "data": {
      "text/plain": [
       "6-element Array{Float64,1}:\n",
       "     0.0 \n",
       "     0.0 \n",
       "     0.0 \n",
       "  1263.94\n",
       " -1062.4 \n",
       "  9582.77"
      ]
     },
     "metadata": {},
     "output_type": "display_data"
    },
    {
     "data": {
      "text/plain": [
       "6-element Array{Float64,1}:\n",
       "     0.0 \n",
       "     0.0 \n",
       "     0.0 \n",
       "  1263.94\n",
       " -1062.4 \n",
       "  9582.77"
      ]
     },
     "metadata": {},
     "output_type": "display_data"
    },
    {
     "name": "stdout",
     "output_type": "stream",
     "text": [
      "elapsed time: 1.064628248 seconds\n"
     ]
    },
    {
     "data": {
      "text/plain": [
       "6-element Array{Float64,1}:\n",
       "   -1.45519e-11\n",
       "    2.91038e-11\n",
       "    0.0        \n",
       "  100.609      \n",
       " -261.585      \n",
       "  508.01       "
      ]
     },
     "metadata": {},
     "output_type": "display_data"
    },
    {
     "data": {
      "text/plain": [
       "6-element Array{Float64,1}:\n",
       "   -1.45519e-11\n",
       "    2.91038e-11\n",
       "    0.0        \n",
       "  100.609      \n",
       " -261.585      \n",
       "  508.01       "
      ]
     },
     "metadata": {},
     "output_type": "display_data"
    },
    {
     "name": "stdout",
     "output_type": "stream",
     "text": [
      "elapsed time: 0.696526572 seconds\n"
     ]
    },
    {
     "data": {
      "text/plain": [
       "6-element Array{Float64,1}:\n",
       "   -2.18279e-11\n",
       "   -5.82077e-11\n",
       "   -2.91038e-11\n",
       " -147.041      \n",
       "  446.068      \n",
       " -650.772      "
      ]
     },
     "metadata": {},
     "output_type": "display_data"
    },
    {
     "data": {
      "text/plain": [
       "6-element Array{Float64,1}:\n",
       "   -2.18279e-11\n",
       "   -5.82077e-11\n",
       "   -2.91038e-11\n",
       " -147.041      \n",
       "  446.068      \n",
       " -650.772      "
      ]
     },
     "metadata": {},
     "output_type": "display_data"
    },
    {
     "name": "stdout",
     "output_type": "stream",
     "text": [
      "elapsed time: 1.150497785 seconds\n"
     ]
    },
    {
     "data": {
      "text/plain": [
       "6-element Array{Float64,1}:\n",
       "   -1.81899e-12\n",
       "    0.0        \n",
       "    7.27596e-12\n",
       " -167.684      \n",
       "   98.4236     \n",
       " -120.929      "
      ]
     },
     "metadata": {},
     "output_type": "display_data"
    },
    {
     "data": {
      "text/plain": [
       "6-element Array{Float64,1}:\n",
       "   -1.81899e-12\n",
       "    0.0        \n",
       "    7.27596e-12\n",
       " -167.684      \n",
       "   98.4236     \n",
       " -120.929      "
      ]
     },
     "metadata": {},
     "output_type": "display_data"
    },
    {
     "name": "stdout",
     "output_type": "stream",
     "text": [
      "elapsed time: 0.700649906 seconds\n"
     ]
    },
    {
     "data": {
      "text/plain": [
       "6-element Array{Float64,1}:\n",
       "      1.16415e-10\n",
       "      0.0        \n",
       "      0.0        \n",
       "  -5921.73       \n",
       "  -7761.02       \n",
       " -41220.1        "
      ]
     },
     "metadata": {},
     "output_type": "display_data"
    },
    {
     "data": {
      "text/plain": [
       "6-element Array{Float64,1}:\n",
       "      1.16415e-10\n",
       "      0.0        \n",
       "      0.0        \n",
       "  -5921.73       \n",
       "  -7761.02       \n",
       " -41220.1        "
      ]
     },
     "metadata": {},
     "output_type": "display_data"
    },
    {
     "name": "stdout",
     "output_type": "stream",
     "text": [
      "elapsed time: 1.074278108 seconds\n"
     ]
    },
    {
     "data": {
      "text/plain": [
       "6-element Array{Float64,1}:\n",
       "  -9.09495e-13\n",
       "   0.0        \n",
       "   3.63798e-12\n",
       "  13.1276     \n",
       " -52.4066     \n",
       "  42.075      "
      ]
     },
     "metadata": {},
     "output_type": "display_data"
    },
    {
     "data": {
      "text/plain": [
       "6-element Array{Float64,1}:\n",
       "  -9.09495e-13\n",
       "   0.0        \n",
       "   3.63798e-12\n",
       "  13.1276     \n",
       " -52.4066     \n",
       "  42.075      "
      ]
     },
     "metadata": {},
     "output_type": "display_data"
    },
    {
     "name": "stdout",
     "output_type": "stream",
     "text": [
      "elapsed time: 1.103164019 seconds\n"
     ]
    },
    {
     "data": {
      "text/plain": [
       "6-element Array{Float64,1}:\n",
       "     0.0        \n",
       "    -2.32831e-10\n",
       "     0.0        \n",
       "  -196.512      \n",
       " -1347.76       \n",
       " -1657.49       "
      ]
     },
     "metadata": {},
     "output_type": "display_data"
    },
    {
     "data": {
      "text/plain": [
       "6-element Array{Float64,1}:\n",
       "     0.0        \n",
       "    -2.32831e-10\n",
       "     0.0        \n",
       "  -196.512      \n",
       " -1347.76       \n",
       " -1657.49       "
      ]
     },
     "metadata": {},
     "output_type": "display_data"
    },
    {
     "name": "stdout",
     "output_type": "stream",
     "text": [
      "elapsed time: 1.07908971 seconds\n"
     ]
    },
    {
     "data": {
      "text/plain": [
       "6-element Array{Float64,1}:\n",
       "   9.09495e-13\n",
       "   4.54747e-13\n",
       "   0.0        \n",
       " -56.4811     \n",
       " -36.8283     \n",
       "   8.98292    "
      ]
     },
     "metadata": {},
     "output_type": "display_data"
    },
    {
     "data": {
      "text/plain": [
       "6-element Array{Float64,1}:\n",
       "   9.09495e-13\n",
       "   4.54747e-13\n",
       "   0.0        \n",
       " -56.4811     \n",
       " -36.8283     \n",
       "   8.98292    "
      ]
     },
     "metadata": {},
     "output_type": "display_data"
    },
    {
     "name": "stdout",
     "output_type": "stream",
     "text": [
      "elapsed time: 0.693207225 seconds\n"
     ]
    },
    {
     "data": {
      "text/plain": [
       "6-element Array{Float64,1}:\n",
       "    -1.16415e-10\n",
       "     0.0        \n",
       "    -4.65661e-10\n",
       "   711.913      \n",
       " -8219.83       \n",
       "   443.977      "
      ]
     },
     "metadata": {},
     "output_type": "display_data"
    },
    {
     "data": {
      "text/plain": [
       "6-element Array{Float64,1}:\n",
       "    -1.16415e-10\n",
       "     0.0        \n",
       "    -4.65661e-10\n",
       "   711.913      \n",
       " -8219.83       \n",
       "   443.977      "
      ]
     },
     "metadata": {},
     "output_type": "display_data"
    },
    {
     "name": "stdout",
     "output_type": "stream",
     "text": [
      "elapsed time: 1.086414189 seconds\n"
     ]
    },
    {
     "data": {
      "text/plain": [
       "6-element Array{Float64,1}:\n",
       " -5.68434e-14\n",
       "  9.09495e-13\n",
       "  0.0        \n",
       "  2.11934    \n",
       " -0.911922   \n",
       " 14.6088     "
      ]
     },
     "metadata": {},
     "output_type": "display_data"
    },
    {
     "data": {
      "text/plain": [
       "6-element Array{Float64,1}:\n",
       " -5.68434e-14\n",
       "  9.09495e-13\n",
       "  0.0        \n",
       "  2.11934    \n",
       " -0.911922   \n",
       " 14.6088     "
      ]
     },
     "metadata": {},
     "output_type": "display_data"
    },
    {
     "name": "stdout",
     "output_type": "stream",
     "text": [
      "elapsed time: 0.689187561 seconds\n"
     ]
    },
    {
     "data": {
      "text/plain": [
       "6-element Array{Float64,1}:\n",
       "    1.45519e-11\n",
       "    5.82077e-11\n",
       "    2.91038e-11\n",
       "  154.187      \n",
       " -471.35       \n",
       "  929.998      "
      ]
     },
     "metadata": {},
     "output_type": "display_data"
    },
    {
     "data": {
      "text/plain": [
       "6-element Array{Float64,1}:\n",
       "    1.45519e-11\n",
       "    5.82077e-11\n",
       "    2.91038e-11\n",
       "  154.187      \n",
       " -471.35       \n",
       "  929.998      "
      ]
     },
     "metadata": {},
     "output_type": "display_data"
    },
    {
     "name": "stdout",
     "output_type": "stream",
     "text": [
      "elapsed time: 1.197305241 seconds\n"
     ]
    },
    {
     "data": {
      "text/plain": [
       "6-element Array{Float64,1}:\n",
       "   -7.27596e-12\n",
       "    0.0        \n",
       "   -2.91038e-11\n",
       "   16.4613     \n",
       " -413.81       \n",
       "   10.8574     "
      ]
     },
     "metadata": {},
     "output_type": "display_data"
    },
    {
     "data": {
      "text/plain": [
       "6-element Array{Float64,1}:\n",
       "   -7.27596e-12\n",
       "    0.0        \n",
       "   -2.91038e-11\n",
       "   16.4613     \n",
       " -413.81       \n",
       "   10.8574     "
      ]
     },
     "metadata": {},
     "output_type": "display_data"
    },
    {
     "name": "stdout",
     "output_type": "stream",
     "text": [
      "elapsed time: 1.113228382 seconds\n"
     ]
    },
    {
     "data": {
      "text/plain": [
       "6-element Array{Float64,1}:\n",
       " -2.27374e-13\n",
       " -5.68434e-14\n",
       " -4.54747e-13\n",
       " -1.39301    \n",
       " 11.3601     \n",
       " -0.1827     "
      ]
     },
     "metadata": {},
     "output_type": "display_data"
    },
    {
     "data": {
      "text/plain": [
       "6-element Array{Float64,1}:\n",
       " -2.27374e-13\n",
       " -5.68434e-14\n",
       " -4.54747e-13\n",
       " -1.39301    \n",
       " 11.3601     \n",
       " -0.1827     "
      ]
     },
     "metadata": {},
     "output_type": "display_data"
    },
    {
     "name": "stdout",
     "output_type": "stream",
     "text": [
      "elapsed time: 0.706512439 seconds\n"
     ]
    },
    {
     "data": {
      "text/plain": [
       "6-element Array{Float64,1}:\n",
       "    2.91038e-11\n",
       "    0.0        \n",
       "    0.0        \n",
       " -278.412      \n",
       " 1751.32       \n",
       "  -25.0573     "
      ]
     },
     "metadata": {},
     "output_type": "display_data"
    },
    {
     "data": {
      "text/plain": [
       "6-element Array{Float64,1}:\n",
       "    2.91038e-11\n",
       "    0.0        \n",
       "    0.0        \n",
       " -278.412      \n",
       " 1751.32       \n",
       "  -25.0573     "
      ]
     },
     "metadata": {},
     "output_type": "display_data"
    },
    {
     "name": "stdout",
     "output_type": "stream",
     "text": [
      "elapsed time: 1.171059759 seconds\n"
     ]
    },
    {
     "data": {
      "text/plain": [
       "6-element Array{Float64,1}:\n",
       "   -1.16415e-10\n",
       "    1.45519e-11\n",
       "    0.0        \n",
       " -153.141      \n",
       " 4304.27       \n",
       "   34.8046     "
      ]
     },
     "metadata": {},
     "output_type": "display_data"
    },
    {
     "data": {
      "text/plain": [
       "6-element Array{Float64,1}:\n",
       "   -1.16415e-10\n",
       "    1.45519e-11\n",
       "    0.0        \n",
       " -153.141      \n",
       " 4304.27       \n",
       "   34.8046     "
      ]
     },
     "metadata": {},
     "output_type": "display_data"
    },
    {
     "name": "stdout",
     "output_type": "stream",
     "text": [
      "elapsed time: 0.69263349 seconds\n"
     ]
    },
    {
     "data": {
      "text/plain": [
       "6-element Array{Float64,1}:\n",
       "   -7.27596e-12\n",
       "    0.0        \n",
       "   -7.27596e-12\n",
       "  142.488      \n",
       " -137.617      \n",
       "  949.292      "
      ]
     },
     "metadata": {},
     "output_type": "display_data"
    },
    {
     "data": {
      "text/plain": [
       "6-element Array{Float64,1}:\n",
       "   -7.27596e-12\n",
       "    0.0        \n",
       "   -7.27596e-12\n",
       "  142.488      \n",
       " -137.617      \n",
       "  949.292      "
      ]
     },
     "metadata": {},
     "output_type": "display_data"
    },
    {
     "name": "stdout",
     "output_type": "stream",
     "text": [
      "elapsed time: 0.672781568 seconds\n"
     ]
    },
    {
     "data": {
      "text/plain": [
       "6-element Array{Float64,1}:\n",
       "     0.0   \n",
       "     0.0   \n",
       "     0.0   \n",
       "   -55.1424\n",
       " 10929.9   \n",
       "  2388.15  "
      ]
     },
     "metadata": {},
     "output_type": "display_data"
    },
    {
     "data": {
      "text/plain": [
       "6-element Array{Float64,1}:\n",
       "     0.0   \n",
       "     0.0   \n",
       "     0.0   \n",
       "   -55.1424\n",
       " 10929.9   \n",
       "  2388.15  "
      ]
     },
     "metadata": {},
     "output_type": "display_data"
    },
    {
     "name": "stdout",
     "output_type": "stream",
     "text": [
      "elapsed time: 1.07101593 seconds\n"
     ]
    },
    {
     "data": {
      "text/plain": [
       "6-element Array{Float64,1}:\n",
       "     0.0        \n",
       "    -2.91038e-11\n",
       "     0.0        \n",
       "    89.8263     \n",
       " -4992.04       \n",
       "  -573.449      "
      ]
     },
     "metadata": {},
     "output_type": "display_data"
    },
    {
     "data": {
      "text/plain": [
       "6-element Array{Float64,1}:\n",
       "     0.0        \n",
       "    -2.91038e-11\n",
       "     0.0        \n",
       "    89.8263     \n",
       " -4992.04       \n",
       "  -573.449      "
      ]
     },
     "metadata": {},
     "output_type": "display_data"
    },
    {
     "name": "stdout",
     "output_type": "stream",
     "text": [
      "elapsed time: 0.677439803 seconds\n"
     ]
    },
    {
     "data": {
      "text/plain": [
       "6-element Array{Float64,1}:\n",
       "  -7.27596e-12\n",
       "   0.0        \n",
       "  -2.91038e-11\n",
       " -34.5102     \n",
       " 425.883      \n",
       "  -9.32782    "
      ]
     },
     "metadata": {},
     "output_type": "display_data"
    },
    {
     "data": {
      "text/plain": [
       "6-element Array{Float64,1}:\n",
       "  -7.27596e-12\n",
       "   0.0        \n",
       "  -2.91038e-11\n",
       " -34.5102     \n",
       " 425.883      \n",
       "  -9.32782    "
      ]
     },
     "metadata": {},
     "output_type": "display_data"
    },
    {
     "name": "stdout",
     "output_type": "stream",
     "text": [
      "elapsed time: 1.184529414 seconds\n"
     ]
    },
    {
     "data": {
      "text/plain": [
       "6-element Array{Float64,1}:\n",
       "  4.54747e-13\n",
       " -4.54747e-13\n",
       "  1.81899e-12\n",
       "  1.66886    \n",
       " 33.4207     \n",
       "  4.26891    "
      ]
     },
     "metadata": {},
     "output_type": "display_data"
    },
    {
     "data": {
      "text/plain": [
       "6-element Array{Float64,1}:\n",
       "  4.54747e-13\n",
       " -4.54747e-13\n",
       "  1.81899e-12\n",
       "  1.66886    \n",
       " 33.4207     \n",
       "  4.26891    "
      ]
     },
     "metadata": {},
     "output_type": "display_data"
    },
    {
     "name": "stdout",
     "output_type": "stream",
     "text": [
      "elapsed time: 0.681212121 seconds\n"
     ]
    },
    {
     "data": {
      "text/plain": [
       "6-element Array{Float64,1}:\n",
       "  -7.27596e-12\n",
       "  -9.09495e-13\n",
       "  -2.91038e-11\n",
       " -13.2124     \n",
       " 330.695      \n",
       " -11.7303     "
      ]
     },
     "metadata": {},
     "output_type": "display_data"
    },
    {
     "data": {
      "text/plain": [
       "6-element Array{Float64,1}:\n",
       "  -7.27596e-12\n",
       "  -9.09495e-13\n",
       "  -2.91038e-11\n",
       " -13.2124     \n",
       " 330.695      \n",
       " -11.7303     "
      ]
     },
     "metadata": {},
     "output_type": "display_data"
    },
    {
     "name": "stdout",
     "output_type": "stream",
     "text": [
      "elapsed time: 0.693901906 seconds\n"
     ]
    },
    {
     "data": {
      "text/plain": [
       "6-element Array{Float64,1}:\n",
       "    -1.45519e-11\n",
       "     0.0        \n",
       "     0.0        \n",
       " -1442.09       \n",
       "   905.293      \n",
       " -9569.68       "
      ]
     },
     "metadata": {},
     "output_type": "display_data"
    },
    {
     "data": {
      "text/plain": [
       "6-element Array{Float64,1}:\n",
       "    -1.45519e-11\n",
       "     0.0        \n",
       "     0.0        \n",
       " -1442.09       \n",
       "   905.293      \n",
       " -9569.68       "
      ]
     },
     "metadata": {},
     "output_type": "display_data"
    },
    {
     "name": "stdout",
     "output_type": "stream",
     "text": [
      "elapsed time: 1.093753928 seconds\n"
     ]
    },
    {
     "data": {
      "text/plain": [
       "6-element Array{Float64,1}:\n",
       "   7.27596e-12\n",
       "  -3.63798e-12\n",
       "   0.0        \n",
       " -11.4806     \n",
       " 529.139      \n",
       "  56.4344     "
      ]
     },
     "metadata": {},
     "output_type": "display_data"
    },
    {
     "data": {
      "text/plain": [
       "6-element Array{Float64,1}:\n",
       "   7.27596e-12\n",
       "  -3.63798e-12\n",
       "   0.0        \n",
       " -11.4806     \n",
       " 529.139      \n",
       "  56.4344     "
      ]
     },
     "metadata": {},
     "output_type": "display_data"
    },
    {
     "name": "stdout",
     "output_type": "stream",
     "text": [
      "elapsed time: 0.69529303 seconds\n"
     ]
    },
    {
     "data": {
      "text/plain": [
       "6-element Array{Float64,1}:\n",
       "   -3.63798e-12\n",
       "    4.54747e-13\n",
       "    0.0        \n",
       "    6.93156    \n",
       " -149.783      \n",
       "    3.96269    "
      ]
     },
     "metadata": {},
     "output_type": "display_data"
    },
    {
     "data": {
      "text/plain": [
       "6-element Array{Float64,1}:\n",
       "   -3.63798e-12\n",
       "    4.54747e-13\n",
       "    0.0        \n",
       "    6.93156    \n",
       " -149.783      \n",
       "    3.96269    "
      ]
     },
     "metadata": {},
     "output_type": "display_data"
    },
    {
     "name": "stdout",
     "output_type": "stream",
     "text": [
      "elapsed time: 1.088354868 seconds\n"
     ]
    },
    {
     "data": {
      "text/plain": [
       "6-element Array{Float64,1}:\n",
       "  0.0      \n",
       "  0.0      \n",
       "  0.0      \n",
       "  0.126325 \n",
       " -0.45123  \n",
       " -0.0104696"
      ]
     },
     "metadata": {},
     "output_type": "display_data"
    },
    {
     "data": {
      "text/plain": [
       "6-element Array{Float64,1}:\n",
       "  0.0      \n",
       "  0.0      \n",
       "  0.0      \n",
       "  0.126325 \n",
       " -0.45123  \n",
       " -0.0104696"
      ]
     },
     "metadata": {},
     "output_type": "display_data"
    },
    {
     "name": "stdout",
     "output_type": "stream",
     "text": [
      "elapsed time: 1.097437862 seconds\n"
     ]
    },
    {
     "data": {
      "text/plain": [
       "6-element Array{Float64,1}:\n",
       "   0.0        \n",
       "  -2.27374e-13\n",
       "   0.0        \n",
       " -19.2694     \n",
       "  -4.67582    \n",
       "   2.98013    "
      ]
     },
     "metadata": {},
     "output_type": "display_data"
    },
    {
     "data": {
      "text/plain": [
       "6-element Array{Float64,1}:\n",
       "   0.0        \n",
       "  -2.27374e-13\n",
       "   0.0        \n",
       " -19.2694     \n",
       "  -4.67582    \n",
       "   2.98013    "
      ]
     },
     "metadata": {},
     "output_type": "display_data"
    },
    {
     "name": "stdout",
     "output_type": "stream",
     "text": [
      "elapsed time: 0.707542073 seconds\n"
     ]
    },
    {
     "data": {
      "text/plain": [
       "6-element Array{Float64,1}:\n",
       "    1.81899e-12\n",
       "   -1.45519e-11\n",
       "    0.0        \n",
       "   57.3706     \n",
       " -114.689      \n",
       "  226.136      "
      ]
     },
     "metadata": {},
     "output_type": "display_data"
    },
    {
     "data": {
      "text/plain": [
       "6-element Array{Float64,1}:\n",
       "    1.81899e-12\n",
       "   -1.45519e-11\n",
       "    0.0        \n",
       "   57.3706     \n",
       " -114.689      \n",
       "  226.136      "
      ]
     },
     "metadata": {},
     "output_type": "display_data"
    },
    {
     "name": "stdout",
     "output_type": "stream",
     "text": [
      "elapsed time: 1.084792488 seconds\n"
     ]
    },
    {
     "data": {
      "text/plain": [
       "6-element Array{Float64,1}:\n",
       "   0.0        \n",
       "   1.13687e-13\n",
       "   1.81899e-12\n",
       "   7.6546     \n",
       " -34.8685     \n",
       "   0.0129739  "
      ]
     },
     "metadata": {},
     "output_type": "display_data"
    },
    {
     "data": {
      "text/plain": [
       "6-element Array{Float64,1}:\n",
       "   0.0        \n",
       "   1.13687e-13\n",
       "   1.81899e-12\n",
       "   7.6546     \n",
       " -34.8685     \n",
       "   0.0129739  "
      ]
     },
     "metadata": {},
     "output_type": "display_data"
    },
    {
     "name": "stdout",
     "output_type": "stream",
     "text": [
      "elapsed time: 1.065070248 seconds\n"
     ]
    },
    {
     "data": {
      "text/plain": [
       "6-element Array{Float64,1}:\n",
       "   -1.45519e-11\n",
       "    2.32831e-10\n",
       "   -2.91038e-11\n",
       "  593.022      \n",
       "  614.706      \n",
       " 4705.63       "
      ]
     },
     "metadata": {},
     "output_type": "display_data"
    },
    {
     "data": {
      "text/plain": [
       "6-element Array{Float64,1}:\n",
       "   -1.45519e-11\n",
       "    2.32831e-10\n",
       "   -2.91038e-11\n",
       "  593.022      \n",
       "  614.706      \n",
       " 4705.63       "
      ]
     },
     "metadata": {},
     "output_type": "display_data"
    },
    {
     "name": "stdout",
     "output_type": "stream",
     "text": [
      "elapsed time: 0.737426942 seconds\n"
     ]
    },
    {
     "data": {
      "text/plain": [
       "6-element Array{Float64,1}:\n",
       "    0.0        \n",
       "    3.63798e-12\n",
       "    0.0        \n",
       "    8.52617    \n",
       " -106.676      \n",
       "   27.5793     "
      ]
     },
     "metadata": {},
     "output_type": "display_data"
    },
    {
     "data": {
      "text/plain": [
       "6-element Array{Float64,1}:\n",
       "    0.0        \n",
       "    3.63798e-12\n",
       "    0.0        \n",
       "    8.52617    \n",
       " -106.676      \n",
       "   27.5793     "
      ]
     },
     "metadata": {},
     "output_type": "display_data"
    },
    {
     "name": "stdout",
     "output_type": "stream",
     "text": [
      "elapsed time: 1.243924561 seconds\n"
     ]
    },
    {
     "data": {
      "text/plain": [
       "6-element Array{Float64,1}:\n",
       "     7.27596e-12\n",
       "     2.91038e-11\n",
       "     0.0        \n",
       " -1081.64       \n",
       "   399.912      \n",
       "  -135.892      "
      ]
     },
     "metadata": {},
     "output_type": "display_data"
    },
    {
     "data": {
      "text/plain": [
       "6-element Array{Float64,1}:\n",
       "     7.27596e-12\n",
       "     2.91038e-11\n",
       "     0.0        \n",
       " -1081.64       \n",
       "   399.912      \n",
       "  -135.892      "
      ]
     },
     "metadata": {},
     "output_type": "display_data"
    },
    {
     "name": "stdout",
     "output_type": "stream",
     "text": [
      "elapsed time: 0.737209051 seconds\n"
     ]
    },
    {
     "data": {
      "text/plain": [
       "6-element Array{Float64,1}:\n",
       "     1.45519e-11\n",
       "    -2.32831e-10\n",
       "     5.82077e-11\n",
       "  -734.136      \n",
       "   896.706      \n",
       " -4830.24       "
      ]
     },
     "metadata": {},
     "output_type": "display_data"
    },
    {
     "data": {
      "text/plain": [
       "6-element Array{Float64,1}:\n",
       "     1.45519e-11\n",
       "    -2.32831e-10\n",
       "     5.82077e-11\n",
       "  -734.136      \n",
       "   896.706      \n",
       " -4830.24       "
      ]
     },
     "metadata": {},
     "output_type": "display_data"
    },
    {
     "name": "stdout",
     "output_type": "stream",
     "text": [
      "elapsed time: 1.166604803 seconds\n"
     ]
    },
    {
     "data": {
      "text/plain": [
       "6-element Array{Float64,1}:\n",
       "      7.27596e-11\n",
       "      9.31323e-10\n",
       "      0.0        \n",
       "  -2558.32       \n",
       "   1073.77       \n",
       " -17043.2        "
      ]
     },
     "metadata": {},
     "output_type": "display_data"
    },
    {
     "data": {
      "text/plain": [
       "6-element Array{Float64,1}:\n",
       "      7.27596e-11\n",
       "      9.31323e-10\n",
       "      0.0        \n",
       "  -2558.32       \n",
       "   1073.77       \n",
       " -17043.2        "
      ]
     },
     "metadata": {},
     "output_type": "display_data"
    },
    {
     "name": "stdout",
     "output_type": "stream",
     "text": [
      "elapsed time: 1.189135117 seconds\n"
     ]
    },
    {
     "data": {
      "text/plain": [
       "6-element Array{Float64,1}:\n",
       "     0.0        \n",
       "     0.0        \n",
       "    -1.45519e-11\n",
       "  -177.144      \n",
       "   300.069      \n",
       " -1125.63       "
      ]
     },
     "metadata": {},
     "output_type": "display_data"
    },
    {
     "data": {
      "text/plain": [
       "6-element Array{Float64,1}:\n",
       "     0.0        \n",
       "     0.0        \n",
       "    -1.45519e-11\n",
       "  -177.144      \n",
       "   300.069      \n",
       " -1125.63       "
      ]
     },
     "metadata": {},
     "output_type": "display_data"
    },
    {
     "name": "stdout",
     "output_type": "stream",
     "text": [
      "elapsed time: 0.772701766 seconds\n"
     ]
    },
    {
     "data": {
      "text/plain": [
       "6-element Array{Float64,1}:\n",
       "  -3.63798e-12\n",
       "   0.0        \n",
       "   7.27596e-12\n",
       " -14.0268     \n",
       " 179.597      \n",
       " -33.5791     "
      ]
     },
     "metadata": {},
     "output_type": "display_data"
    },
    {
     "data": {
      "text/plain": [
       "6-element Array{Float64,1}:\n",
       "  -3.63798e-12\n",
       "   0.0        \n",
       "   7.27596e-12\n",
       " -14.0268     \n",
       " 179.597      \n",
       " -33.5791     "
      ]
     },
     "metadata": {},
     "output_type": "display_data"
    },
    {
     "name": "stdout",
     "output_type": "stream",
     "text": [
      "elapsed time: 1.305801783 seconds\n"
     ]
    },
    {
     "data": {
      "text/plain": [
       "6-element Array{Float64,1}:\n",
       "  -4.54747e-13\n",
       "   0.0        \n",
       "   9.09495e-13\n",
       "  55.6677     \n",
       " -18.028      \n",
       " 440.391      "
      ]
     },
     "metadata": {},
     "output_type": "display_data"
    },
    {
     "data": {
      "text/plain": [
       "6-element Array{Float64,1}:\n",
       "  -4.54747e-13\n",
       "   0.0        \n",
       "   9.09495e-13\n",
       "  55.6677     \n",
       " -18.028      \n",
       " 440.391      "
      ]
     },
     "metadata": {},
     "output_type": "display_data"
    },
    {
     "name": "stdout",
     "output_type": "stream",
     "text": [
      "elapsed time: 0.740106875 seconds\n"
     ]
    },
    {
     "data": {
      "text/plain": [
       "6-element Array{Float64,1}:\n",
       "   0.0        \n",
       "   1.81899e-12\n",
       "   2.91038e-11\n",
       " -20.7497     \n",
       " 566.889      \n",
       " -15.6289     "
      ]
     },
     "metadata": {},
     "output_type": "display_data"
    },
    {
     "data": {
      "text/plain": [
       "6-element Array{Float64,1}:\n",
       "   0.0        \n",
       "   1.81899e-12\n",
       "   2.91038e-11\n",
       " -20.7497     \n",
       " 566.889      \n",
       " -15.6289     "
      ]
     },
     "metadata": {},
     "output_type": "display_data"
    },
    {
     "name": "stdout",
     "output_type": "stream",
     "text": [
      "elapsed time: 1.137035806 seconds\n"
     ]
    },
    {
     "data": {
      "text/plain": [
       "6-element Array{Float64,1}:\n",
       " -2.84217e-14\n",
       " -2.22045e-16\n",
       "  0.0        \n",
       " -0.0266158  \n",
       "  0.67278    \n",
       "  0.00418803 "
      ]
     },
     "metadata": {},
     "output_type": "display_data"
    },
    {
     "data": {
      "text/plain": [
       "6-element Array{Float64,1}:\n",
       " -2.84217e-14\n",
       " -2.22045e-16\n",
       "  0.0        \n",
       " -0.0266158  \n",
       "  0.67278    \n",
       "  0.00418803 "
      ]
     },
     "metadata": {},
     "output_type": "display_data"
    },
    {
     "name": "stdout",
     "output_type": "stream",
     "text": [
      "elapsed time: 1.116607883 seconds\n"
     ]
    },
    {
     "data": {
      "text/plain": [
       "6-element Array{Float64,1}:\n",
       "    0.0        \n",
       "   -5.82077e-11\n",
       "    0.0        \n",
       "  198.653      \n",
       " -211.091      \n",
       " 1309.75       "
      ]
     },
     "metadata": {},
     "output_type": "display_data"
    },
    {
     "data": {
      "text/plain": [
       "6-element Array{Float64,1}:\n",
       "    0.0        \n",
       "   -5.82077e-11\n",
       "    0.0        \n",
       "  198.653      \n",
       " -211.091      \n",
       " 1309.75       "
      ]
     },
     "metadata": {},
     "output_type": "display_data"
    },
    {
     "name": "stdout",
     "output_type": "stream",
     "text": [
      "elapsed time: 0.73677235 seconds\n"
     ]
    },
    {
     "data": {
      "text/plain": [
       "6-element Array{Float64,1}:\n",
       "   0.0        \n",
       "   0.0        \n",
       "  -7.27596e-12\n",
       " 222.626      \n",
       "  94.2761     \n",
       " -32.8888     "
      ]
     },
     "metadata": {},
     "output_type": "display_data"
    },
    {
     "data": {
      "text/plain": [
       "6-element Array{Float64,1}:\n",
       "   0.0        \n",
       "   0.0        \n",
       "  -7.27596e-12\n",
       " 222.626      \n",
       "  94.2761     \n",
       " -32.8888     "
      ]
     },
     "metadata": {},
     "output_type": "display_data"
    },
    {
     "name": "stdout",
     "output_type": "stream",
     "text": [
      "elapsed time: 1.186001125 seconds\n"
     ]
    },
    {
     "data": {
      "text/plain": [
       "6-element Array{Float64,1}:\n",
       "    -4.65661e-10\n",
       "    -2.32831e-10\n",
       "    -9.31323e-10\n",
       "    32.9229     \n",
       " 18348.0        \n",
       "  3783.15       "
      ]
     },
     "metadata": {},
     "output_type": "display_data"
    },
    {
     "data": {
      "text/plain": [
       "6-element Array{Float64,1}:\n",
       "    -4.65661e-10\n",
       "    -2.32831e-10\n",
       "    -9.31323e-10\n",
       "    32.9229     \n",
       " 18348.0        \n",
       "  3783.15       "
      ]
     },
     "metadata": {},
     "output_type": "display_data"
    },
    {
     "name": "stdout",
     "output_type": "stream",
     "text": [
      "elapsed time: 0.699854048 seconds\n"
     ]
    },
    {
     "data": {
      "text/plain": [
       "6-element Array{Float64,1}:\n",
       "    -2.91038e-11\n",
       "     2.32831e-10\n",
       "     0.0        \n",
       "  -371.179      \n",
       " -1814.3        \n",
       " -2865.86       "
      ]
     },
     "metadata": {},
     "output_type": "display_data"
    },
    {
     "data": {
      "text/plain": [
       "6-element Array{Float64,1}:\n",
       "    -2.91038e-11\n",
       "     2.32831e-10\n",
       "     0.0        \n",
       "  -371.179      \n",
       " -1814.3        \n",
       " -2865.86       "
      ]
     },
     "metadata": {},
     "output_type": "display_data"
    },
    {
     "name": "stdout",
     "output_type": "stream",
     "text": [
      "elapsed time: 0.726296928 seconds\n"
     ]
    },
    {
     "data": {
      "text/plain": [
       "6-element Array{Float64,1}:\n",
       "   0.0        \n",
       "   0.0        \n",
       "   3.63798e-12\n",
       "   4.307      \n",
       " -55.6941     \n",
       "  -0.214326   "
      ]
     },
     "metadata": {},
     "output_type": "display_data"
    },
    {
     "data": {
      "text/plain": [
       "6-element Array{Float64,1}:\n",
       "   0.0        \n",
       "   0.0        \n",
       "   3.63798e-12\n",
       "   4.307      \n",
       " -55.6941     \n",
       "  -0.214326   "
      ]
     },
     "metadata": {},
     "output_type": "display_data"
    },
    {
     "name": "stdout",
     "output_type": "stream",
     "text": [
      "elapsed time: 1.148621971 seconds\n"
     ]
    },
    {
     "data": {
      "text/plain": [
       "6-element Array{Float64,1}:\n",
       "    -3.63798e-12\n",
       "     0.0        \n",
       "     1.45519e-11\n",
       "  -220.897      \n",
       "   237.845      \n",
       " -1455.0        "
      ]
     },
     "metadata": {},
     "output_type": "display_data"
    },
    {
     "data": {
      "text/plain": [
       "6-element Array{Float64,1}:\n",
       "    -3.63798e-12\n",
       "     0.0        \n",
       "     1.45519e-11\n",
       "  -220.897      \n",
       "   237.845      \n",
       " -1455.0        "
      ]
     },
     "metadata": {},
     "output_type": "display_data"
    },
    {
     "name": "stdout",
     "output_type": "stream",
     "text": [
      "elapsed time: 0.723877212 seconds\n"
     ]
    },
    {
     "data": {
      "text/plain": [
       "6-element Array{Float64,1}:\n",
       "     0.0        \n",
       "     4.65661e-10\n",
       "     5.82077e-11\n",
       "   867.672      \n",
       " -1169.54       \n",
       "  5670.6        "
      ]
     },
     "metadata": {},
     "output_type": "display_data"
    },
    {
     "data": {
      "text/plain": [
       "6-element Array{Float64,1}:\n",
       "     0.0        \n",
       "     4.65661e-10\n",
       "     5.82077e-11\n",
       "   867.672      \n",
       " -1169.54       \n",
       "  5670.6        "
      ]
     },
     "metadata": {},
     "output_type": "display_data"
    },
    {
     "name": "stdout",
     "output_type": "stream",
     "text": [
      "elapsed time: 0.798906142 seconds\n"
     ]
    },
    {
     "data": {
      "text/plain": [
       "6-element Array{Float64,1}:\n",
       " -1.42109e-14\n",
       " -1.13687e-13\n",
       "  5.68434e-14\n",
       "  5.94307    \n",
       "  1.05181    \n",
       " -4.75999    "
      ]
     },
     "metadata": {},
     "output_type": "display_data"
    },
    {
     "data": {
      "text/plain": [
       "6-element Array{Float64,1}:\n",
       " -1.42109e-14\n",
       " -1.13687e-13\n",
       "  5.68434e-14\n",
       "  5.94307    \n",
       "  1.05181    \n",
       " -4.75999    "
      ]
     },
     "metadata": {},
     "output_type": "display_data"
    },
    {
     "name": "stdout",
     "output_type": "stream",
     "text": [
      "elapsed time: 1.29133999 seconds\n"
     ]
    },
    {
     "data": {
      "text/plain": [
       "6-element Array{Float64,1}:\n",
       " -3.55271e-15\n",
       "  5.68434e-14\n",
       "  1.42109e-14\n",
       "  1.54322    \n",
       "  0.169641   \n",
       " -0.965144   "
      ]
     },
     "metadata": {},
     "output_type": "display_data"
    },
    {
     "data": {
      "text/plain": [
       "6-element Array{Float64,1}:\n",
       " -3.55271e-15\n",
       "  5.68434e-14\n",
       "  1.42109e-14\n",
       "  1.54322    \n",
       "  0.169641   \n",
       " -0.965144   "
      ]
     },
     "metadata": {},
     "output_type": "display_data"
    },
    {
     "name": "stdout",
     "output_type": "stream",
     "text": [
      "elapsed time: 1.160263538 seconds\n"
     ]
    },
    {
     "data": {
      "text/plain": [
       "6-element Array{Float64,1}:\n",
       "  0.0        \n",
       "  4.44089e-16\n",
       "  0.0        \n",
       " -0.00906161 \n",
       "  0.136012   \n",
       "  0.0145548  "
      ]
     },
     "metadata": {},
     "output_type": "display_data"
    },
    {
     "data": {
      "text/plain": [
       "6-element Array{Float64,1}:\n",
       "  0.0        \n",
       "  4.44089e-16\n",
       "  0.0        \n",
       " -0.00906161 \n",
       "  0.136012   \n",
       "  0.0145548  "
      ]
     },
     "metadata": {},
     "output_type": "display_data"
    },
    {
     "name": "stdout",
     "output_type": "stream",
     "text": [
      "elapsed time: 0.76288689 seconds\n"
     ]
    },
    {
     "data": {
      "text/plain": [
       "6-element Array{Float64,1}:\n",
       "   -7.27596e-12\n",
       "    1.81899e-12\n",
       "   -2.91038e-11\n",
       "   29.4957     \n",
       " -484.145      \n",
       "  -56.212      "
      ]
     },
     "metadata": {},
     "output_type": "display_data"
    },
    {
     "data": {
      "text/plain": [
       "6-element Array{Float64,1}:\n",
       "   -7.27596e-12\n",
       "    1.81899e-12\n",
       "   -2.91038e-11\n",
       "   29.4957     \n",
       " -484.145      \n",
       "  -56.212      "
      ]
     },
     "metadata": {},
     "output_type": "display_data"
    },
    {
     "name": "stdout",
     "output_type": "stream",
     "text": [
      "elapsed time: 1.218199516 seconds\n"
     ]
    },
    {
     "data": {
      "text/plain": [
       "6-element Array{Float64,1}:\n",
       "     0.0        \n",
       "     1.81899e-12\n",
       "    -1.16415e-10\n",
       "   203.16       \n",
       " -2717.81       \n",
       "   -24.8373     "
      ]
     },
     "metadata": {},
     "output_type": "display_data"
    },
    {
     "data": {
      "text/plain": [
       "6-element Array{Float64,1}:\n",
       "     0.0        \n",
       "     1.81899e-12\n",
       "    -1.16415e-10\n",
       "   203.16       \n",
       " -2717.81       \n",
       "   -24.8373     "
      ]
     },
     "metadata": {},
     "output_type": "display_data"
    },
    {
     "name": "stdout",
     "output_type": "stream",
     "text": [
      "elapsed time: 1.106276367 seconds\n"
     ]
    },
    {
     "data": {
      "text/plain": [
       "6-element Array{Float64,1}:\n",
       "   1.81899e-12\n",
       "   0.0        \n",
       "  -7.27596e-12\n",
       " -10.6707     \n",
       " 107.931      \n",
       " -14.0243     "
      ]
     },
     "metadata": {},
     "output_type": "display_data"
    },
    {
     "data": {
      "text/plain": [
       "6-element Array{Float64,1}:\n",
       "   1.81899e-12\n",
       "   0.0        \n",
       "  -7.27596e-12\n",
       " -10.6707     \n",
       " 107.931      \n",
       " -14.0243     "
      ]
     },
     "metadata": {},
     "output_type": "display_data"
    },
    {
     "name": "stdout",
     "output_type": "stream",
     "text": [
      "elapsed time: 0.723376112 seconds\n"
     ]
    },
    {
     "data": {
      "text/plain": [
       "6-element Array{Float64,1}:\n",
       "  7.10543e-15\n",
       "  1.42109e-14\n",
       "  0.0        \n",
       "  4.07071    \n",
       "  0.42628    \n",
       " -1.64058    "
      ]
     },
     "metadata": {},
     "output_type": "display_data"
    },
    {
     "data": {
      "text/plain": [
       "6-element Array{Float64,1}:\n",
       "  7.10543e-15\n",
       "  1.42109e-14\n",
       "  0.0        \n",
       "  4.07071    \n",
       "  0.42628    \n",
       " -1.64058    "
      ]
     },
     "metadata": {},
     "output_type": "display_data"
    },
    {
     "name": "stdout",
     "output_type": "stream",
     "text": [
      "elapsed time: 1.232860138 seconds\n"
     ]
    },
    {
     "data": {
      "text/plain": [
       "6-element Array{Float64,1}:\n",
       "     2.91038e-11\n",
       "    -1.16415e-10\n",
       "    -5.82077e-11\n",
       "  -384.677      \n",
       "  1342.63       \n",
       " -2408.94       "
      ]
     },
     "metadata": {},
     "output_type": "display_data"
    },
    {
     "data": {
      "text/plain": [
       "6-element Array{Float64,1}:\n",
       "     2.91038e-11\n",
       "    -1.16415e-10\n",
       "    -5.82077e-11\n",
       "  -384.677      \n",
       "  1342.63       \n",
       " -2408.94       "
      ]
     },
     "metadata": {},
     "output_type": "display_data"
    },
    {
     "name": "stdout",
     "output_type": "stream",
     "text": [
      "elapsed time: 0.795995123 seconds\n"
     ]
    },
    {
     "data": {
      "text/plain": [
       "6-element Array{Float64,1}:\n",
       "    0.0        \n",
       "    5.82077e-11\n",
       "    7.27596e-12\n",
       "  140.073      \n",
       " -171.066      \n",
       "  958.5        "
      ]
     },
     "metadata": {},
     "output_type": "display_data"
    },
    {
     "data": {
      "text/plain": [
       "6-element Array{Float64,1}:\n",
       "    0.0        \n",
       "    5.82077e-11\n",
       "    7.27596e-12\n",
       "  140.073      \n",
       " -171.066      \n",
       "  958.5        "
      ]
     },
     "metadata": {},
     "output_type": "display_data"
    },
    {
     "name": "stdout",
     "output_type": "stream",
     "text": [
      "elapsed time: 1.173301744 seconds\n"
     ]
    },
    {
     "data": {
      "text/plain": [
       "6-element Array{Float64,1}:\n",
       "      0.0        \n",
       "      1.45519e-11\n",
       "      0.0        \n",
       "   1215.42       \n",
       " -44774.7        \n",
       "   -150.785      "
      ]
     },
     "metadata": {},
     "output_type": "display_data"
    },
    {
     "data": {
      "text/plain": [
       "6-element Array{Float64,1}:\n",
       "      0.0        \n",
       "      1.45519e-11\n",
       "      0.0        \n",
       "   1215.42       \n",
       " -44774.7        \n",
       "   -150.785      "
      ]
     },
     "metadata": {},
     "output_type": "display_data"
    },
    {
     "name": "stdout",
     "output_type": "stream",
     "text": [
      "elapsed time: 1.152859974 seconds\n"
     ]
    },
    {
     "data": {
      "text/plain": [
       "6-element Array{Float64,1}:\n",
       "   0.0        \n",
       "  -3.63798e-12\n",
       "   7.27596e-12\n",
       " -16.3314     \n",
       " -97.7569     \n",
       " -88.3285     "
      ]
     },
     "metadata": {},
     "output_type": "display_data"
    },
    {
     "data": {
      "text/plain": [
       "6-element Array{Float64,1}:\n",
       "   0.0        \n",
       "  -3.63798e-12\n",
       "   7.27596e-12\n",
       " -16.3314     \n",
       " -97.7569     \n",
       " -88.3285     "
      ]
     },
     "metadata": {},
     "output_type": "display_data"
    },
    {
     "name": "stdout",
     "output_type": "stream",
     "text": [
      "elapsed time: 0.758748241 seconds\n"
     ]
    },
    {
     "data": {
      "text/plain": [
       "6-element Array{Float64,1}:\n",
       "   -5.45697e-12\n",
       "   -4.54747e-13\n",
       "    0.0        \n",
       "   17.0017     \n",
       " -122.224      \n",
       "    0.649348   "
      ]
     },
     "metadata": {},
     "output_type": "display_data"
    },
    {
     "data": {
      "text/plain": [
       "6-element Array{Float64,1}:\n",
       "   -5.45697e-12\n",
       "   -4.54747e-13\n",
       "    0.0        \n",
       "   17.0017     \n",
       " -122.224      \n",
       "    0.649348   "
      ]
     },
     "metadata": {},
     "output_type": "display_data"
    },
    {
     "name": "stdout",
     "output_type": "stream",
     "text": [
      "elapsed time: 0.825300271 seconds\n"
     ]
    },
    {
     "data": {
      "text/plain": [
       "6-element Array{Float64,1}:\n",
       "  0.0        \n",
       "  0.0        \n",
       " -1.81899e-12\n",
       " -0.868933   \n",
       " 33.2194     \n",
       " -0.0789646  "
      ]
     },
     "metadata": {},
     "output_type": "display_data"
    },
    {
     "data": {
      "text/plain": [
       "6-element Array{Float64,1}:\n",
       "  0.0        \n",
       "  0.0        \n",
       " -1.81899e-12\n",
       " -0.868933   \n",
       " 33.2194     \n",
       " -0.0789646  "
      ]
     },
     "metadata": {},
     "output_type": "display_data"
    },
    {
     "name": "stdout",
     "output_type": "stream",
     "text": [
      "elapsed time: 0.681250558 seconds\n"
     ]
    },
    {
     "data": {
      "text/plain": [
       "6-element Array{Float64,1}:\n",
       "   3.63798e-12\n",
       "   0.0        \n",
       "  -7.27596e-12\n",
       "  -4.22464    \n",
       " 157.917      \n",
       "  -0.347272   "
      ]
     },
     "metadata": {},
     "output_type": "display_data"
    },
    {
     "data": {
      "text/plain": [
       "6-element Array{Float64,1}:\n",
       "   3.63798e-12\n",
       "   0.0        \n",
       "  -7.27596e-12\n",
       "  -4.22464    \n",
       " 157.917      \n",
       "  -0.347272   "
      ]
     },
     "metadata": {},
     "output_type": "display_data"
    },
    {
     "name": "stdout",
     "output_type": "stream",
     "text": [
      "elapsed time: 1.078247737 seconds\n"
     ]
    },
    {
     "data": {
      "text/plain": [
       "6-element Array{Float64,1}:\n",
       "     5.82077e-11\n",
       "     4.65661e-10\n",
       "     1.16415e-10\n",
       " -1478.59       \n",
       "  2153.97       \n",
       " -9580.59       "
      ]
     },
     "metadata": {},
     "output_type": "display_data"
    },
    {
     "data": {
      "text/plain": [
       "6-element Array{Float64,1}:\n",
       "     5.82077e-11\n",
       "     4.65661e-10\n",
       "     1.16415e-10\n",
       " -1478.59       \n",
       "  2153.97       \n",
       " -9580.59       "
      ]
     },
     "metadata": {},
     "output_type": "display_data"
    },
    {
     "name": "stdout",
     "output_type": "stream",
     "text": [
      "elapsed time: 1.072724512 seconds\n"
     ]
    },
    {
     "data": {
      "text/plain": [
       "6-element Array{Float64,1}:\n",
       "  0.0        \n",
       " -4.44089e-16\n",
       "  0.0        \n",
       "  0.0257627  \n",
       " -0.332313   \n",
       " -0.00213852 "
      ]
     },
     "metadata": {},
     "output_type": "display_data"
    },
    {
     "data": {
      "text/plain": [
       "6-element Array{Float64,1}:\n",
       "  0.0        \n",
       " -4.44089e-16\n",
       "  0.0        \n",
       "  0.0257627  \n",
       " -0.332313   \n",
       " -0.00213852 "
      ]
     },
     "metadata": {},
     "output_type": "display_data"
    },
    {
     "name": "stdout",
     "output_type": "stream",
     "text": [
      "elapsed time: 0.686776621 seconds\n"
     ]
    },
    {
     "data": {
      "text/plain": [
       "6-element Array{Float64,1}:\n",
       "   -3.63798e-12\n",
       "   -2.91038e-11\n",
       "    0.0        \n",
       "  689.368      \n",
       "  140.691      \n",
       " -888.702      "
      ]
     },
     "metadata": {},
     "output_type": "display_data"
    },
    {
     "data": {
      "text/plain": [
       "6-element Array{Float64,1}:\n",
       "   -3.63798e-12\n",
       "   -2.91038e-11\n",
       "    0.0        \n",
       "  689.368      \n",
       "  140.691      \n",
       " -888.702      "
      ]
     },
     "metadata": {},
     "output_type": "display_data"
    },
    {
     "name": "stdout",
     "output_type": "stream",
     "text": [
      "elapsed time: 0.82809779 seconds\n"
     ]
    },
    {
     "data": {
      "text/plain": [
       "6-element Array{Float64,1}:\n",
       "     -7.27596e-11\n",
       "      0.0        \n",
       "      0.0        \n",
       "  -6705.17       \n",
       "   -501.653      \n",
       " -45903.1        "
      ]
     },
     "metadata": {},
     "output_type": "display_data"
    },
    {
     "data": {
      "text/plain": [
       "6-element Array{Float64,1}:\n",
       "     -7.27596e-11\n",
       "      0.0        \n",
       "      0.0        \n",
       "  -6705.17       \n",
       "   -501.653      \n",
       " -45903.1        "
      ]
     },
     "metadata": {},
     "output_type": "display_data"
    },
    {
     "name": "stdout",
     "output_type": "stream",
     "text": [
      "elapsed time: 0.69730234 seconds\n"
     ]
    },
    {
     "data": {
      "text/plain": [
       "6-element Array{Float64,1}:\n",
       "    0.0        \n",
       "    0.0        \n",
       "   -2.91038e-11\n",
       "  -39.4138     \n",
       "  636.171      \n",
       " -155.908      "
      ]
     },
     "metadata": {},
     "output_type": "display_data"
    },
    {
     "data": {
      "text/plain": [
       "6-element Array{Float64,1}:\n",
       "    0.0        \n",
       "    0.0        \n",
       "   -2.91038e-11\n",
       "  -39.4138     \n",
       "  636.171      \n",
       " -155.908      "
      ]
     },
     "metadata": {},
     "output_type": "display_data"
    },
    {
     "name": "stdout",
     "output_type": "stream",
     "text": [
      "elapsed time: 1.069961544 seconds\n"
     ]
    },
    {
     "data": {
      "text/plain": [
       "6-element Array{Float64,1}:\n",
       "   7.27596e-12\n",
       "   0.0        \n",
       "  -1.45519e-11\n",
       "  -9.72103    \n",
       " 354.762      \n",
       "  -1.49723    "
      ]
     },
     "metadata": {},
     "output_type": "display_data"
    },
    {
     "data": {
      "text/plain": [
       "6-element Array{Float64,1}:\n",
       "   7.27596e-12\n",
       "   0.0        \n",
       "  -1.45519e-11\n",
       "  -9.72103    \n",
       " 354.762      \n",
       "  -1.49723    "
      ]
     },
     "metadata": {},
     "output_type": "display_data"
    },
    {
     "name": "stdout",
     "output_type": "stream",
     "text": [
      "elapsed time: 1.069733793 seconds\n"
     ]
    },
    {
     "data": {
      "text/plain": [
       "6-element Array{Float64,1}:\n",
       "    -7.27596e-12\n",
       "    -1.16415e-10\n",
       "     1.45519e-11\n",
       "  -415.846      \n",
       "   230.922      \n",
       " -2814.52       "
      ]
     },
     "metadata": {},
     "output_type": "display_data"
    },
    {
     "data": {
      "text/plain": [
       "6-element Array{Float64,1}:\n",
       "    -7.27596e-12\n",
       "    -1.16415e-10\n",
       "     1.45519e-11\n",
       "  -415.846      \n",
       "   230.922      \n",
       " -2814.52       "
      ]
     },
     "metadata": {},
     "output_type": "display_data"
    },
    {
     "name": "stdout",
     "output_type": "stream",
     "text": [
      "elapsed time: 0.704695085 seconds\n"
     ]
    },
    {
     "data": {
      "text/plain": [
       "6-element Array{Float64,1}:\n",
       "    0.0        \n",
       "   -2.32831e-10\n",
       "   -2.91038e-11\n",
       "  445.887      \n",
       " -616.28       \n",
       " 2916.43       "
      ]
     },
     "metadata": {},
     "output_type": "display_data"
    },
    {
     "data": {
      "text/plain": [
       "6-element Array{Float64,1}:\n",
       "    0.0        \n",
       "   -2.32831e-10\n",
       "   -2.91038e-11\n",
       "  445.887      \n",
       " -616.28       \n",
       " 2916.43       "
      ]
     },
     "metadata": {},
     "output_type": "display_data"
    },
    {
     "name": "stdout",
     "output_type": "stream",
     "text": [
      "elapsed time: 1.157319644 seconds\n"
     ]
    },
    {
     "data": {
      "text/plain": [
       "6-element Array{Float64,1}:\n",
       "   1.81899e-12\n",
       "   0.0        \n",
       "   7.27596e-12\n",
       "  -6.1418     \n",
       " 112.998      \n",
       " -20.6243     "
      ]
     },
     "metadata": {},
     "output_type": "display_data"
    },
    {
     "data": {
      "text/plain": [
       "6-element Array{Float64,1}:\n",
       "   1.81899e-12\n",
       "   0.0        \n",
       "   7.27596e-12\n",
       "  -6.1418     \n",
       " 112.998      \n",
       " -20.6243     "
      ]
     },
     "metadata": {},
     "output_type": "display_data"
    },
    {
     "name": "stdout",
     "output_type": "stream",
     "text": [
      "elapsed time: 0.675071089 seconds\n"
     ]
    },
    {
     "data": {
      "text/plain": [
       "6-element Array{Float64,1}:\n",
       "   0.0        \n",
       "   4.54747e-13\n",
       "   0.0        \n",
       " -34.8534     \n",
       " 607.628      \n",
       "   2.16291    "
      ]
     },
     "metadata": {},
     "output_type": "display_data"
    },
    {
     "data": {
      "text/plain": [
       "6-element Array{Float64,1}:\n",
       "   0.0        \n",
       "   4.54747e-13\n",
       "   0.0        \n",
       " -34.8534     \n",
       " 607.628      \n",
       "   2.16291    "
      ]
     },
     "metadata": {},
     "output_type": "display_data"
    },
    {
     "name": "stdout",
     "output_type": "stream",
     "text": [
      "elapsed time: 0.672701424 seconds\n"
     ]
    },
    {
     "data": {
      "text/plain": [
       "6-element Array{Float64,1}:\n",
       " -1.13687e-13\n",
       " -7.10543e-15\n",
       "  2.27374e-13\n",
       " -0.359749   \n",
       "  5.3865     \n",
       "  0.0220424  "
      ]
     },
     "metadata": {},
     "output_type": "display_data"
    },
    {
     "data": {
      "text/plain": [
       "6-element Array{Float64,1}:\n",
       " -1.13687e-13\n",
       " -7.10543e-15\n",
       "  2.27374e-13\n",
       " -0.359749   \n",
       "  5.3865     \n",
       "  0.0220424  "
      ]
     },
     "metadata": {},
     "output_type": "display_data"
    },
    {
     "name": "stdout",
     "output_type": "stream",
     "text": [
      "elapsed time: 1.064865114 seconds\n"
     ]
    },
    {
     "data": {
      "text/plain": [
       "6-element Array{Float64,1}:\n",
       "  7.10543e-15\n",
       "  1.42109e-14\n",
       " -1.42109e-14\n",
       "  0.041271   \n",
       " -0.343373   \n",
       "  0.200119   "
      ]
     },
     "metadata": {},
     "output_type": "display_data"
    },
    {
     "data": {
      "text/plain": [
       "6-element Array{Float64,1}:\n",
       "  7.10543e-15\n",
       "  1.42109e-14\n",
       " -1.42109e-14\n",
       "  0.041271   \n",
       " -0.343373   \n",
       "  0.200119   "
      ]
     },
     "metadata": {},
     "output_type": "display_data"
    },
    {
     "name": "stdout",
     "output_type": "stream",
     "text": [
      "elapsed time: 0.694091328 seconds\n"
     ]
    },
    {
     "data": {
      "text/plain": [
       "6-element Array{Float64,1}:\n",
       "   -1.81899e-12\n",
       "    5.82077e-11\n",
       "   -7.27596e-12\n",
       "   82.1735     \n",
       " -130.783      \n",
       "  544.169      "
      ]
     },
     "metadata": {},
     "output_type": "display_data"
    },
    {
     "data": {
      "text/plain": [
       "6-element Array{Float64,1}:\n",
       "   -1.81899e-12\n",
       "    5.82077e-11\n",
       "   -7.27596e-12\n",
       "   82.1735     \n",
       " -130.783      \n",
       "  544.169      "
      ]
     },
     "metadata": {},
     "output_type": "display_data"
    },
    {
     "name": "stdout",
     "output_type": "stream",
     "text": [
      "elapsed time: 1.183263617 seconds\n"
     ]
    },
    {
     "data": {
      "text/plain": [
       "6-element Array{Float64,1}:\n",
       "  4.54747e-13\n",
       "  0.0        \n",
       "  0.0        \n",
       " -1.57741    \n",
       " 21.1065     \n",
       "  0.0747872  "
      ]
     },
     "metadata": {},
     "output_type": "display_data"
    },
    {
     "data": {
      "text/plain": [
       "6-element Array{Float64,1}:\n",
       "  4.54747e-13\n",
       "  0.0        \n",
       "  0.0        \n",
       " -1.57741    \n",
       " 21.1065     \n",
       "  0.0747872  "
      ]
     },
     "metadata": {},
     "output_type": "display_data"
    },
    {
     "name": "stdout",
     "output_type": "stream",
     "text": [
      "elapsed time: 0.686697087 seconds\n"
     ]
    },
    {
     "data": {
      "text/plain": [
       "6-element Array{Float64,1}:\n",
       "   -7.27596e-12\n",
       "    0.0        \n",
       "    2.91038e-11\n",
       "  110.115      \n",
       " -434.387      \n",
       "  684.65       "
      ]
     },
     "metadata": {},
     "output_type": "display_data"
    },
    {
     "data": {
      "text/plain": [
       "6-element Array{Float64,1}:\n",
       "   -7.27596e-12\n",
       "    0.0        \n",
       "    2.91038e-11\n",
       "  110.115      \n",
       " -434.387      \n",
       "  684.65       "
      ]
     },
     "metadata": {},
     "output_type": "display_data"
    },
    {
     "name": "stdout",
     "output_type": "stream",
     "text": [
      "elapsed time: 0.681126149 seconds\n"
     ]
    },
    {
     "data": {
      "text/plain": [
       "6-element Array{Float64,1}:\n",
       " -1.81899e-12\n",
       "  0.0        \n",
       " -3.63798e-12\n",
       " -6.29754    \n",
       " 76.9134     \n",
       "  0.463813   "
      ]
     },
     "metadata": {},
     "output_type": "display_data"
    },
    {
     "data": {
      "text/plain": [
       "6-element Array{Float64,1}:\n",
       " -1.81899e-12\n",
       "  0.0        \n",
       " -3.63798e-12\n",
       " -6.29754    \n",
       " 76.9134     \n",
       "  0.463813   "
      ]
     },
     "metadata": {},
     "output_type": "display_data"
    },
    {
     "name": "stdout",
     "output_type": "stream",
     "text": [
      "elapsed time: 1.26529241 seconds\n"
     ]
    },
    {
     "data": {
      "text/plain": [
       "6-element Array{Float64,1}:\n",
       "    0.0        \n",
       "   -1.13687e-13\n",
       "    7.27596e-12\n",
       "   16.7047     \n",
       " -121.441      \n",
       "   -4.96388    "
      ]
     },
     "metadata": {},
     "output_type": "display_data"
    },
    {
     "data": {
      "text/plain": [
       "6-element Array{Float64,1}:\n",
       "    0.0        \n",
       "   -1.13687e-13\n",
       "    7.27596e-12\n",
       "   16.7047     \n",
       " -121.441      \n",
       "   -4.96388    "
      ]
     },
     "metadata": {},
     "output_type": "display_data"
    },
    {
     "name": "stdout",
     "output_type": "stream",
     "text": [
      "elapsed time: 1.255821395 seconds\n"
     ]
    },
    {
     "data": {
      "text/plain": [
       "6-element Array{Float64,1}:\n",
       "    0.0        \n",
       "   -2.91038e-11\n",
       "    0.0        \n",
       "  -61.2838     \n",
       "   -8.51705    \n",
       " -458.995      "
      ]
     },
     "metadata": {},
     "output_type": "display_data"
    },
    {
     "data": {
      "text/plain": [
       "6-element Array{Float64,1}:\n",
       "    0.0        \n",
       "   -2.91038e-11\n",
       "    0.0        \n",
       "  -61.2838     \n",
       "   -8.51705    \n",
       " -458.995      "
      ]
     },
     "metadata": {},
     "output_type": "display_data"
    },
    {
     "name": "stdout",
     "output_type": "stream",
     "text": [
      "elapsed time: 0.706515205 seconds\n"
     ]
    },
    {
     "data": {
      "text/plain": [
       "6-element Array{Float64,1}:\n",
       "    0.0  \n",
       "    0.0  \n",
       "    0.0  \n",
       "  957.512\n",
       "  383.796\n",
       " 1513.86 "
      ]
     },
     "metadata": {},
     "output_type": "display_data"
    },
    {
     "data": {
      "text/plain": [
       "6-element Array{Float64,1}:\n",
       "    0.0  \n",
       "    0.0  \n",
       "    0.0  \n",
       "  957.512\n",
       "  383.796\n",
       " 1513.86 "
      ]
     },
     "metadata": {},
     "output_type": "display_data"
    },
    {
     "name": "stdout",
     "output_type": "stream",
     "text": [
      "elapsed time: 1.11922317 seconds\n"
     ]
    },
    {
     "data": {
      "text/plain": [
       "6-element Array{Float64,1}:\n",
       "   0.0        \n",
       "  -3.63798e-12\n",
       "  -1.81899e-12\n",
       "   7.21831    \n",
       " -28.2141     \n",
       "  43.7947     "
      ]
     },
     "metadata": {},
     "output_type": "display_data"
    },
    {
     "data": {
      "text/plain": [
       "6-element Array{Float64,1}:\n",
       "   0.0        \n",
       "  -3.63798e-12\n",
       "  -1.81899e-12\n",
       "   7.21831    \n",
       " -28.2141     \n",
       "  43.7947     "
      ]
     },
     "metadata": {},
     "output_type": "display_data"
    },
    {
     "name": "stdout",
     "output_type": "stream",
     "text": [
      "elapsed time: 0.704239988 seconds\n"
     ]
    },
    {
     "data": {
      "text/plain": [
       "6-element Array{Float64,1}:\n",
       "     1.74623e-10\n",
       "     3.72529e-9 \n",
       "     0.0        \n",
       " 10810.2        \n",
       "  2752.88       \n",
       " 75469.5        "
      ]
     },
     "metadata": {},
     "output_type": "display_data"
    },
    {
     "data": {
      "text/plain": [
       "6-element Array{Float64,1}:\n",
       "     1.74623e-10\n",
       "     3.72529e-9 \n",
       "     0.0        \n",
       " 10810.2        \n",
       "  2752.88       \n",
       " 75469.5        "
      ]
     },
     "metadata": {},
     "output_type": "display_data"
    },
    {
     "name": "stdout",
     "output_type": "stream",
     "text": [
      "elapsed time: 1.064120773 seconds\n"
     ]
    },
    {
     "data": {
      "text/plain": [
       "6-element Array{Float64,1}:\n",
       "    0.0        \n",
       "   -1.13687e-13\n",
       "   -7.27596e-12\n",
       "   -7.26989    \n",
       " -108.254      \n",
       "    0.382084   "
      ]
     },
     "metadata": {},
     "output_type": "display_data"
    },
    {
     "data": {
      "text/plain": [
       "6-element Array{Float64,1}:\n",
       "    0.0        \n",
       "   -1.13687e-13\n",
       "   -7.27596e-12\n",
       "   -7.26989    \n",
       " -108.254      \n",
       "    0.382084   "
      ]
     },
     "metadata": {},
     "output_type": "display_data"
    },
    {
     "name": "stdout",
     "output_type": "stream",
     "text": [
      "elapsed time: 1.073104824 seconds\n"
     ]
    },
    {
     "data": {
      "text/plain": [
       "6-element Array{Float64,1}:\n",
       "  0.0        \n",
       "  0.0        \n",
       "  1.81899e-12\n",
       " -2.64242    \n",
       " 34.9655     \n",
       " -6.16338    "
      ]
     },
     "metadata": {},
     "output_type": "display_data"
    },
    {
     "data": {
      "text/plain": [
       "6-element Array{Float64,1}:\n",
       "  0.0        \n",
       "  0.0        \n",
       "  1.81899e-12\n",
       " -2.64242    \n",
       " 34.9655     \n",
       " -6.16338    "
      ]
     },
     "metadata": {},
     "output_type": "display_data"
    },
    {
     "name": "stdout",
     "output_type": "stream",
     "text": [
      "elapsed time: 1.070765263 seconds\n"
     ]
    },
    {
     "data": {
      "text/plain": [
       "6-element Array{Float64,1}:\n",
       "    -1.16415e-10\n",
       "     0.0        \n",
       "     0.0        \n",
       "  1900.81       \n",
       " -2451.29       \n",
       " 12709.0        "
      ]
     },
     "metadata": {},
     "output_type": "display_data"
    },
    {
     "data": {
      "text/plain": [
       "6-element Array{Float64,1}:\n",
       "    -1.16415e-10\n",
       "     0.0        \n",
       "     0.0        \n",
       "  1900.81       \n",
       " -2451.29       \n",
       " 12709.0        "
      ]
     },
     "metadata": {},
     "output_type": "display_data"
    },
    {
     "name": "stdout",
     "output_type": "stream",
     "text": [
      "elapsed time: 0.681296146 seconds\n"
     ]
    },
    {
     "data": {
      "text/plain": [
       "6-element Array{Float64,1}:\n",
       "   7.27596e-12\n",
       "   9.09495e-13\n",
       "   2.91038e-11\n",
       " -44.25       \n",
       " 547.178      \n",
       "  -0.0457994  "
      ]
     },
     "metadata": {},
     "output_type": "display_data"
    },
    {
     "data": {
      "text/plain": [
       "6-element Array{Float64,1}:\n",
       "   7.27596e-12\n",
       "   9.09495e-13\n",
       "   2.91038e-11\n",
       " -44.25       \n",
       " 547.178      \n",
       "  -0.0457994  "
      ]
     },
     "metadata": {},
     "output_type": "display_data"
    },
    {
     "name": "stdout",
     "output_type": "stream",
     "text": [
      "elapsed time: 1.099040146 seconds\n"
     ]
    },
    {
     "data": {
      "text/plain": [
       "6-element Array{Float64,1}:\n",
       "  5.68434e-14\n",
       "  0.0        \n",
       "  0.0        \n",
       " -0.227469   \n",
       "  4.0841     \n",
       "  0.610813   "
      ]
     },
     "metadata": {},
     "output_type": "display_data"
    },
    {
     "data": {
      "text/plain": [
       "6-element Array{Float64,1}:\n",
       "  5.68434e-14\n",
       "  0.0        \n",
       "  0.0        \n",
       " -0.227469   \n",
       "  4.0841     \n",
       "  0.610813   "
      ]
     },
     "metadata": {},
     "output_type": "display_data"
    },
    {
     "name": "stdout",
     "output_type": "stream",
     "text": [
      "elapsed time: 0.679287267 seconds\n"
     ]
    },
    {
     "data": {
      "text/plain": [
       "6-element Array{Float64,1}:\n",
       "  -1.13687e-13\n",
       "   0.0        \n",
       "  -2.27374e-13\n",
       " -34.5558     \n",
       "   4.75831    \n",
       "  21.9855     "
      ]
     },
     "metadata": {},
     "output_type": "display_data"
    },
    {
     "data": {
      "text/plain": [
       "6-element Array{Float64,1}:\n",
       "  -1.13687e-13\n",
       "   0.0        \n",
       "  -2.27374e-13\n",
       " -34.5558     \n",
       "   4.75831    \n",
       "  21.9855     "
      ]
     },
     "metadata": {},
     "output_type": "display_data"
    },
    {
     "name": "stdout",
     "output_type": "stream",
     "text": [
      "elapsed time: 0.696073349 seconds\n"
     ]
    },
    {
     "data": {
      "text/plain": [
       "6-element Array{Float64,1}:\n",
       "     0.0        \n",
       "     0.0        \n",
       "     2.91038e-11\n",
       " -2317.03       \n",
       "  -243.268      \n",
       "  2644.96       "
      ]
     },
     "metadata": {},
     "output_type": "display_data"
    },
    {
     "data": {
      "text/plain": [
       "6-element Array{Float64,1}:\n",
       "     0.0        \n",
       "     0.0        \n",
       "     2.91038e-11\n",
       " -2317.03       \n",
       "  -243.268      \n",
       "  2644.96       "
      ]
     },
     "metadata": {},
     "output_type": "display_data"
    },
    {
     "name": "stdout",
     "output_type": "stream",
     "text": [
      "elapsed time: 1.093072004 seconds\n"
     ]
    },
    {
     "data": {
      "text/plain": [
       "6-element Array{Float64,1}:\n",
       "     1.81899e-12\n",
       "    -1.16415e-10\n",
       "     0.0        \n",
       "  -252.87       \n",
       "    82.5772     \n",
       " -1867.05       "
      ]
     },
     "metadata": {},
     "output_type": "display_data"
    },
    {
     "data": {
      "text/plain": [
       "6-element Array{Float64,1}:\n",
       "     1.81899e-12\n",
       "    -1.16415e-10\n",
       "     0.0        \n",
       "  -252.87       \n",
       "    82.5772     \n",
       " -1867.05       "
      ]
     },
     "metadata": {},
     "output_type": "display_data"
    },
    {
     "name": "stdout",
     "output_type": "stream",
     "text": [
      "elapsed time: 0.711129967 seconds\n"
     ]
    },
    {
     "data": {
      "text/plain": [
       "6-element Array{Float64,1}:\n",
       "    0.0  \n",
       "    0.0  \n",
       "    0.0  \n",
       "  344.082\n",
       "  538.995\n",
       " 2488.19 "
      ]
     },
     "metadata": {},
     "output_type": "display_data"
    },
    {
     "data": {
      "text/plain": [
       "6-element Array{Float64,1}:\n",
       "    0.0  \n",
       "    0.0  \n",
       "    0.0  \n",
       "  344.082\n",
       "  538.995\n",
       " 2488.19 "
      ]
     },
     "metadata": {},
     "output_type": "display_data"
    },
    {
     "name": "stdout",
     "output_type": "stream",
     "text": [
      "elapsed time: 1.081112984 seconds\n"
     ]
    },
    {
     "data": {
      "text/plain": [
       "6-element Array{Float64,1}:\n",
       "      0.0        \n",
       "      0.0        \n",
       "     -2.32831e-10\n",
       "  -1567.65       \n",
       "  -2899.28       \n",
       " -11416.2        "
      ]
     },
     "metadata": {},
     "output_type": "display_data"
    },
    {
     "data": {
      "text/plain": [
       "6-element Array{Float64,1}:\n",
       "      0.0        \n",
       "      0.0        \n",
       "     -2.32831e-10\n",
       "  -1567.65       \n",
       "  -2899.28       \n",
       " -11416.2        "
      ]
     },
     "metadata": {},
     "output_type": "display_data"
    },
    {
     "name": "stdout",
     "output_type": "stream",
     "text": [
      "elapsed time: 1.066641691 seconds\n"
     ]
    },
    {
     "data": {
      "text/plain": [
       "6-element Array{Float64,1}:\n",
       " -1.42109e-14\n",
       "  0.0        \n",
       " -2.84217e-14\n",
       " -0.0140651  \n",
       "  0.566826   \n",
       " -0.000884745"
      ]
     },
     "metadata": {},
     "output_type": "display_data"
    },
    {
     "data": {
      "text/plain": [
       "6-element Array{Float64,1}:\n",
       " -1.42109e-14\n",
       "  0.0        \n",
       " -2.84217e-14\n",
       " -0.0140651  \n",
       "  0.566826   \n",
       " -0.000884745"
      ]
     },
     "metadata": {},
     "output_type": "display_data"
    },
    {
     "name": "stdout",
     "output_type": "stream",
     "text": [
      "elapsed time: 0.688996216 seconds\n"
     ]
    },
    {
     "data": {
      "text/plain": [
       "6-element Array{Float64,1}:\n",
       "    -5.82077e-11\n",
       "    -1.45519e-11\n",
       "     0.0        \n",
       "    88.2591     \n",
       " -2265.25       \n",
       "   173.12       "
      ]
     },
     "metadata": {},
     "output_type": "display_data"
    },
    {
     "data": {
      "text/plain": [
       "6-element Array{Float64,1}:\n",
       "    -5.82077e-11\n",
       "    -1.45519e-11\n",
       "     0.0        \n",
       "    88.2591     \n",
       " -2265.25       \n",
       "   173.12       "
      ]
     },
     "metadata": {},
     "output_type": "display_data"
    },
    {
     "name": "stdout",
     "output_type": "stream",
     "text": [
      "elapsed time: 1.157250725 seconds\n"
     ]
    },
    {
     "data": {
      "text/plain": [
       "6-element Array{Float64,1}:\n",
       "  0.0        \n",
       "  0.0        \n",
       " -1.81899e-12\n",
       " -0.852837   \n",
       " 35.2514     \n",
       " -0.0266018  "
      ]
     },
     "metadata": {},
     "output_type": "display_data"
    },
    {
     "data": {
      "text/plain": [
       "6-element Array{Float64,1}:\n",
       "  0.0        \n",
       "  0.0        \n",
       " -1.81899e-12\n",
       " -0.852837   \n",
       " 35.2514     \n",
       " -0.0266018  "
      ]
     },
     "metadata": {},
     "output_type": "display_data"
    },
    {
     "name": "stdout",
     "output_type": "stream",
     "text": [
      "elapsed time: 0.684275877 seconds\n"
     ]
    },
    {
     "data": {
      "text/plain": [
       "6-element Array{Float64,1}:\n",
       "     0.0   \n",
       "     0.0   \n",
       "     0.0   \n",
       "   437.955 \n",
       " -3293.81  \n",
       "   -47.6004"
      ]
     },
     "metadata": {},
     "output_type": "display_data"
    },
    {
     "data": {
      "text/plain": [
       "6-element Array{Float64,1}:\n",
       "     0.0   \n",
       "     0.0   \n",
       "     0.0   \n",
       "   437.955 \n",
       " -3293.81  \n",
       "   -47.6004"
      ]
     },
     "metadata": {},
     "output_type": "display_data"
    },
    {
     "name": "stdout",
     "output_type": "stream",
     "text": [
      "elapsed time: 0.678553226 seconds\n"
     ]
    },
    {
     "data": {
      "text/plain": [
       "6-element Array{Float64,1}:\n",
       "   4.54747e-13\n",
       "   0.0        \n",
       "  -1.81899e-12\n",
       "  26.0233     \n",
       " -28.9319     \n",
       " 153.968      "
      ]
     },
     "metadata": {},
     "output_type": "display_data"
    },
    {
     "data": {
      "text/plain": [
       "6-element Array{Float64,1}:\n",
       "   4.54747e-13\n",
       "   0.0        \n",
       "  -1.81899e-12\n",
       "  26.0233     \n",
       " -28.9319     \n",
       " 153.968      "
      ]
     },
     "metadata": {},
     "output_type": "display_data"
    },
    {
     "name": "stdout",
     "output_type": "stream",
     "text": [
      "elapsed time: 1.082827823 seconds\n"
     ]
    },
    {
     "data": {
      "text/plain": [
       "6-element Array{Float64,1}:\n",
       "   3.63798e-12\n",
       "   0.0        \n",
       "   0.0        \n",
       " -21.3707     \n",
       " 167.536      \n",
       "   2.29139    "
      ]
     },
     "metadata": {},
     "output_type": "display_data"
    },
    {
     "data": {
      "text/plain": [
       "6-element Array{Float64,1}:\n",
       "   3.63798e-12\n",
       "   0.0        \n",
       "   0.0        \n",
       " -21.3707     \n",
       " 167.536      \n",
       "   2.29139    "
      ]
     },
     "metadata": {},
     "output_type": "display_data"
    },
    {
     "name": "stdout",
     "output_type": "stream",
     "text": [
      "elapsed time: 0.677947144 seconds\n"
     ]
    },
    {
     "data": {
      "text/plain": [
       "6-element Array{Float64,1}:\n",
       "  0.0        \n",
       "  0.0        \n",
       "  4.54747e-13\n",
       " -0.186806   \n",
       "  4.93055    \n",
       " -0.197854   "
      ]
     },
     "metadata": {},
     "output_type": "display_data"
    },
    {
     "data": {
      "text/plain": [
       "6-element Array{Float64,1}:\n",
       "  0.0        \n",
       "  0.0        \n",
       "  4.54747e-13\n",
       " -0.186806   \n",
       "  4.93055    \n",
       " -0.197854   "
      ]
     },
     "metadata": {},
     "output_type": "display_data"
    },
    {
     "name": "stdout",
     "output_type": "stream",
     "text": [
      "elapsed time: 1.080972763 seconds\n"
     ]
    },
    {
     "data": {
      "text/plain": [
       "6-element Array{Float64,1}:\n",
       "   -1.7053e-13\n",
       "    0.0       \n",
       "    0.0       \n",
       "   -8.99545   \n",
       "   -0.00960068\n",
       " -101.999     "
      ]
     },
     "metadata": {},
     "output_type": "display_data"
    },
    {
     "data": {
      "text/plain": [
       "6-element Array{Float64,1}:\n",
       "   -1.7053e-13\n",
       "    0.0       \n",
       "    0.0       \n",
       "   -8.99545   \n",
       "   -0.00960068\n",
       " -101.999     "
      ]
     },
     "metadata": {},
     "output_type": "display_data"
    },
    {
     "name": "stdout",
     "output_type": "stream",
     "text": [
      "elapsed time: 1.083554389 seconds\n"
     ]
    },
    {
     "data": {
      "text/plain": [
       "6-element Array{Float64,1}:\n",
       "     0.0        \n",
       "     7.27596e-12\n",
       "     0.0        \n",
       "   504.325      \n",
       " -8722.53       \n",
       "   -32.7325     "
      ]
     },
     "metadata": {},
     "output_type": "display_data"
    },
    {
     "data": {
      "text/plain": [
       "6-element Array{Float64,1}:\n",
       "     0.0        \n",
       "     7.27596e-12\n",
       "     0.0        \n",
       "   504.325      \n",
       " -8722.53       \n",
       "   -32.7325     "
      ]
     },
     "metadata": {},
     "output_type": "display_data"
    },
    {
     "name": "stdout",
     "output_type": "stream",
     "text": [
      "elapsed time: 0.751055927 seconds\n"
     ]
    },
    {
     "data": {
      "text/plain": [
       "6-element Array{Float64,1}:\n",
       "   1.81899e-12\n",
       "   0.0        \n",
       "   0.0        \n",
       " -11.059      \n",
       "  88.8031     \n",
       "  -0.306424   "
      ]
     },
     "metadata": {},
     "output_type": "display_data"
    },
    {
     "data": {
      "text/plain": [
       "6-element Array{Float64,1}:\n",
       "   1.81899e-12\n",
       "   0.0        \n",
       "   0.0        \n",
       " -11.059      \n",
       "  88.8031     \n",
       "  -0.306424   "
      ]
     },
     "metadata": {},
     "output_type": "display_data"
    },
    {
     "name": "stdout",
     "output_type": "stream",
     "text": [
      "elapsed time: 0.830675565 seconds\n"
     ]
    },
    {
     "data": {
      "text/plain": [
       "6-element Array{Float64,1}:\n",
       "   -3.63798e-12\n",
       "    0.0        \n",
       "    0.0        \n",
       "  218.015      \n",
       "  156.632      \n",
       " -897.736      "
      ]
     },
     "metadata": {},
     "output_type": "display_data"
    },
    {
     "data": {
      "text/plain": [
       "6-element Array{Float64,1}:\n",
       "   -3.63798e-12\n",
       "    0.0        \n",
       "    0.0        \n",
       "  218.015      \n",
       "  156.632      \n",
       " -897.736      "
      ]
     },
     "metadata": {},
     "output_type": "display_data"
    },
    {
     "name": "stdout",
     "output_type": "stream",
     "text": [
      "elapsed time: 0.73421765 seconds\n"
     ]
    },
    {
     "data": {
      "text/plain": [
       "6-element Array{Float64,1}:\n",
       "    0.0        \n",
       "    0.0        \n",
       "    1.45519e-11\n",
       "   62.053      \n",
       " -187.549      \n",
       "  173.438      "
      ]
     },
     "metadata": {},
     "output_type": "display_data"
    },
    {
     "data": {
      "text/plain": [
       "6-element Array{Float64,1}:\n",
       "    0.0        \n",
       "    0.0        \n",
       "    1.45519e-11\n",
       "   62.053      \n",
       " -187.549      \n",
       "  173.438      "
      ]
     },
     "metadata": {},
     "output_type": "display_data"
    },
    {
     "name": "stdout",
     "output_type": "stream",
     "text": [
      "elapsed time: 1.082238054 seconds\n"
     ]
    },
    {
     "data": {
      "text/plain": [
       "6-element Array{Float64,1}:\n",
       "   0.0        \n",
       "   0.0        \n",
       "  -9.09495e-13\n",
       "   2.76132    \n",
       " -19.8727     \n",
       "  -0.11975    "
      ]
     },
     "metadata": {},
     "output_type": "display_data"
    },
    {
     "data": {
      "text/plain": [
       "6-element Array{Float64,1}:\n",
       "   0.0        \n",
       "   0.0        \n",
       "  -9.09495e-13\n",
       "   2.76132    \n",
       " -19.8727     \n",
       "  -0.11975    "
      ]
     },
     "metadata": {},
     "output_type": "display_data"
    },
    {
     "name": "stdout",
     "output_type": "stream",
     "text": [
      "elapsed time: 1.140929019 seconds\n"
     ]
    },
    {
     "data": {
      "text/plain": [
       "6-element Array{Float64,1}:\n",
       "  3.55271e-15\n",
       "  5.68434e-14\n",
       "  0.0        \n",
       "  1.95837    \n",
       "  0.192512   \n",
       " -1.31357    "
      ]
     },
     "metadata": {},
     "output_type": "display_data"
    },
    {
     "data": {
      "text/plain": [
       "6-element Array{Float64,1}:\n",
       "  3.55271e-15\n",
       "  5.68434e-14\n",
       "  0.0        \n",
       "  1.95837    \n",
       "  0.192512   \n",
       " -1.31357    "
      ]
     },
     "metadata": {},
     "output_type": "display_data"
    },
    {
     "name": "stdout",
     "output_type": "stream",
     "text": [
      "elapsed time: 0.684973027 seconds\n"
     ]
    },
    {
     "data": {
      "text/plain": [
       "6-element Array{Float64,1}:\n",
       "  9.09495e-13\n",
       "  2.84217e-14\n",
       "  3.63798e-12\n",
       " -1.34382    \n",
       " 50.5016     \n",
       " -0.0517853  "
      ]
     },
     "metadata": {},
     "output_type": "display_data"
    },
    {
     "data": {
      "text/plain": [
       "6-element Array{Float64,1}:\n",
       "  9.09495e-13\n",
       "  2.84217e-14\n",
       "  3.63798e-12\n",
       " -1.34382    \n",
       " 50.5016     \n",
       " -0.0517853  "
      ]
     },
     "metadata": {},
     "output_type": "display_data"
    },
    {
     "name": "stdout",
     "output_type": "stream",
     "text": [
      "elapsed time: 0.826791218 seconds\n"
     ]
    },
    {
     "data": {
      "text/plain": [
       "6-element Array{Float64,1}:\n",
       "  3.55271e-15\n",
       "  5.68434e-14\n",
       "  0.0        \n",
       "  1.95837    \n",
       "  0.192512   \n",
       " -1.31357    "
      ]
     },
     "metadata": {},
     "output_type": "display_data"
    },
    {
     "data": {
      "text/plain": [
       "6-element Array{Float64,1}:\n",
       "  3.55271e-15\n",
       "  5.68434e-14\n",
       "  0.0        \n",
       "  1.95837    \n",
       "  0.192512   \n",
       " -1.31357    "
      ]
     },
     "metadata": {},
     "output_type": "display_data"
    },
    {
     "name": "stdout",
     "output_type": "stream",
     "text": [
      "elapsed time: 0.698983463 seconds\n"
     ]
    },
    {
     "data": {
      "text/plain": [
       "6-element Array{Float64,1}:\n",
       "    1.81899e-12\n",
       "   -2.91038e-11\n",
       "    0.0        \n",
       "  -82.8019     \n",
       "  106.078      \n",
       " -506.953      "
      ]
     },
     "metadata": {},
     "output_type": "display_data"
    },
    {
     "data": {
      "text/plain": [
       "6-element Array{Float64,1}:\n",
       "    1.81899e-12\n",
       "   -2.91038e-11\n",
       "    0.0        \n",
       "  -82.8019     \n",
       "  106.078      \n",
       " -506.953      "
      ]
     },
     "metadata": {},
     "output_type": "display_data"
    },
    {
     "name": "stdout",
     "output_type": "stream",
     "text": [
      "elapsed time: 1.067773133 seconds\n"
     ]
    },
    {
     "data": {
      "text/plain": [
       "6-element Array{Float64,1}:\n",
       "  3.55271e-15\n",
       "  5.68434e-14\n",
       "  0.0        \n",
       "  1.95837    \n",
       "  0.192512   \n",
       " -1.31357    "
      ]
     },
     "metadata": {},
     "output_type": "display_data"
    },
    {
     "data": {
      "text/plain": [
       "6-element Array{Float64,1}:\n",
       "  3.55271e-15\n",
       "  5.68434e-14\n",
       "  0.0        \n",
       "  1.95837    \n",
       "  0.192512   \n",
       " -1.31357    "
      ]
     },
     "metadata": {},
     "output_type": "display_data"
    },
    {
     "name": "stdout",
     "output_type": "stream",
     "text": [
      "elapsed time: 1.135286119 seconds\n"
     ]
    },
    {
     "data": {
      "text/plain": [
       "6-element Array{Float64,1}:\n",
       " -3.55271e-15\n",
       "  2.84217e-14\n",
       " -1.42109e-14\n",
       "  1.76203    \n",
       "  0.178769   \n",
       " -1.18361    "
      ]
     },
     "metadata": {},
     "output_type": "display_data"
    },
    {
     "data": {
      "text/plain": [
       "6-element Array{Float64,1}:\n",
       " -3.55271e-15\n",
       "  2.84217e-14\n",
       " -1.42109e-14\n",
       "  1.76203    \n",
       "  0.178769   \n",
       " -1.18361    "
      ]
     },
     "metadata": {},
     "output_type": "display_data"
    },
    {
     "name": "stdout",
     "output_type": "stream",
     "text": [
      "elapsed time: 0.725102436 seconds\n",
      "Restoration_Failed\n"
     ]
    },
    {
     "data": {
      "text/plain": [
       "6-element Array{Float64,1}:\n",
       " -3.55271e-15\n",
       "  2.84217e-14\n",
       " -1.42109e-14\n",
       "  1.76203    \n",
       "  0.178769   \n",
       " -1.18361    "
      ]
     },
     "metadata": {},
     "output_type": "display_data"
    },
    {
     "data": {
      "text/plain": [
       "6-element Array{Float64,1}:\n",
       " -3.55271e-15\n",
       "  2.84217e-14\n",
       " -1.42109e-14\n",
       "  1.76203    \n",
       "  0.178769   \n",
       " -1.18361    "
      ]
     },
     "metadata": {},
     "output_type": "display_data"
    },
    {
     "name": "stdout",
     "output_type": "stream",
     "text": [
      "elapsed time: 1.100743979 seconds\n"
     ]
    },
    {
     "data": {
      "text/plain": [
       "6-element Array{Float64,1}:\n",
       "  0.0        \n",
       "  0.0        \n",
       "  1.42109e-14\n",
       "  1.76231    \n",
       "  0.177936   \n",
       " -1.18332    "
      ]
     },
     "metadata": {},
     "output_type": "display_data"
    },
    {
     "data": {
      "text/plain": [
       "6-element Array{Float64,1}:\n",
       "  0.0        \n",
       "  0.0        \n",
       "  1.42109e-14\n",
       "  1.76231    \n",
       "  0.177936   \n",
       " -1.18332    "
      ]
     },
     "metadata": {},
     "output_type": "display_data"
    },
    {
     "name": "stdout",
     "output_type": "stream",
     "text": [
      "elapsed time: 1.076379105 seconds\n"
     ]
    },
    {
     "data": {
      "text/plain": [
       "6-element Array{Float64,1}:\n",
       "  7.10543e-15\n",
       "  0.0        \n",
       "  0.0        \n",
       "  1.76231    \n",
       "  0.177936   \n",
       " -1.18332    "
      ]
     },
     "metadata": {},
     "output_type": "display_data"
    },
    {
     "data": {
      "text/plain": [
       "6-element Array{Float64,1}:\n",
       "  7.10543e-15\n",
       "  0.0        \n",
       "  0.0        \n",
       "  1.76231    \n",
       "  0.177936   \n",
       " -1.18332    "
      ]
     },
     "metadata": {},
     "output_type": "display_data"
    },
    {
     "name": "stdout",
     "output_type": "stream",
     "text": [
      "elapsed time: 0.70726438 seconds\n"
     ]
    },
    {
     "data": {
      "text/plain": [
       "6-element Array{Float64,1}:\n",
       "  0.0        \n",
       "  5.68434e-14\n",
       "  1.42109e-14\n",
       "  1.76231    \n",
       "  0.177936   \n",
       " -1.18332    "
      ]
     },
     "metadata": {},
     "output_type": "display_data"
    },
    {
     "data": {
      "text/plain": [
       "6-element Array{Float64,1}:\n",
       "  0.0        \n",
       "  5.68434e-14\n",
       "  1.42109e-14\n",
       "  1.76231    \n",
       "  0.177936   \n",
       " -1.18332    "
      ]
     },
     "metadata": {},
     "output_type": "display_data"
    },
    {
     "name": "stdout",
     "output_type": "stream",
     "text": [
      "elapsed time: 1.145554851 seconds\n"
     ]
    },
    {
     "data": {
      "text/plain": [
       "6-element Array{Float64,1}:\n",
       "  7.10543e-15\n",
       "  0.0        \n",
       " -1.42109e-14\n",
       "  1.76231    \n",
       "  0.177936   \n",
       " -1.18332    "
      ]
     },
     "metadata": {},
     "output_type": "display_data"
    },
    {
     "data": {
      "text/plain": [
       "6-element Array{Float64,1}:\n",
       "  7.10543e-15\n",
       "  0.0        \n",
       " -1.42109e-14\n",
       "  1.76231    \n",
       "  0.177936   \n",
       " -1.18332    "
      ]
     },
     "metadata": {},
     "output_type": "display_data"
    },
    {
     "name": "stdout",
     "output_type": "stream",
     "text": [
      "elapsed time: 0.68394724 seconds\n"
     ]
    },
    {
     "data": {
      "text/plain": [
       "6-element Array{Float64,1}:\n",
       "  0.0        \n",
       "  5.68434e-14\n",
       "  1.42109e-14\n",
       "  1.76231    \n",
       "  0.177936   \n",
       " -1.18332    "
      ]
     },
     "metadata": {},
     "output_type": "display_data"
    },
    {
     "data": {
      "text/plain": [
       "6-element Array{Float64,1}:\n",
       "  0.0        \n",
       "  5.68434e-14\n",
       "  1.42109e-14\n",
       "  1.76231    \n",
       "  0.177936   \n",
       " -1.18332    "
      ]
     },
     "metadata": {},
     "output_type": "display_data"
    },
    {
     "name": "stdout",
     "output_type": "stream",
     "text": [
      "elapsed time: 0.679422677 seconds\n"
     ]
    },
    {
     "data": {
      "text/plain": [
       "6-element Array{Float64,1}:\n",
       "  7.10543e-15\n",
       " -1.13687e-13\n",
       "  0.0        \n",
       "  1.76231    \n",
       "  0.177936   \n",
       " -1.18332    "
      ]
     },
     "metadata": {},
     "output_type": "display_data"
    },
    {
     "data": {
      "text/plain": [
       "6-element Array{Float64,1}:\n",
       "  7.10543e-15\n",
       " -1.13687e-13\n",
       "  0.0        \n",
       "  1.76231    \n",
       "  0.177936   \n",
       " -1.18332    "
      ]
     },
     "metadata": {},
     "output_type": "display_data"
    },
    {
     "name": "stdout",
     "output_type": "stream",
     "text": [
      "elapsed time: 1.125440659 seconds\n"
     ]
    },
    {
     "data": {
      "text/plain": [
       "6-element Array{Float64,1}:\n",
       "  0.0        \n",
       "  0.0        \n",
       " -1.42109e-14\n",
       "  1.58608    \n",
       "  0.160143   \n",
       " -1.06499    "
      ]
     },
     "metadata": {},
     "output_type": "display_data"
    },
    {
     "data": {
      "text/plain": [
       "6-element Array{Float64,1}:\n",
       "  0.0        \n",
       "  0.0        \n",
       " -1.42109e-14\n",
       "  1.58608    \n",
       "  0.160143   \n",
       " -1.06499    "
      ]
     },
     "metadata": {},
     "output_type": "display_data"
    },
    {
     "name": "stdout",
     "output_type": "stream",
     "text": [
      "elapsed time: 1.077033194 seconds\n",
      "Solve_Succeeded\n"
     ]
    },
    {
     "data": {
      "text/plain": [
       "6-element Array{Float64,1}:\n",
       "  0.0        \n",
       "  0.0        \n",
       " -1.42109e-14\n",
       "  1.58608    \n",
       "  0.160143   \n",
       " -1.06499    "
      ]
     },
     "metadata": {},
     "output_type": "display_data"
    },
    {
     "data": {
      "text/plain": [
       "6-element Array{Float64,1}:\n",
       "  0.0        \n",
       "  0.0        \n",
       " -1.42109e-14\n",
       "  1.58608    \n",
       "  0.160143   \n",
       " -1.06499    "
      ]
     },
     "metadata": {},
     "output_type": "display_data"
    },
    {
     "name": "stdout",
     "output_type": "stream",
     "text": [
      "elapsed time: 0.713593933 seconds\n"
     ]
    },
    {
     "data": {
      "text/plain": [
       "6-element Array{Float64,1}:\n",
       "  0.0        \n",
       " -2.27374e-13\n",
       "  0.0        \n",
       "  1.58633    \n",
       "  0.159393   \n",
       " -1.06473    "
      ]
     },
     "metadata": {},
     "output_type": "display_data"
    },
    {
     "data": {
      "text/plain": [
       "6-element Array{Float64,1}:\n",
       "  0.0        \n",
       " -2.27374e-13\n",
       "  0.0        \n",
       "  1.58633    \n",
       "  0.159393   \n",
       " -1.06473    "
      ]
     },
     "metadata": {},
     "output_type": "display_data"
    },
    {
     "name": "stdout",
     "output_type": "stream",
     "text": [
      "elapsed time: 1.102104275 seconds\n"
     ]
    },
    {
     "data": {
      "text/plain": [
       "6-element Array{Float64,1}:\n",
       " -7.10543e-15\n",
       "  1.13687e-13\n",
       " -2.84217e-14\n",
       "  1.58633    \n",
       "  0.159393   \n",
       " -1.06473    "
      ]
     },
     "metadata": {},
     "output_type": "display_data"
    },
    {
     "data": {
      "text/plain": [
       "6-element Array{Float64,1}:\n",
       " -7.10543e-15\n",
       "  1.13687e-13\n",
       " -2.84217e-14\n",
       "  1.58633    \n",
       "  0.159393   \n",
       " -1.06473    "
      ]
     },
     "metadata": {},
     "output_type": "display_data"
    },
    {
     "name": "stdout",
     "output_type": "stream",
     "text": [
      "elapsed time: 0.688811804 seconds\n"
     ]
    },
    {
     "data": {
      "text/plain": [
       "6-element Array{Float64,1}:\n",
       " -7.10543e-15\n",
       "  0.0        \n",
       " -5.68434e-14\n",
       "  1.58633    \n",
       "  0.159393   \n",
       " -1.06473    "
      ]
     },
     "metadata": {},
     "output_type": "display_data"
    },
    {
     "data": {
      "text/plain": [
       "6-element Array{Float64,1}:\n",
       " -7.10543e-15\n",
       "  0.0        \n",
       " -5.68434e-14\n",
       "  1.58633    \n",
       "  0.159393   \n",
       " -1.06473    "
      ]
     },
     "metadata": {},
     "output_type": "display_data"
    },
    {
     "name": "stdout",
     "output_type": "stream",
     "text": [
      "elapsed time: 1.083807792 seconds\n"
     ]
    },
    {
     "data": {
      "text/plain": [
       "6-element Array{Float64,1}:\n",
       " -7.10543e-15\n",
       "  0.0        \n",
       " -2.84217e-14\n",
       "  1.58633    \n",
       "  0.159393   \n",
       " -1.06473    "
      ]
     },
     "metadata": {},
     "output_type": "display_data"
    },
    {
     "data": {
      "text/plain": [
       "6-element Array{Float64,1}:\n",
       " -7.10543e-15\n",
       "  0.0        \n",
       " -2.84217e-14\n",
       "  1.58633    \n",
       "  0.159393   \n",
       " -1.06473    "
      ]
     },
     "metadata": {},
     "output_type": "display_data"
    },
    {
     "name": "stdout",
     "output_type": "stream",
     "text": [
      "elapsed time: 1.060717872 seconds\n"
     ]
    },
    {
     "data": {
      "text/plain": [
       "6-element Array{Float64,1}:\n",
       "  0.0        \n",
       " -1.13687e-13\n",
       "  0.0        \n",
       "  1.58633    \n",
       "  0.159393   \n",
       " -1.06473    "
      ]
     },
     "metadata": {},
     "output_type": "display_data"
    },
    {
     "data": {
      "text/plain": [
       "6-element Array{Float64,1}:\n",
       "  0.0        \n",
       " -1.13687e-13\n",
       "  0.0        \n",
       "  1.58633    \n",
       "  0.159393   \n",
       " -1.06473    "
      ]
     },
     "metadata": {},
     "output_type": "display_data"
    },
    {
     "name": "stdout",
     "output_type": "stream",
     "text": [
      "elapsed time: 0.679969032 seconds\n"
     ]
    },
    {
     "data": {
      "text/plain": [
       "6-element Array{Float64,1}:\n",
       "  0.0     \n",
       "  0.0     \n",
       "  0.0     \n",
       "  1.58633 \n",
       "  0.159393\n",
       " -1.06473 "
      ]
     },
     "metadata": {},
     "output_type": "display_data"
    },
    {
     "data": {
      "text/plain": [
       "6-element Array{Float64,1}:\n",
       "  0.0     \n",
       "  0.0     \n",
       "  0.0     \n",
       "  1.58633 \n",
       "  0.159393\n",
       " -1.06473 "
      ]
     },
     "metadata": {},
     "output_type": "display_data"
    },
    {
     "name": "stdout",
     "output_type": "stream",
     "text": [
      "elapsed time: 0.80755328 seconds\n"
     ]
    },
    {
     "data": {
      "text/plain": [
       "6-element Array{Float64,1}:\n",
       "  7.10543e-15\n",
       "  5.68434e-14\n",
       "  0.0        \n",
       "  1.4277     \n",
       "  0.143454   \n",
       " -0.958253   "
      ]
     },
     "metadata": {},
     "output_type": "display_data"
    },
    {
     "data": {
      "text/plain": [
       "6-element Array{Float64,1}:\n",
       "  7.10543e-15\n",
       "  5.68434e-14\n",
       "  0.0        \n",
       "  1.4277     \n",
       "  0.143454   \n",
       " -0.958253   "
      ]
     },
     "metadata": {},
     "output_type": "display_data"
    },
    {
     "name": "stdout",
     "output_type": "stream",
     "text": [
      "elapsed time: 0.680391279 seconds\n",
      "Solve_Succeeded\n"
     ]
    },
    {
     "data": {
      "text/plain": [
       "6-element Array{Float64,1}:\n",
       "  7.10543e-15\n",
       "  5.68434e-14\n",
       "  0.0        \n",
       "  1.4277     \n",
       "  0.143454   \n",
       " -0.958253   "
      ]
     },
     "metadata": {},
     "output_type": "display_data"
    },
    {
     "data": {
      "text/plain": [
       "6-element Array{Float64,1}:\n",
       "  7.10543e-15\n",
       "  5.68434e-14\n",
       "  0.0        \n",
       "  1.4277     \n",
       "  0.143454   \n",
       " -0.958253   "
      ]
     },
     "metadata": {},
     "output_type": "display_data"
    },
    {
     "name": "stdout",
     "output_type": "stream",
     "text": [
      "elapsed time: 1.091275481 seconds\n"
     ]
    },
    {
     "data": {
      "text/plain": [
       "6-element Array{Float64,1}:\n",
       "  0.0        \n",
       "  0.0        \n",
       "  2.84217e-14\n",
       "  1.42792    \n",
       "  0.142779   \n",
       " -0.958017   "
      ]
     },
     "metadata": {},
     "output_type": "display_data"
    },
    {
     "data": {
      "text/plain": [
       "6-element Array{Float64,1}:\n",
       "  0.0        \n",
       "  0.0        \n",
       "  2.84217e-14\n",
       "  1.42792    \n",
       "  0.142779   \n",
       " -0.958017   "
      ]
     },
     "metadata": {},
     "output_type": "display_data"
    },
    {
     "name": "stdout",
     "output_type": "stream",
     "text": [
      "elapsed time: 1.064982182 seconds\n"
     ]
    },
    {
     "data": {
      "text/plain": [
       "6-element Array{Float64,1}:\n",
       " -1.42109e-14\n",
       "  1.13687e-13\n",
       " -2.84217e-14\n",
       "  1.42792    \n",
       "  0.142779   \n",
       " -0.958017   "
      ]
     },
     "metadata": {},
     "output_type": "display_data"
    },
    {
     "data": {
      "text/plain": [
       "6-element Array{Float64,1}:\n",
       " -1.42109e-14\n",
       "  1.13687e-13\n",
       " -2.84217e-14\n",
       "  1.42792    \n",
       "  0.142779   \n",
       " -0.958017   "
      ]
     },
     "metadata": {},
     "output_type": "display_data"
    },
    {
     "name": "stdout",
     "output_type": "stream",
     "text": [
      "elapsed time: 0.679701647 seconds\n"
     ]
    },
    {
     "data": {
      "text/plain": [
       "6-element Array{Float64,1}:\n",
       "  0.0        \n",
       "  1.13687e-13\n",
       "  0.0        \n",
       "  1.42792    \n",
       "  0.142779   \n",
       " -0.958017   "
      ]
     },
     "metadata": {},
     "output_type": "display_data"
    },
    {
     "data": {
      "text/plain": [
       "6-element Array{Float64,1}:\n",
       "  0.0        \n",
       "  1.13687e-13\n",
       "  0.0        \n",
       "  1.42792    \n",
       "  0.142779   \n",
       " -0.958017   "
      ]
     },
     "metadata": {},
     "output_type": "display_data"
    },
    {
     "name": "stdout",
     "output_type": "stream",
     "text": [
      "elapsed time: 1.134427518 seconds\n"
     ]
    },
    {
     "data": {
      "text/plain": [
       "6-element Array{Float64,1}:\n",
       "  0.0        \n",
       "  1.13687e-13\n",
       "  0.0        \n",
       "  1.42792    \n",
       "  0.142779   \n",
       " -0.958017   "
      ]
     },
     "metadata": {},
     "output_type": "display_data"
    },
    {
     "data": {
      "text/plain": [
       "6-element Array{Float64,1}:\n",
       "  0.0        \n",
       "  1.13687e-13\n",
       "  0.0        \n",
       "  1.42792    \n",
       "  0.142779   \n",
       " -0.958017   "
      ]
     },
     "metadata": {},
     "output_type": "display_data"
    },
    {
     "name": "stdout",
     "output_type": "stream",
     "text": [
      "elapsed time: 0.682536391 seconds\n"
     ]
    },
    {
     "data": {
      "text/plain": [
       "6-element Array{Float64,1}:\n",
       " -1.42109e-14\n",
       " -1.13687e-13\n",
       "  2.84217e-14\n",
       "  1.42792    \n",
       "  0.142779   \n",
       " -0.958017   "
      ]
     },
     "metadata": {},
     "output_type": "display_data"
    },
    {
     "data": {
      "text/plain": [
       "6-element Array{Float64,1}:\n",
       " -1.42109e-14\n",
       " -1.13687e-13\n",
       "  2.84217e-14\n",
       "  1.42792    \n",
       "  0.142779   \n",
       " -0.958017   "
      ]
     },
     "metadata": {},
     "output_type": "display_data"
    },
    {
     "name": "stdout",
     "output_type": "stream",
     "text": [
      "elapsed time: 1.055017244 seconds\n"
     ]
    },
    {
     "data": {
      "text/plain": [
       "6-element Array{Float64,1}:\n",
       " -1.42109e-14\n",
       "  3.41061e-13\n",
       "  0.0        \n",
       "  1.42792    \n",
       "  0.142779   \n",
       " -0.958017   "
      ]
     },
     "metadata": {},
     "output_type": "display_data"
    },
    {
     "data": {
      "text/plain": [
       "6-element Array{Float64,1}:\n",
       " -1.42109e-14\n",
       "  3.41061e-13\n",
       "  0.0        \n",
       "  1.42792    \n",
       "  0.142779   \n",
       " -0.958017   "
      ]
     },
     "metadata": {},
     "output_type": "display_data"
    },
    {
     "name": "stdout",
     "output_type": "stream",
     "text": [
      "elapsed time: 0.924350502 seconds\n"
     ]
    },
    {
     "data": {
      "text/plain": [
       "6-element Array{Float64,1}:\n",
       "  0.0     \n",
       "  0.0     \n",
       "  0.0     \n",
       "  1.28513 \n",
       "  0.128501\n",
       " -0.862216"
      ]
     },
     "metadata": {},
     "output_type": "display_data"
    },
    {
     "data": {
      "text/plain": [
       "6-element Array{Float64,1}:\n",
       "  0.0     \n",
       "  0.0     \n",
       "  0.0     \n",
       "  1.28513 \n",
       "  0.128501\n",
       " -0.862216"
      ]
     },
     "metadata": {},
     "output_type": "display_data"
    },
    {
     "name": "stdout",
     "output_type": "stream",
     "text": [
      "elapsed time: 0.739822812 seconds\n",
      "Solve_Succeeded\n"
     ]
    },
    {
     "data": {
      "text/plain": [
       "6-element Array{Float64,1}:\n",
       "  0.0     \n",
       "  0.0     \n",
       "  0.0     \n",
       "  1.28513 \n",
       "  0.128501\n",
       " -0.862216"
      ]
     },
     "metadata": {},
     "output_type": "display_data"
    },
    {
     "data": {
      "text/plain": [
       "6-element Array{Float64,1}:\n",
       "  0.0     \n",
       "  0.0     \n",
       "  0.0     \n",
       "  1.28513 \n",
       "  0.128501\n",
       " -0.862216"
      ]
     },
     "metadata": {},
     "output_type": "display_data"
    },
    {
     "name": "stdout",
     "output_type": "stream",
     "text": [
      "elapsed time: 1.156070398 seconds\n"
     ]
    },
    {
     "data": {
      "text/plain": [
       "6-element Array{Float64,1}:\n",
       "  0.0        \n",
       "  0.0        \n",
       " -2.84217e-14\n",
       "  1.28533    \n",
       "  0.127894   \n",
       " -0.862004   "
      ]
     },
     "metadata": {},
     "output_type": "display_data"
    },
    {
     "data": {
      "text/plain": [
       "6-element Array{Float64,1}:\n",
       "  0.0        \n",
       "  0.0        \n",
       " -2.84217e-14\n",
       "  1.28533    \n",
       "  0.127894   \n",
       " -0.862004   "
      ]
     },
     "metadata": {},
     "output_type": "display_data"
    },
    {
     "name": "stdout",
     "output_type": "stream",
     "text": [
      "elapsed time: 1.076068535 seconds\n"
     ]
    },
    {
     "data": {
      "text/plain": [
       "6-element Array{Float64,1}:\n",
       "  0.0        \n",
       "  2.27374e-13\n",
       "  0.0        \n",
       "  1.28533    \n",
       "  0.127894   \n",
       " -0.862004   "
      ]
     },
     "metadata": {},
     "output_type": "display_data"
    },
    {
     "data": {
      "text/plain": [
       "6-element Array{Float64,1}:\n",
       "  0.0        \n",
       "  2.27374e-13\n",
       "  0.0        \n",
       "  1.28533    \n",
       "  0.127894   \n",
       " -0.862004   "
      ]
     },
     "metadata": {},
     "output_type": "display_data"
    },
    {
     "name": "stdout",
     "output_type": "stream",
     "text": [
      "elapsed time: 0.681595487 seconds\n"
     ]
    },
    {
     "data": {
      "text/plain": [
       "6-element Array{Float64,1}:\n",
       "  1.42109e-14\n",
       " -1.13687e-13\n",
       "  2.84217e-14\n",
       "  1.28533    \n",
       "  0.127894   \n",
       " -0.862004   "
      ]
     },
     "metadata": {},
     "output_type": "display_data"
    },
    {
     "data": {
      "text/plain": [
       "6-element Array{Float64,1}:\n",
       "  1.42109e-14\n",
       " -1.13687e-13\n",
       "  2.84217e-14\n",
       "  1.28533    \n",
       "  0.127894   \n",
       " -0.862004   "
      ]
     },
     "metadata": {},
     "output_type": "display_data"
    },
    {
     "name": "stdout",
     "output_type": "stream",
     "text": [
      "elapsed time: 1.147501546 seconds\n"
     ]
    },
    {
     "data": {
      "text/plain": [
       "6-element Array{Float64,1}:\n",
       "  0.0        \n",
       " -1.13687e-13\n",
       "  0.0        \n",
       "  1.28533    \n",
       "  0.127894   \n",
       " -0.862004   "
      ]
     },
     "metadata": {},
     "output_type": "display_data"
    },
    {
     "data": {
      "text/plain": [
       "6-element Array{Float64,1}:\n",
       "  0.0        \n",
       " -1.13687e-13\n",
       "  0.0        \n",
       "  1.28533    \n",
       "  0.127894   \n",
       " -0.862004   "
      ]
     },
     "metadata": {},
     "output_type": "display_data"
    },
    {
     "name": "stdout",
     "output_type": "stream",
     "text": [
      "elapsed time: 0.683245452 seconds\n"
     ]
    },
    {
     "data": {
      "text/plain": [
       "6-element Array{Float64,1}:\n",
       "  1.42109e-14\n",
       "  2.27374e-13\n",
       "  2.84217e-14\n",
       "  1.28533    \n",
       "  0.127894   \n",
       " -0.862004   "
      ]
     },
     "metadata": {},
     "output_type": "display_data"
    },
    {
     "data": {
      "text/plain": [
       "6-element Array{Float64,1}:\n",
       "  1.42109e-14\n",
       "  2.27374e-13\n",
       "  2.84217e-14\n",
       "  1.28533    \n",
       "  0.127894   \n",
       " -0.862004   "
      ]
     },
     "metadata": {},
     "output_type": "display_data"
    },
    {
     "name": "stdout",
     "output_type": "stream",
     "text": [
      "elapsed time: 0.671838007 seconds\n"
     ]
    },
    {
     "data": {
      "text/plain": [
       "6-element Array{Float64,1}:\n",
       " -1.42109e-14\n",
       " -1.13687e-13\n",
       " -2.84217e-14\n",
       "  1.28533    \n",
       "  0.127894   \n",
       " -0.862004   "
      ]
     },
     "metadata": {},
     "output_type": "display_data"
    },
    {
     "data": {
      "text/plain": [
       "6-element Array{Float64,1}:\n",
       " -1.42109e-14\n",
       " -1.13687e-13\n",
       " -2.84217e-14\n",
       "  1.28533    \n",
       "  0.127894   \n",
       " -0.862004   "
      ]
     },
     "metadata": {},
     "output_type": "display_data"
    },
    {
     "name": "stdout",
     "output_type": "stream",
     "text": [
      "elapsed time: 1.12376521 seconds\n"
     ]
    },
    {
     "data": {
      "text/plain": [
       "6-element Array{Float64,1}:\n",
       " -1.42109e-14\n",
       "  0.0        \n",
       "  2.84217e-14\n",
       "  1.1568     \n",
       "  0.115104   \n",
       " -0.775804   "
      ]
     },
     "metadata": {},
     "output_type": "display_data"
    },
    {
     "data": {
      "text/plain": [
       "6-element Array{Float64,1}:\n",
       " -1.42109e-14\n",
       "  0.0        \n",
       "  2.84217e-14\n",
       "  1.1568     \n",
       "  0.115104   \n",
       " -0.775804   "
      ]
     },
     "metadata": {},
     "output_type": "display_data"
    },
    {
     "name": "stdout",
     "output_type": "stream",
     "text": [
      "elapsed time: 0.682774046 seconds\n",
      "Solve_Succeeded\n"
     ]
    },
    {
     "data": {
      "text/plain": [
       "6-element Array{Float64,1}:\n",
       " -1.42109e-14\n",
       "  0.0        \n",
       "  2.84217e-14\n",
       "  1.1568     \n",
       "  0.115104   \n",
       " -0.775804   "
      ]
     },
     "metadata": {},
     "output_type": "display_data"
    },
    {
     "data": {
      "text/plain": [
       "6-element Array{Float64,1}:\n",
       " -1.42109e-14\n",
       "  0.0        \n",
       "  2.84217e-14\n",
       "  1.1568     \n",
       "  0.115104   \n",
       " -0.775804   "
      ]
     },
     "metadata": {},
     "output_type": "display_data"
    },
    {
     "name": "stdout",
     "output_type": "stream",
     "text": [
      "elapsed time: 1.094750572 seconds\n"
     ]
    },
    {
     "data": {
      "text/plain": [
       "6-element Array{Float64,1}:\n",
       "  0.0        \n",
       " -1.13687e-13\n",
       "  0.0        \n",
       "  1.15698    \n",
       "  0.114558   \n",
       " -0.775613   "
      ]
     },
     "metadata": {},
     "output_type": "display_data"
    },
    {
     "data": {
      "text/plain": [
       "6-element Array{Float64,1}:\n",
       "  0.0        \n",
       " -1.13687e-13\n",
       "  0.0        \n",
       "  1.15698    \n",
       "  0.114558   \n",
       " -0.775613   "
      ]
     },
     "metadata": {},
     "output_type": "display_data"
    },
    {
     "name": "stdout",
     "output_type": "stream",
     "text": [
      "elapsed time: 1.065759626 seconds\n"
     ]
    },
    {
     "data": {
      "text/plain": [
       "6-element Array{Float64,1}:\n",
       "  0.0        \n",
       "  0.0        \n",
       " -2.84217e-14\n",
       "  1.15698    \n",
       "  0.114558   \n",
       " -0.775613   "
      ]
     },
     "metadata": {},
     "output_type": "display_data"
    },
    {
     "data": {
      "text/plain": [
       "6-element Array{Float64,1}:\n",
       "  0.0        \n",
       "  0.0        \n",
       " -2.84217e-14\n",
       "  1.15698    \n",
       "  0.114558   \n",
       " -0.775613   "
      ]
     },
     "metadata": {},
     "output_type": "display_data"
    },
    {
     "name": "stdout",
     "output_type": "stream",
     "text": [
      "elapsed time: 0.688752578 seconds\n"
     ]
    },
    {
     "data": {
      "text/plain": [
       "6-element Array{Float64,1}:\n",
       "  1.42109e-14\n",
       " -1.13687e-13\n",
       "  8.52651e-14\n",
       "  1.15698    \n",
       "  0.114558   \n",
       " -0.775613   "
      ]
     },
     "metadata": {},
     "output_type": "display_data"
    },
    {
     "data": {
      "text/plain": [
       "6-element Array{Float64,1}:\n",
       "  1.42109e-14\n",
       " -1.13687e-13\n",
       "  8.52651e-14\n",
       "  1.15698    \n",
       "  0.114558   \n",
       " -0.775613   "
      ]
     },
     "metadata": {},
     "output_type": "display_data"
    },
    {
     "name": "stdout",
     "output_type": "stream",
     "text": [
      "elapsed time: 1.138428738 seconds\n"
     ]
    },
    {
     "data": {
      "text/plain": [
       "6-element Array{Float64,1}:\n",
       "  0.0        \n",
       "  2.27374e-13\n",
       "  2.84217e-14\n",
       "  1.15698    \n",
       "  0.114558   \n",
       " -0.775613   "
      ]
     },
     "metadata": {},
     "output_type": "display_data"
    },
    {
     "data": {
      "text/plain": [
       "6-element Array{Float64,1}:\n",
       "  0.0        \n",
       "  2.27374e-13\n",
       "  2.84217e-14\n",
       "  1.15698    \n",
       "  0.114558   \n",
       " -0.775613   "
      ]
     },
     "metadata": {},
     "output_type": "display_data"
    },
    {
     "name": "stdout",
     "output_type": "stream",
     "text": [
      "elapsed time: 0.671785809 seconds\n"
     ]
    },
    {
     "data": {
      "text/plain": [
       "6-element Array{Float64,1}:\n",
       "  0.0        \n",
       "  2.27374e-13\n",
       " -2.84217e-14\n",
       "  1.15698    \n",
       "  0.114558   \n",
       " -0.775613   "
      ]
     },
     "metadata": {},
     "output_type": "display_data"
    },
    {
     "data": {
      "text/plain": [
       "6-element Array{Float64,1}:\n",
       "  0.0        \n",
       "  2.27374e-13\n",
       " -2.84217e-14\n",
       "  1.15698    \n",
       "  0.114558   \n",
       " -0.775613   "
      ]
     },
     "metadata": {},
     "output_type": "display_data"
    },
    {
     "name": "stdout",
     "output_type": "stream",
     "text": [
      "elapsed time: 1.076270685 seconds\n"
     ]
    },
    {
     "data": {
      "text/plain": [
       "6-element Array{Float64,1}:\n",
       "  0.0        \n",
       "  1.13687e-13\n",
       "  2.84217e-14\n",
       "  1.15698    \n",
       "  0.114558   \n",
       " -0.775613   "
      ]
     },
     "metadata": {},
     "output_type": "display_data"
    },
    {
     "data": {
      "text/plain": [
       "6-element Array{Float64,1}:\n",
       "  0.0        \n",
       "  1.13687e-13\n",
       "  2.84217e-14\n",
       "  1.15698    \n",
       "  0.114558   \n",
       " -0.775613   "
      ]
     },
     "metadata": {},
     "output_type": "display_data"
    },
    {
     "name": "stdout",
     "output_type": "stream",
     "text": [
      "elapsed time: 1.090437931 seconds\n"
     ]
    },
    {
     "data": {
      "text/plain": [
       "6-element Array{Float64,1}:\n",
       "  0.0        \n",
       "  0.0        \n",
       "  2.84217e-14\n",
       "  1.04128    \n",
       "  0.103102   \n",
       " -0.698052   "
      ]
     },
     "metadata": {},
     "output_type": "display_data"
    },
    {
     "data": {
      "text/plain": [
       "6-element Array{Float64,1}:\n",
       "  0.0        \n",
       "  0.0        \n",
       "  2.84217e-14\n",
       "  1.04128    \n",
       "  0.103102   \n",
       " -0.698052   "
      ]
     },
     "metadata": {},
     "output_type": "display_data"
    },
    {
     "name": "stdout",
     "output_type": "stream",
     "text": [
      "elapsed time: 1.065306917 seconds\n",
      "Solve_Succeeded\n"
     ]
    },
    {
     "data": {
      "text/plain": [
       "6-element Array{Float64,1}:\n",
       "  0.0        \n",
       "  0.0        \n",
       "  2.84217e-14\n",
       "  1.04128    \n",
       "  0.103102   \n",
       " -0.698052   "
      ]
     },
     "metadata": {},
     "output_type": "display_data"
    },
    {
     "data": {
      "text/plain": [
       "6-element Array{Float64,1}:\n",
       "  0.0        \n",
       "  0.0        \n",
       "  2.84217e-14\n",
       "  1.04128    \n",
       "  0.103102   \n",
       " -0.698052   "
      ]
     },
     "metadata": {},
     "output_type": "display_data"
    },
    {
     "name": "stdout",
     "output_type": "stream",
     "text": [
      "elapsed time: 0.695793806 seconds\n"
     ]
    },
    {
     "data": {
      "text/plain": [
       "6-element Array{Float64,1}:\n",
       "  0.0        \n",
       " -1.13687e-13\n",
       " -2.84217e-14\n",
       "  1.04145    \n",
       "  0.102609   \n",
       " -0.697881   "
      ]
     },
     "metadata": {},
     "output_type": "display_data"
    },
    {
     "data": {
      "text/plain": [
       "6-element Array{Float64,1}:\n",
       "  0.0        \n",
       " -1.13687e-13\n",
       " -2.84217e-14\n",
       "  1.04145    \n",
       "  0.102609   \n",
       " -0.697881   "
      ]
     },
     "metadata": {},
     "output_type": "display_data"
    },
    {
     "name": "stdout",
     "output_type": "stream",
     "text": [
      "elapsed time: 1.080198524 seconds\n"
     ]
    },
    {
     "data": {
      "text/plain": [
       "6-element Array{Float64,1}:\n",
       "  1.42109e-14\n",
       " -1.13687e-13\n",
       "  2.84217e-14\n",
       "  1.04145    \n",
       "  0.102609   \n",
       " -0.697881   "
      ]
     },
     "metadata": {},
     "output_type": "display_data"
    },
    {
     "data": {
      "text/plain": [
       "6-element Array{Float64,1}:\n",
       "  1.42109e-14\n",
       " -1.13687e-13\n",
       "  2.84217e-14\n",
       "  1.04145    \n",
       "  0.102609   \n",
       " -0.697881   "
      ]
     },
     "metadata": {},
     "output_type": "display_data"
    },
    {
     "name": "stdout",
     "output_type": "stream",
     "text": [
      "elapsed time: 0.689508757 seconds\n"
     ]
    },
    {
     "data": {
      "text/plain": [
       "6-element Array{Float64,1}:\n",
       " -1.42109e-14\n",
       " -1.13687e-13\n",
       " -5.68434e-14\n",
       "  1.04145    \n",
       "  0.102609   \n",
       " -0.697881   "
      ]
     },
     "metadata": {},
     "output_type": "display_data"
    },
    {
     "data": {
      "text/plain": [
       "6-element Array{Float64,1}:\n",
       " -1.42109e-14\n",
       " -1.13687e-13\n",
       " -5.68434e-14\n",
       "  1.04145    \n",
       "  0.102609   \n",
       " -0.697881   "
      ]
     },
     "metadata": {},
     "output_type": "display_data"
    },
    {
     "name": "stdout",
     "output_type": "stream",
     "text": [
      "elapsed time: 1.175438144 seconds\n"
     ]
    },
    {
     "data": {
      "text/plain": [
       "6-element Array{Float64,1}:\n",
       "  0.0        \n",
       "  0.0        \n",
       " -2.84217e-14\n",
       "  1.04145    \n",
       "  0.102609   \n",
       " -0.697881   "
      ]
     },
     "metadata": {},
     "output_type": "display_data"
    },
    {
     "data": {
      "text/plain": [
       "6-element Array{Float64,1}:\n",
       "  0.0        \n",
       "  0.0        \n",
       " -2.84217e-14\n",
       "  1.04145    \n",
       "  0.102609   \n",
       " -0.697881   "
      ]
     },
     "metadata": {},
     "output_type": "display_data"
    },
    {
     "name": "stdout",
     "output_type": "stream",
     "text": [
      "elapsed time: 0.683925993 seconds\n"
     ]
    },
    {
     "data": {
      "text/plain": [
       "6-element Array{Float64,1}:\n",
       "  0.0        \n",
       " -2.27374e-13\n",
       "  0.0        \n",
       "  1.04145    \n",
       "  0.102609   \n",
       " -0.697881   "
      ]
     },
     "metadata": {},
     "output_type": "display_data"
    },
    {
     "data": {
      "text/plain": [
       "6-element Array{Float64,1}:\n",
       "  0.0        \n",
       " -2.27374e-13\n",
       "  0.0        \n",
       "  1.04145    \n",
       "  0.102609   \n",
       " -0.697881   "
      ]
     },
     "metadata": {},
     "output_type": "display_data"
    },
    {
     "name": "stdout",
     "output_type": "stream",
     "text": [
      "elapsed time: 1.066691553 seconds\n"
     ]
    },
    {
     "data": {
      "text/plain": [
       "6-element Array{Float64,1}:\n",
       "  1.42109e-14\n",
       " -2.27374e-13\n",
       " -2.84217e-14\n",
       "  1.04145    \n",
       "  0.102609   \n",
       " -0.697881   "
      ]
     },
     "metadata": {},
     "output_type": "display_data"
    },
    {
     "data": {
      "text/plain": [
       "6-element Array{Float64,1}:\n",
       "  1.42109e-14\n",
       " -2.27374e-13\n",
       " -2.84217e-14\n",
       "  1.04145    \n",
       "  0.102609   \n",
       " -0.697881   "
      ]
     },
     "metadata": {},
     "output_type": "display_data"
    },
    {
     "name": "stdout",
     "output_type": "stream",
     "text": [
      "elapsed time: 1.078268568 seconds\n",
      "elapsed time: 0.690291133 seconds\n",
      "Solve_Succeeded\n"
     ]
    },
    {
     "name": "stderr",
     "output_type": "stream",
     "text": [
      "WARNING: Method definition solve_implicit_contact_τ(Any, Any, Any, Any, Any, Any, Any, Any, Any, Any) in module BilevelTrajOpt at /Users/blandry/.julia/v0.6/BilevelTrajOpt/src/contact.jl:142 overwritten at /Users/blandry/.julia/v0.6/BilevelTrajOpt/src/contact.jl:141.\n",
      "WARNING: Method definition #solve_implicit_contact_τ(Array{Any, 1}, typeof(BilevelTrajOpt.solve_implicit_contact_τ), Any, Any, Any, Any, Any, Any, Any, Any, Any, Any) in module BilevelTrajOpt overwritten.\n",
      "WARNING: Method definition simulate(RigidBodyDynamics.MechanismState{T, M, C, JointCollection} where JointCollection where C, BilevelTrajOpt.Environment, Real, Integer, Any) in module BilevelTrajOpt at /Users/blandry/.julia/v0.6/BilevelTrajOpt/src/simulation.jl:225 overwritten at /Users/blandry/.julia/v0.6/BilevelTrajOpt/src/simulation.jl:225.\n",
      "WARNING: Method definition #simulate(Array{Any, 1}, typeof(BilevelTrajOpt.simulate), RigidBodyDynamics.MechanismState{T, M, C, JointCollection} where JointCollection where C, BilevelTrajOpt.Environment, Real, Integer, Any) in module BilevelTrajOpt overwritten.\n"
     ]
    }
   ],
   "source": [
    "println(\"Implicit Contacts\")\n",
    "traj_imp = BilevelTrajOpt.simulate(x0,env,Δt,N,ctrl!,implicit_contact=true);"
   ]
  },
  {
   "cell_type": "code",
   "execution_count": 14,
   "metadata": {
    "collapsed": false
   },
   "outputs": [
    {
     "name": "stdout",
     "output_type": "stream",
     "text": [
      "Explicit Contacts\n",
      "elapsed time: 30.247163387 seconds\n",
      "elapsed time: 0.010295082 seconds\n",
      "elapsed time: 0.007969771 seconds\n",
      "elapsed time: 0.008002781 seconds\n",
      "elapsed time: 0.009040537 seconds\n",
      "elapsed time: 0.050260909 seconds\n",
      "elapsed time: 0.01271793 seconds\n",
      "elapsed time: 0.016055033 seconds\n",
      "elapsed time: 0.013463909 seconds\n",
      "elapsed time: 0.008152585 seconds\n",
      "elapsed time: 0.008764932 seconds\n",
      "elapsed time: 0.008564429 seconds\n",
      "elapsed time: 0.00829399 seconds\n",
      "elapsed time: 0.008237848 seconds\n",
      "elapsed time: 0.008255869 seconds\n",
      "elapsed time: 0.00809529 seconds\n",
      "elapsed time: 0.008282568 seconds\n",
      "elapsed time: 0.00845353 seconds\n",
      "elapsed time: 0.009007362 seconds\n",
      "Solve_Succeeded\n",
      "elapsed time: 0.008391217 seconds\n",
      "elapsed time: 0.011354319 seconds\n",
      "elapsed time: 0.012466861 seconds\n",
      "elapsed time: 0.008392118 seconds\n",
      "elapsed time: 0.00828464 seconds\n",
      "elapsed time: 0.009481001 seconds\n",
      "elapsed time: 0.008224926 seconds\n",
      "elapsed time: 0.047477765 seconds\n",
      "elapsed time: 0.00840273 seconds\n",
      "elapsed time: 0.007987941 seconds\n",
      "elapsed time: 0.00791792 seconds\n",
      "Solve_Succeeded\n",
      "elapsed time: 0.007928799 seconds\n",
      "elapsed time: 0.008485594 seconds\n",
      "elapsed time: 0.007856475 seconds\n",
      "elapsed time: 0.007833481 seconds\n",
      "elapsed time: 0.007857033 seconds\n",
      "elapsed time: 0.007968906 seconds\n",
      "elapsed time: 0.011073691 seconds\n",
      "elapsed time: 0.007836061 seconds\n",
      "elapsed time: 0.007973552 seconds\n",
      "elapsed time: 0.00784494 seconds\n",
      "elapsed time: 0.007832413 seconds\n",
      "Solve_Succeeded\n",
      "elapsed time: 0.007789178 seconds\n",
      "elapsed time: 0.007997846 seconds\n",
      "elapsed time: 0.007997914 seconds\n",
      "elapsed time: 0.008571515 seconds\n",
      "elapsed time: 0.007823763 seconds\n",
      "elapsed time: 0.007805674 seconds\n",
      "elapsed time: 0.046905397 seconds\n",
      "elapsed time: 0.008212883 seconds\n",
      "elapsed time: 0.008683382 seconds\n",
      "elapsed time: 0.007859272 seconds\n",
      "elapsed time: 0.008001135 seconds\n",
      "elapsed time: 0.007818367 seconds\n",
      "elapsed time: 0.008245773 seconds\n",
      "elapsed time: 0.007781855 seconds\n",
      "Solve_Succeeded\n",
      "elapsed time: 0.009749925 seconds\n",
      "elapsed time: 0.008287864 seconds\n",
      "elapsed time: 0.01051938 seconds\n",
      "elapsed time: 0.009732398 seconds\n",
      "elapsed time: 0.01245309 seconds\n",
      "elapsed time: 0.007894316 seconds\n",
      "elapsed time: 0.011357811 seconds\n",
      "elapsed time: 0.008111819 seconds\n",
      "elapsed time: 0.007942317 seconds\n",
      "elapsed time: 0.007847326 seconds\n",
      "elapsed time: 0.00775735 seconds\n",
      "elapsed time: 0.008013068 seconds\n",
      "elapsed time: 0.008033401 seconds\n",
      "elapsed time: 0.045324449 seconds\n",
      "elapsed time: 0.008014762 seconds\n",
      "elapsed time: 0.00843067 seconds\n",
      "elapsed time: 0.007870332 seconds\n",
      "elapsed time: 0.007906537 seconds\n",
      "elapsed time: 0.010498742 seconds\n",
      "elapsed time: 0.008103907 seconds\n",
      "Solve_Succeeded\n",
      "elapsed time: 0.007852441 seconds\n",
      "elapsed time: 0.008061279 seconds\n",
      "elapsed time: 0.0086891 seconds\n",
      "elapsed time: 0.007832796 seconds\n",
      "elapsed time: 0.008373749 seconds\n",
      "elapsed time: 0.00778176 seconds\n",
      "elapsed time: 0.008726175 seconds\n",
      "elapsed time: 0.00835921 seconds\n",
      "elapsed time: 0.00810594 seconds\n",
      "elapsed time: 0.008153316 seconds\n",
      "elapsed time: 0.007735106 seconds\n",
      "elapsed time: 0.007864718 seconds\n",
      "elapsed time: 0.009451207 seconds\n",
      "elapsed time: 0.008441456 seconds\n",
      "elapsed time: 0.008449333 seconds\n",
      "Solve_Succeeded\n",
      "elapsed time: 0.044225209 seconds\n",
      "elapsed time: 0.009039206 seconds\n",
      "elapsed time: 0.010841419 seconds\n",
      "elapsed time: 0.008289523 seconds\n",
      "elapsed time: 0.011872409 seconds\n",
      "elapsed time: 0.007854925 seconds\n",
      "elapsed time: 0.010854491 seconds\n",
      "elapsed time: 0.010046241 seconds\n",
      "elapsed time: 0.010805957 seconds\n",
      "elapsed time: 0.008128485 seconds\n",
      "elapsed time: 0.007767365 seconds\n",
      "elapsed time: 0.008186474 seconds\n",
      "Solve_Succeeded\n",
      "elapsed time: 0.007809942 seconds\n",
      "elapsed time: 0.008107302 seconds\n",
      "elapsed time: 0.007859138 seconds\n",
      "elapsed time: 0.007975498 seconds\n",
      "elapsed time: 0.011336857 seconds\n",
      "elapsed time: 0.007815524 seconds\n",
      "elapsed time: 0.007921294 seconds\n",
      "elapsed time: 0.008472214 seconds\n",
      "elapsed time: 0.00777352 seconds\n",
      "elapsed time: 0.045451988 seconds\n",
      "elapsed time: 0.007997446 seconds\n",
      "elapsed time: 0.007923923 seconds\n",
      "Solve_Succeeded\n",
      "elapsed time: 0.008027963 seconds\n",
      "elapsed time: 0.007856318 seconds\n",
      "elapsed time: 0.00790634 seconds\n",
      "elapsed time: 0.007990794 seconds\n",
      "elapsed time: 0.008023175 seconds\n",
      "elapsed time: 0.008476562 seconds\n",
      "elapsed time: 0.007989112 seconds\n",
      "elapsed time: 0.008429889 seconds\n",
      "elapsed time: 0.00934171 seconds\n",
      "elapsed time: 0.008043214 seconds\n",
      "elapsed time: 0.010510469 seconds\n",
      "elapsed time: 0.010355128 seconds\n",
      "Solve_Succeeded\n",
      "elapsed time: 0.009148393 seconds\n",
      "elapsed time: 0.008287351 seconds\n",
      "elapsed time: 0.00789827 seconds\n",
      "elapsed time: 0.00776812 seconds\n",
      "elapsed time: 0.008288604 seconds\n",
      "elapsed time: 0.007760233 seconds\n",
      "elapsed time: 0.045285245 seconds\n",
      "elapsed time: 0.008732713 seconds\n",
      "elapsed time: 0.00796584 seconds\n",
      "elapsed time: 0.010913368 seconds\n",
      "elapsed time: 0.010560988 seconds\n",
      "elapsed time: 0.008923556 seconds\n",
      "Solve_Succeeded\n"
     ]
    }
   ],
   "source": [
    "println(\"Explicit Contacts\")\n",
    "traj_exp = BilevelTrajOpt.simulate(x0,env,Δt,N,ctrl!,implicit_contact=false);"
   ]
  },
  {
   "cell_type": "code",
   "execution_count": 13,
   "metadata": {
    "collapsed": false
   },
   "outputs": [
    {
     "ename": "LoadError",
     "evalue": "\u001b[91mUndefVarError: traj_exp not defined\u001b[39m",
     "output_type": "error",
     "traceback": [
      "\u001b[91mUndefVarError: traj_exp not defined\u001b[39m",
      "",
      "Stacktrace:",
      " [1] \u001b[1minclude_string\u001b[22m\u001b[22m\u001b[1m(\u001b[22m\u001b[22m::String, ::String\u001b[1m)\u001b[22m\u001b[22m at \u001b[1m./loading.jl:522\u001b[22m\u001b[22m",
      " [2] \u001b[1mexecute_request\u001b[22m\u001b[22m\u001b[1m(\u001b[22m\u001b[22m::ZMQ.Socket, ::IJulia.Msg\u001b[1m)\u001b[22m\u001b[22m at \u001b[1m/Users/blandry/.julia/v0.6/IJulia/src/execute_request.jl:193\u001b[22m\u001b[22m",
      " [3] \u001b[1m(::Compat.#inner#14{Array{Any,1},IJulia.#execute_request,Tuple{ZMQ.Socket,IJulia.Msg}})\u001b[22m\u001b[22m\u001b[1m(\u001b[22m\u001b[22m\u001b[1m)\u001b[22m\u001b[22m at \u001b[1m/Users/blandry/.julia/v0.6/Compat/src/Compat.jl:332\u001b[22m\u001b[22m",
      " [4] \u001b[1meventloop\u001b[22m\u001b[22m\u001b[1m(\u001b[22m\u001b[22m::ZMQ.Socket\u001b[1m)\u001b[22m\u001b[22m at \u001b[1m/Users/blandry/.julia/v0.6/IJulia/src/eventloop.jl:8\u001b[22m\u001b[22m",
      " [5] \u001b[1m(::IJulia.##13#16)\u001b[22m\u001b[22m\u001b[1m(\u001b[22m\u001b[22m\u001b[1m)\u001b[22m\u001b[22m at \u001b[1m./task.jl:335\u001b[22m\u001b[22m"
     ]
    }
   ],
   "source": [
    "ts = cumsum([Δt for i in 1:N]);\n",
    "j = 11\n",
    "plot(traj_exp[j,:],label=\"explicit\")\n",
    "# plot!(traj_imp[j,:],label=\"implicit\")"
   ]
  },
  {
   "cell_type": "code",
   "execution_count": null,
   "metadata": {
    "collapsed": true
   },
   "outputs": [],
   "source": [
    "traj_imp"
   ]
  },
  {
   "cell_type": "code",
   "execution_count": null,
   "metadata": {
    "collapsed": true
   },
   "outputs": [],
   "source": [
    "maximum(traj_exp)"
   ]
  }
 ],
 "metadata": {
  "kernelspec": {
   "display_name": "Julia 0.6.4",
   "language": "julia",
   "name": "julia-0.6"
  },
  "language_info": {
   "file_extension": ".jl",
   "mimetype": "application/julia",
   "name": "julia",
   "version": "0.6.4"
  }
 },
 "nbformat": 4,
 "nbformat_minor": 2
}
