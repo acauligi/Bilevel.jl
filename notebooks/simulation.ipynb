{
 "cells": [
  {
   "cell_type": "code",
   "execution_count": 1,
   "metadata": {},
   "outputs": [
    {
     "data": {
      "text/html": [
       "    <script class='js-collapse-script'>\n",
       "        var curMatch =\n",
       "            window.location.href\n",
       "            .match(/(.*?)\\/notebooks\\/.*\\.ipynb/);\n",
       "\n",
       "        curMatch = curMatch ||\n",
       "            window.location.href\n",
       "            .match(/(.*?)\\/apps\\/.*\\.ipynb/);\n",
       "\n",
       "        if ( curMatch ) {\n",
       "            $('head').append('<base href=\"' + curMatch[1] + '/\">');\n",
       "        }\n",
       "    </script>\n"
      ],
      "text/plain": [
       "HTML{String}(\"    <script class='js-collapse-script'>\\n        var curMatch =\\n            window.location.href\\n            .match(/(.*?)\\\\/notebooks\\\\/.*\\\\.ipynb/);\\n\\n        curMatch = curMatch ||\\n            window.location.href\\n            .match(/(.*?)\\\\/apps\\\\/.*\\\\.ipynb/);\\n\\n        if ( curMatch ) {\\n            \\$('head').append('<base href=\\\"' + curMatch[1] + '/\\\">');\\n        }\\n    </script>\\n\")"
      ]
     },
     "metadata": {},
     "output_type": "display_data"
    },
    {
     "data": {
      "text/html": [
       "<script class='js-collapse-script' src='/assetserver/9dd84cf97c4fc16956f39829c81f3b6907c8fc83-assets/webio/dist/bundle.js'></script>"
      ],
      "text/plain": [
       "HTML{String}(\"<script class='js-collapse-script' src='/assetserver/9dd84cf97c4fc16956f39829c81f3b6907c8fc83-assets/webio/dist/bundle.js'></script>\")"
      ]
     },
     "metadata": {},
     "output_type": "display_data"
    },
    {
     "data": {
      "text/html": [
       "<script class='js-collapse-script' src='/assetserver/9dd84cf97c4fc16956f39829c81f3b6907c8fc83-assets/providers/ijulia_setup.js'></script>"
      ],
      "text/plain": [
       "HTML{String}(\"<script class='js-collapse-script' src='/assetserver/9dd84cf97c4fc16956f39829c81f3b6907c8fc83-assets/providers/ijulia_setup.js'></script>\")"
      ]
     },
     "metadata": {},
     "output_type": "display_data"
    },
    {
     "data": {
      "text/html": [
       "  <script class='js-collapse-script'>\n",
       "    $('.js-collapse-script').parent('.output_subarea').css('padding', '0');\n",
       "  </script>\n"
      ],
      "text/plain": [
       "HTML{String}(\"  <script class='js-collapse-script'>\\n    \\$('.js-collapse-script').parent('.output_subarea').css('padding', '0');\\n  </script>\\n\")"
      ]
     },
     "metadata": {},
     "output_type": "display_data"
    }
   ],
   "source": [
    "using Revise\n",
    "\n",
    "using RigidBodyDynamics\n",
    "using RigidBodyDynamics: Bounds\n",
    "\n",
    "using DrakeVisualizer\n",
    "using Plots\n",
    "using RigidBodyTreeInspector\n",
    "\n",
    "using BilevelTrajOpt\n",
    "gr(size=(500,500), html_output_format=:png);"
   ]
  },
  {
   "cell_type": "code",
   "execution_count": 2,
   "metadata": {},
   "outputs": [],
   "source": [
    "urdf = joinpath(\"..\", \"urdf\", \"ball.urdf\")\n",
    "mechanism = parse_urdf(Float64, urdf)\n",
    "body = findbody(mechanism, \"ball\")\n",
    "basejoint = joint_to_parent(body, mechanism)\n",
    "floatingjoint = Joint(basejoint.name, frame_before(basejoint), frame_after(basejoint), QuaternionFloating{Float64}())\n",
    "replace_joint!(mechanism, basejoint, floatingjoint)\n",
    "position_bounds(floatingjoint) .= Bounds(-100, 100)\n",
    "velocity_bounds(floatingjoint) .= Bounds(-100, 100)\n",
    "env = parse_contacts(mechanism, urdf, .5);\n",
    "x0 = MechanismState(mechanism)\n",
    "Δt = 0.01;"
   ]
  },
  {
   "cell_type": "code",
   "execution_count": 3,
   "metadata": {},
   "outputs": [
    {
     "name": "stdout",
     "output_type": "stream",
     "text": [
      "Explicit Contacts\n"
     ]
    },
    {
     "name": "stderr",
     "output_type": "stream",
     "text": [
      "WARNING: Method definition solve_implicit_contact_τ(Any, Any, Any, Any, Any, AbstractArray{T, N} where N, AbstractArray{T, N} where N) in module BilevelTrajOpt at /home/blandry/.julia/v0.6/BilevelTrajOpt/src/contact.jl:176 overwritten at /home/blandry/.julia/v0.6/BilevelTrajOpt/src/contact.jl:176.\n",
      "WARNING: Method definition #solve_implicit_contact_τ(Array{Any, 1}, typeof(BilevelTrajOpt.solve_implicit_contact_τ), Any, Any, Any, Any, Any, AbstractArray{T, N} where N, AbstractArray{T, N} where N) in module BilevelTrajOpt overwritten.\n"
     ]
    },
    {
     "data": {
      "text/plain": [
       "6-element Array{Float64,1}:\n",
       " -4.11889e-40\n",
       "  8.27181e-25\n",
       "  5.9533e-52 \n",
       "  7.12718e-7 \n",
       " -7.14088e-22\n",
       " -2.23189e-6 "
      ]
     },
     "metadata": {},
     "output_type": "display_data"
    },
    {
     "data": {
      "text/plain": [
       "20-element Array{Float64,1}:\n",
       "  1.0        \n",
       "  5.33477e-44\n",
       " -4.17619e-53\n",
       "  4.3649e-49 \n",
       "  0.0025     \n",
       "  7.10673e-26\n",
       "  0.024019   \n",
       "  1.06695e-41\n",
       " -5.34553e-51\n",
       "  8.72981e-47\n",
       "  0.25       \n",
       "  7.10673e-24\n",
       " -0.0981     \n",
       "  0.0        \n",
       "  3.38564e-9 \n",
       "  1.14489e-8 \n",
       "  7.60378e-8 \n",
       "  1.14489e-8 \n",
       "  0.252931   \n",
       "  2.27511e-7 "
      ]
     },
     "metadata": {},
     "output_type": "display_data"
    },
    {
     "name": "stdout",
     "output_type": "stream",
     "text": [
      "\n",
      "******************************************************************************\n",
      "This program contains Ipopt, a library for large-scale nonlinear optimization.\n",
      " Ipopt is released as open source code under the Eclipse Public License (EPL).\n",
      "         For more information visit http://projects.coin-or.org/Ipopt\n",
      "******************************************************************************\n",
      "\n",
      "Solve_Succeeded\n"
     ]
    },
    {
     "data": {
      "text/plain": [
       "6-element Array{Float64,1}:\n",
       "  4.03428e-40\n",
       "  3.30872e-24\n",
       "  3.18481e-51\n",
       "  1.35271e-6 \n",
       "  5.84254e-22\n",
       " -3.47235e-6 "
      ]
     },
     "metadata": {},
     "output_type": "display_data"
    },
    {
     "data": {
      "text/plain": [
       "20-element Array{Float64,1}:\n",
       "  1.0        \n",
       "  9.17191e-44\n",
       " -1.65436e-28\n",
       "  9.70031e-48\n",
       "  0.005      \n",
       "  8.28229e-26\n",
       "  0.022057   \n",
       "  7.67429e-42\n",
       " -3.30872e-26\n",
       "  1.85276e-45\n",
       "  0.25       \n",
       "  1.17556e-24\n",
       " -0.1962     \n",
       "  0.0        \n",
       "  2.54842e-9 \n",
       "  1.13182e-8 \n",
       "  1.4044e-7  \n",
       "  1.13182e-8 \n",
       "  0.257682   \n",
       "  3.5396e-7  "
      ]
     },
     "metadata": {},
     "output_type": "display_data"
    },
    {
     "name": "stdout",
     "output_type": "stream",
     "text": [
      "Solve_Succeeded\n"
     ]
    },
    {
     "data": {
      "text/plain": [
       "6-element Array{Float64,1}:\n",
       " -6.60789e-40\n",
       " -3.30872e-24\n",
       "  6.79926e-51\n",
       "  1.47431e-6 \n",
       "  1.83391e-21\n",
       " -3.87522e-6 "
      ]
     },
     "metadata": {},
     "output_type": "display_data"
    },
    {
     "data": {
      "text/plain": [
       "20-element Array{Float64,1}:\n",
       "  1.0        \n",
       "  1.1697e-43 \n",
       " -3.30872e-28\n",
       " -1.70773e-46\n",
       "  0.0075     \n",
       " -8.93218e-26\n",
       "  0.019114   \n",
       "  5.05017e-42\n",
       " -3.30872e-26\n",
       " -3.60948e-44\n",
       "  0.25       \n",
       " -1.72145e-23\n",
       " -0.2943     \n",
       "  0.0        \n",
       "  4.5396e-9  \n",
       "  1.2749e-8  \n",
       "  1.54826e-7 \n",
       "  1.2749e-8  \n",
       "  0.25578    \n",
       "  3.95027e-7 "
      ]
     },
     "metadata": {},
     "output_type": "display_data"
    },
    {
     "data": {
      "text/plain": [
       "6-element Array{Float64,1}:\n",
       " -4.6721e-41 \n",
       "  0.0        \n",
       "  6.86347e-51\n",
       "  5.66653e-7 \n",
       "  2.2721e-22 \n",
       " -2.5101e-6  "
      ]
     },
     "metadata": {},
     "output_type": "display_data"
    },
    {
     "data": {
      "text/plain": [
       "20-element Array{Float64,1}:\n",
       "  1.0        \n",
       "  1.36717e-43\n",
       " -3.30872e-28\n",
       " -3.51163e-46\n",
       "  0.01       \n",
       " -2.84175e-25\n",
       "  0.01519    \n",
       "  3.9494e-42 \n",
       " -2.86986e-41\n",
       " -3.60779e-44\n",
       "  0.25       \n",
       " -1.94853e-23\n",
       " -0.3924     \n",
       "  0.0        \n",
       " -1.67001e-9 \n",
       "  2.48169e-8 \n",
       "  5.60928e-8 \n",
       "  2.48169e-8 \n",
       "  0.258628   \n",
       "  2.55872e-7 "
      ]
     },
     "metadata": {},
     "output_type": "display_data"
    },
    {
     "name": "stdout",
     "output_type": "stream",
     "text": [
      "Solve_Succeeded\n",
      "Solve_Succeeded\n"
     ]
    },
    {
     "data": {
      "text/plain": [
       "6-element Array{Float64,1}:\n",
       " -2.26455e-40\n",
       "  0.0        \n",
       "  8.66412e-51\n",
       "  9.37671e-7 \n",
       "  3.89503e-22\n",
       " -3.44304e-6 "
      ]
     },
     "metadata": {},
     "output_type": "display_data"
    },
    {
     "data": {
      "text/plain": [
       "20-element Array{Float64,1}:\n",
       "  1.0        \n",
       "  1.00657e-43\n",
       " -3.30872e-28\n",
       " -5.31795e-46\n",
       "  0.0125     \n",
       " -5.20466e-25\n",
       "  0.010285   \n",
       " -7.21205e-42\n",
       " -2.86986e-41\n",
       " -3.61263e-44\n",
       "  0.25       \n",
       " -2.36292e-23\n",
       " -0.4905     \n",
       "  0.0        \n",
       "  3.31536e-9 \n",
       "  2.43604e-8 \n",
       "  9.88986e-8 \n",
       "  2.43604e-8 \n",
       "  0.253722   \n",
       "  3.50972e-7 "
      ]
     },
     "metadata": {},
     "output_type": "display_data"
    },
    {
     "data": {
      "text/plain": [
       "6-element Array{Float64,1}:\n",
       " -2.94647e-40\n",
       "  0.0        \n",
       "  1.91187e-50\n",
       "  5.2128e-6  \n",
       " -1.00622e-21\n",
       " -1.14921e-5 "
      ]
     },
     "metadata": {},
     "output_type": "display_data"
    },
    {
     "data": {
      "text/plain": [
       "20-element Array{Float64,1}:\n",
       "  1.0        \n",
       "  5.54547e-44\n",
       " -3.30872e-28\n",
       " -7.11412e-46\n",
       "  0.015      \n",
       " -6.55953e-25\n",
       "  0.00439901 \n",
       " -9.0404e-42 \n",
       " -2.86986e-41\n",
       " -3.59234e-44\n",
       "  0.25       \n",
       " -1.35486e-23\n",
       " -0.5886     \n",
       "  0.0        \n",
       "  5.41897e-9 \n",
       "  1.4473e-8  \n",
       "  5.36795e-7 \n",
       "  1.4473e-8  \n",
       "  0.253018   \n",
       "  1.17147e-6 "
      ]
     },
     "metadata": {},
     "output_type": "display_data"
    },
    {
     "name": "stdout",
     "output_type": "stream",
     "text": [
      "Solve_Succeeded\n",
      "Solve_Succeeded\n"
     ]
    },
    {
     "data": {
      "text/plain": [
       "6-element Array{Float64,1}:\n",
       "   0.0        \n",
       "   0.0        \n",
       "   5.76371e-45\n",
       "  12.3399     \n",
       "  -1.51121e-15\n",
       " -24.6799     "
      ]
     },
     "metadata": {},
     "output_type": "display_data"
    },
    {
     "data": {
      "text/plain": [
       "20-element Array{Float64,1}:\n",
       "  1.0        \n",
       "  1.02527e-44\n",
       " -3.30872e-28\n",
       " -8.9132e-46 \n",
       "  0.016266   \n",
       "  1.5112e-19 \n",
       " -1.40034e-9 \n",
       " -9.0404e-42 \n",
       " -2.86986e-41\n",
       " -3.59817e-44\n",
       "  0.1266     \n",
       "  1.51121e-17\n",
       " -0.439901   \n",
       "  0.0        \n",
       "  2.47791e-8 \n",
       "  2.93062e-8 \n",
       "  1.25789    \n",
       "  2.93062e-8 \n",
       "  0.1266     \n",
       "  2.51579    "
      ]
     },
     "metadata": {},
     "output_type": "display_data"
    },
    {
     "name": "stdout",
     "output_type": "stream",
     "text": [
      "Solve_Succeeded\n"
     ]
    },
    {
     "data": {
      "text/plain": [
       "6-element Array{Float64,1}:\n",
       "   0.0        \n",
       "   0.0        \n",
       "  -6.65494e-44\n",
       "  12.66       \n",
       "   1.36141e-15\n",
       " -53.8001     "
      ]
     },
     "metadata": {},
     "output_type": "display_data"
    },
    {
     "data": {
      "text/plain": [
       "20-element Array{Float64,1}:\n",
       "  1.0        \n",
       " -3.49493e-44\n",
       " -3.30872e-28\n",
       " -1.0679e-45 \n",
       "  0.016266   \n",
       "  1.51127e-19\n",
       " -4.08825e-9 \n",
       " -9.0404e-42 \n",
       " -2.86986e-41\n",
       " -3.53162e-44\n",
       "  7.50696e-9 \n",
       "  6.42133e-22\n",
       " -2.68792e-7 \n",
       "  0.0        \n",
       "  0.38959    \n",
       "  0.226423   \n",
       "  1.68011    \n",
       "  0.226423   \n",
       "  6.97269e-9 \n",
       "  5.48421    "
      ]
     },
     "metadata": {},
     "output_type": "display_data"
    },
    {
     "name": "stdout",
     "output_type": "stream",
     "text": [
      "Solve_Succeeded\n"
     ]
    },
    {
     "data": {
      "text/plain": [
       "6-element Array{Float64,1}:\n",
       "  0.0        \n",
       "  0.0        \n",
       " -2.65606e-44\n",
       "  1.19494e-6 \n",
       "  1.57258e-42\n",
       " -9.81005    "
      ]
     },
     "metadata": {},
     "output_type": "display_data"
    },
    {
     "data": {
      "text/plain": [
       "20-element Array{Float64,1}:\n",
       "  1.0        \n",
       " -8.01513e-44\n",
       " -3.30872e-28\n",
       " -1.24315e-45\n",
       "  0.016266   \n",
       "  1.51132e-19\n",
       " -1.96562e-9 \n",
       " -9.0404e-42 \n",
       " -2.86986e-41\n",
       " -3.50506e-44\n",
       " -4.44246e-9 \n",
       "  5.14179e-22\n",
       "  2.12264e-7 \n",
       "  0.0        \n",
       "  0.17398    \n",
       "  0.0495435  \n",
       "  0.17398    \n",
       "  0.0495435  \n",
       "  3.42896e-8 \n",
       "  1.0        "
      ]
     },
     "metadata": {},
     "output_type": "display_data"
    },
    {
     "data": {
      "text/plain": [
       "6-element Array{Float64,1}:\n",
       "  0.0        \n",
       "  0.0        \n",
       " -4.09862e-44\n",
       " -4.44362e-7 \n",
       "  2.45943e-42\n",
       " -9.81001    "
      ]
     },
     "metadata": {},
     "output_type": "display_data"
    },
    {
     "data": {
      "text/plain": [
       "20-element Array{Float64,1}:\n",
       "  1.0        \n",
       " -1.25353e-43\n",
       " -3.30872e-28\n",
       " -1.41636e-45\n",
       "  0.016266   \n",
       "  1.51126e-19\n",
       "  8.65291e-10\n",
       " -9.0404e-42 \n",
       " -2.86986e-41\n",
       " -3.46408e-44\n",
       "  1.15344e-12\n",
       " -5.88014e-22\n",
       "  2.83091e-7 \n",
       "  0.0        \n",
       "  0.17399    \n",
       "  0.0495334  \n",
       "  0.17399    \n",
       "  0.0495334  \n",
       "  2.71512e-8 \n",
       "  1.0        "
      ]
     },
     "metadata": {},
     "output_type": "display_data"
    },
    {
     "name": "stdout",
     "output_type": "stream",
     "text": [
      "Solve_Succeeded\n",
      "Solve_Succeeded\n",
      "Implicit Contacts\n"
     ]
    },
    {
     "ename": "LoadError",
     "evalue": "\u001b[91mUndefVarError: num_contacts not defined\u001b[39m",
     "output_type": "error",
     "traceback": [
      "\u001b[91mUndefVarError: num_contacts not defined\u001b[39m",
      "",
      "Stacktrace:",
      " [1] \u001b[1m(::BilevelTrajOpt.#eval_g#66{BilevelTrajOpt.SimData,Array{Float64,1},Array{Float64,1},Array{Float64,1},Array{Float64,1},Symmetric{Float64,Array{Float64,2}}})\u001b[22m\u001b[22m\u001b[1m(\u001b[22m\u001b[22m::Array{ForwardDiff.Dual{ForwardDiff.Tag{BilevelTrajOpt.##65#71{BilevelTrajOpt.#eval_g#66{BilevelTrajOpt.SimData,Array{Float64,1},Array{Float64,1},Array{Float64,1},Array{Float64,1},Symmetric{Float64,Array{Float64,2}}}},Float64},Float64,7},1}, ::Array{ForwardDiff.Dual{ForwardDiff.Tag{BilevelTrajOpt.##65#71{BilevelTrajOpt.#eval_g#66{BilevelTrajOpt.SimData,Array{Float64,1},Array{Float64,1},Array{Float64,1},Array{Float64,1},Symmetric{Float64,Array{Float64,2}}}},Float64},Float64,7},1}\u001b[1m)\u001b[22m\u001b[22m at \u001b[1m/home/blandry/.julia/v0.6/BilevelTrajOpt/src/simulation.jl:104\u001b[22m\u001b[22m",
      " [2] \u001b[1mchunk_mode_jacobian\u001b[22m\u001b[22m\u001b[1m(\u001b[22m\u001b[22m::BilevelTrajOpt.##65#71{BilevelTrajOpt.#eval_g#66{BilevelTrajOpt.SimData,Array{Float64,1},Array{Float64,1},Array{Float64,1},Array{Float64,1},Symmetric{Float64,Array{Float64,2}}}}, ::Array{Float64,1}, ::Array{Float64,1}, ::ForwardDiff.JacobianConfig{ForwardDiff.Tag{BilevelTrajOpt.##65#71{BilevelTrajOpt.#eval_g#66{BilevelTrajOpt.SimData,Array{Float64,1},Array{Float64,1},Array{Float64,1},Array{Float64,1},Symmetric{Float64,Array{Float64,2}}}},Float64},Float64,7,Tuple{Array{ForwardDiff.Dual{ForwardDiff.Tag{BilevelTrajOpt.##65#71{BilevelTrajOpt.#eval_g#66{BilevelTrajOpt.SimData,Array{Float64,1},Array{Float64,1},Array{Float64,1},Array{Float64,1},Symmetric{Float64,Array{Float64,2}}}},Float64},Float64,7},1},Array{ForwardDiff.Dual{ForwardDiff.Tag{BilevelTrajOpt.##65#71{BilevelTrajOpt.#eval_g#66{BilevelTrajOpt.SimData,Array{Float64,1},Array{Float64,1},Array{Float64,1},Array{Float64,1},Symmetric{Float64,Array{Float64,2}}}},Float64},Float64,7},1}}}\u001b[1m)\u001b[22m\u001b[22m at \u001b[1m/home/blandry/.julia/v0.6/ForwardDiff/src/jacobian.jl:212\u001b[22m\u001b[22m",
      " [3] \u001b[1mjacobian\u001b[22m\u001b[22m\u001b[1m(\u001b[22m\u001b[22m::Function, ::Array{Float64,1}, ::Array{Float64,1}, ::ForwardDiff.JacobianConfig{ForwardDiff.Tag{BilevelTrajOpt.##65#71{BilevelTrajOpt.#eval_g#66{BilevelTrajOpt.SimData,Array{Float64,1},Array{Float64,1},Array{Float64,1},Array{Float64,1},Symmetric{Float64,Array{Float64,2}}}},Float64},Float64,7,Tuple{Array{ForwardDiff.Dual{ForwardDiff.Tag{BilevelTrajOpt.##65#71{BilevelTrajOpt.#eval_g#66{BilevelTrajOpt.SimData,Array{Float64,1},Array{Float64,1},Array{Float64,1},Array{Float64,1},Symmetric{Float64,Array{Float64,2}}}},Float64},Float64,7},1},Array{ForwardDiff.Dual{ForwardDiff.Tag{BilevelTrajOpt.##65#71{BilevelTrajOpt.#eval_g#66{BilevelTrajOpt.SimData,Array{Float64,1},Array{Float64,1},Array{Float64,1},Array{Float64,1},Symmetric{Float64,Array{Float64,2}}}},Float64},Float64,7},1}}}, ::Val{true}\u001b[1m)\u001b[22m\u001b[22m at \u001b[1m/home/blandry/.julia/v0.6/ForwardDiff/src/jacobian.jl:36\u001b[22m\u001b[22m",
      " [4] \u001b[1mjacobian\u001b[22m\u001b[22m\u001b[1m(\u001b[22m\u001b[22m::Function, ::Array{Float64,1}, ::Array{Float64,1}, ::ForwardDiff.JacobianConfig{ForwardDiff.Tag{BilevelTrajOpt.##65#71{BilevelTrajOpt.#eval_g#66{BilevelTrajOpt.SimData,Array{Float64,1},Array{Float64,1},Array{Float64,1},Array{Float64,1},Symmetric{Float64,Array{Float64,2}}}},Float64},Float64,7,Tuple{Array{ForwardDiff.Dual{ForwardDiff.Tag{BilevelTrajOpt.##65#71{BilevelTrajOpt.#eval_g#66{BilevelTrajOpt.SimData,Array{Float64,1},Array{Float64,1},Array{Float64,1},Array{Float64,1},Symmetric{Float64,Array{Float64,2}}}},Float64},Float64,7},1},Array{ForwardDiff.Dual{ForwardDiff.Tag{BilevelTrajOpt.##65#71{BilevelTrajOpt.#eval_g#66{BilevelTrajOpt.SimData,Array{Float64,1},Array{Float64,1},Array{Float64,1},Array{Float64,1},Symmetric{Float64,Array{Float64,2}}}},Float64},Float64,7},1}}}\u001b[1m)\u001b[22m\u001b[22m at \u001b[1m/home/blandry/.julia/v0.6/ForwardDiff/src/jacobian.jl:32\u001b[22m\u001b[22m (repeats 2 times)",
      " [5] \u001b[1m(::BilevelTrajOpt.#eval_jac_g#70{BilevelTrajOpt.SimData,BilevelTrajOpt.#eval_g#66{BilevelTrajOpt.SimData,Array{Float64,1},Array{Float64,1},Array{Float64,1},Array{Float64,1},Symmetric{Float64,Array{Float64,2}}}})\u001b[22m\u001b[22m\u001b[1m(\u001b[22m\u001b[22m::Array{Float64,1}, ::Symbol, ::Array{Int32,1}, ::Array{Int32,1}, ::Array{Float64,1}\u001b[1m)\u001b[22m\u001b[22m at \u001b[1m/home/blandry/.julia/v0.6/BilevelTrajOpt/src/simulation.jl:140\u001b[22m\u001b[22m",
      " [6] \u001b[1meval_jac_g_wrapper\u001b[22m\u001b[22m\u001b[1m(\u001b[22m\u001b[22m::Int32, ::Ptr{Float64}, ::Int32, ::Int32, ::Int32, ::Ptr{Int32}, ::Ptr{Int32}, ::Ptr{Float64}, ::Ptr{Void}\u001b[1m)\u001b[22m\u001b[22m at \u001b[1m/home/blandry/.julia/v0.6/Ipopt/src/Ipopt.jl:142\u001b[22m\u001b[22m",
      " [7] \u001b[1msolveProblem\u001b[22m\u001b[22m\u001b[1m(\u001b[22m\u001b[22m::Ipopt.IpoptProblem\u001b[1m)\u001b[22m\u001b[22m at \u001b[1m/home/blandry/.julia/v0.6/Ipopt/src/Ipopt.jl:318\u001b[22m\u001b[22m",
      " [8] \u001b[1m#simulate#72\u001b[22m\u001b[22m\u001b[1m(\u001b[22m\u001b[22m::Bool, ::Function, ::RigidBodyDynamics.MechanismState{Float64,Float64,Float64,TypeSortedCollections.TypeSortedCollection{Tuple{Array{RigidBodyDynamics.Joint{Float64,RigidBodyDynamics.Fixed{Float64}},1},Array{RigidBodyDynamics.Joint{Float64,RigidBodyDynamics.QuaternionFloating{Float64}},1}},2}}, ::BilevelTrajOpt.Environment{Float64}, ::Float64, ::Int64\u001b[1m)\u001b[22m\u001b[22m at \u001b[1m/home/blandry/.julia/v0.6/BilevelTrajOpt/src/simulation.jl:250\u001b[22m\u001b[22m",
      " [9] \u001b[1m(::BilevelTrajOpt.#kw##simulate)\u001b[22m\u001b[22m\u001b[1m(\u001b[22m\u001b[22m::Array{Any,1}, ::BilevelTrajOpt.#simulate, ::RigidBodyDynamics.MechanismState{Float64,Float64,Float64,TypeSortedCollections.TypeSortedCollection{Tuple{Array{RigidBodyDynamics.Joint{Float64,RigidBodyDynamics.Fixed{Float64}},1},Array{RigidBodyDynamics.Joint{Float64,RigidBodyDynamics.QuaternionFloating{Float64}},1}},2}}, ::BilevelTrajOpt.Environment{Float64}, ::Float64, ::Int64\u001b[1m)\u001b[22m\u001b[22m at \u001b[1m./<missing>:0\u001b[22m\u001b[22m",
      " [10] \u001b[1minclude_string\u001b[22m\u001b[22m\u001b[1m(\u001b[22m\u001b[22m::String, ::String\u001b[1m)\u001b[22m\u001b[22m at \u001b[1m./loading.jl:522\u001b[22m\u001b[22m",
      " [11] \u001b[1mexecute_request\u001b[22m\u001b[22m\u001b[1m(\u001b[22m\u001b[22m::ZMQ.Socket, ::IJulia.Msg\u001b[1m)\u001b[22m\u001b[22m at \u001b[1m/home/blandry/.julia/v0.6/IJulia/src/execute_request.jl:193\u001b[22m\u001b[22m",
      " [12] \u001b[1m(::Compat.#inner#14{Array{Any,1},IJulia.#execute_request,Tuple{ZMQ.Socket,IJulia.Msg}})\u001b[22m\u001b[22m\u001b[1m(\u001b[22m\u001b[22m\u001b[1m)\u001b[22m\u001b[22m at \u001b[1m/home/blandry/.julia/v0.6/Compat/src/Compat.jl:332\u001b[22m\u001b[22m",
      " [13] \u001b[1meventloop\u001b[22m\u001b[22m\u001b[1m(\u001b[22m\u001b[22m::ZMQ.Socket\u001b[1m)\u001b[22m\u001b[22m at \u001b[1m/home/blandry/.julia/v0.6/IJulia/src/eventloop.jl:8\u001b[22m\u001b[22m",
      " [14] \u001b[1m(::IJulia.##13#16)\u001b[22m\u001b[22m\u001b[1m(\u001b[22m\u001b[22m\u001b[1m)\u001b[22m\u001b[22m at \u001b[1m./task.jl:335\u001b[22m\u001b[22m"
     ]
    }
   ],
   "source": [
    "q0 = [1., 0., 0., 0., 0., 0., .025]\n",
    "v0 = [0., 0., 0., .25, 0. , 0.]\n",
    "N = 10\n",
    "\n",
    "set_configuration!(x0, q0)\n",
    "set_velocity!(x0, v0)\n",
    "setdirty!(x0)\n",
    "\n",
    "println(\"Explicit Contacts\")\n",
    "traj_exp = BilevelTrajOpt.simulate(x0,env,Δt,N,implicit_contact=false);\n",
    "println(\"Implicit Contacts\")\n",
    "traj_imp = BilevelTrajOpt.simulate(x0,env,Δt,N,implicit_contact=true);"
   ]
  },
  {
   "cell_type": "code",
   "execution_count": null,
   "metadata": {},
   "outputs": [],
   "source": [
    "ts = cumsum([Δt for i in 1:N]);\n",
    "plot(traj_exp[11,:],label=\"explicit\")\n",
    "plot!(traj_imp[11,:],label=\"implicit\")"
   ]
  },
  {
   "cell_type": "code",
   "execution_count": null,
   "metadata": {},
   "outputs": [],
   "source": [
    "# display(traj_exp[1:7,8])\n",
    "# display(traj_exp[8:13,8])\n",
    "display(traj_exp[1:7,9])\n",
    "display(traj_exp[8:13,9])"
   ]
  },
  {
   "cell_type": "code",
   "execution_count": null,
   "metadata": {},
   "outputs": [],
   "source": [
    "# display(traj_imp[1:7,8])\n",
    "# display(traj_imp[8:13,8])\n",
    "display(traj_imp[1:7,9])\n",
    "display(traj_imp[8:13,9])"
   ]
  },
  {
   "cell_type": "code",
   "execution_count": null,
   "metadata": {},
   "outputs": [],
   "source": [
    "display(traj_exp[8:13,5:9])\n",
    "display(traj_imp[8:13,5:9])"
   ]
  },
  {
   "cell_type": "code",
   "execution_count": null,
   "metadata": {},
   "outputs": [],
   "source": [
    "println(traj_exp[7+6+1:end,9])\n",
    "# println(traj_imp[7+6+1:end,9])"
   ]
  },
  {
   "cell_type": "code",
   "execution_count": null,
   "metadata": {},
   "outputs": [],
   "source": [
    "display(\"explicit\")\n",
    "display(traj_exp[14:end,9])\n",
    "display(\"implicit\")\n",
    "display(traj_imp[14:end,9])"
   ]
  },
  {
   "cell_type": "code",
   "execution_count": null,
   "metadata": {},
   "outputs": [],
   "source": [
    "println(traj_imp[14:end,9])"
   ]
  },
  {
   "cell_type": "code",
   "execution_count": null,
   "metadata": {},
   "outputs": [],
   "source": [
    "DrakeVisualizer.any_open_windows() || (DrakeVisualizer.new_window(); sleep(1));\n",
    "geometries = visual_elements(mechanism, URDFVisuals(urdf))\n",
    "vis = Visualizer(mechanism, geometries);"
   ]
  },
  {
   "cell_type": "code",
   "execution_count": null,
   "metadata": {},
   "outputs": [],
   "source": [
    "traj = traj_exp\n",
    "qs = [traj[1:num_positions(x0),i] for i in 1:N]\n",
    "ts = cumsum([Δt for i in 1:N]);\n",
    "RigidBodyTreeInspector.animate(vis, mechanism, ts, qs; realtimerate = .25);"
   ]
  }
 ],
 "metadata": {
  "kernelspec": {
   "display_name": "Julia 0.6.4",
   "language": "julia",
   "name": "julia-0.6"
  },
  "language_info": {
   "file_extension": ".jl",
   "mimetype": "application/julia",
   "name": "julia",
   "version": "0.6.4"
  }
 },
 "nbformat": 4,
 "nbformat_minor": 2
}
