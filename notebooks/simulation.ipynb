{
 "cells": [
  {
   "cell_type": "code",
   "execution_count": 2,
   "metadata": {
    "collapsed": false
   },
   "outputs": [],
   "source": [
    "using Revise\n",
    "\n",
    "using RigidBodyDynamics\n",
    "using RigidBodyDynamics: Bounds\n",
    "\n",
    "using DrakeVisualizer\n",
    "using Plots\n",
    "using RigidBodyTreeInspector\n",
    "\n",
    "using BilevelTrajOpt\n",
    "gr(size=(500,500), html_output_format=:png);"
   ]
  },
  {
   "cell_type": "code",
   "execution_count": 3,
   "metadata": {
    "collapsed": true
   },
   "outputs": [],
   "source": [
    "urdf = joinpath(\"..\", \"urdf\", \"ball.urdf\")\n",
    "mechanism = parse_urdf(Float64, urdf)\n",
    "body = findbody(mechanism, \"ball\")\n",
    "basejoint = joint_to_parent(body, mechanism)\n",
    "floatingjoint = Joint(basejoint.name, frame_before(basejoint), frame_after(basejoint), QuaternionFloating{Float64}())\n",
    "replace_joint!(mechanism, basejoint, floatingjoint)\n",
    "position_bounds(floatingjoint) .= Bounds(-100, 100)\n",
    "velocity_bounds(floatingjoint) .= Bounds(-100, 100)\n",
    "env = parse_contacts(mechanism, urdf, .5);\n",
    "x0 = MechanismState(mechanism)\n",
    "Δt = 0.01;"
   ]
  },
  {
   "cell_type": "code",
   "execution_count": 4,
   "metadata": {
    "collapsed": false
   },
   "outputs": [
    {
     "name": "stdout",
     "output_type": "stream",
     "text": [
      "Explicit Contacts\n",
      "\n",
      "******************************************************************************\n",
      "This program contains Ipopt, a library for large-scale nonlinear optimization.\n",
      " Ipopt is released as open source code under the Eclipse Public License (EPL).\n",
      "         For more information visit http://projects.coin-or.org/Ipopt\n",
      "******************************************************************************\n",
      "\n",
      "Solve_Succeeded\n",
      "Solve_Succeeded\n",
      "Solve_Succeeded\n",
      "Solve_Succeeded\n",
      "Solve_Succeeded\n",
      "Solve_Succeeded\n",
      "Solve_Succeeded\n",
      "Solve_Succeeded\n",
      "Solve_Succeeded\n",
      "Solve_Succeeded\n",
      "Implicit Contacts\n",
      "Solve_Succeeded\n",
      "Solve_Succeeded\n",
      "Solve_Succeeded\n",
      "Solve_Succeeded\n",
      "Solve_Succeeded\n",
      "Solve_Succeeded\n"
     ]
    },
    {
     "ename": "LoadError",
     "evalue": "\u001b[91mInterruptException:\u001b[39m",
     "output_type": "error",
     "traceback": [
      "\u001b[91mInterruptException:\u001b[39m",
      "",
      "Stacktrace:",
      " [1] \u001b[1m_methods_by_ftype\u001b[22m\u001b[22m\u001b[1m(\u001b[22m\u001b[22m::Any, ::Int64, ::UInt64, ::Array{UInt64,1}, ::Array{UInt64,1}\u001b[1m)\u001b[22m\u001b[22m at \u001b[1m./reflection.jl:521\u001b[22m\u001b[22m",
      " [2] \u001b[1m_methods_by_ftype\u001b[22m\u001b[22m\u001b[1m(\u001b[22m\u001b[22m::Any, ::Int64, ::UInt64\u001b[1m)\u001b[22m\u001b[22m at \u001b[1m./reflection.jl:507\u001b[22m\u001b[22m",
      " [3] \u001b[1m_methods\u001b[22m\u001b[22m\u001b[1m(\u001b[22m\u001b[22m::ANY, ::ANY, ::Int64, ::UInt64\u001b[1m)\u001b[22m\u001b[22m at \u001b[1m./reflection.jl:503\u001b[22m\u001b[22m",
      " [4] \u001b[1mreturn_type\u001b[22m\u001b[22m\u001b[1m(\u001b[22m\u001b[22m::Any, ::Any\u001b[1m)\u001b[22m\u001b[22m at \u001b[1m./inference.jl:5401\u001b[22m\u001b[22m",
      " [5] \u001b[1mbroadcast_c\u001b[22m\u001b[22m at \u001b[1m./broadcast.jl:312\u001b[22m\u001b[22m [inlined]",
      " [6] \u001b[1mbroadcast\u001b[22m\u001b[22m\u001b[1m(\u001b[22m\u001b[22m::Function, ::Array{Any,1}, ::Array{ForwardDiff.Dual{ForwardDiff.Tag{BilevelTrajOpt.##11#12{Array{Float64,1},Array{Float64,2},Int64,BilevelTrajOpt.##57#60{BilevelTrajOpt.SimData,Array{Float64,1},Array{Float64,2},Array{Float64,1}},BilevelTrajOpt.##58#61{BilevelTrajOpt.SimData,Array{Tuple{RigidBodyDynamics.Spatial.Transform3D{Float64},RigidBodyDynamics.Spatial.Transform3D{Float64}},1},Array{RigidBodyDynamics.Spatial.GeometricJacobian{Array{Float64,2}},1},Array{Float64,1},Array{Float64,1}},BilevelTrajOpt.##59#62{BilevelTrajOpt.SimData,Array{Float64,2}}},Float64},ForwardDiff.Dual{ForwardDiff.Tag{BilevelTrajOpt.##11#12{Array{Float64,1},Array{Float64,2},Int64,BilevelTrajOpt.##57#60{BilevelTrajOpt.SimData,Array{Float64,1},Array{Float64,2},Array{Float64,1}},BilevelTrajOpt.##58#61{BilevelTrajOpt.SimData,Array{Tuple{RigidBodyDynamics.Spatial.Transform3D{Float64},RigidBodyDynamics.Spatial.Transform3D{Float64}},1},Array{RigidBodyDynamics.Spatial.GeometricJacobian{Array{Float64,2}},1},Array{Float64,1},Array{Float64,1}},BilevelTrajOpt.##59#62{BilevelTrajOpt.SimData,Array{Float64,2}}},Float64},Float64,6},6},1}\u001b[1m)\u001b[22m\u001b[22m at \u001b[1m./broadcast.jl:455\u001b[22m\u001b[22m",
      " [7] \u001b[1mcomplementarity_contact_constraints\u001b[22m\u001b[22m\u001b[1m(\u001b[22m\u001b[22m::Array{ForwardDiff.Dual{ForwardDiff.Tag{BilevelTrajOpt.##11#12{Array{Float64,1},Array{Float64,2},Int64,BilevelTrajOpt.##57#60{BilevelTrajOpt.SimData,Array{Float64,1},Array{Float64,2},Array{Float64,1}},BilevelTrajOpt.##58#61{BilevelTrajOpt.SimData,Array{Tuple{RigidBodyDynamics.Spatial.Transform3D{Float64},RigidBodyDynamics.Spatial.Transform3D{Float64}},1},Array{RigidBodyDynamics.Spatial.GeometricJacobian{Array{Float64,2}},1},Array{Float64,1},Array{Float64,1}},BilevelTrajOpt.##59#62{BilevelTrajOpt.SimData,Array{Float64,2}}},Float64},ForwardDiff.Dual{ForwardDiff.Tag{BilevelTrajOpt.##11#12{Array{Float64,1},Array{Float64,2},Int64,BilevelTrajOpt.##57#60{BilevelTrajOpt.SimData,Array{Float64,1},Array{Float64,2},Array{Float64,1}},BilevelTrajOpt.##58#61{BilevelTrajOpt.SimData,Array{Tuple{RigidBodyDynamics.Spatial.Transform3D{Float64},RigidBodyDynamics.Spatial.Transform3D{Float64}},1},Array{RigidBodyDynamics.Spatial.GeometricJacobian{Array{Float64,2}},1},Array{Float64,1},Array{Float64,1}},BilevelTrajOpt.##59#62{BilevelTrajOpt.SimData,Array{Float64,2}}},Float64},Float64,6},6},1}, ::Array{Float64,1}, ::Array{Float64,2}, ::BilevelTrajOpt.SimData\u001b[1m)\u001b[22m\u001b[22m at \u001b[1m/Users/blandry/.julia/v0.6/BilevelTrajOpt/src/contact.jl:80\u001b[22m\u001b[22m",
      " [8] \u001b[1m#57\u001b[22m\u001b[22m at \u001b[1m/Users/blandry/.julia/v0.6/BilevelTrajOpt/src/contact.jl:153\u001b[22m\u001b[22m [inlined]",
      " [9] \u001b[1mL\u001b[22m\u001b[22m\u001b[1m(\u001b[22m\u001b[22m::Array{ForwardDiff.Dual{ForwardDiff.Tag{BilevelTrajOpt.##11#12{Array{Float64,1},Array{Float64,2},Int64,BilevelTrajOpt.##57#60{BilevelTrajOpt.SimData,Array{Float64,1},Array{Float64,2},Array{Float64,1}},BilevelTrajOpt.##58#61{BilevelTrajOpt.SimData,Array{Tuple{RigidBodyDynamics.Spatial.Transform3D{Float64},RigidBodyDynamics.Spatial.Transform3D{Float64}},1},Array{RigidBodyDynamics.Spatial.GeometricJacobian{Array{Float64,2}},1},Array{Float64,1},Array{Float64,1}},BilevelTrajOpt.##59#62{BilevelTrajOpt.SimData,Array{Float64,2}}},Float64},ForwardDiff.Dual{ForwardDiff.Tag{BilevelTrajOpt.##11#12{Array{Float64,1},Array{Float64,2},Int64,BilevelTrajOpt.##57#60{BilevelTrajOpt.SimData,Array{Float64,1},Array{Float64,2},Array{Float64,1}},BilevelTrajOpt.##58#61{BilevelTrajOpt.SimData,Array{Tuple{RigidBodyDynamics.Spatial.Transform3D{Float64},RigidBodyDynamics.Spatial.Transform3D{Float64}},1},Array{RigidBodyDynamics.Spatial.GeometricJacobian{Array{Float64,2}},1},Array{Float64,1},Array{Float64,1}},BilevelTrajOpt.##59#62{BilevelTrajOpt.SimData,Array{Float64,2}}},Float64},Float64,6},6},1}, ::Array{Float64,1}, ::Array{Float64,2}, ::Int64, ::BilevelTrajOpt.##57#60{BilevelTrajOpt.SimData,Array{Float64,1},Array{Float64,2},Array{Float64,1}}, ::BilevelTrajOpt.##58#61{BilevelTrajOpt.SimData,Array{Tuple{RigidBodyDynamics.Spatial.Transform3D{Float64},RigidBodyDynamics.Spatial.Transform3D{Float64}},1},Array{RigidBodyDynamics.Spatial.GeometricJacobian{Array{Float64,2}},1},Array{Float64,1},Array{Float64,1}}, ::BilevelTrajOpt.##59#62{BilevelTrajOpt.SimData,Array{Float64,2}}\u001b[1m)\u001b[22m\u001b[22m at \u001b[1m/Users/blandry/.julia/v0.6/BilevelTrajOpt/src/bilevel.jl:9\u001b[22m\u001b[22m",
      " [10] \u001b[1m(::BilevelTrajOpt.##11#12{Array{Float64,1},Array{Float64,2},Int64,BilevelTrajOpt.##57#60{BilevelTrajOpt.SimData,Array{Float64,1},Array{Float64,2},Array{Float64,1}},BilevelTrajOpt.##58#61{BilevelTrajOpt.SimData,Array{Tuple{RigidBodyDynamics.Spatial.Transform3D{Float64},RigidBodyDynamics.Spatial.Transform3D{Float64}},1},Array{RigidBodyDynamics.Spatial.GeometricJacobian{Array{Float64,2}},1},Array{Float64,1},Array{Float64,1}},BilevelTrajOpt.##59#62{BilevelTrajOpt.SimData,Array{Float64,2}}})\u001b[22m\u001b[22m\u001b[1m(\u001b[22m\u001b[22m::Array{ForwardDiff.Dual{ForwardDiff.Tag{BilevelTrajOpt.##11#12{Array{Float64,1},Array{Float64,2},Int64,BilevelTrajOpt.##57#60{BilevelTrajOpt.SimData,Array{Float64,1},Array{Float64,2},Array{Float64,1}},BilevelTrajOpt.##58#61{BilevelTrajOpt.SimData,Array{Tuple{RigidBodyDynamics.Spatial.Transform3D{Float64},RigidBodyDynamics.Spatial.Transform3D{Float64}},1},Array{RigidBodyDynamics.Spatial.GeometricJacobian{Array{Float64,2}},1},Array{Float64,1},Array{Float64,1}},BilevelTrajOpt.##59#62{BilevelTrajOpt.SimData,Array{Float64,2}}},Float64},ForwardDiff.Dual{ForwardDiff.Tag{BilevelTrajOpt.##11#12{Array{Float64,1},Array{Float64,2},Int64,BilevelTrajOpt.##57#60{BilevelTrajOpt.SimData,Array{Float64,1},Array{Float64,2},Array{Float64,1}},BilevelTrajOpt.##58#61{BilevelTrajOpt.SimData,Array{Tuple{RigidBodyDynamics.Spatial.Transform3D{Float64},RigidBodyDynamics.Spatial.Transform3D{Float64}},1},Array{RigidBodyDynamics.Spatial.GeometricJacobian{Array{Float64,2}},1},Array{Float64,1},Array{Float64,1}},BilevelTrajOpt.##59#62{BilevelTrajOpt.SimData,Array{Float64,2}}},Float64},Float64,6},6},1}\u001b[1m)\u001b[22m\u001b[22m at \u001b[1m/Users/blandry/.julia/v0.6/BilevelTrajOpt/src/bilevel.jl:17\u001b[22m\u001b[22m",
      " [11] \u001b[1mvector_mode_gradient\u001b[22m\u001b[22m at \u001b[1m/Users/blandry/.julia/v0.6/ForwardDiff/src/gradient.jl:96\u001b[22m\u001b[22m [inlined]",
      " [12] \u001b[1mgradient\u001b[22m\u001b[22m\u001b[1m(\u001b[22m\u001b[22m::Function, ::Array{ForwardDiff.Dual{ForwardDiff.Tag{BilevelTrajOpt.##11#12{Array{Float64,1},Array{Float64,2},Int64,BilevelTrajOpt.##57#60{BilevelTrajOpt.SimData,Array{Float64,1},Array{Float64,2},Array{Float64,1}},BilevelTrajOpt.##58#61{BilevelTrajOpt.SimData,Array{Tuple{RigidBodyDynamics.Spatial.Transform3D{Float64},RigidBodyDynamics.Spatial.Transform3D{Float64}},1},Array{RigidBodyDynamics.Spatial.GeometricJacobian{Array{Float64,2}},1},Array{Float64,1},Array{Float64,1}},BilevelTrajOpt.##59#62{BilevelTrajOpt.SimData,Array{Float64,2}}},Float64},Float64,6},1}, ::ForwardDiff.GradientConfig{ForwardDiff.Tag{BilevelTrajOpt.##11#12{Array{Float64,1},Array{Float64,2},Int64,BilevelTrajOpt.##57#60{BilevelTrajOpt.SimData,Array{Float64,1},Array{Float64,2},Array{Float64,1}},BilevelTrajOpt.##58#61{BilevelTrajOpt.SimData,Array{Tuple{RigidBodyDynamics.Spatial.Transform3D{Float64},RigidBodyDynamics.Spatial.Transform3D{Float64}},1},Array{RigidBodyDynamics.Spatial.GeometricJacobian{Array{Float64,2}},1},Array{Float64,1},Array{Float64,1}},BilevelTrajOpt.##59#62{BilevelTrajOpt.SimData,Array{Float64,2}}},Float64},ForwardDiff.Dual{ForwardDiff.Tag{BilevelTrajOpt.##11#12{Array{Float64,1},Array{Float64,2},Int64,BilevelTrajOpt.##57#60{BilevelTrajOpt.SimData,Array{Float64,1},Array{Float64,2},Array{Float64,1}},BilevelTrajOpt.##58#61{BilevelTrajOpt.SimData,Array{Tuple{RigidBodyDynamics.Spatial.Transform3D{Float64},RigidBodyDynamics.Spatial.Transform3D{Float64}},1},Array{RigidBodyDynamics.Spatial.GeometricJacobian{Array{Float64,2}},1},Array{Float64,1},Array{Float64,1}},BilevelTrajOpt.##59#62{BilevelTrajOpt.SimData,Array{Float64,2}}},Float64},Float64,6},6,Array{ForwardDiff.Dual{ForwardDiff.Tag{BilevelTrajOpt.##11#12{Array{Float64,1},Array{Float64,2},Int64,BilevelTrajOpt.##57#60{BilevelTrajOpt.SimData,Array{Float64,1},Array{Float64,2},Array{Float64,1}},BilevelTrajOpt.##58#61{BilevelTrajOpt.SimData,Array{Tuple{RigidBodyDynamics.Spatial.Transform3D{Float64},RigidBodyDynamics.Spatial.Transform3D{Float64}},1},Array{RigidBodyDynamics.Spatial.GeometricJacobian{Array{Float64,2}},1},Array{Float64,1},Array{Float64,1}},BilevelTrajOpt.##59#62{BilevelTrajOpt.SimData,Array{Float64,2}}},Float64},ForwardDiff.Dual{ForwardDiff.Tag{BilevelTrajOpt.##11#12{Array{Float64,1},Array{Float64,2},Int64,BilevelTrajOpt.##57#60{BilevelTrajOpt.SimData,Array{Float64,1},Array{Float64,2},Array{Float64,1}},BilevelTrajOpt.##58#61{BilevelTrajOpt.SimData,Array{Tuple{RigidBodyDynamics.Spatial.Transform3D{Float64},RigidBodyDynamics.Spatial.Transform3D{Float64}},1},Array{RigidBodyDynamics.Spatial.GeometricJacobian{Array{Float64,2}},1},Array{Float64,1},Array{Float64,1}},BilevelTrajOpt.##59#62{BilevelTrajOpt.SimData,Array{Float64,2}}},Float64},Float64,6},6},1}}, ::Val{false}\u001b[1m)\u001b[22m\u001b[22m at \u001b[1m/Users/blandry/.julia/v0.6/ForwardDiff/src/gradient.jl:17\u001b[22m\u001b[22m",
      " [13] \u001b[1mvector_mode_jacobian\u001b[22m\u001b[22m\u001b[1m(\u001b[22m\u001b[22m::ForwardDiff.##71#72{BilevelTrajOpt.##11#12{Array{Float64,1},Array{Float64,2},Int64,BilevelTrajOpt.##57#60{BilevelTrajOpt.SimData,Array{Float64,1},Array{Float64,2},Array{Float64,1}},BilevelTrajOpt.##58#61{BilevelTrajOpt.SimData,Array{Tuple{RigidBodyDynamics.Spatial.Transform3D{Float64},RigidBodyDynamics.Spatial.Transform3D{Float64}},1},Array{RigidBodyDynamics.Spatial.GeometricJacobian{Array{Float64,2}},1},Array{Float64,1},Array{Float64,1}},BilevelTrajOpt.##59#62{BilevelTrajOpt.SimData,Array{Float64,2}}},ForwardDiff.HessianConfig{ForwardDiff.Tag{BilevelTrajOpt.##11#12{Array{Float64,1},Array{Float64,2},Int64,BilevelTrajOpt.##57#60{BilevelTrajOpt.SimData,Array{Float64,1},Array{Float64,2},Array{Float64,1}},BilevelTrajOpt.##58#61{BilevelTrajOpt.SimData,Array{Tuple{RigidBodyDynamics.Spatial.Transform3D{Float64},RigidBodyDynamics.Spatial.Transform3D{Float64}},1},Array{RigidBodyDynamics.Spatial.GeometricJacobian{Array{Float64,2}},1},Array{Float64,1},Array{Float64,1}},BilevelTrajOpt.##59#62{BilevelTrajOpt.SimData,Array{Float64,2}}},Float64},Float64,6,Array{ForwardDiff.Dual{ForwardDiff.Tag{BilevelTrajOpt.##11#12{Array{Float64,1},Array{Float64,2},Int64,BilevelTrajOpt.##57#60{BilevelTrajOpt.SimData,Array{Float64,1},Array{Float64,2},Array{Float64,1}},BilevelTrajOpt.##58#61{BilevelTrajOpt.SimData,Array{Tuple{RigidBodyDynamics.Spatial.Transform3D{Float64},RigidBodyDynamics.Spatial.Transform3D{Float64}},1},Array{RigidBodyDynamics.Spatial.GeometricJacobian{Array{Float64,2}},1},Array{Float64,1},Array{Float64,1}},BilevelTrajOpt.##59#62{BilevelTrajOpt.SimData,Array{Float64,2}}},Float64},ForwardDiff.Dual{ForwardDiff.Tag{BilevelTrajOpt.##11#12{Array{Float64,1},Array{Float64,2},Int64,BilevelTrajOpt.##57#60{BilevelTrajOpt.SimData,Array{Float64,1},Array{Float64,2},Array{Float64,1}},BilevelTrajOpt.##58#61{BilevelTrajOpt.SimData,Array{Tuple{RigidBodyDynamics.Spatial.Transform3D{Float64},RigidBodyDynamics.Spatial.Transform3D{Float64}},1},Array{RigidBodyDynamics.Spatial.GeometricJacobian{Array{Float64,2}},1},Array{Float64,1},Array{Float64,1}},BilevelTrajOpt.##59#62{BilevelTrajOpt.SimData,Array{Float64,2}}},Float64},Float64,6},6},1},Array{ForwardDiff.Dual{ForwardDiff.Tag{BilevelTrajOpt.##11#12{Array{Float64,1},Array{Float64,2},Int64,BilevelTrajOpt.##57#60{BilevelTrajOpt.SimData,Array{Float64,1},Array{Float64,2},Array{Float64,1}},BilevelTrajOpt.##58#61{BilevelTrajOpt.SimData,Array{Tuple{RigidBodyDynamics.Spatial.Transform3D{Float64},RigidBodyDynamics.Spatial.Transform3D{Float64}},1},Array{RigidBodyDynamics.Spatial.GeometricJacobian{Array{Float64,2}},1},Array{Float64,1},Array{Float64,1}},BilevelTrajOpt.##59#62{BilevelTrajOpt.SimData,Array{Float64,2}}},Float64},Float64,6},1}}}, ::Array{Float64,1}, ::ForwardDiff.JacobianConfig{ForwardDiff.Tag{BilevelTrajOpt.##11#12{Array{Float64,1},Array{Float64,2},Int64,BilevelTrajOpt.##57#60{BilevelTrajOpt.SimData,Array{Float64,1},Array{Float64,2},Array{Float64,1}},BilevelTrajOpt.##58#61{BilevelTrajOpt.SimData,Array{Tuple{RigidBodyDynamics.Spatial.Transform3D{Float64},RigidBodyDynamics.Spatial.Transform3D{Float64}},1},Array{RigidBodyDynamics.Spatial.GeometricJacobian{Array{Float64,2}},1},Array{Float64,1},Array{Float64,1}},BilevelTrajOpt.##59#62{BilevelTrajOpt.SimData,Array{Float64,2}}},Float64},Float64,6,Array{ForwardDiff.Dual{ForwardDiff.Tag{BilevelTrajOpt.##11#12{Array{Float64,1},Array{Float64,2},Int64,BilevelTrajOpt.##57#60{BilevelTrajOpt.SimData,Array{Float64,1},Array{Float64,2},Array{Float64,1}},BilevelTrajOpt.##58#61{BilevelTrajOpt.SimData,Array{Tuple{RigidBodyDynamics.Spatial.Transform3D{Float64},RigidBodyDynamics.Spatial.Transform3D{Float64}},1},Array{RigidBodyDynamics.Spatial.GeometricJacobian{Array{Float64,2}},1},Array{Float64,1},Array{Float64,1}},BilevelTrajOpt.##59#62{BilevelTrajOpt.SimData,Array{Float64,2}}},Float64},Float64,6},1}}\u001b[1m)\u001b[22m\u001b[22m at \u001b[1m/Users/blandry/.julia/v0.6/ForwardDiff/src/jacobian.jl:139\u001b[22m\u001b[22m",
      " [14] \u001b[1mjacobian\u001b[22m\u001b[22m\u001b[1m(\u001b[22m\u001b[22m::Function, ::Array{Float64,1}, ::ForwardDiff.JacobianConfig{ForwardDiff.Tag{BilevelTrajOpt.##11#12{Array{Float64,1},Array{Float64,2},Int64,BilevelTrajOpt.##57#60{BilevelTrajOpt.SimData,Array{Float64,1},Array{Float64,2},Array{Float64,1}},BilevelTrajOpt.##58#61{BilevelTrajOpt.SimData,Array{Tuple{RigidBodyDynamics.Spatial.Transform3D{Float64},RigidBodyDynamics.Spatial.Transform3D{Float64}},1},Array{RigidBodyDynamics.Spatial.GeometricJacobian{Array{Float64,2}},1},Array{Float64,1},Array{Float64,1}},BilevelTrajOpt.##59#62{BilevelTrajOpt.SimData,Array{Float64,2}}},Float64},Float64,6,Array{ForwardDiff.Dual{ForwardDiff.Tag{BilevelTrajOpt.##11#12{Array{Float64,1},Array{Float64,2},Int64,BilevelTrajOpt.##57#60{BilevelTrajOpt.SimData,Array{Float64,1},Array{Float64,2},Array{Float64,1}},BilevelTrajOpt.##58#61{BilevelTrajOpt.SimData,Array{Tuple{RigidBodyDynamics.Spatial.Transform3D{Float64},RigidBodyDynamics.Spatial.Transform3D{Float64}},1},Array{RigidBodyDynamics.Spatial.GeometricJacobian{Array{Float64,2}},1},Array{Float64,1},Array{Float64,1}},BilevelTrajOpt.##59#62{BilevelTrajOpt.SimData,Array{Float64,2}}},Float64},Float64,6},1}}, ::Val{false}\u001b[1m)\u001b[22m\u001b[22m at \u001b[1m/Users/blandry/.julia/v0.6/ForwardDiff/src/jacobian.jl:17\u001b[22m\u001b[22m",
      " [15] \u001b[1mhessian\u001b[22m\u001b[22m\u001b[1m(\u001b[22m\u001b[22m::Function, ::Array{Float64,1}, ::ForwardDiff.HessianConfig{ForwardDiff.Tag{BilevelTrajOpt.##11#12{Array{Float64,1},Array{Float64,2},Int64,BilevelTrajOpt.##57#60{BilevelTrajOpt.SimData,Array{Float64,1},Array{Float64,2},Array{Float64,1}},BilevelTrajOpt.##58#61{BilevelTrajOpt.SimData,Array{Tuple{RigidBodyDynamics.Spatial.Transform3D{Float64},RigidBodyDynamics.Spatial.Transform3D{Float64}},1},Array{RigidBodyDynamics.Spatial.GeometricJacobian{Array{Float64,2}},1},Array{Float64,1},Array{Float64,1}},BilevelTrajOpt.##59#62{BilevelTrajOpt.SimData,Array{Float64,2}}},Float64},Float64,6,Array{ForwardDiff.Dual{ForwardDiff.Tag{BilevelTrajOpt.##11#12{Array{Float64,1},Array{Float64,2},Int64,BilevelTrajOpt.##57#60{BilevelTrajOpt.SimData,Array{Float64,1},Array{Float64,2},Array{Float64,1}},BilevelTrajOpt.##58#61{BilevelTrajOpt.SimData,Array{Tuple{RigidBodyDynamics.Spatial.Transform3D{Float64},RigidBodyDynamics.Spatial.Transform3D{Float64}},1},Array{RigidBodyDynamics.Spatial.GeometricJacobian{Array{Float64,2}},1},Array{Float64,1},Array{Float64,1}},BilevelTrajOpt.##59#62{BilevelTrajOpt.SimData,Array{Float64,2}}},Float64},ForwardDiff.Dual{ForwardDiff.Tag{BilevelTrajOpt.##11#12{Array{Float64,1},Array{Float64,2},Int64,BilevelTrajOpt.##57#60{BilevelTrajOpt.SimData,Array{Float64,1},Array{Float64,2},Array{Float64,1}},BilevelTrajOpt.##58#61{BilevelTrajOpt.SimData,Array{Tuple{RigidBodyDynamics.Spatial.Transform3D{Float64},RigidBodyDynamics.Spatial.Transform3D{Float64}},1},Array{RigidBodyDynamics.Spatial.GeometricJacobian{Array{Float64,2}},1},Array{Float64,1},Array{Float64,1}},BilevelTrajOpt.##59#62{BilevelTrajOpt.SimData,Array{Float64,2}}},Float64},Float64,6},6},1},Array{ForwardDiff.Dual{ForwardDiff.Tag{BilevelTrajOpt.##11#12{Array{Float64,1},Array{Float64,2},Int64,BilevelTrajOpt.##57#60{BilevelTrajOpt.SimData,Array{Float64,1},Array{Float64,2},Array{Float64,1}},BilevelTrajOpt.##58#61{BilevelTrajOpt.SimData,Array{Tuple{RigidBodyDynamics.Spatial.Transform3D{Float64},RigidBodyDynamics.Spatial.Transform3D{Float64}},1},Array{RigidBodyDynamics.Spatial.GeometricJacobian{Array{Float64,2}},1},Array{Float64,1},Array{Float64,1}},BilevelTrajOpt.##59#62{BilevelTrajOpt.SimData,Array{Float64,2}}},Float64},Float64,6},1}}, ::Val{true}\u001b[1m)\u001b[22m\u001b[22m at \u001b[1m/Users/blandry/.julia/v0.6/ForwardDiff/src/hessian.jl:17\u001b[22m\u001b[22m",
      " [16] \u001b[1mhessian\u001b[22m\u001b[22m\u001b[1m(\u001b[22m\u001b[22m::Function, ::Array{Float64,1}, ::ForwardDiff.HessianConfig{ForwardDiff.Tag{BilevelTrajOpt.##11#12{Array{Float64,1},Array{Float64,2},Int64,BilevelTrajOpt.##57#60{BilevelTrajOpt.SimData,Array{Float64,1},Array{Float64,2},Array{Float64,1}},BilevelTrajOpt.##58#61{BilevelTrajOpt.SimData,Array{Tuple{RigidBodyDynamics.Spatial.Transform3D{Float64},RigidBodyDynamics.Spatial.Transform3D{Float64}},1},Array{RigidBodyDynamics.Spatial.GeometricJacobian{Array{Float64,2}},1},Array{Float64,1},Array{Float64,1}},BilevelTrajOpt.##59#62{BilevelTrajOpt.SimData,Array{Float64,2}}},Float64},Float64,6,Array{ForwardDiff.Dual{ForwardDiff.Tag{BilevelTrajOpt.##11#12{Array{Float64,1},Array{Float64,2},Int64,BilevelTrajOpt.##57#60{BilevelTrajOpt.SimData,Array{Float64,1},Array{Float64,2},Array{Float64,1}},BilevelTrajOpt.##58#61{BilevelTrajOpt.SimData,Array{Tuple{RigidBodyDynamics.Spatial.Transform3D{Float64},RigidBodyDynamics.Spatial.Transform3D{Float64}},1},Array{RigidBodyDynamics.Spatial.GeometricJacobian{Array{Float64,2}},1},Array{Float64,1},Array{Float64,1}},BilevelTrajOpt.##59#62{BilevelTrajOpt.SimData,Array{Float64,2}}},Float64},ForwardDiff.Dual{ForwardDiff.Tag{BilevelTrajOpt.##11#12{Array{Float64,1},Array{Float64,2},Int64,BilevelTrajOpt.##57#60{BilevelTrajOpt.SimData,Array{Float64,1},Array{Float64,2},Array{Float64,1}},BilevelTrajOpt.##58#61{BilevelTrajOpt.SimData,Array{Tuple{RigidBodyDynamics.Spatial.Transform3D{Float64},RigidBodyDynamics.Spatial.Transform3D{Float64}},1},Array{RigidBodyDynamics.Spatial.GeometricJacobian{Array{Float64,2}},1},Array{Float64,1},Array{Float64,1}},BilevelTrajOpt.##59#62{BilevelTrajOpt.SimData,Array{Float64,2}}},Float64},Float64,6},6},1},Array{ForwardDiff.Dual{ForwardDiff.Tag{BilevelTrajOpt.##11#12{Array{Float64,1},Array{Float64,2},Int64,BilevelTrajOpt.##57#60{BilevelTrajOpt.SimData,Array{Float64,1},Array{Float64,2},Array{Float64,1}},BilevelTrajOpt.##58#61{BilevelTrajOpt.SimData,Array{Tuple{RigidBodyDynamics.Spatial.Transform3D{Float64},RigidBodyDynamics.Spatial.Transform3D{Float64}},1},Array{RigidBodyDynamics.Spatial.GeometricJacobian{Array{Float64,2}},1},Array{Float64,1},Array{Float64,1}},BilevelTrajOpt.##59#62{BilevelTrajOpt.SimData,Array{Float64,2}}},Float64},Float64,6},1}}\u001b[1m)\u001b[22m\u001b[22m at \u001b[1m/Users/blandry/.julia/v0.6/ForwardDiff/src/hessian.jl:15\u001b[22m\u001b[22m (repeats 2 times)",
      " [17] \u001b[1mauglag_solve\u001b[22m\u001b[22m\u001b[1m(\u001b[22m\u001b[22m::Array{Float64,1}, ::Function, ::BilevelTrajOpt.##58#61{BilevelTrajOpt.SimData,Array{Tuple{RigidBodyDynamics.Spatial.Transform3D{Float64},RigidBodyDynamics.Spatial.Transform3D{Float64}},1},Array{RigidBodyDynamics.Spatial.GeometricJacobian{Array{Float64,2}},1},Array{Float64,1},Array{Float64,1}}, ::BilevelTrajOpt.##59#62{BilevelTrajOpt.SimData,Array{Float64,2}}, ::Int64, ::Int64, ::Array{Int64,1}, ::Array{Int64,1}, ::Array{Float64,1}\u001b[1m)\u001b[22m\u001b[22m at \u001b[1m/Users/blandry/.julia/v0.6/BilevelTrajOpt/src/bilevel.jl:28\u001b[22m\u001b[22m",
      " [18] \u001b[1m#solve_implicit_contact_τ#56\u001b[22m\u001b[22m\u001b[1m(\u001b[22m\u001b[22m::Bool, ::Array{Int64,1}, ::Array{Int64,1}, ::Array{Float64,1}, ::Function, ::BilevelTrajOpt.SimData, ::Array{Float64,1}, ::Array{Float64,2}, ::Array{Tuple{RigidBodyDynamics.Spatial.Transform3D{Float64},RigidBodyDynamics.Spatial.Transform3D{Float64}},1}, ::Array{RigidBodyDynamics.Spatial.GeometricJacobian{Array{Float64,2}},1}, ::Array{Float64,1}, ::Array{Float64,1}, ::Array{Float64,1}\u001b[1m)\u001b[22m\u001b[22m at \u001b[1m/Users/blandry/.julia/v0.6/BilevelTrajOpt/src/contact.jl:166\u001b[22m\u001b[22m",
      " [19] \u001b[1m(::BilevelTrajOpt.#eval_g#80{BilevelTrajOpt.SimData,Array{Float64,1},Array{Float64,1},Array{Float64,1},Array{Float64,1},Symmetric{Float64,Array{Float64,2}}})\u001b[22m\u001b[22m\u001b[1m(\u001b[22m\u001b[22m::Array{Float64,1}, ::Array{Float64,1}\u001b[1m)\u001b[22m\u001b[22m at \u001b[1m/Users/blandry/.julia/v0.6/BilevelTrajOpt/src/simulation.jl:120\u001b[22m\u001b[22m",
      " [20] \u001b[1meval_g_wrapper\u001b[22m\u001b[22m\u001b[1m(\u001b[22m\u001b[22m::Int32, ::Ptr{Float64}, ::Int32, ::Int32, ::Ptr{Float64}, ::Ptr{Void}\u001b[1m)\u001b[22m\u001b[22m at \u001b[1m/Users/blandry/.julia/v0.6/Ipopt/src/Ipopt.jl:117\u001b[22m\u001b[22m",
      " [21] \u001b[1msolveProblem\u001b[22m\u001b[22m\u001b[1m(\u001b[22m\u001b[22m::Ipopt.IpoptProblem\u001b[1m)\u001b[22m\u001b[22m at \u001b[1m/Users/blandry/.julia/v0.6/Ipopt/src/Ipopt.jl:322\u001b[22m\u001b[22m",
      " [22] \u001b[1m#simulate#86\u001b[22m\u001b[22m\u001b[1m(\u001b[22m\u001b[22m::Bool, ::Function, ::RigidBodyDynamics.MechanismState{Float64,Float64,Float64,TypeSortedCollections.TypeSortedCollection{Tuple{Array{RigidBodyDynamics.Joint{Float64,RigidBodyDynamics.Fixed{Float64}},1},Array{RigidBodyDynamics.Joint{Float64,RigidBodyDynamics.QuaternionFloating{Float64}},1}},2}}, ::BilevelTrajOpt.Environment{Float64}, ::Float64, ::Int64\u001b[1m)\u001b[22m\u001b[22m at \u001b[1m/Users/blandry/.julia/v0.6/BilevelTrajOpt/src/simulation.jl:247\u001b[22m\u001b[22m",
      " [23] \u001b[1m(::BilevelTrajOpt.#kw##simulate)\u001b[22m\u001b[22m\u001b[1m(\u001b[22m\u001b[22m::Array{Any,1}, ::BilevelTrajOpt.#simulate, ::RigidBodyDynamics.MechanismState{Float64,Float64,Float64,TypeSortedCollections.TypeSortedCollection{Tuple{Array{RigidBodyDynamics.Joint{Float64,RigidBodyDynamics.Fixed{Float64}},1},Array{RigidBodyDynamics.Joint{Float64,RigidBodyDynamics.QuaternionFloating{Float64}},1}},2}}, ::BilevelTrajOpt.Environment{Float64}, ::Float64, ::Int64\u001b[1m)\u001b[22m\u001b[22m at \u001b[1m./<missing>:0\u001b[22m\u001b[22m",
      " [24] \u001b[1minclude_string\u001b[22m\u001b[22m\u001b[1m(\u001b[22m\u001b[22m::String, ::String\u001b[1m)\u001b[22m\u001b[22m at \u001b[1m./loading.jl:522\u001b[22m\u001b[22m",
      " [25] \u001b[1mexecute_request\u001b[22m\u001b[22m\u001b[1m(\u001b[22m\u001b[22m::ZMQ.Socket, ::IJulia.Msg\u001b[1m)\u001b[22m\u001b[22m at \u001b[1m/Users/blandry/.julia/v0.6/IJulia/src/execute_request.jl:193\u001b[22m\u001b[22m",
      " [26] \u001b[1m(::Compat.#inner#14{Array{Any,1},IJulia.#execute_request,Tuple{ZMQ.Socket,IJulia.Msg}})\u001b[22m\u001b[22m\u001b[1m(\u001b[22m\u001b[22m\u001b[1m)\u001b[22m\u001b[22m at \u001b[1m/Users/blandry/.julia/v0.6/Compat/src/Compat.jl:332\u001b[22m\u001b[22m",
      " [27] \u001b[1meventloop\u001b[22m\u001b[22m\u001b[1m(\u001b[22m\u001b[22m::ZMQ.Socket\u001b[1m)\u001b[22m\u001b[22m at \u001b[1m/Users/blandry/.julia/v0.6/IJulia/src/eventloop.jl:8\u001b[22m\u001b[22m",
      " [28] \u001b[1m(::IJulia.##13#16)\u001b[22m\u001b[22m\u001b[1m(\u001b[22m\u001b[22m\u001b[1m)\u001b[22m\u001b[22m at \u001b[1m./task.jl:335\u001b[22m\u001b[22m"
     ]
    }
   ],
   "source": [
    "q0 = [1., 0., 0., 0., 0., 0., .025]\n",
    "v0 = [0., 0., 0., .25, 0. , 0.]\n",
    "N = 10\n",
    "\n",
    "set_configuration!(x0, q0)\n",
    "set_velocity!(x0, v0)\n",
    "setdirty!(x0)\n",
    "\n",
    "println(\"Explicit Contacts\")\n",
    "traj_exp = BilevelTrajOpt.simulate(x0,env,Δt,N,implicit_contact=false);\n",
    "println(\"Implicit Contacts\")\n",
    "traj_imp = BilevelTrajOpt.simulate(x0,env,Δt,N,implicit_contact=true);"
   ]
  },
  {
   "cell_type": "code",
   "execution_count": null,
   "metadata": {
    "collapsed": false
   },
   "outputs": [],
   "source": [
    "ts = cumsum([Δt for i in 1:N]);\n",
    "plot(traj_exp[11,:],label=\"explicit\")\n",
    "plot!(traj_imp[11,:],label=\"implicit\")"
   ]
  },
  {
   "cell_type": "code",
   "execution_count": null,
   "metadata": {
    "collapsed": true
   },
   "outputs": [],
   "source": [
    "DrakeVisualizer.any_open_windows() || (DrakeVisualizer.new_window(); sleep(1));\n",
    "geometries = visual_elements(mechanism, URDFVisuals(urdf))\n",
    "vis = Visualizer(mechanism, geometries);"
   ]
  },
  {
   "cell_type": "code",
   "execution_count": null,
   "metadata": {
    "collapsed": true
   },
   "outputs": [],
   "source": [
    "traj = traj_exp\n",
    "qs = [traj[1:num_positions(x0),i] for i in 1:N]\n",
    "ts = cumsum([Δt for i in 1:N]);\n",
    "RigidBodyTreeInspector.animate(vis, mechanism, ts, qs; realtimerate = .25);"
   ]
  }
 ],
 "metadata": {
  "kernelspec": {
   "display_name": "Julia 0.6.4",
   "language": "julia",
   "name": "julia-0.6"
  },
  "language_info": {
   "file_extension": ".jl",
   "mimetype": "application/julia",
   "name": "julia",
   "version": "0.6.4"
  }
 },
 "nbformat": 4,
 "nbformat_minor": 2
}
