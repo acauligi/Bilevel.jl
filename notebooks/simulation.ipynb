{
 "cells": [
  {
   "cell_type": "code",
   "execution_count": 5,
   "metadata": {},
   "outputs": [],
   "source": [
    "using Revise\n",
    "using BilevelTrajOpt\n",
    "\n",
    "using RigidBodyDynamics\n",
    "using Plots\n",
    "gr(size=(500,500), html_output_format=:png);"
   ]
  },
  {
   "cell_type": "code",
   "execution_count": 6,
   "metadata": {},
   "outputs": [],
   "source": [
    "urdf = joinpath(\"..\", \"urdf\", \"ball.urdf\")\n",
    "mechanism = parse_urdf(Float64, urdf)\n",
    "body = findbody(mechanism, \"ball\")\n",
    "basejoint = joint_to_parent(body, mechanism)\n",
    "floatingjoint = Joint(basejoint.name, frame_before(basejoint), frame_after(basejoint), QuaternionFloating{Float64}())\n",
    "replace_joint!(mechanism, basejoint, floatingjoint)\n",
    "position_bounds(floatingjoint) .= RigidBodyDynamics.Bounds(-100, 100)\n",
    "velocity_bounds(floatingjoint) .= RigidBodyDynamics.Bounds(-100, 100)\n",
    "μ = 0.5\n",
    "motion_type = :xyz\n",
    "point = Point3D(default_frame(findbody(mechanism, \"floor\")), [0.,0.,0.])\n",
    "normal = FreeVector3D(default_frame(findbody(mechanism, \"floor\")), [0.,0.,1.])\n",
    "hs = HalfSpace(point, normal)\n",
    "floor = Obstacle(hs, μ, motion_type)\n",
    "obstacles = [floor]\n",
    "env = parse_contacts(mechanism, urdf, obstacles)\n",
    "x0 = MechanismState(mechanism)\n",
    "Δt = 0.005;"
   ]
  },
  {
   "cell_type": "code",
   "execution_count": 7,
   "metadata": {},
   "outputs": [],
   "source": [
    "q0 = [1., 0., 0., 0., 0., 0., 0.0]\n",
    "v0 = [0., 0., 0., 0.1, 0. , 0.]\n",
    "N = 10\n",
    "\n",
    "set_configuration!(x0, q0)\n",
    "set_velocity!(x0, v0)\n",
    "setdirty!(x0)\n",
    "\n",
    "ctrl! = (u,t,x) -> u[:] .= 0.;"
   ]
  },
  {
   "cell_type": "code",
   "execution_count": null,
   "metadata": {},
   "outputs": [],
   "source": [
    "println(\"Explicit Contacts\")\n",
    "traj_exp = BilevelTrajOpt.simulate_ipopt(x0,env,Δt,N,ctrl!,implicit_contact=false);"
   ]
  },
  {
   "cell_type": "code",
   "execution_count": null,
   "metadata": {},
   "outputs": [],
   "source": [
    "println(\"Implicit Contacts\")\n",
    "traj_imp = BilevelTrajOpt.simulate_ipopt(x0,env,Δt,N,ctrl!,implicit_contact=true);"
   ]
  },
  {
   "cell_type": "code",
   "execution_count": 8,
   "metadata": {},
   "outputs": [
    {
     "name": "stdout",
     "output_type": "stream",
     "text": [
      "Explicit Contacts\n",
      " 11.381965 seconds (25.09 M allocations: 1.112 GiB, 4.95% gc time)\n",
      "  0.000661 seconds (1.76 k allocations: 272.844 KiB)\n",
      "  0.000692 seconds (1.76 k allocations: 272.844 KiB)\n",
      "  0.000379 seconds (1.76 k allocations: 272.844 KiB)\n",
      "  0.000398 seconds (1.76 k allocations: 272.844 KiB)\n",
      "  0.000360 seconds (1.76 k allocations: 272.844 KiB)\n",
      "Finished successfully: optimality conditions satisfied\n",
      "  0.000520 seconds (1.76 k allocations: 272.844 KiB)\n",
      "  0.000396 seconds (1.76 k allocations: 272.844 KiB)\n",
      "  0.000392 seconds (1.76 k allocations: 272.844 KiB)\n",
      "Finished successfully: optimality conditions satisfied\n",
      "  0.000493 seconds (1.76 k allocations: 272.844 KiB)\n",
      "  0.000334 seconds (1.76 k allocations: 272.844 KiB)\n",
      "  0.000317 seconds (1.76 k allocations: 272.844 KiB)\n",
      "Finished successfully: optimality conditions satisfied\n",
      "  0.000308 seconds (1.76 k allocations: 272.844 KiB)\n",
      "  0.000349 seconds (1.76 k allocations: 272.844 KiB)\n",
      "  0.000315 seconds (1.76 k allocations: 272.844 KiB)\n",
      "Finished successfully: optimality conditions satisfied\n",
      "  0.000310 seconds (1.76 k allocations: 272.844 KiB)\n",
      "  0.000319 seconds (1.76 k allocations: 272.844 KiB)\n",
      "  0.000311 seconds (1.76 k allocations: 272.844 KiB)\n",
      "The problem appears to be infeasible: nonlinear infeasibilities minimized\n",
      "  0.000316 seconds (1.76 k allocations: 272.844 KiB)\n",
      "  0.000335 seconds (1.76 k allocations: 272.844 KiB)\n",
      "  0.000329 seconds (1.76 k allocations: 272.844 KiB)\n",
      "Finished successfully: optimality conditions satisfied\n",
      "  0.000318 seconds (1.76 k allocations: 272.844 KiB)\n",
      "  0.000328 seconds (1.76 k allocations: 272.844 KiB)\n",
      "  0.000324 seconds (1.76 k allocations: 272.844 KiB)\n",
      "Finished successfully: optimality conditions satisfied\n",
      "  0.000318 seconds (1.76 k allocations: 272.844 KiB)\n",
      "  0.000334 seconds (1.76 k allocations: 272.844 KiB)\n",
      "  0.000338 seconds (1.76 k allocations: 272.844 KiB)\n",
      "Finished successfully: optimality conditions satisfied\n",
      "  0.000321 seconds (1.76 k allocations: 272.844 KiB)\n",
      "  0.000350 seconds (1.76 k allocations: 272.844 KiB)\n",
      "Finished successfully: optimality conditions satisfied\n",
      "  0.000324 seconds (1.76 k allocations: 272.844 KiB)\n",
      "  0.000331 seconds (1.76 k allocations: 272.844 KiB)\n",
      "Finished successfully: optimality conditions satisfied\n"
     ]
    }
   ],
   "source": [
    "println(\"Explicit Contacts\")\n",
    "traj_exp = BilevelTrajOpt.simulate_snopt(x0,env,Δt,N,ctrl!,implicit_contact=false);"
   ]
  },
  {
   "cell_type": "code",
   "execution_count": 15,
   "metadata": {},
   "outputs": [
    {
     "name": "stdout",
     "output_type": "stream",
     "text": [
      "Implicit Contacts\n",
      " 20.127121 seconds (24.92 M allocations: 1.196 GiB, 3.20% gc time)\n",
      "  0.229375 seconds (1.25 M allocations: 222.398 MiB, 19.41% gc time)\n",
      "  0.225802 seconds (1.25 M allocations: 222.399 MiB, 17.91% gc time)\n",
      "  0.222860 seconds (1.25 M allocations: 222.398 MiB, 18.15% gc time)\n",
      "  0.220371 seconds (1.25 M allocations: 222.398 MiB, 18.46% gc time)\n",
      "  0.221316 seconds (1.25 M allocations: 222.398 MiB, 18.48% gc time)\n",
      "  0.221393 seconds (1.25 M allocations: 222.398 MiB, 18.79% gc time)\n",
      "  0.260043 seconds (1.25 M allocations: 222.398 MiB, 16.44% gc time)\n",
      "  0.226488 seconds (1.25 M allocations: 222.398 MiB, 19.77% gc time)\n",
      "  0.219974 seconds (1.25 M allocations: 222.398 MiB, 18.54% gc time)\n",
      "  0.220265 seconds (1.25 M allocations: 222.398 MiB, 18.70% gc time)\n",
      "  0.220138 seconds (1.25 M allocations: 222.398 MiB, 18.84% gc time)\n",
      "  0.218972 seconds (1.25 M allocations: 222.398 MiB, 18.69% gc time)\n",
      "  0.221794 seconds (1.25 M allocations: 222.398 MiB, 18.71% gc time)\n",
      "  0.223991 seconds (1.25 M allocations: 222.398 MiB, 20.23% gc time)\n",
      "  0.219777 seconds (1.25 M allocations: 222.398 MiB, 18.53% gc time)\n",
      "  0.220415 seconds (1.25 M allocations: 222.398 MiB, 18.67% gc time)\n",
      "  0.220279 seconds (1.25 M allocations: 222.398 MiB, 18.81% gc time)\n",
      "  0.220548 seconds (1.25 M allocations: 222.398 MiB, 19.12% gc time)\n",
      "  0.220214 seconds (1.25 M allocations: 222.398 MiB, 18.95% gc time)\n",
      "  0.225036 seconds (1.25 M allocations: 222.398 MiB, 20.21% gc time)\n",
      "  0.219802 seconds (1.25 M allocations: 222.398 MiB, 18.67% gc time)\n",
      "  0.220187 seconds (1.25 M allocations: 222.398 MiB, 18.75% gc time)\n",
      "  0.220484 seconds (1.25 M allocations: 222.398 MiB, 18.95% gc time)\n",
      "  0.224444 seconds (1.25 M allocations: 222.398 MiB, 18.57% gc time)\n",
      "  0.222899 seconds (1.25 M allocations: 222.398 MiB, 18.71% gc time)\n",
      "  0.220086 seconds (1.25 M allocations: 222.398 MiB, 18.74% gc time)\n",
      "  0.227553 seconds (1.25 M allocations: 222.398 MiB, 20.00% gc time)\n",
      "  0.228154 seconds (1.25 M allocations: 222.398 MiB, 18.49% gc time)\n",
      "  0.226076 seconds (1.25 M allocations: 222.398 MiB, 18.35% gc time)\n",
      "  0.225320 seconds (1.25 M allocations: 222.398 MiB, 18.69% gc time)\n",
      "  0.220318 seconds (1.25 M allocations: 222.398 MiB, 19.26% gc time)\n",
      "  0.225244 seconds (1.25 M allocations: 222.398 MiB, 18.76% gc time)\n",
      "  0.224370 seconds (1.25 M allocations: 222.398 MiB, 20.41% gc time)\n",
      "  0.219722 seconds (1.25 M allocations: 222.398 MiB, 18.97% gc time)\n",
      "  0.223615 seconds (1.25 M allocations: 222.398 MiB, 18.61% gc time)\n",
      "  0.225157 seconds (1.25 M allocations: 222.398 MiB, 18.84% gc time)\n",
      "  0.220515 seconds (1.25 M allocations: 222.398 MiB, 19.27% gc time)\n",
      "  0.220794 seconds (1.25 M allocations: 222.398 MiB, 19.07% gc time)\n",
      "  0.225216 seconds (1.25 M allocations: 222.398 MiB, 20.32% gc time)\n",
      "  0.220641 seconds (1.25 M allocations: 222.398 MiB, 18.83% gc time)\n",
      "  0.221100 seconds (1.25 M allocations: 222.398 MiB, 18.96% gc time)\n",
      "  0.223105 seconds (1.25 M allocations: 222.398 MiB, 18.90% gc time)\n",
      "  0.222132 seconds (1.25 M allocations: 222.398 MiB, 19.37% gc time)\n",
      "  0.220719 seconds (1.25 M allocations: 222.398 MiB, 19.34% gc time)\n",
      "  0.220775 seconds (1.25 M allocations: 222.396 MiB, 18.95% gc time)\n",
      "  0.228467 seconds (1.25 M allocations: 222.399 MiB, 20.20% gc time)\n",
      "  0.369867 seconds (1.25 M allocations: 222.397 MiB, 50.29% gc time)\n",
      "  0.220041 seconds (1.25 M allocations: 222.399 MiB, 18.25% gc time)\n",
      "  0.221462 seconds (1.25 M allocations: 222.401 MiB, 18.22% gc time)\n",
      "  0.219514 seconds (1.25 M allocations: 222.401 MiB, 18.52% gc time)\n",
      "  0.219714 seconds (1.25 M allocations: 222.401 MiB, 18.22% gc time)\n",
      "  0.223277 seconds (1.25 M allocations: 222.401 MiB, 19.79% gc time)\n",
      "  0.219612 seconds (1.25 M allocations: 222.401 MiB, 18.32% gc time)\n",
      "  0.220041 seconds (1.25 M allocations: 222.398 MiB, 18.40% gc time)\n",
      "  0.220793 seconds (1.25 M allocations: 222.403 MiB, 18.57% gc time)\n",
      "  0.219403 seconds (1.25 M allocations: 222.400 MiB, 18.54% gc time)\n",
      "  0.221308 seconds (1.25 M allocations: 222.405 MiB, 18.37% gc time)\n",
      "  0.224029 seconds (1.25 M allocations: 222.398 MiB, 19.79% gc time)\n",
      "  0.219602 seconds (1.25 M allocations: 222.400 MiB, 18.23% gc time)\n",
      "Terminated after numerical difficulties: singular basis\n",
      "  0.219780 seconds (1.25 M allocations: 222.399 MiB, 18.38% gc time)\n",
      "  0.222995 seconds (1.25 M allocations: 222.399 MiB, 18.32% gc time)\n",
      "  0.219580 seconds (1.25 M allocations: 222.399 MiB, 18.71% gc time)\n",
      "  0.221528 seconds (1.25 M allocations: 222.399 MiB, 18.35% gc time)\n",
      "Terminated after numerical difficulties: singular basis\n",
      "  0.219525 seconds (1.25 M allocations: 222.399 MiB, 18.47% gc time)\n",
      "  0.219285 seconds (1.25 M allocations: 222.399 MiB, 18.30% gc time)\n",
      "  0.222197 seconds (1.25 M allocations: 222.399 MiB, 18.23% gc time)\n",
      "  0.218810 seconds (1.25 M allocations: 222.399 MiB, 18.64% gc time)\n",
      "Terminated after numerical difficulties: singular basis\n",
      "  0.218669 seconds (1.25 M allocations: 222.399 MiB, 18.88% gc time)\n",
      "  0.219505 seconds (1.25 M allocations: 222.399 MiB, 18.48% gc time)\n",
      "  0.222136 seconds (1.25 M allocations: 222.399 MiB, 18.53% gc time)\n",
      "  0.219398 seconds (1.25 M allocations: 222.399 MiB, 18.53% gc time)\n",
      "Terminated after numerical difficulties: singular basis\n",
      "  0.221529 seconds (1.25 M allocations: 222.399 MiB, 18.44% gc time)\n",
      "  0.228710 seconds (1.25 M allocations: 222.399 MiB, 18.60% gc time)\n",
      "  0.237185 seconds (1.25 M allocations: 222.399 MiB, 18.66% gc time)\n",
      "  0.227860 seconds (1.25 M allocations: 222.399 MiB, 18.32% gc time)\n",
      "Terminated after numerical difficulties: singular basis\n",
      "  0.226982 seconds (1.25 M allocations: 222.399 MiB, 18.47% gc time)\n",
      "  0.265654 seconds (1.25 M allocations: 222.399 MiB, 18.59% gc time)\n",
      "  0.232668 seconds (1.25 M allocations: 222.399 MiB, 18.65% gc time)\n",
      "  0.221683 seconds (1.25 M allocations: 222.399 MiB, 18.88% gc time)\n",
      "Terminated after numerical difficulties: singular basis\n",
      "  0.226401 seconds (1.25 M allocations: 222.399 MiB, 18.43% gc time)\n",
      "  0.219099 seconds (1.25 M allocations: 222.399 MiB, 18.70% gc time)\n",
      "  0.226188 seconds (1.25 M allocations: 222.399 MiB, 18.64% gc time)\n",
      "  0.241839 seconds (1.25 M allocations: 222.399 MiB, 20.13% gc time)\n",
      "Terminated after numerical difficulties: singular basis\n",
      "  0.254243 seconds (1.25 M allocations: 222.399 MiB, 18.43% gc time)\n",
      "  0.232739 seconds (1.25 M allocations: 222.399 MiB, 18.20% gc time)\n",
      "  0.224663 seconds (1.25 M allocations: 222.399 MiB, 18.94% gc time)\n",
      "  0.221603 seconds (1.25 M allocations: 222.399 MiB, 18.73% gc time)\n",
      "Terminated after numerical difficulties: singular basis\n",
      "  0.219236 seconds (1.25 M allocations: 222.399 MiB, 18.70% gc time)\n",
      "  0.222916 seconds (1.25 M allocations: 222.399 MiB, 20.21% gc time)\n",
      "  0.219094 seconds (1.25 M allocations: 222.399 MiB, 19.11% gc time)\n",
      "  0.220211 seconds (1.25 M allocations: 222.399 MiB, 18.86% gc time)\n",
      "Terminated after numerical difficulties: singular basis\n",
      "  0.256667 seconds (1.25 M allocations: 222.399 MiB, 18.70% gc time)\n",
      "  0.222198 seconds (1.25 M allocations: 222.399 MiB, 18.87% gc time)\n",
      "  0.219257 seconds (1.25 M allocations: 222.399 MiB, 18.75% gc time)\n",
      "  0.223544 seconds (1.25 M allocations: 222.399 MiB, 20.31% gc time)\n",
      "Terminated after numerical difficulties: singular basis\n"
     ]
    }
   ],
   "source": [
    "println(\"Implicit Contacts\")\n",
    "traj_imp = BilevelTrajOpt.simulate_snopt(x0,env,Δt,N,ctrl!,implicit_contact=true);"
   ]
  },
  {
   "cell_type": "code",
   "execution_count": 17,
   "metadata": {},
   "outputs": [
    {
     "data": {
      "image/png": "[encoded data removed]"
     },
     "execution_count": 17,
     "metadata": {},
     "output_type": "execute_result"
    }
   ],
   "source": [
    "ts = cumsum([Δt for i in 1:N]);\n",
    "j = 5\n",
    "plot(traj_exp[j,:],label=\"explicit\")\n",
    "plot!(traj_imp[j,:],label=\"implicit\")"
   ]
  }
 ],
 "metadata": {
  "kernelspec": {
   "display_name": "Julia 0.7.0",
   "language": "julia",
   "name": "julia-0.7"
  },
  "language_info": {
   "file_extension": ".jl",
   "mimetype": "application/julia",
   "name": "julia",
   "version": "0.7.0"
  }
 },
 "nbformat": 4,
 "nbformat_minor": 2
}
