{
 "cells": [
  {
   "cell_type": "code",
   "execution_count": 5,
   "metadata": {
    "collapsed": false
   },
   "outputs": [],
   "source": [
    "using Revise\n",
    "using BilevelTrajOpt\n",
    "\n",
    "using RigidBodyDynamics\n",
    "using Plots\n",
    "gr(size=(500,500), html_output_format=:png);"
   ]
  },
  {
   "cell_type": "code",
   "execution_count": 133,
   "metadata": {
    "collapsed": true
   },
   "outputs": [],
   "source": [
    "urdf = joinpath(\"..\", \"urdf\", \"ball.urdf\")\n",
    "mechanism = parse_urdf(Float64, urdf)\n",
    "body = findbody(mechanism, \"ball\")\n",
    "basejoint = joint_to_parent(body, mechanism)\n",
    "floatingjoint = Joint(basejoint.name, frame_before(basejoint), frame_after(basejoint), QuaternionFloating{Float64}())\n",
    "replace_joint!(mechanism, basejoint, floatingjoint)\n",
    "position_bounds(floatingjoint) .= RigidBodyDynamics.Bounds(-100, 100)\n",
    "velocity_bounds(floatingjoint) .= RigidBodyDynamics.Bounds(-100, 100)\n",
    "μ = 0.5\n",
    "motion_type = :xyz\n",
    "point = Point3D(default_frame(findbody(mechanism, \"floor\")), [0.,0.,0.])\n",
    "normal = FreeVector3D(default_frame(findbody(mechanism, \"floor\")), [0.,0.,1.])\n",
    "hs = HalfSpace(point, normal)\n",
    "floor = Obstacle(hs, μ, motion_type)\n",
    "obstacles = [floor]\n",
    "env = parse_contacts(mechanism, urdf, obstacles)\n",
    "x0 = MechanismState(mechanism)\n",
    "Δt = 0.005;"
   ]
  },
  {
   "cell_type": "code",
   "execution_count": 134,
   "metadata": {
    "collapsed": false
   },
   "outputs": [],
   "source": [
    "q0 = [1., 0., 0., 0., 0., 0., 0.0]\n",
    "v0 = [0., 0., 0., 0.1, 0. , 0.]\n",
    "N = 10\n",
    "\n",
    "set_configuration!(x0, q0)\n",
    "set_velocity!(x0, v0)\n",
    "setdirty!(x0)\n",
    "\n",
    "ctrl! = (u,t,x) -> u[:] .= 0.;"
   ]
  },
  {
   "cell_type": "code",
   "execution_count": null,
   "metadata": {
    "collapsed": false
   },
   "outputs": [],
   "source": [
    "println(\"Explicit Contacts\")\n",
    "traj_exp = BilevelTrajOpt.simulate_ipopt(x0,env,Δt,N,ctrl!,implicit_contact=false);"
   ]
  },
  {
   "cell_type": "code",
   "execution_count": null,
   "metadata": {
    "collapsed": false
   },
   "outputs": [],
   "source": [
    "println(\"Implicit Contacts\")\n",
    "traj_imp = BilevelTrajOpt.simulate_ipopt(x0,env,Δt,N,ctrl!,implicit_contact=true);"
   ]
  },
  {
   "cell_type": "code",
   "execution_count": 135,
   "metadata": {
    "collapsed": false
   },
   "outputs": [
    {
     "name": "stdout",
     "output_type": "stream",
     "text": [
      "Explicit Contacts\n",
      " 15.348131 seconds (22.49 M allocations: 1006.485 MiB, 8.85% gc time)\n",
      "  0.003967 seconds (1.76 k allocations: 272.844 KiB)\n",
      "  0.002333 seconds (1.76 k allocations: 272.844 KiB)\n",
      "  0.002160 seconds (1.76 k allocations: 272.844 KiB)\n",
      "  0.002159 seconds (1.76 k allocations: 272.844 KiB)\n",
      "  0.002840 seconds (1.76 k allocations: 272.844 KiB)\n",
      "Finished successfully: optimality conditions satisfied\n",
      "  0.003282 seconds (1.76 k allocations: 272.844 KiB)\n",
      "  0.002312 seconds (1.76 k allocations: 272.844 KiB)\n",
      "  0.002934 seconds (1.76 k allocations: 272.844 KiB)\n",
      "Finished successfully: optimality conditions satisfied\n",
      "  0.002536 seconds (1.76 k allocations: 272.844 KiB)\n",
      "  0.002349 seconds (1.76 k allocations: 272.844 KiB)\n",
      "  0.002712 seconds (1.76 k allocations: 272.844 KiB)\n",
      "Finished successfully: optimality conditions satisfied\n",
      "  0.003390 seconds (1.76 k allocations: 272.844 KiB)\n",
      "  0.002555 seconds (1.76 k allocations: 272.844 KiB)\n",
      "  0.003325 seconds (1.76 k allocations: 272.844 KiB)\n",
      "Finished successfully: optimality conditions satisfied\n",
      "  0.005784 seconds (1.76 k allocations: 272.844 KiB)\n",
      "  0.006103 seconds (1.76 k allocations: 272.844 KiB)\n",
      "  0.008574 seconds (1.76 k allocations: 272.844 KiB)\n",
      "The problem appears to be infeasible: nonlinear infeasibilities minimized\n",
      "  0.003577 seconds (1.76 k allocations: 272.844 KiB)\n",
      "  0.003643 seconds (1.76 k allocations: 272.844 KiB)\n",
      "  0.003402 seconds (1.76 k allocations: 272.844 KiB)\n",
      "Finished successfully: optimality conditions satisfied\n",
      "  0.002850 seconds (1.76 k allocations: 272.844 KiB)\n",
      "  0.003553 seconds (1.76 k allocations: 272.844 KiB)\n",
      "  0.003044 seconds (1.76 k allocations: 272.844 KiB)\n",
      "Finished successfully: optimality conditions satisfied\n",
      "  0.002760 seconds (1.76 k allocations: 272.844 KiB)\n",
      "  0.003054 seconds (1.76 k allocations: 272.844 KiB)\n",
      "  0.003063 seconds (1.76 k allocations: 272.844 KiB)\n",
      "Finished successfully: optimality conditions satisfied\n",
      "  0.003331 seconds (1.76 k allocations: 272.844 KiB)\n",
      "  0.003827 seconds (1.76 k allocations: 272.844 KiB)\n",
      "Finished successfully: optimality conditions satisfied\n",
      "  0.003789 seconds (1.76 k allocations: 272.844 KiB)\n",
      "  0.003803 seconds (1.76 k allocations: 272.844 KiB)\n",
      "Finished successfully: optimality conditions satisfied\n"
     ]
    }
   ],
   "source": [
    "println(\"Explicit Contacts\")\n",
    "traj_exp = BilevelTrajOpt.simulate_snopt(x0,env,Δt,N,ctrl!,implicit_contact=false);"
   ]
  },
  {
   "cell_type": "code",
   "execution_count": 149,
   "metadata": {
    "collapsed": false
   },
   "outputs": [
    {
     "name": "stdout",
     "output_type": "stream",
     "text": [
      "Implicit Contacts\n",
      " 54.129628 seconds (61.26 M allocations: 2.804 GiB, 8.99% gc time)\n",
      "  0.887579 seconds (1.25 M allocations: 228.728 MiB, 66.81% gc time)\n",
      "  0.498753 seconds (1.25 M allocations: 228.729 MiB, 40.46% gc time)\n",
      "  0.505273 seconds (1.25 M allocations: 228.728 MiB, 35.15% gc time)\n",
      "  0.508114 seconds (1.25 M allocations: 228.728 MiB, 38.33% gc time)\n",
      "  0.485169 seconds (1.25 M allocations: 228.728 MiB, 36.62% gc time)\n",
      "  0.516305 seconds (1.25 M allocations: 228.728 MiB, 39.50% gc time)\n",
      "Finished successfully: requested accuracy could not be achieved\n",
      "  0.487327 seconds (1.25 M allocations: 228.728 MiB, 36.75% gc time)\n",
      "  0.495996 seconds (1.25 M allocations: 228.728 MiB, 38.76% gc time)\n",
      "  0.485426 seconds (1.25 M allocations: 228.729 MiB, 36.99% gc time)\n",
      "  0.479917 seconds (1.25 M allocations: 228.728 MiB, 36.91% gc time)\n",
      "  0.515197 seconds (1.25 M allocations: 228.728 MiB, 38.65% gc time)\n",
      "  0.502319 seconds (1.25 M allocations: 228.728 MiB, 35.62% gc time)\n",
      "  0.494799 seconds (1.25 M allocations: 228.728 MiB, 39.78% gc time)\n",
      "Finished successfully: requested accuracy could not be achieved\n",
      "  0.513165 seconds (1.25 M allocations: 228.728 MiB, 35.33% gc time)\n",
      "  0.494987 seconds (1.25 M allocations: 228.728 MiB, 39.99% gc time)\n",
      "  0.495999 seconds (1.25 M allocations: 228.729 MiB, 37.20% gc time)\n",
      "  0.512916 seconds (1.25 M allocations: 228.728 MiB, 38.39% gc time)\n",
      "  0.493286 seconds (1.25 M allocations: 228.728 MiB, 37.12% gc time)\n",
      "  0.496713 seconds (1.25 M allocations: 228.728 MiB, 38.77% gc time)\n",
      "  0.474674 seconds (1.25 M allocations: 228.728 MiB, 38.05% gc time)\n",
      "Finished successfully: requested accuracy could not be achieved\n",
      "  0.476803 seconds (1.25 M allocations: 228.728 MiB, 37.05% gc time)\n",
      "  0.497684 seconds (1.25 M allocations: 228.728 MiB, 40.18% gc time)\n",
      "  0.481692 seconds (1.25 M allocations: 228.729 MiB, 36.33% gc time)\n",
      "  0.496653 seconds (1.25 M allocations: 228.728 MiB, 40.04% gc time)\n",
      "  0.475275 seconds (1.25 M allocations: 228.728 MiB, 36.88% gc time)\n",
      "  0.491548 seconds (1.25 M allocations: 228.728 MiB, 39.33% gc time)\n",
      "  0.483926 seconds (1.25 M allocations: 228.728 MiB, 36.04% gc time)\n",
      "Finished successfully: requested accuracy could not be achieved\n",
      "  0.496030 seconds (1.25 M allocations: 228.728 MiB, 39.94% gc time)\n",
      "  0.474408 seconds (1.25 M allocations: 228.728 MiB, 36.31% gc time)\n",
      "  0.473762 seconds (1.25 M allocations: 228.729 MiB, 37.70% gc time)\n",
      "  0.493779 seconds (1.25 M allocations: 228.728 MiB, 39.63% gc time)\n",
      "  0.471255 seconds (1.25 M allocations: 228.728 MiB, 37.44% gc time)\n",
      "  0.487639 seconds (1.25 M allocations: 228.728 MiB, 41.67% gc time)\n",
      "  0.501121 seconds (1.25 M allocations: 228.728 MiB, 35.82% gc time)\n",
      "Finished successfully: requested accuracy could not be achieved\n",
      "  0.538724 seconds (1.25 M allocations: 228.728 MiB, 39.24% gc time)\n",
      "  0.514421 seconds (1.25 M allocations: 228.728 MiB, 36.37% gc time)\n",
      "  0.543240 seconds (1.25 M allocations: 228.729 MiB, 36.76% gc time)\n",
      "  0.518891 seconds (1.25 M allocations: 228.728 MiB, 33.97% gc time)\n",
      "  0.500140 seconds (1.25 M allocations: 228.728 MiB, 40.64% gc time)\n",
      "  0.488682 seconds (1.25 M allocations: 228.728 MiB, 36.97% gc time)\n",
      "  0.480642 seconds (1.25 M allocations: 228.728 MiB, 37.01% gc time)\n",
      "Finished successfully: requested accuracy could not be achieved\n",
      "  0.498910 seconds (1.25 M allocations: 228.728 MiB, 39.74% gc time)\n",
      "  0.471564 seconds (1.25 M allocations: 228.728 MiB, 36.90% gc time)\n",
      "  0.493027 seconds (1.25 M allocations: 228.729 MiB, 39.73% gc time)\n",
      "  0.478000 seconds (1.25 M allocations: 228.728 MiB, 36.65% gc time)\n",
      "  0.493701 seconds (1.25 M allocations: 228.728 MiB, 39.40% gc time)\n",
      "  0.475950 seconds (1.25 M allocations: 228.728 MiB, 36.99% gc time)\n",
      "  0.503893 seconds (1.25 M allocations: 228.728 MiB, 39.48% gc time)\n",
      "Finished successfully: requested accuracy could not be achieved\n",
      "  0.477382 seconds (1.25 M allocations: 228.728 MiB, 37.74% gc time)\n",
      "  0.494866 seconds (1.25 M allocations: 228.728 MiB, 36.70% gc time)\n",
      "  0.494352 seconds (1.25 M allocations: 228.729 MiB, 39.33% gc time)\n",
      "  0.472019 seconds (1.25 M allocations: 228.728 MiB, 37.07% gc time)\n",
      "  0.484211 seconds (1.25 M allocations: 228.728 MiB, 40.46% gc time)\n",
      "  1.007431 seconds (1.25 M allocations: 228.728 MiB, 63.40% gc time)\n",
      "  0.769432 seconds (1.25 M allocations: 228.728 MiB, 33.81% gc time)\n",
      "Finished successfully: requested accuracy could not be achieved\n",
      "  0.570505 seconds (1.25 M allocations: 228.728 MiB, 33.43% gc time)\n",
      "  0.503163 seconds (1.25 M allocations: 228.728 MiB, 38.88% gc time)\n",
      "  0.479828 seconds (1.25 M allocations: 228.729 MiB, 37.32% gc time)\n",
      "  0.504893 seconds (1.25 M allocations: 228.728 MiB, 38.42% gc time)\n",
      "  0.474071 seconds (1.25 M allocations: 228.728 MiB, 36.73% gc time)\n",
      "  0.469916 seconds (1.25 M allocations: 228.728 MiB, 37.49% gc time)\n",
      "  0.497338 seconds (1.25 M allocations: 228.728 MiB, 39.79% gc time)\n",
      "Finished successfully: requested accuracy could not be achieved\n",
      "  0.478276 seconds (1.25 M allocations: 228.728 MiB, 36.04% gc time)\n",
      "  0.519562 seconds (1.25 M allocations: 228.728 MiB, 40.30% gc time)\n",
      "  0.503804 seconds (1.25 M allocations: 228.729 MiB, 36.45% gc time)\n",
      "  0.493066 seconds (1.25 M allocations: 228.728 MiB, 40.49% gc time)\n",
      "  0.502159 seconds (1.25 M allocations: 228.728 MiB, 35.86% gc time)\n",
      "  0.489754 seconds (1.25 M allocations: 228.728 MiB, 39.42% gc time)\n",
      "  0.478808 seconds (1.25 M allocations: 228.728 MiB, 36.50% gc time)\n",
      "Finished successfully: requested accuracy could not be achieved\n"
     ]
    }
   ],
   "source": [
    "println(\"Implicit Contacts\")\n",
    "traj_imp = BilevelTrajOpt.simulate_snopt(x0,env,Δt,N,ctrl!,implicit_contact=true);"
   ]
  },
  {
   "cell_type": "code",
   "execution_count": 150,
   "metadata": {
    "collapsed": false
   },
   "outputs": [
    {
     "data": {
      "image/png": "[encoded data removed]"
     },
     "execution_count": 150,
     "metadata": {},
     "output_type": "execute_result"
    }
   ],
   "source": [
    "ts = cumsum([Δt for i in 1:N]);\n",
    "j = 11\n",
    "plot(traj_exp[j,:],label=\"explicit\")\n",
    "plot!(traj_imp[j,:],label=\"implicit\")"
   ]
  }
 ],
 "metadata": {
  "kernelspec": {
   "display_name": "Julia 0.7.0",
   "language": "julia",
   "name": "julia-0.7"
  },
  "language_info": {
   "file_extension": ".jl",
   "mimetype": "application/julia",
   "name": "julia",
   "version": "0.7.0"
  }
 },
 "nbformat": 4,
 "nbformat_minor": 2
}
