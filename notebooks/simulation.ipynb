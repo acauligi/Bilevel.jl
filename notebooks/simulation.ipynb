{
 "cells": [
  {
   "cell_type": "code",
   "execution_count": 1,
   "metadata": {
    "collapsed": false
   },
   "outputs": [
    {
     "data": {
      "text/html": [
       "    <script class='js-collapse-script'>\n",
       "        var curMatch =\n",
       "            window.location.href\n",
       "            .match(/(.*?)\\/notebooks\\/.*\\.ipynb/);\n",
       "\n",
       "        curMatch = curMatch ||\n",
       "            window.location.href\n",
       "            .match(/(.*?)\\/apps\\/.*\\.ipynb/);\n",
       "\n",
       "        if ( curMatch ) {\n",
       "            $('head').append('<base href=\"' + curMatch[1] + '/\">');\n",
       "        }\n",
       "    </script>\n"
      ],
      "text/plain": [
       "HTML{String}(\"    <script class='js-collapse-script'>\\n        var curMatch =\\n            window.location.href\\n            .match(/(.*?)\\\\/notebooks\\\\/.*\\\\.ipynb/);\\n\\n        curMatch = curMatch ||\\n            window.location.href\\n            .match(/(.*?)\\\\/apps\\\\/.*\\\\.ipynb/);\\n\\n        if ( curMatch ) {\\n            \\$('head').append('<base href=\\\"' + curMatch[1] + '/\\\">');\\n        }\\n    </script>\\n\")"
      ]
     },
     "metadata": {},
     "output_type": "display_data"
    },
    {
     "data": {
      "text/html": [
       "<script class='js-collapse-script' src='/assetserver/8c8a043c2f00369f3e7ae550277d2a54e59a34ad-assets/webio/dist/bundle.js'></script>"
      ],
      "text/plain": [
       "HTML{String}(\"<script class='js-collapse-script' src='/assetserver/8c8a043c2f00369f3e7ae550277d2a54e59a34ad-assets/webio/dist/bundle.js'></script>\")"
      ]
     },
     "metadata": {},
     "output_type": "display_data"
    },
    {
     "data": {
      "text/html": [
       "<script class='js-collapse-script' src='/assetserver/8c8a043c2f00369f3e7ae550277d2a54e59a34ad-assets/providers/ijulia_setup.js'></script>"
      ],
      "text/plain": [
       "HTML{String}(\"<script class='js-collapse-script' src='/assetserver/8c8a043c2f00369f3e7ae550277d2a54e59a34ad-assets/providers/ijulia_setup.js'></script>\")"
      ]
     },
     "metadata": {},
     "output_type": "display_data"
    },
    {
     "data": {
      "text/html": [
       "  <script class='js-collapse-script'>\n",
       "    $('.js-collapse-script').parent('.output_subarea').css('padding', '0');\n",
       "  </script>\n"
      ],
      "text/plain": [
       "HTML{String}(\"  <script class='js-collapse-script'>\\n    \\$('.js-collapse-script').parent('.output_subarea').css('padding', '0');\\n  </script>\\n\")"
      ]
     },
     "metadata": {},
     "output_type": "display_data"
    }
   ],
   "source": [
    "using Revise\n",
    "\n",
    "using RigidBodyDynamics\n",
    "using RigidBodyDynamics: Bounds\n",
    "\n",
    "using DrakeVisualizer\n",
    "using Plots\n",
    "using RigidBodyTreeInspector\n",
    "\n",
    "using BilevelTrajOpt\n",
    "gr(size=(500,500), html_output_format=:png);"
   ]
  },
  {
   "cell_type": "code",
   "execution_count": 2,
   "metadata": {
    "collapsed": true
   },
   "outputs": [],
   "source": [
    "urdf = joinpath(\"..\", \"urdf\", \"ball.urdf\")\n",
    "mechanism = parse_urdf(Float64, urdf)\n",
    "body = findbody(mechanism, \"ball\")\n",
    "basejoint = joint_to_parent(body, mechanism)\n",
    "floatingjoint = Joint(basejoint.name, frame_before(basejoint), frame_after(basejoint), QuaternionFloating{Float64}())\n",
    "replace_joint!(mechanism, basejoint, floatingjoint)\n",
    "position_bounds(floatingjoint) .= Bounds(-100, 100)\n",
    "velocity_bounds(floatingjoint) .= Bounds(-100, 100)\n",
    "μ = 0.5\n",
    "motion_type = :xyz\n",
    "point = Point3D(default_frame(findbody(mechanism, \"floor\")), [0.,0.,0.])\n",
    "normal = FreeVector3D(default_frame(findbody(mechanism, \"floor\")), [0.,0.,1.])\n",
    "hs = HalfSpace(point, normal)\n",
    "floor = Obstacle(hs, μ, motion_type)\n",
    "obstacles = [floor]\n",
    "env = parse_contacts(mechanism, urdf, obstacles)\n",
    "x0 = MechanismState(mechanism)\n",
    "Δt = 0.005;"
   ]
  },
  {
   "cell_type": "code",
   "execution_count": 16,
   "metadata": {
    "collapsed": false
   },
   "outputs": [
    {
     "name": "stdout",
     "output_type": "stream",
     "text": [
      "Implicit Contacts\n"
     ]
    },
    {
     "name": "stderr",
     "output_type": "stream",
     "text": [
      "WARNING: Method definition simulate(RigidBodyDynamics.MechanismState{T, M, C, JointCollection} where JointCollection where C, BilevelTrajOpt.Environment, Real, Integer, Any) in module BilevelTrajOpt at /Users/blandry/.julia/v0.6/BilevelTrajOpt/src/simulation.jl:278 overwritten at /Users/blandry/.julia/v0.6/BilevelTrajOpt/src/simulation.jl:278.\n",
      "WARNING: Method definition #simulate(Array{Any, 1}, typeof(BilevelTrajOpt.simulate), RigidBodyDynamics.MechanismState{T, M, C, JointCollection} where JointCollection where C, BilevelTrajOpt.Environment, Real, Integer, Any) in module BilevelTrajOpt overwritten.\n"
     ]
    },
    {
     "name": "stdout",
     "output_type": "stream",
     "text": [
      "elapsed time: 0.27721076 seconds\n",
      "elapsed time: 0.20661904 seconds\n",
      "elapsed time: 0.205113099 seconds\n",
      "elapsed time: 0.236046001 seconds\n",
      "elapsed time: 0.262409773 seconds\n",
      "elapsed time: 0.836104757 seconds\n",
      "elapsed time: 0.218444508 seconds\n",
      "elapsed time: 0.203000378 seconds\n",
      "elapsed time: 0.222899414 seconds\n",
      "elapsed time: 0.20547825 seconds\n",
      "elapsed time: 0.230722063 seconds\n",
      "elapsed time: 0.771197143 seconds\n",
      "elapsed time: 0.263526257 seconds\n",
      "elapsed time: 0.283999168 seconds\n",
      "elapsed time: 0.231794271 seconds\n",
      "elapsed time: 0.257719063 seconds\n",
      "elapsed time: 0.272006371 seconds\n",
      "elapsed time: 0.260261717 seconds\n",
      "elapsed time: 0.281484312 seconds\n",
      "elapsed time: 0.34101167 seconds\n",
      "elapsed time: 0.310892596 seconds\n",
      "elapsed time: 0.305245967 seconds\n",
      "elapsed time: 0.244238502 seconds\n",
      "Solved_To_Acceptable_Level\n",
      "elapsed time: 0.288256518 seconds\n",
      "elapsed time: 0.20914372 seconds\n",
      "elapsed time: 0.217498389 seconds\n",
      "elapsed time: 0.224271923 seconds\n",
      "elapsed time: 0.286370605 seconds\n",
      "elapsed time: 0.856669188 seconds\n",
      "elapsed time: 0.293341633 seconds\n",
      "elapsed time: 0.2131938 seconds\n",
      "elapsed time: 0.224294013 seconds\n",
      "elapsed time: 0.811445112 seconds\n",
      "elapsed time: 0.280492099 seconds\n",
      "Solve_Succeeded\n",
      "elapsed time: 0.267217405 seconds\n",
      "elapsed time: 0.264536829 seconds\n",
      "elapsed time: 0.257304122 seconds\n",
      "elapsed time: 0.246706423 seconds\n",
      "elapsed time: 0.237790999 seconds\n",
      "elapsed time: 0.268895786 seconds\n",
      "elapsed time: 0.294541896 seconds\n",
      "elapsed time: 0.273419198 seconds\n",
      "elapsed time: 0.273563738 seconds\n",
      "elapsed time: 0.247167792 seconds\n",
      "elapsed time: 0.281995633 seconds\n",
      "elapsed time: 0.307522456 seconds\n",
      "elapsed time: 0.270919786 seconds\n",
      "elapsed time: 0.263909728 seconds\n",
      "elapsed time: 0.252333829 seconds\n",
      "elapsed time: 0.253001731 seconds\n",
      "elapsed time: 0.260430109 seconds\n",
      "elapsed time: 0.261374866 seconds\n",
      "elapsed time: 0.234774577 seconds\n",
      "elapsed time: 0.256656604 seconds\n",
      "elapsed time: 0.246744307 seconds\n",
      "elapsed time: 0.252891229 seconds\n",
      "elapsed time: 0.26487612 seconds\n",
      "elapsed time: 0.263955745 seconds\n",
      "elapsed time: 0.284296628 seconds\n",
      "elapsed time: 0.29398504 seconds\n",
      "elapsed time: 0.292901519 seconds\n",
      "elapsed time: 0.303498121 seconds\n",
      "elapsed time: 0.28151845 seconds\n",
      "elapsed time: 0.281925147 seconds\n",
      "elapsed time: 0.274878294 seconds\n",
      "elapsed time: 0.288128548 seconds\n",
      "elapsed time: 0.309528603 seconds\n",
      "elapsed time: 0.299593326 seconds\n",
      "elapsed time: 0.264839576 seconds\n",
      "elapsed time: 0.30336352 seconds\n",
      "elapsed time: 0.248339525 seconds\n",
      "elapsed time: 0.280224594 seconds\n",
      "elapsed time: 0.276324313 seconds\n",
      "elapsed time: 0.273191843 seconds\n",
      "elapsed time: 0.308558534 seconds\n",
      "elapsed time: 0.292379528 seconds\n",
      "elapsed time: 0.324413056 seconds\n",
      "elapsed time: 0.309518525 seconds\n",
      "Solve_Succeeded\n",
      "elapsed time: 0.29077055 seconds\n",
      "elapsed time: 0.299609064 seconds\n",
      "elapsed time: 0.270364039 seconds\n",
      "elapsed time: 0.288389827 seconds\n",
      "elapsed time: 0.28527823 seconds\n",
      "elapsed time: 0.305203045 seconds\n",
      "elapsed time: 0.304617226 seconds\n",
      "elapsed time: 0.316670891 seconds\n",
      "elapsed time: 0.3141963 seconds\n",
      "elapsed time: 0.310910005 seconds\n",
      "elapsed time: 0.309590815 seconds\n",
      "elapsed time: 0.305365986 seconds\n",
      "elapsed time: 0.297723004 seconds\n",
      "Solve_Succeeded\n",
      "elapsed time: 0.381823592 seconds\n",
      "elapsed time: 0.307055812 seconds\n",
      "elapsed time: 0.327291883 seconds\n",
      "elapsed time: 0.309309982 seconds\n",
      "elapsed time: 0.303182737 seconds\n",
      "elapsed time: 0.302020286 seconds\n",
      "elapsed time: 0.335705301 seconds\n",
      "elapsed time: 0.336221275 seconds\n",
      "elapsed time: 0.286137893 seconds\n",
      "elapsed time: 0.337207426 seconds\n",
      "elapsed time: 0.309828013 seconds\n",
      "elapsed time: 0.296474939 seconds\n",
      "elapsed time: 0.299253846 seconds\n",
      "elapsed time: 0.313289033 seconds\n",
      "elapsed time: 0.317152384 seconds\n",
      "Solve_Succeeded\n"
     ]
    }
   ],
   "source": [
    "q0 = [1., 0., 0., 0., 0., 0., 1.]\n",
    "v0 = [0., 0., 0., 0., 0. , 0.]\n",
    "N = 5\n",
    "\n",
    "set_configuration!(x0, q0)\n",
    "set_velocity!(x0, v0)\n",
    "setdirty!(x0)\n",
    "\n",
    "ctrl! = (u,t,x) -> u[:] = 0.\n",
    "\n",
    "println(\"Implicit Contacts\")\n",
    "traj_imp = BilevelTrajOpt.simulate(x0,env,Δt,N,ctrl!,implicit_contact=true);"
   ]
  },
  {
   "cell_type": "code",
   "execution_count": 18,
   "metadata": {
    "collapsed": false
   },
   "outputs": [
    {
     "name": "stdout",
     "output_type": "stream",
     "text": [
      "Explicit Contacts\n",
      "Solve_Succeeded\n",
      "Solve_Succeeded\n",
      "Solve_Succeeded\n",
      "Solve_Succeeded\n",
      "Solve_Succeeded\n"
     ]
    }
   ],
   "source": [
    "println(\"Explicit Contacts\")\n",
    "traj_exp = BilevelTrajOpt.simulate(x0,env,Δt,N,ctrl!,implicit_contact=false);"
   ]
  },
  {
   "cell_type": "code",
   "execution_count": 19,
   "metadata": {
    "collapsed": false
   },
   "outputs": [
    {
     "data": {
      "image/png": "[encoded data removed]"
     },
     "execution_count": 19,
     "metadata": {},
     "output_type": "execute_result"
    }
   ],
   "source": [
    "ts = cumsum([Δt for i in 1:N]);\n",
    "j = 11\n",
    "plot(traj_exp[j,:],label=\"explicit\")\n",
    "plot!(traj_imp[j,:],label=\"implicit\")"
   ]
  },
  {
   "cell_type": "code",
   "execution_count": 20,
   "metadata": {
    "collapsed": false
   },
   "outputs": [
    {
     "data": {
      "text/plain": [
       "19×6 Array{Float64,2}:\n",
       " 1.0   1.0           1.0           1.0           1.0           1.0        \n",
       " 0.0   9.32476e-10   9.32489e-10   9.32501e-10   9.32517e-10   9.32529e-10\n",
       " 0.0   1.13661e-9    1.13662e-9    1.13663e-9    1.13665e-9    1.13667e-9 \n",
       " 0.0  -3.46711e-12  -3.46713e-12  -3.46717e-12  -3.46809e-12  -3.46813e-12\n",
       " 0.0  -8.07392e-7   -1.48681e-5   -0.000214657  -0.000415371  -0.000616085\n",
       " 0.0  -6.92688e-6   -7.28527e-6    3.19483e-6    1.16671e-5    2.01393e-5 \n",
       " 1.0   1.0005        1.00189       1.0045        1.00707       1.00943    \n",
       " 0.0   4.67447e-12   4.67448e-12   4.67448e-12   4.6745e-12    4.6745e-12 \n",
       " 0.0   5.70334e-12   5.70334e-12   5.70335e-12   5.70338e-12   5.70338e-12\n",
       " 0.0  -1.71862e-14  -1.71861e-14  -1.71861e-14  -1.71914e-14  -1.71914e-14\n",
       " 0.0  -0.000161478  -0.00281214   -0.0399577    -0.0401428    -0.0401428  \n",
       " 0.0  -0.00138537   -7.16781e-5    0.00209602    0.00169445    0.00169445 \n",
       " 0.0   0.100219      0.278778      0.521512      0.514321      0.470337   \n",
       " 0.0   0.0           0.0           0.0           0.0           0.0        \n",
       " 0.0   0.0           0.0           0.0           0.0           0.0        \n",
       " 0.0   0.0           0.0           0.0           0.0           0.0        \n",
       " 0.0   0.0           0.0           0.0           0.0           0.0        \n",
       " 0.0   0.0           0.0           0.0           0.0           0.0        \n",
       " 0.0   0.0           0.0           0.0           0.0           0.0        "
      ]
     },
     "execution_count": 20,
     "metadata": {},
     "output_type": "execute_result"
    }
   ],
   "source": [
    "traj_imp"
   ]
  },
  {
   "cell_type": "code",
   "execution_count": null,
   "metadata": {
    "collapsed": false
   },
   "outputs": [],
   "source": [
    "traj_exp"
   ]
  }
 ],
 "metadata": {
  "kernelspec": {
   "display_name": "Julia 0.6.4",
   "language": "julia",
   "name": "julia-0.6"
  },
  "language_info": {
   "file_extension": ".jl",
   "mimetype": "application/julia",
   "name": "julia",
   "version": "0.6.4"
  }
 },
 "nbformat": 4,
 "nbformat_minor": 2
}
