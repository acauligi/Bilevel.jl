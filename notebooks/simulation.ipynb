{
 "cells": [
  {
   "cell_type": "code",
   "execution_count": 1,
   "metadata": {
    "collapsed": false
   },
   "outputs": [
    {
     "data": {
      "text/html": [
       "    <script class='js-collapse-script'>\n",
       "        var curMatch =\n",
       "            window.location.href\n",
       "            .match(/(.*?)\\/notebooks\\/.*\\.ipynb/);\n",
       "\n",
       "        curMatch = curMatch ||\n",
       "            window.location.href\n",
       "            .match(/(.*?)\\/apps\\/.*\\.ipynb/);\n",
       "\n",
       "        if ( curMatch ) {\n",
       "            $('head').append('<base href=\"' + curMatch[1] + '/\">');\n",
       "        }\n",
       "    </script>\n"
      ],
      "text/plain": [
       "HTML{String}(\"    <script class='js-collapse-script'>\\n        var curMatch =\\n            window.location.href\\n            .match(/(.*?)\\\\/notebooks\\\\/.*\\\\.ipynb/);\\n\\n        curMatch = curMatch ||\\n            window.location.href\\n            .match(/(.*?)\\\\/apps\\\\/.*\\\\.ipynb/);\\n\\n        if ( curMatch ) {\\n            \\$('head').append('<base href=\\\"' + curMatch[1] + '/\\\">');\\n        }\\n    </script>\\n\")"
      ]
     },
     "metadata": {},
     "output_type": "display_data"
    },
    {
     "data": {
      "text/html": [
       "<script class='js-collapse-script' src='/assetserver/8c8a043c2f00369f3e7ae550277d2a54e59a34ad-assets/webio/dist/bundle.js'></script>"
      ],
      "text/plain": [
       "HTML{String}(\"<script class='js-collapse-script' src='/assetserver/8c8a043c2f00369f3e7ae550277d2a54e59a34ad-assets/webio/dist/bundle.js'></script>\")"
      ]
     },
     "metadata": {},
     "output_type": "display_data"
    },
    {
     "data": {
      "text/html": [
       "<script class='js-collapse-script' src='/assetserver/8c8a043c2f00369f3e7ae550277d2a54e59a34ad-assets/providers/ijulia_setup.js'></script>"
      ],
      "text/plain": [
       "HTML{String}(\"<script class='js-collapse-script' src='/assetserver/8c8a043c2f00369f3e7ae550277d2a54e59a34ad-assets/providers/ijulia_setup.js'></script>\")"
      ]
     },
     "metadata": {},
     "output_type": "display_data"
    },
    {
     "data": {
      "text/html": [
       "  <script class='js-collapse-script'>\n",
       "    $('.js-collapse-script').parent('.output_subarea').css('padding', '0');\n",
       "  </script>\n"
      ],
      "text/plain": [
       "HTML{String}(\"  <script class='js-collapse-script'>\\n    \\$('.js-collapse-script').parent('.output_subarea').css('padding', '0');\\n  </script>\\n\")"
      ]
     },
     "metadata": {},
     "output_type": "display_data"
    }
   ],
   "source": [
    "using Revise\n",
    "\n",
    "using RigidBodyDynamics\n",
    "using RigidBodyDynamics: Bounds\n",
    "\n",
    "using DrakeVisualizer\n",
    "using Plots\n",
    "using RigidBodyTreeInspector\n",
    "\n",
    "using BilevelTrajOpt\n",
    "gr(size=(500,500), html_output_format=:png);"
   ]
  },
  {
   "cell_type": "code",
   "execution_count": 2,
   "metadata": {
    "collapsed": true
   },
   "outputs": [],
   "source": [
    "urdf = joinpath(\"..\", \"urdf\", \"ball.urdf\")\n",
    "mechanism = parse_urdf(Float64, urdf)\n",
    "body = findbody(mechanism, \"ball\")\n",
    "basejoint = joint_to_parent(body, mechanism)\n",
    "floatingjoint = Joint(basejoint.name, frame_before(basejoint), frame_after(basejoint), QuaternionFloating{Float64}())\n",
    "replace_joint!(mechanism, basejoint, floatingjoint)\n",
    "position_bounds(floatingjoint) .= Bounds(-100, 100)\n",
    "velocity_bounds(floatingjoint) .= Bounds(-100, 100)\n",
    "env = parse_contacts(mechanism, urdf, .5);\n",
    "x0 = MechanismState(mechanism)\n",
    "Δt = 0.01;"
   ]
  },
  {
   "cell_type": "code",
   "execution_count": 20,
   "metadata": {
    "collapsed": false
   },
   "outputs": [
    {
     "name": "stdout",
     "output_type": "stream",
     "text": [
      "Explicit Contacts\n"
     ]
    },
    {
     "name": "stderr",
     "output_type": "stream",
     "text": [
      "WARNING: Method definition L(Any, Any, Any, Any, Any, Any, Any) in module BilevelTrajOpt at /Users/blandry/.julia/v0.6/BilevelTrajOpt/src/bilevel.jl:2 overwritten at /Users/blandry/.julia/v0.6/BilevelTrajOpt/src/bilevel.jl:6.\n",
      "WARNING: Method definition auglag_solve(AbstractArray{T, N} where N, Any, Any, Any, Any, Any, Any, Any, Any) in module BilevelTrajOpt at /Users/blandry/.julia/v0.6/BilevelTrajOpt/src/bilevel.jl:16 overwritten at /Users/blandry/.julia/v0.6/BilevelTrajOpt/src/bilevel.jl:21.\n"
     ]
    },
    {
     "data": {
      "text/plain": [
       "6-element Array{Float64,1}:\n",
       "  0.0        \n",
       "  0.0        \n",
       " -5.56714e-35\n",
       "  7.12759e-7 \n",
       " -3.56489e-18\n",
       " -2.23205e-6 "
      ]
     },
     "metadata": {},
     "output_type": "display_data"
    },
    {
     "name": "stdout",
     "output_type": "stream",
     "text": [
      "Solve_Succeeded\n"
     ]
    },
    {
     "data": {
      "text/plain": [
       "6-element Array{Float64,1}:\n",
       " -1.54074e-33\n",
       " -3.30872e-24\n",
       " -2.16667e-34\n",
       "  1.35286e-6 \n",
       " -7.07107e-18\n",
       " -3.47272e-6 "
      ]
     },
     "metadata": {},
     "output_type": "display_data"
    },
    {
     "name": "stdout",
     "output_type": "stream",
     "text": [
      "Solve_Succeeded\n"
     ]
    },
    {
     "data": {
      "text/plain": [
       "6-element Array{Float64,1}:\n",
       "  0.0        \n",
       "  3.30872e-24\n",
       "  3.12964e-34\n",
       "  1.47436e-6 \n",
       " -2.63885e-17\n",
       " -3.87542e-6 "
      ]
     },
     "metadata": {},
     "output_type": "display_data"
    },
    {
     "name": "stdout",
     "output_type": "stream",
     "text": [
      "Solve_Succeeded\n"
     ]
    },
    {
     "data": {
      "text/plain": [
       "6-element Array{Float64,1}:\n",
       "  0.0        \n",
       "  0.0        \n",
       "  1.44445e-34\n",
       "  5.66711e-7 \n",
       " -9.8994e-18 \n",
       " -2.51035e-6 "
      ]
     },
     "metadata": {},
     "output_type": "display_data"
    },
    {
     "name": "stdout",
     "output_type": "stream",
     "text": [
      "Solve_Succeeded\n"
     ]
    },
    {
     "data": {
      "text/plain": [
       "6-element Array{Float64,1}:\n",
       "  0.0        \n",
       "  0.0        \n",
       "  9.62965e-35\n",
       "  9.37693e-7 \n",
       " -1.21818e-17\n",
       " -3.44324e-6 "
      ]
     },
     "metadata": {},
     "output_type": "display_data"
    },
    {
     "name": "stdout",
     "output_type": "stream",
     "text": [
      "Solve_Succeeded\n"
     ]
    },
    {
     "data": {
      "text/plain": [
       "6-element Array{Float64,1}:\n",
       "  0.0        \n",
       " -2.64698e-23\n",
       " -1.92593e-33\n",
       "  5.2132e-6  \n",
       " -1.82239e-16\n",
       " -1.1493e-5  "
      ]
     },
     "metadata": {},
     "output_type": "display_data"
    },
    {
     "name": "stdout",
     "output_type": "stream",
     "text": [
      "Solve_Succeeded\n"
     ]
    },
    {
     "data": {
      "text/plain": [
       "6-element Array{Float64,1}:\n",
       "   0.0        \n",
       "   0.0        \n",
       "  -3.23117e-27\n",
       "  12.3399     \n",
       "  -5.28645e-10\n",
       " -24.6799     "
      ]
     },
     "metadata": {},
     "output_type": "display_data"
    },
    {
     "name": "stdout",
     "output_type": "stream",
     "text": [
      "Solve_Succeeded\n"
     ]
    },
    {
     "data": {
      "text/plain": [
       "6-element Array{Float64,1}:\n",
       "   0.0        \n",
       "   0.0        \n",
       "  -3.23117e-27\n",
       "  12.66       \n",
       "   5.9241e-10 \n",
       " -53.8001     "
      ]
     },
     "metadata": {},
     "output_type": "display_data"
    },
    {
     "name": "stdout",
     "output_type": "stream",
     "text": [
      "Solve_Succeeded\n"
     ]
    },
    {
     "data": {
      "text/plain": [
       "6-element Array{Float64,1}:\n",
       " -1.29247e-26\n",
       "  0.0        \n",
       "  0.0        \n",
       "  1.19534e-6 \n",
       " -8.09963e-11\n",
       " -9.81005    "
      ]
     },
     "metadata": {},
     "output_type": "display_data"
    },
    {
     "name": "stdout",
     "output_type": "stream",
     "text": [
      "Solve_Succeeded\n"
     ]
    },
    {
     "data": {
      "text/plain": [
       "6-element Array{Float64,1}:\n",
       " -1.29247e-26\n",
       "  0.0        \n",
       "  4.03897e-28\n",
       " -4.44107e-7 \n",
       " -1.01602e-10\n",
       " -9.81001    "
      ]
     },
     "metadata": {},
     "output_type": "display_data"
    },
    {
     "name": "stdout",
     "output_type": "stream",
     "text": [
      "Solve_Succeeded\n",
      "Implicit Contacts\n"
     ]
    },
    {
     "data": {
      "text/plain": [
       "6-element Array{Float64,1}:\n",
       "  1.77967e-27\n",
       "  1.87025e-18\n",
       "  3.60953e-28\n",
       " -3.30959    \n",
       "  8.98392e-10\n",
       " -0.0489347  "
      ]
     },
     "metadata": {},
     "output_type": "display_data"
    },
    {
     "name": "stdout",
     "output_type": "stream",
     "text": [
      "Solve_Succeeded\n"
     ]
    },
    {
     "data": {
      "text/plain": [
       "6-element Array{Float64,1}:\n",
       " -3.26904e-27\n",
       "  2.81893e-18\n",
       " -2.21611e-27\n",
       " -3.63425    \n",
       "  9.40167e-10\n",
       " -0.0530914  "
      ]
     },
     "metadata": {},
     "output_type": "display_data"
    },
    {
     "name": "stdout",
     "output_type": "stream",
     "text": [
      "Solve_Succeeded\n"
     ]
    },
    {
     "data": {
      "text/plain": [
       "6-element Array{Float64,1}:\n",
       "  2.90301e-27\n",
       " -1.84314e-18\n",
       " -1.47162e-27\n",
       " -3.98485    \n",
       "  9.85312e-10\n",
       " -0.0574019  "
      ]
     },
     "metadata": {},
     "output_type": "display_data"
    },
    {
     "name": "stdout",
     "output_type": "stream",
     "text": [
      "Solve_Succeeded\n"
     ]
    },
    {
     "data": {
      "text/plain": [
       "6-element Array{Float64,1}:\n",
       "  1.33791e-27\n",
       " -3.46945e-18\n",
       "  1.41048e-27\n",
       " -4.36441    \n",
       "  1.03424e-9 \n",
       " -0.0619156  "
      ]
     },
     "metadata": {},
     "output_type": "display_data"
    },
    {
     "name": "stdout",
     "output_type": "stream",
     "text": [
      "Solve_Succeeded\n"
     ]
    },
    {
     "data": {
      "text/plain": [
       "6-element Array{Float64,1}:\n",
       "  1.66607e-27\n",
       "  1.0842e-18 \n",
       " -3.19015e-27\n",
       " -4.77656    \n",
       "  1.08742e-9 \n",
       " -0.0666816  "
      ]
     },
     "metadata": {},
     "output_type": "display_data"
    },
    {
     "name": "stdout",
     "output_type": "stream",
     "text": [
      "Solve_Succeeded\n"
     ]
    },
    {
     "data": {
      "text/plain": [
       "6-element Array{Float64,1}:\n",
       " -6.56332e-28\n",
       "  1.30104e-18\n",
       " -4.30087e-27\n",
       " -5.22524    \n",
       "  1.14539e-9 \n",
       " -0.071752   "
      ]
     },
     "metadata": {},
     "output_type": "display_data"
    },
    {
     "name": "stdout",
     "output_type": "stream",
     "text": [
      "Solve_Succeeded\n"
     ]
    },
    {
     "data": {
      "text/plain": [
       "6-element Array{Float64,1}:\n",
       "  5.04871e-29\n",
       "  0.0        \n",
       "  6.27302e-27\n",
       " -5.72582    \n",
       "  1.20837e-9 \n",
       " -0.0778975  "
      ]
     },
     "metadata": {},
     "output_type": "display_data"
    },
    {
     "name": "stdout",
     "output_type": "stream",
     "text": [
      "Infeasible_Problem_Detected\n"
     ]
    },
    {
     "data": {
      "text/plain": [
       "6-element Array{Float64,1}:\n",
       " -5.04871e-29\n",
       "  0.0        \n",
       "  1.32529e-28\n",
       " -6.29945    \n",
       "  1.27632e-9 \n",
       " -0.0861809  "
      ]
     },
     "metadata": {},
     "output_type": "display_data"
    },
    {
     "name": "stdout",
     "output_type": "stream",
     "text": [
      "Infeasible_Problem_Detected\n"
     ]
    },
    {
     "data": {
      "text/plain": [
       "6-element Array{Float64,1}:\n",
       "  0.0        \n",
       "  0.0        \n",
       " -6.96722e-27\n",
       " -6.93208    \n",
       "  1.35034e-9 \n",
       " -0.0953087  "
      ]
     },
     "metadata": {},
     "output_type": "display_data"
    },
    {
     "name": "stdout",
     "output_type": "stream",
     "text": [
      "Infeasible_Problem_Detected\n"
     ]
    },
    {
     "data": {
      "text/plain": [
       "6-element Array{Float64,1}:\n",
       "  0.0        \n",
       "  0.0        \n",
       "  1.32907e-26\n",
       " -7.62988    \n",
       "  1.431e-9   \n",
       " -0.105367   "
      ]
     },
     "metadata": {},
     "output_type": "display_data"
    },
    {
     "name": "stdout",
     "output_type": "stream",
     "text": [
      "Infeasible_Problem_Detected\n"
     ]
    }
   ],
   "source": [
    "q0 = [1., 0., 0., 0., 0., 0., .025]\n",
    "v0 = [0., 0., 0., .25, 0. , 0.]\n",
    "N = 10\n",
    "\n",
    "set_configuration!(x0, q0)\n",
    "set_velocity!(x0, v0)\n",
    "setdirty!(x0)\n",
    "\n",
    "println(\"Explicit Contacts\")\n",
    "traj_exp = BilevelTrajOpt.simulate(x0,env,Δt,N,implicit_contact=false);\n",
    "println(\"Implicit Contacts\")\n",
    "traj_imp = BilevelTrajOpt.simulate(x0,env,Δt,N,implicit_contact=true);"
   ]
  },
  {
   "cell_type": "code",
   "execution_count": 21,
   "metadata": {
    "collapsed": false
   },
   "outputs": [
    {
     "data": {
      "image/png": "[encoded data removed]"
     },
     "execution_count": 21,
     "metadata": {},
     "output_type": "execute_result"
    }
   ],
   "source": [
    "ts = cumsum([Δt for i in 1:N]);\n",
    "plot(traj_exp[11,:],label=\"explicit\")\n",
    "plot!(traj_imp[11,:],label=\"implicit\")"
   ]
  },
  {
   "cell_type": "code",
   "execution_count": 19,
   "metadata": {
    "collapsed": false
   },
   "outputs": [
    {
     "data": {
      "text/plain": [
       "7-element Array{Float64,1}:\n",
       "  1.0        \n",
       "  7.14e-12   \n",
       "  7.14e-12   \n",
       "  7.14e-12   \n",
       "  0.016266   \n",
       "  7.52931e-12\n",
       " -1.40047e-9 "
      ]
     },
     "metadata": {},
     "output_type": "display_data"
    },
    {
     "data": {
      "text/plain": [
       "6-element Array{Float64,1}:\n",
       "  7.0e-12    \n",
       "  7.0e-12    \n",
       "  7.0e-12    \n",
       "  0.1266     \n",
       "  6.52902e-12\n",
       " -0.439901   "
      ]
     },
     "metadata": {},
     "output_type": "display_data"
    },
    {
     "data": {
      "text/plain": [
       "7-element Array{Float64,1}:\n",
       " 0.0       \n",
       " 2.4782e-8 \n",
       " 2.93087e-8\n",
       " 1.25789   \n",
       " 2.93087e-8\n",
       " 0.1266    \n",
       " 2.51579   "
      ]
     },
     "metadata": {},
     "output_type": "display_data"
    }
   ],
   "source": [
    "display(traj_exp[1:7,8])\n",
    "display(traj_exp[8:13,8])\n",
    "display(traj_exp[14:20,8])\n",
    "# display(traj_exp[1:7,7])\n",
    "# display(traj_exp[8:13,7])"
   ]
  },
  {
   "cell_type": "code",
   "execution_count": null,
   "metadata": {
    "collapsed": true
   },
   "outputs": [],
   "source": [
    "# display(traj_imp[1:7,8])\n",
    "# display(traj_imp[8:13,8])\n",
    "display(traj_imp[1:7,9])\n",
    "display(traj_imp[8:13,9])"
   ]
  },
  {
   "cell_type": "code",
   "execution_count": null,
   "metadata": {
    "collapsed": true
   },
   "outputs": [],
   "source": [
    "display(traj_exp[8:13,5:9])\n",
    "display(traj_imp[8:13,5:9])"
   ]
  },
  {
   "cell_type": "code",
   "execution_count": null,
   "metadata": {
    "collapsed": true
   },
   "outputs": [],
   "source": [
    "println(traj_exp[7+6+1:end,9])\n",
    "# println(traj_imp[7+6+1:end,9])"
   ]
  },
  {
   "cell_type": "code",
   "execution_count": null,
   "metadata": {
    "collapsed": true
   },
   "outputs": [],
   "source": [
    "display(\"explicit\")\n",
    "display(traj_exp[14:end,9])\n",
    "display(\"implicit\")\n",
    "display(traj_imp[14:end,9])"
   ]
  },
  {
   "cell_type": "code",
   "execution_count": null,
   "metadata": {
    "collapsed": true
   },
   "outputs": [],
   "source": [
    "println(traj_imp[14:end,9])"
   ]
  },
  {
   "cell_type": "code",
   "execution_count": null,
   "metadata": {
    "collapsed": true
   },
   "outputs": [],
   "source": [
    "DrakeVisualizer.any_open_windows() || (DrakeVisualizer.new_window(); sleep(1));\n",
    "geometries = visual_elements(mechanism, URDFVisuals(urdf))\n",
    "vis = Visualizer(mechanism, geometries);"
   ]
  },
  {
   "cell_type": "code",
   "execution_count": null,
   "metadata": {
    "collapsed": true
   },
   "outputs": [],
   "source": [
    "traj = traj_exp\n",
    "qs = [traj[1:num_positions(x0),i] for i in 1:N]\n",
    "ts = cumsum([Δt for i in 1:N]);\n",
    "RigidBodyTreeInspector.animate(vis, mechanism, ts, qs; realtimerate = .25);"
   ]
  }
 ],
 "metadata": {
  "kernelspec": {
   "display_name": "Julia 0.6.4",
   "language": "julia",
   "name": "julia-0.6"
  },
  "language_info": {
   "file_extension": ".jl",
   "mimetype": "application/julia",
   "name": "julia",
   "version": "0.6.4"
  }
 },
 "nbformat": 4,
 "nbformat_minor": 2
}
