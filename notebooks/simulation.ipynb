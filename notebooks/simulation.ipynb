{
 "cells": [
  {
   "cell_type": "code",
   "execution_count": 1,
   "metadata": {},
   "outputs": [
    {
     "data": {
      "text/html": [
       "    <script class='js-collapse-script'>\n",
       "        var curMatch =\n",
       "            window.location.href\n",
       "            .match(/(.*?)\\/notebooks\\/.*\\.ipynb/);\n",
       "\n",
       "        curMatch = curMatch ||\n",
       "            window.location.href\n",
       "            .match(/(.*?)\\/apps\\/.*\\.ipynb/);\n",
       "\n",
       "        if ( curMatch ) {\n",
       "            $('head').append('<base href=\"' + curMatch[1] + '/\">');\n",
       "        }\n",
       "    </script>\n"
      ],
      "text/plain": [
       "HTML{String}(\"    <script class='js-collapse-script'>\\n        var curMatch =\\n            window.location.href\\n            .match(/(.*?)\\\\/notebooks\\\\/.*\\\\.ipynb/);\\n\\n        curMatch = curMatch ||\\n            window.location.href\\n            .match(/(.*?)\\\\/apps\\\\/.*\\\\.ipynb/);\\n\\n        if ( curMatch ) {\\n            \\$('head').append('<base href=\\\"' + curMatch[1] + '/\\\">');\\n        }\\n    </script>\\n\")"
      ]
     },
     "metadata": {},
     "output_type": "display_data"
    },
    {
     "data": {
      "text/html": [
       "<script class='js-collapse-script' src='/assetserver/9dd84cf97c4fc16956f39829c81f3b6907c8fc83-assets/webio/dist/bundle.js'></script>"
      ],
      "text/plain": [
       "HTML{String}(\"<script class='js-collapse-script' src='/assetserver/9dd84cf97c4fc16956f39829c81f3b6907c8fc83-assets/webio/dist/bundle.js'></script>\")"
      ]
     },
     "metadata": {},
     "output_type": "display_data"
    },
    {
     "data": {
      "text/html": [
       "<script class='js-collapse-script' src='/assetserver/9dd84cf97c4fc16956f39829c81f3b6907c8fc83-assets/providers/ijulia_setup.js'></script>"
      ],
      "text/plain": [
       "HTML{String}(\"<script class='js-collapse-script' src='/assetserver/9dd84cf97c4fc16956f39829c81f3b6907c8fc83-assets/providers/ijulia_setup.js'></script>\")"
      ]
     },
     "metadata": {},
     "output_type": "display_data"
    },
    {
     "data": {
      "text/html": [
       "  <script class='js-collapse-script'>\n",
       "    $('.js-collapse-script').parent('.output_subarea').css('padding', '0');\n",
       "  </script>\n"
      ],
      "text/plain": [
       "HTML{String}(\"  <script class='js-collapse-script'>\\n    \\$('.js-collapse-script').parent('.output_subarea').css('padding', '0');\\n  </script>\\n\")"
      ]
     },
     "metadata": {},
     "output_type": "display_data"
    }
   ],
   "source": [
    "using Revise\n",
    "\n",
    "using RigidBodyDynamics\n",
    "using RigidBodyDynamics: Bounds\n",
    "\n",
    "using DrakeVisualizer\n",
    "using Plots\n",
    "using RigidBodyTreeInspector\n",
    "\n",
    "using BilevelTrajOpt\n",
    "gr(size=(500,500), html_output_format=:png);"
   ]
  },
  {
   "cell_type": "code",
   "execution_count": 2,
   "metadata": {},
   "outputs": [],
   "source": [
    "urdf = joinpath(\"..\", \"urdf\", \"ball.urdf\")\n",
    "mechanism = parse_urdf(Float64, urdf)\n",
    "body = findbody(mechanism, \"ball\")\n",
    "basejoint = joint_to_parent(body, mechanism)\n",
    "floatingjoint = Joint(basejoint.name, frame_before(basejoint), frame_after(basejoint), QuaternionFloating{Float64}())\n",
    "replace_joint!(mechanism, basejoint, floatingjoint)\n",
    "position_bounds(floatingjoint) .= Bounds(-100, 100)\n",
    "velocity_bounds(floatingjoint) .= Bounds(-100, 100)\n",
    "μ = 0.5\n",
    "motion_type = :xyz\n",
    "point = Point3D(default_frame(findbody(mechanism, \"floor\")), [0.,0.,0.])\n",
    "normal = FreeVector3D(default_frame(findbody(mechanism, \"floor\")), [0.,0.,1.])\n",
    "hs = HalfSpace(point, normal)\n",
    "floor = Obstacle(hs, μ, motion_type)\n",
    "obstacles = [floor]\n",
    "env = parse_contacts(mechanism, urdf, obstacles)\n",
    "x0 = MechanismState(mechanism)\n",
    "Δt = 0.005;"
   ]
  },
  {
   "cell_type": "code",
   "execution_count": 42,
   "metadata": {},
   "outputs": [
    {
     "data": {
      "text/plain": [
       "(::#45) (generic function with 1 method)"
      ]
     },
     "execution_count": 42,
     "metadata": {},
     "output_type": "execute_result"
    }
   ],
   "source": [
    "# q0 = [1., 0., 0., 0., 0., 0., 0.005]\n",
    "q0 = [1., 0., 0., 0., 0., 0., 0.00]\n",
    "v0 = [0., 0., 0., 0.5, 0. , 0.]\n",
    "N = 10\n",
    "\n",
    "set_configuration!(x0, q0)\n",
    "set_velocity!(x0, v0)\n",
    "setdirty!(x0)\n",
    "\n",
    "ctrl! = (u,t,x) -> u[:] = 0."
   ]
  },
  {
   "cell_type": "code",
   "execution_count": null,
   "metadata": {
    "scrolled": false
   },
   "outputs": [
    {
     "data": {
      "text/plain": [
       "6-element Array{Float64,1}:\n",
       "  0.0        \n",
       "  0.0        \n",
       "  0.0        \n",
       "  3.8067     \n",
       " -2.14927e-10\n",
       " -7.90663    "
      ]
     },
     "metadata": {},
     "output_type": "display_data"
    },
    {
     "data": {
      "text/plain": [
       "6-element Array{Float64,1}:\n",
       "  0.0        \n",
       "  0.0        \n",
       "  0.0        \n",
       "  3.8067     \n",
       " -2.14927e-10\n",
       " -7.90663    "
      ]
     },
     "metadata": {},
     "output_type": "display_data"
    },
    {
     "name": "stdout",
     "output_type": "stream",
     "text": [
      "Implicit Contacts\n"
     ]
    },
    {
     "name": "stderr",
     "output_type": "stream",
     "text": [
      "WARNING: Method definition simulate(RigidBodyDynamics.MechanismState{T, M, C, JointCollection} where JointCollection where C, BilevelTrajOpt.Environment, Real, Integer, Any) in module BilevelTrajOpt at /home/blandry/.julia/v0.6/BilevelTrajOpt/src/simulation.jl:237 overwritten at /home/blandry/.julia/v0.6/BilevelTrajOpt/src/simulation.jl:237.\n",
      "WARNING: Method definition #simulate(Array{Any, 1}, typeof(BilevelTrajOpt.simulate), RigidBodyDynamics.MechanismState{T, M, C, JointCollection} where JointCollection where C, BilevelTrajOpt.Environment, Real, Integer, Any) in module BilevelTrajOpt overwritten.\n"
     ]
    },
    {
     "data": {
      "text/plain": [
       "6-element Array{Float64,1}:\n",
       "  0.0        \n",
       "  0.0        \n",
       "  0.0        \n",
       "  3.8067     \n",
       " -2.14927e-10\n",
       " -7.90663    "
      ]
     },
     "metadata": {},
     "output_type": "display_data"
    },
    {
     "data": {
      "text/plain": [
       "6-element Array{Float64,1}:\n",
       "  0.0        \n",
       "  0.0        \n",
       "  0.0        \n",
       "  3.8067     \n",
       " -2.14927e-10\n",
       " -7.90663    "
      ]
     },
     "metadata": {},
     "output_type": "display_data"
    },
    {
     "name": "stdout",
     "output_type": "stream",
     "text": [
      "elapsed time: 0.833271685 seconds\n"
     ]
    },
    {
     "data": {
      "text/plain": [
       "6-element Array{Float64,1}:\n",
       " -2.01948e-28\n",
       "  0.0        \n",
       "  0.0        \n",
       "  4.32097    \n",
       " -4.15768e-11\n",
       " -8.64685    "
      ]
     },
     "metadata": {},
     "output_type": "display_data"
    },
    {
     "data": {
      "text/plain": [
       "6-element Array{Float64,1}:\n",
       " -2.01948e-28\n",
       "  0.0        \n",
       "  0.0        \n",
       "  4.32097    \n",
       " -4.15768e-11\n",
       " -8.64685    "
      ]
     },
     "metadata": {},
     "output_type": "display_data"
    },
    {
     "name": "stdout",
     "output_type": "stream",
     "text": [
      "elapsed time: 1.231183934 seconds\n"
     ]
    },
    {
     "data": {
      "text/plain": [
       "6-element Array{Float64,1}:\n",
       "   0.0        \n",
       "   0.0        \n",
       "  -5.04871e-29\n",
       "   6.84703    \n",
       "  -1.80842e-10\n",
       " -13.6929     "
      ]
     },
     "metadata": {},
     "output_type": "display_data"
    },
    {
     "data": {
      "text/plain": [
       "6-element Array{Float64,1}:\n",
       "   0.0        \n",
       "   0.0        \n",
       "  -5.04871e-29\n",
       "   6.84703    \n",
       "  -1.80842e-10\n",
       " -13.6929     "
      ]
     },
     "metadata": {},
     "output_type": "display_data"
    },
    {
     "name": "stdout",
     "output_type": "stream",
     "text": [
      "elapsed time: 0.923999065 seconds\n"
     ]
    },
    {
     "data": {
      "text/plain": [
       "6-element Array{Float64,1}:\n",
       "  0.0        \n",
       "  0.0        \n",
       "  0.0        \n",
       "  4.92462    \n",
       " -3.46812e-11\n",
       " -9.84911    "
      ]
     },
     "metadata": {},
     "output_type": "display_data"
    },
    {
     "data": {
      "text/plain": [
       "6-element Array{Float64,1}:\n",
       "  0.0        \n",
       "  0.0        \n",
       "  0.0        \n",
       "  4.92462    \n",
       " -3.46812e-11\n",
       " -9.84911    "
      ]
     },
     "metadata": {},
     "output_type": "display_data"
    },
    {
     "name": "stdout",
     "output_type": "stream",
     "text": [
      "elapsed time: 1.460397352 seconds\n"
     ]
    },
    {
     "data": {
      "text/plain": [
       "6-element Array{Float64,1}:\n",
       " -1.57772e-30\n",
       "  0.0        \n",
       " -6.46235e-27\n",
       "  7.20306e-8 \n",
       " -1.23589e-8 \n",
       " -4.7208e-5  "
      ]
     },
     "metadata": {},
     "output_type": "display_data"
    }
   ],
   "source": [
    "println(\"Implicit Contacts\")\n",
    "traj_imp = BilevelTrajOpt.simulate(x0,env,Δt,N,ctrl!,implicit_contact=true);"
   ]
  },
  {
   "cell_type": "code",
   "execution_count": 35,
   "metadata": {},
   "outputs": [
    {
     "name": "stdout",
     "output_type": "stream",
     "text": [
      "Explicit Contacts\n",
      "elapsed time: 0.004804581 seconds\n",
      "elapsed time: 0.005540747 seconds\n",
      "elapsed time: 0.005288238 seconds\n",
      "elapsed time: 0.004937061 seconds\n",
      "elapsed time: 0.004764656 seconds\n",
      "elapsed time: 0.004677991 seconds\n",
      "elapsed time: 0.004439008 seconds\n",
      "elapsed time: 0.004351963 seconds\n",
      "elapsed time: 0.004566529 seconds\n",
      "elapsed time: 0.005125158 seconds\n",
      "elapsed time: 0.00458278 seconds\n",
      "elapsed time: 0.004618156 seconds\n",
      "elapsed time: 0.004633707 seconds\n",
      "elapsed time: 0.004607698 seconds\n",
      "elapsed time: 0.005501973 seconds\n",
      "elapsed time: 0.005551217 seconds\n",
      "elapsed time: 0.005082147 seconds\n",
      "elapsed time: 0.004599782 seconds\n",
      "elapsed time: 0.004452533 seconds\n",
      "elapsed time: 0.004362833 seconds\n",
      "elapsed time: 0.004372761 seconds\n",
      "elapsed time: 0.004575196 seconds\n",
      "elapsed time: 0.004518889 seconds\n",
      "elapsed time: 0.004335661 seconds\n",
      "elapsed time: 0.004361351 seconds\n",
      "elapsed time: 0.005540807 seconds\n",
      "elapsed time: 0.005313987 seconds\n",
      "elapsed time: 0.004958493 seconds\n",
      "elapsed time: 0.004850016 seconds\n",
      "Solve_Succeeded\n",
      "elapsed time: 0.004783791 seconds\n",
      "elapsed time: 0.004572551 seconds\n",
      "elapsed time: 0.004598219 seconds\n",
      "elapsed time: 0.004501807 seconds\n",
      "elapsed time: 0.004462643 seconds\n",
      "elapsed time: 0.004320864 seconds\n",
      "elapsed time: 0.004353476 seconds\n",
      "elapsed time: 0.004343406 seconds\n",
      "elapsed time: 0.004355188 seconds\n",
      "elapsed time: 0.006877923 seconds\n",
      "Solve_Succeeded\n",
      "elapsed time: 0.005255446 seconds\n",
      "elapsed time: 0.004566981 seconds\n",
      "elapsed time: 0.004729679 seconds\n",
      "elapsed time: 0.004380898 seconds\n",
      "elapsed time: 0.004670126 seconds\n",
      "elapsed time: 0.004440621 seconds\n",
      "elapsed time: 0.004634569 seconds\n",
      "elapsed time: 0.00431893 seconds\n",
      "elapsed time: 0.004304422 seconds\n",
      "elapsed time: 0.004338938 seconds\n",
      "Solve_Succeeded\n",
      "elapsed time: 0.004632034 seconds\n",
      "elapsed time: 0.004254597 seconds\n",
      "elapsed time: 0.006461073 seconds\n",
      "elapsed time: 0.004945328 seconds\n",
      "elapsed time: 0.004914479 seconds\n",
      "elapsed time: 0.004873211 seconds\n",
      "elapsed time: 0.004600803 seconds\n",
      "elapsed time: 0.004537865 seconds\n",
      "elapsed time: 0.004523207 seconds\n",
      "elapsed time: 0.004603349 seconds\n",
      "Solve_Succeeded\n",
      "elapsed time: 0.004638707 seconds\n",
      "elapsed time: 0.004669014 seconds\n",
      "elapsed time: 0.004527876 seconds\n",
      "elapsed time: 0.004528126 seconds\n",
      "elapsed time: 0.004343267 seconds\n",
      "elapsed time: 0.005385432 seconds\n",
      "elapsed time: 0.00547892 seconds\n",
      "elapsed time: 0.004932052 seconds\n",
      "elapsed time: 0.005180193 seconds\n",
      "elapsed time: 0.004691998 seconds\n",
      "Solve_Succeeded\n",
      "elapsed time: 0.004680194 seconds\n",
      "elapsed time: 0.004444478 seconds\n",
      "elapsed time: 0.00455618 seconds\n",
      "elapsed time: 0.004573142 seconds\n",
      "elapsed time: 0.004465348 seconds\n",
      "elapsed time: 0.004273434 seconds\n",
      "elapsed time: 0.00428188 seconds\n",
      "elapsed time: 0.004465268 seconds\n",
      "elapsed time: 0.00533162 seconds\n",
      "elapsed time: 0.005717402 seconds\n",
      "elapsed time: 0.005250928 seconds\n",
      "elapsed time: 0.004883019 seconds\n",
      "elapsed time: 0.004712266 seconds\n",
      "elapsed time: 0.004753584 seconds\n",
      "elapsed time: 0.004480126 seconds\n",
      "elapsed time: 0.00432937 seconds\n",
      "elapsed time: 0.004582669 seconds\n",
      "elapsed time: 0.004637654 seconds\n",
      "Solve_Succeeded\n",
      "elapsed time: 0.004727735 seconds\n",
      "elapsed time: 0.004527085 seconds\n",
      "elapsed time: 0.004602908 seconds\n",
      "elapsed time: 0.005376536 seconds\n",
      "elapsed time: 0.006039292 seconds\n",
      "elapsed time: 0.005220189 seconds\n",
      "elapsed time: 0.004827133 seconds\n",
      "elapsed time: 0.004681828 seconds\n",
      "elapsed time: 0.004604302 seconds\n",
      "elapsed time: 0.004516794 seconds\n",
      "elapsed time: 0.004550739 seconds\n",
      "elapsed time: 0.004366861 seconds\n",
      "elapsed time: 0.004339699 seconds\n",
      "Solve_Succeeded\n",
      "elapsed time: 0.00459314 seconds\n",
      "elapsed time: 0.004319661 seconds\n",
      "elapsed time: 0.005019608 seconds\n",
      "elapsed time: 0.005397185 seconds\n",
      "elapsed time: 0.008114457 seconds\n",
      "elapsed time: 0.006427047 seconds\n",
      "elapsed time: 0.005539504 seconds\n",
      "elapsed time: 0.00563232 seconds\n",
      "elapsed time: 0.005111853 seconds\n",
      "elapsed time: 0.005552049 seconds\n",
      "elapsed time: 0.005021913 seconds\n",
      "elapsed time: 0.005786363 seconds\n",
      "elapsed time: 0.005373049 seconds\n",
      "elapsed time: 0.00547353 seconds\n",
      "elapsed time: 0.005607684 seconds\n",
      "Restoration_Failed\n",
      "elapsed time: 0.006619432 seconds\n",
      "elapsed time: 0.004917254 seconds\n",
      "elapsed time: 0.004935409 seconds\n",
      "elapsed time: 0.005011524 seconds\n",
      "elapsed time: 0.004667291 seconds\n",
      "elapsed time: 0.005067119 seconds\n",
      "elapsed time: 0.005068792 seconds\n",
      "elapsed time: 0.005155937 seconds\n",
      "elapsed time: 0.00509378 seconds\n",
      "elapsed time: 0.005020079 seconds\n",
      "elapsed time: 0.005043173 seconds\n",
      "elapsed time: 0.005365935 seconds\n",
      "elapsed time: 0.005988035 seconds\n",
      "elapsed time: 0.005233775 seconds\n",
      "elapsed time: 0.00509422 seconds\n",
      "Restoration_Failed\n",
      "elapsed time: 0.005225239 seconds\n",
      "elapsed time: 0.004957421 seconds\n",
      "elapsed time: 0.005040578 seconds\n",
      "elapsed time: 0.005079121 seconds\n",
      "elapsed time: 0.005012234 seconds\n",
      "elapsed time: 0.004942012 seconds\n",
      "elapsed time: 0.005034807 seconds\n",
      "elapsed time: 0.005308757 seconds\n",
      "elapsed time: 0.00644928 seconds\n",
      "elapsed time: 0.005171937 seconds\n",
      "elapsed time: 0.00507348 seconds\n",
      "elapsed time: 0.004877579 seconds\n",
      "elapsed time: 0.004800894 seconds\n",
      "Solve_Succeeded\n"
     ]
    }
   ],
   "source": [
    "println(\"Explicit Contacts\")\n",
    "traj_exp = BilevelTrajOpt.simulate(x0,env,Δt,N,ctrl!,implicit_contact=false);"
   ]
  },
  {
   "cell_type": "code",
   "execution_count": 36,
   "metadata": {},
   "outputs": [
    {
     "data": {
      "image/png": "[encoded data removed]"
     },
     "execution_count": 36,
     "metadata": {},
     "output_type": "execute_result"
    }
   ],
   "source": [
    "ts = cumsum([Δt for i in 1:N]);\n",
    "j = 7\n",
    "plot(traj_exp[j,:],label=\"explicit\")\n",
    "plot!(traj_imp[j,:],label=\"implicit\")"
   ]
  },
  {
   "cell_type": "code",
   "execution_count": null,
   "metadata": {},
   "outputs": [],
   "source": [
    "traj_imp"
   ]
  },
  {
   "cell_type": "code",
   "execution_count": null,
   "metadata": {},
   "outputs": [],
   "source": [
    "maximum(traj_exp)"
   ]
  }
 ],
 "metadata": {
  "kernelspec": {
   "display_name": "Julia 0.6.4",
   "language": "julia",
   "name": "julia-0.6"
  },
  "language_info": {
   "file_extension": ".jl",
   "mimetype": "application/julia",
   "name": "julia",
   "version": "0.6.4"
  }
 },
 "nbformat": 4,
 "nbformat_minor": 2
}
