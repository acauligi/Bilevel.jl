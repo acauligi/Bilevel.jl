{
 "cells": [
  {
   "cell_type": "code",
   "execution_count": 1,
   "metadata": {
    "collapsed": false
   },
   "outputs": [
    {
     "data": {
      "text/html": [
       "    <script class='js-collapse-script'>\n",
       "        var curMatch =\n",
       "            window.location.href\n",
       "            .match(/(.*?)\\/notebooks\\/.*\\.ipynb/);\n",
       "\n",
       "        curMatch = curMatch ||\n",
       "            window.location.href\n",
       "            .match(/(.*?)\\/apps\\/.*\\.ipynb/);\n",
       "\n",
       "        if ( curMatch ) {\n",
       "            $('head').append('<base href=\"' + curMatch[1] + '/\">');\n",
       "        }\n",
       "    </script>\n"
      ],
      "text/plain": [
       "HTML{String}(\"    <script class='js-collapse-script'>\\n        var curMatch =\\n            window.location.href\\n            .match(/(.*?)\\\\/notebooks\\\\/.*\\\\.ipynb/);\\n\\n        curMatch = curMatch ||\\n            window.location.href\\n            .match(/(.*?)\\\\/apps\\\\/.*\\\\.ipynb/);\\n\\n        if ( curMatch ) {\\n            \\$('head').append('<base href=\\\"' + curMatch[1] + '/\\\">');\\n        }\\n    </script>\\n\")"
      ]
     },
     "metadata": {},
     "output_type": "display_data"
    },
    {
     "data": {
      "text/html": [
       "<script class='js-collapse-script' src='/assetserver/8c8a043c2f00369f3e7ae550277d2a54e59a34ad-assets/webio/dist/bundle.js'></script>"
      ],
      "text/plain": [
       "HTML{String}(\"<script class='js-collapse-script' src='/assetserver/8c8a043c2f00369f3e7ae550277d2a54e59a34ad-assets/webio/dist/bundle.js'></script>\")"
      ]
     },
     "metadata": {},
     "output_type": "display_data"
    },
    {
     "data": {
      "text/html": [
       "<script class='js-collapse-script' src='/assetserver/8c8a043c2f00369f3e7ae550277d2a54e59a34ad-assets/providers/ijulia_setup.js'></script>"
      ],
      "text/plain": [
       "HTML{String}(\"<script class='js-collapse-script' src='/assetserver/8c8a043c2f00369f3e7ae550277d2a54e59a34ad-assets/providers/ijulia_setup.js'></script>\")"
      ]
     },
     "metadata": {},
     "output_type": "display_data"
    },
    {
     "data": {
      "text/html": [
       "  <script class='js-collapse-script'>\n",
       "    $('.js-collapse-script').parent('.output_subarea').css('padding', '0');\n",
       "  </script>\n"
      ],
      "text/plain": [
       "HTML{String}(\"  <script class='js-collapse-script'>\\n    \\$('.js-collapse-script').parent('.output_subarea').css('padding', '0');\\n  </script>\\n\")"
      ]
     },
     "metadata": {},
     "output_type": "display_data"
    }
   ],
   "source": [
    "using Revise\n",
    "\n",
    "using RigidBodyDynamics\n",
    "using RigidBodyDynamics: Bounds\n",
    "\n",
    "using DrakeVisualizer\n",
    "using Plots\n",
    "using RigidBodyTreeInspector\n",
    "\n",
    "using BilevelTrajOpt\n",
    "gr(size=(500,500), html_output_format=:png);"
   ]
  },
  {
   "cell_type": "code",
   "execution_count": 2,
   "metadata": {
    "collapsed": true
   },
   "outputs": [],
   "source": [
    "urdf = joinpath(\"..\", \"urdf\", \"ball.urdf\")\n",
    "mechanism = parse_urdf(Float64, urdf)\n",
    "body = findbody(mechanism, \"ball\")\n",
    "basejoint = joint_to_parent(body, mechanism)\n",
    "floatingjoint = Joint(basejoint.name, frame_before(basejoint), frame_after(basejoint), QuaternionFloating{Float64}())\n",
    "replace_joint!(mechanism, basejoint, floatingjoint)\n",
    "position_bounds(floatingjoint) .= Bounds(-100, 100)\n",
    "velocity_bounds(floatingjoint) .= Bounds(-100, 100)\n",
    "μ = 0.5\n",
    "motion_type = :xyz\n",
    "point = Point3D(default_frame(findbody(mechanism, \"floor\")), [0.,0.,0.])\n",
    "normal = FreeVector3D(default_frame(findbody(mechanism, \"floor\")), [0.,0.,1.])\n",
    "hs = HalfSpace(point, normal)\n",
    "floor = Obstacle(hs, μ, motion_type)\n",
    "obstacles = [floor]\n",
    "env = parse_contacts(mechanism, urdf, obstacles)\n",
    "x0 = MechanismState(mechanism)\n",
    "Δt = 0.005;"
   ]
  },
  {
   "cell_type": "code",
   "execution_count": 3,
   "metadata": {
    "collapsed": false
   },
   "outputs": [
    {
     "data": {
      "text/plain": [
       "(::#1) (generic function with 1 method)"
      ]
     },
     "execution_count": 3,
     "metadata": {},
     "output_type": "execute_result"
    }
   ],
   "source": [
    "q0 = [1., 0., 0., 0., 0., 0., 0.025]\n",
    "v0 = [0., 0., 0., 0.5, 0. , 0.]\n",
    "N = 5\n",
    "\n",
    "set_configuration!(x0, q0)\n",
    "set_velocity!(x0, v0)\n",
    "setdirty!(x0)\n",
    "\n",
    "ctrl! = (u,t,x) -> u[:] = 0."
   ]
  },
  {
   "cell_type": "code",
   "execution_count": 5,
   "metadata": {
    "collapsed": false
   },
   "outputs": [
    {
     "name": "stdout",
     "output_type": "stream",
     "text": [
      "Implicit Contacts\n",
      "elapsed time: 424.884384437 seconds\n",
      "elapsed time: 0.848276158 seconds\n",
      "elapsed time: 0.914908146 seconds\n",
      "Restoration_Failed\n",
      "elapsed time: 0.803211717 seconds\n",
      "elapsed time: 0.759691019 seconds\n",
      "elapsed time: 0.762345457 seconds\n",
      "Restoration_Failed\n",
      "elapsed time: 0.964716201 seconds\n",
      "elapsed time: 0.854720286 seconds\n",
      "elapsed time: 0.948869803 seconds\n",
      "Restoration_Failed\n",
      "elapsed time: 0.830251994 seconds\n",
      "elapsed time: 0.793953477 seconds\n",
      "elapsed time: 0.778067409 seconds\n",
      "Restoration_Failed\n",
      "elapsed time: 0.77557426 seconds\n",
      "elapsed time: 0.780853618 seconds\n",
      "elapsed time: 0.778393229 seconds\n",
      "Restoration_Failed\n"
     ]
    }
   ],
   "source": [
    "println(\"Implicit Contacts\")\n",
    "traj_imp = BilevelTrajOpt.simulate(x0,env,Δt,N,ctrl!,implicit_contact=true);"
   ]
  },
  {
   "cell_type": "code",
   "execution_count": 4,
   "metadata": {
    "collapsed": false
   },
   "outputs": [
    {
     "name": "stdout",
     "output_type": "stream",
     "text": [
      "Explicit Contacts\n",
      "elapsed time: 38.374960405 seconds\n",
      "elapsed time: 0.007038524 seconds\n",
      "\n",
      "******************************************************************************\n",
      "This program contains Ipopt, a library for large-scale nonlinear optimization.\n",
      " Ipopt is released as open source code under the Eclipse Public License (EPL).\n",
      "         For more information visit http://projects.coin-or.org/Ipopt\n",
      "******************************************************************************\n",
      "\n",
      "elapsed time: 0.00671496 seconds\n",
      "elapsed time: 0.006323084 seconds\n",
      "elapsed time: 0.021520691 seconds\n",
      "elapsed time: 0.006994048 seconds\n",
      "elapsed time: 0.006133548 seconds\n",
      "elapsed time: 0.006240466 seconds\n",
      "elapsed time: 0.006560327 seconds\n",
      "elapsed time: 0.006294152 seconds\n",
      "elapsed time: 0.008064251 seconds\n",
      "elapsed time: 0.007581456 seconds\n",
      "elapsed time: 0.007431864 seconds\n",
      "elapsed time: 0.006679817 seconds\n",
      "elapsed time: 0.006432177 seconds\n",
      "elapsed time: 0.006294968 seconds\n",
      "elapsed time: 0.00668324 seconds\n",
      "elapsed time: 0.006437039 seconds\n",
      "elapsed time: 0.006783979 seconds\n",
      "elapsed time: 0.007330296 seconds\n",
      "elapsed time: 0.006869462 seconds\n",
      "elapsed time: 0.00640084 seconds\n",
      "elapsed time: 0.006197149 seconds\n",
      "elapsed time: 0.006662834 seconds\n",
      "elapsed time: 0.018889771 seconds\n",
      "elapsed time: 0.006608976 seconds\n",
      "Solve_Succeeded\n",
      "elapsed time: 0.006871184 seconds\n",
      "elapsed time: 0.006602992 seconds\n",
      "elapsed time: 0.007285651 seconds\n",
      "elapsed time: 0.006267353 seconds\n",
      "elapsed time: 0.00647652 seconds\n",
      "elapsed time: 0.006148618 seconds\n",
      "elapsed time: 0.006333624 seconds\n",
      "elapsed time: 0.00887282 seconds\n",
      "elapsed time: 0.009935892 seconds\n",
      "elapsed time: 0.008751706 seconds\n",
      "Solve_Succeeded\n",
      "elapsed time: 0.006354278 seconds\n",
      "elapsed time: 0.006421718 seconds\n",
      "elapsed time: 0.00647986 seconds\n",
      "elapsed time: 0.009543988 seconds\n",
      "elapsed time: 0.006391143 seconds\n",
      "elapsed time: 0.020142092 seconds\n",
      "elapsed time: 0.011693374 seconds\n",
      "elapsed time: 0.006743055 seconds\n",
      "elapsed time: 0.006649675 seconds\n",
      "elapsed time: 0.007266438 seconds\n",
      "Solve_Succeeded\n",
      "elapsed time: 0.008459475 seconds\n",
      "elapsed time: 0.006553476 seconds\n",
      "elapsed time: 0.006864575 seconds\n",
      "elapsed time: 0.006333265 seconds\n",
      "elapsed time: 0.007010849 seconds\n",
      "elapsed time: 0.006385607 seconds\n",
      "elapsed time: 0.006571824 seconds\n",
      "elapsed time: 0.006238269 seconds\n",
      "elapsed time: 0.007250183 seconds\n",
      "elapsed time: 0.006431429 seconds\n",
      "Solve_Succeeded\n",
      "elapsed time: 0.007499862 seconds\n",
      "elapsed time: 0.006229074 seconds\n",
      "elapsed time: 0.006442118 seconds\n",
      "elapsed time: 0.007161267 seconds\n",
      "elapsed time: 0.006243604 seconds\n",
      "elapsed time: 0.006572922 seconds\n",
      "elapsed time: 0.006952508 seconds\n",
      "elapsed time: 0.006240053 seconds\n",
      "elapsed time: 0.006543095 seconds\n",
      "elapsed time: 0.00629068 seconds\n",
      "Solve_Succeeded\n"
     ]
    }
   ],
   "source": [
    "println(\"Explicit Contacts\")\n",
    "traj_exp = BilevelTrajOpt.simulate(x0,env,Δt,N,ctrl!,implicit_contact=false);"
   ]
  },
  {
   "cell_type": "code",
   "execution_count": 6,
   "metadata": {
    "collapsed": false
   },
   "outputs": [
    {
     "data": {
      "image/png": "[encoded data removed]"
     },
     "execution_count": 6,
     "metadata": {},
     "output_type": "execute_result"
    }
   ],
   "source": [
    "ts = cumsum([Δt for i in 1:N]);\n",
    "j = 7\n",
    "plot(traj_exp[j,:],label=\"explicit\")\n",
    "# plot!(traj_imp[j,:],label=\"implicit\")"
   ]
  },
  {
   "cell_type": "code",
   "execution_count": 7,
   "metadata": {
    "collapsed": false
   },
   "outputs": [
    {
     "data": {
      "text/plain": [
       "19×6 Array{Float64,2}:\n",
       " 1.0    1.0    1.0    1.0    1.0    1.0  \n",
       " 0.0    0.0    0.0    0.0    0.0    0.0  \n",
       " 0.0    0.0    0.0    0.0    0.0    0.0  \n",
       " 0.0    0.0    0.0    0.0    0.0    0.0  \n",
       " 0.0    0.0    0.0    0.0    0.0    0.0  \n",
       " 0.0    0.0    0.0    0.0    0.0    0.0  \n",
       " 0.025  0.025  0.025  0.025  0.025  0.025\n",
       " 0.0    0.0    0.0    0.0    0.0    0.0  \n",
       " 0.0    0.0    0.0    0.0    0.0    0.0  \n",
       " 0.0    0.0    0.0    0.0    0.0    0.0  \n",
       " 0.5    0.5    0.5    0.5    0.5    0.5  \n",
       " 0.0    0.0    0.0    0.0    0.0    0.0  \n",
       " 0.0    0.0    0.0    0.0    0.0    0.0  \n",
       " 0.0    0.0    0.0    0.0    0.0    0.0  \n",
       " 0.0    0.0    0.0    0.0    0.0    0.0  \n",
       " 0.0    0.0    0.0    0.0    0.0    0.0  \n",
       " 0.0    0.0    0.0    0.0    0.0    0.0  \n",
       " 0.0    0.0    0.0    0.0    0.0    0.0  \n",
       " 0.0    0.0    0.0    0.0    0.0    0.0  "
      ]
     },
     "execution_count": 7,
     "metadata": {},
     "output_type": "execute_result"
    }
   ],
   "source": [
    "traj_imp"
   ]
  },
  {
   "cell_type": "code",
   "execution_count": null,
   "metadata": {
    "collapsed": false
   },
   "outputs": [],
   "source": [
    "maximum(traj_exp)"
   ]
  }
 ],
 "metadata": {
  "kernelspec": {
   "display_name": "Julia 0.6.4",
   "language": "julia",
   "name": "julia-0.6"
  },
  "language_info": {
   "file_extension": ".jl",
   "mimetype": "application/julia",
   "name": "julia",
   "version": "0.6.4"
  }
 },
 "nbformat": 4,
 "nbformat_minor": 2
}
