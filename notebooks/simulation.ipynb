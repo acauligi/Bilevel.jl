{
 "cells": [
  {
   "cell_type": "code",
   "execution_count": 1,
   "metadata": {},
   "outputs": [
    {
     "data": {
      "text/html": [
       "    <script class='js-collapse-script'>\n",
       "        var curMatch =\n",
       "            window.location.href\n",
       "            .match(/(.*?)\\/notebooks\\/.*\\.ipynb/);\n",
       "\n",
       "        curMatch = curMatch ||\n",
       "            window.location.href\n",
       "            .match(/(.*?)\\/apps\\/.*\\.ipynb/);\n",
       "\n",
       "        if ( curMatch ) {\n",
       "            $('head').append('<base href=\"' + curMatch[1] + '/\">');\n",
       "        }\n",
       "    </script>\n"
      ],
      "text/plain": [
       "HTML{String}(\"    <script class='js-collapse-script'>\\n        var curMatch =\\n            window.location.href\\n            .match(/(.*?)\\\\/notebooks\\\\/.*\\\\.ipynb/);\\n\\n        curMatch = curMatch ||\\n            window.location.href\\n            .match(/(.*?)\\\\/apps\\\\/.*\\\\.ipynb/);\\n\\n        if ( curMatch ) {\\n            \\$('head').append('<base href=\\\"' + curMatch[1] + '/\\\">');\\n        }\\n    </script>\\n\")"
      ]
     },
     "metadata": {},
     "output_type": "display_data"
    },
    {
     "data": {
      "text/html": [
       "<script class='js-collapse-script' src='/assetserver/9dd84cf97c4fc16956f39829c81f3b6907c8fc83-assets/webio/dist/bundle.js'></script>"
      ],
      "text/plain": [
       "HTML{String}(\"<script class='js-collapse-script' src='/assetserver/9dd84cf97c4fc16956f39829c81f3b6907c8fc83-assets/webio/dist/bundle.js'></script>\")"
      ]
     },
     "metadata": {},
     "output_type": "display_data"
    },
    {
     "data": {
      "text/html": [
       "<script class='js-collapse-script' src='/assetserver/9dd84cf97c4fc16956f39829c81f3b6907c8fc83-assets/providers/ijulia_setup.js'></script>"
      ],
      "text/plain": [
       "HTML{String}(\"<script class='js-collapse-script' src='/assetserver/9dd84cf97c4fc16956f39829c81f3b6907c8fc83-assets/providers/ijulia_setup.js'></script>\")"
      ]
     },
     "metadata": {},
     "output_type": "display_data"
    },
    {
     "data": {
      "text/html": [
       "  <script class='js-collapse-script'>\n",
       "    $('.js-collapse-script').parent('.output_subarea').css('padding', '0');\n",
       "  </script>\n"
      ],
      "text/plain": [
       "HTML{String}(\"  <script class='js-collapse-script'>\\n    \\$('.js-collapse-script').parent('.output_subarea').css('padding', '0');\\n  </script>\\n\")"
      ]
     },
     "metadata": {},
     "output_type": "display_data"
    }
   ],
   "source": [
    "using Revise\n",
    "\n",
    "using RigidBodyDynamics\n",
    "using RigidBodyDynamics: Bounds\n",
    "\n",
    "using DrakeVisualizer\n",
    "using Plots\n",
    "using RigidBodyTreeInspector\n",
    "\n",
    "using BilevelTrajOpt\n",
    "gr(size=(500,500), html_output_format=:png);"
   ]
  },
  {
   "cell_type": "code",
   "execution_count": 2,
   "metadata": {},
   "outputs": [],
   "source": [
    "urdf = joinpath(\"..\", \"urdf\", \"ball.urdf\")\n",
    "mechanism = parse_urdf(Float64, urdf)\n",
    "body = findbody(mechanism, \"ball\")\n",
    "basejoint = joint_to_parent(body, mechanism)\n",
    "floatingjoint = Joint(basejoint.name, frame_before(basejoint), frame_after(basejoint), QuaternionFloating{Float64}())\n",
    "replace_joint!(mechanism, basejoint, floatingjoint)\n",
    "position_bounds(floatingjoint) .= Bounds(-100, 100)\n",
    "velocity_bounds(floatingjoint) .= Bounds(-100, 100)\n",
    "μ = 0.5\n",
    "motion_type = :xyz\n",
    "point = Point3D(default_frame(findbody(mechanism, \"floor\")), [0.,0.,0.])\n",
    "normal = FreeVector3D(default_frame(findbody(mechanism, \"floor\")), [0.,0.,1.])\n",
    "hs = HalfSpace(point, normal)\n",
    "floor = Obstacle(hs, μ, motion_type)\n",
    "obstacles = [floor]\n",
    "env = parse_contacts(mechanism, urdf, obstacles)\n",
    "x0 = MechanismState(mechanism)\n",
    "Δt = 0.005;"
   ]
  },
  {
   "cell_type": "code",
   "execution_count": null,
   "metadata": {},
   "outputs": [
    {
     "name": "stdout",
     "output_type": "stream",
     "text": [
      "Implicit Contacts\n",
      "elapsed time: 176.390729501 seconds\n",
      "elapsed time: 0.689637008 seconds\n",
      "\n",
      "******************************************************************************\n",
      "This program contains Ipopt, a library for large-scale nonlinear optimization.\n",
      " Ipopt is released as open source code under the Eclipse Public License (EPL).\n",
      "         For more information visit http://projects.coin-or.org/Ipopt\n",
      "******************************************************************************\n",
      "\n",
      "elapsed time: 0.694361585 seconds\n",
      "elapsed time: 0.689528021 seconds\n",
      "elapsed time: 0.689175864 seconds\n",
      "elapsed time: 0.708977455 seconds\n",
      "elapsed time: 0.691422012 seconds\n",
      "elapsed time: 0.708715077 seconds\n",
      "elapsed time: 0.689000502 seconds\n",
      "elapsed time: 0.690440723 seconds\n",
      "elapsed time: 0.686680444 seconds\n",
      "elapsed time: 0.696988696 seconds\n",
      "elapsed time: 0.695983972 seconds\n",
      "elapsed time: 0.695280749 seconds\n",
      "elapsed time: 0.690984695 seconds\n",
      "elapsed time: 0.692197825 seconds\n",
      "elapsed time: 0.691597125 seconds\n",
      "elapsed time: 0.701445577 seconds\n",
      "elapsed time: 0.687938861 seconds\n",
      "elapsed time: 0.696107448 seconds\n",
      "elapsed time: 0.691649295 seconds\n",
      "elapsed time: 0.683820393 seconds\n",
      "elapsed time: 0.68972044 seconds\n",
      "elapsed time: 0.695992881 seconds\n",
      "elapsed time: 0.688893091 seconds\n",
      "elapsed time: 0.69128195 seconds\n",
      "elapsed time: 0.690894697 seconds\n",
      "elapsed time: 0.690182145 seconds\n",
      "elapsed time: 0.702354502 seconds\n",
      "elapsed time: 0.69061172 seconds\n",
      "elapsed time: 0.685931628 seconds\n",
      "elapsed time: 0.690522692 seconds\n",
      "elapsed time: 0.689427746 seconds\n",
      "elapsed time: 0.701602457 seconds\n",
      "elapsed time: 0.70272698 seconds\n",
      "elapsed time: 0.692299551 seconds\n",
      "elapsed time: 0.686823629 seconds\n",
      "elapsed time: 0.689818829 seconds\n",
      "elapsed time: 0.691442556 seconds\n",
      "elapsed time: 0.691885406 seconds\n",
      "elapsed time: 0.696405698 seconds\n",
      "elapsed time: 0.693111743 seconds\n",
      "elapsed time: 0.693077869 seconds\n",
      "elapsed time: 0.691001764 seconds\n",
      "elapsed time: 0.691111321 seconds\n",
      "elapsed time: 0.695959212 seconds\n",
      "elapsed time: 0.697574294 seconds\n",
      "elapsed time: 0.693768859 seconds\n",
      "elapsed time: 0.689335735 seconds\n",
      "elapsed time: 0.695094734 seconds\n",
      "elapsed time: 0.694597521 seconds\n",
      "elapsed time: 0.691577366 seconds\n",
      "elapsed time: 0.696715737 seconds\n",
      "elapsed time: 0.715811089 seconds\n",
      "elapsed time: 0.724300685 seconds\n",
      "elapsed time: 0.726789334 seconds\n",
      "elapsed time: 0.695748465 seconds\n",
      "elapsed time: 0.699450203 seconds\n",
      "elapsed time: 0.697303693 seconds\n",
      "elapsed time: 0.700009944 seconds\n",
      "elapsed time: 0.703480203 seconds\n",
      "elapsed time: 0.719675618 seconds\n",
      "elapsed time: 0.710217005 seconds\n",
      "elapsed time: 0.697756814 seconds\n",
      "elapsed time: 0.697866972 seconds\n",
      "elapsed time: 0.699736999 seconds\n",
      "elapsed time: 0.702013866 seconds\n",
      "elapsed time: 0.699914906 seconds\n",
      "elapsed time: 0.694721782 seconds\n",
      "elapsed time: 0.696165188 seconds\n",
      "elapsed time: 0.696472822 seconds\n",
      "elapsed time: 0.696637864 seconds\n",
      "elapsed time: 0.694107257 seconds\n",
      "elapsed time: 0.694288332 seconds\n",
      "elapsed time: 0.696682571 seconds\n",
      "elapsed time: 0.706347063 seconds\n",
      "Restoration_Failed\n",
      "elapsed time: 0.687458783 seconds\n",
      "elapsed time: 0.701157886 seconds\n",
      "elapsed time: 0.698228611 seconds\n",
      "elapsed time: 0.70309043 seconds\n",
      "elapsed time: 0.701860778 seconds\n",
      "elapsed time: 0.699829948 seconds\n",
      "elapsed time: 0.698857174 seconds\n",
      "elapsed time: 0.69827465 seconds\n",
      "elapsed time: 0.704439628 seconds\n",
      "elapsed time: 0.694151623 seconds\n",
      "elapsed time: 0.703671512 seconds\n",
      "elapsed time: 0.695475414 seconds\n",
      "elapsed time: 0.697141462 seconds\n",
      "elapsed time: 0.695475955 seconds\n",
      "elapsed time: 0.694810794 seconds\n"
     ]
    }
   ],
   "source": [
    "q0 = [1., 0., 0., 0., 0., 0., 0.025]\n",
    "v0 = [0., 0., 0., 0.5, 0. , 0.]\n",
    "N = 25\n",
    "\n",
    "set_configuration!(x0, q0)\n",
    "set_velocity!(x0, v0)\n",
    "setdirty!(x0)\n",
    "\n",
    "ctrl! = (u,t,x) -> u[:] = 0.\n",
    "\n",
    "println(\"Implicit Contacts\")\n",
    "traj_imp = BilevelTrajOpt.simulate(x0,env,Δt,N,ctrl!,implicit_contact=true);"
   ]
  },
  {
   "cell_type": "code",
   "execution_count": null,
   "metadata": {},
   "outputs": [],
   "source": [
    "println(\"Explicit Contacts\")\n",
    "traj_exp = BilevelTrajOpt.simulate(x0,env,Δt,N,ctrl!,implicit_contact=false);"
   ]
  },
  {
   "cell_type": "code",
   "execution_count": null,
   "metadata": {},
   "outputs": [],
   "source": [
    "ts = cumsum([Δt for i in 1:N]);\n",
    "j = 7\n",
    "plot(traj_exp[j,:],label=\"explicit\")\n",
    "plot!(traj_imp[j,:],label=\"implicit\")"
   ]
  },
  {
   "cell_type": "code",
   "execution_count": null,
   "metadata": {},
   "outputs": [],
   "source": [
    "traj_imp"
   ]
  },
  {
   "cell_type": "code",
   "execution_count": null,
   "metadata": {},
   "outputs": [],
   "source": [
    "traj_exp"
   ]
  }
 ],
 "metadata": {
  "kernelspec": {
   "display_name": "Julia 0.6.4",
   "language": "julia",
   "name": "julia-0.6"
  },
  "language_info": {
   "file_extension": ".jl",
   "mimetype": "application/julia",
   "name": "julia",
   "version": "0.6.4"
  }
 },
 "nbformat": 4,
 "nbformat_minor": 2
}
