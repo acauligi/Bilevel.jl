{
 "cells": [
  {
   "cell_type": "code",
   "execution_count": 1,
   "metadata": {
    "collapsed": false
   },
   "outputs": [
    {
     "data": {
      "text/html": [
       "    <script class='js-collapse-script'>\n",
       "        var curMatch =\n",
       "            window.location.href\n",
       "            .match(/(.*?)\\/notebooks\\/.*\\.ipynb/);\n",
       "\n",
       "        curMatch = curMatch ||\n",
       "            window.location.href\n",
       "            .match(/(.*?)\\/apps\\/.*\\.ipynb/);\n",
       "\n",
       "        if ( curMatch ) {\n",
       "            $('head').append('<base href=\"' + curMatch[1] + '/\">');\n",
       "        }\n",
       "    </script>\n"
      ],
      "text/plain": [
       "HTML{String}(\"    <script class='js-collapse-script'>\\n        var curMatch =\\n            window.location.href\\n            .match(/(.*?)\\\\/notebooks\\\\/.*\\\\.ipynb/);\\n\\n        curMatch = curMatch ||\\n            window.location.href\\n            .match(/(.*?)\\\\/apps\\\\/.*\\\\.ipynb/);\\n\\n        if ( curMatch ) {\\n            \\$('head').append('<base href=\\\"' + curMatch[1] + '/\\\">');\\n        }\\n    </script>\\n\")"
      ]
     },
     "metadata": {},
     "output_type": "display_data"
    },
    {
     "data": {
      "text/html": [
       "<script class='js-collapse-script' src='/assetserver/8c8a043c2f00369f3e7ae550277d2a54e59a34ad-assets/webio/dist/bundle.js'></script>"
      ],
      "text/plain": [
       "HTML{String}(\"<script class='js-collapse-script' src='/assetserver/8c8a043c2f00369f3e7ae550277d2a54e59a34ad-assets/webio/dist/bundle.js'></script>\")"
      ]
     },
     "metadata": {},
     "output_type": "display_data"
    },
    {
     "data": {
      "text/html": [
       "<script class='js-collapse-script' src='/assetserver/8c8a043c2f00369f3e7ae550277d2a54e59a34ad-assets/providers/ijulia_setup.js'></script>"
      ],
      "text/plain": [
       "HTML{String}(\"<script class='js-collapse-script' src='/assetserver/8c8a043c2f00369f3e7ae550277d2a54e59a34ad-assets/providers/ijulia_setup.js'></script>\")"
      ]
     },
     "metadata": {},
     "output_type": "display_data"
    },
    {
     "data": {
      "text/html": [
       "  <script class='js-collapse-script'>\n",
       "    $('.js-collapse-script').parent('.output_subarea').css('padding', '0');\n",
       "  </script>\n"
      ],
      "text/plain": [
       "HTML{String}(\"  <script class='js-collapse-script'>\\n    \\$('.js-collapse-script').parent('.output_subarea').css('padding', '0');\\n  </script>\\n\")"
      ]
     },
     "metadata": {},
     "output_type": "display_data"
    }
   ],
   "source": [
    "using Revise\n",
    "\n",
    "using RigidBodyDynamics\n",
    "using RigidBodyDynamics: Bounds\n",
    "\n",
    "using DrakeVisualizer\n",
    "using Plots\n",
    "using RigidBodyTreeInspector\n",
    "\n",
    "using BilevelTrajOpt\n",
    "gr(size=(500,500), html_output_format=:png);"
   ]
  },
  {
   "cell_type": "code",
   "execution_count": 2,
   "metadata": {
    "collapsed": false
   },
   "outputs": [],
   "source": [
    "urdf = joinpath(\"..\", \"urdf\", \"ball.urdf\")\n",
    "mechanism = parse_urdf(Float64, urdf)\n",
    "body = findbody(mechanism, \"ball\")\n",
    "basejoint = joint_to_parent(body, mechanism)\n",
    "floatingjoint = Joint(basejoint.name, frame_before(basejoint), frame_after(basejoint), QuaternionFloating{Float64}())\n",
    "replace_joint!(mechanism, basejoint, floatingjoint)\n",
    "position_bounds(floatingjoint) .= Bounds(-100, 100)\n",
    "velocity_bounds(floatingjoint) .= Bounds(-100, 100)\n",
    "μ = 0.5\n",
    "motion_type = :xyz\n",
    "point = Point3D(default_frame(findbody(mechanism, \"floor\")), [0.,0.,0.])\n",
    "normal = FreeVector3D(default_frame(findbody(mechanism, \"floor\")), [0.,0.,1.])\n",
    "hs = HalfSpace(point, normal)\n",
    "floor = Obstacle(hs, μ, motion_type)\n",
    "obstacles = [floor]\n",
    "env = parse_contacts(mechanism, urdf, obstacles)\n",
    "x0 = MechanismState(mechanism)\n",
    "Δt = 0.005;"
   ]
  },
  {
   "cell_type": "code",
   "execution_count": 3,
   "metadata": {
    "collapsed": false
   },
   "outputs": [
    {
     "name": "stdout",
     "output_type": "stream",
     "text": [
      "Implicit Contacts\n",
      "\n",
      "******************************************************************************\n",
      "This program contains Ipopt, a library for large-scale nonlinear optimization.\n",
      " Ipopt is released as open source code under the Eclipse Public License (EPL).\n",
      "         For more information visit http://projects.coin-or.org/Ipopt\n",
      "******************************************************************************\n",
      "\n"
     ]
    },
    {
     "ename": "LoadError",
     "evalue": "\u001b[91mInterruptException:\u001b[39m",
     "output_type": "error",
     "traceback": [
      "\u001b[91mInterruptException:\u001b[39m",
      "",
      "Stacktrace:",
      " [1] \u001b[1mL\u001b[22m\u001b[22m\u001b[1m(\u001b[22m\u001b[22m::ReverseDiff.TrackedArray{ReverseDiff.TrackedReal{Float64,Float64,ReverseDiff.TrackedArray{Float64,Float64,1,Array{Float64,1},Array{Float64,1}}},ReverseDiff.TrackedReal{Float64,Float64,ReverseDiff.TrackedArray{Float64,Float64,1,Array{Float64,1},Array{Float64,1}}},1,Array{ReverseDiff.TrackedReal{Float64,Float64,ReverseDiff.TrackedArray{Float64,Float64,1,Array{Float64,1},Array{Float64,1}}},1},Array{ReverseDiff.TrackedReal{Float64,Float64,ReverseDiff.TrackedArray{Float64,Float64,1,Array{Float64,1},Array{Float64,1}}},1}}, ::Array{ForwardDiff.Dual{ForwardDiff.Tag{BilevelTrajOpt.##99#107{BilevelTrajOpt.#eval_g#102{BilevelTrajOpt.SimData,Array{Float64,1},Array{Float64,1},Array{Float64,1},Symmetric{Float64,Array{Float64,2}},Array{Float64,1},Array{Float64,1},Array{Float64,1},Array{Float64,1},Array{Float64,1}}},Float64},Float64,10},2}, ::Float64, ::BilevelTrajOpt.##61#74{BilevelTrajOpt.SimData,Array{ForwardDiff.Dual{ForwardDiff.Tag{BilevelTrajOpt.##99#107{BilevelTrajOpt.#eval_g#102{BilevelTrajOpt.SimData,Array{Float64,1},Array{Float64,1},Array{Float64,1},Symmetric{Float64,Array{Float64,2}},Array{Float64,1},Array{Float64,1},Array{Float64,1},Array{Float64,1},Array{Float64,1}}},Float64},Float64,10},1},Array{ForwardDiff.Dual{ForwardDiff.Tag{BilevelTrajOpt.##99#107{BilevelTrajOpt.#eval_g#102{BilevelTrajOpt.SimData,Array{Float64,1},Array{Float64,1},Array{Float64,1},Symmetric{Float64,Array{Float64,2}},Array{Float64,1},Array{Float64,1},Array{Float64,1},Array{Float64,1},Array{Float64,1}}},Float64},Float64,10},2}}, ::BilevelTrajOpt.##17#18{BilevelTrajOpt.##63#76{BilevelTrajOpt.SimData,Array{ForwardDiff.Dual{ForwardDiff.Tag{BilevelTrajOpt.##99#107{BilevelTrajOpt.#eval_g#102{BilevelTrajOpt.SimData,Array{Float64,1},Array{Float64,1},Array{Float64,1},Symmetric{Float64,Array{Float64,2}},Array{Float64,1},Array{Float64,1},Array{Float64,1},Array{Float64,1},Array{Float64,1}}},Float64},Float64,10},2}},Int64}\u001b[1m)\u001b[22m\u001b[22m at \u001b[1m/Users/blandry/.julia/v0.6/BilevelTrajOpt/src/bilevel.jl:13\u001b[22m\u001b[22m",
      " [2] \u001b[1m(::BilevelTrajOpt.##15#16{Array{ForwardDiff.Dual{ForwardDiff.Tag{BilevelTrajOpt.##99#107{BilevelTrajOpt.#eval_g#102{BilevelTrajOpt.SimData,Array{Float64,1},Array{Float64,1},Array{Float64,1},Symmetric{Float64,Array{Float64,2}},Array{Float64,1},Array{Float64,1},Array{Float64,1},Array{Float64,1},Array{Float64,1}}},Float64},Float64,10},2},Float64,BilevelTrajOpt.##61#74{BilevelTrajOpt.SimData,Array{ForwardDiff.Dual{ForwardDiff.Tag{BilevelTrajOpt.##99#107{BilevelTrajOpt.#eval_g#102{BilevelTrajOpt.SimData,Array{Float64,1},Array{Float64,1},Array{Float64,1},Symmetric{Float64,Array{Float64,2}},Array{Float64,1},Array{Float64,1},Array{Float64,1},Array{Float64,1},Array{Float64,1}}},Float64},Float64,10},1},Array{ForwardDiff.Dual{ForwardDiff.Tag{BilevelTrajOpt.##99#107{BilevelTrajOpt.#eval_g#102{BilevelTrajOpt.SimData,Array{Float64,1},Array{Float64,1},Array{Float64,1},Symmetric{Float64,Array{Float64,2}},Array{Float64,1},Array{Float64,1},Array{Float64,1},Array{Float64,1},Array{Float64,1}}},Float64},Float64,10},2}},BilevelTrajOpt.##17#18{BilevelTrajOpt.##63#76{BilevelTrajOpt.SimData,Array{ForwardDiff.Dual{ForwardDiff.Tag{BilevelTrajOpt.##99#107{BilevelTrajOpt.#eval_g#102{BilevelTrajOpt.SimData,Array{Float64,1},Array{Float64,1},Array{Float64,1},Symmetric{Float64,Array{Float64,2}},Array{Float64,1},Array{Float64,1},Array{Float64,1},Array{Float64,1},Array{Float64,1}}},Float64},Float64,10},2}},Int64}})\u001b[22m\u001b[22m\u001b[1m(\u001b[22m\u001b[22m::ReverseDiff.TrackedArray{ReverseDiff.TrackedReal{Float64,Float64,ReverseDiff.TrackedArray{Float64,Float64,1,Array{Float64,1},Array{Float64,1}}},ReverseDiff.TrackedReal{Float64,Float64,ReverseDiff.TrackedArray{Float64,Float64,1,Array{Float64,1},Array{Float64,1}}},1,Array{ReverseDiff.TrackedReal{Float64,Float64,ReverseDiff.TrackedArray{Float64,Float64,1,Array{Float64,1},Array{Float64,1}}},1},Array{ReverseDiff.TrackedReal{Float64,Float64,ReverseDiff.TrackedArray{Float64,Float64,1,Array{Float64,1},Array{Float64,1}}},1}}\u001b[1m)\u001b[22m\u001b[22m at \u001b[1m/Users/blandry/.julia/v0.6/BilevelTrajOpt/src/bilevel.jl:32\u001b[22m\u001b[22m",
      " [3] \u001b[1mType\u001b[22m\u001b[22m at \u001b[1m/Users/blandry/.julia/v0.6/ReverseDiff/src/api/tape.jl:199\u001b[22m\u001b[22m [inlined]",
      " [4] \u001b[1mgradient\u001b[22m\u001b[22m\u001b[1m(\u001b[22m\u001b[22m::Function, ::ReverseDiff.TrackedArray{Float64,Float64,1,Array{Float64,1},Array{Float64,1}}, ::ReverseDiff.GradientConfig{ReverseDiff.TrackedArray{ReverseDiff.TrackedReal{Float64,Float64,ReverseDiff.TrackedArray{Float64,Float64,1,Array{Float64,1},Array{Float64,1}}},ReverseDiff.TrackedReal{Float64,Float64,ReverseDiff.TrackedArray{Float64,Float64,1,Array{Float64,1},Array{Float64,1}}},1,Array{ReverseDiff.TrackedReal{Float64,Float64,ReverseDiff.TrackedArray{Float64,Float64,1,Array{Float64,1},Array{Float64,1}}},1},Array{ReverseDiff.TrackedReal{Float64,Float64,ReverseDiff.TrackedArray{Float64,Float64,1,Array{Float64,1},Array{Float64,1}}},1}}}\u001b[1m)\u001b[22m\u001b[22m at \u001b[1m/Users/blandry/.julia/v0.6/ReverseDiff/src/api/gradients.jl:22\u001b[22m\u001b[22m",
      " [5] \u001b[1m(::ReverseDiff.##555#556{BilevelTrajOpt.##15#16{Array{ForwardDiff.Dual{ForwardDiff.Tag{BilevelTrajOpt.##99#107{BilevelTrajOpt.#eval_g#102{BilevelTrajOpt.SimData,Array{Float64,1},Array{Float64,1},Array{Float64,1},Symmetric{Float64,Array{Float64,2}},Array{Float64,1},Array{Float64,1},Array{Float64,1},Array{Float64,1},Array{Float64,1}}},Float64},Float64,10},2},Float64,BilevelTrajOpt.##61#74{BilevelTrajOpt.SimData,Array{ForwardDiff.Dual{ForwardDiff.Tag{BilevelTrajOpt.##99#107{BilevelTrajOpt.#eval_g#102{BilevelTrajOpt.SimData,Array{Float64,1},Array{Float64,1},Array{Float64,1},Symmetric{Float64,Array{Float64,2}},Array{Float64,1},Array{Float64,1},Array{Float64,1},Array{Float64,1},Array{Float64,1}}},Float64},Float64,10},1},Array{ForwardDiff.Dual{ForwardDiff.Tag{BilevelTrajOpt.##99#107{BilevelTrajOpt.#eval_g#102{BilevelTrajOpt.SimData,Array{Float64,1},Array{Float64,1},Array{Float64,1},Symmetric{Float64,Array{Float64,2}},Array{Float64,1},Array{Float64,1},Array{Float64,1},Array{Float64,1},Array{Float64,1}}},Float64},Float64,10},2}},BilevelTrajOpt.##17#18{BilevelTrajOpt.##63#76{BilevelTrajOpt.SimData,Array{ForwardDiff.Dual{ForwardDiff.Tag{BilevelTrajOpt.##99#107{BilevelTrajOpt.#eval_g#102{BilevelTrajOpt.SimData,Array{Float64,1},Array{Float64,1},Array{Float64,1},Symmetric{Float64,Array{Float64,2}},Array{Float64,1},Array{Float64,1},Array{Float64,1},Array{Float64,1},Array{Float64,1}}},Float64},Float64,10},2}},Int64}},ReverseDiff.HessianConfig{ReverseDiff.GradientConfig{ReverseDiff.TrackedArray{ReverseDiff.TrackedReal{Float64,Float64,ReverseDiff.TrackedArray{Float64,Float64,1,Array{Float64,1},Array{Float64,1}}},ReverseDiff.TrackedReal{Float64,Float64,ReverseDiff.TrackedArray{Float64,Float64,1,Array{Float64,1},Array{Float64,1}}},1,Array{ReverseDiff.TrackedReal{Float64,Float64,ReverseDiff.TrackedArray{Float64,Float64,1,Array{Float64,1},Array{Float64,1}}},1},Array{ReverseDiff.TrackedReal{Float64,Float64,ReverseDiff.TrackedArray{Float64,Float64,1,Array{Float64,1},Array{Float64,1}}},1}}},ReverseDiff.JacobianConfig{ReverseDiff.TrackedArray{Float64,Float64,1,Array{Float64,1},Array{Float64,1}},Void}}})\u001b[22m\u001b[22m\u001b[1m(\u001b[22m\u001b[22m::ReverseDiff.TrackedArray{Float64,Float64,1,Array{Float64,1},Array{Float64,1}}\u001b[1m)\u001b[22m\u001b[22m at \u001b[1m/Users/blandry/.julia/v0.6/ReverseDiff/src/api/hessians.jl:21\u001b[22m\u001b[22m",
      " [6] \u001b[1mType\u001b[22m\u001b[22m at \u001b[1m/Users/blandry/.julia/v0.6/ReverseDiff/src/api/tape.jl:229\u001b[22m\u001b[22m [inlined]",
      " [7] \u001b[1mjacobian\u001b[22m\u001b[22m\u001b[1m(\u001b[22m\u001b[22m::Function, ::Array{Float64,1}, ::ReverseDiff.JacobianConfig{ReverseDiff.TrackedArray{Float64,Float64,1,Array{Float64,1},Array{Float64,1}},Void}\u001b[1m)\u001b[22m\u001b[22m at \u001b[1m/Users/blandry/.julia/v0.6/ReverseDiff/src/api/jacobians.jl:23\u001b[22m\u001b[22m",
      " [8] \u001b[1mhessian\u001b[22m\u001b[22m\u001b[1m(\u001b[22m\u001b[22m::Function, ::Array{Float64,1}, ::ReverseDiff.HessianConfig{ReverseDiff.GradientConfig{ReverseDiff.TrackedArray{ReverseDiff.TrackedReal{Float64,Float64,ReverseDiff.TrackedArray{Float64,Float64,1,Array{Float64,1},Array{Float64,1}}},ReverseDiff.TrackedReal{Float64,Float64,ReverseDiff.TrackedArray{Float64,Float64,1,Array{Float64,1},Array{Float64,1}}},1,Array{ReverseDiff.TrackedReal{Float64,Float64,ReverseDiff.TrackedArray{Float64,Float64,1,Array{Float64,1},Array{Float64,1}}},1},Array{ReverseDiff.TrackedReal{Float64,Float64,ReverseDiff.TrackedArray{Float64,Float64,1,Array{Float64,1},Array{Float64,1}}},1}}},ReverseDiff.JacobianConfig{ReverseDiff.TrackedArray{Float64,Float64,1,Array{Float64,1},Array{Float64,1}},Void}}\u001b[1m)\u001b[22m\u001b[22m at \u001b[1m/Users/blandry/.julia/v0.6/ReverseDiff/src/api/hessians.jl:22\u001b[22m\u001b[22m",
      " [9] \u001b[1mhessian\u001b[22m\u001b[22m\u001b[1m(\u001b[22m\u001b[22m::Function, ::Array{Float64,1}\u001b[1m)\u001b[22m\u001b[22m at \u001b[1m/Users/blandry/.julia/v0.6/ReverseDiff/src/api/hessians.jl:21\u001b[22m\u001b[22m",
      " [10] \u001b[1mauglag_solve\u001b[22m\u001b[22m\u001b[1m(\u001b[22m\u001b[22m::Array{Float64,1}, ::Array{Float64,1}, ::Array{Float64,1}, ::Function, ::BilevelTrajOpt.##62#75{BilevelTrajOpt.SimData,Array{Tuple{RigidBodyDynamics.Spatial.Transform3D{ForwardDiff.Dual{ForwardDiff.Tag{BilevelTrajOpt.##99#107{BilevelTrajOpt.#eval_g#102{BilevelTrajOpt.SimData,Array{Float64,1},Array{Float64,1},Array{Float64,1},Symmetric{Float64,Array{Float64,2}},Array{Float64,1},Array{Float64,1},Array{Float64,1},Array{Float64,1},Array{Float64,1}}},Float64},Float64,10}},RigidBodyDynamics.Spatial.Transform3D{ForwardDiff.Dual{ForwardDiff.Tag{BilevelTrajOpt.##99#107{BilevelTrajOpt.#eval_g#102{BilevelTrajOpt.SimData,Array{Float64,1},Array{Float64,1},Array{Float64,1},Symmetric{Float64,Array{Float64,2}},Array{Float64,1},Array{Float64,1},Array{Float64,1},Array{Float64,1},Array{Float64,1}}},Float64},Float64,10}}},1},Array{RigidBodyDynamics.Spatial.GeometricJacobian{Array{ForwardDiff.Dual{ForwardDiff.Tag{BilevelTrajOpt.##99#107{BilevelTrajOpt.#eval_g#102{BilevelTrajOpt.SimData,Array{Float64,1},Array{Float64,1},Array{Float64,1},Symmetric{Float64,Array{Float64,2}},Array{Float64,1},Array{Float64,1},Array{Float64,1},Array{Float64,1},Array{Float64,1}}},Float64},Float64,10},2}},1},Array{ForwardDiff.Dual{ForwardDiff.Tag{BilevelTrajOpt.##99#107{BilevelTrajOpt.#eval_g#102{BilevelTrajOpt.SimData,Array{Float64,1},Array{Float64,1},Array{Float64,1},Symmetric{Float64,Array{Float64,2}},Array{Float64,1},Array{Float64,1},Array{Float64,1},Array{Float64,1},Array{Float64,1}}},Float64},Float64,10},1},Array{ForwardDiff.Dual{ForwardDiff.Tag{BilevelTrajOpt.##99#107{BilevelTrajOpt.#eval_g#102{BilevelTrajOpt.SimData,Array{Float64,1},Array{Float64,1},Array{Float64,1},Symmetric{Float64,Array{Float64,2}},Array{Float64,1},Array{Float64,1},Array{Float64,1},Array{Float64,1},Array{Float64,1}}},Float64},Float64,10},1}}, ::BilevelTrajOpt.##63#76{BilevelTrajOpt.SimData,Array{ForwardDiff.Dual{ForwardDiff.Tag{BilevelTrajOpt.##99#107{BilevelTrajOpt.#eval_g#102{BilevelTrajOpt.SimData,Array{Float64,1},Array{Float64,1},Array{Float64,1},Symmetric{Float64,Array{Float64,2}},Array{Float64,1},Array{Float64,1},Array{Float64,1},Array{Float64,1},Array{Float64,1}}},Float64},Float64,10},2}}, ::Array{Float64,1}, ::Array{Float64,1}\u001b[1m)\u001b[22m\u001b[22m at \u001b[1m/Users/blandry/.julia/v0.6/BilevelTrajOpt/src/bilevel.jl:63\u001b[22m\u001b[22m",
      " [11] \u001b[1m#solve_implicit_contact_τ#50\u001b[22m\u001b[22m\u001b[1m(\u001b[22m\u001b[22m::Bool, ::Function, ::BilevelTrajOpt.SimData, ::Array{ForwardDiff.Dual{ForwardDiff.Tag{BilevelTrajOpt.##99#107{BilevelTrajOpt.#eval_g#102{BilevelTrajOpt.SimData,Array{Float64,1},Array{Float64,1},Array{Float64,1},Symmetric{Float64,Array{Float64,2}},Array{Float64,1},Array{Float64,1},Array{Float64,1},Array{Float64,1},Array{Float64,1}}},Float64},Float64,10},1}, ::Array{ForwardDiff.Dual{ForwardDiff.Tag{BilevelTrajOpt.##99#107{BilevelTrajOpt.#eval_g#102{BilevelTrajOpt.SimData,Array{Float64,1},Array{Float64,1},Array{Float64,1},Symmetric{Float64,Array{Float64,2}},Array{Float64,1},Array{Float64,1},Array{Float64,1},Array{Float64,1},Array{Float64,1}}},Float64},Float64,10},2}, ::Array{Tuple{RigidBodyDynamics.Spatial.Transform3D{ForwardDiff.Dual{ForwardDiff.Tag{BilevelTrajOpt.##99#107{BilevelTrajOpt.#eval_g#102{BilevelTrajOpt.SimData,Array{Float64,1},Array{Float64,1},Array{Float64,1},Symmetric{Float64,Array{Float64,2}},Array{Float64,1},Array{Float64,1},Array{Float64,1},Array{Float64,1},Array{Float64,1}}},Float64},Float64,10}},RigidBodyDynamics.Spatial.Transform3D{ForwardDiff.Dual{ForwardDiff.Tag{BilevelTrajOpt.##99#107{BilevelTrajOpt.#eval_g#102{BilevelTrajOpt.SimData,Array{Float64,1},Array{Float64,1},Array{Float64,1},Symmetric{Float64,Array{Float64,2}},Array{Float64,1},Array{Float64,1},Array{Float64,1},Array{Float64,1},Array{Float64,1}}},Float64},Float64,10}}},1}, ::Array{RigidBodyDynamics.Spatial.GeometricJacobian{Array{ForwardDiff.Dual{ForwardDiff.Tag{BilevelTrajOpt.##99#107{BilevelTrajOpt.#eval_g#102{BilevelTrajOpt.SimData,Array{Float64,1},Array{Float64,1},Array{Float64,1},Symmetric{Float64,Array{Float64,2}},Array{Float64,1},Array{Float64,1},Array{Float64,1},Array{Float64,1},Array{Float64,1}}},Float64},Float64,10},2}},1}, ::Array{ForwardDiff.Dual{ForwardDiff.Tag{BilevelTrajOpt.##99#107{BilevelTrajOpt.#eval_g#102{BilevelTrajOpt.SimData,Array{Float64,1},Array{Float64,1},Array{Float64,1},Symmetric{Float64,Array{Float64,2}},Array{Float64,1},Array{Float64,1},Array{Float64,1},Array{Float64,1},Array{Float64,1}}},Float64},Float64,10},1}, ::Array{ForwardDiff.Dual{ForwardDiff.Tag{BilevelTrajOpt.##99#107{BilevelTrajOpt.#eval_g#102{BilevelTrajOpt.SimData,Array{Float64,1},Array{Float64,1},Array{Float64,1},Symmetric{Float64,Array{Float64,2}},Array{Float64,1},Array{Float64,1},Array{Float64,1},Array{Float64,1},Array{Float64,1}}},Float64},Float64,10},1}, ::Array{Float64,1}, ::Array{Float64,1}, ::Array{Float64,1}, ::Array{Float64,1}, ::Array{Float64,1}\u001b[1m)\u001b[22m\u001b[22m at \u001b[1m/Users/blandry/.julia/v0.6/BilevelTrajOpt/src/contact.jl:200\u001b[22m\u001b[22m",
      " [12] \u001b[1m(::BilevelTrajOpt.#eval_g#102{BilevelTrajOpt.SimData,Array{Float64,1},Array{Float64,1},Array{Float64,1},Symmetric{Float64,Array{Float64,2}},Array{Float64,1},Array{Float64,1},Array{Float64,1},Array{Float64,1},Array{Float64,1}})\u001b[22m\u001b[22m\u001b[1m(\u001b[22m\u001b[22m::Array{ForwardDiff.Dual{ForwardDiff.Tag{BilevelTrajOpt.##99#107{BilevelTrajOpt.#eval_g#102{BilevelTrajOpt.SimData,Array{Float64,1},Array{Float64,1},Array{Float64,1},Symmetric{Float64,Array{Float64,2}},Array{Float64,1},Array{Float64,1},Array{Float64,1},Array{Float64,1},Array{Float64,1}}},Float64},Float64,10},1}, ::Array{ForwardDiff.Dual{ForwardDiff.Tag{BilevelTrajOpt.##99#107{BilevelTrajOpt.#eval_g#102{BilevelTrajOpt.SimData,Array{Float64,1},Array{Float64,1},Array{Float64,1},Symmetric{Float64,Array{Float64,2}},Array{Float64,1},Array{Float64,1},Array{Float64,1},Array{Float64,1},Array{Float64,1}}},Float64},Float64,10},1}\u001b[1m)\u001b[22m\u001b[22m at \u001b[1m/Users/blandry/.julia/v0.6/BilevelTrajOpt/src/simulation.jl:134\u001b[22m\u001b[22m",
      " [13] \u001b[1mchunk_mode_jacobian\u001b[22m\u001b[22m\u001b[1m(\u001b[22m\u001b[22m::BilevelTrajOpt.##99#107{BilevelTrajOpt.#eval_g#102{BilevelTrajOpt.SimData,Array{Float64,1},Array{Float64,1},Array{Float64,1},Symmetric{Float64,Array{Float64,2}},Array{Float64,1},Array{Float64,1},Array{Float64,1},Array{Float64,1},Array{Float64,1}}}, ::Array{Float64,1}, ::Array{Float64,1}, ::ForwardDiff.JacobianConfig{ForwardDiff.Tag{BilevelTrajOpt.##99#107{BilevelTrajOpt.#eval_g#102{BilevelTrajOpt.SimData,Array{Float64,1},Array{Float64,1},Array{Float64,1},Symmetric{Float64,Array{Float64,2}},Array{Float64,1},Array{Float64,1},Array{Float64,1},Array{Float64,1},Array{Float64,1}}},Float64},Float64,10,Tuple{Array{ForwardDiff.Dual{ForwardDiff.Tag{BilevelTrajOpt.##99#107{BilevelTrajOpt.#eval_g#102{BilevelTrajOpt.SimData,Array{Float64,1},Array{Float64,1},Array{Float64,1},Symmetric{Float64,Array{Float64,2}},Array{Float64,1},Array{Float64,1},Array{Float64,1},Array{Float64,1},Array{Float64,1}}},Float64},Float64,10},1},Array{ForwardDiff.Dual{ForwardDiff.Tag{BilevelTrajOpt.##99#107{BilevelTrajOpt.#eval_g#102{BilevelTrajOpt.SimData,Array{Float64,1},Array{Float64,1},Array{Float64,1},Symmetric{Float64,Array{Float64,2}},Array{Float64,1},Array{Float64,1},Array{Float64,1},Array{Float64,1},Array{Float64,1}}},Float64},Float64,10},1}}}\u001b[1m)\u001b[22m\u001b[22m at \u001b[1m/Users/blandry/.julia/v0.6/ForwardDiff/src/jacobian.jl:212\u001b[22m\u001b[22m",
      " [14] \u001b[1mjacobian\u001b[22m\u001b[22m\u001b[1m(\u001b[22m\u001b[22m::Function, ::Array{Float64,1}, ::Array{Float64,1}, ::ForwardDiff.JacobianConfig{ForwardDiff.Tag{BilevelTrajOpt.##99#107{BilevelTrajOpt.#eval_g#102{BilevelTrajOpt.SimData,Array{Float64,1},Array{Float64,1},Array{Float64,1},Symmetric{Float64,Array{Float64,2}},Array{Float64,1},Array{Float64,1},Array{Float64,1},Array{Float64,1},Array{Float64,1}}},Float64},Float64,10,Tuple{Array{ForwardDiff.Dual{ForwardDiff.Tag{BilevelTrajOpt.##99#107{BilevelTrajOpt.#eval_g#102{BilevelTrajOpt.SimData,Array{Float64,1},Array{Float64,1},Array{Float64,1},Symmetric{Float64,Array{Float64,2}},Array{Float64,1},Array{Float64,1},Array{Float64,1},Array{Float64,1},Array{Float64,1}}},Float64},Float64,10},1},Array{ForwardDiff.Dual{ForwardDiff.Tag{BilevelTrajOpt.##99#107{BilevelTrajOpt.#eval_g#102{BilevelTrajOpt.SimData,Array{Float64,1},Array{Float64,1},Array{Float64,1},Symmetric{Float64,Array{Float64,2}},Array{Float64,1},Array{Float64,1},Array{Float64,1},Array{Float64,1},Array{Float64,1}}},Float64},Float64,10},1}}}, ::Val{true}\u001b[1m)\u001b[22m\u001b[22m at \u001b[1m/Users/blandry/.julia/v0.6/ForwardDiff/src/jacobian.jl:36\u001b[22m\u001b[22m",
      " [15] \u001b[1mjacobian\u001b[22m\u001b[22m\u001b[1m(\u001b[22m\u001b[22m::Function, ::Array{Float64,1}, ::Array{Float64,1}, ::ForwardDiff.JacobianConfig{ForwardDiff.Tag{BilevelTrajOpt.##99#107{BilevelTrajOpt.#eval_g#102{BilevelTrajOpt.SimData,Array{Float64,1},Array{Float64,1},Array{Float64,1},Symmetric{Float64,Array{Float64,2}},Array{Float64,1},Array{Float64,1},Array{Float64,1},Array{Float64,1},Array{Float64,1}}},Float64},Float64,10,Tuple{Array{ForwardDiff.Dual{ForwardDiff.Tag{BilevelTrajOpt.##99#107{BilevelTrajOpt.#eval_g#102{BilevelTrajOpt.SimData,Array{Float64,1},Array{Float64,1},Array{Float64,1},Symmetric{Float64,Array{Float64,2}},Array{Float64,1},Array{Float64,1},Array{Float64,1},Array{Float64,1},Array{Float64,1}}},Float64},Float64,10},1},Array{ForwardDiff.Dual{ForwardDiff.Tag{BilevelTrajOpt.##99#107{BilevelTrajOpt.#eval_g#102{BilevelTrajOpt.SimData,Array{Float64,1},Array{Float64,1},Array{Float64,1},Symmetric{Float64,Array{Float64,2}},Array{Float64,1},Array{Float64,1},Array{Float64,1},Array{Float64,1},Array{Float64,1}}},Float64},Float64,10},1}}}\u001b[1m)\u001b[22m\u001b[22m at \u001b[1m/Users/blandry/.julia/v0.6/ForwardDiff/src/jacobian.jl:32\u001b[22m\u001b[22m (repeats 2 times)",
      " [16] \u001b[1m(::BilevelTrajOpt.#eval_jac_g#106{BilevelTrajOpt.SimData,BilevelTrajOpt.#eval_g#102{BilevelTrajOpt.SimData,Array{Float64,1},Array{Float64,1},Array{Float64,1},Symmetric{Float64,Array{Float64,2}},Array{Float64,1},Array{Float64,1},Array{Float64,1},Array{Float64,1},Array{Float64,1}}})\u001b[22m\u001b[22m\u001b[1m(\u001b[22m\u001b[22m::Array{Float64,1}, ::Symbol, ::Array{Int32,1}, ::Array{Int32,1}, ::Array{Float64,1}\u001b[1m)\u001b[22m\u001b[22m at \u001b[1m/Users/blandry/.julia/v0.6/BilevelTrajOpt/src/simulation.jl:155\u001b[22m\u001b[22m",
      " [17] \u001b[1meval_jac_g_wrapper\u001b[22m\u001b[22m\u001b[1m(\u001b[22m\u001b[22m::Int32, ::Ptr{Float64}, ::Int32, ::Int32, ::Int32, ::Ptr{Int32}, ::Ptr{Int32}, ::Ptr{Float64}, ::Ptr{Void}\u001b[1m)\u001b[22m\u001b[22m at \u001b[1m/Users/blandry/.julia/v0.6/Ipopt/src/Ipopt.jl:143\u001b[22m\u001b[22m",
      " [18] \u001b[1msolveProblem\u001b[22m\u001b[22m\u001b[1m(\u001b[22m\u001b[22m::Ipopt.IpoptProblem\u001b[1m)\u001b[22m\u001b[22m at \u001b[1m/Users/blandry/.julia/v0.6/Ipopt/src/Ipopt.jl:322\u001b[22m\u001b[22m",
      " [19] \u001b[1m#simulate#108\u001b[22m\u001b[22m\u001b[1m(\u001b[22m\u001b[22m::Bool, ::Function, ::RigidBodyDynamics.MechanismState{Float64,Float64,Float64,TypeSortedCollections.TypeSortedCollection{Tuple{Array{RigidBodyDynamics.Joint{Float64,RigidBodyDynamics.Fixed{Float64}},1},Array{RigidBodyDynamics.Joint{Float64,RigidBodyDynamics.QuaternionFloating{Float64}},1}},2}}, ::BilevelTrajOpt.Environment, ::Float64, ::Int64, ::##1#2\u001b[1m)\u001b[22m\u001b[22m at \u001b[1m/Users/blandry/.julia/v0.6/BilevelTrajOpt/src/simulation.jl:282\u001b[22m\u001b[22m",
      " [20] \u001b[1m(::BilevelTrajOpt.#kw##simulate)\u001b[22m\u001b[22m\u001b[1m(\u001b[22m\u001b[22m::Array{Any,1}, ::BilevelTrajOpt.#simulate, ::RigidBodyDynamics.MechanismState{Float64,Float64,Float64,TypeSortedCollections.TypeSortedCollection{Tuple{Array{RigidBodyDynamics.Joint{Float64,RigidBodyDynamics.Fixed{Float64}},1},Array{RigidBodyDynamics.Joint{Float64,RigidBodyDynamics.QuaternionFloating{Float64}},1}},2}}, ::BilevelTrajOpt.Environment, ::Float64, ::Int64, ::Function\u001b[1m)\u001b[22m\u001b[22m at \u001b[1m./<missing>:0\u001b[22m\u001b[22m",
      " [21] \u001b[1minclude_string\u001b[22m\u001b[22m\u001b[1m(\u001b[22m\u001b[22m::String, ::String\u001b[1m)\u001b[22m\u001b[22m at \u001b[1m./loading.jl:522\u001b[22m\u001b[22m",
      " [22] \u001b[1mexecute_request\u001b[22m\u001b[22m\u001b[1m(\u001b[22m\u001b[22m::ZMQ.Socket, ::IJulia.Msg\u001b[1m)\u001b[22m\u001b[22m at \u001b[1m/Users/blandry/.julia/v0.6/IJulia/src/execute_request.jl:193\u001b[22m\u001b[22m",
      " [23] \u001b[1m(::Compat.#inner#14{Array{Any,1},IJulia.#execute_request,Tuple{ZMQ.Socket,IJulia.Msg}})\u001b[22m\u001b[22m\u001b[1m(\u001b[22m\u001b[22m\u001b[1m)\u001b[22m\u001b[22m at \u001b[1m/Users/blandry/.julia/v0.6/Compat/src/Compat.jl:332\u001b[22m\u001b[22m",
      " [24] \u001b[1meventloop\u001b[22m\u001b[22m\u001b[1m(\u001b[22m\u001b[22m::ZMQ.Socket\u001b[1m)\u001b[22m\u001b[22m at \u001b[1m/Users/blandry/.julia/v0.6/IJulia/src/eventloop.jl:8\u001b[22m\u001b[22m",
      " [25] \u001b[1m(::IJulia.##13#16)\u001b[22m\u001b[22m\u001b[1m(\u001b[22m\u001b[22m\u001b[1m)\u001b[22m\u001b[22m at \u001b[1m./task.jl:335\u001b[22m\u001b[22m"
     ]
    }
   ],
   "source": [
    "q0 = [1., 0., 0., 0., 0., 0., 0.0025]\n",
    "v0 = [0., 0., 0., .25, 0. , 0.]\n",
    "N = 3 #25\n",
    "\n",
    "set_configuration!(x0, q0)\n",
    "set_velocity!(x0, v0)\n",
    "setdirty!(x0)\n",
    "\n",
    "ctrl! = (u,t,x) -> u[:] = 0.\n",
    "\n",
    "println(\"Implicit Contacts\")\n",
    "traj_imp = BilevelTrajOpt.simulate(x0,env,Δt,N,ctrl!,implicit_contact=true);"
   ]
  },
  {
   "cell_type": "code",
   "execution_count": null,
   "metadata": {
    "collapsed": false
   },
   "outputs": [],
   "source": [
    "println(\"Explicit Contacts\")\n",
    "traj_exp = BilevelTrajOpt.simulate(x0,env,Δt,N,ctrl!,implicit_contact=false);"
   ]
  },
  {
   "cell_type": "code",
   "execution_count": null,
   "metadata": {
    "collapsed": false
   },
   "outputs": [],
   "source": [
    "ts = cumsum([Δt for i in 1:N]);\n",
    "j = 11\n",
    "plot(traj_exp[j,:],label=\"explicit\")\n",
    "plot!(traj_imp[j,:],label=\"implicit\")"
   ]
  }
 ],
 "metadata": {
  "kernelspec": {
   "display_name": "Julia 0.6.4",
   "language": "julia",
   "name": "julia-0.6"
  },
  "language_info": {
   "file_extension": ".jl",
   "mimetype": "application/julia",
   "name": "julia",
   "version": "0.6.4"
  }
 },
 "nbformat": 4,
 "nbformat_minor": 2
}
