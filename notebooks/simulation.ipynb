{
 "cells": [
  {
   "cell_type": "code",
   "execution_count": 5,
   "metadata": {
    "collapsed": false
   },
   "outputs": [],
   "source": [
    "using Revise\n",
    "using BilevelTrajOpt\n",
    "\n",
    "using RigidBodyDynamics\n",
    "using Plots\n",
    "gr(size=(500,500), html_output_format=:png);"
   ]
  },
  {
   "cell_type": "code",
   "execution_count": 6,
   "metadata": {
    "collapsed": true
   },
   "outputs": [],
   "source": [
    "urdf = joinpath(\"..\", \"urdf\", \"ball.urdf\")\n",
    "mechanism = parse_urdf(Float64, urdf)\n",
    "body = findbody(mechanism, \"ball\")\n",
    "basejoint = joint_to_parent(body, mechanism)\n",
    "floatingjoint = Joint(basejoint.name, frame_before(basejoint), frame_after(basejoint), QuaternionFloating{Float64}())\n",
    "replace_joint!(mechanism, basejoint, floatingjoint)\n",
    "position_bounds(floatingjoint) .= RigidBodyDynamics.Bounds(-100, 100)\n",
    "velocity_bounds(floatingjoint) .= RigidBodyDynamics.Bounds(-100, 100)\n",
    "μ = 0.5\n",
    "motion_type = :xyz\n",
    "point = Point3D(default_frame(findbody(mechanism, \"floor\")), [0.,0.,0.])\n",
    "normal = FreeVector3D(default_frame(findbody(mechanism, \"floor\")), [0.,0.,1.])\n",
    "hs = HalfSpace(point, normal)\n",
    "floor = Obstacle(hs, μ, motion_type)\n",
    "obstacles = [floor]\n",
    "env = parse_contacts(mechanism, urdf, obstacles)\n",
    "x0 = MechanismState(mechanism)\n",
    "Δt = 0.005;"
   ]
  },
  {
   "cell_type": "code",
   "execution_count": 14,
   "metadata": {
    "collapsed": false
   },
   "outputs": [],
   "source": [
    "q0 = [1., 0., 0., 0., 0., 0., 0.005]\n",
    "v0 = [0., 0., 0., 0.1, 0. , 0.]\n",
    "N = 15\n",
    "\n",
    "set_configuration!(x0, q0)\n",
    "set_velocity!(x0, v0)\n",
    "setdirty!(x0)\n",
    "\n",
    "ctrl! = (u,t,x) -> u[:] .= 0.;"
   ]
  },
  {
   "cell_type": "code",
   "execution_count": null,
   "metadata": {
    "collapsed": false
   },
   "outputs": [],
   "source": [
    "println(\"Explicit Contacts\")\n",
    "traj_exp = BilevelTrajOpt.simulate_ipopt(x0,env,Δt,N,ctrl!,implicit_contact=false);"
   ]
  },
  {
   "cell_type": "code",
   "execution_count": null,
   "metadata": {
    "collapsed": false
   },
   "outputs": [],
   "source": [
    "println(\"Implicit Contacts\")\n",
    "traj_imp = BilevelTrajOpt.simulate_ipopt(x0,env,Δt,N,ctrl!,implicit_contact=true);"
   ]
  },
  {
   "cell_type": "code",
   "execution_count": null,
   "metadata": {
    "collapsed": false
   },
   "outputs": [],
   "source": [
    "println(\"Explicit Contacts\")\n",
    "traj_exp = BilevelTrajOpt.simulate_snopt(x0,env,Δt,N,ctrl!,implicit_contact=false);"
   ]
  },
  {
   "cell_type": "code",
   "execution_count": 17,
   "metadata": {
    "collapsed": false
   },
   "outputs": [
    {
     "name": "stdout",
     "output_type": "stream",
     "text": [
      "Implicit Contacts\n",
      "  0.286418 seconds (1.25 M allocations: 228.728 MiB, 21.28% gc time)\n",
      "  0.282221 seconds (1.25 M allocations: 228.728 MiB, 20.77% gc time)\n",
      "  0.294465 seconds (1.25 M allocations: 228.727 MiB, 18.71% gc time)\n",
      "  0.279017 seconds (1.25 M allocations: 228.726 MiB, 18.90% gc time)\n",
      "Finished successfully: optimality conditions satisfied\n",
      "  0.280599 seconds (1.25 M allocations: 228.728 MiB, 21.24% gc time)\n",
      "  0.273668 seconds (1.25 M allocations: 228.728 MiB, 19.64% gc time)\n",
      "  0.278008 seconds (1.25 M allocations: 228.727 MiB, 21.33% gc time)\n",
      "  0.273182 seconds (1.25 M allocations: 228.726 MiB, 19.90% gc time)\n",
      "  0.272603 seconds (1.25 M allocations: 228.727 MiB, 19.31% gc time)\n",
      "  0.288165 seconds (1.25 M allocations: 228.727 MiB, 20.71% gc time)\n",
      "  0.290730 seconds (1.25 M allocations: 228.727 MiB, 19.08% gc time)\n",
      "  0.285530 seconds (1.25 M allocations: 228.727 MiB, 20.96% gc time)\n",
      "  0.287771 seconds (1.25 M allocations: 228.727 MiB, 20.17% gc time)\n",
      "  0.274570 seconds (1.25 M allocations: 228.727 MiB, 18.67% gc time)\n",
      "  0.278202 seconds (1.25 M allocations: 228.727 MiB, 21.33% gc time)\n",
      "  0.276022 seconds (1.25 M allocations: 228.727 MiB, 18.70% gc time)\n",
      "  0.279212 seconds (1.25 M allocations: 228.727 MiB, 17.87% gc time)\n",
      "  0.286432 seconds (1.25 M allocations: 228.727 MiB, 19.84% gc time)\n",
      "  0.273753 seconds (1.25 M allocations: 228.727 MiB, 19.16% gc time)\n",
      "  0.282685 seconds (1.25 M allocations: 228.727 MiB, 22.31% gc time)\n",
      "Terminated after numerical difficulties: singular basis\n",
      "  0.275662 seconds (1.25 M allocations: 228.728 MiB, 18.72% gc time)\n",
      "  0.267604 seconds (1.25 M allocations: 228.728 MiB, 18.75% gc time)\n",
      "  0.278136 seconds (1.25 M allocations: 228.727 MiB, 21.53% gc time)\n",
      "  0.278738 seconds (1.25 M allocations: 228.726 MiB, 17.87% gc time)\n",
      "  0.285106 seconds (1.25 M allocations: 228.727 MiB, 20.64% gc time)\n",
      "  0.277875 seconds (1.25 M allocations: 228.727 MiB, 19.00% gc time)\n",
      "  0.465285 seconds (1.25 M allocations: 228.727 MiB, 48.69% gc time)\n",
      "  0.299976 seconds (1.25 M allocations: 228.727 MiB, 21.36% gc time)\n",
      "  0.275037 seconds (1.25 M allocations: 228.727 MiB, 18.59% gc time)\n",
      "  0.280504 seconds (1.25 M allocations: 228.727 MiB, 19.59% gc time)\n",
      "  0.281629 seconds (1.25 M allocations: 228.727 MiB, 21.02% gc time)\n",
      "  0.275212 seconds (1.25 M allocations: 228.726 MiB, 18.66% gc time)\n",
      "  0.279387 seconds (1.25 M allocations: 228.727 MiB, 20.95% gc time)\n",
      "  0.282120 seconds (1.25 M allocations: 228.727 MiB, 19.41% gc time)\n",
      "  0.280794 seconds (1.25 M allocations: 228.727 MiB, 17.77% gc time)\n",
      "  0.275157 seconds (1.25 M allocations: 228.727 MiB, 20.35% gc time)\n",
      "  0.291179 seconds (1.25 M allocations: 228.727 MiB, 17.15% gc time)\n",
      "  0.280018 seconds (1.25 M allocations: 228.727 MiB, 20.05% gc time)\n",
      "  0.270667 seconds (1.25 M allocations: 228.727 MiB, 18.98% gc time)\n",
      "  0.272760 seconds (1.25 M allocations: 228.727 MiB, 18.25% gc time)\n",
      "  0.275992 seconds (1.25 M allocations: 228.727 MiB, 19.62% gc time)\n",
      "Finished successfully: optimality conditions satisfied\n",
      "  0.277042 seconds (1.25 M allocations: 228.728 MiB, 17.98% gc time)\n",
      "  0.278096 seconds (1.25 M allocations: 228.728 MiB, 20.89% gc time)\n",
      "  0.279241 seconds (1.25 M allocations: 228.728 MiB, 19.23% gc time)\n",
      "  0.273079 seconds (1.25 M allocations: 228.726 MiB, 18.03% gc time)\n",
      "  0.280757 seconds (1.25 M allocations: 228.726 MiB, 21.26% gc time)\n",
      "Finished successfully: optimality conditions satisfied\n",
      "  0.273704 seconds (1.25 M allocations: 228.728 MiB, 18.73% gc time)\n",
      "  0.282427 seconds (1.25 M allocations: 228.728 MiB, 20.46% gc time)\n",
      "  0.283121 seconds (1.25 M allocations: 228.728 MiB, 20.18% gc time)\n",
      "  0.282493 seconds (1.25 M allocations: 228.727 MiB, 18.07% gc time)\n",
      "  0.284008 seconds (1.25 M allocations: 228.726 MiB, 20.42% gc time)\n",
      "  0.273293 seconds (1.25 M allocations: 228.726 MiB, 18.48% gc time)\n",
      "Finished successfully: optimality conditions satisfied\n",
      "  0.279576 seconds (1.25 M allocations: 228.728 MiB, 18.83% gc time)\n",
      "  0.298828 seconds (1.25 M allocations: 228.728 MiB, 20.65% gc time)\n",
      "  0.279095 seconds (1.25 M allocations: 228.729 MiB, 18.79% gc time)\n",
      "  0.290030 seconds (1.25 M allocations: 228.729 MiB, 21.17% gc time)\n",
      "  0.273594 seconds (1.25 M allocations: 228.729 MiB, 20.01% gc time)\n",
      "  0.279987 seconds (1.25 M allocations: 228.729 MiB, 18.68% gc time)\n",
      "  0.283253 seconds (1.25 M allocations: 228.729 MiB, 22.00% gc time)\n",
      "  0.276408 seconds (1.25 M allocations: 228.729 MiB, 19.65% gc time)\n",
      "  0.281810 seconds (1.25 M allocations: 228.729 MiB, 20.13% gc time)\n",
      "  0.280579 seconds (1.25 M allocations: 228.729 MiB, 20.11% gc time)\n",
      "  0.274848 seconds (1.25 M allocations: 228.729 MiB, 19.52% gc time)\n",
      "  0.282974 seconds (1.25 M allocations: 228.729 MiB, 21.17% gc time)\n",
      "  0.279689 seconds (1.25 M allocations: 228.729 MiB, 19.11% gc time)\n",
      "  0.280408 seconds (1.25 M allocations: 228.729 MiB, 20.82% gc time)\n",
      "  0.288686 seconds (1.25 M allocations: 228.729 MiB, 20.65% gc time)\n",
      "  0.273496 seconds (1.25 M allocations: 228.729 MiB, 18.26% gc time)\n",
      "  0.286976 seconds (1.25 M allocations: 228.729 MiB, 20.44% gc time)\n",
      "  0.276494 seconds (1.25 M allocations: 228.729 MiB, 19.19% gc time)\n",
      "  0.275503 seconds (1.25 M allocations: 228.729 MiB, 18.23% gc time)\n",
      "  0.281717 seconds (1.25 M allocations: 228.729 MiB, 20.21% gc time)\n",
      "  0.277860 seconds (1.25 M allocations: 228.729 MiB, 18.83% gc time)\n",
      "  0.278429 seconds (1.25 M allocations: 228.729 MiB, 20.86% gc time)\n",
      "  0.280568 seconds (1.25 M allocations: 228.729 MiB, 19.30% gc time)\n",
      "  0.280895 seconds (1.25 M allocations: 228.729 MiB, 17.45% gc time)\n",
      "  0.277856 seconds (1.25 M allocations: 228.729 MiB, 20.10% gc time)\n",
      "  0.293613 seconds (1.25 M allocations: 228.729 MiB, 17.91% gc time)\n",
      "  0.341434 seconds (1.25 M allocations: 228.729 MiB, 19.34% gc time)\n",
      "  0.308980 seconds (1.25 M allocations: 228.729 MiB, 18.44% gc time)\n",
      "  0.278157 seconds (1.25 M allocations: 228.729 MiB, 18.36% gc time)\n",
      "  0.470962 seconds (1.25 M allocations: 228.729 MiB, 51.72% gc time)\n",
      "  0.319322 seconds (1.25 M allocations: 228.729 MiB, 18.17% gc time)\n",
      "Finished successfully: optimality conditions satisfied\n",
      "  0.291277 seconds (1.25 M allocations: 228.729 MiB, 20.65% gc time)\n",
      "  0.279446 seconds (1.25 M allocations: 228.729 MiB, 20.01% gc time)\n",
      "  0.290768 seconds (1.25 M allocations: 228.748 MiB, 17.65% gc time)\n",
      "  0.323538 seconds (1.25 M allocations: 228.748 MiB, 20.71% gc time)\n",
      "  0.305389 seconds (1.25 M allocations: 228.748 MiB, 18.62% gc time)\n",
      "  0.434091 seconds (1.25 M allocations: 228.748 MiB, 16.16% gc time)\n",
      "  0.301117 seconds (1.25 M allocations: 228.748 MiB, 19.60% gc time)\n",
      "  0.300640 seconds (1.25 M allocations: 228.748 MiB, 18.31% gc time)\n",
      "Finished successfully: optimality conditions satisfied\n",
      "  0.353624 seconds (1.25 M allocations: 228.728 MiB, 18.45% gc time)\n",
      "  0.314775 seconds (1.25 M allocations: 228.728 MiB, 18.50% gc time)\n",
      "  0.279087 seconds (1.25 M allocations: 228.729 MiB, 18.48% gc time)\n",
      "  0.288079 seconds (1.25 M allocations: 228.729 MiB, 19.26% gc time)\n",
      "  0.299780 seconds (1.25 M allocations: 228.729 MiB, 16.69% gc time)\n",
      "  0.288174 seconds (1.25 M allocations: 228.729 MiB, 19.28% gc time)\n",
      "  0.315877 seconds (1.25 M allocations: 228.729 MiB, 18.43% gc time)\n",
      "  0.309265 seconds (1.25 M allocations: 228.729 MiB, 16.80% gc time)\n",
      "  0.348349 seconds (1.25 M allocations: 228.729 MiB, 18.10% gc time)\n",
      "  0.423690 seconds (1.25 M allocations: 228.729 MiB, 14.36% gc time)\n",
      "  0.345907 seconds (1.25 M allocations: 228.729 MiB, 15.76% gc time)\n",
      "  0.334906 seconds (1.25 M allocations: 228.729 MiB, 18.18% gc time)\n",
      "  0.357739 seconds (1.25 M allocations: 228.729 MiB, 14.53% gc time)\n",
      "  0.319280 seconds (1.25 M allocations: 228.729 MiB, 19.25% gc time)\n",
      "  0.284918 seconds (1.25 M allocations: 228.729 MiB, 18.20% gc time)\n",
      "  0.330266 seconds (1.25 M allocations: 228.729 MiB, 16.52% gc time)\n",
      "  0.381668 seconds (1.25 M allocations: 228.729 MiB, 18.78% gc time)\n",
      "  0.321867 seconds (1.25 M allocations: 228.729 MiB, 17.79% gc time)\n",
      "Terminated after numerical difficulties: current point cannot be improved\n",
      "  0.319041 seconds (1.25 M allocations: 228.728 MiB, 19.93% gc time)\n",
      "  0.329909 seconds (1.25 M allocations: 228.728 MiB, 17.04% gc time)\n",
      "  0.325369 seconds (1.25 M allocations: 228.729 MiB, 17.22% gc time)\n",
      "  0.328797 seconds (1.25 M allocations: 228.729 MiB, 20.05% gc time)\n",
      "  0.294584 seconds (1.25 M allocations: 228.729 MiB, 18.71% gc time)\n",
      "  0.284590 seconds (1.25 M allocations: 228.729 MiB, 18.33% gc time)\n",
      "  0.310671 seconds (1.25 M allocations: 228.729 MiB, 19.72% gc time)\n",
      "  0.314712 seconds (1.25 M allocations: 228.744 MiB, 19.56% gc time)\n",
      "  0.288906 seconds (1.25 M allocations: 228.729 MiB, 20.45% gc time)\n",
      "  0.291131 seconds (1.25 M allocations: 228.729 MiB, 19.03% gc time)\n",
      "  0.305534 seconds (1.25 M allocations: 228.729 MiB, 17.46% gc time)\n",
      "  0.335522 seconds (1.25 M allocations: 228.729 MiB, 19.32% gc time)\n",
      "Finished successfully: requested accuracy could not be achieved\n",
      "  0.292127 seconds (1.25 M allocations: 228.729 MiB, 19.03% gc time)\n",
      "  0.314278 seconds (1.25 M allocations: 228.729 MiB, 20.12% gc time)\n",
      "  0.319047 seconds (1.25 M allocations: 228.729 MiB, 17.60% gc time)\n",
      "Finished successfully: optimality conditions satisfied\n",
      "  0.290774 seconds (1.25 M allocations: 228.729 MiB, 20.04% gc time)\n",
      "  0.296660 seconds (1.25 M allocations: 228.729 MiB, 21.16% gc time)\n",
      "  0.318973 seconds (1.25 M allocations: 228.729 MiB, 18.84% gc time)\n",
      "Finished successfully: optimality conditions satisfied\n",
      "  0.298299 seconds (1.25 M allocations: 228.729 MiB, 17.62% gc time)\n",
      "  0.288814 seconds (1.25 M allocations: 228.729 MiB, 19.35% gc time)\n",
      "  0.349900 seconds (1.25 M allocations: 228.729 MiB, 16.49% gc time)\n",
      "Finished successfully: optimality conditions satisfied\n",
      "  0.346111 seconds (1.25 M allocations: 228.729 MiB, 18.18% gc time)\n",
      "  0.302556 seconds (1.25 M allocations: 228.729 MiB, 18.23% gc time)\n",
      "  0.293836 seconds (1.25 M allocations: 228.729 MiB, 18.40% gc time)\n",
      "Finished successfully: optimality conditions satisfied\n",
      "  0.310058 seconds (1.25 M allocations: 228.729 MiB, 18.13% gc time)\n",
      "  0.473013 seconds (1.25 M allocations: 228.729 MiB, 51.14% gc time)\n",
      "  0.294056 seconds (1.25 M allocations: 228.729 MiB, 20.25% gc time)\n",
      "Finished successfully: optimality conditions satisfied\n",
      "  0.300151 seconds (1.25 M allocations: 228.729 MiB, 19.23% gc time)\n",
      "  0.301010 seconds (1.25 M allocations: 228.729 MiB, 18.64% gc time)\n",
      "  0.295252 seconds (1.25 M allocations: 228.729 MiB, 20.09% gc time)\n",
      "Finished successfully: optimality conditions satisfied\n"
     ]
    }
   ],
   "source": [
    "println(\"Implicit Contacts\")\n",
    "traj_imp = BilevelTrajOpt.simulate_snopt(x0,env,Δt,N,ctrl!,implicit_contact=true);"
   ]
  },
  {
   "cell_type": "code",
   "execution_count": 20,
   "metadata": {
    "collapsed": false
   },
   "outputs": [
    {
     "data": {
      "image/png": "[encoded data removed]"
     },
     "execution_count": 20,
     "metadata": {},
     "output_type": "execute_result"
    }
   ],
   "source": [
    "ts = cumsum([Δt for i in 1:N]);\n",
    "j = 11\n",
    "plot(traj_exp[j,:],label=\"explicit\")\n",
    "plot!(traj_imp[j,:],label=\"implicit\")"
   ]
  }
 ],
 "metadata": {
  "kernelspec": {
   "display_name": "Julia 0.7.0",
   "language": "julia",
   "name": "julia-0.7"
  },
  "language_info": {
   "file_extension": ".jl",
   "mimetype": "application/julia",
   "name": "julia",
   "version": "0.7.0"
  }
 },
 "nbformat": 4,
 "nbformat_minor": 2
}
