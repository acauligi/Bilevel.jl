{
 "cells": [
  {
   "cell_type": "code",
   "execution_count": 5,
   "metadata": {},
   "outputs": [],
   "source": [
    "using Revise\n",
    "\n",
    "using BilevelTrajOpt\n",
    "using ForwardDiff\n",
    "using DiffResults\n",
    "using Plots\n",
    "using LaTeXStrings"
   ]
  },
  {
   "cell_type": "code",
   "execution_count": 2,
   "metadata": {},
   "outputs": [
    {
     "data": {
      "text/plain": [
       "#7 (generic function with 1 method)"
      ]
     },
     "execution_count": 2,
     "metadata": {},
     "output_type": "execute_result"
    }
   ],
   "source": [
    "# Problem taken from:\n",
    "# Sinha, Ankur, Pekka Malo, and Kalyanmoy Deb. \n",
    "# \"A review on bilevel optimization: from classical to evolutionary approaches and applications.\" \n",
    "# IEEE Transactions on Evolutionary Computation 22.2 (2018): 276-295.\n",
    "\n",
    "α = 10.\n",
    "β = .2\n",
    "\n",
    "δl = 1.\n",
    "δf = 2.\n",
    "γl = .3\n",
    "γf = 5.8\n",
    "cl = 10.\n",
    "cf = 1.\n",
    "\n",
    "P = (ql,qf) -> α - β*(ql + qf)\n",
    "Cl = ql -> δl*ql*ql + γl*ql + cl\n",
    "Cf = qf -> δf*qf*qf + γf*qf + cf"
   ]
  },
  {
   "cell_type": "code",
   "execution_count": 3,
   "metadata": {},
   "outputs": [
    {
     "data": {
      "text/plain": [
       "3.99236641221374"
      ]
     },
     "metadata": {},
     "output_type": "display_data"
    },
    {
     "data": {
      "text/plain": [
       "0.7730742539902844"
      ]
     },
     "metadata": {},
     "output_type": "display_data"
    }
   ],
   "source": [
    "# closed form solution\n",
    "\n",
    "qlopt = (2. * (β + δf)*(α - γl)-β * (α - γf))/(4. * (β + δf)*(β + δl) - 2. * β^2)\n",
    "qfopt = (α - γf)/(2. * (β + δf)) - (β * (α - γl) - (β^2 * (α - γf))/(2. * (β + δf)))/(4. * (β + δf) * (β + δl) - 2. * β^2)\n",
    "\n",
    "display(qlopt)\n",
    "display(qfopt)"
   ]
  },
  {
   "cell_type": "code",
   "execution_count": 6,
   "metadata": {},
   "outputs": [
    {
     "data": {
      "text/plain": [
       "\"Finished successfully: optimality conditions satisfied\""
      ]
     },
     "metadata": {},
     "output_type": "display_data"
    },
    {
     "data": {
      "text/plain": [
       "1-element Array{Float64,1}:\n",
       " 3.9923664122137463"
      ]
     },
     "metadata": {},
     "output_type": "display_data"
    },
    {
     "data": {
      "text/plain": [
       "1-element Array{Float64,1}:\n",
       " 0.7730742539903015"
      ]
     },
     "metadata": {},
     "output_type": "display_data"
    },
    {
     "name": "stderr",
     "output_type": "stream",
     "text": [
      "WARNING: Base.γ is deprecated, use MathConstants.γ instead.\n",
      "  likely near /home/blandry/.julia/packages/IJulia/GIANC/src/kernel.jl:41\n",
      "WARNING: Base.γ is deprecated, use MathConstants.γ instead.\n",
      "  likely near /home/blandry/.julia/packages/IJulia/GIANC/src/kernel.jl:41\n",
      "WARNING: Base.γ is deprecated, use MathConstants.γ instead.\n",
      "  likely near /home/blandry/.julia/packages/IJulia/GIANC/src/kernel.jl:41\n",
      "WARNING: Base.γ is deprecated, use MathConstants.γ instead.\n",
      "  likely near /home/blandry/.julia/packages/IJulia/GIANC/src/kernel.jl:41\n",
      "WARNING: Base.γ is deprecated, use MathConstants.γ instead.\n",
      "  likely near /home/blandry/.julia/packages/IJulia/GIANC/src/kernel.jl:41\n"
     ]
    }
   ],
   "source": [
    "# solution using our bilevel solver\n",
    "\n",
    "function F(ql)\n",
    "    fqf = qf -> -(P(ql[1],qf[1])*qf[1] - Cf(qf[1]))\n",
    "    hqf = qf -> [0.]\n",
    "    gqf = qf -> -qf\n",
    "    qf0 = [0.]\n",
    "    λ0 = [0.]\n",
    "    μ0 = [0.]\n",
    "    qfsol,λsol,μsol = auglag_solve(qf0,λ0,μ0,fqf,hqf,gqf,in_place=false)\n",
    "    \n",
    "    J = -(P(ql[1],qfsol[1])*ql[1] - Cl(ql[1]))\n",
    "    c = -ql\n",
    "    \n",
    "    vcat(J,c)\n",
    "end\n",
    "\n",
    "ql0 = [0.]\n",
    "Fres = DiffResults.JacobianResult(F(ql0),ql0)\n",
    "num_g = 1\n",
    "function bilevel_prob(ql)\n",
    "    ForwardDiff.jacobian!(Fres, F, ql)\n",
    "    Fv = DiffResults.value(Fres)\n",
    "    FJ = DiffResults.jacobian(Fres)\n",
    "        \n",
    "    J = Fv[1]\n",
    "    c = Fv[2:1+num_g]\n",
    "\n",
    "    gJ = FJ[1,:]\n",
    "    gc = FJ[2:1+num_g,:]\n",
    "    \n",
    "    fail = false\n",
    "    \n",
    "    J, c, gJ, gc, fail\n",
    "end\n",
    "\n",
    "lb = [-1e19]\n",
    "ub = [1e19]\n",
    "options = Dict{String, Any}()\n",
    "options[\"Derivative option\"] = 1\n",
    "options[\"Verify level\"] = -1\n",
    "options[\"Major optimality tolerance\"] = 1e-3\n",
    "\n",
    "qlsol, fsol, info = snopt(bilevel_prob, ql0, lb, ub, options)\n",
    "\n",
    "display(info)\n",
    "display(qlsol)\n",
    "\n",
    "function compute_qfsol(ql)\n",
    "    fqf = qf -> -(P(ql[1],qf[1])*qf[1] - Cf(qf[1]))\n",
    "    hqf = qf -> [0.]\n",
    "    gqf = qf -> -qf\n",
    "    qf0 = [0.]\n",
    "    λ0 = [0.]\n",
    "    μ0 = [0.]\n",
    "    qfsol,λsol,μsol = auglag_solve(qf0,λ0,μ0,fqf,hqf,gqf)\n",
    "end\n",
    "\n",
    "qfsol,λsol,μsol = compute_qfsol(qlsol)\n",
    "display(qfsol)"
   ]
  },
  {
   "cell_type": "code",
   "execution_count": 64,
   "metadata": {},
   "outputs": [
    {
     "name": "stderr",
     "output_type": "stream",
     "text": [
      "┌ Warning: Deprecated syntax `implicit assignment to global variable `image_i``.\n",
      "│ Use `global image_i` instead.\n",
      "└ @ nothing none:0\n",
      "┌ Warning: Deprecated syntax `implicit assignment to global variable `F``.\n",
      "│ Use `global F` instead.\n",
      "└ @ nothing none:0\n",
      "┌ Warning: Deprecated syntax `implicit assignment to global variable `F``.\n",
      "│ Use `global F` instead.\n",
      "└ @ nothing none:0\n",
      "┌ Warning: Deprecated syntax `implicit assignment to global variable `bilevel_prob``.\n",
      "│ Use `global bilevel_prob` instead.\n",
      "└ @ nothing none:0\n",
      "┌ Warning: Deprecated syntax `implicit assignment to global variable `bilevel_prob``.\n",
      "│ Use `global bilevel_prob` instead.\n",
      "└ @ nothing none:0\n",
      "┌ Warning: Loop variable `image_i` around In[64]:7 overwrites a variable in an enclosing scope. In the future the variable will be local to the loop instead.\n",
      "└ @ nothing In[64]:7\n"
     ]
    }
   ],
   "source": [
    "# generating plots\n",
    "N = 50\n",
    "with_legend = true\n",
    "thickfont = font(18)\n",
    "legendfont = font(18)\n",
    "guidefont = font(24)\n",
    "\n",
    "for image_i = 1:6\n",
    "    αs = range(5.,stop=5.,length=N)\n",
    "    βs = range(1.,stop=1.,length=N)\n",
    "    δls = range(1.,stop=1.,length=N)\n",
    "    δfs = range(1.,stop=1.,length=N)\n",
    "    γls = range(1.,stop=1.,length=N)\n",
    "    γfs = range(1.,stop=1.,length=N)\n",
    "    cls = range(1.,stop=1.,length=N)\n",
    "    cfs = range(1.,stop=1.,length=N)\n",
    "\n",
    "    if image_i == 1\n",
    "        αs = range(1.,stop=10.,length=N)\n",
    "        xdata = αs \n",
    "        xlabelstring = \"\\\\alpha\"\n",
    "    end\n",
    "\n",
    "    if image_i == 2\n",
    "        βs = range(.1,stop=5.,length=N)\n",
    "        xdata = βs\n",
    "        xlabelstring = \"\\\\beta\"\n",
    "    end\n",
    "\n",
    "    if image_i == 3\n",
    "        δls = range(1.,stop=10.,length=N)\n",
    "        xdata = δls\n",
    "        xlabelstring = \"\\\\delta_l\"\n",
    "    end\n",
    "\n",
    "    if image_i == 4\n",
    "        δfs = range(1.,stop=10.,length=N)\n",
    "        xdata = δfs\n",
    "        xlabelstring = \"\\\\delta_f\"\n",
    "    end\n",
    "\n",
    "    if image_i == 5\n",
    "        γls = range(1.,stop=5.,length=N)\n",
    "        xdata = γls\n",
    "        xlabelstring = \"\\\\gamma_l\"\n",
    "    end\n",
    "        \n",
    "    if image_i == 6\n",
    "        γfs = range(1.,stop=5.,length=N)\n",
    "        xdata = γfs\n",
    "        xlabelstring = \"\\\\gamma_f\"\n",
    "    end\n",
    "            \n",
    "    qlsols = zeros(N)\n",
    "    qlopts = zeros(N)\n",
    "\n",
    "    for i = 1:N\n",
    "        α = αs[i]\n",
    "        β = βs[i]\n",
    "\n",
    "        δl = δls[i]\n",
    "        δf = δfs[i]\n",
    "        γl = γls[i]\n",
    "        γf = γfs[i]\n",
    "        cl = cls[i]\n",
    "        cf = cfs[i]\n",
    "\n",
    "        P = (ql,qf) -> α - β*(ql + qf)\n",
    "        Cl = ql -> δl*ql*ql + γl*ql + cl\n",
    "        Cf = qf -> δf*qf*qf + γf*qf + cf\n",
    "\n",
    "        qlopts[i] = max(0.,(2. * (β + δf)*(α - γl)-β * (α - γf))/(4. * (β + δf)*(β + δl) - 2. * β^2))    \n",
    "\n",
    "        function F(ql)\n",
    "            fqf = qf -> -(P(ql[1],qf[1])*qf[1] - Cf(qf[1]))\n",
    "            hqf = qf -> [0.]\n",
    "            gqf = qf -> -qf\n",
    "            qf0 = [0.]\n",
    "            λ0 = [0.]\n",
    "            μ0 = [0.]\n",
    "            qfsol,λsol,μsol = auglag_solve(qf0,λ0,μ0,fqf,hqf,gqf,in_place=false,num_fosteps=1,num_sosteps=3)\n",
    "\n",
    "            J = -(P(ql[1],qfsol[1])*ql[1] - Cl(ql[1]))\n",
    "            c = -ql\n",
    "\n",
    "            vcat(J,c)\n",
    "        end\n",
    "\n",
    "        ql0 = [0.]\n",
    "        Fres = DiffResults.JacobianResult(F(ql0),ql0)\n",
    "        num_g = 1\n",
    "        function bilevel_prob(ql)\n",
    "            ForwardDiff.jacobian!(Fres, F, ql)\n",
    "            Fv = DiffResults.value(Fres)\n",
    "            FJ = DiffResults.jacobian(Fres)\n",
    "\n",
    "            J = Fv[1]\n",
    "            c = Fv[2:1+num_g]\n",
    "\n",
    "            gJ = FJ[1,:]\n",
    "            gc = FJ[2:1+num_g,:]\n",
    "\n",
    "            fail = false\n",
    "\n",
    "            J, c, gJ, gc, fail\n",
    "        end\n",
    "\n",
    "        lb = [-1e19]\n",
    "        ub = [1e19]\n",
    "        options = Dict{String, Any}()\n",
    "        options[\"Derivative option\"] = 1\n",
    "        options[\"Verify level\"] = -1\n",
    "        options[\"Major optimality tolerance\"] = 1e-4\n",
    "\n",
    "        qlsol, fsol, info = snopt(bilevel_prob, ql0, lb, ub, options)\n",
    "        qlsols[i] = qlsol[1]\n",
    "    end\n",
    "\n",
    "    gr(size=(800,500), html_output_format=:png);\n",
    "    plot(xdata,qlopts,label=\"closed form solution\",marker=2,\n",
    "         xlabel=latexstring(xlabelstring),\n",
    "         ylabel=latexstring(\"q_l^*\"),\n",
    "         legend=with_legend,\n",
    "         xtickfont=thickfont,ytickfont=thickfont,legendfont=legendfont,guidefont=guidefont)\n",
    "    plot!(xdata,qlsols,label=\"solver solution\",marker=2,\n",
    "        legend=with_legend,xtickfont=thickfont,ytickfont=thickfont,legendfont=legendfont,guidefont=guidefont)\n",
    "    \n",
    "    png(string(\"bilevel_\",image_i))\n",
    "end"
   ]
  }
 ],
 "metadata": {
  "kernelspec": {
   "display_name": "Julia 0.7.0",
   "language": "julia",
   "name": "julia-0.7"
  },
  "language_info": {
   "file_extension": ".jl",
   "mimetype": "application/julia",
   "name": "julia",
   "version": "0.7.0"
  }
 },
 "nbformat": 4,
 "nbformat_minor": 2
}
