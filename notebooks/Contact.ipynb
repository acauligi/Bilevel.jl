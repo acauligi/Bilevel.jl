{
 "cells": [
  {
   "cell_type": "code",
   "execution_count": 108,
   "metadata": {},
   "outputs": [],
   "source": [
    "using Revise\n",
    "using Bilevel: contact_jacobian!, contact_friction_τ_direct!, contact_normal_τ_direct!\n",
    "\n",
    "using RigidBodyDynamics\n",
    "using MeshCatMechanisms\n",
    "using MeshCat\n",
    "\n",
    "using ForwardDiff\n",
    "using DiffResults\n",
    "using LinearAlgebra\n",
    "using StaticArrays\n",
    "using Plots\n",
    "using BenchmarkTools\n",
    "using Profile\n",
    "using ProfileView"
   ]
  },
  {
   "cell_type": "code",
   "execution_count": 158,
   "metadata": {},
   "outputs": [
    {
     "data": {
      "text/plain": [
       "Environment(Contact[Contact(Spanning tree:\n",
       "Vertex: world (root)\n",
       "  Vertex: floor, Edge: floor_to_world\n",
       "    Vertex: ball, Edge: floor_to_ball\n",
       "No non-tree joints., ball, Point3D in \"after_floor_to_ball\": [0.0, 0.0, 0.0], Obstacle(floor, Point3D in \"after_floor_to_world\": [0.0, 0.0, 0.0], FreeVector3D in \"after_floor_to_world\": [0.0, 0.0, 1.0], [1.0 6.12323e-17 -1.0 -1.83697e-16; 0.0 1.0 1.22465e-16 -1.0; 0.0 0.0 0.0 0.0], 1.125, false))])"
      ]
     },
     "execution_count": 158,
     "metadata": {},
     "output_type": "execute_result"
    }
   ],
   "source": [
    "urdf = joinpath(\"..\", \"urdf\", \"ball.urdf\")\n",
    "mechanism = parse_urdf(Float64, urdf)\n",
    "\n",
    "floor = findbody(mechanism, \"floor\")\n",
    "point = Point3D(default_frame(floor), SVector([0.,0.,0.]...))\n",
    "normal = FreeVector3D(default_frame(floor), SVector([0.,0.,1.]...))\n",
    "floor_obs = Obstacle(floor, point, normal, :xyz, 1.125)\n",
    "\n",
    "obstacles = [floor_obs]\n",
    "env = Environment(mechanism, urdf, obstacles)"
   ]
  },
  {
   "cell_type": "code",
   "execution_count": 159,
   "metadata": {},
   "outputs": [
    {
     "data": {
      "text/plain": [
       "(Array{Float64,1}[[1.0, 0.0, 0.0, 0.0, 0.0, 0.0, 0.0], [1.0, 0.0, -6.657e-17, -8.88178e-17, 0.389638, 0.0, 0.0], [1.0, 0.0, -6.66134e-17, -8.88178e-17, 0.668913, 0.0, 0.0], [1.0, 0.0, -6.66134e-17, -8.88178e-17, 0.837825, 0.0, 0.0], [1.0, 0.0, -6.66134e-17, -8.88178e-17, 0.896375, 0.0, 0.0], [1.0, 0.0, -6.66134e-17, 2.01006e-17, 0.896375, 7.01661e-19, 4.33614e-11], [1.0, 0.0, 3.70294e-10, -1.65076e-17, 0.896375, 0.0, 0.0], [1.0, 0.0, 3.70294e-10, -1.65076e-17, 0.896375, 0.0, 0.0], [1.0, 0.0, 3.70294e-10, -1.65076e-17, 0.896375, 0.0, 0.0], [1.0, 0.0, 3.70294e-10, -1.65076e-17, 0.896375, 0.0, 0.0]], Array{Float64,1}[[0.0, 0.0, 0.0, 5.0, 0.0, 0.0], [0.0, -1.33227e-15, 0.0, 3.89637, 0.0, -5.18764e-16], [0.0, -1.33227e-15, 0.0, 2.79275, 0.0, -3.72165e-16], [0.0, -1.33227e-15, 0.0, 1.68913, 0.0, -2.24941e-16], [0.0, -1.33227e-15, 0.0, 0.5855, 0.0, -7.80998e-17], [0.0, -1.33227e-15, 0.0, 0.0, -1.65211e-17, 4.33615e-10], [0.0, -1.33227e-15, 0.0, -3.2113e-19, 1.65211e-17, 4.33615e-10], [0.0, -1.33227e-15, 0.0, -3.2113e-19, 1.65211e-17, 4.33615e-10], [0.0, -1.33227e-15, 0.0, -3.2113e-19, 1.65211e-17, 4.33615e-10], [0.0, -1.33227e-15, 0.0, -3.2113e-19, 1.65211e-17, 4.33615e-10]], Array{Float64,1}[], Array{Array{Float64,1},1}[[[0.0, 0.0, 0.0, 0.0, 0.0, 0.0]], [[1.0, 0.0, 0.0, 1.125, 0.0, 3.89638]], [[1.0, 0.0, 0.0, 1.125, 0.0, 2.79275]], [[1.0, 0.0, 0.0, 1.125, 0.0, 1.68913]], [[1.0, 0.0, 0.0, 1.125, 0.0, 0.5855]], [[1.0, 0.0, 0.0, 0.59684, 0.0, 0.0]], [[1.0, 0.29842, 0.0, 0.29842, 0.0, 1.29247e-26]], [[1.0, 0.29842, 0.0, 0.29842, 0.0, 1.29247e-26]], [[1.0, 0.29842, 0.0, 0.29842, 0.0, 1.29247e-26]], [[1.0, 0.29842, 0.0, 0.29842, 0.0, 1.29247e-26]]], Array{Float64,1}[], [0.0, 0.1, 0.2, 0.3, 0.4, 0.5, 0.6, 0.7, 0.8, 0.9], [1.0 1.0 … 1.0 1.0; 0.0 0.0 … 0.0 0.0; … ; 0.0 0.0 … 1.65211e-17 1.65211e-17; 0.0 -5.18764e-16 … 4.33615e-10 4.33615e-10], [1.0 1.0 … 1.0 1.0; 0.0 0.0 … 0.0 0.0; … ; 0.0 3.89638 … 1.29247e-26 1.29247e-26; 0.0 1.0 … 1.0 1.0])"
      ]
     },
     "execution_count": 159,
     "metadata": {},
     "output_type": "execute_result"
    }
   ],
   "source": [
    "N = 10\n",
    "Δt = 0.1\n",
    "q0 = [1., 0., 0., 0., 0., 0., 0.]\n",
    "v0 = [0., 0., 0., 5., 0., 0.]\n",
    "\n",
    "sim_data = get_sim_data_indirect(mechanism,env,Δt)\n",
    "null_ctrl! = (u,t,x) -> u[:] .= 0.\n",
    "x0 = MechanismState(mechanism)\n",
    "set_configuration!(x0, q0)\n",
    "set_velocity!(x0, v0)\n",
    "setdirty!(x0)\n",
    "traj = Bilevel.simulate(sim_data,null_ctrl!,x0,N)"
   ]
  },
  {
   "cell_type": "code",
   "execution_count": 163,
   "metadata": {},
   "outputs": [
    {
     "data": {
      "image/svg+xml": [
       "<?xml version=\"1.0\" encoding=\"utf-8\"?>\n",
       "<svg xmlns=\"http://www.w3.org/2000/svg\" xmlns:xlink=\"http://www.w3.org/1999/xlink\" width=\"600\" height=\"400\" viewBox=\"0 0 2400 1600\">\n",
       "<defs>\n",
       "  <clipPath id=\"clip5300\">\n",
       "    <rect x=\"0\" y=\"0\" width=\"2400\" height=\"1600\"/>\n",
       "  </clipPath>\n",
       "</defs>\n",
       "<polygon clip-path=\"url(#clip5300)\" points=\"\n",
       "0,1600 2400,1600 2400,0 0,0 \n",
       "  \" fill=\"#ffffff\" fill-rule=\"evenodd\" fill-opacity=\"1\"/>\n",
       "<defs>\n",
       "  <clipPath id=\"clip5301\">\n",
       "    <rect x=\"480\" y=\"0\" width=\"1681\" height=\"1600\"/>\n",
       "  </clipPath>\n",
       "</defs>\n",
       "<polygon clip-path=\"url(#clip5300)\" points=\"\n",
       "153.898,1487.47 2352.76,1487.47 2352.76,47.2441 153.898,47.2441 \n",
       "  \" fill=\"#ffffff\" fill-rule=\"evenodd\" fill-opacity=\"1\"/>\n",
       "<defs>\n",
       "  <clipPath id=\"clip5302\">\n",
       "    <rect x=\"153\" y=\"47\" width=\"2200\" height=\"1441\"/>\n",
       "  </clipPath>\n",
       "</defs>\n",
       "<polyline clip-path=\"url(#clip5302)\" style=\"stroke:#000000; stroke-width:2; stroke-opacity:0.1; fill:none\" points=\"\n",
       "  446.618,1487.47 446.618,47.2441 \n",
       "  \"/>\n",
       "<polyline clip-path=\"url(#clip5302)\" style=\"stroke:#000000; stroke-width:2; stroke-opacity:0.1; fill:none\" points=\"\n",
       "  907.595,1487.47 907.595,47.2441 \n",
       "  \"/>\n",
       "<polyline clip-path=\"url(#clip5302)\" style=\"stroke:#000000; stroke-width:2; stroke-opacity:0.1; fill:none\" points=\"\n",
       "  1368.57,1487.47 1368.57,47.2441 \n",
       "  \"/>\n",
       "<polyline clip-path=\"url(#clip5302)\" style=\"stroke:#000000; stroke-width:2; stroke-opacity:0.1; fill:none\" points=\"\n",
       "  1829.55,1487.47 1829.55,47.2441 \n",
       "  \"/>\n",
       "<polyline clip-path=\"url(#clip5302)\" style=\"stroke:#000000; stroke-width:2; stroke-opacity:0.1; fill:none\" points=\"\n",
       "  2290.52,1487.47 2290.52,47.2441 \n",
       "  \"/>\n",
       "<polyline clip-path=\"url(#clip5302)\" style=\"stroke:#000000; stroke-width:2; stroke-opacity:0.1; fill:none\" points=\"\n",
       "  153.898,1446.71 2352.76,1446.71 \n",
       "  \"/>\n",
       "<polyline clip-path=\"url(#clip5302)\" style=\"stroke:#000000; stroke-width:2; stroke-opacity:0.1; fill:none\" points=\"\n",
       "  153.898,1143.56 2352.76,1143.56 \n",
       "  \"/>\n",
       "<polyline clip-path=\"url(#clip5302)\" style=\"stroke:#000000; stroke-width:2; stroke-opacity:0.1; fill:none\" points=\"\n",
       "  153.898,840.401 2352.76,840.401 \n",
       "  \"/>\n",
       "<polyline clip-path=\"url(#clip5302)\" style=\"stroke:#000000; stroke-width:2; stroke-opacity:0.1; fill:none\" points=\"\n",
       "  153.898,537.245 2352.76,537.245 \n",
       "  \"/>\n",
       "<polyline clip-path=\"url(#clip5302)\" style=\"stroke:#000000; stroke-width:2; stroke-opacity:0.1; fill:none\" points=\"\n",
       "  153.898,234.089 2352.76,234.089 \n",
       "  \"/>\n",
       "<polyline clip-path=\"url(#clip5300)\" style=\"stroke:#000000; stroke-width:4; stroke-opacity:1; fill:none\" points=\"\n",
       "  153.898,1487.47 2352.76,1487.47 \n",
       "  \"/>\n",
       "<polyline clip-path=\"url(#clip5300)\" style=\"stroke:#000000; stroke-width:4; stroke-opacity:1; fill:none\" points=\"\n",
       "  153.898,1487.47 153.898,47.2441 \n",
       "  \"/>\n",
       "<polyline clip-path=\"url(#clip5300)\" style=\"stroke:#000000; stroke-width:4; stroke-opacity:1; fill:none\" points=\"\n",
       "  446.618,1487.47 446.618,1465.87 \n",
       "  \"/>\n",
       "<polyline clip-path=\"url(#clip5300)\" style=\"stroke:#000000; stroke-width:4; stroke-opacity:1; fill:none\" points=\"\n",
       "  907.595,1487.47 907.595,1465.87 \n",
       "  \"/>\n",
       "<polyline clip-path=\"url(#clip5300)\" style=\"stroke:#000000; stroke-width:4; stroke-opacity:1; fill:none\" points=\"\n",
       "  1368.57,1487.47 1368.57,1465.87 \n",
       "  \"/>\n",
       "<polyline clip-path=\"url(#clip5300)\" style=\"stroke:#000000; stroke-width:4; stroke-opacity:1; fill:none\" points=\"\n",
       "  1829.55,1487.47 1829.55,1465.87 \n",
       "  \"/>\n",
       "<polyline clip-path=\"url(#clip5300)\" style=\"stroke:#000000; stroke-width:4; stroke-opacity:1; fill:none\" points=\"\n",
       "  2290.52,1487.47 2290.52,1465.87 \n",
       "  \"/>\n",
       "<polyline clip-path=\"url(#clip5300)\" style=\"stroke:#000000; stroke-width:4; stroke-opacity:1; fill:none\" points=\"\n",
       "  153.898,1446.71 186.881,1446.71 \n",
       "  \"/>\n",
       "<polyline clip-path=\"url(#clip5300)\" style=\"stroke:#000000; stroke-width:4; stroke-opacity:1; fill:none\" points=\"\n",
       "  153.898,1143.56 186.881,1143.56 \n",
       "  \"/>\n",
       "<polyline clip-path=\"url(#clip5300)\" style=\"stroke:#000000; stroke-width:4; stroke-opacity:1; fill:none\" points=\"\n",
       "  153.898,840.401 186.881,840.401 \n",
       "  \"/>\n",
       "<polyline clip-path=\"url(#clip5300)\" style=\"stroke:#000000; stroke-width:4; stroke-opacity:1; fill:none\" points=\"\n",
       "  153.898,537.245 186.881,537.245 \n",
       "  \"/>\n",
       "<polyline clip-path=\"url(#clip5300)\" style=\"stroke:#000000; stroke-width:4; stroke-opacity:1; fill:none\" points=\"\n",
       "  153.898,234.089 186.881,234.089 \n",
       "  \"/>\n",
       "<g clip-path=\"url(#clip5300)\">\n",
       "<text style=\"fill:#000000; fill-opacity:1; font-family:Arial,Helvetica Neue,Helvetica,sans-serif; font-size:48px; text-anchor:middle;\" transform=\"rotate(0, 446.618, 1541.47)\" x=\"446.618\" y=\"1541.47\">2</text>\n",
       "</g>\n",
       "<g clip-path=\"url(#clip5300)\">\n",
       "<text style=\"fill:#000000; fill-opacity:1; font-family:Arial,Helvetica Neue,Helvetica,sans-serif; font-size:48px; text-anchor:middle;\" transform=\"rotate(0, 907.595, 1541.47)\" x=\"907.595\" y=\"1541.47\">4</text>\n",
       "</g>\n",
       "<g clip-path=\"url(#clip5300)\">\n",
       "<text style=\"fill:#000000; fill-opacity:1; font-family:Arial,Helvetica Neue,Helvetica,sans-serif; font-size:48px; text-anchor:middle;\" transform=\"rotate(0, 1368.57, 1541.47)\" x=\"1368.57\" y=\"1541.47\">6</text>\n",
       "</g>\n",
       "<g clip-path=\"url(#clip5300)\">\n",
       "<text style=\"fill:#000000; fill-opacity:1; font-family:Arial,Helvetica Neue,Helvetica,sans-serif; font-size:48px; text-anchor:middle;\" transform=\"rotate(0, 1829.55, 1541.47)\" x=\"1829.55\" y=\"1541.47\">8</text>\n",
       "</g>\n",
       "<g clip-path=\"url(#clip5300)\">\n",
       "<text style=\"fill:#000000; fill-opacity:1; font-family:Arial,Helvetica Neue,Helvetica,sans-serif; font-size:48px; text-anchor:middle;\" transform=\"rotate(0, 2290.52, 1541.47)\" x=\"2290.52\" y=\"1541.47\">10</text>\n",
       "</g>\n",
       "<g clip-path=\"url(#clip5300)\">\n",
       "<text style=\"fill:#000000; fill-opacity:1; font-family:Arial,Helvetica Neue,Helvetica,sans-serif; font-size:48px; text-anchor:end;\" transform=\"rotate(0, 129.898, 1464.21)\" x=\"129.898\" y=\"1464.21\">0.0</text>\n",
       "</g>\n",
       "<g clip-path=\"url(#clip5300)\">\n",
       "<text style=\"fill:#000000; fill-opacity:1; font-family:Arial,Helvetica Neue,Helvetica,sans-serif; font-size:48px; text-anchor:end;\" transform=\"rotate(0, 129.898, 1161.06)\" x=\"129.898\" y=\"1161.06\">0.2</text>\n",
       "</g>\n",
       "<g clip-path=\"url(#clip5300)\">\n",
       "<text style=\"fill:#000000; fill-opacity:1; font-family:Arial,Helvetica Neue,Helvetica,sans-serif; font-size:48px; text-anchor:end;\" transform=\"rotate(0, 129.898, 857.901)\" x=\"129.898\" y=\"857.901\">0.4</text>\n",
       "</g>\n",
       "<g clip-path=\"url(#clip5300)\">\n",
       "<text style=\"fill:#000000; fill-opacity:1; font-family:Arial,Helvetica Neue,Helvetica,sans-serif; font-size:48px; text-anchor:end;\" transform=\"rotate(0, 129.898, 554.745)\" x=\"129.898\" y=\"554.745\">0.6</text>\n",
       "</g>\n",
       "<g clip-path=\"url(#clip5300)\">\n",
       "<text style=\"fill:#000000; fill-opacity:1; font-family:Arial,Helvetica Neue,Helvetica,sans-serif; font-size:48px; text-anchor:end;\" transform=\"rotate(0, 129.898, 251.589)\" x=\"129.898\" y=\"251.589\">0.8</text>\n",
       "</g>\n",
       "<polyline clip-path=\"url(#clip5302)\" style=\"stroke:#009af9; stroke-width:4; stroke-opacity:1; fill:none\" points=\"\n",
       "  216.13,1446.71 446.618,856.108 677.106,432.789 907.595,176.754 1138.08,88.0053 1368.57,88.0053 1599.06,88.0053 1829.55,88.0053 2060.04,88.0053 2290.52,88.0053 \n",
       "  \n",
       "  \"/>\n",
       "<polygon clip-path=\"url(#clip5300)\" points=\"\n",
       "1989.93,251.724 2280.76,251.724 2280.76,130.764 1989.93,130.764 \n",
       "  \" fill=\"#ffffff\" fill-rule=\"evenodd\" fill-opacity=\"1\"/>\n",
       "<polyline clip-path=\"url(#clip5300)\" style=\"stroke:#000000; stroke-width:4; stroke-opacity:1; fill:none\" points=\"\n",
       "  1989.93,251.724 2280.76,251.724 2280.76,130.764 1989.93,130.764 1989.93,251.724 \n",
       "  \"/>\n",
       "<polyline clip-path=\"url(#clip5300)\" style=\"stroke:#009af9; stroke-width:4; stroke-opacity:1; fill:none\" points=\"\n",
       "  2013.93,191.244 2157.93,191.244 \n",
       "  \"/>\n",
       "<g clip-path=\"url(#clip5300)\">\n",
       "<text style=\"fill:#000000; fill-opacity:1; font-family:Arial,Helvetica Neue,Helvetica,sans-serif; font-size:48px; text-anchor:start;\" transform=\"rotate(0, 2181.93, 208.744)\" x=\"2181.93\" y=\"208.744\">y1</text>\n",
       "</g>\n",
       "</svg>\n"
      ]
     },
     "execution_count": 163,
     "metadata": {},
     "output_type": "execute_result"
    }
   ],
   "source": [
    "plot(traj[7][5,:])"
   ]
  },
  {
   "cell_type": "code",
   "execution_count": 161,
   "metadata": {},
   "outputs": [
    {
     "data": {
      "text/plain": [
       "10-element Array{Array{Array{Float64,1},1},1}:\n",
       " [[0.0, 0.0, 0.0, 0.0, 0.0, 0.0]]                \n",
       " [[1.0, 0.0, 0.0, 1.125, 0.0, 3.89638]]          \n",
       " [[1.0, 0.0, 0.0, 1.125, 0.0, 2.79275]]          \n",
       " [[1.0, 0.0, 0.0, 1.125, 0.0, 1.68913]]          \n",
       " [[1.0, 0.0, 0.0, 1.125, 0.0, 0.5855]]           \n",
       " [[1.0, 0.0, 0.0, 0.59684, 0.0, 0.0]]            \n",
       " [[1.0, 0.29842, 0.0, 0.29842, 0.0, 1.29247e-26]]\n",
       " [[1.0, 0.29842, 0.0, 0.29842, 0.0, 1.29247e-26]]\n",
       " [[1.0, 0.29842, 0.0, 0.29842, 0.0, 1.29247e-26]]\n",
       " [[1.0, 0.29842, 0.0, 0.29842, 0.0, 1.29247e-26]]"
      ]
     },
     "execution_count": 161,
     "metadata": {},
     "output_type": "execute_result"
    }
   ],
   "source": [
    "traj[4]"
   ]
  },
  {
   "cell_type": "code",
   "execution_count": 165,
   "metadata": {},
   "outputs": [
    {
     "data": {
      "text/plain": [
       "9-element Array{Array{Float64,1},1}:\n",
       " [-9.86076e-32, 1.33227e-15, -1.64215e-47, 11.0362, -1.16005e-31, -9.81]\n",
       " [0.0, 0.0, -3.28429e-47, 11.0362, -1.16081e-31, -9.81]                 \n",
       " [-1.97215e-31, 0.0, -1.09476e-47, 11.0362, -1.16081e-31, -9.81]        \n",
       " [-1.97215e-31, 0.0, 0.0, 11.0362, -1.16081e-31, -9.81]                 \n",
       " [4.93038e-32, 0.0, 0.0, 5.855, 1.65211e-16, -9.81]                     \n",
       " [-1.28011e-60, -7.78997e-60, 0.0, 7.26517e-9, -3.30423e-16, -9.81]     \n",
       " [0.0, 0.0, 0.0, 7.26517e-9, 1.1993e-25, -9.81]                         \n",
       " [0.0, 0.0, 0.0, 7.26517e-9, 1.1993e-25, -9.81]                         \n",
       " [0.0, 0.0, 0.0, 7.26517e-9, 1.1993e-25, -9.81]                         "
      ]
     },
     "execution_count": 165,
     "metadata": {},
     "output_type": "execute_result"
    }
   ],
   "source": [
    "bias_traj = Array{Array{Float64,1},1}()\n",
    "\n",
    "for n = 1:N-1\n",
    "    q0 = traj[1][n]\n",
    "    v0 = traj[2][n]\n",
    "    u0 = zeros(num_vel)\n",
    "    h = traj[6][n+1] - traj[6][n]\n",
    "    qnext = traj[1][n+1]\n",
    "    vnext = traj[2][n+1]\n",
    "    \n",
    "    x0 = sim_data.state_cache[1][Float64]\n",
    "    xn = sim_data.state_cache[2][Float64]\n",
    "    envj = sim_data.envj_cache[2][Float64]\n",
    "\n",
    "    set_configuration!(x0, q0)\n",
    "    set_velocity!(x0, v0)\n",
    "    setdirty!(x0)\n",
    "    set_configuration!(xn, qnext)\n",
    "    set_velocity!(xn, vnext)\n",
    "    setdirty!(xn)\n",
    "\n",
    "    normalize_configuration!(x0)\n",
    "    normalize_configuration!(xn)\n",
    "\n",
    "    H = mass_matrix(x0)\n",
    "    Hi = inv(H)\n",
    "    config_derivative = configuration_derivative(xn)\n",
    "    dyn_bias = dynamics_bias(xn)\n",
    "    \n",
    "    contact_bias = u0 .- dyn_bias .- (1. / Δt)*H*(vnext - v0)\n",
    "    \n",
    "    push!(bias_traj, contact_bias)\n",
    "end\n",
    "\n",
    "bias_traj"
   ]
  },
  {
   "cell_type": "markdown",
   "metadata": {},
   "source": [
    "# semidirect"
   ]
  },
  {
   "cell_type": "code",
   "execution_count": 106,
   "metadata": {},
   "outputs": [
    {
     "data": {
      "text/plain": [
       "6-element Array{Float64,1}:\n",
       "  0.0                  \n",
       "  0.0                  \n",
       "  0.0                  \n",
       "  9.809999999999961    \n",
       " -8.392800334951622e-15\n",
       " -9.81                 "
      ]
     },
     "metadata": {},
     "output_type": "display_data"
    },
    {
     "data": {
      "text/plain": [
       "6-element Array{Float64,1}:\n",
       "  0.0                   \n",
       "  0.0                   \n",
       "  0.0                   \n",
       "  9.809999999999963     \n",
       " -1.8604897180183867e-14\n",
       " -9.81                  "
      ]
     },
     "metadata": {},
     "output_type": "display_data"
    },
    {
     "data": {
      "text/plain": [
       "6-element Array{Float64,1}:\n",
       "  0.0                  \n",
       "  0.0                  \n",
       "  0.0                  \n",
       "  9.809999999994778    \n",
       "  1.441236342702233e-14\n",
       " -9.809999999999999    "
      ]
     },
     "metadata": {},
     "output_type": "display_data"
    },
    {
     "data": {
      "text/plain": [
       "6-element Array{Float64,1}:\n",
       "  0.0                  \n",
       "  0.0                  \n",
       "  0.0                  \n",
       "  9.809999999999995    \n",
       "  6.092980987868551e-16\n",
       " -9.809999999999999    "
      ]
     },
     "metadata": {},
     "output_type": "display_data"
    },
    {
     "data": {
      "text/plain": [
       "6-element Array{Float64,1}:\n",
       "  0.0                   \n",
       "  0.0                   \n",
       "  0.0                   \n",
       " 10.76000000000202      \n",
       "  1.0246803405777882e-12\n",
       " -9.809999999999999     "
      ]
     },
     "metadata": {},
     "output_type": "display_data"
    },
    {
     "data": {
      "text/plain": [
       "6-element Array{Float64,1}:\n",
       "  0.0                  \n",
       "  0.0                  \n",
       "  0.0                  \n",
       "  0.9500000000000093   \n",
       "  4.440892098500626e-16\n",
       " -9.809999999999997    "
      ]
     },
     "metadata": {},
     "output_type": "display_data"
    },
    {
     "data": {
      "text/plain": [
       "6-element Array{Float64,1}:\n",
       "  0.0                   \n",
       "  0.0                   \n",
       "  0.0                   \n",
       " -1.3563320722547928e-15\n",
       " -2.220446049250313e-16 \n",
       " -9.809999999999997     "
      ]
     },
     "metadata": {},
     "output_type": "display_data"
    },
    {
     "data": {
      "text/plain": [
       "6-element Array{Float64,1}:\n",
       "  0.0                   \n",
       "  0.0                   \n",
       "  0.0                   \n",
       " -1.1342874673297615e-15\n",
       "  2.220446049250313e-16 \n",
       " -9.809999999999997     "
      ]
     },
     "metadata": {},
     "output_type": "display_data"
    },
    {
     "data": {
      "text/plain": [
       "6-element Array{Float64,1}:\n",
       "  0.0                   \n",
       "  0.0                   \n",
       "  0.0                   \n",
       " -1.1342874673297615e-15\n",
       "  2.220446049250313e-16 \n",
       " -9.809999999999997     "
      ]
     },
     "metadata": {},
     "output_type": "display_data"
    }
   ],
   "source": [
    "sim_data = get_sim_data_direct(mechanism,env,Δt)\n",
    "num_contacts = length(sim_data.env.contacts)\n",
    "num_vel = num_velocities(mechanism)\n",
    "\n",
    "sim_data.fric_options[1][\"num_fosteps\"] = 0\n",
    "sim_data.fric_options[1][\"num_sosteps\"] = 5\n",
    "sim_data.fric_options[1][\"c\"] = 1\n",
    "sim_data.fric_options[1][\"c_fos\"] = 1\n",
    "sim_data.fric_options[1][\"c_sos\"] = 1\n",
    "\n",
    "for n = 1:N-1\n",
    "    q0 = traj[1][n]\n",
    "    v0 = traj[2][n]\n",
    "    u0 = zeros(num_vel)\n",
    "    h = traj[6][n+1] - traj[6][n]\n",
    "    qnext = traj[1][n+1]\n",
    "    vnext = traj[2][n+1]\n",
    "\n",
    "    nvs = sim_data.normal_vs[1]\n",
    "    x_normal = zeros(nvs.num_vars)\n",
    "    for i = 1:num_contacts\n",
    "        x_normal[nvs(Symbol(\"c_n\", i))] = [traj[4][n+1][i][1]]\n",
    "    end\n",
    "    \n",
    "    x0 = sim_data.state_cache[1][Float64]\n",
    "    xn = sim_data.state_cache[2][Float64]\n",
    "    envj = sim_data.envj_cache[2][Float64]\n",
    "\n",
    "    set_configuration!(x0, q0)\n",
    "    set_velocity!(x0, v0)\n",
    "    setdirty!(x0)\n",
    "    set_configuration!(xn, qnext)\n",
    "    set_velocity!(xn, vnext)\n",
    "    setdirty!(xn)\n",
    "\n",
    "    normalize_configuration!(x0)\n",
    "    normalize_configuration!(xn)\n",
    "\n",
    "    H = mass_matrix(x0)\n",
    "    Hi = inv(H)\n",
    "    config_derivative = configuration_derivative(xn)\n",
    "    dyn_bias = dynamics_bias(xn)\n",
    "\n",
    "    contact_jacobian!(envj, xn)\n",
    "    contact_bias = Vector{Float64}(undef, num_vel)\n",
    "    if (num_contacts > 0)\n",
    "        # compute friction forces\n",
    "        contact_friction_τ_direct!(contact_bias, sim_data, Hi, envj, dyn_bias, u0, v0, Array{Float64,1}(), x_normal, 1)\n",
    "    \n",
    "        display(contact_bias)\n",
    "    end\n",
    "end"
   ]
  },
  {
   "cell_type": "markdown",
   "metadata": {},
   "source": [
    "# direct"
   ]
  },
  {
   "cell_type": "code",
   "execution_count": 115,
   "metadata": {},
   "outputs": [
    {
     "data": {
      "text/plain": [
       "6-element Array{Float64,1}:\n",
       "  0.0                   \n",
       "  0.0                   \n",
       "  0.0                   \n",
       "  9.810000000000008     \n",
       " -1.2811230876573432e-14\n",
       " -9.810000000000073     "
      ]
     },
     "metadata": {},
     "output_type": "display_data"
    },
    {
     "data": {
      "text/plain": [
       "6-element Array{Float64,1}:\n",
       "  0.0                  \n",
       "  0.0                  \n",
       "  0.0                  \n",
       "  9.810000000000137    \n",
       "  3.214875610728092e-14\n",
       " -9.81000000000009     "
      ]
     },
     "metadata": {},
     "output_type": "display_data"
    },
    {
     "data": {
      "text/plain": [
       "6-element Array{Float64,1}:\n",
       "  0.0                   \n",
       "  0.0                   \n",
       "  0.0                   \n",
       "  9.809999999995036     \n",
       " -3.3782438949083186e-14\n",
       " -9.81000000000009      "
      ]
     },
     "metadata": {},
     "output_type": "display_data"
    },
    {
     "data": {
      "text/plain": [
       "6-element Array{Float64,1}:\n",
       "  0.0                  \n",
       "  0.0                  \n",
       "  0.0                  \n",
       "  9.810000000000048    \n",
       "  4.731570003921971e-16\n",
       " -9.810000000000072    "
      ]
     },
     "metadata": {},
     "output_type": "display_data"
    },
    {
     "data": {
      "text/plain": [
       "6-element Array{Float64,1}:\n",
       "  0.0                  \n",
       "  0.0                  \n",
       "  0.0                  \n",
       " 10.760000000001517    \n",
       " -8.179568133925841e-14\n",
       " -9.810000000000072    "
      ]
     },
     "metadata": {},
     "output_type": "display_data"
    },
    {
     "data": {
      "text/plain": [
       "6-element Array{Float64,1}:\n",
       "  0.0                  \n",
       "  0.0                  \n",
       "  0.0                  \n",
       "  0.9500000000000096   \n",
       " -2.220446049250313e-16\n",
       " -9.810000000000038    "
      ]
     },
     "metadata": {},
     "output_type": "display_data"
    },
    {
     "data": {
      "text/plain": [
       "6-element Array{Float64,1}:\n",
       "  0.0                   \n",
       "  0.0                   \n",
       "  0.0                   \n",
       " -1.2577997788193175e-15\n",
       "  0.0                   \n",
       " -9.81000000000007      "
      ]
     },
     "metadata": {},
     "output_type": "display_data"
    },
    {
     "data": {
      "text/plain": [
       "6-element Array{Float64,1}:\n",
       "  0.0                   \n",
       "  0.0                   \n",
       "  0.0                   \n",
       " -1.2577997788193175e-15\n",
       "  0.0                   \n",
       " -9.81000000000007      "
      ]
     },
     "metadata": {},
     "output_type": "display_data"
    },
    {
     "data": {
      "text/plain": [
       "6-element Array{Float64,1}:\n",
       "  0.0                   \n",
       "  0.0                   \n",
       "  0.0                   \n",
       " -1.2577997788193175e-15\n",
       "  0.0                   \n",
       " -9.81000000000007      "
      ]
     },
     "metadata": {},
     "output_type": "display_data"
    }
   ],
   "source": [
    "sim_data = get_sim_data_direct(mechanism,env,Δt)\n",
    "num_contacts = length(sim_data.env.contacts)\n",
    "num_vel = num_velocities(mechanism)\n",
    "\n",
    "sim_data.normal_options[1][\"num_fosteps\"] = 0\n",
    "sim_data.normal_options[1][\"num_sosteps\"] = 5\n",
    "sim_data.normal_options[1][\"c\"] = 1\n",
    "sim_data.normal_options[1][\"c_fos\"] = 1\n",
    "sim_data.normal_options[1][\"c_sos\"] = 1\n",
    "\n",
    "sim_data.fric_options[1][\"num_fosteps\"] = 0\n",
    "sim_data.fric_options[1][\"num_sosteps\"] = 5\n",
    "sim_data.fric_options[1][\"c\"] = 1\n",
    "sim_data.fric_options[1][\"c_fos\"] = 1\n",
    "sim_data.fric_options[1][\"c_sos\"] = 1\n",
    "\n",
    "for n = 1:N-1\n",
    "    q0 = traj[1][n]\n",
    "    v0 = traj[2][n]\n",
    "    u0 = zeros(num_vel)\n",
    "    h = traj[6][n+1] - traj[6][n]\n",
    "    qnext = traj[1][n+1]\n",
    "    vnext = traj[2][n+1]\n",
    "    \n",
    "    x0 = sim_data.state_cache[1][Float64]\n",
    "    xn = sim_data.state_cache[2][Float64]\n",
    "    envj = sim_data.envj_cache[2][Float64]\n",
    "\n",
    "    set_configuration!(x0, q0)\n",
    "    set_velocity!(x0, v0)\n",
    "    setdirty!(x0)\n",
    "    set_configuration!(xn, qnext)\n",
    "    set_velocity!(xn, vnext)\n",
    "    setdirty!(xn)\n",
    "\n",
    "    normalize_configuration!(x0)\n",
    "    normalize_configuration!(xn)\n",
    "\n",
    "    H = mass_matrix(x0)\n",
    "    Hi = inv(H)\n",
    "    config_derivative = configuration_derivative(xn)\n",
    "    dyn_bias = dynamics_bias(xn)\n",
    "\n",
    "    contact_jacobian!(envj, xn)\n",
    "    normal_bias = Vector{Float64}(undef, num_vel)\n",
    "    contact_bias = Vector{Float64}(undef, num_vel)\n",
    "    if (num_contacts > 0)\n",
    "        # compute the normal forces\n",
    "        x_normal = contact_normal_τ_direct!(normal_bias, sim_data, Hi, envj, dyn_bias, u0, v0, Array{Float64,1}(), 1)\n",
    "        \n",
    "        # compute friction forces\n",
    "        contact_friction_τ_direct!(contact_bias, sim_data, Hi, envj, dyn_bias, u0, v0, Array{Float64,1}(), x_normal, 1)\n",
    "    \n",
    "        display(contact_bias)\n",
    "    end\n",
    "end"
   ]
  },
  {
   "cell_type": "markdown",
   "metadata": {},
   "source": [
    "# estimation"
   ]
  },
  {
   "cell_type": "code",
   "execution_count": 151,
   "metadata": {},
   "outputs": [
    {
     "data": {
      "text/plain": [
       "generate_solver_fn_estimation_direct (generic function with 2 methods)"
      ]
     },
     "execution_count": 151,
     "metadata": {},
     "output_type": "execute_result"
    }
   ],
   "source": [
    "function generate_solver_fn_estimation_direct()\n",
    "    sim_data = get_sim_data_direct(mechanism,env,Δt)\n",
    "    num_contacts = length(sim_data.env.contacts)\n",
    "    num_vel = num_velocities(mechanism)\n",
    "    \n",
    "    sim_data.normal_options[1][\"num_fosteps\"] = 0\n",
    "    sim_data.normal_options[1][\"num_sosteps\"] = 10\n",
    "    sim_data.normal_options[1][\"c\"] = 1\n",
    "    sim_data.normal_options[1][\"c_fos\"] = 1\n",
    "    sim_data.normal_options[1][\"c_sos\"] = 1\n",
    "\n",
    "    sim_data.fric_options[1][\"num_fosteps\"] = 0\n",
    "    sim_data.fric_options[1][\"num_sosteps\"] = 10\n",
    "    sim_data.fric_options[1][\"c\"] = 1\n",
    "    sim_data.fric_options[1][\"c_fos\"] = 1\n",
    "    sim_data.fric_options[1][\"c_sos\"] = 1\n",
    "    \n",
    "    function eval_obj(params::AbstractArray{T}) where T\n",
    "        # set the friction coefficient for the floor\n",
    "        obstacles[1].μ = params[1]\n",
    "        \n",
    "        # evaluate the dynamics residual on each datapoint as an inner problem\n",
    "        losses = Array{T,1}(undef, N-1)\n",
    "        for n = 1:N-1\n",
    "            q0 = traj[1][n]\n",
    "            v0 = traj[2][n]\n",
    "            u0 = zeros(num_vel)\n",
    "            h = traj[6][n+1] - traj[6][n]\n",
    "            qnext = traj[1][n+1]\n",
    "            vnext = traj[2][n+1]\n",
    "\n",
    "            x0 = sim_data.state_cache[1][Float64]\n",
    "            xn = sim_data.state_cache[2][Float64]\n",
    "            envj = sim_data.envj_cache[2][Float64]\n",
    "\n",
    "            set_configuration!(x0, q0)\n",
    "            set_velocity!(x0, v0)\n",
    "            setdirty!(x0)\n",
    "            set_configuration!(xn, qnext)\n",
    "            set_velocity!(xn, vnext)\n",
    "            setdirty!(xn)\n",
    "\n",
    "            normalize_configuration!(x0)\n",
    "            normalize_configuration!(xn)\n",
    "\n",
    "            H = mass_matrix(x0)\n",
    "            Hi = inv(H)\n",
    "            config_derivative = configuration_derivative(xn)\n",
    "            dyn_bias = dynamics_bias(xn)\n",
    "\n",
    "            contact_jacobian!(envj, xn)\n",
    "            normal_bias = Vector{T}(undef, num_vel)\n",
    "            contact_bias = Vector{T}(undef, num_vel)\n",
    "\n",
    "            x_normal = contact_normal_τ_direct!(normal_bias, sim_data, Hi, envj, dyn_bias, u0, v0, params, 1)\n",
    "            contact_friction_τ_direct!(contact_bias, sim_data, Hi, envj, dyn_bias, u0, v0, params, x_normal, 1)\n",
    "        \n",
    "            err = contact_bias - bias_traj[n]\n",
    "            loss = err'*err\n",
    "            \n",
    "            losses[n] = loss\n",
    "        end\n",
    "        \n",
    "        # add losses\n",
    "        sum(losses)\n",
    "    end\n",
    "\n",
    "    function eval_cons(params::AbstractArray{T}) where T        \n",
    "        # friction coeffs are positive\n",
    "#         g = Vector{T}(undef, cs.num_eqs + cs.num_ineqs)\n",
    "#         μ = params[1]\n",
    "#         g[cs(:μ_pos)] .= 1e-5 - μ\n",
    "        g = -params\n",
    "        \n",
    "        g\n",
    "    end\n",
    "    \n",
    "    return Bilevel.generate_autodiff_solver_fn(eval_obj,eval_cons,[],1:1,1,hessian=false)\n",
    "end"
   ]
  },
  {
   "cell_type": "code",
   "execution_count": 156,
   "metadata": {},
   "outputs": [
    {
     "data": {
      "text/plain": [
       "1.0e-6"
      ]
     },
     "execution_count": 156,
     "metadata": {},
     "output_type": "execute_result"
    }
   ],
   "source": [
    "solver_fn = generate_solver_fn_estimation_direct()\n",
    "\n",
    "μ0 = [0.0001]\n",
    "options = Dict{String, Any}()\n",
    "options[\"Derivative option\"] = 1\n",
    "options[\"Verify level\"] = -1\n",
    "options[\"Major optimality tolerance\"] = 1e-6"
   ]
  },
  {
   "cell_type": "code",
   "execution_count": 153,
   "metadata": {},
   "outputs": [
    {
     "data": {
      "text/plain": [
       "(307.9555200256815, Float64[], [-0.2], [-769.889], Array{Float64}(0,1), [-1.0], [0.0])"
      ]
     },
     "metadata": {},
     "output_type": "display_data"
    },
    {
     "data": {
      "text/plain": [
       "(120.29512501647021, Float64[], [-0.5], [-481.18], Array{Float64}(0,1), [-1.0], [0.0])"
      ]
     },
     "metadata": {},
     "output_type": "display_data"
    },
    {
     "data": {
      "text/plain": [
       "(30.073789029838053, Float64[], [-0.75], [-240.59], Array{Float64}(0,1), [-1.0], [0.0])"
      ]
     },
     "metadata": {},
     "output_type": "display_data"
    },
    {
     "data": {
      "text/plain": [
       "(6.861143728017133e-23, Float64[], [-1.0], [-1.9092e-10], Array{Float64}(0,1), [-1.0], [0.0])"
      ]
     },
     "metadata": {},
     "output_type": "display_data"
    },
    {
     "data": {
      "text/plain": [
       "(24.961524992307393, Float64[], [-1.25], [192.472], Array{Float64}(0,1), [-1.0], [0.0])"
      ]
     },
     "metadata": {},
     "output_type": "display_data"
    },
    {
     "data": {
      "text/plain": [
       "(97.13859293784778, Float64[], [-1.5], [384.944], Array{Float64}(0,1), [-1.0], [0.0])"
      ]
     },
     "metadata": {},
     "output_type": "display_data"
    },
    {
     "data": {
      "text/plain": [
       "(385.84689915220133, Float64[], [-2.0], [769.889], Array{Float64}(0,1), [-1.0], [0.0])"
      ]
     },
     "metadata": {},
     "output_type": "display_data"
    }
   ],
   "source": [
    "display(solver_fn([.2]))\n",
    "display(solver_fn([.5]))\n",
    "display(solver_fn([.75]))\n",
    "display(solver_fn([1.]))\n",
    "display(solver_fn([1.25]))\n",
    "display(solver_fn([1.5]))\n",
    "display(solver_fn([2.]))"
   ]
  },
  {
   "cell_type": "code",
   "execution_count": 157,
   "metadata": {},
   "outputs": [
    {
     "data": {
      "text/plain": [
       "([1.0], \"Finished successfully: optimality conditions satisfied\")"
      ]
     },
     "execution_count": 157,
     "metadata": {},
     "output_type": "execute_result"
    }
   ],
   "source": [
    "μopt, info = Bilevel.snopt(solver_fn, 0, 1, μ0, options)"
   ]
  }
 ],
 "metadata": {
  "kernelspec": {
   "display_name": "Julia 1.1.0",
   "language": "julia",
   "name": "julia-1.1"
  },
  "language_info": {
   "file_extension": ".jl",
   "mimetype": "application/julia",
   "name": "julia",
   "version": "1.1.0"
  }
 },
 "nbformat": 4,
 "nbformat_minor": 2
}
