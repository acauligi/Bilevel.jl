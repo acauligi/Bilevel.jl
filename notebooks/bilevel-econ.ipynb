{
 "cells": [
  {
   "cell_type": "code",
   "execution_count": 2,
   "metadata": {},
   "outputs": [
    {
     "name": "stderr",
     "output_type": "stream",
     "text": [
      "┌ Info: Precompiling BilevelTrajOpt [9688c538-179f-11e9-3174-495cea6b7f67]\n",
      "└ @ Base loading.jl:1187\n"
     ]
    }
   ],
   "source": [
    "using Revise\n",
    "\n",
    "using BilevelTrajOpt\n",
    "using ForwardDiff\n",
    "using DiffResults"
   ]
  },
  {
   "cell_type": "code",
   "execution_count": 3,
   "metadata": {},
   "outputs": [
    {
     "data": {
      "text/plain": [
       "#13 (generic function with 1 method)"
      ]
     },
     "execution_count": 3,
     "metadata": {},
     "output_type": "execute_result"
    }
   ],
   "source": [
    "# Problem taken from:\n",
    "# Sinha, Ankur, Pekka Malo, and Kalyanmoy Deb. \n",
    "# \"A review on bilevel optimization: from classical to evolutionary approaches and applications.\" \n",
    "# IEEE Transactions on Evolutionary Computation 22.2 (2018): 276-295.\n",
    "\n",
    "α = 10.\n",
    "β = .2\n",
    "\n",
    "δl = 1.\n",
    "δf = 2.\n",
    "γl = .3\n",
    "γf = 5.8\n",
    "cl = 10.\n",
    "cf = 1.\n",
    "\n",
    "P = (ql,qf) -> α - β*(ql + qf)\n",
    "Cl = ql -> δl*ql*ql + γl*ql + cl\n",
    "Cf = qf -> δf*qf*qf + γf*qf + cf"
   ]
  },
  {
   "cell_type": "code",
   "execution_count": 4,
   "metadata": {},
   "outputs": [
    {
     "data": {
      "text/plain": [
       "3.99236641221374"
      ]
     },
     "metadata": {},
     "output_type": "display_data"
    },
    {
     "data": {
      "text/plain": [
       "0.7730742539902844"
      ]
     },
     "metadata": {},
     "output_type": "display_data"
    }
   ],
   "source": [
    "# closed form solution\n",
    "\n",
    "qlopt = (2. * (β + δf)*(α - γl)-β * (α - γf))/(4. * (β + δf)*(β + δl) - 2. * β^2)\n",
    "qfopt = (α - γf)/(2. * (β + δf)) - (β * (α - γl) - (β^2 * (α - γf))/(2. * (β + δf)))/(4. * (β + δf) * (β + δl) - 2. * β^2)\n",
    "\n",
    "display(qlopt)\n",
    "display(qfopt)"
   ]
  },
  {
   "cell_type": "code",
   "execution_count": 5,
   "metadata": {},
   "outputs": [
    {
     "data": {
      "text/plain": [
       "\"Finished successfully: optimality conditions satisfied\""
      ]
     },
     "metadata": {},
     "output_type": "display_data"
    },
    {
     "data": {
      "text/plain": [
       "1-element Array{Float64,1}:\n",
       " 3.9923664122137463"
      ]
     },
     "metadata": {},
     "output_type": "display_data"
    },
    {
     "data": {
      "text/plain": [
       "1-element Array{Float64,1}:\n",
       " 0.7730742539903015"
      ]
     },
     "metadata": {},
     "output_type": "display_data"
    }
   ],
   "source": [
    "# solution using our bilevel solver\n",
    "\n",
    "function F(ql)\n",
    "    fqf = qf -> -(P(ql[1],qf[1])*qf[1] - Cf(qf[1]))\n",
    "    hqf = qf -> [0.]\n",
    "    gqf = qf -> -qf\n",
    "    qf0 = [0.]\n",
    "    λ0 = [0.]\n",
    "    μ0 = [0.]\n",
    "    qfsol,λsol,μsol,Lsol = auglag_solve(qf0,λ0,μ0,fqf,hqf,gqf,inplace=false)\n",
    "    \n",
    "    J = -(P(ql[1],qfsol[1])*ql[1] - Cl(ql[1]))\n",
    "    c = -ql\n",
    "    \n",
    "    vcat(J,c)\n",
    "end\n",
    "\n",
    "ql0 = [0.]\n",
    "Fres = DiffResults.JacobianResult(F(ql0),ql0)\n",
    "num_g = 1\n",
    "function bilevel_prob(ql)\n",
    "    ForwardDiff.jacobian!(Fres, F, ql)\n",
    "    Fv = DiffResults.value(Fres)\n",
    "    FJ = DiffResults.jacobian(Fres)\n",
    "        \n",
    "    J = Fv[1]\n",
    "    c = Fv[2:1+num_g]\n",
    "\n",
    "    gJ = FJ[1,:]\n",
    "    gc = FJ[2:1+num_g,:]\n",
    "    \n",
    "    fail = false\n",
    "    \n",
    "    J, c, gJ, gc, fail\n",
    "end\n",
    "\n",
    "lb = [-1e19]\n",
    "ub = [1e19]\n",
    "options = Dict{String, Any}()\n",
    "options[\"Derivative option\"] = 1\n",
    "options[\"Verify level\"] = -1\n",
    "options[\"Major optimality tolerance\"] = 1e-3\n",
    "\n",
    "qlsol, fsol, info = snopt(bilevel_prob, ql0, lb, ub, options)\n",
    "\n",
    "display(info)\n",
    "display(qlsol)\n",
    "\n",
    "function compute_qfsol(ql)\n",
    "    fqf = qf -> -(P(ql[1],qf[1])*qf[1] - Cf(qf[1]))\n",
    "    hqf = qf -> [0.]\n",
    "    gqf = qf -> -qf\n",
    "    qf0 = [0.]\n",
    "    λ0 = [0.]\n",
    "    μ0 = [0.]\n",
    "    qfsol,λsol,μsol,Lsol = auglag_solve(qf0,λ0,μ0,fqf,hqf,gqf)\n",
    "end\n",
    "\n",
    "qfsol,λsol,μsol,Lsol = compute_qfsol(qlsol)\n",
    "display(qfsol)"
   ]
  }
 ],
 "metadata": {
  "kernelspec": {
   "display_name": "Julia 0.7.0",
   "language": "julia",
   "name": "julia-0.7"
  },
  "language_info": {
   "file_extension": ".jl",
   "mimetype": "application/julia",
   "name": "julia",
   "version": "0.7.0"
  }
 },
 "nbformat": 4,
 "nbformat_minor": 2
}
