{
 "cells": [
  {
   "cell_type": "code",
   "execution_count": 3,
   "metadata": {
    "collapsed": false
   },
   "outputs": [],
   "source": [
    "using Revise\n",
    "\n",
    "using RigidBodyDynamics\n",
    "using RigidBodyDynamics: Bounds\n",
    "\n",
    "using RigidBodyTreeInspector\n",
    "using DrakeVisualizer\n",
    "using Plots\n",
    "\n",
    "using BilevelTrajOpt"
   ]
  },
  {
   "cell_type": "code",
   "execution_count": 4,
   "metadata": {
    "collapsed": true
   },
   "outputs": [],
   "source": [
    "urdf = joinpath(\"..\", \"urdf\", \"ball.urdf\")\n",
    "mechanism = parse_urdf(Float64, urdf)\n",
    "body = findbody(mechanism, \"ball\")\n",
    "basejoint = joint_to_parent(body, mechanism)\n",
    "floatingjoint = Joint(basejoint.name, frame_before(basejoint), frame_after(basejoint), QuaternionFloating{Float64}())\n",
    "replace_joint!(mechanism, basejoint, floatingjoint)\n",
    "position_bounds(floatingjoint) .= Bounds(-100, 100)\n",
    "velocity_bounds(floatingjoint) .= Bounds(-100, 100)\n",
    "env = parse_contacts(mechanism, urdf, .5);\n",
    "x0 = MechanismState(mechanism)\n",
    "Δt = 0.01\n",
    "sim_data = get_sim_data(x0,env,Δt,true);"
   ]
  },
  {
   "cell_type": "code",
   "execution_count": 17,
   "metadata": {
    "collapsed": false
   },
   "outputs": [
    {
     "name": "stdout",
     "output_type": "stream",
     "text": [
      "Solve_Succeeded\n"
     ]
    }
   ],
   "source": [
    "# q0 = [1., 0., 0., 0., 0., 0., 0.]\n",
    "# v0 = [0., 0., 0., .25, 0., 0.]\n",
    "# q0 = [1.0, 1.02527e-44, -3.30872e-28, -8.9132e-46, 0.016266, 1.5112e-19, -1.40034e-9]\n",
    "# v0 = [-9.0404e-42, -2.86986e-41, -3.59817e-44, 0.1266, 1.51121e-17, -0.439901]\n",
    "# q0 = [1.0, 1.9873e-14, -2.33452e-10, 4.82734e-19, 0.0174996, 8.11268e-7, -3.72712e-7]\n",
    "# v0 = [9.9293e-17, -1.16731e-12, -2.65886e-20, 0.249991, 2.12753e-5, -0.441238]\n",
    "q0 = [1.0, 1.02527e-44, -3.30872e-28, -8.9132e-46, 0.016266, 1.5112e-19, -1.40034e-9]\n",
    "v0 = [-9.0404e-42, -2.86986e-41, -3.59817e-44, 0.1266, 1.51121e-17, -0.439901]\n",
    "\n",
    "u0 = zeros(sim_data.num_v)\n",
    "# set_configuration!(x0, q0)\n",
    "# set_velocity!(x0, v0)\n",
    "# setdirty!(x0)\n",
    "# traj = BilevelTrajOpt.simulate(x0,env,sim_data.Δt,1,implicit_contact=false)\n",
    "# qnext = traj[1:sim_data.num_q,2]\n",
    "# vnext = traj[sim_data.num_q+1:sim_data.num_q+sim_data.num_v,2]\n",
    "# qnext = [1.0, 1.8722e-14, -2.33457e-10, 1.01223e-16, 0.0199995, 1.78903e-6, -9.99477e-9]\n",
    "# vnext = [9.35363e-17, -1.16731e-12, 3.62294e-22, 0.249991, 9.77758e-5, 3.62716e-5]\n",
    "qnext = [1.0, -3.49493e-44, -3.30872e-28, -1.0679e-45, 0.016266, 1.51127e-19, -4.08825e-9]\n",
    "vnext = [-9.0404e-42, -2.86986e-41, -3.53162e-44, 7.50696e-9, 6.42133e-22, -2.68792e-7]\n",
    "\n",
    "z0 = zeros(sim_data.num_contacts*(sim_data.β_dim+2))\n",
    "# z0 = [2.13309e-5, 4.89487e-5, 0.500026, 3.63767e-5, 0.450951, 1.00001]\n",
    "\n",
    "num_steps_default = 5\n",
    "α_vect_default = [1.^i for i = 1:num_steps_default]\n",
    "c_vect_default = [0.01*(1.^i) for i = 1:num_steps_default]\n",
    "I_vect_default = 1e-12*ones(num_steps_default)\n",
    "\n",
    "τ_ip, x_sol_ip = solve_implicit_contact_τ(sim_data,q0,v0,u0,z0,qnext,vnext,ip_method=true);\n",
    "# τ_auglag, x_sol_auglag = solve_implicit_contact_τ(sim_data,q0,v0,u0,z0,qnext,vnext,ip_method=false,α_vect=α_vect_default,c_vect=c_vect_default,I_vect=I_vect_default);\n",
    "τ_auglag, x_sol_auglag = solve_implicit_contact_τ(sim_data,q0,v0,u0,z0,qnext,vnext,ip_method=false);\n",
    "\n",
    "# z0 = zeros(sim_data.num_contacts*(sim_data.β_dim+2))\n",
    "# N = 5\n",
    "# α_vect=[1.^i for i = 1:N]\n",
    "# c_vect=[10000.+50.^i for i = 1:N]\n",
    "# I_vect=1e-10*ones(N)\n",
    "# τ_auglag, x_sol_auglag = solve_implicit_contact_τ(sim_data,q0,v0,u0,z0,qnext,vnext,ip_method=false,α_vect=α_vect,c_vect=c_vect,I_vect=I_vect);"
   ]
  },
  {
   "cell_type": "code",
   "execution_count": 18,
   "metadata": {
    "collapsed": false,
    "scrolled": false
   },
   "outputs": [
    {
     "data": {
      "text/plain": [
       "6-element Array{Float64,1}:\n",
       " 0.38959   \n",
       " 0.226423  \n",
       " 1.68011   \n",
       " 0.226423  \n",
       " 6.97269e-9\n",
       " 5.48421   "
      ]
     },
     "metadata": {},
     "output_type": "display_data"
    },
    {
     "data": {
      "text/plain": [
       "\"IP\""
      ]
     },
     "metadata": {},
     "output_type": "display_data"
    },
    {
     "data": {
      "text/plain": [
       "6-element Array{Float64,1}:\n",
       " 0.348461  \n",
       " 0.251717  \n",
       " 1.63898   \n",
       " 0.251717  \n",
       " 5.13165e-5\n",
       " 5.48421   "
      ]
     },
     "metadata": {},
     "output_type": "display_data"
    },
    {
     "data": {
      "text/plain": [
       "\"Aug Lag\""
      ]
     },
     "metadata": {},
     "output_type": "display_data"
    },
    {
     "data": {
      "text/plain": [
       "6-element Array{Float64,1}:\n",
       " 0.662648  \n",
       " 0.0262225 \n",
       " 1.95317   \n",
       " 0.0262225 \n",
       " 5.95395e-9\n",
       " 5.48421   "
      ]
     },
     "metadata": {},
     "output_type": "display_data"
    }
   ],
   "source": [
    "display([0.38959, 0.226423, 1.68011, 0.226423, 6.97269e-9, 5.48421])\n",
    "display(\"IP\")\n",
    "display(x_sol_ip)\n",
    "display(\"Aug Lag\")\n",
    "display(x_sol_auglag)\n",
    "# display(\"Explicit\")\n",
    "# display(traj[sim_data.num_q+sim_data.num_v+1:end,2])"
   ]
  },
  {
   "cell_type": "code",
   "execution_count": null,
   "metadata": {
    "collapsed": true
   },
   "outputs": [],
   "source": [
    "[0.38959, 0.226423, 1.68011, 0.226423, 6.97269e-9, 5.48421]"
   ]
  },
  {
   "cell_type": "code",
   "execution_count": null,
   "metadata": {
    "collapsed": true
   },
   "outputs": [],
   "source": [
    "display(\"IP\")\n",
    "display(τ_ip)\n",
    "display(\"Aug Lag\")\n",
    "display(τ_auglag)"
   ]
  },
  {
   "cell_type": "code",
   "execution_count": null,
   "metadata": {
    "collapsed": true
   },
   "outputs": [],
   "source": [
    "BilevelTrajOpt.τ_total(traj[sim_data.num_q+sim_data.num_v+2:end,2],sim_data)"
   ]
  },
  {
   "cell_type": "code",
   "execution_count": null,
   "metadata": {
    "collapsed": true
   },
   "outputs": [],
   "source": [
    "ForwardDiff.jacobian(x̃ -> solve_implicit_contact_τ(sim_data,q0,v0,u0,z0,x̃[1:sim_data.num_q],x̃[sim_data.num_q+1:sim_data.num_q+sim_data.num_v];ip_method=false)[1],vcat(qnext,vnext))"
   ]
  },
  {
   "cell_type": "code",
   "execution_count": null,
   "metadata": {
    "collapsed": true
   },
   "outputs": [],
   "source": [
    "DrakeVisualizer.any_open_windows() || (DrakeVisualizer.new_window(); sleep(1));\n",
    "geometries = visual_elements(mechanism, URDFVisuals(urdf))\n",
    "vis = Visualizer(mechanism, geometries);"
   ]
  },
  {
   "cell_type": "code",
   "execution_count": null,
   "metadata": {
    "collapsed": true
   },
   "outputs": [],
   "source": [
    "N = size(traj,2)\n",
    "qs = [traj[1:num_positions(x0),i] for i in 1:N]\n",
    "ts = cumsum([Δt for i in 1:N]);\n",
    "RigidBodyTreeInspector.animate(vis, mechanism, ts, qs; realtimerate = .25);"
   ]
  }
 ],
 "metadata": {
  "kernelspec": {
   "display_name": "Julia 0.6.4",
   "language": "julia",
   "name": "julia-0.6"
  },
  "language_info": {
   "file_extension": ".jl",
   "mimetype": "application/julia",
   "name": "julia",
   "version": "0.6.4"
  }
 },
 "nbformat": 4,
 "nbformat_minor": 2
}
