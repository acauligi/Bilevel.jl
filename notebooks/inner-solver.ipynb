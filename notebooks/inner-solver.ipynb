{
 "cells": [
  {
   "cell_type": "code",
   "execution_count": 1,
   "metadata": {},
   "outputs": [
    {
     "data": {
      "text/html": [
       "    <script class='js-collapse-script'>\n",
       "        var curMatch =\n",
       "            window.location.href\n",
       "            .match(/(.*?)\\/notebooks\\/.*\\.ipynb/);\n",
       "\n",
       "        curMatch = curMatch ||\n",
       "            window.location.href\n",
       "            .match(/(.*?)\\/apps\\/.*\\.ipynb/);\n",
       "\n",
       "        if ( curMatch ) {\n",
       "            $('head').append('<base href=\"' + curMatch[1] + '/\">');\n",
       "        }\n",
       "    </script>\n"
      ],
      "text/plain": [
       "HTML{String}(\"    <script class='js-collapse-script'>\\n        var curMatch =\\n            window.location.href\\n            .match(/(.*?)\\\\/notebooks\\\\/.*\\\\.ipynb/);\\n\\n        curMatch = curMatch ||\\n            window.location.href\\n            .match(/(.*?)\\\\/apps\\\\/.*\\\\.ipynb/);\\n\\n        if ( curMatch ) {\\n            \\$('head').append('<base href=\\\"' + curMatch[1] + '/\\\">');\\n        }\\n    </script>\\n\")"
      ]
     },
     "metadata": {},
     "output_type": "display_data"
    },
    {
     "data": {
      "text/html": [
       "<script class='js-collapse-script' src='/assetserver/9dd84cf97c4fc16956f39829c81f3b6907c8fc83-assets/webio/dist/bundle.js'></script>"
      ],
      "text/plain": [
       "HTML{String}(\"<script class='js-collapse-script' src='/assetserver/9dd84cf97c4fc16956f39829c81f3b6907c8fc83-assets/webio/dist/bundle.js'></script>\")"
      ]
     },
     "metadata": {},
     "output_type": "display_data"
    },
    {
     "data": {
      "text/html": [
       "<script class='js-collapse-script' src='/assetserver/9dd84cf97c4fc16956f39829c81f3b6907c8fc83-assets/providers/ijulia_setup.js'></script>"
      ],
      "text/plain": [
       "HTML{String}(\"<script class='js-collapse-script' src='/assetserver/9dd84cf97c4fc16956f39829c81f3b6907c8fc83-assets/providers/ijulia_setup.js'></script>\")"
      ]
     },
     "metadata": {},
     "output_type": "display_data"
    },
    {
     "data": {
      "text/html": [
       "  <script class='js-collapse-script'>\n",
       "    $('.js-collapse-script').parent('.output_subarea').css('padding', '0');\n",
       "  </script>\n"
      ],
      "text/plain": [
       "HTML{String}(\"  <script class='js-collapse-script'>\\n    \\$('.js-collapse-script').parent('.output_subarea').css('padding', '0');\\n  </script>\\n\")"
      ]
     },
     "metadata": {},
     "output_type": "display_data"
    }
   ],
   "source": [
    "using Revise\n",
    "\n",
    "using RigidBodyDynamics\n",
    "using RigidBodyDynamics: Bounds\n",
    "\n",
    "using RigidBodyTreeInspector\n",
    "using DrakeVisualizer\n",
    "using Plots\n",
    "\n",
    "using BilevelTrajOpt"
   ]
  },
  {
   "cell_type": "code",
   "execution_count": 2,
   "metadata": {},
   "outputs": [],
   "source": [
    "urdf = joinpath(\"..\", \"urdf\", \"ball.urdf\")\n",
    "mechanism = parse_urdf(Float64, urdf)\n",
    "body = findbody(mechanism, \"ball\")\n",
    "basejoint = joint_to_parent(body, mechanism)\n",
    "floatingjoint = Joint(basejoint.name, frame_before(basejoint), frame_after(basejoint), QuaternionFloating{Float64}())\n",
    "replace_joint!(mechanism, basejoint, floatingjoint)\n",
    "position_bounds(floatingjoint) .= Bounds(-100, 100)\n",
    "velocity_bounds(floatingjoint) .= Bounds(-100, 100)\n",
    "env = parse_contacts(mechanism, urdf, .5);\n",
    "x0 = MechanismState(mechanism)\n",
    "Δt = 0.01\n",
    "sim_data = get_sim_data(x0,env,Δt,true);"
   ]
  },
  {
   "cell_type": "code",
   "execution_count": 3,
   "metadata": {},
   "outputs": [
    {
     "name": "stdout",
     "output_type": "stream",
     "text": [
      "\n",
      "******************************************************************************\n",
      "This program contains Ipopt, a library for large-scale nonlinear optimization.\n",
      " Ipopt is released as open source code under the Eclipse Public License (EPL).\n",
      "         For more information visit http://projects.coin-or.org/Ipopt\n",
      "******************************************************************************\n",
      "\n",
      "Solve_Succeeded\n"
     ]
    },
    {
     "ename": "LoadError",
     "evalue": "\u001b[91mMethodError: no method matching string(::Expr)\nThe applicable method may be too new: running in world age 2757, while current world is 22016.\u001b[0m\nClosest candidates are:\n  string(::Any...) at strings/io.jl:120 (method too new to be called from this world context.)\n  string(\u001b[91m::BigInt\u001b[39m) at gmp.jl:568 (method too new to be called from this world context.)\n  string(\u001b[91m::BigFloat\u001b[39m) at mpfr.jl:885 (method too new to be called from this world context.)\n  ...\u001b[39m",
     "output_type": "error",
     "traceback": [
      "\u001b[91mMethodError: no method matching string(::Expr)\nThe applicable method may be too new: running in world age 2757, while current world is 22016.\u001b[0m\nClosest candidates are:\n  string(::Any...) at strings/io.jl:120 (method too new to be called from this world context.)\n  string(\u001b[91m::BigInt\u001b[39m) at gmp.jl:568 (method too new to be called from this world context.)\n  string(\u001b[91m::BigFloat\u001b[39m) at mpfr.jl:885 (method too new to be called from this world context.)\n  ...\u001b[39m",
      "",
      "Stacktrace:",
      " [1] \u001b[1mlimit_type_depth\u001b[22m\u001b[22m\u001b[1m(\u001b[22m\u001b[22m::Any, ::Int64\u001b[1m)\u001b[22m\u001b[22m at \u001b[1m./inference.jl:692\u001b[22m\u001b[22m",
      " [2] \u001b[1mgetfield_tfunc\u001b[22m\u001b[22m\u001b[1m(\u001b[22m\u001b[22m::Any, ::Core.Inference.Const\u001b[1m)\u001b[22m\u001b[22m at \u001b[1m./inference.jl:897\u001b[22m\u001b[22m",
      " [3] \u001b[1m(::Core.Inference.##171#172)\u001b[22m\u001b[22m\u001b[1m(\u001b[22m\u001b[22m::Any, ::Any\u001b[1m)\u001b[22m\u001b[22m at \u001b[1m./inference.jl:899\u001b[22m\u001b[22m",
      " [4] \u001b[1mbuiltin_tfunction\u001b[22m\u001b[22m\u001b[1m(\u001b[22m\u001b[22m::Any, ::Array{Any,1}, ::Core.Inference.InferenceState, ::Core.Inference.InferenceParams\u001b[1m)\u001b[22m\u001b[22m at \u001b[1m./inference.jl:1215\u001b[22m\u001b[22m",
      " [5] \u001b[1mbuiltin_tfunction\u001b[22m\u001b[22m\u001b[1m(\u001b[22m\u001b[22m::Any, ::Array{Any,1}, ::Core.Inference.InferenceState\u001b[1m)\u001b[22m\u001b[22m at \u001b[1m./inference.jl:1133\u001b[22m\u001b[22m",
      " [6] \u001b[1mabstract_call\u001b[22m\u001b[22m\u001b[1m(\u001b[22m\u001b[22m::Any, ::Array{Any,1}, ::Array{Any,1}, ::Array{Any,1}, ::Core.Inference.InferenceState\u001b[1m)\u001b[22m\u001b[22m at \u001b[1m./inference.jl:1701\u001b[22m\u001b[22m",
      " [7] \u001b[1mabstract_eval_call\u001b[22m\u001b[22m\u001b[1m(\u001b[22m\u001b[22m::Expr, ::Array{Any,1}, ::Core.Inference.InferenceState\u001b[1m)\u001b[22m\u001b[22m at \u001b[1m./inference.jl:1927\u001b[22m\u001b[22m",
      " [8] \u001b[1mabstract_eval\u001b[22m\u001b[22m\u001b[1m(\u001b[22m\u001b[22m::Any, ::Array{Any,1}, ::Core.Inference.InferenceState\u001b[1m)\u001b[22m\u001b[22m at \u001b[1m./inference.jl:1950\u001b[22m\u001b[22m",
      " [9] \u001b[1m(::Core.Inference.##191#192{Array{Any,1},Core.Inference.InferenceState})\u001b[22m\u001b[22m\u001b[1m(\u001b[22m\u001b[22m::Expr\u001b[1m)\u001b[22m\u001b[22m at \u001b[1m./<missing>:0\u001b[22m\u001b[22m",
      " [10] \u001b[1mnext\u001b[22m\u001b[22m\u001b[1m(\u001b[22m\u001b[22m::Core.Inference.Generator{Array{Any,1},Core.Inference.##191#192{Array{Any,1},Core.Inference.InferenceState}}, ::Int64\u001b[1m)\u001b[22m\u001b[22m at \u001b[1m./generator.jl:45\u001b[22m\u001b[22m",
      " [11] \u001b[1mcopy!\u001b[22m\u001b[22m\u001b[1m(\u001b[22m\u001b[22m::Array{Any,1}, ::Core.Inference.Generator{Array{Any,1},Core.Inference.##191#192{Array{Any,1},Core.Inference.InferenceState}}\u001b[1m)\u001b[22m\u001b[22m at \u001b[1m./abstractarray.jl:573\u001b[22m\u001b[22m",
      " [12] \u001b[1m_collect\u001b[22m\u001b[22m\u001b[1m(\u001b[22m\u001b[22m::Type{Any}, ::Core.Inference.Generator{Array{Any,1},Core.Inference.##191#192{Array{Any,1},Core.Inference.InferenceState}}, ::Core.Inference.HasShape\u001b[1m)\u001b[22m\u001b[22m at \u001b[1m./array.jl:391\u001b[22m\u001b[22m",
      " [13] \u001b[1mcollect\u001b[22m\u001b[22m\u001b[1m(\u001b[22m\u001b[22m::Type{Any}, ::Core.Inference.Generator{Array{Any,1},Core.Inference.##191#192{Array{Any,1},Core.Inference.InferenceState}}\u001b[1m)\u001b[22m\u001b[22m at \u001b[1m./array.jl:388\u001b[22m\u001b[22m",
      " [14] \u001b[1mabstract_eval_call\u001b[22m\u001b[22m\u001b[1m(\u001b[22m\u001b[22m::Expr, ::Array{Any,1}, ::Core.Inference.InferenceState\u001b[1m)\u001b[22m\u001b[22m at \u001b[1m./inference.jl:1901\u001b[22m\u001b[22m",
      " [15] \u001b[1mabstract_eval\u001b[22m\u001b[22m\u001b[1m(\u001b[22m\u001b[22m::Any, ::Array{Any,1}, ::Core.Inference.InferenceState\u001b[1m)\u001b[22m\u001b[22m at \u001b[1m./inference.jl:1950\u001b[22m\u001b[22m",
      " [16] \u001b[1m(::Core.Inference.##191#192{Array{Any,1},Core.Inference.InferenceState})\u001b[22m\u001b[22m\u001b[1m(\u001b[22m\u001b[22m::Expr\u001b[1m)\u001b[22m\u001b[22m at \u001b[1m./<missing>:0\u001b[22m\u001b[22m",
      " [17] \u001b[1mnext\u001b[22m\u001b[22m\u001b[1m(\u001b[22m\u001b[22m::Core.Inference.Generator{Array{Any,1},Core.Inference.##191#192{Array{Any,1},Core.Inference.InferenceState}}, ::Int64\u001b[1m)\u001b[22m\u001b[22m at \u001b[1m./generator.jl:45\u001b[22m\u001b[22m",
      " [18] \u001b[1mcopy!\u001b[22m\u001b[22m\u001b[1m(\u001b[22m\u001b[22m::Array{Any,1}, ::Core.Inference.Generator{Array{Any,1},Core.Inference.##191#192{Array{Any,1},Core.Inference.InferenceState}}\u001b[1m)\u001b[22m\u001b[22m at \u001b[1m./abstractarray.jl:573\u001b[22m\u001b[22m",
      " [19] \u001b[1m_collect\u001b[22m\u001b[22m\u001b[1m(\u001b[22m\u001b[22m::Type{Any}, ::Core.Inference.Generator{Array{Any,1},Core.Inference.##191#192{Array{Any,1},Core.Inference.InferenceState}}, ::Core.Inference.HasShape\u001b[1m)\u001b[22m\u001b[22m at \u001b[1m./array.jl:391\u001b[22m\u001b[22m",
      " [20] \u001b[1mcollect\u001b[22m\u001b[22m\u001b[1m(\u001b[22m\u001b[22m::Type{Any}, ::Core.Inference.Generator{Array{Any,1},Core.Inference.##191#192{Array{Any,1},Core.Inference.InferenceState}}\u001b[1m)\u001b[22m\u001b[22m at \u001b[1m./array.jl:388\u001b[22m\u001b[22m",
      " [21] \u001b[1mabstract_eval_call\u001b[22m\u001b[22m\u001b[1m(\u001b[22m\u001b[22m::Expr, ::Array{Any,1}, ::Core.Inference.InferenceState\u001b[1m)\u001b[22m\u001b[22m at \u001b[1m./inference.jl:1901\u001b[22m\u001b[22m",
      " [22] \u001b[1mabstract_eval\u001b[22m\u001b[22m\u001b[1m(\u001b[22m\u001b[22m::Any, ::Array{Any,1}, ::Core.Inference.InferenceState\u001b[1m)\u001b[22m\u001b[22m at \u001b[1m./inference.jl:1950\u001b[22m\u001b[22m",
      " [23] \u001b[1mtypeinf_work\u001b[22m\u001b[22m\u001b[1m(\u001b[22m\u001b[22m::Core.Inference.InferenceState\u001b[1m)\u001b[22m\u001b[22m at \u001b[1m./inference.jl:2722\u001b[22m\u001b[22m",
      " [24] \u001b[1mtypeinf\u001b[22m\u001b[22m\u001b[1m(\u001b[22m\u001b[22m::Core.Inference.InferenceState\u001b[1m)\u001b[22m\u001b[22m at \u001b[1m./inference.jl:2787\u001b[22m\u001b[22m",
      " [25] \u001b[1mtypeinf_edge\u001b[22m\u001b[22m\u001b[1m(\u001b[22m\u001b[22m::Method, ::Any, ::SimpleVector, ::Core.Inference.InferenceState\u001b[1m)\u001b[22m\u001b[22m at \u001b[1m./inference.jl:2535\u001b[22m\u001b[22m",
      " [26] \u001b[1mabstract_call_gf_by_type\u001b[22m\u001b[22m\u001b[1m(\u001b[22m\u001b[22m::Any, ::Any, ::Core.Inference.InferenceState\u001b[1m)\u001b[22m\u001b[22m at \u001b[1m./inference.jl:1420\u001b[22m\u001b[22m",
      " [27] \u001b[1mabstract_call\u001b[22m\u001b[22m\u001b[1m(\u001b[22m\u001b[22m::Any, ::Array{Any,1}, ::Array{Any,1}, ::Array{Any,1}, ::Core.Inference.InferenceState\u001b[1m)\u001b[22m\u001b[22m at \u001b[1m./inference.jl:1897\u001b[22m\u001b[22m",
      " [28] \u001b[1mabstract_eval_call\u001b[22m\u001b[22m\u001b[1m(\u001b[22m\u001b[22m::Expr, ::Array{Any,1}, ::Core.Inference.InferenceState\u001b[1m)\u001b[22m\u001b[22m at \u001b[1m./inference.jl:1927\u001b[22m\u001b[22m",
      " [29] \u001b[1mabstract_eval\u001b[22m\u001b[22m\u001b[1m(\u001b[22m\u001b[22m::Any, ::Array{Any,1}, ::Core.Inference.InferenceState\u001b[1m)\u001b[22m\u001b[22m at \u001b[1m./inference.jl:1950\u001b[22m\u001b[22m",
      " [30] \u001b[1m(::Core.Inference.##191#192{Array{Any,1},Core.Inference.InferenceState})\u001b[22m\u001b[22m\u001b[1m(\u001b[22m\u001b[22m::Expr\u001b[1m)\u001b[22m\u001b[22m at \u001b[1m./<missing>:0\u001b[22m\u001b[22m",
      " [31] \u001b[1mnext\u001b[22m\u001b[22m\u001b[1m(\u001b[22m\u001b[22m::Core.Inference.Generator{Array{Any,1},Core.Inference.##191#192{Array{Any,1},Core.Inference.InferenceState}}, ::Int64\u001b[1m)\u001b[22m\u001b[22m at \u001b[1m./generator.jl:45\u001b[22m\u001b[22m",
      " [32] \u001b[1mcopy!\u001b[22m\u001b[22m\u001b[1m(\u001b[22m\u001b[22m::Array{Any,1}, ::Core.Inference.Generator{Array{Any,1},Core.Inference.##191#192{Array{Any,1},Core.Inference.InferenceState}}\u001b[1m)\u001b[22m\u001b[22m at \u001b[1m./abstractarray.jl:573\u001b[22m\u001b[22m",
      " [33] \u001b[1m_collect\u001b[22m\u001b[22m\u001b[1m(\u001b[22m\u001b[22m::Type{Any}, ::Core.Inference.Generator{Array{Any,1},Core.Inference.##191#192{Array{Any,1},Core.Inference.InferenceState}}, ::Core.Inference.HasShape\u001b[1m)\u001b[22m\u001b[22m at \u001b[1m./array.jl:391\u001b[22m\u001b[22m",
      " [34] \u001b[1mcollect\u001b[22m\u001b[22m\u001b[1m(\u001b[22m\u001b[22m::Type{Any}, ::Core.Inference.Generator{Array{Any,1},Core.Inference.##191#192{Array{Any,1},Core.Inference.InferenceState}}\u001b[1m)\u001b[22m\u001b[22m at \u001b[1m./array.jl:388\u001b[22m\u001b[22m",
      " [35] \u001b[1mabstract_eval_call\u001b[22m\u001b[22m\u001b[1m(\u001b[22m\u001b[22m::Expr, ::Array{Any,1}, ::Core.Inference.InferenceState\u001b[1m)\u001b[22m\u001b[22m at \u001b[1m./inference.jl:1901\u001b[22m\u001b[22m",
      " [36] \u001b[1mabstract_eval\u001b[22m\u001b[22m\u001b[1m(\u001b[22m\u001b[22m::Any, ::Array{Any,1}, ::Core.Inference.InferenceState\u001b[1m)\u001b[22m\u001b[22m at \u001b[1m./inference.jl:1950\u001b[22m\u001b[22m",
      " [37] \u001b[1mtypeinf_work\u001b[22m\u001b[22m\u001b[1m(\u001b[22m\u001b[22m::Core.Inference.InferenceState\u001b[1m)\u001b[22m\u001b[22m at \u001b[1m./inference.jl:2722\u001b[22m\u001b[22m",
      " [38] \u001b[1mtypeinf\u001b[22m\u001b[22m\u001b[1m(\u001b[22m\u001b[22m::Core.Inference.InferenceState\u001b[1m)\u001b[22m\u001b[22m at \u001b[1m./inference.jl:2787\u001b[22m\u001b[22m",
      " [39] \u001b[1mtypeinf_edge\u001b[22m\u001b[22m\u001b[1m(\u001b[22m\u001b[22m::Method, ::Any, ::SimpleVector, ::Core.Inference.InferenceState\u001b[1m)\u001b[22m\u001b[22m at \u001b[1m./inference.jl:2535\u001b[22m\u001b[22m",
      " [40] \u001b[1mabstract_call_gf_by_type\u001b[22m\u001b[22m\u001b[1m(\u001b[22m\u001b[22m::Any, ::Any, ::Core.Inference.InferenceState\u001b[1m)\u001b[22m\u001b[22m at \u001b[1m./inference.jl:1420\u001b[22m\u001b[22m",
      " [41] \u001b[1mabstract_call\u001b[22m\u001b[22m\u001b[1m(\u001b[22m\u001b[22m::Any, ::Tuple{}, ::Array{Any,1}, ::Array{Any,1}, ::Core.Inference.InferenceState\u001b[1m)\u001b[22m\u001b[22m at \u001b[1m./inference.jl:1897\u001b[22m\u001b[22m",
      " [42] \u001b[1mreturn_type_tfunc\u001b[22m\u001b[22m\u001b[1m(\u001b[22m\u001b[22m::Any, ::Array{Any,1}, ::Core.Inference.InferenceState\u001b[1m)\u001b[22m\u001b[22m at \u001b[1m./inference.jl:1588\u001b[22m\u001b[22m",
      " [43] \u001b[1mabstract_call\u001b[22m\u001b[22m\u001b[1m(\u001b[22m\u001b[22m::Any, ::Array{Any,1}, ::Array{Any,1}, ::Array{Any,1}, ::Core.Inference.InferenceState\u001b[1m)\u001b[22m\u001b[22m at \u001b[1m./inference.jl:1813\u001b[22m\u001b[22m",
      " [44] \u001b[1mabstract_eval_call\u001b[22m\u001b[22m\u001b[1m(\u001b[22m\u001b[22m::Expr, ::Array{Any,1}, ::Core.Inference.InferenceState\u001b[1m)\u001b[22m\u001b[22m at \u001b[1m./inference.jl:1927\u001b[22m\u001b[22m",
      " [45] \u001b[1mabstract_eval\u001b[22m\u001b[22m\u001b[1m(\u001b[22m\u001b[22m::Any, ::Array{Any,1}, ::Core.Inference.InferenceState\u001b[1m)\u001b[22m\u001b[22m at \u001b[1m./inference.jl:1950\u001b[22m\u001b[22m",
      " [46] \u001b[1mtypeinf_work\u001b[22m\u001b[22m\u001b[1m(\u001b[22m\u001b[22m::Core.Inference.InferenceState\u001b[1m)\u001b[22m\u001b[22m at \u001b[1m./inference.jl:2722\u001b[22m\u001b[22m",
      " [47] \u001b[1mtypeinf\u001b[22m\u001b[22m\u001b[1m(\u001b[22m\u001b[22m::Core.Inference.InferenceState\u001b[1m)\u001b[22m\u001b[22m at \u001b[1m./inference.jl:2787\u001b[22m\u001b[22m",
      " [48] \u001b[1mtypeinf_edge\u001b[22m\u001b[22m\u001b[1m(\u001b[22m\u001b[22m::Method, ::Any, ::SimpleVector, ::Core.Inference.InferenceState\u001b[1m)\u001b[22m\u001b[22m at \u001b[1m./inference.jl:2535\u001b[22m\u001b[22m",
      " [49] \u001b[1mabstract_call_gf_by_type\u001b[22m\u001b[22m\u001b[1m(\u001b[22m\u001b[22m::Any, ::Any, ::Core.Inference.InferenceState\u001b[1m)\u001b[22m\u001b[22m at \u001b[1m./inference.jl:1420\u001b[22m\u001b[22m",
      " [50] \u001b[1mabstract_call\u001b[22m\u001b[22m\u001b[1m(\u001b[22m\u001b[22m::Any, ::Array{Any,1}, ::Array{Any,1}, ::Array{Any,1}, ::Core.Inference.InferenceState\u001b[1m)\u001b[22m\u001b[22m at \u001b[1m./inference.jl:1897\u001b[22m\u001b[22m",
      " [51] \u001b[1mabstract_eval_call\u001b[22m\u001b[22m\u001b[1m(\u001b[22m\u001b[22m::Expr, ::Array{Any,1}, ::Core.Inference.InferenceState\u001b[1m)\u001b[22m\u001b[22m at \u001b[1m./inference.jl:1927\u001b[22m\u001b[22m",
      " [52] \u001b[1mabstract_eval\u001b[22m\u001b[22m\u001b[1m(\u001b[22m\u001b[22m::Any, ::Array{Any,1}, ::Core.Inference.InferenceState\u001b[1m)\u001b[22m\u001b[22m at \u001b[1m./inference.jl:1950\u001b[22m\u001b[22m",
      " [53] \u001b[1mabstract_interpret\u001b[22m\u001b[22m\u001b[1m(\u001b[22m\u001b[22m::Any, ::Array{Any,1}, ::Core.Inference.InferenceState\u001b[1m)\u001b[22m\u001b[22m at \u001b[1m./inference.jl:2076\u001b[22m\u001b[22m",
      " [54] \u001b[1mtypeinf_work\u001b[22m\u001b[22m\u001b[1m(\u001b[22m\u001b[22m::Core.Inference.InferenceState\u001b[1m)\u001b[22m\u001b[22m at \u001b[1m./inference.jl:2669\u001b[22m\u001b[22m",
      " [55] \u001b[1mtypeinf\u001b[22m\u001b[22m\u001b[1m(\u001b[22m\u001b[22m::Core.Inference.InferenceState\u001b[1m)\u001b[22m\u001b[22m at \u001b[1m./inference.jl:2787\u001b[22m\u001b[22m",
      " [56] \u001b[1mtypeinf_edge\u001b[22m\u001b[22m\u001b[1m(\u001b[22m\u001b[22m::Method, ::Any, ::SimpleVector, ::Core.Inference.InferenceState\u001b[1m)\u001b[22m\u001b[22m at \u001b[1m./inference.jl:2535\u001b[22m\u001b[22m",
      " [57] \u001b[1mabstract_call_gf_by_type\u001b[22m\u001b[22m\u001b[1m(\u001b[22m\u001b[22m::Any, ::Any, ::Core.Inference.InferenceState\u001b[1m)\u001b[22m\u001b[22m at \u001b[1m./inference.jl:1420\u001b[22m\u001b[22m",
      " [58] \u001b[1mabstract_call\u001b[22m\u001b[22m\u001b[1m(\u001b[22m\u001b[22m::Any, ::Array{Any,1}, ::Array{Any,1}, ::Array{Any,1}, ::Core.Inference.InferenceState\u001b[1m)\u001b[22m\u001b[22m at \u001b[1m./inference.jl:1897\u001b[22m\u001b[22m",
      " [59] \u001b[1mabstract_eval_call\u001b[22m\u001b[22m\u001b[1m(\u001b[22m\u001b[22m::Expr, ::Array{Any,1}, ::Core.Inference.InferenceState\u001b[1m)\u001b[22m\u001b[22m at \u001b[1m./inference.jl:1927\u001b[22m\u001b[22m",
      " [60] \u001b[1mabstract_eval\u001b[22m\u001b[22m\u001b[1m(\u001b[22m\u001b[22m::Any, ::Array{Any,1}, ::Core.Inference.InferenceState\u001b[1m)\u001b[22m\u001b[22m at \u001b[1m./inference.jl:1950\u001b[22m\u001b[22m",
      " [61] \u001b[1mabstract_interpret\u001b[22m\u001b[22m\u001b[1m(\u001b[22m\u001b[22m::Any, ::Array{Any,1}, ::Core.Inference.InferenceState\u001b[1m)\u001b[22m\u001b[22m at \u001b[1m./inference.jl:2076\u001b[22m\u001b[22m",
      " [62] \u001b[1mtypeinf_work\u001b[22m\u001b[22m\u001b[1m(\u001b[22m\u001b[22m::Core.Inference.InferenceState\u001b[1m)\u001b[22m\u001b[22m at \u001b[1m./inference.jl:2669\u001b[22m\u001b[22m",
      " [63] \u001b[1mtypeinf\u001b[22m\u001b[22m\u001b[1m(\u001b[22m\u001b[22m::Core.Inference.InferenceState\u001b[1m)\u001b[22m\u001b[22m at \u001b[1m./inference.jl:2787\u001b[22m\u001b[22m",
      " [64] \u001b[1mtypeinf_edge\u001b[22m\u001b[22m\u001b[1m(\u001b[22m\u001b[22m::Method, ::Any, ::SimpleVector, ::Core.Inference.InferenceState\u001b[1m)\u001b[22m\u001b[22m at \u001b[1m./inference.jl:2535\u001b[22m\u001b[22m",
      " [65] \u001b[1mabstract_call_gf_by_type\u001b[22m\u001b[22m\u001b[1m(\u001b[22m\u001b[22m::Any, ::Any, ::Core.Inference.InferenceState\u001b[1m)\u001b[22m\u001b[22m at \u001b[1m./inference.jl:1420\u001b[22m\u001b[22m",
      " [66] \u001b[1mabstract_call\u001b[22m\u001b[22m\u001b[1m(\u001b[22m\u001b[22m::Any, ::Tuple{}, ::Array{Any,1}, ::Array{Any,1}, ::Core.Inference.InferenceState\u001b[1m)\u001b[22m\u001b[22m at \u001b[1m./inference.jl:1897\u001b[22m\u001b[22m",
      " [67] \u001b[1mabstract_apply\u001b[22m\u001b[22m\u001b[1m(\u001b[22m\u001b[22m::Any, ::Array{Any,1}, ::Array{Any,1}, ::Array{Any,1}, ::Core.Inference.InferenceState\u001b[1m)\u001b[22m\u001b[22m at \u001b[1m./inference.jl:1561\u001b[22m\u001b[22m",
      " [68] \u001b[1mabstract_call\u001b[22m\u001b[22m\u001b[1m(\u001b[22m\u001b[22m::Any, ::Array{Any,1}, ::Array{Any,1}, ::Array{Any,1}, ::Core.Inference.InferenceState\u001b[1m)\u001b[22m\u001b[22m at \u001b[1m./inference.jl:1689\u001b[22m\u001b[22m",
      " [69] \u001b[1mabstract_eval_call\u001b[22m\u001b[22m\u001b[1m(\u001b[22m\u001b[22m::Expr, ::Array{Any,1}, ::Core.Inference.InferenceState\u001b[1m)\u001b[22m\u001b[22m at \u001b[1m./inference.jl:1927\u001b[22m\u001b[22m",
      " [70] \u001b[1mabstract_eval\u001b[22m\u001b[22m\u001b[1m(\u001b[22m\u001b[22m::Any, ::Array{Any,1}, ::Core.Inference.InferenceState\u001b[1m)\u001b[22m\u001b[22m at \u001b[1m./inference.jl:1950\u001b[22m\u001b[22m",
      " [71] \u001b[1mtypeinf_work\u001b[22m\u001b[22m\u001b[1m(\u001b[22m\u001b[22m::Core.Inference.InferenceState\u001b[1m)\u001b[22m\u001b[22m at \u001b[1m./inference.jl:2722\u001b[22m\u001b[22m",
      " [72] \u001b[1mtypeinf\u001b[22m\u001b[22m\u001b[1m(\u001b[22m\u001b[22m::Core.Inference.InferenceState\u001b[1m)\u001b[22m\u001b[22m at \u001b[1m./inference.jl:2787\u001b[22m\u001b[22m",
      " [73] \u001b[1mtypeinf_edge\u001b[22m\u001b[22m\u001b[1m(\u001b[22m\u001b[22m::Method, ::Any, ::SimpleVector, ::Core.Inference.InferenceState\u001b[1m)\u001b[22m\u001b[22m at \u001b[1m./inference.jl:2535\u001b[22m\u001b[22m",
      " [74] \u001b[1mabstract_call_gf_by_type\u001b[22m\u001b[22m\u001b[1m(\u001b[22m\u001b[22m::Any, ::Any, ::Core.Inference.InferenceState\u001b[1m)\u001b[22m\u001b[22m at \u001b[1m./inference.jl:1420\u001b[22m\u001b[22m",
      " [75] \u001b[1mabstract_call\u001b[22m\u001b[22m\u001b[1m(\u001b[22m\u001b[22m::Any, ::Tuple{}, ::Array{Any,1}, ::Array{Any,1}, ::Core.Inference.InferenceState\u001b[1m)\u001b[22m\u001b[22m at \u001b[1m./inference.jl:1897\u001b[22m\u001b[22m",
      " [76] \u001b[1mabstract_apply\u001b[22m\u001b[22m\u001b[1m(\u001b[22m\u001b[22m::Any, ::Array{Any,1}, ::Array{Any,1}, ::Array{Any,1}, ::Core.Inference.InferenceState\u001b[1m)\u001b[22m\u001b[22m at \u001b[1m./inference.jl:1561\u001b[22m\u001b[22m",
      " [77] \u001b[1mabstract_call\u001b[22m\u001b[22m\u001b[1m(\u001b[22m\u001b[22m::Any, ::Array{Any,1}, ::Array{Any,1}, ::Array{Any,1}, ::Core.Inference.InferenceState\u001b[1m)\u001b[22m\u001b[22m at \u001b[1m./inference.jl:1689\u001b[22m\u001b[22m",
      " [78] \u001b[1mabstract_eval_call\u001b[22m\u001b[22m\u001b[1m(\u001b[22m\u001b[22m::Expr, ::Array{Any,1}, ::Core.Inference.InferenceState\u001b[1m)\u001b[22m\u001b[22m at \u001b[1m./inference.jl:1927\u001b[22m\u001b[22m",
      " [79] \u001b[1mabstract_eval\u001b[22m\u001b[22m\u001b[1m(\u001b[22m\u001b[22m::Any, ::Array{Any,1}, ::Core.Inference.InferenceState\u001b[1m)\u001b[22m\u001b[22m at \u001b[1m./inference.jl:1950\u001b[22m\u001b[22m",
      " [80] \u001b[1mtypeinf_work\u001b[22m\u001b[22m\u001b[1m(\u001b[22m\u001b[22m::Core.Inference.InferenceState\u001b[1m)\u001b[22m\u001b[22m at \u001b[1m./inference.jl:2722\u001b[22m\u001b[22m",
      " [81] \u001b[1mtypeinf\u001b[22m\u001b[22m\u001b[1m(\u001b[22m\u001b[22m::Core.Inference.InferenceState\u001b[1m)\u001b[22m\u001b[22m at \u001b[1m./inference.jl:2787\u001b[22m\u001b[22m",
      " [82] \u001b[1mtypeinf_frame\u001b[22m\u001b[22m\u001b[1m(\u001b[22m\u001b[22m::Core.MethodInstance, ::Bool, ::Bool, ::Core.Inference.InferenceParams\u001b[1m)\u001b[22m\u001b[22m at \u001b[1m./inference.jl:2504\u001b[22m\u001b[22m",
      " [83] \u001b[1mtypeinf_code\u001b[22m\u001b[22m\u001b[1m(\u001b[22m\u001b[22m::Core.MethodInstance, ::Bool, ::Bool, ::Core.Inference.InferenceParams\u001b[1m)\u001b[22m\u001b[22m at \u001b[1m./inference.jl:2583\u001b[22m\u001b[22m",
      " [84] \u001b[1mtypeinf_ext\u001b[22m\u001b[22m\u001b[1m(\u001b[22m\u001b[22m::Core.MethodInstance, ::UInt64\u001b[1m)\u001b[22m\u001b[22m at \u001b[1m./inference.jl:2622\u001b[22m\u001b[22m",
      " [85] \u001b[1mpos_contact_constraints\u001b[22m\u001b[22m\u001b[1m(\u001b[22m\u001b[22m::Array{ForwardDiff.Dual{ForwardDiff.Tag{BilevelTrajOpt.##9#10{Array{Float64,1},Array{Float64,1},Float64,BilevelTrajOpt.##43#46{BilevelTrajOpt.SimData,Array{Float64,1},Array{Float64,2}},BilevelTrajOpt.##44#47{BilevelTrajOpt.SimData,Array{Tuple{RigidBodyDynamics.Spatial.Transform3D,RigidBodyDynamics.Spatial.Transform3D},1},Array{RigidBodyDynamics.Spatial.GeometricJacobian,1},Array{Float64,1},Array{Float64,1}},BilevelTrajOpt.##45#48{BilevelTrajOpt.SimData,Array{Float64,2}}},Float64},Float64,6},1}, ::Array{Float64,2}, ::BilevelTrajOpt.SimData\u001b[1m)\u001b[22m\u001b[22m at \u001b[1m/home/blandry/.julia/v0.6/BilevelTrajOpt/src/contact.jl:143\u001b[22m\u001b[22m",
      " [86] \u001b[1mL\u001b[22m\u001b[22m\u001b[1m(\u001b[22m\u001b[22m::Array{ForwardDiff.Dual{ForwardDiff.Tag{BilevelTrajOpt.##9#10{Array{Float64,1},Array{Float64,1},Float64,BilevelTrajOpt.##43#46{BilevelTrajOpt.SimData,Array{Float64,1},Array{Float64,2}},BilevelTrajOpt.##44#47{BilevelTrajOpt.SimData,Array{Tuple{RigidBodyDynamics.Spatial.Transform3D,RigidBodyDynamics.Spatial.Transform3D},1},Array{RigidBodyDynamics.Spatial.GeometricJacobian,1},Array{Float64,1},Array{Float64,1}},BilevelTrajOpt.##45#48{BilevelTrajOpt.SimData,Array{Float64,2}}},Float64},Float64,6},1}, ::Array{Float64,1}, ::Array{Float64,1}, ::Float64, ::BilevelTrajOpt.##43#46{BilevelTrajOpt.SimData,Array{Float64,1},Array{Float64,2}}, ::BilevelTrajOpt.##44#47{BilevelTrajOpt.SimData,Array{Tuple{RigidBodyDynamics.Spatial.Transform3D,RigidBodyDynamics.Spatial.Transform3D},1},Array{RigidBodyDynamics.Spatial.GeometricJacobian,1},Array{Float64,1},Array{Float64,1}}, ::BilevelTrajOpt.##45#48{BilevelTrajOpt.SimData,Array{Float64,2}}\u001b[1m)\u001b[22m\u001b[22m at \u001b[1m/home/blandry/.julia/v0.6/BilevelTrajOpt/src/bilevel.jl:3\u001b[22m\u001b[22m",
      " [87] \u001b[1m(::BilevelTrajOpt.##9#10{Array{Float64,1},Array{Float64,1},Float64,BilevelTrajOpt.##43#46{BilevelTrajOpt.SimData,Array{Float64,1},Array{Float64,2}},BilevelTrajOpt.##44#47{BilevelTrajOpt.SimData,Array{Tuple{RigidBodyDynamics.Spatial.Transform3D,RigidBodyDynamics.Spatial.Transform3D},1},Array{RigidBodyDynamics.Spatial.GeometricJacobian,1},Array{Float64,1},Array{Float64,1}},BilevelTrajOpt.##45#48{BilevelTrajOpt.SimData,Array{Float64,2}}})\u001b[22m\u001b[22m\u001b[1m(\u001b[22m\u001b[22m::Array{ForwardDiff.Dual{ForwardDiff.Tag{BilevelTrajOpt.##9#10{Array{Float64,1},Array{Float64,1},Float64,BilevelTrajOpt.##43#46{BilevelTrajOpt.SimData,Array{Float64,1},Array{Float64,2}},BilevelTrajOpt.##44#47{BilevelTrajOpt.SimData,Array{Tuple{RigidBodyDynamics.Spatial.Transform3D,RigidBodyDynamics.Spatial.Transform3D},1},Array{RigidBodyDynamics.Spatial.GeometricJacobian,1},Array{Float64,1},Array{Float64,1}},BilevelTrajOpt.##45#48{BilevelTrajOpt.SimData,Array{Float64,2}}},Float64},Float64,6},1}\u001b[1m)\u001b[22m\u001b[22m at \u001b[1m/home/blandry/.julia/v0.6/BilevelTrajOpt/src/bilevel.jl:8\u001b[22m\u001b[22m",
      " [88] \u001b[1mvector_mode_gradient\u001b[22m\u001b[22m at \u001b[1m/home/blandry/.julia/v0.6/ForwardDiff/src/gradient.jl:96\u001b[22m\u001b[22m [inlined]",
      " [89] \u001b[1mgradient\u001b[22m\u001b[22m\u001b[1m(\u001b[22m\u001b[22m::Function, ::Array{Float64,1}, ::ForwardDiff.GradientConfig{ForwardDiff.Tag{BilevelTrajOpt.##9#10{Array{Float64,1},Array{Float64,1},Float64,BilevelTrajOpt.##43#46{BilevelTrajOpt.SimData,Array{Float64,1},Array{Float64,2}},BilevelTrajOpt.##44#47{BilevelTrajOpt.SimData,Array{Tuple{RigidBodyDynamics.Spatial.Transform3D,RigidBodyDynamics.Spatial.Transform3D},1},Array{RigidBodyDynamics.Spatial.GeometricJacobian,1},Array{Float64,1},Array{Float64,1}},BilevelTrajOpt.##45#48{BilevelTrajOpt.SimData,Array{Float64,2}}},Float64},Float64,6,Array{ForwardDiff.Dual{ForwardDiff.Tag{BilevelTrajOpt.##9#10{Array{Float64,1},Array{Float64,1},Float64,BilevelTrajOpt.##43#46{BilevelTrajOpt.SimData,Array{Float64,1},Array{Float64,2}},BilevelTrajOpt.##44#47{BilevelTrajOpt.SimData,Array{Tuple{RigidBodyDynamics.Spatial.Transform3D,RigidBodyDynamics.Spatial.Transform3D},1},Array{RigidBodyDynamics.Spatial.GeometricJacobian,1},Array{Float64,1},Array{Float64,1}},BilevelTrajOpt.##45#48{BilevelTrajOpt.SimData,Array{Float64,2}}},Float64},Float64,6},1}}, ::Val{true}\u001b[1m)\u001b[22m\u001b[22m at \u001b[1m/home/blandry/.julia/v0.6/ForwardDiff/src/gradient.jl:17\u001b[22m\u001b[22m",
      " [90] \u001b[1mgradient\u001b[22m\u001b[22m\u001b[1m(\u001b[22m\u001b[22m::Function, ::Array{Float64,1}, ::ForwardDiff.GradientConfig{ForwardDiff.Tag{BilevelTrajOpt.##9#10{Array{Float64,1},Array{Float64,1},Float64,BilevelTrajOpt.##43#46{BilevelTrajOpt.SimData,Array{Float64,1},Array{Float64,2}},BilevelTrajOpt.##44#47{BilevelTrajOpt.SimData,Array{Tuple{RigidBodyDynamics.Spatial.Transform3D,RigidBodyDynamics.Spatial.Transform3D},1},Array{RigidBodyDynamics.Spatial.GeometricJacobian,1},Array{Float64,1},Array{Float64,1}},BilevelTrajOpt.##45#48{BilevelTrajOpt.SimData,Array{Float64,2}}},Float64},Float64,6,Array{ForwardDiff.Dual{ForwardDiff.Tag{BilevelTrajOpt.##9#10{Array{Float64,1},Array{Float64,1},Float64,BilevelTrajOpt.##43#46{BilevelTrajOpt.SimData,Array{Float64,1},Array{Float64,2}},BilevelTrajOpt.##44#47{BilevelTrajOpt.SimData,Array{Tuple{RigidBodyDynamics.Spatial.Transform3D,RigidBodyDynamics.Spatial.Transform3D},1},Array{RigidBodyDynamics.Spatial.GeometricJacobian,1},Array{Float64,1},Array{Float64,1}},BilevelTrajOpt.##45#48{BilevelTrajOpt.SimData,Array{Float64,2}}},Float64},Float64,6},1}}\u001b[1m)\u001b[22m\u001b[22m at \u001b[1m/home/blandry/.julia/v0.6/ForwardDiff/src/gradient.jl:15\u001b[22m\u001b[22m (repeats 2 times)",
      " [91] \u001b[1mauglag_solve\u001b[22m\u001b[22m\u001b[1m(\u001b[22m\u001b[22m::Array{Float64,1}, ::Function, ::BilevelTrajOpt.##44#47{BilevelTrajOpt.SimData,Array{Tuple{RigidBodyDynamics.Spatial.Transform3D,RigidBodyDynamics.Spatial.Transform3D},1},Array{RigidBodyDynamics.Spatial.GeometricJacobian,1},Array{Float64,1},Array{Float64,1}}, ::BilevelTrajOpt.##45#48{BilevelTrajOpt.SimData,Array{Float64,2}}, ::Int64, ::Int64, ::Array{Int64,1}, ::Array{Float64,1}, ::Array{Float64,1}\u001b[1m)\u001b[22m\u001b[22m at \u001b[1m/home/blandry/.julia/v0.6/BilevelTrajOpt/src/bilevel.jl:22\u001b[22m\u001b[22m",
      " [92] \u001b[1m#solve_implicit_contact_τ#42\u001b[22m\u001b[22m\u001b[1m(\u001b[22m\u001b[22m::Bool, ::Array{Int64,1}, ::Array{Float64,1}, ::Array{Float64,1}, ::Function, ::BilevelTrajOpt.SimData, ::Array{Float64,1}, ::Array{Float64,2}, ::Array{Tuple{RigidBodyDynamics.Spatial.Transform3D,RigidBodyDynamics.Spatial.Transform3D},1}, ::Array{RigidBodyDynamics.Spatial.GeometricJacobian,1}, ::Array{Float64,1}, ::Array{Float64,1}, ::Array{Float64,1}\u001b[1m)\u001b[22m\u001b[22m at \u001b[1m/home/blandry/.julia/v0.6/BilevelTrajOpt/src/contact.jl:165\u001b[22m\u001b[22m",
      " [93] \u001b[1m(::BilevelTrajOpt.#kw##solve_implicit_contact_τ)\u001b[22m\u001b[22m\u001b[1m(\u001b[22m\u001b[22m::Array{Any,1}, ::BilevelTrajOpt.#solve_implicit_contact_τ, ::BilevelTrajOpt.SimData, ::Array{Float64,1}, ::Array{Float64,2}, ::Array{Tuple{RigidBodyDynamics.Spatial.Transform3D,RigidBodyDynamics.Spatial.Transform3D},1}, ::Array{RigidBodyDynamics.Spatial.GeometricJacobian,1}, ::Array{Float64,1}, ::Array{Float64,1}, ::Array{Float64,1}\u001b[1m)\u001b[22m\u001b[22m at \u001b[1m./<missing>:0\u001b[22m\u001b[22m",
      " [94] \u001b[1m#solve_implicit_contact_τ#49\u001b[22m\u001b[22m\u001b[1m(\u001b[22m\u001b[22m::Bool, ::Array{Int64,1}, ::Array{Float64,1}, ::Array{Float64,1}, ::Function, ::BilevelTrajOpt.SimData, ::Array{Float64,1}, ::Array{Float64,1}, ::Array{Float64,1}, ::Array{Float64,1}, ::Array{Float64,1}, ::Array{Float64,1}\u001b[1m)\u001b[22m\u001b[22m at \u001b[1m/home/blandry/.julia/v0.6/BilevelTrajOpt/src/contact.jl:203\u001b[22m\u001b[22m",
      " [95] \u001b[1m(::BilevelTrajOpt.#kw##solve_implicit_contact_τ)\u001b[22m\u001b[22m\u001b[1m(\u001b[22m\u001b[22m::Array{Any,1}, ::BilevelTrajOpt.#solve_implicit_contact_τ, ::BilevelTrajOpt.SimData, ::Array{Float64,1}, ::Array{Float64,1}, ::Array{Float64,1}, ::Array{Float64,1}, ::Array{Float64,1}, ::Array{Float64,1}\u001b[1m)\u001b[22m\u001b[22m at \u001b[1m./<missing>:0\u001b[22m\u001b[22m",
      " [96] \u001b[1minclude_string\u001b[22m\u001b[22m\u001b[1m(\u001b[22m\u001b[22m::String, ::String\u001b[1m)\u001b[22m\u001b[22m at \u001b[1m./loading.jl:522\u001b[22m\u001b[22m",
      " [97] \u001b[1mexecute_request\u001b[22m\u001b[22m\u001b[1m(\u001b[22m\u001b[22m::ZMQ.Socket, ::IJulia.Msg\u001b[1m)\u001b[22m\u001b[22m at \u001b[1m/home/blandry/.julia/v0.6/IJulia/src/execute_request.jl:193\u001b[22m\u001b[22m",
      " [98] \u001b[1m(::Compat.#inner#14{Array{Any,1},IJulia.#execute_request,Tuple{ZMQ.Socket,IJulia.Msg}})\u001b[22m\u001b[22m\u001b[1m(\u001b[22m\u001b[22m\u001b[1m)\u001b[22m\u001b[22m at \u001b[1m/home/blandry/.julia/v0.6/Compat/src/Compat.jl:332\u001b[22m\u001b[22m",
      " [99] \u001b[1meventloop\u001b[22m\u001b[22m\u001b[1m(\u001b[22m\u001b[22m::ZMQ.Socket\u001b[1m)\u001b[22m\u001b[22m at \u001b[1m/home/blandry/.julia/v0.6/IJulia/src/eventloop.jl:8\u001b[22m\u001b[22m",
      " [100] \u001b[1m(::IJulia.##13#16)\u001b[22m\u001b[22m\u001b[1m(\u001b[22m\u001b[22m\u001b[1m)\u001b[22m\u001b[22m at \u001b[1m./task.jl:335\u001b[22m\u001b[22m"
     ]
    }
   ],
   "source": [
    "# q0 = [1., 0., 0., 0., 0., 0., 0.]\n",
    "# v0 = [0., 0., 0., .25, 0., 0.]\n",
    "# q0 = [1.0, 1.02527e-44, -3.30872e-28, -8.9132e-46, 0.016266, 1.5112e-19, -1.40034e-9]\n",
    "# v0 = [-9.0404e-42, -2.86986e-41, -3.59817e-44, 0.1266, 1.51121e-17, -0.439901]\n",
    "# q0 = [1.0, 1.9873e-14, -2.33452e-10, 4.82734e-19, 0.0174996, 8.11268e-7, -3.72712e-7]\n",
    "# v0 = [9.9293e-17, -1.16731e-12, -2.65886e-20, 0.249991, 2.12753e-5, -0.441238]\n",
    "q0 = [1.0, 1.02527e-44, -3.30872e-28, -8.9132e-46, 0.016266, 1.5112e-19, -1.40034e-9]\n",
    "v0 = [-9.0404e-42, -2.86986e-41, -3.59817e-44, 0.1266, 1.51121e-17, -0.439901]\n",
    "\n",
    "u0 = zeros(sim_data.num_v)\n",
    "# set_configuration!(x0, q0)\n",
    "# set_velocity!(x0, v0)\n",
    "# setdirty!(x0)\n",
    "# traj = BilevelTrajOpt.simulate(x0,env,sim_data.Δt,1,implicit_contact=false)\n",
    "# qnext = traj[1:sim_data.num_q,2]\n",
    "# vnext = traj[sim_data.num_q+1:sim_data.num_q+sim_data.num_v,2]\n",
    "# qnext = [1.0, 1.8722e-14, -2.33457e-10, 1.01223e-16, 0.0199995, 1.78903e-6, -9.99477e-9]\n",
    "# vnext = [9.35363e-17, -1.16731e-12, 3.62294e-22, 0.249991, 9.77758e-5, 3.62716e-5]\n",
    "qnext = [1.0, -3.49493e-44, -3.30872e-28, -1.0679e-45, 0.016266, 1.51127e-19, -4.08825e-9]\n",
    "vnext = [-9.0404e-42, -2.86986e-41, -3.53162e-44, 7.50696e-9, 6.42133e-22, -2.68792e-7]\n",
    "\n",
    "z0 = zeros(sim_data.num_contacts*(sim_data.β_dim+2))\n",
    "# z0 = [2.13309e-5, 4.89487e-5, 0.500026, 3.63767e-5, 0.450951, 1.00001]\n",
    "\n",
    "num_steps_default = 5\n",
    "α_vect_default = [1.^i for i = 1:num_steps_default]\n",
    "c_vect_default = [0.01*(1.^i) for i = 1:num_steps_default]\n",
    "I_vect_default = 1e-12*ones(num_steps_default)\n",
    "\n",
    "τ_ip, x_sol_ip = solve_implicit_contact_τ(sim_data,q0,v0,u0,z0,qnext,vnext,ip_method=true);\n",
    "τ_auglag, x_sol_auglag = solve_implicit_contact_τ(sim_data,q0,v0,u0,z0,qnext,vnext,ip_method=false,α_vect=α_vect_default,c_vect=c_vect_default,I_vect=I_vect_default);\n",
    "# τ_auglag, x_sol_auglag = solve_implicit_contact_τ(sim_data,q0,v0,u0,z0,qnext,vnext,ip_method=false);\n",
    "\n",
    "# z0 = zeros(sim_data.num_contacts*(sim_data.β_dim+2))\n",
    "# N = 5\n",
    "# α_vect=[1.^i for i = 1:N]\n",
    "# c_vect=[10000.+50.^i for i = 1:N]\n",
    "# I_vect=1e-10*ones(N)\n",
    "# τ_auglag, x_sol_auglag = solve_implicit_contact_τ(sim_data,q0,v0,u0,z0,qnext,vnext,ip_method=false,α_vect=α_vect,c_vect=c_vect,I_vect=I_vect);"
   ]
  },
  {
   "cell_type": "code",
   "execution_count": null,
   "metadata": {
    "scrolled": false
   },
   "outputs": [],
   "source": [
    "display([0.38959, 0.226423, 1.68011, 0.226423, 6.97269e-9, 5.48421])\n",
    "display(\"IP\")\n",
    "display(x_sol_ip)\n",
    "display(\"Aug Lag\")\n",
    "display(x_sol_auglag)\n",
    "# display(\"Explicit\")\n",
    "# display(traj[sim_data.num_q+sim_data.num_v+1:end,2])"
   ]
  },
  {
   "cell_type": "code",
   "execution_count": null,
   "metadata": {},
   "outputs": [],
   "source": [
    "[0.38959, 0.226423, 1.68011, 0.226423, 6.97269e-9, 5.48421]"
   ]
  },
  {
   "cell_type": "code",
   "execution_count": null,
   "metadata": {},
   "outputs": [],
   "source": [
    "display(\"IP\")\n",
    "display(τ_ip)\n",
    "display(\"Aug Lag\")\n",
    "display(τ_auglag)"
   ]
  },
  {
   "cell_type": "code",
   "execution_count": null,
   "metadata": {},
   "outputs": [],
   "source": [
    "BilevelTrajOpt.τ_total(traj[sim_data.num_q+sim_data.num_v+2:end,2],sim_data)"
   ]
  },
  {
   "cell_type": "code",
   "execution_count": null,
   "metadata": {},
   "outputs": [],
   "source": [
    "ForwardDiff.jacobian(x̃ -> solve_implicit_contact_τ(sim_data,q0,v0,u0,z0,x̃[1:sim_data.num_q],x̃[sim_data.num_q+1:sim_data.num_q+sim_data.num_v];ip_method=false)[1],vcat(qnext,vnext))"
   ]
  },
  {
   "cell_type": "code",
   "execution_count": null,
   "metadata": {},
   "outputs": [],
   "source": [
    "DrakeVisualizer.any_open_windows() || (DrakeVisualizer.new_window(); sleep(1));\n",
    "geometries = visual_elements(mechanism, URDFVisuals(urdf))\n",
    "vis = Visualizer(mechanism, geometries);"
   ]
  },
  {
   "cell_type": "code",
   "execution_count": null,
   "metadata": {},
   "outputs": [],
   "source": [
    "N = size(traj,2)\n",
    "qs = [traj[1:num_positions(x0),i] for i in 1:N]\n",
    "ts = cumsum([Δt for i in 1:N]);\n",
    "RigidBodyTreeInspector.animate(vis, mechanism, ts, qs; realtimerate = .25);"
   ]
  }
 ],
 "metadata": {
  "kernelspec": {
   "display_name": "Julia 0.6.4",
   "language": "julia",
   "name": "julia-0.6"
  },
  "language_info": {
   "file_extension": ".jl",
   "mimetype": "application/julia",
   "name": "julia",
   "version": "0.6.4"
  }
 },
 "nbformat": 4,
 "nbformat_minor": 2
}
