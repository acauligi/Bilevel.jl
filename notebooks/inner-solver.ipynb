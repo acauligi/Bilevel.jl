{
 "cells": [
  {
   "cell_type": "code",
   "execution_count": 1,
   "metadata": {},
   "outputs": [],
   "source": [
    "using Revise\n",
    "\n",
    "using RigidBodyDynamics\n",
    "using RigidBodyDynamics: Bounds\n",
    "\n",
    "using Plots\n",
    "using BilevelTrajOpt"
   ]
  },
  {
   "cell_type": "code",
   "execution_count": 2,
   "metadata": {},
   "outputs": [],
   "source": [
    "urdf = joinpath(\"..\", \"urdf\", \"ball.urdf\")\n",
    "mechanism = parse_urdf(Float64, urdf)\n",
    "body = findbody(mechanism, \"ball\")\n",
    "basejoint = joint_to_parent(body, mechanism)\n",
    "floatingjoint = Joint(basejoint.name, frame_before(basejoint), frame_after(basejoint), QuaternionFloating{Float64}())\n",
    "replace_joint!(mechanism, basejoint, floatingjoint)\n",
    "position_bounds(floatingjoint) .= Bounds(-100, 100)\n",
    "velocity_bounds(floatingjoint) .= Bounds(-100, 100)\n",
    "μ = 0.5\n",
    "motion_type = :xyz\n",
    "point = Point3D(default_frame(findbody(mechanism, \"floor\")), [0.,0.,0.])\n",
    "normal = FreeVector3D(default_frame(findbody(mechanism, \"floor\")), [0.,0.,1.])\n",
    "hs = HalfSpace(point, normal)\n",
    "floor = Obstacle(hs, μ, motion_type)\n",
    "obstacles = [floor]\n",
    "env = parse_contacts(mechanism, urdf, obstacles)\n",
    "x0 = MechanismState(mechanism)\n",
    "Δt = 0.005\n",
    "sim_data = get_sim_data(x0,env,Δt,true);"
   ]
  },
  {
   "cell_type": "code",
   "execution_count": 3,
   "metadata": {},
   "outputs": [
    {
     "name": "stdout",
     "output_type": "stream",
     "text": [
      "elapsed time: 22.959399816 seconds\n",
      "elapsed time: 0.004501159 seconds\n",
      "\n",
      "******************************************************************************\n",
      "This program contains Ipopt, a library for large-scale nonlinear optimization.\n",
      " Ipopt is released as open source code under the Eclipse Public License (EPL).\n",
      "         For more information visit http://projects.coin-or.org/Ipopt\n",
      "******************************************************************************\n",
      "\n",
      "elapsed time: 0.004152719 seconds\n",
      "elapsed time: 0.004037703 seconds\n",
      "elapsed time: 0.004354215 seconds\n",
      "elapsed time: 0.004277462 seconds\n",
      "elapsed time: 0.004182745 seconds\n",
      "elapsed time: 0.004089139 seconds\n",
      "elapsed time: 0.004229572 seconds\n",
      "elapsed time: 0.004169459 seconds\n",
      "elapsed time: 0.004175872 seconds\n",
      "elapsed time: 0.013252909 seconds\n",
      "elapsed time: 0.004085363 seconds\n",
      "elapsed time: 0.004824823 seconds\n",
      "elapsed time: 0.003827821 seconds\n",
      "elapsed time: 0.003756678 seconds\n",
      "elapsed time: 0.003770153 seconds\n",
      "Solve_Succeeded\n",
      "Solve_Succeeded"
     ]
    },
    {
     "data": {
      "text/plain": [
       "\"IP\""
      ]
     },
     "metadata": {},
     "output_type": "display_data"
    },
    {
     "data": {
      "text/plain": [
       "6-element Array{Float64,1}:\n",
       " -9.65697e-9\n",
       " -9.80573e-9\n",
       "  0.500003  \n",
       " -9.80573e-9\n",
       "  0.475475  \n",
       "  1.00001   "
      ]
     },
     "metadata": {},
     "output_type": "display_data"
    },
    {
     "data": {
      "text/plain": [
       "\"Aug Lag\""
      ]
     },
     "metadata": {},
     "output_type": "display_data"
    },
    {
     "data": {
      "text/plain": [
       "6-element Array{Float64,1}:\n",
       "  0.00322556\n",
       " -0.00322556\n",
       "  0.503229  \n",
       " -0.00322556\n",
       "  0.47548   \n",
       "  1.00001   "
      ]
     },
     "metadata": {},
     "output_type": "display_data"
    },
    {
     "data": {
      "text/plain": [
       "\"torques\""
      ]
     },
     "metadata": {},
     "output_type": "display_data"
    },
    {
     "data": {
      "text/plain": [
       "6-element Array{Float64,1}:\n",
       "  0.0        \n",
       "  0.0        \n",
       "  0.0        \n",
       "  4.90503    \n",
       " -6.00693e-16\n",
       " -9.81006    "
      ]
     },
     "metadata": {},
     "output_type": "display_data"
    },
    {
     "data": {
      "text/plain": [
       "6-element Array{Float64,1}:\n",
       "  0.0        \n",
       "  0.0        \n",
       "  0.0        \n",
       "  4.90503    \n",
       " -1.51559e-10\n",
       " -9.81006    "
      ]
     },
     "metadata": {},
     "output_type": "display_data"
    },
    {
     "name": "stdout",
     "output_type": "stream",
     "text": [
      "\n"
     ]
    }
   ],
   "source": [
    "q0 = [1., 0., 0., 0., 0., 0., 0.]\n",
    "v0 = [0., 0., 0., 0.5, 0., 0.]\n",
    "\n",
    "u0 = zeros(sim_data.num_v)\n",
    "set_configuration!(x0, q0)\n",
    "set_velocity!(x0, v0)\n",
    "setdirty!(x0)\n",
    "ctrl! = (u,t,x) -> u[:] = 0.\n",
    "traj = BilevelTrajOpt.simulate(x0,env,sim_data.Δt,1,ctrl!,implicit_contact=false)\n",
    "qnext = traj[1:sim_data.num_q,2]\n",
    "vnext = traj[sim_data.num_q+1:sim_data.num_q+sim_data.num_v,2]\n",
    "x_sol_exp = traj[sim_data.num_q+sim_data.num_v+2:end,2]\n",
    "\n",
    "# qnext = q0\n",
    "# vnext = v0\n",
    "\n",
    "τ_ip, x_sol_ip, λ_ip, μ_ip, fx_ip = solve_implicit_contact_τ(sim_data,q0,v0,u0,qnext,vnext,ip_method=true);\n",
    "\n",
    "τ_auglag, x_sol_auglag, λ_auglag, μ_auglag, fx_auglag = solve_implicit_contact_τ(sim_data,q0,v0,u0,qnext,vnext,ip_method=false);\n",
    "\n",
    "# display(\"Explicit\")\n",
    "# display(x_sol_exp)\n",
    "display(\"IP\")\n",
    "display(x_sol_ip)\n",
    "display(\"Aug Lag\")\n",
    "display(x_sol_auglag)\n",
    "\n",
    "display(\"torques\")\n",
    "display(τ_ip)\n",
    "display(τ_auglag)"
   ]
  },
  {
   "cell_type": "code",
   "execution_count": null,
   "metadata": {},
   "outputs": [],
   "source": [
    "J_auto = ForwardDiff.jacobian(qv -> solve_implicit_contact_τ(sim_data,q0,v0,u0,qv[1:sim_data.num_q],qv[sim_data.num_q+1:sim_data.num_q+sim_data.num_v],ip_method=false)[2], vcat(qnext,vnext))"
   ]
  },
  {
   "cell_type": "code",
   "execution_count": 4,
   "metadata": {},
   "outputs": [
    {
     "data": {
      "text/plain": [
       "6×13 Array{Float64,2}:\n",
       " 0.0   6.19669e-10  0.0650667    3.43696e-7  …   -7.13768e-6   1.3265     \n",
       " 0.0  -6.37861e-6   0.184941    -0.500002        10.1937       3.77033    \n",
       " 0.0   5.94195e-10  0.065054    -1.64804e-6       3.36404e-5   1.3265     \n",
       " 0.0   6.38204e-6   0.184942     0.500004       -10.1937       3.77035    \n",
       " 0.0   4.66832e-11  8.46594e-6   4.2604e-11      -1.12142e-9   0.000159928\n",
       " 0.0   9.28221e-9   1.00001      1.03252e-6  …   -2.10535e-5  20.3874     "
      ]
     },
     "metadata": {},
     "output_type": "display_data"
    },
    {
     "data": {
      "text/plain": [
       "6×13 Array{Float64,2}:\n",
       " 0.0   0.000886324   0.0689028     0.00155451  …    0.0068732     1.32941   \n",
       " 0.0  -0.00764826    0.178803     -0.511293        10.1982        3.75937   \n",
       " 0.0   0.0180631     0.0670094     0.0173473       -0.00693997    1.3308    \n",
       " 0.0  -0.00497627    0.186535      0.491224       -10.1903        3.77905   \n",
       " 0.0   0.000891509  -0.000243661  -0.00028999       0.000132871   0.00039726\n",
       " 0.0   0.0111475     0.999766     -0.00766291  …    0.00987892   20.3941    "
      ]
     },
     "metadata": {},
     "output_type": "display_data"
    },
    {
     "data": {
      "text/plain": [
       "6×13 Array{Float64,2}:\n",
       " 0.0    0.0           0.0         …     0.0             0.0        \n",
       " 0.0    0.0           0.0               0.0             0.0        \n",
       " 0.0    6.93889e-18   0.0               0.0             0.0        \n",
       " 0.0   -2.49898e-10  19.62              0.000400033     5.99176e-6 \n",
       " 0.0  -19.62          6.97513e-6     -200.0             0.000142201\n",
       " 0.0   -9.08016e-8    1.56365e-6  …     0.000206535  -200.0        "
      ]
     },
     "metadata": {},
     "output_type": "display_data"
    },
    {
     "data": {
      "text/plain": [
       "6×13 Array{Float64,2}:\n",
       " 0.0    0.0           0.0          0.0          …     0.0           0.0      \n",
       " 0.0    0.0           0.0          3.46945e-10        0.0           0.0      \n",
       " 0.0    1.03398e-17   2.01948e-20  0.0                0.0           0.0      \n",
       " 0.0    0.168504     19.6016       0.154928          -0.135507      0.0136613\n",
       " 0.0  -19.5939        0.07585      0.0246288       -200.011         0.193045 \n",
       " 0.0   -0.109357      0.00235794   0.0751731    …    -0.0969122  -200.066    "
      ]
     },
     "metadata": {},
     "output_type": "display_data"
    }
   ],
   "source": [
    "τ_auglag, x_sol_auglag, λ_auglag, μ_auglag, fx_auglag = solve_implicit_contact_τ(sim_data,q0,v0,u0,qnext,vnext,ip_method=false);\n",
    "\n",
    "# autodiff \n",
    "J_auto = ForwardDiff.jacobian(qv -> solve_implicit_contact_τ(sim_data,q0,v0,u0,qv[1:sim_data.num_q],qv[sim_data.num_q+1:sim_data.num_q+sim_data.num_v],ip_method=false)[2], vcat(qnext,vnext))\n",
    "Jt_auto = ForwardDiff.jacobian(qv -> solve_implicit_contact_τ(sim_data,q0,v0,u0,qv[1:sim_data.num_q],qv[sim_data.num_q+1:sim_data.num_q+sim_data.num_v],ip_method=false)[1], vcat(qnext,vnext))\n",
    "\n",
    "# numerical\n",
    "ϵ = 1e-8\n",
    "J_num = zeros(size(J_auto))\n",
    "Jt_num = zeros(size(J_auto))\n",
    "# Jt_num_ip = zeros(size(J_auto))\n",
    "qv = vcat(qnext,vnext)\n",
    "for i = 1:length(qv)\n",
    "    δ = zeros(length(qv))\n",
    "    δ[i] = ϵ \n",
    "    τ, x, λ, μ, fx = solve_implicit_contact_τ(sim_data,q0,v0,u0,(qv+δ)[1:sim_data.num_q],(qv+δ)[sim_data.num_q+1:sim_data.num_q+sim_data.num_v],ip_method=false)\n",
    "    J_num[:,i] = (x - x_sol_auglag)/ϵ\n",
    "    Jt_num[:,i] = (τ - τ_auglag)/ϵ\n",
    "#     τ, x, λ, μ, fx = solve_implicit_contact_τ(sim_data,q0,v0,u0,(qv+δ)[1:sim_data.num_q],(qv+δ)[sim_data.num_q+1:sim_data.num_q+sim_data.num_v],ip_method=true)\n",
    "#     Jt_num_ip[:,i] = (τ - τ_auglag)/ϵ\n",
    "end\n",
    "\n",
    "display(J_auto)\n",
    "display(J_num)\n",
    "\n",
    "display(Jt_auto)\n",
    "display(Jt_num)\n",
    "# display(Jt_num_ip)"
   ]
  },
  {
   "cell_type": "code",
   "execution_count": null,
   "metadata": {},
   "outputs": [],
   "source": [
    "display(Jt_auto[:,11:13])\n",
    "display(Jt_num[:,11:13])\n",
    "display(Jt_num_ip[:,11:13])"
   ]
  },
  {
   "cell_type": "code",
   "execution_count": null,
   "metadata": {},
   "outputs": [],
   "source": [
    " (J_num[:,1] - x_sol_auglag)/ϵ"
   ]
  },
  {
   "cell_type": "code",
   "execution_count": 5,
   "metadata": {},
   "outputs": [
    {
     "data": {
      "text/plain": [
       "0.03702111061622509"
      ]
     },
     "execution_count": 5,
     "metadata": {},
     "output_type": "execute_result"
    }
   ],
   "source": [
    "maximum(abs.(J_auto-J_num))"
   ]
  },
  {
   "cell_type": "code",
   "execution_count": null,
   "metadata": {},
   "outputs": [],
   "source": [
    "abs.(J_auto-J_num)"
   ]
  },
  {
   "cell_type": "code",
   "execution_count": null,
   "metadata": {},
   "outputs": [],
   "source": [
    "J_num"
   ]
  },
  {
   "cell_type": "code",
   "execution_count": null,
   "metadata": {},
   "outputs": [],
   "source": [
    "J_auto"
   ]
  }
 ],
 "metadata": {
  "kernelspec": {
   "display_name": "Julia 0.6.4",
   "language": "julia",
   "name": "julia-0.6"
  },
  "language_info": {
   "file_extension": ".jl",
   "mimetype": "application/julia",
   "name": "julia",
   "version": "0.6.4"
  }
 },
 "nbformat": 4,
 "nbformat_minor": 2
}
