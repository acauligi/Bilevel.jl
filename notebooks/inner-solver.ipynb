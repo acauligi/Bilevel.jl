{
 "cells": [
  {
   "cell_type": "code",
   "execution_count": 1,
   "metadata": {
    "collapsed": true
   },
   "outputs": [],
   "source": [
    "using Revise\n",
    "\n",
    "using RigidBodyDynamics\n",
    "using RigidBodyDynamics: Bounds\n",
    "\n",
    "using Plots\n",
    "using BilevelTrajOpt"
   ]
  },
  {
   "cell_type": "code",
   "execution_count": 2,
   "metadata": {
    "collapsed": true
   },
   "outputs": [],
   "source": [
    "urdf = joinpath(\"..\", \"urdf\", \"ball.urdf\")\n",
    "mechanism = parse_urdf(Float64, urdf)\n",
    "body = findbody(mechanism, \"ball\")\n",
    "basejoint = joint_to_parent(body, mechanism)\n",
    "floatingjoint = Joint(basejoint.name, frame_before(basejoint), frame_after(basejoint), QuaternionFloating{Float64}())\n",
    "replace_joint!(mechanism, basejoint, floatingjoint)\n",
    "position_bounds(floatingjoint) .= Bounds(-100, 100)\n",
    "velocity_bounds(floatingjoint) .= Bounds(-100, 100)\n",
    "μ = 0.5\n",
    "motion_type = :xyz\n",
    "point = Point3D(default_frame(findbody(mechanism, \"floor\")), [0.,0.,0.])\n",
    "normal = FreeVector3D(default_frame(findbody(mechanism, \"floor\")), [0.,0.,1.])\n",
    "hs = HalfSpace(point, normal)\n",
    "floor = Obstacle(hs, μ, motion_type)\n",
    "obstacles = [floor]\n",
    "env = parse_contacts(mechanism, urdf, obstacles)\n",
    "x0 = MechanismState(mechanism)\n",
    "Δt = 0.005\n",
    "sim_data = get_sim_data(x0,env,Δt,true);"
   ]
  },
  {
   "cell_type": "code",
   "execution_count": 41,
   "metadata": {
    "collapsed": false
   },
   "outputs": [
    {
     "name": "stdout",
     "output_type": "stream",
     "text": [
      "elapsed time: 0.107861896 seconds\n",
      "elapsed time: 0.02501572 seconds\n",
      "elapsed time: 0.021753322 seconds\n",
      "elapsed time: "
     ]
    },
    {
     "name": "stderr",
     "output_type": "stream",
     "text": [
      "WARNING: Method definition solve_implicit_contact_τ(Any, Any, Any, Any, Any, Any, Any, Any, Any, Any) in module BilevelTrajOpt at /Users/blandry/.julia/v0.6/BilevelTrajOpt/src/contact.jl:141 overwritten at /Users/blandry/.julia/v0.6/BilevelTrajOpt/src/contact.jl:141.\n",
      "WARNING: Method definition #solve_implicit_contact_τ(Array{Any, 1}, typeof(BilevelTrajOpt.solve_implicit_contact_τ), Any, Any, Any, Any, Any, Any, Any, Any, Any, Any) in module BilevelTrajOpt overwritten.\n"
     ]
    },
    {
     "name": "stdout",
     "output_type": "stream",
     "text": [
      "0.022307834 seconds\n",
      "elapsed time: 0.033329561 seconds\n",
      "elapsed time: 0.021151022 seconds\n",
      "elapsed time: 0.021128369 seconds\n",
      "elapsed time: 0.01971584 seconds\n",
      "elapsed time: 0.023040776 seconds\n",
      "elapsed time: 0.024520701 seconds\n",
      "elapsed time: 0.023501186 seconds\n",
      "elapsed time: 0.020516245 seconds\n",
      "elapsed time: 0.025433699 seconds\n",
      "elapsed time: 0.023808751 seconds\n",
      "elapsed time: 0.023342625 seconds\n",
      "elapsed time: 0.034493784 seconds\n",
      "elapsed time: 0.021402504 seconds\n",
      "Solve_Succeeded\n",
      "Solve_Succeeded"
     ]
    },
    {
     "data": {
      "text/plain": [
       "\"IP\""
      ]
     },
     "metadata": {},
     "output_type": "display_data"
    },
    {
     "data": {
      "text/plain": [
       "6-element Array{Float64,1}:\n",
       " 0.0     \n",
       " 0.0     \n",
       " 0.500003\n",
       " 0.0     \n",
       " 0.475475\n",
       " 1.00001 "
      ]
     },
     "metadata": {},
     "output_type": "display_data"
    },
    {
     "data": {
      "text/plain": [
       "\"Aug Lag\""
      ]
     },
     "metadata": {},
     "output_type": "display_data"
    },
    {
     "data": {
      "text/plain": [
       "6-element Array{Float64,1}:\n",
       " 1.08301e-8\n",
       " 0.137487  \n",
       " 0.362376  \n",
       " 0.137487  \n",
       " 0.00693156\n",
       " 0.999971  "
      ]
     },
     "metadata": {},
     "output_type": "display_data"
    },
    {
     "data": {
      "text/plain": [
       "\"torques\""
      ]
     },
     "metadata": {},
     "output_type": "display_data"
    },
    {
     "data": {
      "text/plain": [
       "6-element Array{Float64,1}:\n",
       "  0.0        \n",
       "  0.0        \n",
       "  0.0        \n",
       "  4.90503    \n",
       " -6.00693e-16\n",
       " -9.81006    "
      ]
     },
     "metadata": {},
     "output_type": "display_data"
    },
    {
     "data": {
      "text/plain": [
       "6-element Array{Float64,1}:\n",
       "  0.0        \n",
       "  0.0        \n",
       "  0.0        \n",
       "  3.55491    \n",
       " -5.44564e-16\n",
       " -9.80972    "
      ]
     },
     "metadata": {},
     "output_type": "display_data"
    },
    {
     "name": "stdout",
     "output_type": "stream",
     "text": [
      "\n"
     ]
    }
   ],
   "source": [
    "q0 = [1., 0., 0., 0., 0., 0., 0.]\n",
    "v0 = [0., 0., 0., 0.5, 0., 0.]\n",
    "\n",
    "u0 = zeros(sim_data.num_v)\n",
    "set_configuration!(x0, q0)\n",
    "set_velocity!(x0, v0)\n",
    "setdirty!(x0)\n",
    "ctrl! = (u,t,x) -> u[:] = 0.\n",
    "traj = BilevelTrajOpt.simulate(x0,env,sim_data.Δt,1,ctrl!,implicit_contact=false)\n",
    "qnext = traj[1:sim_data.num_q,2]\n",
    "vnext = traj[sim_data.num_q+1:sim_data.num_q+sim_data.num_v,2]\n",
    "x_sol_exp = traj[sim_data.num_q+sim_data.num_v+2:end,2]\n",
    "\n",
    "# qnext = q0\n",
    "# vnext = v0\n",
    "\n",
    "τ_ip, x_sol_ip, λ_ip, μ_ip, fx_ip = solve_implicit_contact_τ(sim_data,q0,v0,u0,qnext,vnext,ip_method=true);\n",
    "\n",
    "τ_auglag, x_sol_auglag, λ_auglag, μ_auglag, fx_auglag = solve_implicit_contact_τ(sim_data,q0,v0,u0,qnext,vnext,ip_method=false);\n",
    "\n",
    "# display(\"Explicit\")\n",
    "# display(x_sol_exp)\n",
    "display(\"IP\")\n",
    "display(x_sol_ip)\n",
    "display(\"Aug Lag\")\n",
    "display(x_sol_auglag)\n",
    "\n",
    "display(\"torques\")\n",
    "display(τ_ip)\n",
    "display(τ_auglag)"
   ]
  },
  {
   "cell_type": "code",
   "execution_count": 43,
   "metadata": {
    "collapsed": false
   },
   "outputs": [
    {
     "data": {
      "text/plain": [
       "6×13 Array{Float64,2}:\n",
       " 0.0  -1.41698e-18   1.19869e-7   3.95908e-12  …    6.03409e-12   2.4437e-6 \n",
       " 0.0  -6.34783e-6    0.137864    -0.500001         10.1937        2.81067   \n",
       " 0.0   2.56816e-12   0.112132     1.64156e-6       -1.22324e-6    2.28617   \n",
       " 0.0   6.34783e-6    0.137864     0.499999        -10.1937        2.81067   \n",
       " 0.0   3.70199e-12  -7.81412e-8   1.35824e-5        9.12105e-6   -4.34685e-6\n",
       " 0.0  -2.00124e-12   1.0          3.65392e-6   …    3.19408e-6   20.3874    "
      ]
     },
     "metadata": {},
     "output_type": "display_data"
    },
    {
     "data": {
      "text/plain": [
       "6×13 Array{Float64,2}:\n",
       " 0.0  -111.922      -75.2201     234.579      …  -295.379      -47.4133   \n",
       " 0.0     2.87385e5   -1.73755e5    1.85326e6        2.87715e5    3.16456e5\n",
       " 0.0     1.06236e8    7.05815e7   -2.20477e8        2.80897e8    4.398e7  \n",
       " 0.0     2.87385e5   -1.73755e5    1.85326e6        2.87695e5    3.16456e5\n",
       " 0.0    -1.69347e5    1.51338e6   -6.78617e6       -2.01147e6   -4.88994e5\n",
       " 0.0     5.8256e6    -1.89592e6    6.60826e6  …     4.66386e6    1.95325e6"
      ]
     },
     "metadata": {},
     "output_type": "display_data"
    },
    {
     "name": "stderr",
     "output_type": "stream",
     "text": [
      "WARNING: Method definition solve_implicit_contact_τ(Any, Any, Any, Any, Any, Any, Any, Any, Any, Any) in module BilevelTrajOpt at /Users/blandry/.julia/v0.6/BilevelTrajOpt/src/contact.jl:141 overwritten at /Users/blandry/.julia/v0.6/BilevelTrajOpt/src/contact.jl:141.\n",
      "WARNING: Method definition #solve_implicit_contact_τ(Array{Any, 1}, typeof(BilevelTrajOpt.solve_implicit_contact_τ), Any, Any, Any, Any, Any, Any, Any, Any, Any, Any) in module BilevelTrajOpt overwritten.\n"
     ]
    }
   ],
   "source": [
    "τ_auglag, x_sol_auglag, λ_auglag, μ_auglag, fx_auglag = solve_implicit_contact_τ(sim_data,q0,v0,u0,qnext,vnext,ip_method=false);\n",
    "\n",
    "# autodiff \n",
    "J_auto = ForwardDiff.jacobian(qv -> solve_implicit_contact_τ(sim_data,q0,v0,u0,qv[1:sim_data.num_q],qv[sim_data.num_q+1:sim_data.num_q+sim_data.num_v],ip_method=false)[2], vcat(qnext,vnext))\n",
    "\n",
    "# numerical\n",
    "ϵ = 1e-12\n",
    "J_num = zeros(size(J_auto))\n",
    "qv = vcat(qnext,vnext)\n",
    "for i = 1:length(qv)\n",
    "    δ = zeros(length(qv))\n",
    "    δ[i] = ϵ\n",
    "    J_num[:,i] = (solve_implicit_contact_τ(sim_data,q0,v0,u0,(qv+δ)[1:sim_data.num_q],(qv+δ)[sim_data.num_q+1:sim_data.num_q+sim_data.num_v],ip_method=false)[2] - x_sol_auglag)/ϵ\n",
    "#     J_num[:,i] = solve_implicit_contact_τ(sim_data,q0,v0,u0,(qv+δ)[1:sim_data.num_q],(qv+δ)[sim_data.num_q+1:sim_data.num_q+sim_data.num_v],ip_method=false)[2]\n",
    "end\n",
    "\n",
    "display(J_auto)\n",
    "display(J_num)"
   ]
  },
  {
   "cell_type": "code",
   "execution_count": 23,
   "metadata": {
    "collapsed": false
   },
   "outputs": [
    {
     "data": {
      "text/plain": [
       "6-element Array{Float64,1}:\n",
       " 0.0\n",
       " 0.0\n",
       " 0.0\n",
       " 0.0\n",
       " 0.0\n",
       " 0.0"
      ]
     },
     "execution_count": 23,
     "metadata": {},
     "output_type": "execute_result"
    }
   ],
   "source": [
    " (J_num[:,1] - x_sol_auglag)/ϵ"
   ]
  },
  {
   "cell_type": "code",
   "execution_count": 35,
   "metadata": {
    "collapsed": false
   },
   "outputs": [
    {
     "data": {
      "text/plain": [
       "0.00011239110444094536"
      ]
     },
     "execution_count": 35,
     "metadata": {},
     "output_type": "execute_result"
    }
   ],
   "source": [
    "maximum(abs.(J_auto-J_num))"
   ]
  },
  {
   "cell_type": "code",
   "execution_count": 12,
   "metadata": {
    "collapsed": false
   },
   "outputs": [
    {
     "data": {
      "text/plain": [
       "6×13 Array{Float64,2}:\n",
       " 0.0  1.17929e8    5.54961e7    5.90191e7    0.0  …  4.85598e7   0.115786   \n",
       " 0.0  1.17929e8    5.54961e7    5.90191e7    0.0     4.85598e7   0.115791   \n",
       " 0.0  1.17929e8    5.54961e7    5.90191e7    0.0     4.85598e7   0.115786   \n",
       " 0.0  1.17929e8    5.54961e7    5.90191e7    0.0     4.85598e7   0.115777   \n",
       " 0.0  5.52014e-42  4.60942e-39  9.22638e-47  0.0     2.60672e-6  1.73472e-6 \n",
       " 0.0  9.16002e-25  8.60679e-24  5.07938e-39  0.0  …  4.19766e-5  0.000109654"
      ]
     },
     "execution_count": 12,
     "metadata": {},
     "output_type": "execute_result"
    }
   ],
   "source": [
    "abs.(J_auto-J_num)"
   ]
  },
  {
   "cell_type": "code",
   "execution_count": 27,
   "metadata": {
    "collapsed": false
   },
   "outputs": [
    {
     "name": "stderr",
     "output_type": "stream",
     "text": [
      "WARNING: Method definition solve_implicit_contact_τ(Any, Any, Any, Any, Any, Any, Any, Any, Any, Any) in module BilevelTrajOpt at /Users/blandry/.julia/v0.6/BilevelTrajOpt/src/contact.jl:141 overwritten at /Users/blandry/.julia/v0.6/BilevelTrajOpt/src/contact.jl:141.\n",
      "WARNING: Method definition #solve_implicit_contact_τ(Array{Any, 1}, typeof(BilevelTrajOpt.solve_implicit_contact_τ), Any, Any, Any, Any, Any, Any, Any, Any, Any, Any) in module BilevelTrajOpt overwritten.\n"
     ]
    },
    {
     "data": {
      "text/plain": [
       "6×13 Array{Float64,2}:\n",
       " 0.0  -5.53932e7   2.60583e7   1.46989e7  0.0  0.0  …   1.35127e7     2.76304\n",
       " 0.0   5.54017e7  -2.60562e7  -1.46982e7  0.0  0.0     -1.35121e7     1.19871\n",
       " 0.0  -5.53932e7   2.60583e7   1.46989e7  0.0  0.0      1.35127e7     2.76307\n",
       " 0.0   5.54017e7  -2.60562e7  -1.46982e7  0.0  0.0     -1.35121e7     1.19871\n",
       " 0.0   0.0         0.0         0.0        0.0  0.0      0.0           0.0    \n",
       " 0.0   0.0         0.0         0.0        0.0  0.0  …  -0.000444089  20.3861 "
      ]
     },
     "execution_count": 27,
     "metadata": {},
     "output_type": "execute_result"
    }
   ],
   "source": [
    "J_num"
   ]
  },
  {
   "cell_type": "code",
   "execution_count": 28,
   "metadata": {
    "collapsed": false
   },
   "outputs": [
    {
     "data": {
      "text/plain": [
       "6×13 Array{Float64,2}:\n",
       " 0.0  -3.30962e-15  -5.87669e-15   3.27191e-6   …   2.34824e-5   1.98036    \n",
       " 0.0   3.3259e-15    5.91148e-15  -3.27238e-6       7.92411      1.98142    \n",
       " 0.0  -3.30962e-15  -5.94641e-15   3.27191e-6       2.34824e-5   1.98036    \n",
       " 0.0   3.29125e-15   5.91148e-15  -3.27238e-6      -7.92412      1.98142    \n",
       " 0.0  -8.98363e-32  -1.21529e-31  -1.78426e-38      2.28571e-6   3.38714e-21\n",
       " 0.0  -7.82746e-18  -4.70622e-18  -5.10436e-32  …   8.23815e-5  20.3864     "
      ]
     },
     "execution_count": 28,
     "metadata": {},
     "output_type": "execute_result"
    }
   ],
   "source": [
    "J_auto"
   ]
  }
 ],
 "metadata": {
  "kernelspec": {
   "display_name": "Julia 0.6.4",
   "language": "julia",
   "name": "julia-0.6"
  },
  "language_info": {
   "file_extension": ".jl",
   "mimetype": "application/julia",
   "name": "julia",
   "version": "0.6.4"
  }
 },
 "nbformat": 4,
 "nbformat_minor": 2
}
