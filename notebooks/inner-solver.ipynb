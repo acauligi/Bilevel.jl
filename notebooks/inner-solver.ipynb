{
 "cells": [
  {
   "cell_type": "code",
   "execution_count": 2,
   "metadata": {},
   "outputs": [],
   "source": [
    "using Revise\n",
    "\n",
    "using RigidBodyDynamics\n",
    "using RigidBodyDynamics: Bounds\n",
    "\n",
    "using Plots\n",
    "using BilevelTrajOpt"
   ]
  },
  {
   "cell_type": "code",
   "execution_count": 3,
   "metadata": {},
   "outputs": [],
   "source": [
    "urdf = joinpath(\"..\", \"urdf\", \"ball.urdf\")\n",
    "mechanism = parse_urdf(Float64, urdf)\n",
    "body = findbody(mechanism, \"ball\")\n",
    "basejoint = joint_to_parent(body, mechanism)\n",
    "floatingjoint = Joint(basejoint.name, frame_before(basejoint), frame_after(basejoint), QuaternionFloating{Float64}())\n",
    "replace_joint!(mechanism, basejoint, floatingjoint)\n",
    "position_bounds(floatingjoint) .= Bounds(-100, 100)\n",
    "velocity_bounds(floatingjoint) .= Bounds(-100, 100)\n",
    "μ = 0.5\n",
    "motion_type = :xyz\n",
    "point = Point3D(default_frame(findbody(mechanism, \"floor\")), [0.,0.,0.])\n",
    "normal = FreeVector3D(default_frame(findbody(mechanism, \"floor\")), [0.,0.,1.])\n",
    "hs = HalfSpace(point, normal)\n",
    "floor = Obstacle(hs, μ, motion_type)\n",
    "obstacles = [floor]\n",
    "env = parse_contacts(mechanism, urdf, obstacles)\n",
    "x0 = MechanismState(mechanism)\n",
    "Δt = 0.005\n",
    "sim_data = get_sim_data(x0,env,Δt,true);"
   ]
  },
  {
   "cell_type": "code",
   "execution_count": 34,
   "metadata": {},
   "outputs": [
    {
     "name": "stdout",
     "output_type": "stream",
     "text": [
      "elapsed time: 0.004895411 seconds\n",
      "elapsed time: 0.004723595 seconds\n",
      "elapsed time: 0.004916079 seconds\n",
      "elapsed time: 0.004799368 seconds\n",
      "elapsed time: 0.004902464 seconds\n",
      "elapsed time: 0.004783138 seconds\n",
      "elapsed time: 0.004955154 seconds\n",
      "elapsed time: 0.004799098 seconds\n",
      "elapsed time: 0.004894248 seconds\n",
      "elapsed time: 0.004831199 seconds\n",
      "elapsed time: 0.004802805 seconds\n",
      "elapsed time: 0.005190149 seconds\n",
      "elapsed time: 0.004700602 seconds\n",
      "elapsed time: "
     ]
    },
    {
     "name": "stderr",
     "output_type": "stream",
     "text": [
      "WARNING: Method definition auglag_solve(Any, Any, Any, Any, Any, Any, Any, Any) in module BilevelTrajOpt at /home/blandry/.julia/v0.6/BilevelTrajOpt/src/auglag.jl:18 overwritten at /home/blandry/.julia/v0.6/BilevelTrajOpt/src/auglag.jl:18.\n"
     ]
    },
    {
     "name": "stdout",
     "output_type": "stream",
     "text": [
      "0.042758683 seconds\n",
      "elapsed time: 0.005076744 seconds\n",
      "elapsed time: 0.004817373 seconds\n",
      "elapsed time: 0.006095974 seconds\n",
      "Solve_Succeeded\n"
     ]
    },
    {
     "data": {
      "text/plain": [
       "\"IP\""
      ]
     },
     "metadata": {},
     "output_type": "display_data"
    },
    {
     "data": {
      "text/plain": [
       "6-element Array{Float64,1}:\n",
       " 0.0       \n",
       " 5.41078e-8\n",
       " 0.500003  \n",
       " 5.41078e-8\n",
       " 0.483278  \n",
       " 1.00001   "
      ]
     },
     "metadata": {},
     "output_type": "display_data"
    },
    {
     "data": {
      "text/plain": [
       "\"Aug Lag\""
      ]
     },
     "metadata": {},
     "output_type": "display_data"
    },
    {
     "data": {
      "text/plain": [
       "6-element Array{Float64,1}:\n",
       " 0.104737\n",
       " 0.11044 \n",
       " 0.116087\n",
       " 0.13106 \n",
       " 0.0     \n",
       " 0.508543"
      ]
     },
     "metadata": {},
     "output_type": "display_data"
    },
    {
     "data": {
      "text/plain": [
       "\"torques\""
      ]
     },
     "metadata": {},
     "output_type": "display_data"
    },
    {
     "data": {
      "text/plain": [
       "6-element Array{Float64,1}:\n",
       "  0.0        \n",
       "  0.0        \n",
       "  0.0        \n",
       "  4.90503    \n",
       " -6.00693e-16\n",
       " -9.81006    "
      ]
     },
     "metadata": {},
     "output_type": "display_data"
    },
    {
     "data": {
      "text/plain": [
       "6-element Array{Float64,1}:\n",
       "  0.0     \n",
       "  0.0     \n",
       "  0.0     \n",
       "  0.111346\n",
       "  0.202278\n",
       " -4.9888  "
      ]
     },
     "metadata": {},
     "output_type": "display_data"
    },
    {
     "name": "stdout",
     "output_type": "stream",
     "text": [
      "Solve_Succeeded\n"
     ]
    }
   ],
   "source": [
    "q0 = [1., 0., 0., 0., 0., 0., 0.]\n",
    "v0 = [0., 0., 0., 0.5, 0., 0.]\n",
    "\n",
    "u0 = zeros(sim_data.num_v)\n",
    "set_configuration!(x0, q0)\n",
    "set_velocity!(x0, v0)\n",
    "setdirty!(x0)\n",
    "ctrl! = (u,t,x) -> u[:] = 0.\n",
    "traj = BilevelTrajOpt.simulate(x0,env,sim_data.Δt,1,ctrl!,implicit_contact=false)\n",
    "qnext = traj[1:sim_data.num_q,2]\n",
    "vnext = traj[sim_data.num_q+1:sim_data.num_q+sim_data.num_v,2]\n",
    "x_sol_exp = traj[sim_data.num_q+sim_data.num_v+2:end,2]\n",
    "\n",
    "# qnext = q0\n",
    "# vnext = v0\n",
    "\n",
    "τ_ip, x_sol_ip, λ_ip, μ_ip, fx_ip = solve_implicit_contact_τ(sim_data,q0,v0,u0,qnext,vnext,ip_method=true);\n",
    "\n",
    "τ_auglag, x_sol_auglag, λ_auglag, μ_auglag, fx_auglag = solve_implicit_contact_τ(sim_data,q0,v0,u0,qnext,vnext,ip_method=false);\n",
    "\n",
    "# display(\"Explicit\")\n",
    "# display(x_sol_exp)\n",
    "display(\"IP\")\n",
    "display(x_sol_ip)\n",
    "display(\"Aug Lag\")\n",
    "display(x_sol_auglag)\n",
    "\n",
    "display(\"torques\")\n",
    "display(τ_ip)\n",
    "display(τ_auglag)"
   ]
  },
  {
   "cell_type": "code",
   "execution_count": 31,
   "metadata": {},
   "outputs": [
    {
     "name": "stdout",
     "output_type": "stream",
     "text": [
      "Solve_Succeeded\n",
      "Solve_Succeeded\n",
      "Solve_Succeeded\n",
      "Solve_Succeeded\n",
      "Solve_Succeeded\n",
      "Solve_Succeeded\n",
      "Solve_Succeeded\n",
      "Solve_Succeeded\n",
      "Solve_Succeeded\n",
      "Solve_Succeeded\n",
      "Solve_Succeeded\n",
      "Solve_Succeeded\n"
     ]
    },
    {
     "data": {
      "text/plain": [
       "6×13 Array{Float64,2}:\n",
       " 0.0   3.92198e-12   0.0523031   -2.94345e-6  …   1.31078e-6   1.06628   \n",
       " 0.0  -4.5477e-6     0.0734589   -0.262876        5.35923      1.49763   \n",
       " 0.0   4.15333e-12   0.0659371   -3.07586e-6      1.61538e-6   1.34438   \n",
       " 0.0   4.54771e-6    0.0734589    0.262865       -5.35922      1.49763   \n",
       " 0.0  -6.00741e-12  -1.51201e-7   4.78868e-6     -2.01635e-6   3.52857e-6\n",
       " 0.0   5.15305e-13   0.731066    -1.99696e-6  …   1.20405e-6  14.9044    "
      ]
     },
     "metadata": {},
     "output_type": "display_data"
    },
    {
     "data": {
      "text/plain": [
       "6×13 Array{Float64,2}:\n",
       " 0.0   3.78944e7      2.80567e7  …  -4.43347e5   4.37528e7   8.26287e7\n",
       " 0.0  -1.30823e7      2.40254e6     -3.19569e6   2.76064e6  -2.79234e6\n",
       " 0.0  -1.12841e8     -7.51169e7      8.84663e6  -1.13342e8  -1.67894e8\n",
       " 0.0   1.93767e7      4.45482e6      4.53956e6   1.13747e7   3.27449e7\n",
       " 0.0   1.08453e7      4.729e6       -1.60158e6   7.87118e6   1.43117e6\n",
       " 0.0  -1.03366e7  96937.7        …   5.04222e6  -7.04132e6  -4.50398e6"
      ]
     },
     "metadata": {},
     "output_type": "display_data"
    },
    {
     "data": {
      "text/plain": [
       "6×13 Array{Float64,2}:\n",
       " 0.0    0.0          -3.08149e-33  …     0.0            0.0        \n",
       " 0.0    0.0           0.0                0.0            0.0        \n",
       " 0.0    0.0           0.0                0.0            0.0        \n",
       " 0.0    2.26955e-12  25.9001             2.98818e-6     2.72816    \n",
       " 0.0  -25.7662       -1.36141e-16     -105.148         -4.35652e-15\n",
       " 0.0   -5.04426e-12  -1.90877      …    -1.18117e-5  -146.212      "
      ]
     },
     "metadata": {},
     "output_type": "display_data"
    },
    {
     "data": {
      "text/plain": [
       "6×13 Array{Float64,2}:\n",
       " 0.0   0.0         0.0        …   0.0         0.0         0.0      \n",
       " 0.0   0.0         0.0            0.0         0.0         0.0      \n",
       " 0.0   0.0         0.0            0.0         0.0         0.0      \n",
       " 0.0  -1.47872e9  -1.01213e9      9.11347e7  -1.5411e9   -2.45762e9\n",
       " 0.0   3.18423e8   2.01328e7      7.58828e7   8.45038e7   3.4862e8 \n",
       " 0.0   1.01402e8  -9.50953e5  …  -4.94642e7   6.90754e7   4.4184e7 "
      ]
     },
     "metadata": {},
     "output_type": "display_data"
    },
    {
     "data": {
      "text/plain": [
       "6×13 Array{Float64,2}:\n",
       " 0.0         0.0         0.0         …  0.0         0.0         0.0       \n",
       " 0.0         0.0         0.0            0.0         0.0         0.0       \n",
       " 0.0         0.0         0.0            0.0         0.0         0.0       \n",
       " 2.27273e12  2.27273e12  2.27273e12     2.27273e12  2.27273e12  2.27273e12\n",
       " 2.09097e8   2.09097e8   2.09097e8      2.09097e8   2.09096e8   2.09097e8 \n",
       " 3.07309e12  3.07309e12  3.07309e12  …  3.07309e12  3.07309e12  3.07309e12"
      ]
     },
     "metadata": {},
     "output_type": "display_data"
    },
    {
     "name": "stdout",
     "output_type": "stream",
     "text": [
      "Solve_Succeeded\n"
     ]
    }
   ],
   "source": [
    "τ_auglag, x_sol_auglag, λ_auglag, μ_auglag, fx_auglag = solve_implicit_contact_τ(sim_data,q0,v0,u0,qnext,vnext,ip_method=false);\n",
    "\n",
    "# autodiff \n",
    "J_auto = ForwardDiff.jacobian(qv -> solve_implicit_contact_τ(sim_data,q0,v0,u0,qv[1:sim_data.num_q],qv[sim_data.num_q+1:sim_data.num_q+sim_data.num_v],ip_method=false)[2], vcat(qnext,vnext))\n",
    "Jt_auto = ForwardDiff.jacobian(qv -> solve_implicit_contact_τ(sim_data,q0,v0,u0,qv[1:sim_data.num_q],qv[sim_data.num_q+1:sim_data.num_q+sim_data.num_v],ip_method=false)[1], vcat(qnext,vnext))\n",
    "\n",
    "# numerical\n",
    "ϵ = 1e-12\n",
    "J_num = zeros(size(J_auto))\n",
    "Jt_num = zeros(size(J_auto))\n",
    "Jt_num_ip = zeros(size(J_auto))\n",
    "qv = vcat(qnext,vnext)\n",
    "for i = 1:length(qv)\n",
    "    δ = zeros(length(qv))\n",
    "    δ[i] = ϵ\n",
    "    τ, x, λ, μ, fx = solve_implicit_contact_τ(sim_data,q0,v0,u0,(qv+δ)[1:sim_data.num_q],(qv+δ)[sim_data.num_q+1:sim_data.num_q+sim_data.num_v],ip_method=false)\n",
    "    J_num[:,i] = (x - x_sol_auglag)/ϵ\n",
    "    Jt_num[:,i] = (τ - τ_auglag)/ϵ\n",
    "    τ, x, λ, μ, fx = solve_implicit_contact_τ(sim_data,q0,v0,u0,(qv+δ)[1:sim_data.num_q],(qv+δ)[sim_data.num_q+1:sim_data.num_q+sim_data.num_v],ip_method=true)\n",
    "    Jt_num_ip[:,i] = (τ - τ_auglag)/ϵ\n",
    "end\n",
    "\n",
    "display(J_auto)\n",
    "display(J_num)\n",
    "\n",
    "display(Jt_auto)\n",
    "display(Jt_num)\n",
    "display(Jt_num_ip)"
   ]
  },
  {
   "cell_type": "code",
   "execution_count": 33,
   "metadata": {},
   "outputs": [
    {
     "data": {
      "text/plain": [
       "6×3 Array{Float64,2}:\n",
       "    0.0            0.0            0.0        \n",
       "    0.0            0.0            0.0        \n",
       "    0.0            0.0            0.0        \n",
       " -109.081          2.98818e-6     2.72816    \n",
       "    0.0         -105.148         -4.35652e-15\n",
       "   -0.00013461    -1.18117e-5  -146.212      "
      ]
     },
     "metadata": {},
     "output_type": "display_data"
    },
    {
     "data": {
      "text/plain": [
       "6×3 Array{Float64,2}:\n",
       "  0.0         0.0         0.0      \n",
       "  0.0         0.0         0.0      \n",
       "  0.0         0.0         0.0      \n",
       "  9.11347e7  -1.5411e9   -2.45762e9\n",
       "  7.58828e7   8.45038e7   3.4862e8 \n",
       " -4.94642e7   6.90754e7   4.4184e7 "
      ]
     },
     "metadata": {},
     "output_type": "display_data"
    },
    {
     "data": {
      "text/plain": [
       "6×3 Array{Float64,2}:\n",
       " 0.0         0.0         0.0       \n",
       " 0.0         0.0         0.0       \n",
       " 0.0         0.0         0.0       \n",
       " 2.27273e12  2.27273e12  2.27273e12\n",
       " 2.09097e8   2.09096e8   2.09097e8 \n",
       " 3.07309e12  3.07309e12  3.07309e12"
      ]
     },
     "metadata": {},
     "output_type": "display_data"
    }
   ],
   "source": [
    "display(Jt_auto[:,11:13])\n",
    "display(Jt_num[:,11:13])\n",
    "display(Jt_num_ip[:,11:13])"
   ]
  },
  {
   "cell_type": "code",
   "execution_count": 23,
   "metadata": {},
   "outputs": [
    {
     "data": {
      "text/plain": [
       "6-element Array{Float64,1}:\n",
       " 0.0\n",
       " 0.0\n",
       " 0.0\n",
       " 0.0\n",
       " 0.0\n",
       " 0.0"
      ]
     },
     "execution_count": 23,
     "metadata": {},
     "output_type": "execute_result"
    }
   ],
   "source": [
    " (J_num[:,1] - x_sol_auglag)/ϵ"
   ]
  },
  {
   "cell_type": "code",
   "execution_count": 35,
   "metadata": {},
   "outputs": [
    {
     "data": {
      "text/plain": [
       "0.00011239110444094536"
      ]
     },
     "execution_count": 35,
     "metadata": {},
     "output_type": "execute_result"
    }
   ],
   "source": [
    "maximum(abs.(J_auto-J_num))"
   ]
  },
  {
   "cell_type": "code",
   "execution_count": 12,
   "metadata": {},
   "outputs": [
    {
     "data": {
      "text/plain": [
       "6×13 Array{Float64,2}:\n",
       " 0.0  1.17929e8    5.54961e7    5.90191e7    0.0  …  4.85598e7   0.115786   \n",
       " 0.0  1.17929e8    5.54961e7    5.90191e7    0.0     4.85598e7   0.115791   \n",
       " 0.0  1.17929e8    5.54961e7    5.90191e7    0.0     4.85598e7   0.115786   \n",
       " 0.0  1.17929e8    5.54961e7    5.90191e7    0.0     4.85598e7   0.115777   \n",
       " 0.0  5.52014e-42  4.60942e-39  9.22638e-47  0.0     2.60672e-6  1.73472e-6 \n",
       " 0.0  9.16002e-25  8.60679e-24  5.07938e-39  0.0  …  4.19766e-5  0.000109654"
      ]
     },
     "execution_count": 12,
     "metadata": {},
     "output_type": "execute_result"
    }
   ],
   "source": [
    "abs.(J_auto-J_num)"
   ]
  },
  {
   "cell_type": "code",
   "execution_count": 27,
   "metadata": {},
   "outputs": [
    {
     "name": "stderr",
     "output_type": "stream",
     "text": [
      "WARNING: Method definition solve_implicit_contact_τ(Any, Any, Any, Any, Any, Any, Any, Any, Any, Any) in module BilevelTrajOpt at /Users/blandry/.julia/v0.6/BilevelTrajOpt/src/contact.jl:141 overwritten at /Users/blandry/.julia/v0.6/BilevelTrajOpt/src/contact.jl:141.\n",
      "WARNING: Method definition #solve_implicit_contact_τ(Array{Any, 1}, typeof(BilevelTrajOpt.solve_implicit_contact_τ), Any, Any, Any, Any, Any, Any, Any, Any, Any, Any) in module BilevelTrajOpt overwritten.\n"
     ]
    },
    {
     "data": {
      "text/plain": [
       "6×13 Array{Float64,2}:\n",
       " 0.0  -5.53932e7   2.60583e7   1.46989e7  0.0  0.0  …   1.35127e7     2.76304\n",
       " 0.0   5.54017e7  -2.60562e7  -1.46982e7  0.0  0.0     -1.35121e7     1.19871\n",
       " 0.0  -5.53932e7   2.60583e7   1.46989e7  0.0  0.0      1.35127e7     2.76307\n",
       " 0.0   5.54017e7  -2.60562e7  -1.46982e7  0.0  0.0     -1.35121e7     1.19871\n",
       " 0.0   0.0         0.0         0.0        0.0  0.0      0.0           0.0    \n",
       " 0.0   0.0         0.0         0.0        0.0  0.0  …  -0.000444089  20.3861 "
      ]
     },
     "execution_count": 27,
     "metadata": {},
     "output_type": "execute_result"
    }
   ],
   "source": [
    "J_num"
   ]
  },
  {
   "cell_type": "code",
   "execution_count": 28,
   "metadata": {},
   "outputs": [
    {
     "data": {
      "text/plain": [
       "6×13 Array{Float64,2}:\n",
       " 0.0  -3.30962e-15  -5.87669e-15   3.27191e-6   …   2.34824e-5   1.98036    \n",
       " 0.0   3.3259e-15    5.91148e-15  -3.27238e-6       7.92411      1.98142    \n",
       " 0.0  -3.30962e-15  -5.94641e-15   3.27191e-6       2.34824e-5   1.98036    \n",
       " 0.0   3.29125e-15   5.91148e-15  -3.27238e-6      -7.92412      1.98142    \n",
       " 0.0  -8.98363e-32  -1.21529e-31  -1.78426e-38      2.28571e-6   3.38714e-21\n",
       " 0.0  -7.82746e-18  -4.70622e-18  -5.10436e-32  …   8.23815e-5  20.3864     "
      ]
     },
     "execution_count": 28,
     "metadata": {},
     "output_type": "execute_result"
    }
   ],
   "source": [
    "J_auto"
   ]
  }
 ],
 "metadata": {
  "kernelspec": {
   "display_name": "Julia 0.6.4",
   "language": "julia",
   "name": "julia-0.6"
  },
  "language_info": {
   "file_extension": ".jl",
   "mimetype": "application/julia",
   "name": "julia",
   "version": "0.6.4"
  }
 },
 "nbformat": 4,
 "nbformat_minor": 2
}
