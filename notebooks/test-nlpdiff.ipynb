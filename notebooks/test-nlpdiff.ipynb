{
 "cells": [
  {
   "cell_type": "code",
   "execution_count": 1,
   "metadata": {
    "collapsed": false
   },
   "outputs": [],
   "source": [
    "using Revise\n",
    "using BilevelTrajOpt"
   ]
  },
  {
   "cell_type": "code",
   "execution_count": 6,
   "metadata": {
    "collapsed": false
   },
   "outputs": [
    {
     "data": {
      "text/plain": [
       "4×4 Array{Float64,2}:\n",
       " 0.408196  0.0       0.0       0.0     \n",
       " 0.0       0.315306  0.0       0.0     \n",
       " 0.0       0.0       0.480072  0.0     \n",
       " 0.0       0.0       0.0       0.648007"
      ]
     },
     "execution_count": 6,
     "metadata": {},
     "output_type": "execute_result"
    }
   ],
   "source": [
    "a = rand(4)\n",
    "A = diagm(a)"
   ]
  },
  {
   "cell_type": "code",
   "execution_count": 54,
   "metadata": {
    "collapsed": false,
    "scrolled": true
   },
   "outputs": [
    {
     "data": {
      "text/plain": [
       "4-element Array{Float64,1}:\n",
       "  0.0       \n",
       "  4.49428e5 \n",
       " -1.36469e5 \n",
       " -6.29287e20"
      ]
     },
     "metadata": {},
     "output_type": "display_data"
    },
    {
     "data": {
      "text/plain": [
       "4-element Array{Float64,1}:\n",
       "  6.0        \n",
       "  2.16408e-24\n",
       "  1.0        \n",
       " 17.0        "
      ]
     },
     "metadata": {},
     "output_type": "display_data"
    },
    {
     "name": "stdout",
     "output_type": "stream",
     "text": [
      "Solve_Succeeded\n"
     ]
    },
    {
     "name": "stderr",
     "output_type": "stream",
     "text": [
      "WARNING: Method definition auglag_solve(Any, Any, Any, Any, Any, Any) in module BilevelTrajOpt at /Users/blandry/.julia/v0.6/BilevelTrajOpt/src/auglag.jl:18 overwritten at /Users/blandry/.julia/v0.6/BilevelTrajOpt/src/auglag.jl:18.\n",
      "WARNING: Method definition #auglag_solve(Array{Any, 1}, typeof(BilevelTrajOpt.auglag_solve), Any, Any, Any, Any, Any, Any) in module BilevelTrajOpt overwritten.\n"
     ]
    }
   ],
   "source": [
    "# test the solution\n",
    "function f(x)\n",
    "#     return 0.\n",
    "#     return x[1] * x[4] * (x[1] + x[2] + x[3]) + x[3]\n",
    "#     return x'*A*x \n",
    "    return sum(x)\n",
    "end\n",
    "\n",
    "function h(x)\n",
    "#     return [40. - (x[1]^2 + x[2]^2 + x[3]^2 + x[4]^2)]\n",
    "#     return [x[1] + x[2] - 1., x[3] - 1., x[4]*x[1]]\n",
    "    return [6. - x[1],x[1]*x[2],x[1]*.5+x[3]-4.]\n",
    "end\n",
    "\n",
    "function g(x)\n",
    "#     return [25. - (x[1]*x[2]*x[3]*x[4])]\n",
    "#     return vcat([25. - (x[1]*x[2]*x[3]*x[4])], 1. - x, x - 5.)\n",
    "#     return vcat([1. - x[2]],-x)\n",
    "#     return vcat(-x[2:3],5.-x[4])    \n",
    "#     return [0.]\n",
    "#     return vcat([x[1] - .1], 5. - x[4])\n",
    "    return vcat(-x[2:3],5.-x[4],10.-x[4],17.-x[4],5-x[1]*x[4])\n",
    "end\n",
    "\n",
    "x0 = zeros(4)\n",
    "λ0 = zeros(length(h(x0)))\n",
    "μ0 = zeros(length(g(x0)))\n",
    "c0 = 1.\n",
    "\n",
    "# x0 = x_sol\n",
    "# λ0 = λ_sol\n",
    "# μ0 = μ_sol\n",
    "# c0 = c_sol\n",
    "\n",
    "x_sol, λ_sol, μ_sol, c_sol = auglag_solve(x0,λ0,μ0,f,h,g,c0=c0)\n",
    "\n",
    "num_h = length(λ0)\n",
    "num_g = length(μ0)\n",
    "x_sol_ip = ip_solve(x0,f,h,g,num_h,num_g)\n",
    "\n",
    "# x_sol_known = [1.000, 4.743, 3.821, 1.379]\n",
    "\n",
    "display(x_sol)\n",
    "display(x_sol_ip)\n",
    "# display(x_sol_known)"
   ]
  },
  {
   "cell_type": "code",
   "execution_count": 33,
   "metadata": {
    "collapsed": false
   },
   "outputs": [
    {
     "data": {
      "text/plain": [
       "5-element Array{Float64,1}:\n",
       " 0.557034\n",
       " 0.852525\n",
       " 0.997261\n",
       " 0.401335\n",
       " 0.217967"
      ]
     },
     "metadata": {},
     "output_type": "display_data"
    },
    {
     "data": {
      "text/plain": [
       "5.178071509876524e-9"
      ]
     },
     "execution_count": 33,
     "metadata": {},
     "output_type": "execute_result"
    }
   ],
   "source": [
    "z = rand(5)\n",
    "display(z)\n",
    "BilevelTrajOpt.softmaximum(z,k=100)"
   ]
  },
  {
   "cell_type": "code",
   "execution_count": null,
   "metadata": {
    "collapsed": false
   },
   "outputs": [],
   "source": [
    "x = x_sol\n",
    "display(f(x))\n",
    "display(h(x))\n",
    "display(g(x))\n",
    "\n",
    "x = x_sol_ip\n",
    "display(f(x))\n",
    "display(h(x))\n",
    "display(g(x))"
   ]
  },
  {
   "cell_type": "code",
   "execution_count": 9,
   "metadata": {
    "collapsed": false
   },
   "outputs": [
    {
     "data": {
      "text/plain": [
       "solve_prob (generic function with 1 method)"
      ]
     },
     "execution_count": 9,
     "metadata": {},
     "output_type": "execute_result"
    }
   ],
   "source": [
    "# test the gradient\n",
    "function solve_prob(z)\n",
    "    function f(x)\n",
    "        return x'*A*x + z[1]\n",
    "    end\n",
    "\n",
    "    function h(x)\n",
    "        return [x[1] + x[2] - 1., x[3] - z[2], x[4]*x[1]]\n",
    "    end\n",
    "\n",
    "    function g(x)\n",
    "        return vcat([x[1] - z[4]], z[3] - x[4])\n",
    "    end\n",
    "\n",
    "    x0 = zeros(4)\n",
    "    λ0 = zeros(length(h(x0)))\n",
    "    μ0 = zeros(length(g(x0)))\n",
    "\n",
    "#     x_sol_ip = ip_solve(x0,f,h,g,length(h(x0)),length(g(x0)))\n",
    "#     display(x_sol_ip)\n",
    "    \n",
    "    x_sol, λ_sol, μ_sol, c_sol = auglag_solve(x0,λ0,μ0,f,h,g)\n",
    "    display(x_sol)\n",
    "\n",
    "    x_sol\n",
    "end"
   ]
  },
  {
   "cell_type": "code",
   "execution_count": 12,
   "metadata": {
    "collapsed": false
   },
   "outputs": [
    {
     "name": "stderr",
     "output_type": "stream",
     "text": [
      "WARNING: Method definition auglag_solve(Any, Any, Any, Any, Any, Any) in module BilevelTrajOpt at /Users/blandry/.julia/v0.6/BilevelTrajOpt/src/auglag.jl:18 overwritten at /Users/blandry/.julia/v0.6/BilevelTrajOpt/src/auglag.jl:18.\n",
      "WARNING: Method definition #auglag_solve(Array{Any, 1}, typeof(BilevelTrajOpt.auglag_solve), Any, Any, Any, Any, Any, Any) in module BilevelTrajOpt overwritten.\n"
     ]
    },
    {
     "ename": "LoadError",
     "evalue": "\u001b[91mInterruptException:\u001b[39m",
     "output_type": "error",
     "traceback": [
      "\u001b[91mInterruptException:\u001b[39m",
      "",
      "Stacktrace:",
      " [1] \u001b[1m*\u001b[22m\u001b[22m at \u001b[1m./operators.jl:424\u001b[22m\u001b[22m [inlined]",
      " [2] \u001b[1mf\u001b[22m\u001b[22m at \u001b[1m./In[9]:4\u001b[22m\u001b[22m [inlined]",
      " [3] \u001b[1m(::BilevelTrajOpt.##84#89{#f#13{Array{Float64,1}},Int64})\u001b[22m\u001b[22m\u001b[1m(\u001b[22m\u001b[22m::Array{ForwardDiff.Dual{ForwardDiff.Tag{BilevelTrajOpt.##84#89{#f#13{Array{Float64,1}},Int64},Float64},ForwardDiff.Dual{ForwardDiff.Tag{BilevelTrajOpt.##84#89{#f#13{Array{Float64,1}},Int64},Float64},Float64,6},6},1}\u001b[1m)\u001b[22m\u001b[22m at \u001b[1m/Users/blandry/.julia/v0.6/BilevelTrajOpt/src/auglag.jl:35\u001b[22m\u001b[22m",
      " [4] \u001b[1mvector_mode_gradient\u001b[22m\u001b[22m at \u001b[1m/Users/blandry/.julia/v0.6/ForwardDiff/src/gradient.jl:96\u001b[22m\u001b[22m [inlined]",
      " [5] \u001b[1mgradient\u001b[22m\u001b[22m\u001b[1m(\u001b[22m\u001b[22m::Function, ::Array{ForwardDiff.Dual{ForwardDiff.Tag{BilevelTrajOpt.##84#89{#f#13{Array{Float64,1}},Int64},Float64},Float64,6},1}, ::ForwardDiff.GradientConfig{ForwardDiff.Tag{BilevelTrajOpt.##84#89{#f#13{Array{Float64,1}},Int64},Float64},ForwardDiff.Dual{ForwardDiff.Tag{BilevelTrajOpt.##84#89{#f#13{Array{Float64,1}},Int64},Float64},Float64,6},6,Array{ForwardDiff.Dual{ForwardDiff.Tag{BilevelTrajOpt.##84#89{#f#13{Array{Float64,1}},Int64},Float64},ForwardDiff.Dual{ForwardDiff.Tag{BilevelTrajOpt.##84#89{#f#13{Array{Float64,1}},Int64},Float64},Float64,6},6},1}}, ::Val{false}\u001b[1m)\u001b[22m\u001b[22m at \u001b[1m/Users/blandry/.julia/v0.6/ForwardDiff/src/gradient.jl:17\u001b[22m\u001b[22m",
      " [6] \u001b[1mvector_mode_jacobian\u001b[22m\u001b[22m\u001b[1m(\u001b[22m\u001b[22m::ForwardDiff.##71#72{BilevelTrajOpt.##84#89{#f#13{Array{Float64,1}},Int64},ForwardDiff.HessianConfig{ForwardDiff.Tag{BilevelTrajOpt.##84#89{#f#13{Array{Float64,1}},Int64},Float64},Float64,6,Array{ForwardDiff.Dual{ForwardDiff.Tag{BilevelTrajOpt.##84#89{#f#13{Array{Float64,1}},Int64},Float64},ForwardDiff.Dual{ForwardDiff.Tag{BilevelTrajOpt.##84#89{#f#13{Array{Float64,1}},Int64},Float64},Float64,6},6},1},Array{ForwardDiff.Dual{ForwardDiff.Tag{BilevelTrajOpt.##84#89{#f#13{Array{Float64,1}},Int64},Float64},Float64,6},1}}}, ::Array{Float64,1}, ::ForwardDiff.JacobianConfig{ForwardDiff.Tag{BilevelTrajOpt.##84#89{#f#13{Array{Float64,1}},Int64},Float64},Float64,6,Array{ForwardDiff.Dual{ForwardDiff.Tag{BilevelTrajOpt.##84#89{#f#13{Array{Float64,1}},Int64},Float64},Float64,6},1}}\u001b[1m)\u001b[22m\u001b[22m at \u001b[1m/Users/blandry/.julia/v0.6/ForwardDiff/src/jacobian.jl:139\u001b[22m\u001b[22m",
      " [7] \u001b[1mjacobian\u001b[22m\u001b[22m\u001b[1m(\u001b[22m\u001b[22m::Function, ::Array{Float64,1}, ::ForwardDiff.JacobianConfig{ForwardDiff.Tag{BilevelTrajOpt.##84#89{#f#13{Array{Float64,1}},Int64},Float64},Float64,6,Array{ForwardDiff.Dual{ForwardDiff.Tag{BilevelTrajOpt.##84#89{#f#13{Array{Float64,1}},Int64},Float64},Float64,6},1}}, ::Val{false}\u001b[1m)\u001b[22m\u001b[22m at \u001b[1m/Users/blandry/.julia/v0.6/ForwardDiff/src/jacobian.jl:17\u001b[22m\u001b[22m",
      " [8] \u001b[1mhessian\u001b[22m\u001b[22m\u001b[1m(\u001b[22m\u001b[22m::Function, ::Array{Float64,1}, ::ForwardDiff.HessianConfig{ForwardDiff.Tag{BilevelTrajOpt.##84#89{#f#13{Array{Float64,1}},Int64},Float64},Float64,6,Array{ForwardDiff.Dual{ForwardDiff.Tag{BilevelTrajOpt.##84#89{#f#13{Array{Float64,1}},Int64},Float64},ForwardDiff.Dual{ForwardDiff.Tag{BilevelTrajOpt.##84#89{#f#13{Array{Float64,1}},Int64},Float64},Float64,6},6},1},Array{ForwardDiff.Dual{ForwardDiff.Tag{BilevelTrajOpt.##84#89{#f#13{Array{Float64,1}},Int64},Float64},Float64,6},1}}, ::Val{true}\u001b[1m)\u001b[22m\u001b[22m at \u001b[1m/Users/blandry/.julia/v0.6/ForwardDiff/src/hessian.jl:17\u001b[22m\u001b[22m",
      " [9] \u001b[1mhessian\u001b[22m\u001b[22m\u001b[1m(\u001b[22m\u001b[22m::Function, ::Array{Float64,1}, ::ForwardDiff.HessianConfig{ForwardDiff.Tag{BilevelTrajOpt.##84#89{#f#13{Array{Float64,1}},Int64},Float64},Float64,6,Array{ForwardDiff.Dual{ForwardDiff.Tag{BilevelTrajOpt.##84#89{#f#13{Array{Float64,1}},Int64},Float64},ForwardDiff.Dual{ForwardDiff.Tag{BilevelTrajOpt.##84#89{#f#13{Array{Float64,1}},Int64},Float64},Float64,6},6},1},Array{ForwardDiff.Dual{ForwardDiff.Tag{BilevelTrajOpt.##84#89{#f#13{Array{Float64,1}},Int64},Float64},Float64,6},1}}\u001b[1m)\u001b[22m\u001b[22m at \u001b[1m/Users/blandry/.julia/v0.6/ForwardDiff/src/hessian.jl:15\u001b[22m\u001b[22m (repeats 2 times)",
      " [10] \u001b[1m#auglag_solve#81\u001b[22m\u001b[22m\u001b[1m(\u001b[22m\u001b[22m::Float64, ::Function, ::Array{Float64,1}, ::Array{Float64,1}, ::Array{Float64,1}, ::#f#13{Array{Float64,1}}, ::#h#14{Array{Float64,1}}, ::#g#15{Array{Float64,1}}\u001b[1m)\u001b[22m\u001b[22m at \u001b[1m/Users/blandry/.julia/v0.6/BilevelTrajOpt/src/auglag.jl:41\u001b[22m\u001b[22m",
      " [11] \u001b[1msolve_prob\u001b[22m\u001b[22m\u001b[1m(\u001b[22m\u001b[22m::Array{Float64,1}\u001b[1m)\u001b[22m\u001b[22m at \u001b[1m./In[9]:22\u001b[22m\u001b[22m",
      " [12] \u001b[1minclude_string\u001b[22m\u001b[22m\u001b[1m(\u001b[22m\u001b[22m::String, ::String\u001b[1m)\u001b[22m\u001b[22m at \u001b[1m./loading.jl:522\u001b[22m\u001b[22m",
      " [13] \u001b[1mexecute_request\u001b[22m\u001b[22m\u001b[1m(\u001b[22m\u001b[22m::ZMQ.Socket, ::IJulia.Msg\u001b[1m)\u001b[22m\u001b[22m at \u001b[1m/Users/blandry/.julia/v0.6/IJulia/src/execute_request.jl:193\u001b[22m\u001b[22m",
      " [14] \u001b[1m(::Compat.#inner#14{Array{Any,1},IJulia.#execute_request,Tuple{ZMQ.Socket,IJulia.Msg}})\u001b[22m\u001b[22m\u001b[1m(\u001b[22m\u001b[22m\u001b[1m)\u001b[22m\u001b[22m at \u001b[1m/Users/blandry/.julia/v0.6/Compat/src/Compat.jl:332\u001b[22m\u001b[22m",
      " [15] \u001b[1meventloop\u001b[22m\u001b[22m\u001b[1m(\u001b[22m\u001b[22m::ZMQ.Socket\u001b[1m)\u001b[22m\u001b[22m at \u001b[1m/Users/blandry/.julia/v0.6/IJulia/src/eventloop.jl:8\u001b[22m\u001b[22m",
      " [16] \u001b[1m(::IJulia.##13#16)\u001b[22m\u001b[22m\u001b[1m(\u001b[22m\u001b[22m\u001b[1m)\u001b[22m\u001b[22m at \u001b[1m./task.jl:335\u001b[22m\u001b[22m"
     ]
    }
   ],
   "source": [
    "z0 = [2.,-1.,0.,1.]\n",
    "\n",
    "sol = solve_prob(z0)\n",
    "\n",
    "# autodiff \n",
    "J_auto = ForwardDiff.jacobian(solve_prob,z0)\n",
    "\n",
    "# # numerical\n",
    "ϵ = 1e-8\n",
    "J_num = zeros(size(J_auto))\n",
    "for i = 1:length(z0)\n",
    "    δ = zeros(length(z0))\n",
    "    δ[i] = ϵ\n",
    "    J_num[:,i] = (solve_prob(z0 + δ) - sol)/ϵ\n",
    "end\n",
    "\n",
    "display(\"----\")\n",
    "display(sol)\n",
    "display(J_auto)\n",
    "display(J_num)"
   ]
  }
 ],
 "metadata": {
  "kernelspec": {
   "display_name": "Julia 0.6.4",
   "language": "julia",
   "name": "julia-0.6"
  },
  "language_info": {
   "file_extension": ".jl",
   "mimetype": "application/julia",
   "name": "julia",
   "version": "0.6.4"
  }
 },
 "nbformat": 4,
 "nbformat_minor": 2
}
