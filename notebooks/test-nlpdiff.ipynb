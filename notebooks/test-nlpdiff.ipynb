{
 "cells": [
  {
   "cell_type": "code",
   "execution_count": 1,
   "metadata": {},
   "outputs": [],
   "source": [
    "using Revise\n",
    "using BilevelTrajOpt"
   ]
  },
  {
   "cell_type": "code",
   "execution_count": 33,
   "metadata": {},
   "outputs": [
    {
     "name": "stderr",
     "output_type": "stream",
     "text": [
      "\u001b[1m\u001b[33mWARNING: \u001b[39m\u001b[22m\u001b[33mmax(x::AbstractArray{T1}, y::Real) where T1 <: Real is deprecated, use max.(x, y) instead.\u001b[39m\n",
      "Stacktrace:\n",
      " [1] \u001b[1mdepwarn\u001b[22m\u001b[22m\u001b[1m(\u001b[22m\u001b[22m::String, ::Symbol\u001b[1m)\u001b[22m\u001b[22m at \u001b[1m./deprecated.jl:70\u001b[22m\u001b[22m\n",
      " [2] \u001b[1mmax\u001b[22m\u001b[22m\u001b[1m(\u001b[22m\u001b[22m::Array{Float64,1}, ::Float64\u001b[1m)\u001b[22m\u001b[22m at \u001b[1m./deprecated.jl:57\u001b[22m\u001b[22m\n",
      " [3] \u001b[1minclude_string\u001b[22m\u001b[22m\u001b[1m(\u001b[22m\u001b[22m::String, ::String\u001b[1m)\u001b[22m\u001b[22m at \u001b[1m./loading.jl:522\u001b[22m\u001b[22m\n",
      " [4] \u001b[1mexecute_request\u001b[22m\u001b[22m\u001b[1m(\u001b[22m\u001b[22m::ZMQ.Socket, ::IJulia.Msg\u001b[1m)\u001b[22m\u001b[22m at \u001b[1m/home/blandry/.julia/v0.6/IJulia/src/execute_request.jl:193\u001b[22m\u001b[22m\n",
      " [5] \u001b[1m(::Compat.#inner#14{Array{Any,1},IJulia.#execute_request,Tuple{ZMQ.Socket,IJulia.Msg}})\u001b[22m\u001b[22m\u001b[1m(\u001b[22m\u001b[22m\u001b[1m)\u001b[22m\u001b[22m at \u001b[1m/home/blandry/.julia/v0.6/Compat/src/Compat.jl:332\u001b[22m\u001b[22m\n",
      " [6] \u001b[1meventloop\u001b[22m\u001b[22m\u001b[1m(\u001b[22m\u001b[22m::ZMQ.Socket\u001b[1m)\u001b[22m\u001b[22m at \u001b[1m/home/blandry/.julia/v0.6/IJulia/src/eventloop.jl:8\u001b[22m\u001b[22m\n",
      " [7] \u001b[1m(::IJulia.##13#16)\u001b[22m\u001b[22m\u001b[1m(\u001b[22m\u001b[22m\u001b[1m)\u001b[22m\u001b[22m at \u001b[1m./task.jl:335\u001b[22m\u001b[22m\n",
      "while loading In[33], in expression starting on line 20\n"
     ]
    },
    {
     "data": {
      "text/plain": [
       "4-element Array{Float64,1}:\n",
       " 1.0\n",
       " 5.0\n",
       " 1.0\n",
       " 1.0"
      ]
     },
     "metadata": {},
     "output_type": "display_data"
    },
    {
     "data": {
      "text/plain": [
       "4-element Array{Float64,1}:\n",
       " 1.0    \n",
       " 4.743  \n",
       " 3.82115\n",
       " 1.37941"
      ]
     },
     "metadata": {},
     "output_type": "display_data"
    },
    {
     "data": {
      "text/plain": [
       "4-element Array{Float64,1}:\n",
       " 1.0  \n",
       " 4.743\n",
       " 3.821\n",
       " 1.379"
      ]
     },
     "metadata": {},
     "output_type": "display_data"
    },
    {
     "name": "stdout",
     "output_type": "stream",
     "text": [
      "Solve_Succeeded\n"
     ]
    }
   ],
   "source": [
    "# test the solution\n",
    "function f(x)\n",
    "    return x[1] * x[4] * (x[1] + x[2] + x[3]) + x[3]\n",
    "end\n",
    "\n",
    "function h(x)\n",
    "    return [40. - (x[1]^2 + x[2]^2 + x[3]^2 + x[4]^2)]\n",
    "end\n",
    "\n",
    "function g(x)\n",
    "    return [25. - (x[1]*x[2]*x[3]*x[4])]\n",
    "end\n",
    "\n",
    "# x0 = ones(4)\n",
    "# λ0 = ones(length(h(x0)))\n",
    "# μ0 = ones(length(g(x0)))\n",
    "\n",
    "x0 = [1.,4.,3.,1.]\n",
    "λ0 = h(x0)\n",
    "μ0 = max(g(x0),0.)\n",
    "\n",
    "x_min = 1.*ones(length(x0))\n",
    "x_max = 5.*ones(length(x0))\n",
    "\n",
    "x_sol, λ_sol, μ_sol = auglag_solve(x0,λ0,μ0,f,h,g,x_min,x_max)\n",
    "\n",
    "num_h = length(λ0)\n",
    "num_g = length(μ0)\n",
    "x_sol_ip = ip_solve(x0,f,h,g,num_h,num_g,x_min,x_max)\n",
    "\n",
    "x_sol_known = [1.000, 4.743, 3.821, 1.379]\n",
    "\n",
    "display(x_sol)\n",
    "display(x_sol_ip)\n",
    "display(x_sol_known)"
   ]
  },
  {
   "cell_type": "code",
   "execution_count": null,
   "metadata": {},
   "outputs": [],
   "source": [
    "# test the gradient\n",
    "function solve_prob(z)\n",
    "    function f(x)\n",
    "#         return x[1] * x[4] * (x[1] + x[2] + x[3]) + x[3]\n",
    "        return dot(x,x)\n",
    "    end\n",
    "\n",
    "    function h(x)\n",
    "#         return [z[1] - (x[1]^2 + x[2]^2 + x[3]^2 + x[4]^2)]\n",
    "        return z[1] - x[1] + x[4]\n",
    "    end\n",
    "\n",
    "    function g(x)\n",
    "#         return [z[2] - (x[1]*x[2]*x[3]*x[4])]\n",
    "        return z[2] - x[2] - x[3]*5\n",
    "    end\n",
    "\n",
    "    x0 = [1., 1., 1., 1.]\n",
    "    λ0 = ones(length(h(x0)))\n",
    "    μ0 = ones(length(g(x0)))\n",
    "\n",
    "    x_min = 1.*ones(length(x0))\n",
    "    x_max = 10.*ones(length(x0))\n",
    "\n",
    "    x_sol, λ_sol, μ_sol = auglag_solve(x0,λ0,μ0,f,h,g,x_min,x_max)\n",
    "    \n",
    "    x_sol\n",
    "end"
   ]
  },
  {
   "cell_type": "code",
   "execution_count": null,
   "metadata": {},
   "outputs": [],
   "source": [
    "z0 = [2.,-1.]\n",
    "\n",
    "# autodiff \n",
    "J_auto = ForwardDiff.jacobian(solve_prob,z0)\n",
    "\n",
    "# numerical\n",
    "ϵ = 1e-12\n",
    "J_num = zeros(size(J_auto))\n",
    "for i = 1:length(z0)\n",
    "    δ = zeros(length(z0))\n",
    "    δ[i] = ϵ\n",
    "    J_num[:,i] = (solve_prob(z0 + δ) - solve_prob(z0))/ϵ\n",
    "end\n",
    "\n",
    "display(solve_prob(z0))\n",
    "\n",
    "display(J_auto)\n",
    "display(J_num)"
   ]
  }
 ],
 "metadata": {
  "kernelspec": {
   "display_name": "Julia 0.6.4",
   "language": "julia",
   "name": "julia-0.6"
  },
  "language_info": {
   "file_extension": ".jl",
   "mimetype": "application/julia",
   "name": "julia",
   "version": "0.6.4"
  }
 },
 "nbformat": 4,
 "nbformat_minor": 2
}
