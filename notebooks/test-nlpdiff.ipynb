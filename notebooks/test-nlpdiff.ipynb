{
 "cells": [
  {
   "cell_type": "code",
   "execution_count": null,
   "metadata": {
    "collapsed": false
   },
   "outputs": [],
   "source": [
    "using Revise\n",
    "using BilevelTrajOpt"
   ]
  },
  {
   "cell_type": "code",
   "execution_count": null,
   "metadata": {
    "collapsed": false
   },
   "outputs": [],
   "source": [
    "a = rand(4)\n",
    "A = diagm(a)"
   ]
  },
  {
   "cell_type": "code",
   "execution_count": null,
   "metadata": {
    "collapsed": false,
    "scrolled": true
   },
   "outputs": [],
   "source": [
    "# test the solution\n",
    "function f(x)\n",
    "#     return 0.\n",
    "#     return x[1] * x[4] * (x[1] + x[2] + x[3]) + x[3]\n",
    "#     return x'*A*x \n",
    "    return sum(x)\n",
    "end\n",
    "\n",
    "function h(x)\n",
    "#     return [40. - (x[1]^2 + x[2]^2 + x[3]^2 + x[4]^2)]\n",
    "#     return [x[1] + x[2] - 1., x[3] - 1., x[4]*x[1]]\n",
    "    return [6. - x[1],x[1]*x[2],x[1]*.5+x[3]-4.]\n",
    "end\n",
    "\n",
    "function g(x)\n",
    "#     return [25. - (x[1]*x[2]*x[3]*x[4])]\n",
    "#     return vcat([25. - (x[1]*x[2]*x[3]*x[4])], 1. - x, x - 5.)\n",
    "#     return vcat([1. - x[2]],-x)\n",
    "#     return vcat(-x[2:3],5.-x[4])    \n",
    "#     return [0.]\n",
    "#     return vcat([x[1] - .1], 5. - x[4])\n",
    "    return vcat(-x[2:3],5.-x[4],10.-x[4],17.-x[4],5-x[1]*x[4])\n",
    "end\n",
    "\n",
    "x0 = zeros(4)\n",
    "λ0 = zeros(length(h(x0)))\n",
    "μ0 = zeros(length(g(x0)))\n",
    "c0 = 1.\n",
    "\n",
    "# x0 = x_sol\n",
    "# λ0 = λ_sol\n",
    "# μ0 = μ_sol\n",
    "# c0 = c_sol\n",
    "\n",
    "x_sol, λ_sol, μ_sol, c_sol = auglag_solve(x0,λ0,μ0,f,h,g,c0=c0)\n",
    "\n",
    "num_h = length(λ0)\n",
    "num_g = length(μ0)\n",
    "x_sol_ip = ip_solve(x0,f,h,g,num_h,num_g)\n",
    "\n",
    "# x_sol_known = [1.000, 4.743, 3.821, 1.379]\n",
    "\n",
    "display(x_sol)\n",
    "display(x_sol_ip)\n",
    "# display(x_sol_known)"
   ]
  },
  {
   "cell_type": "code",
   "execution_count": null,
   "metadata": {
    "collapsed": false
   },
   "outputs": [],
   "source": [
    "x = x_sol\n",
    "display(f(x))\n",
    "display(h(x))\n",
    "display(g(x))\n",
    "\n",
    "x = x_sol_ip\n",
    "display(f(x))\n",
    "display(h(x))\n",
    "display(g(x))"
   ]
  },
  {
   "cell_type": "code",
   "execution_count": null,
   "metadata": {
    "collapsed": true
   },
   "outputs": [],
   "source": [
    "# test the gradient\n",
    "function solve_prob(z)\n",
    "    function f(x)\n",
    "        return x'*A*x + z[1]\n",
    "    end\n",
    "\n",
    "    function h(x)\n",
    "        return [x[1] + x[2] - 1., x[3] - z[2], x[4]*x[1]]\n",
    "    end\n",
    "\n",
    "    function g(x)\n",
    "        return vcat([x[1] - z[4]], z[3] - x[4])\n",
    "    end\n",
    "\n",
    "    x0 = zeros(4)\n",
    "    λ0 = zeros(length(h(x0)))\n",
    "    μ0 = zeros(length(g(x0)))\n",
    "\n",
    "    x_sol, λ_sol, μ_sol, c_sol = auglag_solve(x0,λ0,μ0,f,h,g)\n",
    "    \n",
    "    x_sol\n",
    "end"
   ]
  },
  {
   "cell_type": "code",
   "execution_count": null,
   "metadata": {
    "collapsed": true
   },
   "outputs": [],
   "source": [
    "z0 = [2.,-1.,0.,1.]\n",
    "\n",
    "sol = solve_prob(z0)\n",
    "\n",
    "# autodiff \n",
    "J_auto = ForwardDiff.jacobian(solve_prob,z0)\n",
    "\n",
    "# numerical\n",
    "ϵ = 1e-12\n",
    "J_num = zeros(size(J_auto))\n",
    "for i = 1:length(z0)\n",
    "    δ = zeros(length(z0))\n",
    "    δ[i] = ϵ\n",
    "    J_num[:,i] = (solve_prob(z0 + δ) - sol)/ϵ\n",
    "end\n",
    "\n",
    "display(sol)\n",
    "display(J_auto)\n",
    "display(J_num)"
   ]
  }
 ],
 "metadata": {
  "kernelspec": {
   "display_name": "Julia 0.6.4",
   "language": "julia",
   "name": "julia-0.6"
  },
  "language_info": {
   "file_extension": ".jl",
   "mimetype": "application/julia",
   "name": "julia",
   "version": "0.6.4"
  }
 },
 "nbformat": 4,
 "nbformat_minor": 2
}
