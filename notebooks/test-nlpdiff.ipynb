{
 "cells": [
  {
   "cell_type": "code",
   "execution_count": 2,
   "metadata": {},
   "outputs": [],
   "source": [
    "using Revise\n",
    "using BilevelTrajOpt"
   ]
  },
  {
   "cell_type": "code",
   "execution_count": 107,
   "metadata": {},
   "outputs": [
    {
     "data": {
      "text/plain": [
       "4-element Array{Float64,1}:\n",
       " -0.00237116\n",
       "  4.4357    \n",
       "  4.49981   \n",
       " -0.00244711"
      ]
     },
     "metadata": {},
     "output_type": "display_data"
    },
    {
     "data": {
      "text/plain": [
       "4-element Array{Float64,1}:\n",
       " 1.0    \n",
       " 4.743  \n",
       " 3.82115\n",
       " 1.37941"
      ]
     },
     "metadata": {},
     "output_type": "display_data"
    },
    {
     "data": {
      "text/plain": [
       "4-element Array{Float64,1}:\n",
       " 1.0  \n",
       " 4.743\n",
       " 3.821\n",
       " 1.379"
      ]
     },
     "metadata": {},
     "output_type": "display_data"
    },
    {
     "name": "stdout",
     "output_type": "stream",
     "text": [
      "Solve_Succeeded\n"
     ]
    }
   ],
   "source": [
    "# test the solution\n",
    "function f(x)\n",
    "    return x[1] * x[4] * (x[1] + x[2] + x[3]) + x[3]\n",
    "end\n",
    "\n",
    "function h(x)\n",
    "    return [40. - (x[1]^2 + x[2]^2 + x[3]^2 + x[4]^2)]\n",
    "end\n",
    "\n",
    "function g(x)\n",
    "    gx = [25. - (x[1]*x[2]*x[3]*x[4])]\n",
    "    gx = vcat(gx, 1. - x)\n",
    "    gx = vcat(gx, x - 5.)\n",
    "    return gx\n",
    "end\n",
    "\n",
    "x0 = [1., 5., 5., 1.]\n",
    "λ0 = ones(1)\n",
    "μ0 = ones(1+2*length(x0))\n",
    "num_steps = 10\n",
    "α_vect = [1.^i for i = 1:num_steps]\n",
    "c_vect = [2.^i for i = 1:num_steps]\n",
    "x_sol, λ_sol, μ_sol = auglag_solve(x0,λ0,μ0,f,h,g,α_vect,c_vect)\n",
    "\n",
    "num_h = 1\n",
    "num_g = 1+2*length(x0)\n",
    "x_sol_ip = ip_solve(x0,f,h,g,num_h,num_g)\n",
    "\n",
    "x_sol_known = [1.000, 4.743, 3.821, 1.379]\n",
    "\n",
    "display(x_sol)\n",
    "display(x_sol_ip)\n",
    "display(x_sol_known)"
   ]
  },
  {
   "cell_type": "code",
   "execution_count": null,
   "metadata": {},
   "outputs": [],
   "source": [
    "# test the gradient"
   ]
  }
 ],
 "metadata": {
  "kernelspec": {
   "display_name": "Julia 0.6.4",
   "language": "julia",
   "name": "julia-0.6"
  },
  "language_info": {
   "file_extension": ".jl",
   "mimetype": "application/julia",
   "name": "julia",
   "version": "0.6.4"
  }
 },
 "nbformat": 4,
 "nbformat_minor": 2
}
