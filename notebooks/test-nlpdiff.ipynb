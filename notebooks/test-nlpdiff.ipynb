{
 "cells": [
  {
   "cell_type": "code",
   "execution_count": 1,
   "metadata": {},
   "outputs": [],
   "source": [
    "using Revise\n",
    "using BilevelTrajOpt"
   ]
  },
  {
   "cell_type": "code",
   "execution_count": 21,
   "metadata": {},
   "outputs": [
    {
     "data": {
      "text/plain": [
       "4-element Array{Float64,1}:\n",
       " 1.0    \n",
       " 4.99846\n",
       " 5.0    \n",
       " 1.0    "
      ]
     },
     "metadata": {},
     "output_type": "display_data"
    },
    {
     "data": {
      "text/plain": [
       "4-element Array{Float64,1}:\n",
       " 1.0    \n",
       " 4.743  \n",
       " 3.82115\n",
       " 1.37941"
      ]
     },
     "metadata": {},
     "output_type": "display_data"
    },
    {
     "data": {
      "text/plain": [
       "4-element Array{Float64,1}:\n",
       " 1.0  \n",
       " 4.743\n",
       " 3.821\n",
       " 1.379"
      ]
     },
     "metadata": {},
     "output_type": "display_data"
    },
    {
     "name": "stdout",
     "output_type": "stream",
     "text": [
      "Solve_Succeeded\n"
     ]
    }
   ],
   "source": [
    "# test the solution\n",
    "function f(x)\n",
    "    return x[1] * x[4] * (x[1] + x[2] + x[3]) + x[3]\n",
    "end\n",
    "\n",
    "function h(x)\n",
    "    return [40. - (x[1]^2 + x[2]^2 + x[3]^2 + x[4]^2)]\n",
    "end\n",
    "\n",
    "function g(x)\n",
    "    return [25. - (x[1]*x[2]*x[3]*x[4])]\n",
    "end\n",
    "\n",
    "x0 = [1., 1., 1., 1.]\n",
    "λ0 = ones(length(h(x0)))\n",
    "μ0 = ones(length(g(x0)))\n",
    "\n",
    "x_min = 1.*ones(length(x0))\n",
    "x_max = 5.*ones(length(x0))\n",
    "\n",
    "x_sol = auglag_solve(x0,λ0,μ0,f,h,g,x_min,x_max)\n",
    "\n",
    "num_h = length(λ0)\n",
    "num_g = length(μ0)\n",
    "x_sol_ip = ip_solve(x0,f,h,g,num_h,num_g,x_min,x_max)\n",
    "\n",
    "x_sol_known = [1.000, 4.743, 3.821, 1.379]\n",
    "\n",
    "display(x_sol)\n",
    "display(x_sol_ip)\n",
    "display(x_sol_known)"
   ]
  },
  {
   "cell_type": "code",
   "execution_count": 111,
   "metadata": {},
   "outputs": [
    {
     "data": {
      "text/plain": [
       "solve_prob (generic function with 2 methods)"
      ]
     },
     "execution_count": 111,
     "metadata": {},
     "output_type": "execute_result"
    }
   ],
   "source": [
    "# test the gradient\n",
    "function solve_prob(z)\n",
    "    function f(x)\n",
    "#         return x[1] * x[4] * (x[1] + x[2] + x[3]) + x[3]\n",
    "        return dot(x,x)\n",
    "    end\n",
    "\n",
    "    function h(x)\n",
    "#         return [z[1] - (x[1]^2 + x[2]^2 + x[3]^2 + x[4]^2)]\n",
    "        return z[1] - x[1] + x[4]\n",
    "    end\n",
    "\n",
    "    function g(x)\n",
    "#         return [z[2] - (x[1]*x[2]*x[3]*x[4])]\n",
    "        return z[2] - x[2] - x[3]*5\n",
    "    end\n",
    "\n",
    "    x0 = [1., 1., 1., 1.]\n",
    "    λ0 = ones(length(h(x0)))\n",
    "    μ0 = ones(length(g(x0)))\n",
    "\n",
    "    x_min = -10.*ones(length(x0))\n",
    "    x_max = 10.*ones(length(x0))\n",
    "\n",
    "    x_sol = auglag_solve(x0,λ0,μ0,f,h,g,x_min,x_max)\n",
    "    \n",
    "    x_sol\n",
    "end"
   ]
  },
  {
   "cell_type": "code",
   "execution_count": 112,
   "metadata": {},
   "outputs": [
    {
     "data": {
      "text/plain": [
       "4-element Array{Float64,1}:\n",
       "  0.999893\n",
       " -0.038458\n",
       " -0.19229 \n",
       " -0.999893"
      ]
     },
     "metadata": {},
     "output_type": "display_data"
    },
    {
     "data": {
      "text/plain": [
       "4×2 Array{Float64,2}:\n",
       "  0.49993  0.0     \n",
       "  0.0      0.038458\n",
       "  0.0      0.19229 \n",
       " -0.49993  0.0     "
      ]
     },
     "metadata": {},
     "output_type": "display_data"
    },
    {
     "data": {
      "text/plain": [
       "4×2 Array{Float64,2}:\n",
       "  0.499933  0.0      \n",
       "  0.0       0.0385317\n",
       "  0.0       0.192291 \n",
       " -0.499933  0.0      "
      ]
     },
     "metadata": {},
     "output_type": "display_data"
    }
   ],
   "source": [
    "z0 = [2.,-1.]\n",
    "\n",
    "# autodiff \n",
    "J_auto = ForwardDiff.jacobian(solve_prob,z0)\n",
    "\n",
    "# numerical\n",
    "ϵ = 1e-12\n",
    "J_num = zeros(size(J_auto))\n",
    "for i = 1:length(z0)\n",
    "    δ = zeros(length(z0))\n",
    "    δ[i] = ϵ\n",
    "    J_num[:,i] = (solve_prob(z0 + δ) - solve_prob(z0))/ϵ\n",
    "end\n",
    "\n",
    "display(solve_prob(z0))\n",
    "\n",
    "display(J_auto)\n",
    "display(J_num)"
   ]
  }
 ],
 "metadata": {
  "kernelspec": {
   "display_name": "Julia 0.6.4",
   "language": "julia",
   "name": "julia-0.6"
  },
  "language_info": {
   "file_extension": ".jl",
   "mimetype": "application/julia",
   "name": "julia",
   "version": "0.6.4"
  }
 },
 "nbformat": 4,
 "nbformat_minor": 2
}
