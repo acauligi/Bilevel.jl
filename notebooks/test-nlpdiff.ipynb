{
 "cells": [
  {
   "cell_type": "code",
   "execution_count": 1,
   "metadata": {
    "collapsed": false
   },
   "outputs": [],
   "source": [
    "using Revise\n",
    "using BilevelTrajOpt"
   ]
  },
  {
   "cell_type": "code",
   "execution_count": 6,
   "metadata": {
    "collapsed": false
   },
   "outputs": [
    {
     "data": {
      "text/plain": [
       "4×4 Array{Float64,2}:\n",
       " 0.408196  0.0       0.0       0.0     \n",
       " 0.0       0.315306  0.0       0.0     \n",
       " 0.0       0.0       0.480072  0.0     \n",
       " 0.0       0.0       0.0       0.648007"
      ]
     },
     "execution_count": 6,
     "metadata": {},
     "output_type": "execute_result"
    }
   ],
   "source": [
    "a = rand(4)\n",
    "A = diagm(a)"
   ]
  },
  {
   "cell_type": "code",
   "execution_count": 56,
   "metadata": {
    "collapsed": false,
    "scrolled": true
   },
   "outputs": [
    {
     "data": {
      "text/plain": [
       "4-element Array{Float64,1}:\n",
       "  6.0        \n",
       "  6.98608e-14\n",
       "  1.0        \n",
       " 17.0        "
      ]
     },
     "metadata": {},
     "output_type": "display_data"
    },
    {
     "data": {
      "text/plain": [
       "4-element Array{Float64,1}:\n",
       "  6.0        \n",
       "  2.16408e-24\n",
       "  1.0        \n",
       " 17.0        "
      ]
     },
     "metadata": {},
     "output_type": "display_data"
    },
    {
     "name": "stdout",
     "output_type": "stream",
     "text": [
      "Solve_Succeeded\n"
     ]
    }
   ],
   "source": [
    "# test the solution\n",
    "function f(x)\n",
    "#     return 0.\n",
    "#     return x[1] * x[4] * (x[1] + x[2] + x[3]) + x[3]\n",
    "#     return x'*A*x \n",
    "    return sum(x)\n",
    "end\n",
    "\n",
    "function h(x)\n",
    "#     return [40. - (x[1]^2 + x[2]^2 + x[3]^2 + x[4]^2)]\n",
    "#     return [x[1] + x[2] - 1., x[3] - 1., x[4]*x[1]]\n",
    "    return [6. - x[1],x[1]*x[2],x[1]*.5+x[3]-4.]\n",
    "end\n",
    "\n",
    "function g(x)\n",
    "#     return [25. - (x[1]*x[2]*x[3]*x[4])]\n",
    "#     return vcat([25. - (x[1]*x[2]*x[3]*x[4])], 1. - x, x - 5.)\n",
    "#     return vcat([1. - x[2]],-x)\n",
    "#     return vcat(-x[2:3],5.-x[4])    \n",
    "#     return [0.]\n",
    "#     return vcat([x[1] - .1], 5. - x[4])\n",
    "    return vcat(-x[2:3],5.-x[4],10.-x[4],17.-x[4],5-x[1]*x[4])\n",
    "end\n",
    "\n",
    "x0 = zeros(4)\n",
    "λ0 = zeros(length(h(x0)))\n",
    "μ0 = zeros(length(g(x0)))\n",
    "c0 = 1.\n",
    "\n",
    "# x0 = x_sol\n",
    "# λ0 = λ_sol\n",
    "# μ0 = μ_sol\n",
    "# c0 = c_sol\n",
    "\n",
    "x_sol, λ_sol, μ_sol, c_sol = auglag_solve(x0,λ0,μ0,f,h,g,c0=c0)\n",
    "\n",
    "num_h = length(λ0)\n",
    "num_g = length(μ0)\n",
    "x_sol_ip = ip_solve(x0,f,h,g,num_h,num_g)\n",
    "\n",
    "# x_sol_known = [1.000, 4.743, 3.821, 1.379]\n",
    "\n",
    "display(x_sol)\n",
    "display(x_sol_ip)\n",
    "# display(x_sol_known)"
   ]
  },
  {
   "cell_type": "code",
   "execution_count": null,
   "metadata": {
    "collapsed": false
   },
   "outputs": [],
   "source": [
    "x = x_sol\n",
    "display(f(x))\n",
    "display(h(x))\n",
    "display(g(x))\n",
    "\n",
    "x = x_sol_ip\n",
    "display(f(x))\n",
    "display(h(x))\n",
    "display(g(x))"
   ]
  },
  {
   "cell_type": "code",
   "execution_count": 59,
   "metadata": {
    "collapsed": false
   },
   "outputs": [
    {
     "data": {
      "text/plain": [
       "solve_prob (generic function with 1 method)"
      ]
     },
     "execution_count": 59,
     "metadata": {},
     "output_type": "execute_result"
    }
   ],
   "source": [
    "# test the gradient\n",
    "function solve_prob(z)\n",
    "    function f(x)\n",
    "#         return x'*A*x + z[1]\n",
    "        return sum(x)\n",
    "    end\n",
    "\n",
    "    function h(x)\n",
    "#         return [x[1] + x[2] - 1., x[3] - z[2], x[4]*x[1]]\n",
    "        return [z[1] - x[1],x[1]*x[2],x[1]*.5+x[3]-z[2]]\n",
    "    end\n",
    "\n",
    "    function g(x)\n",
    "#         return vcat([x[1] - z[4]], z[3] - x[4])\n",
    "        return vcat(-x[2:3],z[3]-x[4],10.-x[4],z[4]-x[4],5-x[1]*x[4])\n",
    "    end\n",
    "\n",
    "    x0 = zeros(4)\n",
    "    λ0 = zeros(length(h(x0)))\n",
    "    μ0 = zeros(length(g(x0)))\n",
    "\n",
    "#     x_sol_ip = ip_solve(x0,f,h,g,length(h(x0)),length(g(x0)))\n",
    "#     display(x_sol_ip)\n",
    "    \n",
    "    x_sol, λ_sol, μ_sol, c_sol = auglag_solve(x0,λ0,μ0,f,h,g)\n",
    "    display(x_sol)\n",
    "\n",
    "    x_sol\n",
    "end"
   ]
  },
  {
   "cell_type": "code",
   "execution_count": 61,
   "metadata": {
    "collapsed": false
   },
   "outputs": [
    {
     "data": {
      "text/plain": [
       "4-element Array{Float64,1}:\n",
       "  6.0       \n",
       "  2.7361e-14\n",
       "  1.0       \n",
       " 17.0       "
      ]
     },
     "metadata": {},
     "output_type": "display_data"
    },
    {
     "data": {
      "text/plain": [
       "4-element Array{ForwardDiff.Dual{ForwardDiff.Tag{#solve_prob,Float64},Float64,4},1}:\n",
       " Dual{ForwardDiff.Tag{#solve_prob,Float64}}(6.0,1.0,1.67627e-11,1.96769e-16,-7.80404e-9)                  \n",
       " Dual{ForwardDiff.Tag{#solve_prob,Float64}}(5.97395e-14,-5.34526e-10,7.15195e-13,3.89951e-14,-1.91572e-10)\n",
       " Dual{ForwardDiff.Tag{#solve_prob,Float64}}(1.0,-0.5,1.0,-8.76288e-15,3.54326e-9)                         \n",
       " Dual{ForwardDiff.Tag{#solve_prob,Float64}}(17.0,-1.83056e-8,-2.38944e-9,6.61031e-9,1.0)                  "
      ]
     },
     "metadata": {},
     "output_type": "display_data"
    },
    {
     "data": {
      "text/plain": [
       "4-element Array{Float64,1}:\n",
       "  6.0       \n",
       " -6.4048e-14\n",
       "  1.0       \n",
       " 17.0       "
      ]
     },
     "metadata": {},
     "output_type": "display_data"
    },
    {
     "data": {
      "text/plain": [
       "4-element Array{Float64,1}:\n",
       "  6.0        \n",
       " -2.66781e-14\n",
       "  1.0        \n",
       " 17.0        "
      ]
     },
     "metadata": {},
     "output_type": "display_data"
    },
    {
     "data": {
      "text/plain": [
       "4-element Array{Float64,1}:\n",
       "  6.0        \n",
       "  1.89441e-14\n",
       "  1.0        \n",
       " 17.0        "
      ]
     },
     "metadata": {},
     "output_type": "display_data"
    },
    {
     "data": {
      "text/plain": [
       "4-element Array{Float64,1}:\n",
       "  6.0        \n",
       "  3.70634e-14\n",
       "  1.0        \n",
       " 17.0        "
      ]
     },
     "metadata": {},
     "output_type": "display_data"
    },
    {
     "data": {
      "text/plain": [
       "\"----\""
      ]
     },
     "metadata": {},
     "output_type": "display_data"
    },
    {
     "data": {
      "text/plain": [
       "4-element Array{Float64,1}:\n",
       "  6.0       \n",
       "  2.7361e-14\n",
       "  1.0       \n",
       " 17.0       "
      ]
     },
     "metadata": {},
     "output_type": "display_data"
    },
    {
     "data": {
      "text/plain": [
       "4×4 Array{Float64,2}:\n",
       "  1.0           1.67627e-11   1.96769e-16  -7.80404e-9 \n",
       " -5.34526e-10   7.15195e-13   3.89951e-14  -1.91572e-10\n",
       " -0.5           1.0          -8.76288e-15   3.54326e-9 \n",
       " -1.83056e-8   -2.38944e-9    6.61031e-9    1.0        "
      ]
     },
     "metadata": {},
     "output_type": "display_data"
    },
    {
     "data": {
      "text/plain": [
       "4×4 Array{Float64,2}:\n",
       "  0.999985     1.45661e-5  -1.97176e-5  -4.3876e-5 \n",
       " -9.1409e-6   -5.40391e-6  -8.41684e-7   9.70242e-7\n",
       " -0.500037     0.999909    -1.85407e-5  -4.03455e-5\n",
       "  4.36984e-5   4.40536e-5   5.47118e-5   1.00009   "
      ]
     },
     "metadata": {},
     "output_type": "display_data"
    },
    {
     "name": "stderr",
     "output_type": "stream",
     "text": [
      "WARNING: Method definition auglag_solve(Any, Any, Any, Any, Any, Any) in module BilevelTrajOpt at /Users/blandry/.julia/v0.6/BilevelTrajOpt/src/auglag.jl:18 overwritten at /Users/blandry/.julia/v0.6/BilevelTrajOpt/src/auglag.jl:18.\n",
      "WARNING: Method definition #auglag_solve(Array{Any, 1}, typeof(BilevelTrajOpt.auglag_solve), Any, Any, Any, Any, Any, Any) in module BilevelTrajOpt overwritten.\n",
      "WARNING: Method definition solve_implicit_contact_τ(Any, Any, Any, Any, Any, Any, Any, Any, Any, Any) in module BilevelTrajOpt at /Users/blandry/.julia/v0.6/BilevelTrajOpt/src/contact.jl:141 overwritten at /Users/blandry/.julia/v0.6/BilevelTrajOpt/src/contact.jl:141.\n",
      "WARNING: Method definition #solve_implicit_contact_τ(Array{Any, 1}, typeof(BilevelTrajOpt.solve_implicit_contact_τ), Any, Any, Any, Any, Any, Any, Any, Any, Any, Any) in module BilevelTrajOpt overwritten.\n",
      "WARNING: Method definition solve_implicit_contact_τ(Any, Any, Any, Any, AbstractArray{T, N} where N, AbstractArray{T, N} where N) in module BilevelTrajOpt at /Users/blandry/.julia/v0.6/BilevelTrajOpt/src/contact.jl:175 overwritten at /Users/blandry/.julia/v0.6/BilevelTrajOpt/src/contact.jl:176.\n",
      "WARNING: Method definition #solve_implicit_contact_τ(Array{Any, 1}, typeof(BilevelTrajOpt.solve_implicit_contact_τ), Any, Any, Any, Any, AbstractArray{T, N} where N, AbstractArray{T, N} where N) in module BilevelTrajOpt overwritten.\n",
      "WARNING: Method definition update_constraints(Any, Any, Any, Any) in module BilevelTrajOpt at /Users/blandry/.julia/v0.6/BilevelTrajOpt/src/simulation.jl:27 overwritten at /Users/blandry/.julia/v0.6/BilevelTrajOpt/src/simulation.jl:27.\n",
      "WARNING: Method definition update_constraints_implicit_contact(Any, Any, Any, Any) in module BilevelTrajOpt at /Users/blandry/.julia/v0.6/BilevelTrajOpt/src/simulation.jl:106 overwritten at /Users/blandry/.julia/v0.6/BilevelTrajOpt/src/simulation.jl:93.\n"
     ]
    }
   ],
   "source": [
    "# z0 = [2.,-1.,0.,1.]\n",
    "z0 = [6.,4.,5.,17.]\n",
    "\n",
    "sol = solve_prob(z0)\n",
    "\n",
    "# autodiff \n",
    "J_auto = ForwardDiff.jacobian(solve_prob,z0)\n",
    "\n",
    "# # numerical\n",
    "ϵ = 1e-8\n",
    "J_num = zeros(size(J_auto))\n",
    "for i = 1:length(z0)\n",
    "    δ = zeros(length(z0))\n",
    "    δ[i] = ϵ\n",
    "    J_num[:,i] = (solve_prob(z0 + δ) - sol)/ϵ\n",
    "end\n",
    "\n",
    "display(\"----\")\n",
    "display(sol)\n",
    "display(J_auto)\n",
    "display(J_num)"
   ]
  }
 ],
 "metadata": {
  "kernelspec": {
   "display_name": "Julia 0.6.4",
   "language": "julia",
   "name": "julia-0.6"
  },
  "language_info": {
   "file_extension": ".jl",
   "mimetype": "application/julia",
   "name": "julia",
   "version": "0.6.4"
  }
 },
 "nbformat": 4,
 "nbformat_minor": 2
}
