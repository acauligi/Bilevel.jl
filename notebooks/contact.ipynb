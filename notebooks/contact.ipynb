{
 "cells": [
  {
   "cell_type": "code",
   "execution_count": 16,
   "metadata": {
    "collapsed": false
   },
   "outputs": [],
   "source": [
    "using Revise\n",
    "\n",
    "using BilevelTrajOpt\n",
    "using LinearAlgebra\n",
    "using ForwardDiff"
   ]
  },
  {
   "cell_type": "code",
   "execution_count": 4,
   "metadata": {
    "collapsed": false
   },
   "outputs": [
    {
     "data": {
      "text/plain": [
       "4×4 Array{Float64,2}:\n",
       " 0.9575  0.0        0.0      0.0      \n",
       " 0.0     0.0128424  0.0      0.0      \n",
       " 0.0     0.0        0.19172  0.0      \n",
       " 0.0     0.0        0.0      0.0898911"
      ]
     },
     "execution_count": 4,
     "metadata": {},
     "output_type": "execute_result"
    }
   ],
   "source": [
    "a = rand(4)\n",
    "A = Matrix(Diagonal(a))"
   ]
  },
  {
   "cell_type": "code",
   "execution_count": 27,
   "metadata": {
    "collapsed": false
   },
   "outputs": [
    {
     "name": "stdout",
     "output_type": "stream",
     "text": [
      "\n",
      "******************************************************************************\n",
      "This program contains Ipopt, a library for large-scale nonlinear optimization.\n",
      " Ipopt is released as open source code under the Eclipse Public License (EPL).\n",
      "         For more information visit http://projects.coin-or.org/Ipopt\n",
      "******************************************************************************\n",
      "\n",
      "Solve_Succeeded\n",
      "[6.0, 5.42607e-14, 1.0, 17.0]\n",
      "[6.0, 2.16408e-24, 1.0, 17.0]\n"
     ]
    }
   ],
   "source": [
    "# test the solution\n",
    "function f(x)\n",
    "    return sum(x)\n",
    "end\n",
    "\n",
    "function h(x)\n",
    "    return [6. .- x[1], x[1]*x[2], x[1]*.5 + x[3] - 4.]\n",
    "end\n",
    "\n",
    "function g(x)\n",
    "    return vcat(-x[2:3],5. - x[4],10. - x[4],17. - x[4],5. - x[1]*x[4])\n",
    "end\n",
    "\n",
    "x0 = zeros(4)\n",
    "λ0 = zeros(length(h(x0)))\n",
    "μ0 = zeros(length(g(x0)))\n",
    "c0 = 1.\n",
    "\n",
    "x_sol, λ_sol, μ_sol, c_sol = auglag_solve(x0,λ0,μ0,f,h,g,c0=c0)\n",
    "\n",
    "num_h = length(λ0)\n",
    "num_g = length(μ0)\n",
    "x_sol_ip = ip_solve(x0,f,h,g,num_h,num_g)\n",
    "\n",
    "println(x_sol)\n",
    "println(x_sol_ip)"
   ]
  },
  {
   "cell_type": "code",
   "execution_count": 30,
   "metadata": {
    "collapsed": false
   },
   "outputs": [
    {
     "data": {
      "text/plain": [
       "solve_prob (generic function with 1 method)"
      ]
     },
     "execution_count": 30,
     "metadata": {},
     "output_type": "execute_result"
    }
   ],
   "source": [
    "# test the gradient\n",
    "function solve_prob(z)\n",
    "    function f(x)\n",
    "        return sum(x)\n",
    "    end\n",
    "\n",
    "    function h(x)\n",
    "        return [z[1] - x[1], x[1]*x[2], x[1]*.5 + x[3] - z[2]]\n",
    "    end\n",
    "\n",
    "    function g(x)\n",
    "        return vcat(-x[2:3], z[3] - x[4], 10. - x[4], z[4] - x[4], 5. - x[1]*x[4])\n",
    "    end\n",
    "\n",
    "    x0 = zeros(4)\n",
    "    λ0 = zeros(length(h(x0)))\n",
    "    μ0 = zeros(length(g(x0)))\n",
    "\n",
    "    # x_sol_ip = ip_solve(x0,f,h,g,length(h(x0)),length(g(x0)))\n",
    "    # println(x_sol_ip)\n",
    "    \n",
    "    x_sol, λ_sol, μ_sol, c_sol = auglag_solve(x0,λ0,μ0,f,h,g)\n",
    "    # println(x_sol)\n",
    "\n",
    "    x_sol\n",
    "end"
   ]
  },
  {
   "cell_type": "code",
   "execution_count": 38,
   "metadata": {
    "collapsed": false
   },
   "outputs": [
    {
     "name": "stdout",
     "output_type": "stream",
     "text": [
      "elapsed time: 0.022758788 seconds\n"
     ]
    },
    {
     "name": "stderr",
     "output_type": "stream",
     "text": [
      "┌ Warning: `tic()` is deprecated, use `@time`, `@elapsed`, or calls to `time_ns()` instead.\n",
      "│   caller = top-level scope at In[38]:5\n",
      "└ @ Core In[38]:5\n",
      "┌ Warning: `toc()` is deprecated, use `@time`, `@elapsed`, or calls to `time_ns()` instead.\n",
      "│   caller = top-level scope at In[38]:9\n",
      "└ @ Core In[38]:9\n"
     ]
    },
    {
     "data": {
      "text/plain": [
       "4-element Array{Float64,1}:\n",
       "  6.00000000000004      \n",
       "  5.4260720300866163e-14\n",
       "  0.9999999999997551    \n",
       " 17.000000013235137     "
      ]
     },
     "metadata": {},
     "output_type": "display_data"
    },
    {
     "data": {
      "text/plain": [
       "4×4 Array{Float64,2}:\n",
       "  1.0          4.23412e-10  -1.38019e-14  -2.21658e-7\n",
       "  3.31396e-9  -2.01452e-12   4.83657e-14   1.15114e-9\n",
       " -0.5          1.0           6.78428e-14   1.07815e-7\n",
       " -2.2183e-7   -2.39202e-9    6.61032e-9    1.0       "
      ]
     },
     "metadata": {},
     "output_type": "display_data"
    },
    {
     "data": {
      "text/plain": [
       "4×4 Array{Float64,2}:\n",
       "  1.00011       5.53131e-5   -3.016e-5     -9.78112e-5 \n",
       "  1.04434e-5    1.0244e-5    -2.88654e-5    1.55314e-5 \n",
       " -0.500132      1.00008      -0.000226647   0.000269547\n",
       " -0.000388384  -0.000138044  -0.000286579   0.999758   "
      ]
     },
     "metadata": {},
     "output_type": "display_data"
    },
    {
     "name": "stdout",
     "output_type": "stream",
     "text": [
      "elapsed time: 0.027304991 seconds\n",
      "----\n"
     ]
    },
    {
     "name": "stderr",
     "output_type": "stream",
     "text": [
      "┌ Warning: `tic()` is deprecated, use `@time`, `@elapsed`, or calls to `time_ns()` instead.\n",
      "│   caller = top-level scope at In[38]:10\n",
      "└ @ Core In[38]:10\n",
      "┌ Warning: `toc()` is deprecated, use `@time`, `@elapsed`, or calls to `time_ns()` instead.\n",
      "│   caller = top-level scope at In[38]:20\n",
      "└ @ Core In[38]:20\n"
     ]
    }
   ],
   "source": [
    "# z0 = [2.,-1.,0.,1.]\n",
    "z0 = [6.,4.,5.,17.]\n",
    "\n",
    "sol = solve_prob(z0)\n",
    "\n",
    "# autodiff \n",
    "tic()\n",
    "J_auto = ForwardDiff.jacobian(solve_prob,z0)\n",
    "toc()\n",
    "\n",
    "# numerical\n",
    "tic()\n",
    "ϵ = sqrt(eps(1.))\n",
    "J_num = zeros(size(J_auto))\n",
    "for i = 1:length(z0)\n",
    "    δ = zeros(length(z0))\n",
    "    δ[i] = ϵ\n",
    "    J_num[:,i] = (solve_prob(z0 + δ) - sol) ./ ϵ\n",
    "end\n",
    "toc()\n",
    "\n",
    "println(\"----\")\n",
    "display(sol)\n",
    "display(J_auto)\n",
    "display(J_num)"
   ]
  }
 ],
 "metadata": {
  "kernelspec": {
   "display_name": "Julia 0.7.0",
   "language": "julia",
   "name": "julia-0.7"
  },
  "language_info": {
   "file_extension": ".jl",
   "mimetype": "application/julia",
   "name": "julia",
   "version": "0.7.0"
  }
 },
 "nbformat": 4,
 "nbformat_minor": 2
}
