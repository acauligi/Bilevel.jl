{
 "cells": [
  {
   "cell_type": "code",
   "execution_count": 22,
   "metadata": {
    "collapsed": false
   },
   "outputs": [],
   "source": [
    "using Revise\n",
    "using BilevelTrajOpt\n",
    "\n",
    "using RigidBodyDynamics\n",
    "using Plots\n",
    "using ForwardDiff"
   ]
  },
  {
   "cell_type": "code",
   "execution_count": 10,
   "metadata": {
    "collapsed": false
   },
   "outputs": [],
   "source": [
    "urdf = joinpath(\"..\", \"urdf\", \"ball.urdf\")\n",
    "mechanism = parse_urdf(Float64, urdf)\n",
    "body = findbody(mechanism, \"ball\")\n",
    "basejoint = joint_to_parent(body, mechanism)\n",
    "floatingjoint = Joint(basejoint.name, frame_before(basejoint), frame_after(basejoint), QuaternionFloating{Float64}())\n",
    "replace_joint!(mechanism, basejoint, floatingjoint)\n",
    "position_bounds(floatingjoint) .= RigidBodyDynamics.Bounds(-100, 100)\n",
    "velocity_bounds(floatingjoint) .= RigidBodyDynamics.Bounds(-100, 100)\n",
    "μ = 0.5\n",
    "motion_type = :xyz\n",
    "point = Point3D(default_frame(findbody(mechanism, \"floor\")), [0.,0.,0.])\n",
    "normal = FreeVector3D(default_frame(findbody(mechanism, \"floor\")), [0.,0.,1.])\n",
    "hs = HalfSpace(point, normal)\n",
    "floor = Obstacle(hs, μ, motion_type)\n",
    "obstacles = [floor]\n",
    "env = parse_contacts(mechanism, urdf, obstacles)\n",
    "x0 = MechanismState(mechanism)\n",
    "Δt = 0.005\n",
    "sim_data = get_sim_data(x0,env,Δt,true);"
   ]
  },
  {
   "cell_type": "code",
   "execution_count": 37,
   "metadata": {
    "collapsed": false
   },
   "outputs": [
    {
     "name": "stdout",
     "output_type": "stream",
     "text": [
      "elapsed time: 0.005247976 seconds\n",
      "elapsed time: 0.004505803 seconds\n",
      "elapsed time: 0.0043502 seconds\n",
      "elapsed time: 0.004263252 seconds\n",
      "elapsed time: 0.004611853 seconds\n",
      "elapsed time: 0.004364134 seconds\n",
      "elapsed time: 0.004770623 seconds\n",
      "elapsed time: 0.006635372 seconds\n",
      "elapsed time: 0.004639891 seconds\n",
      "elapsed time: 0.005896255 seconds\n",
      "elapsed time: 0.004624777 seconds\n",
      "elapsed time: 0.004699098 seconds\n"
     ]
    },
    {
     "data": {
      "text/plain": [
       "\"Explicit\""
      ]
     },
     "metadata": {},
     "output_type": "display_data"
    },
    {
     "data": {
      "text/plain": [
       "6-element Array{Float64,1}:\n",
       " 5.588405323632131e-8 \n",
       " 5.5884053236320544e-8\n",
       " 0.24998969429556853  \n",
       " 0.24998969429557005  \n",
       " 0.08773801440638201  \n",
       " 0.9999592255910942   "
      ]
     },
     "metadata": {},
     "output_type": "display_data"
    },
    {
     "data": {
      "text/plain": [
       "\"IP\""
      ]
     },
     "metadata": {},
     "output_type": "display_data"
    },
    {
     "data": {
      "text/plain": [
       "6-element Array{Float64,1}:\n",
       " 0.0\n",
       " 0.0\n",
       " 0.0\n",
       " 0.0\n",
       " 0.0\n",
       " 0.0"
      ]
     },
     "metadata": {},
     "output_type": "display_data"
    },
    {
     "data": {
      "text/plain": [
       "\"Aug Lag\""
      ]
     },
     "metadata": {},
     "output_type": "display_data"
    },
    {
     "data": {
      "text/plain": [
       "6-element Array{Float64,1}:\n",
       " 1.8026632154023182e-8\n",
       " 1.8315795910286483e-8\n",
       " 0.24998977312762763  \n",
       " 0.2499897739252708   \n",
       " 0.08773800822925623  \n",
       " 0.9999591671684256   "
      ]
     },
     "metadata": {},
     "output_type": "display_data"
    },
    {
     "data": {
      "text/plain": [
       "\"torques\""
      ]
     },
     "metadata": {},
     "output_type": "display_data"
    },
    {
     "data": {
      "text/plain": [
       "6-element Array{Float64,1}:\n",
       " 0.0\n",
       " 0.0\n",
       " 0.0\n",
       " 0.0\n",
       " 0.0\n",
       " 0.0"
      ]
     },
     "metadata": {},
     "output_type": "display_data"
    },
    {
     "data": {
      "text/plain": [
       "6-element Array{Float64,1}:\n",
       "  0.0               \n",
       "  0.0               \n",
       "  0.0               \n",
       "  2.452399497540766 \n",
       "  2.4523995025289484\n",
       " -9.809599429922255 "
      ]
     },
     "metadata": {},
     "output_type": "display_data"
    },
    {
     "name": "stdout",
     "output_type": "stream",
     "text": [
      "elapsed time: 0.005774063 seconds\n",
      "elapsed time: 0.008975317 seconds\n",
      "elapsed time: 0.004631043 seconds\n",
      "elapsed time: 0.004988082 seconds\n",
      "elapsed time: 0.004403167 seconds\n",
      "elapsed time: 0.00424253 seconds\n",
      "elapsed time: 0.004186848 seconds\n",
      "elapsed time: 0.004249571 seconds\n",
      "elapsed time: 0.004496583 seconds\n",
      "Solve_Succeeded\n",
      "Not_Enough_Degrees_Of_Freedom\n"
     ]
    }
   ],
   "source": [
    "q0 = [1., 0., 0., 0., 0., 0., 0.]\n",
    "v0 = [0., 0., 0., 0.1, 0.1, 0.]\n",
    "\n",
    "u0 = zeros(sim_data.num_v)\n",
    "set_configuration!(x0, q0)\n",
    "set_velocity!(x0, v0)\n",
    "setdirty!(x0)\n",
    "ctrl! = (u,t,x) -> u[:] .= 0.\n",
    "traj = BilevelTrajOpt.simulate(x0,env,sim_data.Δt,1,ctrl!,implicit_contact=false)\n",
    "qnext = traj[1:sim_data.num_q,2]\n",
    "vnext = traj[sim_data.num_q+1:sim_data.num_q+sim_data.num_v,2]\n",
    "x_sol_exp = traj[sim_data.num_q+sim_data.num_v+2:end,2]\n",
    "\n",
    "# qnext = q0\n",
    "# vnext = v0\n",
    "\n",
    "τ_ip, x_sol_ip, λ_ip, μ_ip, fx_ip = solve_implicit_contact_τ(sim_data,q0,v0,u0,qnext,vnext,ip_method=true);\n",
    "\n",
    "τ_auglag, x_sol_auglag, λ_auglag, μ_auglag, fx_auglag = solve_implicit_contact_τ(sim_data,q0,v0,u0,qnext,vnext,ip_method=false);\n",
    "\n",
    "display(\"Explicit\")\n",
    "display(x_sol_exp)\n",
    "display(\"IP\")\n",
    "display(x_sol_ip)\n",
    "display(\"Aug Lag\")\n",
    "display(x_sol_auglag)\n",
    "\n",
    "display(\"torques\")\n",
    "display(τ_ip)\n",
    "display(τ_auglag)"
   ]
  },
  {
   "cell_type": "code",
   "execution_count": 38,
   "metadata": {
    "collapsed": false
   },
   "outputs": [
    {
     "data": {
      "text/plain": [
       "6×13 Array{Float64,2}:\n",
       "  0.0543111  -0.0135724    0.0135723   …    1.10732    1.10718   0.553611  \n",
       "  0.0543052  -0.0135717    0.0135718        1.10714    1.10716   0.553587  \n",
       " -0.0981399  -0.100421     0.100502       -12.1945     8.192     4.09613   \n",
       " -0.0981458  -0.100501     0.100421         8.19185  -12.1945    4.0961    \n",
       "  0.175476    1.99721e-6  -1.99687e-6       0.5        0.5       1.22175e-7\n",
       " -0.17368    -0.456547     0.456548    …   -3.54249   -3.54254  18.6158    "
      ]
     },
     "metadata": {},
     "output_type": "display_data"
    },
    {
     "data": {
      "text/plain": [
       "6×13 Array{Float64,2}:\n",
       "  0.0447884   0.0131502    …    1.12373     1.13101    0.541056  \n",
       "  0.0758898   0.00187172        1.12597     1.14592    0.560105  \n",
       " -0.0999753  -0.0816865       -12.2363      8.14572    4.06829   \n",
       " -0.123324   -0.197803          8.21562   -12.2106     4.10294   \n",
       "  0.173808   -0.000345013       0.500185    0.500993   0.00253675\n",
       " -0.202783   -0.519097     …   -3.50186    -3.5375    18.5688    "
      ]
     },
     "metadata": {},
     "output_type": "display_data"
    }
   ],
   "source": [
    "τ_auglag, x_sol_auglag, λ_auglag, μ_auglag, fx_auglag = solve_implicit_contact_τ(sim_data,q0,v0,u0,qnext,vnext,ip_method=false);\n",
    "\n",
    "# autodiff \n",
    "J_auto = ForwardDiff.jacobian(qv -> solve_implicit_contact_τ(sim_data,q0,v0,u0,qv[1:sim_data.num_q],qv[sim_data.num_q+1:sim_data.num_q+sim_data.num_v],ip_method=false)[2], vcat(qnext,vnext))\n",
    "# Jt_auto = ForwardDiff.jacobian(qv -> solve_implicit_contact_τ(sim_data,q0,v0,u0,qv[1:sim_data.num_q],qv[sim_data.num_q+1:sim_data.num_q+sim_data.num_v],ip_method=false)[1], vcat(qnext,vnext))\n",
    "\n",
    "# numerical\n",
    "ϵ = sqrt(eps(1.))\n",
    "J_num = zeros(size(J_auto))\n",
    "# Jt_num = zeros(size(J_auto))\n",
    "# Jt_num_ip = zeros(size(J_auto))\n",
    "qv = vcat(qnext,vnext)\n",
    "for i = 1:length(qv)\n",
    "    δ = zeros(length(qv))\n",
    "    δ[i] = ϵ \n",
    "    τ, x, λ, μ, fx = solve_implicit_contact_τ(sim_data,q0,v0,u0,(qv+δ)[1:sim_data.num_q],(qv+δ)[sim_data.num_q+1:sim_data.num_q+sim_data.num_v],ip_method=false)\n",
    "    J_num[:,i] = (x - x_sol_auglag) ./ ϵ\n",
    "#     Jt_num[:,i] = (τ - τ_auglag) ./ ϵ\n",
    "#     τ, x, λ, μ, fx = solve_implicit_contact_τ(sim_data,q0,v0,u0,(qv+δ)[1:sim_data.num_q],(qv+δ)[sim_data.num_q+1:sim_data.num_q+sim_data.num_v],ip_method=true)\n",
    "#     Jt_num_ip[:,i] = (τ - τ_auglag) ./ ϵ\n",
    "end\n",
    "\n",
    "display(J_auto)\n",
    "display(J_num)\n",
    "\n",
    "# display(Jt_auto)\n",
    "# display(Jt_num)\n",
    "# display(Jt_num_ip)"
   ]
  }
 ],
 "metadata": {
  "kernelspec": {
   "display_name": "Julia 0.7.0",
   "language": "julia",
   "name": "julia-0.7"
  },
  "language_info": {
   "file_extension": ".jl",
   "mimetype": "application/julia",
   "name": "julia",
   "version": "0.7.0"
  }
 },
 "nbformat": 4,
 "nbformat_minor": 2
}
