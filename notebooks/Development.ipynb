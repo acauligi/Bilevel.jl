{
 "cells": [
  {
   "cell_type": "code",
   "execution_count": 84,
   "metadata": {
    "collapsed": false
   },
   "outputs": [],
   "source": [
    "using Revise\n",
    "using Bilevel\n",
    "\n",
    "using RigidBodyDynamics\n",
    "using LinearAlgebra\n",
    "using StaticArrays\n",
    "using ForwardDiff\n",
    "using DiffResults\n",
    "\n",
    "using Bilevel: snopt, contact_τ, generate_autodiff_solver_fn, contact_jacobian!"
   ]
  },
  {
   "cell_type": "code",
   "execution_count": 9,
   "metadata": {
    "collapsed": false
   },
   "outputs": [
    {
     "data": {
      "text/plain": [
       "0.005"
      ]
     },
     "execution_count": 9,
     "metadata": {},
     "output_type": "execute_result"
    }
   ],
   "source": [
    "urdf = joinpath(\"..\", \"urdf\", \"ball.urdf\")\n",
    "mechanism = parse_urdf(Float64, urdf)\n",
    "\n",
    "floor = findbody(mechanism, \"floor\")\n",
    "point = Point3D(default_frame(floor), SVector([0.,0.,0.]...))\n",
    "normal = FreeVector3D(default_frame(floor), SVector([0.,0.,1.]...))\n",
    "floor_obs = Obstacle(floor, point, normal, :xyz, 1.)\n",
    "\n",
    "obstacles = [floor_obs]\n",
    "env = Environment(mechanism, urdf, obstacles)\n",
    "Δt = .005"
   ]
  },
  {
   "cell_type": "code",
   "execution_count": 10,
   "metadata": {
    "collapsed": false
   },
   "outputs": [
    {
     "data": {
      "text/plain": [
       "SimData(Spanning tree:\n",
       "Vertex: world (root)\n",
       "  Vertex: floor, Edge: floor_to_world\n",
       "    Vertex: ball, Edge: floor_to_ball\n",
       "No non-tree joints., Environment(Contact[Contact(Spanning tree:\n",
       "Vertex: world (root)\n",
       "  Vertex: floor, Edge: floor_to_world\n",
       "    Vertex: ball, Edge: floor_to_ball\n",
       "No non-tree joints., ball, Point3D in \"after_floor_to_ball\": [0.0, 0.0, 0.0], Obstacle(floor, Point3D in \"after_floor_to_world\": [0.0, 0.0, 0.0], FreeVector3D in \"after_floor_to_world\": [0.0, 0.0, 1.0], [1.0 6.12323e-17 -1.0 -1.83697e-16; 0.0 1.0 1.22465e-16 -1.0; 0.0 0.0 0.0 0.0], 1.0, false))]), StateCache{…}(…), StateCache{…}(…), EnvironmentJacobianCache{…}(…), 0.005, Bilevel.VariableSelector(Dict(:qnext=>1:7,:vnext=>8:13), 13), Bilevel.ConstraintSelector(Dict(:dyn=>8:13,:kin=>1:7), [1, 2, 3, 4, 5, 6, 7, 8, 9, 10, 11, 12, 13], Int64[], 13, 13, 0), :generate_solver_fn_sim_direct, :extract_sol_sim_direct, Bilevel.VariableSelector[], Bilevel.ConstraintSelector[], Dict[], Bilevel.VariableSelector[VariableSelector(Dict(:c_n1=>1:1), 1)], Bilevel.ConstraintSelector[ConstraintSelector(Dict(:c_n_pos1=>1:1,:ϕ1=>2:2), Int64[], [1, 2], 2, 0, 2)], Dict[Dict{String,Any}(\"num_sosteps\"=>10,\"c\"=>10,\"c_fos\"=>10,\"num_fosteps\"=>1,\"c_sos\"=>1)], Bilevel.VariableSelector[VariableSelector(Dict(:β1=>1:4), 4)], Bilevel.ConstraintSelector[ConstraintSelector(Dict(:β_pos1=>1:4,:fric_cone1=>5:5), Int64[], [1, 2, 3, 4, 5], 5, 0, 5)], Dict[Dict{String,Any}(\"num_sosteps\"=>10,\"c\"=>10,\"c_fos\"=>10,\"num_fosteps\"=>1,\"c_sos\"=>1)], 1, Tuple{Symbol,Any}[], Tuple{Symbol,Any}[])"
      ]
     },
     "execution_count": 10,
     "metadata": {},
     "output_type": "execute_result"
    }
   ],
   "source": [
    "sim_data = get_sim_data_direct(mechanism,env,Δt)"
   ]
  },
  {
   "cell_type": "code",
   "execution_count": 81,
   "metadata": {
    "collapsed": false
   },
   "outputs": [
    {
     "data": {
      "text/plain": [
       "generate_solver_fn (generic function with 1 method)"
      ]
     },
     "execution_count": 81,
     "metadata": {},
     "output_type": "execute_result"
    }
   ],
   "source": [
    "function normal_τ!(τ,sim_data::SimData,Hi,envj::EnvironmentJacobian,dyn_bias,u0,v0,x_upper::AbstractArray{U},n::Int) where U\n",
    "    num_contacts = length(sim_data.env.contacts)\n",
    "    env = sim_data.env\n",
    "    lower_vs = sim_data.normal_vs[n]\n",
    "    lower_cs = sim_data.normal_cs[n]\n",
    "    lower_options = sim_data.normal_options[n]\n",
    "    h = sim_data.Δt\n",
    "    \n",
    "    ϕAs = []\n",
    "    ϕbs = []\n",
    "    for i = 1:num_contacts\n",
    "        J = envj.contact_jacobians[i].J\n",
    "        ϕ = envj.contact_jacobians[i].ϕ\n",
    "        N = envj.contact_jacobians[i].N\n",
    "    \n",
    "        ϕA = h^2*N*Hi*J\n",
    "        ϕb = N*(h^2*Hi*(dyn_bias - u0) .- h*v0) .- ϕ \n",
    "\n",
    "        push!(ϕAs,ϕA)\n",
    "        push!(ϕbs,ϕb)\n",
    "    end\n",
    "    \n",
    "    function eval_obj_(x::AbstractArray{L}) where L\n",
    "        obj = 0.\n",
    "\n",
    "        for i = 1:num_contacts\n",
    "            c_n = lower_vs(x, Symbol(\"c_n\", i))\n",
    "            obj += c_n'*c_n\n",
    "        end\n",
    "\n",
    "        obj\n",
    "    end\n",
    "\n",
    "    function eval_cons_(x::AbstractArray{L}) where L\n",
    "        g = []\n",
    "\n",
    "        for i = 1:num_contacts\n",
    "            c_n = lower_vs(x, Symbol(\"c_n\", i))\n",
    "            g = vcat(g, -c_n)\n",
    "            g = vcat(g, ϕAs[i]*vcat(c_n, zeros(4)) + ϕbs[i])\n",
    "        end\n",
    "        \n",
    "        g\n",
    "    end\n",
    "\n",
    "    fres = DiffResults.HessianResult(zeros(U, lower_vs.num_vars))\n",
    "    gres = DiffResults.JacobianResult(zeros(U, lower_cs.num_cons), zeros(U, lower_vs.num_vars))\n",
    "    solver_fn_ = generate_autodiff_solver_fn(eval_obj_,fres,eval_cons_,gres,lower_cs.eqs,lower_cs.ineqs)\n",
    "\n",
    "    x0 = zeros(lower_vs.num_vars)\n",
    "\n",
    "    xopt, info = Bilevel.auglag(solver_fn_, lower_cs.num_eqs, lower_cs.num_ineqs, x0, lower_options)\n",
    "    \n",
    "    τ .= mapreduce(+, enumerate(envj.contact_jacobians)) do (i,cj)\n",
    "        contact_τ(cj, lower_vs(xopt, Symbol(\"c_n\", i)), zeros(4))\n",
    "    end\n",
    "    \n",
    "#     display(\"normal\")\n",
    "#     solver_fn_snopt = generate_autodiff_solver_fn(eval_obj_,eval_cons_,lower_cs.eqs,lower_cs.ineqs)\n",
    "#     options_snopt = Dict{String, Any}()\n",
    "#     options_snopt[\"Derivative option\"] = 1\n",
    "#     options_snopt[\"Verify level\"] = -1 # -1 => 0ff, 0 => cheap\n",
    "#     xopt_snopt, info_snopt = snopt(solver_fn_snopt, lower_cs.num_eqs, lower_cs.num_ineqs, x0, options_snopt)\n",
    "#     display(info_snopt)\n",
    "#     τ_snopt = zeros(length(τ))\n",
    "#     τ_snopt .= mapreduce(+, enumerate(envj.contact_jacobians)) do (i,cj)\n",
    "#         contact_τ(cj, lower_vs(xopt_snopt, Symbol(\"c_n\", i)), zeros(4))\n",
    "#     end\n",
    "#     display(\"snopt\")\n",
    "#     display(xopt_snopt)\n",
    "#     display(τ_snopt)\n",
    "#     display(\"auglag\")\n",
    "#     display(xopt)\n",
    "#     display(τ)\n",
    "    \n",
    "    xopt\n",
    "end\n",
    "\n",
    "function friction_τ!(τ,sim_data::SimData,Hi,envj::EnvironmentJacobian,dyn_bias,u0,v0,x_upper::AbstractArray{U},x_normal,n::Int) where U\n",
    "    num_contacts = length(sim_data.env.contacts)\n",
    "    env = sim_data.env\n",
    "    normal_vs = sim_data.normal_vs[n]\n",
    "    lower_vs = sim_data.fric_vs[n]\n",
    "    lower_cs = sim_data.fric_cs[n]\n",
    "    lower_options = sim_data.fric_options[n]\n",
    "    h = sim_data.Δt\n",
    "    \n",
    "    Qds = []\n",
    "    rds = []\n",
    "    for i = 1:num_contacts\n",
    "        J = envj.contact_jacobians[i].J\n",
    "        ϕ = envj.contact_jacobians[i].ϕ\n",
    "        N = envj.contact_jacobians[i].N\n",
    "        \n",
    "        Qd = h^2*J'*Hi*J\n",
    "        rd = J'*(h^2*Hi*(dyn_bias - u0) .- h*v0)\n",
    "\n",
    "        push!(Qds,Qd)\n",
    "        push!(rds,rd)\n",
    "    end\n",
    "\n",
    "    function eval_obj_(x::AbstractArray{L}) where L\n",
    "        obj = 0.\n",
    "\n",
    "        for i = 1:num_contacts\n",
    "            c_n = normal_vs(x_normal, Symbol(\"c_n\", i))\n",
    "            β = lower_vs(x, Symbol(\"β\", i))\n",
    "            z = vcat(c_n, β)\n",
    "            obj += .5*z'*Qds[i]*z + z'*rds[i]\n",
    "        end\n",
    "\n",
    "        obj\n",
    "    end\n",
    "\n",
    "    function eval_cons_(x::AbstractArray{L}) where L\n",
    "        g = []\n",
    "        \n",
    "        for i = 1:num_contacts\n",
    "            c_n = normal_vs(x_normal, Symbol(\"c_n\", i))\n",
    "            β = lower_vs(x, Symbol(\"β\", i))\n",
    "            g = vcat(g, -β)\n",
    "            g = vcat(g, sum(β) .- env.contacts[i].obstacle.μ * c_n)\n",
    "        end\n",
    "        \n",
    "        g\n",
    "    end\n",
    "\n",
    "    fres = DiffResults.HessianResult(zeros(U, lower_vs.num_vars))\n",
    "    gres = DiffResults.JacobianResult(zeros(U, lower_cs.num_cons), zeros(U, lower_vs.num_vars))\n",
    "    solver_fn_ = generate_autodiff_solver_fn(eval_obj_,fres,eval_cons_,gres,lower_cs.eqs,lower_cs.ineqs)\n",
    "\n",
    "    x0 = zeros(lower_vs.num_vars)\n",
    "\n",
    "    xopt, info = Bilevel.auglag(solver_fn_, lower_cs.num_eqs, lower_cs.num_ineqs, x0, lower_options)\n",
    "    \n",
    "    τ .= mapreduce(+, enumerate(envj.contact_jacobians)) do (i,cj)\n",
    "        contact_τ(cj, normal_vs(x_normal, Symbol(\"c_n\", i)), lower_vs(xopt, Symbol(\"β\", i)))\n",
    "    end\n",
    "    \n",
    "#     display(\"friction\")\n",
    "#     solver_fn_snopt = generate_autodiff_solver_fn(eval_obj_,eval_cons_,lower_cs.eqs,lower_cs.ineqs)\n",
    "#     options_snopt = Dict{String, Any}()\n",
    "#     options_snopt[\"Derivative option\"] = 1\n",
    "#     options_snopt[\"Verify level\"] = -1 # -1 => 0ff, 0 => cheap\n",
    "#     xopt_snopt, info_snopt = snopt(solver_fn_snopt, lower_cs.num_eqs, lower_cs.num_ineqs, x0, options_snopt)\n",
    "#     display(info_snopt)\n",
    "#     τ_snopt = zeros(length(τ))\n",
    "#     τ_snopt .= mapreduce(+, enumerate(envj.contact_jacobians)) do (i,cj)\n",
    "#         contact_τ(cj, normal_vs(x_normal, Symbol(\"c_n\", i)), lower_vs(xopt, Symbol(\"β\", i)))\n",
    "#     end\n",
    "#     display(\"snopt\")\n",
    "#     display(xopt_snopt)\n",
    "#     display(τ_snopt)\n",
    "#     display(\"auglag\")\n",
    "#     display(xopt)\n",
    "#     display(τ)\n",
    "\n",
    "    xopt\n",
    "end\n",
    "\n",
    "function generate_solver_fn(sim_data,q0,v0,u0)\n",
    "    x0 = sim_data.x0_cache[Float64]\n",
    "    envj = sim_data.envj_cache[Float64]\n",
    "    Δt = sim_data.Δt\n",
    "    vs = sim_data.vs\n",
    "    cs = sim_data.cs\n",
    "    \n",
    "    num_contacts = length(sim_data.env.contacts)\n",
    "    num_vel = num_velocities(sim_data.mechanism)\n",
    "\n",
    "    set_configuration!(x0, q0)\n",
    "    set_velocity!(x0, v0)\n",
    "    H = mass_matrix(x0)\n",
    "    Hi = inv(H)\n",
    "    \n",
    "    contact_jacobian!(envj, x0)\n",
    "    dyn_bias0 = dynamics_bias(x0) # TODO preallocate\n",
    "\n",
    "    function eval_cons(x::AbstractArray{T}) where T\n",
    "        xn = sim_data.xn_cache[T]\n",
    "        \n",
    "        normal_bias = Vector{T}(undef, num_vel)\n",
    "        contact_bias = Vector{T}(undef, num_vel)\n",
    "        g = Vector{T}(undef, cs.num_eqs + cs.num_ineqs) # TODO preallocate\n",
    "\n",
    "        qnext = vs(x, :qnext)\n",
    "        vnext = vs(x, :vnext)\n",
    "        \n",
    "        set_configuration!(xn, qnext)\n",
    "        set_velocity!(xn, vnext)\n",
    "        \n",
    "        if (num_contacts > 0)\n",
    "            # compute normal forces\n",
    "            x_normal = normal_τ!(normal_bias, sim_data, Hi, envj, dyn_bias0, u0, v0, x, 1)\n",
    "                        \n",
    "            # compute friction forces\n",
    "            friction_τ!(contact_bias, sim_data, Hi, envj, dyn_bias0, u0, v0, x, x_normal, 1)\n",
    "        end\n",
    "        config_derivative = configuration_derivative(xn)\n",
    "        dyn_bias = dynamics_bias(xn)\n",
    "\n",
    "        g[cs(:kin)] .= qnext .- q0 .- Δt .* config_derivative\n",
    "        g[cs(:dyn)] .= H * (vnext - v0) .- Δt .* (u0 .- dyn_bias .- contact_bias)\n",
    "\n",
    "        g\n",
    "    end\n",
    "        \n",
    "    eval_cons\n",
    "end"
   ]
  },
  {
   "cell_type": "code",
   "execution_count": 90,
   "metadata": {
    "collapsed": false
   },
   "outputs": [
    {
     "data": {
      "text/plain": [
       "eval_cons (generic function with 1 method)"
      ]
     },
     "execution_count": 90,
     "metadata": {},
     "output_type": "execute_result"
    }
   ],
   "source": [
    "q0 = [1., 0., 0., 0., 0., 0., 1.]\n",
    "v0 = [0., 0., 0., 1., 0., 0.]\n",
    "u0 = [0., 0., 0., 0., 0., 0.]\n",
    "\n",
    "sim_data.normal_options[1][\"num_fosteps\"] = 0\n",
    "sim_data.normal_options[1][\"num_sosteps\"] = 15\n",
    "sim_data.normal_options[1][\"c\"] = 1\n",
    "sim_data.normal_options[1][\"c_fos\"] = 1\n",
    "sim_data.normal_options[1][\"c_sos\"] = 1\n",
    "\n",
    "sim_data.fric_options[1][\"num_fosteps\"] = 0\n",
    "sim_data.fric_options[1][\"num_sosteps\"] = 15\n",
    "sim_data.fric_options[1][\"c\"] = 1\n",
    "sim_data.fric_options[1][\"c_fos\"] = 1\n",
    "sim_data.fric_options[1][\"c_sos\"] = 1\n",
    "\n",
    "eval_cons = generate_solver_fn(sim_data,q0,v0,u0)"
   ]
  },
  {
   "cell_type": "code",
   "execution_count": 91,
   "metadata": {
    "collapsed": false
   },
   "outputs": [
    {
     "data": {
      "text/plain": [
       "13-element Array{Float64,1}:\n",
       "  0.0                  \n",
       "  0.0                  \n",
       "  0.0                  \n",
       "  0.0                  \n",
       " -0.005                \n",
       "  0.0                  \n",
       "  0.0                  \n",
       "  0.0                  \n",
       "  0.0                  \n",
       "  0.0                  \n",
       " -3.429977435310207e-11\n",
       " -7.54588907562469e-15 \n",
       "  0.04904999999999349  "
      ]
     },
     "execution_count": 91,
     "metadata": {},
     "output_type": "execute_result"
    }
   ],
   "source": [
    "x = vcat(q0,v0)\n",
    "sol = eval_cons(x)"
   ]
  },
  {
   "cell_type": "code",
   "execution_count": 92,
   "metadata": {
    "collapsed": false
   },
   "outputs": [
    {
     "data": {
      "text/plain": [
       "13×13 Array{Float64,2}:\n",
       "  1.0     0.0      0.0      0.0   0.0  …   0.0      0.0     0.0     0.0  \n",
       "  0.0     1.0      0.0      0.0   0.0      0.0      0.0     0.0     0.0  \n",
       "  0.0     0.0      1.0      0.0   0.0      0.0      0.0     0.0     0.0  \n",
       "  0.0     0.0      0.0      1.0   0.0     -0.0025   0.0     0.0     0.0  \n",
       " -0.01    0.0      0.0      0.0   1.0      0.0     -0.005   0.0     0.0  \n",
       "  0.0     0.0      0.0     -0.01  0.0  …   0.0      0.0    -0.005   0.0  \n",
       "  0.0     0.0      0.01     0.0   0.0      0.0      0.0     0.0    -0.005\n",
       "  0.0     0.0      0.0      0.0   0.0      0.0      0.0     0.0     0.0  \n",
       "  0.0     0.0      0.0      0.0   0.0      0.0      0.0     0.0     0.0  \n",
       "  0.0     0.0      0.0      0.0   0.0      1.0e-6   0.0     0.0     0.0  \n",
       "  0.0     0.0     -0.0981   0.0   0.0  …   0.0      1.0     0.0     0.0  \n",
       "  0.0     0.0981   0.0      0.0   0.0      0.005    0.0     1.0     0.0  \n",
       "  0.0981  0.0      0.0      0.0   0.0      0.0      0.0     0.0     1.0  "
      ]
     },
     "execution_count": 92,
     "metadata": {},
     "output_type": "execute_result"
    }
   ],
   "source": [
    "J = ForwardDiff.jacobian(eval_cons, x)"
   ]
  },
  {
   "cell_type": "code",
   "execution_count": 93,
   "metadata": {
    "collapsed": false
   },
   "outputs": [
    {
     "data": {
      "text/plain": [
       "13×13 Array{Float64,2}:\n",
       "  1.0      0.0           0.0          …   0.0      0.0     0.0     0.0  \n",
       "  0.0      1.0           0.0              0.0      0.0     0.0     0.0  \n",
       "  0.0      0.0           1.0              0.0      0.0     0.0     0.0  \n",
       "  0.0      0.0           0.0             -0.0025   0.0     0.0     0.0  \n",
       " -0.01    -5.82077e-11   5.82077e-11      0.0     -0.005   0.0     0.0  \n",
       "  0.0      0.0           0.0          …   0.0      0.0    -0.005   0.0  \n",
       "  0.0      0.0           0.01             0.0      0.0     0.0    -0.005\n",
       "  0.0      0.0           0.0              0.0      0.0     0.0     0.0  \n",
       "  0.0      0.0           0.0              0.0      0.0     0.0     0.0  \n",
       "  0.0      0.0           0.0              1.0e-6   0.0     0.0     0.0  \n",
       "  0.0      0.0          -0.0981       …   0.0      1.0     0.0     0.0  \n",
       "  0.0      0.0981        0.0              0.005    0.0     1.0     0.0  \n",
       "  0.0981  -9.31323e-10  -9.31323e-10      0.0      0.0     0.0     1.0  "
      ]
     },
     "execution_count": 93,
     "metadata": {},
     "output_type": "execute_result"
    }
   ],
   "source": [
    "ϵ = sqrt(eps(1.))\n",
    "J_num = zeros(size(J))\n",
    "for i = 1:length(x)\n",
    "    δ = zeros(length(x))\n",
    "    δ[i] = ϵ\n",
    "    J_num[:,i] = (eval_cons(x + δ) .- sol)/ϵ\n",
    "end\n",
    "J_num"
   ]
  },
  {
   "cell_type": "code",
   "execution_count": 94,
   "metadata": {
    "collapsed": false
   },
   "outputs": [
    {
     "data": {
      "text/plain": [
       "9.313225746154785e-10"
      ]
     },
     "execution_count": 94,
     "metadata": {},
     "output_type": "execute_result"
    }
   ],
   "source": [
    "maximum(abs.(J_num - J))"
   ]
  }
 ],
 "metadata": {
  "kernelspec": {
   "display_name": "Julia 1.1.0",
   "language": "julia",
   "name": "julia-1.1"
  },
  "language_info": {
   "file_extension": ".jl",
   "mimetype": "application/julia",
   "name": "julia",
   "version": "1.1.0"
  }
 },
 "nbformat": 4,
 "nbformat_minor": 2
}
