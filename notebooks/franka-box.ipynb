{
 "cells": [
  {
   "cell_type": "code",
   "execution_count": 1,
   "metadata": {
    "collapsed": false
   },
   "outputs": [
    {
     "data": {
      "text/html": [
       "    <script class='js-collapse-script'>\n",
       "        var curMatch =\n",
       "            window.location.href\n",
       "            .match(/(.*?)\\/notebooks\\/.*\\.ipynb/);\n",
       "\n",
       "        curMatch = curMatch ||\n",
       "            window.location.href\n",
       "            .match(/(.*?)\\/apps\\/.*\\.ipynb/);\n",
       "\n",
       "        if ( curMatch ) {\n",
       "            $('head').append('<base href=\"' + curMatch[1] + '/\">');\n",
       "        }\n",
       "    </script>\n"
      ],
      "text/plain": [
       "HTML{String}(\"    <script class='js-collapse-script'>\\n        var curMatch =\\n            window.location.href\\n            .match(/(.*?)\\\\/notebooks\\\\/.*\\\\.ipynb/);\\n\\n        curMatch = curMatch ||\\n            window.location.href\\n            .match(/(.*?)\\\\/apps\\\\/.*\\\\.ipynb/);\\n\\n        if ( curMatch ) {\\n            \\$('head').append('<base href=\\\"' + curMatch[1] + '/\\\">');\\n        }\\n    </script>\\n\")"
      ]
     },
     "metadata": {},
     "output_type": "display_data"
    },
    {
     "data": {
      "text/html": [
       "<script class='js-collapse-script' src='/assetserver/8c8a043c2f00369f3e7ae550277d2a54e59a34ad-assets/webio/dist/bundle.js'></script>"
      ],
      "text/plain": [
       "HTML{String}(\"<script class='js-collapse-script' src='/assetserver/8c8a043c2f00369f3e7ae550277d2a54e59a34ad-assets/webio/dist/bundle.js'></script>\")"
      ]
     },
     "metadata": {},
     "output_type": "display_data"
    },
    {
     "data": {
      "text/html": [
       "<script class='js-collapse-script' src='/assetserver/8c8a043c2f00369f3e7ae550277d2a54e59a34ad-assets/providers/ijulia_setup.js'></script>"
      ],
      "text/plain": [
       "HTML{String}(\"<script class='js-collapse-script' src='/assetserver/8c8a043c2f00369f3e7ae550277d2a54e59a34ad-assets/providers/ijulia_setup.js'></script>\")"
      ]
     },
     "metadata": {},
     "output_type": "display_data"
    },
    {
     "data": {
      "text/html": [
       "  <script class='js-collapse-script'>\n",
       "    $('.js-collapse-script').parent('.output_subarea').css('padding', '0');\n",
       "  </script>\n"
      ],
      "text/plain": [
       "HTML{String}(\"  <script class='js-collapse-script'>\\n    \\$('.js-collapse-script').parent('.output_subarea').css('padding', '0');\\n  </script>\\n\")"
      ]
     },
     "metadata": {},
     "output_type": "display_data"
    },
    {
     "name": "stderr",
     "output_type": "stream",
     "text": [
      "\u001b[1m\u001b[36mINFO: \u001b[39m\u001b[22m\u001b[36mLoading HttpServer methods...\n",
      "\u001b[39m"
     ]
    }
   ],
   "source": [
    "using Revise\n",
    "using MeshCat\n",
    "using RigidBodyDynamics\n",
    "using RigidBodyDynamics: Bounds\n",
    "using MeshCatMechanisms\n",
    "using BilevelTrajOpt\n",
    "using GeometryTypes"
   ]
  },
  {
   "cell_type": "code",
   "execution_count": 2,
   "metadata": {
    "collapsed": true
   },
   "outputs": [],
   "source": [
    "urdf = joinpath(\"..\", \"urdf\", \"panda\", \"panda_arm_box.urdf\")\n",
    "mechanism = parse_urdf(Float64, urdf)\n",
    "box = findbody(mechanism, \"box\")\n",
    "basejoint = joint_to_parent(box, mechanism)\n",
    "floatingjoint = Joint(basejoint.name, frame_before(basejoint), frame_after(basejoint), QuaternionFloating{Float64}())\n",
    "replace_joint!(mechanism, basejoint, floatingjoint)\n",
    "position_bounds(floatingjoint) .= Bounds(-100, 100)\n",
    "velocity_bounds(floatingjoint) .= Bounds(-100, 100)"
   ]
  },
  {
   "cell_type": "code",
   "execution_count": 3,
   "metadata": {
    "collapsed": false
   },
   "outputs": [
    {
     "data": {
      "text/plain": [
       "(::controller!) (generic function with 1 method)"
      ]
     },
     "execution_count": 3,
     "metadata": {},
     "output_type": "execute_result"
    }
   ],
   "source": [
    "function make_end_effector_controller(state::MechanismState,\n",
    "                                      end_effector::RigidBody,\n",
    "                                      end_effector_point::Point3D,\n",
    "                                      desired_point::Point3D)\n",
    "    \n",
    "    mechanism = state.mechanism\n",
    "    v̇ = similar(velocity(state))\n",
    "    \n",
    "    joint_path = path(mechanism, root_body(mechanism), end_effector) # from root to end effector\n",
    "    Jp = point_jacobian(state, joint_path, transform(state, end_effector_point, root_frame(mechanism)))\n",
    "        \n",
    "    function controller!(τ, t, state)\n",
    "        ef_point_in_world = transform_to_root(state, end_effector) * end_effector_point\n",
    "        point_jacobian!(Jp, state, joint_path, ef_point_in_world)\n",
    "        des_point_in_world = transform(state, desired_point, root_frame(mechanism))\n",
    "        Kp = 100.\n",
    "        Kd = 10.\n",
    "        Δp = des_point_in_world - ef_point_in_world\n",
    "        v̇ .= Kp * Array(Jp)' * Δp.v .- Kd .* velocity(state)\n",
    "        τ .= inverse_dynamics(state, v̇)\n",
    "        τ[1:7] .= 0. # the box\n",
    "    end\n",
    "end\n",
    "\n",
    "state = MechanismState(mechanism)\n",
    "desired_point_v = [1., 0., .25]\n",
    "end_effector = findbody(mechanism, \"panda_link8\")\n",
    "end_effector_point = Point3D(default_frame(end_effector), [0.,0.,0.])\n",
    "desired_point = Point3D(root_frame(mechanism), desired_point_v)\n",
    "point_ctrl! = make_end_effector_controller(state, end_effector, end_effector_point, desired_point);"
   ]
  },
  {
   "cell_type": "code",
   "execution_count": null,
   "metadata": {
    "collapsed": true
   },
   "outputs": [],
   "source": [
    "# q0 = [1.0,0.0,0.0,0.0,1.0,0.0,0.25,0.000915268,0.940503,0.020397,-1.54156,0.0731173,-2.20121,0.138407]\n",
    "# v0 = vcat([0.,0.,0.,0.,0.,0.],zeros(7))\n",
    "# set_configuration!(state, q0)\n",
    "# set_velocity!(state, zeros(num_velocities(mechanism)))\n",
    "# final_time = 5.0\n",
    "# t, q, v = RigidBodyDynamics.simulate(state, final_time, point_ctrl!);"
   ]
  },
  {
   "cell_type": "code",
   "execution_count": 4,
   "metadata": {
    "collapsed": false
   },
   "outputs": [
    {
     "data": {
      "text/plain": [
       "BilevelTrajOpt.Environment(Tuple{RigidBodyDynamics.RigidBody,RigidBodyDynamics.Spatial.Point3D,BilevelTrajOpt.Obstacle}[(box, Point3D in \"after_floor_to_box\": [-0.25, -0.25, -0.25], BilevelTrajOpt.Obstacle(BilevelTrajOpt.HalfSpace(Point3D in \"after_floor_to_world\": [0.0, 0.0, 0.0], FreeVector3D in \"after_floor_to_world\": [0.0, 0.0, 1.0]), 0.01, RigidBodyDynamics.Spatial.FreeVector3D[FreeVector3D in \"after_floor_to_world\": [1.0, 0.0, 0.0], FreeVector3D in \"after_floor_to_world\": [6.12323e-17, 1.0, 0.0], FreeVector3D in \"after_floor_to_world\": [-1.0, 1.22465e-16, 0.0], FreeVector3D in \"after_floor_to_world\": [-1.83697e-16, -1.0, 0.0]])), (box, Point3D in \"after_floor_to_box\": [-0.25, 0.25, -0.25], BilevelTrajOpt.Obstacle(BilevelTrajOpt.HalfSpace(Point3D in \"after_floor_to_world\": [0.0, 0.0, 0.0], FreeVector3D in \"after_floor_to_world\": [0.0, 0.0, 1.0]), 0.01, RigidBodyDynamics.Spatial.FreeVector3D[FreeVector3D in \"after_floor_to_world\": [1.0, 0.0, 0.0], FreeVector3D in \"after_floor_to_world\": [6.12323e-17, 1.0, 0.0], FreeVector3D in \"after_floor_to_world\": [-1.0, 1.22465e-16, 0.0], FreeVector3D in \"after_floor_to_world\": [-1.83697e-16, -1.0, 0.0]])), (box, Point3D in \"after_floor_to_box\": [0.25, -0.25, -0.25], BilevelTrajOpt.Obstacle(BilevelTrajOpt.HalfSpace(Point3D in \"after_floor_to_world\": [0.0, 0.0, 0.0], FreeVector3D in \"after_floor_to_world\": [0.0, 0.0, 1.0]), 0.01, RigidBodyDynamics.Spatial.FreeVector3D[FreeVector3D in \"after_floor_to_world\": [1.0, 0.0, 0.0], FreeVector3D in \"after_floor_to_world\": [6.12323e-17, 1.0, 0.0], FreeVector3D in \"after_floor_to_world\": [-1.0, 1.22465e-16, 0.0], FreeVector3D in \"after_floor_to_world\": [-1.83697e-16, -1.0, 0.0]])), (box, Point3D in \"after_floor_to_box\": [0.25, 0.25, -0.25], BilevelTrajOpt.Obstacle(BilevelTrajOpt.HalfSpace(Point3D in \"after_floor_to_world\": [0.0, 0.0, 0.0], FreeVector3D in \"after_floor_to_world\": [0.0, 0.0, 1.0]), 0.01, RigidBodyDynamics.Spatial.FreeVector3D[FreeVector3D in \"after_floor_to_world\": [1.0, 0.0, 0.0], FreeVector3D in \"after_floor_to_world\": [6.12323e-17, 1.0, 0.0], FreeVector3D in \"after_floor_to_world\": [-1.0, 1.22465e-16, 0.0], FreeVector3D in \"after_floor_to_world\": [-1.83697e-16, -1.0, 0.0]])), (panda_link8, Point3D in \"after_panda_joint8\": [0.0, 0.0, 0.0], BilevelTrajOpt.Obstacle(BilevelTrajOpt.HalfSpace(Point3D in \"after_floor_to_world\": [0.0, 0.0, 0.0], FreeVector3D in \"after_floor_to_world\": [0.0, 0.0, 1.0]), 0.01, RigidBodyDynamics.Spatial.FreeVector3D[FreeVector3D in \"after_floor_to_world\": [1.0, 0.0, 0.0], FreeVector3D in \"after_floor_to_world\": [6.12323e-17, 1.0, 0.0], FreeVector3D in \"after_floor_to_world\": [-1.0, 1.22465e-16, 0.0], FreeVector3D in \"after_floor_to_world\": [-1.83697e-16, -1.0, 0.0]])), (panda_link8, Point3D in \"after_panda_joint8\": [0.0, 0.0, 0.0], BilevelTrajOpt.Obstacle(BilevelTrajOpt.HalfSpace(Point3D in \"after_floor_to_box\": [-0.25, 0.0, 0.0], FreeVector3D in \"after_floor_to_box\": [-1.0, 0.0, 0.0]), 0.01, RigidBodyDynamics.Spatial.FreeVector3D[FreeVector3D in \"after_floor_to_box\": [0.0, 0.0, 1.0], FreeVector3D in \"after_floor_to_box\": [0.0, 1.0, 6.12323e-17], FreeVector3D in \"after_floor_to_box\": [0.0, 1.22465e-16, -1.0], FreeVector3D in \"after_floor_to_box\": [0.0, -1.0, -1.83697e-16]]))])"
      ]
     },
     "execution_count": 4,
     "metadata": {},
     "output_type": "execute_result"
    }
   ],
   "source": [
    "q0 = [1.0,0.0,0.0,0.0,1.0,0.0,0.25,0.000915268,0.940503,0.020397,-1.54156,0.0731173,-2.20121,0.138407]\n",
    "v0 = vcat([0.,0.,0.,0.,0.,0.],zeros(7))\n",
    "x0 = MechanismState(mechanism)\n",
    "set_configuration!(x0, q0)\n",
    "set_velocity!(x0, v0)\n",
    "Δt = 0.01\n",
    "N = 10 #250\n",
    "\n",
    "# obstacles\n",
    "μ = 0.01\n",
    "motion_type = :xyz\n",
    "\n",
    "point = Point3D(default_frame(findbody(mechanism, \"floor\")), [0.,0.,0.])\n",
    "normal = FreeVector3D(default_frame(findbody(mechanism, \"floor\")), [0.,0.,1.])\n",
    "hs = HalfSpace(point, normal)\n",
    "floor = Obstacle(hs, μ, motion_type)\n",
    "\n",
    "point = Point3D(default_frame(findbody(mechanism, \"box\")), [-.25,0.,0.])\n",
    "normal = FreeVector3D(default_frame(findbody(mechanism, \"box\")), [-1.,0.,0.])\n",
    "hs = HalfSpace(point, normal)\n",
    "box = Obstacle(hs, μ, motion_type)\n",
    "\n",
    "obstacles = [floor,box]\n",
    "env = parse_contacts(mechanism, urdf, obstacles);"
   ]
  },
  {
   "cell_type": "code",
   "execution_count": 6,
   "metadata": {
    "collapsed": false
   },
   "outputs": [
    {
     "name": "stderr",
     "output_type": "stream",
     "text": [
      "WARNING: Method definition simulate(RigidBodyDynamics.MechanismState{T, M, C, JointCollection} where JointCollection where C, BilevelTrajOpt.Environment, Real, Integer, Any) in module BilevelTrajOpt at /Users/blandry/.julia/v0.6/BilevelTrajOpt/src/simulation.jl:209 overwritten at /Users/blandry/.julia/v0.6/BilevelTrajOpt/src/simulation.jl:209.\n",
      "WARNING: Method definition #simulate(Array{Any, 1}, typeof(BilevelTrajOpt.simulate), RigidBodyDynamics.MechanismState{T, M, C, JointCollection} where JointCollection where C, BilevelTrajOpt.Environment, Real, Integer, Any) in module BilevelTrajOpt overwritten.\n"
     ]
    },
    {
     "ename": "LoadError",
     "evalue": "\u001b[91mInterruptException:\u001b[39m",
     "output_type": "error",
     "traceback": [
      "\u001b[91mInterruptException:\u001b[39m",
      "",
      "Stacktrace:",
      " [1] \u001b[1mbroadcast_t\u001b[22m\u001b[22m at \u001b[1m./broadcast.jl:268\u001b[22m\u001b[22m [inlined]",
      " [2] \u001b[1mbroadcast_c\u001b[22m\u001b[22m at \u001b[1m./broadcast.jl:316\u001b[22m\u001b[22m [inlined]",
      " [3] \u001b[1mbroadcast\u001b[22m\u001b[22m at \u001b[1m./broadcast.jl:455\u001b[22m\u001b[22m [inlined]",
      " [4] \u001b[1m*\u001b[22m\u001b[22m\u001b[1m(\u001b[22m\u001b[22m::Float64, ::Array{Float64,2}\u001b[1m)\u001b[22m\u001b[22m at \u001b[1m./arraymath.jl:45\u001b[22m\u001b[22m",
      " [5] \u001b[1mauglag_solve\u001b[22m\u001b[22m\u001b[1m(\u001b[22m\u001b[22m::Array{Float64,1}, ::Function, ::BilevelTrajOpt.##66#79{BilevelTrajOpt.SimData,Array{Tuple{RigidBodyDynamics.Spatial.Transform3D{Float64},RigidBodyDynamics.Spatial.Transform3D{Float64}},1},Array{RigidBodyDynamics.Spatial.GeometricJacobian{Array{Float64,2}},1},Array{Float64,1},Array{Float64,1}}, ::BilevelTrajOpt.##67#80{BilevelTrajOpt.SimData,Array{Float64,2}}, ::Int64, ::Int64, ::Array{Int64,1}, ::Array{Float64,1}, ::Array{Float64,1}\u001b[1m)\u001b[22m\u001b[22m at \u001b[1m/Users/blandry/.julia/v0.6/BilevelTrajOpt/src/bilevel.jl:38\u001b[22m\u001b[22m",
      " [6] \u001b[1m#solve_implicit_contact_τ#54\u001b[22m\u001b[22m\u001b[1m(\u001b[22m\u001b[22m::Bool, ::Array{Int64,1}, ::Array{Float64,1}, ::Array{Float64,1}, ::Function, ::BilevelTrajOpt.SimData, ::Array{Float64,1}, ::Array{Float64,2}, ::Array{Tuple{RigidBodyDynamics.Spatial.Transform3D{Float64},RigidBodyDynamics.Spatial.Transform3D{Float64}},1}, ::Array{RigidBodyDynamics.Spatial.GeometricJacobian{Array{Float64,2}},1}, ::Array{Float64,1}, ::Array{Float64,1}, ::Array{Float64,1}\u001b[1m)\u001b[22m\u001b[22m at \u001b[1m/Users/blandry/.julia/v0.6/BilevelTrajOpt/src/contact.jl:208\u001b[22m\u001b[22m",
      " [7] \u001b[1m(::BilevelTrajOpt.#eval_g#98{BilevelTrajOpt.SimData,Array{Float64,1},Array{Float64,1},Array{Float64,1},Array{Float64,1},Symmetric{Float64,Array{Float64,2}}})\u001b[22m\u001b[22m\u001b[1m(\u001b[22m\u001b[22m::Array{Float64,1}, ::Array{Float64,1}\u001b[1m)\u001b[22m\u001b[22m at \u001b[1m/Users/blandry/.julia/v0.6/BilevelTrajOpt/src/simulation.jl:121\u001b[22m\u001b[22m",
      " [8] \u001b[1meval_g_wrapper\u001b[22m\u001b[22m\u001b[1m(\u001b[22m\u001b[22m::Int32, ::Ptr{Float64}, ::Int32, ::Int32, ::Ptr{Float64}, ::Ptr{Void}\u001b[1m)\u001b[22m\u001b[22m at \u001b[1m/Users/blandry/.julia/v0.6/Ipopt/src/Ipopt.jl:117\u001b[22m\u001b[22m",
      " [9] \u001b[1msolveProblem\u001b[22m\u001b[22m\u001b[1m(\u001b[22m\u001b[22m::Ipopt.IpoptProblem\u001b[1m)\u001b[22m\u001b[22m at \u001b[1m/Users/blandry/.julia/v0.6/Ipopt/src/Ipopt.jl:322\u001b[22m\u001b[22m",
      " [10] \u001b[1m#simulate#109\u001b[22m\u001b[22m\u001b[1m(\u001b[22m\u001b[22m::Bool, ::Function, ::RigidBodyDynamics.MechanismState{Float64,Float64,Float64,TypeSortedCollections.TypeSortedCollection{Tuple{Array{RigidBodyDynamics.Joint{Float64,RigidBodyDynamics.Fixed{Float64}},1},Array{RigidBodyDynamics.Joint{Float64,RigidBodyDynamics.QuaternionFloating{Float64}},1},Array{RigidBodyDynamics.Joint{Float64,RigidBodyDynamics.Revolute{Float64}},1}},3}}, ::BilevelTrajOpt.Environment, ::Float64, ::Int64, ::#controller!#2{RigidBodyDynamics.RigidBody{Float64},RigidBodyDynamics.Spatial.Point3D{Array{Float64,1}},RigidBodyDynamics.Spatial.Point3D{Array{Float64,1}},RigidBodyDynamics.Mechanism{Float64},RigidBodyDynamics.CustomCollections.SegmentedVector{RigidBodyDynamics.JointID,Float64,Base.OneTo{RigidBodyDynamics.JointID},Array{Float64,1}},RigidBodyDynamics.Graphs.TreePath{RigidBodyDynamics.RigidBody{Float64},RigidBodyDynamics.Joint{Float64,JT} where JT<:RigidBodyDynamics.JointType{Float64}},RigidBodyDynamics.Spatial.PointJacobian{Array{Float64,2}}}\u001b[1m)\u001b[22m\u001b[22m at \u001b[1m/Users/blandry/.julia/v0.6/BilevelTrajOpt/src/simulation.jl:266\u001b[22m\u001b[22m",
      " [11] \u001b[1m(::BilevelTrajOpt.#kw##simulate)\u001b[22m\u001b[22m\u001b[1m(\u001b[22m\u001b[22m::Array{Any,1}, ::BilevelTrajOpt.#simulate, ::RigidBodyDynamics.MechanismState{Float64,Float64,Float64,TypeSortedCollections.TypeSortedCollection{Tuple{Array{RigidBodyDynamics.Joint{Float64,RigidBodyDynamics.Fixed{Float64}},1},Array{RigidBodyDynamics.Joint{Float64,RigidBodyDynamics.QuaternionFloating{Float64}},1},Array{RigidBodyDynamics.Joint{Float64,RigidBodyDynamics.Revolute{Float64}},1}},3}}, ::BilevelTrajOpt.Environment, ::Float64, ::Int64, ::Function\u001b[1m)\u001b[22m\u001b[22m at \u001b[1m./<missing>:0\u001b[22m\u001b[22m",
      " [12] \u001b[1minclude_string\u001b[22m\u001b[22m\u001b[1m(\u001b[22m\u001b[22m::String, ::String\u001b[1m)\u001b[22m\u001b[22m at \u001b[1m./loading.jl:522\u001b[22m\u001b[22m",
      " [13] \u001b[1mexecute_request\u001b[22m\u001b[22m\u001b[1m(\u001b[22m\u001b[22m::ZMQ.Socket, ::IJulia.Msg\u001b[1m)\u001b[22m\u001b[22m at \u001b[1m/Users/blandry/.julia/v0.6/IJulia/src/execute_request.jl:193\u001b[22m\u001b[22m",
      " [14] \u001b[1m(::Compat.#inner#14{Array{Any,1},IJulia.#execute_request,Tuple{ZMQ.Socket,IJulia.Msg}})\u001b[22m\u001b[22m\u001b[1m(\u001b[22m\u001b[22m\u001b[1m)\u001b[22m\u001b[22m at \u001b[1m/Users/blandry/.julia/v0.6/Compat/src/Compat.jl:332\u001b[22m\u001b[22m",
      " [15] \u001b[1meventloop\u001b[22m\u001b[22m\u001b[1m(\u001b[22m\u001b[22m::ZMQ.Socket\u001b[1m)\u001b[22m\u001b[22m at \u001b[1m/Users/blandry/.julia/v0.6/IJulia/src/eventloop.jl:8\u001b[22m\u001b[22m",
      " [16] \u001b[1m(::IJulia.##13#16)\u001b[22m\u001b[22m\u001b[1m(\u001b[22m\u001b[22m\u001b[1m)\u001b[22m\u001b[22m at \u001b[1m./task.jl:335\u001b[22m\u001b[22m"
     ]
    }
   ],
   "source": [
    "traj = BilevelTrajOpt.simulate(x0,env,Δt,N,point_ctrl!,implicit_contact=true);\n",
    "q = [traj[1:num_positions(x0),i] for i in 1:N]\n",
    "t = cumsum([Δt for i in 1:N]);"
   ]
  },
  {
   "cell_type": "code",
   "execution_count": null,
   "metadata": {
    "collapsed": true
   },
   "outputs": [],
   "source": [
    "vis = Visualizer()\n",
    "open(vis)\n",
    "mvis = MechanismVisualizer(mechanism, URDFVisuals(urdf), vis);"
   ]
  },
  {
   "cell_type": "code",
   "execution_count": null,
   "metadata": {
    "collapsed": true
   },
   "outputs": [],
   "source": [
    "setanimation!(mvis, t, q)"
   ]
  },
  {
   "cell_type": "code",
   "execution_count": null,
   "metadata": {
    "collapsed": true
   },
   "outputs": [],
   "source": [
    "widget = manipulate!(mvis)"
   ]
  }
 ],
 "metadata": {
  "kernelspec": {
   "display_name": "Julia 0.6.4",
   "language": "julia",
   "name": "julia-0.6"
  },
  "language_info": {
   "file_extension": ".jl",
   "mimetype": "application/julia",
   "name": "julia",
   "version": "0.6.4"
  }
 },
 "nbformat": 4,
 "nbformat_minor": 2
}
