{
 "cells": [
  {
   "cell_type": "code",
   "execution_count": 1,
   "metadata": {},
   "outputs": [
    {
     "data": {
      "text/html": [
       "    <script class='js-collapse-script'>\n",
       "        var curMatch =\n",
       "            window.location.href\n",
       "            .match(/(.*?)\\/notebooks\\/.*\\.ipynb/);\n",
       "\n",
       "        curMatch = curMatch ||\n",
       "            window.location.href\n",
       "            .match(/(.*?)\\/apps\\/.*\\.ipynb/);\n",
       "\n",
       "        if ( curMatch ) {\n",
       "            $('head').append('<base href=\"' + curMatch[1] + '/\">');\n",
       "        }\n",
       "    </script>\n"
      ],
      "text/plain": [
       "HTML{String}(\"    <script class='js-collapse-script'>\\n        var curMatch =\\n            window.location.href\\n            .match(/(.*?)\\\\/notebooks\\\\/.*\\\\.ipynb/);\\n\\n        curMatch = curMatch ||\\n            window.location.href\\n            .match(/(.*?)\\\\/apps\\\\/.*\\\\.ipynb/);\\n\\n        if ( curMatch ) {\\n            \\$('head').append('<base href=\\\"' + curMatch[1] + '/\\\">');\\n        }\\n    </script>\\n\")"
      ]
     },
     "metadata": {},
     "output_type": "display_data"
    },
    {
     "data": {
      "text/html": [
       "<script class='js-collapse-script' src='/assetserver/9dd84cf97c4fc16956f39829c81f3b6907c8fc83-assets/webio/dist/bundle.js'></script>"
      ],
      "text/plain": [
       "HTML{String}(\"<script class='js-collapse-script' src='/assetserver/9dd84cf97c4fc16956f39829c81f3b6907c8fc83-assets/webio/dist/bundle.js'></script>\")"
      ]
     },
     "metadata": {},
     "output_type": "display_data"
    },
    {
     "data": {
      "text/html": [
       "<script class='js-collapse-script' src='/assetserver/9dd84cf97c4fc16956f39829c81f3b6907c8fc83-assets/providers/ijulia_setup.js'></script>"
      ],
      "text/plain": [
       "HTML{String}(\"<script class='js-collapse-script' src='/assetserver/9dd84cf97c4fc16956f39829c81f3b6907c8fc83-assets/providers/ijulia_setup.js'></script>\")"
      ]
     },
     "metadata": {},
     "output_type": "display_data"
    },
    {
     "data": {
      "text/html": [
       "  <script class='js-collapse-script'>\n",
       "    $('.js-collapse-script').parent('.output_subarea').css('padding', '0');\n",
       "  </script>\n"
      ],
      "text/plain": [
       "HTML{String}(\"  <script class='js-collapse-script'>\\n    \\$('.js-collapse-script').parent('.output_subarea').css('padding', '0');\\n  </script>\\n\")"
      ]
     },
     "metadata": {},
     "output_type": "display_data"
    },
    {
     "name": "stderr",
     "output_type": "stream",
     "text": [
      "\u001b[1m\u001b[36mINFO: \u001b[39m\u001b[22m\u001b[36mLoading HttpServer methods...\n",
      "\u001b[39mWARNING: Method definition parse_contacts(Any, Any, Any) in module BilevelTrajOpt at /home/blandry/.julia/v0.6/BilevelTrajOpt/src/environments.jl:66 overwritten at /home/blandry/.julia/v0.6/BilevelTrajOpt/src/environments.jl:88.\n"
     ]
    }
   ],
   "source": [
    "using Revise\n",
    "using MeshCat\n",
    "using RigidBodyDynamics\n",
    "using RigidBodyDynamics: Bounds\n",
    "using MeshCatMechanisms\n",
    "using BilevelTrajOpt\n",
    "using GeometryTypes"
   ]
  },
  {
   "cell_type": "code",
   "execution_count": 2,
   "metadata": {},
   "outputs": [
    {
     "name": "stdout",
     "output_type": "stream",
     "text": [
      "Listening on 0.0.0.0:8700...\n"
     ]
    },
    {
     "name": "stderr",
     "output_type": "stream",
     "text": [
      "\u001b[1m\u001b[36mInfo: \u001b[39m\u001b[22m\u001b[36mServing MeshCat visualizer at http://127.0.0.1:8700\n",
      "\u001b[39m"
     ]
    }
   ],
   "source": [
    "vis = Visualizer()\n",
    "open(vis)"
   ]
  },
  {
   "cell_type": "code",
   "execution_count": 26,
   "metadata": {},
   "outputs": [],
   "source": [
    "urdf = joinpath(\"..\", \"urdf\", \"panda\", \"panda_arm_box.urdf\")\n",
    "mechanism = parse_urdf(Float64, urdf)\n",
    "box = findbody(mechanism, \"box\")\n",
    "basejoint = joint_to_parent(box, mechanism)\n",
    "floatingjoint = Joint(basejoint.name, frame_before(basejoint), frame_after(basejoint), QuaternionFloating{Float64}())\n",
    "replace_joint!(mechanism, basejoint, floatingjoint)\n",
    "position_bounds(floatingjoint) .= Bounds(-100, 100)\n",
    "velocity_bounds(floatingjoint) .= Bounds(-100, 100)\n",
    "mvis = MechanismVisualizer(mechanism, URDFVisuals(urdf), vis);"
   ]
  },
  {
   "cell_type": "code",
   "execution_count": 27,
   "metadata": {},
   "outputs": [
    {
     "data": {
      "text/plain": [
       "(::controller!) (generic function with 1 method)"
      ]
     },
     "execution_count": 27,
     "metadata": {},
     "output_type": "execute_result"
    }
   ],
   "source": [
    "function make_end_effector_controller(state::MechanismState,\n",
    "                                      end_effector::RigidBody,\n",
    "                                      end_effector_point::Point3D,\n",
    "                                      desired_point::Point3D)\n",
    "    \n",
    "    mechanism = state.mechanism\n",
    "    v̇ = similar(velocity(state))\n",
    "    \n",
    "    joint_path = path(mechanism, root_body(mechanism), end_effector) # from root to end effector\n",
    "    Jp = point_jacobian(state, joint_path, transform(state, end_effector_point, root_frame(mechanism)))\n",
    "        \n",
    "    function controller!(τ, t, state)\n",
    "        ef_point_in_world = transform_to_root(state, end_effector) * end_effector_point\n",
    "        point_jacobian!(Jp, state, joint_path, ef_point_in_world)\n",
    "        des_point_in_world = transform(state, desired_point, root_frame(mechanism))\n",
    "        Kp = 100.\n",
    "        Kd = 10.\n",
    "        Δp = des_point_in_world - ef_point_in_world\n",
    "        v̇ .= Kp * Array(Jp)' * Δp.v .- Kd .* velocity(state)\n",
    "        τ .= inverse_dynamics(state, v̇)\n",
    "        τ[1:7] .= 0. # the box\n",
    "    end\n",
    "end\n",
    "\n",
    "state = MechanismState(mechanism)\n",
    "desired_point_v = [1., 0., .25]\n",
    "end_effector = findbody(mechanism, \"panda_link8\")\n",
    "end_effector_point = Point3D(default_frame(end_effector), [0.,0.,0.])\n",
    "desired_point = Point3D(root_frame(mechanism), desired_point_v)\n",
    "point_ctrl! = make_end_effector_controller(state, end_effector, end_effector_point, desired_point)"
   ]
  },
  {
   "cell_type": "code",
   "execution_count": 28,
   "metadata": {},
   "outputs": [],
   "source": [
    "# q0 = [1.,0.,0.,0.,0.,0.,0.,-0.00159265,\n",
    "#       0.858407,0.0184073,-1.89159,0.0884073,\n",
    "#       -1.94159,0.138407]\n",
    "q0 = [\n",
    "  1.0        \n",
    "  0.0        \n",
    "  0.0        \n",
    "  0.0        \n",
    "  1.0        \n",
    "  0.0        \n",
    "  0.25        \n",
    "  0.000915268\n",
    "  0.940503   \n",
    "  0.020397   \n",
    " -1.54156    \n",
    "  0.0731173  \n",
    " -2.20121  \n",
    "  0.138407\n",
    "]\n",
    "v0 = vcat([0.,0.,0.,0.,0.,0.], zeros(7))\n",
    "# set_configuration!(state, q0)\n",
    "# set_velocity!(state, zeros(num_velocities(mechanism)))\n",
    "# final_time = 5.0\n",
    "# t, q, v = RigidBodyDynamics.simulate(state, final_time, point_ctrl!);"
   ]
  },
  {
   "cell_type": "code",
   "execution_count": 33,
   "metadata": {},
   "outputs": [
    {
     "ename": "LoadError",
     "evalue": "\u001b[91mDimensionMismatch(\"arrays could not be broadcast to a common size\")\u001b[39m",
     "output_type": "error",
     "traceback": [
      "\u001b[91mDimensionMismatch(\"arrays could not be broadcast to a common size\")\u001b[39m",
      "",
      "Stacktrace:",
      " [1] \u001b[1m_bcs1\u001b[22m\u001b[22m\u001b[1m(\u001b[22m\u001b[22m::Base.OneTo{Int64}, ::Base.OneTo{Int64}\u001b[1m)\u001b[22m\u001b[22m at \u001b[1m./broadcast.jl:70\u001b[22m\u001b[22m",
      " [2] \u001b[1m_bcs\u001b[22m\u001b[22m at \u001b[1m./broadcast.jl:63\u001b[22m\u001b[22m [inlined]",
      " [3] \u001b[1mbroadcast_shape\u001b[22m\u001b[22m at \u001b[1m./broadcast.jl:57\u001b[22m\u001b[22m [inlined] (repeats 2 times)",
      " [4] \u001b[1mbroadcast_indices\u001b[22m\u001b[22m at \u001b[1m./broadcast.jl:53\u001b[22m\u001b[22m [inlined]",
      " [5] \u001b[1mbroadcast_c\u001b[22m\u001b[22m at \u001b[1m./broadcast.jl:313\u001b[22m\u001b[22m [inlined]",
      " [6] \u001b[1mbroadcast\u001b[22m\u001b[22m\u001b[1m(\u001b[22m\u001b[22m::Function, ::Array{Float64,1}, ::Array{ForwardDiff.Dual{ForwardDiff.Tag{BilevelTrajOpt.##11#12{Array{Float64,1},Array{Float64,1},Float64,BilevelTrajOpt.##65#68{BilevelTrajOpt.SimData,Array{ForwardDiff.Dual{ForwardDiff.Tag{BilevelTrajOpt.##87#93{BilevelTrajOpt.#eval_g#88{BilevelTrajOpt.SimData,Array{Float64,1},Array{Float64,1},Array{Float64,1},Array{Float64,1},Symmetric{Float64,Array{Float64,2}}}},Float64},Float64,10},1},Array{ForwardDiff.Dual{ForwardDiff.Tag{BilevelTrajOpt.##87#93{BilevelTrajOpt.#eval_g#88{BilevelTrajOpt.SimData,Array{Float64,1},Array{Float64,1},Array{Float64,1},Array{Float64,1},Symmetric{Float64,Array{Float64,2}}}},Float64},Float64,10},2},Array{Float64,1}},BilevelTrajOpt.##66#69{BilevelTrajOpt.SimData,Array{Tuple{RigidBodyDynamics.Spatial.Transform3D{ForwardDiff.Dual{ForwardDiff.Tag{BilevelTrajOpt.##87#93{BilevelTrajOpt.#eval_g#88{BilevelTrajOpt.SimData,Array{Float64,1},Array{Float64,1},Array{Float64,1},Array{Float64,1},Symmetric{Float64,Array{Float64,2}}}},Float64},Float64,10}},RigidBodyDynamics.Spatial.Transform3D{ForwardDiff.Dual{ForwardDiff.Tag{BilevelTrajOpt.##87#93{BilevelTrajOpt.#eval_g#88{BilevelTrajOpt.SimData,Array{Float64,1},Array{Float64,1},Array{Float64,1},Array{Float64,1},Symmetric{Float64,Array{Float64,2}}}},Float64},Float64,10}}},1},Array{RigidBodyDynamics.Spatial.GeometricJacobian{Array{ForwardDiff.Dual{ForwardDiff.Tag{BilevelTrajOpt.##87#93{BilevelTrajOpt.#eval_g#88{BilevelTrajOpt.SimData,Array{Float64,1},Array{Float64,1},Array{Float64,1},Array{Float64,1},Symmetric{Float64,Array{Float64,2}}}},Float64},Float64,10},2}},1},Array{ForwardDiff.Dual{ForwardDiff.Tag{BilevelTrajOpt.##87#93{BilevelTrajOpt.#eval_g#88{BilevelTrajOpt.SimData,Array{Float64,1},Array{Float64,1},Array{Float64,1},Array{Float64,1},Symmetric{Float64,Array{Float64,2}}}},Float64},Float64,10},1},Array{ForwardDiff.Dual{ForwardDiff.Tag{BilevelTrajOpt.##87#93{BilevelTrajOpt.#eval_g#88{BilevelTrajOpt.SimData,Array{Float64,1},Array{Float64,1},Array{Float64,1},Array{Float64,1},Symmetric{Float64,Array{Float64,2}}}},Float64},Float64,10},1}},BilevelTrajOpt.##67#70{BilevelTrajOpt.SimData,Array{ForwardDiff.Dual{ForwardDiff.Tag{BilevelTrajOpt.##87#93{BilevelTrajOpt.#eval_g#88{BilevelTrajOpt.SimData,Array{Float64,1},Array{Float64,1},Array{Float64,1},Array{Float64,1},Symmetric{Float64,Array{Float64,2}}}},Float64},Float64,10},2}}},Float64},ForwardDiff.Dual{ForwardDiff.Tag{BilevelTrajOpt.##87#93{BilevelTrajOpt.#eval_g#88{BilevelTrajOpt.SimData,Array{Float64,1},Array{Float64,1},Array{Float64,1},Array{Float64,1},Symmetric{Float64,Array{Float64,2}}}},Float64},Float64,10},9},1}\u001b[1m)\u001b[22m\u001b[22m at \u001b[1m./broadcast.jl:455\u001b[22m\u001b[22m",
      " [7] \u001b[1mL\u001b[22m\u001b[22m\u001b[1m(\u001b[22m\u001b[22m::Array{ForwardDiff.Dual{ForwardDiff.Tag{BilevelTrajOpt.##11#12{Array{Float64,1},Array{Float64,1},Float64,BilevelTrajOpt.##65#68{BilevelTrajOpt.SimData,Array{ForwardDiff.Dual{ForwardDiff.Tag{BilevelTrajOpt.##87#93{BilevelTrajOpt.#eval_g#88{BilevelTrajOpt.SimData,Array{Float64,1},Array{Float64,1},Array{Float64,1},Array{Float64,1},Symmetric{Float64,Array{Float64,2}}}},Float64},Float64,10},1},Array{ForwardDiff.Dual{ForwardDiff.Tag{BilevelTrajOpt.##87#93{BilevelTrajOpt.#eval_g#88{BilevelTrajOpt.SimData,Array{Float64,1},Array{Float64,1},Array{Float64,1},Array{Float64,1},Symmetric{Float64,Array{Float64,2}}}},Float64},Float64,10},2},Array{Float64,1}},BilevelTrajOpt.##66#69{BilevelTrajOpt.SimData,Array{Tuple{RigidBodyDynamics.Spatial.Transform3D{ForwardDiff.Dual{ForwardDiff.Tag{BilevelTrajOpt.##87#93{BilevelTrajOpt.#eval_g#88{BilevelTrajOpt.SimData,Array{Float64,1},Array{Float64,1},Array{Float64,1},Array{Float64,1},Symmetric{Float64,Array{Float64,2}}}},Float64},Float64,10}},RigidBodyDynamics.Spatial.Transform3D{ForwardDiff.Dual{ForwardDiff.Tag{BilevelTrajOpt.##87#93{BilevelTrajOpt.#eval_g#88{BilevelTrajOpt.SimData,Array{Float64,1},Array{Float64,1},Array{Float64,1},Array{Float64,1},Symmetric{Float64,Array{Float64,2}}}},Float64},Float64,10}}},1},Array{RigidBodyDynamics.Spatial.GeometricJacobian{Array{ForwardDiff.Dual{ForwardDiff.Tag{BilevelTrajOpt.##87#93{BilevelTrajOpt.#eval_g#88{BilevelTrajOpt.SimData,Array{Float64,1},Array{Float64,1},Array{Float64,1},Array{Float64,1},Symmetric{Float64,Array{Float64,2}}}},Float64},Float64,10},2}},1},Array{ForwardDiff.Dual{ForwardDiff.Tag{BilevelTrajOpt.##87#93{BilevelTrajOpt.#eval_g#88{BilevelTrajOpt.SimData,Array{Float64,1},Array{Float64,1},Array{Float64,1},Array{Float64,1},Symmetric{Float64,Array{Float64,2}}}},Float64},Float64,10},1},Array{ForwardDiff.Dual{ForwardDiff.Tag{BilevelTrajOpt.##87#93{BilevelTrajOpt.#eval_g#88{BilevelTrajOpt.SimData,Array{Float64,1},Array{Float64,1},Array{Float64,1},Array{Float64,1},Symmetric{Float64,Array{Float64,2}}}},Float64},Float64,10},1}},BilevelTrajOpt.##67#70{BilevelTrajOpt.SimData,Array{ForwardDiff.Dual{ForwardDiff.Tag{BilevelTrajOpt.##87#93{BilevelTrajOpt.#eval_g#88{BilevelTrajOpt.SimData,Array{Float64,1},Array{Float64,1},Array{Float64,1},Array{Float64,1},Symmetric{Float64,Array{Float64,2}}}},Float64},Float64,10},2}}},Float64},Float64,9},1}, ::Array{Float64,1}, ::Array{Float64,1}, ::Float64, ::BilevelTrajOpt.##65#68{BilevelTrajOpt.SimData,Array{ForwardDiff.Dual{ForwardDiff.Tag{BilevelTrajOpt.##87#93{BilevelTrajOpt.#eval_g#88{BilevelTrajOpt.SimData,Array{Float64,1},Array{Float64,1},Array{Float64,1},Array{Float64,1},Symmetric{Float64,Array{Float64,2}}}},Float64},Float64,10},1},Array{ForwardDiff.Dual{ForwardDiff.Tag{BilevelTrajOpt.##87#93{BilevelTrajOpt.#eval_g#88{BilevelTrajOpt.SimData,Array{Float64,1},Array{Float64,1},Array{Float64,1},Array{Float64,1},Symmetric{Float64,Array{Float64,2}}}},Float64},Float64,10},2},Array{Float64,1}}, ::BilevelTrajOpt.##66#69{BilevelTrajOpt.SimData,Array{Tuple{RigidBodyDynamics.Spatial.Transform3D{ForwardDiff.Dual{ForwardDiff.Tag{BilevelTrajOpt.##87#93{BilevelTrajOpt.#eval_g#88{BilevelTrajOpt.SimData,Array{Float64,1},Array{Float64,1},Array{Float64,1},Array{Float64,1},Symmetric{Float64,Array{Float64,2}}}},Float64},Float64,10}},RigidBodyDynamics.Spatial.Transform3D{ForwardDiff.Dual{ForwardDiff.Tag{BilevelTrajOpt.##87#93{BilevelTrajOpt.#eval_g#88{BilevelTrajOpt.SimData,Array{Float64,1},Array{Float64,1},Array{Float64,1},Array{Float64,1},Symmetric{Float64,Array{Float64,2}}}},Float64},Float64,10}}},1},Array{RigidBodyDynamics.Spatial.GeometricJacobian{Array{ForwardDiff.Dual{ForwardDiff.Tag{BilevelTrajOpt.##87#93{BilevelTrajOpt.#eval_g#88{BilevelTrajOpt.SimData,Array{Float64,1},Array{Float64,1},Array{Float64,1},Array{Float64,1},Symmetric{Float64,Array{Float64,2}}}},Float64},Float64,10},2}},1},Array{ForwardDiff.Dual{ForwardDiff.Tag{BilevelTrajOpt.##87#93{BilevelTrajOpt.#eval_g#88{BilevelTrajOpt.SimData,Array{Float64,1},Array{Float64,1},Array{Float64,1},Array{Float64,1},Symmetric{Float64,Array{Float64,2}}}},Float64},Float64,10},1},Array{ForwardDiff.Dual{ForwardDiff.Tag{BilevelTrajOpt.##87#93{BilevelTrajOpt.#eval_g#88{BilevelTrajOpt.SimData,Array{Float64,1},Array{Float64,1},Array{Float64,1},Array{Float64,1},Symmetric{Float64,Array{Float64,2}}}},Float64},Float64,10},1}}, ::BilevelTrajOpt.##67#70{BilevelTrajOpt.SimData,Array{ForwardDiff.Dual{ForwardDiff.Tag{BilevelTrajOpt.##87#93{BilevelTrajOpt.#eval_g#88{BilevelTrajOpt.SimData,Array{Float64,1},Array{Float64,1},Array{Float64,1},Array{Float64,1},Symmetric{Float64,Array{Float64,2}}}},Float64},Float64,10},2}}\u001b[1m)\u001b[22m\u001b[22m at \u001b[1m/home/blandry/.julia/v0.6/BilevelTrajOpt/src/bilevel.jl:16\u001b[22m\u001b[22m",
      " [8] \u001b[1mchunk_mode_gradient\u001b[22m\u001b[22m\u001b[1m(\u001b[22m\u001b[22m::BilevelTrajOpt.##11#12{Array{Float64,1},Array{Float64,1},Float64,BilevelTrajOpt.##65#68{BilevelTrajOpt.SimData,Array{ForwardDiff.Dual{ForwardDiff.Tag{BilevelTrajOpt.##87#93{BilevelTrajOpt.#eval_g#88{BilevelTrajOpt.SimData,Array{Float64,1},Array{Float64,1},Array{Float64,1},Array{Float64,1},Symmetric{Float64,Array{Float64,2}}}},Float64},Float64,10},1},Array{ForwardDiff.Dual{ForwardDiff.Tag{BilevelTrajOpt.##87#93{BilevelTrajOpt.#eval_g#88{BilevelTrajOpt.SimData,Array{Float64,1},Array{Float64,1},Array{Float64,1},Array{Float64,1},Symmetric{Float64,Array{Float64,2}}}},Float64},Float64,10},2},Array{Float64,1}},BilevelTrajOpt.##66#69{BilevelTrajOpt.SimData,Array{Tuple{RigidBodyDynamics.Spatial.Transform3D{ForwardDiff.Dual{ForwardDiff.Tag{BilevelTrajOpt.##87#93{BilevelTrajOpt.#eval_g#88{BilevelTrajOpt.SimData,Array{Float64,1},Array{Float64,1},Array{Float64,1},Array{Float64,1},Symmetric{Float64,Array{Float64,2}}}},Float64},Float64,10}},RigidBodyDynamics.Spatial.Transform3D{ForwardDiff.Dual{ForwardDiff.Tag{BilevelTrajOpt.##87#93{BilevelTrajOpt.#eval_g#88{BilevelTrajOpt.SimData,Array{Float64,1},Array{Float64,1},Array{Float64,1},Array{Float64,1},Symmetric{Float64,Array{Float64,2}}}},Float64},Float64,10}}},1},Array{RigidBodyDynamics.Spatial.GeometricJacobian{Array{ForwardDiff.Dual{ForwardDiff.Tag{BilevelTrajOpt.##87#93{BilevelTrajOpt.#eval_g#88{BilevelTrajOpt.SimData,Array{Float64,1},Array{Float64,1},Array{Float64,1},Array{Float64,1},Symmetric{Float64,Array{Float64,2}}}},Float64},Float64,10},2}},1},Array{ForwardDiff.Dual{ForwardDiff.Tag{BilevelTrajOpt.##87#93{BilevelTrajOpt.#eval_g#88{BilevelTrajOpt.SimData,Array{Float64,1},Array{Float64,1},Array{Float64,1},Array{Float64,1},Symmetric{Float64,Array{Float64,2}}}},Float64},Float64,10},1},Array{ForwardDiff.Dual{ForwardDiff.Tag{BilevelTrajOpt.##87#93{BilevelTrajOpt.#eval_g#88{BilevelTrajOpt.SimData,Array{Float64,1},Array{Float64,1},Array{Float64,1},Array{Float64,1},Symmetric{Float64,Array{Float64,2}}}},Float64},Float64,10},1}},BilevelTrajOpt.##67#70{BilevelTrajOpt.SimData,Array{ForwardDiff.Dual{ForwardDiff.Tag{BilevelTrajOpt.##87#93{BilevelTrajOpt.#eval_g#88{BilevelTrajOpt.SimData,Array{Float64,1},Array{Float64,1},Array{Float64,1},Array{Float64,1},Symmetric{Float64,Array{Float64,2}}}},Float64},Float64,10},2}}}, ::Array{Float64,1}, ::ForwardDiff.GradientConfig{ForwardDiff.Tag{BilevelTrajOpt.##11#12{Array{Float64,1},Array{Float64,1},Float64,BilevelTrajOpt.##65#68{BilevelTrajOpt.SimData,Array{ForwardDiff.Dual{ForwardDiff.Tag{BilevelTrajOpt.##87#93{BilevelTrajOpt.#eval_g#88{BilevelTrajOpt.SimData,Array{Float64,1},Array{Float64,1},Array{Float64,1},Array{Float64,1},Symmetric{Float64,Array{Float64,2}}}},Float64},Float64,10},1},Array{ForwardDiff.Dual{ForwardDiff.Tag{BilevelTrajOpt.##87#93{BilevelTrajOpt.#eval_g#88{BilevelTrajOpt.SimData,Array{Float64,1},Array{Float64,1},Array{Float64,1},Array{Float64,1},Symmetric{Float64,Array{Float64,2}}}},Float64},Float64,10},2},Array{Float64,1}},BilevelTrajOpt.##66#69{BilevelTrajOpt.SimData,Array{Tuple{RigidBodyDynamics.Spatial.Transform3D{ForwardDiff.Dual{ForwardDiff.Tag{BilevelTrajOpt.##87#93{BilevelTrajOpt.#eval_g#88{BilevelTrajOpt.SimData,Array{Float64,1},Array{Float64,1},Array{Float64,1},Array{Float64,1},Symmetric{Float64,Array{Float64,2}}}},Float64},Float64,10}},RigidBodyDynamics.Spatial.Transform3D{ForwardDiff.Dual{ForwardDiff.Tag{BilevelTrajOpt.##87#93{BilevelTrajOpt.#eval_g#88{BilevelTrajOpt.SimData,Array{Float64,1},Array{Float64,1},Array{Float64,1},Array{Float64,1},Symmetric{Float64,Array{Float64,2}}}},Float64},Float64,10}}},1},Array{RigidBodyDynamics.Spatial.GeometricJacobian{Array{ForwardDiff.Dual{ForwardDiff.Tag{BilevelTrajOpt.##87#93{BilevelTrajOpt.#eval_g#88{BilevelTrajOpt.SimData,Array{Float64,1},Array{Float64,1},Array{Float64,1},Array{Float64,1},Symmetric{Float64,Array{Float64,2}}}},Float64},Float64,10},2}},1},Array{ForwardDiff.Dual{ForwardDiff.Tag{BilevelTrajOpt.##87#93{BilevelTrajOpt.#eval_g#88{BilevelTrajOpt.SimData,Array{Float64,1},Array{Float64,1},Array{Float64,1},Array{Float64,1},Symmetric{Float64,Array{Float64,2}}}},Float64},Float64,10},1},Array{ForwardDiff.Dual{ForwardDiff.Tag{BilevelTrajOpt.##87#93{BilevelTrajOpt.#eval_g#88{BilevelTrajOpt.SimData,Array{Float64,1},Array{Float64,1},Array{Float64,1},Array{Float64,1},Symmetric{Float64,Array{Float64,2}}}},Float64},Float64,10},1}},BilevelTrajOpt.##67#70{BilevelTrajOpt.SimData,Array{ForwardDiff.Dual{ForwardDiff.Tag{BilevelTrajOpt.##87#93{BilevelTrajOpt.#eval_g#88{BilevelTrajOpt.SimData,Array{Float64,1},Array{Float64,1},Array{Float64,1},Array{Float64,1},Symmetric{Float64,Array{Float64,2}}}},Float64},Float64,10},2}}},Float64},Float64,9,Array{ForwardDiff.Dual{ForwardDiff.Tag{BilevelTrajOpt.##11#12{Array{Float64,1},Array{Float64,1},Float64,BilevelTrajOpt.##65#68{BilevelTrajOpt.SimData,Array{ForwardDiff.Dual{ForwardDiff.Tag{BilevelTrajOpt.##87#93{BilevelTrajOpt.#eval_g#88{BilevelTrajOpt.SimData,Array{Float64,1},Array{Float64,1},Array{Float64,1},Array{Float64,1},Symmetric{Float64,Array{Float64,2}}}},Float64},Float64,10},1},Array{ForwardDiff.Dual{ForwardDiff.Tag{BilevelTrajOpt.##87#93{BilevelTrajOpt.#eval_g#88{BilevelTrajOpt.SimData,Array{Float64,1},Array{Float64,1},Array{Float64,1},Array{Float64,1},Symmetric{Float64,Array{Float64,2}}}},Float64},Float64,10},2},Array{Float64,1}},BilevelTrajOpt.##66#69{BilevelTrajOpt.SimData,Array{Tuple{RigidBodyDynamics.Spatial.Transform3D{ForwardDiff.Dual{ForwardDiff.Tag{BilevelTrajOpt.##87#93{BilevelTrajOpt.#eval_g#88{BilevelTrajOpt.SimData,Array{Float64,1},Array{Float64,1},Array{Float64,1},Array{Float64,1},Symmetric{Float64,Array{Float64,2}}}},Float64},Float64,10}},RigidBodyDynamics.Spatial.Transform3D{ForwardDiff.Dual{ForwardDiff.Tag{BilevelTrajOpt.##87#93{BilevelTrajOpt.#eval_g#88{BilevelTrajOpt.SimData,Array{Float64,1},Array{Float64,1},Array{Float64,1},Array{Float64,1},Symmetric{Float64,Array{Float64,2}}}},Float64},Float64,10}}},1},Array{RigidBodyDynamics.Spatial.GeometricJacobian{Array{ForwardDiff.Dual{ForwardDiff.Tag{BilevelTrajOpt.##87#93{BilevelTrajOpt.#eval_g#88{BilevelTrajOpt.SimData,Array{Float64,1},Array{Float64,1},Array{Float64,1},Array{Float64,1},Symmetric{Float64,Array{Float64,2}}}},Float64},Float64,10},2}},1},Array{ForwardDiff.Dual{ForwardDiff.Tag{BilevelTrajOpt.##87#93{BilevelTrajOpt.#eval_g#88{BilevelTrajOpt.SimData,Array{Float64,1},Array{Float64,1},Array{Float64,1},Array{Float64,1},Symmetric{Float64,Array{Float64,2}}}},Float64},Float64,10},1},Array{ForwardDiff.Dual{ForwardDiff.Tag{BilevelTrajOpt.##87#93{BilevelTrajOpt.#eval_g#88{BilevelTrajOpt.SimData,Array{Float64,1},Array{Float64,1},Array{Float64,1},Array{Float64,1},Symmetric{Float64,Array{Float64,2}}}},Float64},Float64,10},1}},BilevelTrajOpt.##67#70{BilevelTrajOpt.SimData,Array{ForwardDiff.Dual{ForwardDiff.Tag{BilevelTrajOpt.##87#93{BilevelTrajOpt.#eval_g#88{BilevelTrajOpt.SimData,Array{Float64,1},Array{Float64,1},Array{Float64,1},Array{Float64,1},Symmetric{Float64,Array{Float64,2}}}},Float64},Float64,10},2}}},Float64},Float64,9},1}}\u001b[1m)\u001b[22m\u001b[22m at \u001b[1m/home/blandry/.julia/v0.6/ForwardDiff/src/gradient.jl:139\u001b[22m\u001b[22m",
      " [9] \u001b[1mgradient\u001b[22m\u001b[22m\u001b[1m(\u001b[22m\u001b[22m::Function, ::Array{Float64,1}, ::ForwardDiff.GradientConfig{ForwardDiff.Tag{BilevelTrajOpt.##11#12{Array{Float64,1},Array{Float64,1},Float64,BilevelTrajOpt.##65#68{BilevelTrajOpt.SimData,Array{ForwardDiff.Dual{ForwardDiff.Tag{BilevelTrajOpt.##87#93{BilevelTrajOpt.#eval_g#88{BilevelTrajOpt.SimData,Array{Float64,1},Array{Float64,1},Array{Float64,1},Array{Float64,1},Symmetric{Float64,Array{Float64,2}}}},Float64},Float64,10},1},Array{ForwardDiff.Dual{ForwardDiff.Tag{BilevelTrajOpt.##87#93{BilevelTrajOpt.#eval_g#88{BilevelTrajOpt.SimData,Array{Float64,1},Array{Float64,1},Array{Float64,1},Array{Float64,1},Symmetric{Float64,Array{Float64,2}}}},Float64},Float64,10},2},Array{Float64,1}},BilevelTrajOpt.##66#69{BilevelTrajOpt.SimData,Array{Tuple{RigidBodyDynamics.Spatial.Transform3D{ForwardDiff.Dual{ForwardDiff.Tag{BilevelTrajOpt.##87#93{BilevelTrajOpt.#eval_g#88{BilevelTrajOpt.SimData,Array{Float64,1},Array{Float64,1},Array{Float64,1},Array{Float64,1},Symmetric{Float64,Array{Float64,2}}}},Float64},Float64,10}},RigidBodyDynamics.Spatial.Transform3D{ForwardDiff.Dual{ForwardDiff.Tag{BilevelTrajOpt.##87#93{BilevelTrajOpt.#eval_g#88{BilevelTrajOpt.SimData,Array{Float64,1},Array{Float64,1},Array{Float64,1},Array{Float64,1},Symmetric{Float64,Array{Float64,2}}}},Float64},Float64,10}}},1},Array{RigidBodyDynamics.Spatial.GeometricJacobian{Array{ForwardDiff.Dual{ForwardDiff.Tag{BilevelTrajOpt.##87#93{BilevelTrajOpt.#eval_g#88{BilevelTrajOpt.SimData,Array{Float64,1},Array{Float64,1},Array{Float64,1},Array{Float64,1},Symmetric{Float64,Array{Float64,2}}}},Float64},Float64,10},2}},1},Array{ForwardDiff.Dual{ForwardDiff.Tag{BilevelTrajOpt.##87#93{BilevelTrajOpt.#eval_g#88{BilevelTrajOpt.SimData,Array{Float64,1},Array{Float64,1},Array{Float64,1},Array{Float64,1},Symmetric{Float64,Array{Float64,2}}}},Float64},Float64,10},1},Array{ForwardDiff.Dual{ForwardDiff.Tag{BilevelTrajOpt.##87#93{BilevelTrajOpt.#eval_g#88{BilevelTrajOpt.SimData,Array{Float64,1},Array{Float64,1},Array{Float64,1},Array{Float64,1},Symmetric{Float64,Array{Float64,2}}}},Float64},Float64,10},1}},BilevelTrajOpt.##67#70{BilevelTrajOpt.SimData,Array{ForwardDiff.Dual{ForwardDiff.Tag{BilevelTrajOpt.##87#93{BilevelTrajOpt.#eval_g#88{BilevelTrajOpt.SimData,Array{Float64,1},Array{Float64,1},Array{Float64,1},Array{Float64,1},Symmetric{Float64,Array{Float64,2}}}},Float64},Float64,10},2}}},Float64},Float64,9,Array{ForwardDiff.Dual{ForwardDiff.Tag{BilevelTrajOpt.##11#12{Array{Float64,1},Array{Float64,1},Float64,BilevelTrajOpt.##65#68{BilevelTrajOpt.SimData,Array{ForwardDiff.Dual{ForwardDiff.Tag{BilevelTrajOpt.##87#93{BilevelTrajOpt.#eval_g#88{BilevelTrajOpt.SimData,Array{Float64,1},Array{Float64,1},Array{Float64,1},Array{Float64,1},Symmetric{Float64,Array{Float64,2}}}},Float64},Float64,10},1},Array{ForwardDiff.Dual{ForwardDiff.Tag{BilevelTrajOpt.##87#93{BilevelTrajOpt.#eval_g#88{BilevelTrajOpt.SimData,Array{Float64,1},Array{Float64,1},Array{Float64,1},Array{Float64,1},Symmetric{Float64,Array{Float64,2}}}},Float64},Float64,10},2},Array{Float64,1}},BilevelTrajOpt.##66#69{BilevelTrajOpt.SimData,Array{Tuple{RigidBodyDynamics.Spatial.Transform3D{ForwardDiff.Dual{ForwardDiff.Tag{BilevelTrajOpt.##87#93{BilevelTrajOpt.#eval_g#88{BilevelTrajOpt.SimData,Array{Float64,1},Array{Float64,1},Array{Float64,1},Array{Float64,1},Symmetric{Float64,Array{Float64,2}}}},Float64},Float64,10}},RigidBodyDynamics.Spatial.Transform3D{ForwardDiff.Dual{ForwardDiff.Tag{BilevelTrajOpt.##87#93{BilevelTrajOpt.#eval_g#88{BilevelTrajOpt.SimData,Array{Float64,1},Array{Float64,1},Array{Float64,1},Array{Float64,1},Symmetric{Float64,Array{Float64,2}}}},Float64},Float64,10}}},1},Array{RigidBodyDynamics.Spatial.GeometricJacobian{Array{ForwardDiff.Dual{ForwardDiff.Tag{BilevelTrajOpt.##87#93{BilevelTrajOpt.#eval_g#88{BilevelTrajOpt.SimData,Array{Float64,1},Array{Float64,1},Array{Float64,1},Array{Float64,1},Symmetric{Float64,Array{Float64,2}}}},Float64},Float64,10},2}},1},Array{ForwardDiff.Dual{ForwardDiff.Tag{BilevelTrajOpt.##87#93{BilevelTrajOpt.#eval_g#88{BilevelTrajOpt.SimData,Array{Float64,1},Array{Float64,1},Array{Float64,1},Array{Float64,1},Symmetric{Float64,Array{Float64,2}}}},Float64},Float64,10},1},Array{ForwardDiff.Dual{ForwardDiff.Tag{BilevelTrajOpt.##87#93{BilevelTrajOpt.#eval_g#88{BilevelTrajOpt.SimData,Array{Float64,1},Array{Float64,1},Array{Float64,1},Array{Float64,1},Symmetric{Float64,Array{Float64,2}}}},Float64},Float64,10},1}},BilevelTrajOpt.##67#70{BilevelTrajOpt.SimData,Array{ForwardDiff.Dual{ForwardDiff.Tag{BilevelTrajOpt.##87#93{BilevelTrajOpt.#eval_g#88{BilevelTrajOpt.SimData,Array{Float64,1},Array{Float64,1},Array{Float64,1},Array{Float64,1},Symmetric{Float64,Array{Float64,2}}}},Float64},Float64,10},2}}},Float64},Float64,9},1}}, ::Val{true}\u001b[1m)\u001b[22m\u001b[22m at \u001b[1m/home/blandry/.julia/v0.6/ForwardDiff/src/gradient.jl:19\u001b[22m\u001b[22m",
      " [10] \u001b[1mgradient\u001b[22m\u001b[22m\u001b[1m(\u001b[22m\u001b[22m::Function, ::Array{Float64,1}, ::ForwardDiff.GradientConfig{ForwardDiff.Tag{BilevelTrajOpt.##11#12{Array{Float64,1},Array{Float64,1},Float64,BilevelTrajOpt.##65#68{BilevelTrajOpt.SimData,Array{ForwardDiff.Dual{ForwardDiff.Tag{BilevelTrajOpt.##87#93{BilevelTrajOpt.#eval_g#88{BilevelTrajOpt.SimData,Array{Float64,1},Array{Float64,1},Array{Float64,1},Array{Float64,1},Symmetric{Float64,Array{Float64,2}}}},Float64},Float64,10},1},Array{ForwardDiff.Dual{ForwardDiff.Tag{BilevelTrajOpt.##87#93{BilevelTrajOpt.#eval_g#88{BilevelTrajOpt.SimData,Array{Float64,1},Array{Float64,1},Array{Float64,1},Array{Float64,1},Symmetric{Float64,Array{Float64,2}}}},Float64},Float64,10},2},Array{Float64,1}},BilevelTrajOpt.##66#69{BilevelTrajOpt.SimData,Array{Tuple{RigidBodyDynamics.Spatial.Transform3D{ForwardDiff.Dual{ForwardDiff.Tag{BilevelTrajOpt.##87#93{BilevelTrajOpt.#eval_g#88{BilevelTrajOpt.SimData,Array{Float64,1},Array{Float64,1},Array{Float64,1},Array{Float64,1},Symmetric{Float64,Array{Float64,2}}}},Float64},Float64,10}},RigidBodyDynamics.Spatial.Transform3D{ForwardDiff.Dual{ForwardDiff.Tag{BilevelTrajOpt.##87#93{BilevelTrajOpt.#eval_g#88{BilevelTrajOpt.SimData,Array{Float64,1},Array{Float64,1},Array{Float64,1},Array{Float64,1},Symmetric{Float64,Array{Float64,2}}}},Float64},Float64,10}}},1},Array{RigidBodyDynamics.Spatial.GeometricJacobian{Array{ForwardDiff.Dual{ForwardDiff.Tag{BilevelTrajOpt.##87#93{BilevelTrajOpt.#eval_g#88{BilevelTrajOpt.SimData,Array{Float64,1},Array{Float64,1},Array{Float64,1},Array{Float64,1},Symmetric{Float64,Array{Float64,2}}}},Float64},Float64,10},2}},1},Array{ForwardDiff.Dual{ForwardDiff.Tag{BilevelTrajOpt.##87#93{BilevelTrajOpt.#eval_g#88{BilevelTrajOpt.SimData,Array{Float64,1},Array{Float64,1},Array{Float64,1},Array{Float64,1},Symmetric{Float64,Array{Float64,2}}}},Float64},Float64,10},1},Array{ForwardDiff.Dual{ForwardDiff.Tag{BilevelTrajOpt.##87#93{BilevelTrajOpt.#eval_g#88{BilevelTrajOpt.SimData,Array{Float64,1},Array{Float64,1},Array{Float64,1},Array{Float64,1},Symmetric{Float64,Array{Float64,2}}}},Float64},Float64,10},1}},BilevelTrajOpt.##67#70{BilevelTrajOpt.SimData,Array{ForwardDiff.Dual{ForwardDiff.Tag{BilevelTrajOpt.##87#93{BilevelTrajOpt.#eval_g#88{BilevelTrajOpt.SimData,Array{Float64,1},Array{Float64,1},Array{Float64,1},Array{Float64,1},Symmetric{Float64,Array{Float64,2}}}},Float64},Float64,10},2}}},Float64},Float64,9,Array{ForwardDiff.Dual{ForwardDiff.Tag{BilevelTrajOpt.##11#12{Array{Float64,1},Array{Float64,1},Float64,BilevelTrajOpt.##65#68{BilevelTrajOpt.SimData,Array{ForwardDiff.Dual{ForwardDiff.Tag{BilevelTrajOpt.##87#93{BilevelTrajOpt.#eval_g#88{BilevelTrajOpt.SimData,Array{Float64,1},Array{Float64,1},Array{Float64,1},Array{Float64,1},Symmetric{Float64,Array{Float64,2}}}},Float64},Float64,10},1},Array{ForwardDiff.Dual{ForwardDiff.Tag{BilevelTrajOpt.##87#93{BilevelTrajOpt.#eval_g#88{BilevelTrajOpt.SimData,Array{Float64,1},Array{Float64,1},Array{Float64,1},Array{Float64,1},Symmetric{Float64,Array{Float64,2}}}},Float64},Float64,10},2},Array{Float64,1}},BilevelTrajOpt.##66#69{BilevelTrajOpt.SimData,Array{Tuple{RigidBodyDynamics.Spatial.Transform3D{ForwardDiff.Dual{ForwardDiff.Tag{BilevelTrajOpt.##87#93{BilevelTrajOpt.#eval_g#88{BilevelTrajOpt.SimData,Array{Float64,1},Array{Float64,1},Array{Float64,1},Array{Float64,1},Symmetric{Float64,Array{Float64,2}}}},Float64},Float64,10}},RigidBodyDynamics.Spatial.Transform3D{ForwardDiff.Dual{ForwardDiff.Tag{BilevelTrajOpt.##87#93{BilevelTrajOpt.#eval_g#88{BilevelTrajOpt.SimData,Array{Float64,1},Array{Float64,1},Array{Float64,1},Array{Float64,1},Symmetric{Float64,Array{Float64,2}}}},Float64},Float64,10}}},1},Array{RigidBodyDynamics.Spatial.GeometricJacobian{Array{ForwardDiff.Dual{ForwardDiff.Tag{BilevelTrajOpt.##87#93{BilevelTrajOpt.#eval_g#88{BilevelTrajOpt.SimData,Array{Float64,1},Array{Float64,1},Array{Float64,1},Array{Float64,1},Symmetric{Float64,Array{Float64,2}}}},Float64},Float64,10},2}},1},Array{ForwardDiff.Dual{ForwardDiff.Tag{BilevelTrajOpt.##87#93{BilevelTrajOpt.#eval_g#88{BilevelTrajOpt.SimData,Array{Float64,1},Array{Float64,1},Array{Float64,1},Array{Float64,1},Symmetric{Float64,Array{Float64,2}}}},Float64},Float64,10},1},Array{ForwardDiff.Dual{ForwardDiff.Tag{BilevelTrajOpt.##87#93{BilevelTrajOpt.#eval_g#88{BilevelTrajOpt.SimData,Array{Float64,1},Array{Float64,1},Array{Float64,1},Array{Float64,1},Symmetric{Float64,Array{Float64,2}}}},Float64},Float64,10},1}},BilevelTrajOpt.##67#70{BilevelTrajOpt.SimData,Array{ForwardDiff.Dual{ForwardDiff.Tag{BilevelTrajOpt.##87#93{BilevelTrajOpt.#eval_g#88{BilevelTrajOpt.SimData,Array{Float64,1},Array{Float64,1},Array{Float64,1},Array{Float64,1},Symmetric{Float64,Array{Float64,2}}}},Float64},Float64,10},2}}},Float64},Float64,9},1}}\u001b[1m)\u001b[22m\u001b[22m at \u001b[1m/home/blandry/.julia/v0.6/ForwardDiff/src/gradient.jl:15\u001b[22m\u001b[22m (repeats 2 times)",
      " [11] \u001b[1mauglag_solve\u001b[22m\u001b[22m\u001b[1m(\u001b[22m\u001b[22m::Array{Float64,1}, ::Function, ::BilevelTrajOpt.##66#69{BilevelTrajOpt.SimData,Array{Tuple{RigidBodyDynamics.Spatial.Transform3D{ForwardDiff.Dual{ForwardDiff.Tag{BilevelTrajOpt.##87#93{BilevelTrajOpt.#eval_g#88{BilevelTrajOpt.SimData,Array{Float64,1},Array{Float64,1},Array{Float64,1},Array{Float64,1},Symmetric{Float64,Array{Float64,2}}}},Float64},Float64,10}},RigidBodyDynamics.Spatial.Transform3D{ForwardDiff.Dual{ForwardDiff.Tag{BilevelTrajOpt.##87#93{BilevelTrajOpt.#eval_g#88{BilevelTrajOpt.SimData,Array{Float64,1},Array{Float64,1},Array{Float64,1},Array{Float64,1},Symmetric{Float64,Array{Float64,2}}}},Float64},Float64,10}}},1},Array{RigidBodyDynamics.Spatial.GeometricJacobian{Array{ForwardDiff.Dual{ForwardDiff.Tag{BilevelTrajOpt.##87#93{BilevelTrajOpt.#eval_g#88{BilevelTrajOpt.SimData,Array{Float64,1},Array{Float64,1},Array{Float64,1},Array{Float64,1},Symmetric{Float64,Array{Float64,2}}}},Float64},Float64,10},2}},1},Array{ForwardDiff.Dual{ForwardDiff.Tag{BilevelTrajOpt.##87#93{BilevelTrajOpt.#eval_g#88{BilevelTrajOpt.SimData,Array{Float64,1},Array{Float64,1},Array{Float64,1},Array{Float64,1},Symmetric{Float64,Array{Float64,2}}}},Float64},Float64,10},1},Array{ForwardDiff.Dual{ForwardDiff.Tag{BilevelTrajOpt.##87#93{BilevelTrajOpt.#eval_g#88{BilevelTrajOpt.SimData,Array{Float64,1},Array{Float64,1},Array{Float64,1},Array{Float64,1},Symmetric{Float64,Array{Float64,2}}}},Float64},Float64,10},1}}, ::BilevelTrajOpt.##67#70{BilevelTrajOpt.SimData,Array{ForwardDiff.Dual{ForwardDiff.Tag{BilevelTrajOpt.##87#93{BilevelTrajOpt.#eval_g#88{BilevelTrajOpt.SimData,Array{Float64,1},Array{Float64,1},Array{Float64,1},Array{Float64,1},Symmetric{Float64,Array{Float64,2}}}},Float64},Float64,10},2}}, ::Int64, ::Int64, ::Array{Int64,1}, ::Array{Float64,1}, ::Array{Float64,1}\u001b[1m)\u001b[22m\u001b[22m at \u001b[1m/home/blandry/.julia/v0.6/BilevelTrajOpt/src/bilevel.jl:34\u001b[22m\u001b[22m",
      " [12] \u001b[1m#solve_implicit_contact_τ#64\u001b[22m\u001b[22m\u001b[1m(\u001b[22m\u001b[22m::Bool, ::Array{Int64,1}, ::Array{Float64,1}, ::Array{Float64,1}, ::Function, ::BilevelTrajOpt.SimData, ::Array{ForwardDiff.Dual{ForwardDiff.Tag{BilevelTrajOpt.##87#93{BilevelTrajOpt.#eval_g#88{BilevelTrajOpt.SimData,Array{Float64,1},Array{Float64,1},Array{Float64,1},Array{Float64,1},Symmetric{Float64,Array{Float64,2}}}},Float64},Float64,10},1}, ::Array{ForwardDiff.Dual{ForwardDiff.Tag{BilevelTrajOpt.##87#93{BilevelTrajOpt.#eval_g#88{BilevelTrajOpt.SimData,Array{Float64,1},Array{Float64,1},Array{Float64,1},Array{Float64,1},Symmetric{Float64,Array{Float64,2}}}},Float64},Float64,10},2}, ::Array{Tuple{RigidBodyDynamics.Spatial.Transform3D{ForwardDiff.Dual{ForwardDiff.Tag{BilevelTrajOpt.##87#93{BilevelTrajOpt.#eval_g#88{BilevelTrajOpt.SimData,Array{Float64,1},Array{Float64,1},Array{Float64,1},Array{Float64,1},Symmetric{Float64,Array{Float64,2}}}},Float64},Float64,10}},RigidBodyDynamics.Spatial.Transform3D{ForwardDiff.Dual{ForwardDiff.Tag{BilevelTrajOpt.##87#93{BilevelTrajOpt.#eval_g#88{BilevelTrajOpt.SimData,Array{Float64,1},Array{Float64,1},Array{Float64,1},Array{Float64,1},Symmetric{Float64,Array{Float64,2}}}},Float64},Float64,10}}},1}, ::Array{RigidBodyDynamics.Spatial.GeometricJacobian{Array{ForwardDiff.Dual{ForwardDiff.Tag{BilevelTrajOpt.##87#93{BilevelTrajOpt.#eval_g#88{BilevelTrajOpt.SimData,Array{Float64,1},Array{Float64,1},Array{Float64,1},Array{Float64,1},Symmetric{Float64,Array{Float64,2}}}},Float64},Float64,10},2}},1}, ::Array{ForwardDiff.Dual{ForwardDiff.Tag{BilevelTrajOpt.##87#93{BilevelTrajOpt.#eval_g#88{BilevelTrajOpt.SimData,Array{Float64,1},Array{Float64,1},Array{Float64,1},Array{Float64,1},Symmetric{Float64,Array{Float64,2}}}},Float64},Float64,10},1}, ::Array{ForwardDiff.Dual{ForwardDiff.Tag{BilevelTrajOpt.##87#93{BilevelTrajOpt.#eval_g#88{BilevelTrajOpt.SimData,Array{Float64,1},Array{Float64,1},Array{Float64,1},Array{Float64,1},Symmetric{Float64,Array{Float64,2}}}},Float64},Float64,10},1}, ::Array{Float64,1}\u001b[1m)\u001b[22m\u001b[22m at \u001b[1m/home/blandry/.julia/v0.6/BilevelTrajOpt/src/contact.jl:165\u001b[22m\u001b[22m",
      " [13] \u001b[1m(::BilevelTrajOpt.#eval_g#88{BilevelTrajOpt.SimData,Array{Float64,1},Array{Float64,1},Array{Float64,1},Array{Float64,1},Symmetric{Float64,Array{Float64,2}}})\u001b[22m\u001b[22m\u001b[1m(\u001b[22m\u001b[22m::Array{ForwardDiff.Dual{ForwardDiff.Tag{BilevelTrajOpt.##87#93{BilevelTrajOpt.#eval_g#88{BilevelTrajOpt.SimData,Array{Float64,1},Array{Float64,1},Array{Float64,1},Array{Float64,1},Symmetric{Float64,Array{Float64,2}}}},Float64},Float64,10},1}, ::Array{ForwardDiff.Dual{ForwardDiff.Tag{BilevelTrajOpt.##87#93{BilevelTrajOpt.#eval_g#88{BilevelTrajOpt.SimData,Array{Float64,1},Array{Float64,1},Array{Float64,1},Array{Float64,1},Symmetric{Float64,Array{Float64,2}}}},Float64},Float64,10},1}\u001b[1m)\u001b[22m\u001b[22m at \u001b[1m/home/blandry/.julia/v0.6/BilevelTrajOpt/src/simulation.jl:122\u001b[22m\u001b[22m",
      " [14] \u001b[1mchunk_mode_jacobian\u001b[22m\u001b[22m\u001b[1m(\u001b[22m\u001b[22m::BilevelTrajOpt.##87#93{BilevelTrajOpt.#eval_g#88{BilevelTrajOpt.SimData,Array{Float64,1},Array{Float64,1},Array{Float64,1},Array{Float64,1},Symmetric{Float64,Array{Float64,2}}}}, ::Array{Float64,1}, ::Array{Float64,1}, ::ForwardDiff.JacobianConfig{ForwardDiff.Tag{BilevelTrajOpt.##87#93{BilevelTrajOpt.#eval_g#88{BilevelTrajOpt.SimData,Array{Float64,1},Array{Float64,1},Array{Float64,1},Array{Float64,1},Symmetric{Float64,Array{Float64,2}}}},Float64},Float64,10,Tuple{Array{ForwardDiff.Dual{ForwardDiff.Tag{BilevelTrajOpt.##87#93{BilevelTrajOpt.#eval_g#88{BilevelTrajOpt.SimData,Array{Float64,1},Array{Float64,1},Array{Float64,1},Array{Float64,1},Symmetric{Float64,Array{Float64,2}}}},Float64},Float64,10},1},Array{ForwardDiff.Dual{ForwardDiff.Tag{BilevelTrajOpt.##87#93{BilevelTrajOpt.#eval_g#88{BilevelTrajOpt.SimData,Array{Float64,1},Array{Float64,1},Array{Float64,1},Array{Float64,1},Symmetric{Float64,Array{Float64,2}}}},Float64},Float64,10},1}}}\u001b[1m)\u001b[22m\u001b[22m at \u001b[1m/home/blandry/.julia/v0.6/ForwardDiff/src/jacobian.jl:212\u001b[22m\u001b[22m",
      " [15] \u001b[1mjacobian\u001b[22m\u001b[22m\u001b[1m(\u001b[22m\u001b[22m::Function, ::Array{Float64,1}, ::Array{Float64,1}, ::ForwardDiff.JacobianConfig{ForwardDiff.Tag{BilevelTrajOpt.##87#93{BilevelTrajOpt.#eval_g#88{BilevelTrajOpt.SimData,Array{Float64,1},Array{Float64,1},Array{Float64,1},Array{Float64,1},Symmetric{Float64,Array{Float64,2}}}},Float64},Float64,10,Tuple{Array{ForwardDiff.Dual{ForwardDiff.Tag{BilevelTrajOpt.##87#93{BilevelTrajOpt.#eval_g#88{BilevelTrajOpt.SimData,Array{Float64,1},Array{Float64,1},Array{Float64,1},Array{Float64,1},Symmetric{Float64,Array{Float64,2}}}},Float64},Float64,10},1},Array{ForwardDiff.Dual{ForwardDiff.Tag{BilevelTrajOpt.##87#93{BilevelTrajOpt.#eval_g#88{BilevelTrajOpt.SimData,Array{Float64,1},Array{Float64,1},Array{Float64,1},Array{Float64,1},Symmetric{Float64,Array{Float64,2}}}},Float64},Float64,10},1}}}, ::Val{true}\u001b[1m)\u001b[22m\u001b[22m at \u001b[1m/home/blandry/.julia/v0.6/ForwardDiff/src/jacobian.jl:36\u001b[22m\u001b[22m",
      " [16] \u001b[1mjacobian\u001b[22m\u001b[22m\u001b[1m(\u001b[22m\u001b[22m::Function, ::Array{Float64,1}, ::Array{Float64,1}, ::ForwardDiff.JacobianConfig{ForwardDiff.Tag{BilevelTrajOpt.##87#93{BilevelTrajOpt.#eval_g#88{BilevelTrajOpt.SimData,Array{Float64,1},Array{Float64,1},Array{Float64,1},Array{Float64,1},Symmetric{Float64,Array{Float64,2}}}},Float64},Float64,10,Tuple{Array{ForwardDiff.Dual{ForwardDiff.Tag{BilevelTrajOpt.##87#93{BilevelTrajOpt.#eval_g#88{BilevelTrajOpt.SimData,Array{Float64,1},Array{Float64,1},Array{Float64,1},Array{Float64,1},Symmetric{Float64,Array{Float64,2}}}},Float64},Float64,10},1},Array{ForwardDiff.Dual{ForwardDiff.Tag{BilevelTrajOpt.##87#93{BilevelTrajOpt.#eval_g#88{BilevelTrajOpt.SimData,Array{Float64,1},Array{Float64,1},Array{Float64,1},Array{Float64,1},Symmetric{Float64,Array{Float64,2}}}},Float64},Float64,10},1}}}\u001b[1m)\u001b[22m\u001b[22m at \u001b[1m/home/blandry/.julia/v0.6/ForwardDiff/src/jacobian.jl:32\u001b[22m\u001b[22m (repeats 2 times)",
      " [17] \u001b[1m(::BilevelTrajOpt.#eval_jac_g#92{BilevelTrajOpt.SimData,BilevelTrajOpt.#eval_g#88{BilevelTrajOpt.SimData,Array{Float64,1},Array{Float64,1},Array{Float64,1},Array{Float64,1},Symmetric{Float64,Array{Float64,2}}}})\u001b[22m\u001b[22m\u001b[1m(\u001b[22m\u001b[22m::Array{Float64,1}, ::Symbol, ::Array{Int32,1}, ::Array{Int32,1}, ::Array{Float64,1}\u001b[1m)\u001b[22m\u001b[22m at \u001b[1m/home/blandry/.julia/v0.6/BilevelTrajOpt/src/simulation.jl:142\u001b[22m\u001b[22m",
      " [18] \u001b[1meval_jac_g_wrapper\u001b[22m\u001b[22m\u001b[1m(\u001b[22m\u001b[22m::Int32, ::Ptr{Float64}, ::Int32, ::Int32, ::Int32, ::Ptr{Int32}, ::Ptr{Int32}, ::Ptr{Float64}, ::Ptr{Void}\u001b[1m)\u001b[22m\u001b[22m at \u001b[1m/home/blandry/.julia/v0.6/Ipopt/src/Ipopt.jl:142\u001b[22m\u001b[22m",
      " [19] \u001b[1msolveProblem\u001b[22m\u001b[22m\u001b[1m(\u001b[22m\u001b[22m::Ipopt.IpoptProblem\u001b[1m)\u001b[22m\u001b[22m at \u001b[1m/home/blandry/.julia/v0.6/Ipopt/src/Ipopt.jl:318\u001b[22m\u001b[22m",
      " [20] \u001b[1m#simulate#94\u001b[22m\u001b[22m\u001b[1m(\u001b[22m\u001b[22m::Bool, ::Function, ::RigidBodyDynamics.MechanismState{Float64,Float64,Float64,TypeSortedCollections.TypeSortedCollection{Tuple{Array{RigidBodyDynamics.Joint{Float64,RigidBodyDynamics.Fixed{Float64}},1},Array{RigidBodyDynamics.Joint{Float64,RigidBodyDynamics.QuaternionFloating{Float64}},1},Array{RigidBodyDynamics.Joint{Float64,RigidBodyDynamics.Revolute{Float64}},1}},3}}, ::BilevelTrajOpt.Environment{Float64}, ::Float64, ::Int64, ::#controller!#35{RigidBodyDynamics.RigidBody{Float64},RigidBodyDynamics.Spatial.Point3D{Array{Float64,1}},RigidBodyDynamics.Spatial.Point3D{Array{Float64,1}},RigidBodyDynamics.Mechanism{Float64},RigidBodyDynamics.CustomCollections.SegmentedVector{RigidBodyDynamics.JointID,Float64,Base.OneTo{RigidBodyDynamics.JointID},Array{Float64,1}},RigidBodyDynamics.Graphs.TreePath{RigidBodyDynamics.RigidBody{Float64},RigidBodyDynamics.Joint{Float64,JT} where JT<:RigidBodyDynamics.JointType{Float64}},RigidBodyDynamics.Spatial.PointJacobian{Array{Float64,2}}}\u001b[1m)\u001b[22m\u001b[22m at \u001b[1m/home/blandry/.julia/v0.6/BilevelTrajOpt/src/simulation.jl:269\u001b[22m\u001b[22m",
      " [21] \u001b[1m(::BilevelTrajOpt.#kw##simulate)\u001b[22m\u001b[22m\u001b[1m(\u001b[22m\u001b[22m::Array{Any,1}, ::BilevelTrajOpt.#simulate, ::RigidBodyDynamics.MechanismState{Float64,Float64,Float64,TypeSortedCollections.TypeSortedCollection{Tuple{Array{RigidBodyDynamics.Joint{Float64,RigidBodyDynamics.Fixed{Float64}},1},Array{RigidBodyDynamics.Joint{Float64,RigidBodyDynamics.QuaternionFloating{Float64}},1},Array{RigidBodyDynamics.Joint{Float64,RigidBodyDynamics.Revolute{Float64}},1}},3}}, ::BilevelTrajOpt.Environment{Float64}, ::Float64, ::Int64, ::Function\u001b[1m)\u001b[22m\u001b[22m at \u001b[1m./<missing>:0\u001b[22m\u001b[22m",
      " [22] \u001b[1minclude_string\u001b[22m\u001b[22m\u001b[1m(\u001b[22m\u001b[22m::String, ::String\u001b[1m)\u001b[22m\u001b[22m at \u001b[1m./loading.jl:522\u001b[22m\u001b[22m",
      " [23] \u001b[1mexecute_request\u001b[22m\u001b[22m\u001b[1m(\u001b[22m\u001b[22m::ZMQ.Socket, ::IJulia.Msg\u001b[1m)\u001b[22m\u001b[22m at \u001b[1m/home/blandry/.julia/v0.6/IJulia/src/execute_request.jl:193\u001b[22m\u001b[22m",
      " [24] \u001b[1m(::Compat.#inner#14{Array{Any,1},IJulia.#execute_request,Tuple{ZMQ.Socket,IJulia.Msg}})\u001b[22m\u001b[22m\u001b[1m(\u001b[22m\u001b[22m\u001b[1m)\u001b[22m\u001b[22m at \u001b[1m/home/blandry/.julia/v0.6/Compat/src/Compat.jl:332\u001b[22m\u001b[22m",
      " [25] \u001b[1meventloop\u001b[22m\u001b[22m\u001b[1m(\u001b[22m\u001b[22m::ZMQ.Socket\u001b[1m)\u001b[22m\u001b[22m at \u001b[1m/home/blandry/.julia/v0.6/IJulia/src/eventloop.jl:8\u001b[22m\u001b[22m",
      " [26] \u001b[1m(::IJulia.##13#16)\u001b[22m\u001b[22m\u001b[1m(\u001b[22m\u001b[22m\u001b[1m)\u001b[22m\u001b[22m at \u001b[1m./task.jl:335\u001b[22m\u001b[22m"
     ]
    }
   ],
   "source": [
    "x0 = MechanismState(mechanism)\n",
    "set_configuration!(x0, q0)\n",
    "set_velocity!(x0, v0)\n",
    "Δt = 0.01\n",
    "N = 250\n",
    "\n",
    "# obstacles\n",
    "μ = 0.01\n",
    "motion_type = :xyz\n",
    "\n",
    "point = Point3D(default_frame(findbody(mechanism, \"floor\")), [0.,0.,0.])\n",
    "normal = FreeVector3D(default_frame(findbody(mechanism, \"floor\")), [0.,0.,1.])\n",
    "hs = RigidBodyDynamics.HalfSpace3D(point, normal)\n",
    "floor = Obstacle([hs], hs, μ, motion_type)\n",
    "\n",
    "point = Point3D(default_frame(findbody(mechanism, \"box\")), [-.25,0.,0.])\n",
    "normal = FreeVector3D(default_frame(findbody(mechanism, \"box\")), [-1.,0.,0.])\n",
    "hs = RigidBodyDynamics.HalfSpace3D(point, normal)\n",
    "box = Obstacle([hs], hs, μ, motion_type)\n",
    "\n",
    "obstacles = [floor,box]\n",
    "env = parse_contacts(mechanism, urdf, obstacles)\n",
    "\n",
    "traj = BilevelTrajOpt.simulate(x0,env,Δt,N,point_ctrl!,implicit_contact=false);\n",
    "q = [traj[1:num_positions(x0),i] for i in 1:N]\n",
    "t = cumsum([Δt for i in 1:N]);"
   ]
  },
  {
   "cell_type": "code",
   "execution_count": 32,
   "metadata": {},
   "outputs": [
    {
     "data": {
      "text/plain": [
       "true"
      ]
     },
     "execution_count": 32,
     "metadata": {},
     "output_type": "execute_result"
    }
   ],
   "source": [
    "setanimation!(mvis, t, q)"
   ]
  },
  {
   "cell_type": "code",
   "execution_count": null,
   "metadata": {},
   "outputs": [],
   "source": [
    "widget = manipulate!(mvis)"
   ]
  },
  {
   "cell_type": "code",
   "execution_count": null,
   "metadata": {},
   "outputs": [],
   "source": [
    "# just checking contact frames...\n",
    "contact = env.contacts[3]\n",
    "point = contact[2]\n",
    "obs = contact[3]\n",
    "transform(x0,point,obs.contact_face.outward_normal.frame)\n",
    "display(obs.contact_face.outward_normal.frame)\n",
    "display(point.frame)\n",
    "display(obs.contact_face.outward_normal.frame != point.frame)\n",
    "display(separation(obs,transform(x0,point,obs.contact_face.outward_normal.frame)))"
   ]
  }
 ],
 "metadata": {
  "kernelspec": {
   "display_name": "Julia 0.6.4",
   "language": "julia",
   "name": "julia-0.6"
  },
  "language_info": {
   "file_extension": ".jl",
   "mimetype": "application/julia",
   "name": "julia",
   "version": "0.6.4"
  }
 },
 "nbformat": 4,
 "nbformat_minor": 2
}
