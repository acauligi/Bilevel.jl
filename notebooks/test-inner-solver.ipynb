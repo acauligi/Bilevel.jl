{
 "cells": [
  {
   "cell_type": "code",
   "execution_count": 1,
   "metadata": {},
   "outputs": [
    {
     "data": {
      "text/html": [
       "    <script class='js-collapse-script'>\n",
       "        var curMatch =\n",
       "            window.location.href\n",
       "            .match(/(.*?)\\/notebooks\\/.*\\.ipynb/);\n",
       "\n",
       "        curMatch = curMatch ||\n",
       "            window.location.href\n",
       "            .match(/(.*?)\\/apps\\/.*\\.ipynb/);\n",
       "\n",
       "        if ( curMatch ) {\n",
       "            $('head').append('<base href=\"' + curMatch[1] + '/\">');\n",
       "        }\n",
       "    </script>\n"
      ],
      "text/plain": [
       "HTML{String}(\"    <script class='js-collapse-script'>\\n        var curMatch =\\n            window.location.href\\n            .match(/(.*?)\\\\/notebooks\\\\/.*\\\\.ipynb/);\\n\\n        curMatch = curMatch ||\\n            window.location.href\\n            .match(/(.*?)\\\\/apps\\\\/.*\\\\.ipynb/);\\n\\n        if ( curMatch ) {\\n            \\$('head').append('<base href=\\\"' + curMatch[1] + '/\\\">');\\n        }\\n    </script>\\n\")"
      ]
     },
     "metadata": {},
     "output_type": "display_data"
    },
    {
     "data": {
      "text/html": [
       "<script class='js-collapse-script' src='/assetserver/9dd84cf97c4fc16956f39829c81f3b6907c8fc83-assets/webio/dist/bundle.js'></script>"
      ],
      "text/plain": [
       "HTML{String}(\"<script class='js-collapse-script' src='/assetserver/9dd84cf97c4fc16956f39829c81f3b6907c8fc83-assets/webio/dist/bundle.js'></script>\")"
      ]
     },
     "metadata": {},
     "output_type": "display_data"
    },
    {
     "data": {
      "text/html": [
       "<script class='js-collapse-script' src='/assetserver/9dd84cf97c4fc16956f39829c81f3b6907c8fc83-assets/providers/ijulia_setup.js'></script>"
      ],
      "text/plain": [
       "HTML{String}(\"<script class='js-collapse-script' src='/assetserver/9dd84cf97c4fc16956f39829c81f3b6907c8fc83-assets/providers/ijulia_setup.js'></script>\")"
      ]
     },
     "metadata": {},
     "output_type": "display_data"
    },
    {
     "data": {
      "text/html": [
       "  <script class='js-collapse-script'>\n",
       "    $('.js-collapse-script').parent('.output_subarea').css('padding', '0');\n",
       "  </script>\n"
      ],
      "text/plain": [
       "HTML{String}(\"  <script class='js-collapse-script'>\\n    \\$('.js-collapse-script').parent('.output_subarea').css('padding', '0');\\n  </script>\\n\")"
      ]
     },
     "metadata": {},
     "output_type": "display_data"
    }
   ],
   "source": [
    "using Revise\n",
    "\n",
    "using RigidBodyDynamics\n",
    "using RigidBodyDynamics: Bounds\n",
    "\n",
    "using RigidBodyTreeInspector\n",
    "using DrakeVisualizer\n",
    "using Plots\n",
    "\n",
    "using BilevelTrajOpt"
   ]
  },
  {
   "cell_type": "code",
   "execution_count": 2,
   "metadata": {},
   "outputs": [],
   "source": [
    "urdf = joinpath(\"..\", \"urdf\", \"ball.urdf\")\n",
    "mechanism = parse_urdf(Float64, urdf)\n",
    "body = findbody(mechanism, \"ball\")\n",
    "basejoint = joint_to_parent(body, mechanism)\n",
    "floatingjoint = Joint(basejoint.name, frame_before(basejoint), frame_after(basejoint), QuaternionFloating{Float64}())\n",
    "replace_joint!(mechanism, basejoint, floatingjoint)\n",
    "position_bounds(floatingjoint) .= Bounds(-100, 100)\n",
    "velocity_bounds(floatingjoint) .= Bounds(-100, 100)\n",
    "μ = 0.5\n",
    "motion_type = :xyz\n",
    "point = Point3D(default_frame(findbody(mechanism, \"floor\")), [0.,0.,0.])\n",
    "normal = FreeVector3D(default_frame(findbody(mechanism, \"floor\")), [0.,0.,1.])\n",
    "hs = HalfSpace(point, normal)\n",
    "floor = Obstacle(hs, μ, motion_type)\n",
    "obstacles = [floor]\n",
    "env = parse_contacts(mechanism, urdf, obstacles)\n",
    "x0 = MechanismState(mechanism)\n",
    "Δt = 0.005\n",
    "sim_data = get_sim_data(x0,env,Δt,true);"
   ]
  },
  {
   "cell_type": "code",
   "execution_count": 6,
   "metadata": {
    "scrolled": false
   },
   "outputs": [
    {
     "name": "stdout",
     "output_type": "stream",
     "text": [
      "Maximum_Iterations_Exceeded\n"
     ]
    },
    {
     "name": "stderr",
     "output_type": "stream",
     "text": [
      "WARNING: Method definition solve_implicit_contact_τ(Any, Any, Any, Any, Any, Any, Any, Any, Any, Any, Any, Any) in module BilevelTrajOpt at /home/blandry/.julia/v0.6/BilevelTrajOpt/src/contact.jl:150 overwritten at /home/blandry/.julia/v0.6/BilevelTrajOpt/src/contact.jl:150.\n",
      "WARNING: Method definition #solve_implicit_contact_τ(Array{Any, 1}, typeof(BilevelTrajOpt.solve_implicit_contact_τ), Any, Any, Any, Any, Any, Any, Any, Any, Any, Any, Any, Any) in module BilevelTrajOpt overwritten.\n",
      "WARNING: Method definition solve_implicit_contact_τ(Any, Any, Any, Any, AbstractArray{T, N} where N, AbstractArray{T, N} where N) in module BilevelTrajOpt at /home/blandry/.julia/v0.6/BilevelTrajOpt/src/contact.jl:210 overwritten at /home/blandry/.julia/v0.6/BilevelTrajOpt/src/contact.jl:214.\n",
      "WARNING: Method definition #solve_implicit_contact_τ(Array{Any, 1}, typeof(BilevelTrajOpt.solve_implicit_contact_τ), Any, Any, Any, Any, AbstractArray{T, N} where N, AbstractArray{T, N} where N) in module BilevelTrajOpt overwritten.\n",
      "WARNING: Method definition update_objective_implicit_contact(Any, Any, Any, Any) in module BilevelTrajOpt at /home/blandry/.julia/v0.6/BilevelTrajOpt/src/simulation.jl:166 overwritten at /home/blandry/.julia/v0.6/BilevelTrajOpt/src/simulation.jl:167.\n",
      "WARNING: Method definition simulate(RigidBodyDynamics.MechanismState{T, M, C, JointCollection} where JointCollection where C, BilevelTrajOpt.Environment, Real, Integer, Any) in module BilevelTrajOpt at /home/blandry/.julia/v0.6/BilevelTrajOpt/src/simulation.jl:284 overwritten at /home/blandry/.julia/v0.6/BilevelTrajOpt/src/simulation.jl:286.\n",
      "WARNING: Method definition #simulate(Array{Any, 1}, typeof(BilevelTrajOpt.simulate), RigidBodyDynamics.MechanismState{T, M, C, JointCollection} where JointCollection where C, BilevelTrajOpt.Environment, Real, Integer, Any) in module BilevelTrajOpt overwritten.\n"
     ]
    },
    {
     "data": {
      "text/plain": [
       "6×5 Array{Float64,2}:\n",
       " -2.57234e-9  -1.84397e-10   3.48066e-7   -3.50638e-7   -3.4825e-7  \n",
       " -1.04525e-9  -2.01195e-10  -0.000310114   0.000310113   0.000310114\n",
       "  6.84516e-9  -2.28911e-10   0.00117633   -0.00117632   -0.00117633 \n",
       "  7.4515e-11  -2.08652e-10  -0.000512272   0.000512272   0.000512272\n",
       "  0.521054     8.79522       0.479322      0.0417316     8.3159     \n",
       "  5.51841e-9  -2.05198e-9   -4.66044e-8    5.21228e-8    4.45525e-8 "
      ]
     },
     "metadata": {},
     "output_type": "display_data"
    },
    {
     "name": "stdout",
     "output_type": "stream",
     "text": [
      "Solve_Succeeded\n"
     ]
    },
    {
     "data": {
      "text/plain": [
       "6×5 Array{Float64,2}:\n",
       "  0.500013    -3.00445e-17   0.0835197    0.416494    -0.0835197 \n",
       " -4.46891e-9   6.49401e-23   6.20098e-7  -6.24567e-7  -6.20098e-7\n",
       " -4.11446e-9   3.89486e-23   6.81916e-7  -6.8603e-7   -6.81916e-7\n",
       "  2.22989e-8   7.42702e-23  -0.00668819   0.00668822   0.00668819\n",
       "  0.838663     9.77423       0.838663     6.70263e-9   8.93556   \n",
       "  1.00003      0.0           0.153567     0.84646     -0.153567  "
      ]
     },
     "metadata": {},
     "output_type": "display_data"
    },
    {
     "name": "stdout",
     "output_type": "stream",
     "text": [
      "Solve_Succeeded\n",
      "Solve_Succeeded\n"
     ]
    },
    {
     "data": {
      "text/plain": [
       "6×5 Array{Float64,2}:\n",
       " -3.7084e-9   -1.56971e-10   5.65668e-6   -5.66039e-6   -5.65684e-6\n",
       " -3.76541e-9  -1.55414e-10   6.17664e-6   -6.1804e-6    -6.17679e-6\n",
       "  7.77395e-9  -2.13652e-10   0.00130502   -0.00130501   -0.00130502\n",
       "  1.02001e-8  -2.16163e-10  -3.68548e-6    3.69568e-6    3.68526e-6\n",
       "  0.9728      11.6332        0.933022      0.0397776    10.7002    \n",
       "  1.65675e-8  -1.84652e-9   -0.000497332   0.000497348   0.00049733"
      ]
     },
     "metadata": {},
     "output_type": "display_data"
    },
    {
     "name": "stdout",
     "output_type": "stream",
     "text": [
      "Solved_To_Acceptable_Level\n",
      "Solve_Succeeded\n"
     ]
    },
    {
     "data": {
      "text/plain": [
       "6×5 Array{Float64,2}:\n",
       " -2.02659e-9  9.88982e-24  -3.32376e-7  3.30349e-7   3.32376e-7\n",
       " -1.24371e-9  0.0          -3.48364e-7  3.47121e-7   3.48364e-7\n",
       "  0.500014    0.0           0.0397235   0.460291    -0.0397235 \n",
       "  2.3013e-8   0.0          -1.27449e-5  1.27679e-5   1.27449e-5\n",
       "  0.846815    9.76506       0.846815    1.33064e-8   8.91825   \n",
       "  1.00003     0.0           0.0794206   0.920608    -0.0794206 "
      ]
     },
     "metadata": {},
     "output_type": "display_data"
    },
    {
     "name": "stdout",
     "output_type": "stream",
     "text": [
      "Solve_Succeeded\n",
      "Solve_Succeeded\n"
     ]
    },
    {
     "data": {
      "text/plain": [
       "6×5 Array{Float64,2}:\n",
       " -6.62028e-10   1.36784e-15  -0.000281416   0.000281416   0.000281416\n",
       " -5.47719e-10  -6.95257e-22   0.00140296   -0.00140296   -0.00140296 \n",
       " -5.42859e-10  -5.98186e-22  -5.23104e-8    5.17676e-8    5.23104e-8 \n",
       " -6.58044e-10  -6.45266e-22  -0.00027868    0.00027868    0.00027868 \n",
       "  8.3448       10.6443        0.413154      7.93165      10.2312     \n",
       " -6.03233e-9    0.0           0.001166     -0.001166     -0.001166   "
      ]
     },
     "metadata": {},
     "output_type": "display_data"
    },
    {
     "name": "stdout",
     "output_type": "stream",
     "text": [
      "Solve_Succeeded\n",
      "Solve_Succeeded\n"
     ]
    }
   ],
   "source": [
    "num_iter = 5\n",
    "xmax = 2.\n",
    "zmax = 1.\n",
    "vmax = 1.\n",
    "\n",
    "for j = 1:num_iter\n",
    "    # half in contact, half not\n",
    "    if j%2==0 \n",
    "        q0 = vcat([1., 0., 0., 0.], (rand(2) .- .5) .* 2. .* xmax, 0.)\n",
    "    else\n",
    "        q0 = vcat([1., 0., 0., 0.], (rand(2) .- .5) .* 2. .* xmax, rand(1) .* zmax)\n",
    "    end\n",
    "#     q0 = [1.,0.,0.,0.,0.,0.,0.]\n",
    "#     v0 = vcat(zeros(3),(rand(3) .- .5) .* 2. .* vmax)\n",
    "    v0 = vcat(zeros(3),(rand(2) .- .5) .* 2. .* vmax,0.)\n",
    "    u0 = zeros(sim_data.num_v)\n",
    "    ctrl! = (u,t,x) -> u[:] = 0.\n",
    "\n",
    "    set_configuration!(x0, q0)\n",
    "    set_velocity!(x0, v0)\n",
    "    setdirty!(x0)\n",
    "    \n",
    "    traj = BilevelTrajOpt.simulate(x0,env,sim_data.Δt,1,ctrl!,implicit_contact=false)\n",
    "    qnext = traj[1:sim_data.num_q,end]\n",
    "    vnext = traj[sim_data.num_q+1:sim_data.num_q+sim_data.num_v,end]\n",
    "    x_sol_exp = traj[sim_data.num_q+sim_data.num_v+2:end,end]\n",
    "   \n",
    "    τ_ip, x_sol_ip, λ_ip, μ_ip, fx_ip = solve_implicit_contact_τ(sim_data,q0,v0,u0,qnext,vnext,ip_method=true);\n",
    "    τ_auglag, x_sol_auglag, λ_auglag, μ_auglag, fx_auglag = solve_implicit_contact_τ(sim_data,q0,v0,u0,qnext,vnext,ip_method=false);\n",
    "\n",
    "    res = hcat(x_sol_exp,x_sol_ip,x_sol_auglag,x_sol_exp.-x_sol_auglag,x_sol_ip.-x_sol_auglag)\n",
    "\n",
    "    display(res)\n",
    "end"
   ]
  }
 ],
 "metadata": {
  "kernelspec": {
   "display_name": "Julia 0.6.4",
   "language": "julia",
   "name": "julia-0.6"
  },
  "language_info": {
   "file_extension": ".jl",
   "mimetype": "application/julia",
   "name": "julia",
   "version": "0.6.4"
  }
 },
 "nbformat": 4,
 "nbformat_minor": 2
}
