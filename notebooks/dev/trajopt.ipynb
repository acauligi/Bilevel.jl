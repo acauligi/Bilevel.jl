{
 "cells": [
  {
   "cell_type": "code",
   "execution_count": 19,
   "metadata": {
    "collapsed": false
   },
   "outputs": [],
   "source": [
    "using Revise\n",
    "using BilevelTrajOpt\n",
    "\n",
    "using RigidBodyDynamics\n",
    "using Plots\n",
    "gr(size=(500,500), html_output_format=:png);"
   ]
  },
  {
   "cell_type": "code",
   "execution_count": 2,
   "metadata": {
    "collapsed": true
   },
   "outputs": [],
   "source": [
    "urdf = joinpath(\"..\", \"urdf\", \"ball.urdf\")\n",
    "mechanism = parse_urdf(Float64, urdf)\n",
    "body = findbody(mechanism, \"ball\")\n",
    "basejoint = joint_to_parent(body, mechanism)\n",
    "floatingjoint = Joint(basejoint.name, frame_before(basejoint), frame_after(basejoint), QuaternionFloating{Float64}())\n",
    "replace_joint!(mechanism, basejoint, floatingjoint)\n",
    "position_bounds(floatingjoint) .= RigidBodyDynamics.Bounds(-100, 100)\n",
    "velocity_bounds(floatingjoint) .= RigidBodyDynamics.Bounds(-100, 100)\n",
    "μ = 0.5\n",
    "motion_type = :xyz\n",
    "point = Point3D(default_frame(findbody(mechanism, \"floor\")), [0.,0.,0.])\n",
    "normal = FreeVector3D(default_frame(findbody(mechanism, \"floor\")), [0.,0.,1.])\n",
    "hs = HalfSpace(point, normal)\n",
    "floor = Obstacle(hs, μ, motion_type)\n",
    "obstacles = [floor]\n",
    "env = parse_contacts(mechanism, urdf, obstacles)\n",
    "x0 = MechanismState(mechanism)\n",
    "Δt = 0.005;"
   ]
  },
  {
   "cell_type": "code",
   "execution_count": 13,
   "metadata": {
    "collapsed": false
   },
   "outputs": [
    {
     "name": "stdout",
     "output_type": "stream",
     "text": [
      "Finished successfully: optimality conditions satisfied\n"
     ]
    },
    {
     "data": {
      "text/plain": [
       "26×25 Array{Float64,2}:\n",
       " 1.0    1.0            1.0          …     1.0             1.0        \n",
       " 0.0    0.0            0.0                0.0             0.0        \n",
       " 0.0    0.0            6.46235e-27        0.0             0.0        \n",
       " 0.0    0.0            0.0                0.0             0.0        \n",
       " 0.0    0.01           0.0291304          1.0             1.0        \n",
       " 0.0    0.0            7.42892e-15  …     1.225e-13       0.0        \n",
       " 0.0    5.59628e-20   -8.41941e-20        0.0             0.0        \n",
       " 0.0    0.0            0.0                0.0             0.0        \n",
       " 0.0    0.0            1.24077e-24        1.24077e-24     0.0        \n",
       " 0.0    0.0            0.0                0.0             0.0        \n",
       " 0.0    2.0            3.82609      …     2.0             0.0        \n",
       " 0.0   -2.58494e-26   -5.14253e-13       -5.44832e-13     0.0        \n",
       " 0.0   -5.5513e-17     8.15814e-17        6.76608e-17     0.0        \n",
       " 0.0    0.0            0.0                0.0             0.0        \n",
       " 0.0    0.0            0.0                0.0             0.0        \n",
       " 0.0    0.0            0.0          …     0.0             0.0        \n",
       " 0.0    0.0            0.0                0.0             0.0        \n",
       " 0.0    0.0            0.0                0.0             0.0        \n",
       " 0.0    2.0            3.82609            2.0             0.0        \n",
       " 0.0    0.0            0.0                0.0             0.0        \n",
       " 0.0    0.0            0.0          …     0.0             0.0        \n",
       " 0.0    0.0            2.64698e-22        0.0            -2.38228e-22\n",
       " 0.0    0.0            0.0                0.0             0.0        \n",
       " 0.0  400.0          365.217           -365.217        -400.0        \n",
       " 0.0    0.0           -1.00463e-10        9.65432e-11     1.05924e-10\n",
       " 0.0    9.81           9.81         …     9.81            9.81       "
      ]
     },
     "execution_count": 13,
     "metadata": {},
     "output_type": "execute_result"
    }
   ],
   "source": [
    "N = 25\n",
    "\n",
    "traj_data = get_traj_data(mechanism,env,Δt,N,false)\n",
    "\n",
    "x_start = zeros(traj_data.num_q+traj_data.num_v)\n",
    "x_start[1] = 1.\n",
    "add_constraint!(traj_data, xi -> xi - x_start, 1)\n",
    "\n",
    "x_goal = zeros(traj_data.num_q+traj_data.num_v)\n",
    "x_goal[1] = 1.\n",
    "x_goal[5] = 1.\n",
    "add_constraint!(traj_data, xi -> xi - x_goal, N)\n",
    "\n",
    "xopt = BilevelTrajOpt.trajopt_snopt(traj_data)"
   ]
  },
  {
   "cell_type": "code",
   "execution_count": 20,
   "metadata": {
    "collapsed": false
   },
   "outputs": [
    {
     "data": {
      "image/png": "[encoded data removed]"
     },
     "execution_count": 20,
     "metadata": {},
     "output_type": "execute_result"
    }
   ],
   "source": [
    "ts = cumsum([Δt for i in 1:N]);\n",
    "j = 5\n",
    "plot(xopt[j,:],label=\"traj\")"
   ]
  }
 ],
 "metadata": {
  "kernelspec": {
   "display_name": "Julia 0.7.0",
   "language": "julia",
   "name": "julia-0.7"
  },
  "language_info": {
   "file_extension": ".jl",
   "mimetype": "application/julia",
   "name": "julia",
   "version": "0.7.0"
  }
 },
 "nbformat": 4,
 "nbformat_minor": 2
}
