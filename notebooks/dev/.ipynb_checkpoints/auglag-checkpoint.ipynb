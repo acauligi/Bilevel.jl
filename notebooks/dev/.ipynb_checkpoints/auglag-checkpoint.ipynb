{
 "cells": [
  {
   "cell_type": "code",
   "execution_count": 16,
   "metadata": {
    "collapsed": false
   },
   "outputs": [],
   "source": [
    "using Revise\n",
    "\n",
    "using BilevelTrajOpt\n",
    "using LinearAlgebra\n",
    "using ForwardDiff"
   ]
  },
  {
   "cell_type": "code",
   "execution_count": 4,
   "metadata": {
    "collapsed": false
   },
   "outputs": [
    {
     "data": {
      "text/plain": [
       "4×4 Array{Float64,2}:\n",
       " 0.9575  0.0        0.0      0.0      \n",
       " 0.0     0.0128424  0.0      0.0      \n",
       " 0.0     0.0        0.19172  0.0      \n",
       " 0.0     0.0        0.0      0.0898911"
      ]
     },
     "execution_count": 4,
     "metadata": {},
     "output_type": "execute_result"
    }
   ],
   "source": [
    "a = rand(4)\n",
    "A = Matrix(Diagonal(a))"
   ]
  },
  {
   "cell_type": "code",
   "execution_count": 55,
   "metadata": {
    "collapsed": false
   },
   "outputs": [
    {
     "name": "stdout",
     "output_type": "stream",
     "text": [
      "Solve_Succeeded\n",
      "[6.0, 1.50878e-12, 1.0, 17.0]\n",
      "[6.0, 2.16408e-24, 1.0, 17.0]\n"
     ]
    }
   ],
   "source": [
    "# test the solution\n",
    "function f(x)\n",
    "    return sum(x)\n",
    "end\n",
    "\n",
    "function h(x)\n",
    "    return [6. .- x[1], x[1]*x[2], x[1]*.5 + x[3] - 4.]\n",
    "end\n",
    "\n",
    "function g(x)\n",
    "    return vcat(-x[2:3],5. - x[4],10. - x[4],17. - x[4],5. - x[1]*x[4])\n",
    "end\n",
    "\n",
    "x0 = zeros(4)\n",
    "λ0 = zeros(length(h(x0)))\n",
    "μ0 = zeros(length(g(x0)))\n",
    "c0 = 1.\n",
    "\n",
    "x_sol, λ_sol, μ_sol, c_sol = auglag_solve(x0,λ0,μ0,f,h,g,c0=c0)\n",
    "\n",
    "num_h = length(λ0)\n",
    "num_g = length(μ0)\n",
    "x_sol_ip = ip_solve(x0,f,h,g,num_h,num_g)\n",
    "\n",
    "println(x_sol)\n",
    "println(x_sol_ip)"
   ]
  },
  {
   "cell_type": "code",
   "execution_count": 56,
   "metadata": {
    "collapsed": false
   },
   "outputs": [
    {
     "data": {
      "text/plain": [
       "solve_prob (generic function with 1 method)"
      ]
     },
     "execution_count": 56,
     "metadata": {},
     "output_type": "execute_result"
    }
   ],
   "source": [
    "# test the gradient\n",
    "function solve_prob(z)\n",
    "    function f(x)\n",
    "        return sum(x)\n",
    "    end\n",
    "\n",
    "    function h(x)\n",
    "        return [z[1] - x[1], x[1]*x[2], x[1]*.5 + x[3] - z[2]]\n",
    "    end\n",
    "\n",
    "    function g(x)\n",
    "        return vcat(-x[2:3], z[3] - x[4], 10. - x[4], z[4] - x[4], 5. - x[1]*x[4])\n",
    "    end\n",
    "\n",
    "    x0 = zeros(4)\n",
    "    λ0 = zeros(length(h(x0)))\n",
    "    μ0 = zeros(length(g(x0)))\n",
    "\n",
    "    # x_sol_ip = ip_solve(x0,f,h,g,length(h(x0)),length(g(x0)))\n",
    "    # println(x_sol_ip)\n",
    "    \n",
    "    x_sol, λ_sol, μ_sol, c_sol = auglag_solve(x0,λ0,μ0,f,h,g)\n",
    "    # println(x_sol)\n",
    "\n",
    "    x_sol\n",
    "end"
   ]
  },
  {
   "cell_type": "code",
   "execution_count": 39,
   "metadata": {
    "collapsed": false
   },
   "outputs": [
    {
     "name": "stderr",
     "output_type": "stream",
     "text": [
      "┌ Warning: /Users/blandry/.julia/dev/Snopt/src/Snopt.jl is not a file, omitting from revision tracking\n",
      "└ @ Revise /Users/blandry/.julia/packages/Revise/EuQoV/src/parsing.jl:24\n",
      "┌ Warning: `tic()` is deprecated, use `@time`, `@elapsed`, or calls to `time_ns()` instead.\n",
      "│   caller = top-level scope at In[39]:5\n",
      "└ @ Core In[39]:5\n"
     ]
    },
    {
     "name": "stdout",
     "output_type": "stream",
     "text": [
      "elapsed time: 12.031869466 seconds\n"
     ]
    },
    {
     "name": "stderr",
     "output_type": "stream",
     "text": [
      "┌ Warning: `toc()` is deprecated, use `@time`, `@elapsed`, or calls to `time_ns()` instead.\n",
      "│   caller = top-level scope at In[39]:9\n",
      "└ @ Core In[39]:9\n",
      "┌ Warning: `tic()` is deprecated, use `@time`, `@elapsed`, or calls to `time_ns()` instead.\n",
      "│   caller = top-level scope at In[39]:10\n",
      "└ @ Core In[39]:10\n",
      "┌ Warning: `toc()` is deprecated, use `@time`, `@elapsed`, or calls to `time_ns()` instead.\n",
      "│   caller = top-level scope at In[39]:20\n",
      "└ @ Core In[39]:20\n"
     ]
    },
    {
     "data": {
      "text/plain": [
       "4-element Array{Float64,1}:\n",
       "  6.00000000000007    \n",
       "  1.63202784619898e-14\n",
       "  1.0000000000000648  \n",
       " 17.00000000000001    "
      ]
     },
     "metadata": {},
     "output_type": "display_data"
    },
    {
     "data": {
      "text/plain": [
       "4×4 Array{Float64,2}:\n",
       "  1.0          1.60752e-7    2.35487e-7  -2.669e-6  \n",
       " -1.28311e-8  -9.31255e-10  -1.37968e-9   1.55129e-8\n",
       " -0.500001     1.0          -1.17363e-7   1.33151e-6\n",
       " -2.4419e-6   -2.67507e-8   -3.01673e-8   1.0       "
      ]
     },
     "metadata": {},
     "output_type": "display_data"
    },
    {
     "data": {
      "text/plain": [
       "4×4 Array{Float64,2}:\n",
       "  0.999999    4.82798e-6   4.76837e-7   7.62939e-6\n",
       "  1.35042e-8  3.91621e-7  -1.63913e-7  -5.08502e-7\n",
       " -0.500005    0.999996     1.16229e-6  -1.65626e-5\n",
       "  2.14577e-6  8.58307e-6   3.09944e-6   1.00001   "
      ]
     },
     "metadata": {},
     "output_type": "display_data"
    },
    {
     "data": {
      "text/plain": [
       "1.7894152075166352e-5"
      ]
     },
     "metadata": {},
     "output_type": "display_data"
    },
    {
     "name": "stdout",
     "output_type": "stream",
     "text": [
      "elapsed time: 0.150633204 seconds\n",
      "----\n"
     ]
    }
   ],
   "source": [
    "# z0 = [2.,-1.,0.,1.]\n",
    "z0 = [6.,4.,5.,17.]\n",
    "\n",
    "sol = solve_prob(z0)\n",
    "\n",
    "# autodiff \n",
    "J_auto = ForwardDiff.jacobian(solve_prob,z0)\n",
    "\n",
    "# numerical\n",
    "ϵ = sqrt(eps(1.))\n",
    "J_num = zeros(size(J_auto))\n",
    "for i = 1:length(z0)\n",
    "    δ = zeros(length(z0))\n",
    "    δ[i] = ϵ\n",
    "    J_num[:,i] = (solve_prob(z0 + δ) - sol) ./ ϵ\n",
    "end\n",
    "\n",
    "println(\"----\")\n",
    "display(sol)\n",
    "display(J_auto)\n",
    "display(J_num)\n",
    "display(maximum(abs.(J_auto - J_num)))"
   ]
  }
 ],
 "metadata": {
  "kernelspec": {
   "display_name": "Julia 0.7.0",
   "language": "julia",
   "name": "julia-0.7"
  },
  "language_info": {
   "file_extension": ".jl",
   "mimetype": "application/julia",
   "name": "julia",
   "version": "0.7.0"
  }
 },
 "nbformat": 4,
 "nbformat_minor": 2
}
