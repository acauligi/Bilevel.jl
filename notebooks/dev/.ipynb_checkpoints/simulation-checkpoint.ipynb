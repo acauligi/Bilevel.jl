{
 "cells": [
  {
   "cell_type": "code",
   "execution_count": 4,
   "metadata": {},
   "outputs": [],
   "source": [
    "using Revise\n",
    "using Bilevel\n",
    "\n",
    "using RigidBodyDynamics\n",
    "using Plots\n",
    "gr(size=(500,500), html_output_format=:png);"
   ]
  },
  {
   "cell_type": "code",
   "execution_count": 5,
   "metadata": {},
   "outputs": [],
   "source": [
    "urdf = joinpath(\"..\", \"urdf\", \"ball.urdf\")\n",
    "mechanism = parse_urdf(Float64, urdf)\n",
    "body = findbody(mechanism, \"ball\")\n",
    "basejoint = joint_to_parent(body, mechanism)\n",
    "floatingjoint = Joint(basejoint.name, frame_before(basejoint), frame_after(basejoint), QuaternionFloating{Float64}())\n",
    "replace_joint!(mechanism, basejoint, floatingjoint)\n",
    "position_bounds(floatingjoint) .= RigidBodyDynamics.Bounds(-100, 100)\n",
    "velocity_bounds(floatingjoint) .= RigidBodyDynamics.Bounds(-100, 100)\n",
    "μ = 0.5\n",
    "motion_type = :xyz\n",
    "point = Point3D(default_frame(findbody(mechanism, \"floor\")), [0.,0.,0.])\n",
    "normal = FreeVector3D(default_frame(findbody(mechanism, \"floor\")), [0.,0.,1.])\n",
    "hs = HalfSpace(point, normal)\n",
    "floor = Obstacle(hs, μ, motion_type)\n",
    "obstacles = [floor]\n",
    "env = parse_contacts(mechanism, urdf, obstacles)\n",
    "x0 = MechanismState(mechanism)\n",
    "Δt = 0.005;"
   ]
  },
  {
   "cell_type": "code",
   "execution_count": 54,
   "metadata": {},
   "outputs": [],
   "source": [
    "q0 = [1., 0., 0., 0., 0., 0., 0.]\n",
    "v0 = [0., 0., 0., 0.005, 0., 0.]\n",
    "N = 10\n",
    "\n",
    "set_configuration!(x0, q0)\n",
    "set_velocity!(x0, v0)\n",
    "setdirty!(x0)\n",
    "\n",
    "ctrl! = (u,t,x) -> u[:] .= 0.;"
   ]
  },
  {
   "cell_type": "code",
   "execution_count": null,
   "metadata": {},
   "outputs": [],
   "source": [
    "println(\"Explicit Contacts\")\n",
    "traj_exp = Bilevel.simulate_ipopt(x0,env,Δt,N,ctrl!,implicit_contact=false);"
   ]
  },
  {
   "cell_type": "code",
   "execution_count": null,
   "metadata": {},
   "outputs": [],
   "source": [
    "println(\"Implicit Contacts\")\n",
    "traj_imp = Bilevel.simulate_ipopt(x0,env,Δt,N,ctrl!,implicit_contact=true);"
   ]
  },
  {
   "cell_type": "code",
   "execution_count": 55,
   "metadata": {},
   "outputs": [
    {
     "name": "stdout",
     "output_type": "stream",
     "text": [
      "Explicit Contacts\n",
      "  0.000837 seconds (1.76 k allocations: 272.844 KiB)\n",
      "  0.000631 seconds (1.76 k allocations: 272.844 KiB)\n",
      "  0.000614 seconds (1.76 k allocations: 272.844 KiB)\n",
      "  0.000541 seconds (1.76 k allocations: 272.844 KiB)\n",
      "  0.000584 seconds (1.76 k allocations: 272.844 KiB)\n",
      "  0.000573 seconds (1.76 k allocations: 272.844 KiB)\n",
      "Finished successfully: optimality conditions satisfied\n",
      "  0.000623 seconds (1.76 k allocations: 272.844 KiB)\n",
      "  0.000576 seconds (1.76 k allocations: 272.844 KiB)\n",
      "  0.000570 seconds (1.76 k allocations: 272.844 KiB)\n",
      "Finished successfully: optimality conditions satisfied\n",
      "  0.000598 seconds (1.76 k allocations: 272.844 KiB)\n",
      "  0.000606 seconds (1.76 k allocations: 272.844 KiB)\n",
      "Finished successfully: optimality conditions satisfied\n",
      "  0.000581 seconds (1.76 k allocations: 272.844 KiB)\n",
      "  0.000609 seconds (1.76 k allocations: 272.844 KiB)\n",
      "Finished successfully: optimality conditions satisfied\n",
      "  0.000589 seconds (1.76 k allocations: 272.844 KiB)\n",
      "  0.000584 seconds (1.76 k allocations: 272.844 KiB)\n",
      "Finished successfully: optimality conditions satisfied\n",
      "  0.000564 seconds (1.76 k allocations: 272.844 KiB)\n",
      "  0.000585 seconds (1.76 k allocations: 272.844 KiB)\n",
      "Finished successfully: optimality conditions satisfied\n",
      "  0.000596 seconds (1.76 k allocations: 272.844 KiB)\n",
      "  0.000579 seconds (1.76 k allocations: 272.844 KiB)\n",
      "Finished successfully: optimality conditions satisfied\n",
      "  0.000575 seconds (1.76 k allocations: 272.844 KiB)\n",
      "  0.000585 seconds (1.76 k allocations: 272.844 KiB)\n",
      "Finished successfully: optimality conditions satisfied\n",
      "  0.000571 seconds (1.76 k allocations: 272.844 KiB)\n",
      "  0.000579 seconds (1.76 k allocations: 272.844 KiB)\n",
      "Finished successfully: optimality conditions satisfied\n",
      "  0.000565 seconds (1.76 k allocations: 272.844 KiB)\n",
      "  0.000607 seconds (1.76 k allocations: 272.844 KiB)\n",
      "Finished successfully: optimality conditions satisfied\n"
     ]
    }
   ],
   "source": [
    "println(\"Explicit Contacts\")\n",
    "traj_exp = Bilevel.simulate_snopt(x0,env,Δt,N,ctrl!,implicit_contact=false);"
   ]
  },
  {
   "cell_type": "code",
   "execution_count": 60,
   "metadata": {},
   "outputs": [
    {
     "name": "stdout",
     "output_type": "stream",
     "text": [
      "Implicit Contacts\n",
      "  0.237555 seconds (713.61 k allocations: 206.331 MiB, 38.72% gc time)\n",
      "  0.224227 seconds (713.61 k allocations: 206.331 MiB, 35.12% gc time)\n",
      "  0.231155 seconds (713.61 k allocations: 206.331 MiB, 36.69% gc time)\n",
      "Finished successfully: feasible point found\n",
      "  0.223170 seconds (713.61 k allocations: 206.331 MiB, 33.85% gc time)\n",
      "  0.222192 seconds (713.61 k allocations: 206.331 MiB, 34.47% gc time)\n",
      "  0.232090 seconds (713.61 k allocations: 206.331 MiB, 36.24% gc time)\n",
      "Finished successfully: feasible point found\n",
      "  0.221799 seconds (713.61 k allocations: 206.331 MiB, 34.58% gc time)\n",
      "  0.231356 seconds (713.61 k allocations: 206.331 MiB, 36.68% gc time)\n",
      "  0.221904 seconds (713.61 k allocations: 206.331 MiB, 34.13% gc time)\n",
      "Finished successfully: feasible point found\n",
      "  0.232090 seconds (713.61 k allocations: 206.331 MiB, 36.76% gc time)\n",
      "  0.226286 seconds (713.61 k allocations: 206.331 MiB, 33.82% gc time)\n",
      "  0.225421 seconds (713.61 k allocations: 206.331 MiB, 34.49% gc time)\n",
      "Finished successfully: feasible point found\n",
      "  0.278216 seconds (713.61 k allocations: 206.331 MiB, 33.81% gc time)\n",
      "  0.244323 seconds (713.61 k allocations: 206.331 MiB, 32.23% gc time)\n",
      "  0.236982 seconds (713.61 k allocations: 206.331 MiB, 36.25% gc time)\n",
      "Finished successfully: feasible point found\n",
      "  0.229435 seconds (713.61 k allocations: 206.331 MiB, 33.43% gc time)\n",
      "  0.238025 seconds (713.61 k allocations: 206.331 MiB, 36.19% gc time)\n",
      "  0.233884 seconds (713.61 k allocations: 206.331 MiB, 32.84% gc time)\n",
      "Finished successfully: feasible point found\n",
      "  0.230084 seconds (713.61 k allocations: 206.331 MiB, 33.63% gc time)\n",
      "  0.238943 seconds (713.61 k allocations: 206.331 MiB, 35.80% gc time)\n",
      "  0.229899 seconds (713.61 k allocations: 206.331 MiB, 33.62% gc time)\n",
      "Finished successfully: feasible point found\n",
      "  0.269642 seconds (713.61 k allocations: 206.331 MiB, 33.04% gc time)\n",
      "  0.288532 seconds (713.61 k allocations: 206.331 MiB, 29.54% gc time)\n",
      "  0.231346 seconds (713.61 k allocations: 206.331 MiB, 36.68% gc time)\n",
      "Finished successfully: feasible point found\n",
      "  0.221749 seconds (713.61 k allocations: 206.331 MiB, 34.48% gc time)\n",
      "  0.222795 seconds (713.61 k allocations: 206.331 MiB, 34.59% gc time)\n",
      "  0.232074 seconds (713.61 k allocations: 206.331 MiB, 36.56% gc time)\n",
      "Finished successfully: feasible point found\n",
      "  0.221819 seconds (713.61 k allocations: 206.331 MiB, 34.91% gc time)\n",
      "  0.302268 seconds (713.61 k allocations: 206.331 MiB, 30.52% gc time)\n",
      "  0.295671 seconds (713.61 k allocations: 206.331 MiB, 27.23% gc time)\n",
      "Finished successfully: feasible point found\n"
     ]
    }
   ],
   "source": [
    "println(\"Implicit Contacts\")\n",
    "traj_imp = Bilevel.simulate_snopt(x0,env,Δt,N,ctrl!,implicit_contact=true);"
   ]
  },
  {
   "cell_type": "code",
   "execution_count": 61,
   "metadata": {},
   "outputs": [
    {
     "data": {
      "image/png": "[encoded data removed]"
     },
     "execution_count": 61,
     "metadata": {},
     "output_type": "execute_result"
    }
   ],
   "source": [
    "ts = cumsum([Δt for i in 1:N]);\n",
    "j = 11\n",
    "plot(traj_exp[j,:],label=\"explicit\")\n",
    "plot!(traj_imp[j,:],label=\"implicit\")"
   ]
  }
 ],
 "metadata": {
  "kernelspec": {
   "display_name": "Julia 0.7.0",
   "language": "julia",
   "name": "julia-0.7"
  },
  "language_info": {
   "file_extension": ".jl",
   "mimetype": "application/julia",
   "name": "julia",
   "version": "0.7.0"
  }
 },
 "nbformat": 4,
 "nbformat_minor": 2
}
