{
 "cells": [
  {
   "cell_type": "code",
   "execution_count": 34,
   "metadata": {},
   "outputs": [],
   "source": [
    "using Revise\n",
    "using Bilevel\n",
    "using Bilevel: VariableSelector, ConstraintSelector, add_var!, add_eq!, add_ineq!, contact_jacobian!, contact_friction_τ_direct!, contact_normal_τ_direct!\n",
    "\n",
    "using RigidBodyDynamics\n",
    "using MeshCatMechanisms\n",
    "using MeshCat\n",
    "using Plots\n",
    "using LinearAlgebra\n",
    "using StaticArrays\n",
    "using ForwardDiff\n",
    "using Base.Threads"
   ]
  },
  {
   "cell_type": "markdown",
   "metadata": {},
   "source": [
    "## Generating data"
   ]
  },
  {
   "cell_type": "code",
   "execution_count": 219,
   "metadata": {},
   "outputs": [
    {
     "data": {
      "text/plain": [
       "Environment(Contact[Contact(Spanning tree:\n",
       "Vertex: world (root)\n",
       "  Vertex: floor, Edge: floor_to_world\n",
       "    Vertex: box, Edge: floor_to_box\n",
       "No non-tree joints., box, Point3D in \"after_floor_to_box\": [0.0, 0.0, -0.0375], Obstacle(floor, Point3D in \"after_floor_to_world\": [0.0, 0.0, 0.0], FreeVector3D in \"after_floor_to_world\": [0.0, 0.0, 1.0], [1.0 6.12323e-17 -1.0 -1.83697e-16; 0.0 1.0 1.22465e-16 -1.0; 0.0 0.0 0.0 0.0], 1.125, false))])"
      ]
     },
     "execution_count": 219,
     "metadata": {},
     "output_type": "execute_result"
    }
   ],
   "source": [
    "urdf = joinpath(\"..\", \"..\", \"urdf\", \"box2d.urdf\")\n",
    "mechanism = parse_urdf(Float64, urdf)\n",
    "\n",
    "floor = findbody(mechanism, \"floor\")\n",
    "point = Point3D(default_frame(floor), SVector([0.,0.,0.]...))\n",
    "normal = FreeVector3D(default_frame(floor), SVector([0.,0.,1.]...))\n",
    "floor_obs = Obstacle(floor, point, normal, :xyz, 1.125)\n",
    "\n",
    "obstacles = [floor_obs]\n",
    "env = Environment(mechanism, urdf, obstacles)"
   ]
  },
  {
   "cell_type": "code",
   "execution_count": 220,
   "metadata": {},
   "outputs": [
    {
     "data": {
      "text/html": [
       "<div class='display:none'></div><unsafe-script style='display:none'>\n",
       "WebIO.mount(this.previousSibling,{&quot;props&quot;:{},&quot;nodeType&quot;:&quot;Scope&quot;,&quot;type&quot;:&quot;node&quot;,&quot;instanceArgs&quot;:{&quot;imports&quot;:{&quot;data&quot;:[],&quot;type&quot;:&quot;async_block&quot;},&quot;id&quot;:&quot;scope-ae888b03-ed59-437c-a026-f58560f01553&quot;,&quot;handlers&quot;:{&quot;_promises&quot;:{&quot;importsLoaded&quot;:[function () {\n",
       "    var frame = this.dom.querySelector(&quot;#ifr&quot;);\n",
       "    var doc = frame.contentDocument\n",
       "    var win = frame.contentWindow\n",
       "\n",
       "    // Ensure that the iframe&#39;s baseURI matches the baseURI of the\n",
       "    // outer document. This is necessary to resolve\n",
       "    // https://github.com/JuliaGizmos/WebIO.jl/issues/167\n",
       "    var base = doc.createElement(&quot;base&quot;);\n",
       "    base.setAttribute(&quot;href&quot;, document.baseURI);\n",
       "    doc.head.appendChild(base);\n",
       "\n",
       "    var webio = doc.createElement(&quot;script&quot;)\n",
       "    webio.src = &quot;/assetserver/b464848323e0a4c9a3cfe11f8edca2932188b6d9-assets/webio/dist/bundle.js&quot;\n",
       "    var parent = window\n",
       "\n",
       "    function resizeIframe() {\n",
       "        doc.body.style.padding = &#39;0&#39;\n",
       "        doc.body.style.margin = &#39;0&#39;\n",
       "        doc.documentElement.height = &#39;100%&#39;\n",
       "        doc.body.height = &#39;100%&#39;\n",
       "    }\n",
       "\n",
       "    webio.onload = function () {\n",
       "        win.WebIO.sendCallback = parent.WebIO.sendCallback; // Share stuff\n",
       "        win.WebIO.scopes = parent.WebIO.scopes\n",
       "        win.WebIO.obsscopes = parent.WebIO.obsscopes\n",
       "        win.WebIO._connected = true\n",
       "        doc.body.innerHTML = &quot;&lt;html&gt;&lt;body&gt;&quot; + &quot;&lt;div class=&#39;display:none&#39;&gt;&lt;/div&gt;&lt;unsafe-script style=&#39;display:none&#39;&gt;\\nWebIO.mount(this.previousSibling,{&amp;quot;props&amp;quot;:{},&amp;quot;nodeType&amp;quot;:&amp;quot;Scope&amp;quot;,&amp;quot;type&amp;quot;:&amp;quot;node&amp;quot;,&amp;quot;instanceArgs&amp;quot;:{&amp;quot;imports&amp;quot;:{&amp;quot;data&amp;quot;:[{&amp;quot;name&amp;quot;:null,&amp;quot;type&amp;quot;:&amp;quot;js&amp;quot;,&amp;quot;url&amp;quot;:&amp;quot;/assetserver/cff5eb7af79db7e6d407febf164549a9fdb258cd-main.min.js&amp;quot;}],&amp;quot;type&amp;quot;:&amp;quot;async_block&amp;quot;},&amp;quot;id&amp;quot;:&amp;quot;scope-cd5db64b-9c0f-4063-8290-3ea255c3fd4a&amp;quot;,&amp;quot;handlers&amp;quot;:{&amp;quot;meshcat-command&amp;quot;:[(function (val){return this.viewer.handle_command_message({&amp;quot;data&amp;quot;:val})})],&amp;quot;_promises&amp;quot;:{&amp;quot;importsLoaded&amp;quot;:[(function (mc){var element=this.dom.children[0]; this.viewer=new mc.Viewer(element); WebIO.setval({&amp;quot;name&amp;quot;:&amp;quot;meshcat-request&amp;quot;,&amp;quot;scope&amp;quot;:&amp;quot;scope-cd5db64b-9c0f-4063-8290-3ea255c3fd4a&amp;quot;,&amp;quot;id&amp;quot;:&amp;quot;ob_08&amp;quot;,&amp;quot;type&amp;quot;:&amp;quot;observable&amp;quot;},String(Date.now())); window.document.body.style.margin=&amp;quot;0&amp;quot;; return window.meshcat_viewer=this.viewer})]}},&amp;quot;systemjs_options&amp;quot;:null,&amp;quot;observables&amp;quot;:{&amp;quot;meshcat-command&amp;quot;:{&amp;quot;sync&amp;quot;:false,&amp;quot;id&amp;quot;:&amp;quot;ob_07&amp;quot;,&amp;quot;value&amp;quot;:[131,166,109,97,116,114,105,120,199,64,23,0,0,128,63,0,0,0,0,0,0,0,0,0,0,0,0,0,0,0,0,0,0,128,63,0,0,0,0,0,0,0,0,0,0,0,0,0,0,0,0,0,0,128,63,0,0,0,0,0,0,0,0,0,0,0,0,0,0,0,0,0,0,128,63,164,116,121,112,101,173,115,101,116,95,116,114,97,110,115,102,111,114,109,164,112,97,116,104,184,47,109,101,115,104,99,97,116,47,119,111,114,108,100,47,102,108,111,111,114,47,98,111,120]},&amp;quot;meshcat-controls&amp;quot;:{&amp;quot;sync&amp;quot;:true,&amp;quot;id&amp;quot;:&amp;quot;ob_09&amp;quot;,&amp;quot;value&amp;quot;:[]},&amp;quot;meshcat-request&amp;quot;:{&amp;quot;sync&amp;quot;:true,&amp;quot;id&amp;quot;:&amp;quot;ob_08&amp;quot;,&amp;quot;value&amp;quot;:&amp;quot;&amp;quot;}}},&amp;quot;children&amp;quot;:[{&amp;quot;props&amp;quot;:{&amp;quot;className&amp;quot;:&amp;quot;meshcat-viewer&amp;quot;,&amp;quot;style&amp;quot;:{&amp;quot;left&amp;quot;:0,&amp;quot;right&amp;quot;:0,&amp;quot;overflow&amp;quot;:&amp;quot;hidden&amp;quot;,&amp;quot;position&amp;quot;:&amp;quot;absolute&amp;quot;,&amp;quot;height&amp;quot;:&amp;quot;100vh&amp;quot;,&amp;quot;margin&amp;quot;:0,&amp;quot;width&amp;quot;:&amp;quot;100vw&amp;quot;}},&amp;quot;nodeType&amp;quot;:&amp;quot;DOM&amp;quot;,&amp;quot;type&amp;quot;:&amp;quot;node&amp;quot;,&amp;quot;instanceArgs&amp;quot;:{&amp;quot;namespace&amp;quot;:&amp;quot;html&amp;quot;,&amp;quot;tag&amp;quot;:&amp;quot;div&amp;quot;},&amp;quot;children&amp;quot;:[]}]})&lt;/unsafe-script&gt;&quot; + &quot;&lt;/body&gt;&lt;/html&gt;&quot;;\n",
       "        setTimeout(function () { resizeIframe() }, 0)\n",
       "    }\n",
       "\n",
       "    doc.body.appendChild(webio)\n",
       "},(function (){return this.dom.style.height=&quot;100%&quot;})]}},&quot;systemjs_options&quot;:null,&quot;observables&quot;:{}},&quot;children&quot;:[{&quot;props&quot;:{&quot;style&quot;:{&quot;flexDirection&quot;:&quot;column&quot;,&quot;height&quot;:&quot;100%&quot;,&quot;minHeight&quot;:&quot;400px&quot;,&quot;display&quot;:&quot;flex&quot;,&quot;width&quot;:&quot;100%&quot;,&quot;overflow&quot;:&quot;hidden&quot;}},&quot;nodeType&quot;:&quot;DOM&quot;,&quot;type&quot;:&quot;node&quot;,&quot;instanceArgs&quot;:{&quot;namespace&quot;:&quot;html&quot;,&quot;tag&quot;:&quot;div&quot;},&quot;children&quot;:[{&quot;props&quot;:{&quot;attributes&quot;:{&quot;height&quot;:&quot;100%&quot;,&quot;scrolling&quot;:&quot;no&quot;,&quot;src&quot;:&quot;javascript:void(0)&quot;,&quot;frameborder&quot;:0},&quot;id&quot;:&quot;ifr&quot;,&quot;style&quot;:{&quot;width&quot;:&quot;100%&quot;,&quot;flexGrow&quot;:&quot;1&quot;}},&quot;nodeType&quot;:&quot;DOM&quot;,&quot;type&quot;:&quot;node&quot;,&quot;instanceArgs&quot;:{&quot;namespace&quot;:&quot;html&quot;,&quot;tag&quot;:&quot;iframe&quot;},&quot;children&quot;:[]}]}]})</unsafe-script>"
      ],
      "text/plain": [
       "WebIO.Scope(\"scope-ae888b03-ed59-437c-a026-f58560f01553\", WebIO.Node{WebIO.DOM}(WebIO.DOM(:html, :div), Any[Node{DOM}(DOM(:html, :iframe), Any[], Dict{Symbol,Any}(:attributes=>Dict{String,Any}(\"height\"=>\"100%\",\"scrolling\"=>\"no\",\"src\"=>\"javascript:void(0)\",\"frameborder\"=>0),:id=>\"ifr\",:style=>Dict(\"width\"=>\"100%\",\"flexGrow\"=>\"1\")), 0)], Dict{Symbol,Any}(:style=>Dict(\"flexDirection\"=>\"column\",\"height\"=>\"100%\",\"minHeight\"=>\"400px\",\"display\"=>\"flex\",\"width\"=>\"100%\",\"overflow\"=>\"hidden\")), 1), Dict{String,Tuple{Observables.AbstractObservable,Union{Nothing, Bool}}}(), Set(String[]), nothing, Any[], Dict{Any,Any}(\"_promises\"=>Dict{Any,Any}(\"importsLoaded\"=>Any[JSString(\"function () {\\n    var frame = this.dom.querySelector(\\\"#ifr\\\");\\n    var doc = frame.contentDocument\\n    var win = frame.contentWindow\\n\\n    // Ensure that the iframe's baseURI matches the baseURI of the\\n    // outer document. This is necessary to resolve\\n    // https://github.com/JuliaGizmos/WebIO.jl/issues/167\\n    var base = doc.createElement(\\\"base\\\");\\n    base.setAttribute(\\\"href\\\", document.baseURI);\\n    doc.head.appendChild(base);\\n\\n    var webio = doc.createElement(\\\"script\\\")\\n    webio.src = \\\"/assetserver/b464848323e0a4c9a3cfe11f8edca2932188b6d9-assets/webio/dist/bundle.js\\\"\\n    var parent = window\\n\\n    function resizeIframe() {\\n        doc.body.style.padding = '0'\\n        doc.body.style.margin = '0'\\n        doc.documentElement.height = '100%'\\n        doc.body.height = '100%'\\n    }\\n\\n    webio.onload = function () {\\n        win.WebIO.sendCallback = parent.WebIO.sendCallback; // Share stuff\\n        win.WebIO.scopes = parent.WebIO.scopes\\n        win.WebIO.obsscopes = parent.WebIO.obsscopes\\n        win.WebIO._connected = true\\n        doc.body.innerHTML = \\\"<html><body>\\\" + \\\"<div class='display:none'></div><unsafe-script style='display:none'>\\\\nWebIO.mount(this.previousSibling,{&quot;props&quot;:{},&quot;nodeType&quot;:&quot;Scope&quot;,&quot;type&quot;:&quot;node&quot;,&quot;instanceArgs&quot;:{&quot;imports&quot;:{&quot;data&quot;:[{&quot;name&quot;:null,&quot;type&quot;:&quot;js&quot;,&quot;url&quot;:&quot;/assetserver/cff5eb7af79db7e6d407febf164549a9fdb258cd-main.min.js&quot;}],&quot;type&quot;:&quot;async_block&quot;},&quot;id&quot;:&quot;scope-cd5db64b-9c0f-4063-8290-3ea255c3fd4a&quot;,&quot;handlers&quot;:{&quot;meshcat-command&quot;:[(function (val){return this.viewer.handle_command_message({&quot;data&quot;:val})})],&quot;_promises&quot;:{&quot;importsLoaded&quot;:[(function (mc){var element=this.dom.children[0]; this.viewer=new mc.Viewer(element); WebIO.setval({&quot;name&quot;:&quot;meshcat-request&quot;,&quot;scope&quot;:&quot;scope-cd5db64b-9c0f-4063-8290-3ea255c3fd4a&quot;,&quot;id&quot;:&quot;ob_08&quot;,&quot;type&quot;:&quot;observable&quot;},String(Date.now())); window.document.body.style.margin=&quot;0&quot;; return window.meshcat_viewer=this.viewer})]}},&quot;systemjs_options&quot;:null,&quot;observables&quot;:{&quot;meshcat-command&quot;:{&quot;sync&quot;:false,&quot;id&quot;:&quot;ob_07&quot;,&quot;value&quot;:[131,166,109,97,116,114,105,120,199,64,23,0,0,128,63,0,0,0,0,0,0,0,0,0,0,0,0,0,0,0,0,0,0,128,63,0,0,0,0,0,0,0,0,0,0,0,0,0,0,0,0,0,0,128,63,0,0,0,0,0,0,0,0,0,0,0,0,0,0,0,0,0,0,128,63,164,116,121,112,101,173,115,101,116,95,116,114,97,110,115,102,111,114,109,164,112,97,116,104,184,47,109,101,115,104,99,97,116,47,119,111,114,108,100,47,102,108,111,111,114,47,98,111,120]},&quot;meshcat-controls&quot;:{&quot;sync&quot;:true,&quot;id&quot;:&quot;ob_09&quot;,&quot;value&quot;:[]},&quot;meshcat-request&quot;:{&quot;sync&quot;:true,&quot;id&quot;:&quot;ob_08&quot;,&quot;value&quot;:&quot;&quot;}}},&quot;children&quot;:[{&quot;props&quot;:{&quot;className&quot;:&quot;meshcat-viewer&quot;,&quot;style&quot;:{&quot;left&quot;:0,&quot;right&quot;:0,&quot;overflow&quot;:&quot;hidden&quot;,&quot;position&quot;:&quot;absolute&quot;,&quot;height&quot;:&quot;100vh&quot;,&quot;margin&quot;:0,&quot;width&quot;:&quot;100vw&quot;}},&quot;nodeType&quot;:&quot;DOM&quot;,&quot;type&quot;:&quot;node&quot;,&quot;instanceArgs&quot;:{&quot;namespace&quot;:&quot;html&quot;,&quot;tag&quot;:&quot;div&quot;},&quot;children&quot;:[]}]})</unsafe-script>\\\" + \\\"</body></html>\\\";\\n        setTimeout(function () { resizeIframe() }, 0)\\n    }\\n\\n    doc.body.appendChild(webio)\\n}\"), JSString(\"(function (){return this.dom.style.height=\\\"100%\\\"})\")])), WebIO.ConnectionPool(Channel{Any}(sz_max:9223372036854775807,sz_curr:0), Set(WebIO.AbstractConnection[]), Channel{WebIO.AbstractConnection}(sz_max:32,sz_curr:0)))"
      ]
     },
     "execution_count": 220,
     "metadata": {},
     "output_type": "execute_result"
    }
   ],
   "source": [
    "mvis = MechanismVisualizer(mechanism, URDFVisuals(urdf))\n",
    "IJuliaCell(mvis)"
   ]
  },
  {
   "cell_type": "code",
   "execution_count": null,
   "metadata": {},
   "outputs": [],
   "source": [
    "widget = manipulate!(mvis)"
   ]
  },
  {
   "cell_type": "code",
   "execution_count": 221,
   "metadata": {},
   "outputs": [
    {
     "data": {
      "text/plain": [
       "(Array{Float64,1}[[0.0, -0.0375, 0.0], [0.589637, -0.0375, 6.82873e-6], [1.06891, -0.0375, 2.04862e-5], [1.43782, -0.0375, 4.09726e-5], [1.69636, -0.0375, 6.82878e-5], [1.84453, -0.0375, 0.000102432], [1.88234, -0.0375, 0.000143405], [1.88234, -0.0375, 0.000186718], [1.88234, -0.0375, 0.00023003], [1.88234, -0.0375, 0.000273342]], Array{Float64,1}[[7.0, 0.0, 0.0], [5.89637, -4.02647e-5, 6.82873e-5], [4.79272, -9.81849e-5, 0.000136575], [3.68907, -0.000151151, 0.000204864], [2.58542, -0.000176552, 0.000273152], [1.48175, -0.000151777, 0.000341442], [0.378072, -5.42156e-5, 0.000409732], [1.62421e-5, -3.51731e-10, 0.000433124], [1.62421e-5, -3.51748e-10, 0.000433124], [1.62421e-5, -3.51748e-10, 0.000433124]], Array{Float64,1}[], Array{Array{Float64,1},1}[[[0.0, 0.0, 0.0, 0.0, 0.0, 0.0]], [[1.00001, 0.0, 0.0, 1.12501, 0.0, 5.89636]], [[1.00002, 0.0, 0.0, 1.12502, 0.0, 4.79272]], [[1.00002, 0.0, 0.0, 1.12503, 0.0, 3.68907]], [[1.00003, 0.0, 0.0, 1.12503, 0.0, 2.5854]], [[1.00004, 0.0, 0.0, 1.12504, 0.0, 1.48174]], [[1.00005, 0.0, 0.0, 1.12505, 0.0, 0.378057]], [[1.00002, 0.0, 1.64943e-21, 0.385378, 6.6666e-10, 4.73081e-14]], [[1.0, 0.192689, 1.64943e-21, 0.192689, 0.0, -3.54809e-14]], [[1.0, 0.192689, 1.64943e-21, 0.192689, 0.0, -3.54809e-14]]], Array{Float64,1}[], [0.0, 0.1, 0.2, 0.3, 0.4, 0.5, 0.6, 0.7, 0.8, 0.9], [0.0 0.589637 … 1.88234 1.88234; -0.0375 -0.0375 … -0.0375 -0.0375; … ; 0.0 -4.02647e-5 … -3.51748e-10 -3.51748e-10; 0.0 6.82873e-5 … 0.000433124 0.000433124], [0.0 0.589637 … 1.88234 1.88234; -0.0375 -0.0375 … -0.0375 -0.0375; … ; 0.0 5.89636 … -3.54809e-14 -3.54809e-14; 0.0 1.00001 … 1.0 1.0])"
      ]
     },
     "execution_count": 221,
     "metadata": {},
     "output_type": "execute_result"
    }
   ],
   "source": [
    "N = 10\n",
    "Δt = 0.1\n",
    "q0 = [0., -0.0375, 0.]\n",
    "v0 = [7., 0., 0.]\n",
    "\n",
    "sim_data = get_sim_data_indirect(mechanism,env,Δt)\n",
    "null_ctrl! = (u,t,x) -> u[:] .= 0.\n",
    "x0 = MechanismState(mechanism)\n",
    "set_configuration!(x0, q0)\n",
    "set_velocity!(x0, v0)\n",
    "setdirty!(x0)\n",
    "traj = Bilevel.simulate(sim_data,null_ctrl!,x0,N)"
   ]
  },
  {
   "cell_type": "code",
   "execution_count": 223,
   "metadata": {},
   "outputs": [],
   "source": [
    "setanimation!(mvis, traj[6], traj[1])"
   ]
  },
  {
   "cell_type": "code",
   "execution_count": 222,
   "metadata": {},
   "outputs": [
    {
     "data": {
      "image/svg+xml": [
       "<?xml version=\"1.0\" encoding=\"utf-8\"?>\n",
       "<svg xmlns=\"http://www.w3.org/2000/svg\" xmlns:xlink=\"http://www.w3.org/1999/xlink\" width=\"600\" height=\"400\" viewBox=\"0 0 2400 1600\">\n",
       "<defs>\n",
       "  <clipPath id=\"clip7000\">\n",
       "    <rect x=\"0\" y=\"0\" width=\"2400\" height=\"1600\"/>\n",
       "  </clipPath>\n",
       "</defs>\n",
       "<polygon clip-path=\"url(#clip7000)\" points=\"\n",
       "0,1600 2400,1600 2400,0 0,0 \n",
       "  \" fill=\"#ffffff\" fill-rule=\"evenodd\" fill-opacity=\"1\"/>\n",
       "<defs>\n",
       "  <clipPath id=\"clip7001\">\n",
       "    <rect x=\"480\" y=\"0\" width=\"1681\" height=\"1600\"/>\n",
       "  </clipPath>\n",
       "</defs>\n",
       "<polygon clip-path=\"url(#clip7000)\" points=\"\n",
       "153.898,1487.47 2352.76,1487.47 2352.76,47.2441 153.898,47.2441 \n",
       "  \" fill=\"#ffffff\" fill-rule=\"evenodd\" fill-opacity=\"1\"/>\n",
       "<defs>\n",
       "  <clipPath id=\"clip7002\">\n",
       "    <rect x=\"153\" y=\"47\" width=\"2200\" height=\"1441\"/>\n",
       "  </clipPath>\n",
       "</defs>\n",
       "<polyline clip-path=\"url(#clip7002)\" style=\"stroke:#000000; stroke-width:2; stroke-opacity:0.1; fill:none\" points=\"\n",
       "  446.618,1487.47 446.618,47.2441 \n",
       "  \"/>\n",
       "<polyline clip-path=\"url(#clip7002)\" style=\"stroke:#000000; stroke-width:2; stroke-opacity:0.1; fill:none\" points=\"\n",
       "  907.595,1487.47 907.595,47.2441 \n",
       "  \"/>\n",
       "<polyline clip-path=\"url(#clip7002)\" style=\"stroke:#000000; stroke-width:2; stroke-opacity:0.1; fill:none\" points=\"\n",
       "  1368.57,1487.47 1368.57,47.2441 \n",
       "  \"/>\n",
       "<polyline clip-path=\"url(#clip7002)\" style=\"stroke:#000000; stroke-width:2; stroke-opacity:0.1; fill:none\" points=\"\n",
       "  1829.55,1487.47 1829.55,47.2441 \n",
       "  \"/>\n",
       "<polyline clip-path=\"url(#clip7002)\" style=\"stroke:#000000; stroke-width:2; stroke-opacity:0.1; fill:none\" points=\"\n",
       "  2290.52,1487.47 2290.52,47.2441 \n",
       "  \"/>\n",
       "<polyline clip-path=\"url(#clip7002)\" style=\"stroke:#000000; stroke-width:2; stroke-opacity:0.1; fill:none\" points=\"\n",
       "  153.898,1446.71 2352.76,1446.71 \n",
       "  \"/>\n",
       "<polyline clip-path=\"url(#clip7002)\" style=\"stroke:#000000; stroke-width:2; stroke-opacity:0.1; fill:none\" points=\"\n",
       "  153.898,1085.81 2352.76,1085.81 \n",
       "  \"/>\n",
       "<polyline clip-path=\"url(#clip7002)\" style=\"stroke:#000000; stroke-width:2; stroke-opacity:0.1; fill:none\" points=\"\n",
       "  153.898,724.897 2352.76,724.897 \n",
       "  \"/>\n",
       "<polyline clip-path=\"url(#clip7002)\" style=\"stroke:#000000; stroke-width:2; stroke-opacity:0.1; fill:none\" points=\"\n",
       "  153.898,363.988 2352.76,363.988 \n",
       "  \"/>\n",
       "<polyline clip-path=\"url(#clip7000)\" style=\"stroke:#000000; stroke-width:4; stroke-opacity:1; fill:none\" points=\"\n",
       "  153.898,1487.47 2352.76,1487.47 \n",
       "  \"/>\n",
       "<polyline clip-path=\"url(#clip7000)\" style=\"stroke:#000000; stroke-width:4; stroke-opacity:1; fill:none\" points=\"\n",
       "  153.898,1487.47 153.898,47.2441 \n",
       "  \"/>\n",
       "<polyline clip-path=\"url(#clip7000)\" style=\"stroke:#000000; stroke-width:4; stroke-opacity:1; fill:none\" points=\"\n",
       "  446.618,1487.47 446.618,1465.87 \n",
       "  \"/>\n",
       "<polyline clip-path=\"url(#clip7000)\" style=\"stroke:#000000; stroke-width:4; stroke-opacity:1; fill:none\" points=\"\n",
       "  907.595,1487.47 907.595,1465.87 \n",
       "  \"/>\n",
       "<polyline clip-path=\"url(#clip7000)\" style=\"stroke:#000000; stroke-width:4; stroke-opacity:1; fill:none\" points=\"\n",
       "  1368.57,1487.47 1368.57,1465.87 \n",
       "  \"/>\n",
       "<polyline clip-path=\"url(#clip7000)\" style=\"stroke:#000000; stroke-width:4; stroke-opacity:1; fill:none\" points=\"\n",
       "  1829.55,1487.47 1829.55,1465.87 \n",
       "  \"/>\n",
       "<polyline clip-path=\"url(#clip7000)\" style=\"stroke:#000000; stroke-width:4; stroke-opacity:1; fill:none\" points=\"\n",
       "  2290.52,1487.47 2290.52,1465.87 \n",
       "  \"/>\n",
       "<polyline clip-path=\"url(#clip7000)\" style=\"stroke:#000000; stroke-width:4; stroke-opacity:1; fill:none\" points=\"\n",
       "  153.898,1446.71 186.881,1446.71 \n",
       "  \"/>\n",
       "<polyline clip-path=\"url(#clip7000)\" style=\"stroke:#000000; stroke-width:4; stroke-opacity:1; fill:none\" points=\"\n",
       "  153.898,1085.81 186.881,1085.81 \n",
       "  \"/>\n",
       "<polyline clip-path=\"url(#clip7000)\" style=\"stroke:#000000; stroke-width:4; stroke-opacity:1; fill:none\" points=\"\n",
       "  153.898,724.897 186.881,724.897 \n",
       "  \"/>\n",
       "<polyline clip-path=\"url(#clip7000)\" style=\"stroke:#000000; stroke-width:4; stroke-opacity:1; fill:none\" points=\"\n",
       "  153.898,363.988 186.881,363.988 \n",
       "  \"/>\n",
       "<g clip-path=\"url(#clip7000)\">\n",
       "<text style=\"fill:#000000; fill-opacity:1; font-family:Arial,Helvetica Neue,Helvetica,sans-serif; font-size:48px; text-anchor:middle;\" transform=\"rotate(0, 446.618, 1541.47)\" x=\"446.618\" y=\"1541.47\">2</text>\n",
       "</g>\n",
       "<g clip-path=\"url(#clip7000)\">\n",
       "<text style=\"fill:#000000; fill-opacity:1; font-family:Arial,Helvetica Neue,Helvetica,sans-serif; font-size:48px; text-anchor:middle;\" transform=\"rotate(0, 907.595, 1541.47)\" x=\"907.595\" y=\"1541.47\">4</text>\n",
       "</g>\n",
       "<g clip-path=\"url(#clip7000)\">\n",
       "<text style=\"fill:#000000; fill-opacity:1; font-family:Arial,Helvetica Neue,Helvetica,sans-serif; font-size:48px; text-anchor:middle;\" transform=\"rotate(0, 1368.57, 1541.47)\" x=\"1368.57\" y=\"1541.47\">6</text>\n",
       "</g>\n",
       "<g clip-path=\"url(#clip7000)\">\n",
       "<text style=\"fill:#000000; fill-opacity:1; font-family:Arial,Helvetica Neue,Helvetica,sans-serif; font-size:48px; text-anchor:middle;\" transform=\"rotate(0, 1829.55, 1541.47)\" x=\"1829.55\" y=\"1541.47\">8</text>\n",
       "</g>\n",
       "<g clip-path=\"url(#clip7000)\">\n",
       "<text style=\"fill:#000000; fill-opacity:1; font-family:Arial,Helvetica Neue,Helvetica,sans-serif; font-size:48px; text-anchor:middle;\" transform=\"rotate(0, 2290.52, 1541.47)\" x=\"2290.52\" y=\"1541.47\">10</text>\n",
       "</g>\n",
       "<g clip-path=\"url(#clip7000)\">\n",
       "<text style=\"fill:#000000; fill-opacity:1; font-family:Arial,Helvetica Neue,Helvetica,sans-serif; font-size:48px; text-anchor:end;\" transform=\"rotate(0, 129.898, 1464.21)\" x=\"129.898\" y=\"1464.21\">0.0</text>\n",
       "</g>\n",
       "<g clip-path=\"url(#clip7000)\">\n",
       "<text style=\"fill:#000000; fill-opacity:1; font-family:Arial,Helvetica Neue,Helvetica,sans-serif; font-size:48px; text-anchor:end;\" transform=\"rotate(0, 129.898, 1103.31)\" x=\"129.898\" y=\"1103.31\">0.5</text>\n",
       "</g>\n",
       "<g clip-path=\"url(#clip7000)\">\n",
       "<text style=\"fill:#000000; fill-opacity:1; font-family:Arial,Helvetica Neue,Helvetica,sans-serif; font-size:48px; text-anchor:end;\" transform=\"rotate(0, 129.898, 742.397)\" x=\"129.898\" y=\"742.397\">1.0</text>\n",
       "</g>\n",
       "<g clip-path=\"url(#clip7000)\">\n",
       "<text style=\"fill:#000000; fill-opacity:1; font-family:Arial,Helvetica Neue,Helvetica,sans-serif; font-size:48px; text-anchor:end;\" transform=\"rotate(0, 129.898, 381.488)\" x=\"129.898\" y=\"381.488\">1.5</text>\n",
       "</g>\n",
       "<polyline clip-path=\"url(#clip7002)\" style=\"stroke:#009af9; stroke-width:4; stroke-opacity:1; fill:none\" points=\"\n",
       "  216.13,1446.71 446.618,1021.1 677.106,675.157 907.595,408.873 1138.08,222.254 1368.57,115.299 1599.06,88.0089 1829.55,88.0077 2060.04,88.0065 2290.52,88.0053 \n",
       "  \n",
       "  \"/>\n",
       "<polygon clip-path=\"url(#clip7000)\" points=\"\n",
       "1989.93,251.724 2280.76,251.724 2280.76,130.764 1989.93,130.764 \n",
       "  \" fill=\"#ffffff\" fill-rule=\"evenodd\" fill-opacity=\"1\"/>\n",
       "<polyline clip-path=\"url(#clip7000)\" style=\"stroke:#000000; stroke-width:4; stroke-opacity:1; fill:none\" points=\"\n",
       "  1989.93,251.724 2280.76,251.724 2280.76,130.764 1989.93,130.764 1989.93,251.724 \n",
       "  \"/>\n",
       "<polyline clip-path=\"url(#clip7000)\" style=\"stroke:#009af9; stroke-width:4; stroke-opacity:1; fill:none\" points=\"\n",
       "  2013.93,191.244 2157.93,191.244 \n",
       "  \"/>\n",
       "<g clip-path=\"url(#clip7000)\">\n",
       "<text style=\"fill:#000000; fill-opacity:1; font-family:Arial,Helvetica Neue,Helvetica,sans-serif; font-size:48px; text-anchor:start;\" transform=\"rotate(0, 2181.93, 208.744)\" x=\"2181.93\" y=\"208.744\">y1</text>\n",
       "</g>\n",
       "</svg>\n"
      ]
     },
     "execution_count": 222,
     "metadata": {},
     "output_type": "execute_result"
    }
   ],
   "source": [
    "plot(traj[7][1,:])"
   ]
  },
  {
   "cell_type": "code",
   "execution_count": 224,
   "metadata": {},
   "outputs": [
    {
     "data": {
      "text/plain": [
       "6-element Array{Float64,1}:\n",
       "  1.882344890668978     \n",
       " -0.037499998634247966  \n",
       "  0.0002733424096741491 \n",
       "  1.6242149717838517e-5 \n",
       " -3.5174761891639743e-10\n",
       "  0.00043312399463335695"
      ]
     },
     "execution_count": 224,
     "metadata": {},
     "output_type": "execute_result"
    }
   ],
   "source": [
    "traj[7][:,end]"
   ]
  },
  {
   "cell_type": "code",
   "execution_count": 225,
   "metadata": {},
   "outputs": [],
   "source": [
    "num_pos = num_positions(mechanism)\n",
    "num_vel = num_velocities(mechanism)\n",
    "\n",
    "sample_vs = VariableSelector()\n",
    "add_var!(sample_vs, :q0, num_pos)\n",
    "add_var!(sample_vs, :v0, num_vel)\n",
    "add_var!(sample_vs, :u0, num_vel)\n",
    "add_var!(sample_vs, :qnext, num_pos)\n",
    "add_var!(sample_vs, :vnext, num_vel)\n",
    "add_var!(sample_vs, :h, 1)\n",
    "\n",
    "data = Array{Array{Float64,1},1}()\n",
    "\n",
    "for n = 1:N-1\n",
    "    q0 = traj[1][n]\n",
    "    v0 = traj[2][n]\n",
    "    u0 = zeros(num_vel)\n",
    "    qnext = traj[1][n+1]\n",
    "    vnext = traj[2][n+1]\n",
    "    h = traj[6][n+1] - traj[6][n]\n",
    "    \n",
    "    sample = zeros(Float64, sample_vs.num_vars)\n",
    "    sample[sample_vs(:q0)] = q0\n",
    "    sample[sample_vs(:v0)] = v0\n",
    "    sample[sample_vs(:u0)] = u0\n",
    "    sample[sample_vs(:qnext)] = qnext\n",
    "    sample[sample_vs(:vnext)] = vnext\n",
    "    sample[sample_vs(:h)] = [h]\n",
    "    \n",
    "    push!(data, sample)\n",
    "end"
   ]
  },
  {
   "cell_type": "markdown",
   "metadata": {},
   "source": [
    "## Bilevel parameter estimation"
   ]
  },
  {
   "cell_type": "code",
   "execution_count": 233,
   "metadata": {},
   "outputs": [],
   "source": [
    "vs = VariableSelector()\n",
    "cs = ConstraintSelector()\n",
    "add_var!(vs, :μ, 1)\n",
    "add_ineq!(cs, :μ_pos, 1)\n",
    "\n",
    "function generate_solver_fn_estimation_direct(data, sample_vs)    \n",
    "    sim_data = get_sim_data_direct(mechanism,env,Δt)\n",
    "    num_contacts = length(sim_data.env.contacts)\n",
    "    num_vel = num_velocities(mechanism)\n",
    "    num_samples = length(data)\n",
    "    \n",
    "    sim_data.normal_options[1][\"num_fosteps\"] = 0\n",
    "    sim_data.normal_options[1][\"num_sosteps\"] = 25\n",
    "    sim_data.normal_options[1][\"c\"] = 1\n",
    "    sim_data.normal_options[1][\"c_fos\"] = 1\n",
    "    sim_data.normal_options[1][\"c_sos\"] = 1\n",
    "\n",
    "    sim_data.fric_options[1][\"num_fosteps\"] = 0\n",
    "    sim_data.fric_options[1][\"num_sosteps\"] = 25\n",
    "    sim_data.fric_options[1][\"c\"] = 1\n",
    "    sim_data.fric_options[1][\"c_fos\"] = 1\n",
    "    sim_data.fric_options[1][\"c_sos\"] = 1\n",
    "    \n",
    "    function eval_obj(params::AbstractArray{T}) where T\n",
    "        # set the friction coefficient for the floor\n",
    "        obstacles[1].μ = vs(params, :μ)[1]\n",
    "        \n",
    "        # evaluate the dynamics residual on each datapoint as an inner problem\n",
    "        losses = Array{T,1}(undef, num_samples)\n",
    "        @threads for i = 1:num_samples\n",
    "            sample = data[i]\n",
    "            q0 = sample_vs(sample, :q0)\n",
    "            v0 = sample_vs(sample, :v0)\n",
    "            u0 = sample_vs(sample, :u0)\n",
    "            qnext = sample_vs(sample, :qnext)\n",
    "            vnext = sample_vs(sample, :vnext)\n",
    "            h = sample_vs(sample, :h)[1]\n",
    "\n",
    "            x0 = sim_data.state_cache[1][Float64]\n",
    "            xn = sim_data.state_cache[2][Float64]\n",
    "            envj = sim_data.envj_cache[2][Float64]\n",
    "\n",
    "            set_configuration!(x0, q0)\n",
    "            set_velocity!(x0, v0)\n",
    "            setdirty!(x0)\n",
    "            set_configuration!(xn, qnext)\n",
    "            set_velocity!(xn, vnext)\n",
    "            setdirty!(xn)\n",
    "\n",
    "            normalize_configuration!(x0)\n",
    "            normalize_configuration!(xn)\n",
    "\n",
    "            H = mass_matrix(x0)\n",
    "            Hi = inv(H)\n",
    "            config_derivative = configuration_derivative(xn)\n",
    "            dyn_bias = dynamics_bias(xn)\n",
    "\n",
    "            contact_jacobian!(envj, xn)\n",
    "            normal_bias = Vector{T}(undef, num_vel)\n",
    "            contact_bias = Vector{T}(undef, num_vel)\n",
    "            \n",
    "            x_normal = contact_normal_τ_direct!(normal_bias, sim_data, h, Hi, envj, dyn_bias, u0, v0, params, 1)\n",
    "            # for now assume distributed normal force\n",
    "            x_normal ./= num_contacts\n",
    "            \n",
    "            contact_friction_τ_direct!(contact_bias, sim_data, h, Hi, envj, dyn_bias, u0, v0, params, x_normal, 1)\n",
    "        \n",
    "            contact_bias_exp = u0 .- dyn_bias .- (1. / h) * H * (vnext - v0)\n",
    "            \n",
    "            # if (T<:ForwardDiff.Dual)\n",
    "            #     display(map(ForwardDiff.value, map(ForwardDiff.value, contact_bias)))\n",
    "            #     display(map(ForwardDiff.value, contact_bias_exp))\n",
    "            # end\n",
    "                \n",
    "            err = contact_bias - contact_bias_exp\n",
    "            loss = err'*err\n",
    "            \n",
    "            losses[i] = loss\n",
    "        end\n",
    "        \n",
    "        # add losses\n",
    "        sum(losses)\n",
    "    end\n",
    "\n",
    "    function eval_cons(params::AbstractArray{T}) where T        \n",
    "        # friction coeffs are positive\n",
    "        g = Vector{T}(undef, cs.num_eqs + cs.num_ineqs)\n",
    "        μ = params[1]\n",
    "        g[cs(:μ_pos)] .= [1e-6 - μ]\n",
    "        \n",
    "        g\n",
    "    end\n",
    "    \n",
    "    return Bilevel.generate_autodiff_solver_fn(eval_obj,eval_cons,cs.eqs,cs.ineqs,vs.num_vars,hessian=false)\n",
    "end\n",
    "\n",
    "solver_fn = generate_solver_fn_estimation_direct(data, sample_vs)\n",
    "\n",
    "μ0 = [.1]\n",
    "options = Dict{String, Any}()\n",
    "options[\"Derivative option\"] = 1\n",
    "options[\"Verify level\"] = -1\n",
    "options[\"Major optimality tolerance\"] = 1e-6\n",
    "options[\"Scale option\"] = 2;"
   ]
  },
  {
   "cell_type": "code",
   "execution_count": 234,
   "metadata": {},
   "outputs": [
    {
     "data": {
      "text/plain": [
       "([1.125], \"Finished successfully: optimality conditions satisfied\")"
      ]
     },
     "execution_count": 234,
     "metadata": {},
     "output_type": "execute_result"
    }
   ],
   "source": [
    "μopt, info = Bilevel.snopt(solver_fn, cs.num_eqs, cs.num_ineqs, μ0, options)"
   ]
  },
  {
   "cell_type": "code",
   "execution_count": 227,
   "metadata": {},
   "outputs": [
    {
     "data": {
      "text/plain": [
       "(13.560367605056136, Float64[], [-0.199999], [-30.0975], Array{Float64}(0,1), [-1.0], [0.0])"
      ]
     },
     "metadata": {},
     "output_type": "display_data"
    },
    {
     "data": {
      "text/plain": [
       "(6.149656264141305, Float64[], [-0.499999], [-19.6789], Array{Float64}(0,1), [-1.0], [0.0])"
      ]
     },
     "metadata": {},
     "output_type": "display_data"
    },
    {
     "data": {
      "text/plain": [
       "(2.2138762625396966, Float64[], [-0.749999], [-11.8073], Array{Float64}(0,1), [-1.0], [0.0])"
      ]
     },
     "metadata": {},
     "output_type": "display_data"
    },
    {
     "data": {
      "text/plain": [
       "(0.24598625476359556, Float64[], [-0.999999], [-3.93578], Array{Float64}(0,1), [-1.0], [0.0])"
      ]
     },
     "metadata": {},
     "output_type": "display_data"
    },
    {
     "data": {
      "text/plain": [
       "(6.600500832989247e-15, Float64[], [-1.125], [-3.68666e-7], Array{Float64}(0,1), [-1.0], [0.0])"
      ]
     },
     "metadata": {},
     "output_type": "display_data"
    },
    {
     "data": {
      "text/plain": [
       "(0.2459862477505096, Float64[], [-1.25], [3.93578], Array{Float64}(0,1), [-1.0], [0.0])"
      ]
     },
     "metadata": {},
     "output_type": "display_data"
    },
    {
     "data": {
      "text/plain": [
       "(2.2138762427592074, Float64[], [-1.5], [11.8073], Array{Float64}(0,1), [-1.0], [0.0])"
      ]
     },
     "metadata": {},
     "output_type": "display_data"
    },
    {
     "data": {
      "text/plain": [
       "(10.434024863056557, Float64[], [-2.0], [22.9585], Array{Float64}(0,1), [-1.0], [0.0])"
      ]
     },
     "metadata": {},
     "output_type": "display_data"
    }
   ],
   "source": [
    "display(solver_fn([.2]))\n",
    "display(solver_fn([.5]))\n",
    "display(solver_fn([.75]))\n",
    "display(solver_fn([1.]))\n",
    "display(solver_fn([1.125]))\n",
    "display(solver_fn([1.25]))\n",
    "display(solver_fn([1.5]))\n",
    "display(solver_fn([2.]))"
   ]
  },
  {
   "cell_type": "markdown",
   "metadata": {},
   "source": [
    "## Bilevel trajectory optimization (box only)"
   ]
  },
  {
   "cell_type": "code",
   "execution_count": 270,
   "metadata": {},
   "outputs": [
    {
     "data": {
      "text/plain": [
       "get_prob_init (generic function with 1 method)"
      ]
     },
     "execution_count": 270,
     "metadata": {},
     "output_type": "execute_result"
    }
   ],
   "source": [
    "μ_estimate = 1.125\n",
    "\n",
    "obstacles[1].μ = μ_estimate\n",
    "\n",
    "q1 = [0., -0.0375, 0.]\n",
    "qN = [1.7, -0.0375, 0.]\n",
    "N = 10\n",
    "Δt = .1\n",
    "\n",
    "q_min = [-5., -5., -2*pi]\n",
    "q_max = [5., 5., 2*pi]\n",
    "\n",
    "function get_prob_limits(sim_data)\n",
    "    x_min = -1e19*ones(sim_data.vs.num_vars)\n",
    "    x_max = 1e19*ones(sim_data.vs.num_vars)\n",
    "    \n",
    "    # joint limits\n",
    "    add_box_con_snopt!(x_min, x_max, sim_data, :q, q_min, q_max, 1:N)\n",
    "    add_box_con_snopt!(x_min, x_max, sim_data, :h, [.9*Δt], [1.1*Δt], 1:N-1)\n",
    "    \n",
    "    # torques limits\n",
    "    add_box_con_snopt!(x_min, x_max, sim_data, :u, zeros(num_velocities(mechanism)), zeros(num_velocities(mechanism)), 1:N-1)\n",
    "\n",
    "    x_min, x_max\n",
    "end\n",
    "\n",
    "function add_prob_constraints!(sim_data)\n",
    "    vs = sim_data.vs\n",
    "\n",
    "    add_eq!(sim_data, :cq1, length(q1), x -> vs(x, :q1) - q1)\n",
    "    add_eq!(sim_data, :cqN, length(qN), x -> vs(x, Symbol(\"q\", N)) - qN)\n",
    "    add_eq!(sim_data, :cv1, 1, x -> vs(x, :v1)[2])\n",
    "    add_eq!(sim_data, :cvN, 1, x -> vs(x, Symbol(\"v\", N))[1])\n",
    "end\n",
    "\n",
    "function get_prob_init(sim_data)\n",
    "    x0 = zeros(sim_data.vs.num_vars)\n",
    "    for n = 1:N\n",
    "        x0[sim_data.vs(Symbol(\"q\", n))] .= n/N*(qN - q1) + q1\n",
    "    end\n",
    "    \n",
    "    x0\n",
    "end"
   ]
  },
  {
   "cell_type": "code",
   "execution_count": 272,
   "metadata": {},
   "outputs": [
    {
     "name": "stdout",
     "output_type": "stream",
     "text": [
      "The problem appears to be infeasible: nonlinear infeasibilities minimized\n"
     ]
    },
    {
     "data": {
      "text/plain": [
       "(Array{Float64,1}[[3.46945e-18, -0.0375, 0.0], [0.554427, -0.0375, -2.32649e-5], [0.971599, -0.0375, -3.89901e-5], [1.29938, -0.0375, -4.91842e-5], [1.56646, -0.0375, -5.3381e-5], [1.7, -0.0375, -4.93151e-5], [1.7, -0.0375, -3.69863e-5], [1.7, -0.0375, -2.46575e-5], [1.7, -0.0375, -1.23288e-5], [1.7, -0.0375, 0.0]], Array{Float64,1}[[6.71557, 0.0, -0.000303446], [5.62848, 0.000130943, -0.000236182], [4.63523, 0.000180729, -0.000174725], [3.64198, 0.000179128, -0.000113268], [2.428, 0.000129609, -3.81526e-5], [1.21401, 5.98689e-5, 3.69632e-5], [4.20299e-6, -2.59052e-11, 0.00011208], [4.20299e-6, -2.80554e-11, 0.00011208], [4.20299e-6, -2.65452e-11, 0.00011208], [4.20299e-6, -2.66154e-11, 0.00011208]], Array{Float64,1}[[0.0, 0.0, 0.0], [0.0, 0.0, 0.0], [0.0, 0.0, 0.0], [0.0, 0.0, 0.0], [0.0, 0.0, 0.0], [0.0, 0.0, 0.0], [0.0, 0.0, 0.0], [0.0, 0.0, 0.0], [0.0, 0.0, 0.0]], [0.0985039, 0.09, 0.09, 0.11, 0.11, 0.11, 0.11, 0.11, 0.11], Array{Float64,1}[[0.999974, 0.0, -1.02327e-16, 1.12497, -3.83727e-17, 5.62849], [0.999982, 0.0, 0.0, 1.12498, 0.0, 4.63524], [0.999989, -1.09472e-14, 0.0, 1.12499, 0.0, 3.64199], [0.999995, -2.77687e-18, 0.0, 1.12499, 0.0, 2.428], [1.0, 0.0, 0.0, 1.12501, 0.0, 1.21401], [1.00001, -5.81056e-11, 0.0, 1.12502, 0.0, 0.0], [1.0, 0.5625, 0.0, 0.5625, 0.0, 2.06664e-13], [1.0, 0.0, 1.125, -5.79787e-16, -2.77558e-17, 1.584e-17], [1.0, 0.5625, 0.0, 0.5625, 3.46945e-18, -7.81618e-15]], Array{Float64,1}[], [0.0, 0.0985039, 0.188504, 0.278504, 0.388504, 0.498504, 0.608504, 0.718504, 0.828504, 0.938504], [3.46945e-18 0.554427 … 1.7 1.7; -0.0375 -0.0375 … -0.0375 -0.0375; … ; 0.0 0.000130943 … -2.65452e-11 -2.66154e-11; -0.000303446 -0.000236182 … 0.00011208 0.00011208])"
      ]
     },
     "execution_count": 272,
     "metadata": {},
     "output_type": "execute_result"
    }
   ],
   "source": [
    "sim_data = get_trajopt_data_indirect(mechanism,env,Δt,N,relax_comp=false)\n",
    "add_prob_constraints!(sim_data)\n",
    "x_min, x_max = get_prob_limits(sim_data)\n",
    "x0 = get_prob_init(sim_data)\n",
    "traj_indirect = Bilevel.trajopt(sim_data, x0=x0, x_min=x_min, x_max=x_max, verbose=1)"
   ]
  },
  {
   "cell_type": "code",
   "execution_count": 279,
   "metadata": {},
   "outputs": [
    {
     "name": "stdout",
     "output_type": "stream",
     "text": [
      "Terminated after numerical difficulties: singular basis\n"
     ]
    },
    {
     "data": {
      "text/plain": [
       "(Array{Float64,1}[[0.0, -0.0375, 0.0], [0.516797, -0.0375, -2.15368e-5], [0.944203, -0.0375, -3.75424e-5], [1.28222, -0.0375, -4.80168e-5], [1.55742, -0.0375018, -5.26586e-5], [1.7, -0.0375, -5.10403e-5], [1.7, -0.0375, -3.82802e-5], [1.7, -0.0375, -2.55201e-5], [1.7, -0.0375, -1.27601e-5], [1.7, -0.0375, 0.0]], Array{Float64,1}[[6.73543, 0.0, -0.000300754], [5.74219, 0.00012366, -0.000239297], [4.74895, 0.000178271, -0.00017784], [3.7557, 0.000180312, -0.000116383], [2.57757, 0.000273687, -4.34861e-5], [1.58417, 0.000101358, 1.79805e-5], [-1.97483e-6, -2.64928e-8, 0.000116001], [4.35005e-6, -2.79187e-11, 0.000116001], [4.35002e-6, -2.77473e-11, 0.000116001], [0.0, -2.81408e-11, 0.000116001]], Array{Float64,1}[[0.0, 0.0, 0.0], [0.0, 0.0, 0.0], [0.0, 0.0, 0.0], [0.0, 0.0, 0.0], [0.0, 0.0, 0.0], [0.0, 0.0, 0.0], [0.0, 0.0, 0.0], [0.0, 0.0, 0.0], [0.0, 0.0, 0.0]], [0.09, 0.09, 0.09, 0.106766, 0.0900003, 0.11, 0.11, 0.11, 0.11], Array{Float64,1}[[0.999976], [0.999982], [0.999988], [0.999663], [1.00013], [1.00004], [1.0], [1.0], [1.0]], Array{Float64,1}[], [0.0, 0.09, 0.18, 0.27, 0.376766, 0.466766, 0.576766, 0.686766, 0.796766, 0.906766], [0.0 0.516797 … 1.7 1.7; -0.0375 -0.0375 … -0.0375 -0.0375; … ; 0.0 0.00012366 … -2.77473e-11 -2.81408e-11; -0.000300754 -0.000239297 … 0.000116001 0.000116001])"
      ]
     },
     "execution_count": 279,
     "metadata": {},
     "output_type": "execute_result"
    }
   ],
   "source": [
    "sim_data = get_trajopt_data_semidirect(mechanism,env,Δt,N,relax_comp=false)\n",
    "add_prob_constraints!(sim_data)\n",
    "x_min, x_max = get_prob_limits(sim_data)\n",
    "x0 = get_prob_init(sim_data)\n",
    "traj_semidirect = Bilevel.trajopt(sim_data, x0=x0, x_min=x_min, x_max=x_max, verbose=1)"
   ]
  },
  {
   "cell_type": "code",
   "execution_count": 281,
   "metadata": {},
   "outputs": [
    {
     "data": {
      "image/svg+xml": [
       "<?xml version=\"1.0\" encoding=\"utf-8\"?>\n",
       "<svg xmlns=\"http://www.w3.org/2000/svg\" xmlns:xlink=\"http://www.w3.org/1999/xlink\" width=\"600\" height=\"400\" viewBox=\"0 0 2400 1600\">\n",
       "<defs>\n",
       "  <clipPath id=\"clip4600\">\n",
       "    <rect x=\"0\" y=\"0\" width=\"2400\" height=\"1600\"/>\n",
       "  </clipPath>\n",
       "</defs>\n",
       "<polygon clip-path=\"url(#clip4600)\" points=\"\n",
       "0,1600 2400,1600 2400,0 0,0 \n",
       "  \" fill=\"#ffffff\" fill-rule=\"evenodd\" fill-opacity=\"1\"/>\n",
       "<defs>\n",
       "  <clipPath id=\"clip4601\">\n",
       "    <rect x=\"480\" y=\"0\" width=\"1681\" height=\"1600\"/>\n",
       "  </clipPath>\n",
       "</defs>\n",
       "<polygon clip-path=\"url(#clip4600)\" points=\"\n",
       "153.898,1487.47 2352.76,1487.47 2352.76,47.2441 153.898,47.2441 \n",
       "  \" fill=\"#ffffff\" fill-rule=\"evenodd\" fill-opacity=\"1\"/>\n",
       "<defs>\n",
       "  <clipPath id=\"clip4602\">\n",
       "    <rect x=\"153\" y=\"47\" width=\"2200\" height=\"1441\"/>\n",
       "  </clipPath>\n",
       "</defs>\n",
       "<polyline clip-path=\"url(#clip4602)\" style=\"stroke:#000000; stroke-width:2; stroke-opacity:0.1; fill:none\" points=\"\n",
       "  216.13,1487.47 216.13,47.2441 \n",
       "  \"/>\n",
       "<polyline clip-path=\"url(#clip4602)\" style=\"stroke:#000000; stroke-width:2; stroke-opacity:0.1; fill:none\" points=\"\n",
       "  658.194,1487.47 658.194,47.2441 \n",
       "  \"/>\n",
       "<polyline clip-path=\"url(#clip4602)\" style=\"stroke:#000000; stroke-width:2; stroke-opacity:0.1; fill:none\" points=\"\n",
       "  1100.26,1487.47 1100.26,47.2441 \n",
       "  \"/>\n",
       "<polyline clip-path=\"url(#clip4602)\" style=\"stroke:#000000; stroke-width:2; stroke-opacity:0.1; fill:none\" points=\"\n",
       "  1542.32,1487.47 1542.32,47.2441 \n",
       "  \"/>\n",
       "<polyline clip-path=\"url(#clip4602)\" style=\"stroke:#000000; stroke-width:2; stroke-opacity:0.1; fill:none\" points=\"\n",
       "  1984.39,1487.47 1984.39,47.2441 \n",
       "  \"/>\n",
       "<polyline clip-path=\"url(#clip4602)\" style=\"stroke:#000000; stroke-width:2; stroke-opacity:0.1; fill:none\" points=\"\n",
       "  153.898,1446.71 2352.76,1446.71 \n",
       "  \"/>\n",
       "<polyline clip-path=\"url(#clip4602)\" style=\"stroke:#000000; stroke-width:2; stroke-opacity:0.1; fill:none\" points=\"\n",
       "  153.898,1047.09 2352.76,1047.09 \n",
       "  \"/>\n",
       "<polyline clip-path=\"url(#clip4602)\" style=\"stroke:#000000; stroke-width:2; stroke-opacity:0.1; fill:none\" points=\"\n",
       "  153.898,647.473 2352.76,647.473 \n",
       "  \"/>\n",
       "<polyline clip-path=\"url(#clip4602)\" style=\"stroke:#000000; stroke-width:2; stroke-opacity:0.1; fill:none\" points=\"\n",
       "  153.898,247.853 2352.76,247.853 \n",
       "  \"/>\n",
       "<polyline clip-path=\"url(#clip4600)\" style=\"stroke:#000000; stroke-width:4; stroke-opacity:1; fill:none\" points=\"\n",
       "  153.898,1487.47 2352.76,1487.47 \n",
       "  \"/>\n",
       "<polyline clip-path=\"url(#clip4600)\" style=\"stroke:#000000; stroke-width:4; stroke-opacity:1; fill:none\" points=\"\n",
       "  153.898,1487.47 153.898,47.2441 \n",
       "  \"/>\n",
       "<polyline clip-path=\"url(#clip4600)\" style=\"stroke:#000000; stroke-width:4; stroke-opacity:1; fill:none\" points=\"\n",
       "  216.13,1487.47 216.13,1465.87 \n",
       "  \"/>\n",
       "<polyline clip-path=\"url(#clip4600)\" style=\"stroke:#000000; stroke-width:4; stroke-opacity:1; fill:none\" points=\"\n",
       "  658.194,1487.47 658.194,1465.87 \n",
       "  \"/>\n",
       "<polyline clip-path=\"url(#clip4600)\" style=\"stroke:#000000; stroke-width:4; stroke-opacity:1; fill:none\" points=\"\n",
       "  1100.26,1487.47 1100.26,1465.87 \n",
       "  \"/>\n",
       "<polyline clip-path=\"url(#clip4600)\" style=\"stroke:#000000; stroke-width:4; stroke-opacity:1; fill:none\" points=\"\n",
       "  1542.32,1487.47 1542.32,1465.87 \n",
       "  \"/>\n",
       "<polyline clip-path=\"url(#clip4600)\" style=\"stroke:#000000; stroke-width:4; stroke-opacity:1; fill:none\" points=\"\n",
       "  1984.39,1487.47 1984.39,1465.87 \n",
       "  \"/>\n",
       "<polyline clip-path=\"url(#clip4600)\" style=\"stroke:#000000; stroke-width:4; stroke-opacity:1; fill:none\" points=\"\n",
       "  153.898,1446.71 186.881,1446.71 \n",
       "  \"/>\n",
       "<polyline clip-path=\"url(#clip4600)\" style=\"stroke:#000000; stroke-width:4; stroke-opacity:1; fill:none\" points=\"\n",
       "  153.898,1047.09 186.881,1047.09 \n",
       "  \"/>\n",
       "<polyline clip-path=\"url(#clip4600)\" style=\"stroke:#000000; stroke-width:4; stroke-opacity:1; fill:none\" points=\"\n",
       "  153.898,647.473 186.881,647.473 \n",
       "  \"/>\n",
       "<polyline clip-path=\"url(#clip4600)\" style=\"stroke:#000000; stroke-width:4; stroke-opacity:1; fill:none\" points=\"\n",
       "  153.898,247.853 186.881,247.853 \n",
       "  \"/>\n",
       "<g clip-path=\"url(#clip4600)\">\n",
       "<text style=\"fill:#000000; fill-opacity:1; font-family:Arial,Helvetica Neue,Helvetica,sans-serif; font-size:48px; text-anchor:middle;\" transform=\"rotate(0, 216.13, 1541.47)\" x=\"216.13\" y=\"1541.47\">0.0</text>\n",
       "</g>\n",
       "<g clip-path=\"url(#clip4600)\">\n",
       "<text style=\"fill:#000000; fill-opacity:1; font-family:Arial,Helvetica Neue,Helvetica,sans-serif; font-size:48px; text-anchor:middle;\" transform=\"rotate(0, 658.194, 1541.47)\" x=\"658.194\" y=\"1541.47\">0.2</text>\n",
       "</g>\n",
       "<g clip-path=\"url(#clip4600)\">\n",
       "<text style=\"fill:#000000; fill-opacity:1; font-family:Arial,Helvetica Neue,Helvetica,sans-serif; font-size:48px; text-anchor:middle;\" transform=\"rotate(0, 1100.26, 1541.47)\" x=\"1100.26\" y=\"1541.47\">0.4</text>\n",
       "</g>\n",
       "<g clip-path=\"url(#clip4600)\">\n",
       "<text style=\"fill:#000000; fill-opacity:1; font-family:Arial,Helvetica Neue,Helvetica,sans-serif; font-size:48px; text-anchor:middle;\" transform=\"rotate(0, 1542.32, 1541.47)\" x=\"1542.32\" y=\"1541.47\">0.6</text>\n",
       "</g>\n",
       "<g clip-path=\"url(#clip4600)\">\n",
       "<text style=\"fill:#000000; fill-opacity:1; font-family:Arial,Helvetica Neue,Helvetica,sans-serif; font-size:48px; text-anchor:middle;\" transform=\"rotate(0, 1984.39, 1541.47)\" x=\"1984.39\" y=\"1541.47\">0.8</text>\n",
       "</g>\n",
       "<g clip-path=\"url(#clip4600)\">\n",
       "<text style=\"fill:#000000; fill-opacity:1; font-family:Arial,Helvetica Neue,Helvetica,sans-serif; font-size:48px; text-anchor:end;\" transform=\"rotate(0, 129.898, 1464.21)\" x=\"129.898\" y=\"1464.21\">0.0</text>\n",
       "</g>\n",
       "<g clip-path=\"url(#clip4600)\">\n",
       "<text style=\"fill:#000000; fill-opacity:1; font-family:Arial,Helvetica Neue,Helvetica,sans-serif; font-size:48px; text-anchor:end;\" transform=\"rotate(0, 129.898, 1064.59)\" x=\"129.898\" y=\"1064.59\">0.5</text>\n",
       "</g>\n",
       "<g clip-path=\"url(#clip4600)\">\n",
       "<text style=\"fill:#000000; fill-opacity:1; font-family:Arial,Helvetica Neue,Helvetica,sans-serif; font-size:48px; text-anchor:end;\" transform=\"rotate(0, 129.898, 664.973)\" x=\"129.898\" y=\"664.973\">1.0</text>\n",
       "</g>\n",
       "<g clip-path=\"url(#clip4600)\">\n",
       "<text style=\"fill:#000000; fill-opacity:1; font-family:Arial,Helvetica Neue,Helvetica,sans-serif; font-size:48px; text-anchor:end;\" transform=\"rotate(0, 129.898, 265.353)\" x=\"129.898\" y=\"265.353\">1.5</text>\n",
       "</g>\n",
       "<polyline clip-path=\"url(#clip4602)\" style=\"stroke:#e34a33; stroke-width:16; stroke-opacity:1; fill:none\" points=\"\n",
       "  216.13,1446.71 433.855,1003.59 632.784,670.173 831.713,408.199 1074.85,194.738 1317.98,88.0068 1561.12,88.0064 1804.25,88.0061 2047.39,88.0057 2290.52,88.0053 \n",
       "  \n",
       "  \"/>\n",
       "<circle clip-path=\"url(#clip4602)\" style=\"fill:#000000; stroke:none; fill-opacity:1\" cx=\"216.13\" cy=\"1446.71\" r=\"25\"/>\n",
       "<circle clip-path=\"url(#clip4602)\" style=\"fill:#e34a33; stroke:none; fill-opacity:1\" cx=\"216.13\" cy=\"1446.71\" r=\"21\"/>\n",
       "<circle clip-path=\"url(#clip4602)\" style=\"fill:#000000; stroke:none; fill-opacity:1\" cx=\"433.855\" cy=\"1003.59\" r=\"25\"/>\n",
       "<circle clip-path=\"url(#clip4602)\" style=\"fill:#e34a33; stroke:none; fill-opacity:1\" cx=\"433.855\" cy=\"1003.59\" r=\"21\"/>\n",
       "<circle clip-path=\"url(#clip4602)\" style=\"fill:#000000; stroke:none; fill-opacity:1\" cx=\"632.784\" cy=\"670.173\" r=\"25\"/>\n",
       "<circle clip-path=\"url(#clip4602)\" style=\"fill:#e34a33; stroke:none; fill-opacity:1\" cx=\"632.784\" cy=\"670.173\" r=\"21\"/>\n",
       "<circle clip-path=\"url(#clip4602)\" style=\"fill:#000000; stroke:none; fill-opacity:1\" cx=\"831.713\" cy=\"408.199\" r=\"25\"/>\n",
       "<circle clip-path=\"url(#clip4602)\" style=\"fill:#e34a33; stroke:none; fill-opacity:1\" cx=\"831.713\" cy=\"408.199\" r=\"21\"/>\n",
       "<circle clip-path=\"url(#clip4602)\" style=\"fill:#000000; stroke:none; fill-opacity:1\" cx=\"1074.85\" cy=\"194.738\" r=\"25\"/>\n",
       "<circle clip-path=\"url(#clip4602)\" style=\"fill:#e34a33; stroke:none; fill-opacity:1\" cx=\"1074.85\" cy=\"194.738\" r=\"21\"/>\n",
       "<circle clip-path=\"url(#clip4602)\" style=\"fill:#000000; stroke:none; fill-opacity:1\" cx=\"1317.98\" cy=\"88.0068\" r=\"25\"/>\n",
       "<circle clip-path=\"url(#clip4602)\" style=\"fill:#e34a33; stroke:none; fill-opacity:1\" cx=\"1317.98\" cy=\"88.0068\" r=\"21\"/>\n",
       "<circle clip-path=\"url(#clip4602)\" style=\"fill:#000000; stroke:none; fill-opacity:1\" cx=\"1561.12\" cy=\"88.0064\" r=\"25\"/>\n",
       "<circle clip-path=\"url(#clip4602)\" style=\"fill:#e34a33; stroke:none; fill-opacity:1\" cx=\"1561.12\" cy=\"88.0064\" r=\"21\"/>\n",
       "<circle clip-path=\"url(#clip4602)\" style=\"fill:#000000; stroke:none; fill-opacity:1\" cx=\"1804.25\" cy=\"88.0061\" r=\"25\"/>\n",
       "<circle clip-path=\"url(#clip4602)\" style=\"fill:#e34a33; stroke:none; fill-opacity:1\" cx=\"1804.25\" cy=\"88.0061\" r=\"21\"/>\n",
       "<circle clip-path=\"url(#clip4602)\" style=\"fill:#000000; stroke:none; fill-opacity:1\" cx=\"2047.39\" cy=\"88.0057\" r=\"25\"/>\n",
       "<circle clip-path=\"url(#clip4602)\" style=\"fill:#e34a33; stroke:none; fill-opacity:1\" cx=\"2047.39\" cy=\"88.0057\" r=\"21\"/>\n",
       "<circle clip-path=\"url(#clip4602)\" style=\"fill:#000000; stroke:none; fill-opacity:1\" cx=\"2290.52\" cy=\"88.0053\" r=\"25\"/>\n",
       "<circle clip-path=\"url(#clip4602)\" style=\"fill:#e34a33; stroke:none; fill-opacity:1\" cx=\"2290.52\" cy=\"88.0053\" r=\"21\"/>\n",
       "<polyline clip-path=\"url(#clip4602)\" style=\"stroke:#fee8c8; stroke-width:0; stroke-opacity:1; fill:none\" points=\"\n",
       "  216.13,1446.71 415.059,1033.67 613.987,692.069 812.916,421.916 1048.9,201.958 1247.83,88.0059 1490.97,88.0061 1734.1,88.0057 1977.24,88.0053 2220.37,88.0053 \n",
       "  \n",
       "  \"/>\n",
       "<circle clip-path=\"url(#clip4602)\" style=\"fill:#000000; stroke:none; fill-opacity:1\" cx=\"216.13\" cy=\"1446.71\" r=\"18\"/>\n",
       "<circle clip-path=\"url(#clip4602)\" style=\"fill:#fee8c8; stroke:none; fill-opacity:1\" cx=\"216.13\" cy=\"1446.71\" r=\"14\"/>\n",
       "<circle clip-path=\"url(#clip4602)\" style=\"fill:#000000; stroke:none; fill-opacity:1\" cx=\"415.059\" cy=\"1033.67\" r=\"18\"/>\n",
       "<circle clip-path=\"url(#clip4602)\" style=\"fill:#fee8c8; stroke:none; fill-opacity:1\" cx=\"415.059\" cy=\"1033.67\" r=\"14\"/>\n",
       "<circle clip-path=\"url(#clip4602)\" style=\"fill:#000000; stroke:none; fill-opacity:1\" cx=\"613.987\" cy=\"692.069\" r=\"18\"/>\n",
       "<circle clip-path=\"url(#clip4602)\" style=\"fill:#fee8c8; stroke:none; fill-opacity:1\" cx=\"613.987\" cy=\"692.069\" r=\"14\"/>\n",
       "<circle clip-path=\"url(#clip4602)\" style=\"fill:#000000; stroke:none; fill-opacity:1\" cx=\"812.916\" cy=\"421.916\" r=\"18\"/>\n",
       "<circle clip-path=\"url(#clip4602)\" style=\"fill:#fee8c8; stroke:none; fill-opacity:1\" cx=\"812.916\" cy=\"421.916\" r=\"14\"/>\n",
       "<circle clip-path=\"url(#clip4602)\" style=\"fill:#000000; stroke:none; fill-opacity:1\" cx=\"1048.9\" cy=\"201.958\" r=\"18\"/>\n",
       "<circle clip-path=\"url(#clip4602)\" style=\"fill:#fee8c8; stroke:none; fill-opacity:1\" cx=\"1048.9\" cy=\"201.958\" r=\"14\"/>\n",
       "<circle clip-path=\"url(#clip4602)\" style=\"fill:#000000; stroke:none; fill-opacity:1\" cx=\"1247.83\" cy=\"88.0059\" r=\"18\"/>\n",
       "<circle clip-path=\"url(#clip4602)\" style=\"fill:#fee8c8; stroke:none; fill-opacity:1\" cx=\"1247.83\" cy=\"88.0059\" r=\"14\"/>\n",
       "<circle clip-path=\"url(#clip4602)\" style=\"fill:#000000; stroke:none; fill-opacity:1\" cx=\"1490.97\" cy=\"88.0061\" r=\"18\"/>\n",
       "<circle clip-path=\"url(#clip4602)\" style=\"fill:#fee8c8; stroke:none; fill-opacity:1\" cx=\"1490.97\" cy=\"88.0061\" r=\"14\"/>\n",
       "<circle clip-path=\"url(#clip4602)\" style=\"fill:#000000; stroke:none; fill-opacity:1\" cx=\"1734.1\" cy=\"88.0057\" r=\"18\"/>\n",
       "<circle clip-path=\"url(#clip4602)\" style=\"fill:#fee8c8; stroke:none; fill-opacity:1\" cx=\"1734.1\" cy=\"88.0057\" r=\"14\"/>\n",
       "<circle clip-path=\"url(#clip4602)\" style=\"fill:#000000; stroke:none; fill-opacity:1\" cx=\"1977.24\" cy=\"88.0053\" r=\"18\"/>\n",
       "<circle clip-path=\"url(#clip4602)\" style=\"fill:#fee8c8; stroke:none; fill-opacity:1\" cx=\"1977.24\" cy=\"88.0053\" r=\"14\"/>\n",
       "<circle clip-path=\"url(#clip4602)\" style=\"fill:#000000; stroke:none; fill-opacity:1\" cx=\"2220.37\" cy=\"88.0053\" r=\"18\"/>\n",
       "<circle clip-path=\"url(#clip4602)\" style=\"fill:#fee8c8; stroke:none; fill-opacity:1\" cx=\"2220.37\" cy=\"88.0053\" r=\"14\"/>\n",
       "<polygon clip-path=\"url(#clip4600)\" points=\"\n",
       "1813.42,312.204 2280.76,312.204 2280.76,130.764 1813.42,130.764 \n",
       "  \" fill=\"#ffffff\" fill-rule=\"evenodd\" fill-opacity=\"1\"/>\n",
       "<polyline clip-path=\"url(#clip4600)\" style=\"stroke:#000000; stroke-width:4; stroke-opacity:1; fill:none\" points=\"\n",
       "  1813.42,312.204 2280.76,312.204 2280.76,130.764 1813.42,130.764 1813.42,312.204 \n",
       "  \"/>\n",
       "<polyline clip-path=\"url(#clip4600)\" style=\"stroke:#e34a33; stroke-width:16; stroke-opacity:1; fill:none\" points=\"\n",
       "  1837.42,191.244 1981.42,191.244 \n",
       "  \"/>\n",
       "<circle clip-path=\"url(#clip4600)\" style=\"fill:#000000; stroke:none; fill-opacity:1\" cx=\"1921.42\" cy=\"191.244\" r=\"25\"/>\n",
       "<circle clip-path=\"url(#clip4600)\" style=\"fill:#e34a33; stroke:none; fill-opacity:1\" cx=\"1921.42\" cy=\"191.244\" r=\"21\"/>\n",
       "<g clip-path=\"url(#clip4600)\">\n",
       "<text style=\"fill:#000000; fill-opacity:1; font-family:Arial,Helvetica Neue,Helvetica,sans-serif; font-size:48px; text-anchor:start;\" transform=\"rotate(0, 2005.42, 208.744)\" x=\"2005.42\" y=\"208.744\">Indirect</text>\n",
       "</g>\n",
       "<polyline clip-path=\"url(#clip4600)\" style=\"stroke:#fee8c8; stroke-width:0; stroke-opacity:1; fill:none\" points=\"\n",
       "  1837.42,251.724 1981.42,251.724 \n",
       "  \"/>\n",
       "<circle clip-path=\"url(#clip4600)\" style=\"fill:#000000; stroke:none; fill-opacity:1\" cx=\"1921.42\" cy=\"251.724\" r=\"25\"/>\n",
       "<circle clip-path=\"url(#clip4600)\" style=\"fill:#fee8c8; stroke:none; fill-opacity:1\" cx=\"1921.42\" cy=\"251.724\" r=\"21\"/>\n",
       "<g clip-path=\"url(#clip4600)\">\n",
       "<text style=\"fill:#000000; fill-opacity:1; font-family:Arial,Helvetica Neue,Helvetica,sans-serif; font-size:48px; text-anchor:start;\" transform=\"rotate(0, 2005.42, 269.224)\" x=\"2005.42\" y=\"269.224\">Semidirect</text>\n",
       "</g>\n",
       "</svg>\n"
      ]
     },
     "execution_count": 281,
     "metadata": {},
     "output_type": "execute_result"
    }
   ],
   "source": [
    "j = 1\n",
    "plot(traj_indirect[7],traj_indirect[8][j,:],label=\"Indirect\",seriescolor=RGB(((227,74,51) ./ 255.)...),linewidth=4,marker=6)\n",
    "plot!(traj_semidirect[7],traj_semidirect[8][j,:],label=\"Semidirect\",seriescolor=RGB(((254,232,200) ./ 255.)...),linewidth=0,marker=4)"
   ]
  },
  {
   "cell_type": "code",
   "execution_count": 282,
   "metadata": {},
   "outputs": [
    {
     "data": {
      "text/plain": [
       "3-element Array{Float64,1}:\n",
       "  6.735430028652664     \n",
       "  0.0                   \n",
       " -0.00030075388556073554"
      ]
     },
     "execution_count": 282,
     "metadata": {},
     "output_type": "execute_result"
    }
   ],
   "source": [
    "traj_semidirect[2][1]"
   ]
  },
  {
   "cell_type": "markdown",
   "metadata": {},
   "source": [
    "## Bilevel trajectory optimization (with arm)"
   ]
  },
  {
   "cell_type": "code",
   "execution_count": null,
   "metadata": {},
   "outputs": [],
   "source": []
  }
 ],
 "metadata": {
  "kernelspec": {
   "display_name": "Julia 1.1.0",
   "language": "julia",
   "name": "julia-1.1"
  },
  "language_info": {
   "file_extension": ".jl",
   "mimetype": "application/julia",
   "name": "julia",
   "version": "1.1.0"
  }
 },
 "nbformat": 4,
 "nbformat_minor": 2
}
