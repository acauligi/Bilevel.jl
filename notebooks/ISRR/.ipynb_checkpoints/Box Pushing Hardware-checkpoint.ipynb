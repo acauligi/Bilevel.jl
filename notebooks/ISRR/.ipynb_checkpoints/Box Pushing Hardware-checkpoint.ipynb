{
 "cells": [
  {
   "cell_type": "markdown",
   "metadata": {},
   "source": [
    "# THE TILTED FLOOT ISN'T WORKING IN SIM SO MUST BE WRONG FOR ESTIMATION TOO!!!\n",
    "\n",
    "* Build trajectory from the rosbag\n",
    "* Get the angle of the ramp\n",
    "* Load the scene with the angled ramp\n",
    "* Play the trajectory\n",
    "\n",
    "* Segment the trajectory in sliding sections into a data struct for regression\n",
    "\n",
    "* Run regression on the friction coefficient\n",
    "\n",
    "* Perform trajectory optimization with the friction coefficient\n",
    "\n",
    "(optional) see if you can add the arm planning as well (as a final position and velocity = start of the box traj)"
   ]
  },
  {
   "cell_type": "code",
   "execution_count": 1,
   "metadata": {},
   "outputs": [
    {
     "name": "stderr",
     "output_type": "stream",
     "text": [
      "┌ Info: Precompiling Bilevel [9688c538-179f-11e9-3174-495cea6b7f67]\n",
      "└ @ Base loading.jl:1186\n"
     ]
    },
    {
     "data": {
      "text/html": [
       "    <script class='js-collapse-script'>\n",
       "        var curMatch =\n",
       "            window.location.href\n",
       "            .match(/(.*?)\\/notebooks\\/.*\\.ipynb/);\n",
       "\n",
       "        curMatch = curMatch ||\n",
       "            window.location.href\n",
       "            .match(/(.*?)\\/apps\\/.*\\.ipynb/);\n",
       "\n",
       "        if ( curMatch ) {\n",
       "            $('head').append('<base href=\"' + curMatch[1] + '/\">');\n",
       "        }\n",
       "    </script>\n"
      ],
      "text/plain": [
       "HTML{String}(\"    <script class='js-collapse-script'>\\n        var curMatch =\\n            window.location.href\\n            .match(/(.*?)\\\\/notebooks\\\\/.*\\\\.ipynb/);\\n\\n        curMatch = curMatch ||\\n            window.location.href\\n            .match(/(.*?)\\\\/apps\\\\/.*\\\\.ipynb/);\\n\\n        if ( curMatch ) {\\n            \\$('head').append('<base href=\\\"' + curMatch[1] + '/\\\">');\\n        }\\n    </script>\\n\")"
      ]
     },
     "metadata": {},
     "output_type": "display_data"
    },
    {
     "data": {
      "text/html": [
       "<script class='js-collapse-script' src='/assetserver/b464848323e0a4c9a3cfe11f8edca2932188b6d9-assets/webio/dist/bundle.js'></script>"
      ],
      "text/plain": [
       "HTML{String}(\"<script class='js-collapse-script' src='/assetserver/b464848323e0a4c9a3cfe11f8edca2932188b6d9-assets/webio/dist/bundle.js'></script>\")"
      ]
     },
     "metadata": {},
     "output_type": "display_data"
    },
    {
     "data": {
      "text/html": [
       "<script class='js-collapse-script' src='/assetserver/b464848323e0a4c9a3cfe11f8edca2932188b6d9-assets/providers/ijulia_setup.js'></script>"
      ],
      "text/plain": [
       "HTML{String}(\"<script class='js-collapse-script' src='/assetserver/b464848323e0a4c9a3cfe11f8edca2932188b6d9-assets/providers/ijulia_setup.js'></script>\")"
      ]
     },
     "metadata": {},
     "output_type": "display_data"
    },
    {
     "data": {
      "text/html": [
       "  <script class='js-collapse-script'>\n",
       "    $('.js-collapse-script').parent('.output_subarea').css('padding', '0');\n",
       "  </script>\n"
      ],
      "text/plain": [
       "HTML{String}(\"  <script class='js-collapse-script'>\\n    \\$('.js-collapse-script').parent('.output_subarea').css('padding', '0');\\n  </script>\\n\")"
      ]
     },
     "metadata": {},
     "output_type": "display_data"
    },
    {
     "name": "stderr",
     "output_type": "stream",
     "text": [
      "┌ Error: evaluation error\n",
      "│   mod = Bilevel\n",
      "│   ex = const usrfun = #= /home/blandry/.julia/dev/Bilevel/src/solvers/snopt.jl:154 =# @cfunction(objcon_wrapper, Cvoid, (Ptr{Clong}, Ref{Clong}, Ptr{Cdouble}, Ref{Clong}, Ref{Clong}, Ptr{Cdouble}, Ref{Clong}, Ref{Clong}, Ptr{Cdouble}, Ptr{Cchar}, Ref{Clong}, Ptr{Clong}, Ref{Clong}, Ptr{Cdouble}, Ref{Clong}))\n",
      "│   exception = (ErrorException(\"invalid lookup expr (\\$(QuoteNode(Core.svec)))(JuliaInterpreter.SSAValue(2), JuliaInterpreter.SSAValue(3), JuliaInterpreter.SSAValue(4), JuliaInterpreter.SSAValue(5), JuliaInterpreter.SSAValue(6), JuliaInterpreter.SSAValue(7), JuliaInterpreter.SSAValue(8), JuliaInterpreter.SSAValue(9), JuliaInterpreter.SSAValue(10), JuliaInterpreter.SSAValue(11), JuliaInterpreter.SSAValue(12), JuliaInterpreter.SSAValue(13), JuliaInterpreter.SSAValue(14), JuliaInterpreter.SSAValue(15), JuliaInterpreter.SSAValue(16))\"), Union{Ptr{Nothing}, InterpreterIP}[Ptr{Nothing} @0x00007f84293045eb, Ptr{Nothing} @0x00007f84292d5204, Ptr{Nothing} @0x00007f840c157080, Ptr{Nothing} @0x00007f840c162195, Ptr{Nothing} @0x00007f83a46ec2ad, Ptr{Nothing} @0x00007f83a46ec894, Ptr{Nothing} @0x00007f840c1627e3, Ptr{Nothing} @0x00007f840c163cfb, Ptr{Nothing} @0x00007f840c167e2b, Ptr{Nothing} @0x00007f840c160e54, Ptr{Nothing} @0x00007f840c161b94, Ptr{Nothing} @0x00007f84292b95d6, Ptr{Nothing} @0x00007f840c152ff5, Ptr{Nothing} @0x00007f84292b95d6, Ptr{Nothing} @0x00007f840c1518f0, Ptr{Nothing} @0x00007f840c151944, Ptr{Nothing} @0x00007f840c1510c4, Ptr{Nothing} @0x00007f840c1516ef, Ptr{Nothing} @0x00007f84292b95d6, Ptr{Nothing} @0x00007f840c14ac94, Ptr{Nothing} @0x00007f840c14b64c, Ptr{Nothing} @0x00007f840c14d1ee, Ptr{Nothing} @0x00007f840c1453c1, Ptr{Nothing} @0x00007f84292b95d6, Ptr{Nothing} @0x00007f84292d5a92, Ptr{Nothing} @0x0000000000000000])\n",
      "└ @ Revise /home/blandry/.julia/packages/Revise/5wsCa/src/lowered.jl:52\n",
      "┌ Info: Recompiling stale cache file /home/blandry/.julia/compiled/v1.1/RobotOSData/5u8Aq.ji for RobotOSData [f566df43-e85a-5b37-8f32-e64a053ee570]\n",
      "└ @ Base loading.jl:1184\n",
      "┌ Warning: Package RobotOSData does not have FileIO in its dependencies:\n",
      "│ - If you have RobotOSData checked out for development and have\n",
      "│   added FileIO as a dependency but haven't updated your primary\n",
      "│   environment's manifest file, try `Pkg.resolve()`.\n",
      "│ - Otherwise you may need to report an issue with RobotOSData\n",
      "└ Loading FileIO into RobotOSData from project dependency, future warnings for RobotOSData are suppressed.\n"
     ]
    }
   ],
   "source": [
    "using Revise\n",
    "using Bilevel\n",
    "using Bilevel: VariableSelector, ConstraintSelector, add_var!, add_eq!, add_ineq!, contact_jacobian!, contact_friction_τ_direct!, contact_normal_τ_direct!\n",
    "\n",
    "using RigidBodyDynamics\n",
    "using MeshCatMechanisms\n",
    "using MeshCat\n",
    "using Plots\n",
    "using LinearAlgebra\n",
    "using StaticArrays\n",
    "using ForwardDiff\n",
    "using Base.Threads\n",
    "\n",
    "using RobotOSData\n",
    "using FileIO\n",
    "using Dates\n",
    "using Plots\n",
    "using Rotations\n",
    "using Statistics\n",
    "using DSP"
   ]
  },
  {
   "cell_type": "code",
   "execution_count": 2,
   "metadata": {},
   "outputs": [],
   "source": [
    "bag = load(\"/home/blandry/Downloads/2019-05-25-11-02-05.bag\")\n",
    "pose_data = bag[\"/conductor/vrpn_client/kimtech_box/pose\"]\n",
    "\n",
    "# downsample\n",
    "pose_data = pose_data[1:5:end];"
   ]
  },
  {
   "cell_type": "code",
   "execution_count": 3,
   "metadata": {},
   "outputs": [],
   "source": [
    "N = length(pose_data)\n",
    "\n",
    "qtraj = Array{Array{Float64,1},1}()\n",
    "ttraj = Array{Float64,1}()\n",
    "\n",
    "rot = RotX(pi/2)\n",
    "x0 = 0.\n",
    "y0 = 0.\n",
    "\n",
    "ranges = [[1,N]]\n",
    "ranges = [[310,330]]\n",
    "\n",
    "for i = 1:length(ranges)\n",
    "    first = ranges[i][1]\n",
    "    last = ranges[i][2]\n",
    "    for n = first:last\n",
    "        if n == first\n",
    "            t = 0.\n",
    "        else\n",
    "            t1 = pose_data[n-1].data.header.time\n",
    "            t2 = pose_data[n].data.header.time\n",
    "            dt1 = DateTime(unix2datetime(t1.secs) + Nanosecond(t1.nsecs))\n",
    "            dt2 = DateTime(unix2datetime(t2.secs) + Nanosecond(t2.nsecs))\n",
    "            h = (dt2 - dt1).value ./ 1000.\n",
    "            t = ttraj[end] + h\n",
    "        end\n",
    "\n",
    "        x = pose_data[n].data.pose.position.x\n",
    "        y = pose_data[n].data.pose.position.y\n",
    "        z = pose_data[n].data.pose.position.z\n",
    "        qw = pose_data[n].data.pose.orientation.w\n",
    "        qx = pose_data[n].data.pose.orientation.x\n",
    "        qy = pose_data[n].data.pose.orientation.y\n",
    "        qz = pose_data[n].data.pose.orientation.z\n",
    "\n",
    "        pos = [x,y,z]\n",
    "        quat = Quat(qw,qx,qy,qz)\n",
    "\n",
    "        pos_rot = rot * pos\n",
    "        quat_rot = vcat(qw, rot * [qx, qy, qz])\n",
    "\n",
    "        if n == first\n",
    "            x0 = pos_rot[1]\n",
    "            y0 = pos_rot[2]\n",
    "        end    \n",
    "        pos_rot = pos_rot - [x0,y0,0.]\n",
    "\n",
    "        q = vcat(quat_rot, pos_rot)\n",
    "\n",
    "        push!(qtraj, q)\n",
    "        push!(ttraj, t)\n",
    "    end\n",
    "end"
   ]
  },
  {
   "cell_type": "code",
   "execution_count": null,
   "metadata": {},
   "outputs": [],
   "source": [
    "z = [q[5] for q in qtraj]\n",
    "plot(z)"
   ]
  },
  {
   "cell_type": "code",
   "execution_count": 4,
   "metadata": {
    "scrolled": false
   },
   "outputs": [
    {
     "data": {
      "text/plain": [
       "Environment(Contact[Contact(Spanning tree:\n",
       "Vertex: world (root)\n",
       "  Vertex: floor, Edge: floor_to_world\n",
       "    Vertex: box, Edge: floor_to_box\n",
       "No non-tree joints., box, Point3D in \"after_floor_to_box\": [0.0, 0.0, 0.0], Obstacle(floor, Point3D in \"after_floor_to_world\": [0.0, 0.0, 0.0], FreeVector3D in \"after_floor_to_world\": [0.0, 0.0, 1.0], [1.0 6.12323e-17 -1.0 -1.83697e-16; 0.0 1.0 1.22465e-16 -1.0; 0.0 0.0 0.0 0.0], 1.125, false))])"
      ]
     },
     "execution_count": 4,
     "metadata": {},
     "output_type": "execute_result"
    }
   ],
   "source": [
    "urdf = joinpath(\"..\", \"..\", \"urdf\", \"small_box.urdf\")\n",
    "mechanism = parse_urdf(Float64, urdf)\n",
    "\n",
    "floor = findbody(mechanism, \"floor\")\n",
    "point = Point3D(default_frame(floor), SVector([0.,0.,0.]...))\n",
    "normal = FreeVector3D(default_frame(floor), SVector([0.,0.,1.]...))\n",
    "floor_obs = Obstacle(floor, point, normal, :xyz, 1.125)\n",
    "\n",
    "obstacles = [floor_obs]\n",
    "env = Environment(mechanism, urdf, obstacles)"
   ]
  },
  {
   "cell_type": "code",
   "execution_count": 5,
   "metadata": {},
   "outputs": [
    {
     "data": {
      "text/plain": [
       "3×3 RotXYZ{Float64}(-0.245984, 0.0118291, 0.00146228):\n",
       "  0.999929    -0.00146218  0.0118288\n",
       " -0.00146218   0.969901    0.243494 \n",
       " -0.0118288   -0.243494    0.96983  "
      ]
     },
     "execution_count": 5,
     "metadata": {},
     "output_type": "execute_result"
    }
   ],
   "source": [
    "# getting the ramp angle\n",
    "\n",
    "world_frame = default_frame(root_body(mechanism))\n",
    "box_frame = default_frame(findbody(mechanism, \"box\"))\n",
    "box_normal = Point3D(box_frame, SVector([0.,0.,1.]...))\n",
    "\n",
    "q0 = qtraj[1]\n",
    "x0 = MechanismState(mechanism)\n",
    "set_configuration!(x0, q0)\n",
    "ramp_normal = transform(x0, box_normal, world_frame)\n",
    "\n",
    "a = [0.,0.,1.]\n",
    "b = ramp_normal.v\n",
    "axis = cross(a, b)\n",
    "angle = acos(a'*b/(norm(a)*norm(b)))\n",
    "\n",
    "aa = AngleAxis(angle, axis[1], axis[2], axis[3])\n",
    "\n",
    "RotXYZ(aa)"
   ]
  },
  {
   "cell_type": "code",
   "execution_count": null,
   "metadata": {},
   "outputs": [],
   "source": [
    "q0"
   ]
  },
  {
   "cell_type": "code",
   "execution_count": null,
   "metadata": {},
   "outputs": [],
   "source": [
    "mvis = MechanismVisualizer(mechanism, URDFVisuals(urdf))\n",
    "IJuliaCell(mvis)"
   ]
  },
  {
   "cell_type": "code",
   "execution_count": null,
   "metadata": {},
   "outputs": [],
   "source": [
    "setanimation!(mvis, ttraj, qtraj)"
   ]
  },
  {
   "cell_type": "code",
   "execution_count": 6,
   "metadata": {},
   "outputs": [
    {
     "data": {
      "text/plain": [
       "3×20 Array{Float64,2}:\n",
       "  0.0587881   0.0621855   0.0494457   0.0433505  …  0.000214577  -0.000309944\n",
       "  0.415661    0.378216    0.346801    0.328474      0.000335276   0.00038296 \n",
       " -0.13498    -0.150487   -0.109629   -0.0967827     0.000249594   0.000823662"
      ]
     },
     "execution_count": 6,
     "metadata": {},
     "output_type": "execute_result"
    }
   ],
   "source": [
    "xtraj = [q[5] for q in qtraj]'\n",
    "ytraj = [q[6] for q in qtraj]'\n",
    "ztraj = [q[7] for q in qtraj]'\n",
    "htraj = [ttraj[i+1] - ttraj[i] for i = 1:length(ttraj)-1]'\n",
    "vtraj = vcat(diff(xtraj,dims=2)./htraj,diff(ytraj,dims=2)./htraj,diff(ztraj,dims=2)./htraj)"
   ]
  },
  {
   "cell_type": "code",
   "execution_count": 7,
   "metadata": {},
   "outputs": [],
   "source": [
    "for i = 1:size(vtraj,2)\n",
    "    if (any(isinf.(vtraj[:,i])) || any(isnan.(vtraj[:,i])))\n",
    "        vtraj[:,i] = vtraj[:,i-1] \n",
    "    end\n",
    "end"
   ]
  },
  {
   "cell_type": "code",
   "execution_count": null,
   "metadata": {},
   "outputs": [],
   "source": [
    "plot(vtraj[2,:])"
   ]
  },
  {
   "cell_type": "code",
   "execution_count": 8,
   "metadata": {},
   "outputs": [
    {
     "data": {
      "image/svg+xml": [
       "<?xml version=\"1.0\" encoding=\"utf-8\"?>\n",
       "<svg xmlns=\"http://www.w3.org/2000/svg\" xmlns:xlink=\"http://www.w3.org/1999/xlink\" width=\"600\" height=\"400\" viewBox=\"0 0 2400 1600\">\n",
       "<defs>\n",
       "  <clipPath id=\"clip4300\">\n",
       "    <rect x=\"0\" y=\"0\" width=\"2400\" height=\"1600\"/>\n",
       "  </clipPath>\n",
       "</defs>\n",
       "<polygon clip-path=\"url(#clip4300)\" points=\"\n",
       "0,1600 2400,1600 2400,0 0,0 \n",
       "  \" fill=\"#ffffff\" fill-rule=\"evenodd\" fill-opacity=\"1\"/>\n",
       "<defs>\n",
       "  <clipPath id=\"clip4301\">\n",
       "    <rect x=\"480\" y=\"0\" width=\"1681\" height=\"1600\"/>\n",
       "  </clipPath>\n",
       "</defs>\n",
       "<polygon clip-path=\"url(#clip4300)\" points=\"\n",
       "153.898,1487.47 2352.76,1487.47 2352.76,47.2441 153.898,47.2441 \n",
       "  \" fill=\"#ffffff\" fill-rule=\"evenodd\" fill-opacity=\"1\"/>\n",
       "<defs>\n",
       "  <clipPath id=\"clip4302\">\n",
       "    <rect x=\"153\" y=\"47\" width=\"2200\" height=\"1441\"/>\n",
       "  </clipPath>\n",
       "</defs>\n",
       "<polyline clip-path=\"url(#clip4302)\" style=\"stroke:#000000; stroke-width:2; stroke-opacity:0.1; fill:none\" points=\"\n",
       "  652.844,1487.47 652.844,47.2441 \n",
       "  \"/>\n",
       "<polyline clip-path=\"url(#clip4302)\" style=\"stroke:#000000; stroke-width:2; stroke-opacity:0.1; fill:none\" points=\"\n",
       "  1198.74,1487.47 1198.74,47.2441 \n",
       "  \"/>\n",
       "<polyline clip-path=\"url(#clip4302)\" style=\"stroke:#000000; stroke-width:2; stroke-opacity:0.1; fill:none\" points=\"\n",
       "  1744.63,1487.47 1744.63,47.2441 \n",
       "  \"/>\n",
       "<polyline clip-path=\"url(#clip4302)\" style=\"stroke:#000000; stroke-width:2; stroke-opacity:0.1; fill:none\" points=\"\n",
       "  2290.52,1487.47 2290.52,47.2441 \n",
       "  \"/>\n",
       "<polyline clip-path=\"url(#clip4302)\" style=\"stroke:#000000; stroke-width:2; stroke-opacity:0.1; fill:none\" points=\"\n",
       "  153.898,1446.12 2352.76,1446.12 \n",
       "  \"/>\n",
       "<polyline clip-path=\"url(#clip4302)\" style=\"stroke:#000000; stroke-width:2; stroke-opacity:0.1; fill:none\" points=\"\n",
       "  153.898,1119.38 2352.76,1119.38 \n",
       "  \"/>\n",
       "<polyline clip-path=\"url(#clip4302)\" style=\"stroke:#000000; stroke-width:2; stroke-opacity:0.1; fill:none\" points=\"\n",
       "  153.898,792.646 2352.76,792.646 \n",
       "  \"/>\n",
       "<polyline clip-path=\"url(#clip4302)\" style=\"stroke:#000000; stroke-width:2; stroke-opacity:0.1; fill:none\" points=\"\n",
       "  153.898,465.911 2352.76,465.911 \n",
       "  \"/>\n",
       "<polyline clip-path=\"url(#clip4302)\" style=\"stroke:#000000; stroke-width:2; stroke-opacity:0.1; fill:none\" points=\"\n",
       "  153.898,139.176 2352.76,139.176 \n",
       "  \"/>\n",
       "<polyline clip-path=\"url(#clip4300)\" style=\"stroke:#000000; stroke-width:4; stroke-opacity:1; fill:none\" points=\"\n",
       "  153.898,1487.47 2352.76,1487.47 \n",
       "  \"/>\n",
       "<polyline clip-path=\"url(#clip4300)\" style=\"stroke:#000000; stroke-width:4; stroke-opacity:1; fill:none\" points=\"\n",
       "  153.898,1487.47 153.898,47.2441 \n",
       "  \"/>\n",
       "<polyline clip-path=\"url(#clip4300)\" style=\"stroke:#000000; stroke-width:4; stroke-opacity:1; fill:none\" points=\"\n",
       "  652.844,1487.47 652.844,1465.87 \n",
       "  \"/>\n",
       "<polyline clip-path=\"url(#clip4300)\" style=\"stroke:#000000; stroke-width:4; stroke-opacity:1; fill:none\" points=\"\n",
       "  1198.74,1487.47 1198.74,1465.87 \n",
       "  \"/>\n",
       "<polyline clip-path=\"url(#clip4300)\" style=\"stroke:#000000; stroke-width:4; stroke-opacity:1; fill:none\" points=\"\n",
       "  1744.63,1487.47 1744.63,1465.87 \n",
       "  \"/>\n",
       "<polyline clip-path=\"url(#clip4300)\" style=\"stroke:#000000; stroke-width:4; stroke-opacity:1; fill:none\" points=\"\n",
       "  2290.52,1487.47 2290.52,1465.87 \n",
       "  \"/>\n",
       "<polyline clip-path=\"url(#clip4300)\" style=\"stroke:#000000; stroke-width:4; stroke-opacity:1; fill:none\" points=\"\n",
       "  153.898,1446.12 186.881,1446.12 \n",
       "  \"/>\n",
       "<polyline clip-path=\"url(#clip4300)\" style=\"stroke:#000000; stroke-width:4; stroke-opacity:1; fill:none\" points=\"\n",
       "  153.898,1119.38 186.881,1119.38 \n",
       "  \"/>\n",
       "<polyline clip-path=\"url(#clip4300)\" style=\"stroke:#000000; stroke-width:4; stroke-opacity:1; fill:none\" points=\"\n",
       "  153.898,792.646 186.881,792.646 \n",
       "  \"/>\n",
       "<polyline clip-path=\"url(#clip4300)\" style=\"stroke:#000000; stroke-width:4; stroke-opacity:1; fill:none\" points=\"\n",
       "  153.898,465.911 186.881,465.911 \n",
       "  \"/>\n",
       "<polyline clip-path=\"url(#clip4300)\" style=\"stroke:#000000; stroke-width:4; stroke-opacity:1; fill:none\" points=\"\n",
       "  153.898,139.176 186.881,139.176 \n",
       "  \"/>\n",
       "<g clip-path=\"url(#clip4300)\">\n",
       "<text style=\"fill:#000000; fill-opacity:1; font-family:Arial,Helvetica Neue,Helvetica,sans-serif; font-size:48px; text-anchor:middle;\" transform=\"rotate(0, 652.844, 1541.47)\" x=\"652.844\" y=\"1541.47\">5</text>\n",
       "</g>\n",
       "<g clip-path=\"url(#clip4300)\">\n",
       "<text style=\"fill:#000000; fill-opacity:1; font-family:Arial,Helvetica Neue,Helvetica,sans-serif; font-size:48px; text-anchor:middle;\" transform=\"rotate(0, 1198.74, 1541.47)\" x=\"1198.74\" y=\"1541.47\">10</text>\n",
       "</g>\n",
       "<g clip-path=\"url(#clip4300)\">\n",
       "<text style=\"fill:#000000; fill-opacity:1; font-family:Arial,Helvetica Neue,Helvetica,sans-serif; font-size:48px; text-anchor:middle;\" transform=\"rotate(0, 1744.63, 1541.47)\" x=\"1744.63\" y=\"1541.47\">15</text>\n",
       "</g>\n",
       "<g clip-path=\"url(#clip4300)\">\n",
       "<text style=\"fill:#000000; fill-opacity:1; font-family:Arial,Helvetica Neue,Helvetica,sans-serif; font-size:48px; text-anchor:middle;\" transform=\"rotate(0, 2290.52, 1541.47)\" x=\"2290.52\" y=\"1541.47\">20</text>\n",
       "</g>\n",
       "<g clip-path=\"url(#clip4300)\">\n",
       "<text style=\"fill:#000000; fill-opacity:1; font-family:Arial,Helvetica Neue,Helvetica,sans-serif; font-size:48px; text-anchor:end;\" transform=\"rotate(0, 129.898, 1463.62)\" x=\"129.898\" y=\"1463.62\">0.0</text>\n",
       "</g>\n",
       "<g clip-path=\"url(#clip4300)\">\n",
       "<text style=\"fill:#000000; fill-opacity:1; font-family:Arial,Helvetica Neue,Helvetica,sans-serif; font-size:48px; text-anchor:end;\" transform=\"rotate(0, 129.898, 1136.88)\" x=\"129.898\" y=\"1136.88\">0.1</text>\n",
       "</g>\n",
       "<g clip-path=\"url(#clip4300)\">\n",
       "<text style=\"fill:#000000; fill-opacity:1; font-family:Arial,Helvetica Neue,Helvetica,sans-serif; font-size:48px; text-anchor:end;\" transform=\"rotate(0, 129.898, 810.146)\" x=\"129.898\" y=\"810.146\">0.2</text>\n",
       "</g>\n",
       "<g clip-path=\"url(#clip4300)\">\n",
       "<text style=\"fill:#000000; fill-opacity:1; font-family:Arial,Helvetica Neue,Helvetica,sans-serif; font-size:48px; text-anchor:end;\" transform=\"rotate(0, 129.898, 483.411)\" x=\"129.898\" y=\"483.411\">0.3</text>\n",
       "</g>\n",
       "<g clip-path=\"url(#clip4300)\">\n",
       "<text style=\"fill:#000000; fill-opacity:1; font-family:Arial,Helvetica Neue,Helvetica,sans-serif; font-size:48px; text-anchor:end;\" transform=\"rotate(0, 129.898, 156.676)\" x=\"129.898\" y=\"156.676\">0.4</text>\n",
       "</g>\n",
       "<polyline clip-path=\"url(#clip4302)\" style=\"stroke:#009af9; stroke-width:4; stroke-opacity:1; fill:none\" points=\"\n",
       "  216.13,88.0053 325.308,88.0053 434.487,149.178 543.666,261.674 652.844,342.935 762.023,422.857 871.202,617.964 980.38,748.575 1089.56,782.127 1198.74,902.245 \n",
       "  1307.92,1016.08 1417.09,1129.22 1526.27,1234.03 1635.45,1314.24 1744.63,1397.28 1853.81,1439.64 1962.99,1446.54 2072.17,1446.48 2181.35,1446.71 2290.52,1446.42 \n",
       "  \n",
       "  \"/>\n",
       "<polygon clip-path=\"url(#clip4300)\" points=\"\n",
       "1989.93,251.724 2280.76,251.724 2280.76,130.764 1989.93,130.764 \n",
       "  \" fill=\"#ffffff\" fill-rule=\"evenodd\" fill-opacity=\"1\"/>\n",
       "<polyline clip-path=\"url(#clip4300)\" style=\"stroke:#000000; stroke-width:4; stroke-opacity:1; fill:none\" points=\"\n",
       "  1989.93,251.724 2280.76,251.724 2280.76,130.764 1989.93,130.764 1989.93,251.724 \n",
       "  \"/>\n",
       "<polyline clip-path=\"url(#clip4300)\" style=\"stroke:#009af9; stroke-width:4; stroke-opacity:1; fill:none\" points=\"\n",
       "  2013.93,191.244 2157.93,191.244 \n",
       "  \"/>\n",
       "<g clip-path=\"url(#clip4300)\">\n",
       "<text style=\"fill:#000000; fill-opacity:1; font-family:Arial,Helvetica Neue,Helvetica,sans-serif; font-size:48px; text-anchor:start;\" transform=\"rotate(0, 2181.93, 208.744)\" x=\"2181.93\" y=\"208.744\">y1</text>\n",
       "</g>\n",
       "</svg>\n"
      ]
     },
     "execution_count": 8,
     "metadata": {},
     "output_type": "execute_result"
    }
   ],
   "source": [
    "pad = 4\n",
    "filter = digitalfilter(Lowpass(.1), FIRWindow(hanning(4)))\n",
    "\n",
    "vtraj_filt_x = filt(filter, vcat(vtraj[1,1]*ones(pad),vtraj[1,:]))[pad+1:end]\n",
    "vtraj_filt_y = filt(filter, vcat(vtraj[2,1]*ones(pad),vtraj[2,:]))[pad+1:end]\n",
    "vtraj_filt_z = filt(filter, vcat(vtraj[3,1]*ones(pad),vtraj[3,:]))[pad+1:end]\n",
    "\n",
    "vtraj_filt = vcat(vtraj_filt_x',vtraj_filt_y',vtraj_filt_z')\n",
    "\n",
    "plot(vtraj_filt[2,:])"
   ]
  },
  {
   "cell_type": "code",
   "execution_count": 9,
   "metadata": {},
   "outputs": [],
   "source": [
    "num_pos = num_positions(mechanism)\n",
    "num_vel = num_velocities(mechanism)\n",
    "\n",
    "sample_vs = VariableSelector()\n",
    "add_var!(sample_vs, :q0, num_pos)\n",
    "add_var!(sample_vs, :v0, num_vel)\n",
    "add_var!(sample_vs, :u0, num_vel)\n",
    "add_var!(sample_vs, :qnext, num_pos)\n",
    "add_var!(sample_vs, :vnext, num_vel)\n",
    "add_var!(sample_vs, :h, 1)\n",
    "\n",
    "data = Array{Array{Float64,1},1}()\n",
    "\n",
    "for n = 1:(length(qtraj)-2)\n",
    "    q0 = qtraj[n]\n",
    "    qnext = qtraj[n+1]\n",
    "    u0 = zeros(num_vel) \n",
    "    \n",
    "    h = htraj[n]\n",
    "    \n",
    "    v0 = vcat([0.,0.,0.],vtraj_filt[:,n])\n",
    "    vnext = vcat([0.,0.,0.],vtraj_filt[:,n+1])\n",
    "    \n",
    "    sample = zeros(Float64, sample_vs.num_vars)\n",
    "    sample[sample_vs(:q0)] = q0\n",
    "    sample[sample_vs(:v0)] = v0\n",
    "    sample[sample_vs(:u0)] = u0\n",
    "    sample[sample_vs(:qnext)] = qnext\n",
    "    sample[sample_vs(:vnext)] = vnext\n",
    "    sample[sample_vs(:h)] = [h]\n",
    "    \n",
    "    push!(data, sample)\n",
    "end"
   ]
  },
  {
   "cell_type": "code",
   "execution_count": null,
   "metadata": {},
   "outputs": [],
   "source": [
    "data"
   ]
  },
  {
   "cell_type": "code",
   "execution_count": 123,
   "metadata": {},
   "outputs": [],
   "source": [
    "vs = VariableSelector()\n",
    "cs = ConstraintSelector()\n",
    "add_var!(vs, :μ, 1)\n",
    "add_ineq!(cs, :μ_pos, 1)\n",
    "\n",
    "function generate_solver_fn_estimation_direct(data, sample_vs)    \n",
    "    sim_data = get_sim_data_direct(mechanism,env,0.01)\n",
    "    num_contacts = length(sim_data.env.contacts)\n",
    "    num_vel = num_velocities(mechanism)\n",
    "    num_samples = length(data)\n",
    "    \n",
    "    sim_data.normal_options[1][\"num_fosteps\"] = 0\n",
    "    sim_data.normal_options[1][\"num_sosteps\"] = 0\n",
    "    sim_data.normal_options[1][\"c\"] = 1\n",
    "    sim_data.normal_options[1][\"c_fos\"] = 1\n",
    "    sim_data.normal_options[1][\"c_sos\"] = 1\n",
    "\n",
    "    sim_data.fric_options[1][\"num_fosteps\"] = 0\n",
    "    sim_data.fric_options[1][\"num_sosteps\"] = 20\n",
    "    sim_data.fric_options[1][\"c\"] = 1\n",
    "    sim_data.fric_options[1][\"c_fos\"] = 1\n",
    "    sim_data.fric_options[1][\"c_sos\"] = 1\n",
    "    \n",
    "    function eval_obj(params::AbstractArray{T}) where T\n",
    "        # set the friction coefficient for the floor\n",
    "        obstacles[1].μ = vs(params, :μ)[1]\n",
    "        \n",
    "        # evaluate the dynamics residual on each datapoint as an inner problem\n",
    "        losses = zeros(T, num_samples)\n",
    "        for i = 1:num_samples\n",
    "            sample = data[i]\n",
    "            q0 = sample_vs(sample, :q0)\n",
    "            v0 = sample_vs(sample, :v0)\n",
    "            u0 = sample_vs(sample, :u0)\n",
    "            qnext = sample_vs(sample, :qnext)\n",
    "            vnext = sample_vs(sample, :vnext)\n",
    "            h = sample_vs(sample, :h)[1]\n",
    "\n",
    "            x0 = sim_data.state_cache[1][Float64]\n",
    "            xn = sim_data.state_cache[2][Float64]\n",
    "            envj = sim_data.envj_cache[2][Float64]\n",
    "\n",
    "            set_configuration!(x0, q0)\n",
    "            set_velocity!(x0, v0)\n",
    "            setdirty!(x0)\n",
    "            set_configuration!(xn, qnext)\n",
    "            set_velocity!(xn, vnext)\n",
    "            setdirty!(xn)\n",
    "\n",
    "            normalize_configuration!(x0)\n",
    "            normalize_configuration!(xn)\n",
    "\n",
    "            H = mass_matrix(x0)\n",
    "            Hi = inv(H)\n",
    "            config_derivative = configuration_derivative(xn)\n",
    "            dyn_bias = dynamics_bias(xn)\n",
    "\n",
    "            contact_jacobian!(envj, xn)\n",
    "            normal_bias = Vector{T}(undef, num_vel)\n",
    "            contact_bias = Vector{T}(undef, num_vel)\n",
    "            \n",
    "#             x_normal = contact_normal_τ_direct!(normal_bias, sim_data, h, Hi, envj, dyn_bias, u0, v0, params, 1)\n",
    "            x_normal = [1.]\n",
    "            \n",
    "            contact_friction_τ_direct!(contact_bias, sim_data, h, Hi, envj, dyn_bias, u0, v0, params, x_normal, 1)\n",
    "        \n",
    "            contact_bias_exp = u0 .- dyn_bias .- (1. / h) * H * (vnext - v0)\n",
    "            \n",
    "            # if (T<:ForwardDiff.Dual)\n",
    "            #     display(map(ForwardDiff.value, map(ForwardDiff.value, contact_bias)))\n",
    "            #     display(map(ForwardDiff.value, contact_bias_exp))\n",
    "            # end\n",
    "            \n",
    "            err = contact_bias - contact_bias_exp\n",
    "            loss = err'*err\n",
    "            \n",
    "            if !(isnan(loss) || isinf(loss))\n",
    "                losses[i] = loss\n",
    "#                 display(contact_bias)\n",
    "#                 display(contact_bias_exp)\n",
    "            end\n",
    "        end\n",
    "        \n",
    "        # add losses\n",
    "        sum(losses)\n",
    "    end\n",
    "\n",
    "    function eval_cons(params::AbstractArray{T}) where T        \n",
    "        # friction coeffs are positive\n",
    "        g = Vector{T}(undef, cs.num_eqs + cs.num_ineqs)\n",
    "        μ = params[1]\n",
    "        g[cs(:μ_pos)] .= [1e-6 - μ]\n",
    "        \n",
    "        g\n",
    "    end\n",
    "    \n",
    "#     return eval_obj\n",
    "    return Bilevel.generate_autodiff_solver_fn(eval_obj,eval_cons,cs.eqs,cs.ineqs,vs.num_vars,hessian=false)\n",
    "end\n",
    "\n",
    "solver_fn = generate_solver_fn_estimation_direct(data, sample_vs)\n",
    "\n",
    "μ0 = [.1]\n",
    "options = Dict{String, Any}()\n",
    "options[\"Derivative option\"] = 1\n",
    "options[\"Verify level\"] = -1\n",
    "options[\"Major optimality tolerance\"] = 1e-6\n",
    "# options[\"Scale option\"] = 2;"
   ]
  },
  {
   "cell_type": "code",
   "execution_count": 124,
   "metadata": {},
   "outputs": [
    {
     "ename": "ForwardDiff.DualMismatchError{DataType,DataType}",
     "evalue": "Cannot determine ordering of Dual tags ForwardDiff.Tag{getfield(Bilevel, Symbol(\"#eval_cons_#24\")){Array{Float64,1},Int64,Environment,VariableSelector,VariableSelector},Float64} and ForwardDiff.Tag{getfield(Main, Symbol(\"#eval_obj#55\")){Array{Array{Float64,1},1},VariableSelector,SimData,Int64,Int64},Float64}",
     "output_type": "error",
     "traceback": [
      "Cannot determine ordering of Dual tags ForwardDiff.Tag{getfield(Bilevel, Symbol(\"#eval_cons_#24\")){Array{Float64,1},Int64,Environment,VariableSelector,VariableSelector},Float64} and ForwardDiff.Tag{getfield(Main, Symbol(\"#eval_obj#55\")){Array{Array{Float64,1},1},VariableSelector,SimData,Int64,Int64},Float64}",
      "",
      "Stacktrace:",
      " [1] partials(::Type{ForwardDiff.Tag{getfield(Bilevel, Symbol(\"#eval_cons_#24\")){Array{Float64,1},Int64,Environment,VariableSelector,VariableSelector},Float64}}, ::ForwardDiff.Dual{ForwardDiff.Tag{getfield(Main, Symbol(\"#eval_obj#55\")){Array{Array{Float64,1},1},VariableSelector,SimData,Int64,Int64},Float64},ForwardDiff.Dual{ForwardDiff.Tag{getfield(Main, Symbol(\"#eval_obj#55\")){Array{Array{Float64,1},1},VariableSelector,SimData,Int64,Int64},Float64},ForwardDiff.Dual{ForwardDiff.Tag{getfield(Bilevel, Symbol(\"#eval_cons_#24\")){Array{Float64,1},Int64,Environment,VariableSelector,VariableSelector},Float64},Float64,4},1},1}, ::Int64) at /home/blandry/.julia/packages/ForwardDiff/N0wMF/src/dual.jl:106",
      " [2] extract_jacobian!(::Type{ForwardDiff.Tag{getfield(Bilevel, Symbol(\"#eval_cons_#24\")){Array{Float64,1},Int64,Environment,VariableSelector,VariableSelector},Float64}}, ::Array{ForwardDiff.Dual{ForwardDiff.Tag{getfield(Main, Symbol(\"#eval_obj#55\")){Array{Array{Float64,1},1},VariableSelector,SimData,Int64,Int64},Float64},ForwardDiff.Dual{ForwardDiff.Tag{getfield(Main, Symbol(\"#eval_obj#55\")){Array{Array{Float64,1},1},VariableSelector,SimData,Int64,Int64},Float64},Float64,1},1},2}, ::Array{Any,1}, ::Int64) at /home/blandry/.julia/packages/ForwardDiff/N0wMF/src/jacobian.jl:111",
      " [3] extract_jacobian!(::Type{ForwardDiff.Tag{getfield(Bilevel, Symbol(\"#eval_cons_#24\")){Array{Float64,1},Int64,Environment,VariableSelector,VariableSelector},Float64}}, ::DiffResults.MutableDiffResult{1,Array{ForwardDiff.Dual{ForwardDiff.Tag{getfield(Main, Symbol(\"#eval_obj#55\")){Array{Array{Float64,1},1},VariableSelector,SimData,Int64,Int64},Float64},ForwardDiff.Dual{ForwardDiff.Tag{getfield(Main, Symbol(\"#eval_obj#55\")){Array{Array{Float64,1},1},VariableSelector,SimData,Int64,Int64},Float64},Float64,1},1},1},Tuple{Array{ForwardDiff.Dual{ForwardDiff.Tag{getfield(Main, Symbol(\"#eval_obj#55\")){Array{Array{Float64,1},1},VariableSelector,SimData,Int64,Int64},Float64},ForwardDiff.Dual{ForwardDiff.Tag{getfield(Main, Symbol(\"#eval_obj#55\")){Array{Array{Float64,1},1},VariableSelector,SimData,Int64,Int64},Float64},Float64,1},1},2}}}, ::Array{Any,1}, ::Int64) at /home/blandry/.julia/packages/ForwardDiff/N0wMF/src/jacobian.jl:117",
      " [4] vector_mode_jacobian!(::DiffResults.MutableDiffResult{1,Array{ForwardDiff.Dual{ForwardDiff.Tag{getfield(Main, Symbol(\"#eval_obj#55\")){Array{Array{Float64,1},1},VariableSelector,SimData,Int64,Int64},Float64},ForwardDiff.Dual{ForwardDiff.Tag{getfield(Main, Symbol(\"#eval_obj#55\")){Array{Array{Float64,1},1},VariableSelector,SimData,Int64,Int64},Float64},Float64,1},1},1},Tuple{Array{ForwardDiff.Dual{ForwardDiff.Tag{getfield(Main, Symbol(\"#eval_obj#55\")){Array{Array{Float64,1},1},VariableSelector,SimData,Int64,Int64},Float64},ForwardDiff.Dual{ForwardDiff.Tag{getfield(Main, Symbol(\"#eval_obj#55\")){Array{Array{Float64,1},1},VariableSelector,SimData,Int64,Int64},Float64},Float64,1},1},2}}}, ::getfield(Bilevel, Symbol(\"#eval_cons_#24\")){Array{Float64,1},Int64,Environment,VariableSelector,VariableSelector}, ::Array{Float64,1}, ::ForwardDiff.JacobianConfig{ForwardDiff.Tag{getfield(Bilevel, Symbol(\"#eval_cons_#24\")){Array{Float64,1},Int64,Environment,VariableSelector,VariableSelector},Float64},Float64,4,Array{ForwardDiff.Dual{ForwardDiff.Tag{getfield(Bilevel, Symbol(\"#eval_cons_#24\")){Array{Float64,1},Int64,Environment,VariableSelector,VariableSelector},Float64},Float64,4},1}}) at /home/blandry/.julia/packages/ForwardDiff/N0wMF/src/jacobian.jl:158",
      " [5] jacobian!(::DiffResults.MutableDiffResult{1,Array{ForwardDiff.Dual{ForwardDiff.Tag{getfield(Main, Symbol(\"#eval_obj#55\")){Array{Array{Float64,1},1},VariableSelector,SimData,Int64,Int64},Float64},ForwardDiff.Dual{ForwardDiff.Tag{getfield(Main, Symbol(\"#eval_obj#55\")){Array{Array{Float64,1},1},VariableSelector,SimData,Int64,Int64},Float64},Float64,1},1},1},Tuple{Array{ForwardDiff.Dual{ForwardDiff.Tag{getfield(Main, Symbol(\"#eval_obj#55\")){Array{Array{Float64,1},1},VariableSelector,SimData,Int64,Int64},Float64},ForwardDiff.Dual{ForwardDiff.Tag{getfield(Main, Symbol(\"#eval_obj#55\")){Array{Array{Float64,1},1},VariableSelector,SimData,Int64,Int64},Float64},Float64,1},1},2}}}, ::Function, ::Array{Float64,1}, ::ForwardDiff.JacobianConfig{ForwardDiff.Tag{getfield(Bilevel, Symbol(\"#eval_cons_#24\")){Array{Float64,1},Int64,Environment,VariableSelector,VariableSelector},Float64},Float64,4,Array{ForwardDiff.Dual{ForwardDiff.Tag{getfield(Bilevel, Symbol(\"#eval_cons_#24\")){Array{Float64,1},Int64,Environment,VariableSelector,VariableSelector},Float64},Float64,4},1}}, ::Val{true}) at /home/blandry/.julia/packages/ForwardDiff/N0wMF/src/jacobian.jl:54",
      " [6] jacobian!(::DiffResults.MutableDiffResult{1,Array{ForwardDiff.Dual{ForwardDiff.Tag{getfield(Main, Symbol(\"#eval_obj#55\")){Array{Array{Float64,1},1},VariableSelector,SimData,Int64,Int64},Float64},ForwardDiff.Dual{ForwardDiff.Tag{getfield(Main, Symbol(\"#eval_obj#55\")){Array{Array{Float64,1},1},VariableSelector,SimData,Int64,Int64},Float64},Float64,1},1},1},Tuple{Array{ForwardDiff.Dual{ForwardDiff.Tag{getfield(Main, Symbol(\"#eval_obj#55\")){Array{Array{Float64,1},1},VariableSelector,SimData,Int64,Int64},Float64},ForwardDiff.Dual{ForwardDiff.Tag{getfield(Main, Symbol(\"#eval_obj#55\")){Array{Array{Float64,1},1},VariableSelector,SimData,Int64,Int64},Float64},Float64,1},1},2}}}, ::Function, ::Array{Float64,1}, ::ForwardDiff.JacobianConfig{ForwardDiff.Tag{getfield(Bilevel, Symbol(\"#eval_cons_#24\")){Array{Float64,1},Int64,Environment,VariableSelector,VariableSelector},Float64},Float64,4,Array{ForwardDiff.Dual{ForwardDiff.Tag{getfield(Bilevel, Symbol(\"#eval_cons_#24\")){Array{Float64,1},Int64,Environment,VariableSelector,VariableSelector},Float64},Float64,4},1}}) at /home/blandry/.julia/packages/ForwardDiff/N0wMF/src/jacobian.jl:52 (repeats 2 times)",
      " [7] (::getfield(Bilevel, Symbol(\"#solver_fn#89\")){Bool,getfield(Bilevel, Symbol(\"#eval_obj_#23\")){Array{Float64,1},Int64,VariableSelector,VariableSelector,Array{Any,1},Array{Any,1}},DiffResults.MutableDiffResult{2,ForwardDiff.Dual{ForwardDiff.Tag{getfield(Main, Symbol(\"#eval_obj#55\")){Array{Array{Float64,1},1},VariableSelector,SimData,Int64,Int64},Float64},ForwardDiff.Dual{ForwardDiff.Tag{getfield(Main, Symbol(\"#eval_obj#55\")){Array{Array{Float64,1},1},VariableSelector,SimData,Int64,Int64},Float64},Float64,1},1},Tuple{Array{ForwardDiff.Dual{ForwardDiff.Tag{getfield(Main, Symbol(\"#eval_obj#55\")){Array{Array{Float64,1},1},VariableSelector,SimData,Int64,Int64},Float64},ForwardDiff.Dual{ForwardDiff.Tag{getfield(Main, Symbol(\"#eval_obj#55\")){Array{Array{Float64,1},1},VariableSelector,SimData,Int64,Int64},Float64},Float64,1},1},1},Array{ForwardDiff.Dual{ForwardDiff.Tag{getfield(Main, Symbol(\"#eval_obj#55\")){Array{Array{Float64,1},1},VariableSelector,SimData,Int64,Int64},Float64},ForwardDiff.Dual{ForwardDiff.Tag{getfield(Main, Symbol(\"#eval_obj#55\")){Array{Array{Float64,1},1},VariableSelector,SimData,Int64,Int64},Float64},Float64,1},1},2}}},getfield(Bilevel, Symbol(\"#eval_cons_#24\")){Array{Float64,1},Int64,Environment,VariableSelector,VariableSelector},DiffResults.MutableDiffResult{1,Array{ForwardDiff.Dual{ForwardDiff.Tag{getfield(Main, Symbol(\"#eval_obj#55\")){Array{Array{Float64,1},1},VariableSelector,SimData,Int64,Int64},Float64},ForwardDiff.Dual{ForwardDiff.Tag{getfield(Main, Symbol(\"#eval_obj#55\")){Array{Array{Float64,1},1},VariableSelector,SimData,Int64,Int64},Float64},Float64,1},1},1},Tuple{Array{ForwardDiff.Dual{ForwardDiff.Tag{getfield(Main, Symbol(\"#eval_obj#55\")){Array{Array{Float64,1},1},VariableSelector,SimData,Int64,Int64},Float64},ForwardDiff.Dual{ForwardDiff.Tag{getfield(Main, Symbol(\"#eval_obj#55\")){Array{Array{Float64,1},1},VariableSelector,SimData,Int64,Int64},Float64},Float64,1},1},2}}},Array{Int64,1},Array{Int64,1}})(::Array{Float64,1}) at /home/blandry/.julia/dev/Bilevel/src/solvers/autodiff.jl:62",
      " [8] auglag(::getfield(Bilevel, Symbol(\"#solver_fn#89\")){Bool,getfield(Bilevel, Symbol(\"#eval_obj_#23\")){Array{Float64,1},Int64,VariableSelector,VariableSelector,Array{Any,1},Array{Any,1}},DiffResults.MutableDiffResult{2,ForwardDiff.Dual{ForwardDiff.Tag{getfield(Main, Symbol(\"#eval_obj#55\")){Array{Array{Float64,1},1},VariableSelector,SimData,Int64,Int64},Float64},ForwardDiff.Dual{ForwardDiff.Tag{getfield(Main, Symbol(\"#eval_obj#55\")){Array{Array{Float64,1},1},VariableSelector,SimData,Int64,Int64},Float64},Float64,1},1},Tuple{Array{ForwardDiff.Dual{ForwardDiff.Tag{getfield(Main, Symbol(\"#eval_obj#55\")){Array{Array{Float64,1},1},VariableSelector,SimData,Int64,Int64},Float64},ForwardDiff.Dual{ForwardDiff.Tag{getfield(Main, Symbol(\"#eval_obj#55\")){Array{Array{Float64,1},1},VariableSelector,SimData,Int64,Int64},Float64},Float64,1},1},1},Array{ForwardDiff.Dual{ForwardDiff.Tag{getfield(Main, Symbol(\"#eval_obj#55\")){Array{Array{Float64,1},1},VariableSelector,SimData,Int64,Int64},Float64},ForwardDiff.Dual{ForwardDiff.Tag{getfield(Main, Symbol(\"#eval_obj#55\")){Array{Array{Float64,1},1},VariableSelector,SimData,Int64,Int64},Float64},Float64,1},1},2}}},getfield(Bilevel, Symbol(\"#eval_cons_#24\")){Array{Float64,1},Int64,Environment,VariableSelector,VariableSelector},DiffResults.MutableDiffResult{1,Array{ForwardDiff.Dual{ForwardDiff.Tag{getfield(Main, Symbol(\"#eval_obj#55\")){Array{Array{Float64,1},1},VariableSelector,SimData,Int64,Int64},Float64},ForwardDiff.Dual{ForwardDiff.Tag{getfield(Main, Symbol(\"#eval_obj#55\")){Array{Array{Float64,1},1},VariableSelector,SimData,Int64,Int64},Float64},Float64,1},1},1},Tuple{Array{ForwardDiff.Dual{ForwardDiff.Tag{getfield(Main, Symbol(\"#eval_obj#55\")){Array{Array{Float64,1},1},VariableSelector,SimData,Int64,Int64},Float64},ForwardDiff.Dual{ForwardDiff.Tag{getfield(Main, Symbol(\"#eval_obj#55\")){Array{Array{Float64,1},1},VariableSelector,SimData,Int64,Int64},Float64},Float64,1},1},2}}},Array{Int64,1},Array{Int64,1}}, ::Int64, ::Int64, ::Array{Float64,1}, ::Dict{String,Any}) at /home/blandry/.julia/dev/Bilevel/src/solvers/auglag.jl:69",
      " [9] contact_friction_τ_direct!(::Array{ForwardDiff.Dual{ForwardDiff.Tag{getfield(Main, Symbol(\"#eval_obj#55\")){Array{Array{Float64,1},1},VariableSelector,SimData,Int64,Int64},Float64},ForwardDiff.Dual{ForwardDiff.Tag{getfield(Main, Symbol(\"#eval_obj#55\")){Array{Array{Float64,1},1},VariableSelector,SimData,Int64,Int64},Float64},Float64,1},1},1}, ::SimData, ::Float64, ::Symmetric{Float64,Array{Float64,2}}, ::EnvironmentJacobian{Float64}, ::SegmentedVector{JointID,Float64,Base.OneTo{JointID},Array{Float64,1}}, ::Array{Float64,1}, ::Array{Float64,1}, ::Array{ForwardDiff.Dual{ForwardDiff.Tag{getfield(Main, Symbol(\"#eval_obj#55\")){Array{Array{Float64,1},1},VariableSelector,SimData,Int64,Int64},Float64},ForwardDiff.Dual{ForwardDiff.Tag{getfield(Main, Symbol(\"#eval_obj#55\")){Array{Array{Float64,1},1},VariableSelector,SimData,Int64,Int64},Float64},Float64,1},1},1}, ::Array{Float64,1}, ::Int64) at /home/blandry/.julia/dev/Bilevel/src/contact_sim.jl:117",
      " [10] (::getfield(Main, Symbol(\"#eval_obj#55\")){Array{Array{Float64,1},1},VariableSelector,SimData,Int64,Int64})(::Array{ForwardDiff.Dual{ForwardDiff.Tag{getfield(Main, Symbol(\"#eval_obj#55\")){Array{Array{Float64,1},1},VariableSelector,SimData,Int64,Int64},Float64},ForwardDiff.Dual{ForwardDiff.Tag{getfield(Main, Symbol(\"#eval_obj#55\")){Array{Array{Float64,1},1},VariableSelector,SimData,Int64,Int64},Float64},Float64,1},1},1}) at ./In[123]:65",
      " [11] gradient!(::DiffResults.MutableDiffResult{1,ForwardDiff.Dual{ForwardDiff.Tag{getfield(Main, Symbol(\"#eval_obj#55\")){Array{Array{Float64,1},1},VariableSelector,SimData,Int64,Int64},Float64},Float64,1},Tuple{Array{ForwardDiff.Dual{ForwardDiff.Tag{getfield(Main, Symbol(\"#eval_obj#55\")){Array{Array{Float64,1},1},VariableSelector,SimData,Int64,Int64},Float64},Float64,1},1}}}, ::getfield(Main, Symbol(\"#eval_obj#55\")){Array{Array{Float64,1},1},VariableSelector,SimData,Int64,Int64}, ::Array{ForwardDiff.Dual{ForwardDiff.Tag{getfield(Main, Symbol(\"#eval_obj#55\")){Array{Array{Float64,1},1},VariableSelector,SimData,Int64,Int64},Float64},Float64,1},1}, ::ForwardDiff.GradientConfig{ForwardDiff.Tag{getfield(Main, Symbol(\"#eval_obj#55\")){Array{Array{Float64,1},1},VariableSelector,SimData,Int64,Int64},Float64},ForwardDiff.Dual{ForwardDiff.Tag{getfield(Main, Symbol(\"#eval_obj#55\")){Array{Array{Float64,1},1},VariableSelector,SimData,Int64,Int64},Float64},Float64,1},1,Array{ForwardDiff.Dual{ForwardDiff.Tag{getfield(Main, Symbol(\"#eval_obj#55\")){Array{Array{Float64,1},1},VariableSelector,SimData,Int64,Int64},Float64},ForwardDiff.Dual{ForwardDiff.Tag{getfield(Main, Symbol(\"#eval_obj#55\")){Array{Array{Float64,1},1},VariableSelector,SimData,Int64,Int64},Float64},Float64,1},1},1}}, ::Val{false}) at /home/blandry/.julia/packages/ForwardDiff/N0wMF/src/apiutils.jl:37",
      " [12] InnerGradientForHess at /home/blandry/.julia/packages/ForwardDiff/N0wMF/src/hessian.jl:50 [inlined]",
      " [13] vector_mode_dual_eval(::ForwardDiff.InnerGradientForHess{DiffResults.MutableDiffResult{2,Float64,Tuple{Array{Float64,1},Array{Float64,2}}},ForwardDiff.HessianConfig{ForwardDiff.Tag{getfield(Main, Symbol(\"#eval_obj#55\")){Array{Array{Float64,1},1},VariableSelector,SimData,Int64,Int64},Float64},Float64,1,Array{ForwardDiff.Dual{ForwardDiff.Tag{getfield(Main, Symbol(\"#eval_obj#55\")){Array{Array{Float64,1},1},VariableSelector,SimData,Int64,Int64},Float64},ForwardDiff.Dual{ForwardDiff.Tag{getfield(Main, Symbol(\"#eval_obj#55\")){Array{Array{Float64,1},1},VariableSelector,SimData,Int64,Int64},Float64},Float64,1},1},1},Tuple{Array{ForwardDiff.Dual{ForwardDiff.Tag{getfield(Main, Symbol(\"#eval_obj#55\")){Array{Array{Float64,1},1},VariableSelector,SimData,Int64,Int64},Float64},Float64,1},1},Array{ForwardDiff.Dual{ForwardDiff.Tag{getfield(Main, Symbol(\"#eval_obj#55\")){Array{Array{Float64,1},1},VariableSelector,SimData,Int64,Int64},Float64},Float64,1},1}}},getfield(Main, Symbol(\"#eval_obj#55\")){Array{Array{Float64,1},1},VariableSelector,SimData,Int64,Int64}}, ::Array{Float64,1}, ::Array{Float64,1}, ::ForwardDiff.JacobianConfig{ForwardDiff.Tag{getfield(Main, Symbol(\"#eval_obj#55\")){Array{Array{Float64,1},1},VariableSelector,SimData,Int64,Int64},Float64},Float64,1,Tuple{Array{ForwardDiff.Dual{ForwardDiff.Tag{getfield(Main, Symbol(\"#eval_obj#55\")){Array{Array{Float64,1},1},VariableSelector,SimData,Int64,Int64},Float64},Float64,1},1},Array{ForwardDiff.Dual{ForwardDiff.Tag{getfield(Main, Symbol(\"#eval_obj#55\")){Array{Array{Float64,1},1},VariableSelector,SimData,Int64,Int64},Float64},Float64,1},1}}}) at /home/blandry/.julia/packages/ForwardDiff/N0wMF/src/apiutils.jl:44",
      " [14] vector_mode_jacobian!(::Array{Float64,2}, ::ForwardDiff.InnerGradientForHess{DiffResults.MutableDiffResult{2,Float64,Tuple{Array{Float64,1},Array{Float64,2}}},ForwardDiff.HessianConfig{ForwardDiff.Tag{getfield(Main, Symbol(\"#eval_obj#55\")){Array{Array{Float64,1},1},VariableSelector,SimData,Int64,Int64},Float64},Float64,1,Array{ForwardDiff.Dual{ForwardDiff.Tag{getfield(Main, Symbol(\"#eval_obj#55\")){Array{Array{Float64,1},1},VariableSelector,SimData,Int64,Int64},Float64},ForwardDiff.Dual{ForwardDiff.Tag{getfield(Main, Symbol(\"#eval_obj#55\")){Array{Array{Float64,1},1},VariableSelector,SimData,Int64,Int64},Float64},Float64,1},1},1},Tuple{Array{ForwardDiff.Dual{ForwardDiff.Tag{getfield(Main, Symbol(\"#eval_obj#55\")){Array{Array{Float64,1},1},VariableSelector,SimData,Int64,Int64},Float64},Float64,1},1},Array{ForwardDiff.Dual{ForwardDiff.Tag{getfield(Main, Symbol(\"#eval_obj#55\")){Array{Array{Float64,1},1},VariableSelector,SimData,Int64,Int64},Float64},Float64,1},1}}},getfield(Main, Symbol(\"#eval_obj#55\")){Array{Array{Float64,1},1},VariableSelector,SimData,Int64,Int64}}, ::Array{Float64,1}, ::Array{Float64,1}, ::ForwardDiff.JacobianConfig{ForwardDiff.Tag{getfield(Main, Symbol(\"#eval_obj#55\")){Array{Array{Float64,1},1},VariableSelector,SimData,Int64,Int64},Float64},Float64,1,Tuple{Array{ForwardDiff.Dual{ForwardDiff.Tag{getfield(Main, Symbol(\"#eval_obj#55\")){Array{Array{Float64,1},1},VariableSelector,SimData,Int64,Int64},Float64},Float64,1},1},Array{ForwardDiff.Dual{ForwardDiff.Tag{getfield(Main, Symbol(\"#eval_obj#55\")){Array{Array{Float64,1},1},VariableSelector,SimData,Int64,Int64},Float64},Float64,1},1}}}) at /home/blandry/.julia/packages/ForwardDiff/N0wMF/src/jacobian.jl:164",
      " [15] jacobian! at /home/blandry/.julia/packages/ForwardDiff/N0wMF/src/jacobian.jl:74 [inlined]",
      " [16] hessian! at /home/blandry/.julia/packages/ForwardDiff/N0wMF/src/hessian.jl:67 [inlined]",
      " [17] hessian! at /home/blandry/.julia/packages/ForwardDiff/N0wMF/src/hessian.jl:65 [inlined]",
      " [18] (::getfield(Bilevel, Symbol(\"#solver_fn#87\")){Bool,getfield(Main, Symbol(\"#eval_obj#55\")){Array{Array{Float64,1},1},VariableSelector,SimData,Int64,Int64},DiffResults.MutableDiffResult{2,Float64,Tuple{Array{Float64,1},Array{Float64,2}}},ForwardDiff.HessianConfig{ForwardDiff.Tag{getfield(Main, Symbol(\"#eval_obj#55\")){Array{Array{Float64,1},1},VariableSelector,SimData,Int64,Int64},Float64},Float64,1,Array{ForwardDiff.Dual{ForwardDiff.Tag{getfield(Main, Symbol(\"#eval_obj#55\")){Array{Array{Float64,1},1},VariableSelector,SimData,Int64,Int64},Float64},ForwardDiff.Dual{ForwardDiff.Tag{getfield(Main, Symbol(\"#eval_obj#55\")){Array{Array{Float64,1},1},VariableSelector,SimData,Int64,Int64},Float64},Float64,1},1},1},Tuple{Array{ForwardDiff.Dual{ForwardDiff.Tag{getfield(Main, Symbol(\"#eval_obj#55\")){Array{Array{Float64,1},1},VariableSelector,SimData,Int64,Int64},Float64},Float64,1},1},Array{ForwardDiff.Dual{ForwardDiff.Tag{getfield(Main, Symbol(\"#eval_obj#55\")){Array{Array{Float64,1},1},VariableSelector,SimData,Int64,Int64},Float64},Float64,1},1}}},getfield(Main, Symbol(\"#eval_cons#56\")),DiffResults.MutableDiffResult{1,Array{Float64,1},Tuple{Array{Float64,2}}},ForwardDiff.JacobianConfig{ForwardDiff.Tag{getfield(Main, Symbol(\"#eval_cons#56\")),Float64},Float64,1,Array{ForwardDiff.Dual{ForwardDiff.Tag{getfield(Main, Symbol(\"#eval_cons#56\")),Float64},Float64,1},1}},Array{Int64,1},Array{Int64,1}})(::Array{Float64,1}) at /home/blandry/.julia/dev/Bilevel/src/solvers/autodiff.jl:27",
      " [19] top-level scope at In[124]:1"
     ]
    }
   ],
   "source": [
    "solver_fn([.07])"
   ]
  },
  {
   "cell_type": "code",
   "execution_count": 31,
   "metadata": {},
   "outputs": [
    {
     "data": {
      "text/plain": [
       "([0.0815953], \"Terminated after numerical difficulties: current point cannot be improved\")"
      ]
     },
     "execution_count": 31,
     "metadata": {},
     "output_type": "execute_result"
    }
   ],
   "source": [
    "μopt, info = Bilevel.snopt(solver_fn, cs.num_eqs, cs.num_ineqs, μ0, options)"
   ]
  },
  {
   "cell_type": "markdown",
   "metadata": {},
   "source": [
    "# simulate to see"
   ]
  },
  {
   "cell_type": "code",
   "execution_count": 118,
   "metadata": {},
   "outputs": [
    {
     "data": {
      "text/plain": [
       "Environment(Contact[Contact(Spanning tree:\n",
       "Vertex: world (root)\n",
       "  Vertex: floor, Edge: floor_to_world\n",
       "    Vertex: box, Edge: floor_to_box\n",
       "No non-tree joints., box, Point3D in \"after_floor_to_box\": [0.0, 0.0, 0.0], Obstacle(floor, Point3D in \"after_floor_to_world\": [0.0, 0.0, 0.688658], FreeVector3D in \"after_floor_to_world\": [0.0118288, 0.243494, 0.96983], [0.999929 -0.00146218 -0.999929 0.00146218; -0.00146218 0.969901 0.00146218 -0.969901; -0.0118288 -0.243494 0.0118288 0.243494], 0.0815953, false))])"
      ]
     },
     "execution_count": 118,
     "metadata": {},
     "output_type": "execute_result"
    }
   ],
   "source": [
    "urdf = joinpath(\"..\", \"..\", \"urdf\", \"small_box.urdf\")\n",
    "mechanism = parse_urdf(Float64, urdf)\n",
    "\n",
    "floor = findbody(mechanism, \"floor\")\n",
    "point = Point3D(default_frame(floor), SVector(qtraj[1][5:7]...))\n",
    "normal = FreeVector3D(default_frame(floor), SVector(ramp_normal.v...))\n",
    "floor_obs = Obstacle(floor, point, normal, :xyz, μopt[1])\n",
    "\n",
    "obstacles = [floor_obs]\n",
    "env = Environment(mechanism, urdf, obstacles)"
   ]
  },
  {
   "cell_type": "code",
   "execution_count": 78,
   "metadata": {},
   "outputs": [
    {
     "data": {
      "text/html": [
       "<div class='display:none'></div><unsafe-script style='display:none'>\n",
       "WebIO.mount(this.previousSibling,{&quot;props&quot;:{},&quot;nodeType&quot;:&quot;Scope&quot;,&quot;type&quot;:&quot;node&quot;,&quot;instanceArgs&quot;:{&quot;imports&quot;:{&quot;data&quot;:[],&quot;type&quot;:&quot;async_block&quot;},&quot;id&quot;:&quot;scope-4004e599-80ac-4119-8c7d-9206577b2d5d&quot;,&quot;handlers&quot;:{&quot;_promises&quot;:{&quot;importsLoaded&quot;:[function () {\n",
       "    var frame = this.dom.querySelector(&quot;#ifr&quot;);\n",
       "    var doc = frame.contentDocument\n",
       "    var win = frame.contentWindow\n",
       "\n",
       "    // Ensure that the iframe&#39;s baseURI matches the baseURI of the\n",
       "    // outer document. This is necessary to resolve\n",
       "    // https://github.com/JuliaGizmos/WebIO.jl/issues/167\n",
       "    var base = doc.createElement(&quot;base&quot;);\n",
       "    base.setAttribute(&quot;href&quot;, document.baseURI);\n",
       "    doc.head.appendChild(base);\n",
       "\n",
       "    var webio = doc.createElement(&quot;script&quot;)\n",
       "    webio.src = &quot;/assetserver/b464848323e0a4c9a3cfe11f8edca2932188b6d9-assets/webio/dist/bundle.js&quot;\n",
       "    var parent = window\n",
       "\n",
       "    function resizeIframe() {\n",
       "        doc.body.style.padding = &#39;0&#39;\n",
       "        doc.body.style.margin = &#39;0&#39;\n",
       "        doc.documentElement.height = &#39;100%&#39;\n",
       "        doc.body.height = &#39;100%&#39;\n",
       "    }\n",
       "\n",
       "    webio.onload = function () {\n",
       "        win.WebIO.sendCallback = parent.WebIO.sendCallback; // Share stuff\n",
       "        win.WebIO.scopes = parent.WebIO.scopes\n",
       "        win.WebIO.obsscopes = parent.WebIO.obsscopes\n",
       "        win.WebIO._connected = true\n",
       "        doc.body.innerHTML = &quot;&lt;html&gt;&lt;body&gt;&quot; + &quot;&lt;div class=&#39;display:none&#39;&gt;&lt;/div&gt;&lt;unsafe-script style=&#39;display:none&#39;&gt;\\nWebIO.mount(this.previousSibling,{&amp;quot;props&amp;quot;:{},&amp;quot;nodeType&amp;quot;:&amp;quot;Scope&amp;quot;,&amp;quot;type&amp;quot;:&amp;quot;node&amp;quot;,&amp;quot;instanceArgs&amp;quot;:{&amp;quot;imports&amp;quot;:{&amp;quot;data&amp;quot;:[{&amp;quot;name&amp;quot;:null,&amp;quot;type&amp;quot;:&amp;quot;js&amp;quot;,&amp;quot;url&amp;quot;:&amp;quot;/assetserver/cff5eb7af79db7e6d407febf164549a9fdb258cd-main.min.js&amp;quot;}],&amp;quot;type&amp;quot;:&amp;quot;async_block&amp;quot;},&amp;quot;id&amp;quot;:&amp;quot;scope-687f8072-8e33-4c50-9f96-70cc2f88ea1b&amp;quot;,&amp;quot;handlers&amp;quot;:{&amp;quot;meshcat-command&amp;quot;:[(function (val){return this.viewer.handle_command_message({&amp;quot;data&amp;quot;:val})})],&amp;quot;_promises&amp;quot;:{&amp;quot;importsLoaded&amp;quot;:[(function (mc){var element=this.dom.children[0]; this.viewer=new mc.Viewer(element); WebIO.setval({&amp;quot;name&amp;quot;:&amp;quot;meshcat-request&amp;quot;,&amp;quot;scope&amp;quot;:&amp;quot;scope-687f8072-8e33-4c50-9f96-70cc2f88ea1b&amp;quot;,&amp;quot;id&amp;quot;:&amp;quot;ob_20&amp;quot;,&amp;quot;type&amp;quot;:&amp;quot;observable&amp;quot;},String(Date.now())); window.document.body.style.margin=&amp;quot;0&amp;quot;; return window.meshcat_viewer=this.viewer})]}},&amp;quot;systemjs_options&amp;quot;:null,&amp;quot;observables&amp;quot;:{&amp;quot;meshcat-command&amp;quot;:{&amp;quot;sync&amp;quot;:false,&amp;quot;id&amp;quot;:&amp;quot;ob_19&amp;quot;,&amp;quot;value&amp;quot;:[131,166,109,97,116,114,105,120,199,64,23,0,0,128,63,0,0,0,0,0,0,0,0,0,0,0,0,0,0,0,0,0,0,128,63,0,0,0,0,0,0,0,0,0,0,0,0,0,0,0,0,0,0,128,63,0,0,0,0,0,0,0,0,0,0,0,0,0,0,0,0,0,0,128,63,164,116,121,112,101,173,115,101,116,95,116,114,97,110,115,102,111,114,109,164,112,97,116,104,184,47,109,101,115,104,99,97,116,47,119,111,114,108,100,47,102,108,111,111,114,47,98,111,120]},&amp;quot;meshcat-controls&amp;quot;:{&amp;quot;sync&amp;quot;:true,&amp;quot;id&amp;quot;:&amp;quot;ob_21&amp;quot;,&amp;quot;value&amp;quot;:[]},&amp;quot;meshcat-request&amp;quot;:{&amp;quot;sync&amp;quot;:true,&amp;quot;id&amp;quot;:&amp;quot;ob_20&amp;quot;,&amp;quot;value&amp;quot;:&amp;quot;&amp;quot;}}},&amp;quot;children&amp;quot;:[{&amp;quot;props&amp;quot;:{&amp;quot;className&amp;quot;:&amp;quot;meshcat-viewer&amp;quot;,&amp;quot;style&amp;quot;:{&amp;quot;left&amp;quot;:0,&amp;quot;right&amp;quot;:0,&amp;quot;overflow&amp;quot;:&amp;quot;hidden&amp;quot;,&amp;quot;position&amp;quot;:&amp;quot;absolute&amp;quot;,&amp;quot;height&amp;quot;:&amp;quot;100vh&amp;quot;,&amp;quot;margin&amp;quot;:0,&amp;quot;width&amp;quot;:&amp;quot;100vw&amp;quot;}},&amp;quot;nodeType&amp;quot;:&amp;quot;DOM&amp;quot;,&amp;quot;type&amp;quot;:&amp;quot;node&amp;quot;,&amp;quot;instanceArgs&amp;quot;:{&amp;quot;namespace&amp;quot;:&amp;quot;html&amp;quot;,&amp;quot;tag&amp;quot;:&amp;quot;div&amp;quot;},&amp;quot;children&amp;quot;:[]}]})&lt;/unsafe-script&gt;&quot; + &quot;&lt;/body&gt;&lt;/html&gt;&quot;;\n",
       "        setTimeout(function () { resizeIframe() }, 0)\n",
       "    }\n",
       "\n",
       "    doc.body.appendChild(webio)\n",
       "},(function (){return this.dom.style.height=&quot;100%&quot;})]}},&quot;systemjs_options&quot;:null,&quot;observables&quot;:{}},&quot;children&quot;:[{&quot;props&quot;:{&quot;style&quot;:{&quot;flexDirection&quot;:&quot;column&quot;,&quot;height&quot;:&quot;100%&quot;,&quot;minHeight&quot;:&quot;400px&quot;,&quot;display&quot;:&quot;flex&quot;,&quot;width&quot;:&quot;100%&quot;,&quot;overflow&quot;:&quot;hidden&quot;}},&quot;nodeType&quot;:&quot;DOM&quot;,&quot;type&quot;:&quot;node&quot;,&quot;instanceArgs&quot;:{&quot;namespace&quot;:&quot;html&quot;,&quot;tag&quot;:&quot;div&quot;},&quot;children&quot;:[{&quot;props&quot;:{&quot;attributes&quot;:{&quot;height&quot;:&quot;100%&quot;,&quot;scrolling&quot;:&quot;no&quot;,&quot;src&quot;:&quot;javascript:void(0)&quot;,&quot;frameborder&quot;:0},&quot;id&quot;:&quot;ifr&quot;,&quot;style&quot;:{&quot;width&quot;:&quot;100%&quot;,&quot;flexGrow&quot;:&quot;1&quot;}},&quot;nodeType&quot;:&quot;DOM&quot;,&quot;type&quot;:&quot;node&quot;,&quot;instanceArgs&quot;:{&quot;namespace&quot;:&quot;html&quot;,&quot;tag&quot;:&quot;iframe&quot;},&quot;children&quot;:[]}]}]})</unsafe-script>"
      ],
      "text/plain": [
       "WebIO.Scope(\"scope-4004e599-80ac-4119-8c7d-9206577b2d5d\", WebIO.Node{WebIO.DOM}(WebIO.DOM(:html, :div), Any[Node{DOM}(DOM(:html, :iframe), Any[], Dict{Symbol,Any}(:attributes=>Dict{String,Any}(\"height\"=>\"100%\",\"scrolling\"=>\"no\",\"src\"=>\"javascript:void(0)\",\"frameborder\"=>0),:id=>\"ifr\",:style=>Dict(\"width\"=>\"100%\",\"flexGrow\"=>\"1\")), 0)], Dict{Symbol,Any}(:style=>Dict(\"flexDirection\"=>\"column\",\"height\"=>\"100%\",\"minHeight\"=>\"400px\",\"display\"=>\"flex\",\"width\"=>\"100%\",\"overflow\"=>\"hidden\")), 1), Dict{String,Tuple{Observables.AbstractObservable,Union{Nothing, Bool}}}(), Set(String[]), nothing, Any[], Dict{Any,Any}(\"_promises\"=>Dict{Any,Any}(\"importsLoaded\"=>Any[JSString(\"function () {\\n    var frame = this.dom.querySelector(\\\"#ifr\\\");\\n    var doc = frame.contentDocument\\n    var win = frame.contentWindow\\n\\n    // Ensure that the iframe's baseURI matches the baseURI of the\\n    // outer document. This is necessary to resolve\\n    // https://github.com/JuliaGizmos/WebIO.jl/issues/167\\n    var base = doc.createElement(\\\"base\\\");\\n    base.setAttribute(\\\"href\\\", document.baseURI);\\n    doc.head.appendChild(base);\\n\\n    var webio = doc.createElement(\\\"script\\\")\\n    webio.src = \\\"/assetserver/b464848323e0a4c9a3cfe11f8edca2932188b6d9-assets/webio/dist/bundle.js\\\"\\n    var parent = window\\n\\n    function resizeIframe() {\\n        doc.body.style.padding = '0'\\n        doc.body.style.margin = '0'\\n        doc.documentElement.height = '100%'\\n        doc.body.height = '100%'\\n    }\\n\\n    webio.onload = function () {\\n        win.WebIO.sendCallback = parent.WebIO.sendCallback; // Share stuff\\n        win.WebIO.scopes = parent.WebIO.scopes\\n        win.WebIO.obsscopes = parent.WebIO.obsscopes\\n        win.WebIO._connected = true\\n        doc.body.innerHTML = \\\"<html><body>\\\" + \\\"<div class='display:none'></div><unsafe-script style='display:none'>\\\\nWebIO.mount(this.previousSibling,{&quot;props&quot;:{},&quot;nodeType&quot;:&quot;Scope&quot;,&quot;type&quot;:&quot;node&quot;,&quot;instanceArgs&quot;:{&quot;imports&quot;:{&quot;data&quot;:[{&quot;name&quot;:null,&quot;type&quot;:&quot;js&quot;,&quot;url&quot;:&quot;/assetserver/cff5eb7af79db7e6d407febf164549a9fdb258cd-main.min.js&quot;}],&quot;type&quot;:&quot;async_block&quot;},&quot;id&quot;:&quot;scope-687f8072-8e33-4c50-9f96-70cc2f88ea1b&quot;,&quot;handlers&quot;:{&quot;meshcat-command&quot;:[(function (val){return this.viewer.handle_command_message({&quot;data&quot;:val})})],&quot;_promises&quot;:{&quot;importsLoaded&quot;:[(function (mc){var element=this.dom.children[0]; this.viewer=new mc.Viewer(element); WebIO.setval({&quot;name&quot;:&quot;meshcat-request&quot;,&quot;scope&quot;:&quot;scope-687f8072-8e33-4c50-9f96-70cc2f88ea1b&quot;,&quot;id&quot;:&quot;ob_20&quot;,&quot;type&quot;:&quot;observable&quot;},String(Date.now())); window.document.body.style.margin=&quot;0&quot;; return window.meshcat_viewer=this.viewer})]}},&quot;systemjs_options&quot;:null,&quot;observables&quot;:{&quot;meshcat-command&quot;:{&quot;sync&quot;:false,&quot;id&quot;:&quot;ob_19&quot;,&quot;value&quot;:[131,166,109,97,116,114,105,120,199,64,23,0,0,128,63,0,0,0,0,0,0,0,0,0,0,0,0,0,0,0,0,0,0,128,63,0,0,0,0,0,0,0,0,0,0,0,0,0,0,0,0,0,0,128,63,0,0,0,0,0,0,0,0,0,0,0,0,0,0,0,0,0,0,128,63,164,116,121,112,101,173,115,101,116,95,116,114,97,110,115,102,111,114,109,164,112,97,116,104,184,47,109,101,115,104,99,97,116,47,119,111,114,108,100,47,102,108,111,111,114,47,98,111,120]},&quot;meshcat-controls&quot;:{&quot;sync&quot;:true,&quot;id&quot;:&quot;ob_21&quot;,&quot;value&quot;:[]},&quot;meshcat-request&quot;:{&quot;sync&quot;:true,&quot;id&quot;:&quot;ob_20&quot;,&quot;value&quot;:&quot;&quot;}}},&quot;children&quot;:[{&quot;props&quot;:{&quot;className&quot;:&quot;meshcat-viewer&quot;,&quot;style&quot;:{&quot;left&quot;:0,&quot;right&quot;:0,&quot;overflow&quot;:&quot;hidden&quot;,&quot;position&quot;:&quot;absolute&quot;,&quot;height&quot;:&quot;100vh&quot;,&quot;margin&quot;:0,&quot;width&quot;:&quot;100vw&quot;}},&quot;nodeType&quot;:&quot;DOM&quot;,&quot;type&quot;:&quot;node&quot;,&quot;instanceArgs&quot;:{&quot;namespace&quot;:&quot;html&quot;,&quot;tag&quot;:&quot;div&quot;},&quot;children&quot;:[]}]})</unsafe-script>\\\" + \\\"</body></html>\\\";\\n        setTimeout(function () { resizeIframe() }, 0)\\n    }\\n\\n    doc.body.appendChild(webio)\\n}\"), JSString(\"(function (){return this.dom.style.height=\\\"100%\\\"})\")])), WebIO.ConnectionPool(Channel{Any}(sz_max:9223372036854775807,sz_curr:0), Set(WebIO.AbstractConnection[]), Channel{WebIO.AbstractConnection}(sz_max:32,sz_curr:0)))"
      ]
     },
     "execution_count": 78,
     "metadata": {},
     "output_type": "execute_result"
    }
   ],
   "source": [
    "mvis = MechanismVisualizer(mechanism, URDFVisuals(urdf))\n",
    "IJuliaCell(mvis)"
   ]
  },
  {
   "cell_type": "code",
   "execution_count": 119,
   "metadata": {},
   "outputs": [
    {
     "data": {
      "text/plain": [
       "(Array{Float64,1}[[0.731685, -0.10893, 0.108949, 0.664004, 0.0, 0.0, 0.688658], [0.733409, -0.118988, 0.122263, 0.658032, 0.000963639, 0.0156903, 0.684707], [0.7349, -0.129009, 0.135539, 0.651849, 0.00288942, 0.0470713, 0.676804], [0.736159, -0.13899, 0.148775, 0.645459, 0.00577566, 0.0941431, 0.664951], [0.737184, -0.148929, 0.161966, 0.638863, 0.00962051, 0.156906, 0.649146], [0.737976, -0.158823, 0.175107, 0.632064, 0.014422, 0.235361, 0.62939], [0.738533, -0.168668, 0.188195, 0.625062, 0.0201779, 0.329508, 0.605682], [0.738856, -0.17846, 0.201225, 0.617861, 0.0268859, 0.439348, 0.578023], [0.738944, -0.188198, 0.214193, 0.610463, 0.0345435, 0.564882, 0.546412], [0.738797, -0.197877, 0.227095, 0.602869, 0.043148, 0.706109, 0.510849]], Array{Float64,1}[[0.0463981, 0.337638, -0.103206, 0.0, 0.0, 0.0], [0.0463981, 0.337638, -0.103206, 0.161156, 0.00753727, 0.0156393], [0.0463981, 0.337638, -0.103206, 0.320901, 0.0185803, 0.0420631], [0.0463981, 0.337638, -0.103206, 0.478635, 0.0331814, 0.0791671], [0.0463981, 0.337638, -0.103206, 0.633763, 0.0513843, 0.126821], [0.0463981, 0.337638, -0.103206, 0.785695, 0.0732235, 0.184866], [0.0463981, 0.337638, -0.103206, 0.933848, 0.0987244, 0.253118], [0.0463981, 0.337638, -0.103206, 1.07765, 0.127903, 0.331366], [0.0463981, 0.337638, -0.103206, 1.21653, 0.160767, 0.419372], [0.0463981, 0.337638, -0.103206, 1.34993, 0.197314, 0.516874]], Array{Float64,1}[], Array{Array{Float64,1},1}[[[0.0, 0.0, 0.0, 0.0, 0.0, 0.0]], [[0.964284, 0.0, 0.0, 0.0, 0.078681, 0.161787]], [[0.964285, 0.0, 0.0, 0.0, 0.0786812, 0.323577]], [[0.964281, 0.0, 0.0, 0.0, 0.0786808, 0.485371]], [[0.964271, 0.0, 0.0, 0.0, 0.07868, 0.647168]], [[0.964257, 0.0, 0.0, 0.0, 0.0786788, 0.80897]], [[0.964237, 0.0, 0.0, 0.0, 0.0786772, 0.970777]], [[0.964211, 0.0, 0.0, 0.0, 0.0786751, 1.13259]], [[0.964181, 0.0, 0.0, 0.0, 0.0786726, 1.29441]], [[0.964145, 0.0, 0.0, 0.0, 0.0786697, 1.45623]]], Array{Float64,1}[], [0.0, 0.1, 0.2, 0.3, 0.4, 0.5, 0.6, 0.7, 0.8, 0.9], [0.731685 0.733409 … 0.738944 0.738797; -0.10893 -0.118988 … -0.188198 -0.197877; … ; 0.0 0.00753727 … 0.160767 0.197314; 0.0 0.0156393 … 0.419372 0.516874], [0.731685 0.733292 … 0.738007 0.737743; -0.10893 -0.118969 … -0.187959 -0.197594; … ; 0.0 0.161787 … 1.29441 1.45623; 0.0 0.964284 … 0.964181 0.964145])"
      ]
     },
     "execution_count": 119,
     "metadata": {},
     "output_type": "execute_result"
    }
   ],
   "source": [
    "N = 10\n",
    "Δt = 0.1\n",
    "q0 = qtraj[1]\n",
    "v0 = vtraj_filt[:,5]\n",
    "\n",
    "sim_data = get_sim_data_indirect(mechanism,env,Δt)\n",
    "null_ctrl! = (u,t,x) -> u[:] .= 0.\n",
    "x0 = MechanismState(mechanism)\n",
    "set_configuration!(x0, q0)\n",
    "set_velocity!(x0, v0)\n",
    "setdirty!(x0)\n",
    "traj = Bilevel.simulate(sim_data,null_ctrl!,x0,N)"
   ]
  },
  {
   "cell_type": "code",
   "execution_count": 121,
   "metadata": {},
   "outputs": [],
   "source": [
    "setanimation!(mvis, traj[6], traj[1])"
   ]
  },
  {
   "cell_type": "code",
   "execution_count": 122,
   "metadata": {},
   "outputs": [
    {
     "data": {
      "image/svg+xml": [
       "<?xml version=\"1.0\" encoding=\"utf-8\"?>\n",
       "<svg xmlns=\"http://www.w3.org/2000/svg\" xmlns:xlink=\"http://www.w3.org/1999/xlink\" width=\"600\" height=\"400\" viewBox=\"0 0 2400 1600\">\n",
       "<defs>\n",
       "  <clipPath id=\"clip1900\">\n",
       "    <rect x=\"0\" y=\"0\" width=\"2400\" height=\"1600\"/>\n",
       "  </clipPath>\n",
       "</defs>\n",
       "<polygon clip-path=\"url(#clip1900)\" points=\"\n",
       "0,1600 2400,1600 2400,0 0,0 \n",
       "  \" fill=\"#ffffff\" fill-rule=\"evenodd\" fill-opacity=\"1\"/>\n",
       "<defs>\n",
       "  <clipPath id=\"clip1901\">\n",
       "    <rect x=\"480\" y=\"0\" width=\"1681\" height=\"1600\"/>\n",
       "  </clipPath>\n",
       "</defs>\n",
       "<polygon clip-path=\"url(#clip1900)\" points=\"\n",
       "180.66,1487.47 2352.76,1487.47 2352.76,47.2441 180.66,47.2441 \n",
       "  \" fill=\"#ffffff\" fill-rule=\"evenodd\" fill-opacity=\"1\"/>\n",
       "<defs>\n",
       "  <clipPath id=\"clip1902\">\n",
       "    <rect x=\"180\" y=\"47\" width=\"2173\" height=\"1441\"/>\n",
       "  </clipPath>\n",
       "</defs>\n",
       "<polyline clip-path=\"url(#clip1902)\" style=\"stroke:#000000; stroke-width:2; stroke-opacity:0.1; fill:none\" points=\"\n",
       "  469.818,1487.47 469.818,47.2441 \n",
       "  \"/>\n",
       "<polyline clip-path=\"url(#clip1902)\" style=\"stroke:#000000; stroke-width:2; stroke-opacity:0.1; fill:none\" points=\"\n",
       "  925.184,1487.47 925.184,47.2441 \n",
       "  \"/>\n",
       "<polyline clip-path=\"url(#clip1902)\" style=\"stroke:#000000; stroke-width:2; stroke-opacity:0.1; fill:none\" points=\"\n",
       "  1380.55,1487.47 1380.55,47.2441 \n",
       "  \"/>\n",
       "<polyline clip-path=\"url(#clip1902)\" style=\"stroke:#000000; stroke-width:2; stroke-opacity:0.1; fill:none\" points=\"\n",
       "  1835.92,1487.47 1835.92,47.2441 \n",
       "  \"/>\n",
       "<polyline clip-path=\"url(#clip1902)\" style=\"stroke:#000000; stroke-width:2; stroke-opacity:0.1; fill:none\" points=\"\n",
       "  2291.28,1487.47 2291.28,47.2441 \n",
       "  \"/>\n",
       "<polyline clip-path=\"url(#clip1902)\" style=\"stroke:#000000; stroke-width:2; stroke-opacity:0.1; fill:none\" points=\"\n",
       "  180.66,1446.71 2352.76,1446.71 \n",
       "  \"/>\n",
       "<polyline clip-path=\"url(#clip1902)\" style=\"stroke:#000000; stroke-width:2; stroke-opacity:0.1; fill:none\" points=\"\n",
       "  180.66,1131.82 2352.76,1131.82 \n",
       "  \"/>\n",
       "<polyline clip-path=\"url(#clip1902)\" style=\"stroke:#000000; stroke-width:2; stroke-opacity:0.1; fill:none\" points=\"\n",
       "  180.66,816.923 2352.76,816.923 \n",
       "  \"/>\n",
       "<polyline clip-path=\"url(#clip1902)\" style=\"stroke:#000000; stroke-width:2; stroke-opacity:0.1; fill:none\" points=\"\n",
       "  180.66,502.028 2352.76,502.028 \n",
       "  \"/>\n",
       "<polyline clip-path=\"url(#clip1902)\" style=\"stroke:#000000; stroke-width:2; stroke-opacity:0.1; fill:none\" points=\"\n",
       "  180.66,187.133 2352.76,187.133 \n",
       "  \"/>\n",
       "<polyline clip-path=\"url(#clip1900)\" style=\"stroke:#000000; stroke-width:4; stroke-opacity:1; fill:none\" points=\"\n",
       "  180.66,1487.47 2352.76,1487.47 \n",
       "  \"/>\n",
       "<polyline clip-path=\"url(#clip1900)\" style=\"stroke:#000000; stroke-width:4; stroke-opacity:1; fill:none\" points=\"\n",
       "  180.66,1487.47 180.66,47.2441 \n",
       "  \"/>\n",
       "<polyline clip-path=\"url(#clip1900)\" style=\"stroke:#000000; stroke-width:4; stroke-opacity:1; fill:none\" points=\"\n",
       "  469.818,1487.47 469.818,1465.87 \n",
       "  \"/>\n",
       "<polyline clip-path=\"url(#clip1900)\" style=\"stroke:#000000; stroke-width:4; stroke-opacity:1; fill:none\" points=\"\n",
       "  925.184,1487.47 925.184,1465.87 \n",
       "  \"/>\n",
       "<polyline clip-path=\"url(#clip1900)\" style=\"stroke:#000000; stroke-width:4; stroke-opacity:1; fill:none\" points=\"\n",
       "  1380.55,1487.47 1380.55,1465.87 \n",
       "  \"/>\n",
       "<polyline clip-path=\"url(#clip1900)\" style=\"stroke:#000000; stroke-width:4; stroke-opacity:1; fill:none\" points=\"\n",
       "  1835.92,1487.47 1835.92,1465.87 \n",
       "  \"/>\n",
       "<polyline clip-path=\"url(#clip1900)\" style=\"stroke:#000000; stroke-width:4; stroke-opacity:1; fill:none\" points=\"\n",
       "  2291.28,1487.47 2291.28,1465.87 \n",
       "  \"/>\n",
       "<polyline clip-path=\"url(#clip1900)\" style=\"stroke:#000000; stroke-width:4; stroke-opacity:1; fill:none\" points=\"\n",
       "  180.66,1446.71 213.242,1446.71 \n",
       "  \"/>\n",
       "<polyline clip-path=\"url(#clip1900)\" style=\"stroke:#000000; stroke-width:4; stroke-opacity:1; fill:none\" points=\"\n",
       "  180.66,1131.82 213.242,1131.82 \n",
       "  \"/>\n",
       "<polyline clip-path=\"url(#clip1900)\" style=\"stroke:#000000; stroke-width:4; stroke-opacity:1; fill:none\" points=\"\n",
       "  180.66,816.923 213.242,816.923 \n",
       "  \"/>\n",
       "<polyline clip-path=\"url(#clip1900)\" style=\"stroke:#000000; stroke-width:4; stroke-opacity:1; fill:none\" points=\"\n",
       "  180.66,502.028 213.242,502.028 \n",
       "  \"/>\n",
       "<polyline clip-path=\"url(#clip1900)\" style=\"stroke:#000000; stroke-width:4; stroke-opacity:1; fill:none\" points=\"\n",
       "  180.66,187.133 213.242,187.133 \n",
       "  \"/>\n",
       "<g clip-path=\"url(#clip1900)\">\n",
       "<text style=\"fill:#000000; fill-opacity:1; font-family:Arial,Helvetica Neue,Helvetica,sans-serif; font-size:48px; text-anchor:middle;\" transform=\"rotate(0, 469.818, 1541.47)\" x=\"469.818\" y=\"1541.47\">2</text>\n",
       "</g>\n",
       "<g clip-path=\"url(#clip1900)\">\n",
       "<text style=\"fill:#000000; fill-opacity:1; font-family:Arial,Helvetica Neue,Helvetica,sans-serif; font-size:48px; text-anchor:middle;\" transform=\"rotate(0, 925.184, 1541.47)\" x=\"925.184\" y=\"1541.47\">4</text>\n",
       "</g>\n",
       "<g clip-path=\"url(#clip1900)\">\n",
       "<text style=\"fill:#000000; fill-opacity:1; font-family:Arial,Helvetica Neue,Helvetica,sans-serif; font-size:48px; text-anchor:middle;\" transform=\"rotate(0, 1380.55, 1541.47)\" x=\"1380.55\" y=\"1541.47\">6</text>\n",
       "</g>\n",
       "<g clip-path=\"url(#clip1900)\">\n",
       "<text style=\"fill:#000000; fill-opacity:1; font-family:Arial,Helvetica Neue,Helvetica,sans-serif; font-size:48px; text-anchor:middle;\" transform=\"rotate(0, 1835.92, 1541.47)\" x=\"1835.92\" y=\"1541.47\">8</text>\n",
       "</g>\n",
       "<g clip-path=\"url(#clip1900)\">\n",
       "<text style=\"fill:#000000; fill-opacity:1; font-family:Arial,Helvetica Neue,Helvetica,sans-serif; font-size:48px; text-anchor:middle;\" transform=\"rotate(0, 2291.28, 1541.47)\" x=\"2291.28\" y=\"1541.47\">10</text>\n",
       "</g>\n",
       "<g clip-path=\"url(#clip1900)\">\n",
       "<text style=\"fill:#000000; fill-opacity:1; font-family:Arial,Helvetica Neue,Helvetica,sans-serif; font-size:48px; text-anchor:end;\" transform=\"rotate(0, 156.66, 1464.21)\" x=\"156.66\" y=\"1464.21\">0.00</text>\n",
       "</g>\n",
       "<g clip-path=\"url(#clip1900)\">\n",
       "<text style=\"fill:#000000; fill-opacity:1; font-family:Arial,Helvetica Neue,Helvetica,sans-serif; font-size:48px; text-anchor:end;\" transform=\"rotate(0, 156.66, 1149.32)\" x=\"156.66\" y=\"1149.32\">0.01</text>\n",
       "</g>\n",
       "<g clip-path=\"url(#clip1900)\">\n",
       "<text style=\"fill:#000000; fill-opacity:1; font-family:Arial,Helvetica Neue,Helvetica,sans-serif; font-size:48px; text-anchor:end;\" transform=\"rotate(0, 156.66, 834.423)\" x=\"156.66\" y=\"834.423\">0.02</text>\n",
       "</g>\n",
       "<g clip-path=\"url(#clip1900)\">\n",
       "<text style=\"fill:#000000; fill-opacity:1; font-family:Arial,Helvetica Neue,Helvetica,sans-serif; font-size:48px; text-anchor:end;\" transform=\"rotate(0, 156.66, 519.528)\" x=\"156.66\" y=\"519.528\">0.03</text>\n",
       "</g>\n",
       "<g clip-path=\"url(#clip1900)\">\n",
       "<text style=\"fill:#000000; fill-opacity:1; font-family:Arial,Helvetica Neue,Helvetica,sans-serif; font-size:48px; text-anchor:end;\" transform=\"rotate(0, 156.66, 204.633)\" x=\"156.66\" y=\"204.633\">0.04</text>\n",
       "</g>\n",
       "<polyline clip-path=\"url(#clip1902)\" style=\"stroke:#009af9; stroke-width:4; stroke-opacity:1; fill:none\" points=\"\n",
       "  242.135,1446.71 469.818,1416.37 697.501,1355.73 925.184,1264.84 1152.87,1143.77 1380.55,992.572 1608.23,811.322 1835.92,600.09 2063.6,358.957 2291.28,88.0053 \n",
       "  \n",
       "  \"/>\n",
       "<polygon clip-path=\"url(#clip1900)\" points=\"\n",
       "1989.93,251.724 2280.76,251.724 2280.76,130.764 1989.93,130.764 \n",
       "  \" fill=\"#ffffff\" fill-rule=\"evenodd\" fill-opacity=\"1\"/>\n",
       "<polyline clip-path=\"url(#clip1900)\" style=\"stroke:#000000; stroke-width:4; stroke-opacity:1; fill:none\" points=\"\n",
       "  1989.93,251.724 2280.76,251.724 2280.76,130.764 1989.93,130.764 1989.93,251.724 \n",
       "  \"/>\n",
       "<polyline clip-path=\"url(#clip1900)\" style=\"stroke:#009af9; stroke-width:4; stroke-opacity:1; fill:none\" points=\"\n",
       "  2013.93,191.244 2157.93,191.244 \n",
       "  \"/>\n",
       "<g clip-path=\"url(#clip1900)\">\n",
       "<text style=\"fill:#000000; fill-opacity:1; font-family:Arial,Helvetica Neue,Helvetica,sans-serif; font-size:48px; text-anchor:start;\" transform=\"rotate(0, 2181.93, 208.744)\" x=\"2181.93\" y=\"208.744\">y1</text>\n",
       "</g>\n",
       "</svg>\n"
      ]
     },
     "execution_count": 122,
     "metadata": {},
     "output_type": "execute_result"
    }
   ],
   "source": [
    "plot(traj[7][5,:])"
   ]
  }
 ],
 "metadata": {
  "kernelspec": {
   "display_name": "Julia 1.1.0",
   "language": "julia",
   "name": "julia-1.1"
  },
  "language_info": {
   "file_extension": ".jl",
   "mimetype": "application/julia",
   "name": "julia",
   "version": "1.1.0"
  }
 },
 "nbformat": 4,
 "nbformat_minor": 2
}
