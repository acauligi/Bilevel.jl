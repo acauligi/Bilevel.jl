{
 "cells": [
  {
   "cell_type": "code",
   "execution_count": 2,
   "metadata": {},
   "outputs": [
    {
     "name": "stderr",
     "output_type": "stream",
     "text": [
      "┌ Info: Precompiling Bilevel [9688c538-179f-11e9-3174-495cea6b7f67]\n",
      "└ @ Base loading.jl:1186\n"
     ]
    },
    {
     "data": {
      "text/html": [
       "    <script class='js-collapse-script'>\n",
       "        var curMatch =\n",
       "            window.location.href\n",
       "            .match(/(.*?)\\/notebooks\\/.*\\.ipynb/);\n",
       "\n",
       "        curMatch = curMatch ||\n",
       "            window.location.href\n",
       "            .match(/(.*?)\\/apps\\/.*\\.ipynb/);\n",
       "\n",
       "        if ( curMatch ) {\n",
       "            $('head').append('<base href=\"' + curMatch[1] + '/\">');\n",
       "        }\n",
       "    </script>\n"
      ],
      "text/plain": [
       "HTML{String}(\"    <script class='js-collapse-script'>\\n        var curMatch =\\n            window.location.href\\n            .match(/(.*?)\\\\/notebooks\\\\/.*\\\\.ipynb/);\\n\\n        curMatch = curMatch ||\\n            window.location.href\\n            .match(/(.*?)\\\\/apps\\\\/.*\\\\.ipynb/);\\n\\n        if ( curMatch ) {\\n            \\$('head').append('<base href=\\\"' + curMatch[1] + '/\\\">');\\n        }\\n    </script>\\n\")"
      ]
     },
     "metadata": {},
     "output_type": "display_data"
    },
    {
     "data": {
      "text/html": [
       "<script class='js-collapse-script' src='/assetserver/b464848323e0a4c9a3cfe11f8edca2932188b6d9-assets/webio/dist/bundle.js'></script>"
      ],
      "text/plain": [
       "HTML{String}(\"<script class='js-collapse-script' src='/assetserver/b464848323e0a4c9a3cfe11f8edca2932188b6d9-assets/webio/dist/bundle.js'></script>\")"
      ]
     },
     "metadata": {},
     "output_type": "display_data"
    },
    {
     "data": {
      "text/html": [
       "<script class='js-collapse-script' src='/assetserver/b464848323e0a4c9a3cfe11f8edca2932188b6d9-assets/providers/ijulia_setup.js'></script>"
      ],
      "text/plain": [
       "HTML{String}(\"<script class='js-collapse-script' src='/assetserver/b464848323e0a4c9a3cfe11f8edca2932188b6d9-assets/providers/ijulia_setup.js'></script>\")"
      ]
     },
     "metadata": {},
     "output_type": "display_data"
    },
    {
     "data": {
      "text/html": [
       "  <script class='js-collapse-script'>\n",
       "    $('.js-collapse-script').parent('.output_subarea').css('padding', '0');\n",
       "  </script>\n"
      ],
      "text/plain": [
       "HTML{String}(\"  <script class='js-collapse-script'>\\n    \\$('.js-collapse-script').parent('.output_subarea').css('padding', '0');\\n  </script>\\n\")"
      ]
     },
     "metadata": {},
     "output_type": "display_data"
    },
    {
     "name": "stderr",
     "output_type": "stream",
     "text": [
      "┌ Error: evaluation error\n",
      "│   mod = Bilevel\n",
      "│   ex = const usrfun = #= /home/blandry/.julia/dev/Bilevel/src/solvers/snopt.jl:154 =# @cfunction(objcon_wrapper, Cvoid, (Ptr{Clong}, Ref{Clong}, Ptr{Cdouble}, Ref{Clong}, Ref{Clong}, Ptr{Cdouble}, Ref{Clong}, Ref{Clong}, Ptr{Cdouble}, Ptr{Cchar}, Ref{Clong}, Ptr{Clong}, Ref{Clong}, Ptr{Cdouble}, Ref{Clong}))\n",
      "│   exception = (ErrorException(\"invalid lookup expr (\\$(QuoteNode(Core.svec)))(JuliaInterpreter.SSAValue(2), JuliaInterpreter.SSAValue(3), JuliaInterpreter.SSAValue(4), JuliaInterpreter.SSAValue(5), JuliaInterpreter.SSAValue(6), JuliaInterpreter.SSAValue(7), JuliaInterpreter.SSAValue(8), JuliaInterpreter.SSAValue(9), JuliaInterpreter.SSAValue(10), JuliaInterpreter.SSAValue(11), JuliaInterpreter.SSAValue(12), JuliaInterpreter.SSAValue(13), JuliaInterpreter.SSAValue(14), JuliaInterpreter.SSAValue(15), JuliaInterpreter.SSAValue(16))\"), Union{Ptr{Nothing}, InterpreterIP}[Ptr{Nothing} @0x00007f0b7701f5eb, Ptr{Nothing} @0x00007f0b76ff0204, Ptr{Nothing} @0x00007f0b482ea4a0, Ptr{Nothing} @0x00007f0af053eb45, Ptr{Nothing} @0x00007f0af05662ed, Ptr{Nothing} @0x00007f0af05668d4, Ptr{Nothing} @0x00007f0af053f193, Ptr{Nothing} @0x00007f0af05406ab, Ptr{Nothing} @0x00007f0af05447db, Ptr{Nothing} @0x00007f0af053d804, Ptr{Nothing} @0x00007f0af053e544, Ptr{Nothing} @0x00007f0b76fd45d6, Ptr{Nothing} @0x00007f0b482e6415, Ptr{Nothing} @0x00007f0b76fd45d6, Ptr{Nothing} @0x00007f0b482e4d10, Ptr{Nothing} @0x00007f0b482e4d64, Ptr{Nothing} @0x00007f0b482e44e4, Ptr{Nothing} @0x00007f0b482e4b0f, Ptr{Nothing} @0x00007f0b76fd45d6, Ptr{Nothing} @0x00007f0b482daeb4, Ptr{Nothing} @0x00007f0b482db86c, Ptr{Nothing} @0x00007f0b482dd40e, Ptr{Nothing} @0x00007f0b482d9d31, Ptr{Nothing} @0x00007f0b76fd45d6, Ptr{Nothing} @0x00007f0b76ff0a92, Ptr{Nothing} @0x0000000000000000])\n",
      "└ @ Revise /home/blandry/.julia/packages/Revise/5wsCa/src/lowered.jl:52\n"
     ]
    }
   ],
   "source": [
    "using Revise\n",
    "using Bilevel\n",
    "\n",
    "using RigidBodyDynamics\n",
    "using MeshCatMechanisms\n",
    "using MeshCat\n",
    "using Plots\n",
    "using LinearAlgebra\n",
    "using StaticArrays\n",
    "using BenchmarkTools"
   ]
  },
  {
   "cell_type": "markdown",
   "metadata": {},
   "source": [
    "# Simulation of sliding box"
   ]
  },
  {
   "cell_type": "code",
   "execution_count": null,
   "metadata": {},
   "outputs": [],
   "source": [
    "urdf = joinpath(\"..\", \"..\", \"urdf\", \"ball2d.urdf\")\n",
    "mechanism = parse_urdf(Float64, urdf)\n",
    "\n",
    "floor = findbody(mechanism, \"floor\")\n",
    "point = Point3D(default_frame(floor), SVector([0.,0.,0.]...))\n",
    "normal = FreeVector3D(default_frame(floor), SVector([0.,0.,1.]...))\n",
    "floor_obs = Obstacle(floor, point, normal, :xyz, 1.)\n",
    "\n",
    "obstacles = [floor_obs]\n",
    "env = Environment(mechanism, urdf, obstacles);"
   ]
  },
  {
   "cell_type": "code",
   "execution_count": null,
   "metadata": {},
   "outputs": [],
   "source": [
    "mvis = MechanismVisualizer(mechanism, URDFVisuals(urdf))\n",
    "open(mvis)"
   ]
  },
  {
   "cell_type": "code",
   "execution_count": null,
   "metadata": {},
   "outputs": [],
   "source": [
    "N = 25\n",
    "Δt = 0.05\n",
    "q0 = [0., 0., 0.]\n",
    "v0 = [10., 0., 0.];"
   ]
  },
  {
   "cell_type": "code",
   "execution_count": null,
   "metadata": {},
   "outputs": [],
   "source": [
    "# Indirect\n",
    "\n",
    "sim_data = get_sim_data_indirect(mechanism,env,Δt,relax_comp=true)\n",
    "null_ctrl! = (u,t,x) -> u[:] .= 0.\n",
    "x0 = MechanismState(mechanism)\n",
    "set_configuration!(x0, q0)\n",
    "set_velocity!(x0, v0)\n",
    "setdirty!(x0)\n",
    "sim_indirect = Bilevel.simulate(sim_data,null_ctrl!,x0,N)"
   ]
  },
  {
   "cell_type": "code",
   "execution_count": null,
   "metadata": {},
   "outputs": [],
   "source": [
    "@benchmark sim_indirect = Bilevel.simulate(sim_data,null_ctrl!,x0,N)"
   ]
  },
  {
   "cell_type": "code",
   "execution_count": null,
   "metadata": {},
   "outputs": [],
   "source": [
    "setanimation!(mvis, sim_indirect[6], sim_indirect[1])"
   ]
  },
  {
   "cell_type": "code",
   "execution_count": null,
   "metadata": {},
   "outputs": [],
   "source": [
    "# Direct\n",
    "\n",
    "sim_data = get_sim_data_direct(mechanism,env,Δt)\n",
    "null_ctrl! = (u,t,x) -> u[:] .= 0.\n",
    "x0 = MechanismState(mechanism)\n",
    "set_configuration!(x0, q0)\n",
    "set_velocity!(x0, v0)\n",
    "setdirty!(x0)\n",
    "sim_direct = Bilevel.simulate(sim_data,null_ctrl!,x0,N)"
   ]
  },
  {
   "cell_type": "code",
   "execution_count": null,
   "metadata": {},
   "outputs": [],
   "source": [
    "@benchmark sim_direct = Bilevel.simulate(sim_data,null_ctrl!,x0,N)"
   ]
  },
  {
   "cell_type": "code",
   "execution_count": null,
   "metadata": {},
   "outputs": [],
   "source": [
    "setanimation!(mvis, sim_direct[6], sim_direct[1])"
   ]
  },
  {
   "cell_type": "code",
   "execution_count": null,
   "metadata": {},
   "outputs": [],
   "source": [
    "j = 1\n",
    "plot(sim_indirect[6],sim_indirect[8][j,:],label=\"Indirect\",seriescolor=RGB(((227,74,51) ./ 255.)...),linewidth=0,marker=6)\n",
    "plot!(sim_direct[6],sim_direct[8][j,:],label=\"Direct\",seriescolor=RGB(((254,232,200) ./ 255.)...),linewidth=1,marker=4)"
   ]
  },
  {
   "cell_type": "code",
   "execution_count": null,
   "metadata": {},
   "outputs": [],
   "source": [
    "sim_indirect[2][end]"
   ]
  },
  {
   "cell_type": "markdown",
   "metadata": {},
   "source": [
    "# Trajectory optimization of sliding box"
   ]
  },
  {
   "cell_type": "code",
   "execution_count": 3,
   "metadata": {},
   "outputs": [],
   "source": [
    "urdf = joinpath(\"..\", \"..\", \"urdf\", \"ball2d.urdf\")\n",
    "mechanism = parse_urdf(Float64, urdf)\n",
    "\n",
    "floor = findbody(mechanism, \"floor\")\n",
    "point = Point3D(default_frame(floor), SVector([0.,0.,0.]...))\n",
    "normal = FreeVector3D(default_frame(floor), SVector([0.,0.,1.]...))\n",
    "floor_obs = Obstacle(floor, point, normal, :xyz, 1.)\n",
    "\n",
    "obstacles = [floor_obs]\n",
    "env = Environment(mechanism, urdf, obstacles);"
   ]
  },
  {
   "cell_type": "code",
   "execution_count": null,
   "metadata": {},
   "outputs": [],
   "source": [
    "mvis = MechanismVisualizer(mechanism, URDFVisuals(urdf))\n",
    "open(mvis)"
   ]
  },
  {
   "cell_type": "code",
   "execution_count": 4,
   "metadata": {},
   "outputs": [
    {
     "data": {
      "text/plain": [
       "get_prob_init (generic function with 1 method)"
      ]
     },
     "execution_count": 4,
     "metadata": {},
     "output_type": "execute_result"
    }
   ],
   "source": [
    "q1 = [0., 0., 0.]\n",
    "qN = [4.85, 0., 0.]\n",
    "N = 25\n",
    "Δt = 0.05\n",
    "\n",
    "q_min = [-10., -10., -10.]\n",
    "q_max = [10., 10., 10.]\n",
    "\n",
    "function get_prob_limits(sim_data)\n",
    "    x_min = -1e19*ones(sim_data.vs.num_vars)\n",
    "    x_max = 1e19*ones(sim_data.vs.num_vars)\n",
    "    \n",
    "    # joint limits\n",
    "    add_box_con_snopt!(x_min, x_max, sim_data, :q, q_min, q_max, 1:N)\n",
    "    add_box_con_snopt!(x_min, x_max, sim_data, :h, [Δt], [Δt], 1:N-1)\n",
    "    \n",
    "    # torques limits\n",
    "    add_box_con_snopt!(x_min, x_max, sim_data, :u, zeros(num_velocities(mechanism)), zeros(num_velocities(mechanism)), 1:N-1)\n",
    "\n",
    "    x_min, x_max\n",
    "end\n",
    "\n",
    "function add_prob_constraints!(sim_data)\n",
    "    vs = sim_data.vs\n",
    "\n",
    "    add_eq!(sim_data, :cq1, length(q1), x -> vs(x, :q1) - q1)\n",
    "    add_eq!(sim_data, :cv1, 1, x -> vs(x, :v1)[2])\n",
    "    add_eq!(sim_data, :cqN, 2, x -> vs(x, Symbol(\"q\", N))[1:2] - qN[1:2])\n",
    "    add_eq!(sim_data, :cvN, 1, x -> vs(x, Symbol(\"v\", N))[1])\n",
    "end\n",
    "\n",
    "function get_prob_init(sim_data)\n",
    "    x0 = zeros(sim_data.vs.num_vars)\n",
    "    for n = 1:N\n",
    "        x0[sim_data.vs(Symbol(\"q\", n))] .= n/N*(qN - q1) + q1\n",
    "    end\n",
    "    \n",
    "    x0\n",
    "end"
   ]
  },
  {
   "cell_type": "code",
   "execution_count": 6,
   "metadata": {},
   "outputs": [
    {
     "name": "stdout",
     "output_type": "stream",
     "text": [
      "Finished successfully: optimality conditions satisfied\n",
      " 57.667182 seconds (453.26 M allocations: 49.383 GiB, 21.43% gc time)\n"
     ]
    },
    {
     "data": {
      "text/plain": [
       "(Array{Float64,1}[[0.0, 0.0, 0.0], [0.492385, 2.82777e-6, 0.189935], [0.788272, 0.246791, 0.37987], [1.07394, 0.466225, 0.569806], [1.34961, 0.658762, 0.759741], [1.61554, 0.824854, 0.949676], [1.87194, 0.964945, 1.13961], [2.11904, 1.07947, 1.32955], [2.35707, 1.16886, 1.51948], [2.58622, 1.23354, 1.70942]  …  [3.78656, 1.12549, 2.84903], [3.95937, 1.02846, 3.03896], [4.12492, 0.909866, 3.2289], [4.28338, 0.770068, 3.41883], [4.43493, 0.609428, 3.60877], [4.57977, 0.428298, 3.7987], [4.71807, 0.227027, 3.98864], [4.85, 0.00595689, 4.17858], [4.85, 1.19813e-16, 4.36851], [4.85, 0.0, 4.55845]], Array{Float64,1}[[10.4272, 0.0, 3.7987], [9.67092, -1.85883, 3.7987], [7.32734, 2.39111, 3.7987], [7.18086, 0.614734, 3.7987], [6.65383, -1.00463, 3.7987], [5.80214, -2.39261, 3.7987], [4.69503, -3.49046, 3.7987], [3.41118, -4.25717, 3.7987], [2.03459, -4.67077, 3.7987], [0.650264, -4.7287, 3.7987]  …  [-3.90947, 0.403539, 3.7987], [-3.66169, 1.59105, 3.7987], [-3.11399, 2.67685, 3.7987], [-2.29973, 3.59266, 3.7987], [-1.26672, 4.27976, 3.7987], [-0.0747089, 4.69188, 3.7987], [1.20766, 4.79746, 3.7987], [2.50631, 4.58117, 3.7987], [0.112352, 0.0422514, 3.7987], [0.0, -6.55615e-17, 3.7987]], Array{Float64,1}[[0.0, 0.0, 0.0], [0.0, 0.0, 0.0], [0.0, 0.0, 0.0], [0.0, 0.0, 0.0], [0.0, 0.0, 0.0], [0.0, 0.0, 0.0], [0.0, 0.0, 0.0], [0.0, 0.0, 0.0], [0.0, 0.0, 0.0], [0.0, 0.0, 0.0]  …  [0.0, 0.0, 0.0], [0.0, 0.0, 0.0], [0.0, 0.0, 0.0], [0.0, 0.0, 0.0], [0.0, 0.0, 0.0], [0.0, 0.0, 0.0], [0.0, 0.0, 0.0], [0.0, 0.0, 0.0], [0.0, 0.0, 0.0], [0.0, 0.0, 0.0]], [0.05, 0.05, 0.05, 0.05, 0.05, 0.05, 0.05, 0.05, 0.05, 0.05  …  0.05, 0.05, 0.05, 0.05, 0.05, 0.05, 0.05, 0.05, 0.05, 0.05], Array{Float64,1}[[0.799956, -4.26245e-17, -3.84231e-20, 0.799956, -3.84364e-20, 9.84769], [9.56295, 8.47033e-22, 0.0, 9.56295, 0.0, 5.91774], [0.0, 2.8979e-16, 4.14464e-15, -5.20145e-15, 4.14443e-15, 51.3172], [-3.20602e-19, 0.0, 0.0, 0.0, 0.0, 5.51357], [0.0, 1.03298e-20, 0.0, -1.3129e-20, 0.0, 5.31853], [0.0, 2.87097e-16, 5.84602e-16, 0.0, 5.84602e-16, 5.12805], [2.77556e-17, 5.09575e-18, 0.0, 2.2443e-17, 1.96975e-19, 4.94204], [-7.92933e-16, -2.38823e-15, -9.9166e-18, 2.14493e-15, -7.86232e-19, 8.37171], [0.0, 4.78854e-18, 1.41851e-17, -5.41148e-18, -5.21639e-18, 5.15273], [0.0, -2.2262e-18, 2.08709e-18, 7.5431e-18, 4.76397e-18, 7.44412]  …  [0.0, 1.35525e-18, -1.33113e-19, 2.53272e-18, 2.5321e-18, 6.22842], [1.82105e-15, 2.4349e-15, 4.27353e-15, 1.10435e-15, 4.24949e-15, 5.52069], [0.0, 0.0, -1.38236e-18, 0.0, 0.0, 1157.36], [0.0, 5.62483e-23, -1.05879e-22, -2.05141e-22, -9.92617e-23, 5.44403], [0.0, 3.70445e-24, -1.03219e-23, 0.0, 4.97888e-24, 4.57359], [0.0, 0.0, 6.61744e-24, 0.0, 6.61744e-24, 4.36612], [0.0, 6.61744e-24, 0.0, -7.94093e-23, 0.0, 4.18229], [2.00194e-15, 0.0, 1.21669e-15, 1.82944e-15, -1.46107e-14, 25.1874], [8.61598, 0.434947, 0.397831, 7.35025, 0.149355, 4.90754e-5], [1.23858, 0.42077, 0.0, 0.465895, 0.351915, -1.08835e-18]], Array{Float64,1}[[2.25236e-6, 0.0, 0.0], [2.36004, 3.8396e-5, -1.47989e-15], [0.0, 0.0, -4.21885e-15], [-2.71051e-19, 0.0, -7.58942e-19], [0.0, 0.0, 4.33681e-18], [0.0, 0.0, -8.67362e-19], [0.0, 0.0, 0.0], [0.0, 2.98156e-18, 0.0], [0.0, -5.42101e-19, 0.0], [0.0, 8.67362e-18, 0.0]  …  [0.0, 1.12757e-17, -1.31622e-16], [0.0, 1.43397e-15, -2.39194e-13], [0.0, 0.0, 0.0], [0.0, 0.0, 0.0], [0.0, 0.0, 0.0], [0.0, 0.0, 0.0], [0.0, 0.0, 0.0], [-3.16735e-13, 0.0, 0.0], [-1.98603e-19, 0.000676315, 1.59343e-5], [0.0, 0.0, 0.0]], [0.0, 0.05, 0.1, 0.15, 0.2, 0.25, 0.3, 0.35, 0.4, 0.45  …  0.75, 0.8, 0.85, 0.9, 0.95, 1.0, 1.05, 1.1, 1.15, 1.2], [0.0 0.492385 … 4.85 4.85; 0.0 2.82777e-6 … 1.19813e-16 0.0; … ; 0.0 -1.85883 … 0.0422514 -6.55615e-17; 3.7987 3.7987 … 3.7987 3.7987], [0.0, 0.0, 0.0, 10.4272, 0.0, 3.7987, 0.0, 0.0, 0.0, 0.05  …  0.465895, 0.351915, -1.08835e-18, 1.23858, 4.85, 0.0, 4.55845, 0.0, -6.55615e-17, 3.7987])"
      ]
     },
     "execution_count": 6,
     "metadata": {},
     "output_type": "execute_result"
    }
   ],
   "source": [
    "# Indirect\n",
    "con_tol = 1e-3\n",
    "obj_tol = 1e-3\n",
    "max_iter = 10000\n",
    "\n",
    "sim_data = get_trajopt_data_indirect(mechanism,env,Δt,N,relax_comp=true)\n",
    "add_prob_constraints!(sim_data)\n",
    "x_min, x_max = get_prob_limits(sim_data)\n",
    "x0 = get_prob_init(sim_data)\n",
    "\n",
    "@time traj_indirect = Bilevel.trajopt(sim_data, x0=x0, x_min=x_min, x_max=x_max, verbose=1, opt_tol=obj_tol, major_feas=con_tol, minor_feas=con_tol, max_iter=max_iter)"
   ]
  },
  {
   "cell_type": "code",
   "execution_count": 7,
   "metadata": {},
   "outputs": [
    {
     "data": {
      "text/plain": [
       "BenchmarkTools.Trial: \n",
       "  memory estimate:  508.78 MiB\n",
       "  allocs estimate:  2736260\n",
       "  --------------\n",
       "  minimum time:     391.375 ms (0.00% GC)\n",
       "  median time:      395.461 ms (0.00% GC)\n",
       "  mean time:        404.928 ms (0.00% GC)\n",
       "  maximum time:     474.809 ms (0.00% GC)\n",
       "  --------------\n",
       "  samples:          13\n",
       "  evals/sample:     1"
      ]
     },
     "execution_count": 7,
     "metadata": {},
     "output_type": "execute_result"
    }
   ],
   "source": [
    "function run_trajopt()\n",
    "    Bilevel.solve_rosenbrock() # clearing SNOPT\n",
    "    Bilevel.trajopt(sim_data, x0=x0, x_min=x_min, x_max=x_max, verbose=0, opt_tol=obj_tol, major_feas=con_tol, minor_feas=con_tol, max_iter=max_iter)\n",
    "end\n",
    "\n",
    "@benchmark run_trajopt()"
   ]
  },
  {
   "cell_type": "code",
   "execution_count": 9,
   "metadata": {},
   "outputs": [
    {
     "name": "stdout",
     "output_type": "stream",
     "text": [
      "Finished successfully: optimality conditions satisfied\n",
      "  7.423298 seconds (21.62 M allocations: 3.077 GiB, 67.14% gc time)\n"
     ]
    },
    {
     "data": {
      "text/plain": [
       "(Array{Float64,1}[[0.0, 0.0, 0.0], [0.471132, 1.30634e-13, 0.0242277], [0.91818, 0.0, 0.0484554], [1.34115, 4.55494e-14, 0.0726831], [1.74012, -7.14459e-5, 0.0969108], [2.11488, 0.0, 0.121138], [2.46565, 0.0, 0.145366], [2.79233, 0.0, 0.169594], [3.0949, 0.0, 0.193822], [3.37329, 0.0, 0.218049]  …  [4.5393, 0.0, 0.363415], [4.64965, 0.0, 0.387643], [4.73602, 0.0, 0.411871], [4.79842, 0.0, 0.436099], [4.83686, 1.73472e-18, 0.460326], [4.85134, -6.09802e-15, 0.484554], [4.85125, -1.90016e-13, 0.508782], [4.85087, 3.77939e-10, 0.533009], [4.85034, -6.4263e-5, 0.557237], [4.85, 0.0, 0.581465]], Array{Float64,1}[[9.90445, 0.0, 0.484554], [9.41987, -0.228266, 0.484554], [8.93047, -0.433068, 0.484554], [8.43709, -0.614316, 0.484554], [7.94178, -0.773498, 0.484554], [7.44055, -0.904332, 0.484554], [6.94128, -1.01619, 0.484554], [6.4399, -1.10276, 0.484554], [5.93805, -1.16555, 0.484554], [5.43594, -1.20445, 0.484554]  …  [2.5112, -0.955029, 0.484554], [2.04323, -0.834256, 0.484554], [1.58297, -0.691531, 0.484554], [1.1312, -0.527166, 0.484554], [0.688702, -0.341498, 0.484554], [0.25624, -0.13489, 0.484554], [-0.00155074, 0.000851527, 0.484554], [-0.00651858, 0.00382073, 0.484554], [-0.00975477, 0.00453895, 0.484554], [0.0, 0.0122192, 0.484554]], Array{Float64,1}[[0.0, 0.0, 0.0], [0.0, 0.0, 0.0], [0.0, 0.0, 0.0], [0.0, 0.0, 0.0], [0.0, 0.0, 0.0], [0.0, 0.0, 0.0], [0.0, 0.0, 0.0], [0.0, 0.0, 0.0], [0.0, 0.0, 0.0], [0.0, 0.0, 0.0]  …  [0.0, 0.0, 0.0], [0.0, 0.0, 0.0], [0.0, 0.0, 0.0], [0.0, 0.0, 0.0], [0.0, 0.0, 0.0], [0.0, 0.0, 0.0], [0.0, 0.0, 0.0], [0.0, 0.0, 0.0], [0.0, 0.0, 0.0], [0.0, 0.0, 0.0]], [0.05, 0.05, 0.05, 0.05, 0.05, 0.05, 0.05, 0.05, 0.05, 0.05  …  0.05, 0.05, 0.05, 0.05, 0.05, 0.05, 0.05, 0.05, 0.05, 0.05], Array{Float64,1}[[0.976249], [0.976254], [0.976258], [0.973415], [0.981955], [0.973412], [0.976244], [0.97621], [0.976143], [0.976291]  …  [0.976314], [0.976319], [0.976323], [0.976327], [0.976332], [0.976336], [0.985591], [0.999692], [0.997221], [1.02367]], Array{Float64,1}[], [0.0, 0.05, 0.1, 0.15, 0.2, 0.25, 0.3, 0.35, 0.4, 0.45  …  0.75, 0.8, 0.85, 0.9, 0.95, 1.0, 1.05, 1.1, 1.15, 1.2], [0.0 0.471132 … 4.85034 4.85; 0.0 1.30634e-13 … -6.4263e-5 0.0; … ; 0.0 -0.228266 … 0.00453895 0.0122192; 0.484554 0.484554 … 0.484554 0.484554], [0.0, 0.0, 0.0, 9.90445, 0.0, 0.484554, 0.0, 0.0, 0.0, 0.05  …  0.0, 0.0, 0.05, 1.02367, 4.85, 0.0, 0.581465, 0.0, 0.0122192, 0.484554])"
      ]
     },
     "execution_count": 9,
     "metadata": {},
     "output_type": "execute_result"
    }
   ],
   "source": [
    "# Semidirect\n",
    "con_tol = 1e-3\n",
    "obj_tol = 1e-3\n",
    "max_iter = 10000\n",
    "\n",
    "sim_data = get_trajopt_data_semidirect(mechanism,env,Δt,N,relax_comp=false)\n",
    "add_prob_constraints!(sim_data)\n",
    "x_min, x_max = get_prob_limits(sim_data)\n",
    "x0 = get_prob_init(sim_data)\n",
    "@time traj_semidirect = Bilevel.trajopt(sim_data, x0=x0, x_min=x_min, x_max=x_max, verbose=1, opt_tol=obj_tol, major_feas=con_tol, minor_feas=con_tol, max_iter=max_iter)"
   ]
  },
  {
   "cell_type": "code",
   "execution_count": 10,
   "metadata": {},
   "outputs": [
    {
     "data": {
      "text/plain": [
       "BenchmarkTools.Trial: \n",
       "  memory estimate:  155.70 MiB\n",
       "  allocs estimate:  825543\n",
       "  --------------\n",
       "  minimum time:     81.352 ms (0.00% GC)\n",
       "  median time:      117.116 ms (0.00% GC)\n",
       "  mean time:        111.032 ms (0.00% GC)\n",
       "  maximum time:     147.018 ms (0.00% GC)\n",
       "  --------------\n",
       "  samples:          46\n",
       "  evals/sample:     1"
      ]
     },
     "execution_count": 10,
     "metadata": {},
     "output_type": "execute_result"
    }
   ],
   "source": [
    "function run_trajopt()\n",
    "    Bilevel.solve_rosenbrock() # clearing SNOPT\n",
    "    Bilevel.trajopt(sim_data, x0=x0, x_min=x_min, x_max=x_max, verbose=0, opt_tol=obj_tol, major_feas=con_tol, minor_feas=con_tol, max_iter=max_iter)\n",
    "end\n",
    "\n",
    "@benchmark run_trajopt()"
   ]
  },
  {
   "cell_type": "code",
   "execution_count": 11,
   "metadata": {},
   "outputs": [
    {
     "data": {
      "image/svg+xml": [
       "<?xml version=\"1.0\" encoding=\"utf-8\"?>\n",
       "<svg xmlns=\"http://www.w3.org/2000/svg\" xmlns:xlink=\"http://www.w3.org/1999/xlink\" width=\"600\" height=\"400\" viewBox=\"0 0 2400 1600\">\n",
       "<defs>\n",
       "  <clipPath id=\"clip6900\">\n",
       "    <rect x=\"0\" y=\"0\" width=\"2400\" height=\"1600\"/>\n",
       "  </clipPath>\n",
       "</defs>\n",
       "<polygon clip-path=\"url(#clip6900)\" points=\"\n",
       "0,1600 2400,1600 2400,0 0,0 \n",
       "  \" fill=\"#ffffff\" fill-rule=\"evenodd\" fill-opacity=\"1\"/>\n",
       "<defs>\n",
       "  <clipPath id=\"clip6901\">\n",
       "    <rect x=\"480\" y=\"0\" width=\"1681\" height=\"1600\"/>\n",
       "  </clipPath>\n",
       "</defs>\n",
       "<polygon clip-path=\"url(#clip6900)\" points=\"\n",
       "113.754,1487.47 2352.76,1487.47 2352.76,47.2441 113.754,47.2441 \n",
       "  \" fill=\"#ffffff\" fill-rule=\"evenodd\" fill-opacity=\"1\"/>\n",
       "<defs>\n",
       "  <clipPath id=\"clip6902\">\n",
       "    <rect x=\"113\" y=\"47\" width=\"2240\" height=\"1441\"/>\n",
       "  </clipPath>\n",
       "</defs>\n",
       "<polyline clip-path=\"url(#clip6902)\" style=\"stroke:#000000; stroke-width:2; stroke-opacity:0.1; fill:none\" points=\"\n",
       "  177.122,1487.47 177.122,47.2441 \n",
       "  \"/>\n",
       "<polyline clip-path=\"url(#clip6902)\" style=\"stroke:#000000; stroke-width:2; stroke-opacity:0.1; fill:none\" points=\"\n",
       "  617.178,1487.47 617.178,47.2441 \n",
       "  \"/>\n",
       "<polyline clip-path=\"url(#clip6902)\" style=\"stroke:#000000; stroke-width:2; stroke-opacity:0.1; fill:none\" points=\"\n",
       "  1057.23,1487.47 1057.23,47.2441 \n",
       "  \"/>\n",
       "<polyline clip-path=\"url(#clip6902)\" style=\"stroke:#000000; stroke-width:2; stroke-opacity:0.1; fill:none\" points=\"\n",
       "  1497.29,1487.47 1497.29,47.2441 \n",
       "  \"/>\n",
       "<polyline clip-path=\"url(#clip6902)\" style=\"stroke:#000000; stroke-width:2; stroke-opacity:0.1; fill:none\" points=\"\n",
       "  1937.34,1487.47 1937.34,47.2441 \n",
       "  \"/>\n",
       "<polyline clip-path=\"url(#clip6902)\" style=\"stroke:#000000; stroke-width:2; stroke-opacity:0.1; fill:none\" points=\"\n",
       "  113.754,1446.71 2352.76,1446.71 \n",
       "  \"/>\n",
       "<polyline clip-path=\"url(#clip6902)\" style=\"stroke:#000000; stroke-width:2; stroke-opacity:0.1; fill:none\" points=\"\n",
       "  113.754,1166.64 2352.76,1166.64 \n",
       "  \"/>\n",
       "<polyline clip-path=\"url(#clip6902)\" style=\"stroke:#000000; stroke-width:2; stroke-opacity:0.1; fill:none\" points=\"\n",
       "  113.754,886.576 2352.76,886.576 \n",
       "  \"/>\n",
       "<polyline clip-path=\"url(#clip6902)\" style=\"stroke:#000000; stroke-width:2; stroke-opacity:0.1; fill:none\" points=\"\n",
       "  113.754,606.507 2352.76,606.507 \n",
       "  \"/>\n",
       "<polyline clip-path=\"url(#clip6902)\" style=\"stroke:#000000; stroke-width:2; stroke-opacity:0.1; fill:none\" points=\"\n",
       "  113.754,326.439 2352.76,326.439 \n",
       "  \"/>\n",
       "<polyline clip-path=\"url(#clip6900)\" style=\"stroke:#000000; stroke-width:4; stroke-opacity:1; fill:none\" points=\"\n",
       "  113.754,1487.47 2352.76,1487.47 \n",
       "  \"/>\n",
       "<polyline clip-path=\"url(#clip6900)\" style=\"stroke:#000000; stroke-width:4; stroke-opacity:1; fill:none\" points=\"\n",
       "  113.754,1487.47 113.754,47.2441 \n",
       "  \"/>\n",
       "<polyline clip-path=\"url(#clip6900)\" style=\"stroke:#000000; stroke-width:4; stroke-opacity:1; fill:none\" points=\"\n",
       "  177.122,1487.47 177.122,1465.87 \n",
       "  \"/>\n",
       "<polyline clip-path=\"url(#clip6900)\" style=\"stroke:#000000; stroke-width:4; stroke-opacity:1; fill:none\" points=\"\n",
       "  617.178,1487.47 617.178,1465.87 \n",
       "  \"/>\n",
       "<polyline clip-path=\"url(#clip6900)\" style=\"stroke:#000000; stroke-width:4; stroke-opacity:1; fill:none\" points=\"\n",
       "  1057.23,1487.47 1057.23,1465.87 \n",
       "  \"/>\n",
       "<polyline clip-path=\"url(#clip6900)\" style=\"stroke:#000000; stroke-width:4; stroke-opacity:1; fill:none\" points=\"\n",
       "  1497.29,1487.47 1497.29,1465.87 \n",
       "  \"/>\n",
       "<polyline clip-path=\"url(#clip6900)\" style=\"stroke:#000000; stroke-width:4; stroke-opacity:1; fill:none\" points=\"\n",
       "  1937.34,1487.47 1937.34,1465.87 \n",
       "  \"/>\n",
       "<polyline clip-path=\"url(#clip6900)\" style=\"stroke:#000000; stroke-width:4; stroke-opacity:1; fill:none\" points=\"\n",
       "  113.754,1446.71 147.339,1446.71 \n",
       "  \"/>\n",
       "<polyline clip-path=\"url(#clip6900)\" style=\"stroke:#000000; stroke-width:4; stroke-opacity:1; fill:none\" points=\"\n",
       "  113.754,1166.64 147.339,1166.64 \n",
       "  \"/>\n",
       "<polyline clip-path=\"url(#clip6900)\" style=\"stroke:#000000; stroke-width:4; stroke-opacity:1; fill:none\" points=\"\n",
       "  113.754,886.576 147.339,886.576 \n",
       "  \"/>\n",
       "<polyline clip-path=\"url(#clip6900)\" style=\"stroke:#000000; stroke-width:4; stroke-opacity:1; fill:none\" points=\"\n",
       "  113.754,606.507 147.339,606.507 \n",
       "  \"/>\n",
       "<polyline clip-path=\"url(#clip6900)\" style=\"stroke:#000000; stroke-width:4; stroke-opacity:1; fill:none\" points=\"\n",
       "  113.754,326.439 147.339,326.439 \n",
       "  \"/>\n",
       "<g clip-path=\"url(#clip6900)\">\n",
       "<text style=\"fill:#000000; fill-opacity:1; font-family:Arial,Helvetica Neue,Helvetica,sans-serif; font-size:48px; text-anchor:middle;\" transform=\"rotate(0, 177.122, 1541.47)\" x=\"177.122\" y=\"1541.47\">0.00</text>\n",
       "</g>\n",
       "<g clip-path=\"url(#clip6900)\">\n",
       "<text style=\"fill:#000000; fill-opacity:1; font-family:Arial,Helvetica Neue,Helvetica,sans-serif; font-size:48px; text-anchor:middle;\" transform=\"rotate(0, 617.178, 1541.47)\" x=\"617.178\" y=\"1541.47\">0.25</text>\n",
       "</g>\n",
       "<g clip-path=\"url(#clip6900)\">\n",
       "<text style=\"fill:#000000; fill-opacity:1; font-family:Arial,Helvetica Neue,Helvetica,sans-serif; font-size:48px; text-anchor:middle;\" transform=\"rotate(0, 1057.23, 1541.47)\" x=\"1057.23\" y=\"1541.47\">0.50</text>\n",
       "</g>\n",
       "<g clip-path=\"url(#clip6900)\">\n",
       "<text style=\"fill:#000000; fill-opacity:1; font-family:Arial,Helvetica Neue,Helvetica,sans-serif; font-size:48px; text-anchor:middle;\" transform=\"rotate(0, 1497.29, 1541.47)\" x=\"1497.29\" y=\"1541.47\">0.75</text>\n",
       "</g>\n",
       "<g clip-path=\"url(#clip6900)\">\n",
       "<text style=\"fill:#000000; fill-opacity:1; font-family:Arial,Helvetica Neue,Helvetica,sans-serif; font-size:48px; text-anchor:middle;\" transform=\"rotate(0, 1937.34, 1541.47)\" x=\"1937.34\" y=\"1541.47\">1.00</text>\n",
       "</g>\n",
       "<g clip-path=\"url(#clip6900)\">\n",
       "<text style=\"fill:#000000; fill-opacity:1; font-family:Arial,Helvetica Neue,Helvetica,sans-serif; font-size:48px; text-anchor:end;\" transform=\"rotate(0, 89.7545, 1464.21)\" x=\"89.7545\" y=\"1464.21\">0</text>\n",
       "</g>\n",
       "<g clip-path=\"url(#clip6900)\">\n",
       "<text style=\"fill:#000000; fill-opacity:1; font-family:Arial,Helvetica Neue,Helvetica,sans-serif; font-size:48px; text-anchor:end;\" transform=\"rotate(0, 89.7545, 1184.14)\" x=\"89.7545\" y=\"1184.14\">1</text>\n",
       "</g>\n",
       "<g clip-path=\"url(#clip6900)\">\n",
       "<text style=\"fill:#000000; fill-opacity:1; font-family:Arial,Helvetica Neue,Helvetica,sans-serif; font-size:48px; text-anchor:end;\" transform=\"rotate(0, 89.7545, 904.076)\" x=\"89.7545\" y=\"904.076\">2</text>\n",
       "</g>\n",
       "<g clip-path=\"url(#clip6900)\">\n",
       "<text style=\"fill:#000000; fill-opacity:1; font-family:Arial,Helvetica Neue,Helvetica,sans-serif; font-size:48px; text-anchor:end;\" transform=\"rotate(0, 89.7545, 624.007)\" x=\"89.7545\" y=\"624.007\">3</text>\n",
       "</g>\n",
       "<g clip-path=\"url(#clip6900)\">\n",
       "<text style=\"fill:#000000; fill-opacity:1; font-family:Arial,Helvetica Neue,Helvetica,sans-serif; font-size:48px; text-anchor:end;\" transform=\"rotate(0, 89.7545, 343.939)\" x=\"89.7545\" y=\"343.939\">4</text>\n",
       "</g>\n",
       "<polyline clip-path=\"url(#clip6902)\" style=\"stroke:#e34a33; stroke-width:0; stroke-opacity:1; fill:none\" points=\"\n",
       "  177.122,1446.71 265.133,1308.81 353.145,1225.94 441.156,1145.94 529.167,1068.73 617.178,994.251 705.189,922.441 793.2,853.235 881.211,786.573 969.222,722.394 \n",
       "  1057.23,660.638 1145.24,601.248 1233.26,544.167 1321.27,489.338 1409.28,436.706 1497.29,386.217 1585.3,337.816 1673.31,291.453 1761.32,247.073 1849.33,204.627 \n",
       "  1937.34,164.063 2025.35,125.33 2113.37,88.3808 2201.38,88.3801 2289.39,88.3801 \n",
       "  \"/>\n",
       "<circle clip-path=\"url(#clip6902)\" style=\"fill:#000000; stroke:none; fill-opacity:1\" cx=\"177.122\" cy=\"1446.71\" r=\"25\"/>\n",
       "<circle clip-path=\"url(#clip6902)\" style=\"fill:#e34a33; stroke:none; fill-opacity:1\" cx=\"177.122\" cy=\"1446.71\" r=\"21\"/>\n",
       "<circle clip-path=\"url(#clip6902)\" style=\"fill:#000000; stroke:none; fill-opacity:1\" cx=\"265.133\" cy=\"1308.81\" r=\"25\"/>\n",
       "<circle clip-path=\"url(#clip6902)\" style=\"fill:#e34a33; stroke:none; fill-opacity:1\" cx=\"265.133\" cy=\"1308.81\" r=\"21\"/>\n",
       "<circle clip-path=\"url(#clip6902)\" style=\"fill:#000000; stroke:none; fill-opacity:1\" cx=\"353.145\" cy=\"1225.94\" r=\"25\"/>\n",
       "<circle clip-path=\"url(#clip6902)\" style=\"fill:#e34a33; stroke:none; fill-opacity:1\" cx=\"353.145\" cy=\"1225.94\" r=\"21\"/>\n",
       "<circle clip-path=\"url(#clip6902)\" style=\"fill:#000000; stroke:none; fill-opacity:1\" cx=\"441.156\" cy=\"1145.94\" r=\"25\"/>\n",
       "<circle clip-path=\"url(#clip6902)\" style=\"fill:#e34a33; stroke:none; fill-opacity:1\" cx=\"441.156\" cy=\"1145.94\" r=\"21\"/>\n",
       "<circle clip-path=\"url(#clip6902)\" style=\"fill:#000000; stroke:none; fill-opacity:1\" cx=\"529.167\" cy=\"1068.73\" r=\"25\"/>\n",
       "<circle clip-path=\"url(#clip6902)\" style=\"fill:#e34a33; stroke:none; fill-opacity:1\" cx=\"529.167\" cy=\"1068.73\" r=\"21\"/>\n",
       "<circle clip-path=\"url(#clip6902)\" style=\"fill:#000000; stroke:none; fill-opacity:1\" cx=\"617.178\" cy=\"994.251\" r=\"25\"/>\n",
       "<circle clip-path=\"url(#clip6902)\" style=\"fill:#e34a33; stroke:none; fill-opacity:1\" cx=\"617.178\" cy=\"994.251\" r=\"21\"/>\n",
       "<circle clip-path=\"url(#clip6902)\" style=\"fill:#000000; stroke:none; fill-opacity:1\" cx=\"705.189\" cy=\"922.441\" r=\"25\"/>\n",
       "<circle clip-path=\"url(#clip6902)\" style=\"fill:#e34a33; stroke:none; fill-opacity:1\" cx=\"705.189\" cy=\"922.441\" r=\"21\"/>\n",
       "<circle clip-path=\"url(#clip6902)\" style=\"fill:#000000; stroke:none; fill-opacity:1\" cx=\"793.2\" cy=\"853.235\" r=\"25\"/>\n",
       "<circle clip-path=\"url(#clip6902)\" style=\"fill:#e34a33; stroke:none; fill-opacity:1\" cx=\"793.2\" cy=\"853.235\" r=\"21\"/>\n",
       "<circle clip-path=\"url(#clip6902)\" style=\"fill:#000000; stroke:none; fill-opacity:1\" cx=\"881.211\" cy=\"786.573\" r=\"25\"/>\n",
       "<circle clip-path=\"url(#clip6902)\" style=\"fill:#e34a33; stroke:none; fill-opacity:1\" cx=\"881.211\" cy=\"786.573\" r=\"21\"/>\n",
       "<circle clip-path=\"url(#clip6902)\" style=\"fill:#000000; stroke:none; fill-opacity:1\" cx=\"969.222\" cy=\"722.394\" r=\"25\"/>\n",
       "<circle clip-path=\"url(#clip6902)\" style=\"fill:#e34a33; stroke:none; fill-opacity:1\" cx=\"969.222\" cy=\"722.394\" r=\"21\"/>\n",
       "<circle clip-path=\"url(#clip6902)\" style=\"fill:#000000; stroke:none; fill-opacity:1\" cx=\"1057.23\" cy=\"660.638\" r=\"25\"/>\n",
       "<circle clip-path=\"url(#clip6902)\" style=\"fill:#e34a33; stroke:none; fill-opacity:1\" cx=\"1057.23\" cy=\"660.638\" r=\"21\"/>\n",
       "<circle clip-path=\"url(#clip6902)\" style=\"fill:#000000; stroke:none; fill-opacity:1\" cx=\"1145.24\" cy=\"601.248\" r=\"25\"/>\n",
       "<circle clip-path=\"url(#clip6902)\" style=\"fill:#e34a33; stroke:none; fill-opacity:1\" cx=\"1145.24\" cy=\"601.248\" r=\"21\"/>\n",
       "<circle clip-path=\"url(#clip6902)\" style=\"fill:#000000; stroke:none; fill-opacity:1\" cx=\"1233.26\" cy=\"544.167\" r=\"25\"/>\n",
       "<circle clip-path=\"url(#clip6902)\" style=\"fill:#e34a33; stroke:none; fill-opacity:1\" cx=\"1233.26\" cy=\"544.167\" r=\"21\"/>\n",
       "<circle clip-path=\"url(#clip6902)\" style=\"fill:#000000; stroke:none; fill-opacity:1\" cx=\"1321.27\" cy=\"489.338\" r=\"25\"/>\n",
       "<circle clip-path=\"url(#clip6902)\" style=\"fill:#e34a33; stroke:none; fill-opacity:1\" cx=\"1321.27\" cy=\"489.338\" r=\"21\"/>\n",
       "<circle clip-path=\"url(#clip6902)\" style=\"fill:#000000; stroke:none; fill-opacity:1\" cx=\"1409.28\" cy=\"436.706\" r=\"25\"/>\n",
       "<circle clip-path=\"url(#clip6902)\" style=\"fill:#e34a33; stroke:none; fill-opacity:1\" cx=\"1409.28\" cy=\"436.706\" r=\"21\"/>\n",
       "<circle clip-path=\"url(#clip6902)\" style=\"fill:#000000; stroke:none; fill-opacity:1\" cx=\"1497.29\" cy=\"386.217\" r=\"25\"/>\n",
       "<circle clip-path=\"url(#clip6902)\" style=\"fill:#e34a33; stroke:none; fill-opacity:1\" cx=\"1497.29\" cy=\"386.217\" r=\"21\"/>\n",
       "<circle clip-path=\"url(#clip6902)\" style=\"fill:#000000; stroke:none; fill-opacity:1\" cx=\"1585.3\" cy=\"337.816\" r=\"25\"/>\n",
       "<circle clip-path=\"url(#clip6902)\" style=\"fill:#e34a33; stroke:none; fill-opacity:1\" cx=\"1585.3\" cy=\"337.816\" r=\"21\"/>\n",
       "<circle clip-path=\"url(#clip6902)\" style=\"fill:#000000; stroke:none; fill-opacity:1\" cx=\"1673.31\" cy=\"291.453\" r=\"25\"/>\n",
       "<circle clip-path=\"url(#clip6902)\" style=\"fill:#e34a33; stroke:none; fill-opacity:1\" cx=\"1673.31\" cy=\"291.453\" r=\"21\"/>\n",
       "<circle clip-path=\"url(#clip6902)\" style=\"fill:#000000; stroke:none; fill-opacity:1\" cx=\"1761.32\" cy=\"247.073\" r=\"25\"/>\n",
       "<circle clip-path=\"url(#clip6902)\" style=\"fill:#e34a33; stroke:none; fill-opacity:1\" cx=\"1761.32\" cy=\"247.073\" r=\"21\"/>\n",
       "<circle clip-path=\"url(#clip6902)\" style=\"fill:#000000; stroke:none; fill-opacity:1\" cx=\"1849.33\" cy=\"204.627\" r=\"25\"/>\n",
       "<circle clip-path=\"url(#clip6902)\" style=\"fill:#e34a33; stroke:none; fill-opacity:1\" cx=\"1849.33\" cy=\"204.627\" r=\"21\"/>\n",
       "<circle clip-path=\"url(#clip6902)\" style=\"fill:#000000; stroke:none; fill-opacity:1\" cx=\"1937.34\" cy=\"164.063\" r=\"25\"/>\n",
       "<circle clip-path=\"url(#clip6902)\" style=\"fill:#e34a33; stroke:none; fill-opacity:1\" cx=\"1937.34\" cy=\"164.063\" r=\"21\"/>\n",
       "<circle clip-path=\"url(#clip6902)\" style=\"fill:#000000; stroke:none; fill-opacity:1\" cx=\"2025.35\" cy=\"125.33\" r=\"25\"/>\n",
       "<circle clip-path=\"url(#clip6902)\" style=\"fill:#e34a33; stroke:none; fill-opacity:1\" cx=\"2025.35\" cy=\"125.33\" r=\"21\"/>\n",
       "<circle clip-path=\"url(#clip6902)\" style=\"fill:#000000; stroke:none; fill-opacity:1\" cx=\"2113.37\" cy=\"88.3808\" r=\"25\"/>\n",
       "<circle clip-path=\"url(#clip6902)\" style=\"fill:#e34a33; stroke:none; fill-opacity:1\" cx=\"2113.37\" cy=\"88.3808\" r=\"21\"/>\n",
       "<circle clip-path=\"url(#clip6902)\" style=\"fill:#000000; stroke:none; fill-opacity:1\" cx=\"2201.38\" cy=\"88.3801\" r=\"25\"/>\n",
       "<circle clip-path=\"url(#clip6902)\" style=\"fill:#e34a33; stroke:none; fill-opacity:1\" cx=\"2201.38\" cy=\"88.3801\" r=\"21\"/>\n",
       "<circle clip-path=\"url(#clip6902)\" style=\"fill:#000000; stroke:none; fill-opacity:1\" cx=\"2289.39\" cy=\"88.3801\" r=\"25\"/>\n",
       "<circle clip-path=\"url(#clip6902)\" style=\"fill:#e34a33; stroke:none; fill-opacity:1\" cx=\"2289.39\" cy=\"88.3801\" r=\"21\"/>\n",
       "<polyline clip-path=\"url(#clip6902)\" style=\"stroke:#fee8c8; stroke-width:4; stroke-opacity:1; fill:none\" points=\"\n",
       "  177.122,1446.71 265.133,1314.76 353.145,1189.56 441.156,1071.1 529.167,959.36 617.178,854.4 705.189,756.162 793.2,664.669 881.211,579.929 969.222,501.961 \n",
       "  1057.23,430.723 1145.24,366.211 1233.26,308.424 1321.27,257.361 1409.28,213.019 1497.29,175.397 1585.3,144.491 1673.31,120.301 1761.32,102.825 1849.33,92.0604 \n",
       "  1937.34,88.0053 2025.35,88.0301 2113.37,88.1359 2201.38,88.2855 2289.39,88.3801 \n",
       "  \"/>\n",
       "<circle clip-path=\"url(#clip6902)\" style=\"fill:#000000; stroke:none; fill-opacity:1\" cx=\"177.122\" cy=\"1446.71\" r=\"18\"/>\n",
       "<circle clip-path=\"url(#clip6902)\" style=\"fill:#fee8c8; stroke:none; fill-opacity:1\" cx=\"177.122\" cy=\"1446.71\" r=\"14\"/>\n",
       "<circle clip-path=\"url(#clip6902)\" style=\"fill:#000000; stroke:none; fill-opacity:1\" cx=\"265.133\" cy=\"1314.76\" r=\"18\"/>\n",
       "<circle clip-path=\"url(#clip6902)\" style=\"fill:#fee8c8; stroke:none; fill-opacity:1\" cx=\"265.133\" cy=\"1314.76\" r=\"14\"/>\n",
       "<circle clip-path=\"url(#clip6902)\" style=\"fill:#000000; stroke:none; fill-opacity:1\" cx=\"353.145\" cy=\"1189.56\" r=\"18\"/>\n",
       "<circle clip-path=\"url(#clip6902)\" style=\"fill:#fee8c8; stroke:none; fill-opacity:1\" cx=\"353.145\" cy=\"1189.56\" r=\"14\"/>\n",
       "<circle clip-path=\"url(#clip6902)\" style=\"fill:#000000; stroke:none; fill-opacity:1\" cx=\"441.156\" cy=\"1071.1\" r=\"18\"/>\n",
       "<circle clip-path=\"url(#clip6902)\" style=\"fill:#fee8c8; stroke:none; fill-opacity:1\" cx=\"441.156\" cy=\"1071.1\" r=\"14\"/>\n",
       "<circle clip-path=\"url(#clip6902)\" style=\"fill:#000000; stroke:none; fill-opacity:1\" cx=\"529.167\" cy=\"959.36\" r=\"18\"/>\n",
       "<circle clip-path=\"url(#clip6902)\" style=\"fill:#fee8c8; stroke:none; fill-opacity:1\" cx=\"529.167\" cy=\"959.36\" r=\"14\"/>\n",
       "<circle clip-path=\"url(#clip6902)\" style=\"fill:#000000; stroke:none; fill-opacity:1\" cx=\"617.178\" cy=\"854.4\" r=\"18\"/>\n",
       "<circle clip-path=\"url(#clip6902)\" style=\"fill:#fee8c8; stroke:none; fill-opacity:1\" cx=\"617.178\" cy=\"854.4\" r=\"14\"/>\n",
       "<circle clip-path=\"url(#clip6902)\" style=\"fill:#000000; stroke:none; fill-opacity:1\" cx=\"705.189\" cy=\"756.162\" r=\"18\"/>\n",
       "<circle clip-path=\"url(#clip6902)\" style=\"fill:#fee8c8; stroke:none; fill-opacity:1\" cx=\"705.189\" cy=\"756.162\" r=\"14\"/>\n",
       "<circle clip-path=\"url(#clip6902)\" style=\"fill:#000000; stroke:none; fill-opacity:1\" cx=\"793.2\" cy=\"664.669\" r=\"18\"/>\n",
       "<circle clip-path=\"url(#clip6902)\" style=\"fill:#fee8c8; stroke:none; fill-opacity:1\" cx=\"793.2\" cy=\"664.669\" r=\"14\"/>\n",
       "<circle clip-path=\"url(#clip6902)\" style=\"fill:#000000; stroke:none; fill-opacity:1\" cx=\"881.211\" cy=\"579.929\" r=\"18\"/>\n",
       "<circle clip-path=\"url(#clip6902)\" style=\"fill:#fee8c8; stroke:none; fill-opacity:1\" cx=\"881.211\" cy=\"579.929\" r=\"14\"/>\n",
       "<circle clip-path=\"url(#clip6902)\" style=\"fill:#000000; stroke:none; fill-opacity:1\" cx=\"969.222\" cy=\"501.961\" r=\"18\"/>\n",
       "<circle clip-path=\"url(#clip6902)\" style=\"fill:#fee8c8; stroke:none; fill-opacity:1\" cx=\"969.222\" cy=\"501.961\" r=\"14\"/>\n",
       "<circle clip-path=\"url(#clip6902)\" style=\"fill:#000000; stroke:none; fill-opacity:1\" cx=\"1057.23\" cy=\"430.723\" r=\"18\"/>\n",
       "<circle clip-path=\"url(#clip6902)\" style=\"fill:#fee8c8; stroke:none; fill-opacity:1\" cx=\"1057.23\" cy=\"430.723\" r=\"14\"/>\n",
       "<circle clip-path=\"url(#clip6902)\" style=\"fill:#000000; stroke:none; fill-opacity:1\" cx=\"1145.24\" cy=\"366.211\" r=\"18\"/>\n",
       "<circle clip-path=\"url(#clip6902)\" style=\"fill:#fee8c8; stroke:none; fill-opacity:1\" cx=\"1145.24\" cy=\"366.211\" r=\"14\"/>\n",
       "<circle clip-path=\"url(#clip6902)\" style=\"fill:#000000; stroke:none; fill-opacity:1\" cx=\"1233.26\" cy=\"308.424\" r=\"18\"/>\n",
       "<circle clip-path=\"url(#clip6902)\" style=\"fill:#fee8c8; stroke:none; fill-opacity:1\" cx=\"1233.26\" cy=\"308.424\" r=\"14\"/>\n",
       "<circle clip-path=\"url(#clip6902)\" style=\"fill:#000000; stroke:none; fill-opacity:1\" cx=\"1321.27\" cy=\"257.361\" r=\"18\"/>\n",
       "<circle clip-path=\"url(#clip6902)\" style=\"fill:#fee8c8; stroke:none; fill-opacity:1\" cx=\"1321.27\" cy=\"257.361\" r=\"14\"/>\n",
       "<circle clip-path=\"url(#clip6902)\" style=\"fill:#000000; stroke:none; fill-opacity:1\" cx=\"1409.28\" cy=\"213.019\" r=\"18\"/>\n",
       "<circle clip-path=\"url(#clip6902)\" style=\"fill:#fee8c8; stroke:none; fill-opacity:1\" cx=\"1409.28\" cy=\"213.019\" r=\"14\"/>\n",
       "<circle clip-path=\"url(#clip6902)\" style=\"fill:#000000; stroke:none; fill-opacity:1\" cx=\"1497.29\" cy=\"175.397\" r=\"18\"/>\n",
       "<circle clip-path=\"url(#clip6902)\" style=\"fill:#fee8c8; stroke:none; fill-opacity:1\" cx=\"1497.29\" cy=\"175.397\" r=\"14\"/>\n",
       "<circle clip-path=\"url(#clip6902)\" style=\"fill:#000000; stroke:none; fill-opacity:1\" cx=\"1585.3\" cy=\"144.491\" r=\"18\"/>\n",
       "<circle clip-path=\"url(#clip6902)\" style=\"fill:#fee8c8; stroke:none; fill-opacity:1\" cx=\"1585.3\" cy=\"144.491\" r=\"14\"/>\n",
       "<circle clip-path=\"url(#clip6902)\" style=\"fill:#000000; stroke:none; fill-opacity:1\" cx=\"1673.31\" cy=\"120.301\" r=\"18\"/>\n",
       "<circle clip-path=\"url(#clip6902)\" style=\"fill:#fee8c8; stroke:none; fill-opacity:1\" cx=\"1673.31\" cy=\"120.301\" r=\"14\"/>\n",
       "<circle clip-path=\"url(#clip6902)\" style=\"fill:#000000; stroke:none; fill-opacity:1\" cx=\"1761.32\" cy=\"102.825\" r=\"18\"/>\n",
       "<circle clip-path=\"url(#clip6902)\" style=\"fill:#fee8c8; stroke:none; fill-opacity:1\" cx=\"1761.32\" cy=\"102.825\" r=\"14\"/>\n",
       "<circle clip-path=\"url(#clip6902)\" style=\"fill:#000000; stroke:none; fill-opacity:1\" cx=\"1849.33\" cy=\"92.0604\" r=\"18\"/>\n",
       "<circle clip-path=\"url(#clip6902)\" style=\"fill:#fee8c8; stroke:none; fill-opacity:1\" cx=\"1849.33\" cy=\"92.0604\" r=\"14\"/>\n",
       "<circle clip-path=\"url(#clip6902)\" style=\"fill:#000000; stroke:none; fill-opacity:1\" cx=\"1937.34\" cy=\"88.0053\" r=\"18\"/>\n",
       "<circle clip-path=\"url(#clip6902)\" style=\"fill:#fee8c8; stroke:none; fill-opacity:1\" cx=\"1937.34\" cy=\"88.0053\" r=\"14\"/>\n",
       "<circle clip-path=\"url(#clip6902)\" style=\"fill:#000000; stroke:none; fill-opacity:1\" cx=\"2025.35\" cy=\"88.0301\" r=\"18\"/>\n",
       "<circle clip-path=\"url(#clip6902)\" style=\"fill:#fee8c8; stroke:none; fill-opacity:1\" cx=\"2025.35\" cy=\"88.0301\" r=\"14\"/>\n",
       "<circle clip-path=\"url(#clip6902)\" style=\"fill:#000000; stroke:none; fill-opacity:1\" cx=\"2113.37\" cy=\"88.1359\" r=\"18\"/>\n",
       "<circle clip-path=\"url(#clip6902)\" style=\"fill:#fee8c8; stroke:none; fill-opacity:1\" cx=\"2113.37\" cy=\"88.1359\" r=\"14\"/>\n",
       "<circle clip-path=\"url(#clip6902)\" style=\"fill:#000000; stroke:none; fill-opacity:1\" cx=\"2201.38\" cy=\"88.2855\" r=\"18\"/>\n",
       "<circle clip-path=\"url(#clip6902)\" style=\"fill:#fee8c8; stroke:none; fill-opacity:1\" cx=\"2201.38\" cy=\"88.2855\" r=\"14\"/>\n",
       "<circle clip-path=\"url(#clip6902)\" style=\"fill:#000000; stroke:none; fill-opacity:1\" cx=\"2289.39\" cy=\"88.3801\" r=\"18\"/>\n",
       "<circle clip-path=\"url(#clip6902)\" style=\"fill:#fee8c8; stroke:none; fill-opacity:1\" cx=\"2289.39\" cy=\"88.3801\" r=\"14\"/>\n",
       "<polygon clip-path=\"url(#clip6900)\" points=\"\n",
       "1813.42,312.204 2280.76,312.204 2280.76,130.764 1813.42,130.764 \n",
       "  \" fill=\"#ffffff\" fill-rule=\"evenodd\" fill-opacity=\"1\"/>\n",
       "<polyline clip-path=\"url(#clip6900)\" style=\"stroke:#000000; stroke-width:4; stroke-opacity:1; fill:none\" points=\"\n",
       "  1813.42,312.204 2280.76,312.204 2280.76,130.764 1813.42,130.764 1813.42,312.204 \n",
       "  \"/>\n",
       "<polyline clip-path=\"url(#clip6900)\" style=\"stroke:#e34a33; stroke-width:0; stroke-opacity:1; fill:none\" points=\"\n",
       "  1837.42,191.244 1981.42,191.244 \n",
       "  \"/>\n",
       "<circle clip-path=\"url(#clip6900)\" style=\"fill:#000000; stroke:none; fill-opacity:1\" cx=\"1921.42\" cy=\"191.244\" r=\"25\"/>\n",
       "<circle clip-path=\"url(#clip6900)\" style=\"fill:#e34a33; stroke:none; fill-opacity:1\" cx=\"1921.42\" cy=\"191.244\" r=\"21\"/>\n",
       "<g clip-path=\"url(#clip6900)\">\n",
       "<text style=\"fill:#000000; fill-opacity:1; font-family:Arial,Helvetica Neue,Helvetica,sans-serif; font-size:48px; text-anchor:start;\" transform=\"rotate(0, 2005.42, 208.744)\" x=\"2005.42\" y=\"208.744\">Indirect</text>\n",
       "</g>\n",
       "<polyline clip-path=\"url(#clip6900)\" style=\"stroke:#fee8c8; stroke-width:4; stroke-opacity:1; fill:none\" points=\"\n",
       "  1837.42,251.724 1981.42,251.724 \n",
       "  \"/>\n",
       "<circle clip-path=\"url(#clip6900)\" style=\"fill:#000000; stroke:none; fill-opacity:1\" cx=\"1921.42\" cy=\"251.724\" r=\"25\"/>\n",
       "<circle clip-path=\"url(#clip6900)\" style=\"fill:#fee8c8; stroke:none; fill-opacity:1\" cx=\"1921.42\" cy=\"251.724\" r=\"21\"/>\n",
       "<g clip-path=\"url(#clip6900)\">\n",
       "<text style=\"fill:#000000; fill-opacity:1; font-family:Arial,Helvetica Neue,Helvetica,sans-serif; font-size:48px; text-anchor:start;\" transform=\"rotate(0, 2005.42, 269.224)\" x=\"2005.42\" y=\"269.224\">Semidirect</text>\n",
       "</g>\n",
       "</svg>\n"
      ]
     },
     "execution_count": 11,
     "metadata": {},
     "output_type": "execute_result"
    }
   ],
   "source": [
    "j = 1\n",
    "plot(traj_indirect[7],traj_indirect[8][j,:],label=\"Indirect\",seriescolor=RGB(((227,74,51) ./ 255.)...),linewidth=0,marker=6)\n",
    "plot!(traj_semidirect[7],traj_semidirect[8][j,:],label=\"Semidirect\",seriescolor=RGB(((254,232,200) ./ 255.)...),linewidth=1,marker=4)"
   ]
  },
  {
   "cell_type": "code",
   "execution_count": 12,
   "metadata": {},
   "outputs": [
    {
     "data": {
      "text/plain": [
       "3-element Array{Float64,1}:\n",
       " 10.427240184188815 \n",
       "  0.0               \n",
       "  3.7987046502198107"
      ]
     },
     "metadata": {},
     "output_type": "display_data"
    },
    {
     "data": {
      "text/plain": [
       "3-element Array{Float64,1}:\n",
       " 9.90444502225334   \n",
       " 0.0                \n",
       " 0.48455390427920564"
      ]
     },
     "metadata": {},
     "output_type": "display_data"
    }
   ],
   "source": [
    "display(traj_indirect[2][1])\n",
    "display(traj_semidirect[2][1])"
   ]
  },
  {
   "cell_type": "markdown",
   "metadata": {},
   "source": [
    "# Trajectory optimization of little dog"
   ]
  },
  {
   "cell_type": "code",
   "execution_count": 13,
   "metadata": {},
   "outputs": [],
   "source": [
    "urdf = joinpath(\"..\", \"..\", \"urdf\", \"little_dog\", \"little_dog2d.urdf\")\n",
    "mechanism = parse_urdf(Float64, urdf)\n",
    "\n",
    "floor = findbody(mechanism, \"floor\")\n",
    "point = Point3D(default_frame(floor), SVector([0.,0.,0.]...))\n",
    "normal = FreeVector3D(default_frame(floor), SVector([0.,0.,1.]...))\n",
    "floor_obs = Obstacle(floor, point, normal, :xyz, 10.)\n",
    "\n",
    "obstacles = [floor_obs]\n",
    "env = Environment(mechanism, urdf, obstacles);"
   ]
  },
  {
   "cell_type": "code",
   "execution_count": 15,
   "metadata": {},
   "outputs": [
    {
     "name": "stderr",
     "output_type": "stream",
     "text": [
      "┌ Info: Serving MeshCat visualizer at http://127.0.0.1:8700\n",
      "└ @ MeshCat /home/blandry/.julia/packages/MeshCat/WlA0B/src/servers.jl:24\n",
      "/usr/bin/xdg-open: 778: /usr/bin/xdg-open: www-browser: not found\n",
      "/usr/bin/xdg-open: 778: /usr/bin/xdg-open: links2: not found\n",
      "/usr/bin/xdg-open: 778: /usr/bin/xdg-open: elinks: not found\n",
      "/usr/bin/xdg-open: 778: /usr/bin/xdg-open: links: not found\n",
      "/usr/bin/xdg-open: 778: /usr/bin/xdg-open: lynx: not found\n",
      "/usr/bin/xdg-open: 778: /usr/bin/xdg-open: w3m: not found\n",
      "xdg-open: no method available for opening 'http://127.0.0.1:8700'\n"
     ]
    },
    {
     "name": "stdout",
     "output_type": "stream",
     "text": [
      "Could not open browser automatically: ErrorException(\"failed process: Process(`xdg-open http://127.0.0.1:8700`, ProcessExited(3)) [3]\")\n",
      "Please open the following URL in your browser:\n",
      "http://127.0.0.1:8700\n"
     ]
    }
   ],
   "source": [
    "mvis = MechanismVisualizer(mechanism, URDFVisuals(urdf));\n",
    "open(mvis)"
   ]
  },
  {
   "cell_type": "code",
   "execution_count": 16,
   "metadata": {},
   "outputs": [],
   "source": [
    "N = 8\n",
    "Δt = 0.025\n",
    "q0 = [0., -.275, 0., 0., 0., 0., 0., pi/4, pi/4, -pi/4, -pi/4, -pi/2, -pi/2, pi/2, pi/2] \n",
    "v0 = zeros(num_velocities(mechanism))\n",
    "\n",
    "sim_data = get_sim_data_indirect(mechanism,env,Δt)\n",
    "null_ctrl! = (u,t,x) -> u[:] .= 0.\n",
    "x0 = MechanismState(mechanism)\n",
    "set_configuration!(x0, q0)\n",
    "set_velocity!(x0, v0)\n",
    "setdirty!(x0)\n",
    "traj_sim = Bilevel.simulate(sim_data,null_ctrl!,x0,N)\n",
    "setanimation!(mvis, traj_sim[6], traj_sim[1])"
   ]
  },
  {
   "cell_type": "code",
   "execution_count": null,
   "metadata": {},
   "outputs": [],
   "source": [
    "q_nom = copy(traj_sim[1][end])\n",
    "q_min = min.(q_nom, [-5., -.5, -.2*pi, 0., 0., 0., 0., -3.5, -3.5, -3.5, -3.5, -3.1, -3.1, -3.1, -3.1])\n",
    "q_max = max.(q_nom, [5., -0.1, .2*pi, 0., 0., 0., 0., 2.4, 2.4, 2.4, 2.4, 1., 1., 1., 1.])\n",
    "\n",
    "x_goal = 0.1\n",
    "\n",
    "N = 15\n",
    "Δt = 0.05\n",
    "\n",
    "function add_prob_constraints!(sim_data)\n",
    "    vs = sim_data.vs\n",
    "\n",
    "    add_eq!(sim_data, :cq1, num_positions(mechanism), x -> vs(x, :q1) - q_nom)\n",
    "    add_eq!(sim_data, :cv1, num_velocities(mechanism), x -> vs(x, :v1))\n",
    "    add_ineq!(sim_data, :cqNx, 1, x -> x_goal - vs(x, Symbol(\"q\", N))[1])\n",
    "    add_eq!(sim_data, :cqNlegs, num_positions(mechanism)-1, x -> vs(x, Symbol(\"q\", N))[2:end] - vs(x, :q1)[2:end])\n",
    "    add_eq!(sim_data, :cvN, num_velocities(mechanism), x -> vs(x, Symbol(\"v\", N)))\n",
    "\n",
    "    for n = 1:N\n",
    "        add_eq!(sim_data, Symbol(\"cq1\", n), 2, x -> vs(x, Symbol(\"q\", n))[8:9] + vs(x, Symbol(\"q\", n))[11:-1:10])\n",
    "        add_eq!(sim_data, Symbol(\"cq2\", n), 2, x -> vs(x, Symbol(\"q\", n))[12:13] + vs(x, Symbol(\"q\", n))[15:-1:14])\n",
    "    end\n",
    "end\n",
    "\n",
    "function add_prob_obj!(sim_data)\n",
    "    for n = 1:N-1\n",
    "        add_obj!(sim_data, Symbol(\"u\", n), x -> sim_data.vs(x, Symbol(\"u\", n))' * sim_data.vs(x, Symbol(\"u\", n)))\n",
    "    end\n",
    "end\n",
    "\n",
    "function get_prob_limits(sim_data)\n",
    "    x_min = -1e19*ones(sim_data.vs.num_vars)\n",
    "    x_max = 1e19*ones(sim_data.vs.num_vars)\n",
    "    \n",
    "    # joint limits\n",
    "    add_box_con_snopt!(x_min, x_max, sim_data, :q, q_min, q_max, 1:N)\n",
    "    add_box_con_snopt!(x_min, x_max, sim_data, :h, [Δt], [Δt], 1:N-1)\n",
    "    \n",
    "    # torques limits\n",
    "    u_limit = 10.\n",
    "    add_box_con_snopt!(x_min, x_max, sim_data, :u, -u_limit * ones(num_velocities(mechanism)), u_limit * ones(num_velocities(mechanism)), 1:N-1)\n",
    "    \n",
    "    x_min, x_max\n",
    "end\n",
    "\n",
    "function get_prob_init(sim_data)\n",
    "    x0 = zeros(sim_data.vs.num_vars)\n",
    "    for n = 1:N\n",
    "        qn = copy(q_nom)\n",
    "        qn[1] = (n/N)*(x_goal - q_nom[1]) + q_nom[1]\n",
    "        x0[sim_data.vs(Symbol(\"q\", n))] .= qn\n",
    "    end\n",
    "    \n",
    "    x0\n",
    "end\n",
    "\n",
    "function setup_prob!(sim_data)\n",
    "    add_prob_constraints!(sim_data)\n",
    "    add_prob_obj!(sim_data)\n",
    "    x_min, x_max = get_prob_limits(sim_data)\n",
    "    x0 = get_prob_init(sim_data)\n",
    "    \n",
    "    x0, x_min, x_max\n",
    "end"
   ]
  },
  {
   "cell_type": "code",
   "execution_count": null,
   "metadata": {},
   "outputs": [],
   "source": [
    "# Indirect\n",
    "\n",
    "sim_data = get_trajopt_data_indirect(mechanism,env,Δt,N,relax_comp=false)\n",
    "x0, x_min, x_max = setup_prob!(sim_data);"
   ]
  },
  {
   "cell_type": "code",
   "execution_count": null,
   "metadata": {},
   "outputs": [],
   "source": [
    "con_tol = 1e-3\n",
    "obj_tol = 1e-3\n",
    "max_iter = 10000\n",
    "\n",
    "display(@time traj_indirect = Bilevel.trajopt(sim_data, x0=x0, x_min=x_min, x_max=x_max, verbose=1, opt_tol=obj_tol, major_feas=con_tol, minor_feas=con_tol, max_iter=max_iter))\n",
    "\n",
    "x0 = traj_indirect[9]\n",
    "\n",
    "setanimation!(mvis, traj_indirect[7], traj_indirect[1])"
   ]
  },
  {
   "cell_type": "code",
   "execution_count": null,
   "metadata": {},
   "outputs": [],
   "source": [
    "function run_trajopt()\n",
    "    Bilevel.solve_rosenbrock() # clearing SNOPT\n",
    "    Bilevel.trajopt(sim_data, x0=x0, x_min=x_min, x_max=x_max, verbose=0, opt_tol=obj_tol, major_feas=con_tol, minor_feas=con_tol, max_iter=max_iter)\n",
    "end\n",
    "\n",
    "@benchmark run_trajopt()"
   ]
  },
  {
   "cell_type": "code",
   "execution_count": null,
   "metadata": {},
   "outputs": [],
   "source": [
    "setanimation!(mvis, traj_indirect[7], traj_indirect[1])"
   ]
  },
  {
   "cell_type": "code",
   "execution_count": null,
   "metadata": {},
   "outputs": [],
   "source": [
    "t_step = traj_indirect[7]\n",
    "q_step = traj_indirect[1]\n",
    "u_step = traj_indirect[2][2:end];"
   ]
  },
  {
   "cell_type": "code",
   "execution_count": null,
   "metadata": {},
   "outputs": [],
   "source": [
    "# Semidirect\n",
    "\n",
    "sim_data = get_trajopt_data_semidirect(mechanism,env,Δt,N,relax_comp=false)\n",
    "x0, x_min, x_max = setup_prob!(sim_data);"
   ]
  },
  {
   "cell_type": "code",
   "execution_count": null,
   "metadata": {},
   "outputs": [],
   "source": [
    "con_tol = 1e-3\n",
    "obj_tol = 1e-3\n",
    "max_iter = 10000\n",
    "\n",
    "display(@time traj_semidirect = Bilevel.trajopt(sim_data, x0=x0, x_min=x_min, x_max=x_max, verbose=1, opt_tol=obj_tol, major_feas=con_tol, minor_feas=con_tol, max_iter=max_iter))\n",
    "\n",
    "x0 = traj_semidirect[9]\n",
    "\n",
    "setanimation!(mvis, traj_semidirect[7], traj_semidirect[1])"
   ]
  },
  {
   "cell_type": "code",
   "execution_count": null,
   "metadata": {},
   "outputs": [],
   "source": [
    "function run_trajopt()\n",
    "    Bilevel.solve_rosenbrock() # clearing SNOPT\n",
    "    Bilevel.trajopt(sim_data, x0=x0, x_min=x_min, x_max=x_max, verbose=0, opt_tol=obj_tol, major_feas=con_tol, minor_feas=con_tol, max_iter=max_iter)\n",
    "end\n",
    "\n",
    "@benchmark run_trajopt()"
   ]
  },
  {
   "cell_type": "code",
   "execution_count": null,
   "metadata": {},
   "outputs": [],
   "source": [
    "setanimation!(mvis, traj_semidirect[7], traj_semidirect[1])"
   ]
  },
  {
   "cell_type": "code",
   "execution_count": null,
   "metadata": {},
   "outputs": [],
   "source": [
    "t_step = traj_semidirect[7]\n",
    "q_step = traj_semidirect[1]\n",
    "u_step = traj_semidirect[2][2:end];"
   ]
  },
  {
   "cell_type": "code",
   "execution_count": null,
   "metadata": {},
   "outputs": [],
   "source": [
    "# Direct\n",
    "\n",
    "sim_data = get_trajopt_data_direct(mechanism,env,Δt,N,relax_comp=false)\n",
    "x0, x_min, x_max = setup_prob!(sim_data);"
   ]
  },
  {
   "cell_type": "code",
   "execution_count": null,
   "metadata": {},
   "outputs": [],
   "source": [
    "con_tol = 1e-3\n",
    "obj_tol = 1e-3\n",
    "max_iter = 10000\n",
    "\n",
    "traj_direct = Bilevel.trajopt(sim_data, x0=x0, x_min=x_min, x_max=x_max, verbose=1, opt_tol=obj_tol, major_feas=con_tol, minor_feas=con_tol, max_iter=max_iter)\n",
    "\n",
    "x0 = traj_direct[9]\n",
    "\n",
    "setanimation!(mvis, traj_direct[7], traj_direct[1])"
   ]
  },
  {
   "cell_type": "code",
   "execution_count": null,
   "metadata": {},
   "outputs": [],
   "source": [
    "setanimation!(mvis, traj_direct[7], traj_direct[1])"
   ]
  },
  {
   "cell_type": "code",
   "execution_count": null,
   "metadata": {},
   "outputs": [],
   "source": [
    "t_step = traj_direct[7]\n",
    "q_step = traj_direct[1]\n",
    "u_step = traj_direct[2][2:end];"
   ]
  },
  {
   "cell_type": "code",
   "execution_count": null,
   "metadata": {},
   "outputs": [],
   "source": [
    "# Multi-steps\n",
    "\n",
    "reps = 5\n",
    "\n",
    "ttraj = t_step\n",
    "qtraj = q_step\n",
    "utraj = u_step\n",
    "for i = 1:(reps-1)\n",
    "    ttraj = vcat(ttraj, t_step .+ ttraj[end])\n",
    "    qtraj = vcat(qtraj, map(q -> q + vcat(qtraj[end][1],zeros(length(q)-1)), q_step))\n",
    "    utraj = vcat(utraj, u_step)\n",
    "end\n",
    "\n",
    "setanimation!(mvis, ttraj, qtraj)"
   ]
  }
 ],
 "metadata": {
  "kernelspec": {
   "display_name": "Julia 1.1.0",
   "language": "julia",
   "name": "julia-1.1"
  },
  "language_info": {
   "file_extension": ".jl",
   "mimetype": "application/julia",
   "name": "julia",
   "version": "1.1.0"
  }
 },
 "nbformat": 4,
 "nbformat_minor": 2
}
