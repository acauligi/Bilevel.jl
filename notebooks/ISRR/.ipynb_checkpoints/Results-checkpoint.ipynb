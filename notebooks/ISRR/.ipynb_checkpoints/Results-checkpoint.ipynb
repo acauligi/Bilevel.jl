{
 "cells": [
  {
   "cell_type": "code",
   "execution_count": 1,
   "metadata": {},
   "outputs": [
    {
     "name": "stderr",
     "output_type": "stream",
     "text": [
      "┌ Info: Precompiling Bilevel [9688c538-179f-11e9-3174-495cea6b7f67]\n",
      "└ @ Base loading.jl:1186\n"
     ]
    },
    {
     "data": {
      "text/html": [
       "    <script class='js-collapse-script'>\n",
       "        var curMatch =\n",
       "            window.location.href\n",
       "            .match(/(.*?)\\/notebooks\\/.*\\.ipynb/);\n",
       "\n",
       "        curMatch = curMatch ||\n",
       "            window.location.href\n",
       "            .match(/(.*?)\\/apps\\/.*\\.ipynb/);\n",
       "\n",
       "        if ( curMatch ) {\n",
       "            $('head').append('<base href=\"' + curMatch[1] + '/\">');\n",
       "        }\n",
       "    </script>\n"
      ],
      "text/plain": [
       "HTML{String}(\"    <script class='js-collapse-script'>\\n        var curMatch =\\n            window.location.href\\n            .match(/(.*?)\\\\/notebooks\\\\/.*\\\\.ipynb/);\\n\\n        curMatch = curMatch ||\\n            window.location.href\\n            .match(/(.*?)\\\\/apps\\\\/.*\\\\.ipynb/);\\n\\n        if ( curMatch ) {\\n            \\$('head').append('<base href=\\\"' + curMatch[1] + '/\\\">');\\n        }\\n    </script>\\n\")"
      ]
     },
     "metadata": {},
     "output_type": "display_data"
    },
    {
     "data": {
      "text/html": [
       "<script class='js-collapse-script' src='/assetserver/b464848323e0a4c9a3cfe11f8edca2932188b6d9-assets/webio/dist/bundle.js'></script>"
      ],
      "text/plain": [
       "HTML{String}(\"<script class='js-collapse-script' src='/assetserver/b464848323e0a4c9a3cfe11f8edca2932188b6d9-assets/webio/dist/bundle.js'></script>\")"
      ]
     },
     "metadata": {},
     "output_type": "display_data"
    },
    {
     "data": {
      "text/html": [
       "<script class='js-collapse-script' src='/assetserver/b464848323e0a4c9a3cfe11f8edca2932188b6d9-assets/providers/ijulia_setup.js'></script>"
      ],
      "text/plain": [
       "HTML{String}(\"<script class='js-collapse-script' src='/assetserver/b464848323e0a4c9a3cfe11f8edca2932188b6d9-assets/providers/ijulia_setup.js'></script>\")"
      ]
     },
     "metadata": {},
     "output_type": "display_data"
    },
    {
     "data": {
      "text/html": [
       "  <script class='js-collapse-script'>\n",
       "    $('.js-collapse-script').parent('.output_subarea').css('padding', '0');\n",
       "  </script>\n"
      ],
      "text/plain": [
       "HTML{String}(\"  <script class='js-collapse-script'>\\n    \\$('.js-collapse-script').parent('.output_subarea').css('padding', '0');\\n  </script>\\n\")"
      ]
     },
     "metadata": {},
     "output_type": "display_data"
    },
    {
     "name": "stderr",
     "output_type": "stream",
     "text": [
      "┌ Error: evaluation error\n",
      "│   mod = Bilevel\n",
      "│   ex = const usrfun = #= /home/blandry/.julia/dev/Bilevel/src/solvers/snopt.jl:154 =# @cfunction(objcon_wrapper, Cvoid, (Ptr{Clong}, Ref{Clong}, Ptr{Cdouble}, Ref{Clong}, Ref{Clong}, Ptr{Cdouble}, Ref{Clong}, Ref{Clong}, Ptr{Cdouble}, Ptr{Cchar}, Ref{Clong}, Ptr{Clong}, Ref{Clong}, Ptr{Cdouble}, Ref{Clong}))\n",
      "│   exception = (ErrorException(\"invalid lookup expr (\\$(QuoteNode(Core.svec)))(JuliaInterpreter.SSAValue(2), JuliaInterpreter.SSAValue(3), JuliaInterpreter.SSAValue(4), JuliaInterpreter.SSAValue(5), JuliaInterpreter.SSAValue(6), JuliaInterpreter.SSAValue(7), JuliaInterpreter.SSAValue(8), JuliaInterpreter.SSAValue(9), JuliaInterpreter.SSAValue(10), JuliaInterpreter.SSAValue(11), JuliaInterpreter.SSAValue(12), JuliaInterpreter.SSAValue(13), JuliaInterpreter.SSAValue(14), JuliaInterpreter.SSAValue(15), JuliaInterpreter.SSAValue(16))\"), Union{Ptr{Nothing}, InterpreterIP}[Ptr{Nothing} @0x00007f24a22905eb, Ptr{Nothing} @0x00007f24a2261204, Ptr{Nothing} @0x00007f2474159470, Ptr{Nothing} @0x00007f2444084b45, Ptr{Nothing} @0x00007f24440ac2ed, Ptr{Nothing} @0x00007f24440ac8d4, Ptr{Nothing} @0x00007f2444085193, Ptr{Nothing} @0x00007f24440866ab, Ptr{Nothing} @0x00007f244408a7db, Ptr{Nothing} @0x00007f2444083804, Ptr{Nothing} @0x00007f2444084544, Ptr{Nothing} @0x00007f24a22455d6, Ptr{Nothing} @0x00007f24741553e5, Ptr{Nothing} @0x00007f24a22455d6, Ptr{Nothing} @0x00007f2474153ce0, Ptr{Nothing} @0x00007f2474153d34, Ptr{Nothing} @0x00007f24741534b4, Ptr{Nothing} @0x00007f2474153adf, Ptr{Nothing} @0x00007f24a22455d6, Ptr{Nothing} @0x00007f2474149e84, Ptr{Nothing} @0x00007f247414a83c, Ptr{Nothing} @0x00007f247414c3de, Ptr{Nothing} @0x00007f2474148d01, Ptr{Nothing} @0x00007f24a22455d6, Ptr{Nothing} @0x00007f24a2261a92, Ptr{Nothing} @0x0000000000000000])\n",
      "└ @ Revise /home/blandry/.julia/packages/Revise/5wsCa/src/lowered.jl:52\n"
     ]
    }
   ],
   "source": [
    "using Revise\n",
    "using Bilevel\n",
    "\n",
    "using RigidBodyDynamics\n",
    "using MeshCatMechanisms\n",
    "using MeshCat\n",
    "using Plots\n",
    "using LinearAlgebra\n",
    "using StaticArrays\n",
    "using BenchmarkTools\n",
    "using LaTeXStrings"
   ]
  },
  {
   "cell_type": "markdown",
   "metadata": {},
   "source": [
    "# Simulation of sliding box"
   ]
  },
  {
   "cell_type": "code",
   "execution_count": null,
   "metadata": {},
   "outputs": [],
   "source": [
    "urdf = joinpath(\"..\", \"..\", \"urdf\", \"ball2d.urdf\")\n",
    "mechanism = parse_urdf(Float64, urdf)\n",
    "\n",
    "floor = findbody(mechanism, \"floor\")\n",
    "point = Point3D(default_frame(floor), SVector([0.,0.,0.]...))\n",
    "normal = FreeVector3D(default_frame(floor), SVector([0.,0.,1.]...))\n",
    "floor_obs = Obstacle(floor, point, normal, :xyz, 1.)\n",
    "\n",
    "obstacles = [floor_obs]\n",
    "env = Environment(mechanism, urdf, obstacles);"
   ]
  },
  {
   "cell_type": "code",
   "execution_count": null,
   "metadata": {},
   "outputs": [],
   "source": [
    "mvis = MechanismVisualizer(mechanism, URDFVisuals(urdf))\n",
    "# open(mvis)"
   ]
  },
  {
   "cell_type": "code",
   "execution_count": null,
   "metadata": {},
   "outputs": [],
   "source": [
    "N = 10\n",
    "Δt = 0.1\n",
    "q0 = [0., 0.2, 0.]\n",
    "v0 = [8., 0., 0.];"
   ]
  },
  {
   "cell_type": "code",
   "execution_count": null,
   "metadata": {},
   "outputs": [],
   "source": [
    "# Indirect\n",
    "\n",
    "sim_data = get_sim_data_indirect(mechanism,env,Δt,relax_comp=true)\n",
    "null_ctrl! = (u,t,x) -> u[:] .= 0.\n",
    "x0 = MechanismState(mechanism)\n",
    "set_configuration!(x0, q0)\n",
    "set_velocity!(x0, v0)\n",
    "setdirty!(x0)\n",
    "sim_indirect = Bilevel.simulate(sim_data,null_ctrl!,x0,N)"
   ]
  },
  {
   "cell_type": "code",
   "execution_count": null,
   "metadata": {},
   "outputs": [],
   "source": [
    "@benchmark sim_indirect = Bilevel.simulate(sim_data,null_ctrl!,x0,N)"
   ]
  },
  {
   "cell_type": "code",
   "execution_count": null,
   "metadata": {},
   "outputs": [],
   "source": [
    "setanimation!(mvis, sim_indirect[6], sim_indirect[1])"
   ]
  },
  {
   "cell_type": "code",
   "execution_count": null,
   "metadata": {},
   "outputs": [],
   "source": [
    "# Direct (both normal and friction)\n",
    "\n",
    "sim_data = get_sim_data_direct(mechanism,env,Δt)\n",
    "null_ctrl! = (u,t,x) -> u[:] .= 0.\n",
    "x0 = MechanismState(mechanism)\n",
    "set_configuration!(x0, q0)\n",
    "set_velocity!(x0, v0)\n",
    "setdirty!(x0)\n",
    "sim_direct = Bilevel.simulate(sim_data,null_ctrl!,x0,N)"
   ]
  },
  {
   "cell_type": "code",
   "execution_count": null,
   "metadata": {},
   "outputs": [],
   "source": [
    "@benchmark sim_direct = Bilevel.simulate(sim_data,null_ctrl!,x0,N)"
   ]
  },
  {
   "cell_type": "code",
   "execution_count": null,
   "metadata": {},
   "outputs": [],
   "source": [
    "setanimation!(mvis, sim_direct[6], sim_direct[1])"
   ]
  },
  {
   "cell_type": "code",
   "execution_count": null,
   "metadata": {},
   "outputs": [],
   "source": [
    "j = 1\n",
    "plot(sim_indirect[6],sim_indirect[8][j,:],label=\"Indirect\",seriescolor=RGB(((227,74,51) ./ 255.)...),linewidth=0,marker=6)\n",
    "plot!(sim_direct[6],sim_direct[8][j,:],label=\"Direct\",seriescolor=RGB(((254,232,200) ./ 255.)...),linewidth=1,marker=4)"
   ]
  },
  {
   "cell_type": "code",
   "execution_count": null,
   "metadata": {},
   "outputs": [],
   "source": [
    "sim_indirect[1][end]"
   ]
  },
  {
   "cell_type": "markdown",
   "metadata": {},
   "source": [
    "# Trajectory optimization of sliding box"
   ]
  },
  {
   "cell_type": "code",
   "execution_count": null,
   "metadata": {},
   "outputs": [],
   "source": [
    "urdf = joinpath(\"..\", \"..\", \"urdf\", \"ball2d.urdf\")\n",
    "mechanism = parse_urdf(Float64, urdf)\n",
    "\n",
    "floor = findbody(mechanism, \"floor\")\n",
    "point = Point3D(default_frame(floor), SVector([0.,0.,0.]...))\n",
    "normal = FreeVector3D(default_frame(floor), SVector([0.,0.,1.]...))\n",
    "floor_obs = Obstacle(floor, point, normal, :xyz, 1.)\n",
    "\n",
    "obstacles = [floor_obs]\n",
    "env = Environment(mechanism, urdf, obstacles);"
   ]
  },
  {
   "cell_type": "code",
   "execution_count": null,
   "metadata": {},
   "outputs": [],
   "source": [
    "mvis = MechanismVisualizer(mechanism, URDFVisuals(urdf))\n",
    "# open(mvis)"
   ]
  },
  {
   "cell_type": "code",
   "execution_count": null,
   "metadata": {},
   "outputs": [],
   "source": [
    "# qN = [3.0, 0., 0.]\n",
    "# N = 10\n",
    "\n",
    "# qN = [3.0, 0., 0.]\n",
    "# N = 15\n",
    "\n",
    "qN = [3.0, 0., 0.]\n",
    "N = 20\n",
    "\n",
    "# qN = [3.0, 0., 0.]\n",
    "# N = 25\n",
    "\n",
    "# qN = [5.0, 0., 0.]\n",
    "# N = 30\n",
    "\n",
    "# qN = [10.0, 0., 0.]\n",
    "# N = 35\n",
    "\n",
    "# qN = [15.0, 0., 0.]\n",
    "# N = 40\n",
    "\n",
    "q1 = [0., 0.2, 0.]\n",
    "Δt = 0.1\n",
    "\n",
    "q_min = [-10., -10., -10.]\n",
    "q_max = [10., 10., 10.]\n",
    "\n",
    "function get_prob_limits(sim_data)\n",
    "    x_min = -1e19*ones(sim_data.vs.num_vars)\n",
    "    x_max = 1e19*ones(sim_data.vs.num_vars)\n",
    "    \n",
    "    # joint limits\n",
    "    add_box_con_snopt!(x_min, x_max, sim_data, :q, q_min, q_max, 1:N)\n",
    "    add_box_con_snopt!(x_min, x_max, sim_data, :h, [Δt], [Δt], 1:N-1)\n",
    "    \n",
    "    # torques limits\n",
    "    add_box_con_snopt!(x_min, x_max, sim_data, :u, zeros(num_velocities(mechanism)), zeros(num_velocities(mechanism)), 1:N-1)\n",
    "\n",
    "    x_min, x_max\n",
    "end\n",
    "\n",
    "function add_prob_constraints!(sim_data)\n",
    "    vs = sim_data.vs\n",
    "\n",
    "    add_eq!(sim_data, :cq1, length(q1), x -> vs(x, :q1) - q1)\n",
    "    add_eq!(sim_data, :cv1, 1, x -> vs(x, :v1)[2])\n",
    "    add_eq!(sim_data, :cqN, 2, x -> vs(x, Symbol(\"q\", N))[1:2] - qN[1:2])\n",
    "    add_eq!(sim_data, :cvN, 1, x -> vs(x, Symbol(\"v\", N))[1])\n",
    "end\n",
    "\n",
    "function get_prob_init(sim_data)\n",
    "    x0 = zeros(sim_data.vs.num_vars)\n",
    "    for n = 1:N\n",
    "        x0[sim_data.vs(Symbol(\"q\", n))] .= n/N*(qN - q1) + q1\n",
    "    end\n",
    "    \n",
    "    x0\n",
    "end"
   ]
  },
  {
   "cell_type": "code",
   "execution_count": null,
   "metadata": {},
   "outputs": [],
   "source": [
    "# Indirect\n",
    "con_tol = 1e-5\n",
    "obj_tol = 1e-5\n",
    "max_iter = 5000\n",
    "\n",
    "sim_data = get_trajopt_data_indirect(mechanism,env,Δt,N,relax_comp=true)\n",
    "add_prob_constraints!(sim_data)\n",
    "x_min, x_max = get_prob_limits(sim_data)\n",
    "x0 = get_prob_init(sim_data)\n",
    "\n",
    "@time traj_indirect = Bilevel.trajopt(sim_data, x0=x0, x_min=x_min, x_max=x_max, verbose=1, opt_tol=obj_tol, major_feas=con_tol, minor_feas=con_tol, max_iter=max_iter)"
   ]
  },
  {
   "cell_type": "code",
   "execution_count": null,
   "metadata": {},
   "outputs": [],
   "source": [
    "function run_trajopt()\n",
    "    Bilevel.solve_rosenbrock() # clearing SNOPT\n",
    "    Bilevel.trajopt(sim_data, x0=x0, x_min=x_min, x_max=x_max, verbose=0, opt_tol=obj_tol, major_feas=con_tol, minor_feas=con_tol, max_iter=max_iter)\n",
    "end\n",
    "\n",
    "@benchmark run_trajopt()"
   ]
  },
  {
   "cell_type": "code",
   "execution_count": null,
   "metadata": {},
   "outputs": [],
   "source": [
    "Bilevel.solve_rosenbrock(); # clearing SNOPT"
   ]
  },
  {
   "cell_type": "code",
   "execution_count": null,
   "metadata": {},
   "outputs": [],
   "source": [
    "# Semidirect\n",
    "con_tol = 1e-5\n",
    "obj_tol = 1e-5\n",
    "max_iter = 5000\n",
    "\n",
    "sim_data = get_trajopt_data_semidirect(mechanism,env,Δt,N,relax_comp=false)\n",
    "add_prob_constraints!(sim_data)\n",
    "x_min, x_max = get_prob_limits(sim_data)\n",
    "x0 = get_prob_init(sim_data)\n",
    "@time traj_semidirect = Bilevel.trajopt(sim_data, x0=x0, x_min=x_min, x_max=x_max, verbose=1, opt_tol=obj_tol, major_feas=con_tol, minor_feas=con_tol, max_iter=max_iter)"
   ]
  },
  {
   "cell_type": "code",
   "execution_count": null,
   "metadata": {},
   "outputs": [],
   "source": [
    "function run_trajopt()\n",
    "    Bilevel.solve_rosenbrock() # clearing SNOPT\n",
    "    Bilevel.trajopt(sim_data, x0=x0, x_min=x_min, x_max=x_max, verbose=0, opt_tol=obj_tol, major_feas=con_tol, minor_feas=con_tol, max_iter=max_iter)\n",
    "end\n",
    "\n",
    "@benchmark run_trajopt()"
   ]
  },
  {
   "cell_type": "code",
   "execution_count": null,
   "metadata": {},
   "outputs": [],
   "source": [
    "j = 1\n",
    "xlabel=latexstring(\"t\")\n",
    "ylabel=latexstring(\"x\")\n",
    "plot(traj_indirect[7],traj_indirect[8][j,:],label=\"Indirect\",seriescolor=RGB(((227,74,51) ./ 255.)...),linewidth=6,marker=6,xlabel=xlabel)\n",
    "plot!(traj_semidirect[7],traj_semidirect[8][j,:],label=\"Semidirect\",seriescolor=RGB(((254,232,200) ./ 255.)...),linewidth=1,marker=6,ylabel=ylabel)"
   ]
  },
  {
   "cell_type": "code",
   "execution_count": null,
   "metadata": {},
   "outputs": [],
   "source": [
    "savefig(string(\"slidingbox_x_08-28-19_3.svg\")) "
   ]
  },
  {
   "cell_type": "code",
   "execution_count": null,
   "metadata": {},
   "outputs": [],
   "source": [
    "j = 2\n",
    "xlabel=latexstring(\"t\")\n",
    "ylabel=latexstring(\"z\")\n",
    "plot(traj_indirect[7],traj_indirect[8][j,:],label=\"Indirect\",seriescolor=RGB(((227,74,51) ./ 255.)...),linewidth=6,marker=6,xlabel=xlabel)\n",
    "plot!(traj_semidirect[7],traj_semidirect[8][j,:],label=\"Semidirect\",seriescolor=RGB(((254,232,200) ./ 255.)...),linewidth=1,marker=6,ylabel=ylabel)"
   ]
  },
  {
   "cell_type": "code",
   "execution_count": null,
   "metadata": {},
   "outputs": [],
   "source": [
    "savefig(string(\"slidingbox_z_08-28-19_3.svg\")) "
   ]
  },
  {
   "cell_type": "code",
   "execution_count": null,
   "metadata": {},
   "outputs": [],
   "source": [
    "display(traj_indirect[2][end])\n",
    "display(traj_semidirect[2][end])"
   ]
  },
  {
   "cell_type": "code",
   "execution_count": null,
   "metadata": {},
   "outputs": [],
   "source": [
    "display(length(traj_indirect[9]))\n",
    "display(length(traj_semidirect[9]))"
   ]
  },
  {
   "cell_type": "markdown",
   "metadata": {},
   "source": [
    "# Trajectory optimization of jumper robot"
   ]
  },
  {
   "cell_type": "code",
   "execution_count": null,
   "metadata": {},
   "outputs": [],
   "source": [
    "urdf = joinpath(\"..\", \"..\", \"urdf\", \"jumper\", \"jumper.urdf\")\n",
    "mechanism = parse_urdf(Float64, urdf)\n",
    "\n",
    "floor = findbody(mechanism, \"floor\")\n",
    "point = Point3D(default_frame(floor), SVector([0.,0.,0.]...))\n",
    "normal = FreeVector3D(default_frame(floor), SVector([0.,0.,1.]...))\n",
    "floor_obs = Obstacle(floor, point, normal, :xyz, 100.)\n",
    "\n",
    "obstacles = [floor_obs]\n",
    "env = Environment(mechanism, urdf, obstacles);"
   ]
  },
  {
   "cell_type": "code",
   "execution_count": null,
   "metadata": {},
   "outputs": [],
   "source": [
    "mvis = MechanismVisualizer(mechanism, URDFVisuals(urdf));\n",
    "open(mvis)"
   ]
  },
  {
   "cell_type": "code",
   "execution_count": null,
   "metadata": {},
   "outputs": [],
   "source": [
    "set_configuration!(mvis, [0., -2, .6, -1.2])"
   ]
  },
  {
   "cell_type": "code",
   "execution_count": null,
   "metadata": {},
   "outputs": [],
   "source": [
    "N = 10\n",
    "Δt = 0.05\n",
    "q0 = [0., -2, .6, -1.2]\n",
    "v0 = zeros(num_velocities(mechanism))\n",
    "\n",
    "sim_data = get_sim_data_indirect(mechanism,env,Δt)\n",
    "null_ctrl! = (u,t,x) -> u[:] .= 0.\n",
    "x0 = MechanismState(mechanism)\n",
    "set_configuration!(x0, q0)\n",
    "set_velocity!(x0, v0)\n",
    "setdirty!(x0)\n",
    "traj_sim = Bilevel.simulate(sim_data,null_ctrl!,x0,N)\n",
    "setanimation!(mvis, traj_sim[6], traj_sim[1])"
   ]
  },
  {
   "cell_type": "code",
   "execution_count": null,
   "metadata": {},
   "outputs": [],
   "source": [
    "q_nom = copy(traj_sim[1][end])\n",
    "q_min = min.(q_nom, [-20., -10., -pi, -pi])\n",
    "q_max = max.(q_nom, [20., -0.25, pi, pi])\n",
    "\n",
    "N = 20\n",
    "Δt = 0.025\n",
    "\n",
    "function add_prob_constraints!(sim_data)\n",
    "    vs = sim_data.vs\n",
    "\n",
    "    add_eq!(sim_data, :cq1x, 4, x -> vs(x, :q1)[1:4] - q_nom[1:4])\n",
    "    add_eq!(sim_data, :cv1, num_velocities(mechanism), x -> vs(x, :v1))\n",
    "    \n",
    "    add_eq!(sim_data, :cqNy, 1, x -> -1.25 - vs(x, Symbol(\"q\", N))[2])\n",
    "end\n",
    "\n",
    "function add_prob_obj!(sim_data)\n",
    "    vs = sim_data.vs    \n",
    "\n",
    "end\n",
    "\n",
    "function get_prob_limits(sim_data)\n",
    "    x_min = -1e19*ones(sim_data.vs.num_vars)\n",
    "    x_max = 1e19*ones(sim_data.vs.num_vars)\n",
    "    \n",
    "    # joint limits\n",
    "    add_box_con_snopt!(x_min, x_max, sim_data, :q, q_min, q_max, 1:N)\n",
    "    add_box_con_snopt!(x_min, x_max, sim_data, :h, [Δt], [Δt], 1:N-1)\n",
    "    \n",
    "    # torques limits\n",
    "    u_limit = [0.,0.,0.,100.]\n",
    "    add_box_con_snopt!(x_min, x_max, sim_data, :u, -u_limit .* ones(num_velocities(mechanism)), u_limit .* ones(num_velocities(mechanism)), 1:N-1)\n",
    "    \n",
    "    x_min, x_max\n",
    "end\n",
    "\n",
    "function get_prob_init(sim_data)\n",
    "    x0 = zeros(sim_data.vs.num_vars)\n",
    "    for n = 1:N\n",
    "        qn = copy(q_nom)\n",
    "        x0[sim_data.vs(Symbol(\"q\", n))] .= qn\n",
    "    end\n",
    "    \n",
    "    x0\n",
    "end\n",
    "\n",
    "function setup_prob!(sim_data)\n",
    "    add_prob_constraints!(sim_data)\n",
    "    add_prob_obj!(sim_data)\n",
    "    x_min, x_max = get_prob_limits(sim_data)\n",
    "    x0 = get_prob_init(sim_data)\n",
    "    \n",
    "    x0, x_min, x_max\n",
    "end"
   ]
  },
  {
   "cell_type": "code",
   "execution_count": null,
   "metadata": {},
   "outputs": [],
   "source": [
    "# Semidirect\n",
    "\n",
    "sim_data = get_trajopt_data_semidirect(mechanism,env,Δt,N,relax_comp=false)\n",
    "x0, x_min, x_max = setup_prob!(sim_data);"
   ]
  },
  {
   "cell_type": "code",
   "execution_count": null,
   "metadata": {},
   "outputs": [],
   "source": [
    "con_tol = 1e-4\n",
    "obj_tol = 1e-4\n",
    "max_iter = 5000\n",
    "\n",
    "display(@time traj_semidirect = Bilevel.trajopt(sim_data, x0=x0, x_min=x_min, x_max=x_max, verbose=1, opt_tol=obj_tol, major_feas=con_tol, minor_feas=con_tol, max_iter=max_iter))\n",
    "\n",
    "x0 = traj_semidirect[9]\n",
    "\n",
    "setanimation!(mvis, traj_semidirect[7], traj_semidirect[1])"
   ]
  },
  {
   "cell_type": "code",
   "execution_count": null,
   "metadata": {},
   "outputs": [],
   "source": [
    "qi = 1"
   ]
  },
  {
   "cell_type": "code",
   "execution_count": null,
   "metadata": {},
   "outputs": [],
   "source": [
    "q = traj_semidirect[1][qi]\n",
    "set_configuration!(mvis, q) \n",
    "qi += 1"
   ]
  },
  {
   "cell_type": "code",
   "execution_count": null,
   "metadata": {},
   "outputs": [],
   "source": [
    "function run_trajopt()\n",
    "    Bilevel.solve_rosenbrock() # clearing SNOPT\n",
    "    Bilevel.trajopt(sim_data, x0=x0, x_min=x_min, x_max=x_max, verbose=0, opt_tol=obj_tol, major_feas=con_tol, minor_feas=con_tol, max_iter=max_iter)\n",
    "end\n",
    "\n",
    "@benchmark run_trajopt()"
   ]
  },
  {
   "cell_type": "code",
   "execution_count": null,
   "metadata": {},
   "outputs": [],
   "source": [
    "# Indirect\n",
    "\n",
    "sim_data = get_trajopt_data_indirect(mechanism,env,Δt,N,relax_comp=true)\n",
    "x0, x_min, x_max = setup_prob!(sim_data);"
   ]
  },
  {
   "cell_type": "code",
   "execution_count": null,
   "metadata": {},
   "outputs": [],
   "source": [
    "con_tol = 1e-4\n",
    "obj_tol = 1e-4\n",
    "max_iter = 5000\n",
    "\n",
    "display(@time traj_inidirect = Bilevel.trajopt(sim_data, x0=x0, x_min=x_min, x_max=x_max, verbose=1, opt_tol=obj_tol, major_feas=con_tol, minor_feas=con_tol, max_iter=max_iter))\n",
    "\n",
    "x0 = traj_inidirect[9]\n",
    "\n",
    "setanimation!(mvis, traj_inidirect[7], traj_inidirect[1])"
   ]
  },
  {
   "cell_type": "code",
   "execution_count": null,
   "metadata": {},
   "outputs": [],
   "source": [
    "function run_trajopt()\n",
    "    Bilevel.solve_rosenbrock() # clearing SNOPT\n",
    "    Bilevel.trajopt(sim_data, x0=x0, x_min=x_min, x_max=x_max, verbose=0, opt_tol=obj_tol, major_feas=con_tol, minor_feas=con_tol, max_iter=max_iter)\n",
    "end\n",
    "\n",
    "@benchmark run_trajopt()"
   ]
  },
  {
   "cell_type": "markdown",
   "metadata": {},
   "source": [
    "# Trajectory optimization of little dog"
   ]
  },
  {
   "cell_type": "code",
   "execution_count": 2,
   "metadata": {},
   "outputs": [],
   "source": [
    "urdf = joinpath(\"..\", \"..\", \"urdf\", \"little_dog\", \"little_dog2d.urdf\")\n",
    "mechanism = parse_urdf(Float64, urdf)\n",
    "\n",
    "floor = findbody(mechanism, \"floor\")\n",
    "point = Point3D(default_frame(floor), SVector([0.,0.,0.]...))\n",
    "normal = FreeVector3D(default_frame(floor), SVector([0.,0.,1.]...))\n",
    "floor_obs = Obstacle(floor, point, normal, :xyz, 1.)\n",
    "\n",
    "obstacles = [floor_obs]\n",
    "env = Environment(mechanism, urdf, obstacles);"
   ]
  },
  {
   "cell_type": "code",
   "execution_count": 3,
   "metadata": {},
   "outputs": [
    {
     "name": "stderr",
     "output_type": "stream",
     "text": [
      "┌ Info: Serving MeshCat visualizer at http://127.0.0.1:8700\n",
      "└ @ MeshCat /home/blandry/.julia/packages/MeshCat/WlA0B/src/servers.jl:24\n"
     ]
    },
    {
     "data": {
      "text/plain": [
       "Process(`\u001b[4mxdg-open\u001b[24m \u001b[4mhttp://127.0.0.1:8700\u001b[24m`, ProcessExited(0))"
      ]
     },
     "execution_count": 3,
     "metadata": {},
     "output_type": "execute_result"
    },
    {
     "name": "stdout",
     "output_type": "stream",
     "text": [
      "Created new window in existing browser session.\n"
     ]
    }
   ],
   "source": [
    "mvis = MechanismVisualizer(mechanism, URDFVisuals(urdf));\n",
    "open(mvis)"
   ]
  },
  {
   "cell_type": "code",
   "execution_count": 4,
   "metadata": {},
   "outputs": [],
   "source": [
    "N = 8\n",
    "Δt = 0.025\n",
    "q0 = [0., -.25, 0., 0.25, -0.25, 0.25, -0.25, pi/4, pi/4, pi/4, pi/4, -pi/2, -pi/2, -pi/2, -pi/2] \n",
    "v0 = zeros(num_velocities(mechanism))\n",
    "\n",
    "sim_data = get_sim_data_indirect(mechanism,env,Δt)\n",
    "null_ctrl! = (u,t,x) -> u[:] .= 0.\n",
    "x0 = MechanismState(mechanism)\n",
    "set_configuration!(x0, q0)\n",
    "set_velocity!(x0, v0)\n",
    "setdirty!(x0)\n",
    "traj_sim = Bilevel.simulate(sim_data,null_ctrl!,x0,N)\n",
    "setanimation!(mvis, traj_sim[6], traj_sim[1])"
   ]
  },
  {
   "cell_type": "code",
   "execution_count": 134,
   "metadata": {},
   "outputs": [],
   "source": [
    "set_configuration!(mvis, [0,-.2,0,0,0,0,0,0,0,0,0,-1.5,-1.5,0,0])"
   ]
  },
  {
   "cell_type": "code",
   "execution_count": 49,
   "metadata": {},
   "outputs": [
    {
     "data": {
      "text/plain": [
       "setup_prob! (generic function with 1 method)"
      ]
     },
     "execution_count": 49,
     "metadata": {},
     "output_type": "execute_result"
    }
   ],
   "source": [
    "q_nom = copy(traj_sim[1][end])\n",
    "q_min = min.(q_nom, [-5., -.5, -0.1*pi, 0.25, -0.25, 0.25, -0.25, -3.5, -3.5, -3.5, -3.5, -3.1, -3.1, -3.1, -3.1])\n",
    "# q_min = min.(q_nom, [-5., -.5, -0.1*pi, 0.25, -0.25, 0.25, -0.25, -3.5, -3.5, -3.5, -3.5, -1.5, -1.5, -3.1, -3.1])\n",
    "# q_min = min.(q_nom, [-5., -.5, -0.05*pi, 0.25, -0.25, 0.25, -0.25, -3.5, -3.5, -3.5, -3.5, -3.1, -3.1, -3.1, -3.1])\n",
    "q_max = max.(q_nom, [5., -0.07, 0.05*pi, 0.25, -0.25, 0.25, -0.25, 2.4, 2.4, 2.4, 2.4, 1., 1., 1., 1.])\n",
    "\n",
    "# x_goal = 0.25\n",
    "x_goal = .225\n",
    "N = 12\n",
    "Δt = 0.05\n",
    "\n",
    "function add_prob_constraints!(sim_data)\n",
    "    vs = sim_data.vs\n",
    "\n",
    "    add_eq!(sim_data, :cq1x, 1, x -> vs(x, :q1)[1])\n",
    "    add_eq!(sim_data, :cv1, num_velocities(mechanism), x -> vs(x, :v1))\n",
    "\n",
    "    add_ineq!(sim_data, :cqNx, 1, x -> x_goal - vs(x, Symbol(\"q\", N))[1])\n",
    "    \n",
    "    add_eq!(sim_data, :cqN, num_positions(mechanism)-1, x -> vs(x, Symbol(\"q\", N))[2:end] - vs(x, :q1)[2:end])\n",
    "    add_eq!(sim_data, :cvN, num_velocities(mechanism), x -> vs(x, Symbol(\"v\", N)))\n",
    "    \n",
    "    # symmetry\n",
    "    for n = 1:N\n",
    "        add_eq!(sim_data, Symbol(\"cqSym1_\", n), 1, x -> vs(x, Symbol(\"q\", n))[8] - vs(x, Symbol(\"q\", n))[9])\n",
    "        add_eq!(sim_data, Symbol(\"cqSym2_\", n), 1, x -> vs(x, Symbol(\"q\", n))[10] - vs(x, Symbol(\"q\", n))[11])\n",
    "        add_eq!(sim_data, Symbol(\"cqSym3_\", n), 1, x -> vs(x, Symbol(\"q\", n))[12] - vs(x, Symbol(\"q\", n))[13]) \n",
    "        add_eq!(sim_data, Symbol(\"cqSym4_\", n), 1, x -> vs(x, Symbol(\"q\", n))[14] - vs(x, Symbol(\"q\", n))[15]) \n",
    "    end\n",
    "    \n",
    "#     # start at stance (optional for gait)\n",
    "#     cn0 = .5\n",
    "#     add_ineq!(sim_data, Symbol(\"cn1_\", 1), 1, x -> cn0 .- vs(x, Symbol(\"c_n1_\", 1)))\n",
    "#     add_ineq!(sim_data, Symbol(\"cn2_\", 1), 1, x -> cn0 .- vs(x, Symbol(\"c_n2_\", 1)))\n",
    "#     add_ineq!(sim_data, Symbol(\"cn3_\", 1), 1, x -> cn0 .- vs(x, Symbol(\"c_n3_\", 1)))\n",
    "#     add_ineq!(sim_data, Symbol(\"cn4_\", 1), 1, x -> cn0 .- vs(x, Symbol(\"c_n4_\", 1)))\n",
    "    \n",
    "    # middle should be contact free\n",
    "    flight_start = 6\n",
    "    flight_end = 6\n",
    "    for n = flight_start:flight_end\n",
    "        add_eq!(sim_data, Symbol(\"cn1f_\", n), 1, x -> vs(x, Symbol(\"c_n1_\", n)))\n",
    "        add_eq!(sim_data, Symbol(\"cn2f_\", n), 1, x -> vs(x, Symbol(\"c_n2_\", n)))\n",
    "        add_eq!(sim_data, Symbol(\"cn3f_\", n), 1, x -> vs(x, Symbol(\"c_n3_\", n)))\n",
    "        add_eq!(sim_data, Symbol(\"cn4f_\", n), 1, x -> vs(x, Symbol(\"c_n4_\", n)))\n",
    "    end\n",
    "end\n",
    "\n",
    "function add_prob_obj!(sim_data)\n",
    "    vs = sim_data.vs    \n",
    "#     for n = 1:N\n",
    "#         add_obj!(sim_data, Symbol(\"v\", n), x -> sim_data.vs(x, Symbol(\"v\", n))' * sim_data.vs(x, Symbol(\"v\", n)))\n",
    "#     end\n",
    "end\n",
    "\n",
    "function get_prob_limits(sim_data)\n",
    "    x_min = -1e12*ones(sim_data.vs.num_vars)\n",
    "    x_max = 1e12*ones(sim_data.vs.num_vars)\n",
    "    \n",
    "    # joint limits\n",
    "    add_box_con_snopt!(x_min, x_max, sim_data, :q, q_min, q_max, 1:N)\n",
    "    add_box_con_snopt!(x_min, x_max, sim_data, :h, [Δt], [Δt], 1:N-1)\n",
    "    \n",
    "    # torques limits\n",
    "    u_mag_max = 5.\n",
    "    u_min = vcat(zeros(3), -u_mag_max * ones(12))\n",
    "    u_max = vcat(zeros(3), u_mag_max * ones(12))\n",
    "    add_box_con_snopt!(x_min, x_max, sim_data, :u, u_min, u_max, 1:N-1)\n",
    "    \n",
    "    # joint velocity limits\n",
    "    v_mag_max = 20.\n",
    "    v_min = vcat(-1e12*ones(3), -v_mag_max * ones(12))\n",
    "    v_max = vcat(1e12*ones(3), v_mag_max * ones(12))\n",
    "    add_box_con_snopt!(x_min, x_max, sim_data, :v, v_min, v_max, 1:N)\n",
    "    \n",
    "    x_min, x_max\n",
    "end\n",
    "\n",
    "function get_prob_init(sim_data)\n",
    "    x0 = zeros(sim_data.vs.num_vars)\n",
    "    for n = 1:N\n",
    "        qn = copy(q_nom)\n",
    "        qn[1] = (n/N)*(x_goal - 0.) + 0.\n",
    "        x0[sim_data.vs(Symbol(\"q\", n))] .= qn\n",
    "    end\n",
    "    \n",
    "    x0\n",
    "end\n",
    "\n",
    "function setup_prob!(sim_data)\n",
    "    add_prob_constraints!(sim_data)\n",
    "    add_prob_obj!(sim_data)\n",
    "    x_min, x_max = get_prob_limits(sim_data)\n",
    "    x0 = get_prob_init(sim_data)\n",
    "    \n",
    "    x0, x_min, x_max\n",
    "end"
   ]
  },
  {
   "cell_type": "code",
   "execution_count": 50,
   "metadata": {},
   "outputs": [],
   "source": [
    "# Semidirect\n",
    "\n",
    "sim_data = get_trajopt_data_semidirect(mechanism,env,Δt,N,relax_comp=false)\n",
    "x0, x_min, x_max = setup_prob!(sim_data);"
   ]
  },
  {
   "cell_type": "code",
   "execution_count": 54,
   "metadata": {},
   "outputs": [
    {
     "data": {
      "text/plain": [
       "(Array{Float64,1}[[0.0, -0.07, 0.152822, 0.242842, -0.242842, 0.24235, -0.24918, -0.831599, -0.831599, 0.188171, 0.188171, -1.1266, -1.1266, -1.43058, -1.43058], [0.0246536, -0.122341, -0.279719, 0.239873, -0.239873, 0.243926, -0.237886, -0.0836968, -0.0836968, 0.800309, 0.800309, -0.384648, -0.384648, -1.45649, -1.45649], [0.0480657, -0.175071, -0.254151, 0.249541, -0.249328, 0.24235, -0.25, 0.916303, 0.916303, 0.964926, 0.964926, 0.0355577, 0.0355577, -0.464437, -0.464437], [0.0655601, -0.20654, -0.100132, 0.242552, -0.25, 0.24235, -0.238795, 0.176559, 0.176559, 0.105392, 0.105392, -0.359106, -0.359106, -0.89591, -0.89591], [0.0897829, -0.211345, -0.0950896, 0.225114, -0.225608, 0.249421, -0.248775, -0.195168, -0.195168, 1.10539, 1.10539, 0.559463, 0.559463, -0.915815, -0.915815], [0.114795, -0.195958, 0.0194413, 0.215609, -0.215432, 0.247891, -0.244183, 0.125836, 0.125836, 0.593699, 0.593699, -0.440537, -0.440537, -1.4774, -1.4774], [0.141692, -0.156284, 0.15708, 0.215236, -0.21524, 0.25, -0.25, -0.344256, -0.344256, 0.25946, 0.25946, -1.44054, -1.44054, -2.06111, -2.06111], [0.176762, -0.151395, -0.0151309, 0.21524, -0.21524, 0.24235, -0.237886, 0.655744, 0.655744, 0.176094, 0.176094, -0.800588, -0.800588, -1.7377, -1.7377], [0.203187, -0.122985, -0.123291, 0.25, -0.25, 0.249822, -0.249638, 0.151338, 0.151338, 0.029587, 0.029587, -1.3433, -1.3433, -1.75199, -1.75199], [0.228, -0.0710518, -0.314159, 0.215236, -0.21524, 0.25, -0.25, -0.0494837, -0.0494837, 1.02959, 1.02959, -1.06717, -1.06717, -2.29784, -2.29784], [0.225, -0.07, 0.152822, 0.242842, -0.242842, 0.24235, -0.24918, -0.831599, -0.831599, 0.188171, 0.188171, -1.1266, -1.1266, -1.43058, -1.43058], [0.225, -0.07, 0.152822, 0.242842, -0.242842, 0.24235, -0.24918, -0.831599, -0.831599, 0.188171, 0.188171, -1.1266, -1.1266, -1.43058, -1.43058]], Array{Float64,1}[[2.0715e-18, 0.0, 0.0, 0.0, 0.0, 0.0, 0.0, 0.0, 0.0, 0.0, 0.0, 0.0, 0.0, 0.0, 0.0], [0.762921, -0.870004, -8.65083, -0.0593662, 0.0593668, 0.0315153, 0.225886, 14.958, 14.958, 12.2428, 12.2428, 14.8389, 14.8389, -0.518123, -0.518123], [0.718351, -0.902993, 0.511376, 0.193352, -0.189095, -0.0315153, -0.242288, 20.0, 20.0, 3.29234, 3.29234, 8.40411, 8.40411, 19.841, 19.841], [0.411053, -0.59126, 3.08038, -0.139773, -0.0134392, 4.59702e-16, 0.2241, -14.7949, -14.7949, -17.1907, -17.1907, -7.89328, -7.89328, -8.62946, -8.62946], [0.491391, -0.0496676, 0.100843, -0.348763, 0.487845, 0.141417, -0.199604, -7.43453, -7.43453, 20.0, 20.0, 18.3714, 18.3714, -0.398086, -0.398086], [0.506128, 0.297973, 2.29062, -0.190099, 0.203523, -0.0305877, 0.0918426, 6.42007, 6.42007, -10.2339, -10.2339, -20.0, -20.0, -11.2316, -11.2316], [0.655446, 0.699544, 2.75277, -0.00746736, 0.00383236, 0.042173, -0.116338, -9.40183, -9.40183, -6.68477, -6.68477, -20.0, -20.0, -11.6744, -11.6744], [0.699835, 0.108386, -3.44421, 8.45916e-5, -6.18602e-15, -0.153002, 0.242288, 20.0, 20.0, -1.66733, -1.66733, 12.799, 12.799, 6.46827, 6.46827], [0.454611, 0.62889, -2.16321, 0.6952, -0.6952, 0.149441, -0.235056, -10.0881, -10.0881, -2.93014, -2.93014, -10.8542, -10.8542, -0.285687, -0.285687], [0.151007, 1.14117, -3.81736, -0.695285, 0.6952, 0.00356063, -0.00723208, -4.01644, -4.01644, 20.0, 20.0, 5.52254, 5.52254, -10.917, -10.917], [-0.0560923, 0.0299232, 9.33963, 0.552116, -0.552032, -0.153002, 0.0164014, -15.6423, -15.6423, -16.8283, -16.8283, -1.18848, -1.18848, 17.3452, 17.3452], [-1.36346e-16, 5.57647e-14, 0.0, 0.0, 0.0, 0.0, 0.0, 0.0, 0.0, 0.0, 0.0, 0.0, 0.0, 0.0, 0.0]], Array{Float64,1}[[0.0, 0.0, 0.0, -1.02161, 1.12702, 0.0749651, 0.801305, -0.0255517, -0.0234402, -0.00970275, -0.29239, -0.819834, -0.889179, -0.0117076, 0.704066], [0.0, 0.0, 0.0, -0.0165356, 0.0165475, 0.162105, 0.794053, 0.191911, 0.191916, 0.13828, -0.543602, 0.0397906, 0.0397918, 0.0123109, 0.829947], [0.0, 0.0, 0.0, -0.0803995, 0.0792215, 0.019067, -0.0145945, -0.449972, -0.449865, -0.258296, -0.258947, -0.109844, -0.109835, -0.0874941, -0.0875394], [0.0, 0.0, 0.0, 0.033177, -0.0294213, -0.017217, 0.0142191, 0.0863455, 0.0863714, 0.416381, 0.416072, 0.0430473, 0.0430978, 0.0643798, 0.0642819], [0.0, 0.0, 0.0, -0.011131, 0.0095245, -0.0262827, 0.0229144, 0.110925, 0.11089, -0.288253, -0.288265, -0.0126362, -0.0126145, -0.0774914, -0.0774664], [0.0, 0.0, 0.0, -0.00947748, 0.00926292, 0.00832326, -0.00852053, -0.151071, -0.151071, 0.0353655, 0.035449, -0.0474642, -0.0474662, -0.00106654, -0.00109675], [0.0, 0.0, 0.0, -0.394357, 1.57859, 0.0572417, -0.0506612, -0.880103, -3.18506, -0.0118927, -0.0124905, -0.395056, -1.25093, 0.00706668, 0.00711228], [0.0, 0.0, 0.0, -0.0167397, 0.0167388, 0.0264616, -0.0258791, -0.35979, -0.35979, -0.00407581, -0.00389236, -0.0988282, -0.0988282, -0.011235, -0.0112844], [0.0, 0.0, 0.0, 0.00539681, -0.00539799, -0.0163909, 0.0170416, 0.0511143, 0.0511145, 0.208971, 0.2089, 0.0180973, 0.0180973, -0.00744225, -0.00742437], [0.0, 0.0, 0.0, -0.231015, 0.322898, 0.234104, 2.38703, 0.159649, 0.212062, -0.00624153, 0.0624021, -0.208146, -0.276165, -0.0290642, 1.73644], [0.0, 0.0, 0.0, -0.5259, 0.172141, -0.0378015, 0.0362525, 0.310076, 0.107848, 0.0561963, 0.0557243, -0.503023, -0.240614, -0.00105531, -0.00102145]], [0.05, 0.05, 0.05, 0.05, 0.05, 0.05, 0.05, 0.05, 0.05, 0.05, 0.05], Array{Float64,1}[[1.19032, 1.29031, 0.0, 1.03169], [5.19579e-18, 5.73642e-18, 0.0, 1.18196], [-2.63029e-12, -1.37964e-12, 7.32302e-13, 1.74442e-12], [-7.62985e-14, 1.93107e-12, -1.76712e-12, -8.8448e-16], [4.82069e-13, 1.8724e-13, 2.3707e-12, -2.59108e-12], [0.0, 0.0, 0.0, 0.0], [0.606577, 1.83384, 8.44263e-13, -2.78204e-12], [-5.93551e-7, -5.93602e-7, -3.63034e-16, -3.89839e-14], [0.0, 0.0, -3.17524e-14, 0.0], [0.277688, 0.375853, 0.0, 2.55173], [0.707793, 0.329115, 0.0, -3.46945e-18]], Array{Float64,1}[], [0.0, 0.05, 0.1, 0.15, 0.2, 0.25, 0.3, 0.35, 0.4, 0.45, 0.5, 0.55], [0.0 0.0246536 … 0.225 0.225; -0.07 -0.122341 … -0.07 -0.07; … ; 0.0 -0.518123 … 17.3452 0.0; 0.0 -0.518123 … 17.3452 0.0], [0.0, -0.07, 0.152822, 0.242842, -0.242842, 0.24235, -0.24918, -0.831599, -0.831599, 0.188171  …  0.0, 0.0, 0.0, 0.0, 0.0, 0.0, 0.0, 0.0, 0.0, 0.0])"
      ]
     },
     "metadata": {},
     "output_type": "display_data"
    },
    {
     "name": "stdout",
     "output_type": "stream",
     "text": [
      "Finished successfully: optimality conditions satisfied\n",
      " 17.540388 seconds (40.91 M allocations: 9.171 GiB, 16.75% gc time)\n"
     ]
    }
   ],
   "source": [
    "con_tol = 1e-5\n",
    "obj_tol = 1e-5\n",
    "max_iter = 5000\n",
    "\n",
    "display(@time traj_semidirect = Bilevel.trajopt(sim_data, x0=x0, x_min=x_min, x_max=x_max, verbose=1, opt_tol=obj_tol, major_feas=con_tol, minor_feas=con_tol, max_iter=max_iter))\n",
    "\n",
    "x0 = traj_semidirect[9]\n",
    "\n",
    "setanimation!(mvis, traj_semidirect[7], traj_semidirect[1])"
   ]
  },
  {
   "cell_type": "code",
   "execution_count": 68,
   "metadata": {},
   "outputs": [
    {
     "data": {
      "text/plain": [
       "1"
      ]
     },
     "execution_count": 68,
     "metadata": {},
     "output_type": "execute_result"
    }
   ],
   "source": [
    "qi = 1"
   ]
  },
  {
   "cell_type": "code",
   "execution_count": 80,
   "metadata": {},
   "outputs": [
    {
     "data": {
      "text/plain": [
       "13"
      ]
     },
     "execution_count": 80,
     "metadata": {},
     "output_type": "execute_result"
    }
   ],
   "source": [
    "q = traj_semidirect[1][qi]\n",
    "set_configuration!(mvis, q) \n",
    "qi += 1"
   ]
  },
  {
   "cell_type": "code",
   "execution_count": null,
   "metadata": {},
   "outputs": [],
   "source": [
    "function run_trajopt()\n",
    "    Bilevel.solve_rosenbrock() # clearing SNOPT\n",
    "    Bilevel.trajopt(sim_data, x0=x0, x_min=x_min, x_max=x_max, verbose=0, opt_tol=obj_tol, major_feas=con_tol, minor_feas=con_tol, max_iter=max_iter)\n",
    "end\n",
    "\n",
    "@benchmark run_trajopt()"
   ]
  },
  {
   "cell_type": "code",
   "execution_count": 36,
   "metadata": {},
   "outputs": [
    {
     "data": {
      "text/plain": [
       "15.000000000000002"
      ]
     },
     "execution_count": 36,
     "metadata": {},
     "output_type": "execute_result"
    }
   ],
   "source": [
    "maximum(abs.(vcat(traj_semidirect[2]...)))"
   ]
  },
  {
   "cell_type": "code",
   "execution_count": 81,
   "metadata": {},
   "outputs": [],
   "source": [
    "cntraj = hcat(traj_semidirect[5]...)\n",
    "front_traj = cntraj[1,:] .+ cntraj[2,:]\n",
    "back_traj = cntraj[3,:] .+ cntraj[4,:];"
   ]
  },
  {
   "cell_type": "code",
   "execution_count": 82,
   "metadata": {},
   "outputs": [
    {
     "data": {
      "image/svg+xml": [
       "<?xml version=\"1.0\" encoding=\"utf-8\"?>\n",
       "<svg xmlns=\"http://www.w3.org/2000/svg\" xmlns:xlink=\"http://www.w3.org/1999/xlink\" width=\"600\" height=\"400\" viewBox=\"0 0 2400 1600\">\n",
       "<defs>\n",
       "  <clipPath id=\"clip5700\">\n",
       "    <rect x=\"0\" y=\"0\" width=\"2400\" height=\"1600\"/>\n",
       "  </clipPath>\n",
       "</defs>\n",
       "<polygon clip-path=\"url(#clip5700)\" points=\"\n",
       "0,1600 2400,1600 2400,0 0,0 \n",
       "  \" fill=\"#ffffff\" fill-rule=\"evenodd\" fill-opacity=\"1\"/>\n",
       "<defs>\n",
       "  <clipPath id=\"clip5701\">\n",
       "    <rect x=\"480\" y=\"0\" width=\"1681\" height=\"1600\"/>\n",
       "  </clipPath>\n",
       "</defs>\n",
       "<polygon clip-path=\"url(#clip5700)\" points=\"\n",
       "169.646,1471.73 2352.76,1471.73 2352.76,47.2441 169.646,47.2441 \n",
       "  \" fill=\"#ffffff\" fill-rule=\"evenodd\" fill-opacity=\"1\"/>\n",
       "<defs>\n",
       "  <clipPath id=\"clip5702\">\n",
       "    <rect x=\"169\" y=\"47\" width=\"2184\" height=\"1425\"/>\n",
       "  </clipPath>\n",
       "</defs>\n",
       "<polyline clip-path=\"url(#clip5702)\" style=\"stroke:#000000; stroke-width:2; stroke-opacity:0.1; fill:none\" points=\"\n",
       "  231.432,1471.73 231.432,47.2441 \n",
       "  \"/>\n",
       "<polyline clip-path=\"url(#clip5702)\" style=\"stroke:#000000; stroke-width:2; stroke-opacity:0.1; fill:none\" points=\"\n",
       "  643.34,1471.73 643.34,47.2441 \n",
       "  \"/>\n",
       "<polyline clip-path=\"url(#clip5702)\" style=\"stroke:#000000; stroke-width:2; stroke-opacity:0.1; fill:none\" points=\"\n",
       "  1055.25,1471.73 1055.25,47.2441 \n",
       "  \"/>\n",
       "<polyline clip-path=\"url(#clip5702)\" style=\"stroke:#000000; stroke-width:2; stroke-opacity:0.1; fill:none\" points=\"\n",
       "  1467.15,1471.73 1467.15,47.2441 \n",
       "  \"/>\n",
       "<polyline clip-path=\"url(#clip5702)\" style=\"stroke:#000000; stroke-width:2; stroke-opacity:0.1; fill:none\" points=\"\n",
       "  1879.06,1471.73 1879.06,47.2441 \n",
       "  \"/>\n",
       "<polyline clip-path=\"url(#clip5702)\" style=\"stroke:#000000; stroke-width:2; stroke-opacity:0.1; fill:none\" points=\"\n",
       "  2290.97,1471.73 2290.97,47.2441 \n",
       "  \"/>\n",
       "<polyline clip-path=\"url(#clip5702)\" style=\"stroke:#000000; stroke-width:2; stroke-opacity:0.1; fill:none\" points=\"\n",
       "  169.646,1431.41 2352.76,1431.41 \n",
       "  \"/>\n",
       "<polyline clip-path=\"url(#clip5702)\" style=\"stroke:#000000; stroke-width:2; stroke-opacity:0.1; fill:none\" points=\"\n",
       "  169.646,1168.09 2352.76,1168.09 \n",
       "  \"/>\n",
       "<polyline clip-path=\"url(#clip5702)\" style=\"stroke:#000000; stroke-width:2; stroke-opacity:0.1; fill:none\" points=\"\n",
       "  169.646,904.767 2352.76,904.767 \n",
       "  \"/>\n",
       "<polyline clip-path=\"url(#clip5702)\" style=\"stroke:#000000; stroke-width:2; stroke-opacity:0.1; fill:none\" points=\"\n",
       "  169.646,641.445 2352.76,641.445 \n",
       "  \"/>\n",
       "<polyline clip-path=\"url(#clip5702)\" style=\"stroke:#000000; stroke-width:2; stroke-opacity:0.1; fill:none\" points=\"\n",
       "  169.646,378.123 2352.76,378.123 \n",
       "  \"/>\n",
       "<polyline clip-path=\"url(#clip5702)\" style=\"stroke:#000000; stroke-width:2; stroke-opacity:0.1; fill:none\" points=\"\n",
       "  169.646,114.801 2352.76,114.801 \n",
       "  \"/>\n",
       "<polyline clip-path=\"url(#clip5700)\" style=\"stroke:#000000; stroke-width:4; stroke-opacity:1; fill:none\" points=\"\n",
       "  169.646,1471.73 2352.76,1471.73 \n",
       "  \"/>\n",
       "<polyline clip-path=\"url(#clip5700)\" style=\"stroke:#000000; stroke-width:4; stroke-opacity:1; fill:none\" points=\"\n",
       "  169.646,1471.73 169.646,47.2441 \n",
       "  \"/>\n",
       "<polyline clip-path=\"url(#clip5700)\" style=\"stroke:#000000; stroke-width:4; stroke-opacity:1; fill:none\" points=\"\n",
       "  231.432,1471.73 231.432,1450.36 \n",
       "  \"/>\n",
       "<polyline clip-path=\"url(#clip5700)\" style=\"stroke:#000000; stroke-width:4; stroke-opacity:1; fill:none\" points=\"\n",
       "  643.34,1471.73 643.34,1450.36 \n",
       "  \"/>\n",
       "<polyline clip-path=\"url(#clip5700)\" style=\"stroke:#000000; stroke-width:4; stroke-opacity:1; fill:none\" points=\"\n",
       "  1055.25,1471.73 1055.25,1450.36 \n",
       "  \"/>\n",
       "<polyline clip-path=\"url(#clip5700)\" style=\"stroke:#000000; stroke-width:4; stroke-opacity:1; fill:none\" points=\"\n",
       "  1467.15,1471.73 1467.15,1450.36 \n",
       "  \"/>\n",
       "<polyline clip-path=\"url(#clip5700)\" style=\"stroke:#000000; stroke-width:4; stroke-opacity:1; fill:none\" points=\"\n",
       "  1879.06,1471.73 1879.06,1450.36 \n",
       "  \"/>\n",
       "<polyline clip-path=\"url(#clip5700)\" style=\"stroke:#000000; stroke-width:4; stroke-opacity:1; fill:none\" points=\"\n",
       "  2290.97,1471.73 2290.97,1450.36 \n",
       "  \"/>\n",
       "<polyline clip-path=\"url(#clip5700)\" style=\"stroke:#000000; stroke-width:4; stroke-opacity:1; fill:none\" points=\"\n",
       "  169.646,1431.41 202.393,1431.41 \n",
       "  \"/>\n",
       "<polyline clip-path=\"url(#clip5700)\" style=\"stroke:#000000; stroke-width:4; stroke-opacity:1; fill:none\" points=\"\n",
       "  169.646,1168.09 202.393,1168.09 \n",
       "  \"/>\n",
       "<polyline clip-path=\"url(#clip5700)\" style=\"stroke:#000000; stroke-width:4; stroke-opacity:1; fill:none\" points=\"\n",
       "  169.646,904.767 202.393,904.767 \n",
       "  \"/>\n",
       "<polyline clip-path=\"url(#clip5700)\" style=\"stroke:#000000; stroke-width:4; stroke-opacity:1; fill:none\" points=\"\n",
       "  169.646,641.445 202.393,641.445 \n",
       "  \"/>\n",
       "<polyline clip-path=\"url(#clip5700)\" style=\"stroke:#000000; stroke-width:4; stroke-opacity:1; fill:none\" points=\"\n",
       "  169.646,378.123 202.393,378.123 \n",
       "  \"/>\n",
       "<polyline clip-path=\"url(#clip5700)\" style=\"stroke:#000000; stroke-width:4; stroke-opacity:1; fill:none\" points=\"\n",
       "  169.646,114.801 202.393,114.801 \n",
       "  \"/>\n",
       "<g clip-path=\"url(#clip5700)\">\n",
       "<text style=\"fill:#000000; fill-opacity:1; font-family:Arial,Helvetica Neue,Helvetica,sans-serif; font-size:48px; text-anchor:middle;\" transform=\"rotate(0, 231.432, 1525.73)\" x=\"231.432\" y=\"1525.73\">0.0</text>\n",
       "</g>\n",
       "<g clip-path=\"url(#clip5700)\">\n",
       "<text style=\"fill:#000000; fill-opacity:1; font-family:Arial,Helvetica Neue,Helvetica,sans-serif; font-size:48px; text-anchor:middle;\" transform=\"rotate(0, 643.34, 1525.73)\" x=\"643.34\" y=\"1525.73\">0.1</text>\n",
       "</g>\n",
       "<g clip-path=\"url(#clip5700)\">\n",
       "<text style=\"fill:#000000; fill-opacity:1; font-family:Arial,Helvetica Neue,Helvetica,sans-serif; font-size:48px; text-anchor:middle;\" transform=\"rotate(0, 1055.25, 1525.73)\" x=\"1055.25\" y=\"1525.73\">0.2</text>\n",
       "</g>\n",
       "<g clip-path=\"url(#clip5700)\">\n",
       "<text style=\"fill:#000000; fill-opacity:1; font-family:Arial,Helvetica Neue,Helvetica,sans-serif; font-size:48px; text-anchor:middle;\" transform=\"rotate(0, 1467.15, 1525.73)\" x=\"1467.15\" y=\"1525.73\">0.3</text>\n",
       "</g>\n",
       "<g clip-path=\"url(#clip5700)\">\n",
       "<text style=\"fill:#000000; fill-opacity:1; font-family:Arial,Helvetica Neue,Helvetica,sans-serif; font-size:48px; text-anchor:middle;\" transform=\"rotate(0, 1879.06, 1525.73)\" x=\"1879.06\" y=\"1525.73\">0.4</text>\n",
       "</g>\n",
       "<g clip-path=\"url(#clip5700)\">\n",
       "<text style=\"fill:#000000; fill-opacity:1; font-family:Arial,Helvetica Neue,Helvetica,sans-serif; font-size:48px; text-anchor:middle;\" transform=\"rotate(0, 2290.97, 1525.73)\" x=\"2290.97\" y=\"1525.73\">0.5</text>\n",
       "</g>\n",
       "<g clip-path=\"url(#clip5700)\">\n",
       "<text style=\"fill:#000000; fill-opacity:1; font-family:Arial,Helvetica Neue,Helvetica,sans-serif; font-size:48px; text-anchor:end;\" transform=\"rotate(0, 145.646, 1448.91)\" x=\"145.646\" y=\"1448.91\">0.0</text>\n",
       "</g>\n",
       "<g clip-path=\"url(#clip5700)\">\n",
       "<text style=\"fill:#000000; fill-opacity:1; font-family:Arial,Helvetica Neue,Helvetica,sans-serif; font-size:48px; text-anchor:end;\" transform=\"rotate(0, 145.646, 1185.59)\" x=\"145.646\" y=\"1185.59\">0.5</text>\n",
       "</g>\n",
       "<g clip-path=\"url(#clip5700)\">\n",
       "<text style=\"fill:#000000; fill-opacity:1; font-family:Arial,Helvetica Neue,Helvetica,sans-serif; font-size:48px; text-anchor:end;\" transform=\"rotate(0, 145.646, 922.267)\" x=\"145.646\" y=\"922.267\">1.0</text>\n",
       "</g>\n",
       "<g clip-path=\"url(#clip5700)\">\n",
       "<text style=\"fill:#000000; fill-opacity:1; font-family:Arial,Helvetica Neue,Helvetica,sans-serif; font-size:48px; text-anchor:end;\" transform=\"rotate(0, 145.646, 658.945)\" x=\"145.646\" y=\"658.945\">1.5</text>\n",
       "</g>\n",
       "<g clip-path=\"url(#clip5700)\">\n",
       "<text style=\"fill:#000000; fill-opacity:1; font-family:Arial,Helvetica Neue,Helvetica,sans-serif; font-size:48px; text-anchor:end;\" transform=\"rotate(0, 145.646, 395.623)\" x=\"145.646\" y=\"395.623\">2.0</text>\n",
       "</g>\n",
       "<g clip-path=\"url(#clip5700)\">\n",
       "<text style=\"fill:#000000; fill-opacity:1; font-family:Arial,Helvetica Neue,Helvetica,sans-serif; font-size:48px; text-anchor:end;\" transform=\"rotate(0, 145.646, 132.301)\" x=\"145.646\" y=\"132.301\">2.5</text>\n",
       "</g>\n",
       "<polyline clip-path=\"url(#clip5702)\" style=\"stroke:#e3ae33; stroke-width:24; stroke-opacity:1; fill:none\" points=\"\n",
       "  231.432,125.002 437.386,1431.41 643.34,1431.41 849.293,1431.41 1055.25,1431.41 1261.2,1431.41 1467.15,146.18 1673.11,1431.41 1879.06,1431.41 2085.02,1087.23 \n",
       "  2290.97,885.329 \n",
       "  \"/>\n",
       "<circle clip-path=\"url(#clip5702)\" style=\"fill:#000000; stroke:none; fill-opacity:1\" cx=\"231.432\" cy=\"125.002\" r=\"25\"/>\n",
       "<circle clip-path=\"url(#clip5702)\" style=\"fill:#e3ae33; stroke:none; fill-opacity:1\" cx=\"231.432\" cy=\"125.002\" r=\"21\"/>\n",
       "<circle clip-path=\"url(#clip5702)\" style=\"fill:#000000; stroke:none; fill-opacity:1\" cx=\"437.386\" cy=\"1431.41\" r=\"25\"/>\n",
       "<circle clip-path=\"url(#clip5702)\" style=\"fill:#e3ae33; stroke:none; fill-opacity:1\" cx=\"437.386\" cy=\"1431.41\" r=\"21\"/>\n",
       "<circle clip-path=\"url(#clip5702)\" style=\"fill:#000000; stroke:none; fill-opacity:1\" cx=\"643.34\" cy=\"1431.41\" r=\"25\"/>\n",
       "<circle clip-path=\"url(#clip5702)\" style=\"fill:#e3ae33; stroke:none; fill-opacity:1\" cx=\"643.34\" cy=\"1431.41\" r=\"21\"/>\n",
       "<circle clip-path=\"url(#clip5702)\" style=\"fill:#000000; stroke:none; fill-opacity:1\" cx=\"849.293\" cy=\"1431.41\" r=\"25\"/>\n",
       "<circle clip-path=\"url(#clip5702)\" style=\"fill:#e3ae33; stroke:none; fill-opacity:1\" cx=\"849.293\" cy=\"1431.41\" r=\"21\"/>\n",
       "<circle clip-path=\"url(#clip5702)\" style=\"fill:#000000; stroke:none; fill-opacity:1\" cx=\"1055.25\" cy=\"1431.41\" r=\"25\"/>\n",
       "<circle clip-path=\"url(#clip5702)\" style=\"fill:#e3ae33; stroke:none; fill-opacity:1\" cx=\"1055.25\" cy=\"1431.41\" r=\"21\"/>\n",
       "<circle clip-path=\"url(#clip5702)\" style=\"fill:#000000; stroke:none; fill-opacity:1\" cx=\"1261.2\" cy=\"1431.41\" r=\"25\"/>\n",
       "<circle clip-path=\"url(#clip5702)\" style=\"fill:#e3ae33; stroke:none; fill-opacity:1\" cx=\"1261.2\" cy=\"1431.41\" r=\"21\"/>\n",
       "<circle clip-path=\"url(#clip5702)\" style=\"fill:#000000; stroke:none; fill-opacity:1\" cx=\"1467.15\" cy=\"146.18\" r=\"25\"/>\n",
       "<circle clip-path=\"url(#clip5702)\" style=\"fill:#e3ae33; stroke:none; fill-opacity:1\" cx=\"1467.15\" cy=\"146.18\" r=\"21\"/>\n",
       "<circle clip-path=\"url(#clip5702)\" style=\"fill:#000000; stroke:none; fill-opacity:1\" cx=\"1673.11\" cy=\"1431.41\" r=\"25\"/>\n",
       "<circle clip-path=\"url(#clip5702)\" style=\"fill:#e3ae33; stroke:none; fill-opacity:1\" cx=\"1673.11\" cy=\"1431.41\" r=\"21\"/>\n",
       "<circle clip-path=\"url(#clip5702)\" style=\"fill:#000000; stroke:none; fill-opacity:1\" cx=\"1879.06\" cy=\"1431.41\" r=\"25\"/>\n",
       "<circle clip-path=\"url(#clip5702)\" style=\"fill:#e3ae33; stroke:none; fill-opacity:1\" cx=\"1879.06\" cy=\"1431.41\" r=\"21\"/>\n",
       "<circle clip-path=\"url(#clip5702)\" style=\"fill:#000000; stroke:none; fill-opacity:1\" cx=\"2085.02\" cy=\"1087.23\" r=\"25\"/>\n",
       "<circle clip-path=\"url(#clip5702)\" style=\"fill:#e3ae33; stroke:none; fill-opacity:1\" cx=\"2085.02\" cy=\"1087.23\" r=\"21\"/>\n",
       "<circle clip-path=\"url(#clip5702)\" style=\"fill:#000000; stroke:none; fill-opacity:1\" cx=\"2290.97\" cy=\"885.329\" r=\"25\"/>\n",
       "<circle clip-path=\"url(#clip5702)\" style=\"fill:#e3ae33; stroke:none; fill-opacity:1\" cx=\"2290.97\" cy=\"885.329\" r=\"21\"/>\n",
       "<polyline clip-path=\"url(#clip5702)\" style=\"stroke:#9a84c8; stroke-width:24; stroke-opacity:1; fill:none\" points=\"\n",
       "  231.432,888.079 437.386,808.937 643.34,1431.41 849.293,1431.41 1055.25,1431.41 1261.2,1431.41 1467.15,1431.41 1673.11,1431.41 1879.06,1431.41 2085.02,87.5596 \n",
       "  2290.97,1431.41 \n",
       "  \"/>\n",
       "<circle clip-path=\"url(#clip5702)\" style=\"fill:#000000; stroke:none; fill-opacity:1\" cx=\"231.432\" cy=\"888.079\" r=\"25\"/>\n",
       "<circle clip-path=\"url(#clip5702)\" style=\"fill:#9a84c8; stroke:none; fill-opacity:1\" cx=\"231.432\" cy=\"888.079\" r=\"21\"/>\n",
       "<circle clip-path=\"url(#clip5702)\" style=\"fill:#000000; stroke:none; fill-opacity:1\" cx=\"437.386\" cy=\"808.937\" r=\"25\"/>\n",
       "<circle clip-path=\"url(#clip5702)\" style=\"fill:#9a84c8; stroke:none; fill-opacity:1\" cx=\"437.386\" cy=\"808.937\" r=\"21\"/>\n",
       "<circle clip-path=\"url(#clip5702)\" style=\"fill:#000000; stroke:none; fill-opacity:1\" cx=\"643.34\" cy=\"1431.41\" r=\"25\"/>\n",
       "<circle clip-path=\"url(#clip5702)\" style=\"fill:#9a84c8; stroke:none; fill-opacity:1\" cx=\"643.34\" cy=\"1431.41\" r=\"21\"/>\n",
       "<circle clip-path=\"url(#clip5702)\" style=\"fill:#000000; stroke:none; fill-opacity:1\" cx=\"849.293\" cy=\"1431.41\" r=\"25\"/>\n",
       "<circle clip-path=\"url(#clip5702)\" style=\"fill:#9a84c8; stroke:none; fill-opacity:1\" cx=\"849.293\" cy=\"1431.41\" r=\"21\"/>\n",
       "<circle clip-path=\"url(#clip5702)\" style=\"fill:#000000; stroke:none; fill-opacity:1\" cx=\"1055.25\" cy=\"1431.41\" r=\"25\"/>\n",
       "<circle clip-path=\"url(#clip5702)\" style=\"fill:#9a84c8; stroke:none; fill-opacity:1\" cx=\"1055.25\" cy=\"1431.41\" r=\"21\"/>\n",
       "<circle clip-path=\"url(#clip5702)\" style=\"fill:#000000; stroke:none; fill-opacity:1\" cx=\"1261.2\" cy=\"1431.41\" r=\"25\"/>\n",
       "<circle clip-path=\"url(#clip5702)\" style=\"fill:#9a84c8; stroke:none; fill-opacity:1\" cx=\"1261.2\" cy=\"1431.41\" r=\"21\"/>\n",
       "<circle clip-path=\"url(#clip5702)\" style=\"fill:#000000; stroke:none; fill-opacity:1\" cx=\"1467.15\" cy=\"1431.41\" r=\"25\"/>\n",
       "<circle clip-path=\"url(#clip5702)\" style=\"fill:#9a84c8; stroke:none; fill-opacity:1\" cx=\"1467.15\" cy=\"1431.41\" r=\"21\"/>\n",
       "<circle clip-path=\"url(#clip5702)\" style=\"fill:#000000; stroke:none; fill-opacity:1\" cx=\"1673.11\" cy=\"1431.41\" r=\"25\"/>\n",
       "<circle clip-path=\"url(#clip5702)\" style=\"fill:#9a84c8; stroke:none; fill-opacity:1\" cx=\"1673.11\" cy=\"1431.41\" r=\"21\"/>\n",
       "<circle clip-path=\"url(#clip5702)\" style=\"fill:#000000; stroke:none; fill-opacity:1\" cx=\"1879.06\" cy=\"1431.41\" r=\"25\"/>\n",
       "<circle clip-path=\"url(#clip5702)\" style=\"fill:#9a84c8; stroke:none; fill-opacity:1\" cx=\"1879.06\" cy=\"1431.41\" r=\"21\"/>\n",
       "<circle clip-path=\"url(#clip5702)\" style=\"fill:#000000; stroke:none; fill-opacity:1\" cx=\"2085.02\" cy=\"87.5596\" r=\"25\"/>\n",
       "<circle clip-path=\"url(#clip5702)\" style=\"fill:#9a84c8; stroke:none; fill-opacity:1\" cx=\"2085.02\" cy=\"87.5596\" r=\"21\"/>\n",
       "<circle clip-path=\"url(#clip5702)\" style=\"fill:#000000; stroke:none; fill-opacity:1\" cx=\"2290.97\" cy=\"1431.41\" r=\"25\"/>\n",
       "<circle clip-path=\"url(#clip5702)\" style=\"fill:#9a84c8; stroke:none; fill-opacity:1\" cx=\"2290.97\" cy=\"1431.41\" r=\"21\"/>\n",
       "<polygon clip-path=\"url(#clip5700)\" points=\"\n",
       "1826.75,312.204 2280.76,312.204 2280.76,130.764 1826.75,130.764 \n",
       "  \" fill=\"#ffffff\" fill-rule=\"evenodd\" fill-opacity=\"1\"/>\n",
       "<polyline clip-path=\"url(#clip5700)\" style=\"stroke:#000000; stroke-width:4; stroke-opacity:1; fill:none\" points=\"\n",
       "  1826.75,312.204 2280.76,312.204 2280.76,130.764 1826.75,130.764 1826.75,312.204 \n",
       "  \"/>\n",
       "<polyline clip-path=\"url(#clip5700)\" style=\"stroke:#e3ae33; stroke-width:24; stroke-opacity:1; fill:none\" points=\"\n",
       "  1850.75,191.244 1994.75,191.244 \n",
       "  \"/>\n",
       "<circle clip-path=\"url(#clip5700)\" style=\"fill:#000000; stroke:none; fill-opacity:1\" cx=\"1934.75\" cy=\"191.244\" r=\"25\"/>\n",
       "<circle clip-path=\"url(#clip5700)\" style=\"fill:#e3ae33; stroke:none; fill-opacity:1\" cx=\"1934.75\" cy=\"191.244\" r=\"21\"/>\n",
       "<g clip-path=\"url(#clip5700)\">\n",
       "<text style=\"fill:#000000; fill-opacity:1; font-family:Arial,Helvetica Neue,Helvetica,sans-serif; font-size:48px; text-anchor:start;\" transform=\"rotate(0, 2018.75, 208.744)\" x=\"2018.75\" y=\"208.744\">Front legs</text>\n",
       "</g>\n",
       "<polyline clip-path=\"url(#clip5700)\" style=\"stroke:#9a84c8; stroke-width:24; stroke-opacity:1; fill:none\" points=\"\n",
       "  1850.75,251.724 1994.75,251.724 \n",
       "  \"/>\n",
       "<circle clip-path=\"url(#clip5700)\" style=\"fill:#000000; stroke:none; fill-opacity:1\" cx=\"1934.75\" cy=\"251.724\" r=\"25\"/>\n",
       "<circle clip-path=\"url(#clip5700)\" style=\"fill:#9a84c8; stroke:none; fill-opacity:1\" cx=\"1934.75\" cy=\"251.724\" r=\"21\"/>\n",
       "<g clip-path=\"url(#clip5700)\">\n",
       "<text style=\"fill:#000000; fill-opacity:1; font-family:Arial,Helvetica Neue,Helvetica,sans-serif; font-size:48px; text-anchor:start;\" transform=\"rotate(0, 2018.75, 269.224)\" x=\"2018.75\" y=\"269.224\">Back legs</text>\n",
       "</g>\n",
       "</svg>\n"
      ]
     },
     "execution_count": 82,
     "metadata": {},
     "output_type": "execute_result"
    },
    {
     "name": "stderr",
     "output_type": "stream",
     "text": [
      "latex: failed to create a dvi file\n",
      "latex: failed to create a dvi file\n",
      "latex: failed to create a dvi file\n",
      "latex: failed to create a dvi file\n",
      "latex: failed to create a dvi file\n",
      "latex: failed to create a dvi file\n",
      "latex: failed to create a dvi file\n",
      "latex: failed to create a dvi file\n"
     ]
    }
   ],
   "source": [
    "xlabel=latexstring(\"t\")\n",
    "ylabel=latexstring(\"c_n\")\n",
    "plot(traj_semidirect[7][1:end-1],front_traj,label=\"Front legs\",seriescolor=RGB(((227,174,51) ./ 255.)...),linewidth=6,marker=6,xlabel=xlabel)\n",
    "plot!(traj_semidirect[7][1:end-1],back_traj,label=\"Back legs\",seriescolor=RGB(((154,132,200) ./ 255.)...),linewidth=6,marker=6,ylabel=ylabel)"
   ]
  },
  {
   "cell_type": "code",
   "execution_count": 40,
   "metadata": {},
   "outputs": [
    {
     "name": "stderr",
     "output_type": "stream",
     "text": [
      "latex: failed to create a dvi file\n",
      "latex: failed to create a dvi file\n",
      "latex: failed to create a dvi file\n",
      "latex: failed to create a dvi file\n",
      "latex: failed to create a dvi file\n",
      "latex: failed to create a dvi file\n",
      "latex: failed to create a dvi file\n",
      "latex: failed to create a dvi file\n"
     ]
    }
   ],
   "source": [
    "savefig(string(\"littledog_2.svg\")) "
   ]
  },
  {
   "cell_type": "code",
   "execution_count": 83,
   "metadata": {},
   "outputs": [
    {
     "data": {
      "image/svg+xml": [
       "<?xml version=\"1.0\" encoding=\"utf-8\"?>\n",
       "<svg xmlns=\"http://www.w3.org/2000/svg\" xmlns:xlink=\"http://www.w3.org/1999/xlink\" width=\"600\" height=\"400\" viewBox=\"0 0 2400 1600\">\n",
       "<defs>\n",
       "  <clipPath id=\"clip6100\">\n",
       "    <rect x=\"0\" y=\"0\" width=\"2400\" height=\"1600\"/>\n",
       "  </clipPath>\n",
       "</defs>\n",
       "<polygon clip-path=\"url(#clip6100)\" points=\"\n",
       "0,1600 2400,1600 2400,0 0,0 \n",
       "  \" fill=\"#ffffff\" fill-rule=\"evenodd\" fill-opacity=\"1\"/>\n",
       "<defs>\n",
       "  <clipPath id=\"clip6101\">\n",
       "    <rect x=\"480\" y=\"0\" width=\"1681\" height=\"1600\"/>\n",
       "  </clipPath>\n",
       "</defs>\n",
       "<polygon clip-path=\"url(#clip6100)\" points=\"\n",
       "196.408,1471.73 2352.76,1471.73 2352.76,47.2441 196.408,47.2441 \n",
       "  \" fill=\"#ffffff\" fill-rule=\"evenodd\" fill-opacity=\"1\"/>\n",
       "<defs>\n",
       "  <clipPath id=\"clip6102\">\n",
       "    <rect x=\"196\" y=\"47\" width=\"2157\" height=\"1425\"/>\n",
       "  </clipPath>\n",
       "</defs>\n",
       "<polyline clip-path=\"url(#clip6102)\" style=\"stroke:#000000; stroke-width:2; stroke-opacity:0.1; fill:none\" points=\"\n",
       "  257.437,1471.73 257.437,47.2441 \n",
       "  \"/>\n",
       "<polyline clip-path=\"url(#clip6102)\" style=\"stroke:#000000; stroke-width:2; stroke-opacity:0.1; fill:none\" points=\"\n",
       "  703.554,1471.73 703.554,47.2441 \n",
       "  \"/>\n",
       "<polyline clip-path=\"url(#clip6102)\" style=\"stroke:#000000; stroke-width:2; stroke-opacity:0.1; fill:none\" points=\"\n",
       "  1149.67,1471.73 1149.67,47.2441 \n",
       "  \"/>\n",
       "<polyline clip-path=\"url(#clip6102)\" style=\"stroke:#000000; stroke-width:2; stroke-opacity:0.1; fill:none\" points=\"\n",
       "  1595.79,1471.73 1595.79,47.2441 \n",
       "  \"/>\n",
       "<polyline clip-path=\"url(#clip6102)\" style=\"stroke:#000000; stroke-width:2; stroke-opacity:0.1; fill:none\" points=\"\n",
       "  2041.9,1471.73 2041.9,47.2441 \n",
       "  \"/>\n",
       "<polyline clip-path=\"url(#clip6102)\" style=\"stroke:#000000; stroke-width:2; stroke-opacity:0.1; fill:none\" points=\"\n",
       "  196.408,1336.34 2352.76,1336.34 \n",
       "  \"/>\n",
       "<polyline clip-path=\"url(#clip6102)\" style=\"stroke:#000000; stroke-width:2; stroke-opacity:0.1; fill:none\" points=\"\n",
       "  196.408,1146.18 2352.76,1146.18 \n",
       "  \"/>\n",
       "<polyline clip-path=\"url(#clip6102)\" style=\"stroke:#000000; stroke-width:2; stroke-opacity:0.1; fill:none\" points=\"\n",
       "  196.408,956.032 2352.76,956.032 \n",
       "  \"/>\n",
       "<polyline clip-path=\"url(#clip6102)\" style=\"stroke:#000000; stroke-width:2; stroke-opacity:0.1; fill:none\" points=\"\n",
       "  196.408,765.881 2352.76,765.881 \n",
       "  \"/>\n",
       "<polyline clip-path=\"url(#clip6102)\" style=\"stroke:#000000; stroke-width:2; stroke-opacity:0.1; fill:none\" points=\"\n",
       "  196.408,575.729 2352.76,575.729 \n",
       "  \"/>\n",
       "<polyline clip-path=\"url(#clip6102)\" style=\"stroke:#000000; stroke-width:2; stroke-opacity:0.1; fill:none\" points=\"\n",
       "  196.408,385.578 2352.76,385.578 \n",
       "  \"/>\n",
       "<polyline clip-path=\"url(#clip6102)\" style=\"stroke:#000000; stroke-width:2; stroke-opacity:0.1; fill:none\" points=\"\n",
       "  196.408,195.426 2352.76,195.426 \n",
       "  \"/>\n",
       "<polyline clip-path=\"url(#clip6100)\" style=\"stroke:#000000; stroke-width:4; stroke-opacity:1; fill:none\" points=\"\n",
       "  196.408,1471.73 2352.76,1471.73 \n",
       "  \"/>\n",
       "<polyline clip-path=\"url(#clip6100)\" style=\"stroke:#000000; stroke-width:4; stroke-opacity:1; fill:none\" points=\"\n",
       "  196.408,1471.73 196.408,47.2441 \n",
       "  \"/>\n",
       "<polyline clip-path=\"url(#clip6100)\" style=\"stroke:#000000; stroke-width:4; stroke-opacity:1; fill:none\" points=\"\n",
       "  257.437,1471.73 257.437,1450.36 \n",
       "  \"/>\n",
       "<polyline clip-path=\"url(#clip6100)\" style=\"stroke:#000000; stroke-width:4; stroke-opacity:1; fill:none\" points=\"\n",
       "  703.554,1471.73 703.554,1450.36 \n",
       "  \"/>\n",
       "<polyline clip-path=\"url(#clip6100)\" style=\"stroke:#000000; stroke-width:4; stroke-opacity:1; fill:none\" points=\"\n",
       "  1149.67,1471.73 1149.67,1450.36 \n",
       "  \"/>\n",
       "<polyline clip-path=\"url(#clip6100)\" style=\"stroke:#000000; stroke-width:4; stroke-opacity:1; fill:none\" points=\"\n",
       "  1595.79,1471.73 1595.79,1450.36 \n",
       "  \"/>\n",
       "<polyline clip-path=\"url(#clip6100)\" style=\"stroke:#000000; stroke-width:4; stroke-opacity:1; fill:none\" points=\"\n",
       "  2041.9,1471.73 2041.9,1450.36 \n",
       "  \"/>\n",
       "<polyline clip-path=\"url(#clip6100)\" style=\"stroke:#000000; stroke-width:4; stroke-opacity:1; fill:none\" points=\"\n",
       "  196.408,1336.34 228.754,1336.34 \n",
       "  \"/>\n",
       "<polyline clip-path=\"url(#clip6100)\" style=\"stroke:#000000; stroke-width:4; stroke-opacity:1; fill:none\" points=\"\n",
       "  196.408,1146.18 228.754,1146.18 \n",
       "  \"/>\n",
       "<polyline clip-path=\"url(#clip6100)\" style=\"stroke:#000000; stroke-width:4; stroke-opacity:1; fill:none\" points=\"\n",
       "  196.408,956.032 228.754,956.032 \n",
       "  \"/>\n",
       "<polyline clip-path=\"url(#clip6100)\" style=\"stroke:#000000; stroke-width:4; stroke-opacity:1; fill:none\" points=\"\n",
       "  196.408,765.881 228.754,765.881 \n",
       "  \"/>\n",
       "<polyline clip-path=\"url(#clip6100)\" style=\"stroke:#000000; stroke-width:4; stroke-opacity:1; fill:none\" points=\"\n",
       "  196.408,575.729 228.754,575.729 \n",
       "  \"/>\n",
       "<polyline clip-path=\"url(#clip6100)\" style=\"stroke:#000000; stroke-width:4; stroke-opacity:1; fill:none\" points=\"\n",
       "  196.408,385.578 228.754,385.578 \n",
       "  \"/>\n",
       "<polyline clip-path=\"url(#clip6100)\" style=\"stroke:#000000; stroke-width:4; stroke-opacity:1; fill:none\" points=\"\n",
       "  196.408,195.426 228.754,195.426 \n",
       "  \"/>\n",
       "<g clip-path=\"url(#clip6100)\">\n",
       "<text style=\"fill:#000000; fill-opacity:1; font-family:Arial,Helvetica Neue,Helvetica,sans-serif; font-size:48px; text-anchor:middle;\" transform=\"rotate(0, 257.437, 1525.73)\" x=\"257.437\" y=\"1525.73\">0.00</text>\n",
       "</g>\n",
       "<g clip-path=\"url(#clip6100)\">\n",
       "<text style=\"fill:#000000; fill-opacity:1; font-family:Arial,Helvetica Neue,Helvetica,sans-serif; font-size:48px; text-anchor:middle;\" transform=\"rotate(0, 703.554, 1525.73)\" x=\"703.554\" y=\"1525.73\">0.05</text>\n",
       "</g>\n",
       "<g clip-path=\"url(#clip6100)\">\n",
       "<text style=\"fill:#000000; fill-opacity:1; font-family:Arial,Helvetica Neue,Helvetica,sans-serif; font-size:48px; text-anchor:middle;\" transform=\"rotate(0, 1149.67, 1525.73)\" x=\"1149.67\" y=\"1525.73\">0.10</text>\n",
       "</g>\n",
       "<g clip-path=\"url(#clip6100)\">\n",
       "<text style=\"fill:#000000; fill-opacity:1; font-family:Arial,Helvetica Neue,Helvetica,sans-serif; font-size:48px; text-anchor:middle;\" transform=\"rotate(0, 1595.79, 1525.73)\" x=\"1595.79\" y=\"1525.73\">0.15</text>\n",
       "</g>\n",
       "<g clip-path=\"url(#clip6100)\">\n",
       "<text style=\"fill:#000000; fill-opacity:1; font-family:Arial,Helvetica Neue,Helvetica,sans-serif; font-size:48px; text-anchor:middle;\" transform=\"rotate(0, 2041.9, 1525.73)\" x=\"2041.9\" y=\"1525.73\">0.20</text>\n",
       "</g>\n",
       "<g clip-path=\"url(#clip6100)\">\n",
       "<text style=\"fill:#000000; fill-opacity:1; font-family:Arial,Helvetica Neue,Helvetica,sans-serif; font-size:48px; text-anchor:end;\" transform=\"rotate(0, 172.408, 1353.84)\" x=\"172.408\" y=\"1353.84\">0.08</text>\n",
       "</g>\n",
       "<g clip-path=\"url(#clip6100)\">\n",
       "<text style=\"fill:#000000; fill-opacity:1; font-family:Arial,Helvetica Neue,Helvetica,sans-serif; font-size:48px; text-anchor:end;\" transform=\"rotate(0, 172.408, 1163.68)\" x=\"172.408\" y=\"1163.68\">0.10</text>\n",
       "</g>\n",
       "<g clip-path=\"url(#clip6100)\">\n",
       "<text style=\"fill:#000000; fill-opacity:1; font-family:Arial,Helvetica Neue,Helvetica,sans-serif; font-size:48px; text-anchor:end;\" transform=\"rotate(0, 172.408, 973.532)\" x=\"172.408\" y=\"973.532\">0.12</text>\n",
       "</g>\n",
       "<g clip-path=\"url(#clip6100)\">\n",
       "<text style=\"fill:#000000; fill-opacity:1; font-family:Arial,Helvetica Neue,Helvetica,sans-serif; font-size:48px; text-anchor:end;\" transform=\"rotate(0, 172.408, 783.381)\" x=\"172.408\" y=\"783.381\">0.14</text>\n",
       "</g>\n",
       "<g clip-path=\"url(#clip6100)\">\n",
       "<text style=\"fill:#000000; fill-opacity:1; font-family:Arial,Helvetica Neue,Helvetica,sans-serif; font-size:48px; text-anchor:end;\" transform=\"rotate(0, 172.408, 593.229)\" x=\"172.408\" y=\"593.229\">0.16</text>\n",
       "</g>\n",
       "<g clip-path=\"url(#clip6100)\">\n",
       "<text style=\"fill:#000000; fill-opacity:1; font-family:Arial,Helvetica Neue,Helvetica,sans-serif; font-size:48px; text-anchor:end;\" transform=\"rotate(0, 172.408, 403.078)\" x=\"172.408\" y=\"403.078\">0.18</text>\n",
       "</g>\n",
       "<g clip-path=\"url(#clip6100)\">\n",
       "<text style=\"fill:#000000; fill-opacity:1; font-family:Arial,Helvetica Neue,Helvetica,sans-serif; font-size:48px; text-anchor:end;\" transform=\"rotate(0, 172.408, 212.926)\" x=\"172.408\" y=\"212.926\">0.20</text>\n",
       "</g>\n",
       "<polyline clip-path=\"url(#clip6102)\" style=\"stroke:#7fae33; stroke-width:24; stroke-opacity:1; fill:none\" points=\"\n",
       "  257.437,1431.41 477.405,933.774 686.295,432.441 842.387,133.243 1058.51,87.5596 1281.68,233.86 1521.66,611.057 1834.57,657.542 2070.34,927.656 2291.73,1421.41 \n",
       "  2264.96,1431.41 2264.96,1431.41 \n",
       "  \"/>\n",
       "<circle clip-path=\"url(#clip6102)\" style=\"fill:#000000; stroke:none; fill-opacity:1\" cx=\"257.437\" cy=\"1431.41\" r=\"25\"/>\n",
       "<circle clip-path=\"url(#clip6102)\" style=\"fill:#7fae33; stroke:none; fill-opacity:1\" cx=\"257.437\" cy=\"1431.41\" r=\"21\"/>\n",
       "<circle clip-path=\"url(#clip6102)\" style=\"fill:#000000; stroke:none; fill-opacity:1\" cx=\"477.405\" cy=\"933.774\" r=\"25\"/>\n",
       "<circle clip-path=\"url(#clip6102)\" style=\"fill:#7fae33; stroke:none; fill-opacity:1\" cx=\"477.405\" cy=\"933.774\" r=\"21\"/>\n",
       "<circle clip-path=\"url(#clip6102)\" style=\"fill:#000000; stroke:none; fill-opacity:1\" cx=\"686.295\" cy=\"432.441\" r=\"25\"/>\n",
       "<circle clip-path=\"url(#clip6102)\" style=\"fill:#7fae33; stroke:none; fill-opacity:1\" cx=\"686.295\" cy=\"432.441\" r=\"21\"/>\n",
       "<circle clip-path=\"url(#clip6102)\" style=\"fill:#000000; stroke:none; fill-opacity:1\" cx=\"842.387\" cy=\"133.243\" r=\"25\"/>\n",
       "<circle clip-path=\"url(#clip6102)\" style=\"fill:#7fae33; stroke:none; fill-opacity:1\" cx=\"842.387\" cy=\"133.243\" r=\"21\"/>\n",
       "<circle clip-path=\"url(#clip6102)\" style=\"fill:#000000; stroke:none; fill-opacity:1\" cx=\"1058.51\" cy=\"87.5596\" r=\"25\"/>\n",
       "<circle clip-path=\"url(#clip6102)\" style=\"fill:#7fae33; stroke:none; fill-opacity:1\" cx=\"1058.51\" cy=\"87.5596\" r=\"21\"/>\n",
       "<circle clip-path=\"url(#clip6102)\" style=\"fill:#000000; stroke:none; fill-opacity:1\" cx=\"1281.68\" cy=\"233.86\" r=\"25\"/>\n",
       "<circle clip-path=\"url(#clip6102)\" style=\"fill:#7fae33; stroke:none; fill-opacity:1\" cx=\"1281.68\" cy=\"233.86\" r=\"21\"/>\n",
       "<circle clip-path=\"url(#clip6102)\" style=\"fill:#000000; stroke:none; fill-opacity:1\" cx=\"1521.66\" cy=\"611.057\" r=\"25\"/>\n",
       "<circle clip-path=\"url(#clip6102)\" style=\"fill:#7fae33; stroke:none; fill-opacity:1\" cx=\"1521.66\" cy=\"611.057\" r=\"21\"/>\n",
       "<circle clip-path=\"url(#clip6102)\" style=\"fill:#000000; stroke:none; fill-opacity:1\" cx=\"1834.57\" cy=\"657.542\" r=\"25\"/>\n",
       "<circle clip-path=\"url(#clip6102)\" style=\"fill:#7fae33; stroke:none; fill-opacity:1\" cx=\"1834.57\" cy=\"657.542\" r=\"21\"/>\n",
       "<circle clip-path=\"url(#clip6102)\" style=\"fill:#000000; stroke:none; fill-opacity:1\" cx=\"2070.34\" cy=\"927.656\" r=\"25\"/>\n",
       "<circle clip-path=\"url(#clip6102)\" style=\"fill:#7fae33; stroke:none; fill-opacity:1\" cx=\"2070.34\" cy=\"927.656\" r=\"21\"/>\n",
       "<circle clip-path=\"url(#clip6102)\" style=\"fill:#000000; stroke:none; fill-opacity:1\" cx=\"2291.73\" cy=\"1421.41\" r=\"25\"/>\n",
       "<circle clip-path=\"url(#clip6102)\" style=\"fill:#7fae33; stroke:none; fill-opacity:1\" cx=\"2291.73\" cy=\"1421.41\" r=\"21\"/>\n",
       "<circle clip-path=\"url(#clip6102)\" style=\"fill:#000000; stroke:none; fill-opacity:1\" cx=\"2264.96\" cy=\"1431.41\" r=\"25\"/>\n",
       "<circle clip-path=\"url(#clip6102)\" style=\"fill:#7fae33; stroke:none; fill-opacity:1\" cx=\"2264.96\" cy=\"1431.41\" r=\"21\"/>\n",
       "<circle clip-path=\"url(#clip6102)\" style=\"fill:#000000; stroke:none; fill-opacity:1\" cx=\"2264.96\" cy=\"1431.41\" r=\"25\"/>\n",
       "<circle clip-path=\"url(#clip6102)\" style=\"fill:#7fae33; stroke:none; fill-opacity:1\" cx=\"2264.96\" cy=\"1431.41\" r=\"21\"/>\n",
       "<polygon clip-path=\"url(#clip6100)\" points=\"\n",
       "1409.43,251.724 2280.76,251.724 2280.76,130.764 1409.43,130.764 \n",
       "  \" fill=\"#ffffff\" fill-rule=\"evenodd\" fill-opacity=\"1\"/>\n",
       "<polyline clip-path=\"url(#clip6100)\" style=\"stroke:#000000; stroke-width:4; stroke-opacity:1; fill:none\" points=\"\n",
       "  1409.43,251.724 2280.76,251.724 2280.76,130.764 1409.43,130.764 1409.43,251.724 \n",
       "  \"/>\n",
       "<polyline clip-path=\"url(#clip6100)\" style=\"stroke:#7fae33; stroke-width:24; stroke-opacity:1; fill:none\" points=\"\n",
       "  1433.43,191.244 1577.43,191.244 \n",
       "  \"/>\n",
       "<circle clip-path=\"url(#clip6100)\" style=\"fill:#000000; stroke:none; fill-opacity:1\" cx=\"1517.43\" cy=\"191.244\" r=\"25\"/>\n",
       "<circle clip-path=\"url(#clip6100)\" style=\"fill:#7fae33; stroke:none; fill-opacity:1\" cx=\"1517.43\" cy=\"191.244\" r=\"21\"/>\n",
       "<g clip-path=\"url(#clip6100)\">\n",
       "<text style=\"fill:#000000; fill-opacity:1; font-family:Arial,Helvetica Neue,Helvetica,sans-serif; font-size:48px; text-anchor:start;\" transform=\"rotate(0, 1601.43, 208.744)\" x=\"1601.43\" y=\"208.744\">Torso center of mass position</text>\n",
       "</g>\n",
       "</svg>\n"
      ]
     },
     "execution_count": 83,
     "metadata": {},
     "output_type": "execute_result"
    },
    {
     "name": "stderr",
     "output_type": "stream",
     "text": [
      "latex: failed to create a dvi file\n",
      "latex: failed to create a dvi file\n",
      "latex: failed to create a dvi file\n",
      "latex: failed to create a dvi file\n",
      "latex: failed to create a dvi file\n",
      "latex: failed to create a dvi file\n",
      "latex: failed to create a dvi file\n",
      "latex: failed to create a dvi file\n"
     ]
    }
   ],
   "source": [
    "xlabel=latexstring(\"x\")\n",
    "ylabel=latexstring(\"z\")\n",
    "plot(traj_semidirect[8][1,:],-traj_semidirect[8][2,:],front_traj,label=\"Torso center of mass position\",seriescolor=RGB(((127,174,51) ./ 255.)...),linewidth=6,marker=6,xlabel=xlabel,ylabel=ylabel)"
   ]
  },
  {
   "cell_type": "code",
   "execution_count": 41,
   "metadata": {},
   "outputs": [
    {
     "name": "stderr",
     "output_type": "stream",
     "text": [
      "latex: failed to create a dvi file\n",
      "latex: failed to create a dvi file\n",
      "latex: failed to create a dvi file\n",
      "latex: failed to create a dvi file\n",
      "latex: failed to create a dvi file\n",
      "latex: failed to create a dvi file\n",
      "latex: failed to create a dvi file\n",
      "latex: failed to create a dvi file\n"
     ]
    }
   ],
   "source": [
    "savefig(string(\"littledogcom_2.svg\")) "
   ]
  },
  {
   "cell_type": "code",
   "execution_count": null,
   "metadata": {},
   "outputs": [],
   "source": [
    "setanimation!(mvis, traj_semidirect[7], traj_semidirect[1])"
   ]
  },
  {
   "cell_type": "code",
   "execution_count": 84,
   "metadata": {},
   "outputs": [],
   "source": [
    "t_step = traj_semidirect[7]\n",
    "q_step = traj_semidirect[1]\n",
    "u_step = traj_semidirect[2][2:end];"
   ]
  },
  {
   "cell_type": "code",
   "execution_count": 85,
   "metadata": {},
   "outputs": [],
   "source": [
    "# Multi-steps\n",
    "\n",
    "reps = 3\n",
    "\n",
    "ttraj = t_step\n",
    "qtraj = q_step\n",
    "utraj = u_step\n",
    "for i = 1:(reps-1)\n",
    "    ttraj = vcat(ttraj, t_step .+ ttraj[end])\n",
    "    qtraj = vcat(qtraj, map(q -> q + vcat(qtraj[end][1],zeros(length(q)-1)), q_step))\n",
    "    utraj = vcat(utraj, u_step)\n",
    "end\n",
    "\n",
    "setanimation!(mvis, ttraj, qtraj)"
   ]
  },
  {
   "cell_type": "code",
   "execution_count": null,
   "metadata": {},
   "outputs": [],
   "source": [
    "# Indirect\n",
    "\n",
    "sim_data = get_trajopt_data_indirect(mechanism,env,Δt,N,relax_comp=true)\n",
    "x0, x_min, x_max = setup_prob!(sim_data);"
   ]
  },
  {
   "cell_type": "code",
   "execution_count": null,
   "metadata": {},
   "outputs": [],
   "source": [
    "con_tol = 1e-5\n",
    "obj_tol = 1e-5\n",
    "max_iter = 1000\n",
    "\n",
    "display(@time traj_indirect = Bilevel.trajopt(sim_data, x0=x0, x_min=x_min, x_max=x_max, verbose=1, opt_tol=obj_tol, major_feas=con_tol, minor_feas=con_tol, max_iter=max_iter))\n",
    "\n",
    "x0 = traj_indirect[9]\n",
    "\n",
    "setanimation!(mvis, traj_indirect[7], traj_indirect[1])"
   ]
  },
  {
   "cell_type": "code",
   "execution_count": null,
   "metadata": {},
   "outputs": [],
   "source": [
    "function run_trajopt()\n",
    "    Bilevel.solve_rosenbrock() # clearing SNOPT\n",
    "    Bilevel.trajopt(sim_data, x0=x0, x_min=x_min, x_max=x_max, verbose=0, opt_tol=obj_tol, major_feas=con_tol, minor_feas=con_tol, max_iter=max_iter)\n",
    "end\n",
    "\n",
    "@benchmark run_trajopt()"
   ]
  },
  {
   "cell_type": "code",
   "execution_count": null,
   "metadata": {},
   "outputs": [],
   "source": [
    "setanimation!(mvis, traj_indirect[7], traj_indirect[1])"
   ]
  },
  {
   "cell_type": "code",
   "execution_count": null,
   "metadata": {},
   "outputs": [],
   "source": [
    "t_step = traj_indirect[7]\n",
    "q_step = traj_indirect[1]\n",
    "u_step = traj_indirect[2][2:end];"
   ]
  }
 ],
 "metadata": {
  "kernelspec": {
   "display_name": "Julia 1.1.0",
   "language": "julia",
   "name": "julia-1.1"
  },
  "language_info": {
   "file_extension": ".jl",
   "mimetype": "application/julia",
   "name": "julia",
   "version": "1.1.0"
  }
 },
 "nbformat": 4,
 "nbformat_minor": 2
}
