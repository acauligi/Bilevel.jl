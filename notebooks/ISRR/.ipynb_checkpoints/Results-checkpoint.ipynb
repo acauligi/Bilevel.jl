{
 "cells": [
  {
   "cell_type": "code",
   "execution_count": 1,
   "metadata": {},
   "outputs": [
    {
     "name": "stderr",
     "output_type": "stream",
     "text": [
      "┌ Info: Precompiling Bilevel [9688c538-179f-11e9-3174-495cea6b7f67]\n",
      "└ @ Base loading.jl:1186\n"
     ]
    },
    {
     "data": {
      "text/html": [
       "    <script class='js-collapse-script'>\n",
       "        var curMatch =\n",
       "            window.location.href\n",
       "            .match(/(.*?)\\/notebooks\\/.*\\.ipynb/);\n",
       "\n",
       "        curMatch = curMatch ||\n",
       "            window.location.href\n",
       "            .match(/(.*?)\\/apps\\/.*\\.ipynb/);\n",
       "\n",
       "        if ( curMatch ) {\n",
       "            $('head').append('<base href=\"' + curMatch[1] + '/\">');\n",
       "        }\n",
       "    </script>\n"
      ],
      "text/plain": [
       "HTML{String}(\"    <script class='js-collapse-script'>\\n        var curMatch =\\n            window.location.href\\n            .match(/(.*?)\\\\/notebooks\\\\/.*\\\\.ipynb/);\\n\\n        curMatch = curMatch ||\\n            window.location.href\\n            .match(/(.*?)\\\\/apps\\\\/.*\\\\.ipynb/);\\n\\n        if ( curMatch ) {\\n            \\$('head').append('<base href=\\\"' + curMatch[1] + '/\\\">');\\n        }\\n    </script>\\n\")"
      ]
     },
     "metadata": {},
     "output_type": "display_data"
    },
    {
     "data": {
      "text/html": [
       "<script class='js-collapse-script' src='/assetserver/b464848323e0a4c9a3cfe11f8edca2932188b6d9-assets/webio/dist/bundle.js'></script>"
      ],
      "text/plain": [
       "HTML{String}(\"<script class='js-collapse-script' src='/assetserver/b464848323e0a4c9a3cfe11f8edca2932188b6d9-assets/webio/dist/bundle.js'></script>\")"
      ]
     },
     "metadata": {},
     "output_type": "display_data"
    },
    {
     "data": {
      "text/html": [
       "<script class='js-collapse-script' src='/assetserver/b464848323e0a4c9a3cfe11f8edca2932188b6d9-assets/providers/ijulia_setup.js'></script>"
      ],
      "text/plain": [
       "HTML{String}(\"<script class='js-collapse-script' src='/assetserver/b464848323e0a4c9a3cfe11f8edca2932188b6d9-assets/providers/ijulia_setup.js'></script>\")"
      ]
     },
     "metadata": {},
     "output_type": "display_data"
    },
    {
     "data": {
      "text/html": [
       "  <script class='js-collapse-script'>\n",
       "    $('.js-collapse-script').parent('.output_subarea').css('padding', '0');\n",
       "  </script>\n"
      ],
      "text/plain": [
       "HTML{String}(\"  <script class='js-collapse-script'>\\n    \\$('.js-collapse-script').parent('.output_subarea').css('padding', '0');\\n  </script>\\n\")"
      ]
     },
     "metadata": {},
     "output_type": "display_data"
    },
    {
     "name": "stderr",
     "output_type": "stream",
     "text": [
      "┌ Error: evaluation error\n",
      "│   mod = Bilevel\n",
      "│   ex = const usrfun = #= /home/blandry/.julia/dev/Bilevel/src/solvers/snopt.jl:154 =# @cfunction(objcon_wrapper, Cvoid, (Ptr{Clong}, Ref{Clong}, Ptr{Cdouble}, Ref{Clong}, Ref{Clong}, Ptr{Cdouble}, Ref{Clong}, Ref{Clong}, Ptr{Cdouble}, Ptr{Cchar}, Ref{Clong}, Ptr{Clong}, Ref{Clong}, Ptr{Cdouble}, Ref{Clong}))\n",
      "│   exception = (ErrorException(\"invalid lookup expr (\\$(QuoteNode(Core.svec)))(JuliaInterpreter.SSAValue(2), JuliaInterpreter.SSAValue(3), JuliaInterpreter.SSAValue(4), JuliaInterpreter.SSAValue(5), JuliaInterpreter.SSAValue(6), JuliaInterpreter.SSAValue(7), JuliaInterpreter.SSAValue(8), JuliaInterpreter.SSAValue(9), JuliaInterpreter.SSAValue(10), JuliaInterpreter.SSAValue(11), JuliaInterpreter.SSAValue(12), JuliaInterpreter.SSAValue(13), JuliaInterpreter.SSAValue(14), JuliaInterpreter.SSAValue(15), JuliaInterpreter.SSAValue(16))\"), Union{Ptr{Nothing}, InterpreterIP}[Ptr{Nothing} @0x00007f240155c5eb, Ptr{Nothing} @0x00007f240152d204, Ptr{Nothing} @0x00007f23d83e6480, Ptr{Nothing} @0x00007f2384064b45, Ptr{Nothing} @0x00007f238408c2ed, Ptr{Nothing} @0x00007f238408c8d4, Ptr{Nothing} @0x00007f2384065193, Ptr{Nothing} @0x00007f23840666ab, Ptr{Nothing} @0x00007f238406a7db, Ptr{Nothing} @0x00007f2384063804, Ptr{Nothing} @0x00007f2384064544, Ptr{Nothing} @0x00007f24015115d6, Ptr{Nothing} @0x00007f23d83e23f5, Ptr{Nothing} @0x00007f24015115d6, Ptr{Nothing} @0x00007f23d83e0cf0, Ptr{Nothing} @0x00007f23d83e0d44, Ptr{Nothing} @0x00007f23d83e04c4, Ptr{Nothing} @0x00007f23d83e0aef, Ptr{Nothing} @0x00007f24015115d6, Ptr{Nothing} @0x00007f23d83d6e94, Ptr{Nothing} @0x00007f23d83d784c, Ptr{Nothing} @0x00007f23d83d93ee, Ptr{Nothing} @0x00007f23d83d5d11, Ptr{Nothing} @0x00007f24015115d6, Ptr{Nothing} @0x00007f240152da92, Ptr{Nothing} @0x0000000000000000])\n",
      "└ @ Revise /home/blandry/.julia/packages/Revise/5wsCa/src/lowered.jl:52\n"
     ]
    }
   ],
   "source": [
    "using Revise\n",
    "using Bilevel\n",
    "\n",
    "using RigidBodyDynamics\n",
    "using MeshCatMechanisms\n",
    "using MeshCat\n",
    "using Plots\n",
    "using LinearAlgebra\n",
    "using StaticArrays\n",
    "using BenchmarkTools\n",
    "using LaTeXStrings"
   ]
  },
  {
   "cell_type": "markdown",
   "metadata": {},
   "source": [
    "# Simulation of sliding box"
   ]
  },
  {
   "cell_type": "code",
   "execution_count": null,
   "metadata": {},
   "outputs": [],
   "source": [
    "urdf = joinpath(\"..\", \"..\", \"urdf\", \"ball2d.urdf\")\n",
    "mechanism = parse_urdf(Float64, urdf)\n",
    "\n",
    "floor = findbody(mechanism, \"floor\")\n",
    "point = Point3D(default_frame(floor), SVector([0.,0.,0.]...))\n",
    "normal = FreeVector3D(default_frame(floor), SVector([0.,0.,1.]...))\n",
    "floor_obs = Obstacle(floor, point, normal, :xyz, 1.)\n",
    "\n",
    "obstacles = [floor_obs]\n",
    "env = Environment(mechanism, urdf, obstacles);"
   ]
  },
  {
   "cell_type": "code",
   "execution_count": null,
   "metadata": {},
   "outputs": [],
   "source": [
    "mvis = MechanismVisualizer(mechanism, URDFVisuals(urdf))\n",
    "# open(mvis)"
   ]
  },
  {
   "cell_type": "code",
   "execution_count": null,
   "metadata": {},
   "outputs": [],
   "source": [
    "N = 10\n",
    "Δt = 0.1\n",
    "q0 = [0., 0.2, 0.]\n",
    "v0 = [8., 0., 0.];"
   ]
  },
  {
   "cell_type": "code",
   "execution_count": null,
   "metadata": {},
   "outputs": [],
   "source": [
    "# Indirect\n",
    "\n",
    "sim_data = get_sim_data_indirect(mechanism,env,Δt,relax_comp=true)\n",
    "null_ctrl! = (u,t,x) -> u[:] .= 0.\n",
    "x0 = MechanismState(mechanism)\n",
    "set_configuration!(x0, q0)\n",
    "set_velocity!(x0, v0)\n",
    "setdirty!(x0)\n",
    "sim_indirect = Bilevel.simulate(sim_data,null_ctrl!,x0,N)"
   ]
  },
  {
   "cell_type": "code",
   "execution_count": null,
   "metadata": {},
   "outputs": [],
   "source": [
    "@benchmark sim_indirect = Bilevel.simulate(sim_data,null_ctrl!,x0,N)"
   ]
  },
  {
   "cell_type": "code",
   "execution_count": null,
   "metadata": {},
   "outputs": [],
   "source": [
    "setanimation!(mvis, sim_indirect[6], sim_indirect[1])"
   ]
  },
  {
   "cell_type": "code",
   "execution_count": null,
   "metadata": {},
   "outputs": [],
   "source": [
    "# Direct (both normal and friction)\n",
    "\n",
    "sim_data = get_sim_data_direct(mechanism,env,Δt)\n",
    "null_ctrl! = (u,t,x) -> u[:] .= 0.\n",
    "x0 = MechanismState(mechanism)\n",
    "set_configuration!(x0, q0)\n",
    "set_velocity!(x0, v0)\n",
    "setdirty!(x0)\n",
    "sim_direct = Bilevel.simulate(sim_data,null_ctrl!,x0,N)"
   ]
  },
  {
   "cell_type": "code",
   "execution_count": null,
   "metadata": {},
   "outputs": [],
   "source": [
    "@benchmark sim_direct = Bilevel.simulate(sim_data,null_ctrl!,x0,N)"
   ]
  },
  {
   "cell_type": "code",
   "execution_count": null,
   "metadata": {},
   "outputs": [],
   "source": [
    "setanimation!(mvis, sim_direct[6], sim_direct[1])"
   ]
  },
  {
   "cell_type": "code",
   "execution_count": null,
   "metadata": {},
   "outputs": [],
   "source": [
    "j = 1\n",
    "plot(sim_indirect[6],sim_indirect[8][j,:],label=\"Indirect\",seriescolor=RGB(((227,74,51) ./ 255.)...),linewidth=0,marker=6)\n",
    "plot!(sim_direct[6],sim_direct[8][j,:],label=\"Direct\",seriescolor=RGB(((254,232,200) ./ 255.)...),linewidth=1,marker=4)"
   ]
  },
  {
   "cell_type": "code",
   "execution_count": null,
   "metadata": {},
   "outputs": [],
   "source": [
    "sim_indirect[1][end]"
   ]
  },
  {
   "cell_type": "markdown",
   "metadata": {},
   "source": [
    "# Trajectory optimization of sliding box"
   ]
  },
  {
   "cell_type": "code",
   "execution_count": 3,
   "metadata": {},
   "outputs": [],
   "source": [
    "urdf = joinpath(\"..\", \"..\", \"urdf\", \"ball2d.urdf\")\n",
    "mechanism = parse_urdf(Float64, urdf)\n",
    "\n",
    "floor = findbody(mechanism, \"floor\")\n",
    "point = Point3D(default_frame(floor), SVector([0.,0.,0.]...))\n",
    "normal = FreeVector3D(default_frame(floor), SVector([0.,0.,1.]...))\n",
    "floor_obs = Obstacle(floor, point, normal, :xyz, 1.)\n",
    "\n",
    "obstacles = [floor_obs]\n",
    "env = Environment(mechanism, urdf, obstacles);"
   ]
  },
  {
   "cell_type": "code",
   "execution_count": null,
   "metadata": {},
   "outputs": [],
   "source": [
    "mvis = MechanismVisualizer(mechanism, URDFVisuals(urdf))\n",
    "# open(mvis)"
   ]
  },
  {
   "cell_type": "code",
   "execution_count": null,
   "metadata": {},
   "outputs": [],
   "source": [
    "# qN = [3.0, 0., 0.]\n",
    "# N = 10\n",
    "\n",
    "# qN = [3.0, 0., 0.]\n",
    "# N = 15\n",
    "\n",
    "qN = [3.0, 0., 0.]\n",
    "N = 20\n",
    "\n",
    "# qN = [3.0, 0., 0.]\n",
    "# N = 25\n",
    "\n",
    "# qN = [5.0, 0., 0.]\n",
    "# N = 30\n",
    "\n",
    "# qN = [10.0, 0., 0.]\n",
    "# N = 35\n",
    "\n",
    "# qN = [15.0, 0., 0.]\n",
    "# N = 40\n",
    "\n",
    "q1 = [0., 0.2, 0.]\n",
    "Δt = 0.1\n",
    "\n",
    "q_min = [-10., -10., -10.]\n",
    "q_max = [10., 10., 10.]\n",
    "\n",
    "function get_prob_limits(sim_data)\n",
    "    x_min = -1e19*ones(sim_data.vs.num_vars)\n",
    "    x_max = 1e19*ones(sim_data.vs.num_vars)\n",
    "    \n",
    "    # joint limits\n",
    "    add_box_con_snopt!(x_min, x_max, sim_data, :q, q_min, q_max, 1:N)\n",
    "    add_box_con_snopt!(x_min, x_max, sim_data, :h, [Δt], [Δt], 1:N-1)\n",
    "    \n",
    "    # torques limits\n",
    "    add_box_con_snopt!(x_min, x_max, sim_data, :u, zeros(num_velocities(mechanism)), zeros(num_velocities(mechanism)), 1:N-1)\n",
    "\n",
    "    x_min, x_max\n",
    "end\n",
    "\n",
    "function add_prob_constraints!(sim_data)\n",
    "    vs = sim_data.vs\n",
    "\n",
    "    add_eq!(sim_data, :cq1, length(q1), x -> vs(x, :q1) - q1)\n",
    "    add_eq!(sim_data, :cv1, 1, x -> vs(x, :v1)[2])\n",
    "    add_eq!(sim_data, :cqN, 2, x -> vs(x, Symbol(\"q\", N))[1:2] - qN[1:2])\n",
    "    add_eq!(sim_data, :cvN, 1, x -> vs(x, Symbol(\"v\", N))[1])\n",
    "end\n",
    "\n",
    "function get_prob_init(sim_data)\n",
    "    x0 = zeros(sim_data.vs.num_vars)\n",
    "    for n = 1:N\n",
    "        x0[sim_data.vs(Symbol(\"q\", n))] .= n/N*(qN - q1) + q1\n",
    "    end\n",
    "    \n",
    "    x0\n",
    "end"
   ]
  },
  {
   "cell_type": "code",
   "execution_count": null,
   "metadata": {},
   "outputs": [],
   "source": [
    "# Indirect\n",
    "con_tol = 1e-5\n",
    "obj_tol = 1e-5\n",
    "max_iter = 5000\n",
    "\n",
    "sim_data = get_trajopt_data_indirect(mechanism,env,Δt,N,relax_comp=true)\n",
    "add_prob_constraints!(sim_data)\n",
    "x_min, x_max = get_prob_limits(sim_data)\n",
    "x0 = get_prob_init(sim_data)\n",
    "\n",
    "@time traj_indirect = Bilevel.trajopt(sim_data, x0=x0, x_min=x_min, x_max=x_max, verbose=1, opt_tol=obj_tol, major_feas=con_tol, minor_feas=con_tol, max_iter=max_iter)"
   ]
  },
  {
   "cell_type": "code",
   "execution_count": null,
   "metadata": {},
   "outputs": [],
   "source": [
    "function run_trajopt()\n",
    "    Bilevel.solve_rosenbrock() # clearing SNOPT\n",
    "    Bilevel.trajopt(sim_data, x0=x0, x_min=x_min, x_max=x_max, verbose=0, opt_tol=obj_tol, major_feas=con_tol, minor_feas=con_tol, max_iter=max_iter)\n",
    "end\n",
    "\n",
    "@benchmark run_trajopt()"
   ]
  },
  {
   "cell_type": "code",
   "execution_count": null,
   "metadata": {},
   "outputs": [],
   "source": [
    "Bilevel.solve_rosenbrock(); # clearing SNOPT"
   ]
  },
  {
   "cell_type": "code",
   "execution_count": null,
   "metadata": {},
   "outputs": [],
   "source": [
    "# Semidirect\n",
    "con_tol = 1e-5\n",
    "obj_tol = 1e-5\n",
    "max_iter = 5000\n",
    "\n",
    "sim_data = get_trajopt_data_semidirect(mechanism,env,Δt,N,relax_comp=false)\n",
    "add_prob_constraints!(sim_data)\n",
    "x_min, x_max = get_prob_limits(sim_data)\n",
    "x0 = get_prob_init(sim_data)\n",
    "@time traj_semidirect = Bilevel.trajopt(sim_data, x0=x0, x_min=x_min, x_max=x_max, verbose=1, opt_tol=obj_tol, major_feas=con_tol, minor_feas=con_tol, max_iter=max_iter)"
   ]
  },
  {
   "cell_type": "code",
   "execution_count": null,
   "metadata": {},
   "outputs": [],
   "source": [
    "function run_trajopt()\n",
    "    Bilevel.solve_rosenbrock() # clearing SNOPT\n",
    "    Bilevel.trajopt(sim_data, x0=x0, x_min=x_min, x_max=x_max, verbose=0, opt_tol=obj_tol, major_feas=con_tol, minor_feas=con_tol, max_iter=max_iter)\n",
    "end\n",
    "\n",
    "@benchmark run_trajopt()"
   ]
  },
  {
   "cell_type": "code",
   "execution_count": null,
   "metadata": {},
   "outputs": [],
   "source": [
    "j = 1\n",
    "xlabel=latexstring(\"t\")\n",
    "ylabel=latexstring(\"x\")\n",
    "plot(traj_indirect[7],traj_indirect[8][j,:],label=\"Indirect\",seriescolor=RGB(((227,74,51) ./ 255.)...),linewidth=6,marker=6,xlabel=xlabel)\n",
    "plot!(traj_semidirect[7],traj_semidirect[8][j,:],label=\"Semidirect\",seriescolor=RGB(((254,232,200) ./ 255.)...),linewidth=1,marker=6,ylabel=ylabel)"
   ]
  },
  {
   "cell_type": "code",
   "execution_count": null,
   "metadata": {},
   "outputs": [],
   "source": [
    "savefig(string(\"slidingbox_x_08-28-19_3.svg\")) "
   ]
  },
  {
   "cell_type": "code",
   "execution_count": null,
   "metadata": {},
   "outputs": [],
   "source": [
    "j = 2\n",
    "xlabel=latexstring(\"t\")\n",
    "ylabel=latexstring(\"z\")\n",
    "plot(traj_indirect[7],traj_indirect[8][j,:],label=\"Indirect\",seriescolor=RGB(((227,74,51) ./ 255.)...),linewidth=6,marker=6,xlabel=xlabel)\n",
    "plot!(traj_semidirect[7],traj_semidirect[8][j,:],label=\"Semidirect\",seriescolor=RGB(((254,232,200) ./ 255.)...),linewidth=1,marker=6,ylabel=ylabel)"
   ]
  },
  {
   "cell_type": "code",
   "execution_count": null,
   "metadata": {},
   "outputs": [],
   "source": [
    "savefig(string(\"slidingbox_z_08-28-19_3.svg\")) "
   ]
  },
  {
   "cell_type": "code",
   "execution_count": null,
   "metadata": {},
   "outputs": [],
   "source": [
    "display(traj_indirect[2][end])\n",
    "display(traj_semidirect[2][end])"
   ]
  },
  {
   "cell_type": "code",
   "execution_count": null,
   "metadata": {},
   "outputs": [],
   "source": [
    "display(length(traj_indirect[9]))\n",
    "display(length(traj_semidirect[9]))"
   ]
  },
  {
   "cell_type": "markdown",
   "metadata": {},
   "source": [
    "# Trajectory optimization of jumper robot"
   ]
  },
  {
   "cell_type": "code",
   "execution_count": 604,
   "metadata": {},
   "outputs": [],
   "source": [
    "urdf = joinpath(\"..\", \"..\", \"urdf\", \"jumper\", \"jumper.urdf\")\n",
    "mechanism = parse_urdf(Float64, urdf)\n",
    "\n",
    "floor = findbody(mechanism, \"floor\")\n",
    "point = Point3D(default_frame(floor), SVector([0.,0.,0.]...))\n",
    "normal = FreeVector3D(default_frame(floor), SVector([0.,0.,1.]...))\n",
    "floor_obs = Obstacle(floor, point, normal, :xyz, 100.)\n",
    "\n",
    "obstacles = [floor_obs]\n",
    "env = Environment(mechanism, urdf, obstacles);"
   ]
  },
  {
   "cell_type": "code",
   "execution_count": null,
   "metadata": {},
   "outputs": [],
   "source": [
    "mvis = MechanismVisualizer(mechanism, URDFVisuals(urdf));\n",
    "open(mvis)"
   ]
  },
  {
   "cell_type": "code",
   "execution_count": 567,
   "metadata": {},
   "outputs": [],
   "source": [
    "set_configuration!(mvis, [0., -2, .6, -1.2])"
   ]
  },
  {
   "cell_type": "code",
   "execution_count": 606,
   "metadata": {},
   "outputs": [],
   "source": [
    "N = 10\n",
    "Δt = 0.05\n",
    "q0 = [0., -2, .6, -1.2]\n",
    "v0 = zeros(num_velocities(mechanism))\n",
    "\n",
    "sim_data = get_sim_data_indirect(mechanism,env,Δt)\n",
    "null_ctrl! = (u,t,x) -> u[:] .= 0.\n",
    "x0 = MechanismState(mechanism)\n",
    "set_configuration!(x0, q0)\n",
    "set_velocity!(x0, v0)\n",
    "setdirty!(x0)\n",
    "traj_sim = Bilevel.simulate(sim_data,null_ctrl!,x0,N)\n",
    "setanimation!(mvis, traj_sim[6], traj_sim[1])"
   ]
  },
  {
   "cell_type": "code",
   "execution_count": 657,
   "metadata": {},
   "outputs": [
    {
     "data": {
      "text/plain": [
       "setup_prob! (generic function with 1 method)"
      ]
     },
     "execution_count": 657,
     "metadata": {},
     "output_type": "execute_result"
    }
   ],
   "source": [
    "q_nom = copy(traj_sim[1][end])\n",
    "q_min = min.(q_nom, [-20., -10., -pi, -pi])\n",
    "q_max = max.(q_nom, [20., -0.25, pi, pi])\n",
    "\n",
    "N = 10\n",
    "Δt = 0.05\n",
    "\n",
    "function add_prob_constraints!(sim_data)\n",
    "    vs = sim_data.vs\n",
    "\n",
    "    add_eq!(sim_data, :cq1x, 4, x -> vs(x, :q1)[1:4] - q_nom[1:4])\n",
    "    add_eq!(sim_data, :cv1, num_velocities(mechanism), x -> vs(x, :v1))\n",
    "    \n",
    "#     add_eq!(sim_data, :cqNx, 1, x -> 1. - vs(x, Symbol(\"q\", N))[1])\n",
    "    add_eq!(sim_data, :cqNy, 1, x -> -1.25 - vs(x, Symbol(\"q\", N))[2])\n",
    "#     add_ineq!(sim_data, :cqNx, 1, x -> vs(x, Symbol(\"q\", N))[1] - (-1.))\n",
    "end\n",
    "\n",
    "function add_prob_obj!(sim_data)\n",
    "    vs = sim_data.vs    \n",
    "\n",
    "#     add_obj!(sim_data, :cqN, x -> -vs(x, Symbol(\"q\", N))[1])\n",
    "end\n",
    "\n",
    "function get_prob_limits(sim_data)\n",
    "    x_min = -1e19*ones(sim_data.vs.num_vars)\n",
    "    x_max = 1e19*ones(sim_data.vs.num_vars)\n",
    "    \n",
    "    # joint limits\n",
    "    add_box_con_snopt!(x_min, x_max, sim_data, :q, q_min, q_max, 1:N)\n",
    "    add_box_con_snopt!(x_min, x_max, sim_data, :h, [Δt], [Δt], 1:N-1)\n",
    "    \n",
    "    # torques limits\n",
    "#     u_limit = [0.,0.,0.,100.]\n",
    "    u_limit = [0.,0.,0.,100.]\n",
    "    add_box_con_snopt!(x_min, x_max, sim_data, :u, -u_limit .* ones(num_velocities(mechanism)), u_limit .* ones(num_velocities(mechanism)), 1:N-1)\n",
    "    \n",
    "    x_min, x_max\n",
    "end\n",
    "\n",
    "function get_prob_init(sim_data)\n",
    "    x0 = zeros(sim_data.vs.num_vars)\n",
    "    for n = 1:N\n",
    "        qn = copy(q_nom)\n",
    "        x0[sim_data.vs(Symbol(\"q\", n))] .= qn\n",
    "    end\n",
    "    \n",
    "    x0\n",
    "end\n",
    "\n",
    "function setup_prob!(sim_data)\n",
    "    add_prob_constraints!(sim_data)\n",
    "    add_prob_obj!(sim_data)\n",
    "    x_min, x_max = get_prob_limits(sim_data)\n",
    "    x0 = get_prob_init(sim_data)\n",
    "    \n",
    "    x0, x_min, x_max\n",
    "end"
   ]
  },
  {
   "cell_type": "code",
   "execution_count": 658,
   "metadata": {},
   "outputs": [],
   "source": [
    "# Semidirect\n",
    "\n",
    "sim_data = get_trajopt_data_semidirect(mechanism,env,Δt,N,relax_comp=false)\n",
    "x0, x_min, x_max = setup_prob!(sim_data);"
   ]
  },
  {
   "cell_type": "code",
   "execution_count": 659,
   "metadata": {},
   "outputs": [
    {
     "data": {
      "text/plain": [
       "(Array{Float64,1}[[-0.000433986, -1.31017, 0.599126, -1.22255], [0.0320883, -1.27356, 0.709373, -1.29535], [-0.0114418, -1.2553, 0.587555, -1.32998], [-0.0914785, -1.21489, 0.384579, -1.32227], [-0.223141, -1.12916, 0.128749, -1.5429], [-0.39814, -1.01741, -0.195231, -1.30701], [-0.580907, -0.86156, -0.521807, -0.994834], [-0.755173, -0.651877, -0.882126, -0.641858], [-0.884549, -0.453361, -1.08293, -0.498797], [-1.0, -0.25, -1.22348, -0.375191]], Array{Float64,1}[[1.22573e-16, 1.35342e-15, 0.0, 0.0], [0.970511, 0.131981, 2.20494, -1.45595], [-0.522242, 0.786424, -2.43636, -0.692643], [-1.18054, 1.34987, -4.05952, 0.154176], [-2.39131, 2.03844, -5.1166, -4.41269], [-3.86707, 1.51351, -6.47961, 4.71797], [-4.72256, 0.880245, -6.53151, 6.24343], [-5.45286, -0.0258753, -7.20639, 7.05951], [-4.72001, -0.424562, -4.01602, 2.86122], [-4.61034, -0.786735, -2.81115, 2.47214]], Array{Float64,1}[[0.0, 0.0, 30.0315, 10.1616], [0.0, 0.0, -63.3838, -9.71013], [0.0, 0.0, -22.6875, -4.4678], [0.0, 0.0, -41.8386, -16.2159], [0.0, 0.0, -23.9576, 6.21047], [0.0, 0.0, -14.8565, -3.2806], [0.0, 0.0, -17.3, -5.23857], [0.0, 0.0, 36.5981, 2.08886], [0.0, 0.0, 17.7044, 2.79346]], [0.05, 0.05, 0.05, 0.05, 0.05, 0.05, 0.05, 0.05, 0.05], Array{Float64,1}[[0.484584], [0.000169373], [0.00141328], [0.0112458], [0.00905186], [0.00776142], [0.00417679], [0.0], [-5.92929e-17]], Array{Float64,1}[], [0.0, 0.05, 0.1, 0.15, 0.2, 0.25, 0.3, 0.35, 0.4, 0.45], [-0.000433986 0.0320883 … -0.884549 -1.0; -1.31017 -1.27356 … -0.453361 -0.25; … ; 0.0 2.20494 … -4.01602 -2.81115; 0.0 -1.45595 … 2.86122 2.47214], [-0.000433986, -1.31017, 0.599126, -1.22255, 1.22573e-16, 1.35342e-15, 0.0, 0.0, 0.0, 0.0  …  0.05, -5.92929e-17, -1.0, -0.25, -1.22348, -0.375191, -4.61034, -0.786735, -2.81115, 2.47214])"
      ]
     },
     "metadata": {},
     "output_type": "display_data"
    },
    {
     "name": "stdout",
     "output_type": "stream",
     "text": [
      "Terminated after numerical difficulties: current point cannot be improved\n",
      "  8.950579 seconds (16.17 M allocations: 2.644 GiB, 8.98% gc time)\n"
     ]
    }
   ],
   "source": [
    "con_tol = 1e-4\n",
    "obj_tol = 1e-4\n",
    "max_iter = 5000\n",
    "\n",
    "display(@time traj_semidirect = Bilevel.trajopt(sim_data, x0=x0, x_min=x_min, x_max=x_max, verbose=1, opt_tol=obj_tol, major_feas=con_tol, minor_feas=con_tol, max_iter=max_iter))\n",
    "\n",
    "x0 = traj_semidirect[9]\n",
    "\n",
    "setanimation!(mvis, traj_semidirect[7], traj_semidirect[1])"
   ]
  },
  {
   "cell_type": "code",
   "execution_count": 619,
   "metadata": {},
   "outputs": [
    {
     "data": {
      "text/plain": [
       "1"
      ]
     },
     "execution_count": 619,
     "metadata": {},
     "output_type": "execute_result"
    }
   ],
   "source": [
    "qi = 1"
   ]
  },
  {
   "cell_type": "code",
   "execution_count": 630,
   "metadata": {},
   "outputs": [
    {
     "data": {
      "text/plain": [
       "11"
      ]
     },
     "execution_count": 630,
     "metadata": {},
     "output_type": "execute_result"
    }
   ],
   "source": [
    "q = traj_semidirect[1][qi]\n",
    "set_configuration!(mvis, q) \n",
    "qi += 1"
   ]
  },
  {
   "cell_type": "code",
   "execution_count": 621,
   "metadata": {},
   "outputs": [
    {
     "data": {
      "text/plain": [
       "19.362541645641254"
      ]
     },
     "execution_count": 621,
     "metadata": {},
     "output_type": "execute_result"
    }
   ],
   "source": [
    "maximum(abs.(vcat(traj_semidirect[2]...)))"
   ]
  },
  {
   "cell_type": "code",
   "execution_count": 611,
   "metadata": {},
   "outputs": [
    {
     "data": {
      "text/plain": [
       "65.08838511760261"
      ]
     },
     "execution_count": 611,
     "metadata": {},
     "output_type": "execute_result"
    }
   ],
   "source": [
    "maximum(abs.(vcat(traj_semidirect[3]...)))"
   ]
  },
  {
   "cell_type": "code",
   "execution_count": null,
   "metadata": {},
   "outputs": [],
   "source": [
    "function run_trajopt()\n",
    "    Bilevel.solve_rosenbrock() # clearing SNOPT\n",
    "    Bilevel.trajopt(sim_data, x0=x0, x_min=x_min, x_max=x_max, verbose=0, opt_tol=obj_tol, major_feas=con_tol, minor_feas=con_tol, max_iter=max_iter)\n",
    "end\n",
    "\n",
    "@benchmark run_trajopt()"
   ]
  },
  {
   "cell_type": "code",
   "execution_count": null,
   "metadata": {},
   "outputs": [],
   "source": [
    "# Indirect\n",
    "\n",
    "sim_data = get_trajopt_data_inidirect(mechanism,env,Δt,N,relax_comp=true)\n",
    "x0, x_min, x_max = setup_prob!(sim_data);"
   ]
  },
  {
   "cell_type": "code",
   "execution_count": null,
   "metadata": {},
   "outputs": [],
   "source": [
    "con_tol = 1e-4\n",
    "obj_tol = 1e-4\n",
    "max_iter = 5000\n",
    "\n",
    "display(@time traj_inidirect = Bilevel.trajopt(sim_data, x0=x0, x_min=x_min, x_max=x_max, verbose=1, opt_tol=obj_tol, major_feas=con_tol, minor_feas=con_tol, max_iter=max_iter))\n",
    "\n",
    "x0 = traj_inidirect[9]\n",
    "\n",
    "setanimation!(mvis, traj_inidirect[7], traj_inidirect[1])"
   ]
  },
  {
   "cell_type": "code",
   "execution_count": null,
   "metadata": {},
   "outputs": [],
   "source": [
    "function run_trajopt()\n",
    "    Bilevel.solve_rosenbrock() # clearing SNOPT\n",
    "    Bilevel.trajopt(sim_data, x0=x0, x_min=x_min, x_max=x_max, verbose=0, opt_tol=obj_tol, major_feas=con_tol, minor_feas=con_tol, max_iter=max_iter)\n",
    "end\n",
    "\n",
    "@benchmark run_trajopt()"
   ]
  },
  {
   "cell_type": "markdown",
   "metadata": {},
   "source": [
    "# Trajectory optimization of little dog"
   ]
  },
  {
   "cell_type": "code",
   "execution_count": 2,
   "metadata": {},
   "outputs": [],
   "source": [
    "urdf = joinpath(\"..\", \"..\", \"urdf\", \"little_dog\", \"little_dog2d.urdf\")\n",
    "mechanism = parse_urdf(Float64, urdf)\n",
    "\n",
    "floor = findbody(mechanism, \"floor\")\n",
    "point = Point3D(default_frame(floor), SVector([0.,0.,0.]...))\n",
    "normal = FreeVector3D(default_frame(floor), SVector([0.,0.,1.]...))\n",
    "floor_obs = Obstacle(floor, point, normal, :xyz, 1.)\n",
    "\n",
    "obstacles = [floor_obs]\n",
    "env = Environment(mechanism, urdf, obstacles);"
   ]
  },
  {
   "cell_type": "code",
   "execution_count": 3,
   "metadata": {},
   "outputs": [
    {
     "name": "stderr",
     "output_type": "stream",
     "text": [
      "┌ Info: Serving MeshCat visualizer at http://127.0.0.1:8700\n",
      "└ @ MeshCat /home/blandry/.julia/packages/MeshCat/WlA0B/src/servers.jl:24\n"
     ]
    },
    {
     "data": {
      "text/plain": [
       "Process(`\u001b[4mxdg-open\u001b[24m \u001b[4mhttp://127.0.0.1:8700\u001b[24m`, ProcessExited(0))"
      ]
     },
     "execution_count": 3,
     "metadata": {},
     "output_type": "execute_result"
    },
    {
     "name": "stdout",
     "output_type": "stream",
     "text": [
      "Created new window in existing browser session.\n"
     ]
    }
   ],
   "source": [
    "mvis = MechanismVisualizer(mechanism, URDFVisuals(urdf));\n",
    "open(mvis)"
   ]
  },
  {
   "cell_type": "code",
   "execution_count": 5,
   "metadata": {},
   "outputs": [],
   "source": [
    "N = 8\n",
    "Δt = 0.025\n",
    "# q0 = [0., -.275, 0., 0.25, -0.25, 0.25, -0.25, pi/4, pi/4, -pi/4, -pi/4, -pi/2, -pi/2, pi/2, pi/2] \n",
    "q0 = [0., -.25, 0., 0.25, -0.25, 0.25, -0.25, pi/4, pi/4, pi/4, pi/4, -pi/2, -pi/2, -pi/2, -pi/2] \n",
    "v0 = zeros(num_velocities(mechanism))\n",
    "\n",
    "sim_data = get_sim_data_indirect(mechanism,env,Δt)\n",
    "null_ctrl! = (u,t,x) -> u[:] .= 0.\n",
    "x0 = MechanismState(mechanism)\n",
    "set_configuration!(x0, q0)\n",
    "set_velocity!(x0, v0)\n",
    "setdirty!(x0)\n",
    "traj_sim = Bilevel.simulate(sim_data,null_ctrl!,x0,N)\n",
    "setanimation!(mvis, traj_sim[6], traj_sim[1])"
   ]
  },
  {
   "cell_type": "code",
   "execution_count": 41,
   "metadata": {},
   "outputs": [],
   "source": [
    "set_configuration!(mvis, [0.1, -.1, 0., 0.25, -0.25, 0.25, -0.25, 0, 0, 0, 0, 0, 0, 0, 0])"
   ]
  },
  {
   "cell_type": "code",
   "execution_count": 34,
   "metadata": {},
   "outputs": [
    {
     "data": {
      "text/plain": [
       "setup_prob! (generic function with 1 method)"
      ]
     },
     "execution_count": 34,
     "metadata": {},
     "output_type": "execute_result"
    }
   ],
   "source": [
    "q_nom = copy(traj_sim[1][end])\n",
    "q_min = min.(q_nom, [-5., -.5, -0.1*pi, 0.25, -0.25, 0.25, -0.25, -3.5, -3.5, -3.5, -3.5, -3.1, -3.1, -3.1, -3.1])\n",
    "q_max = max.(q_nom, [5., -0.2, 0.1*pi, 0.25, -0.25, 0.25, -0.25, 2.4, 2.4, 2.4, 2.4, 1., 1., 1., 1.])\n",
    "\n",
    "# q_min = min.(q_nom, [-5., -.5, -0.02*pi, 0.25, -0.25, 0.25, -0.25, -1., -1., -1., -1., -3.1, -3.1, -3.1, -3.1])\n",
    "# q_max = max.(q_nom, [5., -0.1, 0.02*pi, 0.25, -0.25, 0.25, -0.25, 1., 1., 1., 1., 1., 1., 1., 1.])\n",
    "\n",
    "# x_goal = 0.2\n",
    "# N = 10\n",
    "# Δt = 0.1\n",
    "\n",
    "# x_goal = .15\n",
    "# N = 14\n",
    "# Δt = 0.05\n",
    "\n",
    "x_goal = 0.1\n",
    "N = 12\n",
    "Δt = 0.05\n",
    "\n",
    "function add_prob_constraints!(sim_data)\n",
    "    vs = sim_data.vs\n",
    "\n",
    "    add_eq!(sim_data, :cq1x, 1, x -> vs(x, :q1)[1])\n",
    "#     add_eq!(sim_data, :cq1, 15, x -> q_nom - vs(x, :q1))\n",
    "    add_eq!(sim_data, :cv1, num_velocities(mechanism), x -> vs(x, :v1))\n",
    "\n",
    "    add_ineq!(sim_data, :cqNx, 1, x -> x_goal - vs(x, Symbol(\"q\", N))[1])\n",
    "    \n",
    "    add_eq!(sim_data, :cqN, num_positions(mechanism)-1, x -> vs(x, Symbol(\"q\", N))[2:end] - vs(x, :q1)[2:end])\n",
    "    add_eq!(sim_data, :cvN, num_velocities(mechanism), x -> vs(x, Symbol(\"v\", N)))\n",
    "\n",
    "#     for n = 1:N\n",
    "#         add_eq!(sim_data, Symbol(\"cqSym1_\", n), 1, x -> vs(x, Symbol(\"q\", n))[8] + vs(x, Symbol(\"q\", n))[11])\n",
    "#         add_eq!(sim_data, Symbol(\"cqSym2_\", n), 1, x -> vs(x, Symbol(\"q\", n))[9] + vs(x, Symbol(\"q\", n))[10])\n",
    "#         add_eq!(sim_data, Symbol(\"cqSym3_\", n), 1, x -> vs(x, Symbol(\"q\", n))[12] - vs(x, Symbol(\"q\", n))[15]) \n",
    "#         add_eq!(sim_data, Symbol(\"cqSym4_\", n), 1, x -> vs(x, Symbol(\"q\", n))[13] - vs(x, Symbol(\"q\", n))[14]) \n",
    "#     end\n",
    "    \n",
    "#     for n = 1:N-1\n",
    "#         add_eq!(sim_data, Symbol(\"cnSym1_\", n), 1, x -> vs(x, Symbol(\"c_n1_\", n)) - vs(x, Symbol(\"c_n4_\", n)))\n",
    "#         add_eq!(sim_data, Symbol(\"cnSym2_\", n), 1, x -> vs(x, Symbol(\"c_n2_\", n)) - vs(x, Symbol(\"c_n3_\", n)))\n",
    "#     end\n",
    "    \n",
    "#     for n = 1:1\n",
    "#         add_eq!(sim_data, Symbol(\"cn1_\", n), 1, x -> vs(x, Symbol(\"c_n1_\", n)))\n",
    "#         add_eq!(sim_data, Symbol(\"cn4_\", n), 1, x -> vs(x, Symbol(\"c_n4_\", n)))\n",
    "#     end\n",
    "#     for n = Int(N/2):Int(N/2)\n",
    "#         add_eq!(sim_data, Symbol(\"cn1air_\", n), 1, x -> vs(x, Symbol(\"c_n1_\", n)))\n",
    "#         add_eq!(sim_data, Symbol(\"cn2air_\", n), 1, x -> vs(x, Symbol(\"c_n2_\", n)))\n",
    "#         add_eq!(sim_data, Symbol(\"cn3air_\", n), 1, x -> vs(x, Symbol(\"c_n3_\", n)))\n",
    "#         add_eq!(sim_data, Symbol(\"cn4air_\", n), 1, x -> vs(x, Symbol(\"c_n4_\", n)))\n",
    "#     end\n",
    "#     for n = N-1:N-1\n",
    "#         add_eq!(sim_data, Symbol(\"cn2_\", n), 1, x -> vs(x, Symbol(\"c_n2_\", n)))\n",
    "#         add_eq!(sim_data, Symbol(\"cn3_\", n), 1, x -> vs(x, Symbol(\"c_n3_\", n)))\n",
    "#     end\n",
    "    \n",
    "#     flight_n = [Int(N/4),Int(3*N/4)]\n",
    "#     for n = flight_n\n",
    "#         add_eq!(sim_data, Symbol(\"cn1flight_\", n), 1, x -> vs(x, Symbol(\"c_n1_\", n)))\n",
    "#         add_eq!(sim_data, Symbol(\"cn2flight_\", n), 1, x -> vs(x, Symbol(\"c_n2_\", n)))\n",
    "#         add_eq!(sim_data, Symbol(\"cn3flight_\", n), 1, x -> vs(x, Symbol(\"c_n3_\", n)))\n",
    "#         add_eq!(sim_data, Symbol(\"cn4flight_\", n), 1, x -> vs(x, Symbol(\"c_n4_\", n)))\n",
    "#     end    \n",
    "    \n",
    "#     for n = 1:N\n",
    "#         add_eq!(sim_data, Symbol(\"cqSym1_\", n), 1, x -> vs(x, Symbol(\"q\", n))[8] + vs(x, Symbol(\"q\", n))[9])\n",
    "#         add_eq!(sim_data, Symbol(\"cqSym2_\", n), 1, x -> vs(x, Symbol(\"q\", n))[10] + vs(x, Symbol(\"q\", n))[11]) \n",
    "#     end\n",
    "    \n",
    "    for n = 1:N\n",
    "        add_eq!(sim_data, Symbol(\"cqSym1_\", n), 1, x -> vs(x, Symbol(\"q\", n))[8] - vs(x, Symbol(\"q\", n))[9])\n",
    "        add_eq!(sim_data, Symbol(\"cqSym2_\", n), 1, x -> vs(x, Symbol(\"q\", n))[10] - vs(x, Symbol(\"q\", n))[11])\n",
    "        add_eq!(sim_data, Symbol(\"cqSym3_\", n), 1, x -> vs(x, Symbol(\"q\", n))[12] - vs(x, Symbol(\"q\", n))[13]) \n",
    "        add_eq!(sim_data, Symbol(\"cqSym4_\", n), 1, x -> vs(x, Symbol(\"q\", n))[14] - vs(x, Symbol(\"q\", n))[15]) \n",
    "    end\n",
    "    \n",
    "#     n = 1\n",
    "#     cn0 = .5\n",
    "#     add_ineq!(sim_data, Symbol(\"cn1_\", n), 1, x -> cn0 .- vs(x, Symbol(\"c_n1_\", n)))\n",
    "#     add_ineq!(sim_data, Symbol(\"cn2_\", n), 1, x -> cn0 .- vs(x, Symbol(\"c_n2_\", n)))\n",
    "#     add_ineq!(sim_data, Symbol(\"cn3_\", n), 1, x -> cn0 .- vs(x, Symbol(\"c_n3_\", n)))\n",
    "#     add_ineq!(sim_data, Symbol(\"cn4_\", n), 1, x -> cn0 .- vs(x, Symbol(\"c_n4_\", n)))\n",
    "    \n",
    "    flight_start = 4\n",
    "    flight_end = 9\n",
    "    for n = flight_start:flight_end\n",
    "        add_eq!(sim_data, Symbol(\"cn1f_\", n), 1, x -> vs(x, Symbol(\"c_n1_\", n)))\n",
    "        add_eq!(sim_data, Symbol(\"cn2f_\", n), 1, x -> vs(x, Symbol(\"c_n2_\", n)))\n",
    "        add_eq!(sim_data, Symbol(\"cn3f_\", n), 1, x -> vs(x, Symbol(\"c_n3_\", n)))\n",
    "        add_eq!(sim_data, Symbol(\"cn4f_\", n), 1, x -> vs(x, Symbol(\"c_n4_\", n)))\n",
    "    end\n",
    "end\n",
    "\n",
    "function add_prob_obj!(sim_data)\n",
    "    vs = sim_data.vs    \n",
    "#     for n = 1:N-1\n",
    "#         add_obj!(sim_data, Symbol(\"u\", n), x -> sim_data.vs(x, Symbol(\"u\", n))' * sim_data.vs(x, Symbol(\"u\", n)))\n",
    "#     end\n",
    "#     for n = 1:N\n",
    "#         add_obj!(sim_data, Symbol(\"q\", n), x -> (sim_data.vs(x, Symbol(\"q\", n))[2:end] - q_nom[2:end])' * (sim_data.vs(x, Symbol(\"q\", n))[2:end] - q_nom[2:end]))\n",
    "#     end\n",
    "#     for n = 1:N\n",
    "#         add_obj!(sim_data, Symbol(\"q\", n), x -> sim_data.vs(x, Symbol(\"q\", n))[3]' * sim_data.vs(x, Symbol(\"q\", n))[3])\n",
    "#     end\n",
    "#     for n = 1:N-1\n",
    "#         add_obj!(sim_data, Symbol(\"c_n1_\", n), x -> vs(x, Symbol(\"c_n1_\", n))' * vs(x, Symbol(\"c_n1_\", n)))\n",
    "#         add_obj!(sim_data, Symbol(\"c_n2_\", n), x -> vs(x, Symbol(\"c_n2_\", n))' * vs(x, Symbol(\"c_n2_\", n)))\n",
    "#         add_obj!(sim_data, Symbol(\"c_n3_\", n), x -> vs(x, Symbol(\"c_n3_\", n))' * vs(x, Symbol(\"c_n3_\", n)))\n",
    "#         add_obj!(sim_data, Symbol(\"c_n4_\", n), x -> vs(x, Symbol(\"c_n4_\", n))' * vs(x, Symbol(\"c_n4_\", n)))\n",
    "#     end\n",
    "    for n = 1:N\n",
    "        add_obj!(sim_data, Symbol(\"v\", n), x -> sim_data.vs(x, Symbol(\"v\", n))' * sim_data.vs(x, Symbol(\"v\", n)))\n",
    "    end\n",
    "end\n",
    "\n",
    "function get_prob_limits(sim_data)\n",
    "    x_min = -1e12*ones(sim_data.vs.num_vars)\n",
    "    x_max = 1e12*ones(sim_data.vs.num_vars)\n",
    "    \n",
    "    # joint limits\n",
    "    add_box_con_snopt!(x_min, x_max, sim_data, :q, q_min, q_max, 1:N)\n",
    "    add_box_con_snopt!(x_min, x_max, sim_data, :h, [Δt], [Δt], 1:N-1)\n",
    "    \n",
    "    # torques limits\n",
    "    u_mag_max = 5.\n",
    "    u_min = vcat(zeros(3), -u_mag_max * ones(12))\n",
    "    u_max = vcat(zeros(3), u_mag_max * ones(12))\n",
    "    add_box_con_snopt!(x_min, x_max, sim_data, :u, u_min, u_max, 1:N-1)\n",
    "    \n",
    "    # velocity limits\n",
    "#     v_limit = 35.\n",
    "#     add_box_con_snopt!(x_min, x_max, sim_data, :v, -v_limit * ones(num_velocities(mechanism)), v_limit * ones(num_velocities(mechanism)), 1:N)\n",
    "    \n",
    "    x_min, x_max\n",
    "end\n",
    "\n",
    "function get_prob_init(sim_data)\n",
    "    x0 = zeros(sim_data.vs.num_vars)\n",
    "    for n = 1:N\n",
    "        qn = copy(q_nom)\n",
    "        qn[1] = (n/N)*(x_goal - 0.) + 0.\n",
    "        x0[sim_data.vs(Symbol(\"q\", n))] .= qn\n",
    "    end\n",
    "    \n",
    "    x0\n",
    "end\n",
    "\n",
    "function setup_prob!(sim_data)\n",
    "    add_prob_constraints!(sim_data)\n",
    "    add_prob_obj!(sim_data)\n",
    "    x_min, x_max = get_prob_limits(sim_data)\n",
    "    x0 = get_prob_init(sim_data)\n",
    "    \n",
    "    x0, x_min, x_max\n",
    "end"
   ]
  },
  {
   "cell_type": "code",
   "execution_count": 37,
   "metadata": {},
   "outputs": [],
   "source": [
    "# Semidirect\n",
    "\n",
    "sim_data = get_trajopt_data_semidirect(mechanism,env,Δt,N,relax_comp=false)\n",
    "x0, x_min, x_max = setup_prob!(sim_data);"
   ]
  },
  {
   "cell_type": "code",
   "execution_count": 40,
   "metadata": {},
   "outputs": [
    {
     "data": {
      "text/plain": [
       "(Array{Float64,1}[[0.0, -0.0871195, 0.40336, 0.215236, -0.215236, 0.24235, -0.25, -0.180303, -0.180303, 0.241904, 0.241904, -2.262, -2.262, -1.13086, -1.13086], [0.00269034, -0.0777663, 0.628319, 0.25, -0.25, 0.24235, -0.237886, -0.397365, -0.397365, 0.285808, 0.285808, -2.58339, -2.58339, -0.920764, -0.920764], [0.0199047, -0.161669, 0.487816, 0.21524, -0.21524, 0.25, -0.25, 0.253756, 0.253756, 1.04362, 1.04362, -1.88028, -1.88028, -0.843619, -0.843619], [0.0327583, -0.225493, 0.467682, 0.242946, -0.242912, 0.24235, -0.238974, 0.0302067, 0.0302067, 0.863673, 0.863673, -1.92216, -1.92216, -0.895545, -0.895545], [0.0451881, -0.264478, 0.444543, 0.25, -0.25, 0.24235, -0.237886, -0.124289, -0.124289, 0.700217, 0.700217, -1.96872, -1.96872, -0.947244, -0.947244], [0.0571455, -0.27871, 0.418561, 0.25, -0.25, 0.24235, -0.237886, -0.224269, -0.224269, 0.558394, 0.558394, -2.0177, -2.0177, -0.997489, -0.997489], [0.0685719, -0.268246, 0.389759, 0.25, -0.25, 0.24235, -0.237886, -0.278727, -0.278727, 0.440888, 0.440888, -2.0678, -2.0678, -1.04601, -1.04601], [0.0794009, -0.233159, 0.358107, 0.25, -0.25, 0.24235, -0.237886, -0.294849, -0.294849, 0.347838, 0.347838, -2.11804, -2.11804, -1.09309, -1.09309], [0.089555, -0.173511, 0.323766, 0.25, -0.25, 0.24235, -0.237886, -0.27921, -0.27921, 0.277446, 0.277446, -2.16764, -2.16764, -1.13925, -1.13925], [0.0989303, -0.0893615, 0.286252, 0.242625, -0.242622, 0.24235, -0.25, -0.238317, -0.238317, 0.226795, 0.226795, -2.21592, -2.21592, -1.18505, -1.18505], [0.1, -0.0871195, 0.40336, 0.215236, -0.215236, 0.24235, -0.25, -0.180303, -0.180303, 0.241904, 0.241904, -2.262, -2.262, -1.13086, -1.13086], [0.1, -0.0871195, 0.40336, 0.215236, -0.215236, 0.24235, -0.25, -0.180303, -0.180303, 0.241904, 0.241904, -2.262, -2.262, -1.13086, -1.13086]], Array{Float64,1}[[3.46945e-18, 0.0, 0.0, 0.0, 0.0, 0.0, 0.0, 0.0, 0.0, 0.0, 0.0, 0.0, 0.0, 0.0, 0.0], [0.153484, 0.119712, 4.49916, 0.695284, -0.695284, -3.96732e-15, 0.242288, -4.34123, -4.34123, 0.878092, 0.878092, -6.42788, -6.42788, 4.20198, 4.20198], [-0.482372, -1.64369, -2.81005, -0.6952, 0.6952, 0.153002, -0.242288, 13.0224, 13.0224, 15.1562, 15.1562, 14.0623, 14.0623, 1.54291, 1.54291], [-0.345991, -1.25529, -0.402683, 0.554124, -0.553441, -0.153002, 0.220517, -4.47099, -4.47099, -3.59893, -3.59893, -0.837653, -0.837653, -1.03853, -1.03853], [-0.110876, -0.810837, -0.462779, 0.141076, -0.141759, -2.95597e-15, 0.0217706, -3.08992, -3.08992, -3.26911, -3.26911, -0.931134, -0.931134, -1.03398, -1.03398], [0.10282, -0.357254, -0.519634, -3.78864e-15, 4.30211e-16, 3.80251e-15, -1.65146e-15, -1.99959, -1.99959, -2.83647, -2.83647, -0.97958, -0.97958, -1.00489, -1.00489], [0.290904, 0.106744, -0.576045, 2.0331e-15, 6.93889e-16, -6.14092e-16, -6.52256e-16, -1.08916, -1.08916, -2.35011, -2.35011, -1.00199, -1.00199, -0.970431, -0.970431], [0.448798, 0.581301, -0.633045, -1.20823e-15, -5.44009e-15, -2.34535e-15, -1.28619e-15, -0.322432, -0.322432, -1.86099, -1.86099, -1.00485, -1.00485, -0.941537, -0.941537], [0.57206, 1.06638, -0.686808, 4.88498e-15, -1.77636e-15, 3.44169e-15, 3.94823e-15, 0.312762, 0.312762, -1.40785, -1.40785, -0.99198, -0.99198, -0.9232, -0.9232], [0.655084, 1.56157, -0.750289, -0.147503, 0.147552, -1.22125e-15, -0.242288, 0.817874, 0.817874, -1.01302, -1.01302, -0.965614, -0.965614, -0.916063, -0.916063], [0.0372764, 0.0328435, 2.34217, -0.547781, 0.547732, 3.30292e-15, -1.13798e-15, 1.16028, 1.16028, 0.302175, 0.302175, -0.921609, -0.921609, 1.08374, 1.08374], [0.0, 0.0, 0.0, 0.0, 0.0, 0.0, 0.0, 0.0, 0.0, 0.0, 0.0, 0.0, 0.0, 0.0, 0.0]], Array{Float64,1}[[0.0, 0.0, 0.0, -0.0194497, 0.0194497, 0.0871668, 0.437349, 0.0198622, 0.0198622, 0.0785356, -0.490611, -0.00648846, -0.00648846, 0.00440426, 0.445995], [0.0, 0.0, 0.0, -1.99015, 1.99015, 0.165829, -0.152615, -5.0, -5.0, 0.242972, 0.242434, -1.74483, -1.74483, 0.0110712, 0.0109081], [0.0, 0.0, 0.0, -0.00281971, 0.00282685, -0.0059348, 0.00520986, -0.130572, -0.130572, -0.148185, -0.148264, -0.0252715, -0.0252712, -0.0357323, -0.0357117], [0.0, 0.0, 0.0, -0.00250003, 0.00248702, 0.00417834, -0.00418935, 0.00277587, 0.00277556, -0.00219666, -0.00216098, -0.000107347, -0.000107874, -0.00221861, -0.00222293], [0.0, 0.0, 0.0, -0.00123745, 0.00124322, 0.00248552, -0.00248131, 0.002942, 0.00294249, -0.00219358, -0.00217611, 0.000325248, 0.00032551, -0.00173848, -0.00174338], [0.0, 0.0, 0.0, -0.000368067, 0.000368067, 0.00179756, -0.00164101, 0.00369052, 0.00369052, -0.00171637, -0.00172882, 0.000486281, 0.000486281, -0.00123967, -0.00124218], [0.0, 0.0, 0.0, -0.000276537, 0.000276537, 0.0011331, -0.00103195, 0.00447628, 0.00447628, -0.00117369, -0.00118523, 0.00046927, 0.00046927, -0.000810885, -0.000813094], [0.0, 0.0, 0.0, -8.64853e-5, 8.64853e-5, 0.000614386, -0.000559015, 0.00507546, 0.00507546, -0.000651807, -0.000661886, 0.000333176, 0.000333176, -0.000485703, -0.000487595], [0.0, 0.0, 0.0, -0.00110936, 0.00110982, 9.86435e-5, -0.00330347, 0.00533978, 0.00533981, -0.000383546, -0.000240018, 0.000155572, 0.000155584, -0.000269377, -0.000314844], [0.0, 0.0, 0.0, -0.922878, 1.23625, 0.258637, 1.44007, -1.26735, -1.64243, 0.161641, -0.745001, -0.823935, -1.05087, -0.0165247, 1.21076], [0.0, 0.0, 0.0, -0.16456, 0.588688, 0.0271841, 0.0969661, -0.3207, -0.828333, 0.00473197, -0.061219, -0.19135, -0.498494, -0.00611559, 0.083066]], [0.05, 0.05, 0.05, 0.05, 0.05, 0.05, 0.05, 0.05, 0.05, 0.05, 0.05], Array{Float64,1}[[0.0, 0.0, 6.18566e-5, 0.636261], [2.48277, 2.48277, 3.10633e-13, -3.5851e-13], [5.41247e-13, -9.50799e-13, 3.64859e-15, 2.67048e-14], [0.0, 0.0, 0.0, 0.0], [0.0, 0.0, 0.0, 0.0], [0.0, 0.0, 0.0, 0.0], [0.0, 0.0, 0.0, 0.0], [0.0, 0.0, 0.0, 0.0], [0.0, 0.0, 0.0, 0.0], [1.13678, 1.46216, 2.21968e-5, 1.77385], [0.257454, 0.697835, 7.96153e-7, 0.128893]], Array{Float64,1}[], [0.0, 0.05, 0.1, 0.15, 0.2, 0.25, 0.3, 0.35, 0.4, 0.45, 0.5, 0.55], [0.0 0.00269034 … 0.1 0.1; -0.0871195 -0.0777663 … -0.0871195 -0.0871195; … ; 0.0 4.20198 … 1.08374 0.0; 0.0 4.20198 … 1.08374 0.0], [0.0, -0.0871195, 0.40336, 0.215236, -0.215236, 0.24235, -0.25, -0.180303, -0.180303, 0.241904  …  0.0, 0.0, 0.0, 0.0, 0.0, 0.0, 0.0, 0.0, 0.0, 0.0])"
      ]
     },
     "metadata": {},
     "output_type": "display_data"
    },
    {
     "name": "stdout",
     "output_type": "stream",
     "text": [
      "Finished successfully: optimality conditions satisfied\n",
      "159.005281 seconds (399.14 M allocations: 207.732 GiB, 33.21% gc time)\n"
     ]
    }
   ],
   "source": [
    "con_tol = 1e-5\n",
    "obj_tol = 1e-5\n",
    "max_iter = 5000\n",
    "\n",
    "display(@time traj_semidirect = Bilevel.trajopt(sim_data, x0=x0, x_min=x_min, x_max=x_max, verbose=1, opt_tol=obj_tol, major_feas=con_tol, minor_feas=con_tol, max_iter=max_iter))\n",
    "\n",
    "x0 = traj_semidirect[9]\n",
    "\n",
    "setanimation!(mvis, traj_semidirect[7], traj_semidirect[1])"
   ]
  },
  {
   "cell_type": "code",
   "execution_count": 22,
   "metadata": {},
   "outputs": [
    {
     "data": {
      "text/plain": [
       "1"
      ]
     },
     "execution_count": 22,
     "metadata": {},
     "output_type": "execute_result"
    }
   ],
   "source": [
    "qi = 1"
   ]
  },
  {
   "cell_type": "code",
   "execution_count": 30,
   "metadata": {},
   "outputs": [
    {
     "data": {
      "text/plain": [
       "9"
      ]
     },
     "execution_count": 30,
     "metadata": {},
     "output_type": "execute_result"
    }
   ],
   "source": [
    "q = traj_semidirect[1][qi]\n",
    "set_configuration!(mvis, q) \n",
    "qi += 1"
   ]
  },
  {
   "cell_type": "code",
   "execution_count": null,
   "metadata": {},
   "outputs": [],
   "source": [
    "set_configuration!(mvis, traj_semidirect[1][10])"
   ]
  },
  {
   "cell_type": "code",
   "execution_count": null,
   "metadata": {},
   "outputs": [],
   "source": [
    "function run_trajopt()\n",
    "    Bilevel.solve_rosenbrock() # clearing SNOPT\n",
    "    Bilevel.trajopt(sim_data, x0=x0, x_min=x_min, x_max=x_max, verbose=0, opt_tol=obj_tol, major_feas=con_tol, minor_feas=con_tol, max_iter=max_iter)\n",
    "end\n",
    "\n",
    "@benchmark run_trajopt()"
   ]
  },
  {
   "cell_type": "code",
   "execution_count": 163,
   "metadata": {},
   "outputs": [
    {
     "data": {
      "text/plain": [
       "9-element Array{Array{Float64,1},1}:\n",
       " [0.0, 0.0, 0.0, -0.0931553, 0.5, -0.5, 0.174736, -0.0929927, -0.24526, 0.5, 0.176453, -0.119082, -0.375631, 0.376667, 0.172143]                           \n",
       " [0.0, 0.0, 0.0, -0.0462829, 0.0492053, 0.0046316, -0.00518408, -0.134978, -0.135151, -0.112767, -0.122938, -0.0188862, -0.0188725, 0.00542919, 0.00275375]\n",
       " [0.0, 0.0, 0.0, 0.0492126, 0.497859, -0.5, 0.244002, 0.0674411, 0.472322, 0.241109, 0.194882, 0.0124781, -0.386743, 0.401108, 0.237383]                   \n",
       " [0.0, 0.0, 0.0, -0.436051, -0.0717165, -0.365917, 0.296834, -0.338468, -0.00454092, 0.5, 0.429672, -0.3043, 0.0147638, 0.295045, 0.258131]                \n",
       " [0.0, 0.0, 0.0, -0.022021, 0.366205, -0.0415346, 0.0353881, -0.0802478, -0.184629, 0.00659569, 0.00658831, -0.0520025, -0.267254, -0.023177, -0.023157]   \n",
       " [0.0, 0.0, 0.0, -0.153525, 0.153722, -0.266281, 0.257308, -0.476268, -0.477709, 0.5, 0.5, -0.162666, -0.163072, 0.272507, 0.272511]                       \n",
       " [0.0, 0.0, 0.0, -0.236115, 0.0697116, 0.0570517, 0.341808, 0.238123, -0.0539432, 0.115529, -0.423934, -0.274982, -0.109121, 0.0091602, 0.357899]          \n",
       " [0.0, 0.0, 0.0, 0.0372387, 0.438498, -0.410216, 0.00494204, 0.187819, -0.5, 0.5, -0.0866513, 0.000285604, -0.320631, 0.302297, 0.0285573]                 \n",
       " [0.0, 0.0, 0.0, -0.0741124, 0.272749, -0.270806, 0.150465, -0.207426, -0.5, 0.5, 0.33124, -0.0748071, -0.21139, 0.217528, 0.138707]                       "
      ]
     },
     "execution_count": 163,
     "metadata": {},
     "output_type": "execute_result"
    }
   ],
   "source": [
    "traj_semidirect[3]"
   ]
  },
  {
   "cell_type": "code",
   "execution_count": 91,
   "metadata": {},
   "outputs": [
    {
     "data": {
      "text/plain": [
       "2.7898838143481828"
      ]
     },
     "execution_count": 91,
     "metadata": {},
     "output_type": "execute_result"
    }
   ],
   "source": [
    "maximum(abs.(vcat(traj_semidirect[3]...)))"
   ]
  },
  {
   "cell_type": "code",
   "execution_count": 31,
   "metadata": {},
   "outputs": [],
   "source": [
    "cntraj = hcat(traj_semidirect[5]...)\n",
    "front_traj = cntraj[1,:] .+ cntraj[2,:]\n",
    "back_traj = cntraj[3,:] .+ cntraj[4,:];"
   ]
  },
  {
   "cell_type": "code",
   "execution_count": 32,
   "metadata": {},
   "outputs": [
    {
     "data": {
      "image/svg+xml": [
       "<?xml version=\"1.0\" encoding=\"utf-8\"?>\n",
       "<svg xmlns=\"http://www.w3.org/2000/svg\" xmlns:xlink=\"http://www.w3.org/1999/xlink\" width=\"600\" height=\"400\" viewBox=\"0 0 2400 1600\">\n",
       "<defs>\n",
       "  <clipPath id=\"clip0100\">\n",
       "    <rect x=\"0\" y=\"0\" width=\"2400\" height=\"1600\"/>\n",
       "  </clipPath>\n",
       "</defs>\n",
       "<polygon clip-path=\"url(#clip0100)\" points=\"\n",
       "0,1600 2400,1600 2400,0 0,0 \n",
       "  \" fill=\"#ffffff\" fill-rule=\"evenodd\" fill-opacity=\"1\"/>\n",
       "<defs>\n",
       "  <clipPath id=\"clip0101\">\n",
       "    <rect x=\"480\" y=\"0\" width=\"1681\" height=\"1600\"/>\n",
       "  </clipPath>\n",
       "</defs>\n",
       "<polygon clip-path=\"url(#clip0100)\" points=\"\n",
       "155.102,1442.93 2352.76,1442.93 2352.76,47.2441 155.102,47.2441 \n",
       "  \" fill=\"#ffffff\" fill-rule=\"evenodd\" fill-opacity=\"1\"/>\n",
       "<defs>\n",
       "  <clipPath id=\"clip0102\">\n",
       "    <rect x=\"155\" y=\"47\" width=\"2199\" height=\"1397\"/>\n",
       "  </clipPath>\n",
       "</defs>\n",
       "<polyline clip-path=\"url(#clip0102)\" style=\"stroke:#000000; stroke-width:2; stroke-opacity:0.1; fill:none\" points=\"\n",
       "  217.3,1442.93 217.3,47.2441 \n",
       "  \"/>\n",
       "<polyline clip-path=\"url(#clip0102)\" style=\"stroke:#000000; stroke-width:2; stroke-opacity:0.1; fill:none\" points=\"\n",
       "  631.952,1442.93 631.952,47.2441 \n",
       "  \"/>\n",
       "<polyline clip-path=\"url(#clip0102)\" style=\"stroke:#000000; stroke-width:2; stroke-opacity:0.1; fill:none\" points=\"\n",
       "  1046.6,1442.93 1046.6,47.2441 \n",
       "  \"/>\n",
       "<polyline clip-path=\"url(#clip0102)\" style=\"stroke:#000000; stroke-width:2; stroke-opacity:0.1; fill:none\" points=\"\n",
       "  1461.25,1442.93 1461.25,47.2441 \n",
       "  \"/>\n",
       "<polyline clip-path=\"url(#clip0102)\" style=\"stroke:#000000; stroke-width:2; stroke-opacity:0.1; fill:none\" points=\"\n",
       "  1875.91,1442.93 1875.91,47.2441 \n",
       "  \"/>\n",
       "<polyline clip-path=\"url(#clip0102)\" style=\"stroke:#000000; stroke-width:2; stroke-opacity:0.1; fill:none\" points=\"\n",
       "  2290.56,1442.93 2290.56,47.2441 \n",
       "  \"/>\n",
       "<polyline clip-path=\"url(#clip0102)\" style=\"stroke:#000000; stroke-width:2; stroke-opacity:0.1; fill:none\" points=\"\n",
       "  155.102,1403.43 2352.76,1403.43 \n",
       "  \"/>\n",
       "<polyline clip-path=\"url(#clip0102)\" style=\"stroke:#000000; stroke-width:2; stroke-opacity:0.1; fill:none\" points=\"\n",
       "  155.102,1109.08 2352.76,1109.08 \n",
       "  \"/>\n",
       "<polyline clip-path=\"url(#clip0102)\" style=\"stroke:#000000; stroke-width:2; stroke-opacity:0.1; fill:none\" points=\"\n",
       "  155.102,814.724 2352.76,814.724 \n",
       "  \"/>\n",
       "<polyline clip-path=\"url(#clip0102)\" style=\"stroke:#000000; stroke-width:2; stroke-opacity:0.1; fill:none\" points=\"\n",
       "  155.102,520.373 2352.76,520.373 \n",
       "  \"/>\n",
       "<polyline clip-path=\"url(#clip0102)\" style=\"stroke:#000000; stroke-width:2; stroke-opacity:0.1; fill:none\" points=\"\n",
       "  155.102,226.022 2352.76,226.022 \n",
       "  \"/>\n",
       "<polyline clip-path=\"url(#clip0100)\" style=\"stroke:#000000; stroke-width:4; stroke-opacity:1; fill:none\" points=\"\n",
       "  155.102,1442.93 2352.76,1442.93 \n",
       "  \"/>\n",
       "<polyline clip-path=\"url(#clip0100)\" style=\"stroke:#000000; stroke-width:4; stroke-opacity:1; fill:none\" points=\"\n",
       "  155.102,1442.93 155.102,47.2441 \n",
       "  \"/>\n",
       "<polyline clip-path=\"url(#clip0100)\" style=\"stroke:#000000; stroke-width:4; stroke-opacity:1; fill:none\" points=\"\n",
       "  217.3,1442.93 217.3,1421.99 \n",
       "  \"/>\n",
       "<polyline clip-path=\"url(#clip0100)\" style=\"stroke:#000000; stroke-width:4; stroke-opacity:1; fill:none\" points=\"\n",
       "  631.952,1442.93 631.952,1421.99 \n",
       "  \"/>\n",
       "<polyline clip-path=\"url(#clip0100)\" style=\"stroke:#000000; stroke-width:4; stroke-opacity:1; fill:none\" points=\"\n",
       "  1046.6,1442.93 1046.6,1421.99 \n",
       "  \"/>\n",
       "<polyline clip-path=\"url(#clip0100)\" style=\"stroke:#000000; stroke-width:4; stroke-opacity:1; fill:none\" points=\"\n",
       "  1461.25,1442.93 1461.25,1421.99 \n",
       "  \"/>\n",
       "<polyline clip-path=\"url(#clip0100)\" style=\"stroke:#000000; stroke-width:4; stroke-opacity:1; fill:none\" points=\"\n",
       "  1875.91,1442.93 1875.91,1421.99 \n",
       "  \"/>\n",
       "<polyline clip-path=\"url(#clip0100)\" style=\"stroke:#000000; stroke-width:4; stroke-opacity:1; fill:none\" points=\"\n",
       "  2290.56,1442.93 2290.56,1421.99 \n",
       "  \"/>\n",
       "<polyline clip-path=\"url(#clip0100)\" style=\"stroke:#000000; stroke-width:4; stroke-opacity:1; fill:none\" points=\"\n",
       "  155.102,1403.43 188.067,1403.43 \n",
       "  \"/>\n",
       "<polyline clip-path=\"url(#clip0100)\" style=\"stroke:#000000; stroke-width:4; stroke-opacity:1; fill:none\" points=\"\n",
       "  155.102,1109.08 188.067,1109.08 \n",
       "  \"/>\n",
       "<polyline clip-path=\"url(#clip0100)\" style=\"stroke:#000000; stroke-width:4; stroke-opacity:1; fill:none\" points=\"\n",
       "  155.102,814.724 188.067,814.724 \n",
       "  \"/>\n",
       "<polyline clip-path=\"url(#clip0100)\" style=\"stroke:#000000; stroke-width:4; stroke-opacity:1; fill:none\" points=\"\n",
       "  155.102,520.373 188.067,520.373 \n",
       "  \"/>\n",
       "<polyline clip-path=\"url(#clip0100)\" style=\"stroke:#000000; stroke-width:4; stroke-opacity:1; fill:none\" points=\"\n",
       "  155.102,226.022 188.067,226.022 \n",
       "  \"/>\n",
       "<g clip-path=\"url(#clip0100)\">\n",
       "<text style=\"fill:#000000; fill-opacity:1; font-family:Arial,Helvetica Neue,Helvetica,sans-serif; font-size:48px; text-anchor:middle;\" transform=\"rotate(0, 217.3, 1496.93)\" x=\"217.3\" y=\"1496.93\">0.0</text>\n",
       "</g>\n",
       "<g clip-path=\"url(#clip0100)\">\n",
       "<text style=\"fill:#000000; fill-opacity:1; font-family:Arial,Helvetica Neue,Helvetica,sans-serif; font-size:48px; text-anchor:middle;\" transform=\"rotate(0, 631.952, 1496.93)\" x=\"631.952\" y=\"1496.93\">0.1</text>\n",
       "</g>\n",
       "<g clip-path=\"url(#clip0100)\">\n",
       "<text style=\"fill:#000000; fill-opacity:1; font-family:Arial,Helvetica Neue,Helvetica,sans-serif; font-size:48px; text-anchor:middle;\" transform=\"rotate(0, 1046.6, 1496.93)\" x=\"1046.6\" y=\"1496.93\">0.2</text>\n",
       "</g>\n",
       "<g clip-path=\"url(#clip0100)\">\n",
       "<text style=\"fill:#000000; fill-opacity:1; font-family:Arial,Helvetica Neue,Helvetica,sans-serif; font-size:48px; text-anchor:middle;\" transform=\"rotate(0, 1461.25, 1496.93)\" x=\"1461.25\" y=\"1496.93\">0.3</text>\n",
       "</g>\n",
       "<g clip-path=\"url(#clip0100)\">\n",
       "<text style=\"fill:#000000; fill-opacity:1; font-family:Arial,Helvetica Neue,Helvetica,sans-serif; font-size:48px; text-anchor:middle;\" transform=\"rotate(0, 1875.91, 1496.93)\" x=\"1875.91\" y=\"1496.93\">0.4</text>\n",
       "</g>\n",
       "<g clip-path=\"url(#clip0100)\">\n",
       "<text style=\"fill:#000000; fill-opacity:1; font-family:Arial,Helvetica Neue,Helvetica,sans-serif; font-size:48px; text-anchor:middle;\" transform=\"rotate(0, 2290.56, 1496.93)\" x=\"2290.56\" y=\"1496.93\">0.5</text>\n",
       "</g>\n",
       "<g clip-path=\"url(#clip0100)\">\n",
       "<text style=\"fill:#000000; fill-opacity:1; font-family:Arial,Helvetica Neue,Helvetica,sans-serif; font-size:48px; text-anchor:end;\" transform=\"rotate(0, 131.102, 1420.93)\" x=\"131.102\" y=\"1420.93\">0</text>\n",
       "</g>\n",
       "<g clip-path=\"url(#clip0100)\">\n",
       "<text style=\"fill:#000000; fill-opacity:1; font-family:Arial,Helvetica Neue,Helvetica,sans-serif; font-size:48px; text-anchor:end;\" transform=\"rotate(0, 131.102, 1126.58)\" x=\"131.102\" y=\"1126.58\">1</text>\n",
       "</g>\n",
       "<g clip-path=\"url(#clip0100)\">\n",
       "<text style=\"fill:#000000; fill-opacity:1; font-family:Arial,Helvetica Neue,Helvetica,sans-serif; font-size:48px; text-anchor:end;\" transform=\"rotate(0, 131.102, 832.224)\" x=\"131.102\" y=\"832.224\">2</text>\n",
       "</g>\n",
       "<g clip-path=\"url(#clip0100)\">\n",
       "<text style=\"fill:#000000; fill-opacity:1; font-family:Arial,Helvetica Neue,Helvetica,sans-serif; font-size:48px; text-anchor:end;\" transform=\"rotate(0, 131.102, 537.873)\" x=\"131.102\" y=\"537.873\">3</text>\n",
       "</g>\n",
       "<g clip-path=\"url(#clip0100)\">\n",
       "<text style=\"fill:#000000; fill-opacity:1; font-family:Arial,Helvetica Neue,Helvetica,sans-serif; font-size:48px; text-anchor:end;\" transform=\"rotate(0, 131.102, 243.522)\" x=\"131.102\" y=\"243.522\">4</text>\n",
       "</g>\n",
       "<g clip-path=\"url(#clip0100)\">\n",
       "<image width=\"21\" height=\"42\" xlink:href=\"data:image/png;base64,\n",
       "iVBORw0KGgoAAAANSUhEUgAAABUAAAAqCAYAAABcOxDuAAABl0lEQVRIia3W4c3CIBAG4FcnII7g\n",
       "CDdD3YAZOgJxBEZghsYJiCN0BOwIxA3u+4X5sNAeVBJ+0F7fwJMzcmJmtIzX68WPxwNEhNvtdioW\n",
       "MbN4eu8ZwGdO08SlunPLLu/3e7ZelqVcKN1ljDHbJQD23hd3Kg6dpmkVWqsVH//5fGZrIqrWdocO\n",
       "w1Av/rWn2LTFU2za4gkITZs8gf3jt3qKTFs9mRnw3rNSavVh7/Te83lZFrzfbwmtaFwul+3jhxCa\n",
       "PXdNezx3+7S1P9NoCt3tzzR+2Z+7pr2em6a9nsCGabcnUD7+Ec+q6RHPqukRT6BiesgTWB//qGfR\n",
       "9Khn0fSoJ1Awnec5Wzd7AviJZ4yRtdY8zzOvTL+vigA4xrgbaoxhABxCWIdaa7NAIhLt8rs2M+3x\n",
       "THdWa23Z9Hq9im7Kaab/MK11VrcZmuBrU2udWRZDU5EkNPk751Y12cI5J2qnVDeOY/H96gERfUKN\n",
       "MdlHqR+3AouhIQT+HzyOIxtj+D+NtXbTuvrCOcfDMLBSipVSTERsjBH9GP4A/KauBMnGQOkAAAAA\n",
       "SUVORK5CYII=\n",
       "\" transform=\"translate(1243, 1519)\"/>\n",
       "</g>\n",
       "<g clip-path=\"url(#clip0100)\">\n",
       "<image width=\"39\" height=\"56\" xlink:href=\"data:image/png;base64,\n",
       "iVBORw0KGgoAAAANSUhEUgAAACcAAAA4CAYAAAB+I+F7AAADyUlEQVRogcVZ/5GyMBB9WkG0hHgV\n",
       "REuIHWQsAa6CeCVQQrSElKCWwFkBUELuOtjvDyd8qIgBwtzO7Jxygs/9+XYDIsJfaZ7nxDknrTU5\n",
       "5+jx/38GjIjgnCMpJQEgAKS1vgP4p+CaILXWBIA457UV/xxYm5s550REmBERYsv39zcdj0fkeQ4A\n",
       "4Jxjs9lAKYXVajXrurcsS/r4+ECWZfEtl2VZHUNtyhgjrTUVRUGvnqG1Js55XGBFUXQCe1TOOWVZ\n",
       "9pSp1loCQFHdmqYpHY9HMMYgpcRyuURVVcjzHL+/v533SikhpQQAWGtvn49pOR/MbTWrKAoyxtyV\n",
       "ji5NkiSuWwFQlmUvY8mrc46MMSSEeBmXzrn44Ky1b8E9WtQnAOeclFLT1DkhRJDlQnUeLRtwq2e+\n",
       "tkWRmJbL85wAdNawPhq9Q6zXa1oulzifz52dIEhiWs4HOFoYxqAEiw2O6H+FT5JkFMBJwDUBCiEo\n",
       "z/NBIKODeiSQaFT80+nUC2R0YJzzt61JSklZlr3N6qjgPJvto4wxUkqRMeYJbNRSslqtyDmHr68v\n",
       "cM5rRnK5XN6yEi+MMex2u/hkEx291TlH1lpKkiTY9VHB+TEvND49WMZYq7ujgvMUvS8zIfrP95RS\n",
       "NUOOCq4JUAhBxphW4hkcJrHBEd0IQLPWCSEGkYGolMnLer2enc/nWVEU0FoDQHC2NmWSuTWWTGK5\n",
       "WHIHrixL2u/3tN1uKU1TOhwOg8x6OBxou91SWZbj3PKYZY/6atR7lxD+/r7N/ilbjTF1VrVVb6VU\n",
       "7y/I87wurqMoE2Os3uwopVqr9ZCHF0VBjLF6Du0NzlvN/7qmS8aCaz5PCNEfnG8XzYvW2rt+Z4wZ\n",
       "DK4ZNn2fAyFEK9d3ztHpdIo25gkhensACNxvjFXv3j7WA2Ns9JTUx3qPIdSl8+grhA5JkgRVVSG0\n",
       "OM8557her1PjAgDsdjsAwOVyCfr8fLPZAAD2+/3kDGCxWMwYY8Hg4JyrS8YYYhiqSqngmjdfLBYz\n",
       "v4v1f6cUP5WFyBxATQiv1yu22+2k7l0ul+HEs2luNMayqVzsB++gOudfOOeeRrQhU9Q7lVIG17q7\n",
       "N34z1FQhRDSQfncXSsGeLvgm/aj+WGgoN3PO1av90B/bejHk/CpJErLWBhEDY0wdMn2a/8vp63A4\n",
       "0OfnZ3AWSinBGAPnHMBtFGw7WjLGIE3TsH1xF/Im1Y6hfel+UKwM2bs9qpSyd6z2Cui2+SJEhzLp\n",
       "QVlnrX17+uePmsYU89HriJ+fH6qqCs45ALf2xDnHYrEYfUjyD2m6B4IVcRaRAAAAAElFTkSuQmCC\n",
       "\" transform=\"translate(39, 717)\"/>\n",
       "</g>\n",
       "<polyline clip-path=\"url(#clip0102)\" style=\"stroke:#e3ae33; stroke-width:24; stroke-opacity:1; fill:none\" points=\"\n",
       "  217.3,1403.43 424.626,86.7445 631.952,1403.43 839.278,1403.43 1046.6,1403.43 1253.93,1403.43 1461.25,1403.43 1668.58,1403.43 1875.91,1403.43 2083.23,1403.43 \n",
       "  2290.56,763.571 \n",
       "  \"/>\n",
       "<circle clip-path=\"url(#clip0102)\" style=\"fill:#000000; stroke:none; fill-opacity:1\" cx=\"217.3\" cy=\"1403.43\" r=\"25\"/>\n",
       "<circle clip-path=\"url(#clip0102)\" style=\"fill:#e3ae33; stroke:none; fill-opacity:1\" cx=\"217.3\" cy=\"1403.43\" r=\"21\"/>\n",
       "<circle clip-path=\"url(#clip0102)\" style=\"fill:#000000; stroke:none; fill-opacity:1\" cx=\"424.626\" cy=\"86.7445\" r=\"25\"/>\n",
       "<circle clip-path=\"url(#clip0102)\" style=\"fill:#e3ae33; stroke:none; fill-opacity:1\" cx=\"424.626\" cy=\"86.7445\" r=\"21\"/>\n",
       "<circle clip-path=\"url(#clip0102)\" style=\"fill:#000000; stroke:none; fill-opacity:1\" cx=\"631.952\" cy=\"1403.43\" r=\"25\"/>\n",
       "<circle clip-path=\"url(#clip0102)\" style=\"fill:#e3ae33; stroke:none; fill-opacity:1\" cx=\"631.952\" cy=\"1403.43\" r=\"21\"/>\n",
       "<circle clip-path=\"url(#clip0102)\" style=\"fill:#000000; stroke:none; fill-opacity:1\" cx=\"839.278\" cy=\"1403.43\" r=\"25\"/>\n",
       "<circle clip-path=\"url(#clip0102)\" style=\"fill:#e3ae33; stroke:none; fill-opacity:1\" cx=\"839.278\" cy=\"1403.43\" r=\"21\"/>\n",
       "<circle clip-path=\"url(#clip0102)\" style=\"fill:#000000; stroke:none; fill-opacity:1\" cx=\"1046.6\" cy=\"1403.43\" r=\"25\"/>\n",
       "<circle clip-path=\"url(#clip0102)\" style=\"fill:#e3ae33; stroke:none; fill-opacity:1\" cx=\"1046.6\" cy=\"1403.43\" r=\"21\"/>\n",
       "<circle clip-path=\"url(#clip0102)\" style=\"fill:#000000; stroke:none; fill-opacity:1\" cx=\"1253.93\" cy=\"1403.43\" r=\"25\"/>\n",
       "<circle clip-path=\"url(#clip0102)\" style=\"fill:#e3ae33; stroke:none; fill-opacity:1\" cx=\"1253.93\" cy=\"1403.43\" r=\"21\"/>\n",
       "<circle clip-path=\"url(#clip0102)\" style=\"fill:#000000; stroke:none; fill-opacity:1\" cx=\"1461.25\" cy=\"1403.43\" r=\"25\"/>\n",
       "<circle clip-path=\"url(#clip0102)\" style=\"fill:#e3ae33; stroke:none; fill-opacity:1\" cx=\"1461.25\" cy=\"1403.43\" r=\"21\"/>\n",
       "<circle clip-path=\"url(#clip0102)\" style=\"fill:#000000; stroke:none; fill-opacity:1\" cx=\"1668.58\" cy=\"1403.43\" r=\"25\"/>\n",
       "<circle clip-path=\"url(#clip0102)\" style=\"fill:#e3ae33; stroke:none; fill-opacity:1\" cx=\"1668.58\" cy=\"1403.43\" r=\"21\"/>\n",
       "<circle clip-path=\"url(#clip0102)\" style=\"fill:#000000; stroke:none; fill-opacity:1\" cx=\"1875.91\" cy=\"1403.43\" r=\"25\"/>\n",
       "<circle clip-path=\"url(#clip0102)\" style=\"fill:#e3ae33; stroke:none; fill-opacity:1\" cx=\"1875.91\" cy=\"1403.43\" r=\"21\"/>\n",
       "<circle clip-path=\"url(#clip0102)\" style=\"fill:#000000; stroke:none; fill-opacity:1\" cx=\"2083.23\" cy=\"1403.43\" r=\"25\"/>\n",
       "<circle clip-path=\"url(#clip0102)\" style=\"fill:#e3ae33; stroke:none; fill-opacity:1\" cx=\"2083.23\" cy=\"1403.43\" r=\"21\"/>\n",
       "<circle clip-path=\"url(#clip0102)\" style=\"fill:#000000; stroke:none; fill-opacity:1\" cx=\"2290.56\" cy=\"763.571\" r=\"25\"/>\n",
       "<circle clip-path=\"url(#clip0102)\" style=\"fill:#e3ae33; stroke:none; fill-opacity:1\" cx=\"2290.56\" cy=\"763.571\" r=\"21\"/>\n",
       "<polyline clip-path=\"url(#clip0102)\" style=\"stroke:#9a84c8; stroke-width:24; stroke-opacity:1; fill:none\" points=\"\n",
       "  217.3,1106.19 424.626,1403.43 631.952,1403.43 839.278,1403.43 1046.6,1403.43 1253.93,1403.43 1461.25,1403.43 1668.58,1403.43 1875.91,1403.43 2083.23,1403.43 \n",
       "  2290.56,561.492 \n",
       "  \"/>\n",
       "<circle clip-path=\"url(#clip0102)\" style=\"fill:#000000; stroke:none; fill-opacity:1\" cx=\"217.3\" cy=\"1106.19\" r=\"25\"/>\n",
       "<circle clip-path=\"url(#clip0102)\" style=\"fill:#9a84c8; stroke:none; fill-opacity:1\" cx=\"217.3\" cy=\"1106.19\" r=\"21\"/>\n",
       "<circle clip-path=\"url(#clip0102)\" style=\"fill:#000000; stroke:none; fill-opacity:1\" cx=\"424.626\" cy=\"1403.43\" r=\"25\"/>\n",
       "<circle clip-path=\"url(#clip0102)\" style=\"fill:#9a84c8; stroke:none; fill-opacity:1\" cx=\"424.626\" cy=\"1403.43\" r=\"21\"/>\n",
       "<circle clip-path=\"url(#clip0102)\" style=\"fill:#000000; stroke:none; fill-opacity:1\" cx=\"631.952\" cy=\"1403.43\" r=\"25\"/>\n",
       "<circle clip-path=\"url(#clip0102)\" style=\"fill:#9a84c8; stroke:none; fill-opacity:1\" cx=\"631.952\" cy=\"1403.43\" r=\"21\"/>\n",
       "<circle clip-path=\"url(#clip0102)\" style=\"fill:#000000; stroke:none; fill-opacity:1\" cx=\"839.278\" cy=\"1403.43\" r=\"25\"/>\n",
       "<circle clip-path=\"url(#clip0102)\" style=\"fill:#9a84c8; stroke:none; fill-opacity:1\" cx=\"839.278\" cy=\"1403.43\" r=\"21\"/>\n",
       "<circle clip-path=\"url(#clip0102)\" style=\"fill:#000000; stroke:none; fill-opacity:1\" cx=\"1046.6\" cy=\"1403.43\" r=\"25\"/>\n",
       "<circle clip-path=\"url(#clip0102)\" style=\"fill:#9a84c8; stroke:none; fill-opacity:1\" cx=\"1046.6\" cy=\"1403.43\" r=\"21\"/>\n",
       "<circle clip-path=\"url(#clip0102)\" style=\"fill:#000000; stroke:none; fill-opacity:1\" cx=\"1253.93\" cy=\"1403.43\" r=\"25\"/>\n",
       "<circle clip-path=\"url(#clip0102)\" style=\"fill:#9a84c8; stroke:none; fill-opacity:1\" cx=\"1253.93\" cy=\"1403.43\" r=\"21\"/>\n",
       "<circle clip-path=\"url(#clip0102)\" style=\"fill:#000000; stroke:none; fill-opacity:1\" cx=\"1461.25\" cy=\"1403.43\" r=\"25\"/>\n",
       "<circle clip-path=\"url(#clip0102)\" style=\"fill:#9a84c8; stroke:none; fill-opacity:1\" cx=\"1461.25\" cy=\"1403.43\" r=\"21\"/>\n",
       "<circle clip-path=\"url(#clip0102)\" style=\"fill:#000000; stroke:none; fill-opacity:1\" cx=\"1668.58\" cy=\"1403.43\" r=\"25\"/>\n",
       "<circle clip-path=\"url(#clip0102)\" style=\"fill:#9a84c8; stroke:none; fill-opacity:1\" cx=\"1668.58\" cy=\"1403.43\" r=\"21\"/>\n",
       "<circle clip-path=\"url(#clip0102)\" style=\"fill:#000000; stroke:none; fill-opacity:1\" cx=\"1875.91\" cy=\"1403.43\" r=\"25\"/>\n",
       "<circle clip-path=\"url(#clip0102)\" style=\"fill:#9a84c8; stroke:none; fill-opacity:1\" cx=\"1875.91\" cy=\"1403.43\" r=\"21\"/>\n",
       "<circle clip-path=\"url(#clip0102)\" style=\"fill:#000000; stroke:none; fill-opacity:1\" cx=\"2083.23\" cy=\"1403.43\" r=\"25\"/>\n",
       "<circle clip-path=\"url(#clip0102)\" style=\"fill:#9a84c8; stroke:none; fill-opacity:1\" cx=\"2083.23\" cy=\"1403.43\" r=\"21\"/>\n",
       "<circle clip-path=\"url(#clip0102)\" style=\"fill:#000000; stroke:none; fill-opacity:1\" cx=\"2290.56\" cy=\"561.492\" r=\"25\"/>\n",
       "<circle clip-path=\"url(#clip0102)\" style=\"fill:#9a84c8; stroke:none; fill-opacity:1\" cx=\"2290.56\" cy=\"561.492\" r=\"21\"/>\n",
       "<polygon clip-path=\"url(#clip0100)\" points=\"\n",
       "1826.75,312.204 2280.76,312.204 2280.76,130.764 1826.75,130.764 \n",
       "  \" fill=\"#ffffff\" fill-rule=\"evenodd\" fill-opacity=\"1\"/>\n",
       "<polyline clip-path=\"url(#clip0100)\" style=\"stroke:#000000; stroke-width:4; stroke-opacity:1; fill:none\" points=\"\n",
       "  1826.75,312.204 2280.76,312.204 2280.76,130.764 1826.75,130.764 1826.75,312.204 \n",
       "  \"/>\n",
       "<polyline clip-path=\"url(#clip0100)\" style=\"stroke:#e3ae33; stroke-width:24; stroke-opacity:1; fill:none\" points=\"\n",
       "  1850.75,191.244 1994.75,191.244 \n",
       "  \"/>\n",
       "<circle clip-path=\"url(#clip0100)\" style=\"fill:#000000; stroke:none; fill-opacity:1\" cx=\"1934.75\" cy=\"191.244\" r=\"25\"/>\n",
       "<circle clip-path=\"url(#clip0100)\" style=\"fill:#e3ae33; stroke:none; fill-opacity:1\" cx=\"1934.75\" cy=\"191.244\" r=\"21\"/>\n",
       "<g clip-path=\"url(#clip0100)\">\n",
       "<text style=\"fill:#000000; fill-opacity:1; font-family:Arial,Helvetica Neue,Helvetica,sans-serif; font-size:48px; text-anchor:start;\" transform=\"rotate(0, 2018.75, 208.744)\" x=\"2018.75\" y=\"208.744\">Front legs</text>\n",
       "</g>\n",
       "<polyline clip-path=\"url(#clip0100)\" style=\"stroke:#9a84c8; stroke-width:24; stroke-opacity:1; fill:none\" points=\"\n",
       "  1850.75,251.724 1994.75,251.724 \n",
       "  \"/>\n",
       "<circle clip-path=\"url(#clip0100)\" style=\"fill:#000000; stroke:none; fill-opacity:1\" cx=\"1934.75\" cy=\"251.724\" r=\"25\"/>\n",
       "<circle clip-path=\"url(#clip0100)\" style=\"fill:#9a84c8; stroke:none; fill-opacity:1\" cx=\"1934.75\" cy=\"251.724\" r=\"21\"/>\n",
       "<g clip-path=\"url(#clip0100)\">\n",
       "<text style=\"fill:#000000; fill-opacity:1; font-family:Arial,Helvetica Neue,Helvetica,sans-serif; font-size:48px; text-anchor:start;\" transform=\"rotate(0, 2018.75, 269.224)\" x=\"2018.75\" y=\"269.224\">Back legs</text>\n",
       "</g>\n",
       "</svg>\n"
      ]
     },
     "execution_count": 32,
     "metadata": {},
     "output_type": "execute_result"
    }
   ],
   "source": [
    "xlabel=latexstring(\"t\")\n",
    "ylabel=latexstring(\"c_n\")\n",
    "plot(traj_semidirect[7][1:end-1],front_traj,label=\"Front legs\",seriescolor=RGB(((227,174,51) ./ 255.)...),linewidth=6,marker=6,xlabel=xlabel)\n",
    "plot!(traj_semidirect[7][1:end-1],back_traj,label=\"Back legs\",seriescolor=RGB(((154,132,200) ./ 255.)...),linewidth=6,marker=6,ylabel=ylabel)"
   ]
  },
  {
   "cell_type": "code",
   "execution_count": null,
   "metadata": {},
   "outputs": [],
   "source": [
    "plot(traj_semidirect[8][16,:])"
   ]
  },
  {
   "cell_type": "code",
   "execution_count": null,
   "metadata": {},
   "outputs": [],
   "source": [
    "savefig(string(\"littledog.svg\")) "
   ]
  },
  {
   "cell_type": "code",
   "execution_count": null,
   "metadata": {},
   "outputs": [],
   "source": [
    "xlabel=latexstring(\"x\")\n",
    "ylabel=latexstring(\"z\")\n",
    "plot(traj_semidirect[8][1,:],-traj_semidirect[8][2,:],front_traj,label=\"Torso center of mass position\",seriescolor=RGB(((127,174,51) ./ 255.)...),linewidth=6,marker=6,xlabel=xlabel,ylabel=ylabel)"
   ]
  },
  {
   "cell_type": "code",
   "execution_count": null,
   "metadata": {},
   "outputs": [],
   "source": [
    "savefig(string(\"littledogcom.svg\")) "
   ]
  },
  {
   "cell_type": "code",
   "execution_count": null,
   "metadata": {},
   "outputs": [],
   "source": [
    "setanimation!(mvis, traj_semidirect[7], traj_semidirect[1])"
   ]
  },
  {
   "cell_type": "code",
   "execution_count": null,
   "metadata": {},
   "outputs": [],
   "source": [
    "t_step = traj_semidirect[7]\n",
    "q_step = traj_semidirect[1]\n",
    "u_step = traj_semidirect[2][2:end];"
   ]
  },
  {
   "cell_type": "code",
   "execution_count": null,
   "metadata": {},
   "outputs": [],
   "source": [
    "# Multi-steps\n",
    "\n",
    "reps = 10\n",
    "\n",
    "ttraj = t_step\n",
    "qtraj = q_step\n",
    "utraj = u_step\n",
    "for i = 1:(reps-1)\n",
    "    ttraj = vcat(ttraj, t_step .+ ttraj[end])\n",
    "    qtraj = vcat(qtraj, map(q -> q + vcat(qtraj[end][1],zeros(length(q)-1)), q_step))\n",
    "    utraj = vcat(utraj, u_step)\n",
    "end\n",
    "\n",
    "setanimation!(mvis, ttraj, qtraj)"
   ]
  },
  {
   "cell_type": "code",
   "execution_count": null,
   "metadata": {},
   "outputs": [],
   "source": [
    "# Indirect\n",
    "\n",
    "sim_data = get_trajopt_data_indirect(mechanism,env,Δt,N,relax_comp=true)\n",
    "x0, x_min, x_max = setup_prob!(sim_data);"
   ]
  },
  {
   "cell_type": "code",
   "execution_count": null,
   "metadata": {},
   "outputs": [],
   "source": [
    "con_tol = 1e-5\n",
    "obj_tol = 1e-5\n",
    "max_iter = 1000\n",
    "\n",
    "display(@time traj_indirect = Bilevel.trajopt(sim_data, x0=x0, x_min=x_min, x_max=x_max, verbose=1, opt_tol=obj_tol, major_feas=con_tol, minor_feas=con_tol, max_iter=max_iter))\n",
    "\n",
    "x0 = traj_indirect[9]\n",
    "\n",
    "setanimation!(mvis, traj_indirect[7], traj_indirect[1])"
   ]
  },
  {
   "cell_type": "code",
   "execution_count": null,
   "metadata": {},
   "outputs": [],
   "source": [
    "function run_trajopt()\n",
    "    Bilevel.solve_rosenbrock() # clearing SNOPT\n",
    "    Bilevel.trajopt(sim_data, x0=x0, x_min=x_min, x_max=x_max, verbose=0, opt_tol=obj_tol, major_feas=con_tol, minor_feas=con_tol, max_iter=max_iter)\n",
    "end\n",
    "\n",
    "@benchmark run_trajopt()"
   ]
  },
  {
   "cell_type": "code",
   "execution_count": null,
   "metadata": {},
   "outputs": [],
   "source": [
    "setanimation!(mvis, traj_indirect[7], traj_indirect[1])"
   ]
  },
  {
   "cell_type": "code",
   "execution_count": null,
   "metadata": {},
   "outputs": [],
   "source": [
    "t_step = traj_indirect[7]\n",
    "q_step = traj_indirect[1]\n",
    "u_step = traj_indirect[2][2:end];"
   ]
  }
 ],
 "metadata": {
  "kernelspec": {
   "display_name": "Julia 1.1.0",
   "language": "julia",
   "name": "julia-1.1"
  },
  "language_info": {
   "file_extension": ".jl",
   "mimetype": "application/julia",
   "name": "julia",
   "version": "1.1.0"
  }
 },
 "nbformat": 4,
 "nbformat_minor": 2
}
