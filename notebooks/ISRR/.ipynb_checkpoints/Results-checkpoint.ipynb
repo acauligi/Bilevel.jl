{
 "cells": [
  {
   "cell_type": "code",
   "execution_count": 13,
   "metadata": {},
   "outputs": [],
   "source": [
    "using Revise\n",
    "using Bilevel\n",
    "\n",
    "using RigidBodyDynamics\n",
    "using MeshCatMechanisms\n",
    "using MeshCat\n",
    "using Plots\n",
    "using LinearAlgebra\n",
    "using StaticArrays\n",
    "using BenchmarkTools\n",
    "using LaTeXStrings"
   ]
  },
  {
   "cell_type": "markdown",
   "metadata": {},
   "source": [
    "# Simulation of sliding box"
   ]
  },
  {
   "cell_type": "code",
   "execution_count": null,
   "metadata": {},
   "outputs": [],
   "source": [
    "urdf = joinpath(\"..\", \"..\", \"urdf\", \"ball2d.urdf\")\n",
    "mechanism = parse_urdf(Float64, urdf)\n",
    "\n",
    "floor = findbody(mechanism, \"floor\")\n",
    "point = Point3D(default_frame(floor), SVector([0.,0.,0.]...))\n",
    "normal = FreeVector3D(default_frame(floor), SVector([0.,0.,1.]...))\n",
    "floor_obs = Obstacle(floor, point, normal, :xyz, 1.)\n",
    "\n",
    "obstacles = [floor_obs]\n",
    "env = Environment(mechanism, urdf, obstacles);"
   ]
  },
  {
   "cell_type": "code",
   "execution_count": null,
   "metadata": {},
   "outputs": [],
   "source": [
    "mvis = MechanismVisualizer(mechanism, URDFVisuals(urdf))\n",
    "open(mvis)"
   ]
  },
  {
   "cell_type": "code",
   "execution_count": null,
   "metadata": {},
   "outputs": [],
   "source": [
    "N = 25\n",
    "Δt = 0.05\n",
    "# q0 = [0., 0., 0.]\n",
    "q0 = [0., 0.2, 0.]\n",
    "v0 = [10., 0., 0.];"
   ]
  },
  {
   "cell_type": "code",
   "execution_count": null,
   "metadata": {},
   "outputs": [],
   "source": [
    "# Indirect\n",
    "\n",
    "sim_data = get_sim_data_indirect(mechanism,env,Δt,relax_comp=true)\n",
    "null_ctrl! = (u,t,x) -> u[:] .= 0.\n",
    "x0 = MechanismState(mechanism)\n",
    "set_configuration!(x0, q0)\n",
    "set_velocity!(x0, v0)\n",
    "setdirty!(x0)\n",
    "sim_indirect = Bilevel.simulate(sim_data,null_ctrl!,x0,N)"
   ]
  },
  {
   "cell_type": "code",
   "execution_count": null,
   "metadata": {},
   "outputs": [],
   "source": [
    "@benchmark sim_indirect = Bilevel.simulate(sim_data,null_ctrl!,x0,N)"
   ]
  },
  {
   "cell_type": "code",
   "execution_count": null,
   "metadata": {},
   "outputs": [],
   "source": [
    "setanimation!(mvis, sim_indirect[6], sim_indirect[1])"
   ]
  },
  {
   "cell_type": "code",
   "execution_count": null,
   "metadata": {},
   "outputs": [],
   "source": [
    "# Direct\n",
    "\n",
    "sim_data = get_sim_data_direct(mechanism,env,Δt)\n",
    "null_ctrl! = (u,t,x) -> u[:] .= 0.\n",
    "x0 = MechanismState(mechanism)\n",
    "set_configuration!(x0, q0)\n",
    "set_velocity!(x0, v0)\n",
    "setdirty!(x0)\n",
    "sim_direct = Bilevel.simulate(sim_data,null_ctrl!,x0,N)"
   ]
  },
  {
   "cell_type": "code",
   "execution_count": null,
   "metadata": {},
   "outputs": [],
   "source": [
    "@benchmark sim_direct = Bilevel.simulate(sim_data,null_ctrl!,x0,N)"
   ]
  },
  {
   "cell_type": "code",
   "execution_count": null,
   "metadata": {},
   "outputs": [],
   "source": [
    "setanimation!(mvis, sim_direct[6], sim_direct[1])"
   ]
  },
  {
   "cell_type": "code",
   "execution_count": null,
   "metadata": {},
   "outputs": [],
   "source": [
    "j = 2\n",
    "plot(sim_indirect[6],sim_indirect[8][j,:],label=\"Indirect\",seriescolor=RGB(((227,74,51) ./ 255.)...),linewidth=0,marker=6)\n",
    "plot!(sim_direct[6],sim_direct[8][j,:],label=\"Direct\",seriescolor=RGB(((254,232,200) ./ 255.)...),linewidth=1,marker=4)"
   ]
  },
  {
   "cell_type": "code",
   "execution_count": null,
   "metadata": {},
   "outputs": [],
   "source": [
    "sim_indirect[1][end]"
   ]
  },
  {
   "cell_type": "markdown",
   "metadata": {},
   "source": [
    "# Trajectory optimization of sliding box"
   ]
  },
  {
   "cell_type": "code",
   "execution_count": 25,
   "metadata": {},
   "outputs": [],
   "source": [
    "urdf = joinpath(\"..\", \"..\", \"urdf\", \"ball2d.urdf\")\n",
    "mechanism = parse_urdf(Float64, urdf)\n",
    "\n",
    "floor = findbody(mechanism, \"floor\")\n",
    "point = Point3D(default_frame(floor), SVector([0.,0.,0.]...))\n",
    "normal = FreeVector3D(default_frame(floor), SVector([0.,0.,1.]...))\n",
    "floor_obs = Obstacle(floor, point, normal, :xyz, 1.)\n",
    "\n",
    "obstacles = [floor_obs]\n",
    "env = Environment(mechanism, urdf, obstacles);"
   ]
  },
  {
   "cell_type": "code",
   "execution_count": null,
   "metadata": {},
   "outputs": [],
   "source": [
    "mvis = MechanismVisualizer(mechanism, URDFVisuals(urdf))\n",
    "open(mvis)"
   ]
  },
  {
   "cell_type": "code",
   "execution_count": 26,
   "metadata": {},
   "outputs": [
    {
     "data": {
      "text/plain": [
       "get_prob_init (generic function with 1 method)"
      ]
     },
     "execution_count": 26,
     "metadata": {},
     "output_type": "execute_result"
    }
   ],
   "source": [
    "# q1 = [0., 0., 0.]\n",
    "# qN = [4.85, 0., 0.]\n",
    "# N = 25\n",
    "\n",
    "q1 = [0., 0.2, 0.]\n",
    "qN = [5.05, 0., 0.]\n",
    "N = 20\n",
    "\n",
    "Δt = 0.05\n",
    "\n",
    "q_min = [-10., -10., -10.]\n",
    "q_max = [10., 10., 10.]\n",
    "\n",
    "function get_prob_limits(sim_data)\n",
    "    x_min = -1e19*ones(sim_data.vs.num_vars)\n",
    "    x_max = 1e19*ones(sim_data.vs.num_vars)\n",
    "    \n",
    "    # joint limits\n",
    "    add_box_con_snopt!(x_min, x_max, sim_data, :q, q_min, q_max, 1:N)\n",
    "    add_box_con_snopt!(x_min, x_max, sim_data, :h, [Δt], [Δt], 1:N-1)\n",
    "    \n",
    "    # torques limits\n",
    "    add_box_con_snopt!(x_min, x_max, sim_data, :u, zeros(num_velocities(mechanism)), zeros(num_velocities(mechanism)), 1:N-1)\n",
    "\n",
    "    x_min, x_max\n",
    "end\n",
    "\n",
    "function add_prob_constraints!(sim_data)\n",
    "    vs = sim_data.vs\n",
    "\n",
    "    add_eq!(sim_data, :cq1, length(q1), x -> vs(x, :q1) - q1)\n",
    "    add_eq!(sim_data, :cv1, 1, x -> vs(x, :v1)[2])\n",
    "    add_eq!(sim_data, :cqN, 2, x -> vs(x, Symbol(\"q\", N))[1:2] - qN[1:2])\n",
    "    add_eq!(sim_data, :cvN, 1, x -> vs(x, Symbol(\"v\", N))[1])\n",
    "end\n",
    "\n",
    "function get_prob_init(sim_data)\n",
    "    x0 = zeros(sim_data.vs.num_vars)\n",
    "    for n = 1:N\n",
    "        x0[sim_data.vs(Symbol(\"q\", n))] .= n/N*(qN - q1) + q1\n",
    "    end\n",
    "    \n",
    "    x0\n",
    "end"
   ]
  },
  {
   "cell_type": "code",
   "execution_count": 32,
   "metadata": {},
   "outputs": [
    {
     "name": "stdout",
     "output_type": "stream",
     "text": [
      "Finished successfully: optimality conditions satisfied\n",
      " 50.488197 seconds (126.09 M allocations: 10.067 GiB, 22.96% gc time)\n"
     ]
    },
    {
     "data": {
      "text/plain": [
       "(Array{Float64,1}[[0.0, 0.2, 0.0], [0.534192, 0.175542, -0.0826732], [1.06858, 0.126708, -0.165346], [1.60315, 0.0535822, -0.24802], [2.08627, 2.18535e-17, -0.330693], [2.47786, 0.0, -0.413366], [2.84126, 3.33163e-5, -0.496039], [3.17674, -4.15644e-5, -0.578712], [3.48414, 0.0, -0.661386], [3.76353, 0.00016858, -0.744059], [4.01557, 0.0, -0.826732], [4.23977, 9.80838e-19, -0.909405], [4.43642, 8.60533e-19, -0.992078], [4.60563, -2.18029e-6, -1.07475], [4.74741, 6.19721e-5, -1.15742], [4.86206, 2.49845e-5, -1.2401], [4.94959, -3.79118e-5, -1.32277], [5.00995, -1.58954e-18, -1.40544], [5.04341, 0.0, -1.48812], [5.05, 0.0, -1.57079]], Array{Float64,1}[[10.6799, 0.0, -1.65346], [10.6877, 0.394765, -1.65346], [10.7027, 0.795781, -1.65346], [10.7233, 1.20682, -1.65346], [9.48674, 2.12376, -1.65346], [7.17226, 3.14603, -1.65346], [6.39176, 3.45979, -1.65346], [5.61787, 3.66853, -1.65346], [4.85102, 3.77673, -1.65346], [4.10887, 3.78704, -1.65346], [3.41659, 3.70641, -1.65346], [2.75412, 3.53847, -1.65346], [2.15117, 3.29259, -1.65346], [1.61072, 2.97623, -1.65346], [1.13789, 2.59729, -1.65346], [0.745251, 2.16853, -1.65346], [0.43098, 1.69675, -1.65346], [0.197957, 1.19086, -1.65346], [0.0552501, 0.666736, -1.65346], [0.0, 0.131896, -1.65346]], Array{Float64,1}[[0.0, 0.0, 0.0], [0.0, 0.0, 0.0], [0.0, 0.0, 0.0], [0.0, 0.0, 0.0], [0.0, 0.0, 0.0], [0.0, 0.0, 0.0], [0.0, 0.0, 0.0], [0.0, 0.0, 0.0], [0.0, 0.0, 0.0], [0.0, 0.0, 0.0], [0.0, 0.0, 0.0], [0.0, 0.0, 0.0], [0.0, 0.0, 0.0], [0.0, 0.0, 0.0], [0.0, 0.0, 0.0], [0.0, 0.0, 0.0], [0.0, 0.0, 0.0], [0.0, 0.0, 0.0], [0.0, 0.0, 0.0]], [0.05, 0.05, 0.05, 0.05, 0.05, 0.05, 0.05, 0.05, 0.05, 0.05, 0.05, 0.05, 0.05, 0.05, 0.05, 0.05, 0.05, 0.05, 0.05], Array{Float64,1}[[-5.87703e-15, -2.1391e-16, 1.21578e-14, 5.87703e-15, 1.21578e-14, 10.6838], [1.2102e-19, -5.06235e-21, -1.01445e-20, 2.86006e-20, -1.01445e-20, 10.6877], [2.46442e-18, -1.36082e-18, -9.63923e-19, 3.70197e-18, -9.6391e-19, 10.6915], [1.95812, -2.95268e-18, 6.5841e-15, 1.95812, 6.5841e-15, 9.66231], [3.48399, 0.0, 0.0, 3.48399, 0.0, 7.83191], [1.09489, -1.56256e-16, -3.17922e-16, 1.09489, -3.17921e-16, 7.26806], [1.08833, 4.13623e-17, -2.60567e-18, 1.08833, -2.60567e-18, 6.70959], [1.09813, -1.11673e-17, 7.54687e-19, 1.09813, 7.54687e-19, 6.14785], [1.09839, -7.11845e-15, -1.42369e-14, 1.09839, -1.42369e-14, 5.58788], [1.0774, 0.0, 0.0, 1.0774, 0.0, 5.04089], [1.09975, 0.0, -5.55112e-17, 1.09975, -2.22045e-16, 4.48397], [1.092, 0.0, 0.0, 1.092, 0.0, 3.93303], [1.09167, 0.0, 1.77267e-17, 1.09167, -1.20178e-18, 3.38413], [1.09451, -6.61744e-24, 0.0, 1.09451, 0.0, 2.83561], [1.08679, 0.0, 0.0, 1.08679, 0.0, 2.29302], [1.08992, 0.0, 0.0, 1.08992, -8.47033e-22, 1.75062], [1.09536, 0.0, 0.0, 1.09536, 0.0, 1.20721], [1.08894, 0.0, 0.0, 1.08894, 0.0, 0.669021], [1.0904, 1.5767e-6, 1.83992e-6, 1.0904, 1.83992e-6, 0.131896]], Array{Float64,1}[[0.0, 0.0, 0.0], [0.0, 8.66488e-20, 0.0], [0.0, -5.1269e-17, 0.0], [0.0, -6.68526e-14, 0.0], [0.0, 0.0, 0.0], [0.0, -9.26991e-13, 0.0], [0.0, 4.78784e-16, 0.0], [0.0, -1.17961e-16, 0.0], [0.0, -6.71178e-11, -2.41283e-15], [0.0, -4.44089e-16, 0.0], [0.0, 0.0, 0.0], [0.0, 3.15034e-15, 0.0], [0.0, 5.82072e-12, 0.0], [0.0, 0.0, 0.0], [0.0, -2.67234e-11, 0.0], [0.0, 0.0, 0.0], [0.0, 0.0, 0.0], [0.0, 1.60722e-12, 0.0], [0.0, 1.5134e-6, 0.0]], [0.0, 0.05, 0.1, 0.15, 0.2, 0.25, 0.3, 0.35, 0.4, 0.45, 0.5, 0.55, 0.6, 0.65, 0.7, 0.75, 0.8, 0.85, 0.9, 0.95], [0.0 0.534192 … 5.04341 5.05; 0.2 0.175542 … 0.0 0.0; … ; 0.0 0.394765 … 0.666736 0.131896; -1.65346 -1.65346 … -1.65346 -1.65346], [0.0, 0.2, 0.0, 10.6799, 0.0, -1.65346, 0.0, 0.0, 0.0, 0.05  …  1.0904, 1.83992e-6, 0.131896, 1.0904, 5.05, 0.0, -1.57079, 0.0, 0.131896, -1.65346])"
      ]
     },
     "execution_count": 32,
     "metadata": {},
     "output_type": "execute_result"
    }
   ],
   "source": [
    "# Indirect\n",
    "con_tol = 1e-3\n",
    "obj_tol = 1e-3\n",
    "max_iter = 10000\n",
    "\n",
    "sim_data = get_trajopt_data_indirect(mechanism,env,Δt,N,relax_comp=true)\n",
    "add_prob_constraints!(sim_data)\n",
    "x_min, x_max = get_prob_limits(sim_data)\n",
    "x0 = get_prob_init(sim_data)\n",
    "\n",
    "@time traj_indirect = Bilevel.trajopt(sim_data, x0=x0, x_min=x_min, x_max=x_max, verbose=1, opt_tol=obj_tol, major_feas=con_tol, minor_feas=con_tol, max_iter=max_iter)"
   ]
  },
  {
   "cell_type": "code",
   "execution_count": 33,
   "metadata": {},
   "outputs": [
    {
     "data": {
      "text/plain": [
       "BenchmarkTools.Trial: \n",
       "  memory estimate:  277.75 MiB\n",
       "  allocs estimate:  1584316\n",
       "  --------------\n",
       "  minimum time:     222.444 ms (0.00% GC)\n",
       "  median time:      226.933 ms (0.00% GC)\n",
       "  mean time:        260.554 ms (0.00% GC)\n",
       "  maximum time:     713.777 ms (0.00% GC)\n",
       "  --------------\n",
       "  samples:          20\n",
       "  evals/sample:     1"
      ]
     },
     "execution_count": 33,
     "metadata": {},
     "output_type": "execute_result"
    }
   ],
   "source": [
    "function run_trajopt()\n",
    "    Bilevel.solve_rosenbrock() # clearing SNOPT\n",
    "    Bilevel.trajopt(sim_data, x0=x0, x_min=x_min, x_max=x_max, verbose=0, opt_tol=obj_tol, major_feas=con_tol, minor_feas=con_tol, max_iter=max_iter)\n",
    "end\n",
    "\n",
    "@benchmark run_trajopt()"
   ]
  },
  {
   "cell_type": "code",
   "execution_count": 30,
   "metadata": {},
   "outputs": [
    {
     "name": "stdout",
     "output_type": "stream",
     "text": [
      "Finished successfully: optimality conditions satisfied\n",
      "  1.611604 seconds (13.82 M allocations: 1.977 GiB)\n"
     ]
    },
    {
     "data": {
      "text/plain": [
       "(Array{Float64,1}[[0.0, 0.2, 0.0], [0.491219, 0.175732, 0.0824386], [0.978773, 0.127279, 0.164877], [1.46268, 0.0547196, 0.247316], [1.90746, 9.77139e-14, 0.329754], [2.28193, 0.0, 0.412193], [2.63253, 0.0, 0.494632], [2.9593, 0.0, 0.57707], [3.26229, -3.88748e-19, 0.659509], [3.54151, 0.0, 0.741948], [3.79716, 0.0, 0.824386], [4.02934, 0.0, 0.906825], [4.23812, 0.0, 0.989263], [4.42355, 0.0, 1.0717], [4.58571, 3.58057e-19, 1.15414], [4.72462, -1.73472e-18, 1.23658], [4.84043, -9.91508e-14, 1.31902], [4.93315, 8.331e-5, 1.40146], [5.00287, 0.000210335, 1.4839], [5.05, 0.0, 1.56633]], Array{Float64,1}[[9.89804, 0.0, 1.64877], [9.75105, -1.2927, 1.64877], [9.45977, -2.55639, 1.64877], [9.02836, -3.77624, 1.64877], [8.06202, -3.91594, 1.64877], [6.86217, -3.00042, 1.64877], [6.17145, -3.32859, 1.64877], [5.47712, -3.56555, 1.64877], [4.78902, -3.71301, 1.64877], [4.11651, -3.77347, 1.64877], [3.47189, -3.75374, 1.64877], [2.86159, -3.65704, 1.64877], [2.2936, -3.4891, 1.64877], [1.7751, -3.2563, 1.64877], [1.31252, -2.96569, 1.64877], [0.911366, -2.62457, 1.64877], [0.577006, -2.24309, 1.64877], [0.314163, -1.82757, 1.64877], [0.123564, -1.389, 1.64877], [0.0, -0.942573, 1.64877]], Array{Float64,1}[[0.0, 0.0, 0.0], [0.0, 0.0, 0.0], [0.0, 0.0, 0.0], [0.0, 0.0, 0.0], [0.0, 0.0, 0.0], [0.0, 0.0, 0.0], [0.0, 0.0, 0.0], [0.0, 0.0, 0.0], [0.0, 0.0, 0.0], [0.0, 0.0, 0.0], [0.0, 0.0, 0.0], [0.0, 0.0, 0.0], [0.0, 0.0, 0.0], [0.0, 0.0, 0.0], [0.0, 0.0, 0.0], [0.0, 0.0, 0.0], [0.0, 0.0, 0.0], [0.0, 0.0, 0.0], [0.0, 0.0, 0.0]], [0.05, 0.05, 0.05, 0.05, 0.05, 0.05, 0.05, 0.05, 0.05, 0.05, 0.05, 0.05, 0.05, 0.05, 0.05, 0.05, 0.05, 0.05, 0.05], Array{Float64,1}[[6.04724e-15], [-4.64698e-16], [-1.41397e-16], [1.58769], [2.98895], [0.921157], [0.92126], [0.921303], [0.92124], [0.921877], [0.922044], [0.92221], [0.922347], [0.92246], [0.92249], [0.922849], [0.926232], [0.924857], [0.910568]], Array{Float64,1}[], [0.0, 0.05, 0.1, 0.15, 0.2, 0.25, 0.3, 0.35, 0.4, 0.45, 0.5, 0.55, 0.6, 0.65, 0.7, 0.75, 0.8, 0.85, 0.9, 0.95], [0.0 0.491219 … 5.00287 5.05; 0.2 0.175732 … 0.000210335 0.0; … ; 0.0 -1.2927 … -1.389 -0.942573; 1.64877 1.64877 … 1.64877 1.64877], [0.0, 0.2, 0.0, 9.89804, 0.0, 1.64877, 0.0, 0.0, 0.0, 0.05  …  0.0, 0.0, 0.05, 0.910568, 5.05, 0.0, 1.56633, 0.0, -0.942573, 1.64877])"
      ]
     },
     "execution_count": 30,
     "metadata": {},
     "output_type": "execute_result"
    }
   ],
   "source": [
    "# Semidirect\n",
    "con_tol = 1e-3\n",
    "obj_tol = 1e-3\n",
    "max_iter = 10000\n",
    "\n",
    "sim_data = get_trajopt_data_semidirect(mechanism,env,Δt,N,relax_comp=false)\n",
    "add_prob_constraints!(sim_data)\n",
    "x_min, x_max = get_prob_limits(sim_data)\n",
    "x0 = get_prob_init(sim_data)\n",
    "@time traj_semidirect = Bilevel.trajopt(sim_data, x0=x0, x_min=x_min, x_max=x_max, verbose=1, opt_tol=obj_tol, major_feas=con_tol, minor_feas=con_tol, max_iter=max_iter)"
   ]
  },
  {
   "cell_type": "code",
   "execution_count": 31,
   "metadata": {},
   "outputs": [
    {
     "data": {
      "text/plain": [
       "BenchmarkTools.Trial: \n",
       "  memory estimate:  92.04 MiB\n",
       "  allocs estimate:  505654\n",
       "  --------------\n",
       "  minimum time:     56.876 ms (0.00% GC)\n",
       "  median time:      65.050 ms (0.00% GC)\n",
       "  mean time:        72.422 ms (0.00% GC)\n",
       "  maximum time:     115.467 ms (0.00% GC)\n",
       "  --------------\n",
       "  samples:          70\n",
       "  evals/sample:     1"
      ]
     },
     "execution_count": 31,
     "metadata": {},
     "output_type": "execute_result"
    }
   ],
   "source": [
    "function run_trajopt()\n",
    "    Bilevel.solve_rosenbrock() # clearing SNOPT\n",
    "    Bilevel.trajopt(sim_data, x0=x0, x_min=x_min, x_max=x_max, verbose=0, opt_tol=obj_tol, major_feas=con_tol, minor_feas=con_tol, max_iter=max_iter)\n",
    "end\n",
    "\n",
    "@benchmark run_trajopt()"
   ]
  },
  {
   "cell_type": "code",
   "execution_count": null,
   "metadata": {},
   "outputs": [],
   "source": [
    "j = 1\n",
    "xlabel=latexstring(\"t\")\n",
    "ylabel=latexstring(\"x\")\n",
    "plot(traj_indirect[7],traj_indirect[8][j,:],label=\"Indirect\",seriescolor=RGB(((227,74,51) ./ 255.)...),linewidth=6,marker=6,xlabel=xlabel)\n",
    "plot!(traj_semidirect[7],traj_semidirect[8][j,:],label=\"Semidirect\",seriescolor=RGB(((254,232,200) ./ 255.)...),linewidth=1,marker=6,ylabel=ylabel)"
   ]
  },
  {
   "cell_type": "code",
   "execution_count": 69,
   "metadata": {},
   "outputs": [],
   "source": [
    "savefig(string(\"slidingbox_x.svg\")) "
   ]
  },
  {
   "cell_type": "code",
   "execution_count": 59,
   "metadata": {},
   "outputs": [
    {
     "data": {
      "image/svg+xml": [
       "<?xml version=\"1.0\" encoding=\"utf-8\"?>\n",
       "<svg xmlns=\"http://www.w3.org/2000/svg\" xmlns:xlink=\"http://www.w3.org/1999/xlink\" width=\"600\" height=\"400\" viewBox=\"0 0 2400 1600\">\n",
       "<defs>\n",
       "  <clipPath id=\"clip6000\">\n",
       "    <rect x=\"0\" y=\"0\" width=\"2400\" height=\"1600\"/>\n",
       "  </clipPath>\n",
       "</defs>\n",
       "<polygon clip-path=\"url(#clip6000)\" points=\"\n",
       "0,1600 2400,1600 2400,0 0,0 \n",
       "  \" fill=\"#ffffff\" fill-rule=\"evenodd\" fill-opacity=\"1\"/>\n",
       "<defs>\n",
       "  <clipPath id=\"clip6001\">\n",
       "    <rect x=\"480\" y=\"0\" width=\"1681\" height=\"1600\"/>\n",
       "  </clipPath>\n",
       "</defs>\n",
       "<polygon clip-path=\"url(#clip6000)\" points=\"\n",
       "216.408,1443.73 2352.76,1443.73 2352.76,47.2441 216.408,47.2441 \n",
       "  \" fill=\"#ffffff\" fill-rule=\"evenodd\" fill-opacity=\"1\"/>\n",
       "<defs>\n",
       "  <clipPath id=\"clip6002\">\n",
       "    <rect x=\"216\" y=\"47\" width=\"2137\" height=\"1397\"/>\n",
       "  </clipPath>\n",
       "</defs>\n",
       "<polyline clip-path=\"url(#clip6002)\" style=\"stroke:#000000; stroke-width:2; stroke-opacity:0.1; fill:none\" points=\"\n",
       "  276.871,1443.73 276.871,47.2441 \n",
       "  \"/>\n",
       "<polyline clip-path=\"url(#clip6002)\" style=\"stroke:#000000; stroke-width:2; stroke-opacity:0.1; fill:none\" points=\"\n",
       "  701.17,1443.73 701.17,47.2441 \n",
       "  \"/>\n",
       "<polyline clip-path=\"url(#clip6002)\" style=\"stroke:#000000; stroke-width:2; stroke-opacity:0.1; fill:none\" points=\"\n",
       "  1125.47,1443.73 1125.47,47.2441 \n",
       "  \"/>\n",
       "<polyline clip-path=\"url(#clip6002)\" style=\"stroke:#000000; stroke-width:2; stroke-opacity:0.1; fill:none\" points=\"\n",
       "  1549.77,1443.73 1549.77,47.2441 \n",
       "  \"/>\n",
       "<polyline clip-path=\"url(#clip6002)\" style=\"stroke:#000000; stroke-width:2; stroke-opacity:0.1; fill:none\" points=\"\n",
       "  1974.07,1443.73 1974.07,47.2441 \n",
       "  \"/>\n",
       "<polyline clip-path=\"url(#clip6002)\" style=\"stroke:#000000; stroke-width:2; stroke-opacity:0.1; fill:none\" points=\"\n",
       "  216.408,1403.93 2352.76,1403.93 \n",
       "  \"/>\n",
       "<polyline clip-path=\"url(#clip6002)\" style=\"stroke:#000000; stroke-width:2; stroke-opacity:0.1; fill:none\" points=\"\n",
       "  216.408,1074.64 2352.76,1074.64 \n",
       "  \"/>\n",
       "<polyline clip-path=\"url(#clip6002)\" style=\"stroke:#000000; stroke-width:2; stroke-opacity:0.1; fill:none\" points=\"\n",
       "  216.408,745.349 2352.76,745.349 \n",
       "  \"/>\n",
       "<polyline clip-path=\"url(#clip6002)\" style=\"stroke:#000000; stroke-width:2; stroke-opacity:0.1; fill:none\" points=\"\n",
       "  216.408,416.058 2352.76,416.058 \n",
       "  \"/>\n",
       "<polyline clip-path=\"url(#clip6002)\" style=\"stroke:#000000; stroke-width:2; stroke-opacity:0.1; fill:none\" points=\"\n",
       "  216.408,86.7672 2352.76,86.7672 \n",
       "  \"/>\n",
       "<polyline clip-path=\"url(#clip6000)\" style=\"stroke:#000000; stroke-width:4; stroke-opacity:1; fill:none\" points=\"\n",
       "  216.408,1443.73 2352.76,1443.73 \n",
       "  \"/>\n",
       "<polyline clip-path=\"url(#clip6000)\" style=\"stroke:#000000; stroke-width:4; stroke-opacity:1; fill:none\" points=\"\n",
       "  216.408,1443.73 216.408,47.2441 \n",
       "  \"/>\n",
       "<polyline clip-path=\"url(#clip6000)\" style=\"stroke:#000000; stroke-width:4; stroke-opacity:1; fill:none\" points=\"\n",
       "  276.871,1443.73 276.871,1422.78 \n",
       "  \"/>\n",
       "<polyline clip-path=\"url(#clip6000)\" style=\"stroke:#000000; stroke-width:4; stroke-opacity:1; fill:none\" points=\"\n",
       "  701.17,1443.73 701.17,1422.78 \n",
       "  \"/>\n",
       "<polyline clip-path=\"url(#clip6000)\" style=\"stroke:#000000; stroke-width:4; stroke-opacity:1; fill:none\" points=\"\n",
       "  1125.47,1443.73 1125.47,1422.78 \n",
       "  \"/>\n",
       "<polyline clip-path=\"url(#clip6000)\" style=\"stroke:#000000; stroke-width:4; stroke-opacity:1; fill:none\" points=\"\n",
       "  1549.77,1443.73 1549.77,1422.78 \n",
       "  \"/>\n",
       "<polyline clip-path=\"url(#clip6000)\" style=\"stroke:#000000; stroke-width:4; stroke-opacity:1; fill:none\" points=\"\n",
       "  1974.07,1443.73 1974.07,1422.78 \n",
       "  \"/>\n",
       "<polyline clip-path=\"url(#clip6000)\" style=\"stroke:#000000; stroke-width:4; stroke-opacity:1; fill:none\" points=\"\n",
       "  216.408,1403.93 248.454,1403.93 \n",
       "  \"/>\n",
       "<polyline clip-path=\"url(#clip6000)\" style=\"stroke:#000000; stroke-width:4; stroke-opacity:1; fill:none\" points=\"\n",
       "  216.408,1074.64 248.454,1074.64 \n",
       "  \"/>\n",
       "<polyline clip-path=\"url(#clip6000)\" style=\"stroke:#000000; stroke-width:4; stroke-opacity:1; fill:none\" points=\"\n",
       "  216.408,745.349 248.454,745.349 \n",
       "  \"/>\n",
       "<polyline clip-path=\"url(#clip6000)\" style=\"stroke:#000000; stroke-width:4; stroke-opacity:1; fill:none\" points=\"\n",
       "  216.408,416.058 248.454,416.058 \n",
       "  \"/>\n",
       "<polyline clip-path=\"url(#clip6000)\" style=\"stroke:#000000; stroke-width:4; stroke-opacity:1; fill:none\" points=\"\n",
       "  216.408,86.7672 248.454,86.7672 \n",
       "  \"/>\n",
       "<g clip-path=\"url(#clip6000)\">\n",
       "<text style=\"fill:#000000; fill-opacity:1; font-family:Arial,Helvetica Neue,Helvetica,sans-serif; font-size:48px; text-anchor:middle;\" transform=\"rotate(0, 276.871, 1497.73)\" x=\"276.871\" y=\"1497.73\">0.0</text>\n",
       "</g>\n",
       "<g clip-path=\"url(#clip6000)\">\n",
       "<text style=\"fill:#000000; fill-opacity:1; font-family:Arial,Helvetica Neue,Helvetica,sans-serif; font-size:48px; text-anchor:middle;\" transform=\"rotate(0, 701.17, 1497.73)\" x=\"701.17\" y=\"1497.73\">0.2</text>\n",
       "</g>\n",
       "<g clip-path=\"url(#clip6000)\">\n",
       "<text style=\"fill:#000000; fill-opacity:1; font-family:Arial,Helvetica Neue,Helvetica,sans-serif; font-size:48px; text-anchor:middle;\" transform=\"rotate(0, 1125.47, 1497.73)\" x=\"1125.47\" y=\"1497.73\">0.4</text>\n",
       "</g>\n",
       "<g clip-path=\"url(#clip6000)\">\n",
       "<text style=\"fill:#000000; fill-opacity:1; font-family:Arial,Helvetica Neue,Helvetica,sans-serif; font-size:48px; text-anchor:middle;\" transform=\"rotate(0, 1549.77, 1497.73)\" x=\"1549.77\" y=\"1497.73\">0.6</text>\n",
       "</g>\n",
       "<g clip-path=\"url(#clip6000)\">\n",
       "<text style=\"fill:#000000; fill-opacity:1; font-family:Arial,Helvetica Neue,Helvetica,sans-serif; font-size:48px; text-anchor:middle;\" transform=\"rotate(0, 1974.07, 1497.73)\" x=\"1974.07\" y=\"1497.73\">0.8</text>\n",
       "</g>\n",
       "<g clip-path=\"url(#clip6000)\">\n",
       "<text style=\"fill:#000000; fill-opacity:1; font-family:Arial,Helvetica Neue,Helvetica,sans-serif; font-size:48px; text-anchor:end;\" transform=\"rotate(0, 192.408, 1421.43)\" x=\"192.408\" y=\"1421.43\">0.00</text>\n",
       "</g>\n",
       "<g clip-path=\"url(#clip6000)\">\n",
       "<text style=\"fill:#000000; fill-opacity:1; font-family:Arial,Helvetica Neue,Helvetica,sans-serif; font-size:48px; text-anchor:end;\" transform=\"rotate(0, 192.408, 1092.14)\" x=\"192.408\" y=\"1092.14\">0.05</text>\n",
       "</g>\n",
       "<g clip-path=\"url(#clip6000)\">\n",
       "<text style=\"fill:#000000; fill-opacity:1; font-family:Arial,Helvetica Neue,Helvetica,sans-serif; font-size:48px; text-anchor:end;\" transform=\"rotate(0, 192.408, 762.849)\" x=\"192.408\" y=\"762.849\">0.10</text>\n",
       "</g>\n",
       "<g clip-path=\"url(#clip6000)\">\n",
       "<text style=\"fill:#000000; fill-opacity:1; font-family:Arial,Helvetica Neue,Helvetica,sans-serif; font-size:48px; text-anchor:end;\" transform=\"rotate(0, 192.408, 433.558)\" x=\"192.408\" y=\"433.558\">0.15</text>\n",
       "</g>\n",
       "<g clip-path=\"url(#clip6000)\">\n",
       "<text style=\"fill:#000000; fill-opacity:1; font-family:Arial,Helvetica Neue,Helvetica,sans-serif; font-size:48px; text-anchor:end;\" transform=\"rotate(0, 192.408, 104.267)\" x=\"192.408\" y=\"104.267\">0.20</text>\n",
       "</g>\n",
       "<g clip-path=\"url(#clip6000)\">\n",
       "<image width=\"21\" height=\"42\" xlink:href=\"data:image/png;base64,\n",
       "iVBORw0KGgoAAAANSUhEUgAAABUAAAAqCAYAAABcOxDuAAABl0lEQVRIia3W4c3CIBAG4FcnII7g\n",
       "CDdD3YAZOgJxBEZghsYJiCN0BOwIxA3u+4X5sNAeVBJ+0F7fwJMzcmJmtIzX68WPxwNEhNvtdioW\n",
       "MbN4eu8ZwGdO08SlunPLLu/3e7ZelqVcKN1ljDHbJQD23hd3Kg6dpmkVWqsVH//5fGZrIqrWdocO\n",
       "w1Av/rWn2LTFU2za4gkITZs8gf3jt3qKTFs9mRnw3rNSavVh7/Te83lZFrzfbwmtaFwul+3jhxCa\n",
       "PXdNezx3+7S1P9NoCt3tzzR+2Z+7pr2em6a9nsCGabcnUD7+Ec+q6RHPqukRT6BiesgTWB//qGfR\n",
       "9Khn0fSoJ1Awnec5Wzd7AviJZ4yRtdY8zzOvTL+vigA4xrgbaoxhABxCWIdaa7NAIhLt8rs2M+3x\n",
       "THdWa23Z9Hq9im7Kaab/MK11VrcZmuBrU2udWRZDU5EkNPk751Y12cI5J2qnVDeOY/H96gERfUKN\n",
       "MdlHqR+3AouhIQT+HzyOIxtj+D+NtXbTuvrCOcfDMLBSipVSTERsjBH9GP4A/KauBMnGQOkAAAAA\n",
       "SUVORK5CYII=\n",
       "\" transform=\"translate(1274, 1520)\"/>\n",
       "</g>\n",
       "<g clip-path=\"url(#clip6000)\">\n",
       "<image width=\"30\" height=\"29\" xlink:href=\"data:image/png;base64,\n",
       "iVBORw0KGgoAAAANSUhEUgAAAB4AAAAdCAYAAAC9pNwMAAABu0lEQVRIib2Va43EMAyE5xgEQyEU\n",
       "QyAUQyAUQyEEQyEUQyAEQxbC3I+TI7dJ+sjqupKl3VXjqe3PE4QQSBJvB4wxNMZwXddXXwAhBA7D\n",
       "QACcpukr8ZQSY4y3cuQvzjkC4DAMtw8fY57nnGNZltMcux/LshAAAXS1PqVEKUBeYNu2ap7ij2ma\n",
       "8kHvfVflKSWO45jz1EZYHNq2jQBojCGAy5adhRYfx5EpJTaFY4y51dZaAuA8z92VSwEi3hT23hMA\n",
       "Zb+l9c65LvF1XbOwzrN7KISQH6jNvVdcVw2AMca6qLW2EBDxnrZrYCXHDqgrmmXmT4HTayqz3lWq\n",
       "W3FF6pNVE252IVXopb8iVSz2rrg4moQxphz8Hb+OMeY1ueNwx+KstaXwXXhk3wE0bVHi2OYQwt5d\n",
       "nlKr+Wjd60dw5SWLwddW6Sy0xdag1JeGHgtIQmCR0J76rbjkPrJQwNJrEmKNR/GW41VJ7b2PtXgI\n",
       "gSmlZq7isJ6Jvk3uhmZGRlBzuiatzrniDn1a+RmwjxL2ANfa9X8Tls4JNwV0/ylM/nm7WKZA94qw\n",
       "hL4ovPfviErEGGmtpTGGPyTx9ufz+fAXUqujFxChGt4AAAAASUVORK5CYII=\n",
       "\" transform=\"translate(43, 731)\"/>\n",
       "</g>\n",
       "<polyline clip-path=\"url(#clip6002)\" style=\"stroke:#e34a33; stroke-width:24; stroke-opacity:1; fill:none\" points=\"\n",
       "  276.871,86.7672 382.946,247.845 489.021,569.454 595.096,1051.05 701.17,1403.93 807.245,1403.93 913.32,1403.71 1019.39,1404.2 1125.47,1403.93 1231.54,1402.82 \n",
       "  1337.62,1403.93 1443.69,1403.93 1549.77,1403.93 1655.84,1403.94 1761.92,1403.52 1867.99,1403.77 1974.07,1404.18 2080.14,1403.93 2186.22,1403.93 2292.29,1403.93 \n",
       "  \n",
       "  \"/>\n",
       "<circle clip-path=\"url(#clip6002)\" style=\"fill:#000000; stroke:none; fill-opacity:1\" cx=\"276.871\" cy=\"86.7672\" r=\"25\"/>\n",
       "<circle clip-path=\"url(#clip6002)\" style=\"fill:#e34a33; stroke:none; fill-opacity:1\" cx=\"276.871\" cy=\"86.7672\" r=\"21\"/>\n",
       "<circle clip-path=\"url(#clip6002)\" style=\"fill:#000000; stroke:none; fill-opacity:1\" cx=\"382.946\" cy=\"247.845\" r=\"25\"/>\n",
       "<circle clip-path=\"url(#clip6002)\" style=\"fill:#e34a33; stroke:none; fill-opacity:1\" cx=\"382.946\" cy=\"247.845\" r=\"21\"/>\n",
       "<circle clip-path=\"url(#clip6002)\" style=\"fill:#000000; stroke:none; fill-opacity:1\" cx=\"489.021\" cy=\"569.454\" r=\"25\"/>\n",
       "<circle clip-path=\"url(#clip6002)\" style=\"fill:#e34a33; stroke:none; fill-opacity:1\" cx=\"489.021\" cy=\"569.454\" r=\"21\"/>\n",
       "<circle clip-path=\"url(#clip6002)\" style=\"fill:#000000; stroke:none; fill-opacity:1\" cx=\"595.096\" cy=\"1051.05\" r=\"25\"/>\n",
       "<circle clip-path=\"url(#clip6002)\" style=\"fill:#e34a33; stroke:none; fill-opacity:1\" cx=\"595.096\" cy=\"1051.05\" r=\"21\"/>\n",
       "<circle clip-path=\"url(#clip6002)\" style=\"fill:#000000; stroke:none; fill-opacity:1\" cx=\"701.17\" cy=\"1403.93\" r=\"25\"/>\n",
       "<circle clip-path=\"url(#clip6002)\" style=\"fill:#e34a33; stroke:none; fill-opacity:1\" cx=\"701.17\" cy=\"1403.93\" r=\"21\"/>\n",
       "<circle clip-path=\"url(#clip6002)\" style=\"fill:#000000; stroke:none; fill-opacity:1\" cx=\"807.245\" cy=\"1403.93\" r=\"25\"/>\n",
       "<circle clip-path=\"url(#clip6002)\" style=\"fill:#e34a33; stroke:none; fill-opacity:1\" cx=\"807.245\" cy=\"1403.93\" r=\"21\"/>\n",
       "<circle clip-path=\"url(#clip6002)\" style=\"fill:#000000; stroke:none; fill-opacity:1\" cx=\"913.32\" cy=\"1403.71\" r=\"25\"/>\n",
       "<circle clip-path=\"url(#clip6002)\" style=\"fill:#e34a33; stroke:none; fill-opacity:1\" cx=\"913.32\" cy=\"1403.71\" r=\"21\"/>\n",
       "<circle clip-path=\"url(#clip6002)\" style=\"fill:#000000; stroke:none; fill-opacity:1\" cx=\"1019.39\" cy=\"1404.2\" r=\"25\"/>\n",
       "<circle clip-path=\"url(#clip6002)\" style=\"fill:#e34a33; stroke:none; fill-opacity:1\" cx=\"1019.39\" cy=\"1404.2\" r=\"21\"/>\n",
       "<circle clip-path=\"url(#clip6002)\" style=\"fill:#000000; stroke:none; fill-opacity:1\" cx=\"1125.47\" cy=\"1403.93\" r=\"25\"/>\n",
       "<circle clip-path=\"url(#clip6002)\" style=\"fill:#e34a33; stroke:none; fill-opacity:1\" cx=\"1125.47\" cy=\"1403.93\" r=\"21\"/>\n",
       "<circle clip-path=\"url(#clip6002)\" style=\"fill:#000000; stroke:none; fill-opacity:1\" cx=\"1231.54\" cy=\"1402.82\" r=\"25\"/>\n",
       "<circle clip-path=\"url(#clip6002)\" style=\"fill:#e34a33; stroke:none; fill-opacity:1\" cx=\"1231.54\" cy=\"1402.82\" r=\"21\"/>\n",
       "<circle clip-path=\"url(#clip6002)\" style=\"fill:#000000; stroke:none; fill-opacity:1\" cx=\"1337.62\" cy=\"1403.93\" r=\"25\"/>\n",
       "<circle clip-path=\"url(#clip6002)\" style=\"fill:#e34a33; stroke:none; fill-opacity:1\" cx=\"1337.62\" cy=\"1403.93\" r=\"21\"/>\n",
       "<circle clip-path=\"url(#clip6002)\" style=\"fill:#000000; stroke:none; fill-opacity:1\" cx=\"1443.69\" cy=\"1403.93\" r=\"25\"/>\n",
       "<circle clip-path=\"url(#clip6002)\" style=\"fill:#e34a33; stroke:none; fill-opacity:1\" cx=\"1443.69\" cy=\"1403.93\" r=\"21\"/>\n",
       "<circle clip-path=\"url(#clip6002)\" style=\"fill:#000000; stroke:none; fill-opacity:1\" cx=\"1549.77\" cy=\"1403.93\" r=\"25\"/>\n",
       "<circle clip-path=\"url(#clip6002)\" style=\"fill:#e34a33; stroke:none; fill-opacity:1\" cx=\"1549.77\" cy=\"1403.93\" r=\"21\"/>\n",
       "<circle clip-path=\"url(#clip6002)\" style=\"fill:#000000; stroke:none; fill-opacity:1\" cx=\"1655.84\" cy=\"1403.94\" r=\"25\"/>\n",
       "<circle clip-path=\"url(#clip6002)\" style=\"fill:#e34a33; stroke:none; fill-opacity:1\" cx=\"1655.84\" cy=\"1403.94\" r=\"21\"/>\n",
       "<circle clip-path=\"url(#clip6002)\" style=\"fill:#000000; stroke:none; fill-opacity:1\" cx=\"1761.92\" cy=\"1403.52\" r=\"25\"/>\n",
       "<circle clip-path=\"url(#clip6002)\" style=\"fill:#e34a33; stroke:none; fill-opacity:1\" cx=\"1761.92\" cy=\"1403.52\" r=\"21\"/>\n",
       "<circle clip-path=\"url(#clip6002)\" style=\"fill:#000000; stroke:none; fill-opacity:1\" cx=\"1867.99\" cy=\"1403.77\" r=\"25\"/>\n",
       "<circle clip-path=\"url(#clip6002)\" style=\"fill:#e34a33; stroke:none; fill-opacity:1\" cx=\"1867.99\" cy=\"1403.77\" r=\"21\"/>\n",
       "<circle clip-path=\"url(#clip6002)\" style=\"fill:#000000; stroke:none; fill-opacity:1\" cx=\"1974.07\" cy=\"1404.18\" r=\"25\"/>\n",
       "<circle clip-path=\"url(#clip6002)\" style=\"fill:#e34a33; stroke:none; fill-opacity:1\" cx=\"1974.07\" cy=\"1404.18\" r=\"21\"/>\n",
       "<circle clip-path=\"url(#clip6002)\" style=\"fill:#000000; stroke:none; fill-opacity:1\" cx=\"2080.14\" cy=\"1403.93\" r=\"25\"/>\n",
       "<circle clip-path=\"url(#clip6002)\" style=\"fill:#e34a33; stroke:none; fill-opacity:1\" cx=\"2080.14\" cy=\"1403.93\" r=\"21\"/>\n",
       "<circle clip-path=\"url(#clip6002)\" style=\"fill:#000000; stroke:none; fill-opacity:1\" cx=\"2186.22\" cy=\"1403.93\" r=\"25\"/>\n",
       "<circle clip-path=\"url(#clip6002)\" style=\"fill:#e34a33; stroke:none; fill-opacity:1\" cx=\"2186.22\" cy=\"1403.93\" r=\"21\"/>\n",
       "<circle clip-path=\"url(#clip6002)\" style=\"fill:#000000; stroke:none; fill-opacity:1\" cx=\"2292.29\" cy=\"1403.93\" r=\"25\"/>\n",
       "<circle clip-path=\"url(#clip6002)\" style=\"fill:#e34a33; stroke:none; fill-opacity:1\" cx=\"2292.29\" cy=\"1403.93\" r=\"21\"/>\n",
       "<polyline clip-path=\"url(#clip6002)\" style=\"stroke:#fee8c8; stroke-width:4; stroke-opacity:1; fill:none\" points=\"\n",
       "  276.871,86.7672 382.946,246.578 489.021,565.66 595.096,1043.48 701.17,1403.93 807.245,1403.93 913.32,1403.93 1019.39,1403.93 1125.47,1403.93 1231.54,1403.93 \n",
       "  1337.62,1403.93 1443.69,1403.93 1549.77,1403.93 1655.84,1403.93 1761.92,1403.93 1867.99,1403.93 1974.07,1403.93 2080.14,1403.93 2186.22,1403.83 2292.29,1403.93 \n",
       "  \n",
       "  \"/>\n",
       "<circle clip-path=\"url(#clip6002)\" style=\"fill:#000000; stroke:none; fill-opacity:1\" cx=\"276.871\" cy=\"86.7672\" r=\"25\"/>\n",
       "<circle clip-path=\"url(#clip6002)\" style=\"fill:#fee8c8; stroke:none; fill-opacity:1\" cx=\"276.871\" cy=\"86.7672\" r=\"21\"/>\n",
       "<circle clip-path=\"url(#clip6002)\" style=\"fill:#000000; stroke:none; fill-opacity:1\" cx=\"382.946\" cy=\"246.578\" r=\"25\"/>\n",
       "<circle clip-path=\"url(#clip6002)\" style=\"fill:#fee8c8; stroke:none; fill-opacity:1\" cx=\"382.946\" cy=\"246.578\" r=\"21\"/>\n",
       "<circle clip-path=\"url(#clip6002)\" style=\"fill:#000000; stroke:none; fill-opacity:1\" cx=\"489.021\" cy=\"565.66\" r=\"25\"/>\n",
       "<circle clip-path=\"url(#clip6002)\" style=\"fill:#fee8c8; stroke:none; fill-opacity:1\" cx=\"489.021\" cy=\"565.66\" r=\"21\"/>\n",
       "<circle clip-path=\"url(#clip6002)\" style=\"fill:#000000; stroke:none; fill-opacity:1\" cx=\"595.096\" cy=\"1043.48\" r=\"25\"/>\n",
       "<circle clip-path=\"url(#clip6002)\" style=\"fill:#fee8c8; stroke:none; fill-opacity:1\" cx=\"595.096\" cy=\"1043.48\" r=\"21\"/>\n",
       "<circle clip-path=\"url(#clip6002)\" style=\"fill:#000000; stroke:none; fill-opacity:1\" cx=\"701.17\" cy=\"1403.93\" r=\"25\"/>\n",
       "<circle clip-path=\"url(#clip6002)\" style=\"fill:#fee8c8; stroke:none; fill-opacity:1\" cx=\"701.17\" cy=\"1403.93\" r=\"21\"/>\n",
       "<circle clip-path=\"url(#clip6002)\" style=\"fill:#000000; stroke:none; fill-opacity:1\" cx=\"807.245\" cy=\"1403.93\" r=\"25\"/>\n",
       "<circle clip-path=\"url(#clip6002)\" style=\"fill:#fee8c8; stroke:none; fill-opacity:1\" cx=\"807.245\" cy=\"1403.93\" r=\"21\"/>\n",
       "<circle clip-path=\"url(#clip6002)\" style=\"fill:#000000; stroke:none; fill-opacity:1\" cx=\"913.32\" cy=\"1403.93\" r=\"25\"/>\n",
       "<circle clip-path=\"url(#clip6002)\" style=\"fill:#fee8c8; stroke:none; fill-opacity:1\" cx=\"913.32\" cy=\"1403.93\" r=\"21\"/>\n",
       "<circle clip-path=\"url(#clip6002)\" style=\"fill:#000000; stroke:none; fill-opacity:1\" cx=\"1019.39\" cy=\"1403.93\" r=\"25\"/>\n",
       "<circle clip-path=\"url(#clip6002)\" style=\"fill:#fee8c8; stroke:none; fill-opacity:1\" cx=\"1019.39\" cy=\"1403.93\" r=\"21\"/>\n",
       "<circle clip-path=\"url(#clip6002)\" style=\"fill:#000000; stroke:none; fill-opacity:1\" cx=\"1125.47\" cy=\"1403.93\" r=\"25\"/>\n",
       "<circle clip-path=\"url(#clip6002)\" style=\"fill:#fee8c8; stroke:none; fill-opacity:1\" cx=\"1125.47\" cy=\"1403.93\" r=\"21\"/>\n",
       "<circle clip-path=\"url(#clip6002)\" style=\"fill:#000000; stroke:none; fill-opacity:1\" cx=\"1231.54\" cy=\"1403.93\" r=\"25\"/>\n",
       "<circle clip-path=\"url(#clip6002)\" style=\"fill:#fee8c8; stroke:none; fill-opacity:1\" cx=\"1231.54\" cy=\"1403.93\" r=\"21\"/>\n",
       "<circle clip-path=\"url(#clip6002)\" style=\"fill:#000000; stroke:none; fill-opacity:1\" cx=\"1337.62\" cy=\"1403.93\" r=\"25\"/>\n",
       "<circle clip-path=\"url(#clip6002)\" style=\"fill:#fee8c8; stroke:none; fill-opacity:1\" cx=\"1337.62\" cy=\"1403.93\" r=\"21\"/>\n",
       "<circle clip-path=\"url(#clip6002)\" style=\"fill:#000000; stroke:none; fill-opacity:1\" cx=\"1443.69\" cy=\"1403.93\" r=\"25\"/>\n",
       "<circle clip-path=\"url(#clip6002)\" style=\"fill:#fee8c8; stroke:none; fill-opacity:1\" cx=\"1443.69\" cy=\"1403.93\" r=\"21\"/>\n",
       "<circle clip-path=\"url(#clip6002)\" style=\"fill:#000000; stroke:none; fill-opacity:1\" cx=\"1549.77\" cy=\"1403.93\" r=\"25\"/>\n",
       "<circle clip-path=\"url(#clip6002)\" style=\"fill:#fee8c8; stroke:none; fill-opacity:1\" cx=\"1549.77\" cy=\"1403.93\" r=\"21\"/>\n",
       "<circle clip-path=\"url(#clip6002)\" style=\"fill:#000000; stroke:none; fill-opacity:1\" cx=\"1655.84\" cy=\"1403.93\" r=\"25\"/>\n",
       "<circle clip-path=\"url(#clip6002)\" style=\"fill:#fee8c8; stroke:none; fill-opacity:1\" cx=\"1655.84\" cy=\"1403.93\" r=\"21\"/>\n",
       "<circle clip-path=\"url(#clip6002)\" style=\"fill:#000000; stroke:none; fill-opacity:1\" cx=\"1761.92\" cy=\"1403.93\" r=\"25\"/>\n",
       "<circle clip-path=\"url(#clip6002)\" style=\"fill:#fee8c8; stroke:none; fill-opacity:1\" cx=\"1761.92\" cy=\"1403.93\" r=\"21\"/>\n",
       "<circle clip-path=\"url(#clip6002)\" style=\"fill:#000000; stroke:none; fill-opacity:1\" cx=\"1867.99\" cy=\"1403.93\" r=\"25\"/>\n",
       "<circle clip-path=\"url(#clip6002)\" style=\"fill:#fee8c8; stroke:none; fill-opacity:1\" cx=\"1867.99\" cy=\"1403.93\" r=\"21\"/>\n",
       "<circle clip-path=\"url(#clip6002)\" style=\"fill:#000000; stroke:none; fill-opacity:1\" cx=\"1974.07\" cy=\"1403.93\" r=\"25\"/>\n",
       "<circle clip-path=\"url(#clip6002)\" style=\"fill:#fee8c8; stroke:none; fill-opacity:1\" cx=\"1974.07\" cy=\"1403.93\" r=\"21\"/>\n",
       "<circle clip-path=\"url(#clip6002)\" style=\"fill:#000000; stroke:none; fill-opacity:1\" cx=\"2080.14\" cy=\"1403.93\" r=\"25\"/>\n",
       "<circle clip-path=\"url(#clip6002)\" style=\"fill:#fee8c8; stroke:none; fill-opacity:1\" cx=\"2080.14\" cy=\"1403.93\" r=\"21\"/>\n",
       "<circle clip-path=\"url(#clip6002)\" style=\"fill:#000000; stroke:none; fill-opacity:1\" cx=\"2186.22\" cy=\"1403.83\" r=\"25\"/>\n",
       "<circle clip-path=\"url(#clip6002)\" style=\"fill:#fee8c8; stroke:none; fill-opacity:1\" cx=\"2186.22\" cy=\"1403.83\" r=\"21\"/>\n",
       "<circle clip-path=\"url(#clip6002)\" style=\"fill:#000000; stroke:none; fill-opacity:1\" cx=\"2292.29\" cy=\"1403.93\" r=\"25\"/>\n",
       "<circle clip-path=\"url(#clip6002)\" style=\"fill:#fee8c8; stroke:none; fill-opacity:1\" cx=\"2292.29\" cy=\"1403.93\" r=\"21\"/>\n",
       "<polygon clip-path=\"url(#clip6000)\" points=\"\n",
       "1813.42,312.204 2280.76,312.204 2280.76,130.764 1813.42,130.764 \n",
       "  \" fill=\"#ffffff\" fill-rule=\"evenodd\" fill-opacity=\"1\"/>\n",
       "<polyline clip-path=\"url(#clip6000)\" style=\"stroke:#000000; stroke-width:4; stroke-opacity:1; fill:none\" points=\"\n",
       "  1813.42,312.204 2280.76,312.204 2280.76,130.764 1813.42,130.764 1813.42,312.204 \n",
       "  \"/>\n",
       "<polyline clip-path=\"url(#clip6000)\" style=\"stroke:#e34a33; stroke-width:24; stroke-opacity:1; fill:none\" points=\"\n",
       "  1837.42,191.244 1981.42,191.244 \n",
       "  \"/>\n",
       "<circle clip-path=\"url(#clip6000)\" style=\"fill:#000000; stroke:none; fill-opacity:1\" cx=\"1921.42\" cy=\"191.244\" r=\"25\"/>\n",
       "<circle clip-path=\"url(#clip6000)\" style=\"fill:#e34a33; stroke:none; fill-opacity:1\" cx=\"1921.42\" cy=\"191.244\" r=\"21\"/>\n",
       "<g clip-path=\"url(#clip6000)\">\n",
       "<text style=\"fill:#000000; fill-opacity:1; font-family:Arial,Helvetica Neue,Helvetica,sans-serif; font-size:48px; text-anchor:start;\" transform=\"rotate(0, 2005.42, 208.744)\" x=\"2005.42\" y=\"208.744\">Indirect</text>\n",
       "</g>\n",
       "<polyline clip-path=\"url(#clip6000)\" style=\"stroke:#fee8c8; stroke-width:4; stroke-opacity:1; fill:none\" points=\"\n",
       "  1837.42,251.724 1981.42,251.724 \n",
       "  \"/>\n",
       "<circle clip-path=\"url(#clip6000)\" style=\"fill:#000000; stroke:none; fill-opacity:1\" cx=\"1921.42\" cy=\"251.724\" r=\"25\"/>\n",
       "<circle clip-path=\"url(#clip6000)\" style=\"fill:#fee8c8; stroke:none; fill-opacity:1\" cx=\"1921.42\" cy=\"251.724\" r=\"21\"/>\n",
       "<g clip-path=\"url(#clip6000)\">\n",
       "<text style=\"fill:#000000; fill-opacity:1; font-family:Arial,Helvetica Neue,Helvetica,sans-serif; font-size:48px; text-anchor:start;\" transform=\"rotate(0, 2005.42, 269.224)\" x=\"2005.42\" y=\"269.224\">Semidirect</text>\n",
       "</g>\n",
       "</svg>\n"
      ]
     },
     "execution_count": 59,
     "metadata": {},
     "output_type": "execute_result"
    }
   ],
   "source": [
    "j = 2\n",
    "xlabel=latexstring(\"t\")\n",
    "ylabel=latexstring(\"z\")\n",
    "plot(traj_indirect[7],traj_indirect[8][j,:],label=\"Indirect\",seriescolor=RGB(((227,74,51) ./ 255.)...),linewidth=6,marker=6,xlabel=xlabel)\n",
    "plot!(traj_semidirect[7],traj_semidirect[8][j,:],label=\"Semidirect\",seriescolor=RGB(((254,232,200) ./ 255.)...),linewidth=1,marker=6,ylabel=ylabel)"
   ]
  },
  {
   "cell_type": "code",
   "execution_count": 61,
   "metadata": {},
   "outputs": [],
   "source": [
    "savefig(string(\"slidingbox_z.svg\")) "
   ]
  },
  {
   "cell_type": "code",
   "execution_count": 66,
   "metadata": {},
   "outputs": [
    {
     "data": {
      "text/plain": [
       "3-element Array{Float64,1}:\n",
       "  0.0                \n",
       "  0.13189637992344708\n",
       " -1.6534639300448033 "
      ]
     },
     "metadata": {},
     "output_type": "display_data"
    },
    {
     "data": {
      "text/plain": [
       "3-element Array{Float64,1}:\n",
       "  0.0               \n",
       " -0.9395249723248388\n",
       "  1.6531350959668225"
      ]
     },
     "metadata": {},
     "output_type": "display_data"
    }
   ],
   "source": [
    "display(traj_indirect[2][end])\n",
    "display(traj_semidirect[2][end])"
   ]
  },
  {
   "cell_type": "code",
   "execution_count": 67,
   "metadata": {},
   "outputs": [
    {
     "data": {
      "text/plain": [
       "367"
      ]
     },
     "metadata": {},
     "output_type": "display_data"
    },
    {
     "data": {
      "text/plain": [
       "215"
      ]
     },
     "metadata": {},
     "output_type": "display_data"
    }
   ],
   "source": [
    "display(length(traj_indirect[9]))\n",
    "display(length(traj_semidirect[9]))"
   ]
  },
  {
   "cell_type": "markdown",
   "metadata": {},
   "source": [
    "# Trajectory optimization of little dog"
   ]
  },
  {
   "cell_type": "code",
   "execution_count": 14,
   "metadata": {},
   "outputs": [],
   "source": [
    "urdf = joinpath(\"..\", \"..\", \"urdf\", \"little_dog\", \"little_dog2d.urdf\")\n",
    "mechanism = parse_urdf(Float64, urdf)\n",
    "\n",
    "floor = findbody(mechanism, \"floor\")\n",
    "point = Point3D(default_frame(floor), SVector([0.,0.,0.]...))\n",
    "normal = FreeVector3D(default_frame(floor), SVector([0.,0.,1.]...))\n",
    "floor_obs = Obstacle(floor, point, normal, :xyz, 100.)\n",
    "\n",
    "obstacles = [floor_obs]\n",
    "env = Environment(mechanism, urdf, obstacles);"
   ]
  },
  {
   "cell_type": "code",
   "execution_count": 15,
   "metadata": {},
   "outputs": [
    {
     "name": "stdout",
     "output_type": "stream",
     "text": [
      "Could not open browser automatically: ErrorException(\"failed process: Process(`xdg-open http://127.0.0.1:8701`, ProcessExited(3)) [3]\")\n",
      "Please open the following URL in your browser:\n",
      "http://127.0.0.1:8701\n"
     ]
    },
    {
     "name": "stderr",
     "output_type": "stream",
     "text": [
      "┌ Info: Serving MeshCat visualizer at http://127.0.0.1:8701\n",
      "└ @ MeshCat /home/blandry/.julia/packages/MeshCat/WlA0B/src/servers.jl:24\n",
      "/usr/bin/xdg-open: 778: /usr/bin/xdg-open: www-browser: not found\n",
      "/usr/bin/xdg-open: 778: /usr/bin/xdg-open: links2: not found\n",
      "/usr/bin/xdg-open: 778: /usr/bin/xdg-open: elinks: not found\n",
      "/usr/bin/xdg-open: 778: /usr/bin/xdg-open: links: not found\n",
      "/usr/bin/xdg-open: 778: /usr/bin/xdg-open: lynx: not found\n",
      "/usr/bin/xdg-open: 778: /usr/bin/xdg-open: w3m: not found\n",
      "xdg-open: no method available for opening 'http://127.0.0.1:8701'\n"
     ]
    }
   ],
   "source": [
    "mvis = MechanismVisualizer(mechanism, URDFVisuals(urdf));\n",
    "open(mvis)"
   ]
  },
  {
   "cell_type": "code",
   "execution_count": 16,
   "metadata": {},
   "outputs": [
    {
     "name": "stderr",
     "output_type": "stream",
     "text": [
      "Error handling websocket connection:\n",
      "\u001b[91mWebSockets.WebSocketClosedError(\"ws|server respond to OPCODE_CLOSE 1001:Going Away\")\u001b[39m\n",
      "Stacktrace:\n",
      " [1] \u001b[1mtry_yieldto\u001b[22m\u001b[1m(\u001b[22m::typeof(Base.ensure_rescheduled), ::Base.RefValue{Task}\u001b[1m)\u001b[22m at \u001b[1m./event.jl:196\u001b[22m\n",
      " [2] \u001b[1mwait\u001b[22m\u001b[1m(\u001b[22m\u001b[1m)\u001b[22m at \u001b[1m./event.jl:255\u001b[22m\n",
      " [3] \u001b[1mwait\u001b[22m\u001b[1m(\u001b[22m::Condition\u001b[1m)\u001b[22m at \u001b[1m./event.jl:46\u001b[22m\n",
      " [4] \u001b[1mwait\u001b[22m\u001b[1m(\u001b[22m::Task\u001b[1m)\u001b[22m at \u001b[1m./task.jl:188\u001b[22m\n",
      " [5] \u001b[1mcreate_socket\u001b[22m\u001b[1m(\u001b[22m::Dict{Any,Any}\u001b[1m)\u001b[22m at \u001b[1m/home/blandry/.julia/packages/WebIO/Rk8wc/src/providers/mux.jl:44\u001b[22m\n",
      " [6] \u001b[1m(::getfield(Mux, Symbol(\"##5#6\")){getfield(Mux, Symbol(\"##28#29\")){Array{SubString{String},1}},typeof(WebIO.create_socket)})\u001b[22m\u001b[1m(\u001b[22m::Function, ::Dict{Any,Any}\u001b[1m)\u001b[22m at \u001b[1m/home/blandry/.julia/packages/Mux/FeATY/src/Mux.jl:17\u001b[22m\n",
      " [7] \u001b[1m#1\u001b[22m at \u001b[1m/home/blandry/.julia/packages/Mux/FeATY/src/Mux.jl:10\u001b[22m [inlined]\n",
      " [8] \u001b[1msplitquery\u001b[22m\u001b[1m(\u001b[22m::getfield(Mux, Symbol(\"##1#2\")){getfield(Mux, Symbol(\"##5#6\")){getfield(Mux, Symbol(\"##28#29\")){Array{SubString{String},1}},typeof(WebIO.create_socket)},getfield(Mux, Symbol(\"##1#2\")){typeof(Mux.wclose),getfield(Mux, Symbol(\"##1#2\")){getfield(Mux, Symbol(\"##18#19\")){getfield(Mux, Symbol(\"##22#23\")){Symbol,Int64}},getfield(Mux, Symbol(\"##20#21\")){String}}}}, ::Dict{Any,Any}\u001b[1m)\u001b[22m at \u001b[1m/home/blandry/.julia/packages/Mux/FeATY/src/basics.jl:34\u001b[22m\n",
      " [9] \u001b[1m#1\u001b[22m at \u001b[1m/home/blandry/.julia/packages/Mux/FeATY/src/Mux.jl:10\u001b[22m [inlined]\n",
      " [10] \u001b[1mwcatch\u001b[22m\u001b[1m(\u001b[22m::getfield(Mux, Symbol(\"##1#2\")){typeof(Mux.splitquery),getfield(Mux, Symbol(\"##1#2\")){getfield(Mux, Symbol(\"##5#6\")){getfield(Mux, Symbol(\"##28#29\")){Array{SubString{String},1}},typeof(WebIO.create_socket)},getfield(Mux, Symbol(\"##1#2\")){typeof(Mux.wclose),getfield(Mux, Symbol(\"##1#2\")){getfield(Mux, Symbol(\"##18#19\")){getfield(Mux, Symbol(\"##22#23\")){Symbol,Int64}},getfield(Mux, Symbol(\"##20#21\")){String}}}}}, ::Dict{Any,Any}\u001b[1m)\u001b[22m at \u001b[1m/home/blandry/.julia/packages/Mux/FeATY/src/websockets_integration.jl:12\u001b[22m\n",
      " [11] \u001b[1m#1\u001b[22m at \u001b[1m/home/blandry/.julia/packages/Mux/FeATY/src/Mux.jl:10\u001b[22m [inlined]\n",
      " [12] \u001b[1mtodict\u001b[22m at \u001b[1m/home/blandry/.julia/packages/Mux/FeATY/src/basics.jl:25\u001b[22m [inlined]\n",
      " [13] \u001b[1m#3\u001b[22m at \u001b[1m/home/blandry/.julia/packages/Mux/FeATY/src/Mux.jl:14\u001b[22m [inlined] (repeats 2 times)\n",
      " [14] \u001b[1m(::getfield(Mux, Symbol(\"##1#2\")){getfield(Mux, Symbol(\"##3#4\")){getfield(Mux, Symbol(\"##3#4\")){typeof(Mux.todict),typeof(Mux.wcatch)},typeof(Mux.splitquery)},getfield(Mux, Symbol(\"##1#2\")){getfield(Mux, Symbol(\"##5#6\")){getfield(Mux, Symbol(\"##28#29\")){Array{SubString{String},1}},typeof(WebIO.create_socket)},getfield(Mux, Symbol(\"##1#2\")){typeof(Mux.wclose),getfield(Mux, Symbol(\"##1#2\")){getfield(Mux, Symbol(\"##18#19\")){getfield(Mux, Symbol(\"##22#23\")){Symbol,Int64}},getfield(Mux, Symbol(\"##20#21\")){String}}}}})\u001b[22m\u001b[1m(\u001b[22m::Tuple{HTTP.Messages.Request,WebSockets.WebSocket{Sockets.TCPSocket}}\u001b[1m)\u001b[22m at \u001b[1m/home/blandry/.julia/packages/Mux/FeATY/src/Mux.jl:10\u001b[22m\n",
      " [15] \u001b[1m(::getfield(Mux, Symbol(\"##9#10\")){Mux.App})\u001b[22m\u001b[1m(\u001b[22m::HTTP.Messages.Request, ::WebSockets.WebSocket{Sockets.TCPSocket}\u001b[1m)\u001b[22m at \u001b[1m/home/blandry/.julia/packages/Mux/FeATY/src/server.jl:49\u001b[22m\n",
      " [16] \u001b[1mupgrade\u001b[22m\u001b[1m(\u001b[22m::getfield(Mux, Symbol(\"##9#10\")){Mux.App}, ::HTTP.Streams.Stream{HTTP.Messages.Request,HTTP.ConnectionPool.Transaction{Sockets.TCPSocket}}\u001b[1m)\u001b[22m at \u001b[1m/home/blandry/.julia/packages/WebSockets/pc4iW/src/HTTP.jl:201\u001b[22m\n",
      " [17] \u001b[1m(::getfield(WebSockets, Symbol(\"#_servercoroutine#11\")){WebSockets.ServerWS})\u001b[22m\u001b[1m(\u001b[22m::HTTP.Streams.Stream{HTTP.Messages.Request,HTTP.ConnectionPool.Transaction{Sockets.TCPSocket}}\u001b[1m)\u001b[22m at \u001b[1m/home/blandry/.julia/packages/WebSockets/pc4iW/src/HTTP.jl:370\u001b[22m\n",
      " [18] \u001b[1mmacro expansion\u001b[22m at \u001b[1m/home/blandry/.julia/packages/HTTP/wY7Vc/src/Servers.jl:360\u001b[22m [inlined]\n",
      " [19] \u001b[1m(::getfield(HTTP.Servers, Symbol(\"##13#14\")){getfield(WebSockets, Symbol(\"#_servercoroutine#11\")){WebSockets.ServerWS},HTTP.ConnectionPool.Transaction{Sockets.TCPSocket},HTTP.Streams.Stream{HTTP.Messages.Request,HTTP.ConnectionPool.Transaction{Sockets.TCPSocket}}})\u001b[22m\u001b[1m(\u001b[22m\u001b[1m)\u001b[22m at \u001b[1m./task.jl:259\u001b[22m"
     ]
    }
   ],
   "source": [
    "N = 8\n",
    "Δt = 0.025\n",
    "q0 = [0., -.275, 0., 0., 0., 0., 0., pi/4, pi/4, -pi/4, -pi/4, -pi/2, -pi/2, pi/2, pi/2] \n",
    "v0 = zeros(num_velocities(mechanism))\n",
    "\n",
    "sim_data = get_sim_data_indirect(mechanism,env,Δt)\n",
    "null_ctrl! = (u,t,x) -> u[:] .= 0.\n",
    "x0 = MechanismState(mechanism)\n",
    "set_configuration!(x0, q0)\n",
    "set_velocity!(x0, v0)\n",
    "setdirty!(x0)\n",
    "traj_sim = Bilevel.simulate(sim_data,null_ctrl!,x0,N)\n",
    "setanimation!(mvis, traj_sim[6], traj_sim[1])"
   ]
  },
  {
   "cell_type": "code",
   "execution_count": 17,
   "metadata": {},
   "outputs": [
    {
     "data": {
      "text/plain": [
       "setup_prob! (generic function with 1 method)"
      ]
     },
     "execution_count": 17,
     "metadata": {},
     "output_type": "execute_result"
    }
   ],
   "source": [
    "q_nom = copy(traj_sim[1][end])\n",
    "q_min = min.(q_nom, [-5., -.5, -.2*pi, 0., 0., 0., 0., -3.5, -3.5, -3.5, -3.5, -3.1, -3.1, -3.1, -3.1])\n",
    "q_max = max.(q_nom, [5., -0.1, .2*pi, 0., 0., 0., 0., 2.4, 2.4, 2.4, 2.4, 1., 1., 1., 1.])\n",
    "\n",
    "x_goal = 0.05\n",
    "\n",
    "N = 10\n",
    "Δt = 0.1\n",
    "\n",
    "function add_prob_constraints!(sim_data)\n",
    "    vs = sim_data.vs\n",
    "\n",
    "    add_eq!(sim_data, :cq1, 2, x -> vs(x, :q1)[1:2] - q_nom[1:2])\n",
    "    add_eq!(sim_data, :cv1, num_velocities(mechanism), x -> vs(x, :v1))\n",
    "    add_ineq!(sim_data, :cqNx, 1, x -> x_goal - vs(x, Symbol(\"q\", N))[1])\n",
    "    add_eq!(sim_data, :cqNlegs, num_positions(mechanism)-1, x -> vs(x, Symbol(\"q\", N))[2:end] - vs(x, :q1)[2:end])\n",
    "    add_eq!(sim_data, :cvN, num_velocities(mechanism), x -> vs(x, Symbol(\"v\", N)))\n",
    "end\n",
    "\n",
    "function add_prob_obj!(sim_data)\n",
    "    for n = 1:N-1\n",
    "        add_obj!(sim_data, Symbol(\"u\", n), x -> sim_data.vs(x, Symbol(\"u\", n))' * sim_data.vs(x, Symbol(\"u\", n)))\n",
    "    end\n",
    "end\n",
    "\n",
    "function get_prob_limits(sim_data)\n",
    "    x_min = -1e19*ones(sim_data.vs.num_vars)\n",
    "    x_max = 1e19*ones(sim_data.vs.num_vars)\n",
    "    \n",
    "    # joint limits\n",
    "    add_box_con_snopt!(x_min, x_max, sim_data, :q, q_min, q_max, 1:N)\n",
    "    add_box_con_snopt!(x_min, x_max, sim_data, :h, [Δt], [Δt], 1:N-1)\n",
    "    \n",
    "    # torques limits\n",
    "    u_limit = 10.\n",
    "    add_box_con_snopt!(x_min, x_max, sim_data, :u, -u_limit * ones(num_velocities(mechanism)), u_limit * ones(num_velocities(mechanism)), 1:N-1)\n",
    "    \n",
    "    x_min, x_max\n",
    "end\n",
    "\n",
    "function get_prob_init(sim_data)\n",
    "    x0 = zeros(sim_data.vs.num_vars)\n",
    "    for n = 1:N\n",
    "        qn = copy(q_nom)\n",
    "        qn[1] = (n/N)*(x_goal - q_nom[1]) + q_nom[1]\n",
    "        x0[sim_data.vs(Symbol(\"q\", n))] .= qn\n",
    "    end\n",
    "    \n",
    "    x0\n",
    "end\n",
    "\n",
    "function setup_prob!(sim_data)\n",
    "    add_prob_constraints!(sim_data)\n",
    "    add_prob_obj!(sim_data)\n",
    "    x_min, x_max = get_prob_limits(sim_data)\n",
    "    x0 = get_prob_init(sim_data)\n",
    "    \n",
    "    x0, x_min, x_max\n",
    "end"
   ]
  },
  {
   "cell_type": "code",
   "execution_count": null,
   "metadata": {},
   "outputs": [],
   "source": [
    "# Indirect\n",
    "\n",
    "sim_data = get_trajopt_data_indirect(mechanism,env,Δt,N,relax_comp=false)\n",
    "x0, x_min, x_max = setup_prob!(sim_data);"
   ]
  },
  {
   "cell_type": "code",
   "execution_count": null,
   "metadata": {},
   "outputs": [],
   "source": [
    "con_tol = 1e-3\n",
    "obj_tol = 1e-3\n",
    "max_iter = 10000\n",
    "\n",
    "display(@time traj_indirect = Bilevel.trajopt(sim_data, x0=x0, x_min=x_min, x_max=x_max, verbose=1, opt_tol=obj_tol, major_feas=con_tol, minor_feas=con_tol, max_iter=max_iter))\n",
    "\n",
    "x0 = traj_indirect[9]\n",
    "\n",
    "setanimation!(mvis, traj_indirect[7], traj_indirect[1])"
   ]
  },
  {
   "cell_type": "code",
   "execution_count": null,
   "metadata": {},
   "outputs": [],
   "source": [
    "function run_trajopt()\n",
    "    Bilevel.solve_rosenbrock() # clearing SNOPT\n",
    "    Bilevel.trajopt(sim_data, x0=x0, x_min=x_min, x_max=x_max, verbose=0, opt_tol=obj_tol, major_feas=con_tol, minor_feas=con_tol, max_iter=max_iter)\n",
    "end\n",
    "\n",
    "@benchmark run_trajopt()"
   ]
  },
  {
   "cell_type": "code",
   "execution_count": 9,
   "metadata": {},
   "outputs": [
    {
     "ename": "UndefVarError",
     "evalue": "UndefVarError: traj_indirect not defined",
     "output_type": "error",
     "traceback": [
      "UndefVarError: traj_indirect not defined",
      "",
      "Stacktrace:",
      " [1] top-level scope at In[9]:1"
     ]
    }
   ],
   "source": [
    "setanimation!(mvis, traj_indirect[7], traj_indirect[1])"
   ]
  },
  {
   "cell_type": "code",
   "execution_count": null,
   "metadata": {},
   "outputs": [],
   "source": [
    "t_step = traj_indirect[7]\n",
    "q_step = traj_indirect[1]\n",
    "u_step = traj_indirect[2][2:end];"
   ]
  },
  {
   "cell_type": "code",
   "execution_count": 18,
   "metadata": {},
   "outputs": [],
   "source": [
    "# Semidirect\n",
    "\n",
    "sim_data = get_trajopt_data_semidirect(mechanism,env,Δt,N,relax_comp=false)\n",
    "x0, x_min, x_max = setup_prob!(sim_data);"
   ]
  },
  {
   "cell_type": "code",
   "execution_count": 19,
   "metadata": {},
   "outputs": [
    {
     "data": {
      "text/plain": [
       "(Array{Float64,1}[[3.52047e-7, -0.102648, 0.0187562, -0.0163137, 0.0319144, -0.0140417, 0.0225813, 0.716478, 0.47746, -0.685961, -0.514816, -2.11871, -1.99082, 2.0422, 1.95243], [0.00374469, -0.10407, 0.0452362, -0.0122809, 0.0264977, -0.0229385, 0.0284594, 0.709852, 0.475147, -0.714119, -0.545073, -2.1405, -2.02269, 2.00374, 1.91223], [0.00991062, -0.10837, 0.0472779, -0.0150902, 0.0236347, -0.026822, 0.0290156, 0.735771, 0.507113, -0.732138, -0.558167, -2.10814, -1.99766, 1.95691, 1.87156], [0.0172652, -0.117131, 0.0477669, -0.0276495, 0.0242243, -0.0323679, 0.0299162, 0.794038, 0.577222, -0.788801, -0.609584, -2.03111, -1.93706, 1.87385, 1.799], [0.0250693, -0.120835, 0.0387656, -0.0302253, 0.0200893, -0.032346, 0.0294994, 0.821159, 0.628886, -0.818568, -0.651243, -1.97901, -1.90301, 1.84964, 1.79137], [0.0335751, -0.112454, 0.0282558, -0.0267344, 0.025795, -0.00971238, 0.0119399, 0.769673, 0.565591, -0.802957, -0.639338, -2.04771, -1.95153, 1.96371, 1.89587], [0.0419742, -0.109287, 0.0261627, -0.0275316, 0.0324834, -0.00915256, 0.0182978, 0.743304, 0.523882, -0.767294, -0.586165, -2.07097, -1.96086, 1.99125, 1.9088], [0.0474191, -0.104764, 0.0184109, -0.0210698, 0.0324834, -0.0116241, 0.021493, 0.724862, 0.488062, -0.715304, -0.53866, -2.10023, -1.97609, 2.0327, 1.94465], [0.05, -0.102648, 0.0187562, -0.0163137, 0.0319144, -0.0140417, 0.0225813, 0.716478, 0.47746, -0.685961, -0.514816, -2.11871, -1.99082, 2.0422, 1.95243], [0.05, -0.102648, 0.0187562, -0.0163137, 0.0319144, -0.0140417, 0.0225813, 0.716478, 0.47746, -0.685961, -0.514816, -2.11871, -1.99082, 2.0422, 1.95243]], Array{Float64,1}[[0.0, 0.0, 0.0, 0.0, 0.0, 0.0, 0.0, 0.0, 0.0, 0.0, 0.0, 0.0, 0.0, 0.0, 0.0], [0.0366441, -0.0158957, 0.2648, 0.0403277, -0.0541664, -0.0889687, 0.0587809, -0.0662543, -0.0231228, -0.281585, -0.302566, -0.217826, -0.31872, -0.384567, -0.401928], [0.0594873, -0.0458716, 0.0204167, -0.0280934, -0.0286298, -0.0388345, 0.00556187, 0.259182, 0.319657, -0.180188, -0.130938, 0.323528, 0.250299, -0.468358, -0.406689], [0.0691855, -0.0910537, 0.0048909, -0.125592, 0.00589585, -0.0554594, 0.00900634, 0.582672, 0.701096, -0.566628, -0.514168, 0.770358, 0.606011, -0.830578, -0.72562], [0.0765219, -0.0400424, -0.0900136, -0.025758, -0.0413505, 0.000219907, -0.00416802, 0.271213, 0.516631, -0.297676, -0.416591, 0.520949, 0.340461, -0.242085, -0.0763292], [0.0873585, 0.0813871, -0.105097, 0.0349087, 0.0570569, 0.226336, -0.175595, -0.514861, -0.63295, 0.156119, 0.119046, -0.686925, -0.485168, 1.14069, 1.04505], [0.084923, 0.0294536, -0.0209314, -0.00797172, 0.0668842, 0.00559825, 0.0635784, -0.263688, -0.417087, 0.356624, 0.531731, -0.232686, -0.0933237, 0.275423, 0.129247], [0.0554184, 0.0442416, -0.0775179, 0.0646177, -3.81639e-17, -0.024715, 0.0319528, -0.184421, -0.358201, 0.519906, 0.475047, -0.292564, -0.152322, 0.414512, 0.35847], [0.0262956, 0.0206872, 0.00345273, 0.0475614, -0.00569034, -0.0241762, 0.0108829, -0.0838432, -0.106023, 0.293428, 0.238437, -0.184834, -0.147237, 0.0949607, 0.0777945], [0.0, 0.0, 0.0, 0.0, 0.0, 0.0, 0.0, 0.0, 0.0, 0.0, 0.0, 0.0, 0.0, 0.0, 0.0]], Array{Float64,1}[[0.782476, -0.0856363, -0.00435029, -0.0463408, 0.0969945, -0.0318239, 0.0443177, -0.400607, -0.462945, 0.498697, 0.483084, -0.156234, -0.207765, 0.204753, 0.226124], [0.550623, -0.0722333, -0.0701947, -0.0669586, 0.0741541, -0.0358597, 0.0403862, -0.520189, -0.469675, 0.486896, 0.449579, -0.196622, -0.206441, 0.196811, 0.208688], [0.305428, -0.0799617, -0.0329078, -0.0231269, 0.131885, 0.0705093, 0.129671, -0.463722, -0.621621, 0.234465, 0.651558, -0.174096, -0.25304, 0.103704, 0.280608], [0.0967087, -0.0654354, 0.222561, 0.0224437, 0.247272, 0.0369588, 0.024954, -0.320514, -0.966034, 0.243442, 0.325515, -0.124744, -0.368339, 0.101004, 0.145869], [-0.137105, -0.00160868, -0.0476101, 0.0314784, 0.175156, -0.0608733, 0.025397, -0.0386356, -0.52138, 0.622065, 0.497708, -0.026999, -0.214238, 0.231343, 0.209815], [-0.369528, -0.0494966, 0.171379, -0.00480902, 0.233775, -0.032039, -0.0133582, -0.234167, -0.749816, 0.55688, 0.37907, -0.0990272, -0.318051, 0.218081, 0.170511], [-0.600818, -0.0190882, -0.0181107, 0.0794828, 0.171237, -0.100689, 0.0382269, -0.216024, -0.598121, 0.567567, 0.349483, -0.099054, -0.270513, 0.218811, 0.159231], [-0.830864, -0.0200951, -0.017168, -0.0168793, 0.109469, -0.0515843, 0.061219, -0.376243, -0.487034, 0.477092, 0.46894, -0.150814, -0.225566, 0.193533, 0.21649], [-1.06094, -0.0115482, 0.0358469, -0.0251771, 0.180004, -0.0137709, 0.0181605, -0.25086, -0.562291, 0.490291, 0.483412, -0.104703, -0.253685, 0.20088, 0.226605]], [0.1, 0.1, 0.1, 0.1, 0.1, 0.1, 0.1, 0.1, 0.1], Array{Float64,1}[[0.200043, 0.274948, 0.254377, 0.282558], [0.250207, 0.268941, 0.246727, 0.261667], [0.216214, 0.336984, 0.122862, 0.36787], [0.149325, 0.499912, 0.12417, 0.17287], [0.0314225, 0.294511, 0.295079, 0.254784], [0.124382, 0.438836, 0.265972, 0.220105], [0.107941, 0.364654, 0.299659, 0.213034], [0.192036, 0.298841, 0.251486, 0.281345], [0.136323, 0.350848, 0.253442, 0.280207]], Array{Float64,1}[], [0.0, 0.1, 0.2, 0.3, 0.4, 0.5, 0.6, 0.7, 0.8, 0.9], [3.52047e-7 0.00374469 … 0.05 0.05; -0.102648 -0.10407 … -0.102648 -0.102648; … ; 0.0 -0.384567 … 0.0949607 0.0; 0.0 -0.401928 … 0.0777945 0.0], [3.52047e-7, -0.102648, 0.0187562, -0.0163137, 0.0319144, -0.0140417, 0.0225813, 0.716478, 0.47746, -0.685961  …  0.0, 0.0, 0.0, 0.0, 0.0, 0.0, 0.0, 0.0, 0.0, 0.0])"
      ]
     },
     "metadata": {},
     "output_type": "display_data"
    },
    {
     "name": "stdout",
     "output_type": "stream",
     "text": [
      "Finished successfully: optimality conditions satisfied\n",
      " 12.860743 seconds (39.06 M allocations: 19.451 GiB, 28.50% gc time)\n"
     ]
    }
   ],
   "source": [
    "con_tol = 1e-3\n",
    "obj_tol = 1e-3\n",
    "max_iter = 10000\n",
    "\n",
    "display(@time traj_semidirect = Bilevel.trajopt(sim_data, x0=x0, x_min=x_min, x_max=x_max, verbose=1, opt_tol=obj_tol, major_feas=con_tol, minor_feas=con_tol, max_iter=max_iter))\n",
    "\n",
    "x0 = traj_semidirect[9]\n",
    "\n",
    "setanimation!(mvis, traj_semidirect[7], traj_semidirect[1])"
   ]
  },
  {
   "cell_type": "code",
   "execution_count": null,
   "metadata": {},
   "outputs": [],
   "source": [
    "set_configuration!(mvis, traj_semidirect[1][10])"
   ]
  },
  {
   "cell_type": "code",
   "execution_count": null,
   "metadata": {},
   "outputs": [],
   "source": [
    "function run_trajopt()\n",
    "    Bilevel.solve_rosenbrock() # clearing SNOPT\n",
    "    Bilevel.trajopt(sim_data, x0=x0, x_min=x_min, x_max=x_max, verbose=0, opt_tol=obj_tol, major_feas=con_tol, minor_feas=con_tol, max_iter=max_iter)\n",
    "end\n",
    "\n",
    "@benchmark run_trajopt()"
   ]
  },
  {
   "cell_type": "code",
   "execution_count": null,
   "metadata": {},
   "outputs": [],
   "source": [
    "maximum(abs.(vcat(traj_semidirect[3]...)))"
   ]
  },
  {
   "cell_type": "code",
   "execution_count": null,
   "metadata": {},
   "outputs": [],
   "source": [
    "cntraj = hcat(traj_semidirect[5]...)\n",
    "front_traj = cntraj[1,:] .+ cntraj[2,:]\n",
    "back_traj = cntraj[3,:] .+ cntraj[4,:];"
   ]
  },
  {
   "cell_type": "code",
   "execution_count": null,
   "metadata": {},
   "outputs": [],
   "source": [
    "xlabel=latexstring(\"t\")\n",
    "ylabel=latexstring(\"c_n\")\n",
    "plot(traj_semidirect[7][1:end-1],front_traj,label=\"Front legs\",seriescolor=RGB(((227,174,51) ./ 255.)...),linewidth=6,marker=6,xlabel=xlabel)\n",
    "plot!(traj_semidirect[7][1:end-1],back_traj,label=\"Back legs\",seriescolor=RGB(((154,132,200) ./ 255.)...),linewidth=6,marker=6,ylabel=ylabel)"
   ]
  },
  {
   "cell_type": "code",
   "execution_count": null,
   "metadata": {},
   "outputs": [],
   "source": [
    "savefig(string(\"littledog.svg\")) "
   ]
  },
  {
   "cell_type": "code",
   "execution_count": null,
   "metadata": {},
   "outputs": [],
   "source": [
    "xlabel=latexstring(\"x\")\n",
    "ylabel=latexstring(\"z\")\n",
    "plot(traj_semidirect[8][1,:],-traj_semidirect[8][2,:],front_traj,label=\"Torso center of mass position\",seriescolor=RGB(((127,174,51) ./ 255.)...),linewidth=6,marker=6,xlabel=xlabel,ylabel=ylabel)"
   ]
  },
  {
   "cell_type": "code",
   "execution_count": null,
   "metadata": {},
   "outputs": [],
   "source": [
    "savefig(string(\"littledogcom.svg\")) "
   ]
  },
  {
   "cell_type": "code",
   "execution_count": 10,
   "metadata": {},
   "outputs": [],
   "source": [
    "setanimation!(mvis, traj_semidirect[7], traj_semidirect[1])"
   ]
  },
  {
   "cell_type": "code",
   "execution_count": 22,
   "metadata": {},
   "outputs": [],
   "source": [
    "t_step = traj_semidirect[7]\n",
    "q_step = traj_semidirect[1]\n",
    "u_step = traj_semidirect[2][2:end];"
   ]
  },
  {
   "cell_type": "code",
   "execution_count": 24,
   "metadata": {},
   "outputs": [],
   "source": [
    "# Multi-steps\n",
    "\n",
    "reps = 10\n",
    "\n",
    "ttraj = t_step\n",
    "qtraj = q_step\n",
    "utraj = u_step\n",
    "for i = 1:(reps-1)\n",
    "    ttraj = vcat(ttraj, t_step .+ ttraj[end])\n",
    "    qtraj = vcat(qtraj, map(q -> q + vcat(qtraj[end][1],zeros(length(q)-1)), q_step))\n",
    "    utraj = vcat(utraj, u_step)\n",
    "end\n",
    "\n",
    "setanimation!(mvis, ttraj, qtraj)"
   ]
  }
 ],
 "metadata": {
  "kernelspec": {
   "display_name": "Julia 1.1.0",
   "language": "julia",
   "name": "julia-1.1"
  },
  "language_info": {
   "file_extension": ".jl",
   "mimetype": "application/julia",
   "name": "julia",
   "version": "1.1.0"
  }
 },
 "nbformat": 4,
 "nbformat_minor": 2
}
