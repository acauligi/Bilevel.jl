{
 "cells": [
  {
   "cell_type": "code",
   "execution_count": 2,
   "metadata": {},
   "outputs": [],
   "source": [
    "using Revise\n",
    "using Bilevel\n",
    "\n",
    "using RigidBodyDynamics\n",
    "using MeshCatMechanisms\n",
    "using MeshCat\n",
    "using Plots\n",
    "using LinearAlgebra\n",
    "using StaticArrays\n",
    "using BenchmarkTools"
   ]
  },
  {
   "cell_type": "markdown",
   "metadata": {},
   "source": [
    "# Simulation of sliding box"
   ]
  },
  {
   "cell_type": "code",
   "execution_count": null,
   "metadata": {},
   "outputs": [],
   "source": [
    "urdf = joinpath(\"..\", \"..\", \"urdf\", \"ball2d.urdf\")\n",
    "mechanism = parse_urdf(Float64, urdf)\n",
    "\n",
    "floor = findbody(mechanism, \"floor\")\n",
    "point = Point3D(default_frame(floor), SVector([0.,0.,0.]...))\n",
    "normal = FreeVector3D(default_frame(floor), SVector([0.,0.,1.]...))\n",
    "floor_obs = Obstacle(floor, point, normal, :xyz, 1.)\n",
    "\n",
    "obstacles = [floor_obs]\n",
    "env = Environment(mechanism, urdf, obstacles);"
   ]
  },
  {
   "cell_type": "code",
   "execution_count": null,
   "metadata": {},
   "outputs": [],
   "source": [
    "mvis = MechanismVisualizer(mechanism, URDFVisuals(urdf))\n",
    "open(mvis)"
   ]
  },
  {
   "cell_type": "code",
   "execution_count": 32,
   "metadata": {},
   "outputs": [],
   "source": [
    "N = 25\n",
    "Δt = 0.005\n",
    "q0 = [0., 0., 0.]\n",
    "v0 = [1., 0., 0.];"
   ]
  },
  {
   "cell_type": "code",
   "execution_count": 33,
   "metadata": {},
   "outputs": [
    {
     "data": {
      "text/plain": [
       "(Array{Float64,1}[[0.0, 0.0, 0.0], [0.00475475, 0.0, 0.0], [0.00926425, 0.0, 0.0], [0.0135285, 0.0, 0.0], [0.0175475, 0.0, 0.0], [0.0213213, 0.0, 0.0], [0.0248498, 0.0, 0.0], [0.028133, 0.0, 0.0], [0.031171, 0.0, 0.0], [0.0339638, 0.0, 0.0]  …  [0.04557, 0.0, 0.0], [0.046646, 0.0, 0.0], [0.0474768, 0.0, 0.0], [0.0480623, 0.0, 0.0], [0.0484025, 0.0, 0.0], [0.0484975, 0.0, 0.0], [0.0484975, 0.0, 0.0], [0.0484975, 0.0, 0.0], [0.0484975, 0.0, 0.0], [0.0484975, 0.0, 0.0]], Array{Float64,1}[[1.0, 0.0, 0.0], [0.95095, -5.11746e-11, 0.0], [0.9019, 0.0, 0.0], [0.85285, -3.30872e-24, 0.0], [0.8038, 3.30872e-24, 0.0], [0.75475, -3.30872e-24, 0.0], [0.7057, 4.96308e-24, 0.0], [0.65665, -4.96308e-24, 0.0], [0.6076, 4.96308e-24, 0.0], [0.55855, -4.96308e-24, 0.0]  …  [0.26425, -4.96308e-24, 0.0], [0.2152, 4.96308e-24, 0.0], [0.16615, -4.96308e-24, 0.0], [0.1171, 6.61744e-24, 0.0], [0.06805, -6.61744e-24, 0.0], [0.019, 6.61744e-24, 0.0], [-1.31775e-9, 6.61744e-24, 0.0], [-5.09769e-11, 6.61744e-24, 0.0], [-5.09769e-11, 6.61744e-24, 0.0], [-5.09769e-11, 6.61744e-24, 0.0]], Array{Float64,1}[], Array{Array{Float64,1},1}[[[0.0, 0.0, 0.0, 0.0, 0.0, 0.0]], [[1.0, 0.0, 0.0, 1.0, 0.0, 0.95095]], [[1.0, 0.0, 0.0, 1.0, 0.0, 0.9019]], [[1.0, 0.0, 0.0, 1.0, 0.0, 0.85285]], [[1.0, 0.0, 0.0, 1.0, 0.0, 0.8038]], [[1.0, 0.0, 0.0, 1.0, 0.0, 0.75475]], [[1.0, 0.0, 0.0, 1.0, 0.0, 0.7057]], [[1.0, 0.0, 0.0, 1.0, 0.0, 0.65665]], [[1.0, 0.0, 0.0, 1.0, 0.0, 0.6076]], [[1.0, 0.0, 0.0, 1.0, 0.0, 0.55855]]  …  [[1.0, 0.0, 0.0, 1.0, 0.0, 0.26425]], [[1.0, 0.0, 0.0, 1.0, 0.0, 0.2152]], [[1.0, 1.29247e-26, 0.0, 1.0, 2.58494e-26, 0.16615]], [[1.0, 0.0, 0.0, 1.0, -5.16988e-26, 0.1171]], [[1.0, 0.0, 0.0, 1.0, 1.55096e-25, 0.06805]], [[1.0, 0.0, 0.0, 1.0, -4.1359e-25, 0.019]], [[1.0, 0.30632, 0.0, 0.69368, -4.1359e-25, 1.31775e-9]], [[1.0, 0.5, 0.0, 0.5, -4.1359e-25, 5.09769e-11]], [[1.0, 0.5, 0.0, 0.5, -4.1359e-25, 5.09769e-11]], [[1.0, 0.5, 0.0, 0.5, -4.1359e-25, 5.09769e-11]]], Array{Float64,1}[[0.0, 0.0, 0.0], [0.0, 0.0, 0.0], [0.0, 0.0, 0.0], [0.0, 0.0, 0.0], [0.0, 0.0, 0.0], [0.0, 0.0, 0.0], [0.0, 0.0, 0.0], [0.0, 0.0, 0.0], [0.0, 0.0, 0.0], [0.0, 0.0, 0.0]  …  [0.0, 0.0, 0.0], [0.0, 0.0, 0.0], [0.0, 0.0, 0.0], [0.0, 0.0, 0.0], [0.0, 0.0, 0.0], [0.0, 0.0, 0.0], [0.0, 0.0, 0.0], [0.0, 0.0, 0.0], [0.0, 0.0, 0.0], [0.0, 0.0, 0.0]], [0.0, 0.005, 0.01, 0.015, 0.02, 0.025, 0.03, 0.035, 0.04, 0.045  …  0.075, 0.08, 0.085, 0.09, 0.095, 0.1, 0.105, 0.11, 0.115, 0.12], [0.0 0.00475475 … 0.0484975 0.0484975; 0.0 0.0 … 0.0 0.0; … ; 0.0 -5.11746e-11 … 6.61744e-24 6.61744e-24; 0.0 0.0 … 0.0 0.0], [0.0 0.00475475 … 0.0484975 0.0484975; 0.0 0.0 … 0.0 0.0; … ; 0.0 0.0 … 0.0 0.0; 0.0 0.0 … 0.0 0.0])"
      ]
     },
     "execution_count": 33,
     "metadata": {},
     "output_type": "execute_result"
    }
   ],
   "source": [
    "# Indirect\n",
    "\n",
    "sim_data = get_sim_data_indirect(mechanism,env,Δt,relax_comp=true)\n",
    "null_ctrl! = (u,t,x) -> u[:] .= 0.\n",
    "x0 = MechanismState(mechanism)\n",
    "set_configuration!(x0, q0)\n",
    "set_velocity!(x0, v0)\n",
    "setdirty!(x0)\n",
    "sim_indirect = Bilevel.simulate(sim_data,null_ctrl!,x0,N)"
   ]
  },
  {
   "cell_type": "code",
   "execution_count": null,
   "metadata": {},
   "outputs": [],
   "source": [
    "@benchmark sim_indirect = Bilevel.simulate(sim_data,null_ctrl!,x0,N)"
   ]
  },
  {
   "cell_type": "code",
   "execution_count": null,
   "metadata": {},
   "outputs": [],
   "source": [
    "setanimation!(mvis, sim_indirect[6], sim_indirect[1])"
   ]
  },
  {
   "cell_type": "code",
   "execution_count": 34,
   "metadata": {},
   "outputs": [
    {
     "data": {
      "text/plain": [
       "(Array{Float64,1}[[0.0, 0.0, 0.0], [0.00475999, -5.25081e-6, 0.0], [0.00926969, -5.47565e-6, 0.0], [0.0135338, -5.37285e-6, 0.0], [0.0175527, -5.36364e-6, 0.0], [0.0213264, -5.36544e-6, 0.0], [0.0248546, -5.36572e-6, 0.0], [0.0281373, -5.36569e-6, 0.0], [0.031174, -5.36568e-6, 0.0], [0.033964, -5.36568e-6, 0.0]  …  [0.045552, -5.36569e-6, 0.0], [0.046624, -5.36569e-6, 0.0], [0.0474507, -5.36569e-6, 0.0], [0.0480322, -5.36569e-6, 0.0], [0.0483685, -5.36569e-6, 0.0], [0.0484595, -5.36569e-6, 0.0], [0.0484595, -5.36569e-6, 0.0], [0.0484595, -5.36569e-6, 0.0], [0.0484595, -5.36569e-6, 0.0], [0.0484595, -5.36569e-6, 0.0]], Array{Float64,1}[[1.0, 0.0, 0.0], [0.951998, -0.00105016, 0.0], [0.90194, -4.49679e-5, 0.0], [0.852822, 2.05584e-5, 0.0], [0.803786, 1.84308e-6, 0.0], [0.754727, -3.61236e-7, 0.0], [0.705649, -5.49284e-8, 0.0], [0.656533, 5.38203e-9, 0.0], [0.607341, 1.40648e-9, 0.0], [0.558004, -5.50039e-11, 0.0]  …  [0.26345, -7.23785e-13, 0.0], [0.2144, -7.23785e-13, 0.0], [0.16535, -7.23785e-13, 0.0], [0.1163, -7.23785e-13, 0.0], [0.0672497, -7.23785e-13, 0.0], [0.0181997, -7.23785e-13, 0.0], [-1.96256e-8, -7.23785e-13, 0.0], [-1.96256e-8, -7.23785e-13, 0.0], [-1.96256e-8, -7.23785e-13, 0.0], [-1.96256e-8, -7.23785e-13, 0.0]], Array{Float64,1}[], Array{Float64,1}[], Array{Float64,1}[], [0.0, 0.005, 0.01, 0.015, 0.02, 0.025, 0.03, 0.035, 0.04, 0.045  …  0.075, 0.08, 0.085, 0.09, 0.095, 0.1, 0.105, 0.11, 0.115, 0.12], [0.0 0.00475999 … 0.0484595 0.0484595; 0.0 -5.25081e-6 … -5.36569e-6 -5.36569e-6; … ; 0.0 -0.00105016 … -7.23785e-13 -7.23785e-13; 0.0 0.0 … 0.0 0.0], [0.0 0.00475999 … 0.0484595 0.0484595; 0.0 -5.25081e-6 … -5.36569e-6 -5.36569e-6; … ; 0.0 -0.00105016 … -7.23785e-13 -7.23785e-13; 0.0 0.0 … 0.0 0.0])"
      ]
     },
     "execution_count": 34,
     "metadata": {},
     "output_type": "execute_result"
    }
   ],
   "source": [
    "# Direct\n",
    "\n",
    "sim_data = get_sim_data_direct(mechanism,env,Δt)\n",
    "null_ctrl! = (u,t,x) -> u[:] .= 0.\n",
    "x0 = MechanismState(mechanism)\n",
    "set_configuration!(x0, q0)\n",
    "set_velocity!(x0, v0)\n",
    "setdirty!(x0)\n",
    "sim_direct = Bilevel.simulate(sim_data,null_ctrl!,x0,N)"
   ]
  },
  {
   "cell_type": "code",
   "execution_count": null,
   "metadata": {},
   "outputs": [],
   "source": [
    "@benchmark sim_direct = Bilevel.simulate(sim_data,null_ctrl!,x0,N)"
   ]
  },
  {
   "cell_type": "code",
   "execution_count": null,
   "metadata": {},
   "outputs": [],
   "source": [
    "setanimation!(mvis, sim_direct[6], sim_direct[1])"
   ]
  },
  {
   "cell_type": "code",
   "execution_count": 35,
   "metadata": {},
   "outputs": [
    {
     "data": {
      "image/svg+xml": [
       "<?xml version=\"1.0\" encoding=\"utf-8\"?>\n",
       "<svg xmlns=\"http://www.w3.org/2000/svg\" xmlns:xlink=\"http://www.w3.org/1999/xlink\" width=\"600\" height=\"400\" viewBox=\"0 0 2400 1600\">\n",
       "<defs>\n",
       "  <clipPath id=\"clip8400\">\n",
       "    <rect x=\"0\" y=\"0\" width=\"2400\" height=\"1600\"/>\n",
       "  </clipPath>\n",
       "</defs>\n",
       "<polygon clip-path=\"url(#clip8400)\" points=\"\n",
       "0,1600 2400,1600 2400,0 0,0 \n",
       "  \" fill=\"#ffffff\" fill-rule=\"evenodd\" fill-opacity=\"1\"/>\n",
       "<defs>\n",
       "  <clipPath id=\"clip8401\">\n",
       "    <rect x=\"480\" y=\"0\" width=\"1681\" height=\"1600\"/>\n",
       "  </clipPath>\n",
       "</defs>\n",
       "<polygon clip-path=\"url(#clip8400)\" points=\"\n",
       "180.66,1487.47 2352.76,1487.47 2352.76,47.2441 180.66,47.2441 \n",
       "  \" fill=\"#ffffff\" fill-rule=\"evenodd\" fill-opacity=\"1\"/>\n",
       "<defs>\n",
       "  <clipPath id=\"clip8402\">\n",
       "    <rect x=\"180\" y=\"47\" width=\"2173\" height=\"1441\"/>\n",
       "  </clipPath>\n",
       "</defs>\n",
       "<polyline clip-path=\"url(#clip8402)\" style=\"stroke:#000000; stroke-width:2; stroke-opacity:0.1; fill:none\" points=\"\n",
       "  242.135,1487.47 242.135,47.2441 \n",
       "  \"/>\n",
       "<polyline clip-path=\"url(#clip8402)\" style=\"stroke:#000000; stroke-width:2; stroke-opacity:0.1; fill:none\" points=\"\n",
       "  669.04,1487.47 669.04,47.2441 \n",
       "  \"/>\n",
       "<polyline clip-path=\"url(#clip8402)\" style=\"stroke:#000000; stroke-width:2; stroke-opacity:0.1; fill:none\" points=\"\n",
       "  1095.95,1487.47 1095.95,47.2441 \n",
       "  \"/>\n",
       "<polyline clip-path=\"url(#clip8402)\" style=\"stroke:#000000; stroke-width:2; stroke-opacity:0.1; fill:none\" points=\"\n",
       "  1522.85,1487.47 1522.85,47.2441 \n",
       "  \"/>\n",
       "<polyline clip-path=\"url(#clip8402)\" style=\"stroke:#000000; stroke-width:2; stroke-opacity:0.1; fill:none\" points=\"\n",
       "  1949.76,1487.47 1949.76,47.2441 \n",
       "  \"/>\n",
       "<polyline clip-path=\"url(#clip8402)\" style=\"stroke:#000000; stroke-width:2; stroke-opacity:0.1; fill:none\" points=\"\n",
       "  180.66,1446.71 2352.76,1446.71 \n",
       "  \"/>\n",
       "<polyline clip-path=\"url(#clip8402)\" style=\"stroke:#000000; stroke-width:2; stroke-opacity:0.1; fill:none\" points=\"\n",
       "  180.66,1166.55 2352.76,1166.55 \n",
       "  \"/>\n",
       "<polyline clip-path=\"url(#clip8402)\" style=\"stroke:#000000; stroke-width:2; stroke-opacity:0.1; fill:none\" points=\"\n",
       "  180.66,886.393 2352.76,886.393 \n",
       "  \"/>\n",
       "<polyline clip-path=\"url(#clip8402)\" style=\"stroke:#000000; stroke-width:2; stroke-opacity:0.1; fill:none\" points=\"\n",
       "  180.66,606.232 2352.76,606.232 \n",
       "  \"/>\n",
       "<polyline clip-path=\"url(#clip8402)\" style=\"stroke:#000000; stroke-width:2; stroke-opacity:0.1; fill:none\" points=\"\n",
       "  180.66,326.072 2352.76,326.072 \n",
       "  \"/>\n",
       "<polyline clip-path=\"url(#clip8400)\" style=\"stroke:#000000; stroke-width:4; stroke-opacity:1; fill:none\" points=\"\n",
       "  180.66,1487.47 2352.76,1487.47 \n",
       "  \"/>\n",
       "<polyline clip-path=\"url(#clip8400)\" style=\"stroke:#000000; stroke-width:4; stroke-opacity:1; fill:none\" points=\"\n",
       "  180.66,1487.47 180.66,47.2441 \n",
       "  \"/>\n",
       "<polyline clip-path=\"url(#clip8400)\" style=\"stroke:#000000; stroke-width:4; stroke-opacity:1; fill:none\" points=\"\n",
       "  242.135,1487.47 242.135,1465.87 \n",
       "  \"/>\n",
       "<polyline clip-path=\"url(#clip8400)\" style=\"stroke:#000000; stroke-width:4; stroke-opacity:1; fill:none\" points=\"\n",
       "  669.04,1487.47 669.04,1465.87 \n",
       "  \"/>\n",
       "<polyline clip-path=\"url(#clip8400)\" style=\"stroke:#000000; stroke-width:4; stroke-opacity:1; fill:none\" points=\"\n",
       "  1095.95,1487.47 1095.95,1465.87 \n",
       "  \"/>\n",
       "<polyline clip-path=\"url(#clip8400)\" style=\"stroke:#000000; stroke-width:4; stroke-opacity:1; fill:none\" points=\"\n",
       "  1522.85,1487.47 1522.85,1465.87 \n",
       "  \"/>\n",
       "<polyline clip-path=\"url(#clip8400)\" style=\"stroke:#000000; stroke-width:4; stroke-opacity:1; fill:none\" points=\"\n",
       "  1949.76,1487.47 1949.76,1465.87 \n",
       "  \"/>\n",
       "<polyline clip-path=\"url(#clip8400)\" style=\"stroke:#000000; stroke-width:4; stroke-opacity:1; fill:none\" points=\"\n",
       "  180.66,1446.71 213.242,1446.71 \n",
       "  \"/>\n",
       "<polyline clip-path=\"url(#clip8400)\" style=\"stroke:#000000; stroke-width:4; stroke-opacity:1; fill:none\" points=\"\n",
       "  180.66,1166.55 213.242,1166.55 \n",
       "  \"/>\n",
       "<polyline clip-path=\"url(#clip8400)\" style=\"stroke:#000000; stroke-width:4; stroke-opacity:1; fill:none\" points=\"\n",
       "  180.66,886.393 213.242,886.393 \n",
       "  \"/>\n",
       "<polyline clip-path=\"url(#clip8400)\" style=\"stroke:#000000; stroke-width:4; stroke-opacity:1; fill:none\" points=\"\n",
       "  180.66,606.232 213.242,606.232 \n",
       "  \"/>\n",
       "<polyline clip-path=\"url(#clip8400)\" style=\"stroke:#000000; stroke-width:4; stroke-opacity:1; fill:none\" points=\"\n",
       "  180.66,326.072 213.242,326.072 \n",
       "  \"/>\n",
       "<g clip-path=\"url(#clip8400)\">\n",
       "<text style=\"fill:#000000; fill-opacity:1; font-family:Arial,Helvetica Neue,Helvetica,sans-serif; font-size:48px; text-anchor:middle;\" transform=\"rotate(0, 242.135, 1541.47)\" x=\"242.135\" y=\"1541.47\">0.000</text>\n",
       "</g>\n",
       "<g clip-path=\"url(#clip8400)\">\n",
       "<text style=\"fill:#000000; fill-opacity:1; font-family:Arial,Helvetica Neue,Helvetica,sans-serif; font-size:48px; text-anchor:middle;\" transform=\"rotate(0, 669.04, 1541.47)\" x=\"669.04\" y=\"1541.47\">0.025</text>\n",
       "</g>\n",
       "<g clip-path=\"url(#clip8400)\">\n",
       "<text style=\"fill:#000000; fill-opacity:1; font-family:Arial,Helvetica Neue,Helvetica,sans-serif; font-size:48px; text-anchor:middle;\" transform=\"rotate(0, 1095.95, 1541.47)\" x=\"1095.95\" y=\"1541.47\">0.050</text>\n",
       "</g>\n",
       "<g clip-path=\"url(#clip8400)\">\n",
       "<text style=\"fill:#000000; fill-opacity:1; font-family:Arial,Helvetica Neue,Helvetica,sans-serif; font-size:48px; text-anchor:middle;\" transform=\"rotate(0, 1522.85, 1541.47)\" x=\"1522.85\" y=\"1541.47\">0.075</text>\n",
       "</g>\n",
       "<g clip-path=\"url(#clip8400)\">\n",
       "<text style=\"fill:#000000; fill-opacity:1; font-family:Arial,Helvetica Neue,Helvetica,sans-serif; font-size:48px; text-anchor:middle;\" transform=\"rotate(0, 1949.76, 1541.47)\" x=\"1949.76\" y=\"1541.47\">0.100</text>\n",
       "</g>\n",
       "<g clip-path=\"url(#clip8400)\">\n",
       "<text style=\"fill:#000000; fill-opacity:1; font-family:Arial,Helvetica Neue,Helvetica,sans-serif; font-size:48px; text-anchor:end;\" transform=\"rotate(0, 156.66, 1464.21)\" x=\"156.66\" y=\"1464.21\">0.00</text>\n",
       "</g>\n",
       "<g clip-path=\"url(#clip8400)\">\n",
       "<text style=\"fill:#000000; fill-opacity:1; font-family:Arial,Helvetica Neue,Helvetica,sans-serif; font-size:48px; text-anchor:end;\" transform=\"rotate(0, 156.66, 1184.05)\" x=\"156.66\" y=\"1184.05\">0.01</text>\n",
       "</g>\n",
       "<g clip-path=\"url(#clip8400)\">\n",
       "<text style=\"fill:#000000; fill-opacity:1; font-family:Arial,Helvetica Neue,Helvetica,sans-serif; font-size:48px; text-anchor:end;\" transform=\"rotate(0, 156.66, 903.893)\" x=\"156.66\" y=\"903.893\">0.02</text>\n",
       "</g>\n",
       "<g clip-path=\"url(#clip8400)\">\n",
       "<text style=\"fill:#000000; fill-opacity:1; font-family:Arial,Helvetica Neue,Helvetica,sans-serif; font-size:48px; text-anchor:end;\" transform=\"rotate(0, 156.66, 623.732)\" x=\"156.66\" y=\"623.732\">0.03</text>\n",
       "</g>\n",
       "<g clip-path=\"url(#clip8400)\">\n",
       "<text style=\"fill:#000000; fill-opacity:1; font-family:Arial,Helvetica Neue,Helvetica,sans-serif; font-size:48px; text-anchor:end;\" transform=\"rotate(0, 156.66, 343.572)\" x=\"156.66\" y=\"343.572\">0.04</text>\n",
       "</g>\n",
       "<polyline clip-path=\"url(#clip8402)\" style=\"stroke:#e34a33; stroke-width:0; stroke-opacity:1; fill:none\" points=\"\n",
       "  242.135,1446.71 327.516,1313.5 412.897,1187.17 498.278,1067.7 583.659,955.102 669.04,849.376 754.421,750.522 839.803,658.538 925.184,573.425 1010.56,495.184 \n",
       "  1095.95,423.813 1181.33,359.313 1266.71,301.684 1352.09,250.926 1437.47,207.039 1522.85,170.022 1608.23,139.877 1693.61,116.603 1778.99,100.199 1864.38,90.6669 \n",
       "  1949.76,88.0053 2035.14,88.0053 2120.52,88.0053 2205.9,88.0053 2291.28,88.0053 \n",
       "  \"/>\n",
       "<circle clip-path=\"url(#clip8402)\" style=\"fill:#000000; stroke:none; fill-opacity:1\" cx=\"242.135\" cy=\"1446.71\" r=\"25\"/>\n",
       "<circle clip-path=\"url(#clip8402)\" style=\"fill:#e34a33; stroke:none; fill-opacity:1\" cx=\"242.135\" cy=\"1446.71\" r=\"21\"/>\n",
       "<circle clip-path=\"url(#clip8402)\" style=\"fill:#000000; stroke:none; fill-opacity:1\" cx=\"327.516\" cy=\"1313.5\" r=\"25\"/>\n",
       "<circle clip-path=\"url(#clip8402)\" style=\"fill:#e34a33; stroke:none; fill-opacity:1\" cx=\"327.516\" cy=\"1313.5\" r=\"21\"/>\n",
       "<circle clip-path=\"url(#clip8402)\" style=\"fill:#000000; stroke:none; fill-opacity:1\" cx=\"412.897\" cy=\"1187.17\" r=\"25\"/>\n",
       "<circle clip-path=\"url(#clip8402)\" style=\"fill:#e34a33; stroke:none; fill-opacity:1\" cx=\"412.897\" cy=\"1187.17\" r=\"21\"/>\n",
       "<circle clip-path=\"url(#clip8402)\" style=\"fill:#000000; stroke:none; fill-opacity:1\" cx=\"498.278\" cy=\"1067.7\" r=\"25\"/>\n",
       "<circle clip-path=\"url(#clip8402)\" style=\"fill:#e34a33; stroke:none; fill-opacity:1\" cx=\"498.278\" cy=\"1067.7\" r=\"21\"/>\n",
       "<circle clip-path=\"url(#clip8402)\" style=\"fill:#000000; stroke:none; fill-opacity:1\" cx=\"583.659\" cy=\"955.102\" r=\"25\"/>\n",
       "<circle clip-path=\"url(#clip8402)\" style=\"fill:#e34a33; stroke:none; fill-opacity:1\" cx=\"583.659\" cy=\"955.102\" r=\"21\"/>\n",
       "<circle clip-path=\"url(#clip8402)\" style=\"fill:#000000; stroke:none; fill-opacity:1\" cx=\"669.04\" cy=\"849.376\" r=\"25\"/>\n",
       "<circle clip-path=\"url(#clip8402)\" style=\"fill:#e34a33; stroke:none; fill-opacity:1\" cx=\"669.04\" cy=\"849.376\" r=\"21\"/>\n",
       "<circle clip-path=\"url(#clip8402)\" style=\"fill:#000000; stroke:none; fill-opacity:1\" cx=\"754.421\" cy=\"750.522\" r=\"25\"/>\n",
       "<circle clip-path=\"url(#clip8402)\" style=\"fill:#e34a33; stroke:none; fill-opacity:1\" cx=\"754.421\" cy=\"750.522\" r=\"21\"/>\n",
       "<circle clip-path=\"url(#clip8402)\" style=\"fill:#000000; stroke:none; fill-opacity:1\" cx=\"839.803\" cy=\"658.538\" r=\"25\"/>\n",
       "<circle clip-path=\"url(#clip8402)\" style=\"fill:#e34a33; stroke:none; fill-opacity:1\" cx=\"839.803\" cy=\"658.538\" r=\"21\"/>\n",
       "<circle clip-path=\"url(#clip8402)\" style=\"fill:#000000; stroke:none; fill-opacity:1\" cx=\"925.184\" cy=\"573.425\" r=\"25\"/>\n",
       "<circle clip-path=\"url(#clip8402)\" style=\"fill:#e34a33; stroke:none; fill-opacity:1\" cx=\"925.184\" cy=\"573.425\" r=\"21\"/>\n",
       "<circle clip-path=\"url(#clip8402)\" style=\"fill:#000000; stroke:none; fill-opacity:1\" cx=\"1010.56\" cy=\"495.184\" r=\"25\"/>\n",
       "<circle clip-path=\"url(#clip8402)\" style=\"fill:#e34a33; stroke:none; fill-opacity:1\" cx=\"1010.56\" cy=\"495.184\" r=\"21\"/>\n",
       "<circle clip-path=\"url(#clip8402)\" style=\"fill:#000000; stroke:none; fill-opacity:1\" cx=\"1095.95\" cy=\"423.813\" r=\"25\"/>\n",
       "<circle clip-path=\"url(#clip8402)\" style=\"fill:#e34a33; stroke:none; fill-opacity:1\" cx=\"1095.95\" cy=\"423.813\" r=\"21\"/>\n",
       "<circle clip-path=\"url(#clip8402)\" style=\"fill:#000000; stroke:none; fill-opacity:1\" cx=\"1181.33\" cy=\"359.313\" r=\"25\"/>\n",
       "<circle clip-path=\"url(#clip8402)\" style=\"fill:#e34a33; stroke:none; fill-opacity:1\" cx=\"1181.33\" cy=\"359.313\" r=\"21\"/>\n",
       "<circle clip-path=\"url(#clip8402)\" style=\"fill:#000000; stroke:none; fill-opacity:1\" cx=\"1266.71\" cy=\"301.684\" r=\"25\"/>\n",
       "<circle clip-path=\"url(#clip8402)\" style=\"fill:#e34a33; stroke:none; fill-opacity:1\" cx=\"1266.71\" cy=\"301.684\" r=\"21\"/>\n",
       "<circle clip-path=\"url(#clip8402)\" style=\"fill:#000000; stroke:none; fill-opacity:1\" cx=\"1352.09\" cy=\"250.926\" r=\"25\"/>\n",
       "<circle clip-path=\"url(#clip8402)\" style=\"fill:#e34a33; stroke:none; fill-opacity:1\" cx=\"1352.09\" cy=\"250.926\" r=\"21\"/>\n",
       "<circle clip-path=\"url(#clip8402)\" style=\"fill:#000000; stroke:none; fill-opacity:1\" cx=\"1437.47\" cy=\"207.039\" r=\"25\"/>\n",
       "<circle clip-path=\"url(#clip8402)\" style=\"fill:#e34a33; stroke:none; fill-opacity:1\" cx=\"1437.47\" cy=\"207.039\" r=\"21\"/>\n",
       "<circle clip-path=\"url(#clip8402)\" style=\"fill:#000000; stroke:none; fill-opacity:1\" cx=\"1522.85\" cy=\"170.022\" r=\"25\"/>\n",
       "<circle clip-path=\"url(#clip8402)\" style=\"fill:#e34a33; stroke:none; fill-opacity:1\" cx=\"1522.85\" cy=\"170.022\" r=\"21\"/>\n",
       "<circle clip-path=\"url(#clip8402)\" style=\"fill:#000000; stroke:none; fill-opacity:1\" cx=\"1608.23\" cy=\"139.877\" r=\"25\"/>\n",
       "<circle clip-path=\"url(#clip8402)\" style=\"fill:#e34a33; stroke:none; fill-opacity:1\" cx=\"1608.23\" cy=\"139.877\" r=\"21\"/>\n",
       "<circle clip-path=\"url(#clip8402)\" style=\"fill:#000000; stroke:none; fill-opacity:1\" cx=\"1693.61\" cy=\"116.603\" r=\"25\"/>\n",
       "<circle clip-path=\"url(#clip8402)\" style=\"fill:#e34a33; stroke:none; fill-opacity:1\" cx=\"1693.61\" cy=\"116.603\" r=\"21\"/>\n",
       "<circle clip-path=\"url(#clip8402)\" style=\"fill:#000000; stroke:none; fill-opacity:1\" cx=\"1778.99\" cy=\"100.199\" r=\"25\"/>\n",
       "<circle clip-path=\"url(#clip8402)\" style=\"fill:#e34a33; stroke:none; fill-opacity:1\" cx=\"1778.99\" cy=\"100.199\" r=\"21\"/>\n",
       "<circle clip-path=\"url(#clip8402)\" style=\"fill:#000000; stroke:none; fill-opacity:1\" cx=\"1864.38\" cy=\"90.6669\" r=\"25\"/>\n",
       "<circle clip-path=\"url(#clip8402)\" style=\"fill:#e34a33; stroke:none; fill-opacity:1\" cx=\"1864.38\" cy=\"90.6669\" r=\"21\"/>\n",
       "<circle clip-path=\"url(#clip8402)\" style=\"fill:#000000; stroke:none; fill-opacity:1\" cx=\"1949.76\" cy=\"88.0053\" r=\"25\"/>\n",
       "<circle clip-path=\"url(#clip8402)\" style=\"fill:#e34a33; stroke:none; fill-opacity:1\" cx=\"1949.76\" cy=\"88.0053\" r=\"21\"/>\n",
       "<circle clip-path=\"url(#clip8402)\" style=\"fill:#000000; stroke:none; fill-opacity:1\" cx=\"2035.14\" cy=\"88.0053\" r=\"25\"/>\n",
       "<circle clip-path=\"url(#clip8402)\" style=\"fill:#e34a33; stroke:none; fill-opacity:1\" cx=\"2035.14\" cy=\"88.0053\" r=\"21\"/>\n",
       "<circle clip-path=\"url(#clip8402)\" style=\"fill:#000000; stroke:none; fill-opacity:1\" cx=\"2120.52\" cy=\"88.0053\" r=\"25\"/>\n",
       "<circle clip-path=\"url(#clip8402)\" style=\"fill:#e34a33; stroke:none; fill-opacity:1\" cx=\"2120.52\" cy=\"88.0053\" r=\"21\"/>\n",
       "<circle clip-path=\"url(#clip8402)\" style=\"fill:#000000; stroke:none; fill-opacity:1\" cx=\"2205.9\" cy=\"88.0053\" r=\"25\"/>\n",
       "<circle clip-path=\"url(#clip8402)\" style=\"fill:#e34a33; stroke:none; fill-opacity:1\" cx=\"2205.9\" cy=\"88.0053\" r=\"21\"/>\n",
       "<circle clip-path=\"url(#clip8402)\" style=\"fill:#000000; stroke:none; fill-opacity:1\" cx=\"2291.28\" cy=\"88.0053\" r=\"25\"/>\n",
       "<circle clip-path=\"url(#clip8402)\" style=\"fill:#e34a33; stroke:none; fill-opacity:1\" cx=\"2291.28\" cy=\"88.0053\" r=\"21\"/>\n",
       "<polyline clip-path=\"url(#clip8402)\" style=\"stroke:#fee8c8; stroke-width:4; stroke-opacity:1; fill:none\" points=\"\n",
       "  242.135,1446.71 327.516,1313.36 412.897,1187.01 498.278,1067.55 583.659,954.956 669.04,849.233 754.421,750.386 839.803,658.418 925.184,573.342 1010.56,495.177 \n",
       "  1095.95,423.882 1181.33,359.459 1266.71,301.908 1352.09,251.23 1437.47,207.431 1522.85,170.527 1608.23,140.494 1693.61,117.332 1778.99,101.04 1864.38,91.62 \n",
       "  1949.76,89.0705 2035.14,89.0706 2120.52,89.0706 2205.9,89.0706 2291.28,89.0706 \n",
       "  \"/>\n",
       "<circle clip-path=\"url(#clip8402)\" style=\"fill:#000000; stroke:none; fill-opacity:1\" cx=\"242.135\" cy=\"1446.71\" r=\"18\"/>\n",
       "<circle clip-path=\"url(#clip8402)\" style=\"fill:#fee8c8; stroke:none; fill-opacity:1\" cx=\"242.135\" cy=\"1446.71\" r=\"14\"/>\n",
       "<circle clip-path=\"url(#clip8402)\" style=\"fill:#000000; stroke:none; fill-opacity:1\" cx=\"327.516\" cy=\"1313.36\" r=\"18\"/>\n",
       "<circle clip-path=\"url(#clip8402)\" style=\"fill:#fee8c8; stroke:none; fill-opacity:1\" cx=\"327.516\" cy=\"1313.36\" r=\"14\"/>\n",
       "<circle clip-path=\"url(#clip8402)\" style=\"fill:#000000; stroke:none; fill-opacity:1\" cx=\"412.897\" cy=\"1187.01\" r=\"18\"/>\n",
       "<circle clip-path=\"url(#clip8402)\" style=\"fill:#fee8c8; stroke:none; fill-opacity:1\" cx=\"412.897\" cy=\"1187.01\" r=\"14\"/>\n",
       "<circle clip-path=\"url(#clip8402)\" style=\"fill:#000000; stroke:none; fill-opacity:1\" cx=\"498.278\" cy=\"1067.55\" r=\"18\"/>\n",
       "<circle clip-path=\"url(#clip8402)\" style=\"fill:#fee8c8; stroke:none; fill-opacity:1\" cx=\"498.278\" cy=\"1067.55\" r=\"14\"/>\n",
       "<circle clip-path=\"url(#clip8402)\" style=\"fill:#000000; stroke:none; fill-opacity:1\" cx=\"583.659\" cy=\"954.956\" r=\"18\"/>\n",
       "<circle clip-path=\"url(#clip8402)\" style=\"fill:#fee8c8; stroke:none; fill-opacity:1\" cx=\"583.659\" cy=\"954.956\" r=\"14\"/>\n",
       "<circle clip-path=\"url(#clip8402)\" style=\"fill:#000000; stroke:none; fill-opacity:1\" cx=\"669.04\" cy=\"849.233\" r=\"18\"/>\n",
       "<circle clip-path=\"url(#clip8402)\" style=\"fill:#fee8c8; stroke:none; fill-opacity:1\" cx=\"669.04\" cy=\"849.233\" r=\"14\"/>\n",
       "<circle clip-path=\"url(#clip8402)\" style=\"fill:#000000; stroke:none; fill-opacity:1\" cx=\"754.421\" cy=\"750.386\" r=\"18\"/>\n",
       "<circle clip-path=\"url(#clip8402)\" style=\"fill:#fee8c8; stroke:none; fill-opacity:1\" cx=\"754.421\" cy=\"750.386\" r=\"14\"/>\n",
       "<circle clip-path=\"url(#clip8402)\" style=\"fill:#000000; stroke:none; fill-opacity:1\" cx=\"839.803\" cy=\"658.418\" r=\"18\"/>\n",
       "<circle clip-path=\"url(#clip8402)\" style=\"fill:#fee8c8; stroke:none; fill-opacity:1\" cx=\"839.803\" cy=\"658.418\" r=\"14\"/>\n",
       "<circle clip-path=\"url(#clip8402)\" style=\"fill:#000000; stroke:none; fill-opacity:1\" cx=\"925.184\" cy=\"573.342\" r=\"18\"/>\n",
       "<circle clip-path=\"url(#clip8402)\" style=\"fill:#fee8c8; stroke:none; fill-opacity:1\" cx=\"925.184\" cy=\"573.342\" r=\"14\"/>\n",
       "<circle clip-path=\"url(#clip8402)\" style=\"fill:#000000; stroke:none; fill-opacity:1\" cx=\"1010.56\" cy=\"495.177\" r=\"18\"/>\n",
       "<circle clip-path=\"url(#clip8402)\" style=\"fill:#fee8c8; stroke:none; fill-opacity:1\" cx=\"1010.56\" cy=\"495.177\" r=\"14\"/>\n",
       "<circle clip-path=\"url(#clip8402)\" style=\"fill:#000000; stroke:none; fill-opacity:1\" cx=\"1095.95\" cy=\"423.882\" r=\"18\"/>\n",
       "<circle clip-path=\"url(#clip8402)\" style=\"fill:#fee8c8; stroke:none; fill-opacity:1\" cx=\"1095.95\" cy=\"423.882\" r=\"14\"/>\n",
       "<circle clip-path=\"url(#clip8402)\" style=\"fill:#000000; stroke:none; fill-opacity:1\" cx=\"1181.33\" cy=\"359.459\" r=\"18\"/>\n",
       "<circle clip-path=\"url(#clip8402)\" style=\"fill:#fee8c8; stroke:none; fill-opacity:1\" cx=\"1181.33\" cy=\"359.459\" r=\"14\"/>\n",
       "<circle clip-path=\"url(#clip8402)\" style=\"fill:#000000; stroke:none; fill-opacity:1\" cx=\"1266.71\" cy=\"301.908\" r=\"18\"/>\n",
       "<circle clip-path=\"url(#clip8402)\" style=\"fill:#fee8c8; stroke:none; fill-opacity:1\" cx=\"1266.71\" cy=\"301.908\" r=\"14\"/>\n",
       "<circle clip-path=\"url(#clip8402)\" style=\"fill:#000000; stroke:none; fill-opacity:1\" cx=\"1352.09\" cy=\"251.23\" r=\"18\"/>\n",
       "<circle clip-path=\"url(#clip8402)\" style=\"fill:#fee8c8; stroke:none; fill-opacity:1\" cx=\"1352.09\" cy=\"251.23\" r=\"14\"/>\n",
       "<circle clip-path=\"url(#clip8402)\" style=\"fill:#000000; stroke:none; fill-opacity:1\" cx=\"1437.47\" cy=\"207.431\" r=\"18\"/>\n",
       "<circle clip-path=\"url(#clip8402)\" style=\"fill:#fee8c8; stroke:none; fill-opacity:1\" cx=\"1437.47\" cy=\"207.431\" r=\"14\"/>\n",
       "<circle clip-path=\"url(#clip8402)\" style=\"fill:#000000; stroke:none; fill-opacity:1\" cx=\"1522.85\" cy=\"170.527\" r=\"18\"/>\n",
       "<circle clip-path=\"url(#clip8402)\" style=\"fill:#fee8c8; stroke:none; fill-opacity:1\" cx=\"1522.85\" cy=\"170.527\" r=\"14\"/>\n",
       "<circle clip-path=\"url(#clip8402)\" style=\"fill:#000000; stroke:none; fill-opacity:1\" cx=\"1608.23\" cy=\"140.494\" r=\"18\"/>\n",
       "<circle clip-path=\"url(#clip8402)\" style=\"fill:#fee8c8; stroke:none; fill-opacity:1\" cx=\"1608.23\" cy=\"140.494\" r=\"14\"/>\n",
       "<circle clip-path=\"url(#clip8402)\" style=\"fill:#000000; stroke:none; fill-opacity:1\" cx=\"1693.61\" cy=\"117.332\" r=\"18\"/>\n",
       "<circle clip-path=\"url(#clip8402)\" style=\"fill:#fee8c8; stroke:none; fill-opacity:1\" cx=\"1693.61\" cy=\"117.332\" r=\"14\"/>\n",
       "<circle clip-path=\"url(#clip8402)\" style=\"fill:#000000; stroke:none; fill-opacity:1\" cx=\"1778.99\" cy=\"101.04\" r=\"18\"/>\n",
       "<circle clip-path=\"url(#clip8402)\" style=\"fill:#fee8c8; stroke:none; fill-opacity:1\" cx=\"1778.99\" cy=\"101.04\" r=\"14\"/>\n",
       "<circle clip-path=\"url(#clip8402)\" style=\"fill:#000000; stroke:none; fill-opacity:1\" cx=\"1864.38\" cy=\"91.62\" r=\"18\"/>\n",
       "<circle clip-path=\"url(#clip8402)\" style=\"fill:#fee8c8; stroke:none; fill-opacity:1\" cx=\"1864.38\" cy=\"91.62\" r=\"14\"/>\n",
       "<circle clip-path=\"url(#clip8402)\" style=\"fill:#000000; stroke:none; fill-opacity:1\" cx=\"1949.76\" cy=\"89.0705\" r=\"18\"/>\n",
       "<circle clip-path=\"url(#clip8402)\" style=\"fill:#fee8c8; stroke:none; fill-opacity:1\" cx=\"1949.76\" cy=\"89.0705\" r=\"14\"/>\n",
       "<circle clip-path=\"url(#clip8402)\" style=\"fill:#000000; stroke:none; fill-opacity:1\" cx=\"2035.14\" cy=\"89.0706\" r=\"18\"/>\n",
       "<circle clip-path=\"url(#clip8402)\" style=\"fill:#fee8c8; stroke:none; fill-opacity:1\" cx=\"2035.14\" cy=\"89.0706\" r=\"14\"/>\n",
       "<circle clip-path=\"url(#clip8402)\" style=\"fill:#000000; stroke:none; fill-opacity:1\" cx=\"2120.52\" cy=\"89.0706\" r=\"18\"/>\n",
       "<circle clip-path=\"url(#clip8402)\" style=\"fill:#fee8c8; stroke:none; fill-opacity:1\" cx=\"2120.52\" cy=\"89.0706\" r=\"14\"/>\n",
       "<circle clip-path=\"url(#clip8402)\" style=\"fill:#000000; stroke:none; fill-opacity:1\" cx=\"2205.9\" cy=\"89.0706\" r=\"18\"/>\n",
       "<circle clip-path=\"url(#clip8402)\" style=\"fill:#fee8c8; stroke:none; fill-opacity:1\" cx=\"2205.9\" cy=\"89.0706\" r=\"14\"/>\n",
       "<circle clip-path=\"url(#clip8402)\" style=\"fill:#000000; stroke:none; fill-opacity:1\" cx=\"2291.28\" cy=\"89.0706\" r=\"18\"/>\n",
       "<circle clip-path=\"url(#clip8402)\" style=\"fill:#fee8c8; stroke:none; fill-opacity:1\" cx=\"2291.28\" cy=\"89.0706\" r=\"14\"/>\n",
       "<polygon clip-path=\"url(#clip8400)\" points=\"\n",
       "1882.93,312.204 2280.76,312.204 2280.76,130.764 1882.93,130.764 \n",
       "  \" fill=\"#ffffff\" fill-rule=\"evenodd\" fill-opacity=\"1\"/>\n",
       "<polyline clip-path=\"url(#clip8400)\" style=\"stroke:#000000; stroke-width:4; stroke-opacity:1; fill:none\" points=\"\n",
       "  1882.93,312.204 2280.76,312.204 2280.76,130.764 1882.93,130.764 1882.93,312.204 \n",
       "  \"/>\n",
       "<polyline clip-path=\"url(#clip8400)\" style=\"stroke:#e34a33; stroke-width:0; stroke-opacity:1; fill:none\" points=\"\n",
       "  1906.93,191.244 2050.93,191.244 \n",
       "  \"/>\n",
       "<circle clip-path=\"url(#clip8400)\" style=\"fill:#000000; stroke:none; fill-opacity:1\" cx=\"1990.93\" cy=\"191.244\" r=\"25\"/>\n",
       "<circle clip-path=\"url(#clip8400)\" style=\"fill:#e34a33; stroke:none; fill-opacity:1\" cx=\"1990.93\" cy=\"191.244\" r=\"21\"/>\n",
       "<g clip-path=\"url(#clip8400)\">\n",
       "<text style=\"fill:#000000; fill-opacity:1; font-family:Arial,Helvetica Neue,Helvetica,sans-serif; font-size:48px; text-anchor:start;\" transform=\"rotate(0, 2074.93, 208.744)\" x=\"2074.93\" y=\"208.744\">Indirect</text>\n",
       "</g>\n",
       "<polyline clip-path=\"url(#clip8400)\" style=\"stroke:#fee8c8; stroke-width:4; stroke-opacity:1; fill:none\" points=\"\n",
       "  1906.93,251.724 2050.93,251.724 \n",
       "  \"/>\n",
       "<circle clip-path=\"url(#clip8400)\" style=\"fill:#000000; stroke:none; fill-opacity:1\" cx=\"1990.93\" cy=\"251.724\" r=\"25\"/>\n",
       "<circle clip-path=\"url(#clip8400)\" style=\"fill:#fee8c8; stroke:none; fill-opacity:1\" cx=\"1990.93\" cy=\"251.724\" r=\"21\"/>\n",
       "<g clip-path=\"url(#clip8400)\">\n",
       "<text style=\"fill:#000000; fill-opacity:1; font-family:Arial,Helvetica Neue,Helvetica,sans-serif; font-size:48px; text-anchor:start;\" transform=\"rotate(0, 2074.93, 269.224)\" x=\"2074.93\" y=\"269.224\">Direct</text>\n",
       "</g>\n",
       "</svg>\n"
      ]
     },
     "execution_count": 35,
     "metadata": {},
     "output_type": "execute_result"
    }
   ],
   "source": [
    "j = 1\n",
    "plot(sim_indirect[6],sim_indirect[8][j,:],label=\"Indirect\",seriescolor=RGB(((227,74,51) ./ 255.)...),linewidth=0,marker=6)\n",
    "plot!(sim_direct[6],sim_direct[8][j,:],label=\"Direct\",seriescolor=RGB(((254,232,200) ./ 255.)...),linewidth=1,marker=4)"
   ]
  },
  {
   "cell_type": "code",
   "execution_count": 38,
   "metadata": {},
   "outputs": [
    {
     "data": {
      "text/plain": [
       "3-element Array{Float64,1}:\n",
       " 0.04849749999570096\n",
       " 0.0                \n",
       " 0.0                "
      ]
     },
     "execution_count": 38,
     "metadata": {},
     "output_type": "execute_result"
    }
   ],
   "source": [
    "sim_indirect[1][end]"
   ]
  },
  {
   "cell_type": "markdown",
   "metadata": {},
   "source": [
    "# Trajectory optimization of sliding box"
   ]
  },
  {
   "cell_type": "code",
   "execution_count": 5,
   "metadata": {},
   "outputs": [],
   "source": [
    "urdf = joinpath(\"..\", \"..\", \"urdf\", \"ball2d.urdf\")\n",
    "mechanism = parse_urdf(Float64, urdf)\n",
    "\n",
    "floor = findbody(mechanism, \"floor\")\n",
    "point = Point3D(default_frame(floor), SVector([0.,0.,0.]...))\n",
    "normal = FreeVector3D(default_frame(floor), SVector([0.,0.,1.]...))\n",
    "floor_obs = Obstacle(floor, point, normal, :xyz, 1.)\n",
    "\n",
    "obstacles = [floor_obs]\n",
    "env = Environment(mechanism, urdf, obstacles);"
   ]
  },
  {
   "cell_type": "code",
   "execution_count": null,
   "metadata": {},
   "outputs": [],
   "source": [
    "mvis = MechanismVisualizer(mechanism, URDFVisuals(urdf))\n",
    "open(mvis)"
   ]
  },
  {
   "cell_type": "code",
   "execution_count": 78,
   "metadata": {},
   "outputs": [
    {
     "data": {
      "text/plain": [
       "add_prob_obj! (generic function with 1 method)"
      ]
     },
     "execution_count": 78,
     "metadata": {},
     "output_type": "execute_result"
    }
   ],
   "source": [
    "q1 = [0., 0., 0.]\n",
    "qN = [0.045, 0., 0.]\n",
    "N = 25\n",
    "Δt = 0.005\n",
    "\n",
    "q_min = [-10., -10., -10.]\n",
    "q_max = [10., 10., 10.]\n",
    "\n",
    "function get_prob_limits(sim_data)\n",
    "    x_min = -1e19*ones(sim_data.vs.num_vars)\n",
    "    x_max = 1e19*ones(sim_data.vs.num_vars)\n",
    "    \n",
    "    # joint limits\n",
    "    add_box_con_snopt!(x_min, x_max, sim_data, :q, q_min, q_max, 1:N)\n",
    "    add_box_con_snopt!(x_min, x_max, sim_data, :h, [Δt], [Δt], 1:N-1)\n",
    "    \n",
    "    # torques limits\n",
    "    add_box_con_snopt!(x_min, x_max, sim_data, :u, zeros(num_velocities(mechanism)), zeros(num_velocities(mechanism)), 1:N-1)\n",
    "\n",
    "    x_min, x_max\n",
    "end\n",
    "\n",
    "function add_prob_constraints!(sim_data)\n",
    "    vs = sim_data.vs\n",
    "\n",
    "    add_eq!(sim_data, :cq1, length(q1), x -> vs(x, :q1) - q1)\n",
    "    add_eq!(sim_data, :cv1, 1, x -> vs(x, :v1)[2])\n",
    "    add_ineq!(sim_data, :cqN, 1, x -> qN[1] - vs(x, Symbol(\"q\", N))[1])\n",
    "#     add_eq!(sim_data, :cqN, 2, x -> vs(x, Symbol(\"q\", N))[1:2] - qN[1:2])\n",
    "#     add_eq!(sim_data, :cvN, 1, x -> vs(x, Symbol(\"v\", N))[1])\n",
    "end\n",
    "\n",
    "function get_prob_init(sim_data)\n",
    "    x0 = zeros(sim_data.vs.num_vars)\n",
    "    for n = 1:N\n",
    "        x0[sim_data.vs(Symbol(\"q\", n))] .= n/N*(qN - q1) + q1\n",
    "    end\n",
    "    \n",
    "    x0\n",
    "end\n",
    "\n",
    "function add_prob_obj!(sim_data)\n",
    "    for n = 1:N\n",
    "        add_obj!(sim_data, Symbol(\"objv\", n), x -> sim_data.vs(Symbol(\"v\", n))' * sim_data.vs(Symbol(\"v\", n)))\n",
    "    end\n",
    "end"
   ]
  },
  {
   "cell_type": "code",
   "execution_count": 79,
   "metadata": {},
   "outputs": [
    {
     "name": "stdout",
     "output_type": "stream",
     "text": [
      "Finished successfully: optimality conditions satisfied\n",
      "  7.115404 seconds (53.63 M allocations: 6.092 GiB)\n"
     ]
    },
    {
     "data": {
      "text/plain": [
       "(Array{Float64,1}[[0.0, 0.0, 0.0], [0.00400723, 0.000690561, -0.000375709], [0.00726291, 0.00188695, -0.000751417], [0.00990303, 0.00345329, -0.00112713], [0.0120545, 0.00526271, -0.00150283], [0.0138828, 0.00714998, -0.00187854], [0.015572, 0.00893108, -0.00225425], [0.0172173, 0.0105109, -0.00262996], [0.0188536, 0.0118545, -0.00300567], [0.02049, 0.0129529, -0.00338138]  …  [0.0303102, 0.014393, -0.00563563], [0.0319472, 0.0137746, -0.00601134], [0.0335844, 0.012911, -0.00638704], [0.0352216, 0.0118021, -0.00676275], [0.0368589, 0.010448, -0.00713846], [0.0384963, 0.00884867, -0.00751417], [0.0401338, 0.00700406, -0.00788988], [0.0417713, 0.0049142, -0.00826559], [0.043409, 0.00257909, -0.0086413], [0.0450455, 0.0, -0.009017]], Array{Float64,1}[[0.988731, 0.0, -0.0751417], [0.801395, 0.138413, -0.0751417], [0.650956, 0.239767, -0.0751417], [0.52767, 0.313862, -0.0751417], [0.429757, 0.36253, -0.0751417], [0.364939, 0.378142, -0.0751417], [0.337035, 0.35698, -0.0751417], [0.328229, 0.316823, -0.0751417], [0.32645, 0.26971, -0.0751417], [0.326533, 0.220783, -0.0751417]  …  [0.327803, -0.0727762, -0.0751417], [0.328144, -0.121702, -0.0751417], [0.328521, -0.170628, -0.0751417], [0.328935, -0.219553, -0.0751417], [0.329386, -0.268478, -0.0751417], [0.329874, -0.317403, -0.0751417], [0.330397, -0.366327, -0.0751417], [0.330957, -0.415251, -0.0751417], [0.331555, -0.464174, -0.0751417], [0.331933, -0.512845, -0.0751417]], Array{Float64,1}[[0.0, 0.0, 0.0], [0.0, 0.0, 0.0], [0.0, 0.0, 0.0], [0.0, 0.0, 0.0], [0.0, 0.0, 0.0], [0.0, 0.0, 0.0], [0.0, 0.0, 0.0], [0.0, 0.0, 0.0], [0.0, 0.0, 0.0], [0.0, 0.0, 0.0]  …  [0.0, 0.0, 0.0], [0.0, 0.0, 0.0], [0.0, 0.0, 0.0], [0.0, 0.0, 0.0], [0.0, 0.0, 0.0], [0.0, 0.0, 0.0], [0.0, 0.0, 0.0], [0.0, 0.0, 0.0], [0.0, 0.0, 0.0], [0.0, 0.0, 0.0]], [0.005, 0.005, 0.005, 0.005, 0.005, 0.005, 0.005, 0.005, 0.005, 0.005  …  0.005, 0.005, 0.005, 0.005, 0.005, 0.005, 0.005, 0.005, 0.005, 0.005], Array{Float64,1}[[3.81718, 0.0, 0.0, 3.81718, 0.0, 0.801447], [3.06366, 0.0, 2.84527e-16, 3.06366, 0.0, 0.651136], [2.50938, 6.36929e-22, -4.16245e-17, 2.50938, -6.93889e-18, 0.528023], [1.99192, 0.0, 5.54661e-17, 1.99192, 0.0, 0.430301], [1.31796, 0.0, 0.0, 1.31796, 1.38572e-16, 0.365649], [0.567252, -1.65436e-24, 0.000110686, 0.567142, 0.0, 0.337839], [0.179269, 0.0, 1.10758e-16, 0.179269, 0.0, 0.329061], [0.0370967, 0.0, 0.0, 0.0370967, 0.0, 0.327259], [0.0, 0.0, 0.0, -6.93937e-18, 0.0, 0.327277], [0.0, 0.0, 0.0, 0.0, 0.0, 0.327296]  …  [2.79182e-18, 0.0, 0.0, 0.0, 0.0, 0.336244], [0.0, 0.0, -4.33681e-19, 0.0, 4.33681e-19, 0.382484], [0.0, 0.0, 0.0, 0.0, 0.0, 0.471898], [0.0, 0.0, 0.0, 0.0, 0.0, 0.331561], [0.0, 0.0, 0.0, 0.0, 0.0, 0.327461], [4.71162e-21, 0.0, 0.0, 0.0, 0.0, 0.330056], [0.0, 0.0, -4.19438e-5, 4.19438e-5, 0.0, 0.327496], [0.0, 2.80986e-14, -3.01323e-5, 3.01323e-5, 0.0, 0.327513], [0.0, 2.16814e-14, -3.37295e-14, 1.20565e-14, 0.0, 0.327531], [0.00519744, 4.99671e-15, 0.0, 0.00519744, 1.35614e-13, 0.327295]], Array{Float64,1}[[0.00263599, 0.0, 2.77556e-17], [0.00578098, 0.0, -4.16334e-17], [0.00866559, -3.46945e-18, -2.62377e-17], [0.0104829, 0.0, -1.33248e-16], [0.00942336, 0.0, -1.73472e-17], [0.00506616, 0.0, -3.46945e-17], [0.00188438, -2.83248e-18, -3.46945e-18], [0.000439951, -1.74175e-18, -7.28584e-17], [0.0, -6.76767e-14, 1.04083e-17], [0.0, 0.0, 1.38778e-17]  …  [4.06576e-20, 0.0, -5.20417e-18], [0.0, 0.0, -2.08167e-17], [0.0, 0.0, 8.67362e-18], [0.0, 0.0, -6.93889e-18], [0.0, 0.0, -1.30104e-18], [4.30134e-23, 0.0, 0.0], [0.0, 0.0, 4.33681e-19], [0.0, 0.0, 0.0], [0.0, 0.0, 0.0], [0.0, 0.0, 0.0]], [0.0, 0.005, 0.01, 0.015, 0.02, 0.025, 0.03, 0.035, 0.04, 0.045  …  0.075, 0.08, 0.085, 0.09, 0.095, 0.1, 0.105, 0.11, 0.115, 0.12], [0.0 0.00400723 … 0.043409 0.0450455; 0.0 0.000690561 … 0.00257909 0.0; … ; 0.0 0.138413 … -0.464174 -0.512845; -0.0751417 -0.0751417 … -0.0751417 -0.0751417], [0.0, 0.0, 0.0, 0.988731, 0.0, -0.0751417, 0.0, 0.0, 0.0, 0.005  …  0.00519744, 1.35614e-13, 0.327295, 0.00519744, 0.0450455, 0.0, -0.009017, 0.331933, -0.512845, -0.0751417])"
      ]
     },
     "execution_count": 79,
     "metadata": {},
     "output_type": "execute_result"
    }
   ],
   "source": [
    "# Indirect\n",
    "con_tol = 1e-4\n",
    "obj_tol = 1e-4\n",
    "max_iter = 10000\n",
    "\n",
    "sim_data = get_trajopt_data_indirect(mechanism,env,Δt,N,relax_comp=true)\n",
    "add_prob_constraints!(sim_data)\n",
    "add_prob_obj!(sim_data)\n",
    "x_min, x_max = get_prob_limits(sim_data)\n",
    "x0 = get_prob_init(sim_data)\n",
    "\n",
    "@time traj_indirect = Bilevel.trajopt(sim_data, x0=x0, x_min=x_min, x_max=x_max, verbose=1, opt_tol=obj_tol, major_feas=con_tol, minor_feas=con_tol, max_iter=max_iter)"
   ]
  },
  {
   "cell_type": "code",
   "execution_count": 80,
   "metadata": {},
   "outputs": [
    {
     "data": {
      "text/plain": [
       "BenchmarkTools.Trial: \n",
       "  memory estimate:  2.07 GiB\n",
       "  allocs estimate:  17048704\n",
       "  --------------\n",
       "  minimum time:     2.413 s (0.00% GC)\n",
       "  median time:      2.554 s (0.00% GC)\n",
       "  mean time:        2.554 s (0.00% GC)\n",
       "  maximum time:     2.696 s (0.00% GC)\n",
       "  --------------\n",
       "  samples:          2\n",
       "  evals/sample:     1"
      ]
     },
     "execution_count": 80,
     "metadata": {},
     "output_type": "execute_result"
    }
   ],
   "source": [
    "function run_trajopt()\n",
    "    Bilevel.solve_rosenbrock() # clearing SNOPT\n",
    "    Bilevel.trajopt(sim_data, x0=x0, x_min=x_min, x_max=x_max, verbose=0, opt_tol=obj_tol, major_feas=con_tol, minor_feas=con_tol, max_iter=max_iter)\n",
    "end\n",
    "\n",
    "@benchmark run_trajopt()"
   ]
  },
  {
   "cell_type": "code",
   "execution_count": 81,
   "metadata": {},
   "outputs": [
    {
     "name": "stdout",
     "output_type": "stream",
     "text": [
      "Finished successfully: optimality conditions satisfied\n",
      "  1.747071 seconds (15.75 M allocations: 1.628 GiB)\n"
     ]
    },
    {
     "data": {
      "text/plain": [
       "(Array{Float64,1}[[0.0, 0.0, 0.0], [0.00524411, 4.25637e-6, -0.000632769], [0.0102543, -2.97901e-6, -0.00126554], [0.0150089, 0.0, -0.00189831], [0.0195371, -1.61191e-5, -0.00253108], [0.0237877, 0.0, -0.00316384], [0.0278089, 0.0, -0.00379661], [0.0315822, 2.53839e-6, -0.00442938], [0.0350997, 1.52868e-5, -0.00506215], [0.0383714, 0.0, -0.00569492]  …  [0.0529167, -3.44028e-6, -0.00949153], [0.0544777, -1.47695e-13, -0.0101243], [0.0557974, -6.32601e-7, -0.0107571], [0.0568705, 0.0, -0.0113898], [0.0576987, -9.17532e-14, -0.0120226], [0.0582819, -2.53898e-7, -0.0126554], [0.0586191, -4.40716e-18, -0.0132881], [0.0587109, 2.36745e-7, -0.0139209], [0.0587108, 2.41116e-14, -0.0145537], [0.0587115, -4.1359e-25, -0.0151865]], Array{Float64,1}[[1.09876, 0.0, -0.126554], [1.04882, 0.00151493, -0.126554], [1.00204, -0.000178956, -0.126554], [0.950907, 0.00240092, -0.126554], [0.905656, -0.00093155, -0.126554], [0.850097, 0.00591343, -0.126554], [0.804247, 0.00305343, -0.126554], [0.754643, 0.00385031, -0.126554], [0.703477, 0.00611085, -0.126554], [0.654317, 0.00628342, -0.126554]  …  [0.362655, 0.00275417, -0.126554], [0.312183, 0.00384884, -0.126554], [0.263928, 0.00271267, -0.126554], [0.214592, 0.00257081, -0.126554], [0.165642, 0.00199154, -0.126554], [0.116617, 0.00142513, -0.126554], [0.0674317, 0.00094688, -0.126554], [0.018361, 0.000302973, -0.126554], [-1.89014e-5, -4.76342e-5, -0.126554], [0.000135687, 2.05991e-6, -0.126554]], Array{Float64,1}[[0.0, 0.0, 0.0], [0.0, 0.0, 0.0], [0.0, 0.0, 0.0], [0.0, 0.0, 0.0], [0.0, 0.0, 0.0], [0.0, 0.0, 0.0], [0.0, 0.0, 0.0], [0.0, 0.0, 0.0], [0.0, 0.0, 0.0], [0.0, 0.0, 0.0]  …  [0.0, 0.0, 0.0], [0.0, 0.0, 0.0], [0.0, 0.0, 0.0], [0.0, 0.0, 0.0], [0.0, 0.0, 0.0], [0.0, 0.0, 0.0], [0.0, 0.0, 0.0], [0.0, 0.0, 0.0], [0.0, 0.0, 0.0], [0.0, 0.0, 0.0]], [0.005, 0.005, 0.005, 0.005, 0.005, 0.005, 0.005, 0.005, 0.005, 0.005  …  0.005, 0.005, 0.005, 0.005, 0.005, 0.005, 0.005, 0.005, 0.005, 0.005], Array{Float64,1}[[1.018], [0.953746], [1.04231], [0.922712], [1.13217], [0.934866], [1.01099], [1.04229], [1.00078], [0.971966]  …  [0.981856], [1.02871], [0.984016], [1.0058], [0.998052], [0.999597], [1.00271], [1.00056], [0.998306], [1.00096]], Array{Float64,1}[], [0.0, 0.005, 0.01, 0.015, 0.02, 0.025, 0.03, 0.035, 0.04, 0.045  …  0.075, 0.08, 0.085, 0.09, 0.095, 0.1, 0.105, 0.11, 0.115, 0.12], [0.0 0.00524411 … 0.0587108 0.0587115; 0.0 4.25637e-6 … 2.41116e-14 -4.1359e-25; … ; 0.0 0.00151493 … -4.76342e-5 2.05991e-6; -0.126554 -0.126554 … -0.126554 -0.126554], [0.0, 0.0, 0.0, 1.09876, 0.0, -0.126554, 0.0, 0.0, 0.0, 0.005  …  0.0, 0.0, 0.005, 1.00096, 0.0587115, -4.1359e-25, -0.0151865, 0.000135687, 2.05991e-6, -0.126554])"
      ]
     },
     "execution_count": 81,
     "metadata": {},
     "output_type": "execute_result"
    }
   ],
   "source": [
    "# Semidirect\n",
    "con_tol = 1e-4\n",
    "obj_tol = 1e-4\n",
    "max_iter = 10000\n",
    "\n",
    "sim_data = get_trajopt_data_semidirect(mechanism,env,Δt,N,relax_comp=false)\n",
    "add_prob_constraints!(sim_data)\n",
    "add_prob_obj!(sim_data)\n",
    "x_min, x_max = get_prob_limits(sim_data)\n",
    "x0 = get_prob_init(sim_data)\n",
    "@time traj_semidirect = Bilevel.trajopt(sim_data, x0=x0, x_min=x_min, x_max=x_max, verbose=1, opt_tol=obj_tol, major_feas=con_tol, minor_feas=con_tol, max_iter=max_iter)"
   ]
  },
  {
   "cell_type": "code",
   "execution_count": 82,
   "metadata": {},
   "outputs": [
    {
     "data": {
      "text/plain": [
       "BenchmarkTools.Trial: \n",
       "  memory estimate:  685.19 MiB\n",
       "  allocs estimate:  6192156\n",
       "  --------------\n",
       "  minimum time:     688.532 ms (0.00% GC)\n",
       "  median time:      1.036 s (0.00% GC)\n",
       "  mean time:        1.493 s (0.00% GC)\n",
       "  maximum time:     2.546 s (0.00% GC)\n",
       "  --------------\n",
       "  samples:          5\n",
       "  evals/sample:     1"
      ]
     },
     "execution_count": 82,
     "metadata": {},
     "output_type": "execute_result"
    }
   ],
   "source": [
    "function run_trajopt()\n",
    "    Bilevel.solve_rosenbrock() # clearing SNOPT\n",
    "    Bilevel.trajopt(sim_data, x0=x0, x_min=x_min, x_max=x_max, verbose=0, opt_tol=obj_tol, major_feas=con_tol, minor_feas=con_tol, max_iter=max_iter)\n",
    "end\n",
    "\n",
    "@benchmark run_trajopt()"
   ]
  },
  {
   "cell_type": "code",
   "execution_count": null,
   "metadata": {},
   "outputs": [],
   "source": [
    "# Direct\n",
    "con_tol = 1e-4\n",
    "obj_tol = 1e-4\n",
    "max_iter = 10000\n",
    "\n",
    "sim_data = get_trajopt_data_direct(mechanism,env,Δt,N,relax_comp=false)\n",
    "add_prob_constraints!(sim_data)\n",
    "add_prob_obj!(sim_data)\n",
    "x_min, x_max = get_prob_limits(sim_data)\n",
    "x0 = get_prob_init(sim_data)\n",
    "@time traj_direct = Bilevel.trajopt(sim_data, x0=x0, x_min=x_min, x_max=x_max, verbose=1, opt_tol=obj_tol, major_feas=con_tol, minor_feas=con_tol, max_iter=max_iter)"
   ]
  },
  {
   "cell_type": "code",
   "execution_count": null,
   "metadata": {},
   "outputs": [],
   "source": [
    "function run_trajopt()\n",
    "    Bilevel.solve_rosenbrock() # clearing SNOPT\n",
    "    Bilevel.trajopt(sim_data, x0=x0, x_min=x_min, x_max=x_max, verbose=0, opt_tol=obj_tol, major_feas=con_tol, minor_feas=con_tol, max_iter=max_iter)\n",
    "end\n",
    "\n",
    "@benchmark run_trajopt()"
   ]
  },
  {
   "cell_type": "code",
   "execution_count": 85,
   "metadata": {},
   "outputs": [
    {
     "data": {
      "image/svg+xml": [
       "<?xml version=\"1.0\" encoding=\"utf-8\"?>\n",
       "<svg xmlns=\"http://www.w3.org/2000/svg\" xmlns:xlink=\"http://www.w3.org/1999/xlink\" width=\"600\" height=\"400\" viewBox=\"0 0 2400 1600\">\n",
       "<defs>\n",
       "  <clipPath id=\"clip6000\">\n",
       "    <rect x=\"0\" y=\"0\" width=\"2400\" height=\"1600\"/>\n",
       "  </clipPath>\n",
       "</defs>\n",
       "<polygon clip-path=\"url(#clip6000)\" points=\"\n",
       "0,1600 2400,1600 2400,0 0,0 \n",
       "  \" fill=\"#ffffff\" fill-rule=\"evenodd\" fill-opacity=\"1\"/>\n",
       "<defs>\n",
       "  <clipPath id=\"clip6001\">\n",
       "    <rect x=\"480\" y=\"0\" width=\"1681\" height=\"1600\"/>\n",
       "  </clipPath>\n",
       "</defs>\n",
       "<polygon clip-path=\"url(#clip6000)\" points=\"\n",
       "180.66,1487.47 2352.76,1487.47 2352.76,47.2441 180.66,47.2441 \n",
       "  \" fill=\"#ffffff\" fill-rule=\"evenodd\" fill-opacity=\"1\"/>\n",
       "<defs>\n",
       "  <clipPath id=\"clip6002\">\n",
       "    <rect x=\"180\" y=\"47\" width=\"2173\" height=\"1441\"/>\n",
       "  </clipPath>\n",
       "</defs>\n",
       "<polyline clip-path=\"url(#clip6002)\" style=\"stroke:#000000; stroke-width:2; stroke-opacity:0.1; fill:none\" points=\"\n",
       "  242.135,1487.47 242.135,47.2441 \n",
       "  \"/>\n",
       "<polyline clip-path=\"url(#clip6002)\" style=\"stroke:#000000; stroke-width:2; stroke-opacity:0.1; fill:none\" points=\"\n",
       "  669.04,1487.47 669.04,47.2441 \n",
       "  \"/>\n",
       "<polyline clip-path=\"url(#clip6002)\" style=\"stroke:#000000; stroke-width:2; stroke-opacity:0.1; fill:none\" points=\"\n",
       "  1095.95,1487.47 1095.95,47.2441 \n",
       "  \"/>\n",
       "<polyline clip-path=\"url(#clip6002)\" style=\"stroke:#000000; stroke-width:2; stroke-opacity:0.1; fill:none\" points=\"\n",
       "  1522.85,1487.47 1522.85,47.2441 \n",
       "  \"/>\n",
       "<polyline clip-path=\"url(#clip6002)\" style=\"stroke:#000000; stroke-width:2; stroke-opacity:0.1; fill:none\" points=\"\n",
       "  1949.76,1487.47 1949.76,47.2441 \n",
       "  \"/>\n",
       "<polyline clip-path=\"url(#clip6002)\" style=\"stroke:#000000; stroke-width:2; stroke-opacity:0.1; fill:none\" points=\"\n",
       "  180.66,1446.71 2352.76,1446.71 \n",
       "  \"/>\n",
       "<polyline clip-path=\"url(#clip6002)\" style=\"stroke:#000000; stroke-width:2; stroke-opacity:0.1; fill:none\" points=\"\n",
       "  180.66,1215.29 2352.76,1215.29 \n",
       "  \"/>\n",
       "<polyline clip-path=\"url(#clip6002)\" style=\"stroke:#000000; stroke-width:2; stroke-opacity:0.1; fill:none\" points=\"\n",
       "  180.66,983.871 2352.76,983.871 \n",
       "  \"/>\n",
       "<polyline clip-path=\"url(#clip6002)\" style=\"stroke:#000000; stroke-width:2; stroke-opacity:0.1; fill:none\" points=\"\n",
       "  180.66,752.45 2352.76,752.45 \n",
       "  \"/>\n",
       "<polyline clip-path=\"url(#clip6002)\" style=\"stroke:#000000; stroke-width:2; stroke-opacity:0.1; fill:none\" points=\"\n",
       "  180.66,521.028 2352.76,521.028 \n",
       "  \"/>\n",
       "<polyline clip-path=\"url(#clip6002)\" style=\"stroke:#000000; stroke-width:2; stroke-opacity:0.1; fill:none\" points=\"\n",
       "  180.66,289.607 2352.76,289.607 \n",
       "  \"/>\n",
       "<polyline clip-path=\"url(#clip6002)\" style=\"stroke:#000000; stroke-width:2; stroke-opacity:0.1; fill:none\" points=\"\n",
       "  180.66,58.1857 2352.76,58.1857 \n",
       "  \"/>\n",
       "<polyline clip-path=\"url(#clip6000)\" style=\"stroke:#000000; stroke-width:4; stroke-opacity:1; fill:none\" points=\"\n",
       "  180.66,1487.47 2352.76,1487.47 \n",
       "  \"/>\n",
       "<polyline clip-path=\"url(#clip6000)\" style=\"stroke:#000000; stroke-width:4; stroke-opacity:1; fill:none\" points=\"\n",
       "  180.66,1487.47 180.66,47.2441 \n",
       "  \"/>\n",
       "<polyline clip-path=\"url(#clip6000)\" style=\"stroke:#000000; stroke-width:4; stroke-opacity:1; fill:none\" points=\"\n",
       "  242.135,1487.47 242.135,1465.87 \n",
       "  \"/>\n",
       "<polyline clip-path=\"url(#clip6000)\" style=\"stroke:#000000; stroke-width:4; stroke-opacity:1; fill:none\" points=\"\n",
       "  669.04,1487.47 669.04,1465.87 \n",
       "  \"/>\n",
       "<polyline clip-path=\"url(#clip6000)\" style=\"stroke:#000000; stroke-width:4; stroke-opacity:1; fill:none\" points=\"\n",
       "  1095.95,1487.47 1095.95,1465.87 \n",
       "  \"/>\n",
       "<polyline clip-path=\"url(#clip6000)\" style=\"stroke:#000000; stroke-width:4; stroke-opacity:1; fill:none\" points=\"\n",
       "  1522.85,1487.47 1522.85,1465.87 \n",
       "  \"/>\n",
       "<polyline clip-path=\"url(#clip6000)\" style=\"stroke:#000000; stroke-width:4; stroke-opacity:1; fill:none\" points=\"\n",
       "  1949.76,1487.47 1949.76,1465.87 \n",
       "  \"/>\n",
       "<polyline clip-path=\"url(#clip6000)\" style=\"stroke:#000000; stroke-width:4; stroke-opacity:1; fill:none\" points=\"\n",
       "  180.66,1446.71 213.242,1446.71 \n",
       "  \"/>\n",
       "<polyline clip-path=\"url(#clip6000)\" style=\"stroke:#000000; stroke-width:4; stroke-opacity:1; fill:none\" points=\"\n",
       "  180.66,1215.29 213.242,1215.29 \n",
       "  \"/>\n",
       "<polyline clip-path=\"url(#clip6000)\" style=\"stroke:#000000; stroke-width:4; stroke-opacity:1; fill:none\" points=\"\n",
       "  180.66,983.871 213.242,983.871 \n",
       "  \"/>\n",
       "<polyline clip-path=\"url(#clip6000)\" style=\"stroke:#000000; stroke-width:4; stroke-opacity:1; fill:none\" points=\"\n",
       "  180.66,752.45 213.242,752.45 \n",
       "  \"/>\n",
       "<polyline clip-path=\"url(#clip6000)\" style=\"stroke:#000000; stroke-width:4; stroke-opacity:1; fill:none\" points=\"\n",
       "  180.66,521.028 213.242,521.028 \n",
       "  \"/>\n",
       "<polyline clip-path=\"url(#clip6000)\" style=\"stroke:#000000; stroke-width:4; stroke-opacity:1; fill:none\" points=\"\n",
       "  180.66,289.607 213.242,289.607 \n",
       "  \"/>\n",
       "<polyline clip-path=\"url(#clip6000)\" style=\"stroke:#000000; stroke-width:4; stroke-opacity:1; fill:none\" points=\"\n",
       "  180.66,58.1857 213.242,58.1857 \n",
       "  \"/>\n",
       "<g clip-path=\"url(#clip6000)\">\n",
       "<text style=\"fill:#000000; fill-opacity:1; font-family:Arial,Helvetica Neue,Helvetica,sans-serif; font-size:48px; text-anchor:middle;\" transform=\"rotate(0, 242.135, 1541.47)\" x=\"242.135\" y=\"1541.47\">0.000</text>\n",
       "</g>\n",
       "<g clip-path=\"url(#clip6000)\">\n",
       "<text style=\"fill:#000000; fill-opacity:1; font-family:Arial,Helvetica Neue,Helvetica,sans-serif; font-size:48px; text-anchor:middle;\" transform=\"rotate(0, 669.04, 1541.47)\" x=\"669.04\" y=\"1541.47\">0.025</text>\n",
       "</g>\n",
       "<g clip-path=\"url(#clip6000)\">\n",
       "<text style=\"fill:#000000; fill-opacity:1; font-family:Arial,Helvetica Neue,Helvetica,sans-serif; font-size:48px; text-anchor:middle;\" transform=\"rotate(0, 1095.95, 1541.47)\" x=\"1095.95\" y=\"1541.47\">0.050</text>\n",
       "</g>\n",
       "<g clip-path=\"url(#clip6000)\">\n",
       "<text style=\"fill:#000000; fill-opacity:1; font-family:Arial,Helvetica Neue,Helvetica,sans-serif; font-size:48px; text-anchor:middle;\" transform=\"rotate(0, 1522.85, 1541.47)\" x=\"1522.85\" y=\"1541.47\">0.075</text>\n",
       "</g>\n",
       "<g clip-path=\"url(#clip6000)\">\n",
       "<text style=\"fill:#000000; fill-opacity:1; font-family:Arial,Helvetica Neue,Helvetica,sans-serif; font-size:48px; text-anchor:middle;\" transform=\"rotate(0, 1949.76, 1541.47)\" x=\"1949.76\" y=\"1541.47\">0.100</text>\n",
       "</g>\n",
       "<g clip-path=\"url(#clip6000)\">\n",
       "<text style=\"fill:#000000; fill-opacity:1; font-family:Arial,Helvetica Neue,Helvetica,sans-serif; font-size:48px; text-anchor:end;\" transform=\"rotate(0, 156.66, 1464.21)\" x=\"156.66\" y=\"1464.21\">0.00</text>\n",
       "</g>\n",
       "<g clip-path=\"url(#clip6000)\">\n",
       "<text style=\"fill:#000000; fill-opacity:1; font-family:Arial,Helvetica Neue,Helvetica,sans-serif; font-size:48px; text-anchor:end;\" transform=\"rotate(0, 156.66, 1232.79)\" x=\"156.66\" y=\"1232.79\">0.01</text>\n",
       "</g>\n",
       "<g clip-path=\"url(#clip6000)\">\n",
       "<text style=\"fill:#000000; fill-opacity:1; font-family:Arial,Helvetica Neue,Helvetica,sans-serif; font-size:48px; text-anchor:end;\" transform=\"rotate(0, 156.66, 1001.37)\" x=\"156.66\" y=\"1001.37\">0.02</text>\n",
       "</g>\n",
       "<g clip-path=\"url(#clip6000)\">\n",
       "<text style=\"fill:#000000; fill-opacity:1; font-family:Arial,Helvetica Neue,Helvetica,sans-serif; font-size:48px; text-anchor:end;\" transform=\"rotate(0, 156.66, 769.95)\" x=\"156.66\" y=\"769.95\">0.03</text>\n",
       "</g>\n",
       "<g clip-path=\"url(#clip6000)\">\n",
       "<text style=\"fill:#000000; fill-opacity:1; font-family:Arial,Helvetica Neue,Helvetica,sans-serif; font-size:48px; text-anchor:end;\" transform=\"rotate(0, 156.66, 538.528)\" x=\"156.66\" y=\"538.528\">0.04</text>\n",
       "</g>\n",
       "<g clip-path=\"url(#clip6000)\">\n",
       "<text style=\"fill:#000000; fill-opacity:1; font-family:Arial,Helvetica Neue,Helvetica,sans-serif; font-size:48px; text-anchor:end;\" transform=\"rotate(0, 156.66, 307.107)\" x=\"156.66\" y=\"307.107\">0.05</text>\n",
       "</g>\n",
       "<g clip-path=\"url(#clip6000)\">\n",
       "<text style=\"fill:#000000; fill-opacity:1; font-family:Arial,Helvetica Neue,Helvetica,sans-serif; font-size:48px; text-anchor:end;\" transform=\"rotate(0, 156.66, 75.6857)\" x=\"156.66\" y=\"75.6857\">0.06</text>\n",
       "</g>\n",
       "<polyline clip-path=\"url(#clip6002)\" style=\"stroke:#e34a33; stroke-width:0; stroke-opacity:1; fill:none\" points=\"\n",
       "  242.135,1446.71 327.516,1353.98 412.897,1278.63 498.278,1217.54 583.659,1167.75 669.04,1125.44 754.421,1086.34 839.803,1048.27 925.184,1010.4 1010.56,972.532 \n",
       "  1095.95,934.661 1181.33,896.787 1266.71,858.911 1352.09,821.033 1437.47,783.153 1522.85,745.271 1608.23,707.386 1693.61,669.5 1778.99,631.611 1864.38,593.72 \n",
       "  1949.76,555.828 2035.14,517.933 2120.52,480.036 2205.9,442.137 2291.28,404.266 \n",
       "  \"/>\n",
       "<circle clip-path=\"url(#clip6002)\" style=\"fill:#000000; stroke:none; fill-opacity:1\" cx=\"242.135\" cy=\"1446.71\" r=\"25\"/>\n",
       "<circle clip-path=\"url(#clip6002)\" style=\"fill:#e34a33; stroke:none; fill-opacity:1\" cx=\"242.135\" cy=\"1446.71\" r=\"21\"/>\n",
       "<circle clip-path=\"url(#clip6002)\" style=\"fill:#000000; stroke:none; fill-opacity:1\" cx=\"327.516\" cy=\"1353.98\" r=\"25\"/>\n",
       "<circle clip-path=\"url(#clip6002)\" style=\"fill:#e34a33; stroke:none; fill-opacity:1\" cx=\"327.516\" cy=\"1353.98\" r=\"21\"/>\n",
       "<circle clip-path=\"url(#clip6002)\" style=\"fill:#000000; stroke:none; fill-opacity:1\" cx=\"412.897\" cy=\"1278.63\" r=\"25\"/>\n",
       "<circle clip-path=\"url(#clip6002)\" style=\"fill:#e34a33; stroke:none; fill-opacity:1\" cx=\"412.897\" cy=\"1278.63\" r=\"21\"/>\n",
       "<circle clip-path=\"url(#clip6002)\" style=\"fill:#000000; stroke:none; fill-opacity:1\" cx=\"498.278\" cy=\"1217.54\" r=\"25\"/>\n",
       "<circle clip-path=\"url(#clip6002)\" style=\"fill:#e34a33; stroke:none; fill-opacity:1\" cx=\"498.278\" cy=\"1217.54\" r=\"21\"/>\n",
       "<circle clip-path=\"url(#clip6002)\" style=\"fill:#000000; stroke:none; fill-opacity:1\" cx=\"583.659\" cy=\"1167.75\" r=\"25\"/>\n",
       "<circle clip-path=\"url(#clip6002)\" style=\"fill:#e34a33; stroke:none; fill-opacity:1\" cx=\"583.659\" cy=\"1167.75\" r=\"21\"/>\n",
       "<circle clip-path=\"url(#clip6002)\" style=\"fill:#000000; stroke:none; fill-opacity:1\" cx=\"669.04\" cy=\"1125.44\" r=\"25\"/>\n",
       "<circle clip-path=\"url(#clip6002)\" style=\"fill:#e34a33; stroke:none; fill-opacity:1\" cx=\"669.04\" cy=\"1125.44\" r=\"21\"/>\n",
       "<circle clip-path=\"url(#clip6002)\" style=\"fill:#000000; stroke:none; fill-opacity:1\" cx=\"754.421\" cy=\"1086.34\" r=\"25\"/>\n",
       "<circle clip-path=\"url(#clip6002)\" style=\"fill:#e34a33; stroke:none; fill-opacity:1\" cx=\"754.421\" cy=\"1086.34\" r=\"21\"/>\n",
       "<circle clip-path=\"url(#clip6002)\" style=\"fill:#000000; stroke:none; fill-opacity:1\" cx=\"839.803\" cy=\"1048.27\" r=\"25\"/>\n",
       "<circle clip-path=\"url(#clip6002)\" style=\"fill:#e34a33; stroke:none; fill-opacity:1\" cx=\"839.803\" cy=\"1048.27\" r=\"21\"/>\n",
       "<circle clip-path=\"url(#clip6002)\" style=\"fill:#000000; stroke:none; fill-opacity:1\" cx=\"925.184\" cy=\"1010.4\" r=\"25\"/>\n",
       "<circle clip-path=\"url(#clip6002)\" style=\"fill:#e34a33; stroke:none; fill-opacity:1\" cx=\"925.184\" cy=\"1010.4\" r=\"21\"/>\n",
       "<circle clip-path=\"url(#clip6002)\" style=\"fill:#000000; stroke:none; fill-opacity:1\" cx=\"1010.56\" cy=\"972.532\" r=\"25\"/>\n",
       "<circle clip-path=\"url(#clip6002)\" style=\"fill:#e34a33; stroke:none; fill-opacity:1\" cx=\"1010.56\" cy=\"972.532\" r=\"21\"/>\n",
       "<circle clip-path=\"url(#clip6002)\" style=\"fill:#000000; stroke:none; fill-opacity:1\" cx=\"1095.95\" cy=\"934.661\" r=\"25\"/>\n",
       "<circle clip-path=\"url(#clip6002)\" style=\"fill:#e34a33; stroke:none; fill-opacity:1\" cx=\"1095.95\" cy=\"934.661\" r=\"21\"/>\n",
       "<circle clip-path=\"url(#clip6002)\" style=\"fill:#000000; stroke:none; fill-opacity:1\" cx=\"1181.33\" cy=\"896.787\" r=\"25\"/>\n",
       "<circle clip-path=\"url(#clip6002)\" style=\"fill:#e34a33; stroke:none; fill-opacity:1\" cx=\"1181.33\" cy=\"896.787\" r=\"21\"/>\n",
       "<circle clip-path=\"url(#clip6002)\" style=\"fill:#000000; stroke:none; fill-opacity:1\" cx=\"1266.71\" cy=\"858.911\" r=\"25\"/>\n",
       "<circle clip-path=\"url(#clip6002)\" style=\"fill:#e34a33; stroke:none; fill-opacity:1\" cx=\"1266.71\" cy=\"858.911\" r=\"21\"/>\n",
       "<circle clip-path=\"url(#clip6002)\" style=\"fill:#000000; stroke:none; fill-opacity:1\" cx=\"1352.09\" cy=\"821.033\" r=\"25\"/>\n",
       "<circle clip-path=\"url(#clip6002)\" style=\"fill:#e34a33; stroke:none; fill-opacity:1\" cx=\"1352.09\" cy=\"821.033\" r=\"21\"/>\n",
       "<circle clip-path=\"url(#clip6002)\" style=\"fill:#000000; stroke:none; fill-opacity:1\" cx=\"1437.47\" cy=\"783.153\" r=\"25\"/>\n",
       "<circle clip-path=\"url(#clip6002)\" style=\"fill:#e34a33; stroke:none; fill-opacity:1\" cx=\"1437.47\" cy=\"783.153\" r=\"21\"/>\n",
       "<circle clip-path=\"url(#clip6002)\" style=\"fill:#000000; stroke:none; fill-opacity:1\" cx=\"1522.85\" cy=\"745.271\" r=\"25\"/>\n",
       "<circle clip-path=\"url(#clip6002)\" style=\"fill:#e34a33; stroke:none; fill-opacity:1\" cx=\"1522.85\" cy=\"745.271\" r=\"21\"/>\n",
       "<circle clip-path=\"url(#clip6002)\" style=\"fill:#000000; stroke:none; fill-opacity:1\" cx=\"1608.23\" cy=\"707.386\" r=\"25\"/>\n",
       "<circle clip-path=\"url(#clip6002)\" style=\"fill:#e34a33; stroke:none; fill-opacity:1\" cx=\"1608.23\" cy=\"707.386\" r=\"21\"/>\n",
       "<circle clip-path=\"url(#clip6002)\" style=\"fill:#000000; stroke:none; fill-opacity:1\" cx=\"1693.61\" cy=\"669.5\" r=\"25\"/>\n",
       "<circle clip-path=\"url(#clip6002)\" style=\"fill:#e34a33; stroke:none; fill-opacity:1\" cx=\"1693.61\" cy=\"669.5\" r=\"21\"/>\n",
       "<circle clip-path=\"url(#clip6002)\" style=\"fill:#000000; stroke:none; fill-opacity:1\" cx=\"1778.99\" cy=\"631.611\" r=\"25\"/>\n",
       "<circle clip-path=\"url(#clip6002)\" style=\"fill:#e34a33; stroke:none; fill-opacity:1\" cx=\"1778.99\" cy=\"631.611\" r=\"21\"/>\n",
       "<circle clip-path=\"url(#clip6002)\" style=\"fill:#000000; stroke:none; fill-opacity:1\" cx=\"1864.38\" cy=\"593.72\" r=\"25\"/>\n",
       "<circle clip-path=\"url(#clip6002)\" style=\"fill:#e34a33; stroke:none; fill-opacity:1\" cx=\"1864.38\" cy=\"593.72\" r=\"21\"/>\n",
       "<circle clip-path=\"url(#clip6002)\" style=\"fill:#000000; stroke:none; fill-opacity:1\" cx=\"1949.76\" cy=\"555.828\" r=\"25\"/>\n",
       "<circle clip-path=\"url(#clip6002)\" style=\"fill:#e34a33; stroke:none; fill-opacity:1\" cx=\"1949.76\" cy=\"555.828\" r=\"21\"/>\n",
       "<circle clip-path=\"url(#clip6002)\" style=\"fill:#000000; stroke:none; fill-opacity:1\" cx=\"2035.14\" cy=\"517.933\" r=\"25\"/>\n",
       "<circle clip-path=\"url(#clip6002)\" style=\"fill:#e34a33; stroke:none; fill-opacity:1\" cx=\"2035.14\" cy=\"517.933\" r=\"21\"/>\n",
       "<circle clip-path=\"url(#clip6002)\" style=\"fill:#000000; stroke:none; fill-opacity:1\" cx=\"2120.52\" cy=\"480.036\" r=\"25\"/>\n",
       "<circle clip-path=\"url(#clip6002)\" style=\"fill:#e34a33; stroke:none; fill-opacity:1\" cx=\"2120.52\" cy=\"480.036\" r=\"21\"/>\n",
       "<circle clip-path=\"url(#clip6002)\" style=\"fill:#000000; stroke:none; fill-opacity:1\" cx=\"2205.9\" cy=\"442.137\" r=\"25\"/>\n",
       "<circle clip-path=\"url(#clip6002)\" style=\"fill:#e34a33; stroke:none; fill-opacity:1\" cx=\"2205.9\" cy=\"442.137\" r=\"21\"/>\n",
       "<circle clip-path=\"url(#clip6002)\" style=\"fill:#000000; stroke:none; fill-opacity:1\" cx=\"2291.28\" cy=\"404.266\" r=\"25\"/>\n",
       "<circle clip-path=\"url(#clip6002)\" style=\"fill:#e34a33; stroke:none; fill-opacity:1\" cx=\"2291.28\" cy=\"404.266\" r=\"21\"/>\n",
       "<polyline clip-path=\"url(#clip6002)\" style=\"stroke:#fee8c8; stroke-width:4; stroke-opacity:1; fill:none\" points=\"\n",
       "  242.135,1446.71 327.516,1325.35 412.897,1209.41 498.278,1099.38 583.659,994.583 669.04,896.216 754.421,803.156 839.803,715.834 925.184,634.432 1010.56,558.717 \n",
       "  1095.95,488.536 1181.33,424.035 1266.71,364.879 1352.09,311.609 1437.47,264.073 1522.85,222.109 1608.23,185.983 1693.61,155.442 1778.99,130.61 1864.38,111.442 \n",
       "  1949.76,97.947 2035.14,90.1436 2120.52,88.0188 2205.9,88.021 2291.28,88.0053 \n",
       "  \"/>\n",
       "<circle clip-path=\"url(#clip6002)\" style=\"fill:#000000; stroke:none; fill-opacity:1\" cx=\"242.135\" cy=\"1446.71\" r=\"18\"/>\n",
       "<circle clip-path=\"url(#clip6002)\" style=\"fill:#fee8c8; stroke:none; fill-opacity:1\" cx=\"242.135\" cy=\"1446.71\" r=\"14\"/>\n",
       "<circle clip-path=\"url(#clip6002)\" style=\"fill:#000000; stroke:none; fill-opacity:1\" cx=\"327.516\" cy=\"1325.35\" r=\"18\"/>\n",
       "<circle clip-path=\"url(#clip6002)\" style=\"fill:#fee8c8; stroke:none; fill-opacity:1\" cx=\"327.516\" cy=\"1325.35\" r=\"14\"/>\n",
       "<circle clip-path=\"url(#clip6002)\" style=\"fill:#000000; stroke:none; fill-opacity:1\" cx=\"412.897\" cy=\"1209.41\" r=\"18\"/>\n",
       "<circle clip-path=\"url(#clip6002)\" style=\"fill:#fee8c8; stroke:none; fill-opacity:1\" cx=\"412.897\" cy=\"1209.41\" r=\"14\"/>\n",
       "<circle clip-path=\"url(#clip6002)\" style=\"fill:#000000; stroke:none; fill-opacity:1\" cx=\"498.278\" cy=\"1099.38\" r=\"18\"/>\n",
       "<circle clip-path=\"url(#clip6002)\" style=\"fill:#fee8c8; stroke:none; fill-opacity:1\" cx=\"498.278\" cy=\"1099.38\" r=\"14\"/>\n",
       "<circle clip-path=\"url(#clip6002)\" style=\"fill:#000000; stroke:none; fill-opacity:1\" cx=\"583.659\" cy=\"994.583\" r=\"18\"/>\n",
       "<circle clip-path=\"url(#clip6002)\" style=\"fill:#fee8c8; stroke:none; fill-opacity:1\" cx=\"583.659\" cy=\"994.583\" r=\"14\"/>\n",
       "<circle clip-path=\"url(#clip6002)\" style=\"fill:#000000; stroke:none; fill-opacity:1\" cx=\"669.04\" cy=\"896.216\" r=\"18\"/>\n",
       "<circle clip-path=\"url(#clip6002)\" style=\"fill:#fee8c8; stroke:none; fill-opacity:1\" cx=\"669.04\" cy=\"896.216\" r=\"14\"/>\n",
       "<circle clip-path=\"url(#clip6002)\" style=\"fill:#000000; stroke:none; fill-opacity:1\" cx=\"754.421\" cy=\"803.156\" r=\"18\"/>\n",
       "<circle clip-path=\"url(#clip6002)\" style=\"fill:#fee8c8; stroke:none; fill-opacity:1\" cx=\"754.421\" cy=\"803.156\" r=\"14\"/>\n",
       "<circle clip-path=\"url(#clip6002)\" style=\"fill:#000000; stroke:none; fill-opacity:1\" cx=\"839.803\" cy=\"715.834\" r=\"18\"/>\n",
       "<circle clip-path=\"url(#clip6002)\" style=\"fill:#fee8c8; stroke:none; fill-opacity:1\" cx=\"839.803\" cy=\"715.834\" r=\"14\"/>\n",
       "<circle clip-path=\"url(#clip6002)\" style=\"fill:#000000; stroke:none; fill-opacity:1\" cx=\"925.184\" cy=\"634.432\" r=\"18\"/>\n",
       "<circle clip-path=\"url(#clip6002)\" style=\"fill:#fee8c8; stroke:none; fill-opacity:1\" cx=\"925.184\" cy=\"634.432\" r=\"14\"/>\n",
       "<circle clip-path=\"url(#clip6002)\" style=\"fill:#000000; stroke:none; fill-opacity:1\" cx=\"1010.56\" cy=\"558.717\" r=\"18\"/>\n",
       "<circle clip-path=\"url(#clip6002)\" style=\"fill:#fee8c8; stroke:none; fill-opacity:1\" cx=\"1010.56\" cy=\"558.717\" r=\"14\"/>\n",
       "<circle clip-path=\"url(#clip6002)\" style=\"fill:#000000; stroke:none; fill-opacity:1\" cx=\"1095.95\" cy=\"488.536\" r=\"18\"/>\n",
       "<circle clip-path=\"url(#clip6002)\" style=\"fill:#fee8c8; stroke:none; fill-opacity:1\" cx=\"1095.95\" cy=\"488.536\" r=\"14\"/>\n",
       "<circle clip-path=\"url(#clip6002)\" style=\"fill:#000000; stroke:none; fill-opacity:1\" cx=\"1181.33\" cy=\"424.035\" r=\"18\"/>\n",
       "<circle clip-path=\"url(#clip6002)\" style=\"fill:#fee8c8; stroke:none; fill-opacity:1\" cx=\"1181.33\" cy=\"424.035\" r=\"14\"/>\n",
       "<circle clip-path=\"url(#clip6002)\" style=\"fill:#000000; stroke:none; fill-opacity:1\" cx=\"1266.71\" cy=\"364.879\" r=\"18\"/>\n",
       "<circle clip-path=\"url(#clip6002)\" style=\"fill:#fee8c8; stroke:none; fill-opacity:1\" cx=\"1266.71\" cy=\"364.879\" r=\"14\"/>\n",
       "<circle clip-path=\"url(#clip6002)\" style=\"fill:#000000; stroke:none; fill-opacity:1\" cx=\"1352.09\" cy=\"311.609\" r=\"18\"/>\n",
       "<circle clip-path=\"url(#clip6002)\" style=\"fill:#fee8c8; stroke:none; fill-opacity:1\" cx=\"1352.09\" cy=\"311.609\" r=\"14\"/>\n",
       "<circle clip-path=\"url(#clip6002)\" style=\"fill:#000000; stroke:none; fill-opacity:1\" cx=\"1437.47\" cy=\"264.073\" r=\"18\"/>\n",
       "<circle clip-path=\"url(#clip6002)\" style=\"fill:#fee8c8; stroke:none; fill-opacity:1\" cx=\"1437.47\" cy=\"264.073\" r=\"14\"/>\n",
       "<circle clip-path=\"url(#clip6002)\" style=\"fill:#000000; stroke:none; fill-opacity:1\" cx=\"1522.85\" cy=\"222.109\" r=\"18\"/>\n",
       "<circle clip-path=\"url(#clip6002)\" style=\"fill:#fee8c8; stroke:none; fill-opacity:1\" cx=\"1522.85\" cy=\"222.109\" r=\"14\"/>\n",
       "<circle clip-path=\"url(#clip6002)\" style=\"fill:#000000; stroke:none; fill-opacity:1\" cx=\"1608.23\" cy=\"185.983\" r=\"18\"/>\n",
       "<circle clip-path=\"url(#clip6002)\" style=\"fill:#fee8c8; stroke:none; fill-opacity:1\" cx=\"1608.23\" cy=\"185.983\" r=\"14\"/>\n",
       "<circle clip-path=\"url(#clip6002)\" style=\"fill:#000000; stroke:none; fill-opacity:1\" cx=\"1693.61\" cy=\"155.442\" r=\"18\"/>\n",
       "<circle clip-path=\"url(#clip6002)\" style=\"fill:#fee8c8; stroke:none; fill-opacity:1\" cx=\"1693.61\" cy=\"155.442\" r=\"14\"/>\n",
       "<circle clip-path=\"url(#clip6002)\" style=\"fill:#000000; stroke:none; fill-opacity:1\" cx=\"1778.99\" cy=\"130.61\" r=\"18\"/>\n",
       "<circle clip-path=\"url(#clip6002)\" style=\"fill:#fee8c8; stroke:none; fill-opacity:1\" cx=\"1778.99\" cy=\"130.61\" r=\"14\"/>\n",
       "<circle clip-path=\"url(#clip6002)\" style=\"fill:#000000; stroke:none; fill-opacity:1\" cx=\"1864.38\" cy=\"111.442\" r=\"18\"/>\n",
       "<circle clip-path=\"url(#clip6002)\" style=\"fill:#fee8c8; stroke:none; fill-opacity:1\" cx=\"1864.38\" cy=\"111.442\" r=\"14\"/>\n",
       "<circle clip-path=\"url(#clip6002)\" style=\"fill:#000000; stroke:none; fill-opacity:1\" cx=\"1949.76\" cy=\"97.947\" r=\"18\"/>\n",
       "<circle clip-path=\"url(#clip6002)\" style=\"fill:#fee8c8; stroke:none; fill-opacity:1\" cx=\"1949.76\" cy=\"97.947\" r=\"14\"/>\n",
       "<circle clip-path=\"url(#clip6002)\" style=\"fill:#000000; stroke:none; fill-opacity:1\" cx=\"2035.14\" cy=\"90.1436\" r=\"18\"/>\n",
       "<circle clip-path=\"url(#clip6002)\" style=\"fill:#fee8c8; stroke:none; fill-opacity:1\" cx=\"2035.14\" cy=\"90.1436\" r=\"14\"/>\n",
       "<circle clip-path=\"url(#clip6002)\" style=\"fill:#000000; stroke:none; fill-opacity:1\" cx=\"2120.52\" cy=\"88.0188\" r=\"18\"/>\n",
       "<circle clip-path=\"url(#clip6002)\" style=\"fill:#fee8c8; stroke:none; fill-opacity:1\" cx=\"2120.52\" cy=\"88.0188\" r=\"14\"/>\n",
       "<circle clip-path=\"url(#clip6002)\" style=\"fill:#000000; stroke:none; fill-opacity:1\" cx=\"2205.9\" cy=\"88.021\" r=\"18\"/>\n",
       "<circle clip-path=\"url(#clip6002)\" style=\"fill:#fee8c8; stroke:none; fill-opacity:1\" cx=\"2205.9\" cy=\"88.021\" r=\"14\"/>\n",
       "<circle clip-path=\"url(#clip6002)\" style=\"fill:#000000; stroke:none; fill-opacity:1\" cx=\"2291.28\" cy=\"88.0053\" r=\"18\"/>\n",
       "<circle clip-path=\"url(#clip6002)\" style=\"fill:#fee8c8; stroke:none; fill-opacity:1\" cx=\"2291.28\" cy=\"88.0053\" r=\"14\"/>\n",
       "<polygon clip-path=\"url(#clip6000)\" points=\"\n",
       "1813.42,312.204 2280.76,312.204 2280.76,130.764 1813.42,130.764 \n",
       "  \" fill=\"#ffffff\" fill-rule=\"evenodd\" fill-opacity=\"1\"/>\n",
       "<polyline clip-path=\"url(#clip6000)\" style=\"stroke:#000000; stroke-width:4; stroke-opacity:1; fill:none\" points=\"\n",
       "  1813.42,312.204 2280.76,312.204 2280.76,130.764 1813.42,130.764 1813.42,312.204 \n",
       "  \"/>\n",
       "<polyline clip-path=\"url(#clip6000)\" style=\"stroke:#e34a33; stroke-width:0; stroke-opacity:1; fill:none\" points=\"\n",
       "  1837.42,191.244 1981.42,191.244 \n",
       "  \"/>\n",
       "<circle clip-path=\"url(#clip6000)\" style=\"fill:#000000; stroke:none; fill-opacity:1\" cx=\"1921.42\" cy=\"191.244\" r=\"25\"/>\n",
       "<circle clip-path=\"url(#clip6000)\" style=\"fill:#e34a33; stroke:none; fill-opacity:1\" cx=\"1921.42\" cy=\"191.244\" r=\"21\"/>\n",
       "<g clip-path=\"url(#clip6000)\">\n",
       "<text style=\"fill:#000000; fill-opacity:1; font-family:Arial,Helvetica Neue,Helvetica,sans-serif; font-size:48px; text-anchor:start;\" transform=\"rotate(0, 2005.42, 208.744)\" x=\"2005.42\" y=\"208.744\">Indirect</text>\n",
       "</g>\n",
       "<polyline clip-path=\"url(#clip6000)\" style=\"stroke:#fee8c8; stroke-width:4; stroke-opacity:1; fill:none\" points=\"\n",
       "  1837.42,251.724 1981.42,251.724 \n",
       "  \"/>\n",
       "<circle clip-path=\"url(#clip6000)\" style=\"fill:#000000; stroke:none; fill-opacity:1\" cx=\"1921.42\" cy=\"251.724\" r=\"25\"/>\n",
       "<circle clip-path=\"url(#clip6000)\" style=\"fill:#fee8c8; stroke:none; fill-opacity:1\" cx=\"1921.42\" cy=\"251.724\" r=\"21\"/>\n",
       "<g clip-path=\"url(#clip6000)\">\n",
       "<text style=\"fill:#000000; fill-opacity:1; font-family:Arial,Helvetica Neue,Helvetica,sans-serif; font-size:48px; text-anchor:start;\" transform=\"rotate(0, 2005.42, 269.224)\" x=\"2005.42\" y=\"269.224\">Semidirect</text>\n",
       "</g>\n",
       "</svg>\n"
      ]
     },
     "execution_count": 85,
     "metadata": {},
     "output_type": "execute_result"
    }
   ],
   "source": [
    "j = 1\n",
    "plot(traj_indirect[7],traj_indirect[8][j,:],label=\"Indirect\",seriescolor=RGB(((227,74,51) ./ 255.)...),linewidth=0,marker=6)\n",
    "plot!(traj_semidirect[7],traj_semidirect[8][j,:],label=\"Semidirect\",seriescolor=RGB(((254,232,200) ./ 255.)...),linewidth=1,marker=4)\n",
    "# plot!(traj_direct[7],traj_direct[8][j,:],label=\"Direct\",seriescolor=RGB(((54,132,100) ./ 255.)...),linewidth=2,marker=4)"
   ]
  },
  {
   "cell_type": "markdown",
   "metadata": {},
   "source": [
    "# Trajectory optimization of little dog"
   ]
  },
  {
   "cell_type": "code",
   "execution_count": 87,
   "metadata": {},
   "outputs": [],
   "source": [
    "urdf = joinpath(\"..\", \"..\", \"urdf\", \"little_dog\", \"little_dog2d.urdf\")\n",
    "mechanism = parse_urdf(Float64, urdf)\n",
    "\n",
    "floor = findbody(mechanism, \"floor\")\n",
    "point = Point3D(default_frame(floor), SVector([0.,0.,0.]...))\n",
    "normal = FreeVector3D(default_frame(floor), SVector([0.,0.,1.]...))\n",
    "floor_obs = Obstacle(floor, point, normal, :xyz, 10.)\n",
    "\n",
    "obstacles = [floor_obs]\n",
    "env = Environment(mechanism, urdf, obstacles);"
   ]
  },
  {
   "cell_type": "code",
   "execution_count": 88,
   "metadata": {},
   "outputs": [
    {
     "name": "stderr",
     "output_type": "stream",
     "text": [
      "┌ Info: Serving MeshCat visualizer at http://127.0.0.1:8700\n",
      "└ @ MeshCat /home/blandry/.julia/packages/MeshCat/WlA0B/src/servers.jl:24\n",
      "/usr/bin/xdg-open: 778: /usr/bin/xdg-open: www-browser: not found\n",
      "/usr/bin/xdg-open: 778: /usr/bin/xdg-open: links2: not found\n",
      "/usr/bin/xdg-open: 778: /usr/bin/xdg-open: elinks: not found\n",
      "/usr/bin/xdg-open: 778: /usr/bin/xdg-open: links: not found\n",
      "/usr/bin/xdg-open: 778: /usr/bin/xdg-open: lynx: not found\n",
      "/usr/bin/xdg-open: 778: /usr/bin/xdg-open: w3m: not found\n",
      "xdg-open: no method available for opening 'http://127.0.0.1:8700'\n"
     ]
    },
    {
     "name": "stdout",
     "output_type": "stream",
     "text": [
      "Could not open browser automatically: ErrorException(\"failed process: Process(`xdg-open http://127.0.0.1:8700`, ProcessExited(3)) [3]\")\n",
      "Please open the following URL in your browser:\n",
      "http://127.0.0.1:8700\n"
     ]
    }
   ],
   "source": [
    "mvis = MechanismVisualizer(mechanism, URDFVisuals(urdf));\n",
    "open(mvis)"
   ]
  },
  {
   "cell_type": "code",
   "execution_count": 89,
   "metadata": {},
   "outputs": [],
   "source": [
    "N = 8\n",
    "Δt = 0.025\n",
    "q0 = [0., -.275, 0., 0., 0., 0., 0., pi/4, pi/4, -pi/4, -pi/4, -pi/2, -pi/2, pi/2, pi/2] \n",
    "v0 = zeros(num_velocities(mechanism))\n",
    "\n",
    "sim_data = get_sim_data_indirect(mechanism,env,Δt)\n",
    "null_ctrl! = (u,t,x) -> u[:] .= 0.\n",
    "x0 = MechanismState(mechanism)\n",
    "set_configuration!(x0, q0)\n",
    "set_velocity!(x0, v0)\n",
    "setdirty!(x0)\n",
    "traj_sim = Bilevel.simulate(sim_data,null_ctrl!,x0,N)\n",
    "setanimation!(mvis, traj_sim[6], traj_sim[1])"
   ]
  },
  {
   "cell_type": "code",
   "execution_count": 94,
   "metadata": {},
   "outputs": [
    {
     "data": {
      "text/plain": [
       "setup_prob! (generic function with 1 method)"
      ]
     },
     "execution_count": 94,
     "metadata": {},
     "output_type": "execute_result"
    }
   ],
   "source": [
    "q_nom = copy(traj_sim[1][end])\n",
    "q_min = min.(q_nom, [-5., -.5, -.2*pi, 0., 0., 0., 0., -3.5, -3.5, -3.5, -3.5, -3.1, -3.1, -3.1, -3.1])\n",
    "q_max = max.(q_nom, [5., -0.1, .2*pi, 0., 0., 0., 0., 2.4, 2.4, 2.4, 2.4, 1., 1., 1., 1.])\n",
    "\n",
    "x_goal = 0.075\n",
    "\n",
    "N = 20\n",
    "Δt = 0.025\n",
    "\n",
    "function add_prob_constraints!(sim_data)\n",
    "    vs = sim_data.vs\n",
    "\n",
    "    add_eq!(sim_data, :cq1, num_positions(mechanism), x -> vs(x, :q1) - q_nom)\n",
    "    add_eq!(sim_data, :cv1, num_velocities(mechanism), x -> vs(x, :v1))\n",
    "    add_ineq!(sim_data, :cqNx, 1, x -> x_goal - vs(x, Symbol(\"q\", N))[1])\n",
    "    add_eq!(sim_data, :cqNlegs, num_positions(mechanism)-1, x -> vs(x, Symbol(\"q\", N))[2:end] - vs(x, :q1)[2:end])\n",
    "    add_eq!(sim_data, :cvN, num_velocities(mechanism), x -> vs(x, Symbol(\"v\", N)))\n",
    "\n",
    "    for n = 1:N\n",
    "        add_eq!(sim_data, Symbol(\"cq1\", n), 2, x -> vs(x, Symbol(\"q\", n))[8:9] + vs(x, Symbol(\"q\", n))[11:-1:10])\n",
    "        add_eq!(sim_data, Symbol(\"cq2\", n), 2, x -> vs(x, Symbol(\"q\", n))[12:13] + vs(x, Symbol(\"q\", n))[15:-1:14])\n",
    "    end\n",
    "end\n",
    "\n",
    "function add_prob_obj!(sim_data)\n",
    "    for n = 1:N-1\n",
    "        add_obj!(sim_data, Symbol(\"u\", n), x -> sim_data.vs(x, Symbol(\"u\", n))' * sim_data.vs(x, Symbol(\"u\", n)))\n",
    "    end\n",
    "end\n",
    "\n",
    "function get_prob_limits(sim_data)\n",
    "    x_min = -1e19*ones(sim_data.vs.num_vars)\n",
    "    x_max = 1e19*ones(sim_data.vs.num_vars)\n",
    "    \n",
    "    # joint limits\n",
    "    add_box_con_snopt!(x_min, x_max, sim_data, :q, q_min, q_max, 1:N)\n",
    "    add_box_con_snopt!(x_min, x_max, sim_data, :h, [Δt], [Δt], 1:N-1)\n",
    "    \n",
    "    # torques limits\n",
    "    u_limit = 1.\n",
    "    add_box_con_snopt!(x_min, x_max, sim_data, :u, -u_limit * ones(num_velocities(mechanism)), u_limit * ones(num_velocities(mechanism)), 1:N-1)\n",
    "    \n",
    "    x_min, x_max\n",
    "end\n",
    "\n",
    "function get_prob_init(sim_data)\n",
    "    x0 = zeros(sim_data.vs.num_vars)\n",
    "    for n = 1:N\n",
    "        qn = copy(q_nom)\n",
    "        qn[1] = (n/N)*(x_goal - q_nom[1]) + q_nom[1]\n",
    "        x0[sim_data.vs(Symbol(\"q\", n))] .= qn\n",
    "    end\n",
    "    \n",
    "    x0\n",
    "end\n",
    "\n",
    "function setup_prob!(sim_data)\n",
    "    add_prob_constraints!(sim_data)\n",
    "    add_prob_obj!(sim_data)\n",
    "    x_min, x_max = get_prob_limits(sim_data)\n",
    "    x0 = get_prob_init(sim_data)\n",
    "    \n",
    "    x0, x_min, x_max\n",
    "end"
   ]
  },
  {
   "cell_type": "code",
   "execution_count": 91,
   "metadata": {},
   "outputs": [],
   "source": [
    "# Indirect\n",
    "\n",
    "sim_data = get_trajopt_data_indirect(mechanism,env,Δt,N,relax_comp=false)\n",
    "x0, x_min, x_max = setup_prob!(sim_data);"
   ]
  },
  {
   "cell_type": "code",
   "execution_count": null,
   "metadata": {},
   "outputs": [],
   "source": [
    "con_tol = 1e-3\n",
    "obj_tol = 1e-3\n",
    "max_iter = 10000\n",
    "\n",
    "display(@time traj_indirect = Bilevel.trajopt(sim_data, x0=x0, x_min=x_min, x_max=x_max, verbose=1, opt_tol=obj_tol, major_feas=con_tol, minor_feas=con_tol, max_iter=max_iter))\n",
    "\n",
    "x0 = traj_indirect[9]\n",
    "\n",
    "setanimation!(mvis, traj_indirect[7], traj_indirect[1])"
   ]
  },
  {
   "cell_type": "code",
   "execution_count": null,
   "metadata": {},
   "outputs": [],
   "source": [
    "function run_trajopt()\n",
    "    Bilevel.solve_rosenbrock() # clearing SNOPT\n",
    "    Bilevel.trajopt(sim_data, x0=x0, x_min=x_min, x_max=x_max, verbose=0, opt_tol=obj_tol, major_feas=con_tol, minor_feas=con_tol, max_iter=max_iter)\n",
    "end\n",
    "\n",
    "@benchmark run_trajopt()"
   ]
  },
  {
   "cell_type": "code",
   "execution_count": null,
   "metadata": {},
   "outputs": [],
   "source": [
    "setanimation!(mvis, traj_indirect[7], traj_indirect[1])"
   ]
  },
  {
   "cell_type": "code",
   "execution_count": null,
   "metadata": {},
   "outputs": [],
   "source": [
    "t_step = traj_indirect[7]\n",
    "q_step = traj_indirect[1]\n",
    "u_step = traj_indirect[2][2:end];"
   ]
  },
  {
   "cell_type": "code",
   "execution_count": 95,
   "metadata": {},
   "outputs": [],
   "source": [
    "# Semidirect\n",
    "\n",
    "sim_data = get_trajopt_data_semidirect(mechanism,env,Δt,N,relax_comp=false)\n",
    "x0, x_min, x_max = setup_prob!(sim_data);"
   ]
  },
  {
   "cell_type": "code",
   "execution_count": 96,
   "metadata": {},
   "outputs": [
    {
     "name": "stdout",
     "output_type": "stream",
     "text": [
      "Resource limit error: iteration limit reached\n"
     ]
    }
   ],
   "source": [
    "con_tol = 1e-3\n",
    "obj_tol = 1e-3\n",
    "max_iter = 10000\n",
    "\n",
    "display(@time traj_semidirect = Bilevel.trajopt(sim_data, x0=x0, x_min=x_min, x_max=x_max, verbose=1, opt_tol=obj_tol, major_feas=con_tol, minor_feas=con_tol, max_iter=max_iter))\n",
    "\n",
    "x0 = traj_semidirect[9]\n",
    "\n",
    "setanimation!(mvis, traj_semidirect[7], traj_semidirect[1])"
   ]
  },
  {
   "cell_type": "code",
   "execution_count": null,
   "metadata": {},
   "outputs": [],
   "source": [
    "function run_trajopt()\n",
    "    Bilevel.solve_rosenbrock() # clearing SNOPT\n",
    "    Bilevel.trajopt(sim_data, x0=x0, x_min=x_min, x_max=x_max, verbose=0, opt_tol=obj_tol, major_feas=con_tol, minor_feas=con_tol, max_iter=max_iter)\n",
    "end\n",
    "\n",
    "@benchmark run_trajopt()"
   ]
  },
  {
   "cell_type": "code",
   "execution_count": null,
   "metadata": {},
   "outputs": [],
   "source": [
    "setanimation!(mvis, traj_semidirect[7], traj_semidirect[1])"
   ]
  },
  {
   "cell_type": "code",
   "execution_count": null,
   "metadata": {},
   "outputs": [],
   "source": [
    "t_step = traj_semidirect[7]\n",
    "q_step = traj_semidirect[1]\n",
    "u_step = traj_semidirect[2][2:end];"
   ]
  },
  {
   "cell_type": "code",
   "execution_count": null,
   "metadata": {},
   "outputs": [],
   "source": [
    "# Direct\n",
    "\n",
    "sim_data = get_trajopt_data_direct(mechanism,env,Δt,N,relax_comp=false)\n",
    "x0, x_min, x_max = setup_prob!(sim_data);"
   ]
  },
  {
   "cell_type": "code",
   "execution_count": null,
   "metadata": {},
   "outputs": [],
   "source": [
    "con_tol = 1e-3\n",
    "obj_tol = 1e-3\n",
    "max_iter = 10000\n",
    "\n",
    "traj_direct = Bilevel.trajopt(sim_data, x0=x0, x_min=x_min, x_max=x_max, verbose=1, opt_tol=obj_tol, major_feas=con_tol, minor_feas=con_tol, max_iter=max_iter)\n",
    "\n",
    "x0 = traj_direct[9]\n",
    "\n",
    "setanimation!(mvis, traj_direct[7], traj_direct[1])"
   ]
  },
  {
   "cell_type": "code",
   "execution_count": null,
   "metadata": {},
   "outputs": [],
   "source": [
    "setanimation!(mvis, traj_direct[7], traj_direct[1])"
   ]
  },
  {
   "cell_type": "code",
   "execution_count": null,
   "metadata": {},
   "outputs": [],
   "source": [
    "t_step = traj_direct[7]\n",
    "q_step = traj_direct[1]\n",
    "u_step = traj_direct[2][2:end];"
   ]
  },
  {
   "cell_type": "code",
   "execution_count": null,
   "metadata": {},
   "outputs": [],
   "source": [
    "# Multi-steps\n",
    "\n",
    "reps = 5\n",
    "\n",
    "ttraj = t_step\n",
    "qtraj = q_step\n",
    "utraj = u_step\n",
    "for i = 1:(reps-1)\n",
    "    ttraj = vcat(ttraj, t_step .+ ttraj[end])\n",
    "    qtraj = vcat(qtraj, map(q -> q + vcat(qtraj[end][1],zeros(length(q)-1)), q_step))\n",
    "    utraj = vcat(utraj, u_step)\n",
    "end\n",
    "\n",
    "setanimation!(mvis, ttraj, qtraj)"
   ]
  }
 ],
 "metadata": {
  "kernelspec": {
   "display_name": "Julia 1.1.0",
   "language": "julia",
   "name": "julia-1.1"
  },
  "language_info": {
   "file_extension": ".jl",
   "mimetype": "application/julia",
   "name": "julia",
   "version": "1.1.0"
  }
 },
 "nbformat": 4,
 "nbformat_minor": 2
}
