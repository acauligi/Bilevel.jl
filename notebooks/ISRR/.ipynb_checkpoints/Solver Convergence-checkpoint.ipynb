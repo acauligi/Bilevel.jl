{
 "cells": [
  {
   "cell_type": "code",
   "execution_count": 1,
   "metadata": {},
   "outputs": [
    {
     "name": "stderr",
     "output_type": "stream",
     "text": [
      "┌ Info: Precompiling Bilevel [9688c538-179f-11e9-3174-495cea6b7f67]\n",
      "└ @ Base loading.jl:1186\n",
      "┌ Info: Recompiling stale cache file /Users/blandry/.julia/compiled/v1.1/MeshCatMechanisms/dGmNl.ji for MeshCatMechanisms [6ad125db-dd91-5488-b820-c1df6aab299d]\n",
      "└ @ Base loading.jl:1184\n",
      "┌ Error: evaluation error\n",
      "│   mod = Bilevel\n",
      "│   ex = const usrfun = #= /Users/blandry/.julia/dev/Bilevel/src/solvers/snopt.jl:154 =# @cfunction(objcon_wrapper, Cvoid, (Ptr{Clong}, Ref{Clong}, Ptr{Cdouble}, Ref{Clong}, Ref{Clong}, Ptr{Cdouble}, Ref{Clong}, Ref{Clong}, Ptr{Cdouble}, Ptr{Cchar}, Ref{Clong}, Ptr{Clong}, Ref{Clong}, Ptr{Cdouble}, Ref{Clong}))\n",
      "│   exception = (ErrorException(\"invalid lookup expr (\\$(QuoteNode(Core.svec)))(JuliaInterpreter.SSAValue(2), JuliaInterpreter.SSAValue(3), JuliaInterpreter.SSAValue(4), JuliaInterpreter.SSAValue(5), JuliaInterpreter.SSAValue(6), JuliaInterpreter.SSAValue(7), JuliaInterpreter.SSAValue(8), JuliaInterpreter.SSAValue(9), JuliaInterpreter.SSAValue(10), JuliaInterpreter.SSAValue(11), JuliaInterpreter.SSAValue(12), JuliaInterpreter.SSAValue(13), JuliaInterpreter.SSAValue(14), JuliaInterpreter.SSAValue(15), JuliaInterpreter.SSAValue(16))\"), Union{Ptr{Nothing}, InterpreterIP}[Ptr{Nothing} @0x000000010bd70572, Ptr{Nothing} @0x000000010bd4771d, Ptr{Nothing} @0x000000011f3de158, Ptr{Nothing} @0x000000011f3e976f, Ptr{Nothing} @0x0000000124f85eaa, Ptr{Nothing} @0x0000000124f86444, Ptr{Nothing} @0x000000011f3e9d8e, Ptr{Nothing} @0x000000011f3eb2da, Ptr{Nothing} @0x000000011f3ef395, Ptr{Nothing} @0x000000011f3e845e, Ptr{Nothing} @0x000000011f3e91a4, Ptr{Nothing} @0x000000011f3da12d, Ptr{Nothing} @0x000000011f3d76a7, Ptr{Nothing} @0x000000011f3d7704, Ptr{Nothing} @0x000000011f3d6d73, Ptr{Nothing} @0x000000011f3d737f, Ptr{Nothing} @0x000000011f3cf8a4, Ptr{Nothing} @0x000000011f3d0245, Ptr{Nothing} @0x000000011f3d1da8, Ptr{Nothing} @0x000000011f3ca101, Ptr{Nothing} @0x000000010bd47e87])\n",
      "└ @ Revise /Users/blandry/.julia/packages/Revise/5wsCa/src/lowered.jl:52\n"
     ]
    },
    {
     "data": {
      "text/html": [
       "    <script class='js-collapse-script'>\n",
       "        var curMatch =\n",
       "            window.location.href\n",
       "            .match(/(.*?)\\/notebooks\\/.*\\.ipynb/);\n",
       "\n",
       "        curMatch = curMatch ||\n",
       "            window.location.href\n",
       "            .match(/(.*?)\\/apps\\/.*\\.ipynb/);\n",
       "\n",
       "        if ( curMatch ) {\n",
       "            $('head').append('<base href=\"' + curMatch[1] + '/\">');\n",
       "        }\n",
       "    </script>\n"
      ],
      "text/plain": [
       "HTML{String}(\"    <script class='js-collapse-script'>\\n        var curMatch =\\n            window.location.href\\n            .match(/(.*?)\\\\/notebooks\\\\/.*\\\\.ipynb/);\\n\\n        curMatch = curMatch ||\\n            window.location.href\\n            .match(/(.*?)\\\\/apps\\\\/.*\\\\.ipynb/);\\n\\n        if ( curMatch ) {\\n            \\$('head').append('<base href=\\\"' + curMatch[1] + '/\\\">');\\n        }\\n    </script>\\n\")"
      ]
     },
     "metadata": {},
     "output_type": "display_data"
    },
    {
     "data": {
      "text/html": [
       "<script class='js-collapse-script' src='/assetserver/ac453cbe1838fe7a6d3794b312bfa72db072de98-assets/webio/dist/bundle.js'></script>"
      ],
      "text/plain": [
       "HTML{String}(\"<script class='js-collapse-script' src='/assetserver/ac453cbe1838fe7a6d3794b312bfa72db072de98-assets/webio/dist/bundle.js'></script>\")"
      ]
     },
     "metadata": {},
     "output_type": "display_data"
    },
    {
     "data": {
      "text/html": [
       "<script class='js-collapse-script' src='/assetserver/ac453cbe1838fe7a6d3794b312bfa72db072de98-assets/providers/ijulia_setup.js'></script>"
      ],
      "text/plain": [
       "HTML{String}(\"<script class='js-collapse-script' src='/assetserver/ac453cbe1838fe7a6d3794b312bfa72db072de98-assets/providers/ijulia_setup.js'></script>\")"
      ]
     },
     "metadata": {},
     "output_type": "display_data"
    },
    {
     "data": {
      "text/html": [
       "  <script class='js-collapse-script'>\n",
       "    $('.js-collapse-script').parent('.output_subarea').css('padding', '0');\n",
       "  </script>\n"
      ],
      "text/plain": [
       "HTML{String}(\"  <script class='js-collapse-script'>\\n    \\$('.js-collapse-script').parent('.output_subarea').css('padding', '0');\\n  </script>\\n\")"
      ]
     },
     "metadata": {},
     "output_type": "display_data"
    }
   ],
   "source": [
    "using Revise\n",
    "using Bilevel\n",
    "using Bilevel: VariableSelector, ConstraintSelector, add_var!, add_eq!, add_ineq!, contact_jacobian!, contact_friction_τ_direct!, contact_normal_τ_direct!, contact_friction_τ_direct_osqp!\n",
    "\n",
    "using RigidBodyDynamics\n",
    "using MeshCatMechanisms\n",
    "using MeshCat\n",
    "using Plots\n",
    "using LinearAlgebra\n",
    "using StaticArrays\n",
    "using ForwardDiff\n",
    "using Base.Threads\n",
    "using BenchmarkTools\n",
    "using SparseArrays"
   ]
  },
  {
   "cell_type": "code",
   "execution_count": 2,
   "metadata": {},
   "outputs": [
    {
     "data": {
      "text/plain": [
       "Environment(Contact[Contact(Spanning tree:\n",
       "Vertex: world (root)\n",
       "  Vertex: floor, Edge: floor_to_world\n",
       "    Vertex: box, Edge: floor_to_box\n",
       "No non-tree joints., box, Point3D in \"after_floor_to_box\": [0.0, 0.0, -0.0375], Obstacle(floor, Point3D in \"after_floor_to_world\": [0.0, 0.0, 0.0], FreeVector3D in \"after_floor_to_world\": [0.0, 0.0, 1.0], [1.0 6.12323e-17 -1.0 -1.83697e-16; 0.0 1.0 1.22465e-16 -1.0; 0.0 0.0 0.0 0.0], 1.125, false))])"
      ]
     },
     "execution_count": 2,
     "metadata": {},
     "output_type": "execute_result"
    }
   ],
   "source": [
    "urdf = joinpath(\"..\", \"..\", \"urdf\", \"box2d.urdf\")\n",
    "mechanism = parse_urdf(Float64, urdf)\n",
    "\n",
    "floor = findbody(mechanism, \"floor\")\n",
    "point = Point3D(default_frame(floor), SVector([0.,0.,0.]...))\n",
    "normal = FreeVector3D(default_frame(floor), SVector([0.,0.,1.]...))\n",
    "floor_obs = Obstacle(floor, point, normal, :xyz, 1.125)\n",
    "\n",
    "obstacles = [floor_obs]\n",
    "env = Environment(mechanism, urdf, obstacles)"
   ]
  },
  {
   "cell_type": "code",
   "execution_count": 3,
   "metadata": {},
   "outputs": [
    {
     "data": {
      "text/plain": [
       "(Array{Float64,1}[[0.0, -0.0375, 0.0], [0.589637, -0.0375, 6.82873e-6], [1.06891, -0.0375, 2.04862e-5], [1.43782, -0.0375, 4.09726e-5], [1.69636, -0.0375, 6.82878e-5], [1.84453, -0.0375, 0.000102432], [1.88234, -0.0375, 0.000143405], [1.88234, -0.0375, 0.000186718], [1.88234, -0.0375, 0.00023003], [1.88234, -0.0375, 0.000273342]], Array{Float64,1}[[7.0, 0.0, 0.0], [5.89637, -4.02647e-5, 6.82873e-5], [4.79272, -9.81849e-5, 0.000136575], [3.68907, -0.000151151, 0.000204864], [2.58542, -0.000176552, 0.000273152], [1.48175, -0.000151777, 0.000341442], [0.378072, -5.42156e-5, 0.000409732], [1.62421e-5, -3.51731e-10, 0.000433124], [1.62421e-5, -3.51748e-10, 0.000433124], [1.62421e-5, -3.51748e-10, 0.000433124]], Array{Float64,1}[], Array{Array{Float64,1},1}[[[0.0, 0.0, 0.0, 0.0, 0.0, 0.0]], [[1.00001, 0.0, 0.0, 1.12501, 0.0, 5.89636]], [[1.00002, 0.0, 0.0, 1.12502, 0.0, 4.79272]], [[1.00002, 0.0, 0.0, 1.12503, 0.0, 3.68907]], [[1.00003, 0.0, 0.0, 1.12503, 0.0, 2.5854]], [[1.00004, 0.0, 0.0, 1.12504, 0.0, 1.48174]], [[1.00005, 0.0, 0.0, 1.12505, 0.0, 0.378057]], [[1.00002, 0.0, 1.64943e-21, 0.385378, 6.6666e-10, 4.73081e-14]], [[1.0, 0.192689, 1.64943e-21, 0.192689, 0.0, -3.54809e-14]], [[1.0, 0.192689, 1.64943e-21, 0.192689, 0.0, -3.54809e-14]]], Array{Float64,1}[], [0.0, 0.1, 0.2, 0.3, 0.4, 0.5, 0.6, 0.7, 0.8, 0.9], [0.0 0.589637 … 1.88234 1.88234; -0.0375 -0.0375 … -0.0375 -0.0375; … ; 0.0 -4.02647e-5 … -3.51748e-10 -3.51748e-10; 0.0 6.82873e-5 … 0.000433124 0.000433124], [0.0 0.589637 … 1.88234 1.88234; -0.0375 -0.0375 … -0.0375 -0.0375; … ; 0.0 5.89636 … -3.54809e-14 -3.54809e-14; 0.0 1.00001 … 1.0 1.0])"
      ]
     },
     "execution_count": 3,
     "metadata": {},
     "output_type": "execute_result"
    }
   ],
   "source": [
    "N = 10\n",
    "Δt = 0.1\n",
    "q0 = [0., -0.0375, 0.]\n",
    "v0 = [7., 0., 0.]\n",
    "\n",
    "sim_data = get_sim_data_indirect(mechanism,env,Δt)\n",
    "null_ctrl! = (u,t,x) -> u[:] .= 0.\n",
    "x0 = MechanismState(mechanism)\n",
    "set_configuration!(x0, q0)\n",
    "set_velocity!(x0, v0)\n",
    "setdirty!(x0)\n",
    "traj = Bilevel.simulate(sim_data,null_ctrl!,x0,N)"
   ]
  },
  {
   "cell_type": "code",
   "execution_count": 4,
   "metadata": {},
   "outputs": [
    {
     "data": {
      "image/svg+xml": [
       "<?xml version=\"1.0\" encoding=\"utf-8\"?>\n",
       "<svg xmlns=\"http://www.w3.org/2000/svg\" xmlns:xlink=\"http://www.w3.org/1999/xlink\" width=\"600\" height=\"400\" viewBox=\"0 0 2400 1600\">\n",
       "<defs>\n",
       "  <clipPath id=\"clip9200\">\n",
       "    <rect x=\"0\" y=\"0\" width=\"2400\" height=\"1600\"/>\n",
       "  </clipPath>\n",
       "</defs>\n",
       "<polygon clip-path=\"url(#clip9200)\" points=\"\n",
       "0,1600 2400,1600 2400,0 0,0 \n",
       "  \" fill=\"#ffffff\" fill-rule=\"evenodd\" fill-opacity=\"1\"/>\n",
       "<defs>\n",
       "  <clipPath id=\"clip9201\">\n",
       "    <rect x=\"480\" y=\"0\" width=\"1681\" height=\"1600\"/>\n",
       "  </clipPath>\n",
       "</defs>\n",
       "<polygon clip-path=\"url(#clip9200)\" points=\"\n",
       "153.898,1487.47 2352.76,1487.47 2352.76,47.2441 153.898,47.2441 \n",
       "  \" fill=\"#ffffff\" fill-rule=\"evenodd\" fill-opacity=\"1\"/>\n",
       "<defs>\n",
       "  <clipPath id=\"clip9202\">\n",
       "    <rect x=\"153\" y=\"47\" width=\"2200\" height=\"1441\"/>\n",
       "  </clipPath>\n",
       "</defs>\n",
       "<polyline clip-path=\"url(#clip9202)\" style=\"stroke:#000000; stroke-width:2; stroke-opacity:0.1; fill:none\" points=\"\n",
       "  446.618,1487.47 446.618,47.2441 \n",
       "  \"/>\n",
       "<polyline clip-path=\"url(#clip9202)\" style=\"stroke:#000000; stroke-width:2; stroke-opacity:0.1; fill:none\" points=\"\n",
       "  907.595,1487.47 907.595,47.2441 \n",
       "  \"/>\n",
       "<polyline clip-path=\"url(#clip9202)\" style=\"stroke:#000000; stroke-width:2; stroke-opacity:0.1; fill:none\" points=\"\n",
       "  1368.57,1487.47 1368.57,47.2441 \n",
       "  \"/>\n",
       "<polyline clip-path=\"url(#clip9202)\" style=\"stroke:#000000; stroke-width:2; stroke-opacity:0.1; fill:none\" points=\"\n",
       "  1829.55,1487.47 1829.55,47.2441 \n",
       "  \"/>\n",
       "<polyline clip-path=\"url(#clip9202)\" style=\"stroke:#000000; stroke-width:2; stroke-opacity:0.1; fill:none\" points=\"\n",
       "  2290.52,1487.47 2290.52,47.2441 \n",
       "  \"/>\n",
       "<polyline clip-path=\"url(#clip9202)\" style=\"stroke:#000000; stroke-width:2; stroke-opacity:0.1; fill:none\" points=\"\n",
       "  153.898,1446.71 2352.76,1446.71 \n",
       "  \"/>\n",
       "<polyline clip-path=\"url(#clip9202)\" style=\"stroke:#000000; stroke-width:2; stroke-opacity:0.1; fill:none\" points=\"\n",
       "  153.898,1085.81 2352.76,1085.81 \n",
       "  \"/>\n",
       "<polyline clip-path=\"url(#clip9202)\" style=\"stroke:#000000; stroke-width:2; stroke-opacity:0.1; fill:none\" points=\"\n",
       "  153.898,724.897 2352.76,724.897 \n",
       "  \"/>\n",
       "<polyline clip-path=\"url(#clip9202)\" style=\"stroke:#000000; stroke-width:2; stroke-opacity:0.1; fill:none\" points=\"\n",
       "  153.898,363.988 2352.76,363.988 \n",
       "  \"/>\n",
       "<polyline clip-path=\"url(#clip9200)\" style=\"stroke:#000000; stroke-width:4; stroke-opacity:1; fill:none\" points=\"\n",
       "  153.898,1487.47 2352.76,1487.47 \n",
       "  \"/>\n",
       "<polyline clip-path=\"url(#clip9200)\" style=\"stroke:#000000; stroke-width:4; stroke-opacity:1; fill:none\" points=\"\n",
       "  153.898,1487.47 153.898,47.2441 \n",
       "  \"/>\n",
       "<polyline clip-path=\"url(#clip9200)\" style=\"stroke:#000000; stroke-width:4; stroke-opacity:1; fill:none\" points=\"\n",
       "  446.618,1487.47 446.618,1465.87 \n",
       "  \"/>\n",
       "<polyline clip-path=\"url(#clip9200)\" style=\"stroke:#000000; stroke-width:4; stroke-opacity:1; fill:none\" points=\"\n",
       "  907.595,1487.47 907.595,1465.87 \n",
       "  \"/>\n",
       "<polyline clip-path=\"url(#clip9200)\" style=\"stroke:#000000; stroke-width:4; stroke-opacity:1; fill:none\" points=\"\n",
       "  1368.57,1487.47 1368.57,1465.87 \n",
       "  \"/>\n",
       "<polyline clip-path=\"url(#clip9200)\" style=\"stroke:#000000; stroke-width:4; stroke-opacity:1; fill:none\" points=\"\n",
       "  1829.55,1487.47 1829.55,1465.87 \n",
       "  \"/>\n",
       "<polyline clip-path=\"url(#clip9200)\" style=\"stroke:#000000; stroke-width:4; stroke-opacity:1; fill:none\" points=\"\n",
       "  2290.52,1487.47 2290.52,1465.87 \n",
       "  \"/>\n",
       "<polyline clip-path=\"url(#clip9200)\" style=\"stroke:#000000; stroke-width:4; stroke-opacity:1; fill:none\" points=\"\n",
       "  153.898,1446.71 186.881,1446.71 \n",
       "  \"/>\n",
       "<polyline clip-path=\"url(#clip9200)\" style=\"stroke:#000000; stroke-width:4; stroke-opacity:1; fill:none\" points=\"\n",
       "  153.898,1085.81 186.881,1085.81 \n",
       "  \"/>\n",
       "<polyline clip-path=\"url(#clip9200)\" style=\"stroke:#000000; stroke-width:4; stroke-opacity:1; fill:none\" points=\"\n",
       "  153.898,724.897 186.881,724.897 \n",
       "  \"/>\n",
       "<polyline clip-path=\"url(#clip9200)\" style=\"stroke:#000000; stroke-width:4; stroke-opacity:1; fill:none\" points=\"\n",
       "  153.898,363.988 186.881,363.988 \n",
       "  \"/>\n",
       "<g clip-path=\"url(#clip9200)\">\n",
       "<text style=\"fill:#000000; fill-opacity:1; font-family:Arial,Helvetica Neue,Helvetica,sans-serif; font-size:48px; text-anchor:middle;\" transform=\"rotate(0, 446.618, 1541.47)\" x=\"446.618\" y=\"1541.47\">2</text>\n",
       "</g>\n",
       "<g clip-path=\"url(#clip9200)\">\n",
       "<text style=\"fill:#000000; fill-opacity:1; font-family:Arial,Helvetica Neue,Helvetica,sans-serif; font-size:48px; text-anchor:middle;\" transform=\"rotate(0, 907.595, 1541.47)\" x=\"907.595\" y=\"1541.47\">4</text>\n",
       "</g>\n",
       "<g clip-path=\"url(#clip9200)\">\n",
       "<text style=\"fill:#000000; fill-opacity:1; font-family:Arial,Helvetica Neue,Helvetica,sans-serif; font-size:48px; text-anchor:middle;\" transform=\"rotate(0, 1368.57, 1541.47)\" x=\"1368.57\" y=\"1541.47\">6</text>\n",
       "</g>\n",
       "<g clip-path=\"url(#clip9200)\">\n",
       "<text style=\"fill:#000000; fill-opacity:1; font-family:Arial,Helvetica Neue,Helvetica,sans-serif; font-size:48px; text-anchor:middle;\" transform=\"rotate(0, 1829.55, 1541.47)\" x=\"1829.55\" y=\"1541.47\">8</text>\n",
       "</g>\n",
       "<g clip-path=\"url(#clip9200)\">\n",
       "<text style=\"fill:#000000; fill-opacity:1; font-family:Arial,Helvetica Neue,Helvetica,sans-serif; font-size:48px; text-anchor:middle;\" transform=\"rotate(0, 2290.52, 1541.47)\" x=\"2290.52\" y=\"1541.47\">10</text>\n",
       "</g>\n",
       "<g clip-path=\"url(#clip9200)\">\n",
       "<text style=\"fill:#000000; fill-opacity:1; font-family:Arial,Helvetica Neue,Helvetica,sans-serif; font-size:48px; text-anchor:end;\" transform=\"rotate(0, 129.898, 1464.21)\" x=\"129.898\" y=\"1464.21\">0.0</text>\n",
       "</g>\n",
       "<g clip-path=\"url(#clip9200)\">\n",
       "<text style=\"fill:#000000; fill-opacity:1; font-family:Arial,Helvetica Neue,Helvetica,sans-serif; font-size:48px; text-anchor:end;\" transform=\"rotate(0, 129.898, 1103.31)\" x=\"129.898\" y=\"1103.31\">0.5</text>\n",
       "</g>\n",
       "<g clip-path=\"url(#clip9200)\">\n",
       "<text style=\"fill:#000000; fill-opacity:1; font-family:Arial,Helvetica Neue,Helvetica,sans-serif; font-size:48px; text-anchor:end;\" transform=\"rotate(0, 129.898, 742.397)\" x=\"129.898\" y=\"742.397\">1.0</text>\n",
       "</g>\n",
       "<g clip-path=\"url(#clip9200)\">\n",
       "<text style=\"fill:#000000; fill-opacity:1; font-family:Arial,Helvetica Neue,Helvetica,sans-serif; font-size:48px; text-anchor:end;\" transform=\"rotate(0, 129.898, 381.488)\" x=\"129.898\" y=\"381.488\">1.5</text>\n",
       "</g>\n",
       "<polyline clip-path=\"url(#clip9202)\" style=\"stroke:#009af9; stroke-width:4; stroke-opacity:1; fill:none\" points=\"\n",
       "  216.13,1446.71 446.618,1021.1 677.106,675.157 907.595,408.873 1138.08,222.254 1368.57,115.299 1599.06,88.0089 1829.55,88.0077 2060.04,88.0065 2290.52,88.0053 \n",
       "  \n",
       "  \"/>\n",
       "<polygon clip-path=\"url(#clip9200)\" points=\"\n",
       "1989.93,251.724 2280.76,251.724 2280.76,130.764 1989.93,130.764 \n",
       "  \" fill=\"#ffffff\" fill-rule=\"evenodd\" fill-opacity=\"1\"/>\n",
       "<polyline clip-path=\"url(#clip9200)\" style=\"stroke:#000000; stroke-width:4; stroke-opacity:1; fill:none\" points=\"\n",
       "  1989.93,251.724 2280.76,251.724 2280.76,130.764 1989.93,130.764 1989.93,251.724 \n",
       "  \"/>\n",
       "<polyline clip-path=\"url(#clip9200)\" style=\"stroke:#009af9; stroke-width:4; stroke-opacity:1; fill:none\" points=\"\n",
       "  2013.93,191.244 2157.93,191.244 \n",
       "  \"/>\n",
       "<g clip-path=\"url(#clip9200)\">\n",
       "<text style=\"fill:#000000; fill-opacity:1; font-family:Arial,Helvetica Neue,Helvetica,sans-serif; font-size:48px; text-anchor:start;\" transform=\"rotate(0, 2181.93, 208.744)\" x=\"2181.93\" y=\"208.744\">y1</text>\n",
       "</g>\n",
       "</svg>\n"
      ]
     },
     "execution_count": 4,
     "metadata": {},
     "output_type": "execute_result"
    }
   ],
   "source": [
    "plot(traj[7][1,:])"
   ]
  },
  {
   "cell_type": "code",
   "execution_count": 5,
   "metadata": {},
   "outputs": [],
   "source": [
    "num_pos = num_positions(mechanism)\n",
    "num_vel = num_velocities(mechanism)\n",
    "num_contacts = length(sim_data.env.contacts)\n",
    "\n",
    "sample_vs = VariableSelector()\n",
    "add_var!(sample_vs, :q0, num_pos)\n",
    "add_var!(sample_vs, :v0, num_vel)\n",
    "add_var!(sample_vs, :u0, num_vel)\n",
    "add_var!(sample_vs, :qnext, num_pos)\n",
    "add_var!(sample_vs, :vnext, num_vel)\n",
    "add_var!(sample_vs, :h, 1)\n",
    "add_var!(sample_vs, :c_n, num_contacts)\n",
    "\n",
    "data = Array{Array{Float64,1},1}()\n",
    "\n",
    "for n = 2:(length(traj[6])-1)\n",
    "    q0 = traj[1][n]\n",
    "    v0 = traj[2][n]\n",
    "    u0 = zeros(num_vel)\n",
    "    qnext = traj[1][n+1]\n",
    "    vnext = traj[2][n+1]\n",
    "    h = traj[6][n+1] - traj[6][n]\n",
    "    c_n = [ traj[8][:,n][sim_data.vs(Symbol(\"c_n\", i))][1] for i = 1:num_contacts ]\n",
    "    \n",
    "    sample = zeros(Float64, sample_vs.num_vars)\n",
    "    sample[sample_vs(:q0)] = q0\n",
    "    sample[sample_vs(:v0)] = v0\n",
    "    sample[sample_vs(:u0)] = u0\n",
    "    sample[sample_vs(:qnext)] = qnext\n",
    "    sample[sample_vs(:vnext)] = vnext\n",
    "    sample[sample_vs(:h)] = [h]\n",
    "    sample[sample_vs(:c_n)] = c_n\n",
    "    \n",
    "    push!(data, sample)\n",
    "end"
   ]
  },
  {
   "cell_type": "code",
   "execution_count": 6,
   "metadata": {},
   "outputs": [
    {
     "data": {
      "text/plain": [
       "compute_friction (generic function with 1 method)"
      ]
     },
     "execution_count": 6,
     "metadata": {},
     "output_type": "execute_result"
    }
   ],
   "source": [
    "num_samples = length(data)\n",
    "\n",
    "sim_data = get_sim_data_direct(mechanism,env,0.01)\n",
    "sim_data.fric_options[1][\"num_fosteps\"] = 0\n",
    "sim_data.fric_options[1][\"num_sosteps\"] = 30\n",
    "sim_data.fric_options[1][\"c\"] = 1\n",
    "sim_data.fric_options[1][\"c_fos\"] = 1\n",
    "sim_data.fric_options[1][\"c_sos\"] = 1\n",
    "    \n",
    "function compute_friction(;sample_range=1:num_samples)\n",
    "    for i = sample_range\n",
    "        sample = data[i]\n",
    "        q0 = sample_vs(sample, :q0)\n",
    "        v0 = sample_vs(sample, :v0)\n",
    "        u0 = sample_vs(sample, :u0)\n",
    "        qnext = sample_vs(sample, :qnext)\n",
    "        vnext = sample_vs(sample, :vnext)\n",
    "        h = sample_vs(sample, :h)[1]\n",
    "        c_n = sample_vs(sample, :c_n)\n",
    "        \n",
    "        x0 = sim_data.state_cache[1][Float64]\n",
    "        xn = sim_data.state_cache[2][Float64]\n",
    "        envj = sim_data.envj_cache[2][Float64]\n",
    "\n",
    "        set_configuration!(x0, q0)\n",
    "        set_velocity!(x0, v0)\n",
    "        setdirty!(x0)\n",
    "        set_configuration!(xn, qnext)\n",
    "        set_velocity!(xn, vnext)\n",
    "        setdirty!(xn)\n",
    "\n",
    "        normalize_configuration!(x0)\n",
    "        normalize_configuration!(xn)\n",
    "\n",
    "        H = mass_matrix(x0)\n",
    "        Hi = inv(H)\n",
    "        config_derivative = configuration_derivative(xn)\n",
    "        dyn_bias = dynamics_bias(xn)\n",
    "\n",
    "        contact_jacobian!(envj, xn)\n",
    "        \n",
    "        contact_bias = Vector{Float64}(undef, num_vel)                        \n",
    "        contact_friction_τ_direct!(contact_bias, sim_data, h, Hi, envj, dyn_bias, u0, v0, zeros(Float64, 1), c_n, 1)\n",
    "        display(contact_bias)\n",
    "        \n",
    "        contact_bias_osqp = Vector{Float64}(undef, num_vel)                        \n",
    "        contact_friction_τ_direct_osqp!(sim_data, h, Hi, envj, dyn_bias, u0, v0, zeros(Float64, 1), c_n, 1)\n",
    "        display(contact_bias_osqp)\n",
    "    end\n",
    "end"
   ]
  },
  {
   "cell_type": "code",
   "execution_count": 7,
   "metadata": {
    "scrolled": true
   },
   "outputs": [
    {
     "data": {
      "text/plain": [
       "3-element Array{Float64,1}:\n",
       "  1.8210282479515243 \n",
       "  1.6186251293760165 \n",
       " -0.06828731580045418"
      ]
     },
     "metadata": {},
     "output_type": "display_data"
    },
    {
     "ename": "MethodError",
     "evalue": "MethodError: no method matching contact_friction_τ_direct_osqp!(::SimData, ::Float64, ::Symmetric{Float64,Array{Float64,2}}, ::EnvironmentJacobian{Float64}, ::SegmentedVector{JointID,Float64,Base.OneTo{JointID},Array{Float64,1}}, ::Array{Float64,1}, ::Array{Float64,1}, ::Array{Float64,1}, ::Array{Float64,1}, ::Int64)\nClosest candidates are:\n  contact_friction_τ_direct_osqp!(::Any, !Matched::SimData, ::Any, ::Any, !Matched::EnvironmentJacobian, ::Any, ::Any, ::Any, ::AbstractArray{U,N} where N, !Matched::AbstractArray{N,N} where N, !Matched::Int64) where {U, N} at /home/blandry/.julia/dev/Bilevel/src/contact_sim.jl:193",
     "output_type": "error",
     "traceback": [
      "MethodError: no method matching contact_friction_τ_direct_osqp!(::SimData, ::Float64, ::Symmetric{Float64,Array{Float64,2}}, ::EnvironmentJacobian{Float64}, ::SegmentedVector{JointID,Float64,Base.OneTo{JointID},Array{Float64,1}}, ::Array{Float64,1}, ::Array{Float64,1}, ::Array{Float64,1}, ::Array{Float64,1}, ::Int64)\nClosest candidates are:\n  contact_friction_τ_direct_osqp!(::Any, !Matched::SimData, ::Any, ::Any, !Matched::EnvironmentJacobian, ::Any, ::Any, ::Any, ::AbstractArray{U,N} where N, !Matched::AbstractArray{N,N} where N, !Matched::Int64) where {U, N} at /home/blandry/.julia/dev/Bilevel/src/contact_sim.jl:193",
      "",
      "Stacktrace:",
      " [1] #compute_friction#7(::UnitRange{Int64}, ::Function) at ./In[6]:47",
      " [2] (::getfield(Main, Symbol(\"#kw##compute_friction\")))(::NamedTuple{(:sample_range,),Tuple{UnitRange{Int64}}}, ::typeof(compute_friction)) at ./none:0",
      " [3] top-level scope at In[7]:1"
     ]
    }
   ],
   "source": [
    "compute_friction(sample_range=1:1)\n",
    "# compute_friction()"
   ]
  },
  {
   "cell_type": "code",
   "execution_count": 10,
   "metadata": {},
   "outputs": [
    {
     "data": {
      "text/plain": [
       "3-element Array{Float64,1}:\n",
       "  1.8210283993979919 \n",
       "  1.618625129372914  \n",
       " -0.06828732147969671"
      ]
     },
     "metadata": {},
     "output_type": "display_data"
    },
    {
     "data": {
      "text/plain": [
       "3-element Array{Float64,1}:\n",
       "  1.6184795264155187 \n",
       "  1.618629278839542  \n",
       " -0.06069173874126008"
      ]
     },
     "metadata": {},
     "output_type": "display_data"
    }
   ],
   "source": [
    "num_samples = length(data)\n",
    "\n",
    "sim_data = get_sim_data_direct(mechanism,env,0.01)\n",
    "sim_data.fric_options[1][\"num_fosteps\"] = 0\n",
    "sim_data.fric_options[1][\"num_sosteps\"] = 10\n",
    "sim_data.fric_options[1][\"c\"] = 1\n",
    "sim_data.fric_options[1][\"c_fos\"] = 1\n",
    "sim_data.fric_options[1][\"c_sos\"] = 1\n",
    "    \n",
    "sample = data[1]\n",
    "q0 = sample_vs(sample, :q0)\n",
    "v0 = sample_vs(sample, :v0)\n",
    "u0 = sample_vs(sample, :u0)\n",
    "qnext = sample_vs(sample, :qnext)\n",
    "vnext = sample_vs(sample, :vnext)\n",
    "h = sample_vs(sample, :h)[1]\n",
    "c_n = sample_vs(sample, :c_n)\n",
    "        \n",
    "x0 = sim_data.state_cache[1][Float64]\n",
    "xn = sim_data.state_cache[2][Float64]\n",
    "envj = sim_data.envj_cache[2][Float64]\n",
    "\n",
    "set_configuration!(x0, q0)\n",
    "set_velocity!(x0, v0)\n",
    "setdirty!(x0)\n",
    "set_configuration!(xn, qnext)\n",
    "set_velocity!(xn, vnext)\n",
    "setdirty!(xn)\n",
    "\n",
    "normalize_configuration!(x0)\n",
    "normalize_configuration!(xn)\n",
    "\n",
    "H = mass_matrix(x0)\n",
    "Hi = inv(H)\n",
    "config_derivative = configuration_derivative(xn)\n",
    "dyn_bias = dynamics_bias(xn)\n",
    "\n",
    "contact_jacobian!(envj, xn)\n",
    "        \n",
    "contact_bias = Vector{Float64}(undef, num_vel)                        \n",
    "contact_friction_τ_direct!(contact_bias, sim_data, h, Hi, envj, dyn_bias, u0, v0, zeros(Float64, 1), c_n, 1)\n",
    "display(contact_bias)\n",
    "        \n",
    "contact_bias_osqp = Vector{Float64}(undef, num_vel)                        \n",
    "contact_friction_τ_direct_osqp!(contact_bias_osqp, sim_data, h, Hi, envj, dyn_bias, u0, v0, zeros(Float64, 1), c_n, 1)\n",
    "display(contact_bias_osqp)"
   ]
  },
  {
   "cell_type": "code",
   "execution_count": 20,
   "metadata": {},
   "outputs": [
    {
     "ename": "UndefVarError",
     "evalue": "UndefVarError: osqp_solve not defined",
     "output_type": "error",
     "traceback": [
      "UndefVarError: osqp_solve not defined",
      "",
      "Stacktrace:",
      " [1] getproperty(::Module, ::Symbol) at ./sysimg.jl:13",
      " [2] top-level scope at In[20]:1"
     ]
    }
   ],
   "source": [
    "Bilevel.osqp_solve"
   ]
  },
  {
   "cell_type": "code",
   "execution_count": 13,
   "metadata": {},
   "outputs": [
    {
     "name": "stderr",
     "output_type": "stream",
     "text": [
      "┌ Info: Precompiling OSQP [ab2f91bb-94b4-55e3-9ba0-7f65df51de79]\n",
      "└ @ Base loading.jl:1186\n"
     ]
    }
   ],
   "source": [
    "using OSQP\n",
    "using Compat.SparseArrays"
   ]
  },
  {
   "cell_type": "code",
   "execution_count": 14,
   "metadata": {},
   "outputs": [
    {
     "name": "stdout",
     "output_type": "stream",
     "text": [
      "-----------------------------------------------------------------\n",
      "           OSQP v0.5.0  -  Operator Splitting QP Solver\n",
      "              (c) Bartolomeo Stellato,  Goran Banjac\n",
      "        University of Oxford  -  Stanford University 2018\n",
      "-----------------------------------------------------------------\n",
      "problem:  variables n = 2, constraints m = 3\n",
      "          nnz(P) + nnz(A) = 7\n",
      "settings: linear system solver = qdldl,\n",
      "          eps_abs = 1.0e-03, eps_rel = 1.0e-03,\n",
      "          eps_prim_inf = 1.0e-04, eps_dual_inf = 1.0e-04,\n",
      "          rho = 1.00e-01 (adaptive),\n",
      "          sigma = 1.00e-06, alpha = 1.00, max_iter = 4000\n",
      "          check_termination: on (interval 25),\n",
      "          scaling: on, scaled_termination: off\n",
      "          warm start: on, polish: off\n",
      "\n",
      "iter   objective    pri res    dua res    rho        time\n",
      "   1  -4.9384e-03   1.00e+00   2.00e+02   1.00e-01   4.56e-05s\n",
      "  50   1.8800e+00   1.91e-07   7.50e-07   1.38e+00   3.12e-05s\n",
      "\n",
      "status:               solved\n",
      "number of iterations: 50\n",
      "optimal objective:    1.8800\n",
      "run time:             3.37e-05s\n",
      "optimal rho estimate: 1.36e+00\n",
      "\n"
     ]
    },
    {
     "data": {
      "text/plain": [
       "OSQP.Results([0.3, 0.7], [-2.9, 3.98447e-18, 0.2], OSQP.Info(50, :Solved, 1, 0, 1.8800000386057767, 1.9097236535375542e-7, 7.497118899024711e-7, 2.7342e-5, 6.393e-6, 1.213e-6, 0.0, 3.3735e-5, 1, 6.937973679915e-310), [NaN, NaN, NaN], [NaN, NaN])"
      ]
     },
     "execution_count": 14,
     "metadata": {},
     "output_type": "execute_result"
    }
   ],
   "source": [
    "\n",
    "# Define problem data\n",
    "P = sparse([4. 1.; 1. 2.])\n",
    "q = [1.; 1.]\n",
    "A = sparse([1. 1.; 1. 0.; 0. 1.])\n",
    "l = [1.; 0.; 0.]\n",
    "u = [1.; 0.7; 0.7]\n",
    "\n",
    "# Crate OSQP object\n",
    "prob = OSQP.Model()\n",
    "\n",
    "# Setup workspace and change alpha parameter\n",
    "OSQP.setup!(prob; P=P, q=q, A=A, l=l, u=u, alpha=1)\n",
    "\n",
    "# Solve problem\n",
    "results = OSQP.solve!(prob)"
   ]
  },
  {
   "cell_type": "code",
   "execution_count": 43,
   "metadata": {},
   "outputs": [
    {
     "data": {
      "text/plain": [
       "2-element Array{Float64,1}:\n",
       " 0.30000019111416903\n",
       " 0.6999998090276346 "
      ]
     },
     "execution_count": 43,
     "metadata": {},
     "output_type": "execute_result"
    }
   ],
   "source": [
    "results.x"
   ]
  },
  {
   "cell_type": "code",
   "execution_count": 93,
   "metadata": {},
   "outputs": [
    {
     "data": {
      "text/plain": [
       "5×5 SparseMatrixCSC{Bool,Int64} with 5 stored entries:\n",
       "  [1, 1]  =  true\n",
       "  [2, 2]  =  true\n",
       "  [3, 3]  =  true\n",
       "  [4, 4]  =  true\n",
       "  [5, 5]  =  true"
      ]
     },
     "execution_count": 93,
     "metadata": {},
     "output_type": "execute_result"
    }
   ],
   "source": [
    "blockdiag(sparse(I, 2, 2),sparse(I, 3, 3))"
   ]
  }
 ],
 "metadata": {
  "kernelspec": {
   "display_name": "Julia 1.1.0",
   "language": "julia",
   "name": "julia-1.1"
  },
  "language_info": {
   "file_extension": ".jl",
   "mimetype": "application/julia",
   "name": "julia",
   "version": "1.1.0"
  }
 },
 "nbformat": 4,
 "nbformat_minor": 2
}
