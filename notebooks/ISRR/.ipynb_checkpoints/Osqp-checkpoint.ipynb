{
 "cells": [
  {
   "cell_type": "code",
   "execution_count": 118,
   "metadata": {},
   "outputs": [],
   "source": [
    "using OSQP\n",
    "using SparseArrays\n",
    "using ForwardDiff\n",
    "using LinearAlgebra"
   ]
  },
  {
   "cell_type": "code",
   "execution_count": 364,
   "metadata": {},
   "outputs": [],
   "source": [
    "P = [4. 1.; 2. 2.]\n",
    "q = [1.; 10.]\n",
    "A = [1. 1.; 1. 0.; 0. 1.]\n",
    "l = [9.; 9.; 10.]\n",
    "u = [100.5; 10.7; 10.7]\n",
    "\n",
    "m = size(A,1)\n",
    "n = size(A,2)\n",
    "\n",
    "function osqp_solve(P,q,A,l,u)\n",
    "    prob = OSQP.Model()\n",
    "    OSQP.setup!(prob; P=sparse(P), q=q, A=sparse(A), l=l, u=u, alpha=1., verbose=0, eps_abs=1e-8, eps_rel=1e-8)\n",
    "    results = OSQP.solve!(prob)\n",
    "    \n",
    "    results\n",
    "end\n",
    "\n",
    "function diff_osqp(x::AbstractArray{T}) where T\n",
    "    P = reshape(x[1:n^2],n,n)\n",
    "    q = x[n^2+1:n^2+n]\n",
    "    A = reshape(x[n^2+n+1:n^2+n+n*m],m,n)\n",
    "    l = x[n^2+n+n*m+1:n^2+n+n*m+m]\n",
    "    u = x[n^2+n+n*m+m+1:n^2+n+n*m+m+m]\n",
    "    \n",
    "    if (T<:ForwardDiff.Dual)\n",
    "        Pv = map(ForwardDiff.value, P)\n",
    "        qv = map(ForwardDiff.value, q)\n",
    "        Av = map(ForwardDiff.value, A)\n",
    "        lv = map(ForwardDiff.value, l)\n",
    "        uv = map(ForwardDiff.value, u)\n",
    "        \n",
    "        results = osqp_solve(Pv,qv,Av,lv,uv)\n",
    "        xv = results.x\n",
    "        λ_plus = max.(0., results.y)\n",
    "        λ_minus = min.(0., results.y)\n",
    "        \n",
    "        Gv = vcat(Av, -Av)\n",
    "        hv = vcat(uv, -lv)\n",
    "        λv = vcat(λ_plus, -λ_minus)\n",
    "        \n",
    "        M = vcat(hcat(Pv, Gv'),\n",
    "                 hcat(Diagonal(λv)*Gv, Diagonal(Gv*xv - hv)))\n",
    "                \n",
    "        Pp = map(ForwardDiff.partials, P)\n",
    "        qp = map(ForwardDiff.partials, q)\n",
    "        Ap = map(ForwardDiff.partials, A)\n",
    "        Apt = Ap[reshape(1:m*n,(m,n))']\n",
    "        lp = map(ForwardDiff.partials, l)\n",
    "        up = map(ForwardDiff.partials, u)\n",
    "        \n",
    "        Gp = vcat(Ap, -Ap)\n",
    "        Gpt = hcat(Apt, -Apt)\n",
    "        hp = vcat(up, -lp)\n",
    "                \n",
    "        dres = vcat(Pp*xv + qp + Gpt*λv,\n",
    "                    Diagonal(λv)*(Gp*xv - hp)) \n",
    "        \n",
    "        xp = (-pinv(Matrix(M)) * dres)[1:n]\n",
    "                \n",
    "        sol = map(T, xv, xp)\n",
    "    else    \n",
    "        results = osqp_solve(P,q,A,l,u)\n",
    "        sol = results.x\n",
    "    end\n",
    "    \n",
    "    sol\n",
    "end\n",
    "\n",
    "x0 = vcat(P[:],q[:],A[:],l[:],u[:]);"
   ]
  },
  {
   "cell_type": "code",
   "execution_count": 355,
   "metadata": {},
   "outputs": [
    {
     "data": {
      "text/plain": [
       "2×18 Array{Float64,2}:\n",
       " -3.57628e-7  0.0  -7.15256e-7  …   1.0         0.0  0.0  0.0  0.0\n",
       " -1.19209e-7  0.0   0.0            -1.19209e-7  1.0  0.0  0.0  0.0"
      ]
     },
     "execution_count": 355,
     "metadata": {},
     "output_type": "execute_result"
    }
   ],
   "source": [
    "# numerical\n",
    "sol = diff_osqp(x0)\n",
    "ϵ = sqrt(eps(1.))\n",
    "J_num = zeros(n,length(x0))\n",
    "for i = 1:length(x0)\n",
    "    δ = zeros(length(x0))\n",
    "    δ[i] = ϵ\n",
    "    J_num[:,i] = (diff_osqp(x0 + δ) .- sol)/ϵ\n",
    "end\n",
    "\n",
    "J_num"
   ]
  },
  {
   "cell_type": "code",
   "execution_count": 365,
   "metadata": {},
   "outputs": [
    {
     "data": {
      "text/plain": [
       "6-element Array{ForwardDiff.Partials{18,Float64},1}:\n",
       " Partials(0.0, 0.0, 0.0, 0.0, 0.0, 0.0, 0.0, 0.0, 0.0, 0.0, 0.0, 0.0, 0.0, 0.0, 0.0, 1.0, 0.0, 0.0)                  \n",
       " Partials(0.0, 0.0, 0.0, 0.0, 0.0, 0.0, 0.0, 0.0, 0.0, 0.0, 0.0, 0.0, 0.0, 0.0, 0.0, 0.0, 1.0, 0.0)                  \n",
       " Partials(0.0, 0.0, 0.0, 0.0, 0.0, 0.0, 0.0, 0.0, 0.0, 0.0, 0.0, 0.0, 0.0, 0.0, 0.0, 0.0, 0.0, 1.0)                  \n",
       " Partials(-0.0, -0.0, -0.0, -0.0, -0.0, -0.0, -0.0, -0.0, -0.0, -0.0, -0.0, -0.0, -1.0, -0.0, -0.0, -0.0, -0.0, -0.0)\n",
       " Partials(-0.0, -0.0, -0.0, -0.0, -0.0, -0.0, -0.0, -0.0, -0.0, -0.0, -0.0, -0.0, -0.0, -1.0, -0.0, -0.0, -0.0, -0.0)\n",
       " Partials(-0.0, -0.0, -0.0, -0.0, -0.0, -0.0, -0.0, -0.0, -0.0, -0.0, -0.0, -0.0, -0.0, -0.0, -1.0, -0.0, -0.0, -0.0)"
      ]
     },
     "metadata": {},
     "output_type": "display_data"
    },
    {
     "data": {
      "text/plain": [
       "6-element Array{ForwardDiff.Partials{18,Float64},1}:\n",
       " Partials(0.0, 0.0, 0.0, 0.0, 0.0, 0.0, 0.0, 0.0, 0.0, 0.0, 0.0, 0.0, 0.0, 0.0, 0.0, 1.0, 0.0, 0.0)                  \n",
       " Partials(0.0, 0.0, 0.0, 0.0, 0.0, 0.0, 0.0, 0.0, 0.0, 0.0, 0.0, 0.0, 0.0, 0.0, 0.0, 0.0, 1.0, 0.0)                  \n",
       " Partials(0.0, 0.0, 0.0, 0.0, 0.0, 0.0, 0.0, 0.0, 0.0, 0.0, 0.0, 0.0, 0.0, 0.0, 0.0, 0.0, 0.0, 1.0)                  \n",
       " Partials(-0.0, -0.0, -0.0, -0.0, -0.0, -0.0, -0.0, -0.0, -0.0, -0.0, -0.0, -0.0, -1.0, -0.0, -0.0, -0.0, -0.0, -0.0)\n",
       " Partials(-0.0, -0.0, -0.0, -0.0, -0.0, -0.0, -0.0, -0.0, -0.0, -0.0, -0.0, -0.0, -0.0, -1.0, -0.0, -0.0, -0.0, -0.0)\n",
       " Partials(-0.0, -0.0, -0.0, -0.0, -0.0, -0.0, -0.0, -0.0, -0.0, -0.0, -0.0, -0.0, -0.0, -0.0, -1.0, -0.0, -0.0, -0.0)"
      ]
     },
     "metadata": {},
     "output_type": "display_data"
    },
    {
     "data": {
      "text/plain": [
       "2×18 Array{Float64,2}:\n",
       "  2.11511e-8   3.43706e-17   2.35013e-8   …  2.35013e-9  0.0  0.0  0.0\n",
       " -1.99084e-15  1.02409e-8   -2.21205e-15     1.0         0.0  0.0  0.0"
      ]
     },
     "execution_count": 365,
     "metadata": {},
     "output_type": "execute_result"
    }
   ],
   "source": [
    "cfg1 = ForwardDiff.JacobianConfig(diff_osqp, x0, ForwardDiff.Chunk{length(x0)}())\n",
    "J_auto = ForwardDiff.jacobian(diff_osqp, x0, cfg1)"
   ]
  },
  {
   "cell_type": "code",
   "execution_count": 357,
   "metadata": {},
   "outputs": [
    {
     "data": {
      "text/plain": [
       "2-element Array{Float64,1}:\n",
       " -3.5762786865234375e-7\n",
       " -1.1920928955078125e-7"
      ]
     },
     "metadata": {},
     "output_type": "display_data"
    },
    {
     "data": {
      "text/plain": [
       "2-element Array{Float64,1}:\n",
       "  2.1151132700292964e-8\n",
       " -1.990842250319133e-15"
      ]
     },
     "metadata": {},
     "output_type": "display_data"
    }
   ],
   "source": [
    "# dq\n",
    "display(J_num[:,1])\n",
    "display(J_auto[:,1])"
   ]
  },
  {
   "cell_type": "code",
   "execution_count": 358,
   "metadata": {},
   "outputs": [
    {
     "data": {
      "text/plain": [
       "1.718557875562965e-6"
      ]
     },
     "execution_count": 358,
     "metadata": {},
     "output_type": "execute_result"
    }
   ],
   "source": [
    "maximum(abs.(J_num - J_auto))"
   ]
  },
  {
   "cell_type": "code",
   "execution_count": 359,
   "metadata": {},
   "outputs": [
    {
     "data": {
      "text/plain": [
       "2-element Array{Float64,1}:\n",
       " 8.999999889544085\n",
       " 9.999999955622787"
      ]
     },
     "execution_count": 359,
     "metadata": {},
     "output_type": "execute_result"
    }
   ],
   "source": [
    "sol"
   ]
  },
  {
   "cell_type": "code",
   "execution_count": null,
   "metadata": {},
   "outputs": [],
   "source": [
    "#         results = osqp_solve(Pv,qv,Av,lv,uv)\n",
    "#         solv = results.x\n",
    "#         y = results.y\n",
    "#         y_plus = max.(0., y)\n",
    "#         y_minus = min.(0., y)\n",
    "#         z = Av * solv\n",
    "#         M = vcat(hcat(Pv, Av', zeros(n, n)),\n",
    "#                  hcat(Av, zeros(m, n), -Matrix{Float64}(I, m, m)),\n",
    "#                  hcat(zeros(1, 1), ((z - uv).*(y .>= 0.))', y_plus'),\n",
    "#                  hcat(zeros(1, 1), ((z - lv).*(y .<= 0.))', y_minus'))\n",
    "        \n",
    "#         dres = vcat(Pp*solv + qp + Apt*y,\n",
    "#                     Ap*solv,\n",
    "#                     -sum(y_plus .* up, dims=1),\n",
    "#                     -sum(y_minus .* lp, dims=1))"
   ]
  }
 ],
 "metadata": {
  "kernelspec": {
   "display_name": "Julia 1.1.0",
   "language": "julia",
   "name": "julia-1.1"
  },
  "language_info": {
   "file_extension": ".jl",
   "mimetype": "application/julia",
   "name": "julia",
   "version": "1.1.0"
  }
 },
 "nbformat": 4,
 "nbformat_minor": 2
}
