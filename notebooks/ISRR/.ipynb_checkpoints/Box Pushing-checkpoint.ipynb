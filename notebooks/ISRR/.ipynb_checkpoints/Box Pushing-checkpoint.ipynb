{
 "cells": [
  {
   "cell_type": "code",
   "execution_count": 34,
   "metadata": {},
   "outputs": [],
   "source": [
    "using Revise\n",
    "using Bilevel\n",
    "using Bilevel: VariableSelector, ConstraintSelector, add_var!, add_eq!, add_ineq!, contact_jacobian!, contact_friction_τ_direct!, contact_normal_τ_direct!\n",
    "\n",
    "using RigidBodyDynamics\n",
    "using MeshCatMechanisms\n",
    "using MeshCat\n",
    "using Plots\n",
    "using LinearAlgebra\n",
    "using StaticArrays\n",
    "using ForwardDiff\n",
    "using Base.Threads"
   ]
  },
  {
   "cell_type": "markdown",
   "metadata": {},
   "source": [
    "## Generating data"
   ]
  },
  {
   "cell_type": "code",
   "execution_count": 219,
   "metadata": {},
   "outputs": [
    {
     "data": {
      "text/plain": [
       "Environment(Contact[Contact(Spanning tree:\n",
       "Vertex: world (root)\n",
       "  Vertex: floor, Edge: floor_to_world\n",
       "    Vertex: box, Edge: floor_to_box\n",
       "No non-tree joints., box, Point3D in \"after_floor_to_box\": [0.0, 0.0, -0.0375], Obstacle(floor, Point3D in \"after_floor_to_world\": [0.0, 0.0, 0.0], FreeVector3D in \"after_floor_to_world\": [0.0, 0.0, 1.0], [1.0 6.12323e-17 -1.0 -1.83697e-16; 0.0 1.0 1.22465e-16 -1.0; 0.0 0.0 0.0 0.0], 1.125, false))])"
      ]
     },
     "execution_count": 219,
     "metadata": {},
     "output_type": "execute_result"
    }
   ],
   "source": [
    "urdf = joinpath(\"..\", \"..\", \"urdf\", \"box2d.urdf\")\n",
    "mechanism = parse_urdf(Float64, urdf)\n",
    "\n",
    "floor = findbody(mechanism, \"floor\")\n",
    "point = Point3D(default_frame(floor), SVector([0.,0.,0.]...))\n",
    "normal = FreeVector3D(default_frame(floor), SVector([0.,0.,1.]...))\n",
    "floor_obs = Obstacle(floor, point, normal, :xyz, 1.125)\n",
    "\n",
    "obstacles = [floor_obs]\n",
    "env = Environment(mechanism, urdf, obstacles)"
   ]
  },
  {
   "cell_type": "code",
   "execution_count": 220,
   "metadata": {},
   "outputs": [
    {
     "data": {
      "text/html": [
       "<div class='display:none'></div><unsafe-script style='display:none'>\n",
       "WebIO.mount(this.previousSibling,{&quot;props&quot;:{},&quot;nodeType&quot;:&quot;Scope&quot;,&quot;type&quot;:&quot;node&quot;,&quot;instanceArgs&quot;:{&quot;imports&quot;:{&quot;data&quot;:[],&quot;type&quot;:&quot;async_block&quot;},&quot;id&quot;:&quot;scope-ae888b03-ed59-437c-a026-f58560f01553&quot;,&quot;handlers&quot;:{&quot;_promises&quot;:{&quot;importsLoaded&quot;:[function () {\n",
       "    var frame = this.dom.querySelector(&quot;#ifr&quot;);\n",
       "    var doc = frame.contentDocument\n",
       "    var win = frame.contentWindow\n",
       "\n",
       "    // Ensure that the iframe&#39;s baseURI matches the baseURI of the\n",
       "    // outer document. This is necessary to resolve\n",
       "    // https://github.com/JuliaGizmos/WebIO.jl/issues/167\n",
       "    var base = doc.createElement(&quot;base&quot;);\n",
       "    base.setAttribute(&quot;href&quot;, document.baseURI);\n",
       "    doc.head.appendChild(base);\n",
       "\n",
       "    var webio = doc.createElement(&quot;script&quot;)\n",
       "    webio.src = &quot;/assetserver/b464848323e0a4c9a3cfe11f8edca2932188b6d9-assets/webio/dist/bundle.js&quot;\n",
       "    var parent = window\n",
       "\n",
       "    function resizeIframe() {\n",
       "        doc.body.style.padding = &#39;0&#39;\n",
       "        doc.body.style.margin = &#39;0&#39;\n",
       "        doc.documentElement.height = &#39;100%&#39;\n",
       "        doc.body.height = &#39;100%&#39;\n",
       "    }\n",
       "\n",
       "    webio.onload = function () {\n",
       "        win.WebIO.sendCallback = parent.WebIO.sendCallback; // Share stuff\n",
       "        win.WebIO.scopes = parent.WebIO.scopes\n",
       "        win.WebIO.obsscopes = parent.WebIO.obsscopes\n",
       "        win.WebIO._connected = true\n",
       "        doc.body.innerHTML = &quot;&lt;html&gt;&lt;body&gt;&quot; + &quot;&lt;div class=&#39;display:none&#39;&gt;&lt;/div&gt;&lt;unsafe-script style=&#39;display:none&#39;&gt;\\nWebIO.mount(this.previousSibling,{&amp;quot;props&amp;quot;:{},&amp;quot;nodeType&amp;quot;:&amp;quot;Scope&amp;quot;,&amp;quot;type&amp;quot;:&amp;quot;node&amp;quot;,&amp;quot;instanceArgs&amp;quot;:{&amp;quot;imports&amp;quot;:{&amp;quot;data&amp;quot;:[{&amp;quot;name&amp;quot;:null,&amp;quot;type&amp;quot;:&amp;quot;js&amp;quot;,&amp;quot;url&amp;quot;:&amp;quot;/assetserver/cff5eb7af79db7e6d407febf164549a9fdb258cd-main.min.js&amp;quot;}],&amp;quot;type&amp;quot;:&amp;quot;async_block&amp;quot;},&amp;quot;id&amp;quot;:&amp;quot;scope-cd5db64b-9c0f-4063-8290-3ea255c3fd4a&amp;quot;,&amp;quot;handlers&amp;quot;:{&amp;quot;meshcat-command&amp;quot;:[(function (val){return this.viewer.handle_command_message({&amp;quot;data&amp;quot;:val})})],&amp;quot;_promises&amp;quot;:{&amp;quot;importsLoaded&amp;quot;:[(function (mc){var element=this.dom.children[0]; this.viewer=new mc.Viewer(element); WebIO.setval({&amp;quot;name&amp;quot;:&amp;quot;meshcat-request&amp;quot;,&amp;quot;scope&amp;quot;:&amp;quot;scope-cd5db64b-9c0f-4063-8290-3ea255c3fd4a&amp;quot;,&amp;quot;id&amp;quot;:&amp;quot;ob_08&amp;quot;,&amp;quot;type&amp;quot;:&amp;quot;observable&amp;quot;},String(Date.now())); window.document.body.style.margin=&amp;quot;0&amp;quot;; return window.meshcat_viewer=this.viewer})]}},&amp;quot;systemjs_options&amp;quot;:null,&amp;quot;observables&amp;quot;:{&amp;quot;meshcat-command&amp;quot;:{&amp;quot;sync&amp;quot;:false,&amp;quot;id&amp;quot;:&amp;quot;ob_07&amp;quot;,&amp;quot;value&amp;quot;:[131,166,109,97,116,114,105,120,199,64,23,0,0,128,63,0,0,0,0,0,0,0,0,0,0,0,0,0,0,0,0,0,0,128,63,0,0,0,0,0,0,0,0,0,0,0,0,0,0,0,0,0,0,128,63,0,0,0,0,0,0,0,0,0,0,0,0,0,0,0,0,0,0,128,63,164,116,121,112,101,173,115,101,116,95,116,114,97,110,115,102,111,114,109,164,112,97,116,104,184,47,109,101,115,104,99,97,116,47,119,111,114,108,100,47,102,108,111,111,114,47,98,111,120]},&amp;quot;meshcat-controls&amp;quot;:{&amp;quot;sync&amp;quot;:true,&amp;quot;id&amp;quot;:&amp;quot;ob_09&amp;quot;,&amp;quot;value&amp;quot;:[]},&amp;quot;meshcat-request&amp;quot;:{&amp;quot;sync&amp;quot;:true,&amp;quot;id&amp;quot;:&amp;quot;ob_08&amp;quot;,&amp;quot;value&amp;quot;:&amp;quot;&amp;quot;}}},&amp;quot;children&amp;quot;:[{&amp;quot;props&amp;quot;:{&amp;quot;className&amp;quot;:&amp;quot;meshcat-viewer&amp;quot;,&amp;quot;style&amp;quot;:{&amp;quot;left&amp;quot;:0,&amp;quot;right&amp;quot;:0,&amp;quot;overflow&amp;quot;:&amp;quot;hidden&amp;quot;,&amp;quot;position&amp;quot;:&amp;quot;absolute&amp;quot;,&amp;quot;height&amp;quot;:&amp;quot;100vh&amp;quot;,&amp;quot;margin&amp;quot;:0,&amp;quot;width&amp;quot;:&amp;quot;100vw&amp;quot;}},&amp;quot;nodeType&amp;quot;:&amp;quot;DOM&amp;quot;,&amp;quot;type&amp;quot;:&amp;quot;node&amp;quot;,&amp;quot;instanceArgs&amp;quot;:{&amp;quot;namespace&amp;quot;:&amp;quot;html&amp;quot;,&amp;quot;tag&amp;quot;:&amp;quot;div&amp;quot;},&amp;quot;children&amp;quot;:[]}]})&lt;/unsafe-script&gt;&quot; + &quot;&lt;/body&gt;&lt;/html&gt;&quot;;\n",
       "        setTimeout(function () { resizeIframe() }, 0)\n",
       "    }\n",
       "\n",
       "    doc.body.appendChild(webio)\n",
       "},(function (){return this.dom.style.height=&quot;100%&quot;})]}},&quot;systemjs_options&quot;:null,&quot;observables&quot;:{}},&quot;children&quot;:[{&quot;props&quot;:{&quot;style&quot;:{&quot;flexDirection&quot;:&quot;column&quot;,&quot;height&quot;:&quot;100%&quot;,&quot;minHeight&quot;:&quot;400px&quot;,&quot;display&quot;:&quot;flex&quot;,&quot;width&quot;:&quot;100%&quot;,&quot;overflow&quot;:&quot;hidden&quot;}},&quot;nodeType&quot;:&quot;DOM&quot;,&quot;type&quot;:&quot;node&quot;,&quot;instanceArgs&quot;:{&quot;namespace&quot;:&quot;html&quot;,&quot;tag&quot;:&quot;div&quot;},&quot;children&quot;:[{&quot;props&quot;:{&quot;attributes&quot;:{&quot;height&quot;:&quot;100%&quot;,&quot;scrolling&quot;:&quot;no&quot;,&quot;src&quot;:&quot;javascript:void(0)&quot;,&quot;frameborder&quot;:0},&quot;id&quot;:&quot;ifr&quot;,&quot;style&quot;:{&quot;width&quot;:&quot;100%&quot;,&quot;flexGrow&quot;:&quot;1&quot;}},&quot;nodeType&quot;:&quot;DOM&quot;,&quot;type&quot;:&quot;node&quot;,&quot;instanceArgs&quot;:{&quot;namespace&quot;:&quot;html&quot;,&quot;tag&quot;:&quot;iframe&quot;},&quot;children&quot;:[]}]}]})</unsafe-script>"
      ],
      "text/plain": [
       "WebIO.Scope(\"scope-ae888b03-ed59-437c-a026-f58560f01553\", WebIO.Node{WebIO.DOM}(WebIO.DOM(:html, :div), Any[Node{DOM}(DOM(:html, :iframe), Any[], Dict{Symbol,Any}(:attributes=>Dict{String,Any}(\"height\"=>\"100%\",\"scrolling\"=>\"no\",\"src\"=>\"javascript:void(0)\",\"frameborder\"=>0),:id=>\"ifr\",:style=>Dict(\"width\"=>\"100%\",\"flexGrow\"=>\"1\")), 0)], Dict{Symbol,Any}(:style=>Dict(\"flexDirection\"=>\"column\",\"height\"=>\"100%\",\"minHeight\"=>\"400px\",\"display\"=>\"flex\",\"width\"=>\"100%\",\"overflow\"=>\"hidden\")), 1), Dict{String,Tuple{Observables.AbstractObservable,Union{Nothing, Bool}}}(), Set(String[]), nothing, Any[], Dict{Any,Any}(\"_promises\"=>Dict{Any,Any}(\"importsLoaded\"=>Any[JSString(\"function () {\\n    var frame = this.dom.querySelector(\\\"#ifr\\\");\\n    var doc = frame.contentDocument\\n    var win = frame.contentWindow\\n\\n    // Ensure that the iframe's baseURI matches the baseURI of the\\n    // outer document. This is necessary to resolve\\n    // https://github.com/JuliaGizmos/WebIO.jl/issues/167\\n    var base = doc.createElement(\\\"base\\\");\\n    base.setAttribute(\\\"href\\\", document.baseURI);\\n    doc.head.appendChild(base);\\n\\n    var webio = doc.createElement(\\\"script\\\")\\n    webio.src = \\\"/assetserver/b464848323e0a4c9a3cfe11f8edca2932188b6d9-assets/webio/dist/bundle.js\\\"\\n    var parent = window\\n\\n    function resizeIframe() {\\n        doc.body.style.padding = '0'\\n        doc.body.style.margin = '0'\\n        doc.documentElement.height = '100%'\\n        doc.body.height = '100%'\\n    }\\n\\n    webio.onload = function () {\\n        win.WebIO.sendCallback = parent.WebIO.sendCallback; // Share stuff\\n        win.WebIO.scopes = parent.WebIO.scopes\\n        win.WebIO.obsscopes = parent.WebIO.obsscopes\\n        win.WebIO._connected = true\\n        doc.body.innerHTML = \\\"<html><body>\\\" + \\\"<div class='display:none'></div><unsafe-script style='display:none'>\\\\nWebIO.mount(this.previousSibling,{&quot;props&quot;:{},&quot;nodeType&quot;:&quot;Scope&quot;,&quot;type&quot;:&quot;node&quot;,&quot;instanceArgs&quot;:{&quot;imports&quot;:{&quot;data&quot;:[{&quot;name&quot;:null,&quot;type&quot;:&quot;js&quot;,&quot;url&quot;:&quot;/assetserver/cff5eb7af79db7e6d407febf164549a9fdb258cd-main.min.js&quot;}],&quot;type&quot;:&quot;async_block&quot;},&quot;id&quot;:&quot;scope-cd5db64b-9c0f-4063-8290-3ea255c3fd4a&quot;,&quot;handlers&quot;:{&quot;meshcat-command&quot;:[(function (val){return this.viewer.handle_command_message({&quot;data&quot;:val})})],&quot;_promises&quot;:{&quot;importsLoaded&quot;:[(function (mc){var element=this.dom.children[0]; this.viewer=new mc.Viewer(element); WebIO.setval({&quot;name&quot;:&quot;meshcat-request&quot;,&quot;scope&quot;:&quot;scope-cd5db64b-9c0f-4063-8290-3ea255c3fd4a&quot;,&quot;id&quot;:&quot;ob_08&quot;,&quot;type&quot;:&quot;observable&quot;},String(Date.now())); window.document.body.style.margin=&quot;0&quot;; return window.meshcat_viewer=this.viewer})]}},&quot;systemjs_options&quot;:null,&quot;observables&quot;:{&quot;meshcat-command&quot;:{&quot;sync&quot;:false,&quot;id&quot;:&quot;ob_07&quot;,&quot;value&quot;:[131,166,109,97,116,114,105,120,199,64,23,0,0,128,63,0,0,0,0,0,0,0,0,0,0,0,0,0,0,0,0,0,0,128,63,0,0,0,0,0,0,0,0,0,0,0,0,0,0,0,0,0,0,128,63,0,0,0,0,0,0,0,0,0,0,0,0,0,0,0,0,0,0,128,63,164,116,121,112,101,173,115,101,116,95,116,114,97,110,115,102,111,114,109,164,112,97,116,104,184,47,109,101,115,104,99,97,116,47,119,111,114,108,100,47,102,108,111,111,114,47,98,111,120]},&quot;meshcat-controls&quot;:{&quot;sync&quot;:true,&quot;id&quot;:&quot;ob_09&quot;,&quot;value&quot;:[]},&quot;meshcat-request&quot;:{&quot;sync&quot;:true,&quot;id&quot;:&quot;ob_08&quot;,&quot;value&quot;:&quot;&quot;}}},&quot;children&quot;:[{&quot;props&quot;:{&quot;className&quot;:&quot;meshcat-viewer&quot;,&quot;style&quot;:{&quot;left&quot;:0,&quot;right&quot;:0,&quot;overflow&quot;:&quot;hidden&quot;,&quot;position&quot;:&quot;absolute&quot;,&quot;height&quot;:&quot;100vh&quot;,&quot;margin&quot;:0,&quot;width&quot;:&quot;100vw&quot;}},&quot;nodeType&quot;:&quot;DOM&quot;,&quot;type&quot;:&quot;node&quot;,&quot;instanceArgs&quot;:{&quot;namespace&quot;:&quot;html&quot;,&quot;tag&quot;:&quot;div&quot;},&quot;children&quot;:[]}]})</unsafe-script>\\\" + \\\"</body></html>\\\";\\n        setTimeout(function () { resizeIframe() }, 0)\\n    }\\n\\n    doc.body.appendChild(webio)\\n}\"), JSString(\"(function (){return this.dom.style.height=\\\"100%\\\"})\")])), WebIO.ConnectionPool(Channel{Any}(sz_max:9223372036854775807,sz_curr:0), Set(WebIO.AbstractConnection[]), Channel{WebIO.AbstractConnection}(sz_max:32,sz_curr:0)))"
      ]
     },
     "execution_count": 220,
     "metadata": {},
     "output_type": "execute_result"
    }
   ],
   "source": [
    "mvis = MechanismVisualizer(mechanism, URDFVisuals(urdf))\n",
    "IJuliaCell(mvis)"
   ]
  },
  {
   "cell_type": "code",
   "execution_count": null,
   "metadata": {},
   "outputs": [],
   "source": [
    "widget = manipulate!(mvis)"
   ]
  },
  {
   "cell_type": "code",
   "execution_count": 221,
   "metadata": {},
   "outputs": [
    {
     "data": {
      "text/plain": [
       "(Array{Float64,1}[[0.0, -0.0375, 0.0], [0.589637, -0.0375, 6.82873e-6], [1.06891, -0.0375, 2.04862e-5], [1.43782, -0.0375, 4.09726e-5], [1.69636, -0.0375, 6.82878e-5], [1.84453, -0.0375, 0.000102432], [1.88234, -0.0375, 0.000143405], [1.88234, -0.0375, 0.000186718], [1.88234, -0.0375, 0.00023003], [1.88234, -0.0375, 0.000273342]], Array{Float64,1}[[7.0, 0.0, 0.0], [5.89637, -4.02647e-5, 6.82873e-5], [4.79272, -9.81849e-5, 0.000136575], [3.68907, -0.000151151, 0.000204864], [2.58542, -0.000176552, 0.000273152], [1.48175, -0.000151777, 0.000341442], [0.378072, -5.42156e-5, 0.000409732], [1.62421e-5, -3.51731e-10, 0.000433124], [1.62421e-5, -3.51748e-10, 0.000433124], [1.62421e-5, -3.51748e-10, 0.000433124]], Array{Float64,1}[], Array{Array{Float64,1},1}[[[0.0, 0.0, 0.0, 0.0, 0.0, 0.0]], [[1.00001, 0.0, 0.0, 1.12501, 0.0, 5.89636]], [[1.00002, 0.0, 0.0, 1.12502, 0.0, 4.79272]], [[1.00002, 0.0, 0.0, 1.12503, 0.0, 3.68907]], [[1.00003, 0.0, 0.0, 1.12503, 0.0, 2.5854]], [[1.00004, 0.0, 0.0, 1.12504, 0.0, 1.48174]], [[1.00005, 0.0, 0.0, 1.12505, 0.0, 0.378057]], [[1.00002, 0.0, 1.64943e-21, 0.385378, 6.6666e-10, 4.73081e-14]], [[1.0, 0.192689, 1.64943e-21, 0.192689, 0.0, -3.54809e-14]], [[1.0, 0.192689, 1.64943e-21, 0.192689, 0.0, -3.54809e-14]]], Array{Float64,1}[], [0.0, 0.1, 0.2, 0.3, 0.4, 0.5, 0.6, 0.7, 0.8, 0.9], [0.0 0.589637 … 1.88234 1.88234; -0.0375 -0.0375 … -0.0375 -0.0375; … ; 0.0 -4.02647e-5 … -3.51748e-10 -3.51748e-10; 0.0 6.82873e-5 … 0.000433124 0.000433124], [0.0 0.589637 … 1.88234 1.88234; -0.0375 -0.0375 … -0.0375 -0.0375; … ; 0.0 5.89636 … -3.54809e-14 -3.54809e-14; 0.0 1.00001 … 1.0 1.0])"
      ]
     },
     "execution_count": 221,
     "metadata": {},
     "output_type": "execute_result"
    }
   ],
   "source": [
    "N = 10\n",
    "Δt = 0.1\n",
    "q0 = [0., -0.0375, 0.]\n",
    "v0 = [7., 0., 0.]\n",
    "\n",
    "sim_data = get_sim_data_indirect(mechanism,env,Δt)\n",
    "null_ctrl! = (u,t,x) -> u[:] .= 0.\n",
    "x0 = MechanismState(mechanism)\n",
    "set_configuration!(x0, q0)\n",
    "set_velocity!(x0, v0)\n",
    "setdirty!(x0)\n",
    "traj = Bilevel.simulate(sim_data,null_ctrl!,x0,N)"
   ]
  },
  {
   "cell_type": "code",
   "execution_count": 223,
   "metadata": {},
   "outputs": [],
   "source": [
    "setanimation!(mvis, traj[6], traj[1])"
   ]
  },
  {
   "cell_type": "code",
   "execution_count": 222,
   "metadata": {},
   "outputs": [
    {
     "data": {
      "image/svg+xml": [
       "<?xml version=\"1.0\" encoding=\"utf-8\"?>\n",
       "<svg xmlns=\"http://www.w3.org/2000/svg\" xmlns:xlink=\"http://www.w3.org/1999/xlink\" width=\"600\" height=\"400\" viewBox=\"0 0 2400 1600\">\n",
       "<defs>\n",
       "  <clipPath id=\"clip7000\">\n",
       "    <rect x=\"0\" y=\"0\" width=\"2400\" height=\"1600\"/>\n",
       "  </clipPath>\n",
       "</defs>\n",
       "<polygon clip-path=\"url(#clip7000)\" points=\"\n",
       "0,1600 2400,1600 2400,0 0,0 \n",
       "  \" fill=\"#ffffff\" fill-rule=\"evenodd\" fill-opacity=\"1\"/>\n",
       "<defs>\n",
       "  <clipPath id=\"clip7001\">\n",
       "    <rect x=\"480\" y=\"0\" width=\"1681\" height=\"1600\"/>\n",
       "  </clipPath>\n",
       "</defs>\n",
       "<polygon clip-path=\"url(#clip7000)\" points=\"\n",
       "153.898,1487.47 2352.76,1487.47 2352.76,47.2441 153.898,47.2441 \n",
       "  \" fill=\"#ffffff\" fill-rule=\"evenodd\" fill-opacity=\"1\"/>\n",
       "<defs>\n",
       "  <clipPath id=\"clip7002\">\n",
       "    <rect x=\"153\" y=\"47\" width=\"2200\" height=\"1441\"/>\n",
       "  </clipPath>\n",
       "</defs>\n",
       "<polyline clip-path=\"url(#clip7002)\" style=\"stroke:#000000; stroke-width:2; stroke-opacity:0.1; fill:none\" points=\"\n",
       "  446.618,1487.47 446.618,47.2441 \n",
       "  \"/>\n",
       "<polyline clip-path=\"url(#clip7002)\" style=\"stroke:#000000; stroke-width:2; stroke-opacity:0.1; fill:none\" points=\"\n",
       "  907.595,1487.47 907.595,47.2441 \n",
       "  \"/>\n",
       "<polyline clip-path=\"url(#clip7002)\" style=\"stroke:#000000; stroke-width:2; stroke-opacity:0.1; fill:none\" points=\"\n",
       "  1368.57,1487.47 1368.57,47.2441 \n",
       "  \"/>\n",
       "<polyline clip-path=\"url(#clip7002)\" style=\"stroke:#000000; stroke-width:2; stroke-opacity:0.1; fill:none\" points=\"\n",
       "  1829.55,1487.47 1829.55,47.2441 \n",
       "  \"/>\n",
       "<polyline clip-path=\"url(#clip7002)\" style=\"stroke:#000000; stroke-width:2; stroke-opacity:0.1; fill:none\" points=\"\n",
       "  2290.52,1487.47 2290.52,47.2441 \n",
       "  \"/>\n",
       "<polyline clip-path=\"url(#clip7002)\" style=\"stroke:#000000; stroke-width:2; stroke-opacity:0.1; fill:none\" points=\"\n",
       "  153.898,1446.71 2352.76,1446.71 \n",
       "  \"/>\n",
       "<polyline clip-path=\"url(#clip7002)\" style=\"stroke:#000000; stroke-width:2; stroke-opacity:0.1; fill:none\" points=\"\n",
       "  153.898,1085.81 2352.76,1085.81 \n",
       "  \"/>\n",
       "<polyline clip-path=\"url(#clip7002)\" style=\"stroke:#000000; stroke-width:2; stroke-opacity:0.1; fill:none\" points=\"\n",
       "  153.898,724.897 2352.76,724.897 \n",
       "  \"/>\n",
       "<polyline clip-path=\"url(#clip7002)\" style=\"stroke:#000000; stroke-width:2; stroke-opacity:0.1; fill:none\" points=\"\n",
       "  153.898,363.988 2352.76,363.988 \n",
       "  \"/>\n",
       "<polyline clip-path=\"url(#clip7000)\" style=\"stroke:#000000; stroke-width:4; stroke-opacity:1; fill:none\" points=\"\n",
       "  153.898,1487.47 2352.76,1487.47 \n",
       "  \"/>\n",
       "<polyline clip-path=\"url(#clip7000)\" style=\"stroke:#000000; stroke-width:4; stroke-opacity:1; fill:none\" points=\"\n",
       "  153.898,1487.47 153.898,47.2441 \n",
       "  \"/>\n",
       "<polyline clip-path=\"url(#clip7000)\" style=\"stroke:#000000; stroke-width:4; stroke-opacity:1; fill:none\" points=\"\n",
       "  446.618,1487.47 446.618,1465.87 \n",
       "  \"/>\n",
       "<polyline clip-path=\"url(#clip7000)\" style=\"stroke:#000000; stroke-width:4; stroke-opacity:1; fill:none\" points=\"\n",
       "  907.595,1487.47 907.595,1465.87 \n",
       "  \"/>\n",
       "<polyline clip-path=\"url(#clip7000)\" style=\"stroke:#000000; stroke-width:4; stroke-opacity:1; fill:none\" points=\"\n",
       "  1368.57,1487.47 1368.57,1465.87 \n",
       "  \"/>\n",
       "<polyline clip-path=\"url(#clip7000)\" style=\"stroke:#000000; stroke-width:4; stroke-opacity:1; fill:none\" points=\"\n",
       "  1829.55,1487.47 1829.55,1465.87 \n",
       "  \"/>\n",
       "<polyline clip-path=\"url(#clip7000)\" style=\"stroke:#000000; stroke-width:4; stroke-opacity:1; fill:none\" points=\"\n",
       "  2290.52,1487.47 2290.52,1465.87 \n",
       "  \"/>\n",
       "<polyline clip-path=\"url(#clip7000)\" style=\"stroke:#000000; stroke-width:4; stroke-opacity:1; fill:none\" points=\"\n",
       "  153.898,1446.71 186.881,1446.71 \n",
       "  \"/>\n",
       "<polyline clip-path=\"url(#clip7000)\" style=\"stroke:#000000; stroke-width:4; stroke-opacity:1; fill:none\" points=\"\n",
       "  153.898,1085.81 186.881,1085.81 \n",
       "  \"/>\n",
       "<polyline clip-path=\"url(#clip7000)\" style=\"stroke:#000000; stroke-width:4; stroke-opacity:1; fill:none\" points=\"\n",
       "  153.898,724.897 186.881,724.897 \n",
       "  \"/>\n",
       "<polyline clip-path=\"url(#clip7000)\" style=\"stroke:#000000; stroke-width:4; stroke-opacity:1; fill:none\" points=\"\n",
       "  153.898,363.988 186.881,363.988 \n",
       "  \"/>\n",
       "<g clip-path=\"url(#clip7000)\">\n",
       "<text style=\"fill:#000000; fill-opacity:1; font-family:Arial,Helvetica Neue,Helvetica,sans-serif; font-size:48px; text-anchor:middle;\" transform=\"rotate(0, 446.618, 1541.47)\" x=\"446.618\" y=\"1541.47\">2</text>\n",
       "</g>\n",
       "<g clip-path=\"url(#clip7000)\">\n",
       "<text style=\"fill:#000000; fill-opacity:1; font-family:Arial,Helvetica Neue,Helvetica,sans-serif; font-size:48px; text-anchor:middle;\" transform=\"rotate(0, 907.595, 1541.47)\" x=\"907.595\" y=\"1541.47\">4</text>\n",
       "</g>\n",
       "<g clip-path=\"url(#clip7000)\">\n",
       "<text style=\"fill:#000000; fill-opacity:1; font-family:Arial,Helvetica Neue,Helvetica,sans-serif; font-size:48px; text-anchor:middle;\" transform=\"rotate(0, 1368.57, 1541.47)\" x=\"1368.57\" y=\"1541.47\">6</text>\n",
       "</g>\n",
       "<g clip-path=\"url(#clip7000)\">\n",
       "<text style=\"fill:#000000; fill-opacity:1; font-family:Arial,Helvetica Neue,Helvetica,sans-serif; font-size:48px; text-anchor:middle;\" transform=\"rotate(0, 1829.55, 1541.47)\" x=\"1829.55\" y=\"1541.47\">8</text>\n",
       "</g>\n",
       "<g clip-path=\"url(#clip7000)\">\n",
       "<text style=\"fill:#000000; fill-opacity:1; font-family:Arial,Helvetica Neue,Helvetica,sans-serif; font-size:48px; text-anchor:middle;\" transform=\"rotate(0, 2290.52, 1541.47)\" x=\"2290.52\" y=\"1541.47\">10</text>\n",
       "</g>\n",
       "<g clip-path=\"url(#clip7000)\">\n",
       "<text style=\"fill:#000000; fill-opacity:1; font-family:Arial,Helvetica Neue,Helvetica,sans-serif; font-size:48px; text-anchor:end;\" transform=\"rotate(0, 129.898, 1464.21)\" x=\"129.898\" y=\"1464.21\">0.0</text>\n",
       "</g>\n",
       "<g clip-path=\"url(#clip7000)\">\n",
       "<text style=\"fill:#000000; fill-opacity:1; font-family:Arial,Helvetica Neue,Helvetica,sans-serif; font-size:48px; text-anchor:end;\" transform=\"rotate(0, 129.898, 1103.31)\" x=\"129.898\" y=\"1103.31\">0.5</text>\n",
       "</g>\n",
       "<g clip-path=\"url(#clip7000)\">\n",
       "<text style=\"fill:#000000; fill-opacity:1; font-family:Arial,Helvetica Neue,Helvetica,sans-serif; font-size:48px; text-anchor:end;\" transform=\"rotate(0, 129.898, 742.397)\" x=\"129.898\" y=\"742.397\">1.0</text>\n",
       "</g>\n",
       "<g clip-path=\"url(#clip7000)\">\n",
       "<text style=\"fill:#000000; fill-opacity:1; font-family:Arial,Helvetica Neue,Helvetica,sans-serif; font-size:48px; text-anchor:end;\" transform=\"rotate(0, 129.898, 381.488)\" x=\"129.898\" y=\"381.488\">1.5</text>\n",
       "</g>\n",
       "<polyline clip-path=\"url(#clip7002)\" style=\"stroke:#009af9; stroke-width:4; stroke-opacity:1; fill:none\" points=\"\n",
       "  216.13,1446.71 446.618,1021.1 677.106,675.157 907.595,408.873 1138.08,222.254 1368.57,115.299 1599.06,88.0089 1829.55,88.0077 2060.04,88.0065 2290.52,88.0053 \n",
       "  \n",
       "  \"/>\n",
       "<polygon clip-path=\"url(#clip7000)\" points=\"\n",
       "1989.93,251.724 2280.76,251.724 2280.76,130.764 1989.93,130.764 \n",
       "  \" fill=\"#ffffff\" fill-rule=\"evenodd\" fill-opacity=\"1\"/>\n",
       "<polyline clip-path=\"url(#clip7000)\" style=\"stroke:#000000; stroke-width:4; stroke-opacity:1; fill:none\" points=\"\n",
       "  1989.93,251.724 2280.76,251.724 2280.76,130.764 1989.93,130.764 1989.93,251.724 \n",
       "  \"/>\n",
       "<polyline clip-path=\"url(#clip7000)\" style=\"stroke:#009af9; stroke-width:4; stroke-opacity:1; fill:none\" points=\"\n",
       "  2013.93,191.244 2157.93,191.244 \n",
       "  \"/>\n",
       "<g clip-path=\"url(#clip7000)\">\n",
       "<text style=\"fill:#000000; fill-opacity:1; font-family:Arial,Helvetica Neue,Helvetica,sans-serif; font-size:48px; text-anchor:start;\" transform=\"rotate(0, 2181.93, 208.744)\" x=\"2181.93\" y=\"208.744\">y1</text>\n",
       "</g>\n",
       "</svg>\n"
      ]
     },
     "execution_count": 222,
     "metadata": {},
     "output_type": "execute_result"
    }
   ],
   "source": [
    "plot(traj[7][1,:])"
   ]
  },
  {
   "cell_type": "code",
   "execution_count": 224,
   "metadata": {},
   "outputs": [
    {
     "data": {
      "text/plain": [
       "6-element Array{Float64,1}:\n",
       "  1.882344890668978     \n",
       " -0.037499998634247966  \n",
       "  0.0002733424096741491 \n",
       "  1.6242149717838517e-5 \n",
       " -3.5174761891639743e-10\n",
       "  0.00043312399463335695"
      ]
     },
     "execution_count": 224,
     "metadata": {},
     "output_type": "execute_result"
    }
   ],
   "source": [
    "traj[7][:,end]"
   ]
  },
  {
   "cell_type": "code",
   "execution_count": 225,
   "metadata": {},
   "outputs": [],
   "source": [
    "num_pos = num_positions(mechanism)\n",
    "num_vel = num_velocities(mechanism)\n",
    "\n",
    "sample_vs = VariableSelector()\n",
    "add_var!(sample_vs, :q0, num_pos)\n",
    "add_var!(sample_vs, :v0, num_vel)\n",
    "add_var!(sample_vs, :u0, num_vel)\n",
    "add_var!(sample_vs, :qnext, num_pos)\n",
    "add_var!(sample_vs, :vnext, num_vel)\n",
    "add_var!(sample_vs, :h, 1)\n",
    "\n",
    "data = Array{Array{Float64,1},1}()\n",
    "\n",
    "for n = 1:N-1\n",
    "    q0 = traj[1][n]\n",
    "    v0 = traj[2][n]\n",
    "    u0 = zeros(num_vel)\n",
    "    qnext = traj[1][n+1]\n",
    "    vnext = traj[2][n+1]\n",
    "    h = traj[6][n+1] - traj[6][n]\n",
    "    \n",
    "    sample = zeros(Float64, sample_vs.num_vars)\n",
    "    sample[sample_vs(:q0)] = q0\n",
    "    sample[sample_vs(:v0)] = v0\n",
    "    sample[sample_vs(:u0)] = u0\n",
    "    sample[sample_vs(:qnext)] = qnext\n",
    "    sample[sample_vs(:vnext)] = vnext\n",
    "    sample[sample_vs(:h)] = [h]\n",
    "    \n",
    "    push!(data, sample)\n",
    "end"
   ]
  },
  {
   "cell_type": "markdown",
   "metadata": {},
   "source": [
    "## Bilevel parameter estimation"
   ]
  },
  {
   "cell_type": "code",
   "execution_count": 233,
   "metadata": {},
   "outputs": [],
   "source": [
    "vs = VariableSelector()\n",
    "cs = ConstraintSelector()\n",
    "add_var!(vs, :μ, 1)\n",
    "add_ineq!(cs, :μ_pos, 1)\n",
    "\n",
    "function generate_solver_fn_estimation_direct(data, sample_vs)    \n",
    "    sim_data = get_sim_data_direct(mechanism,env,Δt)\n",
    "    num_contacts = length(sim_data.env.contacts)\n",
    "    num_vel = num_velocities(mechanism)\n",
    "    num_samples = length(data)\n",
    "    \n",
    "    sim_data.normal_options[1][\"num_fosteps\"] = 0\n",
    "    sim_data.normal_options[1][\"num_sosteps\"] = 25\n",
    "    sim_data.normal_options[1][\"c\"] = 1\n",
    "    sim_data.normal_options[1][\"c_fos\"] = 1\n",
    "    sim_data.normal_options[1][\"c_sos\"] = 1\n",
    "\n",
    "    sim_data.fric_options[1][\"num_fosteps\"] = 0\n",
    "    sim_data.fric_options[1][\"num_sosteps\"] = 25\n",
    "    sim_data.fric_options[1][\"c\"] = 1\n",
    "    sim_data.fric_options[1][\"c_fos\"] = 1\n",
    "    sim_data.fric_options[1][\"c_sos\"] = 1\n",
    "    \n",
    "    function eval_obj(params::AbstractArray{T}) where T\n",
    "        # set the friction coefficient for the floor\n",
    "        obstacles[1].μ = vs(params, :μ)[1]\n",
    "        \n",
    "        # evaluate the dynamics residual on each datapoint as an inner problem\n",
    "        losses = Array{T,1}(undef, num_samples)\n",
    "        @threads for i = 1:num_samples\n",
    "            sample = data[i]\n",
    "            q0 = sample_vs(sample, :q0)\n",
    "            v0 = sample_vs(sample, :v0)\n",
    "            u0 = sample_vs(sample, :u0)\n",
    "            qnext = sample_vs(sample, :qnext)\n",
    "            vnext = sample_vs(sample, :vnext)\n",
    "            h = sample_vs(sample, :h)[1]\n",
    "\n",
    "            x0 = sim_data.state_cache[1][Float64]\n",
    "            xn = sim_data.state_cache[2][Float64]\n",
    "            envj = sim_data.envj_cache[2][Float64]\n",
    "\n",
    "            set_configuration!(x0, q0)\n",
    "            set_velocity!(x0, v0)\n",
    "            setdirty!(x0)\n",
    "            set_configuration!(xn, qnext)\n",
    "            set_velocity!(xn, vnext)\n",
    "            setdirty!(xn)\n",
    "\n",
    "            normalize_configuration!(x0)\n",
    "            normalize_configuration!(xn)\n",
    "\n",
    "            H = mass_matrix(x0)\n",
    "            Hi = inv(H)\n",
    "            config_derivative = configuration_derivative(xn)\n",
    "            dyn_bias = dynamics_bias(xn)\n",
    "\n",
    "            contact_jacobian!(envj, xn)\n",
    "            normal_bias = Vector{T}(undef, num_vel)\n",
    "            contact_bias = Vector{T}(undef, num_vel)\n",
    "            \n",
    "            x_normal = contact_normal_τ_direct!(normal_bias, sim_data, h, Hi, envj, dyn_bias, u0, v0, params, 1)\n",
    "            # for now assume distributed normal force\n",
    "            x_normal ./= num_contacts\n",
    "            \n",
    "            contact_friction_τ_direct!(contact_bias, sim_data, h, Hi, envj, dyn_bias, u0, v0, params, x_normal, 1)\n",
    "        \n",
    "            contact_bias_exp = u0 .- dyn_bias .- (1. / h) * H * (vnext - v0)\n",
    "            \n",
    "            # if (T<:ForwardDiff.Dual)\n",
    "            #     display(map(ForwardDiff.value, map(ForwardDiff.value, contact_bias)))\n",
    "            #     display(map(ForwardDiff.value, contact_bias_exp))\n",
    "            # end\n",
    "                \n",
    "            err = contact_bias - contact_bias_exp\n",
    "            loss = err'*err\n",
    "            \n",
    "            losses[i] = loss\n",
    "        end\n",
    "        \n",
    "        # add losses\n",
    "        sum(losses)\n",
    "    end\n",
    "\n",
    "    function eval_cons(params::AbstractArray{T}) where T        \n",
    "        # friction coeffs are positive\n",
    "        g = Vector{T}(undef, cs.num_eqs + cs.num_ineqs)\n",
    "        μ = params[1]\n",
    "        g[cs(:μ_pos)] .= [1e-6 - μ]\n",
    "        \n",
    "        g\n",
    "    end\n",
    "    \n",
    "    return Bilevel.generate_autodiff_solver_fn(eval_obj,eval_cons,cs.eqs,cs.ineqs,vs.num_vars,hessian=false)\n",
    "end\n",
    "\n",
    "solver_fn = generate_solver_fn_estimation_direct(data, sample_vs)\n",
    "\n",
    "μ0 = [.1]\n",
    "options = Dict{String, Any}()\n",
    "options[\"Derivative option\"] = 1\n",
    "options[\"Verify level\"] = -1\n",
    "options[\"Major optimality tolerance\"] = 1e-6\n",
    "options[\"Scale option\"] = 2;"
   ]
  },
  {
   "cell_type": "code",
   "execution_count": 234,
   "metadata": {},
   "outputs": [
    {
     "data": {
      "text/plain": [
       "([1.125], \"Finished successfully: optimality conditions satisfied\")"
      ]
     },
     "execution_count": 234,
     "metadata": {},
     "output_type": "execute_result"
    }
   ],
   "source": [
    "μopt, info = Bilevel.snopt(solver_fn, cs.num_eqs, cs.num_ineqs, μ0, options)"
   ]
  },
  {
   "cell_type": "code",
   "execution_count": 227,
   "metadata": {},
   "outputs": [
    {
     "data": {
      "text/plain": [
       "(13.560367605056136, Float64[], [-0.199999], [-30.0975], Array{Float64}(0,1), [-1.0], [0.0])"
      ]
     },
     "metadata": {},
     "output_type": "display_data"
    },
    {
     "data": {
      "text/plain": [
       "(6.149656264141305, Float64[], [-0.499999], [-19.6789], Array{Float64}(0,1), [-1.0], [0.0])"
      ]
     },
     "metadata": {},
     "output_type": "display_data"
    },
    {
     "data": {
      "text/plain": [
       "(2.2138762625396966, Float64[], [-0.749999], [-11.8073], Array{Float64}(0,1), [-1.0], [0.0])"
      ]
     },
     "metadata": {},
     "output_type": "display_data"
    },
    {
     "data": {
      "text/plain": [
       "(0.24598625476359556, Float64[], [-0.999999], [-3.93578], Array{Float64}(0,1), [-1.0], [0.0])"
      ]
     },
     "metadata": {},
     "output_type": "display_data"
    },
    {
     "data": {
      "text/plain": [
       "(6.600500832989247e-15, Float64[], [-1.125], [-3.68666e-7], Array{Float64}(0,1), [-1.0], [0.0])"
      ]
     },
     "metadata": {},
     "output_type": "display_data"
    },
    {
     "data": {
      "text/plain": [
       "(0.2459862477505096, Float64[], [-1.25], [3.93578], Array{Float64}(0,1), [-1.0], [0.0])"
      ]
     },
     "metadata": {},
     "output_type": "display_data"
    },
    {
     "data": {
      "text/plain": [
       "(2.2138762427592074, Float64[], [-1.5], [11.8073], Array{Float64}(0,1), [-1.0], [0.0])"
      ]
     },
     "metadata": {},
     "output_type": "display_data"
    },
    {
     "data": {
      "text/plain": [
       "(10.434024863056557, Float64[], [-2.0], [22.9585], Array{Float64}(0,1), [-1.0], [0.0])"
      ]
     },
     "metadata": {},
     "output_type": "display_data"
    }
   ],
   "source": [
    "display(solver_fn([.2]))\n",
    "display(solver_fn([.5]))\n",
    "display(solver_fn([.75]))\n",
    "display(solver_fn([1.]))\n",
    "display(solver_fn([1.125]))\n",
    "display(solver_fn([1.25]))\n",
    "display(solver_fn([1.5]))\n",
    "display(solver_fn([2.]))"
   ]
  },
  {
   "cell_type": "markdown",
   "metadata": {},
   "source": [
    "## Bilevel trajectory optimization (box only)"
   ]
  },
  {
   "cell_type": "code",
   "execution_count": 255,
   "metadata": {},
   "outputs": [
    {
     "data": {
      "text/plain": [
       "get_prob_init (generic function with 1 method)"
      ]
     },
     "execution_count": 255,
     "metadata": {},
     "output_type": "execute_result"
    }
   ],
   "source": [
    "μ_estimate = 1.125\n",
    "\n",
    "obstacles[1].μ = μ_estimate\n",
    "\n",
    "q1 = [0., -0.0375, 0.]\n",
    "qN = [1.9, -0.0375, 0.]\n",
    "N = 10\n",
    "Δt = .1\n",
    "\n",
    "q_min = [-5., -5., -2*pi]\n",
    "q_max = [5., 5., 2*pi]\n",
    "\n",
    "function get_prob_limits(sim_data)\n",
    "    x_min = -1e19*ones(sim_data.vs.num_vars)\n",
    "    x_max = 1e19*ones(sim_data.vs.num_vars)\n",
    "    \n",
    "    # joint limits\n",
    "    add_box_con_snopt!(x_min, x_max, sim_data, :q, q_min, q_max, 1:N)\n",
    "    add_box_con_snopt!(x_min, x_max, sim_data, :h, [.9*Δt], [1.1*Δt], 1:N-1)\n",
    "    \n",
    "    # torques limits\n",
    "    add_box_con_snopt!(x_min, x_max, sim_data, :u, zeros(num_velocities(mechanism)), zeros(num_velocities(mechanism)), 1:N-1)\n",
    "\n",
    "    x_min, x_max\n",
    "end\n",
    "\n",
    "function add_prob_constraints!(sim_data)\n",
    "    vs = sim_data.vs\n",
    "\n",
    "    add_eq!(sim_data, :cq1, length(q1), x -> vs(x, :q1) - q1)\n",
    "    add_eq!(sim_data, :cqN, length(qN), x -> vs(x, Symbol(\"q\", N)) - qN)\n",
    "    add_eq!(sim_data, :cv1, 1, x -> vs(x, :v1)[2])\n",
    "    add_eq!(sim_data, :cvN, 1, x -> vs(x, Symbol(\"v\", N))[1])\n",
    "end\n",
    "\n",
    "function get_prob_init(sim_data)\n",
    "    x0 = zeros(sim_data.vs.num_vars)\n",
    "    for n = 1:N\n",
    "        x0[sim_data.vs(Symbol(\"q\", n))] .= n/N*(qN - q1) + q1\n",
    "    end\n",
    "    \n",
    "    x0\n",
    "end"
   ]
  },
  {
   "cell_type": "code",
   "execution_count": 256,
   "metadata": {},
   "outputs": [
    {
     "name": "stdout",
     "output_type": "stream",
     "text": [
      "The problem appears to be infeasible: nonlinear infeasibilities minimized\n"
     ]
    },
    {
     "data": {
      "text/plain": [
       "(Array{Float64,1}[[0.0, -0.0375, 0.0], [0.647074, -0.0375, -2.67472e-5], [1.09876, -0.0375, -4.34566e-5], [1.49938, -0.0375, -5.49544e-5], [1.76646, -0.0375, -5.81895e-5], [1.9, -0.0375, -5.31619e-5], [1.9, -0.0375, -3.98714e-5], [1.9, -0.0375, -2.65809e-5], [1.9, -0.0375, -1.32905e-5], [1.9, -0.0375, 0.0]], Array{Float64,1}[[7.09644, 0.0, -0.00031827], [5.88249, 0.000157341, -0.000243156], [4.85596, 0.000211018, -0.00017964], [3.64199, 0.000200143, -0.000104525], [2.428, 0.000141284, -2.941e-5], [1.21401, 6.45389e-5, 4.57059e-5], [4.53084e-6, -3.01085e-11, 0.000120822], [4.53157e-6, -3.00092e-11, 0.000120822], [4.53084e-6, -2.98777e-11, 0.000120822], [4.53084e-6, -2.98475e-11, 0.000120822]], Array{Float64,1}[[0.0, 0.0, 0.0], [0.0, 0.0, 0.0], [0.0, 0.0, 0.0], [0.0, 0.0, 0.0], [0.0, 0.0, 0.0], [0.0, 0.0, 0.0], [0.0, 0.0, 0.0], [0.0, 0.0, 0.0], [0.0, 0.0, 0.0]], [0.11, 0.0930164, 0.11, 0.11, 0.11, 0.11, 0.11, 0.11, 0.11], Array{Float64,1}[[0.99997, 0.0, 2.02682e-17, 1.12497, 1.71501e-17, 5.8825], [0.999981, 0.0, 0.0, 1.12498, 0.0, 4.85597], [0.999987, 3.04072e-18, 0.0, 1.12499, 0.0, 3.64199], [0.999996, 3.88942e-15, 0.0, 1.125, 1.29247e-26, 2.428], [1.00001, 0.0, 0.0, 1.12501, 0.0, 1.21401], [1.00001, 3.99214e-7, 0.0, 1.12502, 0.0, -3.46945e-17], [1.0, 0.0, 0.0, -6.78955e-10, 0.0, -7.3266e-10], [1.0, 0.0, 1.125, 6.78952e-10, 0.0, 7.36352e-15], [1.0, 0.5625, 0.0, 0.5625, 0.0, -8.18604e-15]], Array{Float64,1}[], [0.0, 0.11, 0.203016, 0.313016, 0.423016, 0.533016, 0.643016, 0.753016, 0.863016, 0.973016], [0.0 0.647074 … 1.9 1.9; -0.0375 -0.0375 … -0.0375 -0.0375; … ; 0.0 0.000157341 … -2.98777e-11 -2.98475e-11; -0.00031827 -0.000243156 … 0.000120822 0.000120822])"
      ]
     },
     "execution_count": 256,
     "metadata": {},
     "output_type": "execute_result"
    }
   ],
   "source": [
    "sim_data = get_trajopt_data_indirect(mechanism,env,Δt,N,relax_comp=false)\n",
    "add_prob_constraints!(sim_data)\n",
    "x_min, x_max = get_prob_limits(sim_data)\n",
    "x0 = get_prob_init(sim_data)\n",
    "traj_indirect = Bilevel.trajopt(sim_data, x0=x0, x_min=x_min, x_max=x_max, verbose=1)"
   ]
  },
  {
   "cell_type": "code",
   "execution_count": 267,
   "metadata": {},
   "outputs": [
    {
     "name": "stdout",
     "output_type": "stream",
     "text": [
      "Terminated after numerical difficulties: singular basis\n"
     ]
    },
    {
     "data": {
      "text/plain": [
       "(Array{Float64,1}[[0.0, -0.0375, 0.0], [0.0954017, -0.0375, -1.71899e-6], [0.248591, -0.3748, -3.81996e-6], [0.489549, -0.563837, -5.53173e-6], [0.781923, -0.679048, -7.62873e-6], [1.02288, -0.69543, -9.3405e-6], [1.31525, -0.594821, -1.14375e-5], [1.60763, -0.375511, -1.35345e-5], [1.9, -0.0375, -1.56315e-5], [1.9, -0.0375, 0.0]], Array{Float64,1}[[0.885052, 0.0, -7.3863e-5], [1.06003, -4.08795, -1.90999e-5], [1.39729, -3.00936, -1.90637e-5], [2.65796, -2.12646, -1.90637e-5], [2.65795, -1.04735, -1.90637e-5], [2.65794, -0.164449, -1.90637e-5], [2.65793, 0.914657, -1.90637e-5], [2.65791, 1.99376, -1.90637e-5], [2.65789, 3.07287, -1.90637e-5], [0.0, -5.08267e-11, 0.000145393]], Array{Float64,1}[[0.0, 0.0, 0.0], [0.0, 0.0, 0.0], [0.0, 0.0, 0.0], [0.0, 0.0, 0.0], [0.0, 0.0, 0.0], [0.0, 0.0, 0.0], [0.0, 0.0, 0.0], [0.0, 0.0, 0.0], [0.0, 0.0, 0.0]], [0.09, 0.11, 0.09, 0.11, 0.09, 0.11, 0.11, 0.11, 0.107595], Array{Float64,1}[[5.63013], [0.0], [0.0], [0.0], [0.0], [0.0], [-5.16988e-26], [0.0], [3.90858]], Array{Float64,1}[], [0.0, 0.09, 0.2, 0.29, 0.4, 0.49, 0.6, 0.71, 0.82, 0.927595], [0.0 0.0954017 … 1.9 1.9; -0.0375 -0.0375 … -0.0375 -0.0375; … ; 0.0 -4.08795 … 3.07287 -5.08267e-11; -7.3863e-5 -1.90999e-5 … -1.90637e-5 0.000145393])"
      ]
     },
     "execution_count": 267,
     "metadata": {},
     "output_type": "execute_result"
    }
   ],
   "source": [
    "sim_data = get_trajopt_data_semidirect(mechanism,env,Δt,N,relax_comp=false)\n",
    "add_prob_constraints!(sim_data)\n",
    "x_min, x_max = get_prob_limits(sim_data)\n",
    "x0 = get_prob_init(sim_data)\n",
    "traj_semidirect = Bilevel.trajopt(sim_data, x0=x0, x_min=x_min, x_max=x_max, verbose=1)"
   ]
  },
  {
   "cell_type": "code",
   "execution_count": 268,
   "metadata": {},
   "outputs": [
    {
     "data": {
      "image/svg+xml": [
       "<?xml version=\"1.0\" encoding=\"utf-8\"?>\n",
       "<svg xmlns=\"http://www.w3.org/2000/svg\" xmlns:xlink=\"http://www.w3.org/1999/xlink\" width=\"600\" height=\"400\" viewBox=\"0 0 2400 1600\">\n",
       "<defs>\n",
       "  <clipPath id=\"clip2600\">\n",
       "    <rect x=\"0\" y=\"0\" width=\"2400\" height=\"1600\"/>\n",
       "  </clipPath>\n",
       "</defs>\n",
       "<polygon clip-path=\"url(#clip2600)\" points=\"\n",
       "0,1600 2400,1600 2400,0 0,0 \n",
       "  \" fill=\"#ffffff\" fill-rule=\"evenodd\" fill-opacity=\"1\"/>\n",
       "<defs>\n",
       "  <clipPath id=\"clip2601\">\n",
       "    <rect x=\"480\" y=\"0\" width=\"1681\" height=\"1600\"/>\n",
       "  </clipPath>\n",
       "</defs>\n",
       "<polygon clip-path=\"url(#clip2600)\" points=\"\n",
       "153.898,1487.47 2352.76,1487.47 2352.76,47.2441 153.898,47.2441 \n",
       "  \" fill=\"#ffffff\" fill-rule=\"evenodd\" fill-opacity=\"1\"/>\n",
       "<defs>\n",
       "  <clipPath id=\"clip2602\">\n",
       "    <rect x=\"153\" y=\"47\" width=\"2200\" height=\"1441\"/>\n",
       "  </clipPath>\n",
       "</defs>\n",
       "<polyline clip-path=\"url(#clip2602)\" style=\"stroke:#000000; stroke-width:2; stroke-opacity:0.1; fill:none\" points=\"\n",
       "  216.13,1487.47 216.13,47.2441 \n",
       "  \"/>\n",
       "<polyline clip-path=\"url(#clip2602)\" style=\"stroke:#000000; stroke-width:2; stroke-opacity:0.1; fill:none\" points=\"\n",
       "  749.11,1487.47 749.11,47.2441 \n",
       "  \"/>\n",
       "<polyline clip-path=\"url(#clip2602)\" style=\"stroke:#000000; stroke-width:2; stroke-opacity:0.1; fill:none\" points=\"\n",
       "  1282.09,1487.47 1282.09,47.2441 \n",
       "  \"/>\n",
       "<polyline clip-path=\"url(#clip2602)\" style=\"stroke:#000000; stroke-width:2; stroke-opacity:0.1; fill:none\" points=\"\n",
       "  1815.07,1487.47 1815.07,47.2441 \n",
       "  \"/>\n",
       "<polyline clip-path=\"url(#clip2602)\" style=\"stroke:#000000; stroke-width:2; stroke-opacity:0.1; fill:none\" points=\"\n",
       "  2348.05,1487.47 2348.05,47.2441 \n",
       "  \"/>\n",
       "<polyline clip-path=\"url(#clip2602)\" style=\"stroke:#000000; stroke-width:2; stroke-opacity:0.1; fill:none\" points=\"\n",
       "  153.898,1446.71 2352.76,1446.71 \n",
       "  \"/>\n",
       "<polyline clip-path=\"url(#clip2602)\" style=\"stroke:#000000; stroke-width:2; stroke-opacity:0.1; fill:none\" points=\"\n",
       "  153.898,1089.16 2352.76,1089.16 \n",
       "  \"/>\n",
       "<polyline clip-path=\"url(#clip2602)\" style=\"stroke:#000000; stroke-width:2; stroke-opacity:0.1; fill:none\" points=\"\n",
       "  153.898,731.604 2352.76,731.604 \n",
       "  \"/>\n",
       "<polyline clip-path=\"url(#clip2602)\" style=\"stroke:#000000; stroke-width:2; stroke-opacity:0.1; fill:none\" points=\"\n",
       "  153.898,374.049 2352.76,374.049 \n",
       "  \"/>\n",
       "<polyline clip-path=\"url(#clip2600)\" style=\"stroke:#000000; stroke-width:4; stroke-opacity:1; fill:none\" points=\"\n",
       "  153.898,1487.47 2352.76,1487.47 \n",
       "  \"/>\n",
       "<polyline clip-path=\"url(#clip2600)\" style=\"stroke:#000000; stroke-width:4; stroke-opacity:1; fill:none\" points=\"\n",
       "  153.898,1487.47 153.898,47.2441 \n",
       "  \"/>\n",
       "<polyline clip-path=\"url(#clip2600)\" style=\"stroke:#000000; stroke-width:4; stroke-opacity:1; fill:none\" points=\"\n",
       "  216.13,1487.47 216.13,1465.87 \n",
       "  \"/>\n",
       "<polyline clip-path=\"url(#clip2600)\" style=\"stroke:#000000; stroke-width:4; stroke-opacity:1; fill:none\" points=\"\n",
       "  749.11,1487.47 749.11,1465.87 \n",
       "  \"/>\n",
       "<polyline clip-path=\"url(#clip2600)\" style=\"stroke:#000000; stroke-width:4; stroke-opacity:1; fill:none\" points=\"\n",
       "  1282.09,1487.47 1282.09,1465.87 \n",
       "  \"/>\n",
       "<polyline clip-path=\"url(#clip2600)\" style=\"stroke:#000000; stroke-width:4; stroke-opacity:1; fill:none\" points=\"\n",
       "  1815.07,1487.47 1815.07,1465.87 \n",
       "  \"/>\n",
       "<polyline clip-path=\"url(#clip2600)\" style=\"stroke:#000000; stroke-width:4; stroke-opacity:1; fill:none\" points=\"\n",
       "  2348.05,1487.47 2348.05,1465.87 \n",
       "  \"/>\n",
       "<polyline clip-path=\"url(#clip2600)\" style=\"stroke:#000000; stroke-width:4; stroke-opacity:1; fill:none\" points=\"\n",
       "  153.898,1446.71 186.881,1446.71 \n",
       "  \"/>\n",
       "<polyline clip-path=\"url(#clip2600)\" style=\"stroke:#000000; stroke-width:4; stroke-opacity:1; fill:none\" points=\"\n",
       "  153.898,1089.16 186.881,1089.16 \n",
       "  \"/>\n",
       "<polyline clip-path=\"url(#clip2600)\" style=\"stroke:#000000; stroke-width:4; stroke-opacity:1; fill:none\" points=\"\n",
       "  153.898,731.604 186.881,731.604 \n",
       "  \"/>\n",
       "<polyline clip-path=\"url(#clip2600)\" style=\"stroke:#000000; stroke-width:4; stroke-opacity:1; fill:none\" points=\"\n",
       "  153.898,374.049 186.881,374.049 \n",
       "  \"/>\n",
       "<g clip-path=\"url(#clip2600)\">\n",
       "<text style=\"fill:#000000; fill-opacity:1; font-family:Arial,Helvetica Neue,Helvetica,sans-serif; font-size:48px; text-anchor:middle;\" transform=\"rotate(0, 216.13, 1541.47)\" x=\"216.13\" y=\"1541.47\">0.00</text>\n",
       "</g>\n",
       "<g clip-path=\"url(#clip2600)\">\n",
       "<text style=\"fill:#000000; fill-opacity:1; font-family:Arial,Helvetica Neue,Helvetica,sans-serif; font-size:48px; text-anchor:middle;\" transform=\"rotate(0, 749.11, 1541.47)\" x=\"749.11\" y=\"1541.47\">0.25</text>\n",
       "</g>\n",
       "<g clip-path=\"url(#clip2600)\">\n",
       "<text style=\"fill:#000000; fill-opacity:1; font-family:Arial,Helvetica Neue,Helvetica,sans-serif; font-size:48px; text-anchor:middle;\" transform=\"rotate(0, 1282.09, 1541.47)\" x=\"1282.09\" y=\"1541.47\">0.50</text>\n",
       "</g>\n",
       "<g clip-path=\"url(#clip2600)\">\n",
       "<text style=\"fill:#000000; fill-opacity:1; font-family:Arial,Helvetica Neue,Helvetica,sans-serif; font-size:48px; text-anchor:middle;\" transform=\"rotate(0, 1815.07, 1541.47)\" x=\"1815.07\" y=\"1541.47\">0.75</text>\n",
       "</g>\n",
       "<g clip-path=\"url(#clip2600)\">\n",
       "<text style=\"fill:#000000; fill-opacity:1; font-family:Arial,Helvetica Neue,Helvetica,sans-serif; font-size:48px; text-anchor:middle;\" transform=\"rotate(0, 2348.05, 1541.47)\" x=\"2348.05\" y=\"1541.47\">1.00</text>\n",
       "</g>\n",
       "<g clip-path=\"url(#clip2600)\">\n",
       "<text style=\"fill:#000000; fill-opacity:1; font-family:Arial,Helvetica Neue,Helvetica,sans-serif; font-size:48px; text-anchor:end;\" transform=\"rotate(0, 129.898, 1464.21)\" x=\"129.898\" y=\"1464.21\">0.0</text>\n",
       "</g>\n",
       "<g clip-path=\"url(#clip2600)\">\n",
       "<text style=\"fill:#000000; fill-opacity:1; font-family:Arial,Helvetica Neue,Helvetica,sans-serif; font-size:48px; text-anchor:end;\" transform=\"rotate(0, 129.898, 1106.66)\" x=\"129.898\" y=\"1106.66\">0.5</text>\n",
       "</g>\n",
       "<g clip-path=\"url(#clip2600)\">\n",
       "<text style=\"fill:#000000; fill-opacity:1; font-family:Arial,Helvetica Neue,Helvetica,sans-serif; font-size:48px; text-anchor:end;\" transform=\"rotate(0, 129.898, 749.104)\" x=\"129.898\" y=\"749.104\">1.0</text>\n",
       "</g>\n",
       "<g clip-path=\"url(#clip2600)\">\n",
       "<text style=\"fill:#000000; fill-opacity:1; font-family:Arial,Helvetica Neue,Helvetica,sans-serif; font-size:48px; text-anchor:end;\" transform=\"rotate(0, 129.898, 391.549)\" x=\"129.898\" y=\"391.549\">1.5</text>\n",
       "</g>\n",
       "<polyline clip-path=\"url(#clip2602)\" style=\"stroke:#e34a33; stroke-width:16; stroke-opacity:1; fill:none\" points=\"\n",
       "  216.13,1446.71 450.641,983.985 648.945,660.981 883.456,374.495 1117.97,183.503 1352.48,88.0068 1586.99,88.0064 1821.5,88.0061 2056.01,88.0057 2290.52,88.0053 \n",
       "  \n",
       "  \"/>\n",
       "<circle clip-path=\"url(#clip2602)\" style=\"fill:#000000; stroke:none; fill-opacity:1\" cx=\"216.13\" cy=\"1446.71\" r=\"25\"/>\n",
       "<circle clip-path=\"url(#clip2602)\" style=\"fill:#e34a33; stroke:none; fill-opacity:1\" cx=\"216.13\" cy=\"1446.71\" r=\"21\"/>\n",
       "<circle clip-path=\"url(#clip2602)\" style=\"fill:#000000; stroke:none; fill-opacity:1\" cx=\"450.641\" cy=\"983.985\" r=\"25\"/>\n",
       "<circle clip-path=\"url(#clip2602)\" style=\"fill:#e34a33; stroke:none; fill-opacity:1\" cx=\"450.641\" cy=\"983.985\" r=\"21\"/>\n",
       "<circle clip-path=\"url(#clip2602)\" style=\"fill:#000000; stroke:none; fill-opacity:1\" cx=\"648.945\" cy=\"660.981\" r=\"25\"/>\n",
       "<circle clip-path=\"url(#clip2602)\" style=\"fill:#e34a33; stroke:none; fill-opacity:1\" cx=\"648.945\" cy=\"660.981\" r=\"21\"/>\n",
       "<circle clip-path=\"url(#clip2602)\" style=\"fill:#000000; stroke:none; fill-opacity:1\" cx=\"883.456\" cy=\"374.495\" r=\"25\"/>\n",
       "<circle clip-path=\"url(#clip2602)\" style=\"fill:#e34a33; stroke:none; fill-opacity:1\" cx=\"883.456\" cy=\"374.495\" r=\"21\"/>\n",
       "<circle clip-path=\"url(#clip2602)\" style=\"fill:#000000; stroke:none; fill-opacity:1\" cx=\"1117.97\" cy=\"183.503\" r=\"25\"/>\n",
       "<circle clip-path=\"url(#clip2602)\" style=\"fill:#e34a33; stroke:none; fill-opacity:1\" cx=\"1117.97\" cy=\"183.503\" r=\"21\"/>\n",
       "<circle clip-path=\"url(#clip2602)\" style=\"fill:#000000; stroke:none; fill-opacity:1\" cx=\"1352.48\" cy=\"88.0068\" r=\"25\"/>\n",
       "<circle clip-path=\"url(#clip2602)\" style=\"fill:#e34a33; stroke:none; fill-opacity:1\" cx=\"1352.48\" cy=\"88.0068\" r=\"21\"/>\n",
       "<circle clip-path=\"url(#clip2602)\" style=\"fill:#000000; stroke:none; fill-opacity:1\" cx=\"1586.99\" cy=\"88.0064\" r=\"25\"/>\n",
       "<circle clip-path=\"url(#clip2602)\" style=\"fill:#e34a33; stroke:none; fill-opacity:1\" cx=\"1586.99\" cy=\"88.0064\" r=\"21\"/>\n",
       "<circle clip-path=\"url(#clip2602)\" style=\"fill:#000000; stroke:none; fill-opacity:1\" cx=\"1821.5\" cy=\"88.0061\" r=\"25\"/>\n",
       "<circle clip-path=\"url(#clip2602)\" style=\"fill:#e34a33; stroke:none; fill-opacity:1\" cx=\"1821.5\" cy=\"88.0061\" r=\"21\"/>\n",
       "<circle clip-path=\"url(#clip2602)\" style=\"fill:#000000; stroke:none; fill-opacity:1\" cx=\"2056.01\" cy=\"88.0057\" r=\"25\"/>\n",
       "<circle clip-path=\"url(#clip2602)\" style=\"fill:#e34a33; stroke:none; fill-opacity:1\" cx=\"2056.01\" cy=\"88.0057\" r=\"21\"/>\n",
       "<circle clip-path=\"url(#clip2602)\" style=\"fill:#000000; stroke:none; fill-opacity:1\" cx=\"2290.52\" cy=\"88.0053\" r=\"25\"/>\n",
       "<circle clip-path=\"url(#clip2602)\" style=\"fill:#e34a33; stroke:none; fill-opacity:1\" cx=\"2290.52\" cy=\"88.0053\" r=\"21\"/>\n",
       "<polyline clip-path=\"url(#clip2602)\" style=\"stroke:#fee8c8; stroke-width:0; stroke-opacity:1; fill:none\" points=\"\n",
       "  216.13,1446.71 408.003,1378.49 642.514,1268.94 834.387,1096.63 1068.9,887.553 1260.77,715.241 1495.28,506.163 1729.79,297.084 1964.31,88.0053 2193.69,88.0053 \n",
       "  \n",
       "  \"/>\n",
       "<circle clip-path=\"url(#clip2602)\" style=\"fill:#000000; stroke:none; fill-opacity:1\" cx=\"216.13\" cy=\"1446.71\" r=\"18\"/>\n",
       "<circle clip-path=\"url(#clip2602)\" style=\"fill:#fee8c8; stroke:none; fill-opacity:1\" cx=\"216.13\" cy=\"1446.71\" r=\"14\"/>\n",
       "<circle clip-path=\"url(#clip2602)\" style=\"fill:#000000; stroke:none; fill-opacity:1\" cx=\"408.003\" cy=\"1378.49\" r=\"18\"/>\n",
       "<circle clip-path=\"url(#clip2602)\" style=\"fill:#fee8c8; stroke:none; fill-opacity:1\" cx=\"408.003\" cy=\"1378.49\" r=\"14\"/>\n",
       "<circle clip-path=\"url(#clip2602)\" style=\"fill:#000000; stroke:none; fill-opacity:1\" cx=\"642.514\" cy=\"1268.94\" r=\"18\"/>\n",
       "<circle clip-path=\"url(#clip2602)\" style=\"fill:#fee8c8; stroke:none; fill-opacity:1\" cx=\"642.514\" cy=\"1268.94\" r=\"14\"/>\n",
       "<circle clip-path=\"url(#clip2602)\" style=\"fill:#000000; stroke:none; fill-opacity:1\" cx=\"834.387\" cy=\"1096.63\" r=\"18\"/>\n",
       "<circle clip-path=\"url(#clip2602)\" style=\"fill:#fee8c8; stroke:none; fill-opacity:1\" cx=\"834.387\" cy=\"1096.63\" r=\"14\"/>\n",
       "<circle clip-path=\"url(#clip2602)\" style=\"fill:#000000; stroke:none; fill-opacity:1\" cx=\"1068.9\" cy=\"887.553\" r=\"18\"/>\n",
       "<circle clip-path=\"url(#clip2602)\" style=\"fill:#fee8c8; stroke:none; fill-opacity:1\" cx=\"1068.9\" cy=\"887.553\" r=\"14\"/>\n",
       "<circle clip-path=\"url(#clip2602)\" style=\"fill:#000000; stroke:none; fill-opacity:1\" cx=\"1260.77\" cy=\"715.241\" r=\"18\"/>\n",
       "<circle clip-path=\"url(#clip2602)\" style=\"fill:#fee8c8; stroke:none; fill-opacity:1\" cx=\"1260.77\" cy=\"715.241\" r=\"14\"/>\n",
       "<circle clip-path=\"url(#clip2602)\" style=\"fill:#000000; stroke:none; fill-opacity:1\" cx=\"1495.28\" cy=\"506.163\" r=\"18\"/>\n",
       "<circle clip-path=\"url(#clip2602)\" style=\"fill:#fee8c8; stroke:none; fill-opacity:1\" cx=\"1495.28\" cy=\"506.163\" r=\"14\"/>\n",
       "<circle clip-path=\"url(#clip2602)\" style=\"fill:#000000; stroke:none; fill-opacity:1\" cx=\"1729.79\" cy=\"297.084\" r=\"18\"/>\n",
       "<circle clip-path=\"url(#clip2602)\" style=\"fill:#fee8c8; stroke:none; fill-opacity:1\" cx=\"1729.79\" cy=\"297.084\" r=\"14\"/>\n",
       "<circle clip-path=\"url(#clip2602)\" style=\"fill:#000000; stroke:none; fill-opacity:1\" cx=\"1964.31\" cy=\"88.0053\" r=\"18\"/>\n",
       "<circle clip-path=\"url(#clip2602)\" style=\"fill:#fee8c8; stroke:none; fill-opacity:1\" cx=\"1964.31\" cy=\"88.0053\" r=\"14\"/>\n",
       "<circle clip-path=\"url(#clip2602)\" style=\"fill:#000000; stroke:none; fill-opacity:1\" cx=\"2193.69\" cy=\"88.0053\" r=\"18\"/>\n",
       "<circle clip-path=\"url(#clip2602)\" style=\"fill:#fee8c8; stroke:none; fill-opacity:1\" cx=\"2193.69\" cy=\"88.0053\" r=\"14\"/>\n",
       "<polygon clip-path=\"url(#clip2600)\" points=\"\n",
       "1813.42,312.204 2280.76,312.204 2280.76,130.764 1813.42,130.764 \n",
       "  \" fill=\"#ffffff\" fill-rule=\"evenodd\" fill-opacity=\"1\"/>\n",
       "<polyline clip-path=\"url(#clip2600)\" style=\"stroke:#000000; stroke-width:4; stroke-opacity:1; fill:none\" points=\"\n",
       "  1813.42,312.204 2280.76,312.204 2280.76,130.764 1813.42,130.764 1813.42,312.204 \n",
       "  \"/>\n",
       "<polyline clip-path=\"url(#clip2600)\" style=\"stroke:#e34a33; stroke-width:16; stroke-opacity:1; fill:none\" points=\"\n",
       "  1837.42,191.244 1981.42,191.244 \n",
       "  \"/>\n",
       "<circle clip-path=\"url(#clip2600)\" style=\"fill:#000000; stroke:none; fill-opacity:1\" cx=\"1921.42\" cy=\"191.244\" r=\"25\"/>\n",
       "<circle clip-path=\"url(#clip2600)\" style=\"fill:#e34a33; stroke:none; fill-opacity:1\" cx=\"1921.42\" cy=\"191.244\" r=\"21\"/>\n",
       "<g clip-path=\"url(#clip2600)\">\n",
       "<text style=\"fill:#000000; fill-opacity:1; font-family:Arial,Helvetica Neue,Helvetica,sans-serif; font-size:48px; text-anchor:start;\" transform=\"rotate(0, 2005.42, 208.744)\" x=\"2005.42\" y=\"208.744\">Indirect</text>\n",
       "</g>\n",
       "<polyline clip-path=\"url(#clip2600)\" style=\"stroke:#fee8c8; stroke-width:0; stroke-opacity:1; fill:none\" points=\"\n",
       "  1837.42,251.724 1981.42,251.724 \n",
       "  \"/>\n",
       "<circle clip-path=\"url(#clip2600)\" style=\"fill:#000000; stroke:none; fill-opacity:1\" cx=\"1921.42\" cy=\"251.724\" r=\"25\"/>\n",
       "<circle clip-path=\"url(#clip2600)\" style=\"fill:#fee8c8; stroke:none; fill-opacity:1\" cx=\"1921.42\" cy=\"251.724\" r=\"21\"/>\n",
       "<g clip-path=\"url(#clip2600)\">\n",
       "<text style=\"fill:#000000; fill-opacity:1; font-family:Arial,Helvetica Neue,Helvetica,sans-serif; font-size:48px; text-anchor:start;\" transform=\"rotate(0, 2005.42, 269.224)\" x=\"2005.42\" y=\"269.224\">Semidirect</text>\n",
       "</g>\n",
       "</svg>\n"
      ]
     },
     "execution_count": 268,
     "metadata": {},
     "output_type": "execute_result"
    }
   ],
   "source": [
    "j = 1\n",
    "plot(traj_indirect[7],traj_indirect[8][j,:],label=\"Indirect\",seriescolor=RGB(((227,74,51) ./ 255.)...),linewidth=4,marker=6)\n",
    "plot!(traj_semidirect[7],traj_semidirect[8][j,:],label=\"Semidirect\",seriescolor=RGB(((254,232,200) ./ 255.)...),linewidth=0,marker=4)"
   ]
  },
  {
   "cell_type": "code",
   "execution_count": 266,
   "metadata": {},
   "outputs": [
    {
     "data": {
      "text/plain": [
       "3-element Array{Float64,1}:\n",
       "  0.8494734176253613  \n",
       "  0.0                 \n",
       " -8.618434542006199e-5"
      ]
     },
     "execution_count": 266,
     "metadata": {},
     "output_type": "execute_result"
    }
   ],
   "source": [
    "traj_semidirect[2][1]"
   ]
  },
  {
   "cell_type": "markdown",
   "metadata": {},
   "source": [
    "## Bilevel trajectory optimization (with arm)"
   ]
  },
  {
   "cell_type": "code",
   "execution_count": null,
   "metadata": {},
   "outputs": [],
   "source": []
  }
 ],
 "metadata": {
  "kernelspec": {
   "display_name": "Julia 1.1.0",
   "language": "julia",
   "name": "julia-1.1"
  },
  "language_info": {
   "file_extension": ".jl",
   "mimetype": "application/julia",
   "name": "julia",
   "version": "1.1.0"
  }
 },
 "nbformat": 4,
 "nbformat_minor": 2
}
