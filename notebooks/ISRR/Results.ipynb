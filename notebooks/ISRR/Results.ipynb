{
 "cells": [
  {
   "cell_type": "code",
   "execution_count": 1,
   "metadata": {},
   "outputs": [
    {
     "name": "stderr",
     "output_type": "stream",
     "text": [
      "┌ Info: Precompiling Bilevel [9688c538-179f-11e9-3174-495cea6b7f67]\n",
      "└ @ Base loading.jl:1186\n"
     ]
    },
    {
     "data": {
      "text/html": [
       "    <script class='js-collapse-script'>\n",
       "        var curMatch =\n",
       "            window.location.href\n",
       "            .match(/(.*?)\\/notebooks\\/.*\\.ipynb/);\n",
       "\n",
       "        curMatch = curMatch ||\n",
       "            window.location.href\n",
       "            .match(/(.*?)\\/apps\\/.*\\.ipynb/);\n",
       "\n",
       "        if ( curMatch ) {\n",
       "            $('head').append('<base href=\"' + curMatch[1] + '/\">');\n",
       "        }\n",
       "    </script>\n"
      ],
      "text/plain": [
       "HTML{String}(\"    <script class='js-collapse-script'>\\n        var curMatch =\\n            window.location.href\\n            .match(/(.*?)\\\\/notebooks\\\\/.*\\\\.ipynb/);\\n\\n        curMatch = curMatch ||\\n            window.location.href\\n            .match(/(.*?)\\\\/apps\\\\/.*\\\\.ipynb/);\\n\\n        if ( curMatch ) {\\n            \\$('head').append('<base href=\\\"' + curMatch[1] + '/\\\">');\\n        }\\n    </script>\\n\")"
      ]
     },
     "metadata": {},
     "output_type": "display_data"
    },
    {
     "data": {
      "text/html": [
       "<script class='js-collapse-script' src='/assetserver/b464848323e0a4c9a3cfe11f8edca2932188b6d9-assets/webio/dist/bundle.js'></script>"
      ],
      "text/plain": [
       "HTML{String}(\"<script class='js-collapse-script' src='/assetserver/b464848323e0a4c9a3cfe11f8edca2932188b6d9-assets/webio/dist/bundle.js'></script>\")"
      ]
     },
     "metadata": {},
     "output_type": "display_data"
    },
    {
     "data": {
      "text/html": [
       "<script class='js-collapse-script' src='/assetserver/b464848323e0a4c9a3cfe11f8edca2932188b6d9-assets/providers/ijulia_setup.js'></script>"
      ],
      "text/plain": [
       "HTML{String}(\"<script class='js-collapse-script' src='/assetserver/b464848323e0a4c9a3cfe11f8edca2932188b6d9-assets/providers/ijulia_setup.js'></script>\")"
      ]
     },
     "metadata": {},
     "output_type": "display_data"
    },
    {
     "data": {
      "text/html": [
       "  <script class='js-collapse-script'>\n",
       "    $('.js-collapse-script').parent('.output_subarea').css('padding', '0');\n",
       "  </script>\n"
      ],
      "text/plain": [
       "HTML{String}(\"  <script class='js-collapse-script'>\\n    \\$('.js-collapse-script').parent('.output_subarea').css('padding', '0');\\n  </script>\\n\")"
      ]
     },
     "metadata": {},
     "output_type": "display_data"
    },
    {
     "name": "stderr",
     "output_type": "stream",
     "text": [
      "┌ Error: evaluation error\n",
      "│   mod = Bilevel\n",
      "│   ex = const usrfun = #= /home/blandry/.julia/dev/Bilevel/src/solvers/snopt.jl:154 =# @cfunction(objcon_wrapper, Cvoid, (Ptr{Clong}, Ref{Clong}, Ptr{Cdouble}, Ref{Clong}, Ref{Clong}, Ptr{Cdouble}, Ref{Clong}, Ref{Clong}, Ptr{Cdouble}, Ptr{Cchar}, Ref{Clong}, Ptr{Clong}, Ref{Clong}, Ptr{Cdouble}, Ref{Clong}))\n",
      "│   exception = (ErrorException(\"invalid lookup expr (\\$(QuoteNode(Core.svec)))(JuliaInterpreter.SSAValue(2), JuliaInterpreter.SSAValue(3), JuliaInterpreter.SSAValue(4), JuliaInterpreter.SSAValue(5), JuliaInterpreter.SSAValue(6), JuliaInterpreter.SSAValue(7), JuliaInterpreter.SSAValue(8), JuliaInterpreter.SSAValue(9), JuliaInterpreter.SSAValue(10), JuliaInterpreter.SSAValue(11), JuliaInterpreter.SSAValue(12), JuliaInterpreter.SSAValue(13), JuliaInterpreter.SSAValue(14), JuliaInterpreter.SSAValue(15), JuliaInterpreter.SSAValue(16))\"), Union{Ptr{Nothing}, InterpreterIP}[Ptr{Nothing} @0x00007f249ce055eb, Ptr{Nothing} @0x00007f249cdd6204, Ptr{Nothing} @0x00007f24603e6480, Ptr{Nothing} @0x00007f24200e3b45, Ptr{Nothing} @0x00007f242010b2ed, Ptr{Nothing} @0x00007f242010b8d4, Ptr{Nothing} @0x00007f24200e4193, Ptr{Nothing} @0x00007f24200e56ab, Ptr{Nothing} @0x00007f24200e97db, Ptr{Nothing} @0x00007f24200e2804, Ptr{Nothing} @0x00007f24200e3544, Ptr{Nothing} @0x00007f249cdba5d6, Ptr{Nothing} @0x00007f24603e23f5, Ptr{Nothing} @0x00007f249cdba5d6, Ptr{Nothing} @0x00007f24603e0cf0, Ptr{Nothing} @0x00007f24603e0d44, Ptr{Nothing} @0x00007f24603e04c4, Ptr{Nothing} @0x00007f24603e0aef, Ptr{Nothing} @0x00007f249cdba5d6, Ptr{Nothing} @0x00007f24603d6e94, Ptr{Nothing} @0x00007f24603d784c, Ptr{Nothing} @0x00007f24603d93ee, Ptr{Nothing} @0x00007f24603d5d11, Ptr{Nothing} @0x00007f249cdba5d6, Ptr{Nothing} @0x00007f249cdd6a92, Ptr{Nothing} @0x0000000000000000])\n",
      "└ @ Revise /home/blandry/.julia/packages/Revise/5wsCa/src/lowered.jl:52\n"
     ]
    }
   ],
   "source": [
    "using Revise\n",
    "using Bilevel\n",
    "\n",
    "using RigidBodyDynamics\n",
    "using MeshCatMechanisms\n",
    "using MeshCat\n",
    "using Plots\n",
    "using LinearAlgebra\n",
    "using StaticArrays\n",
    "using BenchmarkTools\n",
    "using LaTeXStrings"
   ]
  },
  {
   "cell_type": "markdown",
   "metadata": {},
   "source": [
    "# Simulation of sliding box"
   ]
  },
  {
   "cell_type": "code",
   "execution_count": null,
   "metadata": {},
   "outputs": [],
   "source": [
    "urdf = joinpath(\"..\", \"..\", \"urdf\", \"ball2d.urdf\")\n",
    "mechanism = parse_urdf(Float64, urdf)\n",
    "\n",
    "floor = findbody(mechanism, \"floor\")\n",
    "point = Point3D(default_frame(floor), SVector([0.,0.,0.]...))\n",
    "normal = FreeVector3D(default_frame(floor), SVector([0.,0.,1.]...))\n",
    "floor_obs = Obstacle(floor, point, normal, :xyz, 1.)\n",
    "\n",
    "obstacles = [floor_obs]\n",
    "env = Environment(mechanism, urdf, obstacles);"
   ]
  },
  {
   "cell_type": "code",
   "execution_count": null,
   "metadata": {},
   "outputs": [],
   "source": [
    "mvis = MechanismVisualizer(mechanism, URDFVisuals(urdf))\n",
    "# open(mvis)"
   ]
  },
  {
   "cell_type": "code",
   "execution_count": null,
   "metadata": {},
   "outputs": [],
   "source": [
    "N = 10\n",
    "Δt = 0.1\n",
    "q0 = [0., 0.2, 0.]\n",
    "v0 = [8., 0., 0.];"
   ]
  },
  {
   "cell_type": "code",
   "execution_count": null,
   "metadata": {},
   "outputs": [],
   "source": [
    "# Indirect\n",
    "\n",
    "sim_data = get_sim_data_indirect(mechanism,env,Δt,relax_comp=true)\n",
    "null_ctrl! = (u,t,x) -> u[:] .= 0.\n",
    "x0 = MechanismState(mechanism)\n",
    "set_configuration!(x0, q0)\n",
    "set_velocity!(x0, v0)\n",
    "setdirty!(x0)\n",
    "sim_indirect = Bilevel.simulate(sim_data,null_ctrl!,x0,N)"
   ]
  },
  {
   "cell_type": "code",
   "execution_count": null,
   "metadata": {},
   "outputs": [],
   "source": [
    "@benchmark sim_indirect = Bilevel.simulate(sim_data,null_ctrl!,x0,N)"
   ]
  },
  {
   "cell_type": "code",
   "execution_count": null,
   "metadata": {},
   "outputs": [],
   "source": [
    "setanimation!(mvis, sim_indirect[6], sim_indirect[1])"
   ]
  },
  {
   "cell_type": "code",
   "execution_count": null,
   "metadata": {},
   "outputs": [],
   "source": [
    "# Direct (both normal and friction)\n",
    "\n",
    "sim_data = get_sim_data_direct(mechanism,env,Δt)\n",
    "null_ctrl! = (u,t,x) -> u[:] .= 0.\n",
    "x0 = MechanismState(mechanism)\n",
    "set_configuration!(x0, q0)\n",
    "set_velocity!(x0, v0)\n",
    "setdirty!(x0)\n",
    "sim_direct = Bilevel.simulate(sim_data,null_ctrl!,x0,N)"
   ]
  },
  {
   "cell_type": "code",
   "execution_count": null,
   "metadata": {},
   "outputs": [],
   "source": [
    "@benchmark sim_direct = Bilevel.simulate(sim_data,null_ctrl!,x0,N)"
   ]
  },
  {
   "cell_type": "code",
   "execution_count": null,
   "metadata": {},
   "outputs": [],
   "source": [
    "setanimation!(mvis, sim_direct[6], sim_direct[1])"
   ]
  },
  {
   "cell_type": "code",
   "execution_count": null,
   "metadata": {},
   "outputs": [],
   "source": [
    "j = 1\n",
    "plot(sim_indirect[6],sim_indirect[8][j,:],label=\"Indirect\",seriescolor=RGB(((227,74,51) ./ 255.)...),linewidth=0,marker=6)\n",
    "plot!(sim_direct[6],sim_direct[8][j,:],label=\"Direct\",seriescolor=RGB(((254,232,200) ./ 255.)...),linewidth=1,marker=4)"
   ]
  },
  {
   "cell_type": "code",
   "execution_count": null,
   "metadata": {},
   "outputs": [],
   "source": [
    "sim_indirect[1][end]"
   ]
  },
  {
   "cell_type": "markdown",
   "metadata": {},
   "source": [
    "# Trajectory optimization of sliding box"
   ]
  },
  {
   "cell_type": "code",
   "execution_count": 3,
   "metadata": {},
   "outputs": [],
   "source": [
    "urdf = joinpath(\"..\", \"..\", \"urdf\", \"ball2d.urdf\")\n",
    "mechanism = parse_urdf(Float64, urdf)\n",
    "\n",
    "floor = findbody(mechanism, \"floor\")\n",
    "point = Point3D(default_frame(floor), SVector([0.,0.,0.]...))\n",
    "normal = FreeVector3D(default_frame(floor), SVector([0.,0.,1.]...))\n",
    "floor_obs = Obstacle(floor, point, normal, :xyz, 1.)\n",
    "\n",
    "obstacles = [floor_obs]\n",
    "env = Environment(mechanism, urdf, obstacles);"
   ]
  },
  {
   "cell_type": "code",
   "execution_count": null,
   "metadata": {},
   "outputs": [],
   "source": [
    "mvis = MechanismVisualizer(mechanism, URDFVisuals(urdf))\n",
    "# open(mvis)"
   ]
  },
  {
   "cell_type": "code",
   "execution_count": null,
   "metadata": {},
   "outputs": [],
   "source": [
    "# qN = [3.0, 0., 0.]\n",
    "# N = 10\n",
    "\n",
    "# qN = [3.0, 0., 0.]\n",
    "# N = 15\n",
    "\n",
    "qN = [3.0, 0., 0.]\n",
    "N = 20\n",
    "\n",
    "# qN = [3.0, 0., 0.]\n",
    "# N = 25\n",
    "\n",
    "# qN = [5.0, 0., 0.]\n",
    "# N = 30\n",
    "\n",
    "# qN = [10.0, 0., 0.]\n",
    "# N = 35\n",
    "\n",
    "# qN = [15.0, 0., 0.]\n",
    "# N = 40\n",
    "\n",
    "q1 = [0., 0.2, 0.]\n",
    "Δt = 0.1\n",
    "\n",
    "q_min = [-10., -10., -10.]\n",
    "q_max = [10., 10., 10.]\n",
    "\n",
    "function get_prob_limits(sim_data)\n",
    "    x_min = -1e19*ones(sim_data.vs.num_vars)\n",
    "    x_max = 1e19*ones(sim_data.vs.num_vars)\n",
    "    \n",
    "    # joint limits\n",
    "    add_box_con_snopt!(x_min, x_max, sim_data, :q, q_min, q_max, 1:N)\n",
    "    add_box_con_snopt!(x_min, x_max, sim_data, :h, [Δt], [Δt], 1:N-1)\n",
    "    \n",
    "    # torques limits\n",
    "    add_box_con_snopt!(x_min, x_max, sim_data, :u, zeros(num_velocities(mechanism)), zeros(num_velocities(mechanism)), 1:N-1)\n",
    "\n",
    "    x_min, x_max\n",
    "end\n",
    "\n",
    "function add_prob_constraints!(sim_data)\n",
    "    vs = sim_data.vs\n",
    "\n",
    "    add_eq!(sim_data, :cq1, length(q1), x -> vs(x, :q1) - q1)\n",
    "    add_eq!(sim_data, :cv1, 1, x -> vs(x, :v1)[2])\n",
    "    add_eq!(sim_data, :cqN, 2, x -> vs(x, Symbol(\"q\", N))[1:2] - qN[1:2])\n",
    "    add_eq!(sim_data, :cvN, 1, x -> vs(x, Symbol(\"v\", N))[1])\n",
    "end\n",
    "\n",
    "function get_prob_init(sim_data)\n",
    "    x0 = zeros(sim_data.vs.num_vars)\n",
    "    for n = 1:N\n",
    "        x0[sim_data.vs(Symbol(\"q\", n))] .= n/N*(qN - q1) + q1\n",
    "    end\n",
    "    \n",
    "    x0\n",
    "end"
   ]
  },
  {
   "cell_type": "code",
   "execution_count": null,
   "metadata": {},
   "outputs": [],
   "source": [
    "# Indirect\n",
    "con_tol = 1e-5\n",
    "obj_tol = 1e-5\n",
    "max_iter = 5000\n",
    "\n",
    "sim_data = get_trajopt_data_indirect(mechanism,env,Δt,N,relax_comp=true)\n",
    "add_prob_constraints!(sim_data)\n",
    "x_min, x_max = get_prob_limits(sim_data)\n",
    "x0 = get_prob_init(sim_data)\n",
    "\n",
    "@time traj_indirect = Bilevel.trajopt(sim_data, x0=x0, x_min=x_min, x_max=x_max, verbose=1, opt_tol=obj_tol, major_feas=con_tol, minor_feas=con_tol, max_iter=max_iter)"
   ]
  },
  {
   "cell_type": "code",
   "execution_count": null,
   "metadata": {},
   "outputs": [],
   "source": [
    "function run_trajopt()\n",
    "    Bilevel.solve_rosenbrock() # clearing SNOPT\n",
    "    Bilevel.trajopt(sim_data, x0=x0, x_min=x_min, x_max=x_max, verbose=0, opt_tol=obj_tol, major_feas=con_tol, minor_feas=con_tol, max_iter=max_iter)\n",
    "end\n",
    "\n",
    "@benchmark run_trajopt()"
   ]
  },
  {
   "cell_type": "code",
   "execution_count": null,
   "metadata": {},
   "outputs": [],
   "source": [
    "Bilevel.solve_rosenbrock(); # clearing SNOPT"
   ]
  },
  {
   "cell_type": "code",
   "execution_count": null,
   "metadata": {},
   "outputs": [],
   "source": [
    "# Semidirect\n",
    "con_tol = 1e-5\n",
    "obj_tol = 1e-5\n",
    "max_iter = 5000\n",
    "\n",
    "sim_data = get_trajopt_data_semidirect(mechanism,env,Δt,N,relax_comp=false)\n",
    "add_prob_constraints!(sim_data)\n",
    "x_min, x_max = get_prob_limits(sim_data)\n",
    "x0 = get_prob_init(sim_data)\n",
    "@time traj_semidirect = Bilevel.trajopt(sim_data, x0=x0, x_min=x_min, x_max=x_max, verbose=1, opt_tol=obj_tol, major_feas=con_tol, minor_feas=con_tol, max_iter=max_iter)"
   ]
  },
  {
   "cell_type": "code",
   "execution_count": null,
   "metadata": {},
   "outputs": [],
   "source": [
    "function run_trajopt()\n",
    "    Bilevel.solve_rosenbrock() # clearing SNOPT\n",
    "    Bilevel.trajopt(sim_data, x0=x0, x_min=x_min, x_max=x_max, verbose=0, opt_tol=obj_tol, major_feas=con_tol, minor_feas=con_tol, max_iter=max_iter)\n",
    "end\n",
    "\n",
    "@benchmark run_trajopt()"
   ]
  },
  {
   "cell_type": "code",
   "execution_count": null,
   "metadata": {},
   "outputs": [],
   "source": [
    "j = 1\n",
    "xlabel=latexstring(\"t\")\n",
    "ylabel=latexstring(\"x\")\n",
    "plot(traj_indirect[7],traj_indirect[8][j,:],label=\"Indirect\",seriescolor=RGB(((227,74,51) ./ 255.)...),linewidth=6,marker=6,xlabel=xlabel)\n",
    "plot!(traj_semidirect[7],traj_semidirect[8][j,:],label=\"Semidirect\",seriescolor=RGB(((254,232,200) ./ 255.)...),linewidth=1,marker=6,ylabel=ylabel)"
   ]
  },
  {
   "cell_type": "code",
   "execution_count": null,
   "metadata": {},
   "outputs": [],
   "source": [
    "savefig(string(\"slidingbox_x_08-28-19_3.svg\")) "
   ]
  },
  {
   "cell_type": "code",
   "execution_count": null,
   "metadata": {},
   "outputs": [],
   "source": [
    "j = 2\n",
    "xlabel=latexstring(\"t\")\n",
    "ylabel=latexstring(\"z\")\n",
    "plot(traj_indirect[7],traj_indirect[8][j,:],label=\"Indirect\",seriescolor=RGB(((227,74,51) ./ 255.)...),linewidth=6,marker=6,xlabel=xlabel)\n",
    "plot!(traj_semidirect[7],traj_semidirect[8][j,:],label=\"Semidirect\",seriescolor=RGB(((254,232,200) ./ 255.)...),linewidth=1,marker=6,ylabel=ylabel)"
   ]
  },
  {
   "cell_type": "code",
   "execution_count": null,
   "metadata": {},
   "outputs": [],
   "source": [
    "savefig(string(\"slidingbox_z_08-28-19_3.svg\")) "
   ]
  },
  {
   "cell_type": "code",
   "execution_count": null,
   "metadata": {},
   "outputs": [],
   "source": [
    "display(traj_indirect[2][end])\n",
    "display(traj_semidirect[2][end])"
   ]
  },
  {
   "cell_type": "code",
   "execution_count": null,
   "metadata": {},
   "outputs": [],
   "source": [
    "display(length(traj_indirect[9]))\n",
    "display(length(traj_semidirect[9]))"
   ]
  },
  {
   "cell_type": "markdown",
   "metadata": {},
   "source": [
    "# Trajectory optimization of jumper robot"
   ]
  },
  {
   "cell_type": "code",
   "execution_count": 25,
   "metadata": {},
   "outputs": [],
   "source": [
    "urdf = joinpath(\"..\", \"..\", \"urdf\", \"jumper\", \"jumper.urdf\")\n",
    "mechanism = parse_urdf(Float64, urdf)\n",
    "\n",
    "floor = findbody(mechanism, \"floor\")\n",
    "point = Point3D(default_frame(floor), SVector([0.,0.,0.]...))\n",
    "normal = FreeVector3D(default_frame(floor), SVector([0.,0.,1.]...))\n",
    "floor_obs = Obstacle(floor, point, normal, :xyz, 100.)\n",
    "\n",
    "obstacles = [floor_obs]\n",
    "env = Environment(mechanism, urdf, obstacles);"
   ]
  },
  {
   "cell_type": "code",
   "execution_count": 26,
   "metadata": {},
   "outputs": [
    {
     "name": "stderr",
     "output_type": "stream",
     "text": [
      "┌ Info: Serving MeshCat visualizer at http://127.0.0.1:8701\n",
      "└ @ MeshCat /home/blandry/.julia/packages/MeshCat/WlA0B/src/servers.jl:24\n"
     ]
    },
    {
     "data": {
      "text/plain": [
       "Process(`\u001b[4mxdg-open\u001b[24m \u001b[4mhttp://127.0.0.1:8701\u001b[24m`, ProcessExited(0))"
      ]
     },
     "execution_count": 26,
     "metadata": {},
     "output_type": "execute_result"
    },
    {
     "name": "stdout",
     "output_type": "stream",
     "text": [
      "Created new window in existing browser session.\n"
     ]
    },
    {
     "name": "stderr",
     "output_type": "stream",
     "text": [
      "Error handling websocket connection:\n",
      "\u001b[91mWebSockets.WebSocketClosedError(\"ws|server respond to OPCODE_CLOSE 1001:Going Away\")\u001b[39m\n",
      "Stacktrace:\n",
      " [1] \u001b[1mtry_yieldto\u001b[22m\u001b[1m(\u001b[22m::typeof(Base.ensure_rescheduled), ::Base.RefValue{Task}\u001b[1m)\u001b[22m at \u001b[1m./event.jl:196\u001b[22m\n",
      " [2] \u001b[1mwait\u001b[22m\u001b[1m(\u001b[22m\u001b[1m)\u001b[22m at \u001b[1m./event.jl:255\u001b[22m\n",
      " [3] \u001b[1mwait\u001b[22m\u001b[1m(\u001b[22m::Condition\u001b[1m)\u001b[22m at \u001b[1m./event.jl:46\u001b[22m\n",
      " [4] \u001b[1mwait\u001b[22m\u001b[1m(\u001b[22m::Task\u001b[1m)\u001b[22m at \u001b[1m./task.jl:188\u001b[22m\n",
      " [5] \u001b[1mcreate_socket\u001b[22m\u001b[1m(\u001b[22m::Dict{Any,Any}\u001b[1m)\u001b[22m at \u001b[1m/home/blandry/.julia/packages/WebIO/Rk8wc/src/providers/mux.jl:44\u001b[22m\n",
      " [6] \u001b[1m(::getfield(Mux, Symbol(\"##5#6\")){getfield(Mux, Symbol(\"##28#29\")){Array{SubString{String},1}},typeof(WebIO.create_socket)})\u001b[22m\u001b[1m(\u001b[22m::Function, ::Dict{Any,Any}\u001b[1m)\u001b[22m at \u001b[1m/home/blandry/.julia/packages/Mux/FeATY/src/Mux.jl:17\u001b[22m\n",
      " [7] \u001b[1m#1\u001b[22m at \u001b[1m/home/blandry/.julia/packages/Mux/FeATY/src/Mux.jl:10\u001b[22m [inlined]\n",
      " [8] \u001b[1msplitquery\u001b[22m\u001b[1m(\u001b[22m::getfield(Mux, Symbol(\"##1#2\")){getfield(Mux, Symbol(\"##5#6\")){getfield(Mux, Symbol(\"##28#29\")){Array{SubString{String},1}},typeof(WebIO.create_socket)},getfield(Mux, Symbol(\"##1#2\")){typeof(Mux.wclose),getfield(Mux, Symbol(\"##1#2\")){getfield(Mux, Symbol(\"##18#19\")){getfield(Mux, Symbol(\"##22#23\")){Symbol,Int64}},getfield(Mux, Symbol(\"##20#21\")){String}}}}, ::Dict{Any,Any}\u001b[1m)\u001b[22m at \u001b[1m/home/blandry/.julia/packages/Mux/FeATY/src/basics.jl:34\u001b[22m\n",
      " [9] \u001b[1m#1\u001b[22m at \u001b[1m/home/blandry/.julia/packages/Mux/FeATY/src/Mux.jl:10\u001b[22m [inlined]\n",
      " [10] \u001b[1mwcatch\u001b[22m\u001b[1m(\u001b[22m::getfield(Mux, Symbol(\"##1#2\")){typeof(Mux.splitquery),getfield(Mux, Symbol(\"##1#2\")){getfield(Mux, Symbol(\"##5#6\")){getfield(Mux, Symbol(\"##28#29\")){Array{SubString{String},1}},typeof(WebIO.create_socket)},getfield(Mux, Symbol(\"##1#2\")){typeof(Mux.wclose),getfield(Mux, Symbol(\"##1#2\")){getfield(Mux, Symbol(\"##18#19\")){getfield(Mux, Symbol(\"##22#23\")){Symbol,Int64}},getfield(Mux, Symbol(\"##20#21\")){String}}}}}, ::Dict{Any,Any}\u001b[1m)\u001b[22m at \u001b[1m/home/blandry/.julia/packages/Mux/FeATY/src/websockets_integration.jl:12\u001b[22m\n",
      " [11] \u001b[1m#1\u001b[22m at \u001b[1m/home/blandry/.julia/packages/Mux/FeATY/src/Mux.jl:10\u001b[22m [inlined]\n",
      " [12] \u001b[1mtodict\u001b[22m at \u001b[1m/home/blandry/.julia/packages/Mux/FeATY/src/basics.jl:25\u001b[22m [inlined]\n",
      " [13] \u001b[1m#3\u001b[22m at \u001b[1m/home/blandry/.julia/packages/Mux/FeATY/src/Mux.jl:14\u001b[22m [inlined] (repeats 2 times)\n",
      " [14] \u001b[1m(::getfield(Mux, Symbol(\"##1#2\")){getfield(Mux, Symbol(\"##3#4\")){getfield(Mux, Symbol(\"##3#4\")){typeof(Mux.todict),typeof(Mux.wcatch)},typeof(Mux.splitquery)},getfield(Mux, Symbol(\"##1#2\")){getfield(Mux, Symbol(\"##5#6\")){getfield(Mux, Symbol(\"##28#29\")){Array{SubString{String},1}},typeof(WebIO.create_socket)},getfield(Mux, Symbol(\"##1#2\")){typeof(Mux.wclose),getfield(Mux, Symbol(\"##1#2\")){getfield(Mux, Symbol(\"##18#19\")){getfield(Mux, Symbol(\"##22#23\")){Symbol,Int64}},getfield(Mux, Symbol(\"##20#21\")){String}}}}})\u001b[22m\u001b[1m(\u001b[22m::Tuple{HTTP.Messages.Request,WebSockets.WebSocket{Sockets.TCPSocket}}\u001b[1m)\u001b[22m at \u001b[1m/home/blandry/.julia/packages/Mux/FeATY/src/Mux.jl:10\u001b[22m\n",
      " [15] \u001b[1m(::getfield(Mux, Symbol(\"##9#10\")){Mux.App})\u001b[22m\u001b[1m(\u001b[22m::HTTP.Messages.Request, ::WebSockets.WebSocket{Sockets.TCPSocket}\u001b[1m)\u001b[22m at \u001b[1m/home/blandry/.julia/packages/Mux/FeATY/src/server.jl:49\u001b[22m\n",
      " [16] \u001b[1mupgrade\u001b[22m\u001b[1m(\u001b[22m::getfield(Mux, Symbol(\"##9#10\")){Mux.App}, ::HTTP.Streams.Stream{HTTP.Messages.Request,HTTP.ConnectionPool.Transaction{Sockets.TCPSocket}}\u001b[1m)\u001b[22m at \u001b[1m/home/blandry/.julia/packages/WebSockets/pc4iW/src/HTTP.jl:201\u001b[22m\n",
      " [17] \u001b[1m(::getfield(WebSockets, Symbol(\"#_servercoroutine#11\")){WebSockets.ServerWS})\u001b[22m\u001b[1m(\u001b[22m::HTTP.Streams.Stream{HTTP.Messages.Request,HTTP.ConnectionPool.Transaction{Sockets.TCPSocket}}\u001b[1m)\u001b[22m at \u001b[1m/home/blandry/.julia/packages/WebSockets/pc4iW/src/HTTP.jl:370\u001b[22m\n",
      " [18] \u001b[1mmacro expansion\u001b[22m at \u001b[1m/home/blandry/.julia/packages/HTTP/wY7Vc/src/Servers.jl:360\u001b[22m [inlined]\n",
      " [19] \u001b[1m(::getfield(HTTP.Servers, Symbol(\"##13#14\")){getfield(WebSockets, Symbol(\"#_servercoroutine#11\")){WebSockets.ServerWS},HTTP.ConnectionPool.Transaction{Sockets.TCPSocket},HTTP.Streams.Stream{HTTP.Messages.Request,HTTP.ConnectionPool.Transaction{Sockets.TCPSocket}}})\u001b[22m\u001b[1m(\u001b[22m\u001b[1m)\u001b[22m at \u001b[1m./task.jl:259\u001b[22m"
     ]
    }
   ],
   "source": [
    "mvis = MechanismVisualizer(mechanism, URDFVisuals(urdf));\n",
    "open(mvis)"
   ]
  },
  {
   "cell_type": "code",
   "execution_count": 27,
   "metadata": {},
   "outputs": [],
   "source": [
    "set_configuration!(mvis, [0., -2, .6, -1.2])"
   ]
  },
  {
   "cell_type": "code",
   "execution_count": 28,
   "metadata": {},
   "outputs": [],
   "source": [
    "N = 10\n",
    "Δt = 0.05\n",
    "q0 = [0., -2, .6, -1.2]\n",
    "v0 = zeros(num_velocities(mechanism))\n",
    "\n",
    "sim_data = get_sim_data_indirect(mechanism,env,Δt)\n",
    "null_ctrl! = (u,t,x) -> u[:] .= 0.\n",
    "x0 = MechanismState(mechanism)\n",
    "set_configuration!(x0, q0)\n",
    "set_velocity!(x0, v0)\n",
    "setdirty!(x0)\n",
    "traj_sim = Bilevel.simulate(sim_data,null_ctrl!,x0,N)\n",
    "setanimation!(mvis, traj_sim[6], traj_sim[1])"
   ]
  },
  {
   "cell_type": "code",
   "execution_count": 74,
   "metadata": {},
   "outputs": [
    {
     "data": {
      "text/plain": [
       "setup_prob! (generic function with 1 method)"
      ]
     },
     "execution_count": 74,
     "metadata": {},
     "output_type": "execute_result"
    }
   ],
   "source": [
    "q_nom = copy(traj_sim[1][end])\n",
    "q_min = min.(q_nom, [-20., -10., -pi, -pi])\n",
    "q_max = max.(q_nom, [20., -0.25, pi, pi])\n",
    "\n",
    "N = 20\n",
    "Δt = 0.025\n",
    "\n",
    "function add_prob_constraints!(sim_data)\n",
    "    vs = sim_data.vs\n",
    "\n",
    "    add_eq!(sim_data, :cq1x, 4, x -> vs(x, :q1)[1:4] - q_nom[1:4])\n",
    "    add_eq!(sim_data, :cv1, num_velocities(mechanism), x -> vs(x, :v1))\n",
    "    \n",
    "#     add_eq!(sim_data, :cqNx, 1, x -> 1. - vs(x, Symbol(\"q\", N))[1])\n",
    "    add_eq!(sim_data, :cqNy, 1, x -> -1.25 - vs(x, Symbol(\"q\", N))[2])\n",
    "#     add_ineq!(sim_data, :cqNx, 1, x -> vs(x, Symbol(\"q\", N))[1] - (-1.))\n",
    "end\n",
    "\n",
    "function add_prob_obj!(sim_data)\n",
    "    vs = sim_data.vs    \n",
    "\n",
    "#     add_obj!(sim_data, :cqN, x -> -vs(x, Symbol(\"q\", N))[1])\n",
    "end\n",
    "\n",
    "function get_prob_limits(sim_data)\n",
    "    x_min = -1e19*ones(sim_data.vs.num_vars)\n",
    "    x_max = 1e19*ones(sim_data.vs.num_vars)\n",
    "    \n",
    "    # joint limits\n",
    "    add_box_con_snopt!(x_min, x_max, sim_data, :q, q_min, q_max, 1:N)\n",
    "    add_box_con_snopt!(x_min, x_max, sim_data, :h, [Δt], [Δt], 1:N-1)\n",
    "    \n",
    "    # torques limits\n",
    "#     u_limit = [0.,0.,0.,100.]\n",
    "    u_limit = [0.,0.,0.,100.]\n",
    "    add_box_con_snopt!(x_min, x_max, sim_data, :u, -u_limit .* ones(num_velocities(mechanism)), u_limit .* ones(num_velocities(mechanism)), 1:N-1)\n",
    "    \n",
    "    x_min, x_max\n",
    "end\n",
    "\n",
    "function get_prob_init(sim_data)\n",
    "    x0 = zeros(sim_data.vs.num_vars)\n",
    "    for n = 1:N\n",
    "        qn = copy(q_nom)\n",
    "        x0[sim_data.vs(Symbol(\"q\", n))] .= qn\n",
    "    end\n",
    "    \n",
    "    x0\n",
    "end\n",
    "\n",
    "function setup_prob!(sim_data)\n",
    "    add_prob_constraints!(sim_data)\n",
    "    add_prob_obj!(sim_data)\n",
    "    x_min, x_max = get_prob_limits(sim_data)\n",
    "    x0 = get_prob_init(sim_data)\n",
    "    \n",
    "    x0, x_min, x_max\n",
    "end"
   ]
  },
  {
   "cell_type": "code",
   "execution_count": 75,
   "metadata": {},
   "outputs": [],
   "source": [
    "# Semidirect\n",
    "\n",
    "sim_data = get_trajopt_data_semidirect(mechanism,env,Δt,N,relax_comp=false)\n",
    "x0, x_min, x_max = setup_prob!(sim_data);"
   ]
  },
  {
   "cell_type": "code",
   "execution_count": 76,
   "metadata": {},
   "outputs": [
    {
     "data": {
      "text/plain": [
       "(Array{Float64,1}[[-0.000433986, -1.31017, 0.599126, -1.22255], [-0.00626287, -1.32482, 0.577135, -1.19002], [-0.0246263, -1.38207, 0.500334, -1.05484], [-0.0442225, -1.43087, 0.424496, -0.925711], [-0.0670988, -1.47866, 0.33969, -0.778006], [-0.0919239, -1.51987, 0.251828, -0.624464], [-0.115795, -1.551, 0.176188, -0.527876], [-0.135697, -1.57102, 0.128736, -0.573249], [-0.154745, -1.58275, 0.0873691, -0.653167], [-0.17542, -1.5883, 0.037621, -0.692097], [-0.199505, -1.58864, -0.0290791, -0.642537], [-0.22304, -1.58097, -0.0915667, -0.613638], [-0.246853, -1.5659, -0.154735, -0.580084], [-0.270472, -1.54328, -0.21659, -0.55245], [-0.298406, -1.51364, -0.302011, -0.406519], [-0.32877, -1.47408, -0.40636, -0.1702], [-0.355527, -1.42661, -0.492014, -0.0243492], [-0.378699, -1.37351, -0.554321, 0.0103967], [-0.399219, -1.31484, -0.599305, -0.036961], [-0.417432, -1.25, -0.631954, -0.143938]], Array{Float64,1}[[0.0, 8.4368e-14, 0.0, 0.0], [-0.515057, -0.363762, -0.879647, 1.30109], [-1.74308, -1.65697, -3.07203, 5.40726], [-1.51833, -1.45612, -3.03353, 5.16517], [-1.49967, -1.4974, -3.39226, 5.90818], [-1.37237, -1.34878, -3.51445, 6.14171], [-1.15832, -1.05862, -3.0256, 3.8635], [-0.892334, -0.692191, -1.89811, -1.81493], [-0.79993, -0.400671, -1.65466, -3.19672], [-0.834787, -0.190915, -1.98992, -1.5572], [-0.962573, -0.0417208, -2.668, 1.98243], [-0.965513, 0.219376, -2.4995, 1.15595], [-1.03408, 0.4491, -2.52675, 1.34215], [-1.11714, 0.680562, -2.47419, 1.10538], [-1.41944, 0.799653, -3.41683, 5.83724], [-1.74108, 0.973342, -4.17396, 9.45276], [-1.84035, 1.168, -3.42617, 5.83403], [-1.90605, 1.31808, -2.49227, 1.38983], [-2.00163, 1.47494, -1.79937, -1.89431], [-2.1198, 1.66223, -1.30598, -4.27907]], Array{Float64,1}[[0.0, 0.0, 0.0, 44.8669], [0.0, 0.0, 0.0, 100.0], [0.0, 0.0, 0.0, -0.852324], [0.0, 0.0, 0.0, 12.6931], [0.0, 0.0, 0.0, 3.42959], [0.0, 0.0, 0.0, -5.20252], [0.0, 0.0, 0.0, -11.4069], [0.0, 0.0, 0.0, -3.24699], [0.0, 0.0, 0.0, 2.93234], [0.0, 0.0, 0.0, 7.01605], [0.0, 0.0, 0.0, -1.92488], [0.0, 0.0, 0.0, 0.0978924], [0.0, 0.0, 0.0, -0.700531], [0.0, 0.0, 0.0, 8.99356], [0.0, 0.0, 0.0, 6.77632], [0.0, 0.0, 0.0, -6.33381], [0.0, 0.0, 0.0, -7.89929], [0.0, 0.0, 0.0, -5.94365], [0.0, 0.0, 0.0, -4.46853]], [0.025, 0.025, 0.025, 0.025, 0.025, 0.025, 0.025, 0.025, 0.025, 0.025, 0.025, 0.025, 0.025, 0.025, 0.025, 0.025, 0.025, 0.025, 0.025], Array{Float64,1}[[2.65118], [6.3563], [0.00319455], [1.0195], [0.334736], [0.000491223], [-1.57734e-6], [-6.05383e-7], [-2.89613e-8], [-7.83659e-7], [-4.49667e-7], [4.57419e-6], [-5.49667e-7], [3.13578e-5], [2.54427e-7], [3.47473e-7], [-5.42879e-6], [2.33196e-5], [1.05477e-6]], Array{Float64,1}[], [0.0, 0.025, 0.05, 0.075, 0.1, 0.125, 0.15, 0.175, 0.2, 0.225, 0.25, 0.275, 0.3, 0.325, 0.35, 0.375, 0.4, 0.425, 0.45, 0.475], [-0.000433986 -0.00626287 … -0.399219 -0.417432; -1.31017 -1.32482 … -1.31484 -1.25; … ; 0.0 -0.879647 … -1.79937 -1.30598; 0.0 1.30109 … -1.89431 -4.27907], [-0.000433986, -1.31017, 0.599126, -1.22255, 0.0, 8.4368e-14, 0.0, 0.0, 0.0, 0.0  …  0.025, 1.05477e-6, -0.417432, -1.25, -0.631954, -0.143938, -2.1198, 1.66223, -1.30598, -4.27907])"
      ]
     },
     "metadata": {},
     "output_type": "display_data"
    },
    {
     "name": "stdout",
     "output_type": "stream",
     "text": [
      "Finished successfully: optimality conditions satisfied\n",
      " 18.027406 seconds (68.89 M allocations: 11.186 GiB, 20.77% gc time)\n"
     ]
    }
   ],
   "source": [
    "con_tol = 1e-4\n",
    "obj_tol = 1e-4\n",
    "max_iter = 5000\n",
    "\n",
    "display(@time traj_semidirect = Bilevel.trajopt(sim_data, x0=x0, x_min=x_min, x_max=x_max, verbose=1, opt_tol=obj_tol, major_feas=con_tol, minor_feas=con_tol, max_iter=max_iter))\n",
    "\n",
    "x0 = traj_semidirect[9]\n",
    "\n",
    "setanimation!(mvis, traj_semidirect[7], traj_semidirect[1])"
   ]
  },
  {
   "cell_type": "code",
   "execution_count": 77,
   "metadata": {},
   "outputs": [
    {
     "data": {
      "text/plain": [
       "1"
      ]
     },
     "execution_count": 77,
     "metadata": {},
     "output_type": "execute_result"
    }
   ],
   "source": [
    "qi = 1"
   ]
  },
  {
   "cell_type": "code",
   "execution_count": 97,
   "metadata": {},
   "outputs": [
    {
     "data": {
      "text/plain": [
       "21"
      ]
     },
     "execution_count": 97,
     "metadata": {},
     "output_type": "execute_result"
    }
   ],
   "source": [
    "q = traj_semidirect[1][qi]\n",
    "set_configuration!(mvis, q) \n",
    "qi += 1"
   ]
  },
  {
   "cell_type": "code",
   "execution_count": 621,
   "metadata": {},
   "outputs": [
    {
     "data": {
      "text/plain": [
       "19.362541645641254"
      ]
     },
     "execution_count": 621,
     "metadata": {},
     "output_type": "execute_result"
    }
   ],
   "source": [
    "maximum(abs.(vcat(traj_semidirect[2]...)))"
   ]
  },
  {
   "cell_type": "code",
   "execution_count": 611,
   "metadata": {},
   "outputs": [
    {
     "data": {
      "text/plain": [
       "65.08838511760261"
      ]
     },
     "execution_count": 611,
     "metadata": {},
     "output_type": "execute_result"
    }
   ],
   "source": [
    "maximum(abs.(vcat(traj_semidirect[3]...)))"
   ]
  },
  {
   "cell_type": "code",
   "execution_count": 98,
   "metadata": {},
   "outputs": [
    {
     "data": {
      "text/plain": [
       "BenchmarkTools.Trial: \n",
       "  memory estimate:  219.24 MiB\n",
       "  allocs estimate:  1001848\n",
       "  --------------\n",
       "  minimum time:     326.573 ms (20.44% GC)\n",
       "  median time:      328.166 ms (20.50% GC)\n",
       "  mean time:        374.348 ms (30.21% GC)\n",
       "  maximum time:     490.841 ms (46.37% GC)\n",
       "  --------------\n",
       "  samples:          14\n",
       "  evals/sample:     1"
      ]
     },
     "execution_count": 98,
     "metadata": {},
     "output_type": "execute_result"
    }
   ],
   "source": [
    "function run_trajopt()\n",
    "    Bilevel.solve_rosenbrock() # clearing SNOPT\n",
    "    Bilevel.trajopt(sim_data, x0=x0, x_min=x_min, x_max=x_max, verbose=0, opt_tol=obj_tol, major_feas=con_tol, minor_feas=con_tol, max_iter=max_iter)\n",
    "end\n",
    "\n",
    "@benchmark run_trajopt()"
   ]
  },
  {
   "cell_type": "code",
   "execution_count": 99,
   "metadata": {},
   "outputs": [],
   "source": [
    "# Indirect\n",
    "\n",
    "sim_data = get_trajopt_data_indirect(mechanism,env,Δt,N,relax_comp=true)\n",
    "x0, x_min, x_max = setup_prob!(sim_data);"
   ]
  },
  {
   "cell_type": "code",
   "execution_count": 100,
   "metadata": {},
   "outputs": [
    {
     "data": {
      "text/plain": [
       "(Array{Float64,1}[[-0.000433986, -1.31017, 0.599126, -1.22255], [-0.013058, -1.3513, 0.543829, -1.12941], [-0.0338707, -1.41101, 0.455594, -0.979702], [-0.0568534, -1.46362, 0.364924, -0.826519], [-0.08134, -1.50711, 0.273978, -0.673751], [-0.107204, -1.54145, 0.182275, -0.520712], [-0.132763, -1.56647, 0.0967036, -0.379713], [-0.163372, -1.58252, -0.00941425, -0.204058], [-0.191461, -1.5899, -0.10061, -0.0560795], [-0.214113, -1.59084, -0.163317, 0.0409531], [-0.224184, -1.58776, -0.163141, 0.0276343], [-0.222843, -1.57947, -0.104944, -0.134032], [-0.220641, -1.5638, -0.0460457, -0.289934], [-0.220094, -1.54193, 0.00030554, -0.384237], [-0.21657, -1.5115, 0.0632226, -0.552175], [-0.21151, -1.47157, 0.129109, -0.743698], [-0.208386, -1.42724, 0.181187, -0.858062], [-0.204753, -1.37578, 0.234072, -0.976669], [-0.199831, -1.31582, 0.292112, -1.12589], [-0.195373, -1.25, 0.345268, -1.25412]], Array{Float64,1}[[-1.54816e-13, 1.61179e-13, 0.0, 0.0], [-1.28338, -1.1466, -2.2119, 3.7257], [-1.79855, -1.7784, -3.52938, 5.98815], [-1.60986, -1.63741, -3.62681, 6.12735], [-1.41394, -1.40984, -3.63785, 6.11069], [-1.26675, -1.16278, -3.6681, 6.12155], [-1.11446, -0.896757, -3.42287, 5.63997], [-1.21852, -0.647809, -4.24472, 7.02622], [-1.08836, -0.390829, -3.64784, 5.91912], [-0.888903, -0.165662, -2.50828, 3.8813], [-0.419222, 0.0453312, 0.00705061, -0.532751], [0.0173063, 0.327333, 2.32787, -6.46665], [0.0588357, 0.627669, 2.35593, -6.23607], [0.0219773, 0.874888, 1.85405, -3.77213], [0.215362, 1.2066, 2.51668, -6.71752], [0.406095, 1.56069, 2.63547, -7.66092], [0.44164, 1.73148, 2.08312, -4.57458], [0.616565, 1.98731, 2.11538, -4.74426], [0.875629, 2.27217, 2.32162, -5.96898], [1.05496, 2.46365, 2.12624, -5.12909]], Array{Float64,1}[[-0.0, -0.0, -0.0, 100.0], [-0.0, -0.0, -0.0, 52.5174], [-0.0, -0.0, -0.0, 3.12992], [-0.0, -0.0, -0.0, -0.135177], [-0.0, -0.0, -0.0, 0.185302], [-0.0, -0.0, -0.0, -3.06381], [-0.0, -0.0, -0.0, 9.97497], [-0.0, -0.0, -0.0, -6.98106], [-0.0, -0.0, -0.0, -13.4025], [-0.0, -0.0, -0.0, -29.6644], [-0.0, -0.0, -0.0, -25.4104], [-0.0, -0.0, -0.0, -1.01929], [-0.0, -0.0, -0.0, 4.23759], [-0.0, -0.0, -0.0, -5.6345], [-0.0, -0.0, -0.0, -3.75227], [-0.0, -0.0, -0.0, 5.55093], [-0.0, -0.0, -0.0, -0.898312], [-0.0, -0.0, -0.0, -3.55272], [-0.0, -0.0, -0.0, 1.94251]], [0.025, 0.025, 0.025, 0.025, 0.025, 0.025, 0.025, 0.025, 0.025, 0.025, 0.025, 0.025, 0.025, 0.025, 0.025, 0.025, 0.025, 0.025, 0.025], Array{Float64,1}[[5.91492, 4.44972, 4.46466, 4.33505, 4.46466, 1.79682e-18], [3.41128, 0.106362, 5.68429, 0.0, 5.68429, -3.13907e-13], [0.262711, 13.1418, -4.02499e-5, 13.1295, -4.02499e-5, -2.41663e-10], [0.0113188, 0.008926, 8.7388e-5, 0.0, 1.12286, -3.04363e-16], [0.0101483, 0.516264, 0.0, 0.498566, 0.0, -1.94967e-16], [0.00106334, 0.0, 1.15226e-21, 0.106334, 1.15226e-21, 1.80411e-16], [0.0764837, 4.00626, 7.92571e-20, 3.64211, 9.11222e-19, 1.71813e-5], [0.002635, 0.0, 2.35537e-17, 0.2635, 0.0, 0.00217881], [0.00510363, 0.0, 0.0, 0.510363, 0.0, 0.000769617], [0.0113514, 0.0, -2.48065e-16, 1.13514, -2.46331e-16, -1.72551e-16], [0.00770806, -1.19262e-18, -1.20956e-16, 0.770806, -1.21935e-16, 1.41354], [0.000529282, 1.69407e-21, 0.0, 0.0529282, 0.0, 1.13843], [-1.11389e-18, 0.0, 0.0, 8.27181e-25, 0.0, 5.8876], [0.0, 0.0, 0.0, 2.20218e-19, 0.0, 8.7704], [-8.23994e-18, -6.97827e-18, 5.94802e-14, 0.0, 2.15515e-15, 1.36313], [0.000282416, 0.0, 0.0, 0.0282416, 0.0, 0.0], [-3.68003e-17, 2.08167e-17, 0.0, -3.66543e-15, 0.0, -3.17918e-17], [8.47033e-22, 0.0, 0.0, -6.43745e-20, 0.0, 0.324974], [0.000430803, 0.0430791, 1.21459e-6, 0.0, 0.0, -9.36751e-16]], Array{Float64,1}[[0.0, 0.0, 0.0], [0.0, -2.03288e-20, 0.0], [0.0, 9.7269e-15, -1.32349e-23], [0.0, 9.6753e-5, 0.0], [0.0, 2.86806e-6, 0.0], [0.0, 8.4786e-22, 0.0], [0.0, 5.42101e-20, 0.0], [0.0, 5.42101e-20, 0.0], [0.0, 0.000306305, 0.0], [0.0, 0.010051, 2.22045e-16], [0.0, 0.0, 0.0], [0.0, 0.0, 0.0], [0.0, 0.0, -2.77556e-17], [0.0, 0.0, 0.0], [0.0, -3.03577e-18, 1.38778e-17], [0.0, 2.71051e-20, 0.0], [0.0, -6.37511e-17, 0.0], [0.0, 0.0, 0.0], [0.0, 0.000216951, 0.0]], [0.0, 0.025, 0.05, 0.075, 0.1, 0.125, 0.15, 0.175, 0.2, 0.225, 0.25, 0.275, 0.3, 0.325, 0.35, 0.375, 0.4, 0.425, 0.45, 0.475], [-0.000433986 -0.013058 … -0.199831 -0.195373; -1.31017 -1.3513 … -1.31582 -1.25; … ; 0.0 -2.2119 … 2.32162 2.12624; 0.0 3.7257 … -5.96898 -5.12909], [-0.000433986, -1.31017, 0.599126, -1.22255, -1.54816e-13, 1.61179e-13, 0.0, 0.0, -0.0, -0.0  …  -9.36751e-16, 0.000430803, -0.195373, -1.25, 0.345268, -1.25412, 1.05496, 2.46365, 2.12624, -5.12909])"
      ]
     },
     "metadata": {},
     "output_type": "display_data"
    },
    {
     "name": "stdout",
     "output_type": "stream",
     "text": [
      "Resource limit error: iteration limit reached\n",
      "  4.271507 seconds (22.46 M allocations: 2.714 GiB, 24.77% gc time)\n"
     ]
    }
   ],
   "source": [
    "con_tol = 1e-4\n",
    "obj_tol = 1e-4\n",
    "max_iter = 5000\n",
    "\n",
    "display(@time traj_inidirect = Bilevel.trajopt(sim_data, x0=x0, x_min=x_min, x_max=x_max, verbose=1, opt_tol=obj_tol, major_feas=con_tol, minor_feas=con_tol, max_iter=max_iter))\n",
    "\n",
    "x0 = traj_inidirect[9]\n",
    "\n",
    "setanimation!(mvis, traj_inidirect[7], traj_inidirect[1])"
   ]
  },
  {
   "cell_type": "code",
   "execution_count": 101,
   "metadata": {},
   "outputs": [
    {
     "data": {
      "text/plain": [
       "BenchmarkTools.Trial: \n",
       "  memory estimate:  438.55 MiB\n",
       "  allocs estimate:  2382486\n",
       "  --------------\n",
       "  minimum time:     673.517 ms (43.02% GC)\n",
       "  median time:      677.252 ms (42.84% GC)\n",
       "  mean time:        678.270 ms (42.82% GC)\n",
       "  maximum time:     687.413 ms (42.48% GC)\n",
       "  --------------\n",
       "  samples:          8\n",
       "  evals/sample:     1"
      ]
     },
     "execution_count": 101,
     "metadata": {},
     "output_type": "execute_result"
    }
   ],
   "source": [
    "function run_trajopt()\n",
    "    Bilevel.solve_rosenbrock() # clearing SNOPT\n",
    "    Bilevel.trajopt(sim_data, x0=x0, x_min=x_min, x_max=x_max, verbose=0, opt_tol=obj_tol, major_feas=con_tol, minor_feas=con_tol, max_iter=max_iter)\n",
    "end\n",
    "\n",
    "@benchmark run_trajopt()"
   ]
  },
  {
   "cell_type": "markdown",
   "metadata": {},
   "source": [
    "# Trajectory optimization of little dog"
   ]
  },
  {
   "cell_type": "code",
   "execution_count": 102,
   "metadata": {},
   "outputs": [],
   "source": [
    "urdf = joinpath(\"..\", \"..\", \"urdf\", \"little_dog\", \"little_dog2d.urdf\")\n",
    "mechanism = parse_urdf(Float64, urdf)\n",
    "\n",
    "floor = findbody(mechanism, \"floor\")\n",
    "point = Point3D(default_frame(floor), SVector([0.,0.,0.]...))\n",
    "normal = FreeVector3D(default_frame(floor), SVector([0.,0.,1.]...))\n",
    "floor_obs = Obstacle(floor, point, normal, :xyz, 1.)\n",
    "\n",
    "obstacles = [floor_obs]\n",
    "env = Environment(mechanism, urdf, obstacles);"
   ]
  },
  {
   "cell_type": "code",
   "execution_count": 103,
   "metadata": {},
   "outputs": [
    {
     "name": "stderr",
     "output_type": "stream",
     "text": [
      "┌ Info: Serving MeshCat visualizer at http://127.0.0.1:8702\n",
      "└ @ MeshCat /home/blandry/.julia/packages/MeshCat/WlA0B/src/servers.jl:24\n"
     ]
    },
    {
     "data": {
      "text/plain": [
       "Process(`\u001b[4mxdg-open\u001b[24m \u001b[4mhttp://127.0.0.1:8702\u001b[24m`, ProcessExited(0))"
      ]
     },
     "execution_count": 103,
     "metadata": {},
     "output_type": "execute_result"
    },
    {
     "name": "stdout",
     "output_type": "stream",
     "text": [
      "Created new window in existing browser session.\n"
     ]
    },
    {
     "name": "stderr",
     "output_type": "stream",
     "text": [
      "Error handling websocket connection:\n",
      "\u001b[91mWebSockets.WebSocketClosedError(\"ws|server respond to OPCODE_CLOSE 1001:Going Away\")\u001b[39m\n",
      "Stacktrace:\n",
      " [1] \u001b[1mtry_yieldto\u001b[22m\u001b[1m(\u001b[22m::typeof(Base.ensure_rescheduled), ::Base.RefValue{Task}\u001b[1m)\u001b[22m at \u001b[1m./event.jl:196\u001b[22m\n",
      " [2] \u001b[1mwait\u001b[22m\u001b[1m(\u001b[22m\u001b[1m)\u001b[22m at \u001b[1m./event.jl:255\u001b[22m\n",
      " [3] \u001b[1mwait\u001b[22m\u001b[1m(\u001b[22m::Condition\u001b[1m)\u001b[22m at \u001b[1m./event.jl:46\u001b[22m\n",
      " [4] \u001b[1mwait\u001b[22m\u001b[1m(\u001b[22m::Task\u001b[1m)\u001b[22m at \u001b[1m./task.jl:188\u001b[22m\n",
      " [5] \u001b[1mcreate_socket\u001b[22m\u001b[1m(\u001b[22m::Dict{Any,Any}\u001b[1m)\u001b[22m at \u001b[1m/home/blandry/.julia/packages/WebIO/Rk8wc/src/providers/mux.jl:44\u001b[22m\n",
      " [6] \u001b[1m(::getfield(Mux, Symbol(\"##5#6\")){getfield(Mux, Symbol(\"##28#29\")){Array{SubString{String},1}},typeof(WebIO.create_socket)})\u001b[22m\u001b[1m(\u001b[22m::Function, ::Dict{Any,Any}\u001b[1m)\u001b[22m at \u001b[1m/home/blandry/.julia/packages/Mux/FeATY/src/Mux.jl:17\u001b[22m\n",
      " [7] \u001b[1m#1\u001b[22m at \u001b[1m/home/blandry/.julia/packages/Mux/FeATY/src/Mux.jl:10\u001b[22m [inlined]\n",
      " [8] \u001b[1msplitquery\u001b[22m\u001b[1m(\u001b[22m::getfield(Mux, Symbol(\"##1#2\")){getfield(Mux, Symbol(\"##5#6\")){getfield(Mux, Symbol(\"##28#29\")){Array{SubString{String},1}},typeof(WebIO.create_socket)},getfield(Mux, Symbol(\"##1#2\")){typeof(Mux.wclose),getfield(Mux, Symbol(\"##1#2\")){getfield(Mux, Symbol(\"##18#19\")){getfield(Mux, Symbol(\"##22#23\")){Symbol,Int64}},getfield(Mux, Symbol(\"##20#21\")){String}}}}, ::Dict{Any,Any}\u001b[1m)\u001b[22m at \u001b[1m/home/blandry/.julia/packages/Mux/FeATY/src/basics.jl:34\u001b[22m\n",
      " [9] \u001b[1m#1\u001b[22m at \u001b[1m/home/blandry/.julia/packages/Mux/FeATY/src/Mux.jl:10\u001b[22m [inlined]\n",
      " [10] \u001b[1mwcatch\u001b[22m\u001b[1m(\u001b[22m::getfield(Mux, Symbol(\"##1#2\")){typeof(Mux.splitquery),getfield(Mux, Symbol(\"##1#2\")){getfield(Mux, Symbol(\"##5#6\")){getfield(Mux, Symbol(\"##28#29\")){Array{SubString{String},1}},typeof(WebIO.create_socket)},getfield(Mux, Symbol(\"##1#2\")){typeof(Mux.wclose),getfield(Mux, Symbol(\"##1#2\")){getfield(Mux, Symbol(\"##18#19\")){getfield(Mux, Symbol(\"##22#23\")){Symbol,Int64}},getfield(Mux, Symbol(\"##20#21\")){String}}}}}, ::Dict{Any,Any}\u001b[1m)\u001b[22m at \u001b[1m/home/blandry/.julia/packages/Mux/FeATY/src/websockets_integration.jl:12\u001b[22m\n",
      " [11] \u001b[1m#1\u001b[22m at \u001b[1m/home/blandry/.julia/packages/Mux/FeATY/src/Mux.jl:10\u001b[22m [inlined]\n",
      " [12] \u001b[1mtodict\u001b[22m at \u001b[1m/home/blandry/.julia/packages/Mux/FeATY/src/basics.jl:25\u001b[22m [inlined]\n",
      " [13] \u001b[1m#3\u001b[22m at \u001b[1m/home/blandry/.julia/packages/Mux/FeATY/src/Mux.jl:14\u001b[22m [inlined] (repeats 2 times)\n",
      " [14] \u001b[1m(::getfield(Mux, Symbol(\"##1#2\")){getfield(Mux, Symbol(\"##3#4\")){getfield(Mux, Symbol(\"##3#4\")){typeof(Mux.todict),typeof(Mux.wcatch)},typeof(Mux.splitquery)},getfield(Mux, Symbol(\"##1#2\")){getfield(Mux, Symbol(\"##5#6\")){getfield(Mux, Symbol(\"##28#29\")){Array{SubString{String},1}},typeof(WebIO.create_socket)},getfield(Mux, Symbol(\"##1#2\")){typeof(Mux.wclose),getfield(Mux, Symbol(\"##1#2\")){getfield(Mux, Symbol(\"##18#19\")){getfield(Mux, Symbol(\"##22#23\")){Symbol,Int64}},getfield(Mux, Symbol(\"##20#21\")){String}}}}})\u001b[22m\u001b[1m(\u001b[22m::Tuple{HTTP.Messages.Request,WebSockets.WebSocket{Sockets.TCPSocket}}\u001b[1m)\u001b[22m at \u001b[1m/home/blandry/.julia/packages/Mux/FeATY/src/Mux.jl:10\u001b[22m\n",
      " [15] \u001b[1m(::getfield(Mux, Symbol(\"##9#10\")){Mux.App})\u001b[22m\u001b[1m(\u001b[22m::HTTP.Messages.Request, ::WebSockets.WebSocket{Sockets.TCPSocket}\u001b[1m)\u001b[22m at \u001b[1m/home/blandry/.julia/packages/Mux/FeATY/src/server.jl:49\u001b[22m\n",
      " [16] \u001b[1mupgrade\u001b[22m\u001b[1m(\u001b[22m::getfield(Mux, Symbol(\"##9#10\")){Mux.App}, ::HTTP.Streams.Stream{HTTP.Messages.Request,HTTP.ConnectionPool.Transaction{Sockets.TCPSocket}}\u001b[1m)\u001b[22m at \u001b[1m/home/blandry/.julia/packages/WebSockets/pc4iW/src/HTTP.jl:201\u001b[22m\n",
      " [17] \u001b[1m(::getfield(WebSockets, Symbol(\"#_servercoroutine#11\")){WebSockets.ServerWS})\u001b[22m\u001b[1m(\u001b[22m::HTTP.Streams.Stream{HTTP.Messages.Request,HTTP.ConnectionPool.Transaction{Sockets.TCPSocket}}\u001b[1m)\u001b[22m at \u001b[1m/home/blandry/.julia/packages/WebSockets/pc4iW/src/HTTP.jl:370\u001b[22m\n",
      " [18] \u001b[1mmacro expansion\u001b[22m at \u001b[1m/home/blandry/.julia/packages/HTTP/wY7Vc/src/Servers.jl:360\u001b[22m [inlined]\n",
      " [19] \u001b[1m(::getfield(HTTP.Servers, Symbol(\"##13#14\")){getfield(WebSockets, Symbol(\"#_servercoroutine#11\")){WebSockets.ServerWS},HTTP.ConnectionPool.Transaction{Sockets.TCPSocket},HTTP.Streams.Stream{HTTP.Messages.Request,HTTP.ConnectionPool.Transaction{Sockets.TCPSocket}}})\u001b[22m\u001b[1m(\u001b[22m\u001b[1m)\u001b[22m at \u001b[1m./task.jl:259\u001b[22m"
     ]
    }
   ],
   "source": [
    "mvis = MechanismVisualizer(mechanism, URDFVisuals(urdf));\n",
    "open(mvis)"
   ]
  },
  {
   "cell_type": "code",
   "execution_count": 108,
   "metadata": {},
   "outputs": [],
   "source": [
    "N = 8\n",
    "Δt = 0.025\n",
    "# q0 = [0., -.275, 0., 0.25, -0.25, 0.25, -0.25, pi/4, pi/4, -pi/4, -pi/4, -pi/2, -pi/2, pi/2, pi/2] \n",
    "q0 = [0., -.25, 0., 0.25, -0.25, 0.25, -0.25, pi/4, pi/4, pi/4, pi/4, -pi/2, -pi/2, -pi/2, -pi/2] \n",
    "v0 = zeros(num_velocities(mechanism))\n",
    "\n",
    "sim_data = get_sim_data_indirect(mechanism,env,Δt)\n",
    "null_ctrl! = (u,t,x) -> u[:] .= 0.\n",
    "x0 = MechanismState(mechanism)\n",
    "set_configuration!(x0, q0)\n",
    "set_velocity!(x0, v0)\n",
    "setdirty!(x0)\n",
    "traj_sim = Bilevel.simulate(sim_data,null_ctrl!,x0,N)\n",
    "setanimation!(mvis, traj_sim[6], traj_sim[1])"
   ]
  },
  {
   "cell_type": "code",
   "execution_count": 106,
   "metadata": {},
   "outputs": [],
   "source": [
    "set_configuration!(mvis, [0.1, -.15, 0., 0.25, -0.25, 0.25, -0.25, 0, 0, 0, 0, 0, 0, 0, 0])"
   ]
  },
  {
   "cell_type": "code",
   "execution_count": 110,
   "metadata": {},
   "outputs": [
    {
     "data": {
      "text/plain": [
       "15-element Array{Float64,1}:\n",
       "  0.00010664238487750007\n",
       " -0.07776629311365948   \n",
       "  0.004698826959189465  \n",
       "  0.21523577005700045   \n",
       " -0.21524000150324477   \n",
       "  0.2423499060108737    \n",
       " -0.23788561566104177   \n",
       "  0.8364976984980046    \n",
       "  0.8364954444720863    \n",
       "  0.8044417218579732    \n",
       "  0.8050645931556184    \n",
       " -2.332764703327538     \n",
       " -2.3327619139044327    \n",
       " -1.771089276432456     \n",
       " -1.7807521498957235    "
      ]
     },
     "execution_count": 110,
     "metadata": {},
     "output_type": "execute_result"
    }
   ],
   "source": [
    "q_nom"
   ]
  },
  {
   "cell_type": "code",
   "execution_count": 111,
   "metadata": {},
   "outputs": [
    {
     "data": {
      "text/plain": [
       "setup_prob! (generic function with 1 method)"
      ]
     },
     "execution_count": 111,
     "metadata": {},
     "output_type": "execute_result"
    }
   ],
   "source": [
    "q_nom = copy(traj_sim[1][end])\n",
    "q_min = min.(q_nom, [-5., -.5, -0.1*pi, 0.25, -0.25, 0.25, -0.25, -3.5, -3.5, -3.5, -3.5, -3.1, -3.1, -3.1, -3.1])\n",
    "q_max = max.(q_nom, [5., -0.07, 0.1*pi, 0.25, -0.25, 0.25, -0.25, 2.4, 2.4, 2.4, 2.4, 1., 1., 1., 1.])\n",
    "\n",
    "# q_min = min.(q_nom, [-5., -.5, -0.02*pi, 0.25, -0.25, 0.25, -0.25, -1., -1., -1., -1., -3.1, -3.1, -3.1, -3.1])\n",
    "# q_max = max.(q_nom, [5., -0.1, 0.02*pi, 0.25, -0.25, 0.25, -0.25, 1., 1., 1., 1., 1., 1., 1., 1.])\n",
    "\n",
    "# x_goal = 0.2\n",
    "# N = 10\n",
    "# Δt = 0.1\n",
    "\n",
    "# x_goal = .15\n",
    "# N = 14\n",
    "# Δt = 0.05\n",
    "\n",
    "x_goal = 0.25\n",
    "N = 12\n",
    "Δt = 0.05\n",
    "\n",
    "function add_prob_constraints!(sim_data)\n",
    "    vs = sim_data.vs\n",
    "\n",
    "    add_eq!(sim_data, :cq1x, 1, x -> vs(x, :q1)[1])\n",
    "#     add_eq!(sim_data, :cq1, 15, x -> q_nom - vs(x, :q1))\n",
    "    add_eq!(sim_data, :cv1, num_velocities(mechanism), x -> vs(x, :v1))\n",
    "\n",
    "    add_ineq!(sim_data, :cqNx, 1, x -> x_goal - vs(x, Symbol(\"q\", N))[1])\n",
    "    \n",
    "    add_eq!(sim_data, :cqN, num_positions(mechanism)-1, x -> vs(x, Symbol(\"q\", N))[2:end] - vs(x, :q1)[2:end])\n",
    "    add_eq!(sim_data, :cvN, num_velocities(mechanism), x -> vs(x, Symbol(\"v\", N)))\n",
    "\n",
    "#     for n = 1:N\n",
    "#         add_eq!(sim_data, Symbol(\"cqSym1_\", n), 1, x -> vs(x, Symbol(\"q\", n))[8] + vs(x, Symbol(\"q\", n))[11])\n",
    "#         add_eq!(sim_data, Symbol(\"cqSym2_\", n), 1, x -> vs(x, Symbol(\"q\", n))[9] + vs(x, Symbol(\"q\", n))[10])\n",
    "#         add_eq!(sim_data, Symbol(\"cqSym3_\", n), 1, x -> vs(x, Symbol(\"q\", n))[12] - vs(x, Symbol(\"q\", n))[15]) \n",
    "#         add_eq!(sim_data, Symbol(\"cqSym4_\", n), 1, x -> vs(x, Symbol(\"q\", n))[13] - vs(x, Symbol(\"q\", n))[14]) \n",
    "#     end\n",
    "    \n",
    "#     for n = 1:N-1\n",
    "#         add_eq!(sim_data, Symbol(\"cnSym1_\", n), 1, x -> vs(x, Symbol(\"c_n1_\", n)) - vs(x, Symbol(\"c_n4_\", n)))\n",
    "#         add_eq!(sim_data, Symbol(\"cnSym2_\", n), 1, x -> vs(x, Symbol(\"c_n2_\", n)) - vs(x, Symbol(\"c_n3_\", n)))\n",
    "#     end\n",
    "    \n",
    "#     for n = 1:1\n",
    "#         add_eq!(sim_data, Symbol(\"cn1_\", n), 1, x -> vs(x, Symbol(\"c_n1_\", n)))\n",
    "#         add_eq!(sim_data, Symbol(\"cn4_\", n), 1, x -> vs(x, Symbol(\"c_n4_\", n)))\n",
    "#     end\n",
    "#     for n = Int(N/2):Int(N/2)\n",
    "#         add_eq!(sim_data, Symbol(\"cn1air_\", n), 1, x -> vs(x, Symbol(\"c_n1_\", n)))\n",
    "#         add_eq!(sim_data, Symbol(\"cn2air_\", n), 1, x -> vs(x, Symbol(\"c_n2_\", n)))\n",
    "#         add_eq!(sim_data, Symbol(\"cn3air_\", n), 1, x -> vs(x, Symbol(\"c_n3_\", n)))\n",
    "#         add_eq!(sim_data, Symbol(\"cn4air_\", n), 1, x -> vs(x, Symbol(\"c_n4_\", n)))\n",
    "#     end\n",
    "#     for n = N-1:N-1\n",
    "#         add_eq!(sim_data, Symbol(\"cn2_\", n), 1, x -> vs(x, Symbol(\"c_n2_\", n)))\n",
    "#         add_eq!(sim_data, Symbol(\"cn3_\", n), 1, x -> vs(x, Symbol(\"c_n3_\", n)))\n",
    "#     end\n",
    "    \n",
    "#     flight_n = [Int(N/4),Int(3*N/4)]\n",
    "#     for n = flight_n\n",
    "#         add_eq!(sim_data, Symbol(\"cn1flight_\", n), 1, x -> vs(x, Symbol(\"c_n1_\", n)))\n",
    "#         add_eq!(sim_data, Symbol(\"cn2flight_\", n), 1, x -> vs(x, Symbol(\"c_n2_\", n)))\n",
    "#         add_eq!(sim_data, Symbol(\"cn3flight_\", n), 1, x -> vs(x, Symbol(\"c_n3_\", n)))\n",
    "#         add_eq!(sim_data, Symbol(\"cn4flight_\", n), 1, x -> vs(x, Symbol(\"c_n4_\", n)))\n",
    "#     end    \n",
    "    \n",
    "#     for n = 1:N\n",
    "#         add_eq!(sim_data, Symbol(\"cqSym1_\", n), 1, x -> vs(x, Symbol(\"q\", n))[8] + vs(x, Symbol(\"q\", n))[9])\n",
    "#         add_eq!(sim_data, Symbol(\"cqSym2_\", n), 1, x -> vs(x, Symbol(\"q\", n))[10] + vs(x, Symbol(\"q\", n))[11]) \n",
    "#     end\n",
    "    \n",
    "    for n = 1:N\n",
    "        add_eq!(sim_data, Symbol(\"cqSym1_\", n), 1, x -> vs(x, Symbol(\"q\", n))[8] - vs(x, Symbol(\"q\", n))[9])\n",
    "        add_eq!(sim_data, Symbol(\"cqSym2_\", n), 1, x -> vs(x, Symbol(\"q\", n))[10] - vs(x, Symbol(\"q\", n))[11])\n",
    "        add_eq!(sim_data, Symbol(\"cqSym3_\", n), 1, x -> vs(x, Symbol(\"q\", n))[12] - vs(x, Symbol(\"q\", n))[13]) \n",
    "        add_eq!(sim_data, Symbol(\"cqSym4_\", n), 1, x -> vs(x, Symbol(\"q\", n))[14] - vs(x, Symbol(\"q\", n))[15]) \n",
    "    end\n",
    "    \n",
    "#     n = 1\n",
    "#     cn0 = .5\n",
    "#     add_ineq!(sim_data, Symbol(\"cn1_\", n), 1, x -> cn0 .- vs(x, Symbol(\"c_n1_\", n)))\n",
    "#     add_ineq!(sim_data, Symbol(\"cn2_\", n), 1, x -> cn0 .- vs(x, Symbol(\"c_n2_\", n)))\n",
    "#     add_ineq!(sim_data, Symbol(\"cn3_\", n), 1, x -> cn0 .- vs(x, Symbol(\"c_n3_\", n)))\n",
    "#     add_ineq!(sim_data, Symbol(\"cn4_\", n), 1, x -> cn0 .- vs(x, Symbol(\"c_n4_\", n)))\n",
    "    \n",
    "    flight_start = 6\n",
    "    flight_end = 6\n",
    "    for n = flight_start:flight_end\n",
    "        add_eq!(sim_data, Symbol(\"cn1f_\", n), 1, x -> vs(x, Symbol(\"c_n1_\", n)))\n",
    "        add_eq!(sim_data, Symbol(\"cn2f_\", n), 1, x -> vs(x, Symbol(\"c_n2_\", n)))\n",
    "        add_eq!(sim_data, Symbol(\"cn3f_\", n), 1, x -> vs(x, Symbol(\"c_n3_\", n)))\n",
    "        add_eq!(sim_data, Symbol(\"cn4f_\", n), 1, x -> vs(x, Symbol(\"c_n4_\", n)))\n",
    "    end\n",
    "end\n",
    "\n",
    "function add_prob_obj!(sim_data)\n",
    "    vs = sim_data.vs    \n",
    "#     for n = 1:N-1\n",
    "#         add_obj!(sim_data, Symbol(\"u\", n), x -> sim_data.vs(x, Symbol(\"u\", n))' * sim_data.vs(x, Symbol(\"u\", n)))\n",
    "#     end\n",
    "#     for n = 1:N\n",
    "#         add_obj!(sim_data, Symbol(\"q\", n), x -> (sim_data.vs(x, Symbol(\"q\", n))[2:end] - q_nom[2:end])' * (sim_data.vs(x, Symbol(\"q\", n))[2:end] - q_nom[2:end]))\n",
    "#     end\n",
    "#     for n = 1:N\n",
    "#         add_obj!(sim_data, Symbol(\"q\", n), x -> sim_data.vs(x, Symbol(\"q\", n))[3]' * sim_data.vs(x, Symbol(\"q\", n))[3])\n",
    "#     end\n",
    "#     for n = 1:N-1\n",
    "#         add_obj!(sim_data, Symbol(\"c_n1_\", n), x -> vs(x, Symbol(\"c_n1_\", n))' * vs(x, Symbol(\"c_n1_\", n)))\n",
    "#         add_obj!(sim_data, Symbol(\"c_n2_\", n), x -> vs(x, Symbol(\"c_n2_\", n))' * vs(x, Symbol(\"c_n2_\", n)))\n",
    "#         add_obj!(sim_data, Symbol(\"c_n3_\", n), x -> vs(x, Symbol(\"c_n3_\", n))' * vs(x, Symbol(\"c_n3_\", n)))\n",
    "#         add_obj!(sim_data, Symbol(\"c_n4_\", n), x -> vs(x, Symbol(\"c_n4_\", n))' * vs(x, Symbol(\"c_n4_\", n)))\n",
    "#     end\n",
    "    for n = 1:N\n",
    "        add_obj!(sim_data, Symbol(\"v\", n), x -> sim_data.vs(x, Symbol(\"v\", n))' * sim_data.vs(x, Symbol(\"v\", n)))\n",
    "    end\n",
    "end\n",
    "\n",
    "function get_prob_limits(sim_data)\n",
    "    x_min = -1e12*ones(sim_data.vs.num_vars)\n",
    "    x_max = 1e12*ones(sim_data.vs.num_vars)\n",
    "    \n",
    "    # joint limits\n",
    "    add_box_con_snopt!(x_min, x_max, sim_data, :q, q_min, q_max, 1:N)\n",
    "    add_box_con_snopt!(x_min, x_max, sim_data, :h, [Δt], [Δt], 1:N-1)\n",
    "    \n",
    "    # torques limits\n",
    "    u_mag_max = 5.\n",
    "    u_min = vcat(zeros(3), -u_mag_max * ones(12))\n",
    "    u_max = vcat(zeros(3), u_mag_max * ones(12))\n",
    "    add_box_con_snopt!(x_min, x_max, sim_data, :u, u_min, u_max, 1:N-1)\n",
    "    \n",
    "    # velocity limits\n",
    "#     v_limit = 35.\n",
    "#     add_box_con_snopt!(x_min, x_max, sim_data, :v, -v_limit * ones(num_velocities(mechanism)), v_limit * ones(num_velocities(mechanism)), 1:N)\n",
    "    \n",
    "    x_min, x_max\n",
    "end\n",
    "\n",
    "function get_prob_init(sim_data)\n",
    "    x0 = zeros(sim_data.vs.num_vars)\n",
    "    for n = 1:N\n",
    "        qn = copy(q_nom)\n",
    "        qn[1] = (n/N)*(x_goal - 0.) + 0.\n",
    "        x0[sim_data.vs(Symbol(\"q\", n))] .= qn\n",
    "    end\n",
    "    \n",
    "    x0\n",
    "end\n",
    "\n",
    "function setup_prob!(sim_data)\n",
    "    add_prob_constraints!(sim_data)\n",
    "    add_prob_obj!(sim_data)\n",
    "    x_min, x_max = get_prob_limits(sim_data)\n",
    "    x0 = get_prob_init(sim_data)\n",
    "    \n",
    "    x0, x_min, x_max\n",
    "end"
   ]
  },
  {
   "cell_type": "code",
   "execution_count": 112,
   "metadata": {},
   "outputs": [],
   "source": [
    "# Semidirect\n",
    "\n",
    "sim_data = get_trajopt_data_semidirect(mechanism,env,Δt,N,relax_comp=false)\n",
    "x0, x_min, x_max = setup_prob!(sim_data);"
   ]
  },
  {
   "cell_type": "code",
   "execution_count": 128,
   "metadata": {},
   "outputs": [
    {
     "data": {
      "text/plain": [
       "(Array{Float64,1}[[0.0, -0.0912137, 0.03673, 0.238425, -0.25, 0.24235, -0.246336, -1.17334, -1.17334, -0.237719, -0.237719, -0.0662277, -0.0662277, -0.87739, -0.87739], [0.00287444, -0.0886771, 0.238311, 0.220008, -0.219291, 0.24235, -0.25, -1.05066, -1.05066, -0.132314, -0.132314, -0.843105, -0.843105, -0.952241, -0.952241], [0.0056202, -0.07, 0.314159, 0.225471, -0.223626, 0.24235, -0.237886, -0.985371, -0.985371, -0.127025, -0.127025, -1.32729, -1.32729, -1.15525, -1.15525], [0.0395997, -0.109381, -0.227581, 0.215236, -0.215446, 0.24235, -0.25, -0.14775, -0.14775, 0.310283, 0.310283, -0.733154, -0.733154, -1.193, -1.193], [0.0728643, -0.157881, -0.16311, 0.215236, -0.21524, 0.24235, -0.25, -0.261543, -0.261543, 0.871906, 0.871906, -0.611491, -0.611491, -0.868386, -0.868386], [0.105459, -0.183333, -0.011793, 0.25, -0.25, 0.24235, -0.237886, -0.464394, -0.464394, 0.455345, 0.455345, -0.537429, -0.537429, -0.939587, -0.939587], [0.142187, -0.18444, 0.122373, 0.216743, -0.233111, 0.24235, -0.237886, -0.634349, -0.634349, 0.256729, 0.256729, -0.251158, -0.251158, -0.991435, -0.991435], [0.177961, -0.16652, 0.162591, 0.245996, -0.21524, 0.24235, -0.237886, -0.786713, -0.786713, 0.040955, 0.040955, -0.0642875, -0.0642875, -1.0473, -1.0473], [0.211417, -0.142564, -0.0807614, 0.25, -0.21524, 0.24235, -0.237886, -0.523133, -0.523133, 0.0128727, 0.0128727, -0.0199101, -0.0199101, -1.10255, -1.10255], [0.238531, -0.0956347, -0.314159, 0.21524, -0.21524, 0.25, -0.25, -0.451234, -0.451234, 0.112901, 0.112901, -0.150873, -0.150873, -1.14857, -1.14857], [0.25, -0.0895149, 0.03673, 0.238425, -0.25, 0.24235, -0.246336, -1.17334, -1.17334, -0.237719, -0.237719, -0.0662277, -0.0662277, -0.87739, -0.87739], [0.25, -0.0896308, 0.03673, 0.238425, -0.25, 0.24235, -0.246336, -1.17334, -1.17334, -0.237719, -0.237719, -0.0662277, -0.0662277, -0.87739, -0.87739]], Array{Float64,1}[[9.16132e-14, -2.91063e-23, 0.0, 0.0, 0.0, 0.0, 0.0, 0.0, 0.0, 0.0, 0.0, 0.0, 0.0, 0.0, 0.0], [0.0630849, 0.0367225, 4.03161, -0.368334, 0.614181, 3.46945e-17, -0.0732796, 2.45361, 2.45361, 2.10809, 2.10809, -15.5375, -15.5375, -1.49702, -1.49702], [0.167658, 0.33829, 1.51697, 0.109254, -0.0866981, 2.42861e-16, 0.242288, 1.30581, 1.30581, 0.105786, 0.105786, -9.68376, -9.68376, -4.06026, -4.06026], [0.84372, -0.621695, -10.8348, -0.204699, 0.163592, -2.49106e-15, -0.242288, 16.7524, 16.7524, 8.74615, 8.74615, 11.8828, 11.8828, -0.754875, -0.754875], [0.817347, -0.859549, 1.28943, -9.71445e-16, 0.00412585, 7.38298e-15, -7.77156e-16, -2.27584, -2.27584, 11.2325, 11.2325, 2.43326, 2.43326, 6.49221, 6.49221], [0.657911, -0.506802, 3.02634, 0.695285, -0.6952, -6.14439e-15, 0.242288, -4.05704, -4.05704, -8.33121, -8.33121, 1.48124, 1.48124, -1.42402, -1.42402], [0.72565, -0.117705, 2.68332, -0.665132, 0.337788, -2.08427e-15, 2.33971e-16, -3.39908, -3.39908, -3.97232, -3.97232, 5.72542, 5.72542, -1.03694, -1.03694], [0.756666, 0.243672, 0.804365, 0.585048, 0.357412, 4.06879e-15, -5.58386e-15, -3.04729, -3.04729, -4.31548, -4.31548, 3.73741, 3.73741, -1.11728, -1.11728], [0.628635, 0.534232, -4.86706, 0.080084, -4.45477e-15, -1.48319e-16, 1.05818e-14, 5.2716, 5.2716, -0.561646, -0.561646, 0.887548, 0.887548, -1.10506, -1.10506], [0.225692, 1.06022, -4.66796, -0.695201, 3.28904e-15, 0.153002, -0.242288, 1.43797, 1.43797, 2.00056, 2.00056, -2.61925, -2.61925, -0.920398, -0.920398], [0.243876, 0.0923129, 7.01778, 0.463695, -0.6952, -0.153002, 0.0732796, -14.4422, -14.4422, -7.01239, -7.01239, 1.6929, 1.6929, 5.42364, 5.42364], [5.18762e-13, 0.0, 0.0, 0.0, 0.0, 0.0, 0.0, 0.0, 0.0, 0.0, 0.0, 0.0, 0.0, 0.0, 0.0]], Array{Float64,1}[[0.0, 0.0, 0.0, -0.0243416, 0.0137771, 0.0605807, 0.734082, 0.0539107, 0.043475, 0.0438475, 0.39697, -0.0157656, -0.00569373, 0.0162057, 0.559435], [0.0, 0.0, 0.0, -0.0945127, 0.107932, -0.012375, 0.00862611, 0.0477857, 0.0461648, -0.0383553, -0.0374604, -0.128522, -0.139835, -0.00954726, -0.0104475], [0.0, 0.0, 0.0, -1.53837, 0.773482, -0.565596, 0.448045, 0.0093517, -0.0328623, 0.207418, 0.162012, -1.22756, -0.710691, 0.399168, 0.341443], [0.0, 0.0, 0.0, -0.0582557, 0.0588429, -1.0362, -0.109828, -0.108628, -0.10858, -0.60825, 0.165214, -0.0187458, -0.0187507, 0.946114, 0.0814517], [0.0, 0.0, 0.0, -0.00873345, 0.0089958, -0.00696689, 0.00786564, 0.00449909, 0.00414943, -0.210531, -0.210507, 0.000268577, 0.000278395, -0.050044, -0.0499832], [0.0, 0.0, 0.0, -0.0138231, 0.00961176, -0.00208235, -0.000589531, 0.00895601, 0.00863451, 0.0272463, 0.0274072, 0.00636152, 0.00625547, 0.00644097, 0.00638718], [0.0, 0.0, 0.0, 0.0524246, 0.167672, -0.00947654, 0.00876741, -0.0627893, 0.197917, -0.0278679, -0.0280802, -0.0106913, -0.182327, -0.00464483, -0.00466483], [0.0, 0.0, 0.0, 0.0963625, 0.607609, -0.0169053, 0.0150575, -0.0170156, 0.239516, -0.0321974, -0.0328217, -0.00292864, -0.496239, -0.00284642, -0.00292044], [0.0, 0.0, 0.0, -0.00514482, -0.00528554, 0.00253791, -0.00374547, -0.0341178, -0.033377, 0.0216574, 0.0218318, -0.0111907, -0.0110492, 0.00337224, 0.00336025], [0.0, 0.0, 0.0, 0.0124173, -0.00840686, -0.68195, 1.68275, 0.0556199, -0.0736279, 1.05254, 1.91371, -0.0253475, -0.0106171, 0.564362, 1.25784], [0.0, 0.0, 0.0, -0.133385, 0.551861, -0.000292241, 0.000346193, 0.516362, -1.32954, 0.0397235, 0.0393601, -0.234331, -1.96238, -0.000562772, -0.000549153]], [0.05, 0.05, 0.05, 0.05, 0.05, 0.05, 0.05, 0.05, 0.05, 0.05, 0.05], Array{Float64,1}[[0.0145975, 0.000169657, 0.0294032, 0.814682], [0.173203, 0.189177, 0.000976746, 0.0], [1.76135, 1.02032, 0.60064, 0.518525], [0.0, 0.0, 1.36409, 0.116616], [0.0, 0.0, 1.9118e-13, 0.0], [0.0, 0.0, 0.0, 0.0], [1.0842e-19, 0.247121, -1.65107e-13, -5.26246e-14], [-1.32349e-23, 0.706442, 0.0, 0.0], [0.0, 0.0, 0.0, 0.0], [0.0217432, 0.0, 0.857233, 1.85961], [0.331864, 0.878385, -6.93889e-18, -3.46945e-18]], Array{Float64,1}[], [0.0, 0.05, 0.1, 0.15, 0.2, 0.25, 0.3, 0.35, 0.4, 0.45, 0.5, 0.55], [0.0 0.00287444 … 0.25 0.25; -0.0912137 -0.0886771 … -0.0895149 -0.0896308; … ; 0.0 -1.49702 … 5.42364 0.0; 0.0 -1.49702 … 5.42364 0.0], [0.0, -0.0912137, 0.03673, 0.238425, -0.25, 0.24235, -0.246336, -1.17334, -1.17334, -0.237719  …  0.0, 0.0, 0.0, 0.0, 0.0, 0.0, 0.0, 0.0, 0.0, 0.0])"
      ]
     },
     "metadata": {},
     "output_type": "display_data"
    },
    {
     "name": "stdout",
     "output_type": "stream",
     "text": [
      "Resource limit error: iteration limit reached\n",
      " 31.612929 seconds (69.92 M allocations: 37.619 GiB, 36.15% gc time)\n"
     ]
    }
   ],
   "source": [
    "con_tol = 1e-5\n",
    "obj_tol = 1e-5\n",
    "max_iter = 5000\n",
    "\n",
    "display(@time traj_semidirect = Bilevel.trajopt(sim_data, x0=x0, x_min=x_min, x_max=x_max, verbose=1, opt_tol=obj_tol, major_feas=con_tol, minor_feas=con_tol, max_iter=max_iter))\n",
    "\n",
    "x0 = traj_semidirect[9]\n",
    "\n",
    "setanimation!(mvis, traj_semidirect[7], traj_semidirect[1])"
   ]
  },
  {
   "cell_type": "code",
   "execution_count": 145,
   "metadata": {},
   "outputs": [
    {
     "data": {
      "text/plain": [
       "1"
      ]
     },
     "execution_count": 145,
     "metadata": {},
     "output_type": "execute_result"
    }
   ],
   "source": [
    "qi = 1"
   ]
  },
  {
   "cell_type": "code",
   "execution_count": 157,
   "metadata": {},
   "outputs": [
    {
     "data": {
      "text/plain": [
       "13"
      ]
     },
     "execution_count": 157,
     "metadata": {},
     "output_type": "execute_result"
    }
   ],
   "source": [
    "q = traj_semidirect[1][qi]\n",
    "set_configuration!(mvis, q) \n",
    "qi += 1"
   ]
  },
  {
   "cell_type": "code",
   "execution_count": null,
   "metadata": {},
   "outputs": [],
   "source": [
    "set_configuration!(mvis, traj_semidirect[1][10])"
   ]
  },
  {
   "cell_type": "code",
   "execution_count": null,
   "metadata": {},
   "outputs": [],
   "source": [
    "function run_trajopt()\n",
    "    Bilevel.solve_rosenbrock() # clearing SNOPT\n",
    "    Bilevel.trajopt(sim_data, x0=x0, x_min=x_min, x_max=x_max, verbose=0, opt_tol=obj_tol, major_feas=con_tol, minor_feas=con_tol, max_iter=max_iter)\n",
    "end\n",
    "\n",
    "@benchmark run_trajopt()"
   ]
  },
  {
   "cell_type": "code",
   "execution_count": 163,
   "metadata": {},
   "outputs": [
    {
     "data": {
      "text/plain": [
       "9-element Array{Array{Float64,1},1}:\n",
       " [0.0, 0.0, 0.0, -0.0931553, 0.5, -0.5, 0.174736, -0.0929927, -0.24526, 0.5, 0.176453, -0.119082, -0.375631, 0.376667, 0.172143]                           \n",
       " [0.0, 0.0, 0.0, -0.0462829, 0.0492053, 0.0046316, -0.00518408, -0.134978, -0.135151, -0.112767, -0.122938, -0.0188862, -0.0188725, 0.00542919, 0.00275375]\n",
       " [0.0, 0.0, 0.0, 0.0492126, 0.497859, -0.5, 0.244002, 0.0674411, 0.472322, 0.241109, 0.194882, 0.0124781, -0.386743, 0.401108, 0.237383]                   \n",
       " [0.0, 0.0, 0.0, -0.436051, -0.0717165, -0.365917, 0.296834, -0.338468, -0.00454092, 0.5, 0.429672, -0.3043, 0.0147638, 0.295045, 0.258131]                \n",
       " [0.0, 0.0, 0.0, -0.022021, 0.366205, -0.0415346, 0.0353881, -0.0802478, -0.184629, 0.00659569, 0.00658831, -0.0520025, -0.267254, -0.023177, -0.023157]   \n",
       " [0.0, 0.0, 0.0, -0.153525, 0.153722, -0.266281, 0.257308, -0.476268, -0.477709, 0.5, 0.5, -0.162666, -0.163072, 0.272507, 0.272511]                       \n",
       " [0.0, 0.0, 0.0, -0.236115, 0.0697116, 0.0570517, 0.341808, 0.238123, -0.0539432, 0.115529, -0.423934, -0.274982, -0.109121, 0.0091602, 0.357899]          \n",
       " [0.0, 0.0, 0.0, 0.0372387, 0.438498, -0.410216, 0.00494204, 0.187819, -0.5, 0.5, -0.0866513, 0.000285604, -0.320631, 0.302297, 0.0285573]                 \n",
       " [0.0, 0.0, 0.0, -0.0741124, 0.272749, -0.270806, 0.150465, -0.207426, -0.5, 0.5, 0.33124, -0.0748071, -0.21139, 0.217528, 0.138707]                       "
      ]
     },
     "execution_count": 163,
     "metadata": {},
     "output_type": "execute_result"
    }
   ],
   "source": [
    "traj_semidirect[3]"
   ]
  },
  {
   "cell_type": "code",
   "execution_count": 115,
   "metadata": {},
   "outputs": [
    {
     "data": {
      "text/plain": [
       "0.8733823863802814"
      ]
     },
     "execution_count": 115,
     "metadata": {},
     "output_type": "execute_result"
    }
   ],
   "source": [
    "maximum(abs.(vcat(traj_semidirect[3]...)))"
   ]
  },
  {
   "cell_type": "code",
   "execution_count": 143,
   "metadata": {},
   "outputs": [],
   "source": [
    "cntraj = hcat(traj_semidirect[5]...)\n",
    "front_traj = cntraj[1,:] .+ cntraj[2,:]\n",
    "back_traj = cntraj[3,:] .+ cntraj[4,:];"
   ]
  },
  {
   "cell_type": "code",
   "execution_count": 144,
   "metadata": {},
   "outputs": [
    {
     "data": {
      "image/svg+xml": [
       "<?xml version=\"1.0\" encoding=\"utf-8\"?>\n",
       "<svg xmlns=\"http://www.w3.org/2000/svg\" xmlns:xlink=\"http://www.w3.org/1999/xlink\" width=\"600\" height=\"400\" viewBox=\"0 0 2400 1600\">\n",
       "<defs>\n",
       "  <clipPath id=\"clip2500\">\n",
       "    <rect x=\"0\" y=\"0\" width=\"2400\" height=\"1600\"/>\n",
       "  </clipPath>\n",
       "</defs>\n",
       "<polygon clip-path=\"url(#clip2500)\" points=\"\n",
       "0,1600 2400,1600 2400,0 0,0 \n",
       "  \" fill=\"#ffffff\" fill-rule=\"evenodd\" fill-opacity=\"1\"/>\n",
       "<defs>\n",
       "  <clipPath id=\"clip2501\">\n",
       "    <rect x=\"480\" y=\"0\" width=\"1681\" height=\"1600\"/>\n",
       "  </clipPath>\n",
       "</defs>\n",
       "<polygon clip-path=\"url(#clip2500)\" points=\"\n",
       "195.246,1442.93 2352.76,1442.93 2352.76,47.2441 195.246,47.2441 \n",
       "  \" fill=\"#ffffff\" fill-rule=\"evenodd\" fill-opacity=\"1\"/>\n",
       "<defs>\n",
       "  <clipPath id=\"clip2502\">\n",
       "    <rect x=\"195\" y=\"47\" width=\"2159\" height=\"1397\"/>\n",
       "  </clipPath>\n",
       "</defs>\n",
       "<polyline clip-path=\"url(#clip2502)\" style=\"stroke:#000000; stroke-width:2; stroke-opacity:0.1; fill:none\" points=\"\n",
       "  256.308,1442.93 256.308,47.2441 \n",
       "  \"/>\n",
       "<polyline clip-path=\"url(#clip2502)\" style=\"stroke:#000000; stroke-width:2; stroke-opacity:0.1; fill:none\" points=\"\n",
       "  663.385,1442.93 663.385,47.2441 \n",
       "  \"/>\n",
       "<polyline clip-path=\"url(#clip2502)\" style=\"stroke:#000000; stroke-width:2; stroke-opacity:0.1; fill:none\" points=\"\n",
       "  1070.46,1442.93 1070.46,47.2441 \n",
       "  \"/>\n",
       "<polyline clip-path=\"url(#clip2502)\" style=\"stroke:#000000; stroke-width:2; stroke-opacity:0.1; fill:none\" points=\"\n",
       "  1477.54,1442.93 1477.54,47.2441 \n",
       "  \"/>\n",
       "<polyline clip-path=\"url(#clip2502)\" style=\"stroke:#000000; stroke-width:2; stroke-opacity:0.1; fill:none\" points=\"\n",
       "  1884.62,1442.93 1884.62,47.2441 \n",
       "  \"/>\n",
       "<polyline clip-path=\"url(#clip2502)\" style=\"stroke:#000000; stroke-width:2; stroke-opacity:0.1; fill:none\" points=\"\n",
       "  2291.69,1442.93 2291.69,47.2441 \n",
       "  \"/>\n",
       "<polyline clip-path=\"url(#clip2502)\" style=\"stroke:#000000; stroke-width:2; stroke-opacity:0.1; fill:none\" points=\"\n",
       "  195.246,1403.43 2352.76,1403.43 \n",
       "  \"/>\n",
       "<polyline clip-path=\"url(#clip2502)\" style=\"stroke:#000000; stroke-width:2; stroke-opacity:0.1; fill:none\" points=\"\n",
       "  195.246,1166.75 2352.76,1166.75 \n",
       "  \"/>\n",
       "<polyline clip-path=\"url(#clip2502)\" style=\"stroke:#000000; stroke-width:2; stroke-opacity:0.1; fill:none\" points=\"\n",
       "  195.246,930.083 2352.76,930.083 \n",
       "  \"/>\n",
       "<polyline clip-path=\"url(#clip2502)\" style=\"stroke:#000000; stroke-width:2; stroke-opacity:0.1; fill:none\" points=\"\n",
       "  195.246,693.412 2352.76,693.412 \n",
       "  \"/>\n",
       "<polyline clip-path=\"url(#clip2502)\" style=\"stroke:#000000; stroke-width:2; stroke-opacity:0.1; fill:none\" points=\"\n",
       "  195.246,456.741 2352.76,456.741 \n",
       "  \"/>\n",
       "<polyline clip-path=\"url(#clip2502)\" style=\"stroke:#000000; stroke-width:2; stroke-opacity:0.1; fill:none\" points=\"\n",
       "  195.246,220.069 2352.76,220.069 \n",
       "  \"/>\n",
       "<polyline clip-path=\"url(#clip2500)\" style=\"stroke:#000000; stroke-width:4; stroke-opacity:1; fill:none\" points=\"\n",
       "  195.246,1442.93 2352.76,1442.93 \n",
       "  \"/>\n",
       "<polyline clip-path=\"url(#clip2500)\" style=\"stroke:#000000; stroke-width:4; stroke-opacity:1; fill:none\" points=\"\n",
       "  195.246,1442.93 195.246,47.2441 \n",
       "  \"/>\n",
       "<polyline clip-path=\"url(#clip2500)\" style=\"stroke:#000000; stroke-width:4; stroke-opacity:1; fill:none\" points=\"\n",
       "  256.308,1442.93 256.308,1421.99 \n",
       "  \"/>\n",
       "<polyline clip-path=\"url(#clip2500)\" style=\"stroke:#000000; stroke-width:4; stroke-opacity:1; fill:none\" points=\"\n",
       "  663.385,1442.93 663.385,1421.99 \n",
       "  \"/>\n",
       "<polyline clip-path=\"url(#clip2500)\" style=\"stroke:#000000; stroke-width:4; stroke-opacity:1; fill:none\" points=\"\n",
       "  1070.46,1442.93 1070.46,1421.99 \n",
       "  \"/>\n",
       "<polyline clip-path=\"url(#clip2500)\" style=\"stroke:#000000; stroke-width:4; stroke-opacity:1; fill:none\" points=\"\n",
       "  1477.54,1442.93 1477.54,1421.99 \n",
       "  \"/>\n",
       "<polyline clip-path=\"url(#clip2500)\" style=\"stroke:#000000; stroke-width:4; stroke-opacity:1; fill:none\" points=\"\n",
       "  1884.62,1442.93 1884.62,1421.99 \n",
       "  \"/>\n",
       "<polyline clip-path=\"url(#clip2500)\" style=\"stroke:#000000; stroke-width:4; stroke-opacity:1; fill:none\" points=\"\n",
       "  2291.69,1442.93 2291.69,1421.99 \n",
       "  \"/>\n",
       "<polyline clip-path=\"url(#clip2500)\" style=\"stroke:#000000; stroke-width:4; stroke-opacity:1; fill:none\" points=\"\n",
       "  195.246,1403.43 227.609,1403.43 \n",
       "  \"/>\n",
       "<polyline clip-path=\"url(#clip2500)\" style=\"stroke:#000000; stroke-width:4; stroke-opacity:1; fill:none\" points=\"\n",
       "  195.246,1166.75 227.609,1166.75 \n",
       "  \"/>\n",
       "<polyline clip-path=\"url(#clip2500)\" style=\"stroke:#000000; stroke-width:4; stroke-opacity:1; fill:none\" points=\"\n",
       "  195.246,930.083 227.609,930.083 \n",
       "  \"/>\n",
       "<polyline clip-path=\"url(#clip2500)\" style=\"stroke:#000000; stroke-width:4; stroke-opacity:1; fill:none\" points=\"\n",
       "  195.246,693.412 227.609,693.412 \n",
       "  \"/>\n",
       "<polyline clip-path=\"url(#clip2500)\" style=\"stroke:#000000; stroke-width:4; stroke-opacity:1; fill:none\" points=\"\n",
       "  195.246,456.741 227.609,456.741 \n",
       "  \"/>\n",
       "<polyline clip-path=\"url(#clip2500)\" style=\"stroke:#000000; stroke-width:4; stroke-opacity:1; fill:none\" points=\"\n",
       "  195.246,220.069 227.609,220.069 \n",
       "  \"/>\n",
       "<g clip-path=\"url(#clip2500)\">\n",
       "<text style=\"fill:#000000; fill-opacity:1; font-family:Arial,Helvetica Neue,Helvetica,sans-serif; font-size:48px; text-anchor:middle;\" transform=\"rotate(0, 256.308, 1496.93)\" x=\"256.308\" y=\"1496.93\">0.0</text>\n",
       "</g>\n",
       "<g clip-path=\"url(#clip2500)\">\n",
       "<text style=\"fill:#000000; fill-opacity:1; font-family:Arial,Helvetica Neue,Helvetica,sans-serif; font-size:48px; text-anchor:middle;\" transform=\"rotate(0, 663.385, 1496.93)\" x=\"663.385\" y=\"1496.93\">0.1</text>\n",
       "</g>\n",
       "<g clip-path=\"url(#clip2500)\">\n",
       "<text style=\"fill:#000000; fill-opacity:1; font-family:Arial,Helvetica Neue,Helvetica,sans-serif; font-size:48px; text-anchor:middle;\" transform=\"rotate(0, 1070.46, 1496.93)\" x=\"1070.46\" y=\"1496.93\">0.2</text>\n",
       "</g>\n",
       "<g clip-path=\"url(#clip2500)\">\n",
       "<text style=\"fill:#000000; fill-opacity:1; font-family:Arial,Helvetica Neue,Helvetica,sans-serif; font-size:48px; text-anchor:middle;\" transform=\"rotate(0, 1477.54, 1496.93)\" x=\"1477.54\" y=\"1496.93\">0.3</text>\n",
       "</g>\n",
       "<g clip-path=\"url(#clip2500)\">\n",
       "<text style=\"fill:#000000; fill-opacity:1; font-family:Arial,Helvetica Neue,Helvetica,sans-serif; font-size:48px; text-anchor:middle;\" transform=\"rotate(0, 1884.62, 1496.93)\" x=\"1884.62\" y=\"1496.93\">0.4</text>\n",
       "</g>\n",
       "<g clip-path=\"url(#clip2500)\">\n",
       "<text style=\"fill:#000000; fill-opacity:1; font-family:Arial,Helvetica Neue,Helvetica,sans-serif; font-size:48px; text-anchor:middle;\" transform=\"rotate(0, 2291.69, 1496.93)\" x=\"2291.69\" y=\"1496.93\">0.5</text>\n",
       "</g>\n",
       "<g clip-path=\"url(#clip2500)\">\n",
       "<text style=\"fill:#000000; fill-opacity:1; font-family:Arial,Helvetica Neue,Helvetica,sans-serif; font-size:48px; text-anchor:end;\" transform=\"rotate(0, 171.246, 1420.93)\" x=\"171.246\" y=\"1420.93\">0.0</text>\n",
       "</g>\n",
       "<g clip-path=\"url(#clip2500)\">\n",
       "<text style=\"fill:#000000; fill-opacity:1; font-family:Arial,Helvetica Neue,Helvetica,sans-serif; font-size:48px; text-anchor:end;\" transform=\"rotate(0, 171.246, 1184.25)\" x=\"171.246\" y=\"1184.25\">0.5</text>\n",
       "</g>\n",
       "<g clip-path=\"url(#clip2500)\">\n",
       "<text style=\"fill:#000000; fill-opacity:1; font-family:Arial,Helvetica Neue,Helvetica,sans-serif; font-size:48px; text-anchor:end;\" transform=\"rotate(0, 171.246, 947.583)\" x=\"171.246\" y=\"947.583\">1.0</text>\n",
       "</g>\n",
       "<g clip-path=\"url(#clip2500)\">\n",
       "<text style=\"fill:#000000; fill-opacity:1; font-family:Arial,Helvetica Neue,Helvetica,sans-serif; font-size:48px; text-anchor:end;\" transform=\"rotate(0, 171.246, 710.912)\" x=\"171.246\" y=\"710.912\">1.5</text>\n",
       "</g>\n",
       "<g clip-path=\"url(#clip2500)\">\n",
       "<text style=\"fill:#000000; fill-opacity:1; font-family:Arial,Helvetica Neue,Helvetica,sans-serif; font-size:48px; text-anchor:end;\" transform=\"rotate(0, 171.246, 474.241)\" x=\"171.246\" y=\"474.241\">2.0</text>\n",
       "</g>\n",
       "<g clip-path=\"url(#clip2500)\">\n",
       "<text style=\"fill:#000000; fill-opacity:1; font-family:Arial,Helvetica Neue,Helvetica,sans-serif; font-size:48px; text-anchor:end;\" transform=\"rotate(0, 171.246, 237.569)\" x=\"171.246\" y=\"237.569\">2.5</text>\n",
       "</g>\n",
       "<g clip-path=\"url(#clip2500)\">\n",
       "<image width=\"21\" height=\"42\" xlink:href=\"data:image/png;base64,\n",
       "iVBORw0KGgoAAAANSUhEUgAAABUAAAAqCAYAAABcOxDuAAABl0lEQVRIia3W4c3CIBAG4FcnII7g\n",
       "CDdD3YAZOgJxBEZghsYJiCN0BOwIxA3u+4X5sNAeVBJ+0F7fwJMzcmJmtIzX68WPxwNEhNvtdioW\n",
       "MbN4eu8ZwGdO08SlunPLLu/3e7ZelqVcKN1ljDHbJQD23hd3Kg6dpmkVWqsVH//5fGZrIqrWdocO\n",
       "w1Av/rWn2LTFU2za4gkITZs8gf3jt3qKTFs9mRnw3rNSavVh7/Te83lZFrzfbwmtaFwul+3jhxCa\n",
       "PXdNezx3+7S1P9NoCt3tzzR+2Z+7pr2em6a9nsCGabcnUD7+Ec+q6RHPqukRT6BiesgTWB//qGfR\n",
       "9Khn0fSoJ1Awnec5Wzd7AviJZ4yRtdY8zzOvTL+vigA4xrgbaoxhABxCWIdaa7NAIhLt8rs2M+3x\n",
       "THdWa23Z9Hq9im7Kaab/MK11VrcZmuBrU2udWRZDU5EkNPk751Y12cI5J2qnVDeOY/H96gERfUKN\n",
       "MdlHqR+3AouhIQT+HzyOIxtj+D+NtXbTuvrCOcfDMLBSipVSTERsjBH9GP4A/KauBMnGQOkAAAAA\n",
       "SUVORK5CYII=\n",
       "\" transform=\"translate(1264, 1519)\"/>\n",
       "</g>\n",
       "<g clip-path=\"url(#clip2500)\">\n",
       "<image width=\"39\" height=\"56\" xlink:href=\"data:image/png;base64,\n",
       "iVBORw0KGgoAAAANSUhEUgAAACcAAAA4CAYAAAB+I+F7AAADyUlEQVRogcVZ/5GyMBB9WkG0hHgV\n",
       "REuIHWQsAa6CeCVQQrSElKCWwFkBUELuOtjvDyd8qIgBwtzO7Jxygs/9+XYDIsJfaZ7nxDknrTU5\n",
       "5+jx/38GjIjgnCMpJQEgAKS1vgP4p+CaILXWBIA457UV/xxYm5s550REmBERYsv39zcdj0fkeQ4A\n",
       "4Jxjs9lAKYXVajXrurcsS/r4+ECWZfEtl2VZHUNtyhgjrTUVRUGvnqG1Js55XGBFUXQCe1TOOWVZ\n",
       "9pSp1loCQFHdmqYpHY9HMMYgpcRyuURVVcjzHL+/v533SikhpQQAWGtvn49pOR/MbTWrKAoyxtyV\n",
       "ji5NkiSuWwFQlmUvY8mrc46MMSSEeBmXzrn44Ky1b8E9WtQnAOeclFLT1DkhRJDlQnUeLRtwq2e+\n",
       "tkWRmJbL85wAdNawPhq9Q6zXa1oulzifz52dIEhiWs4HOFoYxqAEiw2O6H+FT5JkFMBJwDUBCiEo\n",
       "z/NBIKODeiSQaFT80+nUC2R0YJzzt61JSklZlr3N6qjgPJvto4wxUkqRMeYJbNRSslqtyDmHr68v\n",
       "cM5rRnK5XN6yEi+MMex2u/hkEx291TlH1lpKkiTY9VHB+TEvND49WMZYq7ujgvMUvS8zIfrP95RS\n",
       "NUOOCq4JUAhBxphW4hkcJrHBEd0IQLPWCSEGkYGolMnLer2enc/nWVEU0FoDQHC2NmWSuTWWTGK5\n",
       "WHIHrixL2u/3tN1uKU1TOhwOg8x6OBxou91SWZbj3PKYZY/6atR7lxD+/r7N/ilbjTF1VrVVb6VU\n",
       "7y/I87wurqMoE2Os3uwopVqr9ZCHF0VBjLF6Du0NzlvN/7qmS8aCaz5PCNEfnG8XzYvW2rt+Z4wZ\n",
       "DK4ZNn2fAyFEK9d3ztHpdIo25gkhensACNxvjFXv3j7WA2Ns9JTUx3qPIdSl8+grhA5JkgRVVSG0\n",
       "OM8557her1PjAgDsdjsAwOVyCfr8fLPZAAD2+/3kDGCxWMwYY8Hg4JyrS8YYYhiqSqngmjdfLBYz\n",
       "v4v1f6cUP5WFyBxATQiv1yu22+2k7l0ul+HEs2luNMayqVzsB++gOudfOOeeRrQhU9Q7lVIG17q7\n",
       "N34z1FQhRDSQfncXSsGeLvgm/aj+WGgoN3PO1av90B/bejHk/CpJErLWBhEDY0wdMn2a/8vp63A4\n",
       "0OfnZ3AWSinBGAPnHMBtFGw7WjLGIE3TsH1xF/Im1Y6hfel+UKwM2bs9qpSyd6z2Cui2+SJEhzLp\n",
       "QVlnrX17+uePmsYU89HriJ+fH6qqCs45ALf2xDnHYrEYfUjyD2m6B4IVcRaRAAAAAElFTkSuQmCC\n",
       "\" transform=\"translate(39, 717)\"/>\n",
       "</g>\n",
       "<polyline clip-path=\"url(#clip2502)\" style=\"stroke:#e3ae33; stroke-width:24; stroke-opacity:1; fill:none\" points=\"\n",
       "  256.308,1396.44 459.846,1231.9 663.385,86.7445 866.924,1403.43 1070.46,1403.43 1274,1403.43 1477.54,1286.45 1681.08,1069.04 1884.62,1403.43 2088.16,1393.13 \n",
       "  2291.69,830.564 \n",
       "  \"/>\n",
       "<circle clip-path=\"url(#clip2502)\" style=\"fill:#000000; stroke:none; fill-opacity:1\" cx=\"256.308\" cy=\"1396.44\" r=\"25\"/>\n",
       "<circle clip-path=\"url(#clip2502)\" style=\"fill:#e3ae33; stroke:none; fill-opacity:1\" cx=\"256.308\" cy=\"1396.44\" r=\"21\"/>\n",
       "<circle clip-path=\"url(#clip2502)\" style=\"fill:#000000; stroke:none; fill-opacity:1\" cx=\"459.846\" cy=\"1231.9\" r=\"25\"/>\n",
       "<circle clip-path=\"url(#clip2502)\" style=\"fill:#e3ae33; stroke:none; fill-opacity:1\" cx=\"459.846\" cy=\"1231.9\" r=\"21\"/>\n",
       "<circle clip-path=\"url(#clip2502)\" style=\"fill:#000000; stroke:none; fill-opacity:1\" cx=\"663.385\" cy=\"86.7445\" r=\"25\"/>\n",
       "<circle clip-path=\"url(#clip2502)\" style=\"fill:#e3ae33; stroke:none; fill-opacity:1\" cx=\"663.385\" cy=\"86.7445\" r=\"21\"/>\n",
       "<circle clip-path=\"url(#clip2502)\" style=\"fill:#000000; stroke:none; fill-opacity:1\" cx=\"866.924\" cy=\"1403.43\" r=\"25\"/>\n",
       "<circle clip-path=\"url(#clip2502)\" style=\"fill:#e3ae33; stroke:none; fill-opacity:1\" cx=\"866.924\" cy=\"1403.43\" r=\"21\"/>\n",
       "<circle clip-path=\"url(#clip2502)\" style=\"fill:#000000; stroke:none; fill-opacity:1\" cx=\"1070.46\" cy=\"1403.43\" r=\"25\"/>\n",
       "<circle clip-path=\"url(#clip2502)\" style=\"fill:#e3ae33; stroke:none; fill-opacity:1\" cx=\"1070.46\" cy=\"1403.43\" r=\"21\"/>\n",
       "<circle clip-path=\"url(#clip2502)\" style=\"fill:#000000; stroke:none; fill-opacity:1\" cx=\"1274\" cy=\"1403.43\" r=\"25\"/>\n",
       "<circle clip-path=\"url(#clip2502)\" style=\"fill:#e3ae33; stroke:none; fill-opacity:1\" cx=\"1274\" cy=\"1403.43\" r=\"21\"/>\n",
       "<circle clip-path=\"url(#clip2502)\" style=\"fill:#000000; stroke:none; fill-opacity:1\" cx=\"1477.54\" cy=\"1286.45\" r=\"25\"/>\n",
       "<circle clip-path=\"url(#clip2502)\" style=\"fill:#e3ae33; stroke:none; fill-opacity:1\" cx=\"1477.54\" cy=\"1286.45\" r=\"21\"/>\n",
       "<circle clip-path=\"url(#clip2502)\" style=\"fill:#000000; stroke:none; fill-opacity:1\" cx=\"1681.08\" cy=\"1069.04\" r=\"25\"/>\n",
       "<circle clip-path=\"url(#clip2502)\" style=\"fill:#e3ae33; stroke:none; fill-opacity:1\" cx=\"1681.08\" cy=\"1069.04\" r=\"21\"/>\n",
       "<circle clip-path=\"url(#clip2502)\" style=\"fill:#000000; stroke:none; fill-opacity:1\" cx=\"1884.62\" cy=\"1403.43\" r=\"25\"/>\n",
       "<circle clip-path=\"url(#clip2502)\" style=\"fill:#e3ae33; stroke:none; fill-opacity:1\" cx=\"1884.62\" cy=\"1403.43\" r=\"21\"/>\n",
       "<circle clip-path=\"url(#clip2502)\" style=\"fill:#000000; stroke:none; fill-opacity:1\" cx=\"2088.16\" cy=\"1393.13\" r=\"25\"/>\n",
       "<circle clip-path=\"url(#clip2502)\" style=\"fill:#e3ae33; stroke:none; fill-opacity:1\" cx=\"2088.16\" cy=\"1393.13\" r=\"21\"/>\n",
       "<circle clip-path=\"url(#clip2502)\" style=\"fill:#000000; stroke:none; fill-opacity:1\" cx=\"2291.69\" cy=\"830.564\" r=\"25\"/>\n",
       "<circle clip-path=\"url(#clip2502)\" style=\"fill:#e3ae33; stroke:none; fill-opacity:1\" cx=\"2291.69\" cy=\"830.564\" r=\"21\"/>\n",
       "<polyline clip-path=\"url(#clip2502)\" style=\"stroke:#9a84c8; stroke-width:24; stroke-opacity:1; fill:none\" points=\"\n",
       "  256.308,1003.88 459.846,1402.96 663.385,873.677 866.924,702.543 1070.46,1403.43 1274,1403.43 1477.54,1403.43 1681.08,1403.43 1884.62,1403.43 2088.16,117.427 \n",
       "  2291.69,1403.43 \n",
       "  \"/>\n",
       "<circle clip-path=\"url(#clip2502)\" style=\"fill:#000000; stroke:none; fill-opacity:1\" cx=\"256.308\" cy=\"1003.88\" r=\"25\"/>\n",
       "<circle clip-path=\"url(#clip2502)\" style=\"fill:#9a84c8; stroke:none; fill-opacity:1\" cx=\"256.308\" cy=\"1003.88\" r=\"21\"/>\n",
       "<circle clip-path=\"url(#clip2502)\" style=\"fill:#000000; stroke:none; fill-opacity:1\" cx=\"459.846\" cy=\"1402.96\" r=\"25\"/>\n",
       "<circle clip-path=\"url(#clip2502)\" style=\"fill:#9a84c8; stroke:none; fill-opacity:1\" cx=\"459.846\" cy=\"1402.96\" r=\"21\"/>\n",
       "<circle clip-path=\"url(#clip2502)\" style=\"fill:#000000; stroke:none; fill-opacity:1\" cx=\"663.385\" cy=\"873.677\" r=\"25\"/>\n",
       "<circle clip-path=\"url(#clip2502)\" style=\"fill:#9a84c8; stroke:none; fill-opacity:1\" cx=\"663.385\" cy=\"873.677\" r=\"21\"/>\n",
       "<circle clip-path=\"url(#clip2502)\" style=\"fill:#000000; stroke:none; fill-opacity:1\" cx=\"866.924\" cy=\"702.543\" r=\"25\"/>\n",
       "<circle clip-path=\"url(#clip2502)\" style=\"fill:#9a84c8; stroke:none; fill-opacity:1\" cx=\"866.924\" cy=\"702.543\" r=\"21\"/>\n",
       "<circle clip-path=\"url(#clip2502)\" style=\"fill:#000000; stroke:none; fill-opacity:1\" cx=\"1070.46\" cy=\"1403.43\" r=\"25\"/>\n",
       "<circle clip-path=\"url(#clip2502)\" style=\"fill:#9a84c8; stroke:none; fill-opacity:1\" cx=\"1070.46\" cy=\"1403.43\" r=\"21\"/>\n",
       "<circle clip-path=\"url(#clip2502)\" style=\"fill:#000000; stroke:none; fill-opacity:1\" cx=\"1274\" cy=\"1403.43\" r=\"25\"/>\n",
       "<circle clip-path=\"url(#clip2502)\" style=\"fill:#9a84c8; stroke:none; fill-opacity:1\" cx=\"1274\" cy=\"1403.43\" r=\"21\"/>\n",
       "<circle clip-path=\"url(#clip2502)\" style=\"fill:#000000; stroke:none; fill-opacity:1\" cx=\"1477.54\" cy=\"1403.43\" r=\"25\"/>\n",
       "<circle clip-path=\"url(#clip2502)\" style=\"fill:#9a84c8; stroke:none; fill-opacity:1\" cx=\"1477.54\" cy=\"1403.43\" r=\"21\"/>\n",
       "<circle clip-path=\"url(#clip2502)\" style=\"fill:#000000; stroke:none; fill-opacity:1\" cx=\"1681.08\" cy=\"1403.43\" r=\"25\"/>\n",
       "<circle clip-path=\"url(#clip2502)\" style=\"fill:#9a84c8; stroke:none; fill-opacity:1\" cx=\"1681.08\" cy=\"1403.43\" r=\"21\"/>\n",
       "<circle clip-path=\"url(#clip2502)\" style=\"fill:#000000; stroke:none; fill-opacity:1\" cx=\"1884.62\" cy=\"1403.43\" r=\"25\"/>\n",
       "<circle clip-path=\"url(#clip2502)\" style=\"fill:#9a84c8; stroke:none; fill-opacity:1\" cx=\"1884.62\" cy=\"1403.43\" r=\"21\"/>\n",
       "<circle clip-path=\"url(#clip2502)\" style=\"fill:#000000; stroke:none; fill-opacity:1\" cx=\"2088.16\" cy=\"117.427\" r=\"25\"/>\n",
       "<circle clip-path=\"url(#clip2502)\" style=\"fill:#9a84c8; stroke:none; fill-opacity:1\" cx=\"2088.16\" cy=\"117.427\" r=\"21\"/>\n",
       "<circle clip-path=\"url(#clip2502)\" style=\"fill:#000000; stroke:none; fill-opacity:1\" cx=\"2291.69\" cy=\"1403.43\" r=\"25\"/>\n",
       "<circle clip-path=\"url(#clip2502)\" style=\"fill:#9a84c8; stroke:none; fill-opacity:1\" cx=\"2291.69\" cy=\"1403.43\" r=\"21\"/>\n",
       "<polygon clip-path=\"url(#clip2500)\" points=\"\n",
       "1826.75,312.204 2280.76,312.204 2280.76,130.764 1826.75,130.764 \n",
       "  \" fill=\"#ffffff\" fill-rule=\"evenodd\" fill-opacity=\"1\"/>\n",
       "<polyline clip-path=\"url(#clip2500)\" style=\"stroke:#000000; stroke-width:4; stroke-opacity:1; fill:none\" points=\"\n",
       "  1826.75,312.204 2280.76,312.204 2280.76,130.764 1826.75,130.764 1826.75,312.204 \n",
       "  \"/>\n",
       "<polyline clip-path=\"url(#clip2500)\" style=\"stroke:#e3ae33; stroke-width:24; stroke-opacity:1; fill:none\" points=\"\n",
       "  1850.75,191.244 1994.75,191.244 \n",
       "  \"/>\n",
       "<circle clip-path=\"url(#clip2500)\" style=\"fill:#000000; stroke:none; fill-opacity:1\" cx=\"1934.75\" cy=\"191.244\" r=\"25\"/>\n",
       "<circle clip-path=\"url(#clip2500)\" style=\"fill:#e3ae33; stroke:none; fill-opacity:1\" cx=\"1934.75\" cy=\"191.244\" r=\"21\"/>\n",
       "<g clip-path=\"url(#clip2500)\">\n",
       "<text style=\"fill:#000000; fill-opacity:1; font-family:Arial,Helvetica Neue,Helvetica,sans-serif; font-size:48px; text-anchor:start;\" transform=\"rotate(0, 2018.75, 208.744)\" x=\"2018.75\" y=\"208.744\">Front legs</text>\n",
       "</g>\n",
       "<polyline clip-path=\"url(#clip2500)\" style=\"stroke:#9a84c8; stroke-width:24; stroke-opacity:1; fill:none\" points=\"\n",
       "  1850.75,251.724 1994.75,251.724 \n",
       "  \"/>\n",
       "<circle clip-path=\"url(#clip2500)\" style=\"fill:#000000; stroke:none; fill-opacity:1\" cx=\"1934.75\" cy=\"251.724\" r=\"25\"/>\n",
       "<circle clip-path=\"url(#clip2500)\" style=\"fill:#9a84c8; stroke:none; fill-opacity:1\" cx=\"1934.75\" cy=\"251.724\" r=\"21\"/>\n",
       "<g clip-path=\"url(#clip2500)\">\n",
       "<text style=\"fill:#000000; fill-opacity:1; font-family:Arial,Helvetica Neue,Helvetica,sans-serif; font-size:48px; text-anchor:start;\" transform=\"rotate(0, 2018.75, 269.224)\" x=\"2018.75\" y=\"269.224\">Back legs</text>\n",
       "</g>\n",
       "</svg>\n"
      ]
     },
     "execution_count": 144,
     "metadata": {},
     "output_type": "execute_result"
    }
   ],
   "source": [
    "xlabel=latexstring(\"t\")\n",
    "ylabel=latexstring(\"c_n\")\n",
    "plot(traj_semidirect[7][1:end-1],front_traj,label=\"Front legs\",seriescolor=RGB(((227,174,51) ./ 255.)...),linewidth=6,marker=6,xlabel=xlabel)\n",
    "plot!(traj_semidirect[7][1:end-1],back_traj,label=\"Back legs\",seriescolor=RGB(((154,132,200) ./ 255.)...),linewidth=6,marker=6,ylabel=ylabel)"
   ]
  },
  {
   "cell_type": "code",
   "execution_count": null,
   "metadata": {},
   "outputs": [],
   "source": [
    "plot(traj_semidirect[8][16,:])"
   ]
  },
  {
   "cell_type": "code",
   "execution_count": null,
   "metadata": {},
   "outputs": [],
   "source": [
    "savefig(string(\"littledog.svg\")) "
   ]
  },
  {
   "cell_type": "code",
   "execution_count": null,
   "metadata": {},
   "outputs": [],
   "source": [
    "xlabel=latexstring(\"x\")\n",
    "ylabel=latexstring(\"z\")\n",
    "plot(traj_semidirect[8][1,:],-traj_semidirect[8][2,:],front_traj,label=\"Torso center of mass position\",seriescolor=RGB(((127,174,51) ./ 255.)...),linewidth=6,marker=6,xlabel=xlabel,ylabel=ylabel)"
   ]
  },
  {
   "cell_type": "code",
   "execution_count": null,
   "metadata": {},
   "outputs": [],
   "source": [
    "savefig(string(\"littledogcom.svg\")) "
   ]
  },
  {
   "cell_type": "code",
   "execution_count": null,
   "metadata": {},
   "outputs": [],
   "source": [
    "setanimation!(mvis, traj_semidirect[7], traj_semidirect[1])"
   ]
  },
  {
   "cell_type": "code",
   "execution_count": 159,
   "metadata": {},
   "outputs": [],
   "source": [
    "t_step = traj_semidirect[7]\n",
    "q_step = traj_semidirect[1]\n",
    "u_step = traj_semidirect[2][2:end];"
   ]
  },
  {
   "cell_type": "code",
   "execution_count": 160,
   "metadata": {},
   "outputs": [],
   "source": [
    "# Multi-steps\n",
    "\n",
    "reps = 3\n",
    "\n",
    "ttraj = t_step\n",
    "qtraj = q_step\n",
    "utraj = u_step\n",
    "for i = 1:(reps-1)\n",
    "    ttraj = vcat(ttraj, t_step .+ ttraj[end])\n",
    "    qtraj = vcat(qtraj, map(q -> q + vcat(qtraj[end][1],zeros(length(q)-1)), q_step))\n",
    "    utraj = vcat(utraj, u_step)\n",
    "end\n",
    "\n",
    "setanimation!(mvis, ttraj, qtraj)"
   ]
  },
  {
   "cell_type": "code",
   "execution_count": null,
   "metadata": {},
   "outputs": [],
   "source": [
    "# Indirect\n",
    "\n",
    "sim_data = get_trajopt_data_indirect(mechanism,env,Δt,N,relax_comp=true)\n",
    "x0, x_min, x_max = setup_prob!(sim_data);"
   ]
  },
  {
   "cell_type": "code",
   "execution_count": null,
   "metadata": {},
   "outputs": [],
   "source": [
    "con_tol = 1e-5\n",
    "obj_tol = 1e-5\n",
    "max_iter = 1000\n",
    "\n",
    "display(@time traj_indirect = Bilevel.trajopt(sim_data, x0=x0, x_min=x_min, x_max=x_max, verbose=1, opt_tol=obj_tol, major_feas=con_tol, minor_feas=con_tol, max_iter=max_iter))\n",
    "\n",
    "x0 = traj_indirect[9]\n",
    "\n",
    "setanimation!(mvis, traj_indirect[7], traj_indirect[1])"
   ]
  },
  {
   "cell_type": "code",
   "execution_count": null,
   "metadata": {},
   "outputs": [],
   "source": [
    "function run_trajopt()\n",
    "    Bilevel.solve_rosenbrock() # clearing SNOPT\n",
    "    Bilevel.trajopt(sim_data, x0=x0, x_min=x_min, x_max=x_max, verbose=0, opt_tol=obj_tol, major_feas=con_tol, minor_feas=con_tol, max_iter=max_iter)\n",
    "end\n",
    "\n",
    "@benchmark run_trajopt()"
   ]
  },
  {
   "cell_type": "code",
   "execution_count": null,
   "metadata": {},
   "outputs": [],
   "source": [
    "setanimation!(mvis, traj_indirect[7], traj_indirect[1])"
   ]
  },
  {
   "cell_type": "code",
   "execution_count": null,
   "metadata": {},
   "outputs": [],
   "source": [
    "t_step = traj_indirect[7]\n",
    "q_step = traj_indirect[1]\n",
    "u_step = traj_indirect[2][2:end];"
   ]
  }
 ],
 "metadata": {
  "kernelspec": {
   "display_name": "Julia 1.1.0",
   "language": "julia",
   "name": "julia-1.1"
  },
  "language_info": {
   "file_extension": ".jl",
   "mimetype": "application/julia",
   "name": "julia",
   "version": "1.1.0"
  }
 },
 "nbformat": 4,
 "nbformat_minor": 2
}
