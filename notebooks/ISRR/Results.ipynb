{
 "cells": [
  {
   "cell_type": "code",
   "execution_count": 2,
   "metadata": {},
   "outputs": [],
   "source": [
    "using Revise\n",
    "using Bilevel\n",
    "\n",
    "using RigidBodyDynamics\n",
    "using MeshCatMechanisms\n",
    "using MeshCat\n",
    "using Plots\n",
    "using LinearAlgebra\n",
    "using StaticArrays\n",
    "using BenchmarkTools"
   ]
  },
  {
   "cell_type": "markdown",
   "metadata": {},
   "source": [
    "# Simulation of sliding box"
   ]
  },
  {
   "cell_type": "code",
   "execution_count": 69,
   "metadata": {},
   "outputs": [],
   "source": [
    "urdf = joinpath(\"..\", \"..\", \"urdf\", \"ball2d.urdf\")\n",
    "mechanism = parse_urdf(Float64, urdf)\n",
    "\n",
    "floor = findbody(mechanism, \"floor\")\n",
    "point = Point3D(default_frame(floor), SVector([0.,0.,0.]...))\n",
    "normal = FreeVector3D(default_frame(floor), SVector([0.,0.,1.]...))\n",
    "floor_obs = Obstacle(floor, point, normal, :xyz, 1.)\n",
    "\n",
    "obstacles = [floor_obs]\n",
    "env = Environment(mechanism, urdf, obstacles);"
   ]
  },
  {
   "cell_type": "code",
   "execution_count": null,
   "metadata": {},
   "outputs": [],
   "source": [
    "mvis = MechanismVisualizer(mechanism, URDFVisuals(urdf))\n",
    "open(mvis)"
   ]
  },
  {
   "cell_type": "code",
   "execution_count": 131,
   "metadata": {},
   "outputs": [],
   "source": [
    "N = 15\n",
    "Δt = 0.05\n",
    "q0 = [0., -0.1, 0.]\n",
    "v0 = [5., 0., 0.];"
   ]
  },
  {
   "cell_type": "code",
   "execution_count": null,
   "metadata": {},
   "outputs": [],
   "source": [
    "# Indirect\n",
    "\n",
    "sim_data = get_sim_data_indirect(mechanism,env,Δt)\n",
    "null_ctrl! = (u,t,x) -> u[:] .= 0.\n",
    "x0 = MechanismState(mechanism)\n",
    "set_configuration!(x0, q0)\n",
    "set_velocity!(x0, v0)\n",
    "setdirty!(x0)\n",
    "sim_indirect = Bilevel.simulate(sim_data,null_ctrl!,x0,N)"
   ]
  },
  {
   "cell_type": "code",
   "execution_count": 36,
   "metadata": {},
   "outputs": [
    {
     "data": {
      "text/plain": [
       "BenchmarkTools.Trial: \n",
       "  memory estimate:  6.70 MiB\n",
       "  allocs estimate:  56316\n",
       "  --------------\n",
       "  minimum time:     9.774 ms (0.00% GC)\n",
       "  median time:      10.072 ms (0.00% GC)\n",
       "  mean time:        12.261 ms (16.34% GC)\n",
       "  maximum time:     22.700 ms (0.00% GC)\n",
       "  --------------\n",
       "  samples:          408\n",
       "  evals/sample:     1"
      ]
     },
     "execution_count": 36,
     "metadata": {},
     "output_type": "execute_result"
    }
   ],
   "source": [
    "@benchmark sim_indirect = Bilevel.simulate(sim_data,null_ctrl!,x0,N)"
   ]
  },
  {
   "cell_type": "code",
   "execution_count": 102,
   "metadata": {},
   "outputs": [
    {
     "data": {
      "text/plain": [
       "(Array{Float64,1}[[0.0, 0.0, 0.0], [0.225981, -0.000507223, 0.0], [0.426947, -0.000528203, 0.0], [0.603346, -0.000518581, 0.0], [0.755192, -0.000517749, 0.0], [0.882413, -0.000517913, 0.0], [0.985109, -0.000517937, 0.0], [1.06328, -0.000517935, 0.0], [1.11693, -0.000517934, 0.0], [1.14605, -0.000517935, 0.0], [1.15064, -0.000517935, 0.0], [1.15064, -0.000517935, 0.0], [1.15064, -0.000517935, 0.0], [1.15064, -0.000517935, 0.0], [1.15064, -0.000517935, 0.0]], Array{Float64,1}[[5.0, 0.0, 0.0], [4.51962, -0.0101445, 0.0], [4.01932, -0.000419612, 0.0], [3.52797, 0.000192449, 0.0], [3.03692, 1.66388e-5, 0.0], [2.54442, -3.29197e-6, 0.0], [2.05392, -4.80289e-7, 0.0], [1.56342, 4.82175e-8, 0.0], [1.07292, 1.19277e-8, 0.0], [0.582419, -5.03852e-10, 0.0], [0.0919186, -2.6753e-10, 0.0], [-2.38095e-7, -6.44817e-13, 0.0], [-2.38095e-7, -6.44817e-13, 0.0], [-2.38095e-7, -6.44817e-13, 0.0], [-2.38095e-7, -6.44817e-13, 0.0]], Array{Float64,1}[], Array{Float64,1}[], Array{Float64,1}[], [0.0, 0.05, 0.1, 0.15, 0.2, 0.25, 0.3, 0.35, 0.4, 0.45, 0.5, 0.55, 0.6, 0.65, 0.7], [0.0 0.225981 … 1.15064 1.15064; 0.0 -0.000507223 … -0.000517935 -0.000517935; … ; 0.0 -0.0101445 … -6.44817e-13 -6.44817e-13; 0.0 0.0 … 0.0 0.0], [0.0 0.225981 … 1.15064 1.15064; 0.0 -0.000507223 … -0.000517935 -0.000517935; … ; 0.0 -0.0101445 … -6.44817e-13 -6.44817e-13; 0.0 0.0 … 0.0 0.0])"
      ]
     },
     "execution_count": 102,
     "metadata": {},
     "output_type": "execute_result"
    }
   ],
   "source": [
    "# Direct\n",
    "\n",
    "sim_data = get_sim_data_direct(mechanism,env,Δt)\n",
    "null_ctrl! = (u,t,x) -> u[:] .= 0.\n",
    "x0 = MechanismState(mechanism)\n",
    "set_configuration!(x0, q0)\n",
    "set_velocity!(x0, v0)\n",
    "setdirty!(x0)\n",
    "sim_direct = Bilevel.simulate(sim_data,null_ctrl!,x0,N)"
   ]
  },
  {
   "cell_type": "code",
   "execution_count": 38,
   "metadata": {},
   "outputs": [
    {
     "data": {
      "text/plain": [
       "BenchmarkTools.Trial: \n",
       "  memory estimate:  5.32 MiB\n",
       "  allocs estimate:  20913\n",
       "  --------------\n",
       "  minimum time:     9.331 ms (0.00% GC)\n",
       "  median time:      9.557 ms (0.00% GC)\n",
       "  mean time:        11.551 ms (15.05% GC)\n",
       "  maximum time:     31.911 ms (22.74% GC)\n",
       "  --------------\n",
       "  samples:          433\n",
       "  evals/sample:     1"
      ]
     },
     "execution_count": 38,
     "metadata": {},
     "output_type": "execute_result"
    }
   ],
   "source": [
    "@benchmark sim_direct = Bilevel.simulate(sim_data,null_ctrl!,x0,N)"
   ]
  },
  {
   "cell_type": "code",
   "execution_count": null,
   "metadata": {},
   "outputs": [],
   "source": [
    "setanimation!(mvis, sim_indirect[6], sim_indirect[1])"
   ]
  },
  {
   "cell_type": "code",
   "execution_count": null,
   "metadata": {},
   "outputs": [],
   "source": [
    "setanimation!(mvis, sim_direct[6], sim_direct[1])"
   ]
  },
  {
   "cell_type": "code",
   "execution_count": 103,
   "metadata": {},
   "outputs": [
    {
     "data": {
      "image/svg+xml": [
       "<?xml version=\"1.0\" encoding=\"utf-8\"?>\n",
       "<svg xmlns=\"http://www.w3.org/2000/svg\" xmlns:xlink=\"http://www.w3.org/1999/xlink\" width=\"600\" height=\"400\" viewBox=\"0 0 2400 1600\">\n",
       "<defs>\n",
       "  <clipPath id=\"clip9200\">\n",
       "    <rect x=\"0\" y=\"0\" width=\"2400\" height=\"1600\"/>\n",
       "  </clipPath>\n",
       "</defs>\n",
       "<polygon clip-path=\"url(#clip9200)\" points=\"\n",
       "0,1600 2400,1600 2400,0 0,0 \n",
       "  \" fill=\"#ffffff\" fill-rule=\"evenodd\" fill-opacity=\"1\"/>\n",
       "<defs>\n",
       "  <clipPath id=\"clip9201\">\n",
       "    <rect x=\"480\" y=\"0\" width=\"1681\" height=\"1600\"/>\n",
       "  </clipPath>\n",
       "</defs>\n",
       "<polygon clip-path=\"url(#clip9200)\" points=\"\n",
       "180.66,1487.47 2352.76,1487.47 2352.76,47.2441 180.66,47.2441 \n",
       "  \" fill=\"#ffffff\" fill-rule=\"evenodd\" fill-opacity=\"1\"/>\n",
       "<defs>\n",
       "  <clipPath id=\"clip9202\">\n",
       "    <rect x=\"180\" y=\"47\" width=\"2173\" height=\"1441\"/>\n",
       "  </clipPath>\n",
       "</defs>\n",
       "<polyline clip-path=\"url(#clip9202)\" style=\"stroke:#000000; stroke-width:2; stroke-opacity:0.1; fill:none\" points=\"\n",
       "  242.135,1487.47 242.135,47.2441 \n",
       "  \"/>\n",
       "<polyline clip-path=\"url(#clip9202)\" style=\"stroke:#000000; stroke-width:2; stroke-opacity:0.1; fill:none\" points=\"\n",
       "  827.605,1487.47 827.605,47.2441 \n",
       "  \"/>\n",
       "<polyline clip-path=\"url(#clip9202)\" style=\"stroke:#000000; stroke-width:2; stroke-opacity:0.1; fill:none\" points=\"\n",
       "  1413.08,1487.47 1413.08,47.2441 \n",
       "  \"/>\n",
       "<polyline clip-path=\"url(#clip9202)\" style=\"stroke:#000000; stroke-width:2; stroke-opacity:0.1; fill:none\" points=\"\n",
       "  1998.55,1487.47 1998.55,47.2441 \n",
       "  \"/>\n",
       "<polyline clip-path=\"url(#clip9202)\" style=\"stroke:#000000; stroke-width:2; stroke-opacity:0.1; fill:none\" points=\"\n",
       "  180.66,1446.71 2352.76,1446.71 \n",
       "  \"/>\n",
       "<polyline clip-path=\"url(#clip9202)\" style=\"stroke:#000000; stroke-width:2; stroke-opacity:0.1; fill:none\" points=\"\n",
       "  180.66,1151.63 2352.76,1151.63 \n",
       "  \"/>\n",
       "<polyline clip-path=\"url(#clip9202)\" style=\"stroke:#000000; stroke-width:2; stroke-opacity:0.1; fill:none\" points=\"\n",
       "  180.66,856.548 2352.76,856.548 \n",
       "  \"/>\n",
       "<polyline clip-path=\"url(#clip9202)\" style=\"stroke:#000000; stroke-width:2; stroke-opacity:0.1; fill:none\" points=\"\n",
       "  180.66,561.465 2352.76,561.465 \n",
       "  \"/>\n",
       "<polyline clip-path=\"url(#clip9202)\" style=\"stroke:#000000; stroke-width:2; stroke-opacity:0.1; fill:none\" points=\"\n",
       "  180.66,266.383 2352.76,266.383 \n",
       "  \"/>\n",
       "<polyline clip-path=\"url(#clip9200)\" style=\"stroke:#000000; stroke-width:4; stroke-opacity:1; fill:none\" points=\"\n",
       "  180.66,1487.47 2352.76,1487.47 \n",
       "  \"/>\n",
       "<polyline clip-path=\"url(#clip9200)\" style=\"stroke:#000000; stroke-width:4; stroke-opacity:1; fill:none\" points=\"\n",
       "  180.66,1487.47 180.66,47.2441 \n",
       "  \"/>\n",
       "<polyline clip-path=\"url(#clip9200)\" style=\"stroke:#000000; stroke-width:4; stroke-opacity:1; fill:none\" points=\"\n",
       "  242.135,1487.47 242.135,1465.87 \n",
       "  \"/>\n",
       "<polyline clip-path=\"url(#clip9200)\" style=\"stroke:#000000; stroke-width:4; stroke-opacity:1; fill:none\" points=\"\n",
       "  827.605,1487.47 827.605,1465.87 \n",
       "  \"/>\n",
       "<polyline clip-path=\"url(#clip9200)\" style=\"stroke:#000000; stroke-width:4; stroke-opacity:1; fill:none\" points=\"\n",
       "  1413.08,1487.47 1413.08,1465.87 \n",
       "  \"/>\n",
       "<polyline clip-path=\"url(#clip9200)\" style=\"stroke:#000000; stroke-width:4; stroke-opacity:1; fill:none\" points=\"\n",
       "  1998.55,1487.47 1998.55,1465.87 \n",
       "  \"/>\n",
       "<polyline clip-path=\"url(#clip9200)\" style=\"stroke:#000000; stroke-width:4; stroke-opacity:1; fill:none\" points=\"\n",
       "  180.66,1446.71 213.242,1446.71 \n",
       "  \"/>\n",
       "<polyline clip-path=\"url(#clip9200)\" style=\"stroke:#000000; stroke-width:4; stroke-opacity:1; fill:none\" points=\"\n",
       "  180.66,1151.63 213.242,1151.63 \n",
       "  \"/>\n",
       "<polyline clip-path=\"url(#clip9200)\" style=\"stroke:#000000; stroke-width:4; stroke-opacity:1; fill:none\" points=\"\n",
       "  180.66,856.548 213.242,856.548 \n",
       "  \"/>\n",
       "<polyline clip-path=\"url(#clip9200)\" style=\"stroke:#000000; stroke-width:4; stroke-opacity:1; fill:none\" points=\"\n",
       "  180.66,561.465 213.242,561.465 \n",
       "  \"/>\n",
       "<polyline clip-path=\"url(#clip9200)\" style=\"stroke:#000000; stroke-width:4; stroke-opacity:1; fill:none\" points=\"\n",
       "  180.66,266.383 213.242,266.383 \n",
       "  \"/>\n",
       "<g clip-path=\"url(#clip9200)\">\n",
       "<text style=\"fill:#000000; fill-opacity:1; font-family:Arial,Helvetica Neue,Helvetica,sans-serif; font-size:48px; text-anchor:middle;\" transform=\"rotate(0, 242.135, 1541.47)\" x=\"242.135\" y=\"1541.47\">0.0</text>\n",
       "</g>\n",
       "<g clip-path=\"url(#clip9200)\">\n",
       "<text style=\"fill:#000000; fill-opacity:1; font-family:Arial,Helvetica Neue,Helvetica,sans-serif; font-size:48px; text-anchor:middle;\" transform=\"rotate(0, 827.605, 1541.47)\" x=\"827.605\" y=\"1541.47\">0.2</text>\n",
       "</g>\n",
       "<g clip-path=\"url(#clip9200)\">\n",
       "<text style=\"fill:#000000; fill-opacity:1; font-family:Arial,Helvetica Neue,Helvetica,sans-serif; font-size:48px; text-anchor:middle;\" transform=\"rotate(0, 1413.08, 1541.47)\" x=\"1413.08\" y=\"1541.47\">0.4</text>\n",
       "</g>\n",
       "<g clip-path=\"url(#clip9200)\">\n",
       "<text style=\"fill:#000000; fill-opacity:1; font-family:Arial,Helvetica Neue,Helvetica,sans-serif; font-size:48px; text-anchor:middle;\" transform=\"rotate(0, 1998.55, 1541.47)\" x=\"1998.55\" y=\"1541.47\">0.6</text>\n",
       "</g>\n",
       "<g clip-path=\"url(#clip9200)\">\n",
       "<text style=\"fill:#000000; fill-opacity:1; font-family:Arial,Helvetica Neue,Helvetica,sans-serif; font-size:48px; text-anchor:end;\" transform=\"rotate(0, 156.66, 1464.21)\" x=\"156.66\" y=\"1464.21\">0.00</text>\n",
       "</g>\n",
       "<g clip-path=\"url(#clip9200)\">\n",
       "<text style=\"fill:#000000; fill-opacity:1; font-family:Arial,Helvetica Neue,Helvetica,sans-serif; font-size:48px; text-anchor:end;\" transform=\"rotate(0, 156.66, 1169.13)\" x=\"156.66\" y=\"1169.13\">0.25</text>\n",
       "</g>\n",
       "<g clip-path=\"url(#clip9200)\">\n",
       "<text style=\"fill:#000000; fill-opacity:1; font-family:Arial,Helvetica Neue,Helvetica,sans-serif; font-size:48px; text-anchor:end;\" transform=\"rotate(0, 156.66, 874.048)\" x=\"156.66\" y=\"874.048\">0.50</text>\n",
       "</g>\n",
       "<g clip-path=\"url(#clip9200)\">\n",
       "<text style=\"fill:#000000; fill-opacity:1; font-family:Arial,Helvetica Neue,Helvetica,sans-serif; font-size:48px; text-anchor:end;\" transform=\"rotate(0, 156.66, 578.965)\" x=\"156.66\" y=\"578.965\">0.75</text>\n",
       "</g>\n",
       "<g clip-path=\"url(#clip9200)\">\n",
       "<text style=\"fill:#000000; fill-opacity:1; font-family:Arial,Helvetica Neue,Helvetica,sans-serif; font-size:48px; text-anchor:end;\" transform=\"rotate(0, 156.66, 283.883)\" x=\"156.66\" y=\"283.883\">1.00</text>\n",
       "</g>\n",
       "<polyline clip-path=\"url(#clip9202)\" style=\"stroke:#e34a33; stroke-width:0; stroke-opacity:1; fill:none\" points=\"\n",
       "  242.135,1446.71 388.502,1180.58 534.87,943.391 681.238,735.151 827.605,555.859 973.973,405.514 1120.34,284.117 1266.71,191.668 1413.08,128.166 1559.44,93.6119 \n",
       "  1705.81,88.0053 1852.18,88.0053 1998.55,88.0053 2144.91,88.0053 2291.28,88.0053 \n",
       "  \"/>\n",
       "<circle clip-path=\"url(#clip9202)\" style=\"fill:#000000; stroke:none; fill-opacity:1\" cx=\"242.135\" cy=\"1446.71\" r=\"25\"/>\n",
       "<circle clip-path=\"url(#clip9202)\" style=\"fill:#e34a33; stroke:none; fill-opacity:1\" cx=\"242.135\" cy=\"1446.71\" r=\"21\"/>\n",
       "<circle clip-path=\"url(#clip9202)\" style=\"fill:#000000; stroke:none; fill-opacity:1\" cx=\"388.502\" cy=\"1180.58\" r=\"25\"/>\n",
       "<circle clip-path=\"url(#clip9202)\" style=\"fill:#e34a33; stroke:none; fill-opacity:1\" cx=\"388.502\" cy=\"1180.58\" r=\"21\"/>\n",
       "<circle clip-path=\"url(#clip9202)\" style=\"fill:#000000; stroke:none; fill-opacity:1\" cx=\"534.87\" cy=\"943.391\" r=\"25\"/>\n",
       "<circle clip-path=\"url(#clip9202)\" style=\"fill:#e34a33; stroke:none; fill-opacity:1\" cx=\"534.87\" cy=\"943.391\" r=\"21\"/>\n",
       "<circle clip-path=\"url(#clip9202)\" style=\"fill:#000000; stroke:none; fill-opacity:1\" cx=\"681.238\" cy=\"735.151\" r=\"25\"/>\n",
       "<circle clip-path=\"url(#clip9202)\" style=\"fill:#e34a33; stroke:none; fill-opacity:1\" cx=\"681.238\" cy=\"735.151\" r=\"21\"/>\n",
       "<circle clip-path=\"url(#clip9202)\" style=\"fill:#000000; stroke:none; fill-opacity:1\" cx=\"827.605\" cy=\"555.859\" r=\"25\"/>\n",
       "<circle clip-path=\"url(#clip9202)\" style=\"fill:#e34a33; stroke:none; fill-opacity:1\" cx=\"827.605\" cy=\"555.859\" r=\"21\"/>\n",
       "<circle clip-path=\"url(#clip9202)\" style=\"fill:#000000; stroke:none; fill-opacity:1\" cx=\"973.973\" cy=\"405.514\" r=\"25\"/>\n",
       "<circle clip-path=\"url(#clip9202)\" style=\"fill:#e34a33; stroke:none; fill-opacity:1\" cx=\"973.973\" cy=\"405.514\" r=\"21\"/>\n",
       "<circle clip-path=\"url(#clip9202)\" style=\"fill:#000000; stroke:none; fill-opacity:1\" cx=\"1120.34\" cy=\"284.117\" r=\"25\"/>\n",
       "<circle clip-path=\"url(#clip9202)\" style=\"fill:#e34a33; stroke:none; fill-opacity:1\" cx=\"1120.34\" cy=\"284.117\" r=\"21\"/>\n",
       "<circle clip-path=\"url(#clip9202)\" style=\"fill:#000000; stroke:none; fill-opacity:1\" cx=\"1266.71\" cy=\"191.668\" r=\"25\"/>\n",
       "<circle clip-path=\"url(#clip9202)\" style=\"fill:#e34a33; stroke:none; fill-opacity:1\" cx=\"1266.71\" cy=\"191.668\" r=\"21\"/>\n",
       "<circle clip-path=\"url(#clip9202)\" style=\"fill:#000000; stroke:none; fill-opacity:1\" cx=\"1413.08\" cy=\"128.166\" r=\"25\"/>\n",
       "<circle clip-path=\"url(#clip9202)\" style=\"fill:#e34a33; stroke:none; fill-opacity:1\" cx=\"1413.08\" cy=\"128.166\" r=\"21\"/>\n",
       "<circle clip-path=\"url(#clip9202)\" style=\"fill:#000000; stroke:none; fill-opacity:1\" cx=\"1559.44\" cy=\"93.6119\" r=\"25\"/>\n",
       "<circle clip-path=\"url(#clip9202)\" style=\"fill:#e34a33; stroke:none; fill-opacity:1\" cx=\"1559.44\" cy=\"93.6119\" r=\"21\"/>\n",
       "<circle clip-path=\"url(#clip9202)\" style=\"fill:#000000; stroke:none; fill-opacity:1\" cx=\"1705.81\" cy=\"88.0053\" r=\"25\"/>\n",
       "<circle clip-path=\"url(#clip9202)\" style=\"fill:#e34a33; stroke:none; fill-opacity:1\" cx=\"1705.81\" cy=\"88.0053\" r=\"21\"/>\n",
       "<circle clip-path=\"url(#clip9202)\" style=\"fill:#000000; stroke:none; fill-opacity:1\" cx=\"1852.18\" cy=\"88.0053\" r=\"25\"/>\n",
       "<circle clip-path=\"url(#clip9202)\" style=\"fill:#e34a33; stroke:none; fill-opacity:1\" cx=\"1852.18\" cy=\"88.0053\" r=\"21\"/>\n",
       "<circle clip-path=\"url(#clip9202)\" style=\"fill:#000000; stroke:none; fill-opacity:1\" cx=\"1998.55\" cy=\"88.0053\" r=\"25\"/>\n",
       "<circle clip-path=\"url(#clip9202)\" style=\"fill:#e34a33; stroke:none; fill-opacity:1\" cx=\"1998.55\" cy=\"88.0053\" r=\"21\"/>\n",
       "<circle clip-path=\"url(#clip9202)\" style=\"fill:#000000; stroke:none; fill-opacity:1\" cx=\"2144.91\" cy=\"88.0053\" r=\"25\"/>\n",
       "<circle clip-path=\"url(#clip9202)\" style=\"fill:#e34a33; stroke:none; fill-opacity:1\" cx=\"2144.91\" cy=\"88.0053\" r=\"21\"/>\n",
       "<circle clip-path=\"url(#clip9202)\" style=\"fill:#000000; stroke:none; fill-opacity:1\" cx=\"2291.28\" cy=\"88.0053\" r=\"25\"/>\n",
       "<circle clip-path=\"url(#clip9202)\" style=\"fill:#e34a33; stroke:none; fill-opacity:1\" cx=\"2291.28\" cy=\"88.0053\" r=\"21\"/>\n",
       "<polyline clip-path=\"url(#clip9202)\" style=\"stroke:#fee8c8; stroke-width:4; stroke-opacity:1; fill:none\" points=\"\n",
       "  242.135,1446.71 388.502,1179.98 534.87,942.775 681.238,734.566 827.605,555.338 973.973,405.175 1120.34,283.96 1266.71,191.692 1413.08,128.372 1559.44,93.9998 \n",
       "  1705.81,88.5751 1852.18,88.5751 1998.55,88.5751 2144.91,88.5751 2291.28,88.5751 \n",
       "  \"/>\n",
       "<circle clip-path=\"url(#clip9202)\" style=\"fill:#000000; stroke:none; fill-opacity:1\" cx=\"242.135\" cy=\"1446.71\" r=\"18\"/>\n",
       "<circle clip-path=\"url(#clip9202)\" style=\"fill:#fee8c8; stroke:none; fill-opacity:1\" cx=\"242.135\" cy=\"1446.71\" r=\"14\"/>\n",
       "<circle clip-path=\"url(#clip9202)\" style=\"fill:#000000; stroke:none; fill-opacity:1\" cx=\"388.502\" cy=\"1179.98\" r=\"18\"/>\n",
       "<circle clip-path=\"url(#clip9202)\" style=\"fill:#fee8c8; stroke:none; fill-opacity:1\" cx=\"388.502\" cy=\"1179.98\" r=\"14\"/>\n",
       "<circle clip-path=\"url(#clip9202)\" style=\"fill:#000000; stroke:none; fill-opacity:1\" cx=\"534.87\" cy=\"942.775\" r=\"18\"/>\n",
       "<circle clip-path=\"url(#clip9202)\" style=\"fill:#fee8c8; stroke:none; fill-opacity:1\" cx=\"534.87\" cy=\"942.775\" r=\"14\"/>\n",
       "<circle clip-path=\"url(#clip9202)\" style=\"fill:#000000; stroke:none; fill-opacity:1\" cx=\"681.238\" cy=\"734.566\" r=\"18\"/>\n",
       "<circle clip-path=\"url(#clip9202)\" style=\"fill:#fee8c8; stroke:none; fill-opacity:1\" cx=\"681.238\" cy=\"734.566\" r=\"14\"/>\n",
       "<circle clip-path=\"url(#clip9202)\" style=\"fill:#000000; stroke:none; fill-opacity:1\" cx=\"827.605\" cy=\"555.338\" r=\"18\"/>\n",
       "<circle clip-path=\"url(#clip9202)\" style=\"fill:#fee8c8; stroke:none; fill-opacity:1\" cx=\"827.605\" cy=\"555.338\" r=\"14\"/>\n",
       "<circle clip-path=\"url(#clip9202)\" style=\"fill:#000000; stroke:none; fill-opacity:1\" cx=\"973.973\" cy=\"405.175\" r=\"18\"/>\n",
       "<circle clip-path=\"url(#clip9202)\" style=\"fill:#fee8c8; stroke:none; fill-opacity:1\" cx=\"973.973\" cy=\"405.175\" r=\"14\"/>\n",
       "<circle clip-path=\"url(#clip9202)\" style=\"fill:#000000; stroke:none; fill-opacity:1\" cx=\"1120.34\" cy=\"283.96\" r=\"18\"/>\n",
       "<circle clip-path=\"url(#clip9202)\" style=\"fill:#fee8c8; stroke:none; fill-opacity:1\" cx=\"1120.34\" cy=\"283.96\" r=\"14\"/>\n",
       "<circle clip-path=\"url(#clip9202)\" style=\"fill:#000000; stroke:none; fill-opacity:1\" cx=\"1266.71\" cy=\"191.692\" r=\"18\"/>\n",
       "<circle clip-path=\"url(#clip9202)\" style=\"fill:#fee8c8; stroke:none; fill-opacity:1\" cx=\"1266.71\" cy=\"191.692\" r=\"14\"/>\n",
       "<circle clip-path=\"url(#clip9202)\" style=\"fill:#000000; stroke:none; fill-opacity:1\" cx=\"1413.08\" cy=\"128.372\" r=\"18\"/>\n",
       "<circle clip-path=\"url(#clip9202)\" style=\"fill:#fee8c8; stroke:none; fill-opacity:1\" cx=\"1413.08\" cy=\"128.372\" r=\"14\"/>\n",
       "<circle clip-path=\"url(#clip9202)\" style=\"fill:#000000; stroke:none; fill-opacity:1\" cx=\"1559.44\" cy=\"93.9998\" r=\"18\"/>\n",
       "<circle clip-path=\"url(#clip9202)\" style=\"fill:#fee8c8; stroke:none; fill-opacity:1\" cx=\"1559.44\" cy=\"93.9998\" r=\"14\"/>\n",
       "<circle clip-path=\"url(#clip9202)\" style=\"fill:#000000; stroke:none; fill-opacity:1\" cx=\"1705.81\" cy=\"88.5751\" r=\"18\"/>\n",
       "<circle clip-path=\"url(#clip9202)\" style=\"fill:#fee8c8; stroke:none; fill-opacity:1\" cx=\"1705.81\" cy=\"88.5751\" r=\"14\"/>\n",
       "<circle clip-path=\"url(#clip9202)\" style=\"fill:#000000; stroke:none; fill-opacity:1\" cx=\"1852.18\" cy=\"88.5751\" r=\"18\"/>\n",
       "<circle clip-path=\"url(#clip9202)\" style=\"fill:#fee8c8; stroke:none; fill-opacity:1\" cx=\"1852.18\" cy=\"88.5751\" r=\"14\"/>\n",
       "<circle clip-path=\"url(#clip9202)\" style=\"fill:#000000; stroke:none; fill-opacity:1\" cx=\"1998.55\" cy=\"88.5751\" r=\"18\"/>\n",
       "<circle clip-path=\"url(#clip9202)\" style=\"fill:#fee8c8; stroke:none; fill-opacity:1\" cx=\"1998.55\" cy=\"88.5751\" r=\"14\"/>\n",
       "<circle clip-path=\"url(#clip9202)\" style=\"fill:#000000; stroke:none; fill-opacity:1\" cx=\"2144.91\" cy=\"88.5751\" r=\"18\"/>\n",
       "<circle clip-path=\"url(#clip9202)\" style=\"fill:#fee8c8; stroke:none; fill-opacity:1\" cx=\"2144.91\" cy=\"88.5751\" r=\"14\"/>\n",
       "<circle clip-path=\"url(#clip9202)\" style=\"fill:#000000; stroke:none; fill-opacity:1\" cx=\"2291.28\" cy=\"88.5751\" r=\"18\"/>\n",
       "<circle clip-path=\"url(#clip9202)\" style=\"fill:#fee8c8; stroke:none; fill-opacity:1\" cx=\"2291.28\" cy=\"88.5751\" r=\"14\"/>\n",
       "<polygon clip-path=\"url(#clip9200)\" points=\"\n",
       "1882.93,312.204 2280.76,312.204 2280.76,130.764 1882.93,130.764 \n",
       "  \" fill=\"#ffffff\" fill-rule=\"evenodd\" fill-opacity=\"1\"/>\n",
       "<polyline clip-path=\"url(#clip9200)\" style=\"stroke:#000000; stroke-width:4; stroke-opacity:1; fill:none\" points=\"\n",
       "  1882.93,312.204 2280.76,312.204 2280.76,130.764 1882.93,130.764 1882.93,312.204 \n",
       "  \"/>\n",
       "<polyline clip-path=\"url(#clip9200)\" style=\"stroke:#e34a33; stroke-width:0; stroke-opacity:1; fill:none\" points=\"\n",
       "  1906.93,191.244 2050.93,191.244 \n",
       "  \"/>\n",
       "<circle clip-path=\"url(#clip9200)\" style=\"fill:#000000; stroke:none; fill-opacity:1\" cx=\"1990.93\" cy=\"191.244\" r=\"25\"/>\n",
       "<circle clip-path=\"url(#clip9200)\" style=\"fill:#e34a33; stroke:none; fill-opacity:1\" cx=\"1990.93\" cy=\"191.244\" r=\"21\"/>\n",
       "<g clip-path=\"url(#clip9200)\">\n",
       "<text style=\"fill:#000000; fill-opacity:1; font-family:Arial,Helvetica Neue,Helvetica,sans-serif; font-size:48px; text-anchor:start;\" transform=\"rotate(0, 2074.93, 208.744)\" x=\"2074.93\" y=\"208.744\">Indirect</text>\n",
       "</g>\n",
       "<polyline clip-path=\"url(#clip9200)\" style=\"stroke:#fee8c8; stroke-width:4; stroke-opacity:1; fill:none\" points=\"\n",
       "  1906.93,251.724 2050.93,251.724 \n",
       "  \"/>\n",
       "<circle clip-path=\"url(#clip9200)\" style=\"fill:#000000; stroke:none; fill-opacity:1\" cx=\"1990.93\" cy=\"251.724\" r=\"25\"/>\n",
       "<circle clip-path=\"url(#clip9200)\" style=\"fill:#fee8c8; stroke:none; fill-opacity:1\" cx=\"1990.93\" cy=\"251.724\" r=\"21\"/>\n",
       "<g clip-path=\"url(#clip9200)\">\n",
       "<text style=\"fill:#000000; fill-opacity:1; font-family:Arial,Helvetica Neue,Helvetica,sans-serif; font-size:48px; text-anchor:start;\" transform=\"rotate(0, 2074.93, 269.224)\" x=\"2074.93\" y=\"269.224\">Direct</text>\n",
       "</g>\n",
       "</svg>\n"
      ]
     },
     "execution_count": 103,
     "metadata": {},
     "output_type": "execute_result"
    }
   ],
   "source": [
    "j = 1\n",
    "plot(sim_indirect[6],sim_indirect[8][j,:],label=\"Indirect\",seriescolor=RGB(((227,74,51) ./ 255.)...),linewidth=0,marker=6)\n",
    "plot!(sim_direct[6],sim_direct[8][j,:],label=\"Direct\",seriescolor=RGB(((254,232,200) ./ 255.)...),linewidth=1,marker=4)"
   ]
  },
  {
   "cell_type": "code",
   "execution_count": 104,
   "metadata": {},
   "outputs": [
    {
     "data": {
      "text/plain": [
       "3-element Array{Float64,1}:\n",
       " 1.151124999999996\n",
       " 0.0              \n",
       " 0.0              "
      ]
     },
     "execution_count": 104,
     "metadata": {},
     "output_type": "execute_result"
    }
   ],
   "source": [
    "sim_indirect[1][end]"
   ]
  },
  {
   "cell_type": "markdown",
   "metadata": {},
   "source": [
    "# Trajectory optimization of sliding box"
   ]
  },
  {
   "cell_type": "code",
   "execution_count": 105,
   "metadata": {},
   "outputs": [],
   "source": [
    "urdf = joinpath(\"..\", \"..\", \"urdf\", \"ball2d.urdf\")\n",
    "mechanism = parse_urdf(Float64, urdf)\n",
    "\n",
    "floor = findbody(mechanism, \"floor\")\n",
    "point = Point3D(default_frame(floor), SVector([0.,0.,0.]...))\n",
    "normal = FreeVector3D(default_frame(floor), SVector([0.,0.,1.]...))\n",
    "floor_obs = Obstacle(floor, point, normal, :xyz, 1.)\n",
    "\n",
    "obstacles = [floor_obs]\n",
    "env = Environment(mechanism, urdf, obstacles);"
   ]
  },
  {
   "cell_type": "code",
   "execution_count": null,
   "metadata": {},
   "outputs": [],
   "source": [
    "mvis = MechanismVisualizer(mechanism, URDFVisuals(urdf))\n",
    "open(mvis)"
   ]
  },
  {
   "cell_type": "code",
   "execution_count": 128,
   "metadata": {},
   "outputs": [
    {
     "data": {
      "text/plain": [
       "add_prob_obj! (generic function with 1 method)"
      ]
     },
     "execution_count": 128,
     "metadata": {},
     "output_type": "execute_result"
    }
   ],
   "source": [
    "q1 = [0., 0., 0.]\n",
    "qN = [1.15, 0., 0.]\n",
    "N = 15\n",
    "Δt = 0.05\n",
    "\n",
    "q_min = [-5., -5., -2*pi]\n",
    "q_max = [5., 5., 2*pi]\n",
    "\n",
    "function get_prob_limits(sim_data)\n",
    "    x_min = -1e19*ones(sim_data.vs.num_vars)\n",
    "    x_max = 1e19*ones(sim_data.vs.num_vars)\n",
    "    \n",
    "    # joint limits\n",
    "    add_box_con_snopt!(x_min, x_max, sim_data, :q, q_min, q_max, 1:N)\n",
    "    add_box_con_snopt!(x_min, x_max, sim_data, :h, [Δt], [Δt], 1:N-1)\n",
    "    \n",
    "    # torques limits\n",
    "    add_box_con_snopt!(x_min, x_max, sim_data, :u, zeros(num_velocities(mechanism)), zeros(num_velocities(mechanism)), 1:N-1)\n",
    "\n",
    "    x_min, x_max\n",
    "end\n",
    "\n",
    "function add_prob_constraints!(sim_data)\n",
    "    vs = sim_data.vs\n",
    "\n",
    "    add_eq!(sim_data, :cq1, length(q1), x -> vs(x, :q1) - q1)\n",
    "    add_eq!(sim_data, :cv1, 1, x -> vs(x, :v1)[2])\n",
    "#     add_eq!(sim_data, :cqN, 3, x -> vs(x, Symbol(\"q\", N)) - qN)\n",
    "    add_eq!(sim_data, :cvN, 1, x -> vs(x, Symbol(\"v\", N))[1])\n",
    "end\n",
    "\n",
    "function get_prob_init(sim_data)\n",
    "    x0 = zeros(sim_data.vs.num_vars)\n",
    "    for n = 1:N\n",
    "        x0[sim_data.vs(Symbol(\"q\", n))] .= n/N*(qN - q1) + q1\n",
    "    end\n",
    "    \n",
    "    x0\n",
    "end\n",
    "\n",
    "function add_prob_obj!(sim_data)\n",
    "    for n = 1:N\n",
    "        add_obj!(sim_data, Symbol(\"v\", n), x -> sim_data.vs(x, Symbol(\"v\", n))' * sim_data.vs(x, Symbol(\"v\", n)))\n",
    "    end\n",
    "end"
   ]
  },
  {
   "cell_type": "code",
   "execution_count": 130,
   "metadata": {},
   "outputs": [
    {
     "name": "stdout",
     "output_type": "stream",
     "text": [
      "The problem appears to be infeasible: nonlinear infeasibilities minimized\n"
     ]
    },
    {
     "data": {
      "text/plain": [
       "(Array{Float64,1}[[-8.4751e-17, -3.00059e-18, 0.0], [-1.69417e-16, -4.23129e-17, -0.215612], [-6.49804e-17, 9.71837e-21, -0.431224], [1.46544e-16, -2.01562e-18, -0.646837], [4.23968e-18, 0.0237963, -0.862449], [0.00512874, 0.0236223, -1.07806], [0.0151949, -2.82186e-17, -1.29367], [0.0151949, 0.011851, -1.50929], [0.0202856, 5.13982e-17, -1.7249], [0.0202856, -1.20943e-17, -1.94051], [0.0202856, 1.43103e-15, -2.15612], [0.0202856, -7.25622e-17, -2.37173], [0.0202856, 0.0, -2.58735], [0.0202856, 4.15335e-17, -2.80296], [0.0202856, -3.18895e-16, -3.01857]], Array{Float64,1}[[-3.07073e-8, 0.0, -4.31224], [5.8651e-15, -8.28616e-16, -4.31224], [1.84913e-15, -4.32916e-15, -4.31224], [4.19521e-15, 1.1225e-14, -4.31224], [-0.361492, 0.309665, -4.31224], [0.0516329, 0.0887237, -4.31224], [0.509749, 0.0643933, -4.31224], [-0.236674, 0.0145694, -4.31224], [0.218767, 0.137079, -4.31224], [-7.91831e-16, -1.23677e-16, -4.31224], [1.13823e-15, 3.76037e-16, -4.31224], [1.78578e-15, 1.60401e-15, -4.31224], [3.70068e-16, -6.23215e-16, -4.31224], [-1.80252e-16, -1.16284e-15, -4.31224], [5.57573e-17, 2.81439e-15, -4.31224]], Array{Float64,1}[[0.0, 0.0, 0.0], [0.0, 0.0, 0.0], [0.0, 0.0, 0.0], [0.0, 0.0, 0.0], [0.0, 0.0, 0.0], [0.0, 0.0, 0.0], [0.0, 0.0, 0.0], [0.0, 0.0, 0.0], [0.0, 0.0, 0.0], [0.0, 0.0, 0.0], [0.0, 0.0, 0.0], [0.0, 0.0, 0.0], [0.0, 0.0, 0.0], [0.0, 0.0, 0.0]], [0.05, 0.05, 0.05, 0.05, 0.05, 0.05, 0.05, 0.05, 0.05, 0.05, 0.05, 0.05, 0.05, 0.05], Array{Float64,1}[[1.0, 6.11552e-8, 1.0, 1.36333e-17, 1.21365e-11, -5.56445e-15], [1.0, 0.5, 3.17461e-17, 0.5, -5.18254e-14, -5.38995e-16], [1.0, -2.99933e-16, -3.04055e-13, -5.40656e-15, 1.0, -9.99868e-15], [1.97029, 0.20921, 3.28499e-16, 2.72599e-17, 1.76108, 6.22965e-17], [-5.01767e-15, -2.74573e-15, -3.73704e-17, 3.65268e-19, 0.0, 0.632276], [3.76593e-18, -9.59008e-19, 0.0, 3.36032e-19, 0.0, 0.676346], [2.5119, -1.36333e-17, 2.42121, 0.0906901, -6.78524e-16, 9.41811e-18], [-2.30425e-16, 1.01576e-25, 0.0, -6.60676e-16, -3.66437e-16, 1.33682], [1.51643, 2.18133e-16, -8.40456e-12, 0.0993885, 1.41704, 1.89156e-18], [1.0, 4.3172e-16, 1.0, 1.31931e-15, 1.08053e-12, -1.76395e-15], [1.0, 4.37055e-15, 1.0, -1.04461e-16, 3.87478e-17, 1.01669e-15], [1.0, 0.443349, 0.113303, 0.443349, -3.79471e-17, 8.1786e-16], [1.0, 5.4174e-16, -1.53577e-15, 2.72666e-17, 1.0, -3.58323e-16], [1.0, 0.450211, -9.31731e-12, 0.450211, 0.0995787, -3.70676e-16]], Array{Float64,1}[], [0.0, 0.05, 0.1, 0.15, 0.2, 0.25, 0.3, 0.35, 0.4, 0.45, 0.5, 0.55, 0.6, 0.65, 0.7], [-8.4751e-17 -1.69417e-16 … 0.0202856 0.0202856; -3.00059e-18 -4.23129e-17 … 4.15335e-17 -3.18895e-16; … ; 0.0 -8.28616e-16 … -1.16284e-15 2.81439e-15; -4.31224 -4.31224 … -4.31224 -4.31224], [-8.4751e-17, -3.00059e-18, 0.0, -3.07073e-8, 0.0, -4.31224, 0.0, 0.0, 0.0, 0.05  …  0.450211, 0.0995787, -3.70676e-16, 1.0, 0.0202856, -3.18895e-16, -3.01857, 5.57573e-17, 2.81439e-15, -4.31224])"
      ]
     },
     "execution_count": 130,
     "metadata": {},
     "output_type": "execute_result"
    }
   ],
   "source": [
    "# Indirect\n",
    "con_tol = 1e-3\n",
    "obj_tol = 1e-3\n",
    "max_iter = 10000\n",
    "\n",
    "sim_data = get_trajopt_data_indirect(mechanism,env,Δt,N,relax_comp=false)\n",
    "add_prob_constraints!(sim_data)\n",
    "# add_prob_obj!(sim_data)\n",
    "x_min, x_max = get_prob_limits(sim_data)\n",
    "x0 = get_prob_init(sim_data)\n",
    "traj_indirect = Bilevel.trajopt(sim_data, x0=x0, x_min=x_min, x_max=x_max, verbose=1, opt_tol=obj_tol, major_feas=con_tol, minor_feas=con_tol, max_iter=max_iter)"
   ]
  },
  {
   "cell_type": "code",
   "execution_count": 27,
   "metadata": {},
   "outputs": [
    {
     "data": {
      "text/plain": [
       "BenchmarkTools.Trial: \n",
       "  memory estimate:  23.52 MiB\n",
       "  allocs estimate:  231901\n",
       "  --------------\n",
       "  minimum time:     21.288 ms (0.00% GC)\n",
       "  median time:      22.165 ms (0.00% GC)\n",
       "  mean time:        22.576 ms (0.00% GC)\n",
       "  maximum time:     50.629 ms (0.00% GC)\n",
       "  --------------\n",
       "  samples:          222\n",
       "  evals/sample:     1"
      ]
     },
     "execution_count": 27,
     "metadata": {},
     "output_type": "execute_result"
    }
   ],
   "source": [
    "@benchmark traj_indirect = Bilevel.trajopt(sim_data, x0=x0, x_min=x_min, x_max=x_max, verbose=0, opt_tol=obj_tol, major_feas=con_tol, minor_feas=con_tol, max_iter=max_iter)"
   ]
  },
  {
   "cell_type": "code",
   "execution_count": 109,
   "metadata": {},
   "outputs": [
    {
     "name": "stdout",
     "output_type": "stream",
     "text": [
      "Terminated after numerical difficulties: current point cannot be improved\n"
     ]
    },
    {
     "data": {
      "text/plain": [
       "(Array{Float64,1}[[-1.51865e-17, 0.0, 0.0], [0.242091, 2.16419e-19, -0.0147747], [0.459491, 2.13031e-19, -0.0295495], [0.652106, -7.96796e-18, -0.0443242], [0.818659, -7.37566e-17, -0.0590989], [0.959501, -1.4085e-5, -0.0738737], [1.07718, 0.0, -0.0886484], [1.17281, -2.66296e-20, -0.103423], [1.24188, -2.66287e-20, -0.118198], [1.28882, -5.32552e-20, -0.132973], [1.29476, 0.00979413, -0.147747], [1.25272, 0.0156397, -0.162522], [1.21683, 0.0292615, -0.177297], [1.18242, 0.0190571, -0.192071], [1.15, 5.54213e-5, -0.206846]], Array{Float64,1}[[5.33631, 0.0, -0.295495], [4.84195, 0.047369, -0.295495], [4.34852, 0.0881129, -0.295495], [3.85342, 0.122366, -0.295495], [3.33198, 0.149374, -0.295495], [2.81776, 0.170234, -0.295495], [2.3581, 0.186455, -0.295495], [1.92346, 0.196719, -0.295495], [1.40312, 0.240358, -0.295495], [0.970769, 0.335309, -0.295495], [0.121202, 0.790721, -0.295495], [-1.01717, 1.1203, -0.295495], [-0.524943, 1.17955, -0.295495], [-0.386169, 0.626818, -0.295495], [0.0, 0.200384, -0.295495]], Array{Float64,1}[[0.0, 0.0, 0.0], [0.0, 0.0, 0.0], [0.0, 0.0, 0.0], [0.0, 0.0, 0.0], [0.0, 0.0, 0.0], [0.0, 0.0, 0.0], [0.0, 0.0, 0.0], [0.0, 0.0, 0.0], [0.0, 0.0, 0.0], [0.0, 0.0, 0.0], [0.0, 0.0, 0.0], [0.0, 0.0, 0.0], [0.0, 0.0, 0.0], [0.0, 0.0, 0.0]], [0.05, 0.05, 0.05, 0.05, 0.05, 0.05, 0.05, 0.05, 0.05, 0.05, 0.05, 0.05, 0.05, 0.05], Array{Float64,1}[[1.01489], [1.02297], [1.0314], [1.04161], [1.05027], [1.05319], [1.05612], [1.08421], [1.1386], [1.74232], [1.15899], [1.21922], [0.000243878], [0.785457]], Array{Float64,1}[], [0.0, 0.05, 0.1, 0.15, 0.2, 0.25, 0.3, 0.35, 0.4, 0.45, 0.5, 0.55, 0.6, 0.65, 0.7], [-1.51865e-17 0.242091 … 1.18242 1.15; 0.0 2.16419e-19 … 0.0190571 5.54213e-5; … ; 0.0 0.047369 … 0.626818 0.200384; -0.295495 -0.295495 … -0.295495 -0.295495], [-1.51865e-17, 0.0, 0.0, 5.33631, 0.0, -0.295495, 0.0, 0.0, 0.0, 0.05  …  0.0, 0.0, 0.05, 0.785457, 1.15, 5.54213e-5, -0.206846, 0.0, 0.200384, -0.295495])"
      ]
     },
     "execution_count": 109,
     "metadata": {},
     "output_type": "execute_result"
    }
   ],
   "source": [
    "# Semidirect\n",
    "con_tol = 1e-3\n",
    "obj_tol = 1e-3\n",
    "max_iter = 10000\n",
    "\n",
    "sim_data = get_trajopt_data_semidirect(mechanism,env,Δt,N,relax_comp=false)\n",
    "add_prob_constraints!(sim_data)\n",
    "add_prob_obj!(sim_data)\n",
    "x_min, x_max = get_prob_limits(sim_data)\n",
    "x0 = get_prob_init(sim_data)\n",
    "traj_semidirect = Bilevel.trajopt(sim_data, x0=x0, x_min=x_min, x_max=x_max, verbose=1, opt_tol=obj_tol, major_feas=con_tol, minor_feas=con_tol, max_iter=max_iter)"
   ]
  },
  {
   "cell_type": "code",
   "execution_count": 34,
   "metadata": {},
   "outputs": [
    {
     "data": {
      "text/plain": [
       "BenchmarkTools.Trial: \n",
       "  memory estimate:  105.56 MiB\n",
       "  allocs estimate:  641705\n",
       "  --------------\n",
       "  minimum time:     70.234 ms (0.00% GC)\n",
       "  median time:      149.677 ms (0.00% GC)\n",
       "  mean time:        173.128 ms (0.00% GC)\n",
       "  maximum time:     809.472 ms (0.00% GC)\n",
       "  --------------\n",
       "  samples:          29\n",
       "  evals/sample:     1"
      ]
     },
     "execution_count": 34,
     "metadata": {},
     "output_type": "execute_result"
    }
   ],
   "source": [
    "@benchmark traj_semidirect = Bilevel.trajopt(sim_data, x0=x0, x_min=x_min, x_max=x_max, verbose=0, opt_tol=obj_tol, major_feas=con_tol, minor_feas=con_tol, max_iter=max_iter)"
   ]
  },
  {
   "cell_type": "code",
   "execution_count": 110,
   "metadata": {},
   "outputs": [
    {
     "name": "stdout",
     "output_type": "stream",
     "text": [
      "Terminated after numerical difficulties: current point cannot be improved\n"
     ]
    },
    {
     "data": {
      "text/plain": [
       "(Array{Float64,1}[[0.0, 0.0, 0.0], [0.189614, -0.00145228, -0.105853], [0.369659, -0.00543136, -0.211706], [0.540421, -0.0127174, -0.317559], [0.702028, -0.0238058, -0.423412], [0.854415, -0.038932, -0.529265], [0.997554, -0.0572617, -0.517984], [1.13145, -0.0779947, -0.506702], [1.25616, -0.100382, -0.49542], [1.3565, -0.117387, -0.484139], [1.4205, -0.110784, -0.472857], [1.43992, -0.0715354, -0.461576], [1.40653, 0.00887247, -0.450294], [1.31237, 0.138262, -0.439012], [1.15, 0.323584, -0.427731]], Array{Float64,1}[[3.99152, 0.0, -2.11706], [3.78785, -0.184138, -2.11706], [3.58181, -0.37362, -2.11706], [3.36994, -0.562867, -2.11706], [3.14874, -0.745748, -2.11706], [2.91505, -0.915859, -2.11706], [2.67089, -1.06725, 0.225633], [2.42395, -1.18267, 0.225633], [2.17817, -1.26379, 0.225633], [1.89481, -1.07815, 0.225633], [1.41776, -0.417967, 0.225633], [0.957889, 0.523596, 0.225633], [0.546924, 1.73932, 0.225633], [0.21707, 3.2141, 0.225633], [0.0, 4.92382, 0.225633]], Array{Float64,1}[[0.0, 0.0, 0.0], [0.0, 0.0, 0.0], [0.0, 0.0, 0.0], [0.0, 0.0, 0.0], [0.0, 0.0, 0.0], [0.0, 0.0, 0.0], [0.0, 0.0, 0.0], [0.0, 0.0, 0.0], [0.0, 0.0, 0.0], [0.0, 0.0, 0.0], [0.0, 0.0, 0.0], [0.0, 0.0, 0.0], [0.0, 0.0, 0.0], [0.0, 0.0, 0.0]], [0.05, 0.05, 0.05, 0.05, 0.05, 0.05, 0.05, 0.05, 0.05, 0.05, 0.05, 0.05, 0.05, 0.05], Array{Float64,1}[[], [], [], [], [], [], [], [], [], [], [], [], [], []], Array{Float64,1}[], [0.0, 0.05, 0.1, 0.15, 0.2, 0.25, 0.3, 0.35, 0.4, 0.45, 0.5, 0.55, 0.6, 0.65, 0.7], [0.0 0.189614 … 1.31237 1.15; 0.0 -0.00145228 … 0.138262 0.323584; … ; 0.0 -0.184138 … 3.2141 4.92382; -2.11706 -2.11706 … 0.225633 0.225633], [0.0, 0.0, 0.0, 3.99152, 0.0, -2.11706, 0.0, 0.0, 0.0, 0.05  …  0.0, 0.0, 0.0, 0.05, 1.15, 0.323584, -0.427731, 0.0, 4.92382, 0.225633])"
      ]
     },
     "execution_count": 110,
     "metadata": {},
     "output_type": "execute_result"
    }
   ],
   "source": [
    "# Direct\n",
    "con_tol = 1e-3\n",
    "obj_tol = 1e-3\n",
    "max_iter = 10000\n",
    "\n",
    "sim_data = get_trajopt_data_direct(mechanism,env,Δt,N,relax_comp=false)\n",
    "add_prob_constraints!(sim_data)\n",
    "add_prob_obj!(sim_data)\n",
    "x_min, x_max = get_prob_limits(sim_data)\n",
    "x0 = get_prob_init(sim_data)\n",
    "traj_direct = Bilevel.trajopt(sim_data, x0=x0, x_min=x_min, x_max=x_max, verbose=1, opt_tol=obj_tol, major_feas=con_tol, minor_feas=con_tol, max_iter=max_iter)"
   ]
  },
  {
   "cell_type": "code",
   "execution_count": 39,
   "metadata": {},
   "outputs": [
    {
     "data": {
      "text/plain": [
       "BenchmarkTools.Trial: \n",
       "  memory estimate:  458.98 MiB\n",
       "  allocs estimate:  2502974\n",
       "  --------------\n",
       "  minimum time:     339.732 ms (0.00% GC)\n",
       "  median time:      697.416 ms (0.00% GC)\n",
       "  mean time:        732.564 ms (0.00% GC)\n",
       "  maximum time:     1.495 s (0.00% GC)\n",
       "  --------------\n",
       "  samples:          8\n",
       "  evals/sample:     1"
      ]
     },
     "execution_count": 39,
     "metadata": {},
     "output_type": "execute_result"
    }
   ],
   "source": [
    "@benchmark traj_direct = Bilevel.trajopt(sim_data, x0=x0, x_min=x_min, x_max=x_max, verbose=0, opt_tol=obj_tol, major_feas=con_tol, minor_feas=con_tol, max_iter=max_iter)"
   ]
  },
  {
   "cell_type": "code",
   "execution_count": null,
   "metadata": {},
   "outputs": [],
   "source": [
    "setanimation!(mvis, traj_indirect[7], traj_indirect[1])"
   ]
  },
  {
   "cell_type": "code",
   "execution_count": null,
   "metadata": {},
   "outputs": [],
   "source": [
    "setanimation!(mvis, traj_semidirect[7], traj_semidirect[1])"
   ]
  },
  {
   "cell_type": "code",
   "execution_count": null,
   "metadata": {},
   "outputs": [],
   "source": [
    "setanimation!(mvis, traj_direct[7], traj_direct[1])"
   ]
  },
  {
   "cell_type": "code",
   "execution_count": 127,
   "metadata": {},
   "outputs": [
    {
     "data": {
      "image/svg+xml": [
       "<?xml version=\"1.0\" encoding=\"utf-8\"?>\n",
       "<svg xmlns=\"http://www.w3.org/2000/svg\" xmlns:xlink=\"http://www.w3.org/1999/xlink\" width=\"600\" height=\"400\" viewBox=\"0 0 2400 1600\">\n",
       "<defs>\n",
       "  <clipPath id=\"clip2800\">\n",
       "    <rect x=\"0\" y=\"0\" width=\"2400\" height=\"1600\"/>\n",
       "  </clipPath>\n",
       "</defs>\n",
       "<polygon clip-path=\"url(#clip2800)\" points=\"\n",
       "0,1600 2400,1600 2400,0 0,0 \n",
       "  \" fill=\"#ffffff\" fill-rule=\"evenodd\" fill-opacity=\"1\"/>\n",
       "<defs>\n",
       "  <clipPath id=\"clip2801\">\n",
       "    <rect x=\"480\" y=\"0\" width=\"1681\" height=\"1600\"/>\n",
       "  </clipPath>\n",
       "</defs>\n",
       "<polygon clip-path=\"url(#clip2800)\" points=\"\n",
       "153.898,1487.47 2352.76,1487.47 2352.76,47.2441 153.898,47.2441 \n",
       "  \" fill=\"#ffffff\" fill-rule=\"evenodd\" fill-opacity=\"1\"/>\n",
       "<defs>\n",
       "  <clipPath id=\"clip2802\">\n",
       "    <rect x=\"153\" y=\"47\" width=\"2200\" height=\"1441\"/>\n",
       "  </clipPath>\n",
       "</defs>\n",
       "<polyline clip-path=\"url(#clip2802)\" style=\"stroke:#000000; stroke-width:2; stroke-opacity:0.1; fill:none\" points=\"\n",
       "  216.13,1487.47 216.13,47.2441 \n",
       "  \"/>\n",
       "<polyline clip-path=\"url(#clip2802)\" style=\"stroke:#000000; stroke-width:2; stroke-opacity:0.1; fill:none\" points=\"\n",
       "  808.814,1487.47 808.814,47.2441 \n",
       "  \"/>\n",
       "<polyline clip-path=\"url(#clip2802)\" style=\"stroke:#000000; stroke-width:2; stroke-opacity:0.1; fill:none\" points=\"\n",
       "  1401.5,1487.47 1401.5,47.2441 \n",
       "  \"/>\n",
       "<polyline clip-path=\"url(#clip2802)\" style=\"stroke:#000000; stroke-width:2; stroke-opacity:0.1; fill:none\" points=\"\n",
       "  1994.18,1487.47 1994.18,47.2441 \n",
       "  \"/>\n",
       "<polyline clip-path=\"url(#clip2802)\" style=\"stroke:#000000; stroke-width:2; stroke-opacity:0.1; fill:none\" points=\"\n",
       "  153.898,1446.71 2352.76,1446.71 \n",
       "  \"/>\n",
       "<polyline clip-path=\"url(#clip2802)\" style=\"stroke:#000000; stroke-width:2; stroke-opacity:0.1; fill:none\" points=\"\n",
       "  153.898,1163.63 2352.76,1163.63 \n",
       "  \"/>\n",
       "<polyline clip-path=\"url(#clip2802)\" style=\"stroke:#000000; stroke-width:2; stroke-opacity:0.1; fill:none\" points=\"\n",
       "  153.898,880.552 2352.76,880.552 \n",
       "  \"/>\n",
       "<polyline clip-path=\"url(#clip2802)\" style=\"stroke:#000000; stroke-width:2; stroke-opacity:0.1; fill:none\" points=\"\n",
       "  153.898,597.472 2352.76,597.472 \n",
       "  \"/>\n",
       "<polyline clip-path=\"url(#clip2802)\" style=\"stroke:#000000; stroke-width:2; stroke-opacity:0.1; fill:none\" points=\"\n",
       "  153.898,314.391 2352.76,314.391 \n",
       "  \"/>\n",
       "<polyline clip-path=\"url(#clip2800)\" style=\"stroke:#000000; stroke-width:4; stroke-opacity:1; fill:none\" points=\"\n",
       "  153.898,1487.47 2352.76,1487.47 \n",
       "  \"/>\n",
       "<polyline clip-path=\"url(#clip2800)\" style=\"stroke:#000000; stroke-width:4; stroke-opacity:1; fill:none\" points=\"\n",
       "  153.898,1487.47 153.898,47.2441 \n",
       "  \"/>\n",
       "<polyline clip-path=\"url(#clip2800)\" style=\"stroke:#000000; stroke-width:4; stroke-opacity:1; fill:none\" points=\"\n",
       "  216.13,1487.47 216.13,1465.87 \n",
       "  \"/>\n",
       "<polyline clip-path=\"url(#clip2800)\" style=\"stroke:#000000; stroke-width:4; stroke-opacity:1; fill:none\" points=\"\n",
       "  808.814,1487.47 808.814,1465.87 \n",
       "  \"/>\n",
       "<polyline clip-path=\"url(#clip2800)\" style=\"stroke:#000000; stroke-width:4; stroke-opacity:1; fill:none\" points=\"\n",
       "  1401.5,1487.47 1401.5,1465.87 \n",
       "  \"/>\n",
       "<polyline clip-path=\"url(#clip2800)\" style=\"stroke:#000000; stroke-width:4; stroke-opacity:1; fill:none\" points=\"\n",
       "  1994.18,1487.47 1994.18,1465.87 \n",
       "  \"/>\n",
       "<polyline clip-path=\"url(#clip2800)\" style=\"stroke:#000000; stroke-width:4; stroke-opacity:1; fill:none\" points=\"\n",
       "  153.898,1446.71 186.881,1446.71 \n",
       "  \"/>\n",
       "<polyline clip-path=\"url(#clip2800)\" style=\"stroke:#000000; stroke-width:4; stroke-opacity:1; fill:none\" points=\"\n",
       "  153.898,1163.63 186.881,1163.63 \n",
       "  \"/>\n",
       "<polyline clip-path=\"url(#clip2800)\" style=\"stroke:#000000; stroke-width:4; stroke-opacity:1; fill:none\" points=\"\n",
       "  153.898,880.552 186.881,880.552 \n",
       "  \"/>\n",
       "<polyline clip-path=\"url(#clip2800)\" style=\"stroke:#000000; stroke-width:4; stroke-opacity:1; fill:none\" points=\"\n",
       "  153.898,597.472 186.881,597.472 \n",
       "  \"/>\n",
       "<polyline clip-path=\"url(#clip2800)\" style=\"stroke:#000000; stroke-width:4; stroke-opacity:1; fill:none\" points=\"\n",
       "  153.898,314.391 186.881,314.391 \n",
       "  \"/>\n",
       "<g clip-path=\"url(#clip2800)\">\n",
       "<text style=\"fill:#000000; fill-opacity:1; font-family:Arial,Helvetica Neue,Helvetica,sans-serif; font-size:48px; text-anchor:middle;\" transform=\"rotate(0, 216.13, 1541.47)\" x=\"216.13\" y=\"1541.47\">0.0</text>\n",
       "</g>\n",
       "<g clip-path=\"url(#clip2800)\">\n",
       "<text style=\"fill:#000000; fill-opacity:1; font-family:Arial,Helvetica Neue,Helvetica,sans-serif; font-size:48px; text-anchor:middle;\" transform=\"rotate(0, 808.814, 1541.47)\" x=\"808.814\" y=\"1541.47\">0.2</text>\n",
       "</g>\n",
       "<g clip-path=\"url(#clip2800)\">\n",
       "<text style=\"fill:#000000; fill-opacity:1; font-family:Arial,Helvetica Neue,Helvetica,sans-serif; font-size:48px; text-anchor:middle;\" transform=\"rotate(0, 1401.5, 1541.47)\" x=\"1401.5\" y=\"1541.47\">0.4</text>\n",
       "</g>\n",
       "<g clip-path=\"url(#clip2800)\">\n",
       "<text style=\"fill:#000000; fill-opacity:1; font-family:Arial,Helvetica Neue,Helvetica,sans-serif; font-size:48px; text-anchor:middle;\" transform=\"rotate(0, 1994.18, 1541.47)\" x=\"1994.18\" y=\"1541.47\">0.6</text>\n",
       "</g>\n",
       "<g clip-path=\"url(#clip2800)\">\n",
       "<text style=\"fill:#000000; fill-opacity:1; font-family:Arial,Helvetica Neue,Helvetica,sans-serif; font-size:48px; text-anchor:end;\" transform=\"rotate(0, 129.898, 1464.21)\" x=\"129.898\" y=\"1464.21\">0.0</text>\n",
       "</g>\n",
       "<g clip-path=\"url(#clip2800)\">\n",
       "<text style=\"fill:#000000; fill-opacity:1; font-family:Arial,Helvetica Neue,Helvetica,sans-serif; font-size:48px; text-anchor:end;\" transform=\"rotate(0, 129.898, 1181.13)\" x=\"129.898\" y=\"1181.13\">0.3</text>\n",
       "</g>\n",
       "<g clip-path=\"url(#clip2800)\">\n",
       "<text style=\"fill:#000000; fill-opacity:1; font-family:Arial,Helvetica Neue,Helvetica,sans-serif; font-size:48px; text-anchor:end;\" transform=\"rotate(0, 129.898, 898.052)\" x=\"129.898\" y=\"898.052\">0.6</text>\n",
       "</g>\n",
       "<g clip-path=\"url(#clip2800)\">\n",
       "<text style=\"fill:#000000; fill-opacity:1; font-family:Arial,Helvetica Neue,Helvetica,sans-serif; font-size:48px; text-anchor:end;\" transform=\"rotate(0, 129.898, 614.972)\" x=\"129.898\" y=\"614.972\">0.9</text>\n",
       "</g>\n",
       "<g clip-path=\"url(#clip2800)\">\n",
       "<text style=\"fill:#000000; fill-opacity:1; font-family:Arial,Helvetica Neue,Helvetica,sans-serif; font-size:48px; text-anchor:end;\" transform=\"rotate(0, 129.898, 331.891)\" x=\"129.898\" y=\"331.891\">1.2</text>\n",
       "</g>\n",
       "<polyline clip-path=\"url(#clip2802)\" style=\"stroke:#e34a33; stroke-width:0; stroke-opacity:1; fill:none\" points=\"\n",
       "  216.13,1007.72 364.301,1007.72 512.472,993.958 660.643,971.923 808.814,946.931 956.985,921.938 1105.16,896.946 1253.33,871.954 1401.5,846.961 1549.67,821.969 \n",
       "  1697.84,796.976 1846.01,771.984 1994.18,746.991 2142.35,721.999 2290.52,721.999 \n",
       "  \"/>\n",
       "<circle clip-path=\"url(#clip2802)\" style=\"fill:#000000; stroke:none; fill-opacity:1\" cx=\"216.13\" cy=\"1007.72\" r=\"25\"/>\n",
       "<circle clip-path=\"url(#clip2802)\" style=\"fill:#e34a33; stroke:none; fill-opacity:1\" cx=\"216.13\" cy=\"1007.72\" r=\"21\"/>\n",
       "<circle clip-path=\"url(#clip2802)\" style=\"fill:#000000; stroke:none; fill-opacity:1\" cx=\"364.301\" cy=\"1007.72\" r=\"25\"/>\n",
       "<circle clip-path=\"url(#clip2802)\" style=\"fill:#e34a33; stroke:none; fill-opacity:1\" cx=\"364.301\" cy=\"1007.72\" r=\"21\"/>\n",
       "<circle clip-path=\"url(#clip2802)\" style=\"fill:#000000; stroke:none; fill-opacity:1\" cx=\"512.472\" cy=\"993.958\" r=\"25\"/>\n",
       "<circle clip-path=\"url(#clip2802)\" style=\"fill:#e34a33; stroke:none; fill-opacity:1\" cx=\"512.472\" cy=\"993.958\" r=\"21\"/>\n",
       "<circle clip-path=\"url(#clip2802)\" style=\"fill:#000000; stroke:none; fill-opacity:1\" cx=\"660.643\" cy=\"971.923\" r=\"25\"/>\n",
       "<circle clip-path=\"url(#clip2802)\" style=\"fill:#e34a33; stroke:none; fill-opacity:1\" cx=\"660.643\" cy=\"971.923\" r=\"21\"/>\n",
       "<circle clip-path=\"url(#clip2802)\" style=\"fill:#000000; stroke:none; fill-opacity:1\" cx=\"808.814\" cy=\"946.931\" r=\"25\"/>\n",
       "<circle clip-path=\"url(#clip2802)\" style=\"fill:#e34a33; stroke:none; fill-opacity:1\" cx=\"808.814\" cy=\"946.931\" r=\"21\"/>\n",
       "<circle clip-path=\"url(#clip2802)\" style=\"fill:#000000; stroke:none; fill-opacity:1\" cx=\"956.985\" cy=\"921.938\" r=\"25\"/>\n",
       "<circle clip-path=\"url(#clip2802)\" style=\"fill:#e34a33; stroke:none; fill-opacity:1\" cx=\"956.985\" cy=\"921.938\" r=\"21\"/>\n",
       "<circle clip-path=\"url(#clip2802)\" style=\"fill:#000000; stroke:none; fill-opacity:1\" cx=\"1105.16\" cy=\"896.946\" r=\"25\"/>\n",
       "<circle clip-path=\"url(#clip2802)\" style=\"fill:#e34a33; stroke:none; fill-opacity:1\" cx=\"1105.16\" cy=\"896.946\" r=\"21\"/>\n",
       "<circle clip-path=\"url(#clip2802)\" style=\"fill:#000000; stroke:none; fill-opacity:1\" cx=\"1253.33\" cy=\"871.954\" r=\"25\"/>\n",
       "<circle clip-path=\"url(#clip2802)\" style=\"fill:#e34a33; stroke:none; fill-opacity:1\" cx=\"1253.33\" cy=\"871.954\" r=\"21\"/>\n",
       "<circle clip-path=\"url(#clip2802)\" style=\"fill:#000000; stroke:none; fill-opacity:1\" cx=\"1401.5\" cy=\"846.961\" r=\"25\"/>\n",
       "<circle clip-path=\"url(#clip2802)\" style=\"fill:#e34a33; stroke:none; fill-opacity:1\" cx=\"1401.5\" cy=\"846.961\" r=\"21\"/>\n",
       "<circle clip-path=\"url(#clip2802)\" style=\"fill:#000000; stroke:none; fill-opacity:1\" cx=\"1549.67\" cy=\"821.969\" r=\"25\"/>\n",
       "<circle clip-path=\"url(#clip2802)\" style=\"fill:#e34a33; stroke:none; fill-opacity:1\" cx=\"1549.67\" cy=\"821.969\" r=\"21\"/>\n",
       "<circle clip-path=\"url(#clip2802)\" style=\"fill:#000000; stroke:none; fill-opacity:1\" cx=\"1697.84\" cy=\"796.976\" r=\"25\"/>\n",
       "<circle clip-path=\"url(#clip2802)\" style=\"fill:#e34a33; stroke:none; fill-opacity:1\" cx=\"1697.84\" cy=\"796.976\" r=\"21\"/>\n",
       "<circle clip-path=\"url(#clip2802)\" style=\"fill:#000000; stroke:none; fill-opacity:1\" cx=\"1846.01\" cy=\"771.984\" r=\"25\"/>\n",
       "<circle clip-path=\"url(#clip2802)\" style=\"fill:#e34a33; stroke:none; fill-opacity:1\" cx=\"1846.01\" cy=\"771.984\" r=\"21\"/>\n",
       "<circle clip-path=\"url(#clip2802)\" style=\"fill:#000000; stroke:none; fill-opacity:1\" cx=\"1994.18\" cy=\"746.991\" r=\"25\"/>\n",
       "<circle clip-path=\"url(#clip2802)\" style=\"fill:#e34a33; stroke:none; fill-opacity:1\" cx=\"1994.18\" cy=\"746.991\" r=\"21\"/>\n",
       "<circle clip-path=\"url(#clip2802)\" style=\"fill:#000000; stroke:none; fill-opacity:1\" cx=\"2142.35\" cy=\"721.999\" r=\"25\"/>\n",
       "<circle clip-path=\"url(#clip2802)\" style=\"fill:#e34a33; stroke:none; fill-opacity:1\" cx=\"2142.35\" cy=\"721.999\" r=\"21\"/>\n",
       "<circle clip-path=\"url(#clip2802)\" style=\"fill:#000000; stroke:none; fill-opacity:1\" cx=\"2290.52\" cy=\"721.999\" r=\"25\"/>\n",
       "<circle clip-path=\"url(#clip2802)\" style=\"fill:#e34a33; stroke:none; fill-opacity:1\" cx=\"2290.52\" cy=\"721.999\" r=\"21\"/>\n",
       "<polyline clip-path=\"url(#clip2802)\" style=\"stroke:#fee8c8; stroke-width:4; stroke-opacity:1; fill:none\" points=\"\n",
       "  216.13,1446.71 364.301,1218.28 512.472,1013.14 660.643,831.385 808.814,674.225 956.985,541.326 1105.16,430.28 1253.33,340.049 1401.5,274.872 1549.67,230.577 \n",
       "  1697.84,224.973 1846.01,264.646 1994.18,298.511 2142.35,330.98 2290.52,361.571 \n",
       "  \"/>\n",
       "<circle clip-path=\"url(#clip2802)\" style=\"fill:#000000; stroke:none; fill-opacity:1\" cx=\"216.13\" cy=\"1446.71\" r=\"18\"/>\n",
       "<circle clip-path=\"url(#clip2802)\" style=\"fill:#fee8c8; stroke:none; fill-opacity:1\" cx=\"216.13\" cy=\"1446.71\" r=\"14\"/>\n",
       "<circle clip-path=\"url(#clip2802)\" style=\"fill:#000000; stroke:none; fill-opacity:1\" cx=\"364.301\" cy=\"1218.28\" r=\"18\"/>\n",
       "<circle clip-path=\"url(#clip2802)\" style=\"fill:#fee8c8; stroke:none; fill-opacity:1\" cx=\"364.301\" cy=\"1218.28\" r=\"14\"/>\n",
       "<circle clip-path=\"url(#clip2802)\" style=\"fill:#000000; stroke:none; fill-opacity:1\" cx=\"512.472\" cy=\"1013.14\" r=\"18\"/>\n",
       "<circle clip-path=\"url(#clip2802)\" style=\"fill:#fee8c8; stroke:none; fill-opacity:1\" cx=\"512.472\" cy=\"1013.14\" r=\"14\"/>\n",
       "<circle clip-path=\"url(#clip2802)\" style=\"fill:#000000; stroke:none; fill-opacity:1\" cx=\"660.643\" cy=\"831.385\" r=\"18\"/>\n",
       "<circle clip-path=\"url(#clip2802)\" style=\"fill:#fee8c8; stroke:none; fill-opacity:1\" cx=\"660.643\" cy=\"831.385\" r=\"14\"/>\n",
       "<circle clip-path=\"url(#clip2802)\" style=\"fill:#000000; stroke:none; fill-opacity:1\" cx=\"808.814\" cy=\"674.225\" r=\"18\"/>\n",
       "<circle clip-path=\"url(#clip2802)\" style=\"fill:#fee8c8; stroke:none; fill-opacity:1\" cx=\"808.814\" cy=\"674.225\" r=\"14\"/>\n",
       "<circle clip-path=\"url(#clip2802)\" style=\"fill:#000000; stroke:none; fill-opacity:1\" cx=\"956.985\" cy=\"541.326\" r=\"18\"/>\n",
       "<circle clip-path=\"url(#clip2802)\" style=\"fill:#fee8c8; stroke:none; fill-opacity:1\" cx=\"956.985\" cy=\"541.326\" r=\"14\"/>\n",
       "<circle clip-path=\"url(#clip2802)\" style=\"fill:#000000; stroke:none; fill-opacity:1\" cx=\"1105.16\" cy=\"430.28\" r=\"18\"/>\n",
       "<circle clip-path=\"url(#clip2802)\" style=\"fill:#fee8c8; stroke:none; fill-opacity:1\" cx=\"1105.16\" cy=\"430.28\" r=\"14\"/>\n",
       "<circle clip-path=\"url(#clip2802)\" style=\"fill:#000000; stroke:none; fill-opacity:1\" cx=\"1253.33\" cy=\"340.049\" r=\"18\"/>\n",
       "<circle clip-path=\"url(#clip2802)\" style=\"fill:#fee8c8; stroke:none; fill-opacity:1\" cx=\"1253.33\" cy=\"340.049\" r=\"14\"/>\n",
       "<circle clip-path=\"url(#clip2802)\" style=\"fill:#000000; stroke:none; fill-opacity:1\" cx=\"1401.5\" cy=\"274.872\" r=\"18\"/>\n",
       "<circle clip-path=\"url(#clip2802)\" style=\"fill:#fee8c8; stroke:none; fill-opacity:1\" cx=\"1401.5\" cy=\"274.872\" r=\"14\"/>\n",
       "<circle clip-path=\"url(#clip2802)\" style=\"fill:#000000; stroke:none; fill-opacity:1\" cx=\"1549.67\" cy=\"230.577\" r=\"18\"/>\n",
       "<circle clip-path=\"url(#clip2802)\" style=\"fill:#fee8c8; stroke:none; fill-opacity:1\" cx=\"1549.67\" cy=\"230.577\" r=\"14\"/>\n",
       "<circle clip-path=\"url(#clip2802)\" style=\"fill:#000000; stroke:none; fill-opacity:1\" cx=\"1697.84\" cy=\"224.973\" r=\"18\"/>\n",
       "<circle clip-path=\"url(#clip2802)\" style=\"fill:#fee8c8; stroke:none; fill-opacity:1\" cx=\"1697.84\" cy=\"224.973\" r=\"14\"/>\n",
       "<circle clip-path=\"url(#clip2802)\" style=\"fill:#000000; stroke:none; fill-opacity:1\" cx=\"1846.01\" cy=\"264.646\" r=\"18\"/>\n",
       "<circle clip-path=\"url(#clip2802)\" style=\"fill:#fee8c8; stroke:none; fill-opacity:1\" cx=\"1846.01\" cy=\"264.646\" r=\"14\"/>\n",
       "<circle clip-path=\"url(#clip2802)\" style=\"fill:#000000; stroke:none; fill-opacity:1\" cx=\"1994.18\" cy=\"298.511\" r=\"18\"/>\n",
       "<circle clip-path=\"url(#clip2802)\" style=\"fill:#fee8c8; stroke:none; fill-opacity:1\" cx=\"1994.18\" cy=\"298.511\" r=\"14\"/>\n",
       "<circle clip-path=\"url(#clip2802)\" style=\"fill:#000000; stroke:none; fill-opacity:1\" cx=\"2142.35\" cy=\"330.98\" r=\"18\"/>\n",
       "<circle clip-path=\"url(#clip2802)\" style=\"fill:#fee8c8; stroke:none; fill-opacity:1\" cx=\"2142.35\" cy=\"330.98\" r=\"14\"/>\n",
       "<circle clip-path=\"url(#clip2802)\" style=\"fill:#000000; stroke:none; fill-opacity:1\" cx=\"2290.52\" cy=\"361.571\" r=\"18\"/>\n",
       "<circle clip-path=\"url(#clip2802)\" style=\"fill:#fee8c8; stroke:none; fill-opacity:1\" cx=\"2290.52\" cy=\"361.571\" r=\"14\"/>\n",
       "<polyline clip-path=\"url(#clip2802)\" style=\"stroke:#368464; stroke-width:8; stroke-opacity:1; fill:none\" points=\"\n",
       "  216.13,1446.71 364.301,1267.79 512.472,1097.9 660.643,936.771 808.814,784.279 956.985,640.486 1105.16,505.419 1253.33,379.074 1401.5,261.397 1549.67,166.719 \n",
       "  1697.84,106.33 1846.01,88.0053 1994.18,119.508 2142.35,208.36 2290.52,361.571 \n",
       "  \"/>\n",
       "<circle clip-path=\"url(#clip2802)\" style=\"fill:#000000; stroke:none; fill-opacity:1\" cx=\"216.13\" cy=\"1446.71\" r=\"18\"/>\n",
       "<circle clip-path=\"url(#clip2802)\" style=\"fill:#368464; stroke:none; fill-opacity:1\" cx=\"216.13\" cy=\"1446.71\" r=\"14\"/>\n",
       "<circle clip-path=\"url(#clip2802)\" style=\"fill:#000000; stroke:none; fill-opacity:1\" cx=\"364.301\" cy=\"1267.79\" r=\"18\"/>\n",
       "<circle clip-path=\"url(#clip2802)\" style=\"fill:#368464; stroke:none; fill-opacity:1\" cx=\"364.301\" cy=\"1267.79\" r=\"14\"/>\n",
       "<circle clip-path=\"url(#clip2802)\" style=\"fill:#000000; stroke:none; fill-opacity:1\" cx=\"512.472\" cy=\"1097.9\" r=\"18\"/>\n",
       "<circle clip-path=\"url(#clip2802)\" style=\"fill:#368464; stroke:none; fill-opacity:1\" cx=\"512.472\" cy=\"1097.9\" r=\"14\"/>\n",
       "<circle clip-path=\"url(#clip2802)\" style=\"fill:#000000; stroke:none; fill-opacity:1\" cx=\"660.643\" cy=\"936.771\" r=\"18\"/>\n",
       "<circle clip-path=\"url(#clip2802)\" style=\"fill:#368464; stroke:none; fill-opacity:1\" cx=\"660.643\" cy=\"936.771\" r=\"14\"/>\n",
       "<circle clip-path=\"url(#clip2802)\" style=\"fill:#000000; stroke:none; fill-opacity:1\" cx=\"808.814\" cy=\"784.279\" r=\"18\"/>\n",
       "<circle clip-path=\"url(#clip2802)\" style=\"fill:#368464; stroke:none; fill-opacity:1\" cx=\"808.814\" cy=\"784.279\" r=\"14\"/>\n",
       "<circle clip-path=\"url(#clip2802)\" style=\"fill:#000000; stroke:none; fill-opacity:1\" cx=\"956.985\" cy=\"640.486\" r=\"18\"/>\n",
       "<circle clip-path=\"url(#clip2802)\" style=\"fill:#368464; stroke:none; fill-opacity:1\" cx=\"956.985\" cy=\"640.486\" r=\"14\"/>\n",
       "<circle clip-path=\"url(#clip2802)\" style=\"fill:#000000; stroke:none; fill-opacity:1\" cx=\"1105.16\" cy=\"505.419\" r=\"18\"/>\n",
       "<circle clip-path=\"url(#clip2802)\" style=\"fill:#368464; stroke:none; fill-opacity:1\" cx=\"1105.16\" cy=\"505.419\" r=\"14\"/>\n",
       "<circle clip-path=\"url(#clip2802)\" style=\"fill:#000000; stroke:none; fill-opacity:1\" cx=\"1253.33\" cy=\"379.074\" r=\"18\"/>\n",
       "<circle clip-path=\"url(#clip2802)\" style=\"fill:#368464; stroke:none; fill-opacity:1\" cx=\"1253.33\" cy=\"379.074\" r=\"14\"/>\n",
       "<circle clip-path=\"url(#clip2802)\" style=\"fill:#000000; stroke:none; fill-opacity:1\" cx=\"1401.5\" cy=\"261.397\" r=\"18\"/>\n",
       "<circle clip-path=\"url(#clip2802)\" style=\"fill:#368464; stroke:none; fill-opacity:1\" cx=\"1401.5\" cy=\"261.397\" r=\"14\"/>\n",
       "<circle clip-path=\"url(#clip2802)\" style=\"fill:#000000; stroke:none; fill-opacity:1\" cx=\"1549.67\" cy=\"166.719\" r=\"18\"/>\n",
       "<circle clip-path=\"url(#clip2802)\" style=\"fill:#368464; stroke:none; fill-opacity:1\" cx=\"1549.67\" cy=\"166.719\" r=\"14\"/>\n",
       "<circle clip-path=\"url(#clip2802)\" style=\"fill:#000000; stroke:none; fill-opacity:1\" cx=\"1697.84\" cy=\"106.33\" r=\"18\"/>\n",
       "<circle clip-path=\"url(#clip2802)\" style=\"fill:#368464; stroke:none; fill-opacity:1\" cx=\"1697.84\" cy=\"106.33\" r=\"14\"/>\n",
       "<circle clip-path=\"url(#clip2802)\" style=\"fill:#000000; stroke:none; fill-opacity:1\" cx=\"1846.01\" cy=\"88.0053\" r=\"18\"/>\n",
       "<circle clip-path=\"url(#clip2802)\" style=\"fill:#368464; stroke:none; fill-opacity:1\" cx=\"1846.01\" cy=\"88.0053\" r=\"14\"/>\n",
       "<circle clip-path=\"url(#clip2802)\" style=\"fill:#000000; stroke:none; fill-opacity:1\" cx=\"1994.18\" cy=\"119.508\" r=\"18\"/>\n",
       "<circle clip-path=\"url(#clip2802)\" style=\"fill:#368464; stroke:none; fill-opacity:1\" cx=\"1994.18\" cy=\"119.508\" r=\"14\"/>\n",
       "<circle clip-path=\"url(#clip2802)\" style=\"fill:#000000; stroke:none; fill-opacity:1\" cx=\"2142.35\" cy=\"208.36\" r=\"18\"/>\n",
       "<circle clip-path=\"url(#clip2802)\" style=\"fill:#368464; stroke:none; fill-opacity:1\" cx=\"2142.35\" cy=\"208.36\" r=\"14\"/>\n",
       "<circle clip-path=\"url(#clip2802)\" style=\"fill:#000000; stroke:none; fill-opacity:1\" cx=\"2290.52\" cy=\"361.571\" r=\"18\"/>\n",
       "<circle clip-path=\"url(#clip2802)\" style=\"fill:#368464; stroke:none; fill-opacity:1\" cx=\"2290.52\" cy=\"361.571\" r=\"14\"/>\n",
       "<polygon clip-path=\"url(#clip2800)\" points=\"\n",
       "1813.42,372.684 2280.76,372.684 2280.76,130.764 1813.42,130.764 \n",
       "  \" fill=\"#ffffff\" fill-rule=\"evenodd\" fill-opacity=\"1\"/>\n",
       "<polyline clip-path=\"url(#clip2800)\" style=\"stroke:#000000; stroke-width:4; stroke-opacity:1; fill:none\" points=\"\n",
       "  1813.42,372.684 2280.76,372.684 2280.76,130.764 1813.42,130.764 1813.42,372.684 \n",
       "  \"/>\n",
       "<polyline clip-path=\"url(#clip2800)\" style=\"stroke:#e34a33; stroke-width:0; stroke-opacity:1; fill:none\" points=\"\n",
       "  1837.42,191.244 1981.42,191.244 \n",
       "  \"/>\n",
       "<circle clip-path=\"url(#clip2800)\" style=\"fill:#000000; stroke:none; fill-opacity:1\" cx=\"1921.42\" cy=\"191.244\" r=\"25\"/>\n",
       "<circle clip-path=\"url(#clip2800)\" style=\"fill:#e34a33; stroke:none; fill-opacity:1\" cx=\"1921.42\" cy=\"191.244\" r=\"21\"/>\n",
       "<g clip-path=\"url(#clip2800)\">\n",
       "<text style=\"fill:#000000; fill-opacity:1; font-family:Arial,Helvetica Neue,Helvetica,sans-serif; font-size:48px; text-anchor:start;\" transform=\"rotate(0, 2005.42, 208.744)\" x=\"2005.42\" y=\"208.744\">Indirect</text>\n",
       "</g>\n",
       "<polyline clip-path=\"url(#clip2800)\" style=\"stroke:#fee8c8; stroke-width:4; stroke-opacity:1; fill:none\" points=\"\n",
       "  1837.42,251.724 1981.42,251.724 \n",
       "  \"/>\n",
       "<circle clip-path=\"url(#clip2800)\" style=\"fill:#000000; stroke:none; fill-opacity:1\" cx=\"1921.42\" cy=\"251.724\" r=\"25\"/>\n",
       "<circle clip-path=\"url(#clip2800)\" style=\"fill:#fee8c8; stroke:none; fill-opacity:1\" cx=\"1921.42\" cy=\"251.724\" r=\"21\"/>\n",
       "<g clip-path=\"url(#clip2800)\">\n",
       "<text style=\"fill:#000000; fill-opacity:1; font-family:Arial,Helvetica Neue,Helvetica,sans-serif; font-size:48px; text-anchor:start;\" transform=\"rotate(0, 2005.42, 269.224)\" x=\"2005.42\" y=\"269.224\">Semidirect</text>\n",
       "</g>\n",
       "<polyline clip-path=\"url(#clip2800)\" style=\"stroke:#368464; stroke-width:8; stroke-opacity:1; fill:none\" points=\"\n",
       "  1837.42,312.204 1981.42,312.204 \n",
       "  \"/>\n",
       "<circle clip-path=\"url(#clip2800)\" style=\"fill:#000000; stroke:none; fill-opacity:1\" cx=\"1921.42\" cy=\"312.204\" r=\"25\"/>\n",
       "<circle clip-path=\"url(#clip2800)\" style=\"fill:#368464; stroke:none; fill-opacity:1\" cx=\"1921.42\" cy=\"312.204\" r=\"21\"/>\n",
       "<g clip-path=\"url(#clip2800)\">\n",
       "<text style=\"fill:#000000; fill-opacity:1; font-family:Arial,Helvetica Neue,Helvetica,sans-serif; font-size:48px; text-anchor:start;\" transform=\"rotate(0, 2005.42, 329.704)\" x=\"2005.42\" y=\"329.704\">Direct</text>\n",
       "</g>\n",
       "</svg>\n"
      ]
     },
     "execution_count": 127,
     "metadata": {},
     "output_type": "execute_result"
    }
   ],
   "source": [
    "j = 1\n",
    "plot(traj_indirect[7],traj_indirect[8][j,:],label=\"Indirect\",seriescolor=RGB(((227,74,51) ./ 255.)...),linewidth=0,marker=6)\n",
    "plot!(traj_semidirect[7],traj_semidirect[8][j,:],label=\"Semidirect\",seriescolor=RGB(((254,232,200) ./ 255.)...),linewidth=1,marker=4)\n",
    "plot!(traj_direct[7],traj_direct[8][j,:],label=\"Direct\",seriescolor=RGB(((54,132,100) ./ 255.)...),linewidth=2,marker=4)"
   ]
  },
  {
   "cell_type": "markdown",
   "metadata": {},
   "source": [
    "# Trajectory optimization of little dog"
   ]
  },
  {
   "cell_type": "code",
   "execution_count": null,
   "metadata": {},
   "outputs": [],
   "source": [
    "urdf = joinpath(\"..\", \"..\", \"urdf\", \"little_dog\", \"little_dog2d.urdf\")\n",
    "mechanism = parse_urdf(Float64, urdf)\n",
    "\n",
    "floor = findbody(mechanism, \"floor\")\n",
    "point = Point3D(default_frame(floor), SVector([0.,0.,0.]...))\n",
    "normal = FreeVector3D(default_frame(floor), SVector([0.,0.,1.]...))\n",
    "floor_obs = Obstacle(floor, point, normal, :xyz, 10.)\n",
    "\n",
    "obstacles = [floor_obs]\n",
    "env = Environment(mechanism, urdf, obstacles);"
   ]
  },
  {
   "cell_type": "code",
   "execution_count": null,
   "metadata": {},
   "outputs": [],
   "source": [
    "mvis = MechanismVisualizer(mechanism, URDFVisuals(urdf));\n",
    "open(mvis)"
   ]
  },
  {
   "cell_type": "code",
   "execution_count": null,
   "metadata": {},
   "outputs": [],
   "source": [
    "N = 8\n",
    "Δt = 0.025\n",
    "q0 = [0., -.275, 0., 0., 0., 0., 0., pi/4, pi/4, -pi/4, -pi/4, -pi/2, -pi/2, pi/2, pi/2] \n",
    "v0 = zeros(num_velocities(mechanism))\n",
    "\n",
    "sim_data = get_sim_data_indirect(mechanism,env,Δt)\n",
    "null_ctrl! = (u,t,x) -> u[:] .= 0.\n",
    "x0 = MechanismState(mechanism)\n",
    "set_configuration!(x0, q0)\n",
    "set_velocity!(x0, v0)\n",
    "setdirty!(x0)\n",
    "traj_sim = Bilevel.simulate(sim_data,null_ctrl!,x0,N)\n",
    "setanimation!(mvis, traj_sim[6], traj_sim[1])"
   ]
  },
  {
   "cell_type": "code",
   "execution_count": null,
   "metadata": {},
   "outputs": [],
   "source": [
    "q_nom = copy(traj_sim[1][end])\n",
    "q_min = min.(q_nom, [-5., -.5, -.2*pi, 0., 0., 0., 0., -3.5, -3.5, -3.5, -3.5, -3.1, -3.1, -3.1, -3.1])\n",
    "q_max = max.(q_nom, [5., -0.1, .2*pi, 0., 0., 0., 0., 2.4, 2.4, 2.4, 2.4, 1., 1., 1., 1.])\n",
    "\n",
    "x_goal = 0.1\n",
    "\n",
    "N = 10\n",
    "Δt = 0.05\n",
    "\n",
    "function add_prob_constraints!(sim_data)\n",
    "    vs = sim_data.vs\n",
    "\n",
    "    add_eq!(sim_data, :cq1, num_positions(mechanism), x -> vs(x, :q1) - q_nom)\n",
    "#     add_eq!(sim_data, :cq1, num_positions(mechanism), x -> vs(x, :q1)[1] - q_nom[1])\n",
    "    add_eq!(sim_data, :cv1, num_velocities(mechanism), x -> vs(x, :v1))\n",
    "    add_ineq!(sim_data, :cqNx, 1, x -> x_goal - vs(x, Symbol(\"q\", N))[1])\n",
    "#     add_eq!(sim_data, :cqNlegs, num_positions(mechanism)-1, x -> vs(x, Symbol(\"q\", N))[2:end] - q_nom[2:end])\n",
    "    add_eq!(sim_data, :cqNlegs, num_positions(mechanism)-1, x -> vs(x, Symbol(\"q\", N))[2:end] - vs(x, :q1)[2:end])\n",
    "    add_eq!(sim_data, :cvN, num_velocities(mechanism), x -> vs(x, Symbol(\"v\", N)))\n",
    "\n",
    "#     for n = 1:N\n",
    "#         add_eq!(sim_data, Symbol(\"cq1\", n), 2, x -> vs(x, Symbol(\"q\", n))[8:9] + vs(x, Symbol(\"q\", n))[11:-1:10])\n",
    "#         add_eq!(sim_data, Symbol(\"cq2\", n), 2, x -> vs(x, Symbol(\"q\", n))[12:13] + vs(x, Symbol(\"q\", n))[15:-1:14])\n",
    "#     end\n",
    "end\n",
    "\n",
    "function add_prob_obj!(sim_data)\n",
    "    for n = 1:N-1\n",
    "        add_obj!(sim_data, Symbol(\"u\", n), x -> sim_data.vs(x, Symbol(\"u\", n))' * sim_data.vs(x, Symbol(\"u\", n)))\n",
    "    end\n",
    "end\n",
    "\n",
    "function get_prob_limits(sim_data)\n",
    "    x_min = -1e19*ones(sim_data.vs.num_vars)\n",
    "    x_max = 1e19*ones(sim_data.vs.num_vars)\n",
    "    \n",
    "    # joint limits\n",
    "    add_box_con_snopt!(x_min, x_max, sim_data, :q, q_min, q_max, 1:N)\n",
    "    add_box_con_snopt!(x_min, x_max, sim_data, :h, [1. * Δt], [1. * Δt], 1:N-1)\n",
    "    \n",
    "    # torques limits\n",
    "    u_limit = 1.\n",
    "    add_box_con_snopt!(x_min, x_max, sim_data, :u, -u_limit * ones(num_velocities(mechanism)), u_limit * ones(num_velocities(mechanism)), 1:N-1)\n",
    "    \n",
    "    x_min, x_max\n",
    "end\n",
    "\n",
    "function get_prob_init(sim_data)\n",
    "    x0 = zeros(sim_data.vs.num_vars)\n",
    "    for n = 1:N\n",
    "        qn = copy(q_nom)\n",
    "        qn[1] = (n/N)*(x_goal - q_nom[1]) + q_nom[1]\n",
    "        x0[sim_data.vs(Symbol(\"q\", n))] .= qn\n",
    "    end\n",
    "    \n",
    "    x0\n",
    "end\n",
    "\n",
    "function setup_prob!(sim_data)\n",
    "    add_prob_constraints!(sim_data)\n",
    "    add_prob_obj!(sim_data)\n",
    "    x_min, x_max = get_prob_limits(sim_data)\n",
    "    x0 = get_prob_init(sim_data)\n",
    "    \n",
    "    x0, x_min, x_max\n",
    "end"
   ]
  },
  {
   "cell_type": "code",
   "execution_count": null,
   "metadata": {},
   "outputs": [],
   "source": [
    "# Indirect\n",
    "\n",
    "sim_data = get_trajopt_data_indirect(mechanism,env,Δt,N,relax_comp=false)\n",
    "x0, x_min, x_max = setup_prob!(sim_data);"
   ]
  },
  {
   "cell_type": "code",
   "execution_count": null,
   "metadata": {},
   "outputs": [],
   "source": [
    "con_tol = 1e-3\n",
    "obj_tol = 1e-3\n",
    "max_iter = 10000\n",
    "\n",
    "traj_indirect = Bilevel.trajopt(sim_data, x0=x0, x_min=x_min, x_max=x_max, verbose=1, opt_tol=obj_tol, major_feas=con_tol, minor_feas=con_tol, max_iter=max_iter);\n",
    "\n",
    "x0 = traj_indirect[9]\n",
    "\n",
    "setanimation!(mvis, traj_indirect[7], traj_indirect[1])"
   ]
  },
  {
   "cell_type": "code",
   "execution_count": null,
   "metadata": {},
   "outputs": [],
   "source": [
    "setanimation!(mvis, traj_indirect[7], traj_indirect[1])"
   ]
  },
  {
   "cell_type": "code",
   "execution_count": null,
   "metadata": {},
   "outputs": [],
   "source": [
    "t_step = traj_indirect[7]\n",
    "q_step = traj_indirect[1]\n",
    "u_step = traj_indirect[2][2:end];"
   ]
  },
  {
   "cell_type": "code",
   "execution_count": null,
   "metadata": {},
   "outputs": [],
   "source": [
    "# Semidirect\n",
    "\n",
    "sim_data = get_trajopt_data_semidirect(mechanism,env,Δt,N,relax_comp=false)\n",
    "x0, x_min, x_max = setup_prob!(sim_data);"
   ]
  },
  {
   "cell_type": "code",
   "execution_count": null,
   "metadata": {},
   "outputs": [],
   "source": [
    "con_tol = 1e-3\n",
    "obj_tol = 1e-3\n",
    "max_iter = 10000\n",
    "\n",
    "traj_semidirect = Bilevel.trajopt(sim_data, x0=x0, x_min=x_min, x_max=x_max, verbose=1, opt_tol=obj_tol, major_feas=con_tol, minor_feas=con_tol, max_iter=max_iter)\n",
    "\n",
    "x0 = traj_semidirect[9]\n",
    "\n",
    "setanimation!(mvis, traj_semidirect[7], traj_semidirect[1])"
   ]
  },
  {
   "cell_type": "code",
   "execution_count": null,
   "metadata": {},
   "outputs": [],
   "source": [
    "setanimation!(mvis, traj_semidirect[7], traj_semidirect[1])"
   ]
  },
  {
   "cell_type": "code",
   "execution_count": null,
   "metadata": {},
   "outputs": [],
   "source": [
    "t_step = traj_semidirect[7]\n",
    "q_step = traj_semidirect[1]\n",
    "u_step = traj_semidirect[2][2:end];"
   ]
  },
  {
   "cell_type": "code",
   "execution_count": null,
   "metadata": {},
   "outputs": [],
   "source": [
    "# Direct\n",
    "\n",
    "sim_data = get_trajopt_data_direct(mechanism,env,Δt,N,relax_comp=false)\n",
    "x0, x_min, x_max = setup_prob!(sim_data);"
   ]
  },
  {
   "cell_type": "code",
   "execution_count": null,
   "metadata": {},
   "outputs": [],
   "source": [
    "con_tol = 1e-3\n",
    "obj_tol = 1e-3\n",
    "max_iter = 10000\n",
    "\n",
    "traj_direct = Bilevel.trajopt(sim_data, x0=x0, x_min=x_min, x_max=x_max, verbose=1, opt_tol=obj_tol, major_feas=con_tol, minor_feas=con_tol, max_iter=max_iter)\n",
    "\n",
    "x0 = traj_direct[9]\n",
    "\n",
    "setanimation!(mvis, traj_direct[7], traj_direct[1])"
   ]
  },
  {
   "cell_type": "code",
   "execution_count": null,
   "metadata": {},
   "outputs": [],
   "source": [
    "setanimation!(mvis, traj_direct[7], traj_direct[1])"
   ]
  },
  {
   "cell_type": "code",
   "execution_count": null,
   "metadata": {},
   "outputs": [],
   "source": [
    "t_step = traj_direct[7]\n",
    "q_step = traj_direct[1]\n",
    "u_step = traj_direct[2][2:end];"
   ]
  },
  {
   "cell_type": "code",
   "execution_count": null,
   "metadata": {},
   "outputs": [],
   "source": [
    "# Multi-steps\n",
    "\n",
    "reps = 5\n",
    "\n",
    "ttraj = t_step\n",
    "qtraj = q_step\n",
    "utraj = u_step\n",
    "for i = 1:(reps-1)\n",
    "    ttraj = vcat(ttraj, t_step .+ ttraj[end])\n",
    "    qtraj = vcat(qtraj, map(q -> q + vcat(qtraj[end][1],zeros(length(q)-1)), q_step))\n",
    "    utraj = vcat(utraj, u_step)\n",
    "end\n",
    "\n",
    "setanimation!(mvis, ttraj, qtraj)"
   ]
  }
 ],
 "metadata": {
  "kernelspec": {
   "display_name": "Julia 1.1.0",
   "language": "julia",
   "name": "julia-1.1"
  },
  "language_info": {
   "file_extension": ".jl",
   "mimetype": "application/julia",
   "name": "julia",
   "version": "1.1.0"
  }
 },
 "nbformat": 4,
 "nbformat_minor": 2
}
