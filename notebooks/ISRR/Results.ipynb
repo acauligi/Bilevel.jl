{
 "cells": [
  {
   "cell_type": "code",
   "execution_count": 1,
   "metadata": {},
   "outputs": [
    {
     "name": "stderr",
     "output_type": "stream",
     "text": [
      "┌ Info: Precompiling Bilevel [9688c538-179f-11e9-3174-495cea6b7f67]\n",
      "└ @ Base loading.jl:1186\n"
     ]
    },
    {
     "data": {
      "text/html": [
       "    <script class='js-collapse-script'>\n",
       "        var curMatch =\n",
       "            window.location.href\n",
       "            .match(/(.*?)\\/notebooks\\/.*\\.ipynb/);\n",
       "\n",
       "        curMatch = curMatch ||\n",
       "            window.location.href\n",
       "            .match(/(.*?)\\/apps\\/.*\\.ipynb/);\n",
       "\n",
       "        if ( curMatch ) {\n",
       "            $('head').append('<base href=\"' + curMatch[1] + '/\">');\n",
       "        }\n",
       "    </script>\n"
      ],
      "text/plain": [
       "HTML{String}(\"    <script class='js-collapse-script'>\\n        var curMatch =\\n            window.location.href\\n            .match(/(.*?)\\\\/notebooks\\\\/.*\\\\.ipynb/);\\n\\n        curMatch = curMatch ||\\n            window.location.href\\n            .match(/(.*?)\\\\/apps\\\\/.*\\\\.ipynb/);\\n\\n        if ( curMatch ) {\\n            \\$('head').append('<base href=\\\"' + curMatch[1] + '/\\\">');\\n        }\\n    </script>\\n\")"
      ]
     },
     "metadata": {},
     "output_type": "display_data"
    },
    {
     "data": {
      "text/html": [
       "<script class='js-collapse-script' src='/assetserver/b464848323e0a4c9a3cfe11f8edca2932188b6d9-assets/webio/dist/bundle.js'></script>"
      ],
      "text/plain": [
       "HTML{String}(\"<script class='js-collapse-script' src='/assetserver/b464848323e0a4c9a3cfe11f8edca2932188b6d9-assets/webio/dist/bundle.js'></script>\")"
      ]
     },
     "metadata": {},
     "output_type": "display_data"
    },
    {
     "data": {
      "text/html": [
       "<script class='js-collapse-script' src='/assetserver/b464848323e0a4c9a3cfe11f8edca2932188b6d9-assets/providers/ijulia_setup.js'></script>"
      ],
      "text/plain": [
       "HTML{String}(\"<script class='js-collapse-script' src='/assetserver/b464848323e0a4c9a3cfe11f8edca2932188b6d9-assets/providers/ijulia_setup.js'></script>\")"
      ]
     },
     "metadata": {},
     "output_type": "display_data"
    },
    {
     "data": {
      "text/html": [
       "  <script class='js-collapse-script'>\n",
       "    $('.js-collapse-script').parent('.output_subarea').css('padding', '0');\n",
       "  </script>\n"
      ],
      "text/plain": [
       "HTML{String}(\"  <script class='js-collapse-script'>\\n    \\$('.js-collapse-script').parent('.output_subarea').css('padding', '0');\\n  </script>\\n\")"
      ]
     },
     "metadata": {},
     "output_type": "display_data"
    },
    {
     "name": "stderr",
     "output_type": "stream",
     "text": [
      "┌ Error: evaluation error\n",
      "│   mod = Bilevel\n",
      "│   ex = const usrfun = #= /home/blandry/.julia/dev/Bilevel/src/solvers/snopt.jl:154 =# @cfunction(objcon_wrapper, Cvoid, (Ptr{Clong}, Ref{Clong}, Ptr{Cdouble}, Ref{Clong}, Ref{Clong}, Ptr{Cdouble}, Ref{Clong}, Ref{Clong}, Ptr{Cdouble}, Ptr{Cchar}, Ref{Clong}, Ptr{Clong}, Ref{Clong}, Ptr{Cdouble}, Ref{Clong}))\n",
      "│   exception = (ErrorException(\"invalid lookup expr (\\$(QuoteNode(Core.svec)))(JuliaInterpreter.SSAValue(2), JuliaInterpreter.SSAValue(3), JuliaInterpreter.SSAValue(4), JuliaInterpreter.SSAValue(5), JuliaInterpreter.SSAValue(6), JuliaInterpreter.SSAValue(7), JuliaInterpreter.SSAValue(8), JuliaInterpreter.SSAValue(9), JuliaInterpreter.SSAValue(10), JuliaInterpreter.SSAValue(11), JuliaInterpreter.SSAValue(12), JuliaInterpreter.SSAValue(13), JuliaInterpreter.SSAValue(14), JuliaInterpreter.SSAValue(15), JuliaInterpreter.SSAValue(16))\"), Union{Ptr{Nothing}, InterpreterIP}[Ptr{Nothing} @0x00007f678e95d5eb, Ptr{Nothing} @0x00007f678e92e204, Ptr{Nothing} @0x00007f67682e7470, Ptr{Nothing} @0x00007f673003cb45, Ptr{Nothing} @0x00007f67300642ed, Ptr{Nothing} @0x00007f67300648d4, Ptr{Nothing} @0x00007f673003d193, Ptr{Nothing} @0x00007f673003e6ab, Ptr{Nothing} @0x00007f67300427db, Ptr{Nothing} @0x00007f673003b804, Ptr{Nothing} @0x00007f673003c544, Ptr{Nothing} @0x00007f678e9125d6, Ptr{Nothing} @0x00007f67682e33e5, Ptr{Nothing} @0x00007f678e9125d6, Ptr{Nothing} @0x00007f67682e1ce0, Ptr{Nothing} @0x00007f67682e1d34, Ptr{Nothing} @0x00007f67682e14b4, Ptr{Nothing} @0x00007f67682e1adf, Ptr{Nothing} @0x00007f678e9125d6, Ptr{Nothing} @0x00007f67682d7e84, Ptr{Nothing} @0x00007f67682d883c, Ptr{Nothing} @0x00007f67682da3de, Ptr{Nothing} @0x00007f67682d6d01, Ptr{Nothing} @0x00007f678e9125d6, Ptr{Nothing} @0x00007f678e92ea92, Ptr{Nothing} @0x0000000000000000])\n",
      "└ @ Revise /home/blandry/.julia/packages/Revise/5wsCa/src/lowered.jl:52\n"
     ]
    }
   ],
   "source": [
    "using Revise\n",
    "using Bilevel\n",
    "\n",
    "using RigidBodyDynamics\n",
    "using MeshCatMechanisms\n",
    "using MeshCat\n",
    "using Plots\n",
    "using LinearAlgebra\n",
    "using StaticArrays\n",
    "using BenchmarkTools\n",
    "using LaTeXStrings"
   ]
  },
  {
   "cell_type": "markdown",
   "metadata": {},
   "source": [
    "# Simulation of sliding box"
   ]
  },
  {
   "cell_type": "code",
   "execution_count": null,
   "metadata": {},
   "outputs": [],
   "source": [
    "urdf = joinpath(\"..\", \"..\", \"urdf\", \"ball2d.urdf\")\n",
    "mechanism = parse_urdf(Float64, urdf)\n",
    "\n",
    "floor = findbody(mechanism, \"floor\")\n",
    "point = Point3D(default_frame(floor), SVector([0.,0.,0.]...))\n",
    "normal = FreeVector3D(default_frame(floor), SVector([0.,0.,1.]...))\n",
    "floor_obs = Obstacle(floor, point, normal, :xyz, 1.)\n",
    "\n",
    "obstacles = [floor_obs]\n",
    "env = Environment(mechanism, urdf, obstacles);"
   ]
  },
  {
   "cell_type": "code",
   "execution_count": null,
   "metadata": {},
   "outputs": [],
   "source": [
    "mvis = MechanismVisualizer(mechanism, URDFVisuals(urdf))\n",
    "open(mvis)"
   ]
  },
  {
   "cell_type": "code",
   "execution_count": null,
   "metadata": {},
   "outputs": [],
   "source": [
    "N = 25\n",
    "Δt = 0.05\n",
    "# q0 = [0., 0., 0.]\n",
    "q0 = [0., 0.2, 0.]\n",
    "v0 = [10., 0., 0.];"
   ]
  },
  {
   "cell_type": "code",
   "execution_count": null,
   "metadata": {},
   "outputs": [],
   "source": [
    "# Indirect\n",
    "\n",
    "sim_data = get_sim_data_indirect(mechanism,env,Δt,relax_comp=true)\n",
    "null_ctrl! = (u,t,x) -> u[:] .= 0.\n",
    "x0 = MechanismState(mechanism)\n",
    "set_configuration!(x0, q0)\n",
    "set_velocity!(x0, v0)\n",
    "setdirty!(x0)\n",
    "sim_indirect = Bilevel.simulate(sim_data,null_ctrl!,x0,N)"
   ]
  },
  {
   "cell_type": "code",
   "execution_count": null,
   "metadata": {},
   "outputs": [],
   "source": [
    "@benchmark sim_indirect = Bilevel.simulate(sim_data,null_ctrl!,x0,N)"
   ]
  },
  {
   "cell_type": "code",
   "execution_count": null,
   "metadata": {},
   "outputs": [],
   "source": [
    "setanimation!(mvis, sim_indirect[6], sim_indirect[1])"
   ]
  },
  {
   "cell_type": "code",
   "execution_count": null,
   "metadata": {},
   "outputs": [],
   "source": [
    "# Direct\n",
    "\n",
    "sim_data = get_sim_data_direct(mechanism,env,Δt)\n",
    "null_ctrl! = (u,t,x) -> u[:] .= 0.\n",
    "x0 = MechanismState(mechanism)\n",
    "set_configuration!(x0, q0)\n",
    "set_velocity!(x0, v0)\n",
    "setdirty!(x0)\n",
    "sim_direct = Bilevel.simulate(sim_data,null_ctrl!,x0,N)"
   ]
  },
  {
   "cell_type": "code",
   "execution_count": null,
   "metadata": {},
   "outputs": [],
   "source": [
    "@benchmark sim_direct = Bilevel.simulate(sim_data,null_ctrl!,x0,N)"
   ]
  },
  {
   "cell_type": "code",
   "execution_count": null,
   "metadata": {},
   "outputs": [],
   "source": [
    "setanimation!(mvis, sim_direct[6], sim_direct[1])"
   ]
  },
  {
   "cell_type": "code",
   "execution_count": null,
   "metadata": {},
   "outputs": [],
   "source": [
    "j = 2\n",
    "plot(sim_indirect[6],sim_indirect[8][j,:],label=\"Indirect\",seriescolor=RGB(((227,74,51) ./ 255.)...),linewidth=0,marker=6)\n",
    "plot!(sim_direct[6],sim_direct[8][j,:],label=\"Direct\",seriescolor=RGB(((254,232,200) ./ 255.)...),linewidth=1,marker=4)"
   ]
  },
  {
   "cell_type": "code",
   "execution_count": null,
   "metadata": {},
   "outputs": [],
   "source": [
    "sim_indirect[1][end]"
   ]
  },
  {
   "cell_type": "markdown",
   "metadata": {},
   "source": [
    "# Trajectory optimization of sliding box"
   ]
  },
  {
   "cell_type": "code",
   "execution_count": 2,
   "metadata": {},
   "outputs": [],
   "source": [
    "urdf = joinpath(\"..\", \"..\", \"urdf\", \"ball2d.urdf\")\n",
    "mechanism = parse_urdf(Float64, urdf)\n",
    "\n",
    "floor = findbody(mechanism, \"floor\")\n",
    "point = Point3D(default_frame(floor), SVector([0.,0.,0.]...))\n",
    "normal = FreeVector3D(default_frame(floor), SVector([0.,0.,1.]...))\n",
    "floor_obs = Obstacle(floor, point, normal, :xyz, 1.)\n",
    "\n",
    "obstacles = [floor_obs]\n",
    "env = Environment(mechanism, urdf, obstacles);"
   ]
  },
  {
   "cell_type": "code",
   "execution_count": null,
   "metadata": {},
   "outputs": [],
   "source": [
    "mvis = MechanismVisualizer(mechanism, URDFVisuals(urdf))\n",
    "open(mvis)"
   ]
  },
  {
   "cell_type": "code",
   "execution_count": 12,
   "metadata": {},
   "outputs": [
    {
     "data": {
      "text/plain": [
       "get_prob_init (generic function with 1 method)"
      ]
     },
     "execution_count": 12,
     "metadata": {},
     "output_type": "execute_result"
    }
   ],
   "source": [
    "# q1 = [0., 0., 0.]\n",
    "# qN = [4.85, 0., 0.]\n",
    "q1 = [0., 0.2, 0.]\n",
    "qN = [5.05, 0., 0.]\n",
    "\n",
    "# N = 25\n",
    "N = 20\n",
    "Δt = 0.05\n",
    "\n",
    "q_min = [-10., -10., -10.]\n",
    "q_max = [10., 10., 10.]\n",
    "\n",
    "function get_prob_limits(sim_data)\n",
    "    x_min = -1e19*ones(sim_data.vs.num_vars)\n",
    "    x_max = 1e19*ones(sim_data.vs.num_vars)\n",
    "    \n",
    "    # joint limits\n",
    "    add_box_con_snopt!(x_min, x_max, sim_data, :q, q_min, q_max, 1:N)\n",
    "    add_box_con_snopt!(x_min, x_max, sim_data, :h, [Δt], [Δt], 1:N-1)\n",
    "    \n",
    "    # torques limits\n",
    "    add_box_con_snopt!(x_min, x_max, sim_data, :u, zeros(num_velocities(mechanism)), zeros(num_velocities(mechanism)), 1:N-1)\n",
    "\n",
    "    x_min, x_max\n",
    "end\n",
    "\n",
    "function add_prob_constraints!(sim_data)\n",
    "    vs = sim_data.vs\n",
    "\n",
    "    add_eq!(sim_data, :cq1, length(q1), x -> vs(x, :q1) - q1)\n",
    "    add_eq!(sim_data, :cv1, 1, x -> vs(x, :v1)[2])\n",
    "    add_eq!(sim_data, :cqN, 2, x -> vs(x, Symbol(\"q\", N))[1:2] - qN[1:2])\n",
    "    add_eq!(sim_data, :cvN, 1, x -> vs(x, Symbol(\"v\", N))[1])\n",
    "end\n",
    "\n",
    "function get_prob_init(sim_data)\n",
    "    x0 = zeros(sim_data.vs.num_vars)\n",
    "    for n = 1:N\n",
    "        x0[sim_data.vs(Symbol(\"q\", n))] .= n/N*(qN - q1) + q1\n",
    "    end\n",
    "    \n",
    "    x0\n",
    "end"
   ]
  },
  {
   "cell_type": "code",
   "execution_count": 13,
   "metadata": {},
   "outputs": [
    {
     "name": "stdout",
     "output_type": "stream",
     "text": [
      "Finished successfully: optimality conditions satisfied\n",
      " 29.480044 seconds (84.78 M allocations: 8.507 GiB, 16.68% gc time)\n"
     ]
    },
    {
     "data": {
      "text/plain": [
       "(Array{Float64,1}[[0.0, 0.2, 0.0], [0.534192, 0.175542, -0.0826732], [1.06858, 0.126708, -0.165346], [1.60315, 0.0535822, -0.24802], [2.08627, 2.18535e-17, -0.330693], [2.47786, 0.0, -0.413366], [2.84126, 3.33163e-5, -0.496039], [3.17674, -4.15644e-5, -0.578712], [3.48414, 0.0, -0.661386], [3.76353, 0.00016858, -0.744059], [4.01557, 0.0, -0.826732], [4.23977, 9.80838e-19, -0.909405], [4.43642, 8.60533e-19, -0.992078], [4.60563, -2.18029e-6, -1.07475], [4.74741, 6.19721e-5, -1.15742], [4.86206, 2.49845e-5, -1.2401], [4.94959, -3.79118e-5, -1.32277], [5.00995, -1.58954e-18, -1.40544], [5.04341, 0.0, -1.48812], [5.05, 0.0, -1.57079]], Array{Float64,1}[[10.6799, 0.0, -1.65346], [10.6877, 0.394765, -1.65346], [10.7027, 0.795781, -1.65346], [10.7233, 1.20682, -1.65346], [9.48674, 2.12376, -1.65346], [7.17226, 3.14603, -1.65346], [6.39176, 3.45979, -1.65346], [5.61787, 3.66853, -1.65346], [4.85102, 3.77673, -1.65346], [4.10887, 3.78704, -1.65346], [3.41659, 3.70641, -1.65346], [2.75412, 3.53847, -1.65346], [2.15117, 3.29259, -1.65346], [1.61072, 2.97623, -1.65346], [1.13789, 2.59729, -1.65346], [0.745251, 2.16853, -1.65346], [0.43098, 1.69675, -1.65346], [0.197957, 1.19086, -1.65346], [0.0552501, 0.666736, -1.65346], [0.0, 0.131896, -1.65346]], Array{Float64,1}[[0.0, 0.0, 0.0], [0.0, 0.0, 0.0], [0.0, 0.0, 0.0], [0.0, 0.0, 0.0], [0.0, 0.0, 0.0], [0.0, 0.0, 0.0], [0.0, 0.0, 0.0], [0.0, 0.0, 0.0], [0.0, 0.0, 0.0], [0.0, 0.0, 0.0], [0.0, 0.0, 0.0], [0.0, 0.0, 0.0], [0.0, 0.0, 0.0], [0.0, 0.0, 0.0], [0.0, 0.0, 0.0], [0.0, 0.0, 0.0], [0.0, 0.0, 0.0], [0.0, 0.0, 0.0], [0.0, 0.0, 0.0]], [0.05, 0.05, 0.05, 0.05, 0.05, 0.05, 0.05, 0.05, 0.05, 0.05, 0.05, 0.05, 0.05, 0.05, 0.05, 0.05, 0.05, 0.05, 0.05], Array{Float64,1}[[-5.87703e-15, -2.1391e-16, 1.21578e-14, 5.87703e-15, 1.21578e-14, 10.6838], [1.2102e-19, -5.06235e-21, -1.01445e-20, 2.86006e-20, -1.01445e-20, 10.6877], [2.46442e-18, -1.36082e-18, -9.63923e-19, 3.70197e-18, -9.6391e-19, 10.6915], [1.95812, -2.95268e-18, 6.5841e-15, 1.95812, 6.5841e-15, 9.66231], [3.48399, 0.0, 0.0, 3.48399, 0.0, 7.83191], [1.09489, -1.56256e-16, -3.17922e-16, 1.09489, -3.17921e-16, 7.26806], [1.08833, 4.13623e-17, -2.60567e-18, 1.08833, -2.60567e-18, 6.70959], [1.09813, -1.11673e-17, 7.54687e-19, 1.09813, 7.54687e-19, 6.14785], [1.09839, -7.11845e-15, -1.42369e-14, 1.09839, -1.42369e-14, 5.58788], [1.0774, 0.0, 0.0, 1.0774, 0.0, 5.04089], [1.09975, 0.0, -5.55112e-17, 1.09975, -2.22045e-16, 4.48397], [1.092, 0.0, 0.0, 1.092, 0.0, 3.93303], [1.09167, 0.0, 1.77267e-17, 1.09167, -1.20178e-18, 3.38413], [1.09451, -6.61744e-24, 0.0, 1.09451, 0.0, 2.83561], [1.08679, 0.0, 0.0, 1.08679, 0.0, 2.29302], [1.08992, 0.0, 0.0, 1.08992, -8.47033e-22, 1.75062], [1.09536, 0.0, 0.0, 1.09536, 0.0, 1.20721], [1.08894, 0.0, 0.0, 1.08894, 0.0, 0.669021], [1.0904, 1.5767e-6, 1.83992e-6, 1.0904, 1.83992e-6, 0.131896]], Array{Float64,1}[[0.0, 0.0, 0.0], [0.0, 8.66488e-20, 0.0], [0.0, -5.1269e-17, 0.0], [0.0, -6.68526e-14, 0.0], [0.0, 0.0, 0.0], [0.0, -9.26991e-13, 0.0], [0.0, 4.78784e-16, 0.0], [0.0, -1.17961e-16, 0.0], [0.0, -6.71178e-11, -2.41283e-15], [0.0, -4.44089e-16, 0.0], [0.0, 0.0, 0.0], [0.0, 3.15034e-15, 0.0], [0.0, 5.82072e-12, 0.0], [0.0, 0.0, 0.0], [0.0, -2.67234e-11, 0.0], [0.0, 0.0, 0.0], [0.0, 0.0, 0.0], [0.0, 1.60722e-12, 0.0], [0.0, 1.5134e-6, 0.0]], [0.0, 0.05, 0.1, 0.15, 0.2, 0.25, 0.3, 0.35, 0.4, 0.45, 0.5, 0.55, 0.6, 0.65, 0.7, 0.75, 0.8, 0.85, 0.9, 0.95], [0.0 0.534192 … 5.04341 5.05; 0.2 0.175542 … 0.0 0.0; … ; 0.0 0.394765 … 0.666736 0.131896; -1.65346 -1.65346 … -1.65346 -1.65346], [0.0, 0.2, 0.0, 10.6799, 0.0, -1.65346, 0.0, 0.0, 0.0, 0.05  …  1.0904, 1.83992e-6, 0.131896, 1.0904, 5.05, 0.0, -1.57079, 0.0, 0.131896, -1.65346])"
      ]
     },
     "execution_count": 13,
     "metadata": {},
     "output_type": "execute_result"
    }
   ],
   "source": [
    "# Indirect\n",
    "con_tol = 1e-3\n",
    "obj_tol = 1e-3\n",
    "max_iter = 10000\n",
    "\n",
    "sim_data = get_trajopt_data_indirect(mechanism,env,Δt,N,relax_comp=true)\n",
    "add_prob_constraints!(sim_data)\n",
    "x_min, x_max = get_prob_limits(sim_data)\n",
    "x0 = get_prob_init(sim_data)\n",
    "\n",
    "@time traj_indirect = Bilevel.trajopt(sim_data, x0=x0, x_min=x_min, x_max=x_max, verbose=1, opt_tol=obj_tol, major_feas=con_tol, minor_feas=con_tol, max_iter=max_iter)"
   ]
  },
  {
   "cell_type": "code",
   "execution_count": 14,
   "metadata": {},
   "outputs": [
    {
     "data": {
      "text/plain": [
       "BenchmarkTools.Trial: \n",
       "  memory estimate:  279.77 MiB\n",
       "  allocs estimate:  1619012\n",
       "  --------------\n",
       "  minimum time:     218.541 ms (0.00% GC)\n",
       "  median time:      221.410 ms (0.00% GC)\n",
       "  mean time:        221.646 ms (0.00% GC)\n",
       "  maximum time:     228.565 ms (0.00% GC)\n",
       "  --------------\n",
       "  samples:          23\n",
       "  evals/sample:     1"
      ]
     },
     "execution_count": 14,
     "metadata": {},
     "output_type": "execute_result"
    }
   ],
   "source": [
    "function run_trajopt()\n",
    "    Bilevel.solve_rosenbrock() # clearing SNOPT\n",
    "    Bilevel.trajopt(sim_data, x0=x0, x_min=x_min, x_max=x_max, verbose=0, opt_tol=obj_tol, major_feas=con_tol, minor_feas=con_tol, max_iter=max_iter)\n",
    "end\n",
    "\n",
    "@benchmark run_trajopt()"
   ]
  },
  {
   "cell_type": "code",
   "execution_count": 16,
   "metadata": {},
   "outputs": [
    {
     "name": "stdout",
     "output_type": "stream",
     "text": [
      "Finished successfully: optimality conditions satisfied\n",
      "  0.928346 seconds (8.75 M allocations: 1.166 GiB)\n"
     ]
    },
    {
     "data": {
      "text/plain": [
       "(Array{Float64,1}[[0.0, 0.2, 0.0], [0.491193, 0.175734, 0.0826735], [0.978705, 0.127284, 0.165347], [1.46255, 0.0547317, 0.24802], [1.9073, 1.04012e-13, 0.330694], [2.28175, 0.0, 0.413367], [2.63232, 0.0, 0.496041], [2.95907, 0.0, 0.578714], [3.26203, 0.0, 0.661388], [3.54122, 0.0, 0.744061], [3.79685, -6.61744e-24, 0.826735], [4.029, 1.75984e-19, 0.909408], [4.23775, 0.0, 0.992082], [4.42316, 0.0, 1.07476], [4.58533, -3.58116e-19, 1.15743], [4.72432, -8.49453e-14, 1.2401], [4.8402, 9.96696e-17, 1.32278], [4.93306, 2.96294e-13, 1.40545], [5.00297, 0.0, 1.48812], [5.05, 0.0, 1.5708]], Array{Float64,1}[[9.89782, 0.0, 1.65347], [9.75023, -1.29491, 1.65347], [9.45777, -2.56062, 1.65347], [9.02465, -3.7822, 1.65347], [8.05762, -3.92353, 1.65347], [6.85823, -3.0083, 1.65347], [6.16632, -3.33705, 1.65347], [5.47082, -3.57426, 1.65347], [4.78161, -3.72167, 1.65347], [4.10811, -3.78178, 1.65347], [3.46268, -3.76147, 1.65347], [2.85179, -3.66398, 1.65347], [2.28346, -3.49509, 1.65347], [1.76497, -3.26137, 1.65347], [1.3028, -2.97009, 1.65347], [0.902604, -2.6292, 1.65347], [0.568978, -2.24684, 1.65347], [0.305686, -1.83188, 1.65347], [0.115458, -1.39337, 1.65347], [0.0, -0.940569, 1.65347]], Array{Float64,1}[[0.0, 0.0, 0.0], [0.0, 0.0, 0.0], [0.0, 0.0, 0.0], [0.0, 0.0, 0.0], [0.0, 0.0, 0.0], [0.0, 0.0, 0.0], [0.0, 0.0, 0.0], [0.0, 0.0, 0.0], [0.0, 0.0, 0.0], [0.0, 0.0, 0.0], [0.0, 0.0, 0.0], [0.0, 0.0, 0.0], [0.0, 0.0, 0.0], [0.0, 0.0, 0.0], [0.0, 0.0, 0.0], [0.0, 0.0, 0.0], [0.0, 0.0, 0.0], [0.0, 0.0, 0.0], [0.0, 0.0, 0.0]], [0.05, 0.05, 0.05, 0.05, 0.05, 0.05, 0.05, 0.05, 0.05, 0.05, 0.05, 0.05, 0.05, 0.05, 0.05, 0.05, 0.05, 0.05, 0.05], Array{Float64,1}[[6.10272e-15], [4.737e-16], [-7.87813e-15], [1.58659], [2.98877], [0.920934], [0.921039], [0.921082], [0.921019], [0.92166], [0.921827], [0.921994], [0.92216], [0.922326], [0.922509], [0.922655], [0.922818], [0.922981], [0.923145]], Array{Float64,1}[], [0.0, 0.05, 0.1, 0.15, 0.2, 0.25, 0.3, 0.35, 0.4, 0.45, 0.5, 0.55, 0.6, 0.65, 0.7, 0.75, 0.8, 0.85, 0.9, 0.95], [0.0 0.491193 … 5.00297 5.05; 0.2 0.175734 … 0.0 0.0; … ; 0.0 -1.29491 … -1.39337 -0.940569; 1.65347 1.65347 … 1.65347 1.65347], [0.0, 0.2, 0.0, 9.89782, 0.0, 1.65347, 0.0, 0.0, 0.0, 0.05  …  0.0, 0.0, 0.05, 0.923145, 5.05, 0.0, 1.5708, 0.0, -0.940569, 1.65347])"
      ]
     },
     "execution_count": 16,
     "metadata": {},
     "output_type": "execute_result"
    }
   ],
   "source": [
    "# Semidirect\n",
    "con_tol = 1e-3\n",
    "obj_tol = 1e-3\n",
    "max_iter = 10000\n",
    "\n",
    "sim_data = get_trajopt_data_semidirect(mechanism,env,Δt,N,relax_comp=false)\n",
    "add_prob_constraints!(sim_data)\n",
    "x_min, x_max = get_prob_limits(sim_data)\n",
    "x0 = get_prob_init(sim_data)\n",
    "@time traj_semidirect = Bilevel.trajopt(sim_data, x0=x0, x_min=x_min, x_max=x_max, verbose=1, opt_tol=obj_tol, major_feas=con_tol, minor_feas=con_tol, max_iter=max_iter)"
   ]
  },
  {
   "cell_type": "code",
   "execution_count": 17,
   "metadata": {},
   "outputs": [
    {
     "data": {
      "text/plain": [
       "BenchmarkTools.Trial: \n",
       "  memory estimate:  93.90 MiB\n",
       "  allocs estimate:  508335\n",
       "  --------------\n",
       "  minimum time:     56.478 ms (0.00% GC)\n",
       "  median time:      92.758 ms (0.00% GC)\n",
       "  mean time:        105.333 ms (0.00% GC)\n",
       "  maximum time:     349.140 ms (0.00% GC)\n",
       "  --------------\n",
       "  samples:          48\n",
       "  evals/sample:     1"
      ]
     },
     "execution_count": 17,
     "metadata": {},
     "output_type": "execute_result"
    }
   ],
   "source": [
    "function run_trajopt()\n",
    "    Bilevel.solve_rosenbrock() # clearing SNOPT\n",
    "    Bilevel.trajopt(sim_data, x0=x0, x_min=x_min, x_max=x_max, verbose=0, opt_tol=obj_tol, major_feas=con_tol, minor_feas=con_tol, max_iter=max_iter)\n",
    "end\n",
    "\n",
    "@benchmark run_trajopt()"
   ]
  },
  {
   "cell_type": "code",
   "execution_count": 18,
   "metadata": {},
   "outputs": [
    {
     "data": {
      "image/svg+xml": [
       "<?xml version=\"1.0\" encoding=\"utf-8\"?>\n",
       "<svg xmlns=\"http://www.w3.org/2000/svg\" xmlns:xlink=\"http://www.w3.org/1999/xlink\" width=\"600\" height=\"400\" viewBox=\"0 0 2400 1600\">\n",
       "<defs>\n",
       "  <clipPath id=\"clip3800\">\n",
       "    <rect x=\"0\" y=\"0\" width=\"2400\" height=\"1600\"/>\n",
       "  </clipPath>\n",
       "</defs>\n",
       "<polygon clip-path=\"url(#clip3800)\" points=\"\n",
       "0,1600 2400,1600 2400,0 0,0 \n",
       "  \" fill=\"#ffffff\" fill-rule=\"evenodd\" fill-opacity=\"1\"/>\n",
       "<defs>\n",
       "  <clipPath id=\"clip3801\">\n",
       "    <rect x=\"480\" y=\"0\" width=\"1681\" height=\"1600\"/>\n",
       "  </clipPath>\n",
       "</defs>\n",
       "<polygon clip-path=\"url(#clip3800)\" points=\"\n",
       "149.502,1443.73 2352.76,1443.73 2352.76,47.2441 149.502,47.2441 \n",
       "  \" fill=\"#ffffff\" fill-rule=\"evenodd\" fill-opacity=\"1\"/>\n",
       "<defs>\n",
       "  <clipPath id=\"clip3802\">\n",
       "    <rect x=\"149\" y=\"47\" width=\"2204\" height=\"1397\"/>\n",
       "  </clipPath>\n",
       "</defs>\n",
       "<polyline clip-path=\"url(#clip3802)\" style=\"stroke:#000000; stroke-width:2; stroke-opacity:0.1; fill:none\" points=\"\n",
       "  211.859,1443.73 211.859,47.2441 \n",
       "  \"/>\n",
       "<polyline clip-path=\"url(#clip3802)\" style=\"stroke:#000000; stroke-width:2; stroke-opacity:0.1; fill:none\" points=\"\n",
       "  649.446,1443.73 649.446,47.2441 \n",
       "  \"/>\n",
       "<polyline clip-path=\"url(#clip3802)\" style=\"stroke:#000000; stroke-width:2; stroke-opacity:0.1; fill:none\" points=\"\n",
       "  1087.03,1443.73 1087.03,47.2441 \n",
       "  \"/>\n",
       "<polyline clip-path=\"url(#clip3802)\" style=\"stroke:#000000; stroke-width:2; stroke-opacity:0.1; fill:none\" points=\"\n",
       "  1524.62,1443.73 1524.62,47.2441 \n",
       "  \"/>\n",
       "<polyline clip-path=\"url(#clip3802)\" style=\"stroke:#000000; stroke-width:2; stroke-opacity:0.1; fill:none\" points=\"\n",
       "  1962.21,1443.73 1962.21,47.2441 \n",
       "  \"/>\n",
       "<polyline clip-path=\"url(#clip3802)\" style=\"stroke:#000000; stroke-width:2; stroke-opacity:0.1; fill:none\" points=\"\n",
       "  149.502,1404.2 2352.76,1404.2 \n",
       "  \"/>\n",
       "<polyline clip-path=\"url(#clip3802)\" style=\"stroke:#000000; stroke-width:2; stroke-opacity:0.1; fill:none\" points=\"\n",
       "  149.502,1143.33 2352.76,1143.33 \n",
       "  \"/>\n",
       "<polyline clip-path=\"url(#clip3802)\" style=\"stroke:#000000; stroke-width:2; stroke-opacity:0.1; fill:none\" points=\"\n",
       "  149.502,882.447 2352.76,882.447 \n",
       "  \"/>\n",
       "<polyline clip-path=\"url(#clip3802)\" style=\"stroke:#000000; stroke-width:2; stroke-opacity:0.1; fill:none\" points=\"\n",
       "  149.502,621.568 2352.76,621.568 \n",
       "  \"/>\n",
       "<polyline clip-path=\"url(#clip3802)\" style=\"stroke:#000000; stroke-width:2; stroke-opacity:0.1; fill:none\" points=\"\n",
       "  149.502,360.69 2352.76,360.69 \n",
       "  \"/>\n",
       "<polyline clip-path=\"url(#clip3802)\" style=\"stroke:#000000; stroke-width:2; stroke-opacity:0.1; fill:none\" points=\"\n",
       "  149.502,99.8111 2352.76,99.8111 \n",
       "  \"/>\n",
       "<polyline clip-path=\"url(#clip3800)\" style=\"stroke:#000000; stroke-width:4; stroke-opacity:1; fill:none\" points=\"\n",
       "  149.502,1443.73 2352.76,1443.73 \n",
       "  \"/>\n",
       "<polyline clip-path=\"url(#clip3800)\" style=\"stroke:#000000; stroke-width:4; stroke-opacity:1; fill:none\" points=\"\n",
       "  149.502,1443.73 149.502,47.2441 \n",
       "  \"/>\n",
       "<polyline clip-path=\"url(#clip3800)\" style=\"stroke:#000000; stroke-width:4; stroke-opacity:1; fill:none\" points=\"\n",
       "  211.859,1443.73 211.859,1422.78 \n",
       "  \"/>\n",
       "<polyline clip-path=\"url(#clip3800)\" style=\"stroke:#000000; stroke-width:4; stroke-opacity:1; fill:none\" points=\"\n",
       "  649.446,1443.73 649.446,1422.78 \n",
       "  \"/>\n",
       "<polyline clip-path=\"url(#clip3800)\" style=\"stroke:#000000; stroke-width:4; stroke-opacity:1; fill:none\" points=\"\n",
       "  1087.03,1443.73 1087.03,1422.78 \n",
       "  \"/>\n",
       "<polyline clip-path=\"url(#clip3800)\" style=\"stroke:#000000; stroke-width:4; stroke-opacity:1; fill:none\" points=\"\n",
       "  1524.62,1443.73 1524.62,1422.78 \n",
       "  \"/>\n",
       "<polyline clip-path=\"url(#clip3800)\" style=\"stroke:#000000; stroke-width:4; stroke-opacity:1; fill:none\" points=\"\n",
       "  1962.21,1443.73 1962.21,1422.78 \n",
       "  \"/>\n",
       "<polyline clip-path=\"url(#clip3800)\" style=\"stroke:#000000; stroke-width:4; stroke-opacity:1; fill:none\" points=\"\n",
       "  149.502,1404.2 182.551,1404.2 \n",
       "  \"/>\n",
       "<polyline clip-path=\"url(#clip3800)\" style=\"stroke:#000000; stroke-width:4; stroke-opacity:1; fill:none\" points=\"\n",
       "  149.502,1143.33 182.551,1143.33 \n",
       "  \"/>\n",
       "<polyline clip-path=\"url(#clip3800)\" style=\"stroke:#000000; stroke-width:4; stroke-opacity:1; fill:none\" points=\"\n",
       "  149.502,882.447 182.551,882.447 \n",
       "  \"/>\n",
       "<polyline clip-path=\"url(#clip3800)\" style=\"stroke:#000000; stroke-width:4; stroke-opacity:1; fill:none\" points=\"\n",
       "  149.502,621.568 182.551,621.568 \n",
       "  \"/>\n",
       "<polyline clip-path=\"url(#clip3800)\" style=\"stroke:#000000; stroke-width:4; stroke-opacity:1; fill:none\" points=\"\n",
       "  149.502,360.69 182.551,360.69 \n",
       "  \"/>\n",
       "<polyline clip-path=\"url(#clip3800)\" style=\"stroke:#000000; stroke-width:4; stroke-opacity:1; fill:none\" points=\"\n",
       "  149.502,99.8111 182.551,99.8111 \n",
       "  \"/>\n",
       "<g clip-path=\"url(#clip3800)\">\n",
       "<text style=\"fill:#000000; fill-opacity:1; font-family:Arial,Helvetica Neue,Helvetica,sans-serif; font-size:48px; text-anchor:middle;\" transform=\"rotate(0, 211.859, 1497.73)\" x=\"211.859\" y=\"1497.73\">0.0</text>\n",
       "</g>\n",
       "<g clip-path=\"url(#clip3800)\">\n",
       "<text style=\"fill:#000000; fill-opacity:1; font-family:Arial,Helvetica Neue,Helvetica,sans-serif; font-size:48px; text-anchor:middle;\" transform=\"rotate(0, 649.446, 1497.73)\" x=\"649.446\" y=\"1497.73\">0.2</text>\n",
       "</g>\n",
       "<g clip-path=\"url(#clip3800)\">\n",
       "<text style=\"fill:#000000; fill-opacity:1; font-family:Arial,Helvetica Neue,Helvetica,sans-serif; font-size:48px; text-anchor:middle;\" transform=\"rotate(0, 1087.03, 1497.73)\" x=\"1087.03\" y=\"1497.73\">0.4</text>\n",
       "</g>\n",
       "<g clip-path=\"url(#clip3800)\">\n",
       "<text style=\"fill:#000000; fill-opacity:1; font-family:Arial,Helvetica Neue,Helvetica,sans-serif; font-size:48px; text-anchor:middle;\" transform=\"rotate(0, 1524.62, 1497.73)\" x=\"1524.62\" y=\"1497.73\">0.6</text>\n",
       "</g>\n",
       "<g clip-path=\"url(#clip3800)\">\n",
       "<text style=\"fill:#000000; fill-opacity:1; font-family:Arial,Helvetica Neue,Helvetica,sans-serif; font-size:48px; text-anchor:middle;\" transform=\"rotate(0, 1962.21, 1497.73)\" x=\"1962.21\" y=\"1497.73\">0.8</text>\n",
       "</g>\n",
       "<g clip-path=\"url(#clip3800)\">\n",
       "<text style=\"fill:#000000; fill-opacity:1; font-family:Arial,Helvetica Neue,Helvetica,sans-serif; font-size:48px; text-anchor:end;\" transform=\"rotate(0, 125.502, 1421.7)\" x=\"125.502\" y=\"1421.7\">0</text>\n",
       "</g>\n",
       "<g clip-path=\"url(#clip3800)\">\n",
       "<text style=\"fill:#000000; fill-opacity:1; font-family:Arial,Helvetica Neue,Helvetica,sans-serif; font-size:48px; text-anchor:end;\" transform=\"rotate(0, 125.502, 1160.83)\" x=\"125.502\" y=\"1160.83\">1</text>\n",
       "</g>\n",
       "<g clip-path=\"url(#clip3800)\">\n",
       "<text style=\"fill:#000000; fill-opacity:1; font-family:Arial,Helvetica Neue,Helvetica,sans-serif; font-size:48px; text-anchor:end;\" transform=\"rotate(0, 125.502, 899.947)\" x=\"125.502\" y=\"899.947\">2</text>\n",
       "</g>\n",
       "<g clip-path=\"url(#clip3800)\">\n",
       "<text style=\"fill:#000000; fill-opacity:1; font-family:Arial,Helvetica Neue,Helvetica,sans-serif; font-size:48px; text-anchor:end;\" transform=\"rotate(0, 125.502, 639.068)\" x=\"125.502\" y=\"639.068\">3</text>\n",
       "</g>\n",
       "<g clip-path=\"url(#clip3800)\">\n",
       "<text style=\"fill:#000000; fill-opacity:1; font-family:Arial,Helvetica Neue,Helvetica,sans-serif; font-size:48px; text-anchor:end;\" transform=\"rotate(0, 125.502, 378.19)\" x=\"125.502\" y=\"378.19\">4</text>\n",
       "</g>\n",
       "<g clip-path=\"url(#clip3800)\">\n",
       "<text style=\"fill:#000000; fill-opacity:1; font-family:Arial,Helvetica Neue,Helvetica,sans-serif; font-size:48px; text-anchor:end;\" transform=\"rotate(0, 125.502, 117.311)\" x=\"125.502\" y=\"117.311\">5</text>\n",
       "</g>\n",
       "<g clip-path=\"url(#clip3800)\">\n",
       "<image width=\"21\" height=\"42\" xlink:href=\"data:image/png;base64,\n",
       "iVBORw0KGgoAAAANSUhEUgAAABUAAAAqCAYAAABcOxDuAAABl0lEQVRIia3W4c3CIBAG4FcnII7g\n",
       "CDdD3YAZOgJxBEZghsYJiCN0BOwIxA3u+4X5sNAeVBJ+0F7fwJMzcmJmtIzX68WPxwNEhNvtdioW\n",
       "MbN4eu8ZwGdO08SlunPLLu/3e7ZelqVcKN1ljDHbJQD23hd3Kg6dpmkVWqsVH//5fGZrIqrWdocO\n",
       "w1Av/rWn2LTFU2za4gkITZs8gf3jt3qKTFs9mRnw3rNSavVh7/Te83lZFrzfbwmtaFwul+3jhxCa\n",
       "PXdNezx3+7S1P9NoCt3tzzR+2Z+7pr2em6a9nsCGabcnUD7+Ec+q6RHPqukRT6BiesgTWB//qGfR\n",
       "9Khn0fSoJ1Awnec5Wzd7AviJZ4yRtdY8zzOvTL+vigA4xrgbaoxhABxCWIdaa7NAIhLt8rs2M+3x\n",
       "THdWa23Z9Hq9im7Kaab/MK11VrcZmuBrU2udWRZDU5EkNPk751Y12cI5J2qnVDeOY/H96gERfUKN\n",
       "MdlHqR+3AouhIQT+HzyOIxtj+D+NtXbTuvrCOcfDMLBSipVSTERsjBH9GP4A/KauBMnGQOkAAAAA\n",
       "SUVORK5CYII=\n",
       "\" transform=\"translate(1241, 1520)\"/>\n",
       "</g>\n",
       "<g clip-path=\"url(#clip3800)\">\n",
       "<image width=\"30\" height=\"34\" xlink:href=\"data:image/png;base64,\n",
       "iVBORw0KGgoAAAANSUhEUgAAAB4AAAAiCAYAAABIiGl0AAACNklEQVRYhb1X263qMBAcpFuAacF0\n",
       "4BpMB67BJaQGl2BRQkoIlGBRQZQSHDqY+8FZnwRCCI8cS/OzwR6v9zHLhiRk9X3PnDN2u90Gay+S\n",
       "yDnTWksABd57ksRaAEkYY0ak75LnnBf/Hk3TTJIKXiEWB6y1bJpmdi+ccwTAGOMkcdu2i8lTSpTz\n",
       "5AKP9kNrTeccSWK4CQC11m/HOYRApRQBsKqqu3MAgCGE8qGuazrn6L1/ydtH8N4TQHGuECulVs/g\n",
       "uq7vyGGtpTFmVeIhubxuyeq6rlcnl16Rc74aJKlSSquSt21bvC5GqcGqqvhKI3jHa2vt2DgsJ+/9\n",
       "Ki9QVdW1zG4/hBBGtayUonOOMcavlFdVVdezh0apuTl8ehFjDI0xvwat9VPSRxex1jKE8DQ04q33\n",
       "nhuS2O/3PJ1OHwrs77LWQmsNrTWUUui6DofDAZfLBQDQti3+HY/HQmqtLZsAIKWE8/mMruvQdd1i\n",
       "4jknvPfXQWOoTs/ik1JiCOFuaFiKUcuUGL2ToUsvopQaCRH5o05TsvXNi0zKotZ6FXXKOTPGSKkW\n",
       "Y8yo/P5EnWS6UUqVdlyMz2akTyECIfkEklBK/YkmiwTHGK8GEelvJdkc7lqmtLO1ySdFQoxzY+lS\n",
       "pJQoiTt0pqjf7YbhfP3JpCmjrUByyDl3LbGpTTlnDiXSGPNS1ksG32KoTk+fy3vPd7J+roWmlNZL\n",
       "ottJZhg+8qeO10KMkcNYD1vz5udZVl1933O73Y7+7P8H/1BcKs3UkbcAAAAASUVORK5CYII=\n",
       "\" transform=\"translate(43, 728)\"/>\n",
       "</g>\n",
       "<polyline clip-path=\"url(#clip3802)\" style=\"stroke:#e34a33; stroke-width:24; stroke-opacity:1; fill:none\" points=\"\n",
       "  211.859,1404.2 321.256,1264.84 430.653,1125.43 540.049,985.976 649.446,859.942 758.843,757.783 868.24,662.979 977.637,575.46 1087.03,495.267 1196.43,422.379 \n",
       "  1305.83,356.626 1415.22,298.138 1524.62,246.836 1634.02,202.693 1743.42,165.706 1852.81,135.796 1962.21,112.961 2071.61,97.2143 2181,88.4876 2290.4,86.7672 \n",
       "  \n",
       "  \"/>\n",
       "<circle clip-path=\"url(#clip3802)\" style=\"fill:#000000; stroke:none; fill-opacity:1\" cx=\"211.859\" cy=\"1404.2\" r=\"25\"/>\n",
       "<circle clip-path=\"url(#clip3802)\" style=\"fill:#e34a33; stroke:none; fill-opacity:1\" cx=\"211.859\" cy=\"1404.2\" r=\"21\"/>\n",
       "<circle clip-path=\"url(#clip3802)\" style=\"fill:#000000; stroke:none; fill-opacity:1\" cx=\"321.256\" cy=\"1264.84\" r=\"25\"/>\n",
       "<circle clip-path=\"url(#clip3802)\" style=\"fill:#e34a33; stroke:none; fill-opacity:1\" cx=\"321.256\" cy=\"1264.84\" r=\"21\"/>\n",
       "<circle clip-path=\"url(#clip3802)\" style=\"fill:#000000; stroke:none; fill-opacity:1\" cx=\"430.653\" cy=\"1125.43\" r=\"25\"/>\n",
       "<circle clip-path=\"url(#clip3802)\" style=\"fill:#e34a33; stroke:none; fill-opacity:1\" cx=\"430.653\" cy=\"1125.43\" r=\"21\"/>\n",
       "<circle clip-path=\"url(#clip3802)\" style=\"fill:#000000; stroke:none; fill-opacity:1\" cx=\"540.049\" cy=\"985.976\" r=\"25\"/>\n",
       "<circle clip-path=\"url(#clip3802)\" style=\"fill:#e34a33; stroke:none; fill-opacity:1\" cx=\"540.049\" cy=\"985.976\" r=\"21\"/>\n",
       "<circle clip-path=\"url(#clip3802)\" style=\"fill:#000000; stroke:none; fill-opacity:1\" cx=\"649.446\" cy=\"859.942\" r=\"25\"/>\n",
       "<circle clip-path=\"url(#clip3802)\" style=\"fill:#e34a33; stroke:none; fill-opacity:1\" cx=\"649.446\" cy=\"859.942\" r=\"21\"/>\n",
       "<circle clip-path=\"url(#clip3802)\" style=\"fill:#000000; stroke:none; fill-opacity:1\" cx=\"758.843\" cy=\"757.783\" r=\"25\"/>\n",
       "<circle clip-path=\"url(#clip3802)\" style=\"fill:#e34a33; stroke:none; fill-opacity:1\" cx=\"758.843\" cy=\"757.783\" r=\"21\"/>\n",
       "<circle clip-path=\"url(#clip3802)\" style=\"fill:#000000; stroke:none; fill-opacity:1\" cx=\"868.24\" cy=\"662.979\" r=\"25\"/>\n",
       "<circle clip-path=\"url(#clip3802)\" style=\"fill:#e34a33; stroke:none; fill-opacity:1\" cx=\"868.24\" cy=\"662.979\" r=\"21\"/>\n",
       "<circle clip-path=\"url(#clip3802)\" style=\"fill:#000000; stroke:none; fill-opacity:1\" cx=\"977.637\" cy=\"575.46\" r=\"25\"/>\n",
       "<circle clip-path=\"url(#clip3802)\" style=\"fill:#e34a33; stroke:none; fill-opacity:1\" cx=\"977.637\" cy=\"575.46\" r=\"21\"/>\n",
       "<circle clip-path=\"url(#clip3802)\" style=\"fill:#000000; stroke:none; fill-opacity:1\" cx=\"1087.03\" cy=\"495.267\" r=\"25\"/>\n",
       "<circle clip-path=\"url(#clip3802)\" style=\"fill:#e34a33; stroke:none; fill-opacity:1\" cx=\"1087.03\" cy=\"495.267\" r=\"21\"/>\n",
       "<circle clip-path=\"url(#clip3802)\" style=\"fill:#000000; stroke:none; fill-opacity:1\" cx=\"1196.43\" cy=\"422.379\" r=\"25\"/>\n",
       "<circle clip-path=\"url(#clip3802)\" style=\"fill:#e34a33; stroke:none; fill-opacity:1\" cx=\"1196.43\" cy=\"422.379\" r=\"21\"/>\n",
       "<circle clip-path=\"url(#clip3802)\" style=\"fill:#000000; stroke:none; fill-opacity:1\" cx=\"1305.83\" cy=\"356.626\" r=\"25\"/>\n",
       "<circle clip-path=\"url(#clip3802)\" style=\"fill:#e34a33; stroke:none; fill-opacity:1\" cx=\"1305.83\" cy=\"356.626\" r=\"21\"/>\n",
       "<circle clip-path=\"url(#clip3802)\" style=\"fill:#000000; stroke:none; fill-opacity:1\" cx=\"1415.22\" cy=\"298.138\" r=\"25\"/>\n",
       "<circle clip-path=\"url(#clip3802)\" style=\"fill:#e34a33; stroke:none; fill-opacity:1\" cx=\"1415.22\" cy=\"298.138\" r=\"21\"/>\n",
       "<circle clip-path=\"url(#clip3802)\" style=\"fill:#000000; stroke:none; fill-opacity:1\" cx=\"1524.62\" cy=\"246.836\" r=\"25\"/>\n",
       "<circle clip-path=\"url(#clip3802)\" style=\"fill:#e34a33; stroke:none; fill-opacity:1\" cx=\"1524.62\" cy=\"246.836\" r=\"21\"/>\n",
       "<circle clip-path=\"url(#clip3802)\" style=\"fill:#000000; stroke:none; fill-opacity:1\" cx=\"1634.02\" cy=\"202.693\" r=\"25\"/>\n",
       "<circle clip-path=\"url(#clip3802)\" style=\"fill:#e34a33; stroke:none; fill-opacity:1\" cx=\"1634.02\" cy=\"202.693\" r=\"21\"/>\n",
       "<circle clip-path=\"url(#clip3802)\" style=\"fill:#000000; stroke:none; fill-opacity:1\" cx=\"1743.42\" cy=\"165.706\" r=\"25\"/>\n",
       "<circle clip-path=\"url(#clip3802)\" style=\"fill:#e34a33; stroke:none; fill-opacity:1\" cx=\"1743.42\" cy=\"165.706\" r=\"21\"/>\n",
       "<circle clip-path=\"url(#clip3802)\" style=\"fill:#000000; stroke:none; fill-opacity:1\" cx=\"1852.81\" cy=\"135.796\" r=\"25\"/>\n",
       "<circle clip-path=\"url(#clip3802)\" style=\"fill:#e34a33; stroke:none; fill-opacity:1\" cx=\"1852.81\" cy=\"135.796\" r=\"21\"/>\n",
       "<circle clip-path=\"url(#clip3802)\" style=\"fill:#000000; stroke:none; fill-opacity:1\" cx=\"1962.21\" cy=\"112.961\" r=\"25\"/>\n",
       "<circle clip-path=\"url(#clip3802)\" style=\"fill:#e34a33; stroke:none; fill-opacity:1\" cx=\"1962.21\" cy=\"112.961\" r=\"21\"/>\n",
       "<circle clip-path=\"url(#clip3802)\" style=\"fill:#000000; stroke:none; fill-opacity:1\" cx=\"2071.61\" cy=\"97.2143\" r=\"25\"/>\n",
       "<circle clip-path=\"url(#clip3802)\" style=\"fill:#e34a33; stroke:none; fill-opacity:1\" cx=\"2071.61\" cy=\"97.2143\" r=\"21\"/>\n",
       "<circle clip-path=\"url(#clip3802)\" style=\"fill:#000000; stroke:none; fill-opacity:1\" cx=\"2181\" cy=\"88.4876\" r=\"25\"/>\n",
       "<circle clip-path=\"url(#clip3802)\" style=\"fill:#e34a33; stroke:none; fill-opacity:1\" cx=\"2181\" cy=\"88.4876\" r=\"21\"/>\n",
       "<circle clip-path=\"url(#clip3802)\" style=\"fill:#000000; stroke:none; fill-opacity:1\" cx=\"2290.4\" cy=\"86.7672\" r=\"25\"/>\n",
       "<circle clip-path=\"url(#clip3802)\" style=\"fill:#e34a33; stroke:none; fill-opacity:1\" cx=\"2290.4\" cy=\"86.7672\" r=\"21\"/>\n",
       "<polyline clip-path=\"url(#clip3802)\" style=\"stroke:#fee8c8; stroke-width:4; stroke-opacity:1; fill:none\" points=\"\n",
       "  211.859,1404.2 321.256,1276.06 430.653,1148.88 540.049,1022.65 649.446,906.629 758.843,808.943 868.24,717.487 977.637,632.246 1087.03,553.21 1196.43,480.375 \n",
       "  1305.83,413.687 1415.22,353.124 1524.62,298.667 1634.02,250.296 1743.42,207.991 1852.81,171.731 1962.21,141.498 2071.61,117.273 2181,99.0359 2290.4,86.7672 \n",
       "  \n",
       "  \"/>\n",
       "<circle clip-path=\"url(#clip3802)\" style=\"fill:#000000; stroke:none; fill-opacity:1\" cx=\"211.859\" cy=\"1404.2\" r=\"25\"/>\n",
       "<circle clip-path=\"url(#clip3802)\" style=\"fill:#fee8c8; stroke:none; fill-opacity:1\" cx=\"211.859\" cy=\"1404.2\" r=\"21\"/>\n",
       "<circle clip-path=\"url(#clip3802)\" style=\"fill:#000000; stroke:none; fill-opacity:1\" cx=\"321.256\" cy=\"1276.06\" r=\"25\"/>\n",
       "<circle clip-path=\"url(#clip3802)\" style=\"fill:#fee8c8; stroke:none; fill-opacity:1\" cx=\"321.256\" cy=\"1276.06\" r=\"21\"/>\n",
       "<circle clip-path=\"url(#clip3802)\" style=\"fill:#000000; stroke:none; fill-opacity:1\" cx=\"430.653\" cy=\"1148.88\" r=\"25\"/>\n",
       "<circle clip-path=\"url(#clip3802)\" style=\"fill:#fee8c8; stroke:none; fill-opacity:1\" cx=\"430.653\" cy=\"1148.88\" r=\"21\"/>\n",
       "<circle clip-path=\"url(#clip3802)\" style=\"fill:#000000; stroke:none; fill-opacity:1\" cx=\"540.049\" cy=\"1022.65\" r=\"25\"/>\n",
       "<circle clip-path=\"url(#clip3802)\" style=\"fill:#fee8c8; stroke:none; fill-opacity:1\" cx=\"540.049\" cy=\"1022.65\" r=\"21\"/>\n",
       "<circle clip-path=\"url(#clip3802)\" style=\"fill:#000000; stroke:none; fill-opacity:1\" cx=\"649.446\" cy=\"906.629\" r=\"25\"/>\n",
       "<circle clip-path=\"url(#clip3802)\" style=\"fill:#fee8c8; stroke:none; fill-opacity:1\" cx=\"649.446\" cy=\"906.629\" r=\"21\"/>\n",
       "<circle clip-path=\"url(#clip3802)\" style=\"fill:#000000; stroke:none; fill-opacity:1\" cx=\"758.843\" cy=\"808.943\" r=\"25\"/>\n",
       "<circle clip-path=\"url(#clip3802)\" style=\"fill:#fee8c8; stroke:none; fill-opacity:1\" cx=\"758.843\" cy=\"808.943\" r=\"21\"/>\n",
       "<circle clip-path=\"url(#clip3802)\" style=\"fill:#000000; stroke:none; fill-opacity:1\" cx=\"868.24\" cy=\"717.487\" r=\"25\"/>\n",
       "<circle clip-path=\"url(#clip3802)\" style=\"fill:#fee8c8; stroke:none; fill-opacity:1\" cx=\"868.24\" cy=\"717.487\" r=\"21\"/>\n",
       "<circle clip-path=\"url(#clip3802)\" style=\"fill:#000000; stroke:none; fill-opacity:1\" cx=\"977.637\" cy=\"632.246\" r=\"25\"/>\n",
       "<circle clip-path=\"url(#clip3802)\" style=\"fill:#fee8c8; stroke:none; fill-opacity:1\" cx=\"977.637\" cy=\"632.246\" r=\"21\"/>\n",
       "<circle clip-path=\"url(#clip3802)\" style=\"fill:#000000; stroke:none; fill-opacity:1\" cx=\"1087.03\" cy=\"553.21\" r=\"25\"/>\n",
       "<circle clip-path=\"url(#clip3802)\" style=\"fill:#fee8c8; stroke:none; fill-opacity:1\" cx=\"1087.03\" cy=\"553.21\" r=\"21\"/>\n",
       "<circle clip-path=\"url(#clip3802)\" style=\"fill:#000000; stroke:none; fill-opacity:1\" cx=\"1196.43\" cy=\"480.375\" r=\"25\"/>\n",
       "<circle clip-path=\"url(#clip3802)\" style=\"fill:#fee8c8; stroke:none; fill-opacity:1\" cx=\"1196.43\" cy=\"480.375\" r=\"21\"/>\n",
       "<circle clip-path=\"url(#clip3802)\" style=\"fill:#000000; stroke:none; fill-opacity:1\" cx=\"1305.83\" cy=\"413.687\" r=\"25\"/>\n",
       "<circle clip-path=\"url(#clip3802)\" style=\"fill:#fee8c8; stroke:none; fill-opacity:1\" cx=\"1305.83\" cy=\"413.687\" r=\"21\"/>\n",
       "<circle clip-path=\"url(#clip3802)\" style=\"fill:#000000; stroke:none; fill-opacity:1\" cx=\"1415.22\" cy=\"353.124\" r=\"25\"/>\n",
       "<circle clip-path=\"url(#clip3802)\" style=\"fill:#fee8c8; stroke:none; fill-opacity:1\" cx=\"1415.22\" cy=\"353.124\" r=\"21\"/>\n",
       "<circle clip-path=\"url(#clip3802)\" style=\"fill:#000000; stroke:none; fill-opacity:1\" cx=\"1524.62\" cy=\"298.667\" r=\"25\"/>\n",
       "<circle clip-path=\"url(#clip3802)\" style=\"fill:#fee8c8; stroke:none; fill-opacity:1\" cx=\"1524.62\" cy=\"298.667\" r=\"21\"/>\n",
       "<circle clip-path=\"url(#clip3802)\" style=\"fill:#000000; stroke:none; fill-opacity:1\" cx=\"1634.02\" cy=\"250.296\" r=\"25\"/>\n",
       "<circle clip-path=\"url(#clip3802)\" style=\"fill:#fee8c8; stroke:none; fill-opacity:1\" cx=\"1634.02\" cy=\"250.296\" r=\"21\"/>\n",
       "<circle clip-path=\"url(#clip3802)\" style=\"fill:#000000; stroke:none; fill-opacity:1\" cx=\"1743.42\" cy=\"207.991\" r=\"25\"/>\n",
       "<circle clip-path=\"url(#clip3802)\" style=\"fill:#fee8c8; stroke:none; fill-opacity:1\" cx=\"1743.42\" cy=\"207.991\" r=\"21\"/>\n",
       "<circle clip-path=\"url(#clip3802)\" style=\"fill:#000000; stroke:none; fill-opacity:1\" cx=\"1852.81\" cy=\"171.731\" r=\"25\"/>\n",
       "<circle clip-path=\"url(#clip3802)\" style=\"fill:#fee8c8; stroke:none; fill-opacity:1\" cx=\"1852.81\" cy=\"171.731\" r=\"21\"/>\n",
       "<circle clip-path=\"url(#clip3802)\" style=\"fill:#000000; stroke:none; fill-opacity:1\" cx=\"1962.21\" cy=\"141.498\" r=\"25\"/>\n",
       "<circle clip-path=\"url(#clip3802)\" style=\"fill:#fee8c8; stroke:none; fill-opacity:1\" cx=\"1962.21\" cy=\"141.498\" r=\"21\"/>\n",
       "<circle clip-path=\"url(#clip3802)\" style=\"fill:#000000; stroke:none; fill-opacity:1\" cx=\"2071.61\" cy=\"117.273\" r=\"25\"/>\n",
       "<circle clip-path=\"url(#clip3802)\" style=\"fill:#fee8c8; stroke:none; fill-opacity:1\" cx=\"2071.61\" cy=\"117.273\" r=\"21\"/>\n",
       "<circle clip-path=\"url(#clip3802)\" style=\"fill:#000000; stroke:none; fill-opacity:1\" cx=\"2181\" cy=\"99.0359\" r=\"25\"/>\n",
       "<circle clip-path=\"url(#clip3802)\" style=\"fill:#fee8c8; stroke:none; fill-opacity:1\" cx=\"2181\" cy=\"99.0359\" r=\"21\"/>\n",
       "<circle clip-path=\"url(#clip3802)\" style=\"fill:#000000; stroke:none; fill-opacity:1\" cx=\"2290.4\" cy=\"86.7672\" r=\"25\"/>\n",
       "<circle clip-path=\"url(#clip3802)\" style=\"fill:#fee8c8; stroke:none; fill-opacity:1\" cx=\"2290.4\" cy=\"86.7672\" r=\"21\"/>\n",
       "<polygon clip-path=\"url(#clip3800)\" points=\"\n",
       "1813.42,312.204 2280.76,312.204 2280.76,130.764 1813.42,130.764 \n",
       "  \" fill=\"#ffffff\" fill-rule=\"evenodd\" fill-opacity=\"1\"/>\n",
       "<polyline clip-path=\"url(#clip3800)\" style=\"stroke:#000000; stroke-width:4; stroke-opacity:1; fill:none\" points=\"\n",
       "  1813.42,312.204 2280.76,312.204 2280.76,130.764 1813.42,130.764 1813.42,312.204 \n",
       "  \"/>\n",
       "<polyline clip-path=\"url(#clip3800)\" style=\"stroke:#e34a33; stroke-width:24; stroke-opacity:1; fill:none\" points=\"\n",
       "  1837.42,191.244 1981.42,191.244 \n",
       "  \"/>\n",
       "<circle clip-path=\"url(#clip3800)\" style=\"fill:#000000; stroke:none; fill-opacity:1\" cx=\"1921.42\" cy=\"191.244\" r=\"25\"/>\n",
       "<circle clip-path=\"url(#clip3800)\" style=\"fill:#e34a33; stroke:none; fill-opacity:1\" cx=\"1921.42\" cy=\"191.244\" r=\"21\"/>\n",
       "<g clip-path=\"url(#clip3800)\">\n",
       "<text style=\"fill:#000000; fill-opacity:1; font-family:Arial,Helvetica Neue,Helvetica,sans-serif; font-size:48px; text-anchor:start;\" transform=\"rotate(0, 2005.42, 208.744)\" x=\"2005.42\" y=\"208.744\">Indirect</text>\n",
       "</g>\n",
       "<polyline clip-path=\"url(#clip3800)\" style=\"stroke:#fee8c8; stroke-width:4; stroke-opacity:1; fill:none\" points=\"\n",
       "  1837.42,251.724 1981.42,251.724 \n",
       "  \"/>\n",
       "<circle clip-path=\"url(#clip3800)\" style=\"fill:#000000; stroke:none; fill-opacity:1\" cx=\"1921.42\" cy=\"251.724\" r=\"25\"/>\n",
       "<circle clip-path=\"url(#clip3800)\" style=\"fill:#fee8c8; stroke:none; fill-opacity:1\" cx=\"1921.42\" cy=\"251.724\" r=\"21\"/>\n",
       "<g clip-path=\"url(#clip3800)\">\n",
       "<text style=\"fill:#000000; fill-opacity:1; font-family:Arial,Helvetica Neue,Helvetica,sans-serif; font-size:48px; text-anchor:start;\" transform=\"rotate(0, 2005.42, 269.224)\" x=\"2005.42\" y=\"269.224\">Semidirect</text>\n",
       "</g>\n",
       "</svg>\n"
      ]
     },
     "execution_count": 18,
     "metadata": {},
     "output_type": "execute_result"
    }
   ],
   "source": [
    "j = 1\n",
    "xlabel=latexstring(\"t\")\n",
    "ylabel=latexstring(\"x\")\n",
    "plot(traj_indirect[7],traj_indirect[8][j,:],label=\"Indirect\",seriescolor=RGB(((227,74,51) ./ 255.)...),linewidth=6,marker=6,xlabel=xlabel)\n",
    "plot!(traj_semidirect[7],traj_semidirect[8][j,:],label=\"Semidirect\",seriescolor=RGB(((254,232,200) ./ 255.)...),linewidth=1,marker=6,ylabel=ylabel)"
   ]
  },
  {
   "cell_type": "code",
   "execution_count": null,
   "metadata": {},
   "outputs": [],
   "source": [
    "savefig(string(\"slidingbox_x.svg\")) "
   ]
  },
  {
   "cell_type": "code",
   "execution_count": 19,
   "metadata": {},
   "outputs": [
    {
     "data": {
      "image/svg+xml": [
       "<?xml version=\"1.0\" encoding=\"utf-8\"?>\n",
       "<svg xmlns=\"http://www.w3.org/2000/svg\" xmlns:xlink=\"http://www.w3.org/1999/xlink\" width=\"600\" height=\"400\" viewBox=\"0 0 2400 1600\">\n",
       "<defs>\n",
       "  <clipPath id=\"clip4200\">\n",
       "    <rect x=\"0\" y=\"0\" width=\"2400\" height=\"1600\"/>\n",
       "  </clipPath>\n",
       "</defs>\n",
       "<polygon clip-path=\"url(#clip4200)\" points=\"\n",
       "0,1600 2400,1600 2400,0 0,0 \n",
       "  \" fill=\"#ffffff\" fill-rule=\"evenodd\" fill-opacity=\"1\"/>\n",
       "<defs>\n",
       "  <clipPath id=\"clip4201\">\n",
       "    <rect x=\"480\" y=\"0\" width=\"1681\" height=\"1600\"/>\n",
       "  </clipPath>\n",
       "</defs>\n",
       "<polygon clip-path=\"url(#clip4200)\" points=\"\n",
       "216.408,1443.73 2352.76,1443.73 2352.76,47.2441 216.408,47.2441 \n",
       "  \" fill=\"#ffffff\" fill-rule=\"evenodd\" fill-opacity=\"1\"/>\n",
       "<defs>\n",
       "  <clipPath id=\"clip4202\">\n",
       "    <rect x=\"216\" y=\"47\" width=\"2137\" height=\"1397\"/>\n",
       "  </clipPath>\n",
       "</defs>\n",
       "<polyline clip-path=\"url(#clip4202)\" style=\"stroke:#000000; stroke-width:2; stroke-opacity:0.1; fill:none\" points=\"\n",
       "  276.871,1443.73 276.871,47.2441 \n",
       "  \"/>\n",
       "<polyline clip-path=\"url(#clip4202)\" style=\"stroke:#000000; stroke-width:2; stroke-opacity:0.1; fill:none\" points=\"\n",
       "  701.17,1443.73 701.17,47.2441 \n",
       "  \"/>\n",
       "<polyline clip-path=\"url(#clip4202)\" style=\"stroke:#000000; stroke-width:2; stroke-opacity:0.1; fill:none\" points=\"\n",
       "  1125.47,1443.73 1125.47,47.2441 \n",
       "  \"/>\n",
       "<polyline clip-path=\"url(#clip4202)\" style=\"stroke:#000000; stroke-width:2; stroke-opacity:0.1; fill:none\" points=\"\n",
       "  1549.77,1443.73 1549.77,47.2441 \n",
       "  \"/>\n",
       "<polyline clip-path=\"url(#clip4202)\" style=\"stroke:#000000; stroke-width:2; stroke-opacity:0.1; fill:none\" points=\"\n",
       "  1974.07,1443.73 1974.07,47.2441 \n",
       "  \"/>\n",
       "<polyline clip-path=\"url(#clip4202)\" style=\"stroke:#000000; stroke-width:2; stroke-opacity:0.1; fill:none\" points=\"\n",
       "  216.408,1403.93 2352.76,1403.93 \n",
       "  \"/>\n",
       "<polyline clip-path=\"url(#clip4202)\" style=\"stroke:#000000; stroke-width:2; stroke-opacity:0.1; fill:none\" points=\"\n",
       "  216.408,1074.64 2352.76,1074.64 \n",
       "  \"/>\n",
       "<polyline clip-path=\"url(#clip4202)\" style=\"stroke:#000000; stroke-width:2; stroke-opacity:0.1; fill:none\" points=\"\n",
       "  216.408,745.349 2352.76,745.349 \n",
       "  \"/>\n",
       "<polyline clip-path=\"url(#clip4202)\" style=\"stroke:#000000; stroke-width:2; stroke-opacity:0.1; fill:none\" points=\"\n",
       "  216.408,416.058 2352.76,416.058 \n",
       "  \"/>\n",
       "<polyline clip-path=\"url(#clip4202)\" style=\"stroke:#000000; stroke-width:2; stroke-opacity:0.1; fill:none\" points=\"\n",
       "  216.408,86.7672 2352.76,86.7672 \n",
       "  \"/>\n",
       "<polyline clip-path=\"url(#clip4200)\" style=\"stroke:#000000; stroke-width:4; stroke-opacity:1; fill:none\" points=\"\n",
       "  216.408,1443.73 2352.76,1443.73 \n",
       "  \"/>\n",
       "<polyline clip-path=\"url(#clip4200)\" style=\"stroke:#000000; stroke-width:4; stroke-opacity:1; fill:none\" points=\"\n",
       "  216.408,1443.73 216.408,47.2441 \n",
       "  \"/>\n",
       "<polyline clip-path=\"url(#clip4200)\" style=\"stroke:#000000; stroke-width:4; stroke-opacity:1; fill:none\" points=\"\n",
       "  276.871,1443.73 276.871,1422.78 \n",
       "  \"/>\n",
       "<polyline clip-path=\"url(#clip4200)\" style=\"stroke:#000000; stroke-width:4; stroke-opacity:1; fill:none\" points=\"\n",
       "  701.17,1443.73 701.17,1422.78 \n",
       "  \"/>\n",
       "<polyline clip-path=\"url(#clip4200)\" style=\"stroke:#000000; stroke-width:4; stroke-opacity:1; fill:none\" points=\"\n",
       "  1125.47,1443.73 1125.47,1422.78 \n",
       "  \"/>\n",
       "<polyline clip-path=\"url(#clip4200)\" style=\"stroke:#000000; stroke-width:4; stroke-opacity:1; fill:none\" points=\"\n",
       "  1549.77,1443.73 1549.77,1422.78 \n",
       "  \"/>\n",
       "<polyline clip-path=\"url(#clip4200)\" style=\"stroke:#000000; stroke-width:4; stroke-opacity:1; fill:none\" points=\"\n",
       "  1974.07,1443.73 1974.07,1422.78 \n",
       "  \"/>\n",
       "<polyline clip-path=\"url(#clip4200)\" style=\"stroke:#000000; stroke-width:4; stroke-opacity:1; fill:none\" points=\"\n",
       "  216.408,1403.93 248.454,1403.93 \n",
       "  \"/>\n",
       "<polyline clip-path=\"url(#clip4200)\" style=\"stroke:#000000; stroke-width:4; stroke-opacity:1; fill:none\" points=\"\n",
       "  216.408,1074.64 248.454,1074.64 \n",
       "  \"/>\n",
       "<polyline clip-path=\"url(#clip4200)\" style=\"stroke:#000000; stroke-width:4; stroke-opacity:1; fill:none\" points=\"\n",
       "  216.408,745.349 248.454,745.349 \n",
       "  \"/>\n",
       "<polyline clip-path=\"url(#clip4200)\" style=\"stroke:#000000; stroke-width:4; stroke-opacity:1; fill:none\" points=\"\n",
       "  216.408,416.058 248.454,416.058 \n",
       "  \"/>\n",
       "<polyline clip-path=\"url(#clip4200)\" style=\"stroke:#000000; stroke-width:4; stroke-opacity:1; fill:none\" points=\"\n",
       "  216.408,86.7672 248.454,86.7672 \n",
       "  \"/>\n",
       "<g clip-path=\"url(#clip4200)\">\n",
       "<text style=\"fill:#000000; fill-opacity:1; font-family:Arial,Helvetica Neue,Helvetica,sans-serif; font-size:48px; text-anchor:middle;\" transform=\"rotate(0, 276.871, 1497.73)\" x=\"276.871\" y=\"1497.73\">0.0</text>\n",
       "</g>\n",
       "<g clip-path=\"url(#clip4200)\">\n",
       "<text style=\"fill:#000000; fill-opacity:1; font-family:Arial,Helvetica Neue,Helvetica,sans-serif; font-size:48px; text-anchor:middle;\" transform=\"rotate(0, 701.17, 1497.73)\" x=\"701.17\" y=\"1497.73\">0.2</text>\n",
       "</g>\n",
       "<g clip-path=\"url(#clip4200)\">\n",
       "<text style=\"fill:#000000; fill-opacity:1; font-family:Arial,Helvetica Neue,Helvetica,sans-serif; font-size:48px; text-anchor:middle;\" transform=\"rotate(0, 1125.47, 1497.73)\" x=\"1125.47\" y=\"1497.73\">0.4</text>\n",
       "</g>\n",
       "<g clip-path=\"url(#clip4200)\">\n",
       "<text style=\"fill:#000000; fill-opacity:1; font-family:Arial,Helvetica Neue,Helvetica,sans-serif; font-size:48px; text-anchor:middle;\" transform=\"rotate(0, 1549.77, 1497.73)\" x=\"1549.77\" y=\"1497.73\">0.6</text>\n",
       "</g>\n",
       "<g clip-path=\"url(#clip4200)\">\n",
       "<text style=\"fill:#000000; fill-opacity:1; font-family:Arial,Helvetica Neue,Helvetica,sans-serif; font-size:48px; text-anchor:middle;\" transform=\"rotate(0, 1974.07, 1497.73)\" x=\"1974.07\" y=\"1497.73\">0.8</text>\n",
       "</g>\n",
       "<g clip-path=\"url(#clip4200)\">\n",
       "<text style=\"fill:#000000; fill-opacity:1; font-family:Arial,Helvetica Neue,Helvetica,sans-serif; font-size:48px; text-anchor:end;\" transform=\"rotate(0, 192.408, 1421.43)\" x=\"192.408\" y=\"1421.43\">0.00</text>\n",
       "</g>\n",
       "<g clip-path=\"url(#clip4200)\">\n",
       "<text style=\"fill:#000000; fill-opacity:1; font-family:Arial,Helvetica Neue,Helvetica,sans-serif; font-size:48px; text-anchor:end;\" transform=\"rotate(0, 192.408, 1092.14)\" x=\"192.408\" y=\"1092.14\">0.05</text>\n",
       "</g>\n",
       "<g clip-path=\"url(#clip4200)\">\n",
       "<text style=\"fill:#000000; fill-opacity:1; font-family:Arial,Helvetica Neue,Helvetica,sans-serif; font-size:48px; text-anchor:end;\" transform=\"rotate(0, 192.408, 762.849)\" x=\"192.408\" y=\"762.849\">0.10</text>\n",
       "</g>\n",
       "<g clip-path=\"url(#clip4200)\">\n",
       "<text style=\"fill:#000000; fill-opacity:1; font-family:Arial,Helvetica Neue,Helvetica,sans-serif; font-size:48px; text-anchor:end;\" transform=\"rotate(0, 192.408, 433.558)\" x=\"192.408\" y=\"433.558\">0.15</text>\n",
       "</g>\n",
       "<g clip-path=\"url(#clip4200)\">\n",
       "<text style=\"fill:#000000; fill-opacity:1; font-family:Arial,Helvetica Neue,Helvetica,sans-serif; font-size:48px; text-anchor:end;\" transform=\"rotate(0, 192.408, 104.267)\" x=\"192.408\" y=\"104.267\">0.20</text>\n",
       "</g>\n",
       "<g clip-path=\"url(#clip4200)\">\n",
       "<image width=\"21\" height=\"42\" xlink:href=\"data:image/png;base64,\n",
       "iVBORw0KGgoAAAANSUhEUgAAABUAAAAqCAYAAABcOxDuAAABl0lEQVRIia3W4c3CIBAG4FcnII7g\n",
       "CDdD3YAZOgJxBEZghsYJiCN0BOwIxA3u+4X5sNAeVBJ+0F7fwJMzcmJmtIzX68WPxwNEhNvtdioW\n",
       "MbN4eu8ZwGdO08SlunPLLu/3e7ZelqVcKN1ljDHbJQD23hd3Kg6dpmkVWqsVH//5fGZrIqrWdocO\n",
       "w1Av/rWn2LTFU2za4gkITZs8gf3jt3qKTFs9mRnw3rNSavVh7/Te83lZFrzfbwmtaFwul+3jhxCa\n",
       "PXdNezx3+7S1P9NoCt3tzzR+2Z+7pr2em6a9nsCGabcnUD7+Ec+q6RHPqukRT6BiesgTWB//qGfR\n",
       "9Khn0fSoJ1Awnec5Wzd7AviJZ4yRtdY8zzOvTL+vigA4xrgbaoxhABxCWIdaa7NAIhLt8rs2M+3x\n",
       "THdWa23Z9Hq9im7Kaab/MK11VrcZmuBrU2udWRZDU5EkNPk751Y12cI5J2qnVDeOY/H96gERfUKN\n",
       "MdlHqR+3AouhIQT+HzyOIxtj+D+NtXbTuvrCOcfDMLBSipVSTERsjBH9GP4A/KauBMnGQOkAAAAA\n",
       "SUVORK5CYII=\n",
       "\" transform=\"translate(1274, 1520)\"/>\n",
       "</g>\n",
       "<g clip-path=\"url(#clip4200)\">\n",
       "<image width=\"30\" height=\"29\" xlink:href=\"data:image/png;base64,\n",
       "iVBORw0KGgoAAAANSUhEUgAAAB4AAAAdCAYAAAC9pNwMAAABu0lEQVRIib2Va43EMAyE5xgEQyEU\n",
       "QyAUQyAUQyEEQyEUQyAEQxbC3I+TI7dJ+sjqupKl3VXjqe3PE4QQSBJvB4wxNMZwXddXXwAhBA7D\n",
       "QACcpukr8ZQSY4y3cuQvzjkC4DAMtw8fY57nnGNZltMcux/LshAAAXS1PqVEKUBeYNu2ap7ij2ma\n",
       "8kHvfVflKSWO45jz1EZYHNq2jQBojCGAy5adhRYfx5EpJTaFY4y51dZaAuA8z92VSwEi3hT23hMA\n",
       "Zb+l9c65LvF1XbOwzrN7KISQH6jNvVdcVw2AMca6qLW2EBDxnrZrYCXHDqgrmmXmT4HTayqz3lWq\n",
       "W3FF6pNVE252IVXopb8iVSz2rrg4moQxphz8Hb+OMeY1ueNwx+KstaXwXXhk3wE0bVHi2OYQwt5d\n",
       "nlKr+Wjd60dw5SWLwddW6Sy0xdag1JeGHgtIQmCR0J76rbjkPrJQwNJrEmKNR/GW41VJ7b2PtXgI\n",
       "gSmlZq7isJ6Jvk3uhmZGRlBzuiatzrniDn1a+RmwjxL2ANfa9X8Tls4JNwV0/ylM/nm7WKZA94qw\n",
       "hL4ovPfviErEGGmtpTGGPyTx9ufz+fAXUqujFxChGt4AAAAASUVORK5CYII=\n",
       "\" transform=\"translate(43, 731)\"/>\n",
       "</g>\n",
       "<polyline clip-path=\"url(#clip4202)\" style=\"stroke:#e34a33; stroke-width:24; stroke-opacity:1; fill:none\" points=\"\n",
       "  276.871,86.7672 382.946,247.845 489.021,569.454 595.096,1051.05 701.17,1403.93 807.245,1403.93 913.32,1403.71 1019.39,1404.2 1125.47,1403.93 1231.54,1402.82 \n",
       "  1337.62,1403.93 1443.69,1403.93 1549.77,1403.93 1655.84,1403.94 1761.92,1403.52 1867.99,1403.77 1974.07,1404.18 2080.14,1403.93 2186.22,1403.93 2292.29,1403.93 \n",
       "  \n",
       "  \"/>\n",
       "<circle clip-path=\"url(#clip4202)\" style=\"fill:#000000; stroke:none; fill-opacity:1\" cx=\"276.871\" cy=\"86.7672\" r=\"25\"/>\n",
       "<circle clip-path=\"url(#clip4202)\" style=\"fill:#e34a33; stroke:none; fill-opacity:1\" cx=\"276.871\" cy=\"86.7672\" r=\"21\"/>\n",
       "<circle clip-path=\"url(#clip4202)\" style=\"fill:#000000; stroke:none; fill-opacity:1\" cx=\"382.946\" cy=\"247.845\" r=\"25\"/>\n",
       "<circle clip-path=\"url(#clip4202)\" style=\"fill:#e34a33; stroke:none; fill-opacity:1\" cx=\"382.946\" cy=\"247.845\" r=\"21\"/>\n",
       "<circle clip-path=\"url(#clip4202)\" style=\"fill:#000000; stroke:none; fill-opacity:1\" cx=\"489.021\" cy=\"569.454\" r=\"25\"/>\n",
       "<circle clip-path=\"url(#clip4202)\" style=\"fill:#e34a33; stroke:none; fill-opacity:1\" cx=\"489.021\" cy=\"569.454\" r=\"21\"/>\n",
       "<circle clip-path=\"url(#clip4202)\" style=\"fill:#000000; stroke:none; fill-opacity:1\" cx=\"595.096\" cy=\"1051.05\" r=\"25\"/>\n",
       "<circle clip-path=\"url(#clip4202)\" style=\"fill:#e34a33; stroke:none; fill-opacity:1\" cx=\"595.096\" cy=\"1051.05\" r=\"21\"/>\n",
       "<circle clip-path=\"url(#clip4202)\" style=\"fill:#000000; stroke:none; fill-opacity:1\" cx=\"701.17\" cy=\"1403.93\" r=\"25\"/>\n",
       "<circle clip-path=\"url(#clip4202)\" style=\"fill:#e34a33; stroke:none; fill-opacity:1\" cx=\"701.17\" cy=\"1403.93\" r=\"21\"/>\n",
       "<circle clip-path=\"url(#clip4202)\" style=\"fill:#000000; stroke:none; fill-opacity:1\" cx=\"807.245\" cy=\"1403.93\" r=\"25\"/>\n",
       "<circle clip-path=\"url(#clip4202)\" style=\"fill:#e34a33; stroke:none; fill-opacity:1\" cx=\"807.245\" cy=\"1403.93\" r=\"21\"/>\n",
       "<circle clip-path=\"url(#clip4202)\" style=\"fill:#000000; stroke:none; fill-opacity:1\" cx=\"913.32\" cy=\"1403.71\" r=\"25\"/>\n",
       "<circle clip-path=\"url(#clip4202)\" style=\"fill:#e34a33; stroke:none; fill-opacity:1\" cx=\"913.32\" cy=\"1403.71\" r=\"21\"/>\n",
       "<circle clip-path=\"url(#clip4202)\" style=\"fill:#000000; stroke:none; fill-opacity:1\" cx=\"1019.39\" cy=\"1404.2\" r=\"25\"/>\n",
       "<circle clip-path=\"url(#clip4202)\" style=\"fill:#e34a33; stroke:none; fill-opacity:1\" cx=\"1019.39\" cy=\"1404.2\" r=\"21\"/>\n",
       "<circle clip-path=\"url(#clip4202)\" style=\"fill:#000000; stroke:none; fill-opacity:1\" cx=\"1125.47\" cy=\"1403.93\" r=\"25\"/>\n",
       "<circle clip-path=\"url(#clip4202)\" style=\"fill:#e34a33; stroke:none; fill-opacity:1\" cx=\"1125.47\" cy=\"1403.93\" r=\"21\"/>\n",
       "<circle clip-path=\"url(#clip4202)\" style=\"fill:#000000; stroke:none; fill-opacity:1\" cx=\"1231.54\" cy=\"1402.82\" r=\"25\"/>\n",
       "<circle clip-path=\"url(#clip4202)\" style=\"fill:#e34a33; stroke:none; fill-opacity:1\" cx=\"1231.54\" cy=\"1402.82\" r=\"21\"/>\n",
       "<circle clip-path=\"url(#clip4202)\" style=\"fill:#000000; stroke:none; fill-opacity:1\" cx=\"1337.62\" cy=\"1403.93\" r=\"25\"/>\n",
       "<circle clip-path=\"url(#clip4202)\" style=\"fill:#e34a33; stroke:none; fill-opacity:1\" cx=\"1337.62\" cy=\"1403.93\" r=\"21\"/>\n",
       "<circle clip-path=\"url(#clip4202)\" style=\"fill:#000000; stroke:none; fill-opacity:1\" cx=\"1443.69\" cy=\"1403.93\" r=\"25\"/>\n",
       "<circle clip-path=\"url(#clip4202)\" style=\"fill:#e34a33; stroke:none; fill-opacity:1\" cx=\"1443.69\" cy=\"1403.93\" r=\"21\"/>\n",
       "<circle clip-path=\"url(#clip4202)\" style=\"fill:#000000; stroke:none; fill-opacity:1\" cx=\"1549.77\" cy=\"1403.93\" r=\"25\"/>\n",
       "<circle clip-path=\"url(#clip4202)\" style=\"fill:#e34a33; stroke:none; fill-opacity:1\" cx=\"1549.77\" cy=\"1403.93\" r=\"21\"/>\n",
       "<circle clip-path=\"url(#clip4202)\" style=\"fill:#000000; stroke:none; fill-opacity:1\" cx=\"1655.84\" cy=\"1403.94\" r=\"25\"/>\n",
       "<circle clip-path=\"url(#clip4202)\" style=\"fill:#e34a33; stroke:none; fill-opacity:1\" cx=\"1655.84\" cy=\"1403.94\" r=\"21\"/>\n",
       "<circle clip-path=\"url(#clip4202)\" style=\"fill:#000000; stroke:none; fill-opacity:1\" cx=\"1761.92\" cy=\"1403.52\" r=\"25\"/>\n",
       "<circle clip-path=\"url(#clip4202)\" style=\"fill:#e34a33; stroke:none; fill-opacity:1\" cx=\"1761.92\" cy=\"1403.52\" r=\"21\"/>\n",
       "<circle clip-path=\"url(#clip4202)\" style=\"fill:#000000; stroke:none; fill-opacity:1\" cx=\"1867.99\" cy=\"1403.77\" r=\"25\"/>\n",
       "<circle clip-path=\"url(#clip4202)\" style=\"fill:#e34a33; stroke:none; fill-opacity:1\" cx=\"1867.99\" cy=\"1403.77\" r=\"21\"/>\n",
       "<circle clip-path=\"url(#clip4202)\" style=\"fill:#000000; stroke:none; fill-opacity:1\" cx=\"1974.07\" cy=\"1404.18\" r=\"25\"/>\n",
       "<circle clip-path=\"url(#clip4202)\" style=\"fill:#e34a33; stroke:none; fill-opacity:1\" cx=\"1974.07\" cy=\"1404.18\" r=\"21\"/>\n",
       "<circle clip-path=\"url(#clip4202)\" style=\"fill:#000000; stroke:none; fill-opacity:1\" cx=\"2080.14\" cy=\"1403.93\" r=\"25\"/>\n",
       "<circle clip-path=\"url(#clip4202)\" style=\"fill:#e34a33; stroke:none; fill-opacity:1\" cx=\"2080.14\" cy=\"1403.93\" r=\"21\"/>\n",
       "<circle clip-path=\"url(#clip4202)\" style=\"fill:#000000; stroke:none; fill-opacity:1\" cx=\"2186.22\" cy=\"1403.93\" r=\"25\"/>\n",
       "<circle clip-path=\"url(#clip4202)\" style=\"fill:#e34a33; stroke:none; fill-opacity:1\" cx=\"2186.22\" cy=\"1403.93\" r=\"21\"/>\n",
       "<circle clip-path=\"url(#clip4202)\" style=\"fill:#000000; stroke:none; fill-opacity:1\" cx=\"2292.29\" cy=\"1403.93\" r=\"25\"/>\n",
       "<circle clip-path=\"url(#clip4202)\" style=\"fill:#e34a33; stroke:none; fill-opacity:1\" cx=\"2292.29\" cy=\"1403.93\" r=\"21\"/>\n",
       "<polyline clip-path=\"url(#clip4202)\" style=\"stroke:#fee8c8; stroke-width:4; stroke-opacity:1; fill:none\" points=\"\n",
       "  276.871,86.7672 382.946,246.578 489.021,565.66 595.096,1043.48 701.17,1403.93 807.245,1403.93 913.32,1403.93 1019.39,1403.93 1125.47,1403.93 1231.54,1403.93 \n",
       "  1337.62,1403.93 1443.69,1403.93 1549.77,1403.93 1655.84,1403.93 1761.92,1403.93 1867.99,1403.93 1974.07,1403.93 2080.14,1403.93 2186.22,1403.93 2292.29,1403.93 \n",
       "  \n",
       "  \"/>\n",
       "<circle clip-path=\"url(#clip4202)\" style=\"fill:#000000; stroke:none; fill-opacity:1\" cx=\"276.871\" cy=\"86.7672\" r=\"25\"/>\n",
       "<circle clip-path=\"url(#clip4202)\" style=\"fill:#fee8c8; stroke:none; fill-opacity:1\" cx=\"276.871\" cy=\"86.7672\" r=\"21\"/>\n",
       "<circle clip-path=\"url(#clip4202)\" style=\"fill:#000000; stroke:none; fill-opacity:1\" cx=\"382.946\" cy=\"246.578\" r=\"25\"/>\n",
       "<circle clip-path=\"url(#clip4202)\" style=\"fill:#fee8c8; stroke:none; fill-opacity:1\" cx=\"382.946\" cy=\"246.578\" r=\"21\"/>\n",
       "<circle clip-path=\"url(#clip4202)\" style=\"fill:#000000; stroke:none; fill-opacity:1\" cx=\"489.021\" cy=\"565.66\" r=\"25\"/>\n",
       "<circle clip-path=\"url(#clip4202)\" style=\"fill:#fee8c8; stroke:none; fill-opacity:1\" cx=\"489.021\" cy=\"565.66\" r=\"21\"/>\n",
       "<circle clip-path=\"url(#clip4202)\" style=\"fill:#000000; stroke:none; fill-opacity:1\" cx=\"595.096\" cy=\"1043.48\" r=\"25\"/>\n",
       "<circle clip-path=\"url(#clip4202)\" style=\"fill:#fee8c8; stroke:none; fill-opacity:1\" cx=\"595.096\" cy=\"1043.48\" r=\"21\"/>\n",
       "<circle clip-path=\"url(#clip4202)\" style=\"fill:#000000; stroke:none; fill-opacity:1\" cx=\"701.17\" cy=\"1403.93\" r=\"25\"/>\n",
       "<circle clip-path=\"url(#clip4202)\" style=\"fill:#fee8c8; stroke:none; fill-opacity:1\" cx=\"701.17\" cy=\"1403.93\" r=\"21\"/>\n",
       "<circle clip-path=\"url(#clip4202)\" style=\"fill:#000000; stroke:none; fill-opacity:1\" cx=\"807.245\" cy=\"1403.93\" r=\"25\"/>\n",
       "<circle clip-path=\"url(#clip4202)\" style=\"fill:#fee8c8; stroke:none; fill-opacity:1\" cx=\"807.245\" cy=\"1403.93\" r=\"21\"/>\n",
       "<circle clip-path=\"url(#clip4202)\" style=\"fill:#000000; stroke:none; fill-opacity:1\" cx=\"913.32\" cy=\"1403.93\" r=\"25\"/>\n",
       "<circle clip-path=\"url(#clip4202)\" style=\"fill:#fee8c8; stroke:none; fill-opacity:1\" cx=\"913.32\" cy=\"1403.93\" r=\"21\"/>\n",
       "<circle clip-path=\"url(#clip4202)\" style=\"fill:#000000; stroke:none; fill-opacity:1\" cx=\"1019.39\" cy=\"1403.93\" r=\"25\"/>\n",
       "<circle clip-path=\"url(#clip4202)\" style=\"fill:#fee8c8; stroke:none; fill-opacity:1\" cx=\"1019.39\" cy=\"1403.93\" r=\"21\"/>\n",
       "<circle clip-path=\"url(#clip4202)\" style=\"fill:#000000; stroke:none; fill-opacity:1\" cx=\"1125.47\" cy=\"1403.93\" r=\"25\"/>\n",
       "<circle clip-path=\"url(#clip4202)\" style=\"fill:#fee8c8; stroke:none; fill-opacity:1\" cx=\"1125.47\" cy=\"1403.93\" r=\"21\"/>\n",
       "<circle clip-path=\"url(#clip4202)\" style=\"fill:#000000; stroke:none; fill-opacity:1\" cx=\"1231.54\" cy=\"1403.93\" r=\"25\"/>\n",
       "<circle clip-path=\"url(#clip4202)\" style=\"fill:#fee8c8; stroke:none; fill-opacity:1\" cx=\"1231.54\" cy=\"1403.93\" r=\"21\"/>\n",
       "<circle clip-path=\"url(#clip4202)\" style=\"fill:#000000; stroke:none; fill-opacity:1\" cx=\"1337.62\" cy=\"1403.93\" r=\"25\"/>\n",
       "<circle clip-path=\"url(#clip4202)\" style=\"fill:#fee8c8; stroke:none; fill-opacity:1\" cx=\"1337.62\" cy=\"1403.93\" r=\"21\"/>\n",
       "<circle clip-path=\"url(#clip4202)\" style=\"fill:#000000; stroke:none; fill-opacity:1\" cx=\"1443.69\" cy=\"1403.93\" r=\"25\"/>\n",
       "<circle clip-path=\"url(#clip4202)\" style=\"fill:#fee8c8; stroke:none; fill-opacity:1\" cx=\"1443.69\" cy=\"1403.93\" r=\"21\"/>\n",
       "<circle clip-path=\"url(#clip4202)\" style=\"fill:#000000; stroke:none; fill-opacity:1\" cx=\"1549.77\" cy=\"1403.93\" r=\"25\"/>\n",
       "<circle clip-path=\"url(#clip4202)\" style=\"fill:#fee8c8; stroke:none; fill-opacity:1\" cx=\"1549.77\" cy=\"1403.93\" r=\"21\"/>\n",
       "<circle clip-path=\"url(#clip4202)\" style=\"fill:#000000; stroke:none; fill-opacity:1\" cx=\"1655.84\" cy=\"1403.93\" r=\"25\"/>\n",
       "<circle clip-path=\"url(#clip4202)\" style=\"fill:#fee8c8; stroke:none; fill-opacity:1\" cx=\"1655.84\" cy=\"1403.93\" r=\"21\"/>\n",
       "<circle clip-path=\"url(#clip4202)\" style=\"fill:#000000; stroke:none; fill-opacity:1\" cx=\"1761.92\" cy=\"1403.93\" r=\"25\"/>\n",
       "<circle clip-path=\"url(#clip4202)\" style=\"fill:#fee8c8; stroke:none; fill-opacity:1\" cx=\"1761.92\" cy=\"1403.93\" r=\"21\"/>\n",
       "<circle clip-path=\"url(#clip4202)\" style=\"fill:#000000; stroke:none; fill-opacity:1\" cx=\"1867.99\" cy=\"1403.93\" r=\"25\"/>\n",
       "<circle clip-path=\"url(#clip4202)\" style=\"fill:#fee8c8; stroke:none; fill-opacity:1\" cx=\"1867.99\" cy=\"1403.93\" r=\"21\"/>\n",
       "<circle clip-path=\"url(#clip4202)\" style=\"fill:#000000; stroke:none; fill-opacity:1\" cx=\"1974.07\" cy=\"1403.93\" r=\"25\"/>\n",
       "<circle clip-path=\"url(#clip4202)\" style=\"fill:#fee8c8; stroke:none; fill-opacity:1\" cx=\"1974.07\" cy=\"1403.93\" r=\"21\"/>\n",
       "<circle clip-path=\"url(#clip4202)\" style=\"fill:#000000; stroke:none; fill-opacity:1\" cx=\"2080.14\" cy=\"1403.93\" r=\"25\"/>\n",
       "<circle clip-path=\"url(#clip4202)\" style=\"fill:#fee8c8; stroke:none; fill-opacity:1\" cx=\"2080.14\" cy=\"1403.93\" r=\"21\"/>\n",
       "<circle clip-path=\"url(#clip4202)\" style=\"fill:#000000; stroke:none; fill-opacity:1\" cx=\"2186.22\" cy=\"1403.93\" r=\"25\"/>\n",
       "<circle clip-path=\"url(#clip4202)\" style=\"fill:#fee8c8; stroke:none; fill-opacity:1\" cx=\"2186.22\" cy=\"1403.93\" r=\"21\"/>\n",
       "<circle clip-path=\"url(#clip4202)\" style=\"fill:#000000; stroke:none; fill-opacity:1\" cx=\"2292.29\" cy=\"1403.93\" r=\"25\"/>\n",
       "<circle clip-path=\"url(#clip4202)\" style=\"fill:#fee8c8; stroke:none; fill-opacity:1\" cx=\"2292.29\" cy=\"1403.93\" r=\"21\"/>\n",
       "<polygon clip-path=\"url(#clip4200)\" points=\"\n",
       "1813.42,312.204 2280.76,312.204 2280.76,130.764 1813.42,130.764 \n",
       "  \" fill=\"#ffffff\" fill-rule=\"evenodd\" fill-opacity=\"1\"/>\n",
       "<polyline clip-path=\"url(#clip4200)\" style=\"stroke:#000000; stroke-width:4; stroke-opacity:1; fill:none\" points=\"\n",
       "  1813.42,312.204 2280.76,312.204 2280.76,130.764 1813.42,130.764 1813.42,312.204 \n",
       "  \"/>\n",
       "<polyline clip-path=\"url(#clip4200)\" style=\"stroke:#e34a33; stroke-width:24; stroke-opacity:1; fill:none\" points=\"\n",
       "  1837.42,191.244 1981.42,191.244 \n",
       "  \"/>\n",
       "<circle clip-path=\"url(#clip4200)\" style=\"fill:#000000; stroke:none; fill-opacity:1\" cx=\"1921.42\" cy=\"191.244\" r=\"25\"/>\n",
       "<circle clip-path=\"url(#clip4200)\" style=\"fill:#e34a33; stroke:none; fill-opacity:1\" cx=\"1921.42\" cy=\"191.244\" r=\"21\"/>\n",
       "<g clip-path=\"url(#clip4200)\">\n",
       "<text style=\"fill:#000000; fill-opacity:1; font-family:Arial,Helvetica Neue,Helvetica,sans-serif; font-size:48px; text-anchor:start;\" transform=\"rotate(0, 2005.42, 208.744)\" x=\"2005.42\" y=\"208.744\">Indirect</text>\n",
       "</g>\n",
       "<polyline clip-path=\"url(#clip4200)\" style=\"stroke:#fee8c8; stroke-width:4; stroke-opacity:1; fill:none\" points=\"\n",
       "  1837.42,251.724 1981.42,251.724 \n",
       "  \"/>\n",
       "<circle clip-path=\"url(#clip4200)\" style=\"fill:#000000; stroke:none; fill-opacity:1\" cx=\"1921.42\" cy=\"251.724\" r=\"25\"/>\n",
       "<circle clip-path=\"url(#clip4200)\" style=\"fill:#fee8c8; stroke:none; fill-opacity:1\" cx=\"1921.42\" cy=\"251.724\" r=\"21\"/>\n",
       "<g clip-path=\"url(#clip4200)\">\n",
       "<text style=\"fill:#000000; fill-opacity:1; font-family:Arial,Helvetica Neue,Helvetica,sans-serif; font-size:48px; text-anchor:start;\" transform=\"rotate(0, 2005.42, 269.224)\" x=\"2005.42\" y=\"269.224\">Semidirect</text>\n",
       "</g>\n",
       "</svg>\n"
      ]
     },
     "execution_count": 19,
     "metadata": {},
     "output_type": "execute_result"
    }
   ],
   "source": [
    "j = 2\n",
    "xlabel=latexstring(\"t\")\n",
    "ylabel=latexstring(\"z\")\n",
    "plot(traj_indirect[7],traj_indirect[8][j,:],label=\"Indirect\",seriescolor=RGB(((227,74,51) ./ 255.)...),linewidth=6,marker=6,xlabel=xlabel)\n",
    "plot!(traj_semidirect[7],traj_semidirect[8][j,:],label=\"Semidirect\",seriescolor=RGB(((254,232,200) ./ 255.)...),linewidth=1,marker=6,ylabel=ylabel)"
   ]
  },
  {
   "cell_type": "code",
   "execution_count": null,
   "metadata": {},
   "outputs": [],
   "source": [
    "savefig(string(\"slidingbox_z.svg\")) "
   ]
  },
  {
   "cell_type": "code",
   "execution_count": null,
   "metadata": {},
   "outputs": [],
   "source": [
    "display(traj_indirect[2][1])\n",
    "display(traj_semidirect[2][1])"
   ]
  },
  {
   "cell_type": "code",
   "execution_count": null,
   "metadata": {},
   "outputs": [],
   "source": [
    "display(length(traj_indirect[9]))\n",
    "display(length(traj_semidirect[9]))"
   ]
  },
  {
   "cell_type": "markdown",
   "metadata": {},
   "source": [
    "# Trajectory optimization of little dog"
   ]
  },
  {
   "cell_type": "code",
   "execution_count": null,
   "metadata": {},
   "outputs": [],
   "source": [
    "urdf = joinpath(\"..\", \"..\", \"urdf\", \"little_dog\", \"little_dog2d.urdf\")\n",
    "mechanism = parse_urdf(Float64, urdf)\n",
    "\n",
    "floor = findbody(mechanism, \"floor\")\n",
    "point = Point3D(default_frame(floor), SVector([0.,0.,0.]...))\n",
    "normal = FreeVector3D(default_frame(floor), SVector([0.,0.,1.]...))\n",
    "floor_obs = Obstacle(floor, point, normal, :xyz, 100.)\n",
    "\n",
    "obstacles = [floor_obs]\n",
    "env = Environment(mechanism, urdf, obstacles);"
   ]
  },
  {
   "cell_type": "code",
   "execution_count": null,
   "metadata": {},
   "outputs": [],
   "source": [
    "mvis = MechanismVisualizer(mechanism, URDFVisuals(urdf));\n",
    "open(mvis)"
   ]
  },
  {
   "cell_type": "code",
   "execution_count": null,
   "metadata": {},
   "outputs": [],
   "source": [
    "N = 8\n",
    "Δt = 0.025\n",
    "q0 = [0., -.275, 0., 0., 0., 0., 0., pi/4, pi/4, -pi/4, -pi/4, -pi/2, -pi/2, pi/2, pi/2] \n",
    "v0 = zeros(num_velocities(mechanism))\n",
    "\n",
    "sim_data = get_sim_data_indirect(mechanism,env,Δt)\n",
    "null_ctrl! = (u,t,x) -> u[:] .= 0.\n",
    "x0 = MechanismState(mechanism)\n",
    "set_configuration!(x0, q0)\n",
    "set_velocity!(x0, v0)\n",
    "setdirty!(x0)\n",
    "traj_sim = Bilevel.simulate(sim_data,null_ctrl!,x0,N)\n",
    "setanimation!(mvis, traj_sim[6], traj_sim[1])"
   ]
  },
  {
   "cell_type": "code",
   "execution_count": null,
   "metadata": {},
   "outputs": [],
   "source": [
    "q_nom = copy(traj_sim[1][end])\n",
    "q_min = min.(q_nom, [-5., -.5, -.2*pi, 0., 0., 0., 0., -3.5, -3.5, -3.5, -3.5, -3.1, -3.1, -3.1, -3.1])\n",
    "q_max = max.(q_nom, [5., -0.1, .2*pi, 0., 0., 0., 0., 2.4, 2.4, 2.4, 2.4, 1., 1., 1., 1.])\n",
    "\n",
    "x_goal = 0.05\n",
    "\n",
    "N = 10\n",
    "Δt = 0.1\n",
    "\n",
    "function add_prob_constraints!(sim_data)\n",
    "    vs = sim_data.vs\n",
    "\n",
    "    add_eq!(sim_data, :cq1, 2, x -> vs(x, :q1)[1:2] - q_nom[1:2])\n",
    "    add_eq!(sim_data, :cv1, num_velocities(mechanism), x -> vs(x, :v1))\n",
    "    add_ineq!(sim_data, :cqNx, 1, x -> x_goal - vs(x, Symbol(\"q\", N))[1])\n",
    "    add_eq!(sim_data, :cqNlegs, num_positions(mechanism)-1, x -> vs(x, Symbol(\"q\", N))[2:end] - vs(x, :q1)[2:end])\n",
    "    add_eq!(sim_data, :cvN, num_velocities(mechanism), x -> vs(x, Symbol(\"v\", N)))\n",
    "end\n",
    "\n",
    "function add_prob_obj!(sim_data)\n",
    "    for n = 1:N-1\n",
    "        add_obj!(sim_data, Symbol(\"u\", n), x -> sim_data.vs(x, Symbol(\"u\", n))' * sim_data.vs(x, Symbol(\"u\", n)))\n",
    "    end\n",
    "end\n",
    "\n",
    "function get_prob_limits(sim_data)\n",
    "    x_min = -1e19*ones(sim_data.vs.num_vars)\n",
    "    x_max = 1e19*ones(sim_data.vs.num_vars)\n",
    "    \n",
    "    # joint limits\n",
    "    add_box_con_snopt!(x_min, x_max, sim_data, :q, q_min, q_max, 1:N)\n",
    "    add_box_con_snopt!(x_min, x_max, sim_data, :h, [Δt], [Δt], 1:N-1)\n",
    "    \n",
    "    # torques limits\n",
    "    u_limit = 10.\n",
    "    add_box_con_snopt!(x_min, x_max, sim_data, :u, -u_limit * ones(num_velocities(mechanism)), u_limit * ones(num_velocities(mechanism)), 1:N-1)\n",
    "    \n",
    "    x_min, x_max\n",
    "end\n",
    "\n",
    "function get_prob_init(sim_data)\n",
    "    x0 = zeros(sim_data.vs.num_vars)\n",
    "    for n = 1:N\n",
    "        qn = copy(q_nom)\n",
    "        qn[1] = (n/N)*(x_goal - q_nom[1]) + q_nom[1]\n",
    "        x0[sim_data.vs(Symbol(\"q\", n))] .= qn\n",
    "    end\n",
    "    \n",
    "    x0\n",
    "end\n",
    "\n",
    "function setup_prob!(sim_data)\n",
    "    add_prob_constraints!(sim_data)\n",
    "    add_prob_obj!(sim_data)\n",
    "    x_min, x_max = get_prob_limits(sim_data)\n",
    "    x0 = get_prob_init(sim_data)\n",
    "    \n",
    "    x0, x_min, x_max\n",
    "end"
   ]
  },
  {
   "cell_type": "code",
   "execution_count": null,
   "metadata": {},
   "outputs": [],
   "source": [
    "# Indirect\n",
    "\n",
    "sim_data = get_trajopt_data_indirect(mechanism,env,Δt,N,relax_comp=false)\n",
    "x0, x_min, x_max = setup_prob!(sim_data);"
   ]
  },
  {
   "cell_type": "code",
   "execution_count": null,
   "metadata": {},
   "outputs": [],
   "source": [
    "con_tol = 1e-3\n",
    "obj_tol = 1e-3\n",
    "max_iter = 10000\n",
    "\n",
    "display(@time traj_indirect = Bilevel.trajopt(sim_data, x0=x0, x_min=x_min, x_max=x_max, verbose=1, opt_tol=obj_tol, major_feas=con_tol, minor_feas=con_tol, max_iter=max_iter))\n",
    "\n",
    "x0 = traj_indirect[9]\n",
    "\n",
    "setanimation!(mvis, traj_indirect[7], traj_indirect[1])"
   ]
  },
  {
   "cell_type": "code",
   "execution_count": null,
   "metadata": {},
   "outputs": [],
   "source": [
    "function run_trajopt()\n",
    "    Bilevel.solve_rosenbrock() # clearing SNOPT\n",
    "    Bilevel.trajopt(sim_data, x0=x0, x_min=x_min, x_max=x_max, verbose=0, opt_tol=obj_tol, major_feas=con_tol, minor_feas=con_tol, max_iter=max_iter)\n",
    "end\n",
    "\n",
    "@benchmark run_trajopt()"
   ]
  },
  {
   "cell_type": "code",
   "execution_count": null,
   "metadata": {},
   "outputs": [],
   "source": [
    "setanimation!(mvis, traj_indirect[7], traj_indirect[1])"
   ]
  },
  {
   "cell_type": "code",
   "execution_count": null,
   "metadata": {},
   "outputs": [],
   "source": [
    "t_step = traj_indirect[7]\n",
    "q_step = traj_indirect[1]\n",
    "u_step = traj_indirect[2][2:end];"
   ]
  },
  {
   "cell_type": "code",
   "execution_count": null,
   "metadata": {},
   "outputs": [],
   "source": [
    "# Semidirect\n",
    "\n",
    "sim_data = get_trajopt_data_semidirect(mechanism,env,Δt,N,relax_comp=false)\n",
    "x0, x_min, x_max = setup_prob!(sim_data);"
   ]
  },
  {
   "cell_type": "code",
   "execution_count": null,
   "metadata": {},
   "outputs": [],
   "source": [
    "con_tol = 1e-3\n",
    "obj_tol = 1e-3\n",
    "max_iter = 10000\n",
    "\n",
    "display(@time traj_semidirect = Bilevel.trajopt(sim_data, x0=x0, x_min=x_min, x_max=x_max, verbose=1, opt_tol=obj_tol, major_feas=con_tol, minor_feas=con_tol, max_iter=max_iter))\n",
    "\n",
    "x0 = traj_semidirect[9]\n",
    "\n",
    "setanimation!(mvis, traj_semidirect[7], traj_semidirect[1])"
   ]
  },
  {
   "cell_type": "code",
   "execution_count": null,
   "metadata": {},
   "outputs": [],
   "source": [
    "set_configuration!(mvis, traj_semidirect[1][10])"
   ]
  },
  {
   "cell_type": "code",
   "execution_count": null,
   "metadata": {},
   "outputs": [],
   "source": [
    "function run_trajopt()\n",
    "    Bilevel.solve_rosenbrock() # clearing SNOPT\n",
    "    Bilevel.trajopt(sim_data, x0=x0, x_min=x_min, x_max=x_max, verbose=0, opt_tol=obj_tol, major_feas=con_tol, minor_feas=con_tol, max_iter=max_iter)\n",
    "end\n",
    "\n",
    "@benchmark run_trajopt()"
   ]
  },
  {
   "cell_type": "code",
   "execution_count": null,
   "metadata": {},
   "outputs": [],
   "source": [
    "maximum(abs.(vcat(traj_semidirect[3]...)))"
   ]
  },
  {
   "cell_type": "code",
   "execution_count": null,
   "metadata": {},
   "outputs": [],
   "source": [
    "cntraj = hcat(traj_semidirect[5]...)\n",
    "front_traj = cntraj[1,:] .+ cntraj[2,:]\n",
    "back_traj = cntraj[3,:] .+ cntraj[4,:];"
   ]
  },
  {
   "cell_type": "code",
   "execution_count": null,
   "metadata": {},
   "outputs": [],
   "source": [
    "xlabel=latexstring(\"t\")\n",
    "ylabel=latexstring(\"c_n\")\n",
    "plot(traj_semidirect[7][1:end-1],front_traj,label=\"Front legs\",seriescolor=RGB(((227,174,51) ./ 255.)...),linewidth=6,marker=6,xlabel=xlabel)\n",
    "plot!(traj_semidirect[7][1:end-1],back_traj,label=\"Back legs\",seriescolor=RGB(((154,132,200) ./ 255.)...),linewidth=6,marker=6,ylabel=ylabel)"
   ]
  },
  {
   "cell_type": "code",
   "execution_count": null,
   "metadata": {},
   "outputs": [],
   "source": [
    "savefig(string(\"littledog.svg\")) "
   ]
  },
  {
   "cell_type": "code",
   "execution_count": null,
   "metadata": {},
   "outputs": [],
   "source": [
    "xlabel=latexstring(\"x\")\n",
    "ylabel=latexstring(\"z\")\n",
    "plot(traj_semidirect[8][1,:],-traj_semidirect[8][2,:],front_traj,label=\"Torso center of mass position\",seriescolor=RGB(((127,174,51) ./ 255.)...),linewidth=6,marker=6,xlabel=xlabel,ylabel=ylabel)"
   ]
  },
  {
   "cell_type": "code",
   "execution_count": null,
   "metadata": {},
   "outputs": [],
   "source": [
    "savefig(string(\"littledogcom.svg\")) "
   ]
  },
  {
   "cell_type": "code",
   "execution_count": null,
   "metadata": {},
   "outputs": [],
   "source": [
    "setanimation!(mvis, traj_semidirect[7], traj_semidirect[1])"
   ]
  },
  {
   "cell_type": "code",
   "execution_count": null,
   "metadata": {},
   "outputs": [],
   "source": [
    "t_step = traj_semidirect[7]\n",
    "q_step = traj_semidirect[1]\n",
    "u_step = traj_semidirect[2][2:end];"
   ]
  },
  {
   "cell_type": "code",
   "execution_count": null,
   "metadata": {},
   "outputs": [],
   "source": [
    "# Multi-steps\n",
    "\n",
    "reps = 5\n",
    "\n",
    "ttraj = t_step\n",
    "qtraj = q_step\n",
    "utraj = u_step\n",
    "for i = 1:(reps-1)\n",
    "    ttraj = vcat(ttraj, t_step .+ ttraj[end])\n",
    "    qtraj = vcat(qtraj, map(q -> q + vcat(qtraj[end][1],zeros(length(q)-1)), q_step))\n",
    "    utraj = vcat(utraj, u_step)\n",
    "end\n",
    "\n",
    "setanimation!(mvis, ttraj, qtraj)"
   ]
  }
 ],
 "metadata": {
  "kernelspec": {
   "display_name": "Julia 1.1.0",
   "language": "julia",
   "name": "julia-1.1"
  },
  "language_info": {
   "file_extension": ".jl",
   "mimetype": "application/julia",
   "name": "julia",
   "version": "1.1.0"
  }
 },
 "nbformat": 4,
 "nbformat_minor": 2
}
