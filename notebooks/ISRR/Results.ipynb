{
 "cells": [
  {
   "cell_type": "code",
   "execution_count": 3,
   "metadata": {},
   "outputs": [
    {
     "name": "stderr",
     "output_type": "stream",
     "text": [
      "┌ Info: Precompiling Bilevel [9688c538-179f-11e9-3174-495cea6b7f67]\n",
      "└ @ Base loading.jl:1186\n"
     ]
    },
    {
     "data": {
      "text/html": [
       "    <script class='js-collapse-script'>\n",
       "        var curMatch =\n",
       "            window.location.href\n",
       "            .match(/(.*?)\\/notebooks\\/.*\\.ipynb/);\n",
       "\n",
       "        curMatch = curMatch ||\n",
       "            window.location.href\n",
       "            .match(/(.*?)\\/apps\\/.*\\.ipynb/);\n",
       "\n",
       "        if ( curMatch ) {\n",
       "            $('head').append('<base href=\"' + curMatch[1] + '/\">');\n",
       "        }\n",
       "    </script>\n"
      ],
      "text/plain": [
       "HTML{String}(\"    <script class='js-collapse-script'>\\n        var curMatch =\\n            window.location.href\\n            .match(/(.*?)\\\\/notebooks\\\\/.*\\\\.ipynb/);\\n\\n        curMatch = curMatch ||\\n            window.location.href\\n            .match(/(.*?)\\\\/apps\\\\/.*\\\\.ipynb/);\\n\\n        if ( curMatch ) {\\n            \\$('head').append('<base href=\\\"' + curMatch[1] + '/\\\">');\\n        }\\n    </script>\\n\")"
      ]
     },
     "metadata": {},
     "output_type": "display_data"
    },
    {
     "data": {
      "text/html": [
       "<script class='js-collapse-script' src='/assetserver/b464848323e0a4c9a3cfe11f8edca2932188b6d9-assets/webio/dist/bundle.js'></script>"
      ],
      "text/plain": [
       "HTML{String}(\"<script class='js-collapse-script' src='/assetserver/b464848323e0a4c9a3cfe11f8edca2932188b6d9-assets/webio/dist/bundle.js'></script>\")"
      ]
     },
     "metadata": {},
     "output_type": "display_data"
    },
    {
     "data": {
      "text/html": [
       "<script class='js-collapse-script' src='/assetserver/b464848323e0a4c9a3cfe11f8edca2932188b6d9-assets/providers/ijulia_setup.js'></script>"
      ],
      "text/plain": [
       "HTML{String}(\"<script class='js-collapse-script' src='/assetserver/b464848323e0a4c9a3cfe11f8edca2932188b6d9-assets/providers/ijulia_setup.js'></script>\")"
      ]
     },
     "metadata": {},
     "output_type": "display_data"
    },
    {
     "data": {
      "text/html": [
       "  <script class='js-collapse-script'>\n",
       "    $('.js-collapse-script').parent('.output_subarea').css('padding', '0');\n",
       "  </script>\n"
      ],
      "text/plain": [
       "HTML{String}(\"  <script class='js-collapse-script'>\\n    \\$('.js-collapse-script').parent('.output_subarea').css('padding', '0');\\n  </script>\\n\")"
      ]
     },
     "metadata": {},
     "output_type": "display_data"
    },
    {
     "name": "stderr",
     "output_type": "stream",
     "text": [
      "┌ Error: evaluation error\n",
      "│   mod = Bilevel\n",
      "│   ex = const usrfun = #= /home/blandry/.julia/dev/Bilevel/src/solvers/snopt.jl:154 =# @cfunction(objcon_wrapper, Cvoid, (Ptr{Clong}, Ref{Clong}, Ptr{Cdouble}, Ref{Clong}, Ref{Clong}, Ptr{Cdouble}, Ref{Clong}, Ref{Clong}, Ptr{Cdouble}, Ptr{Cchar}, Ref{Clong}, Ptr{Clong}, Ref{Clong}, Ptr{Cdouble}, Ref{Clong}))\n",
      "│   exception = (ErrorException(\"invalid lookup expr (\\$(QuoteNode(Core.svec)))(JuliaInterpreter.SSAValue(2), JuliaInterpreter.SSAValue(3), JuliaInterpreter.SSAValue(4), JuliaInterpreter.SSAValue(5), JuliaInterpreter.SSAValue(6), JuliaInterpreter.SSAValue(7), JuliaInterpreter.SSAValue(8), JuliaInterpreter.SSAValue(9), JuliaInterpreter.SSAValue(10), JuliaInterpreter.SSAValue(11), JuliaInterpreter.SSAValue(12), JuliaInterpreter.SSAValue(13), JuliaInterpreter.SSAValue(14), JuliaInterpreter.SSAValue(15), JuliaInterpreter.SSAValue(16))\"), Union{Ptr{Nothing}, InterpreterIP}[Ptr{Nothing} @0x00007fdb8d59e5eb, Ptr{Nothing} @0x00007fdb8d56f204, Ptr{Nothing} @0x00007fdb402edda0, Ptr{Nothing} @0x00007fdafe9e7b45, Ptr{Nothing} @0x00007fdafea0f2ed, Ptr{Nothing} @0x00007fdafea0f8d4, Ptr{Nothing} @0x00007fdafe9e8193, Ptr{Nothing} @0x00007fdafe9e96ab, Ptr{Nothing} @0x00007fdafe9ed7db, Ptr{Nothing} @0x00007fdafe9e6804, Ptr{Nothing} @0x00007fdafe9e7544, Ptr{Nothing} @0x00007fdb8d5535d6, Ptr{Nothing} @0x00007fdb402e9d15, Ptr{Nothing} @0x00007fdb8d5535d6, Ptr{Nothing} @0x00007fdb402e8610, Ptr{Nothing} @0x00007fdb402e8664, Ptr{Nothing} @0x00007fdb402e7de4, Ptr{Nothing} @0x00007fdb402e840f, Ptr{Nothing} @0x00007fdb8d5535d6, Ptr{Nothing} @0x00007fdb402de7b4, Ptr{Nothing} @0x00007fdb402df16c, Ptr{Nothing} @0x00007fdb402e0d0e, Ptr{Nothing} @0x00007fdb402dd631, Ptr{Nothing} @0x00007fdb8d5535d6, Ptr{Nothing} @0x00007fdb8d56fa92, Ptr{Nothing} @0x0000000000000000])\n",
      "└ @ Revise /home/blandry/.julia/packages/Revise/5wsCa/src/lowered.jl:52\n"
     ]
    }
   ],
   "source": [
    "using Revise\n",
    "using Bilevel\n",
    "\n",
    "using RigidBodyDynamics\n",
    "using MeshCatMechanisms\n",
    "using MeshCat\n",
    "using Plots\n",
    "using LinearAlgebra\n",
    "using StaticArrays\n",
    "using BenchmarkTools\n",
    "using LaTeXStrings"
   ]
  },
  {
   "cell_type": "markdown",
   "metadata": {},
   "source": [
    "# Simulation of sliding box"
   ]
  },
  {
   "cell_type": "code",
   "execution_count": null,
   "metadata": {},
   "outputs": [],
   "source": [
    "urdf = joinpath(\"..\", \"..\", \"urdf\", \"ball2d.urdf\")\n",
    "mechanism = parse_urdf(Float64, urdf)\n",
    "\n",
    "floor = findbody(mechanism, \"floor\")\n",
    "point = Point3D(default_frame(floor), SVector([0.,0.,0.]...))\n",
    "normal = FreeVector3D(default_frame(floor), SVector([0.,0.,1.]...))\n",
    "floor_obs = Obstacle(floor, point, normal, :xyz, 1.)\n",
    "\n",
    "obstacles = [floor_obs]\n",
    "env = Environment(mechanism, urdf, obstacles);"
   ]
  },
  {
   "cell_type": "code",
   "execution_count": null,
   "metadata": {},
   "outputs": [],
   "source": [
    "mvis = MechanismVisualizer(mechanism, URDFVisuals(urdf))\n",
    "# open(mvis)"
   ]
  },
  {
   "cell_type": "code",
   "execution_count": null,
   "metadata": {},
   "outputs": [],
   "source": [
    "N = 10\n",
    "Δt = 0.1\n",
    "q0 = [0., 0.2, 0.]\n",
    "v0 = [8., 0., 0.];"
   ]
  },
  {
   "cell_type": "code",
   "execution_count": null,
   "metadata": {},
   "outputs": [],
   "source": [
    "# Indirect\n",
    "\n",
    "sim_data = get_sim_data_indirect(mechanism,env,Δt,relax_comp=true)\n",
    "null_ctrl! = (u,t,x) -> u[:] .= 0.\n",
    "x0 = MechanismState(mechanism)\n",
    "set_configuration!(x0, q0)\n",
    "set_velocity!(x0, v0)\n",
    "setdirty!(x0)\n",
    "sim_indirect = Bilevel.simulate(sim_data,null_ctrl!,x0,N)"
   ]
  },
  {
   "cell_type": "code",
   "execution_count": null,
   "metadata": {},
   "outputs": [],
   "source": [
    "@benchmark sim_indirect = Bilevel.simulate(sim_data,null_ctrl!,x0,N)"
   ]
  },
  {
   "cell_type": "code",
   "execution_count": null,
   "metadata": {},
   "outputs": [],
   "source": [
    "setanimation!(mvis, sim_indirect[6], sim_indirect[1])"
   ]
  },
  {
   "cell_type": "code",
   "execution_count": null,
   "metadata": {},
   "outputs": [],
   "source": [
    "# Direct (both normal and friction)\n",
    "\n",
    "sim_data = get_sim_data_direct(mechanism,env,Δt)\n",
    "null_ctrl! = (u,t,x) -> u[:] .= 0.\n",
    "x0 = MechanismState(mechanism)\n",
    "set_configuration!(x0, q0)\n",
    "set_velocity!(x0, v0)\n",
    "setdirty!(x0)\n",
    "sim_direct = Bilevel.simulate(sim_data,null_ctrl!,x0,N)"
   ]
  },
  {
   "cell_type": "code",
   "execution_count": null,
   "metadata": {},
   "outputs": [],
   "source": [
    "@benchmark sim_direct = Bilevel.simulate(sim_data,null_ctrl!,x0,N)"
   ]
  },
  {
   "cell_type": "code",
   "execution_count": null,
   "metadata": {},
   "outputs": [],
   "source": [
    "setanimation!(mvis, sim_direct[6], sim_direct[1])"
   ]
  },
  {
   "cell_type": "code",
   "execution_count": null,
   "metadata": {},
   "outputs": [],
   "source": [
    "j = 1\n",
    "plot(sim_indirect[6],sim_indirect[8][j,:],label=\"Indirect\",seriescolor=RGB(((227,74,51) ./ 255.)...),linewidth=0,marker=6)\n",
    "plot!(sim_direct[6],sim_direct[8][j,:],label=\"Direct\",seriescolor=RGB(((254,232,200) ./ 255.)...),linewidth=1,marker=4)"
   ]
  },
  {
   "cell_type": "code",
   "execution_count": null,
   "metadata": {},
   "outputs": [],
   "source": [
    "sim_indirect[1][end]"
   ]
  },
  {
   "cell_type": "markdown",
   "metadata": {},
   "source": [
    "# Trajectory optimization of sliding box"
   ]
  },
  {
   "cell_type": "code",
   "execution_count": 105,
   "metadata": {},
   "outputs": [],
   "source": [
    "urdf = joinpath(\"..\", \"..\", \"urdf\", \"ball2d.urdf\")\n",
    "mechanism = parse_urdf(Float64, urdf)\n",
    "\n",
    "floor = findbody(mechanism, \"floor\")\n",
    "point = Point3D(default_frame(floor), SVector([0.,0.,0.]...))\n",
    "normal = FreeVector3D(default_frame(floor), SVector([0.,0.,1.]...))\n",
    "floor_obs = Obstacle(floor, point, normal, :xyz, 1.)\n",
    "\n",
    "obstacles = [floor_obs]\n",
    "env = Environment(mechanism, urdf, obstacles);"
   ]
  },
  {
   "cell_type": "code",
   "execution_count": 106,
   "metadata": {},
   "outputs": [
    {
     "data": {
      "text/plain": [
       "MechanismVisualizer{MechanismState{Float64,Float64,Float64,TypeSortedCollections.TypeSortedCollection{Tuple{Array{Joint{Float64,Fixed{Float64}},1},Array{Joint{Float64,Planar{Float64}},1}},2}},Visualizer}(MechanismState{Float64, Float64, Float64, …}(…), MeshCat Visualizer with path /meshcat, 2)"
      ]
     },
     "execution_count": 106,
     "metadata": {},
     "output_type": "execute_result"
    }
   ],
   "source": [
    "mvis = MechanismVisualizer(mechanism, URDFVisuals(urdf))\n",
    "# open(mvis)"
   ]
  },
  {
   "cell_type": "code",
   "execution_count": 107,
   "metadata": {},
   "outputs": [
    {
     "data": {
      "text/plain": [
       "get_prob_init (generic function with 1 method)"
      ]
     },
     "execution_count": 107,
     "metadata": {},
     "output_type": "execute_result"
    }
   ],
   "source": [
    "# qN = [3.0, 0., 0.]\n",
    "# N = 10\n",
    "\n",
    "# qN = [3.0, 0., 0.]\n",
    "# N = 15\n",
    "\n",
    "# qN = [3.0, 0., 0.]\n",
    "# N = 20\n",
    "\n",
    "# qN = [3.0, 0., 0.]\n",
    "# N = 25\n",
    "\n",
    "# qN = [5.0, 0., 0.]\n",
    "# N = 30\n",
    "\n",
    "qN = [10.0, 0., 0.]\n",
    "N = 35\n",
    "\n",
    "# qN = [15.0, 0., 0.]\n",
    "# N = 40\n",
    "\n",
    "q1 = [0., 0.2, 0.]\n",
    "Δt = 0.1\n",
    "\n",
    "q_min = [-10., -10., -10.]\n",
    "q_max = [10., 10., 10.]\n",
    "\n",
    "function get_prob_limits(sim_data)\n",
    "    x_min = -1e19*ones(sim_data.vs.num_vars)\n",
    "    x_max = 1e19*ones(sim_data.vs.num_vars)\n",
    "    \n",
    "    # joint limits\n",
    "    add_box_con_snopt!(x_min, x_max, sim_data, :q, q_min, q_max, 1:N)\n",
    "    add_box_con_snopt!(x_min, x_max, sim_data, :h, [Δt], [Δt], 1:N-1)\n",
    "    \n",
    "    # torques limits\n",
    "    add_box_con_snopt!(x_min, x_max, sim_data, :u, zeros(num_velocities(mechanism)), zeros(num_velocities(mechanism)), 1:N-1)\n",
    "\n",
    "    x_min, x_max\n",
    "end\n",
    "\n",
    "function add_prob_constraints!(sim_data)\n",
    "    vs = sim_data.vs\n",
    "\n",
    "    add_eq!(sim_data, :cq1, length(q1), x -> vs(x, :q1) - q1)\n",
    "    add_eq!(sim_data, :cv1, 1, x -> vs(x, :v1)[2])\n",
    "    add_eq!(sim_data, :cqN, 2, x -> vs(x, Symbol(\"q\", N))[1:2] - qN[1:2])\n",
    "    add_eq!(sim_data, :cvN, 1, x -> vs(x, Symbol(\"v\", N))[1])\n",
    "end\n",
    "\n",
    "function get_prob_init(sim_data)\n",
    "    x0 = zeros(sim_data.vs.num_vars)\n",
    "    for n = 1:N\n",
    "        x0[sim_data.vs(Symbol(\"q\", n))] .= n/N*(qN - q1) + q1\n",
    "    end\n",
    "    \n",
    "    x0\n",
    "end"
   ]
  },
  {
   "cell_type": "code",
   "execution_count": 116,
   "metadata": {},
   "outputs": [
    {
     "name": "stdout",
     "output_type": "stream",
     "text": [
      "Finished successfully: optimality conditions satisfied\n",
      " 80.759956 seconds (331.14 M allocations: 53.001 GiB, 23.10% gc time)\n"
     ]
    },
    {
     "data": {
      "text/plain": [
       "(Array{Float64,1}[[0.0, 0.2, 0.0], [1.40156, 0.102315, 0.0573069], [2.71232, 5.21441e-14, 0.114614], [3.83698, -1.75504e-15, 0.171921], [4.86708, 0.0, 0.229228], [5.80277, 5.16988e-26, 0.286535], [6.6442, 0.0, 0.343842], [7.39151, 0.0, 0.401149], [8.04485, 0.0, 0.458456], [8.60438, -4.14664e-18, 0.515763]  …  [10.0, 0.0, 1.43267], [10.0, 0.0, 1.48998], [10.0, 0.0, 1.54729], [10.0, 8.67362e-19, 1.60459], [10.0, 0.0, 1.6619], [10.0, 5.16988e-26, 1.71921], [10.0, 0.0, 1.77652], [10.0, 0.0, 1.83382], [10.0, -4.36328e-19, 1.89113], [10.0, 0.0, 1.94844]], Array{Float64,1}[[14.0957, 0.0, 0.573069], [13.9367, -1.778, 0.573069], [12.9045, -2.51545, 0.573069], [11.0808, -1.92402, 0.573069], [10.0316, -2.34065, 0.573069], [8.9754, -2.64454, 0.573069], [7.92174, -2.8365, 0.573069], [6.87984, -2.91807, 0.573069], [5.8588, -2.89147, 0.573069], [4.86745, -2.7596, 0.573069]  …  [2.44625e-11, -1.76054e-10, 0.573069], [1.11318e-11, -1.37522e-10, 0.573069], [-4.48789e-13, -8.14796e-11, 0.573069], [-8.27051e-13, -4.12028e-11, 0.573069], [-9.86901e-13, -1.89343e-11, 0.573069], [-1.51488e-12, -7.97319e-12, 0.573069], [7.4639e-13, -3.14513e-12, 0.573069], [-2.12075e-12, -1.27765e-12, 0.573069], [-1.84764e-12, -3.04983e-13, 0.573069], [0.0, 2.69033e-13, 0.573069]], Array{Float64,1}[[0.0, 0.0, 0.0], [0.0, 0.0, 0.0], [0.0, 0.0, 0.0], [0.0, 0.0, 0.0], [0.0, 0.0, 0.0], [0.0, 0.0, 0.0], [0.0, 0.0, 0.0], [0.0, 0.0, 0.0], [0.0, 0.0, 0.0], [0.0, 0.0, 0.0]  …  [0.0, 0.0, 0.0], [0.0, 0.0, 0.0], [0.0, 0.0, 0.0], [0.0, 0.0, 0.0], [0.0, 0.0, 0.0], [0.0, 0.0, 0.0], [0.0, 0.0, 0.0], [0.0, 0.0, 0.0], [0.0, 0.0, 0.0], [0.0, 0.0, 0.0]], [0.1, 0.1, 0.1, 0.1, 0.1, 0.1, 0.1, 0.1, 0.1, 0.1  …  0.1, 0.1, 0.1, 0.1, 0.1, 0.1, 0.1, 0.1, 0.1, 0.1], Array{Float64,1}[[8.92957e-15], [0.898572], [1.93296], [0.945119], [0.945176], [0.945233], [0.94529], [0.945348], [0.945405], [0.945462]  …  [1.0], [1.0], [1.0], [1.0], [1.0], [1.0], [1.0], [1.0], [1.0], [1.0]], Array{Float64,1}[], [0.0, 0.1, 0.2, 0.3, 0.4, 0.5, 0.6, 0.7, 0.8, 0.9  …  2.5, 2.6, 2.7, 2.8, 2.9, 3.0, 3.1, 3.2, 3.3, 3.4], [0.0 1.40156 … 10.0 10.0; 0.2 0.102315 … -4.36328e-19 0.0; … ; 0.0 -1.778 … -3.04983e-13 2.69033e-13; 0.573069 0.573069 … 0.573069 0.573069], [0.0, 0.2, 0.0, 14.0957, 0.0, 0.573069, 0.0, 0.0, 0.0, 0.1  …  0.0, 0.0, 0.1, 1.0, 10.0, 0.0, 1.94844, 0.0, 2.69033e-13, 0.573069])"
      ]
     },
     "execution_count": 116,
     "metadata": {},
     "output_type": "execute_result"
    }
   ],
   "source": [
    "# Semidirect\n",
    "con_tol = 1e-5\n",
    "obj_tol = 1e-5\n",
    "max_iter = 5000\n",
    "\n",
    "sim_data = get_trajopt_data_semidirect(mechanism,env,Δt,N,relax_comp=false)\n",
    "add_prob_constraints!(sim_data)\n",
    "x_min, x_max = get_prob_limits(sim_data)\n",
    "x0 = get_prob_init(sim_data)\n",
    "@time traj_semidirect = Bilevel.trajopt(sim_data, x0=x0, x_min=x_min, x_max=x_max, verbose=1, opt_tol=obj_tol, major_feas=con_tol, minor_feas=con_tol, max_iter=max_iter)"
   ]
  },
  {
   "cell_type": "code",
   "execution_count": null,
   "metadata": {},
   "outputs": [],
   "source": [
    "function run_trajopt()\n",
    "    Bilevel.solve_rosenbrock() # clearing SNOPT\n",
    "    Bilevel.trajopt(sim_data, x0=x0, x_min=x_min, x_max=x_max, verbose=0, opt_tol=obj_tol, major_feas=con_tol, minor_feas=con_tol, max_iter=max_iter)\n",
    "end\n",
    "\n",
    "@benchmark run_trajopt()"
   ]
  },
  {
   "cell_type": "code",
   "execution_count": 66,
   "metadata": {},
   "outputs": [],
   "source": [
    "Bilevel.solve_rosenbrock(); # clearing SNOPT"
   ]
  },
  {
   "cell_type": "code",
   "execution_count": 109,
   "metadata": {},
   "outputs": [
    {
     "name": "stdout",
     "output_type": "stream",
     "text": [
      "Finished successfully: optimality conditions satisfied\n",
      " 23.217385 seconds (150.17 M allocations: 19.188 GiB, 28.92% gc time)\n"
     ]
    },
    {
     "data": {
      "text/plain": [
       "(Array{Float64,1}[[0.0, 0.2, 0.0], [1.44919, 0.101922, -0.0155368], [2.80253, 2.0754e-7, -0.0310736], [3.95093, 0.0, -0.0466104], [4.99954, -1.3489e-13, -0.0621471], [5.94838, 7.14919e-15, -0.0776839], [6.79745, 4.9131e-15, -0.0932207], [7.54678, -1.03398e-25, -0.108758], [8.19636, 0.0, -0.124294], [8.74621, 7.08986e-14, -0.139831]  …  [10.0, 6.40878e-19, -0.38842], [10.0, 4.12626e-14, -0.403956], [10.0, 3.14795e-14, -0.419493], [10.0, -6.79304e-14, -0.43503], [10.0, 1.45937e-13, -0.450567], [10.0, -1.8791e-13, -0.466104], [10.0, 0.0, -0.48164], [10.0, 0.0, -0.497177], [10.0, 0.0, -0.512714], [10.0, 0.0, -0.528251]], Array{Float64,1}[[14.4784, 0.0, -0.155368], [14.5054, -0.755515, -0.155368], [13.5585, -0.598261, -0.155368], [11.4715, 0.535078, -0.155368], [10.4659, 0.651264, -0.155368], [9.45976, 0.736353, -0.155368], [8.45387, 0.790366, -0.155368], [7.44894, 0.813338, -0.155368], [6.44571, 0.805316, -0.155368], [5.44488, 0.766364, -0.155368]  …  [-7.0912e-8, 3.63551e-8, -0.155368], [-3.52306e-8, -1.24458e-8, -0.155368], [-2.07584e-6, 1.57672e-6, -0.155368], [-4.95623e-8, 2.65814e-8, -0.155368], [-6.30365e-8, -2.91091e-8, -0.155368], [-1.90457e-9, -9.24112e-10, -0.155368], [-2.08716e-11, -8.26528e-12, -0.155368], [-2.06405e-14, 1.67642e-12, -0.155368], [-1.3692e-12, 8.208e-13, -0.155368], [0.0, 4.83332e-14, -0.155368]], Array{Float64,1}[[0.0, 0.0, 0.0], [0.0, 0.0, 0.0], [0.0, 0.0, 0.0], [0.0, 0.0, 0.0], [0.0, 0.0, 0.0], [0.0, 0.0, 0.0], [0.0, 0.0, 0.0], [0.0, 0.0, 0.0], [0.0, 0.0, 0.0], [0.0, 0.0, 0.0]  …  [0.0, 0.0, 0.0], [0.0, 0.0, 0.0], [0.0, 0.0, 0.0], [0.0, 0.0, 0.0], [0.0, 0.0, 0.0], [0.0, 0.0, 0.0], [0.0, 0.0, 0.0], [0.0, 0.0, 0.0], [0.0, 0.0, 0.0], [0.0, 0.0, 0.0]], [0.1, 0.1, 0.1, 0.1, 0.1, 0.1, 0.1, 0.1, 0.1, 0.1  …  0.1, 0.1, 0.1, 0.1, 0.1, 0.1, 0.1, 0.1, 0.1, 0.1], Array{Float64,1}[[-1.48902e-15, -6.84516e-16, 7.71436e-16, -2.92739e-21, 7.71436e-16, 14.4919], [0.975871, 1.92605e-15, 4.0173e-18, 0.975871, 3.85613e-15, 13.5334], [2.07128, 0.0, 0.0, 2.07128, 5.55112e-17, 11.484], [1.0158, 2.7876e-22, -2.77556e-17, 1.0158, 0.0, 10.4861], [1.0158, -2.6893e-18, 0.0, 1.0158, 0.0, 9.48837], [1.01579, 2.92962e-18, 8.32667e-17, 1.01579, 0.0, 8.49073], [1.01579, 0.0, 0.0, 1.01579, 0.0, 7.49321], [1.01579, 0.0, -5.59448e-17, 1.01579, 0.0, 6.49582], [1.01579, 0.0, 0.0, 1.01579, 0.0, 5.49854], [1.01581, 0.0, -3.29597e-17, 1.01581, 0.0, 4.50137]  …  [1.0, 0.166058, 0.311775, 0.166058, 0.311774, 8.67362e-19], [1.0, 0.232058, 0.264724, 0.232058, 0.264724, 1.11173e-19], [1.0, 0.4225, 0.0775054, 0.422502, 0.0774924, -2.16629e-19], [1.0, 0.17665, 0.323511, 0.176649, 0.32319, -5.90038e-22], [1.0, 0.000356613, 0.498657, 0.000356646, 0.491389, -5.73998e-20], [1.0, 0.052694, 0.447306, 0.0526939, 0.447306, 0.0], [1.0, 0.108052, 0.391186, 0.108052, 0.390793, 1.69407e-21], [1.0, 0.28862, 0.21145, 0.28862, 0.21131, 7.73141e-16], [1.0, 0.107542, 0.379122, 0.107542, 0.379875, 0.0], [1.0, 0.327878, -8.57569e-18, 0.327878, 3.60934e-17, -1.71974e-14]], Array{Float64,1}[[0.0, -1.98899e-14, 0.0], [0.0, 4.50181e-14, -6.37281e-16], [0.0, 2.22045e-16, 0.0], [0.0, 0.0, 0.0], [0.0, 0.0, 0.0], [0.0, 0.0, 0.0], [0.0, 0.0, 0.0], [0.0, 0.0, 0.0], [0.0, 0.0, -1.35525e-20], [0.0, 0.0, 0.0]  …  [0.0, -2.16797e-8, 0.0], [0.0, 3.24437e-9, 0.0], [0.0, 0.0, 0.0], [0.0, 4.21874e-8, -2.1684e-19], [0.0, 4.2524e-10, 0.0], [0.0, 3.7857e-11, 0.0], [0.0, 8.43552e-14, 0.0], [0.0, 2.23095e-16, 0.0], [0.0, 2.31231e-26, 0.0], [0.0, 0.0, 0.0]], [0.0, 0.1, 0.2, 0.3, 0.4, 0.5, 0.6, 0.7, 0.8, 0.9  …  2.5, 2.6, 2.7, 2.8, 2.9, 3.0, 3.1, 3.2, 3.3, 3.4], [0.0 1.44919 … 10.0 10.0; 0.2 0.101922 … 0.0 0.0; … ; 0.0 -0.755515 … 8.208e-13 4.83332e-14; -0.155368 -0.155368 … -0.155368 -0.155368], [0.0, 0.2, 0.0, 14.4784, 0.0, -0.155368, 0.0, 0.0, 0.0, 0.1  …  0.327878, 3.60934e-17, -1.71974e-14, 1.0, 10.0, 0.0, -0.528251, 0.0, 4.83332e-14, -0.155368])"
      ]
     },
     "execution_count": 109,
     "metadata": {},
     "output_type": "execute_result"
    }
   ],
   "source": [
    "# Indirect\n",
    "con_tol = 1e-5\n",
    "obj_tol = 1e-5\n",
    "max_iter = 5000\n",
    "\n",
    "sim_data = get_trajopt_data_indirect(mechanism,env,Δt,N,relax_comp=true)\n",
    "add_prob_constraints!(sim_data)\n",
    "x_min, x_max = get_prob_limits(sim_data)\n",
    "x0 = get_prob_init(sim_data)\n",
    "\n",
    "@time traj_indirect = Bilevel.trajopt(sim_data, x0=x0, x_min=x_min, x_max=x_max, verbose=1, opt_tol=obj_tol, major_feas=con_tol, minor_feas=con_tol, max_iter=max_iter)"
   ]
  },
  {
   "cell_type": "code",
   "execution_count": null,
   "metadata": {},
   "outputs": [],
   "source": [
    "function run_trajopt()\n",
    "    Bilevel.solve_rosenbrock() # clearing SNOPT\n",
    "    Bilevel.trajopt(sim_data, x0=x0, x_min=x_min, x_max=x_max, verbose=0, opt_tol=obj_tol, major_feas=con_tol, minor_feas=con_tol, max_iter=max_iter)\n",
    "end\n",
    "\n",
    "@benchmark run_trajopt()"
   ]
  },
  {
   "cell_type": "code",
   "execution_count": 127,
   "metadata": {},
   "outputs": [
    {
     "data": {
      "text/plain": [
       "Plots.Font(\"Helvetica\", 14, :hcenter, :vcenter, 0.0, RGB{N0f8}(0.0,0.0,0.0))"
      ]
     },
     "execution_count": 127,
     "metadata": {},
     "output_type": "execute_result"
    }
   ],
   "source": [
    "font = Plots.font(\"Helvetica\", 14)"
   ]
  },
  {
   "cell_type": "code",
   "execution_count": 142,
   "metadata": {},
   "outputs": [
    {
     "data": {
      "image/svg+xml": [
       "<?xml version=\"1.0\" encoding=\"utf-8\"?>\n",
       "<svg xmlns=\"http://www.w3.org/2000/svg\" xmlns:xlink=\"http://www.w3.org/1999/xlink\" width=\"600\" height=\"400\" viewBox=\"0 0 2400 1600\">\n",
       "<defs>\n",
       "  <clipPath id=\"clip2600\">\n",
       "    <rect x=\"0\" y=\"0\" width=\"2400\" height=\"1600\"/>\n",
       "  </clipPath>\n",
       "</defs>\n",
       "<polygon clip-path=\"url(#clip2600)\" points=\"\n",
       "0,1600 2400,1600 2400,0 0,0 \n",
       "  \" fill=\"#ffffff\" fill-rule=\"evenodd\" fill-opacity=\"1\"/>\n",
       "<defs>\n",
       "  <clipPath id=\"clip2601\">\n",
       "    <rect x=\"480\" y=\"0\" width=\"1681\" height=\"1600\"/>\n",
       "  </clipPath>\n",
       "</defs>\n",
       "<polygon clip-path=\"url(#clip2600)\" points=\"\n",
       "312.768,1400.47 2352.76,1400.47 2352.76,47.2441 312.768,47.2441 \n",
       "  \" fill=\"#ffffff\" fill-rule=\"evenodd\" fill-opacity=\"1\"/>\n",
       "<defs>\n",
       "  <clipPath id=\"clip2602\">\n",
       "    <rect x=\"312\" y=\"47\" width=\"2041\" height=\"1354\"/>\n",
       "  </clipPath>\n",
       "</defs>\n",
       "<polyline clip-path=\"url(#clip2602)\" style=\"stroke:#000000; stroke-width:2; stroke-opacity:0.1; fill:none\" points=\"\n",
       "  370.503,1400.47 370.503,47.2441 \n",
       "  \"/>\n",
       "<polyline clip-path=\"url(#clip2602)\" style=\"stroke:#000000; stroke-width:2; stroke-opacity:0.1; fill:none\" points=\"\n",
       "  936.538,1400.47 936.538,47.2441 \n",
       "  \"/>\n",
       "<polyline clip-path=\"url(#clip2602)\" style=\"stroke:#000000; stroke-width:2; stroke-opacity:0.1; fill:none\" points=\"\n",
       "  1502.57,1400.47 1502.57,47.2441 \n",
       "  \"/>\n",
       "<polyline clip-path=\"url(#clip2602)\" style=\"stroke:#000000; stroke-width:2; stroke-opacity:0.1; fill:none\" points=\"\n",
       "  2068.61,1400.47 2068.61,47.2441 \n",
       "  \"/>\n",
       "<polyline clip-path=\"url(#clip2602)\" style=\"stroke:#000000; stroke-width:2; stroke-opacity:0.1; fill:none\" points=\"\n",
       "  312.768,1362.17 2352.76,1362.17 \n",
       "  \"/>\n",
       "<polyline clip-path=\"url(#clip2602)\" style=\"stroke:#000000; stroke-width:2; stroke-opacity:0.1; fill:none\" points=\"\n",
       "  312.768,1043.01 2352.76,1043.01 \n",
       "  \"/>\n",
       "<polyline clip-path=\"url(#clip2602)\" style=\"stroke:#000000; stroke-width:2; stroke-opacity:0.1; fill:none\" points=\"\n",
       "  312.768,723.856 2352.76,723.856 \n",
       "  \"/>\n",
       "<polyline clip-path=\"url(#clip2602)\" style=\"stroke:#000000; stroke-width:2; stroke-opacity:0.1; fill:none\" points=\"\n",
       "  312.768,404.7 2352.76,404.7 \n",
       "  \"/>\n",
       "<polyline clip-path=\"url(#clip2602)\" style=\"stroke:#000000; stroke-width:2; stroke-opacity:0.1; fill:none\" points=\"\n",
       "  312.768,85.543 2352.76,85.543 \n",
       "  \"/>\n",
       "<polyline clip-path=\"url(#clip2600)\" style=\"stroke:#000000; stroke-width:4; stroke-opacity:1; fill:none\" points=\"\n",
       "  312.768,1400.47 2352.76,1400.47 \n",
       "  \"/>\n",
       "<polyline clip-path=\"url(#clip2600)\" style=\"stroke:#000000; stroke-width:4; stroke-opacity:1; fill:none\" points=\"\n",
       "  312.768,1400.47 312.768,47.2441 \n",
       "  \"/>\n",
       "<polyline clip-path=\"url(#clip2600)\" style=\"stroke:#000000; stroke-width:4; stroke-opacity:1; fill:none\" points=\"\n",
       "  370.503,1400.47 370.503,1380.17 \n",
       "  \"/>\n",
       "<polyline clip-path=\"url(#clip2600)\" style=\"stroke:#000000; stroke-width:4; stroke-opacity:1; fill:none\" points=\"\n",
       "  936.538,1400.47 936.538,1380.17 \n",
       "  \"/>\n",
       "<polyline clip-path=\"url(#clip2600)\" style=\"stroke:#000000; stroke-width:4; stroke-opacity:1; fill:none\" points=\"\n",
       "  1502.57,1400.47 1502.57,1380.17 \n",
       "  \"/>\n",
       "<polyline clip-path=\"url(#clip2600)\" style=\"stroke:#000000; stroke-width:4; stroke-opacity:1; fill:none\" points=\"\n",
       "  2068.61,1400.47 2068.61,1380.17 \n",
       "  \"/>\n",
       "<polyline clip-path=\"url(#clip2600)\" style=\"stroke:#000000; stroke-width:4; stroke-opacity:1; fill:none\" points=\"\n",
       "  312.768,1362.17 343.367,1362.17 \n",
       "  \"/>\n",
       "<polyline clip-path=\"url(#clip2600)\" style=\"stroke:#000000; stroke-width:4; stroke-opacity:1; fill:none\" points=\"\n",
       "  312.768,1043.01 343.367,1043.01 \n",
       "  \"/>\n",
       "<polyline clip-path=\"url(#clip2600)\" style=\"stroke:#000000; stroke-width:4; stroke-opacity:1; fill:none\" points=\"\n",
       "  312.768,723.856 343.367,723.856 \n",
       "  \"/>\n",
       "<polyline clip-path=\"url(#clip2600)\" style=\"stroke:#000000; stroke-width:4; stroke-opacity:1; fill:none\" points=\"\n",
       "  312.768,404.7 343.367,404.7 \n",
       "  \"/>\n",
       "<polyline clip-path=\"url(#clip2600)\" style=\"stroke:#000000; stroke-width:4; stroke-opacity:1; fill:none\" points=\"\n",
       "  312.768,85.543 343.367,85.543 \n",
       "  \"/>\n",
       "<g clip-path=\"url(#clip2600)\">\n",
       "<text style=\"fill:#000000; fill-opacity:1; font-family:Arial,Helvetica Neue,Helvetica,sans-serif; font-size:84px; text-anchor:middle;\" transform=\"rotate(0, 370.503, 1485.67)\" x=\"370.503\" y=\"1485.67\">0</text>\n",
       "</g>\n",
       "<g clip-path=\"url(#clip2600)\">\n",
       "<text style=\"fill:#000000; fill-opacity:1; font-family:Arial,Helvetica Neue,Helvetica,sans-serif; font-size:84px; text-anchor:middle;\" transform=\"rotate(0, 936.538, 1485.67)\" x=\"936.538\" y=\"1485.67\">1</text>\n",
       "</g>\n",
       "<g clip-path=\"url(#clip2600)\">\n",
       "<text style=\"fill:#000000; fill-opacity:1; font-family:Arial,Helvetica Neue,Helvetica,sans-serif; font-size:84px; text-anchor:middle;\" transform=\"rotate(0, 1502.57, 1485.67)\" x=\"1502.57\" y=\"1485.67\">2</text>\n",
       "</g>\n",
       "<g clip-path=\"url(#clip2600)\">\n",
       "<text style=\"fill:#000000; fill-opacity:1; font-family:Arial,Helvetica Neue,Helvetica,sans-serif; font-size:84px; text-anchor:middle;\" transform=\"rotate(0, 2068.61, 1485.67)\" x=\"2068.61\" y=\"1485.67\">3</text>\n",
       "</g>\n",
       "<g clip-path=\"url(#clip2600)\">\n",
       "<text style=\"fill:#000000; fill-opacity:1; font-family:Arial,Helvetica Neue,Helvetica,sans-serif; font-size:84px; text-anchor:end;\" transform=\"rotate(0, 288.768, 1392.67)\" x=\"288.768\" y=\"1392.67\">0.0</text>\n",
       "</g>\n",
       "<g clip-path=\"url(#clip2600)\">\n",
       "<text style=\"fill:#000000; fill-opacity:1; font-family:Arial,Helvetica Neue,Helvetica,sans-serif; font-size:84px; text-anchor:end;\" transform=\"rotate(0, 288.768, 1073.51)\" x=\"288.768\" y=\"1073.51\">2.5</text>\n",
       "</g>\n",
       "<g clip-path=\"url(#clip2600)\">\n",
       "<text style=\"fill:#000000; fill-opacity:1; font-family:Arial,Helvetica Neue,Helvetica,sans-serif; font-size:84px; text-anchor:end;\" transform=\"rotate(0, 288.768, 754.356)\" x=\"288.768\" y=\"754.356\">5.0</text>\n",
       "</g>\n",
       "<g clip-path=\"url(#clip2600)\">\n",
       "<text style=\"fill:#000000; fill-opacity:1; font-family:Arial,Helvetica Neue,Helvetica,sans-serif; font-size:84px; text-anchor:end;\" transform=\"rotate(0, 288.768, 435.2)\" x=\"288.768\" y=\"435.2\">7.5</text>\n",
       "</g>\n",
       "<g clip-path=\"url(#clip2600)\">\n",
       "<text style=\"fill:#000000; fill-opacity:1; font-family:Arial,Helvetica Neue,Helvetica,sans-serif; font-size:84px; text-anchor:end;\" transform=\"rotate(0, 288.768, 116.043)\" x=\"288.768\" y=\"116.043\">10.0</text>\n",
       "</g>\n",
       "<g clip-path=\"url(#clip2600)\">\n",
       "<text style=\"fill:#000000; fill-opacity:1; font-family:Arial,Helvetica Neue,Helvetica,sans-serif; font-size:66px; text-anchor:middle;\" transform=\"rotate(0, 1332.76, 1572.06)\" x=\"1332.76\" y=\"1572.06\">time</text>\n",
       "</g>\n",
       "<g clip-path=\"url(#clip2600)\">\n",
       "<text style=\"fill:#000000; fill-opacity:1; font-family:Arial,Helvetica Neue,Helvetica,sans-serif; font-size:66px; text-anchor:middle;\" transform=\"rotate(-90, 89.2861, 723.856)\" x=\"89.2861\" y=\"723.856\">horizontal position</text>\n",
       "</g>\n",
       "<polyline clip-path=\"url(#clip2602)\" style=\"stroke:#e34a33; stroke-width:24; stroke-opacity:1; fill:none\" points=\"\n",
       "  370.503,1362.17 427.107,1177.16 483.71,1004.39 540.313,857.783 596.917,723.915 653.52,602.783 710.124,494.389 766.727,398.728 823.331,315.801 879.934,245.605 \n",
       "  936.538,188.139 993.141,143.401 1049.74,111.391 1106.35,92.105 1162.95,85.5432 1219.55,85.543 1276.16,85.543 1332.76,85.543 1389.37,85.543 1445.97,85.543 \n",
       "  1502.57,85.543 1559.18,85.543 1615.78,85.543 1672.38,85.543 1728.99,85.543 1785.59,85.543 1842.19,85.543 1898.8,85.543 1955.4,85.543 2012,85.543 \n",
       "  2068.61,85.543 2125.21,85.543 2181.81,85.543 2238.42,85.543 2295.02,85.543 \n",
       "  \"/>\n",
       "<circle clip-path=\"url(#clip2602)\" style=\"fill:#000000; stroke:none; fill-opacity:1\" cx=\"370.503\" cy=\"1362.17\" r=\"25\"/>\n",
       "<circle clip-path=\"url(#clip2602)\" style=\"fill:#e34a33; stroke:none; fill-opacity:1\" cx=\"370.503\" cy=\"1362.17\" r=\"21\"/>\n",
       "<circle clip-path=\"url(#clip2602)\" style=\"fill:#000000; stroke:none; fill-opacity:1\" cx=\"427.107\" cy=\"1177.16\" r=\"25\"/>\n",
       "<circle clip-path=\"url(#clip2602)\" style=\"fill:#e34a33; stroke:none; fill-opacity:1\" cx=\"427.107\" cy=\"1177.16\" r=\"21\"/>\n",
       "<circle clip-path=\"url(#clip2602)\" style=\"fill:#000000; stroke:none; fill-opacity:1\" cx=\"483.71\" cy=\"1004.39\" r=\"25\"/>\n",
       "<circle clip-path=\"url(#clip2602)\" style=\"fill:#e34a33; stroke:none; fill-opacity:1\" cx=\"483.71\" cy=\"1004.39\" r=\"21\"/>\n",
       "<circle clip-path=\"url(#clip2602)\" style=\"fill:#000000; stroke:none; fill-opacity:1\" cx=\"540.313\" cy=\"857.783\" r=\"25\"/>\n",
       "<circle clip-path=\"url(#clip2602)\" style=\"fill:#e34a33; stroke:none; fill-opacity:1\" cx=\"540.313\" cy=\"857.783\" r=\"21\"/>\n",
       "<circle clip-path=\"url(#clip2602)\" style=\"fill:#000000; stroke:none; fill-opacity:1\" cx=\"596.917\" cy=\"723.915\" r=\"25\"/>\n",
       "<circle clip-path=\"url(#clip2602)\" style=\"fill:#e34a33; stroke:none; fill-opacity:1\" cx=\"596.917\" cy=\"723.915\" r=\"21\"/>\n",
       "<circle clip-path=\"url(#clip2602)\" style=\"fill:#000000; stroke:none; fill-opacity:1\" cx=\"653.52\" cy=\"602.783\" r=\"25\"/>\n",
       "<circle clip-path=\"url(#clip2602)\" style=\"fill:#e34a33; stroke:none; fill-opacity:1\" cx=\"653.52\" cy=\"602.783\" r=\"21\"/>\n",
       "<circle clip-path=\"url(#clip2602)\" style=\"fill:#000000; stroke:none; fill-opacity:1\" cx=\"710.124\" cy=\"494.389\" r=\"25\"/>\n",
       "<circle clip-path=\"url(#clip2602)\" style=\"fill:#e34a33; stroke:none; fill-opacity:1\" cx=\"710.124\" cy=\"494.389\" r=\"21\"/>\n",
       "<circle clip-path=\"url(#clip2602)\" style=\"fill:#000000; stroke:none; fill-opacity:1\" cx=\"766.727\" cy=\"398.728\" r=\"25\"/>\n",
       "<circle clip-path=\"url(#clip2602)\" style=\"fill:#e34a33; stroke:none; fill-opacity:1\" cx=\"766.727\" cy=\"398.728\" r=\"21\"/>\n",
       "<circle clip-path=\"url(#clip2602)\" style=\"fill:#000000; stroke:none; fill-opacity:1\" cx=\"823.331\" cy=\"315.801\" r=\"25\"/>\n",
       "<circle clip-path=\"url(#clip2602)\" style=\"fill:#e34a33; stroke:none; fill-opacity:1\" cx=\"823.331\" cy=\"315.801\" r=\"21\"/>\n",
       "<circle clip-path=\"url(#clip2602)\" style=\"fill:#000000; stroke:none; fill-opacity:1\" cx=\"879.934\" cy=\"245.605\" r=\"25\"/>\n",
       "<circle clip-path=\"url(#clip2602)\" style=\"fill:#e34a33; stroke:none; fill-opacity:1\" cx=\"879.934\" cy=\"245.605\" r=\"21\"/>\n",
       "<circle clip-path=\"url(#clip2602)\" style=\"fill:#000000; stroke:none; fill-opacity:1\" cx=\"936.538\" cy=\"188.139\" r=\"25\"/>\n",
       "<circle clip-path=\"url(#clip2602)\" style=\"fill:#e34a33; stroke:none; fill-opacity:1\" cx=\"936.538\" cy=\"188.139\" r=\"21\"/>\n",
       "<circle clip-path=\"url(#clip2602)\" style=\"fill:#000000; stroke:none; fill-opacity:1\" cx=\"993.141\" cy=\"143.401\" r=\"25\"/>\n",
       "<circle clip-path=\"url(#clip2602)\" style=\"fill:#e34a33; stroke:none; fill-opacity:1\" cx=\"993.141\" cy=\"143.401\" r=\"21\"/>\n",
       "<circle clip-path=\"url(#clip2602)\" style=\"fill:#000000; stroke:none; fill-opacity:1\" cx=\"1049.74\" cy=\"111.391\" r=\"25\"/>\n",
       "<circle clip-path=\"url(#clip2602)\" style=\"fill:#e34a33; stroke:none; fill-opacity:1\" cx=\"1049.74\" cy=\"111.391\" r=\"21\"/>\n",
       "<circle clip-path=\"url(#clip2602)\" style=\"fill:#000000; stroke:none; fill-opacity:1\" cx=\"1106.35\" cy=\"92.105\" r=\"25\"/>\n",
       "<circle clip-path=\"url(#clip2602)\" style=\"fill:#e34a33; stroke:none; fill-opacity:1\" cx=\"1106.35\" cy=\"92.105\" r=\"21\"/>\n",
       "<circle clip-path=\"url(#clip2602)\" style=\"fill:#000000; stroke:none; fill-opacity:1\" cx=\"1162.95\" cy=\"85.5432\" r=\"25\"/>\n",
       "<circle clip-path=\"url(#clip2602)\" style=\"fill:#e34a33; stroke:none; fill-opacity:1\" cx=\"1162.95\" cy=\"85.5432\" r=\"21\"/>\n",
       "<circle clip-path=\"url(#clip2602)\" style=\"fill:#000000; stroke:none; fill-opacity:1\" cx=\"1219.55\" cy=\"85.543\" r=\"25\"/>\n",
       "<circle clip-path=\"url(#clip2602)\" style=\"fill:#e34a33; stroke:none; fill-opacity:1\" cx=\"1219.55\" cy=\"85.543\" r=\"21\"/>\n",
       "<circle clip-path=\"url(#clip2602)\" style=\"fill:#000000; stroke:none; fill-opacity:1\" cx=\"1276.16\" cy=\"85.543\" r=\"25\"/>\n",
       "<circle clip-path=\"url(#clip2602)\" style=\"fill:#e34a33; stroke:none; fill-opacity:1\" cx=\"1276.16\" cy=\"85.543\" r=\"21\"/>\n",
       "<circle clip-path=\"url(#clip2602)\" style=\"fill:#000000; stroke:none; fill-opacity:1\" cx=\"1332.76\" cy=\"85.543\" r=\"25\"/>\n",
       "<circle clip-path=\"url(#clip2602)\" style=\"fill:#e34a33; stroke:none; fill-opacity:1\" cx=\"1332.76\" cy=\"85.543\" r=\"21\"/>\n",
       "<circle clip-path=\"url(#clip2602)\" style=\"fill:#000000; stroke:none; fill-opacity:1\" cx=\"1389.37\" cy=\"85.543\" r=\"25\"/>\n",
       "<circle clip-path=\"url(#clip2602)\" style=\"fill:#e34a33; stroke:none; fill-opacity:1\" cx=\"1389.37\" cy=\"85.543\" r=\"21\"/>\n",
       "<circle clip-path=\"url(#clip2602)\" style=\"fill:#000000; stroke:none; fill-opacity:1\" cx=\"1445.97\" cy=\"85.543\" r=\"25\"/>\n",
       "<circle clip-path=\"url(#clip2602)\" style=\"fill:#e34a33; stroke:none; fill-opacity:1\" cx=\"1445.97\" cy=\"85.543\" r=\"21\"/>\n",
       "<circle clip-path=\"url(#clip2602)\" style=\"fill:#000000; stroke:none; fill-opacity:1\" cx=\"1502.57\" cy=\"85.543\" r=\"25\"/>\n",
       "<circle clip-path=\"url(#clip2602)\" style=\"fill:#e34a33; stroke:none; fill-opacity:1\" cx=\"1502.57\" cy=\"85.543\" r=\"21\"/>\n",
       "<circle clip-path=\"url(#clip2602)\" style=\"fill:#000000; stroke:none; fill-opacity:1\" cx=\"1559.18\" cy=\"85.543\" r=\"25\"/>\n",
       "<circle clip-path=\"url(#clip2602)\" style=\"fill:#e34a33; stroke:none; fill-opacity:1\" cx=\"1559.18\" cy=\"85.543\" r=\"21\"/>\n",
       "<circle clip-path=\"url(#clip2602)\" style=\"fill:#000000; stroke:none; fill-opacity:1\" cx=\"1615.78\" cy=\"85.543\" r=\"25\"/>\n",
       "<circle clip-path=\"url(#clip2602)\" style=\"fill:#e34a33; stroke:none; fill-opacity:1\" cx=\"1615.78\" cy=\"85.543\" r=\"21\"/>\n",
       "<circle clip-path=\"url(#clip2602)\" style=\"fill:#000000; stroke:none; fill-opacity:1\" cx=\"1672.38\" cy=\"85.543\" r=\"25\"/>\n",
       "<circle clip-path=\"url(#clip2602)\" style=\"fill:#e34a33; stroke:none; fill-opacity:1\" cx=\"1672.38\" cy=\"85.543\" r=\"21\"/>\n",
       "<circle clip-path=\"url(#clip2602)\" style=\"fill:#000000; stroke:none; fill-opacity:1\" cx=\"1728.99\" cy=\"85.543\" r=\"25\"/>\n",
       "<circle clip-path=\"url(#clip2602)\" style=\"fill:#e34a33; stroke:none; fill-opacity:1\" cx=\"1728.99\" cy=\"85.543\" r=\"21\"/>\n",
       "<circle clip-path=\"url(#clip2602)\" style=\"fill:#000000; stroke:none; fill-opacity:1\" cx=\"1785.59\" cy=\"85.543\" r=\"25\"/>\n",
       "<circle clip-path=\"url(#clip2602)\" style=\"fill:#e34a33; stroke:none; fill-opacity:1\" cx=\"1785.59\" cy=\"85.543\" r=\"21\"/>\n",
       "<circle clip-path=\"url(#clip2602)\" style=\"fill:#000000; stroke:none; fill-opacity:1\" cx=\"1842.19\" cy=\"85.543\" r=\"25\"/>\n",
       "<circle clip-path=\"url(#clip2602)\" style=\"fill:#e34a33; stroke:none; fill-opacity:1\" cx=\"1842.19\" cy=\"85.543\" r=\"21\"/>\n",
       "<circle clip-path=\"url(#clip2602)\" style=\"fill:#000000; stroke:none; fill-opacity:1\" cx=\"1898.8\" cy=\"85.543\" r=\"25\"/>\n",
       "<circle clip-path=\"url(#clip2602)\" style=\"fill:#e34a33; stroke:none; fill-opacity:1\" cx=\"1898.8\" cy=\"85.543\" r=\"21\"/>\n",
       "<circle clip-path=\"url(#clip2602)\" style=\"fill:#000000; stroke:none; fill-opacity:1\" cx=\"1955.4\" cy=\"85.543\" r=\"25\"/>\n",
       "<circle clip-path=\"url(#clip2602)\" style=\"fill:#e34a33; stroke:none; fill-opacity:1\" cx=\"1955.4\" cy=\"85.543\" r=\"21\"/>\n",
       "<circle clip-path=\"url(#clip2602)\" style=\"fill:#000000; stroke:none; fill-opacity:1\" cx=\"2012\" cy=\"85.543\" r=\"25\"/>\n",
       "<circle clip-path=\"url(#clip2602)\" style=\"fill:#e34a33; stroke:none; fill-opacity:1\" cx=\"2012\" cy=\"85.543\" r=\"21\"/>\n",
       "<circle clip-path=\"url(#clip2602)\" style=\"fill:#000000; stroke:none; fill-opacity:1\" cx=\"2068.61\" cy=\"85.543\" r=\"25\"/>\n",
       "<circle clip-path=\"url(#clip2602)\" style=\"fill:#e34a33; stroke:none; fill-opacity:1\" cx=\"2068.61\" cy=\"85.543\" r=\"21\"/>\n",
       "<circle clip-path=\"url(#clip2602)\" style=\"fill:#000000; stroke:none; fill-opacity:1\" cx=\"2125.21\" cy=\"85.543\" r=\"25\"/>\n",
       "<circle clip-path=\"url(#clip2602)\" style=\"fill:#e34a33; stroke:none; fill-opacity:1\" cx=\"2125.21\" cy=\"85.543\" r=\"21\"/>\n",
       "<circle clip-path=\"url(#clip2602)\" style=\"fill:#000000; stroke:none; fill-opacity:1\" cx=\"2181.81\" cy=\"85.543\" r=\"25\"/>\n",
       "<circle clip-path=\"url(#clip2602)\" style=\"fill:#e34a33; stroke:none; fill-opacity:1\" cx=\"2181.81\" cy=\"85.543\" r=\"21\"/>\n",
       "<circle clip-path=\"url(#clip2602)\" style=\"fill:#000000; stroke:none; fill-opacity:1\" cx=\"2238.42\" cy=\"85.543\" r=\"25\"/>\n",
       "<circle clip-path=\"url(#clip2602)\" style=\"fill:#e34a33; stroke:none; fill-opacity:1\" cx=\"2238.42\" cy=\"85.543\" r=\"21\"/>\n",
       "<circle clip-path=\"url(#clip2602)\" style=\"fill:#000000; stroke:none; fill-opacity:1\" cx=\"2295.02\" cy=\"85.543\" r=\"25\"/>\n",
       "<circle clip-path=\"url(#clip2602)\" style=\"fill:#e34a33; stroke:none; fill-opacity:1\" cx=\"2295.02\" cy=\"85.543\" r=\"21\"/>\n",
       "<polyline clip-path=\"url(#clip2602)\" style=\"stroke:#fee8c8; stroke-width:4; stroke-opacity:1; fill:none\" points=\"\n",
       "  370.503,1362.17 427.107,1183.24 483.71,1015.91 540.313,872.331 596.917,740.825 653.52,621.373 710.124,513.954 766.727,418.55 823.331,335.142 879.934,263.711 \n",
       "  936.538,204.238 993.141,156.703 1049.74,121.089 1106.35,97.3755 1162.95,85.5447 1219.55,85.5429 1276.16,85.543 1332.76,85.543 1389.37,85.543 1445.97,85.543 \n",
       "  1502.57,85.543 1559.18,85.543 1615.78,85.543 1672.38,85.543 1728.99,85.543 1785.59,85.543 1842.19,85.543 1898.8,85.543 1955.4,85.543 2012,85.543 \n",
       "  2068.61,85.543 2125.21,85.543 2181.81,85.543 2238.42,85.543 2295.02,85.543 \n",
       "  \"/>\n",
       "<circle clip-path=\"url(#clip2602)\" style=\"fill:#000000; stroke:none; fill-opacity:1\" cx=\"370.503\" cy=\"1362.17\" r=\"25\"/>\n",
       "<circle clip-path=\"url(#clip2602)\" style=\"fill:#fee8c8; stroke:none; fill-opacity:1\" cx=\"370.503\" cy=\"1362.17\" r=\"21\"/>\n",
       "<circle clip-path=\"url(#clip2602)\" style=\"fill:#000000; stroke:none; fill-opacity:1\" cx=\"427.107\" cy=\"1183.24\" r=\"25\"/>\n",
       "<circle clip-path=\"url(#clip2602)\" style=\"fill:#fee8c8; stroke:none; fill-opacity:1\" cx=\"427.107\" cy=\"1183.24\" r=\"21\"/>\n",
       "<circle clip-path=\"url(#clip2602)\" style=\"fill:#000000; stroke:none; fill-opacity:1\" cx=\"483.71\" cy=\"1015.91\" r=\"25\"/>\n",
       "<circle clip-path=\"url(#clip2602)\" style=\"fill:#fee8c8; stroke:none; fill-opacity:1\" cx=\"483.71\" cy=\"1015.91\" r=\"21\"/>\n",
       "<circle clip-path=\"url(#clip2602)\" style=\"fill:#000000; stroke:none; fill-opacity:1\" cx=\"540.313\" cy=\"872.331\" r=\"25\"/>\n",
       "<circle clip-path=\"url(#clip2602)\" style=\"fill:#fee8c8; stroke:none; fill-opacity:1\" cx=\"540.313\" cy=\"872.331\" r=\"21\"/>\n",
       "<circle clip-path=\"url(#clip2602)\" style=\"fill:#000000; stroke:none; fill-opacity:1\" cx=\"596.917\" cy=\"740.825\" r=\"25\"/>\n",
       "<circle clip-path=\"url(#clip2602)\" style=\"fill:#fee8c8; stroke:none; fill-opacity:1\" cx=\"596.917\" cy=\"740.825\" r=\"21\"/>\n",
       "<circle clip-path=\"url(#clip2602)\" style=\"fill:#000000; stroke:none; fill-opacity:1\" cx=\"653.52\" cy=\"621.373\" r=\"25\"/>\n",
       "<circle clip-path=\"url(#clip2602)\" style=\"fill:#fee8c8; stroke:none; fill-opacity:1\" cx=\"653.52\" cy=\"621.373\" r=\"21\"/>\n",
       "<circle clip-path=\"url(#clip2602)\" style=\"fill:#000000; stroke:none; fill-opacity:1\" cx=\"710.124\" cy=\"513.954\" r=\"25\"/>\n",
       "<circle clip-path=\"url(#clip2602)\" style=\"fill:#fee8c8; stroke:none; fill-opacity:1\" cx=\"710.124\" cy=\"513.954\" r=\"21\"/>\n",
       "<circle clip-path=\"url(#clip2602)\" style=\"fill:#000000; stroke:none; fill-opacity:1\" cx=\"766.727\" cy=\"418.55\" r=\"25\"/>\n",
       "<circle clip-path=\"url(#clip2602)\" style=\"fill:#fee8c8; stroke:none; fill-opacity:1\" cx=\"766.727\" cy=\"418.55\" r=\"21\"/>\n",
       "<circle clip-path=\"url(#clip2602)\" style=\"fill:#000000; stroke:none; fill-opacity:1\" cx=\"823.331\" cy=\"335.142\" r=\"25\"/>\n",
       "<circle clip-path=\"url(#clip2602)\" style=\"fill:#fee8c8; stroke:none; fill-opacity:1\" cx=\"823.331\" cy=\"335.142\" r=\"21\"/>\n",
       "<circle clip-path=\"url(#clip2602)\" style=\"fill:#000000; stroke:none; fill-opacity:1\" cx=\"879.934\" cy=\"263.711\" r=\"25\"/>\n",
       "<circle clip-path=\"url(#clip2602)\" style=\"fill:#fee8c8; stroke:none; fill-opacity:1\" cx=\"879.934\" cy=\"263.711\" r=\"21\"/>\n",
       "<circle clip-path=\"url(#clip2602)\" style=\"fill:#000000; stroke:none; fill-opacity:1\" cx=\"936.538\" cy=\"204.238\" r=\"25\"/>\n",
       "<circle clip-path=\"url(#clip2602)\" style=\"fill:#fee8c8; stroke:none; fill-opacity:1\" cx=\"936.538\" cy=\"204.238\" r=\"21\"/>\n",
       "<circle clip-path=\"url(#clip2602)\" style=\"fill:#000000; stroke:none; fill-opacity:1\" cx=\"993.141\" cy=\"156.703\" r=\"25\"/>\n",
       "<circle clip-path=\"url(#clip2602)\" style=\"fill:#fee8c8; stroke:none; fill-opacity:1\" cx=\"993.141\" cy=\"156.703\" r=\"21\"/>\n",
       "<circle clip-path=\"url(#clip2602)\" style=\"fill:#000000; stroke:none; fill-opacity:1\" cx=\"1049.74\" cy=\"121.089\" r=\"25\"/>\n",
       "<circle clip-path=\"url(#clip2602)\" style=\"fill:#fee8c8; stroke:none; fill-opacity:1\" cx=\"1049.74\" cy=\"121.089\" r=\"21\"/>\n",
       "<circle clip-path=\"url(#clip2602)\" style=\"fill:#000000; stroke:none; fill-opacity:1\" cx=\"1106.35\" cy=\"97.3755\" r=\"25\"/>\n",
       "<circle clip-path=\"url(#clip2602)\" style=\"fill:#fee8c8; stroke:none; fill-opacity:1\" cx=\"1106.35\" cy=\"97.3755\" r=\"21\"/>\n",
       "<circle clip-path=\"url(#clip2602)\" style=\"fill:#000000; stroke:none; fill-opacity:1\" cx=\"1162.95\" cy=\"85.5447\" r=\"25\"/>\n",
       "<circle clip-path=\"url(#clip2602)\" style=\"fill:#fee8c8; stroke:none; fill-opacity:1\" cx=\"1162.95\" cy=\"85.5447\" r=\"21\"/>\n",
       "<circle clip-path=\"url(#clip2602)\" style=\"fill:#000000; stroke:none; fill-opacity:1\" cx=\"1219.55\" cy=\"85.5429\" r=\"25\"/>\n",
       "<circle clip-path=\"url(#clip2602)\" style=\"fill:#fee8c8; stroke:none; fill-opacity:1\" cx=\"1219.55\" cy=\"85.5429\" r=\"21\"/>\n",
       "<circle clip-path=\"url(#clip2602)\" style=\"fill:#000000; stroke:none; fill-opacity:1\" cx=\"1276.16\" cy=\"85.543\" r=\"25\"/>\n",
       "<circle clip-path=\"url(#clip2602)\" style=\"fill:#fee8c8; stroke:none; fill-opacity:1\" cx=\"1276.16\" cy=\"85.543\" r=\"21\"/>\n",
       "<circle clip-path=\"url(#clip2602)\" style=\"fill:#000000; stroke:none; fill-opacity:1\" cx=\"1332.76\" cy=\"85.543\" r=\"25\"/>\n",
       "<circle clip-path=\"url(#clip2602)\" style=\"fill:#fee8c8; stroke:none; fill-opacity:1\" cx=\"1332.76\" cy=\"85.543\" r=\"21\"/>\n",
       "<circle clip-path=\"url(#clip2602)\" style=\"fill:#000000; stroke:none; fill-opacity:1\" cx=\"1389.37\" cy=\"85.543\" r=\"25\"/>\n",
       "<circle clip-path=\"url(#clip2602)\" style=\"fill:#fee8c8; stroke:none; fill-opacity:1\" cx=\"1389.37\" cy=\"85.543\" r=\"21\"/>\n",
       "<circle clip-path=\"url(#clip2602)\" style=\"fill:#000000; stroke:none; fill-opacity:1\" cx=\"1445.97\" cy=\"85.543\" r=\"25\"/>\n",
       "<circle clip-path=\"url(#clip2602)\" style=\"fill:#fee8c8; stroke:none; fill-opacity:1\" cx=\"1445.97\" cy=\"85.543\" r=\"21\"/>\n",
       "<circle clip-path=\"url(#clip2602)\" style=\"fill:#000000; stroke:none; fill-opacity:1\" cx=\"1502.57\" cy=\"85.543\" r=\"25\"/>\n",
       "<circle clip-path=\"url(#clip2602)\" style=\"fill:#fee8c8; stroke:none; fill-opacity:1\" cx=\"1502.57\" cy=\"85.543\" r=\"21\"/>\n",
       "<circle clip-path=\"url(#clip2602)\" style=\"fill:#000000; stroke:none; fill-opacity:1\" cx=\"1559.18\" cy=\"85.543\" r=\"25\"/>\n",
       "<circle clip-path=\"url(#clip2602)\" style=\"fill:#fee8c8; stroke:none; fill-opacity:1\" cx=\"1559.18\" cy=\"85.543\" r=\"21\"/>\n",
       "<circle clip-path=\"url(#clip2602)\" style=\"fill:#000000; stroke:none; fill-opacity:1\" cx=\"1615.78\" cy=\"85.543\" r=\"25\"/>\n",
       "<circle clip-path=\"url(#clip2602)\" style=\"fill:#fee8c8; stroke:none; fill-opacity:1\" cx=\"1615.78\" cy=\"85.543\" r=\"21\"/>\n",
       "<circle clip-path=\"url(#clip2602)\" style=\"fill:#000000; stroke:none; fill-opacity:1\" cx=\"1672.38\" cy=\"85.543\" r=\"25\"/>\n",
       "<circle clip-path=\"url(#clip2602)\" style=\"fill:#fee8c8; stroke:none; fill-opacity:1\" cx=\"1672.38\" cy=\"85.543\" r=\"21\"/>\n",
       "<circle clip-path=\"url(#clip2602)\" style=\"fill:#000000; stroke:none; fill-opacity:1\" cx=\"1728.99\" cy=\"85.543\" r=\"25\"/>\n",
       "<circle clip-path=\"url(#clip2602)\" style=\"fill:#fee8c8; stroke:none; fill-opacity:1\" cx=\"1728.99\" cy=\"85.543\" r=\"21\"/>\n",
       "<circle clip-path=\"url(#clip2602)\" style=\"fill:#000000; stroke:none; fill-opacity:1\" cx=\"1785.59\" cy=\"85.543\" r=\"25\"/>\n",
       "<circle clip-path=\"url(#clip2602)\" style=\"fill:#fee8c8; stroke:none; fill-opacity:1\" cx=\"1785.59\" cy=\"85.543\" r=\"21\"/>\n",
       "<circle clip-path=\"url(#clip2602)\" style=\"fill:#000000; stroke:none; fill-opacity:1\" cx=\"1842.19\" cy=\"85.543\" r=\"25\"/>\n",
       "<circle clip-path=\"url(#clip2602)\" style=\"fill:#fee8c8; stroke:none; fill-opacity:1\" cx=\"1842.19\" cy=\"85.543\" r=\"21\"/>\n",
       "<circle clip-path=\"url(#clip2602)\" style=\"fill:#000000; stroke:none; fill-opacity:1\" cx=\"1898.8\" cy=\"85.543\" r=\"25\"/>\n",
       "<circle clip-path=\"url(#clip2602)\" style=\"fill:#fee8c8; stroke:none; fill-opacity:1\" cx=\"1898.8\" cy=\"85.543\" r=\"21\"/>\n",
       "<circle clip-path=\"url(#clip2602)\" style=\"fill:#000000; stroke:none; fill-opacity:1\" cx=\"1955.4\" cy=\"85.543\" r=\"25\"/>\n",
       "<circle clip-path=\"url(#clip2602)\" style=\"fill:#fee8c8; stroke:none; fill-opacity:1\" cx=\"1955.4\" cy=\"85.543\" r=\"21\"/>\n",
       "<circle clip-path=\"url(#clip2602)\" style=\"fill:#000000; stroke:none; fill-opacity:1\" cx=\"2012\" cy=\"85.543\" r=\"25\"/>\n",
       "<circle clip-path=\"url(#clip2602)\" style=\"fill:#fee8c8; stroke:none; fill-opacity:1\" cx=\"2012\" cy=\"85.543\" r=\"21\"/>\n",
       "<circle clip-path=\"url(#clip2602)\" style=\"fill:#000000; stroke:none; fill-opacity:1\" cx=\"2068.61\" cy=\"85.543\" r=\"25\"/>\n",
       "<circle clip-path=\"url(#clip2602)\" style=\"fill:#fee8c8; stroke:none; fill-opacity:1\" cx=\"2068.61\" cy=\"85.543\" r=\"21\"/>\n",
       "<circle clip-path=\"url(#clip2602)\" style=\"fill:#000000; stroke:none; fill-opacity:1\" cx=\"2125.21\" cy=\"85.543\" r=\"25\"/>\n",
       "<circle clip-path=\"url(#clip2602)\" style=\"fill:#fee8c8; stroke:none; fill-opacity:1\" cx=\"2125.21\" cy=\"85.543\" r=\"21\"/>\n",
       "<circle clip-path=\"url(#clip2602)\" style=\"fill:#000000; stroke:none; fill-opacity:1\" cx=\"2181.81\" cy=\"85.543\" r=\"25\"/>\n",
       "<circle clip-path=\"url(#clip2602)\" style=\"fill:#fee8c8; stroke:none; fill-opacity:1\" cx=\"2181.81\" cy=\"85.543\" r=\"21\"/>\n",
       "<circle clip-path=\"url(#clip2602)\" style=\"fill:#000000; stroke:none; fill-opacity:1\" cx=\"2238.42\" cy=\"85.543\" r=\"25\"/>\n",
       "<circle clip-path=\"url(#clip2602)\" style=\"fill:#fee8c8; stroke:none; fill-opacity:1\" cx=\"2238.42\" cy=\"85.543\" r=\"21\"/>\n",
       "<circle clip-path=\"url(#clip2602)\" style=\"fill:#000000; stroke:none; fill-opacity:1\" cx=\"2295.02\" cy=\"85.543\" r=\"25\"/>\n",
       "<circle clip-path=\"url(#clip2602)\" style=\"fill:#fee8c8; stroke:none; fill-opacity:1\" cx=\"2295.02\" cy=\"85.543\" r=\"21\"/>\n",
       "<polygon clip-path=\"url(#clip2600)\" points=\"\n",
       "1642.92,402.924 2280.76,402.924 2280.76,85.4041 1642.92,85.4041 \n",
       "  \" fill=\"#ffffff\" fill-rule=\"evenodd\" fill-opacity=\"1\"/>\n",
       "<polyline clip-path=\"url(#clip2600)\" style=\"stroke:#000000; stroke-width:4; stroke-opacity:1; fill:none\" points=\"\n",
       "  1642.92,402.924 2280.76,402.924 2280.76,85.4041 1642.92,85.4041 1642.92,402.924 \n",
       "  \"/>\n",
       "<polyline clip-path=\"url(#clip2600)\" style=\"stroke:#e34a33; stroke-width:24; stroke-opacity:1; fill:none\" points=\"\n",
       "  1666.92,191.244 1810.92,191.244 \n",
       "  \"/>\n",
       "<circle clip-path=\"url(#clip2600)\" style=\"fill:#000000; stroke:none; fill-opacity:1\" cx=\"1750.92\" cy=\"191.244\" r=\"25\"/>\n",
       "<circle clip-path=\"url(#clip2600)\" style=\"fill:#e34a33; stroke:none; fill-opacity:1\" cx=\"1750.92\" cy=\"191.244\" r=\"21\"/>\n",
       "<g clip-path=\"url(#clip2600)\">\n",
       "<text style=\"fill:#000000; fill-opacity:1; font-family:Arial,Helvetica Neue,Helvetica,sans-serif; font-size:84px; text-anchor:start;\" transform=\"rotate(0, 1834.92, 221.744)\" x=\"1834.92\" y=\"221.744\">Indirect</text>\n",
       "</g>\n",
       "<polyline clip-path=\"url(#clip2600)\" style=\"stroke:#fee8c8; stroke-width:4; stroke-opacity:1; fill:none\" points=\"\n",
       "  1666.92,297.084 1810.92,297.084 \n",
       "  \"/>\n",
       "<circle clip-path=\"url(#clip2600)\" style=\"fill:#000000; stroke:none; fill-opacity:1\" cx=\"1750.92\" cy=\"297.084\" r=\"25\"/>\n",
       "<circle clip-path=\"url(#clip2600)\" style=\"fill:#fee8c8; stroke:none; fill-opacity:1\" cx=\"1750.92\" cy=\"297.084\" r=\"21\"/>\n",
       "<g clip-path=\"url(#clip2600)\">\n",
       "<text style=\"fill:#000000; fill-opacity:1; font-family:Arial,Helvetica Neue,Helvetica,sans-serif; font-size:84px; text-anchor:start;\" transform=\"rotate(0, 1834.92, 327.584)\" x=\"1834.92\" y=\"327.584\">Semidirect</text>\n",
       "</g>\n",
       "</svg>\n"
      ]
     },
     "execution_count": 142,
     "metadata": {},
     "output_type": "execute_result"
    }
   ],
   "source": [
    "j = 1\n",
    "# xlabel=latexstring(\"t\")\n",
    "# ylabel=latexstring(\"x\")\n",
    "xlabel = \"time\"\n",
    "ylabel = \"horizontal position\"\n",
    "plot(traj_indirect[7],traj_indirect[8][j,:],label=\"Indirect\",seriescolor=RGB(((227,74,51) ./ 255.)...),linewidth=6,marker=6,xlabel=xlabel,xtickfont=font, ytickfont=font, legendfont=font)\n",
    "plot!(traj_semidirect[7],traj_semidirect[8][j,:],label=\"Semidirect\",seriescolor=RGB(((254,232,200) ./ 255.)...),linewidth=1,marker=6,ylabel=ylabel)"
   ]
  },
  {
   "cell_type": "code",
   "execution_count": 143,
   "metadata": {},
   "outputs": [],
   "source": [
    "savefig(string(\"slidingbox_x_6.svg\")) "
   ]
  },
  {
   "cell_type": "code",
   "execution_count": 144,
   "metadata": {},
   "outputs": [
    {
     "data": {
      "image/svg+xml": [
       "<?xml version=\"1.0\" encoding=\"utf-8\"?>\n",
       "<svg xmlns=\"http://www.w3.org/2000/svg\" xmlns:xlink=\"http://www.w3.org/1999/xlink\" width=\"600\" height=\"400\" viewBox=\"0 0 2400 1600\">\n",
       "<defs>\n",
       "  <clipPath id=\"clip3400\">\n",
       "    <rect x=\"0\" y=\"0\" width=\"2400\" height=\"1600\"/>\n",
       "  </clipPath>\n",
       "</defs>\n",
       "<polygon clip-path=\"url(#clip3400)\" points=\"\n",
       "0,1600 2400,1600 2400,0 0,0 \n",
       "  \" fill=\"#ffffff\" fill-rule=\"evenodd\" fill-opacity=\"1\"/>\n",
       "<defs>\n",
       "  <clipPath id=\"clip3401\">\n",
       "    <rect x=\"480\" y=\"0\" width=\"1681\" height=\"1600\"/>\n",
       "  </clipPath>\n",
       "</defs>\n",
       "<polygon clip-path=\"url(#clip3400)\" points=\"\n",
       "312.768,1400.47 2352.76,1400.47 2352.76,47.2441 312.768,47.2441 \n",
       "  \" fill=\"#ffffff\" fill-rule=\"evenodd\" fill-opacity=\"1\"/>\n",
       "<defs>\n",
       "  <clipPath id=\"clip3402\">\n",
       "    <rect x=\"312\" y=\"47\" width=\"2041\" height=\"1354\"/>\n",
       "  </clipPath>\n",
       "</defs>\n",
       "<polyline clip-path=\"url(#clip3402)\" style=\"stroke:#000000; stroke-width:2; stroke-opacity:0.1; fill:none\" points=\"\n",
       "  370.503,1400.47 370.503,47.2441 \n",
       "  \"/>\n",
       "<polyline clip-path=\"url(#clip3402)\" style=\"stroke:#000000; stroke-width:2; stroke-opacity:0.1; fill:none\" points=\"\n",
       "  936.538,1400.47 936.538,47.2441 \n",
       "  \"/>\n",
       "<polyline clip-path=\"url(#clip3402)\" style=\"stroke:#000000; stroke-width:2; stroke-opacity:0.1; fill:none\" points=\"\n",
       "  1502.57,1400.47 1502.57,47.2441 \n",
       "  \"/>\n",
       "<polyline clip-path=\"url(#clip3402)\" style=\"stroke:#000000; stroke-width:2; stroke-opacity:0.1; fill:none\" points=\"\n",
       "  2068.61,1400.47 2068.61,47.2441 \n",
       "  \"/>\n",
       "<polyline clip-path=\"url(#clip3402)\" style=\"stroke:#000000; stroke-width:2; stroke-opacity:0.1; fill:none\" points=\"\n",
       "  312.768,1362.17 2352.76,1362.17 \n",
       "  \"/>\n",
       "<polyline clip-path=\"url(#clip3402)\" style=\"stroke:#000000; stroke-width:2; stroke-opacity:0.1; fill:none\" points=\"\n",
       "  312.768,1043.01 2352.76,1043.01 \n",
       "  \"/>\n",
       "<polyline clip-path=\"url(#clip3402)\" style=\"stroke:#000000; stroke-width:2; stroke-opacity:0.1; fill:none\" points=\"\n",
       "  312.768,723.856 2352.76,723.856 \n",
       "  \"/>\n",
       "<polyline clip-path=\"url(#clip3402)\" style=\"stroke:#000000; stroke-width:2; stroke-opacity:0.1; fill:none\" points=\"\n",
       "  312.768,404.7 2352.76,404.7 \n",
       "  \"/>\n",
       "<polyline clip-path=\"url(#clip3402)\" style=\"stroke:#000000; stroke-width:2; stroke-opacity:0.1; fill:none\" points=\"\n",
       "  312.768,85.5429 2352.76,85.5429 \n",
       "  \"/>\n",
       "<polyline clip-path=\"url(#clip3400)\" style=\"stroke:#000000; stroke-width:4; stroke-opacity:1; fill:none\" points=\"\n",
       "  312.768,1400.47 2352.76,1400.47 \n",
       "  \"/>\n",
       "<polyline clip-path=\"url(#clip3400)\" style=\"stroke:#000000; stroke-width:4; stroke-opacity:1; fill:none\" points=\"\n",
       "  312.768,1400.47 312.768,47.2441 \n",
       "  \"/>\n",
       "<polyline clip-path=\"url(#clip3400)\" style=\"stroke:#000000; stroke-width:4; stroke-opacity:1; fill:none\" points=\"\n",
       "  370.503,1400.47 370.503,1380.17 \n",
       "  \"/>\n",
       "<polyline clip-path=\"url(#clip3400)\" style=\"stroke:#000000; stroke-width:4; stroke-opacity:1; fill:none\" points=\"\n",
       "  936.538,1400.47 936.538,1380.17 \n",
       "  \"/>\n",
       "<polyline clip-path=\"url(#clip3400)\" style=\"stroke:#000000; stroke-width:4; stroke-opacity:1; fill:none\" points=\"\n",
       "  1502.57,1400.47 1502.57,1380.17 \n",
       "  \"/>\n",
       "<polyline clip-path=\"url(#clip3400)\" style=\"stroke:#000000; stroke-width:4; stroke-opacity:1; fill:none\" points=\"\n",
       "  2068.61,1400.47 2068.61,1380.17 \n",
       "  \"/>\n",
       "<polyline clip-path=\"url(#clip3400)\" style=\"stroke:#000000; stroke-width:4; stroke-opacity:1; fill:none\" points=\"\n",
       "  312.768,1362.17 343.367,1362.17 \n",
       "  \"/>\n",
       "<polyline clip-path=\"url(#clip3400)\" style=\"stroke:#000000; stroke-width:4; stroke-opacity:1; fill:none\" points=\"\n",
       "  312.768,1043.01 343.367,1043.01 \n",
       "  \"/>\n",
       "<polyline clip-path=\"url(#clip3400)\" style=\"stroke:#000000; stroke-width:4; stroke-opacity:1; fill:none\" points=\"\n",
       "  312.768,723.856 343.367,723.856 \n",
       "  \"/>\n",
       "<polyline clip-path=\"url(#clip3400)\" style=\"stroke:#000000; stroke-width:4; stroke-opacity:1; fill:none\" points=\"\n",
       "  312.768,404.7 343.367,404.7 \n",
       "  \"/>\n",
       "<polyline clip-path=\"url(#clip3400)\" style=\"stroke:#000000; stroke-width:4; stroke-opacity:1; fill:none\" points=\"\n",
       "  312.768,85.5429 343.367,85.5429 \n",
       "  \"/>\n",
       "<g clip-path=\"url(#clip3400)\">\n",
       "<text style=\"fill:#000000; fill-opacity:1; font-family:Arial,Helvetica Neue,Helvetica,sans-serif; font-size:84px; text-anchor:middle;\" transform=\"rotate(0, 370.503, 1485.67)\" x=\"370.503\" y=\"1485.67\">0</text>\n",
       "</g>\n",
       "<g clip-path=\"url(#clip3400)\">\n",
       "<text style=\"fill:#000000; fill-opacity:1; font-family:Arial,Helvetica Neue,Helvetica,sans-serif; font-size:84px; text-anchor:middle;\" transform=\"rotate(0, 936.538, 1485.67)\" x=\"936.538\" y=\"1485.67\">1</text>\n",
       "</g>\n",
       "<g clip-path=\"url(#clip3400)\">\n",
       "<text style=\"fill:#000000; fill-opacity:1; font-family:Arial,Helvetica Neue,Helvetica,sans-serif; font-size:84px; text-anchor:middle;\" transform=\"rotate(0, 1502.57, 1485.67)\" x=\"1502.57\" y=\"1485.67\">2</text>\n",
       "</g>\n",
       "<g clip-path=\"url(#clip3400)\">\n",
       "<text style=\"fill:#000000; fill-opacity:1; font-family:Arial,Helvetica Neue,Helvetica,sans-serif; font-size:84px; text-anchor:middle;\" transform=\"rotate(0, 2068.61, 1485.67)\" x=\"2068.61\" y=\"1485.67\">3</text>\n",
       "</g>\n",
       "<g clip-path=\"url(#clip3400)\">\n",
       "<text style=\"fill:#000000; fill-opacity:1; font-family:Arial,Helvetica Neue,Helvetica,sans-serif; font-size:84px; text-anchor:end;\" transform=\"rotate(0, 288.768, 1392.67)\" x=\"288.768\" y=\"1392.67\">0.00</text>\n",
       "</g>\n",
       "<g clip-path=\"url(#clip3400)\">\n",
       "<text style=\"fill:#000000; fill-opacity:1; font-family:Arial,Helvetica Neue,Helvetica,sans-serif; font-size:84px; text-anchor:end;\" transform=\"rotate(0, 288.768, 1073.51)\" x=\"288.768\" y=\"1073.51\">0.05</text>\n",
       "</g>\n",
       "<g clip-path=\"url(#clip3400)\">\n",
       "<text style=\"fill:#000000; fill-opacity:1; font-family:Arial,Helvetica Neue,Helvetica,sans-serif; font-size:84px; text-anchor:end;\" transform=\"rotate(0, 288.768, 754.356)\" x=\"288.768\" y=\"754.356\">0.10</text>\n",
       "</g>\n",
       "<g clip-path=\"url(#clip3400)\">\n",
       "<text style=\"fill:#000000; fill-opacity:1; font-family:Arial,Helvetica Neue,Helvetica,sans-serif; font-size:84px; text-anchor:end;\" transform=\"rotate(0, 288.768, 435.2)\" x=\"288.768\" y=\"435.2\">0.15</text>\n",
       "</g>\n",
       "<g clip-path=\"url(#clip3400)\">\n",
       "<text style=\"fill:#000000; fill-opacity:1; font-family:Arial,Helvetica Neue,Helvetica,sans-serif; font-size:84px; text-anchor:end;\" transform=\"rotate(0, 288.768, 116.043)\" x=\"288.768\" y=\"116.043\">0.20</text>\n",
       "</g>\n",
       "<g clip-path=\"url(#clip3400)\">\n",
       "<text style=\"fill:#000000; fill-opacity:1; font-family:Arial,Helvetica Neue,Helvetica,sans-serif; font-size:66px; text-anchor:middle;\" transform=\"rotate(0, 1332.76, 1572.06)\" x=\"1332.76\" y=\"1572.06\">time</text>\n",
       "</g>\n",
       "<g clip-path=\"url(#clip3400)\">\n",
       "<text style=\"fill:#000000; fill-opacity:1; font-family:Arial,Helvetica Neue,Helvetica,sans-serif; font-size:66px; text-anchor:middle;\" transform=\"rotate(-90, 89.2861, 723.856)\" x=\"89.2861\" y=\"723.856\">vertical position</text>\n",
       "</g>\n",
       "<polyline clip-path=\"url(#clip3402)\" style=\"stroke:#e34a33; stroke-width:24; stroke-opacity:1; fill:none\" points=\"\n",
       "  370.503,85.5429 427.107,711.589 483.71,1362.17 540.313,1362.17 596.917,1362.17 653.52,1362.17 710.124,1362.17 766.727,1362.17 823.331,1362.17 879.934,1362.17 \n",
       "  936.538,1362.16 993.141,1362.17 1049.74,1362.17 1106.35,1362.17 1162.95,1362.17 1219.55,1362.17 1276.16,1362.17 1332.76,1362.17 1389.37,1362.17 1445.97,1362.17 \n",
       "  1502.57,1362.17 1559.18,1362.17 1615.78,1362.17 1672.38,1362.17 1728.99,1362.17 1785.59,1362.17 1842.19,1362.17 1898.8,1362.17 1955.4,1362.17 2012,1362.17 \n",
       "  2068.61,1362.17 2125.21,1362.17 2181.81,1362.17 2238.42,1362.17 2295.02,1362.17 \n",
       "  \"/>\n",
       "<circle clip-path=\"url(#clip3402)\" style=\"fill:#000000; stroke:none; fill-opacity:1\" cx=\"370.503\" cy=\"85.5429\" r=\"25\"/>\n",
       "<circle clip-path=\"url(#clip3402)\" style=\"fill:#e34a33; stroke:none; fill-opacity:1\" cx=\"370.503\" cy=\"85.5429\" r=\"21\"/>\n",
       "<circle clip-path=\"url(#clip3402)\" style=\"fill:#000000; stroke:none; fill-opacity:1\" cx=\"427.107\" cy=\"711.589\" r=\"25\"/>\n",
       "<circle clip-path=\"url(#clip3402)\" style=\"fill:#e34a33; stroke:none; fill-opacity:1\" cx=\"427.107\" cy=\"711.589\" r=\"21\"/>\n",
       "<circle clip-path=\"url(#clip3402)\" style=\"fill:#000000; stroke:none; fill-opacity:1\" cx=\"483.71\" cy=\"1362.17\" r=\"25\"/>\n",
       "<circle clip-path=\"url(#clip3402)\" style=\"fill:#e34a33; stroke:none; fill-opacity:1\" cx=\"483.71\" cy=\"1362.17\" r=\"21\"/>\n",
       "<circle clip-path=\"url(#clip3402)\" style=\"fill:#000000; stroke:none; fill-opacity:1\" cx=\"540.313\" cy=\"1362.17\" r=\"25\"/>\n",
       "<circle clip-path=\"url(#clip3402)\" style=\"fill:#e34a33; stroke:none; fill-opacity:1\" cx=\"540.313\" cy=\"1362.17\" r=\"21\"/>\n",
       "<circle clip-path=\"url(#clip3402)\" style=\"fill:#000000; stroke:none; fill-opacity:1\" cx=\"596.917\" cy=\"1362.17\" r=\"25\"/>\n",
       "<circle clip-path=\"url(#clip3402)\" style=\"fill:#e34a33; stroke:none; fill-opacity:1\" cx=\"596.917\" cy=\"1362.17\" r=\"21\"/>\n",
       "<circle clip-path=\"url(#clip3402)\" style=\"fill:#000000; stroke:none; fill-opacity:1\" cx=\"653.52\" cy=\"1362.17\" r=\"25\"/>\n",
       "<circle clip-path=\"url(#clip3402)\" style=\"fill:#e34a33; stroke:none; fill-opacity:1\" cx=\"653.52\" cy=\"1362.17\" r=\"21\"/>\n",
       "<circle clip-path=\"url(#clip3402)\" style=\"fill:#000000; stroke:none; fill-opacity:1\" cx=\"710.124\" cy=\"1362.17\" r=\"25\"/>\n",
       "<circle clip-path=\"url(#clip3402)\" style=\"fill:#e34a33; stroke:none; fill-opacity:1\" cx=\"710.124\" cy=\"1362.17\" r=\"21\"/>\n",
       "<circle clip-path=\"url(#clip3402)\" style=\"fill:#000000; stroke:none; fill-opacity:1\" cx=\"766.727\" cy=\"1362.17\" r=\"25\"/>\n",
       "<circle clip-path=\"url(#clip3402)\" style=\"fill:#e34a33; stroke:none; fill-opacity:1\" cx=\"766.727\" cy=\"1362.17\" r=\"21\"/>\n",
       "<circle clip-path=\"url(#clip3402)\" style=\"fill:#000000; stroke:none; fill-opacity:1\" cx=\"823.331\" cy=\"1362.17\" r=\"25\"/>\n",
       "<circle clip-path=\"url(#clip3402)\" style=\"fill:#e34a33; stroke:none; fill-opacity:1\" cx=\"823.331\" cy=\"1362.17\" r=\"21\"/>\n",
       "<circle clip-path=\"url(#clip3402)\" style=\"fill:#000000; stroke:none; fill-opacity:1\" cx=\"879.934\" cy=\"1362.17\" r=\"25\"/>\n",
       "<circle clip-path=\"url(#clip3402)\" style=\"fill:#e34a33; stroke:none; fill-opacity:1\" cx=\"879.934\" cy=\"1362.17\" r=\"21\"/>\n",
       "<circle clip-path=\"url(#clip3402)\" style=\"fill:#000000; stroke:none; fill-opacity:1\" cx=\"936.538\" cy=\"1362.16\" r=\"25\"/>\n",
       "<circle clip-path=\"url(#clip3402)\" style=\"fill:#e34a33; stroke:none; fill-opacity:1\" cx=\"936.538\" cy=\"1362.16\" r=\"21\"/>\n",
       "<circle clip-path=\"url(#clip3402)\" style=\"fill:#000000; stroke:none; fill-opacity:1\" cx=\"993.141\" cy=\"1362.17\" r=\"25\"/>\n",
       "<circle clip-path=\"url(#clip3402)\" style=\"fill:#e34a33; stroke:none; fill-opacity:1\" cx=\"993.141\" cy=\"1362.17\" r=\"21\"/>\n",
       "<circle clip-path=\"url(#clip3402)\" style=\"fill:#000000; stroke:none; fill-opacity:1\" cx=\"1049.74\" cy=\"1362.17\" r=\"25\"/>\n",
       "<circle clip-path=\"url(#clip3402)\" style=\"fill:#e34a33; stroke:none; fill-opacity:1\" cx=\"1049.74\" cy=\"1362.17\" r=\"21\"/>\n",
       "<circle clip-path=\"url(#clip3402)\" style=\"fill:#000000; stroke:none; fill-opacity:1\" cx=\"1106.35\" cy=\"1362.17\" r=\"25\"/>\n",
       "<circle clip-path=\"url(#clip3402)\" style=\"fill:#e34a33; stroke:none; fill-opacity:1\" cx=\"1106.35\" cy=\"1362.17\" r=\"21\"/>\n",
       "<circle clip-path=\"url(#clip3402)\" style=\"fill:#000000; stroke:none; fill-opacity:1\" cx=\"1162.95\" cy=\"1362.17\" r=\"25\"/>\n",
       "<circle clip-path=\"url(#clip3402)\" style=\"fill:#e34a33; stroke:none; fill-opacity:1\" cx=\"1162.95\" cy=\"1362.17\" r=\"21\"/>\n",
       "<circle clip-path=\"url(#clip3402)\" style=\"fill:#000000; stroke:none; fill-opacity:1\" cx=\"1219.55\" cy=\"1362.17\" r=\"25\"/>\n",
       "<circle clip-path=\"url(#clip3402)\" style=\"fill:#e34a33; stroke:none; fill-opacity:1\" cx=\"1219.55\" cy=\"1362.17\" r=\"21\"/>\n",
       "<circle clip-path=\"url(#clip3402)\" style=\"fill:#000000; stroke:none; fill-opacity:1\" cx=\"1276.16\" cy=\"1362.17\" r=\"25\"/>\n",
       "<circle clip-path=\"url(#clip3402)\" style=\"fill:#e34a33; stroke:none; fill-opacity:1\" cx=\"1276.16\" cy=\"1362.17\" r=\"21\"/>\n",
       "<circle clip-path=\"url(#clip3402)\" style=\"fill:#000000; stroke:none; fill-opacity:1\" cx=\"1332.76\" cy=\"1362.17\" r=\"25\"/>\n",
       "<circle clip-path=\"url(#clip3402)\" style=\"fill:#e34a33; stroke:none; fill-opacity:1\" cx=\"1332.76\" cy=\"1362.17\" r=\"21\"/>\n",
       "<circle clip-path=\"url(#clip3402)\" style=\"fill:#000000; stroke:none; fill-opacity:1\" cx=\"1389.37\" cy=\"1362.17\" r=\"25\"/>\n",
       "<circle clip-path=\"url(#clip3402)\" style=\"fill:#e34a33; stroke:none; fill-opacity:1\" cx=\"1389.37\" cy=\"1362.17\" r=\"21\"/>\n",
       "<circle clip-path=\"url(#clip3402)\" style=\"fill:#000000; stroke:none; fill-opacity:1\" cx=\"1445.97\" cy=\"1362.17\" r=\"25\"/>\n",
       "<circle clip-path=\"url(#clip3402)\" style=\"fill:#e34a33; stroke:none; fill-opacity:1\" cx=\"1445.97\" cy=\"1362.17\" r=\"21\"/>\n",
       "<circle clip-path=\"url(#clip3402)\" style=\"fill:#000000; stroke:none; fill-opacity:1\" cx=\"1502.57\" cy=\"1362.17\" r=\"25\"/>\n",
       "<circle clip-path=\"url(#clip3402)\" style=\"fill:#e34a33; stroke:none; fill-opacity:1\" cx=\"1502.57\" cy=\"1362.17\" r=\"21\"/>\n",
       "<circle clip-path=\"url(#clip3402)\" style=\"fill:#000000; stroke:none; fill-opacity:1\" cx=\"1559.18\" cy=\"1362.17\" r=\"25\"/>\n",
       "<circle clip-path=\"url(#clip3402)\" style=\"fill:#e34a33; stroke:none; fill-opacity:1\" cx=\"1559.18\" cy=\"1362.17\" r=\"21\"/>\n",
       "<circle clip-path=\"url(#clip3402)\" style=\"fill:#000000; stroke:none; fill-opacity:1\" cx=\"1615.78\" cy=\"1362.17\" r=\"25\"/>\n",
       "<circle clip-path=\"url(#clip3402)\" style=\"fill:#e34a33; stroke:none; fill-opacity:1\" cx=\"1615.78\" cy=\"1362.17\" r=\"21\"/>\n",
       "<circle clip-path=\"url(#clip3402)\" style=\"fill:#000000; stroke:none; fill-opacity:1\" cx=\"1672.38\" cy=\"1362.17\" r=\"25\"/>\n",
       "<circle clip-path=\"url(#clip3402)\" style=\"fill:#e34a33; stroke:none; fill-opacity:1\" cx=\"1672.38\" cy=\"1362.17\" r=\"21\"/>\n",
       "<circle clip-path=\"url(#clip3402)\" style=\"fill:#000000; stroke:none; fill-opacity:1\" cx=\"1728.99\" cy=\"1362.17\" r=\"25\"/>\n",
       "<circle clip-path=\"url(#clip3402)\" style=\"fill:#e34a33; stroke:none; fill-opacity:1\" cx=\"1728.99\" cy=\"1362.17\" r=\"21\"/>\n",
       "<circle clip-path=\"url(#clip3402)\" style=\"fill:#000000; stroke:none; fill-opacity:1\" cx=\"1785.59\" cy=\"1362.17\" r=\"25\"/>\n",
       "<circle clip-path=\"url(#clip3402)\" style=\"fill:#e34a33; stroke:none; fill-opacity:1\" cx=\"1785.59\" cy=\"1362.17\" r=\"21\"/>\n",
       "<circle clip-path=\"url(#clip3402)\" style=\"fill:#000000; stroke:none; fill-opacity:1\" cx=\"1842.19\" cy=\"1362.17\" r=\"25\"/>\n",
       "<circle clip-path=\"url(#clip3402)\" style=\"fill:#e34a33; stroke:none; fill-opacity:1\" cx=\"1842.19\" cy=\"1362.17\" r=\"21\"/>\n",
       "<circle clip-path=\"url(#clip3402)\" style=\"fill:#000000; stroke:none; fill-opacity:1\" cx=\"1898.8\" cy=\"1362.17\" r=\"25\"/>\n",
       "<circle clip-path=\"url(#clip3402)\" style=\"fill:#e34a33; stroke:none; fill-opacity:1\" cx=\"1898.8\" cy=\"1362.17\" r=\"21\"/>\n",
       "<circle clip-path=\"url(#clip3402)\" style=\"fill:#000000; stroke:none; fill-opacity:1\" cx=\"1955.4\" cy=\"1362.17\" r=\"25\"/>\n",
       "<circle clip-path=\"url(#clip3402)\" style=\"fill:#e34a33; stroke:none; fill-opacity:1\" cx=\"1955.4\" cy=\"1362.17\" r=\"21\"/>\n",
       "<circle clip-path=\"url(#clip3402)\" style=\"fill:#000000; stroke:none; fill-opacity:1\" cx=\"2012\" cy=\"1362.17\" r=\"25\"/>\n",
       "<circle clip-path=\"url(#clip3402)\" style=\"fill:#e34a33; stroke:none; fill-opacity:1\" cx=\"2012\" cy=\"1362.17\" r=\"21\"/>\n",
       "<circle clip-path=\"url(#clip3402)\" style=\"fill:#000000; stroke:none; fill-opacity:1\" cx=\"2068.61\" cy=\"1362.17\" r=\"25\"/>\n",
       "<circle clip-path=\"url(#clip3402)\" style=\"fill:#e34a33; stroke:none; fill-opacity:1\" cx=\"2068.61\" cy=\"1362.17\" r=\"21\"/>\n",
       "<circle clip-path=\"url(#clip3402)\" style=\"fill:#000000; stroke:none; fill-opacity:1\" cx=\"2125.21\" cy=\"1362.17\" r=\"25\"/>\n",
       "<circle clip-path=\"url(#clip3402)\" style=\"fill:#e34a33; stroke:none; fill-opacity:1\" cx=\"2125.21\" cy=\"1362.17\" r=\"21\"/>\n",
       "<circle clip-path=\"url(#clip3402)\" style=\"fill:#000000; stroke:none; fill-opacity:1\" cx=\"2181.81\" cy=\"1362.17\" r=\"25\"/>\n",
       "<circle clip-path=\"url(#clip3402)\" style=\"fill:#e34a33; stroke:none; fill-opacity:1\" cx=\"2181.81\" cy=\"1362.17\" r=\"21\"/>\n",
       "<circle clip-path=\"url(#clip3402)\" style=\"fill:#000000; stroke:none; fill-opacity:1\" cx=\"2238.42\" cy=\"1362.17\" r=\"25\"/>\n",
       "<circle clip-path=\"url(#clip3402)\" style=\"fill:#e34a33; stroke:none; fill-opacity:1\" cx=\"2238.42\" cy=\"1362.17\" r=\"21\"/>\n",
       "<circle clip-path=\"url(#clip3402)\" style=\"fill:#000000; stroke:none; fill-opacity:1\" cx=\"2295.02\" cy=\"1362.17\" r=\"25\"/>\n",
       "<circle clip-path=\"url(#clip3402)\" style=\"fill:#e34a33; stroke:none; fill-opacity:1\" cx=\"2295.02\" cy=\"1362.17\" r=\"21\"/>\n",
       "<polyline clip-path=\"url(#clip3402)\" style=\"stroke:#fee8c8; stroke-width:4; stroke-opacity:1; fill:none\" points=\"\n",
       "  370.503,85.5429 427.107,709.081 483.71,1362.17 540.313,1362.17 596.917,1362.17 653.52,1362.17 710.124,1362.17 766.727,1362.17 823.331,1362.17 879.934,1362.17 \n",
       "  936.538,1362.17 993.141,1362.17 1049.74,1362.17 1106.35,1362.17 1162.95,1362.17 1219.55,1362.17 1276.16,1362.17 1332.76,1362.17 1389.37,1362.17 1445.97,1362.17 \n",
       "  1502.57,1362.17 1559.18,1362.17 1615.78,1362.17 1672.38,1362.17 1728.99,1362.17 1785.59,1362.17 1842.19,1362.17 1898.8,1362.17 1955.4,1362.17 2012,1362.17 \n",
       "  2068.61,1362.17 2125.21,1362.17 2181.81,1362.17 2238.42,1362.17 2295.02,1362.17 \n",
       "  \"/>\n",
       "<circle clip-path=\"url(#clip3402)\" style=\"fill:#000000; stroke:none; fill-opacity:1\" cx=\"370.503\" cy=\"85.5429\" r=\"25\"/>\n",
       "<circle clip-path=\"url(#clip3402)\" style=\"fill:#fee8c8; stroke:none; fill-opacity:1\" cx=\"370.503\" cy=\"85.5429\" r=\"21\"/>\n",
       "<circle clip-path=\"url(#clip3402)\" style=\"fill:#000000; stroke:none; fill-opacity:1\" cx=\"427.107\" cy=\"709.081\" r=\"25\"/>\n",
       "<circle clip-path=\"url(#clip3402)\" style=\"fill:#fee8c8; stroke:none; fill-opacity:1\" cx=\"427.107\" cy=\"709.081\" r=\"21\"/>\n",
       "<circle clip-path=\"url(#clip3402)\" style=\"fill:#000000; stroke:none; fill-opacity:1\" cx=\"483.71\" cy=\"1362.17\" r=\"25\"/>\n",
       "<circle clip-path=\"url(#clip3402)\" style=\"fill:#fee8c8; stroke:none; fill-opacity:1\" cx=\"483.71\" cy=\"1362.17\" r=\"21\"/>\n",
       "<circle clip-path=\"url(#clip3402)\" style=\"fill:#000000; stroke:none; fill-opacity:1\" cx=\"540.313\" cy=\"1362.17\" r=\"25\"/>\n",
       "<circle clip-path=\"url(#clip3402)\" style=\"fill:#fee8c8; stroke:none; fill-opacity:1\" cx=\"540.313\" cy=\"1362.17\" r=\"21\"/>\n",
       "<circle clip-path=\"url(#clip3402)\" style=\"fill:#000000; stroke:none; fill-opacity:1\" cx=\"596.917\" cy=\"1362.17\" r=\"25\"/>\n",
       "<circle clip-path=\"url(#clip3402)\" style=\"fill:#fee8c8; stroke:none; fill-opacity:1\" cx=\"596.917\" cy=\"1362.17\" r=\"21\"/>\n",
       "<circle clip-path=\"url(#clip3402)\" style=\"fill:#000000; stroke:none; fill-opacity:1\" cx=\"653.52\" cy=\"1362.17\" r=\"25\"/>\n",
       "<circle clip-path=\"url(#clip3402)\" style=\"fill:#fee8c8; stroke:none; fill-opacity:1\" cx=\"653.52\" cy=\"1362.17\" r=\"21\"/>\n",
       "<circle clip-path=\"url(#clip3402)\" style=\"fill:#000000; stroke:none; fill-opacity:1\" cx=\"710.124\" cy=\"1362.17\" r=\"25\"/>\n",
       "<circle clip-path=\"url(#clip3402)\" style=\"fill:#fee8c8; stroke:none; fill-opacity:1\" cx=\"710.124\" cy=\"1362.17\" r=\"21\"/>\n",
       "<circle clip-path=\"url(#clip3402)\" style=\"fill:#000000; stroke:none; fill-opacity:1\" cx=\"766.727\" cy=\"1362.17\" r=\"25\"/>\n",
       "<circle clip-path=\"url(#clip3402)\" style=\"fill:#fee8c8; stroke:none; fill-opacity:1\" cx=\"766.727\" cy=\"1362.17\" r=\"21\"/>\n",
       "<circle clip-path=\"url(#clip3402)\" style=\"fill:#000000; stroke:none; fill-opacity:1\" cx=\"823.331\" cy=\"1362.17\" r=\"25\"/>\n",
       "<circle clip-path=\"url(#clip3402)\" style=\"fill:#fee8c8; stroke:none; fill-opacity:1\" cx=\"823.331\" cy=\"1362.17\" r=\"21\"/>\n",
       "<circle clip-path=\"url(#clip3402)\" style=\"fill:#000000; stroke:none; fill-opacity:1\" cx=\"879.934\" cy=\"1362.17\" r=\"25\"/>\n",
       "<circle clip-path=\"url(#clip3402)\" style=\"fill:#fee8c8; stroke:none; fill-opacity:1\" cx=\"879.934\" cy=\"1362.17\" r=\"21\"/>\n",
       "<circle clip-path=\"url(#clip3402)\" style=\"fill:#000000; stroke:none; fill-opacity:1\" cx=\"936.538\" cy=\"1362.17\" r=\"25\"/>\n",
       "<circle clip-path=\"url(#clip3402)\" style=\"fill:#fee8c8; stroke:none; fill-opacity:1\" cx=\"936.538\" cy=\"1362.17\" r=\"21\"/>\n",
       "<circle clip-path=\"url(#clip3402)\" style=\"fill:#000000; stroke:none; fill-opacity:1\" cx=\"993.141\" cy=\"1362.17\" r=\"25\"/>\n",
       "<circle clip-path=\"url(#clip3402)\" style=\"fill:#fee8c8; stroke:none; fill-opacity:1\" cx=\"993.141\" cy=\"1362.17\" r=\"21\"/>\n",
       "<circle clip-path=\"url(#clip3402)\" style=\"fill:#000000; stroke:none; fill-opacity:1\" cx=\"1049.74\" cy=\"1362.17\" r=\"25\"/>\n",
       "<circle clip-path=\"url(#clip3402)\" style=\"fill:#fee8c8; stroke:none; fill-opacity:1\" cx=\"1049.74\" cy=\"1362.17\" r=\"21\"/>\n",
       "<circle clip-path=\"url(#clip3402)\" style=\"fill:#000000; stroke:none; fill-opacity:1\" cx=\"1106.35\" cy=\"1362.17\" r=\"25\"/>\n",
       "<circle clip-path=\"url(#clip3402)\" style=\"fill:#fee8c8; stroke:none; fill-opacity:1\" cx=\"1106.35\" cy=\"1362.17\" r=\"21\"/>\n",
       "<circle clip-path=\"url(#clip3402)\" style=\"fill:#000000; stroke:none; fill-opacity:1\" cx=\"1162.95\" cy=\"1362.17\" r=\"25\"/>\n",
       "<circle clip-path=\"url(#clip3402)\" style=\"fill:#fee8c8; stroke:none; fill-opacity:1\" cx=\"1162.95\" cy=\"1362.17\" r=\"21\"/>\n",
       "<circle clip-path=\"url(#clip3402)\" style=\"fill:#000000; stroke:none; fill-opacity:1\" cx=\"1219.55\" cy=\"1362.17\" r=\"25\"/>\n",
       "<circle clip-path=\"url(#clip3402)\" style=\"fill:#fee8c8; stroke:none; fill-opacity:1\" cx=\"1219.55\" cy=\"1362.17\" r=\"21\"/>\n",
       "<circle clip-path=\"url(#clip3402)\" style=\"fill:#000000; stroke:none; fill-opacity:1\" cx=\"1276.16\" cy=\"1362.17\" r=\"25\"/>\n",
       "<circle clip-path=\"url(#clip3402)\" style=\"fill:#fee8c8; stroke:none; fill-opacity:1\" cx=\"1276.16\" cy=\"1362.17\" r=\"21\"/>\n",
       "<circle clip-path=\"url(#clip3402)\" style=\"fill:#000000; stroke:none; fill-opacity:1\" cx=\"1332.76\" cy=\"1362.17\" r=\"25\"/>\n",
       "<circle clip-path=\"url(#clip3402)\" style=\"fill:#fee8c8; stroke:none; fill-opacity:1\" cx=\"1332.76\" cy=\"1362.17\" r=\"21\"/>\n",
       "<circle clip-path=\"url(#clip3402)\" style=\"fill:#000000; stroke:none; fill-opacity:1\" cx=\"1389.37\" cy=\"1362.17\" r=\"25\"/>\n",
       "<circle clip-path=\"url(#clip3402)\" style=\"fill:#fee8c8; stroke:none; fill-opacity:1\" cx=\"1389.37\" cy=\"1362.17\" r=\"21\"/>\n",
       "<circle clip-path=\"url(#clip3402)\" style=\"fill:#000000; stroke:none; fill-opacity:1\" cx=\"1445.97\" cy=\"1362.17\" r=\"25\"/>\n",
       "<circle clip-path=\"url(#clip3402)\" style=\"fill:#fee8c8; stroke:none; fill-opacity:1\" cx=\"1445.97\" cy=\"1362.17\" r=\"21\"/>\n",
       "<circle clip-path=\"url(#clip3402)\" style=\"fill:#000000; stroke:none; fill-opacity:1\" cx=\"1502.57\" cy=\"1362.17\" r=\"25\"/>\n",
       "<circle clip-path=\"url(#clip3402)\" style=\"fill:#fee8c8; stroke:none; fill-opacity:1\" cx=\"1502.57\" cy=\"1362.17\" r=\"21\"/>\n",
       "<circle clip-path=\"url(#clip3402)\" style=\"fill:#000000; stroke:none; fill-opacity:1\" cx=\"1559.18\" cy=\"1362.17\" r=\"25\"/>\n",
       "<circle clip-path=\"url(#clip3402)\" style=\"fill:#fee8c8; stroke:none; fill-opacity:1\" cx=\"1559.18\" cy=\"1362.17\" r=\"21\"/>\n",
       "<circle clip-path=\"url(#clip3402)\" style=\"fill:#000000; stroke:none; fill-opacity:1\" cx=\"1615.78\" cy=\"1362.17\" r=\"25\"/>\n",
       "<circle clip-path=\"url(#clip3402)\" style=\"fill:#fee8c8; stroke:none; fill-opacity:1\" cx=\"1615.78\" cy=\"1362.17\" r=\"21\"/>\n",
       "<circle clip-path=\"url(#clip3402)\" style=\"fill:#000000; stroke:none; fill-opacity:1\" cx=\"1672.38\" cy=\"1362.17\" r=\"25\"/>\n",
       "<circle clip-path=\"url(#clip3402)\" style=\"fill:#fee8c8; stroke:none; fill-opacity:1\" cx=\"1672.38\" cy=\"1362.17\" r=\"21\"/>\n",
       "<circle clip-path=\"url(#clip3402)\" style=\"fill:#000000; stroke:none; fill-opacity:1\" cx=\"1728.99\" cy=\"1362.17\" r=\"25\"/>\n",
       "<circle clip-path=\"url(#clip3402)\" style=\"fill:#fee8c8; stroke:none; fill-opacity:1\" cx=\"1728.99\" cy=\"1362.17\" r=\"21\"/>\n",
       "<circle clip-path=\"url(#clip3402)\" style=\"fill:#000000; stroke:none; fill-opacity:1\" cx=\"1785.59\" cy=\"1362.17\" r=\"25\"/>\n",
       "<circle clip-path=\"url(#clip3402)\" style=\"fill:#fee8c8; stroke:none; fill-opacity:1\" cx=\"1785.59\" cy=\"1362.17\" r=\"21\"/>\n",
       "<circle clip-path=\"url(#clip3402)\" style=\"fill:#000000; stroke:none; fill-opacity:1\" cx=\"1842.19\" cy=\"1362.17\" r=\"25\"/>\n",
       "<circle clip-path=\"url(#clip3402)\" style=\"fill:#fee8c8; stroke:none; fill-opacity:1\" cx=\"1842.19\" cy=\"1362.17\" r=\"21\"/>\n",
       "<circle clip-path=\"url(#clip3402)\" style=\"fill:#000000; stroke:none; fill-opacity:1\" cx=\"1898.8\" cy=\"1362.17\" r=\"25\"/>\n",
       "<circle clip-path=\"url(#clip3402)\" style=\"fill:#fee8c8; stroke:none; fill-opacity:1\" cx=\"1898.8\" cy=\"1362.17\" r=\"21\"/>\n",
       "<circle clip-path=\"url(#clip3402)\" style=\"fill:#000000; stroke:none; fill-opacity:1\" cx=\"1955.4\" cy=\"1362.17\" r=\"25\"/>\n",
       "<circle clip-path=\"url(#clip3402)\" style=\"fill:#fee8c8; stroke:none; fill-opacity:1\" cx=\"1955.4\" cy=\"1362.17\" r=\"21\"/>\n",
       "<circle clip-path=\"url(#clip3402)\" style=\"fill:#000000; stroke:none; fill-opacity:1\" cx=\"2012\" cy=\"1362.17\" r=\"25\"/>\n",
       "<circle clip-path=\"url(#clip3402)\" style=\"fill:#fee8c8; stroke:none; fill-opacity:1\" cx=\"2012\" cy=\"1362.17\" r=\"21\"/>\n",
       "<circle clip-path=\"url(#clip3402)\" style=\"fill:#000000; stroke:none; fill-opacity:1\" cx=\"2068.61\" cy=\"1362.17\" r=\"25\"/>\n",
       "<circle clip-path=\"url(#clip3402)\" style=\"fill:#fee8c8; stroke:none; fill-opacity:1\" cx=\"2068.61\" cy=\"1362.17\" r=\"21\"/>\n",
       "<circle clip-path=\"url(#clip3402)\" style=\"fill:#000000; stroke:none; fill-opacity:1\" cx=\"2125.21\" cy=\"1362.17\" r=\"25\"/>\n",
       "<circle clip-path=\"url(#clip3402)\" style=\"fill:#fee8c8; stroke:none; fill-opacity:1\" cx=\"2125.21\" cy=\"1362.17\" r=\"21\"/>\n",
       "<circle clip-path=\"url(#clip3402)\" style=\"fill:#000000; stroke:none; fill-opacity:1\" cx=\"2181.81\" cy=\"1362.17\" r=\"25\"/>\n",
       "<circle clip-path=\"url(#clip3402)\" style=\"fill:#fee8c8; stroke:none; fill-opacity:1\" cx=\"2181.81\" cy=\"1362.17\" r=\"21\"/>\n",
       "<circle clip-path=\"url(#clip3402)\" style=\"fill:#000000; stroke:none; fill-opacity:1\" cx=\"2238.42\" cy=\"1362.17\" r=\"25\"/>\n",
       "<circle clip-path=\"url(#clip3402)\" style=\"fill:#fee8c8; stroke:none; fill-opacity:1\" cx=\"2238.42\" cy=\"1362.17\" r=\"21\"/>\n",
       "<circle clip-path=\"url(#clip3402)\" style=\"fill:#000000; stroke:none; fill-opacity:1\" cx=\"2295.02\" cy=\"1362.17\" r=\"25\"/>\n",
       "<circle clip-path=\"url(#clip3402)\" style=\"fill:#fee8c8; stroke:none; fill-opacity:1\" cx=\"2295.02\" cy=\"1362.17\" r=\"21\"/>\n",
       "<polygon clip-path=\"url(#clip3400)\" points=\"\n",
       "1642.92,402.924 2280.76,402.924 2280.76,85.4041 1642.92,85.4041 \n",
       "  \" fill=\"#ffffff\" fill-rule=\"evenodd\" fill-opacity=\"1\"/>\n",
       "<polyline clip-path=\"url(#clip3400)\" style=\"stroke:#000000; stroke-width:4; stroke-opacity:1; fill:none\" points=\"\n",
       "  1642.92,402.924 2280.76,402.924 2280.76,85.4041 1642.92,85.4041 1642.92,402.924 \n",
       "  \"/>\n",
       "<polyline clip-path=\"url(#clip3400)\" style=\"stroke:#e34a33; stroke-width:24; stroke-opacity:1; fill:none\" points=\"\n",
       "  1666.92,191.244 1810.92,191.244 \n",
       "  \"/>\n",
       "<circle clip-path=\"url(#clip3400)\" style=\"fill:#000000; stroke:none; fill-opacity:1\" cx=\"1750.92\" cy=\"191.244\" r=\"25\"/>\n",
       "<circle clip-path=\"url(#clip3400)\" style=\"fill:#e34a33; stroke:none; fill-opacity:1\" cx=\"1750.92\" cy=\"191.244\" r=\"21\"/>\n",
       "<g clip-path=\"url(#clip3400)\">\n",
       "<text style=\"fill:#000000; fill-opacity:1; font-family:Arial,Helvetica Neue,Helvetica,sans-serif; font-size:84px; text-anchor:start;\" transform=\"rotate(0, 1834.92, 221.744)\" x=\"1834.92\" y=\"221.744\">Indirect</text>\n",
       "</g>\n",
       "<polyline clip-path=\"url(#clip3400)\" style=\"stroke:#fee8c8; stroke-width:4; stroke-opacity:1; fill:none\" points=\"\n",
       "  1666.92,297.084 1810.92,297.084 \n",
       "  \"/>\n",
       "<circle clip-path=\"url(#clip3400)\" style=\"fill:#000000; stroke:none; fill-opacity:1\" cx=\"1750.92\" cy=\"297.084\" r=\"25\"/>\n",
       "<circle clip-path=\"url(#clip3400)\" style=\"fill:#fee8c8; stroke:none; fill-opacity:1\" cx=\"1750.92\" cy=\"297.084\" r=\"21\"/>\n",
       "<g clip-path=\"url(#clip3400)\">\n",
       "<text style=\"fill:#000000; fill-opacity:1; font-family:Arial,Helvetica Neue,Helvetica,sans-serif; font-size:84px; text-anchor:start;\" transform=\"rotate(0, 1834.92, 327.584)\" x=\"1834.92\" y=\"327.584\">Semidirect</text>\n",
       "</g>\n",
       "</svg>\n"
      ]
     },
     "execution_count": 144,
     "metadata": {},
     "output_type": "execute_result"
    }
   ],
   "source": [
    "j = 2\n",
    "# xlabel=latexstring(\"t\")\n",
    "# ylabel=latexstring(\"z\")\n",
    "xlabel = \"time\"\n",
    "ylabel = \"vertical position\"\n",
    "plot(traj_indirect[7],traj_indirect[8][j,:],label=\"Indirect\",seriescolor=RGB(((227,74,51) ./ 255.)...),linewidth=6,marker=6,xlabel=xlabel,xtickfont=font, ytickfont=font, legendfont=font)\n",
    "plot!(traj_semidirect[7],traj_semidirect[8][j,:],label=\"Semidirect\",seriescolor=RGB(((254,232,200) ./ 255.)...),linewidth=1,marker=6,ylabel=ylabel)"
   ]
  },
  {
   "cell_type": "code",
   "execution_count": 145,
   "metadata": {},
   "outputs": [],
   "source": [
    "savefig(string(\"slidingbox_z_6.svg\")) "
   ]
  },
  {
   "cell_type": "code",
   "execution_count": 7,
   "metadata": {},
   "outputs": [
    {
     "data": {
      "text/plain": [
       "3-element Array{Float64,1}:\n",
       " 0.0                   \n",
       " 4.1359030627651384e-24\n",
       " 0.9002303388292213    "
      ]
     },
     "metadata": {},
     "output_type": "display_data"
    },
    {
     "data": {
      "text/plain": [
       "3-element Array{Float64,1}:\n",
       " 0.0                 \n",
       " 0.019438219345822134\n",
       " 1.7453292392539714  "
      ]
     },
     "metadata": {},
     "output_type": "display_data"
    }
   ],
   "source": [
    "display(traj_indirect[2][end])\n",
    "display(traj_semidirect[2][end])"
   ]
  },
  {
   "cell_type": "code",
   "execution_count": 28,
   "metadata": {},
   "outputs": [
    {
     "data": {
      "text/plain": [
       "652"
      ]
     },
     "metadata": {},
     "output_type": "display_data"
    },
    {
     "data": {
      "text/plain": [
       "380"
      ]
     },
     "metadata": {},
     "output_type": "display_data"
    }
   ],
   "source": [
    "display(length(traj_indirect[9]))\n",
    "display(length(traj_semidirect[9]))"
   ]
  },
  {
   "cell_type": "markdown",
   "metadata": {},
   "source": [
    "# Trajectory optimization of jumper robot"
   ]
  },
  {
   "cell_type": "code",
   "execution_count": null,
   "metadata": {},
   "outputs": [],
   "source": [
    "urdf = joinpath(\"..\", \"..\", \"urdf\", \"jumper\", \"jumper.urdf\")\n",
    "mechanism = parse_urdf(Float64, urdf)\n",
    "\n",
    "floor = findbody(mechanism, \"floor\")\n",
    "point = Point3D(default_frame(floor), SVector([0.,0.,0.]...))\n",
    "normal = FreeVector3D(default_frame(floor), SVector([0.,0.,1.]...))\n",
    "floor_obs = Obstacle(floor, point, normal, :xyz, 100.)\n",
    "\n",
    "obstacles = [floor_obs]\n",
    "env = Environment(mechanism, urdf, obstacles);"
   ]
  },
  {
   "cell_type": "code",
   "execution_count": null,
   "metadata": {},
   "outputs": [],
   "source": [
    "mvis = MechanismVisualizer(mechanism, URDFVisuals(urdf));\n",
    "open(mvis)"
   ]
  },
  {
   "cell_type": "code",
   "execution_count": null,
   "metadata": {},
   "outputs": [],
   "source": [
    "set_configuration!(mvis, [0., -2, .6, -1.2])"
   ]
  },
  {
   "cell_type": "code",
   "execution_count": null,
   "metadata": {},
   "outputs": [],
   "source": [
    "N = 10\n",
    "Δt = 0.05\n",
    "q0 = [0., -2, .6, -1.2]\n",
    "v0 = zeros(num_velocities(mechanism))\n",
    "\n",
    "sim_data = get_sim_data_indirect(mechanism,env,Δt)\n",
    "null_ctrl! = (u,t,x) -> u[:] .= 0.\n",
    "x0 = MechanismState(mechanism)\n",
    "set_configuration!(x0, q0)\n",
    "set_velocity!(x0, v0)\n",
    "setdirty!(x0)\n",
    "traj_sim = Bilevel.simulate(sim_data,null_ctrl!,x0,N)\n",
    "setanimation!(mvis, traj_sim[6], traj_sim[1])"
   ]
  },
  {
   "cell_type": "code",
   "execution_count": null,
   "metadata": {},
   "outputs": [],
   "source": [
    "q_nom = copy(traj_sim[1][end])\n",
    "q_min = min.(q_nom, [-20., -10., -pi, -pi])\n",
    "q_max = max.(q_nom, [20., -0.25, pi, pi])\n",
    "\n",
    "N = 20\n",
    "Δt = 0.025\n",
    "\n",
    "function add_prob_constraints!(sim_data)\n",
    "    vs = sim_data.vs\n",
    "\n",
    "    add_eq!(sim_data, :cq1x, 4, x -> vs(x, :q1)[1:4] - q_nom[1:4])\n",
    "    add_eq!(sim_data, :cv1, num_velocities(mechanism), x -> vs(x, :v1))\n",
    "    \n",
    "    add_eq!(sim_data, :cqNy, 1, x -> -1.25 - vs(x, Symbol(\"q\", N))[2])\n",
    "end\n",
    "\n",
    "function add_prob_obj!(sim_data)\n",
    "    vs = sim_data.vs    \n",
    "\n",
    "end\n",
    "\n",
    "function get_prob_limits(sim_data)\n",
    "    x_min = -1e19*ones(sim_data.vs.num_vars)\n",
    "    x_max = 1e19*ones(sim_data.vs.num_vars)\n",
    "    \n",
    "    # joint limits\n",
    "    add_box_con_snopt!(x_min, x_max, sim_data, :q, q_min, q_max, 1:N)\n",
    "    add_box_con_snopt!(x_min, x_max, sim_data, :h, [Δt], [Δt], 1:N-1)\n",
    "    \n",
    "    # torques limits\n",
    "    u_limit = [0.,0.,0.,100.]\n",
    "    add_box_con_snopt!(x_min, x_max, sim_data, :u, -u_limit .* ones(num_velocities(mechanism)), u_limit .* ones(num_velocities(mechanism)), 1:N-1)\n",
    "    \n",
    "    x_min, x_max\n",
    "end\n",
    "\n",
    "function get_prob_init(sim_data)\n",
    "    x0 = zeros(sim_data.vs.num_vars)\n",
    "    for n = 1:N\n",
    "        qn = copy(q_nom)\n",
    "        x0[sim_data.vs(Symbol(\"q\", n))] .= qn\n",
    "    end\n",
    "    \n",
    "    x0\n",
    "end\n",
    "\n",
    "function setup_prob!(sim_data)\n",
    "    add_prob_constraints!(sim_data)\n",
    "    add_prob_obj!(sim_data)\n",
    "    x_min, x_max = get_prob_limits(sim_data)\n",
    "    x0 = get_prob_init(sim_data)\n",
    "    \n",
    "    x0, x_min, x_max\n",
    "end"
   ]
  },
  {
   "cell_type": "code",
   "execution_count": null,
   "metadata": {},
   "outputs": [],
   "source": [
    "# Semidirect\n",
    "\n",
    "sim_data = get_trajopt_data_semidirect(mechanism,env,Δt,N,relax_comp=false)\n",
    "x0, x_min, x_max = setup_prob!(sim_data);"
   ]
  },
  {
   "cell_type": "code",
   "execution_count": null,
   "metadata": {},
   "outputs": [],
   "source": [
    "con_tol = 1e-4\n",
    "obj_tol = 1e-4\n",
    "max_iter = 5000\n",
    "\n",
    "display(@time traj_semidirect = Bilevel.trajopt(sim_data, x0=x0, x_min=x_min, x_max=x_max, verbose=1, opt_tol=obj_tol, major_feas=con_tol, minor_feas=con_tol, max_iter=max_iter))\n",
    "\n",
    "x0 = traj_semidirect[9]\n",
    "\n",
    "setanimation!(mvis, traj_semidirect[7], traj_semidirect[1])"
   ]
  },
  {
   "cell_type": "code",
   "execution_count": null,
   "metadata": {},
   "outputs": [],
   "source": [
    "qi = 1"
   ]
  },
  {
   "cell_type": "code",
   "execution_count": null,
   "metadata": {},
   "outputs": [],
   "source": [
    "q = traj_semidirect[1][qi]\n",
    "set_configuration!(mvis, q) \n",
    "qi += 1"
   ]
  },
  {
   "cell_type": "code",
   "execution_count": null,
   "metadata": {},
   "outputs": [],
   "source": [
    "function run_trajopt()\n",
    "    Bilevel.solve_rosenbrock() # clearing SNOPT\n",
    "    Bilevel.trajopt(sim_data, x0=x0, x_min=x_min, x_max=x_max, verbose=0, opt_tol=obj_tol, major_feas=con_tol, minor_feas=con_tol, max_iter=max_iter)\n",
    "end\n",
    "\n",
    "@benchmark run_trajopt()"
   ]
  },
  {
   "cell_type": "code",
   "execution_count": null,
   "metadata": {},
   "outputs": [],
   "source": [
    "# Indirect\n",
    "\n",
    "sim_data = get_trajopt_data_indirect(mechanism,env,Δt,N,relax_comp=true)\n",
    "x0, x_min, x_max = setup_prob!(sim_data);"
   ]
  },
  {
   "cell_type": "code",
   "execution_count": null,
   "metadata": {},
   "outputs": [],
   "source": [
    "con_tol = 1e-4\n",
    "obj_tol = 1e-4\n",
    "max_iter = 5000\n",
    "\n",
    "display(@time traj_inidirect = Bilevel.trajopt(sim_data, x0=x0, x_min=x_min, x_max=x_max, verbose=1, opt_tol=obj_tol, major_feas=con_tol, minor_feas=con_tol, max_iter=max_iter))\n",
    "\n",
    "x0 = traj_inidirect[9]\n",
    "\n",
    "setanimation!(mvis, traj_inidirect[7], traj_inidirect[1])"
   ]
  },
  {
   "cell_type": "code",
   "execution_count": null,
   "metadata": {},
   "outputs": [],
   "source": [
    "function run_trajopt()\n",
    "    Bilevel.solve_rosenbrock() # clearing SNOPT\n",
    "    Bilevel.trajopt(sim_data, x0=x0, x_min=x_min, x_max=x_max, verbose=0, opt_tol=obj_tol, major_feas=con_tol, minor_feas=con_tol, max_iter=max_iter)\n",
    "end\n",
    "\n",
    "@benchmark run_trajopt()"
   ]
  },
  {
   "cell_type": "markdown",
   "metadata": {},
   "source": [
    "# Trajectory optimization of little dog"
   ]
  },
  {
   "cell_type": "code",
   "execution_count": 4,
   "metadata": {},
   "outputs": [],
   "source": [
    "urdf = joinpath(\"..\", \"..\", \"urdf\", \"little_dog\", \"little_dog2d.urdf\")\n",
    "mechanism = parse_urdf(Float64, urdf)\n",
    "\n",
    "floor = findbody(mechanism, \"floor\")\n",
    "point = Point3D(default_frame(floor), SVector([0.,0.,0.]...))\n",
    "normal = FreeVector3D(default_frame(floor), SVector([0.,0.,1.]...))\n",
    "floor_obs = Obstacle(floor, point, normal, :xyz, 1.)\n",
    "\n",
    "obstacles = [floor_obs]\n",
    "env = Environment(mechanism, urdf, obstacles);"
   ]
  },
  {
   "cell_type": "code",
   "execution_count": 5,
   "metadata": {},
   "outputs": [
    {
     "name": "stderr",
     "output_type": "stream",
     "text": [
      "┌ Info: Serving MeshCat visualizer at http://127.0.0.1:8700\n",
      "└ @ MeshCat /home/blandry/.julia/packages/MeshCat/WlA0B/src/servers.jl:24\n"
     ]
    },
    {
     "data": {
      "text/plain": [
       "Process(`\u001b[4mxdg-open\u001b[24m \u001b[4mhttp://127.0.0.1:8700\u001b[24m`, ProcessExited(0))"
      ]
     },
     "execution_count": 5,
     "metadata": {},
     "output_type": "execute_result"
    },
    {
     "name": "stderr",
     "output_type": "stream",
     "text": [
      "Invalid MIT-MAGIC-COOKIE-1 key[2523:2523:1002/141029.615738:ERROR:browser_main_loop.cc(279)] Gtk: cannot open display: :0\n"
     ]
    }
   ],
   "source": [
    "mvis = MechanismVisualizer(mechanism, URDFVisuals(urdf));\n",
    "open(mvis)"
   ]
  },
  {
   "cell_type": "code",
   "execution_count": 6,
   "metadata": {},
   "outputs": [],
   "source": [
    "N = 8\n",
    "Δt = 0.025\n",
    "q0 = [0., -.25, 0., 0.25, -0.25, 0.25, -0.25, pi/4, pi/4, pi/4, pi/4, -pi/2, -pi/2, -pi/2, -pi/2] \n",
    "v0 = zeros(num_velocities(mechanism))\n",
    "\n",
    "sim_data = get_sim_data_indirect(mechanism,env,Δt)\n",
    "null_ctrl! = (u,t,x) -> u[:] .= 0.\n",
    "x0 = MechanismState(mechanism)\n",
    "set_configuration!(x0, q0)\n",
    "set_velocity!(x0, v0)\n",
    "setdirty!(x0)\n",
    "traj_sim = Bilevel.simulate(sim_data,null_ctrl!,x0,N)\n",
    "setanimation!(mvis, traj_sim[6], traj_sim[1])"
   ]
  },
  {
   "cell_type": "code",
   "execution_count": null,
   "metadata": {},
   "outputs": [],
   "source": [
    "set_configuration!(mvis, [0,-.2,0,0,0,0,0,0,0,0,0,-1.5,-1.5,0,0])"
   ]
  },
  {
   "cell_type": "code",
   "execution_count": 7,
   "metadata": {},
   "outputs": [
    {
     "data": {
      "text/plain": [
       "setup_prob! (generic function with 1 method)"
      ]
     },
     "execution_count": 7,
     "metadata": {},
     "output_type": "execute_result"
    }
   ],
   "source": [
    "q_nom = copy(traj_sim[1][end])\n",
    "q_min = min.(q_nom, [-5., -.5, -0.1*pi, 0.25, -0.25, 0.25, -0.25, -3.5, -3.5, -3.5, -3.5, -3.1, -3.1, -3.1, -3.1])\n",
    "# q_min = min.(q_nom, [-5., -.5, -0.1*pi, 0.25, -0.25, 0.25, -0.25, -3.5, -3.5, -3.5, -3.5, -1.5, -1.5, -3.1, -3.1])\n",
    "# q_min = min.(q_nom, [-5., -.5, -0.05*pi, 0.25, -0.25, 0.25, -0.25, -3.5, -3.5, -3.5, -3.5, -3.1, -3.1, -3.1, -3.1])\n",
    "q_max = max.(q_nom, [5., -0.07, 0.05*pi, 0.25, -0.25, 0.25, -0.25, 2.4, 2.4, 2.4, 2.4, 1., 1., 1., 1.])\n",
    "\n",
    "# x_goal = 0.25\n",
    "x_goal = .2\n",
    "N = 12\n",
    "Δt = 0.05\n",
    "\n",
    "function add_prob_constraints!(sim_data)\n",
    "    vs = sim_data.vs\n",
    "\n",
    "    add_eq!(sim_data, :cq1x, 1, x -> vs(x, :q1)[1])\n",
    "    add_eq!(sim_data, :cv1, num_velocities(mechanism), x -> vs(x, :v1))\n",
    "\n",
    "    add_ineq!(sim_data, :cqNx, 1, x -> x_goal - vs(x, Symbol(\"q\", N))[1])\n",
    "    \n",
    "    add_eq!(sim_data, :cqN, num_positions(mechanism)-1, x -> vs(x, Symbol(\"q\", N))[2:end] - vs(x, :q1)[2:end])\n",
    "    add_eq!(sim_data, :cvN, num_velocities(mechanism), x -> vs(x, Symbol(\"v\", N)))\n",
    "    \n",
    "    # symmetry\n",
    "    for n = 1:N\n",
    "        add_eq!(sim_data, Symbol(\"cqSym1_\", n), 1, x -> vs(x, Symbol(\"q\", n))[8] - vs(x, Symbol(\"q\", n))[9])\n",
    "        add_eq!(sim_data, Symbol(\"cqSym2_\", n), 1, x -> vs(x, Symbol(\"q\", n))[10] - vs(x, Symbol(\"q\", n))[11])\n",
    "        add_eq!(sim_data, Symbol(\"cqSym3_\", n), 1, x -> vs(x, Symbol(\"q\", n))[12] - vs(x, Symbol(\"q\", n))[13]) \n",
    "        add_eq!(sim_data, Symbol(\"cqSym4_\", n), 1, x -> vs(x, Symbol(\"q\", n))[14] - vs(x, Symbol(\"q\", n))[15]) \n",
    "    end\n",
    "    \n",
    "#     # start at stance (optional for gait)\n",
    "#     cn0 = .5\n",
    "#     add_ineq!(sim_data, Symbol(\"cn1_\", 1), 1, x -> cn0 .- vs(x, Symbol(\"c_n1_\", 1)))\n",
    "#     add_ineq!(sim_data, Symbol(\"cn2_\", 1), 1, x -> cn0 .- vs(x, Symbol(\"c_n2_\", 1)))\n",
    "#     add_ineq!(sim_data, Symbol(\"cn3_\", 1), 1, x -> cn0 .- vs(x, Symbol(\"c_n3_\", 1)))\n",
    "#     add_ineq!(sim_data, Symbol(\"cn4_\", 1), 1, x -> cn0 .- vs(x, Symbol(\"c_n4_\", 1)))\n",
    "    \n",
    "    # middle should be contact free\n",
    "    flight_start = 6\n",
    "    flight_end = 6\n",
    "    for n = flight_start:flight_end\n",
    "        add_eq!(sim_data, Symbol(\"cn1f_\", n), 1, x -> vs(x, Symbol(\"c_n1_\", n)))\n",
    "        add_eq!(sim_data, Symbol(\"cn2f_\", n), 1, x -> vs(x, Symbol(\"c_n2_\", n)))\n",
    "        add_eq!(sim_data, Symbol(\"cn3f_\", n), 1, x -> vs(x, Symbol(\"c_n3_\", n)))\n",
    "        add_eq!(sim_data, Symbol(\"cn4f_\", n), 1, x -> vs(x, Symbol(\"c_n4_\", n)))\n",
    "    end\n",
    "end\n",
    "\n",
    "function add_prob_obj!(sim_data)\n",
    "    vs = sim_data.vs    \n",
    "#     for n = 1:N\n",
    "#         add_obj!(sim_data, Symbol(\"v\", n), x -> sim_data.vs(x, Symbol(\"v\", n))' * sim_data.vs(x, Symbol(\"v\", n)))\n",
    "#     end\n",
    "end\n",
    "\n",
    "function get_prob_limits(sim_data)\n",
    "    x_min = -1e12*ones(sim_data.vs.num_vars)\n",
    "    x_max = 1e12*ones(sim_data.vs.num_vars)\n",
    "    \n",
    "    # joint limits\n",
    "    add_box_con_snopt!(x_min, x_max, sim_data, :q, q_min, q_max, 1:N)\n",
    "    add_box_con_snopt!(x_min, x_max, sim_data, :h, [Δt], [Δt], 1:N-1)\n",
    "    \n",
    "    # torques limits\n",
    "    u_mag_max = 5.\n",
    "    u_min = vcat(zeros(3), -u_mag_max * ones(12))\n",
    "    u_max = vcat(zeros(3), u_mag_max * ones(12))\n",
    "    add_box_con_snopt!(x_min, x_max, sim_data, :u, u_min, u_max, 1:N-1)\n",
    "    \n",
    "    # joint velocity limits\n",
    "    v_mag_max = 20.\n",
    "    v_min = vcat(-1e12*ones(3), -v_mag_max * ones(12))\n",
    "    v_max = vcat(1e12*ones(3), v_mag_max * ones(12))\n",
    "    add_box_con_snopt!(x_min, x_max, sim_data, :v, v_min, v_max, 1:N)\n",
    "    \n",
    "    x_min, x_max\n",
    "end\n",
    "\n",
    "function get_prob_init(sim_data)\n",
    "    x0 = zeros(sim_data.vs.num_vars)\n",
    "    for n = 1:N\n",
    "        qn = copy(q_nom)\n",
    "        qn[1] = (n/N)*(x_goal - 0.) + 0.\n",
    "        x0[sim_data.vs(Symbol(\"q\", n))] .= qn\n",
    "    end\n",
    "    \n",
    "    x0\n",
    "end\n",
    "\n",
    "function setup_prob!(sim_data)\n",
    "    add_prob_constraints!(sim_data)\n",
    "    add_prob_obj!(sim_data)\n",
    "    x_min, x_max = get_prob_limits(sim_data)\n",
    "    x0 = get_prob_init(sim_data)\n",
    "    \n",
    "    x0, x_min, x_max\n",
    "end"
   ]
  },
  {
   "cell_type": "code",
   "execution_count": 8,
   "metadata": {},
   "outputs": [],
   "source": [
    "# Semidirect\n",
    "\n",
    "sim_data = get_trajopt_data_semidirect(mechanism,env,Δt,N,relax_comp=false)\n",
    "x0, x_min, x_max = setup_prob!(sim_data);"
   ]
  },
  {
   "cell_type": "code",
   "execution_count": 9,
   "metadata": {},
   "outputs": [
    {
     "name": "stdout",
     "output_type": "stream",
     "text": [
      "Finished successfully: optimality conditions satisfied\n"
     ]
    },
    {
     "data": {
      "text/plain": [
       "(Array{Float64,1}[[0.0, -0.0986121, 0.149391, 0.21524, -0.21524, 0.25, -0.237887, -1.3243, -1.3243, 0.431518, 0.431518, -0.0161614, -0.0161614, -1.27376, -1.27376], [0.00103968, -0.0764549, 0.154156, 0.25, -0.25, 0.242352, -0.249963, -0.876708, -0.876708, 0.352287, 0.352287, -1.01616, -1.01616, -1.47359, -1.47359], [0.00752479, -0.0744757, -0.0673925, 0.218081, -0.218081, 0.249998, -0.249997, -0.374095, -0.374095, 1.31336, 1.31336, -1.18703, -1.18703, -2.02837, -2.02837], [0.0139157, -0.07, 0.156944, 0.25, -0.25, 0.243142, -0.249826, -0.102817, -0.102817, 0.902192, 0.902192, -2.13091, -2.13091, -1.77638, -1.77638], [0.043446, -0.114971, -0.314012, 0.21524, -0.21524, 0.249996, -0.246181, 0.531484, 0.531484, 1.87935, 1.87935, -1.13091, -1.13091, -1.98688, -1.98688], [0.0680422, -0.157727, -0.221017, 0.216912, -0.223154, 0.25, -0.237905, -0.454265, -0.454265, 0.897813, 0.897813, -0.939846, -0.939846, -0.986882, -0.986882], [0.0994737, -0.174738, -0.135633, 0.242464, -0.233382, 0.245095, -0.240743, -1.44892, -1.44892, -0.102187, -0.102187, -0.157714, -0.157714, -1.95772, -1.95772], [0.13484, -0.169664, -0.0871053, 0.216688, -0.216113, 0.25, -0.241733, -2.23103, -2.23103, -1.10217, -1.10217, 0.494422, 0.494422, -2.93296, -2.93296], [0.169092, -0.146979, -0.163454, 0.25, -0.235061, 0.242352, -0.240123, -1.73992, -1.73992, -0.152177, -0.152177, 0.330889, 0.330889, -2.26933, -2.26933], [0.200625, -0.0978476, -0.310408, 0.215272, -0.215267, 0.249973, -0.249955, -0.764608, -0.764608, 0.831848, 0.831848, 0.674077, 0.674077, -1.93343, -1.93343], [0.200163, -0.0986121, 0.149391, 0.21524, -0.21524, 0.25, -0.237887, -1.3243, -1.3243, 0.431518, 0.431518, -0.0161614, -0.0161614, -1.27376, -1.27376], [0.200163, -0.0986121, 0.149391, 0.21524, -0.21524, 0.25, -0.237887, -1.3243, -1.3243, 0.431518, 0.431518, -0.0161614, -0.0161614, -1.27376, -1.27376]], Array{Float64,1}[[-2.86496e-15, 0.0, 0.0, 0.0, 0.0, 0.0, 0.0, 0.0, 0.0, 0.0, 0.0, 0.0, 0.0, 0.0, 0.0], [0.08859, 0.434696, 0.095301, 0.6952, -0.6952, -0.152952, -0.241527, 8.95175, 8.95175, -1.58462, -1.58462, -20.0, -20.0, -3.99665, -3.99665], [0.126742, 0.0482287, -4.43097, -0.638381, 0.638381, 0.152903, -0.000687755, 10.0523, 10.0523, 19.2214, 19.2214, -3.41743, -3.41743, -11.0957, -11.0957], [0.140239, 0.0684358, 4.48674, 0.638381, -0.638381, -0.137111, 0.00343083, 5.42556, 5.42556, -8.22332, -8.22332, -18.8775, -18.8775, 5.0398, 5.0398], [0.839534, -0.673007, -9.41913, -0.6952, 0.6952, 0.137087, 0.072897, 12.686, 12.686, 19.5431, 19.5431, 20.0, 20.0, -4.20996, -4.20996], [0.667418, -0.726481, 1.85991, 0.033435, -0.158278, 7.1892e-5, 0.16551, -19.715, -19.715, -19.6307, -19.6307, 3.82126, 3.82126, 20.0, 20.0], [0.668863, -0.252109, 1.70766, 0.511052, -0.204571, -0.0980977, -0.0567527, -19.893, -19.893, -20.0, -20.0, 15.6426, 15.6426, -19.4168, -19.4168], [0.695821, 0.162641, 0.970562, -0.515532, 0.345382, 0.0980977, -0.0197932, -15.6424, -15.6424, -19.9996, -19.9996, 13.0427, 13.0427, -19.5047, -19.5047], [0.602081, 0.559122, -1.52698, 0.666246, -0.378959, -0.152963, 0.0321941, 9.82227, 9.82227, 18.9998, 18.9998, -3.27065, -3.27065, 13.2726, 13.2726], [0.300375, 1.1283, -2.93906, -0.694558, 0.395888, 0.152426, -0.196644, 19.5063, 19.5063, 19.6805, 19.6805, 6.86377, 6.86377, 6.71795, 6.71795], [-0.0114117, -0.0137456, 9.19597, -0.000641679, 0.000538827, 0.000536725, 0.241373, -11.1938, -11.1938, -8.0066, -8.0066, -13.8048, -13.8048, 13.1935, 13.1935], [-2.95842e-13, 0.0, 0.0, 0.0, 0.0, 0.0, 0.0, 0.0, 0.0, 0.0, 0.0, 0.0, 0.0, 0.0, 0.0]], Array{Float64,1}[[0.0, 0.0, 0.0, -0.0010356, 0.00113773, 0.00535756, 0.06132, 0.0641755, 0.0642416, -0.0232492, -0.0420334, -0.00577279, -0.00584915, -0.00931025, 0.0396048], [0.0, 0.0, 0.0, -0.538827, 0.550211, 0.0570797, 0.342599, -0.0145155, -0.0128505, 0.164959, -0.513946, -0.470817, -0.47855, -0.00830634, 0.39471], [0.0, 0.0, 0.0, -0.0275697, 0.0275697, 0.0829957, 0.593735, 0.0672816, 0.0672816, -0.0258375, -0.84306, -0.00812681, -0.00812681, -0.00988435, 0.542807], [0.0, 0.0, 0.0, -0.340328, 2.36217, 0.0107082, -0.00328606, -0.764165, -3.13876, 0.0976152, 0.0971063, -0.456712, -1.94676, -0.0111112, -0.011189], [0.0, 0.0, 0.0, -0.0446729, 0.044287, 0.0876062, 0.672036, -0.327195, -0.327113, -0.0857036, -0.56941, -0.0668205, -0.0668509, -0.0115778, 0.622528], [0.0, 0.0, 0.0, -0.00796289, 0.0114309, 0.0195908, -0.018632, -0.0100223, -0.00946465, -0.0708925, -0.070553, 0.00875804, 0.00891982, -0.0707641, -0.0707708], [0.0, 0.0, 0.0, -0.032091, 0.0298615, -0.0082856, 0.00964885, 0.0420725, 0.0406589, -0.0177266, -0.0176997, 0.0116888, 0.0114798, 0.00896582, 0.00908131], [0.0, 0.0, 0.0, -0.017296, 0.0192084, -0.0456108, 0.0386614, 0.162837, 0.163739, 0.276142, 0.275778, 0.0293084, 0.029466, -0.00707923, -0.00701158], [0.0, 0.0, 0.0, 0.00889889, -0.0130458, 0.00592054, -0.00307566, 0.0932417, 0.0920149, 0.0645274, 0.0645516, 0.0460837, 0.0459233, -0.0329759, -0.032929], [0.0, 0.0, 0.0, -0.263846, 0.309836, 0.278307, 2.08645, 0.248372, 0.316571, 0.0379424, -0.913045, -0.382545, -0.424485, -0.04929, 1.63295], [0.0, 0.0, 0.0, -0.227327, 0.214296, -0.0514427, 0.0440699, 0.43246, 0.412063, -0.0298494, -0.030923, -0.340769, -0.328119, -0.00778307, -0.00811803]], [0.05, 0.05, 0.05, 0.05, 0.05, 0.05, 0.05, 0.05, 0.05, 0.05, 0.05], Array{Float64,1}[[0.000292766, 0.00040316, 2.23143e-5, 0.0708628], [0.656032, 0.667127, 0.000897011, 0.583242], [-4.88545e-18, 4.5692e-17, 0.0, 0.798955], [0.677906, 2.81443, -3.45243e-17, 4.7943e-17], [-1.02394e-12, 1.00376e-12, -1.98868e-6, 0.913616], [0.0, 0.0, 0.0, 0.0], [-3.79409e-20, 8.12331e-14, -6.46509e-15, -5.94571e-14], [-4.00228e-13, 5.41872e-13, -7.6542e-13, 6.20478e-13], [0.000293321, 0.000291539, -3.85135e-21, 1.7386e-13], [0.455608, 0.515755, 0.0, 2.42416], [0.482658, 0.464521, 0.000220292, 2.78404e-5]], Array{Float64,1}[], [0.0, 0.05, 0.1, 0.15, 0.2, 0.25, 0.3, 0.35, 0.4, 0.45, 0.5, 0.55], [0.0 0.00103968 … 0.200163 0.200163; -0.0986121 -0.0764549 … -0.0986121 -0.0986121; … ; 0.0 -3.99665 … 13.1935 0.0; 0.0 -3.99665 … 13.1935 0.0], [0.0, -0.0986121, 0.149391, 0.21524, -0.21524, 0.25, -0.237887, -1.3243, -1.3243, 0.431518  …  0.0, 0.0, 0.0, 0.0, 0.0, 0.0, 0.0, 0.0, 0.0, 0.0])"
      ]
     },
     "metadata": {},
     "output_type": "display_data"
    },
    {
     "name": "stdout",
     "output_type": "stream",
     "text": [
      " 65.498823 seconds (215.71 M allocations: 35.080 GiB, 15.07% gc time)\n"
     ]
    }
   ],
   "source": [
    "con_tol = 1e-5\n",
    "obj_tol = 1e-5\n",
    "# max_iter = 5000\n",
    "max_iter = 15000\n",
    "\n",
    "display(@time traj_semidirect = Bilevel.trajopt(sim_data, x0=x0, x_min=x_min, x_max=x_max, verbose=1, opt_tol=obj_tol, major_feas=con_tol, minor_feas=con_tol, max_iter=max_iter))\n",
    "\n",
    "x0 = traj_semidirect[9]\n",
    "\n",
    "setanimation!(mvis, traj_semidirect[7], traj_semidirect[1])"
   ]
  },
  {
   "cell_type": "code",
   "execution_count": 102,
   "metadata": {},
   "outputs": [
    {
     "data": {
      "text/plain": [
       "(Array{Float64,1}[[0.0, -0.0986209, 0.149383, 0.215236, -0.215236, 0.25, -0.237887, -1.32413, -1.32413, 0.431249, 0.431249, -0.0163267, -0.0163267, -1.27352, -1.27352], [0.00104027, -0.0764609, 0.154119, 0.25, -0.25, 0.242352, -0.249964, -0.876549, -0.876549, 0.352359, 0.352359, -1.01633, -1.01633, -1.47358, -1.47358], [0.00752399, -0.0744775, -0.0674477, 0.218026, -0.218026, 0.249997, -0.249997, -0.373973, -0.373973, 1.31357, 1.31357, -1.18707, -1.18707, -2.02845, -2.02845], [0.0139137, -0.07, 0.156944, 0.25, -0.25, 0.243148, -0.249824, -0.102789, -0.102789, 0.902361, 0.902361, -2.13083, -2.13083, -1.77642, -1.77642], [0.0434451, -0.114973, -0.314021, 0.21524, -0.21524, 0.25, -0.246224, 0.531467, 0.531467, 1.87948, 1.87948, -1.13083, -1.13083, -1.98682, -1.98682], [0.0680427, -0.157732, -0.221031, 0.216863, -0.222821, 0.250001, -0.237905, -0.454225, -0.454225, 0.897918, 0.897918, -0.939925, -0.939925, -0.98682, -0.98682], [0.0994766, -0.174752, -0.13556, 0.2424, -0.232748, 0.242352, -0.237907, -1.44869, -1.44869, -0.102082, -0.102082, -0.158046, -0.158046, -1.95753, -1.95753], [0.134846, -0.169669, -0.0871118, 0.216664, -0.21524, 0.25, -0.239227, -2.23069, -2.23069, -1.10206, -1.10206, 0.49398, 0.49398, -2.93262, -2.93262], [0.1691, -0.146984, -0.163492, 0.25, -0.234644, 0.242355, -0.237896, -1.7392, -1.7392, -0.15248, -0.15248, 0.330536, 0.330536, -2.26909, -2.26909], [0.200637, -0.0978519, -0.310468, 0.215268, -0.215265, 0.24998, -0.249976, -0.764424, -0.764424, 0.831345, 0.831345, 0.673823, 0.673823, -1.93323, -1.93323], [0.200176, -0.0986209, 0.149383, 0.215236, -0.215236, 0.25, -0.237887, -1.32413, -1.32413, 0.431249, 0.431249, -0.0163267, -0.0163267, -1.27352, -1.27352], [0.200176, -0.0986209, 0.149383, 0.215236, -0.215236, 0.25, -0.237887, -1.32413, -1.32413, 0.431249, 0.431249, -0.0163267, -0.0163267, -1.27352, -1.27352]], Array{Float64,1}[[-2.86496e-15, 0.0, 0.0, 0.0, 0.0, 0.0, 0.0, 0.0, 0.0, 0.0, 0.0, 0.0, 0.0, 0.0, 0.0], [0.0885939, 0.434752, 0.0947176, 0.695285, -0.695285, -0.152948, -0.241546, 8.95171, 8.95171, -1.5778, -1.5778, -20.0, -20.0, -4.00131, -4.00131], [0.126706, 0.0483181, -4.43133, -0.639487, 0.639487, 0.152892, -0.000657732, 10.0515, 10.0515, 19.2242, 19.2242, -3.41487, -3.41487, -11.0973, -11.0973], [0.140219, 0.0684745, 4.48783, 0.639487, -0.639487, -0.136974, 0.00346472, 5.42367, 5.42367, -8.22422, -8.22422, -18.8752, -18.8752, 5.04051, 5.04051], [0.839579, -0.673043, -9.4193, -0.695201, 0.695201, 0.137034, 0.0719886, 12.6851, 12.6851, 19.5424, 19.5424, 20.0, 20.0, -4.20793, -4.20793], [0.667469, -0.726522, 1.85982, 0.0324653, -0.151619, 1.44135e-5, 0.166381, -19.7138, -19.7138, -19.6313, -19.6313, 3.81811, 3.81811, 20.0, 20.0], [0.668913, -0.252308, 1.70942, 0.510731, -0.198536, -0.152971, -3.65929e-5, -19.8893, -19.8893, -20.0, -20.0, 15.6376, 15.6376, -19.4141, -19.4141], [0.695866, 0.162821, 0.968955, -0.514714, 0.350154, 0.152956, -0.026394, -15.64, -15.64, -19.9996, -19.9996, 13.0405, 13.0405, -19.5019, -19.5019], [0.602095, 0.55915, -1.5276, 0.666718, -0.388078, -0.152894, 0.0266086, 9.82977, 9.82977, 18.9917, 18.9917, -3.26889, -3.26889, 13.2705, 13.2705], [0.300385, 1.12836, -2.93952, -0.694647, 0.38757, 0.152489, -0.241583, 19.4956, 19.4956, 19.6765, 19.6765, 6.86575, 6.86575, 6.71721, 6.71721], [-0.0114026, -0.0138371, 9.19701, -0.000637232, 0.000592379, 0.000400843, 0.241775, -11.1942, -11.1942, -8.00191, -8.00191, -13.803, -13.803, 13.1943, 13.1943], [-2.95842e-13, 0.0, 0.0, 0.0, 0.0, 0.0, 0.0, 0.0, 0.0, 0.0, 0.0, 0.0, 0.0, 0.0, 0.0]], Array{Float64,1}[[0.0, 0.0, 0.0, -0.00102367, 0.00112321, 0.00534041, 0.0612595, 0.0641653, 0.0642297, -0.023193, -0.0419611, -0.00576879, -0.00584322, -0.00929776, 0.0395646], [0.0, 0.0, 0.0, -0.53877, 0.550158, 0.0570766, 0.342506, -0.0145757, -0.0129112, 0.164939, -0.513963, -0.470802, -0.478539, -0.00831568, 0.394666], [0.0, 0.0, 0.0, -0.0275563, 0.0275563, 0.0829903, 0.59375, 0.0672802, 0.0672802, -0.0258267, -0.843259, -0.0081258, -0.0081258, -0.00988002, 0.542867], [0.0, 0.0, 0.0, -0.339628, 2.36304, 0.0107005, -0.00328592, -0.763332, -3.13966, 0.0976061, 0.0970974, -0.456214, -1.94743, -0.0111097, -0.0111876], [0.0, 0.0, 0.0, -0.0446767, 0.0443082, 0.0876006, 0.672007, -0.32718, -0.327102, -0.0857047, -0.569537, -0.066822, -0.066851, -0.0115779, 0.622519], [0.0, 0.0, 0.0, -0.00796368, 0.011409, 0.019386, -0.0184436, -0.00998126, -0.00942887, -0.0709401, -0.0705888, 0.00876036, 0.00892168, -0.07076, -0.0707661], [0.0, 0.0, 0.0, -0.0320542, 0.0298214, -0.00755661, 0.00913563, 0.0420041, 0.040586, -0.0177952, -0.0177488, 0.011673, 0.011463, 0.00892971, 0.00906964], [0.0, 0.0, 0.0, -0.0173058, 0.0191419, -0.0458025, 0.0386831, 0.162905, 0.163766, 0.276168, 0.275708, 0.029333, 0.029483, -0.00707752, -0.00699728], [0.0, 0.0, 0.0, 0.00888877, -0.0131075, 0.00591273, -0.00327527, 0.0931054, 0.0918942, 0.0645323, 0.0645723, 0.0460088, 0.0458512, -0.0329663, -0.0329209], [0.0, 0.0, 0.0, -0.280949, 0.292774, 0.278401, 2.08711, 0.275124, 0.289743, 0.0379275, -0.912155, -0.399068, -0.407767, -0.0493009, 1.6332], [0.0, 0.0, 0.0, -0.21746, 0.22421, -0.0512524, 0.044088, 0.416926, 0.42749, -0.0298226, -0.0309758, -0.331176, -0.337728, -0.00792852, -0.00812366]], [0.05, 0.05, 0.05, 0.05, 0.05, 0.05, 0.05, 0.05, 0.05, 0.05, 0.05], Array{Float64,1}[[0.000284983, 0.000392574, 3.03005e-5, 0.0707948], [0.65601, 0.667109, 0.000890628, 0.583184], [1.67477e-16, -8.77636e-15, 3.28932e-6, 0.799038], [0.677182, 2.81537, 5.17286e-14, 1.53076e-17], [4.82921e-16, -2.65192e-14, -1.32759e-6, 0.913604], [0.0, 0.0, 0.0, 0.0], [-1.34253e-14, -8.66823e-15, 6.81913e-14, -5.94571e-14], [-4.08758e-13, 5.53419e-13, -7.6173e-13, 6.23133e-13], [0.000313469, 0.000311588, -7.13991e-15, 7.47736e-15], [0.479327, 0.491817, 0.0, 2.4245], [0.468898, 0.478292, 1.97775e-5, 2.95501e-5]], Array{Float64,1}[], [0.0, 0.05, 0.1, 0.15, 0.2, 0.25, 0.3, 0.35, 0.4, 0.45, 0.5, 0.55], [0.0 0.00104027 … 0.200176 0.200176; -0.0986209 -0.0764609 … -0.0986209 -0.0986209; … ; 0.0 -4.00131 … 13.1943 0.0; 0.0 -4.00131 … 13.1943 0.0], [0.0, -0.0986209, 0.149383, 0.215236, -0.215236, 0.25, -0.237887, -1.32413, -1.32413, 0.431249  …  0.0, 0.0, 0.0, 0.0, 0.0, 0.0, 0.0, 0.0, 0.0, 0.0])"
      ]
     },
     "metadata": {},
     "output_type": "display_data"
    },
    {
     "name": "stdout",
     "output_type": "stream",
     "text": [
      "Finished successfully: optimality conditions satisfied\n",
      " 43.468802 seconds (156.45 M allocations: 34.050 GiB, 26.66% gc time)\n"
     ]
    }
   ],
   "source": [
    "x0 = get_prob_init(sim_data);\n",
    "display(@time traj_semidirect = Bilevel.trajopt(sim_data, x0=x0, x_min=x_min, x_max=x_max, verbose=1, opt_tol=obj_tol, major_feas=con_tol, minor_feas=con_tol, max_iter=max_iter))"
   ]
  },
  {
   "cell_type": "code",
   "execution_count": 40,
   "metadata": {},
   "outputs": [],
   "source": [
    "setanimation!(mvis, traj_semidirect[7], traj_semidirect[1])"
   ]
  },
  {
   "cell_type": "code",
   "execution_count": 87,
   "metadata": {},
   "outputs": [
    {
     "data": {
      "text/plain": [
       "1"
      ]
     },
     "execution_count": 87,
     "metadata": {},
     "output_type": "execute_result"
    }
   ],
   "source": [
    "qi = 1"
   ]
  },
  {
   "cell_type": "code",
   "execution_count": 89,
   "metadata": {},
   "outputs": [
    {
     "data": {
      "text/plain": [
       "3"
      ]
     },
     "execution_count": 89,
     "metadata": {},
     "output_type": "execute_result"
    }
   ],
   "source": [
    "q = traj_semidirect[1][qi]\n",
    "set_configuration!(mvis, q) \n",
    "qi += 1"
   ]
  },
  {
   "cell_type": "code",
   "execution_count": 103,
   "metadata": {},
   "outputs": [
    {
     "data": {
      "text/plain": [
       "BenchmarkTools.Trial: \n",
       "  memory estimate:  1.28 GiB\n",
       "  allocs estimate:  4306577\n",
       "  --------------\n",
       "  minimum time:     1.780 s (37.86% GC)\n",
       "  median time:      1.833 s (37.52% GC)\n",
       "  mean time:        1.839 s (37.23% GC)\n",
       "  maximum time:     1.904 s (36.37% GC)\n",
       "  --------------\n",
       "  samples:          3\n",
       "  evals/sample:     1"
      ]
     },
     "execution_count": 103,
     "metadata": {},
     "output_type": "execute_result"
    }
   ],
   "source": [
    "function run_trajopt()\n",
    "    Bilevel.solve_rosenbrock() # clearing SNOPT\n",
    "    Bilevel.trajopt(sim_data, x0=x0, x_min=x_min, x_max=x_max, verbose=0, opt_tol=obj_tol, major_feas=con_tol, minor_feas=con_tol, max_iter=max_iter)\n",
    "end\n",
    "\n",
    "@benchmark run_trajopt()"
   ]
  },
  {
   "cell_type": "code",
   "execution_count": null,
   "metadata": {},
   "outputs": [],
   "source": [
    "maximum(abs.(vcat(traj_semidirect[2]...)))"
   ]
  },
  {
   "cell_type": "code",
   "execution_count": 99,
   "metadata": {},
   "outputs": [],
   "source": [
    "cntraj = hcat(traj_semidirect[5]...)\n",
    "front_traj = cntraj[1,:] .+ cntraj[2,:]\n",
    "back_traj = cntraj[3,:] .+ cntraj[4,:];"
   ]
  },
  {
   "cell_type": "code",
   "execution_count": 100,
   "metadata": {},
   "outputs": [
    {
     "data": {
      "image/svg+xml": [
       "<?xml version=\"1.0\" encoding=\"utf-8\"?>\n",
       "<svg xmlns=\"http://www.w3.org/2000/svg\" xmlns:xlink=\"http://www.w3.org/1999/xlink\" width=\"600\" height=\"400\" viewBox=\"0 0 2400 1600\">\n",
       "<defs>\n",
       "  <clipPath id=\"clip3000\">\n",
       "    <rect x=\"0\" y=\"0\" width=\"2400\" height=\"1600\"/>\n",
       "  </clipPath>\n",
       "</defs>\n",
       "<polygon clip-path=\"url(#clip3000)\" points=\"\n",
       "0,1600 2400,1600 2400,0 0,0 \n",
       "  \" fill=\"#ffffff\" fill-rule=\"evenodd\" fill-opacity=\"1\"/>\n",
       "<defs>\n",
       "  <clipPath id=\"clip3001\">\n",
       "    <rect x=\"480\" y=\"0\" width=\"1681\" height=\"1600\"/>\n",
       "  </clipPath>\n",
       "</defs>\n",
       "<polygon clip-path=\"url(#clip3000)\" points=\"\n",
       "155.502,1443.73 2352.76,1443.73 2352.76,47.2441 155.502,47.2441 \n",
       "  \" fill=\"#ffffff\" fill-rule=\"evenodd\" fill-opacity=\"1\"/>\n",
       "<defs>\n",
       "  <clipPath id=\"clip3002\">\n",
       "    <rect x=\"155\" y=\"47\" width=\"2198\" height=\"1397\"/>\n",
       "  </clipPath>\n",
       "</defs>\n",
       "<polyline clip-path=\"url(#clip3002)\" style=\"stroke:#000000; stroke-width:2; stroke-opacity:0.1; fill:none\" points=\"\n",
       "  217.689,1443.73 217.689,47.2441 \n",
       "  \"/>\n",
       "<polyline clip-path=\"url(#clip3002)\" style=\"stroke:#000000; stroke-width:2; stroke-opacity:0.1; fill:none\" points=\"\n",
       "  632.265,1443.73 632.265,47.2441 \n",
       "  \"/>\n",
       "<polyline clip-path=\"url(#clip3002)\" style=\"stroke:#000000; stroke-width:2; stroke-opacity:0.1; fill:none\" points=\"\n",
       "  1046.84,1443.73 1046.84,47.2441 \n",
       "  \"/>\n",
       "<polyline clip-path=\"url(#clip3002)\" style=\"stroke:#000000; stroke-width:2; stroke-opacity:0.1; fill:none\" points=\"\n",
       "  1461.42,1443.73 1461.42,47.2441 \n",
       "  \"/>\n",
       "<polyline clip-path=\"url(#clip3002)\" style=\"stroke:#000000; stroke-width:2; stroke-opacity:0.1; fill:none\" points=\"\n",
       "  1875.99,1443.73 1875.99,47.2441 \n",
       "  \"/>\n",
       "<polyline clip-path=\"url(#clip3002)\" style=\"stroke:#000000; stroke-width:2; stroke-opacity:0.1; fill:none\" points=\"\n",
       "  2290.57,1443.73 2290.57,47.2441 \n",
       "  \"/>\n",
       "<polyline clip-path=\"url(#clip3002)\" style=\"stroke:#000000; stroke-width:2; stroke-opacity:0.1; fill:none\" points=\"\n",
       "  155.502,1404.2 2352.76,1404.2 \n",
       "  \"/>\n",
       "<polyline clip-path=\"url(#clip3002)\" style=\"stroke:#000000; stroke-width:2; stroke-opacity:0.1; fill:none\" points=\"\n",
       "  155.502,1026.99 2352.76,1026.99 \n",
       "  \"/>\n",
       "<polyline clip-path=\"url(#clip3002)\" style=\"stroke:#000000; stroke-width:2; stroke-opacity:0.1; fill:none\" points=\"\n",
       "  155.502,649.778 2352.76,649.778 \n",
       "  \"/>\n",
       "<polyline clip-path=\"url(#clip3002)\" style=\"stroke:#000000; stroke-width:2; stroke-opacity:0.1; fill:none\" points=\"\n",
       "  155.502,272.565 2352.76,272.565 \n",
       "  \"/>\n",
       "<polyline clip-path=\"url(#clip3000)\" style=\"stroke:#000000; stroke-width:4; stroke-opacity:1; fill:none\" points=\"\n",
       "  155.502,1443.73 2352.76,1443.73 \n",
       "  \"/>\n",
       "<polyline clip-path=\"url(#clip3000)\" style=\"stroke:#000000; stroke-width:4; stroke-opacity:1; fill:none\" points=\"\n",
       "  155.502,1443.73 155.502,47.2441 \n",
       "  \"/>\n",
       "<polyline clip-path=\"url(#clip3000)\" style=\"stroke:#000000; stroke-width:4; stroke-opacity:1; fill:none\" points=\"\n",
       "  217.689,1443.73 217.689,1422.78 \n",
       "  \"/>\n",
       "<polyline clip-path=\"url(#clip3000)\" style=\"stroke:#000000; stroke-width:4; stroke-opacity:1; fill:none\" points=\"\n",
       "  632.265,1443.73 632.265,1422.78 \n",
       "  \"/>\n",
       "<polyline clip-path=\"url(#clip3000)\" style=\"stroke:#000000; stroke-width:4; stroke-opacity:1; fill:none\" points=\"\n",
       "  1046.84,1443.73 1046.84,1422.78 \n",
       "  \"/>\n",
       "<polyline clip-path=\"url(#clip3000)\" style=\"stroke:#000000; stroke-width:4; stroke-opacity:1; fill:none\" points=\"\n",
       "  1461.42,1443.73 1461.42,1422.78 \n",
       "  \"/>\n",
       "<polyline clip-path=\"url(#clip3000)\" style=\"stroke:#000000; stroke-width:4; stroke-opacity:1; fill:none\" points=\"\n",
       "  1875.99,1443.73 1875.99,1422.78 \n",
       "  \"/>\n",
       "<polyline clip-path=\"url(#clip3000)\" style=\"stroke:#000000; stroke-width:4; stroke-opacity:1; fill:none\" points=\"\n",
       "  2290.57,1443.73 2290.57,1422.78 \n",
       "  \"/>\n",
       "<polyline clip-path=\"url(#clip3000)\" style=\"stroke:#000000; stroke-width:4; stroke-opacity:1; fill:none\" points=\"\n",
       "  155.502,1404.2 188.461,1404.2 \n",
       "  \"/>\n",
       "<polyline clip-path=\"url(#clip3000)\" style=\"stroke:#000000; stroke-width:4; stroke-opacity:1; fill:none\" points=\"\n",
       "  155.502,1026.99 188.461,1026.99 \n",
       "  \"/>\n",
       "<polyline clip-path=\"url(#clip3000)\" style=\"stroke:#000000; stroke-width:4; stroke-opacity:1; fill:none\" points=\"\n",
       "  155.502,649.778 188.461,649.778 \n",
       "  \"/>\n",
       "<polyline clip-path=\"url(#clip3000)\" style=\"stroke:#000000; stroke-width:4; stroke-opacity:1; fill:none\" points=\"\n",
       "  155.502,272.565 188.461,272.565 \n",
       "  \"/>\n",
       "<g clip-path=\"url(#clip3000)\">\n",
       "<text style=\"fill:#000000; fill-opacity:1; font-family:Arial,Helvetica Neue,Helvetica,sans-serif; font-size:48px; text-anchor:middle;\" transform=\"rotate(0, 217.689, 1497.73)\" x=\"217.689\" y=\"1497.73\">0.0</text>\n",
       "</g>\n",
       "<g clip-path=\"url(#clip3000)\">\n",
       "<text style=\"fill:#000000; fill-opacity:1; font-family:Arial,Helvetica Neue,Helvetica,sans-serif; font-size:48px; text-anchor:middle;\" transform=\"rotate(0, 632.265, 1497.73)\" x=\"632.265\" y=\"1497.73\">0.1</text>\n",
       "</g>\n",
       "<g clip-path=\"url(#clip3000)\">\n",
       "<text style=\"fill:#000000; fill-opacity:1; font-family:Arial,Helvetica Neue,Helvetica,sans-serif; font-size:48px; text-anchor:middle;\" transform=\"rotate(0, 1046.84, 1497.73)\" x=\"1046.84\" y=\"1497.73\">0.2</text>\n",
       "</g>\n",
       "<g clip-path=\"url(#clip3000)\">\n",
       "<text style=\"fill:#000000; fill-opacity:1; font-family:Arial,Helvetica Neue,Helvetica,sans-serif; font-size:48px; text-anchor:middle;\" transform=\"rotate(0, 1461.42, 1497.73)\" x=\"1461.42\" y=\"1497.73\">0.3</text>\n",
       "</g>\n",
       "<g clip-path=\"url(#clip3000)\">\n",
       "<text style=\"fill:#000000; fill-opacity:1; font-family:Arial,Helvetica Neue,Helvetica,sans-serif; font-size:48px; text-anchor:middle;\" transform=\"rotate(0, 1875.99, 1497.73)\" x=\"1875.99\" y=\"1497.73\">0.4</text>\n",
       "</g>\n",
       "<g clip-path=\"url(#clip3000)\">\n",
       "<text style=\"fill:#000000; fill-opacity:1; font-family:Arial,Helvetica Neue,Helvetica,sans-serif; font-size:48px; text-anchor:middle;\" transform=\"rotate(0, 2290.57, 1497.73)\" x=\"2290.57\" y=\"1497.73\">0.5</text>\n",
       "</g>\n",
       "<g clip-path=\"url(#clip3000)\">\n",
       "<text style=\"fill:#000000; fill-opacity:1; font-family:Arial,Helvetica Neue,Helvetica,sans-serif; font-size:48px; text-anchor:end;\" transform=\"rotate(0, 131.502, 1421.7)\" x=\"131.502\" y=\"1421.7\">0</text>\n",
       "</g>\n",
       "<g clip-path=\"url(#clip3000)\">\n",
       "<text style=\"fill:#000000; fill-opacity:1; font-family:Arial,Helvetica Neue,Helvetica,sans-serif; font-size:48px; text-anchor:end;\" transform=\"rotate(0, 131.502, 1044.49)\" x=\"131.502\" y=\"1044.49\">1</text>\n",
       "</g>\n",
       "<g clip-path=\"url(#clip3000)\">\n",
       "<text style=\"fill:#000000; fill-opacity:1; font-family:Arial,Helvetica Neue,Helvetica,sans-serif; font-size:48px; text-anchor:end;\" transform=\"rotate(0, 131.502, 667.278)\" x=\"131.502\" y=\"667.278\">2</text>\n",
       "</g>\n",
       "<g clip-path=\"url(#clip3000)\">\n",
       "<text style=\"fill:#000000; fill-opacity:1; font-family:Arial,Helvetica Neue,Helvetica,sans-serif; font-size:48px; text-anchor:end;\" transform=\"rotate(0, 131.502, 290.065)\" x=\"131.502\" y=\"290.065\">3</text>\n",
       "</g>\n",
       "<g clip-path=\"url(#clip3000)\">\n",
       "<image width=\"21\" height=\"42\" xlink:href=\"data:image/png;base64,\n",
       "iVBORw0KGgoAAAANSUhEUgAAABUAAAAqCAYAAABcOxDuAAABl0lEQVRIia3W4c3CIBAG4FcnII7g\n",
       "CDdD3YAZOgJxBEZghsYJiCN0BOwIxA3u+4X5sNAeVBJ+0F7fwJMzcmJmtIzX68WPxwNEhNvtdioW\n",
       "MbN4eu8ZwGdO08SlunPLLu/3e7ZelqVcKN1ljDHbJQD23hd3Kg6dpmkVWqsVH//5fGZrIqrWdocO\n",
       "w1Av/rWn2LTFU2za4gkITZs8gf3jt3qKTFs9mRnw3rNSavVh7/Te83lZFrzfbwmtaFwul+3jhxCa\n",
       "PXdNezx3+7S1P9NoCt3tzzR+2Z+7pr2em6a9nsCGabcnUD7+Ec+q6RHPqukRT6BiesgTWB//qGfR\n",
       "9Khn0fSoJ1Awnec5Wzd7AviJZ4yRtdY8zzOvTL+vigA4xrgbaoxhABxCWIdaa7NAIhLt8rs2M+3x\n",
       "THdWa23Z9Hq9im7Kaab/MK11VrcZmuBrU2udWRZDU5EkNPk751Y12cI5J2qnVDeOY/H96gERfUKN\n",
       "MdlHqR+3AouhIQT+HzyOIxtj+D+NtXbTuvrCOcfDMLBSipVSTERsjBH9GP4A/KauBMnGQOkAAAAA\n",
       "SUVORK5CYII=\n",
       "\" transform=\"translate(1244, 1520)\"/>\n",
       "</g>\n",
       "<g clip-path=\"url(#clip3000)\">\n",
       "<image width=\"39\" height=\"56\" xlink:href=\"data:image/png;base64,\n",
       "iVBORw0KGgoAAAANSUhEUgAAACcAAAA4CAYAAAB+I+F7AAADyUlEQVRogcVZ/5GyMBB9WkG0hHgV\n",
       "REuIHWQsAa6CeCVQQrSElKCWwFkBUELuOtjvDyd8qIgBwtzO7Jxygs/9+XYDIsJfaZ7nxDknrTU5\n",
       "5+jx/38GjIjgnCMpJQEgAKS1vgP4p+CaILXWBIA457UV/xxYm5s550REmBERYsv39zcdj0fkeQ4A\n",
       "4Jxjs9lAKYXVajXrurcsS/r4+ECWZfEtl2VZHUNtyhgjrTUVRUGvnqG1Js55XGBFUXQCe1TOOWVZ\n",
       "9pSp1loCQFHdmqYpHY9HMMYgpcRyuURVVcjzHL+/v533SikhpQQAWGtvn49pOR/MbTWrKAoyxtyV\n",
       "ji5NkiSuWwFQlmUvY8mrc46MMSSEeBmXzrn44Ky1b8E9WtQnAOeclFLT1DkhRJDlQnUeLRtwq2e+\n",
       "tkWRmJbL85wAdNawPhq9Q6zXa1oulzifz52dIEhiWs4HOFoYxqAEiw2O6H+FT5JkFMBJwDUBCiEo\n",
       "z/NBIKODeiSQaFT80+nUC2R0YJzzt61JSklZlr3N6qjgPJvto4wxUkqRMeYJbNRSslqtyDmHr68v\n",
       "cM5rRnK5XN6yEi+MMex2u/hkEx291TlH1lpKkiTY9VHB+TEvND49WMZYq7ujgvMUvS8zIfrP95RS\n",
       "NUOOCq4JUAhBxphW4hkcJrHBEd0IQLPWCSEGkYGolMnLer2enc/nWVEU0FoDQHC2NmWSuTWWTGK5\n",
       "WHIHrixL2u/3tN1uKU1TOhwOg8x6OBxou91SWZbj3PKYZY/6atR7lxD+/r7N/ilbjTF1VrVVb6VU\n",
       "7y/I87wurqMoE2Os3uwopVqr9ZCHF0VBjLF6Du0NzlvN/7qmS8aCaz5PCNEfnG8XzYvW2rt+Z4wZ\n",
       "DK4ZNn2fAyFEK9d3ztHpdIo25gkhensACNxvjFXv3j7WA2Ns9JTUx3qPIdSl8+grhA5JkgRVVSG0\n",
       "OM8557her1PjAgDsdjsAwOVyCfr8fLPZAAD2+/3kDGCxWMwYY8Hg4JyrS8YYYhiqSqngmjdfLBYz\n",
       "v4v1f6cUP5WFyBxATQiv1yu22+2k7l0ul+HEs2luNMayqVzsB++gOudfOOeeRrQhU9Q7lVIG17q7\n",
       "N34z1FQhRDSQfncXSsGeLvgm/aj+WGgoN3PO1av90B/bejHk/CpJErLWBhEDY0wdMn2a/8vp63A4\n",
       "0OfnZ3AWSinBGAPnHMBtFGw7WjLGIE3TsH1xF/Im1Y6hfel+UKwM2bs9qpSyd6z2Cui2+SJEhzLp\n",
       "QVlnrX17+uePmsYU89HriJ+fH6qqCs45ALf2xDnHYrEYfUjyD2m6B4IVcRaRAAAAAElFTkSuQmCC\n",
       "\" transform=\"translate(40, 717)\"/>\n",
       "</g>\n",
       "<polyline clip-path=\"url(#clip3002)\" style=\"stroke:#e3ae33; stroke-width:24; stroke-opacity:1; fill:none\" points=\"\n",
       "  217.689,1403.95 424.977,905.106 632.265,1404.2 839.553,86.7672 1046.84,1404.2 1254.13,1404.2 1461.42,1404.2 1668.71,1404.2 1875.99,1403.97 2083.28,1037.88 \n",
       "  2290.57,1046.91 \n",
       "  \"/>\n",
       "<circle clip-path=\"url(#clip3002)\" style=\"fill:#000000; stroke:none; fill-opacity:1\" cx=\"217.689\" cy=\"1403.95\" r=\"25\"/>\n",
       "<circle clip-path=\"url(#clip3002)\" style=\"fill:#e3ae33; stroke:none; fill-opacity:1\" cx=\"217.689\" cy=\"1403.95\" r=\"21\"/>\n",
       "<circle clip-path=\"url(#clip3002)\" style=\"fill:#000000; stroke:none; fill-opacity:1\" cx=\"424.977\" cy=\"905.106\" r=\"25\"/>\n",
       "<circle clip-path=\"url(#clip3002)\" style=\"fill:#e3ae33; stroke:none; fill-opacity:1\" cx=\"424.977\" cy=\"905.106\" r=\"21\"/>\n",
       "<circle clip-path=\"url(#clip3002)\" style=\"fill:#000000; stroke:none; fill-opacity:1\" cx=\"632.265\" cy=\"1404.2\" r=\"25\"/>\n",
       "<circle clip-path=\"url(#clip3002)\" style=\"fill:#e3ae33; stroke:none; fill-opacity:1\" cx=\"632.265\" cy=\"1404.2\" r=\"21\"/>\n",
       "<circle clip-path=\"url(#clip3002)\" style=\"fill:#000000; stroke:none; fill-opacity:1\" cx=\"839.553\" cy=\"86.7672\" r=\"25\"/>\n",
       "<circle clip-path=\"url(#clip3002)\" style=\"fill:#e3ae33; stroke:none; fill-opacity:1\" cx=\"839.553\" cy=\"86.7672\" r=\"21\"/>\n",
       "<circle clip-path=\"url(#clip3002)\" style=\"fill:#000000; stroke:none; fill-opacity:1\" cx=\"1046.84\" cy=\"1404.2\" r=\"25\"/>\n",
       "<circle clip-path=\"url(#clip3002)\" style=\"fill:#e3ae33; stroke:none; fill-opacity:1\" cx=\"1046.84\" cy=\"1404.2\" r=\"21\"/>\n",
       "<circle clip-path=\"url(#clip3002)\" style=\"fill:#000000; stroke:none; fill-opacity:1\" cx=\"1254.13\" cy=\"1404.2\" r=\"25\"/>\n",
       "<circle clip-path=\"url(#clip3002)\" style=\"fill:#e3ae33; stroke:none; fill-opacity:1\" cx=\"1254.13\" cy=\"1404.2\" r=\"21\"/>\n",
       "<circle clip-path=\"url(#clip3002)\" style=\"fill:#000000; stroke:none; fill-opacity:1\" cx=\"1461.42\" cy=\"1404.2\" r=\"25\"/>\n",
       "<circle clip-path=\"url(#clip3002)\" style=\"fill:#e3ae33; stroke:none; fill-opacity:1\" cx=\"1461.42\" cy=\"1404.2\" r=\"21\"/>\n",
       "<circle clip-path=\"url(#clip3002)\" style=\"fill:#000000; stroke:none; fill-opacity:1\" cx=\"1668.71\" cy=\"1404.2\" r=\"25\"/>\n",
       "<circle clip-path=\"url(#clip3002)\" style=\"fill:#e3ae33; stroke:none; fill-opacity:1\" cx=\"1668.71\" cy=\"1404.2\" r=\"21\"/>\n",
       "<circle clip-path=\"url(#clip3002)\" style=\"fill:#000000; stroke:none; fill-opacity:1\" cx=\"1875.99\" cy=\"1403.97\" r=\"25\"/>\n",
       "<circle clip-path=\"url(#clip3002)\" style=\"fill:#e3ae33; stroke:none; fill-opacity:1\" cx=\"1875.99\" cy=\"1403.97\" r=\"21\"/>\n",
       "<circle clip-path=\"url(#clip3002)\" style=\"fill:#000000; stroke:none; fill-opacity:1\" cx=\"2083.28\" cy=\"1037.88\" r=\"25\"/>\n",
       "<circle clip-path=\"url(#clip3002)\" style=\"fill:#e3ae33; stroke:none; fill-opacity:1\" cx=\"2083.28\" cy=\"1037.88\" r=\"21\"/>\n",
       "<circle clip-path=\"url(#clip3002)\" style=\"fill:#000000; stroke:none; fill-opacity:1\" cx=\"2290.57\" cy=\"1046.91\" r=\"25\"/>\n",
       "<circle clip-path=\"url(#clip3002)\" style=\"fill:#e3ae33; stroke:none; fill-opacity:1\" cx=\"2290.57\" cy=\"1046.91\" r=\"21\"/>\n",
       "<polyline clip-path=\"url(#clip3002)\" style=\"stroke:#9a84c8; stroke-width:24; stroke-opacity:1; fill:none\" points=\"\n",
       "  217.689,1377.49 424.977,1183.88 632.265,1102.79 839.553,1404.2 1046.84,1059.58 1254.13,1404.2 1461.42,1404.2 1668.71,1404.2 1875.99,1404.2 2083.28,489.649 \n",
       "  2290.57,1404.18 \n",
       "  \"/>\n",
       "<circle clip-path=\"url(#clip3002)\" style=\"fill:#000000; stroke:none; fill-opacity:1\" cx=\"217.689\" cy=\"1377.49\" r=\"25\"/>\n",
       "<circle clip-path=\"url(#clip3002)\" style=\"fill:#9a84c8; stroke:none; fill-opacity:1\" cx=\"217.689\" cy=\"1377.49\" r=\"21\"/>\n",
       "<circle clip-path=\"url(#clip3002)\" style=\"fill:#000000; stroke:none; fill-opacity:1\" cx=\"424.977\" cy=\"1183.88\" r=\"25\"/>\n",
       "<circle clip-path=\"url(#clip3002)\" style=\"fill:#9a84c8; stroke:none; fill-opacity:1\" cx=\"424.977\" cy=\"1183.88\" r=\"21\"/>\n",
       "<circle clip-path=\"url(#clip3002)\" style=\"fill:#000000; stroke:none; fill-opacity:1\" cx=\"632.265\" cy=\"1102.79\" r=\"25\"/>\n",
       "<circle clip-path=\"url(#clip3002)\" style=\"fill:#9a84c8; stroke:none; fill-opacity:1\" cx=\"632.265\" cy=\"1102.79\" r=\"21\"/>\n",
       "<circle clip-path=\"url(#clip3002)\" style=\"fill:#000000; stroke:none; fill-opacity:1\" cx=\"839.553\" cy=\"1404.2\" r=\"25\"/>\n",
       "<circle clip-path=\"url(#clip3002)\" style=\"fill:#9a84c8; stroke:none; fill-opacity:1\" cx=\"839.553\" cy=\"1404.2\" r=\"21\"/>\n",
       "<circle clip-path=\"url(#clip3002)\" style=\"fill:#000000; stroke:none; fill-opacity:1\" cx=\"1046.84\" cy=\"1059.58\" r=\"25\"/>\n",
       "<circle clip-path=\"url(#clip3002)\" style=\"fill:#9a84c8; stroke:none; fill-opacity:1\" cx=\"1046.84\" cy=\"1059.58\" r=\"21\"/>\n",
       "<circle clip-path=\"url(#clip3002)\" style=\"fill:#000000; stroke:none; fill-opacity:1\" cx=\"1254.13\" cy=\"1404.2\" r=\"25\"/>\n",
       "<circle clip-path=\"url(#clip3002)\" style=\"fill:#9a84c8; stroke:none; fill-opacity:1\" cx=\"1254.13\" cy=\"1404.2\" r=\"21\"/>\n",
       "<circle clip-path=\"url(#clip3002)\" style=\"fill:#000000; stroke:none; fill-opacity:1\" cx=\"1461.42\" cy=\"1404.2\" r=\"25\"/>\n",
       "<circle clip-path=\"url(#clip3002)\" style=\"fill:#9a84c8; stroke:none; fill-opacity:1\" cx=\"1461.42\" cy=\"1404.2\" r=\"21\"/>\n",
       "<circle clip-path=\"url(#clip3002)\" style=\"fill:#000000; stroke:none; fill-opacity:1\" cx=\"1668.71\" cy=\"1404.2\" r=\"25\"/>\n",
       "<circle clip-path=\"url(#clip3002)\" style=\"fill:#9a84c8; stroke:none; fill-opacity:1\" cx=\"1668.71\" cy=\"1404.2\" r=\"21\"/>\n",
       "<circle clip-path=\"url(#clip3002)\" style=\"fill:#000000; stroke:none; fill-opacity:1\" cx=\"1875.99\" cy=\"1404.2\" r=\"25\"/>\n",
       "<circle clip-path=\"url(#clip3002)\" style=\"fill:#9a84c8; stroke:none; fill-opacity:1\" cx=\"1875.99\" cy=\"1404.2\" r=\"21\"/>\n",
       "<circle clip-path=\"url(#clip3002)\" style=\"fill:#000000; stroke:none; fill-opacity:1\" cx=\"2083.28\" cy=\"489.649\" r=\"25\"/>\n",
       "<circle clip-path=\"url(#clip3002)\" style=\"fill:#9a84c8; stroke:none; fill-opacity:1\" cx=\"2083.28\" cy=\"489.649\" r=\"21\"/>\n",
       "<circle clip-path=\"url(#clip3002)\" style=\"fill:#000000; stroke:none; fill-opacity:1\" cx=\"2290.57\" cy=\"1404.18\" r=\"25\"/>\n",
       "<circle clip-path=\"url(#clip3002)\" style=\"fill:#9a84c8; stroke:none; fill-opacity:1\" cx=\"2290.57\" cy=\"1404.18\" r=\"21\"/>\n",
       "<polygon clip-path=\"url(#clip3000)\" points=\"\n",
       "1826.75,312.204 2280.76,312.204 2280.76,130.764 1826.75,130.764 \n",
       "  \" fill=\"#ffffff\" fill-rule=\"evenodd\" fill-opacity=\"1\"/>\n",
       "<polyline clip-path=\"url(#clip3000)\" style=\"stroke:#000000; stroke-width:4; stroke-opacity:1; fill:none\" points=\"\n",
       "  1826.75,312.204 2280.76,312.204 2280.76,130.764 1826.75,130.764 1826.75,312.204 \n",
       "  \"/>\n",
       "<polyline clip-path=\"url(#clip3000)\" style=\"stroke:#e3ae33; stroke-width:24; stroke-opacity:1; fill:none\" points=\"\n",
       "  1850.75,191.244 1994.75,191.244 \n",
       "  \"/>\n",
       "<circle clip-path=\"url(#clip3000)\" style=\"fill:#000000; stroke:none; fill-opacity:1\" cx=\"1934.75\" cy=\"191.244\" r=\"25\"/>\n",
       "<circle clip-path=\"url(#clip3000)\" style=\"fill:#e3ae33; stroke:none; fill-opacity:1\" cx=\"1934.75\" cy=\"191.244\" r=\"21\"/>\n",
       "<g clip-path=\"url(#clip3000)\">\n",
       "<text style=\"fill:#000000; fill-opacity:1; font-family:Arial,Helvetica Neue,Helvetica,sans-serif; font-size:48px; text-anchor:start;\" transform=\"rotate(0, 2018.75, 208.744)\" x=\"2018.75\" y=\"208.744\">Front legs</text>\n",
       "</g>\n",
       "<polyline clip-path=\"url(#clip3000)\" style=\"stroke:#9a84c8; stroke-width:24; stroke-opacity:1; fill:none\" points=\"\n",
       "  1850.75,251.724 1994.75,251.724 \n",
       "  \"/>\n",
       "<circle clip-path=\"url(#clip3000)\" style=\"fill:#000000; stroke:none; fill-opacity:1\" cx=\"1934.75\" cy=\"251.724\" r=\"25\"/>\n",
       "<circle clip-path=\"url(#clip3000)\" style=\"fill:#9a84c8; stroke:none; fill-opacity:1\" cx=\"1934.75\" cy=\"251.724\" r=\"21\"/>\n",
       "<g clip-path=\"url(#clip3000)\">\n",
       "<text style=\"fill:#000000; fill-opacity:1; font-family:Arial,Helvetica Neue,Helvetica,sans-serif; font-size:48px; text-anchor:start;\" transform=\"rotate(0, 2018.75, 269.224)\" x=\"2018.75\" y=\"269.224\">Back legs</text>\n",
       "</g>\n",
       "</svg>\n"
      ]
     },
     "execution_count": 100,
     "metadata": {},
     "output_type": "execute_result"
    }
   ],
   "source": [
    "xlabel=latexstring(\"t\")\n",
    "ylabel=latexstring(\"c_n\")\n",
    "plot(traj_semidirect[7][1:end-1],front_traj,label=\"Front legs\",seriescolor=RGB(((227,174,51) ./ 255.)...),linewidth=6,marker=6,xlabel=xlabel)\n",
    "plot!(traj_semidirect[7][1:end-1],back_traj,label=\"Back legs\",seriescolor=RGB(((154,132,200) ./ 255.)...),linewidth=6,marker=6,ylabel=ylabel)"
   ]
  },
  {
   "cell_type": "code",
   "execution_count": null,
   "metadata": {},
   "outputs": [],
   "source": [
    "savefig(string(\"littledog_3.svg\")) "
   ]
  },
  {
   "cell_type": "code",
   "execution_count": 101,
   "metadata": {},
   "outputs": [
    {
     "data": {
      "image/svg+xml": [
       "<?xml version=\"1.0\" encoding=\"utf-8\"?>\n",
       "<svg xmlns=\"http://www.w3.org/2000/svg\" xmlns:xlink=\"http://www.w3.org/1999/xlink\" width=\"600\" height=\"400\" viewBox=\"0 0 2400 1600\">\n",
       "<defs>\n",
       "  <clipPath id=\"clip3400\">\n",
       "    <rect x=\"0\" y=\"0\" width=\"2400\" height=\"1600\"/>\n",
       "  </clipPath>\n",
       "</defs>\n",
       "<polygon clip-path=\"url(#clip3400)\" points=\"\n",
       "0,1600 2400,1600 2400,0 0,0 \n",
       "  \" fill=\"#ffffff\" fill-rule=\"evenodd\" fill-opacity=\"1\"/>\n",
       "<defs>\n",
       "  <clipPath id=\"clip3401\">\n",
       "    <rect x=\"480\" y=\"0\" width=\"1681\" height=\"1600\"/>\n",
       "  </clipPath>\n",
       "</defs>\n",
       "<polygon clip-path=\"url(#clip3400)\" points=\"\n",
       "216.408,1451.73 2352.76,1451.73 2352.76,47.2441 216.408,47.2441 \n",
       "  \" fill=\"#ffffff\" fill-rule=\"evenodd\" fill-opacity=\"1\"/>\n",
       "<defs>\n",
       "  <clipPath id=\"clip3402\">\n",
       "    <rect x=\"216\" y=\"47\" width=\"2137\" height=\"1405\"/>\n",
       "  </clipPath>\n",
       "</defs>\n",
       "<polyline clip-path=\"url(#clip3402)\" style=\"stroke:#000000; stroke-width:2; stroke-opacity:0.1; fill:none\" points=\"\n",
       "  276.871,1451.73 276.871,47.2441 \n",
       "  \"/>\n",
       "<polyline clip-path=\"url(#clip3402)\" style=\"stroke:#000000; stroke-width:2; stroke-opacity:0.1; fill:none\" points=\"\n",
       "  779.126,1451.73 779.126,47.2441 \n",
       "  \"/>\n",
       "<polyline clip-path=\"url(#clip3402)\" style=\"stroke:#000000; stroke-width:2; stroke-opacity:0.1; fill:none\" points=\"\n",
       "  1281.38,1451.73 1281.38,47.2441 \n",
       "  \"/>\n",
       "<polyline clip-path=\"url(#clip3402)\" style=\"stroke:#000000; stroke-width:2; stroke-opacity:0.1; fill:none\" points=\"\n",
       "  1783.64,1451.73 1783.64,47.2441 \n",
       "  \"/>\n",
       "<polyline clip-path=\"url(#clip3402)\" style=\"stroke:#000000; stroke-width:2; stroke-opacity:0.1; fill:none\" points=\"\n",
       "  2285.89,1451.73 2285.89,47.2441 \n",
       "  \"/>\n",
       "<polyline clip-path=\"url(#clip3402)\" style=\"stroke:#000000; stroke-width:2; stroke-opacity:0.1; fill:none\" points=\"\n",
       "  216.408,1285.49 2352.76,1285.49 \n",
       "  \"/>\n",
       "<polyline clip-path=\"url(#clip3402)\" style=\"stroke:#000000; stroke-width:2; stroke-opacity:0.1; fill:none\" points=\"\n",
       "  216.408,1032.51 2352.76,1032.51 \n",
       "  \"/>\n",
       "<polyline clip-path=\"url(#clip3402)\" style=\"stroke:#000000; stroke-width:2; stroke-opacity:0.1; fill:none\" points=\"\n",
       "  216.408,779.539 2352.76,779.539 \n",
       "  \"/>\n",
       "<polyline clip-path=\"url(#clip3402)\" style=\"stroke:#000000; stroke-width:2; stroke-opacity:0.1; fill:none\" points=\"\n",
       "  216.408,526.563 2352.76,526.563 \n",
       "  \"/>\n",
       "<polyline clip-path=\"url(#clip3402)\" style=\"stroke:#000000; stroke-width:2; stroke-opacity:0.1; fill:none\" points=\"\n",
       "  216.408,273.588 2352.76,273.588 \n",
       "  \"/>\n",
       "<polyline clip-path=\"url(#clip3400)\" style=\"stroke:#000000; stroke-width:4; stroke-opacity:1; fill:none\" points=\"\n",
       "  216.408,1451.73 2352.76,1451.73 \n",
       "  \"/>\n",
       "<polyline clip-path=\"url(#clip3400)\" style=\"stroke:#000000; stroke-width:4; stroke-opacity:1; fill:none\" points=\"\n",
       "  216.408,1451.73 216.408,47.2441 \n",
       "  \"/>\n",
       "<polyline clip-path=\"url(#clip3400)\" style=\"stroke:#000000; stroke-width:4; stroke-opacity:1; fill:none\" points=\"\n",
       "  276.871,1451.73 276.871,1430.66 \n",
       "  \"/>\n",
       "<polyline clip-path=\"url(#clip3400)\" style=\"stroke:#000000; stroke-width:4; stroke-opacity:1; fill:none\" points=\"\n",
       "  779.126,1451.73 779.126,1430.66 \n",
       "  \"/>\n",
       "<polyline clip-path=\"url(#clip3400)\" style=\"stroke:#000000; stroke-width:4; stroke-opacity:1; fill:none\" points=\"\n",
       "  1281.38,1451.73 1281.38,1430.66 \n",
       "  \"/>\n",
       "<polyline clip-path=\"url(#clip3400)\" style=\"stroke:#000000; stroke-width:4; stroke-opacity:1; fill:none\" points=\"\n",
       "  1783.64,1451.73 1783.64,1430.66 \n",
       "  \"/>\n",
       "<polyline clip-path=\"url(#clip3400)\" style=\"stroke:#000000; stroke-width:4; stroke-opacity:1; fill:none\" points=\"\n",
       "  2285.89,1451.73 2285.89,1430.66 \n",
       "  \"/>\n",
       "<polyline clip-path=\"url(#clip3400)\" style=\"stroke:#000000; stroke-width:4; stroke-opacity:1; fill:none\" points=\"\n",
       "  216.408,1285.49 248.454,1285.49 \n",
       "  \"/>\n",
       "<polyline clip-path=\"url(#clip3400)\" style=\"stroke:#000000; stroke-width:4; stroke-opacity:1; fill:none\" points=\"\n",
       "  216.408,1032.51 248.454,1032.51 \n",
       "  \"/>\n",
       "<polyline clip-path=\"url(#clip3400)\" style=\"stroke:#000000; stroke-width:4; stroke-opacity:1; fill:none\" points=\"\n",
       "  216.408,779.539 248.454,779.539 \n",
       "  \"/>\n",
       "<polyline clip-path=\"url(#clip3400)\" style=\"stroke:#000000; stroke-width:4; stroke-opacity:1; fill:none\" points=\"\n",
       "  216.408,526.563 248.454,526.563 \n",
       "  \"/>\n",
       "<polyline clip-path=\"url(#clip3400)\" style=\"stroke:#000000; stroke-width:4; stroke-opacity:1; fill:none\" points=\"\n",
       "  216.408,273.588 248.454,273.588 \n",
       "  \"/>\n",
       "<g clip-path=\"url(#clip3400)\">\n",
       "<text style=\"fill:#000000; fill-opacity:1; font-family:Arial,Helvetica Neue,Helvetica,sans-serif; font-size:48px; text-anchor:middle;\" transform=\"rotate(0, 276.871, 1505.73)\" x=\"276.871\" y=\"1505.73\">0.00</text>\n",
       "</g>\n",
       "<g clip-path=\"url(#clip3400)\">\n",
       "<text style=\"fill:#000000; fill-opacity:1; font-family:Arial,Helvetica Neue,Helvetica,sans-serif; font-size:48px; text-anchor:middle;\" transform=\"rotate(0, 779.126, 1505.73)\" x=\"779.126\" y=\"1505.73\">0.05</text>\n",
       "</g>\n",
       "<g clip-path=\"url(#clip3400)\">\n",
       "<text style=\"fill:#000000; fill-opacity:1; font-family:Arial,Helvetica Neue,Helvetica,sans-serif; font-size:48px; text-anchor:middle;\" transform=\"rotate(0, 1281.38, 1505.73)\" x=\"1281.38\" y=\"1505.73\">0.10</text>\n",
       "</g>\n",
       "<g clip-path=\"url(#clip3400)\">\n",
       "<text style=\"fill:#000000; fill-opacity:1; font-family:Arial,Helvetica Neue,Helvetica,sans-serif; font-size:48px; text-anchor:middle;\" transform=\"rotate(0, 1783.64, 1505.73)\" x=\"1783.64\" y=\"1505.73\">0.15</text>\n",
       "</g>\n",
       "<g clip-path=\"url(#clip3400)\">\n",
       "<text style=\"fill:#000000; fill-opacity:1; font-family:Arial,Helvetica Neue,Helvetica,sans-serif; font-size:48px; text-anchor:middle;\" transform=\"rotate(0, 2285.89, 1505.73)\" x=\"2285.89\" y=\"1505.73\">0.20</text>\n",
       "</g>\n",
       "<g clip-path=\"url(#clip3400)\">\n",
       "<text style=\"fill:#000000; fill-opacity:1; font-family:Arial,Helvetica Neue,Helvetica,sans-serif; font-size:48px; text-anchor:end;\" transform=\"rotate(0, 192.408, 1302.99)\" x=\"192.408\" y=\"1302.99\">0.08</text>\n",
       "</g>\n",
       "<g clip-path=\"url(#clip3400)\">\n",
       "<text style=\"fill:#000000; fill-opacity:1; font-family:Arial,Helvetica Neue,Helvetica,sans-serif; font-size:48px; text-anchor:end;\" transform=\"rotate(0, 192.408, 1050.01)\" x=\"192.408\" y=\"1050.01\">0.10</text>\n",
       "</g>\n",
       "<g clip-path=\"url(#clip3400)\">\n",
       "<text style=\"fill:#000000; fill-opacity:1; font-family:Arial,Helvetica Neue,Helvetica,sans-serif; font-size:48px; text-anchor:end;\" transform=\"rotate(0, 192.408, 797.039)\" x=\"192.408\" y=\"797.039\">0.12</text>\n",
       "</g>\n",
       "<g clip-path=\"url(#clip3400)\">\n",
       "<text style=\"fill:#000000; fill-opacity:1; font-family:Arial,Helvetica Neue,Helvetica,sans-serif; font-size:48px; text-anchor:end;\" transform=\"rotate(0, 192.408, 544.063)\" x=\"192.408\" y=\"544.063\">0.14</text>\n",
       "</g>\n",
       "<g clip-path=\"url(#clip3400)\">\n",
       "<text style=\"fill:#000000; fill-opacity:1; font-family:Arial,Helvetica Neue,Helvetica,sans-serif; font-size:48px; text-anchor:end;\" transform=\"rotate(0, 192.408, 291.088)\" x=\"192.408\" y=\"291.088\">0.16</text>\n",
       "</g>\n",
       "<g clip-path=\"url(#clip3400)\">\n",
       "<image width=\"34\" height=\"30\" xlink:href=\"data:image/png;base64,\n",
       "iVBORw0KGgoAAAANSUhEUgAAACIAAAAeCAYAAABJ/8wUAAACPElEQVRYha1X7bWrIBCcdysgKcF0\n",
       "QFICJVgDJXBSAiVQgyV4UoJ2QA2mhLl/Lj5AVIzhnP3Bx67D7iADSKLGnHNUSrFpGgKgEIJt27Lv\n",
       "e2759X1PpRSFEATApmmKfrsAuq6bg0gpqbWmMYZKKQIgACqlimDatk38rLUMY2F8mibuAjHGzA6l\n",
       "nTvn5qBN0yTzUkoCYNd1m35hE7sgjDGbqY8zo7VmnIlhGBa+cUaCTdO0zocaECRhrU2Chn7Jt+u6\n",
       "BQgA9N4vA0/TtFn32uCh9nvZAECS+EHWns8nAMA5l09VN601LpfLv3z8er0W1wJIOTIMQ1LrGgtc\n",
       "iq3EDZLw3s/HP/9OslBrPdesFkhMVvz9X/Z8SvGTjhCCUspqECQR7xAA27Y95F8Esva/2AyQlcU5\n",
       "dx7IUQuciu1IWWNbnJoj7fV6JX0hBG632+K01LSvAlFKfR7sTGnwJX6c4sg3+XGKI9/kB3CCIzmQ\n",
       "x+PxaajvAjlF1E+BjOPIfOwIkHEceb/f+X6//8f5hFi5BsHfVV5rQQ5snpoa5ucXXa12iY997lPc\n",
       "pRBi9SoPwim2I7IhfKeo4mMxu7fL0lprbTUQIUQx9jyZB1+TA/m1jwN/1C29U0w1VsRvLKpj8DUi\n",
       "O2jbtbUzefay4b1P5nJO1YDYEk1JytYQ930/fzBOa6zKS37e+/lFuKfcFvULTtZaGmMYXmxKqeIT\n",
       "IfaTUtIYs3iS1pA56QzDQK11orSllLtk9N5Taz2DDifDWlsEX7JfqM/OkFEMCHwAAAAASUVORK5C\n",
       "YII=\n",
       "\" transform=\"translate(1268, 1528)\"/>\n",
       "</g>\n",
       "<g clip-path=\"url(#clip3400)\">\n",
       "<image width=\"30\" height=\"29\" xlink:href=\"data:image/png;base64,\n",
       "iVBORw0KGgoAAAANSUhEUgAAAB4AAAAdCAYAAAC9pNwMAAABu0lEQVRIib2Va43EMAyE5xgEQyEU\n",
       "QyAUQyAUQyEEQyEUQyAEQxbC3I+TI7dJ+sjqupKl3VXjqe3PE4QQSBJvB4wxNMZwXddXXwAhBA7D\n",
       "QACcpukr8ZQSY4y3cuQvzjkC4DAMtw8fY57nnGNZltMcux/LshAAAXS1PqVEKUBeYNu2ap7ij2ma\n",
       "8kHvfVflKSWO45jz1EZYHNq2jQBojCGAy5adhRYfx5EpJTaFY4y51dZaAuA8z92VSwEi3hT23hMA\n",
       "Zb+l9c65LvF1XbOwzrN7KISQH6jNvVdcVw2AMca6qLW2EBDxnrZrYCXHDqgrmmXmT4HTayqz3lWq\n",
       "W3FF6pNVE252IVXopb8iVSz2rrg4moQxphz8Hb+OMeY1ueNwx+KstaXwXXhk3wE0bVHi2OYQwt5d\n",
       "nlKr+Wjd60dw5SWLwddW6Sy0xdag1JeGHgtIQmCR0J76rbjkPrJQwNJrEmKNR/GW41VJ7b2PtXgI\n",
       "gSmlZq7isJ6Jvk3uhmZGRlBzuiatzrniDn1a+RmwjxL2ANfa9X8Tls4JNwV0/ylM/nm7WKZA94qw\n",
       "hL4ovPfviErEGGmtpTGGPyTx9ufz+fAXUqujFxChGt4AAAAASUVORK5CYII=\n",
       "\" transform=\"translate(43, 735)\"/>\n",
       "</g>\n",
       "<polyline clip-path=\"url(#clip3402)\" style=\"stroke:#7fae33; stroke-width:24; stroke-opacity:1; fill:none\" points=\"\n",
       "  276.871,1049.96 287.321,1330.25 352.45,1355.34 416.635,1411.98 713.282,843.121 960.367,302.272 1276.12,86.9936 1631.42,151.289 1975.5,438.222 2292.29,1059.69 \n",
       "  2287.66,1049.96 2287.66,1049.96 \n",
       "  \"/>\n",
       "<circle clip-path=\"url(#clip3402)\" style=\"fill:#000000; stroke:none; fill-opacity:1\" cx=\"276.871\" cy=\"1049.96\" r=\"25\"/>\n",
       "<circle clip-path=\"url(#clip3402)\" style=\"fill:#7fae33; stroke:none; fill-opacity:1\" cx=\"276.871\" cy=\"1049.96\" r=\"21\"/>\n",
       "<circle clip-path=\"url(#clip3402)\" style=\"fill:#000000; stroke:none; fill-opacity:1\" cx=\"287.321\" cy=\"1330.25\" r=\"25\"/>\n",
       "<circle clip-path=\"url(#clip3402)\" style=\"fill:#7fae33; stroke:none; fill-opacity:1\" cx=\"287.321\" cy=\"1330.25\" r=\"21\"/>\n",
       "<circle clip-path=\"url(#clip3402)\" style=\"fill:#000000; stroke:none; fill-opacity:1\" cx=\"352.45\" cy=\"1355.34\" r=\"25\"/>\n",
       "<circle clip-path=\"url(#clip3402)\" style=\"fill:#7fae33; stroke:none; fill-opacity:1\" cx=\"352.45\" cy=\"1355.34\" r=\"21\"/>\n",
       "<circle clip-path=\"url(#clip3402)\" style=\"fill:#000000; stroke:none; fill-opacity:1\" cx=\"416.635\" cy=\"1411.98\" r=\"25\"/>\n",
       "<circle clip-path=\"url(#clip3402)\" style=\"fill:#7fae33; stroke:none; fill-opacity:1\" cx=\"416.635\" cy=\"1411.98\" r=\"21\"/>\n",
       "<circle clip-path=\"url(#clip3402)\" style=\"fill:#000000; stroke:none; fill-opacity:1\" cx=\"713.282\" cy=\"843.121\" r=\"25\"/>\n",
       "<circle clip-path=\"url(#clip3402)\" style=\"fill:#7fae33; stroke:none; fill-opacity:1\" cx=\"713.282\" cy=\"843.121\" r=\"21\"/>\n",
       "<circle clip-path=\"url(#clip3402)\" style=\"fill:#000000; stroke:none; fill-opacity:1\" cx=\"960.367\" cy=\"302.272\" r=\"25\"/>\n",
       "<circle clip-path=\"url(#clip3402)\" style=\"fill:#7fae33; stroke:none; fill-opacity:1\" cx=\"960.367\" cy=\"302.272\" r=\"21\"/>\n",
       "<circle clip-path=\"url(#clip3402)\" style=\"fill:#000000; stroke:none; fill-opacity:1\" cx=\"1276.12\" cy=\"86.9936\" r=\"25\"/>\n",
       "<circle clip-path=\"url(#clip3402)\" style=\"fill:#7fae33; stroke:none; fill-opacity:1\" cx=\"1276.12\" cy=\"86.9936\" r=\"21\"/>\n",
       "<circle clip-path=\"url(#clip3402)\" style=\"fill:#000000; stroke:none; fill-opacity:1\" cx=\"1631.42\" cy=\"151.289\" r=\"25\"/>\n",
       "<circle clip-path=\"url(#clip3402)\" style=\"fill:#7fae33; stroke:none; fill-opacity:1\" cx=\"1631.42\" cy=\"151.289\" r=\"21\"/>\n",
       "<circle clip-path=\"url(#clip3402)\" style=\"fill:#000000; stroke:none; fill-opacity:1\" cx=\"1975.5\" cy=\"438.222\" r=\"25\"/>\n",
       "<circle clip-path=\"url(#clip3402)\" style=\"fill:#7fae33; stroke:none; fill-opacity:1\" cx=\"1975.5\" cy=\"438.222\" r=\"21\"/>\n",
       "<circle clip-path=\"url(#clip3402)\" style=\"fill:#000000; stroke:none; fill-opacity:1\" cx=\"2292.29\" cy=\"1059.69\" r=\"25\"/>\n",
       "<circle clip-path=\"url(#clip3402)\" style=\"fill:#7fae33; stroke:none; fill-opacity:1\" cx=\"2292.29\" cy=\"1059.69\" r=\"21\"/>\n",
       "<circle clip-path=\"url(#clip3402)\" style=\"fill:#000000; stroke:none; fill-opacity:1\" cx=\"2287.66\" cy=\"1049.96\" r=\"25\"/>\n",
       "<circle clip-path=\"url(#clip3402)\" style=\"fill:#7fae33; stroke:none; fill-opacity:1\" cx=\"2287.66\" cy=\"1049.96\" r=\"21\"/>\n",
       "<circle clip-path=\"url(#clip3402)\" style=\"fill:#000000; stroke:none; fill-opacity:1\" cx=\"2287.66\" cy=\"1049.96\" r=\"25\"/>\n",
       "<circle clip-path=\"url(#clip3402)\" style=\"fill:#7fae33; stroke:none; fill-opacity:1\" cx=\"2287.66\" cy=\"1049.96\" r=\"21\"/>\n",
       "<polygon clip-path=\"url(#clip3400)\" points=\"\n",
       "1409.43,251.724 2280.76,251.724 2280.76,130.764 1409.43,130.764 \n",
       "  \" fill=\"#ffffff\" fill-rule=\"evenodd\" fill-opacity=\"1\"/>\n",
       "<polyline clip-path=\"url(#clip3400)\" style=\"stroke:#000000; stroke-width:4; stroke-opacity:1; fill:none\" points=\"\n",
       "  1409.43,251.724 2280.76,251.724 2280.76,130.764 1409.43,130.764 1409.43,251.724 \n",
       "  \"/>\n",
       "<polyline clip-path=\"url(#clip3400)\" style=\"stroke:#7fae33; stroke-width:24; stroke-opacity:1; fill:none\" points=\"\n",
       "  1433.43,191.244 1577.43,191.244 \n",
       "  \"/>\n",
       "<circle clip-path=\"url(#clip3400)\" style=\"fill:#000000; stroke:none; fill-opacity:1\" cx=\"1517.43\" cy=\"191.244\" r=\"25\"/>\n",
       "<circle clip-path=\"url(#clip3400)\" style=\"fill:#7fae33; stroke:none; fill-opacity:1\" cx=\"1517.43\" cy=\"191.244\" r=\"21\"/>\n",
       "<g clip-path=\"url(#clip3400)\">\n",
       "<text style=\"fill:#000000; fill-opacity:1; font-family:Arial,Helvetica Neue,Helvetica,sans-serif; font-size:48px; text-anchor:start;\" transform=\"rotate(0, 1601.43, 208.744)\" x=\"1601.43\" y=\"208.744\">Torso center of mass position</text>\n",
       "</g>\n",
       "</svg>\n"
      ]
     },
     "execution_count": 101,
     "metadata": {},
     "output_type": "execute_result"
    }
   ],
   "source": [
    "xlabel=latexstring(\"x\")\n",
    "ylabel=latexstring(\"z\")\n",
    "plot(traj_semidirect[8][1,:],-traj_semidirect[8][2,:],front_traj,label=\"Torso center of mass position\",seriescolor=RGB(((127,174,51) ./ 255.)...),linewidth=6,marker=6,xlabel=xlabel,ylabel=ylabel)"
   ]
  },
  {
   "cell_type": "code",
   "execution_count": null,
   "metadata": {},
   "outputs": [],
   "source": [
    "savefig(string(\"littledogcom_3.svg\")) "
   ]
  },
  {
   "cell_type": "code",
   "execution_count": 10,
   "metadata": {},
   "outputs": [],
   "source": [
    "t_step = traj_semidirect[7]\n",
    "q_step = traj_semidirect[1]\n",
    "u_step = traj_semidirect[2][2:end];"
   ]
  },
  {
   "cell_type": "code",
   "execution_count": 15,
   "metadata": {},
   "outputs": [],
   "source": [
    "# Multi-steps\n",
    "\n",
    "reps = 6\n",
    "\n",
    "ttraj = t_step\n",
    "qtraj = q_step\n",
    "utraj = u_step\n",
    "for i = 1:(reps-1)\n",
    "    ttraj = vcat(ttraj, t_step .+ ttraj[end])\n",
    "    qtraj = vcat(qtraj, map(q -> q + vcat(qtraj[end][1],zeros(length(q)-1)), q_step))\n",
    "    utraj = vcat(utraj, u_step)\n",
    "end\n",
    "\n",
    "setanimation!(mvis, ttraj, qtraj)"
   ]
  },
  {
   "cell_type": "code",
   "execution_count": null,
   "metadata": {},
   "outputs": [],
   "source": [
    "# Indirect\n",
    "\n",
    "sim_data = get_trajopt_data_indirect(mechanism,env,Δt,N,relax_comp=true)\n",
    "x0, x_min, x_max = setup_prob!(sim_data);"
   ]
  },
  {
   "cell_type": "code",
   "execution_count": null,
   "metadata": {},
   "outputs": [],
   "source": [
    "con_tol = 1e-5\n",
    "obj_tol = 1e-5\n",
    "max_iter = 1000\n",
    "\n",
    "display(@time traj_indirect = Bilevel.trajopt(sim_data, x0=x0, x_min=x_min, x_max=x_max, verbose=1, opt_tol=obj_tol, major_feas=con_tol, minor_feas=con_tol, max_iter=max_iter))\n",
    "\n",
    "x0 = traj_indirect[9]\n",
    "\n",
    "setanimation!(mvis, traj_indirect[7], traj_indirect[1])"
   ]
  },
  {
   "cell_type": "code",
   "execution_count": null,
   "metadata": {},
   "outputs": [],
   "source": [
    "function run_trajopt()\n",
    "    Bilevel.solve_rosenbrock() # clearing SNOPT\n",
    "    Bilevel.trajopt(sim_data, x0=x0, x_min=x_min, x_max=x_max, verbose=0, opt_tol=obj_tol, major_feas=con_tol, minor_feas=con_tol, max_iter=max_iter)\n",
    "end\n",
    "\n",
    "@benchmark run_trajopt()"
   ]
  },
  {
   "cell_type": "code",
   "execution_count": null,
   "metadata": {},
   "outputs": [],
   "source": [
    "setanimation!(mvis, traj_indirect[7], traj_indirect[1])"
   ]
  },
  {
   "cell_type": "code",
   "execution_count": null,
   "metadata": {},
   "outputs": [],
   "source": [
    "t_step = traj_indirect[7]\n",
    "q_step = traj_indirect[1]\n",
    "u_step = traj_indirect[2][2:end];"
   ]
  }
 ],
 "metadata": {
  "kernelspec": {
   "display_name": "Julia 1.1.0",
   "language": "julia",
   "name": "julia-1.1"
  },
  "language_info": {
   "file_extension": ".jl",
   "mimetype": "application/julia",
   "name": "julia",
   "version": "1.1.0"
  }
 },
 "nbformat": 4,
 "nbformat_minor": 2
}
