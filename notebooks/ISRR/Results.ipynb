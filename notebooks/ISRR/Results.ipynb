{
 "cells": [
  {
   "cell_type": "code",
   "execution_count": 1,
   "metadata": {},
   "outputs": [
    {
     "name": "stderr",
     "output_type": "stream",
     "text": [
      "┌ Info: Precompiling Bilevel [9688c538-179f-11e9-3174-495cea6b7f67]\n",
      "└ @ Base loading.jl:1186\n"
     ]
    },
    {
     "data": {
      "text/html": [
       "    <script class='js-collapse-script'>\n",
       "        var curMatch =\n",
       "            window.location.href\n",
       "            .match(/(.*?)\\/notebooks\\/.*\\.ipynb/);\n",
       "\n",
       "        curMatch = curMatch ||\n",
       "            window.location.href\n",
       "            .match(/(.*?)\\/apps\\/.*\\.ipynb/);\n",
       "\n",
       "        if ( curMatch ) {\n",
       "            $('head').append('<base href=\"' + curMatch[1] + '/\">');\n",
       "        }\n",
       "    </script>\n"
      ],
      "text/plain": [
       "HTML{String}(\"    <script class='js-collapse-script'>\\n        var curMatch =\\n            window.location.href\\n            .match(/(.*?)\\\\/notebooks\\\\/.*\\\\.ipynb/);\\n\\n        curMatch = curMatch ||\\n            window.location.href\\n            .match(/(.*?)\\\\/apps\\\\/.*\\\\.ipynb/);\\n\\n        if ( curMatch ) {\\n            \\$('head').append('<base href=\\\"' + curMatch[1] + '/\\\">');\\n        }\\n    </script>\\n\")"
      ]
     },
     "metadata": {},
     "output_type": "display_data"
    },
    {
     "data": {
      "text/html": [
       "<script class='js-collapse-script' src='/assetserver/b464848323e0a4c9a3cfe11f8edca2932188b6d9-assets/webio/dist/bundle.js'></script>"
      ],
      "text/plain": [
       "HTML{String}(\"<script class='js-collapse-script' src='/assetserver/b464848323e0a4c9a3cfe11f8edca2932188b6d9-assets/webio/dist/bundle.js'></script>\")"
      ]
     },
     "metadata": {},
     "output_type": "display_data"
    },
    {
     "data": {
      "text/html": [
       "<script class='js-collapse-script' src='/assetserver/b464848323e0a4c9a3cfe11f8edca2932188b6d9-assets/providers/ijulia_setup.js'></script>"
      ],
      "text/plain": [
       "HTML{String}(\"<script class='js-collapse-script' src='/assetserver/b464848323e0a4c9a3cfe11f8edca2932188b6d9-assets/providers/ijulia_setup.js'></script>\")"
      ]
     },
     "metadata": {},
     "output_type": "display_data"
    },
    {
     "data": {
      "text/html": [
       "  <script class='js-collapse-script'>\n",
       "    $('.js-collapse-script').parent('.output_subarea').css('padding', '0');\n",
       "  </script>\n"
      ],
      "text/plain": [
       "HTML{String}(\"  <script class='js-collapse-script'>\\n    \\$('.js-collapse-script').parent('.output_subarea').css('padding', '0');\\n  </script>\\n\")"
      ]
     },
     "metadata": {},
     "output_type": "display_data"
    },
    {
     "name": "stderr",
     "output_type": "stream",
     "text": [
      "┌ Error: evaluation error\n",
      "│   mod = Bilevel\n",
      "│   ex = const usrfun = #= /home/blandry/.julia/dev/Bilevel/src/solvers/snopt.jl:154 =# @cfunction(objcon_wrapper, Cvoid, (Ptr{Clong}, Ref{Clong}, Ptr{Cdouble}, Ref{Clong}, Ref{Clong}, Ptr{Cdouble}, Ref{Clong}, Ref{Clong}, Ptr{Cdouble}, Ptr{Cchar}, Ref{Clong}, Ptr{Clong}, Ref{Clong}, Ptr{Cdouble}, Ref{Clong}))\n",
      "│   exception = (ErrorException(\"invalid lookup expr (\\$(QuoteNode(Core.svec)))(JuliaInterpreter.SSAValue(2), JuliaInterpreter.SSAValue(3), JuliaInterpreter.SSAValue(4), JuliaInterpreter.SSAValue(5), JuliaInterpreter.SSAValue(6), JuliaInterpreter.SSAValue(7), JuliaInterpreter.SSAValue(8), JuliaInterpreter.SSAValue(9), JuliaInterpreter.SSAValue(10), JuliaInterpreter.SSAValue(11), JuliaInterpreter.SSAValue(12), JuliaInterpreter.SSAValue(13), JuliaInterpreter.SSAValue(14), JuliaInterpreter.SSAValue(15), JuliaInterpreter.SSAValue(16))\"), Union{Ptr{Nothing}, InterpreterIP}[Ptr{Nothing} @0x00007f608dfd35eb, Ptr{Nothing} @0x00007f608dfa4204, Ptr{Nothing} @0x00007f6060159470, Ptr{Nothing} @0x00007f6030083b45, Ptr{Nothing} @0x00007f60300ab2ed, Ptr{Nothing} @0x00007f60300ab8d4, Ptr{Nothing} @0x00007f6030084193, Ptr{Nothing} @0x00007f60300856ab, Ptr{Nothing} @0x00007f60300897db, Ptr{Nothing} @0x00007f6030082804, Ptr{Nothing} @0x00007f6030083544, Ptr{Nothing} @0x00007f608df885d6, Ptr{Nothing} @0x00007f60601553e5, Ptr{Nothing} @0x00007f608df885d6, Ptr{Nothing} @0x00007f6060153ce0, Ptr{Nothing} @0x00007f6060153d34, Ptr{Nothing} @0x00007f60601534b4, Ptr{Nothing} @0x00007f6060153adf, Ptr{Nothing} @0x00007f608df885d6, Ptr{Nothing} @0x00007f6060149e84, Ptr{Nothing} @0x00007f606014a83c, Ptr{Nothing} @0x00007f606014c3de, Ptr{Nothing} @0x00007f6060148d01, Ptr{Nothing} @0x00007f608df885d6, Ptr{Nothing} @0x00007f608dfa4a92, Ptr{Nothing} @0x0000000000000000])\n",
      "└ @ Revise /home/blandry/.julia/packages/Revise/5wsCa/src/lowered.jl:52\n"
     ]
    }
   ],
   "source": [
    "using Revise\n",
    "using Bilevel\n",
    "\n",
    "using RigidBodyDynamics\n",
    "using MeshCatMechanisms\n",
    "using MeshCat\n",
    "using Plots\n",
    "using LinearAlgebra\n",
    "using StaticArrays\n",
    "using BenchmarkTools\n",
    "using LaTeXStrings"
   ]
  },
  {
   "cell_type": "markdown",
   "metadata": {},
   "source": [
    "# Simulation of sliding box"
   ]
  },
  {
   "cell_type": "code",
   "execution_count": null,
   "metadata": {},
   "outputs": [],
   "source": [
    "urdf = joinpath(\"..\", \"..\", \"urdf\", \"ball2d.urdf\")\n",
    "mechanism = parse_urdf(Float64, urdf)\n",
    "\n",
    "floor = findbody(mechanism, \"floor\")\n",
    "point = Point3D(default_frame(floor), SVector([0.,0.,0.]...))\n",
    "normal = FreeVector3D(default_frame(floor), SVector([0.,0.,1.]...))\n",
    "floor_obs = Obstacle(floor, point, normal, :xyz, 1.)\n",
    "\n",
    "obstacles = [floor_obs]\n",
    "env = Environment(mechanism, urdf, obstacles);"
   ]
  },
  {
   "cell_type": "code",
   "execution_count": null,
   "metadata": {},
   "outputs": [],
   "source": [
    "mvis = MechanismVisualizer(mechanism, URDFVisuals(urdf))\n",
    "# open(mvis)"
   ]
  },
  {
   "cell_type": "code",
   "execution_count": null,
   "metadata": {},
   "outputs": [],
   "source": [
    "N = 10\n",
    "Δt = 0.1\n",
    "q0 = [0., 0.2, 0.]\n",
    "v0 = [8., 0., 0.];"
   ]
  },
  {
   "cell_type": "code",
   "execution_count": null,
   "metadata": {},
   "outputs": [],
   "source": [
    "# Indirect\n",
    "\n",
    "sim_data = get_sim_data_indirect(mechanism,env,Δt,relax_comp=true)\n",
    "null_ctrl! = (u,t,x) -> u[:] .= 0.\n",
    "x0 = MechanismState(mechanism)\n",
    "set_configuration!(x0, q0)\n",
    "set_velocity!(x0, v0)\n",
    "setdirty!(x0)\n",
    "sim_indirect = Bilevel.simulate(sim_data,null_ctrl!,x0,N)"
   ]
  },
  {
   "cell_type": "code",
   "execution_count": null,
   "metadata": {},
   "outputs": [],
   "source": [
    "@benchmark sim_indirect = Bilevel.simulate(sim_data,null_ctrl!,x0,N)"
   ]
  },
  {
   "cell_type": "code",
   "execution_count": null,
   "metadata": {},
   "outputs": [],
   "source": [
    "setanimation!(mvis, sim_indirect[6], sim_indirect[1])"
   ]
  },
  {
   "cell_type": "code",
   "execution_count": null,
   "metadata": {},
   "outputs": [],
   "source": [
    "# Direct (both normal and friction)\n",
    "\n",
    "sim_data = get_sim_data_direct(mechanism,env,Δt)\n",
    "null_ctrl! = (u,t,x) -> u[:] .= 0.\n",
    "x0 = MechanismState(mechanism)\n",
    "set_configuration!(x0, q0)\n",
    "set_velocity!(x0, v0)\n",
    "setdirty!(x0)\n",
    "sim_direct = Bilevel.simulate(sim_data,null_ctrl!,x0,N)"
   ]
  },
  {
   "cell_type": "code",
   "execution_count": null,
   "metadata": {},
   "outputs": [],
   "source": [
    "@benchmark sim_direct = Bilevel.simulate(sim_data,null_ctrl!,x0,N)"
   ]
  },
  {
   "cell_type": "code",
   "execution_count": null,
   "metadata": {},
   "outputs": [],
   "source": [
    "setanimation!(mvis, sim_direct[6], sim_direct[1])"
   ]
  },
  {
   "cell_type": "code",
   "execution_count": null,
   "metadata": {},
   "outputs": [],
   "source": [
    "j = 1\n",
    "plot(sim_indirect[6],sim_indirect[8][j,:],label=\"Indirect\",seriescolor=RGB(((227,74,51) ./ 255.)...),linewidth=0,marker=6)\n",
    "plot!(sim_direct[6],sim_direct[8][j,:],label=\"Direct\",seriescolor=RGB(((254,232,200) ./ 255.)...),linewidth=1,marker=4)"
   ]
  },
  {
   "cell_type": "code",
   "execution_count": null,
   "metadata": {},
   "outputs": [],
   "source": [
    "sim_indirect[1][end]"
   ]
  },
  {
   "cell_type": "markdown",
   "metadata": {},
   "source": [
    "# Trajectory optimization of sliding box"
   ]
  },
  {
   "cell_type": "code",
   "execution_count": 56,
   "metadata": {},
   "outputs": [],
   "source": [
    "urdf = joinpath(\"..\", \"..\", \"urdf\", \"ball2d.urdf\")\n",
    "mechanism = parse_urdf(Float64, urdf)\n",
    "\n",
    "floor = findbody(mechanism, \"floor\")\n",
    "point = Point3D(default_frame(floor), SVector([0.,0.,0.]...))\n",
    "normal = FreeVector3D(default_frame(floor), SVector([0.,0.,1.]...))\n",
    "floor_obs = Obstacle(floor, point, normal, :xyz, 1.)\n",
    "\n",
    "obstacles = [floor_obs]\n",
    "env = Environment(mechanism, urdf, obstacles);"
   ]
  },
  {
   "cell_type": "code",
   "execution_count": 57,
   "metadata": {},
   "outputs": [
    {
     "data": {
      "text/plain": [
       "MechanismVisualizer{MechanismState{Float64,Float64,Float64,TypeSortedCollections.TypeSortedCollection{Tuple{Array{Joint{Float64,Fixed{Float64}},1},Array{Joint{Float64,Planar{Float64}},1}},2}},Visualizer}(MechanismState{Float64, Float64, Float64, …}(…), MeshCat Visualizer with path /meshcat, 2)"
      ]
     },
     "execution_count": 57,
     "metadata": {},
     "output_type": "execute_result"
    }
   ],
   "source": [
    "mvis = MechanismVisualizer(mechanism, URDFVisuals(urdf))\n",
    "# open(mvis)"
   ]
  },
  {
   "cell_type": "code",
   "execution_count": 76,
   "metadata": {},
   "outputs": [
    {
     "data": {
      "text/plain": [
       "get_prob_init (generic function with 1 method)"
      ]
     },
     "execution_count": 76,
     "metadata": {},
     "output_type": "execute_result"
    }
   ],
   "source": [
    "# qN = [3.0, 0., 0.]\n",
    "# N = 10\n",
    "\n",
    "# qN = [3.0, 0., 0.]\n",
    "# N = 15\n",
    "\n",
    "# qN = [3.0, 0., 0.]\n",
    "# N = 20\n",
    "\n",
    "# qN = [3.0, 0., 0.]\n",
    "# N = 25\n",
    "\n",
    "# qN = [5.0, 0., 0.]\n",
    "# N = 30\n",
    "\n",
    "qN = [10.0, 0., 0.]\n",
    "N = 35\n",
    "\n",
    "# qN = [15.0, 0., 0.]\n",
    "# N = 40\n",
    "\n",
    "q1 = [0., 0.2, 0.]\n",
    "Δt = 0.1\n",
    "\n",
    "q_min = [-10., -10., -10.]\n",
    "q_max = [10., 10., 10.]\n",
    "\n",
    "function get_prob_limits(sim_data)\n",
    "    x_min = -1e19*ones(sim_data.vs.num_vars)\n",
    "    x_max = 1e19*ones(sim_data.vs.num_vars)\n",
    "    \n",
    "    # joint limits\n",
    "    add_box_con_snopt!(x_min, x_max, sim_data, :q, q_min, q_max, 1:N)\n",
    "    add_box_con_snopt!(x_min, x_max, sim_data, :h, [Δt], [Δt], 1:N-1)\n",
    "    \n",
    "    # torques limits\n",
    "    add_box_con_snopt!(x_min, x_max, sim_data, :u, zeros(num_velocities(mechanism)), zeros(num_velocities(mechanism)), 1:N-1)\n",
    "\n",
    "    x_min, x_max\n",
    "end\n",
    "\n",
    "function add_prob_constraints!(sim_data)\n",
    "    vs = sim_data.vs\n",
    "\n",
    "    add_eq!(sim_data, :cq1, length(q1), x -> vs(x, :q1) - q1)\n",
    "    add_eq!(sim_data, :cv1, 1, x -> vs(x, :v1)[2])\n",
    "    add_eq!(sim_data, :cqN, 2, x -> vs(x, Symbol(\"q\", N))[1:2] - qN[1:2])\n",
    "    add_eq!(sim_data, :cvN, 1, x -> vs(x, Symbol(\"v\", N))[1])\n",
    "end\n",
    "\n",
    "function get_prob_init(sim_data)\n",
    "    x0 = zeros(sim_data.vs.num_vars)\n",
    "    for n = 1:N\n",
    "        x0[sim_data.vs(Symbol(\"q\", n))] .= n/N*(qN - q1) + q1\n",
    "    end\n",
    "    \n",
    "    x0\n",
    "end"
   ]
  },
  {
   "cell_type": "code",
   "execution_count": 77,
   "metadata": {},
   "outputs": [
    {
     "name": "stdout",
     "output_type": "stream",
     "text": [
      "Finished successfully: optimality conditions satisfied\n",
      " 38.311243 seconds (156.91 M allocations: 25.160 GiB, 22.76% gc time)\n"
     ]
    },
    {
     "data": {
      "text/plain": [
       "(Array{Float64,1}[[0.0, 0.2, 0.0], [1.40151, 0.102317, 0.0574336], [2.71221, -1.97883e-15, 0.114867], [3.83686, -6.98185e-18, 0.172301], [4.86694, 0.0, 0.229734], [5.80261, 0.0, 0.287168], [6.64402, 0.0, 0.344602], [7.39133, 0.0, 0.402035], [8.04467, 2.58494e-26, 0.459469], [8.60421, 0.0, 0.516902]  …  [10.0, 0.0, 1.43584], [10.0, -3.10193e-25, 1.49327], [10.0, 0.0, 1.55071], [10.0, 0.0, 1.60814], [10.0, 5.16988e-26, 1.66557], [10.0, 0.0, 1.72301], [10.0, 0.0, 1.78044], [10.0, 4.3074e-21, 1.83788], [10.0, 2.66151e-17, 1.89531], [10.0, 0.0, 1.95274]], Array{Float64,1}[[14.0954, 0.0, 0.574336], [13.9359, -1.77972, 0.574336], [12.9034, -2.51869, 0.574336], [11.0799, -1.92819, 0.574336], [10.0302, -2.34569, 0.574336], [8.97356, -2.65017, 0.574336], [7.91947, -2.84248, 0.574336], [6.87719, -2.92414, 0.574336], [5.85586, -2.8974, 0.574336], [4.86435, -2.76517, 0.574336]  …  [-8.53507e-12, 6.28587e-11, 0.574336], [-3.90879e-12, 5.03201e-11, 0.574336], [-2.80788e-13, 2.81868e-11, 0.574336], [-2.61888e-15, 1.27002e-11, 0.574336], [-2.47353e-13, 4.88565e-12, 0.574336], [6.21622e-15, 1.68541e-12, 0.574336], [6.88327e-15, 5.83081e-13, 0.574336], [3.05286e-13, 2.08248e-13, 0.574336], [1.13441e-12, 8.94831e-15, 0.574336], [0.0, -1.15563e-13, 0.574336]], Array{Float64,1}[[0.0, 0.0, 0.0], [0.0, 0.0, 0.0], [0.0, 0.0, 0.0], [0.0, 0.0, 0.0], [0.0, 0.0, 0.0], [0.0, 0.0, 0.0], [0.0, 0.0, 0.0], [0.0, 0.0, 0.0], [0.0, 0.0, 0.0], [0.0, 0.0, 0.0]  …  [0.0, 0.0, 0.0], [0.0, 0.0, 0.0], [0.0, 0.0, 0.0], [0.0, 0.0, 0.0], [0.0, 0.0, 0.0], [0.0, 0.0, 0.0], [0.0, 0.0, 0.0], [0.0, 0.0, 0.0], [0.0, 0.0, 0.0], [0.0, 0.0, 0.0]], [0.1, 0.1, 0.1, 0.1, 0.1, 0.1, 0.1, 0.1, 0.1, 0.1  …  0.1, 0.1, 0.1, 0.1, 0.1, 0.1, 0.1, 0.1, 0.1, 0.1], Array{Float64,1}[[-9.18998e-17], [0.898412], [1.93275], [0.945001], [0.945059], [0.945116], [0.945174], [0.945231], [0.945289], [0.945346]  …  [1.0], [1.0], [1.0], [1.0], [1.0], [1.0], [1.0], [1.0], [1.0], [1.0]], Array{Float64,1}[], [0.0, 0.1, 0.2, 0.3, 0.4, 0.5, 0.6, 0.7, 0.8, 0.9  …  2.5, 2.6, 2.7, 2.8, 2.9, 3.0, 3.1, 3.2, 3.3, 3.4], [0.0 1.40151 … 10.0 10.0; 0.2 0.102317 … 2.66151e-17 0.0; … ; 0.0 -1.77972 … 8.94831e-15 -1.15563e-13; 0.574336 0.574336 … 0.574336 0.574336], [0.0, 0.2, 0.0, 14.0954, 0.0, 0.574336, 0.0, 0.0, 0.0, 0.1  …  0.0, 0.0, 0.1, 1.0, 10.0, 0.0, 1.95274, 0.0, -1.15563e-13, 0.574336])"
      ]
     },
     "execution_count": 77,
     "metadata": {},
     "output_type": "execute_result"
    }
   ],
   "source": [
    "# Semidirect\n",
    "con_tol = 1e-5\n",
    "obj_tol = 1e-5\n",
    "max_iter = 5000\n",
    "\n",
    "sim_data = get_trajopt_data_semidirect(mechanism,env,Δt,N,relax_comp=false)\n",
    "add_prob_constraints!(sim_data)\n",
    "x_min, x_max = get_prob_limits(sim_data)\n",
    "x0 = get_prob_init(sim_data)\n",
    "@time traj_semidirect = Bilevel.trajopt(sim_data, x0=x0, x_min=x_min, x_max=x_max, verbose=1, opt_tol=obj_tol, major_feas=con_tol, minor_feas=con_tol, max_iter=max_iter)"
   ]
  },
  {
   "cell_type": "code",
   "execution_count": null,
   "metadata": {},
   "outputs": [],
   "source": [
    "function run_trajopt()\n",
    "    Bilevel.solve_rosenbrock() # clearing SNOPT\n",
    "    Bilevel.trajopt(sim_data, x0=x0, x_min=x_min, x_max=x_max, verbose=0, opt_tol=obj_tol, major_feas=con_tol, minor_feas=con_tol, max_iter=max_iter)\n",
    "end\n",
    "\n",
    "@benchmark run_trajopt()"
   ]
  },
  {
   "cell_type": "code",
   "execution_count": 66,
   "metadata": {},
   "outputs": [],
   "source": [
    "Bilevel.solve_rosenbrock(); # clearing SNOPT"
   ]
  },
  {
   "cell_type": "code",
   "execution_count": 78,
   "metadata": {},
   "outputs": [
    {
     "name": "stdout",
     "output_type": "stream",
     "text": [
      "Finished successfully: optimality conditions satisfied\n",
      " 22.861190 seconds (150.17 M allocations: 19.188 GiB, 28.41% gc time)\n"
     ]
    },
    {
     "data": {
      "text/plain": [
       "(Array{Float64,1}[[0.0, 0.2, 0.0], [1.44919, 0.101922, -0.0155368], [2.80253, 2.0754e-7, -0.0310736], [3.95093, 0.0, -0.0466104], [4.99954, -1.3489e-13, -0.0621471], [5.94838, 7.14919e-15, -0.0776839], [6.79745, 4.9131e-15, -0.0932207], [7.54678, -1.03398e-25, -0.108758], [8.19636, 0.0, -0.124294], [8.74621, 7.08986e-14, -0.139831]  …  [10.0, 6.40878e-19, -0.38842], [10.0, 4.12626e-14, -0.403956], [10.0, 3.14795e-14, -0.419493], [10.0, -6.79304e-14, -0.43503], [10.0, 1.45937e-13, -0.450567], [10.0, -1.8791e-13, -0.466104], [10.0, 0.0, -0.48164], [10.0, 0.0, -0.497177], [10.0, 0.0, -0.512714], [10.0, 0.0, -0.528251]], Array{Float64,1}[[14.4784, 0.0, -0.155368], [14.5054, -0.755515, -0.155368], [13.5585, -0.598261, -0.155368], [11.4715, 0.535078, -0.155368], [10.4659, 0.651264, -0.155368], [9.45976, 0.736353, -0.155368], [8.45387, 0.790366, -0.155368], [7.44894, 0.813338, -0.155368], [6.44571, 0.805316, -0.155368], [5.44488, 0.766364, -0.155368]  …  [-7.0912e-8, 3.63551e-8, -0.155368], [-3.52306e-8, -1.24458e-8, -0.155368], [-2.07584e-6, 1.57672e-6, -0.155368], [-4.95623e-8, 2.65814e-8, -0.155368], [-6.30365e-8, -2.91091e-8, -0.155368], [-1.90457e-9, -9.24112e-10, -0.155368], [-2.08716e-11, -8.26528e-12, -0.155368], [-2.06405e-14, 1.67642e-12, -0.155368], [-1.3692e-12, 8.208e-13, -0.155368], [0.0, 4.83332e-14, -0.155368]], Array{Float64,1}[[0.0, 0.0, 0.0], [0.0, 0.0, 0.0], [0.0, 0.0, 0.0], [0.0, 0.0, 0.0], [0.0, 0.0, 0.0], [0.0, 0.0, 0.0], [0.0, 0.0, 0.0], [0.0, 0.0, 0.0], [0.0, 0.0, 0.0], [0.0, 0.0, 0.0]  …  [0.0, 0.0, 0.0], [0.0, 0.0, 0.0], [0.0, 0.0, 0.0], [0.0, 0.0, 0.0], [0.0, 0.0, 0.0], [0.0, 0.0, 0.0], [0.0, 0.0, 0.0], [0.0, 0.0, 0.0], [0.0, 0.0, 0.0], [0.0, 0.0, 0.0]], [0.1, 0.1, 0.1, 0.1, 0.1, 0.1, 0.1, 0.1, 0.1, 0.1  …  0.1, 0.1, 0.1, 0.1, 0.1, 0.1, 0.1, 0.1, 0.1, 0.1], Array{Float64,1}[[-1.48902e-15, -6.84516e-16, 7.71436e-16, -2.92739e-21, 7.71436e-16, 14.4919], [0.975871, 1.92605e-15, 4.0173e-18, 0.975871, 3.85613e-15, 13.5334], [2.07128, 0.0, 0.0, 2.07128, 5.55112e-17, 11.484], [1.0158, 2.7876e-22, -2.77556e-17, 1.0158, 0.0, 10.4861], [1.0158, -2.6893e-18, 0.0, 1.0158, 0.0, 9.48837], [1.01579, 2.92962e-18, 8.32667e-17, 1.01579, 0.0, 8.49073], [1.01579, 0.0, 0.0, 1.01579, 0.0, 7.49321], [1.01579, 0.0, -5.59448e-17, 1.01579, 0.0, 6.49582], [1.01579, 0.0, 0.0, 1.01579, 0.0, 5.49854], [1.01581, 0.0, -3.29597e-17, 1.01581, 0.0, 4.50137]  …  [1.0, 0.166058, 0.311775, 0.166058, 0.311774, 8.67362e-19], [1.0, 0.232058, 0.264724, 0.232058, 0.264724, 1.11173e-19], [1.0, 0.4225, 0.0775054, 0.422502, 0.0774924, -2.16629e-19], [1.0, 0.17665, 0.323511, 0.176649, 0.32319, -5.90038e-22], [1.0, 0.000356613, 0.498657, 0.000356646, 0.491389, -5.73998e-20], [1.0, 0.052694, 0.447306, 0.0526939, 0.447306, 0.0], [1.0, 0.108052, 0.391186, 0.108052, 0.390793, 1.69407e-21], [1.0, 0.28862, 0.21145, 0.28862, 0.21131, 7.73141e-16], [1.0, 0.107542, 0.379122, 0.107542, 0.379875, 0.0], [1.0, 0.327878, -8.57569e-18, 0.327878, 3.60934e-17, -1.71974e-14]], Array{Float64,1}[[0.0, -1.98899e-14, 0.0], [0.0, 4.50181e-14, -6.37281e-16], [0.0, 2.22045e-16, 0.0], [0.0, 0.0, 0.0], [0.0, 0.0, 0.0], [0.0, 0.0, 0.0], [0.0, 0.0, 0.0], [0.0, 0.0, 0.0], [0.0, 0.0, -1.35525e-20], [0.0, 0.0, 0.0]  …  [0.0, -2.16797e-8, 0.0], [0.0, 3.24437e-9, 0.0], [0.0, 0.0, 0.0], [0.0, 4.21874e-8, -2.1684e-19], [0.0, 4.2524e-10, 0.0], [0.0, 3.7857e-11, 0.0], [0.0, 8.43552e-14, 0.0], [0.0, 2.23095e-16, 0.0], [0.0, 2.31231e-26, 0.0], [0.0, 0.0, 0.0]], [0.0, 0.1, 0.2, 0.3, 0.4, 0.5, 0.6, 0.7, 0.8, 0.9  …  2.5, 2.6, 2.7, 2.8, 2.9, 3.0, 3.1, 3.2, 3.3, 3.4], [0.0 1.44919 … 10.0 10.0; 0.2 0.101922 … 0.0 0.0; … ; 0.0 -0.755515 … 8.208e-13 4.83332e-14; -0.155368 -0.155368 … -0.155368 -0.155368], [0.0, 0.2, 0.0, 14.4784, 0.0, -0.155368, 0.0, 0.0, 0.0, 0.1  …  0.327878, 3.60934e-17, -1.71974e-14, 1.0, 10.0, 0.0, -0.528251, 0.0, 4.83332e-14, -0.155368])"
      ]
     },
     "execution_count": 78,
     "metadata": {},
     "output_type": "execute_result"
    }
   ],
   "source": [
    "# Indirect\n",
    "con_tol = 1e-5\n",
    "obj_tol = 1e-5\n",
    "max_iter = 5000\n",
    "\n",
    "sim_data = get_trajopt_data_indirect(mechanism,env,Δt,N,relax_comp=true)\n",
    "add_prob_constraints!(sim_data)\n",
    "x_min, x_max = get_prob_limits(sim_data)\n",
    "x0 = get_prob_init(sim_data)\n",
    "\n",
    "@time traj_indirect = Bilevel.trajopt(sim_data, x0=x0, x_min=x_min, x_max=x_max, verbose=1, opt_tol=obj_tol, major_feas=con_tol, minor_feas=con_tol, max_iter=max_iter)"
   ]
  },
  {
   "cell_type": "code",
   "execution_count": null,
   "metadata": {},
   "outputs": [],
   "source": [
    "function run_trajopt()\n",
    "    Bilevel.solve_rosenbrock() # clearing SNOPT\n",
    "    Bilevel.trajopt(sim_data, x0=x0, x_min=x_min, x_max=x_max, verbose=0, opt_tol=obj_tol, major_feas=con_tol, minor_feas=con_tol, max_iter=max_iter)\n",
    "end\n",
    "\n",
    "@benchmark run_trajopt()"
   ]
  },
  {
   "cell_type": "code",
   "execution_count": 79,
   "metadata": {},
   "outputs": [
    {
     "data": {
      "image/svg+xml": [
       "<?xml version=\"1.0\" encoding=\"utf-8\"?>\n",
       "<svg xmlns=\"http://www.w3.org/2000/svg\" xmlns:xlink=\"http://www.w3.org/1999/xlink\" width=\"600\" height=\"400\" viewBox=\"0 0 2400 1600\">\n",
       "<defs>\n",
       "  <clipPath id=\"clip0200\">\n",
       "    <rect x=\"0\" y=\"0\" width=\"2400\" height=\"1600\"/>\n",
       "  </clipPath>\n",
       "</defs>\n",
       "<polygon clip-path=\"url(#clip0200)\" points=\"\n",
       "0,1600 2400,1600 2400,0 0,0 \n",
       "  \" fill=\"#ffffff\" fill-rule=\"evenodd\" fill-opacity=\"1\"/>\n",
       "<defs>\n",
       "  <clipPath id=\"clip0201\">\n",
       "    <rect x=\"480\" y=\"0\" width=\"1681\" height=\"1600\"/>\n",
       "  </clipPath>\n",
       "</defs>\n",
       "<polygon clip-path=\"url(#clip0200)\" points=\"\n",
       "216.408,1443.73 2352.76,1443.73 2352.76,47.2441 216.408,47.2441 \n",
       "  \" fill=\"#ffffff\" fill-rule=\"evenodd\" fill-opacity=\"1\"/>\n",
       "<defs>\n",
       "  <clipPath id=\"clip0202\">\n",
       "    <rect x=\"216\" y=\"47\" width=\"2137\" height=\"1397\"/>\n",
       "  </clipPath>\n",
       "</defs>\n",
       "<polyline clip-path=\"url(#clip0202)\" style=\"stroke:#000000; stroke-width:2; stroke-opacity:0.1; fill:none\" points=\"\n",
       "  276.871,1443.73 276.871,47.2441 \n",
       "  \"/>\n",
       "<polyline clip-path=\"url(#clip0202)\" style=\"stroke:#000000; stroke-width:2; stroke-opacity:0.1; fill:none\" points=\"\n",
       "  869.642,1443.73 869.642,47.2441 \n",
       "  \"/>\n",
       "<polyline clip-path=\"url(#clip0202)\" style=\"stroke:#000000; stroke-width:2; stroke-opacity:0.1; fill:none\" points=\"\n",
       "  1462.41,1443.73 1462.41,47.2441 \n",
       "  \"/>\n",
       "<polyline clip-path=\"url(#clip0202)\" style=\"stroke:#000000; stroke-width:2; stroke-opacity:0.1; fill:none\" points=\"\n",
       "  2055.18,1443.73 2055.18,47.2441 \n",
       "  \"/>\n",
       "<polyline clip-path=\"url(#clip0202)\" style=\"stroke:#000000; stroke-width:2; stroke-opacity:0.1; fill:none\" points=\"\n",
       "  216.408,1404.2 2352.76,1404.2 \n",
       "  \"/>\n",
       "<polyline clip-path=\"url(#clip0202)\" style=\"stroke:#000000; stroke-width:2; stroke-opacity:0.1; fill:none\" points=\"\n",
       "  216.408,1074.84 2352.76,1074.84 \n",
       "  \"/>\n",
       "<polyline clip-path=\"url(#clip0202)\" style=\"stroke:#000000; stroke-width:2; stroke-opacity:0.1; fill:none\" points=\"\n",
       "  216.408,745.485 2352.76,745.485 \n",
       "  \"/>\n",
       "<polyline clip-path=\"url(#clip0202)\" style=\"stroke:#000000; stroke-width:2; stroke-opacity:0.1; fill:none\" points=\"\n",
       "  216.408,416.126 2352.76,416.126 \n",
       "  \"/>\n",
       "<polyline clip-path=\"url(#clip0202)\" style=\"stroke:#000000; stroke-width:2; stroke-opacity:0.1; fill:none\" points=\"\n",
       "  216.408,86.7674 2352.76,86.7674 \n",
       "  \"/>\n",
       "<polyline clip-path=\"url(#clip0200)\" style=\"stroke:#000000; stroke-width:4; stroke-opacity:1; fill:none\" points=\"\n",
       "  216.408,1443.73 2352.76,1443.73 \n",
       "  \"/>\n",
       "<polyline clip-path=\"url(#clip0200)\" style=\"stroke:#000000; stroke-width:4; stroke-opacity:1; fill:none\" points=\"\n",
       "  216.408,1443.73 216.408,47.2441 \n",
       "  \"/>\n",
       "<polyline clip-path=\"url(#clip0200)\" style=\"stroke:#000000; stroke-width:4; stroke-opacity:1; fill:none\" points=\"\n",
       "  276.871,1443.73 276.871,1422.78 \n",
       "  \"/>\n",
       "<polyline clip-path=\"url(#clip0200)\" style=\"stroke:#000000; stroke-width:4; stroke-opacity:1; fill:none\" points=\"\n",
       "  869.642,1443.73 869.642,1422.78 \n",
       "  \"/>\n",
       "<polyline clip-path=\"url(#clip0200)\" style=\"stroke:#000000; stroke-width:4; stroke-opacity:1; fill:none\" points=\"\n",
       "  1462.41,1443.73 1462.41,1422.78 \n",
       "  \"/>\n",
       "<polyline clip-path=\"url(#clip0200)\" style=\"stroke:#000000; stroke-width:4; stroke-opacity:1; fill:none\" points=\"\n",
       "  2055.18,1443.73 2055.18,1422.78 \n",
       "  \"/>\n",
       "<polyline clip-path=\"url(#clip0200)\" style=\"stroke:#000000; stroke-width:4; stroke-opacity:1; fill:none\" points=\"\n",
       "  216.408,1404.2 248.454,1404.2 \n",
       "  \"/>\n",
       "<polyline clip-path=\"url(#clip0200)\" style=\"stroke:#000000; stroke-width:4; stroke-opacity:1; fill:none\" points=\"\n",
       "  216.408,1074.84 248.454,1074.84 \n",
       "  \"/>\n",
       "<polyline clip-path=\"url(#clip0200)\" style=\"stroke:#000000; stroke-width:4; stroke-opacity:1; fill:none\" points=\"\n",
       "  216.408,745.485 248.454,745.485 \n",
       "  \"/>\n",
       "<polyline clip-path=\"url(#clip0200)\" style=\"stroke:#000000; stroke-width:4; stroke-opacity:1; fill:none\" points=\"\n",
       "  216.408,416.126 248.454,416.126 \n",
       "  \"/>\n",
       "<polyline clip-path=\"url(#clip0200)\" style=\"stroke:#000000; stroke-width:4; stroke-opacity:1; fill:none\" points=\"\n",
       "  216.408,86.7674 248.454,86.7674 \n",
       "  \"/>\n",
       "<g clip-path=\"url(#clip0200)\">\n",
       "<text style=\"fill:#000000; fill-opacity:1; font-family:Arial,Helvetica Neue,Helvetica,sans-serif; font-size:48px; text-anchor:middle;\" transform=\"rotate(0, 276.871, 1497.73)\" x=\"276.871\" y=\"1497.73\">0</text>\n",
       "</g>\n",
       "<g clip-path=\"url(#clip0200)\">\n",
       "<text style=\"fill:#000000; fill-opacity:1; font-family:Arial,Helvetica Neue,Helvetica,sans-serif; font-size:48px; text-anchor:middle;\" transform=\"rotate(0, 869.642, 1497.73)\" x=\"869.642\" y=\"1497.73\">1</text>\n",
       "</g>\n",
       "<g clip-path=\"url(#clip0200)\">\n",
       "<text style=\"fill:#000000; fill-opacity:1; font-family:Arial,Helvetica Neue,Helvetica,sans-serif; font-size:48px; text-anchor:middle;\" transform=\"rotate(0, 1462.41, 1497.73)\" x=\"1462.41\" y=\"1497.73\">2</text>\n",
       "</g>\n",
       "<g clip-path=\"url(#clip0200)\">\n",
       "<text style=\"fill:#000000; fill-opacity:1; font-family:Arial,Helvetica Neue,Helvetica,sans-serif; font-size:48px; text-anchor:middle;\" transform=\"rotate(0, 2055.18, 1497.73)\" x=\"2055.18\" y=\"1497.73\">3</text>\n",
       "</g>\n",
       "<g clip-path=\"url(#clip0200)\">\n",
       "<text style=\"fill:#000000; fill-opacity:1; font-family:Arial,Helvetica Neue,Helvetica,sans-serif; font-size:48px; text-anchor:end;\" transform=\"rotate(0, 192.408, 1421.7)\" x=\"192.408\" y=\"1421.7\">0.0</text>\n",
       "</g>\n",
       "<g clip-path=\"url(#clip0200)\">\n",
       "<text style=\"fill:#000000; fill-opacity:1; font-family:Arial,Helvetica Neue,Helvetica,sans-serif; font-size:48px; text-anchor:end;\" transform=\"rotate(0, 192.408, 1092.34)\" x=\"192.408\" y=\"1092.34\">2.5</text>\n",
       "</g>\n",
       "<g clip-path=\"url(#clip0200)\">\n",
       "<text style=\"fill:#000000; fill-opacity:1; font-family:Arial,Helvetica Neue,Helvetica,sans-serif; font-size:48px; text-anchor:end;\" transform=\"rotate(0, 192.408, 762.985)\" x=\"192.408\" y=\"762.985\">5.0</text>\n",
       "</g>\n",
       "<g clip-path=\"url(#clip0200)\">\n",
       "<text style=\"fill:#000000; fill-opacity:1; font-family:Arial,Helvetica Neue,Helvetica,sans-serif; font-size:48px; text-anchor:end;\" transform=\"rotate(0, 192.408, 433.626)\" x=\"192.408\" y=\"433.626\">7.5</text>\n",
       "</g>\n",
       "<g clip-path=\"url(#clip0200)\">\n",
       "<text style=\"fill:#000000; fill-opacity:1; font-family:Arial,Helvetica Neue,Helvetica,sans-serif; font-size:48px; text-anchor:end;\" transform=\"rotate(0, 192.408, 104.267)\" x=\"192.408\" y=\"104.267\">10.0</text>\n",
       "</g>\n",
       "<g clip-path=\"url(#clip0200)\">\n",
       "<image width=\"21\" height=\"42\" xlink:href=\"data:image/png;base64,\n",
       "iVBORw0KGgoAAAANSUhEUgAAABUAAAAqCAYAAABcOxDuAAABl0lEQVRIia3W4c3CIBAG4FcnII7g\n",
       "CDdD3YAZOgJxBEZghsYJiCN0BOwIxA3u+4X5sNAeVBJ+0F7fwJMzcmJmtIzX68WPxwNEhNvtdioW\n",
       "MbN4eu8ZwGdO08SlunPLLu/3e7ZelqVcKN1ljDHbJQD23hd3Kg6dpmkVWqsVH//5fGZrIqrWdocO\n",
       "w1Av/rWn2LTFU2za4gkITZs8gf3jt3qKTFs9mRnw3rNSavVh7/Te83lZFrzfbwmtaFwul+3jhxCa\n",
       "PXdNezx3+7S1P9NoCt3tzzR+2Z+7pr2em6a9nsCGabcnUD7+Ec+q6RHPqukRT6BiesgTWB//qGfR\n",
       "9Khn0fSoJ1Awnec5Wzd7AviJZ4yRtdY8zzOvTL+vigA4xrgbaoxhABxCWIdaa7NAIhLt8rs2M+3x\n",
       "THdWa23Z9Hq9im7Kaab/MK11VrcZmuBrU2udWRZDU5EkNPk751Y12cI5J2qnVDeOY/H96gERfUKN\n",
       "MdlHqR+3AouhIQT+HzyOIxtj+D+NtXbTuvrCOcfDMLBSipVSTERsjBH9GP4A/KauBMnGQOkAAAAA\n",
       "SUVORK5CYII=\n",
       "\" transform=\"translate(1274, 1520)\"/>\n",
       "</g>\n",
       "<g clip-path=\"url(#clip0200)\">\n",
       "<image width=\"30\" height=\"34\" xlink:href=\"data:image/png;base64,\n",
       "iVBORw0KGgoAAAANSUhEUgAAAB4AAAAiCAYAAABIiGl0AAACNklEQVRYhb1X263qMBAcpFuAacF0\n",
       "4BpMB67BJaQGl2BRQkoIlGBRQZQSHDqY+8FZnwRCCI8cS/OzwR6v9zHLhiRk9X3PnDN2u90Gay+S\n",
       "yDnTWksABd57ksRaAEkYY0ak75LnnBf/Hk3TTJIKXiEWB6y1bJpmdi+ccwTAGOMkcdu2i8lTSpTz\n",
       "5AKP9kNrTeccSWK4CQC11m/HOYRApRQBsKqqu3MAgCGE8qGuazrn6L1/ydtH8N4TQHGuECulVs/g\n",
       "uq7vyGGtpTFmVeIhubxuyeq6rlcnl16Rc74aJKlSSquSt21bvC5GqcGqqvhKI3jHa2vt2DgsJ+/9\n",
       "Ki9QVdW1zG4/hBBGtayUonOOMcavlFdVVdezh0apuTl8ehFjDI0xvwat9VPSRxex1jKE8DQ04q33\n",
       "nhuS2O/3PJ1OHwrs77LWQmsNrTWUUui6DofDAZfLBQDQti3+HY/HQmqtLZsAIKWE8/mMruvQdd1i\n",
       "4jknvPfXQWOoTs/ik1JiCOFuaFiKUcuUGL2ToUsvopQaCRH5o05TsvXNi0zKotZ6FXXKOTPGSKkW\n",
       "Y8yo/P5EnWS6UUqVdlyMz2akTyECIfkEklBK/YkmiwTHGK8GEelvJdkc7lqmtLO1ySdFQoxzY+lS\n",
       "pJQoiTt0pqjf7YbhfP3JpCmjrUByyDl3LbGpTTlnDiXSGPNS1ksG32KoTk+fy3vPd7J+roWmlNZL\n",
       "ottJZhg+8qeO10KMkcNYD1vz5udZVl1933O73Y7+7P8H/1BcKs3UkbcAAAAASUVORK5CYII=\n",
       "\" transform=\"translate(43, 728)\"/>\n",
       "</g>\n",
       "<polyline clip-path=\"url(#clip0202)\" style=\"stroke:#e34a33; stroke-width:24; stroke-opacity:1; fill:none\" points=\"\n",
       "  276.871,1404.2 336.148,1213.28 395.425,1034.99 454.702,883.694 513.98,745.545 573.257,620.542 632.534,508.682 691.811,409.964 751.088,324.386 810.365,251.946 \n",
       "  869.642,192.643 928.919,146.475 988.197,113.441 1047.47,93.5392 1106.75,86.7676 1166.03,86.7674 1225.31,86.7674 1284.58,86.7674 1343.86,86.7674 1403.14,86.7674 \n",
       "  1462.41,86.7674 1521.69,86.7674 1580.97,86.7674 1640.24,86.7674 1699.52,86.7674 1758.8,86.7674 1818.08,86.7674 1877.35,86.7674 1936.63,86.7674 1995.91,86.7674 \n",
       "  2055.18,86.7674 2114.46,86.7674 2173.74,86.7674 2233.02,86.7674 2292.29,86.7674 \n",
       "  \"/>\n",
       "<circle clip-path=\"url(#clip0202)\" style=\"fill:#000000; stroke:none; fill-opacity:1\" cx=\"276.871\" cy=\"1404.2\" r=\"25\"/>\n",
       "<circle clip-path=\"url(#clip0202)\" style=\"fill:#e34a33; stroke:none; fill-opacity:1\" cx=\"276.871\" cy=\"1404.2\" r=\"21\"/>\n",
       "<circle clip-path=\"url(#clip0202)\" style=\"fill:#000000; stroke:none; fill-opacity:1\" cx=\"336.148\" cy=\"1213.28\" r=\"25\"/>\n",
       "<circle clip-path=\"url(#clip0202)\" style=\"fill:#e34a33; stroke:none; fill-opacity:1\" cx=\"336.148\" cy=\"1213.28\" r=\"21\"/>\n",
       "<circle clip-path=\"url(#clip0202)\" style=\"fill:#000000; stroke:none; fill-opacity:1\" cx=\"395.425\" cy=\"1034.99\" r=\"25\"/>\n",
       "<circle clip-path=\"url(#clip0202)\" style=\"fill:#e34a33; stroke:none; fill-opacity:1\" cx=\"395.425\" cy=\"1034.99\" r=\"21\"/>\n",
       "<circle clip-path=\"url(#clip0202)\" style=\"fill:#000000; stroke:none; fill-opacity:1\" cx=\"454.702\" cy=\"883.694\" r=\"25\"/>\n",
       "<circle clip-path=\"url(#clip0202)\" style=\"fill:#e34a33; stroke:none; fill-opacity:1\" cx=\"454.702\" cy=\"883.694\" r=\"21\"/>\n",
       "<circle clip-path=\"url(#clip0202)\" style=\"fill:#000000; stroke:none; fill-opacity:1\" cx=\"513.98\" cy=\"745.545\" r=\"25\"/>\n",
       "<circle clip-path=\"url(#clip0202)\" style=\"fill:#e34a33; stroke:none; fill-opacity:1\" cx=\"513.98\" cy=\"745.545\" r=\"21\"/>\n",
       "<circle clip-path=\"url(#clip0202)\" style=\"fill:#000000; stroke:none; fill-opacity:1\" cx=\"573.257\" cy=\"620.542\" r=\"25\"/>\n",
       "<circle clip-path=\"url(#clip0202)\" style=\"fill:#e34a33; stroke:none; fill-opacity:1\" cx=\"573.257\" cy=\"620.542\" r=\"21\"/>\n",
       "<circle clip-path=\"url(#clip0202)\" style=\"fill:#000000; stroke:none; fill-opacity:1\" cx=\"632.534\" cy=\"508.682\" r=\"25\"/>\n",
       "<circle clip-path=\"url(#clip0202)\" style=\"fill:#e34a33; stroke:none; fill-opacity:1\" cx=\"632.534\" cy=\"508.682\" r=\"21\"/>\n",
       "<circle clip-path=\"url(#clip0202)\" style=\"fill:#000000; stroke:none; fill-opacity:1\" cx=\"691.811\" cy=\"409.964\" r=\"25\"/>\n",
       "<circle clip-path=\"url(#clip0202)\" style=\"fill:#e34a33; stroke:none; fill-opacity:1\" cx=\"691.811\" cy=\"409.964\" r=\"21\"/>\n",
       "<circle clip-path=\"url(#clip0202)\" style=\"fill:#000000; stroke:none; fill-opacity:1\" cx=\"751.088\" cy=\"324.386\" r=\"25\"/>\n",
       "<circle clip-path=\"url(#clip0202)\" style=\"fill:#e34a33; stroke:none; fill-opacity:1\" cx=\"751.088\" cy=\"324.386\" r=\"21\"/>\n",
       "<circle clip-path=\"url(#clip0202)\" style=\"fill:#000000; stroke:none; fill-opacity:1\" cx=\"810.365\" cy=\"251.946\" r=\"25\"/>\n",
       "<circle clip-path=\"url(#clip0202)\" style=\"fill:#e34a33; stroke:none; fill-opacity:1\" cx=\"810.365\" cy=\"251.946\" r=\"21\"/>\n",
       "<circle clip-path=\"url(#clip0202)\" style=\"fill:#000000; stroke:none; fill-opacity:1\" cx=\"869.642\" cy=\"192.643\" r=\"25\"/>\n",
       "<circle clip-path=\"url(#clip0202)\" style=\"fill:#e34a33; stroke:none; fill-opacity:1\" cx=\"869.642\" cy=\"192.643\" r=\"21\"/>\n",
       "<circle clip-path=\"url(#clip0202)\" style=\"fill:#000000; stroke:none; fill-opacity:1\" cx=\"928.919\" cy=\"146.475\" r=\"25\"/>\n",
       "<circle clip-path=\"url(#clip0202)\" style=\"fill:#e34a33; stroke:none; fill-opacity:1\" cx=\"928.919\" cy=\"146.475\" r=\"21\"/>\n",
       "<circle clip-path=\"url(#clip0202)\" style=\"fill:#000000; stroke:none; fill-opacity:1\" cx=\"988.197\" cy=\"113.441\" r=\"25\"/>\n",
       "<circle clip-path=\"url(#clip0202)\" style=\"fill:#e34a33; stroke:none; fill-opacity:1\" cx=\"988.197\" cy=\"113.441\" r=\"21\"/>\n",
       "<circle clip-path=\"url(#clip0202)\" style=\"fill:#000000; stroke:none; fill-opacity:1\" cx=\"1047.47\" cy=\"93.5392\" r=\"25\"/>\n",
       "<circle clip-path=\"url(#clip0202)\" style=\"fill:#e34a33; stroke:none; fill-opacity:1\" cx=\"1047.47\" cy=\"93.5392\" r=\"21\"/>\n",
       "<circle clip-path=\"url(#clip0202)\" style=\"fill:#000000; stroke:none; fill-opacity:1\" cx=\"1106.75\" cy=\"86.7676\" r=\"25\"/>\n",
       "<circle clip-path=\"url(#clip0202)\" style=\"fill:#e34a33; stroke:none; fill-opacity:1\" cx=\"1106.75\" cy=\"86.7676\" r=\"21\"/>\n",
       "<circle clip-path=\"url(#clip0202)\" style=\"fill:#000000; stroke:none; fill-opacity:1\" cx=\"1166.03\" cy=\"86.7674\" r=\"25\"/>\n",
       "<circle clip-path=\"url(#clip0202)\" style=\"fill:#e34a33; stroke:none; fill-opacity:1\" cx=\"1166.03\" cy=\"86.7674\" r=\"21\"/>\n",
       "<circle clip-path=\"url(#clip0202)\" style=\"fill:#000000; stroke:none; fill-opacity:1\" cx=\"1225.31\" cy=\"86.7674\" r=\"25\"/>\n",
       "<circle clip-path=\"url(#clip0202)\" style=\"fill:#e34a33; stroke:none; fill-opacity:1\" cx=\"1225.31\" cy=\"86.7674\" r=\"21\"/>\n",
       "<circle clip-path=\"url(#clip0202)\" style=\"fill:#000000; stroke:none; fill-opacity:1\" cx=\"1284.58\" cy=\"86.7674\" r=\"25\"/>\n",
       "<circle clip-path=\"url(#clip0202)\" style=\"fill:#e34a33; stroke:none; fill-opacity:1\" cx=\"1284.58\" cy=\"86.7674\" r=\"21\"/>\n",
       "<circle clip-path=\"url(#clip0202)\" style=\"fill:#000000; stroke:none; fill-opacity:1\" cx=\"1343.86\" cy=\"86.7674\" r=\"25\"/>\n",
       "<circle clip-path=\"url(#clip0202)\" style=\"fill:#e34a33; stroke:none; fill-opacity:1\" cx=\"1343.86\" cy=\"86.7674\" r=\"21\"/>\n",
       "<circle clip-path=\"url(#clip0202)\" style=\"fill:#000000; stroke:none; fill-opacity:1\" cx=\"1403.14\" cy=\"86.7674\" r=\"25\"/>\n",
       "<circle clip-path=\"url(#clip0202)\" style=\"fill:#e34a33; stroke:none; fill-opacity:1\" cx=\"1403.14\" cy=\"86.7674\" r=\"21\"/>\n",
       "<circle clip-path=\"url(#clip0202)\" style=\"fill:#000000; stroke:none; fill-opacity:1\" cx=\"1462.41\" cy=\"86.7674\" r=\"25\"/>\n",
       "<circle clip-path=\"url(#clip0202)\" style=\"fill:#e34a33; stroke:none; fill-opacity:1\" cx=\"1462.41\" cy=\"86.7674\" r=\"21\"/>\n",
       "<circle clip-path=\"url(#clip0202)\" style=\"fill:#000000; stroke:none; fill-opacity:1\" cx=\"1521.69\" cy=\"86.7674\" r=\"25\"/>\n",
       "<circle clip-path=\"url(#clip0202)\" style=\"fill:#e34a33; stroke:none; fill-opacity:1\" cx=\"1521.69\" cy=\"86.7674\" r=\"21\"/>\n",
       "<circle clip-path=\"url(#clip0202)\" style=\"fill:#000000; stroke:none; fill-opacity:1\" cx=\"1580.97\" cy=\"86.7674\" r=\"25\"/>\n",
       "<circle clip-path=\"url(#clip0202)\" style=\"fill:#e34a33; stroke:none; fill-opacity:1\" cx=\"1580.97\" cy=\"86.7674\" r=\"21\"/>\n",
       "<circle clip-path=\"url(#clip0202)\" style=\"fill:#000000; stroke:none; fill-opacity:1\" cx=\"1640.24\" cy=\"86.7674\" r=\"25\"/>\n",
       "<circle clip-path=\"url(#clip0202)\" style=\"fill:#e34a33; stroke:none; fill-opacity:1\" cx=\"1640.24\" cy=\"86.7674\" r=\"21\"/>\n",
       "<circle clip-path=\"url(#clip0202)\" style=\"fill:#000000; stroke:none; fill-opacity:1\" cx=\"1699.52\" cy=\"86.7674\" r=\"25\"/>\n",
       "<circle clip-path=\"url(#clip0202)\" style=\"fill:#e34a33; stroke:none; fill-opacity:1\" cx=\"1699.52\" cy=\"86.7674\" r=\"21\"/>\n",
       "<circle clip-path=\"url(#clip0202)\" style=\"fill:#000000; stroke:none; fill-opacity:1\" cx=\"1758.8\" cy=\"86.7674\" r=\"25\"/>\n",
       "<circle clip-path=\"url(#clip0202)\" style=\"fill:#e34a33; stroke:none; fill-opacity:1\" cx=\"1758.8\" cy=\"86.7674\" r=\"21\"/>\n",
       "<circle clip-path=\"url(#clip0202)\" style=\"fill:#000000; stroke:none; fill-opacity:1\" cx=\"1818.08\" cy=\"86.7674\" r=\"25\"/>\n",
       "<circle clip-path=\"url(#clip0202)\" style=\"fill:#e34a33; stroke:none; fill-opacity:1\" cx=\"1818.08\" cy=\"86.7674\" r=\"21\"/>\n",
       "<circle clip-path=\"url(#clip0202)\" style=\"fill:#000000; stroke:none; fill-opacity:1\" cx=\"1877.35\" cy=\"86.7674\" r=\"25\"/>\n",
       "<circle clip-path=\"url(#clip0202)\" style=\"fill:#e34a33; stroke:none; fill-opacity:1\" cx=\"1877.35\" cy=\"86.7674\" r=\"21\"/>\n",
       "<circle clip-path=\"url(#clip0202)\" style=\"fill:#000000; stroke:none; fill-opacity:1\" cx=\"1936.63\" cy=\"86.7674\" r=\"25\"/>\n",
       "<circle clip-path=\"url(#clip0202)\" style=\"fill:#e34a33; stroke:none; fill-opacity:1\" cx=\"1936.63\" cy=\"86.7674\" r=\"21\"/>\n",
       "<circle clip-path=\"url(#clip0202)\" style=\"fill:#000000; stroke:none; fill-opacity:1\" cx=\"1995.91\" cy=\"86.7674\" r=\"25\"/>\n",
       "<circle clip-path=\"url(#clip0202)\" style=\"fill:#e34a33; stroke:none; fill-opacity:1\" cx=\"1995.91\" cy=\"86.7674\" r=\"21\"/>\n",
       "<circle clip-path=\"url(#clip0202)\" style=\"fill:#000000; stroke:none; fill-opacity:1\" cx=\"2055.18\" cy=\"86.7674\" r=\"25\"/>\n",
       "<circle clip-path=\"url(#clip0202)\" style=\"fill:#e34a33; stroke:none; fill-opacity:1\" cx=\"2055.18\" cy=\"86.7674\" r=\"21\"/>\n",
       "<circle clip-path=\"url(#clip0202)\" style=\"fill:#000000; stroke:none; fill-opacity:1\" cx=\"2114.46\" cy=\"86.7674\" r=\"25\"/>\n",
       "<circle clip-path=\"url(#clip0202)\" style=\"fill:#e34a33; stroke:none; fill-opacity:1\" cx=\"2114.46\" cy=\"86.7674\" r=\"21\"/>\n",
       "<circle clip-path=\"url(#clip0202)\" style=\"fill:#000000; stroke:none; fill-opacity:1\" cx=\"2173.74\" cy=\"86.7674\" r=\"25\"/>\n",
       "<circle clip-path=\"url(#clip0202)\" style=\"fill:#e34a33; stroke:none; fill-opacity:1\" cx=\"2173.74\" cy=\"86.7674\" r=\"21\"/>\n",
       "<circle clip-path=\"url(#clip0202)\" style=\"fill:#000000; stroke:none; fill-opacity:1\" cx=\"2233.02\" cy=\"86.7674\" r=\"25\"/>\n",
       "<circle clip-path=\"url(#clip0202)\" style=\"fill:#e34a33; stroke:none; fill-opacity:1\" cx=\"2233.02\" cy=\"86.7674\" r=\"21\"/>\n",
       "<circle clip-path=\"url(#clip0202)\" style=\"fill:#000000; stroke:none; fill-opacity:1\" cx=\"2292.29\" cy=\"86.7674\" r=\"25\"/>\n",
       "<circle clip-path=\"url(#clip0202)\" style=\"fill:#e34a33; stroke:none; fill-opacity:1\" cx=\"2292.29\" cy=\"86.7674\" r=\"21\"/>\n",
       "<polyline clip-path=\"url(#clip0202)\" style=\"stroke:#fee8c8; stroke-width:4; stroke-opacity:1; fill:none\" points=\"\n",
       "  276.871,1404.2 336.148,1219.56 395.425,1046.89 454.702,898.722 513.98,763.016 573.257,639.747 632.534,528.896 691.811,430.444 751.088,344.369 810.365,270.654 \n",
       "  869.642,209.278 928.919,160.221 988.197,123.464 1047.47,98.9878 1106.75,86.7724 1166.03,86.7672 1225.31,86.7674 1284.58,86.7674 1343.86,86.7674 1403.14,86.7674 \n",
       "  1462.41,86.7674 1521.69,86.7674 1580.97,86.7674 1640.24,86.7674 1699.52,86.7674 1758.8,86.7674 1818.08,86.7674 1877.35,86.7674 1936.63,86.7674 1995.91,86.7674 \n",
       "  2055.18,86.7674 2114.46,86.7674 2173.74,86.7674 2233.02,86.7674 2292.29,86.7674 \n",
       "  \"/>\n",
       "<circle clip-path=\"url(#clip0202)\" style=\"fill:#000000; stroke:none; fill-opacity:1\" cx=\"276.871\" cy=\"1404.2\" r=\"25\"/>\n",
       "<circle clip-path=\"url(#clip0202)\" style=\"fill:#fee8c8; stroke:none; fill-opacity:1\" cx=\"276.871\" cy=\"1404.2\" r=\"21\"/>\n",
       "<circle clip-path=\"url(#clip0202)\" style=\"fill:#000000; stroke:none; fill-opacity:1\" cx=\"336.148\" cy=\"1219.56\" r=\"25\"/>\n",
       "<circle clip-path=\"url(#clip0202)\" style=\"fill:#fee8c8; stroke:none; fill-opacity:1\" cx=\"336.148\" cy=\"1219.56\" r=\"21\"/>\n",
       "<circle clip-path=\"url(#clip0202)\" style=\"fill:#000000; stroke:none; fill-opacity:1\" cx=\"395.425\" cy=\"1046.89\" r=\"25\"/>\n",
       "<circle clip-path=\"url(#clip0202)\" style=\"fill:#fee8c8; stroke:none; fill-opacity:1\" cx=\"395.425\" cy=\"1046.89\" r=\"21\"/>\n",
       "<circle clip-path=\"url(#clip0202)\" style=\"fill:#000000; stroke:none; fill-opacity:1\" cx=\"454.702\" cy=\"898.722\" r=\"25\"/>\n",
       "<circle clip-path=\"url(#clip0202)\" style=\"fill:#fee8c8; stroke:none; fill-opacity:1\" cx=\"454.702\" cy=\"898.722\" r=\"21\"/>\n",
       "<circle clip-path=\"url(#clip0202)\" style=\"fill:#000000; stroke:none; fill-opacity:1\" cx=\"513.98\" cy=\"763.016\" r=\"25\"/>\n",
       "<circle clip-path=\"url(#clip0202)\" style=\"fill:#fee8c8; stroke:none; fill-opacity:1\" cx=\"513.98\" cy=\"763.016\" r=\"21\"/>\n",
       "<circle clip-path=\"url(#clip0202)\" style=\"fill:#000000; stroke:none; fill-opacity:1\" cx=\"573.257\" cy=\"639.747\" r=\"25\"/>\n",
       "<circle clip-path=\"url(#clip0202)\" style=\"fill:#fee8c8; stroke:none; fill-opacity:1\" cx=\"573.257\" cy=\"639.747\" r=\"21\"/>\n",
       "<circle clip-path=\"url(#clip0202)\" style=\"fill:#000000; stroke:none; fill-opacity:1\" cx=\"632.534\" cy=\"528.896\" r=\"25\"/>\n",
       "<circle clip-path=\"url(#clip0202)\" style=\"fill:#fee8c8; stroke:none; fill-opacity:1\" cx=\"632.534\" cy=\"528.896\" r=\"21\"/>\n",
       "<circle clip-path=\"url(#clip0202)\" style=\"fill:#000000; stroke:none; fill-opacity:1\" cx=\"691.811\" cy=\"430.444\" r=\"25\"/>\n",
       "<circle clip-path=\"url(#clip0202)\" style=\"fill:#fee8c8; stroke:none; fill-opacity:1\" cx=\"691.811\" cy=\"430.444\" r=\"21\"/>\n",
       "<circle clip-path=\"url(#clip0202)\" style=\"fill:#000000; stroke:none; fill-opacity:1\" cx=\"751.088\" cy=\"344.369\" r=\"25\"/>\n",
       "<circle clip-path=\"url(#clip0202)\" style=\"fill:#fee8c8; stroke:none; fill-opacity:1\" cx=\"751.088\" cy=\"344.369\" r=\"21\"/>\n",
       "<circle clip-path=\"url(#clip0202)\" style=\"fill:#000000; stroke:none; fill-opacity:1\" cx=\"810.365\" cy=\"270.654\" r=\"25\"/>\n",
       "<circle clip-path=\"url(#clip0202)\" style=\"fill:#fee8c8; stroke:none; fill-opacity:1\" cx=\"810.365\" cy=\"270.654\" r=\"21\"/>\n",
       "<circle clip-path=\"url(#clip0202)\" style=\"fill:#000000; stroke:none; fill-opacity:1\" cx=\"869.642\" cy=\"209.278\" r=\"25\"/>\n",
       "<circle clip-path=\"url(#clip0202)\" style=\"fill:#fee8c8; stroke:none; fill-opacity:1\" cx=\"869.642\" cy=\"209.278\" r=\"21\"/>\n",
       "<circle clip-path=\"url(#clip0202)\" style=\"fill:#000000; stroke:none; fill-opacity:1\" cx=\"928.919\" cy=\"160.221\" r=\"25\"/>\n",
       "<circle clip-path=\"url(#clip0202)\" style=\"fill:#fee8c8; stroke:none; fill-opacity:1\" cx=\"928.919\" cy=\"160.221\" r=\"21\"/>\n",
       "<circle clip-path=\"url(#clip0202)\" style=\"fill:#000000; stroke:none; fill-opacity:1\" cx=\"988.197\" cy=\"123.464\" r=\"25\"/>\n",
       "<circle clip-path=\"url(#clip0202)\" style=\"fill:#fee8c8; stroke:none; fill-opacity:1\" cx=\"988.197\" cy=\"123.464\" r=\"21\"/>\n",
       "<circle clip-path=\"url(#clip0202)\" style=\"fill:#000000; stroke:none; fill-opacity:1\" cx=\"1047.47\" cy=\"98.9878\" r=\"25\"/>\n",
       "<circle clip-path=\"url(#clip0202)\" style=\"fill:#fee8c8; stroke:none; fill-opacity:1\" cx=\"1047.47\" cy=\"98.9878\" r=\"21\"/>\n",
       "<circle clip-path=\"url(#clip0202)\" style=\"fill:#000000; stroke:none; fill-opacity:1\" cx=\"1106.75\" cy=\"86.7724\" r=\"25\"/>\n",
       "<circle clip-path=\"url(#clip0202)\" style=\"fill:#fee8c8; stroke:none; fill-opacity:1\" cx=\"1106.75\" cy=\"86.7724\" r=\"21\"/>\n",
       "<circle clip-path=\"url(#clip0202)\" style=\"fill:#000000; stroke:none; fill-opacity:1\" cx=\"1166.03\" cy=\"86.7672\" r=\"25\"/>\n",
       "<circle clip-path=\"url(#clip0202)\" style=\"fill:#fee8c8; stroke:none; fill-opacity:1\" cx=\"1166.03\" cy=\"86.7672\" r=\"21\"/>\n",
       "<circle clip-path=\"url(#clip0202)\" style=\"fill:#000000; stroke:none; fill-opacity:1\" cx=\"1225.31\" cy=\"86.7674\" r=\"25\"/>\n",
       "<circle clip-path=\"url(#clip0202)\" style=\"fill:#fee8c8; stroke:none; fill-opacity:1\" cx=\"1225.31\" cy=\"86.7674\" r=\"21\"/>\n",
       "<circle clip-path=\"url(#clip0202)\" style=\"fill:#000000; stroke:none; fill-opacity:1\" cx=\"1284.58\" cy=\"86.7674\" r=\"25\"/>\n",
       "<circle clip-path=\"url(#clip0202)\" style=\"fill:#fee8c8; stroke:none; fill-opacity:1\" cx=\"1284.58\" cy=\"86.7674\" r=\"21\"/>\n",
       "<circle clip-path=\"url(#clip0202)\" style=\"fill:#000000; stroke:none; fill-opacity:1\" cx=\"1343.86\" cy=\"86.7674\" r=\"25\"/>\n",
       "<circle clip-path=\"url(#clip0202)\" style=\"fill:#fee8c8; stroke:none; fill-opacity:1\" cx=\"1343.86\" cy=\"86.7674\" r=\"21\"/>\n",
       "<circle clip-path=\"url(#clip0202)\" style=\"fill:#000000; stroke:none; fill-opacity:1\" cx=\"1403.14\" cy=\"86.7674\" r=\"25\"/>\n",
       "<circle clip-path=\"url(#clip0202)\" style=\"fill:#fee8c8; stroke:none; fill-opacity:1\" cx=\"1403.14\" cy=\"86.7674\" r=\"21\"/>\n",
       "<circle clip-path=\"url(#clip0202)\" style=\"fill:#000000; stroke:none; fill-opacity:1\" cx=\"1462.41\" cy=\"86.7674\" r=\"25\"/>\n",
       "<circle clip-path=\"url(#clip0202)\" style=\"fill:#fee8c8; stroke:none; fill-opacity:1\" cx=\"1462.41\" cy=\"86.7674\" r=\"21\"/>\n",
       "<circle clip-path=\"url(#clip0202)\" style=\"fill:#000000; stroke:none; fill-opacity:1\" cx=\"1521.69\" cy=\"86.7674\" r=\"25\"/>\n",
       "<circle clip-path=\"url(#clip0202)\" style=\"fill:#fee8c8; stroke:none; fill-opacity:1\" cx=\"1521.69\" cy=\"86.7674\" r=\"21\"/>\n",
       "<circle clip-path=\"url(#clip0202)\" style=\"fill:#000000; stroke:none; fill-opacity:1\" cx=\"1580.97\" cy=\"86.7674\" r=\"25\"/>\n",
       "<circle clip-path=\"url(#clip0202)\" style=\"fill:#fee8c8; stroke:none; fill-opacity:1\" cx=\"1580.97\" cy=\"86.7674\" r=\"21\"/>\n",
       "<circle clip-path=\"url(#clip0202)\" style=\"fill:#000000; stroke:none; fill-opacity:1\" cx=\"1640.24\" cy=\"86.7674\" r=\"25\"/>\n",
       "<circle clip-path=\"url(#clip0202)\" style=\"fill:#fee8c8; stroke:none; fill-opacity:1\" cx=\"1640.24\" cy=\"86.7674\" r=\"21\"/>\n",
       "<circle clip-path=\"url(#clip0202)\" style=\"fill:#000000; stroke:none; fill-opacity:1\" cx=\"1699.52\" cy=\"86.7674\" r=\"25\"/>\n",
       "<circle clip-path=\"url(#clip0202)\" style=\"fill:#fee8c8; stroke:none; fill-opacity:1\" cx=\"1699.52\" cy=\"86.7674\" r=\"21\"/>\n",
       "<circle clip-path=\"url(#clip0202)\" style=\"fill:#000000; stroke:none; fill-opacity:1\" cx=\"1758.8\" cy=\"86.7674\" r=\"25\"/>\n",
       "<circle clip-path=\"url(#clip0202)\" style=\"fill:#fee8c8; stroke:none; fill-opacity:1\" cx=\"1758.8\" cy=\"86.7674\" r=\"21\"/>\n",
       "<circle clip-path=\"url(#clip0202)\" style=\"fill:#000000; stroke:none; fill-opacity:1\" cx=\"1818.08\" cy=\"86.7674\" r=\"25\"/>\n",
       "<circle clip-path=\"url(#clip0202)\" style=\"fill:#fee8c8; stroke:none; fill-opacity:1\" cx=\"1818.08\" cy=\"86.7674\" r=\"21\"/>\n",
       "<circle clip-path=\"url(#clip0202)\" style=\"fill:#000000; stroke:none; fill-opacity:1\" cx=\"1877.35\" cy=\"86.7674\" r=\"25\"/>\n",
       "<circle clip-path=\"url(#clip0202)\" style=\"fill:#fee8c8; stroke:none; fill-opacity:1\" cx=\"1877.35\" cy=\"86.7674\" r=\"21\"/>\n",
       "<circle clip-path=\"url(#clip0202)\" style=\"fill:#000000; stroke:none; fill-opacity:1\" cx=\"1936.63\" cy=\"86.7674\" r=\"25\"/>\n",
       "<circle clip-path=\"url(#clip0202)\" style=\"fill:#fee8c8; stroke:none; fill-opacity:1\" cx=\"1936.63\" cy=\"86.7674\" r=\"21\"/>\n",
       "<circle clip-path=\"url(#clip0202)\" style=\"fill:#000000; stroke:none; fill-opacity:1\" cx=\"1995.91\" cy=\"86.7674\" r=\"25\"/>\n",
       "<circle clip-path=\"url(#clip0202)\" style=\"fill:#fee8c8; stroke:none; fill-opacity:1\" cx=\"1995.91\" cy=\"86.7674\" r=\"21\"/>\n",
       "<circle clip-path=\"url(#clip0202)\" style=\"fill:#000000; stroke:none; fill-opacity:1\" cx=\"2055.18\" cy=\"86.7674\" r=\"25\"/>\n",
       "<circle clip-path=\"url(#clip0202)\" style=\"fill:#fee8c8; stroke:none; fill-opacity:1\" cx=\"2055.18\" cy=\"86.7674\" r=\"21\"/>\n",
       "<circle clip-path=\"url(#clip0202)\" style=\"fill:#000000; stroke:none; fill-opacity:1\" cx=\"2114.46\" cy=\"86.7674\" r=\"25\"/>\n",
       "<circle clip-path=\"url(#clip0202)\" style=\"fill:#fee8c8; stroke:none; fill-opacity:1\" cx=\"2114.46\" cy=\"86.7674\" r=\"21\"/>\n",
       "<circle clip-path=\"url(#clip0202)\" style=\"fill:#000000; stroke:none; fill-opacity:1\" cx=\"2173.74\" cy=\"86.7674\" r=\"25\"/>\n",
       "<circle clip-path=\"url(#clip0202)\" style=\"fill:#fee8c8; stroke:none; fill-opacity:1\" cx=\"2173.74\" cy=\"86.7674\" r=\"21\"/>\n",
       "<circle clip-path=\"url(#clip0202)\" style=\"fill:#000000; stroke:none; fill-opacity:1\" cx=\"2233.02\" cy=\"86.7674\" r=\"25\"/>\n",
       "<circle clip-path=\"url(#clip0202)\" style=\"fill:#fee8c8; stroke:none; fill-opacity:1\" cx=\"2233.02\" cy=\"86.7674\" r=\"21\"/>\n",
       "<circle clip-path=\"url(#clip0202)\" style=\"fill:#000000; stroke:none; fill-opacity:1\" cx=\"2292.29\" cy=\"86.7674\" r=\"25\"/>\n",
       "<circle clip-path=\"url(#clip0202)\" style=\"fill:#fee8c8; stroke:none; fill-opacity:1\" cx=\"2292.29\" cy=\"86.7674\" r=\"21\"/>\n",
       "<polygon clip-path=\"url(#clip0200)\" points=\"\n",
       "1813.42,312.204 2280.76,312.204 2280.76,130.764 1813.42,130.764 \n",
       "  \" fill=\"#ffffff\" fill-rule=\"evenodd\" fill-opacity=\"1\"/>\n",
       "<polyline clip-path=\"url(#clip0200)\" style=\"stroke:#000000; stroke-width:4; stroke-opacity:1; fill:none\" points=\"\n",
       "  1813.42,312.204 2280.76,312.204 2280.76,130.764 1813.42,130.764 1813.42,312.204 \n",
       "  \"/>\n",
       "<polyline clip-path=\"url(#clip0200)\" style=\"stroke:#e34a33; stroke-width:24; stroke-opacity:1; fill:none\" points=\"\n",
       "  1837.42,191.244 1981.42,191.244 \n",
       "  \"/>\n",
       "<circle clip-path=\"url(#clip0200)\" style=\"fill:#000000; stroke:none; fill-opacity:1\" cx=\"1921.42\" cy=\"191.244\" r=\"25\"/>\n",
       "<circle clip-path=\"url(#clip0200)\" style=\"fill:#e34a33; stroke:none; fill-opacity:1\" cx=\"1921.42\" cy=\"191.244\" r=\"21\"/>\n",
       "<g clip-path=\"url(#clip0200)\">\n",
       "<text style=\"fill:#000000; fill-opacity:1; font-family:Arial,Helvetica Neue,Helvetica,sans-serif; font-size:48px; text-anchor:start;\" transform=\"rotate(0, 2005.42, 208.744)\" x=\"2005.42\" y=\"208.744\">Indirect</text>\n",
       "</g>\n",
       "<polyline clip-path=\"url(#clip0200)\" style=\"stroke:#fee8c8; stroke-width:4; stroke-opacity:1; fill:none\" points=\"\n",
       "  1837.42,251.724 1981.42,251.724 \n",
       "  \"/>\n",
       "<circle clip-path=\"url(#clip0200)\" style=\"fill:#000000; stroke:none; fill-opacity:1\" cx=\"1921.42\" cy=\"251.724\" r=\"25\"/>\n",
       "<circle clip-path=\"url(#clip0200)\" style=\"fill:#fee8c8; stroke:none; fill-opacity:1\" cx=\"1921.42\" cy=\"251.724\" r=\"21\"/>\n",
       "<g clip-path=\"url(#clip0200)\">\n",
       "<text style=\"fill:#000000; fill-opacity:1; font-family:Arial,Helvetica Neue,Helvetica,sans-serif; font-size:48px; text-anchor:start;\" transform=\"rotate(0, 2005.42, 269.224)\" x=\"2005.42\" y=\"269.224\">Semidirect</text>\n",
       "</g>\n",
       "</svg>\n"
      ]
     },
     "execution_count": 79,
     "metadata": {},
     "output_type": "execute_result"
    }
   ],
   "source": [
    "j = 1\n",
    "xlabel=latexstring(\"t\")\n",
    "ylabel=latexstring(\"x\")\n",
    "plot(traj_indirect[7],traj_indirect[8][j,:],label=\"Indirect\",seriescolor=RGB(((227,74,51) ./ 255.)...),linewidth=6,marker=6,xlabel=xlabel)\n",
    "plot!(traj_semidirect[7],traj_semidirect[8][j,:],label=\"Semidirect\",seriescolor=RGB(((254,232,200) ./ 255.)...),linewidth=1,marker=6,ylabel=ylabel)"
   ]
  },
  {
   "cell_type": "code",
   "execution_count": 74,
   "metadata": {},
   "outputs": [],
   "source": [
    "savefig(string(\"slidingbox_x_4.svg\")) "
   ]
  },
  {
   "cell_type": "code",
   "execution_count": 80,
   "metadata": {},
   "outputs": [
    {
     "data": {
      "image/svg+xml": [
       "<?xml version=\"1.0\" encoding=\"utf-8\"?>\n",
       "<svg xmlns=\"http://www.w3.org/2000/svg\" xmlns:xlink=\"http://www.w3.org/1999/xlink\" width=\"600\" height=\"400\" viewBox=\"0 0 2400 1600\">\n",
       "<defs>\n",
       "  <clipPath id=\"clip0600\">\n",
       "    <rect x=\"0\" y=\"0\" width=\"2400\" height=\"1600\"/>\n",
       "  </clipPath>\n",
       "</defs>\n",
       "<polygon clip-path=\"url(#clip0600)\" points=\"\n",
       "0,1600 2400,1600 2400,0 0,0 \n",
       "  \" fill=\"#ffffff\" fill-rule=\"evenodd\" fill-opacity=\"1\"/>\n",
       "<defs>\n",
       "  <clipPath id=\"clip0601\">\n",
       "    <rect x=\"480\" y=\"0\" width=\"1681\" height=\"1600\"/>\n",
       "  </clipPath>\n",
       "</defs>\n",
       "<polygon clip-path=\"url(#clip0600)\" points=\"\n",
       "216.408,1443.73 2352.76,1443.73 2352.76,47.2441 216.408,47.2441 \n",
       "  \" fill=\"#ffffff\" fill-rule=\"evenodd\" fill-opacity=\"1\"/>\n",
       "<defs>\n",
       "  <clipPath id=\"clip0602\">\n",
       "    <rect x=\"216\" y=\"47\" width=\"2137\" height=\"1397\"/>\n",
       "  </clipPath>\n",
       "</defs>\n",
       "<polyline clip-path=\"url(#clip0602)\" style=\"stroke:#000000; stroke-width:2; stroke-opacity:0.1; fill:none\" points=\"\n",
       "  276.871,1443.73 276.871,47.2441 \n",
       "  \"/>\n",
       "<polyline clip-path=\"url(#clip0602)\" style=\"stroke:#000000; stroke-width:2; stroke-opacity:0.1; fill:none\" points=\"\n",
       "  869.642,1443.73 869.642,47.2441 \n",
       "  \"/>\n",
       "<polyline clip-path=\"url(#clip0602)\" style=\"stroke:#000000; stroke-width:2; stroke-opacity:0.1; fill:none\" points=\"\n",
       "  1462.41,1443.73 1462.41,47.2441 \n",
       "  \"/>\n",
       "<polyline clip-path=\"url(#clip0602)\" style=\"stroke:#000000; stroke-width:2; stroke-opacity:0.1; fill:none\" points=\"\n",
       "  2055.18,1443.73 2055.18,47.2441 \n",
       "  \"/>\n",
       "<polyline clip-path=\"url(#clip0602)\" style=\"stroke:#000000; stroke-width:2; stroke-opacity:0.1; fill:none\" points=\"\n",
       "  216.408,1404.2 2352.76,1404.2 \n",
       "  \"/>\n",
       "<polyline clip-path=\"url(#clip0602)\" style=\"stroke:#000000; stroke-width:2; stroke-opacity:0.1; fill:none\" points=\"\n",
       "  216.408,1074.84 2352.76,1074.84 \n",
       "  \"/>\n",
       "<polyline clip-path=\"url(#clip0602)\" style=\"stroke:#000000; stroke-width:2; stroke-opacity:0.1; fill:none\" points=\"\n",
       "  216.408,745.485 2352.76,745.485 \n",
       "  \"/>\n",
       "<polyline clip-path=\"url(#clip0602)\" style=\"stroke:#000000; stroke-width:2; stroke-opacity:0.1; fill:none\" points=\"\n",
       "  216.408,416.126 2352.76,416.126 \n",
       "  \"/>\n",
       "<polyline clip-path=\"url(#clip0602)\" style=\"stroke:#000000; stroke-width:2; stroke-opacity:0.1; fill:none\" points=\"\n",
       "  216.408,86.7672 2352.76,86.7672 \n",
       "  \"/>\n",
       "<polyline clip-path=\"url(#clip0600)\" style=\"stroke:#000000; stroke-width:4; stroke-opacity:1; fill:none\" points=\"\n",
       "  216.408,1443.73 2352.76,1443.73 \n",
       "  \"/>\n",
       "<polyline clip-path=\"url(#clip0600)\" style=\"stroke:#000000; stroke-width:4; stroke-opacity:1; fill:none\" points=\"\n",
       "  216.408,1443.73 216.408,47.2441 \n",
       "  \"/>\n",
       "<polyline clip-path=\"url(#clip0600)\" style=\"stroke:#000000; stroke-width:4; stroke-opacity:1; fill:none\" points=\"\n",
       "  276.871,1443.73 276.871,1422.78 \n",
       "  \"/>\n",
       "<polyline clip-path=\"url(#clip0600)\" style=\"stroke:#000000; stroke-width:4; stroke-opacity:1; fill:none\" points=\"\n",
       "  869.642,1443.73 869.642,1422.78 \n",
       "  \"/>\n",
       "<polyline clip-path=\"url(#clip0600)\" style=\"stroke:#000000; stroke-width:4; stroke-opacity:1; fill:none\" points=\"\n",
       "  1462.41,1443.73 1462.41,1422.78 \n",
       "  \"/>\n",
       "<polyline clip-path=\"url(#clip0600)\" style=\"stroke:#000000; stroke-width:4; stroke-opacity:1; fill:none\" points=\"\n",
       "  2055.18,1443.73 2055.18,1422.78 \n",
       "  \"/>\n",
       "<polyline clip-path=\"url(#clip0600)\" style=\"stroke:#000000; stroke-width:4; stroke-opacity:1; fill:none\" points=\"\n",
       "  216.408,1404.2 248.454,1404.2 \n",
       "  \"/>\n",
       "<polyline clip-path=\"url(#clip0600)\" style=\"stroke:#000000; stroke-width:4; stroke-opacity:1; fill:none\" points=\"\n",
       "  216.408,1074.84 248.454,1074.84 \n",
       "  \"/>\n",
       "<polyline clip-path=\"url(#clip0600)\" style=\"stroke:#000000; stroke-width:4; stroke-opacity:1; fill:none\" points=\"\n",
       "  216.408,745.485 248.454,745.485 \n",
       "  \"/>\n",
       "<polyline clip-path=\"url(#clip0600)\" style=\"stroke:#000000; stroke-width:4; stroke-opacity:1; fill:none\" points=\"\n",
       "  216.408,416.126 248.454,416.126 \n",
       "  \"/>\n",
       "<polyline clip-path=\"url(#clip0600)\" style=\"stroke:#000000; stroke-width:4; stroke-opacity:1; fill:none\" points=\"\n",
       "  216.408,86.7672 248.454,86.7672 \n",
       "  \"/>\n",
       "<g clip-path=\"url(#clip0600)\">\n",
       "<text style=\"fill:#000000; fill-opacity:1; font-family:Arial,Helvetica Neue,Helvetica,sans-serif; font-size:48px; text-anchor:middle;\" transform=\"rotate(0, 276.871, 1497.73)\" x=\"276.871\" y=\"1497.73\">0</text>\n",
       "</g>\n",
       "<g clip-path=\"url(#clip0600)\">\n",
       "<text style=\"fill:#000000; fill-opacity:1; font-family:Arial,Helvetica Neue,Helvetica,sans-serif; font-size:48px; text-anchor:middle;\" transform=\"rotate(0, 869.642, 1497.73)\" x=\"869.642\" y=\"1497.73\">1</text>\n",
       "</g>\n",
       "<g clip-path=\"url(#clip0600)\">\n",
       "<text style=\"fill:#000000; fill-opacity:1; font-family:Arial,Helvetica Neue,Helvetica,sans-serif; font-size:48px; text-anchor:middle;\" transform=\"rotate(0, 1462.41, 1497.73)\" x=\"1462.41\" y=\"1497.73\">2</text>\n",
       "</g>\n",
       "<g clip-path=\"url(#clip0600)\">\n",
       "<text style=\"fill:#000000; fill-opacity:1; font-family:Arial,Helvetica Neue,Helvetica,sans-serif; font-size:48px; text-anchor:middle;\" transform=\"rotate(0, 2055.18, 1497.73)\" x=\"2055.18\" y=\"1497.73\">3</text>\n",
       "</g>\n",
       "<g clip-path=\"url(#clip0600)\">\n",
       "<text style=\"fill:#000000; fill-opacity:1; font-family:Arial,Helvetica Neue,Helvetica,sans-serif; font-size:48px; text-anchor:end;\" transform=\"rotate(0, 192.408, 1421.7)\" x=\"192.408\" y=\"1421.7\">0.00</text>\n",
       "</g>\n",
       "<g clip-path=\"url(#clip0600)\">\n",
       "<text style=\"fill:#000000; fill-opacity:1; font-family:Arial,Helvetica Neue,Helvetica,sans-serif; font-size:48px; text-anchor:end;\" transform=\"rotate(0, 192.408, 1092.34)\" x=\"192.408\" y=\"1092.34\">0.05</text>\n",
       "</g>\n",
       "<g clip-path=\"url(#clip0600)\">\n",
       "<text style=\"fill:#000000; fill-opacity:1; font-family:Arial,Helvetica Neue,Helvetica,sans-serif; font-size:48px; text-anchor:end;\" transform=\"rotate(0, 192.408, 762.985)\" x=\"192.408\" y=\"762.985\">0.10</text>\n",
       "</g>\n",
       "<g clip-path=\"url(#clip0600)\">\n",
       "<text style=\"fill:#000000; fill-opacity:1; font-family:Arial,Helvetica Neue,Helvetica,sans-serif; font-size:48px; text-anchor:end;\" transform=\"rotate(0, 192.408, 433.626)\" x=\"192.408\" y=\"433.626\">0.15</text>\n",
       "</g>\n",
       "<g clip-path=\"url(#clip0600)\">\n",
       "<text style=\"fill:#000000; fill-opacity:1; font-family:Arial,Helvetica Neue,Helvetica,sans-serif; font-size:48px; text-anchor:end;\" transform=\"rotate(0, 192.408, 104.267)\" x=\"192.408\" y=\"104.267\">0.20</text>\n",
       "</g>\n",
       "<g clip-path=\"url(#clip0600)\">\n",
       "<image width=\"21\" height=\"42\" xlink:href=\"data:image/png;base64,\n",
       "iVBORw0KGgoAAAANSUhEUgAAABUAAAAqCAYAAABcOxDuAAABl0lEQVRIia3W4c3CIBAG4FcnII7g\n",
       "CDdD3YAZOgJxBEZghsYJiCN0BOwIxA3u+4X5sNAeVBJ+0F7fwJMzcmJmtIzX68WPxwNEhNvtdioW\n",
       "MbN4eu8ZwGdO08SlunPLLu/3e7ZelqVcKN1ljDHbJQD23hd3Kg6dpmkVWqsVH//5fGZrIqrWdocO\n",
       "w1Av/rWn2LTFU2za4gkITZs8gf3jt3qKTFs9mRnw3rNSavVh7/Te83lZFrzfbwmtaFwul+3jhxCa\n",
       "PXdNezx3+7S1P9NoCt3tzzR+2Z+7pr2em6a9nsCGabcnUD7+Ec+q6RHPqukRT6BiesgTWB//qGfR\n",
       "9Khn0fSoJ1Awnec5Wzd7AviJZ4yRtdY8zzOvTL+vigA4xrgbaoxhABxCWIdaa7NAIhLt8rs2M+3x\n",
       "THdWa23Z9Hq9im7Kaab/MK11VrcZmuBrU2udWRZDU5EkNPk751Y12cI5J2qnVDeOY/H96gERfUKN\n",
       "MdlHqR+3AouhIQT+HzyOIxtj+D+NtXbTuvrCOcfDMLBSipVSTERsjBH9GP4A/KauBMnGQOkAAAAA\n",
       "SUVORK5CYII=\n",
       "\" transform=\"translate(1274, 1520)\"/>\n",
       "</g>\n",
       "<g clip-path=\"url(#clip0600)\">\n",
       "<image width=\"30\" height=\"29\" xlink:href=\"data:image/png;base64,\n",
       "iVBORw0KGgoAAAANSUhEUgAAAB4AAAAdCAYAAAC9pNwMAAABu0lEQVRIib2Va43EMAyE5xgEQyEU\n",
       "QyAUQyAUQyEEQyEUQyAEQxbC3I+TI7dJ+sjqupKl3VXjqe3PE4QQSBJvB4wxNMZwXddXXwAhBA7D\n",
       "QACcpukr8ZQSY4y3cuQvzjkC4DAMtw8fY57nnGNZltMcux/LshAAAXS1PqVEKUBeYNu2ap7ij2ma\n",
       "8kHvfVflKSWO45jz1EZYHNq2jQBojCGAy5adhRYfx5EpJTaFY4y51dZaAuA8z92VSwEi3hT23hMA\n",
       "Zb+l9c65LvF1XbOwzrN7KISQH6jNvVdcVw2AMca6qLW2EBDxnrZrYCXHDqgrmmXmT4HTayqz3lWq\n",
       "W3FF6pNVE252IVXopb8iVSz2rrg4moQxphz8Hb+OMeY1ueNwx+KstaXwXXhk3wE0bVHi2OYQwt5d\n",
       "nlKr+Wjd60dw5SWLwddW6Sy0xdag1JeGHgtIQmCR0J76rbjkPrJQwNJrEmKNR/GW41VJ7b2PtXgI\n",
       "gSmlZq7isJ6Jvk3uhmZGRlBzuiatzrniDn1a+RmwjxL2ANfa9X8Tls4JNwV0/ylM/nm7WKZA94qw\n",
       "hL4ovPfviErEGGmtpTGGPyTx9ufz+fAXUqujFxChGt4AAAAASUVORK5CYII=\n",
       "\" transform=\"translate(43, 731)\"/>\n",
       "</g>\n",
       "<polyline clip-path=\"url(#clip0602)\" style=\"stroke:#e34a33; stroke-width:24; stroke-opacity:1; fill:none\" points=\"\n",
       "  276.871,86.7672 336.148,732.826 395.425,1404.2 454.702,1404.2 513.98,1404.2 573.257,1404.2 632.534,1404.2 691.811,1404.2 751.088,1404.2 810.365,1404.2 \n",
       "  869.642,1404.19 928.919,1404.2 988.197,1404.2 1047.47,1404.2 1106.75,1404.2 1166.03,1404.2 1225.31,1404.2 1284.58,1404.2 1343.86,1404.2 1403.14,1404.2 \n",
       "  1462.41,1404.2 1521.69,1404.2 1580.97,1404.2 1640.24,1404.2 1699.52,1404.2 1758.8,1404.2 1818.08,1404.2 1877.35,1404.2 1936.63,1404.2 1995.91,1404.2 \n",
       "  2055.18,1404.2 2114.46,1404.2 2173.74,1404.2 2233.02,1404.2 2292.29,1404.2 \n",
       "  \"/>\n",
       "<circle clip-path=\"url(#clip0602)\" style=\"fill:#000000; stroke:none; fill-opacity:1\" cx=\"276.871\" cy=\"86.7672\" r=\"25\"/>\n",
       "<circle clip-path=\"url(#clip0602)\" style=\"fill:#e34a33; stroke:none; fill-opacity:1\" cx=\"276.871\" cy=\"86.7672\" r=\"21\"/>\n",
       "<circle clip-path=\"url(#clip0602)\" style=\"fill:#000000; stroke:none; fill-opacity:1\" cx=\"336.148\" cy=\"732.826\" r=\"25\"/>\n",
       "<circle clip-path=\"url(#clip0602)\" style=\"fill:#e34a33; stroke:none; fill-opacity:1\" cx=\"336.148\" cy=\"732.826\" r=\"21\"/>\n",
       "<circle clip-path=\"url(#clip0602)\" style=\"fill:#000000; stroke:none; fill-opacity:1\" cx=\"395.425\" cy=\"1404.2\" r=\"25\"/>\n",
       "<circle clip-path=\"url(#clip0602)\" style=\"fill:#e34a33; stroke:none; fill-opacity:1\" cx=\"395.425\" cy=\"1404.2\" r=\"21\"/>\n",
       "<circle clip-path=\"url(#clip0602)\" style=\"fill:#000000; stroke:none; fill-opacity:1\" cx=\"454.702\" cy=\"1404.2\" r=\"25\"/>\n",
       "<circle clip-path=\"url(#clip0602)\" style=\"fill:#e34a33; stroke:none; fill-opacity:1\" cx=\"454.702\" cy=\"1404.2\" r=\"21\"/>\n",
       "<circle clip-path=\"url(#clip0602)\" style=\"fill:#000000; stroke:none; fill-opacity:1\" cx=\"513.98\" cy=\"1404.2\" r=\"25\"/>\n",
       "<circle clip-path=\"url(#clip0602)\" style=\"fill:#e34a33; stroke:none; fill-opacity:1\" cx=\"513.98\" cy=\"1404.2\" r=\"21\"/>\n",
       "<circle clip-path=\"url(#clip0602)\" style=\"fill:#000000; stroke:none; fill-opacity:1\" cx=\"573.257\" cy=\"1404.2\" r=\"25\"/>\n",
       "<circle clip-path=\"url(#clip0602)\" style=\"fill:#e34a33; stroke:none; fill-opacity:1\" cx=\"573.257\" cy=\"1404.2\" r=\"21\"/>\n",
       "<circle clip-path=\"url(#clip0602)\" style=\"fill:#000000; stroke:none; fill-opacity:1\" cx=\"632.534\" cy=\"1404.2\" r=\"25\"/>\n",
       "<circle clip-path=\"url(#clip0602)\" style=\"fill:#e34a33; stroke:none; fill-opacity:1\" cx=\"632.534\" cy=\"1404.2\" r=\"21\"/>\n",
       "<circle clip-path=\"url(#clip0602)\" style=\"fill:#000000; stroke:none; fill-opacity:1\" cx=\"691.811\" cy=\"1404.2\" r=\"25\"/>\n",
       "<circle clip-path=\"url(#clip0602)\" style=\"fill:#e34a33; stroke:none; fill-opacity:1\" cx=\"691.811\" cy=\"1404.2\" r=\"21\"/>\n",
       "<circle clip-path=\"url(#clip0602)\" style=\"fill:#000000; stroke:none; fill-opacity:1\" cx=\"751.088\" cy=\"1404.2\" r=\"25\"/>\n",
       "<circle clip-path=\"url(#clip0602)\" style=\"fill:#e34a33; stroke:none; fill-opacity:1\" cx=\"751.088\" cy=\"1404.2\" r=\"21\"/>\n",
       "<circle clip-path=\"url(#clip0602)\" style=\"fill:#000000; stroke:none; fill-opacity:1\" cx=\"810.365\" cy=\"1404.2\" r=\"25\"/>\n",
       "<circle clip-path=\"url(#clip0602)\" style=\"fill:#e34a33; stroke:none; fill-opacity:1\" cx=\"810.365\" cy=\"1404.2\" r=\"21\"/>\n",
       "<circle clip-path=\"url(#clip0602)\" style=\"fill:#000000; stroke:none; fill-opacity:1\" cx=\"869.642\" cy=\"1404.19\" r=\"25\"/>\n",
       "<circle clip-path=\"url(#clip0602)\" style=\"fill:#e34a33; stroke:none; fill-opacity:1\" cx=\"869.642\" cy=\"1404.19\" r=\"21\"/>\n",
       "<circle clip-path=\"url(#clip0602)\" style=\"fill:#000000; stroke:none; fill-opacity:1\" cx=\"928.919\" cy=\"1404.2\" r=\"25\"/>\n",
       "<circle clip-path=\"url(#clip0602)\" style=\"fill:#e34a33; stroke:none; fill-opacity:1\" cx=\"928.919\" cy=\"1404.2\" r=\"21\"/>\n",
       "<circle clip-path=\"url(#clip0602)\" style=\"fill:#000000; stroke:none; fill-opacity:1\" cx=\"988.197\" cy=\"1404.2\" r=\"25\"/>\n",
       "<circle clip-path=\"url(#clip0602)\" style=\"fill:#e34a33; stroke:none; fill-opacity:1\" cx=\"988.197\" cy=\"1404.2\" r=\"21\"/>\n",
       "<circle clip-path=\"url(#clip0602)\" style=\"fill:#000000; stroke:none; fill-opacity:1\" cx=\"1047.47\" cy=\"1404.2\" r=\"25\"/>\n",
       "<circle clip-path=\"url(#clip0602)\" style=\"fill:#e34a33; stroke:none; fill-opacity:1\" cx=\"1047.47\" cy=\"1404.2\" r=\"21\"/>\n",
       "<circle clip-path=\"url(#clip0602)\" style=\"fill:#000000; stroke:none; fill-opacity:1\" cx=\"1106.75\" cy=\"1404.2\" r=\"25\"/>\n",
       "<circle clip-path=\"url(#clip0602)\" style=\"fill:#e34a33; stroke:none; fill-opacity:1\" cx=\"1106.75\" cy=\"1404.2\" r=\"21\"/>\n",
       "<circle clip-path=\"url(#clip0602)\" style=\"fill:#000000; stroke:none; fill-opacity:1\" cx=\"1166.03\" cy=\"1404.2\" r=\"25\"/>\n",
       "<circle clip-path=\"url(#clip0602)\" style=\"fill:#e34a33; stroke:none; fill-opacity:1\" cx=\"1166.03\" cy=\"1404.2\" r=\"21\"/>\n",
       "<circle clip-path=\"url(#clip0602)\" style=\"fill:#000000; stroke:none; fill-opacity:1\" cx=\"1225.31\" cy=\"1404.2\" r=\"25\"/>\n",
       "<circle clip-path=\"url(#clip0602)\" style=\"fill:#e34a33; stroke:none; fill-opacity:1\" cx=\"1225.31\" cy=\"1404.2\" r=\"21\"/>\n",
       "<circle clip-path=\"url(#clip0602)\" style=\"fill:#000000; stroke:none; fill-opacity:1\" cx=\"1284.58\" cy=\"1404.2\" r=\"25\"/>\n",
       "<circle clip-path=\"url(#clip0602)\" style=\"fill:#e34a33; stroke:none; fill-opacity:1\" cx=\"1284.58\" cy=\"1404.2\" r=\"21\"/>\n",
       "<circle clip-path=\"url(#clip0602)\" style=\"fill:#000000; stroke:none; fill-opacity:1\" cx=\"1343.86\" cy=\"1404.2\" r=\"25\"/>\n",
       "<circle clip-path=\"url(#clip0602)\" style=\"fill:#e34a33; stroke:none; fill-opacity:1\" cx=\"1343.86\" cy=\"1404.2\" r=\"21\"/>\n",
       "<circle clip-path=\"url(#clip0602)\" style=\"fill:#000000; stroke:none; fill-opacity:1\" cx=\"1403.14\" cy=\"1404.2\" r=\"25\"/>\n",
       "<circle clip-path=\"url(#clip0602)\" style=\"fill:#e34a33; stroke:none; fill-opacity:1\" cx=\"1403.14\" cy=\"1404.2\" r=\"21\"/>\n",
       "<circle clip-path=\"url(#clip0602)\" style=\"fill:#000000; stroke:none; fill-opacity:1\" cx=\"1462.41\" cy=\"1404.2\" r=\"25\"/>\n",
       "<circle clip-path=\"url(#clip0602)\" style=\"fill:#e34a33; stroke:none; fill-opacity:1\" cx=\"1462.41\" cy=\"1404.2\" r=\"21\"/>\n",
       "<circle clip-path=\"url(#clip0602)\" style=\"fill:#000000; stroke:none; fill-opacity:1\" cx=\"1521.69\" cy=\"1404.2\" r=\"25\"/>\n",
       "<circle clip-path=\"url(#clip0602)\" style=\"fill:#e34a33; stroke:none; fill-opacity:1\" cx=\"1521.69\" cy=\"1404.2\" r=\"21\"/>\n",
       "<circle clip-path=\"url(#clip0602)\" style=\"fill:#000000; stroke:none; fill-opacity:1\" cx=\"1580.97\" cy=\"1404.2\" r=\"25\"/>\n",
       "<circle clip-path=\"url(#clip0602)\" style=\"fill:#e34a33; stroke:none; fill-opacity:1\" cx=\"1580.97\" cy=\"1404.2\" r=\"21\"/>\n",
       "<circle clip-path=\"url(#clip0602)\" style=\"fill:#000000; stroke:none; fill-opacity:1\" cx=\"1640.24\" cy=\"1404.2\" r=\"25\"/>\n",
       "<circle clip-path=\"url(#clip0602)\" style=\"fill:#e34a33; stroke:none; fill-opacity:1\" cx=\"1640.24\" cy=\"1404.2\" r=\"21\"/>\n",
       "<circle clip-path=\"url(#clip0602)\" style=\"fill:#000000; stroke:none; fill-opacity:1\" cx=\"1699.52\" cy=\"1404.2\" r=\"25\"/>\n",
       "<circle clip-path=\"url(#clip0602)\" style=\"fill:#e34a33; stroke:none; fill-opacity:1\" cx=\"1699.52\" cy=\"1404.2\" r=\"21\"/>\n",
       "<circle clip-path=\"url(#clip0602)\" style=\"fill:#000000; stroke:none; fill-opacity:1\" cx=\"1758.8\" cy=\"1404.2\" r=\"25\"/>\n",
       "<circle clip-path=\"url(#clip0602)\" style=\"fill:#e34a33; stroke:none; fill-opacity:1\" cx=\"1758.8\" cy=\"1404.2\" r=\"21\"/>\n",
       "<circle clip-path=\"url(#clip0602)\" style=\"fill:#000000; stroke:none; fill-opacity:1\" cx=\"1818.08\" cy=\"1404.2\" r=\"25\"/>\n",
       "<circle clip-path=\"url(#clip0602)\" style=\"fill:#e34a33; stroke:none; fill-opacity:1\" cx=\"1818.08\" cy=\"1404.2\" r=\"21\"/>\n",
       "<circle clip-path=\"url(#clip0602)\" style=\"fill:#000000; stroke:none; fill-opacity:1\" cx=\"1877.35\" cy=\"1404.2\" r=\"25\"/>\n",
       "<circle clip-path=\"url(#clip0602)\" style=\"fill:#e34a33; stroke:none; fill-opacity:1\" cx=\"1877.35\" cy=\"1404.2\" r=\"21\"/>\n",
       "<circle clip-path=\"url(#clip0602)\" style=\"fill:#000000; stroke:none; fill-opacity:1\" cx=\"1936.63\" cy=\"1404.2\" r=\"25\"/>\n",
       "<circle clip-path=\"url(#clip0602)\" style=\"fill:#e34a33; stroke:none; fill-opacity:1\" cx=\"1936.63\" cy=\"1404.2\" r=\"21\"/>\n",
       "<circle clip-path=\"url(#clip0602)\" style=\"fill:#000000; stroke:none; fill-opacity:1\" cx=\"1995.91\" cy=\"1404.2\" r=\"25\"/>\n",
       "<circle clip-path=\"url(#clip0602)\" style=\"fill:#e34a33; stroke:none; fill-opacity:1\" cx=\"1995.91\" cy=\"1404.2\" r=\"21\"/>\n",
       "<circle clip-path=\"url(#clip0602)\" style=\"fill:#000000; stroke:none; fill-opacity:1\" cx=\"2055.18\" cy=\"1404.2\" r=\"25\"/>\n",
       "<circle clip-path=\"url(#clip0602)\" style=\"fill:#e34a33; stroke:none; fill-opacity:1\" cx=\"2055.18\" cy=\"1404.2\" r=\"21\"/>\n",
       "<circle clip-path=\"url(#clip0602)\" style=\"fill:#000000; stroke:none; fill-opacity:1\" cx=\"2114.46\" cy=\"1404.2\" r=\"25\"/>\n",
       "<circle clip-path=\"url(#clip0602)\" style=\"fill:#e34a33; stroke:none; fill-opacity:1\" cx=\"2114.46\" cy=\"1404.2\" r=\"21\"/>\n",
       "<circle clip-path=\"url(#clip0602)\" style=\"fill:#000000; stroke:none; fill-opacity:1\" cx=\"2173.74\" cy=\"1404.2\" r=\"25\"/>\n",
       "<circle clip-path=\"url(#clip0602)\" style=\"fill:#e34a33; stroke:none; fill-opacity:1\" cx=\"2173.74\" cy=\"1404.2\" r=\"21\"/>\n",
       "<circle clip-path=\"url(#clip0602)\" style=\"fill:#000000; stroke:none; fill-opacity:1\" cx=\"2233.02\" cy=\"1404.2\" r=\"25\"/>\n",
       "<circle clip-path=\"url(#clip0602)\" style=\"fill:#e34a33; stroke:none; fill-opacity:1\" cx=\"2233.02\" cy=\"1404.2\" r=\"21\"/>\n",
       "<circle clip-path=\"url(#clip0602)\" style=\"fill:#000000; stroke:none; fill-opacity:1\" cx=\"2292.29\" cy=\"1404.2\" r=\"25\"/>\n",
       "<circle clip-path=\"url(#clip0602)\" style=\"fill:#e34a33; stroke:none; fill-opacity:1\" cx=\"2292.29\" cy=\"1404.2\" r=\"21\"/>\n",
       "<polyline clip-path=\"url(#clip0602)\" style=\"stroke:#fee8c8; stroke-width:4; stroke-opacity:1; fill:none\" points=\"\n",
       "  276.871,86.7672 336.148,730.224 395.425,1404.2 454.702,1404.2 513.98,1404.2 573.257,1404.2 632.534,1404.2 691.811,1404.2 751.088,1404.2 810.365,1404.2 \n",
       "  869.642,1404.2 928.919,1404.2 988.197,1404.2 1047.47,1404.2 1106.75,1404.2 1166.03,1404.2 1225.31,1404.2 1284.58,1404.2 1343.86,1404.2 1403.14,1404.2 \n",
       "  1462.41,1404.2 1521.69,1404.2 1580.97,1404.2 1640.24,1404.2 1699.52,1404.2 1758.8,1404.2 1818.08,1404.2 1877.35,1404.2 1936.63,1404.2 1995.91,1404.2 \n",
       "  2055.18,1404.2 2114.46,1404.2 2173.74,1404.2 2233.02,1404.2 2292.29,1404.2 \n",
       "  \"/>\n",
       "<circle clip-path=\"url(#clip0602)\" style=\"fill:#000000; stroke:none; fill-opacity:1\" cx=\"276.871\" cy=\"86.7672\" r=\"25\"/>\n",
       "<circle clip-path=\"url(#clip0602)\" style=\"fill:#fee8c8; stroke:none; fill-opacity:1\" cx=\"276.871\" cy=\"86.7672\" r=\"21\"/>\n",
       "<circle clip-path=\"url(#clip0602)\" style=\"fill:#000000; stroke:none; fill-opacity:1\" cx=\"336.148\" cy=\"730.224\" r=\"25\"/>\n",
       "<circle clip-path=\"url(#clip0602)\" style=\"fill:#fee8c8; stroke:none; fill-opacity:1\" cx=\"336.148\" cy=\"730.224\" r=\"21\"/>\n",
       "<circle clip-path=\"url(#clip0602)\" style=\"fill:#000000; stroke:none; fill-opacity:1\" cx=\"395.425\" cy=\"1404.2\" r=\"25\"/>\n",
       "<circle clip-path=\"url(#clip0602)\" style=\"fill:#fee8c8; stroke:none; fill-opacity:1\" cx=\"395.425\" cy=\"1404.2\" r=\"21\"/>\n",
       "<circle clip-path=\"url(#clip0602)\" style=\"fill:#000000; stroke:none; fill-opacity:1\" cx=\"454.702\" cy=\"1404.2\" r=\"25\"/>\n",
       "<circle clip-path=\"url(#clip0602)\" style=\"fill:#fee8c8; stroke:none; fill-opacity:1\" cx=\"454.702\" cy=\"1404.2\" r=\"21\"/>\n",
       "<circle clip-path=\"url(#clip0602)\" style=\"fill:#000000; stroke:none; fill-opacity:1\" cx=\"513.98\" cy=\"1404.2\" r=\"25\"/>\n",
       "<circle clip-path=\"url(#clip0602)\" style=\"fill:#fee8c8; stroke:none; fill-opacity:1\" cx=\"513.98\" cy=\"1404.2\" r=\"21\"/>\n",
       "<circle clip-path=\"url(#clip0602)\" style=\"fill:#000000; stroke:none; fill-opacity:1\" cx=\"573.257\" cy=\"1404.2\" r=\"25\"/>\n",
       "<circle clip-path=\"url(#clip0602)\" style=\"fill:#fee8c8; stroke:none; fill-opacity:1\" cx=\"573.257\" cy=\"1404.2\" r=\"21\"/>\n",
       "<circle clip-path=\"url(#clip0602)\" style=\"fill:#000000; stroke:none; fill-opacity:1\" cx=\"632.534\" cy=\"1404.2\" r=\"25\"/>\n",
       "<circle clip-path=\"url(#clip0602)\" style=\"fill:#fee8c8; stroke:none; fill-opacity:1\" cx=\"632.534\" cy=\"1404.2\" r=\"21\"/>\n",
       "<circle clip-path=\"url(#clip0602)\" style=\"fill:#000000; stroke:none; fill-opacity:1\" cx=\"691.811\" cy=\"1404.2\" r=\"25\"/>\n",
       "<circle clip-path=\"url(#clip0602)\" style=\"fill:#fee8c8; stroke:none; fill-opacity:1\" cx=\"691.811\" cy=\"1404.2\" r=\"21\"/>\n",
       "<circle clip-path=\"url(#clip0602)\" style=\"fill:#000000; stroke:none; fill-opacity:1\" cx=\"751.088\" cy=\"1404.2\" r=\"25\"/>\n",
       "<circle clip-path=\"url(#clip0602)\" style=\"fill:#fee8c8; stroke:none; fill-opacity:1\" cx=\"751.088\" cy=\"1404.2\" r=\"21\"/>\n",
       "<circle clip-path=\"url(#clip0602)\" style=\"fill:#000000; stroke:none; fill-opacity:1\" cx=\"810.365\" cy=\"1404.2\" r=\"25\"/>\n",
       "<circle clip-path=\"url(#clip0602)\" style=\"fill:#fee8c8; stroke:none; fill-opacity:1\" cx=\"810.365\" cy=\"1404.2\" r=\"21\"/>\n",
       "<circle clip-path=\"url(#clip0602)\" style=\"fill:#000000; stroke:none; fill-opacity:1\" cx=\"869.642\" cy=\"1404.2\" r=\"25\"/>\n",
       "<circle clip-path=\"url(#clip0602)\" style=\"fill:#fee8c8; stroke:none; fill-opacity:1\" cx=\"869.642\" cy=\"1404.2\" r=\"21\"/>\n",
       "<circle clip-path=\"url(#clip0602)\" style=\"fill:#000000; stroke:none; fill-opacity:1\" cx=\"928.919\" cy=\"1404.2\" r=\"25\"/>\n",
       "<circle clip-path=\"url(#clip0602)\" style=\"fill:#fee8c8; stroke:none; fill-opacity:1\" cx=\"928.919\" cy=\"1404.2\" r=\"21\"/>\n",
       "<circle clip-path=\"url(#clip0602)\" style=\"fill:#000000; stroke:none; fill-opacity:1\" cx=\"988.197\" cy=\"1404.2\" r=\"25\"/>\n",
       "<circle clip-path=\"url(#clip0602)\" style=\"fill:#fee8c8; stroke:none; fill-opacity:1\" cx=\"988.197\" cy=\"1404.2\" r=\"21\"/>\n",
       "<circle clip-path=\"url(#clip0602)\" style=\"fill:#000000; stroke:none; fill-opacity:1\" cx=\"1047.47\" cy=\"1404.2\" r=\"25\"/>\n",
       "<circle clip-path=\"url(#clip0602)\" style=\"fill:#fee8c8; stroke:none; fill-opacity:1\" cx=\"1047.47\" cy=\"1404.2\" r=\"21\"/>\n",
       "<circle clip-path=\"url(#clip0602)\" style=\"fill:#000000; stroke:none; fill-opacity:1\" cx=\"1106.75\" cy=\"1404.2\" r=\"25\"/>\n",
       "<circle clip-path=\"url(#clip0602)\" style=\"fill:#fee8c8; stroke:none; fill-opacity:1\" cx=\"1106.75\" cy=\"1404.2\" r=\"21\"/>\n",
       "<circle clip-path=\"url(#clip0602)\" style=\"fill:#000000; stroke:none; fill-opacity:1\" cx=\"1166.03\" cy=\"1404.2\" r=\"25\"/>\n",
       "<circle clip-path=\"url(#clip0602)\" style=\"fill:#fee8c8; stroke:none; fill-opacity:1\" cx=\"1166.03\" cy=\"1404.2\" r=\"21\"/>\n",
       "<circle clip-path=\"url(#clip0602)\" style=\"fill:#000000; stroke:none; fill-opacity:1\" cx=\"1225.31\" cy=\"1404.2\" r=\"25\"/>\n",
       "<circle clip-path=\"url(#clip0602)\" style=\"fill:#fee8c8; stroke:none; fill-opacity:1\" cx=\"1225.31\" cy=\"1404.2\" r=\"21\"/>\n",
       "<circle clip-path=\"url(#clip0602)\" style=\"fill:#000000; stroke:none; fill-opacity:1\" cx=\"1284.58\" cy=\"1404.2\" r=\"25\"/>\n",
       "<circle clip-path=\"url(#clip0602)\" style=\"fill:#fee8c8; stroke:none; fill-opacity:1\" cx=\"1284.58\" cy=\"1404.2\" r=\"21\"/>\n",
       "<circle clip-path=\"url(#clip0602)\" style=\"fill:#000000; stroke:none; fill-opacity:1\" cx=\"1343.86\" cy=\"1404.2\" r=\"25\"/>\n",
       "<circle clip-path=\"url(#clip0602)\" style=\"fill:#fee8c8; stroke:none; fill-opacity:1\" cx=\"1343.86\" cy=\"1404.2\" r=\"21\"/>\n",
       "<circle clip-path=\"url(#clip0602)\" style=\"fill:#000000; stroke:none; fill-opacity:1\" cx=\"1403.14\" cy=\"1404.2\" r=\"25\"/>\n",
       "<circle clip-path=\"url(#clip0602)\" style=\"fill:#fee8c8; stroke:none; fill-opacity:1\" cx=\"1403.14\" cy=\"1404.2\" r=\"21\"/>\n",
       "<circle clip-path=\"url(#clip0602)\" style=\"fill:#000000; stroke:none; fill-opacity:1\" cx=\"1462.41\" cy=\"1404.2\" r=\"25\"/>\n",
       "<circle clip-path=\"url(#clip0602)\" style=\"fill:#fee8c8; stroke:none; fill-opacity:1\" cx=\"1462.41\" cy=\"1404.2\" r=\"21\"/>\n",
       "<circle clip-path=\"url(#clip0602)\" style=\"fill:#000000; stroke:none; fill-opacity:1\" cx=\"1521.69\" cy=\"1404.2\" r=\"25\"/>\n",
       "<circle clip-path=\"url(#clip0602)\" style=\"fill:#fee8c8; stroke:none; fill-opacity:1\" cx=\"1521.69\" cy=\"1404.2\" r=\"21\"/>\n",
       "<circle clip-path=\"url(#clip0602)\" style=\"fill:#000000; stroke:none; fill-opacity:1\" cx=\"1580.97\" cy=\"1404.2\" r=\"25\"/>\n",
       "<circle clip-path=\"url(#clip0602)\" style=\"fill:#fee8c8; stroke:none; fill-opacity:1\" cx=\"1580.97\" cy=\"1404.2\" r=\"21\"/>\n",
       "<circle clip-path=\"url(#clip0602)\" style=\"fill:#000000; stroke:none; fill-opacity:1\" cx=\"1640.24\" cy=\"1404.2\" r=\"25\"/>\n",
       "<circle clip-path=\"url(#clip0602)\" style=\"fill:#fee8c8; stroke:none; fill-opacity:1\" cx=\"1640.24\" cy=\"1404.2\" r=\"21\"/>\n",
       "<circle clip-path=\"url(#clip0602)\" style=\"fill:#000000; stroke:none; fill-opacity:1\" cx=\"1699.52\" cy=\"1404.2\" r=\"25\"/>\n",
       "<circle clip-path=\"url(#clip0602)\" style=\"fill:#fee8c8; stroke:none; fill-opacity:1\" cx=\"1699.52\" cy=\"1404.2\" r=\"21\"/>\n",
       "<circle clip-path=\"url(#clip0602)\" style=\"fill:#000000; stroke:none; fill-opacity:1\" cx=\"1758.8\" cy=\"1404.2\" r=\"25\"/>\n",
       "<circle clip-path=\"url(#clip0602)\" style=\"fill:#fee8c8; stroke:none; fill-opacity:1\" cx=\"1758.8\" cy=\"1404.2\" r=\"21\"/>\n",
       "<circle clip-path=\"url(#clip0602)\" style=\"fill:#000000; stroke:none; fill-opacity:1\" cx=\"1818.08\" cy=\"1404.2\" r=\"25\"/>\n",
       "<circle clip-path=\"url(#clip0602)\" style=\"fill:#fee8c8; stroke:none; fill-opacity:1\" cx=\"1818.08\" cy=\"1404.2\" r=\"21\"/>\n",
       "<circle clip-path=\"url(#clip0602)\" style=\"fill:#000000; stroke:none; fill-opacity:1\" cx=\"1877.35\" cy=\"1404.2\" r=\"25\"/>\n",
       "<circle clip-path=\"url(#clip0602)\" style=\"fill:#fee8c8; stroke:none; fill-opacity:1\" cx=\"1877.35\" cy=\"1404.2\" r=\"21\"/>\n",
       "<circle clip-path=\"url(#clip0602)\" style=\"fill:#000000; stroke:none; fill-opacity:1\" cx=\"1936.63\" cy=\"1404.2\" r=\"25\"/>\n",
       "<circle clip-path=\"url(#clip0602)\" style=\"fill:#fee8c8; stroke:none; fill-opacity:1\" cx=\"1936.63\" cy=\"1404.2\" r=\"21\"/>\n",
       "<circle clip-path=\"url(#clip0602)\" style=\"fill:#000000; stroke:none; fill-opacity:1\" cx=\"1995.91\" cy=\"1404.2\" r=\"25\"/>\n",
       "<circle clip-path=\"url(#clip0602)\" style=\"fill:#fee8c8; stroke:none; fill-opacity:1\" cx=\"1995.91\" cy=\"1404.2\" r=\"21\"/>\n",
       "<circle clip-path=\"url(#clip0602)\" style=\"fill:#000000; stroke:none; fill-opacity:1\" cx=\"2055.18\" cy=\"1404.2\" r=\"25\"/>\n",
       "<circle clip-path=\"url(#clip0602)\" style=\"fill:#fee8c8; stroke:none; fill-opacity:1\" cx=\"2055.18\" cy=\"1404.2\" r=\"21\"/>\n",
       "<circle clip-path=\"url(#clip0602)\" style=\"fill:#000000; stroke:none; fill-opacity:1\" cx=\"2114.46\" cy=\"1404.2\" r=\"25\"/>\n",
       "<circle clip-path=\"url(#clip0602)\" style=\"fill:#fee8c8; stroke:none; fill-opacity:1\" cx=\"2114.46\" cy=\"1404.2\" r=\"21\"/>\n",
       "<circle clip-path=\"url(#clip0602)\" style=\"fill:#000000; stroke:none; fill-opacity:1\" cx=\"2173.74\" cy=\"1404.2\" r=\"25\"/>\n",
       "<circle clip-path=\"url(#clip0602)\" style=\"fill:#fee8c8; stroke:none; fill-opacity:1\" cx=\"2173.74\" cy=\"1404.2\" r=\"21\"/>\n",
       "<circle clip-path=\"url(#clip0602)\" style=\"fill:#000000; stroke:none; fill-opacity:1\" cx=\"2233.02\" cy=\"1404.2\" r=\"25\"/>\n",
       "<circle clip-path=\"url(#clip0602)\" style=\"fill:#fee8c8; stroke:none; fill-opacity:1\" cx=\"2233.02\" cy=\"1404.2\" r=\"21\"/>\n",
       "<circle clip-path=\"url(#clip0602)\" style=\"fill:#000000; stroke:none; fill-opacity:1\" cx=\"2292.29\" cy=\"1404.2\" r=\"25\"/>\n",
       "<circle clip-path=\"url(#clip0602)\" style=\"fill:#fee8c8; stroke:none; fill-opacity:1\" cx=\"2292.29\" cy=\"1404.2\" r=\"21\"/>\n",
       "<polygon clip-path=\"url(#clip0600)\" points=\"\n",
       "1813.42,312.204 2280.76,312.204 2280.76,130.764 1813.42,130.764 \n",
       "  \" fill=\"#ffffff\" fill-rule=\"evenodd\" fill-opacity=\"1\"/>\n",
       "<polyline clip-path=\"url(#clip0600)\" style=\"stroke:#000000; stroke-width:4; stroke-opacity:1; fill:none\" points=\"\n",
       "  1813.42,312.204 2280.76,312.204 2280.76,130.764 1813.42,130.764 1813.42,312.204 \n",
       "  \"/>\n",
       "<polyline clip-path=\"url(#clip0600)\" style=\"stroke:#e34a33; stroke-width:24; stroke-opacity:1; fill:none\" points=\"\n",
       "  1837.42,191.244 1981.42,191.244 \n",
       "  \"/>\n",
       "<circle clip-path=\"url(#clip0600)\" style=\"fill:#000000; stroke:none; fill-opacity:1\" cx=\"1921.42\" cy=\"191.244\" r=\"25\"/>\n",
       "<circle clip-path=\"url(#clip0600)\" style=\"fill:#e34a33; stroke:none; fill-opacity:1\" cx=\"1921.42\" cy=\"191.244\" r=\"21\"/>\n",
       "<g clip-path=\"url(#clip0600)\">\n",
       "<text style=\"fill:#000000; fill-opacity:1; font-family:Arial,Helvetica Neue,Helvetica,sans-serif; font-size:48px; text-anchor:start;\" transform=\"rotate(0, 2005.42, 208.744)\" x=\"2005.42\" y=\"208.744\">Indirect</text>\n",
       "</g>\n",
       "<polyline clip-path=\"url(#clip0600)\" style=\"stroke:#fee8c8; stroke-width:4; stroke-opacity:1; fill:none\" points=\"\n",
       "  1837.42,251.724 1981.42,251.724 \n",
       "  \"/>\n",
       "<circle clip-path=\"url(#clip0600)\" style=\"fill:#000000; stroke:none; fill-opacity:1\" cx=\"1921.42\" cy=\"251.724\" r=\"25\"/>\n",
       "<circle clip-path=\"url(#clip0600)\" style=\"fill:#fee8c8; stroke:none; fill-opacity:1\" cx=\"1921.42\" cy=\"251.724\" r=\"21\"/>\n",
       "<g clip-path=\"url(#clip0600)\">\n",
       "<text style=\"fill:#000000; fill-opacity:1; font-family:Arial,Helvetica Neue,Helvetica,sans-serif; font-size:48px; text-anchor:start;\" transform=\"rotate(0, 2005.42, 269.224)\" x=\"2005.42\" y=\"269.224\">Semidirect</text>\n",
       "</g>\n",
       "</svg>\n"
      ]
     },
     "execution_count": 80,
     "metadata": {},
     "output_type": "execute_result"
    }
   ],
   "source": [
    "j = 2\n",
    "xlabel=latexstring(\"t\")\n",
    "ylabel=latexstring(\"z\")\n",
    "plot(traj_indirect[7],traj_indirect[8][j,:],label=\"Indirect\",seriescolor=RGB(((227,74,51) ./ 255.)...),linewidth=6,marker=6,xlabel=xlabel)\n",
    "plot!(traj_semidirect[7],traj_semidirect[8][j,:],label=\"Semidirect\",seriescolor=RGB(((254,232,200) ./ 255.)...),linewidth=1,marker=6,ylabel=ylabel)"
   ]
  },
  {
   "cell_type": "code",
   "execution_count": 75,
   "metadata": {},
   "outputs": [],
   "source": [
    "savefig(string(\"slidingbox_z_4.svg\")) "
   ]
  },
  {
   "cell_type": "code",
   "execution_count": 7,
   "metadata": {},
   "outputs": [
    {
     "data": {
      "text/plain": [
       "3-element Array{Float64,1}:\n",
       " 0.0                   \n",
       " 4.1359030627651384e-24\n",
       " 0.9002303388292213    "
      ]
     },
     "metadata": {},
     "output_type": "display_data"
    },
    {
     "data": {
      "text/plain": [
       "3-element Array{Float64,1}:\n",
       " 0.0                 \n",
       " 0.019438219345822134\n",
       " 1.7453292392539714  "
      ]
     },
     "metadata": {},
     "output_type": "display_data"
    }
   ],
   "source": [
    "display(traj_indirect[2][end])\n",
    "display(traj_semidirect[2][end])"
   ]
  },
  {
   "cell_type": "code",
   "execution_count": 28,
   "metadata": {},
   "outputs": [
    {
     "data": {
      "text/plain": [
       "652"
      ]
     },
     "metadata": {},
     "output_type": "display_data"
    },
    {
     "data": {
      "text/plain": [
       "380"
      ]
     },
     "metadata": {},
     "output_type": "display_data"
    }
   ],
   "source": [
    "display(length(traj_indirect[9]))\n",
    "display(length(traj_semidirect[9]))"
   ]
  },
  {
   "cell_type": "markdown",
   "metadata": {},
   "source": [
    "# Trajectory optimization of jumper robot"
   ]
  },
  {
   "cell_type": "code",
   "execution_count": null,
   "metadata": {},
   "outputs": [],
   "source": [
    "urdf = joinpath(\"..\", \"..\", \"urdf\", \"jumper\", \"jumper.urdf\")\n",
    "mechanism = parse_urdf(Float64, urdf)\n",
    "\n",
    "floor = findbody(mechanism, \"floor\")\n",
    "point = Point3D(default_frame(floor), SVector([0.,0.,0.]...))\n",
    "normal = FreeVector3D(default_frame(floor), SVector([0.,0.,1.]...))\n",
    "floor_obs = Obstacle(floor, point, normal, :xyz, 100.)\n",
    "\n",
    "obstacles = [floor_obs]\n",
    "env = Environment(mechanism, urdf, obstacles);"
   ]
  },
  {
   "cell_type": "code",
   "execution_count": null,
   "metadata": {},
   "outputs": [],
   "source": [
    "mvis = MechanismVisualizer(mechanism, URDFVisuals(urdf));\n",
    "open(mvis)"
   ]
  },
  {
   "cell_type": "code",
   "execution_count": null,
   "metadata": {},
   "outputs": [],
   "source": [
    "set_configuration!(mvis, [0., -2, .6, -1.2])"
   ]
  },
  {
   "cell_type": "code",
   "execution_count": null,
   "metadata": {},
   "outputs": [],
   "source": [
    "N = 10\n",
    "Δt = 0.05\n",
    "q0 = [0., -2, .6, -1.2]\n",
    "v0 = zeros(num_velocities(mechanism))\n",
    "\n",
    "sim_data = get_sim_data_indirect(mechanism,env,Δt)\n",
    "null_ctrl! = (u,t,x) -> u[:] .= 0.\n",
    "x0 = MechanismState(mechanism)\n",
    "set_configuration!(x0, q0)\n",
    "set_velocity!(x0, v0)\n",
    "setdirty!(x0)\n",
    "traj_sim = Bilevel.simulate(sim_data,null_ctrl!,x0,N)\n",
    "setanimation!(mvis, traj_sim[6], traj_sim[1])"
   ]
  },
  {
   "cell_type": "code",
   "execution_count": null,
   "metadata": {},
   "outputs": [],
   "source": [
    "q_nom = copy(traj_sim[1][end])\n",
    "q_min = min.(q_nom, [-20., -10., -pi, -pi])\n",
    "q_max = max.(q_nom, [20., -0.25, pi, pi])\n",
    "\n",
    "N = 20\n",
    "Δt = 0.025\n",
    "\n",
    "function add_prob_constraints!(sim_data)\n",
    "    vs = sim_data.vs\n",
    "\n",
    "    add_eq!(sim_data, :cq1x, 4, x -> vs(x, :q1)[1:4] - q_nom[1:4])\n",
    "    add_eq!(sim_data, :cv1, num_velocities(mechanism), x -> vs(x, :v1))\n",
    "    \n",
    "    add_eq!(sim_data, :cqNy, 1, x -> -1.25 - vs(x, Symbol(\"q\", N))[2])\n",
    "end\n",
    "\n",
    "function add_prob_obj!(sim_data)\n",
    "    vs = sim_data.vs    \n",
    "\n",
    "end\n",
    "\n",
    "function get_prob_limits(sim_data)\n",
    "    x_min = -1e19*ones(sim_data.vs.num_vars)\n",
    "    x_max = 1e19*ones(sim_data.vs.num_vars)\n",
    "    \n",
    "    # joint limits\n",
    "    add_box_con_snopt!(x_min, x_max, sim_data, :q, q_min, q_max, 1:N)\n",
    "    add_box_con_snopt!(x_min, x_max, sim_data, :h, [Δt], [Δt], 1:N-1)\n",
    "    \n",
    "    # torques limits\n",
    "    u_limit = [0.,0.,0.,100.]\n",
    "    add_box_con_snopt!(x_min, x_max, sim_data, :u, -u_limit .* ones(num_velocities(mechanism)), u_limit .* ones(num_velocities(mechanism)), 1:N-1)\n",
    "    \n",
    "    x_min, x_max\n",
    "end\n",
    "\n",
    "function get_prob_init(sim_data)\n",
    "    x0 = zeros(sim_data.vs.num_vars)\n",
    "    for n = 1:N\n",
    "        qn = copy(q_nom)\n",
    "        x0[sim_data.vs(Symbol(\"q\", n))] .= qn\n",
    "    end\n",
    "    \n",
    "    x0\n",
    "end\n",
    "\n",
    "function setup_prob!(sim_data)\n",
    "    add_prob_constraints!(sim_data)\n",
    "    add_prob_obj!(sim_data)\n",
    "    x_min, x_max = get_prob_limits(sim_data)\n",
    "    x0 = get_prob_init(sim_data)\n",
    "    \n",
    "    x0, x_min, x_max\n",
    "end"
   ]
  },
  {
   "cell_type": "code",
   "execution_count": null,
   "metadata": {},
   "outputs": [],
   "source": [
    "# Semidirect\n",
    "\n",
    "sim_data = get_trajopt_data_semidirect(mechanism,env,Δt,N,relax_comp=false)\n",
    "x0, x_min, x_max = setup_prob!(sim_data);"
   ]
  },
  {
   "cell_type": "code",
   "execution_count": null,
   "metadata": {},
   "outputs": [],
   "source": [
    "con_tol = 1e-4\n",
    "obj_tol = 1e-4\n",
    "max_iter = 5000\n",
    "\n",
    "display(@time traj_semidirect = Bilevel.trajopt(sim_data, x0=x0, x_min=x_min, x_max=x_max, verbose=1, opt_tol=obj_tol, major_feas=con_tol, minor_feas=con_tol, max_iter=max_iter))\n",
    "\n",
    "x0 = traj_semidirect[9]\n",
    "\n",
    "setanimation!(mvis, traj_semidirect[7], traj_semidirect[1])"
   ]
  },
  {
   "cell_type": "code",
   "execution_count": null,
   "metadata": {},
   "outputs": [],
   "source": [
    "qi = 1"
   ]
  },
  {
   "cell_type": "code",
   "execution_count": null,
   "metadata": {},
   "outputs": [],
   "source": [
    "q = traj_semidirect[1][qi]\n",
    "set_configuration!(mvis, q) \n",
    "qi += 1"
   ]
  },
  {
   "cell_type": "code",
   "execution_count": null,
   "metadata": {},
   "outputs": [],
   "source": [
    "function run_trajopt()\n",
    "    Bilevel.solve_rosenbrock() # clearing SNOPT\n",
    "    Bilevel.trajopt(sim_data, x0=x0, x_min=x_min, x_max=x_max, verbose=0, opt_tol=obj_tol, major_feas=con_tol, minor_feas=con_tol, max_iter=max_iter)\n",
    "end\n",
    "\n",
    "@benchmark run_trajopt()"
   ]
  },
  {
   "cell_type": "code",
   "execution_count": null,
   "metadata": {},
   "outputs": [],
   "source": [
    "# Indirect\n",
    "\n",
    "sim_data = get_trajopt_data_indirect(mechanism,env,Δt,N,relax_comp=true)\n",
    "x0, x_min, x_max = setup_prob!(sim_data);"
   ]
  },
  {
   "cell_type": "code",
   "execution_count": null,
   "metadata": {},
   "outputs": [],
   "source": [
    "con_tol = 1e-4\n",
    "obj_tol = 1e-4\n",
    "max_iter = 5000\n",
    "\n",
    "display(@time traj_inidirect = Bilevel.trajopt(sim_data, x0=x0, x_min=x_min, x_max=x_max, verbose=1, opt_tol=obj_tol, major_feas=con_tol, minor_feas=con_tol, max_iter=max_iter))\n",
    "\n",
    "x0 = traj_inidirect[9]\n",
    "\n",
    "setanimation!(mvis, traj_inidirect[7], traj_inidirect[1])"
   ]
  },
  {
   "cell_type": "code",
   "execution_count": null,
   "metadata": {},
   "outputs": [],
   "source": [
    "function run_trajopt()\n",
    "    Bilevel.solve_rosenbrock() # clearing SNOPT\n",
    "    Bilevel.trajopt(sim_data, x0=x0, x_min=x_min, x_max=x_max, verbose=0, opt_tol=obj_tol, major_feas=con_tol, minor_feas=con_tol, max_iter=max_iter)\n",
    "end\n",
    "\n",
    "@benchmark run_trajopt()"
   ]
  },
  {
   "cell_type": "markdown",
   "metadata": {},
   "source": [
    "# Trajectory optimization of little dog"
   ]
  },
  {
   "cell_type": "code",
   "execution_count": 29,
   "metadata": {},
   "outputs": [],
   "source": [
    "urdf = joinpath(\"..\", \"..\", \"urdf\", \"little_dog\", \"little_dog2d.urdf\")\n",
    "mechanism = parse_urdf(Float64, urdf)\n",
    "\n",
    "floor = findbody(mechanism, \"floor\")\n",
    "point = Point3D(default_frame(floor), SVector([0.,0.,0.]...))\n",
    "normal = FreeVector3D(default_frame(floor), SVector([0.,0.,1.]...))\n",
    "floor_obs = Obstacle(floor, point, normal, :xyz, 1.)\n",
    "\n",
    "obstacles = [floor_obs]\n",
    "env = Environment(mechanism, urdf, obstacles);"
   ]
  },
  {
   "cell_type": "code",
   "execution_count": 35,
   "metadata": {},
   "outputs": [
    {
     "name": "stderr",
     "output_type": "stream",
     "text": [
      "┌ Info: Serving MeshCat visualizer at http://127.0.0.1:8700\n",
      "└ @ MeshCat /home/blandry/.julia/packages/MeshCat/WlA0B/src/servers.jl:24\n"
     ]
    },
    {
     "data": {
      "text/plain": [
       "Process(`\u001b[4mxdg-open\u001b[24m \u001b[4mhttp://127.0.0.1:8700\u001b[24m`, ProcessExited(0))"
      ]
     },
     "execution_count": 35,
     "metadata": {},
     "output_type": "execute_result"
    },
    {
     "name": "stderr",
     "output_type": "stream",
     "text": [
      "Invalid MIT-MAGIC-COOKIE-1 key[9367:9367:0830/134317.187477:ERROR:browser_main_loop.cc(279)] Gtk: cannot open display: :0\n",
      "Error handling websocket connection:\n",
      "\u001b[91mWebSockets.WebSocketClosedError(\"ws|server respond to OPCODE_CLOSE 1001:Going Away\")\u001b[39m\n",
      "Stacktrace:\n",
      " [1] \u001b[1mtry_yieldto\u001b[22m\u001b[1m(\u001b[22m::typeof(Base.ensure_rescheduled), ::Base.RefValue{Task}\u001b[1m)\u001b[22m at \u001b[1m./event.jl:196\u001b[22m\n",
      " [2] \u001b[1mwait\u001b[22m\u001b[1m(\u001b[22m\u001b[1m)\u001b[22m at \u001b[1m./event.jl:255\u001b[22m\n",
      " [3] \u001b[1mwait\u001b[22m\u001b[1m(\u001b[22m::Condition\u001b[1m)\u001b[22m at \u001b[1m./event.jl:46\u001b[22m\n",
      " [4] \u001b[1mwait\u001b[22m\u001b[1m(\u001b[22m::Task\u001b[1m)\u001b[22m at \u001b[1m./task.jl:188\u001b[22m\n",
      " [5] \u001b[1mcreate_socket\u001b[22m\u001b[1m(\u001b[22m::Dict{Any,Any}\u001b[1m)\u001b[22m at \u001b[1m/home/blandry/.julia/packages/WebIO/Rk8wc/src/providers/mux.jl:44\u001b[22m\n",
      " [6] \u001b[1m(::getfield(Mux, Symbol(\"##5#6\")){getfield(Mux, Symbol(\"##28#29\")){Array{SubString{String},1}},typeof(WebIO.create_socket)})\u001b[22m\u001b[1m(\u001b[22m::Function, ::Dict{Any,Any}\u001b[1m)\u001b[22m at \u001b[1m/home/blandry/.julia/packages/Mux/FeATY/src/Mux.jl:17\u001b[22m\n",
      " [7] \u001b[1m#1\u001b[22m at \u001b[1m/home/blandry/.julia/packages/Mux/FeATY/src/Mux.jl:10\u001b[22m [inlined]\n",
      " [8] \u001b[1msplitquery\u001b[22m\u001b[1m(\u001b[22m::getfield(Mux, Symbol(\"##1#2\")){getfield(Mux, Symbol(\"##5#6\")){getfield(Mux, Symbol(\"##28#29\")){Array{SubString{String},1}},typeof(WebIO.create_socket)},getfield(Mux, Symbol(\"##1#2\")){typeof(Mux.wclose),getfield(Mux, Symbol(\"##1#2\")){getfield(Mux, Symbol(\"##18#19\")){getfield(Mux, Symbol(\"##22#23\")){Symbol,Int64}},getfield(Mux, Symbol(\"##20#21\")){String}}}}, ::Dict{Any,Any}\u001b[1m)\u001b[22m at \u001b[1m/home/blandry/.julia/packages/Mux/FeATY/src/basics.jl:34\u001b[22m\n",
      " [9] \u001b[1m#1\u001b[22m at \u001b[1m/home/blandry/.julia/packages/Mux/FeATY/src/Mux.jl:10\u001b[22m [inlined]\n",
      " [10] \u001b[1mwcatch\u001b[22m\u001b[1m(\u001b[22m::getfield(Mux, Symbol(\"##1#2\")){typeof(Mux.splitquery),getfield(Mux, Symbol(\"##1#2\")){getfield(Mux, Symbol(\"##5#6\")){getfield(Mux, Symbol(\"##28#29\")){Array{SubString{String},1}},typeof(WebIO.create_socket)},getfield(Mux, Symbol(\"##1#2\")){typeof(Mux.wclose),getfield(Mux, Symbol(\"##1#2\")){getfield(Mux, Symbol(\"##18#19\")){getfield(Mux, Symbol(\"##22#23\")){Symbol,Int64}},getfield(Mux, Symbol(\"##20#21\")){String}}}}}, ::Dict{Any,Any}\u001b[1m)\u001b[22m at \u001b[1m/home/blandry/.julia/packages/Mux/FeATY/src/websockets_integration.jl:12\u001b[22m\n",
      " [11] \u001b[1m#1\u001b[22m at \u001b[1m/home/blandry/.julia/packages/Mux/FeATY/src/Mux.jl:10\u001b[22m [inlined]\n",
      " [12] \u001b[1mtodict\u001b[22m at \u001b[1m/home/blandry/.julia/packages/Mux/FeATY/src/basics.jl:25\u001b[22m [inlined]\n",
      " [13] \u001b[1m#3\u001b[22m at \u001b[1m/home/blandry/.julia/packages/Mux/FeATY/src/Mux.jl:14\u001b[22m [inlined] (repeats 2 times)\n",
      " [14] \u001b[1m(::getfield(Mux, Symbol(\"##1#2\")){getfield(Mux, Symbol(\"##3#4\")){getfield(Mux, Symbol(\"##3#4\")){typeof(Mux.todict),typeof(Mux.wcatch)},typeof(Mux.splitquery)},getfield(Mux, Symbol(\"##1#2\")){getfield(Mux, Symbol(\"##5#6\")){getfield(Mux, Symbol(\"##28#29\")){Array{SubString{String},1}},typeof(WebIO.create_socket)},getfield(Mux, Symbol(\"##1#2\")){typeof(Mux.wclose),getfield(Mux, Symbol(\"##1#2\")){getfield(Mux, Symbol(\"##18#19\")){getfield(Mux, Symbol(\"##22#23\")){Symbol,Int64}},getfield(Mux, Symbol(\"##20#21\")){String}}}}})\u001b[22m\u001b[1m(\u001b[22m::Tuple{HTTP.Messages.Request,WebSockets.WebSocket{Sockets.TCPSocket}}\u001b[1m)\u001b[22m at \u001b[1m/home/blandry/.julia/packages/Mux/FeATY/src/Mux.jl:10\u001b[22m\n",
      " [15] \u001b[1m(::getfield(Mux, Symbol(\"##9#10\")){Mux.App})\u001b[22m\u001b[1m(\u001b[22m::HTTP.Messages.Request, ::WebSockets.WebSocket{Sockets.TCPSocket}\u001b[1m)\u001b[22m at \u001b[1m/home/blandry/.julia/packages/Mux/FeATY/src/server.jl:49\u001b[22m\n",
      " [16] \u001b[1mupgrade\u001b[22m\u001b[1m(\u001b[22m::getfield(Mux, Symbol(\"##9#10\")){Mux.App}, ::HTTP.Streams.Stream{HTTP.Messages.Request,HTTP.ConnectionPool.Transaction{Sockets.TCPSocket}}\u001b[1m)\u001b[22m at \u001b[1m/home/blandry/.julia/packages/WebSockets/pc4iW/src/HTTP.jl:201\u001b[22m\n",
      " [17] \u001b[1m(::getfield(WebSockets, Symbol(\"#_servercoroutine#11\")){WebSockets.ServerWS})\u001b[22m\u001b[1m(\u001b[22m::HTTP.Streams.Stream{HTTP.Messages.Request,HTTP.ConnectionPool.Transaction{Sockets.TCPSocket}}\u001b[1m)\u001b[22m at \u001b[1m/home/blandry/.julia/packages/WebSockets/pc4iW/src/HTTP.jl:370\u001b[22m\n",
      " [18] \u001b[1mmacro expansion\u001b[22m at \u001b[1m/home/blandry/.julia/packages/HTTP/wY7Vc/src/Servers.jl:360\u001b[22m [inlined]\n",
      " [19] \u001b[1m(::getfield(HTTP.Servers, Symbol(\"##13#14\")){getfield(WebSockets, Symbol(\"#_servercoroutine#11\")){WebSockets.ServerWS},HTTP.ConnectionPool.Transaction{Sockets.TCPSocket},HTTP.Streams.Stream{HTTP.Messages.Request,HTTP.ConnectionPool.Transaction{Sockets.TCPSocket}}})\u001b[22m\u001b[1m(\u001b[22m\u001b[1m)\u001b[22m at \u001b[1m./task.jl:259\u001b[22m"
     ]
    }
   ],
   "source": [
    "mvis = MechanismVisualizer(mechanism, URDFVisuals(urdf));\n",
    "# open(mvis)"
   ]
  },
  {
   "cell_type": "code",
   "execution_count": 31,
   "metadata": {},
   "outputs": [],
   "source": [
    "N = 8\n",
    "Δt = 0.025\n",
    "q0 = [0., -.25, 0., 0.25, -0.25, 0.25, -0.25, pi/4, pi/4, pi/4, pi/4, -pi/2, -pi/2, -pi/2, -pi/2] \n",
    "v0 = zeros(num_velocities(mechanism))\n",
    "\n",
    "sim_data = get_sim_data_indirect(mechanism,env,Δt)\n",
    "null_ctrl! = (u,t,x) -> u[:] .= 0.\n",
    "x0 = MechanismState(mechanism)\n",
    "set_configuration!(x0, q0)\n",
    "set_velocity!(x0, v0)\n",
    "setdirty!(x0)\n",
    "traj_sim = Bilevel.simulate(sim_data,null_ctrl!,x0,N)\n",
    "setanimation!(mvis, traj_sim[6], traj_sim[1])"
   ]
  },
  {
   "cell_type": "code",
   "execution_count": null,
   "metadata": {},
   "outputs": [],
   "source": [
    "set_configuration!(mvis, [0,-.2,0,0,0,0,0,0,0,0,0,-1.5,-1.5,0,0])"
   ]
  },
  {
   "cell_type": "code",
   "execution_count": 32,
   "metadata": {},
   "outputs": [
    {
     "data": {
      "text/plain": [
       "setup_prob! (generic function with 1 method)"
      ]
     },
     "execution_count": 32,
     "metadata": {},
     "output_type": "execute_result"
    }
   ],
   "source": [
    "q_nom = copy(traj_sim[1][end])\n",
    "q_min = min.(q_nom, [-5., -.5, -0.1*pi, 0.25, -0.25, 0.25, -0.25, -3.5, -3.5, -3.5, -3.5, -3.1, -3.1, -3.1, -3.1])\n",
    "# q_min = min.(q_nom, [-5., -.5, -0.1*pi, 0.25, -0.25, 0.25, -0.25, -3.5, -3.5, -3.5, -3.5, -1.5, -1.5, -3.1, -3.1])\n",
    "# q_min = min.(q_nom, [-5., -.5, -0.05*pi, 0.25, -0.25, 0.25, -0.25, -3.5, -3.5, -3.5, -3.5, -3.1, -3.1, -3.1, -3.1])\n",
    "q_max = max.(q_nom, [5., -0.07, 0.05*pi, 0.25, -0.25, 0.25, -0.25, 2.4, 2.4, 2.4, 2.4, 1., 1., 1., 1.])\n",
    "\n",
    "# x_goal = 0.25\n",
    "x_goal = .2\n",
    "N = 12\n",
    "Δt = 0.05\n",
    "\n",
    "function add_prob_constraints!(sim_data)\n",
    "    vs = sim_data.vs\n",
    "\n",
    "    add_eq!(sim_data, :cq1x, 1, x -> vs(x, :q1)[1])\n",
    "    add_eq!(sim_data, :cv1, num_velocities(mechanism), x -> vs(x, :v1))\n",
    "\n",
    "    add_ineq!(sim_data, :cqNx, 1, x -> x_goal - vs(x, Symbol(\"q\", N))[1])\n",
    "    \n",
    "    add_eq!(sim_data, :cqN, num_positions(mechanism)-1, x -> vs(x, Symbol(\"q\", N))[2:end] - vs(x, :q1)[2:end])\n",
    "    add_eq!(sim_data, :cvN, num_velocities(mechanism), x -> vs(x, Symbol(\"v\", N)))\n",
    "    \n",
    "    # symmetry\n",
    "    for n = 1:N\n",
    "        add_eq!(sim_data, Symbol(\"cqSym1_\", n), 1, x -> vs(x, Symbol(\"q\", n))[8] - vs(x, Symbol(\"q\", n))[9])\n",
    "        add_eq!(sim_data, Symbol(\"cqSym2_\", n), 1, x -> vs(x, Symbol(\"q\", n))[10] - vs(x, Symbol(\"q\", n))[11])\n",
    "        add_eq!(sim_data, Symbol(\"cqSym3_\", n), 1, x -> vs(x, Symbol(\"q\", n))[12] - vs(x, Symbol(\"q\", n))[13]) \n",
    "        add_eq!(sim_data, Symbol(\"cqSym4_\", n), 1, x -> vs(x, Symbol(\"q\", n))[14] - vs(x, Symbol(\"q\", n))[15]) \n",
    "    end\n",
    "    \n",
    "#     # start at stance (optional for gait)\n",
    "#     cn0 = .5\n",
    "#     add_ineq!(sim_data, Symbol(\"cn1_\", 1), 1, x -> cn0 .- vs(x, Symbol(\"c_n1_\", 1)))\n",
    "#     add_ineq!(sim_data, Symbol(\"cn2_\", 1), 1, x -> cn0 .- vs(x, Symbol(\"c_n2_\", 1)))\n",
    "#     add_ineq!(sim_data, Symbol(\"cn3_\", 1), 1, x -> cn0 .- vs(x, Symbol(\"c_n3_\", 1)))\n",
    "#     add_ineq!(sim_data, Symbol(\"cn4_\", 1), 1, x -> cn0 .- vs(x, Symbol(\"c_n4_\", 1)))\n",
    "    \n",
    "    # middle should be contact free\n",
    "    flight_start = 6\n",
    "    flight_end = 6\n",
    "    for n = flight_start:flight_end\n",
    "        add_eq!(sim_data, Symbol(\"cn1f_\", n), 1, x -> vs(x, Symbol(\"c_n1_\", n)))\n",
    "        add_eq!(sim_data, Symbol(\"cn2f_\", n), 1, x -> vs(x, Symbol(\"c_n2_\", n)))\n",
    "        add_eq!(sim_data, Symbol(\"cn3f_\", n), 1, x -> vs(x, Symbol(\"c_n3_\", n)))\n",
    "        add_eq!(sim_data, Symbol(\"cn4f_\", n), 1, x -> vs(x, Symbol(\"c_n4_\", n)))\n",
    "    end\n",
    "end\n",
    "\n",
    "function add_prob_obj!(sim_data)\n",
    "    vs = sim_data.vs    \n",
    "#     for n = 1:N\n",
    "#         add_obj!(sim_data, Symbol(\"v\", n), x -> sim_data.vs(x, Symbol(\"v\", n))' * sim_data.vs(x, Symbol(\"v\", n)))\n",
    "#     end\n",
    "end\n",
    "\n",
    "function get_prob_limits(sim_data)\n",
    "    x_min = -1e12*ones(sim_data.vs.num_vars)\n",
    "    x_max = 1e12*ones(sim_data.vs.num_vars)\n",
    "    \n",
    "    # joint limits\n",
    "    add_box_con_snopt!(x_min, x_max, sim_data, :q, q_min, q_max, 1:N)\n",
    "    add_box_con_snopt!(x_min, x_max, sim_data, :h, [Δt], [Δt], 1:N-1)\n",
    "    \n",
    "    # torques limits\n",
    "    u_mag_max = 5.\n",
    "    u_min = vcat(zeros(3), -u_mag_max * ones(12))\n",
    "    u_max = vcat(zeros(3), u_mag_max * ones(12))\n",
    "    add_box_con_snopt!(x_min, x_max, sim_data, :u, u_min, u_max, 1:N-1)\n",
    "    \n",
    "    # joint velocity limits\n",
    "    v_mag_max = 20.\n",
    "    v_min = vcat(-1e12*ones(3), -v_mag_max * ones(12))\n",
    "    v_max = vcat(1e12*ones(3), v_mag_max * ones(12))\n",
    "    add_box_con_snopt!(x_min, x_max, sim_data, :v, v_min, v_max, 1:N)\n",
    "    \n",
    "    x_min, x_max\n",
    "end\n",
    "\n",
    "function get_prob_init(sim_data)\n",
    "    x0 = zeros(sim_data.vs.num_vars)\n",
    "    for n = 1:N\n",
    "        qn = copy(q_nom)\n",
    "        qn[1] = (n/N)*(x_goal - 0.) + 0.\n",
    "        x0[sim_data.vs(Symbol(\"q\", n))] .= qn\n",
    "    end\n",
    "    \n",
    "    x0\n",
    "end\n",
    "\n",
    "function setup_prob!(sim_data)\n",
    "    add_prob_constraints!(sim_data)\n",
    "    add_prob_obj!(sim_data)\n",
    "    x_min, x_max = get_prob_limits(sim_data)\n",
    "    x0 = get_prob_init(sim_data)\n",
    "    \n",
    "    x0, x_min, x_max\n",
    "end"
   ]
  },
  {
   "cell_type": "code",
   "execution_count": 37,
   "metadata": {},
   "outputs": [],
   "source": [
    "# Semidirect\n",
    "\n",
    "sim_data = get_trajopt_data_semidirect(mechanism,env,Δt,N,relax_comp=false)\n",
    "x0, x_min, x_max = setup_prob!(sim_data);"
   ]
  },
  {
   "cell_type": "code",
   "execution_count": 38,
   "metadata": {},
   "outputs": [
    {
     "data": {
      "text/plain": [
       "(Array{Float64,1}[[0.0, -0.0986209, 0.149383, 0.215236, -0.215236, 0.25, -0.237887, -1.32413, -1.32413, 0.431249, 0.431249, -0.0163267, -0.0163267, -1.27352, -1.27352], [0.00104027, -0.0764609, 0.154119, 0.25, -0.25, 0.242352, -0.249964, -0.876549, -0.876549, 0.352359, 0.352359, -1.01633, -1.01633, -1.47358, -1.47358], [0.00752399, -0.0744775, -0.0674477, 0.218026, -0.218026, 0.249997, -0.249997, -0.373973, -0.373973, 1.31357, 1.31357, -1.18707, -1.18707, -2.02845, -2.02845], [0.0139137, -0.07, 0.156944, 0.25, -0.25, 0.243148, -0.249824, -0.102789, -0.102789, 0.902361, 0.902361, -2.13083, -2.13083, -1.77642, -1.77642], [0.0434451, -0.114973, -0.314021, 0.21524, -0.21524, 0.25, -0.246224, 0.531467, 0.531467, 1.87948, 1.87948, -1.13083, -1.13083, -1.98682, -1.98682], [0.0680427, -0.157732, -0.221031, 0.216863, -0.222821, 0.250001, -0.237905, -0.454225, -0.454225, 0.897918, 0.897918, -0.939925, -0.939925, -0.98682, -0.98682], [0.0994766, -0.174752, -0.13556, 0.2424, -0.232748, 0.242352, -0.237907, -1.44869, -1.44869, -0.102082, -0.102082, -0.158046, -0.158046, -1.95753, -1.95753], [0.134846, -0.169669, -0.0871118, 0.216664, -0.21524, 0.25, -0.239227, -2.23069, -2.23069, -1.10206, -1.10206, 0.49398, 0.49398, -2.93262, -2.93262], [0.1691, -0.146984, -0.163492, 0.25, -0.234644, 0.242355, -0.237896, -1.7392, -1.7392, -0.15248, -0.15248, 0.330536, 0.330536, -2.26909, -2.26909], [0.200637, -0.0978519, -0.310468, 0.215268, -0.215265, 0.24998, -0.249976, -0.764424, -0.764424, 0.831345, 0.831345, 0.673823, 0.673823, -1.93323, -1.93323], [0.200176, -0.0986209, 0.149383, 0.215236, -0.215236, 0.25, -0.237887, -1.32413, -1.32413, 0.431249, 0.431249, -0.0163267, -0.0163267, -1.27352, -1.27352], [0.200176, -0.0986209, 0.149383, 0.215236, -0.215236, 0.25, -0.237887, -1.32413, -1.32413, 0.431249, 0.431249, -0.0163267, -0.0163267, -1.27352, -1.27352]], Array{Float64,1}[[-2.86496e-15, 0.0, 0.0, 0.0, 0.0, 0.0, 0.0, 0.0, 0.0, 0.0, 0.0, 0.0, 0.0, 0.0, 0.0], [0.0885939, 0.434752, 0.0947176, 0.695285, -0.695285, -0.152948, -0.241546, 8.95171, 8.95171, -1.5778, -1.5778, -20.0, -20.0, -4.00131, -4.00131], [0.126706, 0.0483181, -4.43133, -0.639487, 0.639487, 0.152892, -0.000657732, 10.0515, 10.0515, 19.2242, 19.2242, -3.41487, -3.41487, -11.0973, -11.0973], [0.140219, 0.0684745, 4.48783, 0.639487, -0.639487, -0.136974, 0.00346472, 5.42367, 5.42367, -8.22422, -8.22422, -18.8752, -18.8752, 5.04051, 5.04051], [0.839579, -0.673043, -9.4193, -0.695201, 0.695201, 0.137034, 0.0719886, 12.6851, 12.6851, 19.5424, 19.5424, 20.0, 20.0, -4.20793, -4.20793], [0.667469, -0.726522, 1.85982, 0.0324653, -0.151619, 1.44135e-5, 0.166381, -19.7138, -19.7138, -19.6313, -19.6313, 3.81811, 3.81811, 20.0, 20.0], [0.668913, -0.252308, 1.70942, 0.510731, -0.198536, -0.152971, -3.65929e-5, -19.8893, -19.8893, -20.0, -20.0, 15.6376, 15.6376, -19.4141, -19.4141], [0.695866, 0.162821, 0.968955, -0.514714, 0.350154, 0.152956, -0.026394, -15.64, -15.64, -19.9996, -19.9996, 13.0405, 13.0405, -19.5019, -19.5019], [0.602095, 0.55915, -1.5276, 0.666718, -0.388078, -0.152894, 0.0266086, 9.82977, 9.82977, 18.9917, 18.9917, -3.26889, -3.26889, 13.2705, 13.2705], [0.300385, 1.12836, -2.93952, -0.694647, 0.38757, 0.152489, -0.241583, 19.4956, 19.4956, 19.6765, 19.6765, 6.86575, 6.86575, 6.71721, 6.71721], [-0.0114026, -0.0138371, 9.19701, -0.000637232, 0.000592379, 0.000400843, 0.241775, -11.1942, -11.1942, -8.00191, -8.00191, -13.803, -13.803, 13.1943, 13.1943], [-2.95842e-13, 0.0, 0.0, 0.0, 0.0, 0.0, 0.0, 0.0, 0.0, 0.0, 0.0, 0.0, 0.0, 0.0, 0.0]], Array{Float64,1}[[0.0, 0.0, 0.0, -0.00102367, 0.00112321, 0.00534041, 0.0612595, 0.0641653, 0.0642297, -0.023193, -0.0419611, -0.00576879, -0.00584322, -0.00929776, 0.0395646], [0.0, 0.0, 0.0, -0.53877, 0.550158, 0.0570766, 0.342506, -0.0145757, -0.0129112, 0.164939, -0.513963, -0.470802, -0.478539, -0.00831568, 0.394666], [0.0, 0.0, 0.0, -0.0275563, 0.0275563, 0.0829903, 0.59375, 0.0672802, 0.0672802, -0.0258267, -0.843259, -0.0081258, -0.0081258, -0.00988002, 0.542867], [0.0, 0.0, 0.0, -0.339628, 2.36304, 0.0107005, -0.00328592, -0.763332, -3.13966, 0.0976061, 0.0970974, -0.456214, -1.94743, -0.0111097, -0.0111876], [0.0, 0.0, 0.0, -0.0446767, 0.0443082, 0.0876006, 0.672007, -0.32718, -0.327102, -0.0857047, -0.569537, -0.066822, -0.066851, -0.0115779, 0.622519], [0.0, 0.0, 0.0, -0.00796368, 0.011409, 0.019386, -0.0184436, -0.00998126, -0.00942887, -0.0709401, -0.0705888, 0.00876036, 0.00892168, -0.07076, -0.0707661], [0.0, 0.0, 0.0, -0.0320542, 0.0298214, -0.00755661, 0.00913563, 0.0420041, 0.040586, -0.0177952, -0.0177488, 0.011673, 0.011463, 0.00892971, 0.00906964], [0.0, 0.0, 0.0, -0.0173058, 0.0191419, -0.0458025, 0.0386831, 0.162905, 0.163766, 0.276168, 0.275708, 0.029333, 0.029483, -0.00707752, -0.00699728], [0.0, 0.0, 0.0, 0.00888877, -0.0131075, 0.00591273, -0.00327527, 0.0931054, 0.0918942, 0.0645323, 0.0645723, 0.0460088, 0.0458512, -0.0329663, -0.0329209], [0.0, 0.0, 0.0, -0.280949, 0.292774, 0.278401, 2.08711, 0.275124, 0.289743, 0.0379275, -0.912155, -0.399068, -0.407767, -0.0493009, 1.6332], [0.0, 0.0, 0.0, -0.21746, 0.22421, -0.0512524, 0.044088, 0.416926, 0.42749, -0.0298226, -0.0309758, -0.331176, -0.337728, -0.00792852, -0.00812366]], [0.05, 0.05, 0.05, 0.05, 0.05, 0.05, 0.05, 0.05, 0.05, 0.05, 0.05], Array{Float64,1}[[0.000284983, 0.000392574, 3.03005e-5, 0.0707948], [0.65601, 0.667109, 0.000890628, 0.583184], [1.67477e-16, -8.77636e-15, 3.28932e-6, 0.799038], [0.677182, 2.81537, 5.17286e-14, 1.53076e-17], [4.82921e-16, -2.65192e-14, -1.32759e-6, 0.913604], [0.0, 0.0, 0.0, 0.0], [-1.34253e-14, -8.66823e-15, 6.81913e-14, -5.94571e-14], [-4.08758e-13, 5.53419e-13, -7.6173e-13, 6.23133e-13], [0.000313469, 0.000311588, -7.13991e-15, 7.47736e-15], [0.479327, 0.491817, 0.0, 2.4245], [0.468898, 0.478292, 1.97775e-5, 2.95501e-5]], Array{Float64,1}[], [0.0, 0.05, 0.1, 0.15, 0.2, 0.25, 0.3, 0.35, 0.4, 0.45, 0.5, 0.55], [0.0 0.00104027 … 0.200176 0.200176; -0.0986209 -0.0764609 … -0.0986209 -0.0986209; … ; 0.0 -4.00131 … 13.1943 0.0; 0.0 -4.00131 … 13.1943 0.0], [0.0, -0.0986209, 0.149383, 0.215236, -0.215236, 0.25, -0.237887, -1.32413, -1.32413, 0.431249  …  0.0, 0.0, 0.0, 0.0, 0.0, 0.0, 0.0, 0.0, 0.0, 0.0])"
      ]
     },
     "metadata": {},
     "output_type": "display_data"
    },
    {
     "name": "stdout",
     "output_type": "stream",
     "text": [
      "Finished successfully: optimality conditions satisfied\n",
      " 41.065514 seconds (156.47 M allocations: 34.052 GiB, 23.84% gc time)\n"
     ]
    }
   ],
   "source": [
    "con_tol = 1e-5\n",
    "obj_tol = 1e-5\n",
    "# max_iter = 5000\n",
    "max_iter = 15000\n",
    "\n",
    "display(@time traj_semidirect = Bilevel.trajopt(sim_data, x0=x0, x_min=x_min, x_max=x_max, verbose=1, opt_tol=obj_tol, major_feas=con_tol, minor_feas=con_tol, max_iter=max_iter))\n",
    "\n",
    "x0 = traj_semidirect[9]\n",
    "\n",
    "setanimation!(mvis, traj_semidirect[7], traj_semidirect[1])"
   ]
  },
  {
   "cell_type": "code",
   "execution_count": 39,
   "metadata": {},
   "outputs": [
    {
     "name": "stdout",
     "output_type": "stream",
     "text": [
      "Finished successfully: optimality conditions satisfied\n"
     ]
    },
    {
     "data": {
      "text/plain": [
       "(Array{Float64,1}[[0.0, -0.0986209, 0.149383, 0.215236, -0.215236, 0.25, -0.237887, -1.32413, -1.32413, 0.431249, 0.431249, -0.0163267, -0.0163267, -1.27352, -1.27352], [0.00104027, -0.0764609, 0.154119, 0.25, -0.25, 0.242352, -0.249964, -0.876549, -0.876549, 0.352359, 0.352359, -1.01633, -1.01633, -1.47358, -1.47358], [0.00752399, -0.0744775, -0.0674477, 0.218026, -0.218026, 0.249997, -0.249997, -0.373973, -0.373973, 1.31357, 1.31357, -1.18707, -1.18707, -2.02845, -2.02845], [0.0139137, -0.07, 0.156944, 0.25, -0.25, 0.243148, -0.249824, -0.102789, -0.102789, 0.902361, 0.902361, -2.13083, -2.13083, -1.77642, -1.77642], [0.0434451, -0.114973, -0.314021, 0.21524, -0.21524, 0.25, -0.246224, 0.531467, 0.531467, 1.87948, 1.87948, -1.13083, -1.13083, -1.98682, -1.98682], [0.0680427, -0.157732, -0.221031, 0.216863, -0.222821, 0.250001, -0.237905, -0.454225, -0.454225, 0.897918, 0.897918, -0.939925, -0.939925, -0.98682, -0.98682], [0.0994766, -0.174752, -0.13556, 0.2424, -0.232748, 0.242352, -0.237907, -1.44869, -1.44869, -0.102082, -0.102082, -0.158046, -0.158046, -1.95753, -1.95753], [0.134846, -0.169669, -0.0871118, 0.216664, -0.21524, 0.25, -0.239227, -2.23069, -2.23069, -1.10206, -1.10206, 0.49398, 0.49398, -2.93262, -2.93262], [0.1691, -0.146984, -0.163492, 0.25, -0.234644, 0.242355, -0.237896, -1.7392, -1.7392, -0.15248, -0.15248, 0.330536, 0.330536, -2.26909, -2.26909], [0.200637, -0.0978519, -0.310468, 0.215268, -0.215265, 0.24998, -0.249976, -0.764424, -0.764424, 0.831345, 0.831345, 0.673823, 0.673823, -1.93323, -1.93323], [0.200176, -0.0986209, 0.149383, 0.215236, -0.215236, 0.25, -0.237887, -1.32413, -1.32413, 0.431249, 0.431249, -0.0163267, -0.0163267, -1.27352, -1.27352], [0.200176, -0.0986209, 0.149383, 0.215236, -0.215236, 0.25, -0.237887, -1.32413, -1.32413, 0.431249, 0.431249, -0.0163267, -0.0163267, -1.27352, -1.27352]], Array{Float64,1}[[-2.86496e-15, 0.0, 0.0, 0.0, 0.0, 0.0, 0.0, 0.0, 0.0, 0.0, 0.0, 0.0, 0.0, 0.0, 0.0], [0.0885939, 0.434752, 0.0947176, 0.695285, -0.695285, -0.152948, -0.241546, 8.95171, 8.95171, -1.5778, -1.5778, -20.0, -20.0, -4.00131, -4.00131], [0.126706, 0.0483181, -4.43133, -0.639487, 0.639487, 0.152892, -0.000657732, 10.0515, 10.0515, 19.2242, 19.2242, -3.41487, -3.41487, -11.0973, -11.0973], [0.140219, 0.0684745, 4.48783, 0.639487, -0.639487, -0.136974, 0.00346472, 5.42367, 5.42367, -8.22422, -8.22422, -18.8752, -18.8752, 5.04051, 5.04051], [0.839579, -0.673043, -9.4193, -0.695201, 0.695201, 0.137034, 0.0719886, 12.6851, 12.6851, 19.5424, 19.5424, 20.0, 20.0, -4.20793, -4.20793], [0.667469, -0.726522, 1.85982, 0.0324653, -0.151619, 1.44135e-5, 0.166381, -19.7138, -19.7138, -19.6313, -19.6313, 3.81811, 3.81811, 20.0, 20.0], [0.668913, -0.252308, 1.70942, 0.510731, -0.198536, -0.152971, -3.65929e-5, -19.8893, -19.8893, -20.0, -20.0, 15.6376, 15.6376, -19.4141, -19.4141], [0.695866, 0.162821, 0.968955, -0.514714, 0.350154, 0.152956, -0.026394, -15.64, -15.64, -19.9996, -19.9996, 13.0405, 13.0405, -19.5019, -19.5019], [0.602095, 0.55915, -1.5276, 0.666718, -0.388078, -0.152894, 0.0266086, 9.82977, 9.82977, 18.9917, 18.9917, -3.26889, -3.26889, 13.2705, 13.2705], [0.300385, 1.12836, -2.93952, -0.694647, 0.38757, 0.152489, -0.241583, 19.4956, 19.4956, 19.6765, 19.6765, 6.86575, 6.86575, 6.71721, 6.71721], [-0.0114026, -0.0138371, 9.19701, -0.000637232, 0.000592379, 0.000400843, 0.241775, -11.1942, -11.1942, -8.00191, -8.00191, -13.803, -13.803, 13.1943, 13.1943], [-2.95842e-13, 0.0, 0.0, 0.0, 0.0, 0.0, 0.0, 0.0, 0.0, 0.0, 0.0, 0.0, 0.0, 0.0, 0.0]], Array{Float64,1}[[0.0, 0.0, 0.0, -0.00102367, 0.00112321, 0.00534041, 0.0612595, 0.0641653, 0.0642297, -0.023193, -0.0419611, -0.00576879, -0.00584322, -0.00929776, 0.0395646], [0.0, 0.0, 0.0, -0.53877, 0.550158, 0.0570766, 0.342506, -0.0145757, -0.0129112, 0.164939, -0.513963, -0.470802, -0.478539, -0.00831568, 0.394666], [0.0, 0.0, 0.0, -0.0275563, 0.0275563, 0.0829903, 0.59375, 0.0672802, 0.0672802, -0.0258267, -0.843259, -0.0081258, -0.0081258, -0.00988002, 0.542867], [0.0, 0.0, 0.0, -0.339628, 2.36304, 0.0107005, -0.00328592, -0.763332, -3.13966, 0.0976061, 0.0970974, -0.456214, -1.94743, -0.0111097, -0.0111876], [0.0, 0.0, 0.0, -0.0446767, 0.0443082, 0.0876006, 0.672007, -0.32718, -0.327102, -0.0857047, -0.569537, -0.066822, -0.066851, -0.0115779, 0.622519], [0.0, 0.0, 0.0, -0.00796368, 0.011409, 0.019386, -0.0184436, -0.00998126, -0.00942887, -0.0709401, -0.0705888, 0.00876036, 0.00892168, -0.07076, -0.0707661], [0.0, 0.0, 0.0, -0.0320542, 0.0298214, -0.00755661, 0.00913563, 0.0420041, 0.040586, -0.0177952, -0.0177488, 0.011673, 0.011463, 0.00892971, 0.00906964], [0.0, 0.0, 0.0, -0.0173058, 0.0191419, -0.0458025, 0.0386831, 0.162905, 0.163766, 0.276168, 0.275708, 0.029333, 0.029483, -0.00707752, -0.00699728], [0.0, 0.0, 0.0, 0.00888877, -0.0131075, 0.00591273, -0.00327527, 0.0931054, 0.0918942, 0.0645323, 0.0645723, 0.0460088, 0.0458512, -0.0329663, -0.0329209], [0.0, 0.0, 0.0, -0.280949, 0.292774, 0.278401, 2.08711, 0.275124, 0.289743, 0.0379275, -0.912155, -0.399068, -0.407767, -0.0493009, 1.6332], [0.0, 0.0, 0.0, -0.21746, 0.22421, -0.0512524, 0.044088, 0.416926, 0.42749, -0.0298226, -0.0309758, -0.331176, -0.337728, -0.00792852, -0.00812366]], [0.05, 0.05, 0.05, 0.05, 0.05, 0.05, 0.05, 0.05, 0.05, 0.05, 0.05], Array{Float64,1}[[0.000284983, 0.000392574, 3.03005e-5, 0.0707948], [0.65601, 0.667109, 0.000890628, 0.583184], [1.67477e-16, -8.77636e-15, 3.28932e-6, 0.799038], [0.677182, 2.81537, 5.17286e-14, 1.53076e-17], [4.82921e-16, -2.65192e-14, -1.32759e-6, 0.913604], [0.0, 0.0, 0.0, 0.0], [-1.34253e-14, -8.66823e-15, 6.81913e-14, -5.94571e-14], [-4.08758e-13, 5.53419e-13, -7.6173e-13, 6.23133e-13], [0.000313469, 0.000311588, -7.13991e-15, 7.47736e-15], [0.479327, 0.491817, 0.0, 2.4245], [0.468898, 0.478292, 1.97775e-5, 2.95501e-5]], Array{Float64,1}[], [0.0, 0.05, 0.1, 0.15, 0.2, 0.25, 0.3, 0.35, 0.4, 0.45, 0.5, 0.55], [0.0 0.00104027 … 0.200176 0.200176; -0.0986209 -0.0764609 … -0.0986209 -0.0986209; … ; 0.0 -4.00131 … 13.1943 0.0; 0.0 -4.00131 … 13.1943 0.0], [0.0, -0.0986209, 0.149383, 0.215236, -0.215236, 0.25, -0.237887, -1.32413, -1.32413, 0.431249  …  0.0, 0.0, 0.0, 0.0, 0.0, 0.0, 0.0, 0.0, 0.0, 0.0])"
      ]
     },
     "metadata": {},
     "output_type": "display_data"
    },
    {
     "name": "stdout",
     "output_type": "stream",
     "text": [
      " 41.013594 seconds (156.45 M allocations: 34.050 GiB, 23.83% gc time)\n"
     ]
    },
    {
     "name": "stderr",
     "output_type": "stream",
     "text": [
      "┌ Error: error handling request\n",
      "│   exception = (Base.IOError(\"stream is closed or unusable\", 0), Base.StackTraces.StackFrame[check_open at stream.jl:323 [inlined], uv_write_async(::TCPSocket, ::Ptr{UInt8}, ::UInt64) at stream.jl:871, uv_write(::TCPSocket, ::Ptr{UInt8}, ::UInt64) at stream.jl:845, unsafe_write(::TCPSocket, ::Ptr{UInt8}, ::UInt64) at stream.jl:901, unsafe_write at ConnectionPool.jl:134 [inlined], macro expansion at gcutils.jl:87 [inlined], write at io.jl:165 [inlined], closebody at Streams.jl:111 [inlined], closewrite(::Stream{Request,Transaction{TCPSocket}}) at Streams.jl:126, (::##13#14{#_servercoroutine#11{ServerWS},Transaction{TCPSocket},Stream{Request,Transaction{TCPSocket}}})() at task.jl:259])\n",
      "└ @ HTTP.Servers /home/blandry/.julia/packages/HTTP/wY7Vc/src/Servers.jl:364\n"
     ]
    }
   ],
   "source": [
    "x0 = get_prob_init(sim_data);\n",
    "display(@time traj_semidirect = Bilevel.trajopt(sim_data, x0=x0, x_min=x_min, x_max=x_max, verbose=1, opt_tol=obj_tol, major_feas=con_tol, minor_feas=con_tol, max_iter=max_iter))"
   ]
  },
  {
   "cell_type": "code",
   "execution_count": 40,
   "metadata": {},
   "outputs": [],
   "source": [
    "setanimation!(mvis, traj_semidirect[7], traj_semidirect[1])"
   ]
  },
  {
   "cell_type": "code",
   "execution_count": 41,
   "metadata": {},
   "outputs": [
    {
     "data": {
      "text/plain": [
       "1"
      ]
     },
     "execution_count": 41,
     "metadata": {},
     "output_type": "execute_result"
    }
   ],
   "source": [
    "qi = 1"
   ]
  },
  {
   "cell_type": "code",
   "execution_count": 53,
   "metadata": {},
   "outputs": [
    {
     "data": {
      "text/plain": [
       "13"
      ]
     },
     "execution_count": 53,
     "metadata": {},
     "output_type": "execute_result"
    },
    {
     "name": "stderr",
     "output_type": "stream",
     "text": [
      "Error handling websocket connection:\n",
      "\u001b[91mWebSockets.WebSocketClosedError(\"ws|server respond to OPCODE_CLOSE 1001:Going Away\")\u001b[39m\n",
      "Stacktrace:\n",
      " [1] \u001b[1mtry_yieldto\u001b[22m\u001b[1m(\u001b[22m::typeof(Base.ensure_rescheduled), ::Base.RefValue{Task}\u001b[1m)\u001b[22m at \u001b[1m./event.jl:196\u001b[22m\n",
      " [2] \u001b[1mwait\u001b[22m\u001b[1m(\u001b[22m\u001b[1m)\u001b[22m at \u001b[1m./event.jl:255\u001b[22m\n",
      " [3] \u001b[1mwait\u001b[22m\u001b[1m(\u001b[22m::Condition\u001b[1m)\u001b[22m at \u001b[1m./event.jl:46\u001b[22m\n",
      " [4] \u001b[1mwait\u001b[22m\u001b[1m(\u001b[22m::Task\u001b[1m)\u001b[22m at \u001b[1m./task.jl:188\u001b[22m\n",
      " [5] \u001b[1mcreate_socket\u001b[22m\u001b[1m(\u001b[22m::Dict{Any,Any}\u001b[1m)\u001b[22m at \u001b[1m/home/blandry/.julia/packages/WebIO/Rk8wc/src/providers/mux.jl:44\u001b[22m\n",
      " [6] \u001b[1m(::getfield(Mux, Symbol(\"##5#6\")){getfield(Mux, Symbol(\"##28#29\")){Array{SubString{String},1}},typeof(WebIO.create_socket)})\u001b[22m\u001b[1m(\u001b[22m::Function, ::Dict{Any,Any}\u001b[1m)\u001b[22m at \u001b[1m/home/blandry/.julia/packages/Mux/FeATY/src/Mux.jl:17\u001b[22m\n",
      " [7] \u001b[1m#1\u001b[22m at \u001b[1m/home/blandry/.julia/packages/Mux/FeATY/src/Mux.jl:10\u001b[22m [inlined]\n",
      " [8] \u001b[1msplitquery\u001b[22m\u001b[1m(\u001b[22m::getfield(Mux, Symbol(\"##1#2\")){getfield(Mux, Symbol(\"##5#6\")){getfield(Mux, Symbol(\"##28#29\")){Array{SubString{String},1}},typeof(WebIO.create_socket)},getfield(Mux, Symbol(\"##1#2\")){typeof(Mux.wclose),getfield(Mux, Symbol(\"##1#2\")){getfield(Mux, Symbol(\"##18#19\")){getfield(Mux, Symbol(\"##22#23\")){Symbol,Int64}},getfield(Mux, Symbol(\"##20#21\")){String}}}}, ::Dict{Any,Any}\u001b[1m)\u001b[22m at \u001b[1m/home/blandry/.julia/packages/Mux/FeATY/src/basics.jl:34\u001b[22m\n",
      " [9] \u001b[1m#1\u001b[22m at \u001b[1m/home/blandry/.julia/packages/Mux/FeATY/src/Mux.jl:10\u001b[22m [inlined]\n",
      " [10] \u001b[1mwcatch\u001b[22m\u001b[1m(\u001b[22m::getfield(Mux, Symbol(\"##1#2\")){typeof(Mux.splitquery),getfield(Mux, Symbol(\"##1#2\")){getfield(Mux, Symbol(\"##5#6\")){getfield(Mux, Symbol(\"##28#29\")){Array{SubString{String},1}},typeof(WebIO.create_socket)},getfield(Mux, Symbol(\"##1#2\")){typeof(Mux.wclose),getfield(Mux, Symbol(\"##1#2\")){getfield(Mux, Symbol(\"##18#19\")){getfield(Mux, Symbol(\"##22#23\")){Symbol,Int64}},getfield(Mux, Symbol(\"##20#21\")){String}}}}}, ::Dict{Any,Any}\u001b[1m)\u001b[22m at \u001b[1m/home/blandry/.julia/packages/Mux/FeATY/src/websockets_integration.jl:12\u001b[22m\n",
      " [11] \u001b[1m#1\u001b[22m at \u001b[1m/home/blandry/.julia/packages/Mux/FeATY/src/Mux.jl:10\u001b[22m [inlined]\n",
      " [12] \u001b[1mtodict\u001b[22m at \u001b[1m/home/blandry/.julia/packages/Mux/FeATY/src/basics.jl:25\u001b[22m [inlined]\n",
      " [13] \u001b[1m#3\u001b[22m at \u001b[1m/home/blandry/.julia/packages/Mux/FeATY/src/Mux.jl:14\u001b[22m [inlined] (repeats 2 times)\n",
      " [14] \u001b[1m(::getfield(Mux, Symbol(\"##1#2\")){getfield(Mux, Symbol(\"##3#4\")){getfield(Mux, Symbol(\"##3#4\")){typeof(Mux.todict),typeof(Mux.wcatch)},typeof(Mux.splitquery)},getfield(Mux, Symbol(\"##1#2\")){getfield(Mux, Symbol(\"##5#6\")){getfield(Mux, Symbol(\"##28#29\")){Array{SubString{String},1}},typeof(WebIO.create_socket)},getfield(Mux, Symbol(\"##1#2\")){typeof(Mux.wclose),getfield(Mux, Symbol(\"##1#2\")){getfield(Mux, Symbol(\"##18#19\")){getfield(Mux, Symbol(\"##22#23\")){Symbol,Int64}},getfield(Mux, Symbol(\"##20#21\")){String}}}}})\u001b[22m\u001b[1m(\u001b[22m::Tuple{HTTP.Messages.Request,WebSockets.WebSocket{Sockets.TCPSocket}}\u001b[1m)\u001b[22m at \u001b[1m/home/blandry/.julia/packages/Mux/FeATY/src/Mux.jl:10\u001b[22m\n",
      " [15] \u001b[1m(::getfield(Mux, Symbol(\"##9#10\")){Mux.App})\u001b[22m\u001b[1m(\u001b[22m::HTTP.Messages.Request, ::WebSockets.WebSocket{Sockets.TCPSocket}\u001b[1m)\u001b[22m at \u001b[1m/home/blandry/.julia/packages/Mux/FeATY/src/server.jl:49\u001b[22m\n",
      " [16] \u001b[1mupgrade\u001b[22m\u001b[1m(\u001b[22m::getfield(Mux, Symbol(\"##9#10\")){Mux.App}, ::HTTP.Streams.Stream{HTTP.Messages.Request,HTTP.ConnectionPool.Transaction{Sockets.TCPSocket}}\u001b[1m)\u001b[22m at \u001b[1m/home/blandry/.julia/packages/WebSockets/pc4iW/src/HTTP.jl:201\u001b[22m\n",
      " [17] \u001b[1m(::getfield(WebSockets, Symbol(\"#_servercoroutine#11\")){WebSockets.ServerWS})\u001b[22m\u001b[1m(\u001b[22m::HTTP.Streams.Stream{HTTP.Messages.Request,HTTP.ConnectionPool.Transaction{Sockets.TCPSocket}}\u001b[1m)\u001b[22m at \u001b[1m/home/blandry/.julia/packages/WebSockets/pc4iW/src/HTTP.jl:370\u001b[22m\n",
      " [18] \u001b[1mmacro expansion\u001b[22m at \u001b[1m/home/blandry/.julia/packages/HTTP/wY7Vc/src/Servers.jl:360\u001b[22m [inlined]\n",
      " [19] \u001b[1m(::getfield(HTTP.Servers, Symbol(\"##13#14\")){getfield(WebSockets, Symbol(\"#_servercoroutine#11\")){WebSockets.ServerWS},HTTP.ConnectionPool.Transaction{Sockets.TCPSocket},HTTP.Streams.Stream{HTTP.Messages.Request,HTTP.ConnectionPool.Transaction{Sockets.TCPSocket}}})\u001b[22m\u001b[1m(\u001b[22m\u001b[1m)\u001b[22m at \u001b[1m./task.jl:259\u001b[22m"
     ]
    }
   ],
   "source": [
    "q = traj_semidirect[1][qi]\n",
    "set_configuration!(mvis, q) \n",
    "qi += 1"
   ]
  },
  {
   "cell_type": "code",
   "execution_count": null,
   "metadata": {},
   "outputs": [],
   "source": [
    "function run_trajopt()\n",
    "    Bilevel.solve_rosenbrock() # clearing SNOPT\n",
    "    Bilevel.trajopt(sim_data, x0=x0, x_min=x_min, x_max=x_max, verbose=0, opt_tol=obj_tol, major_feas=con_tol, minor_feas=con_tol, max_iter=max_iter)\n",
    "end\n",
    "\n",
    "@benchmark run_trajopt()"
   ]
  },
  {
   "cell_type": "code",
   "execution_count": null,
   "metadata": {},
   "outputs": [],
   "source": [
    "maximum(abs.(vcat(traj_semidirect[2]...)))"
   ]
  },
  {
   "cell_type": "code",
   "execution_count": null,
   "metadata": {},
   "outputs": [],
   "source": [
    "cntraj = hcat(traj_semidirect[5]...)\n",
    "front_traj = cntraj[1,:] .+ cntraj[2,:]\n",
    "back_traj = cntraj[3,:] .+ cntraj[4,:];"
   ]
  },
  {
   "cell_type": "code",
   "execution_count": null,
   "metadata": {},
   "outputs": [],
   "source": [
    "xlabel=latexstring(\"t\")\n",
    "ylabel=latexstring(\"c_n\")\n",
    "plot(traj_semidirect[7][1:end-1],front_traj,label=\"Front legs\",seriescolor=RGB(((227,174,51) ./ 255.)...),linewidth=6,marker=6,xlabel=xlabel)\n",
    "plot!(traj_semidirect[7][1:end-1],back_traj,label=\"Back legs\",seriescolor=RGB(((154,132,200) ./ 255.)...),linewidth=6,marker=6,ylabel=ylabel)"
   ]
  },
  {
   "cell_type": "code",
   "execution_count": null,
   "metadata": {},
   "outputs": [],
   "source": [
    "savefig(string(\"littledog_3.svg\")) "
   ]
  },
  {
   "cell_type": "code",
   "execution_count": null,
   "metadata": {},
   "outputs": [],
   "source": [
    "xlabel=latexstring(\"x\")\n",
    "ylabel=latexstring(\"z\")\n",
    "plot(traj_semidirect[8][1,:],-traj_semidirect[8][2,:],front_traj,label=\"Torso center of mass position\",seriescolor=RGB(((127,174,51) ./ 255.)...),linewidth=6,marker=6,xlabel=xlabel,ylabel=ylabel)"
   ]
  },
  {
   "cell_type": "code",
   "execution_count": null,
   "metadata": {},
   "outputs": [],
   "source": [
    "savefig(string(\"littledogcom_3.svg\")) "
   ]
  },
  {
   "cell_type": "code",
   "execution_count": null,
   "metadata": {},
   "outputs": [],
   "source": [
    "t_step = traj_semidirect[7]\n",
    "q_step = traj_semidirect[1]\n",
    "u_step = traj_semidirect[2][2:end];"
   ]
  },
  {
   "cell_type": "code",
   "execution_count": null,
   "metadata": {},
   "outputs": [],
   "source": [
    "# Multi-steps\n",
    "\n",
    "reps = 3\n",
    "\n",
    "ttraj = t_step\n",
    "qtraj = q_step\n",
    "utraj = u_step\n",
    "for i = 1:(reps-1)\n",
    "    ttraj = vcat(ttraj, t_step .+ ttraj[end])\n",
    "    qtraj = vcat(qtraj, map(q -> q + vcat(qtraj[end][1],zeros(length(q)-1)), q_step))\n",
    "    utraj = vcat(utraj, u_step)\n",
    "end\n",
    "\n",
    "setanimation!(mvis, ttraj, qtraj)"
   ]
  },
  {
   "cell_type": "code",
   "execution_count": null,
   "metadata": {},
   "outputs": [],
   "source": [
    "# Indirect\n",
    "\n",
    "sim_data = get_trajopt_data_indirect(mechanism,env,Δt,N,relax_comp=true)\n",
    "x0, x_min, x_max = setup_prob!(sim_data);"
   ]
  },
  {
   "cell_type": "code",
   "execution_count": null,
   "metadata": {},
   "outputs": [],
   "source": [
    "con_tol = 1e-5\n",
    "obj_tol = 1e-5\n",
    "max_iter = 1000\n",
    "\n",
    "display(@time traj_indirect = Bilevel.trajopt(sim_data, x0=x0, x_min=x_min, x_max=x_max, verbose=1, opt_tol=obj_tol, major_feas=con_tol, minor_feas=con_tol, max_iter=max_iter))\n",
    "\n",
    "x0 = traj_indirect[9]\n",
    "\n",
    "setanimation!(mvis, traj_indirect[7], traj_indirect[1])"
   ]
  },
  {
   "cell_type": "code",
   "execution_count": null,
   "metadata": {},
   "outputs": [],
   "source": [
    "function run_trajopt()\n",
    "    Bilevel.solve_rosenbrock() # clearing SNOPT\n",
    "    Bilevel.trajopt(sim_data, x0=x0, x_min=x_min, x_max=x_max, verbose=0, opt_tol=obj_tol, major_feas=con_tol, minor_feas=con_tol, max_iter=max_iter)\n",
    "end\n",
    "\n",
    "@benchmark run_trajopt()"
   ]
  },
  {
   "cell_type": "code",
   "execution_count": null,
   "metadata": {},
   "outputs": [],
   "source": [
    "setanimation!(mvis, traj_indirect[7], traj_indirect[1])"
   ]
  },
  {
   "cell_type": "code",
   "execution_count": null,
   "metadata": {},
   "outputs": [],
   "source": [
    "t_step = traj_indirect[7]\n",
    "q_step = traj_indirect[1]\n",
    "u_step = traj_indirect[2][2:end];"
   ]
  }
 ],
 "metadata": {
  "kernelspec": {
   "display_name": "Julia 1.1.0",
   "language": "julia",
   "name": "julia-1.1"
  },
  "language_info": {
   "file_extension": ".jl",
   "mimetype": "application/julia",
   "name": "julia",
   "version": "1.1.0"
  }
 },
 "nbformat": 4,
 "nbformat_minor": 2
}
