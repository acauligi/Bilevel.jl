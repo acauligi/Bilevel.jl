{
 "cells": [
  {
   "cell_type": "code",
   "execution_count": 2,
   "metadata": {},
   "outputs": [],
   "source": [
    "using Revise\n",
    "using Bilevel\n",
    "\n",
    "using RigidBodyDynamics\n",
    "using MeshCatMechanisms\n",
    "using MeshCat\n",
    "using Plots\n",
    "using LinearAlgebra\n",
    "using StaticArrays\n",
    "using BenchmarkTools\n",
    "using LaTeXStrings"
   ]
  },
  {
   "cell_type": "markdown",
   "metadata": {},
   "source": [
    "# Simulation of sliding box"
   ]
  },
  {
   "cell_type": "code",
   "execution_count": null,
   "metadata": {},
   "outputs": [],
   "source": [
    "urdf = joinpath(\"..\", \"..\", \"urdf\", \"ball2d.urdf\")\n",
    "mechanism = parse_urdf(Float64, urdf)\n",
    "\n",
    "floor = findbody(mechanism, \"floor\")\n",
    "point = Point3D(default_frame(floor), SVector([0.,0.,0.]...))\n",
    "normal = FreeVector3D(default_frame(floor), SVector([0.,0.,1.]...))\n",
    "floor_obs = Obstacle(floor, point, normal, :xyz, 1.)\n",
    "\n",
    "obstacles = [floor_obs]\n",
    "env = Environment(mechanism, urdf, obstacles);"
   ]
  },
  {
   "cell_type": "code",
   "execution_count": null,
   "metadata": {},
   "outputs": [],
   "source": [
    "mvis = MechanismVisualizer(mechanism, URDFVisuals(urdf))\n",
    "# open(mvis)"
   ]
  },
  {
   "cell_type": "code",
   "execution_count": null,
   "metadata": {},
   "outputs": [],
   "source": [
    "N = 10\n",
    "Δt = 0.1\n",
    "# q0 = [0., 0., 0.]\n",
    "q0 = [0., 0.2, 0.]\n",
    "v0 = [8., 0., 0.];"
   ]
  },
  {
   "cell_type": "code",
   "execution_count": null,
   "metadata": {},
   "outputs": [],
   "source": [
    "# Indirect\n",
    "\n",
    "sim_data = get_sim_data_indirect(mechanism,env,Δt,relax_comp=true)\n",
    "null_ctrl! = (u,t,x) -> u[:] .= 0.\n",
    "x0 = MechanismState(mechanism)\n",
    "set_configuration!(x0, q0)\n",
    "set_velocity!(x0, v0)\n",
    "setdirty!(x0)\n",
    "sim_indirect = Bilevel.simulate(sim_data,null_ctrl!,x0,N)"
   ]
  },
  {
   "cell_type": "code",
   "execution_count": null,
   "metadata": {},
   "outputs": [],
   "source": [
    "@benchmark sim_indirect = Bilevel.simulate(sim_data,null_ctrl!,x0,N)"
   ]
  },
  {
   "cell_type": "code",
   "execution_count": null,
   "metadata": {},
   "outputs": [],
   "source": [
    "setanimation!(mvis, sim_indirect[6], sim_indirect[1])"
   ]
  },
  {
   "cell_type": "code",
   "execution_count": null,
   "metadata": {},
   "outputs": [],
   "source": [
    "# Direct\n",
    "\n",
    "sim_data = get_sim_data_direct(mechanism,env,Δt)\n",
    "null_ctrl! = (u,t,x) -> u[:] .= 0.\n",
    "x0 = MechanismState(mechanism)\n",
    "set_configuration!(x0, q0)\n",
    "set_velocity!(x0, v0)\n",
    "setdirty!(x0)\n",
    "sim_direct = Bilevel.simulate(sim_data,null_ctrl!,x0,N)"
   ]
  },
  {
   "cell_type": "code",
   "execution_count": null,
   "metadata": {},
   "outputs": [],
   "source": [
    "@benchmark sim_direct = Bilevel.simulate(sim_data,null_ctrl!,x0,N)"
   ]
  },
  {
   "cell_type": "code",
   "execution_count": null,
   "metadata": {},
   "outputs": [],
   "source": [
    "setanimation!(mvis, sim_direct[6], sim_direct[1])"
   ]
  },
  {
   "cell_type": "code",
   "execution_count": null,
   "metadata": {},
   "outputs": [],
   "source": [
    "j = 1\n",
    "plot(sim_indirect[6],sim_indirect[8][j,:],label=\"Indirect\",seriescolor=RGB(((227,74,51) ./ 255.)...),linewidth=0,marker=6)\n",
    "plot!(sim_direct[6],sim_direct[8][j,:],label=\"Direct\",seriescolor=RGB(((254,232,200) ./ 255.)...),linewidth=1,marker=4)"
   ]
  },
  {
   "cell_type": "code",
   "execution_count": null,
   "metadata": {},
   "outputs": [],
   "source": [
    "sim_indirect[1][end]"
   ]
  },
  {
   "cell_type": "markdown",
   "metadata": {},
   "source": [
    "# Trajectory optimization of sliding box"
   ]
  },
  {
   "cell_type": "code",
   "execution_count": 2,
   "metadata": {},
   "outputs": [],
   "source": [
    "urdf = joinpath(\"..\", \"..\", \"urdf\", \"ball2d.urdf\")\n",
    "mechanism = parse_urdf(Float64, urdf)\n",
    "\n",
    "floor = findbody(mechanism, \"floor\")\n",
    "point = Point3D(default_frame(floor), SVector([0.,0.,0.]...))\n",
    "normal = FreeVector3D(default_frame(floor), SVector([0.,0.,1.]...))\n",
    "floor_obs = Obstacle(floor, point, normal, :xyz, 1.)\n",
    "\n",
    "obstacles = [floor_obs]\n",
    "env = Environment(mechanism, urdf, obstacles);"
   ]
  },
  {
   "cell_type": "code",
   "execution_count": 3,
   "metadata": {},
   "outputs": [
    {
     "data": {
      "text/plain": [
       "MechanismVisualizer{MechanismState{Float64,Float64,Float64,TypeSortedCollections.TypeSortedCollection{Tuple{Array{Joint{Float64,Fixed{Float64}},1},Array{Joint{Float64,Planar{Float64}},1}},2}},Visualizer}(MechanismState{Float64, Float64, Float64, …}(…), MeshCat Visualizer with path /meshcat, 2)"
      ]
     },
     "execution_count": 3,
     "metadata": {},
     "output_type": "execute_result"
    }
   ],
   "source": [
    "mvis = MechanismVisualizer(mechanism, URDFVisuals(urdf))\n",
    "# open(mvis)"
   ]
  },
  {
   "cell_type": "code",
   "execution_count": 60,
   "metadata": {},
   "outputs": [
    {
     "data": {
      "text/plain": [
       "get_prob_init (generic function with 1 method)"
      ]
     },
     "execution_count": 60,
     "metadata": {},
     "output_type": "execute_result"
    }
   ],
   "source": [
    "# qN = [3.0, 0., 0.]\n",
    "# N = 10\n",
    "\n",
    "# qN = [3.0, 0., 0.]\n",
    "# N = 15\n",
    "\n",
    "qN = [3.0, 0., 0.]\n",
    "N = 20\n",
    "\n",
    "# qN = [3.0, 0., 0.]\n",
    "# N = 25\n",
    "\n",
    "# qN = [5.0, 0., 0.]\n",
    "# N = 30\n",
    "\n",
    "# qN = [10.0, 0., 0.]\n",
    "# N = 35\n",
    "\n",
    "# qN = [15.0, 0., 0.]\n",
    "# N = 40\n",
    "\n",
    "q1 = [0., 0.2, 0.]\n",
    "Δt = 0.1\n",
    "\n",
    "q_min = [-10., -10., -10.]\n",
    "q_max = [10., 10., 10.]\n",
    "\n",
    "function get_prob_limits(sim_data)\n",
    "    x_min = -1e19*ones(sim_data.vs.num_vars)\n",
    "    x_max = 1e19*ones(sim_data.vs.num_vars)\n",
    "    \n",
    "    # joint limits\n",
    "    add_box_con_snopt!(x_min, x_max, sim_data, :q, q_min, q_max, 1:N)\n",
    "    add_box_con_snopt!(x_min, x_max, sim_data, :h, [Δt], [Δt], 1:N-1)\n",
    "    \n",
    "    # torques limits\n",
    "    add_box_con_snopt!(x_min, x_max, sim_data, :u, zeros(num_velocities(mechanism)), zeros(num_velocities(mechanism)), 1:N-1)\n",
    "\n",
    "    x_min, x_max\n",
    "end\n",
    "\n",
    "function add_prob_constraints!(sim_data)\n",
    "    vs = sim_data.vs\n",
    "\n",
    "    add_eq!(sim_data, :cq1, length(q1), x -> vs(x, :q1) - q1)\n",
    "    add_eq!(sim_data, :cv1, 1, x -> vs(x, :v1)[2])\n",
    "    add_eq!(sim_data, :cqN, 2, x -> vs(x, Symbol(\"q\", N))[1:2] - qN[1:2])\n",
    "    add_eq!(sim_data, :cvN, 1, x -> vs(x, Symbol(\"v\", N))[1])\n",
    "end\n",
    "\n",
    "function get_prob_init(sim_data)\n",
    "    x0 = zeros(sim_data.vs.num_vars)\n",
    "    for n = 1:N\n",
    "        x0[sim_data.vs(Symbol(\"q\", n))] .= n/N*(qN - q1) + q1\n",
    "    end\n",
    "    \n",
    "    x0\n",
    "end"
   ]
  },
  {
   "cell_type": "code",
   "execution_count": 61,
   "metadata": {},
   "outputs": [
    {
     "name": "stdout",
     "output_type": "stream",
     "text": [
      "Finished successfully: optimality conditions satisfied\n",
      "  5.262999 seconds (39.06 M allocations: 4.104 GiB, 24.83% gc time)\n"
     ]
    },
    {
     "data": {
      "text/plain": [
       "(Array{Float64,1}[[0.0, 0.2, 0.0], [0.913992, 0.10325, -0.176602], [1.70382, -5.16988e-26, -0.353205], [2.21499, 7.12856e-12, -0.529807], [2.59794, -1.44769e-6, -0.70641], [2.85493, -7.11184e-12, -0.883012], [2.98822, -3.1244e-7, -1.05961], [3.0, -7.63671e-18, -1.23622], [3.0, 0.0, -1.41282], [3.0, 4.53597e-11, -1.58942], [3.0, 0.0, -1.76602], [3.0, 0.0, -1.94263], [3.0, 0.0, -2.11923], [3.0, 2.20031e-7, -2.29583], [3.0, -1.34381e-11, -2.47243], [3.0, 0.0, -2.64904], [3.0, 5.30539e-7, -2.82564], [3.0, 2.97201e-7, -3.00224], [3.0, -9.79272e-14, -3.17884], [3.0, 0.0, -3.35545]], Array{Float64,1}[[9.11077, 0.0, -1.76602], [9.16774, 0.653303, -1.76602], [7.76786, 1.7633, -1.76602], [4.41093, 2.58329, -1.76602], [2.91307, 2.48572, -1.76602], [1.63146, 1.98569, -1.76602], [0.652059, 1.16249, -1.76602], [0.038675, 0.111256, -1.76602], [3.15199e-14, 2.04332e-13, -1.76602], [-4.41608e-10, -6.36717e-10, -1.76602], [6.15823e-10, -7.74294e-10, -1.76602], [9.89808e-12, -2.53524e-11, -1.76602], [-3.85282e-10, 6.30002e-10, -1.76602], [-1.64766e-6, -1.45827e-6, -1.76602], [1.36464e-6, 1.72618e-6, -1.76602], [6.02327e-10, -4.753e-10, -1.76602], [-1.6483e-6, -5.04285e-6, -1.76602], [3.23868e-7, 2.3108e-6, -1.76602], [-1.11129e-7, 2.96993e-6, -1.76602], [0.0, 1.90849e-14, -1.76602]], Array{Float64,1}[[0.0, 0.0, 0.0], [0.0, 0.0, 0.0], [0.0, 0.0, 0.0], [0.0, 0.0, 0.0], [0.0, 0.0, 0.0], [0.0, 0.0, 0.0], [0.0, 0.0, 0.0], [0.0, 0.0, 0.0], [0.0, 0.0, 0.0], [0.0, 0.0, 0.0], [0.0, 0.0, 0.0], [0.0, 0.0, 0.0], [0.0, 0.0, 0.0], [0.0, 0.0, 0.0], [0.0, 0.0, 0.0], [0.0, 0.0, 0.0], [0.0, 0.0, 0.0], [0.0, 0.0, 0.0], [0.0, 0.0, 0.0]], [0.1, 0.1, 0.1, 0.1, 0.1, 0.1, 0.1, 0.1, 0.1, 0.1, 0.1, 0.1, 0.1, 0.1, 0.1, 0.1, 0.1, 0.1, 0.1], Array{Float64,1}[[-2.36805e-21, -3.5451e-21, -1.42172e-22, -1.99868e-22, -1.42068e-22, 20.2475], [1.13339, 2.69755e-21, 1.21436e-20, 1.13339, 1.08656e-20, 7.89828], [2.53039, 9.69352e-26, 1.41098e-17, 2.53039, 0.0, 5.11172], [1.22604, 0.0, -7.75482e-26, 1.22604, 2.58494e-26, 3.82947], [1.22319, -1.89917e-17, -8.42927e-19, 1.22319, -8.42927e-19, 2.56995], [1.22028, 6.23457e-15, 1.24484e-14, 1.22028, 1.24484e-14, 1.33288], [1.21751, 1.94399e-6, 3.88777e-6, 1.2175, 3.88777e-6, 0.117787], [1.02109, 0.451445, 0.0, 0.569646, 0.0, 2.06871e-13], [1.0, 0.491812, 0.0163762, 0.491812, 0.0, 1.32567e-12], [1.0, 0.174676, 0.034843, 0.174676, 0.0, 1.73472e-18], [1.0, 0.195066, 0.312754, 0.195066, 0.295681, 0.0], [1.0, 0.176176, 0.323734, 0.176176, 0.323915, 9.23518e-21], [1.0, 0.173658, 0.326344, 0.173657, 0.326344, 2.18692e-12], [0.999996, 0.151676, 0.342964, 0.151677, 0.353678, 1.50126e-18], [1.0, 0.159382, 0.321456, 0.159382, 0.321456, -2.40811e-18], [1.00001, 0.153737, 0.0586431, 0.153736, 0.206203, -1.85211e-18], [0.999992, 0.378506, 0.00075517, 0.378507, 0.0, 6.47269e-23], [0.999999, 0.196067, 0.303932, 0.196067, 0.303932, -8.3235e-24], [1.0, 0.161452, 4.30211e-16, 0.161452, 1.64858e-10, 1.41238e-15]], Array{Float64,1}[[0.0, -2.87859e-21, 0.0], [0.0, 0.0, 0.0], [0.0, 0.0, 9.54098e-17], [0.0, 0.0, 1.07364e-16], [0.0, -8.32667e-17, 2.99749e-17], [0.0, 1.6786e-14, 1.27392e-16], [0.0, -7.42485e-12, -1.77444e-16], [0.0, 1.13987e-14, 0.0], [0.0, 6.6967e-13, 0.0], [0.0, -1.17658e-12, -8.47033e-22], [0.0, 1.9134e-14, 0.0], [0.0, 0.0, 5.42101e-20], [0.0, 0.0, 2.71051e-20], [0.0, 5.14573e-19, 0.0], [0.0, -2.58536e-13, -4.78574e-20], [0.0, -6.50521e-19, 0.0], [0.0, 0.0, 1.57164e-23], [0.0, -2.18093e-13, 0.0], [0.0, -2.24904e-14, 8.83546e-16]], [0.0, 0.1, 0.2, 0.3, 0.4, 0.5, 0.6, 0.7, 0.8, 0.9, 1.0, 1.1, 1.2, 1.3, 1.4, 1.5, 1.6, 1.7, 1.8, 1.9], [0.0 0.913992 … 3.0 3.0; 0.2 0.10325 … -9.79272e-14 0.0; … ; 0.0 0.653303 … 2.96993e-6 1.90849e-14; -1.76602 -1.76602 … -1.76602 -1.76602], [0.0, 0.2, 0.0, 9.11077, 0.0, -1.76602, 0.0, 0.0, 0.0, 0.1  …  0.161452, 1.64858e-10, 1.41238e-15, 1.0, 3.0, 0.0, -3.35545, 0.0, 1.90849e-14, -1.76602])"
      ]
     },
     "execution_count": 61,
     "metadata": {},
     "output_type": "execute_result"
    }
   ],
   "source": [
    "# Indirect\n",
    "con_tol = 1e-5\n",
    "obj_tol = 1e-5\n",
    "max_iter = 5000\n",
    "\n",
    "sim_data = get_trajopt_data_indirect(mechanism,env,Δt,N,relax_comp=true)\n",
    "add_prob_constraints!(sim_data)\n",
    "x_min, x_max = get_prob_limits(sim_data)\n",
    "x0 = get_prob_init(sim_data)\n",
    "\n",
    "@time traj_indirect = Bilevel.trajopt(sim_data, x0=x0, x_min=x_min, x_max=x_max, verbose=1, opt_tol=obj_tol, major_feas=con_tol, minor_feas=con_tol, max_iter=max_iter)"
   ]
  },
  {
   "cell_type": "code",
   "execution_count": 62,
   "metadata": {},
   "outputs": [
    {
     "data": {
      "text/plain": [
       "BenchmarkTools.Trial: \n",
       "  memory estimate:  307.84 MiB\n",
       "  allocs estimate:  1804743\n",
       "  --------------\n",
       "  minimum time:     539.807 ms (41.40% GC)\n",
       "  median time:      550.904 ms (40.68% GC)\n",
       "  mean time:        555.418 ms (40.42% GC)\n",
       "  maximum time:     585.589 ms (39.02% GC)\n",
       "  --------------\n",
       "  samples:          10\n",
       "  evals/sample:     1"
      ]
     },
     "execution_count": 62,
     "metadata": {},
     "output_type": "execute_result"
    }
   ],
   "source": [
    "function run_trajopt()\n",
    "    Bilevel.solve_rosenbrock() # clearing SNOPT\n",
    "    Bilevel.trajopt(sim_data, x0=x0, x_min=x_min, x_max=x_max, verbose=0, opt_tol=obj_tol, major_feas=con_tol, minor_feas=con_tol, max_iter=max_iter)\n",
    "end\n",
    "\n",
    "@benchmark run_trajopt()"
   ]
  },
  {
   "cell_type": "code",
   "execution_count": 63,
   "metadata": {},
   "outputs": [],
   "source": [
    "Bilevel.solve_rosenbrock(); # clearing SNOPT"
   ]
  },
  {
   "cell_type": "code",
   "execution_count": 64,
   "metadata": {},
   "outputs": [
    {
     "name": "stdout",
     "output_type": "stream",
     "text": [
      "Finished successfully: optimality conditions satisfied\n",
      "  1.300300 seconds (4.85 M allocations: 815.489 MiB, 16.35% gc time)\n"
     ]
    },
    {
     "data": {
      "text/plain": [
       "(Array{Float64,1}[[0.0, 0.2, 0.0], [0.788413, 0.101904, 0.00654716], [1.48311, 6.60077e-7, 0.0130943], [1.97965, 0.0, 0.0196415], [2.37873, 2.17771e-7, 0.0261887], [2.68033, 0.0, 0.0327358], [2.88447, 0.0, 0.039283], [2.99114, 0.0, 0.0458301], [3.00035, 0.0, 0.0523773], [2.99999, 8.38593e-7, 0.0589245], [3.0, 1.44661e-6, 0.0654716], [3.0, 1.79496e-6, 0.0720188], [3.0, 1.86964e-6, 0.078566], [3.0, 1.70692e-6, 0.0851131], [3.0, 1.36013e-6, 0.0916603], [3.0, 8.9465e-7, 0.0982075], [3.0, 3.95022e-7, 0.104755], [3.0, 0.0, 0.111302], [3.0, 0.0, 0.117849], [3.0, 0.0, 0.124396]], Array{Float64,1}[[7.89072, 0.0, 0.0654716], [7.87753, -1.03255, 0.0654716], [6.93301, -1.10991, 0.0654716], [4.96451, -0.0975295, 0.0654716], [3.98938, -0.104498, 0.0654716], [3.01443, -0.0987174, 0.0654716], [2.03979, -0.0801703, 0.0654716], [1.06558, -0.04887, 0.0654716], [0.0919347, -0.0048197, 0.0654716], [-0.00359408, 0.000220425, 0.0654716], [0.000140937, -3.14731e-6, 0.0654716], [-5.24317e-6, 3.87075e-6, 0.0654716], [2.74049e-7, 7.27518e-7, 0.0654716], [-1.92824e-7, -1.61665e-6, 0.0654716], [-3.72931e-7, -3.44817e-6, 0.0654716], [-5.1148e-7, -4.62698e-6, 0.0654716], [-5.72195e-7, -4.96366e-6, 0.0654716], [-4.79614e-7, -3.92121e-6, 0.0654716], [-2.73531e-8, 3.2383e-9, 0.0654716], [-2.0601e-8, 2.57585e-9, 0.0654716]], Array{Float64,1}[[0.0, 0.0, 0.0], [0.0, 0.0, 0.0], [0.0, 0.0, 0.0], [0.0, 0.0, 0.0], [0.0, 0.0, 0.0], [0.0, 0.0, 0.0], [0.0, 0.0, 0.0], [0.0, 0.0, 0.0], [0.0, 0.0, 0.0], [0.0, 0.0, 0.0], [0.0, 0.0, 0.0], [0.0, 0.0, 0.0], [0.0, 0.0, 0.0], [0.0, 0.0, 0.0], [0.0, 0.0, 0.0], [0.0, 0.0, 0.0], [0.0, 0.0, 0.0], [0.0, 0.0, 0.0], [0.0, 0.0, 0.0]], [0.1, 0.1, 0.1, 0.1, 0.1, 0.1, 0.1, 0.1, 0.1, 0.1, 0.1, 0.1, 0.1, 0.1, 0.1, 0.1, 0.1, 0.1, 0.1], Array{Float64,1}[[7.2208e-20], [0.954908], [2.02552], [0.993504], [0.993491], [0.993497], [0.993495], [0.993495], [0.99937], [1.00002], [0.999996], [0.999997], [0.999998], [0.999998], [0.999999], [1.0], [1.0], [1.0], [1.0]], Array{Float64,1}[], [0.0, 0.1, 0.2, 0.3, 0.4, 0.5, 0.6, 0.7, 0.8, 0.9, 1.0, 1.1, 1.2, 1.3, 1.4, 1.5, 1.6, 1.7, 1.8, 1.9], [0.0 0.788413 … 3.0 3.0; 0.2 0.101904 … 0.0 0.0; … ; 0.0 -1.03255 … 3.2383e-9 2.57585e-9; 0.0654716 0.0654716 … 0.0654716 0.0654716], [0.0, 0.2, 0.0, 7.89072, 0.0, 0.0654716, 0.0, 0.0, 0.0, 0.1  …  0.0, 0.0, 0.1, 1.0, 3.0, 0.0, 0.124396, -2.0601e-8, 2.57585e-9, 0.0654716])"
      ]
     },
     "execution_count": 64,
     "metadata": {},
     "output_type": "execute_result"
    }
   ],
   "source": [
    "# Semidirect\n",
    "con_tol = 1e-5\n",
    "obj_tol = 1e-5\n",
    "max_iter = 5000\n",
    "\n",
    "sim_data = get_trajopt_data_semidirect(mechanism,env,Δt,N,relax_comp=false)\n",
    "add_prob_constraints!(sim_data)\n",
    "x_min, x_max = get_prob_limits(sim_data)\n",
    "x0 = get_prob_init(sim_data)\n",
    "@time traj_semidirect = Bilevel.trajopt(sim_data, x0=x0, x_min=x_min, x_max=x_max, verbose=1, opt_tol=obj_tol, major_feas=con_tol, minor_feas=con_tol, max_iter=max_iter)"
   ]
  },
  {
   "cell_type": "code",
   "execution_count": 65,
   "metadata": {},
   "outputs": [
    {
     "data": {
      "text/plain": [
       "BenchmarkTools.Trial: \n",
       "  memory estimate:  144.44 MiB\n",
       "  allocs estimate:  685935\n",
       "  --------------\n",
       "  minimum time:     205.761 ms (16.29% GC)\n",
       "  median time:      255.357 ms (16.19% GC)\n",
       "  mean time:        364.945 ms (30.50% GC)\n",
       "  maximum time:     834.957 ms (43.82% GC)\n",
       "  --------------\n",
       "  samples:          14\n",
       "  evals/sample:     1"
      ]
     },
     "execution_count": 65,
     "metadata": {},
     "output_type": "execute_result"
    }
   ],
   "source": [
    "function run_trajopt()\n",
    "    Bilevel.solve_rosenbrock() # clearing SNOPT\n",
    "    Bilevel.trajopt(sim_data, x0=x0, x_min=x_min, x_max=x_max, verbose=0, opt_tol=obj_tol, major_feas=con_tol, minor_feas=con_tol, max_iter=max_iter)\n",
    "end\n",
    "\n",
    "@benchmark run_trajopt()"
   ]
  },
  {
   "cell_type": "code",
   "execution_count": 67,
   "metadata": {},
   "outputs": [
    {
     "data": {
      "image/svg+xml": [
       "<?xml version=\"1.0\" encoding=\"utf-8\"?>\n",
       "<svg xmlns=\"http://www.w3.org/2000/svg\" xmlns:xlink=\"http://www.w3.org/1999/xlink\" width=\"600\" height=\"400\" viewBox=\"0 0 2400 1600\">\n",
       "<defs>\n",
       "  <clipPath id=\"clip8400\">\n",
       "    <rect x=\"0\" y=\"0\" width=\"2400\" height=\"1600\"/>\n",
       "  </clipPath>\n",
       "</defs>\n",
       "<polygon clip-path=\"url(#clip8400)\" points=\"\n",
       "0,1600 2400,1600 2400,0 0,0 \n",
       "  \" fill=\"#ffffff\" fill-rule=\"evenodd\" fill-opacity=\"1\"/>\n",
       "<defs>\n",
       "  <clipPath id=\"clip8401\">\n",
       "    <rect x=\"480\" y=\"0\" width=\"1681\" height=\"1600\"/>\n",
       "  </clipPath>\n",
       "</defs>\n",
       "<polygon clip-path=\"url(#clip8400)\" points=\"\n",
       "149.502,1443.73 2352.76,1443.73 2352.76,47.2441 149.502,47.2441 \n",
       "  \" fill=\"#ffffff\" fill-rule=\"evenodd\" fill-opacity=\"1\"/>\n",
       "<defs>\n",
       "  <clipPath id=\"clip8402\">\n",
       "    <rect x=\"149\" y=\"47\" width=\"2204\" height=\"1397\"/>\n",
       "  </clipPath>\n",
       "</defs>\n",
       "<polyline clip-path=\"url(#clip8402)\" style=\"stroke:#000000; stroke-width:2; stroke-opacity:0.1; fill:none\" points=\"\n",
       "  211.859,1443.73 211.859,47.2441 \n",
       "  \"/>\n",
       "<polyline clip-path=\"url(#clip8402)\" style=\"stroke:#000000; stroke-width:2; stroke-opacity:0.1; fill:none\" points=\"\n",
       "  758.843,1443.73 758.843,47.2441 \n",
       "  \"/>\n",
       "<polyline clip-path=\"url(#clip8402)\" style=\"stroke:#000000; stroke-width:2; stroke-opacity:0.1; fill:none\" points=\"\n",
       "  1305.83,1443.73 1305.83,47.2441 \n",
       "  \"/>\n",
       "<polyline clip-path=\"url(#clip8402)\" style=\"stroke:#000000; stroke-width:2; stroke-opacity:0.1; fill:none\" points=\"\n",
       "  1852.81,1443.73 1852.81,47.2441 \n",
       "  \"/>\n",
       "<polyline clip-path=\"url(#clip8402)\" style=\"stroke:#000000; stroke-width:2; stroke-opacity:0.1; fill:none\" points=\"\n",
       "  149.502,1404.2 2352.76,1404.2 \n",
       "  \"/>\n",
       "<polyline clip-path=\"url(#clip8402)\" style=\"stroke:#000000; stroke-width:2; stroke-opacity:0.1; fill:none\" points=\"\n",
       "  149.502,965.109 2352.76,965.109 \n",
       "  \"/>\n",
       "<polyline clip-path=\"url(#clip8402)\" style=\"stroke:#000000; stroke-width:2; stroke-opacity:0.1; fill:none\" points=\"\n",
       "  149.502,526.014 2352.76,526.014 \n",
       "  \"/>\n",
       "<polyline clip-path=\"url(#clip8402)\" style=\"stroke:#000000; stroke-width:2; stroke-opacity:0.1; fill:none\" points=\"\n",
       "  149.502,86.9194 2352.76,86.9194 \n",
       "  \"/>\n",
       "<polyline clip-path=\"url(#clip8400)\" style=\"stroke:#000000; stroke-width:4; stroke-opacity:1; fill:none\" points=\"\n",
       "  149.502,1443.73 2352.76,1443.73 \n",
       "  \"/>\n",
       "<polyline clip-path=\"url(#clip8400)\" style=\"stroke:#000000; stroke-width:4; stroke-opacity:1; fill:none\" points=\"\n",
       "  149.502,1443.73 149.502,47.2441 \n",
       "  \"/>\n",
       "<polyline clip-path=\"url(#clip8400)\" style=\"stroke:#000000; stroke-width:4; stroke-opacity:1; fill:none\" points=\"\n",
       "  211.859,1443.73 211.859,1422.78 \n",
       "  \"/>\n",
       "<polyline clip-path=\"url(#clip8400)\" style=\"stroke:#000000; stroke-width:4; stroke-opacity:1; fill:none\" points=\"\n",
       "  758.843,1443.73 758.843,1422.78 \n",
       "  \"/>\n",
       "<polyline clip-path=\"url(#clip8400)\" style=\"stroke:#000000; stroke-width:4; stroke-opacity:1; fill:none\" points=\"\n",
       "  1305.83,1443.73 1305.83,1422.78 \n",
       "  \"/>\n",
       "<polyline clip-path=\"url(#clip8400)\" style=\"stroke:#000000; stroke-width:4; stroke-opacity:1; fill:none\" points=\"\n",
       "  1852.81,1443.73 1852.81,1422.78 \n",
       "  \"/>\n",
       "<polyline clip-path=\"url(#clip8400)\" style=\"stroke:#000000; stroke-width:4; stroke-opacity:1; fill:none\" points=\"\n",
       "  149.502,1404.2 182.551,1404.2 \n",
       "  \"/>\n",
       "<polyline clip-path=\"url(#clip8400)\" style=\"stroke:#000000; stroke-width:4; stroke-opacity:1; fill:none\" points=\"\n",
       "  149.502,965.109 182.551,965.109 \n",
       "  \"/>\n",
       "<polyline clip-path=\"url(#clip8400)\" style=\"stroke:#000000; stroke-width:4; stroke-opacity:1; fill:none\" points=\"\n",
       "  149.502,526.014 182.551,526.014 \n",
       "  \"/>\n",
       "<polyline clip-path=\"url(#clip8400)\" style=\"stroke:#000000; stroke-width:4; stroke-opacity:1; fill:none\" points=\"\n",
       "  149.502,86.9194 182.551,86.9194 \n",
       "  \"/>\n",
       "<g clip-path=\"url(#clip8400)\">\n",
       "<text style=\"fill:#000000; fill-opacity:1; font-family:Arial,Helvetica Neue,Helvetica,sans-serif; font-size:48px; text-anchor:middle;\" transform=\"rotate(0, 211.859, 1497.73)\" x=\"211.859\" y=\"1497.73\">0.0</text>\n",
       "</g>\n",
       "<g clip-path=\"url(#clip8400)\">\n",
       "<text style=\"fill:#000000; fill-opacity:1; font-family:Arial,Helvetica Neue,Helvetica,sans-serif; font-size:48px; text-anchor:middle;\" transform=\"rotate(0, 758.843, 1497.73)\" x=\"758.843\" y=\"1497.73\">0.5</text>\n",
       "</g>\n",
       "<g clip-path=\"url(#clip8400)\">\n",
       "<text style=\"fill:#000000; fill-opacity:1; font-family:Arial,Helvetica Neue,Helvetica,sans-serif; font-size:48px; text-anchor:middle;\" transform=\"rotate(0, 1305.83, 1497.73)\" x=\"1305.83\" y=\"1497.73\">1.0</text>\n",
       "</g>\n",
       "<g clip-path=\"url(#clip8400)\">\n",
       "<text style=\"fill:#000000; fill-opacity:1; font-family:Arial,Helvetica Neue,Helvetica,sans-serif; font-size:48px; text-anchor:middle;\" transform=\"rotate(0, 1852.81, 1497.73)\" x=\"1852.81\" y=\"1497.73\">1.5</text>\n",
       "</g>\n",
       "<g clip-path=\"url(#clip8400)\">\n",
       "<text style=\"fill:#000000; fill-opacity:1; font-family:Arial,Helvetica Neue,Helvetica,sans-serif; font-size:48px; text-anchor:end;\" transform=\"rotate(0, 125.502, 1421.7)\" x=\"125.502\" y=\"1421.7\">0</text>\n",
       "</g>\n",
       "<g clip-path=\"url(#clip8400)\">\n",
       "<text style=\"fill:#000000; fill-opacity:1; font-family:Arial,Helvetica Neue,Helvetica,sans-serif; font-size:48px; text-anchor:end;\" transform=\"rotate(0, 125.502, 982.609)\" x=\"125.502\" y=\"982.609\">1</text>\n",
       "</g>\n",
       "<g clip-path=\"url(#clip8400)\">\n",
       "<text style=\"fill:#000000; fill-opacity:1; font-family:Arial,Helvetica Neue,Helvetica,sans-serif; font-size:48px; text-anchor:end;\" transform=\"rotate(0, 125.502, 543.514)\" x=\"125.502\" y=\"543.514\">2</text>\n",
       "</g>\n",
       "<g clip-path=\"url(#clip8400)\">\n",
       "<text style=\"fill:#000000; fill-opacity:1; font-family:Arial,Helvetica Neue,Helvetica,sans-serif; font-size:48px; text-anchor:end;\" transform=\"rotate(0, 125.502, 104.419)\" x=\"125.502\" y=\"104.419\">3</text>\n",
       "</g>\n",
       "<g clip-path=\"url(#clip8400)\">\n",
       "<image width=\"21\" height=\"42\" xlink:href=\"data:image/png;base64,\n",
       "iVBORw0KGgoAAAANSUhEUgAAABUAAAAqCAYAAABcOxDuAAABl0lEQVRIia3W4c3CIBAG4FcnII7g\n",
       "CDdD3YAZOgJxBEZghsYJiCN0BOwIxA3u+4X5sNAeVBJ+0F7fwJMzcmJmtIzX68WPxwNEhNvtdioW\n",
       "MbN4eu8ZwGdO08SlunPLLu/3e7ZelqVcKN1ljDHbJQD23hd3Kg6dpmkVWqsVH//5fGZrIqrWdocO\n",
       "w1Av/rWn2LTFU2za4gkITZs8gf3jt3qKTFs9mRnw3rNSavVh7/Te83lZFrzfbwmtaFwul+3jhxCa\n",
       "PXdNezx3+7S1P9NoCt3tzzR+2Z+7pr2em6a9nsCGabcnUD7+Ec+q6RHPqukRT6BiesgTWB//qGfR\n",
       "9Khn0fSoJ1Awnec5Wzd7AviJZ4yRtdY8zzOvTL+vigA4xrgbaoxhABxCWIdaa7NAIhLt8rs2M+3x\n",
       "THdWa23Z9Hq9im7Kaab/MK11VrcZmuBrU2udWRZDU5EkNPk751Y12cI5J2qnVDeOY/H96gERfUKN\n",
       "MdlHqR+3AouhIQT+HzyOIxtj+D+NtXbTuvrCOcfDMLBSipVSTERsjBH9GP4A/KauBMnGQOkAAAAA\n",
       "SUVORK5CYII=\n",
       "\" transform=\"translate(1241, 1520)\"/>\n",
       "</g>\n",
       "<g clip-path=\"url(#clip8400)\">\n",
       "<image width=\"30\" height=\"34\" xlink:href=\"data:image/png;base64,\n",
       "iVBORw0KGgoAAAANSUhEUgAAAB4AAAAiCAYAAABIiGl0AAACNklEQVRYhb1X263qMBAcpFuAacF0\n",
       "4BpMB67BJaQGl2BRQkoIlGBRQZQSHDqY+8FZnwRCCI8cS/OzwR6v9zHLhiRk9X3PnDN2u90Gay+S\n",
       "yDnTWksABd57ksRaAEkYY0ak75LnnBf/Hk3TTJIKXiEWB6y1bJpmdi+ccwTAGOMkcdu2i8lTSpTz\n",
       "5AKP9kNrTeccSWK4CQC11m/HOYRApRQBsKqqu3MAgCGE8qGuazrn6L1/ydtH8N4TQHGuECulVs/g\n",
       "uq7vyGGtpTFmVeIhubxuyeq6rlcnl16Rc74aJKlSSquSt21bvC5GqcGqqvhKI3jHa2vt2DgsJ+/9\n",
       "Ki9QVdW1zG4/hBBGtayUonOOMcavlFdVVdezh0apuTl8ehFjDI0xvwat9VPSRxex1jKE8DQ04q33\n",
       "nhuS2O/3PJ1OHwrs77LWQmsNrTWUUui6DofDAZfLBQDQti3+HY/HQmqtLZsAIKWE8/mMruvQdd1i\n",
       "4jknvPfXQWOoTs/ik1JiCOFuaFiKUcuUGL2ToUsvopQaCRH5o05TsvXNi0zKotZ6FXXKOTPGSKkW\n",
       "Y8yo/P5EnWS6UUqVdlyMz2akTyECIfkEklBK/YkmiwTHGK8GEelvJdkc7lqmtLO1ySdFQoxzY+lS\n",
       "pJQoiTt0pqjf7YbhfP3JpCmjrUByyDl3LbGpTTlnDiXSGPNS1ksG32KoTk+fy3vPd7J+roWmlNZL\n",
       "ottJZhg+8qeO10KMkcNYD1vz5udZVl1933O73Y7+7P8H/1BcKs3UkbcAAAAASUVORK5CYII=\n",
       "\" transform=\"translate(43, 728)\"/>\n",
       "</g>\n",
       "<polyline clip-path=\"url(#clip8402)\" style=\"stroke:#e34a33; stroke-width:24; stroke-opacity:1; fill:none\" points=\"\n",
       "  211.859,1404.2 321.256,1002.87 430.653,656.065 540.049,431.612 649.446,263.462 758.843,150.617 868.24,92.0913 977.637,86.9194 1087.03,86.9194 1196.43,86.9194 \n",
       "  1305.83,86.9194 1415.22,86.9194 1524.62,86.9194 1634.02,86.9194 1743.42,86.9194 1852.81,86.9194 1962.21,86.9194 2071.61,86.9194 2181,86.9194 2290.4,86.9194 \n",
       "  \n",
       "  \"/>\n",
       "<circle clip-path=\"url(#clip8402)\" style=\"fill:#000000; stroke:none; fill-opacity:1\" cx=\"211.859\" cy=\"1404.2\" r=\"25\"/>\n",
       "<circle clip-path=\"url(#clip8402)\" style=\"fill:#e34a33; stroke:none; fill-opacity:1\" cx=\"211.859\" cy=\"1404.2\" r=\"21\"/>\n",
       "<circle clip-path=\"url(#clip8402)\" style=\"fill:#000000; stroke:none; fill-opacity:1\" cx=\"321.256\" cy=\"1002.87\" r=\"25\"/>\n",
       "<circle clip-path=\"url(#clip8402)\" style=\"fill:#e34a33; stroke:none; fill-opacity:1\" cx=\"321.256\" cy=\"1002.87\" r=\"21\"/>\n",
       "<circle clip-path=\"url(#clip8402)\" style=\"fill:#000000; stroke:none; fill-opacity:1\" cx=\"430.653\" cy=\"656.065\" r=\"25\"/>\n",
       "<circle clip-path=\"url(#clip8402)\" style=\"fill:#e34a33; stroke:none; fill-opacity:1\" cx=\"430.653\" cy=\"656.065\" r=\"21\"/>\n",
       "<circle clip-path=\"url(#clip8402)\" style=\"fill:#000000; stroke:none; fill-opacity:1\" cx=\"540.049\" cy=\"431.612\" r=\"25\"/>\n",
       "<circle clip-path=\"url(#clip8402)\" style=\"fill:#e34a33; stroke:none; fill-opacity:1\" cx=\"540.049\" cy=\"431.612\" r=\"21\"/>\n",
       "<circle clip-path=\"url(#clip8402)\" style=\"fill:#000000; stroke:none; fill-opacity:1\" cx=\"649.446\" cy=\"263.462\" r=\"25\"/>\n",
       "<circle clip-path=\"url(#clip8402)\" style=\"fill:#e34a33; stroke:none; fill-opacity:1\" cx=\"649.446\" cy=\"263.462\" r=\"21\"/>\n",
       "<circle clip-path=\"url(#clip8402)\" style=\"fill:#000000; stroke:none; fill-opacity:1\" cx=\"758.843\" cy=\"150.617\" r=\"25\"/>\n",
       "<circle clip-path=\"url(#clip8402)\" style=\"fill:#e34a33; stroke:none; fill-opacity:1\" cx=\"758.843\" cy=\"150.617\" r=\"21\"/>\n",
       "<circle clip-path=\"url(#clip8402)\" style=\"fill:#000000; stroke:none; fill-opacity:1\" cx=\"868.24\" cy=\"92.0913\" r=\"25\"/>\n",
       "<circle clip-path=\"url(#clip8402)\" style=\"fill:#e34a33; stroke:none; fill-opacity:1\" cx=\"868.24\" cy=\"92.0913\" r=\"21\"/>\n",
       "<circle clip-path=\"url(#clip8402)\" style=\"fill:#000000; stroke:none; fill-opacity:1\" cx=\"977.637\" cy=\"86.9194\" r=\"25\"/>\n",
       "<circle clip-path=\"url(#clip8402)\" style=\"fill:#e34a33; stroke:none; fill-opacity:1\" cx=\"977.637\" cy=\"86.9194\" r=\"21\"/>\n",
       "<circle clip-path=\"url(#clip8402)\" style=\"fill:#000000; stroke:none; fill-opacity:1\" cx=\"1087.03\" cy=\"86.9194\" r=\"25\"/>\n",
       "<circle clip-path=\"url(#clip8402)\" style=\"fill:#e34a33; stroke:none; fill-opacity:1\" cx=\"1087.03\" cy=\"86.9194\" r=\"21\"/>\n",
       "<circle clip-path=\"url(#clip8402)\" style=\"fill:#000000; stroke:none; fill-opacity:1\" cx=\"1196.43\" cy=\"86.9194\" r=\"25\"/>\n",
       "<circle clip-path=\"url(#clip8402)\" style=\"fill:#e34a33; stroke:none; fill-opacity:1\" cx=\"1196.43\" cy=\"86.9194\" r=\"21\"/>\n",
       "<circle clip-path=\"url(#clip8402)\" style=\"fill:#000000; stroke:none; fill-opacity:1\" cx=\"1305.83\" cy=\"86.9194\" r=\"25\"/>\n",
       "<circle clip-path=\"url(#clip8402)\" style=\"fill:#e34a33; stroke:none; fill-opacity:1\" cx=\"1305.83\" cy=\"86.9194\" r=\"21\"/>\n",
       "<circle clip-path=\"url(#clip8402)\" style=\"fill:#000000; stroke:none; fill-opacity:1\" cx=\"1415.22\" cy=\"86.9194\" r=\"25\"/>\n",
       "<circle clip-path=\"url(#clip8402)\" style=\"fill:#e34a33; stroke:none; fill-opacity:1\" cx=\"1415.22\" cy=\"86.9194\" r=\"21\"/>\n",
       "<circle clip-path=\"url(#clip8402)\" style=\"fill:#000000; stroke:none; fill-opacity:1\" cx=\"1524.62\" cy=\"86.9194\" r=\"25\"/>\n",
       "<circle clip-path=\"url(#clip8402)\" style=\"fill:#e34a33; stroke:none; fill-opacity:1\" cx=\"1524.62\" cy=\"86.9194\" r=\"21\"/>\n",
       "<circle clip-path=\"url(#clip8402)\" style=\"fill:#000000; stroke:none; fill-opacity:1\" cx=\"1634.02\" cy=\"86.9194\" r=\"25\"/>\n",
       "<circle clip-path=\"url(#clip8402)\" style=\"fill:#e34a33; stroke:none; fill-opacity:1\" cx=\"1634.02\" cy=\"86.9194\" r=\"21\"/>\n",
       "<circle clip-path=\"url(#clip8402)\" style=\"fill:#000000; stroke:none; fill-opacity:1\" cx=\"1743.42\" cy=\"86.9194\" r=\"25\"/>\n",
       "<circle clip-path=\"url(#clip8402)\" style=\"fill:#e34a33; stroke:none; fill-opacity:1\" cx=\"1743.42\" cy=\"86.9194\" r=\"21\"/>\n",
       "<circle clip-path=\"url(#clip8402)\" style=\"fill:#000000; stroke:none; fill-opacity:1\" cx=\"1852.81\" cy=\"86.9194\" r=\"25\"/>\n",
       "<circle clip-path=\"url(#clip8402)\" style=\"fill:#e34a33; stroke:none; fill-opacity:1\" cx=\"1852.81\" cy=\"86.9194\" r=\"21\"/>\n",
       "<circle clip-path=\"url(#clip8402)\" style=\"fill:#000000; stroke:none; fill-opacity:1\" cx=\"1962.21\" cy=\"86.9194\" r=\"25\"/>\n",
       "<circle clip-path=\"url(#clip8402)\" style=\"fill:#e34a33; stroke:none; fill-opacity:1\" cx=\"1962.21\" cy=\"86.9194\" r=\"21\"/>\n",
       "<circle clip-path=\"url(#clip8402)\" style=\"fill:#000000; stroke:none; fill-opacity:1\" cx=\"2071.61\" cy=\"86.9194\" r=\"25\"/>\n",
       "<circle clip-path=\"url(#clip8402)\" style=\"fill:#e34a33; stroke:none; fill-opacity:1\" cx=\"2071.61\" cy=\"86.9194\" r=\"21\"/>\n",
       "<circle clip-path=\"url(#clip8402)\" style=\"fill:#000000; stroke:none; fill-opacity:1\" cx=\"2181\" cy=\"86.9194\" r=\"25\"/>\n",
       "<circle clip-path=\"url(#clip8402)\" style=\"fill:#e34a33; stroke:none; fill-opacity:1\" cx=\"2181\" cy=\"86.9194\" r=\"21\"/>\n",
       "<circle clip-path=\"url(#clip8402)\" style=\"fill:#000000; stroke:none; fill-opacity:1\" cx=\"2290.4\" cy=\"86.9194\" r=\"25\"/>\n",
       "<circle clip-path=\"url(#clip8402)\" style=\"fill:#e34a33; stroke:none; fill-opacity:1\" cx=\"2290.4\" cy=\"86.9194\" r=\"21\"/>\n",
       "<polyline clip-path=\"url(#clip8402)\" style=\"stroke:#fee8c8; stroke-width:4; stroke-opacity:1; fill:none\" points=\"\n",
       "  211.859,1404.2 321.256,1058.02 430.653,752.979 540.049,534.948 649.446,359.716 758.843,227.283 868.24,137.648 977.637,90.8095 1087.03,86.7672 1196.43,86.9253 \n",
       "  1305.83,86.9191 1415.22,86.9194 1524.62,86.9193 1634.02,86.9193 1743.42,86.9194 1852.81,86.9194 1962.21,86.9194 2071.61,86.9194 2181,86.9194 2290.4,86.9194 \n",
       "  \n",
       "  \"/>\n",
       "<circle clip-path=\"url(#clip8402)\" style=\"fill:#000000; stroke:none; fill-opacity:1\" cx=\"211.859\" cy=\"1404.2\" r=\"25\"/>\n",
       "<circle clip-path=\"url(#clip8402)\" style=\"fill:#fee8c8; stroke:none; fill-opacity:1\" cx=\"211.859\" cy=\"1404.2\" r=\"21\"/>\n",
       "<circle clip-path=\"url(#clip8402)\" style=\"fill:#000000; stroke:none; fill-opacity:1\" cx=\"321.256\" cy=\"1058.02\" r=\"25\"/>\n",
       "<circle clip-path=\"url(#clip8402)\" style=\"fill:#fee8c8; stroke:none; fill-opacity:1\" cx=\"321.256\" cy=\"1058.02\" r=\"21\"/>\n",
       "<circle clip-path=\"url(#clip8402)\" style=\"fill:#000000; stroke:none; fill-opacity:1\" cx=\"430.653\" cy=\"752.979\" r=\"25\"/>\n",
       "<circle clip-path=\"url(#clip8402)\" style=\"fill:#fee8c8; stroke:none; fill-opacity:1\" cx=\"430.653\" cy=\"752.979\" r=\"21\"/>\n",
       "<circle clip-path=\"url(#clip8402)\" style=\"fill:#000000; stroke:none; fill-opacity:1\" cx=\"540.049\" cy=\"534.948\" r=\"25\"/>\n",
       "<circle clip-path=\"url(#clip8402)\" style=\"fill:#fee8c8; stroke:none; fill-opacity:1\" cx=\"540.049\" cy=\"534.948\" r=\"21\"/>\n",
       "<circle clip-path=\"url(#clip8402)\" style=\"fill:#000000; stroke:none; fill-opacity:1\" cx=\"649.446\" cy=\"359.716\" r=\"25\"/>\n",
       "<circle clip-path=\"url(#clip8402)\" style=\"fill:#fee8c8; stroke:none; fill-opacity:1\" cx=\"649.446\" cy=\"359.716\" r=\"21\"/>\n",
       "<circle clip-path=\"url(#clip8402)\" style=\"fill:#000000; stroke:none; fill-opacity:1\" cx=\"758.843\" cy=\"227.283\" r=\"25\"/>\n",
       "<circle clip-path=\"url(#clip8402)\" style=\"fill:#fee8c8; stroke:none; fill-opacity:1\" cx=\"758.843\" cy=\"227.283\" r=\"21\"/>\n",
       "<circle clip-path=\"url(#clip8402)\" style=\"fill:#000000; stroke:none; fill-opacity:1\" cx=\"868.24\" cy=\"137.648\" r=\"25\"/>\n",
       "<circle clip-path=\"url(#clip8402)\" style=\"fill:#fee8c8; stroke:none; fill-opacity:1\" cx=\"868.24\" cy=\"137.648\" r=\"21\"/>\n",
       "<circle clip-path=\"url(#clip8402)\" style=\"fill:#000000; stroke:none; fill-opacity:1\" cx=\"977.637\" cy=\"90.8095\" r=\"25\"/>\n",
       "<circle clip-path=\"url(#clip8402)\" style=\"fill:#fee8c8; stroke:none; fill-opacity:1\" cx=\"977.637\" cy=\"90.8095\" r=\"21\"/>\n",
       "<circle clip-path=\"url(#clip8402)\" style=\"fill:#000000; stroke:none; fill-opacity:1\" cx=\"1087.03\" cy=\"86.7672\" r=\"25\"/>\n",
       "<circle clip-path=\"url(#clip8402)\" style=\"fill:#fee8c8; stroke:none; fill-opacity:1\" cx=\"1087.03\" cy=\"86.7672\" r=\"21\"/>\n",
       "<circle clip-path=\"url(#clip8402)\" style=\"fill:#000000; stroke:none; fill-opacity:1\" cx=\"1196.43\" cy=\"86.9253\" r=\"25\"/>\n",
       "<circle clip-path=\"url(#clip8402)\" style=\"fill:#fee8c8; stroke:none; fill-opacity:1\" cx=\"1196.43\" cy=\"86.9253\" r=\"21\"/>\n",
       "<circle clip-path=\"url(#clip8402)\" style=\"fill:#000000; stroke:none; fill-opacity:1\" cx=\"1305.83\" cy=\"86.9191\" r=\"25\"/>\n",
       "<circle clip-path=\"url(#clip8402)\" style=\"fill:#fee8c8; stroke:none; fill-opacity:1\" cx=\"1305.83\" cy=\"86.9191\" r=\"21\"/>\n",
       "<circle clip-path=\"url(#clip8402)\" style=\"fill:#000000; stroke:none; fill-opacity:1\" cx=\"1415.22\" cy=\"86.9194\" r=\"25\"/>\n",
       "<circle clip-path=\"url(#clip8402)\" style=\"fill:#fee8c8; stroke:none; fill-opacity:1\" cx=\"1415.22\" cy=\"86.9194\" r=\"21\"/>\n",
       "<circle clip-path=\"url(#clip8402)\" style=\"fill:#000000; stroke:none; fill-opacity:1\" cx=\"1524.62\" cy=\"86.9193\" r=\"25\"/>\n",
       "<circle clip-path=\"url(#clip8402)\" style=\"fill:#fee8c8; stroke:none; fill-opacity:1\" cx=\"1524.62\" cy=\"86.9193\" r=\"21\"/>\n",
       "<circle clip-path=\"url(#clip8402)\" style=\"fill:#000000; stroke:none; fill-opacity:1\" cx=\"1634.02\" cy=\"86.9193\" r=\"25\"/>\n",
       "<circle clip-path=\"url(#clip8402)\" style=\"fill:#fee8c8; stroke:none; fill-opacity:1\" cx=\"1634.02\" cy=\"86.9193\" r=\"21\"/>\n",
       "<circle clip-path=\"url(#clip8402)\" style=\"fill:#000000; stroke:none; fill-opacity:1\" cx=\"1743.42\" cy=\"86.9194\" r=\"25\"/>\n",
       "<circle clip-path=\"url(#clip8402)\" style=\"fill:#fee8c8; stroke:none; fill-opacity:1\" cx=\"1743.42\" cy=\"86.9194\" r=\"21\"/>\n",
       "<circle clip-path=\"url(#clip8402)\" style=\"fill:#000000; stroke:none; fill-opacity:1\" cx=\"1852.81\" cy=\"86.9194\" r=\"25\"/>\n",
       "<circle clip-path=\"url(#clip8402)\" style=\"fill:#fee8c8; stroke:none; fill-opacity:1\" cx=\"1852.81\" cy=\"86.9194\" r=\"21\"/>\n",
       "<circle clip-path=\"url(#clip8402)\" style=\"fill:#000000; stroke:none; fill-opacity:1\" cx=\"1962.21\" cy=\"86.9194\" r=\"25\"/>\n",
       "<circle clip-path=\"url(#clip8402)\" style=\"fill:#fee8c8; stroke:none; fill-opacity:1\" cx=\"1962.21\" cy=\"86.9194\" r=\"21\"/>\n",
       "<circle clip-path=\"url(#clip8402)\" style=\"fill:#000000; stroke:none; fill-opacity:1\" cx=\"2071.61\" cy=\"86.9194\" r=\"25\"/>\n",
       "<circle clip-path=\"url(#clip8402)\" style=\"fill:#fee8c8; stroke:none; fill-opacity:1\" cx=\"2071.61\" cy=\"86.9194\" r=\"21\"/>\n",
       "<circle clip-path=\"url(#clip8402)\" style=\"fill:#000000; stroke:none; fill-opacity:1\" cx=\"2181\" cy=\"86.9194\" r=\"25\"/>\n",
       "<circle clip-path=\"url(#clip8402)\" style=\"fill:#fee8c8; stroke:none; fill-opacity:1\" cx=\"2181\" cy=\"86.9194\" r=\"21\"/>\n",
       "<circle clip-path=\"url(#clip8402)\" style=\"fill:#000000; stroke:none; fill-opacity:1\" cx=\"2290.4\" cy=\"86.9194\" r=\"25\"/>\n",
       "<circle clip-path=\"url(#clip8402)\" style=\"fill:#fee8c8; stroke:none; fill-opacity:1\" cx=\"2290.4\" cy=\"86.9194\" r=\"21\"/>\n",
       "<polygon clip-path=\"url(#clip8400)\" points=\"\n",
       "1813.42,312.204 2280.76,312.204 2280.76,130.764 1813.42,130.764 \n",
       "  \" fill=\"#ffffff\" fill-rule=\"evenodd\" fill-opacity=\"1\"/>\n",
       "<polyline clip-path=\"url(#clip8400)\" style=\"stroke:#000000; stroke-width:4; stroke-opacity:1; fill:none\" points=\"\n",
       "  1813.42,312.204 2280.76,312.204 2280.76,130.764 1813.42,130.764 1813.42,312.204 \n",
       "  \"/>\n",
       "<polyline clip-path=\"url(#clip8400)\" style=\"stroke:#e34a33; stroke-width:24; stroke-opacity:1; fill:none\" points=\"\n",
       "  1837.42,191.244 1981.42,191.244 \n",
       "  \"/>\n",
       "<circle clip-path=\"url(#clip8400)\" style=\"fill:#000000; stroke:none; fill-opacity:1\" cx=\"1921.42\" cy=\"191.244\" r=\"25\"/>\n",
       "<circle clip-path=\"url(#clip8400)\" style=\"fill:#e34a33; stroke:none; fill-opacity:1\" cx=\"1921.42\" cy=\"191.244\" r=\"21\"/>\n",
       "<g clip-path=\"url(#clip8400)\">\n",
       "<text style=\"fill:#000000; fill-opacity:1; font-family:Arial,Helvetica Neue,Helvetica,sans-serif; font-size:48px; text-anchor:start;\" transform=\"rotate(0, 2005.42, 208.744)\" x=\"2005.42\" y=\"208.744\">Indirect</text>\n",
       "</g>\n",
       "<polyline clip-path=\"url(#clip8400)\" style=\"stroke:#fee8c8; stroke-width:4; stroke-opacity:1; fill:none\" points=\"\n",
       "  1837.42,251.724 1981.42,251.724 \n",
       "  \"/>\n",
       "<circle clip-path=\"url(#clip8400)\" style=\"fill:#000000; stroke:none; fill-opacity:1\" cx=\"1921.42\" cy=\"251.724\" r=\"25\"/>\n",
       "<circle clip-path=\"url(#clip8400)\" style=\"fill:#fee8c8; stroke:none; fill-opacity:1\" cx=\"1921.42\" cy=\"251.724\" r=\"21\"/>\n",
       "<g clip-path=\"url(#clip8400)\">\n",
       "<text style=\"fill:#000000; fill-opacity:1; font-family:Arial,Helvetica Neue,Helvetica,sans-serif; font-size:48px; text-anchor:start;\" transform=\"rotate(0, 2005.42, 269.224)\" x=\"2005.42\" y=\"269.224\">Semidirect</text>\n",
       "</g>\n",
       "</svg>\n"
      ]
     },
     "execution_count": 67,
     "metadata": {},
     "output_type": "execute_result"
    }
   ],
   "source": [
    "j = 1\n",
    "xlabel=latexstring(\"t\")\n",
    "ylabel=latexstring(\"x\")\n",
    "plot(traj_indirect[7],traj_indirect[8][j,:],label=\"Indirect\",seriescolor=RGB(((227,74,51) ./ 255.)...),linewidth=6,marker=6,xlabel=xlabel)\n",
    "plot!(traj_semidirect[7],traj_semidirect[8][j,:],label=\"Semidirect\",seriescolor=RGB(((254,232,200) ./ 255.)...),linewidth=1,marker=6,ylabel=ylabel)"
   ]
  },
  {
   "cell_type": "code",
   "execution_count": 38,
   "metadata": {},
   "outputs": [],
   "source": [
    "savefig(string(\"slidingbox_x_08-28-19_3.svg\")) "
   ]
  },
  {
   "cell_type": "code",
   "execution_count": 37,
   "metadata": {},
   "outputs": [
    {
     "data": {
      "image/svg+xml": [
       "<?xml version=\"1.0\" encoding=\"utf-8\"?>\n",
       "<svg xmlns=\"http://www.w3.org/2000/svg\" xmlns:xlink=\"http://www.w3.org/1999/xlink\" width=\"600\" height=\"400\" viewBox=\"0 0 2400 1600\">\n",
       "<defs>\n",
       "  <clipPath id=\"clip6800\">\n",
       "    <rect x=\"0\" y=\"0\" width=\"2400\" height=\"1600\"/>\n",
       "  </clipPath>\n",
       "</defs>\n",
       "<polygon clip-path=\"url(#clip6800)\" points=\"\n",
       "0,1600 2400,1600 2400,0 0,0 \n",
       "  \" fill=\"#ffffff\" fill-rule=\"evenodd\" fill-opacity=\"1\"/>\n",
       "<defs>\n",
       "  <clipPath id=\"clip6801\">\n",
       "    <rect x=\"480\" y=\"0\" width=\"1681\" height=\"1600\"/>\n",
       "  </clipPath>\n",
       "</defs>\n",
       "<polygon clip-path=\"url(#clip6800)\" points=\"\n",
       "216.408,1443.73 2352.76,1443.73 2352.76,47.2441 216.408,47.2441 \n",
       "  \" fill=\"#ffffff\" fill-rule=\"evenodd\" fill-opacity=\"1\"/>\n",
       "<defs>\n",
       "  <clipPath id=\"clip6802\">\n",
       "    <rect x=\"216\" y=\"47\" width=\"2137\" height=\"1397\"/>\n",
       "  </clipPath>\n",
       "</defs>\n",
       "<polyline clip-path=\"url(#clip6802)\" style=\"stroke:#000000; stroke-width:2; stroke-opacity:0.1; fill:none\" points=\"\n",
       "  276.871,1443.73 276.871,47.2441 \n",
       "  \"/>\n",
       "<polyline clip-path=\"url(#clip6802)\" style=\"stroke:#000000; stroke-width:2; stroke-opacity:0.1; fill:none\" points=\"\n",
       "  696.751,1443.73 696.751,47.2441 \n",
       "  \"/>\n",
       "<polyline clip-path=\"url(#clip6802)\" style=\"stroke:#000000; stroke-width:2; stroke-opacity:0.1; fill:none\" points=\"\n",
       "  1116.63,1443.73 1116.63,47.2441 \n",
       "  \"/>\n",
       "<polyline clip-path=\"url(#clip6802)\" style=\"stroke:#000000; stroke-width:2; stroke-opacity:0.1; fill:none\" points=\"\n",
       "  1536.51,1443.73 1536.51,47.2441 \n",
       "  \"/>\n",
       "<polyline clip-path=\"url(#clip6802)\" style=\"stroke:#000000; stroke-width:2; stroke-opacity:0.1; fill:none\" points=\"\n",
       "  1956.39,1443.73 1956.39,47.2441 \n",
       "  \"/>\n",
       "<polyline clip-path=\"url(#clip6802)\" style=\"stroke:#000000; stroke-width:2; stroke-opacity:0.1; fill:none\" points=\"\n",
       "  216.408,1404.2 2352.76,1404.2 \n",
       "  \"/>\n",
       "<polyline clip-path=\"url(#clip6802)\" style=\"stroke:#000000; stroke-width:2; stroke-opacity:0.1; fill:none\" points=\"\n",
       "  216.408,1074.84 2352.76,1074.84 \n",
       "  \"/>\n",
       "<polyline clip-path=\"url(#clip6802)\" style=\"stroke:#000000; stroke-width:2; stroke-opacity:0.1; fill:none\" points=\"\n",
       "  216.408,745.485 2352.76,745.485 \n",
       "  \"/>\n",
       "<polyline clip-path=\"url(#clip6802)\" style=\"stroke:#000000; stroke-width:2; stroke-opacity:0.1; fill:none\" points=\"\n",
       "  216.408,416.126 2352.76,416.126 \n",
       "  \"/>\n",
       "<polyline clip-path=\"url(#clip6802)\" style=\"stroke:#000000; stroke-width:2; stroke-opacity:0.1; fill:none\" points=\"\n",
       "  216.408,86.7672 2352.76,86.7672 \n",
       "  \"/>\n",
       "<polyline clip-path=\"url(#clip6800)\" style=\"stroke:#000000; stroke-width:4; stroke-opacity:1; fill:none\" points=\"\n",
       "  216.408,1443.73 2352.76,1443.73 \n",
       "  \"/>\n",
       "<polyline clip-path=\"url(#clip6800)\" style=\"stroke:#000000; stroke-width:4; stroke-opacity:1; fill:none\" points=\"\n",
       "  216.408,1443.73 216.408,47.2441 \n",
       "  \"/>\n",
       "<polyline clip-path=\"url(#clip6800)\" style=\"stroke:#000000; stroke-width:4; stroke-opacity:1; fill:none\" points=\"\n",
       "  276.871,1443.73 276.871,1422.78 \n",
       "  \"/>\n",
       "<polyline clip-path=\"url(#clip6800)\" style=\"stroke:#000000; stroke-width:4; stroke-opacity:1; fill:none\" points=\"\n",
       "  696.751,1443.73 696.751,1422.78 \n",
       "  \"/>\n",
       "<polyline clip-path=\"url(#clip6800)\" style=\"stroke:#000000; stroke-width:4; stroke-opacity:1; fill:none\" points=\"\n",
       "  1116.63,1443.73 1116.63,1422.78 \n",
       "  \"/>\n",
       "<polyline clip-path=\"url(#clip6800)\" style=\"stroke:#000000; stroke-width:4; stroke-opacity:1; fill:none\" points=\"\n",
       "  1536.51,1443.73 1536.51,1422.78 \n",
       "  \"/>\n",
       "<polyline clip-path=\"url(#clip6800)\" style=\"stroke:#000000; stroke-width:4; stroke-opacity:1; fill:none\" points=\"\n",
       "  1956.39,1443.73 1956.39,1422.78 \n",
       "  \"/>\n",
       "<polyline clip-path=\"url(#clip6800)\" style=\"stroke:#000000; stroke-width:4; stroke-opacity:1; fill:none\" points=\"\n",
       "  216.408,1404.2 248.454,1404.2 \n",
       "  \"/>\n",
       "<polyline clip-path=\"url(#clip6800)\" style=\"stroke:#000000; stroke-width:4; stroke-opacity:1; fill:none\" points=\"\n",
       "  216.408,1074.84 248.454,1074.84 \n",
       "  \"/>\n",
       "<polyline clip-path=\"url(#clip6800)\" style=\"stroke:#000000; stroke-width:4; stroke-opacity:1; fill:none\" points=\"\n",
       "  216.408,745.485 248.454,745.485 \n",
       "  \"/>\n",
       "<polyline clip-path=\"url(#clip6800)\" style=\"stroke:#000000; stroke-width:4; stroke-opacity:1; fill:none\" points=\"\n",
       "  216.408,416.126 248.454,416.126 \n",
       "  \"/>\n",
       "<polyline clip-path=\"url(#clip6800)\" style=\"stroke:#000000; stroke-width:4; stroke-opacity:1; fill:none\" points=\"\n",
       "  216.408,86.7672 248.454,86.7672 \n",
       "  \"/>\n",
       "<g clip-path=\"url(#clip6800)\">\n",
       "<text style=\"fill:#000000; fill-opacity:1; font-family:Arial,Helvetica Neue,Helvetica,sans-serif; font-size:48px; text-anchor:middle;\" transform=\"rotate(0, 276.871, 1497.73)\" x=\"276.871\" y=\"1497.73\">0.0</text>\n",
       "</g>\n",
       "<g clip-path=\"url(#clip6800)\">\n",
       "<text style=\"fill:#000000; fill-opacity:1; font-family:Arial,Helvetica Neue,Helvetica,sans-serif; font-size:48px; text-anchor:middle;\" transform=\"rotate(0, 696.751, 1497.73)\" x=\"696.751\" y=\"1497.73\">0.5</text>\n",
       "</g>\n",
       "<g clip-path=\"url(#clip6800)\">\n",
       "<text style=\"fill:#000000; fill-opacity:1; font-family:Arial,Helvetica Neue,Helvetica,sans-serif; font-size:48px; text-anchor:middle;\" transform=\"rotate(0, 1116.63, 1497.73)\" x=\"1116.63\" y=\"1497.73\">1.0</text>\n",
       "</g>\n",
       "<g clip-path=\"url(#clip6800)\">\n",
       "<text style=\"fill:#000000; fill-opacity:1; font-family:Arial,Helvetica Neue,Helvetica,sans-serif; font-size:48px; text-anchor:middle;\" transform=\"rotate(0, 1536.51, 1497.73)\" x=\"1536.51\" y=\"1497.73\">1.5</text>\n",
       "</g>\n",
       "<g clip-path=\"url(#clip6800)\">\n",
       "<text style=\"fill:#000000; fill-opacity:1; font-family:Arial,Helvetica Neue,Helvetica,sans-serif; font-size:48px; text-anchor:middle;\" transform=\"rotate(0, 1956.39, 1497.73)\" x=\"1956.39\" y=\"1497.73\">2.0</text>\n",
       "</g>\n",
       "<g clip-path=\"url(#clip6800)\">\n",
       "<text style=\"fill:#000000; fill-opacity:1; font-family:Arial,Helvetica Neue,Helvetica,sans-serif; font-size:48px; text-anchor:end;\" transform=\"rotate(0, 192.408, 1421.7)\" x=\"192.408\" y=\"1421.7\">0.00</text>\n",
       "</g>\n",
       "<g clip-path=\"url(#clip6800)\">\n",
       "<text style=\"fill:#000000; fill-opacity:1; font-family:Arial,Helvetica Neue,Helvetica,sans-serif; font-size:48px; text-anchor:end;\" transform=\"rotate(0, 192.408, 1092.34)\" x=\"192.408\" y=\"1092.34\">0.05</text>\n",
       "</g>\n",
       "<g clip-path=\"url(#clip6800)\">\n",
       "<text style=\"fill:#000000; fill-opacity:1; font-family:Arial,Helvetica Neue,Helvetica,sans-serif; font-size:48px; text-anchor:end;\" transform=\"rotate(0, 192.408, 762.985)\" x=\"192.408\" y=\"762.985\">0.10</text>\n",
       "</g>\n",
       "<g clip-path=\"url(#clip6800)\">\n",
       "<text style=\"fill:#000000; fill-opacity:1; font-family:Arial,Helvetica Neue,Helvetica,sans-serif; font-size:48px; text-anchor:end;\" transform=\"rotate(0, 192.408, 433.626)\" x=\"192.408\" y=\"433.626\">0.15</text>\n",
       "</g>\n",
       "<g clip-path=\"url(#clip6800)\">\n",
       "<text style=\"fill:#000000; fill-opacity:1; font-family:Arial,Helvetica Neue,Helvetica,sans-serif; font-size:48px; text-anchor:end;\" transform=\"rotate(0, 192.408, 104.267)\" x=\"192.408\" y=\"104.267\">0.20</text>\n",
       "</g>\n",
       "<g clip-path=\"url(#clip6800)\">\n",
       "<image width=\"21\" height=\"42\" xlink:href=\"data:image/png;base64,\n",
       "iVBORw0KGgoAAAANSUhEUgAAABUAAAAqCAYAAABcOxDuAAABl0lEQVRIia3W4c3CIBAG4FcnII7g\n",
       "CDdD3YAZOgJxBEZghsYJiCN0BOwIxA3u+4X5sNAeVBJ+0F7fwJMzcmJmtIzX68WPxwNEhNvtdioW\n",
       "MbN4eu8ZwGdO08SlunPLLu/3e7ZelqVcKN1ljDHbJQD23hd3Kg6dpmkVWqsVH//5fGZrIqrWdocO\n",
       "w1Av/rWn2LTFU2za4gkITZs8gf3jt3qKTFs9mRnw3rNSavVh7/Te83lZFrzfbwmtaFwul+3jhxCa\n",
       "PXdNezx3+7S1P9NoCt3tzzR+2Z+7pr2em6a9nsCGabcnUD7+Ec+q6RHPqukRT6BiesgTWB//qGfR\n",
       "9Khn0fSoJ1Awnec5Wzd7AviJZ4yRtdY8zzOvTL+vigA4xrgbaoxhABxCWIdaa7NAIhLt8rs2M+3x\n",
       "THdWa23Z9Hq9im7Kaab/MK11VrcZmuBrU2udWRZDU5EkNPk751Y12cI5J2qnVDeOY/H96gERfUKN\n",
       "MdlHqR+3AouhIQT+HzyOIxtj+D+NtXbTuvrCOcfDMLBSipVSTERsjBH9GP4A/KauBMnGQOkAAAAA\n",
       "SUVORK5CYII=\n",
       "\" transform=\"translate(1274, 1520)\"/>\n",
       "</g>\n",
       "<g clip-path=\"url(#clip6800)\">\n",
       "<image width=\"30\" height=\"29\" xlink:href=\"data:image/png;base64,\n",
       "iVBORw0KGgoAAAANSUhEUgAAAB4AAAAdCAYAAAC9pNwMAAABu0lEQVRIib2Va43EMAyE5xgEQyEU\n",
       "QyAUQyAUQyEEQyEUQyAEQxbC3I+TI7dJ+sjqupKl3VXjqe3PE4QQSBJvB4wxNMZwXddXXwAhBA7D\n",
       "QACcpukr8ZQSY4y3cuQvzjkC4DAMtw8fY57nnGNZltMcux/LshAAAXS1PqVEKUBeYNu2ap7ij2ma\n",
       "8kHvfVflKSWO45jz1EZYHNq2jQBojCGAy5adhRYfx5EpJTaFY4y51dZaAuA8z92VSwEi3hT23hMA\n",
       "Zb+l9c65LvF1XbOwzrN7KISQH6jNvVdcVw2AMca6qLW2EBDxnrZrYCXHDqgrmmXmT4HTayqz3lWq\n",
       "W3FF6pNVE252IVXopb8iVSz2rrg4moQxphz8Hb+OMeY1ueNwx+KstaXwXXhk3wE0bVHi2OYQwt5d\n",
       "nlKr+Wjd60dw5SWLwddW6Sy0xdag1JeGHgtIQmCR0J76rbjkPrJQwNJrEmKNR/GW41VJ7b2PtXgI\n",
       "gSmlZq7isJ6Jvk3uhmZGRlBzuiatzrniDn1a+RmwjxL2ANfa9X8Tls4JNwV0/ylM/nm7WKZA94qw\n",
       "hL4ovPfviErEGGmtpTGGPyTx9ufz+fAXUqujFxChGt4AAAAASUVORK5CYII=\n",
       "\" transform=\"translate(43, 731)\"/>\n",
       "</g>\n",
       "<polyline clip-path=\"url(#clip6802)\" style=\"stroke:#e34a33; stroke-width:24; stroke-opacity:1; fill:none\" points=\"\n",
       "  276.871,86.7672 360.847,732.969 444.823,1404.2 528.799,1404.2 612.775,1404.2 696.751,1404.2 780.727,1404.2 864.702,1404.2 948.678,1404.2 1032.65,1404.2 \n",
       "  1116.63,1404.2 1200.61,1404.2 1284.58,1404.2 1368.56,1404.2 1452.53,1404.2 1536.51,1404.2 1620.49,1404.2 1704.46,1404.2 1788.44,1404.2 1872.41,1404.2 \n",
       "  1956.39,1404.2 2040.37,1404.2 2124.34,1404.2 2208.32,1404.2 2292.29,1404.2 \n",
       "  \"/>\n",
       "<circle clip-path=\"url(#clip6802)\" style=\"fill:#000000; stroke:none; fill-opacity:1\" cx=\"276.871\" cy=\"86.7672\" r=\"25\"/>\n",
       "<circle clip-path=\"url(#clip6802)\" style=\"fill:#e34a33; stroke:none; fill-opacity:1\" cx=\"276.871\" cy=\"86.7672\" r=\"21\"/>\n",
       "<circle clip-path=\"url(#clip6802)\" style=\"fill:#000000; stroke:none; fill-opacity:1\" cx=\"360.847\" cy=\"732.969\" r=\"25\"/>\n",
       "<circle clip-path=\"url(#clip6802)\" style=\"fill:#e34a33; stroke:none; fill-opacity:1\" cx=\"360.847\" cy=\"732.969\" r=\"21\"/>\n",
       "<circle clip-path=\"url(#clip6802)\" style=\"fill:#000000; stroke:none; fill-opacity:1\" cx=\"444.823\" cy=\"1404.2\" r=\"25\"/>\n",
       "<circle clip-path=\"url(#clip6802)\" style=\"fill:#e34a33; stroke:none; fill-opacity:1\" cx=\"444.823\" cy=\"1404.2\" r=\"21\"/>\n",
       "<circle clip-path=\"url(#clip6802)\" style=\"fill:#000000; stroke:none; fill-opacity:1\" cx=\"528.799\" cy=\"1404.2\" r=\"25\"/>\n",
       "<circle clip-path=\"url(#clip6802)\" style=\"fill:#e34a33; stroke:none; fill-opacity:1\" cx=\"528.799\" cy=\"1404.2\" r=\"21\"/>\n",
       "<circle clip-path=\"url(#clip6802)\" style=\"fill:#000000; stroke:none; fill-opacity:1\" cx=\"612.775\" cy=\"1404.2\" r=\"25\"/>\n",
       "<circle clip-path=\"url(#clip6802)\" style=\"fill:#e34a33; stroke:none; fill-opacity:1\" cx=\"612.775\" cy=\"1404.2\" r=\"21\"/>\n",
       "<circle clip-path=\"url(#clip6802)\" style=\"fill:#000000; stroke:none; fill-opacity:1\" cx=\"696.751\" cy=\"1404.2\" r=\"25\"/>\n",
       "<circle clip-path=\"url(#clip6802)\" style=\"fill:#e34a33; stroke:none; fill-opacity:1\" cx=\"696.751\" cy=\"1404.2\" r=\"21\"/>\n",
       "<circle clip-path=\"url(#clip6802)\" style=\"fill:#000000; stroke:none; fill-opacity:1\" cx=\"780.727\" cy=\"1404.2\" r=\"25\"/>\n",
       "<circle clip-path=\"url(#clip6802)\" style=\"fill:#e34a33; stroke:none; fill-opacity:1\" cx=\"780.727\" cy=\"1404.2\" r=\"21\"/>\n",
       "<circle clip-path=\"url(#clip6802)\" style=\"fill:#000000; stroke:none; fill-opacity:1\" cx=\"864.702\" cy=\"1404.2\" r=\"25\"/>\n",
       "<circle clip-path=\"url(#clip6802)\" style=\"fill:#e34a33; stroke:none; fill-opacity:1\" cx=\"864.702\" cy=\"1404.2\" r=\"21\"/>\n",
       "<circle clip-path=\"url(#clip6802)\" style=\"fill:#000000; stroke:none; fill-opacity:1\" cx=\"948.678\" cy=\"1404.2\" r=\"25\"/>\n",
       "<circle clip-path=\"url(#clip6802)\" style=\"fill:#e34a33; stroke:none; fill-opacity:1\" cx=\"948.678\" cy=\"1404.2\" r=\"21\"/>\n",
       "<circle clip-path=\"url(#clip6802)\" style=\"fill:#000000; stroke:none; fill-opacity:1\" cx=\"1032.65\" cy=\"1404.2\" r=\"25\"/>\n",
       "<circle clip-path=\"url(#clip6802)\" style=\"fill:#e34a33; stroke:none; fill-opacity:1\" cx=\"1032.65\" cy=\"1404.2\" r=\"21\"/>\n",
       "<circle clip-path=\"url(#clip6802)\" style=\"fill:#000000; stroke:none; fill-opacity:1\" cx=\"1116.63\" cy=\"1404.2\" r=\"25\"/>\n",
       "<circle clip-path=\"url(#clip6802)\" style=\"fill:#e34a33; stroke:none; fill-opacity:1\" cx=\"1116.63\" cy=\"1404.2\" r=\"21\"/>\n",
       "<circle clip-path=\"url(#clip6802)\" style=\"fill:#000000; stroke:none; fill-opacity:1\" cx=\"1200.61\" cy=\"1404.2\" r=\"25\"/>\n",
       "<circle clip-path=\"url(#clip6802)\" style=\"fill:#e34a33; stroke:none; fill-opacity:1\" cx=\"1200.61\" cy=\"1404.2\" r=\"21\"/>\n",
       "<circle clip-path=\"url(#clip6802)\" style=\"fill:#000000; stroke:none; fill-opacity:1\" cx=\"1284.58\" cy=\"1404.2\" r=\"25\"/>\n",
       "<circle clip-path=\"url(#clip6802)\" style=\"fill:#e34a33; stroke:none; fill-opacity:1\" cx=\"1284.58\" cy=\"1404.2\" r=\"21\"/>\n",
       "<circle clip-path=\"url(#clip6802)\" style=\"fill:#000000; stroke:none; fill-opacity:1\" cx=\"1368.56\" cy=\"1404.2\" r=\"25\"/>\n",
       "<circle clip-path=\"url(#clip6802)\" style=\"fill:#e34a33; stroke:none; fill-opacity:1\" cx=\"1368.56\" cy=\"1404.2\" r=\"21\"/>\n",
       "<circle clip-path=\"url(#clip6802)\" style=\"fill:#000000; stroke:none; fill-opacity:1\" cx=\"1452.53\" cy=\"1404.2\" r=\"25\"/>\n",
       "<circle clip-path=\"url(#clip6802)\" style=\"fill:#e34a33; stroke:none; fill-opacity:1\" cx=\"1452.53\" cy=\"1404.2\" r=\"21\"/>\n",
       "<circle clip-path=\"url(#clip6802)\" style=\"fill:#000000; stroke:none; fill-opacity:1\" cx=\"1536.51\" cy=\"1404.2\" r=\"25\"/>\n",
       "<circle clip-path=\"url(#clip6802)\" style=\"fill:#e34a33; stroke:none; fill-opacity:1\" cx=\"1536.51\" cy=\"1404.2\" r=\"21\"/>\n",
       "<circle clip-path=\"url(#clip6802)\" style=\"fill:#000000; stroke:none; fill-opacity:1\" cx=\"1620.49\" cy=\"1404.2\" r=\"25\"/>\n",
       "<circle clip-path=\"url(#clip6802)\" style=\"fill:#e34a33; stroke:none; fill-opacity:1\" cx=\"1620.49\" cy=\"1404.2\" r=\"21\"/>\n",
       "<circle clip-path=\"url(#clip6802)\" style=\"fill:#000000; stroke:none; fill-opacity:1\" cx=\"1704.46\" cy=\"1404.2\" r=\"25\"/>\n",
       "<circle clip-path=\"url(#clip6802)\" style=\"fill:#e34a33; stroke:none; fill-opacity:1\" cx=\"1704.46\" cy=\"1404.2\" r=\"21\"/>\n",
       "<circle clip-path=\"url(#clip6802)\" style=\"fill:#000000; stroke:none; fill-opacity:1\" cx=\"1788.44\" cy=\"1404.2\" r=\"25\"/>\n",
       "<circle clip-path=\"url(#clip6802)\" style=\"fill:#e34a33; stroke:none; fill-opacity:1\" cx=\"1788.44\" cy=\"1404.2\" r=\"21\"/>\n",
       "<circle clip-path=\"url(#clip6802)\" style=\"fill:#000000; stroke:none; fill-opacity:1\" cx=\"1872.41\" cy=\"1404.2\" r=\"25\"/>\n",
       "<circle clip-path=\"url(#clip6802)\" style=\"fill:#e34a33; stroke:none; fill-opacity:1\" cx=\"1872.41\" cy=\"1404.2\" r=\"21\"/>\n",
       "<circle clip-path=\"url(#clip6802)\" style=\"fill:#000000; stroke:none; fill-opacity:1\" cx=\"1956.39\" cy=\"1404.2\" r=\"25\"/>\n",
       "<circle clip-path=\"url(#clip6802)\" style=\"fill:#e34a33; stroke:none; fill-opacity:1\" cx=\"1956.39\" cy=\"1404.2\" r=\"21\"/>\n",
       "<circle clip-path=\"url(#clip6802)\" style=\"fill:#000000; stroke:none; fill-opacity:1\" cx=\"2040.37\" cy=\"1404.2\" r=\"25\"/>\n",
       "<circle clip-path=\"url(#clip6802)\" style=\"fill:#e34a33; stroke:none; fill-opacity:1\" cx=\"2040.37\" cy=\"1404.2\" r=\"21\"/>\n",
       "<circle clip-path=\"url(#clip6802)\" style=\"fill:#000000; stroke:none; fill-opacity:1\" cx=\"2124.34\" cy=\"1404.2\" r=\"25\"/>\n",
       "<circle clip-path=\"url(#clip6802)\" style=\"fill:#e34a33; stroke:none; fill-opacity:1\" cx=\"2124.34\" cy=\"1404.2\" r=\"21\"/>\n",
       "<circle clip-path=\"url(#clip6802)\" style=\"fill:#000000; stroke:none; fill-opacity:1\" cx=\"2208.32\" cy=\"1404.2\" r=\"25\"/>\n",
       "<circle clip-path=\"url(#clip6802)\" style=\"fill:#e34a33; stroke:none; fill-opacity:1\" cx=\"2208.32\" cy=\"1404.2\" r=\"21\"/>\n",
       "<circle clip-path=\"url(#clip6802)\" style=\"fill:#000000; stroke:none; fill-opacity:1\" cx=\"2292.29\" cy=\"1404.2\" r=\"25\"/>\n",
       "<circle clip-path=\"url(#clip6802)\" style=\"fill:#e34a33; stroke:none; fill-opacity:1\" cx=\"2292.29\" cy=\"1404.2\" r=\"21\"/>\n",
       "<polyline clip-path=\"url(#clip6802)\" style=\"stroke:#fee8c8; stroke-width:4; stroke-opacity:1; fill:none\" points=\"\n",
       "  276.871,86.7672 360.847,732.674 444.823,1404.2 528.799,1404.2 612.775,1404.2 696.751,1404.2 780.727,1404.2 864.702,1404.2 948.678,1404.2 1032.65,1404.2 \n",
       "  1116.63,1404.2 1200.61,1404.2 1284.58,1404.19 1368.56,1404.2 1452.53,1404.2 1536.51,1404.2 1620.49,1404.2 1704.46,1404.2 1788.44,1404.2 1872.41,1404.2 \n",
       "  1956.39,1404.2 2040.37,1404.2 2124.34,1404.2 2208.32,1404.2 2292.29,1404.2 \n",
       "  \"/>\n",
       "<circle clip-path=\"url(#clip6802)\" style=\"fill:#000000; stroke:none; fill-opacity:1\" cx=\"276.871\" cy=\"86.7672\" r=\"25\"/>\n",
       "<circle clip-path=\"url(#clip6802)\" style=\"fill:#fee8c8; stroke:none; fill-opacity:1\" cx=\"276.871\" cy=\"86.7672\" r=\"21\"/>\n",
       "<circle clip-path=\"url(#clip6802)\" style=\"fill:#000000; stroke:none; fill-opacity:1\" cx=\"360.847\" cy=\"732.674\" r=\"25\"/>\n",
       "<circle clip-path=\"url(#clip6802)\" style=\"fill:#fee8c8; stroke:none; fill-opacity:1\" cx=\"360.847\" cy=\"732.674\" r=\"21\"/>\n",
       "<circle clip-path=\"url(#clip6802)\" style=\"fill:#000000; stroke:none; fill-opacity:1\" cx=\"444.823\" cy=\"1404.2\" r=\"25\"/>\n",
       "<circle clip-path=\"url(#clip6802)\" style=\"fill:#fee8c8; stroke:none; fill-opacity:1\" cx=\"444.823\" cy=\"1404.2\" r=\"21\"/>\n",
       "<circle clip-path=\"url(#clip6802)\" style=\"fill:#000000; stroke:none; fill-opacity:1\" cx=\"528.799\" cy=\"1404.2\" r=\"25\"/>\n",
       "<circle clip-path=\"url(#clip6802)\" style=\"fill:#fee8c8; stroke:none; fill-opacity:1\" cx=\"528.799\" cy=\"1404.2\" r=\"21\"/>\n",
       "<circle clip-path=\"url(#clip6802)\" style=\"fill:#000000; stroke:none; fill-opacity:1\" cx=\"612.775\" cy=\"1404.2\" r=\"25\"/>\n",
       "<circle clip-path=\"url(#clip6802)\" style=\"fill:#fee8c8; stroke:none; fill-opacity:1\" cx=\"612.775\" cy=\"1404.2\" r=\"21\"/>\n",
       "<circle clip-path=\"url(#clip6802)\" style=\"fill:#000000; stroke:none; fill-opacity:1\" cx=\"696.751\" cy=\"1404.2\" r=\"25\"/>\n",
       "<circle clip-path=\"url(#clip6802)\" style=\"fill:#fee8c8; stroke:none; fill-opacity:1\" cx=\"696.751\" cy=\"1404.2\" r=\"21\"/>\n",
       "<circle clip-path=\"url(#clip6802)\" style=\"fill:#000000; stroke:none; fill-opacity:1\" cx=\"780.727\" cy=\"1404.2\" r=\"25\"/>\n",
       "<circle clip-path=\"url(#clip6802)\" style=\"fill:#fee8c8; stroke:none; fill-opacity:1\" cx=\"780.727\" cy=\"1404.2\" r=\"21\"/>\n",
       "<circle clip-path=\"url(#clip6802)\" style=\"fill:#000000; stroke:none; fill-opacity:1\" cx=\"864.702\" cy=\"1404.2\" r=\"25\"/>\n",
       "<circle clip-path=\"url(#clip6802)\" style=\"fill:#fee8c8; stroke:none; fill-opacity:1\" cx=\"864.702\" cy=\"1404.2\" r=\"21\"/>\n",
       "<circle clip-path=\"url(#clip6802)\" style=\"fill:#000000; stroke:none; fill-opacity:1\" cx=\"948.678\" cy=\"1404.2\" r=\"25\"/>\n",
       "<circle clip-path=\"url(#clip6802)\" style=\"fill:#fee8c8; stroke:none; fill-opacity:1\" cx=\"948.678\" cy=\"1404.2\" r=\"21\"/>\n",
       "<circle clip-path=\"url(#clip6802)\" style=\"fill:#000000; stroke:none; fill-opacity:1\" cx=\"1032.65\" cy=\"1404.2\" r=\"25\"/>\n",
       "<circle clip-path=\"url(#clip6802)\" style=\"fill:#fee8c8; stroke:none; fill-opacity:1\" cx=\"1032.65\" cy=\"1404.2\" r=\"21\"/>\n",
       "<circle clip-path=\"url(#clip6802)\" style=\"fill:#000000; stroke:none; fill-opacity:1\" cx=\"1116.63\" cy=\"1404.2\" r=\"25\"/>\n",
       "<circle clip-path=\"url(#clip6802)\" style=\"fill:#fee8c8; stroke:none; fill-opacity:1\" cx=\"1116.63\" cy=\"1404.2\" r=\"21\"/>\n",
       "<circle clip-path=\"url(#clip6802)\" style=\"fill:#000000; stroke:none; fill-opacity:1\" cx=\"1200.61\" cy=\"1404.2\" r=\"25\"/>\n",
       "<circle clip-path=\"url(#clip6802)\" style=\"fill:#fee8c8; stroke:none; fill-opacity:1\" cx=\"1200.61\" cy=\"1404.2\" r=\"21\"/>\n",
       "<circle clip-path=\"url(#clip6802)\" style=\"fill:#000000; stroke:none; fill-opacity:1\" cx=\"1284.58\" cy=\"1404.19\" r=\"25\"/>\n",
       "<circle clip-path=\"url(#clip6802)\" style=\"fill:#fee8c8; stroke:none; fill-opacity:1\" cx=\"1284.58\" cy=\"1404.19\" r=\"21\"/>\n",
       "<circle clip-path=\"url(#clip6802)\" style=\"fill:#000000; stroke:none; fill-opacity:1\" cx=\"1368.56\" cy=\"1404.2\" r=\"25\"/>\n",
       "<circle clip-path=\"url(#clip6802)\" style=\"fill:#fee8c8; stroke:none; fill-opacity:1\" cx=\"1368.56\" cy=\"1404.2\" r=\"21\"/>\n",
       "<circle clip-path=\"url(#clip6802)\" style=\"fill:#000000; stroke:none; fill-opacity:1\" cx=\"1452.53\" cy=\"1404.2\" r=\"25\"/>\n",
       "<circle clip-path=\"url(#clip6802)\" style=\"fill:#fee8c8; stroke:none; fill-opacity:1\" cx=\"1452.53\" cy=\"1404.2\" r=\"21\"/>\n",
       "<circle clip-path=\"url(#clip6802)\" style=\"fill:#000000; stroke:none; fill-opacity:1\" cx=\"1536.51\" cy=\"1404.2\" r=\"25\"/>\n",
       "<circle clip-path=\"url(#clip6802)\" style=\"fill:#fee8c8; stroke:none; fill-opacity:1\" cx=\"1536.51\" cy=\"1404.2\" r=\"21\"/>\n",
       "<circle clip-path=\"url(#clip6802)\" style=\"fill:#000000; stroke:none; fill-opacity:1\" cx=\"1620.49\" cy=\"1404.2\" r=\"25\"/>\n",
       "<circle clip-path=\"url(#clip6802)\" style=\"fill:#fee8c8; stroke:none; fill-opacity:1\" cx=\"1620.49\" cy=\"1404.2\" r=\"21\"/>\n",
       "<circle clip-path=\"url(#clip6802)\" style=\"fill:#000000; stroke:none; fill-opacity:1\" cx=\"1704.46\" cy=\"1404.2\" r=\"25\"/>\n",
       "<circle clip-path=\"url(#clip6802)\" style=\"fill:#fee8c8; stroke:none; fill-opacity:1\" cx=\"1704.46\" cy=\"1404.2\" r=\"21\"/>\n",
       "<circle clip-path=\"url(#clip6802)\" style=\"fill:#000000; stroke:none; fill-opacity:1\" cx=\"1788.44\" cy=\"1404.2\" r=\"25\"/>\n",
       "<circle clip-path=\"url(#clip6802)\" style=\"fill:#fee8c8; stroke:none; fill-opacity:1\" cx=\"1788.44\" cy=\"1404.2\" r=\"21\"/>\n",
       "<circle clip-path=\"url(#clip6802)\" style=\"fill:#000000; stroke:none; fill-opacity:1\" cx=\"1872.41\" cy=\"1404.2\" r=\"25\"/>\n",
       "<circle clip-path=\"url(#clip6802)\" style=\"fill:#fee8c8; stroke:none; fill-opacity:1\" cx=\"1872.41\" cy=\"1404.2\" r=\"21\"/>\n",
       "<circle clip-path=\"url(#clip6802)\" style=\"fill:#000000; stroke:none; fill-opacity:1\" cx=\"1956.39\" cy=\"1404.2\" r=\"25\"/>\n",
       "<circle clip-path=\"url(#clip6802)\" style=\"fill:#fee8c8; stroke:none; fill-opacity:1\" cx=\"1956.39\" cy=\"1404.2\" r=\"21\"/>\n",
       "<circle clip-path=\"url(#clip6802)\" style=\"fill:#000000; stroke:none; fill-opacity:1\" cx=\"2040.37\" cy=\"1404.2\" r=\"25\"/>\n",
       "<circle clip-path=\"url(#clip6802)\" style=\"fill:#fee8c8; stroke:none; fill-opacity:1\" cx=\"2040.37\" cy=\"1404.2\" r=\"21\"/>\n",
       "<circle clip-path=\"url(#clip6802)\" style=\"fill:#000000; stroke:none; fill-opacity:1\" cx=\"2124.34\" cy=\"1404.2\" r=\"25\"/>\n",
       "<circle clip-path=\"url(#clip6802)\" style=\"fill:#fee8c8; stroke:none; fill-opacity:1\" cx=\"2124.34\" cy=\"1404.2\" r=\"21\"/>\n",
       "<circle clip-path=\"url(#clip6802)\" style=\"fill:#000000; stroke:none; fill-opacity:1\" cx=\"2208.32\" cy=\"1404.2\" r=\"25\"/>\n",
       "<circle clip-path=\"url(#clip6802)\" style=\"fill:#fee8c8; stroke:none; fill-opacity:1\" cx=\"2208.32\" cy=\"1404.2\" r=\"21\"/>\n",
       "<circle clip-path=\"url(#clip6802)\" style=\"fill:#000000; stroke:none; fill-opacity:1\" cx=\"2292.29\" cy=\"1404.2\" r=\"25\"/>\n",
       "<circle clip-path=\"url(#clip6802)\" style=\"fill:#fee8c8; stroke:none; fill-opacity:1\" cx=\"2292.29\" cy=\"1404.2\" r=\"21\"/>\n",
       "<polygon clip-path=\"url(#clip6800)\" points=\"\n",
       "1813.42,312.204 2280.76,312.204 2280.76,130.764 1813.42,130.764 \n",
       "  \" fill=\"#ffffff\" fill-rule=\"evenodd\" fill-opacity=\"1\"/>\n",
       "<polyline clip-path=\"url(#clip6800)\" style=\"stroke:#000000; stroke-width:4; stroke-opacity:1; fill:none\" points=\"\n",
       "  1813.42,312.204 2280.76,312.204 2280.76,130.764 1813.42,130.764 1813.42,312.204 \n",
       "  \"/>\n",
       "<polyline clip-path=\"url(#clip6800)\" style=\"stroke:#e34a33; stroke-width:24; stroke-opacity:1; fill:none\" points=\"\n",
       "  1837.42,191.244 1981.42,191.244 \n",
       "  \"/>\n",
       "<circle clip-path=\"url(#clip6800)\" style=\"fill:#000000; stroke:none; fill-opacity:1\" cx=\"1921.42\" cy=\"191.244\" r=\"25\"/>\n",
       "<circle clip-path=\"url(#clip6800)\" style=\"fill:#e34a33; stroke:none; fill-opacity:1\" cx=\"1921.42\" cy=\"191.244\" r=\"21\"/>\n",
       "<g clip-path=\"url(#clip6800)\">\n",
       "<text style=\"fill:#000000; fill-opacity:1; font-family:Arial,Helvetica Neue,Helvetica,sans-serif; font-size:48px; text-anchor:start;\" transform=\"rotate(0, 2005.42, 208.744)\" x=\"2005.42\" y=\"208.744\">Indirect</text>\n",
       "</g>\n",
       "<polyline clip-path=\"url(#clip6800)\" style=\"stroke:#fee8c8; stroke-width:4; stroke-opacity:1; fill:none\" points=\"\n",
       "  1837.42,251.724 1981.42,251.724 \n",
       "  \"/>\n",
       "<circle clip-path=\"url(#clip6800)\" style=\"fill:#000000; stroke:none; fill-opacity:1\" cx=\"1921.42\" cy=\"251.724\" r=\"25\"/>\n",
       "<circle clip-path=\"url(#clip6800)\" style=\"fill:#fee8c8; stroke:none; fill-opacity:1\" cx=\"1921.42\" cy=\"251.724\" r=\"21\"/>\n",
       "<g clip-path=\"url(#clip6800)\">\n",
       "<text style=\"fill:#000000; fill-opacity:1; font-family:Arial,Helvetica Neue,Helvetica,sans-serif; font-size:48px; text-anchor:start;\" transform=\"rotate(0, 2005.42, 269.224)\" x=\"2005.42\" y=\"269.224\">Semidirect</text>\n",
       "</g>\n",
       "</svg>\n"
      ]
     },
     "execution_count": 37,
     "metadata": {},
     "output_type": "execute_result"
    }
   ],
   "source": [
    "j = 2\n",
    "xlabel=latexstring(\"t\")\n",
    "ylabel=latexstring(\"z\")\n",
    "plot(traj_indirect[7],traj_indirect[8][j,:],label=\"Indirect\",seriescolor=RGB(((227,74,51) ./ 255.)...),linewidth=6,marker=6,xlabel=xlabel)\n",
    "plot!(traj_semidirect[7],traj_semidirect[8][j,:],label=\"Semidirect\",seriescolor=RGB(((254,232,200) ./ 255.)...),linewidth=1,marker=6,ylabel=ylabel)"
   ]
  },
  {
   "cell_type": "code",
   "execution_count": 39,
   "metadata": {},
   "outputs": [],
   "source": [
    "savefig(string(\"slidingbox_z_08-28-19_3.svg\")) "
   ]
  },
  {
   "cell_type": "code",
   "execution_count": null,
   "metadata": {},
   "outputs": [],
   "source": [
    "display(traj_indirect[2][end])\n",
    "display(traj_semidirect[2][end])"
   ]
  },
  {
   "cell_type": "code",
   "execution_count": null,
   "metadata": {},
   "outputs": [],
   "source": [
    "display(length(traj_indirect[9]))\n",
    "display(length(traj_semidirect[9]))"
   ]
  },
  {
   "cell_type": "markdown",
   "metadata": {},
   "source": [
    "# Trajectory optimization of little dog"
   ]
  },
  {
   "cell_type": "code",
   "execution_count": 181,
   "metadata": {},
   "outputs": [],
   "source": [
    "urdf = joinpath(\"..\", \"..\", \"urdf\", \"little_dog\", \"little_dog2d.urdf\")\n",
    "mechanism = parse_urdf(Float64, urdf)\n",
    "\n",
    "floor = findbody(mechanism, \"floor\")\n",
    "point = Point3D(default_frame(floor), SVector([0.,0.,0.]...))\n",
    "normal = FreeVector3D(default_frame(floor), SVector([0.,0.,1.]...))\n",
    "floor_obs = Obstacle(floor, point, normal, :xyz, 1.)\n",
    "\n",
    "obstacles = [floor_obs]\n",
    "env = Environment(mechanism, urdf, obstacles);"
   ]
  },
  {
   "cell_type": "code",
   "execution_count": 4,
   "metadata": {},
   "outputs": [
    {
     "name": "stderr",
     "output_type": "stream",
     "text": [
      "┌ Info: Serving MeshCat visualizer at http://127.0.0.1:8700\n",
      "└ @ MeshCat /home/blandry/.julia/packages/MeshCat/WlA0B/src/servers.jl:24\n",
      "/usr/bin/xdg-open: 778: /usr/bin/xdg-open: www-browser: not found\n",
      "/usr/bin/xdg-open: 778: /usr/bin/xdg-open: links2: not found\n",
      "/usr/bin/xdg-open: 778: /usr/bin/xdg-open: elinks: not found\n",
      "/usr/bin/xdg-open: 778: /usr/bin/xdg-open: links: not found\n",
      "/usr/bin/xdg-open: 778: /usr/bin/xdg-open: lynx: not found\n",
      "/usr/bin/xdg-open: 778: /usr/bin/xdg-open: w3m: not found\n",
      "xdg-open: no method available for opening 'http://127.0.0.1:8700'\n"
     ]
    },
    {
     "name": "stdout",
     "output_type": "stream",
     "text": [
      "Could not open browser automatically: ErrorException(\"failed process: Process(`xdg-open http://127.0.0.1:8700`, ProcessExited(3)) [3]\")\n",
      "Please open the following URL in your browser:\n",
      "http://127.0.0.1:8700\n"
     ]
    }
   ],
   "source": [
    "mvis = MechanismVisualizer(mechanism, URDFVisuals(urdf));\n",
    "open(mvis)"
   ]
  },
  {
   "cell_type": "code",
   "execution_count": 215,
   "metadata": {},
   "outputs": [],
   "source": [
    "N = 8\n",
    "Δt = 0.025\n",
    "q0 = [0., -.275, 0., 0.25, -0.25, 0.25, -0.25, pi/4, pi/4, -pi/4, -pi/4, -pi/2, -pi/2, pi/2, pi/2] \n",
    "v0 = zeros(num_velocities(mechanism))\n",
    "\n",
    "sim_data = get_sim_data_indirect(mechanism,env,Δt)\n",
    "null_ctrl! = (u,t,x) -> u[:] .= 0.\n",
    "x0 = MechanismState(mechanism)\n",
    "set_configuration!(x0, q0)\n",
    "set_velocity!(x0, v0)\n",
    "setdirty!(x0)\n",
    "traj_sim = Bilevel.simulate(sim_data,null_ctrl!,x0,N)\n",
    "setanimation!(mvis, traj_sim[6], traj_sim[1])"
   ]
  },
  {
   "cell_type": "code",
   "execution_count": 154,
   "metadata": {},
   "outputs": [],
   "source": [
    "set_configuration!(mvis, [0.1, -.2, 0., 0.25, -0.25, 0.25, -0.25, 0, 0, 1, -1, 0, 0, 0, 0])"
   ]
  },
  {
   "cell_type": "code",
   "execution_count": null,
   "metadata": {},
   "outputs": [],
   "source": [
    "function feet_velocities(q)\n",
    "    # constraint higher velocities off the ground?\n",
    "end"
   ]
  },
  {
   "cell_type": "code",
   "execution_count": 211,
   "metadata": {},
   "outputs": [
    {
     "data": {
      "text/plain": [
       "setup_prob! (generic function with 1 method)"
      ]
     },
     "execution_count": 211,
     "metadata": {},
     "output_type": "execute_result"
    }
   ],
   "source": [
    "q_nom = copy(traj_sim[1][end])\n",
    "q_min = min.(q_nom, [-5., -.5, -0.02*pi, 0.25, -0.25, 0.25, -0.25, -3.5, -3.5, -3.5, -3.5, -3.1, -3.1, -3.1, -3.1])\n",
    "q_max = max.(q_nom, [5., -0.1, 0.02*pi, 0.25, -0.25, 0.25, -0.25, 2.4, 2.4, 2.4, 2.4, 1., 1., 1., 1.])\n",
    "\n",
    "x_goal = 0.05\n",
    "\n",
    "N = 14\n",
    "Δt = 0.05\n",
    "\n",
    "function add_prob_constraints!(sim_data)\n",
    "    vs = sim_data.vs\n",
    "\n",
    "    add_eq!(sim_data, :cq1x, 1, x -> vs(x, :q1)[1])\n",
    "    add_eq!(sim_data, :cv1, num_velocities(mechanism), x -> vs(x, :v1))\n",
    "\n",
    "    add_ineq!(sim_data, :cqNx, 1, x -> x_goal - vs(x, Symbol(\"q\", N))[1])\n",
    "    \n",
    "    add_eq!(sim_data, :cqN, num_positions(mechanism)-1, x -> vs(x, Symbol(\"q\", N))[2:end] - vs(x, :q1)[2:end])\n",
    "    add_eq!(sim_data, :cvN, num_velocities(mechanism), x -> vs(x, Symbol(\"v\", N)))\n",
    "\n",
    "#     for n = 1:N\n",
    "#         add_eq!(sim_data, Symbol(\"cqSym1_\", n), 1, x -> vs(x, Symbol(\"q\", n))[8] + vs(x, Symbol(\"q\", n))[11])\n",
    "#         add_eq!(sim_data, Symbol(\"cqSym2_\", n), 1, x -> vs(x, Symbol(\"q\", n))[9] + vs(x, Symbol(\"q\", n))[10])\n",
    "#         add_eq!(sim_data, Symbol(\"cqSym3_\", n), 1, x -> vs(x, Symbol(\"q\", n))[12] - vs(x, Symbol(\"q\", n))[15]) \n",
    "#         add_eq!(sim_data, Symbol(\"cqSym4_\", n), 1, x -> vs(x, Symbol(\"q\", n))[13] - vs(x, Symbol(\"q\", n))[14]) \n",
    "#     end\n",
    "    \n",
    "#     for n = 1:N-1\n",
    "#         add_eq!(sim_data, Symbol(\"cnSym1_\", n), 1, x -> vs(x, Symbol(\"c_n1_\", n)) - vs(x, Symbol(\"c_n4_\", n)))\n",
    "#         add_eq!(sim_data, Symbol(\"cnSym2_\", n), 1, x -> vs(x, Symbol(\"c_n2_\", n)) - vs(x, Symbol(\"c_n3_\", n)))\n",
    "#     end\n",
    "    \n",
    "#     for n = 1:1\n",
    "#         add_eq!(sim_data, Symbol(\"cn1_\", n), 1, x -> vs(x, Symbol(\"c_n1_\", n)))\n",
    "#         add_eq!(sim_data, Symbol(\"cn4_\", n), 1, x -> vs(x, Symbol(\"c_n4_\", n)))\n",
    "#     end\n",
    "#     for n = Int(N/2):Int(N/2)\n",
    "#         add_eq!(sim_data, Symbol(\"cn1air_\", n), 1, x -> vs(x, Symbol(\"c_n1_\", n)))\n",
    "#         add_eq!(sim_data, Symbol(\"cn2air_\", n), 1, x -> vs(x, Symbol(\"c_n2_\", n)))\n",
    "#         add_eq!(sim_data, Symbol(\"cn3air_\", n), 1, x -> vs(x, Symbol(\"c_n3_\", n)))\n",
    "#         add_eq!(sim_data, Symbol(\"cn4air_\", n), 1, x -> vs(x, Symbol(\"c_n4_\", n)))\n",
    "#     end\n",
    "#     for n = N-1:N-1\n",
    "#         add_eq!(sim_data, Symbol(\"cn2_\", n), 1, x -> vs(x, Symbol(\"c_n2_\", n)))\n",
    "#         add_eq!(sim_data, Symbol(\"cn3_\", n), 1, x -> vs(x, Symbol(\"c_n3_\", n)))\n",
    "#     end\n",
    "    \n",
    "#     flight_n = [Int(N/4),Int(3*N/4)]\n",
    "#     for n = flight_n\n",
    "#         add_eq!(sim_data, Symbol(\"cn1flight_\", n), 1, x -> vs(x, Symbol(\"c_n1_\", n)))\n",
    "#         add_eq!(sim_data, Symbol(\"cn2flight_\", n), 1, x -> vs(x, Symbol(\"c_n2_\", n)))\n",
    "#         add_eq!(sim_data, Symbol(\"cn3flight_\", n), 1, x -> vs(x, Symbol(\"c_n3_\", n)))\n",
    "#         add_eq!(sim_data, Symbol(\"cn4flight_\", n), 1, x -> vs(x, Symbol(\"c_n4_\", n)))\n",
    "#     end    \n",
    "    \n",
    "#     for n = 1:N\n",
    "#         add_eq!(sim_data, Symbol(\"cqSym1_\", n), 1, x -> vs(x, Symbol(\"q\", n))[8] + vs(x, Symbol(\"q\", n))[9])\n",
    "#         add_eq!(sim_data, Symbol(\"cqSym2_\", n), 1, x -> vs(x, Symbol(\"q\", n))[10] + vs(x, Symbol(\"q\", n))[11]) \n",
    "#     end\n",
    "end\n",
    "\n",
    "function add_prob_obj!(sim_data)\n",
    "    vs = sim_data.vs    \n",
    "#     for n = 1:N-1\n",
    "#         add_obj!(sim_data, Symbol(\"u\", n), x -> sim_data.vs(x, Symbol(\"u\", n))' * sim_data.vs(x, Symbol(\"u\", n)))\n",
    "#     end\n",
    "#     for n = 1:N\n",
    "#         add_obj!(sim_data, Symbol(\"q\", n), x -> (sim_data.vs(x, Symbol(\"q\", n))[2:end] - q_nom[2:end])' * (sim_data.vs(x, Symbol(\"q\", n))[2:end] - q_nom[2:end]))\n",
    "#     end\n",
    "#     for n = 1:N\n",
    "#         add_obj!(sim_data, Symbol(\"q\", n), x -> sim_data.vs(x, Symbol(\"q\", n))[3]' * sim_data.vs(x, Symbol(\"q\", n))[3])\n",
    "#     end\n",
    "    for n = 1:N-1\n",
    "        add_obj!(sim_data, Symbol(\"c_n1_\", n), x -> vs(x, Symbol(\"c_n1_\", n))' * vs(x, Symbol(\"c_n1_\", n)))\n",
    "        add_obj!(sim_data, Symbol(\"c_n2_\", n), x -> vs(x, Symbol(\"c_n2_\", n))' * vs(x, Symbol(\"c_n2_\", n)))\n",
    "        add_obj!(sim_data, Symbol(\"c_n3_\", n), x -> vs(x, Symbol(\"c_n3_\", n))' * vs(x, Symbol(\"c_n3_\", n)))\n",
    "        add_obj!(sim_data, Symbol(\"c_n4_\", n), x -> vs(x, Symbol(\"c_n4_\", n))' * vs(x, Symbol(\"c_n4_\", n)))\n",
    "    end\n",
    "end\n",
    "\n",
    "function get_prob_limits(sim_data)\n",
    "    x_min = -1e19*ones(sim_data.vs.num_vars)\n",
    "    x_max = 1e19*ones(sim_data.vs.num_vars)\n",
    "    \n",
    "    # joint limits\n",
    "    add_box_con_snopt!(x_min, x_max, sim_data, :q, q_min, q_max, 1:N)\n",
    "    add_box_con_snopt!(x_min, x_max, sim_data, :h, [Δt], [Δt], 1:N-1)\n",
    "    \n",
    "    # torques limits\n",
    "#     u_limit = 1.\n",
    "#     add_box_con_snopt!(x_min, x_max, sim_data, :u, -u_limit * ones(num_velocities(mechanism)), u_limit * ones(num_velocities(mechanism)), 1:N-1)\n",
    "    \n",
    "    # velocity limits\n",
    "    v_limit = .5\n",
    "    add_box_con_snopt!(x_min, x_max, sim_data, :v, -v_limit * ones(num_velocities(mechanism)), v_limit * ones(num_velocities(mechanism)), 1:N)\n",
    "    \n",
    "    x_min, x_max\n",
    "end\n",
    "\n",
    "function get_prob_init(sim_data)\n",
    "    x0 = zeros(sim_data.vs.num_vars)\n",
    "    for n = 1:N\n",
    "        qn = copy(q_nom)\n",
    "#         qn[1] = (n/N)*(x_goal - 0.) + 0.\n",
    "        x0[sim_data.vs(Symbol(\"q\", n))] .= qn\n",
    "    end\n",
    "    \n",
    "    x0\n",
    "end\n",
    "\n",
    "function setup_prob!(sim_data)\n",
    "    add_prob_constraints!(sim_data)\n",
    "    add_prob_obj!(sim_data)\n",
    "    x_min, x_max = get_prob_limits(sim_data)\n",
    "    x0 = get_prob_init(sim_data)\n",
    "    \n",
    "    x0, x_min, x_max\n",
    "end"
   ]
  },
  {
   "cell_type": "code",
   "execution_count": 212,
   "metadata": {},
   "outputs": [],
   "source": [
    "# Semidirect\n",
    "\n",
    "sim_data = get_trajopt_data_semidirect(mechanism,env,Δt,N,relax_comp=false)\n",
    "x0, x_min, x_max = setup_prob!(sim_data);"
   ]
  },
  {
   "cell_type": "code",
   "execution_count": 214,
   "metadata": {},
   "outputs": [
    {
     "data": {
      "text/plain": [
       "(Array{Float64,1}[[-1.35525e-20, -0.105631, 0.0151207, 0.25, -0.228032, 0.226722, -0.25, 0.226584, 0.87551, -0.881127, -0.277495, -1.66689, -2.03281, 1.98607, 1.65675], [0.00192023, -0.10346, 0.0155942, 0.247965, -0.23581, 0.226722, -0.25, 0.213648, 0.85051, -0.856127, -0.252495, -1.68219, -2.04966, 2.00661, 1.6599], [0.00519303, -0.101367, 0.018577, 0.247965, -0.244149, 0.248369, -0.25, 0.199784, 0.82551, -0.881127, -0.257349, -1.69922, -2.06767, 2.02228, 1.68104], [0.00972566, -0.101367, 0.0308295, 0.247965, -0.246642, 0.248743, -0.25, 0.197914, 0.848421, -0.906127, -0.255937, -1.72145, -2.09267, 2.00933, 1.65604], [0.0149752, -0.102672, 0.03145, 0.247965, -0.25, 0.248743, -0.248814, 0.197914, 0.823421, -0.881127, -0.275185, -1.70864, -2.06767, 1.98433, 1.65672], [0.0207723, -0.105322, 0.0318882, 0.247965, -0.225, 0.223743, -0.247859, 0.219937, 0.799138, -0.860358, -0.300185, -1.6986, -2.04267, 1.95933, 1.6467], [0.0267967, -0.106248, 0.0381244, 0.25, -0.23076, 0.223743, -0.25, 0.213526, 0.774138, -0.885358, -0.31709, -1.6943, -2.02936, 1.94367, 1.63611], [0.0329728, -0.104551, 0.0323602, 0.249145, -0.227723, 0.223743, -0.249762, 0.192531, 0.78737, -0.860358, -0.297117, -1.68503, -2.04732, 1.96867, 1.651], [0.0389433, -0.102081, 0.0274732, 0.248692, -0.25, 0.246521, -0.249762, 0.195966, 0.81237, -0.844388, -0.276967, -1.7053, -2.06503, 1.98891, 1.67188], [0.0442728, -0.101557, 0.0324663, 0.248692, -0.25, 0.246521, -0.249762, 0.207797, 0.83737, -0.869388, -0.276967, -1.7303, -2.08744, 1.99536, 1.66799], [0.0485246, -0.102805, 0.024306, 0.247707, -0.240987, 0.238885, -0.247859, 0.212362, 0.830877, -0.889094, -0.286252, -1.7053, -2.06244, 2.00285, 1.67842], [0.0516793, -0.103872, 0.0180524, 0.25, -0.227642, 0.226722, -0.25, 0.226584, 0.85051, -0.906127, -0.277495, -1.69189, -2.05336, 2.01107, 1.67065], [0.0534837, -0.105631, 0.0151207, 0.25, -0.228032, 0.226722, -0.25, 0.226584, 0.87551, -0.881127, -0.277495, -1.66689, -2.03281, 1.98607, 1.65675], [0.0534837, -0.105631, 0.0151207, 0.25, -0.228032, 0.226722, -0.25, 0.226584, 0.87551, -0.881127, -0.277495, -1.66689, -2.03281, 1.98607, 1.65675]], Array{Float64,1}[[0.0, 0.0, 0.0, 0.0, 0.0, 0.0, 0.0, 0.0, 0.0, 0.0, 0.0, 0.0, 0.0, 0.0, 0.0], [0.0390767, 0.0428129, 0.00947048, -0.0407089, -0.155569, -8.27181e-25, 0.0, -0.258724, -0.5, 0.5, 0.5, -0.306075, -0.336933, 0.410814, 0.0631169], [0.0662222, 0.0406439, 0.059656, 0.0, -0.166775, 0.43293, 0.0, -0.277274, -0.5, -0.5, -0.0970871, -0.34051, -0.360203, 0.313338, 0.422711], [0.0906098, -0.0027863, 0.245049, 0.0, -0.0498726, 0.00749022, 0.0, -0.0374107, 0.458217, -0.5, 0.0282434, -0.444674, -0.5, -0.25896, -0.5], [0.104118, -0.0294048, 0.0124111, 0.0, -0.0671525, 0.0, 0.0237182, 0.0, -0.5, 0.5, -0.384959, 0.256254, 0.5, -0.5, 0.0135103], [0.114194, -0.0566543, 0.00876326, 0.0, 0.5, -0.5, 0.0191094, 0.440472, -0.485658, 0.415399, -0.5, 0.200849, 0.5, -0.5, -0.200345], [0.119694, -0.0231139, 0.124724, 0.0407089, -0.1152, 0.0, -0.0428277, -0.128228, -0.5, -0.5, -0.33809, 0.0859865, 0.266186, -0.313316, -0.211839], [0.124555, 0.0299431, -0.115285, -0.0170932, 0.0607477, 4.3715e-16, 0.00476345, -0.419899, 0.26464, 0.5, 0.39946, 0.185342, -0.359168, 0.5, 0.297786], [0.120719, 0.046084, -0.0977388, -0.00905969, -0.445547, 0.455556, 0.0, 0.0687046, 0.5, 0.319387, 0.402999, -0.405422, -0.354157, 0.404792, 0.417785], [0.106874, 0.0070207, 0.0998626, 0.0, 0.0, 0.0, 0.0, 0.236625, 0.5, -0.5, 0.0, -0.5, -0.448261, 0.12904, -0.0779824], [0.084404, -0.0270216, -0.163206, -0.0197034, 0.180261, -0.152719, 0.0380642, 0.0912936, -0.129861, -0.394109, -0.185705, 0.5, 0.5, 0.149885, 0.208719], [0.0627021, -0.0224779, -0.125072, 0.0458563, 0.266899, -0.243257, -0.0428277, 0.284441, 0.392661, -0.340676, 0.175139, 0.26825, 0.18161, 0.164407, -0.155348], [0.0355505, -0.0357197, -0.0586347, 0.0, -0.00779029, 0.0, 0.0, 0.0, 0.5, 0.5, 0.0, 0.5, 0.410926, -0.5, -0.278111], [0.0, 0.0, 0.0, 0.0, 0.0, 0.0, 0.0, 0.0, 0.0, 0.0, 0.0, 0.0, 0.0, 0.0, 0.0]], Array{Float64,1}[[1.93503, -9.14149, -0.0423904, -0.0973861, 0.0838729, -0.0888007, 0.111539, -0.15522, -0.283968, 0.28809, 0.172966, -0.100762, -0.10559, 0.109516, 0.114334], [1.51543, -5.81978, -0.0592514, -0.165042, 0.0982735, -0.130213, 0.193654, -0.222399, -0.308843, 0.390579, 0.262622, -0.146517, -0.117156, 0.145366, 0.17356], [1.17408, -2.4432, -0.0366451, -0.235637, 0.132144, -0.140196, 0.275231, -0.297962, -0.395421, 0.423201, 0.357271, -0.192617, -0.145388, 0.153223, 0.232291], [0.848466, -1.18641, -0.279326, -0.134109, 0.197168, -0.193638, 0.26206, -0.198893, -0.54372, 0.53723, 0.345871, -0.130655, -0.190104, 0.188662, 0.220524], [0.489119, -2.55954, -0.0975152, -0.153422, 0.208834, -0.132531, 0.24121, -0.219447, -0.563441, 0.395412, 0.342159, -0.141614, -0.201004, 0.14731, 0.209036], [0.106075, -5.9438, 0.109986, -0.211412, 0.146723, 0.0518358, 0.228408, -0.279831, -0.413108, -0.0372903, 0.32978, -0.172061, -0.152507, 0.00779383, 0.196583], [-0.231966, -8.80837, -0.072509, -0.11629, 0.0693187, -0.0923122, 0.105114, -0.172579, -0.232461, 0.294296, 0.173478, -0.113173, -0.094454, 0.110171, 0.107971], [-0.450683, -6.13916, 0.0373477, -0.191676, 0.11674, -0.0599032, 0.185051, -0.242577, -0.347234, 0.221353, 0.264766, -0.161867, -0.130426, 0.0905433, 0.166742], [-0.747712, -2.87747, 0.0910856, -0.24119, 0.187895, -0.100755, 0.234634, -0.304882, -0.513674, 0.318215, 0.324819, -0.195709, -0.181715, 0.123371, 0.205553], [-1.08833, -1.358, -0.01706, -0.262856, 0.204742, -0.0889947, 0.251659, -0.334409, -0.565779, 0.300297, 0.349897, -0.212367, -0.198627, 0.11366, 0.214359], [-1.37691, -3.13239, -0.0992706, -0.2884, -0.00017024, -0.0747958, 0.33271, -0.354131, -0.0807065, 0.275291, 0.44702, -0.223407, -0.0455601, 0.104043, 0.267927], [-1.6167, -6.05702, 0.0408823, -0.181417, 0.142255, -0.0806573, 0.181683, -0.243042, -0.440876, 0.293944, 0.269459, -0.156703, -0.156835, 0.109715, 0.166564], [-2.01166, -6.03225, 0.0345425, -0.167904, 0.0952834, -0.0928133, 0.155986, -0.221713, -0.313035, 0.308857, 0.23799, -0.145023, -0.114857, 0.115816, 0.145898]], [0.05, 0.05, 0.05, 0.05, 0.05, 0.05, 0.05, 0.05, 0.05, 0.05, 0.05, 0.05, 0.05], Array{Float64,1}[[0.132992, 0.139842, 0.145998, 0.152984], [0.198825, 0.156765, 0.198914, 0.23825], [0.265172, 0.197594, 0.2096, 0.32258], [0.175473, 0.26227, 0.260854, 0.306028], [0.191536, 0.276283, 0.199754, 0.289203], [0.236333, 0.207734, 0.000387227, 0.271807], [0.150959, 0.12382, 0.146457, 0.143882], [0.221281, 0.176707, 0.119172, 0.228389], [0.269805, 0.250444, 0.165983, 0.283871], [0.293497, 0.274207, 0.151819, 0.296816], [0.310319, 0.0538334, 0.137634, 0.374485], [0.213786, 0.21415, 0.145568, 0.22782], [0.197404, 0.153891, 0.154702, 0.198298]], Array{Float64,1}[], [0.0, 0.05, 0.1, 0.15, 0.2, 0.25, 0.3, 0.35, 0.4, 0.45, 0.5, 0.55, 0.6, 0.65], [-1.35525e-20 0.00192023 … 0.0534837 0.0534837; -0.105631 -0.10346 … -0.105631 -0.105631; … ; 0.0 0.410814 … -0.5 0.0; 0.0 0.0631169 … -0.278111 0.0], [-1.35525e-20, -0.105631, 0.0151207, 0.25, -0.228032, 0.226722, -0.25, 0.226584, 0.87551, -0.881127  …  0.0, 0.0, 0.0, 0.0, 0.0, 0.0, 0.0, 0.0, 0.0, 0.0])"
      ]
     },
     "metadata": {},
     "output_type": "display_data"
    },
    {
     "name": "stdout",
     "output_type": "stream",
     "text": [
      "Resource limit error: iteration limit reached\n",
      " 22.097111 seconds (72.16 M allocations: 19.920 GiB, 26.40% gc time)\n"
     ]
    }
   ],
   "source": [
    "con_tol = 1e-5\n",
    "obj_tol = 1e-5\n",
    "max_iter = 1000\n",
    "\n",
    "display(@time traj_semidirect = Bilevel.trajopt(sim_data, x0=x0, x_min=x_min, x_max=x_max, verbose=1, opt_tol=obj_tol, major_feas=con_tol, minor_feas=con_tol, max_iter=max_iter))\n",
    "\n",
    "x0 = traj_semidirect[9]\n",
    "\n",
    "setanimation!(mvis, traj_semidirect[7], traj_semidirect[1])"
   ]
  },
  {
   "cell_type": "code",
   "execution_count": null,
   "metadata": {},
   "outputs": [],
   "source": [
    "set_configuration!(mvis, traj_semidirect[1][10])"
   ]
  },
  {
   "cell_type": "code",
   "execution_count": null,
   "metadata": {},
   "outputs": [],
   "source": [
    "function run_trajopt()\n",
    "    Bilevel.solve_rosenbrock() # clearing SNOPT\n",
    "    Bilevel.trajopt(sim_data, x0=x0, x_min=x_min, x_max=x_max, verbose=0, opt_tol=obj_tol, major_feas=con_tol, minor_feas=con_tol, max_iter=max_iter)\n",
    "end\n",
    "\n",
    "@benchmark run_trajopt()"
   ]
  },
  {
   "cell_type": "code",
   "execution_count": 199,
   "metadata": {},
   "outputs": [
    {
     "data": {
      "text/plain": [
       "0.1"
      ]
     },
     "execution_count": 199,
     "metadata": {},
     "output_type": "execute_result"
    }
   ],
   "source": [
    "maximum(abs.(vcat(traj_semidirect[2]...)))"
   ]
  },
  {
   "cell_type": "code",
   "execution_count": null,
   "metadata": {},
   "outputs": [],
   "source": [
    "cntraj = hcat(traj_semidirect[5]...)\n",
    "front_traj = cntraj[1,:] .+ cntraj[2,:]\n",
    "back_traj = cntraj[3,:] .+ cntraj[4,:];"
   ]
  },
  {
   "cell_type": "code",
   "execution_count": null,
   "metadata": {},
   "outputs": [],
   "source": [
    "xlabel=latexstring(\"t\")\n",
    "ylabel=latexstring(\"c_n\")\n",
    "plot(traj_semidirect[7][1:end-1],front_traj,label=\"Front legs\",seriescolor=RGB(((227,174,51) ./ 255.)...),linewidth=6,marker=6,xlabel=xlabel)\n",
    "plot!(traj_semidirect[7][1:end-1],back_traj,label=\"Back legs\",seriescolor=RGB(((154,132,200) ./ 255.)...),linewidth=6,marker=6,ylabel=ylabel)"
   ]
  },
  {
   "cell_type": "code",
   "execution_count": null,
   "metadata": {},
   "outputs": [],
   "source": [
    "plot(traj_semidirect[8][16,:])"
   ]
  },
  {
   "cell_type": "code",
   "execution_count": null,
   "metadata": {},
   "outputs": [],
   "source": [
    "savefig(string(\"littledog.svg\")) "
   ]
  },
  {
   "cell_type": "code",
   "execution_count": null,
   "metadata": {},
   "outputs": [],
   "source": [
    "xlabel=latexstring(\"x\")\n",
    "ylabel=latexstring(\"z\")\n",
    "plot(traj_semidirect[8][1,:],-traj_semidirect[8][2,:],front_traj,label=\"Torso center of mass position\",seriescolor=RGB(((127,174,51) ./ 255.)...),linewidth=6,marker=6,xlabel=xlabel,ylabel=ylabel)"
   ]
  },
  {
   "cell_type": "code",
   "execution_count": null,
   "metadata": {},
   "outputs": [],
   "source": [
    "savefig(string(\"littledogcom.svg\")) "
   ]
  },
  {
   "cell_type": "code",
   "execution_count": null,
   "metadata": {},
   "outputs": [],
   "source": [
    "setanimation!(mvis, traj_semidirect[7], traj_semidirect[1])"
   ]
  },
  {
   "cell_type": "code",
   "execution_count": null,
   "metadata": {},
   "outputs": [],
   "source": [
    "t_step = traj_semidirect[7]\n",
    "q_step = traj_semidirect[1]\n",
    "u_step = traj_semidirect[2][2:end];"
   ]
  },
  {
   "cell_type": "code",
   "execution_count": null,
   "metadata": {},
   "outputs": [],
   "source": [
    "# Multi-steps\n",
    "\n",
    "reps = 10\n",
    "\n",
    "ttraj = t_step\n",
    "qtraj = q_step\n",
    "utraj = u_step\n",
    "for i = 1:(reps-1)\n",
    "    ttraj = vcat(ttraj, t_step .+ ttraj[end])\n",
    "    qtraj = vcat(qtraj, map(q -> q + vcat(qtraj[end][1],zeros(length(q)-1)), q_step))\n",
    "    utraj = vcat(utraj, u_step)\n",
    "end\n",
    "\n",
    "setanimation!(mvis, ttraj, qtraj)"
   ]
  },
  {
   "cell_type": "code",
   "execution_count": 179,
   "metadata": {},
   "outputs": [],
   "source": [
    "# Indirect\n",
    "\n",
    "sim_data = get_trajopt_data_indirect(mechanism,env,Δt,N,relax_comp=true)\n",
    "x0, x_min, x_max = setup_prob!(sim_data);"
   ]
  },
  {
   "cell_type": "code",
   "execution_count": 180,
   "metadata": {},
   "outputs": [
    {
     "name": "stdout",
     "output_type": "stream",
     "text": [
      "Resource limit error: iteration limit reached\n"
     ]
    },
    {
     "data": {
      "text/plain": [
       "(Array{Float64,1}[[-9.20924e-7, -0.102781, -0.00014317, 0.226321, -0.226273, 0.226598, -0.228488, 0.825068, 0.825037, -0.825096, -0.824324, -2.03021, -2.03023, 2.03051, 2.03728], [-9.20924e-7, -0.102781, -0.00014317, 0.226321, -0.226273, 0.226598, -0.228488, 0.825068, 0.825037, -0.825096, -0.824324, -2.03021, -2.03023, 2.03051, 2.03728], [-9.20924e-7, -0.102781, -0.00014317, 0.226321, -0.226273, 0.226598, -0.228488, 0.825068, 0.825037, -0.825096, -0.824324, -2.03021, -2.03023, 2.03051, 2.03728], [-9.20924e-7, -0.102781, -0.00014317, 0.226321, -0.226273, 0.226598, -0.228488, 0.825068, 0.825037, -0.825096, -0.824324, -2.03021, -2.03023, 2.03051, 2.03728], [-9.20924e-7, -0.102781, -0.00014317, 0.226321, -0.226273, 0.226598, -0.228488, 0.825068, 0.825037, -0.825096, -0.824324, -2.03021, -2.03023, 2.03051, 2.03728], [-9.20924e-7, -0.102781, -0.00014317, 0.226321, -0.226273, 0.226598, -0.228488, 0.825068, 0.825037, -0.825096, -0.824324, -2.03021, -2.03023, 2.03051, 2.03728], [-9.20924e-7, -0.102781, -0.00014317, 0.226321, -0.226273, 0.226598, -0.228488, 0.825068, 0.825037, -0.825096, -0.824324, -2.03021, -2.03023, 2.03051, 2.03728], [-9.20924e-7, -0.102781, -0.00014317, 0.226321, -0.226273, 0.226598, -0.228488, 0.825068, 0.825037, -0.825096, -0.824324, -2.03021, -2.03023, 2.03051, 2.03728], [-9.20924e-7, -0.102781, -0.00014317, 0.226321, -0.226273, 0.226598, -0.228488, 0.825068, 0.825037, -0.825096, -0.824324, -2.03021, -2.03023, 2.03051, 2.03728], [-9.20924e-7, -0.102781, -0.00014317, 0.226321, -0.226273, 0.226598, -0.228488, 0.825068, 0.825037, -0.825096, -0.824324, -2.03021, -2.03023, 2.03051, 2.03728], [-9.20924e-7, -0.102781, -0.00014317, 0.226321, -0.226273, 0.226598, -0.228488, 0.825068, 0.825037, -0.825096, -0.824324, -2.03021, -2.03023, 2.03051, 2.03728], [-9.20924e-7, -0.102781, -0.00014317, 0.226321, -0.226273, 0.226598, -0.228488, 0.825068, 0.825037, -0.825096, -0.824324, -2.03021, -2.03023, 2.03051, 2.03728], [-9.20924e-7, -0.102781, -0.00014317, 0.226321, -0.226273, 0.226598, -0.228488, 0.825068, 0.825037, -0.825096, -0.824324, -2.03021, -2.03023, 2.03051, 2.03728], [-9.20924e-7, -0.102781, -0.00014317, 0.226321, -0.226273, 0.226598, -0.228488, 0.825068, 0.825037, -0.825096, -0.824324, -2.03021, -2.03023, 2.03051, 2.03728], [-9.20924e-7, -0.102781, -0.00014317, 0.226321, -0.226273, 0.226598, -0.228488, 0.825068, 0.825037, -0.825096, -0.824324, -2.03021, -2.03023, 2.03051, 2.03728], [-9.20924e-7, -0.102781, -0.00014317, 0.226321, -0.226273, 0.226598, -0.228488, 0.825068, 0.825037, -0.825096, -0.824324, -2.03021, -2.03023, 2.03051, 2.03728], [-9.20924e-7, -0.102781, -0.00014317, 0.226321, -0.226273, 0.226598, -0.228488, 0.825068, 0.825037, -0.825096, -0.824324, -2.03021, -2.03023, 2.03051, 2.03728], [-9.20924e-7, -0.102781, -0.00014317, 0.226321, -0.226273, 0.226598, -0.228488, 0.825068, 0.825037, -0.825096, -0.824324, -2.03021, -2.03023, 2.03051, 2.03728], [-9.20924e-7, -0.102781, -0.00014317, 0.226321, -0.226273, 0.226598, -0.228488, 0.825068, 0.825037, -0.825096, -0.824324, -2.03021, -2.03023, 2.03051, 2.03728], [-9.20924e-7, -0.102781, -0.00014317, 0.226321, -0.226273, 0.226598, -0.228488, 0.825068, 0.825037, -0.825096, -0.824324, -2.03021, -2.03023, 2.03051, 2.03728]], Array{Float64,1}[[0.0, 0.0, 0.0, 0.0, 0.0, 0.0, 0.0, 0.0, 0.0, 0.0, 0.0, 0.0, 0.0, 0.0, 0.0], [0.0, 0.0, 0.0, 0.0, 0.0, 0.0, 0.0, 0.0, 0.0, 0.0, 0.0, 0.0, 0.0, 0.0, 0.0], [0.0, 0.0, 0.0, 0.0, 0.0, 0.0, 0.0, 0.0, 0.0, 0.0, 0.0, 0.0, 0.0, 0.0, 0.0], [0.0, 0.0, 0.0, 0.0, 0.0, 0.0, 0.0, 0.0, 0.0, 0.0, 0.0, 0.0, 0.0, 0.0, 0.0], [0.0, 0.0, 0.0, 0.0, 0.0, 0.0, 0.0, 0.0, 0.0, 0.0, 0.0, 0.0, 0.0, 0.0, 0.0], [0.0, 0.0, 0.0, 0.0, 0.0, 0.0, 0.0, 0.0, 0.0, 0.0, 0.0, 0.0, 0.0, 0.0, 0.0], [0.0, 0.0, 0.0, 0.0, 0.0, 0.0, 0.0, 0.0, 0.0, 0.0, 0.0, 0.0, 0.0, 0.0, 0.0], [0.0, 0.0, 0.0, 0.0, 0.0, 0.0, 0.0, 0.0, 0.0, 0.0, 0.0, 0.0, 0.0, 0.0, 0.0], [0.0, 0.0, 0.0, 0.0, 0.0, 0.0, 0.0, 0.0, 0.0, 0.0, 0.0, 0.0, 0.0, 0.0, 0.0], [0.0, 0.0, 0.0, 0.0, 0.0, 0.0, 0.0, 0.0, 0.0, 0.0, 0.0, 0.0, 0.0, 0.0, 0.0], [0.0, 0.0, 0.0, 0.0, 0.0, 0.0, 0.0, 0.0, 0.0, 0.0, 0.0, 0.0, 0.0, 0.0, 0.0], [0.0, 0.0, 0.0, 0.0, 0.0, 0.0, 0.0, 0.0, 0.0, 0.0, 0.0, 0.0, 0.0, 0.0, 0.0], [0.0, 0.0, 0.0, 0.0, 0.0, 0.0, 0.0, 0.0, 0.0, 0.0, 0.0, 0.0, 0.0, 0.0, 0.0], [0.0, 0.0, 0.0, 0.0, 0.0, 0.0, 0.0, 0.0, 0.0, 0.0, 0.0, 0.0, 0.0, 0.0, 0.0], [0.0, 0.0, 0.0, 0.0, 0.0, 0.0, 0.0, 0.0, 0.0, 0.0, 0.0, 0.0, 0.0, 0.0, 0.0], [0.0, 0.0, 0.0, 0.0, 0.0, 0.0, 0.0, 0.0, 0.0, 0.0, 0.0, 0.0, 0.0, 0.0, 0.0], [0.0, 0.0, 0.0, 0.0, 0.0, 0.0, 0.0, 0.0, 0.0, 0.0, 0.0, 0.0, 0.0, 0.0, 0.0], [0.0, 0.0, 0.0, 0.0, 0.0, 0.0, 0.0, 0.0, 0.0, 0.0, 0.0, 0.0, 0.0, 0.0, 0.0], [0.0, 0.0, 0.0, 0.0, 0.0, 0.0, 0.0, 0.0, 0.0, 0.0, 0.0, 0.0, 0.0, 0.0, 0.0], [0.0, 0.0, 0.0, 0.0, 0.0, 0.0, 0.0, 0.0, 0.0, 0.0, 0.0, 0.0, 0.0, 0.0, 0.0]], Array{Float64,1}[[0.0, 0.0, 0.0, 0.0, 0.0, 0.0, 0.0, 0.0, 0.0, 0.0, 0.0, 0.0, 0.0, 0.0, 0.0], [0.0, 0.0, 0.0, 0.0, 0.0, 0.0, 0.0, 0.0, 0.0, 0.0, 0.0, 0.0, 0.0, 0.0, 0.0], [0.0, 0.0, 0.0, 0.0, 0.0, 0.0, 0.0, 0.0, 0.0, 0.0, 0.0, 0.0, 0.0, 0.0, 0.0], [0.0, 0.0, 0.0, 0.0, 0.0, 0.0, 0.0, 0.0, 0.0, 0.0, 0.0, 0.0, 0.0, 0.0, 0.0], [0.0, 0.0, 0.0, 0.0, 0.0, 0.0, 0.0, 0.0, 0.0, 0.0, 0.0, 0.0, 0.0, 0.0, 0.0], [0.0, 0.0, 0.0, 0.0, 0.0, 0.0, 0.0, 0.0, 0.0, 0.0, 0.0, 0.0, 0.0, 0.0, 0.0], [0.0, 0.0, 0.0, 0.0, 0.0, 0.0, 0.0, 0.0, 0.0, 0.0, 0.0, 0.0, 0.0, 0.0, 0.0], [0.0, 0.0, 0.0, 0.0, 0.0, 0.0, 0.0, 0.0, 0.0, 0.0, 0.0, 0.0, 0.0, 0.0, 0.0], [0.0, 0.0, 0.0, 0.0, 0.0, 0.0, 0.0, 0.0, 0.0, 0.0, 0.0, 0.0, 0.0, 0.0, 0.0], [0.0, 0.0, 0.0, 0.0, 0.0, 0.0, 0.0, 0.0, 0.0, 0.0, 0.0, 0.0, 0.0, 0.0, 0.0], [0.0, 0.0, 0.0, 0.0, 0.0, 0.0, 0.0, 0.0, 0.0, 0.0, 0.0, 0.0, 0.0, 0.0, 0.0], [0.0, 0.0, 0.0, 0.0, 0.0, 0.0, 0.0, 0.0, 0.0, 0.0, 0.0, 0.0, 0.0, 0.0, 0.0], [0.0, 0.0, 0.0, 0.0, 0.0, 0.0, 0.0, 0.0, 0.0, 0.0, 0.0, 0.0, 0.0, 0.0, 0.0], [0.0, 0.0, 0.0, 0.0, 0.0, 0.0, 0.0, 0.0, 0.0, 0.0, 0.0, 0.0, 0.0, 0.0, 0.0], [0.0, 0.0, 0.0, 0.0, 0.0, 0.0, 0.0, 0.0, 0.0, 0.0, 0.0, 0.0, 0.0, 0.0, 0.0], [0.0, 0.0, 0.0, 0.0, 0.0, 0.0, 0.0, 0.0, 0.0, 0.0, 0.0, 0.0, 0.0, 0.0, 0.0], [0.0, 0.0, 0.0, 0.0, 0.0, 0.0, 0.0, 0.0, 0.0, 0.0, 0.0, 0.0, 0.0, 0.0, 0.0], [0.0, 0.0, 0.0, 0.0, 0.0, 0.0, 0.0, 0.0, 0.0, 0.0, 0.0, 0.0, 0.0, 0.0, 0.0], [0.0, 0.0, 0.0, 0.0, 0.0, 0.0, 0.0, 0.0, 0.0, 0.0, 0.0, 0.0, 0.0, 0.0, 0.0]], [0.025, 0.025, 0.025, 0.025, 0.025, 0.025, 0.025, 0.025, 0.025, 0.025, 0.025, 0.025, 0.025, 0.025, 0.025, 0.025, 0.025, 0.025, 0.025], Array{Float64,1}[[0.0, 0.0, 0.0, 0.0, 0.0, 0.0, 0.0, 0.0, 0.0, 0.0  …  0.0, 0.0, 0.0, 0.0, 0.0, 0.0, 0.0, 0.0, 0.0, 0.0], [0.0, 0.0, 0.0, 0.0, 0.0, 0.0, 0.0, 0.0, 0.0, 0.0  …  0.0, 0.0, 0.0, 0.0, 0.0, 0.0, 0.0, 0.0, 0.0, 0.0], [0.0, 0.0, 0.0, 0.0, 0.0, 0.0, 0.0, 0.0, 0.0, 0.0  …  0.0, 0.0, 0.0, 0.0, 0.0, 0.0, 0.0, 0.0, 0.0, 0.0], [0.0, 0.0, 0.0, 0.0, 0.0, 0.0, 0.0, 0.0, 0.0, 0.0  …  0.0, 0.0, 0.0, 0.0, 0.0, 0.0, 0.0, 0.0, 0.0, 0.0], [0.0, 0.0, 0.0, 0.0, 0.0, 0.0, 0.0, 0.0, 0.0, 0.0  …  0.0, 0.0, 0.0, 0.0, 0.0, 0.0, 0.0, 0.0, 0.0, 0.0], [0.0, 0.0, 0.0, 0.0, 0.0, 0.0, 0.0, 0.0, 0.0, 0.0  …  0.0, 0.0, 0.0, 0.0, 0.0, 0.0, 0.0, 0.0, 0.0, 0.0], [0.0, 0.0, 0.0, 0.0, 0.0, 0.0, 0.0, 0.0, 0.0, 0.0  …  0.0, 0.0, 0.0, 0.0, 0.0, 0.0, 0.0, 0.0, 0.0, 0.0], [0.0, 0.0, 0.0, 0.0, 0.0, 0.0, 0.0, 0.0, 0.0, 0.0  …  0.0, 0.0, 0.0, 0.0, 0.0, 0.0, 0.0, 0.0, 0.0, 0.0], [0.0, 0.0, 0.0, 0.0, 0.0, 0.0, 0.0, 0.0, 0.0, 0.0  …  0.0, 0.0, 0.0, 0.0, 0.0, 0.0, 0.0, 0.0, 0.0, 0.0], [0.0, 0.0, 0.0, 0.0, 0.0, 0.0, 0.0, 0.0, 0.0, 0.0  …  0.0, 0.0, 0.0, 0.0, 0.0, 0.0, 0.0, 0.0, 0.0, 0.0], [0.0, 0.0, 0.0, 0.0, 0.0, 0.0, 0.0, 0.0, 0.0, 0.0  …  0.0, 0.0, 0.0, 0.0, 0.0, 0.0, 0.0, 0.0, 0.0, 0.0], [0.0, 0.0, 0.0, 0.0, 0.0, 0.0, 0.0, 0.0, 0.0, 0.0  …  0.0, 0.0, 0.0, 0.0, 0.0, 0.0, 0.0, 0.0, 0.0, 0.0], [0.0, 0.0, 0.0, 0.0, 0.0, 0.0, 0.0, 0.0, 0.0, 0.0  …  0.0, 0.0, 0.0, 0.0, 0.0, 0.0, 0.0, 0.0, 0.0, 0.0], [0.0, 0.0, 0.0, 0.0, 0.0, 0.0, 0.0, 0.0, 0.0, 0.0  …  0.0, 0.0, 0.0, 0.0, 0.0, 0.0, 0.0, 0.0, 0.0, 0.0], [0.0, 0.0, 0.0, 0.0, 0.0, 0.0, 0.0, 0.0, 0.0, 0.0  …  0.0, 0.0, 0.0, 0.0, 0.0, 0.0, 0.0, 0.0, 0.0, 0.0], [0.0, 0.0, 0.0, 0.0, 0.0, 0.0, 0.0, 0.0, 0.0, 0.0  …  0.0, 0.0, 0.0, 0.0, 0.0, 0.0, 0.0, 0.0, 0.0, 0.0], [0.0, 0.0, 0.0, 0.0, 0.0, 0.0, 0.0, 0.0, 0.0, 0.0  …  0.0, 0.0, 0.0, 0.0, 0.0, 0.0, 0.0, 0.0, 0.0, 0.0], [0.0, 0.0, 0.0, 0.0, 0.0, 0.0, 0.0, 0.0, 0.0, 0.0  …  0.0, 0.0, 0.0, 0.0, 0.0, 0.0, 0.0, 0.0, 0.0, 0.0], [0.0, 0.0, 0.0, 0.0, 0.0, 0.0, 0.0, 0.0, 0.0, 0.0  …  0.0, 0.0, 0.0, 0.0, 0.0, 0.0, 0.0, 0.0, 0.0, 0.0]], Array{Float64,1}[[0.0, 0.0, 0.0], [0.0, 0.0, 0.0], [0.0, 0.0, 0.0], [0.0, 0.0, 0.0], [0.0, 0.0, 0.0], [0.0, 0.0, 0.0], [0.0, 0.0, 0.0], [0.0, 0.0, 0.0], [0.0, 0.0, 0.0], [0.0, 0.0, 0.0]  …  [0.0, 0.0, 0.0], [0.0, 0.0, 0.0], [0.0, 0.0, 0.0], [0.0, 0.0, 0.0], [0.0, 0.0, 0.0], [0.0, 0.0, 0.0], [0.0, 0.0, 0.0], [0.0, 0.0, 0.0], [0.0, 0.0, 0.0], [0.0, 0.0, 0.0]], [0.0, 0.025, 0.05, 0.075, 0.1, 0.125, 0.15, 0.175, 0.2, 0.225, 0.25, 0.275, 0.3, 0.325, 0.35, 0.375, 0.4, 0.425, 0.45, 0.475], [-9.20924e-7 -9.20924e-7 … -9.20924e-7 -9.20924e-7; -0.102781 -0.102781 … -0.102781 -0.102781; … ; 0.0 0.0 … 0.0 0.0; 0.0 0.0 … 0.0 0.0], [-9.20924e-7, -0.102781, -0.00014317, 0.226321, -0.226273, 0.226598, -0.228488, 0.825068, 0.825037, -0.825096  …  0.0, 0.0, 0.0, 0.0, 0.0, 0.0, 0.0, 0.0, 0.0, 0.0])"
      ]
     },
     "metadata": {},
     "output_type": "display_data"
    },
    {
     "name": "stdout",
     "output_type": "stream",
     "text": [
      "114.713693 seconds (151.82 M allocations: 32.539 GiB, 9.59% gc time)\n"
     ]
    }
   ],
   "source": [
    "con_tol = 1e-5\n",
    "obj_tol = 1e-5\n",
    "max_iter = 1000\n",
    "\n",
    "display(@time traj_indirect = Bilevel.trajopt(sim_data, x0=x0, x_min=x_min, x_max=x_max, verbose=1, opt_tol=obj_tol, major_feas=con_tol, minor_feas=con_tol, max_iter=max_iter))\n",
    "\n",
    "x0 = traj_indirect[9]\n",
    "\n",
    "setanimation!(mvis, traj_indirect[7], traj_indirect[1])"
   ]
  },
  {
   "cell_type": "code",
   "execution_count": null,
   "metadata": {},
   "outputs": [],
   "source": [
    "function run_trajopt()\n",
    "    Bilevel.solve_rosenbrock() # clearing SNOPT\n",
    "    Bilevel.trajopt(sim_data, x0=x0, x_min=x_min, x_max=x_max, verbose=0, opt_tol=obj_tol, major_feas=con_tol, minor_feas=con_tol, max_iter=max_iter)\n",
    "end\n",
    "\n",
    "@benchmark run_trajopt()"
   ]
  },
  {
   "cell_type": "code",
   "execution_count": null,
   "metadata": {},
   "outputs": [],
   "source": [
    "setanimation!(mvis, traj_indirect[7], traj_indirect[1])"
   ]
  },
  {
   "cell_type": "code",
   "execution_count": null,
   "metadata": {},
   "outputs": [],
   "source": [
    "t_step = traj_indirect[7]\n",
    "q_step = traj_indirect[1]\n",
    "u_step = traj_indirect[2][2:end];"
   ]
  }
 ],
 "metadata": {
  "kernelspec": {
   "display_name": "Julia 1.1.0",
   "language": "julia",
   "name": "julia-1.1"
  },
  "language_info": {
   "file_extension": ".jl",
   "mimetype": "application/julia",
   "name": "julia",
   "version": "1.1.0"
  }
 },
 "nbformat": 4,
 "nbformat_minor": 2
}
