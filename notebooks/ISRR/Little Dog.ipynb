{
 "cells": [
  {
   "cell_type": "code",
   "execution_count": 450,
   "metadata": {},
   "outputs": [],
   "source": [
    "using Revise\n",
    "using Bilevel\n",
    "\n",
    "using RigidBodyDynamics\n",
    "using MeshCatMechanisms\n",
    "using MeshCat\n",
    "using Plots\n",
    "using LinearAlgebra\n",
    "using StaticArrays"
   ]
  },
  {
   "cell_type": "code",
   "execution_count": 670,
   "metadata": {},
   "outputs": [],
   "source": [
    "urdf = joinpath(\"..\", \"..\", \"urdf\", \"little_dog\", \"little_dog2d.urdf\")\n",
    "mechanism = parse_urdf(Float64, urdf)\n",
    "\n",
    "floor = findbody(mechanism, \"floor\")\n",
    "point = Point3D(default_frame(floor), SVector([0.,0.,0.]...))\n",
    "normal = FreeVector3D(default_frame(floor), SVector([0.,0.,1.]...))\n",
    "floor_obs = Obstacle(floor, point, normal, :xyz, 10.)\n",
    "\n",
    "obstacles = [floor_obs]\n",
    "env = Environment(mechanism, urdf, obstacles);"
   ]
  },
  {
   "cell_type": "code",
   "execution_count": 547,
   "metadata": {},
   "outputs": [
    {
     "name": "stdout",
     "output_type": "stream",
     "text": [
      "Could not open browser automatically: ErrorException(\"failed process: Process(`xdg-open http://127.0.0.1:8703`, ProcessExited(3)) [3]\")\n",
      "Please open the following URL in your browser:\n",
      "http://127.0.0.1:8703\n"
     ]
    },
    {
     "name": "stderr",
     "output_type": "stream",
     "text": [
      "┌ Info: Serving MeshCat visualizer at http://127.0.0.1:8703\n",
      "└ @ MeshCat /home/blandry/.julia/packages/MeshCat/WlA0B/src/servers.jl:24\n",
      "/usr/bin/xdg-open: 778: /usr/bin/xdg-open: www-browser: not found\n",
      "/usr/bin/xdg-open: 778: /usr/bin/xdg-open: links2: not found\n",
      "/usr/bin/xdg-open: 778: /usr/bin/xdg-open: elinks: not found\n",
      "/usr/bin/xdg-open: 778: /usr/bin/xdg-open: links: not found\n",
      "/usr/bin/xdg-open: 778: /usr/bin/xdg-open: lynx: not found\n",
      "/usr/bin/xdg-open: 778: /usr/bin/xdg-open: w3m: not found\n",
      "xdg-open: no method available for opening 'http://127.0.0.1:8703'\n"
     ]
    }
   ],
   "source": [
    "mvis = MechanismVisualizer(mechanism, URDFVisuals(urdf));\n",
    "open(mvis)\n",
    "# IJuliaCell(mvis)"
   ]
  },
  {
   "cell_type": "code",
   "execution_count": 652,
   "metadata": {},
   "outputs": [],
   "source": [
    "N = 8\n",
    "Δt = 0.025\n",
    "q0 = [0., -.275, 0., 0., 0., 0., 0., pi/4, pi/4, -pi/4, -pi/4, -pi/2, -pi/2, pi/2, pi/2] \n",
    "v0 = zeros(num_velocities(mechanism))\n",
    "\n",
    "sim_data = get_sim_data_indirect(mechanism,env,Δt)\n",
    "null_ctrl! = (u,t,x) -> u[:] .= 0.\n",
    "x0 = MechanismState(mechanism)\n",
    "set_configuration!(x0, q0)\n",
    "set_velocity!(x0, v0)\n",
    "setdirty!(x0)\n",
    "traj_sim = Bilevel.simulate(sim_data,null_ctrl!,x0,N)\n",
    "setanimation!(mvis, traj_sim[6], traj_sim[1])"
   ]
  },
  {
   "cell_type": "code",
   "execution_count": 653,
   "metadata": {},
   "outputs": [],
   "source": [
    "set_configuration!(mvis, traj_sim[1][end])"
   ]
  },
  {
   "cell_type": "markdown",
   "metadata": {},
   "source": [
    "## Indirect Method"
   ]
  },
  {
   "cell_type": "code",
   "execution_count": 671,
   "metadata": {},
   "outputs": [
    {
     "data": {
      "text/plain": [
       "setup_prob! (generic function with 1 method)"
      ]
     },
     "execution_count": 671,
     "metadata": {},
     "output_type": "execute_result"
    }
   ],
   "source": [
    "q_nom = copy(traj_sim[1][end])\n",
    "q_min = min.(q_nom, [-5., -.5, -.5*pi, 0., 0., 0., 0., -3.5, -3.5, -3.5, -3.5, -3.1, -3.1, -3.1, -3.1])\n",
    "q_max = max.(q_nom, [5., -0.1, .5*pi, 0., 0., 0., 0., 2.4, 2.4, 2.4, 2.4, 1., 1., 1., 1.])\n",
    "\n",
    "x_goal = 0.1\n",
    "x_goal_net = 0.1\n",
    "\n",
    "N = 10\n",
    "Δt = 0.05\n",
    "\n",
    "function add_prob_constraints!(sim_data)\n",
    "    vs = sim_data.vs\n",
    "\n",
    "    add_eq!(sim_data, :cq1, num_positions(mechanism), x -> vs(x, :q1) - q_nom)\n",
    "    add_eq!(sim_data, :cv1, num_velocities(mechanism), x -> vs(x, :v1))\n",
    "    add_ineq!(sim_data, :cqNx, 1, x -> x_goal - vs(x, Symbol(\"q\", N))[1])\n",
    "    \n",
    "#     for n = 2:N\n",
    "#         add_eq!(sim_data, Symbol(\"cqs1\", n), 1, x -> vs(x, Symbol(\"q\", n))[8] - q_nom[8])\n",
    "#         add_eq!(sim_data, Symbol(\"cqs2\", n), 1, x -> vs(x, Symbol(\"q\", n))[11] - q_nom[11]) \n",
    "#         add_eq!(sim_data, Symbol(\"cqs3\", n), 1, x -> vs(x, Symbol(\"q\", n))[12] - q_nom[12]) \n",
    "#         add_eq!(sim_data, Symbol(\"cqs4\", n), 1, x -> vs(x, Symbol(\"q\", n))[15] - q_nom[15]) \n",
    "#     end\n",
    "end\n",
    "\n",
    "function add_prob_obj!(sim_data)\n",
    "    for n = 1:N-1\n",
    "        add_obj!(sim_data, Symbol(\"u\", n), x -> sim_data.vs(x, Symbol(\"u\", n))' * sim_data.vs(x, Symbol(\"u\", n)))\n",
    "    end\n",
    "end\n",
    "\n",
    "function get_prob_limits(sim_data)\n",
    "    x_min = -1e19*ones(sim_data.vs.num_vars)\n",
    "    x_max = 1e19*ones(sim_data.vs.num_vars)\n",
    "    \n",
    "    # joint limits\n",
    "    add_box_con_snopt!(x_min, x_max, sim_data, :q, q_min, q_max, 1:N)\n",
    "    add_box_con_snopt!(x_min, x_max, sim_data, :h, [1. * Δt], [1. * Δt], 1:N-1)\n",
    "    \n",
    "    # torques limits\n",
    "    u_limit = 10.\n",
    "    add_box_con_snopt!(x_min, x_max, sim_data, :u, -u_limit * ones(num_velocities(mechanism)), u_limit * ones(num_velocities(mechanism)), 1:N-1)\n",
    "    \n",
    "    x_min, x_max\n",
    "end\n",
    "\n",
    "function get_prob_init(sim_data)\n",
    "    x0 = zeros(sim_data.vs.num_vars)\n",
    "    for n = 1:N\n",
    "        qn = copy(q_nom)\n",
    "        qn[1] = (n/N)*(x_goal - q_nom[1]) + q_nom[1]\n",
    "        x0[sim_data.vs(Symbol(\"q\", n))] .= qn\n",
    "    end\n",
    "    \n",
    "    x0\n",
    "end\n",
    "\n",
    "function setup_prob!(sim_data)\n",
    "    add_prob_constraints!(sim_data)\n",
    "    add_prob_obj!(sim_data)\n",
    "    x_min, x_max = get_prob_limits(sim_data)\n",
    "    x0 = get_prob_init(sim_data)\n",
    "    \n",
    "    x0, x_min, x_max\n",
    "end"
   ]
  },
  {
   "cell_type": "code",
   "execution_count": 672,
   "metadata": {},
   "outputs": [],
   "source": [
    "sim_data = get_trajopt_data_indirect(mechanism,env,Δt,N,relax_comp=false)\n",
    "x0, x_min, x_max = setup_prob!(sim_data);"
   ]
  },
  {
   "cell_type": "code",
   "execution_count": 673,
   "metadata": {},
   "outputs": [
    {
     "name": "stdout",
     "output_type": "stream",
     "text": [
      "Resource limit error: iteration limit reached\n"
     ]
    }
   ],
   "source": [
    "con_tol = 1e-3\n",
    "obj_tol = 1e-3\n",
    "max_iter = 10000\n",
    "\n",
    "traj_indirect = Bilevel.trajopt(sim_data, x0=x0, x_min=x_min, x_max=x_max, verbose=1, opt_tol=obj_tol, major_feas=con_tol, minor_feas=con_tol, max_iter=max_iter);\n",
    "\n",
    "x0 = traj_indirect[9]\n",
    "\n",
    "setanimation!(mvis, traj_indirect[7], traj_indirect[1])"
   ]
  },
  {
   "cell_type": "code",
   "execution_count": 559,
   "metadata": {},
   "outputs": [],
   "source": [
    "q_mid = traj_indirect[1][end];\n",
    "v_mid = traj_indirect[2][end];"
   ]
  },
  {
   "cell_type": "code",
   "execution_count": 560,
   "metadata": {},
   "outputs": [
    {
     "data": {
      "text/plain": [
       "get_prob_init (generic function with 1 method)"
      ]
     },
     "execution_count": 560,
     "metadata": {},
     "output_type": "execute_result"
    }
   ],
   "source": [
    "function add_prob_constraints!(sim_data)\n",
    "    vs = sim_data.vs\n",
    "\n",
    "    add_eq!(sim_data, :cq1, num_positions(mechanism), x -> vs(x, :q1) - q_mid)\n",
    "    add_eq!(sim_data, :cv1, num_velocities(mechanism), x -> vs(x, :v1) - v_mid)\n",
    "    add_ineq!(sim_data, :cqNx, 1, x -> x_goal_net - vs(x, Symbol(\"q\", N))[1])\n",
    "    add_ineq!(sim_data, :cqN, num_positions(mechanism)-1, x -> vs(x, Symbol(\"q\", N))[2:end] - q_nom[2:end])\n",
    "    add_eq!(sim_data, :cvN, num_velocities(mechanism), x -> vs(x, Symbol(\"v\", N)))\n",
    "end\n",
    "\n",
    "function get_prob_init(sim_data)\n",
    "    x0 = zeros(sim_data.vs.num_vars)\n",
    "    for n = 1:N\n",
    "        qn = copy(q_nom)\n",
    "        qn[1] = x_goal\n",
    "        x0[sim_data.vs(Symbol(\"q\", n))] .= qn\n",
    "    end\n",
    "    \n",
    "    x0\n",
    "end"
   ]
  },
  {
   "cell_type": "code",
   "execution_count": 561,
   "metadata": {},
   "outputs": [],
   "source": [
    "sim_data = get_trajopt_data_indirect(mechanism,env,Δt,N,relax_comp=false)\n",
    "x0, x_min, x_max = setup_prob!(sim_data);"
   ]
  },
  {
   "cell_type": "code",
   "execution_count": 568,
   "metadata": {},
   "outputs": [
    {
     "name": "stdout",
     "output_type": "stream",
     "text": [
      "Resource limit error: iteration limit reached\n"
     ]
    }
   ],
   "source": [
    "con_tol = 1e-3\n",
    "obj_tol = 1e-3\n",
    "max_iter = 30000\n",
    "\n",
    "traj_indirect2 = Bilevel.trajopt(sim_data, x0=x0, x_min=x_min, x_max=x_max, verbose=1, opt_tol=obj_tol, major_feas=con_tol, minor_feas=con_tol, max_iter=max_iter);\n",
    "\n",
    "x0 = traj_indirect2[9]\n",
    "\n",
    "setanimation!(mvis, traj_indirect2[7], traj_indirect2[1])"
   ]
  },
  {
   "cell_type": "code",
   "execution_count": 523,
   "metadata": {},
   "outputs": [],
   "source": [
    "t_step = vcat(traj_indirect[7], traj_indirect2[7] .+ traj_indirect[7][end])\n",
    "q_step = vcat(traj_indirect[1], traj_indirect2[1]);"
   ]
  },
  {
   "cell_type": "code",
   "execution_count": 525,
   "metadata": {},
   "outputs": [],
   "source": [
    "reps = 1\n",
    "\n",
    "t = t_step\n",
    "qtraj = q_step\n",
    "for i = 1:(reps-1)\n",
    "    t = vcat(t, t_step .+ t[end])\n",
    "    qtraj = vcat(qtraj, map(q -> q + vcat(qtraj[end][1],zeros(length(q)-1)), q_step))\n",
    "end\n",
    "\n",
    "setanimation!(mvis, t, qtraj)"
   ]
  },
  {
   "cell_type": "markdown",
   "metadata": {},
   "source": [
    "## Semidirect Method"
   ]
  },
  {
   "cell_type": "code",
   "execution_count": 545,
   "metadata": {},
   "outputs": [],
   "source": [
    "sim_data = get_trajopt_data_semidirect(mechanism,env,Δt,N,relax_comp=false)\n",
    "x0, x_min, x_max = setup_prob!(sim_data);"
   ]
  },
  {
   "cell_type": "code",
   "execution_count": null,
   "metadata": {},
   "outputs": [],
   "source": [
    "con_tol = 1e-3\n",
    "obj_tol = 1e-3\n",
    "max_iter = 5000\n",
    "steps = 12\n",
    "\n",
    "for n = 1:N-1\n",
    "    sim_data.fric_options[n][\"num_sosteps\"] = steps\n",
    "end\n",
    "\n",
    "traj_semidirect = Bilevel.trajopt(sim_data, x0=x0, x_min=x_min, x_max=x_max, verbose=1, opt_tol=obj_tol, major_feas=con_tol, minor_feas=con_tol, max_iter=max_iter)\n",
    "\n",
    "x0 = traj_semidirect[9]\n",
    "\n",
    "setanimation!(mvis, traj_semidirect[7], traj_semidirect[1])"
   ]
  },
  {
   "cell_type": "code",
   "execution_count": 557,
   "metadata": {},
   "outputs": [],
   "source": [
    "setanimation!(mvis, traj_semidirect[7], traj_semidirect[1])"
   ]
  },
  {
   "cell_type": "code",
   "execution_count": null,
   "metadata": {},
   "outputs": [],
   "source": [
    "q_mid = traj_semidirect[1][end]"
   ]
  },
  {
   "cell_type": "code",
   "execution_count": null,
   "metadata": {},
   "outputs": [],
   "source": [
    "con_tol = 1e-3\n",
    "obj_tol = 1e-3\n",
    "max_iter = 50000\n",
    "steps = 10\n",
    "\n",
    "for n = 1:N-1\n",
    "    sim_data.fric_options[n][\"num_sosteps\"] = steps\n",
    "end\n",
    "\n",
    "traj_semidirect2 = Bilevel.trajopt(sim_data, x0=x0, x_min=x_min, x_max=x_max, verbose=1, opt_tol=obj_tol, major_feas=con_tol, minor_feas=con_tol, max_iter=max_iter)\n",
    "\n",
    "x0 = traj_semidirect2[9]\n",
    "\n",
    "setanimation!(mvis, traj_semidirect2[7], traj_semidirect2[1])"
   ]
  },
  {
   "cell_type": "code",
   "execution_count": null,
   "metadata": {},
   "outputs": [],
   "source": [
    "t_step = vcat(traj_semidirect[7], traj_semidirect2[7] .+ traj_semidirect[7][end])\n",
    "q_step = vcat(traj_semidirect[1], traj_semidirect2[1]);"
   ]
  }
 ],
 "metadata": {
  "kernelspec": {
   "display_name": "Julia 1.1.0",
   "language": "julia",
   "name": "julia-1.1"
  },
  "language_info": {
   "file_extension": ".jl",
   "mimetype": "application/julia",
   "name": "julia",
   "version": "1.1.0"
  }
 },
 "nbformat": 4,
 "nbformat_minor": 2
}
