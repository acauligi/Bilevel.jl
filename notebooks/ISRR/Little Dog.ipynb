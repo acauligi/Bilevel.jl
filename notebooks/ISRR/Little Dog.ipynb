{
 "cells": [
  {
   "cell_type": "code",
   "execution_count": 280,
   "metadata": {},
   "outputs": [],
   "source": [
    "using Revise\n",
    "using Bilevel\n",
    "\n",
    "using RigidBodyDynamics\n",
    "using MeshCatMechanisms\n",
    "using MeshCat\n",
    "using Plots\n",
    "using LinearAlgebra\n",
    "using StaticArrays\n",
    "using Interpolations"
   ]
  },
  {
   "cell_type": "code",
   "execution_count": 198,
   "metadata": {},
   "outputs": [],
   "source": [
    "urdf = joinpath(\"..\", \"..\", \"urdf\", \"little_dog\", \"little_dog2d.urdf\")\n",
    "mechanism = parse_urdf(Float64, urdf)\n",
    "\n",
    "floor = findbody(mechanism, \"floor\")\n",
    "point = Point3D(default_frame(floor), SVector([0.,0.,0.]...))\n",
    "normal = FreeVector3D(default_frame(floor), SVector([0.,0.,1.]...))\n",
    "floor_obs = Obstacle(floor, point, normal, :xyz, 20.)\n",
    "\n",
    "obstacles = [floor_obs]\n",
    "env = Environment(mechanism, urdf, obstacles);"
   ]
  },
  {
   "cell_type": "code",
   "execution_count": 9,
   "metadata": {},
   "outputs": [
    {
     "name": "stderr",
     "output_type": "stream",
     "text": [
      "┌ Info: Serving MeshCat visualizer at http://127.0.0.1:8700\n",
      "└ @ MeshCat /home/blandry/.julia/packages/MeshCat/WlA0B/src/servers.jl:24\n"
     ]
    },
    {
     "data": {
      "text/plain": [
       "Process(`\u001b[4mxdg-open\u001b[24m \u001b[4mhttp://127.0.0.1:8700\u001b[24m`, ProcessExited(0))"
      ]
     },
     "execution_count": 9,
     "metadata": {},
     "output_type": "execute_result"
    },
    {
     "name": "stdout",
     "output_type": "stream",
     "text": [
      "Created new window in existing browser session.\n"
     ]
    }
   ],
   "source": [
    "mvis = MechanismVisualizer(mechanism, URDFVisuals(urdf));\n",
    "open(mvis)\n",
    "# IJuliaCell(mvis)"
   ]
  },
  {
   "cell_type": "code",
   "execution_count": 369,
   "metadata": {},
   "outputs": [],
   "source": [
    "N = 8\n",
    "Δt = 0.025\n",
    "q0 = [0., -.275, 0., 0., 0., 0., 0., pi/4, pi/4, -pi/4, -pi/4, -pi/2, -pi/2, pi/2, pi/2] \n",
    "v0 = zeros(num_velocities(mechanism))\n",
    "\n",
    "sim_data = get_sim_data_indirect(mechanism,env,Δt)\n",
    "null_ctrl! = (u,t,x) -> u[:] .= 0.\n",
    "x0 = MechanismState(mechanism)\n",
    "set_configuration!(x0, q0)\n",
    "set_velocity!(x0, v0)\n",
    "setdirty!(x0)\n",
    "traj_sim = Bilevel.simulate(sim_data,null_ctrl!,x0,N)\n",
    "setanimation!(mvis, traj_sim[6], traj_sim[1])"
   ]
  },
  {
   "cell_type": "markdown",
   "metadata": {},
   "source": [
    "## Indirect Method"
   ]
  },
  {
   "cell_type": "code",
   "execution_count": 370,
   "metadata": {},
   "outputs": [
    {
     "data": {
      "text/plain": [
       "setup_prob! (generic function with 1 method)"
      ]
     },
     "execution_count": 370,
     "metadata": {},
     "output_type": "execute_result"
    }
   ],
   "source": [
    "q_nom = copy(traj_sim[1][end])\n",
    "q_min = min.(q_nom, [-5., -.5, -.2*pi, 0., 0., 0., 0., -3.5, -3.5, -3.5, -3.5, -3.1, -3.1, -3.1, -3.1])\n",
    "q_max = max.(q_nom, [5., -0.1, .2*pi, 0., 0., 0., 0., 2.4, 2.4, 2.4, 2.4, 1., 1., 1., 1.])\n",
    "\n",
    "x_goal = 0.075\n",
    "\n",
    "N = 10\n",
    "Δt = 0.05\n",
    "\n",
    "function add_prob_constraints!(sim_data)\n",
    "    vs = sim_data.vs\n",
    "\n",
    "    add_eq!(sim_data, :cq1, num_positions(mechanism), x -> vs(x, :q1) - q_nom)\n",
    "    add_eq!(sim_data, :cv1, num_velocities(mechanism), x -> vs(x, :v1))\n",
    "    add_ineq!(sim_data, :cqNx, 1, x -> x_goal - vs(x, Symbol(\"q\", N))[1])\n",
    "    add_eq!(sim_data, :cqNlegs, num_positions(mechanism)-1, x -> vs(x, Symbol(\"q\", N))[2:end] - q_nom[2:end])\n",
    "    \n",
    "    for n = 1:N\n",
    "        add_eq!(sim_data, Symbol(\"cq1\", n), 2, x -> vs(x, Symbol(\"q\", n))[8:9] + vs(x, Symbol(\"q\", n))[11:-1:10])\n",
    "        add_eq!(sim_data, Symbol(\"cq2\", n), 2, x -> vs(x, Symbol(\"q\", n))[12:13] + vs(x, Symbol(\"q\", n))[15:-1:14])\n",
    "    end\n",
    "end\n",
    "\n",
    "function add_prob_obj!(sim_data)\n",
    "    for n = 1:N-1\n",
    "        add_obj!(sim_data, Symbol(\"u\", n), x -> sim_data.vs(x, Symbol(\"u\", n))' * sim_data.vs(x, Symbol(\"u\", n)))\n",
    "    end\n",
    "end\n",
    "\n",
    "function get_prob_limits(sim_data)\n",
    "    x_min = -1e19*ones(sim_data.vs.num_vars)\n",
    "    x_max = 1e19*ones(sim_data.vs.num_vars)\n",
    "    \n",
    "    # joint limits\n",
    "    add_box_con_snopt!(x_min, x_max, sim_data, :q, q_min, q_max, 1:N)\n",
    "    add_box_con_snopt!(x_min, x_max, sim_data, :h, [1. * Δt], [1. * Δt], 1:N-1)\n",
    "    \n",
    "    # torques limits\n",
    "    u_limit = 100.\n",
    "    add_box_con_snopt!(x_min, x_max, sim_data, :u, -u_limit * ones(num_velocities(mechanism)), u_limit * ones(num_velocities(mechanism)), 1:N-1)\n",
    "    \n",
    "    x_min, x_max\n",
    "end\n",
    "\n",
    "function get_prob_init(sim_data)\n",
    "    x0 = zeros(sim_data.vs.num_vars)\n",
    "    for n = 1:N\n",
    "        qn = copy(q_nom)\n",
    "        qn[1] = (n/N)*(x_goal - q_nom[1]) + q_nom[1]\n",
    "        x0[sim_data.vs(Symbol(\"q\", n))] .= qn\n",
    "    end\n",
    "    \n",
    "    x0\n",
    "end\n",
    "\n",
    "function setup_prob!(sim_data)\n",
    "    add_prob_constraints!(sim_data)\n",
    "    add_prob_obj!(sim_data)\n",
    "    x_min, x_max = get_prob_limits(sim_data)\n",
    "    x0 = get_prob_init(sim_data)\n",
    "    \n",
    "    x0, x_min, x_max\n",
    "end"
   ]
  },
  {
   "cell_type": "code",
   "execution_count": 254,
   "metadata": {},
   "outputs": [],
   "source": [
    "sim_data = get_trajopt_data_indirect(mechanism,env,Δt,N,relax_comp=false)\n",
    "x0, x_min, x_max = setup_prob!(sim_data);"
   ]
  },
  {
   "cell_type": "code",
   "execution_count": 258,
   "metadata": {},
   "outputs": [
    {
     "name": "stdout",
     "output_type": "stream",
     "text": [
      "Finished successfully: requested accuracy could not be achieved\n"
     ]
    }
   ],
   "source": [
    "con_tol = 1e-3\n",
    "obj_tol = 1e-3\n",
    "max_iter = 50000\n",
    "\n",
    "traj_indirect = Bilevel.trajopt(sim_data, x0=x0, x_min=x_min, x_max=x_max, verbose=1, opt_tol=obj_tol, major_feas=con_tol, minor_feas=con_tol, max_iter=max_iter);\n",
    "\n",
    "x0 = traj_indirect[9]\n",
    "\n",
    "setanimation!(mvis, traj_indirect[7], traj_indirect[1])"
   ]
  },
  {
   "cell_type": "code",
   "execution_count": 275,
   "metadata": {},
   "outputs": [],
   "source": [
    "setanimation!(mvis, traj_indirect[7], traj_indirect[1])"
   ]
  },
  {
   "cell_type": "code",
   "execution_count": 313,
   "metadata": {},
   "outputs": [],
   "source": [
    "t_step = traj_indirect[7]\n",
    "q_step = traj_indirect[1]\n",
    "u_step = traj_indirect[2][2:end];"
   ]
  },
  {
   "cell_type": "code",
   "execution_count": 330,
   "metadata": {},
   "outputs": [],
   "source": [
    "reps = 1\n",
    "\n",
    "ttraj = t_step\n",
    "qtraj = q_step\n",
    "utraj = u_step\n",
    "for i = 1:(reps-1)\n",
    "    ttraj = vcat(ttraj, t_step .+ ttraj[end])\n",
    "    qtraj = vcat(qtraj, map(q -> q + vcat(qtraj[end][1],zeros(length(q)-1)), q_step))\n",
    "    utraj = vcat(utraj, u_step)\n",
    "end\n",
    "\n",
    "setanimation!(mvis, ttraj, qtraj)"
   ]
  },
  {
   "cell_type": "markdown",
   "metadata": {},
   "source": [
    "## Semidirect Method"
   ]
  },
  {
   "cell_type": "code",
   "execution_count": 396,
   "metadata": {},
   "outputs": [],
   "source": [
    "sim_data = get_trajopt_data_semidirect(mechanism,env,Δt,N,relax_comp=false)\n",
    "x0, x_min, x_max = setup_prob!(sim_data);"
   ]
  },
  {
   "cell_type": "code",
   "execution_count": 397,
   "metadata": {},
   "outputs": [
    {
     "name": "stdout",
     "output_type": "stream",
     "text": [
      "Terminated after numerical difficulties: singular basis\n"
     ]
    }
   ],
   "source": [
    "con_tol = 1e-3\n",
    "obj_tol = 1e-3\n",
    "max_iter = 50000\n",
    "steps = 20\n",
    "\n",
    "for n = 1:N-1\n",
    "    sim_data.fric_options[n][\"num_sosteps\"] = steps\n",
    "end\n",
    "\n",
    "traj_semidirect = Bilevel.trajopt(sim_data, x0=x0, x_min=x_min, x_max=x_max, verbose=1, opt_tol=obj_tol, major_feas=con_tol, minor_feas=con_tol, max_iter=max_iter)\n",
    "\n",
    "x0 = traj_semidirect[9]\n",
    "\n",
    "setanimation!(mvis, traj_semidirect[7], traj_semidirect[1])"
   ]
  },
  {
   "cell_type": "code",
   "execution_count": 399,
   "metadata": {},
   "outputs": [],
   "source": [
    "setanimation!(mvis, traj_semidirect[7], traj_semidirect[1])"
   ]
  },
  {
   "cell_type": "code",
   "execution_count": 312,
   "metadata": {},
   "outputs": [],
   "source": [
    "t_step = traj_semidirect[7]\n",
    "q_step = traj_semidirect[1]\n",
    "u_step = traj_semidirect[2][2:end];"
   ]
  },
  {
   "cell_type": "markdown",
   "metadata": {},
   "source": [
    "## Simulation"
   ]
  },
  {
   "cell_type": "code",
   "execution_count": 349,
   "metadata": {},
   "outputs": [
    {
     "data": {
      "text/plain": [
       "feedforward_ctrl! (generic function with 1 method)"
      ]
     },
     "execution_count": 349,
     "metadata": {},
     "output_type": "execute_result"
    }
   ],
   "source": [
    "ctrl_itp = Vector()\n",
    "utraj_mat = hcat(utraj...)\n",
    "for i = 1:num_velocities(mechanism)\n",
    "    # TODO support variable step size\n",
    "    push!(ctrl_itp, Interpolations.CubicSplineInterpolation(0.:Δt:Δt*(N-1)*reps,utraj_mat[i,:],extrapolation_bc=0.))\n",
    "end\n",
    "\n",
    "function feedforward_ctrl!(u,t,x)\n",
    "    u[:] = map(ctrl_itp) do itp\n",
    "       itp(t) / 100.\n",
    "    end\n",
    "end"
   ]
  },
  {
   "cell_type": "code",
   "execution_count": 351,
   "metadata": {},
   "outputs": [],
   "source": [
    "N = 100\n",
    "Δt = 0.005\n",
    "\n",
    "q0 = qtraj[1]\n",
    "v0 = zeros(num_velocities(mechanism))\n",
    "\n",
    "sim_data = get_sim_data_indirect(mechanism,env,Δt)\n",
    "state0 = MechanismState(mechanism)\n",
    "set_configuration!(state0, q0)\n",
    "set_velocity!(state0, v0)\n",
    "setdirty!(state0)\n",
    "\n",
    "traj_sim_ctrl = Bilevel.simulate(sim_data,feedforward_ctrl!,state0,N);\n",
    "\n",
    "setanimation!(mvis, traj_sim_ctrl[6], traj_sim_ctrl[1])"
   ]
  },
  {
   "cell_type": "code",
   "execution_count": 388,
   "metadata": {},
   "outputs": [
    {
     "data": {
      "text/plain": [
       "7.558100786582636"
      ]
     },
     "execution_count": 388,
     "metadata": {},
     "output_type": "execute_result"
    }
   ],
   "source": [
    "maximum(abs.(vcat(traj_semidirect[3]...)))"
   ]
  }
 ],
 "metadata": {
  "kernelspec": {
   "display_name": "Julia 1.1.0",
   "language": "julia",
   "name": "julia-1.1"
  },
  "language_info": {
   "file_extension": ".jl",
   "mimetype": "application/julia",
   "name": "julia",
   "version": "1.1.0"
  }
 },
 "nbformat": 4,
 "nbformat_minor": 2
}
